{
 "cells": [
  {
   "cell_type": "raw",
   "id": "34034dd9-fa73-4ddf-bc72-44b1d975e99b",
   "metadata": {
    "id": "87b5cded-346b-4915-acf5-b5ec93a5207d"
   },
   "source": [
    "---\n",
    "title: \"15wk-2: 기말고사 (예상문제)\"\n",
    "author: \"최규빈\"\n",
    "date: \"06/21/2024\"\n",
    "draft: false\n",
    "---"
   ]
  },
  {
   "cell_type": "markdown",
   "id": "af8ebb0e-500f-41ef-a8cb-1a15c5647d0f",
   "metadata": {
    "id": "e67ab8e0"
   },
   "source": [
    "<a href=\"https://colab.research.google.com/github/guebin/PP2024/blob/main/posts/15wk-2.ipynb\"><img src=\"https://colab.research.google.com/assets/colab-badge.svg\" style=\"text-align: left\"></a>"
   ]
  },
  {
   "cell_type": "code",
   "execution_count": 575,
   "id": "55101797-04a2-4d0d-a83b-4504392062e1",
   "metadata": {
    "tags": []
   },
   "outputs": [],
   "source": [
    "import numpy as np\n",
    "import pandas as pd\n",
    "import matplotlib.pyplot as plt"
   ]
  },
  {
   "cell_type": "markdown",
   "id": "8208d779-d6a1-4e97-bb4d-cf814ccd4f6d",
   "metadata": {
    "tags": []
   },
   "source": [
    "# 1. 공든 탑 쌓기 -- 150점"
   ]
  },
  {
   "cell_type": "markdown",
   "id": "76452539-1513-4e17-a6fc-232b6c70fadf",
   "metadata": {},
   "source": [
    "`(1)` 아래와 같은 기능을 하도록 `Base` 클래스를 만들어라."
   ]
  },
  {
   "cell_type": "markdown",
   "id": "e9aa335d-41dc-4f97-a29d-035dd7dd7e1c",
   "metadata": {},
   "source": [
    "`# 예시1` "
   ]
  },
  {
   "cell_type": "code",
   "execution_count": 663,
   "id": "983a45fd-7bd8-4cec-9ab2-48d44cf73e33",
   "metadata": {
    "tags": []
   },
   "outputs": [],
   "source": [
    "다호 = Base(end_condition=5,name=\"다호\")"
   ]
  },
  {
   "cell_type": "code",
   "execution_count": 664,
   "id": "cdb996bc-a41d-4f51-a788-f032cb397ac4",
   "metadata": {
    "tags": []
   },
   "outputs": [
    {
     "data": {
      "text/plain": [
       "이름: 다호\n",
       "목표높이: 5\n",
       "현재높이: 0\n",
       "진행횟수: 0\n",
       "완성상태: False"
      ]
     },
     "execution_count": 664,
     "metadata": {},
     "output_type": "execute_result"
    }
   ],
   "source": [
    "다호"
   ]
  },
  {
   "cell_type": "code",
   "execution_count": 665,
   "id": "20205857-8916-4af0-aa6a-aed2bb3c03df",
   "metadata": {
    "tags": []
   },
   "outputs": [],
   "source": [
    "다호.탑쌓기()"
   ]
  },
  {
   "cell_type": "code",
   "execution_count": 666,
   "id": "9b6379e6-4298-4681-ba9a-fc2570a65ebf",
   "metadata": {
    "tags": []
   },
   "outputs": [
    {
     "data": {
      "text/plain": [
       "이름: 다호\n",
       "목표높이: 5\n",
       "현재높이: 1\n",
       "진행횟수: 1\n",
       "완성상태: False"
      ]
     },
     "execution_count": 666,
     "metadata": {},
     "output_type": "execute_result"
    }
   ],
   "source": [
    "다호"
   ]
  },
  {
   "cell_type": "code",
   "execution_count": 667,
   "id": "de8cc0c2-89da-4f9a-ae6e-b807df98ef3a",
   "metadata": {
    "tags": []
   },
   "outputs": [],
   "source": [
    "다호.탑쌓기()"
   ]
  },
  {
   "cell_type": "code",
   "execution_count": 668,
   "id": "90a94e59-1afc-45de-8913-07fac0d9d1e8",
   "metadata": {
    "tags": []
   },
   "outputs": [
    {
     "data": {
      "text/plain": [
       "이름: 다호\n",
       "목표높이: 5\n",
       "현재높이: 2\n",
       "진행횟수: 2\n",
       "완성상태: False"
      ]
     },
     "execution_count": 668,
     "metadata": {},
     "output_type": "execute_result"
    }
   ],
   "source": [
    "다호"
   ]
  },
  {
   "cell_type": "markdown",
   "id": "e6c5e687-ea7e-4ebb-bfa9-d701fee7355d",
   "metadata": {},
   "source": [
    "`#`"
   ]
  },
  {
   "cell_type": "markdown",
   "id": "2faed456-5f0d-433f-a60c-321e60d08b56",
   "metadata": {},
   "source": [
    "`# 예시2` "
   ]
  },
  {
   "cell_type": "code",
   "execution_count": 669,
   "id": "f3c56df0-8d4c-49bd-976c-4f427d8fcff4",
   "metadata": {
    "tags": []
   },
   "outputs": [],
   "source": [
    "하니 = Base(end_condition=5,name=\"하니\")"
   ]
  },
  {
   "cell_type": "code",
   "execution_count": 670,
   "id": "7128d226-94ac-4a96-af2e-34344a865e30",
   "metadata": {
    "tags": []
   },
   "outputs": [],
   "source": [
    "for _ in range(5):\n",
    "    하니.탑쌓기()"
   ]
  },
  {
   "cell_type": "code",
   "execution_count": 671,
   "id": "a2b07d07-f64d-460d-be44-a321a476c266",
   "metadata": {
    "tags": []
   },
   "outputs": [
    {
     "data": {
      "text/plain": [
       "이름: 하니\n",
       "목표높이: 5\n",
       "현재높이: 5\n",
       "진행횟수: 5\n",
       "완성상태: True"
      ]
     },
     "execution_count": 671,
     "metadata": {},
     "output_type": "execute_result"
    }
   ],
   "source": [
    "하니 # 목표치에 도달하여 완성상태가 변경"
   ]
  },
  {
   "cell_type": "code",
   "execution_count": 672,
   "id": "4599c780-875a-425e-8449-812cba733525",
   "metadata": {
    "tags": []
   },
   "outputs": [],
   "source": [
    "for _ in range(5):\n",
    "    하니.탑쌓기()"
   ]
  },
  {
   "cell_type": "code",
   "execution_count": 673,
   "id": "a94ff7e8-eb03-40ed-84fb-9792182c3977",
   "metadata": {
    "tags": []
   },
   "outputs": [
    {
     "data": {
      "text/plain": [
       "이름: 하니\n",
       "목표높이: 5\n",
       "현재높이: 5\n",
       "진행횟수: 10\n",
       "완성상태: True"
      ]
     },
     "execution_count": 673,
     "metadata": {},
     "output_type": "execute_result"
    }
   ],
   "source": [
    "하니 # 목표치에 도달하여 더이상 탑이 쌓이지 않았음"
   ]
  },
  {
   "cell_type": "markdown",
   "id": "5d5e2649-0737-4870-b7ea-d23830b1f0d3",
   "metadata": {},
   "source": [
    "`#`"
   ]
  },
  {
   "cell_type": "markdown",
   "id": "77351972-e54f-443d-bd92-ed7611b7212a",
   "metadata": {},
   "source": [
    "`# 예시3`"
   ]
  },
  {
   "cell_type": "code",
   "execution_count": 674,
   "id": "45d34795-4611-4340-8ae6-21bc1531b912",
   "metadata": {
    "tags": []
   },
   "outputs": [],
   "source": [
    "다호 = Base(end_condition=5,name=\"다호\")\n",
    "하니 = Base(end_condition=5,name=\"하니\")"
   ]
  },
  {
   "cell_type": "code",
   "execution_count": 675,
   "id": "760f3d37-715a-4786-b2aa-d29f07a0479f",
   "metadata": {
    "tags": []
   },
   "outputs": [
    {
     "data": {
      "text/plain": [
       "이름: 다호\n",
       "목표높이: 5\n",
       "현재높이: 1\n",
       "진행횟수: 1\n",
       "완성상태: False"
      ]
     },
     "execution_count": 675,
     "metadata": {},
     "output_type": "execute_result"
    }
   ],
   "source": [
    "다호.탑쌓기()\n",
    "다호"
   ]
  },
  {
   "cell_type": "code",
   "execution_count": 676,
   "id": "9b2c06a6-7c81-410f-8178-90ca5bb8eb9a",
   "metadata": {
    "tags": []
   },
   "outputs": [
    {
     "data": {
      "text/plain": [
       "(True, False)"
      ]
     },
     "execution_count": 676,
     "metadata": {},
     "output_type": "execute_result"
    }
   ],
   "source": [
    "다호 > 하니, 다호 < 하니 # 현재높이비교"
   ]
  },
  {
   "cell_type": "code",
   "execution_count": 677,
   "id": "1b55d81d-e532-4bf5-9266-a7b2862bd043",
   "metadata": {
    "tags": []
   },
   "outputs": [
    {
     "data": {
      "text/plain": [
       "이름: 하니\n",
       "목표높이: 5\n",
       "현재높이: 2\n",
       "진행횟수: 2\n",
       "완성상태: False"
      ]
     },
     "execution_count": 677,
     "metadata": {},
     "output_type": "execute_result"
    }
   ],
   "source": [
    "하니.탑쌓기()\n",
    "하니.탑쌓기()\n",
    "하니"
   ]
  },
  {
   "cell_type": "code",
   "execution_count": 678,
   "id": "f8eb751f-5523-465c-8724-785fb16082fe",
   "metadata": {
    "tags": []
   },
   "outputs": [
    {
     "data": {
      "text/plain": [
       "(False, True)"
      ]
     },
     "execution_count": 678,
     "metadata": {},
     "output_type": "execute_result"
    }
   ],
   "source": [
    "다호 > 하니, 다호 < 하니 # 현재높이비교"
   ]
  },
  {
   "cell_type": "markdown",
   "id": "9c1d9165-947a-46ad-80c2-56b19eeb563f",
   "metadata": {},
   "source": [
    "`#`"
   ]
  },
  {
   "cell_type": "markdown",
   "id": "6470048e-b06c-471c-8e2e-a1a8b8aa40f0",
   "metadata": {},
   "source": [
    "`# 예시4`"
   ]
  },
  {
   "cell_type": "code",
   "execution_count": 679,
   "id": "a92e8457-c52c-4f36-8be0-0e00fa75b153",
   "metadata": {
    "tags": []
   },
   "outputs": [],
   "source": [
    "다호 = Base(end_condition=5,name=\"다호\")\n",
    "하니 = Base(end_condition=5,name=\"하니\")"
   ]
  },
  {
   "cell_type": "code",
   "execution_count": 680,
   "id": "1aeee44b-e4b0-4664-b5c8-6f33ad211571",
   "metadata": {
    "tags": []
   },
   "outputs": [
    {
     "data": {
      "text/plain": [
       "이름: 다호\n",
       "목표높이: 5\n",
       "현재높이: 1\n",
       "진행횟수: 1\n",
       "완성상태: False"
      ]
     },
     "execution_count": 680,
     "metadata": {},
     "output_type": "execute_result"
    }
   ],
   "source": [
    "다호.탑쌓기()\n",
    "다호"
   ]
  },
  {
   "cell_type": "code",
   "execution_count": 681,
   "id": "38a798a9-8c72-4f19-ad50-23e7ac3b424b",
   "metadata": {
    "tags": []
   },
   "outputs": [
    {
     "data": {
      "text/plain": [
       "(True, False)"
      ]
     },
     "execution_count": 681,
     "metadata": {},
     "output_type": "execute_result"
    }
   ],
   "source": [
    "다호 > 하니, 다호 < 하니"
   ]
  },
  {
   "cell_type": "code",
   "execution_count": 682,
   "id": "6cb9ade1-b551-4d73-9b52-5a3195cf590c",
   "metadata": {
    "tags": []
   },
   "outputs": [
    {
     "data": {
      "text/plain": [
       "(False, False)"
      ]
     },
     "execution_count": 682,
     "metadata": {},
     "output_type": "execute_result"
    }
   ],
   "source": [
    "다호 >> 하니, 다호 << 하니 # 승리조건 체크 (다호가 1층 높지만 어느 누구도 승리상태아님)"
   ]
  },
  {
   "cell_type": "code",
   "execution_count": 683,
   "id": "792ed274-5112-4366-822e-015cbc5593fb",
   "metadata": {
    "tags": []
   },
   "outputs": [
    {
     "data": {
      "text/plain": [
       "이름: 하니\n",
       "목표높이: 5\n",
       "현재높이: 2\n",
       "진행횟수: 2\n",
       "완성상태: False"
      ]
     },
     "execution_count": 683,
     "metadata": {},
     "output_type": "execute_result"
    }
   ],
   "source": [
    "하니.탑쌓기()\n",
    "하니.탑쌓기()\n",
    "하니"
   ]
  },
  {
   "cell_type": "code",
   "execution_count": 684,
   "id": "57d54414-4de9-42db-a2c5-8bd62f98ff7d",
   "metadata": {
    "tags": []
   },
   "outputs": [
    {
     "data": {
      "text/plain": [
       "(False, True)"
      ]
     },
     "execution_count": 684,
     "metadata": {},
     "output_type": "execute_result"
    }
   ],
   "source": [
    "다호 > 하니, 다호 < 하니"
   ]
  },
  {
   "cell_type": "code",
   "execution_count": 685,
   "id": "2f51f890-d386-4fa3-80dc-5583ae446056",
   "metadata": {
    "tags": []
   },
   "outputs": [
    {
     "data": {
      "text/plain": [
       "(False, False)"
      ]
     },
     "execution_count": 685,
     "metadata": {},
     "output_type": "execute_result"
    }
   ],
   "source": [
    "다호 >> 하니, 다호 << 하니 # 승리조건 체크 (하니가 1층 높지만 어느 누구도 승리상태아님)"
   ]
  },
  {
   "cell_type": "code",
   "execution_count": 686,
   "id": "1512acef-9978-4ab3-ae06-449c2e856db7",
   "metadata": {
    "tags": []
   },
   "outputs": [],
   "source": [
    "다호.탑쌓기()\n",
    "다호.탑쌓기()\n",
    "다호.탑쌓기()\n",
    "다호.탑쌓기()"
   ]
  },
  {
   "cell_type": "code",
   "execution_count": 687,
   "id": "2ce0d22c-a91f-48e6-9a0a-d93f51ac11da",
   "metadata": {
    "tags": []
   },
   "outputs": [
    {
     "data": {
      "text/plain": [
       "이름: 다호\n",
       "목표높이: 5\n",
       "현재높이: 5\n",
       "진행횟수: 5\n",
       "완성상태: True"
      ]
     },
     "execution_count": 687,
     "metadata": {},
     "output_type": "execute_result"
    }
   ],
   "source": [
    "다호 # 다호가 탑을 완성함. 승리조건 달성"
   ]
  },
  {
   "cell_type": "code",
   "execution_count": 688,
   "id": "7e02c6a0-44ed-461b-88c7-2b263cad26ec",
   "metadata": {
    "tags": []
   },
   "outputs": [
    {
     "data": {
      "text/plain": [
       "(True, False)"
      ]
     },
     "execution_count": 688,
     "metadata": {},
     "output_type": "execute_result"
    }
   ],
   "source": [
    "다호 >> 하니, 다호 << 하니 # 승리조건 체크 -- 다호의 승리"
   ]
  },
  {
   "cell_type": "markdown",
   "id": "cf4712e5-8e4a-4b15-9d28-fb8508cfd701",
   "metadata": {},
   "source": [
    "`#`"
   ]
  },
  {
   "cell_type": "markdown",
   "id": "c1098a30-cac2-4f7f-953e-03dbbfecb3c2",
   "metadata": {},
   "source": [
    "`(2)` `Base`를 상속받아 예시와 같은 `Guebin` 클래스를 만들어라."
   ]
  },
  {
   "cell_type": "markdown",
   "id": "09f30d54-971c-4499-a689-3f46e4ed2980",
   "metadata": {},
   "source": [
    "`# 예시1`"
   ]
  },
  {
   "cell_type": "code",
   "execution_count": 730,
   "id": "7183ab08-42f7-4097-ab91-6ff6ebdbf610",
   "metadata": {
    "tags": []
   },
   "outputs": [],
   "source": [
    "규빈 = Guebin(name=\"규빈\",end_condition=5)"
   ]
  },
  {
   "cell_type": "code",
   "execution_count": 731,
   "id": "f4b59575-a291-484f-939a-002b7ba5d2b0",
   "metadata": {
    "tags": []
   },
   "outputs": [
    {
     "data": {
      "text/plain": [
       "0.5"
      ]
     },
     "execution_count": 731,
     "metadata": {},
     "output_type": "execute_result"
    }
   ],
   "source": [
    "규빈.prob"
   ]
  },
  {
   "cell_type": "code",
   "execution_count": 732,
   "id": "1eb57b2c-259d-47fa-9b9b-c6c69193d351",
   "metadata": {
    "tags": []
   },
   "outputs": [
    {
     "data": {
      "text/plain": [
       "이름: 규빈\n",
       "목표높이: 5\n",
       "현재높이: 0\n",
       "진행횟수: 0\n",
       "완성상태: False\n",
       "고유스킬 \n",
       "- 빨리쌓기: 블럭2개를 쌓음. (0.5의 확률로 성공, 실패시 탑은 무너짐)"
      ]
     },
     "execution_count": 732,
     "metadata": {},
     "output_type": "execute_result"
    }
   ],
   "source": [
    "규빈"
   ]
  },
  {
   "cell_type": "code",
   "execution_count": 733,
   "id": "d4d09484-d396-4a0b-b257-af30fdee06b2",
   "metadata": {
    "tags": []
   },
   "outputs": [],
   "source": [
    "규빈.prob = 0.8"
   ]
  },
  {
   "cell_type": "code",
   "execution_count": 734,
   "id": "23b86454-0f17-421f-85e5-da317dcbd0dc",
   "metadata": {
    "tags": []
   },
   "outputs": [
    {
     "data": {
      "text/plain": [
       "이름: 규빈\n",
       "목표높이: 5\n",
       "현재높이: 0\n",
       "진행횟수: 0\n",
       "완성상태: False\n",
       "고유스킬 \n",
       "- 빨리쌓기: 블럭2개를 쌓음. (0.8의 확률로 성공, 실패시 탑은 무너짐)"
      ]
     },
     "execution_count": 734,
     "metadata": {},
     "output_type": "execute_result"
    }
   ],
   "source": [
    "규빈"
   ]
  },
  {
   "cell_type": "markdown",
   "id": "7e9e0eac-1462-4a0e-ad60-4b77e139ad16",
   "metadata": {},
   "source": [
    "`#`"
   ]
  },
  {
   "cell_type": "markdown",
   "id": "b6b612e0-ba71-4e86-92f9-44c1d409de0b",
   "metadata": {},
   "source": [
    "`# 예시2`"
   ]
  },
  {
   "cell_type": "code",
   "execution_count": 745,
   "id": "be09ce21-e0fb-4867-b6ee-5003f543a4b4",
   "metadata": {
    "tags": []
   },
   "outputs": [],
   "source": [
    "규빈 = Guebin(name=\"규빈\",end_condition=5)"
   ]
  },
  {
   "cell_type": "code",
   "execution_count": 746,
   "id": "d5296bf5-13a3-4e4b-9718-a070a12efa62",
   "metadata": {
    "tags": []
   },
   "outputs": [
    {
     "data": {
      "text/plain": [
       "이름: 규빈\n",
       "목표높이: 5\n",
       "현재높이: 2\n",
       "진행횟수: 1\n",
       "완성상태: False\n",
       "고유스킬 \n",
       "- 빨리쌓기: 블럭2개를 쌓음. (0.5의 확률로 성공, 실패시 탑은 무너짐)"
      ]
     },
     "execution_count": 746,
     "metadata": {},
     "output_type": "execute_result"
    }
   ],
   "source": [
    "규빈.탑쌓기()\n",
    "규빈"
   ]
  },
  {
   "cell_type": "code",
   "execution_count": 747,
   "id": "ab1c86ea-d777-4075-b2f8-9d52ac626649",
   "metadata": {
    "tags": []
   },
   "outputs": [],
   "source": [
    "for _ in range(10):\n",
    "    규빈.탑쌓기()"
   ]
  },
  {
   "cell_type": "code",
   "execution_count": 748,
   "id": "91b0e9a2-a1e3-4457-9133-936852a67bc7",
   "metadata": {
    "tags": []
   },
   "outputs": [
    {
     "data": {
      "text/plain": [
       "이름: 규빈\n",
       "목표높이: 5\n",
       "현재높이: 2\n",
       "진행횟수: 11\n",
       "완성상태: False\n",
       "고유스킬 \n",
       "- 빨리쌓기: 블럭2개를 쌓음. (0.5의 확률로 성공, 실패시 탑은 무너짐)"
      ]
     },
     "execution_count": 748,
     "metadata": {},
     "output_type": "execute_result"
    }
   ],
   "source": [
    "규빈"
   ]
  },
  {
   "cell_type": "markdown",
   "id": "a5221867-0c91-406d-86fd-899a701a3d9e",
   "metadata": {},
   "source": [
    "`#`"
   ]
  },
  {
   "cell_type": "code",
   "execution_count": null,
   "id": "694d675b-b0e3-4145-ab4c-b26937505f9e",
   "metadata": {},
   "outputs": [],
   "source": []
  }
 ],
 "metadata": {
  "kernelspec": {
   "display_name": "Python 3 (ipykernel)",
   "language": "python",
   "name": "python3"
  },
  "language_info": {
   "codemirror_mode": {
    "name": "ipython",
    "version": 3
   },
   "file_extension": ".py",
   "mimetype": "text/x-python",
   "name": "python",
   "nbconvert_exporter": "python",
   "pygments_lexer": "ipython3",
   "version": "3.10.13"
  }
 },
 "nbformat": 4,
 "nbformat_minor": 5
}
