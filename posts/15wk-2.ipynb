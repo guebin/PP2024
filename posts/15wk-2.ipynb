{
 "cells": [
  {
   "cell_type": "raw",
   "id": "34034dd9-fa73-4ddf-bc72-44b1d975e99b",
   "metadata": {
    "id": "87b5cded-346b-4915-acf5-b5ec93a5207d"
   },
   "source": [
    "---\n",
    "title: \"15wk-2: 기말고사 (예상문제)\"\n",
    "author: \"최규빈\"\n",
    "date: \"06/21/2024\"\n",
    "draft: false\n",
    "---"
   ]
  },
  {
   "cell_type": "markdown",
   "id": "af8ebb0e-500f-41ef-a8cb-1a15c5647d0f",
   "metadata": {
    "id": "e67ab8e0"
   },
   "source": [
    "<a href=\"https://colab.research.google.com/github/guebin/PP2024/blob/main/posts/15wk-2.ipynb\"><img src=\"https://colab.research.google.com/assets/colab-badge.svg\" style=\"text-align: left\"></a>"
   ]
  },
  {
   "cell_type": "code",
   "execution_count": 575,
   "id": "55101797-04a2-4d0d-a83b-4504392062e1",
   "metadata": {
    "tags": []
   },
   "outputs": [],
   "source": [
    "import numpy as np\n",
    "import pandas as pd\n",
    "import matplotlib.pyplot as plt"
   ]
  },
  {
   "cell_type": "markdown",
   "id": "8208d779-d6a1-4e97-bb4d-cf814ccd4f6d",
   "metadata": {
    "tags": []
   },
   "source": [
    "# 1. 공든 탑 쌓기 -- 150점"
   ]
  },
  {
   "cell_type": "markdown",
   "id": "76452539-1513-4e17-a6fc-232b6c70fadf",
   "metadata": {
    "tags": []
   },
   "source": [
    "## `(1)` `Base` 클래스 설계 "
   ]
  },
  {
   "cell_type": "markdown",
   "id": "45041289-eb23-4aa1-b627-d13573f7b0a9",
   "metadata": {},
   "source": [
    "아래와 같은 기능을 하도록 `Base` 클래스를 만들어라."
   ]
  },
  {
   "cell_type": "markdown",
   "id": "e9aa335d-41dc-4f97-a29d-035dd7dd7e1c",
   "metadata": {},
   "source": [
    "`# 예시1` "
   ]
  },
  {
   "cell_type": "code",
   "execution_count": 861,
   "id": "983a45fd-7bd8-4cec-9ab2-48d44cf73e33",
   "metadata": {
    "tags": []
   },
   "outputs": [],
   "source": [
    "다호 = Base(end_condition=5,name=\"다호\")"
   ]
  },
  {
   "cell_type": "code",
   "execution_count": 862,
   "id": "cdb996bc-a41d-4f51-a788-f032cb397ac4",
   "metadata": {
    "tags": []
   },
   "outputs": [
    {
     "data": {
      "text/plain": [
       "이름: 다호\n",
       "목표높이: 5\n",
       "현재높이: 0\n",
       "진행횟수: 0\n",
       "완성상태: False"
      ]
     },
     "execution_count": 862,
     "metadata": {},
     "output_type": "execute_result"
    }
   ],
   "source": [
    "다호"
   ]
  },
  {
   "cell_type": "code",
   "execution_count": 863,
   "id": "20205857-8916-4af0-aa6a-aed2bb3c03df",
   "metadata": {
    "tags": []
   },
   "outputs": [],
   "source": [
    "다호.탑쌓기()"
   ]
  },
  {
   "cell_type": "code",
   "execution_count": 864,
   "id": "9b6379e6-4298-4681-ba9a-fc2570a65ebf",
   "metadata": {
    "tags": []
   },
   "outputs": [
    {
     "data": {
      "text/plain": [
       "이름: 다호\n",
       "목표높이: 5\n",
       "현재높이: 1\n",
       "진행횟수: 1\n",
       "완성상태: False"
      ]
     },
     "execution_count": 864,
     "metadata": {},
     "output_type": "execute_result"
    }
   ],
   "source": [
    "다호"
   ]
  },
  {
   "cell_type": "code",
   "execution_count": 865,
   "id": "de8cc0c2-89da-4f9a-ae6e-b807df98ef3a",
   "metadata": {
    "tags": []
   },
   "outputs": [],
   "source": [
    "다호.탑쌓기()"
   ]
  },
  {
   "cell_type": "code",
   "execution_count": 866,
   "id": "90a94e59-1afc-45de-8913-07fac0d9d1e8",
   "metadata": {
    "tags": []
   },
   "outputs": [
    {
     "data": {
      "text/plain": [
       "이름: 다호\n",
       "목표높이: 5\n",
       "현재높이: 2\n",
       "진행횟수: 2\n",
       "완성상태: False"
      ]
     },
     "execution_count": 866,
     "metadata": {},
     "output_type": "execute_result"
    }
   ],
   "source": [
    "다호"
   ]
  },
  {
   "cell_type": "markdown",
   "id": "e6c5e687-ea7e-4ebb-bfa9-d701fee7355d",
   "metadata": {},
   "source": [
    "`#`"
   ]
  },
  {
   "cell_type": "markdown",
   "id": "2faed456-5f0d-433f-a60c-321e60d08b56",
   "metadata": {},
   "source": [
    "`# 예시2` "
   ]
  },
  {
   "cell_type": "code",
   "execution_count": 867,
   "id": "f3c56df0-8d4c-49bd-976c-4f427d8fcff4",
   "metadata": {
    "tags": []
   },
   "outputs": [],
   "source": [
    "하니 = Base(end_condition=5,name=\"하니\")"
   ]
  },
  {
   "cell_type": "code",
   "execution_count": 868,
   "id": "7128d226-94ac-4a96-af2e-34344a865e30",
   "metadata": {
    "tags": []
   },
   "outputs": [],
   "source": [
    "for _ in range(5):\n",
    "    하니.탑쌓기()"
   ]
  },
  {
   "cell_type": "code",
   "execution_count": 869,
   "id": "a2b07d07-f64d-460d-be44-a321a476c266",
   "metadata": {
    "tags": []
   },
   "outputs": [
    {
     "data": {
      "text/plain": [
       "이름: 하니\n",
       "목표높이: 5\n",
       "현재높이: 5\n",
       "진행횟수: 5\n",
       "완성상태: True"
      ]
     },
     "execution_count": 869,
     "metadata": {},
     "output_type": "execute_result"
    }
   ],
   "source": [
    "하니 # 목표치에 도달하여 완성상태가 변경"
   ]
  },
  {
   "cell_type": "code",
   "execution_count": 870,
   "id": "4599c780-875a-425e-8449-812cba733525",
   "metadata": {
    "tags": []
   },
   "outputs": [],
   "source": [
    "for _ in range(5):\n",
    "    하니.탑쌓기()"
   ]
  },
  {
   "cell_type": "code",
   "execution_count": 871,
   "id": "a94ff7e8-eb03-40ed-84fb-9792182c3977",
   "metadata": {
    "tags": []
   },
   "outputs": [
    {
     "data": {
      "text/plain": [
       "이름: 하니\n",
       "목표높이: 5\n",
       "현재높이: 5\n",
       "진행횟수: 10\n",
       "완성상태: True"
      ]
     },
     "execution_count": 871,
     "metadata": {},
     "output_type": "execute_result"
    }
   ],
   "source": [
    "하니 # 목표치에 도달하여 더이상 탑이 쌓이지 않았음"
   ]
  },
  {
   "cell_type": "markdown",
   "id": "5d5e2649-0737-4870-b7ea-d23830b1f0d3",
   "metadata": {},
   "source": [
    "`#`"
   ]
  },
  {
   "cell_type": "markdown",
   "id": "77351972-e54f-443d-bd92-ed7611b7212a",
   "metadata": {},
   "source": [
    "`# 예시3`"
   ]
  },
  {
   "cell_type": "code",
   "execution_count": 872,
   "id": "45d34795-4611-4340-8ae6-21bc1531b912",
   "metadata": {
    "tags": []
   },
   "outputs": [],
   "source": [
    "다호 = Base(end_condition=5,name=\"다호\")\n",
    "하니 = Base(end_condition=5,name=\"하니\")"
   ]
  },
  {
   "cell_type": "code",
   "execution_count": 873,
   "id": "760f3d37-715a-4786-b2aa-d29f07a0479f",
   "metadata": {
    "tags": []
   },
   "outputs": [
    {
     "data": {
      "text/plain": [
       "이름: 다호\n",
       "목표높이: 5\n",
       "현재높이: 1\n",
       "진행횟수: 1\n",
       "완성상태: False"
      ]
     },
     "execution_count": 873,
     "metadata": {},
     "output_type": "execute_result"
    }
   ],
   "source": [
    "다호.탑쌓기()\n",
    "다호"
   ]
  },
  {
   "cell_type": "code",
   "execution_count": 874,
   "id": "9b2c06a6-7c81-410f-8178-90ca5bb8eb9a",
   "metadata": {
    "tags": []
   },
   "outputs": [
    {
     "data": {
      "text/plain": [
       "(True, False)"
      ]
     },
     "execution_count": 874,
     "metadata": {},
     "output_type": "execute_result"
    }
   ],
   "source": [
    "다호 > 하니, 다호 < 하니 # 현재높이비교"
   ]
  },
  {
   "cell_type": "code",
   "execution_count": 875,
   "id": "1b55d81d-e532-4bf5-9266-a7b2862bd043",
   "metadata": {
    "tags": []
   },
   "outputs": [
    {
     "data": {
      "text/plain": [
       "이름: 하니\n",
       "목표높이: 5\n",
       "현재높이: 2\n",
       "진행횟수: 2\n",
       "완성상태: False"
      ]
     },
     "execution_count": 875,
     "metadata": {},
     "output_type": "execute_result"
    }
   ],
   "source": [
    "하니.탑쌓기()\n",
    "하니.탑쌓기()\n",
    "하니"
   ]
  },
  {
   "cell_type": "code",
   "execution_count": 876,
   "id": "f8eb751f-5523-465c-8724-785fb16082fe",
   "metadata": {
    "tags": []
   },
   "outputs": [
    {
     "data": {
      "text/plain": [
       "(False, True)"
      ]
     },
     "execution_count": 876,
     "metadata": {},
     "output_type": "execute_result"
    }
   ],
   "source": [
    "다호 > 하니, 다호 < 하니 # 현재높이비교"
   ]
  },
  {
   "cell_type": "markdown",
   "id": "9c1d9165-947a-46ad-80c2-56b19eeb563f",
   "metadata": {},
   "source": [
    "`#`"
   ]
  },
  {
   "cell_type": "markdown",
   "id": "6470048e-b06c-471c-8e2e-a1a8b8aa40f0",
   "metadata": {},
   "source": [
    "`# 예시4`"
   ]
  },
  {
   "cell_type": "code",
   "execution_count": 877,
   "id": "a92e8457-c52c-4f36-8be0-0e00fa75b153",
   "metadata": {
    "tags": []
   },
   "outputs": [],
   "source": [
    "다호 = Base(end_condition=5,name=\"다호\")\n",
    "하니 = Base(end_condition=5,name=\"하니\")"
   ]
  },
  {
   "cell_type": "code",
   "execution_count": 878,
   "id": "1aeee44b-e4b0-4664-b5c8-6f33ad211571",
   "metadata": {
    "tags": []
   },
   "outputs": [
    {
     "data": {
      "text/plain": [
       "이름: 다호\n",
       "목표높이: 5\n",
       "현재높이: 1\n",
       "진행횟수: 1\n",
       "완성상태: False"
      ]
     },
     "execution_count": 878,
     "metadata": {},
     "output_type": "execute_result"
    }
   ],
   "source": [
    "다호.탑쌓기()\n",
    "다호"
   ]
  },
  {
   "cell_type": "code",
   "execution_count": 879,
   "id": "38a798a9-8c72-4f19-ad50-23e7ac3b424b",
   "metadata": {
    "tags": []
   },
   "outputs": [
    {
     "data": {
      "text/plain": [
       "(True, False)"
      ]
     },
     "execution_count": 879,
     "metadata": {},
     "output_type": "execute_result"
    }
   ],
   "source": [
    "다호 > 하니, 다호 < 하니"
   ]
  },
  {
   "cell_type": "code",
   "execution_count": 880,
   "id": "6cb9ade1-b551-4d73-9b52-5a3195cf590c",
   "metadata": {
    "tags": []
   },
   "outputs": [
    {
     "data": {
      "text/plain": [
       "(False, False)"
      ]
     },
     "execution_count": 880,
     "metadata": {},
     "output_type": "execute_result"
    }
   ],
   "source": [
    "다호 >> 하니, 다호 << 하니 # 승리조건 체크 (다호가 1층 높지만 어느 누구도 승리상태아님)"
   ]
  },
  {
   "cell_type": "code",
   "execution_count": 881,
   "id": "792ed274-5112-4366-822e-015cbc5593fb",
   "metadata": {
    "tags": []
   },
   "outputs": [
    {
     "data": {
      "text/plain": [
       "이름: 하니\n",
       "목표높이: 5\n",
       "현재높이: 2\n",
       "진행횟수: 2\n",
       "완성상태: False"
      ]
     },
     "execution_count": 881,
     "metadata": {},
     "output_type": "execute_result"
    }
   ],
   "source": [
    "하니.탑쌓기()\n",
    "하니.탑쌓기()\n",
    "하니"
   ]
  },
  {
   "cell_type": "code",
   "execution_count": 882,
   "id": "57d54414-4de9-42db-a2c5-8bd62f98ff7d",
   "metadata": {
    "tags": []
   },
   "outputs": [
    {
     "data": {
      "text/plain": [
       "(False, True)"
      ]
     },
     "execution_count": 882,
     "metadata": {},
     "output_type": "execute_result"
    }
   ],
   "source": [
    "다호 > 하니, 다호 < 하니"
   ]
  },
  {
   "cell_type": "code",
   "execution_count": 883,
   "id": "2f51f890-d386-4fa3-80dc-5583ae446056",
   "metadata": {
    "tags": []
   },
   "outputs": [
    {
     "data": {
      "text/plain": [
       "(False, False)"
      ]
     },
     "execution_count": 883,
     "metadata": {},
     "output_type": "execute_result"
    }
   ],
   "source": [
    "다호 >> 하니, 다호 << 하니 # 승리조건 체크 (하니가 1층 높지만 어느 누구도 승리상태아님)"
   ]
  },
  {
   "cell_type": "code",
   "execution_count": 884,
   "id": "1512acef-9978-4ab3-ae06-449c2e856db7",
   "metadata": {
    "tags": []
   },
   "outputs": [],
   "source": [
    "다호.탑쌓기()\n",
    "다호.탑쌓기()\n",
    "다호.탑쌓기()\n",
    "다호.탑쌓기()"
   ]
  },
  {
   "cell_type": "code",
   "execution_count": 885,
   "id": "2ce0d22c-a91f-48e6-9a0a-d93f51ac11da",
   "metadata": {
    "tags": []
   },
   "outputs": [
    {
     "data": {
      "text/plain": [
       "이름: 다호\n",
       "목표높이: 5\n",
       "현재높이: 5\n",
       "진행횟수: 5\n",
       "완성상태: True"
      ]
     },
     "execution_count": 885,
     "metadata": {},
     "output_type": "execute_result"
    }
   ],
   "source": [
    "다호 # 다호가 탑을 완성함. 승리조건 달성"
   ]
  },
  {
   "cell_type": "code",
   "execution_count": 886,
   "id": "7e02c6a0-44ed-461b-88c7-2b263cad26ec",
   "metadata": {
    "tags": []
   },
   "outputs": [
    {
     "data": {
      "text/plain": [
       "(True, False)"
      ]
     },
     "execution_count": 886,
     "metadata": {},
     "output_type": "execute_result"
    }
   ],
   "source": [
    "다호 >> 하니, 다호 << 하니 # 승리조건 체크 -- 다호의 승리"
   ]
  },
  {
   "cell_type": "markdown",
   "id": "cf4712e5-8e4a-4b15-9d28-fb8508cfd701",
   "metadata": {},
   "source": [
    "`#`"
   ]
  },
  {
   "cell_type": "markdown",
   "id": "aed4277d-120b-400b-8878-3999fbb56a1f",
   "metadata": {
    "tags": []
   },
   "source": [
    "## `(2)` `Guebin` 클래스 설계 "
   ]
  },
  {
   "cell_type": "markdown",
   "id": "c1098a30-cac2-4f7f-953e-03dbbfecb3c2",
   "metadata": {},
   "source": [
    "`Base`를 상속받아 예시와 같은 `Guebin` 클래스를 만들어라."
   ]
  },
  {
   "cell_type": "markdown",
   "id": "09f30d54-971c-4499-a689-3f46e4ed2980",
   "metadata": {},
   "source": [
    "`# 예시1`"
   ]
  },
  {
   "cell_type": "code",
   "execution_count": 904,
   "id": "7183ab08-42f7-4097-ab91-6ff6ebdbf610",
   "metadata": {
    "tags": []
   },
   "outputs": [],
   "source": [
    "규빈 = Guebin(name=\"규빈\",end_condition=5)"
   ]
  },
  {
   "cell_type": "code",
   "execution_count": 905,
   "id": "f4b59575-a291-484f-939a-002b7ba5d2b0",
   "metadata": {
    "tags": []
   },
   "outputs": [
    {
     "data": {
      "text/plain": [
       "0.5"
      ]
     },
     "execution_count": 905,
     "metadata": {},
     "output_type": "execute_result"
    }
   ],
   "source": [
    "규빈.prob"
   ]
  },
  {
   "cell_type": "markdown",
   "id": "7e9e0eac-1462-4a0e-ad60-4b77e139ad16",
   "metadata": {},
   "source": [
    "`#`"
   ]
  },
  {
   "cell_type": "markdown",
   "id": "b6b612e0-ba71-4e86-92f9-44c1d409de0b",
   "metadata": {},
   "source": [
    "`# 예시2`"
   ]
  },
  {
   "cell_type": "code",
   "execution_count": 906,
   "id": "be09ce21-e0fb-4867-b6ee-5003f543a4b4",
   "metadata": {
    "tags": []
   },
   "outputs": [],
   "source": [
    "규빈 = Guebin(name=\"규빈\",end_condition=5)"
   ]
  },
  {
   "cell_type": "code",
   "execution_count": 907,
   "id": "d5296bf5-13a3-4e4b-9718-a070a12efa62",
   "metadata": {
    "tags": []
   },
   "outputs": [
    {
     "name": "stdout",
     "output_type": "stream",
     "text": [
      "성공확률 = 0.5\n"
     ]
    },
    {
     "data": {
      "text/plain": [
       "이름: 규빈\n",
       "목표높이: 5\n",
       "현재높이: 0\n",
       "진행횟수: 1\n",
       "완성상태: False"
      ]
     },
     "execution_count": 907,
     "metadata": {},
     "output_type": "execute_result"
    }
   ],
   "source": [
    "print(f\"성공확률 = {규빈.prob}\")\n",
    "규빈.탑쌓기()\n",
    "규빈"
   ]
  },
  {
   "cell_type": "code",
   "execution_count": 908,
   "id": "ab1c86ea-d777-4075-b2f8-9d52ac626649",
   "metadata": {
    "tags": []
   },
   "outputs": [
    {
     "name": "stdout",
     "output_type": "stream",
     "text": [
      "성공확률 = 0.5\n",
      "이름: 규빈\n",
      "목표높이: 5\n",
      "현재높이: 0\n",
      "진행횟수: 2\n",
      "완성상태: False\n",
      "--\n",
      "이름: 규빈\n",
      "목표높이: 5\n",
      "현재높이: 2\n",
      "진행횟수: 3\n",
      "완성상태: False\n",
      "--\n",
      "이름: 규빈\n",
      "목표높이: 5\n",
      "현재높이: 0\n",
      "진행횟수: 4\n",
      "완성상태: False\n",
      "--\n",
      "이름: 규빈\n",
      "목표높이: 5\n",
      "현재높이: 0\n",
      "진행횟수: 5\n",
      "완성상태: False\n",
      "--\n",
      "이름: 규빈\n",
      "목표높이: 5\n",
      "현재높이: 2\n",
      "진행횟수: 6\n",
      "완성상태: False\n",
      "--\n"
     ]
    }
   ],
   "source": [
    "print(f\"성공확률 = {규빈.prob}\")\n",
    "for _ in range(5):\n",
    "    규빈.탑쌓기()\n",
    "    print(repr(규빈))\n",
    "    print(\"--\")"
   ]
  },
  {
   "cell_type": "markdown",
   "id": "a5221867-0c91-406d-86fd-899a701a3d9e",
   "metadata": {},
   "source": [
    "`#`"
   ]
  },
  {
   "cell_type": "markdown",
   "id": "b5f9be2b-92c3-428c-984f-7b4f83f68513",
   "metadata": {},
   "source": [
    "`# 예시3`"
   ]
  },
  {
   "cell_type": "code",
   "execution_count": 909,
   "id": "4ff4ddd7-65e5-4a20-ab1b-b0aab5ba4a56",
   "metadata": {
    "tags": []
   },
   "outputs": [],
   "source": [
    "규빈 = Guebin(name=\"규빈\",end_condition=5)"
   ]
  },
  {
   "cell_type": "code",
   "execution_count": 910,
   "id": "89f1fa66-7b90-4288-9f5e-a09c1b977197",
   "metadata": {
    "tags": []
   },
   "outputs": [],
   "source": [
    "규빈.prob = 0.9"
   ]
  },
  {
   "cell_type": "code",
   "execution_count": 911,
   "id": "a68ca8e9-01cf-4547-9fa9-9c2d9a128584",
   "metadata": {
    "tags": []
   },
   "outputs": [
    {
     "name": "stdout",
     "output_type": "stream",
     "text": [
      "성공확률 = 0.9\n",
      "이름: 규빈\n",
      "목표높이: 5\n",
      "현재높이: 2\n",
      "진행횟수: 1\n",
      "완성상태: False\n",
      "2블럭 성공확률: 0.90\n",
      "2블럭 성공여부: True\n",
      "--\n",
      "이름: 규빈\n",
      "목표높이: 5\n",
      "현재높이: 4\n",
      "진행횟수: 2\n",
      "완성상태: False\n",
      "2블럭 성공확률: 0.90\n",
      "2블럭 성공여부: True\n",
      "--\n",
      "이름: 규빈\n",
      "목표높이: 5\n",
      "현재높이: 6\n",
      "진행횟수: 3\n",
      "완성상태: True\n",
      "2블럭 성공확률: 0.90\n",
      "2블럭 성공여부: True\n",
      "--\n",
      "이름: 규빈\n",
      "목표높이: 5\n",
      "현재높이: 6\n",
      "진행횟수: 4\n",
      "완성상태: True\n",
      "2블럭 성공확률: 0.90\n",
      "2블럭 성공여부: True\n",
      "--\n",
      "이름: 규빈\n",
      "목표높이: 5\n",
      "현재높이: 6\n",
      "진행횟수: 5\n",
      "완성상태: True\n",
      "2블럭 성공확률: 0.90\n",
      "2블럭 성공여부: True\n",
      "--\n"
     ]
    }
   ],
   "source": [
    "print(f\"성공확률 = {규빈.prob}\")\n",
    "for _ in range(5):\n",
    "    규빈.탑쌓기()\n",
    "    print(repr(규빈))\n",
    "    print(f\"2블럭 성공확률: {규빈.prob:.2f}\")\n",
    "    print(f\"2블럭 성공여부: {규빈.success}\")\n",
    "    print(\"--\")"
   ]
  },
  {
   "cell_type": "markdown",
   "id": "05928a87-4825-4c3c-bcdc-ed1bb56a9a94",
   "metadata": {},
   "source": [
    "`#`"
   ]
  },
  {
   "cell_type": "markdown",
   "id": "a0d71e85-aeba-4d85-a3bd-3d5be92d8dae",
   "metadata": {
    "tags": []
   },
   "source": [
    "## `(3)` `GuebinTraining`  클래스 설계 "
   ]
  },
  {
   "cell_type": "markdown",
   "id": "bc5278e0-c360-43dd-92fe-b087ca038aea",
   "metadata": {},
   "source": [
    "배경설명: 규빈은 2개의 블록을 실패하지 않고 쌓는 연습을 하기로 했다. "
   ]
  },
  {
   "cell_type": "markdown",
   "id": "1d0c025e-2d7b-4ba6-ac64-228ebeeb6be7",
   "metadata": {},
   "source": [
    "`Guebin`을 상속받아 아래와 같은 역할을 하는 `GuebinTraining`을 설계하라. "
   ]
  },
  {
   "cell_type": "markdown",
   "id": "53002f9b-2fd9-4b38-9579-b82f5c9552ef",
   "metadata": {},
   "source": [
    "`# 예시1`"
   ]
  },
  {
   "cell_type": "code",
   "execution_count": 913,
   "id": "5e6b9874-3493-46fd-ab7b-14872ae911a2",
   "metadata": {
    "tags": []
   },
   "outputs": [
    {
     "data": {
      "text/plain": [
       "이름: 규빈\n",
       "목표높이: 5\n",
       "현재높이: 0\n",
       "진행횟수: 0\n",
       "완성상태: False"
      ]
     },
     "execution_count": 913,
     "metadata": {},
     "output_type": "execute_result"
    }
   ],
   "source": [
    "수련하는규빈 = GuebinTraining(name=\"규빈\",end_condition=5)\n",
    "수련하는규빈"
   ]
  },
  {
   "cell_type": "code",
   "execution_count": 914,
   "id": "617650c4-393f-423b-8c70-e06146c01518",
   "metadata": {
    "tags": []
   },
   "outputs": [
    {
     "name": "stdout",
     "output_type": "stream",
     "text": [
      "성공확률 = 0.9\n",
      "이름: 규빈\n",
      "목표높이: 5\n",
      "현재높이: 2\n",
      "진행횟수: 1\n",
      "완성상태: False\n",
      "2블럭 성공확률: 0.55\n",
      "2블럭 성공여부: True\n",
      "--\n",
      "이름: 규빈\n",
      "목표높이: 5\n",
      "현재높이: 4\n",
      "진행횟수: 2\n",
      "완성상태: False\n",
      "2블럭 성공확률: 0.60\n",
      "2블럭 성공여부: True\n",
      "--\n",
      "이름: 규빈\n",
      "목표높이: 5\n",
      "현재높이: 6\n",
      "진행횟수: 3\n",
      "완성상태: True\n",
      "2블럭 성공확률: 0.65\n",
      "2블럭 성공여부: True\n",
      "--\n",
      "이름: 규빈\n",
      "목표높이: 5\n",
      "현재높이: 6\n",
      "진행횟수: 4\n",
      "완성상태: True\n",
      "2블럭 성공확률: 0.70\n",
      "2블럭 성공여부: True\n",
      "--\n",
      "이름: 규빈\n",
      "목표높이: 5\n",
      "현재높이: 6\n",
      "진행횟수: 5\n",
      "완성상태: True\n",
      "2블럭 성공확률: 0.75\n",
      "2블럭 성공여부: True\n",
      "--\n"
     ]
    }
   ],
   "source": [
    "print(f\"성공확률 = {규빈.prob}\")\n",
    "for _ in range(5):\n",
    "    수련하는규빈.탑쌓기()\n",
    "    수련하는규빈.수련하기()\n",
    "    print(repr(수련하는규빈))\n",
    "    print(f\"2블럭 성공확률: {수련하는규빈.prob:.2f}\")\n",
    "    print(f\"2블럭 성공여부: {수련하는규빈.success}\")\n",
    "    print(\"--\")"
   ]
  },
  {
   "cell_type": "markdown",
   "id": "7b7d4d2e-8cc7-465d-b060-841a04d2b18e",
   "metadata": {},
   "source": [
    "`#`"
   ]
  },
  {
   "cell_type": "markdown",
   "id": "b48162fd-f2bb-4b21-ad0b-06a2e57da1e8",
   "metadata": {
    "tags": []
   },
   "source": [
    "## `(4)` 규빈 vs 다호 "
   ]
  },
  {
   "cell_type": "markdown",
   "id": "16edddfb-eafe-4049-a310-b9caaf7bc911",
   "metadata": {},
   "source": [
    "아래와 같은 인스턴스를 고려하자. "
   ]
  },
  {
   "cell_type": "code",
   "execution_count": 898,
   "id": "eece490d-26a8-4b20-a1dc-b62334f89541",
   "metadata": {
    "tags": []
   },
   "outputs": [],
   "source": [
    "규빈 = Guebin(name=\"규빈\",end_condition=10)\n",
    "다호 = Base(name=\"다호\",end_condition=10) "
   ]
  },
  {
   "cell_type": "markdown",
   "id": "c1dfbd9e-5ee2-42e9-a0fc-74f99a6eb779",
   "metadata": {},
   "source": [
    "10층높이의 탑을 먼저 쌓는 게임을 진행할시 누가 더 유리한가?"
   ]
  },
  {
   "cell_type": "markdown",
   "id": "dd987aec-5e9b-4a5b-8500-2e9e71c3f1b4",
   "metadata": {
    "tags": []
   },
   "source": [
    "## `(5)` 수련하는규빈 vs 다호 "
   ]
  },
  {
   "cell_type": "markdown",
   "id": "8a1593d7-368e-45d2-a115-d8b4e18a667f",
   "metadata": {},
   "source": [
    "아래와 같은 인스턴스를 고려하자. "
   ]
  },
  {
   "cell_type": "code",
   "execution_count": 899,
   "id": "c33c75f9-f35e-4379-a542-003606fb461d",
   "metadata": {
    "tags": []
   },
   "outputs": [],
   "source": [
    "수련하는규빈 = GuebinTraining(name=\"규빈\",end_condition=10)\n",
    "다호 = Base(name=\"다호\",end_condition=10) "
   ]
  },
  {
   "cell_type": "markdown",
   "id": "804bbc0d-f64c-43dd-8d43-9c8999564a3f",
   "metadata": {},
   "source": [
    "10층높이의 탑을 먼저 쌓는 게임을 진행할시 누가 더 유리한가? (규빈은 수련시 2개의 블록을 성공할 확률이 5퍼센트씩 증가한다. )"
   ]
  },
  {
   "cell_type": "markdown",
   "id": "4dfcc694-8d89-4d26-acb8-9c011cd380d4",
   "metadata": {},
   "source": [
    "## `(6)` 애교쟁이 최다호"
   ]
  },
  {
   "cell_type": "markdown",
   "id": "c50b0421-8c86-4e65-9af6-98d700b9e388",
   "metadata": {},
   "source": [
    "배경설명: 최다호는 매턴 규빈에게 애교를 부리기로 했다. 애교의 성공률은 20\\%이며 효과는 아래와 같다. \n",
    "\n",
    "- 규빈이 2블럭 쌓기를 성공: 규빈은 2개의 블럭을 본인의 탑에 쌓지않고 다호의 탑에 쌓는다. \n",
    "- 규빈이 2블럭 쌓기를 실패: 아무일도 일어나지 않음. \n",
    "\n",
    "단, 다호가 애교를 부릴경우 다호의 탑은 쌓이지 않는다. "
   ]
  },
  {
   "cell_type": "markdown",
   "id": "77638d55-8a7a-485c-8536-70b3e833ebbd",
   "metadata": {},
   "source": [
    "## `(7)` 공격하는 규빈 "
   ]
  },
  {
   "cell_type": "markdown",
   "id": "dbe04e72-f6b7-4d8e-9447-a37353e72a7f",
   "metadata": {},
   "source": [
    "## `(8)` 울보최다호"
   ]
  },
  {
   "cell_type": "markdown",
   "id": "eb7890e2-dd8e-4b56-94bd-a6f0f6e7572d",
   "metadata": {},
   "source": [
    "배경설명: 최다호는 규빈의 공격으로 공든탑이 무너지자 참을수가 없어져 결국 울음을 터뜨렸다. 울음의 효과는 아래와 같다. \n",
    "\n",
    "- 탑과 관련없이 무조건 다호의 승리 "
   ]
  },
  {
   "cell_type": "markdown",
   "id": "395a044f-14c0-4a09-9119-086a25381ca8",
   "metadata": {},
   "source": [
    "울음은 다호의 탑이 무너질 경우 발생하며 발생확률은 50%이다. "
   ]
  }
 ],
 "metadata": {
  "kernelspec": {
   "display_name": "Python 3 (ipykernel)",
   "language": "python",
   "name": "python3"
  },
  "language_info": {
   "codemirror_mode": {
    "name": "ipython",
    "version": 3
   },
   "file_extension": ".py",
   "mimetype": "text/x-python",
   "name": "python",
   "nbconvert_exporter": "python",
   "pygments_lexer": "ipython3",
   "version": "3.10.13"
  }
 },
 "nbformat": 4,
 "nbformat_minor": 5
}
