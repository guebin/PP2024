{
 "cells": [
  {
   "cell_type": "raw",
   "id": "d1839693-ef35-4691-acad-8379296978a4",
   "metadata": {
    "id": "87b5cded-346b-4915-acf5-b5ec93a5207d"
   },
   "source": [
    "---\n",
    "title: \"12wk-2: 클래스 (2)\"\n",
    "author: \"최규빈\"\n",
    "date: \"05/24/2024\"\n",
    "draft: false\n",
    "---"
   ]
  },
  {
   "cell_type": "markdown",
   "id": "c438468e-a0b3-4cad-b01f-bd6fe44bd3e8",
   "metadata": {
    "id": "e67ab8e0"
   },
   "source": [
    "<a href=\"https://colab.research.google.com/github/guebin/PP2024/blob/main/posts/12wk-2.ipynb\"><img src=\"https://colab.research.google.com/assets/colab-badge.svg\" style=\"text-align: left\"></a>"
   ]
  },
  {
   "cell_type": "markdown",
   "id": "d8ef7713-a956-4da0-a974-99f9a92f88c4",
   "metadata": {
    "tags": []
   },
   "source": [
    "# 1. 강의영상 "
   ]
  },
  {
   "cell_type": "markdown",
   "id": "0d987da2-b5aa-4b2d-bc3d-4c142cc71202",
   "metadata": {
    "tags": []
   },
   "source": [
    "{{<video https://youtu.be/playlist?list=PLQqh36zP38-wC2_UwrbEnOzKuXhAd1LEz&si=OTmvmDCHJqL2iKy2 >}}"
   ]
  },
  {
   "cell_type": "markdown",
   "id": "6218039e-bf69-4e83-b97a-c314666229ca",
   "metadata": {
    "tags": []
   },
   "source": [
    "# 2. Imports "
   ]
  },
  {
   "cell_type": "code",
   "execution_count": 3,
   "id": "67a44b79-1f46-4faa-af77-12fcbe7c4d7b",
   "metadata": {
    "id": "6835093b-64a4-467c-9f96-ad622c5bef2c",
    "tags": []
   },
   "outputs": [],
   "source": [
    "import numpy as np\n",
    "import pandas as pd"
   ]
  },
  {
   "cell_type": "markdown",
   "id": "b0361321-5cd5-4306-982e-2a340a91c1d5",
   "metadata": {
    "id": "97993944-7895-4942-8b63-3baaea87f9e1"
   },
   "source": [
    "# 3. 상속 맛보기 "
   ]
  },
  {
   "cell_type": "markdown",
   "id": "8a5ee5f7-a765-46ac-ad59-e11d33de78fc",
   "metadata": {
    "id": "687e7738-1637-4882-8f55-06bb6e33b504"
   },
   "source": [
    "## A. 모티브: 클래스를 수정은 불편해"
   ]
  },
  {
   "cell_type": "markdown",
   "id": "53b7c4b1-490d-4d04-9498-b146053f5908",
   "metadata": {
    "id": "67d6f489-0c53-4bb5-ac4b-dfddf219e242"
   },
   "source": [
    "`-` 예시1: UpJump ver1"
   ]
  },
  {
   "cell_type": "code",
   "execution_count": 4,
   "id": "42659df0-df6b-4fb8-97c6-faab15819ece",
   "metadata": {
    "tags": []
   },
   "outputs": [],
   "source": [
    "class Up:\n",
    "    def __init__(self):\n",
    "        self.value = 0\n",
    "    def up(self):\n",
    "        self.value = self.value + 1 \n",
    "    def __repr__(self):\n",
    "        return str(self.value) "
   ]
  },
  {
   "cell_type": "code",
   "execution_count": 5,
   "id": "7ed2125b-25b3-4d7a-8a33-33bfbca4370b",
   "metadata": {
    "tags": []
   },
   "outputs": [
    {
     "data": {
      "text/plain": [
       "0"
      ]
     },
     "execution_count": 5,
     "metadata": {},
     "output_type": "execute_result"
    }
   ],
   "source": [
    "a = Up()\n",
    "a"
   ]
  },
  {
   "cell_type": "code",
   "execution_count": 6,
   "id": "0d258505-e0f3-4e5d-9f79-9b166e148a3b",
   "metadata": {
    "tags": []
   },
   "outputs": [],
   "source": [
    "a.up()"
   ]
  },
  {
   "cell_type": "code",
   "execution_count": 7,
   "id": "7b7ce5cd-23e7-4a7d-a062-6b75bd65413f",
   "metadata": {
    "tags": []
   },
   "outputs": [
    {
     "data": {
      "text/plain": [
       "1"
      ]
     },
     "execution_count": 7,
     "metadata": {},
     "output_type": "execute_result"
    }
   ],
   "source": [
    "a"
   ]
  },
  {
   "cell_type": "code",
   "execution_count": 8,
   "id": "a449b854-d584-41c5-a337-4d89a2de8462",
   "metadata": {
    "tags": []
   },
   "outputs": [
    {
     "ename": "AttributeError",
     "evalue": "'Up' object has no attribute 'jump'",
     "output_type": "error",
     "traceback": [
      "\u001b[0;31m---------------------------------------------------------------------------\u001b[0m",
      "\u001b[0;31mAttributeError\u001b[0m                            Traceback (most recent call last)",
      "Cell \u001b[0;32mIn[8], line 1\u001b[0m\n\u001b[0;32m----> 1\u001b[0m \u001b[43ma\u001b[49m\u001b[38;5;241;43m.\u001b[39;49m\u001b[43mjump\u001b[49m(\u001b[38;5;241m2\u001b[39m)\n",
      "\u001b[0;31mAttributeError\u001b[0m: 'Up' object has no attribute 'jump'"
     ]
    }
   ],
   "source": [
    "a.jump(2)"
   ]
  },
  {
   "cell_type": "markdown",
   "id": "bc31daf2-efec-4954-af05-de456ee86154",
   "metadata": {},
   "source": [
    "- `a.jump()`는 아직 구현되지 않은 기능임. "
   ]
  },
  {
   "cell_type": "markdown",
   "id": "24d431a0-33ac-4282-a4e4-6e78d524bd42",
   "metadata": {
    "id": "b7ec6b3b-7341-4f38-820a-1acbf903c4e0"
   },
   "source": [
    "`-` 예시2: UpJump"
   ]
  },
  {
   "cell_type": "code",
   "execution_count": 9,
   "id": "f2a855a8-4633-4583-bb24-ff73345be2b4",
   "metadata": {
    "tags": []
   },
   "outputs": [],
   "source": [
    "class UpJump:\n",
    "    def __init__(self):\n",
    "        self.value = 0\n",
    "    def up(self):\n",
    "        self.value = self.value + 1 \n",
    "    def __repr__(self):\n",
    "        return str(self.value) \n",
    "    #---# 여기까지는 똑같이\n",
    "    def jump(self,jump_size):\n",
    "        self.value = self.value + jump_size"
   ]
  },
  {
   "cell_type": "code",
   "execution_count": 10,
   "id": "0c1ce39d-5d6d-4234-8e2f-e6374a516680",
   "metadata": {
    "tags": []
   },
   "outputs": [],
   "source": [
    "a = UpJump()"
   ]
  },
  {
   "cell_type": "code",
   "execution_count": 11,
   "id": "c6249c10-8aae-4fd3-b6c6-cd811d6e6839",
   "metadata": {
    "tags": []
   },
   "outputs": [
    {
     "data": {
      "text/plain": [
       "0"
      ]
     },
     "execution_count": 11,
     "metadata": {},
     "output_type": "execute_result"
    }
   ],
   "source": [
    "a"
   ]
  },
  {
   "cell_type": "code",
   "execution_count": 12,
   "id": "7a126ee1-1194-4194-8be1-c31d8aad8383",
   "metadata": {
    "tags": []
   },
   "outputs": [
    {
     "data": {
      "text/plain": [
       "1"
      ]
     },
     "execution_count": 12,
     "metadata": {},
     "output_type": "execute_result"
    }
   ],
   "source": [
    "a.up()\n",
    "a"
   ]
  },
  {
   "cell_type": "code",
   "execution_count": 13,
   "id": "b21a7390-bad9-4eb5-8f8c-17910d00e4f9",
   "metadata": {
    "tags": []
   },
   "outputs": [
    {
     "data": {
      "text/plain": [
       "6"
      ]
     },
     "execution_count": 13,
     "metadata": {},
     "output_type": "execute_result"
    }
   ],
   "source": [
    "a.jump(5)\n",
    "a"
   ]
  },
  {
   "cell_type": "markdown",
   "id": "ed656f4a-d5e4-4ff1-ac09-e316d366ee07",
   "metadata": {
    "id": "2df2e4d7-5534-419f-b10f-6258962e9a27"
   },
   "source": [
    "`-` 예시3: UpJump의 다른 구현"
   ]
  },
  {
   "cell_type": "code",
   "execution_count": 14,
   "id": "f56ced69-cc32-4e1a-8622-9d02c657f9ac",
   "metadata": {
    "tags": []
   },
   "outputs": [],
   "source": [
    "class UpJump(Up):\n",
    "    def jump(self,jump_size):\n",
    "        self.value = self.value + jump_size"
   ]
  },
  {
   "cell_type": "code",
   "execution_count": 15,
   "id": "08d7367c-f46b-4dc6-9800-c2f286997d7a",
   "metadata": {
    "tags": []
   },
   "outputs": [],
   "source": [
    "a = UpJump()"
   ]
  },
  {
   "cell_type": "code",
   "execution_count": 16,
   "id": "e2263d42-db68-44f1-aad5-0f9a5ee73617",
   "metadata": {
    "tags": []
   },
   "outputs": [
    {
     "data": {
      "text/plain": [
       "1"
      ]
     },
     "execution_count": 16,
     "metadata": {},
     "output_type": "execute_result"
    }
   ],
   "source": [
    "a.up()\n",
    "a"
   ]
  },
  {
   "cell_type": "code",
   "execution_count": 17,
   "id": "01f6dbef-b712-442b-9646-95db56921a08",
   "metadata": {
    "tags": []
   },
   "outputs": [
    {
     "data": {
      "text/plain": [
       "6"
      ]
     },
     "execution_count": 17,
     "metadata": {},
     "output_type": "execute_result"
    }
   ],
   "source": [
    "a.jump(5)\n",
    "a"
   ]
  },
  {
   "cell_type": "markdown",
   "id": "0ba2ad4c-b0df-4199-92cf-f1f1037a6530",
   "metadata": {
    "id": "c9604d7a-f59f-490e-bcd6-5540fa148946"
   },
   "source": [
    "## B. 꿀팁"
   ]
  },
  {
   "cell_type": "markdown",
   "id": "d8498886-6e1c-4b6b-ac79-643a61fb41d7",
   "metadata": {
    "id": "554cd878-a011-4e1b-a00e-6dc82c8b24f5"
   },
   "source": [
    "`-` 클래스를 조금 수정하고 싶을때, 아래와 같은 문법을 이용하면 편리하다.\n",
    "\n",
    "```Python\n",
    "class 새로운_클래스_이름(수정할_클래스_이름):\n",
    "    def 수정_및_추가할_함수이름(self,...):\n",
    "        ...\n",
    "```"
   ]
  },
  {
   "cell_type": "markdown",
   "id": "fc32d734-2e70-4523-94b1-edf490c9f7f9",
   "metadata": {
    "id": "6cc32bbc-0922-408d-a72a-ac9baaa71e70"
   },
   "source": [
    "`-` 사용예시"
   ]
  },
  {
   "cell_type": "code",
   "execution_count": 18,
   "id": "26d126a7-7b4e-443a-b1cb-20104c528bfa",
   "metadata": {
    "tags": []
   },
   "outputs": [],
   "source": [
    "class UpJump2(UpJump):\n",
    "    def __repr__(self):\n",
    "        return f\"현재 이 인스턴스는 {self.value}의 값을 가지고 있습니다.\""
   ]
  },
  {
   "cell_type": "code",
   "execution_count": 19,
   "id": "231a3774-96f3-413c-a914-a40082d91af2",
   "metadata": {
    "tags": []
   },
   "outputs": [
    {
     "data": {
      "text/plain": [
       "현재 이 인스턴스는 0의 값을 가지고 있습니다."
      ]
     },
     "execution_count": 19,
     "metadata": {},
     "output_type": "execute_result"
    }
   ],
   "source": [
    "a = UpJump2()\n",
    "a"
   ]
  },
  {
   "cell_type": "code",
   "execution_count": 20,
   "id": "5ffd69aa-a4c9-4f5b-9b2c-77a41cc83256",
   "metadata": {
    "tags": []
   },
   "outputs": [
    {
     "data": {
      "text/plain": [
       "현재 이 인스턴스는 1의 값을 가지고 있습니다."
      ]
     },
     "execution_count": 20,
     "metadata": {},
     "output_type": "execute_result"
    }
   ],
   "source": [
    "a.up()\n",
    "a"
   ]
  },
  {
   "cell_type": "code",
   "execution_count": 21,
   "id": "deb712ba-2e90-4b6e-b718-1c4b860b98f2",
   "metadata": {
    "tags": []
   },
   "outputs": [
    {
     "data": {
      "text/plain": [
       "현재 이 인스턴스는 6의 값을 가지고 있습니다."
      ]
     },
     "execution_count": 21,
     "metadata": {},
     "output_type": "execute_result"
    }
   ],
   "source": [
    "a.jump(5)\n",
    "a"
   ]
  },
  {
   "cell_type": "markdown",
   "id": "66af33f7-52a9-4045-9600-801c9eb20909",
   "metadata": {
    "id": "1bfa78cd-7e18-4544-9bcf-0d1abfbf9003"
   },
   "source": [
    "# 4. `__add__`"
   ]
  },
  {
   "cell_type": "markdown",
   "id": "6742eb3e-9b1c-4247-b1df-88c6275bd4b0",
   "metadata": {
    "id": "366664d9-f1e3-4123-a808-6bc8d12b0e5c"
   },
   "source": [
    "## A. 모티브"
   ]
  },
  {
   "cell_type": "markdown",
   "id": "9d119326-7ccb-48ab-866e-8764973aa117",
   "metadata": {
    "id": "9a4903fc-67ca-4bd6-99d0-05c2fa7e040a"
   },
   "source": [
    "`-` 모티브: 아래의 연산구조를 관찰하자."
   ]
  },
  {
   "cell_type": "code",
   "execution_count": 22,
   "id": "90af3ff7-0f9c-4fd9-b9f1-ebc6e4883ebe",
   "metadata": {
    "id": "e68c3bd6-fde4-4c84-8f9d-eef44dd272e6",
    "outputId": "f683738f-74f6-4ce9-e5e9-1d16379fcd7a",
    "tags": []
   },
   "outputs": [
    {
     "data": {
      "text/plain": [
       "3"
      ]
     },
     "execution_count": 22,
     "metadata": {},
     "output_type": "execute_result"
    }
   ],
   "source": [
    "a=1\n",
    "b=2\n",
    "a+b"
   ]
  },
  {
   "cell_type": "markdown",
   "id": "4d62b5f6-3daf-49b4-8b0f-9ec71b08b9ca",
   "metadata": {
    "id": "13884c76-7b58-451b-b19f-5ddfc890295f"
   },
   "source": [
    "- a라는 인스턴스와 b라는 인스턴스를 +라는 기호가 연결하고 있다."
   ]
  },
  {
   "cell_type": "markdown",
   "id": "61afea39-3a76-40d8-be03-f1f8d01b75f2",
   "metadata": {
    "id": "3b0d9cc3-7d83-4918-b3fa-7fac645ae86a"
   },
   "source": [
    "`-` 이번에는 아래의 연산구조를 관찰하자."
   ]
  },
  {
   "cell_type": "code",
   "execution_count": 23,
   "id": "db0b0727-fd84-46e1-be8a-ac0e93c26130",
   "metadata": {
    "id": "09ef66e5-9549-450f-9787-a0b344bf4237",
    "outputId": "0370ccb6-9f5f-4775-bd06-476fcd92f579",
    "tags": []
   },
   "outputs": [
    {
     "data": {
      "text/plain": [
       "[1, 2, 3, 4]"
      ]
     },
     "execution_count": 23,
     "metadata": {},
     "output_type": "execute_result"
    }
   ],
   "source": [
    "a=[1,2]\n",
    "b=[3,4]\n",
    "a+b"
   ]
  },
  {
   "cell_type": "markdown",
   "id": "ad68fb46-cda5-4c3f-9027-726ae37ca40d",
   "metadata": {
    "id": "90085783-57d6-4153-add7-52b34f122abf"
   },
   "source": [
    "- a라는 인스턴스와 b라는 인스턴스를 +라는 기호가 연결하고 있다."
   ]
  },
  {
   "cell_type": "markdown",
   "id": "dc5d202e-782d-4e4b-b1ef-e68e65b29908",
   "metadata": {
    "id": "b413724f-f9b5-4f8b-82d4-30cc9f29499c"
   },
   "source": [
    "`-` 동작이 다른 이유?\n",
    "\n",
    "- 클래스를 배우기 이전: int자료형의 `+`는 \"정수의 덧셈\"을 의미하고 list자료형의 `+`는 \"자료의 추가\"를 의미한다.\n",
    "- 클래스를 배운 이후: 아마 클래스는 `+`라는 연산을 정의하는 숨겨진 메소드가 있을것이다. (print가 그랬듯이) 그리고 int클래스에서는 그 메소드를 \"정수의 덧셈\"이 되도록 정의하였고 list클래스에서는 그 메소드를 \"자료의 추가\"를 의미하도록 정의하였다."
   ]
  },
  {
   "cell_type": "markdown",
   "id": "c7c1f806-6288-4758-9ee1-b4aea529e5be",
   "metadata": {
    "id": "a47bf074-64fe-4538-b534-d24f111fdca6"
   },
   "source": [
    "`-` 아래의 결과를 관찰"
   ]
  },
  {
   "cell_type": "code",
   "execution_count": 24,
   "id": "f0f1054a-cf2f-483e-94d1-1c45891530d8",
   "metadata": {
    "tags": []
   },
   "outputs": [],
   "source": [
    "a = 1\n",
    "b = -2"
   ]
  },
  {
   "cell_type": "code",
   "execution_count": 25,
   "id": "093fe765-190b-44d2-a4ed-d3511f4d96cf",
   "metadata": {
    "tags": []
   },
   "outputs": [
    {
     "data": {
      "text/plain": [
       "-1"
      ]
     },
     "execution_count": 25,
     "metadata": {},
     "output_type": "execute_result"
    }
   ],
   "source": [
    "a.__add__(b) # a+b"
   ]
  },
  {
   "cell_type": "code",
   "execution_count": 26,
   "id": "15d3122d-8b12-43bb-91dc-62f7335c9300",
   "metadata": {
    "tags": []
   },
   "outputs": [
    {
     "data": {
      "text/plain": [
       "-1"
      ]
     },
     "execution_count": 26,
     "metadata": {},
     "output_type": "execute_result"
    }
   ],
   "source": [
    "b.__add__(a) # a+b"
   ]
  },
  {
   "cell_type": "code",
   "execution_count": 27,
   "id": "bed54e16-067a-482f-a64e-b61ac204850d",
   "metadata": {
    "tags": []
   },
   "outputs": [],
   "source": [
    "a = [1,2]\n",
    "b = [3,4]"
   ]
  },
  {
   "cell_type": "code",
   "execution_count": 28,
   "id": "4e394c63-0f52-40a7-bdf9-c1bc86f88ed1",
   "metadata": {
    "tags": []
   },
   "outputs": [
    {
     "data": {
      "text/plain": [
       "[1, 2, 3, 4]"
      ]
     },
     "execution_count": 28,
     "metadata": {},
     "output_type": "execute_result"
    }
   ],
   "source": [
    "a.__add__(b) # a+b "
   ]
  },
  {
   "cell_type": "code",
   "execution_count": 29,
   "id": "f0b1bd4b-9d11-4790-88a7-6c7c8cfc5f31",
   "metadata": {
    "tags": []
   },
   "outputs": [
    {
     "data": {
      "text/plain": [
       "[3, 4, 1, 2]"
      ]
     },
     "execution_count": 29,
     "metadata": {},
     "output_type": "execute_result"
    }
   ],
   "source": [
    "b.__add__(a) # b+a "
   ]
  },
  {
   "cell_type": "markdown",
   "id": "60631546-7758-40d2-958d-6669b33ab143",
   "metadata": {
    "id": "e80b031f-6df9-403b-980a-f667934dd7a8"
   },
   "source": [
    "`-` 확인: a+b는 사실 내부적으로 `a.__add__(b)`의 축약구문이다."
   ]
  },
  {
   "cell_type": "markdown",
   "id": "5773da64-3108-42b0-a198-5dac03495358",
   "metadata": {
    "id": "9f3013b5-b806-45cc-8899-6c11eec3737f"
   },
   "source": [
    "`-` 추측: 따라서 만약 `a.__add__(b)`의 기능을 바꾸면 (재정의하면) a+b의 기능도 바뀔 것이다."
   ]
  },
  {
   "cell_type": "markdown",
   "id": "3758b925-90af-4590-99d9-5986fa62b9f9",
   "metadata": {
    "id": "130a2583-005b-4728-8da5-9c626f42e975"
   },
   "source": [
    "## B. Student: `__add__`의 사용"
   ]
  },
  {
   "cell_type": "markdown",
   "id": "8d69fb3f-99cb-4eec-8b7a-d28a8e7dbfaf",
   "metadata": {
    "id": "8560a0a0-39bc-422d-85c8-8fd7145e6724"
   },
   "source": [
    "`-` StudentWrong 클래스 선언"
   ]
  },
  {
   "cell_type": "code",
   "execution_count": 30,
   "id": "30dcb0d7-9a40-409d-b636-c8e4ec65a149",
   "metadata": {
    "tags": []
   },
   "outputs": [],
   "source": [
    "class StudentWrong:\n",
    "    def __init__(self,age=20.0, semester=0):\n",
    "        self.age = age \n",
    "        self.semester = semester\n",
    "        print(f\"입학을 축하합니다. 당신의 나이는 {self.age}이고 현재 학기는 {self.semester}학기 입니다.\")\n",
    "    def __repr__(self):\n",
    "        text = f\"나이: {self.age}\\n학기: {self.semester}\"\n",
    "        return text\n",
    "    def __add__(self,registration_status):\n",
    "        if registration_status == \"휴학\":\n",
    "            self.age = self.age +0.5 \n",
    "        elif registration_status == \"등록\":\n",
    "            self.age = self.age +0.5 \n",
    "            self.semester = self.semester + 1"
   ]
  },
  {
   "cell_type": "code",
   "execution_count": 31,
   "id": "d8964647-2aa3-4225-b2df-ea1aa9a19072",
   "metadata": {
    "tags": []
   },
   "outputs": [
    {
     "name": "stdout",
     "output_type": "stream",
     "text": [
      "입학을 축하합니다. 당신의 나이는 20.0이고 현재 학기는 0학기 입니다.\n"
     ]
    }
   ],
   "source": [
    "boram = StudentWrong()"
   ]
  },
  {
   "cell_type": "code",
   "execution_count": 32,
   "id": "6ccba60e-4c71-4d2d-acd9-50aa3a0b567e",
   "metadata": {
    "tags": []
   },
   "outputs": [
    {
     "data": {
      "text/plain": [
       "나이: 20.0\n",
       "학기: 0"
      ]
     },
     "execution_count": 32,
     "metadata": {},
     "output_type": "execute_result"
    }
   ],
   "source": [
    "boram"
   ]
  },
  {
   "cell_type": "markdown",
   "id": "27e80f5a-9a3c-4ede-bf75-50ceae30eafe",
   "metadata": {
    "id": "9f238d81-f98e-4b22-8757-9e2c5fb7a54c"
   },
   "source": [
    "`-` 사용"
   ]
  },
  {
   "cell_type": "code",
   "execution_count": 33,
   "id": "1f6a0050-28f7-4677-a322-21b3a6bfd8ad",
   "metadata": {
    "tags": []
   },
   "outputs": [
    {
     "data": {
      "text/plain": [
       "나이: 20.5\n",
       "학기: 0"
      ]
     },
     "execution_count": 33,
     "metadata": {},
     "output_type": "execute_result"
    }
   ],
   "source": [
    "boram + \"휴학\"\n",
    "boram"
   ]
  },
  {
   "cell_type": "code",
   "execution_count": 34,
   "id": "ddabc550-d984-468b-bee2-078af2aa92b5",
   "metadata": {
    "tags": []
   },
   "outputs": [
    {
     "data": {
      "text/plain": [
       "나이: 21.0\n",
       "학기: 1"
      ]
     },
     "execution_count": 34,
     "metadata": {},
     "output_type": "execute_result"
    }
   ],
   "source": [
    "boram + \"등록\"\n",
    "boram"
   ]
  },
  {
   "cell_type": "code",
   "execution_count": 35,
   "id": "86c015fb-9bd4-4809-be3f-9d671de0086b",
   "metadata": {
    "tags": []
   },
   "outputs": [
    {
     "data": {
      "text/plain": [
       "나이: 21.5\n",
       "학기: 1"
      ]
     },
     "execution_count": 35,
     "metadata": {},
     "output_type": "execute_result"
    }
   ],
   "source": [
    "boram + \"휴학\"\n",
    "boram"
   ]
  },
  {
   "cell_type": "code",
   "execution_count": 36,
   "id": "a357a6e2-5e30-4564-a8fc-b8ea35ef5f1f",
   "metadata": {
    "tags": []
   },
   "outputs": [
    {
     "data": {
      "text/plain": [
       "나이: 22.0\n",
       "학기: 2"
      ]
     },
     "execution_count": 36,
     "metadata": {},
     "output_type": "execute_result"
    }
   ],
   "source": [
    "boram + \"등록\"\n",
    "boram"
   ]
  },
  {
   "cell_type": "code",
   "execution_count": 37,
   "id": "674d52c8-73db-4f6d-a36c-375bfd67484f",
   "metadata": {
    "tags": []
   },
   "outputs": [
    {
     "data": {
      "text/plain": [
       "나이: 22.5\n",
       "학기: 3"
      ]
     },
     "execution_count": 37,
     "metadata": {},
     "output_type": "execute_result"
    }
   ],
   "source": [
    "boram + \"등록\"\n",
    "boram"
   ]
  },
  {
   "cell_type": "code",
   "execution_count": 38,
   "id": "fa50a8bb-da9d-4386-ae53-63cdc6b476b0",
   "metadata": {
    "tags": []
   },
   "outputs": [
    {
     "data": {
      "text/plain": [
       "나이: 23.0\n",
       "학기: 4"
      ]
     },
     "execution_count": 38,
     "metadata": {},
     "output_type": "execute_result"
    }
   ],
   "source": [
    "boram + \"등록\"\n",
    "boram"
   ]
  },
  {
   "cell_type": "markdown",
   "id": "75c17a5a-8307-4097-8ea7-53eb357e167d",
   "metadata": {
    "id": "93c482d5-5df8-4758-87f7-2983a71c9776"
   },
   "source": [
    "`-` 잘못된 사용"
   ]
  },
  {
   "cell_type": "code",
   "execution_count": 39,
   "id": "23fa949d-ecfd-48fd-8e4e-1360c9277608",
   "metadata": {
    "tags": []
   },
   "outputs": [
    {
     "name": "stdout",
     "output_type": "stream",
     "text": [
      "입학을 축하합니다. 당신의 나이는 20.0이고 현재 학기는 0학기 입니다.\n"
     ]
    }
   ],
   "source": [
    "seoyeon = StudentWrong()"
   ]
  },
  {
   "cell_type": "code",
   "execution_count": 40,
   "id": "c6b41d96-124b-4644-a2d4-36aef9da6406",
   "metadata": {
    "tags": []
   },
   "outputs": [
    {
     "ename": "TypeError",
     "evalue": "unsupported operand type(s) for +: 'NoneType' and 'str'",
     "output_type": "error",
     "traceback": [
      "\u001b[0;31m---------------------------------------------------------------------------\u001b[0m",
      "\u001b[0;31mTypeError\u001b[0m                                 Traceback (most recent call last)",
      "Cell \u001b[0;32mIn[40], line 1\u001b[0m\n\u001b[0;32m----> 1\u001b[0m \u001b[43mseoyeon\u001b[49m\u001b[43m \u001b[49m\u001b[38;5;241;43m+\u001b[39;49m\u001b[43m \u001b[49m\u001b[38;5;124;43m\"\u001b[39;49m\u001b[38;5;124;43m등록\u001b[39;49m\u001b[38;5;124;43m\"\u001b[39;49m\u001b[43m \u001b[49m\u001b[38;5;241;43m+\u001b[39;49m\u001b[43m \u001b[49m\u001b[38;5;124;43m\"\u001b[39;49m\u001b[38;5;124;43m등록\u001b[39;49m\u001b[38;5;124;43m\"\u001b[39;49m\n\u001b[1;32m      2\u001b[0m seoyeon \u001b[38;5;66;03m# 서연의 나이는 21, 학기는 2\u001b[39;00m\n",
      "\u001b[0;31mTypeError\u001b[0m: unsupported operand type(s) for +: 'NoneType' and 'str'"
     ]
    }
   ],
   "source": [
    "seoyeon + \"등록\" + \"등록\"\n",
    "seoyeon # 서연의 나이는 21, 학기는 2"
   ]
  },
  {
   "cell_type": "markdown",
   "id": "e7182916-4c14-4fdd-923d-1f5d0c1d118a",
   "metadata": {
    "id": "95d1cde5-016f-462d-9fe3-2adc49c7a393"
   },
   "source": [
    "`-` 올바른 코드"
   ]
  },
  {
   "cell_type": "code",
   "execution_count": 41,
   "id": "89c025e2-5f18-44e8-b4cc-759992d3024a",
   "metadata": {
    "tags": []
   },
   "outputs": [],
   "source": [
    "class Student:\n",
    "    def __init__(self,age=20.0, semester=0):\n",
    "        self.age = age \n",
    "        self.semester = semester\n",
    "        print(f\"입학을 축하합니다. 당신의 나이는 {self.age}이고 현재 학기는 {self.semester}학기 입니다.\")\n",
    "    def __repr__(self):\n",
    "        text = f\"나이: {self.age}\\n학기: {self.semester}\"\n",
    "        return text\n",
    "    def __add__(self,registration_status):\n",
    "        if registration_status == \"휴학\":\n",
    "            self.age = self.age +0.5 \n",
    "        elif registration_status == \"등록\":\n",
    "            self.age = self.age +0.5 \n",
    "            self.semester = self.semester + 1\n",
    "        return self "
   ]
  },
  {
   "cell_type": "code",
   "execution_count": 42,
   "id": "329ef0ac-0a36-476d-a40e-82862d4dd2c3",
   "metadata": {
    "tags": []
   },
   "outputs": [
    {
     "name": "stdout",
     "output_type": "stream",
     "text": [
      "입학을 축하합니다. 당신의 나이는 20.0이고 현재 학기는 0학기 입니다.\n"
     ]
    }
   ],
   "source": [
    "seoyeon = Student()"
   ]
  },
  {
   "cell_type": "code",
   "execution_count": 43,
   "id": "de0df466-62f6-4a48-80f3-0d28791a9f8d",
   "metadata": {
    "tags": []
   },
   "outputs": [
    {
     "data": {
      "text/plain": [
       "나이: 22.0\n",
       "학기: 3"
      ]
     },
     "execution_count": 43,
     "metadata": {},
     "output_type": "execute_result"
    }
   ],
   "source": [
    "seoyeon + \"등록\" + \"휴학\" + \"등록\" + \"등록\""
   ]
  },
  {
   "cell_type": "markdown",
   "id": "3eb91f1c-8c54-4489-80ad-a187d636ec46",
   "metadata": {
    "id": "b3f1803c-c612-4ca4-88b1-ff1af8b7cf90"
   },
   "source": [
    "## C. Student의 다른구현1"
   ]
  },
  {
   "cell_type": "code",
   "execution_count": 44,
   "id": "47361742-58c8-459c-b390-f1b22904ef40",
   "metadata": {
    "tags": []
   },
   "outputs": [],
   "source": [
    "class Student(StudentWrong):\n",
    "    def __add__(self,registration_status):\n",
    "        if registration_status == \"휴학\":\n",
    "            self.age = self.age +0.5 \n",
    "        elif registration_status == \"등록\":\n",
    "            self.age = self.age +0.5 \n",
    "            self.semester = self.semester + 1\n",
    "        return self"
   ]
  },
  {
   "cell_type": "code",
   "execution_count": 45,
   "id": "068bea34-2a80-4c8f-8fd2-62fb9850dbd0",
   "metadata": {
    "tags": []
   },
   "outputs": [
    {
     "name": "stdout",
     "output_type": "stream",
     "text": [
      "입학을 축하합니다. 당신의 나이는 20.0이고 현재 학기는 0학기 입니다.\n"
     ]
    }
   ],
   "source": [
    "seoyeon = Student()"
   ]
  },
  {
   "cell_type": "code",
   "execution_count": 46,
   "id": "df1f38a9-d553-4d63-a179-032d18486a1e",
   "metadata": {
    "tags": []
   },
   "outputs": [
    {
     "data": {
      "text/plain": [
       "나이: 22.0\n",
       "학기: 3"
      ]
     },
     "execution_count": 46,
     "metadata": {},
     "output_type": "execute_result"
    }
   ],
   "source": [
    "seoyeon + \"등록\" + \"휴학\" + \"등록\" + \"등록\""
   ]
  },
  {
   "cell_type": "markdown",
   "id": "196e2608-8a57-48ac-877b-042206601fe0",
   "metadata": {
    "id": "02e98fea-7156-4f17-804e-2a56ceed53f3"
   },
   "source": [
    "## D. Student의 다른구현2"
   ]
  },
  {
   "cell_type": "code",
   "execution_count": 47,
   "id": "dd82a0d3-15a7-4c69-952f-58e4b3f07c43",
   "metadata": {
    "tags": []
   },
   "outputs": [],
   "source": [
    "class Student(StudentWrong):\n",
    "    def __add__(self,registration_status):\n",
    "        super().__add__(registration_status)\n",
    "        return self"
   ]
  },
  {
   "cell_type": "code",
   "execution_count": 48,
   "id": "7e1b9d79-ffa5-4887-9d2a-f2fa5bdf81ec",
   "metadata": {
    "tags": []
   },
   "outputs": [
    {
     "name": "stdout",
     "output_type": "stream",
     "text": [
      "입학을 축하합니다. 당신의 나이는 20.0이고 현재 학기는 0학기 입니다.\n"
     ]
    }
   ],
   "source": [
    "seoyeon = Student()"
   ]
  },
  {
   "cell_type": "code",
   "execution_count": 49,
   "id": "bf581aa7-77fa-42de-ae75-687038dd3ae0",
   "metadata": {
    "tags": []
   },
   "outputs": [
    {
     "data": {
      "text/plain": [
       "나이: 22.0\n",
       "학기: 3"
      ]
     },
     "execution_count": 49,
     "metadata": {},
     "output_type": "execute_result"
    }
   ],
   "source": [
    "seoyeon + \"등록\" + \"휴학\" + \"등록\" + \"등록\""
   ]
  },
  {
   "cell_type": "markdown",
   "id": "acfb1794-9376-4903-b88d-7101b09f1f2c",
   "metadata": {
    "id": "c0831954-ec97-438b-8b4c-cfcbbf0ebd9b"
   },
   "source": [
    "> 파이썬의 비밀: `a+b`는 사실 `a.__add__(b)`의 축약형이다."
   ]
  },
  {
   "cell_type": "markdown",
   "id": "996bbb7f-4b22-4d39-87d3-5f8582f9101e",
   "metadata": {
    "id": "e26a2144-2130-45a6-9429-1501f7b2bf53"
   },
   "source": [
    "# 5. `__getitem__`"
   ]
  },
  {
   "cell_type": "markdown",
   "id": "80a6be5e-7fe0-4872-901b-10260abb1f43",
   "metadata": {
    "id": "79019f7a-0c8a-4820-a4c0-7dcaa334ba67"
   },
   "source": [
    "## A. 모티브"
   ]
  },
  {
   "cell_type": "code",
   "execution_count": 50,
   "id": "43b2a2df-292d-488c-a529-b4c424ec30e7",
   "metadata": {
    "tags": []
   },
   "outputs": [
    {
     "data": {
      "text/plain": [
       "[11, 22, 33]"
      ]
     },
     "execution_count": 50,
     "metadata": {},
     "output_type": "execute_result"
    }
   ],
   "source": [
    "a = [11,22,33]\n",
    "a"
   ]
  },
  {
   "cell_type": "code",
   "execution_count": 51,
   "id": "297eabe8-e3aa-4087-8ba0-9f07c9c69e9b",
   "metadata": {
    "tags": []
   },
   "outputs": [
    {
     "data": {
      "text/plain": [
       "11"
      ]
     },
     "execution_count": 51,
     "metadata": {},
     "output_type": "execute_result"
    }
   ],
   "source": [
    "a[0]"
   ]
  },
  {
   "cell_type": "markdown",
   "id": "a928f5f3-a31e-4465-a6db-377d30766d64",
   "metadata": {},
   "source": [
    "- 이거 좋아보인다? "
   ]
  },
  {
   "cell_type": "code",
   "execution_count": 52,
   "id": "05b1dee7-fea5-4044-8028-b36e184091ff",
   "metadata": {
    "tags": []
   },
   "outputs": [
    {
     "data": {
      "text/plain": [
       "11"
      ]
     },
     "execution_count": 52,
     "metadata": {},
     "output_type": "execute_result"
    }
   ],
   "source": [
    "a.__getitem__(0) # a[0]의 축약표현"
   ]
  },
  {
   "cell_type": "code",
   "execution_count": 53,
   "id": "233400b6-903b-45ff-ac57-36bcd2fbb61a",
   "metadata": {
    "tags": []
   },
   "outputs": [
    {
     "data": {
      "text/plain": [
       "22"
      ]
     },
     "execution_count": 53,
     "metadata": {},
     "output_type": "execute_result"
    }
   ],
   "source": [
    "a.__getitem__(1) # a[1]의 축약표현"
   ]
  },
  {
   "cell_type": "code",
   "execution_count": 54,
   "id": "480a09c4-8e1d-4594-b1d3-86112a0d2bea",
   "metadata": {
    "tags": []
   },
   "outputs": [
    {
     "data": {
      "text/plain": [
       "33"
      ]
     },
     "execution_count": 54,
     "metadata": {},
     "output_type": "execute_result"
    }
   ],
   "source": [
    "a.__getitem__(-1) # a[-1]의 축약표현"
   ]
  },
  {
   "cell_type": "markdown",
   "id": "31773b84-d6c7-4cf7-8555-4b6a2fa75731",
   "metadata": {},
   "source": [
    "- 이런거였어??"
   ]
  },
  {
   "cell_type": "markdown",
   "id": "58938029-8e45-4643-ae3e-ee1aa5f09f2f",
   "metadata": {
    "id": "94598d7d-b716-4113-992f-582b2333b6ef"
   },
   "source": [
    "## B. RPS2: `__getitem__`의 사용"
   ]
  },
  {
   "cell_type": "code",
   "execution_count": 168,
   "id": "f199dbba-cf6a-4744-ad2e-cca12393228e",
   "metadata": {
    "tags": []
   },
   "outputs": [],
   "source": [
    "class RPSBase:\n",
    "    def __init__(self,action_space):\n",
    "        self.action_space = action_space \n",
    "        self.actions = []\n",
    "    def act(self):\n",
    "        action = np.random.choice(self.action_space)\n",
    "        self.actions.append(action)\n",
    "        return action\n",
    "    def __repr__(self):\n",
    "        text = f\"낼 수 있는 패: {self.action_space}\\n기록: {self.actions}\"\n",
    "        return text"
   ]
  },
  {
   "cell_type": "code",
   "execution_count": 169,
   "id": "5165b05c-ebf4-4b2e-bce4-526c407a8ed6",
   "metadata": {
    "tags": []
   },
   "outputs": [
    {
     "data": {
      "text/plain": [
       "낼 수 있는 패: ['가위', '바위', '보']\n",
       "기록: []"
      ]
     },
     "execution_count": 169,
     "metadata": {},
     "output_type": "execute_result"
    }
   ],
   "source": [
    "A = RPSBase(['가위','바위','보'])\n",
    "A"
   ]
  },
  {
   "cell_type": "code",
   "execution_count": 170,
   "id": "a0664711-cb53-4590-9513-78beda16a91a",
   "metadata": {
    "tags": []
   },
   "outputs": [
    {
     "data": {
      "text/plain": [
       "'바위'"
      ]
     },
     "execution_count": 170,
     "metadata": {},
     "output_type": "execute_result"
    }
   ],
   "source": [
    "A.act()\n",
    "A.act()"
   ]
  },
  {
   "cell_type": "code",
   "execution_count": 171,
   "id": "1323533f-d77b-4b4b-9011-d6107530478f",
   "metadata": {
    "tags": []
   },
   "outputs": [
    {
     "data": {
      "text/plain": [
       "낼 수 있는 패: ['가위', '바위', '보']\n",
       "기록: ['바위', '바위']"
      ]
     },
     "execution_count": 171,
     "metadata": {},
     "output_type": "execute_result"
    }
   ],
   "source": [
    "A"
   ]
  },
  {
   "cell_type": "code",
   "execution_count": 172,
   "id": "ca21cbab-dac2-4d75-ae54-cf55b8c24384",
   "metadata": {
    "tags": []
   },
   "outputs": [
    {
     "ename": "TypeError",
     "evalue": "'RPSBase' object is not subscriptable",
     "output_type": "error",
     "traceback": [
      "\u001b[0;31m---------------------------------------------------------------------------\u001b[0m",
      "\u001b[0;31mTypeError\u001b[0m                                 Traceback (most recent call last)",
      "Cell \u001b[0;32mIn[172], line 1\u001b[0m\n\u001b[0;32m----> 1\u001b[0m \u001b[43mA\u001b[49m\u001b[43m[\u001b[49m\u001b[38;5;241;43m0\u001b[39;49m\u001b[43m]\u001b[49m, A[\u001b[38;5;241m1\u001b[39m]\n",
      "\u001b[0;31mTypeError\u001b[0m: 'RPSBase' object is not subscriptable"
     ]
    }
   ],
   "source": [
    "A[0], A[1]"
   ]
  },
  {
   "cell_type": "markdown",
   "id": "42d2642e-1b02-4ebe-af73-0d9a4614b95f",
   "metadata": {},
   "source": [
    "- 이 결과가 \"A.actions[0]=바위\", \"A.actions[1]=가위\"로 나왔으면 좋겠다.. 그런데 지금은 불가능함. "
   ]
  },
  {
   "cell_type": "code",
   "execution_count": 173,
   "id": "3c6c96a1-7279-4d31-8228-daf51c5ca9ae",
   "metadata": {
    "tags": []
   },
   "outputs": [
    {
     "ename": "AttributeError",
     "evalue": "'RPSBase' object has no attribute '__getitem__'",
     "output_type": "error",
     "traceback": [
      "\u001b[0;31m---------------------------------------------------------------------------\u001b[0m",
      "\u001b[0;31mAttributeError\u001b[0m                            Traceback (most recent call last)",
      "Cell \u001b[0;32mIn[173], line 1\u001b[0m\n\u001b[0;32m----> 1\u001b[0m \u001b[43mA\u001b[49m\u001b[38;5;241;43m.\u001b[39;49m\u001b[38;5;21;43m__getitem__\u001b[39;49m(\u001b[38;5;241m0\u001b[39m)\n",
      "\u001b[0;31mAttributeError\u001b[0m: 'RPSBase' object has no attribute '__getitem__'"
     ]
    }
   ],
   "source": [
    "A.__getitem__(0)"
   ]
  },
  {
   "cell_type": "code",
   "execution_count": 179,
   "id": "a2f4e490-6021-48ea-acd6-6fbff3fa91a3",
   "metadata": {
    "tags": []
   },
   "outputs": [],
   "source": [
    "class RPS1(RPSBase):\n",
    "    def __getitem__(self,idx):\n",
    "        return self.actions[idx]"
   ]
  },
  {
   "cell_type": "code",
   "execution_count": 180,
   "id": "79e9e6f2-430d-44b2-a26d-e0e4edaa94d4",
   "metadata": {
    "tags": []
   },
   "outputs": [
    {
     "data": {
      "text/plain": [
       "낼 수 있는 패: ['가위', '바위', '보']\n",
       "기록: []"
      ]
     },
     "execution_count": 180,
     "metadata": {},
     "output_type": "execute_result"
    }
   ],
   "source": [
    "A = RPS1(['가위','바위','보'])\n",
    "A"
   ]
  },
  {
   "cell_type": "code",
   "execution_count": 181,
   "id": "afcf16b4-df80-4a96-8805-8d8be8e96941",
   "metadata": {
    "tags": []
   },
   "outputs": [
    {
     "data": {
      "text/plain": [
       "'보'"
      ]
     },
     "execution_count": 181,
     "metadata": {},
     "output_type": "execute_result"
    }
   ],
   "source": [
    "A.act()\n",
    "A.act()\n",
    "A.act()\n",
    "A.act()"
   ]
  },
  {
   "cell_type": "code",
   "execution_count": 182,
   "id": "eef9c0a5-9333-4272-919b-3d7bede59ef6",
   "metadata": {
    "tags": []
   },
   "outputs": [
    {
     "data": {
      "text/plain": [
       "낼 수 있는 패: ['가위', '바위', '보']\n",
       "기록: ['바위', '보', '보', '보']"
      ]
     },
     "execution_count": 182,
     "metadata": {},
     "output_type": "execute_result"
    }
   ],
   "source": [
    "A"
   ]
  },
  {
   "cell_type": "code",
   "execution_count": 183,
   "id": "dde4c5b5-8c2d-4673-84dc-1acbfa4f20ca",
   "metadata": {
    "tags": []
   },
   "outputs": [
    {
     "data": {
      "text/plain": [
       "('바위', '보', '보', '보')"
      ]
     },
     "execution_count": 183,
     "metadata": {},
     "output_type": "execute_result"
    }
   ],
   "source": [
    "A[0],A[1],A[2],A[-1]"
   ]
  },
  {
   "cell_type": "markdown",
   "id": "3a806c5a-7532-4731-abb2-1d5cd1347f29",
   "metadata": {
    "id": "091fcdae-3ae7-4940-8d6d-05c047696e39"
   },
   "source": [
    "> 파이썬의 비밀: `A[0]`는 `A.__getitem__(0)`의 축약형이다."
   ]
  },
  {
   "cell_type": "markdown",
   "id": "0aca8639-cbc9-42f7-8a89-45b62b2fdc5b",
   "metadata": {
    "id": "a19e9867-e172-4707-8584-01a470b5a68c"
   },
   "source": [
    "# 6. `__setitem__`"
   ]
  },
  {
   "cell_type": "markdown",
   "id": "fe80ba82-1fd8-444f-b761-a8fb442a0923",
   "metadata": {
    "id": "99d47534-6b75-4ccc-871f-c0cd80f7b6f4"
   },
   "source": [
    "## A. 모티브"
   ]
  },
  {
   "cell_type": "code",
   "execution_count": 184,
   "id": "ce6b0c3d-fb41-4dd9-88b6-36549a23efe7",
   "metadata": {
    "tags": []
   },
   "outputs": [
    {
     "data": {
      "text/plain": [
       "낼 수 있는 패: ['가위', '바위']\n",
       "기록: []"
      ]
     },
     "execution_count": 184,
     "metadata": {},
     "output_type": "execute_result"
    }
   ],
   "source": [
    "A = RPS1(['가위','바위'])\n",
    "A"
   ]
  },
  {
   "cell_type": "code",
   "execution_count": 185,
   "id": "85b73105-1c12-4031-99e8-f63f24f979db",
   "metadata": {
    "tags": []
   },
   "outputs": [
    {
     "data": {
      "text/plain": [
       "'바위'"
      ]
     },
     "execution_count": 185,
     "metadata": {},
     "output_type": "execute_result"
    }
   ],
   "source": [
    "A.act()\n",
    "A.act()\n",
    "A.act()\n",
    "A.act()"
   ]
  },
  {
   "cell_type": "code",
   "execution_count": 186,
   "id": "e91d214c-2e80-475f-b3cc-1dac6377066e",
   "metadata": {
    "tags": []
   },
   "outputs": [
    {
     "data": {
      "text/plain": [
       "낼 수 있는 패: ['가위', '바위']\n",
       "기록: ['바위', '바위', '가위', '바위']"
      ]
     },
     "execution_count": 186,
     "metadata": {},
     "output_type": "execute_result"
    }
   ],
   "source": [
    "A"
   ]
  },
  {
   "cell_type": "code",
   "execution_count": 187,
   "id": "4b42db64-7bc9-44ae-99d1-54805a488137",
   "metadata": {
    "tags": []
   },
   "outputs": [
    {
     "data": {
      "text/plain": [
       "'바위'"
      ]
     },
     "execution_count": 187,
     "metadata": {},
     "output_type": "execute_result"
    }
   ],
   "source": [
    "A[0]"
   ]
  },
  {
   "cell_type": "code",
   "execution_count": 188,
   "id": "d1f97075-ef5f-425c-8b01-77307d44c37e",
   "metadata": {
    "tags": []
   },
   "outputs": [
    {
     "ename": "TypeError",
     "evalue": "'RPS1' object does not support item assignment",
     "output_type": "error",
     "traceback": [
      "\u001b[0;31m---------------------------------------------------------------------------\u001b[0m",
      "\u001b[0;31mTypeError\u001b[0m                                 Traceback (most recent call last)",
      "Cell \u001b[0;32mIn[188], line 1\u001b[0m\n\u001b[0;32m----> 1\u001b[0m \u001b[43mA\u001b[49m\u001b[43m[\u001b[49m\u001b[38;5;241;43m0\u001b[39;49m\u001b[43m]\u001b[49m \u001b[38;5;241m=\u001b[39m \u001b[38;5;124m\"\u001b[39m\u001b[38;5;124m보\u001b[39m\u001b[38;5;124m\"\u001b[39m\n",
      "\u001b[0;31mTypeError\u001b[0m: 'RPS1' object does not support item assignment"
     ]
    }
   ],
   "source": [
    "A[0] = \"보\""
   ]
  },
  {
   "cell_type": "markdown",
   "id": "4c54f9f2-1b7c-4706-84b2-c53970be1abe",
   "metadata": {},
   "source": [
    "- 여기서 이 문법이 가능하면 결과 조작이긴 함. \n",
    "- 그런데 경우에 따라서는 이런 문법이 필요할 때도 있음. "
   ]
  },
  {
   "cell_type": "markdown",
   "id": "8d7b3300-da9c-45f1-b19a-63f10cb6fa85",
   "metadata": {
    "id": "ba75018d-c2b6-4afc-b0d1-e1327183603a"
   },
   "source": [
    "## B. RPS3: `__setitem__` 사용"
   ]
  },
  {
   "cell_type": "markdown",
   "id": "6e35a1f5-9fc8-49ee-be31-131f57fa0560",
   "metadata": {
    "id": "1b92221e-72b8-42c5-b88a-ef3b092e1b6d"
   },
   "source": [
    "`-` 관찰"
   ]
  },
  {
   "cell_type": "code",
   "execution_count": 189,
   "id": "e8aaa857-6cbd-4ea0-98b2-af78ade1dec7",
   "metadata": {
    "tags": []
   },
   "outputs": [
    {
     "data": {
      "text/plain": [
       "[1, 2, 3]"
      ]
     },
     "execution_count": 189,
     "metadata": {},
     "output_type": "execute_result"
    }
   ],
   "source": [
    "lst = [1,2,3] \n",
    "lst"
   ]
  },
  {
   "cell_type": "code",
   "execution_count": 190,
   "id": "8a925d7f-60a8-4639-9a83-ce8568cef0e5",
   "metadata": {
    "tags": []
   },
   "outputs": [
    {
     "data": {
      "text/plain": [
       "[11, 2, 3]"
      ]
     },
     "execution_count": 190,
     "metadata": {},
     "output_type": "execute_result"
    }
   ],
   "source": [
    "lst[0] = 11\n",
    "lst"
   ]
  },
  {
   "cell_type": "code",
   "execution_count": 191,
   "id": "2cec3cd2-4d72-443c-922c-e1ead996d845",
   "metadata": {
    "tags": []
   },
   "outputs": [
    {
     "data": {
      "text/plain": [
       "[-11, 2, 3]"
      ]
     },
     "execution_count": 191,
     "metadata": {},
     "output_type": "execute_result"
    }
   ],
   "source": [
    "lst.__setitem__(0,-11) # lst[0] = -11 의 역할\n",
    "lst"
   ]
  },
  {
   "cell_type": "markdown",
   "id": "21f3914c-b945-4c05-bb5b-1766e8db2f18",
   "metadata": {
    "id": "4f9d28f4-aed3-4623-a30a-343b242c2189"
   },
   "source": [
    "`-` RPS예제"
   ]
  },
  {
   "cell_type": "code",
   "execution_count": 192,
   "id": "200e5435-776b-4323-9ff2-5fb9a01502d0",
   "metadata": {
    "tags": []
   },
   "outputs": [],
   "source": [
    "class RPS2(RPS1):\n",
    "    def __setitem__(self,idx,val):\n",
    "        self.actions[idx] = val "
   ]
  },
  {
   "cell_type": "code",
   "execution_count": 193,
   "id": "58f69ff0-7213-4d4f-bba2-c076026b90a3",
   "metadata": {
    "tags": []
   },
   "outputs": [
    {
     "data": {
      "text/plain": [
       "낼 수 있는 패: ['가위', '바위']\n",
       "기록: []"
      ]
     },
     "execution_count": 193,
     "metadata": {},
     "output_type": "execute_result"
    }
   ],
   "source": [
    "A = RPS2(['가위','바위'])\n",
    "A"
   ]
  },
  {
   "cell_type": "code",
   "execution_count": 194,
   "id": "28ad5493-6147-435b-9cc3-c85a191bc744",
   "metadata": {
    "tags": []
   },
   "outputs": [
    {
     "data": {
      "text/plain": [
       "'가위'"
      ]
     },
     "execution_count": 194,
     "metadata": {},
     "output_type": "execute_result"
    }
   ],
   "source": [
    "A.act()\n",
    "A.act()\n",
    "A.act()\n",
    "A.act()"
   ]
  },
  {
   "cell_type": "code",
   "execution_count": 195,
   "id": "3548da5a-45fc-438f-b82b-2ca5d0cf5ea0",
   "metadata": {
    "tags": []
   },
   "outputs": [
    {
     "data": {
      "text/plain": [
       "낼 수 있는 패: ['가위', '바위']\n",
       "기록: ['바위', '가위', '바위', '가위']"
      ]
     },
     "execution_count": 195,
     "metadata": {},
     "output_type": "execute_result"
    }
   ],
   "source": [
    "A"
   ]
  },
  {
   "cell_type": "code",
   "execution_count": 196,
   "id": "1c5bf019-711f-45e3-a535-c84cbacd94a4",
   "metadata": {
    "tags": []
   },
   "outputs": [
    {
     "data": {
      "text/plain": [
       "'바위'"
      ]
     },
     "execution_count": 196,
     "metadata": {},
     "output_type": "execute_result"
    }
   ],
   "source": [
    "A[0]"
   ]
  },
  {
   "cell_type": "code",
   "execution_count": 197,
   "id": "eceb0ec8-9139-4f91-8ad4-395dabffc2e5",
   "metadata": {
    "tags": []
   },
   "outputs": [],
   "source": [
    "A[0] = \"보\"\n",
    "# A.__setitem__(0,\"보\")\n",
    "# A.actions[0] = \"보\" "
   ]
  },
  {
   "cell_type": "code",
   "execution_count": 198,
   "id": "d8c9ffef-d10e-4986-9cfe-fe0daa2eb431",
   "metadata": {
    "tags": []
   },
   "outputs": [
    {
     "data": {
      "text/plain": [
       "낼 수 있는 패: ['가위', '바위']\n",
       "기록: ['보', '가위', '바위', '가위']"
      ]
     },
     "execution_count": 198,
     "metadata": {},
     "output_type": "execute_result"
    }
   ],
   "source": [
    "A"
   ]
  },
  {
   "cell_type": "markdown",
   "id": "815d09fd-9ed0-490a-89c7-57b24e8a3447",
   "metadata": {
    "id": "b0ba537d-fe10-489a-906c-7c84a1fbda1a"
   },
   "source": [
    "> 파이썬의 비밀: `A[0]=\"보\"`는 `A.__setitem__(0,\"보\")`의 축약형이다."
   ]
  },
  {
   "cell_type": "markdown",
   "id": "f30b3457-4508-4b1f-918a-0aab40a8c216",
   "metadata": {
    "id": "6f13895c-3ce2-4b11-b89b-c6eaadce9916"
   },
   "source": [
    "# 7. `__len__`"
   ]
  },
  {
   "cell_type": "markdown",
   "id": "24250cd2-3604-43fa-91c9-f75b207da763",
   "metadata": {
    "id": "4fae7ba6-cd9d-4bc1-b191-9413fdfb6047"
   },
   "source": [
    "## A. 모티브"
   ]
  },
  {
   "cell_type": "code",
   "execution_count": 199,
   "id": "9a6ad3b1-d95f-4f37-88ba-b5a8b0b2bcfe",
   "metadata": {
    "tags": []
   },
   "outputs": [
    {
     "data": {
      "text/plain": [
       "낼 수 있는 패: ['가위', '바위']\n",
       "기록: []"
      ]
     },
     "execution_count": 199,
     "metadata": {},
     "output_type": "execute_result"
    }
   ],
   "source": [
    "A = RPS2(['가위','바위'])\n",
    "A"
   ]
  },
  {
   "cell_type": "code",
   "execution_count": 200,
   "id": "9a26a568-c0d2-4e7b-b171-c33a41121bdc",
   "metadata": {
    "tags": []
   },
   "outputs": [
    {
     "data": {
      "text/plain": [
       "'가위'"
      ]
     },
     "execution_count": 200,
     "metadata": {},
     "output_type": "execute_result"
    }
   ],
   "source": [
    "A.act()\n",
    "A.act()\n",
    "A.act()\n",
    "A.act()"
   ]
  },
  {
   "cell_type": "code",
   "execution_count": 201,
   "id": "bc94dba4-55a1-4e80-8d4e-dce792235b0c",
   "metadata": {
    "tags": []
   },
   "outputs": [
    {
     "data": {
      "text/plain": [
       "낼 수 있는 패: ['가위', '바위']\n",
       "기록: ['가위', '가위', '바위', '가위']"
      ]
     },
     "execution_count": 201,
     "metadata": {},
     "output_type": "execute_result"
    }
   ],
   "source": [
    "A"
   ]
  },
  {
   "cell_type": "code",
   "execution_count": 202,
   "id": "e0961944-b812-4284-8673-1ec0128a6f8c",
   "metadata": {
    "tags": []
   },
   "outputs": [
    {
     "data": {
      "text/plain": [
       "('가위', '가위', '바위', '가위')"
      ]
     },
     "execution_count": 202,
     "metadata": {},
     "output_type": "execute_result"
    }
   ],
   "source": [
    "A[0],A[1],A[2],A[3]"
   ]
  },
  {
   "cell_type": "code",
   "execution_count": 203,
   "id": "9a8d23c4-2b1d-4032-bd31-58e2ca3e7e97",
   "metadata": {
    "tags": []
   },
   "outputs": [
    {
     "ename": "TypeError",
     "evalue": "object of type 'RPS2' has no len()",
     "output_type": "error",
     "traceback": [
      "\u001b[0;31m---------------------------------------------------------------------------\u001b[0m",
      "\u001b[0;31mTypeError\u001b[0m                                 Traceback (most recent call last)",
      "Cell \u001b[0;32mIn[203], line 1\u001b[0m\n\u001b[0;32m----> 1\u001b[0m \u001b[38;5;28;43mlen\u001b[39;49m\u001b[43m(\u001b[49m\u001b[43mA\u001b[49m\u001b[43m)\u001b[49m\n",
      "\u001b[0;31mTypeError\u001b[0m: object of type 'RPS2' has no len()"
     ]
    }
   ],
   "source": [
    "len(A)"
   ]
  },
  {
   "cell_type": "markdown",
   "id": "6d676d99-62c1-4278-a0f1-874d463b02ed",
   "metadata": {},
   "source": [
    "- 이게 4라고 나왔으면.. "
   ]
  },
  {
   "cell_type": "markdown",
   "id": "f0d34467-0d0b-46ef-aa63-4c1b2ba22159",
   "metadata": {
    "id": "9bbdde39-5729-4365-804d-c96d62296565"
   },
   "source": [
    "## B. RPS4: `__len__` 의 사용"
   ]
  },
  {
   "cell_type": "markdown",
   "id": "1b0bb3cf-f811-49e5-8fab-0daefc90a656",
   "metadata": {},
   "source": [
    "`-` 관찰"
   ]
  },
  {
   "cell_type": "code",
   "execution_count": 204,
   "id": "1f16bb33-c224-4490-91c9-1389de725f52",
   "metadata": {
    "tags": []
   },
   "outputs": [
    {
     "data": {
      "text/plain": [
       "3"
      ]
     },
     "execution_count": 204,
     "metadata": {},
     "output_type": "execute_result"
    }
   ],
   "source": [
    "a = [1,2,3]\n",
    "len(a)"
   ]
  },
  {
   "cell_type": "code",
   "execution_count": 205,
   "id": "f0bf19c7-bdbb-47dd-9138-31a47299e1ab",
   "metadata": {
    "tags": []
   },
   "outputs": [
    {
     "data": {
      "text/plain": [
       "3"
      ]
     },
     "execution_count": 205,
     "metadata": {},
     "output_type": "execute_result"
    }
   ],
   "source": [
    "a.__len__()"
   ]
  },
  {
   "cell_type": "markdown",
   "id": "06d3a04c-7769-49a0-be67-66d26879a477",
   "metadata": {},
   "source": [
    "`-` 구현 "
   ]
  },
  {
   "cell_type": "code",
   "execution_count": 206,
   "id": "b2471e3a-e92b-41c8-8e1e-6a5542e5ee0a",
   "metadata": {
    "tags": []
   },
   "outputs": [],
   "source": [
    "class RPS3(RPS2):\n",
    "    def __len__(self):\n",
    "        return len(self.actions)"
   ]
  },
  {
   "cell_type": "code",
   "execution_count": 207,
   "id": "0f90d573-6533-4f23-90fa-caab2561ad61",
   "metadata": {
    "tags": []
   },
   "outputs": [
    {
     "data": {
      "text/plain": [
       "낼 수 있는 패: ['가위', '바위']\n",
       "기록: []"
      ]
     },
     "execution_count": 207,
     "metadata": {},
     "output_type": "execute_result"
    }
   ],
   "source": [
    "A = RPS3(['가위','바위'])\n",
    "A"
   ]
  },
  {
   "cell_type": "code",
   "execution_count": 208,
   "id": "0abc6698-4bfe-4fe8-bc7c-4ce1c8672519",
   "metadata": {
    "tags": []
   },
   "outputs": [
    {
     "data": {
      "text/plain": [
       "'가위'"
      ]
     },
     "execution_count": 208,
     "metadata": {},
     "output_type": "execute_result"
    }
   ],
   "source": [
    "A.act()\n",
    "A.act()\n",
    "A.act()\n",
    "A.act()\n",
    "A.act()\n",
    "A.act()\n",
    "A.act()"
   ]
  },
  {
   "cell_type": "code",
   "execution_count": 209,
   "id": "76420691-4373-418d-b70d-64047960ec00",
   "metadata": {
    "tags": []
   },
   "outputs": [
    {
     "data": {
      "text/plain": [
       "낼 수 있는 패: ['가위', '바위']\n",
       "기록: ['가위', '가위', '바위', '가위', '가위', '바위', '가위']"
      ]
     },
     "execution_count": 209,
     "metadata": {},
     "output_type": "execute_result"
    }
   ],
   "source": [
    "A"
   ]
  },
  {
   "cell_type": "code",
   "execution_count": 210,
   "id": "fa07935a-7b74-453b-afb5-34c40156206f",
   "metadata": {
    "tags": []
   },
   "outputs": [
    {
     "data": {
      "text/plain": [
       "7"
      ]
     },
     "execution_count": 210,
     "metadata": {},
     "output_type": "execute_result"
    }
   ],
   "source": [
    "len(A)"
   ]
  },
  {
   "cell_type": "markdown",
   "id": "b5a8e8bb-aa01-493f-9d5c-095fc51d97c4",
   "metadata": {
    "id": "8446a2fd-d5da-428f-86ca-945e43334db4"
   },
   "source": [
    "> 파이썬의 비밀: `len(A)`는 `A.__len__()`의 축약형이다."
   ]
  },
  {
   "cell_type": "markdown",
   "id": "62c7ea32-cb47-43d8-a496-0b1125abe1e1",
   "metadata": {
    "id": "69bc6579-490f-4602-9ff8-ea7a26208a18"
   },
   "source": [
    "# 8. `__eq__`"
   ]
  },
  {
   "cell_type": "markdown",
   "id": "53a92830-bb83-4484-83f6-3f3f036e3dc4",
   "metadata": {
    "id": "ff18083f-5fe5-4c76-a500-0d8c7fe0d382"
   },
   "source": [
    "## A. 모티브"
   ]
  },
  {
   "cell_type": "code",
   "execution_count": 212,
   "id": "b7fc7f85-e814-41af-926c-e4063e4e6457",
   "metadata": {
    "tags": []
   },
   "outputs": [],
   "source": [
    "A = RPS3(['가위','바위'])\n",
    "B = RPS3(['가위','보'])"
   ]
  },
  {
   "cell_type": "code",
   "execution_count": 213,
   "id": "109abd4b-2fba-45df-acab-6cbb5bc7684f",
   "metadata": {
    "tags": []
   },
   "outputs": [
    {
     "data": {
      "text/plain": [
       "'보'"
      ]
     },
     "execution_count": 213,
     "metadata": {},
     "output_type": "execute_result"
    }
   ],
   "source": [
    "A.act()\n",
    "B.act()"
   ]
  },
  {
   "cell_type": "code",
   "execution_count": 214,
   "id": "b360ff6c-8a6d-417c-8ab7-5fab1482fdc3",
   "metadata": {
    "tags": []
   },
   "outputs": [
    {
     "data": {
      "text/plain": [
       "(낼 수 있는 패: ['가위', '바위']\n",
       " 기록: ['가위'],\n",
       " 낼 수 있는 패: ['가위', '보']\n",
       " 기록: ['보'])"
      ]
     },
     "execution_count": 214,
     "metadata": {},
     "output_type": "execute_result"
    }
   ],
   "source": [
    "A,B"
   ]
  },
  {
   "cell_type": "code",
   "execution_count": 215,
   "id": "313e0896-d586-41ec-9b1a-345f8c4e8106",
   "metadata": {
    "tags": []
   },
   "outputs": [],
   "source": [
    "A[0] = \"가위\"\n",
    "B[0] = \"가위\""
   ]
  },
  {
   "cell_type": "code",
   "execution_count": 216,
   "id": "090a5172-eab1-4c26-907a-ea3e8239b4a7",
   "metadata": {
    "tags": []
   },
   "outputs": [
    {
     "data": {
      "text/plain": [
       "(낼 수 있는 패: ['가위', '바위']\n",
       " 기록: ['가위'],\n",
       " 낼 수 있는 패: ['가위', '보']\n",
       " 기록: ['가위'])"
      ]
     },
     "execution_count": 216,
     "metadata": {},
     "output_type": "execute_result"
    }
   ],
   "source": [
    "A,B"
   ]
  },
  {
   "cell_type": "code",
   "execution_count": 217,
   "id": "0dc25137-a54b-4e19-90d3-3a352ad71da3",
   "metadata": {
    "tags": []
   },
   "outputs": [
    {
     "data": {
      "text/plain": [
       "False"
      ]
     },
     "execution_count": 217,
     "metadata": {},
     "output_type": "execute_result"
    }
   ],
   "source": [
    "A == B"
   ]
  },
  {
   "cell_type": "markdown",
   "id": "55aea986-5103-468e-a5c5-c8b7e50f7b2e",
   "metadata": {},
   "source": [
    "- 의미상으로는 A와 B 모두 \"가위\"를 냈으므로, 현재는 비겼음. \n",
    "- 그래서 `A==B`의 결과가 True가 나오는 것이 더 의미상 맞는것 같다. "
   ]
  },
  {
   "cell_type": "markdown",
   "id": "b8f4d237-4768-4a85-8f67-b9f836b0a0d9",
   "metadata": {
    "id": "e9bef382-b33b-44d6-971b-b859e49e2460"
   },
   "source": [
    "## B. RPS5: `__eq__` 의 사용"
   ]
  },
  {
   "cell_type": "markdown",
   "id": "5960830a-0e57-46ba-835e-9187ff07fc0d",
   "metadata": {
    "id": "76d086d5-0c5f-4511-a1de-d5d119ac8453"
   },
   "source": [
    "`-` 관찰"
   ]
  },
  {
   "cell_type": "code",
   "execution_count": 218,
   "id": "679301a5-4e60-4133-b290-de82ecf90377",
   "metadata": {
    "tags": []
   },
   "outputs": [],
   "source": [
    "a = 33 \n",
    "b = 33 \n",
    "c = 55"
   ]
  },
  {
   "cell_type": "code",
   "execution_count": 219,
   "id": "b6ccc38f-de06-4e7e-a2c4-08289ad4cfef",
   "metadata": {
    "tags": []
   },
   "outputs": [
    {
     "data": {
      "text/plain": [
       "True"
      ]
     },
     "execution_count": 219,
     "metadata": {},
     "output_type": "execute_result"
    }
   ],
   "source": [
    "a.__eq__(b)  # a==b"
   ]
  },
  {
   "cell_type": "code",
   "execution_count": 220,
   "id": "e49bb509-b0a7-4263-a93b-d5ae1a8a273b",
   "metadata": {
    "tags": []
   },
   "outputs": [
    {
     "data": {
      "text/plain": [
       "False"
      ]
     },
     "execution_count": 220,
     "metadata": {},
     "output_type": "execute_result"
    }
   ],
   "source": [
    "a.__eq__(c)  # a==c"
   ]
  },
  {
   "cell_type": "markdown",
   "id": "f85e7672-10e9-4ca0-a0ca-57575dff76e3",
   "metadata": {
    "id": "b0ee2bbc-e9ab-4e35-aeb5-d5503e60a021"
   },
   "source": [
    "`-` 구현"
   ]
  },
  {
   "cell_type": "code",
   "execution_count": 221,
   "id": "0dc2f451-fafd-4ede-9a03-0088a046668d",
   "metadata": {
    "tags": []
   },
   "outputs": [],
   "source": [
    "class RPS4(RPS3):\n",
    "    def __eq__(self,other):\n",
    "        return self[-1] == other[-1]"
   ]
  },
  {
   "cell_type": "code",
   "execution_count": 222,
   "id": "27eb2244-976b-4fb0-8730-c0ac66efef4b",
   "metadata": {
    "tags": []
   },
   "outputs": [],
   "source": [
    "A = RPS4(['가위','바위'])\n",
    "B = RPS4(['가위','보'])"
   ]
  },
  {
   "cell_type": "markdown",
   "id": "99241204-2699-4018-86d9-7244fe5146ed",
   "metadata": {
    "id": "f82ee8e3-2907-4763-b016-20f04bd5904a"
   },
   "source": [
    "**1회 대결**"
   ]
  },
  {
   "cell_type": "code",
   "execution_count": 223,
   "id": "8a56a7de-eacc-49e4-8fb9-6992ac6c5f0a",
   "metadata": {
    "tags": []
   },
   "outputs": [
    {
     "data": {
      "text/plain": [
       "'보'"
      ]
     },
     "execution_count": 223,
     "metadata": {},
     "output_type": "execute_result"
    }
   ],
   "source": [
    "A.act()\n",
    "B.act()"
   ]
  },
  {
   "cell_type": "code",
   "execution_count": 224,
   "id": "685c4fc0-baff-4461-8bb8-61783fdebefb",
   "metadata": {
    "tags": []
   },
   "outputs": [
    {
     "data": {
      "text/plain": [
       "(낼 수 있는 패: ['가위', '바위']\n",
       " 기록: ['바위'],\n",
       " 낼 수 있는 패: ['가위', '보']\n",
       " 기록: ['보'])"
      ]
     },
     "execution_count": 224,
     "metadata": {},
     "output_type": "execute_result"
    }
   ],
   "source": [
    "A,B"
   ]
  },
  {
   "cell_type": "code",
   "execution_count": 225,
   "id": "f412ee0f-a42b-4fe3-9c44-947f869ff9b5",
   "metadata": {
    "tags": []
   },
   "outputs": [
    {
     "data": {
      "text/plain": [
       "False"
      ]
     },
     "execution_count": 225,
     "metadata": {},
     "output_type": "execute_result"
    }
   ],
   "source": [
    "A == B"
   ]
  },
  {
   "cell_type": "markdown",
   "id": "ff90694b-bab9-47ad-bc80-e7222bf4b233",
   "metadata": {
    "id": "7036d271-62f3-4ee8-b4a1-8e0c20a1155c"
   },
   "source": [
    "**2회 대결**"
   ]
  },
  {
   "cell_type": "code",
   "execution_count": 226,
   "id": "a99b0de3-c4dd-4a42-ad48-cda13f0f0faa",
   "metadata": {
    "tags": []
   },
   "outputs": [
    {
     "data": {
      "text/plain": [
       "'가위'"
      ]
     },
     "execution_count": 226,
     "metadata": {},
     "output_type": "execute_result"
    }
   ],
   "source": [
    "A.act()\n",
    "B.act()"
   ]
  },
  {
   "cell_type": "code",
   "execution_count": 227,
   "id": "afdc8729-236b-43b9-911d-4dc1d28e21c5",
   "metadata": {
    "tags": []
   },
   "outputs": [
    {
     "data": {
      "text/plain": [
       "(낼 수 있는 패: ['가위', '바위']\n",
       " 기록: ['바위', '바위'],\n",
       " 낼 수 있는 패: ['가위', '보']\n",
       " 기록: ['보', '가위'])"
      ]
     },
     "execution_count": 227,
     "metadata": {},
     "output_type": "execute_result"
    }
   ],
   "source": [
    "A,B"
   ]
  },
  {
   "cell_type": "code",
   "execution_count": 228,
   "id": "3e77ac2b-42fe-4132-bd7b-416c92a904bc",
   "metadata": {
    "tags": []
   },
   "outputs": [
    {
     "data": {
      "text/plain": [
       "False"
      ]
     },
     "execution_count": 228,
     "metadata": {},
     "output_type": "execute_result"
    }
   ],
   "source": [
    "A == B"
   ]
  },
  {
   "cell_type": "markdown",
   "id": "be3d2da3-59d0-45c3-9c52-cb4849007839",
   "metadata": {
    "id": "1c23db0e-9925-47c1-ba7e-0ee9624abd6c"
   },
   "source": [
    "# 9 `__gt__`"
   ]
  },
  {
   "cell_type": "markdown",
   "id": "cc2d3079-e2d2-4660-a1c2-a3de9ac028c7",
   "metadata": {
    "tags": []
   },
   "source": [
    "## A. 모티브 "
   ]
  },
  {
   "cell_type": "code",
   "execution_count": 229,
   "id": "c1301e8d-7d2d-433a-8ed2-31e86285fea0",
   "metadata": {
    "tags": []
   },
   "outputs": [],
   "source": [
    "A = RPS4(['가위','바위'])\n",
    "B = RPS4(['가위','보'])"
   ]
  },
  {
   "cell_type": "markdown",
   "id": "b43574fd-79b7-48cb-b357-9a3aed282da3",
   "metadata": {
    "id": "f82ee8e3-2907-4763-b016-20f04bd5904a"
   },
   "source": [
    "**1회 대결**"
   ]
  },
  {
   "cell_type": "code",
   "execution_count": 230,
   "id": "06eb1f60-608d-4e63-8324-6f82a4c23416",
   "metadata": {
    "tags": []
   },
   "outputs": [
    {
     "data": {
      "text/plain": [
       "'보'"
      ]
     },
     "execution_count": 230,
     "metadata": {},
     "output_type": "execute_result"
    }
   ],
   "source": [
    "A.act()\n",
    "B.act()"
   ]
  },
  {
   "cell_type": "code",
   "execution_count": 231,
   "id": "408ad243-545f-4638-9e7b-704790c7ae09",
   "metadata": {
    "tags": []
   },
   "outputs": [
    {
     "data": {
      "text/plain": [
       "(낼 수 있는 패: ['가위', '바위']\n",
       " 기록: ['가위'],\n",
       " 낼 수 있는 패: ['가위', '보']\n",
       " 기록: ['보'])"
      ]
     },
     "execution_count": 231,
     "metadata": {},
     "output_type": "execute_result"
    }
   ],
   "source": [
    "A,B"
   ]
  },
  {
   "cell_type": "code",
   "execution_count": 232,
   "id": "5d3691fb-bd82-4ebe-b4c4-c173f8c900e9",
   "metadata": {
    "tags": []
   },
   "outputs": [
    {
     "ename": "TypeError",
     "evalue": "'>' not supported between instances of 'RPS4' and 'RPS4'",
     "output_type": "error",
     "traceback": [
      "\u001b[0;31m---------------------------------------------------------------------------\u001b[0m",
      "\u001b[0;31mTypeError\u001b[0m                                 Traceback (most recent call last)",
      "Cell \u001b[0;32mIn[232], line 1\u001b[0m\n\u001b[0;32m----> 1\u001b[0m \u001b[43mA\u001b[49m\u001b[38;5;241;43m>\u001b[39;49m\u001b[43mB\u001b[49m\n",
      "\u001b[0;31mTypeError\u001b[0m: '>' not supported between instances of 'RPS4' and 'RPS4'"
     ]
    }
   ],
   "source": [
    "A>B"
   ]
  },
  {
   "cell_type": "markdown",
   "id": "1584ea17-927b-4c7b-91db-e92434ecd84a",
   "metadata": {
    "id": "e788eb5d-683f-4113-b3ea-8bf20c09df49",
    "tags": []
   },
   "source": [
    "## B. RPS6: `__gt__` 의 사용"
   ]
  },
  {
   "cell_type": "markdown",
   "id": "9d5a19fe-7880-4543-a70f-9c02f0e6a292",
   "metadata": {
    "id": "3defc07a-8c04-486b-928b-623b330ad145"
   },
   "source": [
    "`-` 관찰"
   ]
  },
  {
   "cell_type": "code",
   "execution_count": 233,
   "id": "7d92746c-f155-4531-a84d-c22107951df0",
   "metadata": {
    "tags": []
   },
   "outputs": [],
   "source": [
    "a = 11\n",
    "b = 22 "
   ]
  },
  {
   "cell_type": "code",
   "execution_count": 234,
   "id": "59708856-8870-4066-816c-ec264c6c8cbb",
   "metadata": {
    "tags": []
   },
   "outputs": [
    {
     "data": {
      "text/plain": [
       "False"
      ]
     },
     "execution_count": 234,
     "metadata": {},
     "output_type": "execute_result"
    }
   ],
   "source": [
    "a.__gt__(b) # a<b "
   ]
  },
  {
   "cell_type": "code",
   "execution_count": 235,
   "id": "d4440ef4-e256-48c2-bbe5-937832785ca2",
   "metadata": {
    "tags": []
   },
   "outputs": [
    {
     "data": {
      "text/plain": [
       "True"
      ]
     },
     "execution_count": 235,
     "metadata": {},
     "output_type": "execute_result"
    }
   ],
   "source": [
    "b.__gt__(a) # b>a"
   ]
  },
  {
   "cell_type": "markdown",
   "id": "6fa87c26-a825-4dad-be60-40a1f888702d",
   "metadata": {
    "id": "086c46d5-3afd-4da4-8e7c-856317a9d1f4"
   },
   "source": [
    "`-` 구현"
   ]
  },
  {
   "cell_type": "code",
   "execution_count": 236,
   "id": "fcf13a9e-8729-43ad-938e-b3232d270581",
   "metadata": {
    "tags": []
   },
   "outputs": [],
   "source": [
    "class RPS5(RPS4):\n",
    "    def __gt__(self,other):\n",
    "        return [self[-1], other[-1]] in [[\"가위\",\"보\"], [\"바위\",\"가위\"], [\"보\",\"바위\"]]"
   ]
  },
  {
   "cell_type": "code",
   "execution_count": 237,
   "id": "eb9ce49f-6265-4d74-94b1-eb62fdc9b09f",
   "metadata": {
    "tags": []
   },
   "outputs": [],
   "source": [
    "A = RPS5(['가위','바위'])\n",
    "B = RPS5(['가위','보'])"
   ]
  },
  {
   "cell_type": "markdown",
   "id": "5ed6595f-e5e4-41d0-9967-24e9d54a2f2a",
   "metadata": {
    "id": "d6e19525-c1f0-4c01-ab7e-8ccb1bb34186"
   },
   "source": [
    "**1회대결**"
   ]
  },
  {
   "cell_type": "code",
   "execution_count": 238,
   "id": "d9413990-afb0-41a3-afa6-a56d222ebe9c",
   "metadata": {
    "tags": []
   },
   "outputs": [
    {
     "data": {
      "text/plain": [
       "'보'"
      ]
     },
     "execution_count": 238,
     "metadata": {},
     "output_type": "execute_result"
    }
   ],
   "source": [
    "A.act()\n",
    "B.act()"
   ]
  },
  {
   "cell_type": "code",
   "execution_count": 239,
   "id": "a84627d9-5f8f-49df-9daa-7a34f333ee5b",
   "metadata": {
    "tags": []
   },
   "outputs": [
    {
     "data": {
      "text/plain": [
       "(낼 수 있는 패: ['가위', '바위']\n",
       " 기록: ['가위'],\n",
       " 낼 수 있는 패: ['가위', '보']\n",
       " 기록: ['보'])"
      ]
     },
     "execution_count": 239,
     "metadata": {},
     "output_type": "execute_result"
    }
   ],
   "source": [
    "A,B"
   ]
  },
  {
   "cell_type": "code",
   "execution_count": 240,
   "id": "9855fb13-7d32-44bc-9eb2-2a12ae268398",
   "metadata": {
    "tags": []
   },
   "outputs": [
    {
     "data": {
      "text/plain": [
       "True"
      ]
     },
     "execution_count": 240,
     "metadata": {},
     "output_type": "execute_result"
    }
   ],
   "source": [
    "A > B"
   ]
  },
  {
   "cell_type": "markdown",
   "id": "4db0c53a-bd1b-4d3b-91cb-b80b869f0342",
   "metadata": {},
   "source": [
    "**2회대결**"
   ]
  },
  {
   "cell_type": "code",
   "execution_count": 241,
   "id": "b74978c2-63c7-42be-b61d-b5196c088652",
   "metadata": {
    "tags": []
   },
   "outputs": [
    {
     "data": {
      "text/plain": [
       "'보'"
      ]
     },
     "execution_count": 241,
     "metadata": {},
     "output_type": "execute_result"
    }
   ],
   "source": [
    "A.act()\n",
    "B.act()"
   ]
  },
  {
   "cell_type": "code",
   "execution_count": 242,
   "id": "b1b02170-7fb3-4ddc-ad20-7d855f0e504c",
   "metadata": {
    "tags": []
   },
   "outputs": [
    {
     "data": {
      "text/plain": [
       "(낼 수 있는 패: ['가위', '바위']\n",
       " 기록: ['가위', '가위'],\n",
       " 낼 수 있는 패: ['가위', '보']\n",
       " 기록: ['보', '보'])"
      ]
     },
     "execution_count": 242,
     "metadata": {},
     "output_type": "execute_result"
    }
   ],
   "source": [
    "A,B"
   ]
  },
  {
   "cell_type": "code",
   "execution_count": 243,
   "id": "1f285496-1f50-49b7-bace-2036beecce76",
   "metadata": {
    "tags": []
   },
   "outputs": [
    {
     "data": {
      "text/plain": [
       "True"
      ]
     },
     "execution_count": 243,
     "metadata": {},
     "output_type": "execute_result"
    }
   ],
   "source": [
    "A > B # 이건 원래 A.__gt__(B) 의 실행임 "
   ]
  },
  {
   "cell_type": "markdown",
   "id": "3e22e43a-5d1d-4176-8767-b14b242725ff",
   "metadata": {},
   "source": [
    "`-` 이상태에서 A<B 를 한다면? "
   ]
  },
  {
   "cell_type": "code",
   "execution_count": 244,
   "id": "67c18b33-ea77-4910-9e18-0a3d30a7d9c5",
   "metadata": {
    "tags": []
   },
   "outputs": [
    {
     "data": {
      "text/plain": [
       "False"
      ]
     },
     "execution_count": 244,
     "metadata": {},
     "output_type": "execute_result"
    }
   ],
   "source": [
    "A < B # 이건 원래 A.__lt__(B) 의 실행임 "
   ]
  },
  {
   "cell_type": "code",
   "execution_count": 245,
   "id": "5c1f53b6-ae80-4696-8272-dc822a03cebb",
   "metadata": {
    "tags": []
   },
   "outputs": [
    {
     "data": {
      "text/plain": [
       "(False, False, True)"
      ]
     },
     "execution_count": 245,
     "metadata": {},
     "output_type": "execute_result"
    }
   ],
   "source": [
    "A < B, A == B, A > B"
   ]
  },
  {
   "cell_type": "markdown",
   "id": "e6b3efcb-a8fc-48c8-9bc9-5ebb1f6eebcc",
   "metadata": {
    "id": "f6e3cb0b-3875-4ebc-a618-40a45dd59de9"
   },
   "source": [
    "`-` 비교연산자 정리"
   ]
  },
  {
   "cell_type": "markdown",
   "id": "ad481a32-b94c-42d7-80da-63a0fcc6ba8b",
   "metadata": {
    "id": "15375435-42ac-48ba-8fc7-4865595bf44f"
   },
   "source": [
    "|특수메소드|의미|\n",
    "|:-:|:-:|\n",
    "|`__eq__`|`self == other`|\n",
    "|`__gt__`|`self > other`|\n",
    "|`__lt__`|`self < other`|\n",
    "|`__ge__`|`self >= other`|\n",
    "|`__le__`|`self <= other`|"
   ]
  },
  {
   "cell_type": "markdown",
   "id": "c3ad2166-76bf-4d2d-a697-95bada67a94d",
   "metadata": {
    "id": "31812af3-a4af-4a85-8c9e-532260c82128"
   },
   "source": [
    "> 파이썬의 비밀10: `__eq__`, `__gt__`, `__lt__`, `__ge__`, `__le__`는 각각 `==`, `>`, `<`, `>=`, `<=` 를 재정의한다."
   ]
  },
  {
   "cell_type": "markdown",
   "id": "504ad71b-3a54-43ad-8730-4b291894b9ca",
   "metadata": {},
   "source": [
    "# 10. `__mul__`"
   ]
  },
  {
   "cell_type": "markdown",
   "id": "2db3ab97-4d94-466e-9018-f1bb030e3427",
   "metadata": {},
   "source": [
    "## A. 모티브 "
   ]
  },
  {
   "cell_type": "code",
   "execution_count": 246,
   "id": "19d09a7b-9320-4d71-b7f1-da12f2dff36c",
   "metadata": {
    "tags": []
   },
   "outputs": [],
   "source": [
    "a = 3 \n",
    "b = 2 "
   ]
  },
  {
   "cell_type": "code",
   "execution_count": 247,
   "id": "93e62f2f-4335-4b2f-a3e1-2ea2adc9385e",
   "metadata": {
    "tags": []
   },
   "outputs": [
    {
     "data": {
      "text/plain": [
       "6"
      ]
     },
     "execution_count": 247,
     "metadata": {},
     "output_type": "execute_result"
    }
   ],
   "source": [
    "a*b"
   ]
  },
  {
   "cell_type": "code",
   "execution_count": 248,
   "id": "3d3d04ba-668f-4d39-acc9-1d683b8a68a1",
   "metadata": {
    "tags": []
   },
   "outputs": [
    {
     "data": {
      "text/plain": [
       "6"
      ]
     },
     "execution_count": 248,
     "metadata": {},
     "output_type": "execute_result"
    }
   ],
   "source": [
    "a.__mul__(b)"
   ]
  },
  {
   "cell_type": "markdown",
   "id": "6d8161bd-18a3-4a42-ae12-1790eb951db9",
   "metadata": {},
   "source": [
    "`-` 하고싶은것: `A*B` 가 두 플레이어 `A`,`B`의 \"대결\"을 의미하도록 하고싶다!"
   ]
  },
  {
   "cell_type": "markdown",
   "id": "ccb5473d-bac8-490b-8ebd-1693e794e4b8",
   "metadata": {},
   "source": [
    "## B. RPS7: `__mul__` 의 사용 "
   ]
  },
  {
   "cell_type": "markdown",
   "id": "ce495c0b-3445-4868-8a92-8f20e3908ae5",
   "metadata": {
    "id": "2de31e6b-35c6-41d3-82e9-f45329898eaf"
   },
   "source": [
    "`-` 구현"
   ]
  },
  {
   "cell_type": "code",
   "execution_count": 249,
   "id": "224dccd1-6c1a-4192-92cd-6ddaf4f35d7d",
   "metadata": {
    "tags": []
   },
   "outputs": [],
   "source": [
    "class RPS6(RPS5):\n",
    "    def __init__(self,action_space):\n",
    "        super().__init__(action_space)\n",
    "        self.results = [] \n",
    "    def __mul__(self,other):\n",
    "        self.act()\n",
    "        other.act()\n",
    "        if self>other:\n",
    "            self.results.append(\"승리\")\n",
    "            other.results.append(\"패배\") \n",
    "        elif self<other:\n",
    "            self.results.append(\"패배\")\n",
    "            other.results.append(\"승리\")\n",
    "        else:\n",
    "            self.results.append(\"무승부\")\n",
    "            other.results.append(\"무승부\")\n",
    "    def __repr__(self):\n",
    "        text = super().__repr__()\n",
    "        text = text + f\"\\n승패: {self.results}\"\n",
    "        return text"
   ]
  },
  {
   "cell_type": "code",
   "execution_count": 250,
   "id": "70e9dbad-cf08-482d-b9ba-43fdd8b80c0a",
   "metadata": {
    "tags": []
   },
   "outputs": [],
   "source": [
    "A = RPS6(['가위','바위'])\n",
    "B = RPS6(['가위','보'])"
   ]
  },
  {
   "cell_type": "code",
   "execution_count": 251,
   "id": "63b3818b-825b-4c75-b3b9-f8cf97cffee8",
   "metadata": {
    "tags": []
   },
   "outputs": [
    {
     "data": {
      "text/plain": [
       "(낼 수 있는 패: ['가위', '바위']\n",
       " 기록: []\n",
       " 승패: [],\n",
       " 낼 수 있는 패: ['가위', '보']\n",
       " 기록: []\n",
       " 승패: [])"
      ]
     },
     "execution_count": 251,
     "metadata": {},
     "output_type": "execute_result"
    }
   ],
   "source": [
    "A,B"
   ]
  },
  {
   "cell_type": "code",
   "execution_count": 252,
   "id": "671e76ec-4b12-482e-93de-72502a78963b",
   "metadata": {
    "tags": []
   },
   "outputs": [],
   "source": [
    "A*B"
   ]
  },
  {
   "cell_type": "code",
   "execution_count": 253,
   "id": "2b13e5b5-19e4-4850-9116-5ab87faed481",
   "metadata": {
    "tags": []
   },
   "outputs": [
    {
     "data": {
      "text/plain": [
       "(낼 수 있는 패: ['가위', '바위']\n",
       " 기록: ['바위']\n",
       " 승패: ['승리'],\n",
       " 낼 수 있는 패: ['가위', '보']\n",
       " 기록: ['가위']\n",
       " 승패: ['패배'])"
      ]
     },
     "execution_count": 253,
     "metadata": {},
     "output_type": "execute_result"
    }
   ],
   "source": [
    "A,B"
   ]
  },
  {
   "cell_type": "code",
   "execution_count": 254,
   "id": "b00e104d-3f52-4463-b063-4212dad7559a",
   "metadata": {
    "tags": []
   },
   "outputs": [],
   "source": [
    "A*B"
   ]
  },
  {
   "cell_type": "code",
   "execution_count": 255,
   "id": "4b36208b-49d5-46c1-a636-27ce7a05aef5",
   "metadata": {
    "tags": []
   },
   "outputs": [
    {
     "data": {
      "text/plain": [
       "(낼 수 있는 패: ['가위', '바위']\n",
       " 기록: ['바위', '가위']\n",
       " 승패: ['승리', '무승부'],\n",
       " 낼 수 있는 패: ['가위', '보']\n",
       " 기록: ['가위', '가위']\n",
       " 승패: ['패배', '무승부'])"
      ]
     },
     "execution_count": 255,
     "metadata": {},
     "output_type": "execute_result"
    }
   ],
   "source": [
    "A,B"
   ]
  },
  {
   "cell_type": "markdown",
   "id": "41394245-a78a-474c-9e78-1948bc707ce5",
   "metadata": {},
   "source": [
    "# 11. 가위,바위,보"
   ]
  },
  {
   "cell_type": "markdown",
   "id": "87fa0bf5-665c-4399-b944-eeeb4425f3db",
   "metadata": {},
   "source": [
    "`(1)` 플레이어A는 (가위,가위) 중 하나를 선택할 수 있고 플레이어B는 (가위,바위) 중 하나를 선택할 수 있다. 각 플레이어는 각 패 중 하나를 랜덤으로 선택하는 액션을 한다고 가정하자. 즉 아래의 상황을 가정하자. \n",
    "\n",
    "||플레이어A|플레이어B|\n",
    "|:-:|:-:|:-:|\n",
    "|action_space | (가위,가위) | (가위,바위) |\n",
    "|prob | {'가위': 0.5, '가위': 0.5} | {'가위':0.5,'바위':0.5} |\n",
    "\n",
    "아래에 해당하는 확률을 시뮬레이션을 이용하여 추정하라. \n",
    "\n",
    "- 플레이어A가 승리할 확률:\n",
    "- 플레이어B가 승리할 확률:\n",
    "- 플레이어A와 플레이어B가 비길 확률: "
   ]
  },
  {
   "cell_type": "markdown",
   "id": "21a04dde-6ce3-432a-8a0a-ec1ed25b59e0",
   "metadata": {},
   "source": [
    "**hint**: 50% 확률로 b가 승리하고 50% 확률로 비긴다. "
   ]
  },
  {
   "cell_type": "markdown",
   "id": "58ddb3af-b7d0-4a8e-bf58-3c48f0094636",
   "metadata": {},
   "source": [
    "(풀이)"
   ]
  },
  {
   "cell_type": "code",
   "execution_count": 260,
   "id": "4099112f-0ac1-4357-b86d-1ce80116969b",
   "metadata": {
    "tags": []
   },
   "outputs": [],
   "source": [
    "A = RPS6(['가위','가위'])\n",
    "B = RPS6(['가위','바위'])"
   ]
  },
  {
   "cell_type": "code",
   "execution_count": 261,
   "id": "b6dde56a-5437-4fae-92fb-fef0d881aa51",
   "metadata": {
    "tags": []
   },
   "outputs": [],
   "source": [
    "for _ in range(100):\n",
    "    A*B"
   ]
  },
  {
   "cell_type": "code",
   "execution_count": 266,
   "id": "6beb67d4-6716-4631-979a-8f210beb9d7e",
   "metadata": {
    "tags": []
   },
   "outputs": [
    {
     "data": {
      "text/plain": [
       "{'패배': 52, '무승부': 48}"
      ]
     },
     "execution_count": 266,
     "metadata": {},
     "output_type": "execute_result"
    }
   ],
   "source": [
    "{s:A.results.count(s) for s in set(A.results)}"
   ]
  },
  {
   "cell_type": "code",
   "execution_count": 267,
   "id": "c470eeeb-ec86-4de3-96d4-f4de1ac2deb4",
   "metadata": {
    "tags": []
   },
   "outputs": [
    {
     "data": {
      "text/plain": [
       "{'무승부': 48, '승리': 52}"
      ]
     },
     "execution_count": 267,
     "metadata": {},
     "output_type": "execute_result"
    }
   ],
   "source": [
    "{s:B.results.count(s) for s in set(B.results)}"
   ]
  },
  {
   "cell_type": "markdown",
   "id": "ce14ca90-17b9-498a-bd24-15d6b8e11bd6",
   "metadata": {},
   "source": [
    "`(2)` 아래의 상황을 가정하자. \n",
    "\n",
    "||플레이어A|플레이어B|\n",
    "|:-:|:-:|:-:|\n",
    "|action_space | (가위,가위) | (가위,바위) |\n",
    "|prob | {'가위': 0.5, '가위': 0.5} | {'가위':0.5,'바위':0.5} |\n",
    "\n",
    "\n",
    "\n",
    "각 플레이어는 아래와 같은 규칙으로 가위바위보 결과에 따른 보상점수를 적립한다고 하자. \n",
    "- 승리: 보상점수 2점 적립\n",
    "- 무승부: 보상점수 1점 적립\n",
    "- 패배: 보상점수 0점 적립\n",
    "\n",
    "100번째 대결까지 시뮬레이션을 시행하고 플레이어B가 가위를 낼 경우 얻은 보상점수의 총합과 바위를 낼 경우 얻은 보상점수의 총합을 각각 구하라. 플레이어B는 가위를 내는것이 유리한가? 바위를 내는것이 유리한가? "
   ]
  },
  {
   "cell_type": "markdown",
   "id": "a22cd128-e4f2-4483-a8ea-fdfb39e0d6a8",
   "metadata": {},
   "source": [
    "**hint**: 플레이어B는 바위를 내는 것이 유리하다. \n",
    "\n",
    "**hint**: 플레이어B가 100번중에 49번 가위를 내고 51번 바위를 낸다면 플레이어B가 적립할 보상점수는 각각 아래와 같다. \n",
    "- 가위를 내었을 경우: 49 * 1 = 49점 \n",
    "- 바위를 내었을 경우: 51 * 2 = 102점 \n",
    "- 총 보상점수 = 49점 + 102점 = 151점 "
   ]
  },
  {
   "cell_type": "markdown",
   "id": "79fc708f-d649-4f71-8c4e-17350a777f97",
   "metadata": {},
   "source": [
    "(풀이)"
   ]
  },
  {
   "cell_type": "code",
   "execution_count": 475,
   "id": "d6bcf6ea-66c9-4b4c-a8d9-6105f0f0d48a",
   "metadata": {},
   "outputs": [],
   "source": [
    "class RPSBase2: \n",
    "    def __init__(self,action_space):\n",
    "        self.action_space = action_space \n",
    "        self.actions = [] \n",
    "        self.results = [] \n",
    "        self.score_dct = {'패배':0, '무승부':1, '승리':2}\n",
    "        self.rewards = [] \n",
    "        self.prob = [1/2,1/2]        \n",
    "    def act(self):\n",
    "        action = np.random.choice(self.action_space,p=self.prob)\n",
    "        self.actions.append(action)\n",
    "        return action \n",
    "    def __repr__(self):\n",
    "        text = (\n",
    "            f\"낼 수 있는 패: {self.action_space}\\n\"\n",
    "            f\"최근기록: {self.actions[-10:]}\\n\"\n",
    "            f\"최근승패: {self.results[-10:]}\\n\"\n",
    "            f\"확률: {dict(zip(self.action_space,self.prob))}\"\n",
    "        )\n",
    "        return text\n",
    "    def __eq__(self,other):\n",
    "        return self.actions[-1] == other.actions[-1]\n",
    "    def __gt__(self,other): \n",
    "        return [self.actions[-1], other.actions[-1]] in [[\"가위\",\"보\"], [\"바위\",\"가위\"], [\"보\",\"바위\"]]\n",
    "    def __mul__(self,other):\n",
    "        self.act()\n",
    "        other.act()\n",
    "        if self>other:\n",
    "            self.results.append(\"승리\")\n",
    "            other.results.append(\"패배\") \n",
    "        elif self<other:\n",
    "            self.results.append(\"패배\")\n",
    "            other.results.append(\"승리\")\n",
    "        else:\n",
    "            self.results.append(\"무승부\")\n",
    "            other.results.append(\"무승부\")\n",
    "        self.save_reward()\n",
    "        other.save_reward()\n",
    "    def save_reward(self):\n",
    "        self.rewards.append(self.score_dct[self.results[-1]]) "
   ]
  },
  {
   "cell_type": "code",
   "execution_count": 476,
   "id": "dc37c21f-515d-460b-92c8-5f92c446a20a",
   "metadata": {
    "tags": []
   },
   "outputs": [],
   "source": [
    "A = RPSBase2(['가위','가위'])\n",
    "B = RPSBase2(['가위','바위'])"
   ]
  },
  {
   "cell_type": "code",
   "execution_count": 478,
   "id": "cb8b509c-70ad-45a9-9c7f-3fd40dd840e6",
   "metadata": {
    "tags": []
   },
   "outputs": [],
   "source": [
    "for t in range(100):\n",
    "    A*B"
   ]
  },
  {
   "cell_type": "code",
   "execution_count": 479,
   "id": "3d879324-b485-4cef-a419-af15f84c60a2",
   "metadata": {
    "tags": []
   },
   "outputs": [
    {
     "data": {
      "text/html": [
       "<div>\n",
       "<style scoped>\n",
       "    .dataframe tbody tr th:only-of-type {\n",
       "        vertical-align: middle;\n",
       "    }\n",
       "\n",
       "    .dataframe tbody tr th {\n",
       "        vertical-align: top;\n",
       "    }\n",
       "\n",
       "    .dataframe thead th {\n",
       "        text-align: right;\n",
       "    }\n",
       "</style>\n",
       "<table border=\"1\" class=\"dataframe\">\n",
       "  <thead>\n",
       "    <tr style=\"text-align: right;\">\n",
       "      <th></th>\n",
       "      <th>A행동</th>\n",
       "      <th>B행동</th>\n",
       "      <th>A보상</th>\n",
       "      <th>B보상</th>\n",
       "    </tr>\n",
       "  </thead>\n",
       "  <tbody>\n",
       "    <tr>\n",
       "      <th>0</th>\n",
       "      <td>가위</td>\n",
       "      <td>가위</td>\n",
       "      <td>1</td>\n",
       "      <td>1</td>\n",
       "    </tr>\n",
       "    <tr>\n",
       "      <th>1</th>\n",
       "      <td>가위</td>\n",
       "      <td>바위</td>\n",
       "      <td>0</td>\n",
       "      <td>2</td>\n",
       "    </tr>\n",
       "    <tr>\n",
       "      <th>2</th>\n",
       "      <td>가위</td>\n",
       "      <td>바위</td>\n",
       "      <td>0</td>\n",
       "      <td>2</td>\n",
       "    </tr>\n",
       "    <tr>\n",
       "      <th>3</th>\n",
       "      <td>가위</td>\n",
       "      <td>바위</td>\n",
       "      <td>0</td>\n",
       "      <td>2</td>\n",
       "    </tr>\n",
       "    <tr>\n",
       "      <th>4</th>\n",
       "      <td>가위</td>\n",
       "      <td>가위</td>\n",
       "      <td>1</td>\n",
       "      <td>1</td>\n",
       "    </tr>\n",
       "    <tr>\n",
       "      <th>...</th>\n",
       "      <td>...</td>\n",
       "      <td>...</td>\n",
       "      <td>...</td>\n",
       "      <td>...</td>\n",
       "    </tr>\n",
       "    <tr>\n",
       "      <th>95</th>\n",
       "      <td>가위</td>\n",
       "      <td>가위</td>\n",
       "      <td>1</td>\n",
       "      <td>1</td>\n",
       "    </tr>\n",
       "    <tr>\n",
       "      <th>96</th>\n",
       "      <td>가위</td>\n",
       "      <td>바위</td>\n",
       "      <td>0</td>\n",
       "      <td>2</td>\n",
       "    </tr>\n",
       "    <tr>\n",
       "      <th>97</th>\n",
       "      <td>가위</td>\n",
       "      <td>가위</td>\n",
       "      <td>1</td>\n",
       "      <td>1</td>\n",
       "    </tr>\n",
       "    <tr>\n",
       "      <th>98</th>\n",
       "      <td>가위</td>\n",
       "      <td>가위</td>\n",
       "      <td>1</td>\n",
       "      <td>1</td>\n",
       "    </tr>\n",
       "    <tr>\n",
       "      <th>99</th>\n",
       "      <td>가위</td>\n",
       "      <td>바위</td>\n",
       "      <td>0</td>\n",
       "      <td>2</td>\n",
       "    </tr>\n",
       "  </tbody>\n",
       "</table>\n",
       "<p>100 rows × 4 columns</p>\n",
       "</div>"
      ],
      "text/plain": [
       "   A행동 B행동  A보상  B보상\n",
       "0   가위  가위    1    1\n",
       "1   가위  바위    0    2\n",
       "2   가위  바위    0    2\n",
       "3   가위  바위    0    2\n",
       "4   가위  가위    1    1\n",
       "..  ..  ..  ...  ...\n",
       "95  가위  가위    1    1\n",
       "96  가위  바위    0    2\n",
       "97  가위  가위    1    1\n",
       "98  가위  가위    1    1\n",
       "99  가위  바위    0    2\n",
       "\n",
       "[100 rows x 4 columns]"
      ]
     },
     "execution_count": 479,
     "metadata": {},
     "output_type": "execute_result"
    }
   ],
   "source": [
    "df = pd.DataFrame({\"A행동\":A.actions,\"B행동\":B.actions,\"A보상\":A.rewards,\"B보상\":B.rewards})\n",
    "df"
   ]
  },
  {
   "cell_type": "code",
   "execution_count": 480,
   "id": "31531dcc-6f42-448c-8f00-1c0fd752c542",
   "metadata": {
    "tags": []
   },
   "outputs": [
    {
     "data": {
      "text/plain": [
       "(46, 108)"
      ]
     },
     "execution_count": 480,
     "metadata": {},
     "output_type": "execute_result"
    }
   ],
   "source": [
    "df[df.B행동 == \"가위\"].B보상.sum(), df[df.B행동 == \"바위\"].B보상.sum()"
   ]
  },
  {
   "cell_type": "markdown",
   "id": "7ba5d4ea-1af9-49da-94ef-f8f894ad240b",
   "metadata": {},
   "source": [
    "`(3)` 아래의 상황을 가정하자. "
   ]
  },
  {
   "cell_type": "markdown",
   "id": "bddb0335-52d5-4258-948d-deb7fe1f3e66",
   "metadata": {},
   "source": [
    "||플레이어A|플레이어B|\n",
    "|:-:|:-:|:-:|\n",
    "|action_space | (가위,가위) | (가위,바위) |\n",
    "|prob | {'가위': 0.5, '가위': 0.5} | {'가위':0.5,'바위':0.5} |"
   ]
  },
  {
   "cell_type": "markdown",
   "id": "bcd84cf3-f46a-49d5-8090-a687546bbb55",
   "metadata": {},
   "source": [
    "100번의 대결에서 얻은 데이터를 **학습**하여, 이후의 대결부터는 플레이어B가 \"가위\" 혹은 \"바위\" 를 선택할 확률을 매시점 조금씩 조정한다고 가정하자. 구체적으로는 현재시점까지 얻은 보상점수의 비율로 확률을 결정한다. 예를들어 플레이어B가 100회의 대결동안 누적한 보상점수의 총합이 아래와 같다고 하자. \n",
    "\n",
    "- 가위를 내었을 경우 보상점수 총합 = 50점 \n",
    "- 바위를 내었을 경우 보상점수 총합 = 100점\n",
    "\n",
    "그렇다면 플레이어B는 각각 (50/150,100/150) 의 확률로 (가위,바위) 중 하나를 선택한다. 101번째 대결에 플레이어B가 가위를 내서 비겼다면 이후에는 (51/151,100/151) 의 확률로 (가위,바위) 중 하나를 선택한다. 102번째 대결에 플레이어B가 바위를 내서 이겼다면 이후에는 각각 (51/153,102/153) 의 확률로 (가위,바위) 중 하나를 선택한다. 이러한 상황을 요약하여 표로 정리하면 아래와 같다. "
   ]
  },
  {
   "cell_type": "markdown",
   "id": "63df6176-244a-4766-9166-b29861156f7a",
   "metadata": {},
   "source": [
    "**플레이어 B의 확률업데이트 예시**\n",
    "\n",
    "|시점|점수 |확률|\n",
    "|:-:|:-:|:-:|\n",
    "|0<= t < 100|B = {가위: 50, 바위:100}| B = {가위: 50/150, 바위: 100/150}|\n",
    "|t= 100| B= {가위: 51, 바위:100}| B = {가위: 51/151, 바위: 100/151}|\n",
    "|t=101|B = {가위: 51, 바위:102}| B = {가위: 51/153, 바위: 102/153}|"
   ]
  },
  {
   "cell_type": "markdown",
   "id": "0236c567-8775-4537-a5c0-e19cfe26706c",
   "metadata": {},
   "source": [
    "첫 100회 까지는 확률을 업데이트 하지 않고 (=학습하지 않고) 100~500회까지는 플레이어B가 데이터를 보고 확률을 수정한다고 하자. 즉 아래와 같은 방식으로 수정한다고 하자. "
   ]
  },
  {
   "cell_type": "markdown",
   "id": "80fce09b-462d-4c3f-b063-f2c8e050a0cd",
   "metadata": {},
   "source": [
    "**플레이어 A,B의 시점별 확률업데이트**\n",
    "\n",
    "|시점|확률|학습| \n",
    "|:-:|:-:|:-:|\n",
    "|0<= t < 100 |A = {가위: 1/2, 가위: 1/2},<br> B = {가위:1/2, 바위:1/2}| A = False, B = False|\n",
    "|100<= t <500| A= {가위: 1/2, 가위:1/2},<br> B= {가위: ??, 바위: ??}| A = False, B = **True**|\n",
    "\n",
    "\n",
    "500번의 대결이 끝난 이후 플레이어B가 (가위,바위)를 낼 확률은 각각 얼마로 업데이트 되었는가? "
   ]
  },
  {
   "cell_type": "markdown",
   "id": "b85060f9-aae7-430d-b923-664c9053f63c",
   "metadata": {},
   "source": [
    "**hint: 시간이 지날수록 플레이어B는 (가위,바위)중 바위를 내는 쪽이 유리하다는 것을 알게 될 것이다.**"
   ]
  },
  {
   "cell_type": "markdown",
   "id": "db49ff71-11ba-4671-b55d-9c2510e51b82",
   "metadata": {},
   "source": [
    "(풀이) "
   ]
  },
  {
   "cell_type": "code",
   "execution_count": 549,
   "id": "72cfb614-8525-4455-8417-bb413fb963d0",
   "metadata": {
    "tags": []
   },
   "outputs": [],
   "source": [
    "class RPSlrn(RPSBase2):\n",
    "    def learn(self):\n",
    "        a0,a1 = self.action_space\n",
    "        p0 = sum([r for (a,r) in zip(self.actions,self.rewards) if a == a0])/sum(self.rewards)\n",
    "        p1 = sum([r for (a,r) in zip(self.actions,self.rewards) if a == a1])/sum(self.rewards)\n",
    "        self.prob = [p0,p1]"
   ]
  },
  {
   "cell_type": "code",
   "execution_count": 550,
   "id": "eafe7215-9f1f-4d16-a817-4917815c0741",
   "metadata": {
    "tags": []
   },
   "outputs": [],
   "source": [
    "A = RPSlrn(['가위','가위'])\n",
    "B = RPSlrn(['가위','바위'])"
   ]
  },
  {
   "cell_type": "code",
   "execution_count": 551,
   "id": "8df659f2-d956-4ecd-8ab9-3fdec49b5178",
   "metadata": {
    "tags": []
   },
   "outputs": [],
   "source": [
    "for t in range(100):\n",
    "    A*B "
   ]
  },
  {
   "cell_type": "code",
   "execution_count": 552,
   "id": "efa30952-28d5-4052-8294-b61cb6f63809",
   "metadata": {
    "tags": []
   },
   "outputs": [
    {
     "data": {
      "text/plain": [
       "낼 수 있는 패: ['가위', '가위']\n",
       "최근기록: ['가위', '가위', '가위', '가위', '가위', '가위', '가위', '가위', '가위', '가위']\n",
       "최근승패: ['패배', '패배', '무승부', '무승부', '패배', '패배', '무승부', '무승부', '패배', '패배']\n",
       "확률: {'가위': 0.5}"
      ]
     },
     "execution_count": 552,
     "metadata": {},
     "output_type": "execute_result"
    }
   ],
   "source": [
    "A"
   ]
  },
  {
   "cell_type": "code",
   "execution_count": 553,
   "id": "7858b211-26fd-4403-a410-c37f61e7877b",
   "metadata": {
    "tags": []
   },
   "outputs": [
    {
     "data": {
      "text/plain": [
       "낼 수 있는 패: ['가위', '바위']\n",
       "최근기록: ['바위', '바위', '가위', '가위', '바위', '바위', '가위', '가위', '바위', '바위']\n",
       "최근승패: ['승리', '승리', '무승부', '무승부', '승리', '승리', '무승부', '무승부', '승리', '승리']\n",
       "확률: {'가위': 0.5, '바위': 0.5}"
      ]
     },
     "execution_count": 553,
     "metadata": {},
     "output_type": "execute_result"
    }
   ],
   "source": [
    "B"
   ]
  },
  {
   "cell_type": "code",
   "execution_count": 554,
   "id": "8c1b9aed-dc04-49b6-9bda-38122aeecb5b",
   "metadata": {
    "tags": []
   },
   "outputs": [],
   "source": [
    "# for t in range(100):\n",
    "#     A*B \n",
    "for t in range(100,500):\n",
    "    A*B \n",
    "    B.learn()"
   ]
  },
  {
   "cell_type": "code",
   "execution_count": 555,
   "id": "38fdec54-7835-4268-a3ca-4c0be21bcf50",
   "metadata": {
    "tags": []
   },
   "outputs": [
    {
     "data": {
      "text/plain": [
       "낼 수 있는 패: ['가위', '가위']\n",
       "최근기록: ['가위', '가위', '가위', '가위', '가위', '가위', '가위', '가위', '가위', '가위']\n",
       "최근승패: ['패배', '패배', '패배', '패배', '패배', '패배', '패배', '무승부', '무승부', '패배']\n",
       "확률: {'가위': 0.5}"
      ]
     },
     "execution_count": 555,
     "metadata": {},
     "output_type": "execute_result"
    }
   ],
   "source": [
    "A"
   ]
  },
  {
   "cell_type": "code",
   "execution_count": 556,
   "id": "2df4d171-15a3-4809-9ec0-0cb2cec61a5a",
   "metadata": {
    "tags": []
   },
   "outputs": [
    {
     "data": {
      "text/plain": [
       "낼 수 있는 패: ['가위', '바위']\n",
       "최근기록: ['바위', '바위', '바위', '바위', '바위', '바위', '바위', '가위', '가위', '바위']\n",
       "최근승패: ['승리', '승리', '승리', '승리', '승리', '승리', '승리', '무승부', '무승부', '승리']\n",
       "확률: {'가위': 0.11982082866741321, '바위': 0.8801791713325868}"
      ]
     },
     "execution_count": 556,
     "metadata": {},
     "output_type": "execute_result"
    }
   ],
   "source": [
    "B"
   ]
  },
  {
   "cell_type": "markdown",
   "id": "f75c048e-9c24-4651-a4af-950d9d268eda",
   "metadata": {},
   "source": [
    "`(4)` 플레이어 C와 플레이어 D를 만들아라.\n",
    "\n",
    "||플레이어C|플레이어D|\n",
    "|:-:|:-:|:-:|\n",
    "|action_space | (가위,바위) | (가위,바위) |\n",
    "|prob | {'가위': 0.5, '바위': 0.5} | {'가위':0.5,'바위':0.5} |\n",
    "\n",
    "\n",
    "두 플레이어는 처음 100번의 대결 동안 플레이어 C와 플레이어 D는 둘 다 ‘가위’와 ‘바위’를 랜덤하게 선택한다. 즉, 어떤 규칙 없이 무작위로 선택한다. 그리고 500번째 대결까지는 문제 (3)와 같은 방식으로 확률을 수정한다. "
   ]
  },
  {
   "cell_type": "markdown",
   "id": "84f61216-5ffc-4f4a-9fe2-01cb4dc4c4fe",
   "metadata": {},
   "source": [
    "**플레이어 C,D의 시점별 확률업데이트**\n",
    "\n",
    "|시점|확률|학습| \n",
    "|:-:|:-:|:-:|\n",
    "|0<= t <100 | C = {가위: 1/2, 바위: 1/2},<br> D = {가위:1/2, 바위:1/2}| C = False, D = False|\n",
    "|100<= t <500| C = {가위: ??, 바위:??},<br> D = {가위: ??, 바위: ??}| C = **True**, D = **True**|"
   ]
  },
  {
   "cell_type": "markdown",
   "id": "442106ce-db9f-4193-8249-79a5c2a24f62",
   "metadata": {},
   "source": [
    "500번의 대결이 끝난 이후 플레이어C,D가 (가위,바위)를 낼 확률은 각각 얼마로 업데이트 되었는가? "
   ]
  },
  {
   "cell_type": "markdown",
   "id": "54bddcbb-8549-4033-8729-fed9c9c2af3c",
   "metadata": {},
   "source": [
    "**hint: 시간이 지날수록 두 플레이어 모두 바위를 내는 쪽이 유리하다는 것을 알게 될 것이다.**"
   ]
  },
  {
   "cell_type": "markdown",
   "id": "59c6ae86-7f9c-4c50-ac36-6e893c6b1369",
   "metadata": {},
   "source": [
    "(풀이)"
   ]
  },
  {
   "cell_type": "code",
   "execution_count": 567,
   "id": "830a2c66-585a-4bc7-8dcd-4c4139fc3fb1",
   "metadata": {
    "tags": []
   },
   "outputs": [],
   "source": [
    "C = RPSlrn(['가위','바위'])\n",
    "D = RPSlrn(['가위','바위'])"
   ]
  },
  {
   "cell_type": "code",
   "execution_count": 568,
   "id": "0cadd485-ad93-464c-82c9-a1bc11cb4d30",
   "metadata": {
    "tags": []
   },
   "outputs": [],
   "source": [
    "for t in range(100):\n",
    "    C*D "
   ]
  },
  {
   "cell_type": "code",
   "execution_count": 569,
   "id": "13f88fdc-cd9c-479f-be8c-d58eb859aed9",
   "metadata": {
    "tags": []
   },
   "outputs": [
    {
     "data": {
      "text/plain": [
       "낼 수 있는 패: ['가위', '바위']\n",
       "최근기록: ['바위', '가위', '바위', '가위', '가위', '가위', '바위', '가위', '바위', '바위']\n",
       "최근승패: ['무승부', '무승부', '승리', '무승부', '무승부', '패배', '무승부', '패배', '승리', '무승부']\n",
       "확률: {'가위': 0.5, '바위': 0.5}"
      ]
     },
     "execution_count": 569,
     "metadata": {},
     "output_type": "execute_result"
    }
   ],
   "source": [
    "C"
   ]
  },
  {
   "cell_type": "code",
   "execution_count": 570,
   "id": "2f6f9336-416f-4c33-a734-495b60996cd8",
   "metadata": {
    "tags": []
   },
   "outputs": [
    {
     "data": {
      "text/plain": [
       "낼 수 있는 패: ['가위', '바위']\n",
       "최근기록: ['바위', '가위', '가위', '가위', '가위', '바위', '바위', '바위', '가위', '바위']\n",
       "최근승패: ['무승부', '무승부', '패배', '무승부', '무승부', '승리', '무승부', '승리', '패배', '무승부']\n",
       "확률: {'가위': 0.5, '바위': 0.5}"
      ]
     },
     "execution_count": 570,
     "metadata": {},
     "output_type": "execute_result"
    }
   ],
   "source": [
    "D"
   ]
  },
  {
   "cell_type": "code",
   "execution_count": 571,
   "id": "1f412b1e-3b91-4a3c-a827-06cf781c7bd8",
   "metadata": {
    "tags": []
   },
   "outputs": [],
   "source": [
    "# for t in range(100):\n",
    "#     C*D \n",
    "for t in range(100,500):\n",
    "    C*D \n",
    "    C.learn()\n",
    "    D.learn()"
   ]
  },
  {
   "cell_type": "code",
   "execution_count": 572,
   "id": "bb0bd1e0-ed60-4bb8-b9c9-5ae8db173842",
   "metadata": {
    "tags": []
   },
   "outputs": [
    {
     "data": {
      "text/plain": [
       "낼 수 있는 패: ['가위', '바위']\n",
       "최근기록: ['바위', '바위', '바위', '바위', '바위', '바위', '바위', '바위', '바위', '바위']\n",
       "최근승패: ['무승부', '무승부', '무승부', '무승부', '무승부', '무승부', '무승부', '무승부', '승리', '무승부']\n",
       "확률: {'가위': 0.0796812749003984, '바위': 0.9203187250996016}"
      ]
     },
     "execution_count": 572,
     "metadata": {},
     "output_type": "execute_result"
    }
   ],
   "source": [
    "C"
   ]
  },
  {
   "cell_type": "code",
   "execution_count": 573,
   "id": "f0cede5e-23e5-4be6-9da5-fe3759f3cf88",
   "metadata": {
    "tags": []
   },
   "outputs": [
    {
     "data": {
      "text/plain": [
       "낼 수 있는 패: ['가위', '바위']\n",
       "최근기록: ['바위', '바위', '바위', '바위', '바위', '바위', '바위', '바위', '가위', '바위']\n",
       "최근승패: ['무승부', '무승부', '무승부', '무승부', '무승부', '무승부', '무승부', '무승부', '패배', '무승부']\n",
       "확률: {'가위': 0.08032128514056225, '바위': 0.9196787148594378}"
      ]
     },
     "execution_count": 573,
     "metadata": {},
     "output_type": "execute_result"
    }
   ],
   "source": [
    "D"
   ]
  },
  {
   "cell_type": "markdown",
   "id": "a56a99d5-b245-437d-8ed9-d5daea861515",
   "metadata": {},
   "source": [
    "`(5)` 새로운 플레이어 E와 F를 생각하자. 플레이어E와 플레이어F는 각각 (가위,바위) 그리고 (가위,보) 중 하나를 선택할 수 있다고 가정하자. \n",
    "\n",
    "||플레이어E|플레이어F|\n",
    "|:-:|:-:|:-:|\n",
    "|action_space | (가위,바위) | (가위,보) |\n",
    "|prob | {'가위': 0.5, '바위': 0.5} | {'가위':0.5,'바위':0.5} |\n",
    "\n",
    "시뮬레이션 대결결과를 이용하여 아래의 확률을 근사적으로 추정하라. \n",
    "\n",
    "- 플레이어E가 승리할 확률:\n",
    "- 플레이어F가 승리할 확률:\n",
    "- 플레이어E와 플레이어F가 비길 확률: "
   ]
  },
  {
   "cell_type": "markdown",
   "id": "0dfca302-33af-4fd2-be61-06d93418c202",
   "metadata": {},
   "source": [
    "**hint: 플레이어E가 가위를 낸다면 최소한 지지는 않기 때문에 플레이어E가 좀 더 유리한 패를 가지고 있다. 따라서 플레이어E의 결과가 더 좋을 것이다.**"
   ]
  },
  {
   "cell_type": "markdown",
   "id": "33a9a10e-42bf-4c21-a72f-17896baf8e87",
   "metadata": {},
   "source": [
    "(풀이)"
   ]
  },
  {
   "cell_type": "code",
   "execution_count": 574,
   "id": "45ccccbb-6e9e-48dc-96a0-6f149d90effe",
   "metadata": {
    "tags": []
   },
   "outputs": [],
   "source": [
    "E = RPSlrn(['가위','바위'])\n",
    "F = RPSlrn(['가위','보'])"
   ]
  },
  {
   "cell_type": "code",
   "execution_count": 576,
   "id": "6d30737c-6f68-4ecd-a916-e570d5b74418",
   "metadata": {
    "tags": []
   },
   "outputs": [],
   "source": [
    "for _ in range(1000):\n",
    "    E*F "
   ]
  },
  {
   "cell_type": "code",
   "execution_count": 582,
   "id": "27369224-b881-4bfc-95e6-2f701726c0bc",
   "metadata": {
    "tags": []
   },
   "outputs": [
    {
     "data": {
      "text/plain": [
       "{'패배': 256, '무승부': 239, '승리': 505}"
      ]
     },
     "execution_count": 582,
     "metadata": {},
     "output_type": "execute_result"
    }
   ],
   "source": [
    "{s:E.results.count(s) for s in set(E.results)}"
   ]
  },
  {
   "cell_type": "code",
   "execution_count": 583,
   "id": "20273729-f557-4915-8079-d3ba1de3e003",
   "metadata": {
    "tags": []
   },
   "outputs": [
    {
     "data": {
      "text/plain": [
       "{'패배': 505, '무승부': 239, '승리': 256}"
      ]
     },
     "execution_count": 583,
     "metadata": {},
     "output_type": "execute_result"
    }
   ],
   "source": [
    "{s:F.results.count(s) for s in set(F.results)}"
   ]
  },
  {
   "cell_type": "markdown",
   "id": "fe3e67cd-2767-4736-bdf8-fc531f51ff17",
   "metadata": {},
   "source": [
    "`(6)` (5)와 동일한 두 명의 플레이어E, F를 생각하자. \n",
    "\n",
    "||플레이어E|플레이어F|\n",
    "|:-:|:-:|:-:|\n",
    "|action_space | (가위,바위) | (가위,보) |\n",
    "|prob | {'가위': 0.5, '바위': 0.5} | {'가위':0.5,'보':0.5} |\n",
    "\n",
    "두 플레이어는 100회까지는 랜덤으로 자신의 패를 선택한다. 그리고 101회부터 500회까지는 플레이어F만 데이터로 부터 학습을 하여 수정된 확률을 사용한다. \n",
    "\n",
    "**플레이어 E,F의 시점별 확률업데이트**\n",
    "\n",
    "|시점|확률|학습| \n",
    "|:-:|:-:|:-:|\n",
    "|0<= t <100 | E = {가위: 1/2, 바위: 1/2},<br> F = {가위:1/2, 보:1/2}| E = False, F = False|\n",
    "|100<= t <500| E = {가위: 1/2, 바위: 1/2},<br> F = {가위: ??, 보: ??}| E = False, F = **True**|\n",
    "\n",
    "500번의 대결이 끝나고 플레이어F가 (가위,보)를 선택하는 확률이 어떻게 업데이트 되어있는가?"
   ]
  },
  {
   "cell_type": "markdown",
   "id": "fad92ef7-6ded-4b4d-aa85-b822a5a297fd",
   "metadata": {},
   "source": [
    "**hint: 플레이어F는 보를 내는 것이 낫다고 생각할 것이다. (가위를 내면 지거나 비기지만 보를 내면 지거나 이긴다.)**"
   ]
  },
  {
   "cell_type": "markdown",
   "id": "7b6456ac-d9b4-4fcd-9cd0-4911d5fca0a9",
   "metadata": {},
   "source": [
    "(풀이)"
   ]
  },
  {
   "cell_type": "code",
   "execution_count": 584,
   "id": "ce51b183-b1e0-47fd-81f7-149df985c8eb",
   "metadata": {
    "tags": []
   },
   "outputs": [],
   "source": [
    "E = RPSlrn(['가위','바위'])\n",
    "F = RPSlrn(['가위','보'])"
   ]
  },
  {
   "cell_type": "code",
   "execution_count": 585,
   "id": "a903c58e-d1e0-443e-97c7-6c48a4140be0",
   "metadata": {
    "tags": []
   },
   "outputs": [],
   "source": [
    "for t in range(100):\n",
    "    E*F "
   ]
  },
  {
   "cell_type": "code",
   "execution_count": 586,
   "id": "a4d63216-39dc-4f8f-9b29-d7438a86dc18",
   "metadata": {
    "tags": []
   },
   "outputs": [
    {
     "data": {
      "text/plain": [
       "낼 수 있는 패: ['가위', '바위']\n",
       "최근기록: ['바위', '바위', '바위', '가위', '가위', '가위', '바위', '가위', '가위', '가위']\n",
       "최근승패: ['패배', '승리', '승리', '승리', '승리', '무승부', '패배', '무승부', '승리', '승리']\n",
       "확률: {'가위': 0.5, '바위': 0.5}"
      ]
     },
     "execution_count": 586,
     "metadata": {},
     "output_type": "execute_result"
    }
   ],
   "source": [
    "E"
   ]
  },
  {
   "cell_type": "code",
   "execution_count": 587,
   "id": "cb99c16b-b6a7-477f-bf1f-937bfcc31b12",
   "metadata": {
    "tags": []
   },
   "outputs": [
    {
     "data": {
      "text/plain": [
       "낼 수 있는 패: ['가위', '보']\n",
       "최근기록: ['보', '가위', '가위', '보', '보', '가위', '보', '가위', '보', '보']\n",
       "최근승패: ['승리', '패배', '패배', '패배', '패배', '무승부', '승리', '무승부', '패배', '패배']\n",
       "확률: {'가위': 0.5, '보': 0.5}"
      ]
     },
     "execution_count": 587,
     "metadata": {},
     "output_type": "execute_result"
    }
   ],
   "source": [
    "F"
   ]
  },
  {
   "cell_type": "code",
   "execution_count": 588,
   "id": "dd0fcf70-0cce-434a-aa92-2ccd407b072f",
   "metadata": {
    "tags": []
   },
   "outputs": [],
   "source": [
    "# for t in range(100):\n",
    "#     E*F \n",
    "for t in range(100,500):\n",
    "    E*F \n",
    "    F.learn()"
   ]
  },
  {
   "cell_type": "code",
   "execution_count": 589,
   "id": "60618d7d-0bdc-4853-96a5-59b80a5ad018",
   "metadata": {
    "tags": []
   },
   "outputs": [
    {
     "data": {
      "text/plain": [
       "낼 수 있는 패: ['가위', '바위']\n",
       "최근기록: ['가위', '바위', '가위', '바위', '바위', '바위', '바위', '가위', '가위', '가위']\n",
       "최근승패: ['승리', '패배', '승리', '패배', '패배', '패배', '패배', '승리', '승리', '승리']\n",
       "확률: {'가위': 0.5, '바위': 0.5}"
      ]
     },
     "execution_count": 589,
     "metadata": {},
     "output_type": "execute_result"
    }
   ],
   "source": [
    "E"
   ]
  },
  {
   "cell_type": "code",
   "execution_count": 590,
   "id": "63e4d801-ac31-4e4c-ad4d-50d10486777c",
   "metadata": {
    "tags": []
   },
   "outputs": [
    {
     "data": {
      "text/plain": [
       "낼 수 있는 패: ['가위', '보']\n",
       "최근기록: ['보', '보', '보', '보', '보', '보', '보', '보', '보', '보']\n",
       "최근승패: ['패배', '승리', '패배', '승리', '승리', '승리', '승리', '패배', '패배', '패배']\n",
       "확률: {'가위': 0.20884520884520885, '보': 0.7911547911547911}"
      ]
     },
     "execution_count": 590,
     "metadata": {},
     "output_type": "execute_result"
    }
   ],
   "source": [
    "F"
   ]
  },
  {
   "cell_type": "markdown",
   "id": "30d050de-9744-4654-acb9-02b86282d10f",
   "metadata": {},
   "source": [
    "`(7)` (6)번의 플레이어E와 플레이어F가 500회~1000회까지 추가로 게임을 한다. 이번에는 플레이어E만 데이터로부터 학습한다. 1000회까지 대결을 끝낸 이후 플레이어E가 (가위,바위)를 내는 확률은 어떻게 업데이트 되었는가? \n",
    "\n",
    "**플레이어 E,F의 시점별 확률업데이트**\n",
    "\n",
    "|시점|확률|학습| \n",
    "|:-:|:-:|:-:|\n",
    "|0<= t <100 | E = {가위: 1/2, 바위: 1/2},<br> F = {가위:1/2, 보:1/2}| E = False, F = False|\n",
    "|100<= t <500| E = {가위: 1/2, 바위: 1/2},<br> F = {가위: ??, 보: ??}| E = False, F = **True**|\n",
    "|-|-|-|\n",
    "|500<= t < 1000| E = {가위: ??, 바위: ??},<br> F = {가위: ??, 보: ??}| E = **True**, F = False|\n"
   ]
  },
  {
   "cell_type": "markdown",
   "id": "89afa71f-b523-4232-90d7-5ab716d33cf0",
   "metadata": {},
   "source": [
    "**hint: 플레이어F는 보를 내도록 학습되어 있다. 따라서 플레이어E가 바위를 내면 지고 가위를 내면 이길것이다. 따라서 플레이어E는 가위가 유리하다고 생각할 것이다.**"
   ]
  },
  {
   "cell_type": "markdown",
   "id": "252c2e0a-9674-4ded-a017-b221192a8a35",
   "metadata": {},
   "source": [
    "(풀이)"
   ]
  },
  {
   "cell_type": "code",
   "execution_count": 591,
   "id": "a0d6e768-3783-4dbf-bcaf-7c813226d85b",
   "metadata": {
    "tags": []
   },
   "outputs": [],
   "source": [
    "# for t in range(100):\n",
    "#     E*F \n",
    "# for t in range(100,500):\n",
    "#     E*F \n",
    "#     F.learn()\n",
    "for t in range(500,1000):\n",
    "    E*F \n",
    "    E.learn()"
   ]
  },
  {
   "cell_type": "code",
   "execution_count": 592,
   "id": "72626f94-e55e-4981-aca7-bfc4b5c443bf",
   "metadata": {
    "tags": []
   },
   "outputs": [
    {
     "data": {
      "text/plain": [
       "낼 수 있는 패: ['가위', '바위']\n",
       "최근기록: ['가위', '가위', '가위', '바위', '가위', '가위', '가위', '바위', '가위', '가위']\n",
       "최근승패: ['무승부', '승리', '승리', '패배', '승리', '승리', '승리', '패배', '승리', '무승부']\n",
       "확률: {'가위': 0.8745493871665465, '바위': 0.1254506128334535}"
      ]
     },
     "execution_count": 592,
     "metadata": {},
     "output_type": "execute_result"
    }
   ],
   "source": [
    "E"
   ]
  },
  {
   "cell_type": "code",
   "execution_count": 598,
   "id": "4512dd1d-8509-4a9c-b7f5-b948fad68e5e",
   "metadata": {
    "tags": []
   },
   "outputs": [
    {
     "data": {
      "text/plain": [
       "낼 수 있는 패: ['가위', '보']\n",
       "최근기록: ['가위', '보', '보', '보', '보', '보', '보', '보', '보', '가위']\n",
       "최근승패: ['무승부', '패배', '패배', '승리', '패배', '패배', '패배', '승리', '패배', '무승부']\n",
       "확률: {'가위': 0.20884520884520885, '보': 0.7911547911547911}"
      ]
     },
     "execution_count": 598,
     "metadata": {},
     "output_type": "execute_result"
    }
   ],
   "source": [
    "F"
   ]
  },
  {
   "cell_type": "markdown",
   "id": "c7b45d01-6711-4476-b5d0-32cdb15d405e",
   "metadata": {},
   "source": [
    "`(8)` (7)번의 플레이어E와 플레이어F가 1000회~50000회까지 추가로 게임을 한다. 이번에는 플레이어F만 데이터로부터 학습한다. 50000회까지 대결을 끝낸 이후 플레이어F가 (가위,보)를 내는 확률은 어떻게 업데이트 되었는가? "
   ]
  },
  {
   "cell_type": "markdown",
   "id": "b10f916a-f1d6-42f1-8e6f-e6f928a260e2",
   "metadata": {},
   "source": [
    "\n",
    "**플레이어 E,F의 시점별 확률업데이트**\n",
    "\n",
    "|시점|확률|학습|\n",
    "|:-:|:-:|:-:|\n",
    "|0<= t <100 | E = {가위: 1/2, 바위: 1/2},<br> F = {가위:1/2, 보:1/2}| E = False, F = False|\n",
    "|100<= t <500| E = {가위: 1/2, 바위: 1/2},<br> F = {가위: ??, 보: ??}| E = False, F = **True**|\n",
    "|500<= t < 1000| E = {가위: ??, 바위: ??},<br> F = {가위: ??, 보: ??}| E = **True**, F = False|\n",
    "|-|-|-|\n",
    "|1000<= t < 50000| E = {가위: ??, 바위: ??},<br> F = {가위: ??, 보: ??}| E = False, F = **True**|\n"
   ]
  },
  {
   "cell_type": "markdown",
   "id": "168d5b8d-e9c0-4820-9da3-eac88e53a48b",
   "metadata": {},
   "source": [
    "**hint: 플레이어F는 원래 보가 유리하다고 생각하여 보를 자주 내도록 학습되었다. 하지만 플레이어E가 그러한 플레이어F의 성향을 파악하고 가위를 주로 내도록 학습하였다. 플레이어F는 그러한 플레이어E의 성향을 다시 파악하여 이번에는 가위을 자주 내는 것이 유리하다고 생각할 것이다.**"
   ]
  },
  {
   "cell_type": "markdown",
   "id": "4f6bf489-d006-415c-b9cf-5cc29fc1602e",
   "metadata": {},
   "source": [
    "(풀이)"
   ]
  },
  {
   "cell_type": "code",
   "execution_count": 599,
   "id": "f5eb1f77-d104-4531-95ec-232a86cbd132",
   "metadata": {
    "tags": []
   },
   "outputs": [],
   "source": [
    "# for t in range(100):\n",
    "#     E*F \n",
    "# for t in range(100,500):\n",
    "#     E*F \n",
    "#     F.learn()\n",
    "# for t in range(500,1000):\n",
    "#     E*F \n",
    "#     E.learn()\n",
    "for t in range(1000,50000):\n",
    "    E*F \n",
    "    F.learn()"
   ]
  },
  {
   "cell_type": "code",
   "execution_count": 601,
   "id": "71000b94-0e63-4fe8-9fc4-3d1106614cec",
   "metadata": {
    "tags": []
   },
   "outputs": [
    {
     "data": {
      "text/plain": [
       "낼 수 있는 패: ['가위', '바위']\n",
       "최근기록: ['가위', '가위', '가위', '가위', '가위', '가위', '가위', '가위', '가위', '가위']\n",
       "최근승패: ['무승부', '무승부', '무승부', '무승부', '무승부', '무승부', '무승부', '무승부', '무승부', '무승부']\n",
       "확률: {'가위': 0.8745493871665465, '바위': 0.1254506128334535}"
      ]
     },
     "execution_count": 601,
     "metadata": {},
     "output_type": "execute_result"
    }
   ],
   "source": [
    "E"
   ]
  },
  {
   "cell_type": "code",
   "execution_count": 602,
   "id": "1104b775-a3e5-427f-9b84-5ecc7ee04fab",
   "metadata": {
    "tags": []
   },
   "outputs": [
    {
     "data": {
      "text/plain": [
       "낼 수 있는 패: ['가위', '보']\n",
       "최근기록: ['가위', '가위', '가위', '가위', '가위', '가위', '가위', '가위', '가위', '가위']\n",
       "최근승패: ['무승부', '무승부', '무승부', '무승부', '무승부', '무승부', '무승부', '무승부', '무승부', '무승부']\n",
       "확률: {'가위': 0.9515378389316066, '보': 0.048462161068393364}"
      ]
     },
     "execution_count": 602,
     "metadata": {},
     "output_type": "execute_result"
    }
   ],
   "source": [
    "F"
   ]
  },
  {
   "cell_type": "markdown",
   "id": "9867e080-bd74-4136-926f-737c51d05156",
   "metadata": {},
   "source": [
    "`(9)` 플레이어E와 플레이어F의 대결기록을 초기화 한다. 이번에는 플레이어F가 항상 (3/4)의 확률로 가위를 (1/4)의 확률로 보를 낸다고 가정한다."
   ]
  },
  {
   "cell_type": "markdown",
   "id": "217e1ae5-bfee-4ec1-a828-20a56a6489b0",
   "metadata": {},
   "source": [
    "\n",
    "||플레이어E|플레이어F|\n",
    "|:-:|:-:|:-:|\n",
    "|action_space | (가위,바위) | (가위,보) |\n",
    "|prob | {'가위': 0.5, '바위': 0.5} | {'가위':3/4,'보':1/4} |\n"
   ]
  },
  {
   "cell_type": "markdown",
   "id": "374407e3-287c-4ac2-8846-c505a8490ce7",
   "metadata": {},
   "source": [
    "플레이어E는 처음 1000번의 대결까지는 랜덤으로 (가위,바위)중 하나를 내고, 이후의 1000번의 대결에서는 데이터를 학습하여 수정한 확률을 사용한다고 하자. 대결이후에 플레이어E가 (가위,바위)를 내는 확률이 어떻게 업데이트 되어있는가? "
   ]
  },
  {
   "cell_type": "markdown",
   "id": "de41fb50-34a3-4486-b82a-c9de1a74a50b",
   "metadata": {
    "tags": []
   },
   "source": [
    "|시점|확률|학습|\n",
    "|:-:|:-:|:-:|\n",
    "|0<= t <1000 | E = {가위: 1/2, 바위: 1/2},<br> F = {가위: 3/4, 보: 1/4}| E = False, F = False|\n",
    "|1000<= t <2000| E = {가위: ??, 바위: ??},<br> F = {가위: 3/4, 보: 1/4}| E = **True**, F = False|"
   ]
  },
  {
   "cell_type": "markdown",
   "id": "cb7666a3-5e0b-43ea-a857-0ab123aac774",
   "metadata": {},
   "source": [
    "(풀이)"
   ]
  },
  {
   "cell_type": "code",
   "execution_count": 676,
   "id": "76c26dfc-3da2-4bd1-b379-a19027fed9f8",
   "metadata": {
    "tags": []
   },
   "outputs": [],
   "source": [
    "E = RPSlrn(['가위','바위'])\n",
    "F = RPSlrn(['가위','보'])"
   ]
  },
  {
   "cell_type": "code",
   "execution_count": 677,
   "id": "1579ad80-66a0-453c-9772-30fa50e69032",
   "metadata": {
    "tags": []
   },
   "outputs": [],
   "source": [
    "F.prob = [3/4, 1/4] "
   ]
  },
  {
   "cell_type": "code",
   "execution_count": 678,
   "id": "bac03dcc-fe8c-40bf-bdb9-559dac26f4ac",
   "metadata": {
    "tags": []
   },
   "outputs": [
    {
     "data": {
      "text/plain": [
       "낼 수 있는 패: ['가위', '바위']\n",
       "최근기록: []\n",
       "최근승패: []\n",
       "확률: {'가위': 0.5, '바위': 0.5}"
      ]
     },
     "execution_count": 678,
     "metadata": {},
     "output_type": "execute_result"
    }
   ],
   "source": [
    "E"
   ]
  },
  {
   "cell_type": "code",
   "execution_count": 679,
   "id": "779b1b63-f2ed-4f5a-8b9a-b83dbc4c88b7",
   "metadata": {
    "tags": []
   },
   "outputs": [
    {
     "data": {
      "text/plain": [
       "낼 수 있는 패: ['가위', '보']\n",
       "최근기록: []\n",
       "최근승패: []\n",
       "확률: {'가위': 0.75, '보': 0.25}"
      ]
     },
     "execution_count": 679,
     "metadata": {},
     "output_type": "execute_result"
    }
   ],
   "source": [
    "F"
   ]
  },
  {
   "cell_type": "code",
   "execution_count": 680,
   "id": "131dfb49-0a8c-4ec4-b0bd-7751d334189e",
   "metadata": {
    "tags": []
   },
   "outputs": [],
   "source": [
    "for t in range(1000):\n",
    "    E*F \n",
    "for t in range(1000,2000):\n",
    "    E.learn()"
   ]
  },
  {
   "cell_type": "code",
   "execution_count": 682,
   "id": "405837a1-0386-47b1-8b24-a7dcd79f812b",
   "metadata": {
    "tags": []
   },
   "outputs": [
    {
     "data": {
      "text/plain": [
       "낼 수 있는 패: ['가위', '바위']\n",
       "최근기록: ['가위', '바위', '가위', '가위', '가위', '바위', '가위', '가위', '가위', '바위']\n",
       "최근승패: ['승리', '패배', '무승부', '무승부', '승리', '패배', '무승부', '무승부', '무승부', '승리']\n",
       "확률: {'가위': 0.43976348854397634, '바위': 0.5602365114560236}"
      ]
     },
     "execution_count": 682,
     "metadata": {},
     "output_type": "execute_result"
    }
   ],
   "source": [
    "E"
   ]
  },
  {
   "cell_type": "code",
   "execution_count": 681,
   "id": "739a977c-0dce-402b-87a0-e43b8349dd07",
   "metadata": {
    "tags": []
   },
   "outputs": [
    {
     "data": {
      "text/plain": [
       "낼 수 있는 패: ['가위', '보']\n",
       "최근기록: ['보', '보', '가위', '가위', '보', '보', '가위', '가위', '가위', '가위']\n",
       "최근승패: ['패배', '승리', '무승부', '무승부', '패배', '승리', '무승부', '무승부', '무승부', '패배']\n",
       "확률: {'가위': 0.75, '보': 0.25}"
      ]
     },
     "execution_count": 681,
     "metadata": {},
     "output_type": "execute_result"
    }
   ],
   "source": [
    "F"
   ]
  },
  {
   "cell_type": "markdown",
   "id": "f586c6ee-4620-4c54-a4d3-4c3dc1f45efa",
   "metadata": {},
   "source": [
    "> E가 가위를 냈을 경우 보상의 기대값은 `1*3/4 + 2*1/4 = 5/4` 이고 바위를 냈을 경우 보상의 기대값은 `2*3/4 + 0*1/4 = 6/4` 이므로 바위가 유리하다. 따라서 점점 바위를 내도록 학습한다. "
   ]
  },
  {
   "cell_type": "markdown",
   "id": "37558eb2-ea13-445f-88cc-f82cd267feeb",
   "metadata": {},
   "source": [
    "`(10)` 플레이어E와 플레이어F의 대결기록을 초기화 한다. 이번에는 플레이어F가 항상 (2/3)의 확률로 가위를 (1/3)의 확률로 보를 낸다고 가정한다. "
   ]
  },
  {
   "cell_type": "markdown",
   "id": "0545f7c9-63c1-4ddc-ae0f-661a4b5c0173",
   "metadata": {},
   "source": [
    "\n",
    "||플레이어E|플레이어F|\n",
    "|:-:|:-:|:-:|\n",
    "|action_space | (가위,바위) | (가위,보) |\n",
    "|prob | {'가위': 0.5, '바위': 0.5} | {'가위':2/3,'보':1/3} |\n"
   ]
  },
  {
   "cell_type": "markdown",
   "id": "c1d1cc77-22cd-4380-a7e9-b64a792ef3b6",
   "metadata": {},
   "source": [
    "플레이어E는 처음 1000번의 대결까지는 랜덤으로 (가위,바위)중 하나를 내고, 이후의 1000번의 대결에서는 데이터를 학습하여 수정한 확률을 사용한다고 하자. 대결이후에 플레이어E가 (가위,바위)를 내는 확률이 어떻게 업데이트 되어있는가? "
   ]
  },
  {
   "cell_type": "markdown",
   "id": "f55638f0-83a5-4be9-94e6-29e0bde7d19a",
   "metadata": {
    "tags": []
   },
   "source": [
    "|시점|확률|학습|\n",
    "|:-:|:-:|:-:|\n",
    "|0<= t <1000 | E = {가위: 1/2, 바위: 1/2},<br> F = {가위: 2/3, 보: 1/3}| E = False, F = False|\n",
    "|1000<= t <2000| E = {가위: ??, 바위: ??},<br> F = {가위: 2/3, 보: 1/3}| E = **True**, F = False|"
   ]
  },
  {
   "cell_type": "markdown",
   "id": "1c300c36-5294-4b13-84b8-4c81349cec40",
   "metadata": {},
   "source": [
    "(풀이)"
   ]
  },
  {
   "cell_type": "code",
   "execution_count": 683,
   "id": "a6611008-ed76-47ab-80b0-c1b1775466ef",
   "metadata": {
    "tags": []
   },
   "outputs": [],
   "source": [
    "E = RPSlrn(['가위','바위'])\n",
    "F = RPSlrn(['가위','보'])"
   ]
  },
  {
   "cell_type": "code",
   "execution_count": 684,
   "id": "ac8dc3f7-e663-4560-8823-08941b4b7273",
   "metadata": {
    "tags": []
   },
   "outputs": [],
   "source": [
    "F.prob = [2/3, 1/3] "
   ]
  },
  {
   "cell_type": "code",
   "execution_count": 685,
   "id": "a0ee40e1-b2c7-4792-b8ea-96eadec3b298",
   "metadata": {
    "tags": []
   },
   "outputs": [
    {
     "data": {
      "text/plain": [
       "낼 수 있는 패: ['가위', '바위']\n",
       "최근기록: []\n",
       "최근승패: []\n",
       "확률: {'가위': 0.5, '바위': 0.5}"
      ]
     },
     "execution_count": 685,
     "metadata": {},
     "output_type": "execute_result"
    }
   ],
   "source": [
    "E"
   ]
  },
  {
   "cell_type": "code",
   "execution_count": 686,
   "id": "a555ab3a-d938-4733-bdfc-9678bbe0917e",
   "metadata": {
    "tags": []
   },
   "outputs": [
    {
     "data": {
      "text/plain": [
       "낼 수 있는 패: ['가위', '보']\n",
       "최근기록: []\n",
       "최근승패: []\n",
       "확률: {'가위': 0.6666666666666666, '보': 0.3333333333333333}"
      ]
     },
     "execution_count": 686,
     "metadata": {},
     "output_type": "execute_result"
    }
   ],
   "source": [
    "F"
   ]
  },
  {
   "cell_type": "code",
   "execution_count": 687,
   "id": "c3b5b314-bd6e-4faa-bd64-0ae747c4a8b5",
   "metadata": {
    "tags": []
   },
   "outputs": [],
   "source": [
    "for t in range(1000):\n",
    "    E*F \n",
    "for t in range(1000,2000):\n",
    "    E.learn()"
   ]
  },
  {
   "cell_type": "code",
   "execution_count": 688,
   "id": "60d44415-3c92-4a7b-862a-c54d70835f73",
   "metadata": {
    "tags": []
   },
   "outputs": [
    {
     "data": {
      "text/plain": [
       "낼 수 있는 패: ['가위', '바위']\n",
       "최근기록: ['바위', '바위', '바위', '가위', '가위', '가위', '바위', '바위', '가위', '바위']\n",
       "최근승패: ['패배', '승리', '승리', '무승부', '무승부', '무승부', '승리', '패배', '무승부', '승리']\n",
       "확률: {'가위': 0.5026217228464419, '바위': 0.49737827715355803}"
      ]
     },
     "execution_count": 688,
     "metadata": {},
     "output_type": "execute_result"
    }
   ],
   "source": [
    "E"
   ]
  },
  {
   "cell_type": "code",
   "execution_count": 689,
   "id": "8d713287-706e-4938-a84e-80bac69116ec",
   "metadata": {
    "tags": []
   },
   "outputs": [
    {
     "data": {
      "text/plain": [
       "낼 수 있는 패: ['가위', '보']\n",
       "최근기록: ['보', '가위', '가위', '가위', '가위', '가위', '가위', '보', '가위', '가위']\n",
       "최근승패: ['승리', '패배', '패배', '무승부', '무승부', '무승부', '패배', '승리', '무승부', '패배']\n",
       "확률: {'가위': 0.6666666666666666, '보': 0.3333333333333333}"
      ]
     },
     "execution_count": 689,
     "metadata": {},
     "output_type": "execute_result"
    }
   ],
   "source": [
    "F"
   ]
  },
  {
   "cell_type": "markdown",
   "id": "eac15799-e7fa-41cd-8cfb-4afba868e2cc",
   "metadata": {},
   "source": [
    "> E가 가위를 냈을 경우 보상의 기대값은 `1*2/3 + 2*1/3 = 4/3` 이고 바위를 냈을 경우 보상의 기대값은 `2*2/3 + 0*1/3 = 4/3` 이므로 가위를 내나 바위를 내나 상관이 없다."
   ]
  },
  {
   "cell_type": "markdown",
   "id": "ed9c36b0-b7eb-46bd-89c8-9c876a4c61ba",
   "metadata": {},
   "source": [
    "`(11)` 플레이어E와 플레이어F의 대결기록을 초기화 한다. 이번에는 플레이어E가 항상 (2/3)의 확률로 가위를 (1/3)의 확률로 바위를 낸다고 가정한다. "
   ]
  },
  {
   "cell_type": "markdown",
   "id": "e61ad39d-3669-4d3d-a9bf-d3c334ccfdd7",
   "metadata": {},
   "source": [
    "\n",
    "||플레이어E|플레이어F|\n",
    "|:-:|:-:|:-:|\n",
    "|action_space | (가위,바위) | (가위,보) |\n",
    "|prob | {'가위': 2/3, '바위': 1/3} | {'가위': 0.5,'보': 0.5} |\n"
   ]
  },
  {
   "cell_type": "markdown",
   "id": "b919bf08-ee49-40d3-a99d-fe1e93d47d1e",
   "metadata": {},
   "source": [
    "플레이어F는 처음 1000번의 대결까지는 랜덤으로 (가위,바위)중 하나를 내고, 이후의 1000번의 대결에서는 데이터를 학습하여 수정한 확률을 사용한다고 하자. 대결이후에 플레이어F가 (가위,바위)를 내는 확률이 어떻게 업데이트 되어있는가? "
   ]
  },
  {
   "cell_type": "markdown",
   "id": "148a195f-4883-4689-8de3-2b8a7dfeb6dd",
   "metadata": {
    "tags": []
   },
   "source": [
    "|시점|확률|학습|\n",
    "|:-:|:-:|:-:|\n",
    "|0<= t <1000 | E = {가위: 2/3, 바위: 1/3},<br> F = {가위: 0.5, 보: 0.5}| E = False, F = False|\n",
    "|1000<= t <2000| E = {가위: 2/3, 바위: 1/3},<br> F = {가위: ??, 보: ??}| E = False, F = **True**|"
   ]
  },
  {
   "cell_type": "markdown",
   "id": "9217a0a0-1ddf-4c97-8618-2fb9ff148f65",
   "metadata": {},
   "source": [
    "(풀이)"
   ]
  },
  {
   "cell_type": "code",
   "execution_count": 696,
   "id": "bd04c883-00a1-470a-ae25-7d6208166528",
   "metadata": {
    "tags": []
   },
   "outputs": [],
   "source": [
    "E = RPSlrn(['가위','바위'])\n",
    "F = RPSlrn(['가위','보'])"
   ]
  },
  {
   "cell_type": "code",
   "execution_count": 697,
   "id": "5d63ddc6-0c64-4cd3-a995-67f1905c7a9b",
   "metadata": {
    "tags": []
   },
   "outputs": [],
   "source": [
    "E.prob = [2/3, 1/3] "
   ]
  },
  {
   "cell_type": "code",
   "execution_count": 698,
   "id": "9a23233b-9f16-43c5-aeb1-de3e57fe54c2",
   "metadata": {
    "tags": []
   },
   "outputs": [
    {
     "data": {
      "text/plain": [
       "낼 수 있는 패: ['가위', '바위']\n",
       "최근기록: []\n",
       "최근승패: []\n",
       "확률: {'가위': 0.6666666666666666, '바위': 0.3333333333333333}"
      ]
     },
     "execution_count": 698,
     "metadata": {},
     "output_type": "execute_result"
    }
   ],
   "source": [
    "E"
   ]
  },
  {
   "cell_type": "code",
   "execution_count": 699,
   "id": "f9b5a278-4fa8-478c-9a4a-179dd2229af9",
   "metadata": {
    "tags": []
   },
   "outputs": [
    {
     "data": {
      "text/plain": [
       "낼 수 있는 패: ['가위', '보']\n",
       "최근기록: []\n",
       "최근승패: []\n",
       "확률: {'가위': 0.5, '보': 0.5}"
      ]
     },
     "execution_count": 699,
     "metadata": {},
     "output_type": "execute_result"
    }
   ],
   "source": [
    "F"
   ]
  },
  {
   "cell_type": "code",
   "execution_count": 700,
   "id": "7238dffd-39a0-45bd-a088-56d846e17272",
   "metadata": {
    "tags": []
   },
   "outputs": [],
   "source": [
    "for t in range(1000):\n",
    "    E*F \n",
    "for t in range(1000,2000):\n",
    "    F.learn()"
   ]
  },
  {
   "cell_type": "code",
   "execution_count": 701,
   "id": "cf10506c-ad63-45fa-8c9d-e197a0d66365",
   "metadata": {
    "tags": []
   },
   "outputs": [
    {
     "data": {
      "text/plain": [
       "낼 수 있는 패: ['가위', '바위']\n",
       "최근기록: ['바위', '바위', '바위', '바위', '바위', '바위', '가위', '가위', '바위', '가위']\n",
       "최근승패: ['승리', '승리', '승리', '패배', '패배', '승리', '무승부', '승리', '승리', '승리']\n",
       "확률: {'가위': 0.6666666666666666, '바위': 0.3333333333333333}"
      ]
     },
     "execution_count": 701,
     "metadata": {},
     "output_type": "execute_result"
    }
   ],
   "source": [
    "E"
   ]
  },
  {
   "cell_type": "code",
   "execution_count": 702,
   "id": "163cf0fc-831b-42fe-9893-26a43f042c8d",
   "metadata": {
    "tags": []
   },
   "outputs": [
    {
     "data": {
      "text/plain": [
       "낼 수 있는 패: ['가위', '보']\n",
       "최근기록: ['가위', '가위', '가위', '보', '보', '가위', '가위', '보', '가위', '보']\n",
       "최근승패: ['패배', '패배', '패배', '승리', '승리', '패배', '무승부', '패배', '패배', '패배']\n",
       "확률: {'가위': 0.5288888888888889, '보': 0.4711111111111111}"
      ]
     },
     "execution_count": 702,
     "metadata": {},
     "output_type": "execute_result"
    }
   ],
   "source": [
    "F"
   ]
  },
  {
   "cell_type": "markdown",
   "id": "3dfa3856-54a5-4c06-b875-e0c6a8403143",
   "metadata": {},
   "source": [
    "> F가 가위를 냈을 경우 보상의 기대값은 `1*2/3 + 0*1/3 = 2/3` 이고 바위를 냈을 경우 보상의 기대값은 `0*2/3 + 2*1/3 = 2/3` 이므로 가위를 내나 바위를 내나 상관이 없다. "
   ]
  }
 ],
 "metadata": {
  "kernelspec": {
   "display_name": "Python 3 (ipykernel)",
   "language": "python",
   "name": "python3"
  },
  "language_info": {
   "codemirror_mode": {
    "name": "ipython",
    "version": 3
   },
   "file_extension": ".py",
   "mimetype": "text/x-python",
   "name": "python",
   "nbconvert_exporter": "python",
   "pygments_lexer": "ipython3",
   "version": "3.10.13"
  }
 },
 "nbformat": 4,
 "nbformat_minor": 5
}
