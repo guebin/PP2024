{
 "cells": [
  {
   "cell_type": "raw",
   "id": "d1839693-ef35-4691-acad-8379296978a4",
   "metadata": {
    "id": "87b5cded-346b-4915-acf5-b5ec93a5207d"
   },
   "source": [
    "---\n",
    "title: \"12wk-2: 클래스 (2)\"\n",
    "author: \"최규빈\"\n",
    "date: \"05/24/2024\"\n",
    "draft: false\n",
    "---"
   ]
  },
  {
   "cell_type": "markdown",
   "id": "c438468e-a0b3-4cad-b01f-bd6fe44bd3e8",
   "metadata": {
    "id": "e67ab8e0"
   },
   "source": [
    "<a href=\"https://colab.research.google.com/github/guebin/PP2024/blob/main/posts/12wk-2.ipynb\"><img src=\"https://colab.research.google.com/assets/colab-badge.svg\" style=\"text-align: left\"></a>"
   ]
  },
  {
   "cell_type": "markdown",
   "id": "d8ef7713-a956-4da0-a974-99f9a92f88c4",
   "metadata": {
    "tags": []
   },
   "source": [
    "# 1. 강의영상 "
   ]
  },
  {
   "cell_type": "code",
   "execution_count": 1,
   "id": "d6120046-e1a7-4451-8d46-782041216691",
   "metadata": {
    "tags": []
   },
   "outputs": [],
   "source": [
    "#{{<video https://youtu.be/playlist?list=PLQqh36zP38-wMY2MS-ZGKFXqVgbTeAzNQ&si=iojT6Aif9fwoOyUN >}}"
   ]
  },
  {
   "cell_type": "markdown",
   "id": "6218039e-bf69-4e83-b97a-c314666229ca",
   "metadata": {
    "tags": []
   },
   "source": [
    "# 2. Imports "
   ]
  },
  {
   "cell_type": "code",
   "execution_count": 540,
   "id": "67a44b79-1f46-4faa-af77-12fcbe7c4d7b",
   "metadata": {
    "id": "6835093b-64a4-467c-9f96-ad622c5bef2c",
    "tags": []
   },
   "outputs": [],
   "source": [
    "import numpy as np\n",
    "import matplotlib.pyplot as plt\n",
    "import pandas as pd"
   ]
  },
  {
   "cell_type": "markdown",
   "id": "b0361321-5cd5-4306-982e-2a340a91c1d5",
   "metadata": {
    "id": "97993944-7895-4942-8b63-3baaea87f9e1"
   },
   "source": [
    "# 3. 상속 맛보기 "
   ]
  },
  {
   "cell_type": "markdown",
   "id": "8a5ee5f7-a765-46ac-ad59-e11d33de78fc",
   "metadata": {
    "id": "687e7738-1637-4882-8f55-06bb6e33b504"
   },
   "source": [
    "## A. 모티브: 클래스를 수정은 불편해"
   ]
  },
  {
   "cell_type": "markdown",
   "id": "53b7c4b1-490d-4d04-9498-b146053f5908",
   "metadata": {
    "id": "67d6f489-0c53-4bb5-ac4b-dfddf219e242"
   },
   "source": [
    "`-` 예시1: UpJump ver1"
   ]
  },
  {
   "cell_type": "code",
   "execution_count": 5,
   "id": "14eed480-ad9c-4b55-bab7-de78eafbf3ee",
   "metadata": {
    "id": "7e049991-6479-4cd8-aeb5-0de9d96d8f71",
    "tags": []
   },
   "outputs": [],
   "source": [
    "class UpJump:\n",
    "    def __init__(self):\n",
    "        self.value = 0\n",
    "    def up(self):\n",
    "        self.value = self.value + 1\n",
    "    def __repr__(self):\n",
    "        return str(self.value)"
   ]
  },
  {
   "cell_type": "code",
   "execution_count": 6,
   "id": "c27bf2db-effb-4748-8594-f4889a78f881",
   "metadata": {
    "id": "a7f3ede5-94d4-459e-a7cf-1f15d0d4c002",
    "tags": []
   },
   "outputs": [],
   "source": [
    "a = UpJump()\n",
    "a.up()"
   ]
  },
  {
   "cell_type": "code",
   "execution_count": 7,
   "id": "a4fe4a60-cdfe-423d-a06c-eb0056eb8f28",
   "metadata": {
    "id": "587e516d-0114-4646-92a7-c037fdc45966",
    "outputId": "e6f33889-76ee-4371-82d9-51494677a611",
    "tags": []
   },
   "outputs": [
    {
     "data": {
      "text/plain": [
       "1"
      ]
     },
     "execution_count": 7,
     "metadata": {},
     "output_type": "execute_result"
    }
   ],
   "source": [
    "a"
   ]
  },
  {
   "cell_type": "code",
   "execution_count": 8,
   "id": "56d0b147-bb51-4919-85c4-28b1beb8748a",
   "metadata": {
    "id": "708adca9-6775-4dae-a215-1920189ae095",
    "outputId": "49b737e2-489f-4f5a-dde2-28d64aa92f49",
    "tags": []
   },
   "outputs": [
    {
     "ename": "AttributeError",
     "evalue": "'UpJump' object has no attribute 'jump'",
     "output_type": "error",
     "traceback": [
      "\u001b[0;31m---------------------------------------------------------------------------\u001b[0m",
      "\u001b[0;31mAttributeError\u001b[0m                            Traceback (most recent call last)",
      "Cell \u001b[0;32mIn[8], line 1\u001b[0m\n\u001b[0;32m----> 1\u001b[0m \u001b[43ma\u001b[49m\u001b[38;5;241;43m.\u001b[39;49m\u001b[43mjump\u001b[49m(\u001b[38;5;241m2\u001b[39m)\n",
      "\u001b[0;31mAttributeError\u001b[0m: 'UpJump' object has no attribute 'jump'"
     ]
    }
   ],
   "source": [
    "a.jump(2)"
   ]
  },
  {
   "cell_type": "markdown",
   "id": "a83b9ce9-66a3-448c-8b7e-b4d75488454c",
   "metadata": {
    "id": "4f8236fd-6ebc-4f69-814f-ff5659c646db"
   },
   "source": [
    "- 점프는 아직 구현하지 않음."
   ]
  },
  {
   "cell_type": "markdown",
   "id": "24d431a0-33ac-4282-a4e4-6e78d524bd42",
   "metadata": {
    "id": "b7ec6b3b-7341-4f38-820a-1acbf903c4e0"
   },
   "source": [
    "`-` 예시2: UpJump2"
   ]
  },
  {
   "cell_type": "code",
   "execution_count": 9,
   "id": "6ac20e34-98e2-425f-9949-4bcebebf9fbb",
   "metadata": {
    "id": "6b208b24-11c0-4ee7-8069-3e3d98342b82",
    "tags": []
   },
   "outputs": [],
   "source": [
    "class UpJump2:\n",
    "    def __init__(self):\n",
    "        self.value = 0\n",
    "    def up(self):\n",
    "        self.value = self.value + 1\n",
    "    def jump(self,jump_size):\n",
    "        self.value = self.value + jump_size\n",
    "    def __repr__(self):\n",
    "        return str(self.value)"
   ]
  },
  {
   "cell_type": "code",
   "execution_count": 11,
   "id": "7fa93ed6-f852-4f4a-b5a8-3969f20d33ce",
   "metadata": {
    "id": "67f341b0-18df-4094-9f30-35819692e94c",
    "tags": []
   },
   "outputs": [],
   "source": [
    "a = UpJump2()"
   ]
  },
  {
   "cell_type": "code",
   "execution_count": 12,
   "id": "28827966-490f-4b81-ab34-fb250f058482",
   "metadata": {
    "id": "5970e315-22eb-4b30-a13b-53770333aea7",
    "tags": []
   },
   "outputs": [],
   "source": [
    "a.up()"
   ]
  },
  {
   "cell_type": "code",
   "execution_count": 13,
   "id": "3d6a5dd7-c201-4634-bcc6-07719f69a6bf",
   "metadata": {
    "id": "804406ac-14e8-492e-92ef-526746a6a9c6",
    "tags": []
   },
   "outputs": [],
   "source": [
    "a.jump(2)"
   ]
  },
  {
   "cell_type": "code",
   "execution_count": 14,
   "id": "fb807c00-3760-43a1-b953-cb9343a834ab",
   "metadata": {
    "id": "777112ad-22f7-4443-b6a2-720e9e0ccf3c",
    "outputId": "65c64dec-b695-44c6-b64c-c6752d2296bd",
    "tags": []
   },
   "outputs": [
    {
     "data": {
      "text/plain": [
       "3"
      ]
     },
     "execution_count": 14,
     "metadata": {},
     "output_type": "execute_result"
    }
   ],
   "source": [
    "a"
   ]
  },
  {
   "cell_type": "markdown",
   "id": "ed656f4a-d5e4-4ff1-ac09-e316d366ee07",
   "metadata": {
    "id": "2df2e4d7-5534-419f-b10f-6258962e9a27"
   },
   "source": [
    "`-` 예시3: UpJump2의 다른 구현"
   ]
  },
  {
   "cell_type": "code",
   "execution_count": 15,
   "id": "3c988d7e-d2fd-4a2a-b0a0-68182f780761",
   "metadata": {
    "id": "bd1720d4-1772-4e2b-80a7-cf585b27b897",
    "tags": []
   },
   "outputs": [],
   "source": [
    "class UpJump2(UpJump):\n",
    "    def jump(self,jump_size):\n",
    "        self.value = self.value + jump_size"
   ]
  },
  {
   "cell_type": "code",
   "execution_count": 16,
   "id": "4e0e09f3-975a-4511-91a5-a7fec7ad48be",
   "metadata": {
    "id": "9920c0cb-2a2c-49ea-b307-6a92ba5505b8",
    "tags": []
   },
   "outputs": [],
   "source": [
    "a = UpJump2()"
   ]
  },
  {
   "cell_type": "code",
   "execution_count": 17,
   "id": "c039bca3-5ba6-4481-b153-1655e31cad20",
   "metadata": {
    "id": "5995ea6e-ddce-49fb-a9ea-fb55c7a263f3",
    "tags": []
   },
   "outputs": [],
   "source": [
    "a.up()"
   ]
  },
  {
   "cell_type": "code",
   "execution_count": 18,
   "id": "2a589fa8-1ebc-4fcc-ab80-c6fd900fd3fa",
   "metadata": {
    "id": "ceb4b006-8c4e-4b0b-b320-db2512bc6a54",
    "tags": []
   },
   "outputs": [],
   "source": [
    "a.jump(2)"
   ]
  },
  {
   "cell_type": "code",
   "execution_count": 19,
   "id": "8d38e4dd-298e-4074-be06-62c176ab7ea8",
   "metadata": {
    "id": "631d60da-087f-4a07-afbe-7c6db5d521ff",
    "outputId": "169a59b6-8f68-48d3-a679-470cb1753988",
    "tags": []
   },
   "outputs": [
    {
     "data": {
      "text/plain": [
       "3"
      ]
     },
     "execution_count": 19,
     "metadata": {},
     "output_type": "execute_result"
    }
   ],
   "source": [
    "a"
   ]
  },
  {
   "cell_type": "markdown",
   "id": "0ba2ad4c-b0df-4199-92cf-f1f1037a6530",
   "metadata": {
    "id": "c9604d7a-f59f-490e-bcd6-5540fa148946"
   },
   "source": [
    "## B. 꿀팁"
   ]
  },
  {
   "cell_type": "markdown",
   "id": "d8498886-6e1c-4b6b-ac79-643a61fb41d7",
   "metadata": {
    "id": "554cd878-a011-4e1b-a00e-6dc82c8b24f5"
   },
   "source": [
    "`-` 클래스를 조금 수정하고 싶을때, 아래와 같은 문법을 이용하면 편리하다.\n",
    "\n",
    "```Python\n",
    "class 새로운_클래스_이름(수정할_클래스_이름):\n",
    "    def 수정_및_추가할_함수이름(self,...):\n",
    "        ...\n",
    "```"
   ]
  },
  {
   "cell_type": "markdown",
   "id": "fc32d734-2e70-4523-94b1-edf490c9f7f9",
   "metadata": {
    "id": "6cc32bbc-0922-408d-a72a-ac9baaa71e70"
   },
   "source": [
    "`-` 사용예시"
   ]
  },
  {
   "cell_type": "code",
   "execution_count": 26,
   "id": "0f7792cb-8ea5-4725-bcbc-8a7f216f4f3c",
   "metadata": {
    "id": "0e97ca15-984a-45bd-88c6-27e2b7c5292b",
    "tags": []
   },
   "outputs": [],
   "source": [
    "class UpJump3(UpJump2):\n",
    "    def __repr__(self):\n",
    "        return f'현재의 이 인스턴스의 value는 {self.value}입니다.'"
   ]
  },
  {
   "cell_type": "code",
   "execution_count": 27,
   "id": "9a39ab48-47ab-46c7-9912-901acc91dfd7",
   "metadata": {
    "id": "e927b5ed-483d-4827-b4a5-87fdfbf4330e",
    "tags": []
   },
   "outputs": [],
   "source": [
    "a=UpJump3()"
   ]
  },
  {
   "cell_type": "code",
   "execution_count": 28,
   "id": "00c287b6-63bb-46c5-81ed-f1730bfd9285",
   "metadata": {
    "id": "0186d7d6-2265-4dc9-86a0-bd727de0deb4",
    "outputId": "a6ae384c-900c-4b49-cf6e-188829c1cd34",
    "tags": []
   },
   "outputs": [
    {
     "data": {
      "text/plain": [
       "현재의 이 인스턴스의 value는 0입니다."
      ]
     },
     "execution_count": 28,
     "metadata": {},
     "output_type": "execute_result"
    }
   ],
   "source": [
    "a"
   ]
  },
  {
   "cell_type": "code",
   "execution_count": 29,
   "id": "db98850c-fef1-448b-955b-a156b0273690",
   "metadata": {
    "id": "319c4387-baed-42f1-adda-421ca2b00e84",
    "tags": []
   },
   "outputs": [],
   "source": [
    "a.jump(50)"
   ]
  },
  {
   "cell_type": "code",
   "execution_count": 30,
   "id": "111f4c26-779a-4d1f-8125-6070f8e85370",
   "metadata": {
    "id": "17db8cab-cb62-4eaf-a670-15eeb5858ab8",
    "outputId": "bca335e6-b628-4790-aaeb-1e120e3fdeaa",
    "tags": []
   },
   "outputs": [
    {
     "data": {
      "text/plain": [
       "현재의 이 인스턴스의 value는 50입니다."
      ]
     },
     "execution_count": 30,
     "metadata": {},
     "output_type": "execute_result"
    }
   ],
   "source": [
    "a"
   ]
  },
  {
   "cell_type": "markdown",
   "id": "66af33f7-52a9-4045-9600-801c9eb20909",
   "metadata": {
    "id": "1bfa78cd-7e18-4544-9bcf-0d1abfbf9003"
   },
   "source": [
    "# 4. `__add__`"
   ]
  },
  {
   "cell_type": "markdown",
   "id": "6742eb3e-9b1c-4247-b1df-88c6275bd4b0",
   "metadata": {
    "id": "366664d9-f1e3-4123-a808-6bc8d12b0e5c"
   },
   "source": [
    "## A. 모티브"
   ]
  },
  {
   "cell_type": "markdown",
   "id": "9d119326-7ccb-48ab-866e-8764973aa117",
   "metadata": {
    "id": "9a4903fc-67ca-4bd6-99d0-05c2fa7e040a"
   },
   "source": [
    "`-` 모티브: 아래의 연산구조를 관찰하자."
   ]
  },
  {
   "cell_type": "code",
   "execution_count": 31,
   "id": "90af3ff7-0f9c-4fd9-b9f1-ebc6e4883ebe",
   "metadata": {
    "id": "e68c3bd6-fde4-4c84-8f9d-eef44dd272e6",
    "outputId": "f683738f-74f6-4ce9-e5e9-1d16379fcd7a",
    "tags": []
   },
   "outputs": [
    {
     "data": {
      "text/plain": [
       "3"
      ]
     },
     "execution_count": 31,
     "metadata": {},
     "output_type": "execute_result"
    }
   ],
   "source": [
    "a=1\n",
    "b=2\n",
    "a+b"
   ]
  },
  {
   "cell_type": "markdown",
   "id": "4d62b5f6-3daf-49b4-8b0f-9ec71b08b9ca",
   "metadata": {
    "id": "13884c76-7b58-451b-b19f-5ddfc890295f"
   },
   "source": [
    "- a라는 인스턴스와 b라는 인스턴스를 +라는 기호가 연결하고 있다."
   ]
  },
  {
   "cell_type": "markdown",
   "id": "61afea39-3a76-40d8-be03-f1f8d01b75f2",
   "metadata": {
    "id": "3b0d9cc3-7d83-4918-b3fa-7fac645ae86a"
   },
   "source": [
    "`-` 이번에는 아래의 연산구조를 관찰하자."
   ]
  },
  {
   "cell_type": "code",
   "execution_count": 32,
   "id": "db0b0727-fd84-46e1-be8a-ac0e93c26130",
   "metadata": {
    "id": "09ef66e5-9549-450f-9787-a0b344bf4237",
    "outputId": "0370ccb6-9f5f-4775-bd06-476fcd92f579",
    "tags": []
   },
   "outputs": [
    {
     "data": {
      "text/plain": [
       "[1, 2, 3, 4]"
      ]
     },
     "execution_count": 32,
     "metadata": {},
     "output_type": "execute_result"
    }
   ],
   "source": [
    "a=[1,2]\n",
    "b=[3,4]\n",
    "a+b"
   ]
  },
  {
   "cell_type": "markdown",
   "id": "ad68fb46-cda5-4c3f-9027-726ae37ca40d",
   "metadata": {
    "id": "90085783-57d6-4153-add7-52b34f122abf"
   },
   "source": [
    "- a라는 인스턴스와 b라는 인스턴스를 +라는 기호가 연결하고 있다."
   ]
  },
  {
   "cell_type": "markdown",
   "id": "dc5d202e-782d-4e4b-b1ef-e68e65b29908",
   "metadata": {
    "id": "b413724f-f9b5-4f8b-82d4-30cc9f29499c"
   },
   "source": [
    "`-` 동작이 다른 이유?\n",
    "\n",
    "- 클래스를 배우기 이전: int자료형의 `+`는 \"정수의 덧셈\"을 의미하고 list자료형의 `+`는 \"자료의 추가\"를 의미한다.\n",
    "- 클래스를 배운 이후: 아마 클래스는 `+`라는 연산을 정의하는 숨겨진 메소드가 있을것이다. (print가 그랬듯이) 그리고 int클래스에서는 그 메소드를 \"정수의 덧셈\"이 되도록 정의하였고 list클래스에서는 그 메소드를 \"자료의 추가\"를 의미하도록 정의하였다."
   ]
  },
  {
   "cell_type": "markdown",
   "id": "c7c1f806-6288-4758-9ee1-b4aea529e5be",
   "metadata": {
    "id": "a47bf074-64fe-4538-b534-d24f111fdca6"
   },
   "source": [
    "`-` 아래의 결과를 관찰"
   ]
  },
  {
   "cell_type": "code",
   "execution_count": 33,
   "id": "224cd1d9-8913-4d1a-8b27-ad0c9bbfd5fb",
   "metadata": {
    "id": "f4f0dde0-56e8-48bd-9753-172d733b8b4a",
    "tags": []
   },
   "outputs": [],
   "source": [
    "a=1\n",
    "b=2"
   ]
  },
  {
   "cell_type": "code",
   "execution_count": 34,
   "id": "55a0c784-642a-4429-8474-54d9e8b99c16",
   "metadata": {
    "id": "65165032-06ec-4354-b1a1-3dfd1f2bb31d",
    "outputId": "33cdefcb-d2db-411f-ff4a-5d062d9d00d2",
    "tags": []
   },
   "outputs": [
    {
     "data": {
      "text/plain": [
       "3"
      ]
     },
     "execution_count": 34,
     "metadata": {},
     "output_type": "execute_result"
    }
   ],
   "source": [
    "a.__add__(b)"
   ]
  },
  {
   "cell_type": "code",
   "execution_count": 35,
   "id": "6813df5c-d980-4cc7-bb76-f0a900dcd112",
   "metadata": {
    "id": "8a9fb0a1-8e8e-40e8-b8da-8c23f118c287",
    "outputId": "b7e73226-9fb6-4064-c60b-00773281d63a",
    "tags": []
   },
   "outputs": [
    {
     "data": {
      "text/plain": [
       "3"
      ]
     },
     "execution_count": 35,
     "metadata": {},
     "output_type": "execute_result"
    }
   ],
   "source": [
    "b.__add__(a)"
   ]
  },
  {
   "cell_type": "code",
   "execution_count": 36,
   "id": "359c5c38-c92d-4be8-91ff-582ba24afbf4",
   "metadata": {
    "id": "c45b0642-1a76-478d-9398-db8201d4a617",
    "tags": []
   },
   "outputs": [],
   "source": [
    "a=[1,2]\n",
    "b=[3,4]"
   ]
  },
  {
   "cell_type": "code",
   "execution_count": 37,
   "id": "d0277906-bd45-4c1c-8634-8fc99b976e6d",
   "metadata": {
    "id": "29d37b65-6e02-40be-9d72-90b8c33d5472",
    "outputId": "abbd98fc-0543-4292-abac-91c0cfa0b728",
    "tags": []
   },
   "outputs": [
    {
     "data": {
      "text/plain": [
       "[1, 2, 3, 4]"
      ]
     },
     "execution_count": 37,
     "metadata": {},
     "output_type": "execute_result"
    }
   ],
   "source": [
    "a.__add__(b) # a+b"
   ]
  },
  {
   "cell_type": "code",
   "execution_count": 38,
   "id": "d90e0bb5-e7da-4252-bcad-4664621b54f8",
   "metadata": {
    "id": "2849a30b-17f9-4398-9224-4e203e503cce",
    "outputId": "2b73edd6-c72a-432f-edfe-954f3767b3e7",
    "tags": []
   },
   "outputs": [
    {
     "data": {
      "text/plain": [
       "[3, 4, 1, 2]"
      ]
     },
     "execution_count": 38,
     "metadata": {},
     "output_type": "execute_result"
    }
   ],
   "source": [
    "b.__add__(a) # b+a"
   ]
  },
  {
   "cell_type": "markdown",
   "id": "60631546-7758-40d2-958d-6669b33ab143",
   "metadata": {
    "id": "e80b031f-6df9-403b-980a-f667934dd7a8"
   },
   "source": [
    "`-` 확인: a+b는 사실 내부적으로 `a.__add__(b)`의 축약구문이다."
   ]
  },
  {
   "cell_type": "markdown",
   "id": "5773da64-3108-42b0-a198-5dac03495358",
   "metadata": {
    "id": "9f3013b5-b806-45cc-8899-6c11eec3737f"
   },
   "source": [
    "`-` 추측: 따라서 만약 `a.__add__(b)`의 기능을 바꾸면 (재정의하면) a+b의 기능도 바뀔 것이다."
   ]
  },
  {
   "cell_type": "markdown",
   "id": "3758b925-90af-4590-99d9-5986fa62b9f9",
   "metadata": {
    "id": "130a2583-005b-4728-8da5-9c626f42e975"
   },
   "source": [
    "## B. Student: `__add__`의 사용"
   ]
  },
  {
   "cell_type": "markdown",
   "id": "8d69fb3f-99cb-4eec-8b7a-d28a8e7dbfaf",
   "metadata": {
    "id": "8560a0a0-39bc-422d-85c8-8fd7145e6724"
   },
   "source": [
    "`-` Student 클래스 선언"
   ]
  },
  {
   "cell_type": "code",
   "execution_count": 65,
   "id": "98f1f060-dd89-4eb0-8210-a5c5f607f95e",
   "metadata": {
    "id": "c64faa6b-cbfd-43bd-b89e-d20e98ba1dbe",
    "tags": []
   },
   "outputs": [],
   "source": [
    "class StudentWrong:\n",
    "    def __init__(self, age=20.0, semester=0):\n",
    "        self.age = age\n",
    "        self.semester = semester\n",
    "        print(f\"입학을 축하합니다. 당신의 나이는 {self.age}이고 현재 학기는 {self.semester}학기 입니다.\")\n",
    "    def __add__(self,registration_status):\n",
    "        if registration_status=='휴학':\n",
    "            self.age=self.age+0.5\n",
    "        elif registration_status=='등록':\n",
    "            self.age=self.age+0.5\n",
    "            self.semester= self.semester+1\n",
    "    def __repr__(self):\n",
    "        text = f\"\"\"나이: {self.age}\\n학기: {self.semester}\"\"\"\n",
    "        return text"
   ]
  },
  {
   "cell_type": "markdown",
   "id": "27e80f5a-9a3c-4ede-bf75-50ceae30eafe",
   "metadata": {
    "id": "9f238d81-f98e-4b22-8757-9e2c5fb7a54c"
   },
   "source": [
    "`-` 사용"
   ]
  },
  {
   "cell_type": "code",
   "execution_count": 72,
   "id": "780278dd-9660-4d98-bd51-882619b54365",
   "metadata": {
    "id": "7f58c252-297a-4634-b518-7ca51fc82e47",
    "outputId": "f2d233ba-63da-4aee-a3a6-61ccf167ea3e",
    "tags": []
   },
   "outputs": [
    {
     "name": "stdout",
     "output_type": "stream",
     "text": [
      "입학을 축하합니다. 당신의 나이는 20.0이고 현재 학기는 0학기 입니다.\n"
     ]
    }
   ],
   "source": [
    "boram = StudentWrong()"
   ]
  },
  {
   "cell_type": "code",
   "execution_count": 73,
   "id": "70352cc4-331b-4b92-8a8d-728f3c3eca72",
   "metadata": {
    "id": "e5e4cb99-5932-45bd-bd94-5320b1ae8c0f",
    "outputId": "8b6097f8-a673-48bd-9933-5b095ae21eed",
    "tags": []
   },
   "outputs": [
    {
     "data": {
      "text/plain": [
       "나이: 20.0\n",
       "학기: 0"
      ]
     },
     "execution_count": 73,
     "metadata": {},
     "output_type": "execute_result"
    }
   ],
   "source": [
    "boram"
   ]
  },
  {
   "cell_type": "code",
   "execution_count": 74,
   "id": "f657eaca-5a3c-4d87-b481-439bd18502a8",
   "metadata": {
    "id": "3ffa9896-27ac-40d6-9ea9-6dcf06b18010",
    "outputId": "851951fa-2fbc-4392-9c93-5ce10f2d43db",
    "tags": []
   },
   "outputs": [
    {
     "data": {
      "text/plain": [
       "나이: 20.5\n",
       "학기: 1"
      ]
     },
     "execution_count": 74,
     "metadata": {},
     "output_type": "execute_result"
    }
   ],
   "source": [
    "boram + '등록'\n",
    "boram"
   ]
  },
  {
   "cell_type": "code",
   "execution_count": 75,
   "id": "c2664aae-340d-41fc-b838-d0e4350e9def",
   "metadata": {
    "id": "3dd512be-7499-4cf1-9f80-de2c44be045d",
    "outputId": "af35f0bf-a47c-4295-ea3d-eca5395176cb",
    "tags": []
   },
   "outputs": [
    {
     "data": {
      "text/plain": [
       "나이: 21.0\n",
       "학기: 1"
      ]
     },
     "execution_count": 75,
     "metadata": {},
     "output_type": "execute_result"
    }
   ],
   "source": [
    "boram + '휴학'\n",
    "boram"
   ]
  },
  {
   "cell_type": "markdown",
   "id": "75c17a5a-8307-4097-8ea7-53eb357e167d",
   "metadata": {
    "id": "93c482d5-5df8-4758-87f7-2983a71c9776"
   },
   "source": [
    "`-` 잘못된 사용"
   ]
  },
  {
   "cell_type": "code",
   "execution_count": 78,
   "id": "661bf507-994b-4027-98be-f9b293578fb9",
   "metadata": {
    "id": "e657175e-84f1-423a-afad-2b169ff2c68e",
    "outputId": "6c9ab8dc-56e3-41c9-85db-2858a8c4f668",
    "tags": []
   },
   "outputs": [
    {
     "name": "stdout",
     "output_type": "stream",
     "text": [
      "입학을 축하합니다. 당신의 나이는 20.0이고 현재 학기는 0학기 입니다.\n"
     ]
    }
   ],
   "source": [
    "boram = StudentWrong()"
   ]
  },
  {
   "cell_type": "code",
   "execution_count": 79,
   "id": "cdac5393-41c6-48d1-abfc-1703bee7205a",
   "metadata": {
    "id": "637592e1-2cea-464c-ac1a-170eaf800f02",
    "outputId": "4d974d35-3f51-4047-b60b-d2627019ce14",
    "tags": []
   },
   "outputs": [
    {
     "ename": "TypeError",
     "evalue": "unsupported operand type(s) for +: 'NoneType' and 'str'",
     "output_type": "error",
     "traceback": [
      "\u001b[0;31m---------------------------------------------------------------------------\u001b[0m",
      "\u001b[0;31mTypeError\u001b[0m                                 Traceback (most recent call last)",
      "Cell \u001b[0;32mIn[79], line 1\u001b[0m\n\u001b[0;32m----> 1\u001b[0m \u001b[43mboram\u001b[49m\u001b[43m \u001b[49m\u001b[38;5;241;43m+\u001b[39;49m\u001b[43m \u001b[49m\u001b[38;5;124;43m'\u001b[39;49m\u001b[38;5;124;43m등록\u001b[39;49m\u001b[38;5;124;43m'\u001b[39;49m\u001b[38;5;241;43m+\u001b[39;49m\u001b[43m \u001b[49m\u001b[38;5;124;43m'\u001b[39;49m\u001b[38;5;124;43m휴학\u001b[39;49m\u001b[38;5;124;43m'\u001b[39;49m \u001b[38;5;241m+\u001b[39m \u001b[38;5;124m'\u001b[39m\u001b[38;5;124m등록\u001b[39m\u001b[38;5;124m'\u001b[39m \u001b[38;5;241m+\u001b[39m \u001b[38;5;124m'\u001b[39m\u001b[38;5;124m휴학\u001b[39m\u001b[38;5;124m'\u001b[39m\n",
      "\u001b[0;31mTypeError\u001b[0m: unsupported operand type(s) for +: 'NoneType' and 'str'"
     ]
    }
   ],
   "source": [
    "boram + '등록'+ '휴학' + '등록' + '휴학'"
   ]
  },
  {
   "cell_type": "markdown",
   "id": "00b80741-fe23-4b47-b192-24983a0ba430",
   "metadata": {
    "id": "47dfeb81-6aa8-4ace-8da3-e2f87dc53ee3"
   },
   "source": [
    "- 에러가?"
   ]
  },
  {
   "cell_type": "markdown",
   "id": "e7182916-4c14-4fdd-923d-1f5d0c1d118a",
   "metadata": {
    "id": "95d1cde5-016f-462d-9fe3-2adc49c7a393"
   },
   "source": [
    "`-` 올바른 코드"
   ]
  },
  {
   "cell_type": "code",
   "execution_count": 80,
   "id": "d0cecedd-c1f5-4296-8beb-12021d1e2501",
   "metadata": {
    "id": "e0f7fa65-9dfa-4649-84d4-a02c2a3d7cd1",
    "tags": []
   },
   "outputs": [],
   "source": [
    "class Student:\n",
    "    def __init__(self, age=20.0, semester=0):\n",
    "        self.age = age\n",
    "        self.semester = semester\n",
    "        print(\"입학을 축하합니다. 당신의 나이는 {}이고 현재 학기는 {}학기 입니다.\".format(self.age,self.semester))\n",
    "    def __add__(self,registration_status):\n",
    "        if registration_status=='휴학':\n",
    "            self.age = self.age+0.5\n",
    "        elif registration_status=='등록':\n",
    "            self.age = self.age+0.5\n",
    "            self.semester = self.semester+1\n",
    "        return self\n",
    "    def _repr_html_(self):\n",
    "        html_str = \"\"\"\n",
    "        나이: {} <br/>\n",
    "        학기: {} <br/>\n",
    "        \"\"\"\n",
    "        return html_str.format(self.age,self.semester)"
   ]
  },
  {
   "cell_type": "code",
   "execution_count": 81,
   "id": "73ee8ece-e651-4f2a-8672-882b254e1019",
   "metadata": {
    "id": "8c10b901-9272-4a97-8922-e4d6ccf30992",
    "outputId": "35487bb6-74ab-4ed1-90f8-8284d78efc31",
    "tags": []
   },
   "outputs": [
    {
     "name": "stdout",
     "output_type": "stream",
     "text": [
      "입학을 축하합니다. 당신의 나이는 20.0이고 현재 학기는 0학기 입니다.\n"
     ]
    }
   ],
   "source": [
    "boram = Student()"
   ]
  },
  {
   "cell_type": "code",
   "execution_count": 82,
   "id": "da048eed-364f-4619-807a-d7f3250c5014",
   "metadata": {
    "id": "fc7547df-3fe5-4655-9370-967b97adf5fe",
    "outputId": "56e10a94-7997-42ea-d692-29f65d43dcfc",
    "tags": []
   },
   "outputs": [
    {
     "data": {
      "text/html": [
       "\n",
       "        나이: 20.5 <br/>\n",
       "        학기: 1 <br/>\n",
       "        "
      ],
      "text/plain": [
       "<__main__.Student at 0x7f07d22acf70>"
      ]
     },
     "execution_count": 82,
     "metadata": {},
     "output_type": "execute_result"
    }
   ],
   "source": [
    "boram + \"등록\""
   ]
  },
  {
   "cell_type": "markdown",
   "id": "3eb91f1c-8c54-4489-80ad-a187d636ec46",
   "metadata": {
    "id": "b3f1803c-c612-4ca4-88b1-ff1af8b7cf90"
   },
   "source": [
    "## C. Student의 다른구현1"
   ]
  },
  {
   "cell_type": "code",
   "execution_count": 83,
   "id": "3773f0b9-b576-4428-b19e-f80bf2858150",
   "metadata": {
    "id": "a69650a4-5271-4b1c-8213-4781630ce1d8",
    "tags": []
   },
   "outputs": [],
   "source": [
    "class Student(StudentWrong):\n",
    "    def __add__(self,registration_status):\n",
    "        if registration_status=='휴학':\n",
    "            self.age = self.age+0.5\n",
    "        elif registration_status=='등록':\n",
    "            self.age = self.age+0.5\n",
    "            self.semester = self.semester+1\n",
    "        return self"
   ]
  },
  {
   "cell_type": "code",
   "execution_count": 84,
   "id": "4bac08b6-5076-43e3-b095-f9509d121c5d",
   "metadata": {
    "id": "4198b0fa-a094-47b7-ab7a-6ea6bb20d1b9",
    "outputId": "bff9c68c-0860-490a-c861-6770db743f98",
    "tags": []
   },
   "outputs": [
    {
     "name": "stdout",
     "output_type": "stream",
     "text": [
      "입학을 축하합니다. 당신의 나이는 20.0이고 현재 학기는 0학기 입니다.\n"
     ]
    }
   ],
   "source": [
    "boram = Student_Ver2()"
   ]
  },
  {
   "cell_type": "code",
   "execution_count": 85,
   "id": "5097041e-a1ed-44e0-b02d-e56bdb394758",
   "metadata": {
    "id": "148d3241-b9b9-455f-b145-9a9d8d814d50",
    "outputId": "ebecb2c3-31cb-47e9-f324-bb9d41534ccd",
    "tags": []
   },
   "outputs": [
    {
     "data": {
      "text/html": [
       "\n",
       "        나이: 22.0 <br/>\n",
       "        학기: 2 <br/>\n",
       "        "
      ],
      "text/plain": [
       "<__main__.Student_Ver2 at 0x7f08156df6d0>"
      ]
     },
     "execution_count": 85,
     "metadata": {},
     "output_type": "execute_result"
    }
   ],
   "source": [
    "boram + '등록'+ '휴학' + '등록' + '휴학'"
   ]
  },
  {
   "cell_type": "markdown",
   "id": "196e2608-8a57-48ac-877b-042206601fe0",
   "metadata": {
    "id": "02e98fea-7156-4f17-804e-2a56ceed53f3"
   },
   "source": [
    "## D. Student의 다른구현2"
   ]
  },
  {
   "cell_type": "markdown",
   "id": "a97dcc9a-9875-4549-af98-046c02c6878e",
   "metadata": {
    "id": "8bde6c86-8266-4ee5-a27d-e6c46355aea3"
   },
   "source": [
    "- 요거까지는 지금 몰라도 됩니다"
   ]
  },
  {
   "cell_type": "code",
   "execution_count": 88,
   "id": "bbd38e76-c4ea-42be-bddb-811aa9cf86bd",
   "metadata": {
    "id": "e4f14087-bc4b-4a7a-9e35-4d9d7f7fa515",
    "tags": []
   },
   "outputs": [],
   "source": [
    "class Student(StudentWrong):\n",
    "    def __add__(self,registration_status):\n",
    "        super().__add__(registration_status)\n",
    "        return self"
   ]
  },
  {
   "cell_type": "code",
   "execution_count": 89,
   "id": "16a10363-c1c9-460e-bec3-a6e55a85dc96",
   "metadata": {
    "id": "87524983-6ae6-4612-a171-2c5f612e1fa3",
    "outputId": "88a386f5-6d05-4ca8-b69a-6d3668eede4c",
    "tags": []
   },
   "outputs": [
    {
     "name": "stdout",
     "output_type": "stream",
     "text": [
      "입학을 축하합니다. 당신의 나이는 20.0이고 현재 학기는 0학기 입니다.\n"
     ]
    }
   ],
   "source": [
    "boram = Student()"
   ]
  },
  {
   "cell_type": "code",
   "execution_count": 90,
   "id": "401af266-3ff9-4399-b26f-6d57700b20a2",
   "metadata": {
    "id": "6877ae1e-e99b-416a-bcfd-a79c991be4ef",
    "outputId": "456dd2f9-f4b6-4b60-8be4-c8544b452711",
    "tags": []
   },
   "outputs": [
    {
     "data": {
      "text/plain": [
       "나이: 22.0\n",
       "학기: 2"
      ]
     },
     "execution_count": 90,
     "metadata": {},
     "output_type": "execute_result"
    }
   ],
   "source": [
    "boram + '등록' + '휴학' + '등록' + '휴학'"
   ]
  },
  {
   "cell_type": "markdown",
   "id": "acfb1794-9376-4903-b88d-7101b09f1f2c",
   "metadata": {
    "id": "c0831954-ec97-438b-8b4c-cfcbbf0ebd9b"
   },
   "source": [
    "> 파이썬의 비밀6: `a+b`는 사실 `a.__add__(b)`의 축약형이다."
   ]
  },
  {
   "cell_type": "markdown",
   "id": "996bbb7f-4b22-4d39-87d3-5f8582f9101e",
   "metadata": {
    "id": "e26a2144-2130-45a6-9429-1501f7b2bf53"
   },
   "source": [
    "# 5. `__getitem__`"
   ]
  },
  {
   "cell_type": "markdown",
   "id": "80a6be5e-7fe0-4872-901b-10260abb1f43",
   "metadata": {
    "id": "79019f7a-0c8a-4820-a4c0-7dcaa334ba67"
   },
   "source": [
    "## A. 모티브"
   ]
  },
  {
   "cell_type": "code",
   "execution_count": 91,
   "id": "ba8ed8e4-4f32-4da6-a1b2-793797274099",
   "metadata": {
    "id": "a473dd99-6b0c-44b3-9f1c-3fbfbdf3b88e",
    "tags": []
   },
   "outputs": [],
   "source": [
    "a=[11,22,32]"
   ]
  },
  {
   "cell_type": "code",
   "execution_count": 92,
   "id": "81d4b262-637d-4580-b3d7-aaa8af006c70",
   "metadata": {
    "id": "52aa075e-6db4-467c-b945-e1faf61142b0",
    "outputId": "bbcb44f5-ac3c-4e62-cb3c-26bf6748b72f",
    "tags": []
   },
   "outputs": [
    {
     "data": {
      "text/plain": [
       "11"
      ]
     },
     "execution_count": 92,
     "metadata": {},
     "output_type": "execute_result"
    }
   ],
   "source": [
    "a[0]"
   ]
  },
  {
   "cell_type": "markdown",
   "id": "1b1b20e8-e872-4518-b452-57b3085e372e",
   "metadata": {
    "id": "3d95285a-ef32-4a6f-b2b0-271ab4fba8a0"
   },
   "source": [
    "- 이거 좋아보인다?"
   ]
  },
  {
   "cell_type": "code",
   "execution_count": 93,
   "id": "e48da4e7-b594-49dc-a2aa-78964898b853",
   "metadata": {
    "id": "d7c6a6f1-6e5e-4a06-b7f2-780a18d44d4a",
    "outputId": "ca3a5790-3fbd-4cb0-baea-9b90d104446b",
    "tags": []
   },
   "outputs": [
    {
     "data": {
      "text/plain": [
       "11"
      ]
     },
     "execution_count": 93,
     "metadata": {},
     "output_type": "execute_result"
    }
   ],
   "source": [
    "a.__getitem__(0) # a[0]"
   ]
  },
  {
   "cell_type": "markdown",
   "id": "c1aa24f7-aa84-453d-81bc-e5cd9e6ce579",
   "metadata": {
    "id": "61790ae2-0b44-46b9-86c1-53812d002613"
   },
   "source": [
    "- 이런거였어?"
   ]
  },
  {
   "cell_type": "markdown",
   "id": "58938029-8e45-4643-ae3e-ee1aa5f09f2f",
   "metadata": {
    "id": "94598d7d-b716-4113-992f-582b2333b6ef"
   },
   "source": [
    "## B. RPS2: `__getitem__`의 사용"
   ]
  },
  {
   "cell_type": "code",
   "execution_count": 104,
   "id": "34624c5e-54ae-4328-ad6b-a19a1bf4d670",
   "metadata": {
    "id": "0fabe7b7-e631-4ec9-8e9f-1fa98f6cf131",
    "tags": []
   },
   "outputs": [],
   "source": [
    "class RPSBase:\n",
    "    def __init__(self,action_space):\n",
    "        self.action_space = action_space \n",
    "        self.actions = []\n",
    "    def act(self):\n",
    "        self.actions.append(random.choice(self.action_space))\n",
    "        return self.actions[-1]\n",
    "    def __repr__(self):\n",
    "        text = f\"낼 수 있는 패: {self.action_space}\\n기록: {self.actions}\"\n",
    "        return text"
   ]
  },
  {
   "cell_type": "code",
   "execution_count": 109,
   "id": "e5b75257-5a5d-4537-85b5-3bd4d7374079",
   "metadata": {
    "id": "06091157-6e97-48a5-8104-49499eddfa4c",
    "tags": []
   },
   "outputs": [],
   "source": [
    "a = RPSBase(['가위','바위','보'])"
   ]
  },
  {
   "cell_type": "code",
   "execution_count": 110,
   "id": "381dc3e0-b6ed-4653-88a3-1e2fb9e6f98e",
   "metadata": {
    "id": "894e9809-6935-4ec3-b5d6-ef772eb92a6a",
    "tags": []
   },
   "outputs": [
    {
     "data": {
      "text/plain": [
       "'바위'"
      ]
     },
     "execution_count": 110,
     "metadata": {},
     "output_type": "execute_result"
    }
   ],
   "source": [
    "a.act()\n",
    "a.act()"
   ]
  },
  {
   "cell_type": "code",
   "execution_count": 111,
   "id": "c48f401a-5290-4f4e-b85c-bef3545c788d",
   "metadata": {
    "id": "d625afab-6a16-4676-bd89-c6ed49fe1cfe",
    "outputId": "fd71ccba-1dd4-41f1-913c-4f3343d1f3a0",
    "tags": []
   },
   "outputs": [
    {
     "data": {
      "text/plain": [
       "['가위', '바위']"
      ]
     },
     "execution_count": 111,
     "metadata": {},
     "output_type": "execute_result"
    }
   ],
   "source": [
    "a.actions"
   ]
  },
  {
   "cell_type": "code",
   "execution_count": 112,
   "id": "267f65f5-087e-4aef-bc14-49ff13bc9267",
   "metadata": {
    "id": "bf7dc13b-13ab-46d0-af7e-c2149b70ab0b",
    "outputId": "1edb090c-e4db-40c5-8272-9600dedff28c",
    "tags": []
   },
   "outputs": [
    {
     "ename": "TypeError",
     "evalue": "'RPSBase' object is not subscriptable",
     "output_type": "error",
     "traceback": [
      "\u001b[0;31m---------------------------------------------------------------------------\u001b[0m",
      "\u001b[0;31mTypeError\u001b[0m                                 Traceback (most recent call last)",
      "Cell \u001b[0;32mIn[112], line 1\u001b[0m\n\u001b[0;32m----> 1\u001b[0m \u001b[43ma\u001b[49m\u001b[43m[\u001b[49m\u001b[38;5;241;43m0\u001b[39;49m\u001b[43m]\u001b[49m, a[\u001b[38;5;241m1\u001b[39m]\n",
      "\u001b[0;31mTypeError\u001b[0m: 'RPSBase' object is not subscriptable"
     ]
    }
   ],
   "source": [
    "a[0], a[1]"
   ]
  },
  {
   "cell_type": "markdown",
   "id": "40c204dc-0ad8-4f06-b433-e397a1f14685",
   "metadata": {
    "id": "b01b4083-d385-44c1-bbb8-8f95b0e2f799"
   },
   "source": [
    "- 결과가 '가위', '바위'로 나오면 좋겠다.. 물론 지금은 불가능해"
   ]
  },
  {
   "cell_type": "code",
   "execution_count": 114,
   "id": "2968f886-5231-4d75-a3d0-ca83960c8f1c",
   "metadata": {
    "id": "8f1ecdb1-9ba2-4c84-a299-0f15aaf633b7",
    "tags": []
   },
   "outputs": [],
   "source": [
    "class RPS2(RPSBase):\n",
    "    def __getitem__(self,item):\n",
    "        return self.actions[item]"
   ]
  },
  {
   "cell_type": "code",
   "execution_count": 115,
   "id": "94c0608b-308b-4cfb-b313-cab064b3cb71",
   "metadata": {
    "id": "85c3e27a-4a50-49ab-9276-04e2f74961f4",
    "tags": []
   },
   "outputs": [],
   "source": [
    "a = RPS2(['가위','바위','보'])"
   ]
  },
  {
   "cell_type": "code",
   "execution_count": 116,
   "id": "b0b0be1d-35f4-4423-b912-c0b56088fdc4",
   "metadata": {
    "id": "3745326f-28bf-4b94-b5c1-c5075486bd3d",
    "tags": []
   },
   "outputs": [
    {
     "data": {
      "text/plain": [
       "'가위'"
      ]
     },
     "execution_count": 116,
     "metadata": {},
     "output_type": "execute_result"
    }
   ],
   "source": [
    "a.act()\n",
    "a.act()\n",
    "a.act()"
   ]
  },
  {
   "cell_type": "code",
   "execution_count": 117,
   "id": "7d70a5eb-5a25-4478-bc36-7a819bc5d8a4",
   "metadata": {
    "id": "283b54b0-b33f-405f-853b-5a381ca822b5",
    "outputId": "67ee5527-632e-4f85-9ca6-06882b074ea5",
    "tags": []
   },
   "outputs": [
    {
     "data": {
      "text/plain": [
       "낼 수 있는 패: ['가위', '바위', '보']\n",
       "기록: ['보', '보', '가위']"
      ]
     },
     "execution_count": 117,
     "metadata": {},
     "output_type": "execute_result"
    }
   ],
   "source": [
    "a"
   ]
  },
  {
   "cell_type": "code",
   "execution_count": 118,
   "id": "0976df8c-c84e-43b5-a1d4-b52a1bd7d66f",
   "metadata": {
    "id": "2e2ed367-3093-429f-a28c-4dcd7034fa64",
    "outputId": "e312ace1-4146-4a6c-e437-add71edb0db1",
    "tags": []
   },
   "outputs": [
    {
     "data": {
      "text/plain": [
       "'보'"
      ]
     },
     "execution_count": 118,
     "metadata": {},
     "output_type": "execute_result"
    }
   ],
   "source": [
    "a[0]"
   ]
  },
  {
   "cell_type": "code",
   "execution_count": 120,
   "id": "5a797bd0-5595-433b-8b04-f215a91f4ddb",
   "metadata": {
    "id": "1f66078b-59a1-4118-8f98-de35e2acdadf",
    "outputId": "1d4ee1b7-5617-4eda-ed25-c081a527b65f",
    "tags": []
   },
   "outputs": [
    {
     "data": {
      "text/plain": [
       "['보', '보']"
      ]
     },
     "execution_count": 120,
     "metadata": {},
     "output_type": "execute_result"
    }
   ],
   "source": [
    "a[:2] # 이것도 열림!"
   ]
  },
  {
   "cell_type": "markdown",
   "id": "3a806c5a-7532-4731-abb2-1d5cd1347f29",
   "metadata": {
    "id": "091fcdae-3ae7-4940-8d6d-05c047696e39"
   },
   "source": [
    "> 파이썬의 비밀7: `a[0]`는 `a.__getitem__(0)`의 축약형이다."
   ]
  },
  {
   "cell_type": "markdown",
   "id": "0aca8639-cbc9-42f7-8a89-45b62b2fdc5b",
   "metadata": {
    "id": "a19e9867-e172-4707-8584-01a470b5a68c"
   },
   "source": [
    "# 6. `__setitem__`"
   ]
  },
  {
   "cell_type": "markdown",
   "id": "fe80ba82-1fd8-444f-b761-a8fb442a0923",
   "metadata": {
    "id": "99d47534-6b75-4ccc-871f-c0cd80f7b6f4"
   },
   "source": [
    "## A. 모티브"
   ]
  },
  {
   "cell_type": "code",
   "execution_count": 125,
   "id": "65860160-223e-423a-83bc-79c1d1d9064e",
   "metadata": {
    "id": "3f5a5a59-9aaa-41e5-84c7-d28de583fed1",
    "outputId": "b2b5c11d-efcf-426a-ab94-b2db79f7b09d",
    "tags": []
   },
   "outputs": [
    {
     "data": {
      "text/plain": [
       "낼 수 있는 패: ['가위', '바위']\n",
       "기록: []"
      ]
     },
     "execution_count": 125,
     "metadata": {},
     "output_type": "execute_result"
    }
   ],
   "source": [
    "a = RPS2(['가위','바위'])\n",
    "a"
   ]
  },
  {
   "cell_type": "code",
   "execution_count": 126,
   "id": "e6177f97-914d-48ab-933a-deeba06aeec4",
   "metadata": {
    "id": "1c42ea45-110c-4743-a977-36a25189e177",
    "outputId": "c06a3681-90a0-4c1d-9184-274d00d489e5",
    "tags": []
   },
   "outputs": [
    {
     "data": {
      "text/plain": [
       "낼 수 있는 패: ['가위', '바위']\n",
       "기록: ['가위', '바위']"
      ]
     },
     "execution_count": 126,
     "metadata": {},
     "output_type": "execute_result"
    }
   ],
   "source": [
    "a.act()\n",
    "a.act()\n",
    "a"
   ]
  },
  {
   "cell_type": "code",
   "execution_count": 127,
   "id": "b332884d-c1bd-4675-b7ff-d1d0e1fad99e",
   "metadata": {
    "id": "3ec880c0-9f6c-4b1c-9ee6-599149bd869a",
    "outputId": "b8b6b0ba-2dbe-4303-d2fe-5df3e19a42bd",
    "tags": []
   },
   "outputs": [
    {
     "data": {
      "text/plain": [
       "'가위'"
      ]
     },
     "execution_count": 127,
     "metadata": {},
     "output_type": "execute_result"
    }
   ],
   "source": [
    "a[0]"
   ]
  },
  {
   "cell_type": "code",
   "execution_count": 129,
   "id": "b5bf1829-a30c-4ab5-9c38-708df5ca68ab",
   "metadata": {
    "id": "99b23a3e-5173-4d95-9168-4677af53d05d",
    "outputId": "4a17ebf8-29d0-455b-8794-54521d0f65d1",
    "tags": []
   },
   "outputs": [
    {
     "ename": "TypeError",
     "evalue": "'RPS2' object does not support item assignment",
     "output_type": "error",
     "traceback": [
      "\u001b[0;31m---------------------------------------------------------------------------\u001b[0m",
      "\u001b[0;31mTypeError\u001b[0m                                 Traceback (most recent call last)",
      "Cell \u001b[0;32mIn[129], line 1\u001b[0m\n\u001b[0;32m----> 1\u001b[0m \u001b[43ma\u001b[49m\u001b[43m[\u001b[49m\u001b[38;5;241;43m0\u001b[39;49m\u001b[43m]\u001b[49m \u001b[38;5;241m=\u001b[39m \u001b[38;5;124m'\u001b[39m\u001b[38;5;124m보\u001b[39m\u001b[38;5;124m'\u001b[39m\n",
      "\u001b[0;31mTypeError\u001b[0m: 'RPS2' object does not support item assignment"
     ]
    }
   ],
   "source": [
    "a[0] = '보'"
   ]
  },
  {
   "cell_type": "markdown",
   "id": "fd83018a-367f-4a3e-a766-bad9df50105e",
   "metadata": {
    "id": "795645fd-fe32-47e6-9662-23ef0dfb1330"
   },
   "source": [
    "- 여기서 이 문법이 가능하면 결과 조작임. \n",
    "- 하지만 경우에 따라서는 이런 문법이 필요하기도 하다."
   ]
  },
  {
   "cell_type": "markdown",
   "id": "8d7b3300-da9c-45f1-b19a-63f10cb6fa85",
   "metadata": {
    "id": "ba75018d-c2b6-4afc-b0d1-e1327183603a"
   },
   "source": [
    "## B. RPS3: `__setitem__` 사용"
   ]
  },
  {
   "cell_type": "markdown",
   "id": "6e35a1f5-9fc8-49ee-be31-131f57fa0560",
   "metadata": {
    "id": "1b92221e-72b8-42c5-b88a-ef3b092e1b6d"
   },
   "source": [
    "`-` 관찰"
   ]
  },
  {
   "cell_type": "code",
   "execution_count": 207,
   "id": "58274fd9-0069-4f74-854c-d2dfe58fc769",
   "metadata": {
    "id": "647f7361-3725-404c-9380-fe460401212e",
    "tags": []
   },
   "outputs": [],
   "source": [
    "lst = [1,2,3]"
   ]
  },
  {
   "cell_type": "code",
   "execution_count": 208,
   "id": "239f9c22-7f33-47ea-a536-2ba315be0237",
   "metadata": {
    "id": "186a0757-cd33-4f4a-8df4-b87935ebf1e2",
    "tags": []
   },
   "outputs": [],
   "source": [
    "lst.__setitem__(0,11)"
   ]
  },
  {
   "cell_type": "code",
   "execution_count": 209,
   "id": "9b2d6975-5b13-49e1-b78a-ce6bfff45483",
   "metadata": {
    "id": "50bde749-e45e-47b6-bc3b-e719428bec73",
    "outputId": "87aca1a8-b570-439e-cdb8-60b0ede8b646",
    "tags": []
   },
   "outputs": [
    {
     "data": {
      "text/plain": [
       "[11, 2, 3]"
      ]
     },
     "execution_count": 209,
     "metadata": {},
     "output_type": "execute_result"
    }
   ],
   "source": [
    "lst"
   ]
  },
  {
   "cell_type": "markdown",
   "id": "21f3914c-b945-4c05-bb5b-1766e8db2f18",
   "metadata": {
    "id": "4f9d28f4-aed3-4623-a30a-343b242c2189"
   },
   "source": [
    "`-` RPS예제"
   ]
  },
  {
   "cell_type": "code",
   "execution_count": 218,
   "id": "9ae27ee7-b408-498d-b1df-b0d198f7d3e5",
   "metadata": {
    "id": "2939163b-a32e-452d-8603-af40e247a795",
    "tags": []
   },
   "outputs": [],
   "source": [
    "class RPS3(RPS2):\n",
    "    def __setitem__(self,index,val):\n",
    "        self.actions[index] = val"
   ]
  },
  {
   "cell_type": "code",
   "execution_count": 219,
   "id": "1507b172-c6e5-47aa-aa81-2cca3635c9a2",
   "metadata": {
    "id": "3d194d9b-1039-473c-93a6-24e3e7f82c18",
    "tags": []
   },
   "outputs": [],
   "source": [
    "a=RPS3(['가위','바위','보'])"
   ]
  },
  {
   "cell_type": "code",
   "execution_count": 220,
   "id": "7d1aba6d-a036-4818-9098-b0bed2f1240a",
   "metadata": {
    "id": "04faea21-7c98-4231-b929-1ce890ae766c",
    "tags": []
   },
   "outputs": [
    {
     "data": {
      "text/plain": [
       "'보'"
      ]
     },
     "execution_count": 220,
     "metadata": {},
     "output_type": "execute_result"
    }
   ],
   "source": [
    "a.act()"
   ]
  },
  {
   "cell_type": "code",
   "execution_count": 221,
   "id": "3d6f1ec0-b919-452d-9b2b-067ebde5aa67",
   "metadata": {
    "id": "37301247-2cae-4421-ad89-23ba7ecadb4e",
    "outputId": "ac09ca6b-949c-4f20-b0ce-6a5c286d41a9",
    "tags": []
   },
   "outputs": [
    {
     "data": {
      "text/plain": [
       "낼 수 있는 패: ['가위', '바위', '보']\n",
       "기록: ['보']"
      ]
     },
     "execution_count": 221,
     "metadata": {},
     "output_type": "execute_result"
    }
   ],
   "source": [
    "a"
   ]
  },
  {
   "cell_type": "code",
   "execution_count": 222,
   "id": "e1863e15-fb11-46af-a049-49d45c12f199",
   "metadata": {
    "id": "3074d699-ea92-4895-8542-69fffcb4e3af",
    "tags": []
   },
   "outputs": [],
   "source": [
    "a[0] = '가위'"
   ]
  },
  {
   "cell_type": "code",
   "execution_count": 223,
   "id": "717d0794-8b5f-40dc-832c-f2e0cd20c982",
   "metadata": {
    "id": "0ae5a3b1-83f0-48b2-a8d9-8ecb079e4ccb",
    "outputId": "9cd5eeb5-3859-4c8a-8b24-b7ee28002020",
    "tags": []
   },
   "outputs": [
    {
     "data": {
      "text/plain": [
       "낼 수 있는 패: ['가위', '바위', '보']\n",
       "기록: ['가위']"
      ]
     },
     "execution_count": 223,
     "metadata": {},
     "output_type": "execute_result"
    }
   ],
   "source": [
    "a"
   ]
  },
  {
   "cell_type": "markdown",
   "id": "815d09fd-9ed0-490a-89c7-57b24e8a3447",
   "metadata": {
    "id": "b0ba537d-fe10-489a-906c-7c84a1fbda1a"
   },
   "source": [
    "> 파이썬의 비밀8: `a[0]=11`는 `a.__setitem__(0,11)`의 축약형이다."
   ]
  },
  {
   "cell_type": "markdown",
   "id": "f30b3457-4508-4b1f-918a-0aab40a8c216",
   "metadata": {
    "id": "6f13895c-3ce2-4b11-b89b-c6eaadce9916"
   },
   "source": [
    "# 7. `__len__`"
   ]
  },
  {
   "cell_type": "markdown",
   "id": "24250cd2-3604-43fa-91c9-f75b207da763",
   "metadata": {
    "id": "4fae7ba6-cd9d-4bc1-b191-9413fdfb6047"
   },
   "source": [
    "## A. 모티브"
   ]
  },
  {
   "cell_type": "code",
   "execution_count": 224,
   "id": "d96f6cce-03d0-46a2-a561-0a943dd2de75",
   "metadata": {
    "id": "760c4fed-f77c-4698-ac63-c40a1603acd6",
    "outputId": "cd4100df-4cd1-4392-bcf7-f1cde261bb8e",
    "tags": []
   },
   "outputs": [
    {
     "data": {
      "text/plain": [
       "낼 수 있는 패: ['가위', '바위', '보']\n",
       "기록: []"
      ]
     },
     "execution_count": 224,
     "metadata": {},
     "output_type": "execute_result"
    }
   ],
   "source": [
    "a= RPS3(['가위','바위','보'])\n",
    "a"
   ]
  },
  {
   "cell_type": "code",
   "execution_count": 225,
   "id": "ede3eb61-4029-42b5-b282-c7f48e263eb6",
   "metadata": {
    "id": "258174c9-eea8-497d-98e2-c991ca4a92fe",
    "tags": []
   },
   "outputs": [
    {
     "data": {
      "text/plain": [
       "'바위'"
      ]
     },
     "execution_count": 225,
     "metadata": {},
     "output_type": "execute_result"
    }
   ],
   "source": [
    "a.act()\n",
    "a.act()\n",
    "a.act()"
   ]
  },
  {
   "cell_type": "code",
   "execution_count": 226,
   "id": "9b43c1b4-9971-488d-9869-bc37951ffb2e",
   "metadata": {
    "id": "2a12cf8d-604a-48d4-9496-7fcf991d2884",
    "outputId": "30084e9c-f8e5-456e-f23d-46e4fb859175",
    "tags": []
   },
   "outputs": [
    {
     "data": {
      "text/plain": [
       "낼 수 있는 패: ['가위', '바위', '보']\n",
       "기록: ['가위', '바위', '바위']"
      ]
     },
     "execution_count": 226,
     "metadata": {},
     "output_type": "execute_result"
    }
   ],
   "source": [
    "a"
   ]
  },
  {
   "cell_type": "code",
   "execution_count": 227,
   "id": "b7acb72a-ded8-43b7-9724-98579c8af2ce",
   "metadata": {
    "id": "5b9d94b3-29d3-417c-9c7d-9486b0241d5b",
    "outputId": "a46aede8-c7ee-4c95-c41b-f8147c05d864",
    "tags": []
   },
   "outputs": [
    {
     "data": {
      "text/plain": [
       "('가위', '바위', '바위')"
      ]
     },
     "execution_count": 227,
     "metadata": {},
     "output_type": "execute_result"
    }
   ],
   "source": [
    "a[0],a[1],a[2]"
   ]
  },
  {
   "cell_type": "code",
   "execution_count": 228,
   "id": "63772ef0-c14c-4589-a4e5-7ddad57e0036",
   "metadata": {
    "id": "1f13560e-95b4-4125-bc93-cbc75350ad85",
    "outputId": "ff158f10-c7a1-40cb-98be-31f397e291a3",
    "tags": []
   },
   "outputs": [
    {
     "ename": "TypeError",
     "evalue": "object of type 'RPS3' has no len()",
     "output_type": "error",
     "traceback": [
      "\u001b[0;31m---------------------------------------------------------------------------\u001b[0m",
      "\u001b[0;31mTypeError\u001b[0m                                 Traceback (most recent call last)",
      "Cell \u001b[0;32mIn[228], line 1\u001b[0m\n\u001b[0;32m----> 1\u001b[0m \u001b[38;5;28;43mlen\u001b[39;49m\u001b[43m(\u001b[49m\u001b[43ma\u001b[49m\u001b[43m)\u001b[49m\n",
      "\u001b[0;31mTypeError\u001b[0m: object of type 'RPS3' has no len()"
     ]
    }
   ],
   "source": [
    "len(a)"
   ]
  },
  {
   "cell_type": "markdown",
   "id": "f0d34467-0d0b-46ef-aa63-4c1b2ba22159",
   "metadata": {
    "id": "9bbdde39-5729-4365-804d-c96d62296565"
   },
   "source": [
    "## B. RPS4: `__len__` 의 사용"
   ]
  },
  {
   "cell_type": "code",
   "execution_count": 440,
   "id": "2dc8c832-27ea-4620-aeca-bb06faa74f2f",
   "metadata": {
    "id": "a709deca-70ea-48fa-8255-25bc881d400e",
    "tags": []
   },
   "outputs": [],
   "source": [
    "class RPS4(RPS3):\n",
    "    def __len__(self):\n",
    "        return len(self.actions)"
   ]
  },
  {
   "cell_type": "code",
   "execution_count": 441,
   "id": "6baf501d-ac3e-4edb-913b-fb7863359f9e",
   "metadata": {
    "id": "02aa010f-3504-4b8d-9629-552eb4e05a88",
    "outputId": "da8187d7-bbaa-4a03-b3fc-da571ea3aae0",
    "tags": []
   },
   "outputs": [
    {
     "data": {
      "text/plain": [
       "낼 수 있는 패: ['가위', '바위', '보']\n",
       "기록: []"
      ]
     },
     "execution_count": 441,
     "metadata": {},
     "output_type": "execute_result"
    }
   ],
   "source": [
    "a = RPS4(['가위','바위','보'])\n",
    "a"
   ]
  },
  {
   "cell_type": "code",
   "execution_count": 442,
   "id": "02fb5a37-71e2-49c7-8a4c-33b257206f14",
   "metadata": {
    "id": "d982c836-7cd6-4e58-b880-f1d6feb87ca8",
    "tags": []
   },
   "outputs": [
    {
     "data": {
      "text/plain": [
       "'가위'"
      ]
     },
     "execution_count": 442,
     "metadata": {},
     "output_type": "execute_result"
    }
   ],
   "source": [
    "a.act()\n",
    "a.act()\n",
    "a.act()\n",
    "a.act()"
   ]
  },
  {
   "cell_type": "code",
   "execution_count": 443,
   "id": "8dac7718-bbf1-4c13-9215-9998bcab3297",
   "metadata": {
    "id": "a4c93125-c5ae-4374-b456-8d79aacd9e91",
    "outputId": "41ec084b-3760-4914-ede0-2274012e0337",
    "tags": []
   },
   "outputs": [
    {
     "data": {
      "text/plain": [
       "낼 수 있는 패: ['가위', '바위', '보']\n",
       "기록: ['보', '가위', '바위', '가위']"
      ]
     },
     "execution_count": 443,
     "metadata": {},
     "output_type": "execute_result"
    }
   ],
   "source": [
    "a"
   ]
  },
  {
   "cell_type": "code",
   "execution_count": 444,
   "id": "5f421ae6-4645-4a7e-b0a9-edf6c833a479",
   "metadata": {
    "id": "2786e0dc-b382-4314-acb8-f1cd0c399153",
    "outputId": "f454e9a8-2f63-4739-a094-b65892c2d9c6",
    "tags": []
   },
   "outputs": [
    {
     "data": {
      "text/plain": [
       "4"
      ]
     },
     "execution_count": 444,
     "metadata": {},
     "output_type": "execute_result"
    }
   ],
   "source": [
    "a.__len__() # len(a.actions)"
   ]
  },
  {
   "cell_type": "code",
   "execution_count": 445,
   "id": "6e134d72-f71f-431b-afa1-65b6a35b10ef",
   "metadata": {
    "id": "6a94b93c-e04c-4442-94f8-405e3d6c129b",
    "outputId": "931361d2-a703-4c13-bb8c-0df34b2d0bfe",
    "tags": []
   },
   "outputs": [
    {
     "data": {
      "text/plain": [
       "4"
      ]
     },
     "execution_count": 445,
     "metadata": {},
     "output_type": "execute_result"
    }
   ],
   "source": [
    "len(a) # a.__len__()"
   ]
  },
  {
   "cell_type": "markdown",
   "id": "b5a8e8bb-aa01-493f-9d5c-095fc51d97c4",
   "metadata": {
    "id": "8446a2fd-d5da-428f-86ca-945e43334db4"
   },
   "source": [
    "> 파이썬의 비밀9: `a.__len__()`는 `len(a)`의 축약형이다."
   ]
  },
  {
   "cell_type": "code",
   "execution_count": 455,
   "id": "a49b21d1-a793-4cce-ba12-8d2659fde8c9",
   "metadata": {
    "tags": []
   },
   "outputs": [
    {
     "data": {
      "text/plain": [
       "낼 수 있는 패: ['가위', '바위', '보']\n",
       "기록: ['보', '가위', '바위', '가위']"
      ]
     },
     "execution_count": 455,
     "metadata": {},
     "output_type": "execute_result"
    }
   ],
   "source": [
    "a"
   ]
  },
  {
   "cell_type": "markdown",
   "id": "62c7ea32-cb47-43d8-a496-0b1125abe1e1",
   "metadata": {
    "id": "69bc6579-490f-4602-9ff8-ea7a26208a18"
   },
   "source": [
    "# 8. `__eq__`"
   ]
  },
  {
   "cell_type": "markdown",
   "id": "53a92830-bb83-4484-83f6-3f3f036e3dc4",
   "metadata": {
    "id": "ff18083f-5fe5-4c76-a500-0d8c7fe0d382"
   },
   "source": [
    "## A. 모티브"
   ]
  },
  {
   "cell_type": "code",
   "execution_count": 334,
   "id": "a3b89c4c-5ac7-44ac-b325-88eef3b52635",
   "metadata": {
    "id": "519963db-147b-4e04-abbe-13b773bfc512",
    "tags": []
   },
   "outputs": [],
   "source": [
    "a = RPS4(['가위','바위','보'])\n",
    "b = RPS4(['가위','바위','보'])"
   ]
  },
  {
   "cell_type": "code",
   "execution_count": 335,
   "id": "a1d64174-fd89-4372-8e84-4380e18688a0",
   "metadata": {
    "id": "b45dc600-002d-4d98-8d2f-21170e6f71b2",
    "tags": []
   },
   "outputs": [
    {
     "data": {
      "text/plain": [
       "'보'"
      ]
     },
     "execution_count": 335,
     "metadata": {},
     "output_type": "execute_result"
    }
   ],
   "source": [
    "a.act()\n",
    "b.act()"
   ]
  },
  {
   "cell_type": "code",
   "execution_count": 336,
   "id": "832721fa-05cb-4d70-b23a-ac5f61557e66",
   "metadata": {
    "id": "26157840-5134-478b-abe1-c2ee3e00ff2a",
    "outputId": "6e911576-da01-431d-a16d-2d64bf4736c5",
    "tags": []
   },
   "outputs": [
    {
     "data": {
      "text/plain": [
       "(낼 수 있는 패: ['가위', '바위', '보']\n",
       " 기록: ['바위'],\n",
       " 낼 수 있는 패: ['가위', '바위', '보']\n",
       " 기록: ['보'])"
      ]
     },
     "execution_count": 336,
     "metadata": {},
     "output_type": "execute_result"
    }
   ],
   "source": [
    "a,b"
   ]
  },
  {
   "cell_type": "code",
   "execution_count": 337,
   "id": "a1f80d2a-f04a-4f29-beab-ffaa061af2a0",
   "metadata": {
    "tags": []
   },
   "outputs": [],
   "source": [
    "a[0] = \"가위\" # 결과조작"
   ]
  },
  {
   "cell_type": "code",
   "execution_count": 338,
   "id": "cca07429-fd69-4587-b0dd-2df8875ece5b",
   "metadata": {
    "tags": []
   },
   "outputs": [],
   "source": [
    "b[0] = \"가위\" # 결과조작"
   ]
  },
  {
   "cell_type": "code",
   "execution_count": 339,
   "id": "77c62836-01fe-4a4e-98c2-0bee3eba43f4",
   "metadata": {
    "tags": []
   },
   "outputs": [
    {
     "data": {
      "text/plain": [
       "(낼 수 있는 패: ['가위', '바위', '보']\n",
       " 기록: ['가위'],\n",
       " 낼 수 있는 패: ['가위', '바위', '보']\n",
       " 기록: ['가위'])"
      ]
     },
     "execution_count": 339,
     "metadata": {},
     "output_type": "execute_result"
    }
   ],
   "source": [
    "a,b"
   ]
  },
  {
   "cell_type": "code",
   "execution_count": 340,
   "id": "ec4d8d08-9f84-4b4a-ae42-1d3ab2125aff",
   "metadata": {
    "id": "db9d8b11-15bd-4a21-b5c9-45cf0b9d888a",
    "outputId": "5f956b15-e5a1-48a2-8e84-5852c47a5642",
    "tags": []
   },
   "outputs": [
    {
     "data": {
      "text/plain": [
       "False"
      ]
     },
     "execution_count": 340,
     "metadata": {},
     "output_type": "execute_result"
    }
   ],
   "source": [
    "a == b"
   ]
  },
  {
   "cell_type": "markdown",
   "id": "ed3c129f-cf56-448b-bd6d-d93970a7b50d",
   "metadata": {
    "id": "e3752700-5585-4da9-aa6b-67f7ab629b6d"
   },
   "source": [
    "- `가위 == 가위` 이면 True가 나오면 좋겠구만.."
   ]
  },
  {
   "cell_type": "code",
   "execution_count": 341,
   "id": "095b4c76-2fad-47ac-94cb-20029ad249df",
   "metadata": {
    "id": "8936bbe9-a77b-4050-8f04-5d4956ce4fdf",
    "outputId": "4f42d8ee-45bd-47f9-d414-2c588ed98bc4",
    "tags": []
   },
   "outputs": [
    {
     "data": {
      "text/plain": [
       "True"
      ]
     },
     "execution_count": 341,
     "metadata": {},
     "output_type": "execute_result"
    }
   ],
   "source": [
    "a[-1] == b[-1]"
   ]
  },
  {
   "cell_type": "markdown",
   "id": "e0804fd7-758d-4f1d-adec-0315586e20c6",
   "metadata": {
    "id": "88aa73f1-17ab-433f-aa78-7625af541363"
   },
   "source": [
    "- 이렇게 하면 되긴하지.."
   ]
  },
  {
   "cell_type": "markdown",
   "id": "b8f4d237-4768-4a85-8f67-b9f836b0a0d9",
   "metadata": {
    "id": "e9bef382-b33b-44d6-971b-b859e49e2460"
   },
   "source": [
    "## B. RPS5: `__eq__` 의 사용"
   ]
  },
  {
   "cell_type": "markdown",
   "id": "5960830a-0e57-46ba-835e-9187ff07fc0d",
   "metadata": {
    "id": "76d086d5-0c5f-4511-a1de-d5d119ac8453"
   },
   "source": [
    "`-` 관찰"
   ]
  },
  {
   "cell_type": "raw",
   "id": "3a675522-4eb1-4355-bc7c-41cbf8212397",
   "metadata": {
    "id": "f6286cd9-b400-4b46-9b4e-4488c0f6eae6",
    "tags": []
   },
   "source": [
    "a = 1"
   ]
  },
  {
   "cell_type": "code",
   "execution_count": 343,
   "id": "adfc1f14-4cff-484c-8d41-ed48bcc6ad6a",
   "metadata": {
    "id": "1d546444-867b-42c5-914f-672009ad10ea",
    "outputId": "4d753fee-b3bf-43b3-c5f3-3eeead3b2996",
    "tags": []
   },
   "outputs": [
    {
     "data": {
      "text/plain": [
       "True"
      ]
     },
     "execution_count": 343,
     "metadata": {},
     "output_type": "execute_result"
    }
   ],
   "source": [
    "a.__eq__(1) # a == 1"
   ]
  },
  {
   "cell_type": "code",
   "execution_count": 344,
   "id": "cb5c9a69-9017-42cc-bac6-03a63ae95eae",
   "metadata": {
    "id": "8f6c5a90-5a41-4ea1-9479-ee654188111f",
    "outputId": "00d272ec-ab77-4af3-e84d-da36f9c56407",
    "tags": []
   },
   "outputs": [
    {
     "data": {
      "text/plain": [
       "False"
      ]
     },
     "execution_count": 344,
     "metadata": {},
     "output_type": "execute_result"
    }
   ],
   "source": [
    "a.__eq__(2) # a == 2"
   ]
  },
  {
   "cell_type": "markdown",
   "id": "f85e7672-10e9-4ca0-a0ca-57575dff76e3",
   "metadata": {
    "id": "b0ee2bbc-e9ab-4e35-aeb5-d5503e60a021"
   },
   "source": [
    "`-` 구현"
   ]
  },
  {
   "cell_type": "code",
   "execution_count": 345,
   "id": "28db0336-2ada-4100-a709-1252740135cb",
   "metadata": {
    "id": "80d56f09-62ab-4233-a282-a38aa28f2f95",
    "tags": []
   },
   "outputs": [],
   "source": [
    "class RPS5(RPS4):\n",
    "    def __eq__(self,other):\n",
    "        return self[-1] == other[-1]"
   ]
  },
  {
   "cell_type": "code",
   "execution_count": 346,
   "id": "5ec510e0-b558-4542-a143-f0636805fca4",
   "metadata": {
    "id": "195daaf3-5425-4ccf-a033-a95d90b84655",
    "tags": []
   },
   "outputs": [],
   "source": [
    "a = RPS5(['가위','바위'])\n",
    "b = RPS5(['가위','바위'])"
   ]
  },
  {
   "cell_type": "markdown",
   "id": "99241204-2699-4018-86d9-7244fe5146ed",
   "metadata": {
    "id": "f82ee8e3-2907-4763-b016-20f04bd5904a"
   },
   "source": [
    "`-` 1회 대결"
   ]
  },
  {
   "cell_type": "code",
   "execution_count": 347,
   "id": "788d0d0a-064e-4232-850e-d83479d28dee",
   "metadata": {
    "id": "e20f3c77-bb55-4566-b07f-c910af3ef1c3",
    "tags": []
   },
   "outputs": [
    {
     "data": {
      "text/plain": [
       "'가위'"
      ]
     },
     "execution_count": 347,
     "metadata": {},
     "output_type": "execute_result"
    }
   ],
   "source": [
    "a.act()\n",
    "b.act()"
   ]
  },
  {
   "cell_type": "code",
   "execution_count": 348,
   "id": "b947015c-9b62-4a37-9ba3-c6c221fbf407",
   "metadata": {
    "id": "50a2e28b-4ce1-47cd-b92f-95ef643588d9",
    "outputId": "aa624280-d773-434c-ab84-5657d7f466ca",
    "tags": []
   },
   "outputs": [
    {
     "data": {
      "text/plain": [
       "낼 수 있는 패: ['가위', '바위']\n",
       "기록: ['가위']"
      ]
     },
     "execution_count": 348,
     "metadata": {},
     "output_type": "execute_result"
    }
   ],
   "source": [
    "a"
   ]
  },
  {
   "cell_type": "code",
   "execution_count": 349,
   "id": "89fad7d5-e860-460f-9082-34a826ba3a1f",
   "metadata": {
    "id": "ac755145-3aba-4b4a-89af-8b8feec7bb0b",
    "outputId": "8f123dbc-6203-43cf-e501-d989dd7f8e14",
    "tags": []
   },
   "outputs": [
    {
     "data": {
      "text/plain": [
       "낼 수 있는 패: ['가위', '바위']\n",
       "기록: ['가위']"
      ]
     },
     "execution_count": 349,
     "metadata": {},
     "output_type": "execute_result"
    }
   ],
   "source": [
    "b"
   ]
  },
  {
   "cell_type": "code",
   "execution_count": 350,
   "id": "6b248c59-4c9a-4c56-b3ed-57ace0481a5d",
   "metadata": {
    "id": "1576d8ee-aef8-481f-973a-b3886aad80ac",
    "outputId": "9ff2681f-b984-4c92-8013-2243878ee5b5",
    "tags": []
   },
   "outputs": [
    {
     "data": {
      "text/plain": [
       "True"
      ]
     },
     "execution_count": 350,
     "metadata": {},
     "output_type": "execute_result"
    }
   ],
   "source": [
    "a == b"
   ]
  },
  {
   "cell_type": "markdown",
   "id": "ff90694b-bab9-47ad-bc80-e7222bf4b233",
   "metadata": {
    "id": "7036d271-62f3-4ee8-b4a1-8e0c20a1155c"
   },
   "source": [
    "`-` 2회 대결"
   ]
  },
  {
   "cell_type": "code",
   "execution_count": 351,
   "id": "a39d207a-fca6-465a-a0c7-881c8bc03114",
   "metadata": {
    "id": "3aa53a4e-b751-481a-885c-477f74e68fe7",
    "tags": []
   },
   "outputs": [
    {
     "data": {
      "text/plain": [
       "'가위'"
      ]
     },
     "execution_count": 351,
     "metadata": {},
     "output_type": "execute_result"
    }
   ],
   "source": [
    "a.act()\n",
    "b.act()"
   ]
  },
  {
   "cell_type": "code",
   "execution_count": 352,
   "id": "703f6923-82fd-4a5c-ab18-2a1d41b8526e",
   "metadata": {
    "id": "9557f686-dd49-45cb-b3a2-79066420c4d7",
    "outputId": "ae28f7c3-de30-423d-bec3-ac3e046f43ed",
    "tags": []
   },
   "outputs": [
    {
     "data": {
      "text/plain": [
       "낼 수 있는 패: ['가위', '바위']\n",
       "기록: ['가위', '가위']"
      ]
     },
     "execution_count": 352,
     "metadata": {},
     "output_type": "execute_result"
    }
   ],
   "source": [
    "a"
   ]
  },
  {
   "cell_type": "code",
   "execution_count": 353,
   "id": "97d9af52-88dc-4730-be59-ca78f5e0db59",
   "metadata": {
    "id": "2cb4cb44-89e9-4849-b2ea-1c9a4d596ba1",
    "outputId": "199deb01-a2e5-4de7-a95d-ead8b85c7dde",
    "tags": []
   },
   "outputs": [
    {
     "data": {
      "text/plain": [
       "낼 수 있는 패: ['가위', '바위']\n",
       "기록: ['가위', '가위']"
      ]
     },
     "execution_count": 353,
     "metadata": {},
     "output_type": "execute_result"
    }
   ],
   "source": [
    "b"
   ]
  },
  {
   "cell_type": "code",
   "execution_count": 354,
   "id": "649015fc-8160-45f2-bbd8-0580eccd5e91",
   "metadata": {
    "id": "a4bed330-929b-4c40-a825-bcbf211c6258",
    "outputId": "0b1e307e-2424-4440-f1c2-f5226b17fc75",
    "tags": []
   },
   "outputs": [
    {
     "data": {
      "text/plain": [
       "True"
      ]
     },
     "execution_count": 354,
     "metadata": {},
     "output_type": "execute_result"
    }
   ],
   "source": [
    "a == b"
   ]
  },
  {
   "cell_type": "markdown",
   "id": "1e39fad5-5b87-42a5-8d3d-76c36da7dfd1",
   "metadata": {
    "id": "916d5775-f65e-41b4-9a49-251af942cb80"
   },
   "source": [
    "`-` 3회 대결"
   ]
  },
  {
   "cell_type": "code",
   "execution_count": 355,
   "id": "9eebe093-67b4-40a9-b245-6528e13a46a0",
   "metadata": {
    "id": "310f4458-5b95-48ba-bbd2-81c4d3ba8f55",
    "tags": []
   },
   "outputs": [
    {
     "data": {
      "text/plain": [
       "'가위'"
      ]
     },
     "execution_count": 355,
     "metadata": {},
     "output_type": "execute_result"
    }
   ],
   "source": [
    "a.act()\n",
    "b.act()"
   ]
  },
  {
   "cell_type": "code",
   "execution_count": 356,
   "id": "7eb87095-a8a9-4200-a85d-d3511e7ca079",
   "metadata": {
    "id": "458bdf73-5fcf-4151-9cda-ed42dc38ef72",
    "outputId": "be3ca341-265e-4ae3-ff24-c548b86ff044",
    "tags": []
   },
   "outputs": [
    {
     "data": {
      "text/plain": [
       "낼 수 있는 패: ['가위', '바위']\n",
       "기록: ['가위', '가위', '바위']"
      ]
     },
     "execution_count": 356,
     "metadata": {},
     "output_type": "execute_result"
    }
   ],
   "source": [
    "a"
   ]
  },
  {
   "cell_type": "code",
   "execution_count": 357,
   "id": "0df68a89-2771-4d47-aa80-9c8a6c50caf0",
   "metadata": {
    "id": "de2580f7-e3d5-4126-af52-61fe8a06fc62",
    "outputId": "970b71f7-0204-436b-e687-87c7a896a33e",
    "tags": []
   },
   "outputs": [
    {
     "data": {
      "text/plain": [
       "낼 수 있는 패: ['가위', '바위']\n",
       "기록: ['가위', '가위', '가위']"
      ]
     },
     "execution_count": 357,
     "metadata": {},
     "output_type": "execute_result"
    }
   ],
   "source": [
    "b"
   ]
  },
  {
   "cell_type": "code",
   "execution_count": 358,
   "id": "f874b4e4-5450-42f0-8103-e8a6fd513ebb",
   "metadata": {
    "id": "8330588a-05e9-4cc4-981e-d88b4025f4b2",
    "outputId": "70f16170-cd4e-46c5-d0f3-143389022d4e",
    "tags": []
   },
   "outputs": [
    {
     "data": {
      "text/plain": [
       "False"
      ]
     },
     "execution_count": 358,
     "metadata": {},
     "output_type": "execute_result"
    }
   ],
   "source": [
    "a == b"
   ]
  },
  {
   "cell_type": "markdown",
   "id": "be3d2da3-59d0-45c3-9c52-cb4849007839",
   "metadata": {
    "id": "1c23db0e-9925-47c1-ba7e-0ee9624abd6c"
   },
   "source": [
    "# 9 `__gt__`"
   ]
  },
  {
   "cell_type": "markdown",
   "id": "cc2d3079-e2d2-4660-a1c2-a3de9ac028c7",
   "metadata": {
    "tags": []
   },
   "source": [
    "## A. 모티브 "
   ]
  },
  {
   "cell_type": "code",
   "execution_count": 362,
   "id": "99b7b79b-cddb-4fd5-8413-c0fcc8f7db05",
   "metadata": {
    "id": "195daaf3-5425-4ccf-a033-a95d90b84655",
    "tags": []
   },
   "outputs": [],
   "source": [
    "a = RPS5(['가위','바위'])\n",
    "b = RPS5(['가위','바위'])"
   ]
  },
  {
   "cell_type": "code",
   "execution_count": 363,
   "id": "8d5124a0-76a3-4586-a32b-7f83d67c1573",
   "metadata": {
    "tags": []
   },
   "outputs": [
    {
     "data": {
      "text/plain": [
       "'바위'"
      ]
     },
     "execution_count": 363,
     "metadata": {},
     "output_type": "execute_result"
    }
   ],
   "source": [
    "a.act()\n",
    "b.act()"
   ]
  },
  {
   "cell_type": "code",
   "execution_count": 364,
   "id": "00b1e585-e09e-4fcc-a067-676fe5a9af3b",
   "metadata": {
    "tags": []
   },
   "outputs": [
    {
     "data": {
      "text/plain": [
       "(낼 수 있는 패: ['가위', '바위']\n",
       " 기록: ['가위'],\n",
       " 낼 수 있는 패: ['가위', '바위']\n",
       " 기록: ['바위'])"
      ]
     },
     "execution_count": 364,
     "metadata": {},
     "output_type": "execute_result"
    }
   ],
   "source": [
    "a,b"
   ]
  },
  {
   "cell_type": "code",
   "execution_count": 365,
   "id": "6f3c5933-bdbf-429f-bc55-3d3d3d3df489",
   "metadata": {
    "id": "61787796-cde2-4292-9094-f088be1dec96",
    "outputId": "41f46dfc-923a-4100-c43c-6fd97eea5d20",
    "tags": []
   },
   "outputs": [
    {
     "data": {
      "text/plain": [
       "('가위', '바위')"
      ]
     },
     "execution_count": 365,
     "metadata": {},
     "output_type": "execute_result"
    }
   ],
   "source": [
    "a[-1], b[-1]"
   ]
  },
  {
   "cell_type": "code",
   "execution_count": 366,
   "id": "fe81100e-66be-4629-add4-90939e8557d5",
   "metadata": {
    "id": "eb721e7d-62db-40e6-af0a-8f0882b293ca",
    "outputId": "686c1ecb-664c-4eb3-9a02-030154c6299c",
    "tags": []
   },
   "outputs": [
    {
     "ename": "TypeError",
     "evalue": "'>' not supported between instances of 'RPS5' and 'RPS5'",
     "output_type": "error",
     "traceback": [
      "\u001b[0;31m---------------------------------------------------------------------------\u001b[0m",
      "\u001b[0;31mTypeError\u001b[0m                                 Traceback (most recent call last)",
      "Cell \u001b[0;32mIn[366], line 1\u001b[0m\n\u001b[0;32m----> 1\u001b[0m \u001b[43ma\u001b[49m\u001b[43m \u001b[49m\u001b[38;5;241;43m>\u001b[39;49m\u001b[43m \u001b[49m\u001b[43mb\u001b[49m\n",
      "\u001b[0;31mTypeError\u001b[0m: '>' not supported between instances of 'RPS5' and 'RPS5'"
     ]
    }
   ],
   "source": [
    "a > b"
   ]
  },
  {
   "cell_type": "markdown",
   "id": "1584ea17-927b-4c7b-91db-e92434ecd84a",
   "metadata": {
    "id": "e788eb5d-683f-4113-b3ea-8bf20c09df49",
    "tags": []
   },
   "source": [
    "## B. RPS6: `__gt__` 의 사용"
   ]
  },
  {
   "cell_type": "markdown",
   "id": "9d5a19fe-7880-4543-a70f-9c02f0e6a292",
   "metadata": {
    "id": "3defc07a-8c04-486b-928b-623b330ad145"
   },
   "source": [
    "`-` 관찰"
   ]
  },
  {
   "cell_type": "code",
   "execution_count": 426,
   "id": "330f8160-cdd3-4cd7-98bc-3bf36ee77f73",
   "metadata": {
    "id": "f0597eeb-d4cf-4e11-8144-3389f459da0f",
    "tags": []
   },
   "outputs": [],
   "source": [
    "a = 1"
   ]
  },
  {
   "cell_type": "code",
   "execution_count": 427,
   "id": "eff89eaa-ecd4-45cb-9a59-8f09f5fc57c3",
   "metadata": {
    "id": "7d9385f3-c580-4fa0-ba02-dabcb9b37fcf",
    "outputId": "a0dffd12-c3eb-4895-bdc9-abd1ac8f59d7",
    "tags": []
   },
   "outputs": [
    {
     "data": {
      "text/plain": [
       "False"
      ]
     },
     "execution_count": 427,
     "metadata": {},
     "output_type": "execute_result"
    }
   ],
   "source": [
    "a.__gt__(1) # a>1"
   ]
  },
  {
   "cell_type": "code",
   "execution_count": 428,
   "id": "bb1c2a71-9064-45d4-9319-65a8e2514692",
   "metadata": {
    "id": "d1001999-255d-46fc-aea6-57b72b4bd9ce",
    "outputId": "3d8b238a-56c3-4fc4-e05b-fd8d321a6c1c",
    "tags": []
   },
   "outputs": [
    {
     "data": {
      "text/plain": [
       "True"
      ]
     },
     "execution_count": 428,
     "metadata": {},
     "output_type": "execute_result"
    }
   ],
   "source": [
    "a.__gt__(0) # a>0"
   ]
  },
  {
   "cell_type": "markdown",
   "id": "6fa87c26-a825-4dad-be60-40a1f888702d",
   "metadata": {
    "id": "086c46d5-3afd-4da4-8e7c-856317a9d1f4"
   },
   "source": [
    "`-` 구현"
   ]
  },
  {
   "cell_type": "code",
   "execution_count": 429,
   "id": "26277a62-66ae-4e5a-b3ef-5ab6102988c1",
   "metadata": {
    "id": "c88866c8-b7c9-4599-bb35-75c971a03ee1",
    "tags": []
   },
   "outputs": [],
   "source": [
    "class RPS6(RPS5):\n",
    "    def __gt__(self,other):\n",
    "        return [self[-1],other[-1]] in [['가위','보'],['바위','가위'],['보','바위']]"
   ]
  },
  {
   "cell_type": "code",
   "execution_count": 430,
   "id": "2ca931ea-4e9e-4805-a655-3ab268126e17",
   "metadata": {
    "id": "fcf450c1-70d6-4d9b-a9d9-b7e40a871604",
    "tags": []
   },
   "outputs": [],
   "source": [
    "a = RPS6(['가위','바위','보'])\n",
    "b = RPS6(['가위','바위','보'])"
   ]
  },
  {
   "cell_type": "markdown",
   "id": "5ed6595f-e5e4-41d0-9967-24e9d54a2f2a",
   "metadata": {
    "id": "d6e19525-c1f0-4c01-ab7e-8ccb1bb34186"
   },
   "source": [
    "`-` 1회대결"
   ]
  },
  {
   "cell_type": "code",
   "execution_count": 412,
   "id": "2d8f1519-92c9-4396-aad1-3519d1cef7ca",
   "metadata": {
    "id": "7e336058-a655-4c91-af05-e6d534608f7c",
    "tags": []
   },
   "outputs": [
    {
     "data": {
      "text/plain": [
       "'보'"
      ]
     },
     "execution_count": 412,
     "metadata": {},
     "output_type": "execute_result"
    }
   ],
   "source": [
    "a.act()\n",
    "b.act()"
   ]
  },
  {
   "cell_type": "code",
   "execution_count": 413,
   "id": "a8278869-b7e8-4e43-a49e-fafa77b32b0c",
   "metadata": {
    "id": "2142524c-9f45-4a51-a27b-077ce4c13fc3",
    "outputId": "55c9b7f3-ba50-4d17-9551-f3dcadf1a2db",
    "tags": []
   },
   "outputs": [
    {
     "data": {
      "text/plain": [
       "낼 수 있는 패: ['가위', '바위', '보']\n",
       "기록: ['보']"
      ]
     },
     "execution_count": 413,
     "metadata": {},
     "output_type": "execute_result"
    }
   ],
   "source": [
    "a"
   ]
  },
  {
   "cell_type": "code",
   "execution_count": 414,
   "id": "b7c77b6b-e5c9-4ef5-98eb-9997e3726239",
   "metadata": {
    "id": "edfccb72-3a1c-40e7-bb26-49288e828e57",
    "outputId": "f87e9cc9-8d77-4900-dd1d-86eeb75383ac",
    "tags": []
   },
   "outputs": [
    {
     "data": {
      "text/plain": [
       "낼 수 있는 패: ['가위', '바위', '보']\n",
       "기록: ['보']"
      ]
     },
     "execution_count": 414,
     "metadata": {},
     "output_type": "execute_result"
    }
   ],
   "source": [
    "b"
   ]
  },
  {
   "cell_type": "code",
   "execution_count": 415,
   "id": "214053cb-eacc-47f9-9a65-037aa27a594f",
   "metadata": {
    "id": "cde45114-fb10-4e01-8cae-aa63f6debaef",
    "outputId": "ab87c9a1-51d1-45b0-f0be-152033e3730f",
    "tags": []
   },
   "outputs": [
    {
     "data": {
      "text/plain": [
       "(False, True)"
      ]
     },
     "execution_count": 415,
     "metadata": {},
     "output_type": "execute_result"
    }
   ],
   "source": [
    "a>b, a==b"
   ]
  },
  {
   "cell_type": "markdown",
   "id": "61ca035f-482d-4b57-b0b9-aba4880559df",
   "metadata": {
    "id": "bff6ea05-3844-46b9-a6c3-7fe5de108793"
   },
   "source": [
    "`-` 2회대결"
   ]
  },
  {
   "cell_type": "code",
   "execution_count": 416,
   "id": "4a71c95d-364d-4235-aab1-9437bfe93590",
   "metadata": {
    "id": "ee799dc5-596e-40bf-8376-46d981a4958b",
    "tags": []
   },
   "outputs": [
    {
     "data": {
      "text/plain": [
       "'가위'"
      ]
     },
     "execution_count": 416,
     "metadata": {},
     "output_type": "execute_result"
    }
   ],
   "source": [
    "a.act()\n",
    "b.act()"
   ]
  },
  {
   "cell_type": "code",
   "execution_count": 417,
   "id": "85a6d14d-8841-4372-92b1-9711d17c7a30",
   "metadata": {
    "id": "d7a98b62-235f-48c1-9733-a7ed3cac0a6b",
    "outputId": "7b1f60a3-3032-4a5f-e5db-b919ce70bdad",
    "tags": []
   },
   "outputs": [
    {
     "data": {
      "text/plain": [
       "낼 수 있는 패: ['가위', '바위', '보']\n",
       "기록: ['보', '바위']"
      ]
     },
     "execution_count": 417,
     "metadata": {},
     "output_type": "execute_result"
    }
   ],
   "source": [
    "a"
   ]
  },
  {
   "cell_type": "code",
   "execution_count": 418,
   "id": "58eb66ff-27e5-430c-a26c-2ec697fd60da",
   "metadata": {
    "id": "ba23f80b-700c-436a-894a-8866e84f7d4c",
    "outputId": "0172679e-bacb-4950-a1d4-3bd9ffb6ec7d",
    "tags": []
   },
   "outputs": [
    {
     "data": {
      "text/plain": [
       "낼 수 있는 패: ['가위', '바위', '보']\n",
       "기록: ['보', '가위']"
      ]
     },
     "execution_count": 418,
     "metadata": {},
     "output_type": "execute_result"
    }
   ],
   "source": [
    "b"
   ]
  },
  {
   "cell_type": "code",
   "execution_count": 419,
   "id": "c002d261-c3a7-4dd7-a145-197cb4c2f9c0",
   "metadata": {
    "id": "dd53c67d-029d-4490-9c63-5d6f7d54e685",
    "outputId": "a18431f9-4454-449f-af3b-6b0075310819",
    "tags": []
   },
   "outputs": [
    {
     "data": {
      "text/plain": [
       "(True, False)"
      ]
     },
     "execution_count": 419,
     "metadata": {},
     "output_type": "execute_result"
    }
   ],
   "source": [
    "a>b, a==b"
   ]
  },
  {
   "cell_type": "code",
   "execution_count": 420,
   "id": "c179ef37-80aa-4e72-81cd-665790a76677",
   "metadata": {
    "tags": []
   },
   "outputs": [
    {
     "data": {
      "text/plain": [
       "False"
      ]
     },
     "execution_count": 420,
     "metadata": {},
     "output_type": "execute_result"
    }
   ],
   "source": [
    "a<b # 이건 알아서 된다!! -- 제가 알기론 안되어야하는데 바뀐것같아용"
   ]
  },
  {
   "cell_type": "markdown",
   "id": "e6b3efcb-a8fc-48c8-9bc9-5ebb1f6eebcc",
   "metadata": {
    "id": "f6e3cb0b-3875-4ebc-a618-40a45dd59de9"
   },
   "source": [
    "`-` 비교연산자 정리"
   ]
  },
  {
   "cell_type": "markdown",
   "id": "ad481a32-b94c-42d7-80da-63a0fcc6ba8b",
   "metadata": {
    "id": "15375435-42ac-48ba-8fc7-4865595bf44f"
   },
   "source": [
    "|특수메소드|의미|\n",
    "|:-:|:-:|\n",
    "|`__eq__`|`self == other`|\n",
    "|`__gt__`|`self > other`|\n",
    "|`__lt__`|`self < other`|\n",
    "|`__ge__`|`self >= other`|\n",
    "|`__le__`|`self <= other`|"
   ]
  },
  {
   "cell_type": "markdown",
   "id": "c3ad2166-76bf-4d2d-a697-95bada67a94d",
   "metadata": {
    "id": "31812af3-a4af-4a85-8c9e-532260c82128"
   },
   "source": [
    "> 파이썬의 비밀10: `__eq__`, `__gt__`, `__lt__`, `__ge__`, `__le__`는 각각 `==`, `>`, `<`, `>=`, `<=` 를 재정의한다."
   ]
  },
  {
   "cell_type": "markdown",
   "id": "504ad71b-3a54-43ad-8730-4b291894b9ca",
   "metadata": {},
   "source": [
    "# 10. `__mul__`"
   ]
  },
  {
   "cell_type": "markdown",
   "id": "2db3ab97-4d94-466e-9018-f1bb030e3427",
   "metadata": {},
   "source": [
    "## A. 모티브 "
   ]
  },
  {
   "cell_type": "code",
   "execution_count": 435,
   "id": "0a6b08a6-aeea-4893-9e7a-c51cbcaf37d9",
   "metadata": {
    "tags": []
   },
   "outputs": [],
   "source": [
    "a = 3"
   ]
  },
  {
   "cell_type": "code",
   "execution_count": 436,
   "id": "764525c0-49dd-464f-a8fb-33c56e84266d",
   "metadata": {
    "tags": []
   },
   "outputs": [],
   "source": [
    "b = 2"
   ]
  },
  {
   "cell_type": "code",
   "execution_count": 439,
   "id": "0d6e1df1-1522-4b7b-8c6e-1710af7b7265",
   "metadata": {
    "tags": []
   },
   "outputs": [
    {
     "data": {
      "text/plain": [
       "6"
      ]
     },
     "execution_count": 439,
     "metadata": {},
     "output_type": "execute_result"
    }
   ],
   "source": [
    "a*b"
   ]
  },
  {
   "cell_type": "code",
   "execution_count": 438,
   "id": "be3cae96-e7a8-489b-8847-9525326f39d5",
   "metadata": {
    "tags": []
   },
   "outputs": [
    {
     "data": {
      "text/plain": [
       "6"
      ]
     },
     "execution_count": 438,
     "metadata": {},
     "output_type": "execute_result"
    }
   ],
   "source": [
    "a.__mul__(b)"
   ]
  },
  {
   "cell_type": "markdown",
   "id": "6d8161bd-18a3-4a42-ae12-1790eb951db9",
   "metadata": {},
   "source": [
    "`-` 하고싶은것: `a*b` 가 두 플레이어 `a`,`b`의 \"대결\"을 의미하도록 하고싶다!"
   ]
  },
  {
   "cell_type": "markdown",
   "id": "ccb5473d-bac8-490b-8ebd-1693e794e4b8",
   "metadata": {},
   "source": [
    "## B. RPS7: `__mul__` 의 사용 "
   ]
  },
  {
   "cell_type": "markdown",
   "id": "ce495c0b-3445-4868-8a92-8f20e3908ae5",
   "metadata": {
    "id": "2de31e6b-35c6-41d3-82e9-f45329898eaf"
   },
   "source": [
    "`-` 구현"
   ]
  },
  {
   "cell_type": "code",
   "execution_count": 886,
   "id": "89a78d23-947f-47d9-95c5-0c49a33e4d3b",
   "metadata": {
    "id": "498638da-17f4-4877-a6c6-ff076fe05296",
    "tags": []
   },
   "outputs": [],
   "source": [
    "class RPS7(RPS6):\n",
    "    def __init__(self,action_space):\n",
    "        super().__init__(action_space)\n",
    "        self.results = []\n",
    "    def __mul__(self,other):\n",
    "        self.act()\n",
    "        other.act()\n",
    "        if self > other:\n",
    "            self.results.append(\"승리\")\n",
    "            other.results.append(\"패배\")\n",
    "        elif self < other: \n",
    "            self.results.append(\"패배\")\n",
    "            other.results.append(\"승리\")\n",
    "        else: \n",
    "            self.results.append(\"무승부\")\n",
    "            other.results.append(\"무승부\")\n",
    "    def __repr__(self):\n",
    "        text = super().__repr__()\n",
    "        text = text+f\"\\n승패: {self.results}\"\n",
    "        return text"
   ]
  },
  {
   "cell_type": "code",
   "execution_count": 887,
   "id": "10c7e0a2-7fa2-4b7c-883e-23a87bb472a2",
   "metadata": {
    "id": "f6fff8fb-b49f-44e7-9b04-dff39402afb0",
    "tags": []
   },
   "outputs": [],
   "source": [
    "a = RPS7(['가위','바위','보'])\n",
    "b = RPS7(['가위','바위','보'])"
   ]
  },
  {
   "cell_type": "code",
   "execution_count": 888,
   "id": "ca3d9a4f-5ef9-436a-8f15-3d897aede2fc",
   "metadata": {
    "id": "0142cc0f-0a70-4e34-8f24-3691aa474e8f",
    "tags": []
   },
   "outputs": [],
   "source": [
    "a*b"
   ]
  },
  {
   "cell_type": "code",
   "execution_count": 889,
   "id": "4806069e-b0e2-4c62-a6cb-b01d8d514d8d",
   "metadata": {
    "id": "073658fb-478a-488e-bc6d-30649ec6d744",
    "outputId": "3d580157-dd4e-4284-e43b-a45d31187a0c",
    "tags": []
   },
   "outputs": [
    {
     "data": {
      "text/plain": [
       "낼 수 있는 패: ['가위', '바위', '보']\n",
       "기록: ['바위']\n",
       "승패: ['패배']"
      ]
     },
     "execution_count": 889,
     "metadata": {},
     "output_type": "execute_result"
    }
   ],
   "source": [
    "a"
   ]
  },
  {
   "cell_type": "code",
   "execution_count": 890,
   "id": "7d74bdd6-a2c1-45dc-a8d1-0e40efb1cb13",
   "metadata": {
    "id": "6456f11b-d61b-4bd2-907e-c4a8831faef6",
    "outputId": "57b84702-b030-4185-9ee0-dc1d713bb57e",
    "tags": []
   },
   "outputs": [
    {
     "data": {
      "text/plain": [
       "낼 수 있는 패: ['가위', '바위', '보']\n",
       "기록: ['보']\n",
       "승패: ['승리']"
      ]
     },
     "execution_count": 890,
     "metadata": {},
     "output_type": "execute_result"
    }
   ],
   "source": [
    "b"
   ]
  },
  {
   "cell_type": "code",
   "execution_count": 891,
   "id": "47b478bc-da58-48dc-8d75-7a3db8e7ac15",
   "metadata": {
    "tags": []
   },
   "outputs": [
    {
     "data": {
      "text/plain": [
       "(['패배'], ['승리'])"
      ]
     },
     "execution_count": 891,
     "metadata": {},
     "output_type": "execute_result"
    }
   ],
   "source": [
    "a.results,b.results"
   ]
  },
  {
   "cell_type": "markdown",
   "id": "41394245-a78a-474c-9e78-1948bc707ce5",
   "metadata": {},
   "source": [
    "# 11. 가위,바위,보"
   ]
  },
  {
   "cell_type": "markdown",
   "id": "87fa0bf5-665c-4399-b944-eeeb4425f3db",
   "metadata": {},
   "source": [
    "`(1)` 플레이어A는 (가위,가위) 중 하나를 선택할 수 있고 플레이어B는 (가위,바위) 중 하나를 선택할 수 있다. 각 플레이어는 각 패 중 하나를 랜덤으로 선택하는 액션을 한다고 가정하자. 즉 아래의 상황을 가정하자. \n",
    "\n",
    "||플레이어A|플레이어B|\n",
    "|:-:|:-:|:-:|\n",
    "|action_space | (가위,가위) | (가위,바위) |\n",
    "|prob | {'가위': 0.5, '가위': 0.5} | {'가위':0.5,'바위':0.5} |\n",
    "\n",
    "아래에 해당하는 확률을 시뮬레이션을 이용하여 추정하라. \n",
    "\n",
    "- 플레이어A가 승리할 확률:\n",
    "- 플레이어B가 승리할 확률:\n",
    "- 플레이어A와 플레이어B가 비길 확률: "
   ]
  },
  {
   "cell_type": "markdown",
   "id": "21a04dde-6ce3-432a-8a0a-ec1ed25b59e0",
   "metadata": {},
   "source": [
    "**hint**: 50% 확률로 b가 승리하고 50% 확률로 비긴다. "
   ]
  },
  {
   "cell_type": "markdown",
   "id": "58ddb3af-b7d0-4a8e-bf58-3c48f0094636",
   "metadata": {},
   "source": [
    "(풀이)"
   ]
  },
  {
   "cell_type": "code",
   "execution_count": 892,
   "id": "dafedd81-6d56-4620-8ae5-99592d5b9f9f",
   "metadata": {
    "tags": []
   },
   "outputs": [],
   "source": [
    "A = RPS7(['가위','가위']) \n",
    "B = RPS7(['가위','바위']) \n",
    "results = []\n",
    "for t in range(20):\n",
    "    A*B"
   ]
  },
  {
   "cell_type": "code",
   "execution_count": 893,
   "id": "1ee1cca5-f0bf-4307-8484-d38304096cfa",
   "metadata": {
    "tags": []
   },
   "outputs": [
    {
     "data": {
      "text/plain": [
       "(낼 수 있는 패: ['가위', '가위']\n",
       " 기록: ['가위', '가위', '가위', '가위', '가위', '가위', '가위', '가위', '가위', '가위', '가위', '가위', '가위', '가위', '가위', '가위', '가위', '가위', '가위', '가위']\n",
       " 승패: ['무승부', '패배', '무승부', '패배', '무승부', '무승부', '패배', '패배', '패배', '무승부', '무승부', '무승부', '패배', '패배', '패배', '무승부', '패배', '무승부', '무승부', '패배'],\n",
       " 낼 수 있는 패: ['가위', '바위']\n",
       " 기록: ['가위', '바위', '가위', '바위', '가위', '가위', '바위', '바위', '바위', '가위', '가위', '가위', '바위', '바위', '바위', '가위', '바위', '가위', '가위', '바위']\n",
       " 승패: ['무승부', '승리', '무승부', '승리', '무승부', '무승부', '승리', '승리', '승리', '무승부', '무승부', '무승부', '승리', '승리', '승리', '무승부', '승리', '무승부', '무승부', '승리'])"
      ]
     },
     "execution_count": 893,
     "metadata": {},
     "output_type": "execute_result"
    }
   ],
   "source": [
    "A,B"
   ]
  },
  {
   "cell_type": "code",
   "execution_count": 900,
   "id": "74591130-ad06-4363-b8e1-f1114d4bc5c2",
   "metadata": {
    "tags": []
   },
   "outputs": [
    {
     "data": {
      "text/plain": [
       "{'무승부': 10, '패배': 10}"
      ]
     },
     "execution_count": 900,
     "metadata": {},
     "output_type": "execute_result"
    }
   ],
   "source": [
    "{s:A.results.count(s) for s in set(A.results)}"
   ]
  },
  {
   "cell_type": "code",
   "execution_count": 901,
   "id": "0f694e87-be46-4cc0-9302-7527d72029d1",
   "metadata": {
    "tags": []
   },
   "outputs": [
    {
     "data": {
      "text/plain": [
       "{'승리': 10, '무승부': 10}"
      ]
     },
     "execution_count": 901,
     "metadata": {},
     "output_type": "execute_result"
    }
   ],
   "source": [
    "{s:B.results.count(s) for s in set(B.results)}"
   ]
  },
  {
   "cell_type": "markdown",
   "id": "ce14ca90-17b9-498a-bd24-15d6b8e11bd6",
   "metadata": {},
   "source": [
    "`(2)` 아래의 상황을 가정하자. \n",
    "\n",
    "||플레이어A|플레이어B|\n",
    "|:-:|:-:|:-:|\n",
    "|action_space | (가위,가위) | (가위,바위) |\n",
    "|prob | {'가위': 0.5, '가위': 0.5} | {'가위':0.5,'바위':0.5} |\n",
    "\n",
    "\n",
    "\n",
    "각 플레이어는 아래와 같은 규칙으로 가위바위보 결과에 따른 보상점수를 적립한다고 하자. \n",
    "- 승리: 보상점수 2점 적립\n",
    "- 무승부: 보상점수 1점 적립\n",
    "- 패배: 보상점수 0점 적립\n",
    "\n",
    "100번째 대결까지 시뮬레이션을 시행하고 플레이어B가 가위를 낼 경우 얻은 보상점수의 총합과 바위를 낼 경우 얻은 보상점수의 총합을 각각 구하라. 플레이어B는 가위를 내는것이 유리한가? 바위를 내는것이 유리한가? "
   ]
  },
  {
   "cell_type": "markdown",
   "id": "a22cd128-e4f2-4483-a8ea-fdfb39e0d6a8",
   "metadata": {},
   "source": [
    "**hint**: 플레이어B는 바위를 내는 것이 유리하다. \n",
    "\n",
    "**hint**: 플레이어B가 100번중에 49번 가위를 내고 51번 바위를 낸다면 플레이어B가 적립할 보상점수는 각각 아래와 같다. \n",
    "- 가위를 내었을 경우: 49 * 1 = 49점 \n",
    "- 바위를 내었을 경우: 51 * 2 = 102점 \n",
    "- 총 보상점수 = 49점 + 102점 = 151점 "
   ]
  },
  {
   "cell_type": "markdown",
   "id": "79fc708f-d649-4f71-8c4e-17350a777f97",
   "metadata": {},
   "source": [
    "(풀이)"
   ]
  },
  {
   "cell_type": "code",
   "execution_count": 1177,
   "id": "a04f5752-ddbe-4fd3-8654-a9a1f6326bbc",
   "metadata": {
    "tags": []
   },
   "outputs": [],
   "source": [
    "class RPSBase2:\n",
    "    def __init__(self,action_space):\n",
    "        self.action_space = action_space \n",
    "        self.actions = []\n",
    "        self.results = []\n",
    "        self.rewards = []\n",
    "        self.prob = [1/2,1/2] \n",
    "        self.score_dct = {'승리':2, '무승부':1, '패배':0}\n",
    "    def act(self):\n",
    "        action = np.random.choice(self.action_space,p=self.prob)\n",
    "        self.actions.append(action)\n",
    "        return action\n",
    "    def __repr__(self):\n",
    "        text = f\"낼 수 있는 패: {self.action_space}\\n최근기록: {self.actions[-10:]}\\n최근승패: {self.results[-10:]}\\n확률: {dict(zip(self.action_space,self.prob))}\"\n",
    "        return text\n",
    "    def __eq__(self,other):\n",
    "        return self.actions[-1] == other.actions[-1]  \n",
    "    def __gt__(self,other):\n",
    "        return [self.actions[-1],other.actions[-1]] in [['가위','보'],['바위','가위'],['보','바위']]\n",
    "    def __mul__(self,other):\n",
    "        self.act()\n",
    "        other.act()\n",
    "        if self > other:\n",
    "            self.results.append(\"승리\")\n",
    "            other.results.append(\"패배\")\n",
    "        elif self < other: \n",
    "            self.results.append(\"패배\")\n",
    "            other.results.append(\"승리\")\n",
    "        else: \n",
    "            self.results.append(\"무승부\")\n",
    "            other.results.append(\"무승부\")\n",
    "    def save_reward(self):\n",
    "        self.rewards.append(self.score_dct[self.results[-1]])"
   ]
  },
  {
   "cell_type": "code",
   "execution_count": 1178,
   "id": "88b77310-1489-4bb7-b9a7-9c24fdda1596",
   "metadata": {
    "tags": []
   },
   "outputs": [],
   "source": [
    "A = RPSBase2([\"가위\",\"가위\"])\n",
    "B = RPSBase2([\"가위\",\"바위\"])"
   ]
  },
  {
   "cell_type": "code",
   "execution_count": 1179,
   "id": "f4eabd7c-44d3-40ba-99bc-c7b6265da425",
   "metadata": {
    "tags": []
   },
   "outputs": [
    {
     "data": {
      "text/plain": [
       "낼 수 있는 패: ['가위', '가위']\n",
       "최근기록: []\n",
       "최근승패: []\n",
       "확률: {'가위': 0.5}"
      ]
     },
     "execution_count": 1179,
     "metadata": {},
     "output_type": "execute_result"
    }
   ],
   "source": [
    "A"
   ]
  },
  {
   "cell_type": "code",
   "execution_count": 1180,
   "id": "18935952-94f4-4f6d-9763-331a7603babe",
   "metadata": {
    "tags": []
   },
   "outputs": [],
   "source": [
    "for t in range(100):\n",
    "    A*B \n",
    "    A.save_reward()\n",
    "    B.save_reward()"
   ]
  },
  {
   "cell_type": "code",
   "execution_count": 1181,
   "id": "4e20a1f9-c949-413c-97ef-bab27d924e61",
   "metadata": {
    "tags": []
   },
   "outputs": [
    {
     "data": {
      "text/plain": [
       "낼 수 있는 패: ['가위', '가위']\n",
       "최근기록: ['가위', '가위', '가위', '가위', '가위', '가위', '가위', '가위', '가위', '가위']\n",
       "최근승패: ['무승부', '패배', '무승부', '무승부', '패배', '패배', '무승부', '패배', '패배', '패배']\n",
       "확률: {'가위': 0.5}"
      ]
     },
     "execution_count": 1181,
     "metadata": {},
     "output_type": "execute_result"
    }
   ],
   "source": [
    "A"
   ]
  },
  {
   "cell_type": "code",
   "execution_count": 1182,
   "id": "4299c618-197e-46f4-981f-df82f86151b9",
   "metadata": {
    "tags": []
   },
   "outputs": [
    {
     "data": {
      "text/plain": [
       "낼 수 있는 패: ['가위', '바위']\n",
       "최근기록: ['가위', '바위', '가위', '가위', '바위', '바위', '가위', '바위', '바위', '바위']\n",
       "최근승패: ['무승부', '승리', '무승부', '무승부', '승리', '승리', '무승부', '승리', '승리', '승리']\n",
       "확률: {'가위': 0.5, '바위': 0.5}"
      ]
     },
     "execution_count": 1182,
     "metadata": {},
     "output_type": "execute_result"
    }
   ],
   "source": [
    "B"
   ]
  },
  {
   "cell_type": "code",
   "execution_count": 1183,
   "id": "6f76d6b4-40a2-45fb-b769-ec4c98977bfa",
   "metadata": {
    "tags": []
   },
   "outputs": [
    {
     "data": {
      "text/html": [
       "<div>\n",
       "<style scoped>\n",
       "    .dataframe tbody tr th:only-of-type {\n",
       "        vertical-align: middle;\n",
       "    }\n",
       "\n",
       "    .dataframe tbody tr th {\n",
       "        vertical-align: top;\n",
       "    }\n",
       "\n",
       "    .dataframe thead th {\n",
       "        text-align: right;\n",
       "    }\n",
       "</style>\n",
       "<table border=\"1\" class=\"dataframe\">\n",
       "  <thead>\n",
       "    <tr style=\"text-align: right;\">\n",
       "      <th></th>\n",
       "      <th>A행동</th>\n",
       "      <th>B행동</th>\n",
       "      <th>A보상</th>\n",
       "      <th>B보상</th>\n",
       "    </tr>\n",
       "  </thead>\n",
       "  <tbody>\n",
       "    <tr>\n",
       "      <th>0</th>\n",
       "      <td>가위</td>\n",
       "      <td>바위</td>\n",
       "      <td>0</td>\n",
       "      <td>2</td>\n",
       "    </tr>\n",
       "    <tr>\n",
       "      <th>1</th>\n",
       "      <td>가위</td>\n",
       "      <td>가위</td>\n",
       "      <td>1</td>\n",
       "      <td>1</td>\n",
       "    </tr>\n",
       "    <tr>\n",
       "      <th>2</th>\n",
       "      <td>가위</td>\n",
       "      <td>가위</td>\n",
       "      <td>1</td>\n",
       "      <td>1</td>\n",
       "    </tr>\n",
       "    <tr>\n",
       "      <th>3</th>\n",
       "      <td>가위</td>\n",
       "      <td>가위</td>\n",
       "      <td>1</td>\n",
       "      <td>1</td>\n",
       "    </tr>\n",
       "    <tr>\n",
       "      <th>4</th>\n",
       "      <td>가위</td>\n",
       "      <td>바위</td>\n",
       "      <td>0</td>\n",
       "      <td>2</td>\n",
       "    </tr>\n",
       "    <tr>\n",
       "      <th>...</th>\n",
       "      <td>...</td>\n",
       "      <td>...</td>\n",
       "      <td>...</td>\n",
       "      <td>...</td>\n",
       "    </tr>\n",
       "    <tr>\n",
       "      <th>95</th>\n",
       "      <td>가위</td>\n",
       "      <td>바위</td>\n",
       "      <td>0</td>\n",
       "      <td>2</td>\n",
       "    </tr>\n",
       "    <tr>\n",
       "      <th>96</th>\n",
       "      <td>가위</td>\n",
       "      <td>가위</td>\n",
       "      <td>1</td>\n",
       "      <td>1</td>\n",
       "    </tr>\n",
       "    <tr>\n",
       "      <th>97</th>\n",
       "      <td>가위</td>\n",
       "      <td>바위</td>\n",
       "      <td>0</td>\n",
       "      <td>2</td>\n",
       "    </tr>\n",
       "    <tr>\n",
       "      <th>98</th>\n",
       "      <td>가위</td>\n",
       "      <td>바위</td>\n",
       "      <td>0</td>\n",
       "      <td>2</td>\n",
       "    </tr>\n",
       "    <tr>\n",
       "      <th>99</th>\n",
       "      <td>가위</td>\n",
       "      <td>바위</td>\n",
       "      <td>0</td>\n",
       "      <td>2</td>\n",
       "    </tr>\n",
       "  </tbody>\n",
       "</table>\n",
       "<p>100 rows × 4 columns</p>\n",
       "</div>"
      ],
      "text/plain": [
       "   A행동 B행동  A보상  B보상\n",
       "0   가위  바위    0    2\n",
       "1   가위  가위    1    1\n",
       "2   가위  가위    1    1\n",
       "3   가위  가위    1    1\n",
       "4   가위  바위    0    2\n",
       "..  ..  ..  ...  ...\n",
       "95  가위  바위    0    2\n",
       "96  가위  가위    1    1\n",
       "97  가위  바위    0    2\n",
       "98  가위  바위    0    2\n",
       "99  가위  바위    0    2\n",
       "\n",
       "[100 rows x 4 columns]"
      ]
     },
     "execution_count": 1183,
     "metadata": {},
     "output_type": "execute_result"
    }
   ],
   "source": [
    "df = pd.DataFrame({\"A행동\": A.actions, \"B행동\": B.actions, \"A보상\": A.rewards, \"B보상\": B.rewards})\n",
    "df"
   ]
  },
  {
   "cell_type": "code",
   "execution_count": 1184,
   "id": "a5185494-453b-4f39-83b3-41c38369b1c1",
   "metadata": {
    "tags": []
   },
   "outputs": [
    {
     "data": {
      "text/plain": [
       "(48, 104)"
      ]
     },
     "execution_count": 1184,
     "metadata": {},
     "output_type": "execute_result"
    }
   ],
   "source": [
    "df[df.B행동 == \"가위\"].B보상.sum(), df[df.B행동 == \"바위\"].B보상.sum()"
   ]
  },
  {
   "cell_type": "markdown",
   "id": "7ba5d4ea-1af9-49da-94ef-f8f894ad240b",
   "metadata": {},
   "source": [
    "`(3)` 아래의 상황을 가정하자. "
   ]
  },
  {
   "cell_type": "markdown",
   "id": "bddb0335-52d5-4258-948d-deb7fe1f3e66",
   "metadata": {},
   "source": [
    "||플레이어A|플레이어B|\n",
    "|:-:|:-:|:-:|\n",
    "|action_space | (가위,가위) | (가위,바위) |\n",
    "|prob | {'가위': 0.5, '가위': 0.5} | {'가위':0.5,'바위':0.5} |"
   ]
  },
  {
   "cell_type": "markdown",
   "id": "bcd84cf3-f46a-49d5-8090-a687546bbb55",
   "metadata": {},
   "source": [
    "100번의 대결에서 얻은 데이터를 **학습**하여, 이후의 대결부터는 플레이어B가 \"가위\" 혹은 \"바위\" 를 선택할 확률을 매시점 조금씩 조정한다고 가정하자. 구체적으로는 현재시점까지 얻은 보상점수의 비율로 확률을 결정한다. 예를들어 플레이어B가 100회의 대결동안 누적한 보상점수의 총합이 아래와 같다고 하자. \n",
    "\n",
    "- 가위를 내었을 경우 보상점수 총합 = 50점 \n",
    "- 바위를 내었을 경우 보상점수 총합 = 100점\n",
    "\n",
    "그렇다면 플레이어B는 각각 (50/150,100/150) 의 확률로 (가위,바위) 중 하나를 선택한다. 101번째 대결에 플레이어B가 가위를 내서 비겼다면 이후에는 (51/151,100/151) 의 확률로 (가위,바위) 중 하나를 선택한다. 102번째 대결에 플레이어B가 바위를 내서 이겼다면 이후에는 각각 (51/153,102/153) 의 확률로 (가위,바위) 중 하나를 선택한다. 이러한 상황을 요약하여 표로 정리하면 아래와 같다. "
   ]
  },
  {
   "cell_type": "markdown",
   "id": "63df6176-244a-4766-9166-b29861156f7a",
   "metadata": {},
   "source": [
    "**플레이어 B의 확률업데이트 예시**\n",
    "|시점|점수 |확률|\n",
    "|:-:|:-:|:-:|\n",
    "|0<= t < 100|B = {가위: 50, 바위:100}| B = {가위: 50/150, 바위: 100/150}|\n",
    "|t= 100| B= {가위: 51, 바위:100}| B = {가위: 51/151, 바위: 100/151}|\n",
    "|t=101|B = {가위: 51, 바위:102}| B = {가위: 51/153, 바위: 102/153}|"
   ]
  },
  {
   "cell_type": "markdown",
   "id": "0236c567-8775-4537-a5c0-e19cfe26706c",
   "metadata": {},
   "source": [
    "첫 100회 까지는 확률을 업데이트 하지 않고 (=학습하지 않고) 100~500회까지는 플레이어B가 데이터를 보고 확률을 수정한다고 하자. 즉 아래와 같은 방식으로 수정한다고 하자. "
   ]
  },
  {
   "cell_type": "markdown",
   "id": "80fce09b-462d-4c3f-b063-f2c8e050a0cd",
   "metadata": {},
   "source": [
    "**플레이어 A,B의 시점별 확률업데이트**\n",
    "|시점|확률|학습| \n",
    "|:-:|:-:|:-:|\n",
    "|0<= t < 100 |A = {가위: 1/2, 바위: 1/2}, B = {가위:1/2, 바위:1/2}| A = False, B = False|\n",
    "|100<= t <500| A= {가위: 1/2, 바위:1/2}, B= {가위: ??, 바위: ??}| A = False, B = **True**|\n",
    "\n",
    "\n",
    "500번의 대결이 끝난 이후 플레이어B가 (가위,바위)를 낼 확률은 각각 얼마로 업데이트 되었는가? "
   ]
  },
  {
   "cell_type": "markdown",
   "id": "b85060f9-aae7-430d-b923-664c9053f63c",
   "metadata": {},
   "source": [
    "**hint: 시간이 지날수록 플레이어B는 (가위,바위)중 바위를 내는 쪽이 유리하다는 것을 알게 될 것이다.**"
   ]
  },
  {
   "cell_type": "markdown",
   "id": "db49ff71-11ba-4671-b55d-9c2510e51b82",
   "metadata": {},
   "source": [
    "(풀이) "
   ]
  },
  {
   "cell_type": "code",
   "execution_count": 1327,
   "id": "f51e5e2f-f286-4d41-8978-2b7150ceccfc",
   "metadata": {
    "tags": []
   },
   "outputs": [],
   "source": [
    "class RPSlrn(RPSBase2):\n",
    "    def learn(self):\n",
    "        a0,a1 = self.action_space\n",
    "        actions = pd.Series(self.actions)\n",
    "        rewards = pd.Series(self.rewards)\n",
    "        p0 = rewards[actions == a0].sum()/sum(rewards)\n",
    "        p1 = rewards[actions == a1].sum()/sum(rewards)\n",
    "        self.prob = [p0,p1]"
   ]
  },
  {
   "cell_type": "code",
   "execution_count": 1328,
   "id": "23c49839-1942-41d2-8d78-51defa9da7c5",
   "metadata": {
    "tags": []
   },
   "outputs": [],
   "source": [
    "A = RPSlrn(['가위','가위'])\n",
    "B = RPSlrn(['가위','바위'])"
   ]
  },
  {
   "cell_type": "code",
   "execution_count": 1329,
   "id": "957df77d-1684-433f-aa45-892bf9e81988",
   "metadata": {
    "tags": []
   },
   "outputs": [],
   "source": [
    "# t= 0~99\n",
    "for t in range(100):\n",
    "    A*B\n",
    "    A.save_reward()\n",
    "    B.save_reward()\n",
    "# t = 100~499   \n",
    "for t in range(100,500):\n",
    "    A*B\n",
    "    A.save_reward()\n",
    "    B.save_reward()\n",
    "    B.learn()"
   ]
  },
  {
   "cell_type": "code",
   "execution_count": 1330,
   "id": "3df31777-b7b9-409f-b0c8-f25e72539732",
   "metadata": {
    "tags": []
   },
   "outputs": [
    {
     "data": {
      "text/plain": [
       "낼 수 있는 패: ['가위', '가위']\n",
       "최근기록: ['가위', '가위', '가위', '가위', '가위', '가위', '가위', '가위', '가위', '가위']\n",
       "최근승패: ['패배', '패배', '패배', '무승부', '패배', '패배', '패배', '패배', '패배', '패배']\n",
       "확률: {'가위': 0.5}"
      ]
     },
     "execution_count": 1330,
     "metadata": {},
     "output_type": "execute_result"
    }
   ],
   "source": [
    "A"
   ]
  },
  {
   "cell_type": "code",
   "execution_count": 1331,
   "id": "d8ced1fe-176f-4282-b229-4a04324c7d5b",
   "metadata": {
    "tags": []
   },
   "outputs": [
    {
     "data": {
      "text/plain": [
       "낼 수 있는 패: ['가위', '바위']\n",
       "최근기록: ['바위', '바위', '바위', '가위', '바위', '바위', '바위', '바위', '바위', '바위']\n",
       "최근승패: ['승리', '승리', '승리', '무승부', '승리', '승리', '승리', '승리', '승리', '승리']\n",
       "확률: {'가위': 0.15473441108545036, '바위': 0.8452655889145496}"
      ]
     },
     "execution_count": 1331,
     "metadata": {},
     "output_type": "execute_result"
    }
   ],
   "source": [
    "B"
   ]
  },
  {
   "cell_type": "markdown",
   "id": "da2a9777-4e3f-4f18-8218-f35f736d4624",
   "metadata": {},
   "source": [
    "---"
   ]
  },
  {
   "cell_type": "markdown",
   "id": "f75c048e-9c24-4651-a4af-950d9d268eda",
   "metadata": {},
   "source": [
    "`(4)` 플레이어 C와 플레이어 D를 만들아라.\n",
    "\n",
    "||플레이어C|플레이어D|\n",
    "|:-:|:-:|:-:|\n",
    "|action_space | (가위,바위) | (가위,바위) |\n",
    "|prob | {'가위': 0.5, '바위': 0.5} | {'가위':0.5,'바위':0.5} |\n",
    "\n",
    "\n",
    "두 플레이어는 처음 100번의 대결 동안 플레이어 C와 플레이어 D는 둘 다 ‘가위’와 ‘바위’를 랜덤하게 선택한다. 즉, 어떤 규칙 없이 무작위로 선택한다. 그리고 500번째 대결까지는 문제 (3)와 같은 방식으로 확률을 수정한다. "
   ]
  },
  {
   "cell_type": "markdown",
   "id": "84f61216-5ffc-4f4a-9fe2-01cb4dc4c4fe",
   "metadata": {},
   "source": [
    "**플레이어 C,D의 시점별 확률업데이트**\n",
    "|시점|확률|학습| \n",
    "|:-:|:-:|:-:|\n",
    "|0<= t <100 | C = {가위: 1/2, 바위: 1/2}, D = {가위:1/2, 바위:1/2}| C = False, D = False|\n",
    "|100<= t <500| C = {가위: ??, 바위:??}, D = {가위: ??, 바위: ??}| C = **True**, D = **True**|"
   ]
  },
  {
   "cell_type": "markdown",
   "id": "442106ce-db9f-4193-8249-79a5c2a24f62",
   "metadata": {},
   "source": [
    "500번의 대결이 끝난 이후 플레이어C,D가 (가위,바위)를 낼 확률은 각각 얼마로 업데이트 되었는가? "
   ]
  },
  {
   "cell_type": "markdown",
   "id": "54bddcbb-8549-4033-8729-fed9c9c2af3c",
   "metadata": {},
   "source": [
    "**hint: 시간이 지날수록 두 플레이어 모두 바위를 내는 쪽이 유리하다는 것을 알게 될 것이다.**"
   ]
  },
  {
   "cell_type": "markdown",
   "id": "59c6ae86-7f9c-4c50-ac36-6e893c6b1369",
   "metadata": {},
   "source": [
    "(풀이)"
   ]
  },
  {
   "cell_type": "code",
   "execution_count": 1192,
   "id": "217c0bd0-fa35-43ee-8c31-59bd086a9b90",
   "metadata": {
    "tags": []
   },
   "outputs": [],
   "source": [
    "C = RPSlrn(['가위','바위'])\n",
    "D = RPSlrn(['가위','바위'])"
   ]
  },
  {
   "cell_type": "code",
   "execution_count": 1193,
   "id": "111d5b22-b67f-44d9-bb16-2584b859f0ef",
   "metadata": {
    "tags": []
   },
   "outputs": [],
   "source": [
    "# t= 0~99\n",
    "for t in range(100):\n",
    "    C*D\n",
    "    C.save_reward()\n",
    "    D.save_reward()\n",
    "# t = 100~499   \n",
    "for t in range(100,500):\n",
    "    C*D\n",
    "    C.save_reward()\n",
    "    D.save_reward()\n",
    "    C.learn()\n",
    "    D.learn()"
   ]
  },
  {
   "cell_type": "code",
   "execution_count": 1194,
   "id": "034c3281-a4e2-4cbe-8b9d-1dab8ea54fb3",
   "metadata": {
    "tags": []
   },
   "outputs": [
    {
     "data": {
      "text/plain": [
       "낼 수 있는 패: ['가위', '바위']\n",
       "최근기록: ['바위', '바위', '가위', '바위', '바위', '바위', '바위', '바위', '바위', '바위']\n",
       "최근승패: ['무승부', '무승부', '패배', '무승부', '무승부', '무승부', '무승부', '무승부', '무승부', '무승부']\n",
       "확률: {'가위': 0.041749502982107355, '바위': 0.9582504970178927}"
      ]
     },
     "execution_count": 1194,
     "metadata": {},
     "output_type": "execute_result"
    }
   ],
   "source": [
    "C"
   ]
  },
  {
   "cell_type": "code",
   "execution_count": 1195,
   "id": "8e76cf84-19a1-4786-9120-74b5eaec91ef",
   "metadata": {
    "tags": []
   },
   "outputs": [
    {
     "data": {
      "text/plain": [
       "낼 수 있는 패: ['가위', '바위']\n",
       "최근기록: ['바위', '바위', '바위', '바위', '바위', '바위', '바위', '바위', '바위', '바위']\n",
       "최근승패: ['무승부', '무승부', '승리', '무승부', '무승부', '무승부', '무승부', '무승부', '무승부', '무승부']\n",
       "확률: {'가위': 0.04225352112676056, '바위': 0.9577464788732394}"
      ]
     },
     "execution_count": 1195,
     "metadata": {},
     "output_type": "execute_result"
    }
   ],
   "source": [
    "D"
   ]
  },
  {
   "cell_type": "markdown",
   "id": "a56a99d5-b245-437d-8ed9-d5daea861515",
   "metadata": {},
   "source": [
    "`(5)` 새로운 플레이어 E와 F를 생각하자. 플레이어E와 플레이어F는 각각 (가위,바위) 그리고 (가위,보) 중 하나를 선택할 수 있다고 가정하자. \n",
    "\n",
    "||플레이어E|플레이어F|\n",
    "|:-:|:-:|:-:|\n",
    "|action_space | (가위,바위) | (가위,보) |\n",
    "|prob | {'가위': 0.5, '바위': 0.5} | {'가위':0.5,'바위':0.5} |\n",
    "\n",
    "시뮬레이션 대결결과를 이용하여 아래의 확률을 근사적으로 추정하라. \n",
    "\n",
    "- 플레이어E가 승리할 확률:\n",
    "- 플레이어F가 승리할 확률:\n",
    "- 플레이어E와 플레이어F가 비길 확률: "
   ]
  },
  {
   "cell_type": "markdown",
   "id": "0dfca302-33af-4fd2-be61-06d93418c202",
   "metadata": {},
   "source": [
    "**hint: 플레이어E가 가위를 낸다면 최소한 지지는 않기 때문에 플레이어E가 좀 더 유리한 패를 가지고 있다. 따라서 플레이어E의 결과가 더 좋을 것이다.**"
   ]
  },
  {
   "cell_type": "code",
   "execution_count": 1196,
   "id": "fc91a597-f752-4fd2-9cd2-f0ecad4ce5a6",
   "metadata": {
    "tags": []
   },
   "outputs": [],
   "source": [
    "E = RPSlrn(['가위','바위'])\n",
    "F = RPSlrn(['가위','보'])\n",
    "for t in range(100):\n",
    "    E * F"
   ]
  },
  {
   "cell_type": "code",
   "execution_count": 1197,
   "id": "0bbce686-869b-4d01-a6ae-d25d801901d4",
   "metadata": {
    "tags": []
   },
   "outputs": [
    {
     "data": {
      "text/plain": [
       "{'승리': 52, '무승부': 20, '패배': 28}"
      ]
     },
     "execution_count": 1197,
     "metadata": {},
     "output_type": "execute_result"
    }
   ],
   "source": [
    "{s:E.results.count(s) for s in set(E.results)}"
   ]
  },
  {
   "cell_type": "code",
   "execution_count": 1198,
   "id": "9acc7525-1c7f-468d-a25f-10194829cdae",
   "metadata": {
    "tags": []
   },
   "outputs": [
    {
     "data": {
      "text/plain": [
       "{'승리': 28, '무승부': 20, '패배': 52}"
      ]
     },
     "execution_count": 1198,
     "metadata": {},
     "output_type": "execute_result"
    }
   ],
   "source": [
    "{s:F.results.count(s) for s in set(F.results)}"
   ]
  },
  {
   "cell_type": "markdown",
   "id": "fe3e67cd-2767-4736-bdf8-fc531f51ff17",
   "metadata": {},
   "source": [
    "`(6)` (5)와 동일한 두 명의 플레이어E, F를 생각하자. \n",
    "\n",
    "||플레이어E|플레이어F|\n",
    "|:-:|:-:|:-:|\n",
    "|action_space | (가위,바위) | (가위,보) |\n",
    "|prob | {'가위': 0.5, '바위': 0.5} | {'가위':0.5,'보':0.5} |\n",
    "\n",
    "두 플레이어는 100회까지는 랜덤으로 자신의 패를 선택한다. 그리고 101회부터 500회까지는 플레이어F만 데이터로 부터 학습을 하여 수정된 확률을 사용한다. \n",
    "\n",
    "**플레이어 E,F의 시점별 확률업데이트**\n",
    "|시점|확률|학습| \n",
    "|:-:|:-:|:-:|\n",
    "|0<= t <100 | E = {가위: 1/2, 바위: 1/2}, F = {가위:1/2, 보:1/2}| E = False, F = False|\n",
    "|100<= t <500| E = {가위: 1/2, 바위: 1/2}, F = {가위: ??, 보: ??}| E = False, F = **True**|\n",
    "\n",
    "500번의 대결이 끝나고 플레이어F가 (가위,보)를 선택하는 확률이 어떻게 업데이트 되어있는가?"
   ]
  },
  {
   "cell_type": "markdown",
   "id": "fad92ef7-6ded-4b4d-aa85-b822a5a297fd",
   "metadata": {},
   "source": [
    "**hint: 플레이어F는 보를 내는 것이 낫다고 생각할 것이다. (가위를 내면 지거나 비기지만 보를 내면 지거나 이긴다.)**"
   ]
  },
  {
   "cell_type": "code",
   "execution_count": 1199,
   "id": "147a16ea-a0e6-48dd-94cb-ae32d91e2751",
   "metadata": {
    "tags": []
   },
   "outputs": [],
   "source": [
    "E = RPSlrn(['가위','바위'])\n",
    "F = RPSlrn(['가위','보'])\n",
    "for t in range(100):\n",
    "    E * F\n",
    "    E.save_reward()\n",
    "    F.save_reward()\n",
    "for t in range(100,500):\n",
    "    E * F\n",
    "    E.save_reward()\n",
    "    F.save_reward()\n",
    "    F.learn()"
   ]
  },
  {
   "cell_type": "code",
   "execution_count": 1200,
   "id": "a630151a-1e64-4cfe-8420-3ae2640148de",
   "metadata": {
    "tags": []
   },
   "outputs": [
    {
     "data": {
      "text/plain": [
       "낼 수 있는 패: ['가위', '바위']\n",
       "최근기록: ['바위', '바위', '바위', '바위', '바위', '바위', '가위', '바위', '바위', '가위']\n",
       "최근승패: ['패배', '승리', '패배', '패배', '패배', '패배', '무승부', '패배', '승리', '승리']\n",
       "확률: {'가위': 0.5, '바위': 0.5}"
      ]
     },
     "execution_count": 1200,
     "metadata": {},
     "output_type": "execute_result"
    }
   ],
   "source": [
    "E"
   ]
  },
  {
   "cell_type": "code",
   "execution_count": 1201,
   "id": "dfe39e29-483a-46da-9257-d0a59c942ed1",
   "metadata": {
    "tags": []
   },
   "outputs": [
    {
     "data": {
      "text/plain": [
       "낼 수 있는 패: ['가위', '보']\n",
       "최근기록: ['보', '가위', '보', '보', '보', '보', '가위', '보', '가위', '보']\n",
       "최근승패: ['승리', '패배', '승리', '승리', '승리', '승리', '무승부', '승리', '패배', '패배']\n",
       "확률: {'가위': 0.1623529411764706, '보': 0.8376470588235294}"
      ]
     },
     "execution_count": 1201,
     "metadata": {},
     "output_type": "execute_result"
    }
   ],
   "source": [
    "F"
   ]
  },
  {
   "cell_type": "markdown",
   "id": "30d050de-9744-4654-acb9-02b86282d10f",
   "metadata": {},
   "source": [
    "`(7)` (6)번의 플레이어E와 플레이어F가 500회~1000회까지 추가로 게임을 한다. 이번에는 플레이어E만 데이터로부터 학습한다. 1000회까지 대결을 끝낸 이후 플레이어E가 (가위,바위)를 내는 확률은 어떻게 업데이트 되었는가? \n",
    "\n",
    "**플레이어 E,F의 시점별 확률업데이트**\n",
    "|시점|확률|학습| \n",
    "|:-:|:-:|:-:|\n",
    "|0<= t <100 | E = {가위: 1/2, 바위: 1/2}, F = {가위:1/2, 보:1/2}| E = False, F = False|\n",
    "|100<= t <500| E = {가위: 1/2, 바위: 1/2}, F = {가위: ??, 보: ??}| E = False, F = **True**|\n",
    "|-|-|-|\n",
    "|t < 1000| E = {가위: ??, 바위: ??}, F = {가위: ??, 보: ??}| E = **True**, F = False|\n"
   ]
  },
  {
   "cell_type": "markdown",
   "id": "89afa71f-b523-4232-90d7-5ab716d33cf0",
   "metadata": {},
   "source": [
    "**hint: 플레이어F는 보를 내도록 학습되어 있다. 따라서 플레이어E가 바위를 내면 지고 가위를 내면 이길것이다. 따라서 플레이어E는 가위가 유리하다고 생각할 것이다.**"
   ]
  },
  {
   "cell_type": "code",
   "execution_count": 1202,
   "id": "357bff86-85a8-4a78-8b3e-3d8b8243e12a",
   "metadata": {
    "tags": []
   },
   "outputs": [],
   "source": [
    "for t in range(500,1000):\n",
    "    E * F\n",
    "    E.save_reward()\n",
    "    F.save_reward()\n",
    "    E.learn()"
   ]
  },
  {
   "cell_type": "code",
   "execution_count": 1203,
   "id": "f6718dc9-f153-4bb3-a19a-9f6284950615",
   "metadata": {
    "tags": []
   },
   "outputs": [
    {
     "data": {
      "text/plain": [
       "낼 수 있는 패: ['가위', '바위']\n",
       "최근기록: ['가위', '가위', '가위', '바위', '가위', '가위', '가위', '가위', '가위', '가위']\n",
       "최근승패: ['승리', '승리', '무승부', '패배', '승리', '승리', '승리', '승리', '승리', '승리']\n",
       "확률: {'가위': 0.8770788141720897, '바위': 0.12292118582791034}"
      ]
     },
     "execution_count": 1203,
     "metadata": {},
     "output_type": "execute_result"
    }
   ],
   "source": [
    "E"
   ]
  },
  {
   "cell_type": "code",
   "execution_count": 1204,
   "id": "fee43477-f30e-4c00-b9ac-7d8396492eed",
   "metadata": {
    "tags": []
   },
   "outputs": [
    {
     "data": {
      "text/plain": [
       "낼 수 있는 패: ['가위', '보']\n",
       "최근기록: ['보', '보', '가위', '보', '보', '보', '보', '보', '보', '보']\n",
       "최근승패: ['패배', '패배', '무승부', '승리', '패배', '패배', '패배', '패배', '패배', '패배']\n",
       "확률: {'가위': 0.1623529411764706, '보': 0.8376470588235294}"
      ]
     },
     "execution_count": 1204,
     "metadata": {},
     "output_type": "execute_result"
    }
   ],
   "source": [
    "F"
   ]
  },
  {
   "cell_type": "markdown",
   "id": "c7b45d01-6711-4476-b5d0-32cdb15d405e",
   "metadata": {},
   "source": [
    "`(8)` (7)번의 플레이어E와 플레이어F가 1000회~10000회까지 추가로 게임을 한다. 이번에는 플레이어F만 데이터로부터 학습한다. 10000회까지 대결을 끝낸 이후 플레이어F가 (가위,보)를 내는 확률은 어떻게 업데이트 되었는가? "
   ]
  },
  {
   "cell_type": "markdown",
   "id": "b10f916a-f1d6-42f1-8e6f-e6f928a260e2",
   "metadata": {},
   "source": [
    "\n",
    "**플레이어 E,F의 시점별 확률업데이트**\n",
    "|시점|확률|학습|\n",
    "|:-:|:-:|:-:|\n",
    "|0<= t <100 | E = {가위: 1/2, 바위: 1/2}, F = {가위:1/2, 보:1/2}| E = False, F = False|\n",
    "|100<= t <500| E = {가위: 1/2, 바위: 1/2}, F = {가위: ??, 보: ??}| E = False, F = **True**|\n",
    "|500<= t < 1000| E = {가위: ??, 바위: ??}, F = {가위: ??, 보: ??}| E = **True**, F = False|\n",
    "|-|-|-|\n",
    "|1000<= t < 10000| E = {가위: ??, 바위: ??}, F = {가위: ??, 보: ??}| E = False, F = **True**|\n"
   ]
  },
  {
   "cell_type": "markdown",
   "id": "168d5b8d-e9c0-4820-9da3-eac88e53a48b",
   "metadata": {},
   "source": [
    "**hint: 플레이어F는 원래 보가 유리하다고 생각하여 보를 자주 내도록 학습되었다. 하지만 플레이어E가 그러한 플레이어F의 성향을 파악하고 가위를 주로 내도록 학습하였다. 플레이어F는 그러한 플레이어E의 성향을 다시 파악하여 이번에는 가위을 자주 내는 것이 유리하다고 생각할 것이다.**"
   ]
  },
  {
   "cell_type": "markdown",
   "id": "4f6bf489-d006-415c-b9cf-5cc29fc1602e",
   "metadata": {},
   "source": [
    "(풀이)"
   ]
  },
  {
   "cell_type": "code",
   "execution_count": 1332,
   "id": "8ed090a7-117a-4287-b1f0-c65bd1e41c56",
   "metadata": {
    "tags": []
   },
   "outputs": [],
   "source": [
    "for t in range(1000,10000):\n",
    "    E * F\n",
    "    E.save_reward()\n",
    "    F.save_reward()\n",
    "    F.learn()    "
   ]
  },
  {
   "cell_type": "code",
   "execution_count": 1333,
   "id": "52418cd8-c409-4c25-a9c6-e97e33dec9c7",
   "metadata": {
    "tags": []
   },
   "outputs": [
    {
     "data": {
      "text/plain": [
       "낼 수 있는 패: ['가위', '바위']\n",
       "최근기록: ['가위', '가위', '바위', '가위', '가위', '바위', '바위', '바위', '바위', '바위']\n",
       "최근승패: ['승리', '승리', '패배', '승리', '승리', '패배', '승리', '패배', '승리', '패배']\n",
       "확률: {'가위': 0.5140763594292326, '바위': 0.4859236405707674}"
      ]
     },
     "execution_count": 1333,
     "metadata": {},
     "output_type": "execute_result"
    }
   ],
   "source": [
    "E"
   ]
  },
  {
   "cell_type": "code",
   "execution_count": 1334,
   "id": "d09a998c-98a9-4f74-9dd5-be8b094cc9fc",
   "metadata": {
    "tags": []
   },
   "outputs": [
    {
     "data": {
      "text/plain": [
       "낼 수 있는 패: ['가위', '보']\n",
       "최근기록: ['보', '보', '보', '보', '보', '보', '가위', '보', '가위', '보']\n",
       "최근승패: ['패배', '패배', '승리', '패배', '패배', '승리', '패배', '승리', '패배', '승리']\n",
       "확률: {'가위': 0.2595783269099977, '보': 0.7404216730900023}"
      ]
     },
     "execution_count": 1334,
     "metadata": {},
     "output_type": "execute_result"
    }
   ],
   "source": [
    "F"
   ]
  },
  {
   "cell_type": "markdown",
   "id": "9867e080-bd74-4136-926f-737c51d05156",
   "metadata": {},
   "source": [
    "`(9)` 플레이어E와 플레이어F의 대결기록을 초기화 한다. 이번에는 플레이어F가 항상 (3/4)의 확률로 가위를 (1/4)의 확률로 보를 낸다고 가정한다."
   ]
  },
  {
   "cell_type": "markdown",
   "id": "217e1ae5-bfee-4ec1-a828-20a56a6489b0",
   "metadata": {},
   "source": [
    "\n",
    "||플레이어E|플레이어F|\n",
    "|:-:|:-:|:-:|\n",
    "|action_space | (가위,바위) | (가위,보) |\n",
    "|prob | {'가위': 0.5, '바위': 0.5} | {'가위':3/4,'보':1/4} |\n"
   ]
  },
  {
   "cell_type": "markdown",
   "id": "374407e3-287c-4ac2-8846-c505a8490ce7",
   "metadata": {},
   "source": [
    "플레이어E는 처음 1000번의 대결까지는 랜덤으로 (가위,바위)중 하나를 내고, 이후의 1000번의 대결에서는 데이터를 학습하여 수정한 확률을 사용한다고 하자. 대결이후에 플레이어E가 (가위,바위)를 내는 확률이 어떻게 업데이트 되어있는가? "
   ]
  },
  {
   "cell_type": "markdown",
   "id": "de41fb50-34a3-4486-b82a-c9de1a74a50b",
   "metadata": {
    "tags": []
   },
   "source": [
    "|시점|확률|학습|\n",
    "|:-:|:-:|:-:|\n",
    "|0<= t <1000 | E = {가위: 1/2, 바위: 1/2}, F = {가위: 3/4, 보: 1/4}| E = False, F = False|\n",
    "|1000<= t <2000| E = {가위: ??, 바위: ??}, F = {가위: 3/4, 보: 1/4}| E = **True**, F = False|"
   ]
  },
  {
   "cell_type": "markdown",
   "id": "cb7666a3-5e0b-43ea-a857-0ab123aac774",
   "metadata": {},
   "source": [
    "(풀이)"
   ]
  },
  {
   "cell_type": "code",
   "execution_count": 1303,
   "id": "37ae9d9b-68c0-4f93-910e-62523e982214",
   "metadata": {
    "tags": []
   },
   "outputs": [],
   "source": [
    "E=RPSlrn(['가위','바위'])\n",
    "F=RPSlrn(['가위','보'])"
   ]
  },
  {
   "cell_type": "code",
   "execution_count": 1308,
   "id": "f281ee15-0d21-44ae-8f5f-142aa78637ed",
   "metadata": {
    "tags": []
   },
   "outputs": [],
   "source": [
    "F.prob = [3/4,1/4]"
   ]
  },
  {
   "cell_type": "code",
   "execution_count": 1309,
   "id": "67b16490-d03b-4315-a721-eab0132278b1",
   "metadata": {
    "tags": []
   },
   "outputs": [],
   "source": [
    "for t in range(1000):\n",
    "    E * F\n",
    "    E.save_reward()\n",
    "    F.save_reward()\n",
    "for t in range(1000,2000):\n",
    "    E * F\n",
    "    E.save_reward()\n",
    "    F.save_reward()\n",
    "    E.learn()"
   ]
  },
  {
   "cell_type": "code",
   "execution_count": 1310,
   "id": "4776bf43-4e0e-40a5-bece-8db7ad7c3ac3",
   "metadata": {
    "tags": []
   },
   "outputs": [
    {
     "data": {
      "text/plain": [
       "낼 수 있는 패: ['가위', '바위']\n",
       "최근기록: ['바위', '바위', '바위', '바위', '바위', '바위', '가위', '바위', '바위', '가위']\n",
       "최근승패: ['승리', '패배', '승리', '승리', '승리', '승리', '무승부', '승리', '승리', '무승부']\n",
       "확률: {'가위': 0.3941250675797441, '바위': 0.6058749324202559}"
      ]
     },
     "execution_count": 1310,
     "metadata": {},
     "output_type": "execute_result"
    }
   ],
   "source": [
    "E"
   ]
  },
  {
   "cell_type": "code",
   "execution_count": 1311,
   "id": "8cbccae9-c899-41eb-a302-c50f1a106e58",
   "metadata": {
    "tags": []
   },
   "outputs": [
    {
     "data": {
      "text/plain": [
       "낼 수 있는 패: ['가위', '보']\n",
       "최근기록: ['가위', '보', '가위', '가위', '가위', '가위', '가위', '가위', '가위', '가위']\n",
       "최근승패: ['패배', '승리', '패배', '패배', '패배', '패배', '무승부', '패배', '패배', '무승부']\n",
       "확률: {'가위': 0.75, '보': 0.25}"
      ]
     },
     "execution_count": 1311,
     "metadata": {},
     "output_type": "execute_result"
    }
   ],
   "source": [
    "F"
   ]
  },
  {
   "cell_type": "markdown",
   "id": "37558eb2-ea13-445f-88cc-f82cd267feeb",
   "metadata": {},
   "source": [
    "`(10)` 플레이어E와 플레이어F의 대결기록을 초기화 한다. 이번에는 플레이어F가 항상 (2/3)의 확률로 가위를 (1/3)의 확률로 보를 낸다고 가정한다. "
   ]
  },
  {
   "cell_type": "markdown",
   "id": "0545f7c9-63c1-4ddc-ae0f-661a4b5c0173",
   "metadata": {},
   "source": [
    "\n",
    "||플레이어E|플레이어F|\n",
    "|:-:|:-:|:-:|\n",
    "|action_space | (가위,바위) | (가위,보) |\n",
    "|prob | {'가위': 0.5, '바위': 0.5} | {'가위':2/3,'보':1/3} |\n"
   ]
  },
  {
   "cell_type": "markdown",
   "id": "c1d1cc77-22cd-4380-a7e9-b64a792ef3b6",
   "metadata": {},
   "source": [
    "플레이어E는 처음 1000번의 대결까지는 랜덤으로 (가위,바위)중 하나를 내고, 이후의 1000번의 대결에서는 데이터를 학습하여 수정한 확률을 사용한다고 하자. 대결이후에 플레이어E가 (가위,바위)를 내는 확률이 어떻게 업데이트 되어있는가? "
   ]
  },
  {
   "cell_type": "markdown",
   "id": "f55638f0-83a5-4be9-94e6-29e0bde7d19a",
   "metadata": {
    "tags": []
   },
   "source": [
    "|시점|확률|학습|\n",
    "|:-:|:-:|:-:|\n",
    "|0<= t <1000 | E = {가위: 1/2, 바위: 1/2}, F = {가위: 3/4, 보: 1/4}| E = False, F = False|\n",
    "|1000<= t <2000| E = {가위: ??, 바위: ??}, F = {가위: 3/4, 보: 1/4}| E = **True**, F = False|"
   ]
  },
  {
   "cell_type": "markdown",
   "id": "1c300c36-5294-4b13-84b8-4c81349cec40",
   "metadata": {},
   "source": [
    "(풀이)"
   ]
  },
  {
   "cell_type": "code",
   "execution_count": 1322,
   "id": "d849bcdf-b006-463a-a0b0-83dec5fb9946",
   "metadata": {
    "tags": []
   },
   "outputs": [],
   "source": [
    "E=RPSlrn(['가위','바위'])\n",
    "F=RPSlrn(['가위','보'])"
   ]
  },
  {
   "cell_type": "code",
   "execution_count": 1323,
   "id": "e3310bf8-66a9-423c-8142-83eeaccbb5a1",
   "metadata": {
    "tags": []
   },
   "outputs": [],
   "source": [
    "F.prob = [2/3,1/3]"
   ]
  },
  {
   "cell_type": "code",
   "execution_count": 1324,
   "id": "182f5616-59a0-46ff-b664-253b9423564a",
   "metadata": {
    "tags": []
   },
   "outputs": [],
   "source": [
    "for t in range(1000):\n",
    "    E * F\n",
    "    E.save_reward()\n",
    "    F.save_reward()\n",
    "for t in range(1000,2000):\n",
    "    E * F\n",
    "    E.save_reward()\n",
    "    F.save_reward()\n",
    "    E.learn()"
   ]
  },
  {
   "cell_type": "code",
   "execution_count": 1325,
   "id": "2f531095-08a8-4155-b592-0f168cbf65b9",
   "metadata": {
    "tags": []
   },
   "outputs": [
    {
     "data": {
      "text/plain": [
       "낼 수 있는 패: ['가위', '바위']\n",
       "최근기록: ['가위', '가위', '바위', '가위', '바위', '가위', '바위', '바위', '가위', '바위']\n",
       "최근승패: ['승리', '무승부', '승리', '무승부', '패배', '무승부', '승리', '승리', '무승부', '패배']\n",
       "확률: {'가위': 0.5140763594292326, '바위': 0.4859236405707674}"
      ]
     },
     "execution_count": 1325,
     "metadata": {},
     "output_type": "execute_result"
    }
   ],
   "source": [
    "E"
   ]
  },
  {
   "cell_type": "code",
   "execution_count": 1326,
   "id": "e1a40c15-4e20-41d8-b934-539b94695f38",
   "metadata": {
    "tags": []
   },
   "outputs": [
    {
     "data": {
      "text/plain": [
       "낼 수 있는 패: ['가위', '보']\n",
       "최근기록: ['보', '가위', '가위', '가위', '보', '가위', '가위', '가위', '가위', '보']\n",
       "최근승패: ['패배', '무승부', '패배', '무승부', '승리', '무승부', '패배', '패배', '무승부', '승리']\n",
       "확률: {'가위': 0.6666666666666666, '보': 0.3333333333333333}"
      ]
     },
     "execution_count": 1326,
     "metadata": {},
     "output_type": "execute_result"
    }
   ],
   "source": [
    "F"
   ]
  },
  {
   "cell_type": "markdown",
   "id": "633b4f0a-8c94-4c45-9b58-e3cccf46c834",
   "metadata": {},
   "source": [
    "> E가 가위를 냈을경우 보상의 기대값은 $1\\times 2/3 + 2 \\times 1/3 = 4/3$ 이고 바위를 냈을 경우 보상의 기대값은 $2\\times 2/3 + 0 \\times 1/3 = 4/3$ 이므로 가위도 바위도 유리하지 않다. 따라서 가위와 바위를 어떠한 확률로 내든 상관없다. "
   ]
  }
 ],
 "metadata": {
  "kernelspec": {
   "display_name": "Python 3 (ipykernel)",
   "language": "python",
   "name": "python3"
  },
  "language_info": {
   "codemirror_mode": {
    "name": "ipython",
    "version": 3
   },
   "file_extension": ".py",
   "mimetype": "text/x-python",
   "name": "python",
   "nbconvert_exporter": "python",
   "pygments_lexer": "ipython3",
   "version": "3.10.13"
  }
 },
 "nbformat": 4,
 "nbformat_minor": 5
}
