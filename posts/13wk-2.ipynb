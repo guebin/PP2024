{
 "cells": [
  {
   "cell_type": "raw",
   "id": "e4cbe48e-2487-4ac8-a6a1-a28cca068b45",
   "metadata": {
    "id": "87b5cded-346b-4915-acf5-b5ec93a5207d"
   },
   "source": [
    "---\n",
    "title: \"13wk-2: 클래스 (3)\"\n",
    "author: \"최규빈\"\n",
    "date: \"05/31/2024\"\n",
    "draft: false\n",
    "---"
   ]
  },
  {
   "cell_type": "markdown",
   "id": "f9692566-4cf3-4979-a40a-4cc48a64ab06",
   "metadata": {
    "id": "e67ab8e0"
   },
   "source": [
    "<a href=\"https://colab.research.google.com/github/guebin/PP2024/blob/main/posts/13wk-2.ipynb\"><img src=\"https://colab.research.google.com/assets/colab-badge.svg\" style=\"text-align: left\"></a>"
   ]
  },
  {
   "cell_type": "markdown",
   "id": "07b00e23-7980-4e27-a834-b136a8741b39",
   "metadata": {
    "tags": []
   },
   "source": [
    "# 1. 강의영상 "
   ]
  },
  {
   "cell_type": "markdown",
   "id": "1c16852d-2149-4835-8c66-14b2e2531fad",
   "metadata": {
    "tags": []
   },
   "source": [
    "{{<video https://youtu.be/playlist?list=PLQqh36zP38-yhYjyDRkhCJb6R3GNIL-Ex&si=VMJzZ7DkVAhpY2pa >}}"
   ]
  },
  {
   "cell_type": "markdown",
   "id": "d90c9d5b-cfae-4007-92d0-4bac4edad9a1",
   "metadata": {
    "tags": []
   },
   "source": [
    "# 2. Imports "
   ]
  },
  {
   "cell_type": "code",
   "execution_count": 2,
   "id": "24fc2d12-d10c-4bcf-8ad1-ea13dae74312",
   "metadata": {
    "id": "6835093b-64a4-467c-9f96-ad622c5bef2c",
    "tags": []
   },
   "outputs": [],
   "source": [
    "import numpy as np\n",
    "import matplotlib.pyplot as plt\n",
    "import pandas as pd\n",
    "import collections"
   ]
  },
  {
   "cell_type": "markdown",
   "id": "51d8aab2-4813-42c8-9bee-af9076c6c7ec",
   "metadata": {
    "tags": []
   },
   "source": [
    "# 3. 오브젝트"
   ]
  },
  {
   "cell_type": "markdown",
   "id": "e7d27832-5756-4058-b2fc-e4060d5b74ae",
   "metadata": {
    "id": "d1aec639-a66b-4dc4-98ec-4161f60f349b"
   },
   "source": [
    "> \"파이썬의 모든 것은 오브젝트이다. 값도, 함수도, 인스턴스도, 클래스도 오브젝트이다.\" <-- 살짝 과장이지만 일단 명언처럼 외우세여"
   ]
  },
  {
   "cell_type": "markdown",
   "id": "c263f358-9c3f-4dfb-9e6d-90587c4ea897",
   "metadata": {
    "tags": []
   },
   "source": [
    "## A. 오브젝트 "
   ]
  },
  {
   "cell_type": "markdown",
   "id": "61cbce56-dc2b-4c4e-87e8-484276b5b586",
   "metadata": {
    "tags": []
   },
   "source": [
    "> 오브젝트 특징: `id(오브젝트)` 가 동작함 "
   ]
  },
  {
   "cell_type": "markdown",
   "id": "ae4552b1-11fc-47d6-814f-03d5ac64d9dd",
   "metadata": {},
   "source": [
    "`-` 예시1: 정수"
   ]
  },
  {
   "cell_type": "code",
   "execution_count": 11,
   "id": "71d5d2b1-c600-4495-a53a-0a0ea6e7b031",
   "metadata": {
    "tags": []
   },
   "outputs": [
    {
     "data": {
      "text/plain": [
       "140255027003632"
      ]
     },
     "execution_count": 11,
     "metadata": {},
     "output_type": "execute_result"
    }
   ],
   "source": [
    "a = 1 \n",
    "id(a)"
   ]
  },
  {
   "cell_type": "markdown",
   "id": "1be53369-65fb-47d9-bdf8-91a8415a4feb",
   "metadata": {},
   "source": [
    "`-` 예시2: 함수 "
   ]
  },
  {
   "cell_type": "code",
   "execution_count": 12,
   "id": "d9f54534-ebf4-47d4-ad08-9288a01a58d3",
   "metadata": {
    "tags": []
   },
   "outputs": [
    {
     "data": {
      "text/plain": [
       "140253532742576"
      ]
     },
     "execution_count": 12,
     "metadata": {},
     "output_type": "execute_result"
    }
   ],
   "source": [
    "f = lambda x: x\n",
    "id(f)"
   ]
  },
  {
   "cell_type": "markdown",
   "id": "0b368430-130c-4d91-825e-8a3ac203c63e",
   "metadata": {},
   "source": [
    "`-` 예시3: 클래스와 인스턴스 "
   ]
  },
  {
   "cell_type": "code",
   "execution_count": 20,
   "id": "b97d776f-cd39-4e25-a84c-7a2339c0af54",
   "metadata": {
    "tags": []
   },
   "outputs": [],
   "source": [
    "class RPS:\n",
    "    pass "
   ]
  },
  {
   "cell_type": "code",
   "execution_count": 500,
   "id": "bafeefaf-19bf-4b6e-aeea-ddc0a77c19ae",
   "metadata": {
    "tags": []
   },
   "outputs": [
    {
     "data": {
      "text/plain": [
       "140160021638800"
      ]
     },
     "execution_count": 500,
     "metadata": {},
     "output_type": "execute_result"
    }
   ],
   "source": [
    "a = RPS()\n",
    "id(a)"
   ]
  },
  {
   "cell_type": "code",
   "execution_count": 501,
   "id": "2f79dd88-3300-4343-b55e-a6670c9e8d38",
   "metadata": {
    "tags": []
   },
   "outputs": [
    {
     "data": {
      "text/plain": [
       "37984320"
      ]
     },
     "execution_count": 501,
     "metadata": {},
     "output_type": "execute_result"
    }
   ],
   "source": [
    "id(RPS)"
   ]
  },
  {
   "cell_type": "markdown",
   "id": "36f05ab3-aef4-4d53-92ea-ca8e82a877ba",
   "metadata": {
    "tags": []
   },
   "source": [
    "`-` 예시4: 파이썬 제공 기본클래스"
   ]
  },
  {
   "cell_type": "code",
   "execution_count": 26,
   "id": "27259307-3464-4098-bb2e-0b27b36975a0",
   "metadata": {
    "tags": []
   },
   "outputs": [
    {
     "data": {
      "text/plain": [
       "7629888"
      ]
     },
     "execution_count": 26,
     "metadata": {},
     "output_type": "execute_result"
    }
   ],
   "source": [
    "id(list)"
   ]
  },
  {
   "cell_type": "code",
   "execution_count": 27,
   "id": "4211c19e-e8c6-4000-a9e8-1745d313a7f6",
   "metadata": {
    "tags": []
   },
   "outputs": [
    {
     "data": {
      "text/plain": [
       "7593344"
      ]
     },
     "execution_count": 27,
     "metadata": {},
     "output_type": "execute_result"
    }
   ],
   "source": [
    "id(str)"
   ]
  },
  {
   "cell_type": "code",
   "execution_count": 28,
   "id": "35155e50-0f23-46ea-a0c8-5d96ca629318",
   "metadata": {
    "tags": []
   },
   "outputs": [
    {
     "data": {
      "text/plain": [
       "7626144"
      ]
     },
     "execution_count": 28,
     "metadata": {},
     "output_type": "execute_result"
    }
   ],
   "source": [
    "id(dict)"
   ]
  },
  {
   "cell_type": "markdown",
   "id": "8c434117-6ac2-46c2-995b-dd1496c641bd",
   "metadata": {},
   "source": [
    "`-` 예시5: 파이썬 기본 제공기능 "
   ]
  },
  {
   "cell_type": "code",
   "execution_count": 34,
   "id": "2f5bc44e-54ff-4505-a529-89bb1dede09e",
   "metadata": {
    "tags": []
   },
   "outputs": [
    {
     "data": {
      "text/plain": [
       "7611936"
      ]
     },
     "execution_count": 34,
     "metadata": {},
     "output_type": "execute_result"
    }
   ],
   "source": [
    "id(range)"
   ]
  },
  {
   "cell_type": "code",
   "execution_count": 35,
   "id": "84bba4d3-c18d-40a9-8328-5016e596b216",
   "metadata": {
    "tags": []
   },
   "outputs": [
    {
     "data": {
      "text/plain": [
       "140255027630608"
      ]
     },
     "execution_count": 35,
     "metadata": {},
     "output_type": "execute_result"
    }
   ],
   "source": [
    "id(len)"
   ]
  },
  {
   "cell_type": "code",
   "execution_count": 36,
   "id": "9a527bdb-8e1c-4e82-8e5d-9a147f8ce89e",
   "metadata": {
    "tags": []
   },
   "outputs": [
    {
     "data": {
      "text/plain": [
       "140255027630128"
      ]
     },
     "execution_count": 36,
     "metadata": {},
     "output_type": "execute_result"
    }
   ],
   "source": [
    "id(id)"
   ]
  },
  {
   "cell_type": "markdown",
   "id": "b91ce720-4701-4c21-928e-ee9e128d4e72",
   "metadata": {},
   "source": [
    "`-` 모듈 "
   ]
  },
  {
   "cell_type": "code",
   "execution_count": 37,
   "id": "09998934-b970-46d5-8166-1ff97aab16c8",
   "metadata": {
    "tags": []
   },
   "outputs": [
    {
     "data": {
      "text/plain": [
       "140254921103840"
      ]
     },
     "execution_count": 37,
     "metadata": {},
     "output_type": "execute_result"
    }
   ],
   "source": [
    "id(np)"
   ]
  },
  {
   "cell_type": "code",
   "execution_count": 38,
   "id": "4ed71084-e712-4ee7-95bf-f8c5c32f1e59",
   "metadata": {
    "tags": []
   },
   "outputs": [
    {
     "data": {
      "text/plain": [
       "140254237541776"
      ]
     },
     "execution_count": 38,
     "metadata": {},
     "output_type": "execute_result"
    }
   ],
   "source": [
    "id(pd)"
   ]
  },
  {
   "cell_type": "markdown",
   "id": "e761955e-c0b9-4998-b056-77fa4f6c6994",
   "metadata": {
    "tags": []
   },
   "source": [
    "## B. 오브젝트가 아님 "
   ]
  },
  {
   "cell_type": "markdown",
   "id": "96b47a4f-e87b-4e73-9ad1-5be3aa7e2f55",
   "metadata": {},
   "source": [
    "`-` 예시1: 구문"
   ]
  },
  {
   "cell_type": "code",
   "execution_count": 39,
   "id": "8e00a512-394f-4f07-9aa7-66c69ef6e05c",
   "metadata": {
    "tags": []
   },
   "outputs": [
    {
     "ename": "SyntaxError",
     "evalue": "invalid syntax (3978401784.py, line 1)",
     "output_type": "error",
     "traceback": [
      "\u001b[0;36m  Cell \u001b[0;32mIn[39], line 1\u001b[0;36m\u001b[0m\n\u001b[0;31m    id(lambda)\u001b[0m\n\u001b[0m             ^\u001b[0m\n\u001b[0;31mSyntaxError\u001b[0m\u001b[0;31m:\u001b[0m invalid syntax\n"
     ]
    }
   ],
   "source": [
    "id(lambda)"
   ]
  },
  {
   "cell_type": "code",
   "execution_count": 40,
   "id": "be8b3eba-34f8-48f6-a139-3fe03263327f",
   "metadata": {
    "tags": []
   },
   "outputs": [
    {
     "ename": "SyntaxError",
     "evalue": "invalid syntax (839197359.py, line 1)",
     "output_type": "error",
     "traceback": [
      "\u001b[0;36m  Cell \u001b[0;32mIn[40], line 1\u001b[0;36m\u001b[0m\n\u001b[0;31m    id(def)\u001b[0m\n\u001b[0m       ^\u001b[0m\n\u001b[0;31mSyntaxError\u001b[0m\u001b[0;31m:\u001b[0m invalid syntax\n"
     ]
    }
   ],
   "source": [
    "id(def)"
   ]
  },
  {
   "cell_type": "markdown",
   "id": "7493f281-f389-42d9-be2d-04a0a7866469",
   "metadata": {},
   "source": [
    "`-` 예시2: 제어구조"
   ]
  },
  {
   "cell_type": "code",
   "execution_count": 41,
   "id": "cb58cd10-c58b-4da7-b853-8c60fa041a1f",
   "metadata": {
    "tags": []
   },
   "outputs": [
    {
     "ename": "SyntaxError",
     "evalue": "invalid syntax (1172573452.py, line 1)",
     "output_type": "error",
     "traceback": [
      "\u001b[0;36m  Cell \u001b[0;32mIn[41], line 1\u001b[0;36m\u001b[0m\n\u001b[0;31m    id(for)\u001b[0m\n\u001b[0m       ^\u001b[0m\n\u001b[0;31mSyntaxError\u001b[0m\u001b[0;31m:\u001b[0m invalid syntax\n"
     ]
    }
   ],
   "source": [
    "id(for)"
   ]
  },
  {
   "cell_type": "code",
   "execution_count": 42,
   "id": "2b1740d7-d3d6-4c0b-b21e-c480d46859ba",
   "metadata": {
    "tags": []
   },
   "outputs": [
    {
     "ename": "SyntaxError",
     "evalue": "invalid syntax (2846441332.py, line 1)",
     "output_type": "error",
     "traceback": [
      "\u001b[0;36m  Cell \u001b[0;32mIn[42], line 1\u001b[0;36m\u001b[0m\n\u001b[0;31m    id(if)\u001b[0m\n\u001b[0m       ^\u001b[0m\n\u001b[0;31mSyntaxError\u001b[0m\u001b[0;31m:\u001b[0m invalid syntax\n"
     ]
    }
   ],
   "source": [
    "id(if)"
   ]
  },
  {
   "cell_type": "code",
   "execution_count": 43,
   "id": "9e3361aa-5a76-4033-a21d-f6ff540b27de",
   "metadata": {
    "tags": []
   },
   "outputs": [
    {
     "ename": "SyntaxError",
     "evalue": "invalid syntax (2390637289.py, line 1)",
     "output_type": "error",
     "traceback": [
      "\u001b[0;36m  Cell \u001b[0;32mIn[43], line 1\u001b[0;36m\u001b[0m\n\u001b[0;31m    id(while)\u001b[0m\n\u001b[0m       ^\u001b[0m\n\u001b[0;31mSyntaxError\u001b[0m\u001b[0;31m:\u001b[0m invalid syntax\n"
     ]
    }
   ],
   "source": [
    "id(while)"
   ]
  },
  {
   "cell_type": "markdown",
   "id": "cbe918b4-2631-464e-b9d1-94e56b4ae89d",
   "metadata": {
    "id": "430b3a70-9e73-4ca7-8599-7ef65b89e8b9"
   },
   "source": [
    "# 4. `__call__` $(\\star\\star\\star)$"
   ]
  },
  {
   "cell_type": "markdown",
   "id": "29b87258-b8be-4b2a-895a-61cccc459bd6",
   "metadata": {
    "id": "45e6dabe-8660-419a-97dd-350198669b86"
   },
   "source": [
    "## A. 함수도 인스턴스다"
   ]
  },
  {
   "cell_type": "markdown",
   "id": "57334aea-f5df-4d91-be29-d1179e21025d",
   "metadata": {
    "id": "78db9acc-fcb6-490c-9bd7-4842e5de4c85"
   },
   "source": [
    "`-` 다시 함수를 공부해봅시다."
   ]
  },
  {
   "cell_type": "code",
   "execution_count": 44,
   "id": "3f64b0c1-c0c9-4de2-960d-027c485fbb96",
   "metadata": {
    "id": "9d03d636-825e-4c2f-8329-749557ec3b8d",
    "tags": []
   },
   "outputs": [],
   "source": [
    "def f(x):\n",
    "    return x+1"
   ]
  },
  {
   "cell_type": "code",
   "execution_count": 45,
   "id": "cf6da91e-bd1c-4560-9a54-ad3e7b0f2d59",
   "metadata": {
    "id": "538788d7-05cd-4c34-97ea-b14745c6ed32",
    "outputId": "bb5571fa-199d-4a92-8c63-243ac84cd9f4",
    "tags": []
   },
   "outputs": [
    {
     "data": {
      "text/plain": [
       "4"
      ]
     },
     "execution_count": 45,
     "metadata": {},
     "output_type": "execute_result"
    }
   ],
   "source": [
    "f(3)"
   ]
  },
  {
   "cell_type": "markdown",
   "id": "362557c5-ce74-42ee-85f5-4846d610db0d",
   "metadata": {
    "id": "a593ca28-09e8-4f63-a38b-ffdedc880e64"
   },
   "source": [
    "`-` 함수의 사용방법?\n",
    "\n",
    "- 입력으로 변수 x를 받음 = 입력으로 인스턴스 x를 받음.\n",
    "- 출력으로 변수 x+1을 리턴 = 출력으로 인스턴스 x+1을 리턴."
   ]
  },
  {
   "cell_type": "code",
   "execution_count": 47,
   "id": "ee2532de-51d8-4eb6-8429-dab8c1e122a5",
   "metadata": {
    "tags": []
   },
   "outputs": [
    {
     "data": {
      "text/plain": [
       "4"
      ]
     },
     "execution_count": 47,
     "metadata": {},
     "output_type": "execute_result"
    }
   ],
   "source": [
    "f(3)"
   ]
  },
  {
   "cell_type": "markdown",
   "id": "d35c7f1b-e333-425d-b5f5-3462a1e331c2",
   "metadata": {
    "id": "c1e2a7bc-36d9-45f2-8388-03c5cd5b10dc"
   },
   "source": [
    "`-` 사실1: 파이썬에서 함수는 인스턴스를 입력으로 받고 인스턴스를 출력한다."
   ]
  },
  {
   "cell_type": "markdown",
   "id": "9d7024f1-3f70-477a-b643-9a2426ac0233",
   "metadata": {
    "id": "06b774c2-3214-4a32-bb59-375e02f45e58"
   },
   "source": [
    "`-` 함수의 자료형?"
   ]
  },
  {
   "cell_type": "code",
   "execution_count": 56,
   "id": "c4d65dd9-ebe6-470b-861a-89ed38f747d5",
   "metadata": {
    "id": "edaf23ef-e8aa-4d8a-8d23-151e7276d708",
    "outputId": "66ec6f01-705f-4938-d6fa-0aa1481852af",
    "tags": []
   },
   "outputs": [
    {
     "data": {
      "text/plain": [
       "\u001b[0;31mSignature:\u001b[0m \u001b[0mf\u001b[0m\u001b[0;34m(\u001b[0m\u001b[0mx\u001b[0m\u001b[0;34m)\u001b[0m\u001b[0;34m\u001b[0m\u001b[0;34m\u001b[0m\u001b[0m\n",
       "\u001b[0;31mDocstring:\u001b[0m <no docstring>\n",
       "\u001b[0;31mFile:\u001b[0m      /tmp/ipykernel_850445/1304018138.py\n",
       "\u001b[0;31mType:\u001b[0m      function"
      ]
     },
     "metadata": {},
     "output_type": "display_data"
    }
   ],
   "source": [
    "?f"
   ]
  },
  {
   "cell_type": "markdown",
   "id": "ae2398da-be55-4004-aca9-69246c0dae0f",
   "metadata": {
    "id": "d0fd9324-7cb6-4f71-b2f4-51b08789b0fd"
   },
   "source": [
    "- type이 function이다.\n",
    "- f는 function class의 instance이다.\n",
    "- 결국 f 역시 하나의 오브젝트에 불과하다."
   ]
  },
  {
   "cell_type": "markdown",
   "id": "c6c24baf-6367-46b5-a98d-7945dceaae97",
   "metadata": {
    "id": "3ab7d4d2-87f0-4e17-9f4b-301a82372e4a"
   },
   "source": [
    "`-` 사실2: 함수도 결국 인스턴스이다. -> 함수의 입력으로 함수를 쓸 수도 있고 함수의 출력으로 함수가 나올 수도 있다."
   ]
  },
  {
   "cell_type": "markdown",
   "id": "095ea7f7-054f-453f-90c5-d09d771d00f8",
   "metadata": {
    "id": "aab4803c-0648-4e3f-b313-7309ea02432d"
   },
   "source": [
    "## B. 함수사용 고급"
   ]
  },
  {
   "cell_type": "markdown",
   "id": "0d955858-ed66-45d5-8956-a99bce364647",
   "metadata": {
    "id": "4d400d00-280d-429b-aabf-904e18ed6b8c"
   },
   "source": [
    "`# 예제1` -- 숫자입력, 함수출력"
   ]
  },
  {
   "cell_type": "code",
   "execution_count": 63,
   "id": "6d6c9794-5bd1-4af3-9f13-6fbcfd25988c",
   "metadata": {
    "id": "86c3359b-a335-4bc7-8305-3b2e3b6a2d86",
    "tags": []
   },
   "outputs": [],
   "source": [
    "def f(a):\n",
    "    def g(x):\n",
    "        return (x-a)**2\n",
    "    return g"
   ]
  },
  {
   "cell_type": "code",
   "execution_count": 61,
   "id": "95503ff3-aa03-41d7-8381-30fafe5f5791",
   "metadata": {
    "id": "061f6d6d-c2f9-4d7a-8d0d-bb4c1713b876",
    "tags": []
   },
   "outputs": [],
   "source": [
    "g=f(10) # g(x)=(x-10)**2"
   ]
  },
  {
   "cell_type": "code",
   "execution_count": 62,
   "id": "0dfa3ec2-ada7-4a10-b20a-ac3860ef8d6e",
   "metadata": {
    "id": "9a907484-d7c5-4034-bc6b-df889aab1ed3",
    "outputId": "46ed08be-f84b-4a71-866f-3df145404aba",
    "tags": []
   },
   "outputs": [
    {
     "data": {
      "text/plain": [
       "64"
      ]
     },
     "execution_count": 62,
     "metadata": {},
     "output_type": "execute_result"
    }
   ],
   "source": [
    "g(2) # (2-10)**2 = 64"
   ]
  },
  {
   "cell_type": "markdown",
   "id": "6277e554-6108-48e2-8c68-1461be1c07bd",
   "metadata": {
    "id": "718bbf0b-b493-4beb-a0b8-25c7a8812dcb"
   },
   "source": [
    "- 해석: $f(a)$는 $a$를 입력으로 받고 $g(x)=(x-a)^2$라는 함수를 리턴해주는 함수"
   ]
  },
  {
   "cell_type": "markdown",
   "id": "c4a18e9c-c106-4ced-a48f-b8c0880ee522",
   "metadata": {},
   "source": [
    "> 아니 무슨 함수를 \"값처럼\" 취급해서 리턴하네??"
   ]
  },
  {
   "cell_type": "markdown",
   "id": "d21346eb-722c-441b-8449-e291d19404c1",
   "metadata": {
    "id": "b146724a-a7a8-4bd4-a66d-8939a2996b6a"
   },
   "source": [
    "**lambda를 이용한 표현1**"
   ]
  },
  {
   "cell_type": "code",
   "execution_count": 78,
   "id": "f22181c3-3fe3-419a-98d2-357667e2c1e4",
   "metadata": {
    "id": "592d674c-07e6-4c08-ba1f-9aa901e8dc26",
    "tags": []
   },
   "outputs": [],
   "source": [
    "def f(a):\n",
    "    g = lambda x: (x-a)**2 ### lambda x: (x-a)**2 가 실행되는 순간 함수오브젝트가 만들어지고 그것이 g 로 저장됨\n",
    "    return g"
   ]
  },
  {
   "cell_type": "code",
   "execution_count": 65,
   "id": "f8327fcb-e11f-415e-9f33-c7267c954afe",
   "metadata": {
    "id": "5d588bba-75cd-489b-a18f-801f64ab7b4d",
    "tags": []
   },
   "outputs": [],
   "source": [
    "g = f(10) # g(x)=(x-10)**2"
   ]
  },
  {
   "cell_type": "code",
   "execution_count": 66,
   "id": "a14193b9-b7c8-47d7-8bec-735395b68b96",
   "metadata": {
    "id": "15fbaf2a-b022-46f4-9202-c629a83efe1d",
    "outputId": "edfa99ae-4d3e-4ae0-cc7b-ba1090ca75b8",
    "tags": []
   },
   "outputs": [
    {
     "data": {
      "text/plain": [
       "49"
      ]
     },
     "execution_count": 66,
     "metadata": {},
     "output_type": "execute_result"
    }
   ],
   "source": [
    "g(3) # (3-10)**2 = 49"
   ]
  },
  {
   "cell_type": "markdown",
   "id": "15f6f551-e798-4fa0-968b-7bfaf942c22f",
   "metadata": {
    "id": "55019025-d354-4acf-97b4-bae51fa39f22"
   },
   "source": [
    "**lambda를 이용한 표현2**"
   ]
  },
  {
   "cell_type": "code",
   "execution_count": 68,
   "id": "c686a528-2344-4777-b6b9-527e7c33cfe8",
   "metadata": {
    "id": "2f14809d-bcce-4380-86f0-5598eab20e24",
    "tags": []
   },
   "outputs": [],
   "source": [
    "def f(a):\n",
    "    return lambda x: (x-a)**2"
   ]
  },
  {
   "cell_type": "code",
   "execution_count": 69,
   "id": "45b26695-1f0e-4c8c-98ba-4e7995038dab",
   "metadata": {
    "id": "4ffa1e83-c055-4f35-b384-41a06a3ec068",
    "tags": []
   },
   "outputs": [],
   "source": [
    "g=f(10) # g(x)=(x-10)**2"
   ]
  },
  {
   "cell_type": "code",
   "execution_count": 70,
   "id": "218514bd-c6f9-49d1-a89c-5774e19c55bd",
   "metadata": {
    "id": "4ec2204e-c1c2-4b92-970b-d4ba9058c2db",
    "outputId": "785363c6-2d62-427a-ceb7-8389e7d88ba9",
    "tags": []
   },
   "outputs": [
    {
     "data": {
      "text/plain": [
       "49"
      ]
     },
     "execution_count": 70,
     "metadata": {},
     "output_type": "execute_result"
    }
   ],
   "source": [
    "g(3) # (3-10)**2 = 49"
   ]
  },
  {
   "cell_type": "markdown",
   "id": "451bcdb6-3cc0-4f03-a13f-a80952129a97",
   "metadata": {
    "tags": []
   },
   "source": [
    "`#`"
   ]
  },
  {
   "cell_type": "markdown",
   "id": "47b9ac0a-acd1-4fd5-8753-8fa596e89778",
   "metadata": {
    "id": "1ddb1620-2abb-476e-b745-2131514ac7a1"
   },
   "source": [
    "`# 예제2` -- 함수와 숫자를 입력으로, 숫자출력으로"
   ]
  },
  {
   "cell_type": "code",
   "execution_count": 521,
   "id": "2d33321f-5ea5-494c-8fd9-c009c3bcd23b",
   "metadata": {
    "id": "d03a9268-2614-4fbb-97b5-c71a77f6ebca",
    "tags": []
   },
   "outputs": [],
   "source": [
    "def slope(f,x): # 함수를 입력을 받는 함수를 정의\n",
    "    h=0.000000000001\n",
    "    return (f(x+h)-f(x))/h"
   ]
  },
  {
   "cell_type": "code",
   "execution_count": 91,
   "id": "ce02f9ab-ac65-40fe-b43d-819630ba613e",
   "metadata": {
    "id": "741f03aa-92f6-4249-b303-8859429a6c75",
    "outputId": "7577b3ab-5ac3-498a-ac04-17d3ba61a994",
    "tags": []
   },
   "outputs": [
    {
     "data": {
      "text/plain": [
       "10.999999844329977"
      ]
     },
     "execution_count": 91,
     "metadata": {},
     "output_type": "execute_result"
    }
   ],
   "source": [
    "slope(f,4) # f'(4) = 2*4 = 8"
   ]
  },
  {
   "cell_type": "markdown",
   "id": "9a8de7dd-59e5-487a-bbc9-6654d79a219d",
   "metadata": {},
   "source": [
    "`#`"
   ]
  },
  {
   "cell_type": "markdown",
   "id": "6af5f169-f26d-4168-8d2b-a1b9154b5694",
   "metadata": {
    "id": "90306ccc-72a8-4954-9855-25e77a19a20b"
   },
   "source": [
    "`# 예제3` -- 함수입력, 함수출력"
   ]
  },
  {
   "cell_type": "code",
   "execution_count": 141,
   "id": "b318f978-7c76-4500-bd36-afdd425469d9",
   "metadata": {
    "id": "bd2a874a-b00c-49c9-ad16-9d64370ae733",
    "tags": []
   },
   "outputs": [],
   "source": [
    "def derivate(f):\n",
    "    h = 0.000000000001\n",
    "    ff = lambda x: (f(x+h)-f(x))/h\n",
    "    return ff"
   ]
  },
  {
   "cell_type": "code",
   "execution_count": 142,
   "id": "14d271bb-16c9-4353-a3ea-f5f6aa244b5d",
   "metadata": {
    "id": "1e68d532-5728-4554-9bd1-b3cdb066bdc9",
    "tags": []
   },
   "outputs": [],
   "source": [
    "f = lambda x: x**2 # f(x) = x^2\n",
    "ff = derivate(f) # ff(x) = 2x"
   ]
  },
  {
   "cell_type": "code",
   "execution_count": 143,
   "id": "9653ec82-8096-47fe-8d8b-ad6b1e346680",
   "metadata": {
    "id": "e35736c0-bf01-40cb-b34c-44aa996f9b72",
    "outputId": "c0946ac1-61c6-4e32-81e0-79485a00b184",
    "tags": []
   },
   "outputs": [
    {
     "data": {
      "text/plain": [
       "14.004797321831575"
      ]
     },
     "execution_count": 143,
     "metadata": {},
     "output_type": "execute_result"
    }
   ],
   "source": [
    "ff(7) # ff는 f의 도함수 그자체"
   ]
  },
  {
   "cell_type": "markdown",
   "id": "366e5b60-4922-48a7-a179-a52e27ee23f8",
   "metadata": {
    "id": "9f1b849a-11e6-489a-af64-29ba9700b258"
   },
   "source": [
    "**원래함수 시각화**"
   ]
  },
  {
   "cell_type": "code",
   "execution_count": 144,
   "id": "bebce495-6a93-4fe6-8ef1-cd85892ab508",
   "metadata": {
    "id": "36319018-a9f5-4cb0-b376-6abb7fdf50f5",
    "outputId": "edc6f136-efb4-407a-e9fb-ab22e39fec03",
    "tags": []
   },
   "outputs": [
    {
     "data": {
      "text/plain": [
       "[<matplotlib.lines.Line2D at 0x7f8f4ece0610>]"
      ]
     },
     "execution_count": 144,
     "metadata": {},
     "output_type": "execute_result"
    },
    {
     "data": {
      "image/png": "[encoded data removed]",
      "text/plain": [
       "<Figure size 640x480 with 1 Axes>"
      ]
     },
     "metadata": {},
     "output_type": "display_data"
    }
   ],
   "source": [
    "x = np.linspace(-1,1,100)\n",
    "f = lambda x: x**2\n",
    "plt.plot(x,f(x))"
   ]
  },
  {
   "cell_type": "markdown",
   "id": "456bf3cb-7d5f-4684-9405-a496edd299ae",
   "metadata": {
    "id": "7fa4d5f8-474e-48ce-8a1b-8992fdedf06e"
   },
   "source": [
    "**도함수 시각화**"
   ]
  },
  {
   "cell_type": "code",
   "execution_count": 145,
   "id": "ebdf5262-355d-4cb9-84e5-67362f7004f3",
   "metadata": {
    "id": "cd3de78e-4e12-43d1-94d1-b88140718a28",
    "outputId": "b037aca1-140b-487e-cfbc-1384caf8568f",
    "tags": []
   },
   "outputs": [
    {
     "data": {
      "text/plain": [
       "<matplotlib.legend.Legend at 0x7f8f4f077400>"
      ]
     },
     "execution_count": 145,
     "metadata": {},
     "output_type": "execute_result"
    },
    {
     "data": {
      "image/png": "[encoded data removed]",
      "text/plain": [
       "<Figure size 640x480 with 1 Axes>"
      ]
     },
     "metadata": {},
     "output_type": "display_data"
    }
   ],
   "source": [
    "x = np.linspace(-1,1,100)\n",
    "f = lambda x: x**2\n",
    "ff = derivate(f)\n",
    "plt.plot(x,f(x),label=r'$f(x)=x^2$')\n",
    "plt.plot(x,ff(x),label=r'$ff(x)=2x$')\n",
    "plt.legend()"
   ]
  },
  {
   "cell_type": "markdown",
   "id": "e6ba6389-88b0-4fff-b66d-bdb5eb0d1f5c",
   "metadata": {},
   "source": [
    "`#`"
   ]
  },
  {
   "cell_type": "markdown",
   "id": "2425fb75-90d4-4b41-8dcc-4d5e78e1843e",
   "metadata": {
    "id": "78f1810f-7f04-4ab7-b1b9-d0ace26a9290"
   },
   "source": [
    "`# 예제4` -- 함수들의 리스트"
   ]
  },
  {
   "cell_type": "code",
   "execution_count": 159,
   "id": "dfe5def6-182a-40d7-a800-740aba04b9e8",
   "metadata": {
    "id": "32b3ba28-164e-44a2-aacf-affaac0d1f36",
    "outputId": "de6efcbe-75da-480d-9f0e-c0568c28b89b",
    "tags": []
   },
   "outputs": [],
   "source": [
    "f_list = [lambda x: x**2, lambda x: np.cos(5*x)]"
   ]
  },
  {
   "cell_type": "code",
   "execution_count": 163,
   "id": "3be4784a-9a26-4844-ab0f-3cd8dfef90a6",
   "metadata": {
    "id": "d68cac9d-37d8-40a8-8f4f-9a23c1222b56",
    "outputId": "d78a5820-f4f7-44e3-c688-35dee352668e",
    "tags": []
   },
   "outputs": [
    {
     "data": {
      "image/png": "[encoded data removed]",
      "text/plain": [
       "<Figure size 640x480 with 1 Axes>"
      ]
     },
     "metadata": {},
     "output_type": "display_data"
    }
   ],
   "source": [
    "x = np.linspace(0,1,100)\n",
    "for f in f_list: \n",
    "    plt.plot(x,f(x),'--')"
   ]
  },
  {
   "cell_type": "code",
   "execution_count": 169,
   "id": "b658b51a-e2ba-40ad-8b8f-d2580dbe0984",
   "metadata": {
    "tags": []
   },
   "outputs": [],
   "source": [
    "ff_list = list(map(derivate,f_list))"
   ]
  },
  {
   "cell_type": "code",
   "execution_count": 170,
   "id": "129f5475-a70f-4048-9273-415e7bcd426b",
   "metadata": {
    "tags": []
   },
   "outputs": [
    {
     "data": {
      "image/png": "[encoded data removed]",
      "text/plain": [
       "<Figure size 640x480 with 1 Axes>"
      ]
     },
     "metadata": {},
     "output_type": "display_data"
    }
   ],
   "source": [
    "x = np.linspace(0,1,100)\n",
    "for ff in ff_list: \n",
    "    plt.plot(x,ff(x),'--')"
   ]
  },
  {
   "cell_type": "markdown",
   "id": "d4d310f2-5633-4a13-8052-d98bb5656ddd",
   "metadata": {},
   "source": [
    "`#`"
   ]
  },
  {
   "cell_type": "markdown",
   "id": "16638905-6c49-4029-b97d-05c3188f11db",
   "metadata": {
    "id": "d02de560-5216-42a5-bac3-0c8f7f3585dd"
   },
   "source": [
    "## C. 정리"
   ]
  },
  {
   "cell_type": "markdown",
   "id": "beaa3e8b-bbf0-45d4-8de2-ce6f04abfd1d",
   "metadata": {
    "id": "a1badeb7-c7dc-48cc-a642-05a217140e22"
   },
   "source": [
    "`-` 지금까지 개념\n",
    "\n",
    "- 함수: 변수를 입력으로 받아서 변수를 출력하는 개념\n",
    "- 변수: 어떠한 값을 저장하는 용도로 쓰거나 함수의 입력 혹은 출력으로 사용함"
   ]
  },
  {
   "cell_type": "markdown",
   "id": "59ce66aa-3d83-400b-810a-ef0128fccaa0",
   "metadata": {
    "id": "08be2884-d748-4e39-9640-9c7c6a0ec61f"
   },
   "source": [
    "`-` R과 구별되는 파이썬의 독특한 테크닉 (부제: 파이썬에서 함수를 잘 쓰려면?)\n",
    "\n",
    "- 변수든 함수이든 둘다 인스턴스임. (즉 어떠한 클래스에서 찍힌 똑같은 오브젝트라는 의미)\n",
    "- 변수를 함수처럼: 메소드 `lst.append(1)`은 마치 `append(lst,1)`와 같은 함수로 쓸 수 있음\n",
    "- 함수를 변수처럼($\\star$): 함수자체를 함수의 입력으로 혹은 출력으로 쓸 수도 있음. 함수를 특정 값처럼 생각해서 함수들의 list를 만들 수도 있다."
   ]
  },
  {
   "cell_type": "markdown",
   "id": "7a07e9cf-4eb0-447b-b978-68e53b91da33",
   "metadata": {
    "id": "fe5a8055-2917-4865-95ab-e37e02a586b4"
   },
   "source": [
    "## D. callable object"
   ]
  },
  {
   "cell_type": "markdown",
   "id": "f4ea0b81-0f95-4904-8322-4924ce144e31",
   "metadata": {
    "id": "79b503bc-4677-4c04-9ccd-99590534e30d"
   },
   "source": [
    "`-` 함수 오브젝트의 비밀?"
   ]
  },
  {
   "cell_type": "code",
   "execution_count": 198,
   "id": "e13c0122-af8b-4f5a-93b1-eec4f423959e",
   "metadata": {
    "id": "28345165-d190-41e3-ba75-4b8e655f7a07",
    "tags": []
   },
   "outputs": [],
   "source": [
    "f = lambda x: x+1"
   ]
  },
  {
   "cell_type": "code",
   "execution_count": 203,
   "id": "2e7d013f-faa2-49ea-8a7d-0ce032ca5ddb",
   "metadata": {
    "tags": []
   },
   "outputs": [
    {
     "data": {
      "text/plain": [
       "101"
      ]
     },
     "execution_count": 203,
     "metadata": {},
     "output_type": "execute_result"
    }
   ],
   "source": [
    "f(100) # 이게 왜 가능하지? "
   ]
  },
  {
   "cell_type": "code",
   "execution_count": 205,
   "id": "78c452d5-ad33-4d5b-aaf8-20e8434a1bad",
   "metadata": {
    "tags": []
   },
   "outputs": [
    {
     "data": {
      "text/plain": [
       "101"
      ]
     },
     "execution_count": 205,
     "metadata": {},
     "output_type": "execute_result"
    }
   ],
   "source": [
    "f.__call__(100) # f(100)"
   ]
  },
  {
   "cell_type": "code",
   "execution_count": 214,
   "id": "133fdc17-0932-459b-9eed-a5fc92d6ed0c",
   "metadata": {
    "id": "a3ea028e-87f4-4d7b-baca-7f54bfca2f97",
    "outputId": "1c17f21c-5e8e-4567-8768-76c6a2447efc",
    "tags": []
   },
   "outputs": [
    {
     "data": {
      "text/plain": [
       "{'__call__'}"
      ]
     },
     "execution_count": 214,
     "metadata": {},
     "output_type": "execute_result"
    }
   ],
   "source": [
    "set(dir(f)) & {'__call__'}"
   ]
  },
  {
   "cell_type": "markdown",
   "id": "98f6f03a-022d-40b7-9819-2b6ada9315c4",
   "metadata": {
    "id": "9198e26e-e6d6-4173-8530-472f0d7c31d2"
   },
   "source": [
    "- 함수 오브젝트에는 숨겨진 기능 `__call__`이 있다."
   ]
  },
  {
   "cell_type": "code",
   "execution_count": 188,
   "id": "68849a67-b325-4bba-922e-87897c14d2ce",
   "metadata": {
    "id": "63c53c50-b029-4ec2-8e30-1568d6ee18dd",
    "outputId": "82346289-eb7f-4001-c45a-d8cb3f4ac2df",
    "tags": []
   },
   "outputs": [
    {
     "data": {
      "text/plain": [
       "4"
      ]
     },
     "execution_count": 188,
     "metadata": {},
     "output_type": "execute_result"
    }
   ],
   "source": [
    "f.__call__(3) # f(3)"
   ]
  },
  {
   "cell_type": "code",
   "execution_count": 189,
   "id": "bf0a31c3-9b20-4d02-a63d-bfd337e443a7",
   "metadata": {
    "id": "67f265c0-4988-43fa-8ad6-81bca5b86e79",
    "outputId": "fd30ef66-be33-43b2-e4c8-92c54ee7756e",
    "tags": []
   },
   "outputs": [
    {
     "data": {
      "text/plain": [
       "5"
      ]
     },
     "execution_count": 189,
     "metadata": {},
     "output_type": "execute_result"
    }
   ],
   "source": [
    "f.__call__(4) # f(4)"
   ]
  },
  {
   "cell_type": "markdown",
   "id": "54062ce5-07a4-4655-a218-5c52f709ec84",
   "metadata": {
    "id": "2f26944a-b680-4a5c-a2c0-8bf0eba2fd4a"
   },
   "source": [
    "- 여기에 우리가 정의한 내용이 있다."
   ]
  },
  {
   "cell_type": "markdown",
   "id": "7dc7309f-128d-4cca-8f12-eaf982dff088",
   "metadata": {
    "id": "defc38cd-6ec9-4ce9-b954-0d5b1390aa5a"
   },
   "source": [
    "`-` 함수처럼 쓸 수 없는 인스턴스는 단지 `__call__`이 없는 것일 뿐이다."
   ]
  },
  {
   "cell_type": "code",
   "execution_count": 216,
   "id": "0b5e8b67-f18b-4f95-adf7-18b5b8a91af4",
   "metadata": {
    "id": "e1a769e6-39d6-4c29-bc97-61841620d293",
    "tags": []
   },
   "outputs": [],
   "source": [
    "class Guebin:\n",
    "    def __init__(self):\n",
    "        self.name = 'guebin'"
   ]
  },
  {
   "cell_type": "code",
   "execution_count": 217,
   "id": "4bb76e92-c89b-461b-ba65-0f66a2f5125c",
   "metadata": {
    "id": "308eccd8-93e5-45c3-aee0-85d7f8496213",
    "tags": []
   },
   "outputs": [],
   "source": [
    "a = Guebin()"
   ]
  },
  {
   "cell_type": "code",
   "execution_count": 221,
   "id": "ef3e7e83-47fd-45e8-9607-36c5db446b01",
   "metadata": {
    "id": "0a4c3678-d47d-454e-b452-17404e5c0d20",
    "outputId": "dc0f5f87-6e97-403b-c951-9702963cf680",
    "tags": []
   },
   "outputs": [
    {
     "ename": "TypeError",
     "evalue": "'Guebin' object is not callable",
     "output_type": "error",
     "traceback": [
      "\u001b[0;31m---------------------------------------------------------------------------\u001b[0m",
      "\u001b[0;31mTypeError\u001b[0m                                 Traceback (most recent call last)",
      "Cell \u001b[0;32mIn[221], line 1\u001b[0m\n\u001b[0;32m----> 1\u001b[0m \u001b[43ma\u001b[49m\u001b[43m(\u001b[49m\u001b[43m)\u001b[49m\n",
      "\u001b[0;31mTypeError\u001b[0m: 'Guebin' object is not callable"
     ]
    }
   ],
   "source": [
    "a()"
   ]
  },
  {
   "cell_type": "markdown",
   "id": "45cde28b-8930-4a28-9b83-08d043292cd4",
   "metadata": {
    "id": "2152df95-3b84-4500-9af0-5e3efef47d11"
   },
   "source": [
    "- callable이 아니라고 한다."
   ]
  },
  {
   "cell_type": "code",
   "execution_count": 224,
   "id": "dc0167c3-6916-45e5-abc7-c1e802da0107",
   "metadata": {
    "id": "44121865-7d2a-4dc2-83a6-2beba8c23b02",
    "tags": []
   },
   "outputs": [],
   "source": [
    "class Guebin2:\n",
    "    def __init__(self):\n",
    "        self.name = 'guebin'    \n",
    "    def __call__(self):\n",
    "        print(self.name)"
   ]
  },
  {
   "cell_type": "code",
   "execution_count": 225,
   "id": "9abe5472-5de7-41fa-9e86-10560fad7ae8",
   "metadata": {
    "id": "86c434c1-ff63-4f18-a060-40bdab7461d5",
    "tags": []
   },
   "outputs": [],
   "source": [
    "b = Guebin2()"
   ]
  },
  {
   "cell_type": "code",
   "execution_count": 226,
   "id": "cc870e23-a3a8-4fc0-8373-42cb2ff39262",
   "metadata": {
    "id": "73400640-4ea5-4648-b032-b02107ec4f2d",
    "outputId": "64356ed3-7b81-4f96-c7d1-2ecbceb6ea92",
    "tags": []
   },
   "outputs": [
    {
     "name": "stdout",
     "output_type": "stream",
     "text": [
      "guebin\n"
     ]
    }
   ],
   "source": [
    "b()"
   ]
  },
  {
   "cell_type": "markdown",
   "id": "5cb13b00-805d-487d-81ce-c8b76c4eeebb",
   "metadata": {
    "id": "7752063f-5f52-4c78-a904-4c132398d7d5"
   },
   "source": [
    "- b는 callable object! 즉 숨겨진 메서드로 `__call__`를 가진 오브젝트!\n",
    "- `Guebin`는 callable object를 만들지 못하지만 `Guebin2`는 callable object를 만든다."
   ]
  },
  {
   "cell_type": "markdown",
   "id": "1f576269-1fe0-4eae-8ce1-d8830bcc3556",
   "metadata": {
    "id": "e6582806-250b-4aac-8155-7126548f1f49"
   },
   "source": [
    "> 파이썬의 비밀: `f()`와 같이 쓸 수 있는 오브젝트는 단지 `__call__` 이 정의되어있는 오브젝트일 뿐이다."
   ]
  },
  {
   "cell_type": "markdown",
   "id": "b0fc76e3-eb99-49ef-860a-8aa46443c61c",
   "metadata": {},
   "source": [
    "`-` callable 을 체크하는 방법 "
   ]
  },
  {
   "cell_type": "code",
   "execution_count": 227,
   "id": "faee57b1-a02d-4b10-86a6-522a35bb452b",
   "metadata": {
    "tags": []
   },
   "outputs": [
    {
     "data": {
      "text/plain": [
       "{'__call__'}"
      ]
     },
     "execution_count": 227,
     "metadata": {},
     "output_type": "execute_result"
    }
   ],
   "source": [
    "set(dir(b)) & {'__call__'}"
   ]
  },
  {
   "cell_type": "code",
   "execution_count": 229,
   "id": "190c8356-cfe9-4ad7-881b-960eedaed790",
   "metadata": {
    "tags": []
   },
   "outputs": [
    {
     "data": {
      "text/plain": [
       "False"
      ]
     },
     "execution_count": 229,
     "metadata": {},
     "output_type": "execute_result"
    }
   ],
   "source": [
    "isinstance(a,collections.abc.Callable)"
   ]
  },
  {
   "cell_type": "code",
   "execution_count": 230,
   "id": "57c9e8a9-733f-4572-8429-149cdfbfb28f",
   "metadata": {
    "tags": []
   },
   "outputs": [
    {
     "data": {
      "text/plain": [
       "True"
      ]
     },
     "execution_count": 230,
     "metadata": {},
     "output_type": "execute_result"
    }
   ],
   "source": [
    "isinstance(b,collections.abc.Callable)"
   ]
  },
  {
   "cell_type": "markdown",
   "id": "b1eb5f9f-0660-41c6-a7ec-665c77b797d8",
   "metadata": {
    "id": "17057103-7f2a-4364-a3de-5babce342384"
   },
   "source": [
    "# 5. `__iter__` ($\\star\\star\\star\\star\\star$)"
   ]
  },
  {
   "cell_type": "markdown",
   "id": "e673007f-b640-405d-8673-f9c1b0d5949f",
   "metadata": {
    "id": "1c02135c-8e12-4d1d-8c74-318c3c7578c0"
   },
   "source": [
    "## A. for문의 복습"
   ]
  },
  {
   "cell_type": "markdown",
   "id": "aba8a36a-8485-4772-9be7-2bc2304c4757",
   "metadata": {
    "id": "b17830eb-2274-4cca-9e76-18dff8f82a81"
   },
   "source": [
    "`-` 아래와 같은 예제들을 관찰하여 for문을 복습하자."
   ]
  },
  {
   "cell_type": "markdown",
   "id": "6ebf503d-51be-423b-bca3-71167f996cd8",
   "metadata": {
    "id": "94ff98b4-bcf8-48ed-9078-77b42825b17f"
   },
   "source": [
    "`# 예시1` --  `[1,2,3,4]`"
   ]
  },
  {
   "cell_type": "code",
   "execution_count": 317,
   "id": "ed0f75f2-97e8-4c2b-81c7-ab58288abf71",
   "metadata": {
    "id": "c3515406-eb8d-4246-a099-5bb57d4829cc",
    "outputId": "c483f534-7c74-4ce7-a330-1949ef42759e",
    "tags": []
   },
   "outputs": [
    {
     "name": "stdout",
     "output_type": "stream",
     "text": [
      "1 <class 'int'>\n",
      "2 <class 'int'>\n",
      "3 <class 'int'>\n",
      "4 <class 'int'>\n"
     ]
    }
   ],
   "source": [
    "for i in [1,2,3,4]:\n",
    "    print(i,type(i))"
   ]
  },
  {
   "cell_type": "markdown",
   "id": "bff0b58b-627a-49d5-921e-8d36e02fc18a",
   "metadata": {},
   "source": [
    "`#`"
   ]
  },
  {
   "cell_type": "markdown",
   "id": "53342ca2-0bb6-4ee1-96f0-978f51aa59b6",
   "metadata": {
    "id": "63e7b680-3b55-48fb-9f39-b8185eed2f42"
   },
   "source": [
    "`# 예시2` -- `(1,2,3,4)`"
   ]
  },
  {
   "cell_type": "code",
   "execution_count": 316,
   "id": "560dcae1-e77d-4243-83e5-f2e701c47ef8",
   "metadata": {
    "id": "d7674f54-6283-4c1a-9b12-17dde6a6ec1c",
    "outputId": "353dc292-b1f3-4aeb-b077-bf5ec6ffe64e",
    "tags": []
   },
   "outputs": [
    {
     "name": "stdout",
     "output_type": "stream",
     "text": [
      "1 <class 'int'>\n",
      "2 <class 'int'>\n",
      "3 <class 'int'>\n",
      "4 <class 'int'>\n"
     ]
    }
   ],
   "source": [
    "for i in (1,2,3,4):\n",
    "    print(i,type(i))"
   ]
  },
  {
   "cell_type": "markdown",
   "id": "8b685bda-5a23-483a-9a05-ce028ac79863",
   "metadata": {},
   "source": [
    "`#`"
   ]
  },
  {
   "cell_type": "markdown",
   "id": "94728d14-12bb-4c2f-b9b6-272f6aeba85c",
   "metadata": {
    "id": "fead96ba-62ce-4a8a-86ee-72901c019091"
   },
   "source": [
    "`# 예시3` -- `'1234'`"
   ]
  },
  {
   "cell_type": "code",
   "execution_count": 315,
   "id": "77ba8e3c-8567-44f4-af67-bc1597fee2c7",
   "metadata": {
    "id": "0666f79a-6857-4318-a907-454d1f55b7a6",
    "outputId": "bc95a1c3-ed43-4387-c46b-012f323b0e77",
    "tags": []
   },
   "outputs": [
    {
     "name": "stdout",
     "output_type": "stream",
     "text": [
      "1 <class 'str'>\n",
      "2 <class 'str'>\n",
      "3 <class 'str'>\n",
      "4 <class 'str'>\n"
     ]
    }
   ],
   "source": [
    "for i in '1234':\n",
    "    print(i,type(i))"
   ]
  },
  {
   "cell_type": "markdown",
   "id": "69111aad-4af5-4120-ba89-1f2ead56ab85",
   "metadata": {
    "tags": []
   },
   "source": [
    "`#`"
   ]
  },
  {
   "cell_type": "markdown",
   "id": "07332ec6-938b-4892-9d6f-5e45a5e02de2",
   "metadata": {
    "id": "da64825d-245b-4b7a-99ec-7b89d2ffa96b"
   },
   "source": [
    "`# 예시4` -- `5`"
   ]
  },
  {
   "cell_type": "code",
   "execution_count": 322,
   "id": "5d9cfc43-3b29-48fd-8186-7bc519eb13b6",
   "metadata": {
    "id": "d099e8e7-feda-43db-a439-6a628e04e450",
    "outputId": "7331065e-f475-4dea-94f3-9c44682f8033",
    "tags": []
   },
   "outputs": [
    {
     "ename": "TypeError",
     "evalue": "'int' object is not iterable",
     "output_type": "error",
     "traceback": [
      "\u001b[0;31m---------------------------------------------------------------------------\u001b[0m",
      "\u001b[0;31mTypeError\u001b[0m                                 Traceback (most recent call last)",
      "Cell \u001b[0;32mIn[322], line 1\u001b[0m\n\u001b[0;32m----> 1\u001b[0m \u001b[38;5;28;01mfor\u001b[39;00m i \u001b[38;5;129;01min\u001b[39;00m \u001b[38;5;241m5\u001b[39m:\n\u001b[1;32m      2\u001b[0m     \u001b[38;5;28mprint\u001b[39m(i,\u001b[38;5;28mtype\u001b[39m(i))\n",
      "\u001b[0;31mTypeError\u001b[0m: 'int' object is not iterable"
     ]
    }
   ],
   "source": [
    "for i in 5:\n",
    "    print(i,type(i))"
   ]
  },
  {
   "cell_type": "markdown",
   "id": "c288fbee-a855-439d-a0ec-cd3b20dccfa3",
   "metadata": {
    "tags": []
   },
   "source": [
    "- 5가 출력되는게 합리적이지 않나? "
   ]
  },
  {
   "cell_type": "markdown",
   "id": "2beb33ea-b0e0-4136-8650-f4fcf0562088",
   "metadata": {
    "id": "67214327-1e4a-453b-a32c-dae38e918b25"
   },
   "source": [
    "`-` 의문1:\n",
    "\n",
    "```python\n",
    "for i in ???:\n",
    "    print(i)\n",
    "```\n",
    "\n",
    "에서 ??? 자리에 올수 있는 것이 무엇일까?"
   ]
  },
  {
   "cell_type": "markdown",
   "id": "3bc1c319-8ec1-4a46-ad0b-73a3a335d1a3",
   "metadata": {},
   "source": [
    "`#`"
   ]
  },
  {
   "cell_type": "markdown",
   "id": "738534d0-728e-4dcb-93ff-e8cda8587e21",
   "metadata": {
    "id": "42f0e9ac-0f0b-4781-bfc3-cd0abdc9be80"
   },
   "source": [
    "`# 예시5` -- `[[1,2,3,4],[3,4,5,6]]`, `pd.DataFrame([[1,2,3,4],[3,4,5,6]])`"
   ]
  },
  {
   "cell_type": "code",
   "execution_count": 324,
   "id": "9658047e-90b7-4fa1-8fab-bb50ec9379f8",
   "metadata": {
    "id": "e4d7419c-9b6f-4335-97dc-641061103241",
    "outputId": "32d7884e-e07c-4d94-96e1-196178b7205f",
    "tags": []
   },
   "outputs": [
    {
     "data": {
      "text/plain": [
       "[[1, 2, 3, 4], [3, 4, 5, 6]]"
      ]
     },
     "execution_count": 324,
     "metadata": {},
     "output_type": "execute_result"
    }
   ],
   "source": [
    "lst = [[1,2,3,4],[3,4,5,6]]\n",
    "lst"
   ]
  },
  {
   "cell_type": "code",
   "execution_count": 329,
   "id": "d35c1d94-487f-4799-a5c5-8c2e1fa10e22",
   "metadata": {
    "id": "7aacc913-bbc9-4043-b564-80c6705be6fa",
    "outputId": "e4acc434-dcc7-4c94-dea6-c5885219a678",
    "tags": []
   },
   "outputs": [
    {
     "name": "stdout",
     "output_type": "stream",
     "text": [
      "[1, 2, 3, 4] <class 'list'>\n",
      "[3, 4, 5, 6] <class 'list'>\n"
     ]
    }
   ],
   "source": [
    "for l in lst:\n",
    "    print(l,type(l))"
   ]
  },
  {
   "cell_type": "code",
   "execution_count": 330,
   "id": "0e0401ea-bb19-4606-9574-2153bc201642",
   "metadata": {
    "id": "a0e3a92e-b049-4a66-8536-21d361661390",
    "outputId": "dd5fc85d-a1fd-4a88-89ea-7b7d543dc104",
    "tags": []
   },
   "outputs": [
    {
     "name": "stdout",
     "output_type": "stream",
     "text": [
      "[1 2 3 4] <class 'numpy.ndarray'>\n",
      "[3 4 5 6] <class 'numpy.ndarray'>\n"
     ]
    }
   ],
   "source": [
    "for l in np.array(lst):\n",
    "    print(l,type(l))"
   ]
  },
  {
   "cell_type": "code",
   "execution_count": 334,
   "id": "6a1f6912-aa9c-4868-97c3-bd210912cd4f",
   "metadata": {
    "tags": []
   },
   "outputs": [
    {
     "name": "stdout",
     "output_type": "stream",
     "text": [
      "0 <class 'int'>\n",
      "1 <class 'int'>\n",
      "2 <class 'int'>\n",
      "3 <class 'int'>\n"
     ]
    }
   ],
   "source": [
    "for l in pd.DataFrame(lst):\n",
    "    print(l, type(l))"
   ]
  },
  {
   "cell_type": "markdown",
   "id": "591b38b3-f269-4421-bea8-e1eda312bc1e",
   "metadata": {},
   "source": [
    "- 뭐야? 아는 문법이긴 한데 이렇게 보니까 이상하네"
   ]
  },
  {
   "cell_type": "markdown",
   "id": "2c4f745f-99a4-4ae8-a1ea-a9d16a995c2b",
   "metadata": {
    "id": "84c7c854-bdef-476b-b850-edea1770dae1"
   },
   "source": [
    "`-` 데이터프레임인 경우는 colname이 반복"
   ]
  },
  {
   "cell_type": "code",
   "execution_count": 338,
   "id": "518df308-6a33-4403-9047-28cdaaf0b34e",
   "metadata": {
    "id": "40b1abb5-0b7f-4f48-b46e-af06b47f7ca5",
    "outputId": "58218170-0d99-4101-e901-6b80950b1899",
    "tags": []
   },
   "outputs": [
    {
     "data": {
      "text/html": [
       "<div>\n",
       "<style scoped>\n",
       "    .dataframe tbody tr th:only-of-type {\n",
       "        vertical-align: middle;\n",
       "    }\n",
       "\n",
       "    .dataframe tbody tr th {\n",
       "        vertical-align: top;\n",
       "    }\n",
       "\n",
       "    .dataframe thead th {\n",
       "        text-align: right;\n",
       "    }\n",
       "</style>\n",
       "<table border=\"1\" class=\"dataframe\">\n",
       "  <thead>\n",
       "    <tr style=\"text-align: right;\">\n",
       "      <th></th>\n",
       "      <th>x</th>\n",
       "      <th>y</th>\n",
       "    </tr>\n",
       "  </thead>\n",
       "  <tbody>\n",
       "    <tr>\n",
       "      <th>0</th>\n",
       "      <td>1</td>\n",
       "      <td>2</td>\n",
       "    </tr>\n",
       "    <tr>\n",
       "      <th>1</th>\n",
       "      <td>2</td>\n",
       "      <td>3</td>\n",
       "    </tr>\n",
       "    <tr>\n",
       "      <th>2</th>\n",
       "      <td>3</td>\n",
       "      <td>4</td>\n",
       "    </tr>\n",
       "  </tbody>\n",
       "</table>\n",
       "</div>"
      ],
      "text/plain": [
       "   x  y\n",
       "0  1  2\n",
       "1  2  3\n",
       "2  3  4"
      ]
     },
     "execution_count": 338,
     "metadata": {},
     "output_type": "execute_result"
    }
   ],
   "source": [
    "dct = {'x':[1,2,3],'y':[2,3,4]}\n",
    "df = pd.DataFrame(dct)\n",
    "df"
   ]
  },
  {
   "cell_type": "code",
   "execution_count": 339,
   "id": "4c32f33c-bc7e-4c8e-901e-06ecc0380bd0",
   "metadata": {
    "id": "c62e9ad0-cdd2-44e0-8971-e27f523fec58",
    "outputId": "9d430d96-23a7-4b4f-a24a-81d9e262af17",
    "tags": []
   },
   "outputs": [
    {
     "name": "stdout",
     "output_type": "stream",
     "text": [
      "x\n",
      "y\n"
     ]
    }
   ],
   "source": [
    "for colname in df:\n",
    "    print(colname)"
   ]
  },
  {
   "cell_type": "code",
   "execution_count": 340,
   "id": "eb29d59b-e683-4341-8202-9fa1a9034231",
   "metadata": {
    "id": "c62e9ad0-cdd2-44e0-8971-e27f523fec58",
    "outputId": "9d430d96-23a7-4b4f-a24a-81d9e262af17",
    "tags": []
   },
   "outputs": [
    {
     "name": "stdout",
     "output_type": "stream",
     "text": [
      "x\n",
      "y\n"
     ]
    }
   ],
   "source": [
    "for key in dct:\n",
    "    print(key)"
   ]
  },
  {
   "cell_type": "markdown",
   "id": "4131b9cf-7821-4e4a-a600-bdf261163acf",
   "metadata": {
    "id": "04786851-7740-4bd3-9e20-7ca9d955ef45"
   },
   "source": [
    "`-` 의문2: for의 출력결과는 어떻게 예측할 수 있을까?"
   ]
  },
  {
   "cell_type": "markdown",
   "id": "45d66666-78dd-4a13-9377-991a7de9e6c4",
   "metadata": {},
   "source": [
    "`#`"
   ]
  },
  {
   "cell_type": "markdown",
   "id": "bb052841-8a78-4cd7-9a50-f10480df7275",
   "metadata": {
    "id": "2cb123ee-d544-4531-b189-bb1419e274df"
   },
   "source": [
    "## B. for문의 동작원리"
   ]
  },
  {
   "cell_type": "markdown",
   "id": "a3ce34a4-c543-4887-b14e-50dcab12e37c",
   "metadata": {
    "id": "d6e339e1-0716-4000-9a04-1fa1d95e7488"
   },
   "source": [
    "`-` 의문1의 해결: 아래의 ??? 자리에 올 수 있는 것은 dir()하여 `__iter__`가 있는 object이다.\n",
    "\n",
    "```python\n",
    "for i in ???:\n",
    "    print(i)\n",
    "```\n",
    "\n",
    "이러한 오브젝트를 iterable object라고 한다."
   ]
  },
  {
   "cell_type": "markdown",
   "id": "3e14f3b3-d24d-4774-b1b4-a8d6e8dcae48",
   "metadata": {
    "id": "94f494bf-9b0a-43bb-828a-406ba65c9251"
   },
   "source": [
    "`-` 예제1~4 확인"
   ]
  },
  {
   "cell_type": "code",
   "execution_count": 351,
   "id": "2d998290-f7f2-4067-9c06-8ca20f6f7eff",
   "metadata": {
    "id": "c716fb7b-36ab-451f-a7ea-3258b3d51985",
    "outputId": "0a9d27c7-6c25-434f-e929-7bf028f29757",
    "tags": []
   },
   "outputs": [
    {
     "data": {
      "text/plain": [
       "True"
      ]
     },
     "execution_count": 351,
     "metadata": {},
     "output_type": "execute_result"
    }
   ],
   "source": [
    "lst = [1,2,3]\n",
    "#set(dir(lst)) & {'__iter__'}\n",
    "isinstance(lst,collections.abc.Iterable)"
   ]
  },
  {
   "cell_type": "code",
   "execution_count": 352,
   "id": "38e33423-1cc4-4f2e-bd68-55ebc304ebf7",
   "metadata": {
    "id": "55b4d22f-1569-4559-a3a6-86207d237cc0",
    "outputId": "28e59b22-00ec-41a6-cf87-8ce59013989e",
    "tags": []
   },
   "outputs": [
    {
     "data": {
      "text/plain": [
       "True"
      ]
     },
     "execution_count": 352,
     "metadata": {},
     "output_type": "execute_result"
    }
   ],
   "source": [
    "tpl = 1,2,3\n",
    "#set(dir(tpl)) & {'__iter__'}\n",
    "isinstance(tpl,collections.abc.Iterable)"
   ]
  },
  {
   "cell_type": "code",
   "execution_count": 353,
   "id": "4c65d1eb-ad6c-4e9a-9a55-2758fee97b56",
   "metadata": {
    "id": "7ff2313c-977a-46a2-8743-3977d47ab0b3",
    "outputId": "3dcff950-138c-48d2-82fb-3b406c53b20a",
    "tags": []
   },
   "outputs": [
    {
     "data": {
      "text/plain": [
       "True"
      ]
     },
     "execution_count": 353,
     "metadata": {},
     "output_type": "execute_result"
    }
   ],
   "source": [
    "string = '123'\n",
    "#set(dir(string)) & {'__iter__'}\n",
    "isinstance(string,collections.abc.Iterable)"
   ]
  },
  {
   "cell_type": "code",
   "execution_count": 356,
   "id": "84b73884-afaa-43c9-9110-514d829e3718",
   "metadata": {
    "id": "2ff13329-9df5-4735-8535-c02a40cf18a1",
    "outputId": "65364675-2006-489d-96f5-599d690e5088",
    "tags": []
   },
   "outputs": [
    {
     "data": {
      "text/plain": [
       "False"
      ]
     },
     "execution_count": 356,
     "metadata": {},
     "output_type": "execute_result"
    }
   ],
   "source": [
    "a = 5\n",
    "#set(dir(a)) & {'__iter__'}\n",
    "isinstance(a,collections.abc.Iterable)"
   ]
  },
  {
   "cell_type": "markdown",
   "id": "aad58d6f-33ad-4feb-88ec-8875fa099bec",
   "metadata": {
    "id": "de946eab-7bbd-4d9f-815f-101090139891"
   },
   "source": [
    "`-` `__iter__`의 역할: iterable object를 iterator로 만들 수 있다!"
   ]
  },
  {
   "cell_type": "code",
   "execution_count": 411,
   "id": "13ea940f-2bdf-4ff8-98f5-75c2b89c214a",
   "metadata": {
    "id": "32b7ca53-acab-41c8-be28-c4cc14c94ccb",
    "tags": []
   },
   "outputs": [],
   "source": [
    "lst = [1,22,-33]"
   ]
  },
  {
   "cell_type": "code",
   "execution_count": 412,
   "id": "735eff0b-8590-4b7e-82de-c42674eafc56",
   "metadata": {
    "id": "fe3f5cc9-e9fa-4e97-91ac-d6cebf5e9385",
    "tags": []
   },
   "outputs": [],
   "source": [
    "list_iterator = lst.__iter__()\n",
    "# list_iterator = iter(lst)"
   ]
  },
  {
   "cell_type": "markdown",
   "id": "982515b0-5d24-48a2-b5ab-888410fcbcfe",
   "metadata": {
    "id": "3ff4b96f-9843-4113-a47c-a7d4b0b5b520"
   },
   "source": [
    "`-` iterator가 되면 무엇이 좋은가? -> 숨겨진 기능 `__next__`가 열린다."
   ]
  },
  {
   "cell_type": "code",
   "execution_count": 413,
   "id": "53c27368-a07b-493b-a336-75c15db1d517",
   "metadata": {
    "id": "64ba4d1c-6d3a-4ee1-90b4-f558a4a4935c",
    "outputId": "8389236e-5b28-40af-a23d-f0a98749fab1",
    "tags": []
   },
   "outputs": [
    {
     "data": {
      "text/plain": [
       "{'__next__'}"
      ]
     },
     "execution_count": 413,
     "metadata": {},
     "output_type": "execute_result"
    }
   ],
   "source": [
    "set(dir(list_iterator)) & {'__next__'}"
   ]
  },
  {
   "cell_type": "markdown",
   "id": "d9b9149d-8d49-4fde-9537-4212f8d5734f",
   "metadata": {
    "id": "631e6701-b45a-49c7-9bb7-aeb7ab891f27"
   },
   "source": [
    "`-` 그래서 `__next__`의 기능은? -> 원소를 차례대로 꺼내준다 + 더 이상 꺼낼 원소가 없으면 StopIteration Error를 발생시킨다."
   ]
  },
  {
   "cell_type": "code",
   "execution_count": 414,
   "id": "486be605-eeea-47be-984d-dd9e8c32c6b0",
   "metadata": {
    "id": "9f16e514-c552-47ba-89bf-1841b5d3f85a",
    "outputId": "f7451487-9c18-457e-b99a-fb2a5549682f",
    "tags": []
   },
   "outputs": [
    {
     "data": {
      "text/plain": [
       "1"
      ]
     },
     "execution_count": 414,
     "metadata": {},
     "output_type": "execute_result"
    }
   ],
   "source": [
    "next(list_iterator)\n",
    "# list_iterator.__next__() # 같은코드"
   ]
  },
  {
   "cell_type": "code",
   "execution_count": 415,
   "id": "56abd546-130b-41b6-90de-603012647803",
   "metadata": {
    "id": "50f2c387-13b4-4059-8098-1a69975ef6b2",
    "outputId": "e412f6af-7ba2-4531-eca1-7ae2afcaa08a",
    "tags": []
   },
   "outputs": [
    {
     "data": {
      "text/plain": [
       "22"
      ]
     },
     "execution_count": 415,
     "metadata": {},
     "output_type": "execute_result"
    }
   ],
   "source": [
    "next(list_iterator)\n",
    "# list_iterator.__next__() # 같은코드"
   ]
  },
  {
   "cell_type": "code",
   "execution_count": 416,
   "id": "fb306901-8b6b-4ec9-b8d0-19b8d7fe3d11",
   "metadata": {
    "id": "60f08ee2-90fe-4c1a-8798-b8cd78b78756",
    "outputId": "50ada37e-a84a-44d5-f8ec-5e57411189e4",
    "tags": []
   },
   "outputs": [
    {
     "data": {
      "text/plain": [
       "-33"
      ]
     },
     "execution_count": 416,
     "metadata": {},
     "output_type": "execute_result"
    }
   ],
   "source": [
    "next(list_iterator)\n",
    "# list_iterator.__next__() # 같은코드"
   ]
  },
  {
   "cell_type": "code",
   "execution_count": 417,
   "id": "90d71c62-91a7-4699-b386-82bffa663f68",
   "metadata": {
    "id": "2ddc5af2-3940-45fe-bf5a-46fdde7de0c1",
    "outputId": "4dbd73dd-3ada-4920-eb5e-c9a788366f73",
    "tags": []
   },
   "outputs": [
    {
     "ename": "StopIteration",
     "evalue": "",
     "output_type": "error",
     "traceback": [
      "\u001b[0;31m---------------------------------------------------------------------------\u001b[0m",
      "\u001b[0;31mStopIteration\u001b[0m                             Traceback (most recent call last)",
      "Cell \u001b[0;32mIn[417], line 1\u001b[0m\n\u001b[0;32m----> 1\u001b[0m \u001b[38;5;28;43mnext\u001b[39;49m\u001b[43m(\u001b[49m\u001b[43mlist_iterator\u001b[49m\u001b[43m)\u001b[49m\n\u001b[1;32m      2\u001b[0m \u001b[38;5;66;03m# list_iterator.__next__() # 같은코드\u001b[39;00m\n",
      "\u001b[0;31mStopIteration\u001b[0m: "
     ]
    }
   ],
   "source": [
    "next(list_iterator)\n",
    "# list_iterator.__next__() # 같은코드"
   ]
  },
  {
   "cell_type": "markdown",
   "id": "b8c88717-db8f-4a7c-9adc-d9e597894d51",
   "metadata": {},
   "source": [
    "`-` 참고로 아래들도 같은코드임 "
   ]
  },
  {
   "cell_type": "code",
   "execution_count": 428,
   "id": "6dee88be-eace-4bc2-88cd-09b0d231eb21",
   "metadata": {
    "tags": []
   },
   "outputs": [
    {
     "data": {
      "text/plain": [
       "('[100, 200]', '[100, 200]')"
      ]
     },
     "execution_count": 428,
     "metadata": {},
     "output_type": "execute_result"
    }
   ],
   "source": [
    "a = [100,200]\n",
    "a.__repr__(), repr(a)"
   ]
  },
  {
   "cell_type": "code",
   "execution_count": 429,
   "id": "45a73df9-d48c-42db-8eda-8ff62e4ff6ca",
   "metadata": {
    "tags": []
   },
   "outputs": [
    {
     "data": {
      "text/plain": [
       "('[100, 200]', '[100, 200]')"
      ]
     },
     "execution_count": 429,
     "metadata": {},
     "output_type": "execute_result"
    }
   ],
   "source": [
    "a = [100,200]\n",
    "a.__str__(), str(a)"
   ]
  },
  {
   "cell_type": "code",
   "execution_count": 430,
   "id": "f9cf6897-0d3c-4ef6-ae58-b8485be69eff",
   "metadata": {
    "tags": []
   },
   "outputs": [
    {
     "data": {
      "text/plain": [
       "(2, 2)"
      ]
     },
     "execution_count": 430,
     "metadata": {},
     "output_type": "execute_result"
    }
   ],
   "source": [
    "a = [100,200]\n",
    "a.__len__(), len(a)"
   ]
  },
  {
   "cell_type": "code",
   "execution_count": 431,
   "id": "564a5dea-ff3c-49d6-8823-c46691e76de0",
   "metadata": {
    "tags": []
   },
   "outputs": [
    {
     "data": {
      "text/plain": [
       "(<list_iterator at 0x7f8f4eb02d10>, <list_iterator at 0x7f8f4eb03520>)"
      ]
     },
     "execution_count": 431,
     "metadata": {},
     "output_type": "execute_result"
    }
   ],
   "source": [
    "a = [100,200]\n",
    "a.__iter__(), iter(a)"
   ]
  },
  {
   "cell_type": "code",
   "execution_count": 432,
   "id": "ef511e51-9fd2-4ef2-8ec7-144950e93c7f",
   "metadata": {
    "tags": []
   },
   "outputs": [
    {
     "data": {
      "text/plain": [
       "(100, 200)"
      ]
     },
     "execution_count": 432,
     "metadata": {},
     "output_type": "execute_result"
    }
   ],
   "source": [
    "a = iter([100,200])\n",
    "a.__next__(), next(a)"
   ]
  },
  {
   "cell_type": "markdown",
   "id": "62a2a4ff-f144-480d-9ed5-1a9abaee3598",
   "metadata": {
    "id": "5f858291-7505-490a-b1d5-391df0379959"
   },
   "source": [
    "`-` for문의 동작원리\n",
    "\n",
    "```python\n",
    "for i in iterable:\n",
    "    ...\n",
    "```"
   ]
  },
  {
   "cell_type": "markdown",
   "id": "42a4f232-99cc-413f-92ec-6b25df71ed14",
   "metadata": {
    "id": "534a9d9c-3627-4b7e-9a55-ceb515e641ea"
   },
   "source": [
    "1. `__iter__` 실행: `.__iter__()` 혹은 `iter()`을 이용하여 iterable을 iterator로 만든다.\n",
    "\n",
    "2. `__next__` 실행: 1에서 만들어진 iterator에서 `.__next__()` 함수를 호출한다.  `.__next__()`함수를 호출했을때 StopIteration Error 이 나오면 반복을 멈추고, 그렇지 않으면 for문 블락안의 내용 (들여쓰기 된 내용) 을 실행한다. "
   ]
  },
  {
   "cell_type": "markdown",
   "id": "1ef05786-ef04-415d-bc56-3bab96f84923",
   "metadata": {
    "id": "48556d4f-b7dc-4493-bc46-9c08efc98c94"
   },
   "source": [
    "```{mermaid}\n",
    "\n",
    "flowchart LR\n",
    "  A[iterable] --> |\"__iter__()\"| B(iterator)\n",
    "  B --> |\"__next__()\"| C{stop?}\n",
    "  C --> |NO| D[for문 안의 내용 실행] --> B\n",
    "  C --> |YES| E[end]\n",
    "```"
   ]
  },
  {
   "cell_type": "code",
   "execution_count": 441,
   "id": "6c6ab050-009d-4978-8b1e-666305e7c5d1",
   "metadata": {
    "tags": []
   },
   "outputs": [
    {
     "name": "stdout",
     "output_type": "stream",
     "text": [
      "2\n",
      "3\n",
      "-2\n"
     ]
    },
    {
     "ename": "StopIteration",
     "evalue": "",
     "output_type": "error",
     "traceback": [
      "\u001b[0;31m---------------------------------------------------------------------------\u001b[0m",
      "\u001b[0;31mStopIteration\u001b[0m                             Traceback (most recent call last)",
      "Cell \u001b[0;32mIn[441], line 12\u001b[0m\n\u001b[1;32m     10\u001b[0m l \u001b[38;5;241m=\u001b[39m \u001b[38;5;28mnext\u001b[39m(list_iterator)\n\u001b[1;32m     11\u001b[0m \u001b[38;5;28mprint\u001b[39m(l\u001b[38;5;241m+\u001b[39m\u001b[38;5;241m1\u001b[39m)\n\u001b[0;32m---> 12\u001b[0m l \u001b[38;5;241m=\u001b[39m \u001b[38;5;28;43mnext\u001b[39;49m\u001b[43m(\u001b[49m\u001b[43mlist_iterator\u001b[49m\u001b[43m)\u001b[49m \u001b[38;5;66;03m# StopIteration Error발생 -- for문 멈춤\u001b[39;00m\n",
      "\u001b[0;31mStopIteration\u001b[0m: "
     ]
    }
   ],
   "source": [
    "# lst = [1,2,-3]\n",
    "# for l in lst:\n",
    "#     print(l+1)\n",
    "lst = [1,2,-3]\n",
    "list_iterator = iter(lst)\n",
    "l = next(list_iterator)\n",
    "print(l+1)\n",
    "l = next(list_iterator)\n",
    "print(l+1)\n",
    "l = next(list_iterator)\n",
    "print(l+1)\n",
    "l = next(list_iterator) # StopIteration Error발생 -- for문 멈춤"
   ]
  },
  {
   "cell_type": "markdown",
   "id": "133c82ed-b5e8-4490-9cdc-2422f06bcdc8",
   "metadata": {
    "id": "d55c2db0-5ef2-4177-b7b0-452b92762a55"
   },
   "source": [
    "`-` 아래의 구조도 잘 돌아갈까?\n",
    "\n",
    "```python\n",
    "for i in iterator:\n",
    "    print(i)\n",
    "```"
   ]
  },
  {
   "cell_type": "code",
   "execution_count": 444,
   "id": "e8c9d92c-5f69-48f8-967b-ada8ce666fcc",
   "metadata": {
    "tags": []
   },
   "outputs": [
    {
     "name": "stdout",
     "output_type": "stream",
     "text": [
      "2\n",
      "3\n",
      "-2\n"
     ]
    }
   ],
   "source": [
    "lst = [1,2,-3]\n",
    "for l in iter(lst): # 당연히 되겠지?\n",
    "    print(l+1)"
   ]
  },
  {
   "cell_type": "markdown",
   "id": "c642f836-ca68-4887-9c57-e77955bae5f3",
   "metadata": {
    "id": "506a529e-3540-470b-8a76-8e7f9bea6361"
   },
   "source": [
    "> 얼핏드는 생각: iterator일 경우와 iterable일 경우로 나누어서 로직을 짜면 좋을 것같다. 즉 iterator인 경우 `__iter__`의 실행과정없이 바로 `__next__`를 실행하면 될 것 같다. "
   ]
  },
  {
   "cell_type": "markdown",
   "id": "648627da-b647-42aa-95c8-5ae0b9f92f94",
   "metadata": {
    "id": "506a529e-3540-470b-8a76-8e7f9bea6361"
   },
   "source": [
    "> 더 좋은 생각: iterator일 경우도 `__iter__`를 따로 정의해서 자기자신을 return하도록 설정하는 트릭을 쓴다면 위의 다이어그램을 별도로 수정할 필요가 없다.  "
   ]
  },
  {
   "cell_type": "markdown",
   "id": "10bf9fda-d17c-4a8b-870b-ebbf0b0ad1c9",
   "metadata": {
    "id": "eefc4c3a-55b9-423e-8b59-4d121055aaf0"
   },
   "source": [
    "`-` 요약\n",
    "\n",
    "- iterable object는 숨겨진 기능으로 `__iter__`를 가진다. (`__next__`는 없음)\n",
    "- iterator는 숨겨진 기능으로 `__iter__`와 `__next__`를 가진다. 따라서 정의상 iterator는 그 자체로 iterable object가 된다!\n",
    "- iterator의 `__iter__`는 자기자신을 리턴한다."
   ]
  },
  {
   "cell_type": "markdown",
   "id": "35d902a4-88c8-47aa-976f-019a179b67c9",
   "metadata": {
    "id": "b9fc8535-965c-4cfc-9f76-da872840e6c8"
   },
   "source": [
    "`-` 의문2의 해결: for의 출력결과는 어떻게 예측할 수 있을까? iterator를 만들어서 `.__next__()`의 출력값을 확인하면 알 수 있다."
   ]
  },
  {
   "cell_type": "code",
   "execution_count": 258,
   "id": "12aad317-3bf4-43c0-badf-d5a9ddcf5e73",
   "metadata": {
    "id": "36465038-7850-45bc-9d7d-298f8bbb3351",
    "tags": []
   },
   "outputs": [],
   "source": [
    "df_itertor = iter(df)"
   ]
  },
  {
   "cell_type": "code",
   "execution_count": 259,
   "id": "e0639ed1-9049-48b0-8767-4487fcfdd6bc",
   "metadata": {
    "id": "30668b93-7494-4e85-b2cc-8b5e1c07f2e9",
    "outputId": "57e9007f-10ac-493c-e10d-865c9964dba2",
    "tags": []
   },
   "outputs": [
    {
     "data": {
      "text/plain": [
       "'x'"
      ]
     },
     "execution_count": 259,
     "metadata": {},
     "output_type": "execute_result"
    }
   ],
   "source": [
    "next(df_itertor)"
   ]
  },
  {
   "cell_type": "code",
   "execution_count": 260,
   "id": "5343c61a-a80b-420e-869d-ce7a69618b81",
   "metadata": {
    "id": "c02e70ae-24f2-4697-bd50-1d3906b49df2",
    "outputId": "97aef310-0355-4f61-97d5-8764b302aa97",
    "tags": []
   },
   "outputs": [
    {
     "data": {
      "text/plain": [
       "'y'"
      ]
     },
     "execution_count": 260,
     "metadata": {},
     "output_type": "execute_result"
    }
   ],
   "source": [
    "next(df_itertor)"
   ]
  },
  {
   "cell_type": "code",
   "execution_count": 261,
   "id": "6e177e76-4828-4f91-bd47-7e316ac31884",
   "metadata": {
    "id": "6880e7ea-8e1a-4bc8-8e76-e184b34bad5f",
    "outputId": "732ac58c-cf5b-45c4-8ddb-f21a44d5187e",
    "tags": []
   },
   "outputs": [
    {
     "ename": "StopIteration",
     "evalue": "",
     "output_type": "error",
     "traceback": [
      "\u001b[0;31m---------------------------------------------------------------------------\u001b[0m",
      "\u001b[0;31mStopIteration\u001b[0m                             Traceback (most recent call last)",
      "Cell \u001b[0;32mIn[261], line 1\u001b[0m\n\u001b[0;32m----> 1\u001b[0m \u001b[38;5;28;43mnext\u001b[39;49m\u001b[43m(\u001b[49m\u001b[43mdf_itertor\u001b[49m\u001b[43m)\u001b[49m\n",
      "\u001b[0;31mStopIteration\u001b[0m: "
     ]
    }
   ],
   "source": [
    "next(df_itertor)"
   ]
  },
  {
   "cell_type": "markdown",
   "id": "654296af-88a1-4a31-92b1-e00bdbbc12b7",
   "metadata": {
    "id": "ab8e10d4-734e-4532-b9ba-31dfb500bfc2"
   },
   "source": [
    "## C. 사용자정의 이터레이터"
   ]
  },
  {
   "cell_type": "markdown",
   "id": "7438f250-a415-4211-8def-1354233b5983",
   "metadata": {
    "id": "d0675324-bb01-4df8-a74f-7bccc27d4b6c"
   },
   "source": [
    "`-` 내가 이터레이터를 만들어보자."
   ]
  },
  {
   "cell_type": "markdown",
   "id": "f1ae1a27-211d-48b1-9697-899fe1504cb7",
   "metadata": {
    "id": "f128d58a-fc98-4234-8b08-68fabb66a241"
   },
   "source": [
    "`-` \"가위\"를 내는 순간 for문이 멈추도록 하는 이터레이터를 만들자."
   ]
  },
  {
   "cell_type": "code",
   "execution_count": 8,
   "id": "19219149-de2e-42e5-ab5e-cc397b34cf48",
   "metadata": {
    "tags": []
   },
   "outputs": [],
   "source": [
    "class RPS_ITERATOR: # 가위를 내는순간 for문이 멈추도록 하는 이터레이터를 만들자\n",
    "    def __init__(self):\n",
    "        self.action_space = [\"가위\",\"바위\",\"보\"]\n",
    "        self.action = None \n",
    "    def __iter__(self):\n",
    "        return self\n",
    "    def __next__(self): \n",
    "        self.action = np.random.choice(self.action_space)\n",
    "        if self.action == \"가위\":\n",
    "            print(\"가위를 뽑았습니다. for문을 탈출합니다\")\n",
    "            raise(StopIteration)\n",
    "        else: \n",
    "            return self.action "
   ]
  },
  {
   "cell_type": "code",
   "execution_count": 9,
   "id": "16518a9e-60fc-46e2-8ab3-f72b9f439a0f",
   "metadata": {
    "tags": []
   },
   "outputs": [],
   "source": [
    "player = RPS_ITERATOR()"
   ]
  },
  {
   "cell_type": "code",
   "execution_count": 17,
   "id": "4a0fbe92-6b9f-418e-84a7-78867545c386",
   "metadata": {
    "tags": []
   },
   "outputs": [
    {
     "name": "stdout",
     "output_type": "stream",
     "text": [
      "보\n",
      "바위\n",
      "보\n",
      "바위\n",
      "보\n",
      "보\n",
      "가위를 뽑았습니다. for문을 탈출합니다\n"
     ]
    }
   ],
   "source": [
    "for action in player:\n",
    "    print(action)"
   ]
  },
  {
   "cell_type": "markdown",
   "id": "4eb68cbe-03d3-415f-b05d-a60d972d8ef9",
   "metadata": {
    "id": "542b606c-4b34-4545-9389-28e9b575afbf"
   },
   "source": [
    "## D. `range()`"
   ]
  },
  {
   "cell_type": "markdown",
   "id": "96b5ed65-d528-48a6-845b-c9d8c984271b",
   "metadata": {
    "id": "b7b1fee3-ba0f-4c4e-b939-a25c37414442"
   },
   "source": [
    "`-` 파이썬에서 for문을 처음 배울 때: range(5)를 써라!"
   ]
  },
  {
   "cell_type": "code",
   "execution_count": 20,
   "id": "f335d21c-de80-4ec7-8d61-19cb4f9f6cf5",
   "metadata": {
    "id": "91bfd470-e70b-4fcb-a2c3-abea705292f0",
    "outputId": "b6ec1eae-f076-47b5-e059-f59dd48258a1",
    "tags": []
   },
   "outputs": [
    {
     "name": "stdout",
     "output_type": "stream",
     "text": [
      "0\n",
      "1\n",
      "2\n",
      "3\n",
      "4\n"
     ]
    }
   ],
   "source": [
    "for i in range(5):\n",
    "    print(i)"
   ]
  },
  {
   "cell_type": "markdown",
   "id": "f0435393-12b9-41c8-a7cf-5f6ae8997634",
   "metadata": {
    "id": "c6bc5e3f-ed80-4ceb-b05c-dd2f7b736a1c"
   },
   "source": [
    "- range(5)가 도데체 무엇이길래?"
   ]
  },
  {
   "cell_type": "markdown",
   "id": "e9f25adb-f078-431b-81fd-cd68dbfef11f",
   "metadata": {
    "id": "c805f9ab-b817-436c-bb64-b3d22efbc098"
   },
   "source": [
    "`-` `range`는 클래스이고, `range(5)`는 `range` 클래스에서 찍힌 iterable 한 인스턴스이다. "
   ]
  },
  {
   "cell_type": "code",
   "execution_count": 96,
   "id": "8bf43826-6b3c-474d-9187-67bdb1d78ea7",
   "metadata": {
    "tags": []
   },
   "outputs": [
    {
     "name": "stdout",
     "output_type": "stream",
     "text": [
      "True\n",
      "False\n"
     ]
    }
   ],
   "source": [
    "range_ins = range(5)\n",
    "print(isinstance(range_ins,collections.abc.Iterable))\n",
    "print(isinstance(range_ins,collections.abc.Iterator))"
   ]
  },
  {
   "cell_type": "markdown",
   "id": "79e2bdd0-fe16-4042-b5b3-b58b7f3571d6",
   "metadata": {
    "id": "815a8c23-b72f-47dc-b3fc-8ee570267d81"
   },
   "source": [
    "`-` `range_ins = range(5)` 언제든지 iterator로 바꿀 수 있다. (이터러블하니까..)"
   ]
  },
  {
   "cell_type": "code",
   "execution_count": 97,
   "id": "729e15b7-f06a-4a3e-9286-8a299603b4d0",
   "metadata": {
    "id": "d677e733-4e89-4ead-8a3c-e1077c87d40e",
    "outputId": "8a8b7e9d-9e46-4f9d-881c-2533bf70ea03",
    "tags": []
   },
   "outputs": [
    {
     "name": "stdout",
     "output_type": "stream",
     "text": [
      "True\n",
      "True\n"
     ]
    }
   ],
   "source": [
    "range_iterator = iter(range_ins)\n",
    "print(isinstance(range_iterator,collections.abc.Iterable))\n",
    "print(isinstance(range_iterator,collections.abc.Iterator))"
   ]
  },
  {
   "cell_type": "markdown",
   "id": "0f5655ba-fc3e-48c1-9fab-922f3a0cc858",
   "metadata": {
    "id": "c2a1491d-bcb7-4b77-89b2-66189860eedf"
   },
   "source": [
    "`-` for문에서 range(5)가 행동하는 방법?"
   ]
  },
  {
   "cell_type": "code",
   "execution_count": 98,
   "id": "5a8301c2-6b23-413c-b8d1-70e56b5fa748",
   "metadata": {
    "id": "6f1e13d8-c8d6-4f67-afaf-b5fa26256659",
    "outputId": "b0791a36-af39-4d38-ff7c-67e37aefebfb",
    "tags": []
   },
   "outputs": [
    {
     "data": {
      "text/plain": [
       "0"
      ]
     },
     "execution_count": 98,
     "metadata": {},
     "output_type": "execute_result"
    }
   ],
   "source": [
    "range_iterator.__next__()"
   ]
  },
  {
   "cell_type": "code",
   "execution_count": 99,
   "id": "fc67b2af-0d41-49db-a22c-9e52f38c0d10",
   "metadata": {
    "id": "266c263f-39bc-4b29-a788-b3c71bc19c1a",
    "outputId": "3d4b2701-f007-4851-82f0-5e0418cc275b",
    "tags": []
   },
   "outputs": [
    {
     "data": {
      "text/plain": [
       "1"
      ]
     },
     "execution_count": 99,
     "metadata": {},
     "output_type": "execute_result"
    }
   ],
   "source": [
    "range_iterator.__next__()"
   ]
  },
  {
   "cell_type": "code",
   "execution_count": 100,
   "id": "38387bd4-a40e-4be2-8b6d-888b457ad0f5",
   "metadata": {
    "id": "f8c072f7-579c-4f27-9662-0fb9fc1f6826",
    "outputId": "a2645340-ecd9-486c-fde1-88d0bbb8c11a",
    "tags": []
   },
   "outputs": [
    {
     "data": {
      "text/plain": [
       "2"
      ]
     },
     "execution_count": 100,
     "metadata": {},
     "output_type": "execute_result"
    }
   ],
   "source": [
    "range_iterator.__next__()"
   ]
  },
  {
   "cell_type": "code",
   "execution_count": 101,
   "id": "d1f80d80-896d-4864-8215-e753e75b0790",
   "metadata": {
    "id": "f9fb7229-8628-4e01-91f7-edff221a7e96",
    "outputId": "cc3dc5a5-3e7f-4fec-da71-3f8e04fc93b9",
    "tags": []
   },
   "outputs": [
    {
     "data": {
      "text/plain": [
       "3"
      ]
     },
     "execution_count": 101,
     "metadata": {},
     "output_type": "execute_result"
    }
   ],
   "source": [
    "range_iterator.__next__()"
   ]
  },
  {
   "cell_type": "code",
   "execution_count": 102,
   "id": "7b82969a-9417-49d0-9d87-206f842882d1",
   "metadata": {
    "id": "18ffad6d-7345-4988-94c4-db498e140c1e",
    "outputId": "912170ff-cdb1-4dcc-f699-f0326a9e633b",
    "tags": []
   },
   "outputs": [
    {
     "data": {
      "text/plain": [
       "4"
      ]
     },
     "execution_count": 102,
     "metadata": {},
     "output_type": "execute_result"
    }
   ],
   "source": [
    "range_iterator.__next__()"
   ]
  },
  {
   "cell_type": "code",
   "execution_count": 103,
   "id": "4627bbe9-a586-4f68-a673-537288e144b7",
   "metadata": {
    "id": "f4c0bdec-1e2d-44aa-a645-c9fe45a48a67",
    "outputId": "b90ad135-65ea-4be9-a62d-79d0bf232fe9",
    "tags": []
   },
   "outputs": [
    {
     "ename": "StopIteration",
     "evalue": "",
     "output_type": "error",
     "traceback": [
      "\u001b[0;31m---------------------------------------------------------------------------\u001b[0m",
      "\u001b[0;31mStopIteration\u001b[0m                             Traceback (most recent call last)",
      "Cell \u001b[0;32mIn[103], line 1\u001b[0m\n\u001b[0;32m----> 1\u001b[0m \u001b[43mrange_iterator\u001b[49m\u001b[38;5;241;43m.\u001b[39;49m\u001b[38;5;21;43m__next__\u001b[39;49m\u001b[43m(\u001b[49m\u001b[43m)\u001b[49m\n",
      "\u001b[0;31mStopIteration\u001b[0m: "
     ]
    }
   ],
   "source": [
    "range_iterator.__next__()"
   ]
  },
  {
   "cell_type": "markdown",
   "id": "b81420b4-ef53-438f-93f4-003b5a2c8142",
   "metadata": {
    "id": "2b89a65c-b6db-4977-87a1-e5bf24568751"
   },
   "source": [
    "> 파이썬의 작은 비밀: `range`은 `iterable` 오브젝트를 찍어내는 클래스였음"
   ]
  },
  {
   "cell_type": "markdown",
   "id": "79e969ce-81ad-45d2-9fc3-4eb598a6d818",
   "metadata": {
    "id": "6ce4be97-3ac6-45c3-8feb-afce0fa037cd"
   },
   "source": [
    "## E. `zip`"
   ]
  },
  {
   "cell_type": "markdown",
   "id": "ef044dc3-53f2-4329-a61e-e007431fd277",
   "metadata": {
    "id": "21a49298-c673-47ff-9783-ad9f2b30f848"
   },
   "source": [
    "`-` 이터레이터의 개념을 알면 for문에 대한 이해도가 대폭 상승한다."
   ]
  },
  {
   "cell_type": "code",
   "execution_count": 56,
   "id": "e3a0f990-1ff3-4002-9c6f-3262207c391f",
   "metadata": {
    "id": "9b639b6b-149c-4e29-88d8-fa224201f310",
    "outputId": "c63cf328-5517-4cfe-c073-d5072d38ec49",
    "tags": []
   },
   "outputs": [
    {
     "name": "stdout",
     "output_type": "stream",
     "text": [
      "1 a\n",
      "2 b\n",
      "3 c\n"
     ]
    }
   ],
   "source": [
    "for i,j in zip([1,2,3],'abc'):\n",
    "    print(i,j)"
   ]
  },
  {
   "cell_type": "markdown",
   "id": "fbeebe9c-3540-4b94-8d32-2eb14fdc5bff",
   "metadata": {
    "id": "9158c4b6-73ee-449c-b6fe-9305801e1e83"
   },
   "source": [
    "- `zip([1,2,3],'abc')`은 뭐지?"
   ]
  },
  {
   "cell_type": "markdown",
   "id": "1b71f801-1c88-4173-a7e3-dd04f4be0145",
   "metadata": {
    "id": "c805f9ab-b817-436c-bb64-b3d22efbc098"
   },
   "source": [
    "`-` `zip`은 클래스이고, `zip([1,2,3],'abc')`는 `zip` 클래스에서 찍힌 iterator 이다. "
   ]
  },
  {
   "cell_type": "code",
   "execution_count": 104,
   "id": "923d0e76-a317-4b45-9c77-ce0ed6915ca1",
   "metadata": {
    "tags": []
   },
   "outputs": [
    {
     "name": "stdout",
     "output_type": "stream",
     "text": [
      "True\n",
      "True\n"
     ]
    }
   ],
   "source": [
    "zip_instance = zip([1,2,3],'abc')\n",
    "print(isinstance(zip_instance,collections.abc.Iterable))\n",
    "print(isinstance(zip_instance,collections.abc.Iterator))"
   ]
  },
  {
   "cell_type": "code",
   "execution_count": 105,
   "id": "7eb05210-01fa-4f54-aa67-54edd4d3aafc",
   "metadata": {
    "tags": []
   },
   "outputs": [
    {
     "data": {
      "text/plain": [
       "(1, 'a')"
      ]
     },
     "execution_count": 105,
     "metadata": {},
     "output_type": "execute_result"
    }
   ],
   "source": [
    "next(zip_instance)"
   ]
  },
  {
   "cell_type": "code",
   "execution_count": 106,
   "id": "b8780b74-b628-4927-add6-3067c06f1ac1",
   "metadata": {
    "id": "09473d01-67ed-4121-9b8f-457b858e462c",
    "outputId": "a90e6eee-cdfe-4a55-932e-27e6ad458690",
    "tags": []
   },
   "outputs": [
    {
     "data": {
      "text/plain": [
       "(2, 'b')"
      ]
     },
     "execution_count": 106,
     "metadata": {},
     "output_type": "execute_result"
    }
   ],
   "source": [
    "next(zip_instance)"
   ]
  },
  {
   "cell_type": "code",
   "execution_count": 107,
   "id": "6edc36c0-1538-4952-820a-7f38413c60bf",
   "metadata": {
    "id": "da12e92b-1643-44c8-8371-a8a9163ca0ae",
    "outputId": "a4099f6a-d0d5-4879-ae50-d5a5eaeb84b5",
    "tags": []
   },
   "outputs": [
    {
     "data": {
      "text/plain": [
       "(3, 'c')"
      ]
     },
     "execution_count": 107,
     "metadata": {},
     "output_type": "execute_result"
    }
   ],
   "source": [
    "next(zip_instance)"
   ]
  },
  {
   "cell_type": "code",
   "execution_count": 108,
   "id": "f66cb068-5fd9-4040-ba6a-6648028d69be",
   "metadata": {
    "id": "067399f3-3017-4dc8-af9a-50d3b93b4f2e",
    "outputId": "5e795828-37c6-4320-9d19-aad2d20bcabb",
    "tags": []
   },
   "outputs": [
    {
     "ename": "StopIteration",
     "evalue": "",
     "output_type": "error",
     "traceback": [
      "\u001b[0;31m---------------------------------------------------------------------------\u001b[0m",
      "\u001b[0;31mStopIteration\u001b[0m                             Traceback (most recent call last)",
      "Cell \u001b[0;32mIn[108], line 1\u001b[0m\n\u001b[0;32m----> 1\u001b[0m \u001b[38;5;28;43mnext\u001b[39;49m\u001b[43m(\u001b[49m\u001b[43mzip_instance\u001b[49m\u001b[43m)\u001b[49m\n",
      "\u001b[0;31mStopIteration\u001b[0m: "
     ]
    }
   ],
   "source": [
    "next(zip_instance)"
   ]
  },
  {
   "cell_type": "markdown",
   "id": "63e1d9f4-01d3-4b16-aa97-824174eae936",
   "metadata": {
    "id": "2b89a65c-b6db-4977-87a1-e5bf24568751"
   },
   "source": [
    "> 파이썬의 작은 비밀: `zip`은 `iterator`를 찍어내는 클래스였음"
   ]
  },
  {
   "cell_type": "markdown",
   "id": "3e4418c4-c80c-49c0-872a-8804fd3e5b4e",
   "metadata": {
    "id": "a46ac68e-bc8c-4615-9419-8f098e7016c3",
    "tags": []
   },
   "source": [
    "## F. `enumerate`"
   ]
  },
  {
   "cell_type": "markdown",
   "id": "cd61a46d-ae6c-4e2a-a22c-b6c98b49c1b0",
   "metadata": {
    "id": "7b246700-9ba4-48ab-985a-52a9f713b05f"
   },
   "source": [
    "`-` zip의 짝궁으로 enumerate가 있었음"
   ]
  },
  {
   "cell_type": "code",
   "execution_count": 66,
   "id": "683f26ea-483d-4324-9b65-f73c6ab613e1",
   "metadata": {
    "id": "dd0a4471-a643-457e-b24d-4c65b454b114",
    "outputId": "5b1c165f-7e78-4a96-8514-bd7ce0248199",
    "tags": []
   },
   "outputs": [
    {
     "name": "stdout",
     "output_type": "stream",
     "text": [
      "0 a\n",
      "1 b\n",
      "2 c\n"
     ]
    }
   ],
   "source": [
    "for i,s in enumerate('abc'):\n",
    "    print(i,s)"
   ]
  },
  {
   "cell_type": "markdown",
   "id": "1d36519e-f15d-46f9-bfd7-8a0dd8893e03",
   "metadata": {
    "id": "9987a3e6-6092-4af6-b45b-0bff3bac15ac"
   },
   "source": [
    "`-` `enumerate('abc')`도 문법상 iterable object 아니면 iterator 임. $\\to$ 확인해보니 이터레이터!"
   ]
  },
  {
   "cell_type": "code",
   "execution_count": 110,
   "id": "808a061b-13b3-4080-9650-67e0ad68797d",
   "metadata": {
    "tags": []
   },
   "outputs": [
    {
     "name": "stdout",
     "output_type": "stream",
     "text": [
      "True\n",
      "True\n"
     ]
    }
   ],
   "source": [
    "enumerate_ins = enumerate('abc')\n",
    "print(isinstance(enumerate_ins,collections.abc.Iterable))\n",
    "print(isinstance(enumerate_ins,collections.abc.Iterator))"
   ]
  },
  {
   "cell_type": "code",
   "execution_count": 111,
   "id": "f64f1794-ed08-4503-87ee-b2ef7affe20e",
   "metadata": {
    "tags": []
   },
   "outputs": [
    {
     "data": {
      "text/plain": [
       "(0, 'a')"
      ]
     },
     "execution_count": 111,
     "metadata": {},
     "output_type": "execute_result"
    }
   ],
   "source": [
    "next(enumerate_ins)"
   ]
  },
  {
   "cell_type": "code",
   "execution_count": 112,
   "id": "8afa46f8-859a-4e48-bd01-ec8d55bb8ce0",
   "metadata": {
    "tags": []
   },
   "outputs": [
    {
     "data": {
      "text/plain": [
       "(1, 'b')"
      ]
     },
     "execution_count": 112,
     "metadata": {},
     "output_type": "execute_result"
    }
   ],
   "source": [
    "next(enumerate_ins)"
   ]
  },
  {
   "cell_type": "code",
   "execution_count": 113,
   "id": "76b4ef90-5f3f-4c67-97a6-7102e8fe71ad",
   "metadata": {
    "tags": []
   },
   "outputs": [
    {
     "data": {
      "text/plain": [
       "(2, 'c')"
      ]
     },
     "execution_count": 113,
     "metadata": {},
     "output_type": "execute_result"
    }
   ],
   "source": [
    "next(enumerate_ins)"
   ]
  },
  {
   "cell_type": "code",
   "execution_count": 114,
   "id": "68c47f86-0c46-4268-b4cd-df6601be03a4",
   "metadata": {
    "tags": []
   },
   "outputs": [
    {
     "ename": "StopIteration",
     "evalue": "",
     "output_type": "error",
     "traceback": [
      "\u001b[0;31m---------------------------------------------------------------------------\u001b[0m",
      "\u001b[0;31mStopIteration\u001b[0m                             Traceback (most recent call last)",
      "Cell \u001b[0;32mIn[114], line 1\u001b[0m\n\u001b[0;32m----> 1\u001b[0m \u001b[38;5;28;43mnext\u001b[39;49m\u001b[43m(\u001b[49m\u001b[43menumerate_ins\u001b[49m\u001b[43m)\u001b[49m\n",
      "\u001b[0;31mStopIteration\u001b[0m: "
     ]
    }
   ],
   "source": [
    "next(enumerate_ins)"
   ]
  },
  {
   "cell_type": "markdown",
   "id": "e4408d0c-48ef-4b55-aab7-e661c1703c7c",
   "metadata": {
    "id": "ccc8b71d-a127-488a-9829-3a3f8f2a1e3a"
   },
   "source": [
    "> 파이썬의 작은 비밀: `enumerate` 역시 `iterator`를 찍어내는 클래스다."
   ]
  },
  {
   "cell_type": "markdown",
   "id": "b4642320-71d2-4cb4-9d95-4c3820f9891c",
   "metadata": {
    "id": "f87a2b9d-83e8-4482-af28-82fb31b81f58"
   },
   "source": [
    "> 파이썬의 비밀: iterator나 iterable object만 for문과 함께 사용할 수 있다. (단, 예외적으로 `__getitem__` 이 정의된 경우에는 for문과 함께 쓸 수 있음.)"
   ]
  },
  {
   "cell_type": "markdown",
   "id": "cbd9f1f8-cbc7-439f-9749-593a4512e603",
   "metadata": {},
   "source": [
    "## G. `__getitem__()`"
   ]
  },
  {
   "cell_type": "markdown",
   "id": "f8c791d8-6c79-44a5-81e3-f2c47e60d4a4",
   "metadata": {},
   "source": [
    "`-` 예외"
   ]
  },
  {
   "cell_type": "code",
   "execution_count": 81,
   "id": "f924d02d-99d0-4f8e-b20c-76b840c4742e",
   "metadata": {
    "tags": []
   },
   "outputs": [],
   "source": [
    "class Dummy:\n",
    "    def __getitem__(self):\n",
    "        pass"
   ]
  },
  {
   "cell_type": "code",
   "execution_count": 85,
   "id": "9109ee68-194e-41a3-85ad-572b4a38294f",
   "metadata": {
    "tags": []
   },
   "outputs": [
    {
     "data": {
      "text/plain": [
       "False"
      ]
     },
     "execution_count": 85,
     "metadata": {},
     "output_type": "execute_result"
    }
   ],
   "source": [
    "dummy_ins = Dummy()\n",
    "isinstance(dummy_ins,collections.abc.Iterable)"
   ]
  },
  {
   "cell_type": "markdown",
   "id": "7a6dfb6b-13a2-4270-9cb1-544c9565f2e6",
   "metadata": {},
   "source": [
    "- 이터러블이 아니라고 판단됨"
   ]
  },
  {
   "cell_type": "code",
   "execution_count": 86,
   "id": "42475a62-7d0c-4cd4-b1b6-9b6a2a010c66",
   "metadata": {
    "tags": []
   },
   "outputs": [
    {
     "data": {
      "text/plain": [
       "<iterator at 0x7fe636541fc0>"
      ]
     },
     "execution_count": 86,
     "metadata": {},
     "output_type": "execute_result"
    }
   ],
   "source": [
    "iter(dummy_ins)"
   ]
  },
  {
   "cell_type": "code",
   "execution_count": 89,
   "id": "51620ec9-f3e1-46aa-b8cf-628ca412a395",
   "metadata": {
    "tags": []
   },
   "outputs": [
    {
     "data": {
      "text/plain": [
       "(True, True)"
      ]
     },
     "execution_count": 89,
     "metadata": {},
     "output_type": "execute_result"
    }
   ],
   "source": [
    "isinstance(iter(dummy_ins),collections.abc.Iterable), isinstance(iter(dummy_ins),collections.abc.Iterator)"
   ]
  },
  {
   "cell_type": "markdown",
   "id": "e3b61ae3-00a0-499c-b568-b058665b699b",
   "metadata": {},
   "source": [
    "- 그런데 이터레이터가 되었음.."
   ]
  },
  {
   "cell_type": "markdown",
   "id": "45511546-68c6-4224-95fb-6fa81e64516a",
   "metadata": {},
   "source": [
    "# 6. 클래스와 인스턴스 "
   ]
  },
  {
   "cell_type": "markdown",
   "id": "87087029-d3fd-4b9a-a388-1456b822a636",
   "metadata": {
    "tags": []
   },
   "source": [
    "> [여기로 가보자](https://guebin.github.io/PP2024/posts/11wk-2.html#a.-%ED%81%B4%EB%9E%98%EC%8A%A4-%EC%84%A0%EC%96%B8)"
   ]
  },
  {
   "cell_type": "markdown",
   "id": "efbe249c-a308-4bda-8aac-bd3410596645",
   "metadata": {
    "tags": []
   },
   "source": [
    "참고1: 메소드의 첫 입력은 `self`가 아니어도 상관없음. "
   ]
  },
  {
   "cell_type": "markdown",
   "id": "2f23fa06-6376-446e-a66e-1b28e6fed300",
   "metadata": {
    "tags": []
   },
   "source": [
    "참고2: class안에서 정의된 변수를 쓸때 무조건 `self.변수이름`(=`인스턴스태명.변수이름`)와 같은 형식으로 쓰는건 아님. `BobRoss.변수이름`(=`클래스이름.변수이름`) 과 같이 self대신에 클래스의 이름을 쓰는 경우도 있음. "
   ]
  },
  {
   "cell_type": "markdown",
   "id": "3fec978d-ee7b-4f38-8b7a-6b0e856b8a89",
   "metadata": {
    "tags": []
   },
   "source": [
    "이러한 내용들은 왜 있는것일까? A에서는 참고2에 대하여 알아 볼 것이고 B에서는 참고1에 대하여 알아 볼 것이다. "
   ]
  },
  {
   "cell_type": "markdown",
   "id": "ca7d9bd6-da60-45bc-b7db-3a6e72789ab9",
   "metadata": {},
   "source": [
    "## A. 인스턴스 변수, 클래스 변수"
   ]
  },
  {
   "cell_type": "markdown",
   "id": "8e63857d-7635-48b7-a12b-74cad3c0fa3e",
   "metadata": {},
   "source": [
    "`# 예제1` -- 인스턴스변수 "
   ]
  },
  {
   "cell_type": "code",
   "execution_count": 173,
   "id": "b3d77080-813e-40d5-8bb9-8aa91df13f5a",
   "metadata": {
    "tags": []
   },
   "outputs": [],
   "source": [
    "class GS25: \n",
    "    def __init__(self):\n",
    "        self.n_guests = 0 \n",
    "    def come(self,m):\n",
    "        self.n_guests = self.n_guests + m \n",
    "    def __repr__(self):\n",
    "        return f\"손님수(인스턴스) = {self.n_guests}\""
   ]
  },
  {
   "cell_type": "code",
   "execution_count": 166,
   "id": "7f9f3ef7-ea96-477b-965c-ea7767732d8d",
   "metadata": {
    "tags": []
   },
   "outputs": [],
   "source": [
    "store1 = GS25()"
   ]
  },
  {
   "cell_type": "code",
   "execution_count": 167,
   "id": "560249fc-248e-4365-ac4b-42d48d07276a",
   "metadata": {
    "tags": []
   },
   "outputs": [],
   "source": [
    "store1.come(2)\n",
    "store1.come(3)\n",
    "store1.come(5)"
   ]
  },
  {
   "cell_type": "code",
   "execution_count": 168,
   "id": "22d85b50-8566-44f4-bd34-8cf39c1599d2",
   "metadata": {
    "tags": []
   },
   "outputs": [
    {
     "data": {
      "text/plain": [
       "손님수(인스턴스) = 10"
      ]
     },
     "execution_count": 168,
     "metadata": {},
     "output_type": "execute_result"
    }
   ],
   "source": [
    "store1"
   ]
  },
  {
   "cell_type": "code",
   "execution_count": 169,
   "id": "b581cbbf-69e4-4ba4-9cea-b8f2a71855d8",
   "metadata": {
    "tags": []
   },
   "outputs": [],
   "source": [
    "store2 = GS25()"
   ]
  },
  {
   "cell_type": "code",
   "execution_count": 170,
   "id": "b7b2b13e-7392-4819-8c5e-d604bba166d7",
   "metadata": {
    "tags": []
   },
   "outputs": [],
   "source": [
    "store2.come(1)\n",
    "store2.come(1)\n",
    "store2.come(1)"
   ]
  },
  {
   "cell_type": "code",
   "execution_count": 171,
   "id": "3ea56590-864c-497b-9802-d3d574ed315b",
   "metadata": {
    "tags": []
   },
   "outputs": [
    {
     "data": {
      "text/plain": [
       "손님수(인스턴스) = 3"
      ]
     },
     "execution_count": 171,
     "metadata": {},
     "output_type": "execute_result"
    }
   ],
   "source": [
    "store2"
   ]
  },
  {
   "cell_type": "markdown",
   "id": "8bc04087-1ca3-4282-b5f7-f65ab1b4839d",
   "metadata": {},
   "source": [
    "`-` 질문1: GS25는 총 몇개의 store를 가지고 있는가? --> 2개"
   ]
  },
  {
   "cell_type": "markdown",
   "id": "23be1b50-cf2c-4206-adb6-c43c67315587",
   "metadata": {},
   "source": [
    "`-` 질문2: GS25는 모두 몇명의 손님이 왔는가? --> 10+3 = 13명"
   ]
  },
  {
   "cell_type": "markdown",
   "id": "9b558141-402f-4896-80e8-e1a88b3d1fd3",
   "metadata": {},
   "source": [
    "`# 예제2` -- 질문을 해결하기 위한 코드 "
   ]
  },
  {
   "cell_type": "code",
   "execution_count": 174,
   "id": "4cd54d85-ee88-46a4-8d45-be56a4169c99",
   "metadata": {
    "tags": []
   },
   "outputs": [
    {
     "ename": "AttributeError",
     "evalue": "type object 'GS25' has no attribute 'n_stores'",
     "output_type": "error",
     "traceback": [
      "\u001b[0;31m---------------------------------------------------------------------------\u001b[0m",
      "\u001b[0;31mAttributeError\u001b[0m                            Traceback (most recent call last)",
      "Cell \u001b[0;32mIn[174], line 1\u001b[0m\n\u001b[0;32m----> 1\u001b[0m \u001b[43mGS25\u001b[49m\u001b[38;5;241;43m.\u001b[39;49m\u001b[43mn_stores\u001b[49m\n",
      "\u001b[0;31mAttributeError\u001b[0m: type object 'GS25' has no attribute 'n_stores'"
     ]
    }
   ],
   "source": [
    "GS25.n_stores"
   ]
  },
  {
   "cell_type": "code",
   "execution_count": 175,
   "id": "0dac5dfb-ebb8-43ff-9a96-82c271f6ad98",
   "metadata": {
    "tags": []
   },
   "outputs": [
    {
     "ename": "AttributeError",
     "evalue": "type object 'GS25' has no attribute 'n_total_guests'",
     "output_type": "error",
     "traceback": [
      "\u001b[0;31m---------------------------------------------------------------------------\u001b[0m",
      "\u001b[0;31mAttributeError\u001b[0m                            Traceback (most recent call last)",
      "Cell \u001b[0;32mIn[175], line 1\u001b[0m\n\u001b[0;32m----> 1\u001b[0m \u001b[43mGS25\u001b[49m\u001b[38;5;241;43m.\u001b[39;49m\u001b[43mn_total_guests\u001b[49m\n",
      "\u001b[0;31mAttributeError\u001b[0m: type object 'GS25' has no attribute 'n_total_guests'"
     ]
    }
   ],
   "source": [
    "GS25.n_total_guests"
   ]
  },
  {
   "cell_type": "code",
   "execution_count": 176,
   "id": "ccd26364-050f-4b81-8398-76e44415dd25",
   "metadata": {
    "tags": []
   },
   "outputs": [],
   "source": [
    "GS25.n_stores = 0\n",
    "GS25.n_total_guests = 0 "
   ]
  },
  {
   "cell_type": "code",
   "execution_count": 177,
   "id": "161d5f00-dfaa-47e9-a4a3-8cb05a71d032",
   "metadata": {
    "tags": []
   },
   "outputs": [
    {
     "data": {
      "text/plain": [
       "(0, 0)"
      ]
     },
     "execution_count": 177,
     "metadata": {},
     "output_type": "execute_result"
    }
   ],
   "source": [
    "GS25.n_stores, GS25.n_total_guests # 이게 가능하네??"
   ]
  },
  {
   "cell_type": "code",
   "execution_count": 178,
   "id": "821d2d2c-a57d-49b2-8662-a3d2e0134289",
   "metadata": {
    "tags": []
   },
   "outputs": [],
   "source": [
    "store1 = GS25()\n",
    "GS25.n_stores = GS25.n_stores + 1"
   ]
  },
  {
   "cell_type": "code",
   "execution_count": 180,
   "id": "8b80f2c0-5238-4332-b558-9ceaafe7cb51",
   "metadata": {
    "tags": []
   },
   "outputs": [],
   "source": [
    "#store1.come(2)\n",
    "store1.n_guests = store1.n_guests + 2  \n",
    "GS25.n_total_guests = GS25.n_total_guests +2 \n",
    "#store1.come(3)\n",
    "store1.n_guests = store1.n_guests + 3 \n",
    "GS25.n_total_guests = GS25.n_total_guests + 3 \n",
    "#store1.come(5)\n",
    "store1.n_guests = store1.n_guests + 5\n",
    "GS25.n_total_guests = GS25.n_total_guests + 5 "
   ]
  },
  {
   "cell_type": "code",
   "execution_count": 181,
   "id": "b1c18613-c5af-404f-b25c-f4a7f6722bb8",
   "metadata": {
    "tags": []
   },
   "outputs": [
    {
     "data": {
      "text/plain": [
       "손님수(인스턴스) = 10"
      ]
     },
     "execution_count": 181,
     "metadata": {},
     "output_type": "execute_result"
    }
   ],
   "source": [
    "store1"
   ]
  },
  {
   "cell_type": "code",
   "execution_count": 182,
   "id": "8afa3b7e-dcd1-4249-96a8-b77897dc1b32",
   "metadata": {
    "tags": []
   },
   "outputs": [
    {
     "data": {
      "text/plain": [
       "(1, 10)"
      ]
     },
     "execution_count": 182,
     "metadata": {},
     "output_type": "execute_result"
    }
   ],
   "source": [
    "GS25.n_stores, GS25.n_total_guests"
   ]
  },
  {
   "cell_type": "code",
   "execution_count": 183,
   "id": "e0dc5d0b-d94a-4172-9661-26500bd08882",
   "metadata": {
    "tags": []
   },
   "outputs": [],
   "source": [
    "store2 = GS25()\n",
    "GS25.n_stores = GS25.n_stores + 1 "
   ]
  },
  {
   "cell_type": "code",
   "execution_count": 184,
   "id": "9328002a-6e3b-4539-b529-626474e03a33",
   "metadata": {
    "tags": []
   },
   "outputs": [],
   "source": [
    "#store2.come(1)\n",
    "store2.n_guests = store2.n_guests + 1  \n",
    "GS25.n_total_guests = GS25.n_total_guests + 1 \n",
    "#store2.come(1)\n",
    "store2.n_guests = store2.n_guests + 1  \n",
    "GS25.n_total_guests = GS25.n_total_guests + 1 \n",
    "#store2.come(1)\n",
    "store2.n_guests = store2.n_guests + 1  \n",
    "GS25.n_total_guests = GS25.n_total_guests + 1 "
   ]
  },
  {
   "cell_type": "code",
   "execution_count": 185,
   "id": "f0889abb-a7fe-4610-bd62-d3bc9d6bb597",
   "metadata": {
    "tags": []
   },
   "outputs": [
    {
     "data": {
      "text/plain": [
       "손님수(인스턴스) = 3"
      ]
     },
     "execution_count": 185,
     "metadata": {},
     "output_type": "execute_result"
    }
   ],
   "source": [
    "store2"
   ]
  },
  {
   "cell_type": "code",
   "execution_count": 186,
   "id": "8d17e4c5-697f-4e0e-a4c3-3084d1cb91d0",
   "metadata": {
    "tags": []
   },
   "outputs": [
    {
     "data": {
      "text/plain": [
       "(2, 13)"
      ]
     },
     "execution_count": 186,
     "metadata": {},
     "output_type": "execute_result"
    }
   ],
   "source": [
    "GS25.n_stores, GS25.n_total_guests "
   ]
  },
  {
   "cell_type": "markdown",
   "id": "9355c026-7517-4cea-80ba-2de61f56bdc6",
   "metadata": {
    "tags": []
   },
   "source": [
    "`#`"
   ]
  },
  {
   "cell_type": "markdown",
   "id": "f0e815dd-0fbe-48a9-9851-a9c39a0719ac",
   "metadata": {},
   "source": [
    "`# 예제3` -- 질문을 해결하기 위한 코드 (2)"
   ]
  },
  {
   "cell_type": "code",
   "execution_count": 192,
   "id": "a28c511d-69c6-4901-9321-0f82322d7ee7",
   "metadata": {
    "tags": []
   },
   "outputs": [],
   "source": [
    "class GS25: \n",
    "    n_stores = 0\n",
    "    n_total_guests = 0\n",
    "    def __init__(self):\n",
    "        self.n_guests = 0 \n",
    "        GS25.n_stores = GS25.n_stores + 1 \n",
    "    def come(self,m):\n",
    "        self.n_guests = self.n_guests + m \n",
    "        GS25.n_total_guests = GS25.n_total_guests + m\n",
    "    def __repr__(self):\n",
    "        text = (\n",
    "            f\"GS25-{GS25.n_stores}호점\\n\"\n",
    "            f\"손님수(인스턴스) = {self.n_guests}\\n\"\n",
    "            f\"총손님수(클래스) = {GS25.n_total_guests}\"    \n",
    "        )\n",
    "        return text "
   ]
  },
  {
   "cell_type": "code",
   "execution_count": 193,
   "id": "5c3ddc97-07bc-431b-9092-fd9dd2439088",
   "metadata": {
    "tags": []
   },
   "outputs": [
    {
     "data": {
      "text/plain": [
       "GS25-1호점\n",
       "손님수(인스턴스) = 0\n",
       "총손님수(클래스) = 0"
      ]
     },
     "execution_count": 193,
     "metadata": {},
     "output_type": "execute_result"
    }
   ],
   "source": [
    "store1 = GS25()\n",
    "store1"
   ]
  },
  {
   "cell_type": "code",
   "execution_count": 194,
   "id": "22892ae9-78ce-47d4-a166-e5cc6e9bd75b",
   "metadata": {
    "tags": []
   },
   "outputs": [
    {
     "data": {
      "text/plain": [
       "GS25-1호점\n",
       "손님수(인스턴스) = 10\n",
       "총손님수(클래스) = 10"
      ]
     },
     "execution_count": 194,
     "metadata": {},
     "output_type": "execute_result"
    }
   ],
   "source": [
    "store1.come(2)\n",
    "store1.come(3)\n",
    "store1.come(5)\n",
    "store1"
   ]
  },
  {
   "cell_type": "code",
   "execution_count": 195,
   "id": "c4223c0e-446c-414b-a2fc-6a4bb56c6301",
   "metadata": {
    "tags": []
   },
   "outputs": [
    {
     "data": {
      "text/plain": [
       "GS25-2호점\n",
       "손님수(인스턴스) = 0\n",
       "총손님수(클래스) = 10"
      ]
     },
     "execution_count": 195,
     "metadata": {},
     "output_type": "execute_result"
    }
   ],
   "source": [
    "store2 = GS25()\n",
    "store2"
   ]
  },
  {
   "cell_type": "code",
   "execution_count": 196,
   "id": "7de7586f-6428-4446-bb1b-489a88f511f3",
   "metadata": {
    "tags": []
   },
   "outputs": [
    {
     "data": {
      "text/plain": [
       "GS25-2호점\n",
       "손님수(인스턴스) = 3\n",
       "총손님수(클래스) = 13"
      ]
     },
     "execution_count": 196,
     "metadata": {},
     "output_type": "execute_result"
    }
   ],
   "source": [
    "store2.come(1)\n",
    "store2.come(1)\n",
    "store2.come(1)\n",
    "store2"
   ]
  },
  {
   "cell_type": "markdown",
   "id": "1a1054db-f455-46c1-9eef-efd1e21769e7",
   "metadata": {},
   "source": [
    "**요약**\n",
    "\n",
    "1. 클래스내에서 사용할 수 있는 변수는 \"클래스변수\", \"인스턴스변수\" 가 있으며, 클래스변수는 클래스 오브젝트에, 인스턴스 변수는 인스턴스 오브젝트에 귀속된다. \n",
    "2. 클래스변수는 class 이후에 변수명을 나열하여 선언하고, 인스턴스변수는 `__init__(self)` 에서 정리하여 선언한다. \n",
    "3. 클래스변수를 사용할때는 `클래스이름.변수이름` 와 같은 형식으로, 인스턴스변수를 사용할때는 `self.변수이름`와 같은 형식으로 쓴다. "
   ]
  },
  {
   "cell_type": "markdown",
   "id": "6d10b3c7-c915-48aa-bd49-429186d13ef2",
   "metadata": {},
   "source": [
    "`# 예제4` -- 인스턴스변수를 따로 선언하지 않아도, 클래스변수가 선언되어 있으면 그 클래스에서 태어난 인스턴스는 클래스변수를 빌려쓸 수 있다. "
   ]
  },
  {
   "cell_type": "code",
   "execution_count": 209,
   "id": "8ada0e2f-55a4-4409-a670-c1bab9d910cc",
   "metadata": {
    "tags": []
   },
   "outputs": [],
   "source": [
    "class Klass:\n",
    "    a = 100 # a는 클래스 변수"
   ]
  },
  {
   "cell_type": "code",
   "execution_count": 210,
   "id": "ebc802ec-bb54-44eb-bec0-5d8ea70c2d4b",
   "metadata": {
    "tags": []
   },
   "outputs": [
    {
     "data": {
      "text/plain": [
       "100"
      ]
     },
     "execution_count": 210,
     "metadata": {},
     "output_type": "execute_result"
    }
   ],
   "source": [
    "Klass.a"
   ]
  },
  {
   "cell_type": "code",
   "execution_count": 211,
   "id": "362621d9-934a-4d9e-8d34-5682d408550a",
   "metadata": {
    "tags": []
   },
   "outputs": [],
   "source": [
    "ins = Klass()"
   ]
  },
  {
   "cell_type": "code",
   "execution_count": 212,
   "id": "4ed1cd09-007f-4c40-be71-703687f4d508",
   "metadata": {
    "tags": []
   },
   "outputs": [
    {
     "data": {
      "text/plain": [
       "100"
      ]
     },
     "execution_count": 212,
     "metadata": {},
     "output_type": "execute_result"
    }
   ],
   "source": [
    "ins.a # 클래스변수인데 빌려쓰고있음"
   ]
  },
  {
   "cell_type": "markdown",
   "id": "1ebc67f9-1e5e-4692-8a8b-9d929d325957",
   "metadata": {
    "tags": []
   },
   "source": [
    "`#`"
   ]
  },
  {
   "cell_type": "markdown",
   "id": "9847ccda-79f1-4de6-a617-44f87727feea",
   "metadata": {},
   "source": [
    "`# 예제5` -- 인스턴스가 클래스변수를 빌려쓰는 경우 클래스변수를 바꾸면 자동으로 인스턴스 변수도 바뀐다. "
   ]
  },
  {
   "cell_type": "code",
   "execution_count": 213,
   "id": "497214c5-19eb-4b6e-8b36-45f07ce3c4a7",
   "metadata": {
    "tags": []
   },
   "outputs": [],
   "source": [
    "class Klass:\n",
    "    a = 0 # a는 클래스 변수"
   ]
  },
  {
   "cell_type": "code",
   "execution_count": 214,
   "id": "92a22747-cc2e-4568-8610-048d3bc18623",
   "metadata": {
    "tags": []
   },
   "outputs": [
    {
     "data": {
      "text/plain": [
       "0"
      ]
     },
     "execution_count": 214,
     "metadata": {},
     "output_type": "execute_result"
    }
   ],
   "source": [
    "Klass.a"
   ]
  },
  {
   "cell_type": "code",
   "execution_count": 215,
   "id": "20ed6c39-578d-4e32-afa5-5200eca365be",
   "metadata": {
    "tags": []
   },
   "outputs": [],
   "source": [
    "ins1 = Klass()"
   ]
  },
  {
   "cell_type": "code",
   "execution_count": 216,
   "id": "b50006fc-1dcc-4430-af2f-38308ff70b9a",
   "metadata": {
    "tags": []
   },
   "outputs": [],
   "source": [
    "ins2 = Klass()"
   ]
  },
  {
   "cell_type": "code",
   "execution_count": 217,
   "id": "c792c2d8-c581-4e9d-a78c-4851290cd5d6",
   "metadata": {
    "tags": []
   },
   "outputs": [
    {
     "data": {
      "text/plain": [
       "(0, 0)"
      ]
     },
     "execution_count": 217,
     "metadata": {},
     "output_type": "execute_result"
    }
   ],
   "source": [
    "ins1.a, ins2.a "
   ]
  },
  {
   "cell_type": "code",
   "execution_count": 218,
   "id": "78347122-f2de-4380-9c95-a4a1d41c864b",
   "metadata": {
    "tags": []
   },
   "outputs": [],
   "source": [
    "Klass.a = 10"
   ]
  },
  {
   "cell_type": "code",
   "execution_count": 219,
   "id": "ac0e3f17-6cd1-4d94-a5d7-5098cf16b4f5",
   "metadata": {
    "tags": []
   },
   "outputs": [
    {
     "data": {
      "text/plain": [
       "(10, 10)"
      ]
     },
     "execution_count": 219,
     "metadata": {},
     "output_type": "execute_result"
    }
   ],
   "source": [
    "ins1.a, ins2.a "
   ]
  },
  {
   "cell_type": "markdown",
   "id": "2e8568df-7d75-41bd-a1a0-df97d3a9af4d",
   "metadata": {
    "tags": []
   },
   "source": [
    "`#`"
   ]
  },
  {
   "cell_type": "markdown",
   "id": "a5492f6d-d8f5-4469-9d27-0decf0a900b9",
   "metadata": {},
   "source": [
    "`# 예제6` -- 인스턴스변수와 클래스변수가 같은이름으로 동시에 선언된 경우, 각각 독립적으로 행동한다. "
   ]
  },
  {
   "cell_type": "code",
   "execution_count": 248,
   "id": "18bc821c-0b10-4067-ae2c-06d055fed735",
   "metadata": {
    "tags": []
   },
   "outputs": [],
   "source": [
    "class Klass:\n",
    "    a = 0 # a는 클래스 변수\n",
    "    def __init__(self):\n",
    "        self.a = 1 # a는 인스턴스 변수 # self는 더이상 a를 클래스에서 빌렸지 않게됨 "
   ]
  },
  {
   "cell_type": "code",
   "execution_count": 221,
   "id": "6e63a6d6-3b62-4ff2-8d8f-e6ea298504f4",
   "metadata": {
    "tags": []
   },
   "outputs": [
    {
     "data": {
      "text/plain": [
       "0"
      ]
     },
     "execution_count": 221,
     "metadata": {},
     "output_type": "execute_result"
    }
   ],
   "source": [
    "Klass.a"
   ]
  },
  {
   "cell_type": "code",
   "execution_count": 222,
   "id": "a874193b-cb5c-4017-b40e-a4daaaca3989",
   "metadata": {
    "tags": []
   },
   "outputs": [],
   "source": [
    "ins = Klass()"
   ]
  },
  {
   "cell_type": "code",
   "execution_count": 223,
   "id": "c7e75df5-1b93-4a69-bce2-8cdbc9ccf1e7",
   "metadata": {
    "tags": []
   },
   "outputs": [
    {
     "data": {
      "text/plain": [
       "1"
      ]
     },
     "execution_count": 223,
     "metadata": {},
     "output_type": "execute_result"
    }
   ],
   "source": [
    "ins.a"
   ]
  },
  {
   "cell_type": "code",
   "execution_count": 224,
   "id": "d055a2ad-d048-4f98-822e-97449fa4a140",
   "metadata": {
    "tags": []
   },
   "outputs": [
    {
     "data": {
      "text/plain": [
       "(100, 1)"
      ]
     },
     "execution_count": 224,
     "metadata": {},
     "output_type": "execute_result"
    }
   ],
   "source": [
    "Klass.a = 100\n",
    "Klass.a, ins.a "
   ]
  },
  {
   "cell_type": "code",
   "execution_count": 225,
   "id": "59472dbf-b23e-4765-b08c-1d891468e294",
   "metadata": {
    "tags": []
   },
   "outputs": [
    {
     "data": {
      "text/plain": [
       "(100, 200)"
      ]
     },
     "execution_count": 225,
     "metadata": {},
     "output_type": "execute_result"
    }
   ],
   "source": [
    "ins.a = 200\n",
    "Klass.a, ins.a "
   ]
  },
  {
   "cell_type": "markdown",
   "id": "ad9d56ab-0d35-40d9-9620-24c729022805",
   "metadata": {},
   "source": [
    "`#`"
   ]
  },
  {
   "cell_type": "markdown",
   "id": "7a4f8741-79b1-4d80-a746-9c30d1676c63",
   "metadata": {
    "tags": []
   },
   "source": [
    "`# 예제7` -- 인스턴스가 클래스변수를 빌려쓰는 경우, 인스턴스 변수를 변경하더라도 클래스변수가 변경되지 않는다. (대신 예제6과 같이 인스턴스변수가 따로 독립적으로 생성되는 효과가 나온다) "
   ]
  },
  {
   "cell_type": "code",
   "execution_count": 254,
   "id": "025ad1de-5c1b-4285-93d3-376e123e88fd",
   "metadata": {
    "tags": []
   },
   "outputs": [],
   "source": [
    "class Klass:\n",
    "    a = 0 # a는 클래스 변수"
   ]
  },
  {
   "cell_type": "code",
   "execution_count": 255,
   "id": "86d7f82a-bdc1-4940-84a8-64157ad4de6d",
   "metadata": {
    "tags": []
   },
   "outputs": [
    {
     "data": {
      "text/plain": [
       "0"
      ]
     },
     "execution_count": 255,
     "metadata": {},
     "output_type": "execute_result"
    }
   ],
   "source": [
    "Klass.a"
   ]
  },
  {
   "cell_type": "code",
   "execution_count": 256,
   "id": "71d0bbf7-af64-42f7-8e53-b6e204a0035c",
   "metadata": {
    "tags": []
   },
   "outputs": [],
   "source": [
    "ins1 = Klass()\n",
    "ins2 = Klass()"
   ]
  },
  {
   "cell_type": "code",
   "execution_count": 257,
   "id": "cc919c23-9303-43b4-a56d-3c3a5579a816",
   "metadata": {
    "tags": []
   },
   "outputs": [
    {
     "data": {
      "text/plain": [
       "(0, 0)"
      ]
     },
     "execution_count": 257,
     "metadata": {},
     "output_type": "execute_result"
    }
   ],
   "source": [
    "ins1.a, ins2.a"
   ]
  },
  {
   "cell_type": "code",
   "execution_count": 258,
   "id": "7d545e71-bddd-4d2f-ba64-55f0e95c7176",
   "metadata": {
    "tags": []
   },
   "outputs": [],
   "source": [
    "Klass.a = 10"
   ]
  },
  {
   "cell_type": "code",
   "execution_count": 259,
   "id": "c23c28e5-f468-4e2d-acbe-5e1393461298",
   "metadata": {
    "tags": []
   },
   "outputs": [
    {
     "data": {
      "text/plain": [
       "(10, 10, 10)"
      ]
     },
     "execution_count": 259,
     "metadata": {},
     "output_type": "execute_result"
    }
   ],
   "source": [
    "Klass.a, ins1.a, ins2.a"
   ]
  },
  {
   "cell_type": "code",
   "execution_count": 260,
   "id": "858838c2-7e4e-47af-b88f-70dad41424e9",
   "metadata": {
    "tags": []
   },
   "outputs": [
    {
     "data": {
      "text/plain": [
       "100"
      ]
     },
     "execution_count": 260,
     "metadata": {},
     "output_type": "execute_result"
    }
   ],
   "source": [
    "ins1.a = 100 # 이순간 더이상 ins1은 클래스에 있는 a를 빌려쓰는게 아니고 독자적으로 a를 만듦\n",
    "ins1.a"
   ]
  },
  {
   "cell_type": "code",
   "execution_count": 261,
   "id": "331c1560-6d7d-415a-8ebf-7a8b095effde",
   "metadata": {
    "tags": []
   },
   "outputs": [
    {
     "data": {
      "text/plain": [
       "(10, 100, 10)"
      ]
     },
     "execution_count": 261,
     "metadata": {},
     "output_type": "execute_result"
    }
   ],
   "source": [
    "Klass.a, ins1.a, ins2.a"
   ]
  },
  {
   "cell_type": "code",
   "execution_count": 262,
   "id": "12b3a2db-f058-43c4-a1f4-0365484abcc1",
   "metadata": {
    "tags": []
   },
   "outputs": [],
   "source": [
    "Klass.a = -99"
   ]
  },
  {
   "cell_type": "code",
   "execution_count": 264,
   "id": "0ead2fef-7580-4285-812c-5da1eb3d9a4e",
   "metadata": {
    "tags": []
   },
   "outputs": [
    {
     "data": {
      "text/plain": [
       "(-99, 100, -99)"
      ]
     },
     "execution_count": 264,
     "metadata": {},
     "output_type": "execute_result"
    }
   ],
   "source": [
    "Klass.a, ins1.a, ins2.a # # ins1는 더이상 변수를 빌려쓰지 않음, 독자노선"
   ]
  },
  {
   "cell_type": "markdown",
   "id": "0784e734-fadd-48ec-9b61-07f3b4a36a0e",
   "metadata": {},
   "source": [
    "`# 예제8` -- 정석적이지 않은사용 "
   ]
  },
  {
   "cell_type": "code",
   "execution_count": 285,
   "id": "45ba811b-c132-45e7-ac93-083249893783",
   "metadata": {
    "tags": []
   },
   "outputs": [],
   "source": [
    "class Up:\n",
    "    a = 0 \n",
    "    def up(self):\n",
    "        self.a = self.a + 1 "
   ]
  },
  {
   "cell_type": "code",
   "execution_count": 286,
   "id": "5a8982fe-4d67-4afa-af67-2c59cf3b94b0",
   "metadata": {
    "tags": []
   },
   "outputs": [],
   "source": [
    "ins = Up()"
   ]
  },
  {
   "cell_type": "code",
   "execution_count": 287,
   "id": "52ec07e6-0d63-43f3-a8d2-46c47ae8caa9",
   "metadata": {
    "tags": []
   },
   "outputs": [],
   "source": [
    "ins.a = ins.a +1 # 이때는 클래스변수를 빌려씀"
   ]
  },
  {
   "cell_type": "code",
   "execution_count": 288,
   "id": "13e1a11c-228c-4f32-9b8b-ec721e8256f0",
   "metadata": {
    "tags": []
   },
   "outputs": [
    {
     "data": {
      "text/plain": [
       "2"
      ]
     },
     "execution_count": 288,
     "metadata": {},
     "output_type": "execute_result"
    }
   ],
   "source": [
    "ins.up() # 이걸 실행하는 순간 a는 인스턴스 변수로 변화\n",
    "ins.a"
   ]
  },
  {
   "cell_type": "markdown",
   "id": "1b4132d1-380a-4dfd-84ad-713e6ad8d8c8",
   "metadata": {
    "tags": []
   },
   "source": [
    "`#`"
   ]
  },
  {
   "cell_type": "markdown",
   "id": "b461e106-e67d-41ce-bf0d-23bf654aa757",
   "metadata": {},
   "source": [
    "## B. 인스턴스 메서드"
   ]
  },
  {
   "cell_type": "markdown",
   "id": "dd1a1e3f-4072-4f28-9a25-22e8ac95db25",
   "metadata": {},
   "source": [
    "`-` self 비밀: 사실 클래스에서 정의된 함수의 첫번째 인자의 이름이 꼭 self일 필요는 없다. (무엇으로 전달하든 클래스안에서 정의된 메소드의 첫번째 인자는 기본적으로 instance의 태명역할을 한다) "
   ]
  },
  {
   "cell_type": "code",
   "execution_count": 289,
   "id": "ef4a118f-9302-487f-bdbe-d76a2440efad",
   "metadata": {
    "tags": []
   },
   "outputs": [],
   "source": [
    "class Guebin: \n",
    "    def __init__(abab):\n",
    "        abab.name = 'guebin'\n",
    "    def __repr__(cdcd):\n",
    "        return f\"이름: {cdcd.name}\""
   ]
  },
  {
   "cell_type": "code",
   "execution_count": 290,
   "id": "338e3991-c09b-4be4-a336-f112bcff6781",
   "metadata": {
    "tags": []
   },
   "outputs": [],
   "source": [
    "a=Guebin()"
   ]
  },
  {
   "cell_type": "code",
   "execution_count": 291,
   "id": "3276fb3f-0ab8-488a-b703-2a5b4acc7441",
   "metadata": {
    "tags": []
   },
   "outputs": [
    {
     "data": {
      "text/plain": [
       "'guebin'"
      ]
     },
     "execution_count": 291,
     "metadata": {},
     "output_type": "execute_result"
    }
   ],
   "source": [
    "a.name"
   ]
  },
  {
   "cell_type": "code",
   "execution_count": 292,
   "id": "ee124f92-9c31-4afb-9e51-77b78613f37b",
   "metadata": {
    "tags": []
   },
   "outputs": [
    {
     "data": {
      "text/plain": [
       "이름: guebin"
      ]
     },
     "execution_count": 292,
     "metadata": {},
     "output_type": "execute_result"
    }
   ],
   "source": [
    "a"
   ]
  },
  {
   "cell_type": "markdown",
   "id": "e3444401-71d6-4492-b997-c1f9abdfe19a",
   "metadata": {},
   "source": [
    "`-` 그런데 그냥 self를 쓰세요. 관습에 따르세요. "
   ]
  },
  {
   "cell_type": "markdown",
   "id": "ea7f1d7f-af8d-4c72-be2b-eef3a6bde4ae",
   "metadata": {},
   "source": [
    "## C. 클래스 메서드"
   ]
  },
  {
   "cell_type": "markdown",
   "id": "74183489-7442-4abb-91d4-3dd8b4f81a38",
   "metadata": {},
   "source": [
    "`-` 클래스 메서드: 함수의 첫 인자로 클래스오브젝트를 받는 특수한 함수를 클래스메서드라고 한다. \n",
    "\n",
    "- 인스턴스 메서드: 함수의 첫 인자로 인스턴스오브젝트를 받는 특수한 함수를 인스턴스 메서드라고 한다. "
   ]
  },
  {
   "cell_type": "markdown",
   "id": "e2c263eb-402a-470b-adfe-6e831b324688",
   "metadata": {},
   "source": [
    "`-` 목표: `클래스이름.f()`와 같은 형태로 사용할 수 있는 함수를 만들어 보자 -> 클래스메서드를 만들어보자!"
   ]
  },
  {
   "cell_type": "markdown",
   "id": "acc82bd7-11ab-402f-bc19-0764bec16a53",
   "metadata": {},
   "source": [
    "`# 예제1` -- 아래의 코드를 수정해보자."
   ]
  },
  {
   "cell_type": "code",
   "execution_count": 703,
   "id": "04270ac7-3368-4ef0-b23a-a08a7f2dc26f",
   "metadata": {
    "tags": []
   },
   "outputs": [],
   "source": [
    "# class GS25: \n",
    "#     n_stores = 0\n",
    "#     n_total_guests = 0\n",
    "#     def __init__(self):\n",
    "#         self.n_guests = 0 \n",
    "#         GS25.n_stores = GS25.n_stores + 1 \n",
    "#     def come(self,m):\n",
    "#         self.n_guests = self.n_guests + m \n",
    "#         GS25.n_total_guests = GS25.n_total_guests + m\n",
    "#     def __repr__(self):\n",
    "#         text = (\n",
    "#             f\"GS25-{GS25.n_stores}호점\\n\"\n",
    "#             f\"손님수(인스턴스) = {self.n_guests}\\n\"\n",
    "#             f\"총손님수(클래스) = {GS25.n_total_guests}\"    \n",
    "#         )\n",
    "#         return text "
   ]
  },
  {
   "cell_type": "code",
   "execution_count": 317,
   "id": "ff508bc0-e711-454d-ae25-24c54a6d2783",
   "metadata": {
    "tags": []
   },
   "outputs": [],
   "source": [
    "class GS25: \n",
    "    n_stores = 0\n",
    "    n_total_guests = 0\n",
    "    @classmethod\n",
    "    def add_store(cls):\n",
    "        cls.n_stores = cls.n_stores + 1 \n",
    "    @classmethod\n",
    "    def add_guest(cls,m):\n",
    "        cls.n_total_guests = cls.n_total_guests + m \n",
    "    @classmethod\n",
    "    def info(cls):\n",
    "        print(f\"총점포수 = {cls.n_stores}\\n총손님수 = {cls.n_total_guests}\")\n",
    "    #--#\n",
    "    def __init__(self):\n",
    "        self.n_guests = 0 \n",
    "        GS25.add_store()\n",
    "    def come(self,m):\n",
    "        self.n_guests = self.n_guests + m \n",
    "        GS25.add_guest(m)\n",
    "    def __repr__(self):\n",
    "        text = (\n",
    "            f\"GS25-{GS25.n_stores}호점\\n\"\n",
    "            f\"손님수(인스턴스) = {self.n_guests}\\n\"\n",
    "            f\"총손님수(클래스) = {GS25.n_total_guests}\"    \n",
    "        )\n",
    "        return text "
   ]
  },
  {
   "cell_type": "code",
   "execution_count": 318,
   "id": "61fce19f-2555-4e94-8096-21fe2af698a0",
   "metadata": {
    "tags": []
   },
   "outputs": [
    {
     "name": "stdout",
     "output_type": "stream",
     "text": [
      "총점포수 = 0\n",
      "총손님수 = 0\n"
     ]
    }
   ],
   "source": [
    "GS25.info()"
   ]
  },
  {
   "cell_type": "code",
   "execution_count": 319,
   "id": "9a53c3fc-1429-415a-b6d8-1dc724c07d65",
   "metadata": {
    "tags": []
   },
   "outputs": [],
   "source": [
    "store1 = GS25()"
   ]
  },
  {
   "cell_type": "code",
   "execution_count": 320,
   "id": "30d5c2fa-67d0-42f7-9104-c1a54297a486",
   "metadata": {
    "tags": []
   },
   "outputs": [
    {
     "data": {
      "text/plain": [
       "GS25-1호점\n",
       "손님수(인스턴스) = 0\n",
       "총손님수(클래스) = 0"
      ]
     },
     "execution_count": 320,
     "metadata": {},
     "output_type": "execute_result"
    }
   ],
   "source": [
    "store1"
   ]
  },
  {
   "cell_type": "code",
   "execution_count": 321,
   "id": "490e0d9c-4010-4bec-aa44-e0447020dcd7",
   "metadata": {
    "tags": []
   },
   "outputs": [],
   "source": [
    "store1.come(2)"
   ]
  },
  {
   "cell_type": "code",
   "execution_count": 322,
   "id": "608f6f31-cecd-4115-aa3e-43c8f12aa6ff",
   "metadata": {
    "tags": []
   },
   "outputs": [
    {
     "data": {
      "text/plain": [
       "GS25-1호점\n",
       "손님수(인스턴스) = 2\n",
       "총손님수(클래스) = 2"
      ]
     },
     "execution_count": 322,
     "metadata": {},
     "output_type": "execute_result"
    }
   ],
   "source": [
    "store1"
   ]
  },
  {
   "cell_type": "code",
   "execution_count": 323,
   "id": "159f2aec-d875-478c-a159-7cc06ce43a34",
   "metadata": {
    "tags": []
   },
   "outputs": [
    {
     "name": "stdout",
     "output_type": "stream",
     "text": [
      "총점포수 = 1\n",
      "총손님수 = 2\n"
     ]
    }
   ],
   "source": [
    "GS25.info()"
   ]
  },
  {
   "cell_type": "code",
   "execution_count": 324,
   "id": "8da840d1-7ba2-4c84-97fe-751d08b477c3",
   "metadata": {
    "tags": []
   },
   "outputs": [],
   "source": [
    "store2 = GS25()"
   ]
  },
  {
   "cell_type": "code",
   "execution_count": 325,
   "id": "47263704-1cd5-4007-8199-fd2aadf7ea3c",
   "metadata": {
    "tags": []
   },
   "outputs": [],
   "source": [
    "store2.come(5)"
   ]
  },
  {
   "cell_type": "code",
   "execution_count": 326,
   "id": "bf2e6e58-8c21-413b-bfbf-157ab37430ce",
   "metadata": {
    "tags": []
   },
   "outputs": [
    {
     "data": {
      "text/plain": [
       "GS25-2호점\n",
       "손님수(인스턴스) = 5\n",
       "총손님수(클래스) = 7"
      ]
     },
     "execution_count": 326,
     "metadata": {},
     "output_type": "execute_result"
    }
   ],
   "source": [
    "store2"
   ]
  },
  {
   "cell_type": "code",
   "execution_count": 327,
   "id": "4ea34356-ada4-4a96-afc6-028867330d6a",
   "metadata": {
    "tags": []
   },
   "outputs": [
    {
     "name": "stdout",
     "output_type": "stream",
     "text": [
      "총점포수 = 2\n",
      "총손님수 = 7\n"
     ]
    }
   ],
   "source": [
    "GS25.info()"
   ]
  },
  {
   "cell_type": "markdown",
   "id": "fae87cdf-7fb1-47b1-b3b3-61a43b4252d6",
   "metadata": {},
   "source": [
    "## D. 스태틱 메서드"
   ]
  },
  {
   "cell_type": "markdown",
   "id": "5c50ef03-800d-4b6e-a2b8-3c94dcd87b43",
   "metadata": {},
   "source": [
    "`-` 스태틱 메서드: 첫 인자로 인스턴스와 클래스 모두 받지 않음. (클래스안에 정의되어 있지만 그냥 함수와 같음)"
   ]
  },
  {
   "cell_type": "code",
   "execution_count": 328,
   "id": "edd868f8-1d9a-4ab0-bd8e-caf97ec48b97",
   "metadata": {
    "tags": []
   },
   "outputs": [],
   "source": [
    "class Calculator: \n",
    "    @staticmethod\n",
    "    def add(a,b):\n",
    "        return a+b\n",
    "    @staticmethod\n",
    "    def sub(a,b):\n",
    "        return a-b "
   ]
  },
  {
   "cell_type": "code",
   "execution_count": 329,
   "id": "68437aa9-1969-4a91-8529-77812af04713",
   "metadata": {
    "tags": []
   },
   "outputs": [],
   "source": [
    "cal = Calculator()"
   ]
  },
  {
   "cell_type": "code",
   "execution_count": 330,
   "id": "de6bb843-fca9-4b43-8f61-b8fdb557c324",
   "metadata": {
    "tags": []
   },
   "outputs": [
    {
     "data": {
      "text/plain": [
       "3"
      ]
     },
     "execution_count": 330,
     "metadata": {},
     "output_type": "execute_result"
    }
   ],
   "source": [
    "cal.add(1,2)"
   ]
  },
  {
   "cell_type": "code",
   "execution_count": 331,
   "id": "cbc84cf8-d841-4e61-bea2-2a1eed535291",
   "metadata": {
    "tags": []
   },
   "outputs": [
    {
     "data": {
      "text/plain": [
       "-1"
      ]
     },
     "execution_count": 331,
     "metadata": {},
     "output_type": "execute_result"
    }
   ],
   "source": [
    "cal.sub(1,2)"
   ]
  },
  {
   "cell_type": "code",
   "execution_count": 332,
   "id": "d5588200-0172-49d3-96f4-2a4486a8b000",
   "metadata": {
    "tags": []
   },
   "outputs": [
    {
     "data": {
      "text/plain": [
       "7"
      ]
     },
     "execution_count": 332,
     "metadata": {},
     "output_type": "execute_result"
    }
   ],
   "source": [
    "Calculator.add(3,4)"
   ]
  },
  {
   "cell_type": "code",
   "execution_count": 333,
   "id": "aa2a587a-0c5a-4dc8-a9cc-a05cd50cd962",
   "metadata": {
    "tags": []
   },
   "outputs": [
    {
     "data": {
      "text/plain": [
       "-1"
      ]
     },
     "execution_count": 333,
     "metadata": {},
     "output_type": "execute_result"
    }
   ],
   "source": [
    "Calculator.sub(3,4)"
   ]
  },
  {
   "cell_type": "markdown",
   "id": "2859692f-be90-42ef-8835-9b8a62a6739e",
   "metadata": {},
   "source": [
    "- `cal`는 그냥 함수들을 묶어놓은 느낌? 정리하게 편하게? "
   ]
  },
  {
   "cell_type": "markdown",
   "id": "a0c266a7-6cf1-434a-94f7-41787f139cc7",
   "metadata": {},
   "source": [
    "`-` 쓸모없다? "
   ]
  }
 ],
 "metadata": {
  "kernelspec": {
   "display_name": "Python 3 (ipykernel)",
   "language": "python",
   "name": "python3"
  },
  "language_info": {
   "codemirror_mode": {
    "name": "ipython",
    "version": 3
   },
   "file_extension": ".py",
   "mimetype": "text/x-python",
   "name": "python",
   "nbconvert_exporter": "python",
   "pygments_lexer": "ipython3",
   "version": "3.11.8"
  }
 },
 "nbformat": 4,
 "nbformat_minor": 5
}
