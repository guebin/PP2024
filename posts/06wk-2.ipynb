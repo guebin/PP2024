{
 "cells": [
  {
   "cell_type": "raw",
   "id": "5955dbdc-03e9-4fce-9c48-d1327bcc4eaa",
   "metadata": {},
   "source": [
    "---\n",
    "title: \"06wk-2: `numpy` (1)\"\n",
    "author: \"최규빈\"\n",
    "date: \"04/12/2024\"\n",
    "draft: false\n",
    "---"
   ]
  },
  {
   "cell_type": "markdown",
   "id": "8af3e26b-6da6-4ca6-9792-df2c185cf88f",
   "metadata": {
    "id": "e67ab8e0"
   },
   "source": [
    "<a href=\"https://colab.research.google.com/github/guebin/PP2024/blob/main/posts/06wk-2.ipynb\"><img src=\"https://colab.research.google.com/assets/colab-badge.svg\" style=\"text-align: left\"></a>"
   ]
  },
  {
   "cell_type": "markdown",
   "id": "c752a62f-0341-4955-a698-64cf50455e02",
   "metadata": {},
   "source": [
    "# 1. 강의영상 "
   ]
  },
  {
   "cell_type": "markdown",
   "id": "41bab884",
   "metadata": {
    "tags": []
   },
   "source": [
    "{{<video https://youtu.be/playlist?list=PLQqh36zP38-xcJoAltWWp0EEaZ8QJjMAT&si=TxRcvcla5EbT4PI- >}}"
   ]
  },
  {
   "cell_type": "markdown",
   "id": "79dccb28-4714-472f-97cc-25d0cf116656",
   "metadata": {},
   "source": [
    "# 2. Imports "
   ]
  },
  {
   "cell_type": "code",
   "execution_count": 378,
   "id": "22ef6f0e-a5bd-46fd-97d3-b1b2593fdbae",
   "metadata": {
    "tags": []
   },
   "outputs": [],
   "source": [
    "import numpy as np"
   ]
  },
  {
   "cell_type": "markdown",
   "id": "fe7d20b2-ce90-4cfc-8924-4a14ca9542c7",
   "metadata": {},
   "source": [
    "# 3. `numpy` "
   ]
  },
  {
   "cell_type": "markdown",
   "id": "9d35b2cc-355e-4ee0-97a8-bf5788b81b50",
   "metadata": {},
   "source": [
    "## A. 선언 "
   ]
  },
  {
   "cell_type": "code",
   "execution_count": 3,
   "id": "154a2e85-829c-401a-ba2e-26faeb802990",
   "metadata": {
    "tags": []
   },
   "outputs": [],
   "source": [
    "a=np.array([1,2,3]) # list를 만들고 ndarray화 시킴 \n",
    "l=[1,2,3]"
   ]
  },
  {
   "cell_type": "markdown",
   "id": "99265c64-45c6-4cb4-bedb-b3f0553681e2",
   "metadata": {},
   "source": [
    "## B. 기본연산 브로드캐스팅 "
   ]
  },
  {
   "cell_type": "code",
   "execution_count": 4,
   "id": "c4c8850c-9cf0-46f5-b81c-9344ec52099a",
   "metadata": {
    "tags": []
   },
   "outputs": [
    {
     "data": {
      "text/plain": [
       "array([2, 3, 4])"
      ]
     },
     "execution_count": 4,
     "metadata": {},
     "output_type": "execute_result"
    }
   ],
   "source": [
    "a+1 ## [1,2,3] + 1 = [2,3,4]"
   ]
  },
  {
   "cell_type": "code",
   "execution_count": 5,
   "id": "25c60eb1-886e-4fc7-bae1-1f39898a1c12",
   "metadata": {
    "tags": []
   },
   "outputs": [
    {
     "ename": "TypeError",
     "evalue": "can only concatenate list (not \"int\") to list",
     "output_type": "error",
     "traceback": [
      "\u001b[0;31m---------------------------------------------------------------------------\u001b[0m",
      "\u001b[0;31mTypeError\u001b[0m                                 Traceback (most recent call last)",
      "Cell \u001b[0;32mIn[5], line 1\u001b[0m\n\u001b[0;32m----> 1\u001b[0m \u001b[43ml\u001b[49m\u001b[38;5;241;43m+\u001b[39;49m\u001b[38;5;241;43m1\u001b[39;49m\n",
      "\u001b[0;31mTypeError\u001b[0m: can only concatenate list (not \"int\") to list"
     ]
    }
   ],
   "source": [
    "l+1"
   ]
  },
  {
   "cell_type": "code",
   "execution_count": 6,
   "id": "d6ab6e96-0173-44aa-88d4-6b2abb5b1db8",
   "metadata": {
    "tags": []
   },
   "outputs": [
    {
     "data": {
      "text/plain": [
       "array([2, 4, 6])"
      ]
     },
     "execution_count": 6,
     "metadata": {},
     "output_type": "execute_result"
    }
   ],
   "source": [
    "a*2"
   ]
  },
  {
   "cell_type": "code",
   "execution_count": 7,
   "id": "416dcfa3-aea7-466f-a822-3741d966f9d6",
   "metadata": {
    "tags": []
   },
   "outputs": [
    {
     "data": {
      "text/plain": [
       "[1, 2, 3, 1, 2, 3]"
      ]
     },
     "execution_count": 7,
     "metadata": {},
     "output_type": "execute_result"
    }
   ],
   "source": [
    "l*2"
   ]
  },
  {
   "cell_type": "code",
   "execution_count": 8,
   "id": "fd1aa043-4d13-47ee-ae45-2178edf6d70a",
   "metadata": {
    "tags": []
   },
   "outputs": [
    {
     "data": {
      "text/plain": [
       "array([0.5, 1. , 1.5])"
      ]
     },
     "execution_count": 8,
     "metadata": {},
     "output_type": "execute_result"
    }
   ],
   "source": [
    "a/2"
   ]
  },
  {
   "cell_type": "code",
   "execution_count": 9,
   "id": "fd823ac0-e625-4572-b341-61295365fd53",
   "metadata": {
    "tags": []
   },
   "outputs": [
    {
     "ename": "TypeError",
     "evalue": "unsupported operand type(s) for /: 'list' and 'int'",
     "output_type": "error",
     "traceback": [
      "\u001b[0;31m---------------------------------------------------------------------------\u001b[0m",
      "\u001b[0;31mTypeError\u001b[0m                                 Traceback (most recent call last)",
      "Cell \u001b[0;32mIn[9], line 1\u001b[0m\n\u001b[0;32m----> 1\u001b[0m \u001b[43ml\u001b[49m\u001b[38;5;241;43m/\u001b[39;49m\u001b[38;5;241;43m2\u001b[39;49m\n",
      "\u001b[0;31mTypeError\u001b[0m: unsupported operand type(s) for /: 'list' and 'int'"
     ]
    }
   ],
   "source": [
    "l/2"
   ]
  },
  {
   "cell_type": "code",
   "execution_count": 10,
   "id": "db21b864-12bf-45a5-b0da-6d20d41b978c",
   "metadata": {
    "tags": []
   },
   "outputs": [
    {
     "data": {
      "text/plain": [
       "array([1, 4, 9])"
      ]
     },
     "execution_count": 10,
     "metadata": {},
     "output_type": "execute_result"
    }
   ],
   "source": [
    "a**2"
   ]
  },
  {
   "cell_type": "code",
   "execution_count": 11,
   "id": "b66d490a-c100-4349-8d58-ec49e66a6167",
   "metadata": {
    "tags": []
   },
   "outputs": [
    {
     "ename": "TypeError",
     "evalue": "unsupported operand type(s) for ** or pow(): 'list' and 'int'",
     "output_type": "error",
     "traceback": [
      "\u001b[0;31m---------------------------------------------------------------------------\u001b[0m",
      "\u001b[0;31mTypeError\u001b[0m                                 Traceback (most recent call last)",
      "Cell \u001b[0;32mIn[11], line 1\u001b[0m\n\u001b[0;32m----> 1\u001b[0m \u001b[43ml\u001b[49m\u001b[38;5;241;43m*\u001b[39;49m\u001b[38;5;241;43m*\u001b[39;49m\u001b[38;5;241;43m2\u001b[39;49m\n",
      "\u001b[0;31mTypeError\u001b[0m: unsupported operand type(s) for ** or pow(): 'list' and 'int'"
     ]
    }
   ],
   "source": [
    "l**2"
   ]
  },
  {
   "cell_type": "code",
   "execution_count": 12,
   "id": "a1f5acb1-4083-4947-b4cf-59ba2824e000",
   "metadata": {
    "tags": []
   },
   "outputs": [
    {
     "data": {
      "text/plain": [
       "array([1, 0, 1])"
      ]
     },
     "execution_count": 12,
     "metadata": {},
     "output_type": "execute_result"
    }
   ],
   "source": [
    "a%2 # %2 = 2로 나눈 나머지를 리턴 a=[1,2,3] "
   ]
  },
  {
   "cell_type": "code",
   "execution_count": 13,
   "id": "b7f3d4c2-5edb-4abb-8c1f-030112ecc7e5",
   "metadata": {
    "tags": []
   },
   "outputs": [
    {
     "ename": "TypeError",
     "evalue": "unsupported operand type(s) for %: 'list' and 'int'",
     "output_type": "error",
     "traceback": [
      "\u001b[0;31m---------------------------------------------------------------------------\u001b[0m",
      "\u001b[0;31mTypeError\u001b[0m                                 Traceback (most recent call last)",
      "Cell \u001b[0;32mIn[13], line 1\u001b[0m\n\u001b[0;32m----> 1\u001b[0m \u001b[43ml\u001b[49m\u001b[38;5;241;43m%\u001b[39;49m\u001b[38;5;241;43m2\u001b[39;49m\n",
      "\u001b[0;31mTypeError\u001b[0m: unsupported operand type(s) for %: 'list' and 'int'"
     ]
    }
   ],
   "source": [
    "l%2"
   ]
  },
  {
   "cell_type": "markdown",
   "id": "889001b4-3270-4c4c-bc2d-77a95ffd356a",
   "metadata": {},
   "source": [
    "## C. 기타수학연산지원 "
   ]
  },
  {
   "cell_type": "code",
   "execution_count": 14,
   "id": "9bb4c132-a6c5-4198-9530-861b2804d9a7",
   "metadata": {
    "tags": []
   },
   "outputs": [
    {
     "data": {
      "text/plain": [
       "(array([1.        , 1.41421356, 1.73205081]),\n",
       " array([1.        , 1.41421356, 1.73205081]))"
      ]
     },
     "execution_count": 14,
     "metadata": {},
     "output_type": "execute_result"
    }
   ],
   "source": [
    "np.sqrt(a), np.sqrt(l)"
   ]
  },
  {
   "cell_type": "code",
   "execution_count": 15,
   "id": "acbde336-ea36-438c-93a1-1512d4da19c1",
   "metadata": {
    "tags": []
   },
   "outputs": [
    {
     "data": {
      "text/plain": [
       "(array([0.        , 0.69314718, 1.09861229]),\n",
       " array([0.        , 0.69314718, 1.09861229]))"
      ]
     },
     "execution_count": 15,
     "metadata": {},
     "output_type": "execute_result"
    }
   ],
   "source": [
    "np.log(a), np.log(l)"
   ]
  },
  {
   "cell_type": "code",
   "execution_count": 16,
   "id": "54d0e73a-4ab4-4bf7-a360-a6b51499c07e",
   "metadata": {
    "tags": []
   },
   "outputs": [
    {
     "data": {
      "text/plain": [
       "(array([ 2.71828183,  7.3890561 , 20.08553692]),\n",
       " array([ 2.71828183,  7.3890561 , 20.08553692]))"
      ]
     },
     "execution_count": 16,
     "metadata": {},
     "output_type": "execute_result"
    }
   ],
   "source": [
    "np.exp(a), np.exp(l)"
   ]
  },
  {
   "cell_type": "code",
   "execution_count": 17,
   "id": "612c140b-c91c-4f40-b98a-b769debcafb7",
   "metadata": {
    "tags": []
   },
   "outputs": [
    {
     "data": {
      "text/plain": [
       "(array([0.84147098, 0.90929743, 0.14112001]),\n",
       " array([0.84147098, 0.90929743, 0.14112001]))"
      ]
     },
     "execution_count": 17,
     "metadata": {},
     "output_type": "execute_result"
    }
   ],
   "source": [
    "np.sin(a), np.sin(l)"
   ]
  },
  {
   "cell_type": "markdown",
   "id": "99af5033-238a-42ff-9f13-471b5f25bbe6",
   "metadata": {},
   "source": [
    "## D. 인덱싱 1차원 "
   ]
  },
  {
   "cell_type": "markdown",
   "id": "d5717b67-15d5-476b-9381-c0bc08e4c54a",
   "metadata": {},
   "source": [
    "`-` 선언 "
   ]
  },
  {
   "cell_type": "code",
   "execution_count": 18,
   "id": "e72e1913-b8fd-47a9-b5da-0912bc3899bc",
   "metadata": {
    "tags": []
   },
   "outputs": [],
   "source": [
    "l=[11,22,33,44,55,66] \n",
    "a=np.array(l) "
   ]
  },
  {
   "cell_type": "markdown",
   "id": "3993860b-b34b-4fc9-9e38-d6e0849e24aa",
   "metadata": {},
   "source": [
    "`-` 인덱스로 접근 "
   ]
  },
  {
   "cell_type": "code",
   "execution_count": 19,
   "id": "a90eef29-cb90-4693-95fb-5842d579dc9a",
   "metadata": {
    "tags": []
   },
   "outputs": [
    {
     "data": {
      "text/plain": [
       "(11, 22, 33, 44, 55, 66)"
      ]
     },
     "execution_count": 19,
     "metadata": {},
     "output_type": "execute_result"
    }
   ],
   "source": [
    "l[0],l[1],l[2],l[3],l[-2],l[-1]"
   ]
  },
  {
   "cell_type": "code",
   "execution_count": 20,
   "id": "24274f02-ff4e-4ec5-ac58-6230174c64ea",
   "metadata": {
    "tags": []
   },
   "outputs": [
    {
     "data": {
      "text/plain": [
       "(11, 22, 33, 44, 55, 66)"
      ]
     },
     "execution_count": 20,
     "metadata": {},
     "output_type": "execute_result"
    }
   ],
   "source": [
    "a[0],a[1],a[2],a[3],a[-2],a[-1]"
   ]
  },
  {
   "cell_type": "markdown",
   "id": "cd5d9c71-7227-45a8-8ebb-76bff1943248",
   "metadata": {},
   "source": [
    "`-` `:` 이용 (슬라이싱)"
   ]
  },
  {
   "cell_type": "code",
   "execution_count": 21,
   "id": "80e58c66-15ee-40b6-ab81-b97157cd79eb",
   "metadata": {
    "tags": []
   },
   "outputs": [
    {
     "data": {
      "text/plain": [
       "[33, 44]"
      ]
     },
     "execution_count": 21,
     "metadata": {},
     "output_type": "execute_result"
    }
   ],
   "source": [
    "l[2:4] # index 2에서 시작, index 4는 포함하지 않음 "
   ]
  },
  {
   "cell_type": "code",
   "execution_count": 22,
   "id": "ae368995-971e-46c7-b0e4-00bc26a11734",
   "metadata": {
    "tags": []
   },
   "outputs": [
    {
     "data": {
      "text/plain": [
       "array([33, 44])"
      ]
     },
     "execution_count": 22,
     "metadata": {},
     "output_type": "execute_result"
    }
   ],
   "source": [
    "a[2:4] "
   ]
  },
  {
   "cell_type": "markdown",
   "id": "a464440a-82b7-4cf4-bc79-9e8e76ab8e88",
   "metadata": {},
   "source": [
    "`-` 정수배열에 의한 인덱싱 "
   ]
  },
  {
   "cell_type": "code",
   "execution_count": 23,
   "id": "530e275c-a815-4f36-aff6-86affc8e4a94",
   "metadata": {
    "tags": []
   },
   "outputs": [
    {
     "data": {
      "text/plain": [
       "array([11, 22, 33, 44, 55, 66])"
      ]
     },
     "execution_count": 23,
     "metadata": {},
     "output_type": "execute_result"
    }
   ],
   "source": [
    "a"
   ]
  },
  {
   "cell_type": "code",
   "execution_count": 24,
   "id": "b0618d52-d470-4cd3-bf70-c192c0b99917",
   "metadata": {
    "tags": []
   },
   "outputs": [
    {
     "data": {
      "text/plain": [
       "array([11, 33, 55])"
      ]
     },
     "execution_count": 24,
     "metadata": {},
     "output_type": "execute_result"
    }
   ],
   "source": [
    "a[[0,2,4]] # index=0, index=2, index=4 에 해당하는 원소를 뽑고 싶다 "
   ]
  },
  {
   "cell_type": "code",
   "execution_count": 25,
   "id": "693ec897-05db-4ae0-b81f-d12c50176889",
   "metadata": {
    "tags": []
   },
   "outputs": [
    {
     "ename": "TypeError",
     "evalue": "list indices must be integers or slices, not list",
     "output_type": "error",
     "traceback": [
      "\u001b[0;31m---------------------------------------------------------------------------\u001b[0m",
      "\u001b[0;31mTypeError\u001b[0m                                 Traceback (most recent call last)",
      "Cell \u001b[0;32mIn[25], line 1\u001b[0m\n\u001b[0;32m----> 1\u001b[0m \u001b[43ml\u001b[49m\u001b[43m[\u001b[49m\u001b[43m[\u001b[49m\u001b[38;5;241;43m0\u001b[39;49m\u001b[43m,\u001b[49m\u001b[38;5;241;43m2\u001b[39;49m\u001b[43m,\u001b[49m\u001b[38;5;241;43m4\u001b[39;49m\u001b[43m]\u001b[49m\u001b[43m]\u001b[49m \u001b[38;5;66;03m# 리스트는 불가능 \u001b[39;00m\n",
      "\u001b[0;31mTypeError\u001b[0m: list indices must be integers or slices, not list"
     ]
    }
   ],
   "source": [
    "l[[0,2,4]] # 리스트는 불가능 "
   ]
  },
  {
   "cell_type": "markdown",
   "id": "1a73a8f8-06e8-43d9-aee7-b80d42016d52",
   "metadata": {},
   "source": [
    "`-` 부울값에 의한 인덱싱 "
   ]
  },
  {
   "cell_type": "code",
   "execution_count": 26,
   "id": "a5dfc082-f702-420d-897a-bf180a87b6d8",
   "metadata": {
    "tags": []
   },
   "outputs": [
    {
     "data": {
      "text/plain": [
       "array([11, 22, 33, 44, 55, 66])"
      ]
     },
     "execution_count": 26,
     "metadata": {},
     "output_type": "execute_result"
    }
   ],
   "source": [
    "a"
   ]
  },
  {
   "cell_type": "code",
   "execution_count": 27,
   "id": "23d76442-db29-4408-84c9-48b7772f8ac1",
   "metadata": {
    "tags": []
   },
   "outputs": [
    {
     "data": {
      "text/plain": [
       "array([11, 33, 55])"
      ]
     },
     "execution_count": 27,
     "metadata": {},
     "output_type": "execute_result"
    }
   ],
   "source": [
    "a[[True,False,True,False,True,False]] "
   ]
  },
  {
   "cell_type": "markdown",
   "id": "48ba2493-68c8-4094-944b-910c985c41bf",
   "metadata": {},
   "source": [
    "응용하면? "
   ]
  },
  {
   "cell_type": "code",
   "execution_count": 28,
   "id": "f6b31181-9104-4855-931a-2026eb5bf0d9",
   "metadata": {
    "tags": []
   },
   "outputs": [
    {
     "data": {
      "text/plain": [
       "array([ True,  True, False, False, False, False])"
      ]
     },
     "execution_count": 28,
     "metadata": {},
     "output_type": "execute_result"
    }
   ],
   "source": [
    "a < 33 "
   ]
  },
  {
   "cell_type": "code",
   "execution_count": 29,
   "id": "440eabce-ba7f-410f-92b5-926b38555577",
   "metadata": {
    "tags": []
   },
   "outputs": [
    {
     "data": {
      "text/plain": [
       "array([11, 22])"
      ]
     },
     "execution_count": 29,
     "metadata": {},
     "output_type": "execute_result"
    }
   ],
   "source": [
    "a[a<33]"
   ]
  },
  {
   "cell_type": "markdown",
   "id": "8975b935-22b3-4dad-ad82-a5aa3350a4f7",
   "metadata": {},
   "source": [
    "리스트는 불가능 "
   ]
  },
  {
   "cell_type": "code",
   "execution_count": 30,
   "id": "15539a47-41ae-4f37-aca6-dd3d534604d0",
   "metadata": {
    "tags": []
   },
   "outputs": [
    {
     "ename": "TypeError",
     "evalue": "'<' not supported between instances of 'list' and 'int'",
     "output_type": "error",
     "traceback": [
      "\u001b[0;31m---------------------------------------------------------------------------\u001b[0m",
      "\u001b[0;31mTypeError\u001b[0m                                 Traceback (most recent call last)",
      "Cell \u001b[0;32mIn[30], line 1\u001b[0m\n\u001b[0;32m----> 1\u001b[0m \u001b[43ml\u001b[49m\u001b[38;5;241;43m<\u001b[39;49m\u001b[38;5;241;43m33\u001b[39;49m \u001b[38;5;66;03m# 여기에서부터 불가능 \u001b[39;00m\n",
      "\u001b[0;31mTypeError\u001b[0m: '<' not supported between instances of 'list' and 'int'"
     ]
    }
   ],
   "source": [
    "l<33 # 여기에서부터 불가능 "
   ]
  },
  {
   "cell_type": "code",
   "execution_count": 31,
   "id": "f4640487-441a-447e-8b87-1c798b41a65f",
   "metadata": {
    "tags": []
   },
   "outputs": [
    {
     "ename": "TypeError",
     "evalue": "list indices must be integers or slices, not list",
     "output_type": "error",
     "traceback": [
      "\u001b[0;31m---------------------------------------------------------------------------\u001b[0m",
      "\u001b[0;31mTypeError\u001b[0m                                 Traceback (most recent call last)",
      "Cell \u001b[0;32mIn[31], line 1\u001b[0m\n\u001b[0;32m----> 1\u001b[0m \u001b[43ml\u001b[49m\u001b[43m[\u001b[49m\u001b[43m[\u001b[49m\u001b[38;5;28;43;01mTrue\u001b[39;49;00m\u001b[43m,\u001b[49m\u001b[38;5;28;43;01mFalse\u001b[39;49;00m\u001b[43m,\u001b[49m\u001b[38;5;28;43;01mTrue\u001b[39;49;00m\u001b[43m,\u001b[49m\u001b[38;5;28;43;01mFalse\u001b[39;49;00m\u001b[43m,\u001b[49m\u001b[38;5;28;43;01mTrue\u001b[39;49;00m\u001b[43m,\u001b[49m\u001b[38;5;28;43;01mFalse\u001b[39;49;00m\u001b[43m]\u001b[49m\u001b[43m]\u001b[49m \u001b[38;5;66;03m# 이것도 불가능 \u001b[39;00m\n",
      "\u001b[0;31mTypeError\u001b[0m: list indices must be integers or slices, not list"
     ]
    }
   ],
   "source": [
    "l[[True,False,True,False,True,False]] # 이것도 불가능 "
   ]
  },
  {
   "cell_type": "markdown",
   "id": "91769514-9a6e-4682-833c-7ed5255273f9",
   "metadata": {},
   "source": [
    "## E. 인덱싱 2차원 "
   ]
  },
  {
   "cell_type": "markdown",
   "id": "bb34517a-1e0a-42bb-b821-c4f9f428198d",
   "metadata": {},
   "source": [
    "`-` 중첩리스트와 2차원 np.array 선언 "
   ]
  },
  {
   "cell_type": "code",
   "execution_count": 32,
   "id": "fdd8e0cb-576d-4df7-bc29-adab3e9bf0ae",
   "metadata": {
    "tags": []
   },
   "outputs": [],
   "source": [
    "A = [[1,2,3,4],[-1,-2,-3,-4],[5,6,7,8],[-5,-6,-7,-8]]\n",
    "A2 = np.array(A)"
   ]
  },
  {
   "cell_type": "code",
   "execution_count": 33,
   "id": "57d25a3d-c756-4220-a4b9-9cbf81db41ac",
   "metadata": {
    "tags": []
   },
   "outputs": [
    {
     "data": {
      "text/plain": [
       "array([[ 1,  2,  3,  4],\n",
       "       [-1, -2, -3, -4],\n",
       "       [ 5,  6,  7,  8],\n",
       "       [-5, -6, -7, -8]])"
      ]
     },
     "execution_count": 33,
     "metadata": {},
     "output_type": "execute_result"
    }
   ],
   "source": [
    "A2"
   ]
  },
  {
   "cell_type": "code",
   "execution_count": 34,
   "id": "8c62d8f4-91ea-42f2-bff1-7541508a0a31",
   "metadata": {
    "tags": []
   },
   "outputs": [
    {
     "data": {
      "text/plain": [
       "[[1, 2, 3, 4], [-1, -2, -3, -4], [5, 6, 7, 8], [-5, -6, -7, -8]]"
      ]
     },
     "execution_count": 34,
     "metadata": {},
     "output_type": "execute_result"
    }
   ],
   "source": [
    "A"
   ]
  },
  {
   "cell_type": "markdown",
   "id": "49ab03f3-b7dc-42bf-a81e-c5ca2ccdab6f",
   "metadata": {},
   "source": [
    "`-` A의 원소 인덱싱 "
   ]
  },
  {
   "cell_type": "code",
   "execution_count": 35,
   "id": "2ad49edf-4233-4c47-b608-a58c771046a9",
   "metadata": {
    "tags": []
   },
   "outputs": [
    {
     "data": {
      "text/plain": [
       "1"
      ]
     },
     "execution_count": 35,
     "metadata": {},
     "output_type": "execute_result"
    }
   ],
   "source": [
    "A[0][0] # (1,1)의 원소 "
   ]
  },
  {
   "cell_type": "code",
   "execution_count": 36,
   "id": "0d75941a-2520-4418-b2a4-c379871e83e3",
   "metadata": {
    "tags": []
   },
   "outputs": [
    {
     "data": {
      "text/plain": [
       "-3"
      ]
     },
     "execution_count": 36,
     "metadata": {},
     "output_type": "execute_result"
    }
   ],
   "source": [
    "A[1][2] # (2,3)의 원소 "
   ]
  },
  {
   "cell_type": "code",
   "execution_count": 37,
   "id": "5bc6c748-22bc-4996-840c-c43510b7e996",
   "metadata": {
    "tags": []
   },
   "outputs": [
    {
     "data": {
      "text/plain": [
       "-5"
      ]
     },
     "execution_count": 37,
     "metadata": {},
     "output_type": "execute_result"
    }
   ],
   "source": [
    "A[-1][0] # (4,1)의 원소 "
   ]
  },
  {
   "cell_type": "markdown",
   "id": "92dd966c-5dd4-4c6a-bb3d-af78f7b76ccc",
   "metadata": {},
   "source": [
    "`-` A2의 원소 인덱싱 "
   ]
  },
  {
   "cell_type": "code",
   "execution_count": 38,
   "id": "6ad39a6a-5f89-403a-97ec-d595b4983cdc",
   "metadata": {
    "tags": []
   },
   "outputs": [
    {
     "data": {
      "text/plain": [
       "1"
      ]
     },
     "execution_count": 38,
     "metadata": {},
     "output_type": "execute_result"
    }
   ],
   "source": [
    "A2[0][0] # (1,1)의 원소 "
   ]
  },
  {
   "cell_type": "code",
   "execution_count": 39,
   "id": "dbd47326-5e65-4f58-b383-01ce0fa45d24",
   "metadata": {
    "tags": []
   },
   "outputs": [
    {
     "data": {
      "text/plain": [
       "-3"
      ]
     },
     "execution_count": 39,
     "metadata": {},
     "output_type": "execute_result"
    }
   ],
   "source": [
    "A2[1][2] # (2,3)의 원소 "
   ]
  },
  {
   "cell_type": "code",
   "execution_count": 40,
   "id": "c8f1e3b6-8419-4e0c-8173-bb9aeca77d4e",
   "metadata": {
    "tags": []
   },
   "outputs": [
    {
     "data": {
      "text/plain": [
       "-5"
      ]
     },
     "execution_count": 40,
     "metadata": {},
     "output_type": "execute_result"
    }
   ],
   "source": [
    "A2[-1][0] # (4,1)의 원소 "
   ]
  },
  {
   "cell_type": "markdown",
   "id": "2b78e3ea-862a-402f-9b0a-4e71dbbbb1c4",
   "metadata": {},
   "source": [
    "`-` A2에서만 되는 기술 (넘파이에서 제시하는 신기술, R에서는 기본적으로 쓰던것, 이중list는 불가능) "
   ]
  },
  {
   "cell_type": "code",
   "execution_count": 41,
   "id": "5dab6c8a-1210-4efd-94fa-1e29301a43f4",
   "metadata": {
    "tags": []
   },
   "outputs": [
    {
     "data": {
      "text/plain": [
       "1"
      ]
     },
     "execution_count": 41,
     "metadata": {},
     "output_type": "execute_result"
    }
   ],
   "source": [
    "A2[0,0] # (1,1)의 원소 "
   ]
  },
  {
   "cell_type": "code",
   "execution_count": 42,
   "id": "c773566b-c5f0-49c4-b06d-3b39320b3d82",
   "metadata": {
    "tags": []
   },
   "outputs": [
    {
     "data": {
      "text/plain": [
       "-3"
      ]
     },
     "execution_count": 42,
     "metadata": {},
     "output_type": "execute_result"
    }
   ],
   "source": [
    "A2[1,2] # (2,3)의 원소 "
   ]
  },
  {
   "cell_type": "code",
   "execution_count": 43,
   "id": "4e60520e-5b96-4c23-a065-425962384295",
   "metadata": {
    "tags": []
   },
   "outputs": [
    {
     "data": {
      "text/plain": [
       "-5"
      ]
     },
     "execution_count": 43,
     "metadata": {},
     "output_type": "execute_result"
    }
   ],
   "source": [
    "A2[-1,0] # (4,1)의 원소 "
   ]
  },
  {
   "cell_type": "markdown",
   "id": "e0f544d5-c897-4a73-804c-4306fb5f1b3e",
   "metadata": {},
   "source": [
    "`-` 정수배열에 의한 인덱싱 & 슬라이싱!"
   ]
  },
  {
   "cell_type": "code",
   "execution_count": 44,
   "id": "70f89e7e-52b8-43d5-ab52-ca83d52e9c92",
   "metadata": {
    "tags": []
   },
   "outputs": [
    {
     "data": {
      "text/plain": [
       "array([[ 1,  2,  3,  4],\n",
       "       [-1, -2, -3, -4],\n",
       "       [ 5,  6,  7,  8],\n",
       "       [-5, -6, -7, -8]])"
      ]
     },
     "execution_count": 44,
     "metadata": {},
     "output_type": "execute_result"
    }
   ],
   "source": [
    "A2"
   ]
  },
  {
   "cell_type": "code",
   "execution_count": 45,
   "id": "71bb6bb7-f09a-4eb1-b45a-46ad0f79778c",
   "metadata": {
    "tags": []
   },
   "outputs": [
    {
     "data": {
      "text/plain": [
       "array([1, 2])"
      ]
     },
     "execution_count": 45,
     "metadata": {},
     "output_type": "execute_result"
    }
   ],
   "source": [
    "A2[0,0:2] # 1행1열, 1행2열 "
   ]
  },
  {
   "cell_type": "code",
   "execution_count": 46,
   "id": "8fda882c-09ad-4cc6-90de-f62d65a4463f",
   "metadata": {
    "tags": []
   },
   "outputs": [
    {
     "data": {
      "text/plain": [
       "array([1, 2, 3, 4])"
      ]
     },
     "execution_count": 46,
     "metadata": {},
     "output_type": "execute_result"
    }
   ],
   "source": [
    "A2[0,:] # 1행 "
   ]
  },
  {
   "cell_type": "code",
   "execution_count": 47,
   "id": "6c3b048c-42d4-4ffa-ab8a-c781b5c7e46e",
   "metadata": {
    "tags": []
   },
   "outputs": [
    {
     "data": {
      "text/plain": [
       "array([1, 2, 3, 4])"
      ]
     },
     "execution_count": 47,
     "metadata": {},
     "output_type": "execute_result"
    }
   ],
   "source": [
    "A2[0] # 1행"
   ]
  },
  {
   "cell_type": "code",
   "execution_count": 48,
   "id": "e60286b5-69b9-4e0c-951e-e150647c1810",
   "metadata": {
    "tags": []
   },
   "outputs": [
    {
     "data": {
      "text/plain": [
       "array([[1, 2, 3, 4],\n",
       "       [5, 6, 7, 8]])"
      ]
     },
     "execution_count": 48,
     "metadata": {},
     "output_type": "execute_result"
    }
   ],
   "source": [
    "A2[[0,2],:] # 1행, 3행 "
   ]
  },
  {
   "cell_type": "code",
   "execution_count": 49,
   "id": "4a95fe03-6cb9-48aa-a0ac-e1c4e0fbf2b1",
   "metadata": {
    "tags": []
   },
   "outputs": [
    {
     "data": {
      "text/plain": [
       "array([[1, 2, 3, 4],\n",
       "       [5, 6, 7, 8]])"
      ]
     },
     "execution_count": 49,
     "metadata": {},
     "output_type": "execute_result"
    }
   ],
   "source": [
    "A2[[0,2]] # 1행, 3행 "
   ]
  },
  {
   "cell_type": "code",
   "execution_count": 50,
   "id": "42e91f67-7262-46fd-a0eb-74c5f41c01c5",
   "metadata": {
    "tags": []
   },
   "outputs": [
    {
     "data": {
      "text/plain": [
       "array([ 1, -1,  5, -5])"
      ]
     },
     "execution_count": 50,
     "metadata": {},
     "output_type": "execute_result"
    }
   ],
   "source": [
    "A2[:,0] # 1열 "
   ]
  },
  {
   "cell_type": "code",
   "execution_count": 51,
   "id": "7515367f-0286-44a7-a5d4-f3a91f72307f",
   "metadata": {
    "tags": []
   },
   "outputs": [
    {
     "data": {
      "text/plain": [
       "array([[ 1],\n",
       "       [-1],\n",
       "       [ 5],\n",
       "       [-5]])"
      ]
     },
     "execution_count": 51,
     "metadata": {},
     "output_type": "execute_result"
    }
   ],
   "source": [
    "A2[:,[0]] # 1열 "
   ]
  },
  {
   "cell_type": "code",
   "execution_count": 52,
   "id": "0973ce27-0b5b-4560-b4cc-9eadf551290b",
   "metadata": {
    "tags": []
   },
   "outputs": [
    {
     "data": {
      "text/plain": [
       "array([[ 1,  3],\n",
       "       [-1, -3],\n",
       "       [ 5,  7],\n",
       "       [-5, -7]])"
      ]
     },
     "execution_count": 52,
     "metadata": {},
     "output_type": "execute_result"
    }
   ],
   "source": [
    "A2[:,[0,2]] # 1열, 3열"
   ]
  },
  {
   "cell_type": "code",
   "execution_count": 53,
   "id": "5ae168cb-7b48-4342-90b5-c4c248176bd6",
   "metadata": {
    "tags": []
   },
   "outputs": [
    {
     "data": {
      "text/plain": [
       "array([[ 1,  3],\n",
       "       [-1, -3]])"
      ]
     },
     "execution_count": 53,
     "metadata": {},
     "output_type": "execute_result"
    }
   ],
   "source": [
    "A2[0:2,[0,2]] # 1행~2행 //  1열,3열 "
   ]
  },
  {
   "cell_type": "markdown",
   "id": "40fa802f-64b9-47e8-bf01-504d89484142",
   "metadata": {},
   "source": [
    "## F. 1차원 배열의 선언 "
   ]
  },
  {
   "cell_type": "markdown",
   "id": "8c883132-558a-4a84-8b31-aee250e1c507",
   "metadata": {},
   "source": [
    "`-` 리스트나 튜플을 선언하고 형변환 "
   ]
  },
  {
   "cell_type": "code",
   "execution_count": 54,
   "id": "7316f01c-451a-4e9f-81a4-6e630a763b6e",
   "metadata": {
    "tags": []
   },
   "outputs": [
    {
     "data": {
      "text/plain": [
       "array([1, 2, 3])"
      ]
     },
     "execution_count": 54,
     "metadata": {},
     "output_type": "execute_result"
    }
   ],
   "source": [
    "np.array((1,2,3)) # 튜플->넘파이어레이 "
   ]
  },
  {
   "cell_type": "code",
   "execution_count": 55,
   "id": "35e4c5f1-0e4f-45c0-af36-ef1f9e80e0e6",
   "metadata": {
    "tags": []
   },
   "outputs": [
    {
     "data": {
      "text/plain": [
       "array([1, 2, 3])"
      ]
     },
     "execution_count": 55,
     "metadata": {},
     "output_type": "execute_result"
    }
   ],
   "source": [
    "np.array([1,2,3]) # 리스트 ->넘파이어레이 "
   ]
  },
  {
   "cell_type": "markdown",
   "id": "adb8deff-bad8-4029-916a-4eda22c4e3f3",
   "metadata": {},
   "source": [
    "`-` range()를 이용해서 선언하고 형변환 "
   ]
  },
  {
   "cell_type": "code",
   "execution_count": 56,
   "id": "74f6b3ab-dbb6-4abf-ad74-c1775aa75ce6",
   "metadata": {
    "tags": []
   },
   "outputs": [
    {
     "data": {
      "text/plain": [
       "array([0, 1, 2, 3, 4, 5, 6, 7, 8, 9])"
      ]
     },
     "execution_count": 56,
     "metadata": {},
     "output_type": "execute_result"
    }
   ],
   "source": [
    "np.array(range(10)) # range(10) -> 넘파이어레이 "
   ]
  },
  {
   "cell_type": "markdown",
   "id": "77202e48-b953-4e6a-819d-3bdfdfd8bc4c",
   "metadata": {},
   "source": [
    "`-` np.zeros, np.ones"
   ]
  },
  {
   "cell_type": "code",
   "execution_count": 57,
   "id": "50cf691a-8b6f-425b-966c-93ecabc936b1",
   "metadata": {
    "tags": []
   },
   "outputs": [
    {
     "data": {
      "text/plain": [
       "array([0., 0., 0.])"
      ]
     },
     "execution_count": 57,
     "metadata": {},
     "output_type": "execute_result"
    }
   ],
   "source": [
    "np.zeros(3) "
   ]
  },
  {
   "cell_type": "code",
   "execution_count": 58,
   "id": "6591c1c8-8cbf-49b8-835f-72a5f94331f4",
   "metadata": {
    "tags": []
   },
   "outputs": [
    {
     "data": {
      "text/plain": [
       "array([1., 1., 1., 1.])"
      ]
     },
     "execution_count": 58,
     "metadata": {},
     "output_type": "execute_result"
    }
   ],
   "source": [
    "np.ones(4)"
   ]
  },
  {
   "cell_type": "markdown",
   "id": "d4adf9f1-4ae3-43fb-8867-987a7420518b",
   "metadata": {},
   "source": [
    "`-` np.linspace "
   ]
  },
  {
   "cell_type": "code",
   "execution_count": 59,
   "id": "9881fafa-9057-4532-9fba-919712e955cc",
   "metadata": {
    "tags": []
   },
   "outputs": [
    {
     "data": {
      "text/plain": [
       "array([0.        , 0.09090909, 0.18181818, 0.27272727, 0.36363636,\n",
       "       0.45454545, 0.54545455, 0.63636364, 0.72727273, 0.81818182,\n",
       "       0.90909091, 1.        ])"
      ]
     },
     "execution_count": 59,
     "metadata": {},
     "output_type": "execute_result"
    }
   ],
   "source": [
    "np.linspace(0,1,12) # 0에서 시작하고 1에서 끝남 (양끝점 모두 포함)"
   ]
  },
  {
   "cell_type": "code",
   "execution_count": 60,
   "id": "19fda85f-ad53-4567-a752-e54d24188bdc",
   "metadata": {
    "tags": []
   },
   "outputs": [
    {
     "data": {
      "text/plain": [
       "12"
      ]
     },
     "execution_count": 60,
     "metadata": {},
     "output_type": "execute_result"
    }
   ],
   "source": [
    "len(np.linspace(0,1,12)) # 길이는 12"
   ]
  },
  {
   "cell_type": "markdown",
   "id": "0f247629-3661-405c-abdb-c6fddec31788",
   "metadata": {},
   "source": [
    "`-` np.arange"
   ]
  },
  {
   "cell_type": "code",
   "execution_count": 61,
   "id": "99f71a79-4e46-4c58-b64a-4a87fd023eb5",
   "metadata": {
    "tags": []
   },
   "outputs": [
    {
     "data": {
      "text/plain": [
       "array([0, 1, 2, 3, 4])"
      ]
     },
     "execution_count": 61,
     "metadata": {},
     "output_type": "execute_result"
    }
   ],
   "source": [
    "np.arange(5) # np.array(range(5))"
   ]
  },
  {
   "cell_type": "code",
   "execution_count": 62,
   "id": "ee3556a9-8965-41b2-afe2-216e6d97af45",
   "metadata": {
    "tags": []
   },
   "outputs": [
    {
     "data": {
      "text/plain": [
       "array([1, 2, 3, 4, 5])"
      ]
     },
     "execution_count": 62,
     "metadata": {},
     "output_type": "execute_result"
    }
   ],
   "source": [
    "np.arange(1,6) # np.array(range(1,6))"
   ]
  },
  {
   "cell_type": "markdown",
   "id": "099dfdea-743b-4f8a-8877-96727f57d1de",
   "metadata": {},
   "source": [
    "## G. reshape "
   ]
  },
  {
   "cell_type": "markdown",
   "id": "22020f62-4a8c-4074-b550-57f2416a6388",
   "metadata": {},
   "source": [
    "`-` reshape: ndarray의 특수한 기능 "
   ]
  },
  {
   "cell_type": "code",
   "execution_count": 63,
   "id": "fd0f4b0f-a3ad-46f9-8366-c5a83d720568",
   "metadata": {
    "tags": []
   },
   "outputs": [
    {
     "data": {
      "text/plain": [
       "array([11, 22, 33, 44, 55, 66])"
      ]
     },
     "execution_count": 63,
     "metadata": {},
     "output_type": "execute_result"
    }
   ],
   "source": [
    "a=np.array([11,22,33,44,55,66])\n",
    "a ## 길이가 6인 벡터 "
   ]
  },
  {
   "cell_type": "code",
   "execution_count": 64,
   "id": "86a3b1ef-074a-4e92-adc5-9bbfbd64f41c",
   "metadata": {
    "tags": []
   },
   "outputs": [
    {
     "data": {
      "text/plain": [
       "array([[11, 22, 33],\n",
       "       [44, 55, 66]])"
      ]
     },
     "execution_count": 64,
     "metadata": {},
     "output_type": "execute_result"
    }
   ],
   "source": [
    "a.reshape(2,3) ## (2,3) matrix 라고 생각해도 무방 "
   ]
  },
  {
   "cell_type": "markdown",
   "id": "919825ba-d913-4d92-b718-f1d8d5e3e3b3",
   "metadata": {},
   "source": [
    "note: reshape은 a자체를 변화시키는것은 아님 "
   ]
  },
  {
   "cell_type": "code",
   "execution_count": 65,
   "id": "e45a9854-17c1-4b66-9f7c-ef89eab037be",
   "metadata": {
    "tags": []
   },
   "outputs": [
    {
     "data": {
      "text/plain": [
       "array([11, 22, 33, 44, 55, 66])"
      ]
     },
     "execution_count": 65,
     "metadata": {},
     "output_type": "execute_result"
    }
   ],
   "source": [
    "a # a는 그대로 있음 "
   ]
  },
  {
   "cell_type": "code",
   "execution_count": 66,
   "id": "5b936170-f7c1-4a3c-91b3-93b7fe58914c",
   "metadata": {
    "tags": []
   },
   "outputs": [
    {
     "data": {
      "text/plain": [
       "array([[11, 22, 33],\n",
       "       [44, 55, 66]])"
      ]
     },
     "execution_count": 66,
     "metadata": {},
     "output_type": "execute_result"
    }
   ],
   "source": [
    "b= a.reshape(2,3) # a를 reshape한 결과를 b에 저장 \n",
    "b"
   ]
  },
  {
   "cell_type": "code",
   "execution_count": 67,
   "id": "e3c9c9a7-39db-4e97-911a-cedcaf121476",
   "metadata": {
    "tags": []
   },
   "outputs": [
    {
     "data": {
      "text/plain": [
       "array([11, 22, 33, 44, 55, 66])"
      ]
     },
     "execution_count": 67,
     "metadata": {},
     "output_type": "execute_result"
    }
   ],
   "source": [
    "a # a는 여전히 그대로 있음"
   ]
  },
  {
   "cell_type": "markdown",
   "id": "62f55540-8cfa-477a-8fc2-f39f785c9f4c",
   "metadata": {},
   "source": [
    "`-` 다시 b를 a처럼 바꾸고 싶다 "
   ]
  },
  {
   "cell_type": "code",
   "execution_count": 68,
   "id": "d2096d2d-86ba-4585-9364-ffee0633015e",
   "metadata": {
    "tags": []
   },
   "outputs": [
    {
     "data": {
      "text/plain": [
       "array([[11, 22, 33],\n",
       "       [44, 55, 66]])"
      ]
     },
     "execution_count": 68,
     "metadata": {},
     "output_type": "execute_result"
    }
   ],
   "source": [
    "b"
   ]
  },
  {
   "cell_type": "code",
   "execution_count": 69,
   "id": "3fec48df-08c5-46a8-9a13-b0e007c8b03b",
   "metadata": {
    "tags": []
   },
   "outputs": [
    {
     "data": {
      "text/plain": [
       "array([11, 22, 33, 44, 55, 66])"
      ]
     },
     "execution_count": 69,
     "metadata": {},
     "output_type": "execute_result"
    }
   ],
   "source": [
    "b.reshape(6) # b는 (2,3) matrix , 그런데 이것을 길이가 6인 벡터로 만들고 싶다. "
   ]
  },
  {
   "cell_type": "markdown",
   "id": "e9ab2ab7-3f76-4139-898f-8717457cc916",
   "metadata": {},
   "source": [
    "`-` reshape with -1 "
   ]
  },
  {
   "cell_type": "code",
   "execution_count": 70,
   "id": "b600b8e4-c153-4419-8458-5f12d6c950c7",
   "metadata": {
    "tags": []
   },
   "outputs": [
    {
     "data": {
      "text/plain": [
       "array([ 0,  1,  2,  3,  4,  5,  6,  7,  8,  9, 10, 11, 12, 13, 14, 15, 16,\n",
       "       17, 18, 19, 20, 21, 22, 23])"
      ]
     },
     "execution_count": 70,
     "metadata": {},
     "output_type": "execute_result"
    }
   ],
   "source": [
    "a=np.arange(24) # np.array(range(24))\n",
    "a"
   ]
  },
  {
   "cell_type": "code",
   "execution_count": 71,
   "id": "ee9eca13-f1ca-4274-8681-25cc13fcadb1",
   "metadata": {
    "tags": []
   },
   "outputs": [
    {
     "data": {
      "text/plain": [
       "array([[ 0,  1,  2,  3,  4,  5,  6,  7,  8,  9, 10, 11],\n",
       "       [12, 13, 14, 15, 16, 17, 18, 19, 20, 21, 22, 23]])"
      ]
     },
     "execution_count": 71,
     "metadata": {},
     "output_type": "execute_result"
    }
   ],
   "source": [
    "a.reshape(2,-1)"
   ]
  },
  {
   "cell_type": "code",
   "execution_count": 72,
   "id": "126303f6-0f12-46db-8e39-7a31e17f77c9",
   "metadata": {
    "tags": []
   },
   "outputs": [
    {
     "data": {
      "text/plain": [
       "array([[ 0,  1,  2,  3,  4,  5,  6,  7],\n",
       "       [ 8,  9, 10, 11, 12, 13, 14, 15],\n",
       "       [16, 17, 18, 19, 20, 21, 22, 23]])"
      ]
     },
     "execution_count": 72,
     "metadata": {},
     "output_type": "execute_result"
    }
   ],
   "source": [
    "a.reshape(3,-1)"
   ]
  },
  {
   "cell_type": "code",
   "execution_count": 73,
   "id": "1e45a836-65fc-4f5e-b20e-b46307ef6a0e",
   "metadata": {
    "tags": []
   },
   "outputs": [
    {
     "data": {
      "text/plain": [
       "array([[ 0,  1,  2,  3,  4,  5],\n",
       "       [ 6,  7,  8,  9, 10, 11],\n",
       "       [12, 13, 14, 15, 16, 17],\n",
       "       [18, 19, 20, 21, 22, 23]])"
      ]
     },
     "execution_count": 73,
     "metadata": {},
     "output_type": "execute_result"
    }
   ],
   "source": [
    "a.reshape(4,-1)"
   ]
  },
  {
   "cell_type": "code",
   "execution_count": 74,
   "id": "5621e2e1-c3ec-4fc8-93bc-525aa3b5ac06",
   "metadata": {
    "tags": []
   },
   "outputs": [
    {
     "ename": "ValueError",
     "evalue": "cannot reshape array of size 24 into shape (5,newaxis)",
     "output_type": "error",
     "traceback": [
      "\u001b[0;31m---------------------------------------------------------------------------\u001b[0m",
      "\u001b[0;31mValueError\u001b[0m                                Traceback (most recent call last)",
      "Cell \u001b[0;32mIn[74], line 1\u001b[0m\n\u001b[0;32m----> 1\u001b[0m \u001b[43ma\u001b[49m\u001b[38;5;241;43m.\u001b[39;49m\u001b[43mreshape\u001b[49m\u001b[43m(\u001b[49m\u001b[38;5;241;43m5\u001b[39;49m\u001b[43m,\u001b[49m\u001b[38;5;241;43m-\u001b[39;49m\u001b[38;5;241;43m1\u001b[39;49m\u001b[43m)\u001b[49m\n",
      "\u001b[0;31mValueError\u001b[0m: cannot reshape array of size 24 into shape (5,newaxis)"
     ]
    }
   ],
   "source": [
    "a.reshape(5,-1)"
   ]
  },
  {
   "cell_type": "code",
   "execution_count": 75,
   "id": "13dcc7e9-e475-4e90-a064-e282aa13bd04",
   "metadata": {
    "tags": []
   },
   "outputs": [
    {
     "data": {
      "text/plain": [
       "array([[ 0,  1,  2,  3],\n",
       "       [ 4,  5,  6,  7],\n",
       "       [ 8,  9, 10, 11],\n",
       "       [12, 13, 14, 15],\n",
       "       [16, 17, 18, 19],\n",
       "       [20, 21, 22, 23]])"
      ]
     },
     "execution_count": 75,
     "metadata": {},
     "output_type": "execute_result"
    }
   ],
   "source": [
    "a.reshape(6,-1)"
   ]
  },
  {
   "cell_type": "code",
   "execution_count": 76,
   "id": "8907f4e4-8585-4491-87cb-a331f502b1f0",
   "metadata": {
    "tags": []
   },
   "outputs": [
    {
     "ename": "ValueError",
     "evalue": "cannot reshape array of size 24 into shape (7,newaxis)",
     "output_type": "error",
     "traceback": [
      "\u001b[0;31m---------------------------------------------------------------------------\u001b[0m",
      "\u001b[0;31mValueError\u001b[0m                                Traceback (most recent call last)",
      "Cell \u001b[0;32mIn[76], line 1\u001b[0m\n\u001b[0;32m----> 1\u001b[0m \u001b[43ma\u001b[49m\u001b[38;5;241;43m.\u001b[39;49m\u001b[43mreshape\u001b[49m\u001b[43m(\u001b[49m\u001b[38;5;241;43m7\u001b[39;49m\u001b[43m,\u001b[49m\u001b[38;5;241;43m-\u001b[39;49m\u001b[38;5;241;43m1\u001b[39;49m\u001b[43m)\u001b[49m\n",
      "\u001b[0;31mValueError\u001b[0m: cannot reshape array of size 24 into shape (7,newaxis)"
     ]
    }
   ],
   "source": [
    "a.reshape(7,-1)"
   ]
  },
  {
   "cell_type": "code",
   "execution_count": 77,
   "id": "72e402a5-1165-4689-8d16-e1fc9bd8d693",
   "metadata": {
    "tags": []
   },
   "outputs": [
    {
     "data": {
      "text/plain": [
       "array([[ 0,  1,  2],\n",
       "       [ 3,  4,  5],\n",
       "       [ 6,  7,  8],\n",
       "       [ 9, 10, 11],\n",
       "       [12, 13, 14],\n",
       "       [15, 16, 17],\n",
       "       [18, 19, 20],\n",
       "       [21, 22, 23]])"
      ]
     },
     "execution_count": 77,
     "metadata": {},
     "output_type": "execute_result"
    }
   ],
   "source": [
    "a.reshape(8,-1)"
   ]
  },
  {
   "cell_type": "code",
   "execution_count": 78,
   "id": "acf908f8-3893-4eda-a74e-8860966e79bc",
   "metadata": {
    "tags": []
   },
   "outputs": [
    {
     "data": {
      "text/plain": [
       "array([[ 0,  1],\n",
       "       [ 2,  3],\n",
       "       [ 4,  5],\n",
       "       [ 6,  7],\n",
       "       [ 8,  9],\n",
       "       [10, 11],\n",
       "       [12, 13],\n",
       "       [14, 15],\n",
       "       [16, 17],\n",
       "       [18, 19],\n",
       "       [20, 21],\n",
       "       [22, 23]])"
      ]
     },
     "execution_count": 78,
     "metadata": {},
     "output_type": "execute_result"
    }
   ],
   "source": [
    "a.reshape(12,-1)"
   ]
  },
  {
   "cell_type": "code",
   "execution_count": 79,
   "id": "3eec797e-f7ef-46b2-b8a2-09b582009d4d",
   "metadata": {
    "tags": []
   },
   "outputs": [
    {
     "data": {
      "text/plain": [
       "array([[ 0,  1],\n",
       "       [ 2,  3],\n",
       "       [ 4,  5],\n",
       "       [ 6,  7],\n",
       "       [ 8,  9],\n",
       "       [10, 11],\n",
       "       [12, 13],\n",
       "       [14, 15],\n",
       "       [16, 17],\n",
       "       [18, 19],\n",
       "       [20, 21],\n",
       "       [22, 23]])"
      ]
     },
     "execution_count": 79,
     "metadata": {},
     "output_type": "execute_result"
    }
   ],
   "source": [
    "b= a.reshape(12,-1)\n",
    "b"
   ]
  },
  {
   "cell_type": "code",
   "execution_count": 80,
   "id": "f85ee228-0543-4451-9a25-7764d974399b",
   "metadata": {
    "tags": []
   },
   "outputs": [
    {
     "data": {
      "text/plain": [
       "array([ 0,  1,  2,  3,  4,  5,  6,  7,  8,  9, 10, 11, 12, 13, 14, 15, 16,\n",
       "       17, 18, 19, 20, 21, 22, 23])"
      ]
     },
     "execution_count": 80,
     "metadata": {},
     "output_type": "execute_result"
    }
   ],
   "source": [
    "b.reshape(-1) # b를 다시 길이가 24인 벡터로!"
   ]
  },
  {
   "cell_type": "markdown",
   "id": "34901108-9d65-4c22-8e19-9628f9d6535d",
   "metadata": {},
   "source": [
    "## H. 2차원 배열의 선언 "
   ]
  },
  {
   "cell_type": "code",
   "execution_count": 81,
   "id": "01c0b0e3-6aaf-48c5-93df-a16b7a8ef243",
   "metadata": {
    "tags": []
   },
   "outputs": [
    {
     "data": {
      "text/plain": [
       "array([[0., 0., 0.],\n",
       "       [0., 0., 0.],\n",
       "       [0., 0., 0.]])"
      ]
     },
     "execution_count": 81,
     "metadata": {},
     "output_type": "execute_result"
    }
   ],
   "source": [
    "np.zeros((3,3))"
   ]
  },
  {
   "cell_type": "code",
   "execution_count": 82,
   "id": "7aa6960d-7a66-4623-8389-2c7df4454807",
   "metadata": {
    "tags": []
   },
   "outputs": [
    {
     "data": {
      "text/plain": [
       "array([[1., 1., 1.],\n",
       "       [1., 1., 1.],\n",
       "       [1., 1., 1.]])"
      ]
     },
     "execution_count": 82,
     "metadata": {},
     "output_type": "execute_result"
    }
   ],
   "source": [
    "np.ones((3,3))"
   ]
  },
  {
   "cell_type": "code",
   "execution_count": 83,
   "id": "a90f2021-c904-4e5c-bbb3-7502e6e40181",
   "metadata": {
    "tags": []
   },
   "outputs": [
    {
     "data": {
      "text/plain": [
       "array([[1., 0., 0.],\n",
       "       [0., 1., 0.],\n",
       "       [0., 0., 1.]])"
      ]
     },
     "execution_count": 83,
     "metadata": {},
     "output_type": "execute_result"
    }
   ],
   "source": [
    "np.eye(3)"
   ]
  },
  {
   "cell_type": "code",
   "execution_count": 84,
   "id": "8c22ab0c-7b39-488c-9d41-25612e07f993",
   "metadata": {
    "tags": []
   },
   "outputs": [
    {
     "data": {
      "text/plain": [
       "array([[ 1,  0,  0,  0],\n",
       "       [ 0,  2,  0,  0],\n",
       "       [ 0,  0,  3,  0],\n",
       "       [ 0,  0,  0, -1]])"
      ]
     },
     "execution_count": 84,
     "metadata": {},
     "output_type": "execute_result"
    }
   ],
   "source": [
    "np.diag([1,2,3,-1])"
   ]
  },
  {
   "cell_type": "markdown",
   "id": "3bfae7fd-d3d1-40ef-9d99-3d67fcf64e58",
   "metadata": {},
   "source": [
    "## I. 랜덤으로 배열 생성 "
   ]
  },
  {
   "cell_type": "code",
   "execution_count": 85,
   "id": "7e4a037e-59f3-4568-a5fd-6262cae35250",
   "metadata": {
    "tags": []
   },
   "outputs": [
    {
     "data": {
      "text/plain": [
       "array([-0.33138513,  1.42650878,  1.22837316,  0.08113144, -1.0972836 ,\n",
       "        1.66641222,  0.18244459,  0.45246865, -1.22156378,  0.18756565])"
      ]
     },
     "execution_count": 85,
     "metadata": {},
     "output_type": "execute_result"
    }
   ],
   "source": [
    "np.random.randn(10) # 표쥰정규분포에서 10개를 뽑음 "
   ]
  },
  {
   "cell_type": "code",
   "execution_count": 86,
   "id": "0a7d9efb-a47a-4d50-9956-23c284ec78e3",
   "metadata": {
    "tags": []
   },
   "outputs": [
    {
     "data": {
      "text/plain": [
       "array([0.67642264, 0.06040223, 0.48991224, 0.32202819, 0.22195857,\n",
       "       0.31407011, 0.82567895, 0.14494499, 0.74293485, 0.37775136])"
      ]
     },
     "execution_count": 86,
     "metadata": {},
     "output_type": "execute_result"
    }
   ],
   "source": [
    "np.random.rand(10) # 0~1사이에서 10개를 뽑음"
   ]
  },
  {
   "cell_type": "code",
   "execution_count": 87,
   "id": "e081b267-64a0-4765-abf9-a26bfa519f3f",
   "metadata": {
    "tags": []
   },
   "outputs": [
    {
     "data": {
      "text/plain": [
       "array([[-1.1514733 , -0.82454175],\n",
       "       [-0.07976586,  0.0863252 ]])"
      ]
     },
     "execution_count": 87,
     "metadata": {},
     "output_type": "execute_result"
    }
   ],
   "source": [
    "np.random.randn(4).reshape(2,2) # 표준정규분포에서 4개를 뽑고 (2,2) ndarray로 형태변환 "
   ]
  },
  {
   "cell_type": "code",
   "execution_count": 88,
   "id": "9a81b2a0-bed1-47cd-b982-91c4ba9bafaf",
   "metadata": {
    "tags": []
   },
   "outputs": [
    {
     "data": {
      "text/plain": [
       "array([[0.06084905, 0.54804885],\n",
       "       [0.64428734, 0.76590051]])"
      ]
     },
     "execution_count": 88,
     "metadata": {},
     "output_type": "execute_result"
    }
   ],
   "source": [
    "np.random.rand(4).reshape(2,2) # 0~1 4개를 뽑고 (2,2) ndarray로 형태변환 "
   ]
  },
  {
   "cell_type": "markdown",
   "id": "d6950211-be4b-42c4-bc80-70f8d7719aac",
   "metadata": {},
   "source": [
    "## J. 행렬관련기능"
   ]
  },
  {
   "cell_type": "code",
   "execution_count": 89,
   "id": "325f2540-d8af-46a1-b431-30ff91a96703",
   "metadata": {
    "tags": []
   },
   "outputs": [
    {
     "data": {
      "text/plain": [
       "array([[0, 1],\n",
       "       [2, 3]])"
      ]
     },
     "execution_count": 89,
     "metadata": {},
     "output_type": "execute_result"
    }
   ],
   "source": [
    "A=np.arange(4).reshape(2,2) \n",
    "A"
   ]
  },
  {
   "cell_type": "code",
   "execution_count": 90,
   "id": "14ebeda2-0c96-4678-8452-d257a092c36e",
   "metadata": {
    "tags": []
   },
   "outputs": [
    {
     "data": {
      "text/plain": [
       "array([[0, 2],\n",
       "       [1, 3]])"
      ]
     },
     "execution_count": 90,
     "metadata": {},
     "output_type": "execute_result"
    }
   ],
   "source": [
    "A.T # .T는 전치행렬을 구해줌 "
   ]
  },
  {
   "cell_type": "code",
   "execution_count": 91,
   "id": "3e7c1d9c-5c89-4f12-be18-775476323318",
   "metadata": {
    "tags": []
   },
   "outputs": [
    {
     "data": {
      "text/plain": [
       "array([[-1.5,  0.5],\n",
       "       [ 1. ,  0. ]])"
      ]
     },
     "execution_count": 91,
     "metadata": {},
     "output_type": "execute_result"
    }
   ],
   "source": [
    "np.linalg.inv(A) # np.linalg.inv는 역행렬을 구해주는 함수 "
   ]
  },
  {
   "cell_type": "code",
   "execution_count": 92,
   "id": "622ccc62-be54-47d4-b44d-38b7b54037ac",
   "metadata": {
    "tags": []
   },
   "outputs": [
    {
     "data": {
      "text/plain": [
       "array([[1., 0.],\n",
       "       [0., 1.]])"
      ]
     },
     "execution_count": 92,
     "metadata": {},
     "output_type": "execute_result"
    }
   ],
   "source": [
    "A @ np.linalg.inv(A) # @는 행렬곱을 수행 "
   ]
  },
  {
   "cell_type": "markdown",
   "id": "0c38147e-459a-4b81-a3de-0fdcc9d43ca1",
   "metadata": {},
   "source": [
    "## K. 2차원 배열과 연립 1차 방정식 "
   ]
  },
  {
   "cell_type": "markdown",
   "id": "db01fa7b-bb93-4def-98f3-87b9bbb5f023",
   "metadata": {},
   "source": [
    "`-` 아래의 연립방정식 고려 \n",
    "\n",
    "$\\begin{cases}\n",
    "y+z+w = 3 \\\\ \n",
    "x+z+w = 3 \\\\ \n",
    "x+y+w = 3 \\\\\n",
    "x+y+z = 3 \n",
    "\\end{cases}$"
   ]
  },
  {
   "cell_type": "markdown",
   "id": "15504134-6e4f-4bbc-a102-3285a56c8edc",
   "metadata": {},
   "source": [
    "`-` 행렬표현? \n",
    "\n",
    "$\\begin{bmatrix} \n",
    "0 & 1 & 1 & 1 \\\\\n",
    "1 & 0 & 1 & 1 \\\\\n",
    "1 & 1 & 0 & 1 \\\\\n",
    "1 & 1 & 1 & 0 \n",
    "\\end{bmatrix}\n",
    "\\begin{bmatrix}\n",
    "x \\\\ \n",
    "y \\\\ \n",
    "z \\\\ \n",
    "w \n",
    "\\end{bmatrix} =\n",
    "\\begin{bmatrix}\n",
    "3 \\\\ \n",
    "3 \\\\ \n",
    "3 \\\\ \n",
    "3 \n",
    "\\end{bmatrix}$\n"
   ]
  },
  {
   "cell_type": "markdown",
   "id": "343565e1-fc57-42ef-8912-a816ed2ba559",
   "metadata": {},
   "source": [
    "`-` 풀이"
   ]
  },
  {
   "cell_type": "code",
   "execution_count": 93,
   "id": "0877ed6a-7f70-44e2-9285-9a14781ad4ba",
   "metadata": {
    "tags": []
   },
   "outputs": [
    {
     "data": {
      "text/plain": [
       "array([[0, 1, 1, 1],\n",
       "       [1, 0, 1, 1],\n",
       "       [1, 1, 0, 1],\n",
       "       [1, 1, 1, 0]])"
      ]
     },
     "execution_count": 93,
     "metadata": {},
     "output_type": "execute_result"
    }
   ],
   "source": [
    "A = np.array([[0,1,1,1],[1,0,1,1],[1,1,0,1],[1,1,1,0]])\n",
    "A"
   ]
  },
  {
   "cell_type": "code",
   "execution_count": 94,
   "id": "6e9a8268-08d1-4372-97fa-dc63bfe6a3f3",
   "metadata": {
    "tags": []
   },
   "outputs": [
    {
     "data": {
      "text/plain": [
       "array([[3],\n",
       "       [3],\n",
       "       [3],\n",
       "       [3]])"
      ]
     },
     "execution_count": 94,
     "metadata": {},
     "output_type": "execute_result"
    }
   ],
   "source": [
    "b= np.array([3,3,3,3]).reshape(4,1)\n",
    "b"
   ]
  },
  {
   "cell_type": "code",
   "execution_count": 95,
   "id": "88e0ee63-1fc2-41fb-bd6c-31284dcc232f",
   "metadata": {
    "tags": []
   },
   "outputs": [
    {
     "data": {
      "text/plain": [
       "array([[1.],\n",
       "       [1.],\n",
       "       [1.],\n",
       "       [1.]])"
      ]
     },
     "execution_count": 95,
     "metadata": {},
     "output_type": "execute_result"
    }
   ],
   "source": [
    "np.linalg.inv(A) @ b "
   ]
  },
  {
   "cell_type": "markdown",
   "id": "dbe9990b-e838-440c-a2ba-3ac203127871",
   "metadata": {},
   "source": [
    "`-` 다른풀이 "
   ]
  },
  {
   "cell_type": "markdown",
   "id": "092d12aa-c050-40c3-8000-ccafd31d8aec",
   "metadata": {},
   "source": [
    "b를 아래와 같이 만들어도 된다. "
   ]
  },
  {
   "cell_type": "code",
   "execution_count": 96,
   "id": "dd1f3708-82b0-482c-a610-dadb73abbc9c",
   "metadata": {
    "tags": []
   },
   "outputs": [
    {
     "data": {
      "text/plain": [
       "array([3, 3, 3, 3])"
      ]
     },
     "execution_count": 96,
     "metadata": {},
     "output_type": "execute_result"
    }
   ],
   "source": [
    "b=np.array([3,3,3,3])\n",
    "b"
   ]
  },
  {
   "cell_type": "code",
   "execution_count": 97,
   "id": "436fb6b7-92a2-4994-bdcf-30f9a901ab27",
   "metadata": {
    "tags": []
   },
   "outputs": [
    {
     "data": {
      "text/plain": [
       "(4,)"
      ]
     },
     "execution_count": 97,
     "metadata": {},
     "output_type": "execute_result"
    }
   ],
   "source": [
    "b.shape # b.shape은 길이가 1인 튜플로 나온다. "
   ]
  },
  {
   "cell_type": "code",
   "execution_count": 98,
   "id": "a84da24d-aad4-4fcc-bb9d-fdb69ed6bf0b",
   "metadata": {
    "tags": []
   },
   "outputs": [
    {
     "data": {
      "text/plain": [
       "array([1., 1., 1., 1.])"
      ]
     },
     "execution_count": 98,
     "metadata": {},
     "output_type": "execute_result"
    }
   ],
   "source": [
    "np.linalg.inv(A) @ b "
   ]
  },
  {
   "cell_type": "markdown",
   "id": "6772a3df-85ea-4839-a00f-4455b269d1c5",
   "metadata": {},
   "source": [
    "***`@`의 유연성***"
   ]
  },
  {
   "cell_type": "markdown",
   "id": "74d5ee62-5391-4116-9a79-a8c6dddb6931",
   "metadata": {},
   "source": [
    "`-` 엄밀하게는 아래의 행렬곱이 가능하다. \n",
    "- (2,2) @ (2,1) => (2,1) \n",
    "- (1,2) @ (2,2) => (1,2) "
   ]
  },
  {
   "cell_type": "code",
   "execution_count": 99,
   "id": "3fcc6a3c-14d6-4ae1-b221-d59294fe251a",
   "metadata": {
    "tags": []
   },
   "outputs": [
    {
     "data": {
      "text/plain": [
       "array([[ 5],\n",
       "       [11]])"
      ]
     },
     "execution_count": 99,
     "metadata": {},
     "output_type": "execute_result"
    }
   ],
   "source": [
    "A = np.array([1,2,3,4]).reshape(2,2) \n",
    "b = np.array([1,2]).reshape(2,1) \n",
    "A@b"
   ]
  },
  {
   "cell_type": "code",
   "execution_count": 100,
   "id": "566d96d1-4849-49c9-b5f7-a188876902cd",
   "metadata": {
    "tags": []
   },
   "outputs": [
    {
     "data": {
      "text/plain": [
       "((2, 2), (2, 1), (2, 1))"
      ]
     },
     "execution_count": 100,
     "metadata": {},
     "output_type": "execute_result"
    }
   ],
   "source": [
    "A.shape, b.shape, (A@b).shape"
   ]
  },
  {
   "cell_type": "code",
   "execution_count": 101,
   "id": "dfcf2e1b-7a85-45e9-addb-f4c8c5cc687d",
   "metadata": {
    "tags": []
   },
   "outputs": [
    {
     "data": {
      "text/plain": [
       "array([[ 7, 10]])"
      ]
     },
     "execution_count": 101,
     "metadata": {},
     "output_type": "execute_result"
    }
   ],
   "source": [
    "A = np.array([1,2,3,4]).reshape(2,2) \n",
    "b = np.array([1,2]).reshape(1,2) \n",
    "b@A "
   ]
  },
  {
   "cell_type": "code",
   "execution_count": 102,
   "id": "1221fae7-5008-47ae-8289-777c65416ed7",
   "metadata": {
    "tags": []
   },
   "outputs": [
    {
     "data": {
      "text/plain": [
       "((2, 2), (1, 2), (1, 2))"
      ]
     },
     "execution_count": 102,
     "metadata": {},
     "output_type": "execute_result"
    }
   ],
   "source": [
    "A.shape, b.shape, (b@A).shape"
   ]
  },
  {
   "cell_type": "markdown",
   "id": "3a50ed9b-994e-434f-b6ea-c686c3a11f65",
   "metadata": {},
   "source": [
    "`-` 당연히 아래는 성립안한다. "
   ]
  },
  {
   "cell_type": "code",
   "execution_count": 103,
   "id": "36fd2296-d127-4678-91dc-a119d0c208e0",
   "metadata": {
    "tags": []
   },
   "outputs": [
    {
     "ename": "ValueError",
     "evalue": "matmul: Input operand 1 has a mismatch in its core dimension 0, with gufunc signature (n?,k),(k,m?)->(n?,m?) (size 2 is different from 1)",
     "output_type": "error",
     "traceback": [
      "\u001b[0;31m---------------------------------------------------------------------------\u001b[0m",
      "\u001b[0;31mValueError\u001b[0m                                Traceback (most recent call last)",
      "Cell \u001b[0;32mIn[103], line 3\u001b[0m\n\u001b[1;32m      1\u001b[0m A \u001b[38;5;241m=\u001b[39m np\u001b[38;5;241m.\u001b[39marray([\u001b[38;5;241m1\u001b[39m,\u001b[38;5;241m2\u001b[39m,\u001b[38;5;241m3\u001b[39m,\u001b[38;5;241m4\u001b[39m])\u001b[38;5;241m.\u001b[39mreshape(\u001b[38;5;241m2\u001b[39m,\u001b[38;5;241m2\u001b[39m) \n\u001b[1;32m      2\u001b[0m b \u001b[38;5;241m=\u001b[39m np\u001b[38;5;241m.\u001b[39marray([\u001b[38;5;241m1\u001b[39m,\u001b[38;5;241m2\u001b[39m])\u001b[38;5;241m.\u001b[39mreshape(\u001b[38;5;241m2\u001b[39m,\u001b[38;5;241m1\u001b[39m) \n\u001b[0;32m----> 3\u001b[0m \u001b[43mb\u001b[49m\u001b[38;5;129;43m@A\u001b[39;49m\n",
      "\u001b[0;31mValueError\u001b[0m: matmul: Input operand 1 has a mismatch in its core dimension 0, with gufunc signature (n?,k),(k,m?)->(n?,m?) (size 2 is different from 1)"
     ]
    }
   ],
   "source": [
    "A = np.array([1,2,3,4]).reshape(2,2) \n",
    "b = np.array([1,2]).reshape(2,1) \n",
    "b@A"
   ]
  },
  {
   "cell_type": "code",
   "execution_count": 104,
   "id": "8c40ff67-6adb-4dd0-8d26-e059459db5e8",
   "metadata": {
    "tags": []
   },
   "outputs": [
    {
     "ename": "ValueError",
     "evalue": "matmul: Input operand 1 has a mismatch in its core dimension 0, with gufunc signature (n?,k),(k,m?)->(n?,m?) (size 1 is different from 2)",
     "output_type": "error",
     "traceback": [
      "\u001b[0;31m---------------------------------------------------------------------------\u001b[0m",
      "\u001b[0;31mValueError\u001b[0m                                Traceback (most recent call last)",
      "Cell \u001b[0;32mIn[104], line 3\u001b[0m\n\u001b[1;32m      1\u001b[0m A \u001b[38;5;241m=\u001b[39m np\u001b[38;5;241m.\u001b[39marray([\u001b[38;5;241m1\u001b[39m,\u001b[38;5;241m2\u001b[39m,\u001b[38;5;241m3\u001b[39m,\u001b[38;5;241m4\u001b[39m])\u001b[38;5;241m.\u001b[39mreshape(\u001b[38;5;241m2\u001b[39m,\u001b[38;5;241m2\u001b[39m) \n\u001b[1;32m      2\u001b[0m b \u001b[38;5;241m=\u001b[39m np\u001b[38;5;241m.\u001b[39marray([\u001b[38;5;241m1\u001b[39m,\u001b[38;5;241m2\u001b[39m])\u001b[38;5;241m.\u001b[39mreshape(\u001b[38;5;241m1\u001b[39m,\u001b[38;5;241m2\u001b[39m) \n\u001b[0;32m----> 3\u001b[0m \u001b[43mA\u001b[49m\u001b[38;5;129;43m@b\u001b[39;49m\n",
      "\u001b[0;31mValueError\u001b[0m: matmul: Input operand 1 has a mismatch in its core dimension 0, with gufunc signature (n?,k),(k,m?)->(n?,m?) (size 1 is different from 2)"
     ]
    }
   ],
   "source": [
    "A = np.array([1,2,3,4]).reshape(2,2) \n",
    "b = np.array([1,2]).reshape(1,2) \n",
    "A@b"
   ]
  },
  {
   "cell_type": "markdown",
   "id": "0c2b4f07-3b32-412d-ac19-66da3b2470fc",
   "metadata": {},
   "source": [
    "`-` 아래는 어떨까? 계산가능할까? $\\to$ 모두 계산가능!\n",
    "- (2,) @ (2,2) = (2,) \n",
    "- (2,2) @ (2,) = (2,) "
   ]
  },
  {
   "cell_type": "code",
   "execution_count": 105,
   "id": "b9e8c885-f3c8-4a59-ab5c-329c7944b1db",
   "metadata": {
    "tags": []
   },
   "outputs": [
    {
     "data": {
      "text/plain": [
       "array([ 5, 11])"
      ]
     },
     "execution_count": 105,
     "metadata": {},
     "output_type": "execute_result"
    }
   ],
   "source": [
    "A = np.array([1,2,3,4]).reshape(2,2)\n",
    "b = np.array([1,2]) \n",
    "A@b"
   ]
  },
  {
   "cell_type": "code",
   "execution_count": 106,
   "id": "83c6b147-2b2a-425f-815a-b2dd6c53e117",
   "metadata": {
    "tags": []
   },
   "outputs": [
    {
     "data": {
      "text/plain": [
       "((2, 2), (2,), (2,))"
      ]
     },
     "execution_count": 106,
     "metadata": {},
     "output_type": "execute_result"
    }
   ],
   "source": [
    "A.shape, b.shape, (A@b).shape "
   ]
  },
  {
   "cell_type": "markdown",
   "id": "8175945f-3521-4da8-8cd1-2abf83e65b90",
   "metadata": {},
   "source": [
    "- b를 마치 (2,1)처럼 해석하여 행렬곱하고 결과는 다시 (2,) 로 만든것 같다. "
   ]
  },
  {
   "cell_type": "code",
   "execution_count": 107,
   "id": "b0e4b65c-278a-413c-a140-3ecd7ef0064c",
   "metadata": {
    "tags": []
   },
   "outputs": [
    {
     "data": {
      "text/plain": [
       "array([ 7, 10])"
      ]
     },
     "execution_count": 107,
     "metadata": {},
     "output_type": "execute_result"
    }
   ],
   "source": [
    "b@A"
   ]
  },
  {
   "cell_type": "code",
   "execution_count": 108,
   "id": "8573dbc1-104f-419d-bd16-464f61dd49de",
   "metadata": {
    "tags": []
   },
   "outputs": [
    {
     "data": {
      "text/plain": [
       "((2, 2), (2,), (2,))"
      ]
     },
     "execution_count": 108,
     "metadata": {},
     "output_type": "execute_result"
    }
   ],
   "source": [
    "A.shape, b.shape, (b@A).shape "
   ]
  },
  {
   "cell_type": "markdown",
   "id": "994cfb4d-53ce-4948-91c8-bb9b152f06e5",
   "metadata": {},
   "source": [
    "- 이때는 $b$를 마치 (1,2)처럼 해석하여 행렬곱하고 결과는 다시 (2,)로 만든것 같다. "
   ]
  },
  {
   "cell_type": "markdown",
   "id": "8bf1c527-3ee2-4aaf-acfb-6eea2890fbe9",
   "metadata": {},
   "source": [
    "`-` 아래는 어떠할까? "
   ]
  },
  {
   "cell_type": "code",
   "execution_count": 109,
   "id": "a71b8785-ed7b-49ea-a57d-a07a67688fb1",
   "metadata": {
    "tags": []
   },
   "outputs": [
    {
     "data": {
      "text/plain": [
       "30"
      ]
     },
     "execution_count": 109,
     "metadata": {},
     "output_type": "execute_result"
    }
   ],
   "source": [
    "b1 = np.array([1,2,3,4]) \n",
    "b2 = np.array([1,2,3,4]) \n",
    "b1@b2 "
   ]
  },
  {
   "cell_type": "code",
   "execution_count": 110,
   "id": "75575ff0-bc6a-407a-8a8b-62521417f7b9",
   "metadata": {
    "tags": []
   },
   "outputs": [
    {
     "data": {
      "text/plain": [
       "((4,), (4,), ())"
      ]
     },
     "execution_count": 110,
     "metadata": {},
     "output_type": "execute_result"
    }
   ],
   "source": [
    "b1.shape, b2.shape, (b1@b2).shape "
   ]
  },
  {
   "cell_type": "markdown",
   "id": "f2e7f800-41fc-4622-8b05-940233be01ea",
   "metadata": {},
   "source": [
    "- (1,4) @ (4,1) = (1,1) 로 생각 "
   ]
  },
  {
   "cell_type": "markdown",
   "id": "f21c4311-274e-4ffe-90e2-c45e36dbcb4e",
   "metadata": {},
   "source": [
    "`-` 즉 위는 아래와 같이 해석하고 행렬곱한것과 결과가 같다. "
   ]
  },
  {
   "cell_type": "code",
   "execution_count": 111,
   "id": "4d470698-272d-494a-947d-f0bf5a946bb3",
   "metadata": {
    "tags": []
   },
   "outputs": [
    {
     "data": {
      "text/plain": [
       "array([[30]])"
      ]
     },
     "execution_count": 111,
     "metadata": {},
     "output_type": "execute_result"
    }
   ],
   "source": [
    "b1 = np.array([1,2,3,4]).reshape(1,4) \n",
    "b2 = np.array([1,2,3,4]).reshape(4,1) \n",
    "b1@b2 "
   ]
  },
  {
   "cell_type": "code",
   "execution_count": 112,
   "id": "f24ada40-98dd-4fb6-b1db-bb73ff1360c8",
   "metadata": {
    "tags": []
   },
   "outputs": [
    {
     "data": {
      "text/plain": [
       "((1, 4), (4, 1), (1, 1))"
      ]
     },
     "execution_count": 112,
     "metadata": {},
     "output_type": "execute_result"
    }
   ],
   "source": [
    "b1.shape, b2.shape, (b1@b2).shape "
   ]
  },
  {
   "cell_type": "markdown",
   "id": "f2abea82-72a2-4c67-b8b6-804bba1d8df0",
   "metadata": {},
   "source": [
    "`-` 때로는 (4,1) @ (1,4)와 같은 계산결과를 얻고 싶을 수 있는데 이때는 차원을 명시해야함 "
   ]
  },
  {
   "cell_type": "code",
   "execution_count": 113,
   "id": "15344a20-d3f6-4c46-9e2e-d7d334ce862c",
   "metadata": {
    "tags": []
   },
   "outputs": [
    {
     "data": {
      "text/plain": [
       "array([[ 1,  2,  3,  4],\n",
       "       [ 2,  4,  6,  8],\n",
       "       [ 3,  6,  9, 12],\n",
       "       [ 4,  8, 12, 16]])"
      ]
     },
     "execution_count": 113,
     "metadata": {},
     "output_type": "execute_result"
    }
   ],
   "source": [
    "b1 = np.array([1,2,3,4]).reshape(4,1) \n",
    "b2 = np.array([1,2,3,4]).reshape(1,4) \n",
    "b1@b2 "
   ]
  },
  {
   "cell_type": "markdown",
   "id": "a938913d-ddcf-4859-b219-a24e4749dafe",
   "metadata": {},
   "source": [
    "## L. 차원 "
   ]
  },
  {
   "cell_type": "markdown",
   "id": "b5d4360e-04c1-4736-a3e2-2e746f9a709a",
   "metadata": {},
   "source": [
    "`-` 넘파이배열의 차원은 .shape 으로 확인가능 "
   ]
  },
  {
   "cell_type": "markdown",
   "id": "290e4b10-9295-4088-8a65-c61afad676f1",
   "metadata": {},
   "source": [
    "`-` 아래는 모두 미묘하게 다르다. "
   ]
  },
  {
   "cell_type": "code",
   "execution_count": 114,
   "id": "1f1ac9e5-7926-4828-a3f6-48ca06535e87",
   "metadata": {
    "tags": []
   },
   "outputs": [
    {
     "data": {
      "text/plain": [
       "(array(3.14), ())"
      ]
     },
     "execution_count": 114,
     "metadata": {},
     "output_type": "execute_result"
    }
   ],
   "source": [
    "a=np.array(3.14) # 스칼라, 0d array \n",
    "a, a.shape"
   ]
  },
  {
   "cell_type": "code",
   "execution_count": 115,
   "id": "084df997-6409-4657-880e-3b37f43ec393",
   "metadata": {
    "tags": []
   },
   "outputs": [
    {
     "data": {
      "text/plain": [
       "(array([3.14]), (1,))"
      ]
     },
     "execution_count": 115,
     "metadata": {},
     "output_type": "execute_result"
    }
   ],
   "source": [
    "a=np.array([3.14]) # 벡터, 1d array \n",
    "a, a.shape"
   ]
  },
  {
   "cell_type": "code",
   "execution_count": 116,
   "id": "fa2a046b-e5f3-493b-9613-1d28bcf5f5bd",
   "metadata": {
    "tags": []
   },
   "outputs": [
    {
     "data": {
      "text/plain": [
       "(array([[3.14]]), (1, 1))"
      ]
     },
     "execution_count": 116,
     "metadata": {},
     "output_type": "execute_result"
    }
   ],
   "source": [
    "a=np.array([[3.14]]) # 매트릭스, 2d array \n",
    "a, a.shape"
   ]
  },
  {
   "cell_type": "code",
   "execution_count": 117,
   "id": "a50bd4a8-25f6-455c-9b89-a14a521bb836",
   "metadata": {
    "tags": []
   },
   "outputs": [
    {
     "data": {
      "text/plain": [
       "(array([[[3.14]]]), (1, 1, 1))"
      ]
     },
     "execution_count": 117,
     "metadata": {},
     "output_type": "execute_result"
    }
   ],
   "source": [
    "a=np.array([[[3.14]]]) # 텐서, 3d array \n",
    "a, a.shape"
   ]
  },
  {
   "cell_type": "markdown",
   "id": "c6fbe567-6ee3-4051-979c-8ab3eb4d769b",
   "metadata": {},
   "source": [
    "# 4. `numpy`와 축(`axis`) "
   ]
  },
  {
   "cell_type": "markdown",
   "id": "fbd8c00f-2916-4bfc-9af0-46be603a5c4e",
   "metadata": {},
   "source": [
    "축(axis)은 차원과 비슷하게 생각하면 됨"
   ]
  },
  {
   "cell_type": "markdown",
   "id": "7712d848-e41f-4dde-9157-e653fff3c4db",
   "metadata": {},
   "source": [
    "## A. `np.concatenate`"
   ]
  },
  {
   "cell_type": "markdown",
   "id": "9bc802df-5ea2-4757-af0e-3ff83b8ccc80",
   "metadata": {},
   "source": [
    "`-` 기본예제"
   ]
  },
  {
   "cell_type": "code",
   "execution_count": 5,
   "id": "af756ce6-5252-4d01-9add-def86b5ddd93",
   "metadata": {
    "tags": []
   },
   "outputs": [],
   "source": [
    "a = np.array([1,2])\n",
    "b = -a"
   ]
  },
  {
   "cell_type": "code",
   "execution_count": 9,
   "id": "454eab49-c813-4270-85ac-09789203daa5",
   "metadata": {
    "tags": []
   },
   "outputs": [
    {
     "data": {
      "text/plain": [
       "array([ 1,  2, -1, -2])"
      ]
     },
     "execution_count": 9,
     "metadata": {},
     "output_type": "execute_result"
    }
   ],
   "source": [
    "np.concatenate([a,b])"
   ]
  },
  {
   "cell_type": "markdown",
   "id": "708c865e-52a7-4154-88c6-68d792b3cd0b",
   "metadata": {},
   "source": [
    "- 딱히 인상적인건 아님. \n",
    "- 왜냐하면 리스트에서 있는 기능임 "
   ]
  },
  {
   "cell_type": "markdown",
   "id": "e7db37d9-834b-48a7-af5b-7702b7bde174",
   "metadata": {},
   "source": [
    "`-` 2D인 경우"
   ]
  },
  {
   "cell_type": "code",
   "execution_count": 15,
   "id": "c3b2b6cb-12eb-4078-b896-89e264ea00db",
   "metadata": {
    "tags": []
   },
   "outputs": [],
   "source": [
    "a = np.array([1,2,3,4]).reshape(2,2)\n",
    "b = -a"
   ]
  },
  {
   "cell_type": "code",
   "execution_count": 17,
   "id": "68e40562-2fd7-4d8a-9cf4-e5b1db6f8df3",
   "metadata": {
    "tags": []
   },
   "outputs": [
    {
     "data": {
      "text/plain": [
       "array([[ 1,  2],\n",
       "       [ 3,  4],\n",
       "       [-1, -2],\n",
       "       [-3, -4]])"
      ]
     },
     "execution_count": 17,
     "metadata": {},
     "output_type": "execute_result"
    }
   ],
   "source": [
    "np.concatenate([a,b])"
   ]
  },
  {
   "cell_type": "markdown",
   "id": "02f27a19-b286-4cb9-9c7d-dd1d61385fdd",
   "metadata": {},
   "source": [
    "a,b를 위아래가 아니라 좌우로 붙이고 싶다면? "
   ]
  },
  {
   "cell_type": "code",
   "execution_count": 18,
   "id": "d090c46d-8bd9-4441-842c-f26d2a42b76b",
   "metadata": {
    "tags": []
   },
   "outputs": [
    {
     "data": {
      "text/plain": [
       "array([[ 1,  2, -1, -2],\n",
       "       [ 3,  4, -3, -4]])"
      ]
     },
     "execution_count": 18,
     "metadata": {},
     "output_type": "execute_result"
    }
   ],
   "source": [
    "np.concatenate([a,b],axis=1)"
   ]
  },
  {
   "cell_type": "markdown",
   "id": "877fbe61-0aaa-47e9-9981-f299661488a7",
   "metadata": {},
   "source": [
    "`-` 도데체 axis=0, 혹은 axis=1의 의미가 무엇인가? "
   ]
  },
  {
   "cell_type": "code",
   "execution_count": 21,
   "id": "8eabb6f9-afca-42eb-bfc3-45c32d06ed8a",
   "metadata": {
    "tags": []
   },
   "outputs": [
    {
     "data": {
      "text/plain": [
       "array([[ 1,  2],\n",
       "       [ 3,  4],\n",
       "       [-1, -2],\n",
       "       [-3, -4]])"
      ]
     },
     "execution_count": 21,
     "metadata": {},
     "output_type": "execute_result"
    }
   ],
   "source": [
    "np.concatenate([a,b],axis=0) # 이건 아까 np.concatenate([a,b])랑 같네?"
   ]
  },
  {
   "cell_type": "code",
   "execution_count": 22,
   "id": "965d69e1-27dc-4c86-a83f-9ac48153f12f",
   "metadata": {
    "tags": []
   },
   "outputs": [
    {
     "data": {
      "text/plain": [
       "array([[ 1,  2, -1, -2],\n",
       "       [ 3,  4, -3, -4]])"
      ]
     },
     "execution_count": 22,
     "metadata": {},
     "output_type": "execute_result"
    }
   ],
   "source": [
    "np.concatenate([a,b],axis=1) # 이건 아까 np.concatenate([a,b])랑 같네?"
   ]
  },
  {
   "cell_type": "markdown",
   "id": "17d0c0c4-efb7-4615-b633-b82b5be1edb9",
   "metadata": {},
   "source": [
    "- 관찰에 의한 정리: a,b가 2차원일때 axis=0 이라고 쓰면 위아래로, axis=1이라고 하면 좌우로 합쳐진다. \n",
    "- axis=0은 생략할 수 있다. "
   ]
  },
  {
   "cell_type": "markdown",
   "id": "753631e1-bcf0-4d84-9b48-a930f124afeb",
   "metadata": {},
   "source": [
    "`-` 2D일 경우에 활용"
   ]
  },
  {
   "cell_type": "code",
   "execution_count": 52,
   "id": "c553adbd-c1d6-4a6e-af63-99ab85e6bc52",
   "metadata": {
    "tags": []
   },
   "outputs": [],
   "source": [
    "a = np.array([1,2,3,4]).reshape(2,2)\n",
    "b = np.array([10,20]).reshape(2,1)\n",
    "c = -b"
   ]
  },
  {
   "cell_type": "code",
   "execution_count": 53,
   "id": "29f76224-f383-46f8-adf3-b660e95d824f",
   "metadata": {
    "tags": []
   },
   "outputs": [
    {
     "data": {
      "text/plain": [
       "(array([[1, 2],\n",
       "        [3, 4]]),\n",
       " array([[10],\n",
       "        [20]]),\n",
       " array([[-10],\n",
       "        [-20]]))"
      ]
     },
     "execution_count": 53,
     "metadata": {},
     "output_type": "execute_result"
    }
   ],
   "source": [
    "a,b,c"
   ]
  },
  {
   "cell_type": "code",
   "execution_count": 54,
   "id": "19f10638-7b26-406c-ae97-88fe43c50c51",
   "metadata": {
    "tags": []
   },
   "outputs": [
    {
     "data": {
      "text/plain": [
       "array([[ 1,  2],\n",
       "       [ 3,  4],\n",
       "       [10, 20]])"
      ]
     },
     "execution_count": 54,
     "metadata": {},
     "output_type": "execute_result"
    }
   ],
   "source": [
    "np.concatenate([a,b.T],axis=0) "
   ]
  },
  {
   "cell_type": "code",
   "execution_count": 55,
   "id": "41d084f0-c14a-4c42-a206-f3ffe875b48a",
   "metadata": {
    "tags": []
   },
   "outputs": [
    {
     "data": {
      "text/plain": [
       "array([[  1,   2],\n",
       "       [  3,   4],\n",
       "       [ 10,  20],\n",
       "       [-10, -20]])"
      ]
     },
     "execution_count": 55,
     "metadata": {},
     "output_type": "execute_result"
    }
   ],
   "source": [
    "np.concatenate([a,b.T,c.T],axis=0) "
   ]
  },
  {
   "cell_type": "code",
   "execution_count": 56,
   "id": "06b77079-9a10-46ff-a42c-bd8039770f50",
   "metadata": {
    "tags": []
   },
   "outputs": [
    {
     "data": {
      "text/plain": [
       "array([[ 1,  2, 10],\n",
       "       [ 3,  4, 20]])"
      ]
     },
     "execution_count": 56,
     "metadata": {},
     "output_type": "execute_result"
    }
   ],
   "source": [
    "np.concatenate([a,b],axis=1) "
   ]
  },
  {
   "cell_type": "code",
   "execution_count": 57,
   "id": "5828a0df-f390-4629-b87e-f86a56d2cb01",
   "metadata": {
    "tags": []
   },
   "outputs": [
    {
     "data": {
      "text/plain": [
       "array([[  1,   2,  10, -10],\n",
       "       [  3,   4,  20, -20]])"
      ]
     },
     "execution_count": 57,
     "metadata": {},
     "output_type": "execute_result"
    }
   ],
   "source": [
    "np.concatenate([a,b,c],axis=1) "
   ]
  },
  {
   "cell_type": "code",
   "execution_count": 59,
   "id": "69fab6d2-d690-4836-a12d-4f07b2f909ab",
   "metadata": {
    "tags": []
   },
   "outputs": [
    {
     "data": {
      "text/plain": [
       "array([[  1,  10],\n",
       "       [  2,  20],\n",
       "       [  3, -10],\n",
       "       [  4, -20]])"
      ]
     },
     "execution_count": 59,
     "metadata": {},
     "output_type": "execute_result"
    }
   ],
   "source": [
    "np.concatenate([a.reshape(4,1), np.concatenate([b,c])],axis=1)"
   ]
  },
  {
   "cell_type": "markdown",
   "id": "c0b5a79f-34ac-491d-8903-c5e7a1886904",
   "metadata": {},
   "source": [
    "`-` axis의 의미가 뭔지 궁금함. 좀 더 예제를 살펴보자."
   ]
  },
  {
   "cell_type": "code",
   "execution_count": 65,
   "id": "e74c3e32-65b2-420d-abab-8a19beecc868",
   "metadata": {
    "tags": []
   },
   "outputs": [],
   "source": [
    "a = np.arange(2*3*4).reshape(2,3,4)\n",
    "b = -a"
   ]
  },
  {
   "cell_type": "code",
   "execution_count": 66,
   "id": "b636e1a5-9e50-4263-a122-14f2e216bb86",
   "metadata": {
    "tags": []
   },
   "outputs": [
    {
     "data": {
      "text/plain": [
       "((2, 3, 4), (2, 3, 4))"
      ]
     },
     "execution_count": 66,
     "metadata": {},
     "output_type": "execute_result"
    }
   ],
   "source": [
    "a.shape, b.shape"
   ]
  },
  {
   "cell_type": "code",
   "execution_count": 67,
   "id": "de2ac81d-a24f-4497-a3d6-5695575a0536",
   "metadata": {
    "tags": []
   },
   "outputs": [
    {
     "data": {
      "text/plain": [
       "array([[[  0,   1,   2,   3],\n",
       "        [  4,   5,   6,   7],\n",
       "        [  8,   9,  10,  11]],\n",
       "\n",
       "       [[ 12,  13,  14,  15],\n",
       "        [ 16,  17,  18,  19],\n",
       "        [ 20,  21,  22,  23]],\n",
       "\n",
       "       [[  0,  -1,  -2,  -3],\n",
       "        [ -4,  -5,  -6,  -7],\n",
       "        [ -8,  -9, -10, -11]],\n",
       "\n",
       "       [[-12, -13, -14, -15],\n",
       "        [-16, -17, -18, -19],\n",
       "        [-20, -21, -22, -23]]])"
      ]
     },
     "execution_count": 67,
     "metadata": {},
     "output_type": "execute_result"
    }
   ],
   "source": [
    "np.concatenate([a,b],axis=0)"
   ]
  },
  {
   "cell_type": "code",
   "execution_count": 68,
   "id": "52e49c26-6015-4cfb-a820-3b7ae1915046",
   "metadata": {
    "tags": []
   },
   "outputs": [
    {
     "data": {
      "text/plain": [
       "array([[[  0,   1,   2,   3],\n",
       "        [  4,   5,   6,   7],\n",
       "        [  8,   9,  10,  11],\n",
       "        [  0,  -1,  -2,  -3],\n",
       "        [ -4,  -5,  -6,  -7],\n",
       "        [ -8,  -9, -10, -11]],\n",
       "\n",
       "       [[ 12,  13,  14,  15],\n",
       "        [ 16,  17,  18,  19],\n",
       "        [ 20,  21,  22,  23],\n",
       "        [-12, -13, -14, -15],\n",
       "        [-16, -17, -18, -19],\n",
       "        [-20, -21, -22, -23]]])"
      ]
     },
     "execution_count": 68,
     "metadata": {},
     "output_type": "execute_result"
    }
   ],
   "source": [
    "np.concatenate([a,b],axis=1)"
   ]
  },
  {
   "cell_type": "code",
   "execution_count": 70,
   "id": "00e05f3c-1210-46c2-a2e1-91e0d75f7e8f",
   "metadata": {
    "tags": []
   },
   "outputs": [
    {
     "data": {
      "text/plain": [
       "array([[[  0,   1,   2,   3,   0,  -1,  -2,  -3],\n",
       "        [  4,   5,   6,   7,  -4,  -5,  -6,  -7],\n",
       "        [  8,   9,  10,  11,  -8,  -9, -10, -11]],\n",
       "\n",
       "       [[ 12,  13,  14,  15, -12, -13, -14, -15],\n",
       "        [ 16,  17,  18,  19, -16, -17, -18, -19],\n",
       "        [ 20,  21,  22,  23, -20, -21, -22, -23]]])"
      ]
     },
     "execution_count": 70,
     "metadata": {},
     "output_type": "execute_result"
    }
   ],
   "source": [
    "np.concatenate([a,b],axis=2)"
   ]
  },
  {
   "cell_type": "markdown",
   "id": "4bf49584-899d-4cd6-977c-5a9ff73f6586",
   "metadata": {},
   "source": [
    "- 이번에는 axis=2 까지 계산이 가능함 "
   ]
  },
  {
   "cell_type": "code",
   "execution_count": 72,
   "id": "78d1a51c-89fe-4cb2-a153-14d449449c5e",
   "metadata": {
    "tags": []
   },
   "outputs": [
    {
     "ename": "AxisError",
     "evalue": "axis 3 is out of bounds for array of dimension 3",
     "output_type": "error",
     "traceback": [
      "\u001b[0;31m---------------------------------------------------------------------------\u001b[0m",
      "\u001b[0;31mAxisError\u001b[0m                                 Traceback (most recent call last)",
      "Cell \u001b[0;32mIn[72], line 1\u001b[0m\n\u001b[0;32m----> 1\u001b[0m \u001b[43mnp\u001b[49m\u001b[38;5;241;43m.\u001b[39;49m\u001b[43mconcatenate\u001b[49m\u001b[43m(\u001b[49m\u001b[43m[\u001b[49m\u001b[43ma\u001b[49m\u001b[43m,\u001b[49m\u001b[43mb\u001b[49m\u001b[43m]\u001b[49m\u001b[43m,\u001b[49m\u001b[43maxis\u001b[49m\u001b[38;5;241;43m=\u001b[39;49m\u001b[38;5;241;43m3\u001b[39;49m\u001b[43m)\u001b[49m\n",
      "\u001b[0;31mAxisError\u001b[0m: axis 3 is out of bounds for array of dimension 3"
     ]
    }
   ],
   "source": [
    "np.concatenate([a,b],axis=3)"
   ]
  },
  {
   "cell_type": "markdown",
   "id": "3fb62508-390a-4dc0-9be8-4d0627a13fba",
   "metadata": {},
   "source": [
    "- axis=3까지는 불가능 "
   ]
  },
  {
   "cell_type": "markdown",
   "id": "4a4b633a-97cc-4701-b63d-ee1db2703a6a",
   "metadata": {},
   "source": [
    "`-` 뭔가 나름의 방식으로 합쳐지는것 같은데, 원리를 잘 모르겠음 "
   ]
  },
  {
   "cell_type": "markdown",
   "id": "fa144e6f-7f4d-4149-9ce8-9365cd912c17",
   "metadata": {},
   "source": [
    "(분석) `np.concatenate([a,b],axis=??)`에서 ?? 의 숫자를 바꿔가면서 결과의 차원만 관찰해보자. "
   ]
  },
  {
   "cell_type": "code",
   "execution_count": 92,
   "id": "1c43ff8f-be1d-40cf-880d-cc03e1745738",
   "metadata": {
    "tags": []
   },
   "outputs": [
    {
     "name": "stdout",
     "output_type": "stream",
     "text": [
      "입력: (2, 3, 4) concat (2, 3, 4)\n",
      "출력: (4, 3, 4) -- axis=0\n"
     ]
    }
   ],
   "source": [
    "print(f'입력: {a.shape} concat {b.shape}')\n",
    "print(f'출력: {np.concatenate([a,b],axis=0).shape} -- axis=0')"
   ]
  },
  {
   "cell_type": "code",
   "execution_count": 93,
   "id": "2fb91e22-6151-4bd2-808a-ae63c0aec953",
   "metadata": {
    "tags": []
   },
   "outputs": [
    {
     "name": "stdout",
     "output_type": "stream",
     "text": [
      "입력: (2, 3, 4) concat (2, 3, 4)\n",
      "출력: (2, 6, 4) -- axis=1\n"
     ]
    }
   ],
   "source": [
    "print(f'입력: {a.shape} concat {b.shape}')\n",
    "print(f'출력: {np.concatenate([a,b],axis=1).shape} -- axis=1')"
   ]
  },
  {
   "cell_type": "code",
   "execution_count": 94,
   "id": "6233f000-db0a-4e85-8408-b50ce62aafbf",
   "metadata": {
    "tags": []
   },
   "outputs": [
    {
     "name": "stdout",
     "output_type": "stream",
     "text": [
      "입력: (2, 3, 4) concat (2, 3, 4)\n",
      "출력: (2, 3, 8) -- axis=2\n"
     ]
    }
   ],
   "source": [
    "print(f'입력: {a.shape} concat {b.shape}')\n",
    "print(f'출력: {np.concatenate([a,b],axis=2).shape} -- axis=2')"
   ]
  },
  {
   "cell_type": "markdown",
   "id": "b72c3a89-4236-4d60-9530-3005025c5a2a",
   "metadata": {},
   "source": [
    "`-` 2D의 경우도 재해석 "
   ]
  },
  {
   "cell_type": "code",
   "execution_count": 96,
   "id": "f8ab1d79-c4cb-44ce-a555-a5ac18b5eddc",
   "metadata": {
    "tags": []
   },
   "outputs": [],
   "source": [
    "a = np.array([1,2,3,4,5,6]).reshape(3,2)\n",
    "b = -a                         "
   ]
  },
  {
   "cell_type": "markdown",
   "id": "4a24be48-a1fd-4c37-aa34-6fd736a27fc3",
   "metadata": {
    "tags": []
   },
   "source": [
    "좌우로 합치고 싶다면?? (3,2) concat (3,2) = (3,4) 가 되어야함 --> 그러면 차원의 두번째 숫자가 바뀌어야함. "
   ]
  },
  {
   "cell_type": "code",
   "execution_count": 99,
   "id": "f6f9be1b-cdde-4aef-a845-979755a5495a",
   "metadata": {
    "tags": []
   },
   "outputs": [
    {
     "data": {
      "text/plain": [
       "array([[ 1,  2, -1, -2],\n",
       "       [ 3,  4, -3, -4],\n",
       "       [ 5,  6, -5, -6]])"
      ]
     },
     "execution_count": 99,
     "metadata": {},
     "output_type": "execute_result"
    }
   ],
   "source": [
    "np.concatenate([a,b],axis=1)"
   ]
  },
  {
   "cell_type": "markdown",
   "id": "86a74ce0-c2f3-4cb9-9ef4-2bda13c129f4",
   "metadata": {},
   "source": [
    "위아래로 합치고 싶다면? (3,2) concat (3,2) = (6,2) 가 되어야함 --> 그러면 차원의 첫번째 숫자가 바뀌어야함. "
   ]
  },
  {
   "cell_type": "code",
   "execution_count": 100,
   "id": "563d3937-7955-44ba-9837-3a895ab17ba7",
   "metadata": {
    "tags": []
   },
   "outputs": [
    {
     "data": {
      "text/plain": [
       "array([[ 1,  2],\n",
       "       [ 3,  4],\n",
       "       [ 5,  6],\n",
       "       [-1, -2],\n",
       "       [-3, -4],\n",
       "       [-5, -6]])"
      ]
     },
     "execution_count": 100,
     "metadata": {},
     "output_type": "execute_result"
    }
   ],
   "source": [
    "np.concatenate([a,b],axis=0)"
   ]
  },
  {
   "cell_type": "markdown",
   "id": "9d9b5f2a-13a9-4b13-9033-074a94d160ce",
   "metadata": {},
   "source": [
    "`-` axis=-1로 넣는 경우도 있음.. "
   ]
  },
  {
   "cell_type": "code",
   "execution_count": 101,
   "id": "e10d7602-ae7b-4d63-945a-910ba18d9a4c",
   "metadata": {
    "tags": []
   },
   "outputs": [],
   "source": [
    "a = np.arange(2*3*4).reshape(2,3,4)\n",
    "b = -a"
   ]
  },
  {
   "cell_type": "code",
   "execution_count": 102,
   "id": "f6f67a3b-fcc4-43fb-ad4c-7b005a1f0a30",
   "metadata": {
    "tags": []
   },
   "outputs": [
    {
     "data": {
      "text/plain": [
       "((2, 3, 4), (2, 3, 4))"
      ]
     },
     "execution_count": 102,
     "metadata": {},
     "output_type": "execute_result"
    }
   ],
   "source": [
    "a.shape, b.shape"
   ]
  },
  {
   "cell_type": "markdown",
   "id": "2554e22e-efc5-44a7-a0cf-5e629efdc3b0",
   "metadata": {},
   "source": [
    "(2,3,4) concat (2,3,4) = (2,3,8) 을 만들고 싶다면?? --> 세번째(axis=2)축이 바뀌어야함. "
   ]
  },
  {
   "cell_type": "code",
   "execution_count": 108,
   "id": "7f749144-9654-46b5-9756-775fcc0f419e",
   "metadata": {
    "tags": []
   },
   "outputs": [
    {
     "data": {
      "text/plain": [
       "(2, 3, 8)"
      ]
     },
     "execution_count": 108,
     "metadata": {},
     "output_type": "execute_result"
    }
   ],
   "source": [
    "np.concatenate([a,b],axis=2).shape"
   ]
  },
  {
   "cell_type": "markdown",
   "id": "1ecf3c17-3b5b-475b-b245-e512d1081fff",
   "metadata": {},
   "source": [
    "(2,3,4) concat (2,3,4) = (2,3,8) 을 만들고 싶다면?? --> 마지막(axis=-1)축이 바껴야함."
   ]
  },
  {
   "cell_type": "code",
   "execution_count": 109,
   "id": "7ff07420-dc97-4f3f-b3d2-17e60aaa7fad",
   "metadata": {
    "tags": []
   },
   "outputs": [
    {
     "data": {
      "text/plain": [
       "(2, 3, 8)"
      ]
     },
     "execution_count": 109,
     "metadata": {},
     "output_type": "execute_result"
    }
   ],
   "source": [
    "np.concatenate([a,b],axis=-1).shape"
   ]
  },
  {
   "cell_type": "markdown",
   "id": "53170002-875b-4eed-b7db-526b77582c48",
   "metadata": {},
   "source": [
    "(2,3,4) concat (2,3,4) = (2,6,4) 을 만들고 싶다면?? --> 마지막에서 두번째 (axis=-2)축이 바껴야함."
   ]
  },
  {
   "cell_type": "code",
   "execution_count": 113,
   "id": "34c06461-9ebb-4c1f-9f4f-e85a24fb525a",
   "metadata": {
    "tags": []
   },
   "outputs": [
    {
     "data": {
      "text/plain": [
       "(2, 6, 4)"
      ]
     },
     "execution_count": 113,
     "metadata": {},
     "output_type": "execute_result"
    }
   ],
   "source": [
    "np.concatenate([a,b],axis=-2).shape"
   ]
  },
  {
   "cell_type": "markdown",
   "id": "b8af9261-b15e-4f79-9fe7-60f1d26e2387",
   "metadata": {},
   "source": [
    "(2,3,4) concat (2,3,4) = (4,3,4) 을 만들고 싶다면?? --> 마지막에서 세번째 (axis=-3)축이 바껴야함."
   ]
  },
  {
   "cell_type": "code",
   "execution_count": 114,
   "id": "daf74475-2aef-4e49-8c3f-f65ba40f0056",
   "metadata": {
    "tags": []
   },
   "outputs": [
    {
     "data": {
      "text/plain": [
       "(4, 3, 4)"
      ]
     },
     "execution_count": 114,
     "metadata": {},
     "output_type": "execute_result"
    }
   ],
   "source": [
    "np.concatenate([a,b],axis=-3).shape"
   ]
  },
  {
   "cell_type": "markdown",
   "id": "bbc2d673-3614-44b1-9443-33a3179d4133",
   "metadata": {},
   "source": [
    "`-` 2D의 경우에도 axis=-1, axis=-2를 적용가능 "
   ]
  },
  {
   "cell_type": "code",
   "execution_count": 121,
   "id": "84508bbd-3601-44bf-82ce-28ce041dcbe3",
   "metadata": {
    "tags": []
   },
   "outputs": [],
   "source": [
    "a = np.array([1,2,3,4]).reshape(2,2)\n",
    "b = np.array([10,20]).reshape(2,1)"
   ]
  },
  {
   "cell_type": "code",
   "execution_count": 122,
   "id": "43cc5e53-72dc-488a-994e-075f034aba57",
   "metadata": {
    "tags": []
   },
   "outputs": [
    {
     "data": {
      "text/plain": [
       "(array([[1, 2],\n",
       "        [3, 4]]),\n",
       " array([[10],\n",
       "        [20]]))"
      ]
     },
     "execution_count": 122,
     "metadata": {},
     "output_type": "execute_result"
    }
   ],
   "source": [
    "a,b"
   ]
  },
  {
   "cell_type": "code",
   "execution_count": 124,
   "id": "823ce03b-c3cc-414c-834d-80a8f01aa99a",
   "metadata": {
    "tags": []
   },
   "outputs": [
    {
     "data": {
      "text/plain": [
       "array([[ 1,  2, 10],\n",
       "       [ 3,  4, 20]])"
      ]
     },
     "execution_count": 124,
     "metadata": {},
     "output_type": "execute_result"
    }
   ],
   "source": [
    "np.concatenate([a,b],axis=-1)"
   ]
  },
  {
   "cell_type": "code",
   "execution_count": 128,
   "id": "c8c182af-2c95-4455-9985-8c01876392bf",
   "metadata": {
    "tags": []
   },
   "outputs": [
    {
     "data": {
      "text/plain": [
       "array([[10, 20],\n",
       "       [ 1,  2],\n",
       "       [ 3,  4]])"
      ]
     },
     "execution_count": 128,
     "metadata": {},
     "output_type": "execute_result"
    }
   ],
   "source": [
    "np.concatenate([b.T,a],axis=-2)"
   ]
  },
  {
   "cell_type": "markdown",
   "id": "37291d48-f13c-48c7-a43e-45ec3c01b5e2",
   "metadata": {},
   "source": [
    "## B. `np.stack`"
   ]
  },
  {
   "cell_type": "markdown",
   "id": "2b8eef6f-8179-4f7e-99c0-8b26e5976659",
   "metadata": {},
   "source": [
    "`-` 혹시 아래가 가능할까?\n",
    "\n",
    "- (3,) concat (3,) = (3,2)"
   ]
  },
  {
   "cell_type": "code",
   "execution_count": 135,
   "id": "7825c573-c9ef-4184-bab1-5bb40b26c19c",
   "metadata": {
    "tags": []
   },
   "outputs": [],
   "source": [
    "a = np.array([1,2,3])\n",
    "b = -a "
   ]
  },
  {
   "cell_type": "code",
   "execution_count": 136,
   "id": "46d493b4-82b3-4aff-9c2a-9658ff8f08c0",
   "metadata": {
    "tags": []
   },
   "outputs": [
    {
     "data": {
      "text/plain": [
       "(array([1, 2, 3]), array([-1, -2, -3]))"
      ]
     },
     "execution_count": 136,
     "metadata": {},
     "output_type": "execute_result"
    }
   ],
   "source": [
    "a,b"
   ]
  },
  {
   "cell_type": "code",
   "execution_count": 137,
   "id": "b4f287df-e108-403a-a608-400bc13c97a2",
   "metadata": {
    "tags": []
   },
   "outputs": [
    {
     "ename": "AxisError",
     "evalue": "axis 1 is out of bounds for array of dimension 1",
     "output_type": "error",
     "traceback": [
      "\u001b[0;31m---------------------------------------------------------------------------\u001b[0m",
      "\u001b[0;31mAxisError\u001b[0m                                 Traceback (most recent call last)",
      "Cell \u001b[0;32mIn[137], line 1\u001b[0m\n\u001b[0;32m----> 1\u001b[0m \u001b[43mnp\u001b[49m\u001b[38;5;241;43m.\u001b[39;49m\u001b[43mconcatenate\u001b[49m\u001b[43m(\u001b[49m\u001b[43m[\u001b[49m\u001b[43ma\u001b[49m\u001b[43m,\u001b[49m\u001b[43mb\u001b[49m\u001b[43m]\u001b[49m\u001b[43m,\u001b[49m\u001b[43maxis\u001b[49m\u001b[38;5;241;43m=\u001b[39;49m\u001b[38;5;241;43m1\u001b[39;49m\u001b[43m)\u001b[49m\n",
      "\u001b[0;31mAxisError\u001b[0m: axis 1 is out of bounds for array of dimension 1"
     ]
    }
   ],
   "source": [
    "np.concatenate([a,b],axis=1)"
   ]
  },
  {
   "cell_type": "markdown",
   "id": "cc44f893-972e-45a5-b7a4-ff9833ed9be7",
   "metadata": {},
   "source": [
    "- 불가능 "
   ]
  },
  {
   "cell_type": "markdown",
   "id": "a6ad1b4a-6dc8-4156-830d-2a131a74b7ba",
   "metadata": {},
   "source": [
    "`-` 아래와 같은 방식은 가능 "
   ]
  },
  {
   "cell_type": "code",
   "execution_count": 144,
   "id": "133f71f1-df0f-4519-8af7-d205e00c0d69",
   "metadata": {
    "tags": []
   },
   "outputs": [
    {
     "data": {
      "text/plain": [
       "array([[ 1, -1],\n",
       "       [ 2, -2],\n",
       "       [ 3, -3]])"
      ]
     },
     "execution_count": 144,
     "metadata": {},
     "output_type": "execute_result"
    }
   ],
   "source": [
    "np.concatenate([a.reshape(3,1), b.reshape(3,1)],axis=1)"
   ]
  },
  {
   "cell_type": "markdown",
   "id": "6cf4220e-df83-4701-8340-29f520319609",
   "metadata": {},
   "source": [
    "`-` 위의 과정을 줄여서 아래와 같이 할 수 있음. "
   ]
  },
  {
   "cell_type": "code",
   "execution_count": 146,
   "id": "e73b0f22-36a0-4958-8215-c39373121fc4",
   "metadata": {
    "tags": []
   },
   "outputs": [
    {
     "data": {
      "text/plain": [
       "array([[ 1, -1],\n",
       "       [ 2, -2],\n",
       "       [ 3, -3]])"
      ]
     },
     "execution_count": 146,
     "metadata": {},
     "output_type": "execute_result"
    }
   ],
   "source": [
    "np.stack([a,b],axis=1)"
   ]
  },
  {
   "cell_type": "markdown",
   "id": "20aebfce-dcee-4a75-a302-3884fa0a75be",
   "metadata": {},
   "source": [
    "`-` 아래와 같은 결합도 가능 "
   ]
  },
  {
   "cell_type": "code",
   "execution_count": 147,
   "id": "d16512eb-610f-4adc-b4ee-af543e482477",
   "metadata": {
    "tags": []
   },
   "outputs": [
    {
     "data": {
      "text/plain": [
       "array([[ 1,  2,  3],\n",
       "       [-1, -2, -3]])"
      ]
     },
     "execution_count": 147,
     "metadata": {},
     "output_type": "execute_result"
    }
   ],
   "source": [
    "np.stack([a,b],axis=0)"
   ]
  },
  {
   "cell_type": "markdown",
   "id": "b5675463-59fc-4d4e-b3dc-4a5237d517b2",
   "metadata": {},
   "source": [
    "`-` stack에서 axis의 역할에 대한 분석"
   ]
  },
  {
   "cell_type": "code",
   "execution_count": 173,
   "id": "59dc30ff-b14c-430b-9f8a-7d4df9ecd66d",
   "metadata": {
    "tags": []
   },
   "outputs": [],
   "source": [
    "a = np.arange(5*3*4).reshape(5,3,4)\n",
    "b = -a"
   ]
  },
  {
   "cell_type": "code",
   "execution_count": 174,
   "id": "c2255634-f456-4e44-9092-def9dfc93595",
   "metadata": {
    "tags": []
   },
   "outputs": [
    {
     "name": "stdout",
     "output_type": "stream",
     "text": [
      "입력: (5, 3, 4) stack (5, 3, 4)\n",
      "출력: (2, 5, 3, 4) -- axis=0\n",
      "출력: (5, 2, 3, 4) -- axis=1\n",
      "출력: (5, 3, 2, 4) -- axis=2\n",
      "출력: (5, 3, 4, 2) -- axis=3\n"
     ]
    }
   ],
   "source": [
    "print(f'입력: {a.shape} stack {b.shape}')\n",
    "print(f'출력: {np.stack([a,b],axis=0).shape} -- axis=0')\n",
    "print(f'출력: {np.stack([a,b],axis=1).shape} -- axis=1')\n",
    "print(f'출력: {np.stack([a,b],axis=2).shape} -- axis=2')\n",
    "print(f'출력: {np.stack([a,b],axis=3).shape} -- axis=3')\n",
    "#print(f'출력: {np.stack([a,b],axis=4).shape} -- axis=4')"
   ]
  },
  {
   "cell_type": "markdown",
   "id": "65978ff0-d3b3-4576-997a-b56e0a1ec8a4",
   "metadata": {},
   "source": [
    "`-` 다시 `(3,) stack (3,)` 상황을 이해하여보면 "
   ]
  },
  {
   "cell_type": "code",
   "execution_count": 175,
   "id": "3f5990c0-f744-4015-9fd5-6490f111a9ee",
   "metadata": {
    "tags": []
   },
   "outputs": [],
   "source": [
    "a = np.array([1,2,3])\n",
    "b = -a"
   ]
  },
  {
   "cell_type": "markdown",
   "id": "e69127d2-80e1-42e8-98e7-f4431d35b102",
   "metadata": {
    "tags": []
   },
   "source": [
    "a,b 모두 1차원이지만 이를 위아래로 붙여서 2차원으로 만들고 싶어. 즉 `(3,) stack (3,) = (2,3)` 을 만들고 싶음. -> 첫번째 위치에(axis=0)에 축을 추가해야겠음. "
   ]
  },
  {
   "cell_type": "code",
   "execution_count": 179,
   "id": "2723ff46-eba7-44c1-b46a-ad40c8f77dc2",
   "metadata": {
    "tags": []
   },
   "outputs": [
    {
     "data": {
      "text/plain": [
       "array([[ 1,  2,  3],\n",
       "       [-1, -2, -3]])"
      ]
     },
     "execution_count": 179,
     "metadata": {},
     "output_type": "execute_result"
    }
   ],
   "source": [
    "np.stack([a,b],axis=0)"
   ]
  },
  {
   "cell_type": "markdown",
   "id": "6382e534-1959-48ff-be03-4d8043887ca8",
   "metadata": {
    "tags": []
   },
   "source": [
    "a,b 모두 1차원이지만 이를 좌우로 붙여서 2차원으로 만들고 싶어. 즉 `(3,) stack (3,) = (3,2)` 을 만들고 싶음. -> 두번째 위치에(axis=1)에 축을 추가해야겠음. "
   ]
  },
  {
   "cell_type": "code",
   "execution_count": 180,
   "id": "f3516ce6-a26c-4ec5-a932-19d573f98e11",
   "metadata": {
    "tags": []
   },
   "outputs": [
    {
     "data": {
      "text/plain": [
       "array([[ 1, -1],\n",
       "       [ 2, -2],\n",
       "       [ 3, -3]])"
      ]
     },
     "execution_count": 180,
     "metadata": {},
     "output_type": "execute_result"
    }
   ],
   "source": [
    "np.stack([a,b],axis=1)"
   ]
  },
  {
   "cell_type": "markdown",
   "id": "ad5048f4-3d1e-4b16-91c8-1e970c0e1218",
   "metadata": {},
   "source": [
    "note: `np.concatenate`은 축의 총 갯수를 유지하면서 결합, `np.stack`은 축의 갯수를 하나 증가시키면서 결합 "
   ]
  },
  {
   "cell_type": "markdown",
   "id": "ce1c3e4d-ea2f-453b-9e44-1cc1f530b530",
   "metadata": {},
   "source": [
    "## C. `sum`"
   ]
  },
  {
   "cell_type": "markdown",
   "id": "1eb387e5-41d2-4800-ac99-b989a6d80b74",
   "metadata": {},
   "source": [
    "`-` 1차원"
   ]
  },
  {
   "cell_type": "code",
   "execution_count": 182,
   "id": "907d503f-13ac-4575-a470-50a9a3be1c99",
   "metadata": {
    "tags": []
   },
   "outputs": [
    {
     "data": {
      "text/plain": [
       "array([1, 2, 3])"
      ]
     },
     "execution_count": 182,
     "metadata": {},
     "output_type": "execute_result"
    }
   ],
   "source": [
    "a = np.array([1,2,3])\n",
    "a"
   ]
  },
  {
   "cell_type": "code",
   "execution_count": 183,
   "id": "473ea85b-36b2-430d-83c0-fe96cd6fd38b",
   "metadata": {
    "tags": []
   },
   "outputs": [
    {
     "data": {
      "text/plain": [
       "6"
      ]
     },
     "execution_count": 183,
     "metadata": {},
     "output_type": "execute_result"
    }
   ],
   "source": [
    "np.sum(a)"
   ]
  },
  {
   "cell_type": "code",
   "execution_count": 186,
   "id": "7ee3a955-b9fa-4ae3-83c2-ba11d9a0f765",
   "metadata": {
    "tags": []
   },
   "outputs": [
    {
     "data": {
      "text/plain": [
       "6"
      ]
     },
     "execution_count": 186,
     "metadata": {},
     "output_type": "execute_result"
    }
   ],
   "source": [
    "a.sum() "
   ]
  },
  {
   "cell_type": "code",
   "execution_count": 187,
   "id": "eb63faf4-1b58-4bc2-a954-5a15c20541f6",
   "metadata": {
    "tags": []
   },
   "outputs": [
    {
     "data": {
      "text/plain": [
       "6"
      ]
     },
     "execution_count": 187,
     "metadata": {},
     "output_type": "execute_result"
    }
   ],
   "source": [
    "a.sum(axis=0)"
   ]
  },
  {
   "cell_type": "markdown",
   "id": "cfd32e87-4364-4057-9544-81854882a0ee",
   "metadata": {},
   "source": [
    "`-` 2차원 "
   ]
  },
  {
   "cell_type": "code",
   "execution_count": 188,
   "id": "4985effa-a133-43dc-954a-5856bb0dd620",
   "metadata": {
    "tags": []
   },
   "outputs": [
    {
     "data": {
      "text/plain": [
       "array([[1, 2],\n",
       "       [3, 4],\n",
       "       [5, 6]])"
      ]
     },
     "execution_count": 188,
     "metadata": {},
     "output_type": "execute_result"
    }
   ],
   "source": [
    "a = np.array([1,2,3,4,5,6]).reshape(3,2)\n",
    "a"
   ]
  },
  {
   "cell_type": "code",
   "execution_count": 192,
   "id": "3b4b4072-0619-45e6-851f-826df27ecfb2",
   "metadata": {
    "tags": []
   },
   "outputs": [
    {
     "data": {
      "text/plain": [
       "21"
      ]
     },
     "execution_count": 192,
     "metadata": {},
     "output_type": "execute_result"
    }
   ],
   "source": [
    "a.sum() # 전체합: 1+2+3+4+5+6"
   ]
  },
  {
   "cell_type": "code",
   "execution_count": 197,
   "id": "fcc3966e-a19f-4fd1-a26a-ecdbb96dff9e",
   "metadata": {
    "tags": []
   },
   "outputs": [
    {
     "data": {
      "text/plain": [
       "array([ 9, 12])"
      ]
     },
     "execution_count": 197,
     "metadata": {},
     "output_type": "execute_result"
    }
   ],
   "source": [
    "a.sum(axis=0) # 1열의합, 2열의합"
   ]
  },
  {
   "cell_type": "code",
   "execution_count": 198,
   "id": "ac51431c-641f-481d-b950-2f7a7b80e04f",
   "metadata": {
    "tags": []
   },
   "outputs": [
    {
     "data": {
      "text/plain": [
       "array([ 3,  7, 11])"
      ]
     },
     "execution_count": 198,
     "metadata": {},
     "output_type": "execute_result"
    }
   ],
   "source": [
    "a.sum(axis=1) # 1행의합, 2행의합, 3행의합"
   ]
  },
  {
   "cell_type": "markdown",
   "id": "db4383bd-14ad-4859-a74a-1a45a81d6feb",
   "metadata": {},
   "source": [
    "a를 2차원 array모양으로 만들고 axis을 잘 써주면 row-wise로 합을 구하거나 column-wise로 합을 구하기 좋음."
   ]
  },
  {
   "cell_type": "markdown",
   "id": "c877cc66-8b04-4877-bcf5-29c35085dbb0",
   "metadata": {},
   "source": [
    "`-` 넘파이 특수기능 `.sum()`에서 axis의 의미를 알아보자. "
   ]
  },
  {
   "cell_type": "code",
   "execution_count": 202,
   "id": "0ee8c503-c26c-4dc9-b8b7-79db4fc97c5b",
   "metadata": {
    "tags": []
   },
   "outputs": [
    {
     "data": {
      "text/plain": [
       "((3, 2), (2,), (3,))"
      ]
     },
     "execution_count": 202,
     "metadata": {},
     "output_type": "execute_result"
    }
   ],
   "source": [
    "a.shape, a.sum(axis=0).shape, a.sum(axis=1).shape"
   ]
  },
  {
   "cell_type": "markdown",
   "id": "dfcccc60-0bcd-4475-abd4-48c769d0c88a",
   "metadata": {},
   "source": [
    "`-` 연습"
   ]
  },
  {
   "cell_type": "code",
   "execution_count": 206,
   "id": "3280b44f-78a2-4571-9f9b-e7db6ffbe67b",
   "metadata": {
    "tags": []
   },
   "outputs": [
    {
     "data": {
      "text/plain": [
       "array([[0, 1],\n",
       "       [2, 3],\n",
       "       [4, 5],\n",
       "       [6, 7],\n",
       "       [8, 9]])"
      ]
     },
     "execution_count": 206,
     "metadata": {},
     "output_type": "execute_result"
    }
   ],
   "source": [
    "a = np.arange(10).reshape(5,2)\n",
    "a"
   ]
  },
  {
   "cell_type": "markdown",
   "id": "4f784eed-3d76-467b-937c-24608715dbb0",
   "metadata": {},
   "source": [
    "행별로 합을 구하고 싶음 -> (5,2)의 차원이 (5,) 와 같이 되어야함. -> 두번째축이 사라져야함"
   ]
  },
  {
   "cell_type": "code",
   "execution_count": 207,
   "id": "fc6e80d7-9931-4e82-930f-e344d6e4ffc7",
   "metadata": {
    "tags": []
   },
   "outputs": [
    {
     "data": {
      "text/plain": [
       "array([ 1,  5,  9, 13, 17])"
      ]
     },
     "execution_count": 207,
     "metadata": {},
     "output_type": "execute_result"
    }
   ],
   "source": [
    "a.sum(axis=1)"
   ]
  },
  {
   "cell_type": "markdown",
   "id": "5e54f8c0-43f5-4c29-bab3-a7e53ddc9fec",
   "metadata": {},
   "source": [
    "열별로 합을 구하고 싶음 -> (5,2)의 차원이 (2,) 와 같이 되어야함. -> 첫번째축이 사라져야함"
   ]
  },
  {
   "cell_type": "code",
   "execution_count": 208,
   "id": "fa0c9ce7-207c-4adf-8652-c0e13e2ebc3f",
   "metadata": {
    "tags": []
   },
   "outputs": [
    {
     "data": {
      "text/plain": [
       "array([20, 25])"
      ]
     },
     "execution_count": 208,
     "metadata": {},
     "output_type": "execute_result"
    }
   ],
   "source": [
    "a.sum(axis=0)"
   ]
  },
  {
   "cell_type": "markdown",
   "id": "0bc45b96-6270-466e-b596-a6be3d2b50ad",
   "metadata": {},
   "source": [
    "a의 모든 원소의 합을 구하고 싶다면? -> (5,2)차원이 ()와 같이 되어야함 -> 첫번째축과 두번째축이 다 사라져야함 "
   ]
  },
  {
   "cell_type": "code",
   "execution_count": 210,
   "id": "14d8fd26-cf92-4a87-869a-d5a0fcc32a06",
   "metadata": {
    "tags": []
   },
   "outputs": [
    {
     "data": {
      "text/plain": [
       "45"
      ]
     },
     "execution_count": 210,
     "metadata": {},
     "output_type": "execute_result"
    }
   ],
   "source": [
    "a.sum(axis=(0,1))"
   ]
  },
  {
   "cell_type": "code",
   "execution_count": 212,
   "id": "3d28fb01-1a07-4aec-8e1f-08a177002986",
   "metadata": {
    "tags": []
   },
   "outputs": [
    {
     "data": {
      "text/plain": [
       "45"
      ]
     },
     "execution_count": 212,
     "metadata": {},
     "output_type": "execute_result"
    }
   ],
   "source": [
    "a.sum() # 아 이것은 사실 a.sum(axis=(0,1)) 의 생략된 표현이었군!"
   ]
  },
  {
   "cell_type": "markdown",
   "id": "a56bbcf0-8e8d-4d61-9e88-b501b6e4f786",
   "metadata": {},
   "source": [
    "## D. `mean`, `std`, `max`, `min`, `prod`"
   ]
  },
  {
   "cell_type": "markdown",
   "id": "0a0a9b50-4573-4e9e-906d-41565d50c452",
   "metadata": {},
   "source": [
    "`-` 모두 sum과 비슷한 논리로 mean, std, max, min, prod 을 구할 수 있음 "
   ]
  },
  {
   "cell_type": "code",
   "execution_count": 223,
   "id": "67dedd9d-5bc7-40b2-bf2b-b52ecd140bbe",
   "metadata": {
    "tags": []
   },
   "outputs": [
    {
     "data": {
      "text/plain": [
       "array([[1, 2],\n",
       "       [3, 4],\n",
       "       [5, 6],\n",
       "       [7, 8]])"
      ]
     },
     "execution_count": 223,
     "metadata": {},
     "output_type": "execute_result"
    }
   ],
   "source": [
    "a = np.array([1,2,3,4,5,6,7,8]).reshape(4,2)\n",
    "a"
   ]
  },
  {
   "cell_type": "code",
   "execution_count": 239,
   "id": "10856cc3-c1a3-4a74-9ca2-159e41fa334f",
   "metadata": {
    "tags": []
   },
   "outputs": [
    {
     "data": {
      "text/plain": [
       "(array([4., 5.]),\n",
       " array([2.23606798, 2.23606798]),\n",
       " array([7, 8]),\n",
       " array([1, 2]),\n",
       " array([105, 384]))"
      ]
     },
     "execution_count": 239,
     "metadata": {},
     "output_type": "execute_result"
    }
   ],
   "source": [
    "a.mean(axis=0), a.std(axis=0), a.max(axis=0), a.min(axis=0), a.prod(axis=0)"
   ]
  },
  {
   "cell_type": "code",
   "execution_count": 243,
   "id": "1482e086-ec3c-40f4-b5df-aca6270b2fcd",
   "metadata": {
    "tags": []
   },
   "outputs": [
    {
     "data": {
      "text/plain": [
       "(array([1.5, 3.5, 5.5, 7.5]),\n",
       " array([0.5, 0.5, 0.5, 0.5]),\n",
       " array([2, 4, 6, 8]),\n",
       " array([1, 3, 5, 7]),\n",
       " array([ 2, 12, 30, 56]))"
      ]
     },
     "execution_count": 243,
     "metadata": {},
     "output_type": "execute_result"
    }
   ],
   "source": [
    "a.mean(axis=1), a.std(axis=1), a.max(axis=1), a.min(axis=1), a.prod(axis=1)"
   ]
  },
  {
   "cell_type": "markdown",
   "id": "bf6dfb1a-3b29-4775-af5c-62484e74baf9",
   "metadata": {},
   "source": [
    "## E. `argmax`, `argmin`"
   ]
  },
  {
   "cell_type": "markdown",
   "id": "a6229a5c-44f4-432d-8231-01bbaf49f409",
   "metadata": {},
   "source": [
    "`-` 1차원 "
   ]
  },
  {
   "cell_type": "code",
   "execution_count": 262,
   "id": "ee41884d-b519-4eff-98bb-d9f0905b1299",
   "metadata": {
    "tags": []
   },
   "outputs": [
    {
     "data": {
      "text/plain": [
       "array([22, -2,  3, 10,  4])"
      ]
     },
     "execution_count": 262,
     "metadata": {},
     "output_type": "execute_result"
    }
   ],
   "source": [
    "a = np.array([22,-2,3,10,4])\n",
    "a"
   ]
  },
  {
   "cell_type": "code",
   "execution_count": 265,
   "id": "ba43282c-bb19-4a42-a23c-686994c73461",
   "metadata": {
    "tags": []
   },
   "outputs": [
    {
     "data": {
      "text/plain": [
       "(0, 1)"
      ]
     },
     "execution_count": 265,
     "metadata": {},
     "output_type": "execute_result"
    }
   ],
   "source": [
    "a.argmax(),a.argmin()"
   ]
  },
  {
   "cell_type": "markdown",
   "id": "69307ddf-675e-485b-8ee6-834c46bbe083",
   "metadata": {},
   "source": [
    "`-` 2차원 "
   ]
  },
  {
   "cell_type": "code",
   "execution_count": 266,
   "id": "6366f890-e628-468b-9c60-0a8f68bf864e",
   "metadata": {
    "tags": []
   },
   "outputs": [
    {
     "data": {
      "text/plain": [
       "array([[0.81768226, 0.04953212],\n",
       "       [0.83868626, 0.61977707],\n",
       "       [0.12254052, 0.11712779],\n",
       "       [0.8795562 , 0.97941543],\n",
       "       [0.90986893, 0.96667407]])"
      ]
     },
     "execution_count": 266,
     "metadata": {},
     "output_type": "execute_result"
    }
   ],
   "source": [
    "np.random.seed(43052)\n",
    "a = np.random.rand(10).reshape(5,2)\n",
    "a"
   ]
  },
  {
   "cell_type": "code",
   "execution_count": 267,
   "id": "8734766d-ad0d-4d5b-885f-b7ac69c80d0c",
   "metadata": {
    "tags": []
   },
   "outputs": [
    {
     "data": {
      "text/plain": [
       "(array([4, 3]), array([2, 0]))"
      ]
     },
     "execution_count": 267,
     "metadata": {},
     "output_type": "execute_result"
    }
   ],
   "source": [
    "a.argmax(axis=0),a.argmin(axis=0)"
   ]
  },
  {
   "cell_type": "code",
   "execution_count": 268,
   "id": "3be89b9c-1865-43ad-b62d-58b1f777efbf",
   "metadata": {
    "tags": []
   },
   "outputs": [
    {
     "data": {
      "text/plain": [
       "(array([0, 0, 0, 1, 1]), array([1, 1, 1, 0, 0]))"
      ]
     },
     "execution_count": 268,
     "metadata": {},
     "output_type": "execute_result"
    }
   ],
   "source": [
    "a.argmax(axis=1),a.argmin(axis=1)"
   ]
  },
  {
   "cell_type": "markdown",
   "id": "b7995cfb-b2ce-4a6f-87e7-396fbd5775f1",
   "metadata": {},
   "source": [
    "## F. `cumsum`, `cumprod`"
   ]
  },
  {
   "cell_type": "markdown",
   "id": "9a05add5-2b90-449a-abab-a026fe9f1610",
   "metadata": {},
   "source": [
    "`-` 1차원 "
   ]
  },
  {
   "cell_type": "code",
   "execution_count": 270,
   "id": "54ad9906-e711-45bc-a02a-7a4b66a75e7e",
   "metadata": {
    "tags": []
   },
   "outputs": [
    {
     "data": {
      "text/plain": [
       "array([1, 2, 3, 4])"
      ]
     },
     "execution_count": 270,
     "metadata": {},
     "output_type": "execute_result"
    }
   ],
   "source": [
    "a = np.array([1,2,3,4])\n",
    "a"
   ]
  },
  {
   "cell_type": "code",
   "execution_count": 273,
   "id": "19870e14-16a3-46ae-80aa-9f14ad14e3a5",
   "metadata": {
    "tags": []
   },
   "outputs": [
    {
     "data": {
      "text/plain": [
       "(array([ 1,  3,  6, 10]), array([ 1,  3,  6, 10]))"
      ]
     },
     "execution_count": 273,
     "metadata": {},
     "output_type": "execute_result"
    }
   ],
   "source": [
    "np.cumsum(a), a.cumsum()"
   ]
  },
  {
   "cell_type": "code",
   "execution_count": 274,
   "id": "f538a4c1-a0ff-40ea-94d3-cc240ab04eda",
   "metadata": {
    "tags": []
   },
   "outputs": [
    {
     "data": {
      "text/plain": [
       "(array([ 1,  2,  6, 24]), array([ 1,  2,  6, 24]))"
      ]
     },
     "execution_count": 274,
     "metadata": {},
     "output_type": "execute_result"
    }
   ],
   "source": [
    "np.cumprod(a), a.cumprod()"
   ]
  },
  {
   "cell_type": "markdown",
   "id": "716b4c2e-9d65-4445-a729-cba4b546f346",
   "metadata": {},
   "source": [
    "`-` 2차원 "
   ]
  },
  {
   "cell_type": "code",
   "execution_count": 276,
   "id": "7f97edda-99e9-4cc9-b0d0-629f6c37b92c",
   "metadata": {
    "tags": []
   },
   "outputs": [
    {
     "data": {
      "text/plain": [
       "array([[ 1,  2,  3],\n",
       "       [ 4,  5,  6],\n",
       "       [ 7,  8,  9],\n",
       "       [10, 11, 12]])"
      ]
     },
     "execution_count": 276,
     "metadata": {},
     "output_type": "execute_result"
    }
   ],
   "source": [
    "a = np.array([1,2,3,4,5,6,7,8,9,10,11,12]).reshape(4,3)\n",
    "a"
   ]
  },
  {
   "cell_type": "code",
   "execution_count": 280,
   "id": "44df9f4a-c39f-4727-9216-82c9c0d5b490",
   "metadata": {
    "tags": []
   },
   "outputs": [
    {
     "data": {
      "text/plain": [
       "(array([[ 1,  2,  3],\n",
       "        [ 5,  7,  9],\n",
       "        [12, 15, 18],\n",
       "        [22, 26, 30]]),\n",
       " array([[ 1,  3,  6],\n",
       "        [ 4,  9, 15],\n",
       "        [ 7, 15, 24],\n",
       "        [10, 21, 33]]),\n",
       " array([[   1,    2,    3],\n",
       "        [   4,   10,   18],\n",
       "        [  28,   80,  162],\n",
       "        [ 280,  880, 1944]]),\n",
       " array([[   1,    2,    6],\n",
       "        [   4,   20,  120],\n",
       "        [   7,   56,  504],\n",
       "        [  10,  110, 1320]]))"
      ]
     },
     "execution_count": 280,
     "metadata": {},
     "output_type": "execute_result"
    }
   ],
   "source": [
    "a.cumsum(axis=0),a.cumsum(axis=1),a.cumprod(axis=0),a.cumprod(axis=1)"
   ]
  },
  {
   "cell_type": "markdown",
   "id": "0b121303-d272-4b0b-9315-53813b3d7e27",
   "metadata": {},
   "source": [
    "## G. `diff`"
   ]
  },
  {
   "cell_type": "markdown",
   "id": "50011be8-eddd-480b-9916-6b6cabc1ebac",
   "metadata": {},
   "source": [
    "`-` 1차원 차분"
   ]
  },
  {
   "cell_type": "code",
   "execution_count": 281,
   "id": "31ae0a2b-9b26-47e2-b405-f7d671a7e301",
   "metadata": {
    "tags": []
   },
   "outputs": [
    {
     "data": {
      "text/plain": [
       "array([ 1,  2,  4,  7, 15])"
      ]
     },
     "execution_count": 281,
     "metadata": {},
     "output_type": "execute_result"
    }
   ],
   "source": [
    "a = np.array([1,2,4,7,15])\n",
    "a"
   ]
  },
  {
   "cell_type": "code",
   "execution_count": 282,
   "id": "498509b9-71dd-40dd-b92b-d641e5c2e1df",
   "metadata": {
    "tags": []
   },
   "outputs": [
    {
     "data": {
      "text/plain": [
       "array([1, 2, 3, 8])"
      ]
     },
     "execution_count": 282,
     "metadata": {},
     "output_type": "execute_result"
    }
   ],
   "source": [
    "np.diff(a)"
   ]
  },
  {
   "cell_type": "code",
   "execution_count": 284,
   "id": "e60e129d-c13c-4b12-bdaa-b01dc422f294",
   "metadata": {
    "tags": []
   },
   "outputs": [
    {
     "data": {
      "text/plain": [
       "array([-99,   1,   2,   3,   8])"
      ]
     },
     "execution_count": 284,
     "metadata": {},
     "output_type": "execute_result"
    }
   ],
   "source": [
    "np.diff(a,prepend=100)"
   ]
  },
  {
   "cell_type": "code",
   "execution_count": 285,
   "id": "849946c2-7fbb-4d0a-977d-e7f217ac1619",
   "metadata": {
    "tags": []
   },
   "outputs": [
    {
     "data": {
      "text/plain": [
       "array([0, 1, 2, 3, 8])"
      ]
     },
     "execution_count": 285,
     "metadata": {},
     "output_type": "execute_result"
    }
   ],
   "source": [
    "np.diff(a,prepend=a[0])"
   ]
  },
  {
   "cell_type": "code",
   "execution_count": 286,
   "id": "1b15a221-9154-4190-b010-9859a673e67f",
   "metadata": {
    "tags": []
   },
   "outputs": [
    {
     "data": {
      "text/plain": [
       "array([ 1,  2,  3,  8, 85])"
      ]
     },
     "execution_count": 286,
     "metadata": {},
     "output_type": "execute_result"
    }
   ],
   "source": [
    "np.diff(a,append=100)"
   ]
  },
  {
   "cell_type": "code",
   "execution_count": 288,
   "id": "fafdf7a2-5fbd-4983-978a-7d93e09c1685",
   "metadata": {
    "tags": []
   },
   "outputs": [
    {
     "data": {
      "text/plain": [
       "array([1, 2, 3, 8, 0])"
      ]
     },
     "execution_count": 288,
     "metadata": {},
     "output_type": "execute_result"
    }
   ],
   "source": [
    "np.diff(a,append=a[-1])"
   ]
  },
  {
   "cell_type": "markdown",
   "id": "c1c0c60b-36c9-4941-b64d-216a8a9b7d5b",
   "metadata": {},
   "source": [
    "`-` 2차원 array의 미분 "
   ]
  },
  {
   "cell_type": "code",
   "execution_count": 289,
   "id": "26ad9408-a655-4890-89ff-dc3e4b8f9df0",
   "metadata": {
    "tags": []
   },
   "outputs": [
    {
     "data": {
      "text/plain": [
       "array([[ 0,  1,  2,  3,  4,  5],\n",
       "       [ 6,  7,  8,  9, 10, 11],\n",
       "       [12, 13, 14, 15, 16, 17],\n",
       "       [18, 19, 20, 21, 22, 23]])"
      ]
     },
     "execution_count": 289,
     "metadata": {},
     "output_type": "execute_result"
    }
   ],
   "source": [
    "a = np.arange(24).reshape(4,6)\n",
    "a"
   ]
  },
  {
   "cell_type": "code",
   "execution_count": 291,
   "id": "6cc50a8a-9ce5-4453-a5fd-d4207af1582a",
   "metadata": {
    "tags": []
   },
   "outputs": [
    {
     "data": {
      "text/plain": [
       "array([[6, 6, 6, 6, 6, 6],\n",
       "       [6, 6, 6, 6, 6, 6],\n",
       "       [6, 6, 6, 6, 6, 6]])"
      ]
     },
     "execution_count": 291,
     "metadata": {},
     "output_type": "execute_result"
    }
   ],
   "source": [
    "np.diff(a,axis=0) # 열별로 연산이 적용"
   ]
  },
  {
   "cell_type": "code",
   "execution_count": 292,
   "id": "e6e98cda-a200-4663-8121-a7801a4d1d1a",
   "metadata": {
    "tags": []
   },
   "outputs": [
    {
     "data": {
      "text/plain": [
       "array([[1, 1, 1, 1, 1],\n",
       "       [1, 1, 1, 1, 1],\n",
       "       [1, 1, 1, 1, 1],\n",
       "       [1, 1, 1, 1, 1]])"
      ]
     },
     "execution_count": 292,
     "metadata": {},
     "output_type": "execute_result"
    }
   ],
   "source": [
    "np.diff(a,axis=1) # 행별로 연산이 적용"
   ]
  }
 ],
 "metadata": {
  "kernelspec": {
   "display_name": "Python 3 (ipykernel)",
   "language": "python",
   "name": "python3"
  },
  "language_info": {
   "codemirror_mode": {
    "name": "ipython",
    "version": 3
   },
   "file_extension": ".py",
   "mimetype": "text/x-python",
   "name": "python",
   "nbconvert_exporter": "python",
   "pygments_lexer": "ipython3",
   "version": "3.10.13"
  }
 },
 "nbformat": 4,
 "nbformat_minor": 5
}
