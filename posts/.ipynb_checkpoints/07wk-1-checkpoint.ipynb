{
 "cells": [
  {
   "cell_type": "raw",
   "id": "8ce4e1a8-1269-4c07-adcf-152804d4ee64",
   "metadata": {
    "id": "87b5cded-346b-4915-acf5-b5ec93a5207d"
   },
   "source": [
    "---\n",
    "title: \"07wk-1: 퀴즈4\"\n",
    "author: \"최규빈\"\n",
    "date: \"04/17/2024\"\n",
    "draft: false\n",
    "---"
   ]
  },
  {
   "cell_type": "markdown",
   "id": "902f0cab-b46b-4560-ac80-3da931f110d5",
   "metadata": {
    "id": "e67ab8e0"
   },
   "source": [
    "<a href=\"https://colab.research.google.com/github/guebin/PP2024/blob/main/posts/07wk-1.ipynb\"><img src=\"https://colab.research.google.com/assets/colab-badge.svg\" style=\"text-align: left\"></a>"
   ]
  },
  {
   "cell_type": "code",
   "execution_count": 1,
   "id": "91c02339-920a-41da-8b6f-c38f5c129c71",
   "metadata": {
    "tags": []
   },
   "outputs": [],
   "source": [
    "# {{<video https://youtu.be/playlist?list=PLQqh36zP38-yC_m_UJuLhA4k9IqOiQwzO&si=Xr5e4YLDFsT1s-69 >}}"
   ]
  },
  {
   "cell_type": "markdown",
   "id": "39b8311b-fce2-4c75-af88-481a398a87a4",
   "metadata": {},
   "source": [
    "::: {.callout-caution}\n",
    "- 전북대 학생들을 시험당일 학생증을 지참할 것. (출석체크 및 본인확인) 학생증 외에 신분증 여권등도 가능.\n",
    "- 부정행위 (카카오톡 채팅을 통한 코드공유, 생성형모델 사용, 대리시험 등) 적발시 F 처리함. \n",
    "- 퀴즈 중 지각할 경우 지각사실을 기록함. 하지만 별 다른 감점은 하지 않음.\n",
    "- `.ipynb` 파일 형태로 제출된 답안지만 채점하며 그 외의 형식 (`.hwp`, `.py` 등)은 채점하지 않음. 즉 0점 처리함.\n",
    ":::\n"
   ]
  },
  {
   "cell_type": "code",
   "execution_count": 73,
   "id": "cc1b2d29-161d-4ac7-b820-12fa0bd04a75",
   "metadata": {
    "tags": []
   },
   "outputs": [],
   "source": [
    "import numpy as np\n",
    "import pandas as pd"
   ]
  },
  {
   "cell_type": "markdown",
   "id": "aea98502-afe8-4235-9e24-86b7efe4911b",
   "metadata": {},
   "source": [
    "# 1. -- 10점"
   ]
  },
  {
   "cell_type": "markdown",
   "id": "e1dfd776-64ed-4d7c-8489-c9214da44b2c",
   "metadata": {},
   "source": [
    "아래는 파이썬프로그래밍 수강생들의 학번, 이름, 출석점수, 과제점수, 중간고사점수, 기말고사점수를 저장한 중첩리스트이다."
   ]
  },
  {
   "cell_type": "code",
   "execution_count": 18,
   "id": "d1b99320-0e07-4cc0-813c-a433b09aaad8",
   "metadata": {
    "tags": []
   },
   "outputs": [
    {
     "data": {
      "text/plain": [
       "[['2021-43052', 'GuebinChoi', 5, 10, 20, 25],\n",
       " ['2019-12342', 'Heung-min Son', 10, 15, 30, 15],\n",
       " ['2018-32234', 'hynn', 7, 20, 30, 15],\n",
       " ['2022-42323', 'Minji', 8, 20, 20, 35],\n",
       " ['2023-55342', 'Hanni', 7, 20, 30, 35],\n",
       " ['2022-46624', 'Danielle', 3, 15, 30, 40],\n",
       " ['2022-11239', 'Haerin', 10, 20, 30, 40],\n",
       " ['2022-32114', 'Hyein', 10, 20, 20, 35]]"
      ]
     },
     "execution_count": 18,
     "metadata": {},
     "output_type": "execute_result"
    }
   ],
   "source": [
    "lst = [['2021-43052', 'GuebinChoi', 5, 10, 20, 25],\n",
    "       ['2019-12342', 'Heung-min Son', 10, 15, 30, 15],\n",
    "       ['2018-32234', 'hynn', 7, 20, 30, 15],\n",
    "       ['2022-42323', 'Minji', 8, 20, 20, 35],\n",
    "       ['2023-55342', 'Hanni', 7, 20, 30, 35],\n",
    "       ['2022-46624', 'Danielle', 3, 15, 30, 40],\n",
    "       ['2022-11239', 'Haerin', 10, 20, 30, 40],\n",
    "       ['2022-32114', 'Hyein', 10, 20, 20, 35]]\n",
    "lst "
   ]
  },
  {
   "cell_type": "markdown",
   "id": "b9eee99e-b684-4f1b-af86-4f0bd59234c9",
   "metadata": {},
   "source": [
    "중간고사와 기말고사의 합이 60점 이상인 학생은 몇명인가? (확장 가능한 코드만 정답으로 인정)"
   ]
  },
  {
   "cell_type": "markdown",
   "id": "e4c663d1-4884-4f91-9a77-798c308ae761",
   "metadata": {},
   "source": [
    "# 2. -- 10점 "
   ]
  },
  {
   "cell_type": "markdown",
   "id": "e3deb0d5-f385-4d81-b855-08121c60cde1",
   "metadata": {},
   "source": [
    "아래의 `list`를 관찰하라."
   ]
  },
  {
   "cell_type": "code",
   "execution_count": 11,
   "id": "bc9949e7-edbd-4120-b765-3622251d1225",
   "metadata": {
    "tags": []
   },
   "outputs": [],
   "source": [
    "lst = ['2022/09/21','2022/10/30','2022/12/25','2023/01/01','2023/01/31','2023/03/20']"
   ]
  },
  {
   "cell_type": "markdown",
   "id": "385df441-b9d6-49be-9699-4cd063072d32",
   "metadata": {},
   "source": [
    "이를 아래와 같은 리스트로 변환하는 코드를 작성하라. (확장 가능한 코드만 정답으로 인정)"
   ]
  },
  {
   "cell_type": "code",
   "execution_count": 16,
   "id": "5b5434ea-4825-4c8c-a08a-5f88c7a18bad",
   "metadata": {
    "tags": []
   },
   "outputs": [
    {
     "data": {
      "text/plain": [
       "['2022.09.21.',\n",
       " '2022.10.30.',\n",
       " '2022.12.25.',\n",
       " '2023.01.01.',\n",
       " '2023.01.31.',\n",
       " '2023.03.20.']"
      ]
     },
     "execution_count": 16,
     "metadata": {},
     "output_type": "execute_result"
    }
   ],
   "source": [
    "['2022.09.21.','2022.10.30.','2022.12.25.','2023.01.01.','2023.01.31.','2023.03.20.']"
   ]
  },
  {
   "cell_type": "markdown",
   "id": "8ebbf65a-89a2-4016-b732-1dcffdab18cf",
   "metadata": {},
   "source": [
    "# 3. -- 10점"
   ]
  },
  {
   "cell_type": "markdown",
   "id": "c81fce99-009b-49ad-a9f5-3e8ef082645f",
   "metadata": {},
   "source": [
    "아래의 문자열을 관찰하라. "
   ]
  },
  {
   "cell_type": "code",
   "execution_count": 9,
   "id": "1726890b-44b8-44d1-b7d2-ecbdb6841659",
   "metadata": {
    "tags": []
   },
   "outputs": [],
   "source": [
    "test_arr = 'ssh-rsa AAAAB3NzaC1yc2EAAAABIwAAAQEAklOUpkDHrfHY17SbrmTIpNLTGK9Tjom/BWDSUGPl+nafzlHDTYW7hdI4yZ5ew18JH4JW9jbhUFrviQzM7xlELEVf4h9lFX5QVkbPppSwg0cda3Pbv7kOdJ/MTyBlWXFCR+HAo3FXRitBqxiX1nKhXpHAZsMciLq8V6RjsNAQwdsdMFvSlVK/7XAt3FaoJoAsncM1Q9x5+3V0Ww68/eIFmb1zuUFljQJKprrX88XypNDvjYNby6vw/Pb0rwert/EnmZ+AW4OZPnTPI89ZPmVMLuayrD2cE86Z/il8b+gw3r3+1nKatmIkjn2so1d01QraTlMqVSsbxNrRFi9wrf+M7Q== schacon@mylaptop.local'"
   ]
  },
  {
   "cell_type": "markdown",
   "id": "ab498bcd-50d8-4f4f-954e-7b97a2fee586",
   "metadata": {},
   "source": [
    "'A' 가 몇개 있는지 count하라 "
   ]
  },
  {
   "cell_type": "markdown",
   "id": "703a7d50-3761-424b-94a0-715893a2db66",
   "metadata": {},
   "source": [
    "# 4. -- 10점 "
   ]
  },
  {
   "cell_type": "markdown",
   "id": "f3f31d6e-e61b-44eb-aa94-0b924a675ece",
   "metadata": {},
   "source": [
    "> 모두 맞출경우만 정답으로 인정 "
   ]
  },
  {
   "cell_type": "markdown",
   "id": "0996d145-40c9-44cf-881a-41cb70de0ed1",
   "metadata": {},
   "source": [
    "`(1)` 아래의 조건을 만족하는 자료형 `a`를 선언하라. "
   ]
  },
  {
   "cell_type": "code",
   "execution_count": 50,
   "id": "b8a89a26-4c25-4d6f-965d-48b90c7fdef9",
   "metadata": {
    "tags": []
   },
   "outputs": [
    {
     "data": {
      "text/plain": [
       "(tuple, 1, 'a')"
      ]
     },
     "execution_count": 50,
     "metadata": {},
     "output_type": "execute_result"
    }
   ],
   "source": [
    "type(a), len(a), a[0]"
   ]
  },
  {
   "cell_type": "markdown",
   "id": "65b60011-e537-4fdb-bea3-21063af55a40",
   "metadata": {},
   "source": [
    "`(2)` 아래와 같은 출력결과를 보이는 numpy array `a`,`b` 를 선언하라. "
   ]
  },
  {
   "cell_type": "code",
   "execution_count": 45,
   "id": "f5fbcad0-c6a7-4c80-8491-ffb8084e0ae3",
   "metadata": {
    "tags": []
   },
   "outputs": [
    {
     "data": {
      "text/plain": [
       "(array(3), ())"
      ]
     },
     "execution_count": 45,
     "metadata": {},
     "output_type": "execute_result"
    }
   ],
   "source": [
    "a, a.shape"
   ]
  },
  {
   "cell_type": "code",
   "execution_count": 52,
   "id": "1a6a2635-b36f-432a-b91d-0f4b089516a4",
   "metadata": {
    "tags": []
   },
   "outputs": [
    {
     "data": {
      "text/plain": [
       "(array([3]), (1,))"
      ]
     },
     "execution_count": 52,
     "metadata": {},
     "output_type": "execute_result"
    }
   ],
   "source": [
    "b, b.shape"
   ]
  },
  {
   "cell_type": "markdown",
   "id": "f435e5df-4f29-4997-bdde-bed44bc589d0",
   "metadata": {},
   "source": [
    "# 5. -- 20점 "
   ]
  },
  {
   "cell_type": "markdown",
   "id": "1293348a-22af-42b0-a668-5b0a5e8fd3ad",
   "metadata": {},
   "source": [
    "> 모두 맞출경우만 정답으로 인정 "
   ]
  },
  {
   "cell_type": "markdown",
   "id": "bfe9133b-84dc-4209-86b1-8ab0323b368b",
   "metadata": {},
   "source": [
    "아래와 같은 2차원 numpy array를 선언하라. "
   ]
  },
  {
   "cell_type": "code",
   "execution_count": 132,
   "id": "93f1e52c-d95c-4509-8ce0-23e24df500ae",
   "metadata": {
    "tags": []
   },
   "outputs": [
    {
     "data": {
      "text/plain": [
       "array([[ 0.38,  1.08,  1.14,  0.31,  0.24],\n",
       "       [ 0.36, -1.66, -1.38, -1.93, -1.49],\n",
       "       [ 0.01, -0.03, -0.34,  0.71, -1.55],\n",
       "       [ 1.35, -0.06, -0.83, -1.46, -0.35],\n",
       "       [-0.34,  0.76,  2.22, -1.72,  1.59],\n",
       "       [ 0.37,  0.77, -0.43,  0.77,  0.92],\n",
       "       [-0.45,  0.32,  0.82, -0.17,  1.13],\n",
       "       [ 0.21, -1.68, -0.3 ,  0.62, -0.3 ],\n",
       "       [-0.25, -1.16, -1.29, -0.63, -0.7 ],\n",
       "       [ 1.27,  0.84, -1.46, -0.17,  1.29],\n",
       "       [ 0.36, -0.1 , -0.83, -0.65,  0.07],\n",
       "       [-2.47,  1.39, -0.06, -0.84, -0.38],\n",
       "       [ 1.33,  0.17, -0.51, -1.27,  1.74],\n",
       "       [-0.36, -0.18,  0.62,  0.45, -0.4 ],\n",
       "       [-1.07, -0.18, -1.42, -0.69,  0.74],\n",
       "       [ 2.19, -1.15, -0.28, -0.5 , -1.66],\n",
       "       [-2.22,  0.42, -0.59,  0.17, -0.01],\n",
       "       [-1.83,  0.26, -0.61,  0.14, -0.02],\n",
       "       [-0.99,  0.73,  0.37,  0.34,  0.55],\n",
       "       [ 1.31,  0.41, -0.19,  1.06,  1.19]])"
      ]
     },
     "execution_count": 132,
     "metadata": {},
     "output_type": "execute_result"
    }
   ],
   "source": [
    "np.random.seed(43052)\n",
    "X = np.random.randn(20,5).round(2)\n",
    "X"
   ]
  },
  {
   "cell_type": "markdown",
   "id": "acac05fe-a71a-4a20-8f4f-684ab4f99788",
   "metadata": {},
   "source": [
    "`(1)` 열별로(column-wise) `X`의 평균을 계산하라."
   ]
  },
  {
   "cell_type": "code",
   "execution_count": 136,
   "id": "77fba872-4343-4d57-890e-5c5feb94c43f",
   "metadata": {},
   "outputs": [],
   "source": [
    "# 답: np.array([-0.042 ,  0.0475, -0.2675, -0.273 ,  0.13  ])"
   ]
  },
  {
   "cell_type": "markdown",
   "id": "060fe005-12a1-4588-86ea-c552ac3ee1ee",
   "metadata": {},
   "source": [
    "`(2)` 행별로(row-wise) `X`의 최대값과 최소값의 차이를 계산하라. "
   ]
  },
  {
   "cell_type": "code",
   "execution_count": 146,
   "id": "50b22362-0c7f-4f26-a326-160f98edc769",
   "metadata": {
    "tags": []
   },
   "outputs": [],
   "source": [
    "# 답: np.array([0.9 , 2.29, 2.26, 2.81, 3.94, 1.35, 1.58, 2.3 , 1.04, 2.75, 1.19, 3.86, 3.01, 1.02, 2.16, 3.85, 2.64, 2.09, 1.72, 1.5 ])"
   ]
  },
  {
   "cell_type": "markdown",
   "id": "d03ce8dd-f975-4142-97dc-8fa23410dd9a",
   "metadata": {},
   "source": [
    "# 6. -- 40점"
   ]
  },
  {
   "cell_type": "markdown",
   "id": "4d76b8ce-be3e-4f36-9881-1ce1bdb26305",
   "metadata": {},
   "source": [
    "> 각 20점"
   ]
  },
  {
   "cell_type": "markdown",
   "id": "d9a0d5a5-577e-4e22-9105-4f039bcc857a",
   "metadata": {},
   "source": [
    "아래의 코드를 실행하여 `data`를 생성하라. "
   ]
  },
  {
   "cell_type": "code",
   "execution_count": 204,
   "id": "dee2200b-ea56-426c-b3d8-a91f13bee9f8",
   "metadata": {
    "tags": []
   },
   "outputs": [],
   "source": [
    "data = pd.read_csv('https://raw.githubusercontent.com/guebin/DV2021/master/_notebooks/2021-10-25-FIFA22_official_data.csv').drop(['Loaned From','Marking'],axis=1).dropna().loc[:,['Name','Nationality','Overall']].to_numpy().tolist()"
   ]
  },
  {
   "cell_type": "markdown",
   "id": "9dbb19fd-61e5-4b47-be3f-f6877f5fd845",
   "metadata": {},
   "source": [
    "`data`는 list로 만들어져 있으며 각 원소는 축구선수들의 능력치를 나타낸다. `data`의 각 원소는 [이름,소속국가,능력치]를 의미하며 처음 5개의 원소는 아래와 같다. "
   ]
  },
  {
   "cell_type": "code",
   "execution_count": 209,
   "id": "86db125d-fd6b-46cb-ad7f-4302c901c73d",
   "metadata": {
    "tags": []
   },
   "outputs": [
    {
     "data": {
      "text/plain": [
       "[['Bruno Fernandes', 'Portugal', 88],\n",
       " ['L. Goretzka', 'Germany', 87],\n",
       " ['L. Suárez', 'Uruguay', 88],\n",
       " ['K. De Bruyne', 'Belgium', 91],\n",
       " ['M. Acuña', 'Argentina', 84]]"
      ]
     },
     "execution_count": 209,
     "metadata": {},
     "output_type": "execute_result"
    }
   ],
   "source": [
    "data[:5]"
   ]
  },
  {
   "cell_type": "markdown",
   "id": "5ddacae2-1348-4451-8eb7-df11ae0938b6",
   "metadata": {},
   "source": [
    "`(1)` 아래의 dictionary를 이용하여 `data`의 국가이름을 대륙이름으로 바꾸라. "
   ]
  },
  {
   "cell_type": "code",
   "execution_count": 206,
   "id": "a04ff251-2a23-4d18-a3b1-aecf99eabe50",
   "metadata": {
    "tags": []
   },
   "outputs": [],
   "source": [
    "continent_dict = {\n",
    "    'Asia': ['Afghanistan', 'Japan', 'Macau', 'Chinese Taipei', 'Indonesia', 'Korea Republic', 'Kazakhstan', 'Kyrgyzstan', 'Bhutan', 'Philippines', 'Syria', 'China PR', 'Oman', 'Guam', 'Vietnam', 'Jordan', 'Palestine', 'Malaysia', 'Hong Kong', 'Korea DPR', 'Lebanon', 'Uzbekistan', 'India','Iraq', 'Iran', 'Saudi Arabia', 'United Arab Emirates','Australia'],\n",
    "    'Europe': ['Portugal', 'Germany', 'Belgium', 'Netherlands', 'Croatia', 'Spain', 'Austria', 'Italy', 'France', 'Serbia', 'England', 'Poland', 'Ukraine', 'Wales', 'Scotland', 'Czech Republic', 'Slovakia', 'Romania', 'Bosnia and Herzegovina', 'Republic of Ireland', 'Norway', 'Sweden', 'Bulgaria', 'Lithuania', 'Estonia', 'Latvia', 'Liechtenstein','Albania','Denmark','Finland','Greece','Hungary','Iceland','Luxembourg','Northern Ireland','Slovenia','Switzerland','Andorra','Azerbaijan','Belarus','Cyprus','Faroe Islands','Georgia','Kosovo','Malta','Moldova','Montenegro','North Macedonia','Armenia','Gibraltar','Russia','Turkey','Israel'],\n",
    "    'South America': ['Uruguay', 'Argentina', 'Brazil', 'Chile', 'Colombia', 'Ecuador', 'Paraguay', 'Venezuela', 'Suriname', 'Bolivia','Peru','Guyana'],\n",
    "    'Africa': ['Egypt', \"Côte d'Ivoire\", 'Senegal', 'Morocco', 'Ghana', 'Algeria', 'Guinea', 'Mali', 'Congo DR', 'Liberia', 'Cameroon', 'Tunisia', 'Comoros', 'Kenya', 'South Africa', 'Zimbabwe', 'Madagascar', 'Mozambique', 'Equatorial Guinea', 'Congo', 'Burundi', 'Grenada', 'Thailand', 'Togo', 'Sudan', 'Mauritania','Guinea Bissau','Libya','Nigeria','Zambia','Angola','Benin','Burkina Faso','Cape Verde Islands','Central African Republic','Chad','Eritrea','Gabon','Gambia','Mauritius','Namibia','Rwanda','Sierra Leone','South Sudan','São Tomé e Príncipe','Uganda','Niger'],\n",
    "    'North and Central America': ['Antigua and Barbuda', 'Barbados', 'Belize', 'Bermuda', 'Canada', 'Costa Rica', 'Cuba', 'Curacao', 'Dominican Republic', 'El Salvador', 'Guatemala', 'Haiti', 'Honduras', 'Jamaica', 'Mexico', 'Montserrat', 'Panama', 'Puerto Rico', 'Saint Kitts and Nevis', 'Saint Lucia', 'Trinidad and Tobago', 'United States'],\n",
    "    'Oceania': ['New Zealand', 'Fiji', 'Papua New Guinea','New Caledonia'],\n",
    "}"
   ]
  },
  {
   "cell_type": "markdown",
   "id": "c0977935-b7e8-4098-892b-dfeacd1ed59b",
   "metadata": {
    "tags": []
   },
   "source": [
    "바뀐 `data`의 처음 5개의 출력결과는 아래와 같다. \n",
    "\n",
    "```Python\n",
    "[['Bruno Fernandes', 'Europe', 88],\n",
    " ['L. Goretzka', 'Europe', 87],\n",
    " ['L. Suárez', 'South America', 88],\n",
    " ['K. De Bruyne', 'Europe', 91],\n",
    " ['M. Acuña', 'South America', 84]]\n",
    "```"
   ]
  },
  {
   "cell_type": "markdown",
   "id": "cd64e93a-9c76-45e3-8f40-3dbdb3ddfb81",
   "metadata": {
    "tags": []
   },
   "source": [
    "`(2)` 능력치가 80이상인 선수들은 대륙별로 몇명의 선수가 있는가? count하라. "
   ]
  },
  {
   "cell_type": "code",
   "execution_count": 210,
   "id": "806b4c87-cd5b-407b-9d58-8be384d65627",
   "metadata": {
    "tags": []
   },
   "outputs": [],
   "source": [
    "# 답\n",
    "# {'South America': 71,\n",
    "#  'Africa': 21,\n",
    "#  'North and Central America': 8,\n",
    "#  'Europe': 272,\n",
    "#  'Asia': 1}"
   ]
  }
 ],
 "metadata": {
  "kernelspec": {
   "display_name": "Python 3 (ipykernel)",
   "language": "python",
   "name": "python3"
  },
  "language_info": {
   "codemirror_mode": {
    "name": "ipython",
    "version": 3
   },
   "file_extension": ".py",
   "mimetype": "text/x-python",
   "name": "python",
   "nbconvert_exporter": "python",
   "pygments_lexer": "ipython3",
   "version": "3.10.13"
  }
 },
 "nbformat": 4,
 "nbformat_minor": 5
}
