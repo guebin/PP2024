{
 "cells": [
  {
   "cell_type": "raw",
   "id": "5bb3dec9-ee37-43e6-93a0-725899ab7982",
   "metadata": {},
   "source": [
    "---\n",
    "title: \"02wk-2: 파이썬은 좋은 계산기다 (2)\"\n",
    "author: \"최규빈\"\n",
    "date: \"03/15/2024\"\n",
    "draft: false\n",
    "---"
   ]
  },
  {
   "cell_type": "markdown",
   "id": "85cb908a-c34f-4c7f-be69-504028905d71",
   "metadata": {
    "id": "e67ab8e0"
   },
   "source": [
    "<a href=\"https://colab.research.google.com/github/guebin/PP2024/blob/main/posts/02wk-2.ipynb\"><img src=\"https://colab.research.google.com/assets/colab-badge.svg\" style=\"text-align: left\"></a>"
   ]
  },
  {
   "cell_type": "markdown",
   "id": "3132d4be-c489-4755-9aa1-456b5447f36a",
   "metadata": {},
   "source": [
    "# 1. 강의영상 "
   ]
  },
  {
   "cell_type": "markdown",
   "id": "8f867429-2dd6-49b0-8042-16677ac23a58",
   "metadata": {},
   "source": [
    "{{<video https://youtu.be/playlist?list=PLQqh36zP38-yhR5pDXI-Da8FHip-Pptur&si=E1GEXgXY51izjQSh >}}"
   ]
  },
  {
   "cell_type": "markdown",
   "id": "99f3cf4b-e193-4c5b-814c-c28863803329",
   "metadata": {},
   "source": [
    "# 2. Imports "
   ]
  },
  {
   "cell_type": "code",
   "execution_count": 1,
   "id": "73056c48-789f-4991-b940-64a3de402da7",
   "metadata": {},
   "outputs": [],
   "source": [
    "import numpy as np\n",
    "import matplotlib.pyplot as plt "
   ]
  },
  {
   "cell_type": "markdown",
   "id": "e9a4a6a1-3b75-4368-9c1c-dda2210f5672",
   "metadata": {},
   "source": [
    "# 3. 2024 수능 -- 16,11,8,26,19,12"
   ]
  },
  {
   "cell_type": "markdown",
   "id": "35b7cbcf-a01d-4a60-b99a-67fb4655e500",
   "metadata": {},
   "source": [
    "![](https://github.com/guebin/PP2024/blob/main/imgs/2024-수능-16.png?raw=true)"
   ]
  },
  {
   "cell_type": "markdown",
   "id": "c671e9cf-bb36-4787-bb9e-6f0432345eca",
   "metadata": {},
   "source": [
    "(풀이1)"
   ]
  },
  {
   "cell_type": "code",
   "execution_count": 2,
   "id": "5548ab11-79cb-4899-8459-cb9ec7df17c5",
   "metadata": {},
   "outputs": [
    {
     "data": {
      "text/plain": [
       "<matplotlib.legend.Legend at 0x7f85a4ff5070>"
      ]
     },
     "execution_count": 2,
     "metadata": {},
     "output_type": "execute_result"
    },
    {
     "data": {
      "image/png": "[encoded data removed]",
      "text/plain": [
       "<Figure size 640x480 with 1 Axes>"
      ]
     },
     "metadata": {},
     "output_type": "display_data"
    }
   ],
   "source": [
    "x = np.linspace(1,3,101)\n",
    "lhs = 3**(x-8) # lhs = left hand side 의 약자\n",
    "rhs = (1/27)**x \n",
    "plt.plot(x,lhs,'--',label=r\"$3^{x-8}$\")\n",
    "plt.plot(x,rhs,'--',label=r\"$(\\frac{1}{27})^x$\")\n",
    "plt.legend()"
   ]
  },
  {
   "cell_type": "markdown",
   "id": "4f43fcb0-989f-4326-9819-846a220bdf9d",
   "metadata": {},
   "source": [
    "대충 $x=2$ 에서 만나는것 같다. 확인해보자. "
   ]
  },
  {
   "cell_type": "code",
   "execution_count": 3,
   "id": "ed8df46d-3f6d-4bee-85e0-5de27942f7d8",
   "metadata": {},
   "outputs": [
    {
     "data": {
      "text/plain": [
       "(0.0013717421124828531, 0.0013717421124828531)"
      ]
     },
     "execution_count": 3,
     "metadata": {},
     "output_type": "execute_result"
    }
   ],
   "source": [
    "3**(2-8), (1/27)**2"
   ]
  },
  {
   "cell_type": "markdown",
   "id": "f763b2fa-6369-40d3-8f8d-a0b96c03c837",
   "metadata": {},
   "source": [
    "두 값이 같음. 따라서 $x=2$에서 만난다. "
   ]
  },
  {
   "cell_type": "markdown",
   "id": "78d143b9-3bb0-48c9-aa1e-9288988051b7",
   "metadata": {},
   "source": [
    "(풀이2)"
   ]
  },
  {
   "cell_type": "code",
   "execution_count": 4,
   "id": "813b3422-29f2-492f-bf10-6c5e715f5c8c",
   "metadata": {},
   "outputs": [
    {
     "data": {
      "text/plain": [
       "2.0"
      ]
     },
     "execution_count": 4,
     "metadata": {},
     "output_type": "execute_result"
    }
   ],
   "source": [
    "x = np.linspace(1,3,101)\n",
    "lhs = 3**(x-8) # lhs = left hand side 의 약자\n",
    "rhs = (1/27)**x \n",
    "x[np.argmin(np.abs(lhs-rhs))]"
   ]
  },
  {
   "cell_type": "markdown",
   "id": "c5bcfd51-d239-4c0a-aca5-745aecb2bae3",
   "metadata": {},
   "source": [
    "따라서 $x=2$에서 만난다. "
   ]
  },
  {
   "cell_type": "markdown",
   "id": "774251f1-9227-480e-b4c7-fc279638449e",
   "metadata": {},
   "source": [
    "![](https://github.com/guebin/PP2024/blob/main/imgs/2024-수능-11.png?raw=true)"
   ]
  },
  {
   "cell_type": "markdown",
   "id": "cbad3e08-153e-4eb1-b5b5-821b1a40eb51",
   "metadata": {},
   "source": [
    "(풀이1)"
   ]
  },
  {
   "cell_type": "code",
   "execution_count": 5,
   "id": "f8564084-5379-49cd-afef-b038ac45e936",
   "metadata": {},
   "outputs": [
    {
     "data": {
      "text/plain": [
       "array([-24., -20., -16., -12.,  -8.,  -4.,   0.,   4.,   8.,  12.,  16.,\n",
       "        20.,  24.,  28.,  32.])"
      ]
     },
     "execution_count": 5,
     "metadata": {},
     "output_type": "execute_result"
    }
   ],
   "source": [
    "n = np.linspace(1,15,15)\n",
    "d = 4\n",
    "an = d*n-d*7\n",
    "an"
   ]
  },
  {
   "cell_type": "markdown",
   "id": "5b067e3d-c740-4183-aef0-351d897f417b",
   "metadata": {},
   "source": [
    "좀 더 보기 편하게 하기 위해서.. "
   ]
  },
  {
   "cell_type": "code",
   "execution_count": 6,
   "id": "72d3115e-4eaf-4a71-883a-052db8cab48f",
   "metadata": {},
   "outputs": [
    {
     "data": {
      "text/plain": [
       "array([[  1., -24.],\n",
       "       [  2., -20.],\n",
       "       [  3., -16.],\n",
       "       [  4., -12.],\n",
       "       [  5.,  -8.],\n",
       "       [  6.,  -4.],\n",
       "       [  7.,   0.],\n",
       "       [  8.,   4.],\n",
       "       [  9.,   8.],\n",
       "       [ 10.,  12.],\n",
       "       [ 11.,  16.],\n",
       "       [ 12.,  20.],\n",
       "       [ 13.,  24.],\n",
       "       [ 14.,  28.],\n",
       "       [ 15.,  32.]])"
      ]
     },
     "execution_count": 6,
     "metadata": {},
     "output_type": "execute_result"
    }
   ],
   "source": [
    "np.stack([n,an],axis=1) # 이따가 할게요"
   ]
  },
  {
   "cell_type": "markdown",
   "id": "f796b247-7fc9-4215-8882-6c98ddcf2a1e",
   "metadata": {},
   "source": [
    "$d$에 따라 바뀌는 $\\sum_{k=1}^{5}\\frac{1}{a_k a_{k+1}}$ 값을 조사하고 이 값이 $\\frac{5}{96}$이 되는 $d$를 찾아보자. "
   ]
  },
  {
   "cell_type": "code",
   "execution_count": 7,
   "id": "911bb5be-25bf-44e5-9160-a5ef0fd9f896",
   "metadata": {},
   "outputs": [
    {
     "data": {
      "text/plain": [
       "(0.052083333333333336, 0.052083333333333336)"
      ]
     },
     "execution_count": 7,
     "metadata": {},
     "output_type": "execute_result"
    }
   ],
   "source": [
    "n = np.linspace(1,15,15)\n",
    "d = 4\n",
    "an = d*n-d*7\n",
    "np.sum(1/(an[:5]*an[1:6])), 5/96"
   ]
  },
  {
   "cell_type": "markdown",
   "id": "3f7d2432-1a3c-49f2-a67e-6cb71c9dfdee",
   "metadata": {},
   "source": [
    "찾아보니까 $d=4$이다. "
   ]
  },
  {
   "cell_type": "code",
   "execution_count": 8,
   "id": "b4662413-8f65-43bd-81a1-4955dbf7cd07",
   "metadata": {},
   "outputs": [
    {
     "data": {
      "text/plain": [
       "60.0"
      ]
     },
     "execution_count": 8,
     "metadata": {},
     "output_type": "execute_result"
    }
   ],
   "source": [
    "np.sum(an)"
   ]
  },
  {
   "cell_type": "markdown",
   "id": "31b1052a-2e75-4387-92a4-91cb8e5e36eb",
   "metadata": {},
   "source": [
    "(풀이2)"
   ]
  },
  {
   "cell_type": "code",
   "execution_count": 9,
   "id": "42038b1b-8532-4ff9-b14e-e7dd6ea0082b",
   "metadata": {},
   "outputs": [
    {
     "name": "stdout",
     "output_type": "stream",
     "text": [
      "0.0 --> 이 값이 0이 되도록 해야함\n"
     ]
    }
   ],
   "source": [
    "n = np.linspace(1,15,15)\n",
    "d = 4\n",
    "an = d*n-d*7\n",
    "print(f'{np.sum(1/(an[:5]*an[1:6]))-5/96} --> 이 값이 0이 되도록 해야함')"
   ]
  },
  {
   "cell_type": "markdown",
   "id": "5ff915ff-8e53-4f7d-975d-4128e8543dd9",
   "metadata": {},
   "source": [
    "구조를 살펴보니까 \n",
    "\n",
    "$$d \\to np.sum(1/(an[:5]*an[1:6]))-5/96$$\n",
    "\n",
    "와 같은 역할을 하는 함수 $dff(d)$를 선언하고 $dff(d)$가 0이 되는 $d$의 값을 찾으면 된다. "
   ]
  },
  {
   "cell_type": "code",
   "execution_count": 10,
   "id": "436c7ead-e2b6-48d2-bd33-475a4f044afc",
   "metadata": {},
   "outputs": [],
   "source": [
    "def dff(d):\n",
    "    an = d*n-d*7\n",
    "    return np.sum(1/(an[:5]*an[1:6]))-5/96 "
   ]
  },
  {
   "cell_type": "code",
   "execution_count": 11,
   "id": "b462a458-b511-4262-9240-65fa90fe0767",
   "metadata": {},
   "outputs": [
    {
     "data": {
      "text/plain": [
       "[<matplotlib.lines.Line2D at 0x7f8560c416d0>]"
      ]
     },
     "execution_count": 11,
     "metadata": {},
     "output_type": "execute_result"
    },
    {
     "data": {
      "image/png": "[encoded data removed]",
      "text/plain": [
       "<Figure size 640x480 with 1 Axes>"
      ]
     },
     "metadata": {},
     "output_type": "display_data"
    }
   ],
   "source": [
    "d = np.linspace(3,5,101)\n",
    "plt.plot(list(map(dff,d)))"
   ]
  },
  {
   "cell_type": "code",
   "execution_count": 12,
   "id": "4a4a228a-7a39-41cc-993d-5bfd4b8ac5e4",
   "metadata": {},
   "outputs": [
    {
     "data": {
      "text/plain": [
       "4.0"
      ]
     },
     "execution_count": 12,
     "metadata": {},
     "output_type": "execute_result"
    }
   ],
   "source": [
    "dff_vector = list(map(dff,d)) \n",
    "d[np.argmin(np.abs(dff_vector))]"
   ]
  },
  {
   "cell_type": "markdown",
   "id": "90ac0343-0e32-45eb-aba2-8a5564e9d987",
   "metadata": {},
   "source": [
    "따라서 $d=4$에서  $dff(d)=\\sum_{k=1}^{5}\\frac{1}{a_k a_{k+1}}-\\frac{5}{96}=0$이 만족한다. 따라서 답은 "
   ]
  },
  {
   "cell_type": "code",
   "execution_count": 13,
   "id": "3b5a712c-3bc8-4dd5-910d-685749789cd1",
   "metadata": {},
   "outputs": [
    {
     "data": {
      "text/plain": [
       "60.0"
      ]
     },
     "execution_count": 13,
     "metadata": {},
     "output_type": "execute_result"
    }
   ],
   "source": [
    "n = np.linspace(1,15,15)\n",
    "d = 4\n",
    "an = d*n-d*7\n",
    "np.sum(an)"
   ]
  },
  {
   "cell_type": "markdown",
   "id": "ef400cc8-2422-42fd-b2a8-2af92a241969",
   "metadata": {},
   "source": [
    "![](https://github.com/guebin/PP2024/blob/main/imgs/2024-수능-8.png?raw=true)"
   ]
  },
  {
   "cell_type": "markdown",
   "id": "dcf5a3de-5dcd-47d1-ad3f-e1cced0b31d1",
   "metadata": {},
   "source": [
    "(풀이1)"
   ]
  },
  {
   "cell_type": "code",
   "execution_count": 14,
   "id": "f63b8c2c-1c29-454f-8716-4ce730582bcf",
   "metadata": {},
   "outputs": [
    {
     "data": {
      "text/plain": [
       "[<matplotlib.lines.Line2D at 0x7f8560c88680>]"
      ]
     },
     "execution_count": 14,
     "metadata": {},
     "output_type": "execute_result"
    },
    {
     "data": {
      "image/png": "[encoded data removed]",
      "text/plain": [
       "<Figure size 640x480 with 1 Axes>"
      ]
     },
     "metadata": {},
     "output_type": "display_data"
    }
   ],
   "source": [
    "f = lambda x: (3*x**4 -3*x)/(x-1)\n",
    "x = np.linspace(-2,2,1000)\n",
    "plt.plot(x,f(x),'--')"
   ]
  },
  {
   "cell_type": "code",
   "execution_count": 15,
   "id": "da896435-280c-473f-89f3-8c7dec140d5e",
   "metadata": {},
   "outputs": [
    {
     "data": {
      "text/plain": [
       "16.032032032032035"
      ]
     },
     "execution_count": 15,
     "metadata": {},
     "output_type": "execute_result"
    }
   ],
   "source": [
    "np.mean(f(x)) *4"
   ]
  },
  {
   "cell_type": "markdown",
   "id": "999cf9ef-20ce-401b-8096-7d2713b5779b",
   "metadata": {},
   "source": [
    "(풀이2)"
   ]
  },
  {
   "cell_type": "code",
   "execution_count": 16,
   "id": "270aa8bd-9d0b-4dfb-877c-be541004d732",
   "metadata": {},
   "outputs": [
    {
     "data": {
      "text/plain": [
       "[<matplotlib.lines.Line2D at 0x7f8560ce7110>]"
      ]
     },
     "execution_count": 16,
     "metadata": {},
     "output_type": "execute_result"
    },
    {
     "data": {
      "image/png": "[encoded data removed]",
      "text/plain": [
       "<Figure size 640x480 with 1 Axes>"
      ]
     },
     "metadata": {},
     "output_type": "display_data"
    }
   ],
   "source": [
    "f = lambda x: (3*x**4 -3*x)/(x-1)\n",
    "x = np.linspace(-2,2,1000)\n",
    "plt.plot(x,f(x),'--')"
   ]
  },
  {
   "cell_type": "code",
   "execution_count": 17,
   "id": "d213c804-9311-4381-8bbb-934bd7ebf06d",
   "metadata": {},
   "outputs": [
    {
     "data": {
      "text/plain": [
       "16.08910128495068"
      ]
     },
     "execution_count": 17,
     "metadata": {},
     "output_type": "execute_result"
    }
   ],
   "source": [
    "x_rand = np.random.rand(1000000)*4 - 2  ## -2~2 까지 임의의수가 골고루 퍼져있음. \n",
    "np.mean(f(x_rand)) * 4"
   ]
  },
  {
   "cell_type": "markdown",
   "id": "e3e091c5-4dc8-43a0-8a14-44999c467aa9",
   "metadata": {},
   "source": [
    "(풀이3)"
   ]
  },
  {
   "cell_type": "code",
   "execution_count": 18,
   "id": "d4933d91-2ae3-4da5-ac4a-2387f8818063",
   "metadata": {},
   "outputs": [],
   "source": [
    "f = lambda x: (3*x**4 -3*x)/(x-1)\n",
    "x = np.linspace(-2,2,1000)"
   ]
  },
  {
   "cell_type": "code",
   "execution_count": 19,
   "id": "55588cfa-97d8-4263-ad99-b58f24fc7ffc",
   "metadata": {},
   "outputs": [],
   "source": [
    "delta = x[1]-x[0]\n",
    "f_arr = f(x)\n",
    "F_arr = np.cumsum(f_arr) * delta"
   ]
  },
  {
   "cell_type": "code",
   "execution_count": 20,
   "id": "c6b510a3-5113-4cc5-8db8-656ab7416b4c",
   "metadata": {},
   "outputs": [
    {
     "data": {
      "text/plain": [
       "<matplotlib.legend.Legend at 0x7f8560d85430>"
      ]
     },
     "execution_count": 20,
     "metadata": {},
     "output_type": "execute_result"
    },
    {
     "data": {
      "image/png": "[encoded data removed]",
      "text/plain": [
       "<Figure size 640x480 with 1 Axes>"
      ]
     },
     "metadata": {},
     "output_type": "display_data"
    }
   ],
   "source": [
    "plt.plot(x,f_arr,label=r'$f(x)$')\n",
    "plt.plot(x,F_arr,label=r'$\\int_{-2}^{x}f(x)dx$')\n",
    "plt.legend()"
   ]
  },
  {
   "cell_type": "code",
   "execution_count": 21,
   "id": "922dea29-48ba-4bc5-9cdc-c2b248ca5d27",
   "metadata": {},
   "outputs": [
    {
     "data": {
      "text/plain": [
       "16.048080112143815"
      ]
     },
     "execution_count": 21,
     "metadata": {},
     "output_type": "execute_result"
    }
   ],
   "source": [
    "F_arr[-1]"
   ]
  },
  {
   "cell_type": "markdown",
   "id": "5a60a7ba-4539-4fdb-a19a-c24411e75171",
   "metadata": {},
   "source": [
    "![](https://github.com/guebin/PP2024/blob/main/imgs/2024-수능-미적-26.png?raw=true)"
   ]
  },
  {
   "cell_type": "markdown",
   "id": "857c0227-e6e1-4516-b935-57faf627da99",
   "metadata": {},
   "source": [
    "(풀이)"
   ]
  },
  {
   "cell_type": "code",
   "execution_count": 22,
   "id": "dbd2ce29-6cfb-40be-abdd-5c433f99bec1",
   "metadata": {},
   "outputs": [],
   "source": [
    "x = np.linspace(3/4*np.pi, 5/4*np.pi, 101)\n",
    "y = np.sqrt((1-2*x)*np.cos(x))"
   ]
  },
  {
   "cell_type": "code",
   "execution_count": 23,
   "id": "38f4a5b6-7551-4fb3-9160-7f7340f18574",
   "metadata": {},
   "outputs": [
    {
     "data": {
      "text/plain": [
       "[<matplotlib.lines.Line2D at 0x7f8560c887a0>]"
      ]
     },
     "execution_count": 23,
     "metadata": {},
     "output_type": "execute_result"
    },
    {
     "data": {
      "image/png": "[encoded data removed]",
      "text/plain": [
       "<Figure size 640x480 with 1 Axes>"
      ]
     },
     "metadata": {},
     "output_type": "display_data"
    }
   ],
   "source": [
    "plt.plot(x,y)"
   ]
  },
  {
   "cell_type": "code",
   "execution_count": 24,
   "id": "2d14cbec-b51f-45ed-a4ab-f46737bbba0c",
   "metadata": {},
   "outputs": [
    {
     "data": {
      "text/plain": [
       "7.4555248716100895"
      ]
     },
     "execution_count": 24,
     "metadata": {},
     "output_type": "execute_result"
    }
   ],
   "source": [
    "np.mean(y**2) * 2/4*np.pi"
   ]
  },
  {
   "cell_type": "code",
   "execution_count": 25,
   "id": "3379bfb6-8d7f-45c0-8702-98fd1579985c",
   "metadata": {},
   "outputs": [
    {
     "data": {
      "text/plain": [
       "(3.028669375785271,\n",
       " 3.442882938158366,\n",
       " 7.471552313943637,\n",
       " 7.885765876316732,\n",
       " 8.885765876316732)"
      ]
     },
     "execution_count": 25,
     "metadata": {},
     "output_type": "execute_result"
    }
   ],
   "source": [
    "np.sqrt(2)*np.pi-np.sqrt(2), np.sqrt(2)*np.pi-1, 2*np.sqrt(2)*np.pi-np.sqrt(2), 2*np.sqrt(2)*np.pi-1, 2*np.sqrt(2)*np.pi"
   ]
  },
  {
   "cell_type": "markdown",
   "id": "a6a4ba47-a8f3-429f-bec5-6eb9f5548527",
   "metadata": {},
   "source": [
    "![](https://github.com/guebin/PP2024/blob/main/imgs/2024-수능-19.png?raw=true)"
   ]
  },
  {
   "cell_type": "markdown",
   "id": "1ff06cb3-9e87-4863-bc34-424204a0fdcb",
   "metadata": {},
   "source": [
    "(풀이)"
   ]
  },
  {
   "cell_type": "code",
   "execution_count": 26,
   "id": "f1e96c89-f0e0-420b-a6d5-0762f645c071",
   "metadata": {},
   "outputs": [
    {
     "data": {
      "text/plain": [
       "array([False,  True, False, False, False,  True, False, False, False,\n",
       "        True, False, False, False,  True, False])"
      ]
     },
     "execution_count": 26,
     "metadata": {},
     "output_type": "execute_result"
    }
   ],
   "source": [
    "x = np.linspace(1,15,15)\n",
    "f = lambda x: np.sin(np.pi/4*x)\n",
    "bool_array = f(2+x)*f(2-x) < 1/4\n",
    "bool_array"
   ]
  },
  {
   "cell_type": "code",
   "execution_count": 27,
   "id": "ad327ee8-5783-4f35-bf1d-4fc928c2f2b6",
   "metadata": {},
   "outputs": [
    {
     "data": {
      "text/plain": [
       "array([ 2.,  6., 10., 14.])"
      ]
     },
     "execution_count": 27,
     "metadata": {},
     "output_type": "execute_result"
    }
   ],
   "source": [
    "x[bool_array] # bool_array에서 True에 해당하는 원소들만 출력됨. "
   ]
  },
  {
   "cell_type": "code",
   "execution_count": 28,
   "id": "e98e6e71-1fa2-417e-aa85-9ef6a7420d67",
   "metadata": {},
   "outputs": [
    {
     "data": {
      "text/plain": [
       "32.0"
      ]
     },
     "execution_count": 28,
     "metadata": {},
     "output_type": "execute_result"
    }
   ],
   "source": [
    "np.sum(x[bool_array])"
   ]
  },
  {
   "cell_type": "markdown",
   "id": "c0ff56cb-e241-47bc-a9eb-25e323602431",
   "metadata": {},
   "source": [
    "![](https://github.com/guebin/PP2024/blob/main/imgs/2024-수능-12.png?raw=true)"
   ]
  },
  {
   "cell_type": "markdown",
   "id": "b6c9cdd4-2f2e-46bb-ad89-d8a7d9f37054",
   "metadata": {},
   "source": [
    "(풀이)"
   ]
  },
  {
   "cell_type": "code",
   "execution_count": 29,
   "id": "8a9adf07-c0c7-4bbc-9376-c85306800010",
   "metadata": {},
   "outputs": [],
   "source": [
    "f = lambda x: 1/9*x*(x-6)*(x-9)\n",
    "# note: 함수g는 t에 따라서 달라짐. t->g(x) 를 구현해주는 함수 make_gfunction 을 만들자. \n",
    "def make_gfunction(t):\n",
    "    def g(x):\n",
    "        if x<t: \n",
    "            return f(x)\n",
    "        else:\n",
    "            return -(x-t)+f(t)\n",
    "    return g"
   ]
  },
  {
   "cell_type": "code",
   "execution_count": 30,
   "id": "1bcb04f1-6c24-48f0-ba7e-3c43a98abe3b",
   "metadata": {},
   "outputs": [
    {
     "data": {
      "text/plain": [
       "<matplotlib.legend.Legend at 0x7f8560b93860>"
      ]
     },
     "execution_count": 30,
     "metadata": {},
     "output_type": "execute_result"
    },
    {
     "data": {
      "image/png": "[encoded data removed]",
      "text/plain": [
       "<Figure size 640x480 with 1 Axes>"
      ]
     },
     "metadata": {},
     "output_type": "display_data"
    }
   ],
   "source": [
    "x = np.linspace(0,10,1001)\n",
    "t = 3.2\n",
    "g = make_gfunction(t)\n",
    "fx = list(map(f,x))\n",
    "gx = list(map(g,x))\n",
    "plt.plot(x,fx,label=r'$f(x)$',alpha=0.5)\n",
    "plt.plot(x,gx,label=r'$g(x)$')\n",
    "plt.title(f\"t={t}\")\n",
    "plt.vlines(t,ymin=-2,ymax=7,color='lime',linestyles='dashed')\n",
    "plt.legend()"
   ]
  },
  {
   "cell_type": "code",
   "execution_count": 31,
   "id": "a9fff942-663f-4f7e-8dd1-6c49ad7fbc3e",
   "metadata": {},
   "outputs": [],
   "source": [
    "#t -> 주황색곡선의 면적이 계산되는 함수 \n",
    "def cal_area(t):\n",
    "    #t = 3.2\n",
    "    g = make_gfunction(t)\n",
    "    fx = list(map(f,x))\n",
    "    gx = list(map(g,x))\n",
    "    Gx = np.cumsum(gx)*0.01 \n",
    "    S = np.max(Gx)\n",
    "    return S "
   ]
  },
  {
   "cell_type": "code",
   "execution_count": 32,
   "id": "7707965d-725e-4e68-94b6-5a70458b94bc",
   "metadata": {},
   "outputs": [
    {
     "data": {
      "text/plain": [
       "<matplotlib.legend.Legend at 0x7f85632f2960>"
      ]
     },
     "execution_count": 32,
     "metadata": {},
     "output_type": "execute_result"
    },
    {
     "data": {
      "image/png": "[encoded data removed]",
      "text/plain": [
       "<Figure size 640x480 with 1 Axes>"
      ]
     },
     "metadata": {},
     "output_type": "display_data"
    }
   ],
   "source": [
    "t = np.linspace(0,6,101)[1:-1]\n",
    "St = list(map(cal_area,t))\n",
    "plt.plot(t,St,label=r\"$S(t)$\")\n",
    "plt.title(f'area = {np.max(St):.4f}')\n",
    "plt.legend()"
   ]
  },
  {
   "cell_type": "code",
   "execution_count": 33,
   "id": "8ac6743e-c0e1-49c0-bca1-c96f1f9a3818",
   "metadata": {},
   "outputs": [
    {
     "data": {
      "text/plain": [
       "(31.25, 31.75, 32.25, 32.75, 33.25)"
      ]
     },
     "execution_count": 33,
     "metadata": {},
     "output_type": "execute_result"
    }
   ],
   "source": [
    "125/4, 127/4, 129/4, 131/4, 133/4"
   ]
  },
  {
   "cell_type": "markdown",
   "id": "dc7ff205-540d-404c-ae10-5e2f57e65df3",
   "metadata": {},
   "source": [
    "# 4. 자료형과 형변환 -- 파이썬 문법"
   ]
  },
  {
   "cell_type": "markdown",
   "id": "af09ae85-295b-4995-96fe-953acbc8a444",
   "metadata": {},
   "source": [
    "`-` 파이썬의 기본자료형은 int, float, bool, str, list, tuple, dict, set 등이 있다.\n",
    "\n",
    "- 0차원 자료형: int, float, bool \n",
    "- 1차원 자료형: str, list, tuple, dict, set"
   ]
  },
  {
   "cell_type": "markdown",
   "id": "2013b0e6-b9ad-43e5-929b-cfdf306662af",
   "metadata": {},
   "source": [
    "## A. int, float, bool "
   ]
  },
  {
   "cell_type": "markdown",
   "id": "9f7bace2-236e-485d-aaa8-bfce75f4aaac",
   "metadata": {},
   "source": [
    "`-` int형 "
   ]
  },
  {
   "cell_type": "code",
   "execution_count": 34,
   "id": "70d89f59-be85-457b-9b4f-0abe4ef64676",
   "metadata": {
    "vscode": {
     "languageId": "python"
    }
   },
   "outputs": [],
   "source": [
    "a=100"
   ]
  },
  {
   "cell_type": "code",
   "execution_count": 35,
   "id": "2cba2c22-4bce-4f7e-bd40-947639b80a97",
   "metadata": {
    "vscode": {
     "languageId": "python"
    }
   },
   "outputs": [
    {
     "data": {
      "text/plain": [
       "int"
      ]
     },
     "execution_count": 35,
     "metadata": {},
     "output_type": "execute_result"
    }
   ],
   "source": [
    "type(a)"
   ]
  },
  {
   "cell_type": "markdown",
   "id": "f9c6139b-4887-421d-9dda-88cbdb8b2cf1",
   "metadata": {},
   "source": [
    "`-` float형 "
   ]
  },
  {
   "cell_type": "code",
   "execution_count": 36,
   "id": "b6e850c1-942f-4911-be70-e82594d5dc71",
   "metadata": {
    "vscode": {
     "languageId": "python"
    }
   },
   "outputs": [
    {
     "data": {
      "text/plain": [
       "3.5999999999999996"
      ]
     },
     "execution_count": 36,
     "metadata": {},
     "output_type": "execute_result"
    }
   ],
   "source": [
    "a=1.2*3\n",
    "a"
   ]
  },
  {
   "cell_type": "code",
   "execution_count": 37,
   "id": "29bea579-20bd-483c-8ca3-7786ee5eb3a8",
   "metadata": {
    "vscode": {
     "languageId": "python"
    }
   },
   "outputs": [
    {
     "data": {
      "text/plain": [
       "float"
      ]
     },
     "execution_count": 37,
     "metadata": {},
     "output_type": "execute_result"
    }
   ],
   "source": [
    "type(a)"
   ]
  },
  {
   "cell_type": "code",
   "execution_count": 38,
   "id": "6297626e-de59-4f09-8386-d7e5704ee0ca",
   "metadata": {
    "vscode": {
     "languageId": "python"
    }
   },
   "outputs": [
    {
     "data": {
      "text/plain": [
       "\u001b[0;31mType:\u001b[0m        float\n",
       "\u001b[0;31mString form:\u001b[0m 3.5999999999999996\n",
       "\u001b[0;31mDocstring:\u001b[0m   Convert a string or number to a floating point number, if possible."
      ]
     },
     "metadata": {},
     "output_type": "display_data"
    }
   ],
   "source": [
    "a?"
   ]
  },
  {
   "cell_type": "markdown",
   "id": "892e54e6-d437-4369-b907-35471ac43814",
   "metadata": {},
   "source": [
    "`-` bool형 "
   ]
  },
  {
   "cell_type": "code",
   "execution_count": 39,
   "id": "027e1b3e-62eb-499b-8c33-840dc0a90695",
   "metadata": {
    "vscode": {
     "languageId": "python"
    }
   },
   "outputs": [],
   "source": [
    "a=True ## 숫자1으로 생각할 수 있음 \n",
    "b=False ## 숫자0으로 생각할 수 있음"
   ]
  },
  {
   "cell_type": "code",
   "execution_count": 40,
   "id": "68758f09-154f-45d9-9194-adf904ce8737",
   "metadata": {
    "vscode": {
     "languageId": "python"
    }
   },
   "outputs": [
    {
     "data": {
      "text/plain": [
       "bool"
      ]
     },
     "execution_count": 40,
     "metadata": {},
     "output_type": "execute_result"
    }
   ],
   "source": [
    "type(a)"
   ]
  },
  {
   "cell_type": "code",
   "execution_count": 41,
   "id": "9a32037e-a728-4a09-9591-ed55d0015efb",
   "metadata": {
    "vscode": {
     "languageId": "python"
    }
   },
   "outputs": [
    {
     "data": {
      "text/plain": [
       "bool"
      ]
     },
     "execution_count": 41,
     "metadata": {},
     "output_type": "execute_result"
    }
   ],
   "source": [
    "type(b)"
   ]
  },
  {
   "cell_type": "code",
   "execution_count": 42,
   "id": "b6be6b5a-599e-4083-a5b1-5085acc8a24f",
   "metadata": {
    "vscode": {
     "languageId": "python"
    }
   },
   "outputs": [
    {
     "data": {
      "text/plain": [
       "\u001b[0;31mType:\u001b[0m        bool\n",
       "\u001b[0;31mString form:\u001b[0m True\n",
       "\u001b[0;31mDocstring:\u001b[0m  \n",
       "bool(x) -> bool\n",
       "\n",
       "Returns True when the argument x is true, False otherwise.\n",
       "The builtins True and False are the only two instances of the class bool.\n",
       "The class bool is a subclass of the class int, and cannot be subclassed."
      ]
     },
     "metadata": {},
     "output_type": "display_data"
    }
   ],
   "source": [
    "a?"
   ]
  },
  {
   "cell_type": "code",
   "execution_count": 43,
   "id": "4bcc3eb2-2293-4190-b58d-51ba64d76fec",
   "metadata": {
    "vscode": {
     "languageId": "python"
    }
   },
   "outputs": [
    {
     "data": {
      "text/plain": [
       "\u001b[0;31mType:\u001b[0m        bool\n",
       "\u001b[0;31mString form:\u001b[0m False\n",
       "\u001b[0;31mDocstring:\u001b[0m  \n",
       "bool(x) -> bool\n",
       "\n",
       "Returns True when the argument x is true, False otherwise.\n",
       "The builtins True and False are the only two instances of the class bool.\n",
       "The class bool is a subclass of the class int, and cannot be subclassed."
      ]
     },
     "metadata": {},
     "output_type": "display_data"
    }
   ],
   "source": [
    "b?"
   ]
  },
  {
   "cell_type": "markdown",
   "id": "600e51bc-e1a1-4ad4-a799-edd48b5b86ba",
   "metadata": {},
   "source": [
    "`-` bool형의 연산 "
   ]
  },
  {
   "cell_type": "code",
   "execution_count": 44,
   "id": "b3b33ad0-d80e-4ec4-9086-ad8d41aef9eb",
   "metadata": {
    "vscode": {
     "languageId": "python"
    }
   },
   "outputs": [],
   "source": [
    "a=True ## 1\n",
    "b=False ## 0 "
   ]
  },
  {
   "cell_type": "code",
   "execution_count": 45,
   "id": "2af2d177-6156-486a-8fb9-8282b3a633a0",
   "metadata": {
    "vscode": {
     "languageId": "python"
    }
   },
   "outputs": [
    {
     "data": {
      "text/plain": [
       "1"
      ]
     },
     "execution_count": 45,
     "metadata": {},
     "output_type": "execute_result"
    }
   ],
   "source": [
    "a+b"
   ]
  },
  {
   "cell_type": "code",
   "execution_count": 46,
   "id": "2d8495f8-e9ed-4514-9179-2a0dcd7bf0f2",
   "metadata": {
    "vscode": {
     "languageId": "python"
    }
   },
   "outputs": [
    {
     "data": {
      "text/plain": [
       "0"
      ]
     },
     "execution_count": 46,
     "metadata": {},
     "output_type": "execute_result"
    }
   ],
   "source": [
    "a*b "
   ]
  },
  {
   "cell_type": "markdown",
   "id": "a62729da-a52f-47a6-a948-c2f650658666",
   "metadata": {},
   "source": [
    "`-` 형태변환: float $\\to$ int "
   ]
  },
  {
   "cell_type": "markdown",
   "id": "29d1a850-8528-495d-9a78-68b7e2492a61",
   "metadata": {},
   "source": [
    "(예시1)"
   ]
  },
  {
   "cell_type": "code",
   "execution_count": 54,
   "id": "20fb003a-7803-42a6-b148-ef90f16ff122",
   "metadata": {
    "vscode": {
     "languageId": "python"
    }
   },
   "outputs": [
    {
     "data": {
      "text/plain": [
       "float"
      ]
     },
     "execution_count": 54,
     "metadata": {},
     "output_type": "execute_result"
    }
   ],
   "source": [
    "a=3.0\n",
    "type(a)"
   ]
  },
  {
   "cell_type": "code",
   "execution_count": 55,
   "id": "4823361b-0f25-466b-b178-93e2cc7e21cc",
   "metadata": {
    "vscode": {
     "languageId": "python"
    }
   },
   "outputs": [],
   "source": [
    "a=int(a)"
   ]
  },
  {
   "cell_type": "code",
   "execution_count": 56,
   "id": "24dd247d-6d9a-46ff-9e43-df70a0aff275",
   "metadata": {
    "vscode": {
     "languageId": "python"
    }
   },
   "outputs": [
    {
     "data": {
      "text/plain": [
       "int"
      ]
     },
     "execution_count": 56,
     "metadata": {},
     "output_type": "execute_result"
    }
   ],
   "source": [
    "type(a)"
   ]
  },
  {
   "cell_type": "markdown",
   "id": "45ec78c4-7675-4813-8e3e-3e95259f78f8",
   "metadata": {},
   "source": [
    "(예시2) 이경우는 정보의 손실이 발생 "
   ]
  },
  {
   "cell_type": "code",
   "execution_count": 57,
   "id": "763cdbaa-c1cb-4f76-be12-f893124d9e3a",
   "metadata": {
    "vscode": {
     "languageId": "python"
    }
   },
   "outputs": [
    {
     "data": {
      "text/plain": [
       "3"
      ]
     },
     "execution_count": 57,
     "metadata": {},
     "output_type": "execute_result"
    }
   ],
   "source": [
    "a=3.14 \n",
    "int(a)"
   ]
  },
  {
   "cell_type": "markdown",
   "id": "bae6af03-f207-4352-bda1-e60f50d508de",
   "metadata": {},
   "source": [
    "`-` 형태변환: int $\\to$ float"
   ]
  },
  {
   "cell_type": "code",
   "execution_count": 58,
   "id": "7184560f-6a04-4a33-a592-68b0336d1fd0",
   "metadata": {
    "vscode": {
     "languageId": "python"
    }
   },
   "outputs": [
    {
     "data": {
      "text/plain": [
       "int"
      ]
     },
     "execution_count": 58,
     "metadata": {},
     "output_type": "execute_result"
    }
   ],
   "source": [
    "a=3\n",
    "type(a)"
   ]
  },
  {
   "cell_type": "code",
   "execution_count": 59,
   "id": "7570ed62-76c6-4f61-ad11-74870a722c7e",
   "metadata": {
    "vscode": {
     "languageId": "python"
    }
   },
   "outputs": [
    {
     "data": {
      "text/plain": [
       "float"
      ]
     },
     "execution_count": 59,
     "metadata": {},
     "output_type": "execute_result"
    }
   ],
   "source": [
    "a=float(a)\n",
    "type(a)"
   ]
  },
  {
   "cell_type": "markdown",
   "id": "b41666c5-518b-461e-abba-bc465017fe6e",
   "metadata": {},
   "source": [
    "`-` 형태변환: bool $\\to$ int/float, int/float $\\to$ bool "
   ]
  },
  {
   "cell_type": "markdown",
   "id": "bab6bf25-fbdb-499b-8cb3-5c889e7ced82",
   "metadata": {},
   "source": [
    "(예시1)"
   ]
  },
  {
   "cell_type": "code",
   "execution_count": 60,
   "id": "45efc40b-0354-4ac7-851d-127999887c34",
   "metadata": {
    "vscode": {
     "languageId": "python"
    }
   },
   "outputs": [
    {
     "data": {
      "text/plain": [
       "bool"
      ]
     },
     "execution_count": 60,
     "metadata": {},
     "output_type": "execute_result"
    }
   ],
   "source": [
    "a=True\n",
    "type(a)"
   ]
  },
  {
   "cell_type": "code",
   "execution_count": 61,
   "id": "f389dde0-9395-4a98-98f3-0996094ddf70",
   "metadata": {
    "vscode": {
     "languageId": "python"
    }
   },
   "outputs": [
    {
     "data": {
      "text/plain": [
       "1"
      ]
     },
     "execution_count": 61,
     "metadata": {},
     "output_type": "execute_result"
    }
   ],
   "source": [
    "int(a)"
   ]
  },
  {
   "cell_type": "code",
   "execution_count": 62,
   "id": "d6586917-c736-41c6-8c2c-adcb73f3b312",
   "metadata": {
    "vscode": {
     "languageId": "python"
    }
   },
   "outputs": [
    {
     "data": {
      "text/plain": [
       "1.0"
      ]
     },
     "execution_count": 62,
     "metadata": {},
     "output_type": "execute_result"
    }
   ],
   "source": [
    "float(a)"
   ]
  },
  {
   "cell_type": "markdown",
   "id": "1ac9baff-6bb4-4b28-87de-3939d505cbb4",
   "metadata": {},
   "source": [
    "(예시2)"
   ]
  },
  {
   "cell_type": "code",
   "execution_count": 63,
   "id": "8ed9d1ad-6626-411a-972e-dcfd1354300c",
   "metadata": {
    "vscode": {
     "languageId": "python"
    }
   },
   "outputs": [
    {
     "data": {
      "text/plain": [
       "True"
      ]
     },
     "execution_count": 63,
     "metadata": {},
     "output_type": "execute_result"
    }
   ],
   "source": [
    "a=1 \n",
    "bool(a)"
   ]
  },
  {
   "cell_type": "code",
   "execution_count": 64,
   "id": "c8da75d7-7526-4665-8a47-edb9066c6b1d",
   "metadata": {
    "vscode": {
     "languageId": "python"
    }
   },
   "outputs": [
    {
     "data": {
      "text/plain": [
       "False"
      ]
     },
     "execution_count": 64,
     "metadata": {},
     "output_type": "execute_result"
    }
   ],
   "source": [
    "a=0\n",
    "bool(a)"
   ]
  },
  {
   "cell_type": "markdown",
   "id": "d164f676-4869-4f9b-ab24-865cc9764ca5",
   "metadata": {},
   "source": [
    "(예시3)"
   ]
  },
  {
   "cell_type": "code",
   "execution_count": 65,
   "id": "3e1e652b-6b6c-4fd6-aeb5-906e4ca291fd",
   "metadata": {
    "vscode": {
     "languageId": "python"
    }
   },
   "outputs": [
    {
     "data": {
      "text/plain": [
       "True"
      ]
     },
     "execution_count": 65,
     "metadata": {},
     "output_type": "execute_result"
    }
   ],
   "source": [
    "a=1.0\n",
    "bool(a)"
   ]
  },
  {
   "cell_type": "code",
   "execution_count": 66,
   "id": "480bef84-5c63-46f3-8080-6ef1d4fecd06",
   "metadata": {
    "vscode": {
     "languageId": "python"
    }
   },
   "outputs": [
    {
     "data": {
      "text/plain": [
       "False"
      ]
     },
     "execution_count": 66,
     "metadata": {},
     "output_type": "execute_result"
    }
   ],
   "source": [
    "a=0.0\n",
    "bool(a)"
   ]
  },
  {
   "cell_type": "markdown",
   "id": "5f933b40-dcf4-4472-a77f-a18367efbf07",
   "metadata": {},
   "source": [
    "## B. 1차원 자료의 형태변환 "
   ]
  },
  {
   "cell_type": "markdown",
   "id": "313483f3-3b7d-4a9c-9391-785ddefb72ee",
   "metadata": {},
   "source": [
    "`-` list $\\to$ np.array"
   ]
  },
  {
   "cell_type": "code",
   "execution_count": 583,
   "id": "d20145ce-1752-4be8-b021-097c14d18221",
   "metadata": {},
   "outputs": [
    {
     "data": {
      "text/plain": [
       "[1, 2, 3]"
      ]
     },
     "execution_count": 583,
     "metadata": {},
     "output_type": "execute_result"
    }
   ],
   "source": [
    "[1,2,3]"
   ]
  },
  {
   "cell_type": "code",
   "execution_count": 314,
   "id": "8341ac38-6709-4661-a182-670a7c6e65f1",
   "metadata": {},
   "outputs": [
    {
     "data": {
      "text/plain": [
       "array([1, 2, 3])"
      ]
     },
     "execution_count": 314,
     "metadata": {},
     "output_type": "execute_result"
    }
   ],
   "source": [
    "np.array([1,2,3])"
   ]
  },
  {
   "cell_type": "markdown",
   "id": "e4d855b6-e03f-45f0-8d44-1e6c83867704",
   "metadata": {},
   "source": [
    "`-` np.array $\\to$ list "
   ]
  },
  {
   "cell_type": "code",
   "execution_count": 589,
   "id": "f2b0eb40-1733-404b-a701-7c13d74f8a0e",
   "metadata": {},
   "outputs": [
    {
     "data": {
      "text/plain": [
       "array([ 1.,  2.,  3.,  4.,  5.,  6.,  7.,  8.,  9., 10.])"
      ]
     },
     "execution_count": 589,
     "metadata": {},
     "output_type": "execute_result"
    }
   ],
   "source": [
    "np.linspace(1,10,10)"
   ]
  },
  {
   "cell_type": "code",
   "execution_count": 593,
   "id": "a0650c2a-c8d3-48fe-a6e0-535dbb50a492",
   "metadata": {},
   "outputs": [
    {
     "data": {
      "text/plain": [
       "[1.0, 2.0, 3.0, 4.0, 5.0, 6.0, 7.0, 8.0, 9.0, 10.0]"
      ]
     },
     "execution_count": 593,
     "metadata": {},
     "output_type": "execute_result"
    }
   ],
   "source": [
    "list(np.linspace(1,10,10))"
   ]
  },
  {
   "cell_type": "markdown",
   "id": "af532a6a-5f09-4738-9ad4-c6ad68a2e9b2",
   "metadata": {},
   "source": [
    "`-` range $\\to$ list, np.array"
   ]
  },
  {
   "cell_type": "code",
   "execution_count": 596,
   "id": "45c0a440-b547-4da0-a004-56ff888a349d",
   "metadata": {},
   "outputs": [
    {
     "data": {
      "text/plain": [
       "range(0, 10)"
      ]
     },
     "execution_count": 596,
     "metadata": {},
     "output_type": "execute_result"
    }
   ],
   "source": [
    "range(10) # 이게 뭐야??"
   ]
  },
  {
   "cell_type": "code",
   "execution_count": 597,
   "id": "a2ba972b-55f4-486e-932c-217d36be6616",
   "metadata": {},
   "outputs": [
    {
     "data": {
      "text/plain": [
       "[0, 1, 2, 3, 4, 5, 6, 7, 8, 9]"
      ]
     },
     "execution_count": 597,
     "metadata": {},
     "output_type": "execute_result"
    }
   ],
   "source": [
    "list(range(10)) # 리스트화 "
   ]
  },
  {
   "cell_type": "code",
   "execution_count": 598,
   "id": "61a53c60-8726-4da5-a9c5-ebd37524041f",
   "metadata": {},
   "outputs": [
    {
     "data": {
      "text/plain": [
       "array([0, 1, 2, 3, 4, 5, 6, 7, 8, 9])"
      ]
     },
     "execution_count": 598,
     "metadata": {},
     "output_type": "execute_result"
    }
   ],
   "source": [
    "np.array(range(10)) # 넘파이배열화"
   ]
  },
  {
   "cell_type": "markdown",
   "id": "43297ebd-c03f-4e24-a034-9e8570e5bae3",
   "metadata": {},
   "source": [
    "***range의 다양한 활용을 익혀보자.***"
   ]
  },
  {
   "cell_type": "code",
   "execution_count": 602,
   "id": "87e49de0-1e0c-4da0-9f37-e33b22a4e205",
   "metadata": {},
   "outputs": [
    {
     "data": {
      "text/plain": [
       "[0, 1, 2, 3, 4, 5, 6, 7, 8, 9]"
      ]
     },
     "execution_count": 602,
     "metadata": {},
     "output_type": "execute_result"
    }
   ],
   "source": [
    "list(range(10))"
   ]
  },
  {
   "cell_type": "code",
   "execution_count": 607,
   "id": "d9ca088c-6109-48fa-b01f-5ca348753592",
   "metadata": {},
   "outputs": [
    {
     "data": {
      "text/plain": [
       "[0, 1, 2, 3, 4, 5, 6, 7, 8, 9]"
      ]
     },
     "execution_count": 607,
     "metadata": {},
     "output_type": "execute_result"
    }
   ],
   "source": [
    "list(range(0,10))"
   ]
  },
  {
   "cell_type": "code",
   "execution_count": 608,
   "id": "e02b8064-8468-43fd-9517-4cbc8c5fb948",
   "metadata": {},
   "outputs": [
    {
     "data": {
      "text/plain": [
       "[3, 4, 5, 6, 7, 8, 9]"
      ]
     },
     "execution_count": 608,
     "metadata": {},
     "output_type": "execute_result"
    }
   ],
   "source": [
    "list(range(3,10))"
   ]
  },
  {
   "cell_type": "code",
   "execution_count": 609,
   "id": "536b60ea-188d-44aa-a5f4-5fd7f012492c",
   "metadata": {},
   "outputs": [
    {
     "data": {
      "text/plain": [
       "[3, 5, 7, 9]"
      ]
     },
     "execution_count": 609,
     "metadata": {},
     "output_type": "execute_result"
    }
   ],
   "source": [
    "list(range(3,10,2))"
   ]
  },
  {
   "cell_type": "markdown",
   "id": "9e238085-3a74-4d0b-8cb1-92fef9b3849e",
   "metadata": {},
   "source": [
    "`-` map 결과물 $\\to$ list"
   ]
  },
  {
   "cell_type": "code",
   "execution_count": 611,
   "id": "c63a80e5-a21d-4921-ab66-e42c920f445c",
   "metadata": {},
   "outputs": [
    {
     "data": {
      "text/plain": [
       "[1, 4, 9]"
      ]
     },
     "execution_count": 611,
     "metadata": {},
     "output_type": "execute_result"
    }
   ],
   "source": [
    "f = lambda x: x**2\n",
    "list(map(f,[1,2,3])) # [f(1),f(2),f(3)]"
   ]
  },
  {
   "cell_type": "markdown",
   "id": "361ae29d-d610-4721-8652-8e7566d7cacf",
   "metadata": {},
   "source": [
    "`-` map 결과물 $\\to$ np.array로는 불가능 "
   ]
  },
  {
   "cell_type": "code",
   "execution_count": 612,
   "id": "cd4456cf-0d54-4d6e-9cfe-5a3976156cca",
   "metadata": {},
   "outputs": [
    {
     "data": {
      "text/plain": [
       "array(<map object at 0x7f3a09e887f0>, dtype=object)"
      ]
     },
     "execution_count": 612,
     "metadata": {},
     "output_type": "execute_result"
    }
   ],
   "source": [
    "f = lambda x: x**2\n",
    "np.array(map(f,[1,2,3]))"
   ]
  },
  {
   "cell_type": "code",
   "execution_count": 613,
   "id": "0dda12de-d8ba-4738-8b42-86f412785f80",
   "metadata": {},
   "outputs": [
    {
     "data": {
      "text/plain": [
       "array([1, 4, 9])"
      ]
     },
     "execution_count": 613,
     "metadata": {},
     "output_type": "execute_result"
    }
   ],
   "source": [
    "# 아래는 가능 \n",
    "f = lambda x: x**2\n",
    "np.array(list(map(f,[1,2,3])))"
   ]
  },
  {
   "cell_type": "markdown",
   "id": "626b3bd3-80f5-45aa-a45d-dc849cab9b54",
   "metadata": {},
   "source": [
    "# 5. 등차수열을 선언하는 다양한 방법 -- 파이썬 문법"
   ]
  },
  {
   "cell_type": "markdown",
   "id": "c8004aad-b77c-4b5d-b3b5-18c95c7daa70",
   "metadata": {},
   "source": [
    "아래와 같은 등차수열을 만드는 방법을 살펴보자. "
   ]
  },
  {
   "cell_type": "markdown",
   "id": "627ce3ae-9aed-4198-a617-28a37f1fffe6",
   "metadata": {},
   "source": [
    "$$1,4,7,\\dots,31 $$ "
   ]
  },
  {
   "cell_type": "code",
   "execution_count": 358,
   "id": "84573986-209c-4b1e-8211-6af6a454bdd4",
   "metadata": {},
   "outputs": [
    {
     "data": {
      "text/plain": [
       "array([ 1.,  4.,  7., 10., 13., 16., 19., 22., 25., 28., 31.])"
      ]
     },
     "execution_count": 358,
     "metadata": {},
     "output_type": "execute_result"
    }
   ],
   "source": [
    "np.linspace(1,31,11)"
   ]
  },
  {
   "cell_type": "code",
   "execution_count": 362,
   "id": "2e0eea9f-9361-4a52-a372-ae71155dab3d",
   "metadata": {},
   "outputs": [
    {
     "data": {
      "text/plain": [
       "[1, 4, 7, 10, 13, 16, 19, 22, 25, 28, 31]"
      ]
     },
     "execution_count": 362,
     "metadata": {},
     "output_type": "execute_result"
    }
   ],
   "source": [
    "list(range(1,32,3))"
   ]
  },
  {
   "cell_type": "code",
   "execution_count": 363,
   "id": "dbb7a403-2764-44b7-9c30-ad1a455e763c",
   "metadata": {},
   "outputs": [
    {
     "data": {
      "text/plain": [
       "array([ 1,  4,  7, 10, 13, 16, 19, 22, 25, 28, 31])"
      ]
     },
     "execution_count": 363,
     "metadata": {},
     "output_type": "execute_result"
    }
   ],
   "source": [
    "np.array(range(1,32,3))"
   ]
  },
  {
   "cell_type": "code",
   "execution_count": 364,
   "id": "bcc8681a-63ca-415b-9343-9a060f73893a",
   "metadata": {},
   "outputs": [
    {
     "data": {
      "text/plain": [
       "array([ 1,  4,  7, 10, 13, 16, 19, 22, 25, 28, 31])"
      ]
     },
     "execution_count": 364,
     "metadata": {},
     "output_type": "execute_result"
    }
   ],
   "source": [
    "np.arange(1,32,3)"
   ]
  },
  {
   "cell_type": "code",
   "execution_count": 369,
   "id": "fa4f182a-269f-425f-bd74-f4656772885d",
   "metadata": {},
   "outputs": [
    {
     "data": {
      "text/plain": [
       "array([ 1,  4,  7, 10, 13, 16, 19, 22, 25, 28, 31])"
      ]
     },
     "execution_count": 369,
     "metadata": {},
     "output_type": "execute_result"
    }
   ],
   "source": [
    "# len(np.arange(1,32,3)) # 원소의 수는 11\n",
    "n = np.arange(1,12)\n",
    "3*n-2"
   ]
  },
  {
   "cell_type": "code",
   "execution_count": 374,
   "id": "307ef89e-b524-48df-9452-2886046a9317",
   "metadata": {},
   "outputs": [
    {
     "data": {
      "text/plain": [
       "(1, 4, 7, 10, 13, 16, 19, 22, 25, 28, 31)"
      ]
     },
     "execution_count": 374,
     "metadata": {},
     "output_type": "execute_result"
    }
   ],
   "source": [
    "a = lambda n: 3*n-2\n",
    "a(1),a(2),a(3),a(4),a(5),a(6),a(7),a(8),a(9),a(10),a(11)"
   ]
  },
  {
   "cell_type": "code",
   "execution_count": 375,
   "id": "810b89fd-c1ce-4dbc-8f86-10261c1b8870",
   "metadata": {},
   "outputs": [
    {
     "data": {
      "text/plain": [
       "array([ 1,  4,  7, 10, 13, 16, 19, 22, 25, 28, 31])"
      ]
     },
     "execution_count": 375,
     "metadata": {},
     "output_type": "execute_result"
    }
   ],
   "source": [
    "n = np.arange(1,12)\n",
    "a = lambda n: 3*n-2\n",
    "a(n)"
   ]
  },
  {
   "cell_type": "code",
   "execution_count": 377,
   "id": "b22f0734-906c-477d-93c0-2a831c0d4290",
   "metadata": {},
   "outputs": [
    {
     "data": {
      "text/plain": [
       "[1, 4, 7, 10, 13, 16, 19, 22, 25, 28, 31]"
      ]
     },
     "execution_count": 377,
     "metadata": {},
     "output_type": "execute_result"
    }
   ],
   "source": [
    "n = np.arange(1,12)\n",
    "a = lambda n: 3*n-2\n",
    "list(map(a,n))"
   ]
  },
  {
   "cell_type": "code",
   "execution_count": 381,
   "id": "98ecba59-a037-41b8-ae77-db920ad61b59",
   "metadata": {},
   "outputs": [
    {
     "data": {
      "text/plain": [
       "array([ 1,  4,  7, 10, 13, 16, 19, 22, 25, 28, 31])"
      ]
     },
     "execution_count": 381,
     "metadata": {},
     "output_type": "execute_result"
    }
   ],
   "source": [
    "n = np.arange(32)\n",
    "n[1::3]"
   ]
  },
  {
   "cell_type": "markdown",
   "id": "3c7c0ab5-7a1b-4029-ade6-ccbca2002890",
   "metadata": {},
   "source": [
    "# 6. $\\text{map}(f,{\\bf x})$ -- 파이썬 문법"
   ]
  },
  {
   "cell_type": "markdown",
   "id": "c22cabeb-be17-49b2-8655-cbe3c9d9c408",
   "metadata": {},
   "source": [
    "`-` 브로드캐스팅은 매우 편리한 기능임 "
   ]
  },
  {
   "cell_type": "code",
   "execution_count": 382,
   "id": "11918139-842d-4f2c-87d2-06ebaeda6d27",
   "metadata": {},
   "outputs": [],
   "source": [
    "f = lambda x: x+1 "
   ]
  },
  {
   "cell_type": "code",
   "execution_count": 383,
   "id": "cc60b267-deab-4082-89c7-1fa428e93b24",
   "metadata": {},
   "outputs": [
    {
     "data": {
      "text/plain": [
       "array([2, 3, 4])"
      ]
     },
     "execution_count": 383,
     "metadata": {},
     "output_type": "execute_result"
    }
   ],
   "source": [
    "arr = np.array([1,2,3])\n",
    "f(arr)"
   ]
  },
  {
   "cell_type": "markdown",
   "id": "7dbb7819-1d73-4e4b-a304-b2d3446e6f27",
   "metadata": {},
   "source": [
    "`-` 불가능한 경우도 있음 (1)"
   ]
  },
  {
   "cell_type": "code",
   "execution_count": 384,
   "id": "30917285-8516-4524-a378-60b78ac21454",
   "metadata": {},
   "outputs": [],
   "source": [
    "f = lambda x: np.max(x) - np.min(x)"
   ]
  },
  {
   "cell_type": "code",
   "execution_count": 393,
   "id": "9eec0b63-a43c-4a52-a3db-b17778235162",
   "metadata": {},
   "outputs": [
    {
     "data": {
      "text/plain": [
       "(2, 1, 3)"
      ]
     },
     "execution_count": 393,
     "metadata": {},
     "output_type": "execute_result"
    }
   ],
   "source": [
    "x1 = [1,2,3]\n",
    "x2 = [2,3]\n",
    "x3 = [3,3,4,5,5,6] \n",
    "f(x1),f(x2),f(x3)"
   ]
  },
  {
   "cell_type": "code",
   "execution_count": 397,
   "id": "8021b573-f2bf-4150-a8ae-8ac301178743",
   "metadata": {},
   "outputs": [
    {
     "data": {
      "text/plain": [
       "[2, 1, 3]"
      ]
     },
     "execution_count": 397,
     "metadata": {},
     "output_type": "execute_result"
    }
   ],
   "source": [
    "list(map(f,[x1,x2,x3]))"
   ]
  },
  {
   "cell_type": "markdown",
   "id": "9e834697-f930-42a8-bbba-01d1ac1acdd5",
   "metadata": {},
   "source": [
    "`-` 불가능한 경우도 있었음 (2) "
   ]
  },
  {
   "cell_type": "code",
   "execution_count": 401,
   "id": "dfd1f01a-5db8-4017-b1d0-566a913f1a80",
   "metadata": {},
   "outputs": [],
   "source": [
    "def dff(d):\n",
    "    n = np.linspace(1,15,15)\n",
    "    an = d*n-d*7\n",
    "    return np.sum(1/(an[:5]*an[1:6]))-5/96 "
   ]
  },
  {
   "cell_type": "code",
   "execution_count": 407,
   "id": "5d9eaa21-8ca5-4622-9f9e-5a943993f663",
   "metadata": {},
   "outputs": [
    {
     "data": {
      "text/plain": [
       "0.78125"
      ]
     },
     "execution_count": 407,
     "metadata": {},
     "output_type": "execute_result"
    }
   ],
   "source": [
    "d = 1\n",
    "dff(d)"
   ]
  },
  {
   "cell_type": "markdown",
   "id": "8fca07a7-3fe4-487c-8781-a5789976ce11",
   "metadata": {},
   "source": [
    "이게 되는이유?"
   ]
  },
  {
   "cell_type": "code",
   "execution_count": 404,
   "id": "bd804c94-959a-4ad5-9da3-fa03a76bce66",
   "metadata": {},
   "outputs": [
    {
     "data": {
      "text/plain": [
       "0.78125"
      ]
     },
     "execution_count": 404,
     "metadata": {},
     "output_type": "execute_result"
    }
   ],
   "source": [
    "d = 1 \n",
    "n = np.linspace(1,15,15)\n",
    "an = d*n-d*7\n",
    "np.sum(1/(an[:5]*an[1:6]))-5/96 "
   ]
  },
  {
   "cell_type": "code",
   "execution_count": 408,
   "id": "f1cffb4d-d56e-4d8d-b53e-8f16f234167a",
   "metadata": {},
   "outputs": [
    {
     "ename": "ValueError",
     "evalue": "operands could not be broadcast together with shapes (3,) (15,) ",
     "output_type": "error",
     "traceback": [
      "\u001b[0;31m---------------------------------------------------------------------------\u001b[0m",
      "\u001b[0;31mValueError\u001b[0m                                Traceback (most recent call last)",
      "Cell \u001b[0;32mIn[408], line 2\u001b[0m\n\u001b[1;32m      1\u001b[0m d \u001b[38;5;241m=\u001b[39m np\u001b[38;5;241m.\u001b[39marray([\u001b[38;5;241m1\u001b[39m,\u001b[38;5;241m2\u001b[39m,\u001b[38;5;241m3\u001b[39m])\n\u001b[0;32m----> 2\u001b[0m \u001b[43mdff\u001b[49m\u001b[43m(\u001b[49m\u001b[43md\u001b[49m\u001b[43m)\u001b[49m\n",
      "Cell \u001b[0;32mIn[401], line 3\u001b[0m, in \u001b[0;36mdff\u001b[0;34m(d)\u001b[0m\n\u001b[1;32m      1\u001b[0m \u001b[38;5;28;01mdef\u001b[39;00m \u001b[38;5;21mdff\u001b[39m(d):\n\u001b[1;32m      2\u001b[0m     n \u001b[38;5;241m=\u001b[39m np\u001b[38;5;241m.\u001b[39mlinspace(\u001b[38;5;241m1\u001b[39m,\u001b[38;5;241m15\u001b[39m,\u001b[38;5;241m15\u001b[39m)\n\u001b[0;32m----> 3\u001b[0m     an \u001b[38;5;241m=\u001b[39m \u001b[43md\u001b[49m\u001b[38;5;241;43m*\u001b[39;49m\u001b[43mn\u001b[49m\u001b[38;5;241m-\u001b[39md\u001b[38;5;241m*\u001b[39m\u001b[38;5;241m7\u001b[39m\n\u001b[1;32m      4\u001b[0m     \u001b[38;5;28;01mreturn\u001b[39;00m np\u001b[38;5;241m.\u001b[39msum(\u001b[38;5;241m1\u001b[39m\u001b[38;5;241m/\u001b[39m(an[:\u001b[38;5;241m5\u001b[39m]\u001b[38;5;241m*\u001b[39man[\u001b[38;5;241m1\u001b[39m:\u001b[38;5;241m6\u001b[39m]))\u001b[38;5;241m-\u001b[39m\u001b[38;5;241m5\u001b[39m\u001b[38;5;241m/\u001b[39m\u001b[38;5;241m96\u001b[39m\n",
      "\u001b[0;31mValueError\u001b[0m: operands could not be broadcast together with shapes (3,) (15,) "
     ]
    }
   ],
   "source": [
    "d = np.array([1,2,3])\n",
    "dff(d)"
   ]
  },
  {
   "cell_type": "markdown",
   "id": "828c1389-91a8-40da-9935-b0b0cca3ba7f",
   "metadata": {},
   "source": [
    "이게 안되는 이유?"
   ]
  },
  {
   "cell_type": "code",
   "execution_count": 409,
   "id": "b6b6f99b-40ff-4bb8-bc93-0f1b0dab9db1",
   "metadata": {},
   "outputs": [
    {
     "ename": "ValueError",
     "evalue": "operands could not be broadcast together with shapes (3,) (15,) ",
     "output_type": "error",
     "traceback": [
      "\u001b[0;31m---------------------------------------------------------------------------\u001b[0m",
      "\u001b[0;31mValueError\u001b[0m                                Traceback (most recent call last)",
      "Cell \u001b[0;32mIn[409], line 3\u001b[0m\n\u001b[1;32m      1\u001b[0m d \u001b[38;5;241m=\u001b[39m np\u001b[38;5;241m.\u001b[39marray([\u001b[38;5;241m1\u001b[39m,\u001b[38;5;241m2\u001b[39m,\u001b[38;5;241m3\u001b[39m])\n\u001b[1;32m      2\u001b[0m n \u001b[38;5;241m=\u001b[39m np\u001b[38;5;241m.\u001b[39mlinspace(\u001b[38;5;241m1\u001b[39m,\u001b[38;5;241m15\u001b[39m,\u001b[38;5;241m15\u001b[39m)\n\u001b[0;32m----> 3\u001b[0m an \u001b[38;5;241m=\u001b[39m \u001b[43md\u001b[49m\u001b[38;5;241;43m*\u001b[39;49m\u001b[43mn\u001b[49m\u001b[38;5;241m-\u001b[39md\u001b[38;5;241m*\u001b[39m\u001b[38;5;241m7\u001b[39m\n\u001b[1;32m      4\u001b[0m np\u001b[38;5;241m.\u001b[39msum(\u001b[38;5;241m1\u001b[39m\u001b[38;5;241m/\u001b[39m(an[:\u001b[38;5;241m5\u001b[39m]\u001b[38;5;241m*\u001b[39man[\u001b[38;5;241m1\u001b[39m:\u001b[38;5;241m6\u001b[39m]))\u001b[38;5;241m-\u001b[39m\u001b[38;5;241m5\u001b[39m\u001b[38;5;241m/\u001b[39m\u001b[38;5;241m96\u001b[39m \n",
      "\u001b[0;31mValueError\u001b[0m: operands could not be broadcast together with shapes (3,) (15,) "
     ]
    }
   ],
   "source": [
    "d = np.array([1,2,3])\n",
    "n = np.linspace(1,15,15)\n",
    "an = d*n-d*7\n",
    "np.sum(1/(an[:5]*an[1:6]))-5/96 "
   ]
  },
  {
   "cell_type": "markdown",
   "id": "5624d298-6aa0-4b18-b4d2-cd8fa23659ea",
   "metadata": {},
   "source": [
    "`-` 그동안 가능했던 이유"
   ]
  },
  {
   "cell_type": "code",
   "execution_count": 412,
   "id": "a752e10b-6745-4931-a021-ab9aebfc9e9c",
   "metadata": {},
   "outputs": [],
   "source": [
    "def f(x):\n",
    "    return x+1"
   ]
  },
  {
   "cell_type": "code",
   "execution_count": 416,
   "id": "49891f12-d3e7-4a92-a5bd-77cb19b4df55",
   "metadata": {},
   "outputs": [
    {
     "data": {
      "text/plain": [
       "6"
      ]
     },
     "execution_count": 416,
     "metadata": {},
     "output_type": "execute_result"
    }
   ],
   "source": [
    "x=5\n",
    "x+1"
   ]
  },
  {
   "cell_type": "code",
   "execution_count": 418,
   "id": "aaf0c59a-d3fc-426c-bd94-fb589e12225c",
   "metadata": {},
   "outputs": [
    {
     "data": {
      "text/plain": [
       "array([6, 7])"
      ]
     },
     "execution_count": 418,
     "metadata": {},
     "output_type": "execute_result"
    }
   ],
   "source": [
    "x=np.array([5,6])\n",
    "x+1"
   ]
  },
  {
   "cell_type": "markdown",
   "id": "c9d16aaf-bfe1-482d-aba6-1857c1c6574d",
   "metadata": {},
   "source": [
    "> 요약: 어떠한 함수가 원소별로 각각 적용은 가능하지만 한번에 적용 (브로드캐스팅) 은 불가능할때 map은 매우 강력한 도구이다. "
   ]
  },
  {
   "cell_type": "markdown",
   "id": "e3825455-ecaa-4165-85d5-82004ebcc1d5",
   "metadata": {},
   "source": [
    "# 7. Bool을 이용한 인덱싱 -- 파이썬 문법"
   ]
  },
  {
   "cell_type": "markdown",
   "id": "6571dda1-914d-4de4-b011-651fc04165b3",
   "metadata": {},
   "source": [
    "`-` 기본개념 "
   ]
  },
  {
   "cell_type": "code",
   "execution_count": 430,
   "id": "5bbc25d8-f0b3-4fe6-9021-ffc31b78b3ca",
   "metadata": {},
   "outputs": [
    {
     "data": {
      "text/plain": [
       "array([ 1,  3, 44])"
      ]
     },
     "execution_count": 430,
     "metadata": {},
     "output_type": "execute_result"
    }
   ],
   "source": [
    "arr = np.array([1,-2,3,44])\n",
    "arr[[True,False,True,True]]"
   ]
  },
  {
   "cell_type": "markdown",
   "id": "f31d2f2e-f259-47c3-9137-aa0b62ff6892",
   "metadata": {},
   "source": [
    "`-` 응용 1 -- 양수만 출력 "
   ]
  },
  {
   "cell_type": "code",
   "execution_count": 434,
   "id": "46dc0dba-f704-4cc5-901d-c6ecb995da67",
   "metadata": {},
   "outputs": [
    {
     "data": {
      "text/plain": [
       "array([ 1,  3, 44])"
      ]
     },
     "execution_count": 434,
     "metadata": {},
     "output_type": "execute_result"
    }
   ],
   "source": [
    "arr = np.array([1,-2,3,44])\n",
    "arr[arr>0] "
   ]
  },
  {
   "cell_type": "markdown",
   "id": "8382a62a-135e-4461-9ae8-8f1a4d509dd9",
   "metadata": {},
   "source": [
    "`-` 응용 2 -- 짝수만 출력 "
   ]
  },
  {
   "cell_type": "code",
   "execution_count": 436,
   "id": "0250ce21-a2bf-4038-8bae-4cf5e68d3ac5",
   "metadata": {},
   "outputs": [
    {
     "data": {
      "text/plain": [
       "array([-2, 44])"
      ]
     },
     "execution_count": 436,
     "metadata": {},
     "output_type": "execute_result"
    }
   ],
   "source": [
    "arr = np.array([1,-2,3,44])\n",
    "arr[arr % 2 == 0]"
   ]
  },
  {
   "cell_type": "markdown",
   "id": "6a3cee75-8026-42ac-949e-1388f5f4672a",
   "metadata": {},
   "source": [
    "***알아둘것***"
   ]
  },
  {
   "cell_type": "markdown",
   "id": "d598448e-784f-4314-849d-42110f536392",
   "metadata": {},
   "source": [
    "`-` 예시1 -- 양수를 카운트"
   ]
  },
  {
   "cell_type": "code",
   "execution_count": 440,
   "id": "cd580c3f-cca8-4919-af46-f72ce6d01155",
   "metadata": {},
   "outputs": [
    {
     "data": {
      "text/plain": [
       "3"
      ]
     },
     "execution_count": 440,
     "metadata": {},
     "output_type": "execute_result"
    }
   ],
   "source": [
    "arr = np.array([1,-2,3,44])\n",
    "sum(arr>0)"
   ]
  },
  {
   "cell_type": "markdown",
   "id": "8f87e33e-a6f4-47ab-9607-ce8f4311098e",
   "metadata": {},
   "source": [
    "`-` 예시2 -- 짝수를 카운트"
   ]
  },
  {
   "cell_type": "code",
   "execution_count": 441,
   "id": "8a77f5fc-d335-4705-9f05-b6cecdbb69e6",
   "metadata": {},
   "outputs": [
    {
     "data": {
      "text/plain": [
       "2"
      ]
     },
     "execution_count": 441,
     "metadata": {},
     "output_type": "execute_result"
    }
   ],
   "source": [
    "arr = np.array([1,-2,3,44])\n",
    "sum(arr % 2 == 0)"
   ]
  },
  {
   "cell_type": "markdown",
   "id": "1904c86b-b18f-4091-8c82-901435f4c317",
   "metadata": {},
   "source": [
    "# 8. if문 -- 파이썬 문법"
   ]
  },
  {
   "cell_type": "markdown",
   "id": "d477673b-9fd2-41d3-80e8-7efe7f98d4bd",
   "metadata": {},
   "source": [
    "`-` 예시1"
   ]
  },
  {
   "cell_type": "code",
   "execution_count": 442,
   "id": "f5cc8800-37d2-4c97-b3db-ce1dafb1f0f1",
   "metadata": {},
   "outputs": [],
   "source": [
    "def f(x):\n",
    "    if x>0:\n",
    "        return x\n",
    "    else:\n",
    "        return -x "
   ]
  },
  {
   "cell_type": "code",
   "execution_count": 444,
   "id": "9fd7f92d-1ddb-4915-bf08-a54e700980e6",
   "metadata": {},
   "outputs": [
    {
     "data": {
      "text/plain": [
       "[<matplotlib.lines.Line2D at 0x7f3a03e18a10>]"
      ]
     },
     "execution_count": 444,
     "metadata": {},
     "output_type": "execute_result"
    },
    {
     "data": {
      "image/png": "[encoded data removed]",
      "text/plain": [
       "<Figure size 640x480 with 1 Axes>"
      ]
     },
     "metadata": {},
     "output_type": "display_data"
    }
   ],
   "source": [
    "x = np.linspace(-10,10,101)\n",
    "fx = np.array(list(map(f,x)))\n",
    "plt.plot(x,fx)"
   ]
  },
  {
   "cell_type": "markdown",
   "id": "041e0b77-1293-43e3-bc83-459a36f904ab",
   "metadata": {},
   "source": [
    "`-` 예시2"
   ]
  },
  {
   "cell_type": "code",
   "execution_count": 445,
   "id": "7bf4005d-04bd-4378-9612-e97f238cac42",
   "metadata": {},
   "outputs": [],
   "source": [
    "def f(x):\n",
    "    return x if x>0 else -x "
   ]
  },
  {
   "cell_type": "code",
   "execution_count": 446,
   "id": "d389f55a-4fca-4c8c-9e72-4e11b932c40a",
   "metadata": {},
   "outputs": [
    {
     "data": {
      "text/plain": [
       "[<matplotlib.lines.Line2D at 0x7f3a03bb5310>]"
      ]
     },
     "execution_count": 446,
     "metadata": {},
     "output_type": "execute_result"
    },
    {
     "data": {
      "image/png": "[encoded data removed]",
      "text/plain": [
       "<Figure size 640x480 with 1 Axes>"
      ]
     },
     "metadata": {},
     "output_type": "display_data"
    }
   ],
   "source": [
    "x = np.linspace(-10,10,101)\n",
    "fx = np.array(list(map(f,x)))\n",
    "plt.plot(x,fx)"
   ]
  },
  {
   "cell_type": "markdown",
   "id": "177c8096-8709-48c5-87b2-0e71bbd7f6f4",
   "metadata": {},
   "source": [
    "`-` 예시3"
   ]
  },
  {
   "cell_type": "code",
   "execution_count": 447,
   "id": "51e47494-83e0-46d7-80a1-669a6d7582d1",
   "metadata": {},
   "outputs": [],
   "source": [
    "f = lambda x: x if x>0 else -x "
   ]
  },
  {
   "cell_type": "code",
   "execution_count": 448,
   "id": "b0977eb8-9f4f-42bc-abce-83497d9a08c6",
   "metadata": {},
   "outputs": [
    {
     "data": {
      "text/plain": [
       "[<matplotlib.lines.Line2D at 0x7f3a03a3f290>]"
      ]
     },
     "execution_count": 448,
     "metadata": {},
     "output_type": "execute_result"
    },
    {
     "data": {
      "image/png": "[encoded data removed]",
      "text/plain": [
       "<Figure size 640x480 with 1 Axes>"
      ]
     },
     "metadata": {},
     "output_type": "display_data"
    }
   ],
   "source": [
    "x = np.linspace(-10,10,101)\n",
    "fx = np.array(list(map(f,x)))\n",
    "plt.plot(x,fx)"
   ]
  },
  {
   "cell_type": "markdown",
   "id": "bcc653f3-9493-42db-8af2-b010987c0ec2",
   "metadata": {},
   "source": [
    "# 9. np.random 모듈 -- 파이썬 문법"
   ]
  },
  {
   "cell_type": "markdown",
   "id": "0715b5d7-c590-4331-8479-95972f6faa1c",
   "metadata": {},
   "source": [
    "## A. np.random.rand()"
   ]
  },
  {
   "cell_type": "markdown",
   "id": "862bad93-32d8-4815-a023-c10947e98ddb",
   "metadata": {},
   "source": [
    "`-` 0~1 사이에서 10개의 난수생성 "
   ]
  },
  {
   "cell_type": "code",
   "execution_count": 449,
   "id": "552ed617-f280-4d4a-9121-93878e78d431",
   "metadata": {},
   "outputs": [
    {
     "data": {
      "text/plain": [
       "array([0.43345371, 0.48324862, 0.48046707, 0.41056049, 0.56188841,\n",
       "       0.58762904, 0.6645858 , 0.60568829, 0.83033841, 0.4660302 ])"
      ]
     },
     "execution_count": 449,
     "metadata": {},
     "output_type": "execute_result"
    }
   ],
   "source": [
    "np.random.rand(10)"
   ]
  },
  {
   "cell_type": "markdown",
   "id": "1ba031be-97ca-4a34-b81c-1898b4abf495",
   "metadata": {},
   "source": [
    "`-` 0~2 사이에서 10개의 난수생성 "
   ]
  },
  {
   "cell_type": "code",
   "execution_count": 450,
   "id": "583ee449-c2a1-4577-9dcd-6362d8b4e940",
   "metadata": {},
   "outputs": [
    {
     "data": {
      "text/plain": [
       "array([0.44894259, 1.8416822 , 0.50164259, 1.01601855, 0.21073439,\n",
       "       1.8049244 , 0.86548008, 0.38544391, 0.13816874, 1.22858088])"
      ]
     },
     "execution_count": 450,
     "metadata": {},
     "output_type": "execute_result"
    }
   ],
   "source": [
    "np.random.rand(10)*2"
   ]
  },
  {
   "cell_type": "markdown",
   "id": "3ed329a5-f42a-4669-81f6-ece9f1b1c51f",
   "metadata": {},
   "source": [
    "`-` 1~3 사이에서 10개의 난수생성 "
   ]
  },
  {
   "cell_type": "code",
   "execution_count": 451,
   "id": "ba660293-764b-4f05-a092-e25855c28db0",
   "metadata": {},
   "outputs": [
    {
     "data": {
      "text/plain": [
       "array([1.58013021, 1.96358901, 2.62137695, 1.74617053, 2.38021729,\n",
       "       1.00043864, 1.42801985, 1.65666288, 2.80405753, 1.23691426])"
      ]
     },
     "execution_count": 451,
     "metadata": {},
     "output_type": "execute_result"
    }
   ],
   "source": [
    "np.random.rand(10)*2 + 1"
   ]
  },
  {
   "cell_type": "markdown",
   "id": "8ee6500a-4630-4665-ab7e-266f3f929a76",
   "metadata": {},
   "source": [
    "## B. np.random.randn()"
   ]
  },
  {
   "cell_type": "markdown",
   "id": "8d343ae7-3443-4f01-8625-cf07727faab8",
   "metadata": {},
   "source": [
    "`-` N(0,1)에서 10개의 난수생성 "
   ]
  },
  {
   "cell_type": "code",
   "execution_count": 458,
   "id": "a557d3eb-cd3a-47cd-979b-bd55674591f5",
   "metadata": {},
   "outputs": [
    {
     "data": {
      "text/plain": [
       "array([-0.88043002, -0.75000612, -0.46393189,  0.73721724, -0.66208613,\n",
       "        0.84740615, -0.31835775,  0.60157946,  0.62744116,  2.06223706])"
      ]
     },
     "execution_count": 458,
     "metadata": {},
     "output_type": "execute_result"
    }
   ],
   "source": [
    "np.random.randn(10) # 표준정규분포에서 10개의 샘플 추출 "
   ]
  },
  {
   "cell_type": "markdown",
   "id": "babbefd7-3446-4abc-9b4d-fe31c30829a8",
   "metadata": {},
   "source": [
    "`-` N(1,1)에서 10개 난수생성 "
   ]
  },
  {
   "cell_type": "code",
   "execution_count": 453,
   "id": "a50afff9-fd56-4b82-b9ca-588fae850c58",
   "metadata": {},
   "outputs": [
    {
     "data": {
      "text/plain": [
       "array([ 1.50801901,  0.06945884,  2.52305677,  0.25080242, -0.25058225,\n",
       "        1.81696343, -0.47341629,  0.51879014,  2.55038708,  0.58788704])"
      ]
     },
     "execution_count": 453,
     "metadata": {},
     "output_type": "execute_result"
    }
   ],
   "source": [
    "np.random.randn(10) + 1"
   ]
  },
  {
   "cell_type": "markdown",
   "id": "a8d40309-3966-41fb-8499-b4d914930df3",
   "metadata": {},
   "source": [
    "`-` N(0,4) 에서 10개 난수생성 "
   ]
  },
  {
   "cell_type": "code",
   "execution_count": 454,
   "id": "f2137764-c212-408b-a080-adc0798e3c06",
   "metadata": {},
   "outputs": [
    {
     "data": {
      "text/plain": [
       "array([-2.26593271, -1.62304968, -1.71372316,  2.93723947,  0.63497107,\n",
       "        2.96605112,  0.71536533,  2.64037886,  0.10782247, -2.97822434])"
      ]
     },
     "execution_count": 454,
     "metadata": {},
     "output_type": "execute_result"
    }
   ],
   "source": [
    "np.random.randn(10)*2"
   ]
  },
  {
   "cell_type": "markdown",
   "id": "97d46124-d469-4a38-ad62-72000b5ebc3a",
   "metadata": {},
   "source": [
    "`-` N(3,4) 에서 10개 난수생성 "
   ]
  },
  {
   "cell_type": "code",
   "execution_count": 463,
   "id": "f8d691be-920b-4b56-ba75-acbd3103a38f",
   "metadata": {},
   "outputs": [
    {
     "data": {
      "text/plain": [
       "array([ 3.71923104,  1.77496469,  4.04116354,  4.27443252,  2.59130929,\n",
       "        5.48551961, -1.09164073,  3.08090641,  0.88721243,  3.34579357])"
      ]
     },
     "execution_count": 463,
     "metadata": {},
     "output_type": "execute_result"
    }
   ],
   "source": [
    "np.random.randn(10)*2+3 "
   ]
  },
  {
   "cell_type": "markdown",
   "id": "2d5d2b89-71b6-4c96-af2a-b78bc1945769",
   "metadata": {},
   "source": [
    "## C. np.random.randint()"
   ]
  },
  {
   "cell_type": "markdown",
   "id": "6eada5b7-e14a-4913-8bea-104ab5f3828d",
   "metadata": {},
   "source": [
    "`-` [0,7) 에서 10개의 정수생성 "
   ]
  },
  {
   "cell_type": "code",
   "execution_count": 466,
   "id": "6af4926f-2fa9-43b3-ae48-337cc1c405f7",
   "metadata": {},
   "outputs": [
    {
     "data": {
      "text/plain": [
       "array([0, 1, 5, 0, 2, 3, 1, 3, 0, 5])"
      ]
     },
     "execution_count": 466,
     "metadata": {},
     "output_type": "execute_result"
    }
   ],
   "source": [
    "np.random.randint(0,7,size=10) # [0,7)의 범위에서 10개의 정수 생성 "
   ]
  },
  {
   "cell_type": "markdown",
   "id": "f59d32cf-7a0f-47f4-888c-fe2cf669e730",
   "metadata": {},
   "source": [
    "`-` [10,20) 에서 10개의 정수생성 "
   ]
  },
  {
   "cell_type": "code",
   "execution_count": 467,
   "id": "3cd731f1-960b-44b6-b907-3e5889fc8870",
   "metadata": {},
   "outputs": [
    {
     "data": {
      "text/plain": [
       "array([11, 10, 10, 19, 13, 11, 11, 11, 15, 19])"
      ]
     },
     "execution_count": 467,
     "metadata": {},
     "output_type": "execute_result"
    }
   ],
   "source": [
    "np.random.randint(10,20,size=10) # [0,7)의 범위에서 10개의 정수 생성 "
   ]
  },
  {
   "cell_type": "markdown",
   "id": "a3d369d5-382b-480a-a750-04cab4f60432",
   "metadata": {},
   "source": [
    "## D. np.random.choice()"
   ]
  },
  {
   "cell_type": "markdown",
   "id": "538e0a59-0cb4-4927-9372-cc96f959d306",
   "metadata": {},
   "source": [
    "`-` [11,22,33] 에서 중복허용하여 20개 추출"
   ]
  },
  {
   "cell_type": "code",
   "execution_count": 470,
   "id": "8c3aac5f-28dc-429e-8dfd-6c85a369367c",
   "metadata": {},
   "outputs": [
    {
     "data": {
      "text/plain": [
       "array([33, 33, 11, 33, 11, 11, 33, 22, 11, 33, 33, 33, 22, 33, 11, 11, 22,\n",
       "       22, 33, 22])"
      ]
     },
     "execution_count": 470,
     "metadata": {},
     "output_type": "execute_result"
    }
   ],
   "source": [
    "np.random.choice([11,22,33],20) "
   ]
  },
  {
   "cell_type": "markdown",
   "id": "8a52bc47-f7f4-413d-b22e-e27ae2c46d78",
   "metadata": {},
   "source": [
    "`-` [11,22,33] 에서 중복허용하여 3개 추출"
   ]
  },
  {
   "cell_type": "code",
   "execution_count": 483,
   "id": "0a93d2a0-71b2-4baf-bafe-8f0b2399b0b0",
   "metadata": {},
   "outputs": [
    {
     "data": {
      "text/plain": [
       "array([33, 33, 22])"
      ]
     },
     "execution_count": 483,
     "metadata": {},
     "output_type": "execute_result"
    }
   ],
   "source": [
    "np.random.seed(4)\n",
    "np.random.choice([11,22,33],3) "
   ]
  },
  {
   "cell_type": "code",
   "execution_count": 484,
   "id": "ecc10901-db5f-4796-9672-9c4698d3bdcc",
   "metadata": {},
   "outputs": [
    {
     "data": {
      "text/plain": [
       "array([33, 22, 33])"
      ]
     },
     "execution_count": 484,
     "metadata": {},
     "output_type": "execute_result"
    }
   ],
   "source": [
    "np.random.seed(5)\n",
    "np.random.choice([11,22,33],3) "
   ]
  },
  {
   "cell_type": "markdown",
   "id": "0d475a3e-2059-498f-9c58-cd72f9fd7cf7",
   "metadata": {},
   "source": [
    "`-` [11,22,33] 에서 중복허용하지 않고 3개 추출"
   ]
  },
  {
   "cell_type": "code",
   "execution_count": 489,
   "id": "4dc7b3a4-e560-48a9-a04a-1f6c815028b6",
   "metadata": {},
   "outputs": [
    {
     "data": {
      "text/plain": [
       "array([22, 33, 11])"
      ]
     },
     "execution_count": 489,
     "metadata": {},
     "output_type": "execute_result"
    }
   ],
   "source": [
    "np.random.choice([11,22,33],3,replace=False) "
   ]
  },
  {
   "cell_type": "markdown",
   "id": "ca6e4878-2009-4a4a-8c6a-bf1fa7ca2cba",
   "metadata": {},
   "source": [
    "# 10. 함수를 리턴하는 함수 -- 파이썬 문법"
   ]
  },
  {
   "cell_type": "markdown",
   "id": "42e3d722-bb66-425e-98c5-f9b5556cb02a",
   "metadata": {},
   "source": [
    "`-` 예제1: $(P,Q)$를 입력으로 받아, 기울기가 2이고 점 $(P,Q)$를 지나는 함수를 리턴하는 함수를 구현하라."
   ]
  },
  {
   "cell_type": "code",
   "execution_count": 493,
   "id": "f9e1d10d-325c-47b8-9458-ecd4b7317537",
   "metadata": {},
   "outputs": [],
   "source": [
    "def make_func(p,q):\n",
    "    def func(x):\n",
    "        return 2*(x-p)+q\n",
    "    return func"
   ]
  },
  {
   "cell_type": "code",
   "execution_count": 500,
   "id": "2cc0ebfd-843f-43b9-8b80-55522dd52259",
   "metadata": {},
   "outputs": [
    {
     "data": {
      "text/plain": [
       "[<matplotlib.lines.Line2D at 0x7f3a037895e0>]"
      ]
     },
     "execution_count": 500,
     "metadata": {},
     "output_type": "execute_result"
    },
    {
     "data": {
      "image/png": "[encoded data removed]",
      "text/plain": [
       "<Figure size 640x480 with 1 Axes>"
      ]
     },
     "metadata": {},
     "output_type": "display_data"
    }
   ],
   "source": [
    "x = np.linspace(-5,5,101)\n",
    "p,q = 2,3\n",
    "f = make_func(p,q)\n",
    "plt.plot(x,f(x),'--')\n",
    "plt.plot([p],[q],'x')"
   ]
  },
  {
   "cell_type": "markdown",
   "id": "07fc882b-0177-48a0-a0f2-56bfbb0b3cc8",
   "metadata": {},
   "source": [
    "`-` 예제2: $f(x)=x^2$ 위의 임의의 점을 입력하면 접선을 리턴하는 함수를 구현하라. "
   ]
  },
  {
   "cell_type": "code",
   "execution_count": 508,
   "id": "075c5180-e365-4a73-aed5-9c41d0fc911b",
   "metadata": {},
   "outputs": [],
   "source": [
    "def make_func(x0):\n",
    "    f = lambda x: x**2\n",
    "    def func(x):\n",
    "        h = 0.0001\n",
    "        a = (f(x0+h)-f(x0))/h \n",
    "        return a*(x-x0) + f(x0)\n",
    "    return func"
   ]
  },
  {
   "cell_type": "code",
   "execution_count": 515,
   "id": "773607a4-e3ad-41b6-a019-5dd3a9f167d0",
   "metadata": {},
   "outputs": [
    {
     "data": {
      "text/plain": [
       "[<matplotlib.lines.Line2D at 0x7f3a0a730bc0>]"
      ]
     },
     "execution_count": 515,
     "metadata": {},
     "output_type": "execute_result"
    },
    {
     "data": {
      "image/png": "[encoded data removed]",
      "text/plain": [
       "<Figure size 640x480 with 1 Axes>"
      ]
     },
     "metadata": {},
     "output_type": "display_data"
    }
   ],
   "source": [
    "x = np.linspace(-5,5,101)\n",
    "tan_line = make_func(1.2)\n",
    "plt.plot(x,x**2,'--')\n",
    "plt.plot(x,tan_line(x),'--')"
   ]
  }
 ],
 "metadata": {
  "kernelspec": {
   "display_name": "Python 3 (ipykernel)",
   "language": "python",
   "name": "python3"
  },
  "language_info": {
   "codemirror_mode": {
    "name": "ipython",
    "version": 3
   },
   "file_extension": ".py",
   "mimetype": "text/x-python",
   "name": "python",
   "nbconvert_exporter": "python",
   "pygments_lexer": "ipython3",
   "version": "3.12.2"
  }
 },
 "nbformat": 4,
 "nbformat_minor": 5
}
