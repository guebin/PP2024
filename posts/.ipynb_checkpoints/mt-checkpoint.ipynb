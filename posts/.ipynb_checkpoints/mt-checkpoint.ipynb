{
 "cells": [
  {
   "cell_type": "raw",
   "id": "bfb4afee-1a64-446b-807e-7a1b7d4f4607",
   "metadata": {
    "id": "87b5cded-346b-4915-acf5-b5ec93a5207d"
   },
   "source": [
    "---\n",
    "title: \"03wk-1: 퀴즈2\"\n",
    "author: \"최규빈\"\n",
    "date: \"03/20/2024\"\n",
    "draft: true\n",
    "---"
   ]
  },
  {
   "cell_type": "markdown",
   "id": "a311ed0c-26f9-4d93-aab1-5d713f774afe",
   "metadata": {
    "id": "e67ab8e0"
   },
   "source": [
    "<a href=\"https://colab.research.google.com/github/guebin/PP2024/blob/main/posts/mt.ipynb\"><img src=\"https://colab.research.google.com/assets/colab-badge.svg\" style=\"text-align: left\"></a>"
   ]
  },
  {
   "cell_type": "code",
   "execution_count": 12,
   "id": "2c274e6e-60fb-491d-ae64-1d06fe856d0a",
   "metadata": {},
   "outputs": [],
   "source": [
    "#{{<video https://youtu.be/playlist?list=PLQqh36zP38-xkTDmutNidYnOkCgn2Zkdk&si=DPIWwBqzxkGHWIAr >}}"
   ]
  },
  {
   "cell_type": "markdown",
   "id": "6d5e9b5d-cbec-4b92-83fc-2ce23d0dd7d0",
   "metadata": {},
   "source": [
    "# 문제 1. -- 10점"
   ]
  }
 ],
 "metadata": {
  "kernelspec": {
   "display_name": "Python 3 (ipykernel)",
   "language": "python",
   "name": "python3"
  },
  "language_info": {
   "codemirror_mode": {
    "name": "ipython",
    "version": 3
   },
   "file_extension": ".py",
   "mimetype": "text/x-python",
   "name": "python",
   "nbconvert_exporter": "python",
   "pygments_lexer": "ipython3",
   "version": "3.12.2"
  }
 },
 "nbformat": 4,
 "nbformat_minor": 5
}
