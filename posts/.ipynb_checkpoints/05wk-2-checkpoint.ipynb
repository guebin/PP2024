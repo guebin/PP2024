{
 "cells": [
  {
   "cell_type": "raw",
   "id": "94a10daa-e302-461e-ad36-b6432ec09681",
   "metadata": {},
   "source": [
    "---\n",
    "title: \"05wk-2: 파이썬의 자료형 (2)\"\n",
    "author: \"최규빈\"\n",
    "date: \"04/05/2024\"\n",
    "draft: false\n",
    "---"
   ]
  },
  {
   "cell_type": "markdown",
   "id": "51a01183-1cfe-473e-9a26-2582f128514f",
   "metadata": {
    "id": "e67ab8e0"
   },
   "source": [
    "<a href=\"https://colab.research.google.com/github/guebin/PP2024/blob/main/posts/05wk-2.ipynb\"><img src=\"https://colab.research.google.com/assets/colab-badge.svg\" style=\"text-align: left\"></a>"
   ]
  },
  {
   "cell_type": "markdown",
   "id": "6a978e7b-a578-40b5-91de-98d0acc95fbf",
   "metadata": {},
   "source": [
    "# 1. 강의영상 "
   ]
  },
  {
   "cell_type": "markdown",
   "id": "dbc0135f-e61e-4428-88ff-a62ad38f58b0",
   "metadata": {
    "tags": []
   },
   "source": [
    "{{<video https://youtu.be/playlist?list=PLQqh36zP38-z4lm3mTcpg5NgnWAz8sDcJ&si=wVTM7MEymev10lRH >}}"
   ]
  },
  {
   "cell_type": "markdown",
   "id": "6c070fcc-7eca-439a-8d4e-9394eeb55af7",
   "metadata": {},
   "source": [
    "# 2. Imports "
   ]
  },
  {
   "cell_type": "code",
   "execution_count": 30,
   "id": "a6f35f30-1b70-4329-acf2-88ad3f10a659",
   "metadata": {
    "tags": []
   },
   "outputs": [],
   "source": [
    "pass"
   ]
  },
  {
   "cell_type": "markdown",
   "id": "3d9f1ced-e3e6-49de-892d-518bebb3ccfc",
   "metadata": {},
   "source": [
    "# 3. `tuple`"
   ]
  },
  {
   "cell_type": "markdown",
   "id": "a41f05cf-8417-4ea8-bdc3-2a8906ff0122",
   "metadata": {},
   "source": [
    "## A. 리스트 vs 튜플 "
   ]
  },
  {
   "cell_type": "markdown",
   "id": "63efaa3c-9e28-4b8a-8837-27e3fe819ece",
   "metadata": {},
   "source": [
    "`-` 공통점: (1) 컨테이너형타입이라는 점, 그리고 (2) 연산 및 인덱싱을 하는 방법은 리스트와 같음 \n",
    "- 차이점1: [] 대신에 ()를 사용한다. \n",
    "- 차이점2: 불변형이다. (원소의 값을 바꿀 수 없음) \n",
    "- 차이점3: 하나의 원소를 선언할 때는 (1,)와 같이 해야 한다.\n",
    "- 차이점4: 의미가 명확할때는 튜플의 ()를 생략가능하다. "
   ]
  },
  {
   "cell_type": "markdown",
   "id": "147e7d6d-3631-4c3a-87d7-34dbf5b9dd64",
   "metadata": {},
   "source": [
    "`-` 컨테이너형이라는 것이 무슨의미? "
   ]
  },
  {
   "cell_type": "code",
   "execution_count": 39,
   "id": "38e8aa9b-479c-4b3d-89cb-1e9f969799d6",
   "metadata": {},
   "outputs": [],
   "source": [
    "a=(4,6,'pencil', 3.2+4.6j, [3,4])"
   ]
  },
  {
   "cell_type": "code",
   "execution_count": 41,
   "id": "ee84edcf-5a72-4c18-a7dc-30c6205a4a2a",
   "metadata": {},
   "outputs": [
    {
     "data": {
      "text/plain": [
       "str"
      ]
     },
     "execution_count": 41,
     "metadata": {},
     "output_type": "execute_result"
    }
   ],
   "source": [
    "type(a[2])"
   ]
  },
  {
   "cell_type": "code",
   "execution_count": 42,
   "id": "21987988-4ee6-4914-b26d-c5f7c4662f6f",
   "metadata": {},
   "outputs": [
    {
     "data": {
      "text/plain": [
       "complex"
      ]
     },
     "execution_count": 42,
     "metadata": {},
     "output_type": "execute_result"
    }
   ],
   "source": [
    "type(a[3])"
   ]
  },
  {
   "cell_type": "markdown",
   "id": "01feef79-787d-486a-b68c-34cdb201d63c",
   "metadata": {},
   "source": [
    "`-` 연산의 유사성 "
   ]
  },
  {
   "cell_type": "code",
   "execution_count": 43,
   "id": "8615ae16-ad1c-49c7-8385-36ccd0b1c51e",
   "metadata": {},
   "outputs": [
    {
     "data": {
      "text/plain": [
       "(1, 2, 3, 4, 5)"
      ]
     },
     "execution_count": 43,
     "metadata": {},
     "output_type": "execute_result"
    }
   ],
   "source": [
    "(1,2) + (3,4,5)"
   ]
  },
  {
   "cell_type": "code",
   "execution_count": 44,
   "id": "a28d4fba-671d-4877-94e5-dea249d603f7",
   "metadata": {},
   "outputs": [
    {
     "data": {
      "text/plain": [
       "(1, 2, 1, 2)"
      ]
     },
     "execution_count": 44,
     "metadata": {},
     "output_type": "execute_result"
    }
   ],
   "source": [
    "(1,2) * 2"
   ]
  },
  {
   "cell_type": "markdown",
   "id": "d3cc644e-55ad-42b6-8601-01b1fb36aaed",
   "metadata": {},
   "source": [
    "`-` 인덱싱의 유사성 "
   ]
  },
  {
   "cell_type": "code",
   "execution_count": 47,
   "id": "22e5ff0e-5dee-40bc-a4ef-2b3f4fdf5ffb",
   "metadata": {},
   "outputs": [
    {
     "data": {
      "text/plain": [
       "(21, 31)"
      ]
     },
     "execution_count": 47,
     "metadata": {},
     "output_type": "execute_result"
    }
   ],
   "source": [
    "tpl = (11,21,31)\n",
    "tpl[1:]"
   ]
  },
  {
   "cell_type": "markdown",
   "id": "cfa8fb61-2eb1-4bbb-8b23-909387246a1d",
   "metadata": {},
   "source": [
    "`-` 차이점2: 불변형이라는 것은 무슨의미? "
   ]
  },
  {
   "cell_type": "code",
   "execution_count": 13,
   "id": "8846c662-1799-4694-80f0-8e0ec48d7d42",
   "metadata": {},
   "outputs": [
    {
     "ename": "TypeError",
     "evalue": "'tuple' object does not support item assignment",
     "output_type": "error",
     "traceback": [
      "\u001b[0;31m---------------------------------------------------------------------------\u001b[0m",
      "\u001b[0;31mTypeError\u001b[0m                                 Traceback (most recent call last)",
      "Input \u001b[0;32mIn [13]\u001b[0m, in \u001b[0;36m<cell line: 1>\u001b[0;34m()\u001b[0m\n\u001b[0;32m----> 1\u001b[0m a[\u001b[38;5;241m2\u001b[39m] \u001b[38;5;241m=\u001b[39m \u001b[38;5;124m'\u001b[39m\u001b[38;5;124mPencil\u001b[39m\u001b[38;5;124m'\u001b[39m\n",
      "\u001b[0;31mTypeError\u001b[0m: 'tuple' object does not support item assignment"
     ]
    }
   ],
   "source": [
    "a[2] = 'Pencil'"
   ]
  },
  {
   "cell_type": "markdown",
   "id": "6875bbf4-921e-4c48-96ce-de3d08304cdf",
   "metadata": {},
   "source": [
    "참고로 a를 튜플이 아니라 리스트로 선언하면 값이 잘 바뀐다. "
   ]
  },
  {
   "cell_type": "code",
   "execution_count": 14,
   "id": "fda9a368-da93-4ae5-8505-53733bfe8102",
   "metadata": {},
   "outputs": [],
   "source": [
    "a=[4,6,'pencil', 3.2+4.6j, [3,4]]"
   ]
  },
  {
   "cell_type": "code",
   "execution_count": 15,
   "id": "afd3a17e-bbf4-451d-9320-a5bdc767d2fc",
   "metadata": {},
   "outputs": [
    {
     "data": {
      "text/plain": [
       "'pencil'"
      ]
     },
     "execution_count": 15,
     "metadata": {},
     "output_type": "execute_result"
    }
   ],
   "source": [
    "a[2]"
   ]
  },
  {
   "cell_type": "code",
   "execution_count": 16,
   "id": "979ea123-2aae-473a-bf9d-4678e36663e5",
   "metadata": {},
   "outputs": [],
   "source": [
    "a[2]='Pencil'"
   ]
  },
  {
   "cell_type": "code",
   "execution_count": 17,
   "id": "8224ef5b-45d0-4c38-a7df-d7578cc2a463",
   "metadata": {},
   "outputs": [
    {
     "data": {
      "text/plain": [
       "[4, 6, 'Pencil', (3.2+4.6j), [3, 4]]"
      ]
     },
     "execution_count": 17,
     "metadata": {},
     "output_type": "execute_result"
    }
   ],
   "source": [
    "a"
   ]
  },
  {
   "cell_type": "markdown",
   "id": "b5a0402b-1813-4aad-ad24-661b2d622f2c",
   "metadata": {},
   "source": [
    "`-` 차이점3: 하나의 원소로 이루어진 튜플을 만들때는 쉼표를 붙여야 함. "
   ]
  },
  {
   "cell_type": "code",
   "execution_count": 238,
   "id": "29405f89-2679-4add-9ae1-b7c08c191f17",
   "metadata": {},
   "outputs": [
    {
     "data": {
      "text/plain": [
       "[1, 2, 3, 4]"
      ]
     },
     "execution_count": 238,
     "metadata": {},
     "output_type": "execute_result"
    }
   ],
   "source": [
    "[1]+[2,3,4]"
   ]
  },
  {
   "cell_type": "code",
   "execution_count": 239,
   "id": "5d7b4b31-5a01-45e2-9114-f4649c953f33",
   "metadata": {},
   "outputs": [
    {
     "data": {
      "text/plain": [
       "(1, 2, 3, 4)"
      ]
     },
     "execution_count": 239,
     "metadata": {},
     "output_type": "execute_result"
    }
   ],
   "source": [
    "(1,)+(2,3,4)"
   ]
  },
  {
   "cell_type": "markdown",
   "id": "110cc189-afbb-477d-90da-d3a51b81769d",
   "metadata": {},
   "source": [
    "`-` 차이점4: 의미가 명확할때 튜플의 괄호는 생략가능하다. (이게 중요합니다) "
   ]
  },
  {
   "cell_type": "code",
   "execution_count": 26,
   "id": "1a8bd9ea-6aa8-4641-ae4b-a9742cbdf1fa",
   "metadata": {},
   "outputs": [
    {
     "data": {
      "text/plain": [
       "(1, 2)"
      ]
     },
     "execution_count": 26,
     "metadata": {},
     "output_type": "execute_result"
    }
   ],
   "source": [
    "a=1,2\n",
    "a"
   ]
  },
  {
   "cell_type": "markdown",
   "id": "35410026-0a00-4a95-8c97-1910e6cd7ccc",
   "metadata": {},
   "source": [
    "의미가 명확할때 생략해야함 "
   ]
  },
  {
   "cell_type": "code",
   "execution_count": 240,
   "id": "f952afc7-6272-47ad-a88d-540885d5e957",
   "metadata": {},
   "outputs": [
    {
     "data": {
      "text/plain": [
       "(1, 5, 4, 5)"
      ]
     },
     "execution_count": 240,
     "metadata": {},
     "output_type": "execute_result"
    }
   ],
   "source": [
    "1,2 + 3,4,5 "
   ]
  },
  {
   "cell_type": "code",
   "execution_count": 241,
   "id": "88ce1647-5b4c-4b0b-9506-e05de29c8df4",
   "metadata": {},
   "outputs": [
    {
     "data": {
      "text/plain": [
       "(1, 2, 3, 4, 5)"
      ]
     },
     "execution_count": 241,
     "metadata": {},
     "output_type": "execute_result"
    }
   ],
   "source": [
    "(1,2) + (3,4,5) "
   ]
  },
  {
   "cell_type": "markdown",
   "id": "69ebb215-957b-4f92-bd2e-c77c6c4d3d24",
   "metadata": {},
   "source": [
    "## B. 선언 "
   ]
  },
  {
   "cell_type": "markdown",
   "id": "4698d1d2-2c37-4961-b13d-18c2bad3b581",
   "metadata": {},
   "source": [
    "`-` 소괄호를 이용 "
   ]
  },
  {
   "cell_type": "code",
   "execution_count": 35,
   "id": "f3d8408f-63b3-4347-9138-2f38cac664e6",
   "metadata": {},
   "outputs": [
    {
     "data": {
      "text/plain": [
       "(1, 2, 3)"
      ]
     },
     "execution_count": 35,
     "metadata": {},
     "output_type": "execute_result"
    }
   ],
   "source": [
    "a=(1,2,3)\n",
    "a"
   ]
  },
  {
   "cell_type": "code",
   "execution_count": 36,
   "id": "1c292263-9c7f-4865-b9f8-5d9ddbb63fa8",
   "metadata": {},
   "outputs": [
    {
     "data": {
      "text/plain": [
       "tuple"
      ]
     },
     "execution_count": 36,
     "metadata": {},
     "output_type": "execute_result"
    }
   ],
   "source": [
    "type(a)"
   ]
  },
  {
   "cell_type": "markdown",
   "id": "d283fa8d-4860-4c6e-ae75-04706ccff6d8",
   "metadata": {},
   "source": [
    "`-` 생략가능하다는 점이 포인트 "
   ]
  },
  {
   "cell_type": "code",
   "execution_count": 37,
   "id": "76be555a-fcdc-4c51-bded-81a9a2518571",
   "metadata": {},
   "outputs": [
    {
     "data": {
      "text/plain": [
       "(1, 2, 3)"
      ]
     },
     "execution_count": 37,
     "metadata": {},
     "output_type": "execute_result"
    }
   ],
   "source": [
    "a=1,2,3\n",
    "a"
   ]
  },
  {
   "cell_type": "code",
   "execution_count": 38,
   "id": "321f37f9-e768-438d-80ca-267000078a51",
   "metadata": {},
   "outputs": [
    {
     "data": {
      "text/plain": [
       "tuple"
      ]
     },
     "execution_count": 38,
     "metadata": {},
     "output_type": "execute_result"
    }
   ],
   "source": [
    "type(a)"
   ]
  },
  {
   "cell_type": "markdown",
   "id": "c0559a7e-69d3-43fa-9119-d39f2aa52aac",
   "metadata": {},
   "source": [
    "`-` 원소가 하나인 튜플을 만들고 싶다면? "
   ]
  },
  {
   "cell_type": "code",
   "execution_count": 39,
   "id": "31c1bb01-c797-4e3b-bf11-de8964ce1bb6",
   "metadata": {},
   "outputs": [
    {
     "data": {
      "text/plain": [
       "(1,)"
      ]
     },
     "execution_count": 39,
     "metadata": {},
     "output_type": "execute_result"
    }
   ],
   "source": [
    "a=(1,)\n",
    "a"
   ]
  },
  {
   "cell_type": "markdown",
   "id": "5dbaf19d-f029-421d-819e-6f0fd2a6a8d4",
   "metadata": {},
   "source": [
    "## C. 연산 "
   ]
  },
  {
   "cell_type": "markdown",
   "id": "209117f9-1de4-4cfd-a13c-96fcb164dd00",
   "metadata": {},
   "source": [
    "`-` 리스트와 동일 "
   ]
  },
  {
   "cell_type": "code",
   "execution_count": 40,
   "id": "d908daa9-9d1a-4986-95ec-232b7ebc2835",
   "metadata": {},
   "outputs": [
    {
     "data": {
      "text/plain": [
       "(1, 2, 3, 4, 5)"
      ]
     },
     "execution_count": 40,
     "metadata": {},
     "output_type": "execute_result"
    }
   ],
   "source": [
    "(1,2)+(3,4,5)"
   ]
  },
  {
   "cell_type": "code",
   "execution_count": 41,
   "id": "727d8bc6-5fae-4129-aa5e-120cb39ad77b",
   "metadata": {},
   "outputs": [
    {
     "data": {
      "text/plain": [
       "(1, 2, 1, 2)"
      ]
     },
     "execution_count": 41,
     "metadata": {},
     "output_type": "execute_result"
    }
   ],
   "source": [
    "(1,2)*2"
   ]
  },
  {
   "cell_type": "markdown",
   "id": "e75bf9a5-0ca2-419b-91ef-f0efe6e7c28e",
   "metadata": {},
   "source": [
    "## D. 인덱싱 "
   ]
  },
  {
   "cell_type": "markdown",
   "id": "33225b7d-c21e-49fe-931a-aafa8c14787a",
   "metadata": {},
   "source": [
    "`-` 리스트와 동일 "
   ]
  },
  {
   "cell_type": "code",
   "execution_count": 42,
   "id": "d03ff4d8-0ab3-497f-b890-afad9d272ecc",
   "metadata": {},
   "outputs": [
    {
     "data": {
      "text/plain": [
       "(1, 2, 3, -4, -5)"
      ]
     },
     "execution_count": 42,
     "metadata": {},
     "output_type": "execute_result"
    }
   ],
   "source": [
    "a=(1,2,3,-4,-5)\n",
    "a"
   ]
  },
  {
   "cell_type": "code",
   "execution_count": 43,
   "id": "3b203180-ee6a-4ade-9bb0-6dd73a4781ab",
   "metadata": {},
   "outputs": [
    {
     "data": {
      "text/plain": [
       "-5"
      ]
     },
     "execution_count": 43,
     "metadata": {},
     "output_type": "execute_result"
    }
   ],
   "source": [
    "a[-1]"
   ]
  },
  {
   "cell_type": "code",
   "execution_count": 44,
   "id": "2a9c5c40-bc54-4106-a6d1-e904ec771d89",
   "metadata": {},
   "outputs": [
    {
     "data": {
      "text/plain": [
       "(3, -4, -5)"
      ]
     },
     "execution_count": 44,
     "metadata": {},
     "output_type": "execute_result"
    }
   ],
   "source": [
    "a[-3:]"
   ]
  },
  {
   "cell_type": "markdown",
   "id": "2b1d600a-2cd4-4f0a-ae73-0ba2b215da3e",
   "metadata": {},
   "source": [
    "## E. 슬기로운 튜플사용 ($\\star$)"
   ]
  },
  {
   "cell_type": "markdown",
   "id": "68a00d8c-a048-45c8-9854-b9ff51220c03",
   "metadata": {},
   "source": [
    "`# 예제` -- 여러변수를 동시에 출력하고 싶을 경우 (다중출력?)"
   ]
  },
  {
   "cell_type": "markdown",
   "id": "a2140ef0-b263-4b6d-a348-ec02829cc9ea",
   "metadata": {},
   "source": [
    "변수를 아래와 같이 선언하였다고 하자. "
   ]
  },
  {
   "cell_type": "code",
   "execution_count": 99,
   "id": "4516b52f-224e-4955-8113-f0cb419efa90",
   "metadata": {},
   "outputs": [],
   "source": [
    "a=1\n",
    "b=2\n",
    "c=3"
   ]
  },
  {
   "cell_type": "markdown",
   "id": "b5fa7c9a-ccdc-441b-a791-978f1f43fdad",
   "metadata": {},
   "source": [
    "선언된 값을 확인하려면? "
   ]
  },
  {
   "cell_type": "code",
   "execution_count": 100,
   "id": "bbab3d3e-5807-4277-b059-d0e4423f8469",
   "metadata": {},
   "outputs": [
    {
     "data": {
      "text/plain": [
       "1"
      ]
     },
     "execution_count": 100,
     "metadata": {},
     "output_type": "execute_result"
    }
   ],
   "source": [
    "a"
   ]
  },
  {
   "cell_type": "code",
   "execution_count": 101,
   "id": "b65fff83-9f68-46cc-a29b-b9009c101adf",
   "metadata": {},
   "outputs": [
    {
     "data": {
      "text/plain": [
       "2"
      ]
     },
     "execution_count": 101,
     "metadata": {},
     "output_type": "execute_result"
    }
   ],
   "source": [
    "b"
   ]
  },
  {
   "cell_type": "code",
   "execution_count": 102,
   "id": "be67bc0a-e059-407f-aa49-e2621b86ac6c",
   "metadata": {},
   "outputs": [
    {
     "data": {
      "text/plain": [
       "3"
      ]
     },
     "execution_count": 102,
     "metadata": {},
     "output_type": "execute_result"
    }
   ],
   "source": [
    "c"
   ]
  },
  {
   "cell_type": "markdown",
   "id": "050a078c-692a-4777-832a-f292000324a2",
   "metadata": {},
   "source": [
    "튜플을 이용하면? "
   ]
  },
  {
   "cell_type": "code",
   "execution_count": 103,
   "id": "c124cf99-203f-492d-908c-8d22389f6dcc",
   "metadata": {},
   "outputs": [
    {
     "data": {
      "text/plain": [
       "(1, 2, 3)"
      ]
     },
     "execution_count": 103,
     "metadata": {},
     "output_type": "execute_result"
    }
   ],
   "source": [
    "a,b,c # 괄호하나 생략하는것이 이렇게 편하다.."
   ]
  },
  {
   "cell_type": "markdown",
   "id": "61e5d6e6-2b99-41d9-94cc-0ea54c059ee4",
   "metadata": {},
   "source": [
    "`#`"
   ]
  },
  {
   "cell_type": "markdown",
   "id": "18ffceb1-301d-461b-ade5-a627dcbcdec8",
   "metadata": {},
   "source": [
    "`# 예제2` -- 다중할당1 (여러개의 변수를 동시에 선언하고 싶을 경우) "
   ]
  },
  {
   "cell_type": "markdown",
   "id": "f946ecbe-1e20-4148-8f76-ad01f9d25c0c",
   "metadata": {},
   "source": [
    "아래와 같이 `=`를 5번 쓰면 5개의 변수를 선언할 수 있다. "
   ]
  },
  {
   "cell_type": "code",
   "execution_count": 105,
   "id": "e06fd9ce-ca89-4623-8e8f-94078a244262",
   "metadata": {},
   "outputs": [],
   "source": [
    "name = 'Tom'\n",
    "age = 20 \n",
    "sex = 'M'\n",
    "height = 180\n",
    "weight = 70"
   ]
  },
  {
   "cell_type": "markdown",
   "id": "eb3a6b06-292a-40bc-8b05-273c4002c0db",
   "metadata": {},
   "source": [
    "튜플을 이용하면 좀더 간단히 하나의 `=` 로도 아래와 같이 선언할 수 있다. "
   ]
  },
  {
   "cell_type": "code",
   "execution_count": 115,
   "id": "d7e97b65-32d7-4c80-a748-fb91611377a7",
   "metadata": {},
   "outputs": [],
   "source": [
    "name, age, sex, height, weight = 'Tom', 20, 'M', 180, 70  # 다중할당"
   ]
  },
  {
   "cell_type": "markdown",
   "id": "23f89688-8358-47ae-8db3-11a3b66a86cc",
   "metadata": {},
   "source": [
    "`#`"
   ]
  },
  {
   "cell_type": "markdown",
   "id": "4d470a0f-52e8-46b0-9075-8ceeef1a2d0b",
   "metadata": {},
   "source": [
    "`# 예제2` -- 다중할당2, 위도와 경도"
   ]
  },
  {
   "cell_type": "code",
   "execution_count": 107,
   "id": "30ac2fbf-3593-46f5-8a5e-088ec076fb5c",
   "metadata": {},
   "outputs": [
    {
     "data": {
      "text/plain": [
       "(37, 127)"
      ]
     },
     "execution_count": 107,
     "metadata": {},
     "output_type": "execute_result"
    }
   ],
   "source": [
    "coor = (37,127) # 서울 \n",
    "coor"
   ]
  },
  {
   "cell_type": "code",
   "execution_count": 114,
   "id": "ab1b9b14-a9f2-4b16-b6c6-616b9ecd781d",
   "metadata": {},
   "outputs": [],
   "source": [
    "lat, long = coor # 다중할당"
   ]
  },
  {
   "cell_type": "code",
   "execution_count": 112,
   "id": "216bccd1-bc06-42da-ae64-4f115614660a",
   "metadata": {},
   "outputs": [
    {
     "data": {
      "text/plain": [
       "37"
      ]
     },
     "execution_count": 112,
     "metadata": {},
     "output_type": "execute_result"
    }
   ],
   "source": [
    "lat "
   ]
  },
  {
   "cell_type": "code",
   "execution_count": 113,
   "id": "387ca6ac-ab06-4fc8-9ca9-f50dbf29ff70",
   "metadata": {},
   "outputs": [
    {
     "data": {
      "text/plain": [
       "127"
      ]
     },
     "execution_count": 113,
     "metadata": {},
     "output_type": "execute_result"
    }
   ],
   "source": [
    "long "
   ]
  },
  {
   "cell_type": "markdown",
   "id": "ce24cfab-9f71-4dec-8b34-1022d8baac03",
   "metadata": {},
   "source": [
    "`#`"
   ]
  },
  {
   "cell_type": "markdown",
   "id": "1906efc2-b7a5-4c28-89ea-c77734e88723",
   "metadata": {},
   "source": [
    "`# 잠깐만` -- 다중할당은 꼭 튜플에서만 가능한가? "
   ]
  },
  {
   "cell_type": "markdown",
   "id": "def5ba6a-b33b-4404-8a20-beb7e74a4f48",
   "metadata": {},
   "source": [
    "그건 아니다... "
   ]
  },
  {
   "cell_type": "code",
   "execution_count": 30,
   "id": "215d531c-4b73-4aae-a010-7742127327c5",
   "metadata": {},
   "outputs": [
    {
     "data": {
      "text/plain": [
       "(1, 2, 3)"
      ]
     },
     "execution_count": 30,
     "metadata": {},
     "output_type": "execute_result"
    }
   ],
   "source": [
    "[x,y,z] = [1,2,3] \n",
    "x,y,z # 다중출력 "
   ]
  },
  {
   "cell_type": "code",
   "execution_count": 31,
   "id": "b47781c8-78ee-48bd-9fe2-1def9e20a0eb",
   "metadata": {},
   "outputs": [
    {
     "data": {
      "text/plain": [
       "('h', 'i')"
      ]
     },
     "execution_count": 31,
     "metadata": {},
     "output_type": "execute_result"
    }
   ],
   "source": [
    "[x,y] = 'hi'\n",
    "x,y "
   ]
  },
  {
   "cell_type": "markdown",
   "id": "c92cce77-e3be-44dc-a92a-93270cb1a13e",
   "metadata": {},
   "source": [
    "튜플과 같이 사용하면 가독성이 극대화 (그래서 다중할당은 거의 튜플과 세트로 사용함) "
   ]
  },
  {
   "cell_type": "code",
   "execution_count": 32,
   "id": "ebb3bc81-5aec-4659-8788-054845261230",
   "metadata": {},
   "outputs": [
    {
     "data": {
      "text/plain": [
       "(1, 2, 3)"
      ]
     },
     "execution_count": 32,
     "metadata": {},
     "output_type": "execute_result"
    }
   ],
   "source": [
    "x,y,z = 1,2,3\n",
    "x,y,z # 다중출력 "
   ]
  },
  {
   "cell_type": "code",
   "execution_count": 33,
   "id": "9cbf8fed-fc2b-4d6f-b9e1-16437dc3edc7",
   "metadata": {},
   "outputs": [
    {
     "data": {
      "text/plain": [
       "('h', 'i')"
      ]
     },
     "execution_count": 33,
     "metadata": {},
     "output_type": "execute_result"
    }
   ],
   "source": [
    "x,y = 'hi'\n",
    "x,y "
   ]
  },
  {
   "cell_type": "markdown",
   "id": "927d0a30-cf18-403e-9be6-d6d89fa8fae8",
   "metadata": {},
   "source": [
    "`#`"
   ]
  },
  {
   "cell_type": "markdown",
   "id": "96d13d0d-355a-4268-a3c0-54490242b09d",
   "metadata": {},
   "source": [
    "`# 예제` -- 임시변수 사용없이 두 변수의 값을 교환 "
   ]
  },
  {
   "cell_type": "code",
   "execution_count": 144,
   "id": "009c8c53-1f14-48b9-8449-fb44db9cdcf3",
   "metadata": {},
   "outputs": [],
   "source": [
    "a=10\n",
    "b=20"
   ]
  },
  {
   "cell_type": "code",
   "execution_count": 145,
   "id": "f3e24a3e-8a68-49d1-ba07-e5ce661a9539",
   "metadata": {},
   "outputs": [
    {
     "data": {
      "text/plain": [
       "(10, 20)"
      ]
     },
     "execution_count": 145,
     "metadata": {},
     "output_type": "execute_result"
    }
   ],
   "source": [
    "a,b"
   ]
  },
  {
   "cell_type": "code",
   "execution_count": 146,
   "id": "36b35c3b-12ce-4c71-ab0c-dc25b0351cbb",
   "metadata": {},
   "outputs": [],
   "source": [
    "a,b = b,a "
   ]
  },
  {
   "cell_type": "code",
   "execution_count": 147,
   "id": "27f38f59-872f-4ef7-9dc4-1bc866e419de",
   "metadata": {},
   "outputs": [
    {
     "data": {
      "text/plain": [
       "(20, 10)"
      ]
     },
     "execution_count": 147,
     "metadata": {},
     "output_type": "execute_result"
    }
   ],
   "source": [
    "a,b"
   ]
  },
  {
   "cell_type": "markdown",
   "id": "1382c2a5-b22e-4329-b477-bcd22c3bd54a",
   "metadata": {},
   "source": [
    "`#`"
   ]
  },
  {
   "cell_type": "markdown",
   "id": "3b8ad49b-1589-4a4b-8fb1-5dcfa9cabc48",
   "metadata": {},
   "source": [
    "`# 예제` -- for문과 튜플"
   ]
  },
  {
   "cell_type": "code",
   "execution_count": 148,
   "id": "0a4a05d6-fb2b-4b88-9f6e-186e90cf5ba1",
   "metadata": {},
   "outputs": [
    {
     "data": {
      "text/plain": [
       "[['guebin', 202112345, 'M'],\n",
       " ['iu', 202254321, 'F'],\n",
       " ['hodong', 202011223, 'M']]"
      ]
     },
     "execution_count": 148,
     "metadata": {},
     "output_type": "execute_result"
    }
   ],
   "source": [
    "lst = [['guebin', 202112345, 'M'],\n",
    "       ['iu',202254321, 'F'],\n",
    "       ['hodong', 202011223, 'M']]\n",
    "lst"
   ]
  },
  {
   "cell_type": "code",
   "execution_count": 149,
   "id": "ae113f21-9c20-4c8f-8738-6f9fa7b548ec",
   "metadata": {},
   "outputs": [
    {
     "data": {
      "text/plain": [
       "['guebin', 202112345, 'M']"
      ]
     },
     "execution_count": 149,
     "metadata": {},
     "output_type": "execute_result"
    }
   ],
   "source": [
    "lst[0]"
   ]
  },
  {
   "cell_type": "code",
   "execution_count": 39,
   "id": "37226fd2-1de6-44b4-a6f7-a79027061ada",
   "metadata": {},
   "outputs": [
    {
     "name": "stdout",
     "output_type": "stream",
     "text": [
      "guebin M\n",
      "iu F\n",
      "hodong M\n"
     ]
    }
   ],
   "source": [
    "for name,studentid,sex in lst: \n",
    "    print(name,sex)"
   ]
  },
  {
   "cell_type": "markdown",
   "id": "43ba38f4-dfb8-42a9-b070-9b38287d81f5",
   "metadata": {},
   "source": [
    "`#`"
   ]
  },
  {
   "cell_type": "markdown",
   "id": "b88d4962-a08d-4bdb-bcca-d7112251c2af",
   "metadata": {},
   "source": [
    "`# 예제` -- for문과 튜플, dummy variable `_` "
   ]
  },
  {
   "cell_type": "code",
   "execution_count": 155,
   "id": "8dcfbdf1-fbd6-4409-b882-a0c9e1fddae3",
   "metadata": {},
   "outputs": [
    {
     "name": "stdout",
     "output_type": "stream",
     "text": [
      "202112345\n",
      "202254321\n",
      "202011223\n"
     ]
    }
   ],
   "source": [
    "for name,studentid,sex in lst: \n",
    "    print(studentid)"
   ]
  },
  {
   "cell_type": "code",
   "execution_count": 156,
   "id": "731c9eaa-81f0-4d1b-872d-092e6df6b949",
   "metadata": {},
   "outputs": [
    {
     "name": "stdout",
     "output_type": "stream",
     "text": [
      "202112345\n",
      "202254321\n",
      "202011223\n"
     ]
    }
   ],
   "source": [
    "for _,studentid,_ in lst: \n",
    "    print(studentid)"
   ]
  },
  {
   "cell_type": "code",
   "execution_count": 157,
   "id": "99874b09-1cf1-4f09-9c60-9395266e4271",
   "metadata": {},
   "outputs": [
    {
     "name": "stdout",
     "output_type": "stream",
     "text": [
      "M\n",
      "F\n",
      "M\n"
     ]
    }
   ],
   "source": [
    "for _,_,sex in lst: \n",
    "    print(sex)"
   ]
  },
  {
   "cell_type": "code",
   "execution_count": 158,
   "id": "9a955f19-a1ec-4306-b7aa-bb6093fed94b",
   "metadata": {},
   "outputs": [
    {
     "name": "stdout",
     "output_type": "stream",
     "text": [
      "guebin M\n",
      "iu F\n",
      "hodong M\n"
     ]
    }
   ],
   "source": [
    "for name,_,sex in lst: \n",
    "    print(name,sex)"
   ]
  },
  {
   "cell_type": "code",
   "execution_count": 168,
   "id": "acd8135e-715a-4e16-8aa3-c80dcdc0a65a",
   "metadata": {},
   "outputs": [
    {
     "name": "stdout",
     "output_type": "stream",
     "text": [
      "guebin\n",
      "iu\n",
      "hodong\n"
     ]
    }
   ],
   "source": [
    "for name,_,_  in lst: \n",
    "    print(name)"
   ]
  },
  {
   "cell_type": "markdown",
   "id": "34e733cd-a79f-47c7-8691-fc25f8ac67cf",
   "metadata": {},
   "source": [
    "`#`"
   ]
  },
  {
   "cell_type": "markdown",
   "id": "7c3f3de4-aa0c-4a96-adb3-b62f0819dbf2",
   "metadata": {},
   "source": [
    "`# 예제` -- 튜플과 언패킹연산자 `*` "
   ]
  },
  {
   "cell_type": "markdown",
   "id": "3141536c-c133-429e-911d-66d7fe6743e4",
   "metadata": {},
   "source": [
    "아래와 같이 관심없는것 모두를 other라는 이름으로 받을 수 있음 "
   ]
  },
  {
   "cell_type": "code",
   "execution_count": 167,
   "id": "0118fe47-fa2c-48ff-a9f7-751887fbebcb",
   "metadata": {},
   "outputs": [
    {
     "name": "stdout",
     "output_type": "stream",
     "text": [
      "guebin [202112345, 'M']\n",
      "iu [202254321, 'F']\n",
      "hodong [202011223, 'M']\n"
     ]
    }
   ],
   "source": [
    "for name,*other  in lst: \n",
    "    print(name,other)"
   ]
  },
  {
   "cell_type": "markdown",
   "id": "4dbe3bf6-71f0-4776-a00e-14892f2bf5d6",
   "metadata": {},
   "source": [
    "`*`의 동작을 더 세심히 살펴보자. "
   ]
  },
  {
   "cell_type": "code",
   "execution_count": 186,
   "id": "7971d3d2-b024-4484-a6ba-bf1c1d080eb1",
   "metadata": {},
   "outputs": [
    {
     "data": {
      "text/plain": [
       "(1, 2, [3, 4, 5, 6, 7, 8, 9, 10])"
      ]
     },
     "execution_count": 186,
     "metadata": {},
     "output_type": "execute_result"
    }
   ],
   "source": [
    "head, body, *tail = range(1,11) \n",
    "head, body, tail"
   ]
  },
  {
   "cell_type": "code",
   "execution_count": 11,
   "id": "dace6635-9b0c-46d5-a90f-25cde76bc62e",
   "metadata": {},
   "outputs": [
    {
     "data": {
      "text/plain": [
       "(1, 2, [3, 4, 5, 6, 7], 8, 9, 10)"
      ]
     },
     "execution_count": 11,
     "metadata": {},
     "output_type": "execute_result"
    }
   ],
   "source": [
    "head1,head2, *body, tail1,tail2,tail3 = range(1,11) \n",
    "head1,head2, body, tail1,tail2,tail3 "
   ]
  },
  {
   "cell_type": "code",
   "execution_count": 12,
   "id": "dd5f0201-90b3-46ca-aa52-e3e9e6b10dc7",
   "metadata": {},
   "outputs": [
    {
     "data": {
      "text/plain": [
       "([1, 2, 3, 4, 5, 6, 7, 8], 9, 10)"
      ]
     },
     "execution_count": 12,
     "metadata": {},
     "output_type": "execute_result"
    }
   ],
   "source": [
    "*head, body, tail = range(1,11) \n",
    "head, body, tail"
   ]
  },
  {
   "cell_type": "markdown",
   "id": "6326e49e-1147-4895-be12-e9946ea14eef",
   "metadata": {},
   "source": [
    "(관찰) "
   ]
  },
  {
   "cell_type": "markdown",
   "id": "e401ced6-dcfb-4ea1-9cda-eb770f730794",
   "metadata": {},
   "source": [
    "그러고 보니까.. \n",
    "```python\n",
    "[*head, body, tail] = [1,2,3,4,5,6,7,8,9,10] \n",
    "[head, body, tail] = [[1,2,3,4,5,6,7,8],9,10] \n",
    "```\n",
    "이렇다는 거잖아? "
   ]
  },
  {
   "cell_type": "markdown",
   "id": "d33dda7c-52b9-4ca2-9060-ca63360dedaf",
   "metadata": {},
   "source": [
    "`*`를 붙이면 1차원 자료구조가 풀린다..? "
   ]
  },
  {
   "cell_type": "code",
   "execution_count": 24,
   "id": "bd00a823-8723-47cd-bdbc-5cf82ac79a48",
   "metadata": {},
   "outputs": [
    {
     "data": {
      "text/plain": [
       "[1, 2, [1, 2, 3]]"
      ]
     },
     "execution_count": 24,
     "metadata": {},
     "output_type": "execute_result"
    }
   ],
   "source": [
    "[1,2,[1,2,3]]"
   ]
  },
  {
   "cell_type": "code",
   "execution_count": 25,
   "id": "09ea5c01-ec72-4aae-b343-061b7fcea2a9",
   "metadata": {},
   "outputs": [
    {
     "data": {
      "text/plain": [
       "[1, 2, 1, 2, 3]"
      ]
     },
     "execution_count": 25,
     "metadata": {},
     "output_type": "execute_result"
    }
   ],
   "source": [
    "[1,2,*[1,2,3]]"
   ]
  },
  {
   "cell_type": "markdown",
   "id": "56e89794-5524-4bf5-9e76-a73541a12595",
   "metadata": {},
   "source": [
    "`-` 단독사용은 불가능 "
   ]
  },
  {
   "cell_type": "code",
   "execution_count": 187,
   "id": "1d901025-3830-45ba-b09e-72544a68addb",
   "metadata": {},
   "outputs": [
    {
     "ename": "SyntaxError",
     "evalue": "can't use starred expression here (386627056.py, line 1)",
     "output_type": "error",
     "traceback": [
      "\u001b[0;36m  Cell \u001b[0;32mIn[187], line 1\u001b[0;36m\u001b[0m\n\u001b[0;31m    *[1,2,3]\u001b[0m\n\u001b[0m    ^\u001b[0m\n\u001b[0;31mSyntaxError\u001b[0m\u001b[0;31m:\u001b[0m can't use starred expression here\n"
     ]
    }
   ],
   "source": [
    "*[1,2,3]"
   ]
  },
  {
   "cell_type": "markdown",
   "id": "fde0e742-5a43-4390-a050-145201dde627",
   "metadata": {},
   "source": [
    "## F. 튜플을 왜 쓸까? -- 제 생각.."
   ]
  },
  {
   "cell_type": "markdown",
   "id": "d74c4acf-1280-4c35-a86b-33731cb5c1da",
   "metadata": {},
   "source": [
    "`-` 질문: 리스트를 쓰지 않고 왜 튜플을 써야하나?"
   ]
  },
  {
   "cell_type": "markdown",
   "id": "90fa1dd7-8c0f-49d4-a2e0-8cd5cf90d517",
   "metadata": {},
   "source": [
    "`-` 답변1: (책의 설명) \n",
    "\n",
    "- 초보적인 설명: 실수방지\n",
    "- 더 정확한 설명: 빠르다, 여러사람과 작업하기 유리하다, 깊은복사/얕은복사시 원하지 않는 오류 (side effect 이라고 함) 방지"
   ]
  },
  {
   "cell_type": "markdown",
   "id": "777b2eef-6732-47ae-8567-4dc3e55b0d22",
   "metadata": {},
   "source": [
    "`-` 답변2: 괄호를 생략할 수 있기 때문에, 리스트 말고 튜플을 쓰면 편함. \n",
    "\n",
    "- 소괄호의 생략 + 언패킹 $\\Rightarrow$ 엄청난 가독성.\n",
    "- 컴공과 사람들 의견: 튜플 + 언패킹 $\\Rightarrow$ 엄청난 가독성 $\\Rightarrow$ 충격 $\\Rightarrow$ \"파이썬 편하더라고요..\""
   ]
  },
  {
   "cell_type": "markdown",
   "id": "825cb9cd-fa28-4fe5-8de6-4c32d4888f5c",
   "metadata": {},
   "source": [
    "`-` 근본적인 의문: 파이썬을 처음 만들때 리스트에 괄호를 생략하는 기능을 추가했으면 편했잖아?"
   ]
  },
  {
   "cell_type": "markdown",
   "id": "8f53b992-90ec-4452-9827-b12161265f24",
   "metadata": {},
   "source": [
    "`-` 저의 설명: `리스트=신라면`, `튜플=라면사리` 같은 느낌으로 이해하면 된다. 불변형(튜플)은 기능제한이 있는데, 가변형(리스트)는 기능이 풍부하다. 대신에, 가변형은 느리고 무겁다. \n",
    "\n",
    "- 기능적으로만 보면, 신라면이 있으면 스프를 버리고 라면사리를 얻을 수 있음, 그래서 라면사리는 필요없음.\n",
    "- 그런데 신라면에서 스프를 버려서 라면사리를 항상 얻는다면, 비효율적임.\n",
    "- 우리가 원하는게 (1) 원소를 벡터형태로 모은뒤 (2) 벡터자체를 출력해보고 (3) 각 원소를 `sort`하고 (4) 원소를 추가 `append`하고 (5) 원소를 삭제 `remove` 하는 것 일수도 있음. 그렇지만 진짜 단순하게 (1),(2) 만 원할수도있음.\n",
    "- 단순히 (1)-(2)의 목적으로 리스트를 사용하는건 비효율적이니까 불변형인 튜플을 만듦. (1)-(2)를 사용함에 있어서 편리성을 극대화 하기위해 괄호도 생략하게 해줌.  "
   ]
  },
  {
   "cell_type": "code",
   "execution_count": 208,
   "id": "2d50ad84-b023-49df-8fc9-31a8b3b5d849",
   "metadata": {},
   "outputs": [],
   "source": [
    "def mycal(a,b):\n",
    "    return a+b, a-b, a*b, a/b # 여러개의 값을 리턴하는듯 보임 -> 사실은 길이가 4인 튜플 1개를 리턴"
   ]
  },
  {
   "cell_type": "code",
   "execution_count": 207,
   "id": "82bcfb1f-2665-4ae0-ab99-67c238530da0",
   "metadata": {},
   "outputs": [
    {
     "data": {
      "text/plain": [
       "(3, -1, 2, 0.5)"
      ]
     },
     "execution_count": 207,
     "metadata": {},
     "output_type": "execute_result"
    }
   ],
   "source": [
    "mycal(1,2)"
   ]
  },
  {
   "cell_type": "code",
   "execution_count": 209,
   "id": "24c4226d-a6db-45ce-89a5-29c48b7bb87a",
   "metadata": {},
   "outputs": [],
   "source": [
    "_,_,mul,_ = mycal(1,2)"
   ]
  },
  {
   "cell_type": "code",
   "execution_count": 210,
   "id": "bb5e3cd5-7656-4bc5-ad51-1fee31a4827e",
   "metadata": {},
   "outputs": [
    {
     "data": {
      "text/plain": [
       "2"
      ]
     },
     "execution_count": 210,
     "metadata": {},
     "output_type": "execute_result"
    }
   ],
   "source": [
    "mul"
   ]
  },
  {
   "cell_type": "markdown",
   "id": "f5a05b86-fa25-4c8c-b451-846a2753193b",
   "metadata": {},
   "source": [
    "## G. 연습문제들"
   ]
  },
  {
   "cell_type": "markdown",
   "id": "5765d64b-71c7-4e29-bc92-18c16052e17f",
   "metadata": {},
   "source": [
    "`# 문제`. 길이가 1인 튜플을 만들어 자신의 학번을 저장하라. 길이가 1인 튜플을 만들어 자신의 영문이름을 저장하라. 두 튜플을 + 연산자로 합쳐아래와 같은 출력결과를 얻어라. 최종 결과는 예를들면 아래와 같아야 한다. "
   ]
  },
  {
   "cell_type": "code",
   "execution_count": 77,
   "id": "594ac777-5b55-454d-b3e6-c04fc66b9ebc",
   "metadata": {},
   "outputs": [
    {
     "data": {
      "text/plain": [
       "('2021-43052', 'GuebinChoi')"
      ]
     },
     "execution_count": 77,
     "metadata": {},
     "output_type": "execute_result"
    }
   ],
   "source": [
    "('2021-43052', 'GuebinChoi')"
   ]
  },
  {
   "cell_type": "markdown",
   "id": "b96f37d5-df9b-4986-bd5f-7846266c8975",
   "metadata": {},
   "source": [
    "(풀이)"
   ]
  },
  {
   "cell_type": "code",
   "execution_count": 212,
   "id": "b04e1d4f-721b-4f9c-8952-cd94727a8faa",
   "metadata": {},
   "outputs": [],
   "source": [
    "sid = ('2021-43052',)\n",
    "name = ('GuebinChoi',)"
   ]
  },
  {
   "cell_type": "code",
   "execution_count": 214,
   "id": "a9c12a4c-6881-4b7e-a7cf-6263b1ddf986",
   "metadata": {},
   "outputs": [
    {
     "data": {
      "text/plain": [
       "('2021-43052', 'GuebinChoi')"
      ]
     },
     "execution_count": 214,
     "metadata": {},
     "output_type": "execute_result"
    }
   ],
   "source": [
    "sid+name"
   ]
  },
  {
   "cell_type": "markdown",
   "id": "46ef703d-912e-4d38-b511-528b49837e11",
   "metadata": {},
   "source": [
    "`파이썬프로그래밍 수강생`. 아래는 파이썬프로그래밍 수강생들의 학번, 이름, 출석점수, 과제점수, 중간고사점수, 기말고사점수를 저장한 중첩리스트이다. "
   ]
  },
  {
   "cell_type": "code",
   "execution_count": 215,
   "id": "fe05b59e-a5a6-49e7-83e0-a3cdfac5e2cf",
   "metadata": {},
   "outputs": [
    {
     "data": {
      "text/plain": [
       "[['2021-43052', 'GuebinChoi', 5, 10, 20, 25],\n",
       " ['2019-12342', 'Heung-min Son', 10, 15, 30, 15],\n",
       " ['2018-32234', 'hynn', 7, 20, 30, 15],\n",
       " ['2022-42323', 'Minji', 8, 20, 20, 35],\n",
       " ['2023-55342', 'Hanni', 7, 20, 30, 35],\n",
       " ['2022-46624', 'Danielle', 3, 15, 30, 40],\n",
       " ['2022-11239', 'Haerin', 10, 20, 30, 40],\n",
       " ['2022-32114', 'Hyein', 10, 20, 20, 35]]"
      ]
     },
     "execution_count": 215,
     "metadata": {},
     "output_type": "execute_result"
    }
   ],
   "source": [
    "lst = [['2021-43052', 'GuebinChoi', 5, 10, 20, 25],\n",
    "       ['2019-12342', 'Heung-min Son', 10, 15, 30, 15],\n",
    "       ['2018-32234', 'hynn', 7, 20, 30, 15],\n",
    "       ['2022-42323', 'Minji', 8, 20, 20, 35],\n",
    "       ['2023-55342', 'Hanni', 7, 20, 30, 35],\n",
    "       ['2022-46624', 'Danielle', 3, 15, 30, 40],\n",
    "       ['2022-11239', 'Haerin', 10, 20, 30, 40],\n",
    "       ['2022-32114', 'Hyein', 10, 20, 20, 35]]\n",
    "lst "
   ]
  },
  {
   "cell_type": "markdown",
   "id": "9da3b4dd-dbe1-4ea8-9a44-d2509d30bb5a",
   "metadata": {},
   "source": [
    "`# 문제`. 파이썬프로그래밍 수강생의 수는 모두 몇명인가? "
   ]
  },
  {
   "cell_type": "markdown",
   "id": "8ddbbb6e-d73a-43d7-99ec-ac7b9c29106b",
   "metadata": {},
   "source": [
    "(풀이)"
   ]
  },
  {
   "cell_type": "code",
   "execution_count": 217,
   "id": "92d0eac9-1e03-43ee-80d1-7f32e216e708",
   "metadata": {},
   "outputs": [
    {
     "data": {
      "text/plain": [
       "8"
      ]
     },
     "execution_count": 217,
     "metadata": {},
     "output_type": "execute_result"
    }
   ],
   "source": [
    "len(lst)"
   ]
  },
  {
   "cell_type": "markdown",
   "id": "9d34f40c-5782-4591-bbfd-7c8d7ac5eb51",
   "metadata": {},
   "source": [
    "`#`. 전북대학교 지침에 따라 출석점수가 7보다 작은 학생은 (즉 `출석점수 < 7` 일 경우) F학점을 부여하게 되어있다. 이 기준에 따르면 F를 받는 학생은 모두 몇명인가? "
   ]
  },
  {
   "cell_type": "markdown",
   "id": "d3b51a7d-8a69-41ac-8e16-f3f42030551c",
   "metadata": {},
   "source": [
    "(풀이)"
   ]
  },
  {
   "cell_type": "code",
   "execution_count": 221,
   "id": "58ed0d42-3d28-42fd-b2a1-e1429f04ad76",
   "metadata": {},
   "outputs": [
    {
     "data": {
      "text/plain": [
       "2"
      ]
     },
     "execution_count": 221,
     "metadata": {},
     "output_type": "execute_result"
    }
   ],
   "source": [
    "sum([att<7 for _,_,att,*other in lst])"
   ]
  },
  {
   "cell_type": "markdown",
   "id": "53f925c5-af13-46d8-845f-3a1e7715bc55",
   "metadata": {},
   "source": [
    "`# 문제`. 파이썬프로그래밍 수업의 경우 `출석+레포트 < 21` 일 경우 F학점을 부여한다고 한다. 이 기준에 따르면 F를 받는 학생은 모두 몇명인가? "
   ]
  },
  {
   "cell_type": "markdown",
   "id": "88e25705-4dff-4888-9c65-87ed449fa363",
   "metadata": {},
   "source": [
    "(풀이)"
   ]
  },
  {
   "cell_type": "code",
   "execution_count": 232,
   "id": "6b9fc593-3ec4-4f46-a7ec-a98a8eb77183",
   "metadata": {},
   "outputs": [
    {
     "data": {
      "text/plain": [
       "2"
      ]
     },
     "execution_count": 232,
     "metadata": {},
     "output_type": "execute_result"
    }
   ],
   "source": [
    "sum([att+rep<21 for _,_,att,rep,*other in lst])"
   ]
  },
  {
   "cell_type": "markdown",
   "id": "d5a662c8-6600-4509-b2ca-b4e6dfee89d2",
   "metadata": {},
   "source": [
    "`# 문제`. 리스트의 정렬순서를 [학번, 이름, ..., 기말고사점수] 가 아니라 [이름, 학번, ... , 기말고사점수] 와 같이 되도록 변경하는 코드를 작성하라. "
   ]
  },
  {
   "cell_type": "markdown",
   "id": "34a46e7d-0478-4f16-b664-8bcc88b50079",
   "metadata": {},
   "source": [
    "(출력예시)"
   ]
  },
  {
   "cell_type": "code",
   "execution_count": 234,
   "id": "1bf7128f-cbe9-4cc7-a71a-1578858754f4",
   "metadata": {},
   "outputs": [
    {
     "data": {
      "text/plain": [
       "[['GuebinChoi', '2021-43052', 5, 10, 20, 25],\n",
       " ['Heung-min Son', '2019-12342', 10, 15, 30, 15],\n",
       " ['hynn', '2018-32234', 7, 20, 30, 15],\n",
       " ['Minji', '2022-42323', 8, 20, 20, 35],\n",
       " ['Hanni', '2023-55342', 7, 20, 30, 35],\n",
       " ['Danielle', '2022-46624', 3, 15, 30, 40],\n",
       " ['Haerin', '2022-11239', 10, 20, 30, 40],\n",
       " ['Hyein', '2022-32114', 10, 20, 20, 35]]"
      ]
     },
     "execution_count": 234,
     "metadata": {},
     "output_type": "execute_result"
    }
   ],
   "source": [
    "[['GuebinChoi', '2021-43052', 5, 10, 20, 25],\n",
    " ['Heung-min Son', '2019-12342', 10, 15, 30, 15],\n",
    " ['hynn', '2018-32234', 7, 20, 30, 15],\n",
    " ['Minji', '2022-42323', 8, 20, 20, 35],\n",
    " ['Hanni', '2023-55342', 7, 20, 30, 35],\n",
    " ['Danielle', '2022-46624', 3, 15, 30, 40],\n",
    " ['Haerin', '2022-11239', 10, 20, 30, 40],\n",
    " ['Hyein', '2022-32114', 10, 20, 20, 35]]"
   ]
  },
  {
   "cell_type": "markdown",
   "id": "3fbd4355-46ee-4bec-a8c4-16833ffd8e72",
   "metadata": {},
   "source": [
    "(풀이)"
   ]
  },
  {
   "cell_type": "code",
   "execution_count": 237,
   "id": "e2217285-4fb4-422c-91c2-1a3b6b1f23b0",
   "metadata": {},
   "outputs": [
    {
     "data": {
      "text/plain": [
       "[['GuebinChoi', '2021-43052', 5, 10, 20, 25],\n",
       " ['Heung-min Son', '2019-12342', 10, 15, 30, 15],\n",
       " ['hynn', '2018-32234', 7, 20, 30, 15],\n",
       " ['Minji', '2022-42323', 8, 20, 20, 35],\n",
       " ['Hanni', '2023-55342', 7, 20, 30, 35],\n",
       " ['Danielle', '2022-46624', 3, 15, 30, 40],\n",
       " ['Haerin', '2022-11239', 10, 20, 30, 40],\n",
       " ['Hyein', '2022-32114', 10, 20, 20, 35]]"
      ]
     },
     "execution_count": 237,
     "metadata": {},
     "output_type": "execute_result"
    }
   ],
   "source": [
    "[[name,sid,*other] for sid,name,*other in lst]"
   ]
  },
  {
   "cell_type": "markdown",
   "id": "f2ccf0ed-7bc8-45ec-ab11-ed640713489b",
   "metadata": {},
   "source": [
    "# 4. 잡기술 (하지만 유용해)"
   ]
  },
  {
   "cell_type": "markdown",
   "id": "b5f037d8-cfbe-4569-aad0-67ae58321b9f",
   "metadata": {},
   "source": [
    "## A. 인덱싱고급 (스트라이딩) "
   ]
  },
  {
   "cell_type": "markdown",
   "id": "635f3806-dcf4-49df-924e-a57326352631",
   "metadata": {},
   "source": [
    "`-` 스트라이딩 [start:end:step] "
   ]
  },
  {
   "cell_type": "code",
   "execution_count": 240,
   "id": "1932c6a3-f1d0-4060-80ac-ad1a035e5b1c",
   "metadata": {},
   "outputs": [
    {
     "data": {
      "text/plain": [
       "['a', 'b', 'c', 'd', 'e', 'f', 'g', 'h', 'i', 'j', 'k']"
      ]
     },
     "execution_count": 240,
     "metadata": {},
     "output_type": "execute_result"
    }
   ],
   "source": [
    "lst = list('abcdefghijk')\n",
    "lst"
   ]
  },
  {
   "cell_type": "code",
   "execution_count": 245,
   "id": "913feff7-e56b-42d3-bedb-d10fb1c9413c",
   "metadata": {},
   "outputs": [
    {
     "data": {
      "text/plain": [
       "11"
      ]
     },
     "execution_count": 245,
     "metadata": {},
     "output_type": "execute_result"
    }
   ],
   "source": [
    "len(lst)"
   ]
  },
  {
   "cell_type": "code",
   "execution_count": 255,
   "id": "83bafeb5-fd04-41d8-9d6d-d895d6ea0d31",
   "metadata": {},
   "outputs": [
    {
     "data": {
      "text/plain": [
       "['a', 'c', 'e', 'g', 'i']"
      ]
     },
     "execution_count": 255,
     "metadata": {},
     "output_type": "execute_result"
    }
   ],
   "source": [
    "lst[0:9:2]"
   ]
  },
  {
   "cell_type": "markdown",
   "id": "3cac30c2-6bb4-496b-8e86-9f2f0700208e",
   "metadata": {},
   "source": [
    "`-` 생략"
   ]
  },
  {
   "cell_type": "code",
   "execution_count": 22,
   "id": "d54c5326-b443-4f6a-a242-70a41bbe969b",
   "metadata": {},
   "outputs": [
    {
     "data": {
      "text/plain": [
       "['a', 'b', 'c', 'd', 'e', 'f', 'g', 'h', 'i']"
      ]
     },
     "execution_count": 22,
     "metadata": {},
     "output_type": "execute_result"
    }
   ],
   "source": [
    "lst[0:9]\n",
    "#lst[0:9:]\n",
    "#lst[0:9:1]"
   ]
  },
  {
   "cell_type": "code",
   "execution_count": 256,
   "id": "6c0f0814-195e-4838-8e7f-4aee98933d02",
   "metadata": {},
   "outputs": [
    {
     "data": {
      "text/plain": [
       "['b', 'e', 'h', 'k']"
      ]
     },
     "execution_count": 256,
     "metadata": {},
     "output_type": "execute_result"
    }
   ],
   "source": [
    "lst[1::3]"
   ]
  },
  {
   "cell_type": "code",
   "execution_count": 257,
   "id": "a4a62f96-00b1-42e2-abcc-0f5d998c33d6",
   "metadata": {},
   "outputs": [
    {
     "data": {
      "text/plain": [
       "['a', 'd', 'g']"
      ]
     },
     "execution_count": 257,
     "metadata": {},
     "output_type": "execute_result"
    }
   ],
   "source": [
    "lst[:8:3]"
   ]
  },
  {
   "cell_type": "markdown",
   "id": "b94e8ffd-9f6f-4b73-9df3-f8a7e12e8e3d",
   "metadata": {},
   "source": [
    "`# 예제1`: 짝수/홀수 원소 추출 "
   ]
  },
  {
   "cell_type": "markdown",
   "id": "373e8f25-1c18-4ffc-be3b-e8805ae42e37",
   "metadata": {},
   "source": [
    "아래와 같은 문자열이 있다고 하자. "
   ]
  },
  {
   "cell_type": "code",
   "execution_count": 26,
   "id": "6c054bfd-339c-4a8a-8420-c84ad44a224f",
   "metadata": {},
   "outputs": [
    {
     "data": {
      "text/plain": [
       "['a', 'b', 'c', 'd', 'e', 'f', 'g', 'h', 'i', 'j', 'k']"
      ]
     },
     "execution_count": 26,
     "metadata": {},
     "output_type": "execute_result"
    }
   ],
   "source": [
    "lst = list('abcdefghijk')\n",
    "lst"
   ]
  },
  {
   "cell_type": "markdown",
   "id": "40c51c8e-5f8f-40ba-b639-4d3590ef3fc7",
   "metadata": {},
   "source": [
    "`index = 0,2,4, ...` 에 해당하는 원소를 출력하라. "
   ]
  },
  {
   "cell_type": "code",
   "execution_count": 258,
   "id": "a0684eb6-29fe-43af-9a2e-baa3265fff3d",
   "metadata": {},
   "outputs": [
    {
     "data": {
      "text/plain": [
       "['a', 'c', 'e', 'g', 'i', 'k']"
      ]
     },
     "execution_count": 258,
     "metadata": {},
     "output_type": "execute_result"
    }
   ],
   "source": [
    "lst[::2]"
   ]
  },
  {
   "cell_type": "markdown",
   "id": "f6b57f65-d0bb-4fe4-af4a-b84140a92514",
   "metadata": {},
   "source": [
    "`index = 1,4,7 ...` 에 해당하는 원소를 출력하라. "
   ]
  },
  {
   "cell_type": "code",
   "execution_count": 259,
   "id": "71b30f62-3d03-4c18-af52-7c74d81f24df",
   "metadata": {},
   "outputs": [
    {
     "data": {
      "text/plain": [
       "['b', 'e', 'h', 'k']"
      ]
     },
     "execution_count": 259,
     "metadata": {},
     "output_type": "execute_result"
    }
   ],
   "source": [
    "lst[1::3]"
   ]
  },
  {
   "cell_type": "markdown",
   "id": "733351be-2cfa-408a-900f-a0afd627a743",
   "metadata": {},
   "source": [
    "`#`"
   ]
  },
  {
   "cell_type": "markdown",
   "id": "976d3e84-2f90-4cc8-bc21-4f745c78042f",
   "metadata": {},
   "source": [
    "`# 예제2` --  세로로.."
   ]
  },
  {
   "cell_type": "markdown",
   "id": "3dd3eaed-8dee-4261-a493-fca589882348",
   "metadata": {},
   "source": [
    "---"
   ]
  },
  {
   "cell_type": "markdown",
   "id": "b2e066f6-b3ff-4899-b7ef-cc48f9e037b3",
   "metadata": {},
   "source": [
    "(예제2를 위한 예비학습) 문자열에서 `\\n`을 출력하면 출력시 줄바꿈이 일어난다. "
   ]
  },
  {
   "cell_type": "code",
   "execution_count": 264,
   "id": "bcc38d0b-cb43-4be9-842c-fc153693e9d5",
   "metadata": {},
   "outputs": [
    {
     "name": "stdout",
     "output_type": "stream",
     "text": [
      "1행\n",
      "2행\n",
      "3행\n"
     ]
    }
   ],
   "source": [
    "print('1행\\n2행\\n3행')"
   ]
  },
  {
   "cell_type": "markdown",
   "id": "01b7eb34-b82d-454c-8112-6db1249f249c",
   "metadata": {},
   "source": [
    "예비학습 끝 "
   ]
  },
  {
   "cell_type": "markdown",
   "id": "a74498ad-c943-4f5d-8ccd-5b3d28383eab",
   "metadata": {},
   "source": [
    "--- "
   ]
  },
  {
   "cell_type": "markdown",
   "id": "50348af5-b8b7-40a4-ae76-b6a00cc01634",
   "metadata": {},
   "source": [
    "아래와 같은 문자열이 있다고 하자. "
   ]
  },
  {
   "cell_type": "code",
   "execution_count": 265,
   "id": "e8503b52-61bf-4213-a827-cce5fb9078f5",
   "metadata": {},
   "outputs": [
    {
     "name": "stdout",
     "output_type": "stream",
     "text": [
      "너같이사랑스럽고\n",
      "또예쁘고도멋지고\n",
      "속훤히보이는너알\n",
      "았어그동안고마웠\n",
      "지정말정말사랑해\n"
     ]
    }
   ],
   "source": [
    "txt = '너같이사랑스럽고\\n또예쁘고도멋지고\\n속훤히보이는너알\\n았어그동안고마웠\\n지정말정말사랑해'\n",
    "print(txt)"
   ]
  },
  {
   "cell_type": "markdown",
   "id": "b4d6bb0d-6dae-4174-b3fb-b383724586bc",
   "metadata": {},
   "source": [
    "위 문자열을 세로로 읽는 코드를 작성하라. (9칸씩 점프하면서 읽으면 된다) "
   ]
  },
  {
   "cell_type": "markdown",
   "id": "e6158337-8dc4-46a2-86a5-66cffce4c36d",
   "metadata": {},
   "source": [
    "(풀이)"
   ]
  },
  {
   "cell_type": "code",
   "execution_count": 267,
   "id": "9c202bef-336d-48e7-bf1c-b3d9a2a51544",
   "metadata": {},
   "outputs": [
    {
     "data": {
      "text/plain": [
       "'너또속았지'"
      ]
     },
     "execution_count": 267,
     "metadata": {},
     "output_type": "execute_result"
    }
   ],
   "source": [
    "txt[::9]"
   ]
  },
  {
   "cell_type": "markdown",
   "id": "e7eee7b0-8ae6-4099-8727-33be23f04c13",
   "metadata": {},
   "source": [
    "`#`"
   ]
  },
  {
   "cell_type": "markdown",
   "id": "caa2492c-b980-41c9-840a-a7d36f96bb52",
   "metadata": {},
   "source": [
    "`-` step = -1 이면? "
   ]
  },
  {
   "cell_type": "code",
   "execution_count": 268,
   "id": "6daba8b7-77db-4a3b-900e-0392692d366d",
   "metadata": {},
   "outputs": [
    {
     "data": {
      "text/plain": [
       "['a', 'b', 'c', 'd', 'e', 'f', 'g', 'h', 'i', 'j', 'k']"
      ]
     },
     "execution_count": 268,
     "metadata": {},
     "output_type": "execute_result"
    }
   ],
   "source": [
    "lst"
   ]
  },
  {
   "cell_type": "code",
   "execution_count": 270,
   "id": "2cdeb3f2-e84a-4311-b71a-481888eff7fd",
   "metadata": {},
   "outputs": [
    {
     "data": {
      "text/plain": [
       "['k', 'j', 'i', 'h', 'g', 'f', 'e', 'd', 'c', 'b', 'a']"
      ]
     },
     "execution_count": 270,
     "metadata": {},
     "output_type": "execute_result"
    }
   ],
   "source": [
    "lst[::-1]"
   ]
  },
  {
   "cell_type": "markdown",
   "id": "a1ce1aea-5e11-405a-af19-2c644f6c4ffe",
   "metadata": {},
   "source": [
    "`-` 스트라이딩으로 `step = -1` 옵션 주기 vs 리스트의 `.reverse()` 메소드 이용하기 "
   ]
  },
  {
   "cell_type": "markdown",
   "id": "86013d56-65b8-4c30-88d9-2c17a2c24f38",
   "metadata": {},
   "source": [
    "관찰1: reverse 메소드는 리스트 자체를 변화시킴"
   ]
  },
  {
   "cell_type": "code",
   "execution_count": 281,
   "id": "cbf92f52-5662-4b91-986c-5ad3b991008f",
   "metadata": {},
   "outputs": [
    {
     "data": {
      "text/plain": [
       "['a', 'b', 'c', 'd', 'e', 'f', 'g', 'h']"
      ]
     },
     "execution_count": 281,
     "metadata": {},
     "output_type": "execute_result"
    }
   ],
   "source": [
    "lst = list('abcdefgh')\n",
    "lst"
   ]
  },
  {
   "cell_type": "code",
   "execution_count": 282,
   "id": "bb3f7a99-1ffb-437b-8465-d8f19ea8a90a",
   "metadata": {},
   "outputs": [
    {
     "data": {
      "text/plain": [
       "['h', 'g', 'f', 'e', 'd', 'c', 'b', 'a']"
      ]
     },
     "execution_count": 282,
     "metadata": {},
     "output_type": "execute_result"
    }
   ],
   "source": [
    "lst.reverse()  \n",
    "lst"
   ]
  },
  {
   "cell_type": "markdown",
   "id": "3f014af9-9c22-4504-b649-dde9d97fba48",
   "metadata": {},
   "source": [
    "관찰2: [::-1]는 리스트는 변화시키지 않음"
   ]
  },
  {
   "cell_type": "code",
   "execution_count": 283,
   "id": "7ad2416b-2888-4fb7-8c01-21505fcc9bfd",
   "metadata": {},
   "outputs": [
    {
     "data": {
      "text/plain": [
       "['a', 'b', 'c', 'd', 'e', 'f', 'g', 'h']"
      ]
     },
     "execution_count": 283,
     "metadata": {},
     "output_type": "execute_result"
    }
   ],
   "source": [
    "lst = list('abcdefgh')\n",
    "lst"
   ]
  },
  {
   "cell_type": "code",
   "execution_count": 284,
   "id": "b64f0c1c-abd5-4818-b59a-ff9d13a087a0",
   "metadata": {},
   "outputs": [
    {
     "data": {
      "text/plain": [
       "['h', 'g', 'f', 'e', 'd', 'c', 'b', 'a']"
      ]
     },
     "execution_count": 284,
     "metadata": {},
     "output_type": "execute_result"
    }
   ],
   "source": [
    "lst[::-1]"
   ]
  },
  {
   "cell_type": "code",
   "execution_count": 285,
   "id": "29b8ebe3-f154-458b-a92a-2879a50c2fc9",
   "metadata": {},
   "outputs": [
    {
     "data": {
      "text/plain": [
       "['a', 'b', 'c', 'd', 'e', 'f', 'g', 'h']"
      ]
     },
     "execution_count": 285,
     "metadata": {},
     "output_type": "execute_result"
    }
   ],
   "source": [
    "lst"
   ]
  },
  {
   "cell_type": "markdown",
   "id": "1b2ad318-7cde-49eb-97ea-8955f561d193",
   "metadata": {},
   "source": [
    "`-` -step 은 쓰기 까다롭다. "
   ]
  },
  {
   "cell_type": "markdown",
   "id": "602f0259-4811-4a19-99bc-8db00af3e7b3",
   "metadata": {},
   "source": [
    "(예제) 처음과 끝을 생략하지 않고 아래와 동일한 효과를 주는 코드를 만들어 보자. "
   ]
  },
  {
   "cell_type": "markdown",
   "id": "23127e99-d2df-4c89-9cda-cc44c95732a3",
   "metadata": {},
   "source": [
    "(풀이)"
   ]
  },
  {
   "cell_type": "markdown",
   "id": "427ccdf1-4f97-4bf7-8255-c054cf4d3868",
   "metadata": {},
   "source": [
    "결국 lst[?:?:-1]의 꼴에서 적당히 ?의 값을 채우면 된다. --> 어려워"
   ]
  },
  {
   "cell_type": "code",
   "execution_count": 298,
   "id": "8d18836d-dd17-4ea9-977d-b7608045eec4",
   "metadata": {},
   "outputs": [
    {
     "data": {
      "text/plain": [
       "['a', 'b', 'c', 'd', 'e', 'f', 'g', 'h']"
      ]
     },
     "execution_count": 298,
     "metadata": {},
     "output_type": "execute_result"
    }
   ],
   "source": [
    "lst"
   ]
  },
  {
   "cell_type": "code",
   "execution_count": 299,
   "id": "81ce7a11-3588-4e4c-bbc2-a4116294f4e7",
   "metadata": {},
   "outputs": [
    {
     "data": {
      "text/plain": [
       "['h', 'g', 'f', 'e', 'd', 'c', 'b', 'a']"
      ]
     },
     "execution_count": 299,
     "metadata": {},
     "output_type": "execute_result"
    }
   ],
   "source": [
    "lst[::-1]"
   ]
  },
  {
   "cell_type": "markdown",
   "id": "8b70cd46-fefe-486e-bcf4-06c2ae5d6196",
   "metadata": {},
   "source": [
    "|None|a|b|c|d|e|f|g|h|None|\n",
    "|:-:|:-:|:-:|:-:|:-:|:-:|:-:|:-:|:-:|:-:|\n",
    "|?|0|1|2|3|4|5|6|7|8|\n",
    "|-9|-8|-7|-6|-5|-4|-3|-2|-1|?|"
   ]
  },
  {
   "cell_type": "code",
   "execution_count": 300,
   "id": "e0e2eecf-ad1e-4b9c-8f6e-208e5a9f241b",
   "metadata": {},
   "outputs": [
    {
     "data": {
      "text/plain": [
       "['h', 'g', 'f', 'e', 'd', 'c', 'b', 'a']"
      ]
     },
     "execution_count": 300,
     "metadata": {},
     "output_type": "execute_result"
    }
   ],
   "source": [
    "lst[-1:-9:-1]  # 지양 <-- 쓰지마.."
   ]
  },
  {
   "cell_type": "markdown",
   "id": "caf9dc84-fb58-4cbc-9ab5-c62b597f539b",
   "metadata": {},
   "source": [
    "## B. len함수 "
   ]
  },
  {
   "cell_type": "markdown",
   "id": "34512b26-61c1-47fc-95a9-16f9dc92551e",
   "metadata": {},
   "source": [
    "`-` 0차원 자료형은 len함수가 동작하지 않음 "
   ]
  },
  {
   "cell_type": "code",
   "execution_count": 302,
   "id": "c595a23e-64ed-48b7-a665-a792ddd038ca",
   "metadata": {},
   "outputs": [
    {
     "ename": "TypeError",
     "evalue": "object of type 'int' has no len()",
     "output_type": "error",
     "traceback": [
      "\u001b[0;31m---------------------------------------------------------------------------\u001b[0m",
      "\u001b[0;31mTypeError\u001b[0m                                 Traceback (most recent call last)",
      "Cell \u001b[0;32mIn[302], line 2\u001b[0m\n\u001b[1;32m      1\u001b[0m a\u001b[38;5;241m=\u001b[39m\u001b[38;5;241m1\u001b[39m \n\u001b[0;32m----> 2\u001b[0m \u001b[38;5;28;43mlen\u001b[39;49m\u001b[43m(\u001b[49m\u001b[43ma\u001b[49m\u001b[43m)\u001b[49m\n",
      "\u001b[0;31mTypeError\u001b[0m: object of type 'int' has no len()"
     ]
    }
   ],
   "source": [
    "a=1 \n",
    "len(a)"
   ]
  },
  {
   "cell_type": "code",
   "execution_count": 303,
   "id": "78214b2d-63f8-466b-b986-dcec71442306",
   "metadata": {},
   "outputs": [
    {
     "ename": "TypeError",
     "evalue": "object of type 'bool' has no len()",
     "output_type": "error",
     "traceback": [
      "\u001b[0;31m---------------------------------------------------------------------------\u001b[0m",
      "\u001b[0;31mTypeError\u001b[0m                                 Traceback (most recent call last)",
      "Cell \u001b[0;32mIn[303], line 2\u001b[0m\n\u001b[1;32m      1\u001b[0m a\u001b[38;5;241m=\u001b[39m\u001b[38;5;28;01mTrue\u001b[39;00m\n\u001b[0;32m----> 2\u001b[0m \u001b[38;5;28;43mlen\u001b[39;49m\u001b[43m(\u001b[49m\u001b[43ma\u001b[49m\u001b[43m)\u001b[49m\n",
      "\u001b[0;31mTypeError\u001b[0m: object of type 'bool' has no len()"
     ]
    }
   ],
   "source": [
    "a=True\n",
    "len(a)"
   ]
  },
  {
   "cell_type": "code",
   "execution_count": 304,
   "id": "186a506d-459a-4279-b998-72d426f570bb",
   "metadata": {},
   "outputs": [
    {
     "ename": "TypeError",
     "evalue": "object of type 'float' has no len()",
     "output_type": "error",
     "traceback": [
      "\u001b[0;31m---------------------------------------------------------------------------\u001b[0m",
      "\u001b[0;31mTypeError\u001b[0m                                 Traceback (most recent call last)",
      "Cell \u001b[0;32mIn[304], line 2\u001b[0m\n\u001b[1;32m      1\u001b[0m a\u001b[38;5;241m=\u001b[39m\u001b[38;5;241m3.14\u001b[39m\n\u001b[0;32m----> 2\u001b[0m \u001b[38;5;28;43mlen\u001b[39;49m\u001b[43m(\u001b[49m\u001b[43ma\u001b[49m\u001b[43m)\u001b[49m\n",
      "\u001b[0;31mTypeError\u001b[0m: object of type 'float' has no len()"
     ]
    }
   ],
   "source": [
    "a=3.14\n",
    "len(a)"
   ]
  },
  {
   "cell_type": "markdown",
   "id": "c3160916-100e-4c34-976b-ead8fe9aace1",
   "metadata": {},
   "source": [
    "> note: 이것이 어떠한 수학적인 의미를 가지거나 0차원의 본질적진리를 뜻하는 것은 아님. R에서는 1,3.14,TRUE의 길이가 1로 존재함. "
   ]
  },
  {
   "cell_type": "markdown",
   "id": "ac3eeb62-a392-404b-be60-1a424388c1b8",
   "metadata": {},
   "source": [
    "`-` 1차원 자료형은 len함수가 동작"
   ]
  },
  {
   "cell_type": "code",
   "execution_count": 305,
   "id": "2e84727f-9407-4130-980a-2dcb7ac04b21",
   "metadata": {},
   "outputs": [
    {
     "data": {
      "text/plain": [
       "6"
      ]
     },
     "execution_count": 305,
     "metadata": {},
     "output_type": "execute_result"
    }
   ],
   "source": [
    "a='guebin'\n",
    "len(a)"
   ]
  },
  {
   "cell_type": "code",
   "execution_count": 306,
   "id": "d07300c7-e42d-4ebe-b0f7-3ab192bd9fab",
   "metadata": {},
   "outputs": [
    {
     "data": {
      "text/plain": [
       "6"
      ]
     },
     "execution_count": 306,
     "metadata": {},
     "output_type": "execute_result"
    }
   ],
   "source": [
    "a=[1,2,3,4,5,6]\n",
    "len(a)"
   ]
  },
  {
   "cell_type": "code",
   "execution_count": 307,
   "id": "77633684-46a3-41e7-ba6f-10aaef7d5a93",
   "metadata": {},
   "outputs": [
    {
     "data": {
      "text/plain": [
       "6"
      ]
     },
     "execution_count": 307,
     "metadata": {},
     "output_type": "execute_result"
    }
   ],
   "source": [
    "a=1,2,3,4,5,6 \n",
    "len(a)"
   ]
  },
  {
   "cell_type": "code",
   "execution_count": 309,
   "id": "42f1e96a-cb94-4e0f-9495-e316cc875a1d",
   "metadata": {},
   "outputs": [
    {
     "data": {
      "text/plain": [
       "10"
      ]
     },
     "execution_count": 309,
     "metadata": {},
     "output_type": "execute_result"
    }
   ],
   "source": [
    "a=range(10)\n",
    "len(a)"
   ]
  },
  {
   "cell_type": "markdown",
   "id": "27085803-5ae2-40e8-88bd-4cc0999f132f",
   "metadata": {},
   "source": [
    "`-` 길이가 1인 1차원 자료형과 0차원 자료형은 다른것임 "
   ]
  },
  {
   "cell_type": "code",
   "execution_count": 310,
   "id": "ca864850-1a82-4ebe-9700-54aaa4ce546f",
   "metadata": {},
   "outputs": [
    {
     "data": {
      "text/plain": [
       "1"
      ]
     },
     "execution_count": 310,
     "metadata": {},
     "output_type": "execute_result"
    }
   ],
   "source": [
    "a='g'\n",
    "len(a)"
   ]
  },
  {
   "cell_type": "code",
   "execution_count": 311,
   "id": "22fe6eef-be6c-4c1f-abba-89ee2e8f5118",
   "metadata": {},
   "outputs": [
    {
     "data": {
      "text/plain": [
       "1"
      ]
     },
     "execution_count": 311,
     "metadata": {},
     "output_type": "execute_result"
    }
   ],
   "source": [
    "a=[1]\n",
    "len(a)"
   ]
  },
  {
   "cell_type": "code",
   "execution_count": 312,
   "id": "b8a1fa46-9564-4c0c-b6e7-0a3e104e286a",
   "metadata": {},
   "outputs": [
    {
     "data": {
      "text/plain": [
       "1"
      ]
     },
     "execution_count": 312,
     "metadata": {},
     "output_type": "execute_result"
    }
   ],
   "source": [
    "a=(1,)\n",
    "len(a)"
   ]
  },
  {
   "cell_type": "code",
   "execution_count": 313,
   "id": "d9cc91b7-06b3-4659-bc09-1ca63b6762f0",
   "metadata": {},
   "outputs": [
    {
     "data": {
      "text/plain": [
       "1"
      ]
     },
     "execution_count": 313,
     "metadata": {},
     "output_type": "execute_result"
    }
   ],
   "source": [
    "a=range(1)\n",
    "len(a)"
   ]
  },
  {
   "cell_type": "markdown",
   "id": "47209263-59b8-46da-8bdd-ff279fb473cb",
   "metadata": {},
   "source": [
    "`-` 길이가 0인 1차원 자료형도 존재함 "
   ]
  },
  {
   "cell_type": "code",
   "execution_count": 315,
   "id": "2bba632f-c3d5-4451-9cc3-5005facaff00",
   "metadata": {},
   "outputs": [
    {
     "data": {
      "text/plain": [
       "0"
      ]
     },
     "execution_count": 315,
     "metadata": {},
     "output_type": "execute_result"
    }
   ],
   "source": [
    "a=''\n",
    "len(a)"
   ]
  },
  {
   "cell_type": "code",
   "execution_count": 316,
   "id": "bba2dce5-64bb-4815-8365-50dde26d18e4",
   "metadata": {},
   "outputs": [
    {
     "data": {
      "text/plain": [
       "0"
      ]
     },
     "execution_count": 316,
     "metadata": {},
     "output_type": "execute_result"
    }
   ],
   "source": [
    "a=[]\n",
    "len(a)"
   ]
  },
  {
   "cell_type": "code",
   "execution_count": 317,
   "id": "b1a2b80d-2bcf-465a-8f80-85398dd500c4",
   "metadata": {},
   "outputs": [
    {
     "data": {
      "text/plain": [
       "0"
      ]
     },
     "execution_count": 317,
     "metadata": {},
     "output_type": "execute_result"
    }
   ],
   "source": [
    "a=()\n",
    "len(a)"
   ]
  },
  {
   "cell_type": "code",
   "execution_count": 318,
   "id": "8165e893-635a-4c6f-b3c4-d472e59ba767",
   "metadata": {},
   "outputs": [
    {
     "data": {
      "text/plain": [
       "0"
      ]
     },
     "execution_count": 318,
     "metadata": {},
     "output_type": "execute_result"
    }
   ],
   "source": [
    "a=range(0)\n",
    "len(a)"
   ]
  },
  {
   "cell_type": "markdown",
   "id": "effb18e7-b57c-4cdf-95a0-79102118ba3a",
   "metadata": {},
   "source": [
    "# 5. `dict`"
   ]
  },
  {
   "cell_type": "markdown",
   "id": "51e987fb-ad10-4224-a848-ceec7bb00377",
   "metadata": {},
   "source": [
    "## A. intro: str, list, tuple 정리"
   ]
  },
  {
   "cell_type": "markdown",
   "id": "179f9018-70c1-44b5-bf35-85094c6cc8e7",
   "metadata": {},
   "source": [
    "`-` str, list, tuple은 모두 시퀀스형이라는 공통점이 있다. $\\to$ 원소의 위치번호로 인덱싱이 가능 "
   ]
  },
  {
   "cell_type": "code",
   "execution_count": 104,
   "id": "c256a2cc-0b54-43a8-af73-79673d6cadd2",
   "metadata": {},
   "outputs": [],
   "source": [
    "lst = [1,2,3,4]"
   ]
  },
  {
   "cell_type": "code",
   "execution_count": 105,
   "id": "0bce269e-d806-490c-a1ee-0db8d9223661",
   "metadata": {},
   "outputs": [
    {
     "data": {
      "text/plain": [
       "1"
      ]
     },
     "execution_count": 105,
     "metadata": {},
     "output_type": "execute_result"
    }
   ],
   "source": [
    "lst[0] # 위치번호=0"
   ]
  },
  {
   "cell_type": "code",
   "execution_count": 106,
   "id": "c4bdaa18-7e4b-48bd-8383-09edede87fa7",
   "metadata": {},
   "outputs": [
    {
     "data": {
      "text/plain": [
       "4"
      ]
     },
     "execution_count": 106,
     "metadata": {},
     "output_type": "execute_result"
    }
   ],
   "source": [
    "lst[-1] # 위치번호=-1"
   ]
  },
  {
   "cell_type": "markdown",
   "id": "6d6eaa73-e344-41b6-8f99-27f81b773983",
   "metadata": {},
   "source": [
    "`-` str, list, tuple은 차이점도 존재함. 잠깐 정리해보자. "
   ]
  },
  {
   "cell_type": "markdown",
   "id": "2d74f823-2a69-4fec-9a42-995fe9aa05c0",
   "metadata": {},
   "source": [
    "***시퀀스형의 카테고리***\n",
    "\n",
    "- 컨테니어형: list, tuple \n",
    "- 균일형: str \n",
    "- 가변형: list \n",
    "- 불변형: tuple, str "
   ]
  },
  {
   "cell_type": "markdown",
   "id": "e60d721e-f8e5-42d4-82bc-741b5c722c4f",
   "metadata": {},
   "source": [
    "***표로 정리하면***"
   ]
  },
  {
   "cell_type": "markdown",
   "id": "a576f33e-c26f-4e70-9b54-6c00b3c17dd3",
   "metadata": {},
   "source": [
    "||컨테니어형|균일형|\n",
    "|:-:|:-:|:-:|\n",
    "|가변형|list|.|\n",
    "|불변형|tuple|str|"
   ]
  },
  {
   "cell_type": "markdown",
   "id": "2759d60b-4075-419d-878e-67819841351a",
   "metadata": {},
   "source": [
    "`-` 시퀀스형이 아닌 1차원 자료형도 있을까? 원소의 위치번호로 인덱싱이 불가능한 자료형 "
   ]
  },
  {
   "cell_type": "markdown",
   "id": "89c20fad-2d53-4765-aaf6-2a5d894f0042",
   "metadata": {},
   "source": [
    "`-` 왜 이런게 필요할까? \n",
    "\n",
    "- 벡터에서 원소를 뽑는것은 정보의 모임에서 정보를 검색하는 것과 같다. \n",
    "- 정보를 `순서`대로 나열한뒤에 그 `순서`를 이용하여 검색하는 방법은 유용하다. \n",
    "- 하지만 경우에 따라서는 `키워드`를 기억해서 그 `키워드`를 바탕으로 정보에 접근하는 방법이 유용할 수 있다.  "
   ]
  },
  {
   "cell_type": "markdown",
   "id": "7f1ed94f-b662-4f5b-b659-5fb9eac41266",
   "metadata": {},
   "source": [
    "***카카오톡 대화내용검색*** "
   ]
  },
  {
   "cell_type": "markdown",
   "id": "b30bcdaf-ec05-4cdb-98a2-c5c849688ef7",
   "metadata": {},
   "source": [
    "(상황1) `오늘아침`에 와이프가 `뭔가`를 카톡으로 부탁했었음. 그런데 그 뭔가가 기억안남. "
   ]
  },
  {
   "cell_type": "markdown",
   "id": "2902f2b3-c283-45c2-9ce2-48b2f8b102e2",
   "metadata": {},
   "source": [
    "(상황2) `방학전에` 동료교수과 `개강이후 저녁약속`을 카톡으로 잡았었음. 그런데 그게 언제인지 기억안남. "
   ]
  },
  {
   "cell_type": "markdown",
   "id": "ec4c6efb-3db2-434d-8cef-25853a4f2033",
   "metadata": {},
   "source": [
    "`-` 순서대로 정리된 자료를 검색할때는 시퀀스형이 유리하다. 그런데 키워드로 검색하고 싶을 경우는 딕셔너리 타입이 유리하다. "
   ]
  },
  {
   "cell_type": "markdown",
   "id": "266d50c1-7253-4800-bf3b-87d7f889e17f",
   "metadata": {},
   "source": [
    "## B. 선언 "
   ]
  },
  {
   "cell_type": "markdown",
   "id": "16d49f25-1b26-4f51-8bc9-66816d0b864f",
   "metadata": {},
   "source": [
    "`-` 방법1: 가장 일반적 "
   ]
  },
  {
   "cell_type": "code",
   "execution_count": 1,
   "id": "cf88b075-6462-4362-96d9-05fde548baf2",
   "metadata": {},
   "outputs": [
    {
     "data": {
      "text/plain": [
       "{'guebin': 49, 'hanni': 80}"
      ]
     },
     "execution_count": 1,
     "metadata": {},
     "output_type": "execute_result"
    }
   ],
   "source": [
    "dct = {'guebin':49, 'hanni':80}\n",
    "dct"
   ]
  },
  {
   "cell_type": "markdown",
   "id": "de4a13b9-ab76-470f-95e3-aa1de81b0a2c",
   "metadata": {},
   "source": [
    "`-` 방법2: `dict()` 이용 "
   ]
  },
  {
   "cell_type": "code",
   "execution_count": 3,
   "id": "d4df8b1c-920f-4e03-843a-13b5a96b2102",
   "metadata": {},
   "outputs": [
    {
     "data": {
      "text/plain": [
       "{'guebin': 49, 'hanni': 80}"
      ]
     },
     "execution_count": 3,
     "metadata": {},
     "output_type": "execute_result"
    }
   ],
   "source": [
    "dct = dict(guebin=49, hanni=80)\n",
    "dct"
   ]
  },
  {
   "cell_type": "markdown",
   "id": "fa80a70f-3758-4c0b-ade0-0a35627bbfdc",
   "metadata": {},
   "source": [
    "`-` 방법3: 중첩된 리스트를 만든 뒤에 형태변환 "
   ]
  },
  {
   "cell_type": "code",
   "execution_count": 7,
   "id": "b932d1b4-0f15-4786-9f10-7cd472ea2797",
   "metadata": {},
   "outputs": [
    {
     "data": {
      "text/plain": [
       "[['guebin', 49], ['hanni', 80]]"
      ]
     },
     "execution_count": 7,
     "metadata": {},
     "output_type": "execute_result"
    }
   ],
   "source": [
    "_lst = [['guebin',49],['hanni',80]]\n",
    "_lst "
   ]
  },
  {
   "cell_type": "code",
   "execution_count": 8,
   "id": "29e599d3-236c-4892-8eca-8a3e2df99419",
   "metadata": {},
   "outputs": [
    {
     "data": {
      "text/plain": [
       "{'guebin': 49, 'hanni': 80}"
      ]
     },
     "execution_count": 8,
     "metadata": {},
     "output_type": "execute_result"
    }
   ],
   "source": [
    "dict(_lst)"
   ]
  },
  {
   "cell_type": "markdown",
   "id": "a53d01a6-3f98-4c40-8e2c-b18a0ce17a6a",
   "metadata": {},
   "source": [
    "`-` 방법4: 중첩된 튜플을 만든 뒤에 형태변환 "
   ]
  },
  {
   "cell_type": "code",
   "execution_count": 9,
   "id": "b70b6839-2ac2-4155-beb8-a1e6c01a5ac5",
   "metadata": {},
   "outputs": [
    {
     "data": {
      "text/plain": [
       "(('guebin', 49), ('hanni', 80))"
      ]
     },
     "execution_count": 9,
     "metadata": {},
     "output_type": "execute_result"
    }
   ],
   "source": [
    "_tpl = ('guebin',49), ('hanni',80)\n",
    "_tpl"
   ]
  },
  {
   "cell_type": "code",
   "execution_count": 10,
   "id": "db544794-c0f8-42ee-bb2e-bb3ae9bc2691",
   "metadata": {},
   "outputs": [
    {
     "data": {
      "text/plain": [
       "{'guebin': 49, 'hanni': 80}"
      ]
     },
     "execution_count": 10,
     "metadata": {},
     "output_type": "execute_result"
    }
   ],
   "source": [
    "dict(_tpl)"
   ]
  },
  {
   "cell_type": "markdown",
   "id": "decd43b7-7087-468c-8c96-2a9e2183b427",
   "metadata": {},
   "source": [
    "## C. 원소추출 "
   ]
  },
  {
   "cell_type": "markdown",
   "id": "34dad966-c0b2-40e2-8a6c-01d0d91a3c4f",
   "metadata": {},
   "source": [
    "`-` 원소의 위치로 추출할 수 없고, key로 추출해야 한다. "
   ]
  },
  {
   "cell_type": "code",
   "execution_count": 11,
   "id": "3fbd20d1-d91d-41b4-aed1-8ba31d33a447",
   "metadata": {},
   "outputs": [
    {
     "data": {
      "text/plain": [
       "{'guebin': 49, 'hanni': 80}"
      ]
     },
     "execution_count": 11,
     "metadata": {},
     "output_type": "execute_result"
    }
   ],
   "source": [
    "dct = {'guebin':49, 'hanni':80}\n",
    "dct"
   ]
  },
  {
   "cell_type": "markdown",
   "id": "c1a5d704-2aac-49c7-8bea-748fe738dd12",
   "metadata": {},
   "source": [
    "guebin의 점수를 추출하고 싶다면? "
   ]
  },
  {
   "cell_type": "code",
   "execution_count": 119,
   "id": "58531525-b981-4980-9732-207abc102e1b",
   "metadata": {},
   "outputs": [
    {
     "data": {
      "text/plain": [
       "49"
      ]
     },
     "execution_count": 119,
     "metadata": {},
     "output_type": "execute_result"
    }
   ],
   "source": [
    "dct['guebin']"
   ]
  },
  {
   "cell_type": "markdown",
   "id": "c8c1a10e-c1d2-4be0-bd8f-9c8e04257aa4",
   "metadata": {},
   "source": [
    "`-` 만약에 dict가 아니라 list로 정보를 저장했다면? "
   ]
  },
  {
   "cell_type": "markdown",
   "id": "2d30a092-a7a7-4475-93d0-f4f36b698c76",
   "metadata": {},
   "source": [
    "(예제) 아래와 같은 리스트에서 guebin의 점수를 추출하고 싶다면? "
   ]
  },
  {
   "cell_type": "code",
   "execution_count": 16,
   "id": "42a855aa-d486-46f3-82c0-67089755dbd6",
   "metadata": {},
   "outputs": [
    {
     "data": {
      "text/plain": [
       "[['guebin', 49], ['hanni', 80]]"
      ]
     },
     "execution_count": 16,
     "metadata": {},
     "output_type": "execute_result"
    }
   ],
   "source": [
    "lst=[['guebin',49],['hanni',80]]\n",
    "lst"
   ]
  },
  {
   "cell_type": "markdown",
   "id": "457163f3-9102-4490-a3bb-9d372b834956",
   "metadata": {},
   "source": [
    "(풀이1)"
   ]
  },
  {
   "cell_type": "code",
   "execution_count": 120,
   "id": "84152e39-01a5-424e-be14-ed8b759a22c6",
   "metadata": {},
   "outputs": [
    {
     "data": {
      "text/plain": [
       "49"
      ]
     },
     "execution_count": 120,
     "metadata": {},
     "output_type": "execute_result"
    }
   ],
   "source": [
    "lst[0][1] # guebin의 점수를 출력하란 의미"
   ]
  },
  {
   "cell_type": "markdown",
   "id": "f1b41246-241c-4e91-b36f-a9db7c774b42",
   "metadata": {},
   "source": [
    "(풀이2) -- 진짜 최악"
   ]
  },
  {
   "cell_type": "code",
   "execution_count": 129,
   "id": "70dd06b2-cd0e-45c1-8dfc-da2abd76fb9e",
   "metadata": {},
   "outputs": [
    {
     "data": {
      "text/plain": [
       "[49]"
      ]
     },
     "execution_count": 129,
     "metadata": {},
     "output_type": "execute_result"
    }
   ],
   "source": [
    "[lst[i][1] for i in range(len(lst)) if lst[i][0] == 'guebin']"
   ]
  },
  {
   "cell_type": "markdown",
   "id": "d6583cf9-88cc-49b2-b03d-4253f4a49622",
   "metadata": {},
   "source": [
    "(풀이3) -- 덜 최악"
   ]
  },
  {
   "cell_type": "code",
   "execution_count": 132,
   "id": "3af086a5-0dfe-4b84-aa53-5d4ab3c9faf9",
   "metadata": {},
   "outputs": [
    {
     "data": {
      "text/plain": [
       "[49]"
      ]
     },
     "execution_count": 132,
     "metadata": {},
     "output_type": "execute_result"
    }
   ],
   "source": [
    "[score for name,score in lst if name == 'guebin']"
   ]
  },
  {
   "cell_type": "markdown",
   "id": "897dbe0f-ae87-490e-a03e-5abf9338a68d",
   "metadata": {},
   "source": [
    "`-` 'guebin'의 점수를 추출하는 코드 비교 "
   ]
  },
  {
   "cell_type": "code",
   "execution_count": 52,
   "id": "c64b6d2a-3bd9-451d-9912-73110de06d80",
   "metadata": {},
   "outputs": [
    {
     "data": {
      "text/plain": [
       "49"
      ]
     },
     "execution_count": 52,
     "metadata": {},
     "output_type": "execute_result"
    }
   ],
   "source": [
    "dct['guebin'] # 코드1: 단순하고, 가독성있음"
   ]
  },
  {
   "cell_type": "code",
   "execution_count": 40,
   "id": "385d545a-9a86-4f94-9fbf-7c1e94f52d0d",
   "metadata": {},
   "outputs": [
    {
     "data": {
      "text/plain": [
       "49"
      ]
     },
     "execution_count": 40,
     "metadata": {},
     "output_type": "execute_result"
    }
   ],
   "source": [
    "lst[0][1] # 코드2: 단순하지만, 가독성이 있는건 아님, 확장성이 없음"
   ]
  },
  {
   "cell_type": "code",
   "execution_count": 54,
   "id": "0f32a374-9f25-4fae-a554-bf87b5d6cea9",
   "metadata": {},
   "outputs": [
    {
     "data": {
      "text/plain": [
       "[49]"
      ]
     },
     "execution_count": 54,
     "metadata": {},
     "output_type": "execute_result"
    }
   ],
   "source": [
    "[lst[i][1] for i in range(len(lst)) if lst[i][0] =='guebin'] # 코드3: 단순하지도 않고, 가독성도 없음."
   ]
  },
  {
   "cell_type": "code",
   "execution_count": 55,
   "id": "b6292824-f03d-4268-baea-1f3033ab8bb1",
   "metadata": {},
   "outputs": [
    {
     "data": {
      "text/plain": [
       "[49]"
      ]
     },
     "execution_count": 55,
     "metadata": {},
     "output_type": "execute_result"
    }
   ],
   "source": [
    "[score for name,score in lst if name=='guebin' ] # 코드4: 단순하지 않지만, 가독성은 있음"
   ]
  },
  {
   "cell_type": "markdown",
   "id": "f1dd391b-7919-4692-9dea-e15e2732a4a2",
   "metadata": {},
   "source": [
    "## D. 원소추가, 변경, 삭제"
   ]
  },
  {
   "cell_type": "code",
   "execution_count": 48,
   "id": "8b7fe566-029f-40ba-9f8a-f09e8d6f228a",
   "metadata": {},
   "outputs": [
    {
     "data": {
      "text/plain": [
       "{'guebin': 49, 'hanni': 80}"
      ]
     },
     "execution_count": 48,
     "metadata": {},
     "output_type": "execute_result"
    }
   ],
   "source": [
    "dct={'guebin':49, 'hanni':80}\n",
    "dct"
   ]
  },
  {
   "cell_type": "markdown",
   "id": "3b62122a-bc8a-4503-acc4-084345ffde6e",
   "metadata": {},
   "source": [
    "`-` 원소에 접근: guebin의 점수 출력"
   ]
  },
  {
   "cell_type": "code",
   "execution_count": 50,
   "id": "e15be58c-2b25-4427-92cc-1bb9449b2d53",
   "metadata": {},
   "outputs": [
    {
     "data": {
      "text/plain": [
       "49"
      ]
     },
     "execution_count": 50,
     "metadata": {},
     "output_type": "execute_result"
    }
   ],
   "source": [
    "dct['guebin']"
   ]
  },
  {
   "cell_type": "markdown",
   "id": "f5c96d1a-9e0f-4da5-a17d-a577bcfc5645",
   "metadata": {},
   "source": [
    "`-` 추가: hynn학생의 점수를 추가"
   ]
  },
  {
   "cell_type": "code",
   "execution_count": 51,
   "id": "a71f46ad-c51f-442b-8475-c3a9eab5bda7",
   "metadata": {},
   "outputs": [],
   "source": [
    "dct['hynn'] = 99"
   ]
  },
  {
   "cell_type": "code",
   "execution_count": 52,
   "id": "a3c53ba2-fdf1-4711-a790-6ba184e398fa",
   "metadata": {},
   "outputs": [
    {
     "data": {
      "text/plain": [
       "{'guebin': 49, 'hanni': 80, 'hynn': 99}"
      ]
     },
     "execution_count": 52,
     "metadata": {},
     "output_type": "execute_result"
    }
   ],
   "source": [
    "dct"
   ]
  },
  {
   "cell_type": "markdown",
   "id": "ce61024c-a228-4b3e-9084-a65b7fa22ac3",
   "metadata": {},
   "source": [
    "`-` 변경: hanni의 점수를 변경 "
   ]
  },
  {
   "cell_type": "code",
   "execution_count": 53,
   "id": "10d97502-8d8e-4edb-ba45-c100e9b8ed8a",
   "metadata": {},
   "outputs": [],
   "source": [
    "dct['hanni'] = 100 "
   ]
  },
  {
   "cell_type": "code",
   "execution_count": 54,
   "id": "197ad4a6-17fd-43d4-863a-e2252294a568",
   "metadata": {},
   "outputs": [
    {
     "data": {
      "text/plain": [
       "{'guebin': 49, 'hanni': 100, 'hynn': 99}"
      ]
     },
     "execution_count": 54,
     "metadata": {},
     "output_type": "execute_result"
    }
   ],
   "source": [
    "dct"
   ]
  },
  {
   "cell_type": "markdown",
   "id": "ca0b4a69-0c02-4d33-b344-813c54126aca",
   "metadata": {},
   "source": [
    "`-` 삭제 "
   ]
  },
  {
   "cell_type": "markdown",
   "id": "8c4ad5ed-7399-4f86-af0e-fb91640609a2",
   "metadata": {},
   "source": [
    "(방법1)"
   ]
  },
  {
   "cell_type": "code",
   "execution_count": 57,
   "id": "c4520f98-8bc4-4211-b7e8-24c867edf552",
   "metadata": {},
   "outputs": [
    {
     "data": {
      "text/plain": [
       "{'hanni': 80, 'hynn': 99}"
      ]
     },
     "execution_count": 57,
     "metadata": {},
     "output_type": "execute_result"
    }
   ],
   "source": [
    "dct={'guebin':49, 'hanni':80, 'hynn':99}\n",
    "del dct['guebin']  \n",
    "dct"
   ]
  },
  {
   "cell_type": "markdown",
   "id": "818bf47c-74df-4b99-992d-faf7ab326ba6",
   "metadata": {},
   "source": [
    "(방법2)"
   ]
  },
  {
   "cell_type": "code",
   "execution_count": 58,
   "id": "2d4587ff-907b-4cb9-b4c5-a4f5589f8782",
   "metadata": {},
   "outputs": [
    {
     "data": {
      "text/plain": [
       "49"
      ]
     },
     "execution_count": 58,
     "metadata": {},
     "output_type": "execute_result"
    }
   ],
   "source": [
    "dct={'guebin':49, 'hanni':80, 'hynn':99} \n",
    "dct.pop('guebin')"
   ]
  },
  {
   "cell_type": "code",
   "execution_count": 59,
   "id": "e19c7018-b93c-4444-b642-0b22476ef8a0",
   "metadata": {},
   "outputs": [
    {
     "data": {
      "text/plain": [
       "{'hanni': 80, 'hynn': 99}"
      ]
     },
     "execution_count": 59,
     "metadata": {},
     "output_type": "execute_result"
    }
   ],
   "source": [
    "dct"
   ]
  },
  {
   "cell_type": "markdown",
   "id": "6c6af32a-0ce9-4e92-a426-a650310e291a",
   "metadata": {},
   "source": [
    "`-` 참고로 리스트였다면 이러한 삭제작업역시 비효율적이었을 것임 "
   ]
  },
  {
   "cell_type": "code",
   "execution_count": 60,
   "id": "7594b905-ef56-4fae-92a3-02be86aaceb9",
   "metadata": {},
   "outputs": [
    {
     "data": {
      "text/plain": [
       "[['guebin', 49], ['hanni', 80], ['hynn', 99]]"
      ]
     },
     "execution_count": 60,
     "metadata": {},
     "output_type": "execute_result"
    }
   ],
   "source": [
    "lst = [['guebin',49],['hanni',80],['hynn',99]] \n",
    "lst"
   ]
  },
  {
   "cell_type": "markdown",
   "id": "2e763bef-320a-481e-93a7-4f651ee96335",
   "metadata": {},
   "source": [
    "guebin의 점수를 삭제하려면? "
   ]
  },
  {
   "cell_type": "code",
   "execution_count": 150,
   "id": "13381669-999f-47f3-a51c-ff4c0aabd4a6",
   "metadata": {},
   "outputs": [
    {
     "data": {
      "text/plain": [
       "[['hanni', 80], ['hynn', 99]]"
      ]
     },
     "execution_count": 150,
     "metadata": {},
     "output_type": "execute_result"
    }
   ],
   "source": [
    "[[name,score] for name,score in lst if name != 'guebin']"
   ]
  },
  {
   "cell_type": "markdown",
   "id": "324cee28-74e0-4da7-95ca-345666a5639e",
   "metadata": {},
   "source": [
    "## E. 연산 "
   ]
  },
  {
   "cell_type": "markdown",
   "id": "d88f3357-a61d-48c0-8d38-0ef3c1a90065",
   "metadata": {},
   "source": [
    "`-` 하나있어요.. "
   ]
  },
  {
   "cell_type": "code",
   "execution_count": 69,
   "id": "41a1ad43-0e13-4968-85b3-e851bd9eff0e",
   "metadata": {},
   "outputs": [
    {
     "data": {
      "text/plain": [
       "{'guebin': 49, 'hanni': 80}"
      ]
     },
     "execution_count": 69,
     "metadata": {},
     "output_type": "execute_result"
    }
   ],
   "source": [
    "dct = {'guebin':49, 'hanni':80} \n",
    "dct"
   ]
  },
  {
   "cell_type": "code",
   "execution_count": 82,
   "id": "d8fc2078-c535-4e5e-a2ba-a554c35328bf",
   "metadata": {},
   "outputs": [
    {
     "data": {
      "text/plain": [
       "True"
      ]
     },
     "execution_count": 82,
     "metadata": {},
     "output_type": "execute_result"
    }
   ],
   "source": [
    "'guebin' in dct"
   ]
  },
  {
   "cell_type": "code",
   "execution_count": 71,
   "id": "9bc35e4e-5e9d-4b4f-a0d1-624452c47c4b",
   "metadata": {},
   "outputs": [
    {
     "data": {
      "text/plain": [
       "True"
      ]
     },
     "execution_count": 71,
     "metadata": {},
     "output_type": "execute_result"
    }
   ],
   "source": [
    "'hanni' in dct"
   ]
  },
  {
   "cell_type": "code",
   "execution_count": 72,
   "id": "04c0bb2a-ff40-487d-a467-a3b542ebf5d1",
   "metadata": {},
   "outputs": [
    {
     "data": {
      "text/plain": [
       "False"
      ]
     },
     "execution_count": 72,
     "metadata": {},
     "output_type": "execute_result"
    }
   ],
   "source": [
    "'hynn' in dct"
   ]
  },
  {
   "cell_type": "markdown",
   "id": "022039fe-0df8-4532-9596-3bada473c6c9",
   "metadata": {},
   "source": [
    "`-` in은 사실 다른자료형도 가능했음 "
   ]
  },
  {
   "cell_type": "markdown",
   "id": "07467ad1-4120-4e1a-a4f6-eb0fb1200f43",
   "metadata": {},
   "source": [
    "(관찰1)"
   ]
  },
  {
   "cell_type": "code",
   "execution_count": 73,
   "id": "e2c006d3-9c39-495d-baef-b57421a6eeb0",
   "metadata": {},
   "outputs": [
    {
     "data": {
      "text/plain": [
       "False"
      ]
     },
     "execution_count": 73,
     "metadata": {},
     "output_type": "execute_result"
    }
   ],
   "source": [
    "'a' in 'guebin' "
   ]
  },
  {
   "cell_type": "code",
   "execution_count": 74,
   "id": "b7e5496c-5e56-470e-8db7-847a1f944554",
   "metadata": {},
   "outputs": [
    {
     "data": {
      "text/plain": [
       "True"
      ]
     },
     "execution_count": 74,
     "metadata": {},
     "output_type": "execute_result"
    }
   ],
   "source": [
    "'b' in 'guebin' "
   ]
  },
  {
   "cell_type": "code",
   "execution_count": 75,
   "id": "66ab132c-9a0e-4c2b-b0a3-a530cf699991",
   "metadata": {},
   "outputs": [
    {
     "data": {
      "text/plain": [
       "False"
      ]
     },
     "execution_count": 75,
     "metadata": {},
     "output_type": "execute_result"
    }
   ],
   "source": [
    "'c' in 'guebin' "
   ]
  },
  {
   "cell_type": "markdown",
   "id": "bcab408b-93de-48a7-af59-8d672ed49c6e",
   "metadata": {},
   "source": [
    "(관찰2)"
   ]
  },
  {
   "cell_type": "code",
   "execution_count": 76,
   "id": "8c9cff92-5f3c-4ee1-a02e-588a46b7ccfc",
   "metadata": {},
   "outputs": [
    {
     "data": {
      "text/plain": [
       "(1, 2, 3)"
      ]
     },
     "execution_count": 76,
     "metadata": {},
     "output_type": "execute_result"
    }
   ],
   "source": [
    "tpl = 1,2,3 \n",
    "tpl"
   ]
  },
  {
   "cell_type": "code",
   "execution_count": 77,
   "id": "b75cfb03-10f2-4997-9693-ac5c3bfe3a24",
   "metadata": {},
   "outputs": [
    {
     "data": {
      "text/plain": [
       "True"
      ]
     },
     "execution_count": 77,
     "metadata": {},
     "output_type": "execute_result"
    }
   ],
   "source": [
    "1 in tpl"
   ]
  },
  {
   "cell_type": "code",
   "execution_count": 78,
   "id": "33a29b5b-585d-4cc2-8a86-4816c2ada83c",
   "metadata": {},
   "outputs": [
    {
     "data": {
      "text/plain": [
       "False"
      ]
     },
     "execution_count": 78,
     "metadata": {},
     "output_type": "execute_result"
    }
   ],
   "source": [
    "4 in tpl"
   ]
  },
  {
   "cell_type": "markdown",
   "id": "b15eb7ef-c3a1-4d1f-a1c8-8186aa5aeec7",
   "metadata": {},
   "source": [
    "(관찰3)"
   ]
  },
  {
   "cell_type": "code",
   "execution_count": 79,
   "id": "b704a092-c85b-47d5-9da6-9827efe7d3ff",
   "metadata": {},
   "outputs": [
    {
     "data": {
      "text/plain": [
       "[['guebin', 49], ['hanni', 80], ['hynn', 99]]"
      ]
     },
     "execution_count": 79,
     "metadata": {},
     "output_type": "execute_result"
    }
   ],
   "source": [
    "lst = [['guebin',49],['hanni',80],['hynn',99]] \n",
    "lst"
   ]
  },
  {
   "cell_type": "code",
   "execution_count": 80,
   "id": "82195499-6ab2-488f-9cfd-22043409fa80",
   "metadata": {},
   "outputs": [
    {
     "data": {
      "text/plain": [
       "True"
      ]
     },
     "execution_count": 80,
     "metadata": {},
     "output_type": "execute_result"
    }
   ],
   "source": [
    "['guebin',49] in lst"
   ]
  },
  {
   "cell_type": "markdown",
   "id": "3b53c056-64fa-4d5c-a977-6a9c4be41ae4",
   "metadata": {},
   "source": [
    "`-` in연산자가 dict형에 사용되면 key를 기준으로 True, False를 판단한다. "
   ]
  },
  {
   "cell_type": "markdown",
   "id": "7bb40bde-73c9-4fd2-a16d-d9bb7cc539b6",
   "metadata": {},
   "source": [
    "## F. 딕셔너리 특수기능 "
   ]
  },
  {
   "cell_type": "markdown",
   "id": "7362142d-ae0b-41c2-ab53-4a8001d1a3ad",
   "metadata": {},
   "source": [
    "**(pop)**"
   ]
  },
  {
   "cell_type": "code",
   "execution_count": 85,
   "id": "2a81c139-cd9b-45a6-b753-942efe2c65b1",
   "metadata": {},
   "outputs": [
    {
     "data": {
      "text/plain": [
       "{'guebin': 49}"
      ]
     },
     "execution_count": 85,
     "metadata": {},
     "output_type": "execute_result"
    }
   ],
   "source": [
    "dct = {'guebin':49, 'hanni':80} \n",
    "dct.pop('hanni')\n",
    "dct"
   ]
  },
  {
   "cell_type": "markdown",
   "id": "e988d625-16b0-42da-a9a3-5450699f5309",
   "metadata": {},
   "source": [
    "**(get)**"
   ]
  },
  {
   "cell_type": "code",
   "execution_count": 86,
   "id": "2c422f88-3017-455c-bde2-ddb3ae2f5fa6",
   "metadata": {},
   "outputs": [
    {
     "data": {
      "text/plain": [
       "{'guebin': 49, 'hanni': 80}"
      ]
     },
     "execution_count": 86,
     "metadata": {},
     "output_type": "execute_result"
    }
   ],
   "source": [
    "dct = {'guebin':49, 'hanni':80} \n",
    "dct"
   ]
  },
  {
   "cell_type": "code",
   "execution_count": 87,
   "id": "a4a07e1a-abfb-4aae-bf19-b5119b9b1d0a",
   "metadata": {},
   "outputs": [
    {
     "data": {
      "text/plain": [
       "49"
      ]
     },
     "execution_count": 87,
     "metadata": {},
     "output_type": "execute_result"
    }
   ],
   "source": [
    "dct.get('guebin') "
   ]
  },
  {
   "cell_type": "markdown",
   "id": "c2588fa9-755a-4774-990b-b904e75ee73c",
   "metadata": {},
   "source": [
    "아래와 같은 기능 "
   ]
  },
  {
   "cell_type": "code",
   "execution_count": 88,
   "id": "0c269d5d-2009-47ee-b9d0-5d6f0286aff6",
   "metadata": {},
   "outputs": [
    {
     "data": {
      "text/plain": [
       "49"
      ]
     },
     "execution_count": 88,
     "metadata": {},
     "output_type": "execute_result"
    }
   ],
   "source": [
    "dct['guebin']"
   ]
  },
  {
   "cell_type": "markdown",
   "id": "145cf9d8-bd9f-4420-8499-86a87434377c",
   "metadata": {},
   "source": [
    "미묘한 차이점이 존재함 "
   ]
  },
  {
   "cell_type": "code",
   "execution_count": 89,
   "id": "5c7aa5b5-321b-46ae-8531-572b7e9fee29",
   "metadata": {},
   "outputs": [
    {
     "ename": "KeyError",
     "evalue": "'hynn'",
     "output_type": "error",
     "traceback": [
      "\u001b[0;31m---------------------------------------------------------------------------\u001b[0m",
      "\u001b[0;31mKeyError\u001b[0m                                  Traceback (most recent call last)",
      "Cell \u001b[0;32mIn[89], line 1\u001b[0m\n\u001b[0;32m----> 1\u001b[0m \u001b[43mdct\u001b[49m\u001b[43m[\u001b[49m\u001b[38;5;124;43m'\u001b[39;49m\u001b[38;5;124;43mhynn\u001b[39;49m\u001b[38;5;124;43m'\u001b[39;49m\u001b[43m]\u001b[49m \u001b[38;5;66;03m# hynn이 없어서 키에러 출력, 그런 key는 없다.. \u001b[39;00m\n",
      "\u001b[0;31mKeyError\u001b[0m: 'hynn'"
     ]
    }
   ],
   "source": [
    "dct['hynn'] # hynn이 없어서 키에러 출력, 그런 key는 없다.. "
   ]
  },
  {
   "cell_type": "code",
   "execution_count": 90,
   "id": "e27b54df-ce98-4454-a040-4679221b55bb",
   "metadata": {},
   "outputs": [],
   "source": [
    "dct.get('hynn') # hynn이 없으면 아무것도 출력안함 "
   ]
  },
  {
   "cell_type": "markdown",
   "id": "bc926225-d3fd-4aae-ad5b-d546e4a393bb",
   "metadata": {},
   "source": [
    "**(keys,values,items)**"
   ]
  },
  {
   "cell_type": "code",
   "execution_count": 110,
   "id": "889ceca6-7470-4411-98a1-414c34198b70",
   "metadata": {},
   "outputs": [
    {
     "name": "stdout",
     "output_type": "stream",
     "text": [
      "guebin 49\n",
      "hanni 80\n"
     ]
    }
   ],
   "source": [
    "for k,v in dct.items():\n",
    "    print(k,v)"
   ]
  },
  {
   "cell_type": "markdown",
   "id": "20b325fe-6857-4415-bbe6-0b697cb3703b",
   "metadata": {},
   "source": [
    "`-` .keys()는 딕셔너리의 키를 리턴한다.  "
   ]
  },
  {
   "cell_type": "code",
   "execution_count": 94,
   "id": "a537837c-d509-4107-9180-ff29d8817950",
   "metadata": {},
   "outputs": [
    {
     "data": {
      "text/plain": [
       "{'guebin': 49, 'hanni': 80}"
      ]
     },
     "execution_count": 94,
     "metadata": {},
     "output_type": "execute_result"
    }
   ],
   "source": [
    "dct = {'guebin':49, 'hanni':80} \n",
    "dct"
   ]
  },
  {
   "cell_type": "code",
   "execution_count": 95,
   "id": "eceb43de-8982-435c-b35b-5ff8d869d921",
   "metadata": {},
   "outputs": [
    {
     "data": {
      "text/plain": [
       "dict_keys(['guebin', 'hanni'])"
      ]
     },
     "execution_count": 95,
     "metadata": {},
     "output_type": "execute_result"
    }
   ],
   "source": [
    "_keys=dct.keys()\n",
    "_keys"
   ]
  },
  {
   "cell_type": "code",
   "execution_count": 96,
   "id": "281ab21f-a62f-4028-a300-1048a6e10366",
   "metadata": {},
   "outputs": [
    {
     "data": {
      "text/plain": [
       "dict_keys"
      ]
     },
     "execution_count": 96,
     "metadata": {},
     "output_type": "execute_result"
    }
   ],
   "source": [
    "type(_keys) # 리턴된 자료형은 이상한것임"
   ]
  },
  {
   "cell_type": "code",
   "execution_count": 97,
   "id": "7a8dc85c-d9d0-40a1-a3f6-65fe4fe70dc9",
   "metadata": {},
   "outputs": [
    {
     "data": {
      "text/plain": [
       "['guebin', 'hanni']"
      ]
     },
     "execution_count": 97,
     "metadata": {},
     "output_type": "execute_result"
    }
   ],
   "source": [
    "list(_keys) # 아무튼 그 이상한 자료형도 리스트화 가능 "
   ]
  },
  {
   "cell_type": "markdown",
   "id": "d9f6a7a9-678b-48d2-8ca3-70bf2453f4d4",
   "metadata": {},
   "source": [
    "`-` .values()는 딕셔너리의 값들을 리턴한다. "
   ]
  },
  {
   "cell_type": "code",
   "execution_count": 86,
   "id": "8f114322-651c-45f9-9410-32989b843f25",
   "metadata": {},
   "outputs": [
    {
     "data": {
      "text/plain": [
       "dict_values([49, 80])"
      ]
     },
     "execution_count": 86,
     "metadata": {},
     "output_type": "execute_result"
    }
   ],
   "source": [
    "_values = dct.values()\n",
    "_values "
   ]
  },
  {
   "cell_type": "code",
   "execution_count": 87,
   "id": "7a3621ec-e737-4f91-b68f-e9b3ad56ff02",
   "metadata": {},
   "outputs": [
    {
     "data": {
      "text/plain": [
       "dict_values"
      ]
     },
     "execution_count": 87,
     "metadata": {},
     "output_type": "execute_result"
    }
   ],
   "source": [
    "type(_values)"
   ]
  },
  {
   "cell_type": "code",
   "execution_count": 88,
   "id": "f9602b9f-104b-4353-80be-d0aaaf15eb8f",
   "metadata": {},
   "outputs": [
    {
     "data": {
      "text/plain": [
       "[49, 80]"
      ]
     },
     "execution_count": 88,
     "metadata": {},
     "output_type": "execute_result"
    }
   ],
   "source": [
    "list(_values)"
   ]
  },
  {
   "cell_type": "markdown",
   "id": "74cfc0e4-167b-42dc-b15c-cac3ea8bb005",
   "metadata": {},
   "source": [
    "`-` .items()는 딕셔너리의 (키,값)을 리턴한다. "
   ]
  },
  {
   "cell_type": "code",
   "execution_count": 89,
   "id": "65ceb04d-7ab2-4e1f-9d06-62995ec97849",
   "metadata": {},
   "outputs": [
    {
     "data": {
      "text/plain": [
       "dict_items([('guebin', 49), ('hanni', 80)])"
      ]
     },
     "execution_count": 89,
     "metadata": {},
     "output_type": "execute_result"
    }
   ],
   "source": [
    "_items = dct.items()\n",
    "_items "
   ]
  },
  {
   "cell_type": "code",
   "execution_count": 90,
   "id": "53a03750-443f-47fd-b74e-30308b54ff2d",
   "metadata": {},
   "outputs": [
    {
     "data": {
      "text/plain": [
       "dict_items"
      ]
     },
     "execution_count": 90,
     "metadata": {},
     "output_type": "execute_result"
    }
   ],
   "source": [
    "type(_items)"
   ]
  },
  {
   "cell_type": "code",
   "execution_count": 91,
   "id": "8427f9fb-caff-4577-9a60-ba851eb2694c",
   "metadata": {},
   "outputs": [
    {
     "data": {
      "text/plain": [
       "[('guebin', 49), ('hanni', 80)]"
      ]
     },
     "execution_count": 91,
     "metadata": {},
     "output_type": "execute_result"
    }
   ],
   "source": [
    "list(_items)"
   ]
  },
  {
   "cell_type": "markdown",
   "id": "31c86ba9-a9d9-4a19-b4fe-09e2655c2dc8",
   "metadata": {},
   "source": [
    "## G. for문과 dict ($\\star$)"
   ]
  },
  {
   "cell_type": "code",
   "execution_count": 7,
   "id": "dbd863d8-f5c3-4b45-a84c-5b9da20e7fd4",
   "metadata": {
    "tags": []
   },
   "outputs": [
    {
     "data": {
      "text/plain": [
       "{'guebin': 49, 'hanni': 80}"
      ]
     },
     "execution_count": 7,
     "metadata": {},
     "output_type": "execute_result"
    }
   ],
   "source": [
    "dct = {'guebin': 49, 'hanni': 80}\n",
    "dct"
   ]
  },
  {
   "cell_type": "markdown",
   "id": "7cdd7d6d-0963-41ff-a350-a6c3b7bb1b0a",
   "metadata": {},
   "source": [
    "(예시1) "
   ]
  },
  {
   "cell_type": "code",
   "execution_count": 8,
   "id": "047d43ff-d477-4d49-9e5c-981b2a2ec724",
   "metadata": {
    "tags": []
   },
   "outputs": [
    {
     "name": "stdout",
     "output_type": "stream",
     "text": [
      "guebin\n",
      "hanni\n"
     ]
    }
   ],
   "source": [
    "for k in dct.keys():\n",
    "    print(k)"
   ]
  },
  {
   "cell_type": "code",
   "execution_count": 9,
   "id": "000b9571-d5e3-4764-b1b3-60ac2b85a7c7",
   "metadata": {
    "tags": []
   },
   "outputs": [
    {
     "name": "stdout",
     "output_type": "stream",
     "text": [
      "guebin\n",
      "hanni\n"
     ]
    }
   ],
   "source": [
    "for k in dct:\n",
    "    print(k)"
   ]
  },
  {
   "cell_type": "markdown",
   "id": "1628939b-4044-4f1c-927d-292bd32fc081",
   "metadata": {},
   "source": [
    "- 딕셔너리 그자체도 for문에 넣을 수 있다. 그때는 딕셔너리의 key가 반복된다. \n",
    "- 결과를 보면 dct 대신에 dct.keys()와 list(dct)를 넣었을때와 결과가 같다. "
   ]
  },
  {
   "cell_type": "markdown",
   "id": "fc0357b8-c986-4092-9b0e-0017961187d8",
   "metadata": {},
   "source": [
    "> Note: list(dct) 하면 key만 리턴된다. "
   ]
  },
  {
   "cell_type": "markdown",
   "id": "2545a20c-b0e5-432d-ac21-d74e3d456023",
   "metadata": {},
   "source": [
    "(예시2)"
   ]
  },
  {
   "cell_type": "code",
   "execution_count": 10,
   "id": "dd0d719d-15b6-4eed-9c33-8db5569c9d75",
   "metadata": {
    "tags": []
   },
   "outputs": [
    {
     "name": "stdout",
     "output_type": "stream",
     "text": [
      "49\n",
      "80\n"
     ]
    }
   ],
   "source": [
    "for v in dct.values():\n",
    "    print(v)"
   ]
  },
  {
   "cell_type": "markdown",
   "id": "68a0ae1e-0f5a-4d45-b8a6-2983f81b0bd7",
   "metadata": {},
   "source": [
    "(예시3)"
   ]
  },
  {
   "cell_type": "code",
   "execution_count": 11,
   "id": "4aee315d-833c-4c66-9c24-f164668d19e4",
   "metadata": {
    "tags": []
   },
   "outputs": [
    {
     "name": "stdout",
     "output_type": "stream",
     "text": [
      "('guebin', 49)\n",
      "('hanni', 80)\n"
     ]
    }
   ],
   "source": [
    "for i in dct.items():\n",
    "    print(i)"
   ]
  },
  {
   "cell_type": "markdown",
   "id": "3f071dd9-d7ff-4168-a65c-40f641e2bab2",
   "metadata": {},
   "source": [
    "(예시4)"
   ]
  },
  {
   "cell_type": "code",
   "execution_count": 12,
   "id": "f87f526f-e16e-425a-b123-29de3e8e4fb9",
   "metadata": {
    "tags": []
   },
   "outputs": [
    {
     "name": "stdout",
     "output_type": "stream",
     "text": [
      "guebin 49\n",
      "hanni 80\n"
     ]
    }
   ],
   "source": [
    "for k,v in dct.items():\n",
    "    print(k,v)"
   ]
  },
  {
   "cell_type": "markdown",
   "id": "0ea58d0b-28db-4345-8a1d-43521b9417c4",
   "metadata": {},
   "source": [
    "(예시5) -- {}의 중간고사 점수는 {}점 입니다."
   ]
  },
  {
   "cell_type": "code",
   "execution_count": 13,
   "id": "458b6bb3-365c-4cfa-be28-d7dc9869599f",
   "metadata": {
    "tags": []
   },
   "outputs": [
    {
     "name": "stdout",
     "output_type": "stream",
     "text": [
      "guebin의 중간고사 점수는 49점 입니다.\n",
      "hanni의 중간고사 점수는 80점 입니다.\n"
     ]
    }
   ],
   "source": [
    "for name,score in dct.items():\n",
    "    print(f'{name}의 중간고사 점수는 {score}점 입니다.')"
   ]
  },
  {
   "cell_type": "markdown",
   "id": "a938c7ae-fceb-41aa-9ccd-f459bb9fc0d2",
   "metadata": {},
   "source": [
    "## H. dict에서 key혹은 value만 뽑아내기 "
   ]
  },
  {
   "cell_type": "markdown",
   "id": "91cb5edf-c9ae-4ac9-849e-7c2a67d02ed1",
   "metadata": {},
   "source": [
    "`-` 예제: 아래의 dict에서 key만 뽑아내고 싶다. "
   ]
  },
  {
   "cell_type": "code",
   "execution_count": 98,
   "id": "4db33f0a-9ae6-4c70-ba89-5dce8c03a489",
   "metadata": {},
   "outputs": [],
   "source": [
    "dct = {'guebin':49, 'hanni':80} "
   ]
  },
  {
   "cell_type": "markdown",
   "id": "c1216651-b44e-4e65-941e-1b0798059762",
   "metadata": {},
   "source": [
    "(풀이1)"
   ]
  },
  {
   "cell_type": "code",
   "execution_count": 99,
   "id": "6af76674-b930-4c64-bef7-6a2643acb2c7",
   "metadata": {},
   "outputs": [
    {
     "data": {
      "text/plain": [
       "['guebin', 'hanni']"
      ]
     },
     "execution_count": 99,
     "metadata": {},
     "output_type": "execute_result"
    }
   ],
   "source": [
    "list(dct)"
   ]
  },
  {
   "cell_type": "markdown",
   "id": "0de1c3fb-d8ef-4e79-8e2e-9b5e49818f79",
   "metadata": {},
   "source": [
    "(풀이2)"
   ]
  },
  {
   "cell_type": "code",
   "execution_count": 100,
   "id": "ff25d5ca-a9a7-46e3-bd85-197859189f63",
   "metadata": {},
   "outputs": [
    {
     "data": {
      "text/plain": [
       "['guebin', 'hanni']"
      ]
     },
     "execution_count": 100,
     "metadata": {},
     "output_type": "execute_result"
    }
   ],
   "source": [
    "list(dct.keys())"
   ]
  },
  {
   "cell_type": "markdown",
   "id": "b3bbc0d9-57b7-4e8b-a903-d096e02312b8",
   "metadata": {},
   "source": [
    "(풀이3)"
   ]
  },
  {
   "cell_type": "code",
   "execution_count": 101,
   "id": "85acfc15-c013-45ed-94a2-1f64779a0a2b",
   "metadata": {},
   "outputs": [
    {
     "data": {
      "text/plain": [
       "['guebin', 'hanni']"
      ]
     },
     "execution_count": 101,
     "metadata": {},
     "output_type": "execute_result"
    }
   ],
   "source": [
    "[k for k in dct]"
   ]
  },
  {
   "cell_type": "markdown",
   "id": "fe619451-9615-4884-b2b7-2fc497696946",
   "metadata": {},
   "source": [
    "(풀이4)"
   ]
  },
  {
   "cell_type": "code",
   "execution_count": 102,
   "id": "d0f4823d-5938-475a-9887-4eff59427c4a",
   "metadata": {},
   "outputs": [
    {
     "data": {
      "text/plain": [
       "['guebin', 'hanni']"
      ]
     },
     "execution_count": 102,
     "metadata": {},
     "output_type": "execute_result"
    }
   ],
   "source": [
    "[k for k,v in dct.items()]"
   ]
  },
  {
   "cell_type": "markdown",
   "id": "eac9afc7-d031-4449-9fcc-ba282b4a1462",
   "metadata": {},
   "source": [
    "`-` 예제: 아래의 dict에서 value만 뽑아내고 싶다. "
   ]
  },
  {
   "cell_type": "code",
   "execution_count": 103,
   "id": "eb601c7c-d76d-4c55-b135-1aadceec8758",
   "metadata": {},
   "outputs": [],
   "source": [
    "dct = {'guebin':49, 'hanni':80} "
   ]
  },
  {
   "cell_type": "markdown",
   "id": "dead7810-1ff0-4f10-8967-820d25ca89c8",
   "metadata": {},
   "source": [
    "(풀이1)"
   ]
  },
  {
   "cell_type": "code",
   "execution_count": 104,
   "id": "9ce779bc-1ced-4d55-9c9a-22303e9d7304",
   "metadata": {},
   "outputs": [
    {
     "data": {
      "text/plain": [
       "[49, 80]"
      ]
     },
     "execution_count": 104,
     "metadata": {},
     "output_type": "execute_result"
    }
   ],
   "source": [
    "list(dct.values())"
   ]
  },
  {
   "cell_type": "markdown",
   "id": "c32261d7-388d-466d-9dcd-c195023b60c2",
   "metadata": {},
   "source": [
    "(풀이2)"
   ]
  },
  {
   "cell_type": "code",
   "execution_count": 105,
   "id": "1fd0bfbf-2e30-4d1a-b7c2-81fd0e139272",
   "metadata": {},
   "outputs": [
    {
     "data": {
      "text/plain": [
       "[49, 80]"
      ]
     },
     "execution_count": 105,
     "metadata": {},
     "output_type": "execute_result"
    }
   ],
   "source": [
    "[dct[k] for k in dct]"
   ]
  },
  {
   "cell_type": "markdown",
   "id": "e1d68d6a-e002-409b-b867-d5d8230cec73",
   "metadata": {},
   "source": [
    "(풀이3)"
   ]
  },
  {
   "cell_type": "code",
   "execution_count": 106,
   "id": "90d15ab3-13a0-40e7-80ba-b89bd6983c4d",
   "metadata": {},
   "outputs": [
    {
     "data": {
      "text/plain": [
       "[49, 80]"
      ]
     },
     "execution_count": 106,
     "metadata": {},
     "output_type": "execute_result"
    }
   ],
   "source": [
    "[v for v in dct.values()]"
   ]
  },
  {
   "cell_type": "markdown",
   "id": "cadedcab-0d02-426f-9c83-019b0fdd6286",
   "metadata": {},
   "source": [
    "(풀이4)"
   ]
  },
  {
   "cell_type": "code",
   "execution_count": 107,
   "id": "d18b1115-27a8-497e-978a-aa73b4618b63",
   "metadata": {},
   "outputs": [
    {
     "data": {
      "text/plain": [
       "[49, 80]"
      ]
     },
     "execution_count": 107,
     "metadata": {},
     "output_type": "execute_result"
    }
   ],
   "source": [
    "[v for k,v in dct.items()]"
   ]
  },
  {
   "cell_type": "markdown",
   "id": "a3a2bc41-8477-46bb-b944-2bd57ce0c5bd",
   "metadata": {},
   "source": [
    "# 6. 딕셔너리를 이용한 치환 ($\\star$)"
   ]
  },
  {
   "cell_type": "markdown",
   "id": "49905d2b-e58b-434e-8bbf-e7bac80c5c97",
   "metadata": {},
   "source": [
    "## A. 바꿔치기 "
   ]
  },
  {
   "cell_type": "markdown",
   "id": "a9b80bbf-c245-4013-a7ad-b477dde1178c",
   "metadata": {},
   "source": [
    "`# 예제1` -- 아래와 같은 리스트를 고려하자. "
   ]
  },
  {
   "cell_type": "code",
   "execution_count": 106,
   "id": "ca4b3491-6a81-4bb6-8fd1-ea62f010ca07",
   "metadata": {},
   "outputs": [],
   "source": [
    "lst = ['딸기','사과','바나나','딸기','사과','오토바이','자동차','버스','기차','오토바이','자동차']"
   ]
  },
  {
   "cell_type": "markdown",
   "id": "fefce8ef-3e4a-40a4-a869-90721281b2e1",
   "metadata": {},
   "source": [
    "다음의 맵핑규칙에 따라서 위의 리스트의 원소를 바꾸어라. "
   ]
  },
  {
   "cell_type": "markdown",
   "id": "711d73e7-0f1f-41ae-bb8b-20ac06f8b899",
   "metadata": {},
   "source": [
    "|변환전|변환후|\n",
    "|:-:|:-:|\n",
    "|딸기|과일|\n",
    "|사과|과일|\n",
    "|바나나|과일|\n",
    "|오토바이|탈것|\n",
    "|자동차|탈것|\n",
    "|버스|탈것|\n",
    "|기차|탈것|"
   ]
  },
  {
   "cell_type": "markdown",
   "id": "547b4800-ec0b-4ade-879f-f45c122402d3",
   "metadata": {},
   "source": [
    "`(풀이1)` -- `elif`를 한번 써본정도의 의미. 추천하는 풀이 X "
   ]
  },
  {
   "cell_type": "code",
   "execution_count": 108,
   "id": "71b88123-673c-4caf-a18c-5a525f79f2f3",
   "metadata": {},
   "outputs": [],
   "source": [
    "lst2 = []\n",
    "for l in lst:\n",
    "    if l=='딸기':\n",
    "        lst2.append('과일')\n",
    "    elif l=='사과':\n",
    "        lst2.append('과일')\n",
    "    elif l=='바나나':\n",
    "        lst2.append('과일')\n",
    "    elif l=='오토바이':\n",
    "        lst2.append('탈것')\n",
    "    elif l=='자동차':\n",
    "        lst2.append('탈것')\n",
    "    elif l=='버스':\n",
    "        lst2.append('탈것')\n",
    "    else:\n",
    "        lst2.append('탈것')        "
   ]
  },
  {
   "cell_type": "code",
   "execution_count": 110,
   "id": "f7d9e2d9-71de-4b0e-b99e-6ccb5551dca4",
   "metadata": {},
   "outputs": [
    {
     "data": {
      "text/plain": [
       "(['딸기', '사과', '바나나', '딸기', '사과', '오토바이', '자동차', '버스', '기차', '오토바이', '자동차'],\n",
       " ['과일', '과일', '과일', '과일', '과일', '탈것', '탈것', '탈것', '탈것', '탈것', '탈것'])"
      ]
     },
     "execution_count": 110,
     "metadata": {},
     "output_type": "execute_result"
    }
   ],
   "source": [
    "lst,lst2"
   ]
  },
  {
   "cell_type": "markdown",
   "id": "d80f90cc-e287-42e5-981b-bde457c683f9",
   "metadata": {},
   "source": [
    "`(풀이2)` -- 코드는 쉽고 편함. dct를 만들기 힘듦."
   ]
  },
  {
   "cell_type": "code",
   "execution_count": 114,
   "id": "d14a2ddd-1f5a-4bdc-acf7-0985d74d1ca9",
   "metadata": {},
   "outputs": [
    {
     "data": {
      "text/plain": [
       "{'딸기': '과일',\n",
       " '사과': '과일',\n",
       " '바나나': '과일',\n",
       " '오토바이': '탈것',\n",
       " '자동차': '탈것',\n",
       " '버스': '탈것',\n",
       " '기차': '탈것'}"
      ]
     },
     "execution_count": 114,
     "metadata": {},
     "output_type": "execute_result"
    }
   ],
   "source": [
    "dct = {'딸기':'과일','사과':'과일','바나나':'과일','오토바이':'탈것','자동차':'탈것','버스':'탈것','기차':'탈것'}\n",
    "dct"
   ]
  },
  {
   "cell_type": "code",
   "execution_count": 116,
   "id": "f970fe54-cb34-4269-83e0-f6ed4574e1a9",
   "metadata": {},
   "outputs": [
    {
     "data": {
      "text/plain": [
       "['과일', '과일', '과일', '과일', '과일', '탈것', '탈것', '탈것', '탈것', '탈것', '탈것']"
      ]
     },
     "execution_count": 116,
     "metadata": {},
     "output_type": "execute_result"
    }
   ],
   "source": [
    "[dct[l] for l in lst]"
   ]
  },
  {
   "cell_type": "markdown",
   "id": "838023f2-bdfb-41ff-9c4c-ff8edecce3ca",
   "metadata": {},
   "source": [
    "`(풀이3)` -- 코드가 매우 어려움. dct를 만들기 쉬움. "
   ]
  },
  {
   "cell_type": "code",
   "execution_count": 117,
   "id": "2e6f374e-5fb8-42e4-806a-c8640d53efc1",
   "metadata": {},
   "outputs": [
    {
     "data": {
      "text/plain": [
       "{'과일': ['딸기', '사과', '바나나'], '탈것': ['오토바이', '자동차', '버스', '기차']}"
      ]
     },
     "execution_count": 117,
     "metadata": {},
     "output_type": "execute_result"
    }
   ],
   "source": [
    "dct = {'과일':['딸기','사과','바나나'], '탈것':['오토바이','자동차','버스','기차']}\n",
    "dct"
   ]
  },
  {
   "cell_type": "code",
   "execution_count": 118,
   "id": "fde43d7b-2a8c-4bac-aa64-c8ce72622f67",
   "metadata": {},
   "outputs": [
    {
     "data": {
      "text/plain": [
       "['딸기', '사과', '바나나', '딸기', '사과', '오토바이', '자동차', '버스', '기차', '오토바이', '자동차']"
      ]
     },
     "execution_count": 118,
     "metadata": {},
     "output_type": "execute_result"
    }
   ],
   "source": [
    "lst"
   ]
  },
  {
   "cell_type": "code",
   "execution_count": 125,
   "id": "5c73a4d4-315a-46e2-94b8-ecf4e34f3af5",
   "metadata": {},
   "outputs": [
    {
     "data": {
      "text/plain": [
       "['과일', '과일', '과일', '과일', '과일', '탈것', '탈것', '탈것', '탈것', '탈것', '탈것']"
      ]
     },
     "execution_count": 125,
     "metadata": {},
     "output_type": "execute_result"
    }
   ],
   "source": [
    "[k for l in lst for k in dct if l in dct[k]]"
   ]
  },
  {
   "cell_type": "markdown",
   "id": "6ffa4a10-ba2d-42b6-a07e-b03058c56e45",
   "metadata": {},
   "source": [
    "`#`"
   ]
  },
  {
   "cell_type": "markdown",
   "id": "625284f8-4d6a-40c0-9d2e-e335b75fffbb",
   "metadata": {},
   "source": [
    "`# 예제2` -- 아래와 같은 리스트가 있다고 하자. "
   ]
  },
  {
   "cell_type": "code",
   "execution_count": 126,
   "id": "05f25130-0d3d-40f6-bb52-059bca1fe477",
   "metadata": {},
   "outputs": [
    {
     "data": {
      "text/plain": [
       "['a', 'b', 'c', 'd', 'a', 'b', 'c', 'd', 'b', 'b', 'b']"
      ]
     },
     "execution_count": 126,
     "metadata": {},
     "output_type": "execute_result"
    }
   ],
   "source": [
    "lst = list('abcd'*2+'bbb')\n",
    "lst"
   ]
  },
  {
   "cell_type": "markdown",
   "id": "c55ae7a9-c3e5-489d-b804-3d15c306ab85",
   "metadata": {},
   "source": [
    "아래의 규칙에 의하여 lst의 각 원소의 값을 바꾸고 싶다고 하자. 이를 구현하는 코드를 작성하라. "
   ]
  },
  {
   "cell_type": "markdown",
   "id": "05707b72-243e-4bd4-8a5b-7834f2c63f29",
   "metadata": {},
   "source": [
    "|변환전|변환후|\n",
    "|:-:|:-:|\n",
    "|'a'|[1,0,0,0]|\n",
    "|'b'|[0,1,0,0]|\n",
    "|'c'|[0,0,1,0]|\n",
    "|'d'|[0,0,0,1]|"
   ]
  },
  {
   "cell_type": "markdown",
   "id": "924e60df-4106-4c00-ab87-cb98208ad0b7",
   "metadata": {},
   "source": [
    "`(풀이)`"
   ]
  },
  {
   "cell_type": "code",
   "execution_count": 128,
   "id": "bf089073-7c15-4b7c-9cb5-49d09d53b3e1",
   "metadata": {},
   "outputs": [
    {
     "data": {
      "text/plain": [
       "{'a': [1, 0, 0, 0], 'b': [0, 1, 0, 0], 'c': [0, 0, 1, 0], 'd': [0, 0, 0, 1]}"
      ]
     },
     "execution_count": 128,
     "metadata": {},
     "output_type": "execute_result"
    }
   ],
   "source": [
    "dct = {'a':[1,0,0,0], 'b':[0,1,0,0], 'c':[0,0,1,0], 'd':[0,0,0,1]}\n",
    "dct"
   ]
  },
  {
   "cell_type": "code",
   "execution_count": 130,
   "id": "01519ddb-8207-48c2-8ac5-4d835a407ffe",
   "metadata": {},
   "outputs": [
    {
     "data": {
      "text/plain": [
       "[[1, 0, 0, 0],\n",
       " [0, 1, 0, 0],\n",
       " [0, 0, 1, 0],\n",
       " [0, 0, 0, 1],\n",
       " [1, 0, 0, 0],\n",
       " [0, 1, 0, 0],\n",
       " [0, 0, 1, 0],\n",
       " [0, 0, 0, 1],\n",
       " [0, 1, 0, 0],\n",
       " [0, 1, 0, 0],\n",
       " [0, 1, 0, 0]]"
      ]
     },
     "execution_count": 130,
     "metadata": {},
     "output_type": "execute_result"
    }
   ],
   "source": [
    "[dct[l] for l in lst]"
   ]
  },
  {
   "cell_type": "markdown",
   "id": "9885d9dc-a4a9-4052-9625-0d3e83429308",
   "metadata": {},
   "source": [
    "`# 예제3` -- 예제2을 역변환하라. 즉 아래의 리스트를 "
   ]
  },
  {
   "cell_type": "code",
   "execution_count": 136,
   "id": "588e7d69-ea7a-4994-92e5-5f7d6ed44892",
   "metadata": {},
   "outputs": [],
   "source": [
    "lst2= [[1, 0, 0, 0],\n",
    "       [0, 1, 0, 0],\n",
    "       [0, 0, 1, 0],\n",
    "       [0, 0, 0, 1],\n",
    "       [1, 0, 0, 0],\n",
    "       [0, 1, 0, 0],\n",
    "       [0, 0, 1, 0],\n",
    "       [0, 0, 0, 1],\n",
    "       [0, 1, 0, 0],\n",
    "       [0, 1, 0, 0],\n",
    "       [0, 1, 0, 0]]"
   ]
  },
  {
   "cell_type": "markdown",
   "id": "03b1003c-728b-47a2-be30-db89da73c7e7",
   "metadata": {},
   "source": [
    "아래와 같이 바꾸라. "
   ]
  },
  {
   "cell_type": "code",
   "execution_count": 137,
   "id": "f2a392a3-70d3-425b-aa05-694ca3dfc1f5",
   "metadata": {},
   "outputs": [
    {
     "data": {
      "text/plain": [
       "['a', 'b', 'c', 'd', 'a', 'b', 'c', 'd', 'b', 'b', 'b']"
      ]
     },
     "execution_count": 137,
     "metadata": {},
     "output_type": "execute_result"
    }
   ],
   "source": [
    "['a', 'b', 'c', 'd', 'a', 'b', 'c', 'd', 'b', 'b', 'b']"
   ]
  },
  {
   "cell_type": "markdown",
   "id": "6a9a20ad-9f85-40fb-8b83-e5f0255d4037",
   "metadata": {},
   "source": [
    "`(풀이)` -- 실패"
   ]
  },
  {
   "cell_type": "code",
   "execution_count": 145,
   "id": "7a014b21-3d14-4cce-9b42-1c36da202639",
   "metadata": {},
   "outputs": [
    {
     "ename": "TypeError",
     "evalue": "unhashable type: 'list'",
     "output_type": "error",
     "traceback": [
      "\u001b[0;31m---------------------------------------------------------------------------\u001b[0m",
      "\u001b[0;31mTypeError\u001b[0m                                 Traceback (most recent call last)",
      "Cell \u001b[0;32mIn[145], line 1\u001b[0m\n\u001b[0;32m----> 1\u001b[0m dct \u001b[38;5;241m=\u001b[39m {[\u001b[38;5;241m1\u001b[39m,\u001b[38;5;241m0\u001b[39m,\u001b[38;5;241m0\u001b[39m,\u001b[38;5;241m0\u001b[39m]:\u001b[38;5;124m'\u001b[39m\u001b[38;5;124ma\u001b[39m\u001b[38;5;124m'\u001b[39m, [\u001b[38;5;241m0\u001b[39m,\u001b[38;5;241m1\u001b[39m,\u001b[38;5;241m0\u001b[39m,\u001b[38;5;241m0\u001b[39m]:\u001b[38;5;124m'\u001b[39m\u001b[38;5;124mb\u001b[39m\u001b[38;5;124m'\u001b[39m, [\u001b[38;5;241m0\u001b[39m,\u001b[38;5;241m0\u001b[39m,\u001b[38;5;241m1\u001b[39m,\u001b[38;5;241m0\u001b[39m]:\u001b[38;5;124m'\u001b[39m\u001b[38;5;124mc\u001b[39m\u001b[38;5;124m'\u001b[39m, [\u001b[38;5;241m0\u001b[39m,\u001b[38;5;241m0\u001b[39m,\u001b[38;5;241m0\u001b[39m,\u001b[38;5;241m1\u001b[39m]:\u001b[38;5;124m'\u001b[39m\u001b[38;5;124md\u001b[39m\u001b[38;5;124m'\u001b[39m}\n\u001b[1;32m      2\u001b[0m dct\n",
      "\u001b[0;31mTypeError\u001b[0m: unhashable type: 'list'"
     ]
    }
   ],
   "source": [
    "dct = {[1,0,0,0]:'a', [0,1,0,0]:'b', [0,0,1,0]:'c', [0,0,0,1]:'d'}\n",
    "dct"
   ]
  },
  {
   "cell_type": "markdown",
   "id": "25578bb1-3818-45ff-b5a3-862422a91f70",
   "metadata": {},
   "source": [
    "dct의 key에 대응하는것은 불변형만 가능 "
   ]
  },
  {
   "cell_type": "markdown",
   "id": "2f801bd1-9b46-4e0c-a09d-b00f55fd2caf",
   "metadata": {},
   "source": [
    "`(풀이1)` "
   ]
  },
  {
   "cell_type": "code",
   "execution_count": 132,
   "id": "e8352af4-9eab-4693-a362-a7bb67383ad3",
   "metadata": {},
   "outputs": [
    {
     "data": {
      "text/plain": [
       "{(1, 0, 0, 0): 'a', (0, 1, 0, 0): 'b', (0, 0, 1, 0): 'c', (0, 0, 0, 1): 'd'}"
      ]
     },
     "execution_count": 132,
     "metadata": {},
     "output_type": "execute_result"
    }
   ],
   "source": [
    "dct = {(1,0,0,0):'a', (0,1,0,0):'b', (0,0,1,0):'c', (0,0,0,1):'d'}\n",
    "dct"
   ]
  },
  {
   "cell_type": "code",
   "execution_count": 144,
   "id": "2affb89a-7bb6-4a37-84dc-da9bd690848e",
   "metadata": {},
   "outputs": [
    {
     "data": {
      "text/plain": [
       "['a', 'b', 'c', 'd', 'a', 'b', 'c', 'd', 'b', 'b', 'b']"
      ]
     },
     "execution_count": 144,
     "metadata": {},
     "output_type": "execute_result"
    }
   ],
   "source": [
    "[dct[tuple(l)] for l in lst2]"
   ]
  },
  {
   "cell_type": "markdown",
   "id": "c09a5b2e-88a6-409a-8192-48200c8fb3c3",
   "metadata": {},
   "source": [
    "`(풀이2)`"
   ]
  },
  {
   "cell_type": "code",
   "execution_count": 146,
   "id": "cf3427fc-9e25-4dac-a3f6-9203b8e8170d",
   "metadata": {},
   "outputs": [],
   "source": [
    "dct = {'a':[1,0,0,0], 'b':[0,1,0,0], 'c':[0,0,1,0], 'd':[0,0,0,1]} # 예제2의 dct"
   ]
  },
  {
   "cell_type": "code",
   "execution_count": 148,
   "id": "69a12b66-8ad3-4710-9e8a-3e318dbb367d",
   "metadata": {},
   "outputs": [
    {
     "data": {
      "text/plain": [
       "['a', 'b', 'c', 'd', 'a', 'b', 'c', 'd', 'b', 'b', 'b']"
      ]
     },
     "execution_count": 148,
     "metadata": {},
     "output_type": "execute_result"
    }
   ],
   "source": [
    "[k for l in lst2 for k in dct if dct[k]==l]"
   ]
  },
  {
   "cell_type": "markdown",
   "id": "93dd6973-f8fd-45b1-944e-2c931f2d9052",
   "metadata": {},
   "source": [
    "## B. 연습문제 "
   ]
  },
  {
   "cell_type": "markdown",
   "id": "278418c4-fd8e-4e1e-b707-315f60d1a29e",
   "metadata": {},
   "source": [
    "`# 문제`. 아래와 같은 맵핑을 고려하자. "
   ]
  },
  {
   "cell_type": "markdown",
   "id": "92c2cf89-426a-4774-948a-045d97849877",
   "metadata": {},
   "source": [
    "|문자|숫자|\n",
    "|:-:|:-:|\n",
    "|a|0|\n",
    "|b|1|"
   ]
  },
  {
   "cell_type": "markdown",
   "id": "72c41556-ed6e-4aa6-bf42-85a554eaa739",
   "metadata": {},
   "source": [
    "이를 딕셔너리로 표현하면 아래와 같다. "
   ]
  },
  {
   "cell_type": "code",
   "execution_count": 151,
   "id": "846bbc01-85e9-4642-aa27-cc6769a2af3d",
   "metadata": {},
   "outputs": [],
   "source": [
    "dct = {'a':0, 'b':1} "
   ]
  },
  {
   "cell_type": "markdown",
   "id": "abba0324-f69a-4f4c-863b-5b56319b2d17",
   "metadata": {},
   "source": [
    "위 규칙에 따라서 아래의 리스트의 원소를 문자로 각각 변환하라."
   ]
  },
  {
   "cell_type": "code",
   "execution_count": 150,
   "id": "3677857a-4e95-4ab9-9cd8-e4bb2da218e6",
   "metadata": {},
   "outputs": [],
   "source": [
    "lst = [1, 0, 1, 0, 1, 0, 1, 1, 1, 1, 0, 0, 1, 0, 1]"
   ]
  },
  {
   "cell_type": "markdown",
   "id": "55ca62b4-10e8-4019-ad3f-99d40ddb89a9",
   "metadata": {},
   "source": [
    "```Python\n",
    "# 출력은 아래와 같아야 한다. \n",
    "['b', 'a', 'b', 'a', 'b', 'a', 'b', 'b', 'b', 'b', 'a', 'a', 'b', 'a', 'b']\n",
    "```"
   ]
  },
  {
   "cell_type": "markdown",
   "id": "ff7be2fa-38b0-4122-bdf5-0403f68cc3c0",
   "metadata": {},
   "source": [
    "`(풀이)`"
   ]
  },
  {
   "cell_type": "code",
   "execution_count": 154,
   "id": "0a3e3c7f-6ff2-4239-acf9-27ce1d4c5480",
   "metadata": {},
   "outputs": [
    {
     "data": {
      "text/plain": [
       "['b', 'a', 'b', 'a', 'b', 'a', 'b', 'b', 'b', 'b', 'a', 'a', 'b', 'a', 'b']"
      ]
     },
     "execution_count": 154,
     "metadata": {},
     "output_type": "execute_result"
    }
   ],
   "source": [
    "[k for l in lst for k in dct if l == dct[k]]"
   ]
  },
  {
   "cell_type": "markdown",
   "id": "ae380f3c-4835-4b59-8c8d-ce920ced8a6e",
   "metadata": {},
   "source": [
    "`# 문제`. 아래와 같은 맵핑을 고려하자. "
   ]
  },
  {
   "cell_type": "markdown",
   "id": "f7627137-4334-4cb7-a4a4-99af8809570c",
   "metadata": {},
   "source": [
    "|월|의미|\n",
    "|:-:|:-:|\n",
    "|1,2|겨울방학|\n",
    "|3,4,5,6|1학기|\n",
    "|7,8|여름방학|\n",
    "|9,10,11,12|2학기|"
   ]
  },
  {
   "cell_type": "markdown",
   "id": "a7a58c70-1443-47cd-8143-6fb1eef969dc",
   "metadata": {},
   "source": [
    "이러한 규칙에 맞게 아래의 리스트를 적절한 문자열로 변환하라. "
   ]
  },
  {
   "cell_type": "code",
   "execution_count": 155,
   "id": "23148c47-4f7f-4cd7-be79-de76663be9a7",
   "metadata": {},
   "outputs": [],
   "source": [
    "month = [1,2,2,3,4,5,6,7,8,9,9,10,11,12] "
   ]
  },
  {
   "cell_type": "markdown",
   "id": "e748ab9a-b835-4a07-86a3-97f84e75f5c7",
   "metadata": {},
   "source": [
    "```Python\n",
    "## 출력은 아래와 같아야 한다. \n",
    "['겨울방학', '겨울방학', '겨울방학', '1학기', '1학기', '1학기', '1학기', '여름방학', '여름방학', '2학기', '2학기', '2학기', '2학기', '2학기']\n",
    "```"
   ]
  },
  {
   "cell_type": "markdown",
   "id": "123e7d48-3055-4f86-8cc5-6e1c67298743",
   "metadata": {},
   "source": [
    "`(풀이1)` -- 좀 더 추천함"
   ]
  },
  {
   "cell_type": "code",
   "execution_count": 175,
   "id": "e11ecef3-358b-4e9e-9115-1f23c2e1cfd2",
   "metadata": {},
   "outputs": [],
   "source": [
    "dct = {'겨울방학':range(1,3), '1학기':range(3,7), '여름방학':range(7,9), '2학기':range(9,13)}"
   ]
  },
  {
   "cell_type": "code",
   "execution_count": 177,
   "id": "7a08608b-7217-44f1-a37d-d29ba61c44f0",
   "metadata": {},
   "outputs": [
    {
     "data": {
      "text/plain": [
       "['겨울방학',\n",
       " '겨울방학',\n",
       " '겨울방학',\n",
       " '1학기',\n",
       " '1학기',\n",
       " '1학기',\n",
       " '1학기',\n",
       " '여름방학',\n",
       " '여름방학',\n",
       " '2학기',\n",
       " '2학기',\n",
       " '2학기',\n",
       " '2학기',\n",
       " '2학기']"
      ]
     },
     "execution_count": 177,
     "metadata": {},
     "output_type": "execute_result"
    }
   ],
   "source": [
    "[k for m in month for k in dct if m in dct[k]]"
   ]
  },
  {
   "cell_type": "markdown",
   "id": "1bdf290e-fd66-4117-89cd-70d873ac01ba",
   "metadata": {},
   "source": [
    "`(풀이2)` -- 추천안함"
   ]
  },
  {
   "cell_type": "code",
   "execution_count": 165,
   "id": "6b876763-7cfd-4866-a2e5-0a79f35e0b99",
   "metadata": {},
   "outputs": [],
   "source": [
    "dct = {1:'겨울방학',2:'겨울방학',3:'1학기',4:'1학기',5:'1학기',6:'1학기',7:'여름방학',8:'여름방학',9:'2학기',10:'2학기',11:'2학기',12:'2학기'}"
   ]
  },
  {
   "cell_type": "code",
   "execution_count": 167,
   "id": "bca5f126-eca3-4a72-bc97-57454d8457f9",
   "metadata": {},
   "outputs": [
    {
     "data": {
      "text/plain": [
       "['겨울방학',\n",
       " '겨울방학',\n",
       " '겨울방학',\n",
       " '1학기',\n",
       " '1학기',\n",
       " '1학기',\n",
       " '1학기',\n",
       " '여름방학',\n",
       " '여름방학',\n",
       " '2학기',\n",
       " '2학기',\n",
       " '2학기',\n",
       " '2학기',\n",
       " '2학기']"
      ]
     },
     "execution_count": 167,
     "metadata": {},
     "output_type": "execute_result"
    }
   ],
   "source": [
    "[dct[m] for m in month]"
   ]
  },
  {
   "cell_type": "markdown",
   "id": "a52fa7db-fcd7-403a-b6da-5d745d909665",
   "metadata": {},
   "source": [
    "`##` -- 합성변환"
   ]
  },
  {
   "cell_type": "markdown",
   "id": "4d575633-7ea5-4143-9173-3f9d5798fb41",
   "metadata": {},
   "source": [
    "아래와 같은 맵핑을 고려하자. "
   ]
  },
  {
   "cell_type": "markdown",
   "id": "4d249581-4fa7-4c14-bba8-567212577b99",
   "metadata": {},
   "source": [
    "(규칙1)"
   ]
  },
  {
   "cell_type": "markdown",
   "id": "a270671e-8fbf-4652-8043-d2494e6f7a5c",
   "metadata": {},
   "source": [
    "|문자|숫자|\n",
    "|:-:|:-:|\n",
    "|바나나|0|\n",
    "|사과|1|\n",
    "|오토바이|2|\n",
    "|자동차|3|\n",
    "|자전거|4|"
   ]
  },
  {
   "cell_type": "markdown",
   "id": "e28ba685-f676-4ee4-8f0d-7ca68ff67c61",
   "metadata": {},
   "source": [
    "(규칙2)"
   ]
  },
  {
   "cell_type": "markdown",
   "id": "7e266918-d7ec-4148-8d04-9dab62ca9fc0",
   "metadata": {},
   "source": [
    "|아이템|카테고리|\n",
    "|:-:|:-:|\n",
    "|바나나|과일|\n",
    "|사과|과일|\n",
    "|오토바이|탈것|\n",
    "|자동차|탈것|\n",
    "|자전거|탈것|"
   ]
  },
  {
   "cell_type": "markdown",
   "id": "550f70a5-db72-4b20-a436-71f97462eff2",
   "metadata": {},
   "source": [
    "각각의 규칙을 나타내는 딕셔너리는 아래와 같이 선언되어있다고 하자. "
   ]
  },
  {
   "cell_type": "code",
   "execution_count": 178,
   "id": "b6e02c20-5675-49fa-a206-410c48e17ddc",
   "metadata": {},
   "outputs": [],
   "source": [
    "dct1 = {'바나나':0, '사과':1, '오토바이':2, '자동차':3, '자전거':4} \n",
    "dct2 = {'과일':['바나나','사과'], '탈것':['오토바이','자동차','자전거']} "
   ]
  },
  {
   "cell_type": "markdown",
   "id": "7ac83db9-d5e3-4099-8ac0-094c0b6a1dbe",
   "metadata": {},
   "source": [
    "`# 문제`. 규칙1를 이용하여 아래와 같은 리스트를 변환하는 함수를 구현하고 그 함수를 `f`라 선언하라."
   ]
  },
  {
   "cell_type": "markdown",
   "id": "6fc2120f-e7cf-44e4-b205-389fc7a5de2b",
   "metadata": {},
   "source": [
    "```Python\n",
    "# 입력 \n",
    "[0,1,0,1,4]\n",
    "\n",
    "# 출력 \n",
    "['바나나', '사과', '바나나', '사과', '자전거']\n",
    "```"
   ]
  },
  {
   "cell_type": "markdown",
   "id": "b9556c25-e2ea-43d3-92c3-0fac08811d1c",
   "metadata": {},
   "source": [
    "(사용예시)"
   ]
  },
  {
   "cell_type": "code",
   "execution_count": 202,
   "id": "a5b88c5f-3ed3-409f-ab3d-8ff6552e530b",
   "metadata": {},
   "outputs": [
    {
     "data": {
      "text/plain": [
       "['바나나', '사과', '바나나', '사과', '자전거']"
      ]
     },
     "execution_count": 202,
     "metadata": {},
     "output_type": "execute_result"
    }
   ],
   "source": [
    "f([0,1,0,1,4])"
   ]
  },
  {
   "cell_type": "markdown",
   "id": "481f6d26-9667-4557-b5e2-7fe7860b1198",
   "metadata": {},
   "source": [
    "`(풀이)`"
   ]
  },
  {
   "cell_type": "code",
   "execution_count": 189,
   "id": "14a59315-b862-43d8-bf41-45ea245bc02b",
   "metadata": {},
   "outputs": [],
   "source": [
    "f = lambda lst: [k for l in lst for k in dct1 if l == dct1[k]]"
   ]
  },
  {
   "cell_type": "code",
   "execution_count": 190,
   "id": "b6f13d1f-39b5-4c00-a2fa-11ca1d2b6594",
   "metadata": {},
   "outputs": [
    {
     "data": {
      "text/plain": [
       "['바나나', '사과', '바나나', '사과', '자전거']"
      ]
     },
     "execution_count": 190,
     "metadata": {},
     "output_type": "execute_result"
    }
   ],
   "source": [
    "f([0,1,0,1,4])"
   ]
  },
  {
   "cell_type": "markdown",
   "id": "85f04325-95f4-4a82-9d63-cc18d0ae4aa4",
   "metadata": {},
   "source": [
    "`# 문제`. 규칙2를 이용하여 아래와 같이 리스트를 변환하는 함수를 구현하고 그 함수를 `g`라고 선언하라. "
   ]
  },
  {
   "cell_type": "markdown",
   "id": "8ad6e8ce-2e47-4b5a-8960-b222e5af7869",
   "metadata": {},
   "source": [
    "```Python\n",
    "# 입력 \n",
    "['바나나','바나나','바나나','자동차']\n",
    "\n",
    "# 출력 \n",
    "['과일','과일','과일','탈것']\n",
    "```"
   ]
  },
  {
   "cell_type": "markdown",
   "id": "f9ecb3cd-cca3-4b78-a054-f3a2d07bf972",
   "metadata": {},
   "source": [
    "(사용예시)"
   ]
  },
  {
   "cell_type": "code",
   "execution_count": 201,
   "id": "bdca3279-219d-470b-bba4-c7bcf4cf01fc",
   "metadata": {},
   "outputs": [
    {
     "data": {
      "text/plain": [
       "['과일', '과일', '과일', '탈것']"
      ]
     },
     "execution_count": 201,
     "metadata": {},
     "output_type": "execute_result"
    }
   ],
   "source": [
    "g(['바나나','바나나','바나나','자동차'])"
   ]
  },
  {
   "cell_type": "markdown",
   "id": "d07b46cb-39f2-4abc-adf9-01ab544147e0",
   "metadata": {},
   "source": [
    "`(풀이)`"
   ]
  },
  {
   "cell_type": "code",
   "execution_count": 195,
   "id": "cb47d4c3-254e-40ff-8b21-8717212e4b4a",
   "metadata": {},
   "outputs": [],
   "source": [
    "g = lambda lst: [k for l in lst for k in dct2 if l in dct2[k]]"
   ]
  },
  {
   "cell_type": "code",
   "execution_count": 196,
   "id": "52dba634-72e0-46ca-81c8-09aed69c08fc",
   "metadata": {},
   "outputs": [
    {
     "data": {
      "text/plain": [
       "['과일', '과일', '과일', '탈것']"
      ]
     },
     "execution_count": 196,
     "metadata": {},
     "output_type": "execute_result"
    }
   ],
   "source": [
    "g(['바나나','바나나','바나나','자동차'])"
   ]
  },
  {
   "cell_type": "markdown",
   "id": "fe7cb429-63ad-4be4-9384-96d0979e160b",
   "metadata": {},
   "source": [
    "`# 문제`. 규칙1-2를 이용하여 아래와 같은 숫자로 이루어진 입력을 '과일', '탈것' 중 하나로 바꾸는 코드를 구현하라. "
   ]
  },
  {
   "cell_type": "markdown",
   "id": "0e2a1c13-1bf2-4b1c-bf35-f634e1ea3b32",
   "metadata": {},
   "source": [
    "```Python\n",
    "# 입력 \n",
    "[0,1,0,1,3,4,2,2,3,4,1,0]\n",
    "\n",
    "# 출력 \n",
    "['과일', '과일', '과일', '과일', '탈것', '탈것', '탈것', '탈것', '탈것', '탈것', '과일', '과일']\n",
    "```"
   ]
  },
  {
   "cell_type": "markdown",
   "id": "e3b90e4b-1936-4dfb-9e5c-e701b61f6898",
   "metadata": {},
   "source": [
    "**hint** $g(f(x))$ 를 이용하라. "
   ]
  },
  {
   "cell_type": "markdown",
   "id": "aebac04b-8972-4c9a-982d-11d09f87b634",
   "metadata": {},
   "source": [
    "`(풀이)`"
   ]
  },
  {
   "cell_type": "code",
   "execution_count": 198,
   "id": "8155e3a5-4840-4ab3-b363-8872533e69a4",
   "metadata": {},
   "outputs": [
    {
     "data": {
      "text/plain": [
       "['과일', '과일', '과일', '과일', '탈것', '탈것', '탈것', '탈것', '탈것', '탈것', '과일', '과일']"
      ]
     },
     "execution_count": 198,
     "metadata": {},
     "output_type": "execute_result"
    }
   ],
   "source": [
    "g(f([0,1,0,1,3,4,2,2,3,4,1,0]))"
   ]
  },
  {
   "cell_type": "markdown",
   "id": "9bc51558-d870-4047-a01e-557385fc1a32",
   "metadata": {},
   "source": [
    "# 7. 파이썬 자료형 연습문제"
   ]
  },
  {
   "cell_type": "markdown",
   "id": "08a648a2-0a62-4de7-adc9-cfde3cb4f51d",
   "metadata": {},
   "source": [
    "`Oxford-III`: // [reference](https://www.robots.ox.ac.uk/~vgg/data/pets/)\n",
    "\n",
    "아래는 이미지 파일명들이 저장된 string을 불러오는 코드이다. "
   ]
  },
  {
   "cell_type": "code",
   "execution_count": 2,
   "id": "65f2dd70-7d39-458a-b789-2161b119f4fd",
   "metadata": {
    "tags": []
   },
   "outputs": [],
   "source": [
    "import requests\n",
    "url = 'https://raw.githubusercontent.com/guebin/PP2023/main/posts/01_PythonBasic/Oxford-IIIT.txt'\n",
    "txt = requests.get(url).content.decode()"
   ]
  },
  {
   "cell_type": "markdown",
   "id": "3392a3a7-03c0-4e9d-9c4b-ca2aed5588f9",
   "metadata": {},
   "source": [
    "txt의 출력 일부를 나타내면 아래와 같다. \n",
    "\n",
    "```default\n",
    "'Abyssinian_1.jpg\\nAbyssinian_10.jpg\\nAbyssinian_100.jpg\\nAbyssinian_100.mat\\nAbyssinian_101.jpg\\nAbyssinian_101.mat\\nAbyssinian_102.jpg\\nAbyssinian_102.mat\\nAbyssinian_103.jpg\\nAbyssinian_104.jpg\\nAbyssinian_105.jpg\\nAbyssinian_106.jpg\\nAbyssinian_107.jpg\\nAbyssinian_108.jpg\\nAbyssinian_109.jpg\\nAbyssinian_11.jpg\\nAbyssinian_110.jpg\\nAbyssinian_111.jpg\\nAbyssinian_112.jpg\\nAbyssinian_113.jpg\\nAbyssinian_114.jpg\\nAbyssinian_115.jpg\\nAbyssinian_116.jpg\\nAbyssinian_117.jpg\\nAbyssinian_118.jpg\\nAbyssinian_119.jpg\\nAbyssinian_12.jpg\\nAbyssinian_120.jpg\\nAbyssinian_121.jpg\\nAbyssinian_122.jpg\\nAbyssinian_123.jpg\\nAbyssinian_124.jpg\\nAbyssinian_125.jpg\\nAbyssinian_126.jpg\\nAbyssinian_127.jpg\\nAbyssinian_128.jpg\\nAbyssinian_129.jpg\\nAbyssinian_13.jpg\\nAbyssinian_130.jpg\\nAbyssinian_131.jpg\\nAbyssinian_132.jpg\\n ....... \n",
    "```"
   ]
  },
  {
   "cell_type": "markdown",
   "id": "38f26614-a3fb-4380-b555-b9a92ddaee22",
   "metadata": {},
   "source": [
    "`# 문제`. 각 파일명은 `\\n`으로 구분되어있다. 위의 스트링을 분해하여 아래와 같은 리스트를 생성하고 `fname_list`에 저장하라. "
   ]
  },
  {
   "cell_type": "markdown",
   "id": "eddd8ff5-94b4-491e-8038-354bfa98cf54",
   "metadata": {},
   "source": [
    "```Python\n",
    "# fname_list 의 출력결과는 아래와 같아야 한다. \n",
    "['Abyssinian_1.jpg','Abyssinian_10.jpg', ... ,'yorkshire_terrier_98.jpg', 'yorkshire_terrier_99.jpg']\n",
    "```"
   ]
  },
  {
   "cell_type": "markdown",
   "id": "96d03a0d-a51b-4d2c-8f24-3ce32ac06dd3",
   "metadata": {},
   "source": [
    "`(풀이)`"
   ]
  },
  {
   "cell_type": "code",
   "execution_count": 3,
   "id": "29f0cddc-8912-4547-b3a5-e6673e54a8ae",
   "metadata": {
    "tags": []
   },
   "outputs": [
    {
     "data": {
      "text/plain": [
       "['Abyssinian_1.jpg',\n",
       " 'Abyssinian_10.jpg',\n",
       " 'Abyssinian_100.jpg',\n",
       " 'Abyssinian_100.mat',\n",
       " 'Abyssinian_101.jpg']"
      ]
     },
     "execution_count": 3,
     "metadata": {},
     "output_type": "execute_result"
    }
   ],
   "source": [
    "fname_list = txt.split('\\n')\n",
    "fname_list[:5] # 7393개의 이미지파일명이 저장되어있음. "
   ]
  },
  {
   "cell_type": "markdown",
   "id": "508a970c-91d9-4315-a780-e9cc2b1eb3a9",
   "metadata": {},
   "source": [
    "`# 문제`. 각 이미지파일명은 아래와 같은 규칙으로 저장되어 있다. \n",
    "\n",
    "- 파일명의 첫글자가 대문자이면 고양이를 의미하고 첫글자가 소문자이면 강아지를 의미한다. "
   ]
  },
  {
   "cell_type": "markdown",
   "id": "01001029-6f69-4353-88cd-f8bfd6c72fba",
   "metadata": {},
   "source": [
    "이미지 파일명이 입력으로 오면 강아지인지 고양이인지 판단하여 'cat' or 'dog'를 리턴하는 함수 `f`를 구현하라. "
   ]
  },
  {
   "cell_type": "markdown",
   "id": "bff4f7a9-c330-44c0-b95b-e26329895924",
   "metadata": {},
   "source": [
    "(함수사용예시)"
   ]
  },
  {
   "cell_type": "code",
   "execution_count": 7,
   "id": "871dc1cb-90ac-4a11-82be-93b0d5decda4",
   "metadata": {
    "tags": []
   },
   "outputs": [
    {
     "data": {
      "text/plain": [
       "'dog'"
      ]
     },
     "execution_count": 7,
     "metadata": {},
     "output_type": "execute_result"
    }
   ],
   "source": [
    "f('yorkshire_terrier_99.jpg')"
   ]
  },
  {
   "cell_type": "code",
   "execution_count": 8,
   "id": "57e054e7-bc09-47c4-b9f4-ecf0a937eb0c",
   "metadata": {
    "tags": []
   },
   "outputs": [
    {
     "data": {
      "text/plain": [
       "'cat'"
      ]
     },
     "execution_count": 8,
     "metadata": {},
     "output_type": "execute_result"
    }
   ],
   "source": [
    "f('Abyssinian_1.jpg')"
   ]
  },
  {
   "cell_type": "markdown",
   "id": "5ce1737b-7187-4202-aa88-8d70b4b7b812",
   "metadata": {},
   "source": [
    "`(풀이)`"
   ]
  },
  {
   "cell_type": "code",
   "execution_count": 9,
   "id": "8b7ba65f-4153-4870-b372-e24205302fa2",
   "metadata": {
    "tags": []
   },
   "outputs": [
    {
     "data": {
      "text/plain": [
       "'cat'"
      ]
     },
     "execution_count": 9,
     "metadata": {},
     "output_type": "execute_result"
    }
   ],
   "source": [
    "f = lambda s: 'cat' if s[0].isupper() else 'dog'\n",
    "f('Abyssinian_1.jpg')"
   ]
  },
  {
   "cell_type": "markdown",
   "id": "43aaf687-8fcd-44ae-b09c-738b7e43671d",
   "metadata": {},
   "source": [
    "`# 문제`. 위의 결과로 나온 `fname_list`를 입력으로 하고 리스트의 각 원소가 고양이를 의미하는 그림인지 강아지를 의미하는 그림인지 나타내는 리스트를 만들어라. "
   ]
  },
  {
   "cell_type": "markdown",
   "id": "63f0c04d-51a8-4f1a-a6ad-5ab968c9e3f7",
   "metadata": {},
   "source": [
    "```Python\n",
    "## 입력예시 \n",
    "['Abyssinian_1.jpg','Abyssinian_10.jpg',...,'yorkshire_terrier_98.jpg', 'yorkshire_terrier_99.jpg']\n",
    "\n",
    "## 출력예시\n",
    "['cat', 'cat', ... , 'dog', 'dog']\n",
    "```"
   ]
  },
  {
   "cell_type": "markdown",
   "id": "b06c77bc-9e22-4e87-b263-8a7b8ed615e4",
   "metadata": {},
   "source": [
    "`(풀이1)`"
   ]
  },
  {
   "cell_type": "code",
   "execution_count": 10,
   "id": "dc00f87f-acc4-4005-9e24-7aeec662bdf0",
   "metadata": {
    "tags": []
   },
   "outputs": [],
   "source": [
    "#list(map(f,fname_list))"
   ]
  },
  {
   "cell_type": "markdown",
   "id": "1992558c-3db6-4390-a966-266c6cd164f8",
   "metadata": {},
   "source": [
    "`(풀이2)`"
   ]
  },
  {
   "cell_type": "code",
   "execution_count": 11,
   "id": "a4bdf313-2750-47d8-b098-83f025453609",
   "metadata": {
    "tags": []
   },
   "outputs": [],
   "source": [
    "#[f(fname) for fname in fname_list]"
   ]
  },
  {
   "cell_type": "markdown",
   "id": "8b9977d4-caa4-4d37-b306-02eef30c1925",
   "metadata": {},
   "source": [
    "`# 문제`. 강아지 그림과 고양이 그림이 각각 몇 장씩 포함되어 있는지 파악하는 코드를 구현하라. "
   ]
  },
  {
   "cell_type": "markdown",
   "id": "bdf9dd8d-ea8a-4fe0-99e1-9a1b19784e4f",
   "metadata": {},
   "source": [
    "`(풀이)`"
   ]
  },
  {
   "cell_type": "code",
   "execution_count": 12,
   "id": "751687f1-8bff-4ae9-9af1-3f4d71787d36",
   "metadata": {
    "tags": []
   },
   "outputs": [
    {
     "data": {
      "text/plain": [
       "2403"
      ]
     },
     "execution_count": 12,
     "metadata": {},
     "output_type": "execute_result"
    }
   ],
   "source": [
    "[f(fname) for fname in fname_list].count('cat')"
   ]
  },
  {
   "cell_type": "code",
   "execution_count": 13,
   "id": "69f354db-a387-495b-9141-d521697cf641",
   "metadata": {
    "tags": []
   },
   "outputs": [
    {
     "data": {
      "text/plain": [
       "4990"
      ]
     },
     "execution_count": 13,
     "metadata": {},
     "output_type": "execute_result"
    }
   ],
   "source": [
    "[f(fname) for fname in fname_list].count('dog')"
   ]
  },
  {
   "cell_type": "markdown",
   "id": "ade0a682-9e9c-43b0-ad60-70381c073afc",
   "metadata": {},
   "source": [
    "`# 문제`. 고양이 혹은 강아지의 각 종이 몇 장씩 포함되어있는지 구하여 딕셔너리로 정리하라. "
   ]
  },
  {
   "cell_type": "markdown",
   "id": "6f582bef-a332-4274-98ca-b325c40d1ac0",
   "metadata": {},
   "source": [
    "`(풀이)`"
   ]
  },
  {
   "cell_type": "code",
   "execution_count": 14,
   "id": "7d2aa0f1-8010-44e9-9336-8e2475ced8a5",
   "metadata": {
    "tags": []
   },
   "outputs": [
    {
     "data": {
      "text/plain": [
       "{'yorkshire_terrier': 200,\n",
       " 'Siamese': 200,\n",
       " 'chihuahua': 200,\n",
       " 'Persian': 200,\n",
       " 'miniature_pinscher': 200,\n",
       " 'samoyed': 200,\n",
       " 'boxer': 200,\n",
       " 'american_pit_bull_terrier': 200,\n",
       " 'german_shorthaired': 200,\n",
       " 'great_pyrenees': 200,\n",
       " 'Sphynx': 200,\n",
       " 'shiba_inu': 200,\n",
       " 'american_bulldog': 200,\n",
       " 'havanese': 200,\n",
       " 'Bombay': 200,\n",
       " 'japanese_chin': 200,\n",
       " 'Ragdoll': 200,\n",
       " 'english_cocker_spaniel': 200,\n",
       " 'english_setter': 200,\n",
       " 'Egyptian_Mau': 200,\n",
       " 'staffordshire_bull_terrier': 191,\n",
       " 'Russian_Blue': 200,\n",
       " 'beagle': 200,\n",
       " 'pomeranian': 200,\n",
       " 'British_Shorthair': 200,\n",
       " 'pug': 200,\n",
       " 'Bengal': 200,\n",
       " 'newfoundland': 200,\n",
       " 'wheaten_terrier': 200,\n",
       " 'Abyssinian': 203,\n",
       " 'Maine_Coon': 200,\n",
       " 'basset_hound': 200,\n",
       " 'saint_bernard': 200,\n",
       " 'scottish_terrier': 199,\n",
       " 'keeshond': 200,\n",
       " 'leonberger': 200,\n",
       " 'Birman': 200}"
      ]
     },
     "execution_count": 14,
     "metadata": {},
     "output_type": "execute_result"
    }
   ],
   "source": [
    "lst = ['_'.join(l.split('_')[:-1]) for l in fname_list]\n",
    "{s:lst.count(s) for s in set(lst)}"
   ]
  }
 ],
 "metadata": {
  "kernelspec": {
   "display_name": "Python 3 (ipykernel)",
   "language": "python",
   "name": "python3"
  },
  "language_info": {
   "codemirror_mode": {
    "name": "ipython",
    "version": 3
   },
   "file_extension": ".py",
   "mimetype": "text/x-python",
   "name": "python",
   "nbconvert_exporter": "python",
   "pygments_lexer": "ipython3",
   "version": "3.11.8"
  }
 },
 "nbformat": 4,
 "nbformat_minor": 5
}
