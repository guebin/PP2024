{
 "cells": [
  {
   "cell_type": "raw",
   "id": "cd5e7c49-8db1-49e7-b73a-fea5ffd25ddc",
   "metadata": {
    "id": "87b5cded-346b-4915-acf5-b5ec93a5207d"
   },
   "source": [
    "---\n",
    "title: \"08wk-1: 퀴즈5\"\n",
    "author: \"최규빈\"\n",
    "date: \"04/24/2024\"\n",
    "draft: false\n",
    "---"
   ]
  },
  {
   "cell_type": "markdown",
   "id": "bf6dedd6-3b52-406d-9a17-53831b812d98",
   "metadata": {
    "id": "e67ab8e0"
   },
   "source": [
    "<a href=\"https://colab.research.google.com/github/guebin/PP2024/blob/main/posts/08wk-1.ipynb\"><img src=\"https://colab.research.google.com/assets/colab-badge.svg\" style=\"text-align: left\"></a>"
   ]
  },
  {
   "cell_type": "code",
   "execution_count": 1,
   "id": "3582475f-c5cf-4a9b-bdcd-f3eeb3dd72e7",
   "metadata": {
    "tags": []
   },
   "outputs": [],
   "source": [
    "#{{<video https://youtu.be/playlist?list=PLQqh36zP38-xz7YnuptdUg-tIHaBhFrqJ&si=prXpB8pP1luQvaz- >}}"
   ]
  },
  {
   "cell_type": "markdown",
   "id": "ac4e3f01-7059-46ba-a88c-d681d0a1c0ff",
   "metadata": {},
   "source": [
    "::: {.callout-caution}\n",
    "- 전북대 학생들을 시험당일 학생증을 지참할 것. (출석체크 및 본인확인) 학생증 외에 신분증 여권등도 가능.\n",
    "- 부정행위 (카카오톡 채팅을 통한 코드공유, 생성형모델 사용, 대리시험 등) 적발시 F 처리함. \n",
    "- 퀴즈 중 지각할 경우 지각사실을 기록함. 하지만 별 다른 감점은 하지 않음.\n",
    "- `.ipynb` 파일 형태로 제출된 답안지만 채점하며 그 외의 형식 (`.hwp`, `.py` 등)은 채점하지 않음. 즉 0점 처리함.\n",
    ":::\n"
   ]
  },
  {
   "cell_type": "markdown",
   "id": "af7134e2-482d-4611-ae09-d92651a2bd81",
   "metadata": {
    "tags": []
   },
   "source": [
    "# 1. -- 20점"
   ]
  },
  {
   "cell_type": "markdown",
   "id": "1111a718-6306-4a70-9ac6-2cb8b2e56c20",
   "metadata": {},
   "source": [
    "앞으로 읽어도 뒤로 읽어도 동일한 단어이면 true 그렇지 않으면 false를 리턴하는 함수 `solution`를 구현하라. 아래는 이러한 함수 `solution`를 사용한 예시이다. "
   ]
  },
  {
   "cell_type": "code",
   "execution_count": 9,
   "id": "dcfeea81-ec06-4eb9-9f35-33e0dd96b412",
   "metadata": {
    "tags": []
   },
   "outputs": [],
   "source": [
    "lst1 = ['기러기', '토마토', '스위스', '인도인', '별똥별', '우영우', '파이썬']\n",
    "lst2 = ['level', 'radar', 'noon', 'deified', 'rotor', 'python']"
   ]
  },
  {
   "cell_type": "code",
   "execution_count": 11,
   "id": "82aff16e-2558-4a3e-af01-4192bf6dda48",
   "metadata": {
    "tags": []
   },
   "outputs": [
    {
     "data": {
      "text/plain": [
       "[True, True, True, True, True, True, False]"
      ]
     },
     "execution_count": 11,
     "metadata": {},
     "output_type": "execute_result"
    }
   ],
   "source": [
    "[solution(l) for l in lst1]"
   ]
  },
  {
   "cell_type": "code",
   "execution_count": 12,
   "id": "c544dc6f-9147-408d-a961-88a91cd12978",
   "metadata": {
    "tags": []
   },
   "outputs": [
    {
     "data": {
      "text/plain": [
       "[True, True, True, True, True, False]"
      ]
     },
     "execution_count": 12,
     "metadata": {},
     "output_type": "execute_result"
    }
   ],
   "source": [
    "[solution(l) for l in lst2]"
   ]
  },
  {
   "cell_type": "markdown",
   "id": "bd228ce4-694f-4e0e-8a97-a6cf3d1fa952",
   "metadata": {},
   "source": [
    "(풀이)"
   ]
  },
  {
   "cell_type": "code",
   "execution_count": null,
   "id": "7bfe40ea-54a2-4629-af85-b0da9ed03ddb",
   "metadata": {},
   "outputs": [],
   "source": []
  },
  {
   "cell_type": "code",
   "execution_count": null,
   "id": "ca321b32-a656-4aa0-81a4-f4142849673a",
   "metadata": {},
   "outputs": [],
   "source": []
  },
  {
   "cell_type": "markdown",
   "id": "bf9f7318-9fc9-4bd1-8e2b-9118a2134fae",
   "metadata": {
    "tags": []
   },
   "source": [
    "# 2. -- 40점"
   ]
  },
  {
   "cell_type": "markdown",
   "id": "d110b428-2e93-4234-bfba-1380e5ef45cd",
   "metadata": {},
   "source": [
    "아홉개의 공이있다. 이 가운데 여덟개는 무게가 같고 하나는 남은 하나는 좀 더 무겁다. 우리에게는 저울이 하나 있는데 이 저울로는 왼쪽의 공들이 무거운지 오른쪽의 공들이 무거운지밖에 알아낼 수 없다. 이 저울을 딱 두번만 사용하여 가장 무거운 공을 찾아내는 알고리즘을 `solution` 함수로 정리하여 제시하라. 공들의 무게는 길이가 9인 리스트로 온다고 가정한다. 출력은 가장 무거운 공이 위치한 index를 리턴하도록 한다. "
   ]
  },
  {
   "cell_type": "markdown",
   "id": "87029dc2-386f-4484-8bd1-bfd69cfa4cae",
   "metadata": {},
   "source": [
    "다음은 solution 함수를 실제로 구현하여 사용한 예시이다. "
   ]
  },
  {
   "cell_type": "code",
   "execution_count": 21,
   "id": "06970faa-7c1d-4f80-b579-bca20237b80d",
   "metadata": {
    "tags": []
   },
   "outputs": [
    {
     "data": {
      "text/plain": [
       "0"
      ]
     },
     "execution_count": 21,
     "metadata": {},
     "output_type": "execute_result"
    }
   ],
   "source": [
    "solution([2,1,1,1,1,1,1,1,1])"
   ]
  },
  {
   "cell_type": "code",
   "execution_count": 22,
   "id": "81fb2e9a-fade-490a-b161-d69150b192df",
   "metadata": {
    "tags": []
   },
   "outputs": [
    {
     "data": {
      "text/plain": [
       "2"
      ]
     },
     "execution_count": 22,
     "metadata": {},
     "output_type": "execute_result"
    }
   ],
   "source": [
    "solution([2,2,5,2,2,2,2,2,2])"
   ]
  },
  {
   "cell_type": "markdown",
   "id": "d48bd85d-509a-4b37-8166-bba9a5576b67",
   "metadata": {},
   "source": [
    "(풀이)"
   ]
  },
  {
   "cell_type": "markdown",
   "id": "5a0e9467-eac1-4e3a-b85c-89a5c1ebf641",
   "metadata": {},
   "source": [
    "> hint: 공을 세 개씩 세 그룹으로 나누세요"
   ]
  },
  {
   "cell_type": "code",
   "execution_count": null,
   "id": "fdb4e98e-4bbf-4160-a27b-cb07417e62a1",
   "metadata": {},
   "outputs": [],
   "source": []
  },
  {
   "cell_type": "code",
   "execution_count": null,
   "id": "8b382583-737c-49a6-9a68-3f22e100a93f",
   "metadata": {},
   "outputs": [],
   "source": []
  },
  {
   "cell_type": "markdown",
   "id": "c85ea384-373e-4d02-b919-0450a5d928b0",
   "metadata": {
    "tags": []
   },
   "source": [
    "# 5. -- 40점"
   ]
  },
  {
   "cell_type": "markdown",
   "id": "16e89b2b-9546-4331-8236-729544d7cb61",
   "metadata": {},
   "source": [
    "> 카카오 채용연계형 인턴쉽 기출문제"
   ]
  },
  {
   "cell_type": "markdown",
   "id": "e94899fd-28f9-4b0a-87cf-7727550b8201",
   "metadata": {},
   "source": [
    "네오와 프로도가 숫자놀이를 하고 있습니다. 네오가 프로도에게 숫자를 건넬 때 일부 자릿수를 영단어로 바꾼 카드를 건네주면 프로도는 원래 숫자를 찾는 게임입니다. 다음은 숫자의 일부 자릿수를 영단어로 바꾸는 예시입니다.\n",
    "\n",
    "```\n",
    "1478 --> \"one4seveneight\"\n",
    "234567 --> \"23four5six7\"\n",
    "10203 --> \"1zerotwozero3\"\n",
    "```\n",
    "\n",
    "이렇게 숫자의 일부 자릿수가 영단어로 바뀌어졌거나, 혹은 바뀌지 않고 그대로인 문자열 s가 매개변수로 주어집니다. s가 의미하는 원래 숫자를 return 하도록 `solution` 함수를 완성해주세요.\n",
    "\n",
    "참고로 각 숫자에 대응되는 영단어는 다음 표와 같습니다.\n",
    "\n",
    "|숫자| 영단어|\n",
    "|:-:|:-:|\n",
    "|0|\tzero|\n",
    "|1|\tone|\n",
    "|2|\ttwo|\n",
    "|3|\tthree|\n",
    "|4|\tfour|\n",
    "|5|\tfive|\n",
    "|6|\tsix|\n",
    "|7|\tseven|\n",
    "|8|\teight|\n",
    "|9|\tnine|\n",
    "\n",
    "`-` 제한사항\n",
    "\n",
    "- 1 ≤ s의 길이 ≤ 50\n",
    "- s가 \"zero\" 또는 \"0\"으로 시작하는 경우는 주어지지 않습니다.\n",
    "- return 값이 1 이상 2,000,000,000 이하의 정수가 되는 올바른 입력만 s로 주어집니다.\n",
    "\n",
    "\n",
    "`-` 입출력 예\n",
    "\n",
    "|s|result|\n",
    "|:-:|:-:\n",
    "|\"one4seveneight\"|\t1478|\n",
    "|\"23four5six7\"|\t234567|\n",
    "|\"2three45sixseven\"| 234567|\n",
    "|\"123\"|\t123|\n",
    "\n",
    "`-` 입출력 예 설명\n",
    "\n",
    "- 입출력 예 #1 -- 문제 예시와 같습니다.\n",
    "- 입출력 예 #2 -- 문제 예시와 같습니다.\n",
    "- 입출력 예 #3 -- \"three\"는 3, \"six\"는 6, \"seven\"은 7에 대응되기 때문에 정답은 입출력 예 #2와 같은 234567이 됩니다. 입출력 예 #2와 #3과 같이 같은 정답을 가리키는 문자열이 여러 가지가 나올 수 있습니다.\n",
    "- 입출력 예 #4 -- s에는 영단어로 바뀐 부분이 없습니다."
   ]
  },
  {
   "cell_type": "markdown",
   "id": "79a34c34-0c33-4bac-8d17-e5f71b3566c6",
   "metadata": {},
   "source": [
    "(풀이)"
   ]
  },
  {
   "cell_type": "markdown",
   "id": "b0bc0dc4-51ab-40ec-9c05-762530dc4bc7",
   "metadata": {},
   "source": [
    "***hint*** -- 아래의 `dictionary`를 이용하세요"
   ]
  },
  {
   "cell_type": "code",
   "execution_count": 14,
   "id": "d4b8f949-7629-4bab-b59a-3d8fb066ba17",
   "metadata": {
    "tags": []
   },
   "outputs": [],
   "source": [
    "dct = {\n",
    "    'zero': '0',\n",
    "    'one': '1',\n",
    "    'two': '2',\n",
    "    'three': '3',\n",
    "    'four': '4',\n",
    "    'five': '5',\n",
    "    'six': '6',\n",
    "    'seven': '7',\n",
    "    'eight': '8',\n",
    "    'nine': '9'\n",
    "}"
   ]
  },
  {
   "cell_type": "code",
   "execution_count": null,
   "id": "24561481-8e5d-4b95-9d81-821504d080c2",
   "metadata": {},
   "outputs": [],
   "source": []
  },
  {
   "cell_type": "code",
   "execution_count": null,
   "id": "78b16977-d6ae-4f26-a306-716024978b8f",
   "metadata": {},
   "outputs": [],
   "source": []
  }
 ],
 "metadata": {
  "kernelspec": {
   "display_name": "Python 3 (ipykernel)",
   "language": "python",
   "name": "python3"
  },
  "language_info": {
   "codemirror_mode": {
    "name": "ipython",
    "version": 3
   },
   "file_extension": ".py",
   "mimetype": "text/x-python",
   "name": "python",
   "nbconvert_exporter": "python",
   "pygments_lexer": "ipython3",
   "version": "3.10.13"
  }
 },
 "nbformat": 4,
 "nbformat_minor": 5
}
