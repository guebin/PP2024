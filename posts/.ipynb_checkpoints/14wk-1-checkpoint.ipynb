{
 "cells": [
  {
   "cell_type": "raw",
   "id": "4a4f723e-f45c-49e8-b5c3-c40eb7c0bfae",
   "metadata": {
    "id": "87b5cded-346b-4915-acf5-b5ec93a5207d"
   },
   "source": [
    "---\n",
    "title: \"14wk-1: 퀴즈9\"\n",
    "author: \"최규빈\"\n",
    "date: \"06/05/2024\"\n",
    "draft: false\n",
    "---"
   ]
  },
  {
   "cell_type": "markdown",
   "id": "9c5c9011-8f0c-494c-ad24-06b996507fb6",
   "metadata": {
    "id": "e67ab8e0"
   },
   "source": [
    "<a href=\"https://colab.research.google.com/github/guebin/PP2024/blob/main/posts/13wk-1.ipynb\"><img src=\"https://colab.research.google.com/assets/colab-badge.svg\" style=\"text-align: left\"></a>"
   ]
  },
  {
   "cell_type": "code",
   "execution_count": 1,
   "id": "9af59c17-eefc-4ceb-90ee-96243ee88583",
   "metadata": {
    "tags": []
   },
   "outputs": [],
   "source": [
    "#{{<video https://youtu.be/playlist?list=PLQqh36zP38-xPC_jCrpvRmaTcumUVcKhf&si=rm2Ww8MJSsxHl_gp >}}"
   ]
  },
  {
   "cell_type": "markdown",
   "id": "09795693-6a3b-44df-a6be-a9d9c40c2327",
   "metadata": {},
   "source": [
    "::: {.callout-caution}\n",
    "- 전북대 학생들을 시험당일 학생증을 지참할 것. (출석체크 및 본인확인) 학생증 외에 신분증 여권등도 가능.\n",
    "- 부정행위 (카카오톡 채팅을 통한 코드공유, 생성형모델 사용, 대리시험 등) 적발시 F 처리함. \n",
    "- 퀴즈 중 지각할 경우 지각사실을 기록함. 하지만 별 다른 감점은 하지 않음.\n",
    "- `.ipynb` 파일 형태로 제출된 답안지만 채점하며 그 외의 형식 (`.hwp`, `.py` 등)은 채점하지 않음. 즉 0점 처리함.\n",
    ":::\n"
   ]
  },
  {
   "cell_type": "code",
   "execution_count": 229,
   "id": "e9cf844f-35fd-415c-b75a-8cde7d8fff15",
   "metadata": {
    "tags": []
   },
   "outputs": [],
   "source": [
    "import numpy as np"
   ]
  },
  {
   "cell_type": "markdown",
   "id": "4af6189c-c324-4775-b4da-163b6d9cfdac",
   "metadata": {},
   "source": [
    "# 1. -- 30점"
   ]
  },
  {
   "cell_type": "markdown",
   "id": "b6616731-b907-4a5b-9f77-efed472a5f2e",
   "metadata": {},
   "source": [
    "아래와 같은 기능을 하도록 클래스 `Coin`을 설계하라. "
   ]
  },
  {
   "cell_type": "markdown",
   "id": "cfee2724-9278-4d2a-b938-3156ebf16482",
   "metadata": {},
   "source": [
    "`# 예시1` "
   ]
  },
  {
   "cell_type": "code",
   "execution_count": 110,
   "id": "73f09d96-cced-4b6c-9983-3ee3aba1647d",
   "metadata": {
    "tags": []
   },
   "outputs": [],
   "source": [
    "ins = Coin()"
   ]
  },
  {
   "cell_type": "code",
   "execution_count": 111,
   "id": "5be400fc-d196-4a15-956c-81d93c277a05",
   "metadata": {
    "tags": []
   },
   "outputs": [
    {
     "name": "stdout",
     "output_type": "stream",
     "text": [
      "동전을 던져서 앞면이 나왔습니다.\n"
     ]
    }
   ],
   "source": [
    "ins.toss()"
   ]
  },
  {
   "cell_type": "code",
   "execution_count": 112,
   "id": "d968129f-bd6d-4425-88b1-9e030f6865fd",
   "metadata": {
    "tags": []
   },
   "outputs": [
    {
     "name": "stdout",
     "output_type": "stream",
     "text": [
      "동전을 던져서 뒷면이 나왔습니다.\n"
     ]
    }
   ],
   "source": [
    "ins.toss()"
   ]
  },
  {
   "cell_type": "code",
   "execution_count": 113,
   "id": "4dd9b5ef-2632-4c04-84f1-902cb8a102c7",
   "metadata": {
    "tags": []
   },
   "outputs": [
    {
     "data": {
      "text/plain": [
       "결과: ['앞면', '뒷면']"
      ]
     },
     "execution_count": 113,
     "metadata": {},
     "output_type": "execute_result"
    }
   ],
   "source": [
    "ins"
   ]
  },
  {
   "cell_type": "code",
   "execution_count": 114,
   "id": "5e09632c-e514-45fe-aaa1-d78a6c25b2e3",
   "metadata": {
    "tags": []
   },
   "outputs": [
    {
     "data": {
      "text/plain": [
       "2"
      ]
     },
     "execution_count": 114,
     "metadata": {},
     "output_type": "execute_result"
    }
   ],
   "source": [
    "len(ins)"
   ]
  },
  {
   "cell_type": "code",
   "execution_count": 115,
   "id": "02c5155e-c466-46a7-a1ef-9696d8bae48c",
   "metadata": {
    "tags": []
   },
   "outputs": [
    {
     "data": {
      "text/plain": [
       "'앞면'"
      ]
     },
     "execution_count": 115,
     "metadata": {},
     "output_type": "execute_result"
    }
   ],
   "source": [
    "ins[0]"
   ]
  },
  {
   "cell_type": "code",
   "execution_count": 116,
   "id": "5c78b793-da09-4efe-bf3e-b062ef3bb3a7",
   "metadata": {
    "tags": []
   },
   "outputs": [
    {
     "data": {
      "text/plain": [
       "'뒷면'"
      ]
     },
     "execution_count": 116,
     "metadata": {},
     "output_type": "execute_result"
    }
   ],
   "source": [
    "ins[1]"
   ]
  },
  {
   "cell_type": "markdown",
   "id": "f643e8b1-1382-4ce2-a608-476ecddbdfbb",
   "metadata": {},
   "source": [
    "`#`"
   ]
  },
  {
   "cell_type": "markdown",
   "id": "a3e578c8-2a51-4c1e-b306-1b59f961cb3c",
   "metadata": {},
   "source": [
    "`# 예시2` "
   ]
  },
  {
   "cell_type": "code",
   "execution_count": 117,
   "id": "68cbaf61-7551-454a-8e0d-7ea020129c57",
   "metadata": {
    "tags": []
   },
   "outputs": [],
   "source": [
    "ins = Coin()"
   ]
  },
  {
   "cell_type": "code",
   "execution_count": 118,
   "id": "4aec821b-15c9-4057-b51f-f2ddf7a6a99a",
   "metadata": {
    "tags": []
   },
   "outputs": [
    {
     "name": "stdout",
     "output_type": "stream",
     "text": [
      "동전을 던져서 앞면이 나왔습니다.\n",
      "동전을 던져서 앞면이 나왔습니다.\n",
      "동전을 던져서 뒷면이 나왔습니다.\n",
      "동전을 던져서 뒷면이 나왔습니다.\n",
      "동전을 던져서 앞면이 나왔습니다.\n",
      "동전을 던져서 뒷면이 나왔습니다.\n",
      "동전을 던져서 앞면이 나왔습니다.\n",
      "동전을 던져서 뒷면이 나왔습니다.\n",
      "동전을 던져서 앞면이 나왔습니다.\n",
      "동전을 던져서 뒷면이 나왔습니다.\n"
     ]
    }
   ],
   "source": [
    "for i in range(10):\n",
    "    ins.toss()"
   ]
  },
  {
   "cell_type": "code",
   "execution_count": 119,
   "id": "e1dc581f-095a-4ca2-8390-839210442d17",
   "metadata": {
    "tags": []
   },
   "outputs": [
    {
     "data": {
      "text/plain": [
       "결과: ['앞면', '앞면', '뒷면', '뒷면', '앞면', '뒷면', '앞면', '뒷면', '앞면', '뒷면']"
      ]
     },
     "execution_count": 119,
     "metadata": {},
     "output_type": "execute_result"
    }
   ],
   "source": [
    "ins"
   ]
  },
  {
   "cell_type": "code",
   "execution_count": 120,
   "id": "15528a1a-9ad6-4d92-9eee-a1c21589e6d1",
   "metadata": {
    "tags": []
   },
   "outputs": [
    {
     "data": {
      "text/plain": [
       "10"
      ]
     },
     "execution_count": 120,
     "metadata": {},
     "output_type": "execute_result"
    }
   ],
   "source": [
    "len(ins)"
   ]
  },
  {
   "cell_type": "code",
   "execution_count": 121,
   "id": "dfedb004-dac1-48cb-b4a2-a8ebb2dc2b1d",
   "metadata": {
    "tags": []
   },
   "outputs": [
    {
     "data": {
      "text/plain": [
       "'뒷면'"
      ]
     },
     "execution_count": 121,
     "metadata": {},
     "output_type": "execute_result"
    }
   ],
   "source": [
    "ins[-1]"
   ]
  },
  {
   "cell_type": "markdown",
   "id": "7753b73e-23ee-4c9f-9d1e-be669e13c933",
   "metadata": {},
   "source": [
    "`#`"
   ]
  },
  {
   "cell_type": "markdown",
   "id": "6b097b7d-93a5-4651-a898-0f3e41ff0000",
   "metadata": {},
   "source": [
    "# 2. -- 30점 "
   ]
  },
  {
   "cell_type": "markdown",
   "id": "b01d75f1-5a0a-4ef1-a868-8dd8c9aed229",
   "metadata": {},
   "source": [
    "아래와 같은 기능을 하도록 클래스 `Container`을 설계하라. "
   ]
  },
  {
   "cell_type": "markdown",
   "id": "e4a49648-6bde-47ec-8955-986c75bac74c",
   "metadata": {},
   "source": [
    "`# 예시`"
   ]
  },
  {
   "cell_type": "code",
   "execution_count": 147,
   "id": "4dfea133-1891-456d-9107-7dbdf35b6d49",
   "metadata": {
    "tags": []
   },
   "outputs": [
    {
     "data": {
      "text/plain": [
       "아이템: []"
      ]
     },
     "execution_count": 147,
     "metadata": {},
     "output_type": "execute_result"
    }
   ],
   "source": [
    "ins = Container()\n",
    "ins"
   ]
  },
  {
   "cell_type": "code",
   "execution_count": 148,
   "id": "291b07b9-5d44-4b6d-98a6-d71074c8c767",
   "metadata": {
    "tags": []
   },
   "outputs": [
    {
     "data": {
      "text/plain": [
       "아이템: [1, 1, 2]"
      ]
     },
     "execution_count": 148,
     "metadata": {},
     "output_type": "execute_result"
    }
   ],
   "source": [
    "ins + 1 + 1 + 2 "
   ]
  },
  {
   "cell_type": "code",
   "execution_count": 149,
   "id": "d3ba141e-600f-4f2c-afa7-58f9bd8fc397",
   "metadata": {
    "tags": []
   },
   "outputs": [
    {
     "data": {
      "text/plain": [
       "아이템: [1, 1, 2, 2, 2, 2]"
      ]
     },
     "execution_count": 149,
     "metadata": {},
     "output_type": "execute_result"
    }
   ],
   "source": [
    "ins + 2 + 2 + 2 "
   ]
  },
  {
   "cell_type": "code",
   "execution_count": 150,
   "id": "54cb90db-2d2e-461b-a5d9-54a959022db2",
   "metadata": {
    "tags": []
   },
   "outputs": [
    {
     "data": {
      "text/plain": [
       "아이템: [1, 1, 2, 2, 2, 2, 2, 2, 2, 4]"
      ]
     },
     "execution_count": 150,
     "metadata": {},
     "output_type": "execute_result"
    }
   ],
   "source": [
    "ins + 2 + 2 + 2 + 4 "
   ]
  },
  {
   "cell_type": "code",
   "execution_count": 151,
   "id": "94aeccbf-4b10-4de7-b75c-0c7d1a7efda6",
   "metadata": {
    "tags": []
   },
   "outputs": [
    {
     "data": {
      "text/plain": [
       "{1: 2, 2: 7, 4: 1}"
      ]
     },
     "execution_count": 151,
     "metadata": {},
     "output_type": "execute_result"
    }
   ],
   "source": [
    "ins.freq()"
   ]
  },
  {
   "cell_type": "markdown",
   "id": "3dea77a8-f2c4-4cd6-aa98-e10fab90e52f",
   "metadata": {},
   "source": [
    "`#`"
   ]
  },
  {
   "cell_type": "markdown",
   "id": "99ccfc7a-578a-4f45-97dc-a77872d783a7",
   "metadata": {},
   "source": [
    "# 3. -- 40점"
   ]
  },
  {
   "cell_type": "markdown",
   "id": "29ed7225-2361-4128-840d-c289a4b1912c",
   "metadata": {},
   "source": [
    "아래와 같은 기능을 하도록 `Quiz` 클래스를 만들어라. "
   ]
  },
  {
   "cell_type": "markdown",
   "id": "513f0084-61bf-42e6-a419-5cfdbb35163f",
   "metadata": {},
   "source": [
    "`# 예시`"
   ]
  },
  {
   "cell_type": "code",
   "execution_count": 86,
   "id": "70d5ebb7-9ce4-4ba0-bca4-5e0bdf08eaa4",
   "metadata": {
    "tags": []
   },
   "outputs": [],
   "source": [
    "guebin = Quiz()\n",
    "daho = Quiz()"
   ]
  },
  {
   "cell_type": "code",
   "execution_count": 87,
   "id": "31c19307-9867-45c6-9bfb-1cddd07b224c",
   "metadata": {
    "tags": []
   },
   "outputs": [
    {
     "data": {
      "text/plain": [
       "퀴즈1: 10"
      ]
     },
     "execution_count": 87,
     "metadata": {},
     "output_type": "execute_result"
    }
   ],
   "source": [
    "guebin.save_score(10)\n",
    "guebin"
   ]
  },
  {
   "cell_type": "code",
   "execution_count": 88,
   "id": "1f6d51c4-cea5-40fe-836e-3688fb70f4df",
   "metadata": {
    "tags": []
   },
   "outputs": [
    {
     "data": {
      "text/plain": [
       "퀴즈1: 8"
      ]
     },
     "execution_count": 88,
     "metadata": {},
     "output_type": "execute_result"
    }
   ],
   "source": [
    "daho.save_score(8)\n",
    "daho"
   ]
  },
  {
   "cell_type": "code",
   "execution_count": 89,
   "id": "6170ab7e-55df-4cc1-812b-ab5ab16a0e28",
   "metadata": {
    "tags": []
   },
   "outputs": [
    {
     "data": {
      "text/plain": [
       "(False, True)"
      ]
     },
     "execution_count": 89,
     "metadata": {},
     "output_type": "execute_result"
    }
   ],
   "source": [
    "guebin == daho, guebin > daho # 퀴즈의 총합비교"
   ]
  },
  {
   "cell_type": "code",
   "execution_count": 90,
   "id": "c3a082b7-c897-41ca-bf3b-60a0555933a6",
   "metadata": {
    "tags": []
   },
   "outputs": [
    {
     "data": {
      "text/plain": [
       "퀴즈1: 10\n",
       "퀴즈2: 8"
      ]
     },
     "execution_count": 90,
     "metadata": {},
     "output_type": "execute_result"
    }
   ],
   "source": [
    "guebin.save_score(8)\n",
    "guebin"
   ]
  },
  {
   "cell_type": "code",
   "execution_count": 91,
   "id": "17b664b7-a216-4204-b0e6-8e2c036b8400",
   "metadata": {
    "tags": []
   },
   "outputs": [
    {
     "data": {
      "text/plain": [
       "퀴즈1: 8\n",
       "퀴즈2: 10"
      ]
     },
     "execution_count": 91,
     "metadata": {},
     "output_type": "execute_result"
    }
   ],
   "source": [
    "daho.save_score(10)\n",
    "daho"
   ]
  },
  {
   "cell_type": "code",
   "execution_count": 92,
   "id": "fd35bf16-5735-4642-953a-3025aa27fd00",
   "metadata": {
    "tags": []
   },
   "outputs": [
    {
     "data": {
      "text/plain": [
       "(True, False)"
      ]
     },
     "execution_count": 92,
     "metadata": {},
     "output_type": "execute_result"
    }
   ],
   "source": [
    "guebin == daho, guebin > daho # 퀴즈의 총합비교"
   ]
  },
  {
   "cell_type": "code",
   "execution_count": 84,
   "id": "b75ab13b-aaa1-45cc-bc2b-f9c6ad43a435",
   "metadata": {
    "tags": []
   },
   "outputs": [
    {
     "data": {
      "text/plain": [
       "(False, False)"
      ]
     },
     "execution_count": 84,
     "metadata": {},
     "output_type": "execute_result"
    }
   ],
   "source": [
    "guebin[-1] == daho[-1], guebin[-1] > daho[-1] # 최근 퀴즈점수 비교 "
   ]
  },
  {
   "cell_type": "markdown",
   "id": "aa343205-a1cc-4f1c-bdfb-ae962a072cdb",
   "metadata": {},
   "source": [
    "`#`"
   ]
  }
 ],
 "metadata": {
  "kernelspec": {
   "display_name": "Python 3 (ipykernel)",
   "language": "python",
   "name": "python3"
  },
  "language_info": {
   "codemirror_mode": {
    "name": "ipython",
    "version": 3
   },
   "file_extension": ".py",
   "mimetype": "text/x-python",
   "name": "python",
   "nbconvert_exporter": "python",
   "pygments_lexer": "ipython3",
   "version": "3.10.13"
  }
 },
 "nbformat": 4,
 "nbformat_minor": 5
}
