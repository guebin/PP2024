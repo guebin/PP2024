{
 "cells": [
  {
   "cell_type": "raw",
   "id": "fbd238bd-c515-41b7-9d2d-c8d84a913e13",
   "metadata": {
    "id": "87b5cded-346b-4915-acf5-b5ec93a5207d"
   },
   "source": [
    "---\n",
    "title: \"11wk-2: 클래스 (1)\"\n",
    "author: \"최규빈\"\n",
    "date: \"05/17/2024\"\n",
    "draft: false\n",
    "---"
   ]
  },
  {
   "cell_type": "markdown",
   "id": "bf5d86a8-39bd-40cc-ab1a-16a6759f704e",
   "metadata": {
    "id": "e67ab8e0"
   },
   "source": [
    "<a href=\"https://colab.research.google.com/github/guebin/PP2024/blob/main/posts/11wk-2.ipynb\"><img src=\"https://colab.research.google.com/assets/colab-badge.svg\" style=\"text-align: left\"></a>"
   ]
  },
  {
   "cell_type": "markdown",
   "id": "2de9bed5-6d18-49eb-994f-ad70fef0c4ab",
   "metadata": {},
   "source": [
    "# 1. 강의영상 "
   ]
  },
  {
   "cell_type": "markdown",
   "id": "5434ae71-56e7-4a80-a0e1-e25edc412b0b",
   "metadata": {
    "tags": []
   },
   "source": [
    "{{<video https://youtu.be/playlist?list=PLQqh36zP38-xKLMTjfFSp1PMSYsgSx5zd&si=v9NqSzwmAbbi3BiB >}}"
   ]
  },
  {
   "cell_type": "markdown",
   "id": "784af92c-abcf-4ee7-a597-f6c9518d1de6",
   "metadata": {},
   "source": [
    "# 2. Imports "
   ]
  },
  {
   "cell_type": "code",
   "execution_count": 503,
   "id": "c1da9510-e3c7-4e0b-9312-3846f380ef7f",
   "metadata": {
    "tags": []
   },
   "outputs": [],
   "source": [
    "import numpy as np\n",
    "import pandas as pd\n",
    "import matplotlib.pyplot as plt\n",
    "import matplotlib as mpl\n",
    "import itertools"
   ]
  },
  {
   "cell_type": "markdown",
   "id": "732fa696-324c-421d-b08c-0c1922fd45b9",
   "metadata": {},
   "source": [
    "# 3. 밈(Meme)"
   ]
  },
  {
   "cell_type": "markdown",
   "id": "7a0e05a8-b0b8-4328-a5b2-9f481b6f443d",
   "metadata": {},
   "source": [
    "## A. 하이브 "
   ]
  },
  {
   "cell_type": "markdown",
   "id": "706675de-b8c1-46d0-8b00-465f3bb5fbbf",
   "metadata": {},
   "source": [
    "<https://imnews.imbc.com/replay/2024/nwtoday/article/6593064_36523.html> "
   ]
  },
  {
   "cell_type": "markdown",
   "id": "e461627b-7301-4ae1-8fb0-617e5ccc4174",
   "metadata": {},
   "source": [
    "## B. 하이브사태의 밈화 "
   ]
  },
  {
   "cell_type": "markdown",
   "id": "866dc118-205e-491c-8f7c-3b48f35cb53f",
   "metadata": {},
   "source": [
    "https://youtu.be/tSI7yTu7OH8?si=RTED0CNkUdAiC6K5"
   ]
  },
  {
   "cell_type": "markdown",
   "id": "01def762-47f6-46fa-b0d3-af5af07ee09b",
   "metadata": {},
   "source": [
    "## C. 참쉽죠"
   ]
  },
  {
   "cell_type": "markdown",
   "id": "600c85e8-b1b1-49d2-9c3a-0445c353352f",
   "metadata": {},
   "source": [
    "<https://www.youtube.com/shorts/W4xSOV96ing>"
   ]
  },
  {
   "cell_type": "markdown",
   "id": "6c543d56-07f3-4031-a016-4faab3a89a04",
   "metadata": {},
   "source": [
    "## D. 밈이란? 밈과 인터넷 밈의 차이 "
   ]
  },
  {
   "cell_type": "markdown",
   "id": "3e0cec44-6001-4451-aed8-1a2d100e0e7e",
   "metadata": {},
   "source": [
    "- 레포트용지도 밈"
   ]
  },
  {
   "cell_type": "markdown",
   "id": "9555ebcd-3848-44d8-befe-d882135f981d",
   "metadata": {},
   "source": [
    "# 4. 클래스"
   ]
  },
  {
   "cell_type": "markdown",
   "id": "981964ba-599a-4774-a052-7ee7af6bcf24",
   "metadata": {},
   "source": [
    "## A. 클래스란? (다른교재 설명)"
   ]
  },
  {
   "cell_type": "markdown",
   "id": "e2bd40e8-51f0-45f0-bf4f-a4f5f420f33a",
   "metadata": {},
   "source": [
    "`-` 클래스의 정의\n",
    "\n",
    "- 많은 교재에서 정의를 회피한다.\n",
    "- 대신에 비유적으로 설명하거나 다른 대상을 가져와서 설명한다."
   ]
  },
  {
   "cell_type": "markdown",
   "id": "3fc4a4a9-3b7f-4965-995d-e50ccab01399",
   "metadata": {},
   "source": [
    "`-` 클래스에 대한 비유적 설명 (implicit definition)\n",
    "\n",
    "- [점프투파이썬](https://wikidocs.net/book/1): 클래스는 과자틀과 비슷하다. 클래스란 똑같은 무엇인가를 계속 만들어 낼 수도 있는 설계도면이고 객체란 클래스로 만든 피조물을 뜻한다.\n",
    "\n",
    "- [위키피디아](https://en.wikipedia.org/wiki/Class_(computer_programming)): In object-oriented programming, a class is an extensible program-code-template for creating objects, providing initial valuesfor state (member variables) and implementations of behavior (member functions or methods). // 객체 지향 프로그래밍에서 클래스는 상태(멤버 변수) 및 동작 구현(멤버 함수 또는 메서드)에 대한 초기 값을 제공하는 객체 생성을 위한 확장 가능한 프로그램 코드 템플릿입니다.\n",
    "\n",
    "- [TCP스쿨](http://www.tcpschool.com/java/java_class_intro): 클래스(class)란 객체를 정의하는 틀 또는 설계도와 같은 의미로 사용\n",
    "\n",
    "- [티스토리 블로그](https://javacpro.tistory.com/29): 학생 클래스..?\n",
    "\n",
    "- 기타 서적들.. "
   ]
  },
  {
   "cell_type": "markdown",
   "id": "70763689-2c9a-4db9-a934-c50f070df7f7",
   "metadata": {},
   "source": [
    "## B. 클래스란? (제 생각)"
   ]
  },
  {
   "cell_type": "markdown",
   "id": "87aab065-c5a9-467c-b7a1-2df06eb8bc10",
   "metadata": {},
   "source": [
    "`-` **클래스에 대한 명시적 정의 (책에 나온것 아니고 제 생각입니다!!)**: 클래스는 **복제**, **변형**, **확산**을 용이하게 하기 위해 만들어진 프로그램의 코드의 단위(**extensible program-code-template**)이다. 즉 밈이다."
   ]
  },
  {
   "cell_type": "markdown",
   "id": "d6d40ac7-7008-4707-a03a-9ac655959a5c",
   "metadata": {},
   "source": [
    "`-` 생각해보면 클래스를 만들고 사용하는 과정이 인터넷에서 밈을 만들고 노는것과 닮아 있다.\n",
    "\n",
    "| 단계                              | 인터넷밈                                                                                                                      | 클래스                                                                                                                                                     | 레포트표지                                                                                                                                               |\n",
    "|:-----------------|:-----------------|:-----------------|:-----------------|\n",
    "| 1단계: 구상                       | $\\bullet$ 이거 재미있다. <br/> $\\bullet$ 밈화하자.                                                                            | $\\bullet$ 이 코드 반복해서 자주 쓸 것 같다. <br/> $\\bullet$ 이 코드를 쉽게 찍어내는 (복사할 수 있는) 클래스를 만들자                                       | $\\bullet$ 레포트 표지를 자주 만들 것 같음 <br/> $\\bullet$ 양식파일을 만들까?                                                                             |\n",
    "| 2단계: 틀생성                     | $\\bullet$ “밈틀”: 복사하고 싶은 속성을 추려 밈을 생산하기에 유리한 틀을 만듬                                                  | $\\bullet$ 클래스의 선언                                                                                                                                    | $\\bullet$ REPORT_2023_최규빈.hwp 양식파일을 생성                                                                                                         |\n",
    "| 3단계: 틀 $\\to$ 복제              | $\\bullet$ 밈화: “밈틀”에서 다양한 밈을 만들고 놈                                                                              | $\\bullet$ 인스턴스화: 클래스에서 인스턴스를 생산                                                                                                           | $\\bullet$ 레포트 양식표지에서 다양한 레포트를 냄                                                                                                         |\n",
    "| 4단계: 틀 $\\to$ 틀변경 $\\to$ 복제 | $\\bullet$ 생각해보니까 초기 밈틀은 시시함. <br/> $\\bullet$ 초기 밈틀을 수정해 새로운 밈틀을 만들고 더 재미있는 밈을 만들고 놈 | $\\bullet$ 초기클래스와 비슷한 클래스를 선언할 일이 생김 <br/> $\\bullet$ 상속,오버라이딩: 초기클래스를 상속받아 클래스를 새롭게 정의하고 인스턴스를 재 생산 | $\\bullet$ 공모전에 참가하여 결과보고서를 작성할 일이 생김. <br/> $\\bullet$ REPORT_2023_최규빈.hwp 를 적당히 변형하여 수정된 틀을 만들고 결과보고서 생산. |"
   ]
  },
  {
   "cell_type": "markdown",
   "id": "4aca169c-c47d-46b3-a1bd-a07236926796",
   "metadata": {},
   "source": [
    "# 5. 클래스의 선언"
   ]
  },
  {
   "cell_type": "code",
   "execution_count": 3,
   "id": "ef1e5fe7-f788-4c13-8e06-8b31c0b40c71",
   "metadata": {
    "tags": []
   },
   "outputs": [
    {
     "name": "stdout",
     "output_type": "stream",
     "text": [
      "01wk-1.ipynb  03wk-2.ipynb  07wk-1.ipynb  10wk-1.ipynb\t    _metadata.yml\n",
      "01wk-2.ipynb  04wk-1.ipynb  07wk-2.ipynb  10wk-2.ipynb\t    easy.jpeg\n",
      "02wk-1.ipynb  04wk-2.ipynb  08wk-1.ipynb  11wk-2.ipynb\t    ref.bib\n",
      "02wk-2.ipynb  05wk-2.ipynb  08wk-2.ipynb  2wk.csv\t    supp1.ipynb\n",
      "03wk-1.ipynb  06wk-2.ipynb  09wk-2.ipynb  QuizSample.ipynb\n"
     ]
    }
   ],
   "source": []
  },
  {
   "cell_type": "code",
   "execution_count": null,
   "id": "3b888786-a4df-4c4f-aa30-079bef518430",
   "metadata": {},
   "outputs": [],
   "source": []
  }
 ],
 "metadata": {
  "kernelspec": {
   "display_name": "Python 3 (ipykernel)",
   "language": "python",
   "name": "python3"
  },
  "language_info": {
   "codemirror_mode": {
    "name": "ipython",
    "version": 3
   },
   "file_extension": ".py",
   "mimetype": "text/x-python",
   "name": "python",
   "nbconvert_exporter": "python",
   "pygments_lexer": "ipython3",
   "version": "3.10.13"
  }
 },
 "nbformat": 4,
 "nbformat_minor": 5
}
