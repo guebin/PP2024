{
 "cells": [
  {
   "cell_type": "raw",
   "id": "646bb616-b8df-4f72-83fe-30ae19ba39d0",
   "metadata": {
    "id": "87b5cded-346b-4915-acf5-b5ec93a5207d"
   },
   "source": [
    "---\n",
    "title: \"01wk-1: 강의소개\"\n",
    "author: \"최규빈\"\n",
    "date: \"03/06/2024\"\n",
    "---"
   ]
  },
  {
   "cell_type": "markdown",
   "id": "3f7fcf85-b9c1-4d11-a6df-685030590fee",
   "metadata": {
    "id": "e67ab8e0"
   },
   "source": [
    "<a href=\"https://colab.research.google.com/github/guebin/PP2024/blob/main/posts/01wk-1.ipynb\"><img src=\"https://colab.research.google.com/assets/colab-badge.svg\" style=\"text-align: left\"></a>"
   ]
  },
  {
   "cell_type": "markdown",
   "id": "c1a4a9c9-ab7e-4698-bea3-10ee02b47cf6",
   "metadata": {},
   "source": [
    "# 1. 전북대 + 충남대 \n",
    "\n",
    "`-` 전북대는 전북대학생끼리 성적평가. \n",
    "\n",
    "`-` 충남대는 충남대학생끼리 성적평가.\n",
    "\n",
    "`-` 충남대 학생의 경우 교양과목임을 감안하여 채점할 예정임. "
   ]
  },
  {
   "cell_type": "markdown",
   "id": "49356ba4-acfc-428f-a5a4-5037150dec94",
   "metadata": {},
   "source": [
    "# 2. 플립러닝 \n",
    "\n",
    "`-` 수업: 매주 금요일 오후까지 강의홈페이지에 업로드 될 예정.\n",
    "\n",
    "- 수업은 영상업로드 방식 (각자 수강)\n",
    "- 영상시청에 대한 별도의 출석체크는 없음. \n",
    "\n",
    "`-` 퀴즈: 매주 수요일 수업시간에 퀴즈를 볼 예정임. \n",
    "\n",
    "- 시험은 오픈북이며 구글검색, 강의노트 참고등을 허용함. \n",
    "- ChatGPT는 허용하지 않음."
   ]
  },
  {
   "cell_type": "markdown",
   "id": "a8ceb573-31dc-4ea1-acfe-f16c3948b1b0",
   "metadata": {},
   "source": [
    "# 3. 성적처리 방식\n",
    "\n",
    "`-` 출석 10\\%, 퀴즈 50\\%, 중간 20\\%, 기말 20\\% \n",
    "\n",
    "- 출석은 매주 수요일 퀴즈시간에 체크할 예정임. (따라서 퀴즈를 보면 출석점수는 자동으로 인정)\n",
    "- 사실상 퀴즈의 점수비중이 60\\% "
   ]
  }
 ],
 "metadata": {
  "kernelspec": {
   "display_name": "Python 3 (ipykernel)",
   "language": "python",
   "name": "python3"
  },
  "language_info": {
   "codemirror_mode": {
    "name": "ipython",
    "version": 3
   },
   "file_extension": ".py",
   "mimetype": "text/x-python",
   "name": "python",
   "nbconvert_exporter": "python",
   "pygments_lexer": "ipython3",
   "version": "3.12.2"
  }
 },
 "nbformat": 4,
 "nbformat_minor": 5
}
