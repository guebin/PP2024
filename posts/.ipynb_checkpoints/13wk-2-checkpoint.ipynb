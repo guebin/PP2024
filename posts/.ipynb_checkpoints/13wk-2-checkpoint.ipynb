{
 "cells": [
  {
   "cell_type": "raw",
   "id": "e4cbe48e-2487-4ac8-a6a1-a28cca068b45",
   "metadata": {
    "id": "87b5cded-346b-4915-acf5-b5ec93a5207d"
   },
   "source": [
    "---\n",
    "title: \"13wk-2: 클래스 (3)\"\n",
    "author: \"최규빈\"\n",
    "date: \"05/31/2024\"\n",
    "draft: true\n",
    "---"
   ]
  },
  {
   "cell_type": "markdown",
   "id": "07b00e23-7980-4e27-a834-b136a8741b39",
   "metadata": {
    "tags": []
   },
   "source": [
    "# 1. 강의영상 "
   ]
  },
  {
   "cell_type": "code",
   "execution_count": 1,
   "id": "674f88ef-2f36-45f6-9031-c590869dc955",
   "metadata": {
    "tags": []
   },
   "outputs": [],
   "source": [
    "#{{<video https://youtu.be/playlist?list=PLQqh36zP38-wMY2MS-ZGKFXqVgbTeAzNQ&si=iojT6Aif9fwoOyUN >}}"
   ]
  },
  {
   "cell_type": "markdown",
   "id": "d90c9d5b-cfae-4007-92d0-4bac4edad9a1",
   "metadata": {
    "tags": []
   },
   "source": [
    "# 2. Imports "
   ]
  },
  {
   "cell_type": "code",
   "execution_count": 540,
   "id": "24fc2d12-d10c-4bcf-8ad1-ea13dae74312",
   "metadata": {
    "id": "6835093b-64a4-467c-9f96-ad622c5bef2c",
    "tags": []
   },
   "outputs": [],
   "source": [
    "import numpy as np\n",
    "import matplotlib.pyplot as plt\n",
    "import pandas as pd"
   ]
  },
  {
   "cell_type": "markdown",
   "id": "51d8aab2-4813-42c8-9bee-af9076c6c7ec",
   "metadata": {
    "tags": []
   },
   "source": [
    "# 3. 오브젝트"
   ]
  },
  {
   "cell_type": "markdown",
   "id": "e7d27832-5756-4058-b2fc-e4060d5b74ae",
   "metadata": {
    "id": "d1aec639-a66b-4dc4-98ec-4161f60f349b"
   },
   "source": [
    "> \"파이썬의 모든 것은 오브젝트이다. 값도, 함수도, 인스턴스도, 클래스도 오브젝트이다.\" <-- 살짝 과장이지만 일단 명언처럼 외우세여"
   ]
  },
  {
   "cell_type": "markdown",
   "id": "c263f358-9c3f-4dfb-9e6d-90587c4ea897",
   "metadata": {
    "tags": []
   },
   "source": [
    "## A. 오브젝트 "
   ]
  },
  {
   "cell_type": "markdown",
   "id": "61cbce56-dc2b-4c4e-87e8-484276b5b586",
   "metadata": {
    "tags": []
   },
   "source": [
    "> 오브젝트 특징: `id(오브젝트)` 가 동작함 "
   ]
  },
  {
   "cell_type": "code",
   "execution_count": 596,
   "id": "71d5d2b1-c600-4495-a53a-0a0ea6e7b031",
   "metadata": {
    "tags": []
   },
   "outputs": [
    {
     "data": {
      "text/plain": [
       "139673054200048"
      ]
     },
     "execution_count": 596,
     "metadata": {},
     "output_type": "execute_result"
    }
   ],
   "source": [
    "a = 1 \n",
    "id(a)"
   ]
  },
  {
   "cell_type": "code",
   "execution_count": 597,
   "id": "d9f54534-ebf4-47d4-ad08-9288a01a58d3",
   "metadata": {
    "tags": []
   },
   "outputs": [
    {
     "data": {
      "text/plain": [
       "139671492666720"
      ]
     },
     "execution_count": 597,
     "metadata": {},
     "output_type": "execute_result"
    }
   ],
   "source": [
    "f = lambda x: x\n",
    "id(f)"
   ]
  },
  {
   "cell_type": "code",
   "execution_count": 599,
   "id": "bafeefaf-19bf-4b6e-aeea-ddc0a77c19ae",
   "metadata": {
    "tags": []
   },
   "outputs": [
    {
     "data": {
      "text/plain": [
       "139671501410208"
      ]
     },
     "execution_count": 599,
     "metadata": {},
     "output_type": "execute_result"
    }
   ],
   "source": [
    "a = RPS(['가위'])\n",
    "id(a)"
   ]
  },
  {
   "cell_type": "code",
   "execution_count": 600,
   "id": "2f79dd88-3300-4343-b55e-a6670c9e8d38",
   "metadata": {
    "tags": []
   },
   "outputs": [
    {
     "data": {
      "text/plain": [
       "48527600"
      ]
     },
     "execution_count": 600,
     "metadata": {},
     "output_type": "execute_result"
    }
   ],
   "source": [
    "id(RPS)"
   ]
  },
  {
   "cell_type": "code",
   "execution_count": 601,
   "id": "27259307-3464-4098-bb2e-0b27b36975a0",
   "metadata": {
    "tags": []
   },
   "outputs": [
    {
     "data": {
      "text/plain": [
       "7629888"
      ]
     },
     "execution_count": 601,
     "metadata": {},
     "output_type": "execute_result"
    }
   ],
   "source": [
    "id(list)"
   ]
  },
  {
   "cell_type": "code",
   "execution_count": 604,
   "id": "2f5bc44e-54ff-4505-a529-89bb1dede09e",
   "metadata": {
    "tags": []
   },
   "outputs": [
    {
     "data": {
      "text/plain": [
       "7611936"
      ]
     },
     "execution_count": 604,
     "metadata": {},
     "output_type": "execute_result"
    }
   ],
   "source": [
    "id(range)"
   ]
  },
  {
   "cell_type": "code",
   "execution_count": 605,
   "id": "84bba4d3-c18d-40a9-8328-5016e596b216",
   "metadata": {
    "tags": []
   },
   "outputs": [
    {
     "data": {
      "text/plain": [
       "139673054827024"
      ]
     },
     "execution_count": 605,
     "metadata": {},
     "output_type": "execute_result"
    }
   ],
   "source": [
    "id(len)"
   ]
  },
  {
   "cell_type": "code",
   "execution_count": 607,
   "id": "9a527bdb-8e1c-4e82-8e5d-9a147f8ce89e",
   "metadata": {
    "tags": []
   },
   "outputs": [
    {
     "data": {
      "text/plain": [
       "139673054826544"
      ]
     },
     "execution_count": 607,
     "metadata": {},
     "output_type": "execute_result"
    }
   ],
   "source": [
    "id(id)"
   ]
  },
  {
   "cell_type": "markdown",
   "id": "b91ce720-4701-4c21-928e-ee9e128d4e72",
   "metadata": {},
   "source": [
    "`-` 모듈 "
   ]
  },
  {
   "cell_type": "code",
   "execution_count": 618,
   "id": "09998934-b970-46d5-8166-1ff97aab16c8",
   "metadata": {
    "tags": []
   },
   "outputs": [
    {
     "data": {
      "text/plain": [
       "139672692083184"
      ]
     },
     "execution_count": 618,
     "metadata": {},
     "output_type": "execute_result"
    }
   ],
   "source": [
    "id(np)"
   ]
  },
  {
   "cell_type": "code",
   "execution_count": 621,
   "id": "4ed71084-e712-4ee7-95bf-f8c5c32f1e59",
   "metadata": {
    "tags": []
   },
   "outputs": [
    {
     "data": {
      "text/plain": [
       "139672945002192"
      ]
     },
     "execution_count": 621,
     "metadata": {},
     "output_type": "execute_result"
    }
   ],
   "source": [
    "id(pd)"
   ]
  },
  {
   "cell_type": "markdown",
   "id": "e761955e-c0b9-4998-b056-77fa4f6c6994",
   "metadata": {
    "tags": []
   },
   "source": [
    "## B. 오브젝트가 아님 "
   ]
  },
  {
   "cell_type": "markdown",
   "id": "96b47a4f-e87b-4e73-9ad1-5be3aa7e2f55",
   "metadata": {},
   "source": [
    "`-` 구문"
   ]
  },
  {
   "cell_type": "code",
   "execution_count": 630,
   "id": "8e00a512-394f-4f07-9aa7-66c69ef6e05c",
   "metadata": {
    "tags": []
   },
   "outputs": [
    {
     "ename": "SyntaxError",
     "evalue": "invalid syntax (3978401784.py, line 1)",
     "output_type": "error",
     "traceback": [
      "\u001b[0;36m  Cell \u001b[0;32mIn[630], line 1\u001b[0;36m\u001b[0m\n\u001b[0;31m    id(lambda)\u001b[0m\n\u001b[0m             ^\u001b[0m\n\u001b[0;31mSyntaxError\u001b[0m\u001b[0;31m:\u001b[0m invalid syntax\n"
     ]
    }
   ],
   "source": [
    "id(lambda)"
   ]
  },
  {
   "cell_type": "code",
   "execution_count": 631,
   "id": "be8b3eba-34f8-48f6-a139-3fe03263327f",
   "metadata": {
    "tags": []
   },
   "outputs": [
    {
     "ename": "SyntaxError",
     "evalue": "invalid syntax (839197359.py, line 1)",
     "output_type": "error",
     "traceback": [
      "\u001b[0;36m  Cell \u001b[0;32mIn[631], line 1\u001b[0;36m\u001b[0m\n\u001b[0;31m    id(def)\u001b[0m\n\u001b[0m       ^\u001b[0m\n\u001b[0;31mSyntaxError\u001b[0m\u001b[0;31m:\u001b[0m invalid syntax\n"
     ]
    }
   ],
   "source": [
    "id(def)"
   ]
  },
  {
   "cell_type": "markdown",
   "id": "7493f281-f389-42d9-be2d-04a0a7866469",
   "metadata": {},
   "source": [
    "`-` 제어구조"
   ]
  },
  {
   "cell_type": "code",
   "execution_count": 623,
   "id": "cb58cd10-c58b-4da7-b853-8c60fa041a1f",
   "metadata": {
    "tags": []
   },
   "outputs": [
    {
     "ename": "SyntaxError",
     "evalue": "invalid syntax (1172573452.py, line 1)",
     "output_type": "error",
     "traceback": [
      "\u001b[0;36m  Cell \u001b[0;32mIn[623], line 1\u001b[0;36m\u001b[0m\n\u001b[0;31m    id(for)\u001b[0m\n\u001b[0m       ^\u001b[0m\n\u001b[0;31mSyntaxError\u001b[0m\u001b[0;31m:\u001b[0m invalid syntax\n"
     ]
    }
   ],
   "source": [
    "id(for)"
   ]
  },
  {
   "cell_type": "code",
   "execution_count": 624,
   "id": "2b1740d7-d3d6-4c0b-b21e-c480d46859ba",
   "metadata": {
    "tags": []
   },
   "outputs": [
    {
     "ename": "SyntaxError",
     "evalue": "invalid syntax (2846441332.py, line 1)",
     "output_type": "error",
     "traceback": [
      "\u001b[0;36m  Cell \u001b[0;32mIn[624], line 1\u001b[0;36m\u001b[0m\n\u001b[0;31m    id(if)\u001b[0m\n\u001b[0m       ^\u001b[0m\n\u001b[0;31mSyntaxError\u001b[0m\u001b[0;31m:\u001b[0m invalid syntax\n"
     ]
    }
   ],
   "source": [
    "id(if)"
   ]
  },
  {
   "cell_type": "code",
   "execution_count": 632,
   "id": "9e3361aa-5a76-4033-a21d-f6ff540b27de",
   "metadata": {
    "tags": []
   },
   "outputs": [
    {
     "ename": "SyntaxError",
     "evalue": "invalid syntax (2390637289.py, line 1)",
     "output_type": "error",
     "traceback": [
      "\u001b[0;36m  Cell \u001b[0;32mIn[632], line 1\u001b[0;36m\u001b[0m\n\u001b[0;31m    id(while)\u001b[0m\n\u001b[0m       ^\u001b[0m\n\u001b[0;31mSyntaxError\u001b[0m\u001b[0;31m:\u001b[0m invalid syntax\n"
     ]
    }
   ],
   "source": [
    "id(while)"
   ]
  },
  {
   "cell_type": "markdown",
   "id": "cbe918b4-2631-464e-b9d1-94e56b4ae89d",
   "metadata": {
    "id": "430b3a70-9e73-4ca7-8599-7ef65b89e8b9"
   },
   "source": [
    "# 4. `__call__` $(\\star\\star\\star)$"
   ]
  },
  {
   "cell_type": "markdown",
   "id": "29b87258-b8be-4b2a-895a-61cccc459bd6",
   "metadata": {
    "id": "45e6dabe-8660-419a-97dd-350198669b86"
   },
   "source": [
    "## A. 함수도 인스턴스다"
   ]
  },
  {
   "cell_type": "markdown",
   "id": "57334aea-f5df-4d91-be29-d1179e21025d",
   "metadata": {
    "id": "78db9acc-fcb6-490c-9bd7-4842e5de4c85"
   },
   "source": [
    "`-` 다시 함수를 공부해봅시다."
   ]
  },
  {
   "cell_type": "code",
   "execution_count": 489,
   "id": "3f64b0c1-c0c9-4de2-960d-027c485fbb96",
   "metadata": {
    "id": "9d03d636-825e-4c2f-8329-749557ec3b8d",
    "tags": []
   },
   "outputs": [],
   "source": [
    "def f(x):\n",
    "    return x+1"
   ]
  },
  {
   "cell_type": "code",
   "execution_count": 490,
   "id": "cf6da91e-bd1c-4560-9a54-ad3e7b0f2d59",
   "metadata": {
    "id": "538788d7-05cd-4c34-97ea-b14745c6ed32",
    "outputId": "bb5571fa-199d-4a92-8c63-243ac84cd9f4",
    "tags": []
   },
   "outputs": [
    {
     "data": {
      "text/plain": [
       "4"
      ]
     },
     "execution_count": 490,
     "metadata": {},
     "output_type": "execute_result"
    }
   ],
   "source": [
    "f(3)"
   ]
  },
  {
   "cell_type": "markdown",
   "id": "362557c5-ce74-42ee-85f5-4846d610db0d",
   "metadata": {
    "id": "a593ca28-09e8-4f63-a38b-ffdedc880e64"
   },
   "source": [
    "`-` 함수의 사용방법?\n",
    "\n",
    "- 입력으로 변수 x를 받음 = 입력으로 인스턴스 x를 받음.\n",
    "- 출력으로 변수 x+1을 리턴 = 출력으로 인스턴스 x+1을 리턴."
   ]
  },
  {
   "cell_type": "markdown",
   "id": "d35c7f1b-e333-425d-b5f5-3462a1e331c2",
   "metadata": {
    "id": "c1e2a7bc-36d9-45f2-8388-03c5cd5b10dc"
   },
   "source": [
    "`-` 사실1: 파이썬에서 함수는 인스턴스를 입력으로 받고 인스턴스를 출력한다."
   ]
  },
  {
   "cell_type": "markdown",
   "id": "9d7024f1-3f70-477a-b643-9a2426ac0233",
   "metadata": {
    "id": "06b774c2-3214-4a32-bb59-375e02f45e58"
   },
   "source": [
    "`-` 함수의 자료형?"
   ]
  },
  {
   "cell_type": "code",
   "execution_count": 491,
   "id": "c4d65dd9-ebe6-470b-861a-89ed38f747d5",
   "metadata": {
    "id": "edaf23ef-e8aa-4d8a-8d23-151e7276d708",
    "outputId": "66ec6f01-705f-4938-d6fa-0aa1481852af",
    "tags": []
   },
   "outputs": [
    {
     "data": {
      "text/plain": [
       "\u001b[0;31mSignature:\u001b[0m \u001b[0mf\u001b[0m\u001b[0;34m(\u001b[0m\u001b[0mx\u001b[0m\u001b[0;34m)\u001b[0m\u001b[0;34m\u001b[0m\u001b[0;34m\u001b[0m\u001b[0m\n",
       "\u001b[0;31mDocstring:\u001b[0m <no docstring>\n",
       "\u001b[0;31mFile:\u001b[0m      /tmp/ipykernel_789918/1304018138.py\n",
       "\u001b[0;31mType:\u001b[0m      function"
      ]
     },
     "metadata": {},
     "output_type": "display_data"
    }
   ],
   "source": [
    "?f"
   ]
  },
  {
   "cell_type": "markdown",
   "id": "ae2398da-be55-4004-aca9-69246c0dae0f",
   "metadata": {
    "id": "d0fd9324-7cb6-4f71-b2f4-51b08789b0fd"
   },
   "source": [
    "- type이 function이다.\n",
    "- f는 function class의 instance이다.\n",
    "- 결국 f 역시 하나의 오브젝트에 불과하다."
   ]
  },
  {
   "cell_type": "markdown",
   "id": "c6c24baf-6367-46b5-a98d-7945dceaae97",
   "metadata": {
    "id": "3ab7d4d2-87f0-4e17-9f4b-301a82372e4a"
   },
   "source": [
    "`-` 사실2: 함수도 결국 인스턴스이다. -> 함수의 입력으로 함수를 쓸 수도 있고 함수의 출력으로 함수가 나올 수도 있다."
   ]
  },
  {
   "cell_type": "markdown",
   "id": "095ea7f7-054f-453f-90c5-d09d771d00f8",
   "metadata": {
    "id": "aab4803c-0648-4e3f-b313-7309ea02432d"
   },
   "source": [
    "## B. 함수사용 고급"
   ]
  },
  {
   "cell_type": "markdown",
   "id": "0d955858-ed66-45d5-8956-a99bce364647",
   "metadata": {
    "id": "4d400d00-280d-429b-aabf-904e18ed6b8c"
   },
   "source": [
    "(예제1) 숫자입력, 함수출력"
   ]
  },
  {
   "cell_type": "code",
   "execution_count": 492,
   "id": "6d6c9794-5bd1-4af3-9f13-6fbcfd25988c",
   "metadata": {
    "id": "86c3359b-a335-4bc7-8305-3b2e3b6a2d86",
    "tags": []
   },
   "outputs": [],
   "source": [
    "def f(a):\n",
    "    def _f(x):\n",
    "        return (x-a)**2\n",
    "    return _f"
   ]
  },
  {
   "cell_type": "code",
   "execution_count": 493,
   "id": "95503ff3-aa03-41d7-8381-30fafe5f5791",
   "metadata": {
    "id": "061f6d6d-c2f9-4d7a-8d0d-bb4c1713b876",
    "tags": []
   },
   "outputs": [],
   "source": [
    "g=f(10) # g(x)=(x-10)**2"
   ]
  },
  {
   "cell_type": "code",
   "execution_count": 494,
   "id": "0dfa3ec2-ada7-4a10-b20a-ac3860ef8d6e",
   "metadata": {
    "id": "9a907484-d7c5-4034-bc6b-df889aab1ed3",
    "outputId": "46ed08be-f84b-4a71-866f-3df145404aba",
    "tags": []
   },
   "outputs": [
    {
     "data": {
      "text/plain": [
       "64"
      ]
     },
     "execution_count": 494,
     "metadata": {},
     "output_type": "execute_result"
    }
   ],
   "source": [
    "g(2) # (2-10)**2 = 64"
   ]
  },
  {
   "cell_type": "markdown",
   "id": "6277e554-6108-48e2-8c68-1461be1c07bd",
   "metadata": {
    "id": "718bbf0b-b493-4beb-a0b8-25c7a8812dcb"
   },
   "source": [
    "- 해석: $f(a)$는 $a$를 입력으로 받고 $g(x)=(x-a)^2$라는 함수를 리턴해주는 함수"
   ]
  },
  {
   "cell_type": "markdown",
   "id": "c4a18e9c-c106-4ced-a48f-b8c0880ee522",
   "metadata": {},
   "source": [
    "> 아니 무슨 함수를 \"값처럼\" 취급해서 리턴하네??"
   ]
  },
  {
   "cell_type": "markdown",
   "id": "b96e2dff-9f28-40bd-8815-f954f82a2c4f",
   "metadata": {
    "id": "0cebcd23-15e5-4028-9c2c-f2db8caac7ed"
   },
   "source": [
    "(예제1)의 다른표현: 익명함수 lambda"
   ]
  },
  {
   "cell_type": "code",
   "execution_count": 517,
   "id": "2fe8c45f-ef37-4fc1-88d1-c43066a9fb39",
   "metadata": {
    "id": "66a7df48-9d3e-42fd-9cac-8761f6d1212a",
    "tags": []
   },
   "outputs": [],
   "source": [
    "def f(x):\n",
    "    return x+1"
   ]
  },
  {
   "cell_type": "code",
   "execution_count": 518,
   "id": "a49e856c-f121-4b73-ba8b-e501f0f1ca7e",
   "metadata": {
    "id": "318ff6ce-b337-4cfc-9bec-10dc889bdf51",
    "tags": []
   },
   "outputs": [],
   "source": [
    "f= lambda x: x+1"
   ]
  },
  {
   "cell_type": "markdown",
   "id": "d21346eb-722c-441b-8449-e291d19404c1",
   "metadata": {
    "id": "b146724a-a7a8-4bd4-a66d-8939a2996b6a"
   },
   "source": [
    "표현1"
   ]
  },
  {
   "cell_type": "code",
   "execution_count": 519,
   "id": "f22181c3-3fe3-419a-98d2-357667e2c1e4",
   "metadata": {
    "id": "592d674c-07e6-4c08-ba1f-9aa901e8dc26",
    "tags": []
   },
   "outputs": [],
   "source": [
    "def f(a):\n",
    "    _f = lambda x: (x-a)**2 ### lambda x: (x-a)**2 가 실행되는 순간 함수오브젝트가 만들어지고 그것이 _f 로 저장됨\n",
    "    return _f"
   ]
  },
  {
   "cell_type": "code",
   "execution_count": 520,
   "id": "f8327fcb-e11f-415e-9f33-c7267c954afe",
   "metadata": {
    "id": "5d588bba-75cd-489b-a18f-801f64ab7b4d",
    "tags": []
   },
   "outputs": [],
   "source": [
    "g=f(10) # g(x)=(x-10)**2"
   ]
  },
  {
   "cell_type": "code",
   "execution_count": 521,
   "id": "a14193b9-b7c8-47d7-8bec-735395b68b96",
   "metadata": {
    "id": "15fbaf2a-b022-46f4-9202-c629a83efe1d",
    "outputId": "edfa99ae-4d3e-4ae0-cc7b-ba1090ca75b8",
    "tags": []
   },
   "outputs": [
    {
     "data": {
      "text/plain": [
       "49"
      ]
     },
     "execution_count": 521,
     "metadata": {},
     "output_type": "execute_result"
    }
   ],
   "source": [
    "g(3) # (3-10)**2 = 49"
   ]
  },
  {
   "cell_type": "markdown",
   "id": "15f6f551-e798-4fa0-968b-7bfaf942c22f",
   "metadata": {
    "id": "55019025-d354-4acf-97b4-bae51fa39f22"
   },
   "source": [
    "표현2"
   ]
  },
  {
   "cell_type": "code",
   "execution_count": 522,
   "id": "c686a528-2344-4777-b6b9-527e7c33cfe8",
   "metadata": {
    "id": "2f14809d-bcce-4380-86f0-5598eab20e24",
    "tags": []
   },
   "outputs": [],
   "source": [
    "def f(a):\n",
    "    return lambda x: (x-a)**2"
   ]
  },
  {
   "cell_type": "code",
   "execution_count": 523,
   "id": "45b26695-1f0e-4c8c-98ba-4e7995038dab",
   "metadata": {
    "id": "4ffa1e83-c055-4f35-b384-41a06a3ec068",
    "tags": []
   },
   "outputs": [],
   "source": [
    "g=f(10) # g(x)=(x-10)**2"
   ]
  },
  {
   "cell_type": "code",
   "execution_count": 524,
   "id": "218514bd-c6f9-49d1-a89c-5774e19c55bd",
   "metadata": {
    "id": "4ec2204e-c1c2-4b92-970b-d4ba9058c2db",
    "outputId": "785363c6-2d62-427a-ceb7-8389e7d88ba9",
    "tags": []
   },
   "outputs": [
    {
     "data": {
      "text/plain": [
       "49"
      ]
     },
     "execution_count": 524,
     "metadata": {},
     "output_type": "execute_result"
    }
   ],
   "source": [
    "g(3) # (3-10)**2 = 49"
   ]
  },
  {
   "cell_type": "markdown",
   "id": "47b9ac0a-acd1-4fd5-8753-8fa596e89778",
   "metadata": {
    "id": "1ddb1620-2abb-476e-b745-2131514ac7a1"
   },
   "source": [
    "(예제2) 함수입력, 숫자출력"
   ]
  },
  {
   "cell_type": "code",
   "execution_count": 531,
   "id": "ac1b983f-f9c6-4656-9e69-7069b10ac677",
   "metadata": {
    "tags": []
   },
   "outputs": [],
   "source": [
    "f = lambda x: x**2"
   ]
  },
  {
   "cell_type": "code",
   "execution_count": 532,
   "id": "2d33321f-5ea5-494c-8fd9-c009c3bcd23b",
   "metadata": {
    "id": "d03a9268-2614-4fbb-97b5-c71a77f6ebca",
    "tags": []
   },
   "outputs": [],
   "source": [
    "def d(f,x): # 함수를 입력을 받는 함수를 정의\n",
    "    h=0.000000000001\n",
    "    return (f(x+h)-f(x))/h"
   ]
  },
  {
   "cell_type": "code",
   "execution_count": 533,
   "id": "ce02f9ab-ac65-40fe-b43d-819630ba613e",
   "metadata": {
    "id": "741f03aa-92f6-4249-b303-8859429a6c75",
    "outputId": "7577b3ab-5ac3-498a-ac04-17d3ba61a994",
    "tags": []
   },
   "outputs": [
    {
     "data": {
      "text/plain": [
       "8.000711204658728"
      ]
     },
     "execution_count": 533,
     "metadata": {},
     "output_type": "execute_result"
    }
   ],
   "source": [
    "d(f,4) # f'(4) = 2*4 = 8"
   ]
  },
  {
   "cell_type": "markdown",
   "id": "6af5f169-f26d-4168-8d2b-a1b9154b5694",
   "metadata": {
    "id": "90306ccc-72a8-4954-9855-25e77a19a20b"
   },
   "source": [
    "(예제3) 함수입력, 함수출력"
   ]
  },
  {
   "cell_type": "code",
   "execution_count": 546,
   "id": "add8f381-1200-4d60-86b1-641466e47e03",
   "metadata": {
    "id": "dde6f53d-c8c5-4f76-a7be-b70f1b63084e",
    "tags": []
   },
   "outputs": [],
   "source": [
    "def f(x):\n",
    "    return x**2"
   ]
  },
  {
   "cell_type": "code",
   "execution_count": 547,
   "id": "b318f978-7c76-4500-bd36-afdd425469d9",
   "metadata": {
    "id": "bd2a874a-b00c-49c9-ad16-9d64370ae733",
    "tags": []
   },
   "outputs": [],
   "source": [
    "def derivate(f):\n",
    "    # step1: 함수오브젝트 f는 입력으로 받은상태\n",
    "    # step2: 함수오브젝트 f를 이용하여 df라는 함수를 정의\n",
    "    def df(x):\n",
    "        h=0.000000000001\n",
    "        return (f(x+h)-f(x))/h\n",
    "    # step3: 정의된 df를 리턴\n",
    "    return df"
   ]
  },
  {
   "cell_type": "code",
   "execution_count": 548,
   "id": "14d271bb-16c9-4353-a3ea-f5f6aa244b5d",
   "metadata": {
    "id": "1e68d532-5728-4554-9bd1-b3cdb066bdc9",
    "tags": []
   },
   "outputs": [],
   "source": [
    "ff = derivate(f)"
   ]
  },
  {
   "cell_type": "code",
   "execution_count": 549,
   "id": "9653ec82-8096-47fe-8d8b-ad6b1e346680",
   "metadata": {
    "id": "e35736c0-bf01-40cb-b34c-44aa996f9b72",
    "outputId": "c0946ac1-61c6-4e32-81e0-79485a00b184",
    "tags": []
   },
   "outputs": [
    {
     "data": {
      "text/plain": [
       "14.004797321831575"
      ]
     },
     "execution_count": 549,
     "metadata": {},
     "output_type": "execute_result"
    }
   ],
   "source": [
    "ff(7) # f의 도함수"
   ]
  },
  {
   "cell_type": "markdown",
   "id": "366e5b60-4922-48a7-a179-a52e27ee23f8",
   "metadata": {
    "id": "9f1b849a-11e6-489a-af64-29ba9700b258"
   },
   "source": [
    "**원래함수 시각화**"
   ]
  },
  {
   "cell_type": "code",
   "execution_count": 550,
   "id": "bebce495-6a93-4fe6-8ef1-cd85892ab508",
   "metadata": {
    "id": "36319018-a9f5-4cb0-b376-6abb7fdf50f5",
    "outputId": "edc6f136-efb4-407a-e9fb-ab22e39fec03",
    "tags": []
   },
   "outputs": [
    {
     "data": {
      "text/plain": [
       "[<matplotlib.lines.Line2D at 0x7f07d0788850>]"
      ]
     },
     "execution_count": 550,
     "metadata": {},
     "output_type": "execute_result"
    },
    {
     "data": {
      "image/png": "[encoded data removed]",
      "text/plain": [
       "<Figure size 640x480 with 1 Axes>"
      ]
     },
     "metadata": {},
     "output_type": "display_data"
    }
   ],
   "source": [
    "x = np.linspace(-1,1,100)\n",
    "plt.plot(x,f(x))"
   ]
  },
  {
   "cell_type": "markdown",
   "id": "456bf3cb-7d5f-4684-9405-a496edd299ae",
   "metadata": {
    "id": "7fa4d5f8-474e-48ce-8a1b-8992fdedf06e"
   },
   "source": [
    "**도함수 시각화**"
   ]
  },
  {
   "cell_type": "code",
   "execution_count": 551,
   "id": "ebdf5262-355d-4cb9-84e5-67362f7004f3",
   "metadata": {
    "id": "cd3de78e-4e12-43d1-94d1-b88140718a28",
    "outputId": "b037aca1-140b-487e-cfbc-1384caf8568f",
    "tags": []
   },
   "outputs": [
    {
     "data": {
      "text/plain": [
       "<matplotlib.legend.Legend at 0x7f07ce5f0190>"
      ]
     },
     "execution_count": 551,
     "metadata": {},
     "output_type": "execute_result"
    },
    {
     "data": {
      "image/png": "[encoded data removed]",
      "text/plain": [
       "<Figure size 640x480 with 1 Axes>"
      ]
     },
     "metadata": {},
     "output_type": "display_data"
    }
   ],
   "source": [
    "x = np.linspace(-1,1,100)\n",
    "plt.plot(x,f(x),label=r'$f(x)=x^2$')\n",
    "plt.plot(x,ff(x),label=r'$ff(x)=2x$')\n",
    "plt.legend()"
   ]
  },
  {
   "cell_type": "markdown",
   "id": "d68fd9bc-fc0f-43df-82d3-de3ef18cbe3e",
   "metadata": {
    "id": "dc53267f-bb95-4f15-ba5f-4ce91f8ae93e"
   },
   "source": [
    "(예제3)의 다른표현"
   ]
  },
  {
   "cell_type": "code",
   "execution_count": 552,
   "id": "12086c1b-853b-407d-a74d-86e685336f01",
   "metadata": {
    "id": "17840c26-1142-4aa3-8276-c183e3036d4d",
    "tags": []
   },
   "outputs": [],
   "source": [
    "def f(x):\n",
    "    return x**2"
   ]
  },
  {
   "cell_type": "code",
   "execution_count": 553,
   "id": "09066376-b1a7-4924-8242-f58e35f13446",
   "metadata": {
    "id": "05f95e9c-b61e-44a8-a53b-889a79622d28",
    "tags": []
   },
   "outputs": [],
   "source": [
    "def derivate(f):\n",
    "    h=0.000000000001\n",
    "    return lambda x: (f(x+h)-f(x))/h"
   ]
  },
  {
   "cell_type": "code",
   "execution_count": 554,
   "id": "37295e4c-4901-4b5c-ab3e-0ba99abba603",
   "metadata": {
    "id": "2ecf2fa2-8032-4be4-97a5-45c6bff59866",
    "tags": []
   },
   "outputs": [],
   "source": [
    "ff = derivate(f)"
   ]
  },
  {
   "cell_type": "code",
   "execution_count": 555,
   "id": "17e09464-778d-4691-bc63-4b3ceb980e65",
   "metadata": {
    "id": "18ff7d32-45c3-44bc-beff-644074d95b5e",
    "outputId": "12260498-689f-4edd-ace8-acef47c5aec2",
    "tags": []
   },
   "outputs": [
    {
     "data": {
      "text/plain": [
       "20.00888343900442"
      ]
     },
     "execution_count": 555,
     "metadata": {},
     "output_type": "execute_result"
    }
   ],
   "source": [
    "ff(10)"
   ]
  },
  {
   "cell_type": "code",
   "execution_count": 556,
   "id": "72763ff5-b299-4370-bbb4-0fd73dd23452",
   "metadata": {
    "id": "48a30f1e-daa2-4d98-85fc-568422c4c23f",
    "outputId": "40caf227-20da-4a2b-f50b-6acb0e06cec0",
    "tags": []
   },
   "outputs": [
    {
     "data": {
      "text/plain": [
       "<matplotlib.legend.Legend at 0x7f07ce61a5f0>"
      ]
     },
     "execution_count": 556,
     "metadata": {},
     "output_type": "execute_result"
    },
    {
     "data": {
      "image/png": "[encoded data removed]",
      "text/plain": [
       "<Figure size 640x480 with 1 Axes>"
      ]
     },
     "metadata": {},
     "output_type": "display_data"
    }
   ],
   "source": [
    "x = np.linspace(-1,1,100)\n",
    "plt.plot(x,f(x),label=r'$f(x)=x^2$')\n",
    "plt.plot(x,ff(x),label=r'$ff(x)=2x$')\n",
    "plt.legend()"
   ]
  },
  {
   "cell_type": "markdown",
   "id": "2425fb75-90d4-4b41-8dcc-4d5e78e1843e",
   "metadata": {
    "id": "78f1810f-7f04-4ab7-b1b9-d0ace26a9290"
   },
   "source": [
    "(예제4) 함수들의 리스트"
   ]
  },
  {
   "cell_type": "code",
   "execution_count": 557,
   "id": "dfe5def6-182a-40d7-a800-740aba04b9e8",
   "metadata": {
    "id": "32b3ba28-164e-44a2-aacf-affaac0d1f36",
    "outputId": "de6efcbe-75da-480d-9f0e-c0568c28b89b",
    "tags": []
   },
   "outputs": [
    {
     "data": {
      "text/plain": [
       "[<function __main__.<lambda>(x)>,\n",
       " <function __main__.<lambda>(x)>,\n",
       " <function __main__.<lambda>(x)>]"
      ]
     },
     "execution_count": 557,
     "metadata": {},
     "output_type": "execute_result"
    }
   ],
   "source": [
    "flst = [lambda x: x, lambda x: x**2, lambda x: x**3]\n",
    "flst"
   ]
  },
  {
   "cell_type": "code",
   "execution_count": 558,
   "id": "22110983-41d9-49eb-92f0-b29107ec32ac",
   "metadata": {
    "id": "365678f9-22aa-46f2-890f-8c06ae882799",
    "outputId": "5c2833ab-74b5-41a4-f1da-ec41570d84ee",
    "tags": []
   },
   "outputs": [
    {
     "name": "stdout",
     "output_type": "stream",
     "text": [
      "2\n",
      "4\n",
      "8\n"
     ]
    }
   ],
   "source": [
    "for f in flst:\n",
    "    print(f(2))"
   ]
  },
  {
   "cell_type": "code",
   "execution_count": 559,
   "id": "3be4784a-9a26-4844-ab0f-3cd8dfef90a6",
   "metadata": {
    "id": "d68cac9d-37d8-40a8-8f4f-9a23c1222b56",
    "outputId": "d78a5820-f4f7-44e3-c688-35dee352668e",
    "tags": []
   },
   "outputs": [
    {
     "data": {
      "image/png": "[encoded data removed]",
      "text/plain": [
       "<Figure size 640x480 with 1 Axes>"
      ]
     },
     "metadata": {},
     "output_type": "display_data"
    }
   ],
   "source": [
    "for f in flst:\n",
    "    plt.plot(x,f(x),'--')"
   ]
  },
  {
   "cell_type": "markdown",
   "id": "8a9005ea-3b6a-4050-b901-c69ef7c50605",
   "metadata": {
    "id": "52589886-c1ef-47b1-8ef4-f8ece02f2276"
   },
   "source": [
    "위의코드는 아래와 같음"
   ]
  },
  {
   "cell_type": "code",
   "execution_count": 560,
   "id": "aa7ca8cb-abde-4e09-8f8c-6183a2270917",
   "metadata": {
    "id": "eca55297-bcd1-4d80-8bec-24d4320c18ab",
    "outputId": "b96cd42b-c4a0-401b-e854-b57d53376bf5",
    "tags": []
   },
   "outputs": [
    {
     "data": {
      "text/plain": [
       "[<matplotlib.lines.Line2D at 0x7f07ce457280>]"
      ]
     },
     "execution_count": 560,
     "metadata": {},
     "output_type": "execute_result"
    },
    {
     "data": {
      "image/png": "[encoded data removed]",
      "text/plain": [
       "<Figure size 640x480 with 1 Axes>"
      ]
     },
     "metadata": {},
     "output_type": "display_data"
    }
   ],
   "source": [
    "plt.plot(x,(lambda x: x)(x),'--')\n",
    "plt.plot(x,(lambda x: x**2)(x),'--')\n",
    "plt.plot(x,(lambda x: x**3)(x),'--')"
   ]
  },
  {
   "cell_type": "markdown",
   "id": "16638905-6c49-4029-b97d-05c3188f11db",
   "metadata": {
    "id": "d02de560-5216-42a5-bac3-0c8f7f3585dd"
   },
   "source": [
    "## C. 정리"
   ]
  },
  {
   "cell_type": "markdown",
   "id": "beaa3e8b-bbf0-45d4-8de2-ce6f04abfd1d",
   "metadata": {
    "id": "a1badeb7-c7dc-48cc-a642-05a217140e22"
   },
   "source": [
    "`-` 지금까지 개념\n",
    "\n",
    "- 함수: 변수를 입력으로 받아서 변수를 출력하는 개념\n",
    "- 변수: 어떠한 값을 저장하는 용도로 쓰거나 함수의 입력 혹은 출력으로 사용함"
   ]
  },
  {
   "cell_type": "markdown",
   "id": "59ce66aa-3d83-400b-810a-ef0128fccaa0",
   "metadata": {
    "id": "08be2884-d748-4e39-9640-9c7c6a0ec61f"
   },
   "source": [
    "`-` R과 구별되는 파이썬의 독특한 테크닉 (부제: 파이썬에서 함수를 잘 쓰려면?)\n",
    "\n",
    "- 변수든 함수이든 둘다 인스턴스임. (즉 어떠한 클래스에서 찍힌 똑같은 오브젝트라는 의미)\n",
    "- 변수를 함수처럼: 메소드 `lst.append(1)`은 마치 `append(lst,1)`와 같은 함수로 쓸 수 있음\n",
    "- 함수를 변수처럼($\\star$): 함수자체를 함수의 입력으로 혹은 출력으로 쓸 수도 있음. 함수를 특정 값처럼 생각해서 함수들의 list를 만들 수도 있다."
   ]
  },
  {
   "cell_type": "markdown",
   "id": "7a07e9cf-4eb0-447b-b978-68e53b91da33",
   "metadata": {
    "id": "fe5a8055-2917-4865-95ab-e37e02a586b4"
   },
   "source": [
    "## D. callable object"
   ]
  },
  {
   "cell_type": "markdown",
   "id": "f4ea0b81-0f95-4904-8322-4924ce144e31",
   "metadata": {
    "id": "79b503bc-4677-4c04-9ccd-99590534e30d"
   },
   "source": [
    "`-` 함수 오브젝트의 비밀?"
   ]
  },
  {
   "cell_type": "code",
   "execution_count": 561,
   "id": "e13c0122-af8b-4f5a-93b1-eec4f423959e",
   "metadata": {
    "id": "28345165-d190-41e3-ba75-4b8e655f7a07",
    "tags": []
   },
   "outputs": [],
   "source": [
    "f = lambda x: x+1"
   ]
  },
  {
   "cell_type": "code",
   "execution_count": 562,
   "id": "b41a65a0-eeba-4f6e-a2e6-eff7a5b29cba",
   "metadata": {
    "id": "b3482316-f1e6-4e18-ab7c-188862a22935",
    "tags": []
   },
   "outputs": [],
   "source": [
    "a=11"
   ]
  },
  {
   "cell_type": "code",
   "execution_count": 563,
   "id": "133fdc17-0932-459b-9eed-a5fc92d6ed0c",
   "metadata": {
    "id": "a3ea028e-87f4-4d7b-baca-7f54bfca2f97",
    "outputId": "1c17f21c-5e8e-4567-8768-76c6a2447efc",
    "tags": []
   },
   "outputs": [
    {
     "data": {
      "text/plain": [
       "{'__call__'}"
      ]
     },
     "execution_count": 563,
     "metadata": {},
     "output_type": "execute_result"
    }
   ],
   "source": [
    "set(dir(f)) & {'__call__'}"
   ]
  },
  {
   "cell_type": "markdown",
   "id": "98f6f03a-022d-40b7-9819-2b6ada9315c4",
   "metadata": {
    "id": "9198e26e-e6d6-4173-8530-472f0d7c31d2"
   },
   "source": [
    "- 함수 오브젝트에는 숨겨진 기능 `__call__`이 있다."
   ]
  },
  {
   "cell_type": "code",
   "execution_count": 564,
   "id": "68849a67-b325-4bba-922e-87897c14d2ce",
   "metadata": {
    "id": "63c53c50-b029-4ec2-8e30-1568d6ee18dd",
    "outputId": "82346289-eb7f-4001-c45a-d8cb3f4ac2df",
    "tags": []
   },
   "outputs": [
    {
     "data": {
      "text/plain": [
       "4"
      ]
     },
     "execution_count": 564,
     "metadata": {},
     "output_type": "execute_result"
    }
   ],
   "source": [
    "f.__call__(3) # f(3)"
   ]
  },
  {
   "cell_type": "code",
   "execution_count": 565,
   "id": "bf0a31c3-9b20-4d02-a63d-bfd337e443a7",
   "metadata": {
    "id": "67f265c0-4988-43fa-8ad6-81bca5b86e79",
    "outputId": "fd30ef66-be33-43b2-e4c8-92c54ee7756e",
    "tags": []
   },
   "outputs": [
    {
     "data": {
      "text/plain": [
       "5"
      ]
     },
     "execution_count": 565,
     "metadata": {},
     "output_type": "execute_result"
    }
   ],
   "source": [
    "f.__call__(4) # f(4)"
   ]
  },
  {
   "cell_type": "markdown",
   "id": "54062ce5-07a4-4655-a218-5c52f709ec84",
   "metadata": {
    "id": "2f26944a-b680-4a5c-a2c0-8bf0eba2fd4a"
   },
   "source": [
    "- 여기에 우리가 정의한 내용이 있다."
   ]
  },
  {
   "cell_type": "markdown",
   "id": "7dc7309f-128d-4cca-8f12-eaf982dff088",
   "metadata": {
    "id": "defc38cd-6ec9-4ce9-b954-0d5b1390aa5a"
   },
   "source": [
    "`-` 함수처럼 쓸 수 없는 인스턴스는 단지 call이 없는 것일 뿐이다."
   ]
  },
  {
   "cell_type": "code",
   "execution_count": 566,
   "id": "0b5e8b67-f18b-4f95-adf7-18b5b8a91af4",
   "metadata": {
    "id": "e1a769e6-39d6-4c29-bc97-61841620d293",
    "tags": []
   },
   "outputs": [],
   "source": [
    "class Klass:\n",
    "    def __init__(self):\n",
    "        self.name='guebin'"
   ]
  },
  {
   "cell_type": "code",
   "execution_count": 567,
   "id": "4bb76e92-c89b-461b-ba65-0f66a2f5125c",
   "metadata": {
    "id": "308eccd8-93e5-45c3-aee0-85d7f8496213",
    "tags": []
   },
   "outputs": [],
   "source": [
    "a=Klass()"
   ]
  },
  {
   "cell_type": "code",
   "execution_count": 568,
   "id": "ef3e7e83-47fd-45e8-9607-36c5db446b01",
   "metadata": {
    "id": "0a4c3678-d47d-454e-b452-17404e5c0d20",
    "outputId": "dc0f5f87-6e97-403b-c951-9702963cf680",
    "tags": []
   },
   "outputs": [
    {
     "ename": "TypeError",
     "evalue": "'Klass' object is not callable",
     "output_type": "error",
     "traceback": [
      "\u001b[0;31m---------------------------------------------------------------------------\u001b[0m",
      "\u001b[0;31mTypeError\u001b[0m                                 Traceback (most recent call last)",
      "Cell \u001b[0;32mIn[568], line 1\u001b[0m\n\u001b[0;32m----> 1\u001b[0m \u001b[43ma\u001b[49m\u001b[43m(\u001b[49m\u001b[43m)\u001b[49m\n",
      "\u001b[0;31mTypeError\u001b[0m: 'Klass' object is not callable"
     ]
    }
   ],
   "source": [
    "a()"
   ]
  },
  {
   "cell_type": "markdown",
   "id": "45cde28b-8930-4a28-9b83-08d043292cd4",
   "metadata": {
    "id": "2152df95-3b84-4500-9af0-5e3efef47d11"
   },
   "source": [
    "- a는 callable이 아니라고 한다."
   ]
  },
  {
   "cell_type": "code",
   "execution_count": 569,
   "id": "dc0167c3-6916-45e5-abc7-c1e802da0107",
   "metadata": {
    "id": "44121865-7d2a-4dc2-83a6-2beba8c23b02",
    "tags": []
   },
   "outputs": [],
   "source": [
    "class Klass2(Klass):\n",
    "    def __call__(self):\n",
    "        print(self.name)"
   ]
  },
  {
   "cell_type": "code",
   "execution_count": 570,
   "id": "9abe5472-5de7-41fa-9e86-10560fad7ae8",
   "metadata": {
    "id": "86c434c1-ff63-4f18-a060-40bdab7461d5",
    "tags": []
   },
   "outputs": [],
   "source": [
    "b=Klass2()"
   ]
  },
  {
   "cell_type": "code",
   "execution_count": 571,
   "id": "cc870e23-a3a8-4fc0-8373-42cb2ff39262",
   "metadata": {
    "id": "73400640-4ea5-4648-b032-b02107ec4f2d",
    "outputId": "64356ed3-7b81-4f96-c7d1-2ecbceb6ea92",
    "tags": []
   },
   "outputs": [
    {
     "name": "stdout",
     "output_type": "stream",
     "text": [
      "guebin\n"
     ]
    }
   ],
   "source": [
    "b()"
   ]
  },
  {
   "cell_type": "markdown",
   "id": "5cb13b00-805d-487d-81ce-c8b76c4eeebb",
   "metadata": {
    "id": "7752063f-5f52-4c78-a904-4c132398d7d5"
   },
   "source": [
    "- b는 callable object! 즉 숨겨진 메서드로 `__call__`를 가진 오브젝트!\n",
    "- Klass는 callable object를 만들지 못하지만 Klass2는 callable object를 만든다."
   ]
  },
  {
   "cell_type": "markdown",
   "id": "ed4ce083-40eb-47f9-8b19-aef4156733b0",
   "metadata": {
    "id": "66c23a47-c840-470e-ba31-2243c533dc65"
   },
   "source": [
    "`-` 클래스로 함수를 만들기 (=함수인스턴스를 찍어내는 클래스 설계)"
   ]
  },
  {
   "cell_type": "code",
   "execution_count": 572,
   "id": "ccc4fd6f-9da5-43c4-85c3-40ae2658a598",
   "metadata": {
    "id": "b5b2ea3d-47b0-4e2a-b904-5e4b7b15a613",
    "tags": []
   },
   "outputs": [],
   "source": [
    "class AddConstant:\n",
    "    def __init__(self,const):\n",
    "        self.const = const\n",
    "    def __call__(self,x):\n",
    "        return x + self.const"
   ]
  },
  {
   "cell_type": "code",
   "execution_count": 573,
   "id": "173c714a-3702-4d0c-9a14-710161c6eb04",
   "metadata": {
    "id": "e3daaa72-3061-468f-8f04-beb10a1b7c77",
    "tags": []
   },
   "outputs": [],
   "source": [
    "f = AddConstant(3) # callable object생성, f.const에는 3이 저장되어있음."
   ]
  },
  {
   "cell_type": "code",
   "execution_count": 574,
   "id": "bc7bc54e-0a9d-4a24-bfad-cffac8241223",
   "metadata": {
    "id": "5d205a3b-1ff9-4132-9120-9dc1ce2e82e3",
    "outputId": "0aec283d-5226-408d-ffe0-104a154ae3a6",
    "tags": []
   },
   "outputs": [
    {
     "data": {
      "text/plain": [
       "8"
      ]
     },
     "execution_count": 574,
     "metadata": {},
     "output_type": "execute_result"
    }
   ],
   "source": [
    "f(5) # f.const 와 5를 더하는 기능을 수행, # 즉 f(x) = x+3 을 수행함"
   ]
  },
  {
   "cell_type": "code",
   "execution_count": 575,
   "id": "8ec27723-e90d-42c9-819d-09793abdaefd",
   "metadata": {
    "id": "fffd5ddb-426e-41c6-96cf-1e29162f110a",
    "outputId": "4cb8885a-4e20-46e5-9101-c6d23dd8544c",
    "tags": []
   },
   "outputs": [
    {
     "data": {
      "text/plain": [
       "13"
      ]
     },
     "execution_count": 575,
     "metadata": {},
     "output_type": "execute_result"
    }
   ],
   "source": [
    "f(10)"
   ]
  },
  {
   "cell_type": "markdown",
   "id": "5bd930b7-283d-4ddf-a6b3-b8d5ad6868cf",
   "metadata": {
    "id": "4a81bd7c-e1a7-4010-9eba-76524ad5581c"
   },
   "source": [
    "`-` 클래스도 그러고 보니까 `오브젝트` 아니었나?"
   ]
  },
  {
   "cell_type": "code",
   "execution_count": 576,
   "id": "c4f408ae-9b93-408a-a652-877eb37a7c88",
   "metadata": {
    "id": "eaf368ec-f844-438e-b42c-2297e3725bee",
    "outputId": "b7b95086-4e48-43d3-e8ae-4c31205c93ad",
    "tags": []
   },
   "outputs": [
    {
     "data": {
      "text/plain": [
       "\u001b[0;31mInit signature:\u001b[0m \u001b[0mStudent_Ver2\u001b[0m\u001b[0;34m(\u001b[0m\u001b[0mage\u001b[0m\u001b[0;34m=\u001b[0m\u001b[0;36m20.0\u001b[0m\u001b[0;34m,\u001b[0m \u001b[0msemester\u001b[0m\u001b[0;34m=\u001b[0m\u001b[0;36m0\u001b[0m\u001b[0;34m)\u001b[0m\u001b[0;34m\u001b[0m\u001b[0;34m\u001b[0m\u001b[0m\n",
       "\u001b[0;31mDocstring:\u001b[0m      <no docstring>\n",
       "\u001b[0;31mType:\u001b[0m           type\n",
       "\u001b[0;31mSubclasses:\u001b[0m     "
      ]
     },
     "metadata": {},
     "output_type": "display_data"
    }
   ],
   "source": [
    "Student_Ver2?"
   ]
  },
  {
   "cell_type": "markdown",
   "id": "0e2de943-83d0-49c6-8587-de470e335351",
   "metadata": {
    "id": "28beaa5b-d7e7-4fa4-9f51-3a8fb59d4936"
   },
   "source": [
    "- 이것도 type 이라는 또 다른 클래스에서 (클래스를 찍는 클래스) 찍힌 오브젝트이구나.."
   ]
  },
  {
   "cell_type": "markdown",
   "id": "f4d05c92-88f3-4bc0-af92-e766c4c4a42c",
   "metadata": {
    "id": "5feab9b1-363b-4423-8ba7-f1a447a71ecd"
   },
   "source": [
    "`-` 클래스 \"오브젝트\"도 함수 \"오브젝트\"처럼 `Student_Ver2()`와 같이 사용하면 인스턴스를 만들었음. -> `Student_Ver2.__call__()` 은 `Student_Ver2()`와 같은 역할을 할 것이다."
   ]
  },
  {
   "cell_type": "markdown",
   "id": "e5e13f24-664d-4638-8008-a1a5d0ef5f60",
   "metadata": {
    "id": "0170318a-90bd-4426-920f-d534810e8f02"
   },
   "source": [
    "***일반적인 구현에서 \"클래스 $\\to$ 인스턴스\" 과정***"
   ]
  },
  {
   "cell_type": "code",
   "execution_count": null,
   "id": "7708fe5a-42f6-4c81-b606-eb6142071802",
   "metadata": {
    "id": "8cfd96ea-4c00-4406-ac6b-3887b2c11e5b",
    "outputId": "04e6c969-3409-48ab-bd9c-161e230a7fb2"
   },
   "outputs": [
    {
     "name": "stdout",
     "output_type": "stream",
     "text": [
      "입학을 축하합니다. 당신의 나이는 20.0이고 현재 학기는 0학기 입니다.\n"
     ]
    }
   ],
   "source": [
    "boram = Student_Ver2(age=20.0,semester=0)"
   ]
  },
  {
   "cell_type": "code",
   "execution_count": null,
   "id": "f6b78c35-a994-4552-b1c9-adc0bf64505c",
   "metadata": {
    "id": "d267e2f8-c153-4a97-84ec-533a3022925b",
    "outputId": "bff767b6-3338-46cc-a659-04f4123b8804"
   },
   "outputs": [
    {
     "data": {
      "text/html": [
       "\n",
       "        나이: 21.5 <br/>\n",
       "        학기: 1 <br/>\n",
       "        "
      ],
      "text/plain": [
       "<__main__.Student_Ver2 at 0x7f4c15f26850>"
      ]
     },
     "execution_count": 348,
     "metadata": {},
     "output_type": "execute_result"
    }
   ],
   "source": [
    "boram + '등록' + '휴학' + '휴학'"
   ]
  },
  {
   "cell_type": "markdown",
   "id": "bd16eae1-3ff6-4bd6-bb0a-f9a9ac3b943a",
   "metadata": {
    "id": "531c1f43-9a4f-4fae-8847-ae0ee2419015"
   },
   "source": [
    "***공부를 위해 call을 이용해본 \"클래스 $\\to$ 인스턴스\" 과정***"
   ]
  },
  {
   "cell_type": "code",
   "execution_count": null,
   "id": "dcfb2e88-73b8-495a-bd22-92c076541426",
   "metadata": {
    "id": "6e9fce5d-7ab4-4f89-90e7-5de90f1f8f71",
    "outputId": "e81272f0-5974-4b76-98e0-00ed12507e6a"
   },
   "outputs": [
    {
     "name": "stdout",
     "output_type": "stream",
     "text": [
      "입학을 축하합니다. 당신의 나이는 20.0이고 현재 학기는 0학기 입니다.\n"
     ]
    }
   ],
   "source": [
    "boram = Student_Ver2.__call__(age=20.0,semester=0) #\n",
    "# boram = Student_Ver2(age=20.0,semester=0)"
   ]
  },
  {
   "cell_type": "code",
   "execution_count": null,
   "id": "2f589c6e-4d84-4811-ab02-a5a189758cc4",
   "metadata": {
    "id": "39a814ab-d6a3-491f-a1d2-fab676304c40",
    "outputId": "f72c35b9-a560-4993-95f6-f2d6310c726d"
   },
   "outputs": [
    {
     "data": {
      "text/html": [
       "\n",
       "        나이: 21.5 <br/>\n",
       "        학기: 1 <br/>\n",
       "        "
      ],
      "text/plain": [
       "<__main__.Student_Ver2 at 0x7f4c15387d90>"
      ]
     },
     "execution_count": 352,
     "metadata": {},
     "output_type": "execute_result"
    }
   ],
   "source": [
    "boram + '등록' + '휴학' + '휴학'"
   ]
  },
  {
   "cell_type": "markdown",
   "id": "1f576269-1fe0-4eae-8ce1-d8830bcc3556",
   "metadata": {
    "id": "e6582806-250b-4aac-8155-7126548f1f49"
   },
   "source": [
    "> 파이썬의 비밀11: `f()`와 같이 쓸 수 있는 오브젝트는 단지 `__call__` 이 정의되어있는 오브젝트일 뿐이다."
   ]
  },
  {
   "cell_type": "markdown",
   "id": "b1eb5f9f-0660-41c6-a7ec-665c77b797d8",
   "metadata": {
    "id": "17057103-7f2a-4364-a3de-5babce342384"
   },
   "source": [
    "# 5. `__iter__` ($\\star\\star\\star\\star\\star$)"
   ]
  },
  {
   "cell_type": "markdown",
   "id": "e673007f-b640-405d-8673-f9c1b0d5949f",
   "metadata": {
    "id": "1c02135c-8e12-4d1d-8c74-318c3c7578c0"
   },
   "source": [
    "## A. for문의 복습"
   ]
  },
  {
   "cell_type": "markdown",
   "id": "aba8a36a-8485-4772-9be7-2bc2304c4757",
   "metadata": {
    "id": "b17830eb-2274-4cca-9e76-18dff8f82a81"
   },
   "source": [
    "`-` 아래와 같은 예제들을 관찰하여 for문을 복습하자."
   ]
  },
  {
   "cell_type": "markdown",
   "id": "6ebf503d-51be-423b-bca3-71167f996cd8",
   "metadata": {
    "id": "94ff98b4-bcf8-48ed-9078-77b42825b17f"
   },
   "source": [
    "(예제1) [1,2,3,4]"
   ]
  },
  {
   "cell_type": "code",
   "execution_count": null,
   "id": "ed0f75f2-97e8-4c2b-81c7-ab58288abf71",
   "metadata": {
    "id": "c3515406-eb8d-4246-a099-5bb57d4829cc",
    "outputId": "c483f534-7c74-4ce7-a330-1949ef42759e"
   },
   "outputs": [
    {
     "name": "stdout",
     "output_type": "stream",
     "text": [
      "1\n",
      "2\n",
      "33\n",
      "4\n"
     ]
    }
   ],
   "source": [
    "for i in [1,2,33,4]:\n",
    "    print(i)"
   ]
  },
  {
   "cell_type": "markdown",
   "id": "53342ca2-0bb6-4ee1-96f0-978f51aa59b6",
   "metadata": {
    "id": "63e7b680-3b55-48fb-9f39-b8185eed2f42"
   },
   "source": [
    "(예제2) (1,2,3,4)"
   ]
  },
  {
   "cell_type": "code",
   "execution_count": null,
   "id": "560dcae1-e77d-4243-83e5-f2e701c47ef8",
   "metadata": {
    "id": "d7674f54-6283-4c1a-9b12-17dde6a6ec1c",
    "outputId": "353dc292-b1f3-4aeb-b077-bf5ec6ffe64e"
   },
   "outputs": [
    {
     "name": "stdout",
     "output_type": "stream",
     "text": [
      "1\n",
      "2\n",
      "33\n",
      "4\n"
     ]
    }
   ],
   "source": [
    "for i in (1,2,33,4):\n",
    "    print(i)"
   ]
  },
  {
   "cell_type": "markdown",
   "id": "94728d14-12bb-4c2f-b9b6-272f6aeba85c",
   "metadata": {
    "id": "fead96ba-62ce-4a8a-86ee-72901c019091"
   },
   "source": [
    "(예제3) '1234'"
   ]
  },
  {
   "cell_type": "code",
   "execution_count": null,
   "id": "77ba8e3c-8567-44f4-af67-bc1597fee2c7",
   "metadata": {
    "id": "0666f79a-6857-4318-a907-454d1f55b7a6",
    "outputId": "bc95a1c3-ed43-4387-c46b-012f323b0e77"
   },
   "outputs": [
    {
     "name": "stdout",
     "output_type": "stream",
     "text": [
      "1\n",
      "2\n",
      "3\n",
      "a\n",
      "s\n",
      "d\n",
      "f\n"
     ]
    }
   ],
   "source": [
    "for i in '123asdf':\n",
    "    print(i)"
   ]
  },
  {
   "cell_type": "markdown",
   "id": "07332ec6-938b-4892-9d6f-5e45a5e02de2",
   "metadata": {
    "id": "da64825d-245b-4b7a-99ec-7b89d2ffa96b"
   },
   "source": [
    "(예제4) 5"
   ]
  },
  {
   "cell_type": "code",
   "execution_count": null,
   "id": "5d9cfc43-3b29-48fd-8186-7bc519eb13b6",
   "metadata": {
    "id": "d099e8e7-feda-43db-a439-6a628e04e450",
    "outputId": "7331065e-f475-4dea-94f3-9c44682f8033"
   },
   "outputs": [
    {
     "ename": "TypeError",
     "evalue": "'int' object is not iterable",
     "output_type": "error",
     "traceback": [
      "\u001b[0;31m---------------------------------------------------------------------------\u001b[0m",
      "\u001b[0;31mTypeError\u001b[0m                                 Traceback (most recent call last)",
      "Cell \u001b[0;32mIn[7], line 1\u001b[0m\n\u001b[0;32m----> 1\u001b[0m \u001b[38;5;28;01mfor\u001b[39;00m i \u001b[38;5;129;01min\u001b[39;00m \u001b[38;5;241m5\u001b[39m:\n\u001b[1;32m      2\u001b[0m     \u001b[38;5;28mprint\u001b[39m(i)\n",
      "\u001b[0;31mTypeError\u001b[0m: 'int' object is not iterable"
     ]
    }
   ],
   "source": [
    "for i in 5:\n",
    "    print(i)"
   ]
  },
  {
   "cell_type": "markdown",
   "id": "2beb33ea-b0e0-4136-8650-f4fcf0562088",
   "metadata": {
    "id": "67214327-1e4a-453b-a32c-dae38e918b25"
   },
   "source": [
    "`-` 의문1:\n",
    "\n",
    "```python\n",
    "for i in ???:\n",
    "    print(i)\n",
    "```\n",
    "\n",
    "에서 ??? 자리에 올수 있는 것이 무엇일까?"
   ]
  },
  {
   "cell_type": "markdown",
   "id": "738534d0-728e-4dcb-93ff-e8cda8587e21",
   "metadata": {
    "id": "42f0e9ac-0f0b-4781-bfc3-cd0abdc9be80"
   },
   "source": [
    "(예제5) [[1,2,3,4],[3,4,5,6]], pd.DataFrame([[1,2,3,4],[3,4,5,6]])"
   ]
  },
  {
   "cell_type": "code",
   "execution_count": null,
   "id": "9658047e-90b7-4fa1-8fab-bb50ec9379f8",
   "metadata": {
    "id": "e4d7419c-9b6f-4335-97dc-641061103241",
    "outputId": "32d7884e-e07c-4d94-96e1-196178b7205f"
   },
   "outputs": [
    {
     "data": {
      "text/plain": [
       "[[1, 2, 3, 4], [3, 4, 5, 6]]"
      ]
     },
     "execution_count": 9,
     "metadata": {},
     "output_type": "execute_result"
    }
   ],
   "source": [
    "lst = [[1,2,3,4],[3,4,5,6]]\n",
    "lst"
   ]
  },
  {
   "cell_type": "code",
   "execution_count": null,
   "id": "d35c1d94-487f-4799-a5c5-8c2e1fa10e22",
   "metadata": {
    "id": "7aacc913-bbc9-4043-b564-80c6705be6fa",
    "outputId": "e4acc434-dcc7-4c94-dea6-c5885219a678"
   },
   "outputs": [
    {
     "name": "stdout",
     "output_type": "stream",
     "text": [
      "[1, 2, 3, 4]\n",
      "[3, 4, 5, 6]\n"
     ]
    }
   ],
   "source": [
    "for l in lst:\n",
    "    print(l)"
   ]
  },
  {
   "cell_type": "code",
   "execution_count": null,
   "id": "0e0401ea-bb19-4606-9574-2153bc201642",
   "metadata": {
    "id": "a0e3a92e-b049-4a66-8536-21d361661390",
    "outputId": "dd5fc85d-a1fd-4a88-89ea-7b7d543dc104"
   },
   "outputs": [
    {
     "name": "stdout",
     "output_type": "stream",
     "text": [
      "[1 2 3 4]\n",
      "[3 4 5 6]\n"
     ]
    }
   ],
   "source": [
    "for l in np.array(lst):\n",
    "    print(l)"
   ]
  },
  {
   "cell_type": "code",
   "execution_count": null,
   "id": "6abb5779-2642-466f-896d-0b7b52aaf044",
   "metadata": {
    "id": "a45256f8-0f6c-4b48-a0ba-170a1bba8e74",
    "outputId": "07afdfe9-e9af-4256-e018-1c92963718ac"
   },
   "outputs": [
    {
     "name": "stdout",
     "output_type": "stream",
     "text": [
      "0\n",
      "1\n",
      "2\n",
      "3\n"
     ]
    }
   ],
   "source": [
    "for l in pd.DataFrame(lst):\n",
    "    print(l)"
   ]
  },
  {
   "cell_type": "markdown",
   "id": "2c4f745f-99a4-4ae8-a1ea-a9d16a995c2b",
   "metadata": {
    "id": "84c7c854-bdef-476b-b850-edea1770dae1"
   },
   "source": [
    "`-` 데이터프레임인 경우는 colname이 반복"
   ]
  },
  {
   "cell_type": "code",
   "execution_count": null,
   "id": "518df308-6a33-4403-9047-28cdaaf0b34e",
   "metadata": {
    "id": "40b1abb5-0b7f-4f48-b46e-af06b47f7ca5",
    "outputId": "58218170-0d99-4101-e901-6b80950b1899"
   },
   "outputs": [
    {
     "data": {
      "text/html": [
       "<div>\n",
       "<style scoped>\n",
       "    .dataframe tbody tr th:only-of-type {\n",
       "        vertical-align: middle;\n",
       "    }\n",
       "\n",
       "    .dataframe tbody tr th {\n",
       "        vertical-align: top;\n",
       "    }\n",
       "\n",
       "    .dataframe thead th {\n",
       "        text-align: right;\n",
       "    }\n",
       "</style>\n",
       "<table border=\"1\" class=\"dataframe\">\n",
       "  <thead>\n",
       "    <tr style=\"text-align: right;\">\n",
       "      <th></th>\n",
       "      <th>x</th>\n",
       "      <th>y</th>\n",
       "    </tr>\n",
       "  </thead>\n",
       "  <tbody>\n",
       "    <tr>\n",
       "      <th>0</th>\n",
       "      <td>1</td>\n",
       "      <td>2</td>\n",
       "    </tr>\n",
       "    <tr>\n",
       "      <th>1</th>\n",
       "      <td>2</td>\n",
       "      <td>3</td>\n",
       "    </tr>\n",
       "    <tr>\n",
       "      <th>2</th>\n",
       "      <td>3</td>\n",
       "      <td>4</td>\n",
       "    </tr>\n",
       "  </tbody>\n",
       "</table>\n",
       "</div>"
      ],
      "text/plain": [
       "   x  y\n",
       "0  1  2\n",
       "1  2  3\n",
       "2  3  4"
      ]
     },
     "execution_count": 25,
     "metadata": {},
     "output_type": "execute_result"
    }
   ],
   "source": [
    "df = pd.DataFrame({'x':[1,2,3],'y':[2,3,4]})\n",
    "df"
   ]
  },
  {
   "cell_type": "code",
   "execution_count": null,
   "id": "4c32f33c-bc7e-4c8e-901e-06ecc0380bd0",
   "metadata": {
    "id": "c62e9ad0-cdd2-44e0-8971-e27f523fec58",
    "outputId": "9d430d96-23a7-4b4f-a24a-81d9e262af17"
   },
   "outputs": [
    {
     "name": "stdout",
     "output_type": "stream",
     "text": [
      "x\n",
      "y\n"
     ]
    }
   ],
   "source": [
    "for d in df:\n",
    "    print(d)"
   ]
  },
  {
   "cell_type": "markdown",
   "id": "4131b9cf-7821-4e4a-a600-bdf261163acf",
   "metadata": {
    "id": "04786851-7740-4bd3-9e20-7ca9d955ef45"
   },
   "source": [
    "`-` 의문2: for의 출력결과는 어떻게 예측할 수 있을까?"
   ]
  },
  {
   "cell_type": "markdown",
   "id": "bb052841-8a78-4cd7-9a50-f10480df7275",
   "metadata": {
    "id": "2cb123ee-d544-4531-b189-bb1419e274df"
   },
   "source": [
    "## B. for문의 동작원리"
   ]
  },
  {
   "cell_type": "markdown",
   "id": "a3ce34a4-c543-4887-b14e-50dcab12e37c",
   "metadata": {
    "id": "d6e339e1-0716-4000-9a04-1fa1d95e7488"
   },
   "source": [
    "`-` 의문1의 해결: 아래의 ??? 자리에 올 수 있는 것은 dir()하여 `__iter__`가 있는 object이다.\n",
    "\n",
    "```python\n",
    "for i in ???:\n",
    "    print(i)\n",
    "```\n",
    "\n",
    "이러한 오브젝트를 iterable object라고 한다."
   ]
  },
  {
   "cell_type": "markdown",
   "id": "3e14f3b3-d24d-4774-b1b4-a8d6e8dcae48",
   "metadata": {
    "id": "94f494bf-9b0a-43bb-828a-406ba65c9251"
   },
   "source": [
    "`-` 예제1~4 확인"
   ]
  },
  {
   "cell_type": "code",
   "execution_count": null,
   "id": "2d998290-f7f2-4067-9c06-8ca20f6f7eff",
   "metadata": {
    "id": "c716fb7b-36ab-451f-a7ea-3258b3d51985",
    "outputId": "0a9d27c7-6c25-434f-e929-7bf028f29757"
   },
   "outputs": [
    {
     "data": {
      "text/plain": [
       "{'__iter__'}"
      ]
     },
     "execution_count": 34,
     "metadata": {},
     "output_type": "execute_result"
    }
   ],
   "source": [
    "lst = [1,2,3]\n",
    "set(dir(lst)) & {'__iter__'}"
   ]
  },
  {
   "cell_type": "code",
   "execution_count": null,
   "id": "38e33423-1cc4-4f2e-bd68-55ebc304ebf7",
   "metadata": {
    "id": "55b4d22f-1569-4559-a3a6-86207d237cc0",
    "outputId": "28e59b22-00ec-41a6-cf87-8ce59013989e"
   },
   "outputs": [
    {
     "data": {
      "text/plain": [
       "{'__iter__'}"
      ]
     },
     "execution_count": 35,
     "metadata": {},
     "output_type": "execute_result"
    }
   ],
   "source": [
    "tpl = 1,2,3\n",
    "set(dir(tpl)) & {'__iter__'}"
   ]
  },
  {
   "cell_type": "code",
   "execution_count": null,
   "id": "4c65d1eb-ad6c-4e9a-9a55-2758fee97b56",
   "metadata": {
    "id": "7ff2313c-977a-46a2-8743-3977d47ab0b3",
    "outputId": "3dcff950-138c-48d2-82fb-3b406c53b20a"
   },
   "outputs": [
    {
     "data": {
      "text/plain": [
       "{'__iter__'}"
      ]
     },
     "execution_count": 36,
     "metadata": {},
     "output_type": "execute_result"
    }
   ],
   "source": [
    "string = '123'\n",
    "set(dir(string)) & {'__iter__'}"
   ]
  },
  {
   "cell_type": "code",
   "execution_count": null,
   "id": "84b73884-afaa-43c9-9110-514d829e3718",
   "metadata": {
    "id": "2ff13329-9df5-4735-8535-c02a40cf18a1",
    "outputId": "65364675-2006-489d-96f5-599d690e5088"
   },
   "outputs": [
    {
     "data": {
      "text/plain": [
       "set()"
      ]
     },
     "execution_count": 37,
     "metadata": {},
     "output_type": "execute_result"
    }
   ],
   "source": [
    "a = 5\n",
    "set(dir(a)) & {'__iter__'}"
   ]
  },
  {
   "cell_type": "markdown",
   "id": "aad58d6f-33ad-4feb-88ec-8875fa099bec",
   "metadata": {
    "id": "de946eab-7bbd-4d9f-815f-101090139891"
   },
   "source": [
    "`-` `__iter__`의 역할: iterable object를 iterator로 만들 수 있다!"
   ]
  },
  {
   "cell_type": "code",
   "execution_count": null,
   "id": "13ea940f-2bdf-4ff8-98f5-75c2b89c214a",
   "metadata": {
    "id": "32b7ca53-acab-41c8-be28-c4cc14c94ccb"
   },
   "outputs": [],
   "source": [
    "lst = [1,22,-33]"
   ]
  },
  {
   "cell_type": "code",
   "execution_count": null,
   "id": "735eff0b-8590-4b7e-82de-c42674eafc56",
   "metadata": {
    "id": "fe3f5cc9-e9fa-4e97-91ac-d6cebf5e9385"
   },
   "outputs": [],
   "source": [
    "lst_iterator = lst.__iter__()\n",
    "# lst_iterator = iter(lst)"
   ]
  },
  {
   "cell_type": "markdown",
   "id": "982515b0-5d24-48a2-b5ab-888410fcbcfe",
   "metadata": {
    "id": "3ff4b96f-9843-4113-a47c-a7d4b0b5b520"
   },
   "source": [
    "`-` iterator가 되면 무엇이 좋은가? -> 숨겨진 기능 `__next__`가 열린다."
   ]
  },
  {
   "cell_type": "code",
   "execution_count": null,
   "id": "53c27368-a07b-493b-a336-75c15db1d517",
   "metadata": {
    "id": "64ba4d1c-6d3a-4ee1-90b4-f558a4a4935c",
    "outputId": "8389236e-5b28-40af-a23d-f0a98749fab1"
   },
   "outputs": [
    {
     "data": {
      "text/plain": [
       "{'__next__'}"
      ]
     },
     "execution_count": 70,
     "metadata": {},
     "output_type": "execute_result"
    }
   ],
   "source": [
    "set(dir(lst_iterator)) & {'__next__'}"
   ]
  },
  {
   "cell_type": "markdown",
   "id": "d9b9149d-8d49-4fde-9537-4212f8d5734f",
   "metadata": {
    "id": "631e6701-b45a-49c7-9bb7-aeb7ab891f27"
   },
   "source": [
    "`-` 그래서 `__next__`의 기능은? -> 원소를 차례대로 꺼내준다 + 더 이상 꺼낼 원소가 없으면 StopIteration Error를 발생시킨다."
   ]
  },
  {
   "cell_type": "code",
   "execution_count": null,
   "id": "486be605-eeea-47be-984d-dd9e8c32c6b0",
   "metadata": {
    "id": "9f16e514-c552-47ba-89bf-1841b5d3f85a",
    "outputId": "f7451487-9c18-457e-b99a-fb2a5549682f"
   },
   "outputs": [
    {
     "data": {
      "text/plain": [
       "1"
      ]
     },
     "execution_count": 71,
     "metadata": {},
     "output_type": "execute_result"
    }
   ],
   "source": [
    "next(lst_iterator)\n",
    "# lst_iterator.__next__() # 같은코드"
   ]
  },
  {
   "cell_type": "code",
   "execution_count": null,
   "id": "56abd546-130b-41b6-90de-603012647803",
   "metadata": {
    "id": "50f2c387-13b4-4059-8098-1a69975ef6b2",
    "outputId": "e412f6af-7ba2-4531-eca1-7ae2afcaa08a"
   },
   "outputs": [
    {
     "data": {
      "text/plain": [
       "22"
      ]
     },
     "execution_count": 72,
     "metadata": {},
     "output_type": "execute_result"
    }
   ],
   "source": [
    "next(lst_iterator)\n",
    "# lst_iterator.__next__() # 같은코드"
   ]
  },
  {
   "cell_type": "code",
   "execution_count": null,
   "id": "fb306901-8b6b-4ec9-b8d0-19b8d7fe3d11",
   "metadata": {
    "id": "60f08ee2-90fe-4c1a-8798-b8cd78b78756",
    "outputId": "50ada37e-a84a-44d5-f8ec-5e57411189e4"
   },
   "outputs": [
    {
     "data": {
      "text/plain": [
       "-33"
      ]
     },
     "execution_count": 73,
     "metadata": {},
     "output_type": "execute_result"
    }
   ],
   "source": [
    "next(lst_iterator)\n",
    "# lst_iterator.__next__() # 같은코드"
   ]
  },
  {
   "cell_type": "code",
   "execution_count": null,
   "id": "90d71c62-91a7-4699-b386-82bffa663f68",
   "metadata": {
    "id": "2ddc5af2-3940-45fe-bf5a-46fdde7de0c1",
    "outputId": "4dbd73dd-3ada-4920-eb5e-c9a788366f73"
   },
   "outputs": [
    {
     "ename": "StopIteration",
     "evalue": "",
     "output_type": "error",
     "traceback": [
      "\u001b[0;31m---------------------------------------------------------------------------\u001b[0m",
      "\u001b[0;31mStopIteration\u001b[0m                             Traceback (most recent call last)",
      "Cell \u001b[0;32mIn[74], line 1\u001b[0m\n\u001b[0;32m----> 1\u001b[0m \u001b[38;5;28;43mnext\u001b[39;49m\u001b[43m(\u001b[49m\u001b[43mlst_iterator\u001b[49m\u001b[43m)\u001b[49m\n",
      "\u001b[0;31mStopIteration\u001b[0m: "
     ]
    }
   ],
   "source": [
    "next(lst_iterator)\n",
    "# lst_iterator.__next__() # 같은코드"
   ]
  },
  {
   "cell_type": "markdown",
   "id": "62a2a4ff-f144-480d-9ed5-1a9abaee3598",
   "metadata": {
    "id": "5f858291-7505-490a-b1d5-391df0379959"
   },
   "source": [
    "`-` for문의 동작원리\n",
    "\n",
    "```python\n",
    "for i in iterable:\n",
    "    ...\n",
    "```"
   ]
  },
  {
   "cell_type": "markdown",
   "id": "42a4f232-99cc-413f-92ec-6b25df71ed14",
   "metadata": {
    "id": "534a9d9c-3627-4b7e-9a55-ceb515e641ea"
   },
   "source": [
    "1. 이터레이터생성: `.__iter__()` 혹은 `iter()`을 이용하여 iterable을 iterator로 만든다.\n",
    "\n",
    "2. $i$생성 및 반복: 1에서 만들어진 iterator에서 `.__next__()`함수를 호출하고 결과를 $i$에 저장한뒤 for문 블락안의 내용 (들여쓰기 된 내용) 을 실행한다. $\\to$ 반복한다.\n",
    "\n",
    "3. 정지: `.__next__()`함수를 호출할때 StopIteration Error가 나오면 for문을 멈춘다."
   ]
  },
  {
   "cell_type": "markdown",
   "id": "1ef05786-ef04-415d-bc56-3bab96f84923",
   "metadata": {
    "id": "48556d4f-b7dc-4493-bc46-9c08efc98c94"
   },
   "source": [
    "```{mermaid}\n",
    "\n",
    "flowchart LR\n",
    "  A[iterable] --> |\"__iter__()\"| B(iterator)\n",
    "  B --> |\"__next__()\"| C{stop?}\n",
    "  C --> |NO| D[i] --> E[...] --> B\n",
    "  C --> |YES| F[end]\n",
    "```"
   ]
  },
  {
   "cell_type": "markdown",
   "id": "133c82ed-b5e8-4490-9cdc-2422f06bcdc8",
   "metadata": {
    "id": "d55c2db0-5ef2-4177-b7b0-452b92762a55"
   },
   "source": [
    "`-` 아래의 구조도 잘 돌아갈까?\n",
    "\n",
    "```python\n",
    "for i in iterator:\n",
    "    print(i)\n",
    "```"
   ]
  },
  {
   "cell_type": "markdown",
   "id": "c642f836-ca68-4887-9c57-e77955bae5f3",
   "metadata": {
    "id": "506a529e-3540-470b-8a76-8e7f9bea6361"
   },
   "source": [
    "> iterator의 iter가 자기자신을 리턴하도록 하는 트릭을 쓰면 \"1.이터레이터생성 2.$i$생성 및 반복 3.정지\"의 동작원리를 수정하지 않고 for문을 안전하게 돌릴 수 있다."
   ]
  },
  {
   "cell_type": "markdown",
   "id": "3e555d3e-6f7c-408c-89d7-718a0ed58ecf",
   "metadata": {
    "id": "61d70b9c-1b8c-4f47-9deb-c5a1cf307758"
   },
   "source": [
    "```{mermaid}\n",
    "\n",
    "flowchart LR\n",
    "  A(iterator) --> |\"__iter__()\"| B(iterator)\n",
    "  B --> |\"__next__()\"| C{stop?}\n",
    "  C --> |NO| D[i] --> E[...] --> B\n",
    "  C --> |YES| F[end]\n",
    "```"
   ]
  },
  {
   "cell_type": "markdown",
   "id": "10bf9fda-d17c-4a8b-870b-ebbf0b0ad1c9",
   "metadata": {
    "id": "eefc4c3a-55b9-423e-8b59-4d121055aaf0"
   },
   "source": [
    "`-` 요약\n",
    "\n",
    "- iterable object는 숨겨진 기능으로 `__iter__`를 가진다.\n",
    "- iterator는 숨겨진 기능으로 `__iter__`와 `__next__`를 가진다. 따라서 정의상 iterator는 그 자체로 iterable object가 된다!\n",
    "- iterator의 `__iter__`는 자기자신을 리턴한다."
   ]
  },
  {
   "cell_type": "markdown",
   "id": "35d902a4-88c8-47aa-976f-019a179b67c9",
   "metadata": {
    "id": "b9fc8535-965c-4cfc-9f76-da872840e6c8"
   },
   "source": [
    "`-` 의문2의 해결: for의 출력결과는 어떻게 예측할 수 있을까? iterator를 만들어서 `.__next__()`의 출력값을 확인하면 알 수 있다."
   ]
  },
  {
   "cell_type": "code",
   "execution_count": null,
   "id": "12aad317-3bf4-43c0-badf-d5a9ddcf5e73",
   "metadata": {
    "id": "36465038-7850-45bc-9d7d-298f8bbb3351"
   },
   "outputs": [],
   "source": [
    "_df_itertor = iter(df)"
   ]
  },
  {
   "cell_type": "code",
   "execution_count": null,
   "id": "e0639ed1-9049-48b0-8767-4487fcfdd6bc",
   "metadata": {
    "id": "30668b93-7494-4e85-b2cc-8b5e1c07f2e9",
    "outputId": "57e9007f-10ac-493c-e10d-865c9964dba2"
   },
   "outputs": [
    {
     "data": {
      "text/plain": [
       "'x'"
      ]
     },
     "execution_count": 82,
     "metadata": {},
     "output_type": "execute_result"
    }
   ],
   "source": [
    "next(_df_itertor)"
   ]
  },
  {
   "cell_type": "code",
   "execution_count": null,
   "id": "5343c61a-a80b-420e-869d-ce7a69618b81",
   "metadata": {
    "id": "c02e70ae-24f2-4697-bd50-1d3906b49df2",
    "outputId": "97aef310-0355-4f61-97d5-8764b302aa97"
   },
   "outputs": [
    {
     "data": {
      "text/plain": [
       "'y'"
      ]
     },
     "execution_count": 83,
     "metadata": {},
     "output_type": "execute_result"
    }
   ],
   "source": [
    "next(_df_itertor)"
   ]
  },
  {
   "cell_type": "code",
   "execution_count": null,
   "id": "6e177e76-4828-4f91-bd47-7e316ac31884",
   "metadata": {
    "id": "6880e7ea-8e1a-4bc8-8e76-e184b34bad5f",
    "outputId": "732ac58c-cf5b-45c4-8ddb-f21a44d5187e"
   },
   "outputs": [
    {
     "ename": "StopIteration",
     "evalue": "",
     "output_type": "error",
     "traceback": [
      "\u001b[0;31m---------------------------------------------------------------------------\u001b[0m",
      "\u001b[0;31mStopIteration\u001b[0m                             Traceback (most recent call last)",
      "Cell \u001b[0;32mIn[84], line 1\u001b[0m\n\u001b[0;32m----> 1\u001b[0m \u001b[38;5;28;43mnext\u001b[39;49m\u001b[43m(\u001b[49m\u001b[43m_df_itertor\u001b[49m\u001b[43m)\u001b[49m\n",
      "\u001b[0;31mStopIteration\u001b[0m: "
     ]
    }
   ],
   "source": [
    "next(_df_itertor)"
   ]
  },
  {
   "cell_type": "markdown",
   "id": "654296af-88a1-4a31-92b1-e00bdbbc12b7",
   "metadata": {
    "id": "ab8e10d4-734e-4532-b9ba-31dfb500bfc2"
   },
   "source": [
    "## C. 사용자정의 이터레이터"
   ]
  },
  {
   "cell_type": "markdown",
   "id": "7438f250-a415-4211-8def-1354233b5983",
   "metadata": {
    "id": "d0675324-bb01-4df8-a74f-7bccc27d4b6c"
   },
   "source": [
    "`-` 내가 이터레이터를 만들어보자."
   ]
  },
  {
   "cell_type": "markdown",
   "id": "f1ae1a27-211d-48b1-9697-899fe1504cb7",
   "metadata": {
    "id": "f128d58a-fc98-4234-8b08-68fabb66a241"
   },
   "source": [
    "`-` 찌를 내는 순간 for문이 멈추도록 하는 이터레이터를 만들자."
   ]
  },
  {
   "cell_type": "code",
   "execution_count": null,
   "id": "bcce9d0d-dbd1-40ee-b8fd-12ff3833f680",
   "metadata": {
    "id": "2f51c263-fad2-4f51-83fb-df8f8844687f"
   },
   "outputs": [],
   "source": [
    "class RPS_ITERATOR: # 찌를 내는순간 for문이 멈추도록 하는 이터레이터를 만들자\n",
    "    def __init__(self):\n",
    "        self.candidate = [\"묵\",\"찌\",\"빠\"]\n",
    "    def __iter__(self):\n",
    "        return self\n",
    "    def __next__(self):\n",
    "        action = np.random.choice(self.candidate)\n",
    "        if action == \"찌\":\n",
    "            print(\"찌가 나와서 for문을 멈춥니다\")\n",
    "            raise StopIteration\n",
    "        else:\n",
    "            return action"
   ]
  },
  {
   "cell_type": "code",
   "execution_count": null,
   "id": "7cfd307c-2b1b-4e12-91a5-e49d9024f3e4",
   "metadata": {
    "id": "3b046906-92a8-4bbd-ba39-75d4aee6be87"
   },
   "outputs": [],
   "source": [
    "a = RPS_ITERATOR()"
   ]
  },
  {
   "cell_type": "code",
   "execution_count": null,
   "id": "59b2ca3e-6bb3-4f91-9dc8-c4f2c51778fb",
   "metadata": {
    "id": "0356608f-a756-4a08-aa76-837bf05bbe1d",
    "outputId": "d8bf6093-172c-4baf-8ee9-2ca476bb393d"
   },
   "outputs": [
    {
     "data": {
      "text/plain": [
       "'빠'"
      ]
     },
     "execution_count": 89,
     "metadata": {},
     "output_type": "execute_result"
    }
   ],
   "source": [
    "a.__next__()"
   ]
  },
  {
   "cell_type": "code",
   "execution_count": null,
   "id": "de7b202c-6104-466a-8060-56df27810bce",
   "metadata": {
    "id": "1b33cb7e-32ab-4bee-bb2f-ad4a8bbe702b",
    "outputId": "b4419d44-caae-45bb-b069-2488c56c6fbd"
   },
   "outputs": [
    {
     "data": {
      "text/plain": [
       "'묵'"
      ]
     },
     "execution_count": 90,
     "metadata": {},
     "output_type": "execute_result"
    }
   ],
   "source": [
    "a.__next__()"
   ]
  },
  {
   "cell_type": "code",
   "execution_count": null,
   "id": "05a28350-d743-488d-945d-dd0a7b29bd04",
   "metadata": {
    "id": "bec9cf1a-0c7e-425b-afb5-8a6768d7c845",
    "outputId": "ebf69096-df33-46dd-ed50-1f8960caabaa"
   },
   "outputs": [
    {
     "data": {
      "text/plain": [
       "'묵'"
      ]
     },
     "execution_count": 91,
     "metadata": {},
     "output_type": "execute_result"
    }
   ],
   "source": [
    "a.__next__()"
   ]
  },
  {
   "cell_type": "code",
   "execution_count": null,
   "id": "19ff6fe7-3457-4e20-8f34-728c81bdd660",
   "metadata": {
    "id": "6d32df3e-4d94-4d09-945c-d207d385e7ea",
    "outputId": "f8db5e19-b822-4657-bd02-861ff34967b4"
   },
   "outputs": [
    {
     "name": "stdout",
     "output_type": "stream",
     "text": [
      "찌가 나와서 for문을 멈춥니다\n"
     ]
    },
    {
     "ename": "StopIteration",
     "evalue": "",
     "output_type": "error",
     "traceback": [
      "\u001b[0;31m---------------------------------------------------------------------------\u001b[0m",
      "\u001b[0;31mStopIteration\u001b[0m                             Traceback (most recent call last)",
      "Cell \u001b[0;32mIn[92], line 1\u001b[0m\n\u001b[0;32m----> 1\u001b[0m \u001b[43ma\u001b[49m\u001b[38;5;241;43m.\u001b[39;49m\u001b[38;5;21;43m__next__\u001b[39;49m\u001b[43m(\u001b[49m\u001b[43m)\u001b[49m\n",
      "Cell \u001b[0;32mIn[86], line 10\u001b[0m, in \u001b[0;36mRPS_ITERATOR.__next__\u001b[0;34m(self)\u001b[0m\n\u001b[1;32m      8\u001b[0m \u001b[38;5;28;01mif\u001b[39;00m action \u001b[38;5;241m==\u001b[39m \u001b[38;5;124m\"\u001b[39m\u001b[38;5;124m찌\u001b[39m\u001b[38;5;124m\"\u001b[39m:\n\u001b[1;32m      9\u001b[0m     \u001b[38;5;28mprint\u001b[39m(\u001b[38;5;124m\"\u001b[39m\u001b[38;5;124m찌가 나와서 for문을 멈춥니다\u001b[39m\u001b[38;5;124m\"\u001b[39m)\n\u001b[0;32m---> 10\u001b[0m     \u001b[38;5;28;01mraise\u001b[39;00m \u001b[38;5;167;01mStopIteration\u001b[39;00m\n\u001b[1;32m     11\u001b[0m \u001b[38;5;28;01melse\u001b[39;00m:\n\u001b[1;32m     12\u001b[0m     \u001b[38;5;28;01mreturn\u001b[39;00m action\n",
      "\u001b[0;31mStopIteration\u001b[0m: "
     ]
    }
   ],
   "source": [
    "a.__next__()"
   ]
  },
  {
   "cell_type": "code",
   "execution_count": null,
   "id": "636d0f71-012b-4dd0-8073-1942db5c4c09",
   "metadata": {
    "id": "93d632ec-5416-44e8-8441-8863e7771c3b",
    "outputId": "a9047f03-7eef-4704-cf4c-b6db35973846"
   },
   "outputs": [
    {
     "name": "stdout",
     "output_type": "stream",
     "text": [
      "빠\n",
      "묵\n",
      "묵\n",
      "빠\n",
      "빠\n",
      "찌가 나와서 for문을 멈춥니다\n"
     ]
    }
   ],
   "source": [
    "for i in a:\n",
    "    print(i)"
   ]
  },
  {
   "cell_type": "markdown",
   "id": "4eb68cbe-03d3-415f-b05d-a60d972d8ef9",
   "metadata": {
    "id": "542b606c-4b34-4545-9389-28e9b575afbf"
   },
   "source": [
    "## D. range()"
   ]
  },
  {
   "cell_type": "markdown",
   "id": "96b5ed65-d528-48a6-845b-c9d8c984271b",
   "metadata": {
    "id": "b7b1fee3-ba0f-4c4e-b939-a25c37414442"
   },
   "source": [
    "`-` 파이썬에서 for문을 처음 배울 때: range(5)를 써라!"
   ]
  },
  {
   "cell_type": "code",
   "execution_count": null,
   "id": "f335d21c-de80-4ec7-8d61-19cb4f9f6cf5",
   "metadata": {
    "id": "91bfd470-e70b-4fcb-a2c3-abea705292f0",
    "outputId": "b6ec1eae-f076-47b5-e059-f59dd48258a1"
   },
   "outputs": [
    {
     "name": "stdout",
     "output_type": "stream",
     "text": [
      "0\n",
      "1\n",
      "2\n",
      "3\n",
      "4\n"
     ]
    }
   ],
   "source": [
    "for i in range(5):\n",
    "    print(i)"
   ]
  },
  {
   "cell_type": "markdown",
   "id": "f0435393-12b9-41c8-a7cf-5f6ae8997634",
   "metadata": {
    "id": "c6bc5e3f-ed80-4ceb-b05c-dd2f7b736a1c"
   },
   "source": [
    "- range(5)가 도데체 무엇이길래?"
   ]
  },
  {
   "cell_type": "markdown",
   "id": "e9f25adb-f078-431b-81fd-cd68dbfef11f",
   "metadata": {
    "id": "c805f9ab-b817-436c-bb64-b3d22efbc098"
   },
   "source": [
    "`-` `range(5)`의 정체는 그냥 iterable object이다."
   ]
  },
  {
   "cell_type": "code",
   "execution_count": null,
   "id": "bffe46cc-6825-4bc1-a85d-1d2cc875ecd9",
   "metadata": {
    "id": "aee229a8-0e90-47e2-8fb9-f8fd85946bec",
    "outputId": "a0c6afea-850c-45e9-e323-03ec6c061dc1"
   },
   "outputs": [
    {
     "data": {
      "text/plain": [
       "{'__iter__'}"
      ]
     },
     "execution_count": 101,
     "metadata": {},
     "output_type": "execute_result"
    }
   ],
   "source": [
    "set(dir(range(5))) & {'__iter__','__next__'}"
   ]
  },
  {
   "cell_type": "markdown",
   "id": "79e2bdd0-fe16-4042-b5b3-b58b7f3571d6",
   "metadata": {
    "id": "815a8c23-b72f-47dc-b3fc-8ee570267d81"
   },
   "source": [
    "`-` 그래서 언제든지 iterator로 바꿀 수 있다."
   ]
  },
  {
   "cell_type": "code",
   "execution_count": null,
   "id": "729e15b7-f06a-4a3e-9286-8a299603b4d0",
   "metadata": {
    "id": "d677e733-4e89-4ead-8a3c-e1077c87d40e",
    "outputId": "8a8b7e9d-9e46-4f9d-881c-2533bf70ea03"
   },
   "outputs": [
    {
     "data": {
      "text/plain": [
       "<range_iterator at 0x7f9a8e84f5d0>"
      ]
     },
     "execution_count": 102,
     "metadata": {},
     "output_type": "execute_result"
    }
   ],
   "source": [
    "rtor= iter(range(5))\n",
    "rtor"
   ]
  },
  {
   "cell_type": "code",
   "execution_count": null,
   "id": "8060202f-76b5-4036-bbf6-ef374fdabfb4",
   "metadata": {
    "id": "f37ac9f2-b5f6-4c4c-8bef-028479339141",
    "outputId": "9eb3516a-d4cc-423d-dc35-4a1af978c711"
   },
   "outputs": [
    {
     "data": {
      "text/plain": [
       "{'__iter__', '__next__'}"
      ]
     },
     "execution_count": 103,
     "metadata": {},
     "output_type": "execute_result"
    }
   ],
   "source": [
    "set(dir(rtor)) &  {'__iter__','__next__'}"
   ]
  },
  {
   "cell_type": "markdown",
   "id": "0f5655ba-fc3e-48c1-9fab-922f3a0cc858",
   "metadata": {
    "id": "c2a1491d-bcb7-4b77-89b2-66189860eedf"
   },
   "source": [
    "`-` for문에서 range(5)가 행동하는 방법?"
   ]
  },
  {
   "cell_type": "code",
   "execution_count": null,
   "id": "7ce9b1f0-f4eb-4ad7-9a24-72f75749f317",
   "metadata": {
    "id": "3053bffb-861a-4e68-8ad2-521454d9ffb5"
   },
   "outputs": [],
   "source": [
    "rtor = iter(range(5))"
   ]
  },
  {
   "cell_type": "code",
   "execution_count": null,
   "id": "5a8301c2-6b23-413c-b8d1-70e56b5fa748",
   "metadata": {
    "id": "6f1e13d8-c8d6-4f67-afaf-b5fa26256659",
    "outputId": "b0791a36-af39-4d38-ff7c-67e37aefebfb"
   },
   "outputs": [
    {
     "data": {
      "text/plain": [
       "0"
      ]
     },
     "execution_count": 105,
     "metadata": {},
     "output_type": "execute_result"
    }
   ],
   "source": [
    "rtor.__next__()"
   ]
  },
  {
   "cell_type": "code",
   "execution_count": null,
   "id": "fc67b2af-0d41-49db-a22c-9e52f38c0d10",
   "metadata": {
    "id": "266c263f-39bc-4b29-a788-b3c71bc19c1a",
    "outputId": "3d4b2701-f007-4851-82f0-5e0418cc275b"
   },
   "outputs": [
    {
     "data": {
      "text/plain": [
       "1"
      ]
     },
     "execution_count": 106,
     "metadata": {},
     "output_type": "execute_result"
    }
   ],
   "source": [
    "rtor.__next__()"
   ]
  },
  {
   "cell_type": "code",
   "execution_count": null,
   "id": "38387bd4-a40e-4be2-8b6d-888b457ad0f5",
   "metadata": {
    "id": "f8c072f7-579c-4f27-9662-0fb9fc1f6826",
    "outputId": "a2645340-ecd9-486c-fde1-88d0bbb8c11a"
   },
   "outputs": [
    {
     "data": {
      "text/plain": [
       "2"
      ]
     },
     "execution_count": 107,
     "metadata": {},
     "output_type": "execute_result"
    }
   ],
   "source": [
    "rtor.__next__()"
   ]
  },
  {
   "cell_type": "code",
   "execution_count": null,
   "id": "d1f80d80-896d-4864-8215-e753e75b0790",
   "metadata": {
    "id": "f9fb7229-8628-4e01-91f7-edff221a7e96",
    "outputId": "cc3dc5a5-3e7f-4fec-da71-3f8e04fc93b9"
   },
   "outputs": [
    {
     "data": {
      "text/plain": [
       "3"
      ]
     },
     "execution_count": 108,
     "metadata": {},
     "output_type": "execute_result"
    }
   ],
   "source": [
    "rtor.__next__()"
   ]
  },
  {
   "cell_type": "code",
   "execution_count": null,
   "id": "7b82969a-9417-49d0-9d87-206f842882d1",
   "metadata": {
    "id": "18ffad6d-7345-4988-94c4-db498e140c1e",
    "outputId": "912170ff-cdb1-4dcc-f699-f0326a9e633b"
   },
   "outputs": [
    {
     "data": {
      "text/plain": [
       "4"
      ]
     },
     "execution_count": 109,
     "metadata": {},
     "output_type": "execute_result"
    }
   ],
   "source": [
    "rtor.__next__()"
   ]
  },
  {
   "cell_type": "code",
   "execution_count": null,
   "id": "4627bbe9-a586-4f68-a673-537288e144b7",
   "metadata": {
    "id": "f4c0bdec-1e2d-44aa-a645-c9fe45a48a67",
    "outputId": "b90ad135-65ea-4be9-a62d-79d0bf232fe9"
   },
   "outputs": [
    {
     "ename": "StopIteration",
     "evalue": "",
     "output_type": "error",
     "traceback": [
      "\u001b[0;31m---------------------------------------------------------------------------\u001b[0m",
      "\u001b[0;31mStopIteration\u001b[0m                             Traceback (most recent call last)",
      "Cell \u001b[0;32mIn[110], line 1\u001b[0m\n\u001b[0;32m----> 1\u001b[0m \u001b[43mrtor\u001b[49m\u001b[38;5;241;43m.\u001b[39;49m\u001b[38;5;21;43m__next__\u001b[39;49m\u001b[43m(\u001b[49m\u001b[43m)\u001b[49m\n",
      "\u001b[0;31mStopIteration\u001b[0m: "
     ]
    }
   ],
   "source": [
    "rtor.__next__()"
   ]
  },
  {
   "cell_type": "markdown",
   "id": "79e969ce-81ad-45d2-9fc3-4eb598a6d818",
   "metadata": {
    "id": "6ce4be97-3ac6-45c3-8feb-afce0fa037cd"
   },
   "source": [
    "## E. zip"
   ]
  },
  {
   "cell_type": "markdown",
   "id": "ef044dc3-53f2-4329-a61e-e007431fd277",
   "metadata": {
    "id": "21a49298-c673-47ff-9783-ad9f2b30f848"
   },
   "source": [
    "`-` 이터레이터의 개념을 알면 for문에 대한 이해도가 대폭 상승한다."
   ]
  },
  {
   "cell_type": "code",
   "execution_count": null,
   "id": "e3a0f990-1ff3-4002-9c6f-3262207c391f",
   "metadata": {
    "id": "9b639b6b-149c-4e29-88d8-fa224201f310",
    "outputId": "c63cf328-5517-4cfe-c073-d5072d38ec49"
   },
   "outputs": [
    {
     "name": "stdout",
     "output_type": "stream",
     "text": [
      "1 a\n",
      "2 b\n",
      "3 c\n"
     ]
    }
   ],
   "source": [
    "for i,j in zip([1,2,3],'abc'):\n",
    "    print(i,j)"
   ]
  },
  {
   "cell_type": "markdown",
   "id": "fbeebe9c-3540-4b94-8d32-2eb14fdc5bff",
   "metadata": {
    "id": "9158c4b6-73ee-449c-b6fe-9305801e1e83"
   },
   "source": [
    "- zip은 뭐지?"
   ]
  },
  {
   "cell_type": "code",
   "execution_count": null,
   "id": "215cf06f-6551-40b4-8de9-843be0924884",
   "metadata": {
    "id": "4f338722-e742-40fa-b109-99bdfe69c7a8",
    "outputId": "55b8aca4-933a-4fd9-e7ba-20b4dfaa61f6"
   },
   "outputs": [
    {
     "data": {
      "text/plain": [
       "<zip at 0x7f9a8e7dd5c0>"
      ]
     },
     "execution_count": 115,
     "metadata": {},
     "output_type": "execute_result"
    }
   ],
   "source": [
    "zip([1,2,3],'abc')"
   ]
  },
  {
   "cell_type": "markdown",
   "id": "9f8b3ca2-dab1-460e-ad36-2f45f3dde876",
   "metadata": {
    "id": "8aae7609-2554-42d5-8848-c740e36aee48"
   },
   "source": [
    "`-` 어차피 `for i in ????`: 의 ???? 자리는 iterable object의 자리이다."
   ]
  },
  {
   "cell_type": "code",
   "execution_count": null,
   "id": "ffb339bb-d18c-484d-8411-4dac694033d9",
   "metadata": {
    "id": "535e9f82-4120-449e-be3f-05eb46593b8e",
    "outputId": "91ce8b62-f9c3-4226-b4d1-c411a2e40bdf"
   },
   "outputs": [
    {
     "data": {
      "text/plain": [
       "{'__iter__', '__next__'}"
      ]
     },
     "execution_count": 116,
     "metadata": {},
     "output_type": "execute_result"
    }
   ],
   "source": [
    "set(dir(zip([1,2,3],'abc'))) & {'__iter__','__next__'}"
   ]
  },
  {
   "cell_type": "markdown",
   "id": "0a8f982f-f643-421f-b4b1-e6cc7c108e13",
   "metadata": {
    "id": "8a796c68-6838-4170-9a46-55aab34c379e"
   },
   "source": [
    "- `__next__()`함수가 있음 $\\to$ `zip([1,2,3],'abc')`은 그자체로 iterator 였다!"
   ]
  },
  {
   "cell_type": "code",
   "execution_count": null,
   "id": "ed240949-0e38-4106-be5b-328b93758dc9",
   "metadata": {
    "id": "a9e36aa7-b5a1-41c6-b6de-d4eda6f7f6bd"
   },
   "outputs": [],
   "source": [
    "z= zip([1,2,3],'abc')"
   ]
  },
  {
   "cell_type": "code",
   "execution_count": null,
   "id": "b8780b74-b628-4927-add6-3067c06f1ac1",
   "metadata": {
    "id": "09473d01-67ed-4121-9b8f-457b858e462c",
    "outputId": "a90e6eee-cdfe-4a55-932e-27e6ad458690"
   },
   "outputs": [
    {
     "data": {
      "text/plain": [
       "(1, 'a')"
      ]
     },
     "execution_count": 118,
     "metadata": {},
     "output_type": "execute_result"
    }
   ],
   "source": [
    "z.__next__()"
   ]
  },
  {
   "cell_type": "code",
   "execution_count": null,
   "id": "6edc36c0-1538-4952-820a-7f38413c60bf",
   "metadata": {
    "id": "da12e92b-1643-44c8-8371-a8a9163ca0ae",
    "outputId": "a4099f6a-d0d5-4879-ae50-d5a5eaeb84b5"
   },
   "outputs": [
    {
     "data": {
      "text/plain": [
       "(2, 'b')"
      ]
     },
     "execution_count": 119,
     "metadata": {},
     "output_type": "execute_result"
    }
   ],
   "source": [
    "z.__next__()"
   ]
  },
  {
   "cell_type": "code",
   "execution_count": null,
   "id": "f66cb068-5fd9-4040-ba6a-6648028d69be",
   "metadata": {
    "id": "067399f3-3017-4dc8-af9a-50d3b93b4f2e",
    "outputId": "5e795828-37c6-4320-9d19-aad2d20bcabb"
   },
   "outputs": [
    {
     "data": {
      "text/plain": [
       "(3, 'c')"
      ]
     },
     "execution_count": 120,
     "metadata": {},
     "output_type": "execute_result"
    }
   ],
   "source": [
    "z.__next__()"
   ]
  },
  {
   "cell_type": "code",
   "execution_count": null,
   "id": "8994e341-c0ce-4c4f-ba90-f3291b677a10",
   "metadata": {
    "id": "8ddb2fcb-d6c1-4c92-b8d8-1f8a469578f2",
    "outputId": "12750558-ae98-4f83-a58e-e92aa4b82ed6"
   },
   "outputs": [
    {
     "ename": "StopIteration",
     "evalue": "",
     "output_type": "error",
     "traceback": [
      "\u001b[0;31m---------------------------------------------------------------------------\u001b[0m",
      "\u001b[0;31mStopIteration\u001b[0m                             Traceback (most recent call last)",
      "Cell \u001b[0;32mIn[121], line 1\u001b[0m\n\u001b[0;32m----> 1\u001b[0m \u001b[43mz\u001b[49m\u001b[38;5;241;43m.\u001b[39;49m\u001b[38;5;21;43m__next__\u001b[39;49m\u001b[43m(\u001b[49m\u001b[43m)\u001b[49m\n",
      "\u001b[0;31mStopIteration\u001b[0m: "
     ]
    }
   ],
   "source": [
    "z.__next__()"
   ]
  },
  {
   "cell_type": "markdown",
   "id": "a97aff8d-a9b0-4a66-b000-39c50b9b15ee",
   "metadata": {
    "id": "64e93dff-61d4-499a-bcf8-2f6f55da13ad"
   },
   "source": [
    "***또다른 이해: 그러고보니까 `zip([1,2,3],'abc')`은 뭐하는 문법이지?***"
   ]
  },
  {
   "cell_type": "code",
   "execution_count": null,
   "id": "ee57ba09-94ee-4b58-b1a3-fa6768ad846e",
   "metadata": {
    "id": "7f4b88f6-e8c4-4e6d-9306-1da2f4a6a83d",
    "outputId": "fb972757-15fb-41b2-d806-6505aa717715"
   },
   "outputs": [
    {
     "data": {
      "text/plain": [
       "\u001b[0;31mInit signature:\u001b[0m \u001b[0mzip\u001b[0m\u001b[0;34m(\u001b[0m\u001b[0mself\u001b[0m\u001b[0;34m,\u001b[0m \u001b[0;34m/\u001b[0m\u001b[0;34m,\u001b[0m \u001b[0;34m*\u001b[0m\u001b[0margs\u001b[0m\u001b[0;34m,\u001b[0m \u001b[0;34m**\u001b[0m\u001b[0mkwargs\u001b[0m\u001b[0;34m)\u001b[0m\u001b[0;34m\u001b[0m\u001b[0;34m\u001b[0m\u001b[0m\n",
       "\u001b[0;31mDocstring:\u001b[0m     \n",
       "zip(*iterables) --> A zip object yielding tuples until an input is exhausted.\n",
       "\n",
       "   >>> list(zip('abcdefg', range(3), range(4)))\n",
       "   [('a', 0, 0), ('b', 1, 1), ('c', 2, 2)]\n",
       "\n",
       "The zip object yields n-length tuples, where n is the number of iterables\n",
       "passed as positional arguments to zip().  The i-th element in every tuple\n",
       "comes from the i-th iterable argument to zip().  This continues until the\n",
       "shortest argument is exhausted.\n",
       "\u001b[0;31mType:\u001b[0m           type\n",
       "\u001b[0;31mSubclasses:\u001b[0m     "
      ]
     },
     "metadata": {},
     "output_type": "display_data"
    }
   ],
   "source": [
    "zip?"
   ]
  },
  {
   "cell_type": "markdown",
   "id": "1dcaae52-5c67-4286-81a2-fcce888d7e1d",
   "metadata": {
    "id": "b251ae92-574d-4395-97df-288475f83435"
   },
   "source": [
    "- 너 클래스였어?"
   ]
  },
  {
   "cell_type": "code",
   "execution_count": null,
   "id": "2d6c2631-0c0a-478a-972b-2c186c48831a",
   "metadata": {
    "id": "f3300349-d57e-4d33-8787-fb2e10e1d9a6"
   },
   "outputs": [],
   "source": [
    "iterator_from_zip = zip.__call__([1,2,3],'abc')"
   ]
  },
  {
   "cell_type": "code",
   "execution_count": null,
   "id": "67d5890b-d095-4988-9cc8-463f2dba43e0",
   "metadata": {
    "id": "fafceb95-b673-4cb8-a862-540b585f910a",
    "outputId": "11e5c06e-a914-4d2b-dcf9-a0358a9aa55d"
   },
   "outputs": [
    {
     "name": "stdout",
     "output_type": "stream",
     "text": [
      "1 a\n",
      "2 b\n",
      "3 c\n"
     ]
    }
   ],
   "source": [
    "for i,j in iterator_from_zip:\n",
    "    print(i,j)"
   ]
  },
  {
   "cell_type": "markdown",
   "id": "63e1d9f4-01d3-4b16-aa97-824174eae936",
   "metadata": {
    "id": "2b89a65c-b6db-4977-87a1-e5bf24568751"
   },
   "source": [
    "> 파이썬의 작은 비밀: zip은 iterator를 찍어내는 클래스이다."
   ]
  },
  {
   "cell_type": "markdown",
   "id": "3e4418c4-c80c-49c0-872a-8804fd3e5b4e",
   "metadata": {
    "id": "a46ac68e-bc8c-4615-9419-8f098e7016c3",
    "tags": []
   },
   "source": [
    "## F. enumerate"
   ]
  },
  {
   "cell_type": "markdown",
   "id": "cd61a46d-ae6c-4e2a-a22c-b6c98b49c1b0",
   "metadata": {
    "id": "7b246700-9ba4-48ab-985a-52a9f713b05f"
   },
   "source": [
    "`-` zip의 짝궁으로 enumerate가 있음"
   ]
  },
  {
   "cell_type": "code",
   "execution_count": null,
   "id": "683f26ea-483d-4324-9b65-f73c6ab613e1",
   "metadata": {
    "id": "dd0a4471-a643-457e-b24d-4c65b454b114",
    "outputId": "5b1c165f-7e78-4a96-8514-bd7ce0248199"
   },
   "outputs": [
    {
     "name": "stdout",
     "output_type": "stream",
     "text": [
      "0 a\n",
      "1 b\n",
      "2 c\n"
     ]
    }
   ],
   "source": [
    "for i,s in enumerate('abc'):\n",
    "    print(i,s)"
   ]
  },
  {
   "cell_type": "markdown",
   "id": "1d36519e-f15d-46f9-bfd7-8a0dd8893e03",
   "metadata": {
    "id": "9987a3e6-6092-4af6-b45b-0bff3bac15ac"
   },
   "source": [
    "`-` `enumerate('abc')`도 문법상 iterable object 아니면 iterator 임."
   ]
  },
  {
   "cell_type": "code",
   "execution_count": null,
   "id": "32cbccf9-a57e-4bd3-b409-de263379922c",
   "metadata": {
    "id": "3f37cf2b-31bc-4732-88ec-00c0712b227a",
    "outputId": "cdfcd21e-cd80-442d-e8dd-4ef54770817e"
   },
   "outputs": [
    {
     "data": {
      "text/plain": [
       "{'__iter__', '__next__'}"
      ]
     },
     "execution_count": 130,
     "metadata": {},
     "output_type": "execute_result"
    }
   ],
   "source": [
    "set(dir(enumerate('abc'))) & {'__iter__', '__next__'}"
   ]
  },
  {
   "cell_type": "markdown",
   "id": "94ebc4e9-77af-4417-a0e7-73b4e409ad2f",
   "metadata": {
    "id": "69b4c9a9-1c58-487a-b4be-332193d58da6"
   },
   "source": [
    "- iterator 였군"
   ]
  },
  {
   "cell_type": "code",
   "execution_count": null,
   "id": "9995d1f4-441a-472f-a775-4447641b6e00",
   "metadata": {
    "id": "7a0aecad-2e5b-497f-bc50-3865f3764257"
   },
   "outputs": [],
   "source": [
    "iterator = enumerate('abc')"
   ]
  },
  {
   "cell_type": "code",
   "execution_count": null,
   "id": "8eb1297e-f79e-4046-9fff-9ba6375a1c39",
   "metadata": {
    "id": "7fde70d4-2157-479f-a5bd-9275945b4218",
    "outputId": "255c806b-3acf-4b37-8d4b-138c6c2cdbfe"
   },
   "outputs": [
    {
     "data": {
      "text/plain": [
       "(0, 'a')"
      ]
     },
     "execution_count": 132,
     "metadata": {},
     "output_type": "execute_result"
    }
   ],
   "source": [
    "next(iterator)"
   ]
  },
  {
   "cell_type": "code",
   "execution_count": null,
   "id": "2ba1e357-f66b-4162-bd8d-c144c5b6707a",
   "metadata": {
    "id": "8963f8bc-8836-4eaf-a219-1ce09ecdaeb4",
    "outputId": "2b4f0d48-8ba8-4086-d9f2-1965edff85be"
   },
   "outputs": [
    {
     "data": {
      "text/plain": [
       "(1, 'b')"
      ]
     },
     "execution_count": 133,
     "metadata": {},
     "output_type": "execute_result"
    }
   ],
   "source": [
    "next(iterator)"
   ]
  },
  {
   "cell_type": "code",
   "execution_count": null,
   "id": "ac7b9552-6ad0-4494-a5e6-8a6d60fcee9a",
   "metadata": {
    "id": "615973c0-1882-47bb-ad1a-2d367fe5a404",
    "outputId": "d56b4558-044a-4a27-9a0d-dd44b5e5f079"
   },
   "outputs": [
    {
     "data": {
      "text/plain": [
       "(2, 'c')"
      ]
     },
     "execution_count": 134,
     "metadata": {},
     "output_type": "execute_result"
    }
   ],
   "source": [
    "next(iterator)"
   ]
  },
  {
   "cell_type": "code",
   "execution_count": null,
   "id": "91b6dad4-c2d9-4917-a6cf-0ed31cc6ed93",
   "metadata": {
    "id": "8678ca9b-9d77-4434-8e41-2084dd597c95",
    "outputId": "7f3927eb-7a7b-4077-969d-5584c16389f8"
   },
   "outputs": [
    {
     "ename": "StopIteration",
     "evalue": "",
     "output_type": "error",
     "traceback": [
      "\u001b[0;31m---------------------------------------------------------------------------\u001b[0m",
      "\u001b[0;31mStopIteration\u001b[0m                             Traceback (most recent call last)",
      "Cell \u001b[0;32mIn[135], line 1\u001b[0m\n\u001b[0;32m----> 1\u001b[0m \u001b[38;5;28;43mnext\u001b[39;49m\u001b[43m(\u001b[49m\u001b[43miterator\u001b[49m\u001b[43m)\u001b[49m\n",
      "\u001b[0;31mStopIteration\u001b[0m: "
     ]
    }
   ],
   "source": [
    "next(iterator)"
   ]
  },
  {
   "cell_type": "markdown",
   "id": "adb94f16-f917-487a-902e-160e968ed700",
   "metadata": {
    "id": "99f4d059-aefb-4b0b-9407-3e618ebbab1e"
   },
   "source": [
    "`-` 참고: enumerate 는 클래스임"
   ]
  },
  {
   "cell_type": "code",
   "execution_count": null,
   "id": "8bd793a4-3ea9-453c-a1c5-7c5a0077c50d",
   "metadata": {
    "id": "0df4d6ff-6bbc-42d4-8f45-f013e6a831b7",
    "outputId": "c4adf98e-0f1e-416a-bade-7bf705f89cf7"
   },
   "outputs": [
    {
     "data": {
      "text/plain": [
       "\u001b[0;31mInit signature:\u001b[0m \u001b[0menumerate\u001b[0m\u001b[0;34m(\u001b[0m\u001b[0miterable\u001b[0m\u001b[0;34m,\u001b[0m \u001b[0mstart\u001b[0m\u001b[0;34m=\u001b[0m\u001b[0;36m0\u001b[0m\u001b[0;34m)\u001b[0m\u001b[0;34m\u001b[0m\u001b[0;34m\u001b[0m\u001b[0m\n",
       "\u001b[0;31mDocstring:\u001b[0m     \n",
       "Return an enumerate object.\n",
       "\n",
       "  iterable\n",
       "    an object supporting iteration\n",
       "\n",
       "The enumerate object yields pairs containing a count (from start, which\n",
       "defaults to zero) and a value yielded by the iterable argument.\n",
       "\n",
       "enumerate is useful for obtaining an indexed list:\n",
       "    (0, seq[0]), (1, seq[1]), (2, seq[2]), ...\n",
       "\u001b[0;31mType:\u001b[0m           type\n",
       "\u001b[0;31mSubclasses:\u001b[0m     "
      ]
     },
     "metadata": {},
     "output_type": "display_data"
    }
   ],
   "source": [
    "enumerate?"
   ]
  },
  {
   "cell_type": "markdown",
   "id": "e4408d0c-48ef-4b55-aab7-e661c1703c7c",
   "metadata": {
    "id": "ccc8b71d-a127-488a-9829-3a3f8f2a1e3a"
   },
   "source": [
    "> 파이썬의 비밀: enumerate 역시 iterator를 찍어내는 클래스다."
   ]
  },
  {
   "cell_type": "markdown",
   "id": "b4642320-71d2-4cb4-9d95-4c3820f9891c",
   "metadata": {
    "id": "f87a2b9d-83e8-4482-af28-82fb31b81f58"
   },
   "source": [
    "> 파이썬의 비밀: iterator나 iterable object만 for문과 함께 사용할 수 있다."
   ]
  },
  {
   "cell_type": "markdown",
   "id": "79340eb9-bccb-4e8b-b626-80192c2984b7",
   "metadata": {},
   "source": [
    "# 6. 클래스와 인스턴스 "
   ]
  },
  {
   "cell_type": "markdown",
   "id": "8788ef5c-9064-4262-b8f6-808ab494733b",
   "metadata": {},
   "source": [
    "## A. 예비학습 (변수의 범위)"
   ]
  },
  {
   "cell_type": "markdown",
   "id": "e803e1c8-1538-4241-a187-516db5f3164a",
   "metadata": {},
   "source": [
    "**커널을 재시작하고 아래를 관찰하자**"
   ]
  },
  {
   "cell_type": "markdown",
   "id": "fa16a633-9924-427b-bcd4-2b64792f003f",
   "metadata": {},
   "source": [
    "**예제1**"
   ]
  },
  {
   "cell_type": "markdown",
   "id": "a057c735-4037-4aad-8b89-fe79156a60e3",
   "metadata": {},
   "source": [
    "`-` 관찰1: 함수내의변수 출력 "
   ]
  },
  {
   "cell_type": "code",
   "execution_count": 1,
   "id": "1063a2f9-acff-4f61-928a-5d48af323971",
   "metadata": {},
   "outputs": [],
   "source": [
    "def f():\n",
    "    x=10 \n",
    "    print(x)"
   ]
  },
  {
   "cell_type": "code",
   "execution_count": 2,
   "id": "f49cb35a-f7bc-4f4a-9d31-d6abc41f0015",
   "metadata": {},
   "outputs": [
    {
     "name": "stdout",
     "output_type": "stream",
     "text": [
      "10\n"
     ]
    }
   ],
   "source": [
    "f()"
   ]
  },
  {
   "cell_type": "markdown",
   "id": "53155ac9-6d7d-4a75-b020-d1dc1b7bbe12",
   "metadata": {},
   "source": [
    "`-` 관찰2: 함수내의 변수가 없을 경우 출력이 되지 않음 "
   ]
  },
  {
   "cell_type": "code",
   "execution_count": 3,
   "id": "eb9fb9f4-388c-477e-950f-347cb470555b",
   "metadata": {},
   "outputs": [],
   "source": [
    "def g():\n",
    "    print(x)"
   ]
  },
  {
   "cell_type": "code",
   "execution_count": 4,
   "id": "0d22ae4f-74c9-447c-85e9-007637d33893",
   "metadata": {},
   "outputs": [
    {
     "ename": "NameError",
     "evalue": "name 'x' is not defined",
     "output_type": "error",
     "traceback": [
      "\u001b[0;31m---------------------------------------------------------------------------\u001b[0m",
      "\u001b[0;31mNameError\u001b[0m                                 Traceback (most recent call last)",
      "Input \u001b[0;32mIn [4]\u001b[0m, in \u001b[0;36m<cell line: 1>\u001b[0;34m()\u001b[0m\n\u001b[0;32m----> 1\u001b[0m \u001b[43mg\u001b[49m\u001b[43m(\u001b[49m\u001b[43m)\u001b[49m\n",
      "Input \u001b[0;32mIn [3]\u001b[0m, in \u001b[0;36mg\u001b[0;34m()\u001b[0m\n\u001b[1;32m      1\u001b[0m \u001b[38;5;28;01mdef\u001b[39;00m \u001b[38;5;21mg\u001b[39m():\n\u001b[0;32m----> 2\u001b[0m     \u001b[38;5;28mprint\u001b[39m(\u001b[43mx\u001b[49m)\n",
      "\u001b[0;31mNameError\u001b[0m: name 'x' is not defined"
     ]
    }
   ],
   "source": [
    "g()"
   ]
  },
  {
   "cell_type": "markdown",
   "id": "846eed3d-5bf4-4fd9-8096-bd3f2e1d9ea8",
   "metadata": {},
   "source": [
    "`-` 관찰3: 동일한 이름의 변수가 globald에 있다면 함수내에 (local에) 그 이름의 변수가 선언되지 않아도 global의 변수를 빌려서 사용함 "
   ]
  },
  {
   "cell_type": "code",
   "execution_count": 5,
   "id": "8f5da4f7-3235-48e9-a7cc-adc1406337c5",
   "metadata": {},
   "outputs": [],
   "source": [
    "x=20 \n",
    "def g():\n",
    "    print(x)"
   ]
  },
  {
   "cell_type": "code",
   "execution_count": 6,
   "id": "80cdc0d4-4cd0-4410-9a1b-633bd56f3e23",
   "metadata": {},
   "outputs": [
    {
     "name": "stdout",
     "output_type": "stream",
     "text": [
      "20\n"
     ]
    }
   ],
   "source": [
    "g()"
   ]
  },
  {
   "cell_type": "markdown",
   "id": "08b0136d-528f-46d2-a505-af2e13f413da",
   "metadata": {},
   "source": [
    "`-` 관찰4: f()가 실행되면서 `x=10`이 함수내에 (=local에) 실행되지만 이 결과가 외부의 x=20에 (=global에) 영향을 미치지는 못함 "
   ]
  },
  {
   "cell_type": "code",
   "execution_count": 7,
   "id": "8f9d353d-563c-49e2-8ae6-4dc37228b65b",
   "metadata": {},
   "outputs": [
    {
     "name": "stdout",
     "output_type": "stream",
     "text": [
      "10\n"
     ]
    }
   ],
   "source": [
    "f()"
   ]
  },
  {
   "cell_type": "code",
   "execution_count": 8,
   "id": "92b735ad-13b4-41f6-93a1-30f505aee656",
   "metadata": {},
   "outputs": [
    {
     "data": {
      "text/plain": [
       "20"
      ]
     },
     "execution_count": 8,
     "metadata": {},
     "output_type": "execute_result"
    }
   ],
   "source": [
    "x"
   ]
  },
  {
   "cell_type": "markdown",
   "id": "1b4b7879-3f15-4c3a-b044-0373138e468d",
   "metadata": {},
   "source": [
    "**예제2**"
   ]
  },
  {
   "cell_type": "markdown",
   "id": "ef03610b-e8c0-4470-80cf-c82254cf81c7",
   "metadata": {},
   "source": [
    "(코드1)"
   ]
  },
  {
   "cell_type": "code",
   "execution_count": 9,
   "id": "bafabcb4-c221-4455-966d-5ff9060c603d",
   "metadata": {},
   "outputs": [
    {
     "name": "stdout",
     "output_type": "stream",
     "text": [
      "38 39\n"
     ]
    }
   ],
   "source": [
    "x = 38 \n",
    "def nextyear():\n",
    "    y= x+1 \n",
    "    print(x,y) \n",
    "nextyear()"
   ]
  },
  {
   "cell_type": "markdown",
   "id": "668653b3-d7dd-477f-ad1d-e00316fb11c3",
   "metadata": {},
   "source": [
    "(코드2)"
   ]
  },
  {
   "cell_type": "code",
   "execution_count": 10,
   "id": "6ff1c916-ae82-4998-b0fb-051a05648a49",
   "metadata": {},
   "outputs": [
    {
     "ename": "UnboundLocalError",
     "evalue": "local variable 'x' referenced before assignment",
     "output_type": "error",
     "traceback": [
      "\u001b[0;31m---------------------------------------------------------------------------\u001b[0m",
      "\u001b[0;31mUnboundLocalError\u001b[0m                         Traceback (most recent call last)",
      "Input \u001b[0;32mIn [10]\u001b[0m, in \u001b[0;36m<cell line: 6>\u001b[0;34m()\u001b[0m\n\u001b[1;32m      4\u001b[0m     \u001b[38;5;28mprint\u001b[39m(x,y) \n\u001b[1;32m      5\u001b[0m     x\u001b[38;5;241m=\u001b[39m \u001b[38;5;241m0\u001b[39m\n\u001b[0;32m----> 6\u001b[0m \u001b[43mnextyear\u001b[49m\u001b[43m(\u001b[49m\u001b[43m)\u001b[49m\n",
      "Input \u001b[0;32mIn [10]\u001b[0m, in \u001b[0;36mnextyear\u001b[0;34m()\u001b[0m\n\u001b[1;32m      2\u001b[0m \u001b[38;5;28;01mdef\u001b[39;00m \u001b[38;5;21mnextyear\u001b[39m():\n\u001b[0;32m----> 3\u001b[0m     y\u001b[38;5;241m=\u001b[39m \u001b[43mx\u001b[49m\u001b[38;5;241m+\u001b[39m\u001b[38;5;241m1\u001b[39m \n\u001b[1;32m      4\u001b[0m     \u001b[38;5;28mprint\u001b[39m(x,y) \n\u001b[1;32m      5\u001b[0m     x\u001b[38;5;241m=\u001b[39m \u001b[38;5;241m0\u001b[39m\n",
      "\u001b[0;31mUnboundLocalError\u001b[0m: local variable 'x' referenced before assignment"
     ]
    }
   ],
   "source": [
    "x = 38 \n",
    "def nextyear():\n",
    "    y= x+1 \n",
    "    print(x,y) \n",
    "    x= 0\n",
    "nextyear()"
   ]
  },
  {
   "cell_type": "markdown",
   "id": "7a220402-ba75-46f7-8a02-b53f643752ac",
   "metadata": {},
   "source": [
    "`-` 해석: \n",
    "- 잘못된 해석: 코드1은 실행되었고, 코드2에서 에러가 났다. 코드1과 2의 차이점은 `x=0` 이라는 코드가 코드2에 추가로 포함되어있다는 것이다. 따라서 `x=0`이 잘못된 코드이고 이걸 실행하는 과정에서 에러가 발생했다. \n",
    "- 올바른 해석: 코드1에서는 x가 global variable 이고 코드2에서는 x가 local variable이어서 생기는 문제"
   ]
  },
  {
   "cell_type": "markdown",
   "id": "4c19df05-0524-4ed2-84b0-3c3a3c027a6f",
   "metadata": {},
   "source": [
    "`-` 코드2의 올바른 수정"
   ]
  },
  {
   "cell_type": "code",
   "execution_count": 12,
   "id": "f1486a74-b184-4b83-9f20-13f152c52454",
   "metadata": {},
   "outputs": [
    {
     "name": "stdout",
     "output_type": "stream",
     "text": [
      "0 1\n"
     ]
    }
   ],
   "source": [
    "x = 38 \n",
    "def nextyear():\n",
    "    x= 0\n",
    "    y= x+1 \n",
    "    print(x,y) \n",
    "nextyear()"
   ]
  },
  {
   "cell_type": "markdown",
   "id": "ca7d9bd6-da60-45bc-b7db-3a6e72789ab9",
   "metadata": {},
   "source": [
    "## B. 인스턴스 변수, 클래스 변수 (복습?)"
   ]
  },
  {
   "cell_type": "markdown",
   "id": "c0bfe658-96d5-4473-94b2-25bbe9780fc5",
   "metadata": {},
   "source": [
    "`-` 예비학습이 주는 교훈 \n",
    "\n",
    "(원칙1) global 에서 정의된 이름은 local 에서 정의된 이름이 없을 경우 그를 대신할 수 있다 (local은 경우에 따라서 global에 있는 변수를 빌려 쓸 수 있다) \n",
    "\n",
    "(원칙2) local과 global에서 같은 이름 'x'가 각각 정의되어 있는 경우? global의 변수와 local의 변수는 각각 따로 행동하며 서로 영향을 주지 않는다. (독립적이다) \n",
    "- 만약에 local이 global의 변수를 같이 쓰고 있었다고 할지라도, 추후 새롭게 local에 새롭게 같은 이름의 변수가 정의된다면 그 순간 local과 global의 변수를 각자 따로 행동하며 서로 영향을 주지 않는다. $\\to$ 아래예제확인"
   ]
  },
  {
   "cell_type": "code",
   "execution_count": 14,
   "id": "82f9da93-1194-452a-87d8-f584b22129db",
   "metadata": {},
   "outputs": [],
   "source": [
    "x= 10 \n",
    "def f():\n",
    "    print(x)"
   ]
  },
  {
   "cell_type": "code",
   "execution_count": 16,
   "id": "fc3e888c-dd17-4576-a36b-fb1cdd5907d6",
   "metadata": {},
   "outputs": [
    {
     "name": "stdout",
     "output_type": "stream",
     "text": [
      "10\n"
     ]
    }
   ],
   "source": [
    "f() # x를 빌려쓰는 신세"
   ]
  },
  {
   "cell_type": "code",
   "execution_count": 19,
   "id": "b0c9268b-d391-4479-ade5-92306b831086",
   "metadata": {},
   "outputs": [],
   "source": [
    "def f():\n",
    "    x=20 # 이제 새롭게 x를 정의했으니까 \n",
    "    print(x)"
   ]
  },
  {
   "cell_type": "code",
   "execution_count": 20,
   "id": "752ee368-25a6-4124-afbe-2cc85425ff9d",
   "metadata": {},
   "outputs": [
    {
     "name": "stdout",
     "output_type": "stream",
     "text": [
      "20\n"
     ]
    }
   ],
   "source": [
    "f() # 다른길을 간다."
   ]
  },
  {
   "cell_type": "markdown",
   "id": "bddaa7ae-5b15-4693-9195-7ea584bccb8d",
   "metadata": {},
   "source": [
    "`-` 이전에 공부하였던 인스턴스변수와 클래스변수 역시 비슷한 행동을 보인다. "
   ]
  },
  {
   "cell_type": "code",
   "execution_count": 30,
   "id": "a1bfcb30-5da5-43c9-8dc1-b8f00446e73b",
   "metadata": {},
   "outputs": [],
   "source": [
    "class Moo:\n",
    "    x=0 # 클래스변수"
   ]
  },
  {
   "cell_type": "code",
   "execution_count": 31,
   "id": "efb50712-e45d-421c-9675-ecc34d719d6f",
   "metadata": {},
   "outputs": [],
   "source": [
    "moo=Moo()"
   ]
  },
  {
   "cell_type": "markdown",
   "id": "69d7abdf-9af0-4ee2-bf5f-788c5f5e70be",
   "metadata": {},
   "source": [
    "(관찰1)"
   ]
  },
  {
   "cell_type": "code",
   "execution_count": 32,
   "id": "7c4e5704-2695-48e0-9be6-0e2546b55cdf",
   "metadata": {},
   "outputs": [
    {
     "data": {
      "text/plain": [
       "(0, 0)"
      ]
     },
     "execution_count": 32,
     "metadata": {},
     "output_type": "execute_result"
    }
   ],
   "source": [
    "Moo.x, moo.x"
   ]
  },
  {
   "cell_type": "markdown",
   "id": "9c3c5a7e-9327-40a3-9164-fd6e51d61a66",
   "metadata": {},
   "source": [
    "- moo.x는 사실 정의한적 없지만 Moo.x를 빌려쓰고 있다. (원칙1)"
   ]
  },
  {
   "cell_type": "markdown",
   "id": "9b6ba388-9f43-4a54-8bab-50b1ec2f7329",
   "metadata": {},
   "source": [
    "(관찰2)"
   ]
  },
  {
   "cell_type": "code",
   "execution_count": 33,
   "id": "b32a5bbc-ce81-4ac2-be69-dadec93f9979",
   "metadata": {},
   "outputs": [],
   "source": [
    "Moo.x = 100 "
   ]
  },
  {
   "cell_type": "code",
   "execution_count": 34,
   "id": "debc246d-cd50-40da-9441-1834d3ba348d",
   "metadata": {},
   "outputs": [
    {
     "data": {
      "text/plain": [
       "(100, 100)"
      ]
     },
     "execution_count": 34,
     "metadata": {},
     "output_type": "execute_result"
    }
   ],
   "source": [
    "Moo.x, moo.x"
   ]
  },
  {
   "cell_type": "markdown",
   "id": "1dc6c7cd-9e7e-47e1-8996-8224244d710e",
   "metadata": {},
   "source": [
    "- Moo.x 를 변화시키면 moo.x 도 변화한다 (빌려쓰고 있는 것이니까, 원칙1의 재확인)"
   ]
  },
  {
   "cell_type": "markdown",
   "id": "4e6d37de-2e0c-4f09-b198-cf442a03fa0c",
   "metadata": {},
   "source": [
    "(관찰3)"
   ]
  },
  {
   "cell_type": "code",
   "execution_count": 35,
   "id": "01c90a0d-36a1-4b77-a58c-ecb306fdf80b",
   "metadata": {},
   "outputs": [],
   "source": [
    "moo.x = 200"
   ]
  },
  {
   "cell_type": "code",
   "execution_count": 36,
   "id": "d8babf14-8300-487e-bd83-50b0a3901c4e",
   "metadata": {},
   "outputs": [
    {
     "data": {
      "text/plain": [
       "(100, 200)"
      ]
     },
     "execution_count": 36,
     "metadata": {},
     "output_type": "execute_result"
    }
   ],
   "source": [
    "Moo.x, moo.x"
   ]
  },
  {
   "cell_type": "markdown",
   "id": "2e1b20bc-635a-4f62-9642-fbd13dbbcb97",
   "metadata": {},
   "source": [
    "- moo.x=200을 하는 순간 새롭게 인스턴스변수를 선언한 셈이된다. 따라서 원칙2가 적용되어 이제부터 Moo.x 와 moo.x 는 서로 독립적으로 행동한다. "
   ]
  },
  {
   "cell_type": "markdown",
   "id": "b5e48790-bcd5-4f0f-a12e-fb48e1de50d3",
   "metadata": {},
   "source": [
    "(관찰4)"
   ]
  },
  {
   "cell_type": "code",
   "execution_count": 38,
   "id": "b73a0e43-1030-41d3-b9e0-e880bbf735c7",
   "metadata": {},
   "outputs": [],
   "source": [
    "Moo.x = - 99 "
   ]
  },
  {
   "cell_type": "code",
   "execution_count": 39,
   "id": "995add9d-b65a-4273-9fff-e3d57c4d6ca9",
   "metadata": {},
   "outputs": [
    {
     "data": {
      "text/plain": [
       "(-99, 200)"
      ]
     },
     "execution_count": 39,
     "metadata": {},
     "output_type": "execute_result"
    }
   ],
   "source": [
    "Moo.x, moo.x "
   ]
  },
  {
   "cell_type": "code",
   "execution_count": 40,
   "id": "02849c05-1f6c-44eb-98b3-ed6e86cec178",
   "metadata": {},
   "outputs": [],
   "source": [
    "moo.x = 99"
   ]
  },
  {
   "cell_type": "code",
   "execution_count": 41,
   "id": "5d19c1f8-7f7c-4ece-ab27-789b2fe6fa63",
   "metadata": {},
   "outputs": [
    {
     "data": {
      "text/plain": [
       "(-99, 99)"
      ]
     },
     "execution_count": 41,
     "metadata": {},
     "output_type": "execute_result"
    }
   ],
   "source": [
    "Moo.x, moo.x "
   ]
  },
  {
   "cell_type": "markdown",
   "id": "7bcfcbea-ff89-409f-a712-9afe44a756b7",
   "metadata": {},
   "source": [
    "- Moo.x 를 바꾼다고 해서 moo.x 가 영향받지 않고 moo.x 를 바꿔도 Moo.x 가 영향받지 않음 (완전히 독립, 원칙2의 재확인) "
   ]
  },
  {
   "cell_type": "markdown",
   "id": "e1344c63-9392-4937-ae0e-3523d98cddbc",
   "metadata": {},
   "source": [
    "`-` 포인트: (1) 클래스변수와 인스턴스 변수의 구분 (2) 인스턴스 변수가 정의되지 않으면 클래스변수를 빌려쓸 수 있음 (3) 인스턴스변수와 클래스변수가 같은 이름으로 저장되어 있으면 각각 독립적으로 행동"
   ]
  },
  {
   "cell_type": "markdown",
   "id": "b461e106-e67d-41ce-bf0d-23bf654aa757",
   "metadata": {},
   "source": [
    "## C. 인스턴스 메서드"
   ]
  },
  {
   "cell_type": "markdown",
   "id": "dd1a1e3f-4072-4f28-9a25-22e8ac95db25",
   "metadata": {},
   "source": [
    "`-` self 비밀: 사실 클래스에서 정의된 함수의 첫번째 인자의 이름이 꼭 self일 필요는 없다. (무엇으로 전달하든 클래스안에서 정의된 메소드의 첫번째 인자는 기본적으로 instance의 태명역할을 한다) "
   ]
  },
  {
   "cell_type": "code",
   "execution_count": 55,
   "id": "ef4a118f-9302-487f-bdbe-d76a2440efad",
   "metadata": {},
   "outputs": [],
   "source": [
    "class Moo: \n",
    "    def __init__(abab):\n",
    "        abab.name = 'guebin'\n",
    "    def f(cdcd):\n",
    "        print(cdcd.name)"
   ]
  },
  {
   "cell_type": "code",
   "execution_count": 56,
   "id": "338e3991-c09b-4be4-a336-f112bcff6781",
   "metadata": {},
   "outputs": [],
   "source": [
    "moo=Moo()"
   ]
  },
  {
   "cell_type": "code",
   "execution_count": 57,
   "id": "3276fb3f-0ab8-488a-b703-2a5b4acc7441",
   "metadata": {},
   "outputs": [
    {
     "data": {
      "text/plain": [
       "'guebin'"
      ]
     },
     "execution_count": 57,
     "metadata": {},
     "output_type": "execute_result"
    }
   ],
   "source": [
    "moo.name"
   ]
  },
  {
   "cell_type": "code",
   "execution_count": 58,
   "id": "ee124f92-9c31-4afb-9e51-77b78613f37b",
   "metadata": {},
   "outputs": [
    {
     "name": "stdout",
     "output_type": "stream",
     "text": [
      "guebin\n"
     ]
    }
   ],
   "source": [
    "moo.f()"
   ]
  },
  {
   "cell_type": "markdown",
   "id": "a07fa277-9285-4de8-b1af-f98d6b0df5dd",
   "metadata": {},
   "source": [
    "`-` 인스턴스 메서드: 위의 `__init__`와 `f`와 같이 첫번째 인자를 인스턴스의 태명으로 받는 함수를 인스턴스 메서드 (간단히 메서드) 라고 한다. \n",
    "- 인스턴스 메소드는` self.f()`와 같이 사용한다. 의미는 `f(self)` 이다. "
   ]
  },
  {
   "cell_type": "code",
   "execution_count": 60,
   "id": "227ba44a-2a05-41bc-9ecd-95e78ae520a2",
   "metadata": {},
   "outputs": [],
   "source": [
    "moo.name = 'hynn'"
   ]
  },
  {
   "cell_type": "code",
   "execution_count": 64,
   "id": "20cd011f-3382-4bc2-96d8-4483f3ae4e4c",
   "metadata": {},
   "outputs": [],
   "source": [
    "moo.__init__() # 인스턴스메서드의 사용예시: self.__init__()의 꼴로 사용 "
   ]
  },
  {
   "cell_type": "code",
   "execution_count": 65,
   "id": "06327e8a-8e3a-4976-9e9c-7809d2352fc7",
   "metadata": {},
   "outputs": [
    {
     "data": {
      "text/plain": [
       "'guebin'"
      ]
     },
     "execution_count": 65,
     "metadata": {},
     "output_type": "execute_result"
    }
   ],
   "source": [
    "moo.name"
   ]
  },
  {
   "cell_type": "code",
   "execution_count": 67,
   "id": "f80fa957-3c4d-449e-93ca-2367428d611e",
   "metadata": {},
   "outputs": [
    {
     "name": "stdout",
     "output_type": "stream",
     "text": [
      "guebin\n"
     ]
    }
   ],
   "source": [
    "moo.f() # 인스턴스메서드의 사용예시: self.__init__()의 꼴로 사용 "
   ]
  },
  {
   "cell_type": "markdown",
   "id": "2be1d70f-9e1e-498e-b02a-1d8315333799",
   "metadata": {},
   "source": [
    "`-` 아래와 같이 사용할 수 없다. "
   ]
  },
  {
   "cell_type": "code",
   "execution_count": 70,
   "id": "5aa98bd2-a3a1-41b8-b3c0-566c988c7e53",
   "metadata": {},
   "outputs": [
    {
     "ename": "TypeError",
     "evalue": "__init__() missing 1 required positional argument: 'abab'",
     "output_type": "error",
     "traceback": [
      "\u001b[0;31m---------------------------------------------------------------------------\u001b[0m",
      "\u001b[0;31mTypeError\u001b[0m                                 Traceback (most recent call last)",
      "Input \u001b[0;32mIn [70]\u001b[0m, in \u001b[0;36m<cell line: 1>\u001b[0;34m()\u001b[0m\n\u001b[0;32m----> 1\u001b[0m \u001b[43mMoo\u001b[49m\u001b[38;5;241;43m.\u001b[39;49m\u001b[38;5;21;43m__init__\u001b[39;49m\u001b[43m(\u001b[49m\u001b[43m)\u001b[49m\n",
      "\u001b[0;31mTypeError\u001b[0m: __init__() missing 1 required positional argument: 'abab'"
     ]
    }
   ],
   "source": [
    "Moo.__init__()"
   ]
  },
  {
   "cell_type": "code",
   "execution_count": 71,
   "id": "911d66b7-3a0d-410b-acc7-e6059c67dc84",
   "metadata": {},
   "outputs": [
    {
     "ename": "TypeError",
     "evalue": "f() missing 1 required positional argument: 'cdcd'",
     "output_type": "error",
     "traceback": [
      "\u001b[0;31m---------------------------------------------------------------------------\u001b[0m",
      "\u001b[0;31mTypeError\u001b[0m                                 Traceback (most recent call last)",
      "Input \u001b[0;32mIn [71]\u001b[0m, in \u001b[0;36m<cell line: 1>\u001b[0;34m()\u001b[0m\n\u001b[0;32m----> 1\u001b[0m \u001b[43mMoo\u001b[49m\u001b[38;5;241;43m.\u001b[39;49m\u001b[43mf\u001b[49m\u001b[43m(\u001b[49m\u001b[43m)\u001b[49m\n",
      "\u001b[0;31mTypeError\u001b[0m: f() missing 1 required positional argument: 'cdcd'"
     ]
    }
   ],
   "source": [
    "Moo.f()"
   ]
  },
  {
   "cell_type": "markdown",
   "id": "ea7f1d7f-af8d-4c72-be2b-eef3a6bde4ae",
   "metadata": {},
   "source": [
    "## D. 클래스 메서드"
   ]
  },
  {
   "cell_type": "markdown",
   "id": "74183489-7442-4abb-91d4-3dd8b4f81a38",
   "metadata": {},
   "source": [
    "`-` 클래스 메서드: 함수의 첫 인자로 클래스오브젝트를 받는 메서드를 클래스메서드라고 한다. "
   ]
  },
  {
   "cell_type": "markdown",
   "id": "e2c263eb-402a-470b-adfe-6e831b324688",
   "metadata": {},
   "source": [
    "`-` 목표: `Moo.f()`와 같은 형태로 사용할 수 있는 함수를 만들어 보자 -> 클래스메서드를 만들어보자!"
   ]
  },
  {
   "cell_type": "code",
   "execution_count": 72,
   "id": "04270ac7-3368-4ef0-b23a-a08a7f2dc26f",
   "metadata": {},
   "outputs": [],
   "source": [
    "class Moo: \n",
    "    def f(self):\n",
    "        print(\"인스턴스 메서드\")"
   ]
  },
  {
   "cell_type": "code",
   "execution_count": 73,
   "id": "5e37fe51-b5ef-4863-94f2-14cec054cf7b",
   "metadata": {},
   "outputs": [],
   "source": [
    "moo=Moo()"
   ]
  },
  {
   "cell_type": "code",
   "execution_count": 74,
   "id": "2becc3a4-bb61-4e18-899b-4c6896238fb4",
   "metadata": {},
   "outputs": [
    {
     "name": "stdout",
     "output_type": "stream",
     "text": [
      "인스턴스 메서드\n"
     ]
    }
   ],
   "source": [
    "moo.f()"
   ]
  },
  {
   "cell_type": "code",
   "execution_count": 75,
   "id": "646a7347-49fd-44bc-91a3-3e1366ba5eae",
   "metadata": {},
   "outputs": [
    {
     "ename": "TypeError",
     "evalue": "f() missing 1 required positional argument: 'self'",
     "output_type": "error",
     "traceback": [
      "\u001b[0;31m---------------------------------------------------------------------------\u001b[0m",
      "\u001b[0;31mTypeError\u001b[0m                                 Traceback (most recent call last)",
      "Input \u001b[0;32mIn [75]\u001b[0m, in \u001b[0;36m<cell line: 1>\u001b[0;34m()\u001b[0m\n\u001b[0;32m----> 1\u001b[0m \u001b[43mMoo\u001b[49m\u001b[38;5;241;43m.\u001b[39;49m\u001b[43mf\u001b[49m\u001b[43m(\u001b[49m\u001b[43m)\u001b[49m\n",
      "\u001b[0;31mTypeError\u001b[0m: f() missing 1 required positional argument: 'self'"
     ]
    }
   ],
   "source": [
    "Moo.f()"
   ]
  },
  {
   "cell_type": "code",
   "execution_count": 77,
   "id": "6f9735c8-312f-4764-86be-79647f1b8b83",
   "metadata": {},
   "outputs": [],
   "source": [
    "class Moo: \n",
    "    @classmethod\n",
    "    def f(cls): # 함수의 첫 인자로 클래스오브젝트를 받는다. cls는 클래스 Moo의 별명?이라고 생각하면 된다. \n",
    "        print(\"클래스 메서드\")"
   ]
  },
  {
   "cell_type": "code",
   "execution_count": 78,
   "id": "9a53c3fc-1429-415a-b6d8-1dc724c07d65",
   "metadata": {},
   "outputs": [],
   "source": [
    "moo=Moo()"
   ]
  },
  {
   "cell_type": "code",
   "execution_count": 79,
   "id": "30d5c2fa-67d0-42f7-9104-c1a54297a486",
   "metadata": {},
   "outputs": [
    {
     "name": "stdout",
     "output_type": "stream",
     "text": [
      "클래스 메서드\n"
     ]
    }
   ],
   "source": [
    "Moo.f()"
   ]
  },
  {
   "cell_type": "code",
   "execution_count": 81,
   "id": "0fd2eee8-bd20-42e1-a908-35a8ffe9ac10",
   "metadata": {},
   "outputs": [
    {
     "name": "stdout",
     "output_type": "stream",
     "text": [
      "클래스 메서드\n"
     ]
    }
   ],
   "source": [
    "moo.f() # 인스턴스 메서드를 따로 정의한적은 없지만 같은 이름의 클래스 메서드가 있으므로 빌려와서 씀!"
   ]
  },
  {
   "cell_type": "markdown",
   "id": "b69c4810-2d1f-4827-98af-81cd35212454",
   "metadata": {},
   "source": [
    "`-` 예제"
   ]
  },
  {
   "cell_type": "code",
   "execution_count": 94,
   "id": "e84c9ff3-fa40-4f08-9e70-52abc1af55ea",
   "metadata": {},
   "outputs": [],
   "source": [
    "class Moo:\n",
    "    @classmethod\n",
    "    def set_class_x(cls,value): # 클래스 메서드 \n",
    "        cls.x = value # 클래스변수선언, note: Moo.x = value 와 같은 코드!\n",
    "    def set_instance_x(self,value): # 인스턴스 메서드\n",
    "        self.x = value # 인스턴스 변수선언"
   ]
  },
  {
   "cell_type": "code",
   "execution_count": 95,
   "id": "7f6b370c-b36b-4591-8610-6c512cd4c9e6",
   "metadata": {},
   "outputs": [],
   "source": [
    "moo=Moo()"
   ]
  },
  {
   "cell_type": "code",
   "execution_count": 96,
   "id": "d7712874-3341-4588-8334-6864db7c3a71",
   "metadata": {},
   "outputs": [],
   "source": [
    "Moo.set_class_x(10) # 클래스메서드로 클래스변수에 10을 설정 "
   ]
  },
  {
   "cell_type": "code",
   "execution_count": 97,
   "id": "dbd56a08-bd1d-4bcf-b176-c53b98ad2661",
   "metadata": {},
   "outputs": [
    {
     "ename": "TypeError",
     "evalue": "set_instance_x() missing 1 required positional argument: 'value'",
     "output_type": "error",
     "traceback": [
      "\u001b[0;31m---------------------------------------------------------------------------\u001b[0m",
      "\u001b[0;31mTypeError\u001b[0m                                 Traceback (most recent call last)",
      "Input \u001b[0;32mIn [97]\u001b[0m, in \u001b[0;36m<cell line: 1>\u001b[0;34m()\u001b[0m\n\u001b[0;32m----> 1\u001b[0m \u001b[43mMoo\u001b[49m\u001b[38;5;241;43m.\u001b[39;49m\u001b[43mset_instance_x\u001b[49m\u001b[43m(\u001b[49m\u001b[38;5;241;43m10\u001b[39;49m\u001b[43m)\u001b[49m\n",
      "\u001b[0;31mTypeError\u001b[0m: set_instance_x() missing 1 required positional argument: 'value'"
     ]
    }
   ],
   "source": [
    "Moo.set_instance_x(10) # 클래스에서 인스턴스 메서드를 사용 -> 사용불가"
   ]
  },
  {
   "cell_type": "code",
   "execution_count": 98,
   "id": "c271e1c2-31ce-4f45-8cc6-a64378643f60",
   "metadata": {},
   "outputs": [
    {
     "data": {
      "text/plain": [
       "(10, 10)"
      ]
     },
     "execution_count": 98,
     "metadata": {},
     "output_type": "execute_result"
    }
   ],
   "source": [
    "Moo.x, moo.x # 인스턴스변수는 따로 설정하지 않았지만 클래스 변수값을 빌려쓰고 있음"
   ]
  },
  {
   "cell_type": "code",
   "execution_count": 101,
   "id": "0f63a20f-7c23-4a9e-9260-a93f66e7160f",
   "metadata": {},
   "outputs": [],
   "source": [
    "moo.set_class_x(20) # 인스턴스에서는 원래 set_class_x 라는 메서드는 없지만 클래스에서 빌려씀 "
   ]
  },
  {
   "cell_type": "code",
   "execution_count": 103,
   "id": "b556b3e3-d99e-491b-ae39-0140ee7b9388",
   "metadata": {},
   "outputs": [
    {
     "data": {
      "text/plain": [
       "(20, 20)"
      ]
     },
     "execution_count": 103,
     "metadata": {},
     "output_type": "execute_result"
    }
   ],
   "source": [
    "Moo.x, moo.x # 현재 moo.x는 클래스 변수를 빌려쓰고 있는 상황이므로 같이 바뀜 "
   ]
  },
  {
   "cell_type": "code",
   "execution_count": 106,
   "id": "7ad78815-c66d-463f-9324-6dcfbe6efeef",
   "metadata": {},
   "outputs": [],
   "source": [
    "moo.set_instance_x(-20) # 인스턴스에서 인스턴스 메서드를 사용하여 인스턴스 변수값을 -20으로 설정 \n",
    "#-> 이때부터 인스턴스변수와 클래스 변수는 서로 독립적인 노선을 간다."
   ]
  },
  {
   "cell_type": "code",
   "execution_count": 107,
   "id": "cf8bebdd-2550-48d4-8a19-b517d0ba6ddb",
   "metadata": {},
   "outputs": [
    {
     "data": {
      "text/plain": [
       "(20, -20)"
      ]
     },
     "execution_count": 107,
     "metadata": {},
     "output_type": "execute_result"
    }
   ],
   "source": [
    "Moo.x, moo.x"
   ]
  },
  {
   "cell_type": "code",
   "execution_count": 111,
   "id": "4c4060da-346b-4a0a-bf05-309937689000",
   "metadata": {},
   "outputs": [
    {
     "data": {
      "text/plain": [
       "(30, -20)"
      ]
     },
     "execution_count": 111,
     "metadata": {},
     "output_type": "execute_result"
    }
   ],
   "source": [
    "Moo.set_class_x(30) # 독립적인 노선을 가기로 했으므로 클래스변수만 30으로 바뀜 \n",
    "Moo.x, moo.x"
   ]
  },
  {
   "cell_type": "code",
   "execution_count": 113,
   "id": "41f5d777-cbca-4317-8ea0-92fbed4ffd0f",
   "metadata": {},
   "outputs": [
    {
     "data": {
      "text/plain": [
       "(-40, -20)"
      ]
     },
     "execution_count": 113,
     "metadata": {},
     "output_type": "execute_result"
    }
   ],
   "source": [
    "moo.set_class_x(-40) # 여전히 인스턴스에서 set_class_x라는 함수는 없으므로 클래스메소드를 빌려쓰고 있음\n",
    "Moo.x, moo.x"
   ]
  },
  {
   "cell_type": "markdown",
   "id": "fae87cdf-7fb1-47b1-b3b3-61a43b4252d6",
   "metadata": {},
   "source": [
    "## F. 스태틱 메서드"
   ]
  },
  {
   "cell_type": "markdown",
   "id": "5c50ef03-800d-4b6e-a2b8-3c94dcd87b43",
   "metadata": {},
   "source": [
    "`-` 스태틱 메서드: 첫 인자로 인스턴스와 클래스 모두 받지 않음. (클래스안에 정의되어 있지만 그냥 함수와 같음)"
   ]
  },
  {
   "cell_type": "code",
   "execution_count": 114,
   "id": "edd868f8-1d9a-4ab0-bd8e-caf97ec48b97",
   "metadata": {},
   "outputs": [],
   "source": [
    "class Cals: \n",
    "    @staticmethod\n",
    "    def add(a,b):\n",
    "        return a+b\n",
    "    @staticmethod\n",
    "    def sub(a,b):\n",
    "        return a-b "
   ]
  },
  {
   "cell_type": "code",
   "execution_count": 115,
   "id": "68437aa9-1969-4a91-8529-77812af04713",
   "metadata": {},
   "outputs": [],
   "source": [
    "fs = Cals()"
   ]
  },
  {
   "cell_type": "code",
   "execution_count": 117,
   "id": "de6bb843-fca9-4b43-8f61-b8fdb557c324",
   "metadata": {},
   "outputs": [
    {
     "data": {
      "text/plain": [
       "3"
      ]
     },
     "execution_count": 117,
     "metadata": {},
     "output_type": "execute_result"
    }
   ],
   "source": [
    "fs.add(1,2)"
   ]
  },
  {
   "cell_type": "code",
   "execution_count": 119,
   "id": "cbc84cf8-d841-4e61-bea2-2a1eed535291",
   "metadata": {},
   "outputs": [
    {
     "data": {
      "text/plain": [
       "-1"
      ]
     },
     "execution_count": 119,
     "metadata": {},
     "output_type": "execute_result"
    }
   ],
   "source": [
    "fs.sub(1,2)"
   ]
  },
  {
   "cell_type": "markdown",
   "id": "2859692f-be90-42ef-8835-9b8a62a6739e",
   "metadata": {},
   "source": [
    "- fs는 그냥 함수들을 묶어놓은 느낌? 정리하게 편하게? "
   ]
  },
  {
   "cell_type": "markdown",
   "id": "894f8414-ee63-4f9c-8e88-9563aa2d8166",
   "metadata": {},
   "source": [
    "# 7. `with`"
   ]
  },
  {
   "cell_type": "markdown",
   "id": "99f31e27-bac1-4a3b-88a5-3225773a255a",
   "metadata": {},
   "source": [
    "### 파일읽기 "
   ]
  },
  {
   "cell_type": "markdown",
   "id": "7c52764a-ea0a-4af2-b51f-ddbf21b9952c",
   "metadata": {},
   "source": [
    "`-` 예제1"
   ]
  },
  {
   "cell_type": "code",
   "execution_count": null,
   "id": "9056393f-da38-4732-8c80-214844a114c8",
   "metadata": {},
   "outputs": [],
   "source": [
    "f=open('test.txt')"
   ]
  },
  {
   "cell_type": "code",
   "execution_count": null,
   "id": "bc6ccf40-c1c9-48be-bc0d-dbb224f9f11e",
   "metadata": {},
   "outputs": [],
   "source": [
    "a=f.read()"
   ]
  },
  {
   "cell_type": "code",
   "execution_count": null,
   "id": "12853828-d18a-46d5-9b8c-a1c3c39867d2",
   "metadata": {},
   "outputs": [
    {
     "name": "stdout",
     "output_type": "stream",
     "text": [
      "hello\n",
      "hello2\n",
      "hello3\n"
     ]
    }
   ],
   "source": [
    "print(a)"
   ]
  },
  {
   "cell_type": "code",
   "execution_count": null,
   "id": "03bec9ad-ca12-4a78-8854-ea5bf68109f1",
   "metadata": {},
   "outputs": [
    {
     "data": {
      "text/plain": [
       "False"
      ]
     },
     "execution_count": 31,
     "metadata": {},
     "output_type": "execute_result"
    }
   ],
   "source": [
    "f.closed"
   ]
  },
  {
   "cell_type": "markdown",
   "id": "e613f2a3-f634-46c7-810d-92e21abb731d",
   "metadata": {},
   "source": [
    "현재 f가 열려있는 상태이다. 따라서 닫아줘야 한다. "
   ]
  },
  {
   "cell_type": "code",
   "execution_count": null,
   "id": "5ebda65a-d51c-405a-a82c-80009d8835ef",
   "metadata": {},
   "outputs": [],
   "source": [
    "f.close()"
   ]
  },
  {
   "cell_type": "code",
   "execution_count": null,
   "id": "f6718ebd-ec5f-4e17-88ab-c6890bac75a5",
   "metadata": {},
   "outputs": [
    {
     "data": {
      "text/plain": [
       "True"
      ]
     },
     "execution_count": 33,
     "metadata": {},
     "output_type": "execute_result"
    }
   ],
   "source": [
    "f.closed"
   ]
  },
  {
   "cell_type": "markdown",
   "id": "1ea307f5-35a3-4f69-8fe3-22d70f6526ac",
   "metadata": {},
   "source": [
    "f가 닫힌 상태에서는 더 이상 읽을 수가 없다. "
   ]
  },
  {
   "cell_type": "code",
   "execution_count": null,
   "id": "155b2994-10fc-4a15-a973-d34059d2297e",
   "metadata": {},
   "outputs": [
    {
     "ename": "ValueError",
     "evalue": "I/O operation on closed file.",
     "output_type": "error",
     "traceback": [
      "\u001b[0;31m---------------------------------------------------------------------------\u001b[0m",
      "\u001b[0;31mValueError\u001b[0m                                Traceback (most recent call last)",
      "\u001b[0;32m<ipython-input-34-e848b954fbbf>\u001b[0m in \u001b[0;36m<module>\u001b[0;34m\u001b[0m\n\u001b[0;32m----> 1\u001b[0;31m \u001b[0mb\u001b[0m\u001b[0;34m=\u001b[0m\u001b[0mf\u001b[0m\u001b[0;34m.\u001b[0m\u001b[0mread\u001b[0m\u001b[0;34m(\u001b[0m\u001b[0;34m)\u001b[0m\u001b[0;34m\u001b[0m\u001b[0;34m\u001b[0m\u001b[0m\n\u001b[0m",
      "\u001b[0;31mValueError\u001b[0m: I/O operation on closed file."
     ]
    }
   ],
   "source": [
    "b=f.read()"
   ]
  },
  {
   "cell_type": "markdown",
   "id": "afa8db85-6c6f-4f90-91fa-011e2ca46e38",
   "metadata": {},
   "source": [
    "파일을 닫지 않는다고 해서 큰 문제는 없어보이지만 그냥 닫는것이 좋다. "
   ]
  },
  {
   "cell_type": "markdown",
   "id": "4b5e6419-149f-4ecd-ad9c-2f438e403a8a",
   "metadata": {},
   "source": [
    "### with"
   ]
  },
  {
   "cell_type": "markdown",
   "id": "75011682-1fd9-4c0e-acf6-2746bf47c375",
   "metadata": {},
   "source": [
    "#### motivation "
   ]
  },
  {
   "cell_type": "markdown",
   "id": "b5f739cb-7988-4fdd-814c-f1bff9388482",
   "metadata": {},
   "source": [
    "`-` 생각해 보니까 파일을 열면 항상 닫아야 한다. "
   ]
  },
  {
   "cell_type": "markdown",
   "id": "88480989-bac3-4cef-87d0-524b271adbae",
   "metadata": {},
   "source": [
    "이처럼 쌍(시작-끝)으로 수행되는 처리가 반복적으로 발생하는 경우가 있는데 그때마다 `.close()` 메소드 따위를 쓰는 것이 번거롭게 느껴진다. "
   ]
  },
  {
   "cell_type": "markdown",
   "id": "d97f0a4e-ef89-4d70-8a26-0bc562a8f6c3",
   "metadata": {},
   "source": [
    "예를들면 파일을 열었으면 적당한 동작뒤에 알아서 닫아졌으면 좋겠다는 것이다. "
   ]
  },
  {
   "cell_type": "markdown",
   "id": "430e6e7c-4250-41f9-a820-8ee2150e1de5",
   "metadata": {},
   "source": [
    "이러한 모티브에서 구현된 것이 with문 이다. "
   ]
  },
  {
   "cell_type": "code",
   "execution_count": null,
   "id": "2003bec9-aab1-43a8-9f1e-5193f5ad72b9",
   "metadata": {},
   "outputs": [
    {
     "name": "stdout",
     "output_type": "stream",
     "text": [
      "hello\n",
      "hello2\n",
      "hello3\n"
     ]
    }
   ],
   "source": [
    "with open('test.txt') as g: \n",
    "    print(g.read())"
   ]
  },
  {
   "cell_type": "markdown",
   "id": "d1db6d83-86a9-4431-ba2e-a270fbbaef85",
   "metadata": {},
   "source": [
    "파일이 닫아졌는지 확인해보자. "
   ]
  },
  {
   "cell_type": "code",
   "execution_count": null,
   "id": "e2fc23f6-9343-4fc3-9c80-ba8cc5bc2276",
   "metadata": {},
   "outputs": [
    {
     "data": {
      "text/plain": [
       "True"
      ]
     },
     "execution_count": 36,
     "metadata": {},
     "output_type": "execute_result"
    }
   ],
   "source": [
    "g.closed"
   ]
  },
  {
   "cell_type": "markdown",
   "id": "be951b47-2419-47e5-a547-51f67e845ba7",
   "metadata": {},
   "source": [
    "잘 닫아졌다. "
   ]
  },
  {
   "cell_type": "markdown",
   "id": "e2c32b20-e69c-4ae6-a765-5f178c8d62ee",
   "metadata": {},
   "source": [
    "#### 기본사용법"
   ]
  },
  {
   "cell_type": "markdown",
   "id": "a7bf965a-2a4e-4b3a-a9ff-0f19ebcacffc",
   "metadata": {},
   "source": [
    "with의 사용법은 직관적으로 이해가 가능하지만 그래도 다시한번 살펴보자. \n",
    "\n",
    "```python\n",
    "with blabla as variable: \n",
    "    yadiyadi\n",
    "    yadiyadi2\n",
    "```"
   ]
  },
  {
   "cell_type": "markdown",
   "id": "88db8715-839a-4f42-b50a-fe37f60fd2d8",
   "metadata": {},
   "source": [
    "(1) `with blabla as variable`에서 blabla가 실행된다. "
   ]
  },
  {
   "cell_type": "markdown",
   "id": "c98f03f5-5e96-45fe-9c6e-aa3c8800e3b3",
   "metadata": {},
   "source": [
    "(2) blabla의 실행결과로 어떠한 `특별한` 오브젝트가 만들어지는데 그 오브젝트를 우리가 variable로 부르기로 한다. "
   ]
  },
  {
   "cell_type": "markdown",
   "id": "08ed18c0-4229-4546-b852-b9e7e9e3e663",
   "metadata": {},
   "source": [
    "(3) 탭으로 들여쓰기된 부분, 즉 yadiyadi, yadiyadi2 가 순서대로 실행된다. "
   ]
  },
  {
   "cell_type": "markdown",
   "id": "1aa01da5-71a4-42f1-bce1-bd98085d9f47",
   "metadata": {},
   "source": [
    "(4) 탭으로 들여쓰기된 부분이 실행되고 난 뒤에 `g.closed()` 따위의 미리 약속된 어떠한 코드가 실행되는것 같다. "
   ]
  },
  {
   "cell_type": "markdown",
   "id": "97bafbaf-49d2-408d-af4b-67e8cfeef710",
   "metadata": {},
   "source": [
    "#### 동작원리 "
   ]
  },
  {
   "cell_type": "markdown",
   "id": "71a4a647-d592-49bc-90f7-f539bfdffaa3",
   "metadata": {},
   "source": [
    "g라는 오브젝트는 특별한 오브젝트라고 했는데, 무엇이 특별한지 알아보자. "
   ]
  },
  {
   "cell_type": "code",
   "execution_count": null,
   "id": "b58c91ef-9e78-489d-a4fe-3c4eff278d0c",
   "metadata": {},
   "outputs": [
    {
     "data": {
      "text/plain": [
       "['_CHUNK_SIZE',\n",
       " '__class__',\n",
       " '__del__',\n",
       " '__delattr__',\n",
       " '__dict__',\n",
       " '__dir__',\n",
       " '__doc__',\n",
       " '__enter__',\n",
       " '__eq__',\n",
       " '__exit__',\n",
       " '__format__',\n",
       " '__ge__',\n",
       " '__getattribute__',\n",
       " '__gt__',\n",
       " '__hash__',\n",
       " '__init__',\n",
       " '__init_subclass__',\n",
       " '__iter__',\n",
       " '__le__',\n",
       " '__lt__',\n",
       " '__ne__',\n",
       " '__new__',\n",
       " '__next__',\n",
       " '__reduce__',\n",
       " '__reduce_ex__',\n",
       " '__repr__',\n",
       " '__setattr__',\n",
       " '__sizeof__',\n",
       " '__str__',\n",
       " '__subclasshook__',\n",
       " '_checkClosed',\n",
       " '_checkReadable',\n",
       " '_checkSeekable',\n",
       " '_checkWritable',\n",
       " '_finalizing',\n",
       " 'buffer',\n",
       " 'close',\n",
       " 'closed',\n",
       " 'detach',\n",
       " 'encoding',\n",
       " 'errors',\n",
       " 'fileno',\n",
       " 'flush',\n",
       " 'isatty',\n",
       " 'line_buffering',\n",
       " 'mode',\n",
       " 'name',\n",
       " 'newlines',\n",
       " 'read',\n",
       " 'readable',\n",
       " 'readline',\n",
       " 'readlines',\n",
       " 'reconfigure',\n",
       " 'seek',\n",
       " 'seekable',\n",
       " 'tell',\n",
       " 'truncate',\n",
       " 'writable',\n",
       " 'write',\n",
       " 'write_through',\n",
       " 'writelines']"
      ]
     },
     "execution_count": 41,
     "metadata": {},
     "output_type": "execute_result"
    }
   ],
   "source": [
    "dir(g)"
   ]
  },
  {
   "cell_type": "markdown",
   "id": "14830e20-cdd1-4d13-8bd0-9fc177f09884",
   "metadata": {},
   "source": [
    "비밀은 `__enter__` 와 `__exit__` 메소드에 있다. "
   ]
  },
  {
   "cell_type": "markdown",
   "id": "cdaa6e0d-853f-483f-b749-c1861540a720",
   "metadata": {},
   "source": [
    "`__enter__` 와 `__exit__` 의 역할을 알아보기 위해서 아래의 코드를 다시 관찰하자. "
   ]
  },
  {
   "cell_type": "markdown",
   "id": "ec19184e-085d-41b5-a36a-539a6195b532",
   "metadata": {},
   "source": [
    "```python\n",
    "with open('test.txt') as g: \n",
    "    print(g.read())\n",
    "```"
   ]
  },
  {
   "cell_type": "markdown",
   "id": "ff78a341-74be-4ec0-a51b-555c05b6026f",
   "metadata": {},
   "source": [
    "(for문 복습) `for i in ...:` 에서 `...`에 올 수 있는 오브젝트는 `__iter__` 메소드가 정의되어 있어야 한다. 이러한 오브젝트를 iterable한 오브젝트라고 한다. \n",
    "\n",
    "(with문) `with ... as variable:` 에서 `...`의 실행결과로 생성되는 오브젝트는 `__enter__` 와 `__exit__` 메소드가 정의되어 있어야 한다. \n",
    " - 이중 `__enter__`는 with문이 시작되면 자동으로 실행된다. \n",
    " - 이중 `__exit__`는 with문이 끝나면 자동으로 실행된다. "
   ]
  },
  {
   "cell_type": "markdown",
   "id": "9eb4bc3e-f287-4487-b4df-6ec0678b6539",
   "metadata": {},
   "source": [
    "`-` 예제3 "
   ]
  },
  {
   "cell_type": "code",
   "execution_count": null,
   "id": "98de1650-c761-481e-9340-b288ea516888",
   "metadata": {},
   "outputs": [],
   "source": [
    "class MooYaHo:\n",
    "    def __init__(self):\n",
    "        print('init')\n",
    "    def __enter__(self):\n",
    "        print('무야호')\n",
    "    def __exit__(self,exc_type,exc_value,traceback): # self 이외의 3가지 변수는 예외처리에 관련된 변수인데 여기서는 다루지 않음. \n",
    "        print('그만큼 신나시는거지')"
   ]
  },
  {
   "cell_type": "code",
   "execution_count": null,
   "id": "35f166c2-a942-4261-a2d6-89971f020e9e",
   "metadata": {},
   "outputs": [
    {
     "name": "stdout",
     "output_type": "stream",
     "text": [
      "init\n",
      "무야호\n",
      ".\n",
      "그만큼 신나시는거지\n"
     ]
    }
   ],
   "source": [
    "with MooYaHo() as a: \n",
    "    print('.')"
   ]
  },
  {
   "cell_type": "markdown",
   "id": "34ae0df9-b23f-4585-baf7-20507ca50475",
   "metadata": {},
   "source": [
    "`-` 경우에 따라서는 as 이하를 생략할 수도 있다. "
   ]
  },
  {
   "cell_type": "code",
   "execution_count": null,
   "id": "f343d9d1-173f-4dec-a5f6-6a2abc45bf9d",
   "metadata": {},
   "outputs": [
    {
     "name": "stdout",
     "output_type": "stream",
     "text": [
      "init\n",
      "무야호\n",
      "xx\n",
      "그만큼 신나시는거지\n"
     ]
    }
   ],
   "source": [
    "with MooYaHo():\n",
    "    print('xx')"
   ]
  },
  {
   "cell_type": "markdown",
   "id": "aac8af1c-dac7-4775-be29-d42549a18b8a",
   "metadata": {},
   "source": [
    "# 8. 데코레이터"
   ]
  },
  {
   "cell_type": "markdown",
   "id": "f2a9861a-3f77-4c24-8e81-5530e99b143d",
   "metadata": {},
   "source": [
    "# 9. 상속 "
   ]
  }
 ],
 "metadata": {
  "kernelspec": {
   "display_name": "Python 3 (ipykernel)",
   "language": "python",
   "name": "python3"
  },
  "language_info": {
   "codemirror_mode": {
    "name": "ipython",
    "version": 3
   },
   "file_extension": ".py",
   "mimetype": "text/x-python",
   "name": "python",
   "nbconvert_exporter": "python",
   "pygments_lexer": "ipython3",
   "version": "3.10.13"
  }
 },
 "nbformat": 4,
 "nbformat_minor": 5
}
