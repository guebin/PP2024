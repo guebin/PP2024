{
 "cells": [
  {
   "cell_type": "raw",
   "id": "3dca7b65-7b69-4f92-a028-352566b6df12",
   "metadata": {
    "id": "87b5cded-346b-4915-acf5-b5ec93a5207d"
   },
   "source": [
    "---\n",
    "title: \"A0: Quiz 1 (예상문제)\"\n",
    "author: \"최규빈\"\n",
    "date: \"12/01/2023\"\n",
    "---"
   ]
  },
  {
   "cell_type": "markdown",
   "id": "6585bef8-11a8-4099-9bce-6a8e0c311b2f",
   "metadata": {
    "id": "e67ab8e0"
   },
   "source": [
    "<a href=\"https://colab.research.google.com/github/guebin/PP2024/blob/main/posts/02wk-1.ipynb\"><img src=\"https://colab.research.google.com/assets/colab-badge.svg\" style=\"text-align: left\"></a>"
   ]
  },
  {
   "cell_type": "code",
   "execution_count": 1,
   "id": "a90a9aec-141b-41ee-bb4d-3037b019af2c",
   "metadata": {},
   "outputs": [],
   "source": [
    "import numpy as np\n",
    "import matplotlib.pyplot as plt "
   ]
  },
  {
   "cell_type": "markdown",
   "id": "f9c40005-6728-4dab-9d69-8b53ae23b51a",
   "metadata": {},
   "source": [
    "::: {.callout-note}\n",
    "- 이 문항은 예시일 뿐이며, 본 문항들이 그대로 시험에 출제되지는 않음.\n",
    "- 일부문항은 숫자를 바꿔서 출제되거나 그대로 출제될 수 있음. \n",
    "- 일부문항은 모범답안이 제시되어 있음. (참고용으로..)\n",
    "- **예상문제를 풀기 어려운 경우 질문가능함 (힌트를 주거나 풀이를 알려줄 수 있음, 혹은 학생이 풀이한 답안을 검토하고 피드백 줄 수 있음)**\n",
    ":::"
   ]
  },
  {
   "cell_type": "markdown",
   "id": "789aea99-d239-4c89-9669-82e598d28424",
   "metadata": {},
   "source": [
    "::: {.callout-warning}\n",
    "- 모든 문항은 부분점수 없음. (예를들어 문제1-(1)의 경우 `p`까지는 생성하였지만 그래프를 그리지 못한 경우 0점처리함)\n",
    "- 일부문항은 부분문제를 모두 맞출경우만 정답으로 인정함. 예를들면 문제2와 같은 경우. \n",
    "- `.ipynb` 파일 형태로 제출된 답안지만 채점하며 그 외의 형식 (`.hwp`등)은 채점하지 않음. 즉 0점 처리함. **제출방법 모르면 물어볼것!**\n",
    ":::\n"
   ]
  },
  {
   "cell_type": "markdown",
   "id": "c150ebba-9c78-4740-b61e-726ba7e2bfec",
   "metadata": {},
   "source": [
    "::: {.callout-caution}\n",
    "- 전북대 학생들을 시험당일 학생증을 지참할 것. (출석체크 및 본인확인) 학생증 외에 신분증 여권등도 가능.\n",
    "- 부정행위 (카카오톡 채팅을 통한 코드공유, 생성형모델 사용, 대리시험 등) 적발시 F 처리함. \n",
    "- 퀴즈 중 지각할 경우 지각사실을 기록함. 하지만 별다른 감점은 하지 않음.\n",
    ":::\n"
   ]
  },
  {
   "cell_type": "markdown",
   "id": "bc6f1097-9cc1-4bc9-92f4-775072fd445a",
   "metadata": {},
   "source": [
    "# 문제 1. "
   ]
  },
  {
   "cell_type": "markdown",
   "id": "2211b1cf-a79c-4281-82ea-398fec8eccf7",
   "metadata": {},
   "source": [
    "`(1)` $0<p<1$ 인 범위에서 $p(1-p)$의 그래프를 그려라. -- 5점"
   ]
  },
  {
   "cell_type": "markdown",
   "id": "7f5dd44b-fe87-426e-b015-34227c7fc499",
   "metadata": {},
   "source": [
    "(풀이)"
   ]
  },
  {
   "cell_type": "code",
   "execution_count": 120,
   "id": "bfe634c2-9d6b-453b-bef5-fc6d7b4e33da",
   "metadata": {},
   "outputs": [
    {
     "data": {
      "text/plain": [
       "array([0.01, 0.02, 0.03, 0.04, 0.05, 0.06, 0.07, 0.08, 0.09, 0.1 , 0.11,\n",
       "       0.12, 0.13, 0.14, 0.15, 0.16, 0.17, 0.18, 0.19, 0.2 , 0.21, 0.22,\n",
       "       0.23, 0.24, 0.25, 0.26, 0.27, 0.28, 0.29, 0.3 , 0.31, 0.32, 0.33,\n",
       "       0.34, 0.35, 0.36, 0.37, 0.38, 0.39, 0.4 , 0.41, 0.42, 0.43, 0.44,\n",
       "       0.45, 0.46, 0.47, 0.48, 0.49, 0.5 , 0.51, 0.52, 0.53, 0.54, 0.55,\n",
       "       0.56, 0.57, 0.58, 0.59, 0.6 , 0.61, 0.62, 0.63, 0.64, 0.65, 0.66,\n",
       "       0.67, 0.68, 0.69, 0.7 , 0.71, 0.72, 0.73, 0.74, 0.75, 0.76, 0.77,\n",
       "       0.78, 0.79, 0.8 , 0.81, 0.82, 0.83, 0.84, 0.85, 0.86, 0.87, 0.88,\n",
       "       0.89, 0.9 , 0.91, 0.92, 0.93, 0.94, 0.95, 0.96, 0.97, 0.98, 0.99])"
      ]
     },
     "execution_count": 120,
     "metadata": {},
     "output_type": "execute_result"
    }
   ],
   "source": [
    "p = np.linspace(1/100,1,100)[:-1]\n",
    "p"
   ]
  },
  {
   "cell_type": "code",
   "execution_count": 61,
   "id": "ae48c301-3730-4551-aceb-36fa6101e664",
   "metadata": {},
   "outputs": [
    {
     "data": {
      "text/plain": [
       "[<matplotlib.lines.Line2D at 0x7faa1d5d7c20>]"
      ]
     },
     "execution_count": 61,
     "metadata": {},
     "output_type": "execute_result"
    },
    {
     "data": {
      "image/png": "[encoded data removed]",
      "text/plain": [
       "<Figure size 640x480 with 1 Axes>"
      ]
     },
     "metadata": {},
     "output_type": "display_data"
    }
   ],
   "source": [
    "plt.plot(p,p*(1-p))"
   ]
  },
  {
   "cell_type": "markdown",
   "id": "cc95a369-7f6d-4dbe-a44e-464763e31bcf",
   "metadata": {},
   "source": [
    "`(2)` $0<p<1$ 의 범위에서 $p(1-p)$를 최대로 만드는 $p$ 값을 파이썬을 이용하여 계산하라. -- 5점"
   ]
  },
  {
   "cell_type": "code",
   "execution_count": 62,
   "id": "4aea0c52-3c7a-4e87-9e2c-624abc52595b",
   "metadata": {},
   "outputs": [],
   "source": [
    "# 힌트: 손으로 풀어보면 답은 0.5라는건 알겠죠? "
   ]
  },
  {
   "cell_type": "markdown",
   "id": "84f1ee23-e5f6-446a-9ead-43359962d34a",
   "metadata": {},
   "source": [
    "`(3)` 아래와 같이 50개의 숫자를 나열한 배열 ${\\bf x}=[x_1,x_2,\\dots,x_n]$을 상상하자. -- 10점"
   ]
  },
  {
   "cell_type": "code",
   "execution_count": 117,
   "id": "facee20c-d5ad-4f60-822f-34bc06e56d00",
   "metadata": {},
   "outputs": [
    {
     "data": {
      "text/plain": [
       "array([0, 1, 1, 0, 1, 0, 1, 0, 0, 0, 1, 0, 0, 0, 0, 1, 0, 1, 0, 0, 0, 1,\n",
       "       0, 0, 0, 1, 0, 1, 1, 0, 1, 0, 1, 0, 0, 0, 0, 0, 0, 1, 0, 0, 1, 0,\n",
       "       0, 0, 0, 0, 1, 0])"
      ]
     },
     "execution_count": 117,
     "metadata": {},
     "output_type": "execute_result"
    }
   ],
   "source": [
    "x = np.array([0, 1, 1, 0, 1, 0, 1, 0, 0, 0, 1, 0, 0, 0, 0, 1, 0, 1, 0, 0, 0, 1,\n",
    "              0, 0, 0, 1, 0, 1, 1, 0, 1, 0, 1, 0, 0, 0, 0, 0, 0, 1, 0, 0, 1, 0,\n",
    "              0, 0, 0, 0, 1, 0])\n",
    "x"
   ]
  },
  {
   "cell_type": "markdown",
   "id": "8aec1f86-a78a-4adb-8870-f969fdf9356e",
   "metadata": {},
   "source": [
    "위와 같은 $x_i$에 대하여 아래와 같은 함수 $l(p)$를 정의하고 $0<p<1$에서의 $l(p)$의 그래프를 그려라. "
   ]
  },
  {
   "cell_type": "markdown",
   "id": "fe31a132-a581-4d2d-8d85-5d058ea9c018",
   "metadata": {},
   "source": [
    "$$l(p)=\\sum_{i=1}^nx_i \\log p +\\left(n-\\sum_{i=1}^{n}x_i \\right)\\log(1-p)$$"
   ]
  },
  {
   "cell_type": "markdown",
   "id": "332b5686-4f33-4c05-beb0-3baf0a395bdb",
   "metadata": {},
   "source": [
    "**hint** \n",
    "\n",
    "- $n=50$ 으로 설정해야겠죠?\n",
    "- $\\sum_{i=1}^{50}x_i=s$를 미리 계산하고 $s$를 이용하여 함수 $l(p)=s\\log p  + (50-s)\\log(1-p)$ 를 정의하세요."
   ]
  },
  {
   "cell_type": "code",
   "execution_count": 50,
   "id": "0f97a1d4-ffa4-4a04-822b-81f9345960fe",
   "metadata": {},
   "outputs": [
    {
     "name": "stderr",
     "output_type": "stream",
     "text": [
      "/tmp/ipykernel_74601/1320384517.py:2: RuntimeWarning: divide by zero encountered in log\n",
      "  return np.log(p)*np.sum(x) + (50-np.sum(x))*np.log(1-p)\n"
     ]
    },
    {
     "data": {
      "text/plain": [
       "[<matplotlib.lines.Line2D at 0x7faa1d3ba8a0>]"
      ]
     },
     "execution_count": 50,
     "metadata": {},
     "output_type": "execute_result"
    },
    {
     "data": {
      "image/png": "[encoded data removed]",
      "text/plain": [
       "<Figure size 640x480 with 1 Axes>"
      ]
     },
     "metadata": {},
     "output_type": "display_data"
    }
   ],
   "source": [
    "# 시각화예시"
   ]
  },
  {
   "cell_type": "markdown",
   "id": "0fa702df-3586-471a-ab6b-94347917e7d6",
   "metadata": {},
   "source": [
    "`(4)` 파이썬을 이용하여 아래를 근사계산하라. -- 5점"
   ]
  },
  {
   "cell_type": "markdown",
   "id": "fe6c0774-34c8-47a8-af71-cb8c785da90a",
   "metadata": {},
   "source": [
    "$$\\lim_{h \\to 0}\\frac{l(0.32+h)-l(0.32)}{h}$$"
   ]
  },
  {
   "cell_type": "code",
   "execution_count": 56,
   "id": "e2e46f97-c621-46ca-abd2-e8b764579fe3",
   "metadata": {},
   "outputs": [],
   "source": [
    "# 힌트: 답은 0이에요"
   ]
  },
  {
   "cell_type": "markdown",
   "id": "76d366a6-12d1-41de-aaf3-55a2fecda0dc",
   "metadata": {},
   "source": [
    "`(5)` $0<p<1$의 범위에서 $l(p)$를 최대로 만드는 $p$의 값을 구하라. 즉 $\\underset{p}{\\operatorname{argmax}} l(p)$를 구하라. -- 5점"
   ]
  },
  {
   "cell_type": "code",
   "execution_count": 57,
   "id": "b094bd0d-5cd2-4363-8608-a1d5aaf17630",
   "metadata": {},
   "outputs": [],
   "source": [
    "# 힌트: 답은 0.32"
   ]
  },
  {
   "cell_type": "markdown",
   "id": "4ec37795-0a7b-4aa7-8f8d-93c3a0e61db6",
   "metadata": {},
   "source": [
    "::: {.callout-warning}\n",
    "1-(5)에서 문제 오류가 있어 수정했습니다. \n",
    "\n",
    "- 수정전: \"$0<p<1$\" 의 범위에서 $l(p)$를 최대값을 구하라.\"\n",
    "- 수정후: \"$0<p<1$\" 의 범위에서 $l(p)$를 최대로 만드는 $p$의 값을 구하라. 즉 $\\underset{p}{\\operatorname{argmax}} l(p)$를 구하라.\"\n",
    ":::"
   ]
  },
  {
   "cell_type": "markdown",
   "id": "89b632be-fcf1-4f66-afed-a082e77389a5",
   "metadata": {},
   "source": [
    "# 문제 2. "
   ]
  },
  {
   "cell_type": "markdown",
   "id": "d15db2bd-6674-4ca9-b3f2-9bb3258380cb",
   "metadata": {},
   "source": [
    "> 모두 맞출 경우만 정답으로 인정 "
   ]
  },
  {
   "cell_type": "markdown",
   "id": "e997fe7a-8683-4b23-bd15-7c5d54e6b234",
   "metadata": {},
   "source": [
    "`(1)` 아래의 list에서 마지막 원소를 뽑는 코드를 작성하라. "
   ]
  },
  {
   "cell_type": "code",
   "execution_count": 64,
   "id": "65738e32-e590-4838-979b-ca2e601997ff",
   "metadata": {},
   "outputs": [
    {
     "data": {
      "text/plain": [
       "[11, 22, 33, 44, 55]"
      ]
     },
     "execution_count": 64,
     "metadata": {},
     "output_type": "execute_result"
    }
   ],
   "source": [
    "lst = [11,22,33,44,55] \n",
    "lst "
   ]
  },
  {
   "cell_type": "markdown",
   "id": "60116f69-c838-4892-a148-e9ae7d6600be",
   "metadata": {},
   "source": [
    "(풀이)"
   ]
  },
  {
   "cell_type": "code",
   "execution_count": 73,
   "id": "f83a89e1-f9d4-4ba2-a412-0213b8040e3b",
   "metadata": {},
   "outputs": [
    {
     "data": {
      "text/plain": [
       "55"
      ]
     },
     "execution_count": 73,
     "metadata": {},
     "output_type": "execute_result"
    }
   ],
   "source": [
    "lst[-1]"
   ]
  },
  {
   "cell_type": "markdown",
   "id": "830e74b6-982c-4a30-8d7d-e6466b9e82d4",
   "metadata": {},
   "source": [
    "`(2)` 아래의 list에서 마지막 2개의 원소를 제외하고 뽑는 코드를 작성하라. "
   ]
  },
  {
   "cell_type": "code",
   "execution_count": 71,
   "id": "e6989af0-4b79-4ad3-91d6-54f4a0c0b18a",
   "metadata": {},
   "outputs": [
    {
     "data": {
      "text/plain": [
       "[11, 22, 33, 44, 55]"
      ]
     },
     "execution_count": 71,
     "metadata": {},
     "output_type": "execute_result"
    }
   ],
   "source": [
    "lst = [11,22,33,44,55]\n",
    "lst"
   ]
  },
  {
   "cell_type": "markdown",
   "id": "29f73cd8-ba32-4734-9fe0-f297d43c42b3",
   "metadata": {},
   "source": [
    "(풀이)"
   ]
  },
  {
   "cell_type": "code",
   "execution_count": 72,
   "id": "9d50d7cd-866a-445f-82a7-2e68e375bf1f",
   "metadata": {},
   "outputs": [
    {
     "data": {
      "text/plain": [
       "[11, 22, 33]"
      ]
     },
     "execution_count": 72,
     "metadata": {},
     "output_type": "execute_result"
    }
   ],
   "source": [
    "lst[:-2]"
   ]
  },
  {
   "cell_type": "markdown",
   "id": "100a8cd6-b632-4e09-8528-c7537442ab3e",
   "metadata": {},
   "source": [
    "`(3)` `lambda`를 이용하여 $f(x)=x^2+1$에 대응하는 함수를 선언하라. "
   ]
  },
  {
   "cell_type": "markdown",
   "id": "0bbc4fad-beed-4d80-aeef-224760a1af77",
   "metadata": {},
   "source": [
    "`(4)` 아래의 코드를 실행하여 `x`를 생성하라. "
   ]
  },
  {
   "cell_type": "code",
   "execution_count": 82,
   "id": "dfd1d820-0cbd-4eb0-9ad1-02054ef06a38",
   "metadata": {},
   "outputs": [
    {
     "data": {
      "text/plain": [
       "array([0.81768226, 0.04953212, 0.83868626, 0.61977707, 0.12254052,\n",
       "       0.11712779, 0.8795562 , 0.97941543, 0.90986893, 0.96667407,\n",
       "       0.59164493, 0.84014933, 0.89714578, 0.76530684, 0.40073371,\n",
       "       0.38061141, 0.4305124 , 0.40991094, 0.00972398, 0.59732079,\n",
       "       0.8852783 , 0.31328711, 0.6141936 , 0.36838019, 0.08044368,\n",
       "       0.47142422, 0.43324944, 0.22441988, 0.01174913, 0.91587271,\n",
       "       0.88325068, 0.32707103, 0.45758847, 0.55495369, 0.55845013,\n",
       "       0.75018778, 0.29947949, 0.85888413, 0.60465549, 0.00651133,\n",
       "       0.80605888, 0.06988897, 0.76763953, 0.72438164, 0.06247252,\n",
       "       0.97571034, 0.76681327, 0.12138996, 0.14946193, 0.08540348])"
      ]
     },
     "execution_count": 82,
     "metadata": {},
     "output_type": "execute_result"
    }
   ],
   "source": [
    "np.random.seed(43052)\n",
    "x = np.random.rand(50)\n",
    "x"
   ]
  },
  {
   "cell_type": "markdown",
   "id": "9928807d-ea1d-48f6-b2e1-ebabe6ebe239",
   "metadata": {},
   "source": [
    "생성된 값의 최대값을 출력하는 파이썬 코드를 작성하라. "
   ]
  },
  {
   "cell_type": "code",
   "execution_count": 91,
   "id": "9604a015-6a48-4d9c-874c-619806a1c684",
   "metadata": {},
   "outputs": [],
   "source": [
    "# 힌트: 답은 0.9794154308159254"
   ]
  },
  {
   "cell_type": "markdown",
   "id": "669e1f41-52d1-4d89-ad80-d17b300297ea",
   "metadata": {},
   "source": [
    "`(5)` 아래의 코드를 실행하여 `x`를 생성하라. "
   ]
  },
  {
   "cell_type": "code",
   "execution_count": 92,
   "id": "c0c5d947-0797-4976-ba7c-411871985a98",
   "metadata": {},
   "outputs": [
    {
     "data": {
      "text/plain": [
       "array([0.81768226, 0.04953212, 0.83868626, 0.61977707, 0.12254052,\n",
       "       0.11712779, 0.8795562 , 0.97941543, 0.90986893, 0.96667407,\n",
       "       0.59164493, 0.84014933, 0.89714578, 0.76530684, 0.40073371,\n",
       "       0.38061141, 0.4305124 , 0.40991094, 0.00972398, 0.59732079,\n",
       "       0.8852783 , 0.31328711, 0.6141936 , 0.36838019, 0.08044368,\n",
       "       0.47142422, 0.43324944, 0.22441988, 0.01174913, 0.91587271,\n",
       "       0.88325068, 0.32707103, 0.45758847, 0.55495369, 0.55845013,\n",
       "       0.75018778, 0.29947949, 0.85888413, 0.60465549, 0.00651133,\n",
       "       0.80605888, 0.06988897, 0.76763953, 0.72438164, 0.06247252,\n",
       "       0.97571034, 0.76681327, 0.12138996, 0.14946193, 0.08540348])"
      ]
     },
     "execution_count": 92,
     "metadata": {},
     "output_type": "execute_result"
    }
   ],
   "source": [
    "np.random.seed(43052)\n",
    "x = np.random.rand(50)\n",
    "x"
   ]
  },
  {
   "cell_type": "markdown",
   "id": "53224798-44bb-4bad-bf58-daae0a99de18",
   "metadata": {},
   "source": [
    "생성된 값중 0.6와 가장 가까운 값을 출력하는 파이썬 코드를 작성하라. "
   ]
  },
  {
   "cell_type": "code",
   "execution_count": 96,
   "id": "9bd7d5d2-444c-4e0a-ad3c-6ad54f8ccfcc",
   "metadata": {},
   "outputs": [],
   "source": [
    "# 힌트: 답은 0.5973207921703583"
   ]
  },
  {
   "cell_type": "markdown",
   "id": "1c464e63-36d1-4f1e-b2e8-66a2067a83f0",
   "metadata": {},
   "source": [
    "# 문제 3."
   ]
  },
  {
   "cell_type": "markdown",
   "id": "2b84ef55-2a2b-46bb-82f9-67bfa6ed0145",
   "metadata": {},
   "source": [
    "`(1)` $\\frac{\\pi}{2}<x<\\frac{3}{2}\\pi$ 에서 $f(x)=\\sin(\\frac{3}{2}x)$ 와 $g(x)=\\cos(2x)\\sin(5x)$ 의 교점의 수를 구하여라. "
   ]
  },
  {
   "cell_type": "markdown",
   "id": "41ba6121-ffd1-4dcb-b972-2863e766cd3f",
   "metadata": {},
   "source": [
    "(풀이)"
   ]
  },
  {
   "cell_type": "code",
   "execution_count": 113,
   "id": "f5332d89-fff1-49f1-8015-78f8f2138632",
   "metadata": {},
   "outputs": [
    {
     "data": {
      "text/plain": [
       "array([1.57079633, 1.60252959, 1.63426285, 1.6659961 , 1.69772936,\n",
       "       1.72946262, 1.76119588, 1.79292914, 1.8246624 , 1.85639566,\n",
       "       1.88812892, 1.91986218, 1.95159544, 1.9833287 , 2.01506195,\n",
       "       2.04679521, 2.07852847, 2.11026173, 2.14199499, 2.17372825,\n",
       "       2.20546151, 2.23719477, 2.26892803, 2.30066129, 2.33239455,\n",
       "       2.3641278 , 2.39586106, 2.42759432, 2.45932758, 2.49106084,\n",
       "       2.5227941 , 2.55452736, 2.58626062, 2.61799388, 2.64972714,\n",
       "       2.6814604 , 2.71319366, 2.74492691, 2.77666017, 2.80839343,\n",
       "       2.84012669, 2.87185995, 2.90359321, 2.93532647, 2.96705973,\n",
       "       2.99879299, 3.03052625, 3.06225951, 3.09399276, 3.12572602,\n",
       "       3.15745928, 3.18919254, 3.2209258 , 3.25265906, 3.28439232,\n",
       "       3.31612558, 3.34785884, 3.3795921 , 3.41132536, 3.44305862,\n",
       "       3.47479187, 3.50652513, 3.53825839, 3.56999165, 3.60172491,\n",
       "       3.63345817, 3.66519143, 3.69692469, 3.72865795, 3.76039121,\n",
       "       3.79212447, 3.82385772, 3.85559098, 3.88732424, 3.9190575 ,\n",
       "       3.95079076, 3.98252402, 4.01425728, 4.04599054, 4.0777238 ,\n",
       "       4.10945706, 4.14119032, 4.17292358, 4.20465683, 4.23639009,\n",
       "       4.26812335, 4.29985661, 4.33158987, 4.36332313, 4.39505639,\n",
       "       4.42678965, 4.45852291, 4.49025617, 4.52198943, 4.55372268,\n",
       "       4.58545594, 4.6171892 , 4.64892246, 4.68065572])"
      ]
     },
     "execution_count": 113,
     "metadata": {},
     "output_type": "execute_result"
    }
   ],
   "source": [
    "x = np.linspace(np.pi/2,3/2*np.pi,100)[:-1]\n",
    "x"
   ]
  },
  {
   "cell_type": "code",
   "execution_count": 114,
   "id": "0663623a-4e0d-44b3-9a0d-8336c24d0a05",
   "metadata": {},
   "outputs": [
    {
     "data": {
      "text/plain": [
       "[<matplotlib.lines.Line2D at 0x7faa1caf1a30>]"
      ]
     },
     "execution_count": 114,
     "metadata": {},
     "output_type": "execute_result"
    },
    {
     "data": {
      "image/png": "[encoded data removed]",
      "text/plain": [
       "<Figure size 640x480 with 1 Axes>"
      ]
     },
     "metadata": {},
     "output_type": "display_data"
    }
   ],
   "source": [
    "plt.plot(x,np.sin(1.5*x))\n",
    "plt.plot(x,np.cos(2*x)*np.sin(5*x))"
   ]
  },
  {
   "cell_type": "code",
   "execution_count": 115,
   "id": "bd7f5e8e-e2b2-4af6-93b8-fbf1d25b34dc",
   "metadata": {},
   "outputs": [],
   "source": [
    "# 답 3개"
   ]
  },
  {
   "cell_type": "markdown",
   "id": "514f21b0-2149-4c65-8d38-417848d53e48",
   "metadata": {},
   "source": [
    "`(2)` $a_n=\\frac{1}{n(n+1)}$ 일때 $S_1,\\dots,S_{20}$을 구하여라. "
   ]
  }
 ],
 "metadata": {
  "kernelspec": {
   "display_name": "Python 3 (ipykernel)",
   "language": "python",
   "name": "python3"
  },
  "language_info": {
   "codemirror_mode": {
    "name": "ipython",
    "version": 3
   },
   "file_extension": ".py",
   "mimetype": "text/x-python",
   "name": "python",
   "nbconvert_exporter": "python",
   "pygments_lexer": "ipython3",
   "version": "3.12.2"
  }
 },
 "nbformat": 4,
 "nbformat_minor": 5
}
