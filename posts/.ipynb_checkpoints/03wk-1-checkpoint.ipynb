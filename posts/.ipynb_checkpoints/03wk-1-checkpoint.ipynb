{
 "cells": [
  {
   "cell_type": "raw",
   "id": "bfb4afee-1a64-446b-807e-7a1b7d4f4607",
   "metadata": {
    "id": "87b5cded-346b-4915-acf5-b5ec93a5207d"
   },
   "source": [
    "---\n",
    "title: \"03wk-1: 퀴즈2\"\n",
    "author: \"최규빈\"\n",
    "date: \"03/20/2024\"\n",
    "draft: true\n",
    "---"
   ]
  },
  {
   "cell_type": "markdown",
   "id": "a311ed0c-26f9-4d93-aab1-5d713f774afe",
   "metadata": {
    "id": "e67ab8e0"
   },
   "source": [
    "<a href=\"https://colab.research.google.com/github/guebin/PP2024/blob/main/posts/03wk-1.ipynb\"><img src=\"https://colab.research.google.com/assets/colab-badge.svg\" style=\"text-align: left\"></a>"
   ]
  },
  {
   "cell_type": "code",
   "execution_count": 1,
   "id": "2c274e6e-60fb-491d-ae64-1d06fe856d0a",
   "metadata": {
    "tags": []
   },
   "outputs": [],
   "source": [
    "#{{<video https://youtu.be/playlist?list=PLQqh36zP38-xkTDmutNidYnOkCgn2Zkdk&si=DPIWwBqzxkGHWIAr >}}"
   ]
  },
  {
   "cell_type": "code",
   "execution_count": 8,
   "id": "fbd36cd5-0577-4dcb-a940-1a7b96bf3c15",
   "metadata": {
    "tags": []
   },
   "outputs": [],
   "source": [
    "import numpy as np\n",
    "import matplotlib.pyplot as plt"
   ]
  },
  {
   "cell_type": "markdown",
   "id": "e18bd32e-39ba-460c-b285-d5b64f7209b2",
   "metadata": {},
   "source": [
    "::: {.callout-caution}\n",
    "- 전북대 학생들을 시험당일 학생증을 지참할 것. (출석체크 및 본인확인) 학생증 외에 신분증 여권등도 가능.\n",
    "- 부정행위 (카카오톡 채팅을 통한 코드공유, 생성형모델 사용, 대리시험 등) 적발시 F 처리함. \n",
    "- 퀴즈 중 지각할 경우 지각사실을 기록함. 하지만 별다른 감점은 하지 않음.\n",
    "- `.ipynb` 파일 형태로 제출된 답안지만 채점하며 그 외의 형식 (`.hwp`, `.py` 등)은 채점하지 않음. 즉 0점 처리함.\n",
    ":::\n"
   ]
  },
  {
   "cell_type": "markdown",
   "id": "6d5e9b5d-cbec-4b92-83fc-2ce23d0dd7d0",
   "metadata": {},
   "source": [
    "# 문제 1. -- 10점"
   ]
  },
  {
   "cell_type": "markdown",
   "id": "12a5724d-a454-4b30-a321-c39200e366f2",
   "metadata": {},
   "source": [
    "$f(x)=x^3$ 위의 임의의 점을 입력하면 접선을 리턴하는 함수를 구현하라. 이러한 함수를 이용하여 아래와 같은 그래프를 그려라. (범례는 표현하지 않아도 감점없음) "
   ]
  },
  {
   "cell_type": "code",
   "execution_count": 105,
   "id": "02e5f26b-1314-4961-8174-138fc92024d8",
   "metadata": {},
   "outputs": [
    {
     "data": {
      "text/plain": [
       "<matplotlib.legend.Legend at 0x7f5756003f50>"
      ]
     },
     "execution_count": 105,
     "metadata": {},
     "output_type": "execute_result"
    },
    {
     "data": {
      "image/png": "[encoded data removed]",
      "text/plain": [
       "<Figure size 640x480 with 1 Axes>"
      ]
     },
     "metadata": {},
     "output_type": "display_data"
    }
   ],
   "source": [
    "#"
   ]
  },
  {
   "cell_type": "markdown",
   "id": "64cf0c1e-594a-42a3-86ba-a31a59f7f5e7",
   "metadata": {},
   "source": [
    "- $x$의 범위는 $(-5,5)$ 이다. \n",
    "- 두 그래프는 $x=3$ 에서 접한다. "
   ]
  },
  {
   "cell_type": "markdown",
   "id": "ff09b340-e0d6-4fcc-9a9a-3f22bd809bb9",
   "metadata": {},
   "source": [
    "(풀이)"
   ]
  },
  {
   "cell_type": "code",
   "execution_count": null,
   "id": "0eb066a7-d56f-43ba-ac80-9f62b19e83e4",
   "metadata": {},
   "outputs": [],
   "source": []
  },
  {
   "cell_type": "markdown",
   "id": "f23911a3-0ce5-4dc4-90cc-b778eccc061f",
   "metadata": {
    "tags": []
   },
   "source": [
    "# 문제 2. -- 10점^[2024년 수능 17번]"
   ]
  },
  {
   "cell_type": "markdown",
   "id": "170354ce-d71b-46bf-b962-08dd3fc16a1d",
   "metadata": {},
   "source": [
    "함수 $f(x)=(x+1)(x^2+3)$에 대하여 $f'(1)$의 값을 구하라."
   ]
  },
  {
   "cell_type": "markdown",
   "id": "14d388fa-d902-420e-8540-920ea79de258",
   "metadata": {},
   "source": [
    "(풀이)"
   ]
  },
  {
   "cell_type": "code",
   "execution_count": null,
   "id": "857e0dee-165f-4844-97d4-d4a6609e65a9",
   "metadata": {},
   "outputs": [],
   "source": []
  },
  {
   "cell_type": "markdown",
   "id": "5a7430a5-7d5b-4926-89c7-e29727926838",
   "metadata": {},
   "source": [
    "# 문제 3. -- 10점^[2024년 수능 4번 응용]"
   ]
  },
  {
   "cell_type": "markdown",
   "id": "d81333cf-cd1b-4634-98eb-2d822aeca43b",
   "metadata": {},
   "source": [
    "$0 \\leq x \\leq 4$의 범위에서 함수 \n",
    "\n",
    "$$f(x) =\\begin{cases} 3x-1 \\quad (x<2) \\\\ x^2+1 \\quad (x\\geq 2) \\end{cases}$$\n",
    "\n",
    "의 그래프를 그려라. "
   ]
  },
  {
   "cell_type": "markdown",
   "id": "91223069-4c56-4c91-a032-d0dcd18ce818",
   "metadata": {},
   "source": [
    "(풀이)"
   ]
  },
  {
   "cell_type": "code",
   "execution_count": null,
   "id": "1c7bb674-ae74-4ce2-a945-e9ca479394b9",
   "metadata": {},
   "outputs": [],
   "source": []
  },
  {
   "cell_type": "markdown",
   "id": "879960f7-e827-46fa-b1a7-2b76cd633e1a",
   "metadata": {},
   "source": [
    "# 문제 4. -- 10점^[2024년 9평 3번]"
   ]
  },
  {
   "cell_type": "markdown",
   "id": "3406008b-7a3d-459e-8006-78495f3b9660",
   "metadata": {},
   "source": [
    "$\\frac{3}{2}\\pi < \\theta < 2\\pi$ 인 $\\theta$ 에 대하여 $\\cos\\theta = \\frac{\\sqrt{6}}{3}$ 일 때 $\\tan(\\theta)$의 값을 구하라. "
   ]
  },
  {
   "cell_type": "markdown",
   "id": "fae60db9-677b-454d-96c5-4042f61e09ae",
   "metadata": {},
   "source": [
    "(풀이)"
   ]
  },
  {
   "cell_type": "code",
   "execution_count": null,
   "id": "aedc80e7-37b2-434d-a8bd-eedb4ea91e6e",
   "metadata": {},
   "outputs": [],
   "source": []
  },
  {
   "cell_type": "markdown",
   "id": "3f7769e6-ee97-4e33-98ab-d590ff3d32d5",
   "metadata": {},
   "source": [
    "# 문제 5. -- 10점^[2024년 9평 25번]"
   ]
  },
  {
   "cell_type": "markdown",
   "id": "9b175bae-a5d0-476c-95d3-fb519d8c312f",
   "metadata": {},
   "source": [
    "함수 $f(x)=x+\\ln x$에 대하여 $\\int_1^{e} (1+\\frac{1}{x})f(x)dx$의 값은?"
   ]
  },
  {
   "cell_type": "markdown",
   "id": "fa957075-2d79-4525-a4bc-459d74babc28",
   "metadata": {},
   "source": [
    "(풀이)"
   ]
  },
  {
   "cell_type": "code",
   "execution_count": null,
   "id": "fce8ec85-a612-4dbe-a52d-985c1a2e3bae",
   "metadata": {},
   "outputs": [],
   "source": []
  },
  {
   "cell_type": "markdown",
   "id": "14eeed6c-da20-49f8-88a1-0f9c6a3a61c8",
   "metadata": {},
   "source": [
    "# 문제 6. -- 20점 "
   ]
  },
  {
   "cell_type": "markdown",
   "id": "084ec5c1-31a0-49bb-ac7a-f7ce8974db0c",
   "metadata": {},
   "source": [
    "> (2)번만 맞추어도 정답으로 인정"
   ]
  },
  {
   "cell_type": "markdown",
   "id": "0c5f9ed6-09bb-4d48-bfa9-680612b2c8a0",
   "metadata": {},
   "source": [
    "`(1)` $f'(x)=x$ 일 경우 $f(x)$의 그래프 개형을 그려라. "
   ]
  },
  {
   "cell_type": "markdown",
   "id": "60261c8a-29f7-4126-82e7-23bc954f390e",
   "metadata": {
    "tags": []
   },
   "source": [
    "`(2)` $f'(x)=|\\sin(x)|\\cos(x)$ 일때 $f(x)$의 그래프 개형을 그려라.^[2024년 수능 30번 변형]\n",
    "\n",
    "- $-3<x<3$ 에서의 개형을 그릴것 "
   ]
  },
  {
   "cell_type": "code",
   "execution_count": null,
   "id": "85e8a07a-79fa-4f5c-a15c-7f7dc4ceb403",
   "metadata": {
    "tags": []
   },
   "outputs": [
    {
     "data": {
      "text/plain": [
       "<matplotlib.legend.Legend at 0x7f5756650210>"
      ]
     },
     "execution_count": 100,
     "metadata": {},
     "output_type": "execute_result"
    },
    {
     "data": {
      "image/png": "[encoded data removed]",
      "text/plain": [
       "<Figure size 640x480 with 1 Axes>"
      ]
     },
     "metadata": {},
     "output_type": "display_data"
    }
   ],
   "source": [
    "# 시각화예시"
   ]
  },
  {
   "cell_type": "markdown",
   "id": "b98ffa02-0c79-4fcb-8433-89b1d5528e7d",
   "metadata": {},
   "source": [
    "(풀이)"
   ]
  },
  {
   "cell_type": "code",
   "execution_count": null,
   "id": "f38132af-022e-4af9-92cb-f7776a4407c1",
   "metadata": {},
   "outputs": [],
   "source": []
  },
  {
   "cell_type": "markdown",
   "id": "deab5f0c-3815-4874-819d-b390dfb14a05",
   "metadata": {},
   "source": [
    "# 문제 7. -- 30점"
   ]
  },
  {
   "cell_type": "markdown",
   "id": "4cce18a5-3fe4-41b7-883f-beca7f133821",
   "metadata": {},
   "source": [
    "첫째항이 1이고 공차가 $0<d<1$ 인 등차수열에서, $\\sum_{n=1}^{75}a_n=1046.25$ 를 만족하는 $d$를 찾아라. "
   ]
  },
  {
   "cell_type": "markdown",
   "id": "0070253d-9006-4baf-8a29-60dd8f8b5f41",
   "metadata": {},
   "source": [
    "**힌트1:** 첫째항이 1이고 공차가 $d>0$인 등차수열의 일반항은 $a_n = 1 +(n-1)d$와 같이 표현할 수 있다. "
   ]
  },
  {
   "cell_type": "markdown",
   "id": "fc9eb31c-dd95-4c9c-ba17-321ed101de78",
   "metadata": {},
   "source": [
    "**힌트2:** $d$는 아래중 하나의 값을 가진다. "
   ]
  },
  {
   "cell_type": "code",
   "execution_count": null,
   "id": "42217f67-8e11-40bc-82a7-57e464ed249a",
   "metadata": {
    "tags": []
   },
   "outputs": [
    {
     "data": {
      "text/plain": [
       "array([0.01, 0.02, 0.03, 0.04, 0.05, 0.06, 0.07, 0.08, 0.09, 0.1 , 0.11,\n",
       "       0.12, 0.13, 0.14, 0.15, 0.16, 0.17, 0.18, 0.19, 0.2 , 0.21, 0.22,\n",
       "       0.23, 0.24, 0.25, 0.26, 0.27, 0.28, 0.29, 0.3 , 0.31, 0.32, 0.33,\n",
       "       0.34, 0.35, 0.36, 0.37, 0.38, 0.39, 0.4 , 0.41, 0.42, 0.43, 0.44,\n",
       "       0.45, 0.46, 0.47, 0.48, 0.49, 0.5 , 0.51, 0.52, 0.53, 0.54, 0.55,\n",
       "       0.56, 0.57, 0.58, 0.59, 0.6 , 0.61, 0.62, 0.63, 0.64, 0.65, 0.66,\n",
       "       0.67, 0.68, 0.69, 0.7 , 0.71, 0.72, 0.73, 0.74, 0.75, 0.76, 0.77,\n",
       "       0.78, 0.79, 0.8 , 0.81, 0.82, 0.83, 0.84, 0.85, 0.86, 0.87, 0.88,\n",
       "       0.89, 0.9 , 0.91, 0.92, 0.93, 0.94, 0.95, 0.96, 0.97, 0.98, 0.99])"
      ]
     },
     "execution_count": 50,
     "metadata": {},
     "output_type": "execute_result"
    }
   ],
   "source": [
    "np.linspace(0,1,101)[1:-1]"
   ]
  },
  {
   "cell_type": "markdown",
   "id": "e59136d0-dd68-42f0-856d-ccdbbd8cd916",
   "metadata": {},
   "source": [
    "(풀이)"
   ]
  },
  {
   "cell_type": "code",
   "execution_count": null,
   "id": "c088115e-8d6f-4289-b4b9-817d2842b21f",
   "metadata": {},
   "outputs": [],
   "source": []
  }
 ],
 "metadata": {
  "kernelspec": {
   "display_name": "Python 3 (ipykernel)",
   "language": "python",
   "name": "python3"
  },
  "language_info": {
   "codemirror_mode": {
    "name": "ipython",
    "version": 3
   },
   "file_extension": ".py",
   "mimetype": "text/x-python",
   "name": "python",
   "nbconvert_exporter": "python",
   "pygments_lexer": "ipython3",
   "version": "3.11.8"
  }
 },
 "nbformat": 4,
 "nbformat_minor": 5
}
