{
 "cells": [
  {
   "cell_type": "raw",
   "id": "34034dd9-fa73-4ddf-bc72-44b1d975e99b",
   "metadata": {
    "id": "87b5cded-346b-4915-acf5-b5ec93a5207d"
   },
   "source": [
    "---\n",
    "title: \"15wk-2: 기말고사\"\n",
    "author: \"최규빈\"\n",
    "date: \"06/21/2024\"\n",
    "draft: false\n",
    "---"
   ]
  },
  {
   "cell_type": "markdown",
   "id": "af8ebb0e-500f-41ef-a8cb-1a15c5647d0f",
   "metadata": {
    "id": "e67ab8e0"
   },
   "source": [
    "<a href=\"https://colab.research.google.com/github/guebin/PP2024/blob/main/posts/15wk-2-fin.ipynb\"><img src=\"https://colab.research.google.com/assets/colab-badge.svg\" style=\"text-align: left\"></a>"
   ]
  },
  {
   "cell_type": "code",
   "execution_count": 1,
   "id": "ee093171-c43d-4608-9745-1ae98c716782",
   "metadata": {
    "tags": []
   },
   "outputs": [],
   "source": [
    "import numpy as np\n",
    "import matplotlib.pyplot as plt"
   ]
  },
  {
   "cell_type": "markdown",
   "id": "9e724bb4-cd1d-4565-a454-2c786cb48bf6",
   "metadata": {},
   "source": [
    "# 0. 공통클래스 "
   ]
  },
  {
   "cell_type": "markdown",
   "id": "4bb90f9e-add2-49ba-9790-a59e47e5a85b",
   "metadata": {},
   "source": [
    "`# 캐릭터관련 클래스`"
   ]
  },
  {
   "cell_type": "code",
   "execution_count": 3,
   "id": "74d5f5df-9437-4b65-a1f7-b3117d37120e",
   "metadata": {
    "tags": []
   },
   "outputs": [],
   "source": [
    "class Base:\n",
    "    def __init__(self,이름,목표높이):\n",
    "        self.목표높이 = 목표높이\n",
    "        self.이름 = 이름\n",
    "        self.현재높이 = 0\n",
    "        self.탑완성 = False \n",
    "        self.블록쌓는수 = None\n",
    "        self.블록쌓기성공확률 = None\n",
    "        self.블록쌓기성공상태 = None\n",
    "    def __eq__(self,other):\n",
    "        return self.현재높이 == other.현재높이\n",
    "    def __gt__(self,other):\n",
    "        return self.현재높이 > other.현재높이\n",
    "    def 탑쌓기(self):\n",
    "        if not self.탑완성:\n",
    "            if np.random.rand() < self.블록쌓기성공확률:\n",
    "                self.블록쌓기성공상태 = True\n",
    "                self.현재높이 = self.현재높이 + self.블록쌓는수\n",
    "            else: \n",
    "                self.블록쌓기성공상태 = False\n",
    "                self.현재높이 = 0 \n",
    "    def 완성상태체크(self):\n",
    "        self.탑완성 = self.현재높이 >= self.목표높이\n",
    "    def __rshift__(self, other):\n",
    "        return self.탑완성 and not other.탑완성 \n",
    "    def __lshift__(self, other):\n",
    "        return not self.탑완성 and other.탑완성 \n",
    "    def __repr__(self):\n",
    "        text = \"\\n\".join([\n",
    "            f\"이름: {self.이름}\",\n",
    "            f\"목표높이: {self.목표높이}\",\n",
    "            f\"현재높이: {self.현재높이}\",\n",
    "            f\"완성상태: {self.탑완성}\"])\n",
    "        return text"
   ]
  },
  {
   "cell_type": "code",
   "execution_count": 4,
   "id": "6e9e4924-a163-4d3a-a3e4-4c4826bdbeff",
   "metadata": {
    "tags": []
   },
   "outputs": [],
   "source": [
    "class Guebin(Base):\n",
    "    def __init__(self,이름,목표높이):\n",
    "        super().__init__(이름,목표높이)\n",
    "        self.블록쌓는수 = 2 \n",
    "        self.블록쌓기성공확률 = 0.5 \n",
    "class Daho(Base):\n",
    "    def __init__(self,이름,목표높이):\n",
    "        super().__init__(이름,목표높이)\n",
    "        self.블록쌓는수 = 1\n",
    "        self.블록쌓기성공확률 = 1.0 \n",
    "class GuebinAttack(Guebin):\n",
    "    def __init__(self,이름,목표높이,공격성공률=0.6):\n",
    "        super().__init__(이름,목표높이)\n",
    "        self.공격성공률 = 공격성공률\n",
    "    def 공격하기(self,other):\n",
    "        if np.random.rand() < self.공격성공률:\n",
    "            other.현재높이 = 0\n",
    "class DahoCrying(Daho):\n",
    "    def __init__(self,이름,목표높이,울확률=0.1):\n",
    "        super().__init__(이름,목표높이)\n",
    "        self.울확률 = 울확률\n",
    "        self.울음상태 = False \n",
    "    def 울기(self):\n",
    "        if np.random.rand() < self.울확률:\n",
    "            self.울음상태 = True\n",
    "class GuebinTraining(Guebin):\n",
    "    def 수련하기(self):\n",
    "        self.블록쌓기성공확률 = min(self.블록쌓기성공확률 + 0.05,1)\n",
    "class DahoStill(Daho):\n",
    "    def __init__(self,이름,목표높이,애교성공률=0.5):\n",
    "        super().__init__(이름,목표높이)\n",
    "        self.애교성공률 = 애교성공률\n",
    "    def 애교부리기(self,other):\n",
    "        if np.random.rand() < self.애교성공률:\n",
    "            self.현재높이 = self.현재높이 + other.블록쌓는수\n",
    "            other.현재높이 = other.현재높이 - other.블록쌓는수"
   ]
  },
  {
   "cell_type": "markdown",
   "id": "34202229-68db-4f51-8767-bbc701675898",
   "metadata": {},
   "source": [
    "`#`"
   ]
  },
  {
   "cell_type": "markdown",
   "id": "99be2367-b6a8-4061-882c-6fc3d0c3a5f4",
   "metadata": {},
   "source": [
    "`# 시뮬레이터 관련 클래스`"
   ]
  },
  {
   "cell_type": "code",
   "execution_count": 5,
   "id": "4914fbc6-e11b-4ccd-af52-5bb3418709ca",
   "metadata": {
    "tags": []
   },
   "outputs": [],
   "source": [
    "class BaseSimulator:\n",
    "    def __init__(self,규빈,다호,최대라운드=None):\n",
    "        self.규빈 = 규빈\n",
    "        self.다호 = 다호\n",
    "        self.규빈의탑높이들 = []\n",
    "        self.다호의탑높이들 = []\n",
    "        self.결과 = None \n",
    "        self.최대라운드 = 최대라운드\n",
    "        self.라운드 = 0\n",
    "    def 경험저장(self):\n",
    "        self.규빈의탑높이들.append(self.규빈.현재높이)\n",
    "        self.다호의탑높이들.append(self.다호.현재높이)\n",
    "    def 히스토리(self):\n",
    "        text = [\n",
    "            f\"규빈의탑높이들: {self.규빈의탑높이들}\",\n",
    "            f\"다호의탑높이들: {self.다호의탑높이들}\",\n",
    "            f\"최종라운드: {self.라운드}\",\n",
    "            f\"결과: {self.결과}\"\n",
    "        ]\n",
    "        print(\"\\n\".join(text))\n",
    "    def 결과시각화(self):\n",
    "        plt.plot(self.규빈의탑높이들,'--o',label=self.규빈.이름)\n",
    "        plt.plot(self.다호의탑높이들,'--o',label=self.다호.이름)\n",
    "        plt.legend()        \n",
    "    def __iter__(self):\n",
    "        return self \n",
    "    def __next__(self):\n",
    "        if self.규빈 >> self.다호: ## 규빈의 승리\n",
    "            self.결과 = \"규빈승\"\n",
    "            raise(StopIteration)\n",
    "        elif self.규빈 << self.다호: ## 다호의 승리 \n",
    "            self.결과 = \"다호승\"\n",
    "            raise(StopIteration)\n",
    "        else: ## 무승부 \n",
    "            self.양쪽모두완성 = self.규빈.탑완성 and self.다호.탑완성 \n",
    "            self.양쪽모두미완성 = not self.규빈.탑완성 and not self.다호.탑완성 \n",
    "            self.라운드초과 = self.최대라운드 is not None and self.라운드 >= self.최대라운드\n",
    "            if self.양쪽모두완성:\n",
    "                self.결과 = \"무승부(모두성공)\"\n",
    "                raise(StopIteration)\n",
    "            elif self.양쪽모두미완성 and self.라운드초과:\n",
    "                self.결과 = \"무승부(모두실패)\"\n",
    "                raise(StopIteration)\n",
    "            else:\n",
    "                pass\n",
    "    def 라운드진행(self): # 여기는 문제상황별 다르게 작성해야함\n",
    "        pass\n",
    "        \n",
    "class BaseSimulator2:\n",
    "    def __init__(self,수련규빈,공격규빈,울보다호,애교다호,최대라운드=None):\n",
    "        self.수련규빈 = 수련규빈\n",
    "        self.공격규빈 = 공격규빈\n",
    "        self.울보다호 = 울보다호\n",
    "        self.애교다호 = 애교다호\n",
    "        self.결과 = None\n",
    "        self.이유 = None \n",
    "        self.최대라운드 = 최대라운드\n",
    "        self.라운드 = 0 \n",
    "        self.수련규빈의탑높이들 = [] \n",
    "        self.공격규빈의탑높이들 = [] \n",
    "        self.울보다호의탑높이들 = [] \n",
    "        self.애교다호의탑높이들 = [] \n",
    "    def 경험저장(self):\n",
    "        self.수련규빈의탑높이들.append(self.수련규빈.현재높이)\n",
    "        self.공격규빈의탑높이들.append(self.공격규빈.현재높이)\n",
    "        self.울보다호의탑높이들.append(self.울보다호.현재높이)\n",
    "        self.애교다호의탑높이들.append(self.애교다호.현재높이)\n",
    "    def _팀의탑완성체크(self): # __next__에 사용하는 함수, _를 변수앞에 붙여서 숨겨진 메소드로 처리\n",
    "        self.규빈팀탑완성 = self.수련규빈.탑완성 or self.공격규빈.탑완성\n",
    "        self.다호팀탑완성 = self.울보다호.탑완성 or self.애교다호.탑완성\n",
    "    def _팀의탑높이체크(self): # __next__에 사용하는 함수, _를 변수앞에 붙여서 숨겨진 메소드로 처리\n",
    "        self.규빈팀탑높이 = min(self.수련규빈.목표높이,self.수련규빈.현재높이) + min(self.공격규빈.목표높이,self.공격규빈.현재높이)\n",
    "        self.다호팀탑높이 = min(self.울보다호.목표높이,self.울보다호.현재높이) + min(self.애교다호.목표높이,self.애교다호.현재높이)\n",
    "    def 히스토리(self): # 디버깅을 위한 함수, 시뮬레이션 결과만 원한다면 생략해도 무방 \n",
    "        text = [\n",
    "            f\"수련규빈의탑높이: {self.수련규빈의탑높이들}\",\n",
    "            f\"공격규빈의탑높이: {self.공격규빈의탑높이들}\",\n",
    "            f\"울보다호의탑높이: {self.울보다호의탑높이들}\",\n",
    "            f\"애교다호의탑높이: {self.애교다호의탑높이들}\",            \n",
    "            f\"최종라운드: {self.라운드}\",\n",
    "            f\"결과: {self.결과}\",\n",
    "            f\"이유: {self.이유}\"\n",
    "        ]\n",
    "        print(\"\\n\".join(text))\n",
    "    def 결과시각화(self): # 디버깅을 위한 함수, 시뮬레이션 결과만 원한다면 생략해도 무방 \n",
    "        plt.plot(self.수련규빈의탑높이들,'--o',label=self.수련규빈.이름,color='C0')\n",
    "        plt.plot(self.공격규빈의탑높이들,'--x',label=self.공격규빈.이름,color='C0')\n",
    "        plt.plot(self.울보다호의탑높이들,'--o',label=self.울보다호.이름,color='C1')\n",
    "        plt.plot(self.애교다호의탑높이들,'--x',label=self.애교다호.이름,color='C1')\n",
    "        plt.legend()        \n",
    "    def __iter__(self):\n",
    "        return self \n",
    "    def __next__(self):\n",
    "        # 종료조건 체크를 위한 준비단계: 탑을 어떤팀이 먼저 완성했는지 혹은 동시완성했는지 아니면 미완성상태인지 체크 \n",
    "        self._팀의탑완성체크()\n",
    "        self.규빈팀이먼저완성 = self.규빈팀탑완성 and not self.다호팀탑완성 \n",
    "        self.다호팀이먼저완성 = not self.규빈팀탑완성 and self.다호팀탑완성\n",
    "        self.양팀모두완성 = self.규빈팀탑완성 and self.다호팀탑완성 \n",
    "        self.양팀모두미완성 = not self.규빈팀탑완성 and not self.다호팀탑완성\n",
    "        self.라운드초과 = self.최대라운드 is not None and self.라운드 >= self.최대라운드\n",
    "        #--#\n",
    "        if self.울보다호.울음상태: # 울음이 발동하여 게임이 종료된 경우 \n",
    "            self.결과 = \"다호팀승\"\n",
    "            self.이유 = \"울음발동\"\n",
    "            raise(StopIteration)\n",
    "        elif self.다호팀이먼저완성: # 다호팀이 먼저 완성하여 게임이 종료된 경우 \n",
    "            self.결과 = \"다호팀승\"\n",
    "            self.이유 = \"탑을먼저완성\"\n",
    "            raise(StopIteration)\n",
    "        elif self.규빈팀이먼저완성: # 규빈팀이 먼저 완성하여 게임이 종료된 경우\n",
    "            self.결과 = \"규빈팀승\"\n",
    "            self.이유 = \"탑을먼저완성\"\n",
    "            raise(StopIteration)\n",
    "        elif self.양팀모두완성: # 양팀이 모두 완성한 경우 \n",
    "            self._팀의탑높이체크()\n",
    "            if self.규빈팀탑높이 > self.다호팀탑높이: \n",
    "                self.결과 = \"규빈팀승\"\n",
    "                self.이유 = f\"모두완성,높이합산({self.규빈팀탑높이}>{self.다호팀탑높이})\"\n",
    "                raise(StopIteration)\n",
    "            elif self.규빈팀탑높이 < self.다호팀탑높이: \n",
    "                self.결과 = \"다호팀승\"\n",
    "                self.이유 = f\"모두완성,높이합산({self.규빈팀탑높이}<{self.다호팀탑높이})\"\n",
    "                raise(StopIteration)\n",
    "            elif self.규빈팀탑높이 == self.다호팀탑높이: \n",
    "                self.결과 = \"무승부\"\n",
    "                self.이유 = f\"모두완성,높이합산({self.규빈팀탑높이}={self.다호팀탑높이})\"\n",
    "                raise(StopIteration)\n",
    "            else:\n",
    "                pass\n",
    "        elif (self.라운드초과 and self.양팀모두미완성): # 라운드가 끝날때까지, 양팀이 모두 미완성인 경우 \n",
    "            self._팀의탑높이체크()\n",
    "            if self.규빈팀탑높이 > self.다호팀탑높이: \n",
    "                self.결과 = \"규빈팀승\"\n",
    "                self.이유 = f\"모두미완성,높이합산({self.규빈팀탑높이}>{self.다호팀탑높이})\"\n",
    "                raise(StopIteration)\n",
    "            elif self.규빈팀탑높이 < self.다호팀탑높이:\n",
    "                self.결과 = \"다호팀승\"\n",
    "                self.이유 = f\"모두미완성,높이합산({self.규빈팀탑높이}<{self.다호팀탑높이})\"\n",
    "                raise(StopIteration)\n",
    "            elif self.규빈팀탑높이 == self.다호팀탑높이: \n",
    "                self.결과 = \"무승부\"\n",
    "                self.이유 = f\"모두미완성,높이합산({self.규빈팀탑높이}={self.다호팀탑높이})\"\n",
    "                raise(StopIteration)\n",
    "            else:\n",
    "                pass\n",
    "        else: # 게임이 종료조건을 만족하지 않는 경우 \n",
    "            pass\n",
    "    def 첫라운드진행(self): # 첫라운드는 공격규빈, 애교다호 모두 조용히 탑만쌓음\n",
    "        self.수련규빈.탑쌓기()\n",
    "        self.수련규빈.수련하기()\n",
    "        self.울보다호.탑쌓기()\n",
    "        self.공격규빈.탑쌓기()\n",
    "        self.애교다호.탑쌓기()\n",
    "        self.수련규빈.완성상태체크()\n",
    "        self.울보다호.완성상태체크()\n",
    "        self.공격규빈.완성상태체크()\n",
    "        self.애교다호.완성상태체크()\n",
    "    def 라운드진행(self): # 여기는 문제상황별로 다르게 작성해야함\n",
    "        pass "
   ]
  },
  {
   "cell_type": "markdown",
   "id": "5b0376a5-ca5f-4c89-8bb1-8fc823675d37",
   "metadata": {},
   "source": [
    "`#`"
   ]
  },
  {
   "cell_type": "markdown",
   "id": "f1487aa0-cbf3-4b1e-b169-0d380c7807aa",
   "metadata": {
    "tags": []
   },
   "source": [
    "# 1. 공든 탑 쌓기 I "
   ]
  },
  {
   "cell_type": "markdown",
   "id": "1730b3c3-a6fc-4fb2-81a6-6a7aea6f6c74",
   "metadata": {},
   "source": [
    "규빈과 다호가 블록을 사용하여 탑을 쌓는다. (규빈이 먼저 쌓음) 규빈은 한 번에 2개의 블록을 사용하여 탑을 쌓지만, 실수로 탑을 무너뜨릴 확률이 50%이다. 한 번 무너진 탑은 다시 처음부터 쌓아야 한다. 다호는 한 번에 1개의 블록을 사용하여 신중하게 탑을 쌓는다. 다호는 천천히 탑을 쌓지만 실수로 탑을 무너뜨리지 않는다. "
   ]
  },
  {
   "cell_type": "markdown",
   "id": "00d82d81-8af8-43db-bed2-f745ff725320",
   "metadata": {},
   "source": [
    "`(1)` 규빈과 다호가 6층 높이의 탑을 먼저 쌓는 내기를 하였다고 하자. 탑을 쌓을수 있는 기회는 10회 (=10-rounds) 준다. 승리조건은 각 라운드가 끝난 이후 정산하며 양쪽이 같은 round에 탑을 완성 시킨 경우나 양쪽이 제한횟수내에 모두 탑을 쌓지 못한경우면 무승부로 처리한다. 이 내기는 누가 유리한가? 시뮬레이션을 통하여 근거를 설명하라. "
   ]
  },
  {
   "cell_type": "markdown",
   "id": "2a9a72d9-e334-4437-8268-7f637a9175b5",
   "metadata": {},
   "source": [
    "`(클래스사용소개)`"
   ]
  },
  {
   "cell_type": "code",
   "execution_count": 129,
   "id": "d267e3aa-cd12-4f5e-80b1-3149cfbc31a7",
   "metadata": {
    "tags": []
   },
   "outputs": [],
   "source": [
    "class Simulator1(BaseSimulator):\n",
    "    def 라운드진행(self):\n",
    "        self.다호.탑쌓기()\n",
    "        self.규빈.탑쌓기()\n",
    "        self.규빈.완성상태체크() \n",
    "        self.다호.완성상태체크()  "
   ]
  },
  {
   "cell_type": "code",
   "execution_count": 130,
   "id": "a41a9b19-ca7b-4925-940e-ca4a6bbac3f7",
   "metadata": {
    "tags": []
   },
   "outputs": [],
   "source": [
    "규빈1 = Guebin(이름=\"Guebin1\",목표높이=10)\n",
    "다호1 = Daho(이름=\"Daho1\",목표높이=10)"
   ]
  },
  {
   "cell_type": "code",
   "execution_count": 131,
   "id": "c76bba06-69c4-453b-b344-f919812a0918",
   "metadata": {
    "tags": []
   },
   "outputs": [],
   "source": [
    "simulator = Simulator1(규빈1,다호1,최대라운드=10)"
   ]
  },
  {
   "cell_type": "code",
   "execution_count": 132,
   "id": "0f6e2341-9d5f-43f9-8e15-ce661f39bee6",
   "metadata": {
    "tags": []
   },
   "outputs": [],
   "source": [
    "for _ in simulator:\n",
    "    simulator.라운드진행()\n",
    "    simulator.경험저장()\n",
    "    simulator.라운드 = simulator.라운드 + 1 "
   ]
  },
  {
   "cell_type": "code",
   "execution_count": 133,
   "id": "42743fd3-e0eb-4e94-80cd-1d96173c154c",
   "metadata": {
    "tags": []
   },
   "outputs": [
    {
     "name": "stdout",
     "output_type": "stream",
     "text": [
      "규빈의탑높이들: [0, 0, 0, 2, 4, 6, 8, 0, 0, 2]\n",
      "다호의탑높이들: [1, 2, 3, 4, 5, 6, 7, 8, 9, 10]\n",
      "최종라운드: 10\n",
      "결과: 다호승\n"
     ]
    }
   ],
   "source": [
    "simulator.히스토리()"
   ]
  },
  {
   "cell_type": "code",
   "execution_count": 134,
   "id": "dcff1c67-8304-456d-b289-8bc9e5e7c6ac",
   "metadata": {
    "tags": []
   },
   "outputs": [
    {
     "data": {
      "image/png": "[encoded data removed]",
      "text/plain": [
       "<Figure size 640x480 with 1 Axes>"
      ]
     },
     "metadata": {},
     "output_type": "display_data"
    }
   ],
   "source": [
    "simulator.결과시각화()"
   ]
  },
  {
   "cell_type": "markdown",
   "id": "db799eed-7aca-4ee1-82ac-0de11bc81e0c",
   "metadata": {},
   "source": [
    "`(풀이)`"
   ]
  },
  {
   "cell_type": "code",
   "execution_count": 135,
   "id": "a1535416-2d18-4536-8b90-c0263c465d63",
   "metadata": {
    "tags": []
   },
   "outputs": [],
   "source": [
    "simulator_list = [Simulator1(Guebin(f\"Guebin{i}\",10),Daho(f\"Daho{i}\",10),최대라운드=10) for i in range(100000)] "
   ]
  },
  {
   "cell_type": "code",
   "execution_count": 136,
   "id": "020dd820-5e92-4c8c-bcee-ff93b634c2d8",
   "metadata": {
    "tags": []
   },
   "outputs": [],
   "source": [
    "for simulator in simulator_list:\n",
    "    for _ in simulator:\n",
    "        simulator.라운드진행()\n",
    "        simulator.경험저장()\n",
    "        simulator.라운드 = simulator.라운드 + 1 "
   ]
  },
  {
   "cell_type": "code",
   "execution_count": 137,
   "id": "2fecaa65-a4f3-4b21-8e8f-30788142870e",
   "metadata": {
    "tags": []
   },
   "outputs": [
    {
     "data": {
      "text/plain": [
       "{'무승부(모두성공)': 1474, '규빈승': 9478, '다호승': 89048}"
      ]
     },
     "execution_count": 137,
     "metadata": {},
     "output_type": "execute_result"
    }
   ],
   "source": [
    "results = [s.결과 for s in simulator_list]\n",
    "{s:results.count(s) for s in set(results)}"
   ]
  },
  {
   "cell_type": "markdown",
   "id": "274ebf89-0684-4a23-9336-522f69b483e4",
   "metadata": {},
   "source": [
    "`(결과분석)`"
   ]
  },
  {
   "cell_type": "markdown",
   "id": "2e662501-934e-4a2c-8c31-f6576db5a7ad",
   "metadata": {
    "tags": []
   },
   "source": [
    "**첫번째 시뮬레이션 결과탐색**"
   ]
  },
  {
   "cell_type": "code",
   "execution_count": 138,
   "id": "190c03de-197c-4907-9314-71e02d3c6f8c",
   "metadata": {
    "tags": []
   },
   "outputs": [
    {
     "data": {
      "text/plain": [
       "'다호승'"
      ]
     },
     "execution_count": 138,
     "metadata": {},
     "output_type": "execute_result"
    }
   ],
   "source": [
    "results[0]"
   ]
  },
  {
   "cell_type": "code",
   "execution_count": 139,
   "id": "35acb314-e9cc-493f-8589-8ddb23d1aff7",
   "metadata": {
    "tags": []
   },
   "outputs": [
    {
     "name": "stdout",
     "output_type": "stream",
     "text": [
      "규빈의탑높이들: [0, 2, 0, 2, 4, 6, 0, 2, 0, 0]\n",
      "다호의탑높이들: [1, 2, 3, 4, 5, 6, 7, 8, 9, 10]\n",
      "최종라운드: 10\n",
      "결과: 다호승\n"
     ]
    }
   ],
   "source": [
    "simulator_list[0].히스토리()"
   ]
  },
  {
   "cell_type": "code",
   "execution_count": 140,
   "id": "36800d88-7bec-4c2c-a853-d7884b848f5a",
   "metadata": {
    "tags": []
   },
   "outputs": [
    {
     "data": {
      "image/png": "[encoded data removed]",
      "text/plain": [
       "<Figure size 640x480 with 1 Axes>"
      ]
     },
     "metadata": {},
     "output_type": "display_data"
    }
   ],
   "source": [
    "simulator_list[0].결과시각화()"
   ]
  },
  {
   "cell_type": "markdown",
   "id": "13027a5d-80df-4eab-98ee-2f9a174907b9",
   "metadata": {
    "tags": []
   },
   "source": [
    "**두번째 시뮬레이션 결과탐색**"
   ]
  },
  {
   "cell_type": "code",
   "execution_count": 141,
   "id": "aec2061d-e02b-4f14-9fd0-3dae761681bc",
   "metadata": {
    "tags": []
   },
   "outputs": [
    {
     "data": {
      "text/plain": [
       "'규빈승'"
      ]
     },
     "execution_count": 141,
     "metadata": {},
     "output_type": "execute_result"
    }
   ],
   "source": [
    "results[1]"
   ]
  },
  {
   "cell_type": "code",
   "execution_count": 142,
   "id": "8cf91c9d-4b8f-4ce5-991b-bb4369cb1194",
   "metadata": {
    "tags": []
   },
   "outputs": [
    {
     "name": "stdout",
     "output_type": "stream",
     "text": [
      "규빈의탑높이들: [2, 4, 0, 2, 4, 6, 8, 10]\n",
      "다호의탑높이들: [1, 2, 3, 4, 5, 6, 7, 8]\n",
      "최종라운드: 8\n",
      "결과: 규빈승\n"
     ]
    }
   ],
   "source": [
    "simulator_list[1].히스토리()"
   ]
  },
  {
   "cell_type": "code",
   "execution_count": 143,
   "id": "ee5772d9-9e0a-4c1c-8668-6e3aa1322c18",
   "metadata": {
    "tags": []
   },
   "outputs": [
    {
     "data": {
      "image/png": "[encoded data removed]",
      "text/plain": [
       "<Figure size 640x480 with 1 Axes>"
      ]
     },
     "metadata": {},
     "output_type": "display_data"
    }
   ],
   "source": [
    "simulator_list[1].결과시각화()"
   ]
  },
  {
   "cell_type": "markdown",
   "id": "ed0df706-779a-42ba-aed8-8f5db0b8b3e4",
   "metadata": {},
   "source": [
    "`(2)` 규빈은 게임을 반복하다가 본인이 불리하다는 사실을 알았다. 규빈은 다호의 탑을 관찰하며, 다호의 탑이 5층 이상인 경우 다호의 탑을 공격하기로 결정했다. 공격 성공률은 60% 이며 공격이 성공시 다호의 탑은 모두 무너진다. (단, 공격시 규빈은 탑을 쌓을 수 없다) 규빈과 다호에게 탑을 쌓거나 상대방의 탑을 공격할 기회를 20회 준다. 즉 20-rounds 동안 게임을 진행한다. 누가 유리한가? 시뮬레이션을 통하여 근거를 설명하라."
   ]
  },
  {
   "cell_type": "markdown",
   "id": "1fdd7be4-5a09-4d1c-87c1-cb53b1bb266a",
   "metadata": {},
   "source": [
    "`(풀이)`"
   ]
  },
  {
   "cell_type": "code",
   "execution_count": 144,
   "id": "b33f0673-a734-498d-9269-3900d88a3d64",
   "metadata": {
    "tags": []
   },
   "outputs": [],
   "source": [
    "class Simulator2(BaseSimulator):\n",
    "    def 라운드진행(self):\n",
    "        if self.다호.현재높이 >= 5: \n",
    "            self.규빈.공격하기(self.다호)\n",
    "        else: \n",
    "            self.규빈.탑쌓기()        \n",
    "        self.다호.탑쌓기()            \n",
    "        self.규빈.완성상태체크() \n",
    "        self.다호.완성상태체크()      "
   ]
  },
  {
   "cell_type": "code",
   "execution_count": 145,
   "id": "eb114fe5-8543-4c68-ada3-c6e9f7ccbca5",
   "metadata": {
    "tags": []
   },
   "outputs": [],
   "source": [
    "simulator_list = [Simulator2(GuebinAttack(f\"Guebin{i}\",10),Daho(f\"Daho{i}\",10),최대라운드=20) for i in range(10000)] "
   ]
  },
  {
   "cell_type": "code",
   "execution_count": 146,
   "id": "9eeb0b23-a5fe-4029-8b78-bd9bc172cc6e",
   "metadata": {
    "tags": []
   },
   "outputs": [],
   "source": [
    "for simulator in simulator_list:\n",
    "    for _ in simulator:\n",
    "        simulator.라운드진행()\n",
    "        simulator.경험저장()\n",
    "        simulator.라운드 = simulator.라운드 + 1 "
   ]
  },
  {
   "cell_type": "code",
   "execution_count": 147,
   "id": "e45321f7-3e5b-42d2-8c21-a6230ead6bfd",
   "metadata": {
    "tags": []
   },
   "outputs": [
    {
     "data": {
      "text/plain": [
       "{'무승부(모두실패)': 7934, '규빈승': 1862, '다호승': 204}"
      ]
     },
     "execution_count": 147,
     "metadata": {},
     "output_type": "execute_result"
    }
   ],
   "source": [
    "results = [s.결과 for s in simulator_list]\n",
    "{s:results.count(s) for s in set(results)}"
   ]
  },
  {
   "cell_type": "markdown",
   "id": "6e94e17c-0fb6-413e-985a-c787faeb6147",
   "metadata": {},
   "source": [
    "`(3)` 다호는 규빈의 공격으로 공든탑이 무너지자 참을수가 없어져 결국 울음을 터뜨렸다. \"울음\"의 효과는 아래와 같다. \n",
    "\n",
    "- 현재 탑의 높이와 상관없이 다호의 승리 (규빈은 다호가 울면 전의를 상실하고 게임을 포기한다)\n",
    "\n",
    "\"울음\"은 다호의 탑이 무너진 경우 $p_{으앙}$ 의 확률로 발생한다. 다호가 유리해지기 시작하는 $p_{으앙}$ 는 얼마인가? (소수점 첫번째 자리까지의 정확도만 요구함) \n",
    "\n",
    "> 울음이벤트의 랜덤발생을 제외하고 전체 게임 상황은 (2)의 게임이 유지된다. 즉 게임은 20-rounds 동안 10층높이의 탑을 쌓는 규칙으로 진행되며 규빈은 다호의탑이 5층이상인 경우 다호의 탑을 공격한다. 공격성공률은 60%이며 공격이 성공시 다호의 탑은 모두 무너진다. "
   ]
  },
  {
   "cell_type": "markdown",
   "id": "81384793-f664-4980-a036-49466a8f5495",
   "metadata": {},
   "source": [
    "`(풀이)`"
   ]
  },
  {
   "cell_type": "code",
   "execution_count": 148,
   "id": "95cf535b-bca1-4cc0-b5ca-43dc25db0e4a",
   "metadata": {
    "tags": []
   },
   "outputs": [],
   "source": [
    "class Simulator3(BaseSimulator):\n",
    "    def 라운드진행(self):\n",
    "        if self.다호.현재높이 >= 5: # 공격조건만족\n",
    "            self.규빈.공격하기(self.다호) # 공격\n",
    "            if self.다호.현재높이 == 0: # 공격성공\n",
    "                self.다호.울기() # 울기시도 \n",
    "        else: \n",
    "            self.규빈.탑쌓기()        \n",
    "        self.다호.탑쌓기()\n",
    "        self.규빈.완성상태체크() \n",
    "        self.다호.완성상태체크()\n",
    "    def __next__(self):\n",
    "        if self.다호.울음상태: \n",
    "            self.결과 = \"다호승\"\n",
    "            raise(StopIteration)        \n",
    "        super().__next__()"
   ]
  },
  {
   "cell_type": "code",
   "execution_count": 149,
   "id": "35163205-6627-4648-af77-83cfb91c95f1",
   "metadata": {
    "tags": []
   },
   "outputs": [],
   "source": [
    "simulator_list = [Simulator3(GuebinAttack(f\"Guebin{i}\",10),DahoCrying(f\"Daho{i}\",10,0.1),최대라운드=20) for i in range(10000)] "
   ]
  },
  {
   "cell_type": "code",
   "execution_count": 150,
   "id": "571f73d2-6990-412a-8663-25f194badf32",
   "metadata": {
    "tags": []
   },
   "outputs": [],
   "source": [
    "for simulator in simulator_list:\n",
    "    for _ in simulator:\n",
    "        simulator.라운드진행()\n",
    "        simulator.경험저장()\n",
    "        simulator.라운드 = simulator.라운드 + 1 "
   ]
  },
  {
   "cell_type": "code",
   "execution_count": 151,
   "id": "16855ba7-bec6-42ed-b357-4953455a7c33",
   "metadata": {
    "tags": []
   },
   "outputs": [
    {
     "data": {
      "text/plain": [
       "{'무승부(모두실패)': 5867, '규빈승': 1516, '다호승': 2617}"
      ]
     },
     "execution_count": 151,
     "metadata": {},
     "output_type": "execute_result"
    }
   ],
   "source": [
    "results = [s.결과 for s in simulator_list]\n",
    "{s:results.count(s) for s in set(results)}"
   ]
  },
  {
   "cell_type": "markdown",
   "id": "50cd3d67-c482-4e7d-bea8-796f6de02353",
   "metadata": {},
   "source": [
    "`(4)` 다호가 울어버리자 규빈은 공격을 하지 않고 수련을 반복하여 다호를 이기기로 결심하였다. 규빈은 매회 탑을 쌓는 연습을 몰래하였으며 연습을 통해 탑을 쌓을 확률을 5%씩 증가시켰다. 예를들면 아래의 표와 같다. "
   ]
  },
  {
   "cell_type": "markdown",
   "id": "2bd6b472-0585-4abb-a861-a0211948cca3",
   "metadata": {
    "tags": []
   },
   "source": [
    "|round| 플레이어 | 행동 | 탑쌓기성공확률 | 상태 | 탑의높이 | \n",
    "|:--:|:--:|:--:|:--:|:--:|:--:|\n",
    "|1 | 규빈 | 탑쌓기 | 0.50  | 탑쌓기성공 | 2 | \n",
    "|1 | 규빈 | 수련하기 | (0.50 $\\to$) 0.55  | 수련결과 탑쌓는 확률 상승| 2 | \n",
    "|1 | 다호 | 탑쌓기 | 1.0 |탑쌓기성공 | 1|\n",
    "|2 | 규빈 | 탑쌓기 | 0.55  | 탑쌓기성공 | 4 | \n",
    "|2 | 규빈 | 수련하기 | (0.55 $\\to$) 0.60  | 수련결과 탑쌓는 확률 상승 | 4 | \n",
    "|2 | 다호 | 탑쌓기 | 1.0 |탑쌓기성공 | 2|\n"
   ]
  },
  {
   "cell_type": "markdown",
   "id": "e89663c4-4a59-4c37-9005-bbde4c57e5f7",
   "metadata": {},
   "source": [
    "먼저 $n$ 층 높이의 탑을 내기를 한다고 하자. 규빈이 유리해지기 시작하는 $n$ 은 얼마인가? "
   ]
  },
  {
   "cell_type": "code",
   "execution_count": 152,
   "id": "0a6a837f-5d0d-4d21-9b4e-8e8b58726e2a",
   "metadata": {
    "tags": []
   },
   "outputs": [],
   "source": [
    "class Simulator4(BaseSimulator):\n",
    "    def 라운드진행(self):\n",
    "        self.규빈.탑쌓기()\n",
    "        self.규빈.수련하기()\n",
    "        self.다호.탑쌓기()    \n",
    "        self.규빈.완성상태체크()        \n",
    "        self.다호.완성상태체크()"
   ]
  },
  {
   "cell_type": "code",
   "execution_count": 153,
   "id": "0fa45bc1-9ae0-4549-b70f-f11845e18501",
   "metadata": {
    "tags": []
   },
   "outputs": [],
   "source": [
    "def check_n(n):\n",
    "    simulator_list = [Simulator4(GuebinTraining(f\"Guebin{i}\",n),DahoCrying(f\"Daho{i}\",n,0.1),최대라운드=n) for i in range(10000)] \n",
    "    for simulator in simulator_list:\n",
    "        for _ in simulator:\n",
    "            simulator.라운드진행()\n",
    "            simulator.경험저장()\n",
    "            simulator.라운드 = simulator.라운드 + 1     \n",
    "    results = [s.결과 for s in simulator_list]\n",
    "    return results.count(\"규빈승\") / (results.count(\"규빈승\")+ results.count(\"다호승\"))"
   ]
  },
  {
   "cell_type": "code",
   "execution_count": 154,
   "id": "23fd50e1-30fc-4873-93d8-4c09f8ade81d",
   "metadata": {
    "tags": []
   },
   "outputs": [
    {
     "name": "stdout",
     "output_type": "stream",
     "text": [
      "1 승률=0.00\n",
      "2 승률=0.69\n",
      "3 승률=0.32\n",
      "4 승률=0.54\n",
      "5 승률=0.30\n",
      "6 승률=0.47\n",
      "7 승률=0.31\n",
      "8 승률=0.44\n",
      "9 승률=0.34\n",
      "10 승률=0.47\n",
      "11 승률=0.40\n",
      "12 승률=0.57\n",
      "13 승률=0.53\n",
      "14 승률=0.70\n",
      "15 승률=0.68\n",
      "16 승률=0.84\n",
      "17 승률=0.84\n",
      "18 승률=0.95\n",
      "19 승률=0.95\n",
      "20 승률=1.00\n"
     ]
    }
   ],
   "source": [
    "results = list(map(check_n,range(1,21)))\n",
    "for n,승률 in enumerate(results):\n",
    "    print(n+1, f\"승률={승률:.2f}\")"
   ]
  },
  {
   "cell_type": "code",
   "execution_count": 155,
   "id": "c71be924-4220-41c8-8f9b-500de7c4b3fc",
   "metadata": {
    "tags": []
   },
   "outputs": [],
   "source": [
    "n = 12"
   ]
  },
  {
   "cell_type": "code",
   "execution_count": 156,
   "id": "a73f2c92-55f8-471d-a6ad-be7854e32a95",
   "metadata": {},
   "outputs": [],
   "source": [
    "# n=2,4 에서 다호가 유리하며 n>=12 이후로는 쭉 다호가 유리하다."
   ]
  },
  {
   "cell_type": "markdown",
   "id": "6a8eb192-eca1-4738-a927-60bf94c16dca",
   "metadata": {},
   "source": [
    "`(5)` 다호는 수련을 통해 매회 블럭쌓는 실력이 향상되는 규빈과 (4에서 구한) $n$층 높이의 탑을 쌓는 내기를 반복하였다. 반복되는 내기에서 다호는 본인이 조금 불리한것 같다는 생각을 하였다. 그래서 규빈이 탑을 쌓는것을 지켜보다가 규빈이 탑을 성공할때마다 애교를 부리기로 결심했다. \n",
    "\n",
    "- 상황1: 규빈이 2개 블럭 쌓기에 성공하는 것을 관찰한다. $\\to$ \"그 블럭 나한테 주면 안돼?\" 라고 애교를 부린다. $\\to$ 애교가 성공하면 다호의 탑에 2개의 블록이 추가된다. 애교가 실패하면 규빈탑에 그대로 2개의 블럭이 추가되고, 다호의 탑에는 블럭이 추가되지 않는다. \n",
    "- 상황2: 규빈이 2개 블럭 쌓기에 실패하는 것을 관찰한다. $\\to$ 애교를 부릴 이유가 없어졌다. 묵묵히 하나의 블럭을 차분하게 쌓는다. \n",
    "\n",
    "따라서 발생가능한 모든 경우의 수는 아래와 같다. \n",
    "\n",
    "|규빈이 탑쌓기 성공|애교시도|애교성공|규빈탑높이|다호탑높이|\n",
    "|:--:|:--:|:--:|:--:|:--:|\n",
    "|True|True|True|+0 | +2\n",
    "|True|True|False|+2 | +0\n",
    "|False|False|None|+0 | +1\n",
    "\n"
   ]
  },
  {
   "cell_type": "markdown",
   "id": "c0803268-d13c-4199-b9bb-e027a10269cb",
   "metadata": {},
   "source": [
    "아래는 5층 높이의 탑을 먼저 쌓는 조건을 round 4까지만 진행한다고 할때 발생가능한 게임양상의 예시이다. "
   ]
  },
  {
   "cell_type": "markdown",
   "id": "670c6756-a268-466a-be01-1cee8169a31a",
   "metadata": {},
   "source": [
    "`# 경우1` -- 다호가 승리"
   ]
  },
  {
   "cell_type": "markdown",
   "id": "0d8705c2-21a4-4f73-af64-8f799ae358ea",
   "metadata": {
    "tags": []
   },
   "source": [
    "|round| 플레이어 | 행동 | 상태 | 탑의높이들 (수련규빈, 애교다호) | 승리조건|\n",
    "|:--:|:--:|:--:|:--:|:--:|:--:|\n",
    "|1 | 규빈 | 탑쌓기 $\\to$ 수련하기 | 탑쌓기성공 | 2,0 |양쪽 모두 승리조건 만족X |\n",
    "|1 | 다호 | 애교 | 애교성공 | 0,2 |양팀 모두 승리조건 만족X |\n",
    "|2 | 규빈 | 탑쌓기 $\\to$ 수련하기 | 탑쌓기실패 | 0,2 |양쪽 모두 승리조건 만족X |\n",
    "|2 | 다호 | 탑쌓기(애교대상없음) | 탑쌓기성공 | 0,3 |양쪽 모두 승리조건 만족X |\n",
    "|3 | 규빈 | 탑쌓기 $\\to$ 수련하기 | 탑쌓기성공 | 2,3 |양쪽 모두 승리조건 만족X|\n",
    "|3 | 다호 | 애교 | 애교성공 | 0,5 | 다호가 승리조건 만족 |\n",
    "\n",
    "**다호의 승리**"
   ]
  },
  {
   "cell_type": "markdown",
   "id": "7f992bfc-6f19-4a79-be7e-b72bf8f081ea",
   "metadata": {},
   "source": [
    "`#`"
   ]
  },
  {
   "cell_type": "markdown",
   "id": "32509ebc-b9a7-495a-a3aa-ce7b9e199f92",
   "metadata": {},
   "source": [
    "`# 경우2` -- 규빈이 승리하는듯 보였지만 결국 다호가 승리"
   ]
  },
  {
   "cell_type": "markdown",
   "id": "a3e37e56-2ef5-4971-a21d-0a11ca55b9f7",
   "metadata": {
    "tags": []
   },
   "source": [
    "|round| 플레이어 | 행동 | 상태 | 탑의높이들 (수련규빈, 애교다호) | 승리조건|\n",
    "|:--:|:--:|:--:|:--:|:--:|:--:|\n",
    "|1 | 규빈 | 탑쌓기 $\\to$ 수련하기 | 탑쌓기성공 | 2,0 |양쪽 모두 승리조건 만족X |\n",
    "|1 | 다호 | 애교 | 애교실패 | 2,0 |양팀 모두 승리조건 만족X |\n",
    "|2 | 규빈 | 탑쌓기 $\\to$ 수련하기 | 탑쌓기성공 | 4,0 |양쪽 모두 승리조건 만족X |\n",
    "|2 | 다호 | 애교 | 애교성공 | 2,2 |양쪽 모두 승리조건 만족X |\n",
    "|3 | 규빈 | 탑쌓기 $\\to$ 수련하기 | 탑쌓기성공 | 4,2 |양쪽 모두 승리조건 만족X|\n",
    "|3 | 다호 | 애교 | 애교성공 | 2,4 |양쪽 모두 승리조건 만족X|\n",
    "|4 | 규빈 | 탑쌓기 $\\to$ 수련하기 | 탑쌓기성공 | 4,4 |양쪽 모두 승리조건 만족X|\n",
    "|4 | 다호 | 애교 | 애교실패| 4,4 |양쪽 모두 승리조건 만족X|\n",
    "|5 | 규빈 | 탑쌓기 $\\to$ 수련하기 | 탑쌓기성공 | 6,4 |규빈이 승리조건 만족|\n",
    "|5 | 다호 | 애교 | 애교성공| 4,6 |다호가 승리조건 만족|\n",
    "\n",
    "**최종적으로 다호의 승리**"
   ]
  },
  {
   "cell_type": "markdown",
   "id": "478627ec-8068-4fa7-a253-91b4b8f1cbaf",
   "metadata": {},
   "source": [
    "`#`"
   ]
  },
  {
   "cell_type": "markdown",
   "id": "b8c58003-9df1-41bd-8cf6-07d9d08a754b",
   "metadata": {},
   "source": [
    "라운드 제한없이 $n$층의 높이를 먼저 쌓는 내기를 할때, 애교의 성공확률 $p_{아잉}$ 가 얼마 이상이면 다호의 승률이 70% 이상이 되는가? (Note: $p_{아잉}=1$ 이면 다호의 승률은 100%이다. 즉 규빈은 이길 수 없다.)"
   ]
  },
  {
   "cell_type": "markdown",
   "id": "3a0e433b-cf1a-405f-94c5-11fe3e4ed393",
   "metadata": {},
   "source": [
    "`(풀이)`"
   ]
  },
  {
   "cell_type": "code",
   "execution_count": 157,
   "id": "defb4da8-3b9e-4989-94e2-cbb4e88e8063",
   "metadata": {
    "tags": []
   },
   "outputs": [],
   "source": [
    "class Simulator5(BaseSimulator):\n",
    "    def 라운드진행(self):\n",
    "        self.규빈.탑쌓기()\n",
    "        self.규빈.수련하기()\n",
    "        if self.규빈.블록쌓기성공상태:\n",
    "            self.다호.애교부리기(self.규빈)\n",
    "        else: \n",
    "            self.다호.탑쌓기()    \n",
    "        self.규빈.완성상태체크()            \n",
    "        self.다호.완성상태체크()"
   ]
  },
  {
   "cell_type": "code",
   "execution_count": 158,
   "id": "7ba6b1b9-d509-4317-9f67-51f045ad9719",
   "metadata": {
    "tags": []
   },
   "outputs": [],
   "source": [
    "def check_p(p):\n",
    "    simulator_list = [Simulator5(GuebinTraining(f\"Guebin{i}\",n),DahoStill(f\"Daho{i}\",n,p)) for i in range(10000)] \n",
    "    for simulator in simulator_list:\n",
    "        for _ in simulator:\n",
    "            simulator.라운드진행()\n",
    "            simulator.경험저장()\n",
    "            simulator.라운드 = simulator.라운드 + 1     \n",
    "    results = [s.결과 for s in simulator_list]\n",
    "    return results.count(\"다호승\") / (results.count(\"규빈승\")+ results.count(\"다호승\"))"
   ]
  },
  {
   "cell_type": "code",
   "execution_count": 159,
   "id": "a741613c-0c90-4eef-bf69-a2b9fdace440",
   "metadata": {
    "tags": []
   },
   "outputs": [],
   "source": [
    "probs = np.arange(1,11)/10\n",
    "results = list(map(check_p,probs))"
   ]
  },
  {
   "cell_type": "code",
   "execution_count": 160,
   "id": "7f24d1f9-59b2-4780-9e53-1a25b352d48b",
   "metadata": {
    "tags": []
   },
   "outputs": [
    {
     "data": {
      "text/plain": [
       "{0.1: 0.0123,\n",
       " 0.2: 0.1051,\n",
       " 0.3: 0.3094,\n",
       " 0.4: 0.5647,\n",
       " 0.5: 0.7841,\n",
       " 0.6: 0.9211,\n",
       " 0.7: 0.9797,\n",
       " 0.8: 0.9983,\n",
       " 0.9: 1.0,\n",
       " 1.0: 1.0}"
      ]
     },
     "execution_count": 160,
     "metadata": {},
     "output_type": "execute_result"
    }
   ],
   "source": [
    "dict(zip(probs,results))"
   ]
  },
  {
   "cell_type": "code",
   "execution_count": 190,
   "id": "29e93687-581a-4068-8876-33e86ea1ddd9",
   "metadata": {},
   "outputs": [],
   "source": [
    "# 0.5 이면 다호의 승률이 0.7 이상이 된다. "
   ]
  },
  {
   "cell_type": "markdown",
   "id": "4e00fbda-ce9a-4072-9c69-ab759dfe9379",
   "metadata": {},
   "source": [
    "# 2. 공든 탑 쌓기 II"
   ]
  },
  {
   "cell_type": "markdown",
   "id": "c365a1a6-d63d-4dd7-8e74-827a38c8d0d7",
   "metadata": {},
   "source": [
    "하니는 규빈과 다호가 탑을 쌓는 과정을 유심히 바라보다가 게임을 하나 만들었다. 게임에는 다음과 같은 4명의 캐릭터가 등장한다. \n",
    "\n",
    "- 공격규빈: 공든 탑 쌓기 I-(2)에서의 규빈 \n",
    "- 울보다호: 공든 탑 쌓기 I-(3)에서의 다호 // $p_{으앙}$의 확률로 울음\n",
    "- 수련규빈: 공든 탑 쌓기 I-(4)에서의 규빈 \n",
    "- 애교다호: 공든 탑 쌓기 I-(5)에서의 다호 // 애교는 $p_{아잉}$의 확률로 성공한다. "
   ]
  },
  {
   "cell_type": "markdown",
   "id": "fe400f44-9188-4edd-9f93-28ad9b4fd9d3",
   "metadata": {},
   "source": [
    "4명의 캐릭터중 [수련규빈, 공격규빈] 이 한팀으로, [울보다호, 애교다호] 가 한팀으로 구성되었다. 게임은 수련규빈, 울보다호, 공격규빈, 애교다호 순서로 번갈아가며 탑을 쌓는 방식으로 진행한다. 수련규빈, 울보다호, 공격규빈, 애교다호의 탑중 가장 빨리 탑을 완성시킨 캐릭터가 포함된 팀이 최종승리한다. 승리조건은 각 라운드가 끝난 이후 정산하며 양팀이 같은 round에 탑을 완성 시킨 경우나 양팀이 제한횟수내에 모두 탑을 쌓지 못한경우면 팀의 탑높이를 합산하여 승자를 결정한다. 합산점수도 동일하다면 무승부 처리한다. 규칙의 세부적인 내용은 아래와 같다. \n",
    "\n",
    "1. 공격규빈과 애교다호는 1라운드에는 탑을 공격하거나 뺏지 않으며 2라운드부터 상대팀 중 한명의 탑을 무너뜨리거나 뺏을 수 있다.\n",
    "2. 울보다호가 울 경우 게임은 즉시 중지되며 다호팀이 승리한다. \n",
    "3. 팀의 탑의 높이를 합산할시, 최종목표타워 높이보다 높은 블록은 합산하지 않는다. (즉 5층을 먼저 쌓는 내기라면 6층을 쌓더라도 5층으로 계산한다.) \n",
    "4. 애교다호는 해당 라운드에 탑쌓기에 성공한 플레이어에게만 애교를 사용할 수 있다. 탑쌓기에 성공한 플레이어가 2명이면 둘중하나에게만 애교를 사용할 수 있다. (애교를 거는 대상은 팀 전략에 따라 달라진다. 랜덤으로 애교를 건다든가? 탑을 높이 쌓은 쪽에게 애교를 시전한다든가?) "
   ]
  },
  {
   "cell_type": "markdown",
   "id": "17637a52-11da-4ba8-9e20-973a777e566e",
   "metadata": {},
   "source": [
    "5층 높이의 탑을 먼저 쌓는 조건을 round4까지만 진행한다고 할때 발생가능한 게임예시는 아래와 같다. "
   ]
  },
  {
   "cell_type": "markdown",
   "id": "da73f8c5-372c-450a-b488-2c77cc729c08",
   "metadata": {},
   "source": [
    "`# 경우1` -- 수련규빈이 먼저 탑을 완성하며 규빈팀 최종승리 "
   ]
  },
  {
   "cell_type": "markdown",
   "id": "0e97c56c-e191-48f8-bd2a-aac8c0eed0e8",
   "metadata": {
    "tags": []
   },
   "source": [
    "|round| 플레이어 | 행동 | 상태 | 탑의높이들 ([수련규빈,공격규빈],[울보다호,애교다호]) | 승리조건\n",
    "|:--:|:--:|:--:|:--:|:--:|:--:|\n",
    "|1 | 수련규빈 | 탑쌓기 $\\to$ 수련하기 | 탑쌓기성공 | [2,0], [0,0] | 양팀 모두 승리조건 만족X |\n",
    "|1 | 울보다호 | 탑쌓기 | 탑쌓기성공 | [2,0], [1,0] |양팀 모두 승리조건 만족X |\n",
    "|1 | 공격규빈 | 탑쌓기 | 탑쌓기실패 | [2,0], [1,0] |양팀 모두 승리조건 만족X |\n",
    "|1 | 애교다호 | 탑쌓기 | 탑쌓기성공 | [2,0], [1,1] |양팀 모두 승리조건 만족X |\n",
    "|-|-|-|-|-|\n",
    "|2 | 수련규빈 | 탑쌓기 $\\to$ 수련하기 | 탑쌓기성공 | [4,0], [1,1] |양팀 모두 승리조건 만족X |\n",
    "|2 | 울보다호 | 탑쌓기 | 탑쌓기성공 | [4,0], [2,1] |양팀 모두 승리조건 만족X |\n",
    "|2 | 공격규빈 | 탑쌓기 | 탑쌓기성공 | [4,2], [2,1] |양팀 모두 승리조건 만족X |\n",
    "|2 | 애교다호 | 수련규빈에게 애교 | 애교실패 | [4,2], [2,1] |양팀 모두 승리조건 만족X |\n",
    "|-|-|-|-|-|\n",
    "|3 | 수련규빈 | 탑쌓기 $\\to$ 수련하기 | 탑쌓기성공 | [6,2], [2,1] |규빈팀 승리조건 만족 |\n",
    "|3 | 울보다호 | 탑쌓기 | 탑쌓기성공 | [6,2], [3,1] |규빈팀 승리조건 만족 |\n",
    "|3 | 공격규빈 | 탑쌓기 | 탑쌓기성공 | [6,4], [3,1] |규빈팀 승리조건 만족 |\n",
    "|3 | 애교다호 | 수련규빈에게 애교 | 애교실패 | [6,4], [3,1] |규빈팀 승리조건 만족 |\n",
    "\n",
    "**수련규빈이 6층을 완성하여 목표치 5층보다 높으므로 규빈팀 최종송리**"
   ]
  },
  {
   "cell_type": "markdown",
   "id": "f2299c2f-629e-4c66-a1bc-a5daaa16ce05",
   "metadata": {},
   "source": [
    "`#`"
   ]
  },
  {
   "cell_type": "markdown",
   "id": "d5d55896-c833-4c14-b7c8-4fa2078d1b78",
   "metadata": {},
   "source": [
    "`# 경우2` -- 애교다호가 수련규빈의 완성을 가로채며 다호팀 최종승리 "
   ]
  },
  {
   "cell_type": "markdown",
   "id": "b24445b4-6b06-47bc-9b07-cbe296b81471",
   "metadata": {
    "tags": []
   },
   "source": [
    "|round| 플레이어 | 행동 | 상태 | 탑의높이들 ([수련규빈,공격규빈],[울보다호,애교다호]) | 승리조건|\n",
    "|:--:|:--:|:--:|:--:|:--:|:--:|\n",
    "|1 | 수련규빈 | 탑쌓기 $\\to$ 수련하기 | 탑쌓기성공 | [2,0], [0,0] | 양팀 모두 승리조건 만족X |\n",
    "|1 | 울보다호 | 탑쌓기 | 탑쌓기성공 | [2,0], [1,0] | 양팀 모두 승리조건 만족X |\n",
    "|1 | 공격규빈 | 탑쌓기 | 탑쌓기실패 | [2,0], [1,0] | 양팀 모두 승리조건 만족X |\n",
    "|1 | 애교다호 | 탑쌓기 | 탑쌓기성공 | [2,0], [1,1] | 양팀 모두 승리조건 만족X |\n",
    "|-|-|-|-|-|\n",
    "|2 | 수련규빈 | 탑쌓기 $\\to$ 수련하기 | 탑쌓기성공 | [4,0], [1,1] | 양팀 모두 승리조건 만족X |\n",
    "|2 | 울보다호 | 탑쌓기 | 탑쌓기성공 | [4,0], [2,1] | 양팀 모두 승리조건 만족X |\n",
    "|2 | 공격규빈 | 울보다호공격 | 공격성공,울음발동X | [4,0], [0,1] | 양팀 모두 승리조건 만족X |\n",
    "|2 | 애교다호 | 수련규빈에게 애교 | 애교성공 | [2,0], [0,3] | 양팀 모두 승리조건 만족X |\n",
    "|-|-|-|-|-|\n",
    "|3 | 수련규빈 | 탑쌓기 $\\to$ 수련하기 | 탑쌓기성공| [4,0], [0,3] | 양팀 모두 승리조건 만족X |\n",
    "|3 | 울보다호 | 탑쌓기 | 탑쌓기성공 | [4,0], [1,3] | 양팀 모두 승리조건 만족X |\n",
    "|3 | 공격규빈 | 애교다호공격 | 공격실패 | [4,0], [1,3] | 양팀 모두 승리조건 만족X |\n",
    "|3 | 애교다호 | 수련규빈에게 애교 | 애교실패 | [4,0], [1,3] | 양팀 모두 승리조건 만족X |\n",
    "|-|-|-|-|-|\n",
    "|4 | 수련규빈 | 탑쌓기 $\\to$ 수련하기 | 탑쌓기성공 | [6,0], [1,3] | 규빈팀 승리조건 만족 |\n",
    "|4 | 울보다호 | 탑쌓기 | 탑쌓기성공 | [6,0], [2,3] |규빈팀 승리조건 만족 |\n",
    "|4 | 공격규빈 | 애교다호공격 | 공격실패| [6,0], [2,3] |규빈팀 승리조건 만족 |\n",
    "|4 | 애교다호 | 수련규빈에게 애교 | 애교성공| [4,0], [2,5] |다호팀 승리조건 만족 |\n",
    "\n",
    "**수련규빈의 탑을 애교다호가 스틸하며 4라운드에서 다호팀이 최종승리**"
   ]
  },
  {
   "cell_type": "markdown",
   "id": "406fcc23-a3f7-40eb-8a8a-e9b70fe9e156",
   "metadata": {},
   "source": [
    "`#`"
   ]
  },
  {
   "cell_type": "markdown",
   "id": "372f75ae-130b-4dec-b82c-5fede9382bbe",
   "metadata": {},
   "source": [
    "`# 경우3` -- 울음이 발동되며 다호팀 승리 "
   ]
  },
  {
   "cell_type": "markdown",
   "id": "9bb87554-a27e-454c-852a-d869c6edec0f",
   "metadata": {
    "tags": []
   },
   "source": [
    "|round| 플레이어 | 행동 | 상태 | 탑의높이들 ([수련규빈,공격규빈],[울보다호,애교다호]) | 승리조건|\n",
    "|:--:|:--:|:--:|:--:|:--:|:--:|\n",
    "|1 | 수련규빈 | 탑쌓기 $\\to$ 수련하기 | 탑쌓기성공 | [2,0], [0,0] |양팀 모두 승리조건 만족X |\n",
    "|1 | 울보다호 | 탑쌓기 | 탑쌓기성공 | [2,0], [1,0] |양팀 모두 승리조건 만족X |\n",
    "|1 | 공격규빈 | 탑쌓기 | 탑쌓기실패 | [2,0], [1,0] |양팀 모두 승리조건 만족X |\n",
    "|1 | 애교다호 | 탑쌓기 | 탑쌓기성공 | [2,0], [1,1] |양팀 모두 승리조건 만족X |\n",
    "|-|-|-|-|-|\n",
    "|2 | 수련규빈 | 탑쌓기 $\\to$ 수련하기 | 탑쌓기성공 | [4,0], [1,1] |양팀 모두 승리조건 만족X |\n",
    "|2 | 울보다호 | 탑쌓기 | 탑쌓기성공 | [4,0], [2,1] |양팀 모두 승리조건 만족X |\n",
    "|2 | 공격규빈 | 울보다호공격 | 공격성공,울음발동X | [4,0], [0,1] |양팀 모두 승리조건 만족X |\n",
    "|2 | 애교다호 | 수련규빈에게 애교 | 애교성공 | [2,0], [0,3] |양팀 모두 승리조건 만족X |\n",
    "|-|-|-|-|-|\n",
    "|3 | 수련규빈 | 탑쌓기 $\\to$ 수련하기 | 탑쌓기실패 | [0,0], [0,3] |양팀 모두 승리조건 만족X |\n",
    "|3 | 울보다호 | 탑쌓기 | 탑쌓기성공 | [0,0], [1,3] |양팀 모두 승리조건 만족X |\n",
    "|3 | 공격규빈 | 애교다호공격 | 공격실패 | [0,0], [1,3] |양팀 모두 승리조건 만족X |\n",
    "|3 | 애교다호 | 탑쌓기(**애교대상없음**)^[라운드3에서 탑쌓기에 성공한 규빈이 없으므로 뺏을게 없다] | 탑쌓기성공 | [0,0], [1,4] |양팀 모두 승리조건 만족X |\n",
    "|-|-|-|-|-|\n",
    "|4 | 수련규빈 | 탑쌓기 $\\to$ 수련하기 | 탑쌓기성공 | [2,0], [1,4] |양팀 모두 승리조건 만족X |\n",
    "|4 | 울보다호 | 탑쌓기 | 탑쌓기성공 | [2,0], [2,4] |양팀 모두 승리조건 만족X |\n",
    "|4 | 공격규빈 | 울보다호공격 | 공격성공 $\\to$ 울음발동 | [2,0], [0,4] |양팀 모두 승리조건 만족X |\n",
    "\n",
    "**울음이 발동되며 경기종료: 다호팀 승리**"
   ]
  },
  {
   "cell_type": "markdown",
   "id": "4139705d-e4c0-4334-bc90-414bb014d349",
   "metadata": {},
   "source": [
    "`#`"
   ]
  },
  {
   "cell_type": "markdown",
   "id": "40376873-4e2f-4d4c-82b9-76aaf9845183",
   "metadata": {},
   "source": [
    "`# 경우4` -- 수련규빈과 애교다호가 동시에 성공하며 점수합산으로 승자결정, 점수합산 결과 다호팀 승리. "
   ]
  },
  {
   "cell_type": "markdown",
   "id": "edffb4f0-37b3-47fa-970b-705e26872a44",
   "metadata": {
    "tags": []
   },
   "source": [
    "|round| 플레이어 | 행동 | 상태 | 탑의높이들 ([수련규빈,공격규빈],[울보다호,애교다호]) | 승리조건|\n",
    "|:--:|:--:|:--:|:--:|:--:|:--:|\n",
    "|1 | 수련규빈 | 탑쌓기 $\\to$ 수련하기 | 탑쌓기성공 | [2,0], [0,0] |양팀 모두 승리조건 만족X |\n",
    "|1 | 울보다호 | 탑쌓기 | 탑쌓기성공 | [2,0], [1,0] |양팀 모두 승리조건 만족X |\n",
    "|1 | 공격규빈 | 탑쌓기 | 탑쌓기성공 | [2,2], [1,0] |양팀 모두 승리조건 만족X |\n",
    "|1 | 애교다호 | 탑쌓기 | 탑쌓기성공 | [2,2], [1,1] |양팀 모두 승리조건 만족X |\n",
    "|2 | 수련규빈 | 탑쌓기 $\\to$ 수련하기 | 탑쌓기성공 | [4,2], [1,1] |양팀 모두 승리조건 만족X |\n",
    "|2 | 울보다호 | 탑쌓기 | 탑쌓기성공 | [4,2], [2,1] |양팀 모두 승리조건 만족X |\n",
    "|2 | 공격규빈 | 탑쌓기 | 탑쌓기성공 | [4,4], [2,1] |양팀 모두 승리조건 만족X |\n",
    "|2 | 애교다호 | 공격규빈에게 애교 | 애교성공 | [4,2], [2,3] |양팀 모두 승리조건 만족X |\n",
    "|3 | 수련규빈 | 탑쌓기 $\\to$ 수련하기 | 탑쌓기성공 | [6,2], [2,3] |규빈팀 승리조건 만족 |\n",
    "|3 | 울보다호 | 탑쌓기 | 탑쌓기성공 | [6,2], [3,3] |규빈팀 승리조건 만족 |\n",
    "|3 | 공격규빈 | 탑쌓기 | 탑쌓기성공 | [6,4], [3,3] |규빈팀 승리조건 만족 |\n",
    "|3 | 애교다호 | 공격규빈에게 애교 | 탑쌓기성공 | [6,2], [3,5] |양팀 모두 승리조건 만족 |\n",
    "\n",
    "**양팀 모두 승리 조건 만족, `규빈팀 합산 = (6-1)+2 = 7`, `다호팀 합산 = 3+5 = 8` 이므로 다호팀 승리**"
   ]
  },
  {
   "cell_type": "markdown",
   "id": "d7114f24-7b4d-4417-9d08-805e7bb7caaf",
   "metadata": {},
   "source": [
    "`(1)` 공격규빈은 2라운드부터 항상 울보다호를 공격하는 전략을 선택한다고 하자. (따라서 애교다호는 공격규빈에게 애교를 부리진 않는다^[공격규빈은 탑을 안쌓으니까요]) 20라운드 동안 20층높이의 탑을 먼저 쌓는 내기를 할때 유리한 팀은 어느쪽인가? 시뮬레이션을 바탕으로 근거를 설명하라.  "
   ]
  },
  {
   "cell_type": "markdown",
   "id": "cf62bda1-e456-448f-ae2a-d892b38ccef4",
   "metadata": {},
   "source": [
    "`(풀이)`"
   ]
  },
  {
   "cell_type": "code",
   "execution_count": 8,
   "id": "74fb364c-3dee-4a46-92c8-34efc8ce5b0a",
   "metadata": {
    "tags": []
   },
   "outputs": [],
   "source": [
    "class Simulator1(BaseSimulator2):\n",
    "    def 라운드진행(self):\n",
    "        self.수련규빈.탑쌓기()\n",
    "        self.수련규빈.수련하기()\n",
    "        self.울보다호.탑쌓기()\n",
    "        self.공격규빈.공격하기(self.울보다호)\n",
    "        if self.울보다호.현재높이 == 0:\n",
    "            self.울보다호.울기()\n",
    "        if self.수련규빈.블록쌓기성공상태:\n",
    "            self.애교다호.애교부리기(self.수련규빈)\n",
    "        else:\n",
    "            self.애교다호.탑쌓기()\n",
    "        self.수련규빈.완성상태체크()\n",
    "        self.울보다호.완성상태체크()\n",
    "        self.공격규빈.완성상태체크()\n",
    "        self.애교다호.완성상태체크()                "
   ]
  },
  {
   "cell_type": "code",
   "execution_count": 9,
   "id": "aa9a0a31-a164-4f2c-85d1-4409188b5f18",
   "metadata": {
    "tags": []
   },
   "outputs": [],
   "source": [
    "수련규빈들 = [GuebinTraining(이름=f\"GuebinTraining{i}\",목표높이=20) for i in range(100000)]\n",
    "공격규빈들 = [GuebinAttack(이름=f\"GuebinAttack{i}\",목표높이=20,공격성공률=0.6) for i in range(100000)]\n",
    "울보다호들 = [DahoCrying(이름=f\"DahoCrying{i}\",목표높이=20,울확률=0.1) for i in range(100000)]\n",
    "애교다호들 = [DahoStill(이름=f\"DahoStill{i}\",목표높이=20,애교성공률=0.5) for i in range(100000)]\n",
    "플레이어들 = zip(수련규빈들,공격규빈들,울보다호들,애교다호들)\n",
    "simulator_list = [Simulator1(*플레이어,최대라운드=20) for 플레이어 in 플레이어들]"
   ]
  },
  {
   "cell_type": "code",
   "execution_count": 10,
   "id": "5add364a-4407-49f3-b9fc-2ed4942d3caa",
   "metadata": {
    "tags": []
   },
   "outputs": [],
   "source": [
    "for simulator in simulator_list:\n",
    "    simulator.첫라운드진행()\n",
    "    simulator.경험저장()\n",
    "    simulator.라운드 = simulator.라운드 + 1\n",
    "    for _ in simulator:\n",
    "        simulator.라운드진행()\n",
    "        simulator.경험저장()\n",
    "        simulator.라운드 = simulator.라운드 + 1"
   ]
  },
  {
   "cell_type": "code",
   "execution_count": 11,
   "id": "7ab12bd1-5dcc-4981-a5a2-dbf65ee1bd4a",
   "metadata": {
    "tags": []
   },
   "outputs": [
    {
     "data": {
      "text/plain": [
       "{'규빈팀승': 8014, '다호팀승': 91088, '무승부': 898}"
      ]
     },
     "execution_count": 11,
     "metadata": {},
     "output_type": "execute_result"
    }
   ],
   "source": [
    "results = [s.결과 for s in simulator_list]\n",
    "{s:results.count(s) for s in set(results)}"
   ]
  },
  {
   "cell_type": "code",
   "execution_count": 204,
   "id": "1ca9b919-b367-4658-a213-19659786ad62",
   "metadata": {
    "tags": []
   },
   "outputs": [
    {
     "data": {
      "text/plain": [
       "(None, '다호팀승')"
      ]
     },
     "execution_count": 204,
     "metadata": {},
     "output_type": "execute_result"
    },
    {
     "data": {
      "image/png": "[encoded data removed]",
      "text/plain": [
       "<Figure size 640x480 with 1 Axes>"
      ]
     },
     "metadata": {},
     "output_type": "display_data"
    }
   ],
   "source": [
    "simulator_list[2].결과시각화(), results[2]"
   ]
  },
  {
   "cell_type": "code",
   "execution_count": 205,
   "id": "d7dcd480-995d-4760-bb3a-fd137527842a",
   "metadata": {},
   "outputs": [
    {
     "name": "stdout",
     "output_type": "stream",
     "text": [
      "수련규빈의탑높이: [2, 0, 0, 0, 0, 2, 4, 6, 6, 8, 10, 10, 10, 10, 10, 10, 10]\n",
      "공격규빈의탑높이: [0, 0, 0, 0, 0, 0, 0, 0, 0, 0, 0, 0, 0, 0, 0, 0, 0]\n",
      "울보다호의탑높이: [1, 0, 1, 0, 1, 2, 0, 0, 1, 2, 0, 0, 1, 2, 0, 1, 0]\n",
      "애교다호의탑높이: [1, 2, 3, 4, 6, 6, 6, 6, 8, 8, 8, 10, 12, 14, 16, 18, 20]\n",
      "최종라운드: 17\n",
      "결과: 다호팀승\n",
      "이유: 탑을먼저완성\n"
     ]
    }
   ],
   "source": [
    "simulator_list[2].히스토리()"
   ]
  },
  {
   "cell_type": "markdown",
   "id": "71233718-75f7-4a52-8f6e-3d875a05a10d",
   "metadata": {},
   "source": [
    "`(2)` 공격규빈은 아래와 같은 전략으로 공격한다고 가정하자. \n",
    "\n",
    "- 상대편의 탑이 15층 이상일 경우만 그 탑을 공격한다. \n",
    "- 애교다호와 울보다호의 탑이 모두 15층 이상이라면 애교다호를 공격한다. \n",
    "\n",
    "또한 애교다호는 아래의 전략을 사용한다. \n",
    "\n",
    "- 애교다호는 해당 라운드에서 탑쌓기에 성공한 플레이어에게 애교를 사용한다. \n",
    "- 상대편에 탑쌓기를 성공한 플레이어가 2명이면 둘중 탑을 높이 쌓은 쪽에게 애교를 사용한다. (둘의 탑높이가 같다면 수련규빈에게 애교를 사용한다)\n",
    "\n",
    "20라운드 동안 20층높이의 탑을 먼저 쌓는 내기를 할때 유리한 팀은 어느쪽인가? 시뮬레이션을 바탕으로 근거를 설명하라."
   ]
  },
  {
   "cell_type": "markdown",
   "id": "63eb2a14-6c45-432f-a00c-4b4cab9daefa",
   "metadata": {},
   "source": [
    "`(풀이)`"
   ]
  },
  {
   "cell_type": "code",
   "execution_count": 12,
   "id": "f8d9cb41-4f21-49e5-8f42-b721facf4b47",
   "metadata": {
    "tags": []
   },
   "outputs": [],
   "source": [
    "class Simulator2(BaseSimulator2):\n",
    "    def 라운드진행(self):\n",
    "        # 수련규빈\n",
    "        self.수련규빈.탑쌓기()\n",
    "        self.수련규빈.수련하기()\n",
    "        # 울보다호 \n",
    "        self.울보다호.탑쌓기()\n",
    "        # 공격규빈\n",
    "        if self.애교다호.현재높이 >= 15:\n",
    "            self.공격규빈.공격하기(self.애교다호)\n",
    "        elif self.울보다호.현재높이 >= 15:\n",
    "            self.공격규빈.공격하기(self.울보다호)\n",
    "            if self.울보다호.현재높이 == 0:\n",
    "                self.울보다호.울기()            \n",
    "        else: \n",
    "            self.공격규빈.탑쌓기()\n",
    "        # 애교다호 \n",
    "        ## 애교대상을 결정하기 위해서 누가 탑을 성공적으로 쌓았는지 살핀다. \n",
    "        수련규빈만블록쌓기성공 = self.수련규빈.블록쌓기성공상태 and not self.공격규빈.블록쌓기성공상태\n",
    "        공격규빈만블록쌓기성공 = not self.수련규빈.블록쌓기성공상태 and self.공격규빈.블록쌓기성공상태\n",
    "        모두블록쌓기성공 = self.수련규빈.블록쌓기성공상태 and self.공격규빈.블록쌓기성공상태\n",
    "        모두블록쌓기실패 = not self.수련규빈.블록쌓기성공상태 and not self.공격규빈.블록쌓기성공상태\n",
    "        if 수련규빈만블록쌓기성공: # 수련규빈만 블록쌓기에 성공했다면 수련규빈의 탑을 훔친다. \n",
    "            self.애교다호.애교부리기(self.수련규빈)\n",
    "        elif 공격규빈만블록쌓기성공: # 공격규비만 블록쌓기에 성공했다면 공격규빈의 탑을 훔친다. \n",
    "            self.애교다호.애교부리기(self.공격규빈)\n",
    "        elif 모두블록쌓기성공: # 모두 블록쌓기에 성공했다면, 탑의 높이를 따져서 훔친다. \n",
    "            if self.공격규빈 > self.수련규빈: # 공격규빈의 탑이 더 높으면, 공격규빈의 탑을 훔친다. \n",
    "                self.애교다호.애교부리기(self.공격규빈)\n",
    "            else: # 수련규빈과 공격규빈의 탑의 높이가 같거나 수련규빈의 탑이 더 높다면, 수련규빈의 탑을 훔친다. \n",
    "                self.애교다호.애교부리기(self.수련규빈)\n",
    "        elif 모두블록쌓기실패: # 모두 블록쌓기에 실패했다면 애교를 부리지 않는다. \n",
    "            self.애교다호.탑쌓기()\n",
    "        else:\n",
    "            pass\n",
    "        self.수련규빈.완성상태체크()\n",
    "        self.울보다호.완성상태체크()\n",
    "        self.공격규빈.완성상태체크()\n",
    "        self.애교다호.완성상태체크()   "
   ]
  },
  {
   "cell_type": "code",
   "execution_count": 13,
   "id": "fd13638f-e516-480d-bc1b-450edaaa5f53",
   "metadata": {
    "tags": []
   },
   "outputs": [],
   "source": [
    "수련규빈들 = [GuebinTraining(이름=f\"GuebinTraining{i}\",목표높이=20) for i in range(100000)]\n",
    "공격규빈들 = [GuebinAttack(이름=f\"GuebinAttack{i}\",목표높이=20,공격성공률=0.6) for i in range(100000)]\n",
    "울보다호들 = [DahoCrying(이름=f\"DahoCrying{i}\",목표높이=20,울확률=0.1) for i in range(100000)]\n",
    "애교다호들 = [DahoStill(이름=f\"DahoStill{i}\",목표높이=20,애교성공률=0.5) for i in range(100000)]\n",
    "플레이어들 = zip(수련규빈들,공격규빈들,울보다호들,애교다호들)\n",
    "simulator_list = [Simulator2(*플레이어,최대라운드=20) for 플레이어 in 플레이어들]"
   ]
  },
  {
   "cell_type": "code",
   "execution_count": 15,
   "id": "512950ac-bf04-4d8a-8fdd-1677a0a1cab2",
   "metadata": {
    "tags": []
   },
   "outputs": [],
   "source": [
    "for simulator in simulator_list:\n",
    "    simulator.첫라운드진행()\n",
    "    simulator.경험저장()\n",
    "    simulator.라운드 = simulator.라운드 + 1    \n",
    "    for _ in simulator:\n",
    "        simulator.라운드진행()\n",
    "        simulator.경험저장()\n",
    "        simulator.라운드 = simulator.라운드 + 1"
   ]
  },
  {
   "cell_type": "code",
   "execution_count": 16,
   "id": "6c3b0ede-57c8-49a8-ad39-c1aaf3e8b8fa",
   "metadata": {
    "tags": []
   },
   "outputs": [
    {
     "data": {
      "text/plain": [
       "{'규빈팀승': 67628, '다호팀승': 30167, '무승부': 2205}"
      ]
     },
     "execution_count": 16,
     "metadata": {},
     "output_type": "execute_result"
    }
   ],
   "source": [
    "results = [s.결과 for s in simulator_list]\n",
    "{s:results.count(s) for s in set(results)}"
   ]
  },
  {
   "cell_type": "code",
   "execution_count": 217,
   "id": "b74a3d61-0a35-4c90-ac4d-db02ac5dc314",
   "metadata": {
    "tags": []
   },
   "outputs": [
    {
     "data": {
      "image/png": "[encoded data removed]",
      "text/plain": [
       "<Figure size 640x480 with 1 Axes>"
      ]
     },
     "metadata": {},
     "output_type": "display_data"
    }
   ],
   "source": [
    "simulator_list[7].결과시각화()"
   ]
  },
  {
   "cell_type": "code",
   "execution_count": 218,
   "id": "2ca2377e-4806-4fc9-b589-baf5ef8adab5",
   "metadata": {},
   "outputs": [
    {
     "name": "stdout",
     "output_type": "stream",
     "text": [
      "수련규빈의탑높이: [0, 0, 0, 0, 2, 4, 0, 2, 2, 2, 2, 4, 4, 6, 8, 10, 12]\n",
      "공격규빈의탑높이: [2, 0, 0, 0, 2, 4, 0, 2, 0, 2, 4, 6, 0, 0, 0, 0, 0]\n",
      "울보다호의탑높이: [1, 2, 3, 4, 5, 6, 7, 8, 9, 10, 11, 12, 13, 14, 15, 16, 0]\n",
      "애교다호의탑높이: [1, 3, 5, 6, 6, 6, 7, 7, 9, 11, 13, 13, 15, 15, 15, 0, 0]\n",
      "최종라운드: 17\n",
      "결과: 다호팀승\n",
      "이유: 울음발동\n"
     ]
    }
   ],
   "source": [
    "simulator_list[7].히스토리()"
   ]
  },
  {
   "cell_type": "code",
   "execution_count": 17,
   "id": "4eabc13f-558f-4ebb-b771-42483002e2e9",
   "metadata": {
    "tags": []
   },
   "outputs": [
    {
     "data": {
      "image/png": "[encoded data removed]",
      "text/plain": [
       "<Figure size 640x480 with 1 Axes>"
      ]
     },
     "metadata": {},
     "output_type": "display_data"
    }
   ],
   "source": [
    "simulator_list[22].결과시각화()"
   ]
  },
  {
   "cell_type": "code",
   "execution_count": 18,
   "id": "f820ddd2-a57e-46cb-b7ca-668e3a85ef47",
   "metadata": {},
   "outputs": [
    {
     "name": "stdout",
     "output_type": "stream",
     "text": [
      "수련규빈의탑높이: [2, 0, 0, 0, 2, 2, 2, 2, 2, 4, 6, 6, 8, 8, 8, 8, 10, 10, 12, 12]\n",
      "공격규빈의탑높이: [0, 0, 2, 4, 6, 0, 0, 2, 4, 0, 2, 0, 0, 0, 0, 0, 2, 0, 2, 4]\n",
      "울보다호의탑높이: [1, 2, 3, 4, 5, 6, 7, 8, 9, 10, 11, 12, 13, 14, 15, 0, 1, 2, 3, 4]\n",
      "애교다호의탑높이: [1, 2, 4, 4, 4, 6, 8, 10, 12, 12, 12, 14, 14, 16, 2, 4, 4, 6, 6, 8]\n",
      "최종라운드: 20\n",
      "결과: 규빈팀승\n",
      "이유: 모두미완성,높이합산(16>12)\n"
     ]
    }
   ],
   "source": [
    "simulator_list[22].히스토리()"
   ]
  },
  {
   "cell_type": "markdown",
   "id": "c24bb239-6d32-4bcc-b63d-12abd1a361a4",
   "metadata": {},
   "source": [
    "# 3. 14wk-2 강의내용 -- 50점"
   ]
  },
  {
   "cell_type": "markdown",
   "id": "14e0b34f-b9f4-488e-8839-e85ce7e5b27c",
   "metadata": {},
   "source": [
    "`(1)` 아래의 역할을 하는 함수 `myprod`를 선언하라."
   ]
  },
  {
   "cell_type": "code",
   "execution_count": 11,
   "id": "5309b7c4-f3ef-4e5d-b3c4-ec8460559ec6",
   "metadata": {},
   "outputs": [
    {
     "name": "stdout",
     "output_type": "stream",
     "text": [
      "1x2=2\n"
     ]
    },
    {
     "data": {
      "text/plain": [
       "2"
      ]
     },
     "execution_count": 11,
     "metadata": {},
     "output_type": "execute_result"
    }
   ],
   "source": [
    "myprod(1,2)"
   ]
  },
  {
   "cell_type": "code",
   "execution_count": 12,
   "id": "f96a450c-872a-4efd-a39c-d59e42b34aa1",
   "metadata": {},
   "outputs": [
    {
     "name": "stdout",
     "output_type": "stream",
     "text": [
      "1x2x3=6\n"
     ]
    },
    {
     "data": {
      "text/plain": [
       "6"
      ]
     },
     "execution_count": 12,
     "metadata": {},
     "output_type": "execute_result"
    }
   ],
   "source": [
    "myprod(1,2,3)"
   ]
  },
  {
   "cell_type": "code",
   "execution_count": 10,
   "id": "86651de6-e1da-4845-baf7-c30c7138b9ea",
   "metadata": {},
   "outputs": [
    {
     "name": "stdout",
     "output_type": "stream",
     "text": [
      "1x2x3x4=24\n"
     ]
    },
    {
     "data": {
      "text/plain": [
       "24"
      ]
     },
     "execution_count": 10,
     "metadata": {},
     "output_type": "execute_result"
    }
   ],
   "source": [
    "myprod(1,2,3,4)"
   ]
  },
  {
   "cell_type": "markdown",
   "id": "e940bd40-7a8d-4e39-b8c4-112c7d2d3e2b",
   "metadata": {},
   "source": [
    "**hint**: 아래의 코드를 관찰하라. "
   ]
  },
  {
   "cell_type": "code",
   "execution_count": 14,
   "id": "5c89454b-d0dd-4646-94bc-9a205a23d832",
   "metadata": {},
   "outputs": [
    {
     "data": {
      "text/plain": [
       "2"
      ]
     },
     "execution_count": 14,
     "metadata": {},
     "output_type": "execute_result"
    }
   ],
   "source": [
    "np.prod([1,2])"
   ]
  },
  {
   "cell_type": "code",
   "execution_count": 15,
   "id": "c345dfb2-7aae-4fc2-901c-72e55dcb8fee",
   "metadata": {},
   "outputs": [
    {
     "data": {
      "text/plain": [
       "6"
      ]
     },
     "execution_count": 15,
     "metadata": {},
     "output_type": "execute_result"
    }
   ],
   "source": [
    "np.prod([1,2,3])"
   ]
  },
  {
   "cell_type": "code",
   "execution_count": 16,
   "id": "3b395ce0-1239-4110-b057-ee8b2734e1ab",
   "metadata": {},
   "outputs": [
    {
     "data": {
      "text/plain": [
       "24"
      ]
     },
     "execution_count": 16,
     "metadata": {},
     "output_type": "execute_result"
    }
   ],
   "source": [
    "np.prod([1,2,3,4])"
   ]
  },
  {
   "cell_type": "markdown",
   "id": "bbde0f70-8a8b-4157-bf8d-c3ae03da4fac",
   "metadata": {},
   "source": [
    "`(풀이)`"
   ]
  },
  {
   "cell_type": "code",
   "execution_count": 9,
   "id": "d4503d3a-6cef-4cde-b138-57722e31e4b3",
   "metadata": {},
   "outputs": [],
   "source": [
    "def myprod(*args):\n",
    "    text = \"x\".join(map(str,args))\n",
    "    print(f\"{text}={np.prod(args)}\")\n",
    "    return np.prod(args)"
   ]
  },
  {
   "cell_type": "markdown",
   "id": "1dbe75aa-1cb1-4b1e-933d-87833d4e37d3",
   "metadata": {},
   "source": [
    "`(2)` 아래와 같은 함수를 고려하자. "
   ]
  },
  {
   "cell_type": "code",
   "execution_count": 20,
   "id": "d582df9c-f4f8-4c4d-a7ee-2b8b589897ca",
   "metadata": {},
   "outputs": [],
   "source": [
    "def mysub(a,b):\n",
    "    return a-b    "
   ]
  },
  {
   "cell_type": "markdown",
   "id": "9a4f0e09-256e-453f-9cdb-70886a9e6889",
   "metadata": {},
   "source": [
    "아래는 이 함수를 사용한 예시이다. "
   ]
  },
  {
   "cell_type": "code",
   "execution_count": 21,
   "id": "3d1c5378-7493-4f0b-a8bd-c9493cc586d0",
   "metadata": {},
   "outputs": [
    {
     "data": {
      "text/plain": [
       "1.7"
      ]
     },
     "execution_count": 21,
     "metadata": {},
     "output_type": "execute_result"
    }
   ],
   "source": [
    "mysub(1.2,-0.5)"
   ]
  },
  {
   "cell_type": "markdown",
   "id": "a7c733ab-4799-4927-8444-3d204324da38",
   "metadata": {},
   "source": [
    "이 함수는 2개의 `float`을 입력으로 받으면 하나의 `float`을 출력하게끔 설계된 함수이다. 타입힌트를 이용하여 설계의도와 일치하도록 mysub 함수를 재정의하라. "
   ]
  },
  {
   "cell_type": "markdown",
   "id": "bbc6394d-d4ee-40b4-99fb-97d471ffe0cd",
   "metadata": {},
   "source": [
    "`(풀이)`"
   ]
  },
  {
   "cell_type": "markdown",
   "id": "1e08dd8f-365e-484b-a707-8ac68eca7d65",
   "metadata": {},
   "source": [
    "`(3)` 아래와 같이 함수의 입력으로 전달된 인자가 위치인자인지 키워드인자인지 정리하여 출력해주는 데코레이터 `@deco`를 설계하라."
   ]
  },
  {
   "cell_type": "code",
   "execution_count": 57,
   "id": "db3971d7-39dd-4973-aafa-4583e2619fe9",
   "metadata": {},
   "outputs": [],
   "source": [
    "@deco \n",
    "def mysub(a,b,verbose=False):\n",
    "    if verbose: \n",
    "        print(f\"{a}+{b}={a+b}\")\n",
    "    return a-b"
   ]
  },
  {
   "cell_type": "code",
   "execution_count": 58,
   "id": "50c02982-ec77-4d65-87ec-4ff20f404bd9",
   "metadata": {},
   "outputs": [
    {
     "name": "stdout",
     "output_type": "stream",
     "text": [
      "위치인자: (1, 2)\n",
      "키워드인자: {}\n"
     ]
    },
    {
     "data": {
      "text/plain": [
       "-1"
      ]
     },
     "execution_count": 58,
     "metadata": {},
     "output_type": "execute_result"
    }
   ],
   "source": [
    "mysub(1,2)"
   ]
  },
  {
   "cell_type": "code",
   "execution_count": 59,
   "id": "9786e911-58d5-478e-b464-1ae83b589da6",
   "metadata": {},
   "outputs": [
    {
     "name": "stdout",
     "output_type": "stream",
     "text": [
      "위치인자: (1, 2)\n",
      "키워드인자: {'verbose': False}\n"
     ]
    },
    {
     "data": {
      "text/plain": [
       "-1"
      ]
     },
     "execution_count": 59,
     "metadata": {},
     "output_type": "execute_result"
    }
   ],
   "source": [
    "mysub(1,2,verbose=False)"
   ]
  },
  {
   "cell_type": "markdown",
   "id": "3d13236a-8426-488e-844b-4ecb8fc55f3a",
   "metadata": {},
   "source": [
    "`(풀이)`"
   ]
  },
  {
   "cell_type": "code",
   "execution_count": 23,
   "id": "194d17f3-9b95-4556-94bc-999cbe2f588d",
   "metadata": {},
   "outputs": [],
   "source": [
    "def deco(func):\n",
    "    def wrapper(*args, **kwargs):\n",
    "        print(f\"위치인자: {args}\")\n",
    "        print(f\"키워드인자: {kwargs}\")\n",
    "        func_result = func(*args, **kwargs)\n",
    "        return func_result\n",
    "    return wrapper"
   ]
  },
  {
   "cell_type": "markdown",
   "id": "872e6506-6adf-4651-9c08-eaa783243c8c",
   "metadata": {},
   "source": [
    "`(4)` 제곱수중에서 12로 나누어 떨어지는 수가 무엇인지 알고싶다. 제너레이터를 이용하여 이러한수를 순서대로 50개 찾아라. 즉 아래의 코드가 실행되도록 하는 적당한 `make_gen`을 설계하라. "
   ]
  },
  {
   "cell_type": "code",
   "execution_count": 61,
   "id": "8f00ca46-9fd8-4c47-acba-eb26a1ddf666",
   "metadata": {},
   "outputs": [],
   "source": [
    "generator = make_gen()"
   ]
  },
  {
   "cell_type": "code",
   "execution_count": 62,
   "id": "6ab841a9-2c94-4fc4-b3d5-298fe62e4584",
   "metadata": {},
   "outputs": [],
   "source": [
    "lst = []\n",
    "for _ in range(50):\n",
    "    lst.append(next(generator))"
   ]
  },
  {
   "cell_type": "code",
   "execution_count": 65,
   "id": "de7674de-d438-4926-b7eb-d23318d29dbf",
   "metadata": {},
   "outputs": [
    {
     "data": {
      "text/plain": [
       "90000"
      ]
     },
     "execution_count": 65,
     "metadata": {},
     "output_type": "execute_result"
    }
   ],
   "source": [
    "lst[-1]"
   ]
  },
  {
   "cell_type": "markdown",
   "id": "d8209560-ff4c-4b21-a075-80bcb173c662",
   "metadata": {},
   "source": [
    "**힌트**: <https://guebin.github.io/PP2024/posts/03wk-2.html#b.-예비학습> 여기를 참고해보시며 코드를 비교해보세요"
   ]
  },
  {
   "cell_type": "markdown",
   "id": "aa8eb275-e71e-44c6-ba4c-450f32e0f07d",
   "metadata": {},
   "source": [
    "`(풀이)`"
   ]
  },
  {
   "cell_type": "code",
   "execution_count": 60,
   "id": "1adefbf7-7ca7-42d8-b1e7-498c22da8d18",
   "metadata": {},
   "outputs": [],
   "source": [
    "def make_gen():\n",
    "    x = 1 \n",
    "    while True:\n",
    "        if x**2 % 12 ==0:\n",
    "            yield x**2 \n",
    "        x=x+1 "
   ]
  },
  {
   "cell_type": "markdown",
   "id": "c7ee2331-e442-45c3-a91c-f7d10fbc45f5",
   "metadata": {},
   "source": [
    "`(5)` 아래는 `Person` 클래스와 이를 상속받은 `Employee` 클래스이다. "
   ]
  },
  {
   "cell_type": "code",
   "execution_count": 51,
   "id": "fc9a26a6-8c49-48f1-9a54-9be11bac0654",
   "metadata": {},
   "outputs": [],
   "source": [
    "class Person:\n",
    "    def __init__(self, name, age):\n",
    "        self.name = name\n",
    "        self.age = age\n",
    "    def introduce(self):\n",
    "        print(f\"제 이름은 {self.name}이고, 나이는 {self.age}살입니다.\")\n",
    "    def __repr__(self):\n",
    "        text = \"\\n\".join([f\"이름:{self.name}\",f\"나이:{self.age}\"])\n",
    "        return text\n",
    "class Korean(Person):\n",
    "    def __init__(self, name, age):\n",
    "        super().__init__(name, age)\n",
    "        self.nationality = \"한국\"\n",
    "    def introduce(self):\n",
    "        super().introduce()\n",
    "        print(f\"저는 한국인입니다.\")\n",
    "    def __repr__(self):\n",
    "        text = super().__repr__()\n",
    "        return text + f\"\\n국적:{self.nationality}\""
   ]
  },
  {
   "cell_type": "code",
   "execution_count": 55,
   "id": "7d5dc79c-fe1c-49a2-b7e0-f99c8f90fee4",
   "metadata": {},
   "outputs": [],
   "source": [
    "보람 = Korean(name=\"김보람\",age=20)"
   ]
  },
  {
   "cell_type": "code",
   "execution_count": 56,
   "id": "9fc511af-4ef5-47f8-b389-6eb0c713db3d",
   "metadata": {},
   "outputs": [
    {
     "name": "stdout",
     "output_type": "stream",
     "text": [
      "제 이름은 김보람이고, 나이는 20살입니다.\n",
      "저는 한국인입니다.\n"
     ]
    }
   ],
   "source": [
    "보람.introduce()"
   ]
  },
  {
   "cell_type": "code",
   "execution_count": 57,
   "id": "b25efc61-60b3-4abc-a88d-a8cce953bb5a",
   "metadata": {},
   "outputs": [
    {
     "data": {
      "text/plain": [
       "이름:김보람\n",
       "나이:20\n",
       "국적:한국"
      ]
     },
     "execution_count": 57,
     "metadata": {},
     "output_type": "execute_result"
    }
   ],
   "source": [
    "보람"
   ]
  },
  {
   "cell_type": "markdown",
   "id": "0ccde656-27e8-4642-87d4-71143f24ff81",
   "metadata": {},
   "source": [
    "아래의 코드에서 `???`를 적당히 완성하여 예시 1~2 의 동작을 하도록 하라. "
   ]
  },
  {
   "cell_type": "markdown",
   "id": "d614cc06-11ec-4aee-8dec-4ebaa4f574c6",
   "metadata": {},
   "source": [
    "```Python\n",
    "class NaturalizedKorean(Korean):\n",
    "    def __init__(self, name, age, former_nationality):\n",
    "        super().__init__(name,age)\n",
    "        self.former_nationality = former_nationality\n",
    "    def introduce(self):\n",
    "        super(???,???).introduce()\n",
    "        print(f\"저는 귀화한국인(이전국적={self.former_nationality})입니다.\")\n",
    "````        "
   ]
  },
  {
   "cell_type": "markdown",
   "id": "9a1a73ba-c7f8-4e8f-9700-2543b00b57be",
   "metadata": {},
   "source": [
    "`# 예시1` "
   ]
  },
  {
   "cell_type": "code",
   "execution_count": 61,
   "id": "9cbf2dd4-5863-4ef2-8e0d-23e8f19a4df7",
   "metadata": {},
   "outputs": [
    {
     "data": {
      "text/plain": [
       "이름:강남\n",
       "나이:37\n",
       "국적:한국"
      ]
     },
     "execution_count": 61,
     "metadata": {},
     "output_type": "execute_result"
    }
   ],
   "source": [
    "강남 = NaturalizedKorean(name=\"강남\",age=37,former_nationality=\"일본\")\n",
    "강남"
   ]
  },
  {
   "cell_type": "code",
   "execution_count": 62,
   "id": "10903c13-0db0-4a5a-8a9c-73b0f1640d50",
   "metadata": {},
   "outputs": [
    {
     "name": "stdout",
     "output_type": "stream",
     "text": [
      "제 이름은 강남이고, 나이는 37살입니다.\n",
      "저는 귀화한국인(이전국적=일본)입니다.\n"
     ]
    }
   ],
   "source": [
    "강남.introduce()"
   ]
  },
  {
   "cell_type": "markdown",
   "id": "0c55c601-7969-4a4c-89de-8f61b163ea5c",
   "metadata": {},
   "source": [
    "`#`"
   ]
  },
  {
   "cell_type": "markdown",
   "id": "72a8f882-68f4-4705-9970-dafabcbc6eb3",
   "metadata": {},
   "source": [
    "`# 예시2` "
   ]
  },
  {
   "cell_type": "code",
   "execution_count": 63,
   "id": "dd584356-2002-4cf9-8239-281539a42662",
   "metadata": {},
   "outputs": [
    {
     "data": {
      "text/plain": [
       "이름:당예서\n",
       "나이:43\n",
       "국적:한국"
      ]
     },
     "execution_count": 63,
     "metadata": {},
     "output_type": "execute_result"
    }
   ],
   "source": [
    "예서 = NaturalizedKorean(name=\"당예서\",age=43,former_nationality=\"중국\")\n",
    "예서"
   ]
  },
  {
   "cell_type": "code",
   "execution_count": 64,
   "id": "350c634e-7f15-42e9-b0d3-21cba01ca1a9",
   "metadata": {},
   "outputs": [
    {
     "name": "stdout",
     "output_type": "stream",
     "text": [
      "제 이름은 당예서이고, 나이는 43살입니다.\n",
      "저는 귀화한국인(이전국적=중국)입니다.\n"
     ]
    }
   ],
   "source": [
    "예서.introduce()"
   ]
  },
  {
   "cell_type": "markdown",
   "id": "17853b4e-0a56-46f1-8bd1-3a27e70afca6",
   "metadata": {},
   "source": [
    "`#`"
   ]
  },
  {
   "cell_type": "markdown",
   "id": "359a3543-d9f1-401a-ae9a-9dc8c8c616f7",
   "metadata": {},
   "source": [
    "(풀이)"
   ]
  },
  {
   "cell_type": "code",
   "execution_count": 65,
   "id": "d9de1e36-5bfd-417f-83ca-1b3707a89223",
   "metadata": {},
   "outputs": [],
   "source": [
    "class NaturalizedKorean(Korean):\n",
    "    def __init__(self, name, age, former_nationality):\n",
    "        super().__init__(name,age)\n",
    "        self.former_nationality = former_nationality\n",
    "    def introduce(self):\n",
    "        super(Korean,self).introduce()\n",
    "        print(f\"저는 귀화한국인(이전국적={self.former_nationality})입니다.\")"
   ]
  }
 ],
 "metadata": {
  "kernelspec": {
   "display_name": "Python 3 (ipykernel)",
   "language": "python",
   "name": "python3"
  },
  "language_info": {
   "codemirror_mode": {
    "name": "ipython",
    "version": 3
   },
   "file_extension": ".py",
   "mimetype": "text/x-python",
   "name": "python",
   "nbconvert_exporter": "python",
   "pygments_lexer": "ipython3",
   "version": "3.12.2"
  }
 },
 "nbformat": 4,
 "nbformat_minor": 5
}
