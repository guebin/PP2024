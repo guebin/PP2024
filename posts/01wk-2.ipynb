{
 "cells": [
  {
   "cell_type": "raw",
   "id": "b090b061-2684-4b9d-bf9d-dab7f7f10015",
   "metadata": {
    "id": "87b5cded-346b-4915-acf5-b5ec93a5207d"
   },
   "source": [
    "---\n",
    "title: \"01wk-2: 파이썬은 좋은 계산기다\"\n",
    "author: \"최규빈\"\n",
    "date: \"03/06/2024\"\n",
    "---"
   ]
  },
  {
   "cell_type": "markdown",
   "id": "96cef4a5-b7f9-4b36-9ff7-4cb858b06e23",
   "metadata": {
    "id": "e67ab8e0"
   },
   "source": [
    "<a href=\"https://colab.research.google.com/github/guebin/PP2024/blob/main/posts/01wk-2.ipynb\"><img src=\"https://colab.research.google.com/assets/colab-badge.svg\" style=\"text-align: left\"></a>"
   ]
  },
  {
   "cell_type": "markdown",
   "id": "fcc72505-aec0-4a7d-9da8-b1d6e33477c6",
   "metadata": {},
   "source": [
    "# 1. 강의영상 "
   ]
  },
  {
   "cell_type": "markdown",
   "id": "841c179e-32f0-4cc7-adf2-37209a373b5b",
   "metadata": {},
   "source": [
    "{{<video https://youtu.be/playlist?list=PLQqh36zP38-ytWhPQqAsYXC_1wCh8y763&si=OMp4BQO2DUpt2KOQ >}}"
   ]
  },
  {
   "cell_type": "markdown",
   "id": "82a98c09-2f5f-40b8-a043-7a25e47aaba1",
   "metadata": {},
   "source": [
    "# 2. Imports "
   ]
  },
  {
   "cell_type": "code",
   "execution_count": 18,
   "id": "9101dde5",
   "metadata": {},
   "outputs": [],
   "source": [
    "import numpy as np\n",
    "import matplotlib.pyplot as plt "
   ]
  },
  {
   "cell_type": "markdown",
   "id": "a785ded0-b05d-4578-b276-fa6fdb228272",
   "metadata": {},
   "source": [
    "# 3. 파이썬은 좋은 계산기이다."
   ]
  },
  {
   "cell_type": "markdown",
   "id": "31586f33",
   "metadata": {},
   "source": [
    "`-` 아주 어려운 연산도 척척해줌. "
   ]
  },
  {
   "cell_type": "code",
   "execution_count": 9,
   "id": "d25f9848",
   "metadata": {},
   "outputs": [
    {
     "data": {
      "text/plain": [
       "-1.0"
      ]
     },
     "execution_count": 9,
     "metadata": {},
     "output_type": "execute_result"
    }
   ],
   "source": [
    "np.cos(np.pi) # 삼각함수의 값 계산"
   ]
  },
  {
   "cell_type": "code",
   "execution_count": 10,
   "id": "68854a5d",
   "metadata": {},
   "outputs": [
    {
     "data": {
      "text/plain": [
       "0.6666666666666666"
      ]
     },
     "execution_count": 10,
     "metadata": {},
     "output_type": "execute_result"
    }
   ],
   "source": [
    "np.mean(np.array([1,0,1])) # 평균을 계산"
   ]
  },
  {
   "cell_type": "markdown",
   "id": "84ffd757",
   "metadata": {},
   "source": [
    "`-` 변수저장 가능 "
   ]
  },
  {
   "cell_type": "markdown",
   "id": "bbc2f749",
   "metadata": {},
   "source": [
    "$x$에 따라 아래의 값을 계산하고 싶다면? \n",
    "\n",
    "- $y=2x-5$\n",
    "- $\\frac{e^y}{1+e^y}$"
   ]
  },
  {
   "cell_type": "code",
   "execution_count": 12,
   "id": "9ce8100b",
   "metadata": {},
   "outputs": [
    {
     "data": {
      "text/plain": [
       "0.2689414213699951"
      ]
     },
     "execution_count": 12,
     "metadata": {},
     "output_type": "execute_result"
    }
   ],
   "source": [
    "x = 2 \n",
    "y = 2*x -5 \n",
    "np.exp(y) / (1+np.exp(y))"
   ]
  },
  {
   "cell_type": "markdown",
   "id": "fe495f1b",
   "metadata": {},
   "source": [
    "`-` 그림도 그려줌.. "
   ]
  },
  {
   "cell_type": "code",
   "execution_count": 24,
   "id": "74f08393",
   "metadata": {},
   "outputs": [
    {
     "data": {
      "text/plain": [
       "[<matplotlib.lines.Line2D at 0x7fa6b71808d0>]"
      ]
     },
     "execution_count": 24,
     "metadata": {},
     "output_type": "execute_result"
    },
    {
     "data": {
      "image/png": "[encoded data removed]",
      "text/plain": [
       "<Figure size 640x480 with 1 Axes>"
      ]
     },
     "metadata": {},
     "output_type": "display_data"
    }
   ],
   "source": [
    "x = np.array([1,2,3,4,5])\n",
    "y = x**2 - 2*x + 1 \n",
    "plt.plot(x,y,'o')"
   ]
  },
  {
   "cell_type": "markdown",
   "id": "36aa1163-88d3-495c-9d5b-6c48dc46cea0",
   "metadata": {},
   "source": [
    "# 4. 2024 수능 -- 1,2,4,6,23"
   ]
  },
  {
   "cell_type": "markdown",
   "id": "43063e22-dece-4c51-8f7a-f75cbc738027",
   "metadata": {},
   "source": [
    "![](https://github.com/guebin/PP2024/blob/main/imgs/2024-수능-1.png?raw=true)"
   ]
  },
  {
   "cell_type": "markdown",
   "id": "c6941631-53a2-42e2-94f4-eea4cb6bb327",
   "metadata": {},
   "source": [
    "`(풀이)`"
   ]
  },
  {
   "cell_type": "code",
   "execution_count": 30,
   "id": "21f019d3",
   "metadata": {},
   "outputs": [
    {
     "data": {
      "text/plain": [
       "6.0"
      ]
     },
     "execution_count": 30,
     "metadata": {},
     "output_type": "execute_result"
    }
   ],
   "source": [
    "(24)**(1/3) * 3**(2/3)"
   ]
  },
  {
   "cell_type": "markdown",
   "id": "605d76c5-d04b-449a-9749-88257bec9081",
   "metadata": {},
   "source": [
    "![](https://github.com/guebin/PP2024/blob/main/imgs/2024-수능-2.png?raw=true)"
   ]
  },
  {
   "cell_type": "markdown",
   "id": "3d611de5-e1d5-48bd-9688-142a2abc6e86",
   "metadata": {},
   "source": [
    "`(풀이)`"
   ]
  },
  {
   "cell_type": "code",
   "execution_count": 37,
   "id": "182418d4",
   "metadata": {},
   "outputs": [
    {
     "data": {
      "text/plain": [
       "4.000000721759989"
      ]
     },
     "execution_count": 37,
     "metadata": {},
     "output_type": "execute_result"
    }
   ],
   "source": [
    "h = 0.0000001\n",
    "def f(x):\n",
    "    return 2*x**3 - 5*x**2 + 3\n",
    "(f(2+h)-f(2))/h"
   ]
  },
  {
   "cell_type": "markdown",
   "id": "32c1460c-78ca-4405-b8d3-863f1ca30b70",
   "metadata": {},
   "source": [
    "![](https://github.com/guebin/PP2024/blob/main/imgs/2024-수능-4.png?raw=true)"
   ]
  },
  {
   "cell_type": "markdown",
   "id": "460817b0-3f26-4e1a-8060-5d9efdf570b7",
   "metadata": {},
   "source": [
    "`(풀이)`"
   ]
  },
  {
   "cell_type": "code",
   "execution_count": 54,
   "id": "3fd94f09",
   "metadata": {},
   "outputs": [
    {
     "data": {
      "text/plain": [
       "(5, 5)"
      ]
     },
     "execution_count": 54,
     "metadata": {},
     "output_type": "execute_result"
    }
   ],
   "source": [
    "a = 1\n",
    "3*2-a, 2**2 + a"
   ]
  },
  {
   "cell_type": "markdown",
   "id": "6f9c14c6-c7ff-4a4a-a262-f200d4f6a203",
   "metadata": {},
   "source": [
    "![](https://github.com/guebin/PP2024/blob/main/imgs/2024-수능-6.png?raw=true)"
   ]
  },
  {
   "cell_type": "markdown",
   "id": "c6c402a7-1100-4e4b-b748-744c24b39c19",
   "metadata": {},
   "source": [
    "`(풀이)`"
   ]
  },
  {
   "cell_type": "code",
   "execution_count": 81,
   "id": "065b8a5d",
   "metadata": {},
   "outputs": [
    {
     "data": {
      "text/plain": [
       "(4.5, 4.5)"
      ]
     },
     "execution_count": 81,
     "metadata": {},
     "output_type": "execute_result"
    }
   ],
   "source": [
    "r = 0.5\n",
    "an = np.array([(3/4)/(r**4),(3/4)/(r**3),(3/4)/(r**2),(3/4)/r,3/4])\n",
    "Sn = np.cumsum(an)\n",
    "Sn[3] - Sn[1], 3*an[3]"
   ]
  },
  {
   "cell_type": "code",
   "execution_count": 82,
   "id": "5793eef2",
   "metadata": {},
   "outputs": [
    {
     "data": {
      "text/plain": [
       "array([12.  ,  6.  ,  3.  ,  1.5 ,  0.75])"
      ]
     },
     "execution_count": 82,
     "metadata": {},
     "output_type": "execute_result"
    }
   ],
   "source": [
    "an"
   ]
  },
  {
   "cell_type": "code",
   "execution_count": 83,
   "id": "ba23e80b",
   "metadata": {},
   "outputs": [
    {
     "data": {
      "text/plain": [
       "18"
      ]
     },
     "execution_count": 83,
     "metadata": {},
     "output_type": "execute_result"
    }
   ],
   "source": [
    "12+6"
   ]
  },
  {
   "cell_type": "markdown",
   "id": "36e7fd14-0d0a-4bc4-bb90-5982c7c71d71",
   "metadata": {},
   "source": [
    "![](https://github.com/guebin/PP2024/blob/main/imgs/2024-수능-미적-23.png?raw=true)"
   ]
  },
  {
   "cell_type": "markdown",
   "id": "0e1634e7-652e-4dbe-9e5e-232801513604",
   "metadata": {},
   "source": [
    "`(풀이)`"
   ]
  },
  {
   "cell_type": "code",
   "execution_count": 166,
   "id": "ad1cc25a",
   "metadata": {},
   "outputs": [
    {
     "data": {
      "text/plain": [
       "0.600059983005448"
      ]
     },
     "execution_count": 166,
     "metadata": {},
     "output_type": "execute_result"
    }
   ],
   "source": [
    "x = 0.0001 \n",
    "np.log(1+3*x)/np.log(1+5*x)"
   ]
  },
  {
   "cell_type": "markdown",
   "id": "c7ea1713-4bd9-4992-b5c6-46d9a7a07b2b",
   "metadata": {},
   "source": [
    "# 5. 2024 수능 - 3,6,7,24,5"
   ]
  },
  {
   "cell_type": "markdown",
   "id": "5d0906a4-29f4-44e1-8de8-64bf886c4223",
   "metadata": {},
   "source": [
    "![](https://github.com/guebin/PP2024/blob/main/imgs/2024-수능-3.png?raw=true)"
   ]
  },
  {
   "cell_type": "markdown",
   "id": "fe515ece-50bf-4beb-89ee-e9710b2f78b9",
   "metadata": {},
   "source": [
    "`(풀이)`"
   ]
  },
  {
   "cell_type": "code",
   "execution_count": 193,
   "id": "f01cdc67",
   "metadata": {},
   "outputs": [
    {
     "data": {
      "text/plain": [
       "<matplotlib.legend.Legend at 0x7fa6b1113310>"
      ]
     },
     "execution_count": 193,
     "metadata": {},
     "output_type": "execute_result"
    },
    {
     "data": {
      "image/png": "[encoded data removed]",
      "text/plain": [
       "<Figure size 640x480 with 1 Axes>"
      ]
     },
     "metadata": {},
     "output_type": "display_data"
    }
   ],
   "source": [
    "theta = np.linspace(3/2*np.pi, 2*np.pi, 100)\n",
    "plt.plot(theta,np.sin(-theta),label=r\"$y=\\sin(-\\theta)$\")\n",
    "plt.plot(theta,np.sin(-theta)*0+1/3,'.',label=r\"$y=\\frac{1}{3}$\")\n",
    "plt.legend()"
   ]
  },
  {
   "cell_type": "code",
   "execution_count": 198,
   "id": "ee3908cc",
   "metadata": {},
   "outputs": [
    {
     "data": {
      "text/plain": [
       "<matplotlib.legend.Legend at 0x7fa6b0ed9250>"
      ]
     },
     "execution_count": 198,
     "metadata": {},
     "output_type": "execute_result"
    },
    {
     "data": {
      "image/png": "[encoded data removed]",
      "text/plain": [
       "<Figure size 640x480 with 1 Axes>"
      ]
     },
     "metadata": {},
     "output_type": "display_data"
    }
   ],
   "source": [
    "plt.plot(np.sin(-theta),label=r\"$y=\\sin(-\\theta)$\")\n",
    "plt.plot(np.sin(-theta)*0+1/3,'.',label=r\"$y=\\frac{1}{3}$\")\n",
    "plt.legend()"
   ]
  },
  {
   "cell_type": "code",
   "execution_count": 206,
   "id": "1afc152c",
   "metadata": {},
   "outputs": [
    {
     "data": {
      "text/plain": [
       "[<matplotlib.lines.Line2D at 0x7fa6b662ad50>]"
      ]
     },
     "execution_count": 206,
     "metadata": {},
     "output_type": "execute_result"
    },
    {
     "data": {
      "image/png": "[encoded data removed]",
      "text/plain": [
       "<Figure size 640x480 with 1 Axes>"
      ]
     },
     "metadata": {},
     "output_type": "display_data"
    }
   ],
   "source": [
    "plt.plot(np.sin(-theta)[70:80],'o')\n",
    "plt.plot(np.sin(-theta)[70:80]*0+1/3,'o')"
   ]
  },
  {
   "cell_type": "code",
   "execution_count": 208,
   "id": "37c85b55",
   "metadata": {},
   "outputs": [
    {
     "data": {
      "text/plain": [
       "array([0.44406661, 0.42979491, 0.41541501, 0.40093054, 0.38634513,\n",
       "       0.37166246, 0.35688622, 0.34202014, 0.32706796, 0.31203345])"
      ]
     },
     "execution_count": 208,
     "metadata": {},
     "output_type": "execute_result"
    }
   ],
   "source": [
    "np.sin(-theta)[70:80] # 이중에서 0.33333... 에 가장 가까운것은 끝에서 두번째 "
   ]
  },
  {
   "cell_type": "code",
   "execution_count": 210,
   "id": "e3b8eadb",
   "metadata": {},
   "outputs": [
    {
     "data": {
      "text/plain": [
       "0.32706796331742194"
      ]
     },
     "execution_count": 210,
     "metadata": {},
     "output_type": "execute_result"
    }
   ],
   "source": [
    "np.sin(-theta)[78] # 이 값이 0.3333에 가장 가까움"
   ]
  },
  {
   "cell_type": "code",
   "execution_count": 214,
   "id": "88a258f3",
   "metadata": {},
   "outputs": [
    {
     "data": {
      "text/plain": [
       "5.949986086344305"
      ]
     },
     "execution_count": 214,
     "metadata": {},
     "output_type": "execute_result"
    }
   ],
   "source": [
    "theta[78] # 이것이 theta 값"
   ]
  },
  {
   "cell_type": "code",
   "execution_count": 219,
   "id": "723efc6d",
   "metadata": {},
   "outputs": [
    {
     "data": {
      "text/plain": [
       "-0.34610336503441297"
      ]
     },
     "execution_count": 219,
     "metadata": {},
     "output_type": "execute_result"
    }
   ],
   "source": [
    "np.tan(5.949986086344305) # 이게 답이다"
   ]
  },
  {
   "cell_type": "code",
   "execution_count": 220,
   "id": "9bee137d",
   "metadata": {},
   "outputs": [
    {
     "data": {
      "text/plain": [
       "(-0.7071067811865476, -0.3535533905932738, -0.25, 0.25, 0.3535533905932738)"
      ]
     },
     "execution_count": 220,
     "metadata": {},
     "output_type": "execute_result"
    }
   ],
   "source": [
    "-np.sqrt(2)/2, -np.sqrt(2)/4, -1/4, 1/4, np.sqrt(2)/4 # 보기와 비교하면???"
   ]
  },
  {
   "cell_type": "markdown",
   "id": "bc46b912-269d-4be3-8f55-40f2eab182f3",
   "metadata": {},
   "source": [
    "![](https://github.com/guebin/PP2024/blob/main/imgs/2024-수능-7.png?raw=true)"
   ]
  },
  {
   "cell_type": "markdown",
   "id": "cd87fb1b-0b4f-4c06-8525-8e22368d2664",
   "metadata": {},
   "source": [
    "`(풀이)`"
   ]
  },
  {
   "cell_type": "code",
   "execution_count": 251,
   "id": "25f1aec1",
   "metadata": {},
   "outputs": [],
   "source": [
    "x=0\n",
    "#def f(x):\n",
    "#    return (1/3)*x**3 - 2*x**2 -12*x +4 \n",
    "f = lambda x: (1/3)*x**3 - 2*x**2 -12*x +4"
   ]
  },
  {
   "cell_type": "code",
   "execution_count": 278,
   "id": "62f5fac8",
   "metadata": {},
   "outputs": [
    {
     "data": {
      "text/plain": [
       "[<matplotlib.lines.Line2D at 0x7fa6b0c5cbd0>]"
      ]
     },
     "execution_count": 278,
     "metadata": {},
     "output_type": "execute_result"
    },
    {
     "data": {
      "image/png": "[encoded data removed]",
      "text/plain": [
       "<Figure size 640x480 with 1 Axes>"
      ]
     },
     "metadata": {},
     "output_type": "display_data"
    }
   ],
   "source": [
    "x = np.linspace(-5,8,101)\n",
    "plt.plot(x,f(x),'.')"
   ]
  },
  {
   "cell_type": "code",
   "execution_count": 279,
   "id": "62f2ecbd",
   "metadata": {},
   "outputs": [
    {
     "data": {
      "text/plain": [
       "5"
      ]
     },
     "execution_count": 279,
     "metadata": {},
     "output_type": "execute_result"
    }
   ],
   "source": [
    "arr = np.array([1,2,33,-3,2,44])\n",
    "np.argmax(arr)"
   ]
  },
  {
   "cell_type": "code",
   "execution_count": 280,
   "id": "347a7269",
   "metadata": {},
   "outputs": [
    {
     "data": {
      "text/plain": [
       "(23, 85)"
      ]
     },
     "execution_count": 280,
     "metadata": {},
     "output_type": "execute_result"
    }
   ],
   "source": [
    "np.argmax(f(x)), np.argmin(f(x))"
   ]
  },
  {
   "cell_type": "code",
   "execution_count": 282,
   "id": "520a4d11",
   "metadata": {},
   "outputs": [
    {
     "data": {
      "text/plain": [
       "8.06"
      ]
     },
     "execution_count": 282,
     "metadata": {},
     "output_type": "execute_result"
    }
   ],
   "source": [
    "x[85]- x[23]"
   ]
  },
  {
   "cell_type": "markdown",
   "id": "8d931234-b6e0-4bbc-b65d-a7a489bfeb23",
   "metadata": {},
   "source": [
    "![](https://github.com/guebin/PP2024/blob/main/imgs/2024-수능-미적-24.png?raw=true)"
   ]
  },
  {
   "cell_type": "markdown",
   "id": "5698fece-725f-4029-801c-4418e629a99a",
   "metadata": {},
   "source": [
    "`(풀이)`"
   ]
  },
  {
   "cell_type": "code",
   "execution_count": 299,
   "id": "2e8ec2e7",
   "metadata": {},
   "outputs": [],
   "source": [
    "t = np.linspace(1/100,1,100)\n",
    "x = np.log(t**3+1)\n",
    "y = np.sin(np.pi*t)"
   ]
  },
  {
   "cell_type": "code",
   "execution_count": 302,
   "id": "643a1189",
   "metadata": {},
   "outputs": [
    {
     "data": {
      "text/plain": [
       "[<matplotlib.lines.Line2D at 0x7fa6b09e4590>]"
      ]
     },
     "execution_count": 302,
     "metadata": {},
     "output_type": "execute_result"
    },
    {
     "data": {
      "image/png": "[encoded data removed]",
      "text/plain": [
       "<Figure size 640x480 with 1 Axes>"
      ]
     },
     "metadata": {},
     "output_type": "display_data"
    }
   ],
   "source": [
    "plt.plot(x,y,'.')"
   ]
  },
  {
   "cell_type": "code",
   "execution_count": 312,
   "id": "623dcdc4",
   "metadata": {},
   "outputs": [
    {
     "data": {
      "text/plain": [
       "(0.6931471805599453, 1.2246467991473532e-16)"
      ]
     },
     "execution_count": 312,
     "metadata": {},
     "output_type": "execute_result"
    }
   ],
   "source": [
    "x[-1],y[-1] # 마지막점"
   ]
  },
  {
   "cell_type": "code",
   "execution_count": 313,
   "id": "5e94fe45",
   "metadata": {},
   "outputs": [
    {
     "data": {
      "text/plain": [
       "(0.6781853078827329, 0.031410759078128236)"
      ]
     },
     "execution_count": 313,
     "metadata": {},
     "output_type": "execute_result"
    }
   ],
   "source": [
    "x[-2],y[-2] # 마지막에서 두번째점"
   ]
  },
  {
   "cell_type": "code",
   "execution_count": 314,
   "id": "bda8d3ef",
   "metadata": {},
   "outputs": [
    {
     "data": {
      "text/plain": [
       "-2.0993868719367015"
      ]
     },
     "execution_count": 314,
     "metadata": {},
     "output_type": "execute_result"
    }
   ],
   "source": [
    "(y[-2]-y[-1])/(x[-2]-x[-1]) "
   ]
  },
  {
   "cell_type": "code",
   "execution_count": 319,
   "id": "40d91d2e",
   "metadata": {},
   "outputs": [
    {
     "data": {
      "text/plain": [
       "(-1.0471975511965976,\n",
       " -2.0943951023931953,\n",
       " -3.141592653589793,\n",
       " -4.1887902047863905,\n",
       " -5.235987755982989)"
      ]
     },
     "execution_count": 319,
     "metadata": {},
     "output_type": "execute_result"
    }
   ],
   "source": [
    "-1/3*np.pi, -2/3*np.pi, -np.pi, - 4/3*np.pi, -5/3*np.pi # 따라서 답은 2번"
   ]
  },
  {
   "cell_type": "markdown",
   "id": "7367103b-5f06-467b-837a-d962cf8cafea",
   "metadata": {},
   "source": [
    "# 6. 파이썬 문법복습 "
   ]
  },
  {
   "cell_type": "markdown",
   "id": "53806a05",
   "metadata": {},
   "source": [
    "## A. 함수를 선언하는 두 가지 방법 "
   ]
  },
  {
   "cell_type": "markdown",
   "id": "2fa7f99c",
   "metadata": {},
   "source": [
    "`-` 방법1: `def`를 이용하는 방법 "
   ]
  },
  {
   "cell_type": "code",
   "execution_count": 507,
   "id": "09ede1e0",
   "metadata": {},
   "outputs": [],
   "source": [
    "def f(x):\n",
    "    return x+1"
   ]
  },
  {
   "cell_type": "code",
   "execution_count": 511,
   "id": "d52110c2",
   "metadata": {},
   "outputs": [
    {
     "data": {
      "text/plain": [
       "4"
      ]
     },
     "execution_count": 511,
     "metadata": {},
     "output_type": "execute_result"
    }
   ],
   "source": [
    "f(3)"
   ]
  },
  {
   "cell_type": "markdown",
   "id": "c5dcf8a1",
   "metadata": {},
   "source": [
    "`-` 방법2: `lambda`를 사용하는 방법 "
   ]
  },
  {
   "cell_type": "code",
   "execution_count": 512,
   "id": "3488cefb",
   "metadata": {},
   "outputs": [],
   "source": [
    "f = lambda x: x+1"
   ]
  },
  {
   "cell_type": "code",
   "execution_count": 513,
   "id": "a97ca0b7",
   "metadata": {},
   "outputs": [
    {
     "data": {
      "text/plain": [
       "4"
      ]
     },
     "execution_count": 513,
     "metadata": {},
     "output_type": "execute_result"
    }
   ],
   "source": [
    "f(3)"
   ]
  },
  {
   "cell_type": "markdown",
   "id": "def6f645",
   "metadata": {},
   "source": [
    "## B. `list`와 `np.array`의 차이점"
   ]
  },
  {
   "cell_type": "markdown",
   "id": "e8ae8cba",
   "metadata": {},
   "source": [
    "`-` 리스트는 수학친화적이지 않다. "
   ]
  },
  {
   "cell_type": "code",
   "execution_count": 516,
   "id": "7375d4d4",
   "metadata": {},
   "outputs": [],
   "source": [
    "lst1 = [1,2,3]\n",
    "lst2 = [-1, -2, -3]"
   ]
  },
  {
   "cell_type": "code",
   "execution_count": 519,
   "id": "bd030000",
   "metadata": {},
   "outputs": [
    {
     "data": {
      "text/plain": [
       "[1, 2, 3, -1, -2, -3]"
      ]
     },
     "execution_count": 519,
     "metadata": {},
     "output_type": "execute_result"
    }
   ],
   "source": [
    "lst1+lst2"
   ]
  },
  {
   "cell_type": "markdown",
   "id": "ad9eb355",
   "metadata": {},
   "source": [
    "`-` 넘파이는 수학친화적이다. "
   ]
  },
  {
   "cell_type": "code",
   "execution_count": 521,
   "id": "d107db3e",
   "metadata": {},
   "outputs": [],
   "source": [
    "arr1 = np.array([1,2,3])\n",
    "arr2 = np.array([-1, -2, -3])"
   ]
  },
  {
   "cell_type": "code",
   "execution_count": 522,
   "id": "77994607",
   "metadata": {},
   "outputs": [
    {
     "data": {
      "text/plain": [
       "array([0, 0, 0])"
      ]
     },
     "execution_count": 522,
     "metadata": {},
     "output_type": "execute_result"
    }
   ],
   "source": [
    "arr1+arr2"
   ]
  },
  {
   "cell_type": "markdown",
   "id": "aab67fb4",
   "metadata": {},
   "source": [
    "## C. 인덱스로 벡터의 원소를 뽑는 방법 "
   ]
  },
  {
   "cell_type": "code",
   "execution_count": 545,
   "id": "6d7c6bab",
   "metadata": {},
   "outputs": [],
   "source": [
    "x = [11,22,33,-22,-33,-44]"
   ]
  },
  {
   "cell_type": "markdown",
   "id": "4fbe9c71",
   "metadata": {},
   "source": [
    "`-` 첫번째 원소를 뽑고 싶다면? "
   ]
  },
  {
   "cell_type": "code",
   "execution_count": 543,
   "id": "7c715728",
   "metadata": {},
   "outputs": [
    {
     "data": {
      "text/plain": [
       "11"
      ]
     },
     "execution_count": 543,
     "metadata": {},
     "output_type": "execute_result"
    }
   ],
   "source": [
    "x[0]"
   ]
  },
  {
   "cell_type": "markdown",
   "id": "7548b3bb",
   "metadata": {},
   "source": [
    "`-` 두번째 원소를 뽑고 싶다면? "
   ]
  },
  {
   "cell_type": "code",
   "execution_count": 544,
   "id": "ca9ca78d",
   "metadata": {},
   "outputs": [
    {
     "data": {
      "text/plain": [
       "22"
      ]
     },
     "execution_count": 544,
     "metadata": {},
     "output_type": "execute_result"
    }
   ],
   "source": [
    "x[1]"
   ]
  },
  {
   "cell_type": "markdown",
   "id": "650a8ec8",
   "metadata": {},
   "source": [
    "`-` 마지막 원소를 뽑고 싶다면? "
   ]
  },
  {
   "cell_type": "code",
   "execution_count": 542,
   "id": "9e873c4a",
   "metadata": {},
   "outputs": [
    {
     "data": {
      "text/plain": [
       "-44"
      ]
     },
     "execution_count": 542,
     "metadata": {},
     "output_type": "execute_result"
    }
   ],
   "source": [
    "x[5]"
   ]
  },
  {
   "cell_type": "code",
   "execution_count": 541,
   "id": "73074fe1",
   "metadata": {},
   "outputs": [
    {
     "data": {
      "text/plain": [
       "-44"
      ]
     },
     "execution_count": 541,
     "metadata": {},
     "output_type": "execute_result"
    }
   ],
   "source": [
    "x[-1]"
   ]
  },
  {
   "cell_type": "markdown",
   "id": "a477be4d",
   "metadata": {},
   "source": [
    "`-` 마지막에서 두번째 원소를 뽑고 싶다면? "
   ]
  },
  {
   "cell_type": "code",
   "execution_count": 540,
   "id": "bfde645c",
   "metadata": {},
   "outputs": [
    {
     "data": {
      "text/plain": [
       "-33"
      ]
     },
     "execution_count": 540,
     "metadata": {},
     "output_type": "execute_result"
    }
   ],
   "source": [
    "x[4]"
   ]
  },
  {
   "cell_type": "code",
   "execution_count": 539,
   "id": "c0384bb8",
   "metadata": {},
   "outputs": [
    {
     "data": {
      "text/plain": [
       "-33"
      ]
     },
     "execution_count": 539,
     "metadata": {},
     "output_type": "execute_result"
    }
   ],
   "source": [
    "x[-2]"
   ]
  },
  {
   "cell_type": "markdown",
   "id": "fd7e592b",
   "metadata": {},
   "source": [
    "`-` index = 0,1,2 에 해당하는 원소만 추출"
   ]
  },
  {
   "cell_type": "code",
   "execution_count": 548,
   "id": "70001d78",
   "metadata": {},
   "outputs": [
    {
     "data": {
      "text/plain": [
       "[11, 22, 33]"
      ]
     },
     "execution_count": 548,
     "metadata": {},
     "output_type": "execute_result"
    }
   ],
   "source": [
    "x[0:3] # 마지막 인덱스 3은 포함되지 않음 "
   ]
  },
  {
   "cell_type": "markdown",
   "id": "ca659330",
   "metadata": {},
   "source": [
    "`-` index = 2,3,4 에 해당하는 원소만 추출 "
   ]
  },
  {
   "cell_type": "code",
   "execution_count": 549,
   "id": "24e816e8",
   "metadata": {},
   "outputs": [
    {
     "data": {
      "text/plain": [
       "[33, -22, -33]"
      ]
     },
     "execution_count": 549,
     "metadata": {},
     "output_type": "execute_result"
    }
   ],
   "source": [
    "x[2:5] # 2,3,4에 해당하는 인덱스만 추출"
   ]
  },
  {
   "cell_type": "markdown",
   "id": "e173eb22",
   "metadata": {},
   "source": [
    "`-` `x[0:3]`와 같이 처음 시작점이 0인 경우 생략가능 "
   ]
  },
  {
   "cell_type": "code",
   "execution_count": 554,
   "id": "e8ccfcf0",
   "metadata": {},
   "outputs": [
    {
     "data": {
      "text/plain": [
       "[11, 22, 33]"
      ]
     },
     "execution_count": 554,
     "metadata": {},
     "output_type": "execute_result"
    }
   ],
   "source": [
    "x[:3] "
   ]
  },
  {
   "cell_type": "markdown",
   "id": "93100b19",
   "metadata": {},
   "source": [
    "`-` `x[k:]`와 같은 코드는 index=k에서 끝까지 뽑는다는 의미이다. "
   ]
  },
  {
   "cell_type": "code",
   "execution_count": 558,
   "id": "4e6e0d3e",
   "metadata": {},
   "outputs": [
    {
     "data": {
      "text/plain": [
       "[-22, -33, -44]"
      ]
     },
     "execution_count": 558,
     "metadata": {},
     "output_type": "execute_result"
    }
   ],
   "source": [
    "x[3:6] #3,4,5"
   ]
  },
  {
   "cell_type": "code",
   "execution_count": 561,
   "id": "588aeb55",
   "metadata": {},
   "outputs": [
    {
     "data": {
      "text/plain": [
       "[-22, -33, -44]"
      ]
     },
     "execution_count": 561,
     "metadata": {},
     "output_type": "execute_result"
    }
   ],
   "source": [
    "x[3:]"
   ]
  },
  {
   "cell_type": "markdown",
   "id": "01cfc3b8",
   "metadata": {},
   "source": [
    "## D. `np.cumsum()`, `np.cumprod()`"
   ]
  },
  {
   "cell_type": "markdown",
   "id": "c775ba94",
   "metadata": {},
   "source": [
    "`-` 누적합 "
   ]
  },
  {
   "cell_type": "code",
   "execution_count": 563,
   "id": "62e755b2",
   "metadata": {},
   "outputs": [
    {
     "data": {
      "text/plain": [
       "array([ 1, -1,  1, -1,  1, -1])"
      ]
     },
     "execution_count": 563,
     "metadata": {},
     "output_type": "execute_result"
    }
   ],
   "source": [
    "arr = np.array([1,-1,1,-1,1,-1])\n",
    "arr"
   ]
  },
  {
   "cell_type": "code",
   "execution_count": 564,
   "id": "e6fe9f7e",
   "metadata": {},
   "outputs": [
    {
     "data": {
      "text/plain": [
       "array([1, 0, 1, 0, 1, 0])"
      ]
     },
     "execution_count": 564,
     "metadata": {},
     "output_type": "execute_result"
    }
   ],
   "source": [
    "np.cumsum(arr)"
   ]
  },
  {
   "cell_type": "markdown",
   "id": "348589d9",
   "metadata": {},
   "source": [
    "`-` 누적곱 "
   ]
  },
  {
   "cell_type": "code",
   "execution_count": 565,
   "id": "7d1f15ee",
   "metadata": {},
   "outputs": [
    {
     "data": {
      "text/plain": [
       "array([1, 2, 3, 4])"
      ]
     },
     "execution_count": 565,
     "metadata": {},
     "output_type": "execute_result"
    }
   ],
   "source": [
    "arr = np.array([1,2,3,4])\n",
    "arr"
   ]
  },
  {
   "cell_type": "code",
   "execution_count": 566,
   "id": "8b141044",
   "metadata": {},
   "outputs": [
    {
     "data": {
      "text/plain": [
       "array([ 1,  2,  6, 24])"
      ]
     },
     "execution_count": 566,
     "metadata": {},
     "output_type": "execute_result"
    }
   ],
   "source": [
    "np.cumprod(arr)"
   ]
  },
  {
   "cell_type": "markdown",
   "id": "7f887cfc",
   "metadata": {},
   "source": [
    "## E. `plt.plot()`"
   ]
  },
  {
   "cell_type": "markdown",
   "id": "d4d9997f",
   "metadata": {},
   "source": [
    "`-` 예시1: $x$없이 그리기 (라인)"
   ]
  },
  {
   "cell_type": "code",
   "execution_count": 567,
   "id": "930142e2",
   "metadata": {},
   "outputs": [
    {
     "data": {
      "text/plain": [
       "[<matplotlib.lines.Line2D at 0x7fa6acffd550>]"
      ]
     },
     "execution_count": 567,
     "metadata": {},
     "output_type": "execute_result"
    },
    {
     "data": {
      "image/png": "[encoded data removed]",
      "text/plain": [
       "<Figure size 640x480 with 1 Axes>"
      ]
     },
     "metadata": {},
     "output_type": "display_data"
    }
   ],
   "source": [
    "y=[2,3,5,2]\n",
    "plt.plot(y)"
   ]
  },
  {
   "cell_type": "markdown",
   "id": "3de95767",
   "metadata": {},
   "source": [
    "`-` 예시2: $x$없이 그리기 (점)"
   ]
  },
  {
   "cell_type": "code",
   "execution_count": 568,
   "id": "7b8d3862",
   "metadata": {},
   "outputs": [
    {
     "data": {
      "text/plain": [
       "[<matplotlib.lines.Line2D at 0x7fa6b189d010>]"
      ]
     },
     "execution_count": 568,
     "metadata": {},
     "output_type": "execute_result"
    },
    {
     "data": {
      "image/png": "[encoded data removed]",
      "text/plain": [
       "<Figure size 640x480 with 1 Axes>"
      ]
     },
     "metadata": {},
     "output_type": "display_data"
    }
   ],
   "source": [
    "y=[2,3,5,2]\n",
    "plt.plot(y,'o')"
   ]
  },
  {
   "cell_type": "markdown",
   "id": "91d2f5ba",
   "metadata": {},
   "source": [
    "`-` 예시3: $(x,y)$를 전달하여 그리기(점)"
   ]
  },
  {
   "cell_type": "code",
   "execution_count": 570,
   "id": "2f2da1c5",
   "metadata": {},
   "outputs": [
    {
     "data": {
      "text/plain": [
       "[<matplotlib.lines.Line2D at 0x7fa6ace2d350>]"
      ]
     },
     "execution_count": 570,
     "metadata": {},
     "output_type": "execute_result"
    },
    {
     "data": {
      "image/png": "[encoded data removed]",
      "text/plain": [
       "<Figure size 640x480 with 1 Axes>"
      ]
     },
     "metadata": {},
     "output_type": "display_data"
    }
   ],
   "source": [
    "x=[20,21,22,23]\n",
    "y=[2,3,5,2]\n",
    "plt.plot(x,y,'o')"
   ]
  },
  {
   "cell_type": "markdown",
   "id": "14ffb02e",
   "metadata": {},
   "source": [
    "`-` 예시4: 겹쳐서 그리기 "
   ]
  },
  {
   "cell_type": "code",
   "execution_count": 573,
   "id": "e2927de3",
   "metadata": {},
   "outputs": [
    {
     "data": {
      "text/plain": [
       "[<matplotlib.lines.Line2D at 0x7fa6af820d50>]"
      ]
     },
     "execution_count": 573,
     "metadata": {},
     "output_type": "execute_result"
    },
    {
     "data": {
      "image/png": "[encoded data removed]",
      "text/plain": [
       "<Figure size 640x480 with 1 Axes>"
      ]
     },
     "metadata": {},
     "output_type": "display_data"
    }
   ],
   "source": [
    "x=[20,21,22,23]\n",
    "y1=[2,3,5,-2]\n",
    "y2=[2.5 ,3.5 ,5.5 , -2.5]\n",
    "plt.plot(x,y1,'--o')\n",
    "plt.plot(x,y2,'--o')"
   ]
  },
  {
   "cell_type": "markdown",
   "id": "1304db35",
   "metadata": {},
   "source": [
    "`-` 예시5: 겹쳐서 그리기 + 라벨"
   ]
  },
  {
   "cell_type": "code",
   "execution_count": 575,
   "id": "955b7bc4",
   "metadata": {},
   "outputs": [
    {
     "data": {
      "text/plain": [
       "<matplotlib.legend.Legend at 0x7fa6aceb9190>"
      ]
     },
     "execution_count": 575,
     "metadata": {},
     "output_type": "execute_result"
    },
    {
     "data": {
      "image/png": "[encoded data removed]",
      "text/plain": [
       "<Figure size 640x480 with 1 Axes>"
      ]
     },
     "metadata": {},
     "output_type": "display_data"
    }
   ],
   "source": [
    "x=[20,21,22,23]\n",
    "y1=[2,3,5,-2]\n",
    "y2=[2.5 ,3.5 ,5.5 , -2.5]\n",
    "plt.plot(x,y1,'--o',label=\"y1\")\n",
    "plt.plot(x,y2,'--o',label=\"y2\")\n",
    "plt.legend()"
   ]
  },
  {
   "cell_type": "markdown",
   "id": "43059c2a",
   "metadata": {},
   "source": [
    "`-` 예시5: 겹쳐서 그리기 + latex 라벨"
   ]
  },
  {
   "cell_type": "code",
   "execution_count": 580,
   "id": "8a05e991",
   "metadata": {},
   "outputs": [
    {
     "data": {
      "text/plain": [
       "<matplotlib.legend.Legend at 0x7fa6ac94d610>"
      ]
     },
     "execution_count": 580,
     "metadata": {},
     "output_type": "execute_result"
    },
    {
     "data": {
      "image/png": "[encoded data removed]",
      "text/plain": [
       "<Figure size 640x480 with 1 Axes>"
      ]
     },
     "metadata": {},
     "output_type": "display_data"
    }
   ],
   "source": [
    "x=[20,21,22,23]\n",
    "y1=[2,3,5,-2]\n",
    "y2=[2.5 ,3.5 ,5.5 , -2.5]\n",
    "plt.plot(x,y1,'--o',label=r\"$y_1$\")\n",
    "plt.plot(x,y2,'--o',label=r\"$y_2$\")\n",
    "plt.legend()"
   ]
  },
  {
   "cell_type": "markdown",
   "id": "4811583b",
   "metadata": {},
   "source": [
    "- latex수식은 이 수업에서 필수사항은 아님 \n",
    "- latex수식을 사용할 수 없어도 시험점수를 획득할때 아무런 불이익이 없음. "
   ]
  },
  {
   "cell_type": "markdown",
   "id": "2807c294",
   "metadata": {},
   "source": [
    "## F. `np.argmax`, `np.argmin`"
   ]
  },
  {
   "cell_type": "markdown",
   "id": "6b9c04a2",
   "metadata": {},
   "source": [
    "`-` 예시1"
   ]
  },
  {
   "cell_type": "code",
   "execution_count": 585,
   "id": "864bfe32",
   "metadata": {},
   "outputs": [
    {
     "data": {
      "text/plain": [
       "array([1, 2, 3, 2, 1, 0])"
      ]
     },
     "execution_count": 585,
     "metadata": {},
     "output_type": "execute_result"
    }
   ],
   "source": [
    "arr = np.array([1,2,3,2,1,0])\n",
    "arr"
   ]
  },
  {
   "cell_type": "code",
   "execution_count": 587,
   "id": "8ae075a0",
   "metadata": {},
   "outputs": [
    {
     "data": {
      "text/plain": [
       "(2, 5)"
      ]
     },
     "execution_count": 587,
     "metadata": {},
     "output_type": "execute_result"
    }
   ],
   "source": [
    "np.argmax(arr),np.argmin(arr)"
   ]
  },
  {
   "cell_type": "markdown",
   "id": "d1321809",
   "metadata": {},
   "source": [
    "`# 예제` -- 두 함수의 교점"
   ]
  },
  {
   "cell_type": "markdown",
   "id": "9a850a5e",
   "metadata": {},
   "source": [
    "$-1 \\leq x \\leq 3$ 에서\n",
    "\n",
    "- $f(x)=(x-1)^2$ 와\n",
    "- $g(x)=-2x+5$ \n",
    "\n",
    "의 교점의 좌표를 구하여라. "
   ]
  },
  {
   "cell_type": "markdown",
   "id": "f775c7d6",
   "metadata": {},
   "source": [
    "(풀이)"
   ]
  },
  {
   "cell_type": "code",
   "execution_count": 607,
   "id": "acb2d5ee",
   "metadata": {},
   "outputs": [
    {
     "data": {
      "text/plain": [
       "<matplotlib.legend.Legend at 0x7fa6ac585610>"
      ]
     },
     "execution_count": 607,
     "metadata": {},
     "output_type": "execute_result"
    },
    {
     "data": {
      "image/png": "[encoded data removed]",
      "text/plain": [
       "<Figure size 640x480 with 1 Axes>"
      ]
     },
     "metadata": {},
     "output_type": "display_data"
    }
   ],
   "source": [
    "x = np.linspace(-1,3,101)\n",
    "f = (x-1)**2\n",
    "g = -2*x+5 \n",
    "plt.plot(x,f,label=r\"$f(x)=(x-1)^2$\")\n",
    "plt.plot(x,g,label=r\"$g(x)=-2x+5$\")\n",
    "plt.legend()"
   ]
  },
  {
   "cell_type": "code",
   "execution_count": 611,
   "id": "b9fc0e41",
   "metadata": {},
   "outputs": [
    {
     "data": {
      "text/plain": [
       "2.0"
      ]
     },
     "execution_count": 611,
     "metadata": {},
     "output_type": "execute_result"
    }
   ],
   "source": [
    "x[np.argmin(abs(f-g))]"
   ]
  },
  {
   "cell_type": "code",
   "execution_count": 612,
   "id": "a6d18d6f",
   "metadata": {},
   "outputs": [
    {
     "data": {
      "text/plain": [
       "(2, 1)"
      ]
     },
     "execution_count": 612,
     "metadata": {},
     "output_type": "execute_result"
    }
   ],
   "source": [
    "2,(2-1)**2"
   ]
  },
  {
   "cell_type": "markdown",
   "id": "4330cfa3",
   "metadata": {},
   "source": [
    "- 이것이 교점의 좌표 "
   ]
  },
  {
   "cell_type": "markdown",
   "id": "e6d55112",
   "metadata": {},
   "source": [
    "# 숙제 "
   ]
  },
  {
   "cell_type": "markdown",
   "id": "0ef01d0a",
   "metadata": {},
   "source": [
    "`-` $x=3$일때 \n",
    "\n",
    "$$\\frac{e^x}{1+e^x}$$\n",
    "\n",
    "값을 계산하는 코드를 작성하고 LMS에 제출하라. "
   ]
  },
  {
   "cell_type": "markdown",
   "id": "e8db1bc3-00d5-4732-a3c9-b5304baa26dd",
   "metadata": {},
   "source": [
    "> `.ipynb`파일형태로 LMS에 제출할 것. (Quiz제출 연습용임. 제출방법이 익숙하지 않은 학생은 꼭 질문할것. 이 숙제는 제출하지 않아도 감점없음)"
   ]
  }
 ],
 "metadata": {
  "kernelspec": {
   "display_name": "Python 3 (ipykernel)",
   "language": "python",
   "name": "python3"
  },
  "language_info": {
   "codemirror_mode": {
    "name": "ipython",
    "version": 3
   },
   "file_extension": ".py",
   "mimetype": "text/x-python",
   "name": "python",
   "nbconvert_exporter": "python",
   "pygments_lexer": "ipython3",
   "version": "3.12.2"
  }
 },
 "nbformat": 4,
 "nbformat_minor": 5
}
