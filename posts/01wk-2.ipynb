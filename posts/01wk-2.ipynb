{
 "cells": [
  {
   "cell_type": "raw",
   "id": "b090b061-2684-4b9d-bf9d-dab7f7f10015",
   "metadata": {
    "id": "87b5cded-346b-4915-acf5-b5ec93a5207d"
   },
   "source": [
    "---\n",
    "title: \"01wk-2: 파이썬은 좋은 계산기다\"\n",
    "author: \"최규빈\"\n",
    "date: \"03/06/2024\"\n",
    "---"
   ]
  },
  {
   "cell_type": "markdown",
   "id": "96cef4a5-b7f9-4b36-9ff7-4cb858b06e23",
   "metadata": {
    "id": "e67ab8e0"
   },
   "source": [
    "<a href=\"https://colab.research.google.com/github/guebin/PP2024/blob/main/posts/01wk-2.ipynb\"><img src=\"https://colab.research.google.com/assets/colab-badge.svg\" style=\"text-align: left\"></a>"
   ]
  },
  {
   "cell_type": "markdown",
   "id": "82a98c09-2f5f-40b8-a043-7a25e47aaba1",
   "metadata": {},
   "source": [
    "# 2. Imports "
   ]
  },
  {
   "cell_type": "markdown",
   "id": "a785ded0-b05d-4578-b276-fa6fdb228272",
   "metadata": {},
   "source": [
    "# 3. 파이썬은 좋은 계산기 중 하나이다. "
   ]
  },
  {
   "cell_type": "markdown",
   "id": "36aa1163-88d3-495c-9d5b-6c48dc46cea0",
   "metadata": {},
   "source": [
    "# 4. 2024 수능 -- 1,2,4,6,23"
   ]
  },
  {
   "attachments": {},
   "cell_type": "markdown",
   "id": "43063e22-dece-4c51-8f7a-f75cbc738027",
   "metadata": {},
   "source": [
    "![](https://github.com/guebin/PP2024/blob/main/imgs/2024-수능-1.png?raw=true)"
   ]
  },
  {
   "cell_type": "markdown",
   "id": "c6941631-53a2-42e2-94f4-eea4cb6bb327",
   "metadata": {},
   "source": [
    "`(풀이)`"
   ]
  },
  {
   "attachments": {},
   "cell_type": "markdown",
   "id": "605d76c5-d04b-449a-9749-88257bec9081",
   "metadata": {},
   "source": [
    "![](https://github.com/guebin/PP2024/blob/main/imgs/2024-수능-2.png?raw=true)"
   ]
  },
  {
   "cell_type": "markdown",
   "id": "3d611de5-e1d5-48bd-9688-142a2abc6e86",
   "metadata": {},
   "source": [
    "`(풀이)`"
   ]
  },
  {
   "attachments": {},
   "cell_type": "markdown",
   "id": "32c1460c-78ca-4405-b8d3-863f1ca30b70",
   "metadata": {},
   "source": [
    "![](https://github.com/guebin/PP2024/blob/main/imgs/2024-수능-4.png?raw=true)"
   ]
  },
  {
   "cell_type": "markdown",
   "id": "460817b0-3f26-4e1a-8060-5d9efdf570b7",
   "metadata": {},
   "source": [
    "`(풀이)`"
   ]
  },
  {
   "attachments": {},
   "cell_type": "markdown",
   "id": "6f9c14c6-c7ff-4a4a-a262-f200d4f6a203",
   "metadata": {},
   "source": [
    "![](https://github.com/guebin/PP2024/blob/main/imgs/2024-수능-6.png?raw=true)"
   ]
  },
  {
   "cell_type": "markdown",
   "id": "c6c402a7-1100-4e4b-b748-744c24b39c19",
   "metadata": {},
   "source": [
    "`(풀이)`"
   ]
  },
  {
   "attachments": {},
   "cell_type": "markdown",
   "id": "36e7fd14-0d0a-4bc4-bb90-5982c7c71d71",
   "metadata": {},
   "source": [
    "![](https://github.com/guebin/PP2024/blob/main/imgs/2024-수능-미적-23.png?raw=true)"
   ]
  },
  {
   "cell_type": "markdown",
   "id": "0e1634e7-652e-4dbe-9e5e-232801513604",
   "metadata": {},
   "source": [
    "`(풀이)`"
   ]
  },
  {
   "cell_type": "markdown",
   "id": "c7ea1713-4bd9-4992-b5c6-46d9a7a07b2b",
   "metadata": {},
   "source": [
    "# 5. 2024 수능 - 3,6,7,24,5"
   ]
  },
  {
   "attachments": {},
   "cell_type": "markdown",
   "id": "5d0906a4-29f4-44e1-8de8-64bf886c4223",
   "metadata": {},
   "source": [
    "![](https://github.com/guebin/PP2024/blob/main/imgs/2024-수능-3.png?raw=true)"
   ]
  },
  {
   "cell_type": "markdown",
   "id": "fe515ece-50bf-4beb-89ee-e9710b2f78b9",
   "metadata": {},
   "source": [
    "`(풀이)`"
   ]
  },
  {
   "attachments": {},
   "cell_type": "markdown",
   "id": "f1c5a41a-9807-4d5d-860d-6540eaadf9b0",
   "metadata": {},
   "source": [
    "![](https://github.com/guebin/PP2024/blob/main/imgs/2024-수능-6.png?raw=true)"
   ]
  },
  {
   "cell_type": "markdown",
   "id": "27de7e5b-cca5-4206-bdbb-bffce17de1fa",
   "metadata": {},
   "source": [
    "`(풀이)`"
   ]
  },
  {
   "attachments": {},
   "cell_type": "markdown",
   "id": "bc46b912-269d-4be3-8f55-40f2eab182f3",
   "metadata": {},
   "source": [
    "![](https://github.com/guebin/PP2024/blob/main/imgs/2024-수능-7.png?raw=true)"
   ]
  },
  {
   "cell_type": "markdown",
   "id": "cd87fb1b-0b4f-4c06-8525-8e22368d2664",
   "metadata": {},
   "source": [
    "`(풀이)`"
   ]
  },
  {
   "attachments": {},
   "cell_type": "markdown",
   "id": "8d931234-b6e0-4bbc-b65d-a7a489bfeb23",
   "metadata": {},
   "source": [
    "![](https://github.com/guebin/PP2024/blob/main/imgs/2024-수능-미적-24.png?raw=true)"
   ]
  },
  {
   "cell_type": "markdown",
   "id": "5698fece-725f-4029-801c-4418e629a99a",
   "metadata": {},
   "source": [
    "`(풀이)`"
   ]
  },
  {
   "attachments": {},
   "cell_type": "markdown",
   "id": "212f2751-f779-4697-9350-ac9cb5387f7f",
   "metadata": {},
   "source": [
    "![](https://github.com/guebin/PP2024/blob/main/imgs/2024-수능-5.png?raw=true)"
   ]
  },
  {
   "cell_type": "markdown",
   "id": "5a1fa3d7-bc98-49cf-bd9e-711d147922f7",
   "metadata": {},
   "source": [
    "`(풀이)`"
   ]
  },
  {
   "cell_type": "markdown",
   "id": "7367103b-5f06-467b-837a-d962cf8cafea",
   "metadata": {},
   "source": [
    "# 6. 파이썬 문법복습 "
   ]
  },
  {
   "cell_type": "code",
   "execution_count": null,
   "id": "7904640e-c446-4296-a271-0352f1870811",
   "metadata": {},
   "outputs": [],
   "source": []
  }
 ],
 "metadata": {
  "kernelspec": {
   "display_name": "Python 3 (ipykernel)",
   "language": "python",
   "name": "python3"
  },
  "language_info": {
   "codemirror_mode": {
    "name": "ipython",
    "version": 3
   },
   "file_extension": ".py",
   "mimetype": "text/x-python",
   "name": "python",
   "nbconvert_exporter": "python",
   "pygments_lexer": "ipython3",
   "version": "3.12.2"
  }
 },
 "nbformat": 4,
 "nbformat_minor": 5
}
