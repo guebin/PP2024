{
 "cells": [
  {
   "cell_type": "raw",
   "id": "646bb616-b8df-4f72-83fe-30ae19ba39d0",
   "metadata": {
    "id": "87b5cded-346b-4915-acf5-b5ec93a5207d"
   },
   "source": [
    "---\n",
    "title: \"01wk-1: 강의소개\"\n",
    "author: \"최규빈\"\n",
    "date: \"03/06/2024\"\n",
    "---"
   ]
  },
  {
   "cell_type": "markdown",
   "id": "3f7fcf85-b9c1-4d11-a6df-685030590fee",
   "metadata": {
    "id": "e67ab8e0"
   },
   "source": [
    "<a href=\"https://colab.research.google.com/github/guebin/PP2024/blob/main/posts/01wk-1.ipynb\"><img src=\"https://colab.research.google.com/assets/colab-badge.svg\" style=\"text-align: left\"></a>"
   ]
  },
  {
   "cell_type": "markdown",
   "id": "6cb36e50-80a2-4766-9bd4-ed154c0863a7",
   "metadata": {},
   "source": [
    "# 1. 전북대 + 충남대 \n",
    "\n",
    "- 전북대는 전북대학생끼리 // \n",
    "- 충남대는 충남대학생끼리 // \n",
    "\n",
    "# 2. 플립러닝 \n",
    "\n",
    "- 플립: 플립은 뒤집다는 의미인데, 원래수업은.. 강의시간에 수업을 듣고, 집에서 복습 + hw + 토론 등을 진행함..\n",
    "- 매주시험을 볼것임.\n",
    "- 다음주 수\n",
    "- 수(1), 금(2) "
   ]
  }
 ],
 "metadata": {
  "kernelspec": {
   "display_name": "Python 3 (ipykernel)",
   "language": "python",
   "name": "python3"
  },
  "language_info": {
   "codemirror_mode": {
    "name": "ipython",
    "version": 3
   },
   "file_extension": ".py",
   "mimetype": "text/x-python",
   "name": "python",
   "nbconvert_exporter": "python",
   "pygments_lexer": "ipython3",
   "version": "3.12.2"
  }
 },
 "nbformat": 4,
 "nbformat_minor": 5
}
