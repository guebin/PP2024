{
 "cells": [
  {
   "cell_type": "raw",
   "id": "b7529ed5-9f74-4508-952e-ec9a24c91061",
   "metadata": {},
   "source": [
    "---\n",
    "title: \"04wk-2: 파이썬의 자료형 (1)\"\n",
    "author: \"최규빈\"\n",
    "date: \"03/29/2024\"\n",
    "draft: false\n",
    "---"
   ]
  },
  {
   "cell_type": "markdown",
   "id": "c8319f30-8c4b-4e0f-94e7-0f35b03465a6",
   "metadata": {
    "id": "e67ab8e0"
   },
   "source": [
    "<a href=\"https://colab.research.google.com/github/guebin/PP2024/blob/main/posts/04wk-2.ipynb\"><img src=\"https://colab.research.google.com/assets/colab-badge.svg\" style=\"text-align: left\"></a>"
   ]
  },
  {
   "cell_type": "markdown",
   "id": "e025cfb4-3c6c-437f-b506-40ea5153e2f1",
   "metadata": {},
   "source": [
    "# 1. 강의영상 "
   ]
  },
  {
   "cell_type": "markdown",
   "id": "c93dd577-299f-440a-ba88-254c6ad07277",
   "metadata": {
    "tags": []
   },
   "source": [
    "{{<video https://youtu.be/playlist?list=PLQqh36zP38-wwdZJIQiqJdmbWB90HM-VK&si=O2VyS-dYdtqnlD25 >}}"
   ]
  },
  {
   "cell_type": "markdown",
   "id": "f53dac86-6f4d-41a9-8c7d-d038db9df355",
   "metadata": {},
   "source": [
    "# 2. Imports "
   ]
  },
  {
   "cell_type": "code",
   "execution_count": 57,
   "id": "432e3352-f53c-4576-8fff-d1a29f4bb48a",
   "metadata": {},
   "outputs": [],
   "source": [
    "pass"
   ]
  },
  {
   "cell_type": "markdown",
   "id": "488523fa-11bf-45fc-80ad-6a54b44f6094",
   "metadata": {},
   "source": [
    "# 3. 형변환 "
   ]
  },
  {
   "cell_type": "markdown",
   "id": "6fa49918-909a-496c-8abf-36ac0328b86d",
   "metadata": {},
   "source": [
    "`-` 파이썬의 기본자료형은 int, float, bool, str, list, tuple, dict, set 등이 있다.\n",
    "\n",
    "- 0차원 자료형: int, float, bool \n",
    "- 1차원 자료형: str, list, tuple, dict, set"
   ]
  },
  {
   "cell_type": "markdown",
   "id": "c1fa9f60-f417-4ec5-84c7-863d443250fd",
   "metadata": {},
   "source": [
    "## A. 사용자가 직접형태변환 "
   ]
  },
  {
   "cell_type": "markdown",
   "id": "0a20ea0f-cce6-4198-89fe-a25154a8e8f3",
   "metadata": {},
   "source": [
    "`-` 형태변환: float $\\to$ int "
   ]
  },
  {
   "cell_type": "markdown",
   "id": "7f090617-889c-416f-850f-3e7eaf21da92",
   "metadata": {},
   "source": [
    "(예시1)"
   ]
  },
  {
   "cell_type": "code",
   "execution_count": 58,
   "id": "6f964452-1762-43f6-ba1d-74596e10f49f",
   "metadata": {
    "vscode": {
     "languageId": "python"
    }
   },
   "outputs": [
    {
     "data": {
      "text/plain": [
       "float"
      ]
     },
     "execution_count": 58,
     "metadata": {},
     "output_type": "execute_result"
    }
   ],
   "source": [
    "a=3.0\n",
    "type(a)"
   ]
  },
  {
   "cell_type": "code",
   "execution_count": 59,
   "id": "c80b0380-031c-4c21-8606-3afffc6c1bca",
   "metadata": {
    "vscode": {
     "languageId": "python"
    }
   },
   "outputs": [],
   "source": [
    "a=int(a)"
   ]
  },
  {
   "cell_type": "code",
   "execution_count": 60,
   "id": "dd9cf497-7fbf-4e39-8f44-e6a343cf0298",
   "metadata": {
    "vscode": {
     "languageId": "python"
    }
   },
   "outputs": [
    {
     "data": {
      "text/plain": [
       "int"
      ]
     },
     "execution_count": 60,
     "metadata": {},
     "output_type": "execute_result"
    }
   ],
   "source": [
    "type(a)"
   ]
  },
  {
   "cell_type": "markdown",
   "id": "0be5e29e-5b3d-4cb1-8490-8ce7b23cad63",
   "metadata": {},
   "source": [
    "(예시2) 이경우는 정보의 손실이 발생 "
   ]
  },
  {
   "cell_type": "code",
   "execution_count": 62,
   "id": "0f945465-ab18-4c52-92cd-6126e5b0efa2",
   "metadata": {
    "vscode": {
     "languageId": "python"
    }
   },
   "outputs": [
    {
     "data": {
      "text/plain": [
       "3"
      ]
     },
     "execution_count": 62,
     "metadata": {},
     "output_type": "execute_result"
    }
   ],
   "source": [
    "a=3.14 \n",
    "int(a)"
   ]
  },
  {
   "cell_type": "markdown",
   "id": "32469653-8bb9-4b44-9876-380ce75e6524",
   "metadata": {},
   "source": [
    "`-` 형태변환: int $\\to$ float"
   ]
  },
  {
   "cell_type": "code",
   "execution_count": 64,
   "id": "3ed49aa6-8de6-45bc-9aef-f6b5523c2b72",
   "metadata": {
    "vscode": {
     "languageId": "python"
    }
   },
   "outputs": [
    {
     "data": {
      "text/plain": [
       "int"
      ]
     },
     "execution_count": 64,
     "metadata": {},
     "output_type": "execute_result"
    }
   ],
   "source": [
    "a=3\n",
    "type(a)"
   ]
  },
  {
   "cell_type": "code",
   "execution_count": 66,
   "id": "ea3a05bd-567b-489d-a887-154261ce784c",
   "metadata": {
    "vscode": {
     "languageId": "python"
    }
   },
   "outputs": [
    {
     "data": {
      "text/plain": [
       "float"
      ]
     },
     "execution_count": 66,
     "metadata": {},
     "output_type": "execute_result"
    }
   ],
   "source": [
    "a=float(a)\n",
    "type(a)"
   ]
  },
  {
   "cell_type": "markdown",
   "id": "b657ab8a-bbb1-43a2-8d7e-b8add104f02b",
   "metadata": {},
   "source": [
    "`-` 형태변환: bool $\\to$ int/float, int/float $\\to$ bool "
   ]
  },
  {
   "cell_type": "markdown",
   "id": "a4ae4df3-6448-452e-a6ed-6e6a5badd07b",
   "metadata": {},
   "source": [
    "(예시1)"
   ]
  },
  {
   "cell_type": "code",
   "execution_count": 41,
   "id": "4171066b-db9c-422f-abc8-e58545708528",
   "metadata": {
    "vscode": {
     "languageId": "python"
    }
   },
   "outputs": [
    {
     "data": {
      "text/plain": [
       "bool"
      ]
     },
     "execution_count": 41,
     "metadata": {},
     "output_type": "execute_result"
    }
   ],
   "source": [
    "a=True\n",
    "type(a)"
   ]
  },
  {
   "cell_type": "code",
   "execution_count": 42,
   "id": "5653b7c6-9610-4f4a-b528-ffb57b1cfb0e",
   "metadata": {
    "vscode": {
     "languageId": "python"
    }
   },
   "outputs": [
    {
     "data": {
      "text/plain": [
       "1"
      ]
     },
     "execution_count": 42,
     "metadata": {},
     "output_type": "execute_result"
    }
   ],
   "source": [
    "int(a)"
   ]
  },
  {
   "cell_type": "code",
   "execution_count": 43,
   "id": "1301ba7b-4945-4e65-9b7f-e3d1de995f41",
   "metadata": {
    "vscode": {
     "languageId": "python"
    }
   },
   "outputs": [
    {
     "data": {
      "text/plain": [
       "1.0"
      ]
     },
     "execution_count": 43,
     "metadata": {},
     "output_type": "execute_result"
    }
   ],
   "source": [
    "float(a)"
   ]
  },
  {
   "cell_type": "markdown",
   "id": "fa13dd9e-f649-4181-b45b-721a2ac57473",
   "metadata": {},
   "source": [
    "(예시2)"
   ]
  },
  {
   "cell_type": "code",
   "execution_count": 59,
   "id": "85b738c9-3875-48bf-9aae-c49688ac0db2",
   "metadata": {
    "vscode": {
     "languageId": "python"
    }
   },
   "outputs": [
    {
     "data": {
      "text/plain": [
       "True"
      ]
     },
     "execution_count": 59,
     "metadata": {},
     "output_type": "execute_result"
    }
   ],
   "source": [
    "a=1 \n",
    "bool(a)"
   ]
  },
  {
   "cell_type": "code",
   "execution_count": 60,
   "id": "13e395de-b15d-49e5-9d6b-3fc3f198f4da",
   "metadata": {
    "vscode": {
     "languageId": "python"
    }
   },
   "outputs": [
    {
     "data": {
      "text/plain": [
       "False"
      ]
     },
     "execution_count": 60,
     "metadata": {},
     "output_type": "execute_result"
    }
   ],
   "source": [
    "a=0\n",
    "bool(a)"
   ]
  },
  {
   "cell_type": "markdown",
   "id": "42a6fd1c-dbd4-4189-9a69-c047aad326ab",
   "metadata": {},
   "source": [
    "(예시3)"
   ]
  },
  {
   "cell_type": "code",
   "execution_count": 61,
   "id": "508ff1d1-e626-4e76-ad52-dbb79377228b",
   "metadata": {
    "vscode": {
     "languageId": "python"
    }
   },
   "outputs": [
    {
     "data": {
      "text/plain": [
       "True"
      ]
     },
     "execution_count": 61,
     "metadata": {},
     "output_type": "execute_result"
    }
   ],
   "source": [
    "a=1.0\n",
    "bool(a)"
   ]
  },
  {
   "cell_type": "code",
   "execution_count": 62,
   "id": "50047512-a291-42b7-aa85-6031fb602437",
   "metadata": {
    "vscode": {
     "languageId": "python"
    }
   },
   "outputs": [
    {
     "data": {
      "text/plain": [
       "False"
      ]
     },
     "execution_count": 62,
     "metadata": {},
     "output_type": "execute_result"
    }
   ],
   "source": [
    "a=0.0\n",
    "bool(a)"
   ]
  },
  {
   "cell_type": "markdown",
   "id": "fa93c75d-e3ec-4c13-a020-9f08b661f0a2",
   "metadata": {},
   "source": [
    "`-` 이상한 형태변환도 가능하다. (이런것도 바꿔주나 싶은것도 바꿔줌) "
   ]
  },
  {
   "cell_type": "code",
   "execution_count": 75,
   "id": "90d1d403-4f75-40f6-bc61-4e05f69b49e0",
   "metadata": {
    "vscode": {
     "languageId": "python"
    }
   },
   "outputs": [
    {
     "data": {
      "text/plain": [
       "True"
      ]
     },
     "execution_count": 75,
     "metadata": {},
     "output_type": "execute_result"
    }
   ],
   "source": [
    "bool(-3.14)"
   ]
  },
  {
   "cell_type": "markdown",
   "id": "0dc8dd6f-f5a1-4b87-8d7c-4ff3dfb1b55f",
   "metadata": {},
   "source": [
    "- 저는 이런 코드를 의도적으로 사용하지 않아요.. "
   ]
  },
  {
   "cell_type": "code",
   "execution_count": 71,
   "id": "3304a522-95be-4981-814f-313acd50bbf9",
   "metadata": {
    "vscode": {
     "languageId": "python"
    }
   },
   "outputs": [
    {
     "data": {
      "text/plain": [
       "3"
      ]
     },
     "execution_count": 71,
     "metadata": {},
     "output_type": "execute_result"
    }
   ],
   "source": [
    "int(3.14)"
   ]
  },
  {
   "cell_type": "markdown",
   "id": "f097e2be-807a-494a-ba35-b47c83045da8",
   "metadata": {},
   "source": [
    "`-` 형태변환이 항상가능한것도 아님 "
   ]
  },
  {
   "cell_type": "code",
   "execution_count": 76,
   "id": "601b94de-583e-4e6d-8953-3782f834cf03",
   "metadata": {
    "vscode": {
     "languageId": "python"
    }
   },
   "outputs": [
    {
     "ename": "TypeError",
     "evalue": "float() argument must be a string or a real number, not 'complex'",
     "output_type": "error",
     "traceback": [
      "\u001b[0;31m---------------------------------------------------------------------------\u001b[0m",
      "\u001b[0;31mTypeError\u001b[0m                                 Traceback (most recent call last)",
      "Cell \u001b[0;32mIn[76], line 1\u001b[0m\n\u001b[0;32m----> 1\u001b[0m \u001b[38;5;28;43mfloat\u001b[39;49m\u001b[43m(\u001b[49m\u001b[38;5;241;43m3\u001b[39;49m\u001b[38;5;241;43m+\u001b[39;49m\u001b[38;5;241;43m0\u001b[39;49m\u001b[43mj\u001b[49m\u001b[43m)\u001b[49m \u001b[38;5;66;03m# 사실상 3+0j=3 이므로 float으로 형변환하면 3.0이 되어야 할 것 같은데 변환불가능하다. \u001b[39;00m\n",
      "\u001b[0;31mTypeError\u001b[0m: float() argument must be a string or a real number, not 'complex'"
     ]
    }
   ],
   "source": [
    "float(3+0j) # 사실상 3+0j=3 이므로 float으로 형변환하면 3.0이 되어야 할 것 같은데 변환불가능하다. "
   ]
  },
  {
   "cell_type": "markdown",
   "id": "28e37d64-f6eb-4cdc-94ae-8ad01ed02150",
   "metadata": {},
   "source": [
    "## B. 암묵적형변환 "
   ]
  },
  {
   "cell_type": "markdown",
   "id": "2e75adbd-97eb-4985-a590-dcd3a692ad4d",
   "metadata": {},
   "source": [
    "`-` 암묵적형변환 (implicit) "
   ]
  },
  {
   "cell_type": "markdown",
   "id": "cf37cc71-fdb3-4fa9-a369-b8bee8d7f9db",
   "metadata": {},
   "source": [
    "(예비학습) implicit의 의미 \n",
    "\n",
    "- 추운날씨 -> 보일러좀 틀자! (explicit) / 오늘 날씨 좀 추운 것 같지 않아? (implicit) \n",
    "- 짜장면 먹을래? -> 싫어! (explicit) / 난 어제 짜장면 먹었는데.. (implicit)"
   ]
  },
  {
   "cell_type": "markdown",
   "id": "946f656b-91be-4b6d-8644-ee224da3eb5d",
   "metadata": {},
   "source": [
    "(예제) "
   ]
  },
  {
   "cell_type": "code",
   "execution_count": 79,
   "id": "b8eb78ad-969a-4b23-acb6-ec2192d137ad",
   "metadata": {
    "vscode": {
     "languageId": "python"
    }
   },
   "outputs": [
    {
     "data": {
      "text/plain": [
       "1"
      ]
     },
     "execution_count": 79,
     "metadata": {},
     "output_type": "execute_result"
    }
   ],
   "source": [
    "True * 1 # 1을 곱할건데 너 계속 True로 있을꺼야? "
   ]
  },
  {
   "cell_type": "code",
   "execution_count": 82,
   "id": "f9ec11b4-a75e-4c88-a4ad-de504ea3a556",
   "metadata": {
    "vscode": {
     "languageId": "python"
    }
   },
   "outputs": [
    {
     "data": {
      "text/plain": [
       "1.0"
      ]
     },
     "execution_count": 82,
     "metadata": {},
     "output_type": "execute_result"
    }
   ],
   "source": [
    "1 * 1.0 # 1.0을 곱할건데 너 계속 int로 있을꺼야? "
   ]
  },
  {
   "cell_type": "code",
   "execution_count": 82,
   "id": "5b72ccde-ba9e-4741-98ed-851225e16d28",
   "metadata": {
    "vscode": {
     "languageId": "python"
    }
   },
   "outputs": [
    {
     "data": {
      "text/plain": [
       "2"
      ]
     },
     "execution_count": 82,
     "metadata": {},
     "output_type": "execute_result"
    }
   ],
   "source": [
    "True+True # +연산을 할건데 계속 True로 있을꺼야? "
   ]
  },
  {
   "cell_type": "markdown",
   "id": "f239932f-84d5-4c04-aeb3-b4f8082a050d",
   "metadata": {},
   "source": [
    "# 4. `string`"
   ]
  },
  {
   "cell_type": "markdown",
   "id": "12bae3dd-60ab-4429-a419-1b71d3b655a8",
   "metadata": {},
   "source": [
    "## A. 선언 "
   ]
  },
  {
   "cell_type": "markdown",
   "id": "5175de1f-facf-4fb8-a9ca-7d0b8118cece",
   "metadata": {},
   "source": [
    "`-` 예시1"
   ]
  },
  {
   "cell_type": "code",
   "execution_count": 85,
   "id": "5bc90b8a-068a-4336-8c5c-29f3185cf8a7",
   "metadata": {},
   "outputs": [],
   "source": [
    "a='guebin'"
   ]
  },
  {
   "cell_type": "code",
   "execution_count": 86,
   "id": "aa34e6cf-84d6-4cfd-803e-6d29523d1f18",
   "metadata": {},
   "outputs": [
    {
     "data": {
      "text/plain": [
       "'guebin'"
      ]
     },
     "execution_count": 86,
     "metadata": {},
     "output_type": "execute_result"
    }
   ],
   "source": [
    "a"
   ]
  },
  {
   "cell_type": "markdown",
   "id": "781c4409-1ca6-4459-ad17-effe15d6ed0b",
   "metadata": {},
   "source": [
    "`-` 예시2"
   ]
  },
  {
   "cell_type": "code",
   "execution_count": 87,
   "id": "382c1e02-ef0e-4615-8459-23eb827fcc62",
   "metadata": {},
   "outputs": [],
   "source": [
    "a=\"guebin\""
   ]
  },
  {
   "cell_type": "code",
   "execution_count": 88,
   "id": "5ea4dad0-31f5-4b29-b963-bf76c778dd11",
   "metadata": {},
   "outputs": [
    {
     "data": {
      "text/plain": [
       "'guebin'"
      ]
     },
     "execution_count": 88,
     "metadata": {},
     "output_type": "execute_result"
    }
   ],
   "source": [
    "a"
   ]
  },
  {
   "cell_type": "markdown",
   "id": "8ced389f-757e-479a-a856-b92723366b88",
   "metadata": {},
   "source": [
    "`-` 예시3"
   ]
  },
  {
   "cell_type": "code",
   "execution_count": 92,
   "id": "869b61d0-2d92-4252-a2ab-2af824c41436",
   "metadata": {},
   "outputs": [
    {
     "data": {
      "text/plain": [
       "\"asdf'a'sdf\""
      ]
     },
     "execution_count": 92,
     "metadata": {},
     "output_type": "execute_result"
    }
   ],
   "source": [
    "a=\"asdf'a'sdf\"\n",
    "a"
   ]
  },
  {
   "cell_type": "markdown",
   "id": "24401df2-a9a5-40d5-ae66-ba9ed2a8d591",
   "metadata": {},
   "source": [
    "`-` 예시4"
   ]
  },
  {
   "cell_type": "code",
   "execution_count": 93,
   "id": "e6ef1dec-68f4-4a2d-bfa5-b7fb4ee4053a",
   "metadata": {},
   "outputs": [
    {
     "data": {
      "text/plain": [
       "'asdf\"a\"sdf'"
      ]
     },
     "execution_count": 93,
     "metadata": {},
     "output_type": "execute_result"
    }
   ],
   "source": [
    "a='asdf\"a\"sdf'\n",
    "a"
   ]
  },
  {
   "cell_type": "markdown",
   "id": "fa7b1c37-a30c-44cc-a848-9b3d7a069cc5",
   "metadata": {},
   "source": [
    "## B. 연산"
   ]
  },
  {
   "cell_type": "markdown",
   "id": "1d2ed0e2-2a17-48dc-a2c6-2cd1dc685708",
   "metadata": {},
   "source": [
    "`-` 더하기(+)연산 "
   ]
  },
  {
   "cell_type": "code",
   "execution_count": 97,
   "id": "d57cdce2-5d84-4799-a628-95fc5e42e40b",
   "metadata": {},
   "outputs": [],
   "source": [
    "a='X'\n",
    "b='2'"
   ]
  },
  {
   "cell_type": "code",
   "execution_count": 98,
   "id": "0e010559-8d46-4330-8551-e28ae6d55d07",
   "metadata": {},
   "outputs": [
    {
     "data": {
      "text/plain": [
       "'X2'"
      ]
     },
     "execution_count": 98,
     "metadata": {},
     "output_type": "execute_result"
    }
   ],
   "source": [
    "c=a+b\n",
    "c"
   ]
  },
  {
   "cell_type": "markdown",
   "id": "a398eeba-762b-4f0f-80b0-6c9f29fb4aa1",
   "metadata": {},
   "source": [
    "`-` 빼기(-)연산 "
   ]
  },
  {
   "cell_type": "code",
   "execution_count": 102,
   "id": "f96eb260-6d53-42c2-884f-29c28c6bce3a",
   "metadata": {},
   "outputs": [
    {
     "ename": "TypeError",
     "evalue": "unsupported operand type(s) for -: 'str' and 'str'",
     "output_type": "error",
     "traceback": [
      "\u001b[0;31m---------------------------------------------------------------------------\u001b[0m",
      "\u001b[0;31mTypeError\u001b[0m                                 Traceback (most recent call last)",
      "Cell \u001b[0;32mIn[102], line 3\u001b[0m\n\u001b[1;32m      1\u001b[0m a\u001b[38;5;241m=\u001b[39m\u001b[38;5;124m'\u001b[39m\u001b[38;5;124mX2\u001b[39m\u001b[38;5;124m'\u001b[39m\n\u001b[1;32m      2\u001b[0m b\u001b[38;5;241m=\u001b[39m\u001b[38;5;124m'\u001b[39m\u001b[38;5;124m2\u001b[39m\u001b[38;5;124m'\u001b[39m\n\u001b[0;32m----> 3\u001b[0m \u001b[43ma\u001b[49m\u001b[38;5;241;43m-\u001b[39;49m\u001b[43mb\u001b[49m\n",
      "\u001b[0;31mTypeError\u001b[0m: unsupported operand type(s) for -: 'str' and 'str'"
     ]
    }
   ],
   "source": [
    "a='X2'\n",
    "b='2'\n",
    "a-b"
   ]
  },
  {
   "cell_type": "markdown",
   "id": "b2a05b9f-a214-4a73-9ad6-8d22efa8b49f",
   "metadata": {},
   "source": [
    "- 이런건 없다. "
   ]
  },
  {
   "cell_type": "markdown",
   "id": "752f43b6-76d8-4f75-9d4c-777bd05fcd90",
   "metadata": {},
   "source": [
    "`-` 곱하기(*)연산"
   ]
  },
  {
   "cell_type": "code",
   "execution_count": 110,
   "id": "434ec741-fb00-495f-8742-16cf5525bd41",
   "metadata": {},
   "outputs": [],
   "source": [
    "a='X'"
   ]
  },
  {
   "cell_type": "code",
   "execution_count": 111,
   "id": "d5d57576-3956-4932-957d-47e86384038a",
   "metadata": {},
   "outputs": [
    {
     "data": {
      "text/plain": [
       "'XXX'"
      ]
     },
     "execution_count": 111,
     "metadata": {},
     "output_type": "execute_result"
    }
   ],
   "source": [
    "a+a+a"
   ]
  },
  {
   "cell_type": "code",
   "execution_count": 112,
   "id": "468a02a2-1350-42d3-9d86-4ebbca0a76e5",
   "metadata": {},
   "outputs": [
    {
     "data": {
      "text/plain": [
       "'XXX'"
      ]
     },
     "execution_count": 112,
     "metadata": {},
     "output_type": "execute_result"
    }
   ],
   "source": [
    "a*3 # a*3 = a+a+a = 'X'+'X+'X'"
   ]
  },
  {
   "cell_type": "markdown",
   "id": "69f0c219-f6ab-41b6-b2b2-9c42947f6acc",
   "metadata": {},
   "source": [
    "아래도 가능하다. "
   ]
  },
  {
   "cell_type": "code",
   "execution_count": 96,
   "id": "1a493f7f-1655-4794-858f-7bc689a7b4c5",
   "metadata": {},
   "outputs": [
    {
     "data": {
      "text/plain": [
       "'XXX'"
      ]
     },
     "execution_count": 96,
     "metadata": {},
     "output_type": "execute_result"
    }
   ],
   "source": [
    "3*a"
   ]
  },
  {
   "cell_type": "markdown",
   "id": "3bc1e9bc-38cc-4354-8910-ab89c619b4fd",
   "metadata": {},
   "source": [
    "그리고 아래도 가능하다. "
   ]
  },
  {
   "cell_type": "code",
   "execution_count": 97,
   "id": "4e53321e-a6d6-4a61-ab88-a1325fafe677",
   "metadata": {},
   "outputs": [
    {
     "data": {
      "text/plain": [
       "'XXX'"
      ]
     },
     "execution_count": 97,
     "metadata": {},
     "output_type": "execute_result"
    }
   ],
   "source": [
    "a='X'\n",
    "b=3 \n",
    "a*b"
   ]
  },
  {
   "cell_type": "markdown",
   "id": "54a7b706-5b9b-4a38-a4fb-b53cb0ba3feb",
   "metadata": {},
   "source": [
    "대신에 의미상 맞지 않는 것은 수행되지 않고 에러가 난다. "
   ]
  },
  {
   "cell_type": "code",
   "execution_count": 117,
   "id": "8614315c-83ff-492d-82b8-657cbeb708e4",
   "metadata": {},
   "outputs": [
    {
     "data": {
      "text/plain": [
       "'XY'"
      ]
     },
     "execution_count": 117,
     "metadata": {},
     "output_type": "execute_result"
    }
   ],
   "source": [
    "a='X'\n",
    "b='Y'\n",
    "a+b"
   ]
  },
  {
   "cell_type": "code",
   "execution_count": 118,
   "id": "173c66df-d70b-41c9-a442-8f82761a19ae",
   "metadata": {},
   "outputs": [
    {
     "ename": "TypeError",
     "evalue": "can't multiply sequence by non-int of type 'str'",
     "output_type": "error",
     "traceback": [
      "\u001b[0;31m---------------------------------------------------------------------------\u001b[0m",
      "\u001b[0;31mTypeError\u001b[0m                                 Traceback (most recent call last)",
      "Cell \u001b[0;32mIn[118], line 1\u001b[0m\n\u001b[0;32m----> 1\u001b[0m \u001b[43ma\u001b[49m\u001b[38;5;241;43m*\u001b[39;49m\u001b[43mb\u001b[49m\n",
      "\u001b[0;31mTypeError\u001b[0m: can't multiply sequence by non-int of type 'str'"
     ]
    }
   ],
   "source": [
    "a*b"
   ]
  },
  {
   "cell_type": "markdown",
   "id": "644a69d0-b83d-47db-ace0-b8aa7358abd8",
   "metadata": {},
   "source": [
    "`-` 나눗셈(/)연산 "
   ]
  },
  {
   "cell_type": "code",
   "execution_count": 120,
   "id": "353e4a99-e652-487f-9f57-07127152d320",
   "metadata": {},
   "outputs": [
    {
     "data": {
      "text/plain": [
       "'XX'"
      ]
     },
     "execution_count": 120,
     "metadata": {},
     "output_type": "execute_result"
    }
   ],
   "source": [
    "2*'X'"
   ]
  },
  {
   "cell_type": "code",
   "execution_count": 72,
   "id": "4c44ec89-432f-4691-a7f5-039df1991893",
   "metadata": {},
   "outputs": [],
   "source": [
    "a='XX'"
   ]
  },
  {
   "cell_type": "code",
   "execution_count": 73,
   "id": "5f9a9a0f-9369-4203-b1f6-6f94cceff0a9",
   "metadata": {},
   "outputs": [
    {
     "ename": "TypeError",
     "evalue": "unsupported operand type(s) for /: 'str' and 'int'",
     "output_type": "error",
     "traceback": [
      "\u001b[0;31m---------------------------------------------------------------------------\u001b[0m",
      "\u001b[0;31mTypeError\u001b[0m                                 Traceback (most recent call last)",
      "Cell \u001b[0;32mIn[73], line 1\u001b[0m\n\u001b[0;32m----> 1\u001b[0m \u001b[43ma\u001b[49m\u001b[38;5;241;43m/\u001b[39;49m\u001b[38;5;241;43m2\u001b[39;49m\n",
      "\u001b[0;31mTypeError\u001b[0m: unsupported operand type(s) for /: 'str' and 'int'"
     ]
    }
   ],
   "source": [
    "a/2"
   ]
  },
  {
   "cell_type": "markdown",
   "id": "ff17a9be-2c86-4e63-9cca-eb02566d3d94",
   "metadata": {},
   "source": [
    "- 이런건 없다.. "
   ]
  },
  {
   "cell_type": "markdown",
   "id": "6bf5adf5-045e-4a29-97e7-795b2f566d51",
   "metadata": {},
   "source": [
    "## C. 인덱싱"
   ]
  },
  {
   "cell_type": "markdown",
   "id": "9747f874-e650-47f6-bc5d-b79719e37670",
   "metadata": {},
   "source": [
    "`-` str은 하나의 벡터 문자가 여러개 있는 형태라고 생각하면 된다. "
   ]
  },
  {
   "cell_type": "code",
   "execution_count": 125,
   "id": "ea554e12-5463-4b16-859e-7e35ae063100",
   "metadata": {},
   "outputs": [],
   "source": [
    "a='guebin'"
   ]
  },
  {
   "cell_type": "code",
   "execution_count": 129,
   "id": "8727af57-3785-47d5-b0b9-db7da1d244f1",
   "metadata": {},
   "outputs": [
    {
     "data": {
      "text/plain": [
       "'guebin'"
      ]
     },
     "execution_count": 129,
     "metadata": {},
     "output_type": "execute_result"
    }
   ],
   "source": [
    "a"
   ]
  },
  {
   "cell_type": "markdown",
   "id": "04758bd9-dc7a-4463-b42f-31ef4ab3389e",
   "metadata": {},
   "source": [
    "- 6개의 칸에 글씨가 하나씩 들어가 있음. "
   ]
  },
  {
   "cell_type": "markdown",
   "id": "8cb04d17-568d-4a74-a34d-77b4fcd5d379",
   "metadata": {},
   "source": [
    "`-` 대괄호 `[]`안에 숫자를 넣는 방식으로 벡터의 원소를 호출할 수 있다. (주의: 인덱스가 0부터 시작함) "
   ]
  },
  {
   "cell_type": "code",
   "execution_count": 77,
   "id": "4d6a13cb-970c-4f89-b28b-bf7b91ba08e7",
   "metadata": {},
   "outputs": [
    {
     "data": {
      "text/plain": [
       "'g'"
      ]
     },
     "execution_count": 77,
     "metadata": {},
     "output_type": "execute_result"
    }
   ],
   "source": [
    "a[0] #첫번째원소"
   ]
  },
  {
   "cell_type": "code",
   "execution_count": 78,
   "id": "290d9188-f419-49d1-b798-90ed66c24bd4",
   "metadata": {},
   "outputs": [
    {
     "data": {
      "text/plain": [
       "'u'"
      ]
     },
     "execution_count": 78,
     "metadata": {},
     "output_type": "execute_result"
    }
   ],
   "source": [
    "a[1] #두번째원소 "
   ]
  },
  {
   "cell_type": "markdown",
   "id": "db58fbd3-2894-4ece-9374-0b9559712926",
   "metadata": {},
   "source": [
    "마지막원소는 -1로 호출할 수도 있다. "
   ]
  },
  {
   "cell_type": "code",
   "execution_count": 114,
   "id": "9d0140f6-1c32-4817-be93-79a3f5094629",
   "metadata": {},
   "outputs": [
    {
     "data": {
      "text/plain": [
       "'n'"
      ]
     },
     "execution_count": 114,
     "metadata": {},
     "output_type": "execute_result"
    }
   ],
   "source": [
    "a[-1]"
   ]
  },
  {
   "cell_type": "markdown",
   "id": "14754a95-495b-4b47-9954-14e30fde02d7",
   "metadata": {},
   "source": [
    "마지막에서 2번째 원소는 -2로 호출가능하다. "
   ]
  },
  {
   "cell_type": "code",
   "execution_count": 115,
   "id": "901877b7-a767-471c-81dd-caf7dc11723b",
   "metadata": {},
   "outputs": [
    {
     "data": {
      "text/plain": [
       "'i'"
      ]
     },
     "execution_count": 115,
     "metadata": {},
     "output_type": "execute_result"
    }
   ],
   "source": [
    "a[-2]"
   ]
  },
  {
   "cell_type": "markdown",
   "id": "b0f9b17c-073a-4d0f-844d-cbab503bf615",
   "metadata": {},
   "source": [
    "`-` 요약하면 아래와 같은 방식으로 호출가능함. "
   ]
  },
  {
   "cell_type": "markdown",
   "id": "2654255e-93a9-437d-a37d-2ef95a10978e",
   "metadata": {},
   "source": [
    "|g|u|e|b|i|n|\n",
    "|:-:|:-:|:-:|:-:|:-:|:-:|\n",
    "|0|1|2|3|4|5|\n",
    "|0|-5|-4|-3|-2|-1|"
   ]
  },
  {
   "cell_type": "code",
   "execution_count": 132,
   "id": "48ebd16b-8c44-473b-948d-a244067bfb5a",
   "metadata": {},
   "outputs": [
    {
     "data": {
      "text/plain": [
       "'i'"
      ]
     },
     "execution_count": 132,
     "metadata": {},
     "output_type": "execute_result"
    }
   ],
   "source": [
    "a[4]"
   ]
  },
  {
   "cell_type": "code",
   "execution_count": 133,
   "id": "9a8b9683-ac0c-4cc9-81b6-5e4c6c667471",
   "metadata": {},
   "outputs": [
    {
     "data": {
      "text/plain": [
       "'i'"
      ]
     },
     "execution_count": 133,
     "metadata": {},
     "output_type": "execute_result"
    }
   ],
   "source": [
    "a[-2]"
   ]
  },
  {
   "cell_type": "code",
   "execution_count": 134,
   "id": "64909dd6-7e2e-45f1-aa0b-777d93ee37ee",
   "metadata": {},
   "outputs": [
    {
     "data": {
      "text/plain": [
       "'e'"
      ]
     },
     "execution_count": 134,
     "metadata": {},
     "output_type": "execute_result"
    }
   ],
   "source": [
    "a[-4]"
   ]
  },
  {
   "cell_type": "markdown",
   "id": "705b2b7f-5e58-4b0a-b4c2-ab81d4966865",
   "metadata": {},
   "source": [
    "`-` `:`을 이용하여 여러개의 원소를 호출할 수 있음. "
   ]
  },
  {
   "cell_type": "code",
   "execution_count": 135,
   "id": "03e54a98-8993-495c-9ec8-0e3c91e3e9c7",
   "metadata": {},
   "outputs": [],
   "source": [
    "a='guebin'"
   ]
  },
  {
   "cell_type": "code",
   "execution_count": 102,
   "id": "e69dafb6-b2af-492d-9aeb-f5884706cc6f",
   "metadata": {},
   "outputs": [
    {
     "data": {
      "text/plain": [
       "'gue'"
      ]
     },
     "execution_count": 102,
     "metadata": {},
     "output_type": "execute_result"
    }
   ],
   "source": [
    "a[0:3] # a[0],a[1],a[2],a[3]이 아니라 a[0],a[1],a[2]까지만 뽑힌다. 즉 마지막의 3은 호출되지 않는다. "
   ]
  },
  {
   "cell_type": "code",
   "execution_count": 137,
   "id": "8e8e04cd-f272-4e39-80c9-6327cb7ab700",
   "metadata": {},
   "outputs": [
    {
     "data": {
      "text/plain": [
       "'ue'"
      ]
     },
     "execution_count": 137,
     "metadata": {},
     "output_type": "execute_result"
    }
   ],
   "source": [
    "a[1:3] # a[1], a[2] 만 호출 // start=1,  stop=3 "
   ]
  },
  {
   "cell_type": "markdown",
   "id": "a68afb20-8c6c-4a63-9f67-feb481148750",
   "metadata": {},
   "source": [
    "index=1부터 시작해서 마지막원소까지 호출하려면? "
   ]
  },
  {
   "cell_type": "code",
   "execution_count": 153,
   "id": "2fd10990-277e-441f-ac2c-a1d3dc2fab01",
   "metadata": {},
   "outputs": [],
   "source": [
    "a='guebin'"
   ]
  },
  {
   "cell_type": "code",
   "execution_count": 130,
   "id": "da98b1f4-1e1e-4186-9f6d-925f61818138",
   "metadata": {},
   "outputs": [
    {
     "data": {
      "text/plain": [
       "'n'"
      ]
     },
     "execution_count": 130,
     "metadata": {},
     "output_type": "execute_result"
    }
   ],
   "source": [
    "a[5] # guebin의 마지막원소 'n'이 출려 "
   ]
  },
  {
   "cell_type": "code",
   "execution_count": 135,
   "id": "1b51a10d-9d0c-4771-bdce-4f4e227da85d",
   "metadata": {},
   "outputs": [
    {
     "data": {
      "text/plain": [
       "'uebi'"
      ]
     },
     "execution_count": 135,
     "metadata": {},
     "output_type": "execute_result"
    }
   ],
   "source": [
    "a[1:5] # 5는 포함되지 않으므로 틀림"
   ]
  },
  {
   "cell_type": "code",
   "execution_count": 136,
   "id": "9ec693f6-6f46-476a-bd48-d29902a5ef62",
   "metadata": {},
   "outputs": [
    {
     "data": {
      "text/plain": [
       "'uebin'"
      ]
     },
     "execution_count": 136,
     "metadata": {},
     "output_type": "execute_result"
    }
   ],
   "source": [
    "a[1:6] # 정답"
   ]
  },
  {
   "cell_type": "markdown",
   "id": "138b470a-3bdb-4873-b258-3b9e07dd6f79",
   "metadata": {},
   "source": [
    "안 헷갈리는 방법은 없을까? 생략한다. "
   ]
  },
  {
   "cell_type": "code",
   "execution_count": 145,
   "id": "21822b50-e30e-4aab-be7b-c46fd15cbd08",
   "metadata": {},
   "outputs": [
    {
     "data": {
      "text/plain": [
       "'uebin'"
      ]
     },
     "execution_count": 145,
     "metadata": {},
     "output_type": "execute_result"
    }
   ],
   "source": [
    "a[1:]"
   ]
  },
  {
   "cell_type": "markdown",
   "id": "4fb1786a-af8b-425f-a3d7-083ce09d58bf",
   "metadata": {},
   "source": [
    "`-` 생략의 응용1"
   ]
  },
  {
   "cell_type": "code",
   "execution_count": 146,
   "id": "177ee328-bfd3-49c4-a72d-21c91704fc6c",
   "metadata": {},
   "outputs": [
    {
     "data": {
      "text/plain": [
       "'k-pop'"
      ]
     },
     "execution_count": 146,
     "metadata": {},
     "output_type": "execute_result"
    }
   ],
   "source": [
    "a='k-pop' \n",
    "a"
   ]
  },
  {
   "cell_type": "code",
   "execution_count": 152,
   "id": "4aac734e-8569-44ae-aaa8-c31adc6ac63b",
   "metadata": {},
   "outputs": [
    {
     "data": {
      "text/plain": [
       "'pop'"
      ]
     },
     "execution_count": 152,
     "metadata": {},
     "output_type": "execute_result"
    }
   ],
   "source": [
    "a[2:]"
   ]
  },
  {
   "cell_type": "markdown",
   "id": "0fb2c8a8-ad26-4a50-8319-59abd7dbb648",
   "metadata": {},
   "source": [
    "`-` 생략의 응용2"
   ]
  },
  {
   "cell_type": "code",
   "execution_count": 153,
   "id": "3ec64cbe-da59-4ed3-a9ae-3a80421332b4",
   "metadata": {},
   "outputs": [
    {
     "data": {
      "text/plain": [
       "'k-pop'"
      ]
     },
     "execution_count": 153,
     "metadata": {},
     "output_type": "execute_result"
    }
   ],
   "source": [
    "a='k-pop'\n",
    "a"
   ]
  },
  {
   "cell_type": "code",
   "execution_count": null,
   "id": "79e2b462-f603-4b8d-b3de-829e6dea6d8e",
   "metadata": {},
   "outputs": [],
   "source": [
    "0,1 -> 0,1,2"
   ]
  },
  {
   "cell_type": "code",
   "execution_count": 154,
   "id": "b9f024e0-44be-4dfd-a9ac-561d375b2588",
   "metadata": {},
   "outputs": [
    {
     "data": {
      "text/plain": [
       "'k-'"
      ]
     },
     "execution_count": 154,
     "metadata": {},
     "output_type": "execute_result"
    }
   ],
   "source": [
    "a[0:2] # a[0],a[1]"
   ]
  },
  {
   "cell_type": "code",
   "execution_count": 155,
   "id": "07df054a-dbb8-4510-8dcf-e3b5912e99d5",
   "metadata": {},
   "outputs": [
    {
     "data": {
      "text/plain": [
       "'k-'"
      ]
     },
     "execution_count": 155,
     "metadata": {},
     "output_type": "execute_result"
    }
   ],
   "source": [
    "a[:2] # a[0],a[1] "
   ]
  },
  {
   "cell_type": "markdown",
   "id": "a252528a-ed6d-4796-817e-32ef142121ed",
   "metadata": {},
   "source": [
    "- `a[:2]` 는 a의 원소중 처음 2개를 뽑는다는 의미"
   ]
  },
  {
   "cell_type": "markdown",
   "id": "4ce526a9-e962-4364-921c-84f48c1f4d5d",
   "metadata": {},
   "source": [
    "`-` 생략의 응용3"
   ]
  },
  {
   "cell_type": "code",
   "execution_count": 175,
   "id": "d9249f73-e6eb-4148-9085-eafea52b6d86",
   "metadata": {},
   "outputs": [
    {
     "data": {
      "text/plain": [
       "'k-pop'"
      ]
     },
     "execution_count": 175,
     "metadata": {},
     "output_type": "execute_result"
    }
   ],
   "source": [
    "a='k-pop'\n",
    "a"
   ]
  },
  {
   "cell_type": "code",
   "execution_count": 159,
   "id": "5ced837d-7b48-4a1d-9430-0f818e57be1e",
   "metadata": {},
   "outputs": [
    {
     "data": {
      "text/plain": [
       "'k-pop'"
      ]
     },
     "execution_count": 159,
     "metadata": {},
     "output_type": "execute_result"
    }
   ],
   "source": [
    "a[0:5] # a[0],...,a[4]"
   ]
  },
  {
   "cell_type": "code",
   "execution_count": 177,
   "id": "bba481ad-bbe3-45df-be3c-213e1c937bb1",
   "metadata": {},
   "outputs": [
    {
     "data": {
      "text/plain": [
       "'k-pop'"
      ]
     },
     "execution_count": 177,
     "metadata": {},
     "output_type": "execute_result"
    }
   ],
   "source": [
    "a[:]"
   ]
  },
  {
   "cell_type": "markdown",
   "id": "e024c896-8757-48bd-bc38-b5bad7f483a7",
   "metadata": {},
   "source": [
    "## D. str 특수기능 "
   ]
  },
  {
   "cell_type": "markdown",
   "id": "59e60049-d649-4c7f-b768-e074c1bb1fa8",
   "metadata": {},
   "source": [
    "`-` 파이썬의 변수는 단순히 정보를 담는 그릇이 아니다. 유용한 기능을 제공하는 경우가 있다. "
   ]
  },
  {
   "cell_type": "code",
   "execution_count": 161,
   "id": "ede439a3-ae83-426d-9aad-95b5b09f8e1c",
   "metadata": {},
   "outputs": [
    {
     "data": {
      "text/plain": [
       "'ABCD'"
      ]
     },
     "execution_count": 161,
     "metadata": {},
     "output_type": "execute_result"
    }
   ],
   "source": [
    "a='ABCD' # a라는 변수는 'ABCD'라는 정보를 담는 그릇의 역할만 하지 않고, 특화된 어떠한 기능도 제공한다. \n",
    "a"
   ]
  },
  {
   "cell_type": "code",
   "execution_count": 162,
   "id": "fda38600-c4c8-4458-bc3d-2f95f98fe17e",
   "metadata": {},
   "outputs": [
    {
     "data": {
      "text/plain": [
       "'abcd'"
      ]
     },
     "execution_count": 162,
     "metadata": {},
     "output_type": "execute_result"
    }
   ],
   "source": [
    "a.lower() # a.lower()를 쓰면 a의 모든 문자를 소문자로 바꾸는 기능을 제공, lower(a)라고 읽자!"
   ]
  },
  {
   "cell_type": "markdown",
   "id": "1ca376f2-db90-4b81-a250-f4d174cf21d5",
   "metadata": {},
   "source": [
    "여기에서 lower()는 문자열에 특화된 기능임. 따라서 당연히 아래는 불가능 "
   ]
  },
  {
   "cell_type": "code",
   "execution_count": 163,
   "id": "f5014c6f-5f7b-4a81-acf4-19a0301695a8",
   "metadata": {},
   "outputs": [
    {
     "ename": "AttributeError",
     "evalue": "'float' object has no attribute 'lower'",
     "output_type": "error",
     "traceback": [
      "\u001b[0;31m---------------------------------------------------------------------------\u001b[0m",
      "\u001b[0;31mAttributeError\u001b[0m                            Traceback (most recent call last)",
      "Cell \u001b[0;32mIn[163], line 2\u001b[0m\n\u001b[1;32m      1\u001b[0m a\u001b[38;5;241m=\u001b[39m\u001b[38;5;241m3.14\u001b[39m\n\u001b[0;32m----> 2\u001b[0m \u001b[43ma\u001b[49m\u001b[38;5;241;43m.\u001b[39;49m\u001b[43mlower\u001b[49m() \u001b[38;5;66;03m# lower(a)\u001b[39;00m\n",
      "\u001b[0;31mAttributeError\u001b[0m: 'float' object has no attribute 'lower'"
     ]
    }
   ],
   "source": [
    "a=3.14\n",
    "a.lower() # lower(a)"
   ]
  },
  {
   "cell_type": "markdown",
   "id": "249a4e3d-7b08-4f79-8bea-f7de60a435b0",
   "metadata": {},
   "source": [
    "`-` 자료형에 특화된 기능(=함수)을 확인하는 방법? `a.`+ `tab` 으로 목록 확인 가능 "
   ]
  },
  {
   "cell_type": "code",
   "execution_count": 167,
   "id": "55a27e68-39c8-4960-9148-9d1c22c44572",
   "metadata": {},
   "outputs": [],
   "source": [
    "a='guebin'"
   ]
  },
  {
   "cell_type": "code",
   "execution_count": 168,
   "id": "62024768-e43a-48ee-ac56-188ac4e3c9f5",
   "metadata": {},
   "outputs": [
    {
     "data": {
      "text/plain": [
       "\u001b[0;31mSignature:\u001b[0m \u001b[0ma\u001b[0m\u001b[0;34m.\u001b[0m\u001b[0mupper\u001b[0m\u001b[0;34m(\u001b[0m\u001b[0;34m)\u001b[0m\u001b[0;34m\u001b[0m\u001b[0;34m\u001b[0m\u001b[0m\n",
       "\u001b[0;31mDocstring:\u001b[0m Return a copy of the string converted to uppercase.\n",
       "\u001b[0;31mType:\u001b[0m      builtin_function_or_method"
      ]
     },
     "metadata": {},
     "output_type": "display_data"
    }
   ],
   "source": [
    "a.upper?"
   ]
  },
  {
   "cell_type": "code",
   "execution_count": 169,
   "id": "d18fa7fe-6ae8-47ce-8b50-6ee4addeba01",
   "metadata": {},
   "outputs": [
    {
     "data": {
      "text/plain": [
       "'GUEBIN'"
      ]
     },
     "execution_count": 169,
     "metadata": {},
     "output_type": "execute_result"
    }
   ],
   "source": [
    "a.upper() # upper(a) "
   ]
  },
  {
   "cell_type": "code",
   "execution_count": 143,
   "id": "6c31eee3-c875-4373-b6ab-6d39f65aca99",
   "metadata": {},
   "outputs": [
    {
     "data": {
      "text/plain": [
       "'Guebin'"
      ]
     },
     "execution_count": 143,
     "metadata": {},
     "output_type": "execute_result"
    }
   ],
   "source": [
    "a.capitalize() # capitalize(a) "
   ]
  },
  {
   "cell_type": "markdown",
   "id": "ffb2b8ff-01f3-4aaf-855f-aafda340f909",
   "metadata": {},
   "source": [
    "`-` 유용한 특수기능 $(\\star\\star\\star)$"
   ]
  },
  {
   "cell_type": "code",
   "execution_count": 171,
   "id": "48f2f3fa-88de-4420-81cf-025285d2defa",
   "metadata": {},
   "outputs": [
    {
     "data": {
      "text/plain": [
       "'1-2-3'"
      ]
     },
     "execution_count": 171,
     "metadata": {},
     "output_type": "execute_result"
    }
   ],
   "source": [
    "'-'.join(['1','2','3'])"
   ]
  },
  {
   "cell_type": "code",
   "execution_count": 172,
   "id": "b0ec7890-c8bf-43f5-9381-9957c37195e9",
   "metadata": {},
   "outputs": [
    {
     "data": {
      "text/plain": [
       "['1', '2', '3']"
      ]
     },
     "execution_count": 172,
     "metadata": {},
     "output_type": "execute_result"
    }
   ],
   "source": [
    "'1-2-3'.split('-')"
   ]
  },
  {
   "cell_type": "code",
   "execution_count": 173,
   "id": "30757376-254d-4722-b740-b49a7f34c9a1",
   "metadata": {},
   "outputs": [
    {
     "data": {
      "text/plain": [
       "'1*2*3'"
      ]
     },
     "execution_count": 173,
     "metadata": {},
     "output_type": "execute_result"
    }
   ],
   "source": [
    "'1-2-3'.replace('-','*')"
   ]
  },
  {
   "cell_type": "markdown",
   "id": "f5308a26-68b0-4096-b4a9-b100e3d2dcf6",
   "metadata": {},
   "source": [
    "## E. len"
   ]
  },
  {
   "cell_type": "markdown",
   "id": "bc448e03-f6f7-4049-93db-5f85dea1dad9",
   "metadata": {},
   "source": [
    "`-` `len`함수 소개: 원소의 갯수를 알려주는 함수. "
   ]
  },
  {
   "cell_type": "code",
   "execution_count": 175,
   "id": "ea575f56-4683-460d-83be-313d89b442b0",
   "metadata": {},
   "outputs": [
    {
     "data": {
      "text/plain": [
       "4"
      ]
     },
     "execution_count": 175,
     "metadata": {},
     "output_type": "execute_result"
    }
   ],
   "source": [
    "a='ABCD' \n",
    "len(a)"
   ]
  },
  {
   "cell_type": "markdown",
   "id": "1705b19d-46ff-478b-8ab7-c8e9bbe5d9d4",
   "metadata": {},
   "source": [
    "`-` 참고: len은 0차원 변수형에서는 동작하지 않고 1차원 변수형에서만 동작한다. "
   ]
  },
  {
   "cell_type": "markdown",
   "id": "6f3054ed-677d-434f-b042-c963988fc619",
   "metadata": {},
   "source": [
    "(0차원) `len` 함수가 동작하지 않음."
   ]
  },
  {
   "cell_type": "code",
   "execution_count": 177,
   "id": "25e201bd-7cc7-4908-8b6a-14fb8f01e2b4",
   "metadata": {},
   "outputs": [],
   "source": [
    "a=3.14"
   ]
  },
  {
   "cell_type": "code",
   "execution_count": 178,
   "id": "a4453dd5-23de-4a1c-9fa5-baeeecf64bb0",
   "metadata": {},
   "outputs": [
    {
     "ename": "TypeError",
     "evalue": "object of type 'float' has no len()",
     "output_type": "error",
     "traceback": [
      "\u001b[0;31m---------------------------------------------------------------------------\u001b[0m",
      "\u001b[0;31mTypeError\u001b[0m                                 Traceback (most recent call last)",
      "Cell \u001b[0;32mIn[178], line 1\u001b[0m\n\u001b[0;32m----> 1\u001b[0m \u001b[38;5;28;43mlen\u001b[39;49m\u001b[43m(\u001b[49m\u001b[43ma\u001b[49m\u001b[43m)\u001b[49m\n",
      "\u001b[0;31mTypeError\u001b[0m: object of type 'float' has no len()"
     ]
    }
   ],
   "source": [
    "len(a)"
   ]
  },
  {
   "cell_type": "code",
   "execution_count": 211,
   "id": "7c05b18e-e3f9-4ed0-91ec-1b5bae41ed48",
   "metadata": {},
   "outputs": [],
   "source": [
    "b=True"
   ]
  },
  {
   "cell_type": "code",
   "execution_count": 212,
   "id": "513fee6a-cc5f-468e-a019-06b1b072364f",
   "metadata": {},
   "outputs": [
    {
     "ename": "TypeError",
     "evalue": "object of type 'bool' has no len()",
     "output_type": "error",
     "traceback": [
      "\u001b[0;31m---------------------------------------------------------------------------\u001b[0m",
      "\u001b[0;31mTypeError\u001b[0m                                 Traceback (most recent call last)",
      "Cell \u001b[0;32mIn[212], line 1\u001b[0m\n\u001b[0;32m----> 1\u001b[0m \u001b[38;5;28;43mlen\u001b[39;49m\u001b[43m(\u001b[49m\u001b[43mb\u001b[49m\u001b[43m)\u001b[49m\n",
      "\u001b[0;31mTypeError\u001b[0m: object of type 'bool' has no len()"
     ]
    }
   ],
   "source": [
    "len(b)"
   ]
  },
  {
   "cell_type": "markdown",
   "id": "7320c2be-7d23-4858-8e38-32ee6ec6fdc0",
   "metadata": {},
   "source": [
    "(1차원) `len` 함수가 잘 동작함. "
   ]
  },
  {
   "cell_type": "code",
   "execution_count": 179,
   "id": "147ea2b8-d5ed-49d4-a964-80f5844886f0",
   "metadata": {},
   "outputs": [
    {
     "data": {
      "text/plain": [
       "4"
      ]
     },
     "execution_count": 179,
     "metadata": {},
     "output_type": "execute_result"
    }
   ],
   "source": [
    "a='3.14'\n",
    "len(a)"
   ]
  },
  {
   "cell_type": "code",
   "execution_count": 180,
   "id": "4bf1db96-05a0-418b-be30-5e3f4edf6d7b",
   "metadata": {},
   "outputs": [],
   "source": [
    "b=[1,2,3]"
   ]
  },
  {
   "cell_type": "code",
   "execution_count": 181,
   "id": "48cb62f5-a201-4297-b9ca-7a7708b3f90a",
   "metadata": {},
   "outputs": [
    {
     "data": {
      "text/plain": [
       "3"
      ]
     },
     "execution_count": 181,
     "metadata": {},
     "output_type": "execute_result"
    }
   ],
   "source": [
    "len(b)"
   ]
  },
  {
   "cell_type": "markdown",
   "id": "52e74e14-b7dd-4d4b-8e36-d8fe4fb4f7c3",
   "metadata": {},
   "source": [
    "## F. `fstring`"
   ]
  },
  {
   "cell_type": "markdown",
   "id": "f5877c09-7e72-4a5a-b601-437aaab0fb44",
   "metadata": {},
   "source": [
    "`-` 예제1"
   ]
  },
  {
   "cell_type": "code",
   "execution_count": 24,
   "id": "398a8b07-b870-4b99-b704-027f903ed25d",
   "metadata": {
    "tags": []
   },
   "outputs": [
    {
     "name": "stdout",
     "output_type": "stream",
     "text": [
      "a+b = 3\n"
     ]
    }
   ],
   "source": [
    "a=1\n",
    "b=2\n",
    "print(f'a+b = {a+b}')"
   ]
  },
  {
   "cell_type": "markdown",
   "id": "8f7aadd0-6390-4da0-bf29-2237d10337fe",
   "metadata": {},
   "source": [
    "`-` 예제2"
   ]
  },
  {
   "cell_type": "code",
   "execution_count": 23,
   "id": "8de9d958-9cec-472d-b237-9362e46745fe",
   "metadata": {
    "tags": []
   },
   "outputs": [
    {
     "name": "stdout",
     "output_type": "stream",
     "text": [
      "a*b = 6.28\n"
     ]
    }
   ],
   "source": [
    "a=2\n",
    "b=3.141592\n",
    "print(f'a*b = {a*b:.2f}')"
   ]
  },
  {
   "cell_type": "markdown",
   "id": "7fdf8907-982d-44d3-a9cb-13ebec57f7cb",
   "metadata": {},
   "source": [
    "`-` 예제3"
   ]
  },
  {
   "cell_type": "code",
   "execution_count": 34,
   "id": "d7582e4b-a633-4450-ab50-d46b156243f3",
   "metadata": {
    "tags": []
   },
   "outputs": [
    {
     "name": "stdout",
     "output_type": "stream",
     "text": [
      "2a = 6.28\t3a = 9.42\n"
     ]
    }
   ],
   "source": [
    "a=3.141592\n",
    "print(f'2a = {2*a:.2f}\\t3a = {3*a:.2f}')"
   ]
  },
  {
   "cell_type": "markdown",
   "id": "6c5fd30b-67a2-4fd8-94d1-45af2d7c540e",
   "metadata": {
    "tags": []
   },
   "source": [
    "`-` 예제4"
   ]
  },
  {
   "cell_type": "code",
   "execution_count": 26,
   "id": "43e5bdde-a01f-418a-82e0-e3436df62ae6",
   "metadata": {
    "tags": []
   },
   "outputs": [],
   "source": [
    "lst = ['장하니','최다호','주성재','이슬기']"
   ]
  },
  {
   "cell_type": "code",
   "execution_count": 38,
   "id": "d8b43eb7-eacc-4870-8ea3-f70309347080",
   "metadata": {
    "tags": []
   },
   "outputs": [
    {
     "data": {
      "text/plain": [
       "['장하니학생 안녕하세요, 통계학과 최규빈 교수입니다. 다름이 아니라 전공진로설계관련 상담일자를 잡고자 메일을 보냈습니다.',\n",
       " '최다호학생 안녕하세요, 통계학과 최규빈 교수입니다. 다름이 아니라 전공진로설계관련 상담일자를 잡고자 메일을 보냈습니다.',\n",
       " '주성재학생 안녕하세요, 통계학과 최규빈 교수입니다. 다름이 아니라 전공진로설계관련 상담일자를 잡고자 메일을 보냈습니다.',\n",
       " '이슬기학생 안녕하세요, 통계학과 최규빈 교수입니다. 다름이 아니라 전공진로설계관련 상담일자를 잡고자 메일을 보냈습니다.']"
      ]
     },
     "execution_count": 38,
     "metadata": {},
     "output_type": "execute_result"
    }
   ],
   "source": [
    "[f'{l}학생 안녕하세요, 통계학과 최규빈 교수입니다. 다름이 아니라 전공진로설계관련 상담일자를 잡고자 메일을 보냈습니다.' for l in lst]"
   ]
  },
  {
   "cell_type": "markdown",
   "id": "8027ac1d-d5ae-4bd4-be3c-2b57a6e84397",
   "metadata": {},
   "source": [
    "## G. string과 `for`문 "
   ]
  },
  {
   "cell_type": "markdown",
   "id": "8df51ccd-608c-42ac-aaed-07c4143b4190",
   "metadata": {},
   "source": [
    "`-` 예제1"
   ]
  },
  {
   "cell_type": "code",
   "execution_count": 46,
   "id": "42165aad-4e61-43c2-a5f1-80e21eef9af6",
   "metadata": {
    "tags": []
   },
   "outputs": [
    {
     "name": "stdout",
     "output_type": "stream",
     "text": [
      "jj\n",
      "bb\n",
      "nn\n",
      "uu\n"
     ]
    }
   ],
   "source": [
    "for s in 'jbnu':\n",
    "    print(2*s)"
   ]
  },
  {
   "cell_type": "markdown",
   "id": "8977c7f1-044b-42fe-99f1-59555185f6ef",
   "metadata": {},
   "source": [
    "`-` 예제2"
   ]
  },
  {
   "cell_type": "code",
   "execution_count": 50,
   "id": "5afade72-bcb4-4b2c-a4ae-4101ce90603c",
   "metadata": {
    "tags": []
   },
   "outputs": [
    {
     "data": {
      "text/plain": [
       "['jjjj', 'bbbb', 'nnnn', 'uuuu']"
      ]
     },
     "execution_count": 50,
     "metadata": {},
     "output_type": "execute_result"
    }
   ],
   "source": [
    "[s*4 for s in 'jbnu']"
   ]
  },
  {
   "cell_type": "markdown",
   "id": "6cdc3b3d-8274-4bf0-9a35-93a2c764d33e",
   "metadata": {},
   "source": [
    "## H. `in` 연산자 "
   ]
  },
  {
   "cell_type": "code",
   "execution_count": 55,
   "id": "531b52a6-62cf-4d56-bba2-5905e4b83941",
   "metadata": {
    "tags": []
   },
   "outputs": [],
   "source": [
    "s = 'jbnu'"
   ]
  },
  {
   "cell_type": "code",
   "execution_count": 56,
   "id": "9290aa47-ffa0-4d7e-8210-e46863405160",
   "metadata": {
    "tags": []
   },
   "outputs": [
    {
     "data": {
      "text/plain": [
       "True"
      ]
     },
     "execution_count": 56,
     "metadata": {},
     "output_type": "execute_result"
    }
   ],
   "source": [
    "'b' in s"
   ]
  },
  {
   "cell_type": "code",
   "execution_count": 57,
   "id": "3a9b3ef6-8018-4aed-a835-f0f4b518bd9b",
   "metadata": {
    "tags": []
   },
   "outputs": [
    {
     "data": {
      "text/plain": [
       "False"
      ]
     },
     "execution_count": 57,
     "metadata": {},
     "output_type": "execute_result"
    }
   ],
   "source": [
    "'c' in s"
   ]
  },
  {
   "cell_type": "code",
   "execution_count": 58,
   "id": "1e0f1622-59a1-4049-9b2a-48e4ceecd19b",
   "metadata": {
    "tags": []
   },
   "outputs": [
    {
     "data": {
      "text/plain": [
       "True"
      ]
     },
     "execution_count": 58,
     "metadata": {},
     "output_type": "execute_result"
    }
   ],
   "source": [
    "'jb' in s"
   ]
  },
  {
   "cell_type": "code",
   "execution_count": 61,
   "id": "2f11a386-31ae-45b5-ba30-9d505c9ad690",
   "metadata": {
    "tags": []
   },
   "outputs": [
    {
     "data": {
      "text/plain": [
       "False"
      ]
     },
     "execution_count": 61,
     "metadata": {},
     "output_type": "execute_result"
    }
   ],
   "source": [
    "'jn' in s"
   ]
  },
  {
   "cell_type": "markdown",
   "id": "b54ada06-1d95-478a-a66e-c19be9494680",
   "metadata": {},
   "source": [
    "## I. 연습문제들 "
   ]
  },
  {
   "cell_type": "markdown",
   "id": "4f50c103-3b56-4fd1-8567-53aadd801843",
   "metadata": {},
   "source": [
    "`전북대학교` -- 아래와 같은 문자열이 있다고 하자. "
   ]
  },
  {
   "cell_type": "code",
   "execution_count": 62,
   "id": "a77424ab-01be-43fe-aabc-23e6217e0bde",
   "metadata": {
    "tags": []
   },
   "outputs": [],
   "source": [
    "a='Jeonbuk National University' "
   ]
  },
  {
   "cell_type": "markdown",
   "id": "716f94f8-c868-4a6a-957d-65d63b1428ff",
   "metadata": {},
   "source": [
    "`# 문제`. 적당한 인덱싱을 통하여 출력결과가 아래와 같도록 하라."
   ]
  },
  {
   "cell_type": "code",
   "execution_count": null,
   "id": "03da4acd-ee4b-44e1-8eff-233d4602efd3",
   "metadata": {},
   "outputs": [
    {
     "data": {
      "text/plain": [
       "'University'"
      ]
     },
     "execution_count": 221,
     "metadata": {},
     "output_type": "execute_result"
    }
   ],
   "source": [
    "# 적당한 인덱싱"
   ]
  },
  {
   "cell_type": "markdown",
   "id": "76f195ae-af6f-4048-89b6-7820ed018064",
   "metadata": {},
   "source": [
    "**hint**: University는 10글자이다. "
   ]
  },
  {
   "cell_type": "markdown",
   "id": "2adbb0ee-49c1-41e3-b045-430cc9666743",
   "metadata": {
    "tags": []
   },
   "source": [
    "(풀이)"
   ]
  },
  {
   "cell_type": "code",
   "execution_count": 67,
   "id": "e32f7fd1-bf98-4550-a8a3-f6117b31bace",
   "metadata": {
    "tags": []
   },
   "outputs": [
    {
     "data": {
      "text/plain": [
       "'University'"
      ]
     },
     "execution_count": 67,
     "metadata": {},
     "output_type": "execute_result"
    }
   ],
   "source": [
    "a[-10:]"
   ]
  },
  {
   "cell_type": "markdown",
   "id": "3e32170a-dd20-40a0-bc7e-15b25499de3e",
   "metadata": {},
   "source": [
    "`# 문제`. 출력결과가 아래와 같도록 하는 코드를 작성하라. (lower 함수를 이용할 것)"
   ]
  },
  {
   "cell_type": "code",
   "execution_count": null,
   "id": "867d2932-0711-43e6-b945-3ca4b2185dce",
   "metadata": {},
   "outputs": [
    {
     "data": {
      "text/plain": [
       "'jeonbuk national university'"
      ]
     },
     "execution_count": 222,
     "metadata": {},
     "output_type": "execute_result"
    }
   ],
   "source": [
    "# 적당한 코드 "
   ]
  },
  {
   "cell_type": "markdown",
   "id": "ec8664d2-5945-4fbd-a1a2-10b901c2396c",
   "metadata": {
    "tags": []
   },
   "source": [
    "(풀이)"
   ]
  },
  {
   "cell_type": "code",
   "execution_count": 69,
   "id": "6d3f8706-90f9-4799-a06a-580108a0962b",
   "metadata": {
    "tags": []
   },
   "outputs": [
    {
     "data": {
      "text/plain": [
       "'jeonbuk national university'"
      ]
     },
     "execution_count": 69,
     "metadata": {},
     "output_type": "execute_result"
    }
   ],
   "source": [
    "a.lower()"
   ]
  },
  {
   "cell_type": "markdown",
   "id": "2835c05f-77ce-4f18-8aaa-db7f0331083c",
   "metadata": {},
   "source": [
    "`# 문제`. 아래의 코드를 관찰하고 isupper()의 기능이 무엇인지 스스로 정리해보라. "
   ]
  },
  {
   "cell_type": "code",
   "execution_count": 71,
   "id": "b2de8b3d-3b76-4aaa-a973-62da5a0078af",
   "metadata": {
    "tags": []
   },
   "outputs": [
    {
     "data": {
      "text/plain": [
       "True"
      ]
     },
     "execution_count": 71,
     "metadata": {},
     "output_type": "execute_result"
    }
   ],
   "source": [
    "'A'.isupper()"
   ]
  },
  {
   "cell_type": "code",
   "execution_count": 72,
   "id": "67709352-1f96-4d9f-94d6-2a0c9e7b04ba",
   "metadata": {
    "tags": []
   },
   "outputs": [
    {
     "data": {
      "text/plain": [
       "True"
      ]
     },
     "execution_count": 72,
     "metadata": {},
     "output_type": "execute_result"
    }
   ],
   "source": [
    "'AA'.isupper()"
   ]
  },
  {
   "cell_type": "code",
   "execution_count": 73,
   "id": "312ebf33-dcf8-42e7-ae8d-3a35d2d78c09",
   "metadata": {
    "tags": []
   },
   "outputs": [
    {
     "data": {
      "text/plain": [
       "False"
      ]
     },
     "execution_count": 73,
     "metadata": {},
     "output_type": "execute_result"
    }
   ],
   "source": [
    "'Aa'.isupper()"
   ]
  },
  {
   "cell_type": "code",
   "execution_count": 74,
   "id": "aca28ea8-8a5c-4d13-af8b-5f8306f70c79",
   "metadata": {
    "tags": []
   },
   "outputs": [
    {
     "data": {
      "text/plain": [
       "False"
      ]
     },
     "execution_count": 74,
     "metadata": {},
     "output_type": "execute_result"
    }
   ],
   "source": [
    "'aa'.isupper()"
   ]
  },
  {
   "cell_type": "code",
   "execution_count": 75,
   "id": "224c8558-4e41-42a6-80e0-492579cf3272",
   "metadata": {
    "tags": []
   },
   "outputs": [
    {
     "data": {
      "text/plain": [
       "False"
      ]
     },
     "execution_count": 75,
     "metadata": {},
     "output_type": "execute_result"
    }
   ],
   "source": [
    "'aA'.isupper()"
   ]
  },
  {
   "cell_type": "markdown",
   "id": "94afc00c-59cf-45ff-b5e8-f322a8a538d9",
   "metadata": {},
   "source": [
    "유추한 기능이 맞는지 ChatGPT를 통하여 확인하라. "
   ]
  },
  {
   "cell_type": "markdown",
   "id": "c0309bf3-e5d4-44db-bdc2-6961c1992355",
   "metadata": {},
   "source": [
    "`Ditto` -- 다음은 인터넷에서 긁어온 어떠한 텍스트이다. "
   ]
  },
  {
   "cell_type": "code",
   "execution_count": 76,
   "id": "12fb5720-a09b-4756-b1eb-557458fdf9b3",
   "metadata": {
    "tags": []
   },
   "outputs": [],
   "source": [
    "text = \"국내뿐 아니라 해외 인기도 심상치 않다. 2023년 1월 18일 'Ditto'가 빌보드 핫 100에 96위로 진입했다. 이는 K-pop 역사상 데뷔후 최단 빌보드 Hot 100 차트 입성 기록이다. 다른 뮤지션들이 보통 데뷔 후 수년간 쌓아온 팬덤을 기반으로 빌보드에 입성한데 비해, 뉴진스의 기록은 이례적인 것으로 평가받고 있다. 또한 'OMG'가 빌보드 핫 100에 91위로 진입한 동시에 'Ditto'는 85위로 순위가 상승, 핫 100 주간차트에 두 곡을 올려놓았다. K-Pop 역사상 이 차트에 두 곡 이상을 진입시킨 아티스트는 방탄소년단과 블랙핑크가 유일하다. 'Ditto'는 1월 셋째주 기준, 빌보드뿐만 아니라 영국 오피셜 싱글 차트 '톱 100'에 2주 연속 진입하기도 했다.\""
   ]
  },
  {
   "cell_type": "markdown",
   "id": "772846b0-b449-4a48-af38-fa7de4dc91c1",
   "metadata": {},
   "source": [
    "`# 문제`. text는 총 몇개의 문장으로 이루어져 있는가? "
   ]
  },
  {
   "cell_type": "markdown",
   "id": "9ad4c9f5-396e-4029-89b5-a216c21cf042",
   "metadata": {},
   "source": [
    "**hint:** 이 텍스트의 문장은 모두 `.`로 끝난다. "
   ]
  },
  {
   "cell_type": "markdown",
   "id": "c06fcca7-de2d-4348-903f-139a9ced89bf",
   "metadata": {
    "tags": []
   },
   "source": [
    "(풀이)"
   ]
  },
  {
   "cell_type": "code",
   "execution_count": 87,
   "id": "c54ca3b6-519c-4693-a8b8-fc658a314d9f",
   "metadata": {
    "tags": []
   },
   "outputs": [
    {
     "data": {
      "text/plain": [
       "7"
      ]
     },
     "execution_count": 87,
     "metadata": {},
     "output_type": "execute_result"
    }
   ],
   "source": [
    "len(text.split('. '))"
   ]
  },
  {
   "cell_type": "markdown",
   "id": "f91af654-ef6b-4e63-8ed7-33bde2a2ef0a",
   "metadata": {},
   "source": [
    "`# 문제`. 각 문장은 몇개의 단어로 이루어져 있는가? "
   ]
  },
  {
   "cell_type": "markdown",
   "id": "daa4196e-cf43-4781-b875-607c40650f12",
   "metadata": {},
   "source": [
    "**hint:** 각 단어는 공백으로 구분된다. "
   ]
  },
  {
   "cell_type": "markdown",
   "id": "57fd04b9-da0c-49c2-8940-91445bf69dab",
   "metadata": {},
   "source": [
    "(풀이)"
   ]
  },
  {
   "cell_type": "code",
   "execution_count": 96,
   "id": "c9ade1d3-1823-4bea-8e05-65dd19d5590c",
   "metadata": {
    "tags": []
   },
   "outputs": [
    {
     "data": {
      "text/plain": [
       "[6, 9, 11, 18, 18, 12, 16]"
      ]
     },
     "execution_count": 96,
     "metadata": {},
     "output_type": "execute_result"
    }
   ],
   "source": [
    "lst = text.split('. ')\n",
    "[len(l.split(' ')) for l in lst]"
   ]
  },
  {
   "cell_type": "markdown",
   "id": "f21fa420-c89a-4204-ad41-c81206c7f106",
   "metadata": {},
   "source": [
    "`# 문제`. `100`이라는 단어가 포함된 문장은 모두 몇 개 인가? "
   ]
  },
  {
   "cell_type": "markdown",
   "id": "99bb908c-fc12-449e-af26-dcc3b7663d50",
   "metadata": {},
   "source": [
    "**hint:** 아래의 코드를 관찰 "
   ]
  },
  {
   "cell_type": "code",
   "execution_count": 61,
   "id": "c9a4af5e-993a-4497-a7b2-dac704e6e868",
   "metadata": {},
   "outputs": [
    {
     "data": {
      "text/plain": [
       "True"
      ]
     },
     "execution_count": 61,
     "metadata": {},
     "output_type": "execute_result"
    }
   ],
   "source": [
    "'a' in 'abcd'"
   ]
  },
  {
   "cell_type": "markdown",
   "id": "9a055b10-8f16-47d8-b7dd-8e66228c670d",
   "metadata": {},
   "source": [
    "(풀이)"
   ]
  },
  {
   "cell_type": "code",
   "execution_count": 104,
   "id": "9bd509fb-482b-4453-bb95-4d1bf76dcb35",
   "metadata": {
    "tags": []
   },
   "outputs": [
    {
     "data": {
      "text/plain": [
       "4"
      ]
     },
     "execution_count": 104,
     "metadata": {},
     "output_type": "execute_result"
    }
   ],
   "source": [
    "sum(['100' in l for l in lst])"
   ]
  },
  {
   "cell_type": "markdown",
   "id": "62be5035-9ce2-495d-9801-fc5f46ad0ece",
   "metadata": {},
   "source": [
    "# 5. `list`"
   ]
  },
  {
   "cell_type": "markdown",
   "id": "7a37e6cb-21ea-41c4-8402-b3c3e7e9ad8e",
   "metadata": {},
   "source": [
    "## A. 선언 "
   ]
  },
  {
   "cell_type": "markdown",
   "id": "9e5ddbbd-f65b-414e-a7c6-5ddd6b7681ec",
   "metadata": {},
   "source": [
    "`-` 리스트의 선언"
   ]
  },
  {
   "cell_type": "code",
   "execution_count": 106,
   "id": "9f5ccaf2-a7c9-45a3-8b15-6069f6f16fe1",
   "metadata": {
    "tags": []
   },
   "outputs": [],
   "source": [
    "a= [1,2,3,22] "
   ]
  },
  {
   "cell_type": "markdown",
   "id": "1a9592f7-46d4-4056-abc4-d5858859d870",
   "metadata": {},
   "source": [
    "`-` 비어있는 리스트의 선언 "
   ]
  },
  {
   "cell_type": "code",
   "execution_count": 108,
   "id": "f80a0607-21ae-44a8-aa93-490c26258c6b",
   "metadata": {
    "tags": []
   },
   "outputs": [
    {
     "data": {
      "text/plain": [
       "[]"
      ]
     },
     "execution_count": 108,
     "metadata": {},
     "output_type": "execute_result"
    }
   ],
   "source": [
    "a= []\n",
    "a"
   ]
  },
  {
   "cell_type": "code",
   "execution_count": 111,
   "id": "cf2e8899-6b84-4d02-b370-c575728595a1",
   "metadata": {
    "tags": []
   },
   "outputs": [
    {
     "data": {
      "text/plain": [
       "[]"
      ]
     },
     "execution_count": 111,
     "metadata": {},
     "output_type": "execute_result"
    }
   ],
   "source": [
    "a= list()\n",
    "a"
   ]
  },
  {
   "cell_type": "markdown",
   "id": "c8b3a610-df07-4221-b18c-6a537d8cb321",
   "metadata": {},
   "source": [
    "## B. 연산 "
   ]
  },
  {
   "cell_type": "markdown",
   "id": "71e61260-6d48-4dec-8e69-e9294f809f22",
   "metadata": {},
   "source": [
    "`-` 더하기연산 "
   ]
  },
  {
   "cell_type": "code",
   "execution_count": 120,
   "id": "f8ec6adf-eccd-4f8b-b7c4-96a442378fb8",
   "metadata": {
    "tags": []
   },
   "outputs": [
    {
     "data": {
      "text/plain": [
       "[1, 2, 3, -3, 4, 5]"
      ]
     },
     "execution_count": 120,
     "metadata": {},
     "output_type": "execute_result"
    }
   ],
   "source": [
    "[1,2,3] + [-3,4,5]"
   ]
  },
  {
   "cell_type": "markdown",
   "id": "e3ce86a7-d5d7-48b3-861e-b0a5ff3824a1",
   "metadata": {},
   "source": [
    "- 우리의 예상과 다른 결과가 나옴 $\\to$ 파이썬은 R처럼 자체적으로 좋은 계산기능을 내장하고 있지 않음. "
   ]
  },
  {
   "cell_type": "markdown",
   "id": "02588a00-e940-4a39-8958-03c3d3d4cd8a",
   "metadata": {},
   "source": [
    "`-` 브로드캐스팅과 같이 R에서는 당연히 가능했던 기능을 사용할 수 없음. "
   ]
  },
  {
   "cell_type": "code",
   "execution_count": 122,
   "id": "800de934-3634-4a30-a777-edd1029adede",
   "metadata": {
    "tags": []
   },
   "outputs": [
    {
     "ename": "TypeError",
     "evalue": "can only concatenate list (not \"int\") to list",
     "output_type": "error",
     "traceback": [
      "\u001b[0;31m---------------------------------------------------------------------------\u001b[0m",
      "\u001b[0;31mTypeError\u001b[0m                                 Traceback (most recent call last)",
      "Cell \u001b[0;32mIn[122], line 1\u001b[0m\n\u001b[0;32m----> 1\u001b[0m [\u001b[38;5;241m1\u001b[39m,\u001b[38;5;241m2\u001b[39m,\u001b[38;5;241m3\u001b[39m,\u001b[38;5;241m4\u001b[39m,\u001b[38;5;241m5\u001b[39m] \u001b[38;5;241m+\u001b[39m \u001b[38;5;241m1\u001b[39m\n",
      "\u001b[0;31mTypeError\u001b[0m: can only concatenate list (not \"int\") to list"
     ]
    }
   ],
   "source": [
    "[1,2,3,4,5] + 1 "
   ]
  },
  {
   "cell_type": "markdown",
   "id": "f1e4652c-d4fa-475e-ba4f-f7764df45b7b",
   "metadata": {},
   "source": [
    "`-` 뺄셈은 정의되지 않음 "
   ]
  },
  {
   "cell_type": "code",
   "execution_count": 127,
   "id": "e9e9ce7c-d2ac-41f2-8ba3-8f49951cbae2",
   "metadata": {
    "tags": []
   },
   "outputs": [
    {
     "ename": "TypeError",
     "evalue": "unsupported operand type(s) for -: 'list' and 'list'",
     "output_type": "error",
     "traceback": [
      "\u001b[0;31m---------------------------------------------------------------------------\u001b[0m",
      "\u001b[0;31mTypeError\u001b[0m                                 Traceback (most recent call last)",
      "Cell \u001b[0;32mIn[127], line 2\u001b[0m\n\u001b[1;32m      1\u001b[0m a\u001b[38;5;241m=\u001b[39m [\u001b[38;5;241m1\u001b[39m,\u001b[38;5;241m2\u001b[39m,\u001b[38;5;241m1\u001b[39m,\u001b[38;5;241m2\u001b[39m]\n\u001b[0;32m----> 2\u001b[0m a\u001b[38;5;241m-\u001b[39m[\u001b[38;5;241m1\u001b[39m,\u001b[38;5;241m2\u001b[39m]\n",
      "\u001b[0;31mTypeError\u001b[0m: unsupported operand type(s) for -: 'list' and 'list'"
     ]
    }
   ],
   "source": [
    "a= [1,2,1,2]\n",
    "a-[1,2]"
   ]
  },
  {
   "cell_type": "markdown",
   "id": "7d08cd6c-8066-42f2-b5bc-e2c39493c361",
   "metadata": {},
   "source": [
    "`-` 곱하기는 정의가능 "
   ]
  },
  {
   "cell_type": "code",
   "execution_count": 128,
   "id": "310282a6-fb69-4b16-9c59-dded6d7c6554",
   "metadata": {
    "tags": []
   },
   "outputs": [
    {
     "data": {
      "text/plain": [
       "[1, 2, 1, 2, 1, 2]"
      ]
     },
     "execution_count": 128,
     "metadata": {},
     "output_type": "execute_result"
    }
   ],
   "source": [
    "[1,2]*3"
   ]
  },
  {
   "cell_type": "markdown",
   "id": "cd482a77-6c27-4ee2-9f96-2dcce529f66b",
   "metadata": {},
   "source": [
    "`-` 나눗셈은 정의되지 않음 "
   ]
  },
  {
   "cell_type": "code",
   "execution_count": 129,
   "id": "2a997df2-63cf-4f20-8402-a76267d9fdfb",
   "metadata": {
    "tags": []
   },
   "outputs": [
    {
     "ename": "TypeError",
     "evalue": "unsupported operand type(s) for /: 'list' and 'int'",
     "output_type": "error",
     "traceback": [
      "\u001b[0;31m---------------------------------------------------------------------------\u001b[0m",
      "\u001b[0;31mTypeError\u001b[0m                                 Traceback (most recent call last)",
      "Cell \u001b[0;32mIn[129], line 1\u001b[0m\n\u001b[0;32m----> 1\u001b[0m [\u001b[38;5;241m1\u001b[39m,\u001b[38;5;241m2\u001b[39m,\u001b[38;5;241m1\u001b[39m,\u001b[38;5;241m2\u001b[39m,\u001b[38;5;241m1\u001b[39m,\u001b[38;5;241m2\u001b[39m] \u001b[38;5;241m/\u001b[39m\u001b[38;5;241m3\u001b[39m\n",
      "\u001b[0;31mTypeError\u001b[0m: unsupported operand type(s) for /: 'list' and 'int'"
     ]
    }
   ],
   "source": [
    "[1,2,1,2,1,2] /3"
   ]
  },
  {
   "cell_type": "markdown",
   "id": "c428c81d-cc7f-49ff-b904-97861a252255",
   "metadata": {},
   "source": [
    "`-` 더하기와 곱하기는 원소의 추가와 반복추가를 의미하지만 그렇다고 해서 뺄셈과 나눗셈이 원소의 삭제를 의미하는것은 아님"
   ]
  },
  {
   "cell_type": "markdown",
   "id": "90e1271a-15bb-4184-8b34-6159a3a2efd0",
   "metadata": {},
   "source": [
    "`-` 더하기와 곱하기가 원소의 추가와 반복추가를 의미하여 편리할때도 있긴하지만, 우리는 산술적인 `+`, `*` 를 원하는 경우도 있다. 이럴 경우는 어떻게 할 수 있을까?"
   ]
  },
  {
   "cell_type": "markdown",
   "id": "0e2ccbb6-25bd-4f8c-917e-6be2c38b1d25",
   "metadata": {},
   "source": [
    "(예제)"
   ]
  },
  {
   "cell_type": "code",
   "execution_count": 131,
   "id": "1820f4fc-3618-4ed2-a4d2-40fd8cc98162",
   "metadata": {
    "tags": []
   },
   "outputs": [],
   "source": [
    "a=[1,2]\n",
    "b=[3,4]"
   ]
  },
  {
   "cell_type": "markdown",
   "id": "c3df81ab-fc9f-410a-833b-565b42dc126c",
   "metadata": {},
   "source": [
    "a+b = [4,6] 이 되도록 하려면? "
   ]
  },
  {
   "cell_type": "markdown",
   "id": "fd8895b6-ff64-4469-92c6-95628bf1c4c1",
   "metadata": {},
   "source": [
    "(풀이1)"
   ]
  },
  {
   "cell_type": "code",
   "execution_count": 16,
   "id": "eb7ea2e1-dc77-42e1-88c6-4d116ed229e9",
   "metadata": {},
   "outputs": [
    {
     "data": {
      "text/plain": [
       "[4, 6]"
      ]
     },
     "execution_count": 16,
     "metadata": {},
     "output_type": "execute_result"
    }
   ],
   "source": [
    "[a[0]+b[0],a[1]+b[1]]"
   ]
  },
  {
   "cell_type": "markdown",
   "id": "395a4b4f-faa8-4cb3-a51b-06fa05064264",
   "metadata": {},
   "source": [
    "풀이가 가능한 이유? a,b는 리스트이지만 a[0], a[1], b[0], b[1] 은 각각 인트형임. 인트형은 + 연산이 가능했음. "
   ]
  },
  {
   "cell_type": "markdown",
   "id": "78b54d15-37ba-44d9-bef8-5305af7bb1e4",
   "metadata": {},
   "source": [
    "(풀이2)"
   ]
  },
  {
   "cell_type": "markdown",
   "id": "2981f809-40ae-4057-aa35-e4c591cb9de4",
   "metadata": {},
   "source": [
    "numpy 패키지 (파이썬의 여러 수치연산들을 담당하는 라이브러리)\n",
    "\n",
    "- 이러한 벡터연산은 누구나 필요로 하는 연산임.\n",
    "- 내가 아니더라도 누군가가 프로그램화 해놓았을 것임.\n",
    "- 그 누군가가 자신이 만든 코드를 잘 정리하여 무료로 배포했을 수도 있음. (패키지를 배포한다고 표현) \n",
    "- 그 패키지를 우리는 가져와서 설치한뒤 사용하기만 하면된다. \n",
    "\n",
    "설치된 패키지를 사용하는 방법\n",
    "\n",
    "- `import numpy` 한뒤에 `numpy.??`로 기능을 사용 \n",
    "- `import numpy as np` 한뒤에 `np.??`로 기능을 사용 "
   ]
  },
  {
   "cell_type": "code",
   "execution_count": 138,
   "id": "ca13a764-e25a-4593-8bb7-7c0f5fa1243d",
   "metadata": {
    "tags": []
   },
   "outputs": [],
   "source": [
    "import numpy "
   ]
  },
  {
   "cell_type": "code",
   "execution_count": 140,
   "id": "85d35e9a-d487-45de-92d0-365f38eee3dd",
   "metadata": {
    "tags": []
   },
   "outputs": [],
   "source": [
    "a=[1,2]\n",
    "b=[3,4]"
   ]
  },
  {
   "cell_type": "code",
   "execution_count": 144,
   "id": "d83d46d6-859c-409d-967e-bd822287d2ce",
   "metadata": {
    "tags": []
   },
   "outputs": [],
   "source": [
    "aa = numpy.array(a)\n",
    "bb = numpy.array(b)"
   ]
  },
  {
   "cell_type": "code",
   "execution_count": 88,
   "id": "61c1884d-fb4b-425e-b8e9-c3cebbc5c91c",
   "metadata": {},
   "outputs": [
    {
     "data": {
      "text/plain": [
       "array([4, 6])"
      ]
     },
     "execution_count": 88,
     "metadata": {},
     "output_type": "execute_result"
    }
   ],
   "source": [
    "aa+bb"
   ]
  },
  {
   "cell_type": "markdown",
   "id": "31219ebf-aeb3-4ad0-be97-4d5416f4f485",
   "metadata": {},
   "source": [
    "여러가지 연산 가능 (마치 R처럼 쓸 수 있음) "
   ]
  },
  {
   "cell_type": "code",
   "execution_count": 146,
   "id": "2b2c7d4c-26c3-4ffb-8021-ca998903730e",
   "metadata": {
    "tags": []
   },
   "outputs": [
    {
     "data": {
      "text/plain": [
       "array([2, 4])"
      ]
     },
     "execution_count": 146,
     "metadata": {},
     "output_type": "execute_result"
    }
   ],
   "source": [
    "2*aa"
   ]
  },
  {
   "cell_type": "code",
   "execution_count": 147,
   "id": "b6468d6d-0792-4b4b-816e-d51b0fc0dd0a",
   "metadata": {
    "tags": []
   },
   "outputs": [
    {
     "data": {
      "text/plain": [
       "array([3, 5])"
      ]
     },
     "execution_count": 147,
     "metadata": {},
     "output_type": "execute_result"
    }
   ],
   "source": [
    "2*aa+1"
   ]
  },
  {
   "cell_type": "code",
   "execution_count": 148,
   "id": "81689677-41eb-4a43-9647-e1d0d64eea81",
   "metadata": {
    "tags": []
   },
   "outputs": [
    {
     "data": {
      "text/plain": [
       "array([6, 9])"
      ]
     },
     "execution_count": 148,
     "metadata": {},
     "output_type": "execute_result"
    }
   ],
   "source": [
    "2*aa+1+bb"
   ]
  },
  {
   "cell_type": "markdown",
   "id": "c6f2cbd8-3e01-4775-8a4f-9a2c2b48628e",
   "metadata": {},
   "source": [
    "(풀이3)"
   ]
  },
  {
   "cell_type": "code",
   "execution_count": 152,
   "id": "26daa72a-9487-42dc-810f-486b735c88ef",
   "metadata": {
    "tags": []
   },
   "outputs": [],
   "source": [
    "import numpy as np ## 설치가 되어있는 numpy라는 패키지를 쓰겠음. 그런데 numpy말고 np라는 이름으로 쓰겠음"
   ]
  },
  {
   "cell_type": "code",
   "execution_count": 153,
   "id": "22f4f6ec-0b59-4b4e-a65a-12bda7c50558",
   "metadata": {
    "tags": []
   },
   "outputs": [
    {
     "data": {
      "text/plain": [
       "array([4, 6])"
      ]
     },
     "execution_count": 153,
     "metadata": {},
     "output_type": "execute_result"
    }
   ],
   "source": [
    "np.array(a)+np.array(b)"
   ]
  },
  {
   "cell_type": "markdown",
   "id": "4291e31b-86ad-48f2-8c6e-b5cbaeb99729",
   "metadata": {},
   "source": [
    "## C. 인덱싱 "
   ]
  },
  {
   "cell_type": "markdown",
   "id": "738415eb-692f-4940-89e6-6b675bc50103",
   "metadata": {},
   "source": [
    "`-` str형과 동일한 방식"
   ]
  },
  {
   "cell_type": "code",
   "execution_count": 154,
   "id": "0c54a2b0-3e89-4726-9691-d62a2ccc9276",
   "metadata": {
    "tags": []
   },
   "outputs": [],
   "source": [
    "a=[11,22,33,44,55] # 0 -4 -3 -2 -1"
   ]
  },
  {
   "cell_type": "code",
   "execution_count": 157,
   "id": "89e8a8e0-4cc5-44da-9cc0-1f9e6d6ad1f1",
   "metadata": {
    "tags": []
   },
   "outputs": [
    {
     "data": {
      "text/plain": [
       "[44, 55]"
      ]
     },
     "execution_count": 157,
     "metadata": {},
     "output_type": "execute_result"
    }
   ],
   "source": [
    "a[-2:] # 끝의 2개의 원소를 뽑음 "
   ]
  },
  {
   "cell_type": "markdown",
   "id": "02098e03-6c53-4ec5-8739-624b17ff9b0d",
   "metadata": {},
   "source": [
    "## D. 콘테이너형 객체로서의 리스트 "
   ]
  },
  {
   "cell_type": "markdown",
   "id": "da8f3fb6-6887-4940-aadd-76257b3d058a",
   "metadata": {},
   "source": [
    "`-` 리스트의 원소는 int, float 따위만 가능한 것이 아니다. (리스트는 컨테이너형 객체이므로)"
   ]
  },
  {
   "cell_type": "code",
   "execution_count": 192,
   "id": "9dc146c4-b329-4231-9416-f7dff4f4d638",
   "metadata": {
    "tags": []
   },
   "outputs": [
    {
     "data": {
      "text/plain": [
       "[1, 3.14, True, 'a', [1, 2], (1, 2), {'name': 'iu', 'age': 27}, {1, 2, 3}]"
      ]
     },
     "execution_count": 192,
     "metadata": {},
     "output_type": "execute_result"
    }
   ],
   "source": [
    "lst = [1,3.14,True,'a',[1,2], \n",
    "       (1,2),{'name':'iu','age':27},{1,2,3}]\n",
    "lst"
   ]
  },
  {
   "cell_type": "code",
   "execution_count": 193,
   "id": "784ccd86-4fad-433d-b2ae-39deb8c0ffc3",
   "metadata": {
    "tags": []
   },
   "outputs": [
    {
     "data": {
      "text/plain": [
       "[int, float, bool, str, list, tuple, dict, set]"
      ]
     },
     "execution_count": 193,
     "metadata": {},
     "output_type": "execute_result"
    }
   ],
   "source": [
    "[type(l) for l in lst]"
   ]
  },
  {
   "cell_type": "markdown",
   "id": "8a156be7-f957-41a2-bd6b-5ab92adc1d1c",
   "metadata": {},
   "source": [
    "`-` str은 컨테이너형이 아니다. "
   ]
  },
  {
   "cell_type": "code",
   "execution_count": 197,
   "id": "dbe7cd44-8461-496b-8c8d-2cfd299b18a7",
   "metadata": {
    "tags": []
   },
   "outputs": [
    {
     "data": {
      "text/plain": [
       "'c'"
      ]
     },
     "execution_count": 197,
     "metadata": {},
     "output_type": "execute_result"
    }
   ],
   "source": [
    "'abcd'[2]"
   ]
  },
  {
   "cell_type": "markdown",
   "id": "15ca480e-b098-4dd1-a24c-2853495e10da",
   "metadata": {},
   "source": [
    "- str의 모든 원소는 문자임 "
   ]
  },
  {
   "cell_type": "markdown",
   "id": "601bfafd-3c1e-420f-ad1f-f0d215b941db",
   "metadata": {},
   "source": [
    "## E. 가변객체 "
   ]
  },
  {
   "cell_type": "markdown",
   "id": "a49da2d7-2b84-4bef-a95d-4515fccec1ce",
   "metadata": {},
   "source": [
    "`-` 리스트는 원소를 수정할 수 있다. (리스트는 가변객체이므로)"
   ]
  },
  {
   "cell_type": "code",
   "execution_count": 198,
   "id": "63d2c611-4496-4d18-b547-7b5c8245f880",
   "metadata": {
    "tags": []
   },
   "outputs": [
    {
     "data": {
      "text/plain": [
       "[11, 22, 33]"
      ]
     },
     "execution_count": 198,
     "metadata": {},
     "output_type": "execute_result"
    }
   ],
   "source": [
    "a=[11,22,33]\n",
    "a"
   ]
  },
  {
   "cell_type": "code",
   "execution_count": 201,
   "id": "42fee572-ba61-4c0e-b789-caea9a498cc5",
   "metadata": {
    "tags": []
   },
   "outputs": [],
   "source": [
    "a[0] = -77"
   ]
  },
  {
   "cell_type": "code",
   "execution_count": 202,
   "id": "7a9b8721-fbfb-40dd-a057-39c2da43d9bb",
   "metadata": {
    "tags": []
   },
   "outputs": [
    {
     "data": {
      "text/plain": [
       "[-77, 22, 33]"
      ]
     },
     "execution_count": 202,
     "metadata": {},
     "output_type": "execute_result"
    }
   ],
   "source": [
    "a"
   ]
  },
  {
   "cell_type": "markdown",
   "id": "915d4486-1acd-45eb-bc35-e02ebd45ef83",
   "metadata": {},
   "source": [
    "`-` 원소수정은 당연한 기능같은데 이것이 불가능한 경우도 있다. "
   ]
  },
  {
   "cell_type": "markdown",
   "id": "4eda88f6-6531-4446-bd61-40adee8087f6",
   "metadata": {},
   "source": [
    "(가능한경우) "
   ]
  },
  {
   "cell_type": "code",
   "execution_count": 203,
   "id": "faafdb3d-8471-4bd4-b950-2d3c755de7ec",
   "metadata": {
    "tags": []
   },
   "outputs": [
    {
     "data": {
      "text/plain": [
       "['g', 'u', 'e', 'b', 'i', 'n']"
      ]
     },
     "execution_count": 203,
     "metadata": {},
     "output_type": "execute_result"
    }
   ],
   "source": [
    "a=['g','u','e','b','i','n']\n",
    "a"
   ]
  },
  {
   "cell_type": "code",
   "execution_count": 205,
   "id": "1ac1cb59-3b27-45b6-bc15-05166ea1572c",
   "metadata": {
    "tags": []
   },
   "outputs": [],
   "source": [
    "a[0] = 'G'"
   ]
  },
  {
   "cell_type": "code",
   "execution_count": 206,
   "id": "a3c0d84a-a552-4add-a4f6-0653004205e2",
   "metadata": {
    "tags": []
   },
   "outputs": [
    {
     "data": {
      "text/plain": [
       "['G', 'u', 'e', 'b', 'i', 'n']"
      ]
     },
     "execution_count": 206,
     "metadata": {},
     "output_type": "execute_result"
    }
   ],
   "source": [
    "a"
   ]
  },
  {
   "cell_type": "markdown",
   "id": "675a00b5-b20c-414d-894a-e77b36084aa5",
   "metadata": {},
   "source": [
    "(불가능한경우) "
   ]
  },
  {
   "cell_type": "code",
   "execution_count": 207,
   "id": "5790f692-5227-4e25-84e3-7b4bc2d3aef9",
   "metadata": {
    "tags": []
   },
   "outputs": [
    {
     "data": {
      "text/plain": [
       "'guebin'"
      ]
     },
     "execution_count": 207,
     "metadata": {},
     "output_type": "execute_result"
    }
   ],
   "source": [
    "a='guebin'\n",
    "a"
   ]
  },
  {
   "cell_type": "code",
   "execution_count": 137,
   "id": "24cf808b-2c18-4c12-ae69-b7f939a79f8e",
   "metadata": {},
   "outputs": [
    {
     "data": {
      "text/plain": [
       "'g'"
      ]
     },
     "execution_count": 137,
     "metadata": {},
     "output_type": "execute_result"
    }
   ],
   "source": [
    "a[0]"
   ]
  },
  {
   "cell_type": "code",
   "execution_count": 211,
   "id": "dc2b8497-cf0d-4e16-8a78-8b4699ec10e6",
   "metadata": {
    "tags": []
   },
   "outputs": [
    {
     "ename": "TypeError",
     "evalue": "'str' object does not support item assignment",
     "output_type": "error",
     "traceback": [
      "\u001b[0;31m---------------------------------------------------------------------------\u001b[0m",
      "\u001b[0;31mTypeError\u001b[0m                                 Traceback (most recent call last)",
      "Cell \u001b[0;32mIn[211], line 1\u001b[0m\n\u001b[0;32m----> 1\u001b[0m a[\u001b[38;5;241m0\u001b[39m]\u001b[38;5;241m=\u001b[39m\u001b[38;5;124m'\u001b[39m\u001b[38;5;124mG\u001b[39m\u001b[38;5;124m'\u001b[39m\n",
      "\u001b[0;31mTypeError\u001b[0m: 'str' object does not support item assignment"
     ]
    }
   ],
   "source": [
    "a[0]='G'"
   ]
  },
  {
   "cell_type": "markdown",
   "id": "11ad1988-1e46-485c-8b3a-f2cb8df01777",
   "metadata": {},
   "source": [
    "## F. 리스트의 원소 삭제 "
   ]
  },
  {
   "cell_type": "markdown",
   "id": "6341db63-aa96-439f-b1b0-c64f7b30bb1b",
   "metadata": {},
   "source": [
    "(예제1) del을 이용한 원소삭제 "
   ]
  },
  {
   "cell_type": "markdown",
   "id": "31a3f352-62e4-441a-abba-496fa0b6ce51",
   "metadata": {},
   "source": [
    "아래와 같이 문자로 된 리스트를 선언하자. "
   ]
  },
  {
   "cell_type": "code",
   "execution_count": 229,
   "id": "3fb47ffa-f18f-43c4-a9cd-48bedcac43e2",
   "metadata": {
    "tags": []
   },
   "outputs": [
    {
     "data": {
      "text/plain": [
       "['g', 'u', 'e', 'b', 'i', 'n']"
      ]
     },
     "execution_count": 229,
     "metadata": {},
     "output_type": "execute_result"
    }
   ],
   "source": [
    "a=['g','u','e','b','i','n']\n",
    "a"
   ]
  },
  {
   "cell_type": "markdown",
   "id": "7a6d1507-d1a8-4da3-957d-5b26f5c59db6",
   "metadata": {},
   "source": [
    "***사실 더 쉽게 선언할 수 있음***"
   ]
  },
  {
   "cell_type": "code",
   "execution_count": 142,
   "id": "0aa4364f-2112-4448-ab29-55ca205f0c49",
   "metadata": {},
   "outputs": [
    {
     "data": {
      "text/plain": [
       "['g', 'u', 'e', 'b', 'i', 'n']"
      ]
     },
     "execution_count": 142,
     "metadata": {},
     "output_type": "execute_result"
    }
   ],
   "source": [
    "list('guebin')"
   ]
  },
  {
   "cell_type": "markdown",
   "id": "9e6de8af-b95c-4ef7-a236-79f36ceaebb5",
   "metadata": {},
   "source": [
    "첫번째 원소를 삭제하고 싶다면? "
   ]
  },
  {
   "cell_type": "code",
   "execution_count": 231,
   "id": "49b62d57-4dbf-435b-98a5-48c4ca65ea01",
   "metadata": {
    "tags": []
   },
   "outputs": [
    {
     "data": {
      "text/plain": [
       "['u', 'e', 'b', 'i', 'n']"
      ]
     },
     "execution_count": 231,
     "metadata": {},
     "output_type": "execute_result"
    }
   ],
   "source": [
    "del a[0]\n",
    "a"
   ]
  },
  {
   "cell_type": "markdown",
   "id": "b971a811-df7a-4247-9d7d-560e57ab8a36",
   "metadata": {},
   "source": [
    "이 상태에서 다시 첫번째 원소를 삭제한다면? "
   ]
  },
  {
   "cell_type": "code",
   "execution_count": 232,
   "id": "b4ddadaf-6329-4fe4-a151-445521965982",
   "metadata": {
    "tags": []
   },
   "outputs": [
    {
     "data": {
      "text/plain": [
       "['e', 'b', 'i', 'n']"
      ]
     },
     "execution_count": 232,
     "metadata": {},
     "output_type": "execute_result"
    }
   ],
   "source": [
    "del a[0]\n",
    "a"
   ]
  },
  {
   "cell_type": "markdown",
   "id": "d92eae70-f6ad-4822-be50-00ad0e2ec3b0",
   "metadata": {},
   "source": [
    "(예제2) pop을 이용한 원소삭제 "
   ]
  },
  {
   "cell_type": "code",
   "execution_count": 238,
   "id": "7be6286b-d79c-43d9-ae75-341bb1d97fda",
   "metadata": {
    "tags": []
   },
   "outputs": [
    {
     "data": {
      "text/plain": [
       "['g', 'u', 'e', 'b', 'i', 'n']"
      ]
     },
     "execution_count": 238,
     "metadata": {},
     "output_type": "execute_result"
    }
   ],
   "source": [
    "a=list('guebin')\n",
    "a"
   ]
  },
  {
   "cell_type": "code",
   "execution_count": 239,
   "id": "073e458e-2134-4e4d-bf62-3d24c7948445",
   "metadata": {
    "tags": []
   },
   "outputs": [
    {
     "data": {
      "text/plain": [
       "'g'"
      ]
     },
     "execution_count": 239,
     "metadata": {},
     "output_type": "execute_result"
    }
   ],
   "source": [
    "a.pop(0)"
   ]
  },
  {
   "cell_type": "code",
   "execution_count": 240,
   "id": "513b6e9d-a455-4ff9-b893-9c30a0dcf4a2",
   "metadata": {
    "tags": []
   },
   "outputs": [
    {
     "data": {
      "text/plain": [
       "'u'"
      ]
     },
     "execution_count": 240,
     "metadata": {},
     "output_type": "execute_result"
    }
   ],
   "source": [
    "a.pop(0)"
   ]
  },
  {
   "cell_type": "code",
   "execution_count": 241,
   "id": "4cc457dd-34c0-4a19-8feb-33f03b73e3df",
   "metadata": {
    "tags": []
   },
   "outputs": [
    {
     "data": {
      "text/plain": [
       "['e', 'b', 'i', 'n']"
      ]
     },
     "execution_count": 241,
     "metadata": {},
     "output_type": "execute_result"
    }
   ],
   "source": [
    "a"
   ]
  },
  {
   "cell_type": "markdown",
   "id": "b0f6b543-b34e-4af0-9c8b-f14758c1891a",
   "metadata": {
    "tags": []
   },
   "source": [
    "(예제3) remove를 이용한 원소삭제"
   ]
  },
  {
   "cell_type": "code",
   "execution_count": 306,
   "id": "307485f5-dd0d-46f7-bc18-b7812aed6d2b",
   "metadata": {
    "tags": []
   },
   "outputs": [
    {
     "data": {
      "text/plain": [
       "['g', 'u', 'e', 'b', 'i', 'n']"
      ]
     },
     "execution_count": 306,
     "metadata": {},
     "output_type": "execute_result"
    }
   ],
   "source": [
    "a=list('guebin')\n",
    "a"
   ]
  },
  {
   "cell_type": "code",
   "execution_count": 307,
   "id": "589ba451-3d6d-4315-8319-b0b7912c26a0",
   "metadata": {
    "tags": []
   },
   "outputs": [
    {
     "data": {
      "text/plain": [
       "['g', 'u', 'e', 'i', 'n']"
      ]
     },
     "execution_count": 307,
     "metadata": {},
     "output_type": "execute_result"
    }
   ],
   "source": [
    "a.remove('b')\n",
    "a"
   ]
  },
  {
   "cell_type": "markdown",
   "id": "2ebc18eb-93c6-475b-8fd2-7bc46839853e",
   "metadata": {},
   "source": [
    "## G. 리스트 원소 추가"
   ]
  },
  {
   "cell_type": "markdown",
   "id": "7454aabe-9e9c-4840-b06f-8497af9d2ceb",
   "metadata": {},
   "source": [
    "(예제) 비어있는 리스트를 만들고 원소 0,1,2를 차례로 추가하여 보자. "
   ]
  },
  {
   "cell_type": "markdown",
   "id": "38f6a9a0-fccb-440f-931f-feff9a0cce17",
   "metadata": {},
   "source": [
    "(풀이1) `+` 연산이용 "
   ]
  },
  {
   "cell_type": "code",
   "execution_count": 275,
   "id": "2cdd25c9-a360-41f8-bf45-28967d61204f",
   "metadata": {
    "tags": []
   },
   "outputs": [
    {
     "data": {
      "text/plain": [
       "[]"
      ]
     },
     "execution_count": 275,
     "metadata": {},
     "output_type": "execute_result"
    }
   ],
   "source": [
    "a=[]\n",
    "a"
   ]
  },
  {
   "cell_type": "code",
   "execution_count": 276,
   "id": "cd00fc7e-09c7-4726-979b-bc219e89901d",
   "metadata": {
    "tags": []
   },
   "outputs": [
    {
     "data": {
      "text/plain": [
       "[0]"
      ]
     },
     "execution_count": 276,
     "metadata": {},
     "output_type": "execute_result"
    }
   ],
   "source": [
    "a= a+[0]\n",
    "a"
   ]
  },
  {
   "cell_type": "code",
   "execution_count": 277,
   "id": "bb30abac-d1ae-4086-a2bb-f6c479d0def9",
   "metadata": {
    "tags": []
   },
   "outputs": [
    {
     "data": {
      "text/plain": [
       "[0, 1]"
      ]
     },
     "execution_count": 277,
     "metadata": {},
     "output_type": "execute_result"
    }
   ],
   "source": [
    "a= a+[1] # a = [0]+[1]\n",
    "a"
   ]
  },
  {
   "cell_type": "code",
   "execution_count": 278,
   "id": "63685d41-aaca-4261-8b87-9bede7df0328",
   "metadata": {
    "tags": []
   },
   "outputs": [
    {
     "data": {
      "text/plain": [
       "[0, 1, 2]"
      ]
     },
     "execution_count": 278,
     "metadata": {},
     "output_type": "execute_result"
    }
   ],
   "source": [
    "a= a+[2] # a = [0,1] + [2]\n",
    "a"
   ]
  },
  {
   "cell_type": "markdown",
   "id": "101385fe-4f5c-40db-9586-9f9afe6e7fb2",
   "metadata": {},
   "source": [
    "(풀이2) `+=` 이용 "
   ]
  },
  {
   "cell_type": "code",
   "execution_count": 279,
   "id": "f62ab54c-e701-4233-865d-f6f33211f4b4",
   "metadata": {
    "tags": []
   },
   "outputs": [
    {
     "data": {
      "text/plain": [
       "[0, 1, 2]"
      ]
     },
     "execution_count": 279,
     "metadata": {},
     "output_type": "execute_result"
    }
   ],
   "source": [
    "a=[]\n",
    "a+=[0]\n",
    "a+=[1] \n",
    "a+=[2] \n",
    "a"
   ]
  },
  {
   "cell_type": "markdown",
   "id": "0757c2e4-1e9a-49db-b08b-568b0ab0bb2a",
   "metadata": {},
   "source": [
    "- 반복되는 문자를 제거하고 연산의 순서를 바꾼다. "
   ]
  },
  {
   "cell_type": "markdown",
   "id": "804e0655-c60e-4f86-903c-df53bde10d94",
   "metadata": {},
   "source": [
    "(풀이3) 리스트 특수기능 `.append()`를 이용 "
   ]
  },
  {
   "cell_type": "code",
   "execution_count": 280,
   "id": "f12d3c09-6e6e-4f88-b739-1af268549c1c",
   "metadata": {
    "tags": []
   },
   "outputs": [],
   "source": [
    "a=[] "
   ]
  },
  {
   "cell_type": "code",
   "execution_count": 281,
   "id": "86e207f1-6f1e-4897-9038-f9890698ae43",
   "metadata": {
    "tags": []
   },
   "outputs": [
    {
     "data": {
      "text/plain": [
       "[0, 1, 2]"
      ]
     },
     "execution_count": 281,
     "metadata": {},
     "output_type": "execute_result"
    }
   ],
   "source": [
    "a.append(0)\n",
    "a.append(1)\n",
    "a.append(2)\n",
    "a"
   ]
  },
  {
   "cell_type": "markdown",
   "id": "0ae3f212-d18e-43d1-b529-f4d0bc45dab4",
   "metadata": {},
   "source": [
    "`-` 아래는 불가능하다. "
   ]
  },
  {
   "cell_type": "code",
   "execution_count": 288,
   "id": "72f9d87f-a752-4231-a04a-1712c75df0d2",
   "metadata": {
    "tags": []
   },
   "outputs": [
    {
     "ename": "AttributeError",
     "evalue": "'NoneType' object has no attribute 'append'",
     "output_type": "error",
     "traceback": [
      "\u001b[0;31m---------------------------------------------------------------------------\u001b[0m",
      "\u001b[0;31mAttributeError\u001b[0m                            Traceback (most recent call last)",
      "Cell \u001b[0;32mIn[288], line 1\u001b[0m\n\u001b[0;32m----> 1\u001b[0m a\u001b[38;5;241m.\u001b[39mappend(\u001b[38;5;241m0\u001b[39m)\u001b[38;5;241m.\u001b[39mappend(\u001b[38;5;241m1\u001b[39m)\u001b[38;5;241m.\u001b[39mappend(\u001b[38;5;241m2\u001b[39m)\n",
      "\u001b[0;31mAttributeError\u001b[0m: 'NoneType' object has no attribute 'append'"
     ]
    }
   ],
   "source": [
    "a.append(0).append(1).append(2)"
   ]
  },
  {
   "cell_type": "code",
   "execution_count": 51,
   "id": "5a1bbc77-91bb-4d5a-b7e7-3b201a08b996",
   "metadata": {},
   "outputs": [
    {
     "ename": "TypeError",
     "evalue": "append() takes exactly one argument (3 given)",
     "output_type": "error",
     "traceback": [
      "\u001b[0;31m---------------------------------------------------------------------------\u001b[0m",
      "\u001b[0;31mTypeError\u001b[0m                                 Traceback (most recent call last)",
      "Cell \u001b[0;32mIn[51], line 1\u001b[0m\n\u001b[0;32m----> 1\u001b[0m \u001b[43ma\u001b[49m\u001b[38;5;241;43m.\u001b[39;49m\u001b[43mappend\u001b[49m\u001b[43m(\u001b[49m\u001b[38;5;241;43m0\u001b[39;49m\u001b[43m,\u001b[49m\u001b[38;5;241;43m1\u001b[39;49m\u001b[43m,\u001b[49m\u001b[38;5;241;43m2\u001b[39;49m\u001b[43m)\u001b[49m\n",
      "\u001b[0;31mTypeError\u001b[0m: append() takes exactly one argument (3 given)"
     ]
    }
   ],
   "source": [
    "a.append(0,1,2)"
   ]
  },
  {
   "cell_type": "markdown",
   "id": "392ad289-3100-4725-85fe-d2bf1e3146a8",
   "metadata": {},
   "source": [
    "## H. `a+[4]`와 `a.append(4)`의 차이점은? "
   ]
  },
  {
   "cell_type": "markdown",
   "id": "9f092204-d185-4688-9e2f-1103bcfd4321",
   "metadata": {},
   "source": [
    "(관찰1)"
   ]
  },
  {
   "cell_type": "code",
   "execution_count": 289,
   "id": "c8d49eec-5702-48da-83f5-fc44ef817f3e",
   "metadata": {
    "tags": []
   },
   "outputs": [
    {
     "data": {
      "text/plain": [
       "[1, 2, 3, 4]"
      ]
     },
     "execution_count": 289,
     "metadata": {},
     "output_type": "execute_result"
    }
   ],
   "source": [
    "a=[1,2,3]\n",
    "a+[4] ## 리스트 a와 리스트 [4]의 연산결과를 알려줘 "
   ]
  },
  {
   "cell_type": "code",
   "execution_count": 290,
   "id": "3d077864-f3dc-48d1-bdfe-83f1106bd262",
   "metadata": {
    "tags": []
   },
   "outputs": [
    {
     "data": {
      "text/plain": [
       "[1, 2, 3]"
      ]
     },
     "execution_count": 290,
     "metadata": {},
     "output_type": "execute_result"
    }
   ],
   "source": [
    "a ## a는 그대로임. 변화없음 "
   ]
  },
  {
   "cell_type": "markdown",
   "id": "f35a5641-e6b1-422f-8275-963c40f4a77d",
   "metadata": {},
   "source": [
    "(관찰2)"
   ]
  },
  {
   "cell_type": "code",
   "execution_count": 291,
   "id": "22b0a127-e505-4f0a-b81a-8274cc1a4cb1",
   "metadata": {
    "tags": []
   },
   "outputs": [],
   "source": [
    "a=[1,2,3]\n",
    "a.append(4)"
   ]
  },
  {
   "cell_type": "code",
   "execution_count": 292,
   "id": "329418c3-628b-4daa-920f-65a9c550bd78",
   "metadata": {
    "tags": []
   },
   "outputs": [
    {
     "data": {
      "text/plain": [
       "[1, 2, 3, 4]"
      ]
     },
     "execution_count": 292,
     "metadata": {},
     "output_type": "execute_result"
    }
   ],
   "source": [
    "a ## a자체가 변화함 "
   ]
  },
  {
   "cell_type": "markdown",
   "id": "849b7f19-7e47-4267-9594-e5b77789d066",
   "metadata": {},
   "source": [
    "비슷해보이지만 굉장히 미묘한 차이가 있음 "
   ]
  },
  {
   "cell_type": "markdown",
   "id": "f65fd379-42af-4b02-8cc0-f2c966d9adee",
   "metadata": {},
   "source": [
    "`a.append(4)`: `a`에 4를 append하라 $\\to$ `a`가 변함\n",
    "\n",
    "`a+[4]`: `a`와 `[4]`를 연산하라 "
   ]
  },
  {
   "cell_type": "markdown",
   "id": "86fd76bc-7995-4830-83c1-fd671b10a14a",
   "metadata": {},
   "source": [
    "## I. 리스트 특수기능 "
   ]
  },
  {
   "cell_type": "markdown",
   "id": "4d87e2dc-410a-4a35-ad9b-1b70d8bc7c72",
   "metadata": {},
   "source": [
    "**(append)**"
   ]
  },
  {
   "cell_type": "code",
   "execution_count": 58,
   "id": "51180ac8-95f7-4a3a-93ab-04a142e722e3",
   "metadata": {},
   "outputs": [
    {
     "data": {
      "text/plain": [
       "\u001b[0;31mSignature:\u001b[0m \u001b[0ma\u001b[0m\u001b[0;34m.\u001b[0m\u001b[0mappend\u001b[0m\u001b[0;34m(\u001b[0m\u001b[0mobject\u001b[0m\u001b[0;34m,\u001b[0m \u001b[0;34m/\u001b[0m\u001b[0;34m)\u001b[0m\u001b[0;34m\u001b[0m\u001b[0;34m\u001b[0m\u001b[0m\n",
       "\u001b[0;31mDocstring:\u001b[0m Append object to the end of the list.\n",
       "\u001b[0;31mType:\u001b[0m      builtin_function_or_method"
      ]
     },
     "metadata": {},
     "output_type": "display_data"
    }
   ],
   "source": [
    "a=[1,2,3,4]\n",
    "a.append?"
   ]
  },
  {
   "cell_type": "code",
   "execution_count": 163,
   "id": "1983e17c-b4a1-4795-bef9-02fb90456fa3",
   "metadata": {},
   "outputs": [
    {
     "data": {
      "text/plain": [
       "[1, 2, 3, 4, 5]"
      ]
     },
     "execution_count": 163,
     "metadata": {},
     "output_type": "execute_result"
    }
   ],
   "source": [
    "a.append(5)\n",
    "a"
   ]
  },
  {
   "cell_type": "markdown",
   "id": "eedc51d4-3a81-46e9-bac8-d8be1ab65f14",
   "metadata": {},
   "source": [
    "**(clear)**"
   ]
  },
  {
   "cell_type": "code",
   "execution_count": 166,
   "id": "1a7e5fff-ca6e-43d9-978c-61547e73581b",
   "metadata": {},
   "outputs": [
    {
     "data": {
      "text/plain": [
       "\u001b[0;31mSignature:\u001b[0m \u001b[0ma\u001b[0m\u001b[0;34m.\u001b[0m\u001b[0mclear\u001b[0m\u001b[0;34m(\u001b[0m\u001b[0;34m)\u001b[0m\u001b[0;34m\u001b[0m\u001b[0;34m\u001b[0m\u001b[0m\n",
       "\u001b[0;31mDocstring:\u001b[0m Remove all items from list.\n",
       "\u001b[0;31mType:\u001b[0m      builtin_function_or_method\n"
      ]
     },
     "metadata": {},
     "output_type": "display_data"
    }
   ],
   "source": [
    "a=[1,2,3,4]\n",
    "a.clear?"
   ]
  },
  {
   "cell_type": "code",
   "execution_count": 168,
   "id": "bcfb861a-0fa4-421a-9273-a099201b64c2",
   "metadata": {},
   "outputs": [
    {
     "data": {
      "text/plain": [
       "[]"
      ]
     },
     "execution_count": 168,
     "metadata": {},
     "output_type": "execute_result"
    }
   ],
   "source": [
    "a.clear()\n",
    "a"
   ]
  },
  {
   "cell_type": "markdown",
   "id": "178f5a7f-fa28-41a6-9d4d-9102ad78efad",
   "metadata": {},
   "source": [
    "**(copy)**"
   ]
  },
  {
   "cell_type": "code",
   "execution_count": 170,
   "id": "6452250b-cad7-4ecd-8d4e-b10d15a01160",
   "metadata": {},
   "outputs": [
    {
     "data": {
      "text/plain": [
       "\u001b[0;31mSignature:\u001b[0m \u001b[0ma\u001b[0m\u001b[0;34m.\u001b[0m\u001b[0mcopy\u001b[0m\u001b[0;34m(\u001b[0m\u001b[0;34m)\u001b[0m\u001b[0;34m\u001b[0m\u001b[0;34m\u001b[0m\u001b[0m\n",
       "\u001b[0;31mDocstring:\u001b[0m Return a shallow copy of the list.\n",
       "\u001b[0;31mType:\u001b[0m      builtin_function_or_method\n"
      ]
     },
     "metadata": {},
     "output_type": "display_data"
    }
   ],
   "source": [
    "a=[1,2,3,4]\n",
    "a.copy?"
   ]
  },
  {
   "cell_type": "code",
   "execution_count": 171,
   "id": "6c806c9c-dfc4-470a-b178-2669d7ef76e3",
   "metadata": {},
   "outputs": [
    {
     "data": {
      "text/plain": [
       "[1, 2, 3, 4]"
      ]
     },
     "execution_count": 171,
     "metadata": {},
     "output_type": "execute_result"
    }
   ],
   "source": [
    "b=a.copy()\n",
    "b"
   ]
  },
  {
   "cell_type": "markdown",
   "id": "63c5de97-81d8-4487-8955-764213cbf9b3",
   "metadata": {},
   "source": [
    "**(count)**"
   ]
  },
  {
   "cell_type": "code",
   "execution_count": 294,
   "id": "62598b6b-5d1b-46c7-bbd9-5c18be6c9bb5",
   "metadata": {
    "tags": []
   },
   "outputs": [
    {
     "data": {
      "text/plain": [
       "\u001b[0;31mSignature:\u001b[0m \u001b[0ma\u001b[0m\u001b[0;34m.\u001b[0m\u001b[0mcount\u001b[0m\u001b[0;34m(\u001b[0m\u001b[0mvalue\u001b[0m\u001b[0;34m,\u001b[0m \u001b[0;34m/\u001b[0m\u001b[0;34m)\u001b[0m\u001b[0;34m\u001b[0m\u001b[0;34m\u001b[0m\u001b[0m\n",
       "\u001b[0;31mDocstring:\u001b[0m Return number of occurrences of value.\n",
       "\u001b[0;31mType:\u001b[0m      builtin_function_or_method"
      ]
     },
     "metadata": {},
     "output_type": "display_data"
    }
   ],
   "source": [
    "a=['a','a','b','b','b','c']\n",
    "a.count?"
   ]
  },
  {
   "cell_type": "code",
   "execution_count": 295,
   "id": "ba7c156f-58ce-418c-aaa3-c2e01114a3ca",
   "metadata": {
    "tags": []
   },
   "outputs": [
    {
     "data": {
      "text/plain": [
       "2"
      ]
     },
     "execution_count": 295,
     "metadata": {},
     "output_type": "execute_result"
    }
   ],
   "source": [
    "a.count('a')"
   ]
  },
  {
   "cell_type": "code",
   "execution_count": 296,
   "id": "b555f8b3-2de7-4f9e-8f84-a827165014a2",
   "metadata": {
    "tags": []
   },
   "outputs": [
    {
     "data": {
      "text/plain": [
       "3"
      ]
     },
     "execution_count": 296,
     "metadata": {},
     "output_type": "execute_result"
    }
   ],
   "source": [
    "a.count('b')"
   ]
  },
  {
   "cell_type": "code",
   "execution_count": 297,
   "id": "4fa435e2-225e-4560-94b4-ff02a8c65a4f",
   "metadata": {
    "tags": []
   },
   "outputs": [
    {
     "data": {
      "text/plain": [
       "1"
      ]
     },
     "execution_count": 297,
     "metadata": {},
     "output_type": "execute_result"
    }
   ],
   "source": [
    "a.count('c')"
   ]
  },
  {
   "cell_type": "markdown",
   "id": "ffccec63-410b-41ef-bc23-7453114f1b01",
   "metadata": {},
   "source": [
    "**(extend)**"
   ]
  },
  {
   "cell_type": "code",
   "execution_count": 298,
   "id": "e80da276-78eb-4098-9acb-1b6032444b44",
   "metadata": {
    "tags": []
   },
   "outputs": [],
   "source": [
    "a=[1,2,3,4]\n",
    "b=[-1,-2,-3,-4]"
   ]
  },
  {
   "cell_type": "code",
   "execution_count": 9,
   "id": "30a05711-8f6f-409f-a5a7-76f3d4f4256f",
   "metadata": {},
   "outputs": [
    {
     "data": {
      "text/plain": [
       "[1, 2, 3, 4, -1, -2, -3, -4]"
      ]
     },
     "execution_count": 9,
     "metadata": {},
     "output_type": "execute_result"
    }
   ],
   "source": [
    "a.extend(b)\n",
    "a"
   ]
  },
  {
   "cell_type": "code",
   "execution_count": 302,
   "id": "45a4dc68-6fe3-4425-9601-779ee71afe57",
   "metadata": {
    "tags": []
   },
   "outputs": [],
   "source": [
    "a=[1,2,3,4]\n",
    "b=[-1,-2,-3,-4]"
   ]
  },
  {
   "cell_type": "code",
   "execution_count": 303,
   "id": "49a423fd-b1b7-4377-8120-7efd5d9bb1cf",
   "metadata": {
    "tags": []
   },
   "outputs": [],
   "source": [
    "a.append(b)"
   ]
  },
  {
   "cell_type": "code",
   "execution_count": 304,
   "id": "6e6a4aba-18c3-4c98-afaa-25af5bd6f3ff",
   "metadata": {
    "tags": []
   },
   "outputs": [
    {
     "data": {
      "text/plain": [
       "[1, 2, 3, 4, [-1, -2, -3, -4]]"
      ]
     },
     "execution_count": 304,
     "metadata": {},
     "output_type": "execute_result"
    }
   ],
   "source": [
    "a"
   ]
  },
  {
   "cell_type": "markdown",
   "id": "538085e1-5317-4ef8-96d4-b0517700605f",
   "metadata": {},
   "source": [
    "**(index)**"
   ]
  },
  {
   "cell_type": "code",
   "execution_count": 127,
   "id": "b5393809-c404-4aa0-b5ce-404f8b6a608d",
   "metadata": {},
   "outputs": [
    {
     "data": {
      "text/plain": [
       "\u001b[0;31mSignature:\u001b[0m \u001b[0ma\u001b[0m\u001b[0;34m.\u001b[0m\u001b[0mindex\u001b[0m\u001b[0;34m(\u001b[0m\u001b[0mvalue\u001b[0m\u001b[0;34m,\u001b[0m \u001b[0mstart\u001b[0m\u001b[0;34m=\u001b[0m\u001b[0;36m0\u001b[0m\u001b[0;34m,\u001b[0m \u001b[0mstop\u001b[0m\u001b[0;34m=\u001b[0m\u001b[0;36m9223372036854775807\u001b[0m\u001b[0;34m,\u001b[0m \u001b[0;34m/\u001b[0m\u001b[0;34m)\u001b[0m\u001b[0;34m\u001b[0m\u001b[0;34m\u001b[0m\u001b[0m\n",
       "\u001b[0;31mDocstring:\u001b[0m\n",
       "Return first index of value.\n",
       "\n",
       "Raises ValueError if the value is not present.\n",
       "\u001b[0;31mType:\u001b[0m      builtin_function_or_method"
      ]
     },
     "metadata": {},
     "output_type": "display_data"
    }
   ],
   "source": [
    "a=[11,22,'a',True, 22,'a']\n",
    "a.index?"
   ]
  },
  {
   "cell_type": "code",
   "execution_count": 128,
   "id": "16ec71c6-be14-4bcd-9651-a707f5fd6759",
   "metadata": {},
   "outputs": [
    {
     "data": {
      "text/plain": [
       "0"
      ]
     },
     "execution_count": 128,
     "metadata": {},
     "output_type": "execute_result"
    }
   ],
   "source": [
    "a.index(11)"
   ]
  },
  {
   "cell_type": "code",
   "execution_count": 129,
   "id": "553377de-ae8d-437f-80c8-f1d0b9e11bde",
   "metadata": {},
   "outputs": [
    {
     "data": {
      "text/plain": [
       "1"
      ]
     },
     "execution_count": 129,
     "metadata": {},
     "output_type": "execute_result"
    }
   ],
   "source": [
    "a.index(22)"
   ]
  },
  {
   "cell_type": "code",
   "execution_count": 130,
   "id": "b68f66e3-3ee9-4e5a-ae40-2719235ea171",
   "metadata": {},
   "outputs": [
    {
     "data": {
      "text/plain": [
       "2"
      ]
     },
     "execution_count": 130,
     "metadata": {},
     "output_type": "execute_result"
    }
   ],
   "source": [
    "a.index('a')"
   ]
  },
  {
   "cell_type": "code",
   "execution_count": 131,
   "id": "81ce4470-5d70-4218-9a8a-bc079c83104e",
   "metadata": {},
   "outputs": [
    {
     "data": {
      "text/plain": [
       "3"
      ]
     },
     "execution_count": 131,
     "metadata": {},
     "output_type": "execute_result"
    }
   ],
   "source": [
    "a.index(True)"
   ]
  },
  {
   "cell_type": "markdown",
   "id": "d09f17da-c2d5-4f4c-b127-c859cbc45983",
   "metadata": {},
   "source": [
    "**(insert)**"
   ]
  },
  {
   "cell_type": "code",
   "execution_count": 22,
   "id": "98347389-b398-4b27-be61-dce4e03cfb9a",
   "metadata": {},
   "outputs": [
    {
     "data": {
      "text/plain": [
       "\u001b[0;31mSignature:\u001b[0m \u001b[0ma\u001b[0m\u001b[0;34m.\u001b[0m\u001b[0minsert\u001b[0m\u001b[0;34m(\u001b[0m\u001b[0mindex\u001b[0m\u001b[0;34m,\u001b[0m \u001b[0mobject\u001b[0m\u001b[0;34m,\u001b[0m \u001b[0;34m/\u001b[0m\u001b[0;34m)\u001b[0m\u001b[0;34m\u001b[0m\u001b[0;34m\u001b[0m\u001b[0m\n",
       "\u001b[0;31mDocstring:\u001b[0m Insert object before index.\n",
       "\u001b[0;31mType:\u001b[0m      builtin_function_or_method"
      ]
     },
     "metadata": {},
     "output_type": "display_data"
    }
   ],
   "source": [
    "a=[1,2,3]\n",
    "a.insert?"
   ]
  },
  {
   "cell_type": "code",
   "execution_count": 23,
   "id": "0b9021de-b35b-4f61-88b9-a43a6e897225",
   "metadata": {},
   "outputs": [
    {
     "data": {
      "text/plain": [
       "[1, 88, 2, 3]"
      ]
     },
     "execution_count": 23,
     "metadata": {},
     "output_type": "execute_result"
    }
   ],
   "source": [
    "a.insert(1,88) \n",
    "a"
   ]
  },
  {
   "cell_type": "markdown",
   "id": "18b06a79-3837-4755-9c73-222f63fd4d6d",
   "metadata": {},
   "source": [
    "**(pop)**"
   ]
  },
  {
   "cell_type": "code",
   "execution_count": 24,
   "id": "4760bcbd-ba18-41b9-8987-4d14e4c65f09",
   "metadata": {},
   "outputs": [
    {
     "data": {
      "text/plain": [
       "\u001b[0;31mSignature:\u001b[0m \u001b[0ma\u001b[0m\u001b[0;34m.\u001b[0m\u001b[0mpop\u001b[0m\u001b[0;34m(\u001b[0m\u001b[0mindex\u001b[0m\u001b[0;34m=\u001b[0m\u001b[0;34m-\u001b[0m\u001b[0;36m1\u001b[0m\u001b[0;34m,\u001b[0m \u001b[0;34m/\u001b[0m\u001b[0;34m)\u001b[0m\u001b[0;34m\u001b[0m\u001b[0;34m\u001b[0m\u001b[0m\n",
       "\u001b[0;31mDocstring:\u001b[0m\n",
       "Remove and return item at index (default last).\n",
       "\n",
       "Raises IndexError if list is empty or index is out of range.\n",
       "\u001b[0;31mType:\u001b[0m      builtin_function_or_method"
      ]
     },
     "metadata": {},
     "output_type": "display_data"
    }
   ],
   "source": [
    "a=['a',1,2,'d']\n",
    "a.pop?"
   ]
  },
  {
   "cell_type": "code",
   "execution_count": 25,
   "id": "150b92cc-fbf8-4c7a-a798-5be3e1ec92e3",
   "metadata": {},
   "outputs": [
    {
     "data": {
      "text/plain": [
       "'d'"
      ]
     },
     "execution_count": 25,
     "metadata": {},
     "output_type": "execute_result"
    }
   ],
   "source": [
    "a.pop() # index=-1 이므로 마지막원소가 나타남"
   ]
  },
  {
   "cell_type": "code",
   "execution_count": 26,
   "id": "24d5b84b-80d7-4b1f-a4a0-2c942d909b10",
   "metadata": {},
   "outputs": [
    {
     "data": {
      "text/plain": [
       "['a', 1, 2]"
      ]
     },
     "execution_count": 26,
     "metadata": {},
     "output_type": "execute_result"
    }
   ],
   "source": [
    "a # a는 마지막 원소가 사라진 상태"
   ]
  },
  {
   "cell_type": "code",
   "execution_count": 27,
   "id": "fc16bc8a-2643-4175-96d0-ea242bb0f0b2",
   "metadata": {},
   "outputs": [
    {
     "data": {
      "text/plain": [
       "'a'"
      ]
     },
     "execution_count": 27,
     "metadata": {},
     "output_type": "execute_result"
    }
   ],
   "source": [
    "a.pop(0) # index=0 이므로 첫번쨰 원소가 나타남"
   ]
  },
  {
   "cell_type": "code",
   "execution_count": 28,
   "id": "aaa0e0cd-422d-44cf-94f0-418f7831831e",
   "metadata": {},
   "outputs": [
    {
     "data": {
      "text/plain": [
       "[1, 2]"
      ]
     },
     "execution_count": 28,
     "metadata": {},
     "output_type": "execute_result"
    }
   ],
   "source": [
    "a # a에는 첫번째 원소가 사라진 상태"
   ]
  },
  {
   "cell_type": "markdown",
   "id": "83204b9d-9a20-4ae7-bcd2-98444abbc357",
   "metadata": {},
   "source": [
    "**(remove)**"
   ]
  },
  {
   "cell_type": "code",
   "execution_count": 29,
   "id": "30c9469c-2b84-47a8-8cfa-e264498cd8d6",
   "metadata": {},
   "outputs": [
    {
     "data": {
      "text/plain": [
       "\u001b[0;31mSignature:\u001b[0m \u001b[0ma\u001b[0m\u001b[0;34m.\u001b[0m\u001b[0mremove\u001b[0m\u001b[0;34m(\u001b[0m\u001b[0mvalue\u001b[0m\u001b[0;34m,\u001b[0m \u001b[0;34m/\u001b[0m\u001b[0;34m)\u001b[0m\u001b[0;34m\u001b[0m\u001b[0;34m\u001b[0m\u001b[0m\n",
       "\u001b[0;31mDocstring:\u001b[0m\n",
       "Remove first occurrence of value.\n",
       "\n",
       "Raises ValueError if the value is not present.\n",
       "\u001b[0;31mType:\u001b[0m      builtin_function_or_method"
      ]
     },
     "metadata": {},
     "output_type": "display_data"
    }
   ],
   "source": [
    "a=['a',2,3,'d']\n",
    "a.remove?"
   ]
  },
  {
   "cell_type": "code",
   "execution_count": 30,
   "id": "8886ce34-d100-4f96-8ef8-b7266a4ddd43",
   "metadata": {},
   "outputs": [],
   "source": [
    "a.remove('d')"
   ]
  },
  {
   "cell_type": "code",
   "execution_count": 31,
   "id": "db39fe17-d93e-483c-aca4-53b46bf0d88b",
   "metadata": {},
   "outputs": [
    {
     "data": {
      "text/plain": [
       "['a', 2, 3]"
      ]
     },
     "execution_count": 31,
     "metadata": {},
     "output_type": "execute_result"
    }
   ],
   "source": [
    "a"
   ]
  },
  {
   "cell_type": "code",
   "execution_count": 32,
   "id": "a8ea7689-6a63-4990-aff0-0334631b3104",
   "metadata": {},
   "outputs": [],
   "source": [
    "a.remove('a')"
   ]
  },
  {
   "cell_type": "code",
   "execution_count": 33,
   "id": "29d6abf1-243f-4494-8c75-0593dd8d8d2d",
   "metadata": {},
   "outputs": [
    {
     "data": {
      "text/plain": [
       "[2, 3]"
      ]
     },
     "execution_count": 33,
     "metadata": {},
     "output_type": "execute_result"
    }
   ],
   "source": [
    "a"
   ]
  },
  {
   "cell_type": "markdown",
   "id": "9cf9ac90-8479-43ca-9b68-a73730133c31",
   "metadata": {},
   "source": [
    "**(reverse)**"
   ]
  },
  {
   "cell_type": "code",
   "execution_count": 34,
   "id": "38984ad0-370d-406e-9c0a-4b2b655db3be",
   "metadata": {},
   "outputs": [
    {
     "data": {
      "text/plain": [
       "\u001b[0;31mSignature:\u001b[0m \u001b[0ma\u001b[0m\u001b[0;34m.\u001b[0m\u001b[0mreverse\u001b[0m\u001b[0;34m(\u001b[0m\u001b[0;34m)\u001b[0m\u001b[0;34m\u001b[0m\u001b[0;34m\u001b[0m\u001b[0m\n",
       "\u001b[0;31mDocstring:\u001b[0m Reverse *IN PLACE*.\n",
       "\u001b[0;31mType:\u001b[0m      builtin_function_or_method"
      ]
     },
     "metadata": {},
     "output_type": "display_data"
    }
   ],
   "source": [
    "a=[1,2,3,4]\n",
    "a.reverse?"
   ]
  },
  {
   "cell_type": "code",
   "execution_count": 35,
   "id": "54ebc226-f994-481f-9b83-96636a6d9b7d",
   "metadata": {},
   "outputs": [
    {
     "data": {
      "text/plain": [
       "[4, 3, 2, 1]"
      ]
     },
     "execution_count": 35,
     "metadata": {},
     "output_type": "execute_result"
    }
   ],
   "source": [
    "a.reverse()\n",
    "a"
   ]
  },
  {
   "cell_type": "markdown",
   "id": "2a394071-302a-447d-ba89-87c4030d3f2e",
   "metadata": {},
   "source": [
    "**(sort)**"
   ]
  },
  {
   "cell_type": "code",
   "execution_count": 59,
   "id": "583ac3b4-d110-471c-9117-8bf75946b277",
   "metadata": {},
   "outputs": [
    {
     "data": {
      "text/plain": [
       "\u001b[0;31mSignature:\u001b[0m \u001b[0ma\u001b[0m\u001b[0;34m.\u001b[0m\u001b[0msort\u001b[0m\u001b[0;34m(\u001b[0m\u001b[0;34m*\u001b[0m\u001b[0;34m,\u001b[0m \u001b[0mkey\u001b[0m\u001b[0;34m=\u001b[0m\u001b[0;32mNone\u001b[0m\u001b[0;34m,\u001b[0m \u001b[0mreverse\u001b[0m\u001b[0;34m=\u001b[0m\u001b[0;32mFalse\u001b[0m\u001b[0;34m)\u001b[0m\u001b[0;34m\u001b[0m\u001b[0;34m\u001b[0m\u001b[0m\n",
       "\u001b[0;31mDocstring:\u001b[0m\n",
       "Sort the list in ascending order and return None.\n",
       "\n",
       "The sort is in-place (i.e. the list itself is modified) and stable (i.e. the\n",
       "order of two equal elements is maintained).\n",
       "\n",
       "If a key function is given, apply it once to each list item and sort them,\n",
       "ascending or descending, according to their function values.\n",
       "\n",
       "The reverse flag can be set to sort in descending order.\n",
       "\u001b[0;31mType:\u001b[0m      builtin_function_or_method"
      ]
     },
     "metadata": {},
     "output_type": "display_data"
    }
   ],
   "source": [
    "a=[1,3,2,4]\n",
    "a.sort?"
   ]
  },
  {
   "cell_type": "code",
   "execution_count": 37,
   "id": "388df751-7cbc-4407-a70e-b93aebb3e4f8",
   "metadata": {},
   "outputs": [
    {
     "data": {
      "text/plain": [
       "[1, 2, 3, 4]"
      ]
     },
     "execution_count": 37,
     "metadata": {},
     "output_type": "execute_result"
    }
   ],
   "source": [
    "a.sort()\n",
    "a"
   ]
  },
  {
   "cell_type": "markdown",
   "id": "041a1395-5ce1-4da0-9540-2902e90b47d2",
   "metadata": {},
   "source": [
    "(다른예제들)"
   ]
  },
  {
   "cell_type": "code",
   "execution_count": 40,
   "id": "69f2861f-d40b-493c-92e6-dc8c7478d56a",
   "metadata": {},
   "outputs": [
    {
     "data": {
      "text/plain": [
       "['g', 'u', 'e', 'b', 'i', 'n']"
      ]
     },
     "execution_count": 40,
     "metadata": {},
     "output_type": "execute_result"
    }
   ],
   "source": [
    "a=list('guebin')\n",
    "a"
   ]
  },
  {
   "cell_type": "code",
   "execution_count": 41,
   "id": "f035ec39-e08f-419b-a43a-fae676d7180e",
   "metadata": {},
   "outputs": [
    {
     "data": {
      "text/plain": [
       "['b', 'e', 'g', 'i', 'n', 'u']"
      ]
     },
     "execution_count": 41,
     "metadata": {},
     "output_type": "execute_result"
    }
   ],
   "source": [
    "a.sort()\n",
    "a"
   ]
  },
  {
   "cell_type": "code",
   "execution_count": 42,
   "id": "04181926-9aa2-4321-ba02-2542457f3b56",
   "metadata": {},
   "outputs": [
    {
     "data": {
      "text/plain": [
       "['u', 'n', 'i', 'g', 'e', 'b']"
      ]
     },
     "execution_count": 42,
     "metadata": {},
     "output_type": "execute_result"
    }
   ],
   "source": [
    "a.sort(reverse=True)\n",
    "a"
   ]
  },
  {
   "cell_type": "markdown",
   "id": "8797cea8-f410-42c8-806b-788fec58c80a",
   "metadata": {},
   "source": [
    "## J. 중첩리스트 "
   ]
  },
  {
   "cell_type": "markdown",
   "id": "8c585c02-7b06-4e91-957c-e4d6cfdebb0e",
   "metadata": {},
   "source": [
    "`-` 리스트는 리스트를 원소로 받을 수 있으므로 아래와 같이 중첩된 리스트를 만들 수 있다. "
   ]
  },
  {
   "cell_type": "code",
   "execution_count": 315,
   "id": "6a6b0580-e710-4346-a4e8-bcde82b377fc",
   "metadata": {
    "tags": []
   },
   "outputs": [
    {
     "data": {
      "text/plain": [
       "[[1, 2, 3], [4, 5, 6], [7, 8, 9]]"
      ]
     },
     "execution_count": 315,
     "metadata": {},
     "output_type": "execute_result"
    }
   ],
   "source": [
    "A = [[1,2,3],\n",
    "     [4,5,6],\n",
    "     [7,8,9]]\n",
    "A"
   ]
  },
  {
   "cell_type": "markdown",
   "id": "143d14ed-613d-4103-9d13-19893bcf11e1",
   "metadata": {},
   "source": [
    "`-` A는 1차원인 벡터가 아니라 2차원인 매트릭스로 이해할 수 있다. 구체적으로는 아래와 같은 매트릭스로 이해할 수 있다"
   ]
  },
  {
   "cell_type": "markdown",
   "id": "240a3378-afdf-4a07-85d1-16631dae9cf2",
   "metadata": {},
   "source": [
    "$$\\bf{A}=\\begin{bmatrix}\n",
    "1 & 2 & 3 \\\\ \n",
    "4 & 5 & 6 \\\\ \n",
    "7 & 8 & 9 \n",
    "\\end{bmatrix}$$"
   ]
  },
  {
   "cell_type": "markdown",
   "id": "18ac1fd6-e73a-4459-ab3a-b2c433502138",
   "metadata": {},
   "source": [
    "`-` A에서 (2,1)의 원소를 뽑고싶다 = 4를 뽑고싶다 "
   ]
  },
  {
   "cell_type": "code",
   "execution_count": 329,
   "id": "8e51f527-0a96-4b5c-9665-a17757377daf",
   "metadata": {
    "tags": []
   },
   "outputs": [
    {
     "ename": "TypeError",
     "evalue": "list indices must be integers or slices, not tuple",
     "output_type": "error",
     "traceback": [
      "\u001b[0;31m---------------------------------------------------------------------------\u001b[0m",
      "\u001b[0;31mTypeError\u001b[0m                                 Traceback (most recent call last)",
      "Cell \u001b[0;32mIn[329], line 1\u001b[0m\n\u001b[0;32m----> 1\u001b[0m A[\u001b[38;5;241m1\u001b[39m,\u001b[38;5;241m0\u001b[39m]\n",
      "\u001b[0;31mTypeError\u001b[0m: list indices must be integers or slices, not tuple"
     ]
    }
   ],
   "source": [
    "A[1,0] # R에서는 이게 가능했죠"
   ]
  },
  {
   "cell_type": "markdown",
   "id": "b6829519-6008-4d61-8ca6-791c77b754bd",
   "metadata": {},
   "source": [
    "- 실패"
   ]
  },
  {
   "cell_type": "code",
   "execution_count": 332,
   "id": "28477fde-848e-4b71-a7df-8da64c1c3076",
   "metadata": {
    "tags": []
   },
   "outputs": [
    {
     "data": {
      "text/plain": [
       "4"
      ]
     },
     "execution_count": 332,
     "metadata": {},
     "output_type": "execute_result"
    }
   ],
   "source": [
    "A[1][0]"
   ]
  },
  {
   "cell_type": "markdown",
   "id": "a63cfbc7-7979-4817-8bf9-8fdf37334a32",
   "metadata": {},
   "source": [
    "- 성공 "
   ]
  },
  {
   "cell_type": "markdown",
   "id": "db77dd2d-0aec-4085-933f-bc3d42f38432",
   "metadata": {},
   "source": [
    "`-` 성공의 이유를 분석해보자. "
   ]
  },
  {
   "cell_type": "code",
   "execution_count": 46,
   "id": "387035f2-db01-45fb-aefc-119bb5d9b321",
   "metadata": {},
   "outputs": [
    {
     "data": {
      "text/plain": [
       "[[1, 2, 3], [4, 5, 6], [7, 8, 9]]"
      ]
     },
     "execution_count": 46,
     "metadata": {},
     "output_type": "execute_result"
    }
   ],
   "source": [
    "A"
   ]
  },
  {
   "cell_type": "code",
   "execution_count": 47,
   "id": "85a7d649-9a94-4c57-a5a7-8af18e528925",
   "metadata": {},
   "outputs": [
    {
     "data": {
      "text/plain": [
       "[4, 5, 6]"
      ]
     },
     "execution_count": 47,
     "metadata": {},
     "output_type": "execute_result"
    }
   ],
   "source": [
    "A[1]"
   ]
  },
  {
   "cell_type": "code",
   "execution_count": 48,
   "id": "8ce83e11-7c77-4237-8f2f-6990dadc39d9",
   "metadata": {},
   "outputs": [
    {
     "data": {
      "text/plain": [
       "4"
      ]
     },
     "execution_count": 48,
     "metadata": {},
     "output_type": "execute_result"
    }
   ],
   "source": [
    "A[1][0]"
   ]
  },
  {
   "cell_type": "markdown",
   "id": "48108a97-d7fd-4dde-b379-e9154fd808d6",
   "metadata": {},
   "source": [
    "`-` 매트릭스는 아니지만 매트릭스 같음!\n",
    "\n",
    "- 1차원 배열을 다차원 배열로 확장할 수 있는 기본 아이디어를 제공함 "
   ]
  },
  {
   "cell_type": "markdown",
   "id": "ca3d2495-1fb4-4949-aab7-effeac2f3eb7",
   "metadata": {},
   "source": [
    "## K. 리스트 컴프리헨션 연습"
   ]
  },
  {
   "cell_type": "markdown",
   "id": "336a407f-0816-4a78-9257-ee2664779a9c",
   "metadata": {},
   "source": [
    "`-` 예제1: 리스트 컴프리헨션을 이용하여 아래와 같은 리스트를 만들어라. "
   ]
  },
  {
   "cell_type": "code",
   "execution_count": 72,
   "id": "6c6f6f7c-7e9b-4a31-ae22-606821f0ce28",
   "metadata": {},
   "outputs": [
    {
     "data": {
      "text/plain": [
       "['SSSS', 'PPPP', 'AAAA', 'MMMM']"
      ]
     },
     "execution_count": 72,
     "metadata": {},
     "output_type": "execute_result"
    }
   ],
   "source": [
    "['SSSS','PPPP','AAAA','MMMM']"
   ]
  },
  {
   "cell_type": "markdown",
   "id": "c0efae4e-081f-47ec-b59b-ca4a2be6ce15",
   "metadata": {},
   "source": [
    "(풀이)"
   ]
  },
  {
   "cell_type": "code",
   "execution_count": 343,
   "id": "b85085f9-8b52-4e40-9a48-e75c10318fd3",
   "metadata": {},
   "outputs": [
    {
     "data": {
      "text/plain": [
       "['SSSS', 'PPPP', 'AAAA', 'MMMM']"
      ]
     },
     "execution_count": 343,
     "metadata": {},
     "output_type": "execute_result"
    }
   ],
   "source": [
    "[s*4 for s in 'SPAM']"
   ]
  },
  {
   "cell_type": "markdown",
   "id": "5890702b-48e8-4764-9d34-c32ea3844c46",
   "metadata": {},
   "source": [
    "`-` 예제2: 리스트컴프리헨션을 이용하여 아래와 같은 리스트를 만들어라. "
   ]
  },
  {
   "cell_type": "code",
   "execution_count": 401,
   "id": "23956f98-4a54-4989-bcca-6cc2ab09afd8",
   "metadata": {},
   "outputs": [
    {
     "data": {
      "text/plain": [
       "['X1', 'X2', 'X3', 'Y1', 'Y2', 'Y3']"
      ]
     },
     "execution_count": 401,
     "metadata": {},
     "output_type": "execute_result"
    }
   ],
   "source": [
    "['X1','X2','X3','Y1','Y2','Y3']"
   ]
  },
  {
   "cell_type": "markdown",
   "id": "ab2fbe63-812f-43b1-90ab-ae6f9cf7edf8",
   "metadata": {},
   "source": [
    "(풀이1)"
   ]
  },
  {
   "cell_type": "code",
   "execution_count": 345,
   "id": "f7489946-5598-4ded-8fc0-16c2b7884c86",
   "metadata": {
    "tags": []
   },
   "outputs": [],
   "source": [
    "import itertools"
   ]
  },
  {
   "cell_type": "code",
   "execution_count": 351,
   "id": "838fcb51-5450-401a-b650-bd7e97bd998d",
   "metadata": {
    "tags": []
   },
   "outputs": [
    {
     "data": {
      "text/plain": [
       "['X1', 'X2', 'X3', 'Y1', 'Y2', 'Y3']"
      ]
     },
     "execution_count": 351,
     "metadata": {},
     "output_type": "execute_result"
    }
   ],
   "source": [
    "[i+j for i,j in itertools.product('XY','123')]"
   ]
  },
  {
   "cell_type": "markdown",
   "id": "936b0269-3328-4609-a813-f9e4d79a3382",
   "metadata": {},
   "source": [
    "(풀이2)"
   ]
  },
  {
   "cell_type": "code",
   "execution_count": 357,
   "id": "85fdba8b-3185-4863-80d8-4f862b4813a3",
   "metadata": {
    "tags": []
   },
   "outputs": [
    {
     "data": {
      "text/plain": [
       "['X1', 'X2', 'X3', 'Y1', 'Y2', 'Y3']"
      ]
     },
     "execution_count": 357,
     "metadata": {},
     "output_type": "execute_result"
    }
   ],
   "source": [
    "[i+j for i in 'XY' for j in '123']"
   ]
  },
  {
   "cell_type": "markdown",
   "id": "5d8bb205-fd44-41f7-b283-8f587e756870",
   "metadata": {},
   "source": [
    "`-` 예제: 리스트컴프리헨션을 이용하여 아래와 같은 리스트를 만들어라. "
   ]
  },
  {
   "cell_type": "code",
   "execution_count": 74,
   "id": "ca401b43-51bb-4579-9784-3a0c162af6be",
   "metadata": {},
   "outputs": [
    {
     "data": {
      "text/plain": [
       "['stat1', 'stat2', 'stat3', 'math1', 'math2', 'math3']"
      ]
     },
     "execution_count": 74,
     "metadata": {},
     "output_type": "execute_result"
    }
   ],
   "source": [
    "['stat1', 'stat2', 'stat3', 'math1', 'math2', 'math3']"
   ]
  },
  {
   "cell_type": "markdown",
   "id": "645fb017-0f4c-45c2-94b1-4e5e4becedd6",
   "metadata": {},
   "source": [
    "(풀이1)"
   ]
  },
  {
   "cell_type": "code",
   "execution_count": 361,
   "id": "0cc5b5dc-2c21-4a94-a17c-423b9b72f2b5",
   "metadata": {
    "tags": []
   },
   "outputs": [
    {
     "data": {
      "text/plain": [
       "['stat1', 'stat2', 'stat3', 'math1', 'math2', 'math3']"
      ]
     },
     "execution_count": 361,
     "metadata": {},
     "output_type": "execute_result"
    }
   ],
   "source": [
    "[i+j for i,j in itertools.product(['stat','math'], '123')]"
   ]
  },
  {
   "cell_type": "markdown",
   "id": "0b08fd08-3129-4eb7-889c-d70a5fa2717e",
   "metadata": {},
   "source": [
    "(풀이2) "
   ]
  },
  {
   "cell_type": "code",
   "execution_count": 376,
   "id": "5e2406cd-9c53-4e5a-af09-0c621706c202",
   "metadata": {
    "tags": []
   },
   "outputs": [
    {
     "data": {
      "text/plain": [
       "['stat1', 'stat2', 'stat3', 'math1', 'math2', 'math3']"
      ]
     },
     "execution_count": 376,
     "metadata": {},
     "output_type": "execute_result"
    }
   ],
   "source": [
    "[i+j for i in ['stat','math'] for j in '123']"
   ]
  },
  {
   "cell_type": "markdown",
   "id": "b2e582cc-02b9-421e-b5d0-30348bbb2ace",
   "metadata": {},
   "source": [
    "(다른풀이) 비어있는 리스트를 만들고 for문을 쓰면 좀 복잡해진다. "
   ]
  },
  {
   "cell_type": "code",
   "execution_count": 373,
   "id": "ed2c518c-3e8e-4c5f-8a72-b73266eaeee2",
   "metadata": {
    "tags": []
   },
   "outputs": [
    {
     "data": {
      "text/plain": [
       "['stat1', 'stat2', 'stat3', 'math1', 'math2', 'math3']"
      ]
     },
     "execution_count": 373,
     "metadata": {},
     "output_type": "execute_result"
    }
   ],
   "source": [
    "lst = [] \n",
    "for x in ['stat','math']: \n",
    "    for y in '123': \n",
    "        lst.append(x+y)\n",
    "lst"
   ]
  },
  {
   "cell_type": "code",
   "execution_count": 375,
   "id": "9f7c1226-2fc6-4ccc-a3b0-dbdf08e5347a",
   "metadata": {
    "tags": []
   },
   "outputs": [
    {
     "data": {
      "text/plain": [
       "['stat1', 'stat2', 'stat3', 'math1', 'math2', 'math3']"
      ]
     },
     "execution_count": 375,
     "metadata": {},
     "output_type": "execute_result"
    }
   ],
   "source": [
    "lst = [] \n",
    "for x in ['stat','math']: \n",
    "    for y in '123': \n",
    "        lst = lst + [x+y]\n",
    "lst"
   ]
  },
  {
   "cell_type": "markdown",
   "id": "591b5b07-eab0-433e-8071-6e861284b1e7",
   "metadata": {},
   "source": [
    "`-` 예제: 리스트컴프리헨션과 문자열 `'jbnu'`를 이용하여 아래와 같은 리스트를 만들어라. "
   ]
  },
  {
   "cell_type": "code",
   "execution_count": 186,
   "id": "ecc0185b-a555-4c4a-a092-eed73e2bfe2f",
   "metadata": {},
   "outputs": [
    {
     "data": {
      "text/plain": [
       "['j', 'b', 'n', 'u']"
      ]
     },
     "execution_count": 186,
     "metadata": {},
     "output_type": "execute_result"
    }
   ],
   "source": [
    "['j','b','n','u']"
   ]
  },
  {
   "cell_type": "markdown",
   "id": "d4f0bc87-3d62-4ac9-9d2e-5a4e8ee0f72f",
   "metadata": {},
   "source": [
    "(풀이)"
   ]
  },
  {
   "cell_type": "code",
   "execution_count": 378,
   "id": "0c989910-f67c-487b-8cee-8d3b52d9f4f8",
   "metadata": {
    "tags": []
   },
   "outputs": [
    {
     "data": {
      "text/plain": [
       "['j', 'b', 'n', 'u']"
      ]
     },
     "execution_count": 378,
     "metadata": {},
     "output_type": "execute_result"
    }
   ],
   "source": [
    "[s for s in 'jbnu']"
   ]
  },
  {
   "cell_type": "markdown",
   "id": "cf790314-9766-4d5f-8b4b-269d8ab4462d",
   "metadata": {},
   "source": [
    "(다른풀이) 아래와 같이 풀면 된다는것은 알고 있음  "
   ]
  },
  {
   "cell_type": "code",
   "execution_count": 381,
   "id": "f3aa7b64-3590-4bae-b20b-6c1454688893",
   "metadata": {
    "tags": []
   },
   "outputs": [
    {
     "data": {
      "text/plain": [
       "['j', 'b', 'n', 'u']"
      ]
     },
     "execution_count": 381,
     "metadata": {},
     "output_type": "execute_result"
    }
   ],
   "source": [
    "list('jbnu')"
   ]
  },
  {
   "cell_type": "markdown",
   "id": "5a75ee3a-a4ea-4fcb-be14-dcbd442eb364",
   "metadata": {},
   "source": [
    "`-` 예제: 리스트컴프리헨션을 이용하여 아래와 같은 리스트를 만들어라. "
   ]
  },
  {
   "cell_type": "code",
   "execution_count": 189,
   "id": "14ffeab2-1088-4577-9900-dd1dc003e434",
   "metadata": {},
   "outputs": [
    {
     "data": {
      "text/plain": [
       "['X1', 'X2', 'X3', 'X4', 'X5', 'X6', 'X7', 'X8', 'X9', 'X10', 'X11', 'X12']"
      ]
     },
     "execution_count": 189,
     "metadata": {},
     "output_type": "execute_result"
    }
   ],
   "source": [
    "['X1', 'X2', 'X3', 'X4', 'X5', 'X6', 'X7', 'X8', 'X9', 'X10', 'X11', 'X12']"
   ]
  },
  {
   "cell_type": "markdown",
   "id": "b3c1ef75-e6f0-4a51-abdf-d73fa7d40e92",
   "metadata": {},
   "source": [
    "(풀이)"
   ]
  },
  {
   "cell_type": "code",
   "execution_count": 384,
   "id": "76cce593-cdb6-424e-be24-852111e95f70",
   "metadata": {
    "tags": []
   },
   "outputs": [
    {
     "data": {
      "text/plain": [
       "['X1', 'X2', 'X3', 'X4', 'X5', 'X6', 'X7', 'X8', 'X9', 'X10', 'X11', 'X12']"
      ]
     },
     "execution_count": 384,
     "metadata": {},
     "output_type": "execute_result"
    }
   ],
   "source": [
    "['X'+str(i) for i in range(1,13)]"
   ]
  },
  {
   "cell_type": "markdown",
   "id": "2987bac6-ec5d-45d8-903c-338f9eaf72f5",
   "metadata": {},
   "source": [
    "## L. 리스트 컴프리헨션과 for문의 미묘한 차이"
   ]
  },
  {
   "cell_type": "markdown",
   "id": "d119e205-b701-482d-acdb-a45acbaecf57",
   "metadata": {},
   "source": [
    "(경우1)"
   ]
  },
  {
   "cell_type": "code",
   "execution_count": 385,
   "id": "6ac5bca8-604a-4873-ac79-6a623cd8830b",
   "metadata": {
    "tags": []
   },
   "outputs": [
    {
     "data": {
      "text/plain": [
       "['j', 'b', 'n', 'u']"
      ]
     },
     "execution_count": 385,
     "metadata": {},
     "output_type": "execute_result"
    }
   ],
   "source": [
    "x=777 \n",
    "lst = [] \n",
    "for x in 'jbnu': \n",
    "    lst = lst + [x]\n",
    "lst    "
   ]
  },
  {
   "cell_type": "code",
   "execution_count": 386,
   "id": "1a7b930b-6fa3-45f4-92d3-ac5bd711bb24",
   "metadata": {
    "tags": []
   },
   "outputs": [
    {
     "data": {
      "text/plain": [
       "'u'"
      ]
     },
     "execution_count": 386,
     "metadata": {},
     "output_type": "execute_result"
    }
   ],
   "source": [
    "x"
   ]
  },
  {
   "cell_type": "markdown",
   "id": "a28b76d0-a333-49c4-9c91-bc2209b9fcd7",
   "metadata": {},
   "source": [
    "(경우2)"
   ]
  },
  {
   "cell_type": "code",
   "execution_count": 203,
   "id": "7fe423a9-3606-49e6-8d3e-b9c582b92a19",
   "metadata": {},
   "outputs": [
    {
     "data": {
      "text/plain": [
       "['j', 'b', 'n', 'u']"
      ]
     },
     "execution_count": 203,
     "metadata": {},
     "output_type": "execute_result"
    }
   ],
   "source": [
    "x=777\n",
    "lst = [x for x in 'jbnu'] \n",
    "lst "
   ]
  },
  {
   "cell_type": "code",
   "execution_count": 204,
   "id": "8ebcfc97-591f-4e67-ac95-147f6d08a6f6",
   "metadata": {},
   "outputs": [
    {
     "data": {
      "text/plain": [
       "777"
      ]
     },
     "execution_count": 204,
     "metadata": {},
     "output_type": "execute_result"
    }
   ],
   "source": [
    "x"
   ]
  },
  {
   "cell_type": "markdown",
   "id": "c7b4a70b-bcbe-40fb-abee-1f724b394882",
   "metadata": {},
   "source": [
    "> 진짜 미묘하게 다르죠?"
   ]
  },
  {
   "cell_type": "markdown",
   "id": "951fbbe3-3feb-4d2e-8b72-f1dfc6fbdd71",
   "metadata": {},
   "source": [
    "## M. 연습문제들"
   ]
  },
  {
   "cell_type": "markdown",
   "id": "dd39d680-7fbe-4939-8a51-d9cd659a09d3",
   "metadata": {},
   "source": [
    "`# 문제`. 길이가 0인 리스트를 만들어라. (비어있는 리스트를 만들어라) "
   ]
  },
  {
   "cell_type": "markdown",
   "id": "af732968-4c20-480e-adcf-1c720999c303",
   "metadata": {
    "tags": []
   },
   "source": [
    "(풀이1)"
   ]
  },
  {
   "cell_type": "code",
   "execution_count": 393,
   "id": "fc606a99-ec01-43e7-aab0-54b2e08af6bb",
   "metadata": {
    "tags": []
   },
   "outputs": [
    {
     "data": {
      "text/plain": [
       "[]"
      ]
     },
     "execution_count": 393,
     "metadata": {},
     "output_type": "execute_result"
    }
   ],
   "source": [
    "a = list()\n",
    "a"
   ]
  },
  {
   "cell_type": "markdown",
   "id": "6f4cc918-84bf-4a49-baae-6463ea4de962",
   "metadata": {},
   "source": [
    "(풀이2)"
   ]
  },
  {
   "cell_type": "code",
   "execution_count": 394,
   "id": "b5892a68-7010-422a-82c3-bb341e08269c",
   "metadata": {
    "tags": []
   },
   "outputs": [
    {
     "data": {
      "text/plain": [
       "[]"
      ]
     },
     "execution_count": 394,
     "metadata": {},
     "output_type": "execute_result"
    }
   ],
   "source": [
    "a = []\n",
    "a"
   ]
  },
  {
   "cell_type": "markdown",
   "id": "e110e4ae-d7f8-4241-af74-6d1cbb27f1d1",
   "metadata": {},
   "source": [
    "`# 문제`. 다음의 실행값 중 가장 큰 숫자가 나오는 보기를 골라라. (에러가 나는 코드는 정답에서 제외함) \n",
    "\n",
    "```Python\n",
    "(a) len(3.14) \n",
    "(b) len([3.14]) \n",
    "(c) len('3.14') \n",
    "```"
   ]
  },
  {
   "cell_type": "markdown",
   "id": "6192975e-83ab-4c7c-a4c4-7d433750dc96",
   "metadata": {
    "tags": []
   },
   "source": [
    "(풀이)"
   ]
  },
  {
   "cell_type": "code",
   "execution_count": 396,
   "id": "4365fe1f-1df0-4f0f-b823-85f6db4156a6",
   "metadata": {
    "tags": []
   },
   "outputs": [
    {
     "ename": "TypeError",
     "evalue": "object of type 'float' has no len()",
     "output_type": "error",
     "traceback": [
      "\u001b[0;31m---------------------------------------------------------------------------\u001b[0m",
      "\u001b[0;31mTypeError\u001b[0m                                 Traceback (most recent call last)",
      "Cell \u001b[0;32mIn[396], line 1\u001b[0m\n\u001b[0;32m----> 1\u001b[0m \u001b[38;5;28mlen\u001b[39m(\u001b[38;5;241m3.14\u001b[39m)\n",
      "\u001b[0;31mTypeError\u001b[0m: object of type 'float' has no len()"
     ]
    }
   ],
   "source": [
    "len(3.14)"
   ]
  },
  {
   "cell_type": "code",
   "execution_count": 397,
   "id": "c2bdf77b-e1d3-4fde-9712-46d5cce65fc2",
   "metadata": {
    "tags": []
   },
   "outputs": [
    {
     "data": {
      "text/plain": [
       "1"
      ]
     },
     "execution_count": 397,
     "metadata": {},
     "output_type": "execute_result"
    }
   ],
   "source": [
    "len([3.14])"
   ]
  },
  {
   "cell_type": "code",
   "execution_count": 398,
   "id": "0bd6626f-2967-4e0a-ab25-5ea743dec64b",
   "metadata": {
    "tags": []
   },
   "outputs": [
    {
     "data": {
      "text/plain": [
       "4"
      ]
     },
     "execution_count": 398,
     "metadata": {},
     "output_type": "execute_result"
    }
   ],
   "source": [
    "len('3.14')"
   ]
  },
  {
   "cell_type": "markdown",
   "id": "00ff7447-9356-4507-85db-979d8b35c36a",
   "metadata": {},
   "source": [
    "답은 (c)"
   ]
  },
  {
   "cell_type": "markdown",
   "id": "f16ba94d-4bd0-44e6-b6f3-e8d88904540b",
   "metadata": {},
   "source": [
    "`# 문제`. 리스트자료형의 `+`와 `*` 연산을 이용하여 아래와 같은 list를 생성하라. "
   ]
  },
  {
   "cell_type": "code",
   "execution_count": 30,
   "id": "f0cdb755-c741-4885-a379-ee1e724f995a",
   "metadata": {},
   "outputs": [
    {
     "data": {
      "text/plain": [
       "[1, 2, 2, 3, 3, 3, 4, 4, 4, 4, 5, 5, 5, 5, 5]"
      ]
     },
     "execution_count": 30,
     "metadata": {},
     "output_type": "execute_result"
    }
   ],
   "source": [
    "[1, 2, 2, 3, 3, 3, 4, 4, 4, 4, 5, 5, 5, 5, 5]"
   ]
  },
  {
   "cell_type": "markdown",
   "id": "743110d2-0b07-488d-8417-31d3cbdc8920",
   "metadata": {},
   "source": [
    "**hint:** 아래의 코드를 관찰해보세요"
   ]
  },
  {
   "cell_type": "code",
   "execution_count": 10,
   "id": "47fa56f9-a3bc-4829-ac55-d8d7bd061199",
   "metadata": {},
   "outputs": [
    {
     "data": {
      "text/plain": [
       "[1, 2, 2]"
      ]
     },
     "execution_count": 10,
     "metadata": {},
     "output_type": "execute_result"
    }
   ],
   "source": [
    "[1]*1+[2]*2 "
   ]
  },
  {
   "cell_type": "markdown",
   "id": "ac564b03-6123-40a5-aaf3-459499b6a41b",
   "metadata": {},
   "source": [
    "(풀이)"
   ]
  },
  {
   "cell_type": "code",
   "execution_count": 403,
   "id": "c2a9d429-40ba-4c17-a45a-9a0abd638381",
   "metadata": {
    "tags": []
   },
   "outputs": [
    {
     "data": {
      "text/plain": [
       "[1, 2, 2, 3, 3, 3, 4, 4, 4, 4, 5, 5, 5, 5, 5]"
      ]
     },
     "execution_count": 403,
     "metadata": {},
     "output_type": "execute_result"
    }
   ],
   "source": [
    "lst = []\n",
    "for i in range(1,6):\n",
    "    lst = lst + [i]*i\n",
    "lst"
   ]
  },
  {
   "cell_type": "markdown",
   "id": "fd764cc8-a5b4-4ef0-8484-a9127a9c7704",
   "metadata": {},
   "source": [
    "`# 문제`. 다음과 같은 리스트를 고려하자. "
   ]
  },
  {
   "cell_type": "code",
   "execution_count": 405,
   "id": "e105194a-0dab-4c07-ade0-891287bf3b48",
   "metadata": {
    "tags": []
   },
   "outputs": [
    {
     "data": {
      "text/plain": [
       "[80, 60, 80, 90, 55, 85, 95, 100, 35, 70, 75, 65, 95]"
      ]
     },
     "execution_count": 405,
     "metadata": {},
     "output_type": "execute_result"
    }
   ],
   "source": [
    "x = [80,60,80,90,55,85,95,100,35,70,75,65,95]\n",
    "x"
   ]
  },
  {
   "cell_type": "markdown",
   "id": "5f04c446-c74c-4fd4-b9cf-edbf0a626f4d",
   "metadata": {},
   "source": [
    "이를 수식으로 표현하면 아래와 같다. "
   ]
  },
  {
   "cell_type": "markdown",
   "id": "ad2c7c16-f155-4440-9f4e-2ab2ba559e44",
   "metadata": {},
   "source": [
    "${\\bf x} = [x_1,\\dots,x_{13}]=[80,60,80,90,55,85,95,100,35,70,75,65,95]$"
   ]
  },
  {
   "cell_type": "markdown",
   "id": "10e9cd32-4d7e-4e0f-97a0-34080149f579",
   "metadata": {},
   "source": [
    "리스트의 원소중 \"$x_i>80$\" 의 조건을 만족하는 원소는 모두 몇개인가? "
   ]
  },
  {
   "cell_type": "markdown",
   "id": "2f407d2b-b0e8-4406-a728-ab2055c5cc5c",
   "metadata": {},
   "source": [
    "(풀이)"
   ]
  },
  {
   "cell_type": "code",
   "execution_count": 408,
   "id": "49863224-4135-4390-b1d2-08ba211adf57",
   "metadata": {
    "tags": []
   },
   "outputs": [
    {
     "data": {
      "text/plain": [
       "5"
      ]
     },
     "execution_count": 408,
     "metadata": {},
     "output_type": "execute_result"
    }
   ],
   "source": [
    "sum(np.array(x)>80)"
   ]
  },
  {
   "cell_type": "code",
   "execution_count": 412,
   "id": "bab63d83-8351-4d70-898e-9e5f4e85b74a",
   "metadata": {
    "tags": []
   },
   "outputs": [
    {
     "data": {
      "text/plain": [
       "5"
      ]
     },
     "execution_count": 412,
     "metadata": {},
     "output_type": "execute_result"
    }
   ],
   "source": [
    "sum([xi>80 for xi in x])"
   ]
  },
  {
   "cell_type": "markdown",
   "id": "c265c2df-c12f-433b-8fb3-8eed276cbeb9",
   "metadata": {},
   "source": [
    "`# 문제`. 다음과 같은 리스트를 고려하자. "
   ]
  },
  {
   "cell_type": "code",
   "execution_count": 72,
   "id": "d27b4803-f547-45cb-b19e-53e365a9ad2d",
   "metadata": {},
   "outputs": [
    {
     "data": {
      "text/plain": [
       "['A', 'B', 'C', 'D', 'A', 'A', 'B', 'A', 'F', 'C', 'C', 'C', 'A']"
      ]
     },
     "execution_count": 72,
     "metadata": {},
     "output_type": "execute_result"
    }
   ],
   "source": [
    "['A','B','C','D','A','A','B','A','F','C','C','C','A']"
   ]
  },
  {
   "cell_type": "markdown",
   "id": "edf3d56c-c878-4321-a2f4-467ecef33671",
   "metadata": {},
   "source": [
    "이 리스트에서 'A' 혹은 'B'의 숫자는 모두 몇개인가? "
   ]
  },
  {
   "cell_type": "markdown",
   "id": "92d3d460-a2b5-481e-8832-0b322b72744b",
   "metadata": {},
   "source": [
    "(풀이1)"
   ]
  },
  {
   "cell_type": "code",
   "execution_count": 415,
   "id": "da25c0ec-637f-446b-81e7-b99e9e2d9b68",
   "metadata": {
    "tags": []
   },
   "outputs": [
    {
     "data": {
      "text/plain": [
       "7"
      ]
     },
     "execution_count": 415,
     "metadata": {},
     "output_type": "execute_result"
    }
   ],
   "source": [
    "lst = ['A','B','C','D','A','A','B','A','F','C','C','C','A']\n",
    "lst.count('A') + lst.count('B')"
   ]
  },
  {
   "cell_type": "markdown",
   "id": "42d0261a-2c28-49eb-b879-ce486170b1d4",
   "metadata": {},
   "source": [
    "(풀이2)"
   ]
  },
  {
   "cell_type": "code",
   "execution_count": 425,
   "id": "7ca4fafe-199c-4027-b6d3-5433e47d99dc",
   "metadata": {
    "tags": []
   },
   "outputs": [
    {
     "data": {
      "text/plain": [
       "7"
      ]
     },
     "execution_count": 425,
     "metadata": {},
     "output_type": "execute_result"
    }
   ],
   "source": [
    "sum([l<'C' for l in lst])"
   ]
  },
  {
   "cell_type": "markdown",
   "id": "38897091-1dd5-4db1-bdb3-8fc58fd75b51",
   "metadata": {},
   "source": [
    "`# 문제`. 아래와 같은 문자열이 있다고 하자. "
   ]
  },
  {
   "cell_type": "code",
   "execution_count": 429,
   "id": "4aa931ff-37f1-4244-8800-3de3bfe76afb",
   "metadata": {
    "tags": []
   },
   "outputs": [],
   "source": [
    "test_arr = 'ssh-rsa AAAAB3NzaC1yc2EAAAABIwAAAQEAklOUpkDHrfHY17SbrmTIpNLTGK9Tjom/BWDSUGPl+nafzlHDTYW7hdI4yZ5ew18JH4JW9jbhUFrviQzM7xlELEVf4h9lFX5QVkbPppSwg0cda3Pbv7kOdJ/MTyBlWXFCR+HAo3FXRitBqxiX1nKhXpHAZsMciLq8V6RjsNAQwdsdMFvSlVK/7XAt3FaoJoAsncM1Q9x5+3V0Ww68/eIFmb1zuUFljQJKprrX88XypNDvjYNby6vw/Pb0rwert/EnmZ+AW4OZPnTPI89ZPmVMLuayrD2cE86Z/il8b+gw3r3+1nKatmIkjn2so1d01QraTlMqVSsbxNrRFi9wrf+M7Q== schacon@mylaptop.local'"
   ]
  },
  {
   "cell_type": "markdown",
   "id": "cd22be09-ae46-4e42-b0e2-bb02c5cdb8d8",
   "metadata": {},
   "source": [
    "이 문자열에서 대문자의 수를 count하라. (2022년 파이썬입문 중간고사 1-(5) 참고) "
   ]
  },
  {
   "cell_type": "markdown",
   "id": "d6e27df0-2289-4ab4-88de-a1a825a12cf8",
   "metadata": {},
   "source": [
    "(풀이)"
   ]
  },
  {
   "cell_type": "code",
   "execution_count": 433,
   "id": "f76e8935-5413-478d-8784-7e17294120bd",
   "metadata": {
    "tags": []
   },
   "outputs": [
    {
     "data": {
      "text/plain": [
       "155"
      ]
     },
     "execution_count": 433,
     "metadata": {},
     "output_type": "execute_result"
    }
   ],
   "source": [
    "sum([s.isupper() for s in test_arr])"
   ]
  },
  {
   "cell_type": "markdown",
   "id": "04c722e5-841f-45f1-bb31-e35f3a5b927c",
   "metadata": {},
   "source": [
    "`# 문제`. 리스트컴프리헨션을 이용하여 아래와 같은 리스트를 생성하라. (2022년 파이썬입문 중간고사 1-(7) 참고) "
   ]
  },
  {
   "cell_type": "markdown",
   "id": "34e182b4-f59e-41f0-a602-b0874dd85b52",
   "metadata": {},
   "source": [
    "```\n",
    "['a',\n",
    " 'aa',\n",
    " 'aaa',\n",
    " 'aaaa',\n",
    " 'aaaaa',\n",
    " 'aaaaaa',\n",
    " 'aaaaaaa',\n",
    " 'aaaaaaaa',\n",
    " 'aaaaaaaaa',\n",
    " 'aaaaaaaaaa'] <- a가 10개있음\n",
    "```"
   ]
  },
  {
   "cell_type": "markdown",
   "id": "1f52bdd8-f5c3-46fb-b822-55ae3241f613",
   "metadata": {},
   "source": [
    "(풀이)"
   ]
  },
  {
   "cell_type": "code",
   "execution_count": 437,
   "id": "49af13fe-a797-4dc4-9130-907a7eb97d99",
   "metadata": {
    "tags": []
   },
   "outputs": [
    {
     "data": {
      "text/plain": [
       "['a',\n",
       " 'aa',\n",
       " 'aaa',\n",
       " 'aaaa',\n",
       " 'aaaaa',\n",
       " 'aaaaaa',\n",
       " 'aaaaaaa',\n",
       " 'aaaaaaaa',\n",
       " 'aaaaaaaaa',\n",
       " 'aaaaaaaaaa']"
      ]
     },
     "execution_count": 437,
     "metadata": {},
     "output_type": "execute_result"
    }
   ],
   "source": [
    "['a'*i for i in range(1,11)]"
   ]
  },
  {
   "cell_type": "markdown",
   "id": "b296d27c-8c03-4e44-9466-8e5de2ae3f9a",
   "metadata": {},
   "source": [
    "`# 문제`. 아래와 같은 리스트를 관찰하라. "
   ]
  },
  {
   "cell_type": "code",
   "execution_count": 438,
   "id": "55060de8-661d-414b-9a8d-54b082e74c63",
   "metadata": {
    "tags": []
   },
   "outputs": [],
   "source": [
    "lst = ['2022/09/21','2022/10/30','2022/12/25','2023/01/01','2023/01/31','2023/03/20']"
   ]
  },
  {
   "cell_type": "markdown",
   "id": "44e03fd2-af9d-4ca3-93d7-a1873d4417d5",
   "metadata": {},
   "source": [
    "이러한 리스트를 아래와 같은 리스트로 변환하는 코드를 작성하라. "
   ]
  },
  {
   "cell_type": "code",
   "execution_count": 439,
   "id": "509c8177-23a1-4e3c-8975-f4eabc67011d",
   "metadata": {
    "tags": []
   },
   "outputs": [
    {
     "data": {
      "text/plain": [
       "['2022-09-21',\n",
       " '2022-10-30',\n",
       " '2022-12-25',\n",
       " '2023-01-01',\n",
       " '2023-01-31',\n",
       " '2023-03-20']"
      ]
     },
     "execution_count": 439,
     "metadata": {},
     "output_type": "execute_result"
    }
   ],
   "source": [
    "['2022-09-21', '2022-10-30', '2022-12-25', '2023-01-01', '2023-01-31', '2023-03-20']"
   ]
  },
  {
   "cell_type": "markdown",
   "id": "47082728-b2d6-43a8-8056-049054b17b0d",
   "metadata": {},
   "source": [
    "**hint: string의 `.replace()`기능과 리스트 컴프리헨션의 응용**"
   ]
  },
  {
   "cell_type": "markdown",
   "id": "797ec13e-1fd4-4e3f-a612-3af1993e7015",
   "metadata": {},
   "source": [
    "(풀이)"
   ]
  },
  {
   "cell_type": "code",
   "execution_count": 442,
   "id": "31da2ebd-5f30-4a3e-8fc3-a6f14a932b4d",
   "metadata": {
    "tags": []
   },
   "outputs": [
    {
     "data": {
      "text/plain": [
       "['2022-09-21',\n",
       " '2022-10-30',\n",
       " '2022-12-25',\n",
       " '2023-01-01',\n",
       " '2023-01-31',\n",
       " '2023-03-20']"
      ]
     },
     "execution_count": 442,
     "metadata": {},
     "output_type": "execute_result"
    }
   ],
   "source": [
    "[l.replace('/','-') for l in lst]"
   ]
  },
  {
   "cell_type": "markdown",
   "id": "4ba692b6-d952-46d1-aa95-aefc22a56093",
   "metadata": {},
   "source": [
    "`# 문제`. 아래와 같은 문자열을 고려하라. "
   ]
  },
  {
   "cell_type": "code",
   "execution_count": 165,
   "id": "cbf4b11d-762e-4a4f-a545-90ddcb0fd05a",
   "metadata": {},
   "outputs": [
    {
     "data": {
      "text/plain": [
       "'2021. 01. 05.'"
      ]
     },
     "execution_count": 165,
     "metadata": {},
     "output_type": "execute_result"
    }
   ],
   "source": [
    "'2021. 01. 05.'"
   ]
  },
  {
   "cell_type": "markdown",
   "id": "ec1358a7-fec9-4756-ac42-d74a3e631ec4",
   "metadata": {},
   "source": [
    "띄어쓰기를 제거하는 코드를 구현하라. 즉 출력결과가 아래와 같도록 만드는 코드를 구현하라. "
   ]
  },
  {
   "cell_type": "code",
   "execution_count": 166,
   "id": "dd874109-94a7-4f3d-abae-c5ad4364d415",
   "metadata": {},
   "outputs": [
    {
     "data": {
      "text/plain": [
       "'2021.01.05'"
      ]
     },
     "execution_count": 166,
     "metadata": {},
     "output_type": "execute_result"
    }
   ],
   "source": [
    "'2021.01.05'"
   ]
  },
  {
   "cell_type": "markdown",
   "id": "8549e491-849e-42e3-a16b-b508b689045a",
   "metadata": {},
   "source": [
    "(풀이)"
   ]
  },
  {
   "cell_type": "code",
   "execution_count": 444,
   "id": "18122241-7304-4658-a8fa-fdf73ed61e87",
   "metadata": {
    "tags": []
   },
   "outputs": [
    {
     "data": {
      "text/plain": [
       "'2021.01.05.'"
      ]
     },
     "execution_count": 444,
     "metadata": {},
     "output_type": "execute_result"
    }
   ],
   "source": [
    "'2021. 01. 05.'.replace(' ','')"
   ]
  },
  {
   "cell_type": "markdown",
   "id": "2c6cb8cc-ce9d-4f1c-8671-9fd6b4a6b404",
   "metadata": {},
   "source": [
    "`# 문제`. 아래와 같이 하나의 특수문자로 이루어진 리스트를 고려하자. "
   ]
  },
  {
   "cell_type": "code",
   "execution_count": 445,
   "id": "fa60693a-fc60-42d0-a82e-7eb5873a9874",
   "metadata": {
    "tags": []
   },
   "outputs": [],
   "source": [
    "block = ['■'] "
   ]
  },
  {
   "cell_type": "markdown",
   "id": "659fb7e5-36a9-4ba9-843a-004f5d6d8169",
   "metadata": {},
   "source": [
    "이를 이용하여 아래와 같은 결과를 출력하라. "
   ]
  },
  {
   "cell_type": "code",
   "execution_count": 446,
   "id": "db7a2ea1-29ce-4847-8665-c2fab6f0e8e7",
   "metadata": {
    "tags": []
   },
   "outputs": [
    {
     "data": {
      "text/plain": [
       "'■-■-■-■-■-■-■-■-■-■'"
      ]
     },
     "execution_count": 446,
     "metadata": {},
     "output_type": "execute_result"
    }
   ],
   "source": [
    "'■-■-■-■-■-■-■-■-■-■' # 여기에서 '■'는 모두 10개 있음"
   ]
  },
  {
   "cell_type": "markdown",
   "id": "9d3395d9-700f-405d-b1c5-541477c9de78",
   "metadata": {},
   "source": [
    "(풀이)"
   ]
  },
  {
   "cell_type": "code",
   "execution_count": 449,
   "id": "9d7389f4-f090-43f4-b108-6a9cde0b60f2",
   "metadata": {
    "tags": []
   },
   "outputs": [
    {
     "data": {
      "text/plain": [
       "'■-■-■-■-■-■-■-■-■-■'"
      ]
     },
     "execution_count": 449,
     "metadata": {},
     "output_type": "execute_result"
    }
   ],
   "source": [
    "'-'.join(block*10)"
   ]
  }
 ],
 "metadata": {
  "kernelspec": {
   "display_name": "Python 3 (ipykernel)",
   "language": "python",
   "name": "python3"
  },
  "language_info": {
   "codemirror_mode": {
    "name": "ipython",
    "version": 3
   },
   "file_extension": ".py",
   "mimetype": "text/x-python",
   "name": "python",
   "nbconvert_exporter": "python",
   "pygments_lexer": "ipython3",
   "version": "3.11.8"
  }
 },
 "nbformat": 4,
 "nbformat_minor": 5
}
