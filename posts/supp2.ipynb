{
 "cells": [
  {
   "cell_type": "raw",
   "id": "6e095911-8335-45c1-a637-4585ab45cd02",
   "metadata": {},
   "source": [
    "---\n",
    "title: \"supp-1: `matplotlib`\"\n",
    "author: \"최규빈\"\n",
    "date: \"06/30/2024\"\n",
    "draft: true\n",
    "---"
   ]
  },
  {
   "cell_type": "markdown",
   "id": "495a3f23-c0ce-4fa1-877b-e51ee37ec2dc",
   "metadata": {
    "id": "843ab878-59e8-4a36-b92d-c1c61e41cfea",
    "tags": []
   },
   "source": [
    "# 1. 에러메시지"
   ]
  },
  {
   "cell_type": "markdown",
   "id": "6fa6c968-5584-402c-9a97-0efa2513b93a",
   "metadata": {
    "id": "bcbe7344-d353-4948-afeb-408fb4b7eaaa"
   },
   "source": [
    "## A. 파이썬의 에러메시지 이해"
   ]
  },
  {
   "cell_type": "markdown",
   "id": "067458f1-4427-489e-b5e9-19878eb29b94",
   "metadata": {
    "id": "3c525ff1-2c7a-4788-ab0a-8fa9fee3cf57"
   },
   "source": [
    "`TypeError`: 타입이 맞지 않는 연산을 수행하려고 할 때 발생. 예를 들어, 숫자와 문자열을 더하려고 할 때 발생."
   ]
  },
  {
   "cell_type": "code",
   "execution_count": null,
   "id": "cf562a0e-7a25-499f-aaaa-0dd8d112bf01",
   "metadata": {
    "id": "381349be-dd27-42e0-88de-115ab7bfe2c2",
    "outputId": "6fda9781-f5f0-42fe-f645-e9f1f0d3e64a"
   },
   "outputs": [
    {
     "ename": "TypeError",
     "evalue": "unsupported operand type(s) for +: 'int' and 'str'",
     "output_type": "error",
     "traceback": [
      "\u001b[0;31m---------------------------------------------------------------------------\u001b[0m",
      "\u001b[0;31mTypeError\u001b[0m                                 Traceback (most recent call last)",
      "Cell \u001b[0;32mIn[25], line 1\u001b[0m\n\u001b[0;32m----> 1\u001b[0m result \u001b[38;5;241m=\u001b[39m \u001b[38;5;241;43m10\u001b[39;49m\u001b[43m \u001b[49m\u001b[38;5;241;43m+\u001b[39;49m\u001b[43m \u001b[49m\u001b[38;5;124;43m\"\u001b[39;49m\u001b[38;5;124;43m20\u001b[39;49m\u001b[38;5;124;43m\"\u001b[39;49m  \u001b[38;5;66;03m# TypeError: unsupported operand type(s) for +: 'int' and 'str'\u001b[39;00m\n",
      "\u001b[0;31mTypeError\u001b[0m: unsupported operand type(s) for +: 'int' and 'str'"
     ]
    }
   ],
   "source": [
    "result = 10 + \"20\"  # TypeError: unsupported operand type(s) for +: 'int' and 'str'"
   ]
  },
  {
   "cell_type": "markdown",
   "id": "6622e34d-6dad-466d-bceb-bfe991e0d088",
   "metadata": {
    "id": "092c582e-fef8-4c39-946d-f6d7e3b292d0"
   },
   "source": [
    "`SyntaxError`: 코드의 구문이 잘못되었을 때 발생. 주로 오타, 괄호 불일치, 콜론(:) 빠뜨림 등의 문제로 인해 발생."
   ]
  },
  {
   "cell_type": "code",
   "execution_count": null,
   "id": "3240eac0-c536-454e-b131-134f0c3bbe6d",
   "metadata": {
    "id": "1c3866b8-1eed-443b-8db9-513cabe8177e",
    "outputId": "b1683b12-54b4-4480-d28c-780dd6744591"
   },
   "outputs": [
    {
     "ename": "SyntaxError",
     "evalue": "invalid syntax (<ipython-input-23-5259b3c47c58>, line 1)",
     "output_type": "error",
     "traceback": [
      "\u001b[0;36m  Cell \u001b[0;32mIn[23], line 1\u001b[0;36m\u001b[0m\n\u001b[0;31m    if x == 5\u001b[0m\n\u001b[0m             ^\u001b[0m\n\u001b[0;31mSyntaxError\u001b[0m\u001b[0;31m:\u001b[0m invalid syntax\n"
     ]
    }
   ],
   "source": [
    "if x == 5\n",
    "    print(\"x is equal to 5\")  # SyntaxError: invalid syntax"
   ]
  },
  {
   "cell_type": "markdown",
   "id": "e6809497-df6f-4368-bd17-ccecceef18e2",
   "metadata": {
    "id": "d6d5dfe8-cc6e-41d6-a689-166a07628e4f"
   },
   "source": [
    "`NameError`: 정의되지 않은 변수나 함수를 사용하려고 할 때 발생."
   ]
  },
  {
   "cell_type": "code",
   "execution_count": null,
   "id": "16edd77d-a30f-4ce5-8abb-3b0ba1d33941",
   "metadata": {
    "id": "09d96f74-5c42-490c-9c38-20c9c587eee1",
    "outputId": "aca3ec0e-3878-47f1-e9e2-20d12e1ff535"
   },
   "outputs": [
    {
     "ename": "NameError",
     "evalue": "name 'unknown_variable' is not defined",
     "output_type": "error",
     "traceback": [
      "\u001b[0;31m---------------------------------------------------------------------------\u001b[0m",
      "\u001b[0;31mNameError\u001b[0m                                 Traceback (most recent call last)",
      "Cell \u001b[0;32mIn[24], line 1\u001b[0m\n\u001b[0;32m----> 1\u001b[0m \u001b[38;5;28mprint\u001b[39m(\u001b[43munknown_variable\u001b[49m)  \u001b[38;5;66;03m# NameError: name 'unknown_variable' is not defined\u001b[39;00m\n",
      "\u001b[0;31mNameError\u001b[0m: name 'unknown_variable' is not defined"
     ]
    }
   ],
   "source": [
    "print(unknown_variable)  # NameError: name 'unknown_variable' is not defined"
   ]
  },
  {
   "cell_type": "markdown",
   "id": "82cd5674-ab62-4620-aad4-a2b587e9ab4c",
   "metadata": {
    "id": "abf402f3-bceb-4a98-ba47-88f6e8b604e5"
   },
   "source": [
    "`ValueError`: 함수나 메서드에 전달되는 인자의 값이 올바르지 않을 때 발생."
   ]
  },
  {
   "cell_type": "code",
   "execution_count": null,
   "id": "4994a3b6-69db-4967-b416-ba839214931a",
   "metadata": {
    "id": "6a7636ea-5b3e-4947-b4b1-3d538ac5f73b",
    "outputId": "e32fa8e3-2e57-4ad5-f5da-7e5f6ce5d162"
   },
   "outputs": [
    {
     "ename": "ValueError",
     "evalue": "invalid literal for int() with base 10: 'abc'",
     "output_type": "error",
     "traceback": [
      "\u001b[0;31m---------------------------------------------------------------------------\u001b[0m",
      "\u001b[0;31mValueError\u001b[0m                                Traceback (most recent call last)",
      "Cell \u001b[0;32mIn[31], line 1\u001b[0m\n\u001b[0;32m----> 1\u001b[0m int_value \u001b[38;5;241m=\u001b[39m \u001b[38;5;28;43mint\u001b[39;49m\u001b[43m(\u001b[49m\u001b[38;5;124;43m\"\u001b[39;49m\u001b[38;5;124;43mabc\u001b[39;49m\u001b[38;5;124;43m\"\u001b[39;49m\u001b[43m)\u001b[49m  \u001b[38;5;66;03m# ValueError: invalid literal for int() with base 10: 'abc'\u001b[39;00m\n",
      "\u001b[0;31mValueError\u001b[0m: invalid literal for int() with base 10: 'abc'"
     ]
    }
   ],
   "source": [
    "int_value = int(\"abc\")  # ValueError: invalid literal for int() with base 10: 'abc'"
   ]
  },
  {
   "cell_type": "markdown",
   "id": "001aa546-e5f7-4c7e-a0e8-2f74d338bc26",
   "metadata": {
    "id": "6efb5e09-8957-4d78-9b75-9c46201191eb"
   },
   "source": [
    "`AttributeError`: 객체가 속성(attribute)이나 메서드(method)를 가지고 있지 않을 때 발생"
   ]
  },
  {
   "cell_type": "code",
   "execution_count": null,
   "id": "6559d322-0cba-470d-b576-535323ce3cfd",
   "metadata": {
    "id": "a518b251-f7b6-4482-80bc-e7e00175d731",
    "outputId": "25cd786d-3353-46bb-b34b-de14285aaeb3"
   },
   "outputs": [
    {
     "ename": "AttributeError",
     "evalue": "'list' object has no attribute 'upper'",
     "output_type": "error",
     "traceback": [
      "\u001b[0;31m---------------------------------------------------------------------------\u001b[0m",
      "\u001b[0;31mAttributeError\u001b[0m                            Traceback (most recent call last)",
      "Cell \u001b[0;32mIn[32], line 3\u001b[0m\n\u001b[1;32m      1\u001b[0m my_list \u001b[38;5;241m=\u001b[39m [\u001b[38;5;241m1\u001b[39m, \u001b[38;5;241m2\u001b[39m, \u001b[38;5;241m3\u001b[39m]\n\u001b[1;32m      2\u001b[0m my_list\u001b[38;5;241m.\u001b[39mappend(\u001b[38;5;241m4\u001b[39m)\n\u001b[0;32m----> 3\u001b[0m \u001b[43mmy_list\u001b[49m\u001b[38;5;241;43m.\u001b[39;49m\u001b[43mupper\u001b[49m()  \u001b[38;5;66;03m# AttributeError: 'list' object has no attribute 'upper'\u001b[39;00m\n",
      "\u001b[0;31mAttributeError\u001b[0m: 'list' object has no attribute 'upper'"
     ]
    }
   ],
   "source": [
    "my_list = [1, 2, 3]\n",
    "my_list.append(4)\n",
    "my_list.upper()  # AttributeError: 'list' object has no attribute 'upper'"
   ]
  },
  {
   "cell_type": "markdown",
   "id": "421403f7-665b-45a0-bff8-e5c4840df11b",
   "metadata": {
    "id": "bf313aca-d27d-47dc-99d5-31d979b0fc49"
   },
   "source": [
    "`ImportError`: 모듈을 임포트하는 과정에서 문제가 발생할 때 발생. 임포트하려는 모듈이 존재하지 않거나, 임포트 경로 설정이 잘못된 경우에 해당."
   ]
  },
  {
   "cell_type": "code",
   "execution_count": null,
   "id": "4b4584d0-9817-4b6d-87fa-e8a3f1c0f63c",
   "metadata": {
    "id": "26d3f7d9-5848-446d-b21d-0899ba8ae378",
    "outputId": "87eae0f4-39a7-46da-aa33-c299b07d2deb"
   },
   "outputs": [
    {
     "ename": "ModuleNotFoundError",
     "evalue": "No module named 'non_existent_module'",
     "output_type": "error",
     "traceback": [
      "\u001b[0;31m---------------------------------------------------------------------------\u001b[0m",
      "\u001b[0;31mModuleNotFoundError\u001b[0m                       Traceback (most recent call last)",
      "Cell \u001b[0;32mIn[33], line 1\u001b[0m\n\u001b[0;32m----> 1\u001b[0m \u001b[38;5;28;01mimport\u001b[39;00m \u001b[38;5;21;01mnon_existent_module\u001b[39;00m  \u001b[38;5;66;03m# ImportError: No module named 'non_existent_module'\u001b[39;00m\n",
      "\u001b[0;31mModuleNotFoundError\u001b[0m: No module named 'non_existent_module'"
     ]
    }
   ],
   "source": [
    "import non_existent_module  # ImportError: No module named 'non_existent_module'"
   ]
  },
  {
   "cell_type": "markdown",
   "id": "481a08b0-4e24-4516-a6c2-31f39e82c72e",
   "metadata": {
    "id": "eac8a083-ae98-454f-9048-3cba701b21cb"
   },
   "source": [
    "`IOError`: 파일 입출력 작업 중에 발생하는 에러. 파일이 존재하지 않거나, 파일에 쓰기 권한이 없는 경우 등에 해당."
   ]
  },
  {
   "cell_type": "code",
   "execution_count": null,
   "id": "3548f719-4d31-4b40-97eb-3cef86d54c8c",
   "metadata": {
    "id": "50ea1825-86e9-44e8-9167-003735a2b3e2",
    "outputId": "6b49cfbf-d95e-4ee8-829b-4e2af390cd1c"
   },
   "outputs": [
    {
     "ename": "FileNotFoundError",
     "evalue": "[Errno 2] No such file or directory: 'file.txt'",
     "output_type": "error",
     "traceback": [
      "\u001b[0;31m---------------------------------------------------------------------------\u001b[0m",
      "\u001b[0;31mFileNotFoundError\u001b[0m                         Traceback (most recent call last)",
      "Cell \u001b[0;32mIn[34], line 1\u001b[0m\n\u001b[0;32m----> 1\u001b[0m file \u001b[38;5;241m=\u001b[39m \u001b[38;5;28;43mopen\u001b[39;49m\u001b[43m(\u001b[49m\u001b[38;5;124;43m'\u001b[39;49m\u001b[38;5;124;43mfile.txt\u001b[39;49m\u001b[38;5;124;43m'\u001b[39;49m\u001b[43m,\u001b[49m\u001b[43m \u001b[49m\u001b[38;5;124;43m'\u001b[39;49m\u001b[38;5;124;43mr\u001b[39;49m\u001b[38;5;124;43m'\u001b[39;49m\u001b[43m)\u001b[49m  \u001b[38;5;66;03m# IOError: [Errno 2] No such file or directory: 'file.txt'\u001b[39;00m\n",
      "File \u001b[0;32m~/anaconda3/envs/py38/lib/python3.8/site-packages/IPython/core/interactiveshell.py:284\u001b[0m, in \u001b[0;36m_modified_open\u001b[0;34m(file, *args, **kwargs)\u001b[0m\n\u001b[1;32m    277\u001b[0m \u001b[38;5;28;01mif\u001b[39;00m file \u001b[38;5;129;01min\u001b[39;00m {\u001b[38;5;241m0\u001b[39m, \u001b[38;5;241m1\u001b[39m, \u001b[38;5;241m2\u001b[39m}:\n\u001b[1;32m    278\u001b[0m     \u001b[38;5;28;01mraise\u001b[39;00m \u001b[38;5;167;01mValueError\u001b[39;00m(\n\u001b[1;32m    279\u001b[0m         \u001b[38;5;124mf\u001b[39m\u001b[38;5;124m\"\u001b[39m\u001b[38;5;124mIPython won\u001b[39m\u001b[38;5;124m'\u001b[39m\u001b[38;5;124mt let you open fd=\u001b[39m\u001b[38;5;132;01m{\u001b[39;00mfile\u001b[38;5;132;01m}\u001b[39;00m\u001b[38;5;124m by default \u001b[39m\u001b[38;5;124m\"\u001b[39m\n\u001b[1;32m    280\u001b[0m         \u001b[38;5;124m\"\u001b[39m\u001b[38;5;124mas it is likely to crash IPython. If you know what you are doing, \u001b[39m\u001b[38;5;124m\"\u001b[39m\n\u001b[1;32m    281\u001b[0m         \u001b[38;5;124m\"\u001b[39m\u001b[38;5;124myou can use builtins\u001b[39m\u001b[38;5;124m'\u001b[39m\u001b[38;5;124m open.\u001b[39m\u001b[38;5;124m\"\u001b[39m\n\u001b[1;32m    282\u001b[0m     )\n\u001b[0;32m--> 284\u001b[0m \u001b[38;5;28;01mreturn\u001b[39;00m \u001b[43mio_open\u001b[49m\u001b[43m(\u001b[49m\u001b[43mfile\u001b[49m\u001b[43m,\u001b[49m\u001b[43m \u001b[49m\u001b[38;5;241;43m*\u001b[39;49m\u001b[43margs\u001b[49m\u001b[43m,\u001b[49m\u001b[43m \u001b[49m\u001b[38;5;241;43m*\u001b[39;49m\u001b[38;5;241;43m*\u001b[39;49m\u001b[43mkwargs\u001b[49m\u001b[43m)\u001b[49m\n",
      "\u001b[0;31mFileNotFoundError\u001b[0m: [Errno 2] No such file or directory: 'file.txt'"
     ]
    }
   ],
   "source": [
    "file = open('file.txt', 'r')  # IOError: [Errno 2] No such file or directory: 'file.txt'"
   ]
  },
  {
   "cell_type": "markdown",
   "id": "878ffd06-35b3-4408-bcde-f84eb9165b3b",
   "metadata": {
    "id": "d6667c56-ac2b-47be-b55b-d34ed587ab14"
   },
   "source": [
    "`KeyboardInterrupt`: 사용자가 프로그램의 실행을 중단할 때 발생."
   ]
  },
  {
   "cell_type": "code",
   "execution_count": null,
   "id": "cd2963f9-a435-413d-9499-9e047ae92965",
   "metadata": {
    "id": "e66466d3-cbfe-4b25-81db-b38f66026423",
    "outputId": "6cb3433e-c59b-4696-eed2-38e370b0781b"
   },
   "outputs": [
    {
     "ename": "KeyboardInterrupt",
     "evalue": "",
     "output_type": "error",
     "traceback": [
      "\u001b[0;31m---------------------------------------------------------------------------\u001b[0m",
      "\u001b[0;31mKeyboardInterrupt\u001b[0m                         Traceback (most recent call last)",
      "Cell \u001b[0;32mIn[137], line 2\u001b[0m\n\u001b[1;32m      1\u001b[0m \u001b[38;5;28;01mwhile\u001b[39;00m \u001b[38;5;28;01mTrue\u001b[39;00m:\n\u001b[0;32m----> 2\u001b[0m     \u001b[38;5;28;01mpass\u001b[39;00m  \u001b[38;5;66;03m# 무한 루프\u001b[39;00m\n\u001b[1;32m      3\u001b[0m \u001b[38;5;66;03m# KeyboardInterrupt: \u001b[39;00m\n",
      "\u001b[0;31mKeyboardInterrupt\u001b[0m: "
     ]
    }
   ],
   "source": [
    "while True:\n",
    "    pass  # 무한 루프\n",
    "# KeyboardInterrupt:\n"
   ]
  },
  {
   "cell_type": "markdown",
   "id": "6d74f683-67ce-4ff6-b743-a71c8b96eb21",
   "metadata": {
    "id": "726dff26-febd-40ea-b684-c3707a2b22a3"
   },
   "source": [
    "`IndexError`: 유효하지 않은 인덱스를 사용하여 시퀀스(리스트, 튜플, 문자열 등)의 요소에 접근하려고 할 때 발생."
   ]
  },
  {
   "cell_type": "code",
   "execution_count": null,
   "id": "db753ddf-ec56-4d57-b0a0-8d1001ef1454",
   "metadata": {
    "id": "2e5de641-9383-44f6-ab8f-9c0c96a166aa",
    "outputId": "509c8da5-c6e1-4beb-c19c-c0b25737ec35"
   },
   "outputs": [
    {
     "ename": "IndexError",
     "evalue": "list index out of range",
     "output_type": "error",
     "traceback": [
      "\u001b[0;31m---------------------------------------------------------------------------\u001b[0m",
      "\u001b[0;31mIndexError\u001b[0m                                Traceback (most recent call last)",
      "Cell \u001b[0;32mIn[27], line 2\u001b[0m\n\u001b[1;32m      1\u001b[0m my_list \u001b[38;5;241m=\u001b[39m [\u001b[38;5;241m1\u001b[39m, \u001b[38;5;241m2\u001b[39m, \u001b[38;5;241m3\u001b[39m]\n\u001b[0;32m----> 2\u001b[0m \u001b[38;5;28mprint\u001b[39m(\u001b[43mmy_list\u001b[49m\u001b[43m[\u001b[49m\u001b[38;5;241;43m5\u001b[39;49m\u001b[43m]\u001b[49m)  \u001b[38;5;66;03m# IndexError: list index out of range\u001b[39;00m\n",
      "\u001b[0;31mIndexError\u001b[0m: list index out of range"
     ]
    }
   ],
   "source": [
    "my_list = [1, 2, 3]\n",
    "print(my_list[5])  # IndexError: list index out of range"
   ]
  },
  {
   "cell_type": "markdown",
   "id": "fedecad4-ea71-4218-967b-dac9c5e0eb2f",
   "metadata": {
    "id": "53a5f614-7d6d-4dfe-9dcf-2585bb29318e"
   },
   "source": [
    "`KeyError`: 딕셔너리에서 존재하지 않는 키를 사용하여 요소에 접근하려고 할 때 발생."
   ]
  },
  {
   "cell_type": "code",
   "execution_count": null,
   "id": "425b14f2-ff42-4951-91d3-4f0d80f06aba",
   "metadata": {
    "id": "be04a2fc-ef62-4b60-85ea-ab4062f28ffa",
    "outputId": "292d0c9e-a34e-4c72-eff9-e36af11d1001"
   },
   "outputs": [
    {
     "ename": "KeyError",
     "evalue": "'address'",
     "output_type": "error",
     "traceback": [
      "\u001b[0;31m---------------------------------------------------------------------------\u001b[0m",
      "\u001b[0;31mKeyError\u001b[0m                                  Traceback (most recent call last)",
      "Cell \u001b[0;32mIn[28], line 2\u001b[0m\n\u001b[1;32m      1\u001b[0m my_dict \u001b[38;5;241m=\u001b[39m {\u001b[38;5;124m'\u001b[39m\u001b[38;5;124mname\u001b[39m\u001b[38;5;124m'\u001b[39m: \u001b[38;5;124m'\u001b[39m\u001b[38;5;124mJohn\u001b[39m\u001b[38;5;124m'\u001b[39m, \u001b[38;5;124m'\u001b[39m\u001b[38;5;124mage\u001b[39m\u001b[38;5;124m'\u001b[39m: \u001b[38;5;241m25\u001b[39m}\n\u001b[0;32m----> 2\u001b[0m \u001b[38;5;28mprint\u001b[39m(\u001b[43mmy_dict\u001b[49m\u001b[43m[\u001b[49m\u001b[38;5;124;43m'\u001b[39;49m\u001b[38;5;124;43maddress\u001b[39;49m\u001b[38;5;124;43m'\u001b[39;49m\u001b[43m]\u001b[49m)  \u001b[38;5;66;03m# KeyError: 'address'\u001b[39;00m\n",
      "\u001b[0;31mKeyError\u001b[0m: 'address'"
     ]
    }
   ],
   "source": [
    "my_dict = {'name': 'John', 'age': 25}\n",
    "print(my_dict['address'])  # KeyError: 'address'"
   ]
  },
  {
   "cell_type": "markdown",
   "id": "c829c57f-362f-490e-85ad-30ecf33d02e0",
   "metadata": {
    "id": "12b8446a-b595-4f8e-bfc5-896042f95957"
   },
   "source": [
    "`FileNotFoundError`: 존재하지 않는 파일을 열려고 할 때 발생."
   ]
  },
  {
   "cell_type": "code",
   "execution_count": null,
   "id": "a860c3c0-d65f-4202-aede-d0da8391003d",
   "metadata": {
    "id": "efda775f-2532-4bd9-8539-7e93d0a1fd42",
    "outputId": "129aaffc-8da3-47fa-9663-33ddbe310c51"
   },
   "outputs": [
    {
     "ename": "FileNotFoundError",
     "evalue": "[Errno 2] No such file or directory: 'nonexistent_file.txt'",
     "output_type": "error",
     "traceback": [
      "\u001b[0;31m---------------------------------------------------------------------------\u001b[0m",
      "\u001b[0;31mFileNotFoundError\u001b[0m                         Traceback (most recent call last)",
      "Cell \u001b[0;32mIn[29], line 1\u001b[0m\n\u001b[0;32m----> 1\u001b[0m file \u001b[38;5;241m=\u001b[39m \u001b[38;5;28;43mopen\u001b[39;49m\u001b[43m(\u001b[49m\u001b[38;5;124;43m'\u001b[39;49m\u001b[38;5;124;43mnonexistent_file.txt\u001b[39;49m\u001b[38;5;124;43m'\u001b[39;49m\u001b[43m)\u001b[49m  \u001b[38;5;66;03m# FileNotFoundError: [Errno 2] No such file or directory: 'nonexistent_file.txt'\u001b[39;00m\n",
      "File \u001b[0;32m~/anaconda3/envs/py38/lib/python3.8/site-packages/IPython/core/interactiveshell.py:284\u001b[0m, in \u001b[0;36m_modified_open\u001b[0;34m(file, *args, **kwargs)\u001b[0m\n\u001b[1;32m    277\u001b[0m \u001b[38;5;28;01mif\u001b[39;00m file \u001b[38;5;129;01min\u001b[39;00m {\u001b[38;5;241m0\u001b[39m, \u001b[38;5;241m1\u001b[39m, \u001b[38;5;241m2\u001b[39m}:\n\u001b[1;32m    278\u001b[0m     \u001b[38;5;28;01mraise\u001b[39;00m \u001b[38;5;167;01mValueError\u001b[39;00m(\n\u001b[1;32m    279\u001b[0m         \u001b[38;5;124mf\u001b[39m\u001b[38;5;124m\"\u001b[39m\u001b[38;5;124mIPython won\u001b[39m\u001b[38;5;124m'\u001b[39m\u001b[38;5;124mt let you open fd=\u001b[39m\u001b[38;5;132;01m{\u001b[39;00mfile\u001b[38;5;132;01m}\u001b[39;00m\u001b[38;5;124m by default \u001b[39m\u001b[38;5;124m\"\u001b[39m\n\u001b[1;32m    280\u001b[0m         \u001b[38;5;124m\"\u001b[39m\u001b[38;5;124mas it is likely to crash IPython. If you know what you are doing, \u001b[39m\u001b[38;5;124m\"\u001b[39m\n\u001b[1;32m    281\u001b[0m         \u001b[38;5;124m\"\u001b[39m\u001b[38;5;124myou can use builtins\u001b[39m\u001b[38;5;124m'\u001b[39m\u001b[38;5;124m open.\u001b[39m\u001b[38;5;124m\"\u001b[39m\n\u001b[1;32m    282\u001b[0m     )\n\u001b[0;32m--> 284\u001b[0m \u001b[38;5;28;01mreturn\u001b[39;00m \u001b[43mio_open\u001b[49m\u001b[43m(\u001b[49m\u001b[43mfile\u001b[49m\u001b[43m,\u001b[49m\u001b[43m \u001b[49m\u001b[38;5;241;43m*\u001b[39;49m\u001b[43margs\u001b[49m\u001b[43m,\u001b[49m\u001b[43m \u001b[49m\u001b[38;5;241;43m*\u001b[39;49m\u001b[38;5;241;43m*\u001b[39;49m\u001b[43mkwargs\u001b[49m\u001b[43m)\u001b[49m\n",
      "\u001b[0;31mFileNotFoundError\u001b[0m: [Errno 2] No such file or directory: 'nonexistent_file.txt'"
     ]
    }
   ],
   "source": [
    "file = open('nonexistent_file.txt')  # FileNotFoundError: [Errno 2] No such file or directory: 'nonexistent_file.txt'"
   ]
  },
  {
   "cell_type": "markdown",
   "id": "a899af9a-1d34-44c2-9c25-6f1d8c515458",
   "metadata": {
    "id": "5d4e1d23-7139-4142-89cd-510c23c62b54"
   },
   "source": [
    "`ZeroDivisionError`: 0으로 나누기 연산을 수행하려고 할 때 발생."
   ]
  },
  {
   "cell_type": "code",
   "execution_count": null,
   "id": "2c2b04c2-3e93-42b7-b849-78e6601adf10",
   "metadata": {
    "id": "bfb2b66c-ced4-4b84-b688-62e8770389f0",
    "outputId": "f844bdaf-671d-44f2-deef-816d88389694"
   },
   "outputs": [
    {
     "ename": "ZeroDivisionError",
     "evalue": "division by zero",
     "output_type": "error",
     "traceback": [
      "\u001b[0;31m---------------------------------------------------------------------------\u001b[0m",
      "\u001b[0;31mZeroDivisionError\u001b[0m                         Traceback (most recent call last)",
      "Cell \u001b[0;32mIn[30], line 1\u001b[0m\n\u001b[0;32m----> 1\u001b[0m result \u001b[38;5;241m=\u001b[39m \u001b[38;5;241;43m10\u001b[39;49m\u001b[43m \u001b[49m\u001b[38;5;241;43m/\u001b[39;49m\u001b[43m \u001b[49m\u001b[38;5;241;43m0\u001b[39;49m  \u001b[38;5;66;03m# ZeroDivisionError: division by zero\u001b[39;00m\n",
      "\u001b[0;31mZeroDivisionError\u001b[0m: division by zero"
     ]
    }
   ],
   "source": [
    "result = 10 / 0  # ZeroDivisionError: division by zero"
   ]
  },
  {
   "cell_type": "markdown",
   "id": "9e7fc894-9f41-4a1f-9f8c-78703fce8435",
   "metadata": {
    "id": "720abbc9-e041-44e7-8120-b20a236ed29a"
   },
   "source": [
    "## B. `TypeError`에 대한 심층분석"
   ]
  },
  {
   "cell_type": "markdown",
   "id": "bdcf184a-db30-4dd2-a849-51bd77b9b0bf",
   "metadata": {
    "id": "ce25c7d9-04fc-46c5-9a84-ddd89f24589c"
   },
   "source": [
    "`-` `.__add__` 가 올바르게 정의되지 않아서 생기는 경우"
   ]
  },
  {
   "cell_type": "markdown",
   "id": "b40ee464-c635-4724-943c-741d89fe734b",
   "metadata": {
    "id": "cfa1e262-bbb9-47aa-a59f-bb7939dd7258"
   },
   "source": [
    "```\n",
    "---------------------------------------------------------------------------\n",
    "TypeError                                 Traceback (most recent call last)\n",
    "Cell In[37], line 1\n",
    "----> 1 boram + '등록'+ '휴학' + '등록' + '휴학'\n",
    "\n",
    "TypeError: unsupported operand type(s) for +: 'NoneType' and 'str'\n",
    "```"
   ]
  },
  {
   "cell_type": "markdown",
   "id": "a5a51918-7489-4e86-8b13-296d7e262ac6",
   "metadata": {
    "id": "7789d9d3-275f-4346-b4c9-006fd2e7556e"
   },
   "source": [
    "`-` `.__getitem__`이 정의되지 않은 오브젝트에서 인덱싱을 시도할때 생기는 오류"
   ]
  },
  {
   "cell_type": "markdown",
   "id": "8413848b-e23e-4f9f-994c-fc733079c13e",
   "metadata": {
    "id": "9ebb0ed2-a61f-4a7a-aa43-e871a5a2ca2d"
   },
   "source": [
    "```\n",
    "---------------------------------------------------------------------------\n",
    "TypeError                                 Traceback (most recent call last)\n",
    "Cell In[57], line 1\n",
    "----> 1 a[0], a[1]\n",
    "\n",
    "TypeError: 'RPS' object is not subscriptable\n",
    "```"
   ]
  },
  {
   "cell_type": "markdown",
   "id": "b2e978bb-2b3c-4de9-8359-40bc550da4c6",
   "metadata": {
    "id": "13859990-0eed-4034-a3c6-7a269b9fd05a"
   },
   "source": [
    "`-` `.__setitem__`이 정의되지 않은 오브젝트에서 할당을 시도할때 생기는 오류"
   ]
  },
  {
   "cell_type": "markdown",
   "id": "4e615d72-772f-4aa5-b147-b2142f3a4d01",
   "metadata": {
    "id": "db0b424e-3e87-4fbd-abec-82fb73843e36"
   },
   "source": [
    "```\n",
    "---------------------------------------------------------------------------\n",
    "TypeError                                 Traceback (most recent call last)\n",
    "Cell In[77], line 1\n",
    "----> 1 a[0] = '보'\n",
    "\n",
    "TypeError: 'RPS2' object does not support item assignment\n",
    "```"
   ]
  },
  {
   "cell_type": "markdown",
   "id": "83484c57-1b22-47fe-acba-a3d1d5a01a43",
   "metadata": {
    "id": "7d952dce-6ddf-4200-b0e1-294b78d7a887"
   },
   "source": [
    "`-` `.__len__` 이 정의되지 않은 오브젝트에서 len을 이용할때 생기는 오류"
   ]
  },
  {
   "cell_type": "markdown",
   "id": "eb72c772-e99f-426c-ac77-12825e2be6e4",
   "metadata": {
    "id": "09560a46-1807-4e72-b764-b18e424405f9"
   },
   "source": [
    "```\n",
    "---------------------------------------------------------------------------\n",
    "TypeError                                 Traceback (most recent call last)\n",
    "Cell In[122], line 1\n",
    "----> 1 len(a)\n",
    "\n",
    "TypeError: object of type 'RPS3' has no len()\n",
    "\n",
    "```"
   ]
  },
  {
   "cell_type": "markdown",
   "id": "a26ea1ea-93fc-4d2e-8bfa-cf62e6602f08",
   "metadata": {
    "id": "95e7aa4a-85f1-4c0a-9eb2-4ddccb15d0a0"
   },
   "source": [
    "`-` `.__call__`이 정의되지 않은 오브젝트를 함수처럼 이용하려 할때 생기는 오류"
   ]
  },
  {
   "cell_type": "markdown",
   "id": "c88d411a-0907-407c-be2c-d38f1bd1d757",
   "metadata": {
    "id": "afeaab09-6ae0-4cd5-90ac-76d0f9fbeb83"
   },
   "source": [
    "```\n",
    "---------------------------------------------------------------------------\n",
    "TypeError                                 Traceback (most recent call last)\n",
    "Cell In[402], line 1\n",
    "----> 1 a()\n",
    "\n",
    "TypeError: 'Klass' object is not callable\n",
    "```"
   ]
  },
  {
   "cell_type": "markdown",
   "id": "66a85cfc-44d6-465e-8a98-7c1fc7ed72ea",
   "metadata": {
    "id": "fc16717b-1949-4026-8896-8971550af52c"
   },
   "source": [
    "`-` `.__iter__`가 정의되지 않은 오브젝트를 iterable 오브젝트처럼 사용하려 할때 생기는 오류"
   ]
  },
  {
   "cell_type": "markdown",
   "id": "423ae82b-56a9-4fbf-984d-a57235a92632",
   "metadata": {
    "id": "3db44ce5-9f0d-4c28-b459-c7f779c88049"
   },
   "source": [
    "```\n",
    "---------------------------------------------------------------------------\n",
    "TypeError                                 Traceback (most recent call last)\n",
    "Cell In[422], line 2\n",
    "      1 a=5\n",
    "----> 2 for i in a:\n",
    "      3     print(i)\n",
    "\n",
    "TypeError: 'int' object is not iterable\n",
    "```"
   ]
  }
 ],
 "metadata": {
  "kernelspec": {
   "display_name": "Python 3 (ipykernel)",
   "language": "python",
   "name": "python3"
  },
  "language_info": {
   "codemirror_mode": {
    "name": "ipython",
    "version": 3
   },
   "file_extension": ".py",
   "mimetype": "text/x-python",
   "name": "python",
   "nbconvert_exporter": "python",
   "pygments_lexer": "ipython3",
   "version": "3.10.13"
  }
 },
 "nbformat": 4,
 "nbformat_minor": 5
}
