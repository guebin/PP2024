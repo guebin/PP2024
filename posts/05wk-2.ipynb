{
 "cells": [
  {
   "cell_type": "raw",
   "id": "94a10daa-e302-461e-ad36-b6432ec09681",
   "metadata": {},
   "source": [
    "---\n",
    "title: \"05wk-2: 파이썬의 자료형 (2)\"\n",
    "author: \"최규빈\"\n",
    "date: \"03/29/2024\"\n",
    "draft: false\n",
    "---"
   ]
  },
  {
   "cell_type": "markdown",
   "id": "51a01183-1cfe-473e-9a26-2582f128514f",
   "metadata": {
    "id": "e67ab8e0"
   },
   "source": [
    "<a href=\"https://colab.research.google.com/github/guebin/PP2024/blob/main/posts/05wk-2.ipynb\"><img src=\"https://colab.research.google.com/assets/colab-badge.svg\" style=\"text-align: left\"></a>"
   ]
  },
  {
   "cell_type": "markdown",
   "id": "f2e8ba4a-32eb-4afc-ba12-92a2e46ca75a",
   "metadata": {},
   "source": [
    "# 3. `tuple`"
   ]
  },
  {
   "cell_type": "markdown",
   "id": "41ba796f-799f-4b78-8d57-bf43fa6e88dd",
   "metadata": {},
   "source": [
    "## A. 리스트 vs 튜플 "
   ]
  },
  {
   "cell_type": "markdown",
   "id": "9fef7487-e527-45e5-986c-f94f6d2de1e0",
   "metadata": {},
   "source": [
    "`-` 컨테이너형타입이라는 점, 그리고 연산 및 인덱싱을 하는 방법은 리스트와 같음 \n",
    "- 차이점1: [] 대신에 ()를 사용한다. \n",
    "- 차이점2: 불변형이다. (원소의 값을 바꿀 수 없음) \n",
    "- 차이점3: 하나의 원소를 선언할 때는 (1,)와 같이 해야 한다.\n",
    "- 차이점4: 의미가 명확할때는 튜플의 ()를 생략가능하다. "
   ]
  },
  {
   "cell_type": "markdown",
   "id": "c272d39f-0a7a-49e4-af99-c8320c841075",
   "metadata": {},
   "source": [
    "`-` 컨테이너형이라는 것이 무슨의미? "
   ]
  },
  {
   "cell_type": "code",
   "execution_count": 235,
   "id": "b41777cd-5965-4b2d-9c2b-cccc437a00d8",
   "metadata": {},
   "outputs": [],
   "source": [
    "a=(4,6,'pencil', 3.2+4.6j, [3,4]) "
   ]
  },
  {
   "cell_type": "code",
   "execution_count": 236,
   "id": "4fe72afc-6d27-49f8-a970-aa17288fc3c4",
   "metadata": {},
   "outputs": [
    {
     "data": {
      "text/plain": [
       "str"
      ]
     },
     "execution_count": 236,
     "metadata": {},
     "output_type": "execute_result"
    }
   ],
   "source": [
    "type(a[2])"
   ]
  },
  {
   "cell_type": "code",
   "execution_count": 237,
   "id": "b818c72e-dbe6-4753-adc1-df6b188012b6",
   "metadata": {},
   "outputs": [
    {
     "data": {
      "text/plain": [
       "complex"
      ]
     },
     "execution_count": 237,
     "metadata": {},
     "output_type": "execute_result"
    }
   ],
   "source": [
    "type(a[3])"
   ]
  },
  {
   "cell_type": "markdown",
   "id": "c80885dc-9b9e-423b-98a5-23e384b04725",
   "metadata": {},
   "source": [
    "`-` 불변형이라는 것은 무슨의미? "
   ]
  },
  {
   "cell_type": "code",
   "execution_count": 13,
   "id": "d5be26d7-c809-4e28-aa51-0e4e5e4fbb32",
   "metadata": {},
   "outputs": [
    {
     "ename": "TypeError",
     "evalue": "'tuple' object does not support item assignment",
     "output_type": "error",
     "traceback": [
      "\u001b[0;31m---------------------------------------------------------------------------\u001b[0m",
      "\u001b[0;31mTypeError\u001b[0m                                 Traceback (most recent call last)",
      "Input \u001b[0;32mIn [13]\u001b[0m, in \u001b[0;36m<cell line: 1>\u001b[0;34m()\u001b[0m\n\u001b[0;32m----> 1\u001b[0m a[\u001b[38;5;241m2\u001b[39m] \u001b[38;5;241m=\u001b[39m \u001b[38;5;124m'\u001b[39m\u001b[38;5;124mPencil\u001b[39m\u001b[38;5;124m'\u001b[39m\n",
      "\u001b[0;31mTypeError\u001b[0m: 'tuple' object does not support item assignment"
     ]
    }
   ],
   "source": [
    "a[2] = 'Pencil'"
   ]
  },
  {
   "cell_type": "markdown",
   "id": "ebc748d7-58c2-45d0-ac37-dd1e61380547",
   "metadata": {},
   "source": [
    "참고로 a를 튜플이 아니라 리스트로 선언하면 값이 잘 바뀐다. "
   ]
  },
  {
   "cell_type": "code",
   "execution_count": 14,
   "id": "0739826e-5b0a-4818-b907-2e4650418339",
   "metadata": {},
   "outputs": [],
   "source": [
    "a=[4,6,'pencil', 3.2+4.6j, [3,4]]"
   ]
  },
  {
   "cell_type": "code",
   "execution_count": 15,
   "id": "e61aa197-69c2-448a-8614-573458096be5",
   "metadata": {},
   "outputs": [
    {
     "data": {
      "text/plain": [
       "'pencil'"
      ]
     },
     "execution_count": 15,
     "metadata": {},
     "output_type": "execute_result"
    }
   ],
   "source": [
    "a[2]"
   ]
  },
  {
   "cell_type": "code",
   "execution_count": 16,
   "id": "4d0ec6aa-8a10-437b-9cb3-6f53441a8cc4",
   "metadata": {},
   "outputs": [],
   "source": [
    "a[2]='Pencil'"
   ]
  },
  {
   "cell_type": "code",
   "execution_count": 17,
   "id": "4879a778-6e95-45a1-8a61-f7d576e1d9f6",
   "metadata": {},
   "outputs": [
    {
     "data": {
      "text/plain": [
       "[4, 6, 'Pencil', (3.2+4.6j), [3, 4]]"
      ]
     },
     "execution_count": 17,
     "metadata": {},
     "output_type": "execute_result"
    }
   ],
   "source": [
    "a"
   ]
  },
  {
   "cell_type": "markdown",
   "id": "1b40b188-4435-4740-a24d-f085145decc5",
   "metadata": {},
   "source": [
    "`-` 하나의 원소로 이루어진 튜플을 만들때는 쉼표를 붙여야 함. "
   ]
  },
  {
   "cell_type": "code",
   "execution_count": 238,
   "id": "6df77a7d-b0de-4911-abed-cddf5b8dbc92",
   "metadata": {},
   "outputs": [
    {
     "data": {
      "text/plain": [
       "[1, 2, 3, 4]"
      ]
     },
     "execution_count": 238,
     "metadata": {},
     "output_type": "execute_result"
    }
   ],
   "source": [
    "[1]+[2,3,4]"
   ]
  },
  {
   "cell_type": "code",
   "execution_count": 239,
   "id": "e29f8013-430f-428f-b53b-b35149eebf6c",
   "metadata": {},
   "outputs": [
    {
     "data": {
      "text/plain": [
       "(1, 2, 3, 4)"
      ]
     },
     "execution_count": 239,
     "metadata": {},
     "output_type": "execute_result"
    }
   ],
   "source": [
    "(1,)+(2,3,4)"
   ]
  },
  {
   "cell_type": "markdown",
   "id": "839c85d8-485c-4dca-8843-c48448b67fcb",
   "metadata": {},
   "source": [
    "`-` 마지막차이점! 의미가 명확할때 튜플의 괄호는 생략가능하다. (이게 중요합니다) "
   ]
  },
  {
   "cell_type": "code",
   "execution_count": 26,
   "id": "19ee581e-106d-4e7a-a802-98a7f21b5ee7",
   "metadata": {},
   "outputs": [
    {
     "data": {
      "text/plain": [
       "(1, 2)"
      ]
     },
     "execution_count": 26,
     "metadata": {},
     "output_type": "execute_result"
    }
   ],
   "source": [
    "a=1,2\n",
    "a"
   ]
  },
  {
   "cell_type": "markdown",
   "id": "42827745-efc1-4c97-9de6-be016a396b91",
   "metadata": {},
   "source": [
    "의미가 명확할때 생략해야함 "
   ]
  },
  {
   "cell_type": "code",
   "execution_count": 240,
   "id": "df0edcc4-caa3-4f35-8392-448b583ac803",
   "metadata": {},
   "outputs": [
    {
     "data": {
      "text/plain": [
       "(1, 5, 4, 5)"
      ]
     },
     "execution_count": 240,
     "metadata": {},
     "output_type": "execute_result"
    }
   ],
   "source": [
    "1,2 + 3,4,5 "
   ]
  },
  {
   "cell_type": "code",
   "execution_count": 241,
   "id": "53604559-e361-4ef8-b1be-0b2452d67721",
   "metadata": {},
   "outputs": [
    {
     "data": {
      "text/plain": [
       "(1, 2, 3, 4, 5)"
      ]
     },
     "execution_count": 241,
     "metadata": {},
     "output_type": "execute_result"
    }
   ],
   "source": [
    "(1,2) + (3,4,5) "
   ]
  },
  {
   "cell_type": "markdown",
   "id": "9b7f0073-7990-412f-9b76-e6815c84564e",
   "metadata": {},
   "source": [
    "## B. 선언 "
   ]
  },
  {
   "cell_type": "markdown",
   "id": "b8c3d545-0748-429a-bf43-ee9f89c29254",
   "metadata": {},
   "source": [
    "`-` 소괄호를 이용 "
   ]
  },
  {
   "cell_type": "code",
   "execution_count": 35,
   "id": "41f454ca-311c-460f-9dec-95b85192aaa1",
   "metadata": {},
   "outputs": [
    {
     "data": {
      "text/plain": [
       "(1, 2, 3)"
      ]
     },
     "execution_count": 35,
     "metadata": {},
     "output_type": "execute_result"
    }
   ],
   "source": [
    "a=(1,2,3)\n",
    "a"
   ]
  },
  {
   "cell_type": "code",
   "execution_count": 36,
   "id": "ad7b85f5-1384-4e93-8f30-0587da48cf76",
   "metadata": {},
   "outputs": [
    {
     "data": {
      "text/plain": [
       "tuple"
      ]
     },
     "execution_count": 36,
     "metadata": {},
     "output_type": "execute_result"
    }
   ],
   "source": [
    "type(a)"
   ]
  },
  {
   "cell_type": "markdown",
   "id": "dbe9bab2-9766-457d-a907-46e97f0ffcda",
   "metadata": {},
   "source": [
    "`-` 생략가능하다는 점이 포인트 "
   ]
  },
  {
   "cell_type": "code",
   "execution_count": 37,
   "id": "4420d25a-dbcc-423a-b83b-072ed2660cbb",
   "metadata": {},
   "outputs": [
    {
     "data": {
      "text/plain": [
       "(1, 2, 3)"
      ]
     },
     "execution_count": 37,
     "metadata": {},
     "output_type": "execute_result"
    }
   ],
   "source": [
    "a=1,2,3\n",
    "a"
   ]
  },
  {
   "cell_type": "code",
   "execution_count": 38,
   "id": "7528cc25-20e5-42b7-a988-a705e1a141d0",
   "metadata": {},
   "outputs": [
    {
     "data": {
      "text/plain": [
       "tuple"
      ]
     },
     "execution_count": 38,
     "metadata": {},
     "output_type": "execute_result"
    }
   ],
   "source": [
    "type(a)"
   ]
  },
  {
   "cell_type": "markdown",
   "id": "8ca8b3d1-a0e7-4cf7-9cd9-78f05db10f57",
   "metadata": {},
   "source": [
    "`-` 원소가 하나인 튜플을 만들고 싶다면? "
   ]
  },
  {
   "cell_type": "code",
   "execution_count": 39,
   "id": "133cbbc2-7ae8-480d-8ebb-8ffd8828ecaa",
   "metadata": {},
   "outputs": [
    {
     "data": {
      "text/plain": [
       "(1,)"
      ]
     },
     "execution_count": 39,
     "metadata": {},
     "output_type": "execute_result"
    }
   ],
   "source": [
    "a=(1,)\n",
    "a"
   ]
  },
  {
   "cell_type": "markdown",
   "id": "30eb1e30-8ff4-4971-98bd-76df5dd11557",
   "metadata": {},
   "source": [
    "## C. 연산 "
   ]
  },
  {
   "cell_type": "markdown",
   "id": "8ffd7e61-2dbb-450e-a5a0-23fbb25825e0",
   "metadata": {},
   "source": [
    "`-` 리스트와 동일 "
   ]
  },
  {
   "cell_type": "code",
   "execution_count": 40,
   "id": "389ec2fe-2925-48f7-9819-6f58840669ac",
   "metadata": {},
   "outputs": [
    {
     "data": {
      "text/plain": [
       "(1, 2, 3, 4, 5)"
      ]
     },
     "execution_count": 40,
     "metadata": {},
     "output_type": "execute_result"
    }
   ],
   "source": [
    "(1,2)+(3,4,5)"
   ]
  },
  {
   "cell_type": "code",
   "execution_count": 41,
   "id": "ad1163a8-954e-40a9-91fc-ca7cd4918a40",
   "metadata": {},
   "outputs": [
    {
     "data": {
      "text/plain": [
       "(1, 2, 1, 2)"
      ]
     },
     "execution_count": 41,
     "metadata": {},
     "output_type": "execute_result"
    }
   ],
   "source": [
    "(1,2)*2"
   ]
  },
  {
   "cell_type": "markdown",
   "id": "a34c9d71-f645-43cb-8a66-156d650bb965",
   "metadata": {},
   "source": [
    "## D. 인덱싱 "
   ]
  },
  {
   "cell_type": "markdown",
   "id": "d2e2dc8f-db7d-4830-a58b-3619bbde866b",
   "metadata": {},
   "source": [
    "`-` 리스트와 동일 "
   ]
  },
  {
   "cell_type": "code",
   "execution_count": 42,
   "id": "0fc41a94-fd72-458c-adb3-80864b39109f",
   "metadata": {},
   "outputs": [
    {
     "data": {
      "text/plain": [
       "(1, 2, 3, -4, -5)"
      ]
     },
     "execution_count": 42,
     "metadata": {},
     "output_type": "execute_result"
    }
   ],
   "source": [
    "a=(1,2,3,-4,-5)\n",
    "a"
   ]
  },
  {
   "cell_type": "code",
   "execution_count": 43,
   "id": "7b38c69c-2b18-452f-bb4a-a8c6ed2a2bb3",
   "metadata": {},
   "outputs": [
    {
     "data": {
      "text/plain": [
       "-5"
      ]
     },
     "execution_count": 43,
     "metadata": {},
     "output_type": "execute_result"
    }
   ],
   "source": [
    "a[-1]"
   ]
  },
  {
   "cell_type": "code",
   "execution_count": 44,
   "id": "2a1945aa-46e8-4838-b852-1ab2fcc3f4f8",
   "metadata": {},
   "outputs": [
    {
     "data": {
      "text/plain": [
       "(3, -4, -5)"
      ]
     },
     "execution_count": 44,
     "metadata": {},
     "output_type": "execute_result"
    }
   ],
   "source": [
    "a[-3:]"
   ]
  },
  {
   "cell_type": "markdown",
   "id": "81b3bc00-db1f-40a9-b9e0-7afc21c6ce6d",
   "metadata": {},
   "source": [
    "## E. 슬기로운 튜플사용 "
   ]
  },
  {
   "cell_type": "markdown",
   "id": "8a1ea657-a6b7-48bd-9828-bb4f43b78817",
   "metadata": {},
   "source": [
    "`-` 튜플은 쓸모없어 보임 (리스트면 충분한것 아닌가?)"
   ]
  },
  {
   "cell_type": "markdown",
   "id": "53546dda-e751-4b02-9251-b3facce0435d",
   "metadata": {},
   "source": [
    "`-` 책의 설명 (이 설명이 꼭 파이썬에 한정되는 것은 아님. 모든 언어에 존재하는 불변형 객체에 적용가능한 설명)\n",
    "\n",
    "- 실수방지 \n",
    "- 빠르다, 다중작업에 유리하다, 여러사람과 작업하기에 유리하다, 깊은복사/얕은복사시 원하지않는 오류(side effect이라고 함)를 방지할 수 있다, 메모리관리에도 유리함... \n",
    "- 느낌: 불변형은 기능제한이 있는데 가볍고 빠른, 가변형은 기능은 풍부하지만 약간 느리고 무거운 느낌임 (불변형:라면사리, 가변형:라면) "
   ]
  },
  {
   "cell_type": "markdown",
   "id": "93c6e5a2-3713-41b9-a580-b67bacd36e22",
   "metadata": {},
   "source": [
    "`-` 예제: 여러변수를 동시에 출력하고 싶을 경우 (다중출력?)"
   ]
  },
  {
   "cell_type": "markdown",
   "id": "38032f55-ab5d-43a1-bbbe-1b9bf0b001dd",
   "metadata": {},
   "source": [
    "변수를 아래와 같이 선언하였다고 하자. "
   ]
  },
  {
   "cell_type": "code",
   "execution_count": 18,
   "id": "53aeaa95-f880-40d2-b648-fffa02e9038f",
   "metadata": {},
   "outputs": [],
   "source": [
    "a=1\n",
    "b=2\n",
    "c=3"
   ]
  },
  {
   "cell_type": "markdown",
   "id": "1ca33e73-eb99-40c7-a2ff-9d89513bff2e",
   "metadata": {},
   "source": [
    "선언된 값을 확인하려면? "
   ]
  },
  {
   "cell_type": "code",
   "execution_count": 19,
   "id": "1e0a6142-bd09-4df1-9772-c3518ace7657",
   "metadata": {},
   "outputs": [
    {
     "data": {
      "text/plain": [
       "1"
      ]
     },
     "execution_count": 19,
     "metadata": {},
     "output_type": "execute_result"
    }
   ],
   "source": [
    "a"
   ]
  },
  {
   "cell_type": "code",
   "execution_count": 20,
   "id": "cc5905ac-fabe-458e-98ae-8b70d135e66c",
   "metadata": {},
   "outputs": [
    {
     "data": {
      "text/plain": [
       "2"
      ]
     },
     "execution_count": 20,
     "metadata": {},
     "output_type": "execute_result"
    }
   ],
   "source": [
    "b"
   ]
  },
  {
   "cell_type": "code",
   "execution_count": 21,
   "id": "9f87a7c7-ea4c-4664-9e8a-8aeb92bd82fb",
   "metadata": {},
   "outputs": [
    {
     "data": {
      "text/plain": [
       "3"
      ]
     },
     "execution_count": 21,
     "metadata": {},
     "output_type": "execute_result"
    }
   ],
   "source": [
    "c"
   ]
  },
  {
   "cell_type": "markdown",
   "id": "5374f9b6-d86b-42f5-ae54-a5b2f7f86485",
   "metadata": {},
   "source": [
    "튜플을 이용하면? "
   ]
  },
  {
   "cell_type": "code",
   "execution_count": 22,
   "id": "bfbad993-2ce2-49ba-897f-1c6458cc8a05",
   "metadata": {},
   "outputs": [
    {
     "data": {
      "text/plain": [
       "(1, 2, 3)"
      ]
     },
     "execution_count": 22,
     "metadata": {},
     "output_type": "execute_result"
    }
   ],
   "source": [
    "a,b,c # 괄호하나 생략하는것이 이렇게 편하다.."
   ]
  },
  {
   "cell_type": "markdown",
   "id": "e475cc1e-550f-4b35-b91f-f4f2d862ae8b",
   "metadata": {},
   "source": [
    "`-` 예제: 다중할당1 (여러개의 변수를 동시에 선언하고 싶을 경우) "
   ]
  },
  {
   "cell_type": "code",
   "execution_count": 23,
   "id": "bcdbcee6-6f47-4e11-bc0d-817e71cd26ab",
   "metadata": {},
   "outputs": [],
   "source": [
    "name, age, sex, height, weight = 'Tom', 20, 'M', 180, 70 "
   ]
  },
  {
   "cell_type": "code",
   "execution_count": 24,
   "id": "0f4ed777-938f-4041-8f54-f0d954d52def",
   "metadata": {},
   "outputs": [
    {
     "data": {
      "text/plain": [
       "('Tom', 20, 'M', 180, 70)"
      ]
     },
     "execution_count": 24,
     "metadata": {},
     "output_type": "execute_result"
    }
   ],
   "source": [
    "name, age, sex, height, weight"
   ]
  },
  {
   "cell_type": "code",
   "execution_count": 25,
   "id": "0a6a8dbb-b2cc-49b3-b43a-af6d9b04c743",
   "metadata": {},
   "outputs": [
    {
     "data": {
      "text/plain": [
       "180"
      ]
     },
     "execution_count": 25,
     "metadata": {},
     "output_type": "execute_result"
    }
   ],
   "source": [
    "height"
   ]
  },
  {
   "cell_type": "markdown",
   "id": "6483953c-129d-4e05-8b62-982def613563",
   "metadata": {},
   "source": [
    "`-` 예제: 다중할당2, 위도와 경도"
   ]
  },
  {
   "cell_type": "code",
   "execution_count": 26,
   "id": "15d2c7a0-9382-4ba0-8ad9-346c60761bc9",
   "metadata": {},
   "outputs": [
    {
     "data": {
      "text/plain": [
       "(37, 127)"
      ]
     },
     "execution_count": 26,
     "metadata": {},
     "output_type": "execute_result"
    }
   ],
   "source": [
    "coor = (37,127) # 서울 \n",
    "coor"
   ]
  },
  {
   "cell_type": "code",
   "execution_count": 27,
   "id": "3feb9df0-2daf-449f-9de4-21afdc2eba98",
   "metadata": {},
   "outputs": [],
   "source": [
    "lat, long = coor"
   ]
  },
  {
   "cell_type": "code",
   "execution_count": 28,
   "id": "69e612c9-5348-467a-85a9-eaa3c5008b38",
   "metadata": {},
   "outputs": [
    {
     "data": {
      "text/plain": [
       "37"
      ]
     },
     "execution_count": 28,
     "metadata": {},
     "output_type": "execute_result"
    }
   ],
   "source": [
    "lat "
   ]
  },
  {
   "cell_type": "code",
   "execution_count": 29,
   "id": "5c99462c-156d-4ddc-89e4-9b05c74a818b",
   "metadata": {},
   "outputs": [
    {
     "data": {
      "text/plain": [
       "127"
      ]
     },
     "execution_count": 29,
     "metadata": {},
     "output_type": "execute_result"
    }
   ],
   "source": [
    "long "
   ]
  },
  {
   "cell_type": "markdown",
   "id": "55868c48-1c94-4772-98a7-86426c10a206",
   "metadata": {},
   "source": [
    "`-` 잠깐만: 다중할당은 꼭 튜플에서만 가능한가? "
   ]
  },
  {
   "cell_type": "markdown",
   "id": "d490b7ae-01c4-4b6f-be0f-3acb7f9ccdff",
   "metadata": {},
   "source": [
    "그건 아니다... "
   ]
  },
  {
   "cell_type": "code",
   "execution_count": 30,
   "id": "843945e3-05e9-4d09-b533-7f828464d7eb",
   "metadata": {},
   "outputs": [
    {
     "data": {
      "text/plain": [
       "(1, 2, 3)"
      ]
     },
     "execution_count": 30,
     "metadata": {},
     "output_type": "execute_result"
    }
   ],
   "source": [
    "[x,y,z] = [1,2,3] \n",
    "x,y,z # 다중출력 "
   ]
  },
  {
   "cell_type": "code",
   "execution_count": 31,
   "id": "e2679aac-d750-4b7f-9c45-716a3f10a391",
   "metadata": {},
   "outputs": [
    {
     "data": {
      "text/plain": [
       "('h', 'i')"
      ]
     },
     "execution_count": 31,
     "metadata": {},
     "output_type": "execute_result"
    }
   ],
   "source": [
    "[x,y] = 'hi'\n",
    "x,y "
   ]
  },
  {
   "cell_type": "markdown",
   "id": "05472355-0f89-4183-b9e7-a162d866263c",
   "metadata": {},
   "source": [
    "튜플과 같이 사용하면 가독성이 극대화 (그래서 다중할당은 거의 튜플과 세트로 사용함) "
   ]
  },
  {
   "cell_type": "code",
   "execution_count": 32,
   "id": "e2cb2877-9519-4702-b843-e8f922c0bd9b",
   "metadata": {},
   "outputs": [
    {
     "data": {
      "text/plain": [
       "(1, 2, 3)"
      ]
     },
     "execution_count": 32,
     "metadata": {},
     "output_type": "execute_result"
    }
   ],
   "source": [
    "x,y,z = 1,2,3\n",
    "x,y,z # 다중출력 "
   ]
  },
  {
   "cell_type": "code",
   "execution_count": 33,
   "id": "0a88fe42-887a-4da7-a90a-9853aeb3660b",
   "metadata": {},
   "outputs": [
    {
     "data": {
      "text/plain": [
       "('h', 'i')"
      ]
     },
     "execution_count": 33,
     "metadata": {},
     "output_type": "execute_result"
    }
   ],
   "source": [
    "x,y = 'hi'\n",
    "x,y "
   ]
  },
  {
   "cell_type": "markdown",
   "id": "5b9db81e-8195-4a18-a38e-0f0ec5705eaa",
   "metadata": {},
   "source": [
    "`-` 예제: 임시변수 사용없이 두 변수의 값을 교환 "
   ]
  },
  {
   "cell_type": "code",
   "execution_count": 34,
   "id": "13e193a7-94cf-4c2b-9c1c-2156b3d75dd9",
   "metadata": {},
   "outputs": [],
   "source": [
    "a=10\n",
    "b=20"
   ]
  },
  {
   "cell_type": "code",
   "execution_count": 35,
   "id": "f3ec2f5e-8c40-400b-bfbd-90324f1c6320",
   "metadata": {},
   "outputs": [],
   "source": [
    "a,b = b,a "
   ]
  },
  {
   "cell_type": "code",
   "execution_count": 36,
   "id": "7ab13183-89d3-4620-b249-549839441307",
   "metadata": {},
   "outputs": [
    {
     "data": {
      "text/plain": [
       "20"
      ]
     },
     "execution_count": 36,
     "metadata": {},
     "output_type": "execute_result"
    }
   ],
   "source": [
    "a"
   ]
  },
  {
   "cell_type": "code",
   "execution_count": 37,
   "id": "363dade9-b6ab-4710-9416-2c0678d70a98",
   "metadata": {},
   "outputs": [
    {
     "data": {
      "text/plain": [
       "10"
      ]
     },
     "execution_count": 37,
     "metadata": {},
     "output_type": "execute_result"
    }
   ],
   "source": [
    "b"
   ]
  },
  {
   "cell_type": "markdown",
   "id": "87a35913-f16a-40c4-8f30-b8e3e1171c72",
   "metadata": {},
   "source": [
    "`-` 예제: for문과 튜플"
   ]
  },
  {
   "cell_type": "code",
   "execution_count": 38,
   "id": "4c1a47b0-d247-4139-aeff-bd14403498a3",
   "metadata": {},
   "outputs": [
    {
     "data": {
      "text/plain": [
       "[['guebin', 202112345, 'M'],\n",
       " ['iu', 202254321, 'F'],\n",
       " ['hodong', 202011223, 'M']]"
      ]
     },
     "execution_count": 38,
     "metadata": {},
     "output_type": "execute_result"
    }
   ],
   "source": [
    "lst = [['guebin', 202112345, 'M'],\n",
    "       ['iu',202254321, 'F'],\n",
    "       ['hodong', 202011223, 'M']]\n",
    "lst"
   ]
  },
  {
   "cell_type": "code",
   "execution_count": 39,
   "id": "e977029c-5030-417a-9aff-8cee828383bf",
   "metadata": {},
   "outputs": [
    {
     "name": "stdout",
     "output_type": "stream",
     "text": [
      "guebin M\n",
      "iu F\n",
      "hodong M\n"
     ]
    }
   ],
   "source": [
    "for name,studentid,sex in lst: \n",
    "    print(name,sex)"
   ]
  },
  {
   "cell_type": "markdown",
   "id": "9f2905e1-bb2a-4f29-a673-00b9becfd778",
   "metadata": {},
   "source": [
    "`-` 예제: for문과 튜플, dummy variable `_` "
   ]
  },
  {
   "cell_type": "code",
   "execution_count": 40,
   "id": "16588b86-feb0-42f5-a0cf-befe7b98d351",
   "metadata": {},
   "outputs": [
    {
     "name": "stdout",
     "output_type": "stream",
     "text": [
      "202112345\n",
      "202254321\n",
      "202011223\n"
     ]
    }
   ],
   "source": [
    "for name,studentid,sex in lst: \n",
    "    print(studentid)"
   ]
  },
  {
   "cell_type": "code",
   "execution_count": 41,
   "id": "8c2c46b5-d41a-48f0-83bf-64caf9aac2cd",
   "metadata": {},
   "outputs": [
    {
     "name": "stdout",
     "output_type": "stream",
     "text": [
      "202112345\n",
      "202254321\n",
      "202011223\n"
     ]
    }
   ],
   "source": [
    "for _,studentid,_ in lst: \n",
    "    print(studentid)"
   ]
  },
  {
   "cell_type": "code",
   "execution_count": 42,
   "id": "771f1ab1-0ff4-4f27-90c3-54e44372d0cd",
   "metadata": {},
   "outputs": [
    {
     "name": "stdout",
     "output_type": "stream",
     "text": [
      "M\n",
      "F\n",
      "M\n"
     ]
    }
   ],
   "source": [
    "for _,_,sex in lst: \n",
    "    print(sex)"
   ]
  },
  {
   "cell_type": "code",
   "execution_count": 43,
   "id": "4d86c156-8fea-4b2c-82ea-5d2f3d70491d",
   "metadata": {},
   "outputs": [
    {
     "name": "stdout",
     "output_type": "stream",
     "text": [
      "guebin M\n",
      "iu F\n",
      "hodong M\n"
     ]
    }
   ],
   "source": [
    "for name,_,sex in lst: \n",
    "    print(name,sex)"
   ]
  },
  {
   "cell_type": "code",
   "execution_count": 44,
   "id": "b7050a36-c982-4e3f-8a3e-897137b359c3",
   "metadata": {},
   "outputs": [
    {
     "ename": "ValueError",
     "evalue": "too many values to unpack (expected 2)",
     "output_type": "error",
     "traceback": [
      "\u001b[0;31m---------------------------------------------------------------------------\u001b[0m",
      "\u001b[0;31mValueError\u001b[0m                                Traceback (most recent call last)",
      "Cell \u001b[0;32mIn[44], line 1\u001b[0m\n\u001b[0;32m----> 1\u001b[0m \u001b[38;5;28;01mfor\u001b[39;00m name,_  \u001b[38;5;129;01min\u001b[39;00m lst: \n\u001b[1;32m      2\u001b[0m     \u001b[38;5;28mprint\u001b[39m(name)\n",
      "\u001b[0;31mValueError\u001b[0m: too many values to unpack (expected 2)"
     ]
    }
   ],
   "source": [
    "for name,_  in lst: \n",
    "    print(name)"
   ]
  },
  {
   "cell_type": "code",
   "execution_count": 45,
   "id": "5d0e7301-04a6-488c-8ad9-f2b2d01f857e",
   "metadata": {},
   "outputs": [
    {
     "name": "stdout",
     "output_type": "stream",
     "text": [
      "guebin\n",
      "iu\n",
      "hodong\n"
     ]
    }
   ],
   "source": [
    "for name,*args  in lst: \n",
    "    print(name)"
   ]
  },
  {
   "cell_type": "markdown",
   "id": "992c9cb8-5bf1-498d-ae45-7bf218d44b36",
   "metadata": {},
   "source": [
    "`-` 예제: 튜플과 언패킹연산자 `*` "
   ]
  },
  {
   "cell_type": "code",
   "execution_count": 46,
   "id": "7186419d-e9a3-47b2-9015-a5912eb943e8",
   "metadata": {},
   "outputs": [
    {
     "data": {
      "text/plain": [
       "(1, 2, [3, 4, 5, 6, 7, 8, 9, 10])"
      ]
     },
     "execution_count": 46,
     "metadata": {},
     "output_type": "execute_result"
    }
   ],
   "source": [
    "head, body, *tail = range(1,11) \n",
    "head, body, tail"
   ]
  },
  {
   "cell_type": "code",
   "execution_count": 47,
   "id": "a36b20e2-46ec-45bf-83db-c666f8ff8ff7",
   "metadata": {},
   "outputs": [
    {
     "data": {
      "text/plain": [
       "(1, 2, [3, 4, 5, 6, 7], 8, 9, 10)"
      ]
     },
     "execution_count": 47,
     "metadata": {},
     "output_type": "execute_result"
    }
   ],
   "source": [
    "head1,head2, *body, tail1,tail2,tail3 = range(1,11) \n",
    "head1,head2, body, tail1,tail2,tail3 "
   ]
  },
  {
   "cell_type": "code",
   "execution_count": 48,
   "id": "9989d0fa-e8d9-44d3-b230-42f881f308f1",
   "metadata": {},
   "outputs": [
    {
     "data": {
      "text/plain": [
       "([1, 2, 3, 4, 5, 6, 7, 8], 9, 10)"
      ]
     },
     "execution_count": 48,
     "metadata": {},
     "output_type": "execute_result"
    }
   ],
   "source": [
    "*head, body, tail = range(1,11) \n",
    "head, body, tail"
   ]
  },
  {
   "cell_type": "markdown",
   "id": "e9dacbf9-748f-47b3-994f-b1a2975d2ca9",
   "metadata": {},
   "source": [
    "(관찰) "
   ]
  },
  {
   "cell_type": "markdown",
   "id": "aea18a0b-79ac-448c-9cff-f5021266c05d",
   "metadata": {},
   "source": [
    "그러고 보니까.. \n",
    "```python\n",
    "head1,head2, body, tail1,tail2,tail3  = (1, 2, [3,4,5,6,7], 8, 9, 10)\n",
    "head1,head2, *body, tail1,tail2,tail3   = (1, 2, 3,4,5,6,7, 8, 9, 10)\n",
    "```\n",
    "이렇다는 거잖아? "
   ]
  },
  {
   "cell_type": "markdown",
   "id": "744c84d8-74c2-4288-9e58-d687d5a74090",
   "metadata": {},
   "source": [
    "`*`를 붙이면 1차원 자료구조가 풀린다..? "
   ]
  },
  {
   "cell_type": "code",
   "execution_count": 49,
   "id": "fc190ddf-aa2f-4c6f-b32f-914bf92d0e2b",
   "metadata": {},
   "outputs": [
    {
     "ename": "SyntaxError",
     "evalue": "can't use starred expression here (386627056.py, line 1)",
     "output_type": "error",
     "traceback": [
      "\u001b[0;36m  Cell \u001b[0;32mIn[49], line 1\u001b[0;36m\u001b[0m\n\u001b[0;31m    *[1,2,3]\u001b[0m\n\u001b[0m    ^\u001b[0m\n\u001b[0;31mSyntaxError\u001b[0m\u001b[0;31m:\u001b[0m can't use starred expression here\n"
     ]
    }
   ],
   "source": [
    "*[1,2,3]"
   ]
  },
  {
   "cell_type": "code",
   "execution_count": 50,
   "id": "8068686b-7141-46ae-8d74-fa68855b1598",
   "metadata": {},
   "outputs": [
    {
     "name": "stdout",
     "output_type": "stream",
     "text": [
      "[1, 2, 3]\n"
     ]
    }
   ],
   "source": [
    "print([1,2,3])"
   ]
  },
  {
   "cell_type": "code",
   "execution_count": 51,
   "id": "59ba37ba-2a66-4739-a638-45d80ddb522c",
   "metadata": {},
   "outputs": [
    {
     "name": "stdout",
     "output_type": "stream",
     "text": [
      "1 2 3\n"
     ]
    }
   ],
   "source": [
    "print(*[1,2,3]) ## 이런 느낌이란 말이지.."
   ]
  },
  {
   "cell_type": "markdown",
   "id": "cd5d216c-9bf5-415e-af16-ec934ce99dfd",
   "metadata": {},
   "source": [
    "## F. 튜플을 왜 쓸까? -- 제 생각.."
   ]
  },
  {
   "cell_type": "markdown",
   "id": "48128563-5e84-4ec0-86d0-dd118a2dfad2",
   "metadata": {},
   "source": [
    "`-` 책의 설명 (이 설명이 꼭 파이썬에 한정되는 것은 아님. 모든 언어에 존재하는 불변형 객체에 적용가능한 설명)\n",
    "\n",
    "- 초보적인 설명: 실수방지\n",
    "- 좀 더 정확한 설명: 빠르다, 다중작업에 유리하다, 여러사람과 작업하기에 유리하다, 깊은복사/얕은복사시 원하지않는 오류(side effect이라고 함)를 방지할 수 있다, 메모리관리에도 유리함... \n",
    "- 느낌: 불변형(튜플)은 기능제한이 있는데 가볍고 빠른, 가변형(리스트)은 기능은 풍부하지만 약간 느리고 무거운 느낌임 "
   ]
  },
  {
   "cell_type": "markdown",
   "id": "8176bf3b-4dc6-4534-904a-598400819793",
   "metadata": {},
   "source": [
    "`-` 리스트는 신라면, 튜플은 라면사리임 \n",
    "\n",
    "- 기능적으로만 보면 신라면이 있으면 스프를 버리고 라면사리를 얻을 수 있으므로 라면사리 자체가 필요없음.\n",
    "- 그렇지만 그렇게 라면사리를 얻는건 비효율적임 (부대찌개집 사장이라고 생각해보세요) "
   ]
  },
  {
   "cell_type": "markdown",
   "id": "b0932094-1d47-4e1e-ac21-3ed94ea3cb81",
   "metadata": {},
   "source": [
    "`-` 제 개념: 튜플은 리스트에서 매우 간단한 어떤기능 (단순 변수 확인) 만 쓰기 위해 탄생되었음. 간단하게 1회용으로 쓰고 버릴 때가 많음. \n",
    "\n",
    "- 튜플의 목적은 간단하게 쓰려는 것임. 튜플의 특징은 소괄호의 생략에 있음 (이것은 파이썬과 줄리아만 가능)\n",
    "- 소괄호생략 + 언패킹 $\\Rightarrow$ 엄청난 가독성\n",
    "- 컴공과 사람들 의견: 튜플 + 언패킹 $\\Rightarrow$ 엄청난 가독성 $\\Rightarrow$ 충격 $\\Rightarrow$ \"파이썬 편하더라고요..\""
   ]
  },
  {
   "cell_type": "code",
   "execution_count": 52,
   "id": "f7acb6a3-5052-4419-944a-3d1cc084c710",
   "metadata": {},
   "outputs": [],
   "source": [
    "def mycal(a,b):\n",
    "    return a+b, a-b, a*b, a/b  #여러개의 값을 리턴하는듯 보임. -> 사실은 길이가 4인 튜플 1개를 리턴"
   ]
  },
  {
   "cell_type": "code",
   "execution_count": 53,
   "id": "b49fd286-c415-4275-9f68-2465c567ce30",
   "metadata": {},
   "outputs": [
    {
     "data": {
      "text/plain": [
       "(5, -1, 6, 0.6666666666666666)"
      ]
     },
     "execution_count": 53,
     "metadata": {},
     "output_type": "execute_result"
    }
   ],
   "source": [
    "mycal(2,3)"
   ]
  },
  {
   "cell_type": "code",
   "execution_count": 54,
   "id": "b86060da-a7c5-478b-be92-aabf07d9ab01",
   "metadata": {},
   "outputs": [],
   "source": [
    "_, _, mulrslt, _ = mycal(2,3) # 병렬할당 "
   ]
  },
  {
   "cell_type": "code",
   "execution_count": 55,
   "id": "8d5438e2-384c-45e2-8582-35456bc88794",
   "metadata": {},
   "outputs": [
    {
     "data": {
      "text/plain": [
       "6"
      ]
     },
     "execution_count": 55,
     "metadata": {},
     "output_type": "execute_result"
    }
   ],
   "source": [
    "mulrslt"
   ]
  },
  {
   "cell_type": "markdown",
   "id": "548c03e4-f8df-4ca6-a4aa-298577365653",
   "metadata": {},
   "source": [
    "`-` 의문: 왜 튜플만 괄호를 생략할 수 있지? "
   ]
  },
  {
   "cell_type": "markdown",
   "id": "4939c7bf-c691-4563-aa93-802c0af2819e",
   "metadata": {},
   "source": [
    "답이 없는 문제인데 답을 해보겠습니다. \n",
    "\n",
    "- 튜플을 먼저 만들고, 괄호를 생략하는 문법을 추가한것은 아닐것임\n",
    "- 원래 괄호없이 컴마만 대충찍어서 선언가능한 아주간단한 타입의 벡터형을 만들고 싶었을 것임. \n",
    "- 왜? 괄호없는 벡터를 만들고, 언패킹을 사용하면 여러가지 구문들이 엄청나게 간단해짐. \n",
    "- 컴마컴마로 선언하는 벡터는 한 두번 쓰고 버리는 경우가 많으며 대부분 이름도 필요없음 $\\to$ 원소에 접근해서 sorting하여 순서를 바꾸고 싶다던가 원소를 추가할 이유가 없음 $\\to$ 비싼 가변형으로 만들 이유가 없다는 것.. \n",
    "- 우리가 필요한 것: 데이터가 벡터의 형태로 모여있기만 하면 된다!"
   ]
  },
  {
   "cell_type": "markdown",
   "id": "ce4af6e8-db31-48f2-8504-a47b55a3937d",
   "metadata": {},
   "source": [
    "## G. 연습문제들"
   ]
  },
  {
   "cell_type": "markdown",
   "id": "4e016c31-bbcd-4671-a6c2-31f12169eae1",
   "metadata": {},
   "source": [
    "`#`. 길이가 1인 튜플을 만들어 자신의 학번을 저장하라. 길이가 1인 튜플을 만들어 자신의 영문이름을 저장하라. 두 튜플을 + 연산자로 합쳐아래와 같은 출력결과를 얻어라. 최종 결과는 예를들면 아래와 같아야 한다. "
   ]
  },
  {
   "cell_type": "code",
   "execution_count": 77,
   "id": "198ad218-a644-4129-8652-e4e90a40466c",
   "metadata": {},
   "outputs": [
    {
     "data": {
      "text/plain": [
       "('2021-43052', 'GuebinChoi')"
      ]
     },
     "execution_count": 77,
     "metadata": {},
     "output_type": "execute_result"
    }
   ],
   "source": [
    "('2021-43052', 'GuebinChoi')"
   ]
  },
  {
   "cell_type": "markdown",
   "id": "dccd2449-6c91-4153-a4d2-ec94764415f5",
   "metadata": {},
   "source": [
    "(풀이) "
   ]
  },
  {
   "cell_type": "code",
   "execution_count": 2,
   "id": "d549e6a6-1a75-48aa-b7e1-17666d59a325",
   "metadata": {},
   "outputs": [
    {
     "data": {
      "text/plain": [
       "('2021-43052', 'GuebinChoi')"
      ]
     },
     "execution_count": 2,
     "metadata": {},
     "output_type": "execute_result"
    }
   ],
   "source": [
    "a='2021-43052', \n",
    "b='GuebinChoi',\n",
    "a+b"
   ]
  },
  {
   "cell_type": "markdown",
   "id": "c5b62337-a114-445b-b63e-4e78401f7be5",
   "metadata": {},
   "source": [
    "`##`. 아래는 파이썬프로그래밍 수강생들의 학번, 이름, 출석점수, 과제점수, 중간고사점수, 기말고사점수를 저장한 중첩리스트이다. "
   ]
  },
  {
   "cell_type": "code",
   "execution_count": 3,
   "id": "636f8435-32f1-4785-9c32-ca58f98a80d8",
   "metadata": {},
   "outputs": [
    {
     "data": {
      "text/plain": [
       "[['2021-43052', 'GuebinChoi', 5, 10, 20, 25],\n",
       " ['2019-12342', 'Heung-min Son', 10, 15, 30, 15],\n",
       " ['2018-32234', 'hynn', 7, 20, 30, 15],\n",
       " ['2022-42323', 'Minji', 8, 20, 20, 35],\n",
       " ['2023-55342', 'Hanni', 7, 20, 30, 35],\n",
       " ['2022-46624', 'Danielle', 3, 15, 30, 40],\n",
       " ['2022-11239', 'Haerin', 10, 20, 30, 40],\n",
       " ['2022-32114', 'Hyein', 10, 20, 20, 35]]"
      ]
     },
     "execution_count": 3,
     "metadata": {},
     "output_type": "execute_result"
    }
   ],
   "source": [
    "lst = [['2021-43052', 'GuebinChoi', 5, 10, 20, 25],\n",
    "       ['2019-12342', 'Heung-min Son', 10, 15, 30, 15],\n",
    "       ['2018-32234', 'hynn', 7, 20, 30, 15],\n",
    "       ['2022-42323', 'Minji', 8, 20, 20, 35],\n",
    "       ['2023-55342', 'Hanni', 7, 20, 30, 35],\n",
    "       ['2022-46624', 'Danielle', 3, 15, 30, 40],\n",
    "       ['2022-11239', 'Haerin', 10, 20, 30, 40],\n",
    "       ['2022-32114', 'Hyein', 10, 20, 20, 35]]\n",
    "lst "
   ]
  },
  {
   "cell_type": "markdown",
   "id": "4d03c854-94fb-4649-9d74-5dc0dceb49ed",
   "metadata": {},
   "source": [
    "`#`. 파이썬프로그래밍 수강생의 수는 모두 몇명인가? "
   ]
  },
  {
   "cell_type": "markdown",
   "id": "0367976f-20de-45f3-b4bc-abed70d67457",
   "metadata": {},
   "source": [
    "(풀이)"
   ]
  },
  {
   "cell_type": "code",
   "execution_count": 5,
   "id": "ab62508f-67b2-4b41-9390-f90b2413a9a4",
   "metadata": {},
   "outputs": [
    {
     "data": {
      "text/plain": [
       "8"
      ]
     },
     "execution_count": 5,
     "metadata": {},
     "output_type": "execute_result"
    }
   ],
   "source": [
    "len(lst)"
   ]
  },
  {
   "cell_type": "markdown",
   "id": "e8df6494-9f3b-41a4-a1ea-ab514c9fd693",
   "metadata": {},
   "source": [
    "`#`. 전북대학교 지침에 따라 출석점수가 7보다 작은 학생은 (즉 `출석점수 < 7` 일 경우) F학점을 부여하게 되어있다. 이 기준에 따르면 F를 받는 학생은 모두 몇명인가? "
   ]
  },
  {
   "cell_type": "markdown",
   "id": "005031f5-2bb3-4a60-b599-4583f2587c15",
   "metadata": {},
   "source": [
    "(풀이)"
   ]
  },
  {
   "cell_type": "code",
   "execution_count": 15,
   "id": "dc8ad8cb-45a5-4df5-8db3-67f52ba33971",
   "metadata": {},
   "outputs": [
    {
     "data": {
      "text/plain": [
       "2"
      ]
     },
     "execution_count": 15,
     "metadata": {},
     "output_type": "execute_result"
    }
   ],
   "source": [
    "sum([att<7 for _,_, att, *rest in lst])"
   ]
  },
  {
   "cell_type": "markdown",
   "id": "ca8a95a8-ed42-45bd-a212-54a57eafa7bf",
   "metadata": {},
   "source": [
    "`#`. 파이썬프로그래밍 수업의 경우 `출석+레포트 < 21` 일 경우 F학점을 부여한다고 한다. 이 기준에 따르면 F를 받는 학생은 모두 몇명인가? "
   ]
  },
  {
   "cell_type": "markdown",
   "id": "bf1452f7-0ebe-4b2b-823c-3c8477002ed2",
   "metadata": {},
   "source": [
    "(풀이)"
   ]
  },
  {
   "cell_type": "code",
   "execution_count": 21,
   "id": "23730396-4850-4208-9718-c9d0c0d613e0",
   "metadata": {},
   "outputs": [
    {
     "data": {
      "text/plain": [
       "2"
      ]
     },
     "execution_count": 21,
     "metadata": {},
     "output_type": "execute_result"
    }
   ],
   "source": [
    "sum([att+rep < 21 for _,_, att,rep, *rest in lst])"
   ]
  },
  {
   "cell_type": "markdown",
   "id": "c1041208-128f-4b6e-a5ef-5be09938f0c0",
   "metadata": {},
   "source": [
    "`#`. 리스트의 정렬순서를 [학번, 이름, ..., 기말고사점수] 가 아니라 [이름, 학번, ... , 기말고사점수] 와 같이 되도록 변경하는 코드를 작성하라. "
   ]
  },
  {
   "cell_type": "markdown",
   "id": "d0c3d8df-b2d5-41f0-b7c1-98f4fde73d0c",
   "metadata": {},
   "source": [
    "(출력예시)"
   ]
  },
  {
   "cell_type": "code",
   "execution_count": 22,
   "id": "48a87833-3c5b-4735-afd5-7230c8837c4d",
   "metadata": {},
   "outputs": [
    {
     "data": {
      "text/plain": [
       "[['GuebinChoi', '2021-43052', 5, 10, 20, 25],\n",
       " ['Heung-min Son', '2019-12342', 10, 15, 30, 15],\n",
       " ['hynn', '2018-32234', 7, 20, 30, 15],\n",
       " ['Minji', '2022-42323', 8, 20, 20, 35],\n",
       " ['Hanni', '2023-55342', 7, 20, 30, 35],\n",
       " ['Danielle', '2022-46624', 3, 15, 30, 40],\n",
       " ['Haerin', '2022-11239', 10, 20, 30, 40],\n",
       " ['Hyein', '2022-32114', 10, 20, 20, 35]]"
      ]
     },
     "execution_count": 22,
     "metadata": {},
     "output_type": "execute_result"
    }
   ],
   "source": [
    "[[name,studentid,*rest] for studentid, name, *rest in lst]"
   ]
  },
  {
   "cell_type": "markdown",
   "id": "d5a05f7d-f24a-497d-b6f3-e37a484e324b",
   "metadata": {},
   "source": [
    "# 4. 잡기술 (하지만 유용해)"
   ]
  },
  {
   "cell_type": "markdown",
   "id": "4e7818be-ad16-4057-b3b3-7606236f79a8",
   "metadata": {},
   "source": [
    "## A. 인덱싱고급 (스트라이딩) "
   ]
  },
  {
   "cell_type": "markdown",
   "id": "27ea321c-fda0-4b42-8700-a050822898b4",
   "metadata": {},
   "source": [
    "`-` 스트라이딩 [start:end:step] "
   ]
  },
  {
   "cell_type": "code",
   "execution_count": 6,
   "id": "6f66f483-073b-4959-bbee-cae80508032b",
   "metadata": {},
   "outputs": [
    {
     "data": {
      "text/plain": [
       "['a', 'b', 'c', 'd', 'e', 'f', 'g', 'h', 'i', 'j', 'k']"
      ]
     },
     "execution_count": 6,
     "metadata": {},
     "output_type": "execute_result"
    }
   ],
   "source": [
    "lst = list('abcdefghijk')\n",
    "lst"
   ]
  },
  {
   "cell_type": "code",
   "execution_count": 16,
   "id": "31c66313-1071-4c02-97fc-8e16125d4754",
   "metadata": {},
   "outputs": [
    {
     "data": {
      "text/plain": [
       "['a', 'd', 'g']"
      ]
     },
     "execution_count": 16,
     "metadata": {},
     "output_type": "execute_result"
    }
   ],
   "source": [
    "lst[0:9:3]"
   ]
  },
  {
   "cell_type": "markdown",
   "id": "d6501b3e-66fe-48c8-8842-68d66fc82350",
   "metadata": {},
   "source": [
    "`-` 생략"
   ]
  },
  {
   "cell_type": "code",
   "execution_count": 22,
   "id": "1282add6-7f77-4043-8dab-b9fdef1f31d8",
   "metadata": {},
   "outputs": [
    {
     "data": {
      "text/plain": [
       "['a', 'b', 'c', 'd', 'e', 'f', 'g', 'h', 'i']"
      ]
     },
     "execution_count": 22,
     "metadata": {},
     "output_type": "execute_result"
    }
   ],
   "source": [
    "lst[0:9]\n",
    "#lst[0:9:]\n",
    "#lst[0:9:1]"
   ]
  },
  {
   "cell_type": "code",
   "execution_count": 23,
   "id": "00abac6f-5737-42ec-b4cc-8fac1634d17b",
   "metadata": {},
   "outputs": [
    {
     "data": {
      "text/plain": [
       "['a', 'd', 'g', 'j']"
      ]
     },
     "execution_count": 23,
     "metadata": {},
     "output_type": "execute_result"
    }
   ],
   "source": [
    "lst[0::3]"
   ]
  },
  {
   "cell_type": "code",
   "execution_count": 24,
   "id": "932de1be-412c-4593-9395-54882e26de5e",
   "metadata": {},
   "outputs": [
    {
     "data": {
      "text/plain": [
       "['a', 'd', 'g']"
      ]
     },
     "execution_count": 24,
     "metadata": {},
     "output_type": "execute_result"
    }
   ],
   "source": [
    "lst[:8:3]"
   ]
  },
  {
   "cell_type": "markdown",
   "id": "e07c83a2-abce-477f-89f7-2d636bbb9400",
   "metadata": {},
   "source": [
    "`-` 예제1: 짝수/홀수 원소 추출 "
   ]
  },
  {
   "cell_type": "markdown",
   "id": "aab2d626-2955-4091-b7e0-63b56f97e93d",
   "metadata": {},
   "source": [
    "아래와 같은 문자열이 있다고 하자. "
   ]
  },
  {
   "cell_type": "code",
   "execution_count": 26,
   "id": "e6423d6d-8591-4711-b630-5896f17f551d",
   "metadata": {},
   "outputs": [
    {
     "data": {
      "text/plain": [
       "['a', 'b', 'c', 'd', 'e', 'f', 'g', 'h', 'i', 'j', 'k']"
      ]
     },
     "execution_count": 26,
     "metadata": {},
     "output_type": "execute_result"
    }
   ],
   "source": [
    "lst = list('abcdefghijk')\n",
    "lst"
   ]
  },
  {
   "cell_type": "markdown",
   "id": "bfb9fc3e-88cd-4d9d-a98f-867f943306bd",
   "metadata": {},
   "source": [
    "`index = 0,2,4, ...` 에 해당하는 원소를 출력하라. "
   ]
  },
  {
   "cell_type": "code",
   "execution_count": 27,
   "id": "a7c02fad-4ebb-41a3-892e-6f1659d4543c",
   "metadata": {},
   "outputs": [
    {
     "data": {
      "text/plain": [
       "['a', 'c', 'e', 'g', 'i', 'k']"
      ]
     },
     "execution_count": 27,
     "metadata": {},
     "output_type": "execute_result"
    }
   ],
   "source": [
    "lst[::2]"
   ]
  },
  {
   "cell_type": "markdown",
   "id": "088fcd21-456b-4d2a-97c7-504f145bc19b",
   "metadata": {},
   "source": [
    "`index = 1,4,7 ...` 에 해당하는 원소를 출력하라. "
   ]
  },
  {
   "cell_type": "code",
   "execution_count": 28,
   "id": "c39f7a9f-56a8-4c2c-8564-d9ebb532fb80",
   "metadata": {},
   "outputs": [
    {
     "data": {
      "text/plain": [
       "['b', 'e', 'h', 'k']"
      ]
     },
     "execution_count": 28,
     "metadata": {},
     "output_type": "execute_result"
    }
   ],
   "source": [
    "lst[1::3]"
   ]
  },
  {
   "cell_type": "markdown",
   "id": "d952d84d-c324-4df3-8085-910cd7ca6a3d",
   "metadata": {},
   "source": [
    "`-` 예제2: 세로로.."
   ]
  },
  {
   "cell_type": "markdown",
   "id": "2d5c3fca-b9ec-48bd-8817-e8fff1da8f3f",
   "metadata": {},
   "source": [
    "---"
   ]
  },
  {
   "cell_type": "markdown",
   "id": "5ee3c6dd-0b45-4909-bc4c-ebbff0265926",
   "metadata": {},
   "source": [
    "(예제2를 위한 예비학습) 문자열에서 `\\n`을 출력하면 출력시 줄바꿈이 일어난다. "
   ]
  },
  {
   "cell_type": "code",
   "execution_count": 31,
   "id": "1b56e06c-3dbe-4e21-853b-030fe70ed4bf",
   "metadata": {},
   "outputs": [
    {
     "name": "stdout",
     "output_type": "stream",
     "text": [
      "1행\n",
      "2행\n",
      "3행\n"
     ]
    }
   ],
   "source": [
    "print('1행\\n2행\\n3행')"
   ]
  },
  {
   "cell_type": "markdown",
   "id": "039ae23e-3ee0-4164-8c80-29e1fcdc4861",
   "metadata": {},
   "source": [
    "예비학습 끝 "
   ]
  },
  {
   "cell_type": "markdown",
   "id": "07f6c76e-806a-4120-906b-d7a4fccf43ee",
   "metadata": {},
   "source": [
    "--- "
   ]
  },
  {
   "cell_type": "markdown",
   "id": "66d81144-31a3-4abf-a0d3-ebefb551f1ae",
   "metadata": {},
   "source": [
    "아래와 같은 문자열이 있다고 하자. "
   ]
  },
  {
   "cell_type": "code",
   "execution_count": 32,
   "id": "416388ec-d774-4b6a-b691-28c3dd7247db",
   "metadata": {},
   "outputs": [
    {
     "name": "stdout",
     "output_type": "stream",
     "text": [
      "너같이사랑스럽고\n",
      "또예쁘고도멋지고\n",
      "속훤히보이는너알\n",
      "았어그동안고마웠\n",
      "지정말정말사랑해\n"
     ]
    }
   ],
   "source": [
    "txt = '너같이사랑스럽고\\n또예쁘고도멋지고\\n속훤히보이는너알\\n았어그동안고마웠\\n지정말정말사랑해'\n",
    "print(txt)"
   ]
  },
  {
   "cell_type": "markdown",
   "id": "7540477d-5c50-4161-aec6-1d4c28679999",
   "metadata": {},
   "source": [
    "위 문자열을 세로로 읽는 코드를 작성하라. (9칸씩 점프하면서 읽으면 된다) "
   ]
  },
  {
   "cell_type": "markdown",
   "id": "9a26c717-672a-4b55-a7d1-5faf98e9bc06",
   "metadata": {},
   "source": [
    "(풀이)"
   ]
  },
  {
   "cell_type": "code",
   "execution_count": 34,
   "id": "42474fec-89ac-4e79-aad6-e080a6b6d92d",
   "metadata": {},
   "outputs": [
    {
     "data": {
      "text/plain": [
       "'너또속았지'"
      ]
     },
     "execution_count": 34,
     "metadata": {},
     "output_type": "execute_result"
    }
   ],
   "source": [
    "txt[::9]"
   ]
  },
  {
   "cell_type": "markdown",
   "id": "6e6f6300-84d3-4b43-8829-c85a16ce4597",
   "metadata": {},
   "source": [
    "`-` step = -1 이면? "
   ]
  },
  {
   "cell_type": "code",
   "execution_count": 37,
   "id": "fe961f89-2f64-41cf-b298-3242580f5f73",
   "metadata": {},
   "outputs": [
    {
     "data": {
      "text/plain": [
       "['a', 'b', 'c', 'd', 'e', 'f', 'g', 'h', 'i', 'j', 'k']"
      ]
     },
     "execution_count": 37,
     "metadata": {},
     "output_type": "execute_result"
    }
   ],
   "source": [
    "lst"
   ]
  },
  {
   "cell_type": "code",
   "execution_count": 39,
   "id": "3a3fbfd8-0c24-4656-966c-62502d264364",
   "metadata": {},
   "outputs": [
    {
     "data": {
      "text/plain": [
       "['k', 'j', 'i', 'h', 'g', 'f', 'e', 'd', 'c', 'b', 'a']"
      ]
     },
     "execution_count": 39,
     "metadata": {},
     "output_type": "execute_result"
    }
   ],
   "source": [
    "lst[::-1]"
   ]
  },
  {
   "cell_type": "markdown",
   "id": "246c20ed-df25-4c0e-837e-cfb11842f4d7",
   "metadata": {},
   "source": [
    "`-` 스트라이딩으로 `step = -1` 옵션 주기 vs 리스트의 `.reverse()` 메소드 이용하기 "
   ]
  },
  {
   "cell_type": "markdown",
   "id": "01232b5b-79f2-4a94-b11c-e29196df4187",
   "metadata": {},
   "source": [
    "관찰1: reverse 메소드는 리스트 자체를 변화시킴"
   ]
  },
  {
   "cell_type": "code",
   "execution_count": 42,
   "id": "feeae8ec-3e40-4ee4-82ef-090bd7b680ba",
   "metadata": {},
   "outputs": [
    {
     "data": {
      "text/plain": [
       "['a', 'b', 'c', 'd', 'e', 'f', 'g', 'h']"
      ]
     },
     "execution_count": 42,
     "metadata": {},
     "output_type": "execute_result"
    }
   ],
   "source": [
    "lst = list('abcdefgh')\n",
    "lst"
   ]
  },
  {
   "cell_type": "code",
   "execution_count": 43,
   "id": "1eb17164-63ae-4044-8c29-7b5f9a2c5c25",
   "metadata": {},
   "outputs": [
    {
     "data": {
      "text/plain": [
       "['h', 'g', 'f', 'e', 'd', 'c', 'b', 'a']"
      ]
     },
     "execution_count": 43,
     "metadata": {},
     "output_type": "execute_result"
    }
   ],
   "source": [
    "lst.reverse()  \n",
    "lst"
   ]
  },
  {
   "cell_type": "markdown",
   "id": "34a6faf4-e1a0-4432-bcf9-d993838e6f34",
   "metadata": {},
   "source": [
    "관찰2: [::-1]는 리스트는 변화시키지 않음"
   ]
  },
  {
   "cell_type": "code",
   "execution_count": 44,
   "id": "bf2db592-8cbf-443b-92c9-c56ffd250b81",
   "metadata": {},
   "outputs": [
    {
     "data": {
      "text/plain": [
       "['a', 'b', 'c', 'd', 'e', 'f', 'g', 'h']"
      ]
     },
     "execution_count": 44,
     "metadata": {},
     "output_type": "execute_result"
    }
   ],
   "source": [
    "lst = list('abcdefgh')\n",
    "lst"
   ]
  },
  {
   "cell_type": "code",
   "execution_count": 45,
   "id": "ee2994b6-8aca-44aa-bb8f-c6b7798762b4",
   "metadata": {},
   "outputs": [
    {
     "data": {
      "text/plain": [
       "['h', 'g', 'f', 'e', 'd', 'c', 'b', 'a']"
      ]
     },
     "execution_count": 45,
     "metadata": {},
     "output_type": "execute_result"
    }
   ],
   "source": [
    "lst[::-1]"
   ]
  },
  {
   "cell_type": "code",
   "execution_count": 46,
   "id": "50e38e5d-d9ad-4d2a-8feb-524f0e305028",
   "metadata": {},
   "outputs": [
    {
     "data": {
      "text/plain": [
       "['a', 'b', 'c', 'd', 'e', 'f', 'g', 'h']"
      ]
     },
     "execution_count": 46,
     "metadata": {},
     "output_type": "execute_result"
    }
   ],
   "source": [
    "lst"
   ]
  },
  {
   "cell_type": "markdown",
   "id": "4b6a405d-4584-4e2c-b35a-79306fddab48",
   "metadata": {},
   "source": [
    "`-` -step은 쓰기 까다롭다. "
   ]
  },
  {
   "cell_type": "markdown",
   "id": "7117b8f2-0efc-40cf-8659-8d0443afd3f6",
   "metadata": {},
   "source": [
    "(예제) 처음과 끝을 생략하지 않고 아래와 동일한 효과를 주는 코드를 만들어 보자. "
   ]
  },
  {
   "cell_type": "code",
   "execution_count": 47,
   "id": "1d204c2e-4ffa-459b-86b1-a744d00eb7b3",
   "metadata": {},
   "outputs": [
    {
     "data": {
      "text/plain": [
       "['h', 'g', 'f', 'e', 'd', 'c', 'b', 'a']"
      ]
     },
     "execution_count": 47,
     "metadata": {},
     "output_type": "execute_result"
    }
   ],
   "source": [
    "lst = list('abcdefgh')\n",
    "lst[::-1]"
   ]
  },
  {
   "cell_type": "markdown",
   "id": "cee642e4-fffe-4f4e-92c1-4cc0180a1c72",
   "metadata": {},
   "source": [
    "(풀이)"
   ]
  },
  {
   "cell_type": "markdown",
   "id": "20784033-94e9-4f7c-b23c-a1ec90705207",
   "metadata": {},
   "source": [
    "결국 lst[?:?:-1]의 꼴에서 적당히 ?의 값을 채우면 된다. --> 어려워"
   ]
  },
  {
   "cell_type": "code",
   "execution_count": 51,
   "id": "e1f61cec-6e26-4ab8-8bba-4c389c3ee6e4",
   "metadata": {},
   "outputs": [
    {
     "data": {
      "text/plain": [
       "['a', 'b', 'c', 'd', 'e', 'f', 'g', 'h']"
      ]
     },
     "execution_count": 51,
     "metadata": {},
     "output_type": "execute_result"
    }
   ],
   "source": [
    "lst"
   ]
  },
  {
   "cell_type": "code",
   "execution_count": 48,
   "id": "3ee6f2e7-2c94-4c00-b1bd-7acec2fb280b",
   "metadata": {},
   "outputs": [
    {
     "data": {
      "text/plain": [
       "['h', 'g', 'f', 'e', 'd', 'c', 'b', 'a']"
      ]
     },
     "execution_count": 48,
     "metadata": {},
     "output_type": "execute_result"
    }
   ],
   "source": [
    "lst[::-1]"
   ]
  },
  {
   "cell_type": "markdown",
   "id": "432623dd-cc2e-4d75-bbd3-c60ef2251a17",
   "metadata": {},
   "source": [
    "|None|a|b|c|d|e|f|g|h|None|\n",
    "|:-:|:-:|:-:|:-:|:-:|:-:|:-:|:-:|:-:|:-:|\n",
    "|?|0|1|2|3|4|5|6|7|8|\n",
    "|-9|-8|-7|-6|-5|-4|-3|-2|-1|?|"
   ]
  },
  {
   "cell_type": "code",
   "execution_count": 55,
   "id": "0cf6003a-ba67-43da-b912-2c8fd1cbff10",
   "metadata": {},
   "outputs": [
    {
     "data": {
      "text/plain": [
       "['h', 'g', 'f', 'e', 'd', 'c', 'b', 'a']"
      ]
     },
     "execution_count": 55,
     "metadata": {},
     "output_type": "execute_result"
    }
   ],
   "source": [
    "lst[-1:-9:-1] "
   ]
  },
  {
   "cell_type": "markdown",
   "id": "7442a867-8801-4b47-af1c-8b5d8625af5c",
   "metadata": {},
   "source": [
    "## B. len함수 "
   ]
  },
  {
   "cell_type": "markdown",
   "id": "8973f7b8-9898-44c4-94eb-3ea29d2ebb1a",
   "metadata": {},
   "source": [
    "`-` 0차원 자료형은 len함수가 동작하지 않음 "
   ]
  },
  {
   "cell_type": "code",
   "execution_count": 87,
   "id": "37dcd50b-dfe8-4e80-803a-d4dc4c7e3a08",
   "metadata": {},
   "outputs": [
    {
     "ename": "TypeError",
     "evalue": "object of type 'int' has no len()",
     "output_type": "error",
     "traceback": [
      "\u001b[0;31m---------------------------------------------------------------------------\u001b[0m",
      "\u001b[0;31mTypeError\u001b[0m                                 Traceback (most recent call last)",
      "Cell \u001b[0;32mIn[87], line 2\u001b[0m\n\u001b[1;32m      1\u001b[0m a\u001b[38;5;241m=\u001b[39m\u001b[38;5;241m1\u001b[39m \n\u001b[0;32m----> 2\u001b[0m \u001b[38;5;28;43mlen\u001b[39;49m\u001b[43m(\u001b[49m\u001b[43ma\u001b[49m\u001b[43m)\u001b[49m\n",
      "\u001b[0;31mTypeError\u001b[0m: object of type 'int' has no len()"
     ]
    }
   ],
   "source": [
    "a=1 \n",
    "len(a)"
   ]
  },
  {
   "cell_type": "code",
   "execution_count": 88,
   "id": "ac8b387e-35ad-4965-bcee-679373d0f2d4",
   "metadata": {},
   "outputs": [
    {
     "ename": "TypeError",
     "evalue": "object of type 'bool' has no len()",
     "output_type": "error",
     "traceback": [
      "\u001b[0;31m---------------------------------------------------------------------------\u001b[0m",
      "\u001b[0;31mTypeError\u001b[0m                                 Traceback (most recent call last)",
      "Cell \u001b[0;32mIn[88], line 2\u001b[0m\n\u001b[1;32m      1\u001b[0m a\u001b[38;5;241m=\u001b[39m\u001b[38;5;28;01mTrue\u001b[39;00m\n\u001b[0;32m----> 2\u001b[0m \u001b[38;5;28;43mlen\u001b[39;49m\u001b[43m(\u001b[49m\u001b[43ma\u001b[49m\u001b[43m)\u001b[49m\n",
      "\u001b[0;31mTypeError\u001b[0m: object of type 'bool' has no len()"
     ]
    }
   ],
   "source": [
    "a=True\n",
    "len(a)"
   ]
  },
  {
   "cell_type": "code",
   "execution_count": 89,
   "id": "f6c9b60f-9031-4b18-b6a0-ff186ee3cb24",
   "metadata": {},
   "outputs": [
    {
     "ename": "TypeError",
     "evalue": "object of type 'float' has no len()",
     "output_type": "error",
     "traceback": [
      "\u001b[0;31m---------------------------------------------------------------------------\u001b[0m",
      "\u001b[0;31mTypeError\u001b[0m                                 Traceback (most recent call last)",
      "Cell \u001b[0;32mIn[89], line 2\u001b[0m\n\u001b[1;32m      1\u001b[0m a\u001b[38;5;241m=\u001b[39m\u001b[38;5;241m3.14\u001b[39m\n\u001b[0;32m----> 2\u001b[0m \u001b[38;5;28;43mlen\u001b[39;49m\u001b[43m(\u001b[49m\u001b[43ma\u001b[49m\u001b[43m)\u001b[49m\n",
      "\u001b[0;31mTypeError\u001b[0m: object of type 'float' has no len()"
     ]
    }
   ],
   "source": [
    "a=3.14\n",
    "len(a)"
   ]
  },
  {
   "cell_type": "markdown",
   "id": "9c1c60a1-6336-4787-9c93-932d4814bc86",
   "metadata": {},
   "source": [
    "> note: 이것이 어떠한 수학적인 의미를 가지거나 0차원의 본질적진리를 뜻하는 것은 안미. R에서는 1,3.14,TRUE의 길이가 1로 존재함. "
   ]
  },
  {
   "cell_type": "markdown",
   "id": "e5fdd9c9-be49-46d0-aa4e-20fa0df02c2f",
   "metadata": {},
   "source": [
    "`-` 1차원 자료형은 len함수가 동작"
   ]
  },
  {
   "cell_type": "code",
   "execution_count": 90,
   "id": "0cee34f5-d925-4fc2-8ac2-def074888f14",
   "metadata": {},
   "outputs": [
    {
     "data": {
      "text/plain": [
       "6"
      ]
     },
     "execution_count": 90,
     "metadata": {},
     "output_type": "execute_result"
    }
   ],
   "source": [
    "a='guebin'\n",
    "len(a)"
   ]
  },
  {
   "cell_type": "code",
   "execution_count": 91,
   "id": "9b7df96d-d507-4857-a75b-c929eaf1fa2f",
   "metadata": {},
   "outputs": [
    {
     "data": {
      "text/plain": [
       "6"
      ]
     },
     "execution_count": 91,
     "metadata": {},
     "output_type": "execute_result"
    }
   ],
   "source": [
    "a=[1,2,3,4,5,6]\n",
    "len(a)"
   ]
  },
  {
   "cell_type": "code",
   "execution_count": 92,
   "id": "996f033d-4cd6-4b48-b7cd-5cf0ac7d1a29",
   "metadata": {},
   "outputs": [
    {
     "data": {
      "text/plain": [
       "6"
      ]
     },
     "execution_count": 92,
     "metadata": {},
     "output_type": "execute_result"
    }
   ],
   "source": [
    "a=1,2,3,4,5,6 \n",
    "len(a)"
   ]
  },
  {
   "cell_type": "code",
   "execution_count": 93,
   "id": "56b45323-fbe3-47e4-8dea-c6dc37bd4b5e",
   "metadata": {},
   "outputs": [
    {
     "data": {
      "text/plain": [
       "10"
      ]
     },
     "execution_count": 93,
     "metadata": {},
     "output_type": "execute_result"
    }
   ],
   "source": [
    "a=range(10)\n",
    "len(a)"
   ]
  },
  {
   "cell_type": "markdown",
   "id": "7ade534f-fa9f-4fdb-a9f7-603dd95a2792",
   "metadata": {},
   "source": [
    "`-` 길이가 1인 1차원 자료형과 0차원 자료형은 다른것임 "
   ]
  },
  {
   "cell_type": "code",
   "execution_count": 94,
   "id": "8772a8aa-bd77-4464-9846-c1756ca9e0c1",
   "metadata": {},
   "outputs": [
    {
     "data": {
      "text/plain": [
       "1"
      ]
     },
     "execution_count": 94,
     "metadata": {},
     "output_type": "execute_result"
    }
   ],
   "source": [
    "a='g'\n",
    "len(a)"
   ]
  },
  {
   "cell_type": "code",
   "execution_count": 97,
   "id": "3719ee30-7814-47f8-bcd9-802652652dfc",
   "metadata": {},
   "outputs": [
    {
     "data": {
      "text/plain": [
       "1"
      ]
     },
     "execution_count": 97,
     "metadata": {},
     "output_type": "execute_result"
    }
   ],
   "source": [
    "a=[1]\n",
    "len(a)"
   ]
  },
  {
   "cell_type": "code",
   "execution_count": 98,
   "id": "bf629e62-3004-41dd-899b-950006607904",
   "metadata": {},
   "outputs": [
    {
     "data": {
      "text/plain": [
       "1"
      ]
     },
     "execution_count": 98,
     "metadata": {},
     "output_type": "execute_result"
    }
   ],
   "source": [
    "a=(1,)\n",
    "len(a)"
   ]
  },
  {
   "cell_type": "code",
   "execution_count": 99,
   "id": "50f89f33-3b2e-4396-9134-3cea1338089b",
   "metadata": {},
   "outputs": [
    {
     "data": {
      "text/plain": [
       "1"
      ]
     },
     "execution_count": 99,
     "metadata": {},
     "output_type": "execute_result"
    }
   ],
   "source": [
    "a=range(1)\n",
    "len(a)"
   ]
  },
  {
   "cell_type": "markdown",
   "id": "d62ed3cf-48fa-4cbd-862d-6a71c50c7bb2",
   "metadata": {},
   "source": [
    "`-` 길이가 0인 1차원 자료형도 존재함 "
   ]
  },
  {
   "cell_type": "code",
   "execution_count": 100,
   "id": "0b9bc122-20cb-437f-a1e6-ae10557a0a6e",
   "metadata": {},
   "outputs": [
    {
     "data": {
      "text/plain": [
       "0"
      ]
     },
     "execution_count": 100,
     "metadata": {},
     "output_type": "execute_result"
    }
   ],
   "source": [
    "a=''\n",
    "len(a)"
   ]
  },
  {
   "cell_type": "code",
   "execution_count": 101,
   "id": "f60ad92b-eb2b-4a12-a01a-751f1948c232",
   "metadata": {},
   "outputs": [
    {
     "data": {
      "text/plain": [
       "0"
      ]
     },
     "execution_count": 101,
     "metadata": {},
     "output_type": "execute_result"
    }
   ],
   "source": [
    "a=[]\n",
    "len(a)"
   ]
  },
  {
   "cell_type": "code",
   "execution_count": 55,
   "id": "5fc6844f-2612-42d3-aa74-391725c1348e",
   "metadata": {},
   "outputs": [
    {
     "data": {
      "text/plain": [
       "0"
      ]
     },
     "execution_count": 55,
     "metadata": {},
     "output_type": "execute_result"
    }
   ],
   "source": [
    "a=()\n",
    "len(a)"
   ]
  },
  {
   "cell_type": "code",
   "execution_count": 102,
   "id": "ee8b6fab-29e9-412e-b533-f2e661bc059c",
   "metadata": {},
   "outputs": [
    {
     "data": {
      "text/plain": [
       "0"
      ]
     },
     "execution_count": 102,
     "metadata": {},
     "output_type": "execute_result"
    }
   ],
   "source": [
    "a=range(0)\n",
    "len(a)"
   ]
  },
  {
   "cell_type": "markdown",
   "id": "e5546b22-d556-42e0-b179-06bad56fc4f2",
   "metadata": {
    "tags": []
   },
   "source": [
    "# 5. 딕셔너리 기본내용"
   ]
  },
  {
   "cell_type": "markdown",
   "id": "28a78401-c1b3-46c3-ab76-876c65783518",
   "metadata": {},
   "source": [
    "## A. intro: str, list, tuple 정리"
   ]
  },
  {
   "cell_type": "markdown",
   "id": "130b0c75-d04c-4cf4-adb7-a128937b9be0",
   "metadata": {},
   "source": [
    "`-` str, list, tuple은 모두 시퀀스형이라는 공통점이 있다. $\\to$ 원소의 위치번호로 인덱싱이 가능 "
   ]
  },
  {
   "cell_type": "code",
   "execution_count": 104,
   "id": "c2f2ae0d-0c70-4fee-95da-95270f56dd98",
   "metadata": {},
   "outputs": [],
   "source": [
    "lst = [1,2,3,4]"
   ]
  },
  {
   "cell_type": "code",
   "execution_count": 105,
   "id": "3b18708d-6a10-48a9-9ed7-f800ec986463",
   "metadata": {},
   "outputs": [
    {
     "data": {
      "text/plain": [
       "1"
      ]
     },
     "execution_count": 105,
     "metadata": {},
     "output_type": "execute_result"
    }
   ],
   "source": [
    "lst[0] # 위치번호=0"
   ]
  },
  {
   "cell_type": "code",
   "execution_count": 106,
   "id": "85a5e116-6a92-400e-ac0f-cf3990807ef2",
   "metadata": {},
   "outputs": [
    {
     "data": {
      "text/plain": [
       "4"
      ]
     },
     "execution_count": 106,
     "metadata": {},
     "output_type": "execute_result"
    }
   ],
   "source": [
    "lst[-1] # 위치번호=-1"
   ]
  },
  {
   "cell_type": "markdown",
   "id": "4bd9caad-e45a-446e-94ca-b93cce3f0b26",
   "metadata": {},
   "source": [
    "`-` str, list, tuple은 차이점도 존재함. 잠깐 정리해보자. "
   ]
  },
  {
   "cell_type": "markdown",
   "id": "22a6785b-ae65-4df3-9d98-18fe0f26f57e",
   "metadata": {},
   "source": [
    "***시퀀스형의 카테고리***\n",
    "\n",
    "- 컨테니어형: list, tuple \n",
    "- 균일형: str \n",
    "- 가변형: list \n",
    "- 불변형: tuple, str "
   ]
  },
  {
   "cell_type": "markdown",
   "id": "39cd967e-8053-44ac-bf3e-3fe7d7f2ffe9",
   "metadata": {},
   "source": [
    "***표로 정리하면***"
   ]
  },
  {
   "cell_type": "markdown",
   "id": "b0595cdc-6396-486a-92ca-e270187f6b03",
   "metadata": {},
   "source": [
    "||컨테니어형|균일형|\n",
    "|:-:|:-:|:-:|\n",
    "|가변형|list|.|\n",
    "|불변형|tuple|str|"
   ]
  },
  {
   "cell_type": "markdown",
   "id": "80f7ca41-442b-412e-af92-c7189c386ad5",
   "metadata": {},
   "source": [
    "`-` 시퀀스형이 아닌 1차원 자료형도 있을까? 원소의 위치번호로 인덱싱이 불가능한 자료형 "
   ]
  },
  {
   "cell_type": "markdown",
   "id": "8f1f0c93-2f00-4a45-b52a-7bbdbdb9f70f",
   "metadata": {},
   "source": [
    "`-` 왜 이런게 필요할까? \n",
    "\n",
    "- 벡터에서 원소를 뽑는것은 정보의 모임에서 정보를 검색하는 것과 같다. \n",
    "- 정보를 `순서`대로 나열한뒤에 그 `순서`를 이용하여 검색하는 방법은 유용하다. \n",
    "- 하지만 경우에 따라서는 `키워드`를 기억해서 그 `키워드`를 바탕으로 정보에 접근하는 방법이 유용할 수 있다.  "
   ]
  },
  {
   "cell_type": "markdown",
   "id": "7145558c-b653-49d7-af80-4ae2926e060c",
   "metadata": {},
   "source": [
    "***카카오톡 대화내용검색*** "
   ]
  },
  {
   "cell_type": "markdown",
   "id": "f0c90c9e-41bc-4165-81f7-f274ed8fdc91",
   "metadata": {},
   "source": [
    "(상황1) `오늘아침`에 와이프가 `뭔가`를 카톡으로 부탁했었음. 그런데 그 `뭔가`가 기억안남. "
   ]
  },
  {
   "cell_type": "markdown",
   "id": "85340d8d-80f7-4e9a-8259-59343240a272",
   "metadata": {},
   "source": [
    "(상황2) `개강전에` 동료교수와 함께 `저녁약속`을 카톡으로 잡았었음. 그런데 그게 언제인지 기억안남. "
   ]
  },
  {
   "cell_type": "markdown",
   "id": "666a88fa-50b5-4ae7-8a7b-d79a8570c235",
   "metadata": {},
   "source": [
    "(상황3) `오늘아침` 동료교수와 함께 `점심약속`을 카톡으로 잡았었음. 그런데 그 장소가 기억나지 않음. "
   ]
  },
  {
   "cell_type": "markdown",
   "id": "cf4547ba-2a06-43fc-a017-aa58b75aa794",
   "metadata": {},
   "source": [
    "`-` 순서대로 정리된 자료를 검색할때는 시퀀스형이 유리하다. 그런데 키워드로 검색하고 싶을 경우는 딕셔너리 타입이 유리하다. "
   ]
  },
  {
   "cell_type": "markdown",
   "id": "15d4ec4d-1c85-41a3-8e0a-824e6c0a35ca",
   "metadata": {},
   "source": [
    "## B. 선언 "
   ]
  },
  {
   "cell_type": "markdown",
   "id": "18e8e699-cc67-4a8c-a141-0ec9707d7643",
   "metadata": {},
   "source": [
    "`-` 방법1: 가장 일반적 "
   ]
  },
  {
   "cell_type": "code",
   "execution_count": 110,
   "id": "07d9e78f-0754-4e47-957c-9589f9b29369",
   "metadata": {},
   "outputs": [
    {
     "data": {
      "text/plain": [
       "{'guebin': 49, 'hanni': 80}"
      ]
     },
     "execution_count": 110,
     "metadata": {},
     "output_type": "execute_result"
    }
   ],
   "source": [
    "dct = {'guebin':49, 'hanni':80}\n",
    "dct"
   ]
  },
  {
   "cell_type": "markdown",
   "id": "8668963f-f5c5-46a5-b951-793e170955bb",
   "metadata": {},
   "source": [
    "`-` 방법2: `dict()` 이용 "
   ]
  },
  {
   "cell_type": "code",
   "execution_count": 112,
   "id": "7109fa8e-683a-40f3-92c5-31184ec1e3ff",
   "metadata": {},
   "outputs": [
    {
     "data": {
      "text/plain": [
       "{'guebin': 49, 'hanni': 80}"
      ]
     },
     "execution_count": 112,
     "metadata": {},
     "output_type": "execute_result"
    }
   ],
   "source": [
    "dct = dict(guebin=49, hanni=80)\n",
    "dct"
   ]
  },
  {
   "cell_type": "markdown",
   "id": "0105c96b-566c-4574-9a46-fc78f1f74ce1",
   "metadata": {},
   "source": [
    "`-` 방법3: 중첩된 리스트를 만든 뒤에 형태변환 "
   ]
  },
  {
   "cell_type": "code",
   "execution_count": 113,
   "id": "e0a92979-d594-435c-b24c-cfe4f731f47b",
   "metadata": {},
   "outputs": [
    {
     "data": {
      "text/plain": [
       "[['guebin', 49], ['hanni', 80]]"
      ]
     },
     "execution_count": 113,
     "metadata": {},
     "output_type": "execute_result"
    }
   ],
   "source": [
    "_lst = [['guebin',49],['hanni',80]]\n",
    "_lst "
   ]
  },
  {
   "cell_type": "code",
   "execution_count": 114,
   "id": "2fd19f0c-9023-43b7-a2ba-dc743166f82c",
   "metadata": {},
   "outputs": [
    {
     "data": {
      "text/plain": [
       "{'guebin': 49, 'hanni': 80}"
      ]
     },
     "execution_count": 114,
     "metadata": {},
     "output_type": "execute_result"
    }
   ],
   "source": [
    "dict(_lst)"
   ]
  },
  {
   "cell_type": "markdown",
   "id": "750a9a32-dd3f-44b2-a8a0-da84b9871521",
   "metadata": {},
   "source": [
    "`-` 방법4: 중첩된 튜플을 만든 뒤에 형태변환 "
   ]
  },
  {
   "cell_type": "code",
   "execution_count": 115,
   "id": "5115710c-3a13-44e9-9edb-ae7d6c41670c",
   "metadata": {},
   "outputs": [
    {
     "data": {
      "text/plain": [
       "(('guebin', 49), ('hanni', 80))"
      ]
     },
     "execution_count": 115,
     "metadata": {},
     "output_type": "execute_result"
    }
   ],
   "source": [
    "_tpl = ('guebin',49), ('hanni',80)\n",
    "_tpl"
   ]
  },
  {
   "cell_type": "code",
   "execution_count": 116,
   "id": "897f2fa0-6c06-44e1-9ba1-9fce55d8d18e",
   "metadata": {},
   "outputs": [
    {
     "data": {
      "text/plain": [
       "{'guebin': 49, 'hanni': 80}"
      ]
     },
     "execution_count": 116,
     "metadata": {},
     "output_type": "execute_result"
    }
   ],
   "source": [
    "dict(_tpl)"
   ]
  },
  {
   "cell_type": "markdown",
   "id": "2d52526d-c027-4692-9d9d-3086961e3a53",
   "metadata": {},
   "source": [
    "## C. 원소추출 "
   ]
  },
  {
   "cell_type": "markdown",
   "id": "3dd38db0-cba4-4ca0-85a9-a9cfd4f51ce7",
   "metadata": {},
   "source": [
    "`-` 원소의 위치로 추출할 수 없고, key로 추출해야 한다. "
   ]
  },
  {
   "cell_type": "code",
   "execution_count": 117,
   "id": "131e9f7d-1431-4124-ba16-b20305e223c2",
   "metadata": {},
   "outputs": [
    {
     "data": {
      "text/plain": [
       "{'guebin': 49, 'hanni': 80}"
      ]
     },
     "execution_count": 117,
     "metadata": {},
     "output_type": "execute_result"
    }
   ],
   "source": [
    "dct = {'guebin':49, 'hanni':80}\n",
    "dct"
   ]
  },
  {
   "cell_type": "markdown",
   "id": "9c060ee7-1ef5-4e16-84e2-7521b1d8fdfb",
   "metadata": {},
   "source": [
    "guebin의 점수를 추출하고 싶다면? "
   ]
  },
  {
   "cell_type": "code",
   "execution_count": 119,
   "id": "5b9bfc63-6f94-4d3e-93c7-5d8a92d282e4",
   "metadata": {},
   "outputs": [
    {
     "data": {
      "text/plain": [
       "49"
      ]
     },
     "execution_count": 119,
     "metadata": {},
     "output_type": "execute_result"
    }
   ],
   "source": [
    "dct['guebin']"
   ]
  },
  {
   "cell_type": "markdown",
   "id": "2d5f71c3-ca7d-4b7d-9fc4-8e77e0326b37",
   "metadata": {},
   "source": [
    "`-` 만약에 dict가 아니라 list로 정보를 저장했다면? "
   ]
  },
  {
   "cell_type": "markdown",
   "id": "f2750400-5378-4b02-a48b-e6174d536e5c",
   "metadata": {},
   "source": [
    "(예제) 아래와 같은 리스트에서 guebin의 점수를 추출하고 싶다면? "
   ]
  },
  {
   "cell_type": "code",
   "execution_count": 120,
   "id": "15fd189b-91d6-4ab2-b39d-5abe7465782e",
   "metadata": {},
   "outputs": [
    {
     "data": {
      "text/plain": [
       "[['guebin', 49], ['hanni', 80]]"
      ]
     },
     "execution_count": 120,
     "metadata": {},
     "output_type": "execute_result"
    }
   ],
   "source": [
    "lst=[['guebin',49],['hanni',80]]\n",
    "lst"
   ]
  },
  {
   "cell_type": "markdown",
   "id": "93703126-04f9-4173-9438-cf82325e89da",
   "metadata": {},
   "source": [
    "(풀이1)"
   ]
  },
  {
   "cell_type": "code",
   "execution_count": 120,
   "id": "c284eb0b-9bc0-475e-b049-ec328ecf593b",
   "metadata": {},
   "outputs": [
    {
     "data": {
      "text/plain": [
       "49"
      ]
     },
     "execution_count": 120,
     "metadata": {},
     "output_type": "execute_result"
    }
   ],
   "source": [
    "lst[0][1] # guebin의 점수를 출력하란 의미"
   ]
  },
  {
   "cell_type": "markdown",
   "id": "79ad9971-ae59-419f-a93f-86680e699e80",
   "metadata": {},
   "source": [
    "(풀이2) -- 진짜 최악"
   ]
  },
  {
   "cell_type": "code",
   "execution_count": 129,
   "id": "f3a65032-c089-4185-8915-ab02ec1665cd",
   "metadata": {},
   "outputs": [
    {
     "data": {
      "text/plain": [
       "[49]"
      ]
     },
     "execution_count": 129,
     "metadata": {},
     "output_type": "execute_result"
    }
   ],
   "source": [
    "[lst[i][1] for i in range(len(lst)) if lst[i][0] == 'guebin']"
   ]
  },
  {
   "cell_type": "markdown",
   "id": "9b282e99-ce55-4ea9-aabf-93514b261fcc",
   "metadata": {},
   "source": [
    "(풀이3) -- 덜 최악"
   ]
  },
  {
   "cell_type": "code",
   "execution_count": 132,
   "id": "88ac58df-b9a3-4a6b-b839-1c7d3d432031",
   "metadata": {},
   "outputs": [
    {
     "data": {
      "text/plain": [
       "[49]"
      ]
     },
     "execution_count": 132,
     "metadata": {},
     "output_type": "execute_result"
    }
   ],
   "source": [
    "[score for name,score in lst if name == 'guebin']"
   ]
  },
  {
   "cell_type": "markdown",
   "id": "be06d9f1-5369-41a9-987a-ec575935a05e",
   "metadata": {},
   "source": [
    "`-` 'guebin'의 점수를 추출하는 코드 비교 "
   ]
  },
  {
   "cell_type": "code",
   "execution_count": 52,
   "id": "6fe5acce-5559-4283-be9e-13a8b35c10ed",
   "metadata": {},
   "outputs": [
    {
     "data": {
      "text/plain": [
       "49"
      ]
     },
     "execution_count": 52,
     "metadata": {},
     "output_type": "execute_result"
    }
   ],
   "source": [
    "dct['guebin'] # 코드1: 단순하고, 가독성있음"
   ]
  },
  {
   "cell_type": "code",
   "execution_count": 53,
   "id": "dd2e14dc-a65b-470c-bca5-41b3f516d320",
   "metadata": {},
   "outputs": [
    {
     "data": {
      "text/plain": [
       "49"
      ]
     },
     "execution_count": 53,
     "metadata": {},
     "output_type": "execute_result"
    }
   ],
   "source": [
    "lst[0][1] # 코드2: 단순하지만, 가독성이 있는건 아님"
   ]
  },
  {
   "cell_type": "code",
   "execution_count": 54,
   "id": "6bbd2d86-7a92-432c-986a-809511e29cf3",
   "metadata": {},
   "outputs": [
    {
     "data": {
      "text/plain": [
       "[49]"
      ]
     },
     "execution_count": 54,
     "metadata": {},
     "output_type": "execute_result"
    }
   ],
   "source": [
    "[lst[i][1] for i in range(len(lst)) if lst[i][0] =='guebin'] # 코드3: 단순하지도 않고, 가독성도 없음."
   ]
  },
  {
   "cell_type": "code",
   "execution_count": 55,
   "id": "af0118f0-862c-4628-9bbe-f3a51c12aa4b",
   "metadata": {},
   "outputs": [
    {
     "data": {
      "text/plain": [
       "[49]"
      ]
     },
     "execution_count": 55,
     "metadata": {},
     "output_type": "execute_result"
    }
   ],
   "source": [
    "[score for name,score in lst if name=='guebin' ] # 코드4: 단순하지 않지만, 가독성은 있음"
   ]
  },
  {
   "cell_type": "markdown",
   "id": "433dd6ff-d828-474f-819e-1a1b6b296507",
   "metadata": {},
   "source": [
    "## D. 원소추가, 변경, 삭제"
   ]
  },
  {
   "cell_type": "code",
   "execution_count": 133,
   "id": "af6af135-877c-4942-924d-47dd02ded493",
   "metadata": {},
   "outputs": [
    {
     "data": {
      "text/plain": [
       "{'guebin': 49, 'hanni': 80}"
      ]
     },
     "execution_count": 133,
     "metadata": {},
     "output_type": "execute_result"
    }
   ],
   "source": [
    "dct={'guebin':49, 'hanni':80}\n",
    "dct"
   ]
  },
  {
   "cell_type": "markdown",
   "id": "72ac5db9-4257-4307-8316-bb940cf9e0af",
   "metadata": {},
   "source": [
    "`-` 원소에 접근: guebin의 점수 출력"
   ]
  },
  {
   "cell_type": "code",
   "execution_count": 134,
   "id": "1daf01b2-a079-4b43-8a9a-97e19d9046c8",
   "metadata": {},
   "outputs": [
    {
     "data": {
      "text/plain": [
       "49"
      ]
     },
     "execution_count": 134,
     "metadata": {},
     "output_type": "execute_result"
    }
   ],
   "source": [
    "dct['guebin']"
   ]
  },
  {
   "cell_type": "markdown",
   "id": "e7b6f0e3-3bc5-45c0-8014-3ef69a2fd706",
   "metadata": {},
   "source": [
    "`-` 추가: hynn학생의 점수를 추가"
   ]
  },
  {
   "cell_type": "code",
   "execution_count": 136,
   "id": "c9a0132f-4bd6-42a7-8986-c4935f089fd1",
   "metadata": {},
   "outputs": [],
   "source": [
    "dct['hynn'] = 99"
   ]
  },
  {
   "cell_type": "code",
   "execution_count": 137,
   "id": "9e4eb12d-88df-4eeb-8204-bde73d714569",
   "metadata": {},
   "outputs": [
    {
     "data": {
      "text/plain": [
       "{'guebin': 49, 'hanni': 80, 'hynn': 99}"
      ]
     },
     "execution_count": 137,
     "metadata": {},
     "output_type": "execute_result"
    }
   ],
   "source": [
    "dct"
   ]
  },
  {
   "cell_type": "markdown",
   "id": "4c4ec027-cf1b-41aa-942a-784b58bcc0fa",
   "metadata": {},
   "source": [
    "`-` 변경: hanni의 점수를 변경 "
   ]
  },
  {
   "cell_type": "code",
   "execution_count": 139,
   "id": "83ae32a6-ea36-471d-bee0-48aed2437dae",
   "metadata": {},
   "outputs": [],
   "source": [
    "dct['hanni'] = 100 "
   ]
  },
  {
   "cell_type": "code",
   "execution_count": 140,
   "id": "e3bee8c1-c68d-4b9c-91b5-0aad0bded8f4",
   "metadata": {},
   "outputs": [
    {
     "data": {
      "text/plain": [
       "{'guebin': 49, 'hanni': 100, 'hynn': 99}"
      ]
     },
     "execution_count": 140,
     "metadata": {},
     "output_type": "execute_result"
    }
   ],
   "source": [
    "dct"
   ]
  },
  {
   "cell_type": "markdown",
   "id": "f24fddaa-625d-4749-abff-ab65a30ec3cf",
   "metadata": {},
   "source": [
    "`-` 삭제 "
   ]
  },
  {
   "cell_type": "markdown",
   "id": "1a1e53cd-9bae-4a7b-8c0b-2e3d5eac5c22",
   "metadata": {},
   "source": [
    "(방법1)"
   ]
  },
  {
   "cell_type": "code",
   "execution_count": 141,
   "id": "8376b5a5-87f7-4523-bcd1-b9b855d6b244",
   "metadata": {},
   "outputs": [
    {
     "data": {
      "text/plain": [
       "{'hanni': 80, 'hynn': 99}"
      ]
     },
     "execution_count": 141,
     "metadata": {},
     "output_type": "execute_result"
    }
   ],
   "source": [
    "dct={'guebin':49, 'hanni':80, 'hynn':99}\n",
    "del dct['guebin']  \n",
    "dct"
   ]
  },
  {
   "cell_type": "markdown",
   "id": "385f333a-64e0-45ec-84fc-ee9e3a41e4a9",
   "metadata": {},
   "source": [
    "(방법2)"
   ]
  },
  {
   "cell_type": "code",
   "execution_count": 142,
   "id": "77ca092f-54a9-4ac5-a767-eb2738cec7bb",
   "metadata": {},
   "outputs": [
    {
     "data": {
      "text/plain": [
       "49"
      ]
     },
     "execution_count": 142,
     "metadata": {},
     "output_type": "execute_result"
    }
   ],
   "source": [
    "dct={'guebin':49, 'hanni':80, 'hynn':99} \n",
    "dct.pop('guebin')"
   ]
  },
  {
   "cell_type": "code",
   "execution_count": 62,
   "id": "2ad146b4-e7b8-4846-820d-bab2ad2881da",
   "metadata": {},
   "outputs": [
    {
     "data": {
      "text/plain": [
       "{'hanni': 80, 'hynn': 99}"
      ]
     },
     "execution_count": 62,
     "metadata": {},
     "output_type": "execute_result"
    }
   ],
   "source": [
    "dct"
   ]
  },
  {
   "cell_type": "markdown",
   "id": "cfeb0042-a1e4-4202-852d-62dfb92012fc",
   "metadata": {},
   "source": [
    "`-` 참고로 리스트였다면 이러한 삭제작업역시 비효율적이었을 것임 "
   ]
  },
  {
   "cell_type": "code",
   "execution_count": 143,
   "id": "d37fa8cd-f2dc-4406-a140-be6aa9bb8c16",
   "metadata": {},
   "outputs": [
    {
     "data": {
      "text/plain": [
       "[['guebin', 49], ['hanni', 80], ['hynn', 99]]"
      ]
     },
     "execution_count": 143,
     "metadata": {},
     "output_type": "execute_result"
    }
   ],
   "source": [
    "lst = [['guebin',49],['hanni',80],['hynn',99]] \n",
    "lst"
   ]
  },
  {
   "cell_type": "markdown",
   "id": "048bd5ca-c395-4952-984f-0de5b545c370",
   "metadata": {},
   "source": [
    "guebin의 점수를 삭제하려면? "
   ]
  },
  {
   "cell_type": "code",
   "execution_count": 150,
   "id": "1f87b54e-93c8-4584-968f-c173fcfd3efe",
   "metadata": {},
   "outputs": [
    {
     "data": {
      "text/plain": [
       "[['hanni', 80], ['hynn', 99]]"
      ]
     },
     "execution_count": 150,
     "metadata": {},
     "output_type": "execute_result"
    }
   ],
   "source": [
    "[[name,score] for name,score in lst if name != 'guebin']"
   ]
  },
  {
   "cell_type": "markdown",
   "id": "e7c01109-18c8-45bc-909f-7fd085a47a84",
   "metadata": {},
   "source": [
    "## E. 연산 "
   ]
  },
  {
   "cell_type": "markdown",
   "id": "90ff7ef7-2bd6-4621-a2a7-4c8201f91779",
   "metadata": {},
   "source": [
    "`-` 하나있어요.. "
   ]
  },
  {
   "cell_type": "code",
   "execution_count": 159,
   "id": "40dd3c89-2631-4cfd-ad6b-a7dd8e3ddd1d",
   "metadata": {},
   "outputs": [
    {
     "data": {
      "text/plain": [
       "{'guebin': 49, 'hanni': 80}"
      ]
     },
     "execution_count": 159,
     "metadata": {},
     "output_type": "execute_result"
    }
   ],
   "source": [
    "dct = {'guebin':49, 'hanni':80} \n",
    "dct"
   ]
  },
  {
   "cell_type": "code",
   "execution_count": 160,
   "id": "98b7ad04-0fea-42ac-9e8e-dda5c7de0b9a",
   "metadata": {},
   "outputs": [
    {
     "data": {
      "text/plain": [
       "True"
      ]
     },
     "execution_count": 160,
     "metadata": {},
     "output_type": "execute_result"
    }
   ],
   "source": [
    "'guebin' in dct"
   ]
  },
  {
   "cell_type": "code",
   "execution_count": 161,
   "id": "b25b9939-3c30-4551-9c01-62caf2a55f40",
   "metadata": {},
   "outputs": [
    {
     "data": {
      "text/plain": [
       "True"
      ]
     },
     "execution_count": 161,
     "metadata": {},
     "output_type": "execute_result"
    }
   ],
   "source": [
    "'hanni' in dct"
   ]
  },
  {
   "cell_type": "code",
   "execution_count": 162,
   "id": "06ce310d-a2cb-43db-80a7-7c65d8ab4e1c",
   "metadata": {},
   "outputs": [
    {
     "data": {
      "text/plain": [
       "False"
      ]
     },
     "execution_count": 162,
     "metadata": {},
     "output_type": "execute_result"
    }
   ],
   "source": [
    "'hynn' in dct"
   ]
  },
  {
   "cell_type": "markdown",
   "id": "26079158-be67-43cb-b08f-f5ec612c2b7d",
   "metadata": {},
   "source": [
    "`-` in은 사실 다른자료형도 가능했음 "
   ]
  },
  {
   "cell_type": "markdown",
   "id": "cd780fcf-ed83-4fad-89af-b0185b1bc52b",
   "metadata": {},
   "source": [
    "(관찰1)"
   ]
  },
  {
   "cell_type": "code",
   "execution_count": 152,
   "id": "54c67497-9f1e-4a47-bc15-6b4c5c65baf3",
   "metadata": {},
   "outputs": [
    {
     "data": {
      "text/plain": [
       "False"
      ]
     },
     "execution_count": 152,
     "metadata": {},
     "output_type": "execute_result"
    }
   ],
   "source": [
    "'a' in 'guebin' "
   ]
  },
  {
   "cell_type": "code",
   "execution_count": 153,
   "id": "bb4b392b-76a6-4634-95b2-b4426cd17fd5",
   "metadata": {},
   "outputs": [
    {
     "data": {
      "text/plain": [
       "True"
      ]
     },
     "execution_count": 153,
     "metadata": {},
     "output_type": "execute_result"
    }
   ],
   "source": [
    "'b' in 'guebin' "
   ]
  },
  {
   "cell_type": "code",
   "execution_count": 154,
   "id": "6eb404d9-3f83-4974-8c8d-3fd8b5145b0f",
   "metadata": {},
   "outputs": [
    {
     "data": {
      "text/plain": [
       "False"
      ]
     },
     "execution_count": 154,
     "metadata": {},
     "output_type": "execute_result"
    }
   ],
   "source": [
    "'c' in 'guebin' "
   ]
  },
  {
   "cell_type": "markdown",
   "id": "ee0ebbc7-3996-4baa-8804-37fd4c941d75",
   "metadata": {},
   "source": [
    "(관찰2)"
   ]
  },
  {
   "cell_type": "code",
   "execution_count": 155,
   "id": "ba411feb-79b5-47b1-8af3-00c72415ec82",
   "metadata": {},
   "outputs": [
    {
     "data": {
      "text/plain": [
       "(1, 2, 3)"
      ]
     },
     "execution_count": 155,
     "metadata": {},
     "output_type": "execute_result"
    }
   ],
   "source": [
    "tpl = 1,2,3 \n",
    "tpl"
   ]
  },
  {
   "cell_type": "code",
   "execution_count": 156,
   "id": "0e07af8e-9464-45dd-9b9d-2eda4dae5949",
   "metadata": {},
   "outputs": [
    {
     "data": {
      "text/plain": [
       "True"
      ]
     },
     "execution_count": 156,
     "metadata": {},
     "output_type": "execute_result"
    }
   ],
   "source": [
    "1 in tpl"
   ]
  },
  {
   "cell_type": "code",
   "execution_count": 157,
   "id": "642fbd5e-7902-4802-a02b-381060d67b83",
   "metadata": {},
   "outputs": [
    {
     "data": {
      "text/plain": [
       "False"
      ]
     },
     "execution_count": 157,
     "metadata": {},
     "output_type": "execute_result"
    }
   ],
   "source": [
    "4 in tpl"
   ]
  },
  {
   "cell_type": "markdown",
   "id": "529f0f3a-4b3f-46e6-b1cc-fa453e600288",
   "metadata": {},
   "source": [
    "(관찰3)"
   ]
  },
  {
   "cell_type": "code",
   "execution_count": 135,
   "id": "46b35057-8ffe-4776-8393-9ed436e73fcf",
   "metadata": {},
   "outputs": [
    {
     "data": {
      "text/plain": [
       "[['guebin', 49], ['hanni', 80], ['hynn', 99]]"
      ]
     },
     "execution_count": 135,
     "metadata": {},
     "output_type": "execute_result"
    }
   ],
   "source": [
    "lst = [['guebin',49],['hanni',80],['hynn',99]] \n",
    "lst"
   ]
  },
  {
   "cell_type": "code",
   "execution_count": 158,
   "id": "96841b96-7a45-4c0b-9cd0-979e4537bbe2",
   "metadata": {},
   "outputs": [
    {
     "data": {
      "text/plain": [
       "True"
      ]
     },
     "execution_count": 158,
     "metadata": {},
     "output_type": "execute_result"
    }
   ],
   "source": [
    "['guebin',49] in lst"
   ]
  },
  {
   "cell_type": "markdown",
   "id": "2f8319f0-53d6-415f-87c6-c62337ddb132",
   "metadata": {},
   "source": [
    "`-` in연산자가 dict형에 사용되면 key를 기준으로 True, False를 판단한다. "
   ]
  },
  {
   "cell_type": "markdown",
   "id": "899225b6-ac54-4070-ac19-aae0083388c3",
   "metadata": {},
   "source": [
    "## F. 딕셔너리 특수기능 "
   ]
  },
  {
   "cell_type": "markdown",
   "id": "2d8ef510-8772-4c9d-a769-fdeae25c1547",
   "metadata": {},
   "source": [
    "**(pop)**"
   ]
  },
  {
   "cell_type": "code",
   "execution_count": 164,
   "id": "84f168c0-12c7-447e-b723-5960525bb119",
   "metadata": {},
   "outputs": [
    {
     "data": {
      "text/plain": [
       "{'guebin': 49}"
      ]
     },
     "execution_count": 164,
     "metadata": {},
     "output_type": "execute_result"
    }
   ],
   "source": [
    "dct = {'guebin':49, 'hanni':80} \n",
    "dct.pop('hanni')\n",
    "dct"
   ]
  },
  {
   "cell_type": "markdown",
   "id": "bee69d81-a219-4782-a1c1-c93925507a58",
   "metadata": {},
   "source": [
    "**(get)**"
   ]
  },
  {
   "cell_type": "code",
   "execution_count": 165,
   "id": "2df6b4fb-5f44-481f-a079-abc508e83561",
   "metadata": {},
   "outputs": [
    {
     "data": {
      "text/plain": [
       "{'guebin': 49, 'hanni': 80}"
      ]
     },
     "execution_count": 165,
     "metadata": {},
     "output_type": "execute_result"
    }
   ],
   "source": [
    "dct = {'guebin':49, 'hanni':80} \n",
    "dct"
   ]
  },
  {
   "cell_type": "code",
   "execution_count": 149,
   "id": "9a2455a0-9e75-493e-8f07-167a1069b1a2",
   "metadata": {},
   "outputs": [
    {
     "data": {
      "text/plain": [
       "49"
      ]
     },
     "execution_count": 149,
     "metadata": {},
     "output_type": "execute_result"
    }
   ],
   "source": [
    "dct.get('guebin') "
   ]
  },
  {
   "cell_type": "markdown",
   "id": "af6cd7ae-0b05-446b-94b4-b625e63df357",
   "metadata": {},
   "source": [
    "아래와 같은 기능 "
   ]
  },
  {
   "cell_type": "code",
   "execution_count": 150,
   "id": "ee6634bd-0e0f-45cd-b619-713261eb6b22",
   "metadata": {},
   "outputs": [
    {
     "data": {
      "text/plain": [
       "49"
      ]
     },
     "execution_count": 150,
     "metadata": {},
     "output_type": "execute_result"
    }
   ],
   "source": [
    "dct['guebin']"
   ]
  },
  {
   "cell_type": "markdown",
   "id": "d29d6c00-f64c-4204-a851-f2ac50c34361",
   "metadata": {},
   "source": [
    "미묘한 차이점이 존재함 "
   ]
  },
  {
   "cell_type": "code",
   "execution_count": 151,
   "id": "869b9ba1-6513-460f-b015-0e2e8a334f22",
   "metadata": {},
   "outputs": [
    {
     "ename": "KeyError",
     "evalue": "'hynn'",
     "output_type": "error",
     "traceback": [
      "\u001b[0;31m---------------------------------------------------------------------------\u001b[0m",
      "\u001b[0;31mKeyError\u001b[0m                                  Traceback (most recent call last)",
      "Cell \u001b[0;32mIn[151], line 1\u001b[0m\n\u001b[0;32m----> 1\u001b[0m \u001b[43mdct\u001b[49m\u001b[43m[\u001b[49m\u001b[38;5;124;43m'\u001b[39;49m\u001b[38;5;124;43mhynn\u001b[39;49m\u001b[38;5;124;43m'\u001b[39;49m\u001b[43m]\u001b[49m \u001b[38;5;66;03m# hynn이 없어서 키에러 출력, 그런 key는 없다.. \u001b[39;00m\n",
      "\u001b[0;31mKeyError\u001b[0m: 'hynn'"
     ]
    }
   ],
   "source": [
    "dct['hynn'] # hynn이 없어서 키에러 출력, 그런 key는 없다.. "
   ]
  },
  {
   "cell_type": "code",
   "execution_count": 152,
   "id": "a5231d0e-fe8d-4a3e-b6fe-f2a343448805",
   "metadata": {},
   "outputs": [],
   "source": [
    "dct.get('hynn') # hynn이 없으면 아무것도 출력안함 "
   ]
  },
  {
   "cell_type": "markdown",
   "id": "075d3f55-7650-4005-9f9f-fd6d792d96cc",
   "metadata": {},
   "source": [
    "**(keys,values,items)**"
   ]
  },
  {
   "cell_type": "markdown",
   "id": "2f3e40a4-a6e0-4c02-aed2-dd921787011b",
   "metadata": {},
   "source": [
    "`-` .keys()는 딕셔너리의 키를 리턴한다.  "
   ]
  },
  {
   "cell_type": "code",
   "execution_count": 166,
   "id": "65e989dc-348f-48f5-9128-2e3d239a2fd7",
   "metadata": {},
   "outputs": [
    {
     "data": {
      "text/plain": [
       "{'guebin': 49, 'hanni': 80}"
      ]
     },
     "execution_count": 166,
     "metadata": {},
     "output_type": "execute_result"
    }
   ],
   "source": [
    "dct = {'guebin':49, 'hanni':80} \n",
    "dct"
   ]
  },
  {
   "cell_type": "code",
   "execution_count": 83,
   "id": "c4395cc1-9ea0-442b-8081-d77e2d58f5b7",
   "metadata": {},
   "outputs": [
    {
     "data": {
      "text/plain": [
       "dict_keys(['guebin', 'hanni'])"
      ]
     },
     "execution_count": 83,
     "metadata": {},
     "output_type": "execute_result"
    }
   ],
   "source": [
    "_keys=dct.keys()\n",
    "_keys"
   ]
  },
  {
   "cell_type": "code",
   "execution_count": 84,
   "id": "d706b078-b696-4a14-8ad9-36fa74f5dee8",
   "metadata": {},
   "outputs": [
    {
     "data": {
      "text/plain": [
       "dict_keys"
      ]
     },
     "execution_count": 84,
     "metadata": {},
     "output_type": "execute_result"
    }
   ],
   "source": [
    "type(_keys) # 리턴된 자료형은 이상한것임"
   ]
  },
  {
   "cell_type": "code",
   "execution_count": 85,
   "id": "af1cd8e2-0cd9-41a3-bce6-82352efd8b16",
   "metadata": {},
   "outputs": [
    {
     "data": {
      "text/plain": [
       "['guebin', 'hanni']"
      ]
     },
     "execution_count": 85,
     "metadata": {},
     "output_type": "execute_result"
    }
   ],
   "source": [
    "list(_keys) # 아무튼 그 이상한 자료형도 리스트화 가능 "
   ]
  },
  {
   "cell_type": "markdown",
   "id": "e9ebc48d-aa47-4275-9732-0f72f5ef8152",
   "metadata": {},
   "source": [
    "`-` .values()는 딕셔너리의 값들을 리턴한다. "
   ]
  },
  {
   "cell_type": "code",
   "execution_count": 86,
   "id": "400031b3-f7a0-4d68-b1e2-54abd1beb79a",
   "metadata": {},
   "outputs": [
    {
     "data": {
      "text/plain": [
       "dict_values([49, 80])"
      ]
     },
     "execution_count": 86,
     "metadata": {},
     "output_type": "execute_result"
    }
   ],
   "source": [
    "_values = dct.values()\n",
    "_values "
   ]
  },
  {
   "cell_type": "code",
   "execution_count": 87,
   "id": "3ab4c07b-ad42-4f1d-ae81-0a7581f3b894",
   "metadata": {},
   "outputs": [
    {
     "data": {
      "text/plain": [
       "dict_values"
      ]
     },
     "execution_count": 87,
     "metadata": {},
     "output_type": "execute_result"
    }
   ],
   "source": [
    "type(_values)"
   ]
  },
  {
   "cell_type": "code",
   "execution_count": 88,
   "id": "2e966ef6-9f69-42db-9c1a-5558be0356f6",
   "metadata": {},
   "outputs": [
    {
     "data": {
      "text/plain": [
       "[49, 80]"
      ]
     },
     "execution_count": 88,
     "metadata": {},
     "output_type": "execute_result"
    }
   ],
   "source": [
    "list(_values)"
   ]
  },
  {
   "cell_type": "markdown",
   "id": "12368eec-af56-4d38-8184-512068f68dac",
   "metadata": {},
   "source": [
    "`-` .items()는 딕셔너리의 (키,값)을 리턴한다. "
   ]
  },
  {
   "cell_type": "code",
   "execution_count": 89,
   "id": "de23d6d7-36cc-4abd-a49d-02fe82c8f8e8",
   "metadata": {},
   "outputs": [
    {
     "data": {
      "text/plain": [
       "dict_items([('guebin', 49), ('hanni', 80)])"
      ]
     },
     "execution_count": 89,
     "metadata": {},
     "output_type": "execute_result"
    }
   ],
   "source": [
    "_items = dct.items()\n",
    "_items "
   ]
  },
  {
   "cell_type": "code",
   "execution_count": 90,
   "id": "807955b6-259c-4874-84e7-c21985306ce8",
   "metadata": {},
   "outputs": [
    {
     "data": {
      "text/plain": [
       "dict_items"
      ]
     },
     "execution_count": 90,
     "metadata": {},
     "output_type": "execute_result"
    }
   ],
   "source": [
    "type(_items)"
   ]
  },
  {
   "cell_type": "code",
   "execution_count": 91,
   "id": "b5627b39-598d-4b8e-b05a-efc667e00298",
   "metadata": {},
   "outputs": [
    {
     "data": {
      "text/plain": [
       "[('guebin', 49), ('hanni', 80)]"
      ]
     },
     "execution_count": 91,
     "metadata": {},
     "output_type": "execute_result"
    }
   ],
   "source": [
    "list(_items)"
   ]
  },
  {
   "cell_type": "markdown",
   "id": "c40de375-2261-45c9-b564-2b1a044ee5b5",
   "metadata": {},
   "source": [
    "## G. for문과 dict ($\\star$)"
   ]
  },
  {
   "cell_type": "code",
   "execution_count": 179,
   "id": "a86cb042-6a3c-4b4d-a676-33b91191b888",
   "metadata": {},
   "outputs": [
    {
     "data": {
      "text/plain": [
       "{'guebin': 49, 'hanni': 80}"
      ]
     },
     "execution_count": 179,
     "metadata": {},
     "output_type": "execute_result"
    }
   ],
   "source": [
    "dct = {'guebin': 49, 'hanni': 80}\n",
    "dct"
   ]
  },
  {
   "cell_type": "markdown",
   "id": "28877e87-c72a-4e06-ba43-2ed0c603550f",
   "metadata": {},
   "source": [
    "(예시1) "
   ]
  },
  {
   "cell_type": "code",
   "execution_count": 182,
   "id": "a128e5fa-23f2-466a-9e79-6c1d76c6aa02",
   "metadata": {},
   "outputs": [
    {
     "name": "stdout",
     "output_type": "stream",
     "text": [
      "guebin\n",
      "hanni\n"
     ]
    }
   ],
   "source": [
    "for k in dct.keys():\n",
    "    print(k)"
   ]
  },
  {
   "cell_type": "code",
   "execution_count": 183,
   "id": "43a3e3d6-1227-4c85-81ae-2616fe82c419",
   "metadata": {},
   "outputs": [
    {
     "name": "stdout",
     "output_type": "stream",
     "text": [
      "guebin\n",
      "hanni\n"
     ]
    }
   ],
   "source": [
    "for k in dct:\n",
    "    print(k)"
   ]
  },
  {
   "cell_type": "markdown",
   "id": "317fb8f6-4e6c-4bec-889a-5fa7ea9d7917",
   "metadata": {},
   "source": [
    "- 딕셔너리 그자체도 for문에 넣을 수 있다. \n",
    "- k에는 value가 삭제되어 들어간다. (즉 key만)\n",
    "- 결과를 보면 dct 대신에 dct.keys()와 list(dct)를 넣었을때와 결과가 같다. "
   ]
  },
  {
   "cell_type": "markdown",
   "id": "dbde12e5-c2c6-4259-b8c9-0e8f1a5a41ae",
   "metadata": {},
   "source": [
    "> Note: list(dct) 하면 key만 리턴된다. "
   ]
  },
  {
   "cell_type": "markdown",
   "id": "9450f21b-71fd-4a74-888d-498348083d64",
   "metadata": {},
   "source": [
    "(예시2)"
   ]
  },
  {
   "cell_type": "code",
   "execution_count": 94,
   "id": "53aac535-3ec0-471d-9c81-64e5ad6b2933",
   "metadata": {},
   "outputs": [
    {
     "name": "stdout",
     "output_type": "stream",
     "text": [
      "49\n",
      "80\n"
     ]
    }
   ],
   "source": [
    "for v in dct.values():\n",
    "    print(v)"
   ]
  },
  {
   "cell_type": "markdown",
   "id": "8daf9667-7f0f-471a-87a1-587d374a4312",
   "metadata": {},
   "source": [
    "(예시3)"
   ]
  },
  {
   "cell_type": "code",
   "execution_count": 187,
   "id": "2f215e97-3349-4942-9b1c-09cc1d01fd2f",
   "metadata": {},
   "outputs": [
    {
     "name": "stdout",
     "output_type": "stream",
     "text": [
      "('guebin', 49)\n",
      "('hanni', 80)\n"
     ]
    }
   ],
   "source": [
    "for i in dct.items():\n",
    "    print(i)"
   ]
  },
  {
   "cell_type": "markdown",
   "id": "f2d51ea0-9ad1-45ad-b389-0775ca0417ca",
   "metadata": {},
   "source": [
    "(예시4)"
   ]
  },
  {
   "cell_type": "code",
   "execution_count": 193,
   "id": "6295eeda-c51d-4b07-af6f-38d03aed7ec4",
   "metadata": {},
   "outputs": [
    {
     "name": "stdout",
     "output_type": "stream",
     "text": [
      "guebin 49\n",
      "hanni 80\n"
     ]
    }
   ],
   "source": [
    "for k,v in dct.items():\n",
    "    print(k,v)"
   ]
  },
  {
   "cell_type": "markdown",
   "id": "2dc07876-174e-4608-9421-905987daee93",
   "metadata": {},
   "source": [
    "(예시5) -- {}의 중간고사 점수는 {}점 입니다."
   ]
  },
  {
   "cell_type": "code",
   "execution_count": 199,
   "id": "a106eb5c-e64b-477d-b18b-84d7c0dbc6a0",
   "metadata": {},
   "outputs": [
    {
     "name": "stdout",
     "output_type": "stream",
     "text": [
      "guebin의 중간고사 점수는 49점 입니다.\n",
      "hanni의 중간고사 점수는 80점 입니다.\n"
     ]
    }
   ],
   "source": [
    "for name,score in dct.items():\n",
    "    print('{}의 중간고사 점수는 {}점 입니다.'.format(name,score))"
   ]
  },
  {
   "cell_type": "markdown",
   "id": "db3e59a6-aab1-4144-852f-a0282aa09568",
   "metadata": {},
   "source": [
    "## H. dict에서 key혹은 value만 뽑아내기 "
   ]
  },
  {
   "cell_type": "markdown",
   "id": "20b5d3e3-8227-4e7f-baae-4fa9af5d150c",
   "metadata": {},
   "source": [
    "`-` 예제: 아래의 dict에서 key만 뽑아내고 싶다. "
   ]
  },
  {
   "cell_type": "code",
   "execution_count": 98,
   "id": "94df70b3-4777-48bf-80c6-2ef9633d8d2d",
   "metadata": {},
   "outputs": [],
   "source": [
    "dct = {'guebin':49, 'hanni':80} "
   ]
  },
  {
   "cell_type": "markdown",
   "id": "253adde1-a5d0-4e6e-9d14-5e402866ba3f",
   "metadata": {},
   "source": [
    "(풀이1)"
   ]
  },
  {
   "cell_type": "code",
   "execution_count": 99,
   "id": "d416cc5a-ca74-46a4-89b8-e3fefbdfa986",
   "metadata": {},
   "outputs": [
    {
     "data": {
      "text/plain": [
       "['guebin', 'hanni']"
      ]
     },
     "execution_count": 99,
     "metadata": {},
     "output_type": "execute_result"
    }
   ],
   "source": [
    "list(dct)"
   ]
  },
  {
   "cell_type": "markdown",
   "id": "ee4b3d7e-32b9-4b33-80a3-1614a2240306",
   "metadata": {},
   "source": [
    "(풀이2)"
   ]
  },
  {
   "cell_type": "code",
   "execution_count": 100,
   "id": "fbf8bb94-37c8-4697-8b0c-2a4e313a8c8f",
   "metadata": {},
   "outputs": [
    {
     "data": {
      "text/plain": [
       "['guebin', 'hanni']"
      ]
     },
     "execution_count": 100,
     "metadata": {},
     "output_type": "execute_result"
    }
   ],
   "source": [
    "list(dct.keys())"
   ]
  },
  {
   "cell_type": "markdown",
   "id": "e560361c-8c63-457d-8a2f-907bccb336e2",
   "metadata": {},
   "source": [
    "(풀이3)"
   ]
  },
  {
   "cell_type": "code",
   "execution_count": 101,
   "id": "f30e0c2d-c81f-4340-8c28-0ce2da653f95",
   "metadata": {},
   "outputs": [
    {
     "data": {
      "text/plain": [
       "['guebin', 'hanni']"
      ]
     },
     "execution_count": 101,
     "metadata": {},
     "output_type": "execute_result"
    }
   ],
   "source": [
    "[k for k in dct]"
   ]
  },
  {
   "cell_type": "markdown",
   "id": "163828ad-115b-445b-ab46-d0c1f8b180d3",
   "metadata": {},
   "source": [
    "(풀이4)"
   ]
  },
  {
   "cell_type": "code",
   "execution_count": 102,
   "id": "cce2b078-5b12-4ede-82e2-c2987b79a6c0",
   "metadata": {},
   "outputs": [
    {
     "data": {
      "text/plain": [
       "['guebin', 'hanni']"
      ]
     },
     "execution_count": 102,
     "metadata": {},
     "output_type": "execute_result"
    }
   ],
   "source": [
    "[k for k,v in dct.items()]"
   ]
  },
  {
   "cell_type": "markdown",
   "id": "e2245f34-ffb2-4d30-900e-96a691d5f047",
   "metadata": {},
   "source": [
    "`-` 예제: 아래의 dict에서 value만 뽑아내고 싶다. "
   ]
  },
  {
   "cell_type": "code",
   "execution_count": 103,
   "id": "3d014038-46d1-4d0c-b2e9-0b556fcaaa57",
   "metadata": {},
   "outputs": [],
   "source": [
    "dct = {'guebin':49, 'hanni':80} "
   ]
  },
  {
   "cell_type": "markdown",
   "id": "71f254e5-e8de-4018-acde-8ff9e657a0e8",
   "metadata": {},
   "source": [
    "(풀이1)"
   ]
  },
  {
   "cell_type": "code",
   "execution_count": 104,
   "id": "b643d03f-fbdd-45e1-808b-2012b94c3706",
   "metadata": {},
   "outputs": [
    {
     "data": {
      "text/plain": [
       "[49, 80]"
      ]
     },
     "execution_count": 104,
     "metadata": {},
     "output_type": "execute_result"
    }
   ],
   "source": [
    "list(dct.values())"
   ]
  },
  {
   "cell_type": "markdown",
   "id": "b7fdc95d-f65d-4bc9-8af2-a169a3a6b560",
   "metadata": {},
   "source": [
    "(풀이2)"
   ]
  },
  {
   "cell_type": "code",
   "execution_count": 105,
   "id": "6667a77c-da81-4474-9871-d1abfe96c918",
   "metadata": {},
   "outputs": [
    {
     "data": {
      "text/plain": [
       "[49, 80]"
      ]
     },
     "execution_count": 105,
     "metadata": {},
     "output_type": "execute_result"
    }
   ],
   "source": [
    "[dct[k] for k in dct]"
   ]
  },
  {
   "cell_type": "markdown",
   "id": "91b1302a-eabb-495a-83e9-ec8ef9cad2c0",
   "metadata": {},
   "source": [
    "(풀이3)"
   ]
  },
  {
   "cell_type": "code",
   "execution_count": 106,
   "id": "93a8caa0-8330-4add-83bf-08cde4b9c196",
   "metadata": {},
   "outputs": [
    {
     "data": {
      "text/plain": [
       "[49, 80]"
      ]
     },
     "execution_count": 106,
     "metadata": {},
     "output_type": "execute_result"
    }
   ],
   "source": [
    "[v for v in dct.values()]"
   ]
  },
  {
   "cell_type": "markdown",
   "id": "556bc49d-98ad-433f-91b0-570b76fcc3e3",
   "metadata": {},
   "source": [
    "(풀이4)"
   ]
  },
  {
   "cell_type": "code",
   "execution_count": 107,
   "id": "b4e85a31-ee2c-42e4-8c8e-7792289ee086",
   "metadata": {},
   "outputs": [
    {
     "data": {
      "text/plain": [
       "[49, 80]"
      ]
     },
     "execution_count": 107,
     "metadata": {},
     "output_type": "execute_result"
    }
   ],
   "source": [
    "[v for k,v in dct.items()]"
   ]
  },
  {
   "cell_type": "markdown",
   "id": "51882ab8-b19c-4600-9930-b611516bfa9f",
   "metadata": {},
   "source": [
    "# 6. 딕셔너리를 이용한 치환 ($\\star$)"
   ]
  },
  {
   "cell_type": "markdown",
   "id": "5c2667f5-065e-4e29-93af-9dea8981436f",
   "metadata": {},
   "source": [
    "## A. 바꿔치기 (1)"
   ]
  },
  {
   "cell_type": "markdown",
   "id": "d900d96d-b612-4909-9cfc-766a78ef851a",
   "metadata": {},
   "source": [
    "`-` 예제1: 아래와 같은 리스트가 있다고 하자. "
   ]
  },
  {
   "cell_type": "code",
   "execution_count": 163,
   "id": "894332f3-262b-41d2-8860-df41e91190a0",
   "metadata": {},
   "outputs": [
    {
     "data": {
      "text/plain": [
       "['a', 'b', 'c', 'd', 'a', 'b', 'c', 'd']"
      ]
     },
     "execution_count": 163,
     "metadata": {},
     "output_type": "execute_result"
    }
   ],
   "source": [
    "lst = list('abcd'*2)\n",
    "lst"
   ]
  },
  {
   "cell_type": "markdown",
   "id": "429f8451-9ab0-45eb-a627-38475118e820",
   "metadata": {},
   "source": [
    "아래의 규칙에 의하여 lst의 각 원소의 값을 바꾸고 싶다고 하자. 이를 구현하는 코드를 작성하라. "
   ]
  },
  {
   "cell_type": "markdown",
   "id": "c81d229b-a5ac-4c62-b9c7-1091fdd18d36",
   "metadata": {},
   "source": [
    "|변환전|변환후|\n",
    "|:-:|:-:|\n",
    "|'a'|[1,0,0,0]|\n",
    "|'b'|[0,1,0,0]|\n",
    "|'c'|[0,0,1,0]|\n",
    "|'d'|[0,0,0,1]|"
   ]
  },
  {
   "cell_type": "markdown",
   "id": "fdcf4486-735f-4269-8b32-2d55c3a4d6fd",
   "metadata": {},
   "source": [
    "hint: 아래의 dct를 이용할 것 "
   ]
  },
  {
   "cell_type": "code",
   "execution_count": 214,
   "id": "98123886-7c0b-4be7-a90b-52e052c4ac64",
   "metadata": {},
   "outputs": [
    {
     "data": {
      "text/plain": [
       "['a', 'b', 'c', 'd', 'a', 'b', 'c', 'd']"
      ]
     },
     "execution_count": 214,
     "metadata": {},
     "output_type": "execute_result"
    }
   ],
   "source": [
    "lst = list('abcd'*2)\n",
    "lst"
   ]
  },
  {
   "cell_type": "code",
   "execution_count": 215,
   "id": "2440de70-eb3d-459e-aeb8-fa0489f623e6",
   "metadata": {},
   "outputs": [
    {
     "data": {
      "text/plain": [
       "{'a': [1, 0, 0, 0], 'b': [0, 1, 0, 0], 'c': [0, 0, 1, 0], 'd': [0, 0, 0, 1]}"
      ]
     },
     "execution_count": 215,
     "metadata": {},
     "output_type": "execute_result"
    }
   ],
   "source": [
    "dct = {'a':[1,0,0,0], 'b':[0,1,0,0], 'c':[0,0,1,0], 'd':[0,0,0,1]}\n",
    "dct"
   ]
  },
  {
   "cell_type": "markdown",
   "id": "22da6c8f-6535-4ecb-961c-21202a9b7acb",
   "metadata": {},
   "source": [
    "(풀이)"
   ]
  },
  {
   "cell_type": "code",
   "execution_count": null,
   "id": "ed697862-fb24-4478-a033-2cb30d8c6ffc",
   "metadata": {},
   "outputs": [],
   "source": []
  },
  {
   "cell_type": "markdown",
   "id": "5d4204e8-d5cf-4432-900c-aaedb0359f5e",
   "metadata": {},
   "source": [
    "`-` 예제2: 예제1을 역변환하라. "
   ]
  },
  {
   "cell_type": "code",
   "execution_count": 225,
   "id": "c2aba97d-391a-41f0-a519-9f97c9f0934a",
   "metadata": {},
   "outputs": [],
   "source": [
    "dct = {'a':[1,0,0,0], 'b':[0,1,0,0], 'c':[0,0,1,0], 'd':[0,0,0,1]}"
   ]
  },
  {
   "cell_type": "code",
   "execution_count": 226,
   "id": "6f4fabcd-778d-4ad4-9899-f6124dca300c",
   "metadata": {},
   "outputs": [
    {
     "data": {
      "text/plain": [
       "[[1, 0, 0, 0],\n",
       " [0, 1, 0, 0],\n",
       " [0, 0, 1, 0],\n",
       " [0, 0, 0, 1],\n",
       " [1, 0, 0, 0],\n",
       " [0, 1, 0, 0],\n",
       " [0, 0, 1, 0],\n",
       " [0, 0, 0, 1]]"
      ]
     },
     "execution_count": 226,
     "metadata": {},
     "output_type": "execute_result"
    }
   ],
   "source": [
    "lst= [[1, 0, 0, 0],\n",
    "      [0, 1, 0, 0],\n",
    "      [0, 0, 1, 0],\n",
    "      [0, 0, 0, 1],\n",
    "      [1, 0, 0, 0],\n",
    "      [0, 1, 0, 0],\n",
    "      [0, 0, 1, 0],\n",
    "      [0, 0, 0, 1]]\n",
    "lst "
   ]
  },
  {
   "cell_type": "markdown",
   "id": "20a548bf-09dc-49dc-b3be-870f420c795c",
   "metadata": {},
   "source": [
    "(풀이)"
   ]
  },
  {
   "cell_type": "code",
   "execution_count": null,
   "id": "65df13ae-a3ba-4cb7-bdb2-9e66c5661499",
   "metadata": {},
   "outputs": [],
   "source": []
  },
  {
   "cell_type": "markdown",
   "id": "446519d8-812d-4475-97e8-2c5f827f477d",
   "metadata": {},
   "source": [
    "## B. 바꿔치기 (2)"
   ]
  },
  {
   "cell_type": "markdown",
   "id": "84d32831-7742-4480-99fa-0b3b5c212ab2",
   "metadata": {},
   "source": [
    "`-` 예제1: 아래와 같은 리스트를 고려하자. "
   ]
  },
  {
   "cell_type": "code",
   "execution_count": 240,
   "id": "cd843f81-b422-4657-bc7e-646bbe3b4dc1",
   "metadata": {},
   "outputs": [],
   "source": [
    "lst = ['딸기','사과','바나나','딸기','사과','오토바이','자동차','버스','기차','오토바이','자동차']"
   ]
  },
  {
   "cell_type": "markdown",
   "id": "555d9c8c-64b4-49e4-8a3d-d058fb29c9a2",
   "metadata": {},
   "source": [
    "다음의 맵핑규칙에 따라서 위의 리스트의 원소를 바꾸어라. "
   ]
  },
  {
   "cell_type": "markdown",
   "id": "5df4ae41-99af-4ba7-91c2-c8e522509c2b",
   "metadata": {},
   "source": [
    "|변환전|변환후|\n",
    "|:-:|:-:|\n",
    "|딸기|과일|\n",
    "|사과|과일|\n",
    "|바나나|과일|\n",
    "|오토바이|탈것|\n",
    "|자동차|탈것|\n",
    "|버스|탈것|\n",
    "|기차|탈것|"
   ]
  },
  {
   "cell_type": "markdown",
   "id": "dcac3bcc-8b2c-4f46-a316-435dee7bca26",
   "metadata": {},
   "source": [
    "(풀이)"
   ]
  },
  {
   "cell_type": "code",
   "execution_count": null,
   "id": "3f1b8a17-6701-4b38-9f26-229e4de88b82",
   "metadata": {},
   "outputs": [],
   "source": []
  },
  {
   "cell_type": "markdown",
   "id": "a1bb15b7-0fb7-4c37-8f15-e28409f4689c",
   "metadata": {},
   "source": [
    "## C. 연습문제 "
   ]
  },
  {
   "cell_type": "markdown",
   "id": "5ca21af4-7aa8-4889-bb2e-b94548e51f7a",
   "metadata": {},
   "source": [
    "`#`. 아래와 같은 맵핑을 고려하자. "
   ]
  },
  {
   "cell_type": "markdown",
   "id": "06814266-d939-4c65-9456-c07ed03b2f2f",
   "metadata": {},
   "source": [
    "|문자|숫자|\n",
    "|:-:|:-:|\n",
    "|a|1|\n",
    "|b|0|"
   ]
  },
  {
   "cell_type": "markdown",
   "id": "cdea514e-17c0-4eda-80fe-5684c69ce641",
   "metadata": {},
   "source": [
    "이를 딕셔너리로 표현하면 아래와 같다. "
   ]
  },
  {
   "cell_type": "code",
   "execution_count": 36,
   "id": "f9ba4ef5-d4e0-4feb-9205-023addb1b9d7",
   "metadata": {},
   "outputs": [],
   "source": [
    "dct = {'a':0, 'b':1} "
   ]
  },
  {
   "cell_type": "markdown",
   "id": "fc65c3cf-f71c-4709-90b9-7f09f2bde583",
   "metadata": {},
   "source": [
    "위 규칙에 따라서 아래의 리스트의 원소를 문자로 각각 변환하라."
   ]
  },
  {
   "cell_type": "code",
   "execution_count": 37,
   "id": "6ed824de-46d0-4c0d-b10f-19607c9d663c",
   "metadata": {},
   "outputs": [],
   "source": [
    "lst = [1, 0, 1, 0, 1, 0, 1, 1, 1, 1, 0, 0, 1, 0, 1]"
   ]
  },
  {
   "cell_type": "markdown",
   "id": "bd96af6d-4dce-476d-bdb4-763a86a61da1",
   "metadata": {},
   "source": [
    "```Python\n",
    "# 출력은 아래와 같아야 한다. \n",
    "['b', 'a', 'b', 'a', 'b', 'a', 'b', 'b', 'b', 'b', 'a', 'a', 'b', 'a', 'b']\n",
    "```"
   ]
  },
  {
   "cell_type": "markdown",
   "id": "f70bcbc6-5701-49d9-9879-d69a8de60982",
   "metadata": {},
   "source": [
    "(풀이)"
   ]
  },
  {
   "cell_type": "code",
   "execution_count": null,
   "id": "cef45509-c472-4d50-89cb-030001a43661",
   "metadata": {},
   "outputs": [],
   "source": []
  },
  {
   "cell_type": "markdown",
   "id": "e28f7d9b-23f9-428d-bcf2-0c8429895a92",
   "metadata": {},
   "source": [
    "`#`. 아래와 같은 맵핑을 고려하자. "
   ]
  },
  {
   "cell_type": "markdown",
   "id": "1da0b6a2-e228-4e0e-b8a2-d1e605ce04c1",
   "metadata": {},
   "source": [
    "|월|의미|\n",
    "|:-:|:-:|\n",
    "|1,2|겨울방학|\n",
    "|3,4,5,6|1학기|\n",
    "|7,8|여름방학|\n",
    "|9,10,11,12|2학기|"
   ]
  },
  {
   "cell_type": "markdown",
   "id": "15577566-bcaa-40dd-85da-6fb1f86065d1",
   "metadata": {},
   "source": [
    "이러한 규칙에 맞게 아래의 리스트를 적절한 문자열로 변환하라. "
   ]
  },
  {
   "cell_type": "code",
   "execution_count": 41,
   "id": "fcd4f0a4-62a2-4ef4-8ba2-377813310dfb",
   "metadata": {},
   "outputs": [],
   "source": [
    "month = [1,2,2,3,4,5,6,7,8,9,9,10,11,12] "
   ]
  },
  {
   "cell_type": "markdown",
   "id": "cf4e55d1-042c-4403-ac63-536858a3a15f",
   "metadata": {},
   "source": [
    "```Python\n",
    "## 출력은 아래와 같아야 한다. \n",
    "['겨울방학', '겨울방학', '겨울방학', '1학기', '1학기', '1학기', '1학기', '여름방학', '여름방학', '2학기', '2학기', '2학기', '2학기', '2학기']\n",
    "```"
   ]
  },
  {
   "cell_type": "markdown",
   "id": "c8e20a9a-c20d-472c-ac26-c28fec3f6d25",
   "metadata": {},
   "source": [
    "(풀이)"
   ]
  },
  {
   "cell_type": "code",
   "execution_count": null,
   "id": "30097cb1-f308-4dbd-a8b6-7f673454b162",
   "metadata": {},
   "outputs": [],
   "source": []
  },
  {
   "cell_type": "markdown",
   "id": "8502a172-0574-4c12-9af1-379e610c130c",
   "metadata": {},
   "source": [
    "`##` -- 합성변환"
   ]
  },
  {
   "cell_type": "markdown",
   "id": "bbec467d-2d57-4665-b6c6-649b7610f9f0",
   "metadata": {},
   "source": [
    "아래와 같은 맵핑을 고려하자. "
   ]
  },
  {
   "cell_type": "markdown",
   "id": "db9d0ecc-6a1b-492d-b176-dab26e7b4fda",
   "metadata": {},
   "source": [
    "(규칙1)"
   ]
  },
  {
   "cell_type": "markdown",
   "id": "8e26616e-bac4-4656-8b58-4b15af4e4c69",
   "metadata": {},
   "source": [
    "|문자|숫자|\n",
    "|:-:|:-:|\n",
    "|바나나|0|\n",
    "|사과|1|\n",
    "|오토바이|2|\n",
    "|자동차|3|\n",
    "|자전거|4|"
   ]
  },
  {
   "cell_type": "markdown",
   "id": "154876d5-fcbe-448a-9f31-bd6c303fb29c",
   "metadata": {},
   "source": [
    "(규칙2)"
   ]
  },
  {
   "cell_type": "markdown",
   "id": "08447d28-3f52-4f6d-b2d4-d36cccdbea60",
   "metadata": {},
   "source": [
    "|아이템|카테고리|\n",
    "|:-:|:-:|\n",
    "|바나나|과일|\n",
    "|사과|과일|\n",
    "|오토바이|탈것|\n",
    "|자동차|탈것|\n",
    "|자전거|탈것|"
   ]
  },
  {
   "cell_type": "markdown",
   "id": "0346fc5b-9d31-4b2d-9377-7e968c7afef8",
   "metadata": {},
   "source": [
    "각각의 규칙을 나타내는 딕셔너리는 아래와 같이 선언되어있다고 하자. "
   ]
  },
  {
   "cell_type": "code",
   "execution_count": 44,
   "id": "60d9f5c6-f0d1-4ffa-8dc1-e3124947e64c",
   "metadata": {},
   "outputs": [],
   "source": [
    "dct1 = {'바나나':0, '사과':1, '오토바이':2, '자동차':3, '자전거':4} \n",
    "dct2 = {'과일':['바나나','사과'], '탈것':['오토바이','자동차','자전거']} "
   ]
  },
  {
   "cell_type": "markdown",
   "id": "3063da2e-bd69-4fd2-9b82-e1544ee27bee",
   "metadata": {},
   "source": [
    "`#`. 규칙1를 이용하여 아래와 같은 리스트를 변환하는 함수를 구현하고 그 함수를 `f`라 선언하라."
   ]
  },
  {
   "cell_type": "markdown",
   "id": "bc052528-58b3-423b-bd3c-f93d9d015961",
   "metadata": {},
   "source": [
    "```Python\n",
    "# 입력 \n",
    "[0,1,0,1,4]\n",
    "\n",
    "# 출력 \n",
    "['바나나', '사과', '바나나', '사과', '자전거']\n",
    "```"
   ]
  },
  {
   "cell_type": "markdown",
   "id": "6a9080d4-0195-4a9a-8ec0-114dc09dc823",
   "metadata": {},
   "source": [
    "(사용예시)"
   ]
  },
  {
   "cell_type": "code",
   "execution_count": 202,
   "id": "bc8521e4-fa35-431e-95f6-ffbbe341da05",
   "metadata": {},
   "outputs": [
    {
     "data": {
      "text/plain": [
       "['바나나', '사과', '바나나', '사과', '자전거']"
      ]
     },
     "execution_count": 202,
     "metadata": {},
     "output_type": "execute_result"
    }
   ],
   "source": [
    "f([0,1,0,1,4])"
   ]
  },
  {
   "cell_type": "markdown",
   "id": "cceaf285-b7d7-4f9a-a0a5-0584fa97e03b",
   "metadata": {},
   "source": [
    "`#`. 규칙2를 이용하여 아래와 같이 리스트를 변환하는 함수를 구현하고 그 함수를 `g`라고 선언하라. "
   ]
  },
  {
   "cell_type": "markdown",
   "id": "2f1fd073-c06c-48a1-9c30-27e46a30b7f1",
   "metadata": {},
   "source": [
    "```Python\n",
    "# 입력 \n",
    "['바나나','바나나','바나나','자동차']\n",
    "\n",
    "# 출력 \n",
    "['과일','과일','과일','탈것']\n",
    "```"
   ]
  },
  {
   "cell_type": "markdown",
   "id": "0df8285d-2253-45a0-ba37-97fe97ac2e5a",
   "metadata": {},
   "source": [
    "(사용예시)"
   ]
  },
  {
   "cell_type": "code",
   "execution_count": 201,
   "id": "3756176e-d285-4923-b1ec-29846b9eb502",
   "metadata": {},
   "outputs": [
    {
     "data": {
      "text/plain": [
       "['과일', '과일', '과일', '탈것']"
      ]
     },
     "execution_count": 201,
     "metadata": {},
     "output_type": "execute_result"
    }
   ],
   "source": [
    "g(['바나나','바나나','바나나','자동차'])"
   ]
  },
  {
   "cell_type": "markdown",
   "id": "bcb48b80-aec8-4441-b0d0-68cc2bc087c2",
   "metadata": {},
   "source": [
    "`#`. 규칙1-2를 이용하여 아래와 같은 숫자로 이루어진 입력을 '과일', '탈것' 중 하나로 바꾸는 코드를 구현하라. "
   ]
  },
  {
   "cell_type": "markdown",
   "id": "7de51c34-5e0f-40ff-b4b8-3aefdda0c48c",
   "metadata": {},
   "source": [
    "```Python\n",
    "# 입력 \n",
    "[0,1,0,1,3,4,2,2,3,4,1,0]\n",
    "\n",
    "# 출력 \n",
    "['과일', '과일', '과일', '과일', '탈것', '탈것', '탈것', '탈것', '탈것', '탈것', '과일', '과일']\n",
    "```"
   ]
  },
  {
   "cell_type": "markdown",
   "id": "a4b1a01e-e680-47c1-b5af-9f5b6e801a44",
   "metadata": {},
   "source": [
    "**hint** $g(f(x))$ 를 이용하라. "
   ]
  },
  {
   "cell_type": "markdown",
   "id": "8e74d331-e335-4b04-ac5f-16fe73cbc337",
   "metadata": {},
   "source": [
    "# 7. 종합문제"
   ]
  },
  {
   "cell_type": "markdown",
   "id": "87c5b1d8-397e-4674-9ffd-16e832c3eacc",
   "metadata": {},
   "source": [
    "`ssh코드`: 1-2"
   ]
  },
  {
   "cell_type": "markdown",
   "id": "26b29ba0-afca-46dd-8db2-05c7ea5bd257",
   "metadata": {},
   "source": [
    "아래의 문자열을 고려하자. "
   ]
  },
  {
   "cell_type": "code",
   "execution_count": 1,
   "id": "9d8f9c5b-b4b1-4c1b-9126-f4b51354dfee",
   "metadata": {},
   "outputs": [],
   "source": [
    "test_arr = 'ssh-rsa AAAAB3NzaC1yc2EAAAABIwAAAQEAklOUpkDHrfHY17SbrmTIpNLTGK9Tjom/BWDSUGPl+nafzlHDTYW7hdI4yZ5ew18JH4JW9jbhUFrviQzM7xlELEVf4h9lFX5QVkbPppSwg0cda3Pbv7kOdJ/MTyBlWXFCR+HAo3FXRitBqxiX1nKhXpHAZsMciLq8V6RjsNAQwdsdMFvSlVK/7XAt3FaoJoAsncM1Q9x5+3V0Ww68/eIFmb1zuUFljQJKprrX88XypNDvjYNby6vw/Pb0rwert/EnmZ+AW4OZPnTPI89ZPmVMLuayrD2cE86Z/il8b+gw3r3+1nKatmIkjn2so1d01QraTlMqVSsbxNrRFi9wrf+M7Q== schacon@mylaptop.local'"
   ]
  },
  {
   "cell_type": "markdown",
   "id": "3a7d67a1-45f5-4e6a-a019-d7f42c0a7719",
   "metadata": {},
   "source": [
    "`1`. 이 문자열에서 `index = 0,2,4,6,8,...` 에 해당하는 원소를 출력하는 코드를 작성하라. (2022-파이썬입문 중간고사 1-(2) 참고)"
   ]
  },
  {
   "cell_type": "code",
   "execution_count": 140,
   "id": "8d62e13b-da3e-471d-9cc3-071f3ada7673",
   "metadata": {},
   "outputs": [
    {
     "data": {
      "text/plain": [
       "'shraAABNa1cEAAIAAEkOpDrH1SrTpLG9jmBDUP+azHTWhIy5w8HJ9bUriz7lLV49F5VbpSgcaPvkd/TBWFRHoFRtqi1KXHZMiqVRsAwsMvlK7A3aJAnMQx+VW6/Im1uFjJpr8XpDjNyv/bretEm+WOPTI9PVLar2E6/lbg331KtIj2od1rTMVsxrF9r+7= cao@yatplcl'"
      ]
     },
     "execution_count": 140,
     "metadata": {},
     "output_type": "execute_result"
    }
   ],
   "source": [
    "# 출력결과는 아래와 같아야 한다. "
   ]
  },
  {
   "cell_type": "markdown",
   "id": "5b1eb582-085a-4271-a7c9-8d27a2bf4a48",
   "metadata": {},
   "source": [
    "(풀이)"
   ]
  },
  {
   "cell_type": "code",
   "execution_count": 3,
   "id": "b381bac2-2c06-4109-916f-3604c9c1502b",
   "metadata": {},
   "outputs": [
    {
     "data": {
      "text/plain": [
       "'shraAABNa1cEAAIAAEkOpDrH1SrTpLG9jmBDUP+azHTWhIy5w8HJ9bUriz7lLV49F5VbpSgcaPvkd/TBWFRHoFRtqi1KXHZMiqVRsAwsMvlK7A3aJAnMQx+VW6/Im1uFjJpr8XpDjNyv/bretEm+WOPTI9PVLar2E6/lbg331KtIj2od1rTMVsxrF9r+7= cao@yatplcl'"
      ]
     },
     "execution_count": 3,
     "metadata": {},
     "output_type": "execute_result"
    }
   ],
   "source": [
    "test_arr[::2]"
   ]
  },
  {
   "cell_type": "markdown",
   "id": "82ec163f-80f6-4e20-ad8c-6943e9f47612",
   "metadata": {},
   "source": [
    "`2`. 위 문자열을 뒤집은 문자열을 구하는 코드를 구현하라. (2022-파이썬입문 중간고사 1-(4) 참고)"
   ]
  },
  {
   "cell_type": "code",
   "execution_count": 141,
   "id": "d81051b6-1e63-42b2-97d0-62cf9b1f6c6f",
   "metadata": {},
   "outputs": [
    {
     "data": {
      "text/plain": [
       "'lacol.potpalym@nocahcs ==Q7M+frw9iFRrNxbsSVqMlTarQ10d1os2njkImtaKn1+3r3wg+b8li/Z68Ec2DryauLMVmPZ98IPTnPZO4WA+ZmnE/trewr0bP/wv6ybNYjvDNpyX88XrrpKJQjlFUuz1bmFIe/86wW0V3+5x9Q1McnsAoJoaF3tAX7/KVlSvFMdsdwQANsjR6V8qLicMsZAHpXhKn1XixqBtiRXF3oAH+RCFXWlByTM/JdOk7vbP3adc0gwSppPbkVQ5XFl9h4fVELElx7MzQivrFUhbj9WJ4HJ81we5Zy4Idh7WYTDHlzfan+lPGUSDWB/mojT9KGTLNpITmrbS71YHfrHDkpUOlkAEQAAAwIBAAAAE2cy1CazN3BAAAA asr-hss'"
      ]
     },
     "execution_count": 141,
     "metadata": {},
     "output_type": "execute_result"
    }
   ],
   "source": [
    "# 출력결과는 아래와 같아야 한다. "
   ]
  },
  {
   "cell_type": "markdown",
   "id": "887842de-36ee-4258-8b13-08eb8c505f03",
   "metadata": {},
   "source": [
    "(풀이)"
   ]
  },
  {
   "cell_type": "code",
   "execution_count": 4,
   "id": "a171fb2e-4358-4e8c-b876-2373054f33c4",
   "metadata": {},
   "outputs": [
    {
     "data": {
      "text/plain": [
       "'lacol.potpalym@nocahcs ==Q7M+frw9iFRrNxbsSVqMlTarQ10d1os2njkImtaKn1+3r3wg+b8li/Z68Ec2DryauLMVmPZ98IPTnPZO4WA+ZmnE/trewr0bP/wv6ybNYjvDNpyX88XrrpKJQjlFUuz1bmFIe/86wW0V3+5x9Q1McnsAoJoaF3tAX7/KVlSvFMdsdwQANsjR6V8qLicMsZAHpXhKn1XixqBtiRXF3oAH+RCFXWlByTM/JdOk7vbP3adc0gwSppPbkVQ5XFl9h4fVELElx7MzQivrFUhbj9WJ4HJ81we5Zy4Idh7WYTDHlzfan+lPGUSDWB/mojT9KGTLNpITmrbS71YHfrHDkpUOlkAEQAAAwIBAAAAE2cy1CazN3BAAAA asr-hss'"
      ]
     },
     "execution_count": 4,
     "metadata": {},
     "output_type": "execute_result"
    }
   ],
   "source": [
    "test_arr[::-1]"
   ]
  },
  {
   "cell_type": "markdown",
   "id": "9e5e8210-fd4b-4173-9414-85d44c257b25",
   "metadata": {},
   "source": [
    "---"
   ]
  },
  {
   "cell_type": "markdown",
   "id": "747555ba-dc8b-422b-9fd8-dd99d9a48f1f",
   "metadata": {},
   "source": [
    "`파이썬 프로그래밍 시험성적`: 3-4"
   ]
  },
  {
   "cell_type": "markdown",
   "id": "effb9cc1-df6b-408d-902f-77ea509e2744",
   "metadata": {},
   "source": [
    "아래와 같은 dictionary가 있다고 가정하자. "
   ]
  },
  {
   "cell_type": "code",
   "execution_count": 5,
   "id": "6e826886-6566-4e6b-b494-b5777cdda092",
   "metadata": {},
   "outputs": [],
   "source": [
    "dct={'202212377': {'att': 65, 'rep': 45, 'mid': 0, 'fin': 10},\n",
    "     '202212473': {'att': 95, 'rep': 30, 'mid': 60, 'fin': 10},\n",
    "     '202212310': {'att': 65, 'rep': 85, 'mid': 15, 'fin': 20},\n",
    "     '202212460': {'att': 55, 'rep': 35, 'mid': 35, 'fin': 5},\n",
    "     '202212320': {'att': 80, 'rep': 60, 'mid': 55, 'fin': 70},\n",
    "     '202212329': {'att': 75, 'rep': 40, 'mid': 75, 'fin': 85},\n",
    "     '202212408': {'att': 65, 'rep': 70, 'mid': 60, 'fin': 75},\n",
    "     '202212319': {'att': 60, 'rep': 25, 'mid': 20, 'fin': 35},\n",
    "     '202212348': {'att': 95, 'rep': 55, 'mid': 65, 'fin': 90},\n",
    "     '202212306': {'att': 90, 'rep': 25, 'mid': 95, 'fin': 50},\n",
    "     '202212308': {'att': 55, 'rep': 45, 'mid': 75, 'fin': 30},\n",
    "     '202212366': {'att': 95, 'rep': 60, 'mid': 25, 'fin': 55},\n",
    "     '202212367': {'att': 95, 'rep': 35, 'mid': 0, 'fin': 25},\n",
    "     '202212461': {'att': 50, 'rep': 55, 'mid': 90, 'fin': 45}}"
   ]
  },
  {
   "cell_type": "markdown",
   "id": "75c3f499-868a-4055-9c22-bd3b7c7fafd3",
   "metadata": {},
   "source": [
    "여기에서 '202212377' 등은 학번을, att는 출석점수, rep는 레포트점수, mid는 중간고사 점수, fin은 기말고사 점수를 의미한다. "
   ]
  },
  {
   "cell_type": "markdown",
   "id": "5b7fcdd1-ffc7-4289-931c-ed3c2637a517",
   "metadata": {},
   "source": [
    "`3`. 학생들의 학번을 아래와 같은 방식으로 출력하는 코드를 작성하라. "
   ]
  },
  {
   "cell_type": "code",
   "execution_count": 165,
   "id": "8d755a80-6a40-4ad8-9bae-2e3fcb35031f",
   "metadata": {},
   "outputs": [
    {
     "data": {
      "text/plain": [
       "['2022-12377',\n",
       " '2022-12473',\n",
       " '2022-12310',\n",
       " '2022-12460',\n",
       " '2022-12320',\n",
       " '2022-12329',\n",
       " '2022-12408',\n",
       " '2022-12319',\n",
       " '2022-12348',\n",
       " '2022-12306',\n",
       " '2022-12308',\n",
       " '2022-12366',\n",
       " '2022-12367',\n",
       " '2022-12461']"
      ]
     },
     "execution_count": 165,
     "metadata": {},
     "output_type": "execute_result"
    }
   ],
   "source": [
    "# 출력예시"
   ]
  },
  {
   "cell_type": "markdown",
   "id": "2e184d50-e3ce-4a93-9bf3-872bfa79550c",
   "metadata": {},
   "source": [
    "(풀이)"
   ]
  },
  {
   "cell_type": "code",
   "execution_count": 8,
   "id": "f4c58912-9060-49b7-a88d-7be4c3539bf7",
   "metadata": {},
   "outputs": [
    {
     "data": {
      "text/plain": [
       "['2022-12377',\n",
       " '2022-12473',\n",
       " '2022-12310',\n",
       " '2022-12460',\n",
       " '2022-12320',\n",
       " '2022-12329',\n",
       " '2022-12408',\n",
       " '2022-12319',\n",
       " '2022-12348',\n",
       " '2022-12306',\n",
       " '2022-12308',\n",
       " '2022-12366',\n",
       " '2022-12367',\n",
       " '2022-12461']"
      ]
     },
     "execution_count": 8,
     "metadata": {},
     "output_type": "execute_result"
    }
   ],
   "source": [
    "[k[:4]+'-'+k[4:] for k in dct]"
   ]
  },
  {
   "cell_type": "markdown",
   "id": "e8d2c9ac-4110-4fd7-8eb2-b3b4ee7f408e",
   "metadata": {},
   "source": [
    "`4`. 출석점수가 70점 이상인(`>=70`) 학생들의 학번을 출력하는 코드를 작성하라. (2022-파이썬입문 중간고사 2-(3) 참고) "
   ]
  },
  {
   "cell_type": "code",
   "execution_count": 166,
   "id": "9d4094cd-861b-492d-b2cd-b98323ef4c4b",
   "metadata": {},
   "outputs": [
    {
     "data": {
      "text/plain": [
       "['2022-12473',\n",
       " '2022-12320',\n",
       " '2022-12329',\n",
       " '2022-12348',\n",
       " '2022-12306',\n",
       " '2022-12366',\n",
       " '2022-12367']"
      ]
     },
     "execution_count": 166,
     "metadata": {},
     "output_type": "execute_result"
    }
   ],
   "source": [
    "# 출력예시 "
   ]
  },
  {
   "cell_type": "markdown",
   "id": "624629ae-3798-41dd-af74-80f210a7b100",
   "metadata": {},
   "source": [
    "(풀이)"
   ]
  },
  {
   "cell_type": "code",
   "execution_count": 10,
   "id": "a53f0c4e-8c9b-4880-880e-543fc014c335",
   "metadata": {},
   "outputs": [
    {
     "data": {
      "text/plain": [
       "['2022-12473',\n",
       " '2022-12320',\n",
       " '2022-12329',\n",
       " '2022-12348',\n",
       " '2022-12306',\n",
       " '2022-12366',\n",
       " '2022-12367']"
      ]
     },
     "execution_count": 10,
     "metadata": {},
     "output_type": "execute_result"
    }
   ],
   "source": [
    "[k[:4]+'-'+k[4:] for k,v in dct.items() if v['att']>70]"
   ]
  },
  {
   "cell_type": "markdown",
   "id": "6df0d0b6-6973-482d-9b74-b3d27c906585",
   "metadata": {},
   "source": [
    "---"
   ]
  },
  {
   "cell_type": "markdown",
   "id": "2bd3442b-c12d-4951-a2fa-5874b870e181",
   "metadata": {},
   "source": [
    "`Oxford-III`: 5--10 // [reference](https://www.robots.ox.ac.uk/~vgg/data/pets/)\n",
    "\n",
    "아래는 이미지 파일명들이 저장된 string을 불러오는 코드이다. "
   ]
  },
  {
   "cell_type": "code",
   "execution_count": 11,
   "id": "5d193377-5ff7-47be-94e6-772942c0acc4",
   "metadata": {},
   "outputs": [],
   "source": [
    "import requests\n",
    "url = 'https://raw.githubusercontent.com/guebin/PP2023/main/posts/01_PythonBasic/Oxford-IIIT.txt'\n",
    "txt = requests.get(url).content.decode()"
   ]
  },
  {
   "cell_type": "markdown",
   "id": "4b3e740f-4a3a-4310-a8d6-88a8402f0122",
   "metadata": {},
   "source": [
    "txt의 출력 일부를 나타내면 아래와 같다. \n",
    "\n",
    "```default\n",
    "'Abyssinian_1.jpg\\nAbyssinian_10.jpg\\nAbyssinian_100.jpg\\nAbyssinian_100.mat\\nAbyssinian_101.jpg\\nAbyssinian_101.mat\\nAbyssinian_102.jpg\\nAbyssinian_102.mat\\nAbyssinian_103.jpg\\nAbyssinian_104.jpg\\nAbyssinian_105.jpg\\nAbyssinian_106.jpg\\nAbyssinian_107.jpg\\nAbyssinian_108.jpg\\nAbyssinian_109.jpg\\nAbyssinian_11.jpg\\nAbyssinian_110.jpg\\nAbyssinian_111.jpg\\nAbyssinian_112.jpg\\nAbyssinian_113.jpg\\nAbyssinian_114.jpg\\nAbyssinian_115.jpg\\nAbyssinian_116.jpg\\nAbyssinian_117.jpg\\nAbyssinian_118.jpg\\nAbyssinian_119.jpg\\nAbyssinian_12.jpg\\nAbyssinian_120.jpg\\nAbyssinian_121.jpg\\nAbyssinian_122.jpg\\nAbyssinian_123.jpg\\nAbyssinian_124.jpg\\nAbyssinian_125.jpg\\nAbyssinian_126.jpg\\nAbyssinian_127.jpg\\nAbyssinian_128.jpg\\nAbyssinian_129.jpg\\nAbyssinian_13.jpg\\nAbyssinian_130.jpg\\nAbyssinian_131.jpg\\nAbyssinian_132.jpg\\n ....... \n",
    "```"
   ]
  },
  {
   "cell_type": "markdown",
   "id": "2358193b-f1f5-4ff2-a554-b61683e6f50a",
   "metadata": {},
   "source": [
    "`5`. 각 파일명은 `\\n`으로 구분되어있다. 위의 스트링을 분해하여 아래와 같은 리스트를 생성하고 `fname_list`에 저장하라. "
   ]
  },
  {
   "cell_type": "markdown",
   "id": "2e8ab267-b854-4431-9e69-3abff3f6eecb",
   "metadata": {},
   "source": [
    "```Python\n",
    "# fname_list 의 출력결과는 아래와 같아야 한다. \n",
    "['Abyssinian_1.jpg','Abyssinian_10.jpg', ... ,'yorkshire_terrier_98.jpg', 'yorkshire_terrier_99.jpg']\n",
    "```"
   ]
  },
  {
   "cell_type": "markdown",
   "id": "9bf95832-ffe9-4e0b-bbbb-2f5b1b3f332a",
   "metadata": {},
   "source": [
    "(풀이)"
   ]
  },
  {
   "cell_type": "code",
   "execution_count": 19,
   "id": "32bbfb59-002a-4b56-8d50-4d7bd60fdfdc",
   "metadata": {},
   "outputs": [
    {
     "data": {
      "text/plain": [
       "['Abyssinian_1.jpg',\n",
       " 'Abyssinian_10.jpg',\n",
       " 'Abyssinian_100.jpg',\n",
       " 'Abyssinian_100.mat',\n",
       " 'Abyssinian_101.jpg',\n",
       " 'Abyssinian_101.mat',\n",
       " 'Abyssinian_102.jpg',\n",
       " 'Abyssinian_102.mat',\n",
       " 'Abyssinian_103.jpg',\n",
       " 'Abyssinian_104.jpg']"
      ]
     },
     "execution_count": 19,
     "metadata": {},
     "output_type": "execute_result"
    }
   ],
   "source": [
    "fname_list = txt.split('\\n')\n",
    "fname_list[:10]"
   ]
  },
  {
   "cell_type": "markdown",
   "id": "03aeb1bb-8106-48b7-ad94-8c294f824c43",
   "metadata": {},
   "source": [
    "`6`. 각 이미지파일명은 아래와 같은 규칙으로 저장되어 있다. \n",
    "\n",
    "- 파일명의 첫글자가 대문자이면 고양이를 의미하고 첫글자가 소문자이면 강아지를 의미한다. \n",
    "- `_` 이전의 영문명은 고양이 혹은 강아지의 종(breed)을 의미한다. "
   ]
  },
  {
   "cell_type": "markdown",
   "id": "d14025a0-5fec-405c-8bac-3e2ef4ebd37f",
   "metadata": {},
   "source": [
    "이미지 파일명이 입력으로 오면 강아지인지 고양이인지 판단하여 'cat' or 'dog'를 리턴하는 함수 `f`를 구현하라. "
   ]
  },
  {
   "cell_type": "markdown",
   "id": "4f7303b1-5d5a-40a8-8d9b-0d91860deea8",
   "metadata": {},
   "source": [
    "(함수사용예시)"
   ]
  },
  {
   "cell_type": "code",
   "execution_count": 56,
   "id": "f3aa8a8e-3488-409f-95d6-777a69905fe9",
   "metadata": {},
   "outputs": [
    {
     "data": {
      "text/plain": [
       "'dog'"
      ]
     },
     "execution_count": 56,
     "metadata": {},
     "output_type": "execute_result"
    }
   ],
   "source": [
    "f('yorkshire_terrier_99.jpg')"
   ]
  },
  {
   "cell_type": "code",
   "execution_count": 58,
   "id": "44bcb9a7-a9cc-43ce-ae02-11d14b8321b0",
   "metadata": {},
   "outputs": [
    {
     "data": {
      "text/plain": [
       "'cat'"
      ]
     },
     "execution_count": 58,
     "metadata": {},
     "output_type": "execute_result"
    }
   ],
   "source": [
    "f('Abyssinian_1.jpg')"
   ]
  },
  {
   "cell_type": "markdown",
   "id": "505966e4-32f5-4311-8edb-44e38326ad8e",
   "metadata": {},
   "source": [
    "(풀이)"
   ]
  },
  {
   "cell_type": "code",
   "execution_count": 21,
   "id": "02210b2b-4946-472c-bf02-4ecd785d72cd",
   "metadata": {},
   "outputs": [],
   "source": [
    "def f(fname): \n",
    "    return 'cat' if fname[0].isupper() else 'dog' "
   ]
  },
  {
   "cell_type": "code",
   "execution_count": 23,
   "id": "8be3881a-a897-47c6-ad89-9048d27d87df",
   "metadata": {},
   "outputs": [
    {
     "data": {
      "text/plain": [
       "('dog', 'cat')"
      ]
     },
     "execution_count": 23,
     "metadata": {},
     "output_type": "execute_result"
    }
   ],
   "source": [
    "f('yorkshire_terrier_99.jpg'), f('Abyssinian_1.jpg')"
   ]
  },
  {
   "cell_type": "markdown",
   "id": "45f12e22-4e91-4e6b-8508-f6190a0344e7",
   "metadata": {},
   "source": [
    "`7`. 5의 결과로 나온 `fname_list`를 입력으로 하고 리스트의 각 원소가 고양이를 의미하는 그림인지 강아지를 의미하는 그림인지 나타내는 리스트를 만들어라. "
   ]
  },
  {
   "cell_type": "markdown",
   "id": "1eabf2bb-5778-4e1a-b068-4e72f5c54463",
   "metadata": {},
   "source": [
    "```Python\n",
    "## 입력예시 \n",
    "['Abyssinian_1.jpg','Abyssinian_10.jpg',...,'yorkshire_terrier_98.jpg', 'yorkshire_terrier_99.jpg']\n",
    "\n",
    "## 출력예시\n",
    "['cat', 'cat', ... , 'dog', 'dog']\n",
    "```"
   ]
  },
  {
   "cell_type": "markdown",
   "id": "2d69bdc9-b15f-42f5-bab1-4fbe7f799099",
   "metadata": {},
   "source": [
    "(풀이) "
   ]
  },
  {
   "cell_type": "code",
   "execution_count": 25,
   "id": "90ab8147-e4fe-4efb-b159-c54f9ea0282d",
   "metadata": {},
   "outputs": [
    {
     "data": {
      "text/plain": [
       "['cat', 'cat', 'cat', 'cat', 'cat', 'cat', 'cat', 'cat', 'cat', 'cat']"
      ]
     },
     "execution_count": 25,
     "metadata": {},
     "output_type": "execute_result"
    }
   ],
   "source": [
    "result = [f(l) for l in fname_list]\n",
    "result[:10]"
   ]
  },
  {
   "cell_type": "markdown",
   "id": "49c6d06f-4f96-4a67-80f1-77ddad00b96d",
   "metadata": {},
   "source": [
    "`8`. 강아지 그림과 고양이 그림이 각각 몇 장씩 포함되어 있는지 파악하는 코드를 구현하라. "
   ]
  },
  {
   "cell_type": "markdown",
   "id": "77af41b4-d42f-4e17-ab60-0f1edc8fd6b2",
   "metadata": {},
   "source": [
    "(풀이)"
   ]
  },
  {
   "cell_type": "code",
   "execution_count": 29,
   "id": "ea12b2f6-9eaf-4d16-a284-395bebf9abbb",
   "metadata": {},
   "outputs": [
    {
     "data": {
      "text/plain": [
       "2403"
      ]
     },
     "execution_count": 29,
     "metadata": {},
     "output_type": "execute_result"
    }
   ],
   "source": [
    "sum([s=='cat' for s in result]) # 고양이"
   ]
  },
  {
   "cell_type": "code",
   "execution_count": 30,
   "id": "23f45df8-f436-458a-ad76-a02e6ae34519",
   "metadata": {},
   "outputs": [
    {
     "data": {
      "text/plain": [
       "4990"
      ]
     },
     "execution_count": 30,
     "metadata": {},
     "output_type": "execute_result"
    }
   ],
   "source": [
    "sum([s=='dog' for s in result]) # 강아지"
   ]
  },
  {
   "cell_type": "markdown",
   "id": "d5118819-eb6f-4f2a-b476-4689e2a215ce",
   "metadata": {},
   "source": [
    "`9`. 포메라니안 종의 그림이 몇장있는지 파악하는 코드를 구현하라. "
   ]
  },
  {
   "cell_type": "markdown",
   "id": "b5f3d84c-96ad-4f47-ab3e-62944414e655",
   "metadata": {},
   "source": [
    "**hint:** 포메라니안 그림은 파일명에 'pomeranian' 을 포함한다. "
   ]
  },
  {
   "cell_type": "markdown",
   "id": "71e9a268-d0b1-415c-965d-e72fc3f791f1",
   "metadata": {},
   "source": [
    "(풀이)"
   ]
  },
  {
   "cell_type": "code",
   "execution_count": 33,
   "id": "78c56b61-ad28-43dc-aa3b-241d26a8975a",
   "metadata": {},
   "outputs": [
    {
     "data": {
      "text/plain": [
       "200"
      ]
     },
     "execution_count": 33,
     "metadata": {},
     "output_type": "execute_result"
    }
   ],
   "source": [
    "sum(['pomeranian'  in s for s in fname_list])"
   ]
  },
  {
   "cell_type": "markdown",
   "id": "c95a2c04-27e2-40c6-b1e7-bc395947fec5",
   "metadata": {},
   "source": [
    "`10`. 아래의 `dct`는 포메라니안과 사모예드가 각각 몇장씩 포함되어있는지 정리하기 위해 임시로 정리한 dictionary이다. 각 종이 몇 장씩 포함되어있는지 구하여 `dct`를 수정하라. "
   ]
  },
  {
   "cell_type": "code",
   "execution_count": 34,
   "id": "98e4cf00-6497-4870-88ea-c51e6cfb7763",
   "metadata": {},
   "outputs": [
    {
     "data": {
      "text/plain": [
       "{'pomeranian': 0, 'samoyed': 0}"
      ]
     },
     "execution_count": 34,
     "metadata": {},
     "output_type": "execute_result"
    }
   ],
   "source": [
    "dct = {'pomeranian':0, 'samoyed':0} \n",
    "dct"
   ]
  },
  {
   "cell_type": "markdown",
   "id": "853dd534-d901-4ed2-a3a6-7d48c388a178",
   "metadata": {},
   "source": [
    "예를들어 포메라니안과 사모에예드의 그림이 각각 200장씩 있다면 아래와 같이 딕셔너리를 수정해야한다. "
   ]
  },
  {
   "cell_type": "code",
   "execution_count": 92,
   "id": "c728e613-6036-4882-bb66-c99282866e4f",
   "metadata": {},
   "outputs": [
    {
     "data": {
      "text/plain": [
       "{'pomeranian': 200, 'samoyed': 200}"
      ]
     },
     "execution_count": 92,
     "metadata": {},
     "output_type": "execute_result"
    }
   ],
   "source": [
    "{'pomeranian':200, 'samoyed':200} "
   ]
  },
  {
   "cell_type": "markdown",
   "id": "86308d75-9e96-43b4-a6bd-c83a53a1a21d",
   "metadata": {},
   "source": [
    "(풀이)"
   ]
  },
  {
   "cell_type": "code",
   "execution_count": 35,
   "id": "36d4eb4c-52ee-4fca-9734-15e4eca99056",
   "metadata": {},
   "outputs": [
    {
     "data": {
      "text/plain": [
       "{'pomeranian': 200, 'samoyed': 200}"
      ]
     },
     "execution_count": 35,
     "metadata": {},
     "output_type": "execute_result"
    }
   ],
   "source": [
    "dct['pomeranian'] = sum(['pomeranian'  in s for s in fname_list])\n",
    "dct['samoyed'] = sum(['samoyed'  in s for s in fname_list])\n",
    "dct"
   ]
  }
 ],
 "metadata": {
  "kernelspec": {
   "display_name": "Python 3 (ipykernel)",
   "language": "python",
   "name": "python3"
  },
  "language_info": {
   "codemirror_mode": {
    "name": "ipython",
    "version": 3
   },
   "file_extension": ".py",
   "mimetype": "text/x-python",
   "name": "python",
   "nbconvert_exporter": "python",
   "pygments_lexer": "ipython3",
   "version": "3.12.2"
  }
 },
 "nbformat": 4,
 "nbformat_minor": 5
}
