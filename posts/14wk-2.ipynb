{
 "cells": [
  {
   "cell_type": "raw",
   "id": "16a2828d-9f51-44e4-a161-7355cc3ac7a5",
   "metadata": {
    "id": "87b5cded-346b-4915-acf5-b5ec93a5207d"
   },
   "source": [
    "---\n",
    "title: \"14wk-2: 클래스 (4)\"\n",
    "author: \"최규빈\"\n",
    "date: \"06/07/2024\"\n",
    "draft: true\n",
    "---"
   ]
  },
  {
   "cell_type": "markdown",
   "id": "34077f25-4b92-4b5f-9aee-2b29b312fbd7",
   "metadata": {},
   "source": [
    "# 7. `with`"
   ]
  },
  {
   "cell_type": "markdown",
   "id": "d42065fc-4190-4564-86a2-a8e153623a0e",
   "metadata": {},
   "source": [
    "### 파일읽기 "
   ]
  },
  {
   "cell_type": "markdown",
   "id": "b5f50134-4218-49c3-91c1-f774156bc354",
   "metadata": {},
   "source": [
    "`-` 예제1"
   ]
  },
  {
   "cell_type": "code",
   "execution_count": null,
   "id": "0a691792-1940-49fe-965e-19d98b8900ad",
   "metadata": {},
   "outputs": [],
   "source": [
    "f=open('test.txt')"
   ]
  },
  {
   "cell_type": "code",
   "execution_count": null,
   "id": "b9aae196-3f2e-4035-9cb5-0cd2dc0ff835",
   "metadata": {},
   "outputs": [],
   "source": [
    "a=f.read()"
   ]
  },
  {
   "cell_type": "code",
   "execution_count": null,
   "id": "ffb5d862-6de0-4bcd-b708-fafe6a4a1ac6",
   "metadata": {},
   "outputs": [
    {
     "name": "stdout",
     "output_type": "stream",
     "text": [
      "hello\n",
      "hello2\n",
      "hello3\n"
     ]
    }
   ],
   "source": [
    "print(a)"
   ]
  },
  {
   "cell_type": "code",
   "execution_count": null,
   "id": "d18054cc-29bb-4371-8db0-54e7cbffb562",
   "metadata": {},
   "outputs": [
    {
     "data": {
      "text/plain": [
       "False"
      ]
     },
     "execution_count": 31,
     "metadata": {},
     "output_type": "execute_result"
    }
   ],
   "source": [
    "f.closed"
   ]
  },
  {
   "cell_type": "markdown",
   "id": "e3fc4e77-6db5-4f08-aae1-5bf6719c6ecb",
   "metadata": {},
   "source": [
    "현재 f가 열려있는 상태이다. 따라서 닫아줘야 한다. "
   ]
  },
  {
   "cell_type": "code",
   "execution_count": null,
   "id": "adf32710-14bc-4475-9aa0-3edbf5ba2cd6",
   "metadata": {},
   "outputs": [],
   "source": [
    "f.close()"
   ]
  },
  {
   "cell_type": "code",
   "execution_count": null,
   "id": "4184dab9-4227-409b-a2e2-d65770a248f2",
   "metadata": {},
   "outputs": [
    {
     "data": {
      "text/plain": [
       "True"
      ]
     },
     "execution_count": 33,
     "metadata": {},
     "output_type": "execute_result"
    }
   ],
   "source": [
    "f.closed"
   ]
  },
  {
   "cell_type": "markdown",
   "id": "9e07afec-1f09-45e1-9c8a-c754058bbf45",
   "metadata": {},
   "source": [
    "f가 닫힌 상태에서는 더 이상 읽을 수가 없다. "
   ]
  },
  {
   "cell_type": "code",
   "execution_count": null,
   "id": "c11e599f-0cf0-45ac-ae66-0d293bc85d4f",
   "metadata": {},
   "outputs": [
    {
     "ename": "ValueError",
     "evalue": "I/O operation on closed file.",
     "output_type": "error",
     "traceback": [
      "\u001b[0;31m---------------------------------------------------------------------------\u001b[0m",
      "\u001b[0;31mValueError\u001b[0m                                Traceback (most recent call last)",
      "\u001b[0;32m<ipython-input-34-e848b954fbbf>\u001b[0m in \u001b[0;36m<module>\u001b[0;34m\u001b[0m\n\u001b[0;32m----> 1\u001b[0;31m \u001b[0mb\u001b[0m\u001b[0;34m=\u001b[0m\u001b[0mf\u001b[0m\u001b[0;34m.\u001b[0m\u001b[0mread\u001b[0m\u001b[0;34m(\u001b[0m\u001b[0;34m)\u001b[0m\u001b[0;34m\u001b[0m\u001b[0;34m\u001b[0m\u001b[0m\n\u001b[0m",
      "\u001b[0;31mValueError\u001b[0m: I/O operation on closed file."
     ]
    }
   ],
   "source": [
    "b=f.read()"
   ]
  },
  {
   "cell_type": "markdown",
   "id": "c23c00e9-415c-4749-ac2c-b250e3be1546",
   "metadata": {},
   "source": [
    "파일을 닫지 않는다고 해서 큰 문제는 없어보이지만 그냥 닫는것이 좋다. "
   ]
  },
  {
   "cell_type": "markdown",
   "id": "da84a933-77b4-4d5b-b75d-fdc677f56934",
   "metadata": {},
   "source": [
    "### with"
   ]
  },
  {
   "cell_type": "markdown",
   "id": "3be09024-6508-4201-bf1b-c318112bf6fa",
   "metadata": {},
   "source": [
    "#### motivation "
   ]
  },
  {
   "cell_type": "markdown",
   "id": "38266a6c-1d83-40a1-b022-5bb409abb838",
   "metadata": {},
   "source": [
    "`-` 생각해 보니까 파일을 열면 항상 닫아야 한다. "
   ]
  },
  {
   "cell_type": "markdown",
   "id": "a1d80d1d-2ea5-4541-bbf9-14f0f509c033",
   "metadata": {},
   "source": [
    "이처럼 쌍(시작-끝)으로 수행되는 처리가 반복적으로 발생하는 경우가 있는데 그때마다 `.close()` 메소드 따위를 쓰는 것이 번거롭게 느껴진다. "
   ]
  },
  {
   "cell_type": "markdown",
   "id": "71e14e32-5c36-4eff-a067-69975a5cd749",
   "metadata": {},
   "source": [
    "예를들면 파일을 열었으면 적당한 동작뒤에 알아서 닫아졌으면 좋겠다는 것이다. "
   ]
  },
  {
   "cell_type": "markdown",
   "id": "a7302075-f482-4490-9e21-fffdb2873999",
   "metadata": {},
   "source": [
    "이러한 모티브에서 구현된 것이 with문 이다. "
   ]
  },
  {
   "cell_type": "code",
   "execution_count": null,
   "id": "0915a8b8-b3bf-46ee-a3c8-625c71cf184e",
   "metadata": {},
   "outputs": [
    {
     "name": "stdout",
     "output_type": "stream",
     "text": [
      "hello\n",
      "hello2\n",
      "hello3\n"
     ]
    }
   ],
   "source": [
    "with open('test.txt') as g: \n",
    "    print(g.read())"
   ]
  },
  {
   "cell_type": "markdown",
   "id": "430e8caa-74c6-4fc8-92ff-32f295398de4",
   "metadata": {},
   "source": [
    "파일이 닫아졌는지 확인해보자. "
   ]
  },
  {
   "cell_type": "code",
   "execution_count": null,
   "id": "19240071-7b50-4f33-8a19-0db49cce5a46",
   "metadata": {},
   "outputs": [
    {
     "data": {
      "text/plain": [
       "True"
      ]
     },
     "execution_count": 36,
     "metadata": {},
     "output_type": "execute_result"
    }
   ],
   "source": [
    "g.closed"
   ]
  },
  {
   "cell_type": "markdown",
   "id": "1debeb86-7c8a-41e4-896e-3bcb90c19f44",
   "metadata": {},
   "source": [
    "잘 닫아졌다. "
   ]
  },
  {
   "cell_type": "markdown",
   "id": "dfe89bea-8ee6-46f0-b8fb-98f9d48a6ec3",
   "metadata": {},
   "source": [
    "#### 기본사용법"
   ]
  },
  {
   "cell_type": "markdown",
   "id": "c1887fc4-a8d5-439c-bbab-5c8186fec5f3",
   "metadata": {},
   "source": [
    "with의 사용법은 직관적으로 이해가 가능하지만 그래도 다시한번 살펴보자. \n",
    "\n",
    "```python\n",
    "with blabla as variable: \n",
    "    yadiyadi\n",
    "    yadiyadi2\n",
    "```"
   ]
  },
  {
   "cell_type": "markdown",
   "id": "550a0c4a-fd05-4b2f-b022-af9a0fa986e1",
   "metadata": {},
   "source": [
    "(1) `with blabla as variable`에서 blabla가 실행된다. "
   ]
  },
  {
   "cell_type": "markdown",
   "id": "4d581408-0f07-4418-af74-bc80d92d7b3b",
   "metadata": {},
   "source": [
    "(2) blabla의 실행결과로 어떠한 `특별한` 오브젝트가 만들어지는데 그 오브젝트를 우리가 variable로 부르기로 한다. "
   ]
  },
  {
   "cell_type": "markdown",
   "id": "da59c5bf-0000-4973-b256-6d83f02b11f7",
   "metadata": {},
   "source": [
    "(3) 탭으로 들여쓰기된 부분, 즉 yadiyadi, yadiyadi2 가 순서대로 실행된다. "
   ]
  },
  {
   "cell_type": "markdown",
   "id": "a3a97b3b-5db2-4798-8c99-48a9e1e70573",
   "metadata": {},
   "source": [
    "(4) 탭으로 들여쓰기된 부분이 실행되고 난 뒤에 `g.closed()` 따위의 미리 약속된 어떠한 코드가 실행되는것 같다. "
   ]
  },
  {
   "cell_type": "markdown",
   "id": "61e91731-012c-4218-ac2b-4cf79052996b",
   "metadata": {},
   "source": [
    "#### 동작원리 "
   ]
  },
  {
   "cell_type": "markdown",
   "id": "a84c8166-7a0d-44f3-b017-0351f8495b64",
   "metadata": {},
   "source": [
    "g라는 오브젝트는 특별한 오브젝트라고 했는데, 무엇이 특별한지 알아보자. "
   ]
  },
  {
   "cell_type": "code",
   "execution_count": null,
   "id": "b51398e0-8b23-4691-9837-d2ef4676a9a1",
   "metadata": {},
   "outputs": [
    {
     "data": {
      "text/plain": [
       "['_CHUNK_SIZE',\n",
       " '__class__',\n",
       " '__del__',\n",
       " '__delattr__',\n",
       " '__dict__',\n",
       " '__dir__',\n",
       " '__doc__',\n",
       " '__enter__',\n",
       " '__eq__',\n",
       " '__exit__',\n",
       " '__format__',\n",
       " '__ge__',\n",
       " '__getattribute__',\n",
       " '__gt__',\n",
       " '__hash__',\n",
       " '__init__',\n",
       " '__init_subclass__',\n",
       " '__iter__',\n",
       " '__le__',\n",
       " '__lt__',\n",
       " '__ne__',\n",
       " '__new__',\n",
       " '__next__',\n",
       " '__reduce__',\n",
       " '__reduce_ex__',\n",
       " '__repr__',\n",
       " '__setattr__',\n",
       " '__sizeof__',\n",
       " '__str__',\n",
       " '__subclasshook__',\n",
       " '_checkClosed',\n",
       " '_checkReadable',\n",
       " '_checkSeekable',\n",
       " '_checkWritable',\n",
       " '_finalizing',\n",
       " 'buffer',\n",
       " 'close',\n",
       " 'closed',\n",
       " 'detach',\n",
       " 'encoding',\n",
       " 'errors',\n",
       " 'fileno',\n",
       " 'flush',\n",
       " 'isatty',\n",
       " 'line_buffering',\n",
       " 'mode',\n",
       " 'name',\n",
       " 'newlines',\n",
       " 'read',\n",
       " 'readable',\n",
       " 'readline',\n",
       " 'readlines',\n",
       " 'reconfigure',\n",
       " 'seek',\n",
       " 'seekable',\n",
       " 'tell',\n",
       " 'truncate',\n",
       " 'writable',\n",
       " 'write',\n",
       " 'write_through',\n",
       " 'writelines']"
      ]
     },
     "execution_count": 41,
     "metadata": {},
     "output_type": "execute_result"
    }
   ],
   "source": [
    "dir(g)"
   ]
  },
  {
   "cell_type": "markdown",
   "id": "b87ecebf-f21e-45bc-8eb0-86585e441e68",
   "metadata": {},
   "source": [
    "비밀은 `__enter__` 와 `__exit__` 메소드에 있다. "
   ]
  },
  {
   "cell_type": "markdown",
   "id": "f654b476-fe75-4457-acff-2896f0ccb352",
   "metadata": {},
   "source": [
    "`__enter__` 와 `__exit__` 의 역할을 알아보기 위해서 아래의 코드를 다시 관찰하자. "
   ]
  },
  {
   "cell_type": "markdown",
   "id": "0749d57c-9c87-4e81-8260-0533146f5d6f",
   "metadata": {},
   "source": [
    "```python\n",
    "with open('test.txt') as g: \n",
    "    print(g.read())\n",
    "```"
   ]
  },
  {
   "cell_type": "markdown",
   "id": "f945ba5d-bcf2-42a1-90d0-88f5dfd19063",
   "metadata": {},
   "source": [
    "(for문 복습) `for i in ...:` 에서 `...`에 올 수 있는 오브젝트는 `__iter__` 메소드가 정의되어 있어야 한다. 이러한 오브젝트를 iterable한 오브젝트라고 한다. \n",
    "\n",
    "(with문) `with ... as variable:` 에서 `...`의 실행결과로 생성되는 오브젝트는 `__enter__` 와 `__exit__` 메소드가 정의되어 있어야 한다. \n",
    " - 이중 `__enter__`는 with문이 시작되면 자동으로 실행된다. \n",
    " - 이중 `__exit__`는 with문이 끝나면 자동으로 실행된다. "
   ]
  },
  {
   "cell_type": "markdown",
   "id": "27460ea3-3cec-418d-b6d3-4e40337e4385",
   "metadata": {},
   "source": [
    "`-` 예제3 "
   ]
  },
  {
   "cell_type": "code",
   "execution_count": null,
   "id": "a14733ba-09b2-4750-b217-55bfbfb9e18e",
   "metadata": {},
   "outputs": [],
   "source": [
    "class MooYaHo:\n",
    "    def __init__(self):\n",
    "        print('init')\n",
    "    def __enter__(self):\n",
    "        print('무야호')\n",
    "    def __exit__(self,exc_type,exc_value,traceback): # self 이외의 3가지 변수는 예외처리에 관련된 변수인데 여기서는 다루지 않음. \n",
    "        print('그만큼 신나시는거지')"
   ]
  },
  {
   "cell_type": "code",
   "execution_count": null,
   "id": "0ae5c33e-6b2b-4f66-8b55-f7a82e46e5b4",
   "metadata": {},
   "outputs": [
    {
     "name": "stdout",
     "output_type": "stream",
     "text": [
      "init\n",
      "무야호\n",
      ".\n",
      "그만큼 신나시는거지\n"
     ]
    }
   ],
   "source": [
    "with MooYaHo() as a: \n",
    "    print('.')"
   ]
  },
  {
   "cell_type": "markdown",
   "id": "ff18bc3a-6e00-479c-aedd-7970a99ae64b",
   "metadata": {},
   "source": [
    "`-` 경우에 따라서는 as 이하를 생략할 수도 있다. "
   ]
  },
  {
   "cell_type": "code",
   "execution_count": null,
   "id": "fd861b68-a71d-4391-881c-bef58734a111",
   "metadata": {},
   "outputs": [
    {
     "name": "stdout",
     "output_type": "stream",
     "text": [
      "init\n",
      "무야호\n",
      "xx\n",
      "그만큼 신나시는거지\n"
     ]
    }
   ],
   "source": [
    "with MooYaHo():\n",
    "    print('xx')"
   ]
  },
  {
   "cell_type": "markdown",
   "id": "08cce973-33ef-4dd0-8e11-f4f53f79c3c1",
   "metadata": {},
   "source": [
    "# 8. 데코레이터"
   ]
  },
  {
   "cell_type": "markdown",
   "id": "342d36b8-77a0-4446-b393-248cc5363a60",
   "metadata": {},
   "source": [
    "# 9. 상속 "
   ]
  }
 ],
 "metadata": {
  "kernelspec": {
   "display_name": "Python 3 (ipykernel)",
   "language": "python",
   "name": "python3"
  },
  "language_info": {
   "codemirror_mode": {
    "name": "ipython",
    "version": 3
   },
   "file_extension": ".py",
   "mimetype": "text/x-python",
   "name": "python",
   "nbconvert_exporter": "python",
   "pygments_lexer": "ipython3",
   "version": "3.10.13"
  }
 },
 "nbformat": 4,
 "nbformat_minor": 5
}
