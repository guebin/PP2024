{
 "cells": [
  {
   "cell_type": "raw",
   "id": "3dca7b65-7b69-4f92-a028-352566b6df12",
   "metadata": {
    "id": "87b5cded-346b-4915-acf5-b5ec93a5207d"
   },
   "source": [
    "---\n",
    "title: \"02wk-1: Quiz 1\"\n",
    "author: \"최규빈\"\n",
    "date: \"03/13/2024\"\n",
    "draft: true\n",
    "---"
   ]
  },
  {
   "cell_type": "markdown",
   "id": "6585bef8-11a8-4099-9bce-6a8e0c311b2f",
   "metadata": {
    "id": "e67ab8e0"
   },
   "source": [
    "<a href=\"https://colab.research.google.com/github/guebin/PP2024/blob/main/posts/Ekfrl.ipynb\"><img src=\"https://colab.research.google.com/assets/colab-badge.svg\" style=\"text-align: left\"></a>"
   ]
  },
  {
   "cell_type": "code",
   "execution_count": 7,
   "id": "a90a9aec-141b-41ee-bb4d-3037b019af2c",
   "metadata": {},
   "outputs": [],
   "source": [
    "import numpy as np\n",
    "import matplotlib.pyplot as plt "
   ]
  },
  {
   "cell_type": "markdown",
   "id": "789aea99-d239-4c89-9669-82e598d28424",
   "metadata": {},
   "source": [
    "::: {.callout-warning}\n",
    "- 모든 문항은 부분점수 없음. \n",
    "- 일부문항은 부분문제를 모두 맞출경우만 정답으로 인정함. \n",
    "- `.ipynb` 파일 형태로 제출된 답안지만 채점하며 그 외의 형식 (`.hwp`등)은 채점하지 않음. 즉 0점 처리함. **제출방법 모르면 물어볼것!**\n",
    ":::\n"
   ]
  },
  {
   "cell_type": "markdown",
   "id": "c150ebba-9c78-4740-b61e-726ba7e2bfec",
   "metadata": {},
   "source": [
    "::: {.callout-caution}\n",
    "- 전북대 학생들을 시험당일 학생증을 지참할 것. (출석체크 및 본인확인) 학생증 외에 신분증 여권등도 가능.\n",
    "- 부정행위 (카카오톡 채팅을 통한 코드공유, 생성형모델 사용, 대리시험 등) 적발시 F 처리함. \n",
    "- 퀴즈 중 지각할 경우 지각사실을 기록함. 하지만 별다른 감점은 하지 않음.\n",
    ":::\n"
   ]
  },
  {
   "cell_type": "markdown",
   "id": "bc6f1097-9cc1-4bc9-92f4-775072fd445a",
   "metadata": {},
   "source": [
    "# 문제 1. -- 10점"
   ]
  },
  {
   "cell_type": "markdown",
   "id": "3152031e-4b0c-4378-ac2c-d2bc0322adbb",
   "metadata": {},
   "source": [
    "> 모두 맞출 경우만 정답으로 인정"
   ]
  },
  {
   "cell_type": "markdown",
   "id": "84f1ee23-e5f6-446a-9ead-43359962d34a",
   "metadata": {},
   "source": [
    "`(1)` 아래와 같이 50개의 숫자를 나열한 배열 ${\\bf x}=[x_1,x_2,\\dots,x_n]$을 상상하자. "
   ]
  },
  {
   "cell_type": "code",
   "execution_count": 117,
   "id": "facee20c-d5ad-4f60-822f-34bc06e56d00",
   "metadata": {},
   "outputs": [
    {
     "data": {
      "text/plain": [
       "array([0, 1, 1, 0, 1, 0, 1, 0, 0, 0, 1, 0, 0, 0, 0, 1, 0, 1, 0, 0, 0, 1,\n",
       "       0, 0, 0, 1, 0, 1, 1, 0, 1, 0, 1, 0, 0, 0, 0, 0, 0, 1, 0, 0, 1, 0,\n",
       "       0, 0, 0, 0, 1, 0])"
      ]
     },
     "execution_count": 117,
     "metadata": {},
     "output_type": "execute_result"
    }
   ],
   "source": [
    "x = np.array([0, 1, 1, 0, 1, 0, 1, 0, 0, 0, 1, 0, 0, 0, 0, 1, 0, 1, 0, 0, 0, 1,\n",
    "              0, 0, 0, 1, 0, 1, 1, 0, 1, 0, 1, 0, 0, 0, 0, 0, 0, 1, 0, 0, 1, 0,\n",
    "              0, 0, 0, 0, 1, 0])\n",
    "x"
   ]
  },
  {
   "cell_type": "markdown",
   "id": "8aec1f86-a78a-4adb-8870-f969fdf9356e",
   "metadata": {},
   "source": [
    "위와 같은 $x_i$에 대하여 $0<p<1$에서의 아래와 같은 함수 $l(p)$를 정의하라. "
   ]
  },
  {
   "cell_type": "markdown",
   "id": "fe31a132-a581-4d2d-8d85-5d058ea9c018",
   "metadata": {},
   "source": [
    "$$l(p)=\\sum_{i=1}^nx_i \\log p +\\left(n-\\sum_{i=1}^{n}x_i \\right)\\log(1-p)$$\n"
   ]
  },
  {
   "cell_type": "markdown",
   "id": "0fa702df-3586-471a-ab6b-94347917e7d6",
   "metadata": {},
   "source": [
    "파이썬을 이용하여 아래를 근사계산하라. "
   ]
  },
  {
   "cell_type": "markdown",
   "id": "fe6c0774-34c8-47a8-af71-cb8c785da90a",
   "metadata": {},
   "source": [
    "$$\\lim_{h \\to 0}\\frac{l(0.32+h)-l(0.32)}{h}$$"
   ]
  },
  {
   "cell_type": "markdown",
   "id": "76d366a6-12d1-41de-aaf3-55a2fecda0dc",
   "metadata": {},
   "source": [
    "`(2)` $0<p<1$의 범위에서 $l(p)$를 최대로 만드는 $p$의 값을 구하라. 즉 $\\underset{p}{\\operatorname{argmax}} l(p)$를 구하라."
   ]
  },
  {
   "cell_type": "markdown",
   "id": "89b632be-fcf1-4f66-afed-a082e77389a5",
   "metadata": {},
   "source": [
    "# 문제 2. -- 10점"
   ]
  },
  {
   "cell_type": "markdown",
   "id": "d15db2bd-6674-4ca9-b3f2-9bb3258380cb",
   "metadata": {},
   "source": [
    "> 모두 맞출 경우만 정답으로 인정 "
   ]
  },
  {
   "cell_type": "markdown",
   "id": "e997fe7a-8683-4b23-bd15-7c5d54e6b234",
   "metadata": {},
   "source": [
    "\n",
    "벡터 \n",
    "\n",
    "$${\\bf x} = [x_0, x_1, \\dots, x_{99}]$$\n",
    "\n",
    "을 아래와 같이 선언하라. \n"
   ]
  },
  {
   "cell_type": "code",
   "execution_count": 12,
   "id": "65738e32-e590-4838-979b-ca2e601997ff",
   "metadata": {},
   "outputs": [],
   "source": [
    "np.random.seed(43052)\n",
    "x = np.random.randn(100)"
   ]
  },
  {
   "cell_type": "markdown",
   "id": "ac982cbd-2583-4d1c-a21b-87b07aa850ca",
   "metadata": {},
   "source": [
    "`(1)` $x_0$의 값은 얼마인가?"
   ]
  },
  {
   "cell_type": "markdown",
   "id": "a076e614-7c93-4923-abf5-67918cdda06a",
   "metadata": {},
   "source": [
    "`(2)` $x_{99}$의 값은 얼마인가? "
   ]
  },
  {
   "cell_type": "markdown",
   "id": "b1e2e5eb-c014-473a-8db4-010039f08775",
   "metadata": {},
   "source": [
    "`(3)` $\\sum_{i=0}^{99} x_i$의 값은 얼마인가? "
   ]
  },
  {
   "cell_type": "markdown",
   "id": "8e165ae2-9b1e-4d95-85bb-f47826feec32",
   "metadata": {},
   "source": [
    "`(4)` $\\sum_{i=22}^{55} x_i$의 값은 얼마인가? "
   ]
  },
  {
   "cell_type": "markdown",
   "id": "b587477c-8a52-4b1b-9c4c-9b20da527bb6",
   "metadata": {},
   "source": [
    "# 문제 3. -- 10점"
   ]
  },
  {
   "cell_type": "markdown",
   "id": "3a5c5541-6dec-4106-a69c-83b544d429a1",
   "metadata": {},
   "source": [
    "\n",
    "벡터 \n",
    "\n",
    "$${\\bf x} = [x_0, x_1, \\dots, x_{99}]$$\n",
    "\n",
    "을 아래와 같이 선언하라. \n"
   ]
  },
  {
   "cell_type": "code",
   "execution_count": 12,
   "id": "9ae2a15f-bd51-4bd2-9b32-104d6d6c5391",
   "metadata": {},
   "outputs": [],
   "source": [
    "np.random.seed(43052)\n",
    "x = np.random.randn(100)"
   ]
  },
  {
   "attachments": {},
   "cell_type": "markdown",
   "id": "0512ffad-09ca-46d0-8e26-03f593f69590",
   "metadata": {},
   "source": [
    "이 벡터에 대하여 \n",
    "\n",
    "- $a=\\sum_{i=0}^{24}x_i$\n",
    "- $b=\\sum_{i=25}^{49}x_i$\n",
    "- $c=\\sum_{i=50}^{74}x_i$\n",
    "- $d=\\sum_{i=75}^{99}x_i$\n",
    "\n",
    "의 값을 각각 조사하라. a,b,c,d 중 가장 큰 값은 무엇인가? "
   ]
  },
  {
   "cell_type": "markdown",
   "id": "48a6be4b-253b-4ac5-9cfe-240d640d4574",
   "metadata": {},
   "source": [
    "# 문제 4. -- 10점"
   ]
  },
  {
   "cell_type": "markdown",
   "id": "1d7a6bcb-358b-4c92-b3b7-ad613280d7af",
   "metadata": {},
   "source": [
    "> 모두 맞출 경우만 정답으로 인정 "
   ]
  },
  {
   "cell_type": "markdown",
   "id": "074f4a3b-479f-434b-970b-c45fa441f07e",
   "metadata": {},
   "source": [
    "`(1)` `lambda`를 이용하여 $f(x)=\\sin(x)$에 대응하는 함수를 선언하라. "
   ]
  },
  {
   "cell_type": "markdown",
   "id": "8c448b15-f814-4321-86ed-7b31cce8a50f",
   "metadata": {},
   "source": [
    "`(2)` `def`를 이용하여 $g(x)=\\cos(2x)$에 대응하는 함수를 선언하라. "
   ]
  },
  {
   "cell_type": "markdown",
   "id": "2a685e71-ef05-4b10-9857-b4326ede9bb6",
   "metadata": {},
   "source": [
    "`(3)` 임의의 벡터 ${\\bf x}=[x_0,\\dots,x_{n-1}]$ 이 왔을때, ${\\bf x}$의 최대값을 $x_{max}$ 라고 하고 최소값을 $x_{min}$이라고 하자. 예를들어 \n",
    "\n",
    "$${\\bf x} = [1,2,3,0]$$ \n",
    "\n",
    "의 경우 $x_{max}=3$ 이고 $x_{min}=0$ 이다. 벡터 ${\\bf x}$를 입력으로 하고 출력으로 $x_{max}-x_{min}$의 계산값을 리턴하는 함수를 구현하라. "
   ]
  },
  {
   "cell_type": "code",
   "execution_count": 18,
   "id": "266c10cd-b181-41c7-8bb1-8eb582780f29",
   "metadata": {},
   "outputs": [
    {
     "data": {
      "text/plain": [
       "3"
      ]
     },
     "execution_count": 18,
     "metadata": {},
     "output_type": "execute_result"
    }
   ],
   "source": [
    "# 문제에서 요구하는 함수를 올바르게 정의하였을 경우 사용예시\n",
    "x = [1,2,3,0]\n",
    "f(x)"
   ]
  },
  {
   "cell_type": "markdown",
   "id": "318f4aa3-2526-429f-b2ad-d89506876d1e",
   "metadata": {},
   "source": [
    "# 문제 5. -- 10점 "
   ]
  },
  {
   "cell_type": "markdown",
   "id": "989131a9-0aed-4ddb-99b4-b8836bf129d1",
   "metadata": {},
   "source": [
    "> 모두 맞출 경우만 정답으로 인정 "
   ]
  },
  {
   "cell_type": "markdown",
   "id": "669e1f41-52d1-4d89-ad80-d17b300297ea",
   "metadata": {},
   "source": [
    "아래의 코드를 실행하여 `x`를 생성하라. "
   ]
  },
  {
   "cell_type": "code",
   "execution_count": 27,
   "id": "c0c5d947-0797-4976-ba7c-411871985a98",
   "metadata": {},
   "outputs": [],
   "source": [
    "np.random.seed(43052)\n",
    "x = np.random.rand(4305)"
   ]
  },
  {
   "cell_type": "markdown",
   "id": "53224798-44bb-4bad-bf58-daae0a99de18",
   "metadata": {},
   "source": [
    "`(1)` 생성된 값 중 0.65와 가장 가까운 값을 출력하라."
   ]
  },
  {
   "cell_type": "markdown",
   "id": "1e513639-a8e3-40e8-ab2f-dee41b749dde",
   "metadata": {},
   "source": [
    "`(2)` 생성된 값 중 최대값을 출력하라. "
   ]
  },
  {
   "cell_type": "markdown",
   "id": "d88dd836-3115-45a5-80ce-e14edf8365c1",
   "metadata": {},
   "source": [
    "`(3)` 생성된 값 중 두번째로 큰 값을 출력하라. 즉 최대값과 가장 가까운 값을 출력하라. "
   ]
  },
  {
   "cell_type": "markdown",
   "id": "1c464e63-36d1-4f1e-b2e8-66a2067a83f0",
   "metadata": {},
   "source": [
    "# 문제 6. -- 20점"
   ]
  },
  {
   "cell_type": "markdown",
   "id": "2b84ef55-2a2b-46bb-82f9-67bfa6ed0145",
   "metadata": {},
   "source": [
    "$\\frac{\\pi}{2}\\leq x \\leq \\pi$ 에서 $f(x)=\\sin(\\frac{3}{2}x)$ 와 $g(x)=\\cos(2x)\\sin(5x)$ 의 교점의 좌표를 구하라."
   ]
  },
  {
   "cell_type": "markdown",
   "id": "1c594cd5-ccb2-4805-82de-de8db3a8ac50",
   "metadata": {},
   "source": [
    "> 근사값만구해도 정답으로 인정함 "
   ]
  },
  {
   "cell_type": "markdown",
   "id": "90ad846e-2e19-4df6-9801-bd35747faf18",
   "metadata": {},
   "source": [
    "# 문제 7. -- 30점"
   ]
  },
  {
   "cell_type": "markdown",
   "id": "6835fa8b-b4f2-4f8c-ac98-60842fb11fbc",
   "metadata": {},
   "source": [
    "`(1)` 무한급수 $\\sum_{n=1}^{\\infty}(\\frac{1}{2})^n$ 의 수렴 및 발산을 파이썬을 이용하여 판정하라. -- 15점"
   ]
  },
  {
   "cell_type": "markdown",
   "id": "d88b44d5-f50c-4e57-9f08-b88c4cf52bfd",
   "metadata": {},
   "source": [
    "**힌트**\n",
    "\n",
    "$n=10, 20, 30, ..., 100$ 등에서 $S_n$의 값을 조사해보고 수렴성을 판단하라. "
   ]
  },
  {
   "cell_type": "markdown",
   "id": "bd63b1c7-8842-43f2-85cb-eed40d7ba868",
   "metadata": {},
   "source": [
    "`(2)` 무한급수 $\\sum_{n=1}^{\\infty}\\frac{1}{n}$ 의 수렴 및 발산을 파이썬을 이용하여 판정하라. -- 15점"
   ]
  },
  {
   "cell_type": "markdown",
   "id": "5f9ae7b8-ffc6-4931-b201-34f164f37e60",
   "metadata": {},
   "source": [
    "**힌트** -- `(1)`번과 동일한 테크닉"
   ]
  }
 ],
 "metadata": {
  "kernelspec": {
   "display_name": "Python 3 (ipykernel)",
   "language": "python",
   "name": "python3"
  },
  "language_info": {
   "codemirror_mode": {
    "name": "ipython",
    "version": 3
   },
   "file_extension": ".py",
   "mimetype": "text/x-python",
   "name": "python",
   "nbconvert_exporter": "python",
   "pygments_lexer": "ipython3",
   "version": "3.12.2"
  }
 },
 "nbformat": 4,
 "nbformat_minor": 5
}
