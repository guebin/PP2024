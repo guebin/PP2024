{
 "cells": [
  {
   "cell_type": "raw",
   "id": "16a2828d-9f51-44e4-a161-7355cc3ac7a5",
   "metadata": {
    "id": "87b5cded-346b-4915-acf5-b5ec93a5207d"
   },
   "source": [
    "---\n",
    "title: \"14wk-2: 클래스 (4)\"\n",
    "author: \"최규빈\"\n",
    "date: \"06/07/2024\"\n",
    "draft: true\n",
    "execute:\n",
    "  error: true\n",
    "---"
   ]
  },
  {
   "cell_type": "markdown",
   "id": "ae4baa3e-37e5-4586-bd92-3a943bee5bbb",
   "metadata": {
    "id": "e67ab8e0"
   },
   "source": [
    "<a href=\"https://colab.research.google.com/github/guebin/PP2024/blob/main/posts/14wk-2.ipynb\"><img src=\"https://colab.research.google.com/assets/colab-badge.svg\" style=\"text-align: left\"></a>"
   ]
  },
  {
   "cell_type": "markdown",
   "id": "343b010c-634f-4601-8a76-e68efaa85a4f",
   "metadata": {},
   "source": [
    "# 1. 강의영상 "
   ]
  },
  {
   "cell_type": "markdown",
   "id": "0fd96fc5-c1e0-47ab-973b-0187f202e741",
   "metadata": {
    "tags": []
   },
   "source": [
    "{{<video https://youtu.be/playlist?list=PLQqh36zP38-yhYjyDRkhCJb6R3GNIL-Ex&si=VMJzZ7DkVAhpY2pa >}}"
   ]
  },
  {
   "cell_type": "markdown",
   "id": "0c6943e3-ce10-4226-b452-3937a7afc913",
   "metadata": {},
   "source": [
    "# 2. Imports "
   ]
  },
  {
   "cell_type": "code",
   "execution_count": 3,
   "id": "59dc71ab-275a-43a4-9c27-896910963be2",
   "metadata": {
    "tags": []
   },
   "outputs": [],
   "source": [
    "import time\n",
    "import collections\n",
    "import numpy as np\n",
    "import pandas as pd\n",
    "import matplotlib.pyplot as plt\n",
    "import random"
   ]
  },
  {
   "cell_type": "markdown",
   "id": "cb365881-a20f-499d-b160-fddb61d25fee",
   "metadata": {},
   "source": [
    "# 3. 코딩 문해력"
   ]
  },
  {
   "cell_type": "markdown",
   "id": "a12c9c03-c741-470d-be1d-65f276a93696",
   "metadata": {},
   "source": [
    "## A. 수용력과 이해력 "
   ]
  },
  {
   "cell_type": "markdown",
   "id": "9c08802b-cafa-4d52-b3ef-6a08c088dc2f",
   "metadata": {},
   "source": [
    "`-` 수용력 테스트1: 2주차-2"
   ]
  },
  {
   "cell_type": "markdown",
   "id": "5364563f-2ac9-4c94-9233-d95e51a932d7",
   "metadata": {
    "tags": []
   },
   "source": [
    "$f(x)=x^2$위의 임의의 점을 입력하면 접선을 리턴하는 함수를 구현하라. "
   ]
  },
  {
   "cell_type": "code",
   "execution_count": 4,
   "id": "edf8c98b-2b5b-47b2-9b5b-303aa02ee991",
   "metadata": {
    "tags": []
   },
   "outputs": [],
   "source": [
    "def make_func(x0):\n",
    "    f = lambda x: x**2\n",
    "    def func(x):\n",
    "        h = 0.0001\n",
    "        a = (f(x0+h)-f(x0))/h \n",
    "        return a*(x-x0) + f(x0)\n",
    "    return func"
   ]
  },
  {
   "cell_type": "markdown",
   "id": "954bde61-b462-4f30-b9a3-0730e3280fd3",
   "metadata": {},
   "source": [
    "이거.... 얼마전에 배운내용이었음.. "
   ]
  },
  {
   "cell_type": "markdown",
   "id": "e7e1b6e5-bb6e-42d6-883d-86aae9e16e43",
   "metadata": {},
   "source": [
    "`-` 수용력 테스트2: map + list "
   ]
  },
  {
   "cell_type": "code",
   "execution_count": 5,
   "id": "fe472c1b-d89f-452a-812b-ad91010f4b86",
   "metadata": {
    "tags": []
   },
   "outputs": [
    {
     "data": {
      "text/plain": [
       "[2, 8, 15]"
      ]
     },
     "execution_count": 5,
     "metadata": {},
     "output_type": "execute_result"
    }
   ],
   "source": [
    "f = lambda x: max(x)\n",
    "x1 = [1,1,2]\n",
    "x2 = [2,3,6,8]\n",
    "x3 = [4,5,10,15]\n",
    "list(map(f,[x1,x2,x3]))"
   ]
  },
  {
   "cell_type": "markdown",
   "id": "b8fd933d-89d4-47fd-8bdf-4bf49943863f",
   "metadata": {},
   "source": [
    "`-` 이해력 테스트1: `map()`으로 생성된 인스턴스는 iterable"
   ]
  },
  {
   "cell_type": "code",
   "execution_count": 6,
   "id": "c004d414-e0e4-4bbc-b8c7-154cad4c9fb1",
   "metadata": {
    "tags": []
   },
   "outputs": [
    {
     "name": "stdout",
     "output_type": "stream",
     "text": [
      "2\n",
      "8\n",
      "15\n"
     ]
    }
   ],
   "source": [
    "for i in map(f,[x1,x2,x3]):\n",
    "    print(i)"
   ]
  },
  {
   "cell_type": "markdown",
   "id": "b3d0a1af-b83c-46a1-a036-23b0be5693c1",
   "metadata": {
    "tags": []
   },
   "source": [
    "`-` 이해력 테스트2: `str`은 callable"
   ]
  },
  {
   "cell_type": "code",
   "execution_count": null,
   "id": "d7d8eb94-642f-43e3-a485-3191f77b7d4d",
   "metadata": {},
   "outputs": [],
   "source": []
  },
  {
   "cell_type": "code",
   "execution_count": null,
   "id": "8ec1a1a7-5717-46c8-ab65-9030f91a1c8d",
   "metadata": {},
   "outputs": [],
   "source": []
  },
  {
   "cell_type": "markdown",
   "id": "2909822c-e19f-443c-8fb5-c38996c71a6b",
   "metadata": {},
   "source": [
    "`-` 이해력 테스트3: `+.join(??)` 자리에 올 수 있는건?"
   ]
  },
  {
   "cell_type": "code",
   "execution_count": null,
   "id": "57ad12bc-159b-47ba-8a06-8c376203fcbb",
   "metadata": {},
   "outputs": [],
   "source": []
  },
  {
   "cell_type": "code",
   "execution_count": null,
   "id": "141b609c-0c34-47f1-b735-c8dd33c5dfd3",
   "metadata": {},
   "outputs": [],
   "source": []
  },
  {
   "cell_type": "markdown",
   "id": "90d8f4ec-cc46-4f52-8d7b-b2ce51f0de06",
   "metadata": {
    "tags": []
   },
   "source": [
    "## B. 흡수력과 활용력 "
   ]
  },
  {
   "cell_type": "code",
   "execution_count": 7,
   "id": "d0df6d54-0c11-4a5a-a6f5-ca3aaae53512",
   "metadata": {
    "tags": []
   },
   "outputs": [
    {
     "data": {
      "text/html": [
       "<div>\n",
       "<style scoped>\n",
       "    .dataframe tbody tr th:only-of-type {\n",
       "        vertical-align: middle;\n",
       "    }\n",
       "\n",
       "    .dataframe tbody tr th {\n",
       "        vertical-align: top;\n",
       "    }\n",
       "\n",
       "    .dataframe thead th {\n",
       "        text-align: right;\n",
       "    }\n",
       "</style>\n",
       "<table border=\"1\" class=\"dataframe\">\n",
       "  <thead>\n",
       "    <tr style=\"text-align: right;\">\n",
       "      <th></th>\n",
       "      <th>att</th>\n",
       "      <th>rep</th>\n",
       "      <th>mid</th>\n",
       "      <th>fin</th>\n",
       "    </tr>\n",
       "  </thead>\n",
       "  <tbody>\n",
       "    <tr>\n",
       "      <th>0</th>\n",
       "      <td>80</td>\n",
       "      <td>80</td>\n",
       "      <td>100</td>\n",
       "      <td>95</td>\n",
       "    </tr>\n",
       "    <tr>\n",
       "      <th>1</th>\n",
       "      <td>80</td>\n",
       "      <td>35</td>\n",
       "      <td>100</td>\n",
       "      <td>75</td>\n",
       "    </tr>\n",
       "    <tr>\n",
       "      <th>2</th>\n",
       "      <td>70</td>\n",
       "      <td>50</td>\n",
       "      <td>35</td>\n",
       "      <td>35</td>\n",
       "    </tr>\n",
       "    <tr>\n",
       "      <th>3</th>\n",
       "      <td>100</td>\n",
       "      <td>60</td>\n",
       "      <td>15</td>\n",
       "      <td>95</td>\n",
       "    </tr>\n",
       "    <tr>\n",
       "      <th>4</th>\n",
       "      <td>80</td>\n",
       "      <td>25</td>\n",
       "      <td>60</td>\n",
       "      <td>0</td>\n",
       "    </tr>\n",
       "  </tbody>\n",
       "</table>\n",
       "</div>"
      ],
      "text/plain": [
       "   att  rep  mid  fin\n",
       "0   80   80  100   95\n",
       "1   80   35  100   75\n",
       "2   70   50   35   35\n",
       "3  100   60   15   95\n",
       "4   80   25   60    0"
      ]
     },
     "execution_count": 7,
     "metadata": {},
     "output_type": "execute_result"
    }
   ],
   "source": [
    "att = np.random.choice(np.arange(10,21)*5,20); rep = np.random.choice(np.arange(5,21)*5,20); mid = np.random.choice(np.arange(0,21)*5,20); fin = np.random.choice(np.arange(0,21)*5,20)\n",
    "df = pd.DataFrame({'att':att,'rep':rep,'mid':mid,'fin':fin})[:5]\n",
    "df"
   ]
  },
  {
   "cell_type": "markdown",
   "id": "a4523b85-eba9-4064-8d85-8c47b83be67c",
   "metadata": {},
   "source": [
    "`-` 흡수력 테스트: 이거 보고 바로 구조가 이해되면 흡수력이 좋은것임 "
   ]
  },
  {
   "cell_type": "code",
   "execution_count": 367,
   "id": "de943837-80c3-44b8-9129-7bebe5769366",
   "metadata": {
    "tags": []
   },
   "outputs": [
    {
     "data": {
      "text/html": [
       "<div>\n",
       "<style scoped>\n",
       "    .dataframe tbody tr th:only-of-type {\n",
       "        vertical-align: middle;\n",
       "    }\n",
       "\n",
       "    .dataframe tbody tr th {\n",
       "        vertical-align: top;\n",
       "    }\n",
       "\n",
       "    .dataframe thead th {\n",
       "        text-align: right;\n",
       "    }\n",
       "</style>\n",
       "<table border=\"1\" class=\"dataframe\">\n",
       "  <thead>\n",
       "    <tr style=\"text-align: right;\">\n",
       "      <th></th>\n",
       "      <th>att</th>\n",
       "    </tr>\n",
       "  </thead>\n",
       "  <tbody>\n",
       "    <tr>\n",
       "      <th>0</th>\n",
       "      <td>86</td>\n",
       "    </tr>\n",
       "    <tr>\n",
       "      <th>1</th>\n",
       "      <td>96</td>\n",
       "    </tr>\n",
       "    <tr>\n",
       "      <th>2</th>\n",
       "      <td>81</td>\n",
       "    </tr>\n",
       "    <tr>\n",
       "      <th>3</th>\n",
       "      <td>66</td>\n",
       "    </tr>\n",
       "    <tr>\n",
       "      <th>4</th>\n",
       "      <td>86</td>\n",
       "    </tr>\n",
       "  </tbody>\n",
       "</table>\n",
       "</div>"
      ],
      "text/plain": [
       "   att\n",
       "0   86\n",
       "1   96\n",
       "2   81\n",
       "3   66\n",
       "4   86"
      ]
     },
     "execution_count": 367,
     "metadata": {},
     "output_type": "execute_result"
    }
   ],
   "source": [
    "df.apply({'att': lambda x: x+1})"
   ]
  },
  {
   "cell_type": "code",
   "execution_count": null,
   "id": "ae0670c8-8f33-476f-a247-2382c58762e4",
   "metadata": {},
   "outputs": [],
   "source": []
  },
  {
   "cell_type": "code",
   "execution_count": null,
   "id": "039c5faf-bd83-4299-9fb6-4646ed9528f5",
   "metadata": {},
   "outputs": [],
   "source": []
  },
  {
   "cell_type": "markdown",
   "id": "c87718ca-bf96-43f6-81b0-5569295b6f4b",
   "metadata": {},
   "source": [
    "`-` 활용력 테스트: 위의코드를 보고 이 코드까지 떠올릴 수 있으면 문일지십의 단계"
   ]
  },
  {
   "cell_type": "code",
   "execution_count": null,
   "id": "96a76e0f-3512-4b71-b74a-683c15679cd6",
   "metadata": {},
   "outputs": [],
   "source": []
  },
  {
   "cell_type": "code",
   "execution_count": null,
   "id": "020cf7ba-9f87-4cc2-a8ff-60422915b537",
   "metadata": {},
   "outputs": [],
   "source": []
  },
  {
   "cell_type": "markdown",
   "id": "538c2e19-3c80-42be-aa92-590cd94f8166",
   "metadata": {},
   "source": [
    "> 수용력 $\\to$ 이해력 $\\to$ 흡수력 $\\to$ 활용력 "
   ]
  },
  {
   "cell_type": "markdown",
   "id": "bad1f010-33fd-4101-aaf7-a900caf7a328",
   "metadata": {},
   "source": [
    "# 4. 함수"
   ]
  },
  {
   "cell_type": "markdown",
   "id": "0bf6f7ed-6e32-4cc2-a2a2-9cccdff64c9d",
   "metadata": {},
   "source": [
    "## A. 대표예시 "
   ]
  },
  {
   "cell_type": "markdown",
   "id": "20961f5a-f96a-49ef-b84f-48a757a0791a",
   "metadata": {},
   "source": [
    "`# 예제1` -- 은근히 짜증났던 `plt.plot()`"
   ]
  },
  {
   "cell_type": "code",
   "execution_count": 10,
   "id": "b1beecb2-0f55-41ec-be7a-29a208cab4c2",
   "metadata": {
    "tags": []
   },
   "outputs": [
    {
     "data": {
      "text/plain": [
       "[<matplotlib.lines.Line2D at 0x7f10009e31f0>]"
      ]
     },
     "execution_count": 10,
     "metadata": {},
     "output_type": "execute_result"
    },
    {
     "data": {
      "image/png": "[encoded data removed]",
      "text/plain": [
       "<Figure size 640x480 with 1 Axes>"
      ]
     },
     "metadata": {},
     "output_type": "display_data"
    }
   ],
   "source": [
    "plt.plot([1,2,3,4],[2,3,4,2],'r--')"
   ]
  },
  {
   "cell_type": "code",
   "execution_count": 11,
   "id": "f60bcc1e-bf4d-4a25-b221-76ea3a0f4bc3",
   "metadata": {
    "tags": []
   },
   "outputs": [
    {
     "ename": "SyntaxError",
     "evalue": "positional argument follows keyword argument (2277522587.py, line 1)",
     "output_type": "error",
     "traceback": [
      "\u001b[0;36m  Cell \u001b[0;32mIn[11], line 1\u001b[0;36m\u001b[0m\n\u001b[0;31m    plt.plot([1,2,3,4],[2,3,4,2],color='lime','--')\u001b[0m\n\u001b[0m                                                  ^\u001b[0m\n\u001b[0;31mSyntaxError\u001b[0m\u001b[0;31m:\u001b[0m positional argument follows keyword argument\n"
     ]
    }
   ],
   "source": [
    "plt.plot([1,2,3,4],[2,3,4,2],color='lime','--')"
   ]
  },
  {
   "cell_type": "code",
   "execution_count": 12,
   "id": "201008e9-54b0-4f5e-b336-e66cb4a0c5f1",
   "metadata": {
    "tags": []
   },
   "outputs": [
    {
     "data": {
      "text/plain": [
       "[<matplotlib.lines.Line2D at 0x7f0ffe708fd0>]"
      ]
     },
     "execution_count": 12,
     "metadata": {},
     "output_type": "execute_result"
    },
    {
     "data": {
      "image/png": "[encoded data removed]",
      "text/plain": [
       "<Figure size 640x480 with 1 Axes>"
      ]
     },
     "metadata": {},
     "output_type": "display_data"
    }
   ],
   "source": [
    "plt.plot([1,2,3,4],[2,3,4,2],'--',color='lime')"
   ]
  },
  {
   "cell_type": "markdown",
   "id": "83f6d852-d7b3-42e8-8a10-c8c4c24beb44",
   "metadata": {},
   "source": [
    "`#`"
   ]
  },
  {
   "cell_type": "markdown",
   "id": "e38cdc6b-1bfc-4623-ab33-51b437c67d88",
   "metadata": {
    "tags": []
   },
   "source": [
    "## B. 개념 "
   ]
  },
  {
   "cell_type": "markdown",
   "id": "8ce4afc6-9f68-4ecc-9e8d-54a01512bed6",
   "metadata": {},
   "source": [
    "`# 예시1` --  함수사용시, 함수의 입력값을 전달하는 두가지 방식, 원칙1"
   ]
  },
  {
   "cell_type": "markdown",
   "id": "2a9185e7-0a68-45de-93a1-38bbc94427ef",
   "metadata": {},
   "source": [
    "`-` 함수 사용시, 함수의 입력값을 전달하는 두가지 방식은 아래와 같다. "
   ]
  },
  {
   "cell_type": "code",
   "execution_count": 29,
   "id": "89a6d53e-ad3d-4bb8-98b2-12994b761c57",
   "metadata": {
    "tags": []
   },
   "outputs": [],
   "source": [
    "def func(x,y):\n",
    "    return x**y "
   ]
  },
  {
   "cell_type": "code",
   "execution_count": 32,
   "id": "2a141863-8e5b-48a1-8b96-a1985820bf5f",
   "metadata": {
    "tags": []
   },
   "outputs": [
    {
     "data": {
      "text/plain": [
       "8"
      ]
     },
     "execution_count": 32,
     "metadata": {},
     "output_type": "execute_result"
    }
   ],
   "source": [
    "func(2,3) # 이렇게 입력하는 경우"
   ]
  },
  {
   "cell_type": "code",
   "execution_count": 33,
   "id": "8ad12764-3c63-4665-b038-085e5f4d5038",
   "metadata": {
    "tags": []
   },
   "outputs": [
    {
     "data": {
      "text/plain": [
       "8"
      ]
     },
     "execution_count": 33,
     "metadata": {},
     "output_type": "execute_result"
    }
   ],
   "source": [
    "func(x=2,y=3) # 이렇게 입력하는 경우"
   ]
  },
  {
   "cell_type": "markdown",
   "id": "796ac1e7-4610-441b-b914-2118dde2e661",
   "metadata": {},
   "source": [
    "`-` 여기에서 `func(2,3)`와 같이 사용할때, 함수의 입력값을 위치인자로 전달했다고 한다. 이는 컴퓨터가 입력값 2,3이 있는 위치에 따라서 x,y를 할당한다는 의미이다. 즉 앞에있는걸 x로 뒤에있는걸 y로 받는다는 의미이다. 따라서 `func(2,3)`와 `func(3,2)`는 다르게 동작한다. "
   ]
  },
  {
   "cell_type": "code",
   "execution_count": 36,
   "id": "fb0d9007-9afd-4ae8-9919-a979cccfcf12",
   "metadata": {
    "tags": []
   },
   "outputs": [
    {
     "data": {
      "text/plain": [
       "(8, 9)"
      ]
     },
     "execution_count": 36,
     "metadata": {},
     "output_type": "execute_result"
    }
   ],
   "source": [
    "func(2,3), func(3,2)"
   ]
  },
  {
   "cell_type": "markdown",
   "id": "7d85d6c3-9625-4b15-92d0-18490c8e2624",
   "metadata": {},
   "source": [
    "`-` `func(x=2,y=3)`와 같이 사용하면, 함수의 입력값을 키워드인자로 전달했다고 한다. 이는 컴퓨터가 입력값의 위치에 따라 x,y를 할당하는게 아닌 키워드값 자체를 보고 할당한다는 것이다. 따라서 `func(x=2,y=3)` 와 `func(y=3,x=2)`는 같은 동작을 한다. "
   ]
  },
  {
   "cell_type": "code",
   "execution_count": 39,
   "id": "598c7825-0672-4350-95f1-79db31bb05d3",
   "metadata": {
    "tags": []
   },
   "outputs": [
    {
     "data": {
      "text/plain": [
       "(8, 8)"
      ]
     },
     "execution_count": 39,
     "metadata": {},
     "output_type": "execute_result"
    }
   ],
   "source": [
    "func(x=2,y=3), func(y=3,x=2)"
   ]
  },
  {
   "cell_type": "markdown",
   "id": "7e32343b-44fe-4ee5-bf09-a1709cd8efa1",
   "metadata": {
    "tags": []
   },
   "source": [
    "`-` 위치인자와 키워드인자를 이해할때 위치인자는 입력을 튜플로 키워드인자는 입력을 딕셔러니로 생각하면 편리하다. "
   ]
  },
  {
   "cell_type": "code",
   "execution_count": 50,
   "id": "55776494-bc46-4af5-8d37-d74f62efde67",
   "metadata": {
    "tags": []
   },
   "outputs": [
    {
     "data": {
      "text/plain": [
       "8"
      ]
     },
     "execution_count": 50,
     "metadata": {},
     "output_type": "execute_result"
    }
   ],
   "source": [
    "tpl = (2,3)\n",
    "func(*tpl)"
   ]
  },
  {
   "cell_type": "code",
   "execution_count": 52,
   "id": "4fd221ec-6c2f-45dc-a723-ec3b13b02a8f",
   "metadata": {
    "tags": []
   },
   "outputs": [
    {
     "data": {
      "text/plain": [
       "9"
      ]
     },
     "execution_count": 52,
     "metadata": {},
     "output_type": "execute_result"
    }
   ],
   "source": [
    "tpl = (3,2)\n",
    "func(*tpl)"
   ]
  },
  {
   "cell_type": "code",
   "execution_count": 55,
   "id": "5c3b95d2-e899-40a6-a8ad-7c1d565f2221",
   "metadata": {
    "tags": []
   },
   "outputs": [
    {
     "data": {
      "text/plain": [
       "8"
      ]
     },
     "execution_count": 55,
     "metadata": {},
     "output_type": "execute_result"
    }
   ],
   "source": [
    "dct = dict(x=2,y=3) \n",
    "func(**dct)"
   ]
  },
  {
   "cell_type": "code",
   "execution_count": 58,
   "id": "b10e1f9e-318b-4047-b092-49d052664baa",
   "metadata": {
    "tags": []
   },
   "outputs": [
    {
     "data": {
      "text/plain": [
       "8"
      ]
     },
     "execution_count": 58,
     "metadata": {},
     "output_type": "execute_result"
    }
   ],
   "source": [
    "dct = dict(y=3,x=2) \n",
    "func(**dct)"
   ]
  },
  {
   "cell_type": "markdown",
   "id": "59c7b344-9e4f-4885-acae-4412d1c746cd",
   "metadata": {
    "tags": []
   },
   "source": [
    "> 원칙1: 위치인자의 입력은 튜플로, 키워드인자의 입력은 딕셔너리로 생각한다. "
   ]
  },
  {
   "cell_type": "markdown",
   "id": "29d9f806-30da-4d44-bb93-dc6ddb166049",
   "metadata": {},
   "source": [
    "`#`"
   ]
  },
  {
   "cell_type": "markdown",
   "id": "d9e76e3d-9ac6-4df0-afee-b1ea744ddd5b",
   "metadata": {},
   "source": [
    "`# 예시2` --  함수를 정의할때, 입력값을 정의하는 두가지 방식, 원칙2,3"
   ]
  },
  {
   "cell_type": "markdown",
   "id": "f99a96be-79f6-45fc-b1d8-915e9ab7593f",
   "metadata": {},
   "source": [
    "`-` 함수를 정의할때, 함수의 입력값을 아래와 같이 기본값을 주어 정의할 수 있다. "
   ]
  },
  {
   "cell_type": "code",
   "execution_count": 60,
   "id": "0ad53e00-59cd-4392-be0b-f2a7a7cf2384",
   "metadata": {
    "tags": []
   },
   "outputs": [],
   "source": [
    "def jump(x,y=1):\n",
    "    return x+y"
   ]
  },
  {
   "cell_type": "code",
   "execution_count": 61,
   "id": "b5591619-f88b-4a99-b487-f2dfaa089023",
   "metadata": {
    "tags": []
   },
   "outputs": [
    {
     "data": {
      "text/plain": [
       "2"
      ]
     },
     "execution_count": 61,
     "metadata": {},
     "output_type": "execute_result"
    }
   ],
   "source": [
    "jump(1)"
   ]
  },
  {
   "cell_type": "markdown",
   "id": "1fb8a78f-6f77-498f-9450-a413f7457c38",
   "metadata": {},
   "source": [
    "> 원칙2: 미리정의된 입력값은 생략가능하다 --> 미리 정의된 키워드인자는 생략가능하다."
   ]
  },
  {
   "cell_type": "code",
   "execution_count": 100,
   "id": "6ae3f775-0aad-4936-990f-8f6cbddcab6b",
   "metadata": {
    "tags": []
   },
   "outputs": [
    {
     "data": {
      "text/plain": [
       "6"
      ]
     },
     "execution_count": 100,
     "metadata": {},
     "output_type": "execute_result"
    }
   ],
   "source": [
    "jump(1,5)"
   ]
  },
  {
   "cell_type": "markdown",
   "id": "d37d5f46-d4aa-4315-a495-660c6e9705c1",
   "metadata": {},
   "source": [
    "`-` 이때 x는 위치인자로 정의되었다고 하고, y는 키워드 인자로 정의되었다고 표현한다. 그래서 엄밀하게 개념상으로는 아래와 같다. \n",
    "\n",
    "```Python\n",
    "def func(x,y): # x,y는 모두 위치인자로 정의되었음. \n",
    "    return x**y \n",
    "```\n",
    "\n",
    "```Python\n",
    "def jump(x,y=1): # x는 위치인자로, y는 키워드 인자로 정의되었음. \n",
    "    return x+y\n",
    "```"
   ]
  },
  {
   "cell_type": "markdown",
   "id": "ebbe1576-07e9-49ca-9831-a18a1a93cc92",
   "metadata": {
    "tags": []
   },
   "source": [
    "`-` 이러한 설명은 와닿지 않는데, 위치인자로 정의되었다고 해도 그걸 키워드인자로 모두 쓸 수 있고 키워드인자로 정의되었다고 해도 그걸 위치인자로 쓸 수 있기 때문이다. "
   ]
  },
  {
   "cell_type": "code",
   "execution_count": 101,
   "id": "11b3878e-22f2-4668-9be3-eb97152890a0",
   "metadata": {
    "tags": []
   },
   "outputs": [
    {
     "data": {
      "text/plain": [
       "8"
      ]
     },
     "execution_count": 101,
     "metadata": {},
     "output_type": "execute_result"
    }
   ],
   "source": [
    "func(2,3) # 위치인자로 정의된걸 위치인자로 사용"
   ]
  },
  {
   "cell_type": "code",
   "execution_count": 102,
   "id": "ec3c02a6-e41b-4f5c-8bfe-6a367d2a6765",
   "metadata": {
    "tags": []
   },
   "outputs": [
    {
     "data": {
      "text/plain": [
       "8"
      ]
     },
     "execution_count": 102,
     "metadata": {},
     "output_type": "execute_result"
    }
   ],
   "source": [
    "func(x=2,y=3) # 위치인자로 정의된걸 키워드인자로 사용"
   ]
  },
  {
   "cell_type": "code",
   "execution_count": 103,
   "id": "18716a55-6081-446b-ade2-49a29c70012c",
   "metadata": {
    "tags": []
   },
   "outputs": [
    {
     "data": {
      "text/plain": [
       "3"
      ]
     },
     "execution_count": 103,
     "metadata": {},
     "output_type": "execute_result"
    }
   ],
   "source": [
    "jump(1,y=2) # 위치인자로 정의된건 위치인자로, 키워드인자로 정의된건 키워드인자로 사용"
   ]
  },
  {
   "cell_type": "code",
   "execution_count": 104,
   "id": "f737e90f-a95d-4de2-b238-d9e60d93f517",
   "metadata": {
    "tags": []
   },
   "outputs": [
    {
     "data": {
      "text/plain": [
       "3"
      ]
     },
     "execution_count": 104,
     "metadata": {},
     "output_type": "execute_result"
    }
   ],
   "source": [
    "jump(1,2) # 정의된것 무시하고 둘다 위치인자로사용"
   ]
  },
  {
   "cell_type": "code",
   "execution_count": 105,
   "id": "0677f9c9-8d90-4467-8cb5-80d50055c17a",
   "metadata": {
    "tags": []
   },
   "outputs": [
    {
     "data": {
      "text/plain": [
       "3"
      ]
     },
     "execution_count": 105,
     "metadata": {},
     "output_type": "execute_result"
    }
   ],
   "source": [
    "jump(x=1,y=2) # 정의된것 무시하고 둘다 키워드인자로 사용"
   ]
  },
  {
   "cell_type": "markdown",
   "id": "dad50340-4ca4-469a-9693-4a0faa7e6722",
   "metadata": {
    "tags": []
   },
   "source": [
    "> 원칙3: 위치인자로 정의되었을지라도 키워드인자로 쓸 수 있고, 키워드 인자로 정의되었을지라도 위치인자로 쓸 수 있다. "
   ]
  },
  {
   "cell_type": "markdown",
   "id": "d89f5d25-d79d-4541-af2e-1e8d623c4d29",
   "metadata": {},
   "source": [
    "`#`"
   ]
  },
  {
   "cell_type": "markdown",
   "id": "ab7c564f-0fda-4a29-9498-8b0cf0fba0dd",
   "metadata": {},
   "source": [
    "`# 예제3` -- 원칙4: 함수의 입력값을 전달할때, 위치인자는 키워드인자 뒤에 올 수 없다. "
   ]
  },
  {
   "cell_type": "code",
   "execution_count": 106,
   "id": "1e0a6575-0651-4614-a74e-692a3b1fae2e",
   "metadata": {
    "tags": []
   },
   "outputs": [
    {
     "data": {
      "text/plain": [
       "1"
      ]
     },
     "execution_count": 106,
     "metadata": {},
     "output_type": "execute_result"
    }
   ],
   "source": [
    "func(1,2) # 가능"
   ]
  },
  {
   "cell_type": "code",
   "execution_count": 107,
   "id": "475aaa31-8b2a-47bd-9ce6-fc67ead4e2f8",
   "metadata": {
    "tags": []
   },
   "outputs": [
    {
     "data": {
      "text/plain": [
       "1"
      ]
     },
     "execution_count": 107,
     "metadata": {},
     "output_type": "execute_result"
    }
   ],
   "source": [
    "func(1,y=2) # 가능"
   ]
  },
  {
   "cell_type": "code",
   "execution_count": 87,
   "id": "0c88260c-336a-4026-b36b-7d0727c69834",
   "metadata": {
    "tags": []
   },
   "outputs": [
    {
     "ename": "SyntaxError",
     "evalue": "positional argument follows keyword argument (3028310640.py, line 1)",
     "output_type": "error",
     "traceback": [
      "\u001b[0;36m  Cell \u001b[0;32mIn[87], line 1\u001b[0;36m\u001b[0m\n\u001b[0;31m    func(x=1,2) # 불가능\u001b[0m\n\u001b[0m              ^\u001b[0m\n\u001b[0;31mSyntaxError\u001b[0m\u001b[0;31m:\u001b[0m positional argument follows keyword argument\n"
     ]
    }
   ],
   "source": [
    "func(x=1,2) # 불가능"
   ]
  },
  {
   "cell_type": "code",
   "execution_count": 84,
   "id": "352f76a5-e670-416f-ae47-34f9d9ac3f75",
   "metadata": {
    "tags": []
   },
   "outputs": [
    {
     "ename": "SyntaxError",
     "evalue": "positional argument follows keyword argument (872138673.py, line 1)",
     "output_type": "error",
     "traceback": [
      "\u001b[0;36m  Cell \u001b[0;32mIn[84], line 1\u001b[0;36m\u001b[0m\n\u001b[0;31m    func(y=2,1) # 불가능\u001b[0m\n\u001b[0m              ^\u001b[0m\n\u001b[0;31mSyntaxError\u001b[0m\u001b[0;31m:\u001b[0m positional argument follows keyword argument\n"
     ]
    }
   ],
   "source": [
    "func(y=2,1) # 불가능"
   ]
  },
  {
   "cell_type": "code",
   "execution_count": 89,
   "id": "8a0ed131-02b2-4e16-bb24-5fb4562bb5c8",
   "metadata": {
    "tags": []
   },
   "outputs": [
    {
     "data": {
      "text/plain": [
       "3"
      ]
     },
     "execution_count": 89,
     "metadata": {},
     "output_type": "execute_result"
    }
   ],
   "source": [
    "jump(1,y=2) # 가능"
   ]
  },
  {
   "cell_type": "code",
   "execution_count": 90,
   "id": "9f1344f5-df45-43e0-bad9-ab60c558356c",
   "metadata": {
    "tags": []
   },
   "outputs": [
    {
     "data": {
      "text/plain": [
       "3"
      ]
     },
     "execution_count": 90,
     "metadata": {},
     "output_type": "execute_result"
    }
   ],
   "source": [
    "jump(x=1,y=2) # 가능"
   ]
  },
  {
   "cell_type": "code",
   "execution_count": 91,
   "id": "6b6b183a-1d9f-4087-9e46-964d263d295b",
   "metadata": {
    "tags": []
   },
   "outputs": [
    {
     "data": {
      "text/plain": [
       "3"
      ]
     },
     "execution_count": 91,
     "metadata": {},
     "output_type": "execute_result"
    }
   ],
   "source": [
    "jump(1,2) # 가능"
   ]
  },
  {
   "cell_type": "code",
   "execution_count": 93,
   "id": "8775f293-5cb9-4f98-9756-d2fcd6618f99",
   "metadata": {
    "tags": []
   },
   "outputs": [
    {
     "ename": "SyntaxError",
     "evalue": "positional argument follows keyword argument (2833435458.py, line 1)",
     "output_type": "error",
     "traceback": [
      "\u001b[0;36m  Cell \u001b[0;32mIn[93], line 1\u001b[0;36m\u001b[0m\n\u001b[0;31m    jump(x=1,2) # 불가능\u001b[0m\n\u001b[0m              ^\u001b[0m\n\u001b[0;31mSyntaxError\u001b[0m\u001b[0;31m:\u001b[0m positional argument follows keyword argument\n"
     ]
    }
   ],
   "source": [
    "jump(x=1,2) # 불가능"
   ]
  },
  {
   "cell_type": "markdown",
   "id": "7c14ed55-0073-4dd6-8753-cd83cb8c22df",
   "metadata": {},
   "source": [
    "> 원칙4: 함수에 입력값을 전달할때, 위치인자는 키워드인자 뒤에 올 수 없다. ($\\star\\star\\star$)"
   ]
  },
  {
   "cell_type": "markdown",
   "id": "0be2ee7b-2255-4bd7-a4c3-aad82bcfbbb6",
   "metadata": {},
   "source": [
    "`#`"
   ]
  },
  {
   "cell_type": "markdown",
   "id": "fff2976b-f1bf-48f5-9518-c22a09e8d4f2",
   "metadata": {
    "tags": []
   },
   "source": [
    "`# 예제4` -- 길이가 변하는 위치인자 `*args`, 원칙5,6,7"
   ]
  },
  {
   "cell_type": "code",
   "execution_count": 112,
   "id": "57757158-0315-4381-abe5-746e2e3760bf",
   "metadata": {
    "tags": []
   },
   "outputs": [],
   "source": [
    "def dummy(x,y,*args):\n",
    "    return x,y,args"
   ]
  },
  {
   "cell_type": "code",
   "execution_count": 113,
   "id": "4fb9b9e6-0060-425f-ac52-eaa6df21590f",
   "metadata": {
    "tags": []
   },
   "outputs": [
    {
     "data": {
      "text/plain": [
       "(1, 2, (3, 4, 5, 6))"
      ]
     },
     "execution_count": 113,
     "metadata": {},
     "output_type": "execute_result"
    }
   ],
   "source": [
    "dummy(1,2,3,4,5,6)"
   ]
  },
  {
   "cell_type": "markdown",
   "id": "ad62bbb6-3b54-451b-801e-4dc89b305d7a",
   "metadata": {},
   "source": [
    "> 원칙5: 가변위치인자를 입력을 받을때는 위치인자 뒤에, `*args`를 사용하면 된다. 이때 함수내에서 `*args`를 다룰때는 `*`를 제외하고 튜플로 취급하면된다. "
   ]
  },
  {
   "cell_type": "code",
   "execution_count": 127,
   "id": "16b2fabc-2c3f-47c5-99ab-6954ba389eb3",
   "metadata": {
    "tags": []
   },
   "outputs": [
    {
     "ename": "TypeError",
     "evalue": "dummy() missing 1 required positional argument: 'y'",
     "output_type": "error",
     "traceback": [
      "\u001b[0;31m---------------------------------------------------------------------------\u001b[0m",
      "\u001b[0;31mTypeError\u001b[0m                                 Traceback (most recent call last)",
      "Cell \u001b[0;32mIn[127], line 1\u001b[0m\n\u001b[0;32m----> 1\u001b[0m dummy(\u001b[38;5;241m1\u001b[39m)\n",
      "\u001b[0;31mTypeError\u001b[0m: dummy() missing 1 required positional argument: 'y'"
     ]
    }
   ],
   "source": [
    "dummy(1) "
   ]
  },
  {
   "cell_type": "code",
   "execution_count": 128,
   "id": "efc61cd1-8fc9-4aea-911a-c9377ccd51ed",
   "metadata": {
    "tags": []
   },
   "outputs": [
    {
     "data": {
      "text/plain": [
       "(1, 2, ())"
      ]
     },
     "execution_count": 128,
     "metadata": {},
     "output_type": "execute_result"
    }
   ],
   "source": [
    "dummy(1,2)"
   ]
  },
  {
   "cell_type": "markdown",
   "id": "f826e554-6be3-4f69-8a3d-d54880a55c88",
   "metadata": {},
   "source": [
    "> 원칙6: 위치인자는 생략불가능 하지만, 가변위치인자는(`*args`)는 생략가능하다. "
   ]
  },
  {
   "cell_type": "markdown",
   "id": "dca2041e-4be0-45dd-9bf9-a14b45d09461",
   "metadata": {},
   "source": [
    "`-` 아래는 위치인자, 가변위치인자, 키워드인자를 사용한 예시이다. "
   ]
  },
  {
   "cell_type": "code",
   "execution_count": 129,
   "id": "a5fbe380-b218-4e3a-acbe-26ada659a8b5",
   "metadata": {
    "tags": []
   },
   "outputs": [],
   "source": [
    "def mysum(x,y,*args,verbose=False):\n",
    "    if verbose:\n",
    "        text = \"+\".join(map(str,args))\n",
    "        print(f\"{x}+{y}+{text}={x+y+sum(args)}\")\n",
    "    return x+y+sum(args)"
   ]
  },
  {
   "cell_type": "code",
   "execution_count": 130,
   "id": "60163496-3be4-4f0d-93ff-93678cd12d06",
   "metadata": {
    "tags": []
   },
   "outputs": [
    {
     "data": {
      "text/plain": [
       "15"
      ]
     },
     "execution_count": 130,
     "metadata": {},
     "output_type": "execute_result"
    }
   ],
   "source": [
    "mysum(1,2,3,4,5)"
   ]
  },
  {
   "cell_type": "code",
   "execution_count": 131,
   "id": "6d3a55a6-e41c-4971-8bef-556e0898d6e6",
   "metadata": {
    "tags": []
   },
   "outputs": [
    {
     "name": "stdout",
     "output_type": "stream",
     "text": [
      "1+2+3+4+5=15\n"
     ]
    },
    {
     "data": {
      "text/plain": [
       "15"
      ]
     },
     "execution_count": 131,
     "metadata": {},
     "output_type": "execute_result"
    }
   ],
   "source": [
    "mysum(1,2,3,4,5,verbose=True)"
   ]
  },
  {
   "cell_type": "markdown",
   "id": "e5a8bdf9-209d-4d64-8153-ff212ee2fe89",
   "metadata": {},
   "source": [
    "`-` 이제 아래의 코드를 관찰해보자. "
   ]
  },
  {
   "cell_type": "code",
   "execution_count": 132,
   "id": "b28bf063-2b10-426d-bcfc-a5e314976b9e",
   "metadata": {
    "tags": []
   },
   "outputs": [
    {
     "data": {
      "text/plain": [
       "16"
      ]
     },
     "execution_count": 132,
     "metadata": {},
     "output_type": "execute_result"
    }
   ],
   "source": [
    "mysum(1,2,3,4,5,True)"
   ]
  },
  {
   "cell_type": "markdown",
   "id": "ee0a2987-0ea0-4d89-8067-7266c96953d0",
   "metadata": {},
   "source": [
    "컴퓨터 입장에서는 마지막의 True를 `verbose`에 해당하는 입력값이라 이해 못할 것이다. 따라서 이 상황에서 `verbose`를 사용하려면 키워드인자로 밖에 쓸 수 없다. "
   ]
  },
  {
   "cell_type": "markdown",
   "id": "74a1aee3-d080-46d5-95e0-af8049c090ee",
   "metadata": {},
   "source": [
    "> 원칙7: 함수를 정의할 때 `*args` 와 키워드인자가 동시에 정의되었다면, 함수를 사용할 때 키워드인자를 쓰려면 반드시 키워드인자로만 써야한다!"
   ]
  },
  {
   "cell_type": "markdown",
   "id": "17edcb75-ef8c-4520-9a69-d4e222a027d1",
   "metadata": {},
   "source": [
    "`#`"
   ]
  },
  {
   "cell_type": "markdown",
   "id": "67a32061-ac04-40b1-9105-4e8ccca279d5",
   "metadata": {},
   "source": [
    "`# 예제5` -- 길이가 변하는 키워드인자, `**kwargs`"
   ]
  },
  {
   "cell_type": "code",
   "execution_count": 153,
   "id": "72e44b0b-affe-47df-b179-25c4477eb9ec",
   "metadata": {
    "tags": []
   },
   "outputs": [],
   "source": [
    "def dummy(**kwargs):\n",
    "    return kwargs"
   ]
  },
  {
   "cell_type": "markdown",
   "id": "13e58a1e-718f-4f02-8ed9-545b58ec91c6",
   "metadata": {},
   "source": [
    "> 원칙8: 가변키워드인자를 입력으로 받는 함수를 정의할때는 `**kwargs`를 사용하면 된다. 함수내에서 `*kwargs`를 다룰때는 `**`를 제외하고 딕셔너리로 취급하면된다. "
   ]
  },
  {
   "cell_type": "code",
   "execution_count": 155,
   "id": "e7514ded-65c8-454a-9d69-1b4462c9b114",
   "metadata": {
    "tags": []
   },
   "outputs": [
    {
     "data": {
      "text/plain": [
       "{'x': 1, 'y': 2, 'z': 3}"
      ]
     },
     "execution_count": 155,
     "metadata": {},
     "output_type": "execute_result"
    }
   ],
   "source": [
    "dummy(x=1,y=2,z=3)"
   ]
  },
  {
   "cell_type": "markdown",
   "id": "163a9e68-8e26-448f-955f-6720ce3d9109",
   "metadata": {},
   "source": [
    "`#`"
   ]
  },
  {
   "cell_type": "markdown",
   "id": "fd191b1c-8945-4c74-baf5-440cc0e205e8",
   "metadata": {},
   "source": [
    "`# 예제6` -- 피자주문 ($\\star\\star$)"
   ]
  },
  {
   "cell_type": "markdown",
   "id": "d1760f87-b4b2-4b9f-84f3-abe261e82799",
   "metadata": {},
   "source": [
    "--예비학습--"
   ]
  },
  {
   "cell_type": "code",
   "execution_count": 209,
   "id": "52514c5c-4fc3-4e42-9f5c-c8af6dac72e5",
   "metadata": {
    "tags": []
   },
   "outputs": [
    {
     "data": {
      "text/plain": [
       "False"
      ]
     },
     "execution_count": 209,
     "metadata": {},
     "output_type": "execute_result"
    }
   ],
   "source": [
    "toppings = () \n",
    "bool(toppings)"
   ]
  },
  {
   "cell_type": "code",
   "execution_count": 210,
   "id": "fd6a82fb-5845-4059-92aa-d09e60c3182e",
   "metadata": {
    "tags": []
   },
   "outputs": [
    {
     "data": {
      "text/plain": [
       "True"
      ]
     },
     "execution_count": 210,
     "metadata": {},
     "output_type": "execute_result"
    }
   ],
   "source": [
    "toppings = (1,2,3)\n",
    "bool(toppings)"
   ]
  },
  {
   "cell_type": "code",
   "execution_count": 211,
   "id": "85c29ec8-4cb5-449e-9dbc-1c98b6280a2a",
   "metadata": {
    "tags": []
   },
   "outputs": [
    {
     "data": {
      "text/plain": [
       "False"
      ]
     },
     "execution_count": 211,
     "metadata": {},
     "output_type": "execute_result"
    }
   ],
   "source": [
    "extra_order = {}\n",
    "bool(extra_order)"
   ]
  },
  {
   "cell_type": "code",
   "execution_count": 212,
   "id": "ccc8d98a-f279-4f19-b0ba-480a7a3340f2",
   "metadata": {
    "tags": []
   },
   "outputs": [
    {
     "data": {
      "text/plain": [
       "True"
      ]
     },
     "execution_count": 212,
     "metadata": {},
     "output_type": "execute_result"
    }
   ],
   "source": [
    "extra_order = {'a':[1,2,3],'b':[2,3,4]}\n",
    "bool(extra_order)"
   ]
  },
  {
   "cell_type": "markdown",
   "id": "68ea3343-765a-463e-abbf-974051931604",
   "metadata": {},
   "source": [
    "--예비학습끝--"
   ]
  },
  {
   "cell_type": "code",
   "execution_count": 156,
   "id": "284abcaf-0ff4-4d86-92d2-ba3ffcdae5fb",
   "metadata": {
    "tags": []
   },
   "outputs": [],
   "source": [
    "def order_pizza(pizza, *toppings, size=\"medium\", **extra_orders):\n",
    "    print(f\"[{pizza}피자 {size}사이즈]\")\n",
    "    \n",
    "    if toppings:\n",
    "        print(\"toppings:\")\n",
    "        for topping in toppings:\n",
    "            print(f\"  - {topping}\")\n",
    "    \n",
    "    if extra_orders:\n",
    "        print(\"extra_orders:\")\n",
    "        for option, value in extra_orders.items():\n",
    "            print(f\"  - {option}: {value}\")"
   ]
  },
  {
   "cell_type": "code",
   "execution_count": 157,
   "id": "0c9850c5-4753-4c3f-8cbb-0b4b2ddcfcc8",
   "metadata": {
    "tags": []
   },
   "outputs": [
    {
     "name": "stdout",
     "output_type": "stream",
     "text": [
      "[페퍼로니피자 medium사이즈]\n"
     ]
    }
   ],
   "source": [
    "order_pizza(\"페퍼로니\")"
   ]
  },
  {
   "cell_type": "code",
   "execution_count": 158,
   "id": "d8f8646d-43a8-4020-a36f-ba308ba032bf",
   "metadata": {
    "tags": []
   },
   "outputs": [
    {
     "name": "stdout",
     "output_type": "stream",
     "text": [
      "[페퍼로니피자 large사이즈]\n"
     ]
    }
   ],
   "source": [
    "order_pizza(\"페퍼로니\",size=\"large\")"
   ]
  },
  {
   "cell_type": "code",
   "execution_count": 159,
   "id": "e89bceb3-1fba-40d0-84fb-25957bccae6c",
   "metadata": {
    "tags": []
   },
   "outputs": [
    {
     "name": "stdout",
     "output_type": "stream",
     "text": [
      "[페퍼로니피자 medium사이즈]\n",
      "toppings:\n",
      "  - 베이컨\n",
      "  - 할라피뇨\n"
     ]
    }
   ],
   "source": [
    "order_pizza(\"페퍼로니\",\"베이컨\",\"할라피뇨\")"
   ]
  },
  {
   "cell_type": "code",
   "execution_count": 160,
   "id": "293862ad-113e-4500-b7a3-6882f7a0365f",
   "metadata": {
    "tags": []
   },
   "outputs": [
    {
     "name": "stdout",
     "output_type": "stream",
     "text": [
      "[페퍼로니피자 large사이즈]\n",
      "toppings:\n",
      "  - 베이컨\n",
      "  - 할라피뇨\n"
     ]
    }
   ],
   "source": [
    "order_pizza(\"페퍼로니\",\"베이컨\",\"할라피뇨\",size=\"large\")"
   ]
  },
  {
   "cell_type": "code",
   "execution_count": 161,
   "id": "62e0e889-3ce9-4fb8-b87a-eaab9dec58d3",
   "metadata": {
    "tags": []
   },
   "outputs": [
    {
     "name": "stdout",
     "output_type": "stream",
     "text": [
      "[페퍼로니피자 large사이즈]\n",
      "toppings:\n",
      "  - 베이컨\n",
      "  - 할라피뇨\n",
      "extra_orders:\n",
      "  - 스파게티: 1\n",
      "  - 스프라이트: 2\n"
     ]
    }
   ],
   "source": [
    "order_pizza(\"페퍼로니\",\"베이컨\",\"할라피뇨\",size=\"large\",스파게티=1,스프라이트=2)"
   ]
  },
  {
   "cell_type": "markdown",
   "id": "b354a770-cd42-485e-b7fb-4f6d312f7260",
   "metadata": {},
   "source": [
    "`#`"
   ]
  },
  {
   "cell_type": "markdown",
   "id": "d2b537f0-b898-4f28-a96d-4efd3bc6b932",
   "metadata": {},
   "source": [
    "`# 예제7` -- `/`"
   ]
  },
  {
   "cell_type": "code",
   "execution_count": 164,
   "id": "5ceb56fd-1026-48f4-895d-658861317b42",
   "metadata": {
    "tags": []
   },
   "outputs": [],
   "source": [
    "def dummy(x,y,/,z):\n",
    "    return x,y,z"
   ]
  },
  {
   "cell_type": "code",
   "execution_count": 165,
   "id": "b7e3aef5-83d7-4c11-9054-a2be728a900c",
   "metadata": {
    "tags": []
   },
   "outputs": [
    {
     "data": {
      "text/plain": [
       "(1, 2, 3)"
      ]
     },
     "execution_count": 165,
     "metadata": {},
     "output_type": "execute_result"
    }
   ],
   "source": [
    "dummy(1,2,3)"
   ]
  },
  {
   "cell_type": "code",
   "execution_count": 167,
   "id": "077ebd93-31c4-4fcb-bd7b-f4f409474f03",
   "metadata": {
    "tags": []
   },
   "outputs": [
    {
     "ename": "TypeError",
     "evalue": "dummy() got some positional-only arguments passed as keyword arguments: 'x, y'",
     "output_type": "error",
     "traceback": [
      "\u001b[0;31m---------------------------------------------------------------------------\u001b[0m",
      "\u001b[0;31mTypeError\u001b[0m                                 Traceback (most recent call last)",
      "Cell \u001b[0;32mIn[167], line 1\u001b[0m\n\u001b[0;32m----> 1\u001b[0m dummy(x\u001b[38;5;241m=\u001b[39m\u001b[38;5;241m1\u001b[39m,y\u001b[38;5;241m=\u001b[39m\u001b[38;5;241m2\u001b[39m,z\u001b[38;5;241m=\u001b[39m\u001b[38;5;241m3\u001b[39m)\n",
      "\u001b[0;31mTypeError\u001b[0m: dummy() got some positional-only arguments passed as keyword arguments: 'x, y'"
     ]
    }
   ],
   "source": [
    "dummy(x=1,y=2,z=3) "
   ]
  },
  {
   "cell_type": "markdown",
   "id": "122fbde2-2f72-4621-bd42-695c496f4ac5",
   "metadata": {},
   "source": [
    "> 원칙9: `/` 의 앞의 변수는 전용위치인자가 된다. 즉 사용시 위치인자로만 사용가능하다. "
   ]
  },
  {
   "cell_type": "markdown",
   "id": "b8cff1e7-fcb9-4d90-b27a-8af17d394f3c",
   "metadata": {},
   "source": [
    "`#`"
   ]
  },
  {
   "cell_type": "markdown",
   "id": "b4bcfad4-50c2-403a-a5a0-d56c077fda5b",
   "metadata": {},
   "source": [
    "`# 예제8` -- `*`"
   ]
  },
  {
   "cell_type": "code",
   "execution_count": 176,
   "id": "6de6dbd6-0dfb-4892-9859-23b88c502b5c",
   "metadata": {
    "tags": []
   },
   "outputs": [],
   "source": [
    "def dummy(a,b,/,c,d,*,f=1,g=1):\n",
    "    return a,b,c,d,f,g"
   ]
  },
  {
   "cell_type": "code",
   "execution_count": 186,
   "id": "51a04c5c-3801-49a0-aa2a-710784eae24e",
   "metadata": {
    "tags": []
   },
   "outputs": [
    {
     "ename": "TypeError",
     "evalue": "dummy() got some positional-only arguments passed as keyword arguments: 'a, b'",
     "output_type": "error",
     "traceback": [
      "\u001b[0;31m---------------------------------------------------------------------------\u001b[0m",
      "\u001b[0;31mTypeError\u001b[0m                                 Traceback (most recent call last)",
      "Cell \u001b[0;32mIn[186], line 1\u001b[0m\n\u001b[0;32m----> 1\u001b[0m dummy(a\u001b[38;5;241m=\u001b[39m\u001b[38;5;241m1\u001b[39m,b\u001b[38;5;241m=\u001b[39m\u001b[38;5;241m1\u001b[39m,c\u001b[38;5;241m=\u001b[39m\u001b[38;5;241m1\u001b[39m,d\u001b[38;5;241m=\u001b[39m\u001b[38;5;241m1\u001b[39m,f\u001b[38;5;241m=\u001b[39m\u001b[38;5;241m1\u001b[39m,g\u001b[38;5;241m=\u001b[39m\u001b[38;5;241m1\u001b[39m)\n",
      "\u001b[0;31mTypeError\u001b[0m: dummy() got some positional-only arguments passed as keyword arguments: 'a, b'"
     ]
    }
   ],
   "source": [
    "dummy(a=1,b=1,c=1,d=1,f=1,g=1) # a,b는 위치인자만 가능 "
   ]
  },
  {
   "cell_type": "code",
   "execution_count": 190,
   "id": "65fefad7-f623-437d-820d-a75d42353e32",
   "metadata": {
    "tags": []
   },
   "outputs": [
    {
     "ename": "TypeError",
     "evalue": "dummy() takes 4 positional arguments but 6 were given",
     "output_type": "error",
     "traceback": [
      "\u001b[0;31m---------------------------------------------------------------------------\u001b[0m",
      "\u001b[0;31mTypeError\u001b[0m                                 Traceback (most recent call last)",
      "Cell \u001b[0;32mIn[190], line 1\u001b[0m\n\u001b[0;32m----> 1\u001b[0m dummy(\u001b[38;5;241m1\u001b[39m,\u001b[38;5;241m2\u001b[39m,\u001b[38;5;241m3\u001b[39m,\u001b[38;5;241m4\u001b[39m,\u001b[38;5;241m-\u001b[39m\u001b[38;5;241m1\u001b[39m,\u001b[38;5;241m-\u001b[39m\u001b[38;5;241m1\u001b[39m)\n",
      "\u001b[0;31mTypeError\u001b[0m: dummy() takes 4 positional arguments but 6 were given"
     ]
    }
   ],
   "source": [
    "dummy(1,2,3,4,-1,-1) # f,g 는 키워드인자만 가능"
   ]
  },
  {
   "cell_type": "code",
   "execution_count": 194,
   "id": "05b39d77-bb51-4a98-8261-55c405ea05ef",
   "metadata": {
    "tags": []
   },
   "outputs": [
    {
     "data": {
      "text/plain": [
       "((1, 2, 3, 4, -1, -1), (1, 2, 3, 4, -1, -1))"
      ]
     },
     "execution_count": 194,
     "metadata": {},
     "output_type": "execute_result"
    }
   ],
   "source": [
    "dummy(1,2,3,4,f=-1,g=-1),dummy(1,2,c=3,d=4,f=-1,g=-1) \n",
    "# c,d는 위치인자 키워드인자 둘다가능 (정의는 위치로 되어있음)"
   ]
  },
  {
   "cell_type": "markdown",
   "id": "8b3ee060-d40b-4074-a5fe-224b9a31aa49",
   "metadata": {},
   "source": [
    "> 원칙9: `*` 의 뒤의 변수는 전용키워드인자가 된다. 즉 사용시 키워드인자로만 사용가능하다. "
   ]
  },
  {
   "cell_type": "code",
   "execution_count": 179,
   "id": "cac7527e-b90f-4d55-9323-efeaa2268e44",
   "metadata": {
    "tags": []
   },
   "outputs": [],
   "source": [
    "def dummy(a,b,/,c,d,*,f,g):\n",
    "    return a,b,c,d,f,g"
   ]
  },
  {
   "cell_type": "markdown",
   "id": "f3ad0010-3b5e-442f-b042-901d96d6073b",
   "metadata": {},
   "source": [
    "> 원칙10: `*` 를 사용하면 기본값이 없는 키워드인자를 정의할 수 있다. "
   ]
  },
  {
   "cell_type": "code",
   "execution_count": 181,
   "id": "0c781ec8-3f7d-4558-9fe1-e1140b1b5174",
   "metadata": {
    "tags": []
   },
   "outputs": [
    {
     "ename": "TypeError",
     "evalue": "dummy() takes 4 positional arguments but 6 were given",
     "output_type": "error",
     "traceback": [
      "\u001b[0;31m---------------------------------------------------------------------------\u001b[0m",
      "\u001b[0;31mTypeError\u001b[0m                                 Traceback (most recent call last)",
      "Cell \u001b[0;32mIn[181], line 1\u001b[0m\n\u001b[0;32m----> 1\u001b[0m dummy(\u001b[38;5;241m1\u001b[39m,\u001b[38;5;241m2\u001b[39m,\u001b[38;5;241m3\u001b[39m,\u001b[38;5;241m4\u001b[39m,\u001b[38;5;241m-\u001b[39m\u001b[38;5;241m1\u001b[39m,\u001b[38;5;241m-\u001b[39m\u001b[38;5;241m1\u001b[39m)\n",
      "\u001b[0;31mTypeError\u001b[0m: dummy() takes 4 positional arguments but 6 were given"
     ]
    }
   ],
   "source": [
    "dummy(1,2,3,4,-1,-1)"
   ]
  },
  {
   "cell_type": "code",
   "execution_count": 182,
   "id": "09fc83b2-0f1d-4a42-8e9a-298a7baef1c2",
   "metadata": {
    "tags": []
   },
   "outputs": [
    {
     "data": {
      "text/plain": [
       "(1, 2, 3, 4, -1, -1)"
      ]
     },
     "execution_count": 182,
     "metadata": {},
     "output_type": "execute_result"
    }
   ],
   "source": [
    "dummy(1,2,3,4,f=-1,g=-1)"
   ]
  },
  {
   "cell_type": "markdown",
   "id": "2e98959c-7b4c-4308-bacc-80b7286f1ef5",
   "metadata": {},
   "source": [
    "`#`"
   ]
  },
  {
   "cell_type": "markdown",
   "id": "3827ba05-4873-4576-ae62-38a3ff61bf66",
   "metadata": {},
   "source": [
    "`요약` -- 저의 머리..\n",
    "\n",
    "1. 함수의 도움말을 보고 키워드인자와 위치인자를 파악한다.\n",
    "2. 위치인자로 정의된건 위치인자로 쓰고 키워드인자로 정의된건 키워드인자로 쓴다. (다른생각 하지말자)\n",
    "3. **원칙4: 위치인자는 무조건 키워드인자 앞에 쓴다.** 를 기억하자. \n",
    "\n",
    "`#`"
   ]
  },
  {
   "cell_type": "markdown",
   "id": "5292fc37-2cb0-410f-bd8d-38afd7fa79bc",
   "metadata": {},
   "source": [
    "# 5. 타입힌트"
   ]
  },
  {
   "cell_type": "markdown",
   "id": "47fdb066-7ce2-41f5-ab7d-3a1b0b049c03",
   "metadata": {},
   "source": [
    "## A. 왜 배워야함?"
   ]
  },
  {
   "cell_type": "markdown",
   "id": "080620c4-2dcf-400f-9c73-d30aece7e4e8",
   "metadata": {},
   "source": [
    "`-` 이거 자체만 읽을줄 알아도 함수를 눈치껏 쓸 수 있다. \n",
    "\n",
    "```Python\n",
    "plt.hist(\n",
    "    x: 'ArrayLike | Sequence[ArrayLike]',\n",
    "    bins: 'int | Sequence[float] | str | None' = None,\n",
    "    range: 'tuple[float, float] | None' = None,\n",
    "    density: 'bool' = False,\n",
    "    weights: 'ArrayLike | None' = None,\n",
    "    cumulative: 'bool | float' = False,\n",
    "    bottom: 'ArrayLike | float | None' = None,\n",
    "    histtype: \"Literal['bar', 'barstacked', 'step', 'stepfilled']\" = 'bar',\n",
    "    align: \"Literal['left', 'mid', 'right']\" = 'mid',\n",
    "    orientation: \"Literal['vertical', 'horizontal']\" = 'vertical',\n",
    "    rwidth: 'float | None' = None,\n",
    "    log: 'bool' = False,\n",
    "    color: 'ColorType | Sequence[ColorType] | None' = None,\n",
    "    label: 'str | Sequence[str] | None' = None,\n",
    "    stacked: 'bool' = False,\n",
    "    *,\n",
    "    data=None,\n",
    "    **kwargs,\n",
    ") -> 'tuple[np.ndarray | list[np.ndarray], np.ndarray, BarContainer | Polygon | list[BarContainer | Polygon]]'\n",
    "```"
   ]
  },
  {
   "cell_type": "code",
   "execution_count": 18,
   "id": "27a56949-4cbb-4e5b-8ba2-8549c6c19c76",
   "metadata": {
    "tags": []
   },
   "outputs": [
    {
     "data": {
      "text/plain": [
       "(array([17., 35., 28., 20.]),\n",
       " array([-3., -1.,  0.,  1.,  3.]),\n",
       " <BarContainer object of 4 artists>)"
      ]
     },
     "execution_count": 18,
     "metadata": {},
     "output_type": "execute_result"
    },
    {
     "data": {
      "image/png": "[encoded data removed]",
      "text/plain": [
       "<Figure size 640x480 with 1 Axes>"
      ]
     },
     "metadata": {},
     "output_type": "display_data"
    }
   ],
   "source": [
    "plt.hist(\n",
    "    x = np.random.randn(100),\n",
    "    bins = (-3,-1,0,1,3), # 네모가 잘리는 위치\n",
    ")"
   ]
  },
  {
   "cell_type": "markdown",
   "id": "b1614805-dd12-4de2-9a4b-6fa336198414",
   "metadata": {},
   "source": [
    "## B. 사용히는 방법 "
   ]
  },
  {
   "cell_type": "code",
   "execution_count": 5,
   "id": "ec31340b-e4db-4cce-92c5-5cfe100c342d",
   "metadata": {
    "tags": []
   },
   "outputs": [],
   "source": [
    "def greet(name: str) -> str:\n",
    "    return f\"Hello, {name}!\""
   ]
  },
  {
   "cell_type": "code",
   "execution_count": 5,
   "id": "42678ea0-ed66-44d7-9214-9c9747e80eca",
   "metadata": {
    "tags": []
   },
   "outputs": [],
   "source": [
    "def add(a: int, b: int) -> int:\n",
    "    return a + b"
   ]
  },
  {
   "cell_type": "markdown",
   "id": "df712a41-ffc6-4211-ae52-a0e5035ee32e",
   "metadata": {},
   "source": [
    "## C. 읽는 방법 "
   ]
  },
  {
   "cell_type": "code",
   "execution_count": 4,
   "id": "4b77b489-aa41-4db8-b9b6-13606236fddd",
   "metadata": {
    "tags": []
   },
   "outputs": [],
   "source": [
    "from typing import List, Tuple, Dict, Optional, Union, Any, Callable"
   ]
  },
  {
   "cell_type": "markdown",
   "id": "65b10baf-95fa-4ed0-9b56-9633e9bdaf6d",
   "metadata": {
    "tags": []
   },
   "source": [
    "`# 예시1`  "
   ]
  },
  {
   "cell_type": "code",
   "execution_count": 264,
   "id": "675906cf-9e98-40d8-9fb9-92179c855bdc",
   "metadata": {
    "tags": []
   },
   "outputs": [],
   "source": [
    "def process_items(items: typing.List[str]) -> int:\n",
    "    return len(items)\n",
    "\n",
    "# 입력예시: [\"apple\", \"banana\", \"cherry\"]\n",
    "# 출력예시: 3 "
   ]
  },
  {
   "cell_type": "code",
   "execution_count": 234,
   "id": "ea1e5b10-2bc0-4b9c-be20-0ebbcc715ddc",
   "metadata": {
    "tags": []
   },
   "outputs": [
    {
     "data": {
      "text/plain": [
       "3"
      ]
     },
     "execution_count": 234,
     "metadata": {},
     "output_type": "execute_result"
    }
   ],
   "source": [
    "process_items(['apple', 'banana', 'cherry'])"
   ]
  },
  {
   "cell_type": "markdown",
   "id": "c1afe860-6bd4-4ff4-b86d-84351b9e3c2d",
   "metadata": {},
   "source": [
    "`#`"
   ]
  },
  {
   "cell_type": "markdown",
   "id": "5e3e3357-8fdd-4b53-ac1a-c1db4a166fe5",
   "metadata": {},
   "source": [
    "`# 예시2`"
   ]
  },
  {
   "cell_type": "code",
   "execution_count": 265,
   "id": "aa30712f-3613-432e-af1d-aced0dc97372",
   "metadata": {
    "tags": []
   },
   "outputs": [],
   "source": [
    "def get_coordinates() -> Tuple[float, float]:\n",
    "    return (45.0, 90.0)\n",
    "\n",
    "# 입력 형식 예시: None\n",
    "# 출력 형식 예시: (45.0, 90.0)"
   ]
  },
  {
   "cell_type": "code",
   "execution_count": 236,
   "id": "8b33478f-ca11-4702-ba9e-c1de0b4ad783",
   "metadata": {
    "tags": []
   },
   "outputs": [
    {
     "data": {
      "text/plain": [
       "(45.0, 90.0)"
      ]
     },
     "execution_count": 236,
     "metadata": {},
     "output_type": "execute_result"
    }
   ],
   "source": [
    "get_coordinates()"
   ]
  },
  {
   "cell_type": "markdown",
   "id": "1a10dde9-6269-4efb-b466-79fa1bcf0714",
   "metadata": {},
   "source": [
    "`#`"
   ]
  },
  {
   "cell_type": "markdown",
   "id": "f4e490a7-cc2b-4639-8590-a100bd12a8b5",
   "metadata": {},
   "source": [
    "`# 예시3`"
   ]
  },
  {
   "cell_type": "code",
   "execution_count": 266,
   "id": "d0fd4ec1-4b64-4914-a477-78072db701ab",
   "metadata": {
    "tags": []
   },
   "outputs": [],
   "source": [
    "def count_words(text: str) -> Dict[str, int]:\n",
    "    words = text.split()\n",
    "    return {word: words.count(word) for word in words}\n",
    "\n",
    "# 입력 형식 예시: \"apple banana apple cherry banana apple\"\n",
    "# 출력 형식 예시: {'apple': 3, 'banana': 2, 'cherry': 1}"
   ]
  },
  {
   "cell_type": "code",
   "execution_count": 267,
   "id": "713158db-f6e4-4a62-a880-0cbed3c3196d",
   "metadata": {
    "tags": []
   },
   "outputs": [
    {
     "data": {
      "text/plain": [
       "{'apple': 3, 'banana': 2, 'cherry': 1}"
      ]
     },
     "execution_count": 267,
     "metadata": {},
     "output_type": "execute_result"
    }
   ],
   "source": [
    "text = \"apple banana apple cherry banana apple\"\n",
    "count_words(text)"
   ]
  },
  {
   "cell_type": "markdown",
   "id": "5662e57d-b210-4565-acf1-fe724c3282ce",
   "metadata": {},
   "source": [
    "`#`"
   ]
  },
  {
   "cell_type": "markdown",
   "id": "81fada64-ce40-417e-9e9d-0885c91b48c6",
   "metadata": {},
   "source": [
    "`# 예시4`"
   ]
  },
  {
   "cell_type": "code",
   "execution_count": 276,
   "id": "9f669075-3239-46e8-9ecc-16d15860d102",
   "metadata": {
    "tags": []
   },
   "outputs": [],
   "source": [
    "def find_item(items: List[str], search: str) -> Optional[int]:\n",
    "    try:\n",
    "        return items.index(search)\n",
    "    except ValueError:\n",
    "        return None\n",
    "\n",
    "# 설명: 문자열 리스트에서 특정 문자열의 인덱스를 찾고, 찾지 못하면 `None`을 반환\n",
    "# 입력 형식 예시: \n",
    "# - item: ['apple', 'banana', 'cherry']\n",
    "# - search: 'banana'\n",
    "# 출력 형식 예시: 1 또는 None"
   ]
  },
  {
   "cell_type": "code",
   "execution_count": 277,
   "id": "08ffa1a8-3141-4a76-b18c-1862dee9071a",
   "metadata": {
    "tags": []
   },
   "outputs": [
    {
     "data": {
      "text/plain": [
       "1"
      ]
     },
     "execution_count": 277,
     "metadata": {},
     "output_type": "execute_result"
    }
   ],
   "source": [
    "find_item(['apple', 'banana', 'cherry'], 'banana')"
   ]
  },
  {
   "cell_type": "code",
   "execution_count": 278,
   "id": "591b2895-acfd-417e-9425-57342a450c59",
   "metadata": {
    "tags": []
   },
   "outputs": [],
   "source": [
    "find_item(['apple', 'banana', 'cherry'], 'orange')"
   ]
  },
  {
   "cell_type": "code",
   "execution_count": 279,
   "id": "c866eac2-67c9-469d-8112-1329eba402c0",
   "metadata": {
    "tags": []
   },
   "outputs": [
    {
     "name": "stdout",
     "output_type": "stream",
     "text": [
      "None\n"
     ]
    }
   ],
   "source": [
    "print(find_item(['apple', 'banana', 'cherry'], 'orange'))"
   ]
  },
  {
   "cell_type": "markdown",
   "id": "2f8b5f38-3726-475e-81be-1457b75e9118",
   "metadata": {},
   "source": [
    "`#`"
   ]
  },
  {
   "cell_type": "markdown",
   "id": "7e93684f-1360-405d-ac06-6502a34a4806",
   "metadata": {},
   "source": [
    "`# 예시5`"
   ]
  },
  {
   "cell_type": "code",
   "execution_count": 284,
   "id": "c15ee932-9479-4531-9b3f-d17125a66315",
   "metadata": {
    "tags": []
   },
   "outputs": [],
   "source": [
    "def process_value(value: Union[int, str]) -> str:\n",
    "    if isinstance(value, int):\n",
    "        return f\"Number: {value}\"\n",
    "    else:\n",
    "        return f\"String: {value}\"\n",
    "    \n",
    "# 입력 형식 예시: \n",
    "# - value: 10  <-- 이것도 가능하고 \n",
    "# - value: \"hello\"  <-- 이것도 가능하다\n",
    "# 출력 형식 예시: \"Number: 10\" 또는 \"String: hello\" (문자열) "
   ]
  },
  {
   "cell_type": "code",
   "execution_count": 282,
   "id": "58b9a261-b99a-42c9-9340-0ed78277e7fe",
   "metadata": {
    "tags": []
   },
   "outputs": [
    {
     "data": {
      "text/plain": [
       "'Number: 10'"
      ]
     },
     "execution_count": 282,
     "metadata": {},
     "output_type": "execute_result"
    }
   ],
   "source": [
    "process_value(10)"
   ]
  },
  {
   "cell_type": "code",
   "execution_count": 283,
   "id": "141f36cb-28c1-4896-a8ae-5cef543c3c25",
   "metadata": {
    "tags": []
   },
   "outputs": [
    {
     "data": {
      "text/plain": [
       "'String: hello'"
      ]
     },
     "execution_count": 283,
     "metadata": {},
     "output_type": "execute_result"
    }
   ],
   "source": [
    "process_value(\"hello\")"
   ]
  },
  {
   "cell_type": "markdown",
   "id": "afc80dab-fded-4405-a689-e101debfe506",
   "metadata": {},
   "source": [
    "`#`"
   ]
  },
  {
   "cell_type": "markdown",
   "id": "632f3dbe-6e51-4425-8071-d3a80fc27e76",
   "metadata": {},
   "source": [
    "`# 예시6`"
   ]
  },
  {
   "cell_type": "code",
   "execution_count": 285,
   "id": "2fa00f81-c3b6-4f82-8b04-4b5f9689a965",
   "metadata": {
    "tags": []
   },
   "outputs": [],
   "source": [
    "def print_value(value: Any) -> None:\n",
    "    print(value)\n",
    "    \n",
    "# 입력 형식 예시\n",
    "# - value: 아무거나\n",
    "# 출력 형식 예시\n",
    "# - None "
   ]
  },
  {
   "cell_type": "code",
   "execution_count": 246,
   "id": "2889163e-4969-4b7d-9dcd-140ba76a7491",
   "metadata": {
    "tags": []
   },
   "outputs": [
    {
     "name": "stdout",
     "output_type": "stream",
     "text": [
      "123\n"
     ]
    }
   ],
   "source": [
    "print_value(123)"
   ]
  },
  {
   "cell_type": "code",
   "execution_count": 247,
   "id": "3ffbe99f-92ab-4a2e-bdfb-407de61b8c17",
   "metadata": {
    "tags": []
   },
   "outputs": [
    {
     "name": "stdout",
     "output_type": "stream",
     "text": [
      "hello\n"
     ]
    }
   ],
   "source": [
    "print_value('hello')"
   ]
  },
  {
   "cell_type": "markdown",
   "id": "dba177f8-119a-4370-abdb-6286c647a5e2",
   "metadata": {},
   "source": [
    "`#`"
   ]
  },
  {
   "cell_type": "markdown",
   "id": "3d274437-573e-4345-aad4-f1e2b3c64661",
   "metadata": {},
   "source": [
    "`# 예시7`"
   ]
  },
  {
   "cell_type": "code",
   "execution_count": 288,
   "id": "8e9e7f5c-db05-4012-9b2a-ed070a203dcf",
   "metadata": {
    "tags": []
   },
   "outputs": [],
   "source": [
    "def apply_function(x: int, func: Callable[[int], float]) -> int:\n",
    "    return func(x)\n",
    "\n",
    "# 입력형식예시\n",
    "# - x: 1 \n",
    "# - func: np.sqrt,  <-- 이런건 가능. int를 입력으로 받아서, float형을 리턴하는 callable object\n",
    "# - func: lambda x: x**2,  <-- 이런건 권장X. int를 입력으로 받아서, int형을 리턴하니까..\n",
    "# 출력형식예시\n",
    "# - 1.7320508075688772"
   ]
  },
  {
   "cell_type": "code",
   "execution_count": 289,
   "id": "542e4b0f-2545-4398-8745-8faf99483e8a",
   "metadata": {
    "tags": []
   },
   "outputs": [
    {
     "data": {
      "text/plain": [
       "1.7320508075688772"
      ]
     },
     "execution_count": 289,
     "metadata": {},
     "output_type": "execute_result"
    }
   ],
   "source": [
    "apply_function(3,np.sqrt)"
   ]
  },
  {
   "cell_type": "markdown",
   "id": "ab94e87a-3e75-4c80-8469-996d8a7c96cd",
   "metadata": {},
   "source": [
    "`#`"
   ]
  },
  {
   "cell_type": "markdown",
   "id": "08cce973-33ef-4dd0-8e11-f4f53f79c3c1",
   "metadata": {},
   "source": [
    "# 6. 데코레이터"
   ]
  },
  {
   "cell_type": "markdown",
   "id": "c076638d-ecd0-4769-a54d-a19e10ae21bd",
   "metadata": {},
   "source": [
    "## A. 개념 "
   ]
  },
  {
   "cell_type": "markdown",
   "id": "c0c921b9-f68b-46d7-a466-6fb1fd432598",
   "metadata": {},
   "source": [
    "`-` 데코레이터 쓰는법 \n",
    "\n",
    "1. 함수입력,함수출력을 수행하는 함수를 만든다. \n",
    "2. 입력함수 위에 데코를 쓴다. 그러면 그 입력함수는 출력함수로 바뀐다. "
   ]
  },
  {
   "cell_type": "markdown",
   "id": "846fc268-2562-4a3d-9db0-68fb52edda90",
   "metadata": {
    "tags": []
   },
   "source": [
    "`-` 데코레이터 코드 템플릿1 -- 이걸 외우진 마세요 "
   ]
  },
  {
   "cell_type": "markdown",
   "id": "374d6c8e-41e0-4120-97d5-a4301057ad1b",
   "metadata": {},
   "source": [
    "**데코레이터 선언**"
   ]
  },
  {
   "cell_type": "markdown",
   "id": "e70d63a3-4069-4dd8-9105-d98ab2d16bb2",
   "metadata": {
    "tags": []
   },
   "source": [
    "```Python\n",
    "def decorator_name(func):\n",
    "    ...\n",
    "    return wrapper\n",
    "```"
   ]
  },
  {
   "cell_type": "markdown",
   "id": "2d19f103-5c04-4951-846f-55febc1e0be7",
   "metadata": {
    "tags": []
   },
   "source": [
    "```Python\n",
    "def 꾸밈함수이름(입력함수):\n",
    "    ... \n",
    "    return 출력함수\n",
    "```"
   ]
  },
  {
   "cell_type": "markdown",
   "id": "2301d0c7-5875-47ff-a9f4-19272d1d8773",
   "metadata": {},
   "source": [
    "**데코레이터 사용**"
   ]
  },
  {
   "cell_type": "markdown",
   "id": "607d99fd-a7ab-4a0c-94ab-8e5a04045210",
   "metadata": {
    "tags": []
   },
   "source": [
    "```Python\n",
    "@decorator_name\n",
    "def myfunc():\n",
    "    pass\n",
    "```"
   ]
  },
  {
   "cell_type": "markdown",
   "id": "5760f5ad-b5a4-4d09-b0fa-9d72f5fd73ac",
   "metadata": {
    "tags": []
   },
   "source": [
    "```Python\n",
    "@꾸밈함수이름\n",
    "def 꾸밈당하는함수():\n",
    "    pass \n",
    "```"
   ]
  },
  {
   "cell_type": "markdown",
   "id": "222358a9-2de7-44f1-939e-8f31a69cdab9",
   "metadata": {},
   "source": [
    "`# 예제1` -- 코드 템플릿1: 사용예시"
   ]
  },
  {
   "cell_type": "code",
   "execution_count": 337,
   "id": "398557af-5197-48b6-bd3b-1a1303a1aff3",
   "metadata": {
    "tags": []
   },
   "outputs": [],
   "source": [
    "# 데코레이터 선언\n",
    "def 무조건메롱을리턴(func):\n",
    "    wrapper = lambda x: \"메롱\"\n",
    "    return wrapper"
   ]
  },
  {
   "cell_type": "code",
   "execution_count": 338,
   "id": "1a016e83-008e-4fb9-b142-1553e0b69858",
   "metadata": {
    "tags": []
   },
   "outputs": [
    {
     "data": {
      "text/plain": [
       "[1, 4, 9, 16, 25]"
      ]
     },
     "execution_count": 338,
     "metadata": {},
     "output_type": "execute_result"
    }
   ],
   "source": [
    "def f(x):\n",
    "    return x**2\n",
    "list(map(f,[1,2,3,4,5]))"
   ]
  },
  {
   "cell_type": "code",
   "execution_count": 341,
   "id": "cef1a671-063f-4a0a-8d46-0a413e1ea5f4",
   "metadata": {
    "tags": []
   },
   "outputs": [
    {
     "data": {
      "text/plain": [
       "['메롱', '메롱', '메롱', '메롱', '메롱']"
      ]
     },
     "execution_count": 341,
     "metadata": {},
     "output_type": "execute_result"
    }
   ],
   "source": [
    "@무조건메롱을리턴\n",
    "def f(x):\n",
    "    return x**2\n",
    "list(map(f,[1,2,3,4,5]))"
   ]
  },
  {
   "cell_type": "markdown",
   "id": "3d27cc53-f379-4b2e-a31b-e6ab20737549",
   "metadata": {
    "tags": []
   },
   "source": [
    "`#`"
   ]
  },
  {
   "cell_type": "markdown",
   "id": "fc7ac324-be0c-49a0-b176-4ea28b1ecfe1",
   "metadata": {},
   "source": [
    "`# 예제2` -- 데코레이터와 같은코드"
   ]
  },
  {
   "cell_type": "markdown",
   "id": "0b44cf4b-d27b-4f09-9c54-e0c19caa117a",
   "metadata": {},
   "source": [
    "`-` 코드1"
   ]
  },
  {
   "cell_type": "code",
   "execution_count": 352,
   "id": "97530c40-9da0-4dc3-ab24-49d2119c4fe2",
   "metadata": {
    "tags": []
   },
   "outputs": [
    {
     "data": {
      "text/plain": [
       "['메롱', '메롱', '메롱', '메롱', '메롱']"
      ]
     },
     "execution_count": 352,
     "metadata": {},
     "output_type": "execute_result"
    }
   ],
   "source": [
    "def 무조건메롱을리턴(func):\n",
    "    wrapper = lambda x: \"메롱\"\n",
    "    return wrapper\n",
    "\n",
    "def f(x):\n",
    "    return x**2\n",
    "\n",
    "f = 무조건메롱을리턴(f)\n",
    "\n",
    "[f(x) for x in range(5)]"
   ]
  },
  {
   "cell_type": "markdown",
   "id": "c5a65a94-6777-4dea-90a9-53e6a6966c1d",
   "metadata": {},
   "source": [
    "`-` 코드2"
   ]
  },
  {
   "cell_type": "code",
   "execution_count": 351,
   "id": "f4393aa3-ad07-46e0-b433-4e1c67beea05",
   "metadata": {
    "tags": []
   },
   "outputs": [
    {
     "data": {
      "text/plain": [
       "['메롱', '메롱', '메롱', '메롱', '메롱']"
      ]
     },
     "execution_count": 351,
     "metadata": {},
     "output_type": "execute_result"
    }
   ],
   "source": [
    "def 무조건메롱을리턴(func):\n",
    "    wrapper = lambda x: \"메롱\"\n",
    "    return wrapper\n",
    "\n",
    "@무조건메롱을리턴\n",
    "def f(x):\n",
    "    return x**2\n",
    "\n",
    "[f(x) for x in range(5)]"
   ]
  },
  {
   "cell_type": "markdown",
   "id": "79e550ab-b06a-466b-8e23-e43f573b60b0",
   "metadata": {},
   "source": [
    "`-` 좀 더 확장하면.. \n",
    "\n",
    "```Python\n",
    "@dec2\n",
    "@dec1\n",
    "def func(arg1, arg2, ...):\n",
    "    pass\n",
    "```\n",
    "\n",
    "```Python\n",
    "def func(arg1, arg2, ...);\n",
    "    pass \n",
    "func = dec2(dec1(func))\n",
    "```"
   ]
  },
  {
   "cell_type": "markdown",
   "id": "dc64cfaa-44b6-4b80-a3d1-478f468d0f43",
   "metadata": {},
   "source": [
    "`-` 데코레이터 코드 템플릿2 -- 아래의 형태를 기억할것 "
   ]
  },
  {
   "cell_type": "markdown",
   "id": "1d464134-8b99-4150-8bb2-c5d3836eeafc",
   "metadata": {
    "tags": []
   },
   "source": [
    "```Python\n",
    "def decorator_name(func):\n",
    "    def wrapper(*args, **kwargs):\n",
    "        args = list(args)\n",
    "        kwargs = dict(kwargs)\n",
    "        func_result = func(*args, **kwargs)\n",
    "        return func_result\n",
    "    return wrapper\n",
    "```"
   ]
  },
  {
   "cell_type": "markdown",
   "id": "50ab2b47-3dbe-4083-b083-15af7065bee7",
   "metadata": {
    "tags": []
   },
   "source": [
    "```Python\n",
    "def 꾸밈함수이름(입력함수):\n",
    "    def 출력함수(*args, **kwargs):\n",
    "        args = list(args)\n",
    "        kwargs = dict(kwargs)\n",
    "        입력함수의출력 = 입력함수(*args, **kwargs)\n",
    "        return 입력함수의출력\n",
    "    return 출력함수\n",
    "```"
   ]
  },
  {
   "cell_type": "markdown",
   "id": "86be6591-a807-4bda-b01c-9a2b281cd08c",
   "metadata": {},
   "source": [
    "## B. 대표예시"
   ]
  },
  {
   "cell_type": "markdown",
   "id": "5737790a-59b2-4c7a-ae37-c82b70127e92",
   "metadata": {},
   "source": [
    "`# 예제1` -- 출력결과는 항상 리스트로"
   ]
  },
  {
   "cell_type": "code",
   "execution_count": 417,
   "id": "fcd33675-688e-4330-9b94-9e5d6162ef87",
   "metadata": {
    "tags": []
   },
   "outputs": [],
   "source": [
    "def 출력은리스트로(func):\n",
    "    def wrapper(*args,**kwargs):\n",
    "        func_result = func(*args,**kwargs)\n",
    "        return list(func_result)\n",
    "    return wrapper"
   ]
  },
  {
   "cell_type": "code",
   "execution_count": 423,
   "id": "af30f5c4-0013-4189-9194-be57a7066cf5",
   "metadata": {
    "tags": []
   },
   "outputs": [],
   "source": [
    "def 입력은넘파이로(func):\n",
    "    def wrapper(*args,**kwargs):\n",
    "        args = [np.array(l) for l in args]\n",
    "        kwargs = {k:np.array(v) for k,v in kwargs.items()}\n",
    "        func_result = func(*args,**kwargs)\n",
    "        return func_result\n",
    "    return wrapper"
   ]
  },
  {
   "cell_type": "code",
   "execution_count": 424,
   "id": "76adebdb-115a-44f7-a712-5ac0eb8cf3c8",
   "metadata": {
    "tags": []
   },
   "outputs": [],
   "source": [
    "@출력은리스트로\n",
    "@입력은넘파이로\n",
    "def add(a,b):\n",
    "    return a+b    "
   ]
  },
  {
   "cell_type": "code",
   "execution_count": 425,
   "id": "ac0f8255-3fb3-4683-8b96-da250f3d11b6",
   "metadata": {
    "tags": []
   },
   "outputs": [
    {
     "data": {
      "text/plain": [
       "[3, 5, 7]"
      ]
     },
     "execution_count": 425,
     "metadata": {},
     "output_type": "execute_result"
    }
   ],
   "source": [
    "add([1,2,3],[2,3,4])"
   ]
  },
  {
   "cell_type": "markdown",
   "id": "67f5cf43-487f-4731-830f-842e1a06d212",
   "metadata": {},
   "source": [
    "`#`"
   ]
  },
  {
   "cell_type": "markdown",
   "id": "922c8bad-658f-45d9-940b-5fc10c1c0f44",
   "metadata": {
    "tags": []
   },
   "source": [
    "`# 예시2` -- 실행시간측정 "
   ]
  },
  {
   "cell_type": "code",
   "execution_count": 426,
   "id": "19295ee1-b68d-46bb-82d9-860602d4687c",
   "metadata": {
    "tags": []
   },
   "outputs": [],
   "source": [
    "def 시간측정(func):\n",
    "    def wrapper(*args,**kwargs):\n",
    "        t1 = time.time()\n",
    "        func_result = func(*args,**kwargs)\n",
    "        t2 = time.time()\n",
    "        print(f\"실행시간: {t2-t1}\")\n",
    "        return func_result \n",
    "    return wrapper"
   ]
  },
  {
   "cell_type": "code",
   "execution_count": 427,
   "id": "96d29d5c-2c68-408c-b0ed-9344d5cb7e7e",
   "metadata": {
    "tags": []
   },
   "outputs": [],
   "source": [
    "@시간측정\n",
    "@출력은리스트로\n",
    "@입력은넘파이로\n",
    "def sub(a,b):\n",
    "    return a-b "
   ]
  },
  {
   "cell_type": "code",
   "execution_count": 428,
   "id": "237f469e-d5f9-4b26-973c-034f087d5795",
   "metadata": {
    "tags": []
   },
   "outputs": [
    {
     "name": "stdout",
     "output_type": "stream",
     "text": [
      "실행시간: 2.6464462280273438e-05\n"
     ]
    },
    {
     "data": {
      "text/plain": [
       "[0, 0, 0]"
      ]
     },
     "execution_count": 428,
     "metadata": {},
     "output_type": "execute_result"
    }
   ],
   "source": [
    "sub([1,2,3],[1,2,3])"
   ]
  },
  {
   "cell_type": "markdown",
   "id": "4af63933-4cfd-40df-90dc-debd0cb7adf0",
   "metadata": {},
   "source": [
    "`#` "
   ]
  },
  {
   "cell_type": "markdown",
   "id": "c81a912e-1033-4c95-a076-23c90acc32e7",
   "metadata": {},
   "source": [
    "`# 예시3` -- 출력결과 시각화 "
   ]
  },
  {
   "cell_type": "code",
   "execution_count": 443,
   "id": "b80ed7b9-0df8-4d0b-8754-b2dfa93057da",
   "metadata": {
    "tags": []
   },
   "outputs": [],
   "source": [
    "def 출력시각화(func):\n",
    "    def wrapper(*args,**kwargs):\n",
    "        func_result = func(*args,**kwargs)\n",
    "        plt.plot(func_result,'--o')\n",
    "        return func_result \n",
    "    return wrapper"
   ]
  },
  {
   "cell_type": "code",
   "execution_count": 444,
   "id": "991603c4-528d-4ea2-a555-e6a1f28e2be1",
   "metadata": {
    "tags": []
   },
   "outputs": [],
   "source": [
    "@출력시각화\n",
    "@입력은넘파이로\n",
    "def mul(a,b):\n",
    "    return a*b "
   ]
  },
  {
   "cell_type": "code",
   "execution_count": 445,
   "id": "9c1a8664-51dd-4bf9-8000-18dc84d95958",
   "metadata": {
    "tags": []
   },
   "outputs": [
    {
     "data": {
      "text/plain": [
       "array([ 2, -3,  4])"
      ]
     },
     "execution_count": 445,
     "metadata": {},
     "output_type": "execute_result"
    },
    {
     "data": {
      "image/png": "[encoded data removed]",
      "text/plain": [
       "<Figure size 640x480 with 1 Axes>"
      ]
     },
     "metadata": {},
     "output_type": "display_data"
    }
   ],
   "source": [
    "mul([1,-1,1],[2,3,4])"
   ]
  },
  {
   "cell_type": "markdown",
   "id": "294e8b35-52a9-4a75-aa1e-01f141e6d353",
   "metadata": {},
   "source": [
    "## C. 내장 데코레이터 "
   ]
  },
  {
   "cell_type": "markdown",
   "id": "af4b565b-1430-4b36-a3f8-4d7310b4242f",
   "metadata": {},
   "source": [
    "`-` 아래는 모두 내장데코레이터였음.. \n",
    "\n",
    "```Python\n",
    "@staticmethod\n",
    "@classmethod\n",
    "@staticmethod\n",
    "```"
   ]
  },
  {
   "cell_type": "markdown",
   "id": "34019019-5eed-4001-91dc-a14bec56217a",
   "metadata": {},
   "source": [
    "# 7. 제너레이터"
   ]
  },
  {
   "cell_type": "markdown",
   "id": "827c7dde-5c3a-4890-8fc4-3769c6b6ad35",
   "metadata": {},
   "source": [
    "## A. 대표예제  "
   ]
  },
  {
   "cell_type": "markdown",
   "id": "23996395-6a38-4fc5-ae2b-0a72af9d524d",
   "metadata": {},
   "source": [
    "`# 예시1` -- `for`/`if` 마스터.."
   ]
  },
  {
   "cell_type": "code",
   "execution_count": 622,
   "id": "74d00181-2b3a-49f4-bff7-f69c22a8845f",
   "metadata": {
    "tags": []
   },
   "outputs": [
    {
     "data": {
      "text/html": [
       "<div>\n",
       "<style scoped>\n",
       "    .dataframe tbody tr th:only-of-type {\n",
       "        vertical-align: middle;\n",
       "    }\n",
       "\n",
       "    .dataframe tbody tr th {\n",
       "        vertical-align: top;\n",
       "    }\n",
       "\n",
       "    .dataframe thead th {\n",
       "        text-align: right;\n",
       "    }\n",
       "</style>\n",
       "<table border=\"1\" class=\"dataframe\">\n",
       "  <thead>\n",
       "    <tr style=\"text-align: right;\">\n",
       "      <th></th>\n",
       "      <th>att</th>\n",
       "      <th>rep</th>\n",
       "      <th>mid</th>\n",
       "      <th>fin</th>\n",
       "    </tr>\n",
       "  </thead>\n",
       "  <tbody>\n",
       "    <tr>\n",
       "      <th>0</th>\n",
       "      <td>80</td>\n",
       "      <td>55</td>\n",
       "      <td>65</td>\n",
       "      <td>95</td>\n",
       "    </tr>\n",
       "    <tr>\n",
       "      <th>1</th>\n",
       "      <td>100</td>\n",
       "      <td>80</td>\n",
       "      <td>15</td>\n",
       "      <td>25</td>\n",
       "    </tr>\n",
       "    <tr>\n",
       "      <th>2</th>\n",
       "      <td>90</td>\n",
       "      <td>55</td>\n",
       "      <td>5</td>\n",
       "      <td>95</td>\n",
       "    </tr>\n",
       "    <tr>\n",
       "      <th>3</th>\n",
       "      <td>100</td>\n",
       "      <td>95</td>\n",
       "      <td>55</td>\n",
       "      <td>85</td>\n",
       "    </tr>\n",
       "    <tr>\n",
       "      <th>4</th>\n",
       "      <td>50</td>\n",
       "      <td>35</td>\n",
       "      <td>90</td>\n",
       "      <td>100</td>\n",
       "    </tr>\n",
       "    <tr>\n",
       "      <th>5</th>\n",
       "      <td>100</td>\n",
       "      <td>75</td>\n",
       "      <td>80</td>\n",
       "      <td>10</td>\n",
       "    </tr>\n",
       "    <tr>\n",
       "      <th>6</th>\n",
       "      <td>80</td>\n",
       "      <td>100</td>\n",
       "      <td>50</td>\n",
       "      <td>15</td>\n",
       "    </tr>\n",
       "    <tr>\n",
       "      <th>7</th>\n",
       "      <td>80</td>\n",
       "      <td>80</td>\n",
       "      <td>25</td>\n",
       "      <td>40</td>\n",
       "    </tr>\n",
       "    <tr>\n",
       "      <th>8</th>\n",
       "      <td>55</td>\n",
       "      <td>90</td>\n",
       "      <td>90</td>\n",
       "      <td>50</td>\n",
       "    </tr>\n",
       "    <tr>\n",
       "      <th>9</th>\n",
       "      <td>70</td>\n",
       "      <td>90</td>\n",
       "      <td>100</td>\n",
       "      <td>70</td>\n",
       "    </tr>\n",
       "    <tr>\n",
       "      <th>10</th>\n",
       "      <td>95</td>\n",
       "      <td>65</td>\n",
       "      <td>65</td>\n",
       "      <td>75</td>\n",
       "    </tr>\n",
       "    <tr>\n",
       "      <th>11</th>\n",
       "      <td>75</td>\n",
       "      <td>30</td>\n",
       "      <td>85</td>\n",
       "      <td>90</td>\n",
       "    </tr>\n",
       "    <tr>\n",
       "      <th>12</th>\n",
       "      <td>50</td>\n",
       "      <td>80</td>\n",
       "      <td>60</td>\n",
       "      <td>0</td>\n",
       "    </tr>\n",
       "    <tr>\n",
       "      <th>13</th>\n",
       "      <td>70</td>\n",
       "      <td>70</td>\n",
       "      <td>20</td>\n",
       "      <td>65</td>\n",
       "    </tr>\n",
       "    <tr>\n",
       "      <th>14</th>\n",
       "      <td>90</td>\n",
       "      <td>45</td>\n",
       "      <td>70</td>\n",
       "      <td>60</td>\n",
       "    </tr>\n",
       "    <tr>\n",
       "      <th>15</th>\n",
       "      <td>90</td>\n",
       "      <td>70</td>\n",
       "      <td>60</td>\n",
       "      <td>35</td>\n",
       "    </tr>\n",
       "    <tr>\n",
       "      <th>16</th>\n",
       "      <td>85</td>\n",
       "      <td>85</td>\n",
       "      <td>45</td>\n",
       "      <td>60</td>\n",
       "    </tr>\n",
       "    <tr>\n",
       "      <th>17</th>\n",
       "      <td>100</td>\n",
       "      <td>80</td>\n",
       "      <td>50</td>\n",
       "      <td>10</td>\n",
       "    </tr>\n",
       "    <tr>\n",
       "      <th>18</th>\n",
       "      <td>100</td>\n",
       "      <td>95</td>\n",
       "      <td>95</td>\n",
       "      <td>55</td>\n",
       "    </tr>\n",
       "    <tr>\n",
       "      <th>19</th>\n",
       "      <td>55</td>\n",
       "      <td>65</td>\n",
       "      <td>0</td>\n",
       "      <td>5</td>\n",
       "    </tr>\n",
       "  </tbody>\n",
       "</table>\n",
       "</div>"
      ],
      "text/plain": [
       "    att  rep  mid  fin\n",
       "0    80   55   65   95\n",
       "1   100   80   15   25\n",
       "2    90   55    5   95\n",
       "3   100   95   55   85\n",
       "4    50   35   90  100\n",
       "5   100   75   80   10\n",
       "6    80  100   50   15\n",
       "7    80   80   25   40\n",
       "8    55   90   90   50\n",
       "9    70   90  100   70\n",
       "10   95   65   65   75\n",
       "11   75   30   85   90\n",
       "12   50   80   60    0\n",
       "13   70   70   20   65\n",
       "14   90   45   70   60\n",
       "15   90   70   60   35\n",
       "16   85   85   45   60\n",
       "17  100   80   50   10\n",
       "18  100   95   95   55\n",
       "19   55   65    0    5"
      ]
     },
     "execution_count": 622,
     "metadata": {},
     "output_type": "execute_result"
    }
   ],
   "source": [
    "att = np.random.choice(np.arange(10,21)*5,20); rep = np.random.choice(np.arange(5,21)*5,20); mid = np.random.choice(np.arange(0,21)*5,20); fin = np.random.choice(np.arange(0,21)*5,20)\n",
    "df = pd.DataFrame({'att':att,'rep':rep,'mid':mid,'fin':fin})\n",
    "df"
   ]
  },
  {
   "cell_type": "code",
   "execution_count": 356,
   "id": "2ed3a54d-cb55-417d-b158-a1cb1b052098",
   "metadata": {
    "tags": []
   },
   "outputs": [],
   "source": [
    "grades = [] \n",
    "for i in range(len(df)):\n",
    "    row = df.iloc[i]\n",
    "    att,rep,mid,fin = row \n",
    "    total = att*0.1 + rep*0.2 + mid *0.3 + fin*0.4\n",
    "    if total >= 70: \n",
    "        grade =  \"A+\"\n",
    "    elif 40 < total: \n",
    "        grade = \"B0\"\n",
    "    else: \n",
    "        grade = \"F\"\n",
    "    grades.append(grade)"
   ]
  },
  {
   "cell_type": "code",
   "execution_count": 357,
   "id": "23b997b9-c065-4bf1-b3e1-77e344e2852f",
   "metadata": {
    "tags": []
   },
   "outputs": [
    {
     "data": {
      "text/plain": [
       "['B0',\n",
       " 'A+',\n",
       " 'B0',\n",
       " 'F',\n",
       " 'B0',\n",
       " 'B0',\n",
       " 'B0',\n",
       " 'B0',\n",
       " 'B0',\n",
       " 'A+',\n",
       " 'A+',\n",
       " 'A+',\n",
       " 'B0',\n",
       " 'B0',\n",
       " 'B0',\n",
       " 'A+',\n",
       " 'B0',\n",
       " 'B0',\n",
       " 'B0',\n",
       " 'B0']"
      ]
     },
     "execution_count": 357,
     "metadata": {},
     "output_type": "execute_result"
    }
   ],
   "source": [
    "grades"
   ]
  },
  {
   "cell_type": "markdown",
   "id": "efaf1eef-bc37-40da-99fe-d581d42e40c8",
   "metadata": {},
   "source": [
    "`#`"
   ]
  },
  {
   "cell_type": "markdown",
   "id": "cc089d47-3b38-4bf6-96a8-99c44e1e38a9",
   "metadata": {
    "tags": []
   },
   "source": [
    "`# 예시2` -- 사실 머리속에는 파이프라인의 개념이 있지 않나? "
   ]
  },
  {
   "cell_type": "code",
   "execution_count": 369,
   "id": "c2064fbf-f1f0-4f37-93fe-9ee4c0b24df3",
   "metadata": {},
   "outputs": [
    {
     "data": {
      "text/plain": [
       "att    50\n",
       "rep    85\n",
       "mid    60\n",
       "fin     5\n",
       "Name: 0, dtype: int64"
      ]
     },
     "execution_count": 369,
     "metadata": {},
     "output_type": "execute_result"
    }
   ],
   "source": [
    "row = df.iloc[0]\n",
    "row"
   ]
  },
  {
   "cell_type": "code",
   "execution_count": 370,
   "id": "0c12936b-3f6e-4fd1-a3e5-2ab0d5201e2e",
   "metadata": {},
   "outputs": [],
   "source": [
    "def calculate_total(row):\n",
    "    att, rep, mid, fin = row \n",
    "    total = att*0.1 + rep*0.2 + mid*0.3 + fin*0.4 \n",
    "    return total"
   ]
  },
  {
   "cell_type": "code",
   "execution_count": 371,
   "id": "77411218-9eb2-4939-919a-8359b96f1f9b",
   "metadata": {},
   "outputs": [
    {
     "data": {
      "text/plain": [
       "42.0"
      ]
     },
     "execution_count": 371,
     "metadata": {},
     "output_type": "execute_result"
    }
   ],
   "source": [
    "total = calculate_total(row)\n",
    "total"
   ]
  },
  {
   "cell_type": "code",
   "execution_count": 372,
   "id": "d7d03b36-3791-414e-b618-5f35cbac5eaa",
   "metadata": {},
   "outputs": [],
   "source": [
    "def make_grade(total):\n",
    "    if total >= 70: \n",
    "        return \"A+\"\n",
    "    elif 40 < total: \n",
    "        return \"B0\"\n",
    "    else: \n",
    "        return \"F\"    "
   ]
  },
  {
   "cell_type": "code",
   "execution_count": 373,
   "id": "94b7db1e-ce56-481c-a78b-d71f253be35d",
   "metadata": {},
   "outputs": [
    {
     "data": {
      "text/plain": [
       "'B0'"
      ]
     },
     "execution_count": 373,
     "metadata": {},
     "output_type": "execute_result"
    }
   ],
   "source": [
    "make_grade(total)"
   ]
  },
  {
   "cell_type": "code",
   "execution_count": 375,
   "id": "de9ea23d-3cb5-4123-8f1a-9b6929c0658f",
   "metadata": {
    "tags": []
   },
   "outputs": [],
   "source": [
    "# 깔끔 그자체\n",
    "row = df.iloc[0]\n",
    "total = calculate_total(row)\n",
    "grade = make_grade(total) "
   ]
  },
  {
   "cell_type": "code",
   "execution_count": 377,
   "id": "2c0accf5-4da8-4f4a-8f31-ed27f3931d53",
   "metadata": {
    "tags": []
   },
   "outputs": [
    {
     "data": {
      "text/plain": [
       "['B0',\n",
       " 'A+',\n",
       " 'B0',\n",
       " 'F',\n",
       " 'B0',\n",
       " 'B0',\n",
       " 'B0',\n",
       " 'B0',\n",
       " 'B0',\n",
       " 'A+',\n",
       " 'A+',\n",
       " 'A+',\n",
       " 'B0',\n",
       " 'B0',\n",
       " 'B0',\n",
       " 'A+',\n",
       " 'B0',\n",
       " 'B0',\n",
       " 'B0',\n",
       " 'B0']"
      ]
     },
     "execution_count": 377,
     "metadata": {},
     "output_type": "execute_result"
    }
   ],
   "source": [
    "# 그렇지만 for문과 결합하면 더러워짐 \n",
    "n = len(df)\n",
    "grades = []\n",
    "for i in range(n):\n",
    "    row = df.iloc[i]\n",
    "    total = calculate_total(row)\n",
    "    grade = make_grade(total)\n",
    "    grades.append(grade) \n",
    "grades"
   ]
  },
  {
   "cell_type": "markdown",
   "id": "77346028-0fa8-4819-8ab5-1a4c67994b76",
   "metadata": {
    "tags": []
   },
   "source": [
    "`# 예시3` -- 제너레이터의 개발 "
   ]
  },
  {
   "cell_type": "markdown",
   "id": "fc397d5c-c5a7-49b6-999d-7612391fee9e",
   "metadata": {},
   "source": [
    "`-` row-wise 하게 쪼갠다. "
   ]
  },
  {
   "cell_type": "code",
   "execution_count": 635,
   "id": "1bcf2aa5-687f-4642-b7fe-7ae22a2b1b06",
   "metadata": {
    "tags": []
   },
   "outputs": [],
   "source": [
    "def each_row(df):\n",
    "    n = len(df) \n",
    "    for i in range(n):\n",
    "        yield df.iloc[i]"
   ]
  },
  {
   "cell_type": "code",
   "execution_count": 636,
   "id": "158fb85b-e482-47c7-9957-03382ddf64d4",
   "metadata": {
    "tags": []
   },
   "outputs": [],
   "source": [
    "rows = each_row(df) "
   ]
  },
  {
   "cell_type": "markdown",
   "id": "0ef3ea03-ef7c-484a-bd3f-78fd7434acc0",
   "metadata": {},
   "source": [
    "`-` total을 계산한다. (row 별로)"
   ]
  },
  {
   "cell_type": "code",
   "execution_count": 637,
   "id": "a6e50c79-8eb1-4e36-9139-03e6957ca945",
   "metadata": {
    "tags": []
   },
   "outputs": [],
   "source": [
    "def calculate_total(rows):\n",
    "    for row in rows:\n",
    "        att, rep, mid, fin = row \n",
    "        total = att*0.1 + rep*0.2 + mid*0.3 + fin*0.4 \n",
    "        yield total"
   ]
  },
  {
   "cell_type": "code",
   "execution_count": 638,
   "id": "d6086170-cf90-4d6a-9ff8-2b44639ef039",
   "metadata": {
    "tags": []
   },
   "outputs": [],
   "source": [
    "totals = calculate_total(rows)"
   ]
  },
  {
   "cell_type": "markdown",
   "id": "73ec1d83-7b35-4a1f-a36d-83ecf5780d74",
   "metadata": {
    "tags": []
   },
   "source": [
    "`-` grade를 계산한다 (row별로)"
   ]
  },
  {
   "cell_type": "code",
   "execution_count": 639,
   "id": "312ade6b-0442-485f-9a3e-0359d72b1778",
   "metadata": {
    "tags": []
   },
   "outputs": [],
   "source": [
    "def make_grade(totals):\n",
    "    for total in totals:\n",
    "        if total >= 70: \n",
    "            yield \"A+\"\n",
    "        elif 40 < total: \n",
    "            yield \"B0\"\n",
    "        else: \n",
    "            yield \"F\""
   ]
  },
  {
   "cell_type": "code",
   "execution_count": 640,
   "id": "bffd6ed8-168d-4ce5-a30f-f4598fbf9274",
   "metadata": {
    "tags": []
   },
   "outputs": [],
   "source": [
    "grades = make_grade(totals)"
   ]
  },
  {
   "cell_type": "markdown",
   "id": "0733e34c-8131-4ffe-9e32-36c16a3f9dfc",
   "metadata": {
    "tags": []
   },
   "source": [
    "`-` 합친다.. (형태변환)"
   ]
  },
  {
   "cell_type": "code",
   "execution_count": 641,
   "id": "baf12705-a038-4f40-bb0e-456ff2cc556d",
   "metadata": {
    "tags": []
   },
   "outputs": [
    {
     "data": {
      "text/plain": [
       "['A+',\n",
       " 'B0',\n",
       " 'B0',\n",
       " 'A+',\n",
       " 'A+',\n",
       " 'B0',\n",
       " 'B0',\n",
       " 'B0',\n",
       " 'A+',\n",
       " 'A+',\n",
       " 'A+',\n",
       " 'A+',\n",
       " 'F',\n",
       " 'B0',\n",
       " 'B0',\n",
       " 'B0',\n",
       " 'B0',\n",
       " 'B0',\n",
       " 'A+',\n",
       " 'F']"
      ]
     },
     "execution_count": 641,
     "metadata": {},
     "output_type": "execute_result"
    }
   ],
   "source": [
    "list(grades)"
   ]
  },
  {
   "cell_type": "markdown",
   "id": "bdd85c85-ab28-44af-8486-643d5579306c",
   "metadata": {},
   "source": [
    "`-` 최종코드 "
   ]
  },
  {
   "cell_type": "code",
   "execution_count": 644,
   "id": "2143183a-ad12-412a-8226-032f4016d134",
   "metadata": {
    "tags": []
   },
   "outputs": [
    {
     "data": {
      "text/html": [
       "<div>\n",
       "<style scoped>\n",
       "    .dataframe tbody tr th:only-of-type {\n",
       "        vertical-align: middle;\n",
       "    }\n",
       "\n",
       "    .dataframe tbody tr th {\n",
       "        vertical-align: top;\n",
       "    }\n",
       "\n",
       "    .dataframe thead th {\n",
       "        text-align: right;\n",
       "    }\n",
       "</style>\n",
       "<table border=\"1\" class=\"dataframe\">\n",
       "  <thead>\n",
       "    <tr style=\"text-align: right;\">\n",
       "      <th></th>\n",
       "      <th>att</th>\n",
       "      <th>rep</th>\n",
       "      <th>mid</th>\n",
       "      <th>fin</th>\n",
       "      <th>grade</th>\n",
       "    </tr>\n",
       "  </thead>\n",
       "  <tbody>\n",
       "    <tr>\n",
       "      <th>0</th>\n",
       "      <td>80</td>\n",
       "      <td>55</td>\n",
       "      <td>65</td>\n",
       "      <td>95</td>\n",
       "      <td>A+</td>\n",
       "    </tr>\n",
       "    <tr>\n",
       "      <th>1</th>\n",
       "      <td>100</td>\n",
       "      <td>80</td>\n",
       "      <td>15</td>\n",
       "      <td>25</td>\n",
       "      <td>B0</td>\n",
       "    </tr>\n",
       "    <tr>\n",
       "      <th>2</th>\n",
       "      <td>90</td>\n",
       "      <td>55</td>\n",
       "      <td>5</td>\n",
       "      <td>95</td>\n",
       "      <td>B0</td>\n",
       "    </tr>\n",
       "    <tr>\n",
       "      <th>3</th>\n",
       "      <td>100</td>\n",
       "      <td>95</td>\n",
       "      <td>55</td>\n",
       "      <td>85</td>\n",
       "      <td>A+</td>\n",
       "    </tr>\n",
       "    <tr>\n",
       "      <th>4</th>\n",
       "      <td>50</td>\n",
       "      <td>35</td>\n",
       "      <td>90</td>\n",
       "      <td>100</td>\n",
       "      <td>A+</td>\n",
       "    </tr>\n",
       "    <tr>\n",
       "      <th>5</th>\n",
       "      <td>100</td>\n",
       "      <td>75</td>\n",
       "      <td>80</td>\n",
       "      <td>10</td>\n",
       "      <td>B0</td>\n",
       "    </tr>\n",
       "    <tr>\n",
       "      <th>6</th>\n",
       "      <td>80</td>\n",
       "      <td>100</td>\n",
       "      <td>50</td>\n",
       "      <td>15</td>\n",
       "      <td>B0</td>\n",
       "    </tr>\n",
       "    <tr>\n",
       "      <th>7</th>\n",
       "      <td>80</td>\n",
       "      <td>80</td>\n",
       "      <td>25</td>\n",
       "      <td>40</td>\n",
       "      <td>B0</td>\n",
       "    </tr>\n",
       "    <tr>\n",
       "      <th>8</th>\n",
       "      <td>55</td>\n",
       "      <td>90</td>\n",
       "      <td>90</td>\n",
       "      <td>50</td>\n",
       "      <td>A+</td>\n",
       "    </tr>\n",
       "    <tr>\n",
       "      <th>9</th>\n",
       "      <td>70</td>\n",
       "      <td>90</td>\n",
       "      <td>100</td>\n",
       "      <td>70</td>\n",
       "      <td>A+</td>\n",
       "    </tr>\n",
       "    <tr>\n",
       "      <th>10</th>\n",
       "      <td>95</td>\n",
       "      <td>65</td>\n",
       "      <td>65</td>\n",
       "      <td>75</td>\n",
       "      <td>A+</td>\n",
       "    </tr>\n",
       "    <tr>\n",
       "      <th>11</th>\n",
       "      <td>75</td>\n",
       "      <td>30</td>\n",
       "      <td>85</td>\n",
       "      <td>90</td>\n",
       "      <td>A+</td>\n",
       "    </tr>\n",
       "    <tr>\n",
       "      <th>12</th>\n",
       "      <td>50</td>\n",
       "      <td>80</td>\n",
       "      <td>60</td>\n",
       "      <td>0</td>\n",
       "      <td>F</td>\n",
       "    </tr>\n",
       "    <tr>\n",
       "      <th>13</th>\n",
       "      <td>70</td>\n",
       "      <td>70</td>\n",
       "      <td>20</td>\n",
       "      <td>65</td>\n",
       "      <td>B0</td>\n",
       "    </tr>\n",
       "    <tr>\n",
       "      <th>14</th>\n",
       "      <td>90</td>\n",
       "      <td>45</td>\n",
       "      <td>70</td>\n",
       "      <td>60</td>\n",
       "      <td>B0</td>\n",
       "    </tr>\n",
       "    <tr>\n",
       "      <th>15</th>\n",
       "      <td>90</td>\n",
       "      <td>70</td>\n",
       "      <td>60</td>\n",
       "      <td>35</td>\n",
       "      <td>B0</td>\n",
       "    </tr>\n",
       "    <tr>\n",
       "      <th>16</th>\n",
       "      <td>85</td>\n",
       "      <td>85</td>\n",
       "      <td>45</td>\n",
       "      <td>60</td>\n",
       "      <td>B0</td>\n",
       "    </tr>\n",
       "    <tr>\n",
       "      <th>17</th>\n",
       "      <td>100</td>\n",
       "      <td>80</td>\n",
       "      <td>50</td>\n",
       "      <td>10</td>\n",
       "      <td>B0</td>\n",
       "    </tr>\n",
       "    <tr>\n",
       "      <th>18</th>\n",
       "      <td>100</td>\n",
       "      <td>95</td>\n",
       "      <td>95</td>\n",
       "      <td>55</td>\n",
       "      <td>A+</td>\n",
       "    </tr>\n",
       "    <tr>\n",
       "      <th>19</th>\n",
       "      <td>55</td>\n",
       "      <td>65</td>\n",
       "      <td>0</td>\n",
       "      <td>5</td>\n",
       "      <td>F</td>\n",
       "    </tr>\n",
       "  </tbody>\n",
       "</table>\n",
       "</div>"
      ],
      "text/plain": [
       "    att  rep  mid  fin grade\n",
       "0    80   55   65   95    A+\n",
       "1   100   80   15   25    B0\n",
       "2    90   55    5   95    B0\n",
       "3   100   95   55   85    A+\n",
       "4    50   35   90  100    A+\n",
       "5   100   75   80   10    B0\n",
       "6    80  100   50   15    B0\n",
       "7    80   80   25   40    B0\n",
       "8    55   90   90   50    A+\n",
       "9    70   90  100   70    A+\n",
       "10   95   65   65   75    A+\n",
       "11   75   30   85   90    A+\n",
       "12   50   80   60    0     F\n",
       "13   70   70   20   65    B0\n",
       "14   90   45   70   60    B0\n",
       "15   90   70   60   35    B0\n",
       "16   85   85   45   60    B0\n",
       "17  100   80   50   10    B0\n",
       "18  100   95   95   55    A+\n",
       "19   55   65    0    5     F"
      ]
     },
     "execution_count": 644,
     "metadata": {},
     "output_type": "execute_result"
    }
   ],
   "source": [
    "rows = each_row(df) \n",
    "totals = calculate_total(rows)\n",
    "grades = make_grade(totals)\n",
    "df.assign(grade = list(grades))"
   ]
  },
  {
   "cell_type": "markdown",
   "id": "d15d157c-c468-4e5f-8344-91f1a0c63600",
   "metadata": {},
   "source": [
    "`#`"
   ]
  },
  {
   "cell_type": "markdown",
   "id": "025557e1-8ed0-40bc-b057-cf60260661fb",
   "metadata": {},
   "source": [
    "## B. 제너레이터의 개념"
   ]
  },
  {
   "cell_type": "markdown",
   "id": "e2c77f0f-671d-4121-b9b0-0adf96c32263",
   "metadata": {},
   "source": [
    "`-` 제너레이터의 정체: 이터레이터 + $\\alpha$"
   ]
  },
  {
   "cell_type": "code",
   "execution_count": 192,
   "id": "cbe3635e-e735-4f6c-8279-f7558e79e2ce",
   "metadata": {
    "tags": []
   },
   "outputs": [],
   "source": [
    "lst = [1,2,3] \n",
    "lst_iterator = iter(lst) "
   ]
  },
  {
   "cell_type": "code",
   "execution_count": 193,
   "id": "7487565e-2784-4be2-aa98-d455807c60ed",
   "metadata": {
    "tags": []
   },
   "outputs": [
    {
     "data": {
      "text/plain": [
       "False"
      ]
     },
     "execution_count": 193,
     "metadata": {},
     "output_type": "execute_result"
    }
   ],
   "source": [
    "isinstance(lst_iterator,collections.abc.Generator)"
   ]
  },
  {
   "cell_type": "code",
   "execution_count": 227,
   "id": "b29dcc97-635a-4f06-80d7-bc0bedfc97e9",
   "metadata": {
    "tags": []
   },
   "outputs": [],
   "source": [
    "def make_gen(lst):\n",
    "    for l in lst:\n",
    "        yield l "
   ]
  },
  {
   "cell_type": "code",
   "execution_count": 228,
   "id": "71f4c505-0724-402f-ae9d-d9ecef3e1ffb",
   "metadata": {
    "tags": []
   },
   "outputs": [],
   "source": [
    "lst_generator = make_gen(lst)"
   ]
  },
  {
   "cell_type": "code",
   "execution_count": 229,
   "id": "2d04c4ad-ec31-41eb-ab21-760da432f478",
   "metadata": {
    "tags": []
   },
   "outputs": [
    {
     "data": {
      "text/plain": [
       "True"
      ]
     },
     "execution_count": 229,
     "metadata": {},
     "output_type": "execute_result"
    }
   ],
   "source": [
    "isinstance(lst_generator,collections.abc.Generator)"
   ]
  },
  {
   "cell_type": "code",
   "execution_count": 230,
   "id": "128f6884-61cd-4dca-b83c-23fac2ba7ffd",
   "metadata": {
    "tags": []
   },
   "outputs": [
    {
     "data": {
      "text/plain": [
       "\u001b[0;31mInit signature:\u001b[0m \u001b[0mcollections\u001b[0m\u001b[0;34m.\u001b[0m\u001b[0mabc\u001b[0m\u001b[0;34m.\u001b[0m\u001b[0mGenerator\u001b[0m\u001b[0;34m(\u001b[0m\u001b[0;34m)\u001b[0m\u001b[0;34m\u001b[0m\u001b[0;34m\u001b[0m\u001b[0m\n",
       "\u001b[0;31mDocstring:\u001b[0m      <no docstring>\n",
       "\u001b[0;31mFile:\u001b[0m           ~/anaconda3/envs/r/lib/python3.10/collections/abc.py\n",
       "\u001b[0;31mType:\u001b[0m           ABCMeta\n",
       "\u001b[0;31mSubclasses:\u001b[0m     "
      ]
     },
     "metadata": {},
     "output_type": "display_data"
    }
   ],
   "source": [
    "collections.abc.Generator?"
   ]
  },
  {
   "cell_type": "code",
   "execution_count": 231,
   "id": "ebce13d9-135c-4872-b626-533aec513a50",
   "metadata": {
    "tags": []
   },
   "outputs": [
    {
     "data": {
      "text/plain": [
       "{'__del__',\n",
       " '__name__',\n",
       " '__qualname__',\n",
       " 'close',\n",
       " 'gi_code',\n",
       " 'gi_frame',\n",
       " 'gi_running',\n",
       " 'gi_yieldfrom',\n",
       " 'send',\n",
       " 'throw'}"
      ]
     },
     "execution_count": 231,
     "metadata": {},
     "output_type": "execute_result"
    }
   ],
   "source": [
    "set(dir(lst_generator))-set(dir(lst_iterator))"
   ]
  },
  {
   "cell_type": "markdown",
   "id": "4bd2f351-d5c3-4b23-9a9a-1bfd79262740",
   "metadata": {},
   "source": [
    "`-` 만드는 방법1: 함수를 이용하는 방법 "
   ]
  },
  {
   "cell_type": "code",
   "execution_count": 232,
   "id": "4aa0a92f-d8dd-44cf-b820-2070fc1737b4",
   "metadata": {
    "tags": []
   },
   "outputs": [],
   "source": [
    "def make_gen(lst):\n",
    "    for l in lst:\n",
    "        yield l"
   ]
  },
  {
   "cell_type": "code",
   "execution_count": 234,
   "id": "4603acaf-352a-4812-8164-b01473f7ef65",
   "metadata": {
    "tags": []
   },
   "outputs": [
    {
     "data": {
      "text/plain": [
       "<generator object make_gen at 0x7f10ff6f78b0>"
      ]
     },
     "execution_count": 234,
     "metadata": {},
     "output_type": "execute_result"
    }
   ],
   "source": [
    "make_gen([1,2,3])"
   ]
  },
  {
   "cell_type": "markdown",
   "id": "87c0121a-2319-417e-b88b-ea4f2d6e79c0",
   "metadata": {},
   "source": [
    "`-` 만드는 방법2: 제너레이터 표현식 (튜플 컴프리헨션이라고 속으로 생각해도 무방, 튜플 컴프리헨션은 없는 용어임) "
   ]
  },
  {
   "cell_type": "code",
   "execution_count": 235,
   "id": "fc5d18d5-d630-485b-9b6f-b8bc60f6312a",
   "metadata": {
    "tags": []
   },
   "outputs": [
    {
     "data": {
      "text/plain": [
       "<generator object <genexpr> at 0x7f10ff6f7a00>"
      ]
     },
     "execution_count": 235,
     "metadata": {},
     "output_type": "execute_result"
    }
   ],
   "source": [
    "(l for l in [1,2,3])"
   ]
  },
  {
   "cell_type": "markdown",
   "id": "2221904e-26e2-4cf2-8738-fce5bd56182f",
   "metadata": {},
   "source": [
    "## C. 개념을 위한 예제들"
   ]
  },
  {
   "cell_type": "markdown",
   "id": "e6bb6229-01f3-4a16-82a6-e967d2ce1b9e",
   "metadata": {
    "tags": []
   },
   "source": [
    "`# 예시1` "
   ]
  },
  {
   "cell_type": "code",
   "execution_count": 236,
   "id": "2bcc0816-91cc-48ef-9def-c1a6d15cfbb9",
   "metadata": {
    "tags": []
   },
   "outputs": [],
   "source": [
    "def make_gen():\n",
    "    yield 1\n",
    "    yield 2\n",
    "    yield 3\n",
    "gen = make_generator()"
   ]
  },
  {
   "cell_type": "code",
   "execution_count": 237,
   "id": "263345fe-9953-48bf-ac74-575c2ffcb137",
   "metadata": {
    "tags": []
   },
   "outputs": [
    {
     "name": "stdout",
     "output_type": "stream",
     "text": [
      "1\n",
      "2\n",
      "3\n"
     ]
    }
   ],
   "source": [
    "for i in gen:\n",
    "    print(i)"
   ]
  },
  {
   "cell_type": "code",
   "execution_count": 238,
   "id": "6f789f9b-a364-4327-b651-c5b38921e837",
   "metadata": {
    "tags": []
   },
   "outputs": [],
   "source": [
    "gen = make_gen()"
   ]
  },
  {
   "cell_type": "code",
   "execution_count": 239,
   "id": "223357e7-e2c6-4751-8920-78999798d133",
   "metadata": {
    "tags": []
   },
   "outputs": [
    {
     "data": {
      "text/plain": [
       "1"
      ]
     },
     "execution_count": 239,
     "metadata": {},
     "output_type": "execute_result"
    }
   ],
   "source": [
    "next(gen)"
   ]
  },
  {
   "cell_type": "code",
   "execution_count": 240,
   "id": "98b6b259-79ae-4e73-904a-da97d62af721",
   "metadata": {
    "tags": []
   },
   "outputs": [
    {
     "data": {
      "text/plain": [
       "2"
      ]
     },
     "execution_count": 240,
     "metadata": {},
     "output_type": "execute_result"
    }
   ],
   "source": [
    "next(gen)"
   ]
  },
  {
   "cell_type": "code",
   "execution_count": 241,
   "id": "75385d3c-d9ae-490c-84bc-9ede14d984dc",
   "metadata": {
    "tags": []
   },
   "outputs": [
    {
     "data": {
      "text/plain": [
       "3"
      ]
     },
     "execution_count": 241,
     "metadata": {},
     "output_type": "execute_result"
    }
   ],
   "source": [
    "next(gen)"
   ]
  },
  {
   "cell_type": "code",
   "execution_count": 242,
   "id": "3d9dc412-73ce-4bff-9649-d2b646906968",
   "metadata": {
    "tags": []
   },
   "outputs": [
    {
     "ename": "StopIteration",
     "evalue": "",
     "output_type": "error",
     "traceback": [
      "\u001b[0;31m---------------------------------------------------------------------------\u001b[0m",
      "\u001b[0;31mStopIteration\u001b[0m                             Traceback (most recent call last)",
      "Cell \u001b[0;32mIn[242], line 1\u001b[0m\n\u001b[0;32m----> 1\u001b[0m \u001b[38;5;28;43mnext\u001b[39;49m\u001b[43m(\u001b[49m\u001b[43mgen\u001b[49m\u001b[43m)\u001b[49m\n",
      "\u001b[0;31mStopIteration\u001b[0m: "
     ]
    }
   ],
   "source": [
    "next(gen)"
   ]
  },
  {
   "cell_type": "markdown",
   "id": "183fe2bb-1729-4602-9b4b-b779d6f38fe4",
   "metadata": {},
   "source": [
    "`#`"
   ]
  },
  {
   "cell_type": "markdown",
   "id": "2abe945c-5e42-4796-93de-401ffd72f978",
   "metadata": {},
   "source": [
    "`# 예시2` -- 무한시퀀스 + 지연실행 "
   ]
  },
  {
   "cell_type": "code",
   "execution_count": 259,
   "id": "4e444ca9-19ee-47de-96a8-ffacdc1cc21c",
   "metadata": {
    "tags": []
   },
   "outputs": [],
   "source": [
    "def make_gen():\n",
    "    a = 3 \n",
    "    yield a \n",
    "    while True:\n",
    "        a = a+2 \n",
    "        yield a "
   ]
  },
  {
   "cell_type": "code",
   "execution_count": 260,
   "id": "0c31343e-5e1b-4f02-bc99-d29335fcfc09",
   "metadata": {
    "tags": []
   },
   "outputs": [],
   "source": [
    "gen = make_gen()"
   ]
  },
  {
   "cell_type": "code",
   "execution_count": 261,
   "id": "dd8f830a-a99d-4f61-93f0-2174fb217c93",
   "metadata": {
    "tags": []
   },
   "outputs": [],
   "source": [
    "lst = [] "
   ]
  },
  {
   "cell_type": "code",
   "execution_count": 262,
   "id": "504013b0-da13-4629-badc-65129d5639b7",
   "metadata": {
    "tags": []
   },
   "outputs": [],
   "source": [
    "for _ in range(10):\n",
    "    lst.append(next(gen))"
   ]
  },
  {
   "cell_type": "code",
   "execution_count": 263,
   "id": "ac37fc27-acdc-4080-bb34-155ee7393fdd",
   "metadata": {
    "tags": []
   },
   "outputs": [
    {
     "data": {
      "text/plain": [
       "[3, 5, 7, 9, 11, 13, 15, 17, 19, 21]"
      ]
     },
     "execution_count": 263,
     "metadata": {},
     "output_type": "execute_result"
    }
   ],
   "source": [
    "lst"
   ]
  },
  {
   "cell_type": "code",
   "execution_count": 264,
   "id": "ba3f3f4e-04d4-4f0a-8d20-281196bca79a",
   "metadata": {
    "tags": []
   },
   "outputs": [],
   "source": [
    "for _ in range(10):\n",
    "    lst.append(next(gen))"
   ]
  },
  {
   "cell_type": "code",
   "execution_count": 265,
   "id": "81bed9c3-1757-43c7-8acb-85283f0d1be8",
   "metadata": {
    "tags": []
   },
   "outputs": [
    {
     "data": {
      "text/plain": [
       "[3, 5, 7, 9, 11, 13, 15, 17, 19, 21, 23, 25, 27, 29, 31, 33, 35, 37, 39, 41]"
      ]
     },
     "execution_count": 265,
     "metadata": {},
     "output_type": "execute_result"
    }
   ],
   "source": [
    "lst"
   ]
  },
  {
   "cell_type": "markdown",
   "id": "92061c68-8d44-43ac-9f59-4901522ff4fa",
   "metadata": {},
   "source": [
    "`#`"
   ]
  },
  {
   "cell_type": "markdown",
   "id": "342d36b8-77a0-4446-b393-248cc5363a60",
   "metadata": {},
   "source": [
    "# 8. 상속"
   ]
  },
  {
   "cell_type": "markdown",
   "id": "1b8656a3-9d50-47da-97f5-779b0bb8b763",
   "metadata": {},
   "source": [
    "## A. 상속의 사용방법"
   ]
  },
  {
   "cell_type": "markdown",
   "id": "eadda7c6-c824-4d6d-989b-1132e58f667f",
   "metadata": {},
   "source": [
    "`-` 클래스를 조금 수정하고 싶을때, 아래와 같은 문법을 이용하면 편리하다. \n",
    "\n",
    "```Python\n",
    "class 새로운_클래스_이름(수정할_클래스_이름): \n",
    "    def 수정_및_추가할_함수이름(self,...):\n",
    "        ...\n",
    "```"
   ]
  },
  {
   "cell_type": "markdown",
   "id": "5e344706-1aeb-4859-aaae-38f7d06b29c4",
   "metadata": {},
   "source": [
    "`# 예시1` -- UpJump"
   ]
  },
  {
   "cell_type": "markdown",
   "id": "a346341f-bc47-41bd-a360-af0341b15bdf",
   "metadata": {
    "tags": []
   },
   "source": [
    "```{mermaid}\n",
    "flowchart LR\n",
    "  C[UpJump] --> |\"거슬러올라가면\"| A[Up]\n",
    "```"
   ]
  },
  {
   "cell_type": "code",
   "execution_count": 93,
   "id": "d4c964a9-8556-417d-80c2-f12be3984087",
   "metadata": {
    "tags": []
   },
   "outputs": [],
   "source": [
    "class Up:\n",
    "    def __init__(self):\n",
    "        self.value = 0\n",
    "    def up(self):\n",
    "        self.value = self.value + 1 \n",
    "    def __repr__(self):\n",
    "        return str(self.value) "
   ]
  },
  {
   "cell_type": "code",
   "execution_count": 94,
   "id": "8dce61da-5d99-49f9-b545-d60681ef9674",
   "metadata": {
    "tags": []
   },
   "outputs": [],
   "source": [
    "class UpJump(Up):\n",
    "    def jump(self,jump_size):\n",
    "        self.value = self.value + jump_size"
   ]
  },
  {
   "cell_type": "markdown",
   "id": "c2c13b2b-bead-4adc-a35a-2f6077d88426",
   "metadata": {},
   "source": [
    "`#`"
   ]
  },
  {
   "cell_type": "markdown",
   "id": "7f098215-5f74-4b79-8cba-0e16d2299e8c",
   "metadata": {},
   "source": [
    "`# 예시2` -- `AddMul` 클래스"
   ]
  },
  {
   "cell_type": "markdown",
   "id": "fa732f23-43e8-4584-8a8e-e86dc2b993ac",
   "metadata": {},
   "source": [
    "`-` Add 클래스 선언 "
   ]
  },
  {
   "cell_type": "code",
   "execution_count": 105,
   "id": "0760b550-f385-4ca2-bc17-cb2f77f33267",
   "metadata": {
    "tags": []
   },
   "outputs": [],
   "source": [
    "class Add:\n",
    "    def __init__(self,a,b):\n",
    "        self.a = a \n",
    "        self.b = b \n",
    "    def add(self):\n",
    "        return self.a + self.b "
   ]
  },
  {
   "cell_type": "code",
   "execution_count": 108,
   "id": "af559379-3f22-41e6-babe-c13676d1465e",
   "metadata": {
    "tags": []
   },
   "outputs": [],
   "source": [
    "a = Add(2,3)"
   ]
  },
  {
   "cell_type": "code",
   "execution_count": 109,
   "id": "b912395e-76f2-4303-bdec-b26572dd4d7f",
   "metadata": {
    "tags": []
   },
   "outputs": [
    {
     "data": {
      "text/plain": [
       "5"
      ]
     },
     "execution_count": 109,
     "metadata": {},
     "output_type": "execute_result"
    }
   ],
   "source": [
    "a.add()"
   ]
  },
  {
   "cell_type": "code",
   "execution_count": 110,
   "id": "dc2c5af0-af5f-4b86-a010-611a24df37dc",
   "metadata": {
    "tags": []
   },
   "outputs": [
    {
     "ename": "AttributeError",
     "evalue": "'Add' object has no attribute 'mul'",
     "output_type": "error",
     "traceback": [
      "\u001b[0;31m---------------------------------------------------------------------------\u001b[0m",
      "\u001b[0;31mAttributeError\u001b[0m                            Traceback (most recent call last)",
      "Cell \u001b[0;32mIn[110], line 1\u001b[0m\n\u001b[0;32m----> 1\u001b[0m \u001b[43ma\u001b[49m\u001b[38;5;241;43m.\u001b[39;49m\u001b[43mmul\u001b[49m()\n",
      "\u001b[0;31mAttributeError\u001b[0m: 'Add' object has no attribute 'mul'"
     ]
    }
   ],
   "source": [
    "a.mul()"
   ]
  },
  {
   "cell_type": "markdown",
   "id": "4ce5dddf-8ef4-4992-aadd-1710c6087dcd",
   "metadata": {
    "tags": []
   },
   "source": [
    "`-` Mul 클래스 선언 "
   ]
  },
  {
   "cell_type": "code",
   "execution_count": 113,
   "id": "4c218e85-15a0-4abe-96f4-e757e864d42c",
   "metadata": {
    "tags": []
   },
   "outputs": [],
   "source": [
    "class Mul:\n",
    "    def __init__(self,a,b):\n",
    "        self.a = a \n",
    "        self.b = b \n",
    "    def mul(self):\n",
    "        return self.a * self.b "
   ]
  },
  {
   "cell_type": "code",
   "execution_count": 114,
   "id": "566c226c-2232-4078-bed4-c2f1b21d7df2",
   "metadata": {
    "tags": []
   },
   "outputs": [
    {
     "data": {
      "text/plain": [
       "12"
      ]
     },
     "execution_count": 114,
     "metadata": {},
     "output_type": "execute_result"
    }
   ],
   "source": [
    "a = Mul(3,4)\n",
    "a.mul()"
   ]
  },
  {
   "cell_type": "code",
   "execution_count": 115,
   "id": "c741c5b5-773f-4aa9-b889-91bd94b05541",
   "metadata": {
    "tags": []
   },
   "outputs": [
    {
     "ename": "AttributeError",
     "evalue": "'Mul' object has no attribute 'add'",
     "output_type": "error",
     "traceback": [
      "\u001b[0;31m---------------------------------------------------------------------------\u001b[0m",
      "\u001b[0;31mAttributeError\u001b[0m                            Traceback (most recent call last)",
      "Cell \u001b[0;32mIn[115], line 1\u001b[0m\n\u001b[0;32m----> 1\u001b[0m \u001b[43ma\u001b[49m\u001b[38;5;241;43m.\u001b[39;49m\u001b[43madd\u001b[49m()\n",
      "\u001b[0;31mAttributeError\u001b[0m: 'Mul' object has no attribute 'add'"
     ]
    }
   ],
   "source": [
    "a.add()"
   ]
  },
  {
   "cell_type": "markdown",
   "id": "5508d60a-28b7-496c-b8c6-733586097ff4",
   "metadata": {},
   "source": [
    "`-` AddMul 클래스를 선언 (기존의 Add, Mul 상속받아서 이용)"
   ]
  },
  {
   "cell_type": "markdown",
   "id": "8e9498b1-c2ec-4cda-a5e0-0c706e28c03f",
   "metadata": {
    "tags": []
   },
   "source": [
    "```{mermaid}\n",
    "flowchart LR\n",
    "  C[AddMul] --> |\"거슬러올라가면\"| A[Add]\n",
    "  C[AddMul] --> |\"거슬러올라가면\"| B[Mul] \n",
    "```"
   ]
  },
  {
   "cell_type": "code",
   "execution_count": 116,
   "id": "d61bd763-5104-4821-8454-8589ed27d04b",
   "metadata": {
    "tags": []
   },
   "outputs": [],
   "source": [
    "class AddMul(Add,Mul):\n",
    "    pass "
   ]
  },
  {
   "cell_type": "code",
   "execution_count": 119,
   "id": "e968bf3a-84e3-4183-bfbb-660fb4a82afd",
   "metadata": {
    "tags": []
   },
   "outputs": [],
   "source": [
    "a = AddMul(2,3)"
   ]
  },
  {
   "cell_type": "code",
   "execution_count": 120,
   "id": "5a9e70d8-21b3-4e28-93bf-dbb8a43ee219",
   "metadata": {
    "tags": []
   },
   "outputs": [
    {
     "data": {
      "text/plain": [
       "5"
      ]
     },
     "execution_count": 120,
     "metadata": {},
     "output_type": "execute_result"
    }
   ],
   "source": [
    "a.add()"
   ]
  },
  {
   "cell_type": "code",
   "execution_count": 121,
   "id": "10c52b48-5b73-4ffc-b4bd-ebf33abb72c8",
   "metadata": {
    "tags": []
   },
   "outputs": [
    {
     "data": {
      "text/plain": [
       "6"
      ]
     },
     "execution_count": 121,
     "metadata": {},
     "output_type": "execute_result"
    }
   ],
   "source": [
    "a.mul()"
   ]
  },
  {
   "cell_type": "markdown",
   "id": "8858dcea-17ac-4dde-b8b0-740b34e4b8ba",
   "metadata": {},
   "source": [
    "> 어, 근데 `__init__`이 겹치지 않나? "
   ]
  },
  {
   "cell_type": "code",
   "execution_count": 122,
   "id": "683e959a-b2ed-4b26-a4ba-a9bd412724e7",
   "metadata": {
    "tags": []
   },
   "outputs": [],
   "source": [
    "class Add:\n",
    "    def __init__(self,a,b):\n",
    "        print(\"Add클래스에서 정의된 __init__ 메소드가 실행됩니다\")\n",
    "        self.a = a \n",
    "        self.b = b \n",
    "    def add(self):\n",
    "        return self.a + self.b \n",
    "class Mul:\n",
    "    def __init__(self,a,b):\n",
    "        print(\"Mul클래스에서 정의된 __init__ 메소드가 실행됩니다\")        \n",
    "        self.a = a \n",
    "        self.b = b \n",
    "    def mul(self):\n",
    "        return self.a * self.b    \n",
    "class AddMul(Add,Mul):\n",
    "    pass     "
   ]
  },
  {
   "cell_type": "code",
   "execution_count": 124,
   "id": "8b11d571-18c2-4850-94fd-31763390e645",
   "metadata": {
    "tags": []
   },
   "outputs": [
    {
     "name": "stdout",
     "output_type": "stream",
     "text": [
      "Add클래스에서 정의된 __init__ 메소드가 실행됩니다\n"
     ]
    }
   ],
   "source": [
    "a = AddMul(5,6)"
   ]
  },
  {
   "cell_type": "markdown",
   "id": "6dd89e87-fc43-408f-ba5a-68bdd06b9725",
   "metadata": {},
   "source": [
    "- 알아서 교통정리함 "
   ]
  },
  {
   "cell_type": "markdown",
   "id": "114d0bad-f5cb-485f-ae04-493d9cc17abb",
   "metadata": {
    "tags": []
   },
   "source": [
    "`-` 교통정리하는 비법? "
   ]
  },
  {
   "cell_type": "code",
   "execution_count": 125,
   "id": "7b15e413-45eb-4bb6-8663-838fa46e838a",
   "metadata": {
    "tags": []
   },
   "outputs": [
    {
     "data": {
      "text/plain": [
       "(__main__.AddMul, __main__.Add, __main__.Mul, object)"
      ]
     },
     "execution_count": 125,
     "metadata": {},
     "output_type": "execute_result"
    }
   ],
   "source": [
    "AddMul.__mro__"
   ]
  },
  {
   "cell_type": "markdown",
   "id": "516c3c01-ad4f-409b-9634-0a0d3eb2c5de",
   "metadata": {
    "tags": []
   },
   "source": [
    "개념상 아래와 같은 서열인데, \n",
    "\n",
    "```{mermaid}\n",
    "flowchart LR\n",
    "  B[Add] --> |\"거슬러올라가면\"| A[object]\n",
    "  C[Mul] --> |\"거슬러올라가면\"| A[object]\n",
    "  D[AddMul] --> |\"거슬러올라가면\"| B[Add]\n",
    "  D[AddMul] --> |\"거슬러올라가면\"| C[Mul]\n",
    "```\n",
    "\n"
   ]
  },
  {
   "cell_type": "markdown",
   "id": "668e2743-3069-4237-bcb1-c288b0333e16",
   "metadata": {
    "tags": []
   },
   "source": [
    "공식적으로는 아래와 같은 서열로 이해한다. \n",
    "\n",
    "```{mermaid}\n",
    "flowchart LR\n",
    "  C[Mul] --> |\"거슬러올라가면\"| A[object]\n",
    "  D[AddMul] --> |\"거슬러올라가면\"| B[Add]\n",
    "  B[Add] --> |\"거슬러올라가면\"| C[Mul]\n",
    "```\n",
    "\n"
   ]
  },
  {
   "cell_type": "markdown",
   "id": "0cf8dee5-8ac2-4d8f-8850-bc500d876c23",
   "metadata": {
    "tags": []
   },
   "source": [
    "::: {.callout-note}\n",
    "모든 상속구조를 거슬러 올라가면 피라미드의 정점에 `object` 클래스가 있다. 즉 `object`는 최상위 super 클래스이다. 아래의 말을 기억하자. \n",
    "\n",
    "> 모든 클래스는 `type` 클래스에서 찍힌 인스턴스이며, 모든 클래스는 `object` 클래스의 subclass이다. \n",
    "\n",
    "그냥 개념놀음임.. \n",
    ":::"
   ]
  },
  {
   "cell_type": "markdown",
   "id": "4a0e7253-ae42-4e3f-93e8-31bbea330389",
   "metadata": {
    "tags": []
   },
   "source": [
    "::: {.callout-warning}\n",
    "\n",
    "다이어그램 표시시 object는 앞으로 생략하겠음. \n",
    ":::"
   ]
  },
  {
   "cell_type": "markdown",
   "id": "e21a57c2-87e3-42c8-8b29-80b027ca8449",
   "metadata": {
    "tags": []
   },
   "source": [
    "::: {.callout-note}\n",
    "아래는 같은코드임 \n",
    "\n",
    "```Python\n",
    "# 코드1\n",
    "class Klass():\n",
    "    pass\n",
    "```\n",
    "```Python\n",
    "# 코드2\n",
    "class Klass(object):\n",
    "    pass\n",
    "```\n",
    "코드1은 사실상 코드2의 생략버전임. \n",
    ":::"
   ]
  },
  {
   "cell_type": "markdown",
   "id": "5445b32f-72f5-409c-b37c-24d7b97db8ae",
   "metadata": {},
   "source": [
    "`#`"
   ]
  },
  {
   "cell_type": "markdown",
   "id": "339d4f55-d421-41a6-9c79-b832d336fc4e",
   "metadata": {},
   "source": [
    "## B. `super()`"
   ]
  },
  {
   "cell_type": "markdown",
   "id": "e60856e0-b762-4a70-bbfe-3d4155d316e6",
   "metadata": {},
   "source": [
    "`# 예시1` -- 기본적인 사용법 "
   ]
  },
  {
   "cell_type": "markdown",
   "id": "cfd17cf6-f6a9-4660-8a72-02f632154e78",
   "metadata": {
    "tags": []
   },
   "source": [
    "```{mermaid}\n",
    "flowchart LR\n",
    "  B[Student] --> |\"거슬러올라가면\"| A[StudentWrong]\n",
    "```"
   ]
  },
  {
   "cell_type": "code",
   "execution_count": 15,
   "id": "9b16ade1-a1b5-467d-a9cd-09bf3169a612",
   "metadata": {
    "tags": []
   },
   "outputs": [],
   "source": [
    "class StudentWrong:\n",
    "    def __init__(self,age=20.0, semester=0):\n",
    "        self.age = age \n",
    "        self.semester = semester\n",
    "        print(f\"입학을 축하합니다. 당신의 나이는 {self.age}이고 현재 학기는 {self.semester}학기 입니다.\")\n",
    "    def __repr__(self):\n",
    "        text = f\"나이: {self.age}\\n학기: {self.semester}\"\n",
    "        return text\n",
    "    def __add__(self,registration_status):\n",
    "        if registration_status == \"휴학\":\n",
    "            self.age = self.age +0.5 \n",
    "        elif registration_status == \"등록\":\n",
    "            self.age = self.age +0.5 \n",
    "            self.semester = self.semester + 1\n",
    "class Student(StudentWrong):\n",
    "    def __add__(self,registration_status):\n",
    "        #super().__add__(registration_status) # 방법1 \n",
    "        super(Student,self).__add__(registration_status) # 방법2 \n",
    "        #super(__class__,self).__add__(registration_status) # 방법3 \n",
    "        return self"
   ]
  },
  {
   "cell_type": "code",
   "execution_count": 16,
   "id": "064c833c-d5fb-40c9-8830-e2d637cd2450",
   "metadata": {
    "tags": []
   },
   "outputs": [
    {
     "name": "stdout",
     "output_type": "stream",
     "text": [
      "입학을 축하합니다. 당신의 나이는 20.0이고 현재 학기는 0학기 입니다.\n"
     ]
    }
   ],
   "source": [
    "boram = Student()"
   ]
  },
  {
   "cell_type": "code",
   "execution_count": 17,
   "id": "60a09db6-b082-4bba-8daf-031246bf67fb",
   "metadata": {
    "tags": []
   },
   "outputs": [
    {
     "data": {
      "text/plain": [
       "나이: 20.0\n",
       "학기: 0"
      ]
     },
     "execution_count": 17,
     "metadata": {},
     "output_type": "execute_result"
    }
   ],
   "source": [
    "boram + 1 + 2"
   ]
  },
  {
   "cell_type": "markdown",
   "id": "95894859-792d-40f0-b1f6-3aa72a30ad20",
   "metadata": {},
   "source": [
    "`#`"
   ]
  },
  {
   "cell_type": "markdown",
   "id": "f711ab23-cc2d-4c03-9276-307974320d5f",
   "metadata": {},
   "source": [
    "`-` `super()`는 슈퍼클래스의 인스턴스 비슷한걸 리턴해준다. (유령이라 생각하자)"
   ]
  },
  {
   "cell_type": "markdown",
   "id": "e3f8be63-efaf-4a61-b242-06eafd0b9a73",
   "metadata": {},
   "source": [
    "![](https://i.namu.wiki/i/BNGVH36IAZ39pH12nstA_1TJ2qLlovX21z9L8TKXIxG4hRTFJm0oz4S0Bv--xAPvZGz9wSuKgFZLylyLLWH9Co8f7IRqIZ9RA-PB9Pzy9cK_dZAKw5xberY6EPc3-xwW8yOKt8AtrVxxhOFemzNbTA.webp)"
   ]
  },
  {
   "cell_type": "markdown",
   "id": "c074c440-46c4-4397-b793-eecefc226d86",
   "metadata": {
    "tags": []
   },
   "source": [
    "`# 예시2` -- 빙의"
   ]
  },
  {
   "cell_type": "markdown",
   "id": "0e853948-9a60-4947-8944-3e23f268df08",
   "metadata": {},
   "source": [
    "아래와 같은 문제를 풀고 싶다고 하자. \n",
    "\n",
    "0. 사과가 2개씩 3묶음 있다. 사과는 총 몇 묶음인가?\n",
    "1. 규빈은 지금 2층에 있다. 3층 아래로 내려가면 몇층인가? \n",
    "2. [1,2,3]의 평균은 얼마인가? \n",
    "3. 100을 3으로 나누면 나머지가 얼마인가? \n",
    "4. 2와 3의 최소공배수는 무엇인가? "
   ]
  },
  {
   "cell_type": "markdown",
   "id": "ef397685-fe6b-4a32-b31a-1316da0d3af6",
   "metadata": {},
   "source": [
    "```{mermaid}\n",
    "flowchart LR\n",
    "  B[ProblemSolver3] --> |\"거슬러올라가면\"| C[ProblemSolver2]\n",
    "  C[ProblemSolver2] --> |\"거슬러올라가면\"| D[ProblemSolver1]\n",
    "```"
   ]
  },
  {
   "cell_type": "code",
   "execution_count": 165,
   "id": "95d2c6e6-ddff-46fa-a410-ca2af0509b88",
   "metadata": {
    "tags": []
   },
   "outputs": [],
   "source": [
    "class ProblemSolver1():\n",
    "    def __init__(self):\n",
    "        self.sheet = [\"?\", \"?\", \"?\", \"?\", \"?\"]     \n",
    "    def solve(self):\n",
    "        # 0. 사과가 2개씩 3묶음 있다. 사과는 총 몇 묶음인가?\n",
    "        self.sheet[0] = 6"
   ]
  },
  {
   "cell_type": "code",
   "execution_count": 19,
   "id": "c998d8a5-5bb6-45d6-a130-b9aa3eff3fa2",
   "metadata": {
    "tags": []
   },
   "outputs": [],
   "source": [
    "a = ProblemSolver1()"
   ]
  },
  {
   "cell_type": "code",
   "execution_count": 20,
   "id": "c0906942-995c-4182-a80c-372ecdfa611b",
   "metadata": {
    "tags": []
   },
   "outputs": [
    {
     "data": {
      "text/plain": [
       "['?', '?', '?', '?', '?']"
      ]
     },
     "execution_count": 20,
     "metadata": {},
     "output_type": "execute_result"
    }
   ],
   "source": [
    "a.sheet"
   ]
  },
  {
   "cell_type": "code",
   "execution_count": 21,
   "id": "8e6340ae-4864-447e-b954-3ce452eebd01",
   "metadata": {
    "tags": []
   },
   "outputs": [],
   "source": [
    "a.solve()"
   ]
  },
  {
   "cell_type": "code",
   "execution_count": 22,
   "id": "a009e827-700f-4d7c-a67c-131d8dc3d9f7",
   "metadata": {
    "tags": []
   },
   "outputs": [
    {
     "data": {
      "text/plain": [
       "[6, '?', '?', '?', '?']"
      ]
     },
     "execution_count": 22,
     "metadata": {},
     "output_type": "execute_result"
    }
   ],
   "source": [
    "a.sheet"
   ]
  },
  {
   "cell_type": "code",
   "execution_count": 23,
   "id": "a5707268-a7bc-4b18-8992-9cfacdb039b5",
   "metadata": {
    "tags": []
   },
   "outputs": [],
   "source": [
    "class ProblemSolver2(ProblemSolver1):\n",
    "    def solve(self):\n",
    "        # 2. [1,2,3]의 평균은 얼마인가?\n",
    "        # 3. 100을 3으로 나누면 나머지가 얼마인가?\n",
    "        # 4. 2와 3의 최소공배수는 무엇인가?\n",
    "        ghost1 = super()\n",
    "        ghost1.solve()\n",
    "        self.sheet[2] = 2\n",
    "        self.sheet[3] = 1\n",
    "        self.sheet[4] = 6"
   ]
  },
  {
   "cell_type": "code",
   "execution_count": 24,
   "id": "5bb9a8bf-5a67-41c0-ae04-02efb954ae71",
   "metadata": {
    "tags": []
   },
   "outputs": [],
   "source": [
    "a = ProblemSolver2()"
   ]
  },
  {
   "cell_type": "code",
   "execution_count": 25,
   "id": "41572208-2d09-42c9-b3ba-9d05466368ad",
   "metadata": {
    "tags": []
   },
   "outputs": [],
   "source": [
    "a.solve()"
   ]
  },
  {
   "cell_type": "code",
   "execution_count": 26,
   "id": "97061155-8160-4438-94d0-4d7e2d059d6f",
   "metadata": {
    "tags": []
   },
   "outputs": [
    {
     "data": {
      "text/plain": [
       "[6, '?', 2, 1, 6]"
      ]
     },
     "execution_count": 26,
     "metadata": {},
     "output_type": "execute_result"
    }
   ],
   "source": [
    "a.sheet"
   ]
  },
  {
   "cell_type": "code",
   "execution_count": 27,
   "id": "5028a79b-40e7-4dbd-80d2-8624311801af",
   "metadata": {
    "tags": []
   },
   "outputs": [],
   "source": [
    "class ProblemSolver3(ProblemSolver2):\n",
    "    def solve(self):\n",
    "        # 1. 규빈은 지금 2층에 있다. 3층 아래로 내려가면 몇층인가?\n",
    "        ghost2 = super()\n",
    "        ghost2.solve() \n",
    "        self.sheet[1] = -1\n",
    "    def say(self):\n",
    "        print(\"다풀었어요\")"
   ]
  },
  {
   "cell_type": "code",
   "execution_count": 28,
   "id": "eef82ca8-1698-4a1f-9180-a16e326ea839",
   "metadata": {
    "tags": []
   },
   "outputs": [],
   "source": [
    "a = ProblemSolver3()"
   ]
  },
  {
   "cell_type": "code",
   "execution_count": 29,
   "id": "98a8eea2-58b9-4c70-970c-53739f2335a3",
   "metadata": {
    "tags": []
   },
   "outputs": [],
   "source": [
    "a.solve()"
   ]
  },
  {
   "cell_type": "code",
   "execution_count": 30,
   "id": "b4a11538-7a73-494b-9fd8-29c5b4a99574",
   "metadata": {
    "tags": []
   },
   "outputs": [
    {
     "data": {
      "text/plain": [
       "[6, -1, 2, 1, 6]"
      ]
     },
     "execution_count": 30,
     "metadata": {},
     "output_type": "execute_result"
    }
   ],
   "source": [
    "a.sheet"
   ]
  },
  {
   "cell_type": "code",
   "execution_count": 31,
   "id": "94cd9d98-550e-462b-8ff7-ee69cf147f5e",
   "metadata": {
    "tags": []
   },
   "outputs": [
    {
     "name": "stdout",
     "output_type": "stream",
     "text": [
      "다풀었어요\n"
     ]
    }
   ],
   "source": [
    "a.say()"
   ]
  },
  {
   "cell_type": "markdown",
   "id": "95edfb19-6d28-49da-bac3-ebc71709357f",
   "metadata": {
    "tags": []
   },
   "source": [
    "***그런데 2층에서 3층 아래로가면 사실 지하 2층이다..***"
   ]
  },
  {
   "cell_type": "markdown",
   "id": "a43f5917-513f-4f38-8ad6-bbb41ee1f708",
   "metadata": {},
   "source": [
    "```{mermaid}\n",
    "flowchart LR\n",
    "  A[ProblemSolver4] --> |\"거슬러올라가면\"| B[ProblemSolver3]\n",
    "  B[ProblemSolver3] --> |\"거슬러올라가면\"| C[ProblemSolver2]\n",
    "  C[ProblemSolver2] --> |\"거슬러올라가면\"| D[ProblemSolver1]\n",
    "```"
   ]
  },
  {
   "cell_type": "code",
   "execution_count": 32,
   "id": "3e48eed9-4327-4a71-9a49-feae0bf13c33",
   "metadata": {
    "tags": []
   },
   "outputs": [],
   "source": [
    "class ProblemSolver4(ProblemSolver3):\n",
    "    def solve(self):\n",
    "        ghost2 = super(ProblemSolver3,self) \n",
    "        ghost2.solve() \n",
    "        self.sheet[1] = -2 "
   ]
  },
  {
   "cell_type": "code",
   "execution_count": 33,
   "id": "09d86f58-96ac-48e6-aaa0-0a9a9238c61f",
   "metadata": {
    "tags": []
   },
   "outputs": [],
   "source": [
    "a = ProblemSolver4()\n",
    "a.solve()"
   ]
  },
  {
   "cell_type": "code",
   "execution_count": 34,
   "id": "578008fd-8211-45bc-9514-cb0a183fad55",
   "metadata": {
    "tags": []
   },
   "outputs": [
    {
     "data": {
      "text/plain": [
       "[6, -2, 2, 1, 6]"
      ]
     },
     "execution_count": 34,
     "metadata": {},
     "output_type": "execute_result"
    }
   ],
   "source": [
    "a.sheet"
   ]
  },
  {
   "cell_type": "code",
   "execution_count": 35,
   "id": "5c4390bf-82cc-44d0-b89c-8a3ff5ba4f13",
   "metadata": {
    "tags": []
   },
   "outputs": [
    {
     "name": "stdout",
     "output_type": "stream",
     "text": [
      "다풀었어요\n"
     ]
    }
   ],
   "source": [
    "a.say()"
   ]
  },
  {
   "cell_type": "markdown",
   "id": "d5bcc57d-3062-4499-89a4-8600b01ae14a",
   "metadata": {
    "tags": []
   },
   "source": [
    "`-` `ProblemSolver4`를 아래와 같이 구현한다면? (틀린구현) // 빙의개념을 이해할것"
   ]
  },
  {
   "cell_type": "markdown",
   "id": "394ebe72-538d-4ecc-9b2b-858b0fc93400",
   "metadata": {},
   "source": [
    "```{mermaid}\n",
    "flowchart LR\n",
    "  A[ProblemSolver4Wrong] --> |\"거슬러올라가면\"| B[ProblemSolver3]\n",
    "  B[ProblemSolver3] --> |\"거슬러올라가면\"| C[ProblemSolver2]\n",
    "  C[ProblemSolver2] --> |\"거슬러올라가면\"| D[ProblemSolver1]\n",
    "```"
   ]
  },
  {
   "cell_type": "code",
   "execution_count": 166,
   "id": "3443b2e8-617f-4e79-8586-636fd9c7529e",
   "metadata": {
    "tags": []
   },
   "outputs": [],
   "source": [
    "class ProblemSolver4Wrong(ProblemSolver3):\n",
    "    def solve(self):\n",
    "        solver2 = ProblemSolver2()\n",
    "        solver2.solve() \n",
    "        self.sheet[1] = -2 "
   ]
  },
  {
   "cell_type": "code",
   "execution_count": 167,
   "id": "1dcb8530-0837-4a4d-bb79-0e71c64191b1",
   "metadata": {
    "tags": []
   },
   "outputs": [],
   "source": [
    "a = ProblemSolver4Wrong()\n",
    "a.solve()"
   ]
  },
  {
   "cell_type": "code",
   "execution_count": 168,
   "id": "e87b324f-37d9-402d-8297-0f0fea4c80de",
   "metadata": {
    "tags": []
   },
   "outputs": [
    {
     "data": {
      "text/plain": [
       "['?', -2, '?', '?', '?']"
      ]
     },
     "execution_count": 168,
     "metadata": {},
     "output_type": "execute_result"
    }
   ],
   "source": [
    "a.sheet"
   ]
  },
  {
   "cell_type": "markdown",
   "id": "7ae41113-475e-4f67-90cc-c706e30f3449",
   "metadata": {},
   "source": [
    "`#`"
   ]
  },
  {
   "cell_type": "markdown",
   "id": "fc2555e6-d205-4f49-bfdc-f76328120bb2",
   "metadata": {},
   "source": [
    "## C. `super()` 쓰지 않기"
   ]
  },
  {
   "cell_type": "markdown",
   "id": "8349a6c8-ac1e-41bd-81d9-67c908306650",
   "metadata": {},
   "source": [
    "`-` 예전에는 `super()`가 없었다고 한다."
   ]
  },
  {
   "cell_type": "markdown",
   "id": "b5bbad88-b5c3-4fc1-853b-53c09ff62d5f",
   "metadata": {},
   "source": [
    "`# 예제1` -- super()를 이용 vs 이용하지 않음"
   ]
  },
  {
   "cell_type": "markdown",
   "id": "0b0e3404-dfb0-4274-b8e8-9664f727cdbd",
   "metadata": {
    "tags": []
   },
   "source": [
    "```{mermaid}\n",
    "flowchart LR\n",
    "  A[Dummy] --> |\"거슬러올라가면\"| B[Dummy2]\n",
    "```"
   ]
  },
  {
   "cell_type": "markdown",
   "id": "bba23d97-754d-4636-aebd-4bf1efa25abc",
   "metadata": {},
   "source": [
    "*직선상속*"
   ]
  },
  {
   "cell_type": "markdown",
   "id": "40d1c346-a01a-4d6e-a75b-362af0fea251",
   "metadata": {},
   "source": [
    "`-` 코드1: `super()` 사용 -- 권장 "
   ]
  },
  {
   "cell_type": "code",
   "execution_count": 72,
   "id": "ca9c00f0-e870-48aa-87da-b86e954de382",
   "metadata": {
    "tags": []
   },
   "outputs": [
    {
     "name": "stdout",
     "output_type": "stream",
     "text": [
      "인스턴스생성 -- self.a=0 대입 / Dummy에서 실행\n",
      "인스턴스생성 -- self.b=0 대입 / Dummy2에서 실행\n"
     ]
    }
   ],
   "source": [
    "class Dummy:\n",
    "    def __init__(self):\n",
    "        print(\"인스턴스생성 -- self.a=0 대입 / Dummy에서 실행\")\n",
    "        self.a = 0 \n",
    "\n",
    "class Dummy2(Dummy):\n",
    "    def __init__(self):\n",
    "        super().__init__()\n",
    "        self.b = 0 \n",
    "        print(\"인스턴스생성 -- self.b=0 대입 / Dummy2에서 실행\")        \n",
    "    \n",
    "a = Dummy2()"
   ]
  },
  {
   "cell_type": "markdown",
   "id": "4e1ca20e-06f2-4bc2-9888-d905e00cd61d",
   "metadata": {},
   "source": [
    "`-` 코드2: `super()` 사용X -- 권장X"
   ]
  },
  {
   "cell_type": "code",
   "execution_count": 71,
   "id": "17807aba-cfe4-47ad-8a6f-25c356225b49",
   "metadata": {
    "tags": []
   },
   "outputs": [
    {
     "name": "stdout",
     "output_type": "stream",
     "text": [
      "인스턴스생성 -- self.a=0 대입 / Dummy에서 실행\n",
      "인스턴스생성 -- self.b=0 대입 / Dummy2에서 실행\n"
     ]
    }
   ],
   "source": [
    "class Dummy:\n",
    "    def __init__(self):\n",
    "        print(\"인스턴스생성 -- self.a=0 대입 / Dummy에서 실행\")\n",
    "        self.a = 0 \n",
    "\n",
    "class Dummy2(Dummy):\n",
    "    def __init__(self):\n",
    "        Dummy.__init__(self)\n",
    "        self.b = 0 \n",
    "        print(\"인스턴스생성 -- self.b=0 대입 / Dummy2에서 실행\")        \n",
    "    \n",
    "a = Dummy2()"
   ]
  },
  {
   "cell_type": "markdown",
   "id": "8ab0907c-44a9-49fa-87b3-38909f73f759",
   "metadata": {},
   "source": [
    "`#`"
   ]
  },
  {
   "cell_type": "markdown",
   "id": "e98ab515-50dc-4938-a9aa-2312c34bbf79",
   "metadata": {},
   "source": [
    "`# 예제2` -- 안쓰는 이유 "
   ]
  },
  {
   "cell_type": "markdown",
   "id": "7928316f-1187-4de4-b422-57dc34df3675",
   "metadata": {
    "tags": []
   },
   "source": [
    "```{mermaid}\n",
    "\n",
    "flowchart LR\n",
    "  B[Dummy2] --> |\"거슬러올라가면\"| A[Dummy]\n",
    "  C[Dummy3] --> |\"거슬러올라가면\"| A[Dummy]\n",
    "  D[Dummy4] --> |\"거슬러올라가면\"| B[Dummy2]\n",
    "  D[Dummy4] --> |\"거슬러올라가면\"| C[Dummy3]\n",
    "```"
   ]
  },
  {
   "cell_type": "markdown",
   "id": "18f192ec-3b2f-4e00-a2bf-7f10be3abdd8",
   "metadata": {},
   "source": [
    "*다이아몬드상속*"
   ]
  },
  {
   "cell_type": "markdown",
   "id": "c94ad460-b4a8-4da9-893e-7c2e801d24cf",
   "metadata": {},
   "source": [
    "`-` 코드1: `super()` 사용 -- 권장 "
   ]
  },
  {
   "cell_type": "code",
   "execution_count": 83,
   "id": "610dd881-a574-4e02-8281-eb4791dc9c01",
   "metadata": {
    "tags": []
   },
   "outputs": [
    {
     "name": "stdout",
     "output_type": "stream",
     "text": [
      "인스턴스생성 -- self.a=0 대입 / Dummy에서 실행\n",
      "인스턴스생성 -- self.c=0 대입 / Dummy3에서 실행\n",
      "인스턴스생성 -- self.b=0 대입 / Dummy2에서 실행\n",
      "인스턴스생성 -- self.d=0 대입 / Dummy4에서 실행\n"
     ]
    }
   ],
   "source": [
    "class Dummy:\n",
    "    def __init__(self):\n",
    "        print(\"인스턴스생성 -- self.a=0 대입 / Dummy에서 실행\")\n",
    "        self.a = 0 \n",
    "\n",
    "class Dummy2(Dummy):\n",
    "    def __init__(self):\n",
    "        super().__init__()\n",
    "        self.b = 0 \n",
    "        print(\"인스턴스생성 -- self.b=0 대입 / Dummy2에서 실행\")        \n",
    "\n",
    "class Dummy3(Dummy):\n",
    "    def __init__(self):\n",
    "        super().__init__()\n",
    "        self.c = 0 \n",
    "        print(\"인스턴스생성 -- self.c=0 대입 / Dummy3에서 실행\")\n",
    "        \n",
    "class Dummy4(Dummy2,Dummy3):\n",
    "    def __init__(self):\n",
    "        super().__init__()\n",
    "        self.d = 0\n",
    "        print(\"인스턴스생성 -- self.d=0 대입 / Dummy4에서 실행\")        \n",
    "a = Dummy4()"
   ]
  },
  {
   "cell_type": "markdown",
   "id": "b7cdd285-e60d-4a6a-b27f-b46ac547f08a",
   "metadata": {},
   "source": [
    "`-` 코드2: `super()` 사용X -- 권장X"
   ]
  },
  {
   "cell_type": "code",
   "execution_count": 84,
   "id": "1d3f82bf-d041-418c-a264-3959cb259857",
   "metadata": {
    "tags": []
   },
   "outputs": [
    {
     "name": "stdout",
     "output_type": "stream",
     "text": [
      "인스턴스생성 -- self.a=0 대입 / Dummy에서 실행\n",
      "인스턴스생성 -- self.b=0 대입 / Dummy2에서 실행\n",
      "인스턴스생성 -- self.a=0 대입 / Dummy에서 실행\n",
      "인스턴스생성 -- self.c=0 대입 / Dummy3에서 실행\n",
      "인스턴스생성 -- self.d=0 대입 / Dummy4에서 실행\n"
     ]
    }
   ],
   "source": [
    "class Dummy:\n",
    "    def __init__(self):\n",
    "        print(\"인스턴스생성 -- self.a=0 대입 / Dummy에서 실행\")\n",
    "        self.a = 0 \n",
    "\n",
    "class Dummy2(Dummy):\n",
    "    def __init__(self):\n",
    "        Dummy.__init__(self)\n",
    "        self.b = 0 \n",
    "        print(\"인스턴스생성 -- self.b=0 대입 / Dummy2에서 실행\")        \n",
    "\n",
    "class Dummy3(Dummy):\n",
    "    def __init__(self):\n",
    "        Dummy.__init__(self)\n",
    "        self.c = 0 \n",
    "        print(\"인스턴스생성 -- self.c=0 대입 / Dummy3에서 실행\")\n",
    "        \n",
    "class Dummy4(Dummy2,Dummy3):\n",
    "    def __init__(self):\n",
    "        Dummy2.__init__(self)\n",
    "        Dummy3.__init__(self)\n",
    "        self.d = 0 \n",
    "        print(\"인스턴스생성 -- self.d=0 대입 / Dummy4에서 실행\")        \n",
    "a = Dummy4()"
   ]
  },
  {
   "cell_type": "markdown",
   "id": "a58cbd3b-dc23-4497-b340-5b2dc64eed9d",
   "metadata": {},
   "source": [
    "`-` 원리"
   ]
  },
  {
   "cell_type": "code",
   "execution_count": 133,
   "id": "09afbe6e-6555-4d48-b36a-802cbe9ba501",
   "metadata": {
    "tags": []
   },
   "outputs": [
    {
     "name": "stdout",
     "output_type": "stream",
     "text": [
      "인스턴스생성 -- self.a=0 대입 / Dummy에서 실행\n",
      "인스턴스생성 -- self.c=0 대입 / Dummy3에서 실행\n",
      "인스턴스생성 -- self.b=0 대입 / Dummy2에서 실행\n",
      "인스턴스생성 -- self.d=0 대입 / Dummy4에서 실행\n"
     ]
    }
   ],
   "source": [
    "class Dummy:\n",
    "    def __init__(self):\n",
    "        print(\"인스턴스생성 -- self.a=0 대입 / Dummy에서 실행\")\n",
    "        self.a = 0 \n",
    "\n",
    "class Dummy2(Dummy):\n",
    "    def __init__(self):\n",
    "        super().__init__()\n",
    "        self.b = 0 \n",
    "        print(\"인스턴스생성 -- self.b=0 대입 / Dummy2에서 실행\")        \n",
    "\n",
    "class Dummy3(Dummy):\n",
    "    def __init__(self):\n",
    "        super().__init__()\n",
    "        self.c = 0 \n",
    "        print(\"인스턴스생성 -- self.c=0 대입 / Dummy3에서 실행\")\n",
    "        \n",
    "class Dummy4(Dummy2,Dummy3):\n",
    "    def __init__(self):\n",
    "        super().__init__()\n",
    "        self.d = 0\n",
    "        print(\"인스턴스생성 -- self.d=0 대입 / Dummy4에서 실행\")        \n",
    "a = Dummy4()"
   ]
  },
  {
   "cell_type": "code",
   "execution_count": 134,
   "id": "a971cce7-4776-4fe7-a4c7-dde8bd2c2c18",
   "metadata": {
    "tags": []
   },
   "outputs": [
    {
     "data": {
      "text/plain": [
       "(__main__.Dummy4, __main__.Dummy2, __main__.Dummy3, __main__.Dummy, object)"
      ]
     },
     "execution_count": 134,
     "metadata": {},
     "output_type": "execute_result"
    }
   ],
   "source": [
    "Dummy4.__mro__"
   ]
  },
  {
   "cell_type": "markdown",
   "id": "e9726de7-cdea-4ed2-894a-20a4ecfaece6",
   "metadata": {},
   "source": [
    "`Dummy4.__mro__` 를 타고 올라가서 제일 꼭대기부터 한번씩만 `__init__()` 을 실행함. "
   ]
  },
  {
   "cell_type": "markdown",
   "id": "41a76439-131a-4e10-bb6d-5bca2acc49eb",
   "metadata": {},
   "source": [
    "`#`"
   ]
  },
  {
   "cell_type": "markdown",
   "id": "6d87249e-6ae5-43dc-852b-1c77de5eacf0",
   "metadata": {},
   "source": [
    "`# 예제3` -- 오개념 방지를 위한 예제들 "
   ]
  },
  {
   "cell_type": "markdown",
   "id": "1f29b284-a818-4618-b467-b4a4acafaafd",
   "metadata": {
    "tags": []
   },
   "source": [
    "```{mermaid}\n",
    "\n",
    "flowchart LR\n",
    "  B[Dummy2] --> |\"거슬러올라가면\"| A[Dummy]\n",
    "  C[Dummy3] --> |\"거슬러올라가면\"| A[Dummy]\n",
    "  D[Dummy4] --> |\"거슬러올라가면\"| B[Dummy2]\n",
    "  D[Dummy4] --> |\"거슬러올라가면\"| C[Dummy3]\n",
    "```"
   ]
  },
  {
   "cell_type": "markdown",
   "id": "1660d302-dceb-45e8-b471-5b9ef759c5b3",
   "metadata": {},
   "source": [
    "*다이아몬드상속*"
   ]
  },
  {
   "cell_type": "markdown",
   "id": "84489804-bcde-4387-91a4-130cd7a80dcd",
   "metadata": {},
   "source": [
    "`-` 코드1: 결과를 예상해보자."
   ]
  },
  {
   "cell_type": "code",
   "execution_count": 155,
   "id": "b8a0f7ed-364b-489b-be66-f52f89fa1fcd",
   "metadata": {
    "tags": []
   },
   "outputs": [
    {
     "name": "stdout",
     "output_type": "stream",
     "text": [
      "인스턴스생성 -- self.a=0 대입 / Dummy에서 실행\n",
      "인스턴스생성 -- self.c=0 대입 / Dummy3에서 실행\n",
      "인스턴스생성 -- self.d=0 대입 / Dummy4에서 실행\n"
     ]
    }
   ],
   "source": [
    "class Dummy:\n",
    "    def __init__(self):\n",
    "        print(\"인스턴스생성 -- self.a=0 대입 / Dummy에서 실행\")\n",
    "        self.a = 0 \n",
    "\n",
    "class Dummy2(Dummy):\n",
    "    def __init__(self):\n",
    "        super().__init__()\n",
    "        self.b = 0 \n",
    "        print(\"인스턴스생성 -- self.b=0 대입 / Dummy2에서 실행\")        \n",
    "\n",
    "class Dummy3(Dummy):\n",
    "    def __init__(self):\n",
    "        super().__init__()\n",
    "        self.c = 0 \n",
    "        print(\"인스턴스생성 -- self.c=0 대입 / Dummy3에서 실행\")\n",
    "        \n",
    "class Dummy4(Dummy2,Dummy3):\n",
    "    def __init__(self):\n",
    "        super(Dummy2,self).__init__()\n",
    "        self.d = 0\n",
    "        print(\"인스턴스생성 -- self.d=0 대입 / Dummy4에서 실행\")        \n",
    "a = Dummy4()"
   ]
  },
  {
   "cell_type": "markdown",
   "id": "723636eb-654c-4f1c-8c7b-b9e054de4197",
   "metadata": {
    "tags": []
   },
   "source": [
    "우리가 원한건 \n",
    "\n",
    "```\n",
    "인스턴스생성 -- self.a=0 대입 / Dummy에서 실행\n",
    "인스턴스생성 -- self.d=0 대입 / Dummy4에서 실행\n",
    "```"
   ]
  },
  {
   "cell_type": "markdown",
   "id": "d02b63d7-efa8-4fcb-87ea-f19da92c3178",
   "metadata": {
    "tags": []
   },
   "source": [
    "였는뎅.. "
   ]
  },
  {
   "cell_type": "markdown",
   "id": "d7d6bf7e-8957-48ab-ad5e-757e2b3c5681",
   "metadata": {},
   "source": [
    "왜 이런일이? "
   ]
  },
  {
   "cell_type": "markdown",
   "id": "f35f8f44-00de-46c1-9654-1859fb27255e",
   "metadata": {},
   "source": [
    "`-` `mro/super`는 상속순서를 직선으로 재정렬함 "
   ]
  },
  {
   "cell_type": "markdown",
   "id": "7c913bd7-f0ca-43a5-955c-51c5e5b233c3",
   "metadata": {
    "tags": []
   },
   "source": [
    "개념적으로는 아래구조의 상속이지만"
   ]
  },
  {
   "cell_type": "markdown",
   "id": "b827d468-513f-4b16-8dfd-d89205fe160b",
   "metadata": {
    "tags": []
   },
   "source": [
    "```{mermaid}\n",
    "\n",
    "flowchart LR\n",
    "  B[Dummy2] --> |\"거슬러올라가면\"| A[Dummy]\n",
    "  C[Dummy3] --> |\"거슬러올라가면\"| A[Dummy]\n",
    "  D[Dummy4] --> |\"거슬러올라가면\"| B[Dummy2]\n",
    "  D[Dummy4] --> |\"거슬러올라가면\"| C[Dummy3]\n",
    "```"
   ]
  },
  {
   "cell_type": "markdown",
   "id": "c844792d-fcf6-4143-b785-640b10a742bd",
   "metadata": {},
   "source": [
    "실제로는 아래구조의 상속임 "
   ]
  },
  {
   "cell_type": "markdown",
   "id": "e251f733-8c9b-4e15-97ce-ea96b9f10bf8",
   "metadata": {
    "tags": []
   },
   "source": [
    "```{mermaid}\n",
    "\n",
    "flowchart LR\n",
    "  A[Dummy4] --> |\"거슬러올라가면\"| B[Dummy2]\n",
    "  B[Dummy2] --> |\"거슬러올라가면\"| C[Dummy3]\n",
    "  C[Dummy3] --> |\"거슬러올라가면\"| D[Dummy]\n",
    "```"
   ]
  },
  {
   "cell_type": "code",
   "execution_count": 159,
   "id": "a5676f8f-b444-4566-81de-9b6895a44bab",
   "metadata": {
    "tags": []
   },
   "outputs": [
    {
     "data": {
      "text/plain": [
       "[__main__.Dummy4, __main__.Dummy2, __main__.Dummy3, __main__.Dummy, object]"
      ]
     },
     "execution_count": 159,
     "metadata": {},
     "output_type": "execute_result"
    }
   ],
   "source": [
    "Dummy4.mro()"
   ]
  },
  {
   "cell_type": "markdown",
   "id": "22368f68-dac3-446e-b0aa-da8dee5b22ff",
   "metadata": {
    "tags": []
   },
   "source": [
    "따라서 `super(Dummy2,self)` 가 구체화하는건 Dummy의 유령인스턴스가 아니라 Dummy3의 유령인스턴스임 "
   ]
  },
  {
   "cell_type": "markdown",
   "id": "ab777317-8365-449f-ba8d-3054f18e335a",
   "metadata": {
    "tags": []
   },
   "source": [
    "`-` 코드2: 결과를 예상해보자. "
   ]
  },
  {
   "cell_type": "code",
   "execution_count": 163,
   "id": "7912d864-662a-45d6-a0bb-e1ec11cc2555",
   "metadata": {
    "tags": []
   },
   "outputs": [
    {
     "name": "stdout",
     "output_type": "stream",
     "text": [
      "인스턴스생성 -- self.a=0 대입 / Dummy에서 실행\n",
      "인스턴스생성 -- self.d=0 대입 / Dummy4에서 실행\n"
     ]
    }
   ],
   "source": [
    "class Dummy:\n",
    "    def __init__(self):\n",
    "        print(\"인스턴스생성 -- self.a=0 대입 / Dummy에서 실행\")\n",
    "        self.a = 0 \n",
    "\n",
    "class Dummy2(Dummy):\n",
    "    def __init__(self):\n",
    "        super().__init__()\n",
    "        self.b = 0 \n",
    "        print(\"인스턴스생성 -- self.b=0 대입 / Dummy2에서 실행\")        \n",
    "\n",
    "class Dummy3(Dummy):\n",
    "    def __init__(self):\n",
    "        super().__init__()\n",
    "        self.c = 0 \n",
    "        print(\"인스턴스생성 -- self.c=0 대입 / Dummy3에서 실행\")\n",
    "        \n",
    "class Dummy4(Dummy2,Dummy3):\n",
    "    def __init__(self):\n",
    "        Dummy.__init__(self)\n",
    "        self.d = 0\n",
    "        print(\"인스턴스생성 -- self.d=0 대입 / Dummy4에서 실행\")        \n",
    "a = Dummy4()"
   ]
  },
  {
   "cell_type": "markdown",
   "id": "bc08abd7-c3fd-4e28-9c35-8748ce181522",
   "metadata": {},
   "source": [
    "> 이러면 혼란이 없음 "
   ]
  },
  {
   "cell_type": "markdown",
   "id": "a3fdc10b-4d30-49b8-aa62-a822be1afebf",
   "metadata": {
    "tags": []
   },
   "source": [
    "`-` 코드3: 결과를 예상해보자. "
   ]
  },
  {
   "cell_type": "code",
   "execution_count": 164,
   "id": "bbe76cc3-91d5-49ed-9521-a2a56df6dfe4",
   "metadata": {
    "tags": []
   },
   "outputs": [
    {
     "name": "stdout",
     "output_type": "stream",
     "text": [
      "인스턴스생성 -- self.a=0 대입 / Dummy에서 실행\n",
      "인스턴스생성 -- self.d=0 대입 / Dummy4에서 실행\n"
     ]
    }
   ],
   "source": [
    "class Dummy:\n",
    "    def __init__(self):\n",
    "        print(\"인스턴스생성 -- self.a=0 대입 / Dummy에서 실행\")\n",
    "        self.a = 0 \n",
    "\n",
    "class Dummy2(Dummy):\n",
    "    def __init__(self):\n",
    "        super().__init__()\n",
    "        self.b = 0 \n",
    "        print(\"인스턴스생성 -- self.b=0 대입 / Dummy2에서 실행\")        \n",
    "\n",
    "class Dummy3(Dummy):\n",
    "    def __init__(self):\n",
    "        super().__init__()\n",
    "        self.c = 0 \n",
    "        print(\"인스턴스생성 -- self.c=0 대입 / Dummy3에서 실행\")\n",
    "        \n",
    "class Dummy4(Dummy3,Dummy2):\n",
    "    def __init__(self):\n",
    "        super(Dummy2,self).__init__()\n",
    "        self.d = 0\n",
    "        print(\"인스턴스생성 -- self.d=0 대입 / Dummy4에서 실행\")        \n",
    "a = Dummy4()"
   ]
  },
  {
   "cell_type": "markdown",
   "id": "90ab1c46-3444-4539-b739-e8f780a37d80",
   "metadata": {},
   "source": [
    "> `super()`를 굳이 써야겠으면 Dummy4를 정의할때 mro를 고려하여 `class Dummy4(Dummy2,Dummy3):` 대신에 `class Dummy4(Dummy3,Dummy2):` 로 바꿔주면 된다. "
   ]
  },
  {
   "cell_type": "markdown",
   "id": "d4a3da17-36b3-490e-995a-95b5d58cefe0",
   "metadata": {},
   "source": [
    "`#`"
   ]
  },
  {
   "cell_type": "markdown",
   "id": "37fac50c-34ae-47b2-8dea-ad014d41af39",
   "metadata": {},
   "source": [
    "## D. 리스트의 상속 -- 쓰지마세여"
   ]
  },
  {
   "cell_type": "markdown",
   "id": "0e33bc5a-a5ba-4dfe-8dd5-ff983a717d53",
   "metadata": {},
   "source": [
    "`-` list와 비슷한데 멤버들의 빈도가 계산되는 메소드를 포함하는 새로운 나만의 list를 만들고 싶다. "
   ]
  },
  {
   "cell_type": "code",
   "execution_count": 495,
   "id": "4342e58c-9aad-48f6-9378-b127840e9a2f",
   "metadata": {},
   "outputs": [
    {
     "data": {
      "text/plain": [
       "['a', 's', 'd', 'f', 'a', 's', 's', 's', 'd', 'f', 'a']"
      ]
     },
     "execution_count": 495,
     "metadata": {},
     "output_type": "execute_result"
    }
   ],
   "source": [
    "lst = list('asdfasssdfa')\n",
    "lst "
   ]
  },
  {
   "cell_type": "markdown",
   "id": "3f1ee983-b98d-4884-a312-7600c0e3d092",
   "metadata": {},
   "source": [
    "`-` 각 원소들의 빈도를 구해보면 아래와 같다. "
   ]
  },
  {
   "cell_type": "code",
   "execution_count": 501,
   "id": "3ebe3d96-0354-4491-bd4c-ea7ffb84eb17",
   "metadata": {},
   "outputs": [
    {
     "data": {
      "text/plain": [
       "{'d': 2, 'a': 3, 's': 4, 'f': 2}"
      ]
     },
     "execution_count": 501,
     "metadata": {},
     "output_type": "execute_result"
    }
   ],
   "source": [
    "{s:lst.count(s) for s in set(lst)}"
   ]
  },
  {
   "cell_type": "code",
   "execution_count": 502,
   "id": "89d08b27-6995-45a8-b766-f76a4b3658b1",
   "metadata": {},
   "outputs": [
    {
     "ename": "AttributeError",
     "evalue": "'list' object has no attribute 'freq'",
     "output_type": "error",
     "traceback": [
      "\u001b[0;31m---------------------------------------------------------------------------\u001b[0m",
      "\u001b[0;31mAttributeError\u001b[0m                            Traceback (most recent call last)",
      "Cell \u001b[0;32mIn[502], line 1\u001b[0m\n\u001b[0;32m----> 1\u001b[0m \u001b[43mlst\u001b[49m\u001b[38;5;241;43m.\u001b[39;49m\u001b[43mfreq\u001b[49m() \u001b[38;5;66;03m# 이렇게 실행하면 위의결과가 나왔으면 좋겠다.\u001b[39;00m\n",
      "\u001b[0;31mAttributeError\u001b[0m: 'list' object has no attribute 'freq'"
     ]
    }
   ],
   "source": [
    "lst.freq() # 이렇게 실행하면 위의결과가 나왔으면 좋겠다."
   ]
  },
  {
   "cell_type": "markdown",
   "id": "467d6f7f-cdab-4625-a294-9d90fe49eb5f",
   "metadata": {},
   "source": [
    "`-` 이것을 내가 정의하는 새로운 list의 메소드로 넣고 싶다. "
   ]
  },
  {
   "cell_type": "code",
   "execution_count": 503,
   "id": "79cb2623-ae73-4513-ba52-84b57cf2a47d",
   "metadata": {},
   "outputs": [],
   "source": [
    "class List(list):\n",
    "    def freq(self):\n",
    "        return {s:self.count(s) for s in set(self)}"
   ]
  },
  {
   "cell_type": "code",
   "execution_count": 504,
   "id": "20900a2b-e3fa-44dc-87f1-10d201bd88f4",
   "metadata": {},
   "outputs": [],
   "source": [
    "lst2 = List('asdfasssdfa')"
   ]
  },
  {
   "cell_type": "code",
   "execution_count": 514,
   "id": "c4bc35b0-4a4e-41c7-bdb2-9675bd2634b8",
   "metadata": {},
   "outputs": [
    {
     "data": {
      "text/plain": [
       "['a', 's', 'd', 'f', 'a', 's', 's', 's', 'd', 'f', 'a']"
      ]
     },
     "execution_count": 514,
     "metadata": {},
     "output_type": "execute_result"
    }
   ],
   "source": [
    "lst2"
   ]
  },
  {
   "cell_type": "code",
   "execution_count": 509,
   "id": "7b36018f-314c-4c66-aabc-d31f99502c9f",
   "metadata": {},
   "outputs": [
    {
     "data": {
      "text/plain": [
       "['a', 's', 'd', 'f', 'a', 's', 's', 's', 'd', 'f', 'a']"
      ]
     },
     "execution_count": 509,
     "metadata": {},
     "output_type": "execute_result"
    }
   ],
   "source": [
    "lst"
   ]
  },
  {
   "cell_type": "code",
   "execution_count": 517,
   "id": "f212f0c9-1bcf-4d12-bb03-e8e6c0d38f7d",
   "metadata": {},
   "outputs": [],
   "source": [
    "#lst2+lst ## 거의 lst2는 일반적인 lst와 같은역할"
   ]
  },
  {
   "cell_type": "markdown",
   "id": "334c8350-4555-46ba-9bc9-d020e12e327b",
   "metadata": {},
   "source": [
    "`-` 기존리스트에서 추가로 frequency() 메소드가 존재함. "
   ]
  },
  {
   "cell_type": "code",
   "execution_count": 513,
   "id": "0d7cd9a9-fdbb-4e83-b523-9b47c399d5c5",
   "metadata": {},
   "outputs": [
    {
     "data": {
      "text/plain": [
       "{'d': 2, 'a': 3, 's': 4, 'f': 2}"
      ]
     },
     "execution_count": 513,
     "metadata": {},
     "output_type": "execute_result"
    }
   ],
   "source": [
    "lst2.freq()"
   ]
  },
  {
   "cell_type": "markdown",
   "id": "974ee086-b1a4-4135-a4f2-42a2bb7d1d56",
   "metadata": {},
   "source": [
    "# 9. 에러메시지"
   ]
  },
  {
   "cell_type": "markdown",
   "id": "3e4d0cd5-d9b2-4e0a-b727-369d4f73c068",
   "metadata": {},
   "source": [
    "## A. 파이썬의 에러메시지"
   ]
  },
  {
   "cell_type": "markdown",
   "id": "c987ef77-6df4-4d68-bf9c-3d794c0f332f",
   "metadata": {},
   "source": [
    "`TypeError`: 타입이 맞지 않는 연산을 수행하려고 할 때 발생. 예를 들어, 숫자와 문자열을 더하려고 할 때 발생."
   ]
  },
  {
   "cell_type": "code",
   "execution_count": 25,
   "id": "d6d98c20-10e7-4687-a063-5ee93e9471e5",
   "metadata": {},
   "outputs": [
    {
     "ename": "TypeError",
     "evalue": "unsupported operand type(s) for +: 'int' and 'str'",
     "output_type": "error",
     "traceback": [
      "\u001b[0;31m---------------------------------------------------------------------------\u001b[0m",
      "\u001b[0;31mTypeError\u001b[0m                                 Traceback (most recent call last)",
      "Cell \u001b[0;32mIn[25], line 1\u001b[0m\n\u001b[0;32m----> 1\u001b[0m result \u001b[38;5;241m=\u001b[39m \u001b[38;5;241;43m10\u001b[39;49m\u001b[43m \u001b[49m\u001b[38;5;241;43m+\u001b[39;49m\u001b[43m \u001b[49m\u001b[38;5;124;43m\"\u001b[39;49m\u001b[38;5;124;43m20\u001b[39;49m\u001b[38;5;124;43m\"\u001b[39;49m  \u001b[38;5;66;03m# TypeError: unsupported operand type(s) for +: 'int' and 'str'\u001b[39;00m\n",
      "\u001b[0;31mTypeError\u001b[0m: unsupported operand type(s) for +: 'int' and 'str'"
     ]
    }
   ],
   "source": [
    "result = 10 + \"20\"  # TypeError: unsupported operand type(s) for +: 'int' and 'str'"
   ]
  },
  {
   "cell_type": "markdown",
   "id": "cff7118e-6adf-40d1-921c-0416e566bbac",
   "metadata": {},
   "source": [
    "`SyntaxError`: 코드의 구문이 잘못되었을 때 발생. 주로 오타, 괄호 불일치, 콜론(:) 빠뜨림 등의 문제로 인해 발생."
   ]
  },
  {
   "cell_type": "code",
   "execution_count": 23,
   "id": "cd7528fe-f69e-466f-a26c-37966da54d34",
   "metadata": {},
   "outputs": [
    {
     "ename": "SyntaxError",
     "evalue": "invalid syntax (<ipython-input-23-5259b3c47c58>, line 1)",
     "output_type": "error",
     "traceback": [
      "\u001b[0;36m  Cell \u001b[0;32mIn[23], line 1\u001b[0;36m\u001b[0m\n\u001b[0;31m    if x == 5\u001b[0m\n\u001b[0m             ^\u001b[0m\n\u001b[0;31mSyntaxError\u001b[0m\u001b[0;31m:\u001b[0m invalid syntax\n"
     ]
    }
   ],
   "source": [
    "if x == 5\n",
    "    print(\"x is equal to 5\")  # SyntaxError: invalid syntax"
   ]
  },
  {
   "cell_type": "markdown",
   "id": "7f95a6bf-b56c-40a1-b406-f79312f3b510",
   "metadata": {},
   "source": [
    "`NameError`: 정의되지 않은 변수나 함수를 사용하려고 할 때 발생."
   ]
  },
  {
   "cell_type": "code",
   "execution_count": 24,
   "id": "a727a51e-8d5b-4ee0-be4c-9b3d9fb9639f",
   "metadata": {},
   "outputs": [
    {
     "ename": "NameError",
     "evalue": "name 'unknown_variable' is not defined",
     "output_type": "error",
     "traceback": [
      "\u001b[0;31m---------------------------------------------------------------------------\u001b[0m",
      "\u001b[0;31mNameError\u001b[0m                                 Traceback (most recent call last)",
      "Cell \u001b[0;32mIn[24], line 1\u001b[0m\n\u001b[0;32m----> 1\u001b[0m \u001b[38;5;28mprint\u001b[39m(\u001b[43munknown_variable\u001b[49m)  \u001b[38;5;66;03m# NameError: name 'unknown_variable' is not defined\u001b[39;00m\n",
      "\u001b[0;31mNameError\u001b[0m: name 'unknown_variable' is not defined"
     ]
    }
   ],
   "source": [
    "print(unknown_variable)  # NameError: name 'unknown_variable' is not defined"
   ]
  },
  {
   "cell_type": "markdown",
   "id": "95bc0d2c-32a1-49ac-a36b-fdbf25815d30",
   "metadata": {},
   "source": [
    "`ValueError`: 함수나 메서드에 전달되는 인자의 값이 올바르지 않을 때 발생. "
   ]
  },
  {
   "cell_type": "code",
   "execution_count": 31,
   "id": "5d6ee1b8-d911-44f1-a2e7-8e23535169fb",
   "metadata": {},
   "outputs": [
    {
     "ename": "ValueError",
     "evalue": "invalid literal for int() with base 10: 'abc'",
     "output_type": "error",
     "traceback": [
      "\u001b[0;31m---------------------------------------------------------------------------\u001b[0m",
      "\u001b[0;31mValueError\u001b[0m                                Traceback (most recent call last)",
      "Cell \u001b[0;32mIn[31], line 1\u001b[0m\n\u001b[0;32m----> 1\u001b[0m int_value \u001b[38;5;241m=\u001b[39m \u001b[38;5;28;43mint\u001b[39;49m\u001b[43m(\u001b[49m\u001b[38;5;124;43m\"\u001b[39;49m\u001b[38;5;124;43mabc\u001b[39;49m\u001b[38;5;124;43m\"\u001b[39;49m\u001b[43m)\u001b[49m  \u001b[38;5;66;03m# ValueError: invalid literal for int() with base 10: 'abc'\u001b[39;00m\n",
      "\u001b[0;31mValueError\u001b[0m: invalid literal for int() with base 10: 'abc'"
     ]
    }
   ],
   "source": [
    "int_value = int(\"abc\")  # ValueError: invalid literal for int() with base 10: 'abc'"
   ]
  },
  {
   "cell_type": "markdown",
   "id": "d8b48f59-9ffa-4b09-8fc2-23a183b0af6f",
   "metadata": {},
   "source": [
    "`AttributeError`: 객체가 속성(attribute)이나 메서드(method)를 가지고 있지 않을 때 발생"
   ]
  },
  {
   "cell_type": "code",
   "execution_count": 32,
   "id": "4a686b5e-d03b-4cc1-bea9-890caefbc7db",
   "metadata": {},
   "outputs": [
    {
     "ename": "AttributeError",
     "evalue": "'list' object has no attribute 'upper'",
     "output_type": "error",
     "traceback": [
      "\u001b[0;31m---------------------------------------------------------------------------\u001b[0m",
      "\u001b[0;31mAttributeError\u001b[0m                            Traceback (most recent call last)",
      "Cell \u001b[0;32mIn[32], line 3\u001b[0m\n\u001b[1;32m      1\u001b[0m my_list \u001b[38;5;241m=\u001b[39m [\u001b[38;5;241m1\u001b[39m, \u001b[38;5;241m2\u001b[39m, \u001b[38;5;241m3\u001b[39m]\n\u001b[1;32m      2\u001b[0m my_list\u001b[38;5;241m.\u001b[39mappend(\u001b[38;5;241m4\u001b[39m)\n\u001b[0;32m----> 3\u001b[0m \u001b[43mmy_list\u001b[49m\u001b[38;5;241;43m.\u001b[39;49m\u001b[43mupper\u001b[49m()  \u001b[38;5;66;03m# AttributeError: 'list' object has no attribute 'upper'\u001b[39;00m\n",
      "\u001b[0;31mAttributeError\u001b[0m: 'list' object has no attribute 'upper'"
     ]
    }
   ],
   "source": [
    "my_list = [1, 2, 3]\n",
    "my_list.append(4)\n",
    "my_list.upper()  # AttributeError: 'list' object has no attribute 'upper'"
   ]
  },
  {
   "cell_type": "markdown",
   "id": "45313c73-73dc-419e-b310-869221c5019f",
   "metadata": {},
   "source": [
    "`ImportError`: 모듈을 임포트하는 과정에서 문제가 발생할 때 발생. 임포트하려는 모듈이 존재하지 않거나, 임포트 경로 설정이 잘못된 경우에 해당."
   ]
  },
  {
   "cell_type": "code",
   "execution_count": 33,
   "id": "283ba197-f484-4fde-837c-8d2de03c58d3",
   "metadata": {},
   "outputs": [
    {
     "ename": "ModuleNotFoundError",
     "evalue": "No module named 'non_existent_module'",
     "output_type": "error",
     "traceback": [
      "\u001b[0;31m---------------------------------------------------------------------------\u001b[0m",
      "\u001b[0;31mModuleNotFoundError\u001b[0m                       Traceback (most recent call last)",
      "Cell \u001b[0;32mIn[33], line 1\u001b[0m\n\u001b[0;32m----> 1\u001b[0m \u001b[38;5;28;01mimport\u001b[39;00m \u001b[38;5;21;01mnon_existent_module\u001b[39;00m  \u001b[38;5;66;03m# ImportError: No module named 'non_existent_module'\u001b[39;00m\n",
      "\u001b[0;31mModuleNotFoundError\u001b[0m: No module named 'non_existent_module'"
     ]
    }
   ],
   "source": [
    "import non_existent_module  # ImportError: No module named 'non_existent_module'"
   ]
  },
  {
   "cell_type": "markdown",
   "id": "a98391f7-b20b-42b9-8c90-949be03f22f9",
   "metadata": {},
   "source": [
    "`IOError`: 파일 입출력 작업 중에 발생하는 에러. 파일이 존재하지 않거나, 파일에 쓰기 권한이 없는 경우 등에 해당."
   ]
  },
  {
   "cell_type": "code",
   "execution_count": 34,
   "id": "6755e9db-d2dc-4cda-a0d5-a35b35bc1c98",
   "metadata": {},
   "outputs": [
    {
     "ename": "FileNotFoundError",
     "evalue": "[Errno 2] No such file or directory: 'file.txt'",
     "output_type": "error",
     "traceback": [
      "\u001b[0;31m---------------------------------------------------------------------------\u001b[0m",
      "\u001b[0;31mFileNotFoundError\u001b[0m                         Traceback (most recent call last)",
      "Cell \u001b[0;32mIn[34], line 1\u001b[0m\n\u001b[0;32m----> 1\u001b[0m file \u001b[38;5;241m=\u001b[39m \u001b[38;5;28;43mopen\u001b[39;49m\u001b[43m(\u001b[49m\u001b[38;5;124;43m'\u001b[39;49m\u001b[38;5;124;43mfile.txt\u001b[39;49m\u001b[38;5;124;43m'\u001b[39;49m\u001b[43m,\u001b[49m\u001b[43m \u001b[49m\u001b[38;5;124;43m'\u001b[39;49m\u001b[38;5;124;43mr\u001b[39;49m\u001b[38;5;124;43m'\u001b[39;49m\u001b[43m)\u001b[49m  \u001b[38;5;66;03m# IOError: [Errno 2] No such file or directory: 'file.txt'\u001b[39;00m\n",
      "File \u001b[0;32m~/anaconda3/envs/py38/lib/python3.8/site-packages/IPython/core/interactiveshell.py:284\u001b[0m, in \u001b[0;36m_modified_open\u001b[0;34m(file, *args, **kwargs)\u001b[0m\n\u001b[1;32m    277\u001b[0m \u001b[38;5;28;01mif\u001b[39;00m file \u001b[38;5;129;01min\u001b[39;00m {\u001b[38;5;241m0\u001b[39m, \u001b[38;5;241m1\u001b[39m, \u001b[38;5;241m2\u001b[39m}:\n\u001b[1;32m    278\u001b[0m     \u001b[38;5;28;01mraise\u001b[39;00m \u001b[38;5;167;01mValueError\u001b[39;00m(\n\u001b[1;32m    279\u001b[0m         \u001b[38;5;124mf\u001b[39m\u001b[38;5;124m\"\u001b[39m\u001b[38;5;124mIPython won\u001b[39m\u001b[38;5;124m'\u001b[39m\u001b[38;5;124mt let you open fd=\u001b[39m\u001b[38;5;132;01m{\u001b[39;00mfile\u001b[38;5;132;01m}\u001b[39;00m\u001b[38;5;124m by default \u001b[39m\u001b[38;5;124m\"\u001b[39m\n\u001b[1;32m    280\u001b[0m         \u001b[38;5;124m\"\u001b[39m\u001b[38;5;124mas it is likely to crash IPython. If you know what you are doing, \u001b[39m\u001b[38;5;124m\"\u001b[39m\n\u001b[1;32m    281\u001b[0m         \u001b[38;5;124m\"\u001b[39m\u001b[38;5;124myou can use builtins\u001b[39m\u001b[38;5;124m'\u001b[39m\u001b[38;5;124m open.\u001b[39m\u001b[38;5;124m\"\u001b[39m\n\u001b[1;32m    282\u001b[0m     )\n\u001b[0;32m--> 284\u001b[0m \u001b[38;5;28;01mreturn\u001b[39;00m \u001b[43mio_open\u001b[49m\u001b[43m(\u001b[49m\u001b[43mfile\u001b[49m\u001b[43m,\u001b[49m\u001b[43m \u001b[49m\u001b[38;5;241;43m*\u001b[39;49m\u001b[43margs\u001b[49m\u001b[43m,\u001b[49m\u001b[43m \u001b[49m\u001b[38;5;241;43m*\u001b[39;49m\u001b[38;5;241;43m*\u001b[39;49m\u001b[43mkwargs\u001b[49m\u001b[43m)\u001b[49m\n",
      "\u001b[0;31mFileNotFoundError\u001b[0m: [Errno 2] No such file or directory: 'file.txt'"
     ]
    }
   ],
   "source": [
    "file = open('file.txt', 'r')  # IOError: [Errno 2] No such file or directory: 'file.txt'"
   ]
  },
  {
   "cell_type": "markdown",
   "id": "674e683f-c1f8-4621-a074-e6401e1826de",
   "metadata": {},
   "source": [
    "`KeyboardInterrupt`: 사용자가 프로그램의 실행을 중단할 때 발생."
   ]
  },
  {
   "cell_type": "code",
   "execution_count": 137,
   "id": "582fbad3-0def-413e-9c45-d5b66712131e",
   "metadata": {},
   "outputs": [
    {
     "ename": "KeyboardInterrupt",
     "evalue": "",
     "output_type": "error",
     "traceback": [
      "\u001b[0;31m---------------------------------------------------------------------------\u001b[0m",
      "\u001b[0;31mKeyboardInterrupt\u001b[0m                         Traceback (most recent call last)",
      "Cell \u001b[0;32mIn[137], line 2\u001b[0m\n\u001b[1;32m      1\u001b[0m \u001b[38;5;28;01mwhile\u001b[39;00m \u001b[38;5;28;01mTrue\u001b[39;00m:\n\u001b[0;32m----> 2\u001b[0m     \u001b[38;5;28;01mpass\u001b[39;00m  \u001b[38;5;66;03m# 무한 루프\u001b[39;00m\n\u001b[1;32m      3\u001b[0m \u001b[38;5;66;03m# KeyboardInterrupt: \u001b[39;00m\n",
      "\u001b[0;31mKeyboardInterrupt\u001b[0m: "
     ]
    }
   ],
   "source": [
    "while True:\n",
    "    pass  # 무한 루프\n",
    "# KeyboardInterrupt: \n"
   ]
  },
  {
   "cell_type": "markdown",
   "id": "83987346-21d4-46f0-b745-36f32a230467",
   "metadata": {},
   "source": [
    "`IndexError`: 유효하지 않은 인덱스를 사용하여 시퀀스(리스트, 튜플, 문자열 등)의 요소에 접근하려고 할 때 발생."
   ]
  },
  {
   "cell_type": "code",
   "execution_count": 27,
   "id": "a85aceab-005a-46a1-9bec-4e235f9bf9c1",
   "metadata": {},
   "outputs": [
    {
     "ename": "IndexError",
     "evalue": "list index out of range",
     "output_type": "error",
     "traceback": [
      "\u001b[0;31m---------------------------------------------------------------------------\u001b[0m",
      "\u001b[0;31mIndexError\u001b[0m                                Traceback (most recent call last)",
      "Cell \u001b[0;32mIn[27], line 2\u001b[0m\n\u001b[1;32m      1\u001b[0m my_list \u001b[38;5;241m=\u001b[39m [\u001b[38;5;241m1\u001b[39m, \u001b[38;5;241m2\u001b[39m, \u001b[38;5;241m3\u001b[39m]\n\u001b[0;32m----> 2\u001b[0m \u001b[38;5;28mprint\u001b[39m(\u001b[43mmy_list\u001b[49m\u001b[43m[\u001b[49m\u001b[38;5;241;43m5\u001b[39;49m\u001b[43m]\u001b[49m)  \u001b[38;5;66;03m# IndexError: list index out of range\u001b[39;00m\n",
      "\u001b[0;31mIndexError\u001b[0m: list index out of range"
     ]
    }
   ],
   "source": [
    "my_list = [1, 2, 3]\n",
    "print(my_list[5])  # IndexError: list index out of range"
   ]
  },
  {
   "cell_type": "markdown",
   "id": "2ea0ddf3-a769-4125-bc6c-cc901de61996",
   "metadata": {},
   "source": [
    "`KeyError`: 딕셔너리에서 존재하지 않는 키를 사용하여 요소에 접근하려고 할 때 발생."
   ]
  },
  {
   "cell_type": "code",
   "execution_count": 28,
   "id": "89e3d5a5-1653-44ec-9258-23ab50fc4733",
   "metadata": {},
   "outputs": [
    {
     "ename": "KeyError",
     "evalue": "'address'",
     "output_type": "error",
     "traceback": [
      "\u001b[0;31m---------------------------------------------------------------------------\u001b[0m",
      "\u001b[0;31mKeyError\u001b[0m                                  Traceback (most recent call last)",
      "Cell \u001b[0;32mIn[28], line 2\u001b[0m\n\u001b[1;32m      1\u001b[0m my_dict \u001b[38;5;241m=\u001b[39m {\u001b[38;5;124m'\u001b[39m\u001b[38;5;124mname\u001b[39m\u001b[38;5;124m'\u001b[39m: \u001b[38;5;124m'\u001b[39m\u001b[38;5;124mJohn\u001b[39m\u001b[38;5;124m'\u001b[39m, \u001b[38;5;124m'\u001b[39m\u001b[38;5;124mage\u001b[39m\u001b[38;5;124m'\u001b[39m: \u001b[38;5;241m25\u001b[39m}\n\u001b[0;32m----> 2\u001b[0m \u001b[38;5;28mprint\u001b[39m(\u001b[43mmy_dict\u001b[49m\u001b[43m[\u001b[49m\u001b[38;5;124;43m'\u001b[39;49m\u001b[38;5;124;43maddress\u001b[39;49m\u001b[38;5;124;43m'\u001b[39;49m\u001b[43m]\u001b[49m)  \u001b[38;5;66;03m# KeyError: 'address'\u001b[39;00m\n",
      "\u001b[0;31mKeyError\u001b[0m: 'address'"
     ]
    }
   ],
   "source": [
    "my_dict = {'name': 'John', 'age': 25}\n",
    "print(my_dict['address'])  # KeyError: 'address'"
   ]
  },
  {
   "cell_type": "markdown",
   "id": "b3c611a7-b5df-4215-99c1-47624c53ec0f",
   "metadata": {},
   "source": [
    "`FileNotFoundError`: 존재하지 않는 파일을 열려고 할 때 발생."
   ]
  },
  {
   "cell_type": "code",
   "execution_count": 29,
   "id": "3a044a90-7b43-4062-aee9-cea2ce9a26ba",
   "metadata": {},
   "outputs": [
    {
     "ename": "FileNotFoundError",
     "evalue": "[Errno 2] No such file or directory: 'nonexistent_file.txt'",
     "output_type": "error",
     "traceback": [
      "\u001b[0;31m---------------------------------------------------------------------------\u001b[0m",
      "\u001b[0;31mFileNotFoundError\u001b[0m                         Traceback (most recent call last)",
      "Cell \u001b[0;32mIn[29], line 1\u001b[0m\n\u001b[0;32m----> 1\u001b[0m file \u001b[38;5;241m=\u001b[39m \u001b[38;5;28;43mopen\u001b[39;49m\u001b[43m(\u001b[49m\u001b[38;5;124;43m'\u001b[39;49m\u001b[38;5;124;43mnonexistent_file.txt\u001b[39;49m\u001b[38;5;124;43m'\u001b[39;49m\u001b[43m)\u001b[49m  \u001b[38;5;66;03m# FileNotFoundError: [Errno 2] No such file or directory: 'nonexistent_file.txt'\u001b[39;00m\n",
      "File \u001b[0;32m~/anaconda3/envs/py38/lib/python3.8/site-packages/IPython/core/interactiveshell.py:284\u001b[0m, in \u001b[0;36m_modified_open\u001b[0;34m(file, *args, **kwargs)\u001b[0m\n\u001b[1;32m    277\u001b[0m \u001b[38;5;28;01mif\u001b[39;00m file \u001b[38;5;129;01min\u001b[39;00m {\u001b[38;5;241m0\u001b[39m, \u001b[38;5;241m1\u001b[39m, \u001b[38;5;241m2\u001b[39m}:\n\u001b[1;32m    278\u001b[0m     \u001b[38;5;28;01mraise\u001b[39;00m \u001b[38;5;167;01mValueError\u001b[39;00m(\n\u001b[1;32m    279\u001b[0m         \u001b[38;5;124mf\u001b[39m\u001b[38;5;124m\"\u001b[39m\u001b[38;5;124mIPython won\u001b[39m\u001b[38;5;124m'\u001b[39m\u001b[38;5;124mt let you open fd=\u001b[39m\u001b[38;5;132;01m{\u001b[39;00mfile\u001b[38;5;132;01m}\u001b[39;00m\u001b[38;5;124m by default \u001b[39m\u001b[38;5;124m\"\u001b[39m\n\u001b[1;32m    280\u001b[0m         \u001b[38;5;124m\"\u001b[39m\u001b[38;5;124mas it is likely to crash IPython. If you know what you are doing, \u001b[39m\u001b[38;5;124m\"\u001b[39m\n\u001b[1;32m    281\u001b[0m         \u001b[38;5;124m\"\u001b[39m\u001b[38;5;124myou can use builtins\u001b[39m\u001b[38;5;124m'\u001b[39m\u001b[38;5;124m open.\u001b[39m\u001b[38;5;124m\"\u001b[39m\n\u001b[1;32m    282\u001b[0m     )\n\u001b[0;32m--> 284\u001b[0m \u001b[38;5;28;01mreturn\u001b[39;00m \u001b[43mio_open\u001b[49m\u001b[43m(\u001b[49m\u001b[43mfile\u001b[49m\u001b[43m,\u001b[49m\u001b[43m \u001b[49m\u001b[38;5;241;43m*\u001b[39;49m\u001b[43margs\u001b[49m\u001b[43m,\u001b[49m\u001b[43m \u001b[49m\u001b[38;5;241;43m*\u001b[39;49m\u001b[38;5;241;43m*\u001b[39;49m\u001b[43mkwargs\u001b[49m\u001b[43m)\u001b[49m\n",
      "\u001b[0;31mFileNotFoundError\u001b[0m: [Errno 2] No such file or directory: 'nonexistent_file.txt'"
     ]
    }
   ],
   "source": [
    "file = open('nonexistent_file.txt')  # FileNotFoundError: [Errno 2] No such file or directory: 'nonexistent_file.txt'"
   ]
  },
  {
   "cell_type": "markdown",
   "id": "7f930774-7bd9-44cf-a780-24c5f1b2d486",
   "metadata": {},
   "source": [
    "`ZeroDivisionError`: 0으로 나누기 연산을 수행하려고 할 때 발생."
   ]
  },
  {
   "cell_type": "code",
   "execution_count": 30,
   "id": "2ef3e60e-56d3-487a-a26e-4a8865f14654",
   "metadata": {},
   "outputs": [
    {
     "ename": "ZeroDivisionError",
     "evalue": "division by zero",
     "output_type": "error",
     "traceback": [
      "\u001b[0;31m---------------------------------------------------------------------------\u001b[0m",
      "\u001b[0;31mZeroDivisionError\u001b[0m                         Traceback (most recent call last)",
      "Cell \u001b[0;32mIn[30], line 1\u001b[0m\n\u001b[0;32m----> 1\u001b[0m result \u001b[38;5;241m=\u001b[39m \u001b[38;5;241;43m10\u001b[39;49m\u001b[43m \u001b[49m\u001b[38;5;241;43m/\u001b[39;49m\u001b[43m \u001b[49m\u001b[38;5;241;43m0\u001b[39;49m  \u001b[38;5;66;03m# ZeroDivisionError: division by zero\u001b[39;00m\n",
      "\u001b[0;31mZeroDivisionError\u001b[0m: division by zero"
     ]
    }
   ],
   "source": [
    "result = 10 / 0  # ZeroDivisionError: division by zero"
   ]
  },
  {
   "cell_type": "markdown",
   "id": "729ab2a8-b4e3-414e-b095-d2de19f52e7a",
   "metadata": {},
   "source": [
    "## B. `TypeError`에 대한 심층분석"
   ]
  },
  {
   "cell_type": "markdown",
   "id": "683e4571-ad6e-407e-a7df-7161650b4a67",
   "metadata": {},
   "source": [
    "`-` `.__add__` 가 올바르게 정의되지 않아서 생기는 경우"
   ]
  },
  {
   "cell_type": "code",
   "execution_count": 290,
   "id": "56f9aeb2-0a98-4b78-acb2-e8ff3e1a42b9",
   "metadata": {
    "tags": []
   },
   "outputs": [],
   "source": [
    "class StudentWrong:\n",
    "    def __init__(self,age=20.0, semester=0):\n",
    "        self.age = age \n",
    "        self.semester = semester\n",
    "        print(f\"입학을 축하합니다. 당신의 나이는 {self.age}이고 현재 학기는 {self.semester}학기 입니다.\")\n",
    "    def __repr__(self):\n",
    "        text = f\"나이: {self.age}\\n학기: {self.semester}\"\n",
    "        return text\n",
    "    def __add__(self,registration_status):\n",
    "        if registration_status == \"휴학\":\n",
    "            self.age = self.age +0.5 \n",
    "        elif registration_status == \"등록\":\n",
    "            self.age = self.age +0.5 \n",
    "            self.semester = self.semester + 1"
   ]
  },
  {
   "cell_type": "code",
   "execution_count": 291,
   "id": "72132d12-463e-4304-bac1-88431337c0d6",
   "metadata": {
    "tags": []
   },
   "outputs": [
    {
     "name": "stdout",
     "output_type": "stream",
     "text": [
      "입학을 축하합니다. 당신의 나이는 20.0이고 현재 학기는 0학기 입니다.\n"
     ]
    },
    {
     "ename": "TypeError",
     "evalue": "unsupported operand type(s) for +: 'NoneType' and 'str'",
     "output_type": "error",
     "traceback": [
      "\u001b[0;31m---------------------------------------------------------------------------\u001b[0m",
      "\u001b[0;31mTypeError\u001b[0m                                 Traceback (most recent call last)",
      "Cell \u001b[0;32mIn[291], line 2\u001b[0m\n\u001b[1;32m      1\u001b[0m seoyeon \u001b[38;5;241m=\u001b[39m StudentWrong()\n\u001b[0;32m----> 2\u001b[0m seoyeon \u001b[38;5;241m+\u001b[39m \u001b[38;5;124m\"\u001b[39m\u001b[38;5;124m등록\u001b[39m\u001b[38;5;124m\"\u001b[39m \u001b[38;5;241m+\u001b[39m \u001b[38;5;124m\"\u001b[39m\u001b[38;5;124m등록\u001b[39m\u001b[38;5;124m\"\u001b[39m\n",
      "\u001b[0;31mTypeError\u001b[0m: unsupported operand type(s) for +: 'NoneType' and 'str'"
     ]
    }
   ],
   "source": [
    "seoyeon = StudentWrong()\n",
    "seoyeon + \"등록\" + \"등록\""
   ]
  },
  {
   "cell_type": "markdown",
   "id": "200aead2-6750-4f72-aab7-0ddbe21d42e2",
   "metadata": {},
   "source": [
    "`-` `.__getitem__`이 정의되지 않은 오브젝트에서 인덱싱을 시도할때 생기는 오류 "
   ]
  },
  {
   "cell_type": "code",
   "execution_count": 295,
   "id": "a1c9520e-2f1e-49e1-b42c-103729c3e43c",
   "metadata": {
    "tags": []
   },
   "outputs": [
    {
     "ename": "TypeError",
     "evalue": "'Dummy' object is not subscriptable",
     "output_type": "error",
     "traceback": [
      "\u001b[0;31m---------------------------------------------------------------------------\u001b[0m",
      "\u001b[0;31mTypeError\u001b[0m                                 Traceback (most recent call last)",
      "Cell \u001b[0;32mIn[295], line 4\u001b[0m\n\u001b[1;32m      2\u001b[0m     \u001b[38;5;28;01mpass\u001b[39;00m \n\u001b[1;32m      3\u001b[0m a \u001b[38;5;241m=\u001b[39m Dummy()\n\u001b[0;32m----> 4\u001b[0m a[\u001b[38;5;241m0\u001b[39m]\n",
      "\u001b[0;31mTypeError\u001b[0m: 'Dummy' object is not subscriptable"
     ]
    }
   ],
   "source": [
    "class Dummy:\n",
    "    pass \n",
    "a = Dummy()\n",
    "a[0]"
   ]
  },
  {
   "cell_type": "markdown",
   "id": "2678d689-8ae3-442a-87c1-5658504a4a4a",
   "metadata": {},
   "source": [
    "`-` `.__setitem__`이 정의되지 않은 오브젝트에서 할당을 시도할때 생기는 오류 "
   ]
  },
  {
   "cell_type": "code",
   "execution_count": 296,
   "id": "5e50f329-87bc-4f55-bfa9-b13ed051ac3c",
   "metadata": {
    "tags": []
   },
   "outputs": [
    {
     "ename": "TypeError",
     "evalue": "'Dummy' object does not support item assignment",
     "output_type": "error",
     "traceback": [
      "\u001b[0;31m---------------------------------------------------------------------------\u001b[0m",
      "\u001b[0;31mTypeError\u001b[0m                                 Traceback (most recent call last)",
      "Cell \u001b[0;32mIn[296], line 4\u001b[0m\n\u001b[1;32m      2\u001b[0m     \u001b[38;5;28;01mpass\u001b[39;00m \n\u001b[1;32m      3\u001b[0m a \u001b[38;5;241m=\u001b[39m Dummy()\n\u001b[0;32m----> 4\u001b[0m a[\u001b[38;5;241m0\u001b[39m] \u001b[38;5;241m=\u001b[39m \u001b[38;5;241m5\u001b[39m\n",
      "\u001b[0;31mTypeError\u001b[0m: 'Dummy' object does not support item assignment"
     ]
    }
   ],
   "source": [
    "class Dummy:\n",
    "    pass \n",
    "a = Dummy()\n",
    "a[0] = 5"
   ]
  },
  {
   "cell_type": "markdown",
   "id": "52ff58dc-02e1-4ac2-af02-f8dbf4b713cb",
   "metadata": {},
   "source": [
    "`-` `.__len__` 이 정의되지 않은 오브젝트에서 len을 이용할때 생기는 오류 "
   ]
  },
  {
   "cell_type": "code",
   "execution_count": 298,
   "id": "80343326-ed9a-4916-b79b-b0e98b6a5034",
   "metadata": {
    "tags": []
   },
   "outputs": [
    {
     "ename": "TypeError",
     "evalue": "object of type 'Dummy' has no len()",
     "output_type": "error",
     "traceback": [
      "\u001b[0;31m---------------------------------------------------------------------------\u001b[0m",
      "\u001b[0;31mTypeError\u001b[0m                                 Traceback (most recent call last)",
      "Cell \u001b[0;32mIn[298], line 4\u001b[0m\n\u001b[1;32m      2\u001b[0m     \u001b[38;5;28;01mpass\u001b[39;00m \n\u001b[1;32m      3\u001b[0m a \u001b[38;5;241m=\u001b[39m Dummy()\n\u001b[0;32m----> 4\u001b[0m \u001b[38;5;28mlen\u001b[39m(a)\n",
      "\u001b[0;31mTypeError\u001b[0m: object of type 'Dummy' has no len()"
     ]
    }
   ],
   "source": [
    "class Dummy:\n",
    "    pass \n",
    "a = Dummy()\n",
    "len(a)"
   ]
  },
  {
   "cell_type": "markdown",
   "id": "9df77b27-5b87-4a97-b6a3-e4298f5021b0",
   "metadata": {},
   "source": [
    "`-` `.__call__`이 정의되지 않은 오브젝트를 함수처럼 이용하려 할때 생기는 오류 "
   ]
  },
  {
   "cell_type": "code",
   "execution_count": 300,
   "id": "fe1330ea-faa3-42f0-9831-838f14964aa0",
   "metadata": {
    "tags": []
   },
   "outputs": [
    {
     "ename": "TypeError",
     "evalue": "'Dummy' object is not callable",
     "output_type": "error",
     "traceback": [
      "\u001b[0;31m---------------------------------------------------------------------------\u001b[0m",
      "\u001b[0;31mTypeError\u001b[0m                                 Traceback (most recent call last)",
      "Cell \u001b[0;32mIn[300], line 4\u001b[0m\n\u001b[1;32m      2\u001b[0m     \u001b[38;5;28;01mpass\u001b[39;00m \n\u001b[1;32m      3\u001b[0m a \u001b[38;5;241m=\u001b[39m Dummy()\n\u001b[0;32m----> 4\u001b[0m a()\n",
      "\u001b[0;31mTypeError\u001b[0m: 'Dummy' object is not callable"
     ]
    }
   ],
   "source": [
    "class Dummy:\n",
    "    pass \n",
    "a = Dummy()\n",
    "a()"
   ]
  },
  {
   "cell_type": "markdown",
   "id": "b3c3ba37-94b4-45ec-85dd-65fa66577d19",
   "metadata": {},
   "source": [
    "`-` `.__iter__`가 정의되지 않은 오브젝트를 iterable 오브젝트처럼 사용하려 할때 생기는 오류"
   ]
  },
  {
   "cell_type": "code",
   "execution_count": 301,
   "id": "365d0161-e4ad-4a34-8c4b-6436ff649554",
   "metadata": {
    "tags": []
   },
   "outputs": [
    {
     "ename": "TypeError",
     "evalue": "'Dummy' object is not iterable",
     "output_type": "error",
     "traceback": [
      "\u001b[0;31m---------------------------------------------------------------------------\u001b[0m",
      "\u001b[0;31mTypeError\u001b[0m                                 Traceback (most recent call last)",
      "Cell \u001b[0;32mIn[301], line 4\u001b[0m\n\u001b[1;32m      2\u001b[0m     \u001b[38;5;28;01mpass\u001b[39;00m \n\u001b[1;32m      3\u001b[0m a \u001b[38;5;241m=\u001b[39m Dummy()\n\u001b[0;32m----> 4\u001b[0m \u001b[38;5;28;01mfor\u001b[39;00m i \u001b[38;5;129;01min\u001b[39;00m a:\n\u001b[1;32m      5\u001b[0m     \u001b[38;5;28mprint\u001b[39m(i)\n",
      "\u001b[0;31mTypeError\u001b[0m: 'Dummy' object is not iterable"
     ]
    }
   ],
   "source": [
    "class Dummy:\n",
    "    pass \n",
    "a = Dummy()\n",
    "for i in a:\n",
    "    print(i)"
   ]
  },
  {
   "cell_type": "markdown",
   "id": "3a52b751-a0ea-44d4-b191-eae3e8bd5987",
   "metadata": {},
   "source": [
    "# Appedix: 다루지 못한 주제들 "
   ]
  },
  {
   "cell_type": "markdown",
   "id": "c9ff927d-dc30-440e-bb19-6bd876df5c4d",
   "metadata": {
    "tags": []
   },
   "source": [
    "## A. 모듈\n",
    "\n",
    "```Python\n",
    "1. .ipynb 파일이 아니라 .py 파일은 뭐지?\n",
    "2. from ?? import ?? as ?? 이런거 어렵다면?? \n",
    "3. __init__.py --> 이게 보인다면?\n",
    "\n",
    "```"
   ]
  },
  {
   "cell_type": "markdown",
   "id": "3c992f4a-5dac-49f1-876f-ccd7fec65cd2",
   "metadata": {},
   "source": [
    "## B. 스크립트실행 \n",
    "\n",
    "```Python \n",
    "1. 터미널(검은화면)에서 python ??.py 같은걸 실행하는걸 본다면??\n",
    "2. if __name__ == \"__main__\": --> 이런게 보인다면?\n",
    "```"
   ]
  },
  {
   "cell_type": "markdown",
   "id": "eb3035e4-8d46-46e5-97b2-186477c726a1",
   "metadata": {},
   "source": [
    "## C. 패키지 제작, 설치\n",
    "\n",
    "```Python\n",
    "1. 깃허브에서 setup.py 보인다면?? \n",
    "2. pip install 이런걸 알고 싶다면??\n",
    "3. conda install 이런걸 알고 싶다면??\n",
    "```"
   ]
  },
  {
   "cell_type": "markdown",
   "id": "d3fbe64c-7eae-485d-a5cb-8cbdab809016",
   "metadata": {},
   "source": [
    "## D. with\n",
    "\n",
    "```Python\n",
    "1. 파일열거나 불러올때 많이씀\n",
    "2. plt.plot 등을 사용할때 테마변경.. \n",
    "3. tensorflow 배울때 with를 모르면 gradient tape의 개념을 이해할 수 없음... \n",
    "```"
   ]
  },
  {
   "cell_type": "markdown",
   "id": "2547d2c0-c34e-48dc-b8a2-833a320ee744",
   "metadata": {},
   "source": [
    "## E. 깊은복사, 얕은복사 \n",
    "\n",
    "```Python\n",
    "1. 아래와 같은 얶까 당할때 있음.. 절대 어디가 틀린지 모름.. \n",
    "2. 가능하다면 그냥 모르고 사는게 행복함. \n",
    "```"
   ]
  },
  {
   "cell_type": "markdown",
   "id": "d6de769a-9baa-4b2f-b0c1-f017a96ea829",
   "metadata": {},
   "source": [
    "`-` 예시1"
   ]
  },
  {
   "cell_type": "code",
   "execution_count": 196,
   "id": "58182554-e4e0-4716-b084-f8aebd9b9c9f",
   "metadata": {
    "tags": []
   },
   "outputs": [
    {
     "data": {
      "text/plain": [
       "[1, 2, 3, 4]"
      ]
     },
     "execution_count": 196,
     "metadata": {},
     "output_type": "execute_result"
    }
   ],
   "source": [
    "a = [1,2,3]\n",
    "b = a \n",
    "b.append(4)\n",
    "b"
   ]
  },
  {
   "cell_type": "code",
   "execution_count": 197,
   "id": "35076ab5-2aba-4d3b-855b-4e26bcbe98f7",
   "metadata": {
    "tags": []
   },
   "outputs": [
    {
     "data": {
      "text/plain": [
       "[1, 2, 3, 4]"
      ]
     },
     "execution_count": 197,
     "metadata": {},
     "output_type": "execute_result"
    }
   ],
   "source": [
    "a"
   ]
  },
  {
   "cell_type": "markdown",
   "id": "faed8b5f-e911-4a4e-90f4-94fa97be6770",
   "metadata": {},
   "source": [
    "`#`"
   ]
  },
  {
   "cell_type": "markdown",
   "id": "6e03a296-022f-4196-b039-de8d39f64fb0",
   "metadata": {},
   "source": [
    "`-` 예시2"
   ]
  },
  {
   "cell_type": "code",
   "execution_count": 200,
   "id": "e2646ac1-1add-4b0a-9456-d7e05eb766ac",
   "metadata": {
    "tags": []
   },
   "outputs": [
    {
     "data": {
      "text/plain": [
       "([1, 1, 2, 3], [1])"
      ]
     },
     "execution_count": 200,
     "metadata": {},
     "output_type": "execute_result"
    }
   ],
   "source": [
    "a = [1] \n",
    "b = a \n",
    "a = a+[1] \n",
    "a = a+[2]\n",
    "a = a+[3] \n",
    "a,b"
   ]
  },
  {
   "cell_type": "code",
   "execution_count": 201,
   "id": "dc2cc9fe-7eaf-4aa3-ab9c-ccd7aa3e6316",
   "metadata": {
    "tags": []
   },
   "outputs": [
    {
     "data": {
      "text/plain": [
       "([1, 1, 2, 3], [1, 1, 2, 3])"
      ]
     },
     "execution_count": 201,
     "metadata": {},
     "output_type": "execute_result"
    }
   ],
   "source": [
    "a = [1] \n",
    "b = a \n",
    "a += [1] \n",
    "a += [2]\n",
    "a += [3] \n",
    "a,b"
   ]
  },
  {
   "cell_type": "markdown",
   "id": "3b354fd9-fb4c-47cf-8f9d-562d1f340ebc",
   "metadata": {},
   "source": [
    "`#`"
   ]
  },
  {
   "cell_type": "markdown",
   "id": "352d6385-4f96-4b47-b62b-db43e6d42e75",
   "metadata": {},
   "source": [
    "## G. 시각화 "
   ]
  },
  {
   "cell_type": "markdown",
   "id": "fe11a034-0697-4b9a-8369-11eed77059ce",
   "metadata": {
    "tags": []
   },
   "source": [
    "```Python\n",
    "1. import matplotlib.pyplot as plt\n",
    "2. import seaborn as sns \n",
    "3. from plotnine import * \n",
    "4. import plotly.express as px \n",
    "```"
   ]
  },
  {
   "cell_type": "markdown",
   "id": "a47d13ba-891c-4365-8551-0333c5a99b19",
   "metadata": {},
   "source": [
    "## H. 판다스 "
   ]
  },
  {
   "cell_type": "markdown",
   "id": "1b5f02aa-abcb-4b19-8658-092f0c3230eb",
   "metadata": {},
   "source": [
    "## I. 에러관리 "
   ]
  },
  {
   "cell_type": "markdown",
   "id": "28be900a-6b43-4b2b-8821-893a84c300ec",
   "metadata": {
    "tags": []
   },
   "source": [
    "```Python\n",
    "1. try, except, finally\n",
    "2. raise\n",
    "```"
   ]
  },
  {
   "cell_type": "markdown",
   "id": "a32ecc47-45aa-4b25-aa2e-f7af2965d746",
   "metadata": {},
   "source": [
    "## J. collection "
   ]
  },
  {
   "cell_type": "markdown",
   "id": "9a3d9efc-a5d3-491e-a83e-d98683ec8d05",
   "metadata": {
    "tags": []
   },
   "source": [
    "```Python \n",
    "1. from collections import Counter \n",
    "2. from collections import deque\n",
    "3. from collections import OrderedDict\n",
    "4. from collections import defaultdict\n",
    "5. from collections import namedtuple\n",
    "```"
   ]
  },
  {
   "cell_type": "code",
   "execution_count": 206,
   "id": "c599d6a3-7fce-444d-98fa-3daf6c60d7d7",
   "metadata": {
    "tags": []
   },
   "outputs": [
    {
     "data": {
      "text/plain": [
       "Counter({'a': 3, 'b': 2, 'c': 1})"
      ]
     },
     "execution_count": 206,
     "metadata": {},
     "output_type": "execute_result"
    }
   ],
   "source": [
    "from collections import Counter\n",
    "\n",
    "elements = ['a', 'b', 'c', 'a', 'b', 'a']\n",
    "counter = Counter(elements)\n",
    "counter"
   ]
  },
  {
   "cell_type": "markdown",
   "id": "4ff04412-43e6-448b-a65d-2aef08e6f576",
   "metadata": {},
   "source": [
    "## K. 기타 유용한 내장패키지"
   ]
  },
  {
   "cell_type": "markdown",
   "id": "5b741b80-fd71-4720-b1cf-2969192e5845",
   "metadata": {},
   "source": [
    "```Python\n",
    "1. import bisec\n",
    "2. import heapq\n",
    "```"
   ]
  }
 ],
 "metadata": {
  "kernelspec": {
   "display_name": "Python 3 (ipykernel)",
   "language": "python",
   "name": "python3"
  },
  "language_info": {
   "codemirror_mode": {
    "name": "ipython",
    "version": 3
   },
   "file_extension": ".py",
   "mimetype": "text/x-python",
   "name": "python",
   "nbconvert_exporter": "python",
   "pygments_lexer": "ipython3",
   "version": "3.11.8"
  }
 },
 "nbformat": 4,
 "nbformat_minor": 5
}
