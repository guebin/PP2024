{
 "cells": [
  {
   "cell_type": "raw",
   "id": "843dd221-5e3a-4014-8af2-71c3ee3969b2",
   "metadata": {
    "id": "87b5cded-346b-4915-acf5-b5ec93a5207d"
   },
   "source": [
    "---\n",
    "title: \"03wk-2: 리스트는 쓰레기인가?\"\n",
    "author: \"최규빈\"\n",
    "date: \"03/22/2024\"\n",
    "draft: false\n",
    "---"
   ]
  },
  {
   "cell_type": "markdown",
   "id": "454a78f1-110a-42e2-adf5-c4b0bc7f7968",
   "metadata": {
    "id": "e67ab8e0"
   },
   "source": [
    "<a href=\"https://colab.research.google.com/github/guebin/PP2024/blob/main/posts/03wk-2.ipynb\"><img src=\"https://colab.research.google.com/assets/colab-badge.svg\" style=\"text-align: left\"></a>"
   ]
  },
  {
   "cell_type": "markdown",
   "id": "74bfb71b-66b1-4abb-b1b0-45f8471c1e1b",
   "metadata": {},
   "source": [
    "# 1. 강의영상 "
   ]
  },
  {
   "cell_type": "markdown",
   "id": "7dd5e180-b56b-4c13-9c74-dc5ef7b2548d",
   "metadata": {
    "tags": []
   },
   "source": [
    "{{<video https://youtu.be/playlist?list=PLQqh36zP38-wp0X7gOJ2iQQXWL8m2wuIE&si=le4Ph18l9-kv7br3 >}}"
   ]
  },
  {
   "cell_type": "markdown",
   "id": "8b93ce37-1c9f-49fd-9905-ba4b62ffed74",
   "metadata": {},
   "source": [
    "# 2. Imports"
   ]
  },
  {
   "cell_type": "code",
   "execution_count": 1,
   "id": "c9057763-4fe0-485d-b00a-e74ded37f5a6",
   "metadata": {},
   "outputs": [],
   "source": [
    "import numpy as np\n",
    "import matplotlib.pyplot as plt "
   ]
  },
  {
   "cell_type": "markdown",
   "id": "24da4093-2323-4207-84b4-5a1c46a4a4b1",
   "metadata": {},
   "source": [
    "# 3. 리스트는 쓰레기인가? "
   ]
  },
  {
   "cell_type": "markdown",
   "id": "538c47e7-2aae-4504-aa33-58dd0a800d7e",
   "metadata": {},
   "source": [
    "## A. 벡터화연산(브로드캐스팅) 불가능 "
   ]
  },
  {
   "cell_type": "markdown",
   "id": "91184620-6909-4266-96f8-39b66d3b140f",
   "metadata": {},
   "source": [
    "`-` 벡터화연산 불가능 (최악의 단점)"
   ]
  },
  {
   "cell_type": "code",
   "execution_count": 6,
   "id": "b9306300-9ce4-4ada-a8fa-3c64fe60d52a",
   "metadata": {},
   "outputs": [
    {
     "ename": "TypeError",
     "evalue": "can only concatenate list (not \"int\") to list",
     "output_type": "error",
     "traceback": [
      "\u001b[0;31m---------------------------------------------------------------------------\u001b[0m",
      "\u001b[0;31mTypeError\u001b[0m                                 Traceback (most recent call last)",
      "Cell \u001b[0;32mIn[6], line 2\u001b[0m\n\u001b[1;32m      1\u001b[0m lst \u001b[38;5;241m=\u001b[39m [\u001b[38;5;241m1\u001b[39m,\u001b[38;5;241m2\u001b[39m,\u001b[38;5;241m3\u001b[39m]\n\u001b[0;32m----> 2\u001b[0m \u001b[43mlst\u001b[49m\u001b[43m \u001b[49m\u001b[38;5;241;43m+\u001b[39;49m\u001b[43m \u001b[49m\u001b[38;5;241;43m1\u001b[39;49m\n",
      "\u001b[0;31mTypeError\u001b[0m: can only concatenate list (not \"int\") to list"
     ]
    }
   ],
   "source": [
    "lst = [1,2,3]\n",
    "lst + 1"
   ]
  },
  {
   "cell_type": "code",
   "execution_count": 7,
   "id": "57266e27-d2f3-4da3-b282-548b8c39c756",
   "metadata": {},
   "outputs": [
    {
     "data": {
      "text/plain": [
       "array([2, 3, 4])"
      ]
     },
     "execution_count": 7,
     "metadata": {},
     "output_type": "execute_result"
    }
   ],
   "source": [
    "arr = np.array([1,2,3])\n",
    "arr + 1"
   ]
  },
  {
   "cell_type": "markdown",
   "id": "4c6f3238-a38f-4cd7-930d-0651644c9643",
   "metadata": {},
   "source": [
    "## B. bool을 이용한 인덱싱이 불가능"
   ]
  },
  {
   "cell_type": "markdown",
   "id": "c1652d21-7d77-432c-b832-b5b396099153",
   "metadata": {},
   "source": [
    "`-` True, False 가 포함된 array를 이용한 인덱싱이 불가능하다. "
   ]
  },
  {
   "cell_type": "markdown",
   "id": "0dd1ace1-b450-461b-88bd-98b98045edc8",
   "metadata": {},
   "source": [
    "`-` 넘파이에서 bool을 이용한 인덱싱 "
   ]
  },
  {
   "cell_type": "code",
   "execution_count": 12,
   "id": "ab5eee03-d8ad-4975-840b-34b90a98a9cb",
   "metadata": {},
   "outputs": [
    {
     "data": {
      "text/plain": [
       "array([4, 5])"
      ]
     },
     "execution_count": 12,
     "metadata": {},
     "output_type": "execute_result"
    }
   ],
   "source": [
    "arr = np.array([1,2,3,4,5])\n",
    "arr[arr>3]"
   ]
  },
  {
   "cell_type": "markdown",
   "id": "62a47b21-3fd1-456b-8b8a-c1706e77ce9c",
   "metadata": {},
   "source": [
    "`-` 리스트는 불가능 "
   ]
  },
  {
   "cell_type": "code",
   "execution_count": 13,
   "id": "651c72aa-5652-43d8-93b5-bb17c1369f65",
   "metadata": {},
   "outputs": [
    {
     "ename": "TypeError",
     "evalue": "'>' not supported between instances of 'list' and 'int'",
     "output_type": "error",
     "traceback": [
      "\u001b[0;31m---------------------------------------------------------------------------\u001b[0m",
      "\u001b[0;31mTypeError\u001b[0m                                 Traceback (most recent call last)",
      "Cell \u001b[0;32mIn[13], line 2\u001b[0m\n\u001b[1;32m      1\u001b[0m lst \u001b[38;5;241m=\u001b[39m [\u001b[38;5;241m1\u001b[39m,\u001b[38;5;241m2\u001b[39m,\u001b[38;5;241m3\u001b[39m,\u001b[38;5;241m4\u001b[39m,\u001b[38;5;241m5\u001b[39m]\n\u001b[0;32m----> 2\u001b[0m lst[\u001b[43mlst\u001b[49m\u001b[38;5;241;43m>\u001b[39;49m\u001b[38;5;241;43m3\u001b[39;49m]\n",
      "\u001b[0;31mTypeError\u001b[0m: '>' not supported between instances of 'list' and 'int'"
     ]
    }
   ],
   "source": [
    "lst = [1,2,3,4,5]\n",
    "lst[lst>3]"
   ]
  },
  {
   "cell_type": "code",
   "execution_count": 14,
   "id": "4b89aa6a-9f3d-4c3f-8cb1-927a6405d258",
   "metadata": {},
   "outputs": [
    {
     "ename": "TypeError",
     "evalue": "'>' not supported between instances of 'list' and 'int'",
     "output_type": "error",
     "traceback": [
      "\u001b[0;31m---------------------------------------------------------------------------\u001b[0m",
      "\u001b[0;31mTypeError\u001b[0m                                 Traceback (most recent call last)",
      "Cell \u001b[0;32mIn[14], line 1\u001b[0m\n\u001b[0;32m----> 1\u001b[0m \u001b[43mlst\u001b[49m\u001b[38;5;241;43m>\u001b[39;49m\u001b[38;5;241;43m3\u001b[39;49m\n",
      "\u001b[0;31mTypeError\u001b[0m: '>' not supported between instances of 'list' and 'int'"
     ]
    }
   ],
   "source": [
    "lst>3"
   ]
  },
  {
   "cell_type": "markdown",
   "id": "a0b5227a-7315-4b7a-8a40-959b84054daf",
   "metadata": {},
   "source": [
    "## C. 넘파이 특화 메소드 사용불가능 "
   ]
  },
  {
   "cell_type": "markdown",
   "id": "42845bb1-013a-4309-a53c-792c64ad1489",
   "metadata": {},
   "source": [
    "`-` 넘파이 특화 메소드 "
   ]
  },
  {
   "cell_type": "code",
   "execution_count": 15,
   "id": "b8e8cda7-e55b-4652-8cd1-2d33fdd1b655",
   "metadata": {},
   "outputs": [
    {
     "data": {
      "text/plain": [
       "array([5, 4, 3, 2, 1])"
      ]
     },
     "execution_count": 15,
     "metadata": {},
     "output_type": "execute_result"
    }
   ],
   "source": [
    "arr = np.array([5,4,3,2,1])\n",
    "arr"
   ]
  },
  {
   "cell_type": "code",
   "execution_count": 23,
   "id": "566c0e1a-3e1d-4628-8704-3b43f36a6cbe",
   "metadata": {},
   "outputs": [
    {
     "data": {
      "text/plain": [
       "(1, 5, 3.0, 4, 0)"
      ]
     },
     "execution_count": 23,
     "metadata": {},
     "output_type": "execute_result"
    }
   ],
   "source": [
    "arr.min(), arr.max(), arr.mean(), arr.argmin(), arr.argmax()"
   ]
  },
  {
   "cell_type": "code",
   "execution_count": 25,
   "id": "debd202c-89ce-4891-9d63-564a4fd51858",
   "metadata": {},
   "outputs": [
    {
     "data": {
      "text/plain": [
       "array([1, 2, 3, 4, 5])"
      ]
     },
     "execution_count": 25,
     "metadata": {},
     "output_type": "execute_result"
    }
   ],
   "source": [
    "arr.sort()\n",
    "arr"
   ]
  },
  {
   "cell_type": "markdown",
   "id": "3252885c-fc6a-4beb-bd6f-4985468f6b3b",
   "metadata": {},
   "source": [
    "`-` 리스트는?"
   ]
  },
  {
   "cell_type": "code",
   "execution_count": 26,
   "id": "e62094a7-43a7-4f8b-8271-586432a4a857",
   "metadata": {},
   "outputs": [
    {
     "data": {
      "text/plain": [
       "[5, 4, 3, 2, 1]"
      ]
     },
     "execution_count": 26,
     "metadata": {},
     "output_type": "execute_result"
    }
   ],
   "source": [
    "lst = [5,4,3,2,1]\n",
    "lst"
   ]
  },
  {
   "cell_type": "code",
   "execution_count": 32,
   "id": "ba60bcdc-7cbd-4b4e-becb-61f9e8e93a8a",
   "metadata": {},
   "outputs": [
    {
     "ename": "AttributeError",
     "evalue": "'list' object has no attribute 'min'",
     "output_type": "error",
     "traceback": [
      "\u001b[0;31m---------------------------------------------------------------------------\u001b[0m",
      "\u001b[0;31mAttributeError\u001b[0m                            Traceback (most recent call last)",
      "Cell \u001b[0;32mIn[32], line 1\u001b[0m\n\u001b[0;32m----> 1\u001b[0m \u001b[43mlst\u001b[49m\u001b[38;5;241;43m.\u001b[39;49m\u001b[43mmin\u001b[49m(), lst\u001b[38;5;241m.\u001b[39mmax(), lst\u001b[38;5;241m.\u001b[39mmean(), lst\u001b[38;5;241m.\u001b[39margmin(), lst\u001b[38;5;241m.\u001b[39margmax()\n",
      "\u001b[0;31mAttributeError\u001b[0m: 'list' object has no attribute 'min'"
     ]
    }
   ],
   "source": [
    "lst.min(), lst.max(), lst.mean(), lst.argmin(), lst.argmax()"
   ]
  },
  {
   "cell_type": "code",
   "execution_count": 33,
   "id": "ffe529d4-fefc-484e-9f5f-72ddfcab4bc0",
   "metadata": {},
   "outputs": [
    {
     "data": {
      "text/plain": [
       "[1, 2, 3, 4, 5]"
      ]
     },
     "execution_count": 33,
     "metadata": {},
     "output_type": "execute_result"
    }
   ],
   "source": [
    "lst.sort()\n",
    "lst"
   ]
  },
  {
   "cell_type": "markdown",
   "id": "fa110924-4559-49c8-800d-839dbb3be764",
   "metadata": {},
   "source": [
    "`# 메소드란?` -- 자료형에 종속된 특수기술 "
   ]
  },
  {
   "cell_type": "code",
   "execution_count": 38,
   "id": "be9764bd-d550-4db2-9fcb-3082819c13d6",
   "metadata": {},
   "outputs": [
    {
     "data": {
      "text/plain": [
       "3"
      ]
     },
     "execution_count": 38,
     "metadata": {},
     "output_type": "execute_result"
    }
   ],
   "source": [
    "# 넘파이 특수기술\n",
    "arr = np.array([1,2,3])\n",
    "arr.max() # max(arr)로 해석"
   ]
  },
  {
   "cell_type": "code",
   "execution_count": 40,
   "id": "8affecab-1d54-406b-8176-d2296b39e47d",
   "metadata": {},
   "outputs": [
    {
     "ename": "AttributeError",
     "evalue": "'list' object has no attribute 'max'",
     "output_type": "error",
     "traceback": [
      "\u001b[0;31m---------------------------------------------------------------------------\u001b[0m",
      "\u001b[0;31mAttributeError\u001b[0m                            Traceback (most recent call last)",
      "Cell \u001b[0;32mIn[40], line 3\u001b[0m\n\u001b[1;32m      1\u001b[0m \u001b[38;5;66;03m# ?.max() 이런건 넘파이 특수기술 이니까 ?자리에 리스트일 경우는 실행안됨\u001b[39;00m\n\u001b[1;32m      2\u001b[0m lst \u001b[38;5;241m=\u001b[39m [\u001b[38;5;241m1\u001b[39m,\u001b[38;5;241m2\u001b[39m,\u001b[38;5;241m3\u001b[39m]\n\u001b[0;32m----> 3\u001b[0m \u001b[43mlst\u001b[49m\u001b[38;5;241;43m.\u001b[39;49m\u001b[43mmax\u001b[49m()\n",
      "\u001b[0;31mAttributeError\u001b[0m: 'list' object has no attribute 'max'"
     ]
    }
   ],
   "source": [
    "# ?.max() 이런건 넘파이 특수기술 이니까 ?자리에 리스트일 경우는 실행안됨\n",
    "lst = [1,2,3]\n",
    "lst.max() "
   ]
  },
  {
   "cell_type": "code",
   "execution_count": 50,
   "id": "bd0e85a5-ec03-4bfd-a589-1b421ac1cee7",
   "metadata": {},
   "outputs": [
    {
     "data": {
      "text/plain": [
       "[1, 2, 3, 4]"
      ]
     },
     "execution_count": 50,
     "metadata": {},
     "output_type": "execute_result"
    }
   ],
   "source": [
    "# 리스트의 특수기술 \n",
    "lst = [1,2,3]\n",
    "lst.append(4) # append(lst,4) 로 해석\n",
    "lst"
   ]
  },
  {
   "cell_type": "code",
   "execution_count": 51,
   "id": "4d94db36-8c67-43ee-9d1e-9694f5fe68d5",
   "metadata": {},
   "outputs": [
    {
     "data": {
      "text/plain": [
       "'Asdf'"
      ]
     },
     "execution_count": 51,
     "metadata": {},
     "output_type": "execute_result"
    }
   ],
   "source": [
    "# 문자열 특수기술\n",
    "s = 'asdf'\n",
    "s.capitalize() # capitalize(s) 로 해석"
   ]
  },
  {
   "cell_type": "code",
   "execution_count": 62,
   "id": "c5dc6fc7-6f37-4638-9d2b-b9aa1a2dee60",
   "metadata": {},
   "outputs": [
    {
     "data": {
      "text/plain": [
       "'x-y-z'"
      ]
     },
     "execution_count": 62,
     "metadata": {},
     "output_type": "execute_result"
    }
   ],
   "source": [
    "# 문자열 특수기술\n",
    "s = '-'\n",
    "lst = ['x','y','z']\n",
    "s.join(lst) # join(s,lst) 로 해석"
   ]
  },
  {
   "cell_type": "markdown",
   "id": "407299d1-be00-4bad-9c11-b540dd96e9e1",
   "metadata": {},
   "source": [
    "- `join(s,lst)`의 뜻: lst의 각 원소를 모두 \"이어서\" 하나의 문자열로 만들어라. 단, 원소간의 구분은 `s`에 저장된 문자열로 하라. "
   ]
  },
  {
   "cell_type": "code",
   "execution_count": 68,
   "id": "d28ced3e-37d8-425e-b485-22ead4b081bf",
   "metadata": {},
   "outputs": [
    {
     "data": {
      "text/plain": [
       "'xyz'"
      ]
     },
     "execution_count": 68,
     "metadata": {},
     "output_type": "execute_result"
    }
   ],
   "source": [
    "# 문자열 특수기술 응용\n",
    "''.join(['x','y','z'])"
   ]
  },
  {
   "cell_type": "code",
   "execution_count": 75,
   "id": "c395fe77-3efe-4599-9a6a-4e6c1a8f1c8e",
   "metadata": {},
   "outputs": [
    {
     "data": {
      "text/plain": [
       "'제 이름은 최규빈 입니다.'"
      ]
     },
     "execution_count": 75,
     "metadata": {},
     "output_type": "execute_result"
    }
   ],
   "source": [
    "# 문자열 특수기능 \n",
    "s = \"제 이름은 {} 입니다.\" \n",
    "name = \"최규빈\"\n",
    "s.format(name) # format(s,name)"
   ]
  },
  {
   "cell_type": "markdown",
   "id": "f45c8a18-6174-4924-bc7e-99e2b88c911e",
   "metadata": {},
   "source": [
    "- `format(s,name)`의 뜻: s라는 문자열의 포맷에 `{}` 자리에 name을 끼워넣어라. "
   ]
  },
  {
   "cell_type": "markdown",
   "id": "4082f1bf-b0e3-4e1d-bbf1-337faedb253f",
   "metadata": {},
   "source": [
    "## D. 파이썬에서 쓰레기 같은 자료형은 없다. "
   ]
  },
  {
   "cell_type": "markdown",
   "id": "3ff92b97-ddf9-44c3-bc38-21e979894765",
   "metadata": {},
   "source": [
    "`-` 파이썬에는 각 자료형마다 사용할 수 있는 고유기술(=메소드)이나 문법이 있음. "
   ]
  },
  {
   "cell_type": "markdown",
   "id": "9b8ebd77-b49e-406c-a0c0-8aa919988e09",
   "metadata": {},
   "source": [
    "`-` 내가 생각할 때 리스트는 필요없는 자료형이야 = 난 리스트만 가지고 있는 어떠한 고유특징을 활용하지 못해."
   ]
  },
  {
   "cell_type": "markdown",
   "id": "682e0fc9-646a-4ca4-9d6c-6fd7a2932167",
   "metadata": {},
   "source": [
    "`-` 파이썬을 잘 하려면 자료형에 따른 고유 특징을 이해하고 활용할 줄 알아야 한다. \n",
    "\n",
    "- 기본자료형: str, list, tuple, dict, set -- 이러한 자료형을 이해하고 기능을 활용해야함\n",
    "- 모듈: 넘파이배열, 판다스 "
   ]
  },
  {
   "cell_type": "markdown",
   "id": "ee2d3d78-3168-4e98-bed5-58634d4a1857",
   "metadata": {},
   "source": [
    "# 4. 2024년 수능 -- 확통 23"
   ]
  },
  {
   "cell_type": "markdown",
   "id": "b6c41125-9fd0-4770-9a4b-12d7522c3b22",
   "metadata": {},
   "source": [
    "## A. 문제파악 "
   ]
  },
  {
   "cell_type": "markdown",
   "id": "75b8daab-a4d4-4192-91d4-7241b845836a",
   "metadata": {},
   "source": [
    "![](https://github.com/guebin/PP2024/blob/main/imgs/2024-수능-확통-23.png?raw=true)"
   ]
  },
  {
   "cell_type": "markdown",
   "id": "b136723a-aec2-4bbf-8dc2-bd4410ad71f9",
   "metadata": {},
   "source": [
    "`-` 기존의 문제들과 다르게 numpy를 이용하여 풀기는 어려울 것 같다. 뭔가 기존문제들과 결이 다름 "
   ]
  },
  {
   "cell_type": "markdown",
   "id": "5121ff21-6f1b-489f-bb82-04a17a0766c2",
   "metadata": {},
   "source": [
    "`-` 그런데 코딩으로 해결가능할 것 같긴 함 "
   ]
  },
  {
   "cell_type": "markdown",
   "id": "80870d9d-65c7-4502-82a8-fb94b425bb4a",
   "metadata": {},
   "source": [
    "## B. 슈도알고리즘"
   ]
  },
  {
   "cell_type": "markdown",
   "id": "961933f7-2a57-4354-8d52-3aebce865f07",
   "metadata": {},
   "source": [
    "`1.` 편의상 $[x,x,y,y,z]$를 $[x_1,x_2,y_1,y_2,z]$와 같이 생각하고 나열한다. (5! = 120 개만큼 경우가 나열되겠지)"
   ]
  },
  {
   "cell_type": "markdown",
   "id": "1d559b36-2136-4daf-a484-5e8d3b21858e",
   "metadata": {},
   "source": [
    "`2.` 중복을 제거한다. 즉 아래는 모두 같은 경우로 생각한다. \n",
    "\n",
    "- $[x_1,x_2,y_1,y_2,z]$\n",
    "- $[x_1,x_2,y_2,y_1,z]$\n",
    "- $[x_2,x_1,y_1,y_2,z]$\n",
    "- $[x_2,x_1,y_2,y_1,z]$\n"
   ]
  },
  {
   "cell_type": "markdown",
   "id": "504ce0e8-acd5-4708-b422-df6212f32599",
   "metadata": {},
   "source": [
    "## C. 예비학습"
   ]
  },
  {
   "cell_type": "markdown",
   "id": "55944319-a310-4524-8386-db70a3df1c60",
   "metadata": {},
   "source": [
    "`# 개념1` -- 집합이라는 자료형이 있음. "
   ]
  },
  {
   "cell_type": "code",
   "execution_count": 11,
   "id": "432033f4-0afd-40cc-8023-3e5863963871",
   "metadata": {},
   "outputs": [
    {
     "data": {
      "text/plain": [
       "set"
      ]
     },
     "execution_count": 11,
     "metadata": {},
     "output_type": "execute_result"
    }
   ],
   "source": [
    "a = {1,2,3}\n",
    "type(a)"
   ]
  },
  {
   "cell_type": "markdown",
   "id": "b68d872e-1f07-45fa-8f94-1b6cdef420e2",
   "metadata": {},
   "source": [
    "그런데 집합은 중복된 원소를 포함하지 않았음 (중학교때 배운듯) "
   ]
  },
  {
   "cell_type": "code",
   "execution_count": 13,
   "id": "1542e21c-d687-4c48-9589-dc457ae44d3f",
   "metadata": {},
   "outputs": [
    {
     "data": {
      "text/plain": [
       "{1, 2, 3}"
      ]
     },
     "execution_count": 13,
     "metadata": {},
     "output_type": "execute_result"
    }
   ],
   "source": [
    "a = {1,2,3,3,3}\n",
    "a"
   ]
  },
  {
   "cell_type": "markdown",
   "id": "657b73ec-263e-4a31-a60b-04a232501507",
   "metadata": {},
   "source": [
    "`#`"
   ]
  },
  {
   "cell_type": "markdown",
   "id": "acff29ad-2037-41bc-a8ca-51b0b424adfb",
   "metadata": {},
   "source": [
    "`# 개념2` -- 자료형변환을 이용하여 중복된 원소를 제거 "
   ]
  },
  {
   "cell_type": "markdown",
   "id": "f8e22c3a-7cb1-4b1a-81f8-01c530422132",
   "metadata": {},
   "source": [
    "아래와 같은 자료형이 있다고 하자. "
   ]
  },
  {
   "cell_type": "code",
   "execution_count": 14,
   "id": "e369db23-87be-4644-8159-40ae41dcb678",
   "metadata": {},
   "outputs": [
    {
     "data": {
      "text/plain": [
       "[1, 2, 3, 3, 3]"
      ]
     },
     "execution_count": 14,
     "metadata": {},
     "output_type": "execute_result"
    }
   ],
   "source": [
    "lst = [1,2,3,3,3] \n",
    "lst"
   ]
  },
  {
   "cell_type": "markdown",
   "id": "3efd2741-8987-4964-bf2e-265ce395da3a",
   "metadata": {},
   "source": [
    "중복된 것을 제외하고 싶다면? "
   ]
  },
  {
   "cell_type": "code",
   "execution_count": 17,
   "id": "7f19ec5a-9ec6-4051-83f0-c774cd7c57cb",
   "metadata": {},
   "outputs": [
    {
     "data": {
      "text/plain": [
       "[1, 2, 3]"
      ]
     },
     "execution_count": 17,
     "metadata": {},
     "output_type": "execute_result"
    }
   ],
   "source": [
    "list(set(lst)) # 자료형변환"
   ]
  },
  {
   "cell_type": "markdown",
   "id": "cbc2c437-cda7-45f5-bcf6-98b77bd746b2",
   "metadata": {},
   "source": [
    "`#`"
   ]
  },
  {
   "cell_type": "markdown",
   "id": "9bfc4c9a-ed55-4f03-9c85-c9615a2f3b75",
   "metadata": {},
   "source": [
    "`# 개념3` -- 고유의 원소 숫자 세기 "
   ]
  },
  {
   "cell_type": "code",
   "execution_count": 18,
   "id": "9e5243d9-df46-42db-8ce9-70d7b05c5435",
   "metadata": {},
   "outputs": [
    {
     "data": {
      "text/plain": [
       "[1, 2, 3, 3, 3, 4, 4, 5, 5, 6]"
      ]
     },
     "execution_count": 18,
     "metadata": {},
     "output_type": "execute_result"
    }
   ],
   "source": [
    "lst = [1,2,3,3,3,4,4,5,5,6] \n",
    "lst"
   ]
  },
  {
   "cell_type": "code",
   "execution_count": 21,
   "id": "468b766c-29a0-4b4a-a599-96a976050afa",
   "metadata": {},
   "outputs": [
    {
     "data": {
      "text/plain": [
       "6"
      ]
     },
     "execution_count": 21,
     "metadata": {},
     "output_type": "execute_result"
    }
   ],
   "source": [
    "len(set(lst))"
   ]
  },
  {
   "cell_type": "markdown",
   "id": "ed5eb9f2-5c7a-489a-8697-2a16da099751",
   "metadata": {},
   "source": [
    "`#`"
   ]
  },
  {
   "cell_type": "markdown",
   "id": "421c89b3-f78e-448c-a711-81598b9ffebb",
   "metadata": {},
   "source": [
    "`# 개념4` -- for문 "
   ]
  },
  {
   "cell_type": "markdown",
   "id": "f4205bb9-e80e-4935-ab60-8825fc08aee6",
   "metadata": {},
   "source": [
    "아래를 출력하고 싶다고 하자. \n",
    "\n",
    "```\n",
    "이효리는 핑클의 멤버이다. \n",
    "옥주현은 핑클의 멤버이다.\n",
    "성유리는 핑클의 멤버이다. \n",
    "이진은 핑클의 멤버이다. \n",
    "```"
   ]
  },
  {
   "cell_type": "markdown",
   "id": "4cecc660-d974-456e-a59b-53ecdcda77c1",
   "metadata": {},
   "source": [
    "(풀이1) -- 단순한 풀이"
   ]
  },
  {
   "cell_type": "code",
   "execution_count": 23,
   "id": "3eaadf19-ba36-4104-b657-3cf477036d1f",
   "metadata": {},
   "outputs": [
    {
     "name": "stdout",
     "output_type": "stream",
     "text": [
      "이효리는 핑클의 멤버이다.\n",
      "옥주현은 핑클의 멤버이다.\n",
      "성유리는 핑클의 멤버이다.\n",
      "이진은 핑클의 멤버이다.\n"
     ]
    }
   ],
   "source": [
    "print(\"이효리는 핑클의 멤버이다.\")\n",
    "print(\"옥주현은 핑클의 멤버이다.\")\n",
    "print(\"성유리는 핑클의 멤버이다.\")\n",
    "print(\"이진은 핑클의 멤버이다.\")"
   ]
  },
  {
   "cell_type": "markdown",
   "id": "66afd83b-f48e-4939-b5ce-34334be43164",
   "metadata": {},
   "source": [
    "(풀이2) -- 문자열 특수기능을 이용해볼까? "
   ]
  },
  {
   "cell_type": "markdown",
   "id": "d24c5fef-9331-43ff-a366-6b1e72d0233f",
   "metadata": {},
   "source": [
    "\"{} 핑클의 멤버이다.\" 이 공통포맷이므로, 아래와 같이 수행할 수 있겠다. "
   ]
  },
  {
   "cell_type": "code",
   "execution_count": 48,
   "id": "73851a24-7f46-4882-8c4d-fe1d3f782f96",
   "metadata": {},
   "outputs": [
    {
     "name": "stdout",
     "output_type": "stream",
     "text": [
      "이효리는 핑클의 멤버이다.\n",
      "옥주현은 핑클의 멤버이다.\n",
      "성유리는 핑클의 멤버이다.\n",
      "이진은 핑클의 멤버이다.\n"
     ]
    }
   ],
   "source": [
    "lst = [\"이효리는\",\"옥주현은\",\"성유리는\",\"이진은\"]\n",
    "i = 0\n",
    "print(\"{} 핑클의 멤버이다.\".format(lst[i]))\n",
    "i = 1 \n",
    "print(\"{} 핑클의 멤버이다.\".format(lst[i]))\n",
    "i = 2 \n",
    "print(\"{} 핑클의 멤버이다.\".format(lst[i]))\n",
    "i = 3 \n",
    "print(\"{} 핑클의 멤버이다.\".format(lst[i]))"
   ]
  },
  {
   "cell_type": "markdown",
   "id": "9a3ec84b-421f-407c-ad03-242453dd9a9f",
   "metadata": {},
   "source": [
    "(풀이3) - for와 문자열 특수기능을 이용해볼까? "
   ]
  },
  {
   "cell_type": "code",
   "execution_count": 49,
   "id": "22e0229b-a0e0-4518-bef8-e6fb8aa73d49",
   "metadata": {},
   "outputs": [
    {
     "name": "stdout",
     "output_type": "stream",
     "text": [
      "이효리는 핑클의 멤버이다.\n",
      "옥주현은 핑클의 멤버이다.\n",
      "성유리는 핑클의 멤버이다.\n",
      "이진은 핑클의 멤버이다.\n"
     ]
    }
   ],
   "source": [
    "lst = [\"이효리는\",\"옥주현은\",\"성유리는\",\"이진은\"]\n",
    "for i in [0,1,2,3]:\n",
    "    print(\"{} 핑클의 멤버이다.\".format(lst[i]))"
   ]
  },
  {
   "cell_type": "markdown",
   "id": "3ffa93ef-3dbe-485b-8e68-4eae008bc210",
   "metadata": {},
   "source": [
    "(풀이4) - for와 문자열 특수기능을 이용해볼까? (2)"
   ]
  },
  {
   "cell_type": "markdown",
   "id": "0fb0fa0c-07ca-44de-9ad2-821a6f1c3c06",
   "metadata": {},
   "source": [
    "`[0,1,2,3]`은 대충 `range(4)`와 비슷한 것이므로 아래와 같이 수행할 수도 있겠음. "
   ]
  },
  {
   "cell_type": "code",
   "execution_count": 46,
   "id": "9bf99f97-4b5c-47a7-9f2d-51400ca38935",
   "metadata": {},
   "outputs": [
    {
     "name": "stdout",
     "output_type": "stream",
     "text": [
      "이효리는 핑클의 멤버이다.\n",
      "옥주현은 핑클의 멤버이다.\n",
      "성유리는 핑클의 멤버이다.\n",
      "이진은 핑클의 멤버이다.\n"
     ]
    }
   ],
   "source": [
    "lst = [\"이효리는\",\"옥주현은\",\"성유리는\",\"이진은\"]\n",
    "for i in range(4):\n",
    "    print(\"{} 핑클의 멤버이다.\".format(lst[i]))"
   ]
  },
  {
   "cell_type": "markdown",
   "id": "fafa1aa4-dc03-4a1e-a6fd-5bf40b69dd6f",
   "metadata": {},
   "source": [
    "(풀이5) - for와 문자열 특수기능을 이용해볼까? (3)"
   ]
  },
  {
   "cell_type": "markdown",
   "id": "f33e59c4-d03b-47af-9031-fc5c2ba50615",
   "metadata": {},
   "source": [
    "아래의 코드는 $i$ 자리에 `[0,1,2,3]`의 원소가 번갈아 대입되며 `??????`가 수행되었음. \n",
    "\n",
    "```Python\n",
    "lst = [\"이효리는\",\"옥주현은\",\"성유리는\",\"이진은\"]\n",
    "for i in [0,1,2,3]:\n",
    "    ??????\n",
    "```\n",
    "\n",
    "아래의 코드도 $i$ 자리에 `range(4)`의 원소가 번갈아 대입되며 `??????`가 수행되었다고 해석가능. \n",
    "\n",
    "```Python\n",
    "lst = [\"이효리는\",\"옥주현은\",\"성유리는\",\"이진은\"]\n",
    "for i in range(4):\n",
    "    ??????\n",
    "```\n",
    "\n",
    "아래의 코드는 어떻게 실행될까??\n",
    "\n",
    "```Python\n",
    "lst = [\"이효리는\",\"옥주현은\",\"성유리는\",\"이진은\"]\n",
    "for i in lst:\n",
    "    ??????\n",
    "```"
   ]
  },
  {
   "cell_type": "code",
   "execution_count": 53,
   "id": "a387a652-9f1e-462f-81cf-ff299dc8488b",
   "metadata": {},
   "outputs": [
    {
     "name": "stdout",
     "output_type": "stream",
     "text": [
      "이효리는 핑클의 멤버이다.\n",
      "옥주현은 핑클의 멤버이다.\n",
      "성유리는 핑클의 멤버이다.\n",
      "이진은 핑클의 멤버이다.\n"
     ]
    }
   ],
   "source": [
    "# R과 다른 방식으로 동작하는 for문 \n",
    "lst = [\"이효리는\",\"옥주현은\",\"성유리는\",\"이진은\"]\n",
    "for l in lst:\n",
    "    print(\"{} 핑클의 멤버이다.\".format(l))"
   ]
  },
  {
   "cell_type": "markdown",
   "id": "3c28eb3c-baae-4d90-861c-a18752ec96c7",
   "metadata": {},
   "source": [
    "`#`"
   ]
  },
  {
   "cell_type": "markdown",
   "id": "d2913cce-32a1-44cc-a0c9-fec0103ecb93",
   "metadata": {},
   "source": [
    "`# 개념5` -- for문을 이용하여 리스트의 원소 추가하기 "
   ]
  },
  {
   "cell_type": "code",
   "execution_count": 64,
   "id": "8bc1d2d1-04d4-430d-a56d-0f143a444d5b",
   "metadata": {},
   "outputs": [],
   "source": [
    "lst2 = [] # lst2 = list() 와 같은결과임\n",
    "lst = [\"이효리는\",\"옥주현은\",\"성유리는\",\"이진은\"]\n",
    "for l in lst: \n",
    "    lst2.append(\"{} 핑클의 멤버이다.\".format(l))"
   ]
  },
  {
   "cell_type": "code",
   "execution_count": 65,
   "id": "b00f9616-8943-4cf0-829d-3d2eb800642c",
   "metadata": {},
   "outputs": [
    {
     "data": {
      "text/plain": [
       "['이효리는 핑클의 멤버이다.', '옥주현은 핑클의 멤버이다.', '성유리는 핑클의 멤버이다.', '이진은 핑클의 멤버이다.']"
      ]
     },
     "execution_count": 65,
     "metadata": {},
     "output_type": "execute_result"
    }
   ],
   "source": [
    "lst2"
   ]
  },
  {
   "cell_type": "markdown",
   "id": "61f40c18-fe59-43dc-b686-ab8be4dbffe7",
   "metadata": {},
   "source": [
    "그런데 이걸 아래와 같이 해결할 수도 있다. "
   ]
  },
  {
   "cell_type": "code",
   "execution_count": 68,
   "id": "b8117153-ac96-4311-982b-c1a9473da9b6",
   "metadata": {},
   "outputs": [
    {
     "data": {
      "text/plain": [
       "['이효리는 핑클의 멤버이다.', '옥주현은 핑클의 멤버이다.', '성유리는 핑클의 멤버이다.', '이진은 핑클의 멤버이다.']"
      ]
     },
     "execution_count": 68,
     "metadata": {},
     "output_type": "execute_result"
    }
   ],
   "source": [
    "lst = [\"이효리는\",\"옥주현은\",\"성유리는\",\"이진은\"]\n",
    "[\"{} 핑클의 멤버이다.\".format(l) for l in lst] # 리스트컴프리헨션 "
   ]
  },
  {
   "cell_type": "markdown",
   "id": "7ffd1362-78b1-46e6-a01e-e4878176b06b",
   "metadata": {},
   "source": [
    "`#`"
   ]
  },
  {
   "cell_type": "markdown",
   "id": "3dd6ff72-1e03-41fe-9970-f095ef48e9f6",
   "metadata": {},
   "source": [
    "`# 개념6` -- 리스트컴프리헨션 "
   ]
  },
  {
   "cell_type": "markdown",
   "id": "2a41c213-3ee4-4896-b4cb-0aba6e4a8ab8",
   "metadata": {},
   "source": [
    "집합을 표현하는 방법에는 원소나열법과 조건제시법이 있다. \n",
    "\n",
    "- 원소나열법: $\\{2^0,2^1,2^2,2^3\\}$\n",
    "- 조건제시법: $\\{2^i: \\text{ for } i=0,1,2,3\\}$"
   ]
  },
  {
   "cell_type": "markdown",
   "id": "132a2773-b5c3-46d7-8a14-56071ab7c1d1",
   "metadata": {},
   "source": [
    "이중에서 조건제시법은 아래와 같이 표현할 수 있음."
   ]
  },
  {
   "cell_type": "markdown",
   "id": "bc94b981-d3f2-422f-9f7a-1fedac55e033",
   "metadata": {},
   "source": [
    "- $\\{2^i: \\text{ for } i \\in \\{0,1,2,3\\}\\}$"
   ]
  },
  {
   "cell_type": "markdown",
   "id": "864ad9de-6893-415c-97ed-40c59f4acbdd",
   "metadata": {},
   "source": [
    "여기에서 $\\in$ 은 `in` 으로 읽으므로, 위의 표기법을 연상하여 파이썬 코드로 바꿔보면 "
   ]
  },
  {
   "cell_type": "markdown",
   "id": "00bf0f59-4726-4c55-a27c-d46af2a12aa7",
   "metadata": {},
   "source": [
    "```Python\n",
    "[2^i: for i in [0,1,2,3]]\n",
    "```"
   ]
  },
  {
   "cell_type": "markdown",
   "id": "285e03e2-1595-4f2e-a8fc-732e125ec1a2",
   "metadata": {},
   "source": [
    "와 같은 방식으로 리스트의 원소를 표현할 수 있을 것 같다. 위의 코드는 실행되지 않지만 아래의 코드는 실행가능하다. "
   ]
  },
  {
   "cell_type": "code",
   "execution_count": 71,
   "id": "cf078aee-0b4d-4f11-997c-0a40c2134885",
   "metadata": {},
   "outputs": [
    {
     "data": {
      "text/plain": [
       "[1, 2, 4, 8]"
      ]
     },
     "execution_count": 71,
     "metadata": {},
     "output_type": "execute_result"
    }
   ],
   "source": [
    "[2**i for i in [0,1,2,3]]"
   ]
  },
  {
   "cell_type": "code",
   "execution_count": 72,
   "id": "5c459a7c-bd80-41c0-ab65-0cef3a6be910",
   "metadata": {},
   "outputs": [
    {
     "data": {
      "text/plain": [
       "[1, 2, 4, 8]"
      ]
     },
     "execution_count": 72,
     "metadata": {},
     "output_type": "execute_result"
    }
   ],
   "source": [
    "[2**i for i in range(4)]"
   ]
  },
  {
   "cell_type": "markdown",
   "id": "5a6e10d6-ff6a-4131-91c2-87f89f2c00c9",
   "metadata": {},
   "source": [
    "이를 응용하면 "
   ]
  },
  {
   "cell_type": "code",
   "execution_count": 73,
   "id": "925c5090-873f-490d-b458-4e4c3ac449f6",
   "metadata": {},
   "outputs": [
    {
     "data": {
      "text/plain": [
       "['asdf1', 'asdf2', 'asdf4', 'asdf8']"
      ]
     },
     "execution_count": 73,
     "metadata": {},
     "output_type": "execute_result"
    }
   ],
   "source": [
    "[\"asdf{}\".format(2**i) for i in range(4)]"
   ]
  },
  {
   "cell_type": "markdown",
   "id": "711bb9ea-f707-477d-9878-39de42577433",
   "metadata": {},
   "source": [
    "이것을 다시 응용하면 "
   ]
  },
  {
   "cell_type": "code",
   "execution_count": 76,
   "id": "ed2d30c9-cf36-4a1b-b196-86c8dc69176c",
   "metadata": {},
   "outputs": [
    {
     "data": {
      "text/plain": [
       "['이효리는 핑클의 멤버이다.', '성유리는 핑클의 멤버이다.', '옥주현은 핑클의 멤버이다.', '이진은 핑클의 멤버이다.']"
      ]
     },
     "execution_count": 76,
     "metadata": {},
     "output_type": "execute_result"
    }
   ],
   "source": [
    "lst = [\"이효리는\", \"성유리는\", \"옥주현은\", \"이진은\"]\n",
    "[\"{} 핑클의 멤버이다.\".format(l) for l in lst]"
   ]
  },
  {
   "cell_type": "markdown",
   "id": "faea31a3-aff2-4259-8d1c-2a2cf4b357ce",
   "metadata": {},
   "source": [
    "`#`"
   ]
  },
  {
   "cell_type": "markdown",
   "id": "addd346e-df6e-45b7-b9af-8666a052b2ba",
   "metadata": {},
   "source": [
    "`# 개념7` -- 스트링의 인덱싱 (파이썬에서는 스트링을 array로 취급)"
   ]
  },
  {
   "cell_type": "code",
   "execution_count": 87,
   "id": "987db9e8-1c6b-4271-b7ec-bbf9379cdc50",
   "metadata": {},
   "outputs": [
    {
     "data": {
      "text/plain": [
       "'asdf'"
      ]
     },
     "execution_count": 87,
     "metadata": {},
     "output_type": "execute_result"
    }
   ],
   "source": [
    "s = 'asdf'\n",
    "s"
   ]
  },
  {
   "cell_type": "code",
   "execution_count": 89,
   "id": "54a3806e-ea28-41c4-a52b-0290ba330ec6",
   "metadata": {},
   "outputs": [
    {
     "data": {
      "text/plain": [
       "'a'"
      ]
     },
     "execution_count": 89,
     "metadata": {},
     "output_type": "execute_result"
    }
   ],
   "source": [
    "s[0]"
   ]
  },
  {
   "cell_type": "code",
   "execution_count": 90,
   "id": "5fd32263-b5bd-4b04-baf6-5b7f0e1f2986",
   "metadata": {},
   "outputs": [
    {
     "data": {
      "text/plain": [
       "'f'"
      ]
     },
     "execution_count": 90,
     "metadata": {},
     "output_type": "execute_result"
    }
   ],
   "source": [
    "s[-1]"
   ]
  },
  {
   "cell_type": "code",
   "execution_count": 92,
   "id": "9cfbed91-2ffd-4a16-bb01-06f488ef6ec6",
   "metadata": {},
   "outputs": [
    {
     "data": {
      "text/plain": [
       "'as'"
      ]
     },
     "execution_count": 92,
     "metadata": {},
     "output_type": "execute_result"
    }
   ],
   "source": [
    "s[:2]"
   ]
  },
  {
   "cell_type": "markdown",
   "id": "90648aed-6462-42a0-a4cb-be7936dc2e11",
   "metadata": {},
   "source": [
    "`#`"
   ]
  },
  {
   "cell_type": "markdown",
   "id": "d8557929-6a44-462f-a18c-e1a6b486a7f6",
   "metadata": {},
   "source": [
    "`# 개념8` -- 스트링과 리스트의 변환 "
   ]
  },
  {
   "cell_type": "code",
   "execution_count": 96,
   "id": "a19d3f72-648a-409a-9ad5-1318a038dbdf",
   "metadata": {},
   "outputs": [
    {
     "data": {
      "text/plain": [
       "'asdf'"
      ]
     },
     "execution_count": 96,
     "metadata": {},
     "output_type": "execute_result"
    }
   ],
   "source": [
    "s = 'asdf' \n",
    "s"
   ]
  },
  {
   "cell_type": "code",
   "execution_count": 95,
   "id": "862aeabd-c5d4-4b45-8eb5-c4d527b931e9",
   "metadata": {},
   "outputs": [
    {
     "data": {
      "text/plain": [
       "['a', 's', 'd', 'f']"
      ]
     },
     "execution_count": 95,
     "metadata": {},
     "output_type": "execute_result"
    }
   ],
   "source": [
    "lst = list(s)\n",
    "lst"
   ]
  },
  {
   "cell_type": "code",
   "execution_count": 104,
   "id": "d04e39bc-48a3-4eda-a621-ff71fce276bc",
   "metadata": {},
   "outputs": [
    {
     "data": {
      "text/plain": [
       "'asdf'"
      ]
     },
     "execution_count": 104,
     "metadata": {},
     "output_type": "execute_result"
    }
   ],
   "source": [
    "''.join(lst)"
   ]
  },
  {
   "cell_type": "markdown",
   "id": "d443d72d-3d39-47e9-a8dc-d66ffc750ebe",
   "metadata": {},
   "source": [
    "`# 개념9` -- 튜플자료형 "
   ]
  },
  {
   "cell_type": "code",
   "execution_count": 106,
   "id": "39f85ed4-5630-4cd9-be87-ad514803d3aa",
   "metadata": {},
   "outputs": [
    {
     "data": {
      "text/plain": [
       "[1, 2, 3]"
      ]
     },
     "execution_count": 106,
     "metadata": {},
     "output_type": "execute_result"
    }
   ],
   "source": [
    "lst = [1,2,3]\n",
    "lst"
   ]
  },
  {
   "cell_type": "code",
   "execution_count": 107,
   "id": "cf47fab9-3d7f-4e52-88cb-10ff034352fa",
   "metadata": {},
   "outputs": [
    {
     "data": {
      "text/plain": [
       "(1, 2, 3)"
      ]
     },
     "execution_count": 107,
     "metadata": {},
     "output_type": "execute_result"
    }
   ],
   "source": [
    "tpl = (1,2,3)\n",
    "tpl"
   ]
  },
  {
   "cell_type": "markdown",
   "id": "50c60732-7ac6-49a9-bc8d-2cadc72dee8b",
   "metadata": {},
   "source": [
    "튜플은 (의미가 명확할때) 괄호를 생략할 수 있음 "
   ]
  },
  {
   "cell_type": "code",
   "execution_count": 119,
   "id": "9f4015c0-446b-466f-bb2e-896305a819a1",
   "metadata": {},
   "outputs": [
    {
     "data": {
      "text/plain": [
       "(1, 2, 3)"
      ]
     },
     "execution_count": 119,
     "metadata": {},
     "output_type": "execute_result"
    }
   ],
   "source": [
    "tpl = 1,2,3\n",
    "tpl"
   ]
  },
  {
   "cell_type": "markdown",
   "id": "6a1414f7-d431-43be-b180-a5cf3ee188cc",
   "metadata": {},
   "source": [
    "튜플은 리스트와 매우 비슷함. "
   ]
  },
  {
   "cell_type": "code",
   "execution_count": 120,
   "id": "d649e7d9-e7e9-4073-9a89-1943a3c403d5",
   "metadata": {},
   "outputs": [
    {
     "data": {
      "text/plain": [
       "[1, 2, 3, 4, 5]"
      ]
     },
     "execution_count": 120,
     "metadata": {},
     "output_type": "execute_result"
    }
   ],
   "source": [
    "[1,2,3] + [4,5] "
   ]
  },
  {
   "cell_type": "code",
   "execution_count": 121,
   "id": "c412094b-0364-42cf-b254-a04243401c51",
   "metadata": {},
   "outputs": [
    {
     "data": {
      "text/plain": [
       "(1, 2, 3, 4, 5)"
      ]
     },
     "execution_count": 121,
     "metadata": {},
     "output_type": "execute_result"
    }
   ],
   "source": [
    "(1,2,3) + (4,5)"
   ]
  },
  {
   "cell_type": "markdown",
   "id": "a92403b8-dbd3-4bd4-8f12-28d9986f37e8",
   "metadata": {},
   "source": [
    "아래도 가능 "
   ]
  },
  {
   "cell_type": "code",
   "execution_count": 123,
   "id": "7ba7f8d6-e684-4ad7-bdd4-f41daf73580b",
   "metadata": {},
   "outputs": [
    {
     "data": {
      "text/plain": [
       "'abc'"
      ]
     },
     "execution_count": 123,
     "metadata": {},
     "output_type": "execute_result"
    }
   ],
   "source": [
    "''.join(['a','b','c'])"
   ]
  },
  {
   "cell_type": "code",
   "execution_count": 124,
   "id": "4905dce6-18e2-4562-b820-d928b91c0f87",
   "metadata": {},
   "outputs": [
    {
     "data": {
      "text/plain": [
       "'abc'"
      ]
     },
     "execution_count": 124,
     "metadata": {},
     "output_type": "execute_result"
    }
   ],
   "source": [
    "''.join(('a','b','c'))"
   ]
  },
  {
   "cell_type": "markdown",
   "id": "facbad82-180c-4258-b8d7-79dc8b024d39",
   "metadata": {},
   "source": [
    "`#`"
   ]
  },
  {
   "cell_type": "markdown",
   "id": "3b2ba1be-3ec0-4500-9ce2-f9da5f74ad5d",
   "metadata": {},
   "source": [
    "`# 개념10` -- for를 수행하는 다양한 테크닉 "
   ]
  },
  {
   "cell_type": "markdown",
   "id": "9c9f89c2-34b5-4628-b78c-c406ba599792",
   "metadata": {},
   "source": [
    "**우리가 알고 있는 `for`**: 리스트 비슷한 것을 만든 뒤, **그 리스트의 원소를 하나씩 뽑아가면서** 어떠한 반복구문 \"??????\" 수행하는 것."
   ]
  },
  {
   "cell_type": "code",
   "execution_count": 127,
   "id": "cd3ce647-d7e5-4ffa-b2b5-bb25a4cc7af6",
   "metadata": {},
   "outputs": [],
   "source": [
    "import itertools"
   ]
  },
  {
   "cell_type": "code",
   "execution_count": 129,
   "id": "04743e92-835c-4853-a388-970b08640a17",
   "metadata": {},
   "outputs": [
    {
     "name": "stdout",
     "output_type": "stream",
     "text": [
      "('a', 'b', 'c')\n",
      "('a', 'c', 'b')\n",
      "('b', 'a', 'c')\n",
      "('b', 'c', 'a')\n",
      "('c', 'a', 'b')\n",
      "('c', 'b', 'a')\n"
     ]
    }
   ],
   "source": [
    "for i in itertools.permutations(['a','b','c']):\n",
    "    print(i)"
   ]
  },
  {
   "cell_type": "code",
   "execution_count": 130,
   "id": "11d0ab34-dbac-41ab-8408-6a236308fb7b",
   "metadata": {},
   "outputs": [
    {
     "name": "stdout",
     "output_type": "stream",
     "text": [
      "('x', 'a')\n",
      "('x', 'b')\n",
      "('x', 'c')\n",
      "('y', 'a')\n",
      "('y', 'b')\n",
      "('y', 'c')\n"
     ]
    }
   ],
   "source": [
    "for i in itertools.product(['x','y'],['a','b','c']):\n",
    "    print(i)"
   ]
  },
  {
   "cell_type": "markdown",
   "id": "66c88b56-4ab5-4dda-a0ee-e83edd06b4e0",
   "metadata": {},
   "source": [
    "`#`"
   ]
  },
  {
   "cell_type": "markdown",
   "id": "3b22ffd2-5603-462b-a312-aabf09fd2a63",
   "metadata": {},
   "source": [
    "## D. 풀이"
   ]
  },
  {
   "cell_type": "markdown",
   "id": "be702a1d-2847-489a-ad4e-d1521253343f",
   "metadata": {},
   "source": [
    "아래의 문제를 풀어보자.. "
   ]
  },
  {
   "cell_type": "markdown",
   "id": "c27c9588-e1d3-4b71-ae09-9e480c2b1398",
   "metadata": {},
   "source": [
    "![](https://github.com/guebin/PP2024/blob/main/imgs/2024-수능-확통-23.png?raw=true)"
   ]
  },
  {
   "cell_type": "markdown",
   "id": "92995640-e2d4-445a-a4ca-9c81a243bc2d",
   "metadata": {},
   "source": [
    "(풀이)"
   ]
  },
  {
   "cell_type": "code",
   "execution_count": 144,
   "id": "c586a390-182c-494a-bf72-7a1171694f06",
   "metadata": {},
   "outputs": [
    {
     "data": {
      "text/plain": [
       "30"
      ]
     },
     "execution_count": 144,
     "metadata": {},
     "output_type": "execute_result"
    }
   ],
   "source": [
    "len(set([''.join(i) for i in itertools.permutations(['x','x','y','y','z'])]))"
   ]
  },
  {
   "cell_type": "markdown",
   "id": "90075144-1694-43ef-a31f-d69ee329392b",
   "metadata": {},
   "source": [
    "# 5. 2024년 수능 -- 확통29"
   ]
  },
  {
   "cell_type": "markdown",
   "id": "9b2f3800-f8b8-470b-ad46-9396e97ffae3",
   "metadata": {},
   "source": [
    "## A. 문제이해 "
   ]
  },
  {
   "cell_type": "markdown",
   "id": "6ef867a9-6733-4248-b87b-e6a996a6ec42",
   "metadata": {},
   "source": [
    "![](https://github.com/guebin/PP2024/blob/main/imgs/2024-수능-확통-29.png?raw=true)"
   ]
  },
  {
   "cell_type": "markdown",
   "id": "b80bc336-a450-491b-85ba-9c2221ee9443",
   "metadata": {},
   "source": [
    "## B. 슈도알고리즘"
   ]
  },
  {
   "cell_type": "markdown",
   "id": "8b484e79-b048-4adc-9a51-94425f534885",
   "metadata": {},
   "source": [
    "`1`. 아래의 경우를 모두 나열한다. \n",
    "\n",
    "```Python\n",
    "a,b,c,d = 1,1,1,1 \n",
    "a,b,c,d = 1,1,1,2 \n",
    "....\n",
    "a,b,c,d = 6,6,6,6\n",
    "```\n"
   ]
  },
  {
   "cell_type": "markdown",
   "id": "843d9244-ab68-4fdc-8618-e232d0f1f312",
   "metadata": {},
   "source": [
    "`2`. 조건 $a \\leq c \\leq d$ 와 $b \\leq c \\leq d$ 를 동시에 만족하는 경우를 센다. "
   ]
  },
  {
   "cell_type": "markdown",
   "id": "7bb18d32-2509-404f-b120-e9857014faae",
   "metadata": {},
   "source": [
    "## C. 예비학습"
   ]
  },
  {
   "cell_type": "markdown",
   "id": "fb45e557-e3e7-4883-8e9c-c13244a5d385",
   "metadata": {},
   "source": [
    "`# 개념1` -- for문과 튜플 "
   ]
  },
  {
   "cell_type": "code",
   "execution_count": 176,
   "id": "4fbef83c-0ca7-4a7e-861e-6041259bc0e3",
   "metadata": {},
   "outputs": [
    {
     "data": {
      "text/plain": [
       "['최규빈', 43052, 'M']"
      ]
     },
     "execution_count": 176,
     "metadata": {},
     "output_type": "execute_result"
    }
   ],
   "source": [
    "lst = [['최규빈',43052,'M'],['아이유',54321,'F'],['하니',11223,'F']]\n",
    "lst[0]"
   ]
  },
  {
   "cell_type": "markdown",
   "id": "27d10a10-e7c4-4d73-b331-45290523c0cf",
   "metadata": {},
   "source": [
    "아래의 코드가 가능하다. "
   ]
  },
  {
   "cell_type": "code",
   "execution_count": 187,
   "id": "4e406ae1-9f0d-4137-bbae-3496df517513",
   "metadata": {},
   "outputs": [
    {
     "name": "stdout",
     "output_type": "stream",
     "text": [
      "['최규빈', 43052, 'M']\n",
      "['아이유', 54321, 'F']\n",
      "['하니', 11223, 'F']\n"
     ]
    }
   ],
   "source": [
    "for [name,student_id,sex] in lst:\n",
    "    print([name,student_id,sex])\n",
    "# [name,student_id,sex] = ['최규빈', 43052, 'M']\n",
    "# print([name,student_id,sex])\n",
    "# [name,student_id,sex] = ['아이유', 54321, 'F']\n",
    "# print([name,student_id,sex])\n",
    "# [name,student_id,sex] = ['하니', 11223, 'F']\n",
    "# print([name,student_id,sex])"
   ]
  },
  {
   "cell_type": "markdown",
   "id": "b3708db4-29d2-4854-895d-51e03891ba88",
   "metadata": {},
   "source": [
    "리스트를 튜플로 바꾼다면?"
   ]
  },
  {
   "cell_type": "code",
   "execution_count": 203,
   "id": "553bd70e-307f-4efe-af13-a6ac3cc0d647",
   "metadata": {},
   "outputs": [
    {
     "name": "stdout",
     "output_type": "stream",
     "text": [
      "('최규빈', 43052, 'M')\n",
      "('아이유', 54321, 'F')\n",
      "('하니', 11223, 'F')\n"
     ]
    }
   ],
   "source": [
    "for (name,student_id,sex) in lst:\n",
    "    print((name,student_id,sex))\n",
    "# (name,student_id,sex) = ['최규빈', 43052, 'M']\n",
    "# print((name,student_id,sex))\n",
    "# (name,student_id,sex) = ['아이유', 54321, 'F']\n",
    "# print((name,student_id,sex))\n",
    "# (name,student_id,sex) = ['하니', 11223, 'F']\n",
    "# print((name,student_id,sex))"
   ]
  },
  {
   "cell_type": "markdown",
   "id": "d66d2133-17c2-441a-8591-64834ffa9d9b",
   "metadata": {},
   "source": [
    "`for (name,student_id,sex) in lst:` 대신에 `for name,student_id,sex in lst:` 도 가능 "
   ]
  },
  {
   "cell_type": "code",
   "execution_count": 206,
   "id": "6bd0f367-9345-49f9-838e-2fe307dfb850",
   "metadata": {},
   "outputs": [
    {
     "name": "stdout",
     "output_type": "stream",
     "text": [
      "('최규빈', 43052, 'M')\n",
      "('아이유', 54321, 'F')\n",
      "('하니', 11223, 'F')\n"
     ]
    }
   ],
   "source": [
    "for name,student_id,sex in lst:\n",
    "    print((name,student_id,sex))\n",
    "# name,student_id,sex = ['최규빈', 43052, 'M']\n",
    "# print((name,student_id,sex))\n",
    "# name,student_id,sex = ['아이유', 54321, 'F']\n",
    "# print((name,student_id,sex))\n",
    "# name,student_id,sex = ['하니', 11223, 'F']\n",
    "# print((name,student_id,sex))"
   ]
  },
  {
   "cell_type": "markdown",
   "id": "7a691715-cad2-4efc-9565-66e424e8611e",
   "metadata": {},
   "source": [
    "아래와 같이 컴프리헨션으로 만들 수도 있음. "
   ]
  },
  {
   "cell_type": "code",
   "execution_count": 209,
   "id": "183813e2-0c1c-4445-9d79-182bbe77aec9",
   "metadata": {},
   "outputs": [
    {
     "data": {
      "text/plain": [
       "[['최규빈', 43052, 'M'], ['아이유', 54321, 'F'], ['하니', 11223, 'F']]"
      ]
     },
     "execution_count": 209,
     "metadata": {},
     "output_type": "execute_result"
    }
   ],
   "source": [
    "[[name,student_id,sex] for name,student_id,sex in lst]"
   ]
  },
  {
   "cell_type": "code",
   "execution_count": 210,
   "id": "f9a0bbb9-9a98-4b18-863e-5370bbf8a5f9",
   "metadata": {},
   "outputs": [
    {
     "data": {
      "text/plain": [
       "[('최규빈', 43052, 'M'), ('아이유', 54321, 'F'), ('하니', 11223, 'F')]"
      ]
     },
     "execution_count": 210,
     "metadata": {},
     "output_type": "execute_result"
    }
   ],
   "source": [
    "[(name,student_id,sex) for name,student_id,sex in lst]"
   ]
  },
  {
   "cell_type": "markdown",
   "id": "675bf7ca-8123-4031-b0a5-07ba8c11889e",
   "metadata": {},
   "source": [
    "아래는 불가능"
   ]
  },
  {
   "cell_type": "code",
   "execution_count": 213,
   "id": "b43ffd33-0c6a-4f7b-a970-9c9b24e9b3f0",
   "metadata": {},
   "outputs": [
    {
     "ename": "SyntaxError",
     "evalue": "did you forget parentheses around the comprehension target? (905514563.py, line 1)",
     "output_type": "error",
     "traceback": [
      "\u001b[0;36m  Cell \u001b[0;32mIn[213], line 1\u001b[0;36m\u001b[0m\n\u001b[0;31m    [name,student_id,sex for name,student_id,sex in lst]\u001b[0m\n\u001b[0m     ^\u001b[0m\n\u001b[0;31mSyntaxError\u001b[0m\u001b[0;31m:\u001b[0m did you forget parentheses around the comprehension target?\n"
     ]
    }
   ],
   "source": [
    "[name,student_id,sex for name,student_id,sex in lst]"
   ]
  },
  {
   "cell_type": "markdown",
   "id": "cc10bad5-7758-44e9-b11f-0cf6a0462492",
   "metadata": {},
   "source": [
    "하지만 괄호를 명확하게 쓰기만 하면 만들어짐"
   ]
  },
  {
   "cell_type": "code",
   "execution_count": 215,
   "id": "e2dbc01f-39ce-45ee-9302-eed31cfe2fae",
   "metadata": {},
   "outputs": [
    {
     "data": {
      "text/plain": [
       "[('최규빈', 'M'), ('아이유', 'F'), ('하니', 'F')]"
      ]
     },
     "execution_count": 215,
     "metadata": {},
     "output_type": "execute_result"
    }
   ],
   "source": [
    "[(name,sex) for name,student_id,sex in lst]"
   ]
  },
  {
   "cell_type": "code",
   "execution_count": 216,
   "id": "e2b8d702-b025-498a-8ae9-194c6f21b7c5",
   "metadata": {},
   "outputs": [
    {
     "data": {
      "text/plain": [
       "[('M', '최규빈'), ('F', '아이유'), ('F', '하니')]"
      ]
     },
     "execution_count": 216,
     "metadata": {},
     "output_type": "execute_result"
    }
   ],
   "source": [
    "[(sex,name) for name,student_id,sex in lst]"
   ]
  },
  {
   "cell_type": "code",
   "execution_count": 218,
   "id": "02456bba-5704-41f2-a05b-631abb8059dc",
   "metadata": {},
   "outputs": [
    {
     "data": {
      "text/plain": [
       "['최규빈', '아이유', '하니']"
      ]
     },
     "execution_count": 218,
     "metadata": {},
     "output_type": "execute_result"
    }
   ],
   "source": [
    "[name for name,student_id,sex in lst]"
   ]
  },
  {
   "cell_type": "markdown",
   "id": "fc17963b-db8b-4ebf-802b-0845d4df710f",
   "metadata": {},
   "source": [
    "언더스코어(`_`)를 사용할 수도 있음. "
   ]
  },
  {
   "cell_type": "code",
   "execution_count": 220,
   "id": "38e07469-96d3-4e99-902f-63f8654dd79b",
   "metadata": {},
   "outputs": [
    {
     "data": {
      "text/plain": [
       "['최규빈', '아이유', '하니']"
      ]
     },
     "execution_count": 220,
     "metadata": {},
     "output_type": "execute_result"
    }
   ],
   "source": [
    "[name for name,_,_ in lst]"
   ]
  },
  {
   "cell_type": "markdown",
   "id": "51524903-6aa7-44cb-a545-3638c2882250",
   "metadata": {},
   "source": [
    "언더스코어(`_`)를 사용시 `lst[0]`, `lst[1]` 등의 원소숫자와 일치하도록 사용해야함"
   ]
  },
  {
   "cell_type": "code",
   "execution_count": 226,
   "id": "ab53d343-4e5c-4fb3-aeff-88a7f918ac0d",
   "metadata": {},
   "outputs": [
    {
     "ename": "ValueError",
     "evalue": "too many values to unpack (expected 2)",
     "output_type": "error",
     "traceback": [
      "\u001b[0;31m---------------------------------------------------------------------------\u001b[0m",
      "\u001b[0;31mValueError\u001b[0m                                Traceback (most recent call last)",
      "Cell \u001b[0;32mIn[226], line 1\u001b[0m\n\u001b[0;32m----> 1\u001b[0m [name \u001b[38;5;28;01mfor\u001b[39;00m name,_ \u001b[38;5;129;01min\u001b[39;00m lst] \u001b[38;5;66;03m# 이건 또 실행불가능..\u001b[39;00m\n",
      "\u001b[0;31mValueError\u001b[0m: too many values to unpack (expected 2)"
     ]
    }
   ],
   "source": [
    "[name for name,_ in lst] # 이건 또 실행불가능.."
   ]
  },
  {
   "cell_type": "code",
   "execution_count": 232,
   "id": "1bd92fae-066a-4730-80ea-b499e9d112e5",
   "metadata": {},
   "outputs": [
    {
     "data": {
      "text/plain": [
       "['최규빈', '아이유', '하니']"
      ]
     },
     "execution_count": 232,
     "metadata": {},
     "output_type": "execute_result"
    }
   ],
   "source": [
    "[name for name, *args in lst] # 이건 실행가능"
   ]
  },
  {
   "cell_type": "markdown",
   "id": "92647268-48bd-4c0e-9c66-ad49c451d523",
   "metadata": {},
   "source": [
    "`# 개념2` -- 조건문"
   ]
  },
  {
   "cell_type": "markdown",
   "id": "2d4122e8-25ba-498d-b8b9-95ec0d9a75d4",
   "metadata": {},
   "source": [
    "아래의 리스트 원소 $l$ 중에서 조건 $1 < l \\leq 5$를 만족하는 원소는 모두 몇개인가? "
   ]
  },
  {
   "cell_type": "code",
   "execution_count": 234,
   "id": "836ac4fb-d722-4538-9d23-d5319cdc7e74",
   "metadata": {},
   "outputs": [
    {
     "data": {
      "text/plain": [
       "[1, 2, 3, 4, 5, 6, 7, 8, 9]"
      ]
     },
     "execution_count": 234,
     "metadata": {},
     "output_type": "execute_result"
    }
   ],
   "source": [
    "lst = [1,2,3,4,5,6,7,8,9] \n",
    "lst"
   ]
  },
  {
   "cell_type": "markdown",
   "id": "8c1c16de-50a0-46ec-8c58-c9568cc5e6be",
   "metadata": {},
   "source": [
    "(풀이)"
   ]
  },
  {
   "cell_type": "code",
   "execution_count": 242,
   "id": "3b2e19d5-d77a-4e95-860c-a19d5635c998",
   "metadata": {},
   "outputs": [
    {
     "data": {
      "text/plain": [
       "4"
      ]
     },
     "execution_count": 242,
     "metadata": {},
     "output_type": "execute_result"
    }
   ],
   "source": [
    "sum([1<l and l<=5 for l in lst])"
   ]
  },
  {
   "cell_type": "code",
   "execution_count": 245,
   "id": "fa5c6bce-c4bf-48e2-8fbe-cb29505cd4fd",
   "metadata": {},
   "outputs": [
    {
     "data": {
      "text/plain": [
       "4"
      ]
     },
     "execution_count": 245,
     "metadata": {},
     "output_type": "execute_result"
    }
   ],
   "source": [
    "sum([1<l<=5 for l in lst])"
   ]
  },
  {
   "cell_type": "markdown",
   "id": "8308ce71-565b-4c16-a2f6-3003e904d64c",
   "metadata": {},
   "source": [
    "## D. 풀이"
   ]
  },
  {
   "cell_type": "markdown",
   "id": "a7f84a39-1c08-47a7-a7c7-cac6e7967a8c",
   "metadata": {},
   "source": [
    "![](https://github.com/guebin/PP2024/blob/main/imgs/2024-수능-확통-29.png?raw=true)"
   ]
  },
  {
   "cell_type": "markdown",
   "id": "3ff6d9c8-3c58-4034-829f-a48a930bb1e2",
   "metadata": {},
   "source": [
    "(풀이)"
   ]
  },
  {
   "cell_type": "code",
   "execution_count": 259,
   "id": "01543a45-24a6-4145-b0e3-e19d1cbd9281",
   "metadata": {},
   "outputs": [
    {
     "data": {
      "text/plain": [
       "196"
      ]
     },
     "execution_count": 259,
     "metadata": {},
     "output_type": "execute_result"
    }
   ],
   "source": [
    "lst = [1,2,3,4,5,6]\n",
    "sum([a<=c<=d and b<=c<=d for a,b,c,d in itertools.product(lst,lst,lst,lst)])"
   ]
  },
  {
   "cell_type": "markdown",
   "id": "7e870ab6-8a32-4ec7-89fd-6e811c2760ab",
   "metadata": {},
   "source": [
    "# 6. 2024년 수능 -- 19 (다시풀기)"
   ]
  },
  {
   "cell_type": "markdown",
   "id": "9d2eb622-ac7e-483e-8aae-467d10be6285",
   "metadata": {},
   "source": [
    "## A. 문제파악 "
   ]
  },
  {
   "cell_type": "markdown",
   "id": "9adee05c-51ea-40aa-b4f9-9fc4ef466ae2",
   "metadata": {},
   "source": [
    "![](https://github.com/guebin/PP2024/blob/main/imgs/2024-수능-19.png?raw=true)"
   ]
  },
  {
   "cell_type": "markdown",
   "id": "e94ac603-3fdd-479c-bb56-da820dee9dcd",
   "metadata": {},
   "source": [
    "## B. 예비학습"
   ]
  },
  {
   "cell_type": "markdown",
   "id": "7fb6a4bb-686a-4a5c-a88c-7a41c0247b29",
   "metadata": {},
   "source": [
    "`-` 예제: 제곱수중에서 12로 나누어서 떨어지는 수만 원소르 가지는 리스트를 만들고 싶다. \n",
    "\n",
    "- 제곱수: 1,4,9,16,25,36,...\n",
    "- 12로 나누어서 떨어지는 수: 36"
   ]
  },
  {
   "cell_type": "markdown",
   "id": "296b5bfa-e6cd-41ed-a3c4-45824896dc12",
   "metadata": {},
   "source": [
    "(복습1)"
   ]
  },
  {
   "cell_type": "code",
   "execution_count": 261,
   "id": "905863aa-1c83-4b01-83b3-77de6819d47a",
   "metadata": {},
   "outputs": [
    {
     "data": {
      "text/plain": [
       "0"
      ]
     },
     "execution_count": 261,
     "metadata": {},
     "output_type": "execute_result"
    }
   ],
   "source": [
    "12 % 4 # % 는 나머지를 계산하는 연산자, 12를 4로 나누었더니 나머지가 0"
   ]
  },
  {
   "cell_type": "code",
   "execution_count": 263,
   "id": "7ec0de71-b903-497f-9ae3-2c2a94ce274d",
   "metadata": {},
   "outputs": [
    {
     "data": {
      "text/plain": [
       "2"
      ]
     },
     "execution_count": 263,
     "metadata": {},
     "output_type": "execute_result"
    }
   ],
   "source": [
    "12 % 5 # 12 = 5*2 +2 "
   ]
  },
  {
   "cell_type": "markdown",
   "id": "b7f12391-b189-4583-99ae-033df64e6819",
   "metadata": {},
   "source": [
    "(복습2)"
   ]
  },
  {
   "cell_type": "code",
   "execution_count": 266,
   "id": "7c5418da-e9f9-4582-bcb8-3b60352e46f3",
   "metadata": {},
   "outputs": [],
   "source": [
    "a = 3 # a에 2를 대입하라..."
   ]
  },
  {
   "cell_type": "code",
   "execution_count": 267,
   "id": "9c6538f8-54fb-4e67-8e35-25a116669d56",
   "metadata": {},
   "outputs": [
    {
     "data": {
      "text/plain": [
       "False"
      ]
     },
     "execution_count": 267,
     "metadata": {},
     "output_type": "execute_result"
    }
   ],
   "source": [
    "a == 2 # a에 들어있는 값이 2이인지 테스트하라.."
   ]
  },
  {
   "cell_type": "code",
   "execution_count": 268,
   "id": "d36ef681-bf15-4815-9a24-3f0a3b84e440",
   "metadata": {},
   "outputs": [
    {
     "data": {
      "text/plain": [
       "True"
      ]
     },
     "execution_count": 268,
     "metadata": {},
     "output_type": "execute_result"
    }
   ],
   "source": [
    "a == 3"
   ]
  },
  {
   "cell_type": "markdown",
   "id": "b78c3c72-6e1c-48dd-9b90-3d49a4f5c94d",
   "metadata": {},
   "source": [
    "(풀이1) -- 비어있는 리스트를 만들고, for + if 를 사용 "
   ]
  },
  {
   "cell_type": "code",
   "execution_count": 271,
   "id": "108b9936-5c08-459a-a045-2d71bb17a7f3",
   "metadata": {},
   "outputs": [],
   "source": [
    "lst = []\n",
    "for i in range(1,101):\n",
    "    if i**2 % 12 == 0: # i^2을 12로 나누어서 나누어 떨어진다면\n",
    "        lst.append(i**2)"
   ]
  },
  {
   "cell_type": "code",
   "execution_count": 272,
   "id": "7215718a-670b-47da-b11f-27efed55a349",
   "metadata": {},
   "outputs": [
    {
     "data": {
      "text/plain": [
       "[36,\n",
       " 144,\n",
       " 324,\n",
       " 576,\n",
       " 900,\n",
       " 1296,\n",
       " 1764,\n",
       " 2304,\n",
       " 2916,\n",
       " 3600,\n",
       " 4356,\n",
       " 5184,\n",
       " 6084,\n",
       " 7056,\n",
       " 8100,\n",
       " 9216]"
      ]
     },
     "execution_count": 272,
     "metadata": {},
     "output_type": "execute_result"
    }
   ],
   "source": [
    "lst"
   ]
  },
  {
   "cell_type": "markdown",
   "id": "1f5838af-5ce8-4391-a899-51f7385b35a8",
   "metadata": {},
   "source": [
    "(풀이2) - if문이 포함된 리스트 컴프리헨션 "
   ]
  },
  {
   "cell_type": "code",
   "execution_count": 274,
   "id": "653e4ca2-9b0f-4d4c-9565-dd5fb88fb6f0",
   "metadata": {},
   "outputs": [
    {
     "data": {
      "text/plain": [
       "[36,\n",
       " 144,\n",
       " 324,\n",
       " 576,\n",
       " 900,\n",
       " 1296,\n",
       " 1764,\n",
       " 2304,\n",
       " 2916,\n",
       " 3600,\n",
       " 4356,\n",
       " 5184,\n",
       " 6084,\n",
       " 7056,\n",
       " 8100,\n",
       " 9216]"
      ]
     },
     "execution_count": 274,
     "metadata": {},
     "output_type": "execute_result"
    }
   ],
   "source": [
    "[i**2 for i in range(1,101) if i**2 % 12 ==0] "
   ]
  },
  {
   "cell_type": "markdown",
   "id": "81712a98-66b9-4cec-8d7a-f17aac836767",
   "metadata": {},
   "source": [
    "## C. 풀이 "
   ]
  },
  {
   "cell_type": "markdown",
   "id": "b124b66e-d5bf-4687-b524-bcb98f5cc0c7",
   "metadata": {},
   "source": [
    "![](https://github.com/guebin/PP2024/blob/main/imgs/2024-수능-19.png?raw=true)"
   ]
  },
  {
   "cell_type": "markdown",
   "id": "fca5e426-a4d1-4cde-b8a4-b7186c31e224",
   "metadata": {},
   "source": [
    "(풀이)"
   ]
  },
  {
   "cell_type": "code",
   "execution_count": 293,
   "id": "12871706-8095-4a1f-9290-73b7786fa146",
   "metadata": {},
   "outputs": [
    {
     "data": {
      "text/plain": [
       "32"
      ]
     },
     "execution_count": 293,
     "metadata": {},
     "output_type": "execute_result"
    }
   ],
   "source": [
    "x = list(range(1,16))\n",
    "f = lambda x: np.sin(np.pi/4*x)\n",
    "sum([xi for xi in x if f(2+xi)*f(2-xi)<1/4])"
   ]
  },
  {
   "cell_type": "markdown",
   "id": "292712da-59c9-4af8-a72b-11385f972f8b",
   "metadata": {},
   "source": [
    "# 7. 컴프리헨션 연습"
   ]
  },
  {
   "cell_type": "markdown",
   "id": "6ab08944-ce55-4cd1-bff5-e7dc30dc938c",
   "metadata": {},
   "source": [
    "지금까지 해결했던 다양한 문제를 넘파이의 벡터연산을 봉인하고 해결해보자. "
   ]
  },
  {
   "cell_type": "markdown",
   "id": "e2956372-d136-479f-8825-242d7ca5d029",
   "metadata": {},
   "source": [
    "`# 예제1` -- 아래를 리스트컴프리헨션을 이용하여 구현하라. "
   ]
  },
  {
   "cell_type": "code",
   "execution_count": 294,
   "id": "87161388-d471-44db-84eb-f85f011e7ddc",
   "metadata": {},
   "outputs": [
    {
     "data": {
      "text/plain": [
       "array([2, 3, 4])"
      ]
     },
     "execution_count": 294,
     "metadata": {},
     "output_type": "execute_result"
    }
   ],
   "source": [
    "arr = np.array([1,2,3])\n",
    "arr + 1"
   ]
  },
  {
   "cell_type": "code",
   "execution_count": 295,
   "id": "597671f5-788d-4961-904f-4c0496d6c726",
   "metadata": {},
   "outputs": [
    {
     "data": {
      "text/plain": [
       "array([2, 4, 6])"
      ]
     },
     "execution_count": 295,
     "metadata": {},
     "output_type": "execute_result"
    }
   ],
   "source": [
    "arr * 2"
   ]
  },
  {
   "cell_type": "markdown",
   "id": "57833938-adae-4970-812b-c09ba7566a12",
   "metadata": {},
   "source": [
    "(풀이)"
   ]
  },
  {
   "cell_type": "code",
   "execution_count": 296,
   "id": "960191ff-17ff-4ffe-88d6-2c44d23b3fcd",
   "metadata": {},
   "outputs": [],
   "source": [
    "lst = [1,2,3]"
   ]
  },
  {
   "cell_type": "code",
   "execution_count": 298,
   "id": "b3618a49-3f20-419a-822f-d0c5a09af57d",
   "metadata": {},
   "outputs": [
    {
     "data": {
      "text/plain": [
       "[2, 3, 4]"
      ]
     },
     "execution_count": 298,
     "metadata": {},
     "output_type": "execute_result"
    }
   ],
   "source": [
    "[l+1 for l in lst]"
   ]
  },
  {
   "cell_type": "code",
   "execution_count": 300,
   "id": "c70e550a-28d8-4257-92bf-164acb64d6fd",
   "metadata": {},
   "outputs": [
    {
     "data": {
      "text/plain": [
       "[2, 4, 6]"
      ]
     },
     "execution_count": 300,
     "metadata": {},
     "output_type": "execute_result"
    }
   ],
   "source": [
    "[l*2 for l in lst]"
   ]
  },
  {
   "cell_type": "markdown",
   "id": "b1f92351-d360-497f-955d-2a82e18a3e9c",
   "metadata": {},
   "source": [
    "`#`"
   ]
  },
  {
   "cell_type": "markdown",
   "id": "12e3af7f-f966-4b4d-9176-ce105e5ecbdb",
   "metadata": {},
   "source": [
    "`# 예제2` -- 아래를 리스트 컴프리헨션을 이용하여 구현하자. "
   ]
  },
  {
   "cell_type": "code",
   "execution_count": 302,
   "id": "ffb6401f-db54-4944-b498-ef91c772298d",
   "metadata": {},
   "outputs": [
    {
     "data": {
      "text/plain": [
       "array([ 1,  4,  7, 10, 13, 16, 19, 22, 25, 28])"
      ]
     },
     "execution_count": 302,
     "metadata": {},
     "output_type": "execute_result"
    }
   ],
   "source": [
    "n = np.arange(1,11)\n",
    "an = 3*n - 2 \n",
    "an"
   ]
  },
  {
   "cell_type": "markdown",
   "id": "4d2674ae-0242-4089-ad26-4e518d305d66",
   "metadata": {},
   "source": [
    "(풀이)"
   ]
  },
  {
   "cell_type": "code",
   "execution_count": 307,
   "id": "be4e7b40-02bf-4b2a-950a-db1f6ebd6b1a",
   "metadata": {},
   "outputs": [
    {
     "data": {
      "text/plain": [
       "[1, 4, 7, 10, 13, 16, 19, 22, 25, 28]"
      ]
     },
     "execution_count": 307,
     "metadata": {},
     "output_type": "execute_result"
    }
   ],
   "source": [
    "[3*n-2 for n in range(1,11)]"
   ]
  },
  {
   "cell_type": "markdown",
   "id": "787a1864-dc4f-4253-900c-d82be114ab5c",
   "metadata": {},
   "source": [
    "`#`"
   ]
  },
  {
   "cell_type": "markdown",
   "id": "d557547b-2cec-4a5a-9d46-622d83c26492",
   "metadata": {},
   "source": [
    "`# 예제3` -- 아래의 코드에서 `list(map(f,x))` 대신에 리스트 컴프리헨션을 이용하라. "
   ]
  },
  {
   "cell_type": "code",
   "execution_count": 310,
   "id": "09c94195-1eba-4e25-bdb0-cb7b83bb6221",
   "metadata": {},
   "outputs": [
    {
     "data": {
      "text/plain": [
       "[3, 4, 5, 6, 7, 8, 9, 10, 11, 12]"
      ]
     },
     "execution_count": 310,
     "metadata": {},
     "output_type": "execute_result"
    }
   ],
   "source": [
    "x = np.arange(1,11)\n",
    "f = lambda x: x+2 \n",
    "list(map(f,x))"
   ]
  },
  {
   "cell_type": "markdown",
   "id": "fd229a6e-454c-4026-8839-dec6b0e15784",
   "metadata": {},
   "source": [
    "(풀이)"
   ]
  },
  {
   "cell_type": "code",
   "execution_count": 313,
   "id": "0b590c7c-0cc1-4b23-837c-015b87e8344b",
   "metadata": {},
   "outputs": [
    {
     "data": {
      "text/plain": [
       "[3, 4, 5, 6, 7, 8, 9, 10, 11, 12]"
      ]
     },
     "execution_count": 313,
     "metadata": {},
     "output_type": "execute_result"
    }
   ],
   "source": [
    "f = lambda x: x+2 \n",
    "[f(x) for x in range(1,11)]"
   ]
  },
  {
   "cell_type": "markdown",
   "id": "f19d8da3-44d2-4601-8026-841724ffc86e",
   "metadata": {},
   "source": [
    "`#`"
   ]
  },
  {
   "cell_type": "markdown",
   "id": "37983b46-a3e6-4825-8154-20429d7e8297",
   "metadata": {},
   "source": [
    "**팁: 반복계산을 해야할 경우**\n",
    "\n",
    "1. 벡터화연산이 지원된다면 그것을 사용한다. (numpy, pandas)\n",
    "2. 불가능할 경우 `map(f,x)`를 쓰거나 리스트컴프리헨션을 사용한다. \n",
    "3. 그래도 안되는 경우 `for`를 사용한다. "
   ]
  }
 ],
 "metadata": {
  "kernelspec": {
   "display_name": "Python 3 (ipykernel)",
   "language": "python",
   "name": "python3"
  },
  "language_info": {
   "codemirror_mode": {
    "name": "ipython",
    "version": 3
   },
   "file_extension": ".py",
   "mimetype": "text/x-python",
   "name": "python",
   "nbconvert_exporter": "python",
   "pygments_lexer": "ipython3",
   "version": "3.11.8"
  }
 },
 "nbformat": 4,
 "nbformat_minor": 5
}
