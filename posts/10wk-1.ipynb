{
 "cells": [
  {
   "cell_type": "raw",
   "id": "ed094e32-7dbc-4808-93df-9e9a471480a7",
   "metadata": {
    "id": "87b5cded-346b-4915-acf5-b5ec93a5207d"
   },
   "source": [
    "---\n",
    "title: \"10wk-1: 퀴즈6\"\n",
    "author: \"최규빈\"\n",
    "date: \"05/08/2024\"\n",
    "draft: false\n",
    "---"
   ]
  },
  {
   "cell_type": "markdown",
   "id": "ae96174c-a744-4963-b6fe-bbb36d2d0bed",
   "metadata": {
    "id": "e67ab8e0"
   },
   "source": [
    "<a href=\"https://colab.research.google.com/github/guebin/PP2024/blob/main/posts/10wk-1.ipynb\"><img src=\"https://colab.research.google.com/assets/colab-badge.svg\" style=\"text-align: left\"></a>"
   ]
  },
  {
   "cell_type": "markdown",
   "id": "b91c8a9a-9aba-4fae-a44c-b6976e0a1c21",
   "metadata": {},
   "source": [
    "::: {.callout-caution}\n",
    "- 전북대 학생들을 시험당일 학생증을 지참할 것. (출석체크 및 본인확인) 학생증 외에 신분증 여권등도 가능.\n",
    "- 부정행위 (카카오톡 채팅을 통한 코드공유, 생성형모델 사용, 대리시험 등) 적발시 F 처리함. \n",
    "- 퀴즈 중 지각할 경우 지각사실을 기록함. 하지만 별 다른 감점은 하지 않음.\n",
    "- `.ipynb` 파일 형태로 제출된 답안지만 채점하며 그 외의 형식 (`.hwp`, `.py` 등)은 채점하지 않음. 즉 0점 처리함.\n",
    ":::\n"
   ]
  },
  {
   "cell_type": "code",
   "execution_count": 3,
   "id": "f4e7c4f4-d8b9-4418-9553-df9108f7630e",
   "metadata": {
    "tags": []
   },
   "outputs": [],
   "source": [
    "import numpy as np\n",
    "import matplotlib.pyplot as plt\n",
    "import urllib.request"
   ]
  },
  {
   "cell_type": "markdown",
   "id": "6973825f-55fd-4031-8e78-6526ac1a77d9",
   "metadata": {},
   "source": [
    "# 1. MNIST -- 40점"
   ]
  },
  {
   "cell_type": "markdown",
   "id": "4a5689e4-5bb1-424d-a9b1-647d7300265f",
   "metadata": {},
   "source": [
    "> 모두 맞출경우만 정답으로 인정 "
   ]
  },
  {
   "cell_type": "markdown",
   "id": "8ad9cf33-12b2-4c6f-887f-803046d6f7ea",
   "metadata": {},
   "source": [
    "아래의 코드를 실행하여 MNIST 자료를 불러오라. "
   ]
  },
  {
   "cell_type": "code",
   "execution_count": 17,
   "id": "30b2da13-6b5c-4bf9-b0fe-6e4fab93c256",
   "metadata": {
    "tags": []
   },
   "outputs": [],
   "source": [
    "# URL 설정\n",
    "url = 'https://github.com/guebin/PP2023/raw/main/posts/02_DataScience/mnist.npz'\n",
    "\n",
    "# URL에서 파일 다운로드\n",
    "urllib.request.urlretrieve(url, './mnist.npz')\n",
    "\n",
    "# 데이터 로드\n",
    "data = np.load('./mnist.npz')\n",
    "xtrain, ytrain, xtest, ytest = data['x_train']/255, data['y_train'], data['x_test']/255, data['y_test']\n",
    "\n",
    "# mnist.npz 삭제\n",
    "!rm mnist.npz"
   ]
  },
  {
   "cell_type": "markdown",
   "id": "9dfb0051-c210-4571-b0b0-89a4352bdd9f",
   "metadata": {},
   "source": [
    "`(1)` xtrain, xtest를 합쳐서 shape이 (70000,28,28) 인 numpy array를 생성하고 이것을 `X`에 저장하라. "
   ]
  },
  {
   "cell_type": "markdown",
   "id": "712ae217-3dc8-47fc-91dc-f89638d9fe3f",
   "metadata": {},
   "source": [
    "`(풀이)`"
   ]
  },
  {
   "cell_type": "code",
   "execution_count": 18,
   "id": "633c482b-287d-4985-8e75-d4cd68ab8a0d",
   "metadata": {
    "tags": []
   },
   "outputs": [],
   "source": [
    "X = np.concatenate([xtrain,xtest])\n",
    "y = np.concatenate([ytrain,ytest])"
   ]
  },
  {
   "cell_type": "markdown",
   "id": "e77c3d03-1c8f-4b56-852f-d1b938fd41a9",
   "metadata": {},
   "source": [
    "`(2)` 아래의 코드에 43052대신 본인 학번 끝의 5자리를 입력하여 (3,3) 크기의 난수를 생성하라. "
   ]
  },
  {
   "cell_type": "code",
   "execution_count": 5,
   "id": "543eb619-bcf3-4bb9-87f5-9fa9e2b5279e",
   "metadata": {
    "tags": []
   },
   "outputs": [
    {
     "data": {
      "text/plain": [
       "array([[1, 0, 1],\n",
       "       [1, 0, 0],\n",
       "       [1, 1, 1]])"
      ]
     },
     "execution_count": 5,
     "metadata": {},
     "output_type": "execute_result"
    }
   ],
   "source": [
    "np.random.seed(43052)\n",
    "np.random.binomial(n=1,p=0.5,size=(3,3))"
   ]
  },
  {
   "cell_type": "markdown",
   "id": "121846c5-0d28-46fa-8c96-e4dfdc5a71e4",
   "metadata": {},
   "source": [
    "위에서 생성된 난수를 저장된 `X`의 평균이미지를 concat하여 시각화하라. "
   ]
  },
  {
   "cell_type": "markdown",
   "id": "dd72246c-c532-446e-ba5e-870487e9d3ea",
   "metadata": {},
   "source": [
    "> 주의: 시각화하는 이미지는 (84,84) 의 shape을 가지고 있어야 한다. "
   ]
  },
  {
   "cell_type": "markdown",
   "id": "3104463c-3307-4f75-a2c7-b6b5c6436875",
   "metadata": {},
   "source": [
    "`(풀이)`"
   ]
  },
  {
   "cell_type": "code",
   "execution_count": 22,
   "id": "b5122649-da64-4f24-b121-b4d693560dcd",
   "metadata": {
    "tags": []
   },
   "outputs": [],
   "source": [
    "X0 = X[y==0].mean(axis=0)\n",
    "X1 = X[y==1].mean(axis=0)"
   ]
  },
  {
   "cell_type": "code",
   "execution_count": 24,
   "id": "d5d08f8f-937c-4cad-a447-644cf066b5ea",
   "metadata": {
    "tags": []
   },
   "outputs": [
    {
     "data": {
      "text/plain": [
       "<matplotlib.image.AxesImage at 0x7f5ccd78f3a0>"
      ]
     },
     "execution_count": 24,
     "metadata": {},
     "output_type": "execute_result"
    },
    {
     "data": {
      "image/png": "[encoded data removed]",
      "text/plain": [
       "<Figure size 640x480 with 1 Axes>"
      ]
     },
     "metadata": {},
     "output_type": "display_data"
    }
   ],
   "source": [
    "solution = np.concatenate(\n",
    "    [np.concatenate([X1,X0,X1],axis=1),\n",
    "     np.concatenate([X1,X0,X0],axis=1),\n",
    "     np.concatenate([X1,X1,X1],axis=1)]\n",
    ")\n",
    "plt.imshow(solution,cmap='gray')"
   ]
  },
  {
   "cell_type": "markdown",
   "id": "25d0ac78-509f-43fc-887d-1b8d0c542222",
   "metadata": {},
   "source": [
    "# 2. 공든탑쌓기 -- 60점 "
   ]
  },
  {
   "cell_type": "markdown",
   "id": "814d797f-2892-4754-a595-2f5632e0b814",
   "metadata": {},
   "source": [
    "> (1)-(2)는 점수없음. (풀지 않아도 무방) // (3) 만 맞출경우 20점, (3)-(4) 모두 맞출경우 60점"
   ]
  },
  {
   "cell_type": "markdown",
   "id": "81e259d0-cade-4971-9b0e-ff8ee1afa6b6",
   "metadata": {},
   "source": [
    "규빈과 다호가 블록을 사용하여 탑을 쌓는다. 규빈은 한 번에 2개의 블록을 사용하여 탑을 쌓지만, 실수로 탑을 무너뜨릴 확률이 50%이다. 한 번 무너진 탑은 다시 처음부터 쌓아야 한다. 다호는 한 번에 1개의 블록을 사용하여 신중하게 탑을 쌓는다. 다호는 천천히 탑을 쌓지만 실수로 탑을 무너뜨리지 않는다. "
   ]
  },
  {
   "cell_type": "markdown",
   "id": "a25de4c2-4ab7-4cc9-a4ef-6c5457aa1531",
   "metadata": {},
   "source": [
    "`(1)` 규빈과 다호가 2층 높이의 탑을 먼저 쌓는 내기를 하였다고 하자. 탑을 쌓을수 있는 기회는 2회 준다. 이 내기는 누가 유리한가? 시뮬레이션을 통하여 근거를 설명하라. (둘이 동시에 탑을 쌓을경우 무승부로 판단한다.)"
   ]
  },
  {
   "cell_type": "markdown",
   "id": "c64330dd-49d3-4ea5-9d4c-90dda54a1049",
   "metadata": {},
   "source": [
    "`(2)` 규빈과 다호가 10층 높이의 탑을 먼저 쌓는 내기를 하였다고 하자. 탑을 쌓을수 있는 기회는 10회 준다. 이 내기는 누가 유리한가? 시뮬레이션을 통하여 근거를 설명하라. (둘이 동시에 탑을 쌓을경우 무승부로 판단한다.)"
   ]
  },
  {
   "cell_type": "markdown",
   "id": "91c74c96-e41e-4b80-9efd-760536d81ed1",
   "metadata": {},
   "source": [
    "`(3)` (2)와 같은 게임규칙^[10층높이의 탑을 먼저 쌓는 쪽이 이기며, 기회는 10번 주는 게임]에서 규빈은 본인이 불리하다는 사실을 알아챘다. 규빈은 아래와 같이 전략을 수정하였다. \n",
    "\n",
    "- 규빈탑의 높이 <8 일 경우: (다호처럼) 1개의 블록만 안전하게 쌓는다. 이때 1개의 블록쌓기는 100% 확률로 성공한다. \n",
    "- 규빈탑의 높이 >=8 일 경우: 2개의 블록을 쌓으려고 시도한다 (50%의 확률로 성공 / 50%의 확률로 실패, 실패시 규빈의 블록 높이는 0이 된다) \n",
    "\n",
    "규빈이 전략을 수정함에 따라 내기는 누가 유리해지는가? 근거를 설명하라. (둘이 동시에 탑을 쌓을경우 무승부로 판단한다.)"
   ]
  },
  {
   "cell_type": "markdown",
   "id": "2c6cc939-976b-4a42-b319-ea131d666c75",
   "metadata": {},
   "source": [
    "> 이 문제는 시뮬레이션을 이용하여 근거를 설명하지 않아도 무방함 (해도 되고 안해도 되고..)"
   ]
  },
  {
   "cell_type": "markdown",
   "id": "00473436-c177-41e3-91c4-164db18a97f2",
   "metadata": {},
   "source": [
    "`(풀이1)` "
   ]
  },
  {
   "cell_type": "markdown",
   "id": "1cac70ec-5854-4549-aa76-352a0935f73f",
   "metadata": {},
   "source": [
    "8층까지는 동일하게 규빈,다호 하나의 블록씩 쌓음. 8층에서 규빈은 한번에 2층을 쌓으려는 도박을 시도하는데 도박이 성공한다면 승리, 실패하면 패배이므로 이 내기는 5:5로 공평하게 유리하다. "
   ]
  },
  {
   "cell_type": "markdown",
   "id": "6c1bccb5-23d3-40ee-8908-bcdb2138a98f",
   "metadata": {},
   "source": [
    "`(풀이2)`"
   ]
  },
  {
   "cell_type": "code",
   "execution_count": 29,
   "id": "93bcb1da-974c-4254-b8de-f57e9a31df46",
   "metadata": {
    "tags": []
   },
   "outputs": [],
   "source": [
    "def build_tower(max_time, end_condition):\n",
    "    guebin = 0\n",
    "    daho = 0\n",
    "    for t in range(max_time): # max_time 동안 게임을 진행 \n",
    "        #--# 블록을 쌓음           \n",
    "        if guebin < 8: # 규빈탑의 높이<8 인 경우 규빈이 블록을 1층씩 쌓음 \n",
    "            guebin = guebin + 1 \n",
    "            daho = daho + 1 \n",
    "        else: # 규빈탑의 높이 == 8인 경우 규빈은 2개의 블록을 쌓으려는 도박을 시도\n",
    "            if np.random.rand() < 0.5: # 규빈이 탑 쌓다가 실수로 무너짐\n",
    "                guebin = 0 \n",
    "                daho = daho + 1 \n",
    "            else: # 규빈이 탑을 잘 쌓음 \n",
    "                guebin = guebin + 2  \n",
    "                daho = daho + 1 \n",
    "        #--# 승패를 체크\n",
    "        if (guebin >= end_condition) and (daho >= end_condition):\n",
    "            result = \"무승부 (둘이 동시에 성공)\"\n",
    "            break\n",
    "        elif (guebin >= end_condition) and (daho < end_condition):\n",
    "            result = \"규빈승\"\n",
    "            break\n",
    "        elif (guebin < end_condition) and (daho >= end_condition):\n",
    "            result = \"다호승\"\n",
    "            break\n",
    "        else: \n",
    "            result = \"무승부 (둘다 쌓지 못함)\"\n",
    "    return result "
   ]
  },
  {
   "cell_type": "code",
   "execution_count": 30,
   "id": "05b1df04-0c3b-405b-90bf-367e886955cf",
   "metadata": {
    "tags": []
   },
   "outputs": [
    {
     "data": {
      "text/plain": [
       "{'다호승': 516, '규빈승': 484}"
      ]
     },
     "execution_count": 30,
     "metadata": {},
     "output_type": "execute_result"
    }
   ],
   "source": [
    "results = [build_tower(max_time=10,end_condition=10) for i in range(1000)]\n",
    "{s:results.count(s) for s in set(results)}"
   ]
  },
  {
   "cell_type": "markdown",
   "id": "ab097b0a-4aa0-4a72-bd00-288eed29799a",
   "metadata": {},
   "source": [
    "시뮬레이션 결과 공평하게 유리하다. "
   ]
  },
  {
   "cell_type": "markdown",
   "id": "b75d7400-c6b4-4c51-8c09-093ace59e853",
   "metadata": {},
   "source": [
    "`(4)` (2)와 같은 게임규칙^[10층높이의 탑을 먼저 쌓는 쪽이 이기며, 기회는 10번 주는 게임]에서 규빈이 아래와 같이 전략을 수정한다면 누가 유리한가? 시뮬레이션을 통하여 근거를 설명하라.\n",
    "\n",
    "- 규빈탑의 높이 <2 일 경우: 2개의 블록을 쌓으려고 시도한다 (50%의 확률로 성공 / 50%의 확률로 실패, 실패시 규빈의 블록 높이는 0이 된다) \n",
    "- 규빈탑의 높이 >=2 일 경우: (다호처럼) 1개의 블록만 안전하게 쌓는다. 이때 1개의 블록쌓기는 100% 확률로 성공한다. "
   ]
  },
  {
   "cell_type": "code",
   "execution_count": 27,
   "id": "ca311dd7-f5fd-4cff-a0b4-c8eadab43c7d",
   "metadata": {
    "tags": []
   },
   "outputs": [],
   "source": [
    "def build_tower(max_time, end_condition):\n",
    "    guebin = 0\n",
    "    daho = 0\n",
    "    for t in range(max_time): # max_time 동안 게임을 진행 \n",
    "        #--# 블록을 쌓음           \n",
    "        if guebin >= 2: # 규빈탑의 높이 >=2 인 경우 규빈이 안전하게 1개의 블록씩 쌓으려고 노력한다. \n",
    "            guebin = guebin + 1 \n",
    "            daho = daho + 1 \n",
    "        else: # 규빈탑의높이<2 인경우 2개의 블록을 쌓으려 시도한다. \n",
    "            if np.random.rand() < 0.5: # 규빈이 탑 쌓다가 실수로 무너짐\n",
    "                guebin = 0 \n",
    "                daho = daho + 1 \n",
    "            else: # 규빈이 탑을 잘 쌓음 \n",
    "                guebin = guebin + 2  \n",
    "                daho = daho + 1 \n",
    "        #--# 승패를 체크\n",
    "        if (guebin >= end_condition) and (daho >= end_condition):\n",
    "            result = \"무승부 (둘이 동시에 성공)\"\n",
    "            break\n",
    "        elif (guebin >= end_condition) and (daho < end_condition):\n",
    "            result = \"규빈승\"\n",
    "            break\n",
    "        elif (guebin < end_condition) and (daho >= end_condition):\n",
    "            result = \"다호승\"\n",
    "            break\n",
    "        else: \n",
    "            result = \"무승부 (둘다 쌓지 못함)\"\n",
    "    return result "
   ]
  },
  {
   "cell_type": "code",
   "execution_count": 28,
   "id": "d65227d9-5bf2-46b1-8fa2-aabf616caf7e",
   "metadata": {
    "tags": []
   },
   "outputs": [
    {
     "data": {
      "text/plain": [
       "{'다호승': 241, '규빈승': 531, '무승부 (둘이 동시에 성공)': 228}"
      ]
     },
     "execution_count": 28,
     "metadata": {},
     "output_type": "execute_result"
    }
   ],
   "source": [
    "results = [build_tower(max_time=10,end_condition=10) for i in range(1000)]\n",
    "{s:results.count(s) for s in set(results)}"
   ]
  },
  {
   "cell_type": "markdown",
   "id": "fb0661ba-f168-48ab-9afe-708fa884c6ea",
   "metadata": {},
   "source": [
    "> 사실상 `(2)`와 같은 경우이다. 규빈이 2개의 블럭을 쌓는 첫시도에서 성공한다면 규빈의 승리 (이미 1층씩 쌓아도 승리확정이므로 이후에는 굳이 도박을 할 필요가 없음), 규빈이 2개의 블럭을 쌓는 시도를 하여 첫 시도에서 실패하고 두번째 시도에서 성공한다면 무승부, 규빈이 2개의 블럭을 쌓는 시도에서 처음 두번을 연속 실패한다면 이후의 결과와 상관없이 규빈의 패배로 결정된다."
   ]
  }
 ],
 "metadata": {
  "kernelspec": {
   "display_name": "Python 3 (ipykernel)",
   "language": "python",
   "name": "python3"
  },
  "language_info": {
   "codemirror_mode": {
    "name": "ipython",
    "version": 3
   },
   "file_extension": ".py",
   "mimetype": "text/x-python",
   "name": "python",
   "nbconvert_exporter": "python",
   "pygments_lexer": "ipython3",
   "version": "3.10.13"
  }
 },
 "nbformat": 4,
 "nbformat_minor": 5
}
