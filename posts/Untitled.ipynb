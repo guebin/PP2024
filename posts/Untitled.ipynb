{
 "cells": [
  {
   "cell_type": "code",
   "execution_count": 12,
   "id": "febbf490-e5b4-4944-9834-c027913fcb1a",
   "metadata": {
    "tags": []
   },
   "outputs": [],
   "source": [
    "import numpy as np"
   ]
  },
  {
   "cell_type": "code",
   "execution_count": 28,
   "id": "d02b2d19-43dc-4177-b9a4-baacc6d493d5",
   "metadata": {
    "tags": []
   },
   "outputs": [],
   "source": [
    "class Base:\n",
    "  def __init__(self, end_condition, name):\n",
    "    self.end_condition = end_condition\n",
    "    self.name = name\n",
    "    self.top = 0\n",
    "    self.n=0\n",
    "    self.finish = False\n",
    "  def __repr__(self):\n",
    "    text=(\n",
    "        f'이름: {self.name}\\n'\n",
    "        f'목표높이: {self.end_condition}\\n'\n",
    "        f'현재높이: {self.top}\\n'\n",
    "        f'진행횟수: {self.n}\\n'\n",
    "        f'완성상태: {self.finish}'\n",
    "        )\n",
    "    return text\n",
    "  def 탑쌓기(self):\n",
    "    self.n += 1\n",
    "    if self.top < self.end_condition:\n",
    "      self.top += 1\n",
    "      if self.top == self.end_condition:\n",
    "        self.finish = True\n",
    "  def __gt__(self, other):\n",
    "    return self.top > other.top\n",
    "  def __lt__(self, other):\n",
    "    return self.top < other.top\n",
    "  def __rshift__(self, other):\n",
    "    if self.finish==True :\n",
    "      return True\n",
    "    else:\n",
    "      return False\n",
    "  def __lshift__(self, other):\n",
    "    if other.finish==True:\n",
    "      return True\n",
    "    else:\n",
    "      return False"
   ]
  },
  {
   "cell_type": "code",
   "execution_count": 43,
   "id": "967ad4e1-3d58-4e26-baef-ff3d1b8f5a53",
   "metadata": {
    "tags": []
   },
   "outputs": [
    {
     "name": "stdout",
     "output_type": "stream",
     "text": [
      "이름: 다호\n",
      "목표높이: 2\n",
      "현재높이: 1\n",
      "진행횟수: 1\n",
      "완성상태: False\n",
      "공격\n",
      "공격성공\n",
      "---\n",
      "이름: 다호\n",
      "목표높이: 2\n",
      "현재높이: 1\n",
      "진행횟수: 2\n",
      "완성상태: False\n",
      "공격\n",
      "공격성공\n",
      "---\n",
      "이름: 다호\n",
      "목표높이: 2\n",
      "현재높이: 1\n",
      "진행횟수: 3\n",
      "완성상태: False\n",
      "공격\n",
      "공격실패\n",
      "---\n",
      "이름: 다호\n",
      "목표높이: 2\n",
      "현재높이: 2\n",
      "진행횟수: 4\n",
      "완성상태: True\n",
      "이름: 규빈\n",
      "목표높이: 2\n",
      "현재높이: 2\n",
      "진행횟수: 1\n",
      "완성상태: True\n"
     ]
    }
   ],
   "source": [
    "#매번 50% 확률로 공격\n",
    "winner=[]\n",
    "for i in range(1):\n",
    "  규빈 = Attack_guebin(name=\"규빈\",end_condition=2)\n",
    "  다호 = Base(name=\"다호\",end_condition=2)\n",
    "  while True:\n",
    "    다호.탑쌓기()\n",
    "    print(repr(다호))\n",
    "    attack_or_stack=np.random.choice(['attack','stack'])\n",
    "    if attack_or_stack=='attack':\n",
    "      print(\"공격\")\n",
    "      suc_or_fail=np.random.choice(['suc','fail'], p=[0.6,0.4])\n",
    "      if suc_or_fail=='suc':\n",
    "        print(\"공격성공\")\n",
    "        규빈.attack(다호)\n",
    "      else:\n",
    "        print(\"공격실패\")\n",
    "        \n",
    "    else:\n",
    "      규빈.탑쌓기()\n",
    "      print(repr(규빈))\n",
    "    if(규빈>>다호) or (다호>>규빈):\n",
    "      break\n",
    "    print(\"---\")\n",
    "  if (다호 >> 규빈) and (not(규빈 >>다호)):\n",
    "    winner.append('다호')\n",
    "  elif (다호>>규빈) and (규빈 >>다호):\n",
    "    winner.append('무승부')\n",
    "  else:\n",
    "    winner.append(\"규빈\")\n"
   ]
  },
  {
   "cell_type": "code",
   "execution_count": 45,
   "id": "4cecf6a5-c2d9-4ba4-9e7e-4aa65a79a3ff",
   "metadata": {
    "tags": []
   },
   "outputs": [
    {
     "data": {
      "text/plain": [
       "['무승부']"
      ]
     },
     "execution_count": 45,
     "metadata": {},
     "output_type": "execute_result"
    }
   ],
   "source": [
    "winner"
   ]
  },
  {
   "cell_type": "code",
   "execution_count": 9,
   "id": "9748a13c-fc99-46d0-b1e7-61fd950cb269",
   "metadata": {
    "tags": []
   },
   "outputs": [],
   "source": [
    "class Attack_guebin(Dahoegyo):\n",
    "  def attack(self, other):\n",
    "    other.top=0"
   ]
  },
  {
   "cell_type": "code",
   "execution_count": 8,
   "id": "99a4c9bb-2a6e-4b58-a2c4-ba6c93e2c7ab",
   "metadata": {
    "tags": []
   },
   "outputs": [],
   "source": [
    "class Dahoegyo(Guebin):\n",
    "  def __mul__(self,other):\n",
    "    self.n += 1\n",
    "    other.n +=1\n",
    "    if (self.top < self.end_condition) and (other.top < other.end_condition):\n",
    "      egyo=np.random.choice(['suc','fail'], p=[0.2, 0.8])\n",
    "      if egyo=='suc':\n",
    "        suc_or_fail=np.random.choice([2,0], p=[self.prob, 1-self.prob])\n",
    "        if suc_or_fail:\n",
    "          self.top += suc_or_fail\n",
    "          return('애교성공->탑쌓기성공')\n",
    "        else:\n",
    "          return('애교성공->탑쌓기실패')\n",
    "      if egyo== 'fail':\n",
    "        suc_or_fail=np.random.choice([2,0], p=[other.prob, 1-other.prob])\n",
    "        if suc_or_fail:\n",
    "          other.top += suc_or_fail\n",
    "          return('애교실패->탑쌓기성공')\n",
    "        else:\n",
    "          other.top=0\n",
    "          return('애교실패->탑쌓기실패')\n",
    "    if  self.top >= self.end_condition :\n",
    "      self.finish=True\n",
    "    if  other.top >= other.end_condition :\n",
    "      other.finish=True\n"
   ]
  },
  {
   "cell_type": "code",
   "execution_count": 7,
   "id": "3679fbf4-6a0b-4933-9abf-6ea2c23fd326",
   "metadata": {
    "tags": []
   },
   "outputs": [],
   "source": [
    "class GuebinTraining(Guebin):\n",
    "  def 수련하기(self):\n",
    "    self.prob+=0.05"
   ]
  },
  {
   "cell_type": "code",
   "execution_count": 6,
   "id": "0c31fbea-caf5-431e-b89c-7d01dd52db91",
   "metadata": {
    "tags": []
   },
   "outputs": [],
   "source": [
    "class Guebin(Base):\n",
    "  def __init__(self, end_condition, name):\n",
    "    super().__init__(end_condition, name)\n",
    "    self.prob=0.5\n",
    "  def 탑쌓기(self):\n",
    "    self.n += 1\n",
    "    if self.top < self.end_condition:\n",
    "      suc_or_fail=np.random.choice([2,0], p=[self.prob, 1-self.prob])\n",
    "      if suc_or_fail:\n",
    "        self.success=True\n",
    "      else:\n",
    "        self.success=False\n",
    "        self.top=0\n",
    "      self.top += suc_or_fail\n",
    "      if self.top >= self.end_condition:\n",
    "        self.finish = True"
   ]
  },
  {
   "cell_type": "code",
   "execution_count": null,
   "id": "bdf844fe-e88c-44e7-9b72-09fd86a6f452",
   "metadata": {},
   "outputs": [],
   "source": []
  }
 ],
 "metadata": {
  "kernelspec": {
   "display_name": "Python 3 (ipykernel)",
   "language": "python",
   "name": "python3"
  },
  "language_info": {
   "codemirror_mode": {
    "name": "ipython",
    "version": 3
   },
   "file_extension": ".py",
   "mimetype": "text/x-python",
   "name": "python",
   "nbconvert_exporter": "python",
   "pygments_lexer": "ipython3",
   "version": "3.10.13"
  }
 },
 "nbformat": 4,
 "nbformat_minor": 5
}
