{
 "cells": [
  {
   "cell_type": "raw",
   "id": "4a4f723e-f45c-49e8-b5c3-c40eb7c0bfae",
   "metadata": {
    "id": "87b5cded-346b-4915-acf5-b5ec93a5207d"
   },
   "source": [
    "---\n",
    "title: \"15wk-1: 퀴즈10\"\n",
    "author: \"최규빈\"\n",
    "date: \"06/12/2024\"\n",
    "draft: false\n",
    "---"
   ]
  },
  {
   "cell_type": "markdown",
   "id": "9c5c9011-8f0c-494c-ad24-06b996507fb6",
   "metadata": {
    "id": "e67ab8e0"
   },
   "source": [
    "<a href=\"https://colab.research.google.com/github/guebin/PP2024/blob/main/posts/15wk-1.ipynb\"><img src=\"https://colab.research.google.com/assets/colab-badge.svg\" style=\"text-align: left\"></a>"
   ]
  },
  {
   "cell_type": "markdown",
   "id": "09795693-6a3b-44df-a6be-a9d9c40c2327",
   "metadata": {},
   "source": [
    "::: {.callout-caution}\n",
    "- 전북대 학생들을 시험당일 학생증을 지참할 것. (출석체크 및 본인확인) 학생증 외에 신분증 여권등도 가능.\n",
    "- 부정행위 (카카오톡 채팅을 통한 코드공유, 생성형모델 사용, 대리시험 등) 적발시 F 처리함. \n",
    "- 퀴즈 중 지각할 경우 지각사실을 기록함. 하지만 별 다른 감점은 하지 않음.\n",
    "- `.ipynb` 파일 형태로 제출된 답안지만 채점하며 그 외의 형식 (`.hwp`, `.py` 등)은 채점하지 않음. 즉 0점 처리함.\n",
    ":::\n"
   ]
  },
  {
   "cell_type": "markdown",
   "id": "3075273b-959a-45d4-925e-bbb172f885c0",
   "metadata": {
    "tags": []
   },
   "source": [
    "# 1. -- 50점"
   ]
  },
  {
   "cell_type": "markdown",
   "id": "d9ca123c-de6c-4f80-86f1-8d68515d06e4",
   "metadata": {},
   "source": [
    "> 정확한 구현시에만 점수있음. 이외는 0점"
   ]
  },
  {
   "cell_type": "markdown",
   "id": "2db8dfe8-16c8-40d5-9a3e-c9ee21e1d173",
   "metadata": {},
   "source": [
    "아래와 같은 기능을 하는 클래스 `묶음생성기`를 설계하라. "
   ]
  },
  {
   "cell_type": "markdown",
   "id": "a1f84b29-826f-46f0-bd8a-abab007bee8c",
   "metadata": {},
   "source": [
    "`# 예시1`"
   ]
  },
  {
   "cell_type": "code",
   "execution_count": 91,
   "id": "9aa7d0c7-2887-491b-a24b-41b59011297d",
   "metadata": {
    "tags": []
   },
   "outputs": [],
   "source": [
    "묶음 = 묶음생성기([1,2,3,4,5,6,7,8],n_groups=2)"
   ]
  },
  {
   "cell_type": "code",
   "execution_count": 92,
   "id": "d1aada16-8674-40ad-8add-0eaade876d76",
   "metadata": {
    "tags": []
   },
   "outputs": [
    {
     "data": {
      "text/plain": [
       "[[1, 3, 5, 7], [2, 4, 6, 8]]"
      ]
     },
     "execution_count": 92,
     "metadata": {},
     "output_type": "execute_result"
    }
   ],
   "source": [
    "[x for x in 묶음]"
   ]
  },
  {
   "cell_type": "markdown",
   "id": "de50f24a-ab76-466d-bdac-fe3192dea3f4",
   "metadata": {},
   "source": [
    "`#`"
   ]
  },
  {
   "cell_type": "markdown",
   "id": "6c8e03d9-4bfd-4f94-b1d2-9a3f8d79b7b4",
   "metadata": {},
   "source": [
    "`# 예시2`"
   ]
  },
  {
   "cell_type": "code",
   "execution_count": 93,
   "id": "7fad2f8f-479d-4d02-acdc-76033a9c4788",
   "metadata": {
    "tags": []
   },
   "outputs": [],
   "source": [
    "animlas = [\"사자\", \"호랑이\", \"코끼리\", \"닭\", \"얼룩말\", \"캥거루\", \"판다\", \"나무늘보\", \"돼지\", \"양\"]\n",
    "묶음 = 묶음생성기(animlas,n_groups=3)"
   ]
  },
  {
   "cell_type": "code",
   "execution_count": 94,
   "id": "190266bc-d421-470e-8250-17594ef3ae9a",
   "metadata": {
    "tags": []
   },
   "outputs": [
    {
     "data": {
      "text/plain": [
       "[['사자', '닭', '판다', '양'], ['호랑이', '얼룩말', '나무늘보'], ['코끼리', '캥거루', '돼지']]"
      ]
     },
     "execution_count": 94,
     "metadata": {},
     "output_type": "execute_result"
    }
   ],
   "source": [
    "[x for x in 묶음]"
   ]
  },
  {
   "cell_type": "markdown",
   "id": "6f12920f-3f0f-48c0-b484-4115d55e2bda",
   "metadata": {},
   "source": [
    "`#`"
   ]
  },
  {
   "cell_type": "markdown",
   "id": "2c6f901b-e3f1-426d-a2e0-c600de9e211d",
   "metadata": {},
   "source": [
    "`# 예시3`"
   ]
  },
  {
   "cell_type": "code",
   "execution_count": 95,
   "id": "9d23a0ca-b4ca-427b-8385-10321da3b655",
   "metadata": {
    "tags": []
   },
   "outputs": [],
   "source": [
    "sounds = ['어흥', '크앙', '뿌우', '꼬끼오', '이히힝', '캥거캥거', '냠냠', 'Zzz', '꾸울', '메에']"
   ]
  },
  {
   "cell_type": "code",
   "execution_count": 96,
   "id": "305e51f1-91f5-4e4c-9f5a-04a8f5160cc9",
   "metadata": {
    "tags": []
   },
   "outputs": [],
   "source": [
    "묶음 = 묶음생성기(list(zip(animlas,sounds)),n_groups=4)"
   ]
  },
  {
   "cell_type": "code",
   "execution_count": 97,
   "id": "b9616880-743d-4a10-a1ab-96b6eef64c82",
   "metadata": {
    "tags": []
   },
   "outputs": [
    {
     "data": {
      "text/plain": [
       "[[('사자', '어흥'), ('얼룩말', '이히힝'), ('돼지', '꾸울')],\n",
       " [('호랑이', '크앙'), ('캥거루', '캥거캥거'), ('양', '메에')],\n",
       " [('코끼리', '뿌우'), ('판다', '냠냠')],\n",
       " [('닭', '꼬끼오'), ('나무늘보', 'Zzz')]]"
      ]
     },
     "execution_count": 97,
     "metadata": {},
     "output_type": "execute_result"
    }
   ],
   "source": [
    "[x for x in 묶음]"
   ]
  },
  {
   "cell_type": "markdown",
   "id": "99f3c980-1f2f-4b38-aef1-7ad831ca543c",
   "metadata": {},
   "source": [
    "`#`"
   ]
  },
  {
   "cell_type": "markdown",
   "id": "6f762d9b-f08b-4e6f-a7ca-6e198671a7e6",
   "metadata": {},
   "source": [
    "`(풀이)`"
   ]
  },
  {
   "cell_type": "code",
   "execution_count": 90,
   "id": "dc467bce-2b5e-4f34-aae0-b719fbf3641b",
   "metadata": {},
   "outputs": [],
   "source": [
    "class 묶음생성기:\n",
    "    def __init__(self,array,n_groups):\n",
    "        self.array = array \n",
    "        self.n_groups = n_groups \n",
    "        self.i = 0 \n",
    "    def __iter__(self):\n",
    "        return self\n",
    "    def __next__(self):\n",
    "        if self.i < self.n_groups:\n",
    "            group = self.array[self.i::self.n_groups] \n",
    "            self.i = self.i + 1 \n",
    "            return group\n",
    "        else: \n",
    "            raise(StopIteration)            "
   ]
  },
  {
   "cell_type": "markdown",
   "id": "09932299-f1f9-4031-95eb-08c18ed0c906",
   "metadata": {},
   "source": [
    "# 2. -- 50점 "
   ]
  },
  {
   "cell_type": "markdown",
   "id": "8da1516d-1cdf-4169-a666-e3d89d6e69e9",
   "metadata": {},
   "source": [
    "> 정확한 구현시에만 점수있음. 이외에는 0점"
   ]
  },
  {
   "cell_type": "markdown",
   "id": "a9724b0c-b1be-4bc2-8b25-c25b445ef401",
   "metadata": {},
   "source": [
    "아래와 같은 기능을 하는 클래스 `애완동물`을 설계하라. "
   ]
  },
  {
   "cell_type": "markdown",
   "id": "40071ac9-9c08-45e7-a704-1d93d90515f4",
   "metadata": {},
   "source": [
    "`# 예시1`"
   ]
  },
  {
   "cell_type": "code",
   "execution_count": 77,
   "id": "95446dad-c4f0-4feb-b4cd-394536fb4edb",
   "metadata": {
    "tags": []
   },
   "outputs": [
    {
     "name": "stdout",
     "output_type": "stream",
     "text": [
      "동물명 <하니> 와 같이 살기로 결심했습니다.\n",
      "동물명 <나비> 와 같이 살기로 결심했습니다.\n"
     ]
    }
   ],
   "source": [
    "하니 = 애완동물(name=\"하니\",sound=\"멍\")\n",
    "나비 = 애완동물(name=\"나비\",sound=\"야오옹\")"
   ]
  },
  {
   "cell_type": "code",
   "execution_count": 78,
   "id": "c9dcd3f6-d33b-4065-889a-8a6d0f4d1de0",
   "metadata": {
    "tags": []
   },
   "outputs": [
    {
     "name": "stdout",
     "output_type": "stream",
     "text": [
      "하니가 멍하고 울었습니다.\n"
     ]
    }
   ],
   "source": [
    "하니()"
   ]
  },
  {
   "cell_type": "code",
   "execution_count": 79,
   "id": "947b37f1-8f1a-4e33-86f3-7cab32b239b3",
   "metadata": {
    "tags": []
   },
   "outputs": [
    {
     "name": "stdout",
     "output_type": "stream",
     "text": [
      "나비가 야오옹하고 울었습니다.\n"
     ]
    }
   ],
   "source": [
    "나비()"
   ]
  },
  {
   "cell_type": "code",
   "execution_count": 80,
   "id": "cb91468f-a18c-4269-925e-d29be58ab6b2",
   "metadata": {
    "tags": []
   },
   "outputs": [
    {
     "name": "stdout",
     "output_type": "stream",
     "text": [
      "하니가 멍하고 울었습니다.\n",
      "나비가 야오옹하고 울었습니다.\n"
     ]
    }
   ],
   "source": [
    "애완동물.모두울어보세요()"
   ]
  },
  {
   "cell_type": "markdown",
   "id": "f149101c-4efa-41e5-99d9-4947e1c6ba31",
   "metadata": {},
   "source": [
    "`#`"
   ]
  },
  {
   "cell_type": "markdown",
   "id": "2a4d95d3-9464-4e29-a2fb-5a8f5d039476",
   "metadata": {},
   "source": [
    "`# 예시2`"
   ]
  },
  {
   "cell_type": "code",
   "execution_count": 81,
   "id": "abce1d1c-8fd2-43c8-a92b-9e30b805bed4",
   "metadata": {
    "tags": []
   },
   "outputs": [
    {
     "name": "stdout",
     "output_type": "stream",
     "text": [
      "동물명 <꿀이> 와 같이 살기로 결심했습니다.\n",
      "동물명 <크앙이> 와 같이 살기로 결심했습니다.\n"
     ]
    }
   ],
   "source": [
    "꿀이 = 애완동물(name=\"꿀이\",sound=\"꿀!\") \n",
    "크앙이 = 애완동물(name=\"크앙이\",sound=\"크앙!\") "
   ]
  },
  {
   "cell_type": "code",
   "execution_count": 82,
   "id": "9e981347-2d84-4b4b-b5de-29172d24323d",
   "metadata": {
    "tags": []
   },
   "outputs": [
    {
     "name": "stdout",
     "output_type": "stream",
     "text": [
      "꿀이가 꿀!하고 울었습니다.\n"
     ]
    }
   ],
   "source": [
    "꿀이()"
   ]
  },
  {
   "cell_type": "code",
   "execution_count": 83,
   "id": "fb1e88e8-5f75-4ea1-a4a8-081dfb0217bd",
   "metadata": {
    "tags": []
   },
   "outputs": [
    {
     "name": "stdout",
     "output_type": "stream",
     "text": [
      "크앙이가 크앙!하고 울었습니다.\n"
     ]
    }
   ],
   "source": [
    "크앙이()"
   ]
  },
  {
   "cell_type": "code",
   "execution_count": 84,
   "id": "27a7a6e5-0178-4175-985a-f0e5df4a0835",
   "metadata": {
    "tags": []
   },
   "outputs": [
    {
     "name": "stdout",
     "output_type": "stream",
     "text": [
      "하니,나비,꿀이,크앙이가 모두 모였습니다.\n"
     ]
    }
   ],
   "source": [
    "애완동물.모두모여보세요()"
   ]
  },
  {
   "cell_type": "code",
   "execution_count": 85,
   "id": "9a5e840a-cef0-4c9e-a3d3-fa2e88437330",
   "metadata": {
    "tags": []
   },
   "outputs": [
    {
     "name": "stdout",
     "output_type": "stream",
     "text": [
      "하니가 멍하고 울었습니다.\n",
      "나비가 야오옹하고 울었습니다.\n",
      "꿀이가 꿀!하고 울었습니다.\n",
      "크앙이가 크앙!하고 울었습니다.\n"
     ]
    }
   ],
   "source": [
    "애완동물.모두울어보세요()"
   ]
  },
  {
   "cell_type": "markdown",
   "id": "6a70b5f0-0d0b-49e2-9c08-d21badb739f7",
   "metadata": {},
   "source": [
    "`#`"
   ]
  },
  {
   "cell_type": "markdown",
   "id": "508918bf-3a6f-4b9d-84da-7d7b516e5eea",
   "metadata": {},
   "source": [
    "`# 예시3`"
   ]
  },
  {
   "cell_type": "code",
   "execution_count": 86,
   "id": "98b327d1-13e2-4dec-9582-1b7402fa524f",
   "metadata": {
    "tags": []
   },
   "outputs": [
    {
     "name": "stdout",
     "output_type": "stream",
     "text": [
      "동물명 <복순이> 와 같이 살기로 결심했습니다.\n"
     ]
    }
   ],
   "source": [
    "복순이 = 애완동물(name=\"복순이\",sound=\"멍멍\") "
   ]
  },
  {
   "cell_type": "code",
   "execution_count": 87,
   "id": "07c0a87f-c0d7-4489-993a-93884314765c",
   "metadata": {
    "tags": []
   },
   "outputs": [
    {
     "name": "stdout",
     "output_type": "stream",
     "text": [
      "복순이가 멍멍하고 울었습니다.\n"
     ]
    }
   ],
   "source": [
    "복순이()"
   ]
  },
  {
   "cell_type": "code",
   "execution_count": 88,
   "id": "b44a26e3-9083-4036-a5dd-d5d4e616a31b",
   "metadata": {
    "tags": []
   },
   "outputs": [
    {
     "name": "stdout",
     "output_type": "stream",
     "text": [
      "하니,나비,꿀이,크앙이,복순이가 모두 모였습니다.\n"
     ]
    }
   ],
   "source": [
    "애완동물.모두모여보세요()"
   ]
  },
  {
   "cell_type": "code",
   "execution_count": 89,
   "id": "cf653130-e3fe-48ee-af83-b85b23affa35",
   "metadata": {
    "tags": []
   },
   "outputs": [
    {
     "name": "stdout",
     "output_type": "stream",
     "text": [
      "하니가 멍하고 울었습니다.\n",
      "나비가 야오옹하고 울었습니다.\n",
      "꿀이가 꿀!하고 울었습니다.\n",
      "크앙이가 크앙!하고 울었습니다.\n",
      "복순이가 멍멍하고 울었습니다.\n"
     ]
    }
   ],
   "source": [
    "애완동물.모두울어보세요()"
   ]
  },
  {
   "cell_type": "markdown",
   "id": "8b24a183-7212-4276-af27-b14b6abbb058",
   "metadata": {},
   "source": [
    "`#`"
   ]
  },
  {
   "cell_type": "markdown",
   "id": "a9881265-f937-4073-a6ca-31f0c35c929e",
   "metadata": {},
   "source": [
    "`(풀이)`"
   ]
  },
  {
   "cell_type": "code",
   "execution_count": 76,
   "id": "7e5d7868-bc7e-4ab9-a71d-4375af59292d",
   "metadata": {
    "tags": []
   },
   "outputs": [],
   "source": [
    "class 애완동물:\n",
    "    petlist = []\n",
    "    def __init__(self,name,sound):\n",
    "        self.name = name \n",
    "        self.sound = sound\n",
    "        print(f\"동물명 <{self.name}> 와 같이 살기로 결심했습니다.\") \n",
    "        애완동물.petlist.append(self)\n",
    "    def __call__(self):\n",
    "        print(f\"{self.name}가 {self.sound}하고 울었습니다.\")\n",
    "    @classmethod \n",
    "    def 모두울어보세요(cls):\n",
    "        for pet in cls.petlist:\n",
    "            pet()\n",
    "    @classmethod\n",
    "    def 모두모여보세요(cls):\n",
    "        text = \",\".join([pet.name for pet in cls.petlist])\n",
    "        print(f\"{text}가 모두 모였습니다.\")"
   ]
  }
 ],
 "metadata": {
  "kernelspec": {
   "display_name": "Python 3 (ipykernel)",
   "language": "python",
   "name": "python3"
  },
  "language_info": {
   "codemirror_mode": {
    "name": "ipython",
    "version": 3
   },
   "file_extension": ".py",
   "mimetype": "text/x-python",
   "name": "python",
   "nbconvert_exporter": "python",
   "pygments_lexer": "ipython3",
   "version": "3.10.13"
  }
 },
 "nbformat": 4,
 "nbformat_minor": 5
}
