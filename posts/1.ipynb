{
 "cells": [
  {
   "cell_type": "raw",
   "id": "794f377d-94d7-429e-a5c0-364d30f077fb",
   "metadata": {},
   "source": [
    "---\n",
    "title: \"07wk-2: `numpy` (2)\"\n",
    "author: \"최규빈\"\n",
    "date: \"04/19/2024\"\n",
    "draft: true\n",
    "---"
   ]
  },
  {
   "cell_type": "code",
   "execution_count": 1,
   "id": "1d770eb9-7d71-4ecb-9b7a-ab6e96db464e",
   "metadata": {
    "tags": []
   },
   "outputs": [],
   "source": [
    "import numpy as np"
   ]
  },
  {
   "cell_type": "markdown",
   "id": "d1b7e8aa-7d6c-4305-ba28-38b799af98bb",
   "metadata": {},
   "source": [
    "# 3. `numpy`의 랜덤모듈"
   ]
  },
  {
   "cell_type": "markdown",
   "id": "a6362be2-39b7-4e5e-b976-bb034e797b8f",
   "metadata": {},
   "source": [
    "## A. np.random.rand()"
   ]
  },
  {
   "cell_type": "markdown",
   "id": "cbdd9320-05e4-48db-a111-120748f82f23",
   "metadata": {},
   "source": [
    "`-` 0~1 사이의 난수를 생성 "
   ]
  },
  {
   "cell_type": "code",
   "execution_count": 2,
   "id": "ef7d469c-27ad-4128-bae7-1b409139f7a4",
   "metadata": {
    "tags": []
   },
   "outputs": [
    {
     "data": {
      "text/plain": [
       "array([0.58941047, 0.69926949, 0.33916133, 0.18862168, 0.10532343,\n",
       "       0.06246933, 0.01232861, 0.98715356, 0.18684946, 0.13983473])"
      ]
     },
     "execution_count": 2,
     "metadata": {},
     "output_type": "execute_result"
    }
   ],
   "source": [
    "np.random.rand(10)"
   ]
  },
  {
   "cell_type": "markdown",
   "id": "8ca89009-4fed-42ba-b205-81e9699cf83c",
   "metadata": {},
   "source": [
    "`-` 0~2 사이의 난수를 생성 "
   ]
  },
  {
   "cell_type": "code",
   "execution_count": 4,
   "id": "d2823f64-e1f0-46ec-ad41-15a85a91bc77",
   "metadata": {
    "tags": []
   },
   "outputs": [
    {
     "data": {
      "text/plain": [
       "array([1.80736582, 1.93348343, 1.68098319, 0.43413714, 0.71755663,\n",
       "       0.7102633 , 1.07810931, 0.60570584, 1.66424551, 0.77034062])"
      ]
     },
     "execution_count": 4,
     "metadata": {},
     "output_type": "execute_result"
    }
   ],
   "source": [
    "np.random.rand(10)*2"
   ]
  },
  {
   "cell_type": "markdown",
   "id": "480fe600-7b89-4255-ad4f-722abbf7d477",
   "metadata": {},
   "source": [
    "`-` 1~2사이의 난수를 생성 "
   ]
  },
  {
   "cell_type": "code",
   "execution_count": 6,
   "id": "86bf0ffb-a3a4-4fd1-8b8b-e76d72359e70",
   "metadata": {
    "tags": []
   },
   "outputs": [
    {
     "data": {
      "text/plain": [
       "array([1.57528954, 1.50957007, 1.91299354, 1.97522497, 1.06414156,\n",
       "       1.55571812, 1.88961334, 1.25059642, 1.48543607, 1.15425812])"
      ]
     },
     "execution_count": 6,
     "metadata": {},
     "output_type": "execute_result"
    }
   ],
   "source": [
    "np.random.rand(10) + 1"
   ]
  },
  {
   "cell_type": "markdown",
   "id": "9776d2e3-c600-4dd2-8aa2-1bec6b52908c",
   "metadata": {},
   "source": [
    "`-` 1~3사이의 난수를 생성 "
   ]
  },
  {
   "cell_type": "code",
   "execution_count": 8,
   "id": "6bb6e9b6-7702-44f7-8d5f-dcba81fda8fb",
   "metadata": {
    "tags": []
   },
   "outputs": [
    {
     "data": {
      "text/plain": [
       "array([2.52498614, 2.568343  , 1.00781278, 1.93745719, 2.28135839,\n",
       "       2.68434348, 2.60834186, 1.95569743, 2.56052396, 1.27544114])"
      ]
     },
     "execution_count": 8,
     "metadata": {},
     "output_type": "execute_result"
    }
   ],
   "source": [
    "np.random.rand(10)*2+1 #1~3"
   ]
  },
  {
   "cell_type": "markdown",
   "id": "4b6021e3-eff6-4471-b7db-a34e440813cc",
   "metadata": {},
   "source": [
    "## B. np.random.randn()"
   ]
  },
  {
   "cell_type": "markdown",
   "id": "87701f5a-1501-4979-8f11-ccab7e3378cb",
   "metadata": {},
   "source": [
    "`-` N(0,1)에서 난수생성 "
   ]
  },
  {
   "cell_type": "code",
   "execution_count": 10,
   "id": "f9108d46-9ef8-4e2d-a89c-02564180bfc9",
   "metadata": {
    "tags": []
   },
   "outputs": [
    {
     "data": {
      "text/plain": [
       "array([-0.46632939, -0.44496717,  1.96656133, -1.33787939, -0.89941124,\n",
       "       -0.14937251,  1.74400521, -0.08109252,  1.9828275 ,  0.6927916 ])"
      ]
     },
     "execution_count": 10,
     "metadata": {},
     "output_type": "execute_result"
    }
   ],
   "source": [
    "np.random.randn(10) # 표준정규분포에서 10개의 샘플 추출"
   ]
  },
  {
   "cell_type": "markdown",
   "id": "6d10c1e5-b38e-43ab-aae5-6a79355df0d0",
   "metadata": {},
   "source": [
    "`-` N(1,1)에서 난수생성"
   ]
  },
  {
   "cell_type": "code",
   "execution_count": 13,
   "id": "f62cfb14-6db4-43b7-b262-1516f1e78ec2",
   "metadata": {
    "tags": []
   },
   "outputs": [
    {
     "data": {
      "text/plain": [
       "array([ 1.12818975, -0.24900447,  3.39072323,  2.17716347,  0.56283054,\n",
       "       -0.75113078,  0.88154768,  0.63493705,  1.13202236,  1.16649509])"
      ]
     },
     "execution_count": 13,
     "metadata": {},
     "output_type": "execute_result"
    }
   ],
   "source": [
    "np.random.randn(10) + 1 "
   ]
  },
  {
   "cell_type": "markdown",
   "id": "901d46af-2074-427a-b87f-c1eb04bac761",
   "metadata": {},
   "source": [
    "`-` N(0,4)에서 난수생성 "
   ]
  },
  {
   "cell_type": "code",
   "execution_count": 14,
   "id": "d1153d14-0fa9-4a71-8902-a711c81e00eb",
   "metadata": {
    "tags": []
   },
   "outputs": [
    {
     "data": {
      "text/plain": [
       "array([-4.47136605, -0.79364009,  1.12387729,  2.57749151, -0.60706663,\n",
       "       -0.0669373 ,  2.7967139 , -0.01976654, -0.7196062 , -1.49279584])"
      ]
     },
     "execution_count": 14,
     "metadata": {},
     "output_type": "execute_result"
    }
   ],
   "source": [
    "np.random.randn(10)*2"
   ]
  },
  {
   "cell_type": "markdown",
   "id": "e2b335d2-3844-4265-b80d-964540432b19",
   "metadata": {},
   "source": [
    "`-` N(3,4)에서 난수생성 "
   ]
  },
  {
   "cell_type": "code",
   "execution_count": 15,
   "id": "b9121ca8-d757-4278-947f-b933ad76e7b5",
   "metadata": {
    "tags": []
   },
   "outputs": [
    {
     "data": {
      "text/plain": [
       "array([ 1.06708238, -0.2125781 ,  3.62986709,  3.13150903,  5.36899207,\n",
       "        1.42085408,  0.40921661,  4.20606618,  0.8264032 , -0.16558588])"
      ]
     },
     "execution_count": 15,
     "metadata": {},
     "output_type": "execute_result"
    }
   ],
   "source": [
    "np.random.randn(10)*2 + 3"
   ]
  },
  {
   "cell_type": "markdown",
   "id": "37a4b349-f369-4332-a8ee-acf4489b7a08",
   "metadata": {},
   "source": [
    "## C. np.random.choice()"
   ]
  },
  {
   "cell_type": "markdown",
   "id": "1abbed7b-b693-415a-9db3-7e25454ab571",
   "metadata": {},
   "source": [
    "`-` [0,1,2,3,4] 에서 임의의 원소를 하나 뽑는 방법 "
   ]
  },
  {
   "cell_type": "code",
   "execution_count": 35,
   "id": "5364f0c4-7b50-463f-b3bc-64682e9f1c27",
   "metadata": {
    "tags": []
   },
   "outputs": [
    {
     "data": {
      "text/plain": [
       "1"
      ]
     },
     "execution_count": 35,
     "metadata": {},
     "output_type": "execute_result"
    }
   ],
   "source": [
    "np.random.choice([0,1,2,3,4])"
   ]
  },
  {
   "cell_type": "markdown",
   "id": "8b10792d-585b-493e-9f99-b127f298366b",
   "metadata": {},
   "source": [
    "`-` [0,1,2,3,4] 에서 30개의 원소를 뽑는 방법 "
   ]
  },
  {
   "cell_type": "code",
   "execution_count": 36,
   "id": "59e21068-a44b-46ff-b900-0208f7256aec",
   "metadata": {
    "tags": []
   },
   "outputs": [
    {
     "data": {
      "text/plain": [
       "array([1, 0, 3, 3, 0, 3, 2, 4, 4, 4, 3, 0, 4, 4, 1, 4, 4, 0, 1, 1, 2, 2,\n",
       "       1, 1, 3, 4, 1, 3, 1, 1])"
      ]
     },
     "execution_count": 36,
     "metadata": {},
     "output_type": "execute_result"
    }
   ],
   "source": [
    "np.random.choice([0,1,2,3,4],size=30)"
   ]
  },
  {
   "cell_type": "code",
   "execution_count": 37,
   "id": "84aa3ff5-ab23-48fa-816b-f888ea84cee7",
   "metadata": {
    "tags": []
   },
   "outputs": [
    {
     "data": {
      "text/plain": [
       "array([2, 3, 1, 1, 1, 3, 1, 4, 3, 4, 3, 4, 2, 2, 3, 4, 1, 1, 4, 1, 1, 1,\n",
       "       1, 4, 1, 3, 0, 1, 2, 0])"
      ]
     },
     "execution_count": 37,
     "metadata": {},
     "output_type": "execute_result"
    }
   ],
   "source": [
    "np.random.choice(range(5),size=30)"
   ]
  },
  {
   "cell_type": "markdown",
   "id": "19b6c742-7647-490d-85c5-bc770ea3e426",
   "metadata": {},
   "source": [
    "`-` ['사과','딸기','딸기','배'] 에서 10000개의 원소를 뽑는 방법 "
   ]
  },
  {
   "cell_type": "code",
   "execution_count": 53,
   "id": "6fd97a55-4e47-44b8-ae03-353350334774",
   "metadata": {
    "tags": []
   },
   "outputs": [
    {
     "data": {
      "text/plain": [
       "{'배': 2547, '딸기': 4971, '사과': 2482}"
      ]
     },
     "execution_count": 53,
     "metadata": {},
     "output_type": "execute_result"
    }
   ],
   "source": [
    "lst = list(np.random.choice(['사과','딸기','딸기','배'],size=10000))\n",
    "{s:lst.count(s) for s in set(lst)}"
   ]
  },
  {
   "cell_type": "markdown",
   "id": "9a04bded-57e0-4f37-978a-53392ce953f1",
   "metadata": {},
   "source": [
    "`-` ['사과','딸기','딸기','배'] 에서 3개의 원소를 중복을 허용하지 않고 (= 뽑은걸 다시 넣지 않고) 뽑는 방법"
   ]
  },
  {
   "cell_type": "code",
   "execution_count": 59,
   "id": "a4c41caf-07fc-4de2-82cb-a65953c22862",
   "metadata": {
    "tags": []
   },
   "outputs": [
    {
     "data": {
      "text/plain": [
       "array(['배', '딸기', '딸기'], dtype='<U2')"
      ]
     },
     "execution_count": 59,
     "metadata": {},
     "output_type": "execute_result"
    }
   ],
   "source": [
    "np.random.choice(['사과','딸기','딸기','배'],size=3,replace=False) "
   ]
  },
  {
   "cell_type": "code",
   "execution_count": 62,
   "id": "14a0605d-32b8-440d-bc4b-fd3f656c1dbf",
   "metadata": {
    "tags": []
   },
   "outputs": [
    {
     "data": {
      "text/plain": [
       "array(['사과', '딸기', '배', '딸기'], dtype='<U2')"
      ]
     },
     "execution_count": 62,
     "metadata": {},
     "output_type": "execute_result"
    }
   ],
   "source": [
    "np.random.choice(['사과','딸기','딸기','배'],size=4,replace=False) "
   ]
  },
  {
   "cell_type": "code",
   "execution_count": 63,
   "id": "c1978fdb-3e49-44fa-a314-9a321b2b0bbb",
   "metadata": {
    "tags": []
   },
   "outputs": [
    {
     "ename": "ValueError",
     "evalue": "Cannot take a larger sample than population when 'replace=False'",
     "output_type": "error",
     "traceback": [
      "\u001b[0;31m---------------------------------------------------------------------------\u001b[0m",
      "\u001b[0;31mValueError\u001b[0m                                Traceback (most recent call last)",
      "Cell \u001b[0;32mIn[63], line 1\u001b[0m\n\u001b[0;32m----> 1\u001b[0m \u001b[43mnp\u001b[49m\u001b[38;5;241;43m.\u001b[39;49m\u001b[43mrandom\u001b[49m\u001b[38;5;241;43m.\u001b[39;49m\u001b[43mchoice\u001b[49m\u001b[43m(\u001b[49m\u001b[43m[\u001b[49m\u001b[38;5;124;43m'\u001b[39;49m\u001b[38;5;124;43m사과\u001b[39;49m\u001b[38;5;124;43m'\u001b[39;49m\u001b[43m,\u001b[49m\u001b[38;5;124;43m'\u001b[39;49m\u001b[38;5;124;43m딸기\u001b[39;49m\u001b[38;5;124;43m'\u001b[39;49m\u001b[43m,\u001b[49m\u001b[38;5;124;43m'\u001b[39;49m\u001b[38;5;124;43m딸기\u001b[39;49m\u001b[38;5;124;43m'\u001b[39;49m\u001b[43m,\u001b[49m\u001b[38;5;124;43m'\u001b[39;49m\u001b[38;5;124;43m배\u001b[39;49m\u001b[38;5;124;43m'\u001b[39;49m\u001b[43m]\u001b[49m\u001b[43m,\u001b[49m\u001b[43msize\u001b[49m\u001b[38;5;241;43m=\u001b[39;49m\u001b[38;5;241;43m5\u001b[39;49m\u001b[43m,\u001b[49m\u001b[43mreplace\u001b[49m\u001b[38;5;241;43m=\u001b[39;49m\u001b[38;5;28;43;01mFalse\u001b[39;49;00m\u001b[43m)\u001b[49m \n",
      "File \u001b[0;32mnumpy/random/mtrand.pyx:1001\u001b[0m, in \u001b[0;36mnumpy.random.mtrand.RandomState.choice\u001b[0;34m()\u001b[0m\n",
      "\u001b[0;31mValueError\u001b[0m: Cannot take a larger sample than population when 'replace=False'"
     ]
    }
   ],
   "source": [
    "np.random.choice(['사과','딸기','딸기','배'],size=5,replace=False) "
   ]
  },
  {
   "cell_type": "markdown",
   "id": "0d3b16f0-ed66-4dd6-b2d7-f0d046860e3c",
   "metadata": {},
   "source": [
    "## D. np.random.randint()"
   ]
  },
  {
   "cell_type": "markdown",
   "id": "2973bb25-783d-41a9-9036-955892260e49",
   "metadata": {},
   "source": [
    "`-` [0,1,2,3] 에서 하나의 정수를 뽑는 방법 "
   ]
  },
  {
   "cell_type": "code",
   "execution_count": 79,
   "id": "cec6ebfe-72f8-44a6-a3e5-41b3059b740c",
   "metadata": {
    "tags": []
   },
   "outputs": [
    {
     "data": {
      "text/plain": [
       "1"
      ]
     },
     "execution_count": 79,
     "metadata": {},
     "output_type": "execute_result"
    }
   ],
   "source": [
    "#[0,1,2,3] 은 [0,4) 구간에 존재하는 정수로 해석가능함. \n",
    "np.random.randint(low=0,high=4) # = np.random.choice(range(4))"
   ]
  },
  {
   "cell_type": "markdown",
   "id": "cb0af8a9-fa71-4caa-a6a2-9477c932706b",
   "metadata": {},
   "source": [
    "`-` [0,1,2,3] 에서 30개의 정수를 뽑는 방법 "
   ]
  },
  {
   "cell_type": "code",
   "execution_count": 81,
   "id": "8d23e971-d791-4b68-9c44-88c31127479a",
   "metadata": {
    "tags": []
   },
   "outputs": [
    {
     "data": {
      "text/plain": [
       "array([0, 0, 1, 2, 3, 0, 0, 2, 2, 1, 0, 2, 3, 1, 2, 3, 2, 3, 3, 0, 0, 3,\n",
       "       2, 2, 2, 3, 0, 2, 1, 0])"
      ]
     },
     "execution_count": 81,
     "metadata": {},
     "output_type": "execute_result"
    }
   ],
   "source": [
    "np.random.randint(low=0,high=4,size=30)"
   ]
  },
  {
   "cell_type": "markdown",
   "id": "a13ee3e4-edc1-4f3d-bfca-865952d0d578",
   "metadata": {},
   "source": [
    "## E. 통계분포"
   ]
  },
  {
   "cell_type": "markdown",
   "id": "91b5d762-212f-431f-ac28-157b18eddcd0",
   "metadata": {},
   "source": [
    "`-` 균등분포에서 난수생성"
   ]
  },
  {
   "cell_type": "code",
   "execution_count": 84,
   "id": "e4d20b87-1896-433a-bc34-0563f00f9d4c",
   "metadata": {
    "tags": []
   },
   "outputs": [
    {
     "data": {
      "text/plain": [
       "array([0.73569341, 0.36599013, 0.26090338, 0.18444605, 0.09231955,\n",
       "       0.04369649, 0.99015962, 0.89257958, 0.84660922, 0.23957504])"
      ]
     },
     "execution_count": 84,
     "metadata": {},
     "output_type": "execute_result"
    }
   ],
   "source": [
    "np.random.uniform(low=0,high=1,size=10) # np.random.rand(10) "
   ]
  },
  {
   "cell_type": "code",
   "execution_count": 86,
   "id": "52440310-95ec-470e-8425-d9f07d4f3391",
   "metadata": {
    "tags": []
   },
   "outputs": [
    {
     "data": {
      "text/plain": [
       "array([1.44213267, 0.21051849, 0.42641199, 0.03709695, 1.39200949,\n",
       "       1.38871657, 1.81552955, 1.29025523, 1.69617607, 0.99934997])"
      ]
     },
     "execution_count": 86,
     "metadata": {},
     "output_type": "execute_result"
    }
   ],
   "source": [
    "np.random.uniform(low=0,high=2,size=10) # np.random.rand(10)*2"
   ]
  },
  {
   "cell_type": "code",
   "execution_count": 87,
   "id": "bb9ec2b2-c0a8-48c5-91ca-1ef547902b13",
   "metadata": {
    "tags": []
   },
   "outputs": [
    {
     "data": {
      "text/plain": [
       "array([3.42441122, 3.39723246, 3.72563654, 3.75325107, 3.06948699,\n",
       "       3.40992519, 2.9354989 , 3.89275846, 3.57385422, 2.20879669])"
      ]
     },
     "execution_count": 87,
     "metadata": {},
     "output_type": "execute_result"
    }
   ],
   "source": [
    "np.random.uniform(low=2,high=4,size=10) # np.random.rand(10)*2+2"
   ]
  },
  {
   "cell_type": "markdown",
   "id": "a280252a-aea8-4a24-a923-41abce35f921",
   "metadata": {},
   "source": [
    "`-` 정규분포에서 난수생성"
   ]
  },
  {
   "cell_type": "code",
   "execution_count": 91,
   "id": "d1331993-05f8-4c0f-b373-15bbbe164471",
   "metadata": {
    "tags": []
   },
   "outputs": [
    {
     "data": {
      "text/plain": [
       "array([-0.32121419,  0.69523318, -1.13166958,  1.16222367, -1.11960615,\n",
       "       -0.21732796,  0.77870038, -1.8126043 ,  0.9891007 , -0.03148832])"
      ]
     },
     "execution_count": 91,
     "metadata": {},
     "output_type": "execute_result"
    }
   ],
   "source": [
    "np.random.normal(loc=0,scale=1,size=10) # np.random.randn(10)"
   ]
  },
  {
   "cell_type": "code",
   "execution_count": 93,
   "id": "f12f5b0e-e813-4d6e-ab42-62bd6a85d621",
   "metadata": {
    "tags": []
   },
   "outputs": [
    {
     "data": {
      "text/plain": [
       "array([-0.68523673,  0.10774027,  0.1479219 ,  1.69006631, -5.02705871,\n",
       "        1.34767819,  0.86170609,  1.32326532, -0.79360158, -1.33153793])"
      ]
     },
     "execution_count": 93,
     "metadata": {},
     "output_type": "execute_result"
    }
   ],
   "source": [
    "np.random.normal(loc=0,scale=2,size=10) # np.random.randn(10)*2 "
   ]
  },
  {
   "cell_type": "code",
   "execution_count": 94,
   "id": "777914f0-c1f8-4f29-8a25-cbca0892ef7e",
   "metadata": {
    "tags": []
   },
   "outputs": [
    {
     "data": {
      "text/plain": [
       "array([3.3017347 , 6.56081368, 6.31366425, 6.89570678, 3.23813184,\n",
       "       5.7967364 , 5.22375952, 4.33677979, 3.32581582, 4.94785401])"
      ]
     },
     "execution_count": 94,
     "metadata": {},
     "output_type": "execute_result"
    }
   ],
   "source": [
    "np.random.normal(loc=5,scale=2,size=10) # np.random.randn(10)*2 + 5 "
   ]
  },
  {
   "cell_type": "markdown",
   "id": "f73a6888-8f56-4e06-b277-5e95e71af844",
   "metadata": {},
   "source": [
    "`-` 이항분포 "
   ]
  },
  {
   "cell_type": "code",
   "execution_count": 126,
   "id": "33c5bf24-5b3e-4270-a708-042ba67fd70f",
   "metadata": {
    "tags": []
   },
   "outputs": [
    {
     "data": {
      "text/plain": [
       "{0: 2475, 1: 5032, 2: 2493}"
      ]
     },
     "execution_count": 126,
     "metadata": {},
     "output_type": "execute_result"
    }
   ],
   "source": [
    "lst = np.random.binomial(n=2, p=0.5, size=10000).tolist()\n",
    "{s:lst.count(s) for s in set(lst)}"
   ]
  },
  {
   "cell_type": "markdown",
   "id": "861f7bfd-80f0-42e3-aa06-4a159bd1ec76",
   "metadata": {},
   "source": [
    "`-` 포아송분포"
   ]
  },
  {
   "cell_type": "code",
   "execution_count": 130,
   "id": "7ee4d4eb-d719-42f7-ae56-c41ce99b351a",
   "metadata": {
    "tags": []
   },
   "outputs": [
    {
     "data": {
      "text/plain": [
       "array([1, 1, 0, 4, 0, 2, 3, 5, 0, 1, 0, 1, 2, 0, 1, 2, 0, 0, 0, 0, 2, 2,\n",
       "       0, 0, 1, 0, 1, 3, 1, 1, 1, 1, 1, 0, 1, 0, 4, 1, 2, 0, 0, 2, 1, 2,\n",
       "       0, 0, 2, 0, 2, 1, 0, 0, 0, 2, 1, 0, 1, 1, 0, 1, 2, 3, 0, 0, 2, 1,\n",
       "       1, 2, 0, 1, 2, 0, 0, 1, 1, 1, 4, 1, 0, 2, 0, 1, 1, 0, 1, 4, 1, 3,\n",
       "       0, 1, 0, 0, 2, 1, 0, 2, 0, 0, 1, 0])"
      ]
     },
     "execution_count": 130,
     "metadata": {},
     "output_type": "execute_result"
    }
   ],
   "source": [
    "np.random.poisson(lam=1.0,size=100)"
   ]
  },
  {
   "cell_type": "markdown",
   "id": "a7d288ff-cdac-4273-9690-dfc875d7ba30",
   "metadata": {},
   "source": [
    "# 4. `numpy` -- 기타 유용한 기본기능들 "
   ]
  },
  {
   "cell_type": "markdown",
   "id": "ac8e4c02-9c04-451b-ad8d-2309273d6bf7",
   "metadata": {},
   "source": [
    "## A. np.where, np.argwhere "
   ]
  },
  {
   "cell_type": "markdown",
   "id": "ee2002b5-af11-49db-9a9d-422ea27f5491",
   "metadata": {},
   "source": [
    "`-` 1차원"
   ]
  },
  {
   "cell_type": "code",
   "execution_count": 133,
   "id": "ef7ffe39-02f1-48f3-a26a-279a6e93e4fe",
   "metadata": {
    "tags": []
   },
   "outputs": [
    {
     "data": {
      "text/plain": [
       "array([0, 0, 0, 1, 0])"
      ]
     },
     "execution_count": 133,
     "metadata": {},
     "output_type": "execute_result"
    }
   ],
   "source": [
    "a = np.array([0,0,0,1,0])\n",
    "a"
   ]
  },
  {
   "cell_type": "code",
   "execution_count": 135,
   "id": "1649a917-eec1-46bd-91be-7c6f5e1a2b25",
   "metadata": {
    "tags": []
   },
   "outputs": [
    {
     "data": {
      "text/plain": [
       "((array([3]),), (array([0, 1, 2, 4]),))"
      ]
     },
     "execution_count": 135,
     "metadata": {},
     "output_type": "execute_result"
    }
   ],
   "source": [
    "np.where(a==1), np.where(a==0)"
   ]
  },
  {
   "cell_type": "code",
   "execution_count": 136,
   "id": "f3076460-1a99-485e-a648-1890109e4cd8",
   "metadata": {
    "tags": []
   },
   "outputs": [
    {
     "data": {
      "text/plain": [
       "(array([[3]]),\n",
       " array([[0],\n",
       "        [1],\n",
       "        [2],\n",
       "        [4]]))"
      ]
     },
     "execution_count": 136,
     "metadata": {},
     "output_type": "execute_result"
    }
   ],
   "source": [
    "np.argwhere(a==1), np.argwhere(a==0)"
   ]
  },
  {
   "cell_type": "markdown",
   "id": "cfc54c91-3049-4050-ad32-b8dbb594f70d",
   "metadata": {},
   "source": [
    "`-` 2차원"
   ]
  },
  {
   "cell_type": "code",
   "execution_count": 145,
   "id": "fb17587f-f4f3-4d5b-9e15-33d7bc8a03f7",
   "metadata": {
    "tags": []
   },
   "outputs": [
    {
     "data": {
      "text/plain": [
       "array([[ 0.38342049,  1.0841745 ,  1.14277825,  0.30789368],\n",
       "       [ 0.23778744,  0.35595116, -1.66307542, -1.38277318],\n",
       "       [-1.92684484, -1.4862163 ,  0.00692519, -0.03488725]])"
      ]
     },
     "execution_count": 145,
     "metadata": {},
     "output_type": "execute_result"
    }
   ],
   "source": [
    "np.random.seed(43052)\n",
    "a = np.random.randn(12).reshape(3,4)\n",
    "a"
   ]
  },
  {
   "cell_type": "code",
   "execution_count": 146,
   "id": "abcf69af-3d15-4d81-8ab8-a7076b330a6c",
   "metadata": {
    "tags": []
   },
   "outputs": [
    {
     "data": {
      "text/plain": [
       "((array([1, 1, 2, 2, 2]), array([2, 3, 0, 1, 3])),\n",
       " array([[1, 2],\n",
       "        [1, 3],\n",
       "        [2, 0],\n",
       "        [2, 1],\n",
       "        [2, 3]]))"
      ]
     },
     "execution_count": 146,
     "metadata": {},
     "output_type": "execute_result"
    }
   ],
   "source": [
    "np.where(a<0),np.argwhere(a<0)"
   ]
  },
  {
   "cell_type": "code",
   "execution_count": 153,
   "id": "ab3deec5-fad6-493c-8444-843aec01a985",
   "metadata": {
    "tags": []
   },
   "outputs": [
    {
     "data": {
      "text/plain": [
       "(-1.6630754187023522,\n",
       " -1.382773180699087,\n",
       " -1.9268448358915802,\n",
       " -1.4862162961554322,\n",
       " -0.03488724631833874)"
      ]
     },
     "execution_count": 153,
     "metadata": {},
     "output_type": "execute_result"
    }
   ],
   "source": [
    "a[1,2],a[1,3],a[2,0],a[2,1],a[2,3] "
   ]
  },
  {
   "cell_type": "markdown",
   "id": "72d4abc3-79ea-4bf1-b5e9-ffddf9dd9029",
   "metadata": {},
   "source": [
    "- 인덱스를 읽기에는 np.argwhere 이 편한듯 "
   ]
  },
  {
   "cell_type": "markdown",
   "id": "df39b9a1-0456-439c-ab8b-1e21e7b06280",
   "metadata": {},
   "source": [
    "의문: `np.where()`은 필요없는가? --> 사실 `np.where()`이 `np.argwhere()`보다 쓸만함"
   ]
  },
  {
   "cell_type": "code",
   "execution_count": 176,
   "id": "4092f72e-3260-49a5-a22c-99a243a55ea6",
   "metadata": {
    "tags": []
   },
   "outputs": [
    {
     "data": {
      "text/plain": [
       "array([[ 0.38342049,  1.0841745 ,  1.14277825,  0.30789368],\n",
       "       [ 0.23778744,  0.35595116, -1.66307542, -1.38277318],\n",
       "       [-1.92684484, -1.4862163 ,  0.00692519, -0.03488725]])"
      ]
     },
     "execution_count": 176,
     "metadata": {},
     "output_type": "execute_result"
    }
   ],
   "source": [
    "np.random.seed(43052)\n",
    "a = np.random.randn(12).reshape(3,4)\n",
    "a"
   ]
  },
  {
   "cell_type": "markdown",
   "id": "e1757d2d-02de-49a7-ae50-46b39bee8020",
   "metadata": {},
   "source": [
    "*a의 원소중 0보다 작은것을 출력하고 싶다면?*"
   ]
  },
  {
   "cell_type": "code",
   "execution_count": 177,
   "id": "5b57a65a-64e3-4c50-8a00-3f89d483d3ea",
   "metadata": {
    "tags": []
   },
   "outputs": [
    {
     "data": {
      "text/plain": [
       "array([-1.66307542, -1.38277318, -1.92684484, -1.4862163 , -0.03488725])"
      ]
     },
     "execution_count": 177,
     "metadata": {},
     "output_type": "execute_result"
    }
   ],
   "source": [
    "a[np.where(a<0)] # 출력가능"
   ]
  },
  {
   "cell_type": "code",
   "execution_count": 178,
   "id": "a950aedf-0728-4e1b-9bd5-d3c42cd440bd",
   "metadata": {
    "tags": []
   },
   "outputs": [
    {
     "ename": "IndexError",
     "evalue": "index 3 is out of bounds for axis 0 with size 3",
     "output_type": "error",
     "traceback": [
      "\u001b[0;31m---------------------------------------------------------------------------\u001b[0m",
      "\u001b[0;31mIndexError\u001b[0m                                Traceback (most recent call last)",
      "Cell \u001b[0;32mIn[178], line 1\u001b[0m\n\u001b[0;32m----> 1\u001b[0m \u001b[43ma\u001b[49m\u001b[43m[\u001b[49m\u001b[43mnp\u001b[49m\u001b[38;5;241;43m.\u001b[39;49m\u001b[43margwhere\u001b[49m\u001b[43m(\u001b[49m\u001b[43ma\u001b[49m\u001b[38;5;241;43m<\u001b[39;49m\u001b[38;5;241;43m0\u001b[39;49m\u001b[43m)\u001b[49m\u001b[43m]\u001b[49m \u001b[38;5;66;03m# 출력불가능\u001b[39;00m\n",
      "\u001b[0;31mIndexError\u001b[0m: index 3 is out of bounds for axis 0 with size 3"
     ]
    }
   ],
   "source": [
    "a[np.argwhere(a<0)] # 출력불가능"
   ]
  },
  {
   "cell_type": "markdown",
   "id": "c5b84615-d77e-479e-8ea2-c92a25242c7d",
   "metadata": {},
   "source": [
    "*a의 원소중 0보다 작은것을 0으로 바꾸고 싶다면?*"
   ]
  },
  {
   "cell_type": "code",
   "execution_count": 184,
   "id": "dc58f70d-30a0-49d3-9ee3-241aa6607709",
   "metadata": {
    "tags": []
   },
   "outputs": [
    {
     "data": {
      "text/plain": [
       "array([[ 0.38342049,  1.0841745 ,  1.14277825,  0.30789368],\n",
       "       [ 0.23778744,  0.35595116, -1.66307542, -1.38277318],\n",
       "       [-1.92684484, -1.4862163 ,  0.00692519, -0.03488725]])"
      ]
     },
     "execution_count": 184,
     "metadata": {},
     "output_type": "execute_result"
    }
   ],
   "source": [
    "np.random.seed(43052)\n",
    "a = np.random.randn(12).reshape(3,4)\n",
    "a"
   ]
  },
  {
   "cell_type": "code",
   "execution_count": 187,
   "id": "83d4fa51-feff-4e81-b94d-e6d5c567ed5a",
   "metadata": {
    "tags": []
   },
   "outputs": [
    {
     "data": {
      "text/plain": [
       "array([[0.38342049, 1.0841745 , 1.14277825, 0.30789368],\n",
       "       [0.23778744, 0.35595116, 0.        , 0.        ],\n",
       "       [0.        , 0.        , 0.00692519, 0.        ]])"
      ]
     },
     "execution_count": 187,
     "metadata": {},
     "output_type": "execute_result"
    }
   ],
   "source": [
    "np.where(a<0,0,a) # a<0을 체크 -> 조건에 맞으면 0 -> 조건에 안맞으면 a"
   ]
  },
  {
   "cell_type": "code",
   "execution_count": 188,
   "id": "5b9c6b13-6fec-4587-a5e5-42f43dc9b458",
   "metadata": {
    "tags": []
   },
   "outputs": [
    {
     "data": {
      "text/plain": [
       "array([[100, 100, 100, 100],\n",
       "       [100, 100,   0,   0],\n",
       "       [  0,   0, 100,   0]])"
      ]
     },
     "execution_count": 188,
     "metadata": {},
     "output_type": "execute_result"
    }
   ],
   "source": [
    "np.where(a<0,0,100) # a<0을 체크 -> 조건에 맞으면 0 -> 조건에 안맞으면 100"
   ]
  },
  {
   "cell_type": "markdown",
   "id": "bd566755-0c4a-4bc2-b1a3-95d5e1be6e06",
   "metadata": {},
   "source": [
    "\n",
    "`-` 요약: `np.argwhere()`이 인덱스의 좌표를 읽을때 가독성이 있으나 조건에 맞는 원소를 출력하거나 처리할때는 `np.where()`이 유용함. "
   ]
  },
  {
   "cell_type": "markdown",
   "id": "cfd4c8dd-b465-49b0-a2f3-8d9adb1babce",
   "metadata": {},
   "source": [
    "## B. 인덱싱 (실수하지마세요)"
   ]
  },
  {
   "cell_type": "markdown",
   "id": "271e26cb-48d6-4037-8036-1986e5f1d00c",
   "metadata": {},
   "source": [
    "`-` 아래와 같은 2d-array를 고려하자. "
   ]
  },
  {
   "cell_type": "code",
   "execution_count": 212,
   "id": "260d282b-ab10-4f5c-b1ce-16e70656b315",
   "metadata": {
    "tags": []
   },
   "outputs": [
    {
     "data": {
      "text/plain": [
       "array([[ 0,  1,  2,  3],\n",
       "       [ 4,  5,  6,  7],\n",
       "       [ 8,  9, 10, 11]])"
      ]
     },
     "execution_count": 212,
     "metadata": {},
     "output_type": "execute_result"
    }
   ],
   "source": [
    "a = np.arange(12).reshape(3,4)\n",
    "a"
   ]
  },
  {
   "cell_type": "markdown",
   "id": "0e3b8b3a-be6a-4dd7-8b5f-358037eb6e63",
   "metadata": {},
   "source": [
    "`-` 첫번째 행을 뽑을때, 축의 숫자를 줄이고 싶을때도 있고 축의 숫자를 유지하고 싶을때도 있음. "
   ]
  },
  {
   "cell_type": "code",
   "execution_count": 218,
   "id": "c96f2836-1d0a-41af-973f-7b10ec84b019",
   "metadata": {
    "tags": []
   },
   "outputs": [
    {
     "data": {
      "text/plain": [
       "array([0, 1, 2, 3])"
      ]
     },
     "execution_count": 218,
     "metadata": {},
     "output_type": "execute_result"
    }
   ],
   "source": [
    "a[0,:] # 첫번째 행을 뽑는코드1 = 축이 하나 줄어든다"
   ]
  },
  {
   "cell_type": "code",
   "execution_count": 219,
   "id": "29e10043-9831-4111-b9ad-adf6d08482c8",
   "metadata": {
    "tags": []
   },
   "outputs": [
    {
     "data": {
      "text/plain": [
       "array([[0, 1, 2, 3]])"
      ]
     },
     "execution_count": 219,
     "metadata": {},
     "output_type": "execute_result"
    }
   ],
   "source": [
    "a[[0],:] # 첫번째 행을 뽑는코드2 = 축의 숫자가 유지된다. "
   ]
  },
  {
   "cell_type": "markdown",
   "id": "b6ad1844-0729-4f86-b7d5-690fb6ffe9b7",
   "metadata": {},
   "source": [
    "`-` 세번째 열을 뽑을때, 축의 숫자를 줄이고 싶을때도 있고 축의 숫자를 유지하고 싶을때도 있음. "
   ]
  },
  {
   "cell_type": "code",
   "execution_count": 215,
   "id": "664b8772-2554-4512-97e8-86db8ba036da",
   "metadata": {
    "tags": []
   },
   "outputs": [
    {
     "data": {
      "text/plain": [
       "array([ 2,  6, 10])"
      ]
     },
     "execution_count": 215,
     "metadata": {},
     "output_type": "execute_result"
    }
   ],
   "source": [
    "a[:,2] # 세번째 열을 뽑는코드1 = 축이 하나 줄어든다"
   ]
  },
  {
   "cell_type": "code",
   "execution_count": 216,
   "id": "cf91f28a-4ecd-49d6-885a-9a2ad08e97c0",
   "metadata": {
    "tags": []
   },
   "outputs": [
    {
     "data": {
      "text/plain": [
       "array([[ 2],\n",
       "       [ 6],\n",
       "       [10]])"
      ]
     },
     "execution_count": 216,
     "metadata": {},
     "output_type": "execute_result"
    }
   ],
   "source": [
    "a[:,[2]] # 세번째 열을 뽑는코드2 = 축의 숫자가 유지된다. "
   ]
  },
  {
   "cell_type": "markdown",
   "id": "d749bdde-9751-4b8f-902d-089317af563a",
   "metadata": {},
   "source": [
    "## C. `np.ix_`"
   ]
  },
  {
   "cell_type": "code",
   "execution_count": 220,
   "id": "10f948fb-fa5e-411c-b9bb-fc7980fa2e2c",
   "metadata": {
    "tags": []
   },
   "outputs": [
    {
     "data": {
      "text/plain": [
       "array([[ 0,  1,  2,  3],\n",
       "       [ 4,  5,  6,  7],\n",
       "       [ 8,  9, 10, 11]])"
      ]
     },
     "execution_count": 220,
     "metadata": {},
     "output_type": "execute_result"
    }
   ],
   "source": [
    "a = np.arange(12).reshape(3,4)\n",
    "a"
   ]
  },
  {
   "cell_type": "code",
   "execution_count": 235,
   "id": "62e44d36-0fc8-44e9-909d-cfe7253a9a8e",
   "metadata": {
    "tags": []
   },
   "outputs": [
    {
     "data": {
      "text/plain": [
       "array([[ 0,  1,  2],\n",
       "       [ 4,  5,  6],\n",
       "       [ 8,  9, 10]])"
      ]
     },
     "execution_count": 235,
     "metadata": {},
     "output_type": "execute_result"
    }
   ],
   "source": [
    "a[0:3,0:3]"
   ]
  },
  {
   "cell_type": "code",
   "execution_count": 236,
   "id": "72289b0b-c69b-487e-b3c3-e995a5b42c30",
   "metadata": {
    "tags": []
   },
   "outputs": [
    {
     "data": {
      "text/plain": [
       "array([[ 0,  1,  2],\n",
       "       [ 4,  5,  6],\n",
       "       [ 8,  9, 10]])"
      ]
     },
     "execution_count": 236,
     "metadata": {},
     "output_type": "execute_result"
    }
   ],
   "source": [
    "a[[0,1,2],0:3]"
   ]
  },
  {
   "cell_type": "code",
   "execution_count": 237,
   "id": "d5063a24-47e7-44c2-b601-3223f56ecf36",
   "metadata": {
    "tags": []
   },
   "outputs": [
    {
     "data": {
      "text/plain": [
       "array([[ 0,  1,  2],\n",
       "       [ 4,  5,  6],\n",
       "       [ 8,  9, 10]])"
      ]
     },
     "execution_count": 237,
     "metadata": {},
     "output_type": "execute_result"
    }
   ],
   "source": [
    "a[0:3,[0,1,2]]"
   ]
  },
  {
   "cell_type": "code",
   "execution_count": 238,
   "id": "5a8d66ff-932c-4f2f-b7d5-f5b42de0e60f",
   "metadata": {
    "tags": []
   },
   "outputs": [
    {
     "data": {
      "text/plain": [
       "array([ 0,  5, 10])"
      ]
     },
     "execution_count": 238,
     "metadata": {},
     "output_type": "execute_result"
    }
   ],
   "source": [
    "a[[0,1,2],[0,1,2]] # 이건 왜이래?"
   ]
  },
  {
   "cell_type": "markdown",
   "id": "c113f03e-def3-4585-aba3-67ce3862bddd",
   "metadata": {},
   "source": [
    "`-` 사실 np.where 에서 이러한 결과를 보긴했음 "
   ]
  },
  {
   "cell_type": "code",
   "execution_count": 239,
   "id": "53a7fc30-bbc6-4da7-9106-8f8ae1b1b8da",
   "metadata": {
    "tags": []
   },
   "outputs": [
    {
     "data": {
      "text/plain": [
       "array([ 0,  5, 10])"
      ]
     },
     "execution_count": 239,
     "metadata": {},
     "output_type": "execute_result"
    }
   ],
   "source": [
    "a[np.where(a % 5 ==0)]"
   ]
  },
  {
   "cell_type": "code",
   "execution_count": 240,
   "id": "f2b88582-f302-4247-987f-e9516746e7a5",
   "metadata": {
    "tags": []
   },
   "outputs": [
    {
     "data": {
      "text/plain": [
       "array([ 0,  5, 10])"
      ]
     },
     "execution_count": 240,
     "metadata": {},
     "output_type": "execute_result"
    }
   ],
   "source": [
    "a[[0,1,2],[0,1,2]] # 이 코드는 a[0:3,0:3] 와 다르다!"
   ]
  },
  {
   "cell_type": "markdown",
   "id": "845a4922-fa04-4c9c-81bd-f28aa9e6c858",
   "metadata": {},
   "source": [
    "- 헷갈리게 만든건 맞음. 결론은 실수하면 안됨. "
   ]
  },
  {
   "cell_type": "markdown",
   "id": "b11d68da-2213-4b68-a49f-b95aec89d8bd",
   "metadata": {},
   "source": [
    "`-` 그런데 가끔은 `a[[0,1,2],[0,1,2]]` 이 `a[0:3,0:3]`를 의미하도록 하고 싶음. "
   ]
  },
  {
   "cell_type": "code",
   "execution_count": 244,
   "id": "a44a69f5-a901-4b84-a8f5-16c2ba3b375f",
   "metadata": {
    "tags": []
   },
   "outputs": [
    {
     "data": {
      "text/plain": [
       "array([ 0,  5, 10])"
      ]
     },
     "execution_count": 244,
     "metadata": {},
     "output_type": "execute_result"
    }
   ],
   "source": [
    "a[[0,1,2],[0,1,2]] # 이건 이상하게 동작하는데.."
   ]
  },
  {
   "cell_type": "code",
   "execution_count": 246,
   "id": "77e937f8-d937-4463-ab18-5f005ade0a15",
   "metadata": {
    "tags": []
   },
   "outputs": [
    {
     "data": {
      "text/plain": [
       "array([[ 0,  1,  2],\n",
       "       [ 4,  5,  6],\n",
       "       [ 8,  9, 10]])"
      ]
     },
     "execution_count": 246,
     "metadata": {},
     "output_type": "execute_result"
    }
   ],
   "source": [
    "a[np.ix_([0,1,2],[0,1,2])] # 이건 상식적으로 동작함.."
   ]
  },
  {
   "cell_type": "markdown",
   "id": "65ef59d2-e8be-436a-9047-a48b087f8f0a",
   "metadata": {},
   "source": [
    "## D. 메소드의 도움말을 자세히 확인하기"
   ]
  },
  {
   "cell_type": "markdown",
   "id": "a239cf2a-a321-4cf6-ac4f-ee8e237188b5",
   "metadata": {},
   "source": [
    "`-` 넘파이에서 `a.sum()`에 대한 도움말은 `np.sum`을 확인하면 더 자세하게 읽을 수 있음. "
   ]
  },
  {
   "cell_type": "markdown",
   "id": "992516dc-a9bd-46c0-83b5-24665a821dcc",
   "metadata": {},
   "source": [
    "## E. hstack, vstack"
   ]
  },
  {
   "cell_type": "markdown",
   "id": "ff40bc79-4f17-418e-be9f-2fe7519c2eb7",
   "metadata": {},
   "source": [
    "`-` hstack, vstack을 쓰는 사람도 있다. "
   ]
  },
  {
   "cell_type": "code",
   "execution_count": 277,
   "id": "74393f61-b591-4498-9ab2-0fd5388fb04a",
   "metadata": {
    "tags": []
   },
   "outputs": [],
   "source": [
    "a = np.arange(6)\n",
    "b = -a "
   ]
  },
  {
   "cell_type": "code",
   "execution_count": 278,
   "id": "2a1d4b42-3f70-4596-95cd-b2b4a82ea21f",
   "metadata": {
    "tags": []
   },
   "outputs": [
    {
     "data": {
      "text/plain": [
       "array([[ 0,  1,  2,  3,  4,  5],\n",
       "       [ 0, -1, -2, -3, -4, -5]])"
      ]
     },
     "execution_count": 278,
     "metadata": {},
     "output_type": "execute_result"
    }
   ],
   "source": [
    "np.vstack([a,b]) # 출력이 2차원\n",
    "# np.stack([a,b],axis=0) -- 이거랑 같은코드"
   ]
  },
  {
   "cell_type": "code",
   "execution_count": 279,
   "id": "3aca2efb-a591-4310-988e-10dff0269077",
   "metadata": {
    "tags": []
   },
   "outputs": [
    {
     "data": {
      "text/plain": [
       "array([ 0,  1,  2,  3,  4,  5,  0, -1, -2, -3, -4, -5])"
      ]
     },
     "execution_count": 279,
     "metadata": {},
     "output_type": "execute_result"
    }
   ],
   "source": [
    "np.hstack([a,b]) # 출력이 1차원\n",
    "# np.concatenate([a,b],axis=0) -- 이거랑 같은 코드"
   ]
  },
  {
   "cell_type": "markdown",
   "id": "9fdfe957-7a19-4c26-aab2-2cc6e91c9d61",
   "metadata": {},
   "source": [
    "## F. append"
   ]
  },
  {
   "cell_type": "markdown",
   "id": "5019fb04-bfcc-4b69-8f7b-d955cd4f52bc",
   "metadata": {},
   "source": [
    "`-` 이걸 쓰는 사람도 있음 "
   ]
  },
  {
   "cell_type": "markdown",
   "id": "f4092225-9d63-4810-addb-5fd79628088e",
   "metadata": {},
   "source": [
    "`-` 활용방법1: reshape(-1) + concat "
   ]
  },
  {
   "cell_type": "code",
   "execution_count": 281,
   "id": "f4887b5d-371a-4e2f-9cd9-53a06714d27e",
   "metadata": {
    "tags": []
   },
   "outputs": [],
   "source": [
    "a = np.arange(30).reshape(5,6)\n",
    "b = -np.arange(8).reshape(2,2,2)"
   ]
  },
  {
   "cell_type": "code",
   "execution_count": 283,
   "id": "43a5f3f8-8ed0-492e-a3f8-1bfd14f81dec",
   "metadata": {
    "tags": []
   },
   "outputs": [
    {
     "data": {
      "text/plain": [
       "(array([[ 0,  1,  2,  3,  4,  5],\n",
       "        [ 6,  7,  8,  9, 10, 11],\n",
       "        [12, 13, 14, 15, 16, 17],\n",
       "        [18, 19, 20, 21, 22, 23],\n",
       "        [24, 25, 26, 27, 28, 29]]),\n",
       " array([[[ 0, -1],\n",
       "         [-2, -3]],\n",
       " \n",
       "        [[-4, -5],\n",
       "         [-6, -7]]]))"
      ]
     },
     "execution_count": 283,
     "metadata": {},
     "output_type": "execute_result"
    }
   ],
   "source": [
    "a, b"
   ]
  },
  {
   "cell_type": "code",
   "execution_count": 284,
   "id": "9e69cf2b-87ee-491a-a439-3fc23b2c0540",
   "metadata": {
    "tags": []
   },
   "outputs": [
    {
     "data": {
      "text/plain": [
       "((5, 6), (2, 2, 2))"
      ]
     },
     "execution_count": 284,
     "metadata": {},
     "output_type": "execute_result"
    }
   ],
   "source": [
    "a.shape, b.shape"
   ]
  },
  {
   "cell_type": "code",
   "execution_count": 290,
   "id": "933e2933-b5a5-4c12-93b1-00c69aadfa35",
   "metadata": {
    "tags": []
   },
   "outputs": [
    {
     "data": {
      "text/plain": [
       "array([ 0,  1,  2,  3,  4,  5,  6,  7,  8,  9, 10, 11, 12, 13, 14, 15, 16,\n",
       "       17, 18, 19, 20, 21, 22, 23, 24, 25, 26, 27, 28, 29,  0, -1, -2, -3,\n",
       "       -4, -5, -6, -7])"
      ]
     },
     "execution_count": 290,
     "metadata": {},
     "output_type": "execute_result"
    }
   ],
   "source": [
    "np.append(a,b)\n",
    "# np.concatenate([a.reshape(-1), b.reshape(-1)]) -- 같은코드"
   ]
  },
  {
   "cell_type": "markdown",
   "id": "81f8ca8e-def5-4967-9687-f2fd894749ba",
   "metadata": {},
   "source": [
    "`-` 활용방법2: reshape(-1) + concat "
   ]
  },
  {
   "cell_type": "code",
   "execution_count": 291,
   "id": "e7277954-482e-4d3c-9a2a-5b5a842cccb5",
   "metadata": {
    "tags": []
   },
   "outputs": [],
   "source": [
    "a = np.arange(2*3*4).reshape(2,3,4)\n",
    "b = -a"
   ]
  },
  {
   "cell_type": "code",
   "execution_count": 293,
   "id": "cb5cb162-1c20-4b2d-9df7-7ee4f434a4b5",
   "metadata": {
    "tags": []
   },
   "outputs": [
    {
     "data": {
      "text/plain": [
       "((2, 3, 4), (2, 3, 4))"
      ]
     },
     "execution_count": 293,
     "metadata": {},
     "output_type": "execute_result"
    }
   ],
   "source": [
    "a.shape, b.shape"
   ]
  },
  {
   "cell_type": "code",
   "execution_count": 300,
   "id": "d379a5a6-9aeb-4d06-8dff-9bd79239dbcb",
   "metadata": {
    "tags": []
   },
   "outputs": [
    {
     "data": {
      "text/plain": [
       "array([[[  0,   1,   2,   3],\n",
       "        [  4,   5,   6,   7],\n",
       "        [  8,   9,  10,  11]],\n",
       "\n",
       "       [[ 12,  13,  14,  15],\n",
       "        [ 16,  17,  18,  19],\n",
       "        [ 20,  21,  22,  23]],\n",
       "\n",
       "       [[  0,  -1,  -2,  -3],\n",
       "        [ -4,  -5,  -6,  -7],\n",
       "        [ -8,  -9, -10, -11]],\n",
       "\n",
       "       [[-12, -13, -14, -15],\n",
       "        [-16, -17, -18, -19],\n",
       "        [-20, -21, -22, -23]]])"
      ]
     },
     "execution_count": 300,
     "metadata": {},
     "output_type": "execute_result"
    }
   ],
   "source": [
    "np.append(a,b,axis=0)\n",
    "#np.concatenate([a,b],axis=0) -- 이거랑 같은코드"
   ]
  },
  {
   "cell_type": "markdown",
   "id": "c9663c29-a81a-4997-acc0-59bcaca57ad2",
   "metadata": {},
   "source": [
    "*append와 concat은 약간의 차이가 있음 -- append는 3개이상을 concat할 수 없음.*"
   ]
  },
  {
   "cell_type": "code",
   "execution_count": 301,
   "id": "84b94b86-8fbf-4b25-9d18-c1b2c22604bd",
   "metadata": {
    "tags": []
   },
   "outputs": [],
   "source": [
    "a = np.arange(2*3*4).reshape(2,3,4)\n",
    "b = -a\n",
    "c = 2*a"
   ]
  },
  {
   "cell_type": "code",
   "execution_count": 306,
   "id": "581b9180-e31e-4b05-8c0f-aa55b5499ffb",
   "metadata": {
    "tags": []
   },
   "outputs": [
    {
     "data": {
      "text/plain": [
       "array([[[  0,   1,   2,   3],\n",
       "        [  4,   5,   6,   7],\n",
       "        [  8,   9,  10,  11]],\n",
       "\n",
       "       [[ 12,  13,  14,  15],\n",
       "        [ 16,  17,  18,  19],\n",
       "        [ 20,  21,  22,  23]],\n",
       "\n",
       "       [[  0,  -1,  -2,  -3],\n",
       "        [ -4,  -5,  -6,  -7],\n",
       "        [ -8,  -9, -10, -11]],\n",
       "\n",
       "       [[-12, -13, -14, -15],\n",
       "        [-16, -17, -18, -19],\n",
       "        [-20, -21, -22, -23]],\n",
       "\n",
       "       [[  0,   2,   4,   6],\n",
       "        [  8,  10,  12,  14],\n",
       "        [ 16,  18,  20,  22]],\n",
       "\n",
       "       [[ 24,  26,  28,  30],\n",
       "        [ 32,  34,  36,  38],\n",
       "        [ 40,  42,  44,  46]]])"
      ]
     },
     "execution_count": 306,
     "metadata": {},
     "output_type": "execute_result"
    }
   ],
   "source": [
    "np.concatenate([a,b,c],axis=0)"
   ]
  },
  {
   "cell_type": "code",
   "execution_count": 307,
   "id": "c615a4a8-8fc8-43bc-8945-87fc6c543f32",
   "metadata": {
    "tags": []
   },
   "outputs": [
    {
     "ename": "TypeError",
     "evalue": "append() got multiple values for argument 'axis'",
     "output_type": "error",
     "traceback": [
      "\u001b[0;31m---------------------------------------------------------------------------\u001b[0m",
      "\u001b[0;31mTypeError\u001b[0m                                 Traceback (most recent call last)",
      "Cell \u001b[0;32mIn[307], line 1\u001b[0m\n\u001b[0;32m----> 1\u001b[0m \u001b[43mnp\u001b[49m\u001b[38;5;241;43m.\u001b[39;49m\u001b[43mappend\u001b[49m\u001b[43m(\u001b[49m\u001b[43ma\u001b[49m\u001b[43m,\u001b[49m\u001b[43mb\u001b[49m\u001b[43m,\u001b[49m\u001b[43mc\u001b[49m\u001b[43m,\u001b[49m\u001b[43maxis\u001b[49m\u001b[38;5;241;43m=\u001b[39;49m\u001b[38;5;241;43m0\u001b[39;49m\u001b[43m)\u001b[49m \u001b[38;5;66;03m# 3개는 에러..\u001b[39;00m\n",
      "\u001b[0;31mTypeError\u001b[0m: append() got multiple values for argument 'axis'"
     ]
    }
   ],
   "source": [
    "np.append(a,b,c,axis=0) # 3개는 에러.."
   ]
  },
  {
   "cell_type": "markdown",
   "id": "6ffefa91-f72c-4781-8294-1763d4491205",
   "metadata": {},
   "source": [
    "## G. ravel, faltten"
   ]
  },
  {
   "cell_type": "code",
   "execution_count": 308,
   "id": "e3942922-7b82-45b6-8fe7-b3aa35e505d8",
   "metadata": {
    "tags": []
   },
   "outputs": [
    {
     "data": {
      "text/plain": [
       "array([[[ 0,  1,  2,  3],\n",
       "        [ 4,  5,  6,  7],\n",
       "        [ 8,  9, 10, 11]],\n",
       "\n",
       "       [[12, 13, 14, 15],\n",
       "        [16, 17, 18, 19],\n",
       "        [20, 21, 22, 23]]])"
      ]
     },
     "execution_count": 308,
     "metadata": {},
     "output_type": "execute_result"
    }
   ],
   "source": [
    "a = np.arange(2*3*4).reshape(2,3,4)\n",
    "a"
   ]
  },
  {
   "cell_type": "code",
   "execution_count": 311,
   "id": "042c8bae-8f29-4df3-949d-4e323a0f9cc4",
   "metadata": {
    "tags": []
   },
   "outputs": [
    {
     "data": {
      "text/plain": [
       "array([ 0,  1,  2,  3,  4,  5,  6,  7,  8,  9, 10, 11, 12, 13, 14, 15, 16,\n",
       "       17, 18, 19, 20, 21, 22, 23])"
      ]
     },
     "execution_count": 311,
     "metadata": {},
     "output_type": "execute_result"
    }
   ],
   "source": [
    "a.reshape(-1)"
   ]
  },
  {
   "cell_type": "code",
   "execution_count": 312,
   "id": "b10ebdc7-2872-42f8-9d24-32fa64903d59",
   "metadata": {
    "tags": []
   },
   "outputs": [
    {
     "data": {
      "text/plain": [
       "array([ 0,  1,  2,  3,  4,  5,  6,  7,  8,  9, 10, 11, 12, 13, 14, 15, 16,\n",
       "       17, 18, 19, 20, 21, 22, 23])"
      ]
     },
     "execution_count": 312,
     "metadata": {},
     "output_type": "execute_result"
    }
   ],
   "source": [
    "a.ravel()"
   ]
  },
  {
   "cell_type": "code",
   "execution_count": 313,
   "id": "c51ca844-b501-4752-9f80-8cf58ae2920f",
   "metadata": {
    "tags": []
   },
   "outputs": [
    {
     "data": {
      "text/plain": [
       "array([ 0,  1,  2,  3,  4,  5,  6,  7,  8,  9, 10, 11, 12, 13, 14, 15, 16,\n",
       "       17, 18, 19, 20, 21, 22, 23])"
      ]
     },
     "execution_count": 313,
     "metadata": {},
     "output_type": "execute_result"
    }
   ],
   "source": [
    "a.flatten()"
   ]
  },
  {
   "cell_type": "markdown",
   "id": "255b4f5b-4478-4f88-959b-abfff19fc5ef",
   "metadata": {},
   "source": [
    "## H. 통계관련 함수들 "
   ]
  },
  {
   "cell_type": "markdown",
   "id": "99ef5ae6-8577-4b07-98b5-b0e80e8cc5c4",
   "metadata": {},
   "source": [
    "`-` 평균, 중앙값 "
   ]
  },
  {
   "cell_type": "code",
   "execution_count": 321,
   "id": "4d012cdf-1451-4b04-85c3-f937160b3aae",
   "metadata": {
    "tags": []
   },
   "outputs": [
    {
     "data": {
      "text/plain": [
       "(0.9288682531744334, 0.9018282676019249)"
      ]
     },
     "execution_count": 321,
     "metadata": {},
     "output_type": "execute_result"
    }
   ],
   "source": [
    "a = np.random.randn(1000)*2 + 1 \n",
    "a.mean(), np.median(a)"
   ]
  },
  {
   "cell_type": "markdown",
   "id": "0b6e5cfc-72f9-40f6-8f87-18df437b3e04",
   "metadata": {},
   "source": [
    "`-` 표준편차, 분산 "
   ]
  },
  {
   "cell_type": "code",
   "execution_count": 322,
   "id": "5d55ad90-9133-4f24-98c6-abe046628aab",
   "metadata": {
    "tags": []
   },
   "outputs": [
    {
     "data": {
      "text/plain": [
       "(3.78268010795389, 1.944911336784762)"
      ]
     },
     "execution_count": 322,
     "metadata": {},
     "output_type": "execute_result"
    }
   ],
   "source": [
    "a = np.random.randn(1000)*2 + 1 \n",
    "a.var(), a.std()"
   ]
  },
  {
   "cell_type": "code",
   "execution_count": 323,
   "id": "bf362302-c2fc-4dda-86f3-15d7b86c856b",
   "metadata": {
    "tags": []
   },
   "outputs": [
    {
     "data": {
      "text/plain": [
       "(3.7864665745284185, 1.9458845224032228)"
      ]
     },
     "execution_count": 323,
     "metadata": {},
     "output_type": "execute_result"
    }
   ],
   "source": [
    "# 자유도의 조절\n",
    "a.var(ddof=1), a.std(ddof=1)"
   ]
  },
  {
   "cell_type": "markdown",
   "id": "359412c6-f9cd-444e-9236-fd727b4fa9da",
   "metadata": {},
   "source": [
    "`-` corr matrix, cov matrix "
   ]
  },
  {
   "cell_type": "code",
   "execution_count": 328,
   "id": "ac3d495d-eeea-463e-b492-0faf3e12dce6",
   "metadata": {
    "tags": []
   },
   "outputs": [],
   "source": [
    "x = np.random.randn(10000)\n",
    "y = np.random.randn(10000)*2\n",
    "z = np.random.randn(10000)*0.5"
   ]
  },
  {
   "cell_type": "code",
   "execution_count": 329,
   "id": "c845802c-9638-4876-aba9-d5e4354a0eb5",
   "metadata": {
    "tags": []
   },
   "outputs": [
    {
     "data": {
      "text/plain": [
       "array([[ 1.02,  0.01, -0.  ],\n",
       "       [ 0.01,  4.01,  0.  ],\n",
       "       [-0.  ,  0.  ,  0.25]])"
      ]
     },
     "execution_count": 329,
     "metadata": {},
     "output_type": "execute_result"
    }
   ],
   "source": [
    "np.cov([x,y,z]).round(2)"
   ]
  },
  {
   "cell_type": "code",
   "execution_count": 330,
   "id": "3f4ba774-bac3-4cc6-a885-7eac6694fdba",
   "metadata": {
    "tags": []
   },
   "outputs": [
    {
     "data": {
      "text/plain": [
       "array([[ 1.  ,  0.  , -0.01],\n",
       "       [ 0.  ,  1.  ,  0.  ],\n",
       "       [-0.01,  0.  ,  1.  ]])"
      ]
     },
     "execution_count": 330,
     "metadata": {},
     "output_type": "execute_result"
    }
   ],
   "source": [
    "np.corrcoef([x,y,z]).round(2)"
   ]
  },
  {
   "cell_type": "markdown",
   "id": "45c219a3-df36-4c88-9a16-c4694a8ab7b4",
   "metadata": {},
   "source": [
    "## I. `dtype` "
   ]
  },
  {
   "cell_type": "markdown",
   "id": "c42698a5-b479-451a-bb76-67bd44a10b4e",
   "metadata": {},
   "source": [
    "`-` np.array 에는 항상 dtype이 있다. "
   ]
  },
  {
   "cell_type": "code",
   "execution_count": 338,
   "id": "8a73538d-8b37-4894-80b2-10aaa14825fc",
   "metadata": {
    "tags": []
   },
   "outputs": [
    {
     "data": {
      "text/plain": [
       "dtype('int64')"
      ]
     },
     "execution_count": 338,
     "metadata": {},
     "output_type": "execute_result"
    }
   ],
   "source": [
    "a = np.array([1,2,3])\n",
    "a.dtype"
   ]
  },
  {
   "cell_type": "code",
   "execution_count": 339,
   "id": "6b2f93c9-e639-40f1-82d3-383ad69f9689",
   "metadata": {
    "tags": []
   },
   "outputs": [
    {
     "data": {
      "text/plain": [
       "dtype('float64')"
      ]
     },
     "execution_count": 339,
     "metadata": {},
     "output_type": "execute_result"
    }
   ],
   "source": [
    "a = np.array([1.0, 2.0, 3.0])\n",
    "a.dtype"
   ]
  },
  {
   "cell_type": "markdown",
   "id": "b6afc3e3-f0f8-42f5-801b-5092fd8e53ca",
   "metadata": {},
   "source": [
    "`-` 같은 int라고 해도 int16, int32, int64와 같이 타입이 다를 수 있다. "
   ]
  },
  {
   "cell_type": "code",
   "execution_count": 343,
   "id": "1e686f8b-9edf-43e1-a233-e4e986873630",
   "metadata": {
    "tags": []
   },
   "outputs": [
    {
     "data": {
      "text/plain": [
       "array([1, 2, 3])"
      ]
     },
     "execution_count": 343,
     "metadata": {},
     "output_type": "execute_result"
    }
   ],
   "source": [
    "a = np.array([1,2,3], dtype=np.int64)\n",
    "a"
   ]
  },
  {
   "cell_type": "code",
   "execution_count": 344,
   "id": "1324edcd-22a4-410f-8f78-75cd02c259b4",
   "metadata": {
    "tags": []
   },
   "outputs": [
    {
     "data": {
      "text/plain": [
       "array([1, 2, 3], dtype=int32)"
      ]
     },
     "execution_count": 344,
     "metadata": {},
     "output_type": "execute_result"
    }
   ],
   "source": [
    "a = np.array([1,2,3], dtype=np.int32)\n",
    "a"
   ]
  },
  {
   "cell_type": "code",
   "execution_count": 345,
   "id": "8a060449-d0c0-462f-a8ae-5d20974fb51f",
   "metadata": {
    "tags": []
   },
   "outputs": [
    {
     "data": {
      "text/plain": [
       "array([1, 2, 3], dtype=int16)"
      ]
     },
     "execution_count": 345,
     "metadata": {},
     "output_type": "execute_result"
    }
   ],
   "source": [
    "a = np.array([1,2,3], dtype=np.int16)\n",
    "a"
   ]
  },
  {
   "cell_type": "markdown",
   "id": "c0b138a4-5aa5-4dce-8936-baa9e0d8e4ee",
   "metadata": {},
   "source": [
    "`-` 같은 float라고 해도 float16, float32, float64와 같이 타입이 다를 수 있다. "
   ]
  },
  {
   "cell_type": "code",
   "execution_count": 351,
   "id": "e0e8924c-886e-47f4-8a93-891371566cff",
   "metadata": {
    "tags": []
   },
   "outputs": [
    {
     "data": {
      "text/plain": [
       "array([1., 2., 3.])"
      ]
     },
     "execution_count": 351,
     "metadata": {},
     "output_type": "execute_result"
    }
   ],
   "source": [
    "a = np.array([1,2,3], dtype=np.float64)\n",
    "a"
   ]
  },
  {
   "cell_type": "code",
   "execution_count": 347,
   "id": "49666168-d3a5-4a50-9d2d-6260e45b52d9",
   "metadata": {
    "tags": []
   },
   "outputs": [
    {
     "data": {
      "text/plain": [
       "array([1., 2., 3.], dtype=float32)"
      ]
     },
     "execution_count": 347,
     "metadata": {},
     "output_type": "execute_result"
    }
   ],
   "source": [
    "a = np.array([1,2,3], dtype=np.float32)\n",
    "a"
   ]
  },
  {
   "cell_type": "code",
   "execution_count": 348,
   "id": "60b46170-f081-44a1-b6b7-f5edd3314ee6",
   "metadata": {
    "tags": []
   },
   "outputs": [
    {
     "data": {
      "text/plain": [
       "array([1., 2., 3.], dtype=float16)"
      ]
     },
     "execution_count": 348,
     "metadata": {},
     "output_type": "execute_result"
    }
   ],
   "source": [
    "a = np.array([1,2,3], dtype=np.float16)\n",
    "a"
   ]
  },
  {
   "cell_type": "markdown",
   "id": "f8e878e8-a345-4d8c-8fc6-10f7d3d4ddbe",
   "metadata": {},
   "source": [
    "`-` `dtype`은 아래와 같은 방법으로 변환할 수 있다."
   ]
  },
  {
   "cell_type": "code",
   "execution_count": 352,
   "id": "9ccecfab-063e-4332-bf5b-ebc5978ca753",
   "metadata": {
    "tags": []
   },
   "outputs": [
    {
     "data": {
      "text/plain": [
       "array([1, 2, 3])"
      ]
     },
     "execution_count": 352,
     "metadata": {},
     "output_type": "execute_result"
    }
   ],
   "source": [
    "a = np.array([1,2,3])\n",
    "a"
   ]
  },
  {
   "cell_type": "code",
   "execution_count": 353,
   "id": "97f3ceaa-f9b6-4c9c-8300-bc65a5d056a0",
   "metadata": {
    "tags": []
   },
   "outputs": [
    {
     "data": {
      "text/plain": [
       "dtype('int64')"
      ]
     },
     "execution_count": 353,
     "metadata": {},
     "output_type": "execute_result"
    }
   ],
   "source": [
    "a.dtype"
   ]
  },
  {
   "cell_type": "code",
   "execution_count": 356,
   "id": "5132dfe3-1ff0-4533-b699-56ee3c19deee",
   "metadata": {
    "tags": []
   },
   "outputs": [],
   "source": [
    "b = a.astype(np.float64)"
   ]
  },
  {
   "cell_type": "code",
   "execution_count": 358,
   "id": "eae85df8-3c55-42e4-8c67-1353cc8d96af",
   "metadata": {
    "tags": []
   },
   "outputs": [
    {
     "data": {
      "text/plain": [
       "(array([1, 2, 3]), array([1., 2., 3.]))"
      ]
     },
     "execution_count": 358,
     "metadata": {},
     "output_type": "execute_result"
    }
   ],
   "source": [
    "a, b"
   ]
  },
  {
   "cell_type": "markdown",
   "id": "3a372338-bbe7-4cdc-8bb3-cdeb2f0f993c",
   "metadata": {},
   "source": [
    "`-` 문자열이 넘파이의 원소로 있는 경우 "
   ]
  },
  {
   "cell_type": "code",
   "execution_count": 368,
   "id": "cac43256-bf39-4e6f-885e-5b70dc8d675b",
   "metadata": {
    "tags": []
   },
   "outputs": [
    {
     "data": {
      "text/plain": [
       "array(['a', 'b', 'c'], dtype='<U1')"
      ]
     },
     "execution_count": 368,
     "metadata": {},
     "output_type": "execute_result"
    }
   ],
   "source": [
    "a = np.array(['a','b','c'])\n",
    "a"
   ]
  },
  {
   "cell_type": "code",
   "execution_count": 369,
   "id": "9195c542-5e19-4b7e-976e-35c6e7b4b9c6",
   "metadata": {
    "tags": []
   },
   "outputs": [
    {
     "data": {
      "text/plain": [
       "array(['aa', 'b', 'c'], dtype='<U2')"
      ]
     },
     "execution_count": 369,
     "metadata": {},
     "output_type": "execute_result"
    }
   ],
   "source": [
    "a = np.array(['aa','b','c'])\n",
    "a"
   ]
  },
  {
   "cell_type": "code",
   "execution_count": 370,
   "id": "ba666f78-b977-4f96-8cd2-fba9064990d0",
   "metadata": {
    "tags": []
   },
   "outputs": [
    {
     "data": {
      "text/plain": [
       "array(['aaaa', 'b', 'c'], dtype='<U4')"
      ]
     },
     "execution_count": 370,
     "metadata": {},
     "output_type": "execute_result"
    }
   ],
   "source": [
    "a = np.array(['aaaa','b','c'])\n",
    "a"
   ]
  },
  {
   "cell_type": "markdown",
   "id": "7432a133-83d2-47ad-8a16-951c03a8b41c",
   "metadata": {},
   "source": [
    "`-` 문자열+숫자의혼합 -> 각 원소의 자료형이 문자열로 통일됨 "
   ]
  },
  {
   "cell_type": "code",
   "execution_count": 373,
   "id": "ad68d254-2015-4d13-af90-ce3abc8094c6",
   "metadata": {
    "tags": []
   },
   "outputs": [
    {
     "data": {
      "text/plain": [
       "array([['Korea', '89'],\n",
       "       ['Japan', '55']], dtype='<U21')"
      ]
     },
     "execution_count": 373,
     "metadata": {},
     "output_type": "execute_result"
    }
   ],
   "source": [
    "a = np.array([['Korea', 89],['Japan', 55]])\n",
    "a"
   ]
  },
  {
   "cell_type": "code",
   "execution_count": 376,
   "id": "0775350b-f5ca-4467-bb67-d58394efd643",
   "metadata": {
    "tags": []
   },
   "outputs": [
    {
     "data": {
      "text/plain": [
       "'89'"
      ]
     },
     "execution_count": 376,
     "metadata": {},
     "output_type": "execute_result"
    }
   ],
   "source": [
    "a[0,1] # 이것이 string으로 저장되어있다."
   ]
  },
  {
   "cell_type": "code",
   "execution_count": 379,
   "id": "cf8999a9-31b8-4b8f-a6a8-9748bdaf1fb1",
   "metadata": {
    "tags": []
   },
   "outputs": [
    {
     "data": {
      "text/plain": [
       "array([[89],\n",
       "       [55]])"
      ]
     },
     "execution_count": 379,
     "metadata": {},
     "output_type": "execute_result"
    }
   ],
   "source": [
    "a[:,[1]].astype(np.int64)"
   ]
  },
  {
   "cell_type": "markdown",
   "id": "4e384831-f9cd-47fb-9f0c-80c1f7cbcdb9",
   "metadata": {},
   "source": [
    "## J. 브로드캐스팅과 시간측정 "
   ]
  },
  {
   "cell_type": "markdown",
   "id": "1873924d-f91e-4a1a-a831-0fa308cc0500",
   "metadata": {},
   "source": [
    "(예비학습)"
   ]
  },
  {
   "cell_type": "code",
   "execution_count": null,
   "id": "1f0aa821-3d74-4031-ad0b-da64a39eb793",
   "metadata": {},
   "outputs": [],
   "source": []
  }
 ],
 "metadata": {
  "kernelspec": {
   "display_name": "Python 3 (ipykernel)",
   "language": "python",
   "name": "python3"
  },
  "language_info": {
   "codemirror_mode": {
    "name": "ipython",
    "version": 3
   },
   "file_extension": ".py",
   "mimetype": "text/x-python",
   "name": "python",
   "nbconvert_exporter": "python",
   "pygments_lexer": "ipython3",
   "version": "3.10.13"
  }
 },
 "nbformat": 4,
 "nbformat_minor": 5
}
