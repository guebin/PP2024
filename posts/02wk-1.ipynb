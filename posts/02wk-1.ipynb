{
 "cells": [
  {
   "cell_type": "raw",
   "id": "3dca7b65-7b69-4f92-a028-352566b6df12",
   "metadata": {
    "id": "87b5cded-346b-4915-acf5-b5ec93a5207d"
   },
   "source": [
    "---\n",
    "title: \"02wk-1: 퀴즈1\"\n",
    "author: \"최규빈\"\n",
    "date: \"03/13/2024\"\n",
    "draft: false\n",
    "---"
   ]
  },
  {
   "cell_type": "markdown",
   "id": "6585bef8-11a8-4099-9bce-6a8e0c311b2f",
   "metadata": {
    "id": "e67ab8e0"
   },
   "source": [
    "<a href=\"https://colab.research.google.com/github/guebin/PP2024/blob/main/posts/02wk-1.ipynb\"><img src=\"https://colab.research.google.com/assets/colab-badge.svg\" style=\"text-align: left\"></a>"
   ]
  },
  {
   "cell_type": "markdown",
   "id": "a8fa470c-e5c1-4b23-a168-82b833aaedc9",
   "metadata": {},
   "source": [
    "{{<video https://youtu.be/playlist?list=PLQqh36zP38-xkTDmutNidYnOkCgn2Zkdk&si=DPIWwBqzxkGHWIAr >}}"
   ]
  },
  {
   "cell_type": "code",
   "execution_count": 109,
   "id": "a90a9aec-141b-41ee-bb4d-3037b019af2c",
   "metadata": {},
   "outputs": [],
   "source": [
    "import numpy as np\n",
    "import matplotlib.pyplot as plt "
   ]
  },
  {
   "cell_type": "markdown",
   "id": "789aea99-d239-4c89-9669-82e598d28424",
   "metadata": {},
   "source": [
    "::: {.callout-warning}\n",
    "- 모든 문항은 부분점수 없음. \n",
    "- 일부문항은 부분문제를 모두 맞출경우만 정답으로 인정함. \n",
    "- `.ipynb` 파일 형태로 제출된 답안지만 채점하며 그 외의 형식 (`.hwp`등)은 채점하지 않음. 즉 0점 처리함. **제출방법 모르면 물어볼것!**\n",
    ":::\n"
   ]
  },
  {
   "cell_type": "markdown",
   "id": "c150ebba-9c78-4740-b61e-726ba7e2bfec",
   "metadata": {},
   "source": [
    "::: {.callout-caution}\n",
    "- 전북대 학생들을 시험당일 학생증을 지참할 것. (출석체크 및 본인확인) 학생증 외에 신분증 여권등도 가능.\n",
    "- 부정행위 (카카오톡 채팅을 통한 코드공유, 생성형모델 사용, 대리시험 등) 적발시 F 처리함. \n",
    "- 퀴즈 중 지각할 경우 지각사실을 기록함. 하지만 별다른 감점은 하지 않음.\n",
    ":::\n"
   ]
  },
  {
   "cell_type": "markdown",
   "id": "bc6f1097-9cc1-4bc9-92f4-775072fd445a",
   "metadata": {},
   "source": [
    "# 문제 1. -- 10점"
   ]
  },
  {
   "cell_type": "markdown",
   "id": "3152031e-4b0c-4378-ac2c-d2bc0322adbb",
   "metadata": {},
   "source": [
    "> 모두 맞출 경우만 정답으로 인정"
   ]
  },
  {
   "cell_type": "markdown",
   "id": "84f1ee23-e5f6-446a-9ead-43359962d34a",
   "metadata": {},
   "source": [
    "`(1)` 아래와 같이 50개의 숫자를 나열한 배열 ${\\bf x}=[x_1,x_2,\\dots,x_n]$을 상상하자. "
   ]
  },
  {
   "cell_type": "code",
   "execution_count": 110,
   "id": "facee20c-d5ad-4f60-822f-34bc06e56d00",
   "metadata": {},
   "outputs": [
    {
     "data": {
      "text/plain": [
       "array([0, 1, 1, 0, 1, 0, 1, 0, 0, 0, 1, 0, 0, 0, 0, 1, 0, 1, 0, 0, 0, 1,\n",
       "       0, 0, 0, 1, 0, 1, 1, 0, 1, 0, 1, 0, 0, 0, 0, 0, 0, 1, 0, 0, 1, 0,\n",
       "       0, 0, 0, 0, 1, 0])"
      ]
     },
     "execution_count": 110,
     "metadata": {},
     "output_type": "execute_result"
    }
   ],
   "source": [
    "x = np.array([0, 1, 1, 0, 1, 0, 1, 0, 0, 0, 1, 0, 0, 0, 0, 1, 0, 1, 0, 0, 0, 1,\n",
    "              0, 0, 0, 1, 0, 1, 1, 0, 1, 0, 1, 0, 0, 0, 0, 0, 0, 1, 0, 0, 1, 0,\n",
    "              0, 0, 0, 0, 1, 0])\n",
    "x"
   ]
  },
  {
   "cell_type": "markdown",
   "id": "8aec1f86-a78a-4adb-8870-f969fdf9356e",
   "metadata": {},
   "source": [
    "위와 같은 $x_i$에 대하여 $0<p<1$에서의 아래와 같은 함수 $l(p)$를 정의하라. "
   ]
  },
  {
   "cell_type": "markdown",
   "id": "fe31a132-a581-4d2d-8d85-5d058ea9c018",
   "metadata": {},
   "source": [
    "$$l(p)=\\sum_{i=1}^nx_i \\log p +\\left(n-\\sum_{i=1}^{n}x_i \\right)\\log(1-p)$$\n"
   ]
  },
  {
   "cell_type": "markdown",
   "id": "0fa702df-3586-471a-ab6b-94347917e7d6",
   "metadata": {},
   "source": [
    "파이썬을 이용하여 아래를 근사계산하라. "
   ]
  },
  {
   "cell_type": "markdown",
   "id": "fe6c0774-34c8-47a8-af71-cb8c785da90a",
   "metadata": {},
   "source": [
    "$$\\lim_{h \\to 0}\\frac{l(0.32+h)-l(0.32)}{h}$$"
   ]
  },
  {
   "cell_type": "markdown",
   "id": "1f6411f2-135c-41ac-b945-c543457836b4",
   "metadata": {},
   "source": [
    "(풀이)"
   ]
  },
  {
   "cell_type": "code",
   "execution_count": 111,
   "id": "22eba242-9d7a-4fdc-92bc-3c1e90664dc6",
   "metadata": {},
   "outputs": [
    {
     "data": {
      "text/plain": [
       "3.5527136788005005e-06"
      ]
     },
     "execution_count": 111,
     "metadata": {},
     "output_type": "execute_result"
    }
   ],
   "source": [
    "l = lambda p: 16*np.log(p) + (50-16)*np.log(1-p)\n",
    "h =0.000000001\n",
    "(l(0.32+h)-l(0.32))/h"
   ]
  },
  {
   "cell_type": "markdown",
   "id": "76d366a6-12d1-41de-aaf3-55a2fecda0dc",
   "metadata": {},
   "source": [
    "`(2)` $0<p<1$의 범위에서 $l(p)$를 최대로 만드는 $p$의 값을 구하라. 즉 $\\underset{p}{\\operatorname{argmax}} l(p)$를 구하라."
   ]
  },
  {
   "cell_type": "markdown",
   "id": "92a61bc8-2b55-4f21-be2d-9c8467e6b239",
   "metadata": {},
   "source": [
    "(풀이)"
   ]
  },
  {
   "cell_type": "code",
   "execution_count": 112,
   "id": "cb0a99d3-0fae-4d40-9b5f-d7f7c1767381",
   "metadata": {},
   "outputs": [
    {
     "data": {
      "text/plain": [
       "array([0.01, 0.02, 0.03, 0.04, 0.05, 0.06, 0.07, 0.08, 0.09, 0.1 , 0.11,\n",
       "       0.12, 0.13, 0.14, 0.15, 0.16, 0.17, 0.18, 0.19, 0.2 , 0.21, 0.22,\n",
       "       0.23, 0.24, 0.25, 0.26, 0.27, 0.28, 0.29, 0.3 , 0.31, 0.32, 0.33,\n",
       "       0.34, 0.35, 0.36, 0.37, 0.38, 0.39, 0.4 , 0.41, 0.42, 0.43, 0.44,\n",
       "       0.45, 0.46, 0.47, 0.48, 0.49, 0.5 , 0.51, 0.52, 0.53, 0.54, 0.55,\n",
       "       0.56, 0.57, 0.58, 0.59, 0.6 , 0.61, 0.62, 0.63, 0.64, 0.65, 0.66,\n",
       "       0.67, 0.68, 0.69, 0.7 , 0.71, 0.72, 0.73, 0.74, 0.75, 0.76, 0.77,\n",
       "       0.78, 0.79, 0.8 , 0.81, 0.82, 0.83, 0.84, 0.85, 0.86, 0.87, 0.88,\n",
       "       0.89, 0.9 , 0.91, 0.92, 0.93, 0.94, 0.95, 0.96, 0.97, 0.98, 0.99])"
      ]
     },
     "execution_count": 112,
     "metadata": {},
     "output_type": "execute_result"
    }
   ],
   "source": [
    "p = np.linspace(1/100,1,100)[:-1]\n",
    "p"
   ]
  },
  {
   "cell_type": "code",
   "execution_count": 113,
   "id": "4ef0c34c-fbda-4998-9c48-6719e297ee4e",
   "metadata": {},
   "outputs": [
    {
     "data": {
      "text/plain": [
       "0.32"
      ]
     },
     "execution_count": 113,
     "metadata": {},
     "output_type": "execute_result"
    }
   ],
   "source": [
    "p[np.argmax(l(p))]"
   ]
  },
  {
   "cell_type": "markdown",
   "id": "89b632be-fcf1-4f66-afed-a082e77389a5",
   "metadata": {},
   "source": [
    "# 문제 2. -- 10점"
   ]
  },
  {
   "cell_type": "markdown",
   "id": "d15db2bd-6674-4ca9-b3f2-9bb3258380cb",
   "metadata": {},
   "source": [
    "> 모두 맞출 경우만 정답으로 인정 "
   ]
  },
  {
   "cell_type": "markdown",
   "id": "e997fe7a-8683-4b23-bd15-7c5d54e6b234",
   "metadata": {},
   "source": [
    "길이가 100인 벡터 ${\\bf x} = [x_0, x_1, \\dots, x_{99}]$를 아래와 같이 선언하라. "
   ]
  },
  {
   "cell_type": "code",
   "execution_count": 114,
   "id": "65738e32-e590-4838-979b-ca2e601997ff",
   "metadata": {
    "tags": []
   },
   "outputs": [],
   "source": [
    "np.random.seed(43052)\n",
    "x = np.random.randn(100)"
   ]
  },
  {
   "cell_type": "markdown",
   "id": "ac982cbd-2583-4d1c-a21b-87b07aa850ca",
   "metadata": {},
   "source": [
    "`(1)` $x_0$의 값은 얼마인가?"
   ]
  },
  {
   "cell_type": "markdown",
   "id": "4804e8be-2fd4-4a3e-8b9f-24c6566e57b4",
   "metadata": {},
   "source": [
    "(풀이)"
   ]
  },
  {
   "cell_type": "code",
   "execution_count": 115,
   "id": "c00bef70-50ca-40f1-891b-7cbb3e73f3bf",
   "metadata": {},
   "outputs": [
    {
     "data": {
      "text/plain": [
       "0.38342048800857303"
      ]
     },
     "execution_count": 115,
     "metadata": {},
     "output_type": "execute_result"
    }
   ],
   "source": [
    "x[0]"
   ]
  },
  {
   "cell_type": "markdown",
   "id": "a076e614-7c93-4923-abf5-67918cdda06a",
   "metadata": {},
   "source": [
    "`(2)` $x_{99}$의 값은 얼마인가? "
   ]
  },
  {
   "cell_type": "markdown",
   "id": "4309c812-00e2-48c5-9642-1ab4a8a6fe18",
   "metadata": {},
   "source": [
    "(풀이)"
   ]
  },
  {
   "cell_type": "code",
   "execution_count": 116,
   "id": "0671ca30-a4c4-42db-9ef1-395f55ba913f",
   "metadata": {},
   "outputs": [
    {
     "data": {
      "text/plain": [
       "1.1870144262405193"
      ]
     },
     "execution_count": 116,
     "metadata": {},
     "output_type": "execute_result"
    }
   ],
   "source": [
    "x[99]"
   ]
  },
  {
   "cell_type": "markdown",
   "id": "b1e2e5eb-c014-473a-8db4-010039f08775",
   "metadata": {},
   "source": [
    "`(3)` $\\sum_{i=0}^{99} x_i$의 값은 얼마인가? "
   ]
  },
  {
   "cell_type": "markdown",
   "id": "c66d6181-5911-4148-bd53-36a6a4812db3",
   "metadata": {},
   "source": [
    "(풀이)"
   ]
  },
  {
   "cell_type": "code",
   "execution_count": 117,
   "id": "7c81fb9f-5915-4da6-8179-8c059a2a72a7",
   "metadata": {},
   "outputs": [
    {
     "data": {
      "text/plain": [
       "-8.136079223187856"
      ]
     },
     "execution_count": 117,
     "metadata": {},
     "output_type": "execute_result"
    }
   ],
   "source": [
    "np.sum(x)"
   ]
  },
  {
   "cell_type": "markdown",
   "id": "8e165ae2-9b1e-4d95-85bb-f47826feec32",
   "metadata": {},
   "source": [
    "`(4)` $\\sum_{i=22}^{55} x_i$의 값은 얼마인가? "
   ]
  },
  {
   "cell_type": "markdown",
   "id": "bd53c647-a6e2-45ba-b35f-66901ea04b6d",
   "metadata": {},
   "source": [
    "(풀이)"
   ]
  },
  {
   "cell_type": "code",
   "execution_count": 118,
   "id": "9c980b5f-65c4-4dd9-a723-a5ac597d8bce",
   "metadata": {},
   "outputs": [
    {
     "data": {
      "text/plain": [
       "-1.1780743585314586"
      ]
     },
     "execution_count": 118,
     "metadata": {},
     "output_type": "execute_result"
    }
   ],
   "source": [
    "np.sum(x[22:56])"
   ]
  },
  {
   "cell_type": "markdown",
   "id": "b587477c-8a52-4b1b-9c4c-9b20da527bb6",
   "metadata": {},
   "source": [
    "# 문제 3. -- 10점"
   ]
  },
  {
   "cell_type": "markdown",
   "id": "2ea4b576-8ac4-4610-a85a-ae6b8fcdf6d1",
   "metadata": {},
   "source": [
    "길이가 100인 벡터 ${\\bf x} = [x_0, x_1, \\dots, x_{99}]$를 아래와 같이 선언하라. "
   ]
  },
  {
   "cell_type": "code",
   "execution_count": 119,
   "id": "9ae2a15f-bd51-4bd2-9b32-104d6d6c5391",
   "metadata": {},
   "outputs": [],
   "source": [
    "np.random.seed(43052)\n",
    "x = np.random.randn(100)"
   ]
  },
  {
   "cell_type": "markdown",
   "id": "0512ffad-09ca-46d0-8e26-03f593f69590",
   "metadata": {},
   "source": [
    "이 벡터에 대하여 \n",
    "\n",
    "- $a=\\sum_{i=0}^{24}x_i$\n",
    "- $b=\\sum_{i=25}^{49}x_i$\n",
    "- $c=\\sum_{i=50}^{74}x_i$\n",
    "- $d=\\sum_{i=75}^{99}x_i$\n",
    "\n",
    "의 값을 각각 조사하라. a,b,c,d 중 가장 큰 값은 무엇인가? "
   ]
  },
  {
   "cell_type": "markdown",
   "id": "2d20b1d1-f6b8-4ed1-82a0-bcdda1c22e35",
   "metadata": {},
   "source": [
    "(풀이)"
   ]
  },
  {
   "cell_type": "code",
   "execution_count": 120,
   "id": "3aebd49c-ab36-495d-9706-e0d11a6328b3",
   "metadata": {},
   "outputs": [],
   "source": [
    "a = np.sum(x[:25])\n",
    "b = np.sum(x[25:50])\n",
    "c = np.sum(x[50:75])\n",
    "d = np.sum(x[75:])"
   ]
  },
  {
   "cell_type": "code",
   "execution_count": 121,
   "id": "f58a91d1-b778-4103-83fc-b9f493a3d112",
   "metadata": {},
   "outputs": [
    {
     "data": {
      "text/plain": [
       "(-3.006728261055644,\n",
       " 0.3368136525904264,\n",
       " -4.526860531092521,\n",
       " -0.9393040836301192)"
      ]
     },
     "execution_count": 121,
     "metadata": {},
     "output_type": "execute_result"
    }
   ],
   "source": [
    "a,b,c,d"
   ]
  },
  {
   "cell_type": "markdown",
   "id": "48a6be4b-253b-4ac5-9cfe-240d640d4574",
   "metadata": {},
   "source": [
    "# 문제 4. -- 10점"
   ]
  },
  {
   "cell_type": "markdown",
   "id": "1d7a6bcb-358b-4c92-b3b7-ad613280d7af",
   "metadata": {},
   "source": [
    "> 모두 맞출 경우만 정답으로 인정 "
   ]
  },
  {
   "cell_type": "markdown",
   "id": "074f4a3b-479f-434b-970b-c45fa441f07e",
   "metadata": {},
   "source": [
    "`(1)` `lambda`를 이용하여 $f(x)=\\sin(x)$에 대응하는 함수를 선언하라. "
   ]
  },
  {
   "cell_type": "markdown",
   "id": "0d425698-4449-48c2-a132-0bde1d0cce64",
   "metadata": {},
   "source": [
    "(풀이)"
   ]
  },
  {
   "cell_type": "code",
   "execution_count": 122,
   "id": "a5d5cdf5-8e3b-4b3b-acd5-4197a6ba2bdd",
   "metadata": {},
   "outputs": [
    {
     "data": {
      "text/plain": [
       "<function __main__.<lambda>(x)>"
      ]
     },
     "execution_count": 122,
     "metadata": {},
     "output_type": "execute_result"
    }
   ],
   "source": [
    "lambda x: np.sin(x)"
   ]
  },
  {
   "cell_type": "markdown",
   "id": "8c448b15-f814-4321-86ed-7b31cce8a50f",
   "metadata": {},
   "source": [
    "`(2)` `def`를 이용하여 $g(x)=\\cos(2x)$에 대응하는 함수를 선언하라. "
   ]
  },
  {
   "cell_type": "markdown",
   "id": "e4e5bed5-f48d-405d-9841-58b42a1be04f",
   "metadata": {},
   "source": [
    "(풀이)"
   ]
  },
  {
   "cell_type": "code",
   "execution_count": 123,
   "id": "1b8a8278-0581-4384-acf8-99033674f4b0",
   "metadata": {},
   "outputs": [],
   "source": [
    "def g(x):\n",
    "    return np.cos(2*x)"
   ]
  },
  {
   "cell_type": "markdown",
   "id": "2a685e71-ef05-4b10-9857-b4326ede9bb6",
   "metadata": {},
   "source": [
    "`(3)` 임의의 벡터 ${\\bf x}=[x_0,\\dots,x_{n-1}]$ 이 왔을때, ${\\bf x}$의 최대값을 $x_{max}$ 라고 하고 최소값을 $x_{min}$이라고 하자. 예를들어 \n",
    "\n",
    "$${\\bf x} = [1,2,3,0]$$ \n",
    "\n",
    "의 경우 $x_{max}=3$ 이고 $x_{min}=0$ 이다. 벡터 ${\\bf x}$를 입력으로 하고 출력으로 $x_{max}-x_{min}$의 계산값을 리턴하는 함수를 구현하라. "
   ]
  },
  {
   "cell_type": "markdown",
   "id": "b5dc3cb2-957f-4f2c-a63e-4110d76f8c76",
   "metadata": {},
   "source": [
    "(풀이)"
   ]
  },
  {
   "cell_type": "code",
   "execution_count": 124,
   "id": "be56fef9-c392-482e-9cb3-82769ed76ce9",
   "metadata": {},
   "outputs": [],
   "source": [
    "f = lambda x: np.max(x) - np.min(x)"
   ]
  },
  {
   "cell_type": "code",
   "execution_count": 125,
   "id": "2a865bac-129f-4792-b218-9551ae8d0db7",
   "metadata": {},
   "outputs": [
    {
     "data": {
      "text/plain": [
       "3"
      ]
     },
     "execution_count": 125,
     "metadata": {},
     "output_type": "execute_result"
    }
   ],
   "source": [
    "f([1,2,3,0])"
   ]
  },
  {
   "cell_type": "code",
   "execution_count": 126,
   "id": "a2c651b4-dce2-4a54-b357-3d3c45a261d0",
   "metadata": {},
   "outputs": [
    {
     "data": {
      "text/plain": [
       "11"
      ]
     },
     "execution_count": 126,
     "metadata": {},
     "output_type": "execute_result"
    }
   ],
   "source": [
    "f([-1,2,4,10])"
   ]
  },
  {
   "cell_type": "markdown",
   "id": "318f4aa3-2526-429f-b2ad-d89506876d1e",
   "metadata": {},
   "source": [
    "# 문제 5. -- 10점 "
   ]
  },
  {
   "cell_type": "markdown",
   "id": "989131a9-0aed-4ddb-99b4-b8836bf129d1",
   "metadata": {},
   "source": [
    "> 모두 맞출 경우만 정답으로 인정 "
   ]
  },
  {
   "cell_type": "markdown",
   "id": "669e1f41-52d1-4d89-ad80-d17b300297ea",
   "metadata": {},
   "source": [
    "아래의 코드를 실행하여 `x`를 생성하라. "
   ]
  },
  {
   "cell_type": "code",
   "execution_count": 127,
   "id": "c0c5d947-0797-4976-ba7c-411871985a98",
   "metadata": {
    "tags": []
   },
   "outputs": [],
   "source": [
    "np.random.seed(43052)\n",
    "x = np.random.rand(4305)"
   ]
  },
  {
   "cell_type": "markdown",
   "id": "53224798-44bb-4bad-bf58-daae0a99de18",
   "metadata": {},
   "source": [
    "`(1)` 생성된 $x_i$ 중 0.65와 가장 가까운 값을 출력하라."
   ]
  },
  {
   "cell_type": "markdown",
   "id": "3bc8656a-7a77-436a-90c3-6fc17aa5958c",
   "metadata": {},
   "source": [
    "(풀이)"
   ]
  },
  {
   "cell_type": "code",
   "execution_count": 128,
   "id": "783bc6ba-6e80-4041-b8d3-47ebd30516cf",
   "metadata": {},
   "outputs": [
    {
     "data": {
      "text/plain": [
       "0.6499741766686671"
      ]
     },
     "execution_count": 128,
     "metadata": {},
     "output_type": "execute_result"
    }
   ],
   "source": [
    "x[np.argmin(np.abs(x-0.65))]"
   ]
  },
  {
   "cell_type": "markdown",
   "id": "d88dd836-3115-45a5-80ce-e14edf8365c1",
   "metadata": {},
   "source": [
    "`(2)` 생성된 값의 평균을 구하라. "
   ]
  },
  {
   "cell_type": "markdown",
   "id": "ed60a18a-27ad-4595-abe4-89a61334a6ca",
   "metadata": {},
   "source": [
    "**hint** $\\frac{1}{4305}\\sum_{i=1}^{4305}x_i$를 계산하면 된다. 아니면 `np.mean()` 함수를 이용해도된다. "
   ]
  },
  {
   "cell_type": "markdown",
   "id": "2ab24727-1e9f-4c5a-b85e-75f3c5373a2d",
   "metadata": {},
   "source": [
    "(풀이)"
   ]
  },
  {
   "cell_type": "code",
   "execution_count": 129,
   "id": "e586d9f4-6bc6-44ba-9396-93dd5c82be02",
   "metadata": {},
   "outputs": [
    {
     "data": {
      "text/plain": [
       "(0.4965974918744432, 0.4965974918744432)"
      ]
     },
     "execution_count": 129,
     "metadata": {},
     "output_type": "execute_result"
    }
   ],
   "source": [
    "np.sum(x)/4305, np.mean(x)"
   ]
  },
  {
   "cell_type": "markdown",
   "id": "6249e97e-f8ce-4e4d-b661-8f4dfbfdd7c6",
   "metadata": {},
   "source": [
    "`(3)` `(2)`에서 계산된 평균값과 가장 가까운 $x_i$값을 출력하라. "
   ]
  },
  {
   "cell_type": "markdown",
   "id": "a92750c1-cc51-4538-9100-74e958ff0838",
   "metadata": {},
   "source": [
    "(풀이)"
   ]
  },
  {
   "cell_type": "code",
   "execution_count": 130,
   "id": "19761671-cafb-4f50-a956-e46e679c27b3",
   "metadata": {},
   "outputs": [
    {
     "data": {
      "text/plain": [
       "0.497315535600802"
      ]
     },
     "execution_count": 130,
     "metadata": {},
     "output_type": "execute_result"
    }
   ],
   "source": [
    "x[np.argmin(np.abs(x-np.mean(x)))]"
   ]
  },
  {
   "cell_type": "markdown",
   "id": "1c464e63-36d1-4f1e-b2e8-66a2067a83f0",
   "metadata": {},
   "source": [
    "# 문제 6. -- 20점"
   ]
  },
  {
   "cell_type": "markdown",
   "id": "2b84ef55-2a2b-46bb-82f9-67bfa6ed0145",
   "metadata": {},
   "source": [
    "$\\frac{\\pi}{2}\\leq x \\leq \\pi$ 에서 $f(x)=\\sin(\\frac{3}{2}x)$ 와 $g(x)=\\cos(2x)\\sin(5x)$ 의 교점의 좌표를 구하라."
   ]
  },
  {
   "cell_type": "markdown",
   "id": "1c594cd5-ccb2-4805-82de-de8db3a8ac50",
   "metadata": {},
   "source": [
    "> 근사값만구해도 정답으로 인정함 "
   ]
  },
  {
   "cell_type": "markdown",
   "id": "bbc30cf5-dd39-41fb-ba01-df7dac30809e",
   "metadata": {},
   "source": [
    "(풀이)"
   ]
  },
  {
   "cell_type": "code",
   "execution_count": 131,
   "id": "f330a5cc-3654-4e22-8c6c-62719d9dc056",
   "metadata": {},
   "outputs": [],
   "source": [
    "x = np.linspace(np.pi/2, np.pi,1000000)\n",
    "f = lambda x: np.sin(3/2*x) \n",
    "g = lambda x: np.cos(2*x)*np.sin(5*x)"
   ]
  },
  {
   "cell_type": "code",
   "execution_count": 132,
   "id": "96528e22-6b10-49d5-bac0-309d219d2e67",
   "metadata": {},
   "outputs": [
    {
     "data": {
      "text/plain": [
       "[<matplotlib.lines.Line2D at 0x7f3a225b92e0>]"
      ]
     },
     "execution_count": 132,
     "metadata": {},
     "output_type": "execute_result"
    },
    {
     "data": {
      "image/png": "[encoded data removed]",
      "text/plain": [
       "<Figure size 640x480 with 1 Axes>"
      ]
     },
     "metadata": {},
     "output_type": "display_data"
    }
   ],
   "source": [
    "plt.plot(x,f(x))\n",
    "plt.plot(x,g(x))"
   ]
  },
  {
   "cell_type": "code",
   "execution_count": 133,
   "id": "459874ce-7366-4a72-ad5b-57051523663f",
   "metadata": {},
   "outputs": [
    {
     "data": {
      "text/plain": [
       "1.9462123119258816"
      ]
     },
     "execution_count": 133,
     "metadata": {},
     "output_type": "execute_result"
    }
   ],
   "source": [
    "xx = x[np.argmin(np.abs(f(x)-g(x)))]\n",
    "xx"
   ]
  },
  {
   "cell_type": "code",
   "execution_count": 134,
   "id": "c479ad32-5fd4-4274-b436-0a50190a4ec1",
   "metadata": {},
   "outputs": [
    {
     "data": {
      "text/plain": [
       "(0.2204484288597834, 0.2204457729878962)"
      ]
     },
     "execution_count": 134,
     "metadata": {},
     "output_type": "execute_result"
    }
   ],
   "source": [
    "f(xx), g(xx)"
   ]
  },
  {
   "cell_type": "markdown",
   "id": "90ad846e-2e19-4df6-9801-bd35747faf18",
   "metadata": {},
   "source": [
    "# 문제 7. -- 30점"
   ]
  },
  {
   "cell_type": "markdown",
   "id": "6835fa8b-b4f2-4f8c-ac98-60842fb11fbc",
   "metadata": {},
   "source": [
    "`(1)` 무한급수 $\\sum_{n=1}^{\\infty}(\\frac{1}{2})^n$ 의 수렴 및 발산을 파이썬을 이용하여 판정하라. -- 10점"
   ]
  },
  {
   "cell_type": "markdown",
   "id": "d88b44d5-f50c-4e57-9f08-b88c4cf52bfd",
   "metadata": {},
   "source": [
    "**힌트**\n",
    "\n",
    "$n=10, 20, 30, ..., 100$ 등에서 $S_n=\\sum_{k=1}^{n}a_k$의 값을 조사해보고 수렴성을 판단하라. "
   ]
  },
  {
   "cell_type": "markdown",
   "id": "feea257e-2b0a-4b96-94ba-d3016acbe837",
   "metadata": {},
   "source": [
    "(풀이)"
   ]
  },
  {
   "cell_type": "code",
   "execution_count": 135,
   "id": "d4ffea5a-4cb8-4f63-b198-4f5fc8b41711",
   "metadata": {},
   "outputs": [],
   "source": [
    "n = np.linspace(1,100,100)\n",
    "an = (1/2)**n\n",
    "Sn = np.cumsum(an)"
   ]
  },
  {
   "cell_type": "code",
   "execution_count": 136,
   "id": "ef2bc2fe-6ccf-4ebe-9093-735fbd9ab8b3",
   "metadata": {},
   "outputs": [
    {
     "data": {
      "text/plain": [
       "array([0.5       , 0.75      , 0.875     , 0.9375    , 0.96875   ,\n",
       "       0.984375  , 0.9921875 , 0.99609375, 0.99804688, 0.99902344,\n",
       "       0.99951172, 0.99975586, 0.99987793, 0.99993896, 0.99996948,\n",
       "       0.99998474, 0.99999237, 0.99999619, 0.99999809, 0.99999905,\n",
       "       0.99999952, 0.99999976, 0.99999988, 0.99999994, 0.99999997,\n",
       "       0.99999999, 0.99999999, 1.        , 1.        , 1.        ,\n",
       "       1.        , 1.        , 1.        , 1.        , 1.        ,\n",
       "       1.        , 1.        , 1.        , 1.        , 1.        ,\n",
       "       1.        , 1.        , 1.        , 1.        , 1.        ,\n",
       "       1.        , 1.        , 1.        , 1.        , 1.        ,\n",
       "       1.        , 1.        , 1.        , 1.        , 1.        ,\n",
       "       1.        , 1.        , 1.        , 1.        , 1.        ,\n",
       "       1.        , 1.        , 1.        , 1.        , 1.        ,\n",
       "       1.        , 1.        , 1.        , 1.        , 1.        ,\n",
       "       1.        , 1.        , 1.        , 1.        , 1.        ,\n",
       "       1.        , 1.        , 1.        , 1.        , 1.        ,\n",
       "       1.        , 1.        , 1.        , 1.        , 1.        ,\n",
       "       1.        , 1.        , 1.        , 1.        , 1.        ,\n",
       "       1.        , 1.        , 1.        , 1.        , 1.        ,\n",
       "       1.        , 1.        , 1.        , 1.        , 1.        ])"
      ]
     },
     "execution_count": 136,
     "metadata": {},
     "output_type": "execute_result"
    }
   ],
   "source": [
    "Sn"
   ]
  },
  {
   "cell_type": "markdown",
   "id": "d06dd8c3-fa9c-40be-a473-66c09313d013",
   "metadata": {},
   "source": [
    "수렴한다"
   ]
  },
  {
   "cell_type": "markdown",
   "id": "bd63b1c7-8842-43f2-85cb-eed40d7ba868",
   "metadata": {},
   "source": [
    "`(2)` 무한급수 $\\sum_{n=1}^{\\infty}\\frac{1}{n}$ 의 수렴 및 발산을 파이썬을 이용하여 판정하라. -- 20점"
   ]
  },
  {
   "cell_type": "markdown",
   "id": "5f9ae7b8-ffc6-4931-b201-34f164f37e60",
   "metadata": {},
   "source": [
    "**힌트** -- `(1)`번과 동일한 테크닉"
   ]
  },
  {
   "cell_type": "markdown",
   "id": "2a5feed6-019d-4609-914c-89825671ab48",
   "metadata": {},
   "source": [
    "(풀이)"
   ]
  },
  {
   "cell_type": "code",
   "execution_count": 137,
   "id": "1f983878-3e22-4252-bd94-33ef84f15db0",
   "metadata": {},
   "outputs": [],
   "source": [
    "n = np.linspace(1,100000000,100000000)\n",
    "an = 1/n\n",
    "Sn = np.cumsum(an)"
   ]
  },
  {
   "cell_type": "code",
   "execution_count": 138,
   "id": "da1f2c54-cb19-4e45-99b8-a5643d0e380c",
   "metadata": {},
   "outputs": [
    {
     "data": {
      "text/plain": [
       "array([ 1.        ,  1.5       ,  1.83333333, ..., 18.99789639,\n",
       "       18.9978964 , 18.99789641])"
      ]
     },
     "execution_count": 138,
     "metadata": {},
     "output_type": "execute_result"
    }
   ],
   "source": [
    "Sn"
   ]
  },
  {
   "cell_type": "markdown",
   "id": "83029f0a-184c-4261-9eb7-4d95d3b93393",
   "metadata": {},
   "source": [
    "발산한다 "
   ]
  }
 ],
 "metadata": {
  "kernelspec": {
   "display_name": "Python 3 (ipykernel)",
   "language": "python",
   "name": "python3"
  },
  "language_info": {
   "codemirror_mode": {
    "name": "ipython",
    "version": 3
   },
   "file_extension": ".py",
   "mimetype": "text/x-python",
   "name": "python",
   "nbconvert_exporter": "python",
   "pygments_lexer": "ipython3",
   "version": "3.12.2"
  }
 },
 "nbformat": 4,
 "nbformat_minor": 5
}
