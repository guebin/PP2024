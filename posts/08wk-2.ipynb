{
 "cells": [
  {
   "cell_type": "raw",
   "id": "438f6d70",
   "metadata": {
    "id": "87b5cded-346b-4915-acf5-b5ec93a5207d"
   },
   "source": [
    "---\n",
    "title: \"08wk-2: 랜덤모듈을 이용한 시뮬레이션 문제 예시\"\n",
    "author: \"최규빈\"\n",
    "date: \"04/26/2024\"\n",
    "draft: false\n",
    "---"
   ]
  },
  {
   "cell_type": "markdown",
   "id": "16d725b0-31cb-408e-9cdd-599b32e8009d",
   "metadata": {
    "id": "e67ab8e0"
   },
   "source": [
    "<a href=\"https://colab.research.google.com/github/guebin/PP2024/blob/main/posts/08wk-2.ipynb\"><img src=\"https://colab.research.google.com/assets/colab-badge.svg\" style=\"text-align: left\"></a>"
   ]
  },
  {
   "cell_type": "markdown",
   "id": "96510025",
   "metadata": {},
   "source": [
    "# 0. break 와 while 이해 "
   ]
  },
  {
   "cell_type": "markdown",
   "id": "dfe77a28",
   "metadata": {},
   "source": [
    "`(1)` 아래의 예시를 보고 `break` 의 사용방법을 파악하라. "
   ]
  },
  {
   "cell_type": "code",
   "execution_count": 81,
   "id": "23cd35ef",
   "metadata": {},
   "outputs": [
    {
     "name": "stdout",
     "output_type": "stream",
     "text": [
      "첫번째 모음은: e\n"
     ]
    }
   ],
   "source": [
    "# 주어진 문자열\n",
    "word = \"hello\"\n",
    "\n",
    "# 문자열에서 첫 번째 모음을 찾는 코드\n",
    "for letter in word:\n",
    "    if letter in \"aeiou\":  # 현재 문제가 모음인지 확인\n",
    "        print(f\"첫번째 모음은: {letter}\")\n",
    "        break  # 첫번째 모음을 찾으면 반복을 종료 \n"
   ]
  },
  {
   "cell_type": "markdown",
   "id": "b5e319b7",
   "metadata": {},
   "source": [
    "`(2)` 아래의 예시를 보고 `while`의 사용방법을 파악하라. "
   ]
  },
  {
   "cell_type": "code",
   "execution_count": 85,
   "id": "49f37481",
   "metadata": {},
   "outputs": [
    {
     "name": "stdout",
     "output_type": "stream",
     "text": [
      "팩토리얼: 720\n"
     ]
    }
   ],
   "source": [
    "num = 6\n",
    "\n",
    "# 입력된 숫자의 팩토리얼을 계산\n",
    "factorial = 1\n",
    "while num > 0:\n",
    "    factorial = factorial*num\n",
    "    num = num - 1\n",
    "\n",
    "# 계산된 팩토리얼을 출력\n",
    "print(f\"팩토리얼:\", factorial)\n"
   ]
  },
  {
   "cell_type": "code",
   "execution_count": 94,
   "id": "92f48550",
   "metadata": {},
   "outputs": [
    {
     "name": "stdout",
     "output_type": "stream",
     "text": [
      "팩토리얼: 720\n"
     ]
    }
   ],
   "source": [
    "num = 6\n",
    "\n",
    "# 입력된 숫자의 팩토리얼을 계산\n",
    "factorial = 1\n",
    "while True:\n",
    "    factorial = factorial*num\n",
    "    num = num - 1\n",
    "    if num == 0: \n",
    "        break \n",
    "        \n",
    "# 계산된 팩토리얼을 출력\n",
    "print(f\"팩토리얼:\", factorial)\n"
   ]
  },
  {
   "cell_type": "markdown",
   "id": "6d92a75e-350f-4ed5-8de8-af32347bac01",
   "metadata": {},
   "source": [
    "# 1. 가위바위보 하나빼기"
   ]
  },
  {
   "cell_type": "markdown",
   "id": "e969b7aa-ee94-47cc-8ff1-a51dc885f9c2",
   "metadata": {},
   "source": [
    "`(1)` 보람과 서연은 \"가위바위보 하나빼기\" 게임을 하려고 한다. 보람은 현재 ['가위','바위'] 를 가지고 있으며 서연은 현재 ['가위','보'] 를 가지고 있다. 보람과 서연이 가지고 있는 패 중 랜덤으로 하나를 낸다고 하자. 보람과 서연중 누가 더 유리한가? 1000번의 시뮬레이션을 통하여 검증하고 결과를 해석하라. "
   ]
  },
  {
   "cell_type": "markdown",
   "id": "ec545f9c-1467-4c80-ae07-44253fca663c",
   "metadata": {},
   "source": [
    "# 2. 공든탑 쌓기"
   ]
  },
  {
   "cell_type": "markdown",
   "id": "e42721a6",
   "metadata": {},
   "source": [
    "규빈과 다호가 블록을 사용하여 탑을 쌓는다. 규빈은 한 번에 2개의 블록을 사용하여 탑을 쌓지만, 실수로 탑을 무너뜨릴 확률이 50%이다. 한 번 무너진 탑은 다시 처음부터 쌓아야 한다. 다호는 한 번에 1개의 블록을 사용하여 신중하게 탑을 쌓는다. 다호는 천천히 탑을 쌓지만 실수로 탑을 무너뜨리지 않는다.\n",
    "\n",
    "`(1)` 2층 높이의 탑을 쌓을 때, 규빈과 다호 중 누가 먼저 탑을 올릴 확률이 높을까? 1000번의 시뮬레이션을 통해 결과를 확인해보라."
   ]
  },
  {
   "cell_type": "markdown",
   "id": "75a248ac",
   "metadata": {},
   "source": [
    "# 3. 규빈과 하니의 내기 "
   ]
  },
  {
   "cell_type": "markdown",
   "id": "476b9f86",
   "metadata": {},
   "source": [
    "`(1)` 앞면과 뒷면이 나올 확률이 각각 1/2인 동전을 생각하자. 하니와 규빈은 이 동전을 연속으로 던져서 아래와 같은 룰을 정하여 내기를 하였다.\n",
    "\n",
    "- 동전을 연속으로 반복하여 던진다. 최근 2회의 결과가 (뒷면,앞면) 이 나오면 하니의 승리\n",
    "- 동전을 연속으로 반복하여 던진다. 최근 2회의 결과가 (뒷면,뒷면) 이 나오면 규빈의 승리\n",
    "\n",
    "이 내기는 하니가 유리한가? 규빈이 유리한가? 시뮬레이션을 통해 검증하라."
   ]
  },
  {
   "cell_type": "markdown",
   "id": "b1e07123",
   "metadata": {},
   "source": [
    "> 힌트: 똑같이 유리함 "
   ]
  },
  {
   "cell_type": "markdown",
   "id": "a046467c",
   "metadata": {},
   "source": [
    "`(2)` 앞면과 뒷면이 나올 확률이 각각 1/2인 동전을 생각하자. 하니와 규빈은 이 동전을 연속으로 던져서 아래와 같은 룰을 정하여 내기를 하였다.\n",
    "\n",
    "- 동전을 연속으로 반복하여 던진다. 최근 2회의 결과가 (앞면,뒷면) 이 나오면 하니의 승리\n",
    "- 동전을 연속으로 반복하여 던진다. 최근 2회의 결과가 (뒷면,뒷면) 이 나오면 규빈의 승리\n",
    "\n",
    "이 내기는 하니가 유리한가? 규빈이 유리한가? 시뮬레이션을 통해 검증하고 이유를 설명하라."
   ]
  },
  {
   "cell_type": "markdown",
   "id": "4db73876",
   "metadata": {},
   "source": [
    "> 힌트: 하니가 유리함 "
   ]
  }
 ],
 "metadata": {
  "kernelspec": {
   "display_name": "Python 3 (ipykernel)",
   "language": "python",
   "name": "python3"
  },
  "language_info": {
   "codemirror_mode": {
    "name": "ipython",
    "version": 3
   },
   "file_extension": ".py",
   "mimetype": "text/x-python",
   "name": "python",
   "nbconvert_exporter": "python",
   "pygments_lexer": "ipython3",
   "version": "3.10.13"
  }
 },
 "nbformat": 4,
 "nbformat_minor": 5
}
