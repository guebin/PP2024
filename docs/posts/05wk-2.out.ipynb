{
  "cells": [
    {
      "cell_type": "markdown",
      "metadata": {},
      "source": [
        "# 05wk-2: 파이썬의 자료형 (1)\n",
        "\n",
        "최규빈  \n",
        "2024-03-29\n",
        "\n",
        "<a href=\"https://colab.research.google.com/github/guebin/PP2024/blob/main/posts/05wk-2.ipynb\"><img src=\"https://colab.research.google.com/assets/colab-badge.svg\" style=\"text-align: left\"></a>\n",
        "\n",
        "# 1. 강의영상"
      ],
      "id": "b15be644-cfda-4c08-b67c-ce53c0cd6501"
    },
    {
      "cell_type": "code",
      "execution_count": 1,
      "metadata": {
        "tags": []
      },
      "outputs": [],
      "source": [
        "#{{<video https://youtu.be/playlist?list=PLQqh36zP38-wwdZJIQiqJdmbWB90HM-VK&si=O2VyS-dYdtqnlD25 >}}"
      ],
      "id": "ce41b77c-336e-42b6-a090-5ffa3c63289b"
    },
    {
      "cell_type": "markdown",
      "metadata": {},
      "source": [
        "# 2. Imports"
      ],
      "id": "63609e1e-fe08-4d32-b85d-67ed7ec01bce"
    },
    {
      "cell_type": "code",
      "execution_count": 2,
      "metadata": {
        "tags": []
      },
      "outputs": [],
      "source": [
        "import numpy as np"
      ],
      "id": "a6f35f30-1b70-4329-acf2-88ad3f10a659"
    },
    {
      "cell_type": "markdown",
      "metadata": {},
      "source": [
        "# 3. `tuple`\n",
        "\n",
        "## A. 리스트 vs 튜플\n",
        "\n",
        "`-` 컨테이너형타입이라는 점, 그리고 연산 및 인덱싱을 하는 방법은\n",
        "리스트와 같음 - 차이점1: \\[\\] 대신에 ()를 사용한다. - 차이점2:\n",
        "불변형이다. (원소의 값을 바꿀 수 없음) - 차이점3: 하나의 원소를 선언할\n",
        "때는 (1,)와 같이 해야 한다. - 차이점4: 의미가 명확할때는 튜플의 ()를\n",
        "생략가능하다.\n",
        "\n",
        "`-` 컨테이너형이라는 것이 무슨의미?"
      ],
      "id": "b5e8b4c7-3c5f-46ef-950e-c6fe96f6cefc"
    },
    {
      "cell_type": "code",
      "execution_count": 235,
      "metadata": {},
      "outputs": [],
      "source": [
        "a=(4,6,'pencil', 3.2+4.6j, [3,4]) "
      ],
      "id": "b41777cd-5965-4b2d-9c2b-cccc437a00d8"
    },
    {
      "cell_type": "code",
      "execution_count": 236,
      "metadata": {},
      "outputs": [],
      "source": [
        "type(a[2])"
      ],
      "id": "4fe72afc-6d27-49f8-a970-aa17288fc3c4"
    },
    {
      "cell_type": "code",
      "execution_count": 237,
      "metadata": {},
      "outputs": [],
      "source": [
        "type(a[3])"
      ],
      "id": "b818c72e-dbe6-4753-adc1-df6b188012b6"
    },
    {
      "cell_type": "markdown",
      "metadata": {},
      "source": [
        "`-` 불변형이라는 것은 무슨의미?"
      ],
      "id": "68009374-68af-4181-9131-3a1be5215150"
    },
    {
      "cell_type": "code",
      "execution_count": 13,
      "metadata": {},
      "outputs": [],
      "source": [
        "a[2] = 'Pencil'"
      ],
      "id": "d5be26d7-c809-4e28-aa51-0e4e5e4fbb32"
    },
    {
      "cell_type": "markdown",
      "metadata": {},
      "source": [
        "참고로 a를 튜플이 아니라 리스트로 선언하면 값이 잘 바뀐다."
      ],
      "id": "911eb386-a8c2-4ac8-b2fa-1b5cc63555f6"
    },
    {
      "cell_type": "code",
      "execution_count": 14,
      "metadata": {},
      "outputs": [],
      "source": [
        "a=[4,6,'pencil', 3.2+4.6j, [3,4]]"
      ],
      "id": "0739826e-5b0a-4818-b907-2e4650418339"
    },
    {
      "cell_type": "code",
      "execution_count": 15,
      "metadata": {},
      "outputs": [],
      "source": [
        "a[2]"
      ],
      "id": "e61aa197-69c2-448a-8614-573458096be5"
    },
    {
      "cell_type": "code",
      "execution_count": 16,
      "metadata": {},
      "outputs": [],
      "source": [
        "a[2]='Pencil'"
      ],
      "id": "4d0ec6aa-8a10-437b-9cb3-6f53441a8cc4"
    },
    {
      "cell_type": "code",
      "execution_count": 17,
      "metadata": {},
      "outputs": [],
      "source": [
        "a"
      ],
      "id": "4879a778-6e95-45a1-8a61-f7d576e1d9f6"
    },
    {
      "cell_type": "markdown",
      "metadata": {},
      "source": [
        "`-` 하나의 원소로 이루어진 튜플을 만들때는 쉼표를 붙여야 함."
      ],
      "id": "59539e39-6eb6-4ebc-843d-c7f7cf1d3e0a"
    },
    {
      "cell_type": "code",
      "execution_count": 238,
      "metadata": {},
      "outputs": [],
      "source": [
        "[1]+[2,3,4]"
      ],
      "id": "6df77a7d-b0de-4911-abed-cddf5b8dbc92"
    },
    {
      "cell_type": "code",
      "execution_count": 239,
      "metadata": {},
      "outputs": [],
      "source": [
        "(1,)+(2,3,4)"
      ],
      "id": "e29f8013-430f-428f-b53b-b35149eebf6c"
    },
    {
      "cell_type": "markdown",
      "metadata": {},
      "source": [
        "`-` 마지막차이점! 의미가 명확할때 튜플의 괄호는 생략가능하다. (이게\n",
        "중요합니다)"
      ],
      "id": "e20b7439-d610-42bb-88af-81a59f4bd5e3"
    },
    {
      "cell_type": "code",
      "execution_count": 26,
      "metadata": {},
      "outputs": [],
      "source": [
        "a=1,2\n",
        "a"
      ],
      "id": "19ee581e-106d-4e7a-a802-98a7f21b5ee7"
    },
    {
      "cell_type": "markdown",
      "metadata": {},
      "source": [
        "의미가 명확할때 생략해야함"
      ],
      "id": "9d0dfdf4-5b9e-4411-8c4a-4345ece0a1e5"
    },
    {
      "cell_type": "code",
      "execution_count": 240,
      "metadata": {},
      "outputs": [],
      "source": [
        "1,2 + 3,4,5 "
      ],
      "id": "df0edcc4-caa3-4f35-8392-448b583ac803"
    },
    {
      "cell_type": "code",
      "execution_count": 241,
      "metadata": {},
      "outputs": [],
      "source": [
        "(1,2) + (3,4,5) "
      ],
      "id": "53604559-e361-4ef8-b1be-0b2452d67721"
    },
    {
      "cell_type": "markdown",
      "metadata": {},
      "source": [
        "## B. 선언\n",
        "\n",
        "`-` 소괄호를 이용"
      ],
      "id": "a6511dbe-6988-4d66-a446-b47c799c8eab"
    },
    {
      "cell_type": "code",
      "execution_count": 35,
      "metadata": {},
      "outputs": [],
      "source": [
        "a=(1,2,3)\n",
        "a"
      ],
      "id": "41f454ca-311c-460f-9dec-95b85192aaa1"
    },
    {
      "cell_type": "code",
      "execution_count": 36,
      "metadata": {},
      "outputs": [],
      "source": [
        "type(a)"
      ],
      "id": "ad7b85f5-1384-4e93-8f30-0587da48cf76"
    },
    {
      "cell_type": "markdown",
      "metadata": {},
      "source": [
        "`-` 생략가능하다는 점이 포인트"
      ],
      "id": "916c7f6e-e6b8-4585-a699-16080eef31d7"
    },
    {
      "cell_type": "code",
      "execution_count": 37,
      "metadata": {},
      "outputs": [],
      "source": [
        "a=1,2,3\n",
        "a"
      ],
      "id": "4420d25a-dbcc-423a-b83b-072ed2660cbb"
    },
    {
      "cell_type": "code",
      "execution_count": 38,
      "metadata": {},
      "outputs": [],
      "source": [
        "type(a)"
      ],
      "id": "7528cc25-20e5-42b7-a988-a705e1a141d0"
    },
    {
      "cell_type": "markdown",
      "metadata": {},
      "source": [
        "`-` 원소가 하나인 튜플을 만들고 싶다면?"
      ],
      "id": "cf285dc7-3c52-4d6a-af9b-672f17338514"
    },
    {
      "cell_type": "code",
      "execution_count": 39,
      "metadata": {},
      "outputs": [],
      "source": [
        "a=(1,)\n",
        "a"
      ],
      "id": "133cbbc2-7ae8-480d-8ebb-8ffd8828ecaa"
    },
    {
      "cell_type": "markdown",
      "metadata": {},
      "source": [
        "## C. 연산\n",
        "\n",
        "`-` 리스트와 동일"
      ],
      "id": "43bd62b2-89ba-44f3-bcb0-a876694261e5"
    },
    {
      "cell_type": "code",
      "execution_count": 40,
      "metadata": {},
      "outputs": [],
      "source": [
        "(1,2)+(3,4,5)"
      ],
      "id": "389ec2fe-2925-48f7-9819-6f58840669ac"
    },
    {
      "cell_type": "code",
      "execution_count": 41,
      "metadata": {},
      "outputs": [],
      "source": [
        "(1,2)*2"
      ],
      "id": "ad1163a8-954e-40a9-91fc-ca7cd4918a40"
    },
    {
      "cell_type": "markdown",
      "metadata": {},
      "source": [
        "## D. 인덱싱\n",
        "\n",
        "`-` 리스트와 동일"
      ],
      "id": "0f1a8c3f-0ea4-47ce-9d9b-376fe8376a9e"
    },
    {
      "cell_type": "code",
      "execution_count": 42,
      "metadata": {},
      "outputs": [],
      "source": [
        "a=(1,2,3,-4,-5)\n",
        "a"
      ],
      "id": "0fc41a94-fd72-458c-adb3-80864b39109f"
    },
    {
      "cell_type": "code",
      "execution_count": 43,
      "metadata": {},
      "outputs": [],
      "source": [
        "a[-1]"
      ],
      "id": "7b38c69c-2b18-452f-bb4a-a8c6ed2a2bb3"
    },
    {
      "cell_type": "code",
      "execution_count": 44,
      "metadata": {},
      "outputs": [],
      "source": [
        "a[-3:]"
      ],
      "id": "2a1945aa-46e8-4838-b852-1ab2fcc3f4f8"
    },
    {
      "cell_type": "markdown",
      "metadata": {},
      "source": [
        "## E. 슬기로운 튜플사용\n",
        "\n",
        "`-` 튜플은 쓸모없어 보임 (리스트면 충분한것 아닌가?)\n",
        "\n",
        "`-` 책의 설명 (이 설명이 꼭 파이썬에 한정되는 것은 아님. 모든 언어에\n",
        "존재하는 불변형 객체에 적용가능한 설명)\n",
        "\n",
        "-   실수방지\n",
        "-   빠르다, 다중작업에 유리하다, 여러사람과 작업하기에 유리하다,\n",
        "    깊은복사/얕은복사시 원하지않는 오류(side effect이라고 함)를 방지할\n",
        "    수 있다, 메모리관리에도 유리함…\n",
        "-   느낌: 불변형은 기능제한이 있는데 가볍고 빠른, 가변형은 기능은\n",
        "    풍부하지만 약간 느리고 무거운 느낌임 (불변형:라면사리, 가변형:라면)\n",
        "\n",
        "`-` 예제: 여러변수를 동시에 출력하고 싶을 경우 (다중출력?)\n",
        "\n",
        "변수를 아래와 같이 선언하였다고 하자."
      ],
      "id": "18138d8c-7ef7-43ad-aaf0-7cd0f1275fac"
    },
    {
      "cell_type": "code",
      "execution_count": 18,
      "metadata": {},
      "outputs": [],
      "source": [
        "a=1\n",
        "b=2\n",
        "c=3"
      ],
      "id": "53aeaa95-f880-40d2-b648-fffa02e9038f"
    },
    {
      "cell_type": "markdown",
      "metadata": {},
      "source": [
        "선언된 값을 확인하려면?"
      ],
      "id": "de437875-a81e-4b3f-a197-371b4ef4c11d"
    },
    {
      "cell_type": "code",
      "execution_count": 19,
      "metadata": {},
      "outputs": [],
      "source": [
        "a"
      ],
      "id": "1e0a6142-bd09-4df1-9772-c3518ace7657"
    },
    {
      "cell_type": "code",
      "execution_count": 20,
      "metadata": {},
      "outputs": [],
      "source": [
        "b"
      ],
      "id": "cc5905ac-fabe-458e-98ae-8b70d135e66c"
    },
    {
      "cell_type": "code",
      "execution_count": 21,
      "metadata": {},
      "outputs": [],
      "source": [
        "c"
      ],
      "id": "9f87a7c7-ea4c-4664-9e8a-8aeb92bd82fb"
    },
    {
      "cell_type": "markdown",
      "metadata": {},
      "source": [
        "튜플을 이용하면?"
      ],
      "id": "7da5f07f-37d3-43d1-96b4-48f076aa8922"
    },
    {
      "cell_type": "code",
      "execution_count": 22,
      "metadata": {},
      "outputs": [],
      "source": [
        "a,b,c # 괄호하나 생략하는것이 이렇게 편하다.."
      ],
      "id": "bfbad993-2ce2-49ba-897f-1c6458cc8a05"
    },
    {
      "cell_type": "markdown",
      "metadata": {},
      "source": [
        "`-` 예제: 다중할당1 (여러개의 변수를 동시에 선언하고 싶을 경우)"
      ],
      "id": "a9d8fe13-52c9-4aa7-acfc-3cd823a4774d"
    },
    {
      "cell_type": "code",
      "execution_count": 23,
      "metadata": {},
      "outputs": [],
      "source": [
        "name, age, sex, height, weight = 'Tom', 20, 'M', 180, 70 "
      ],
      "id": "bcdbcee6-6f47-4e11-bc0d-817e71cd26ab"
    },
    {
      "cell_type": "code",
      "execution_count": 24,
      "metadata": {},
      "outputs": [],
      "source": [
        "name, age, sex, height, weight"
      ],
      "id": "0f4ed777-938f-4041-8f54-f0d954d52def"
    },
    {
      "cell_type": "code",
      "execution_count": 25,
      "metadata": {},
      "outputs": [],
      "source": [
        "height"
      ],
      "id": "0a6a8dbb-b2cc-49b3-b43a-af6d9b04c743"
    },
    {
      "cell_type": "markdown",
      "metadata": {},
      "source": [
        "`-` 예제: 다중할당2, 위도와 경도"
      ],
      "id": "d98e1ee6-d12f-41bf-bc1e-bb6d3f5365a3"
    },
    {
      "cell_type": "code",
      "execution_count": 26,
      "metadata": {},
      "outputs": [],
      "source": [
        "coor = (37,127) # 서울 \n",
        "coor"
      ],
      "id": "15d2c7a0-9382-4ba0-8ad9-346c60761bc9"
    },
    {
      "cell_type": "code",
      "execution_count": 27,
      "metadata": {},
      "outputs": [],
      "source": [
        "lat, long = coor"
      ],
      "id": "3feb9df0-2daf-449f-9de4-21afdc2eba98"
    },
    {
      "cell_type": "code",
      "execution_count": 28,
      "metadata": {},
      "outputs": [],
      "source": [
        "lat "
      ],
      "id": "69e612c9-5348-467a-85a9-eaa3c5008b38"
    },
    {
      "cell_type": "code",
      "execution_count": 29,
      "metadata": {},
      "outputs": [],
      "source": [
        "long "
      ],
      "id": "5c99462c-156d-4ddc-89e4-9b05c74a818b"
    },
    {
      "cell_type": "markdown",
      "metadata": {},
      "source": [
        "`-` 잠깐만: 다중할당은 꼭 튜플에서만 가능한가?\n",
        "\n",
        "그건 아니다…"
      ],
      "id": "68cfabfe-821a-4434-b9ae-7a3ad8f57af1"
    },
    {
      "cell_type": "code",
      "execution_count": 30,
      "metadata": {},
      "outputs": [],
      "source": [
        "[x,y,z] = [1,2,3] \n",
        "x,y,z # 다중출력 "
      ],
      "id": "843945e3-05e9-4d09-b533-7f828464d7eb"
    },
    {
      "cell_type": "code",
      "execution_count": 31,
      "metadata": {},
      "outputs": [],
      "source": [
        "[x,y] = 'hi'\n",
        "x,y "
      ],
      "id": "e2679aac-d750-4b7f-9c45-716a3f10a391"
    },
    {
      "cell_type": "markdown",
      "metadata": {},
      "source": [
        "튜플과 같이 사용하면 가독성이 극대화 (그래서 다중할당은 거의 튜플과\n",
        "세트로 사용함)"
      ],
      "id": "b91b35e4-e778-4af9-85b2-b82f754762d3"
    },
    {
      "cell_type": "code",
      "execution_count": 32,
      "metadata": {},
      "outputs": [],
      "source": [
        "x,y,z = 1,2,3\n",
        "x,y,z # 다중출력 "
      ],
      "id": "e2cb2877-9519-4702-b843-e8f922c0bd9b"
    },
    {
      "cell_type": "code",
      "execution_count": 33,
      "metadata": {},
      "outputs": [],
      "source": [
        "x,y = 'hi'\n",
        "x,y "
      ],
      "id": "0a88fe42-887a-4da7-a90a-9853aeb3660b"
    },
    {
      "cell_type": "markdown",
      "metadata": {},
      "source": [
        "`-` 예제: 임시변수 사용없이 두 변수의 값을 교환"
      ],
      "id": "4ccb48fc-fbfe-4418-a4cd-65bc67df34f6"
    },
    {
      "cell_type": "code",
      "execution_count": 34,
      "metadata": {},
      "outputs": [],
      "source": [
        "a=10\n",
        "b=20"
      ],
      "id": "13e193a7-94cf-4c2b-9c1c-2156b3d75dd9"
    },
    {
      "cell_type": "code",
      "execution_count": 35,
      "metadata": {},
      "outputs": [],
      "source": [
        "a,b = b,a "
      ],
      "id": "f3ec2f5e-8c40-400b-bfbd-90324f1c6320"
    },
    {
      "cell_type": "code",
      "execution_count": 36,
      "metadata": {},
      "outputs": [],
      "source": [
        "a"
      ],
      "id": "7ab13183-89d3-4620-b249-549839441307"
    },
    {
      "cell_type": "code",
      "execution_count": 37,
      "metadata": {},
      "outputs": [],
      "source": [
        "b"
      ],
      "id": "363dade9-b6ab-4710-9416-2c0678d70a98"
    },
    {
      "cell_type": "markdown",
      "metadata": {},
      "source": [
        "`-` 예제: for문과 튜플"
      ],
      "id": "bffd4b90-3dee-4c43-8737-327667f9231e"
    },
    {
      "cell_type": "code",
      "execution_count": 38,
      "metadata": {},
      "outputs": [],
      "source": [
        "lst = [['guebin', 202112345, 'M'],\n",
        "       ['iu',202254321, 'F'],\n",
        "       ['hodong', 202011223, 'M']]\n",
        "lst"
      ],
      "id": "4c1a47b0-d247-4139-aeff-bd14403498a3"
    },
    {
      "cell_type": "code",
      "execution_count": 39,
      "metadata": {},
      "outputs": [
        {
          "output_type": "stream",
          "name": "stdout",
          "text": [
            "guebin M\n",
            "iu F\n",
            "hodong M"
          ]
        }
      ],
      "source": [
        "for name,studentid,sex in lst: \n",
        "    print(name,sex)"
      ],
      "id": "e977029c-5030-417a-9aff-8cee828383bf"
    },
    {
      "cell_type": "markdown",
      "metadata": {},
      "source": [
        "`-` 예제: for문과 튜플, dummy variable `_`"
      ],
      "id": "427460a4-64ab-4414-9dc5-65c763275cd5"
    },
    {
      "cell_type": "code",
      "execution_count": 40,
      "metadata": {},
      "outputs": [
        {
          "output_type": "stream",
          "name": "stdout",
          "text": [
            "202112345\n",
            "202254321\n",
            "202011223"
          ]
        }
      ],
      "source": [
        "for name,studentid,sex in lst: \n",
        "    print(studentid)"
      ],
      "id": "16588b86-feb0-42f5-a0cf-befe7b98d351"
    },
    {
      "cell_type": "code",
      "execution_count": 41,
      "metadata": {},
      "outputs": [
        {
          "output_type": "stream",
          "name": "stdout",
          "text": [
            "202112345\n",
            "202254321\n",
            "202011223"
          ]
        }
      ],
      "source": [
        "for _,studentid,_ in lst: \n",
        "    print(studentid)"
      ],
      "id": "8c2c46b5-d41a-48f0-83bf-64caf9aac2cd"
    },
    {
      "cell_type": "code",
      "execution_count": 42,
      "metadata": {},
      "outputs": [
        {
          "output_type": "stream",
          "name": "stdout",
          "text": [
            "M\n",
            "F\n",
            "M"
          ]
        }
      ],
      "source": [
        "for _,_,sex in lst: \n",
        "    print(sex)"
      ],
      "id": "771f1ab1-0ff4-4f27-90c3-54e44372d0cd"
    },
    {
      "cell_type": "code",
      "execution_count": 43,
      "metadata": {},
      "outputs": [
        {
          "output_type": "stream",
          "name": "stdout",
          "text": [
            "guebin M\n",
            "iu F\n",
            "hodong M"
          ]
        }
      ],
      "source": [
        "for name,_,sex in lst: \n",
        "    print(name,sex)"
      ],
      "id": "4d86c156-8fea-4b2c-82ea-5d2f3d70491d"
    },
    {
      "cell_type": "code",
      "execution_count": 44,
      "metadata": {},
      "outputs": [],
      "source": [
        "for name,_  in lst: \n",
        "    print(name)"
      ],
      "id": "b7050a36-c982-4e3f-8a3e-897137b359c3"
    },
    {
      "cell_type": "code",
      "execution_count": 45,
      "metadata": {},
      "outputs": [
        {
          "output_type": "stream",
          "name": "stdout",
          "text": [
            "guebin\n",
            "iu\n",
            "hodong"
          ]
        }
      ],
      "source": [
        "for name,*args  in lst: \n",
        "    print(name)"
      ],
      "id": "5d0e7301-04a6-488c-8ad9-f2b2d01f857e"
    },
    {
      "cell_type": "markdown",
      "metadata": {},
      "source": [
        "`-` 예제: 튜플과 언패킹연산자 `*`"
      ],
      "id": "1647618a-e446-4e06-b96b-b5b9bb919d70"
    },
    {
      "cell_type": "code",
      "execution_count": 46,
      "metadata": {},
      "outputs": [],
      "source": [
        "head, body, *tail = range(1,11) \n",
        "head, body, tail"
      ],
      "id": "7186419d-e9a3-47b2-9015-a5912eb943e8"
    },
    {
      "cell_type": "code",
      "execution_count": 47,
      "metadata": {},
      "outputs": [],
      "source": [
        "head1,head2, *body, tail1,tail2,tail3 = range(1,11) \n",
        "head1,head2, body, tail1,tail2,tail3 "
      ],
      "id": "a36b20e2-46ec-45bf-83db-c666f8ff8ff7"
    },
    {
      "cell_type": "code",
      "execution_count": 48,
      "metadata": {},
      "outputs": [],
      "source": [
        "*head, body, tail = range(1,11) \n",
        "head, body, tail"
      ],
      "id": "9989d0fa-e8d9-44d3-b230-42f881f308f1"
    },
    {
      "cell_type": "markdown",
      "metadata": {},
      "source": [
        "(관찰)\n",
        "\n",
        "그러고 보니까..\n",
        "\n",
        "``` python\n",
        "head1,head2, body, tail1,tail2,tail3  = (1, 2, [3,4,5,6,7], 8, 9, 10)\n",
        "head1,head2, *body, tail1,tail2,tail3   = (1, 2, 3,4,5,6,7, 8, 9, 10)\n",
        "```\n",
        "\n",
        "이렇다는 거잖아?\n",
        "\n",
        "`*`를 붙이면 1차원 자료구조가 풀린다..?"
      ],
      "id": "fe3333a7-93df-4c39-87ff-7d13c69219f3"
    },
    {
      "cell_type": "code",
      "execution_count": 49,
      "metadata": {},
      "outputs": [],
      "source": [
        "*[1,2,3]"
      ],
      "id": "fc190ddf-aa2f-4c6f-b32f-914bf92d0e2b"
    },
    {
      "cell_type": "code",
      "execution_count": 50,
      "metadata": {},
      "outputs": [
        {
          "output_type": "stream",
          "name": "stdout",
          "text": [
            "[1, 2, 3]"
          ]
        }
      ],
      "source": [
        "print([1,2,3])"
      ],
      "id": "8068686b-7141-46ae-8d74-fa68855b1598"
    },
    {
      "cell_type": "code",
      "execution_count": 51,
      "metadata": {},
      "outputs": [
        {
          "output_type": "stream",
          "name": "stdout",
          "text": [
            "1 2 3"
          ]
        }
      ],
      "source": [
        "print(*[1,2,3]) ## 이런 느낌이란 말이지.."
      ],
      "id": "59ba37ba-2a66-4739-a638-45d80ddb522c"
    },
    {
      "cell_type": "markdown",
      "metadata": {},
      "source": [
        "## F. 튜플을 왜 쓸까? – 제 생각..\n",
        "\n",
        "`-` 책의 설명 (이 설명이 꼭 파이썬에 한정되는 것은 아님. 모든 언어에\n",
        "존재하는 불변형 객체에 적용가능한 설명)\n",
        "\n",
        "-   초보적인 설명: 실수방지\n",
        "-   좀 더 정확한 설명: 빠르다, 다중작업에 유리하다, 여러사람과\n",
        "    작업하기에 유리하다, 깊은복사/얕은복사시 원하지않는 오류(side\n",
        "    effect이라고 함)를 방지할 수 있다, 메모리관리에도 유리함…\n",
        "-   느낌: 불변형(튜플)은 기능제한이 있는데 가볍고 빠른, 가변형(리스트)은\n",
        "    기능은 풍부하지만 약간 느리고 무거운 느낌임\n",
        "\n",
        "`-` 리스트는 신라면, 튜플은 라면사리임\n",
        "\n",
        "-   기능적으로만 보면 신라면이 있으면 스프를 버리고 라면사리를 얻을 수\n",
        "    있으므로 라면사리 자체가 필요없음.\n",
        "-   그렇지만 그렇게 라면사리를 얻는건 비효율적임 (부대찌개집 사장이라고\n",
        "    생각해보세요)\n",
        "\n",
        "`-` 제 개념: 튜플은 리스트에서 매우 간단한 어떤기능 (단순 변수 확인) 만\n",
        "쓰기 위해 탄생되었음. 간단하게 1회용으로 쓰고 버릴 때가 많음.\n",
        "\n",
        "-   튜플의 목적은 간단하게 쓰려는 것임. 튜플의 특징은 소괄호의 생략에\n",
        "    있음 (이것은 파이썬과 줄리아만 가능)\n",
        "-   소괄호생략 + 언패킹 $\\Rightarrow$ 엄청난 가독성\n",
        "-   컴공과 사람들 의견: 튜플 + 언패킹 $\\Rightarrow$ 엄청난 가독성\n",
        "    $\\Rightarrow$ 충격 $\\Rightarrow$ “파이썬 편하더라고요..”"
      ],
      "id": "aefdb1e0-17bc-4867-a9bb-cf4eb1b15c66"
    },
    {
      "cell_type": "code",
      "execution_count": 52,
      "metadata": {},
      "outputs": [],
      "source": [
        "def mycal(a,b):\n",
        "    return a+b, a-b, a*b, a/b  #여러개의 값을 리턴하는듯 보임. -> 사실은 길이가 4인 튜플 1개를 리턴"
      ],
      "id": "f7acb6a3-5052-4419-944a-3d1cc084c710"
    },
    {
      "cell_type": "code",
      "execution_count": 53,
      "metadata": {},
      "outputs": [],
      "source": [
        "mycal(2,3)"
      ],
      "id": "b49fd286-c415-4275-9f68-2465c567ce30"
    },
    {
      "cell_type": "code",
      "execution_count": 54,
      "metadata": {},
      "outputs": [],
      "source": [
        "_, _, mulrslt, _ = mycal(2,3) # 병렬할당 "
      ],
      "id": "b86060da-a7c5-478b-be92-aabf07d9ab01"
    },
    {
      "cell_type": "code",
      "execution_count": 55,
      "metadata": {},
      "outputs": [],
      "source": [
        "mulrslt"
      ],
      "id": "8d5438e2-384c-45e2-8582-35456bc88794"
    },
    {
      "cell_type": "markdown",
      "metadata": {},
      "source": [
        "`-` 의문: 왜 튜플만 괄호를 생략할 수 있지?\n",
        "\n",
        "답이 없는 문제인데 답을 해보겠습니다.\n",
        "\n",
        "-   튜플을 먼저 만들고, 괄호를 생략하는 문법을 추가한것은 아닐것임\n",
        "-   원래 괄호없이 컴마만 대충찍어서 선언가능한 아주간단한 타입의\n",
        "    벡터형을 만들고 싶었을 것임.\n",
        "-   왜? 괄호없는 벡터를 만들고, 언패킹을 사용하면 여러가지 구문들이\n",
        "    엄청나게 간단해짐.\n",
        "-   컴마컴마로 선언하는 벡터는 한 두번 쓰고 버리는 경우가 많으며 대부분\n",
        "    이름도 필요없음 $\\to$ 원소에 접근해서 sorting하여 순서를 바꾸고\n",
        "    싶다던가 원소를 추가할 이유가 없음 $\\to$ 비싼 가변형으로 만들 이유가\n",
        "    없다는 것..\n",
        "-   우리가 필요한 것: 데이터가 벡터의 형태로 모여있기만 하면 된다!\n",
        "\n",
        "## G. 연습문제들\n",
        "\n",
        "`#`. 길이가 1인 튜플을 만들어 자신의 학번을 저장하라. 길이가 1인 튜플을\n",
        "만들어 자신의 영문이름을 저장하라. 두 튜플을 + 연산자로 합쳐아래와 같은\n",
        "출력결과를 얻어라. 최종 결과는 예를들면 아래와 같아야 한다."
      ],
      "id": "31454842-d348-47e8-9dcd-b3b43923951d"
    },
    {
      "cell_type": "code",
      "execution_count": 77,
      "metadata": {},
      "outputs": [],
      "source": [
        "('2021-43052', 'GuebinChoi')"
      ],
      "id": "198ad218-a644-4129-8652-e4e90a40466c"
    },
    {
      "cell_type": "markdown",
      "metadata": {},
      "source": [
        "(풀이)"
      ],
      "id": "602033f1-961f-4875-8515-2b1922b1d08b"
    },
    {
      "cell_type": "code",
      "execution_count": 2,
      "metadata": {},
      "outputs": [],
      "source": [
        "a='2021-43052', \n",
        "b='GuebinChoi',\n",
        "a+b"
      ],
      "id": "d549e6a6-1a75-48aa-b7e1-17666d59a325"
    },
    {
      "cell_type": "markdown",
      "metadata": {},
      "source": [
        "`##`. 아래는 파이썬프로그래밍 수강생들의 학번, 이름, 출석점수, 과제점수,\n",
        "중간고사점수, 기말고사점수를 저장한 중첩리스트이다."
      ],
      "id": "4d80343a-ab87-471f-bb1f-a2a78ac6104b"
    },
    {
      "cell_type": "code",
      "execution_count": 3,
      "metadata": {},
      "outputs": [],
      "source": [
        "lst = [['2021-43052', 'GuebinChoi', 5, 10, 20, 25],\n",
        "       ['2019-12342', 'Heung-min Son', 10, 15, 30, 15],\n",
        "       ['2018-32234', 'hynn', 7, 20, 30, 15],\n",
        "       ['2022-42323', 'Minji', 8, 20, 20, 35],\n",
        "       ['2023-55342', 'Hanni', 7, 20, 30, 35],\n",
        "       ['2022-46624', 'Danielle', 3, 15, 30, 40],\n",
        "       ['2022-11239', 'Haerin', 10, 20, 30, 40],\n",
        "       ['2022-32114', 'Hyein', 10, 20, 20, 35]]\n",
        "lst "
      ],
      "id": "636f8435-32f1-4785-9c32-ca58f98a80d8"
    },
    {
      "cell_type": "markdown",
      "metadata": {},
      "source": [
        "`#`. 파이썬프로그래밍 수강생의 수는 모두 몇명인가?\n",
        "\n",
        "(풀이)"
      ],
      "id": "9d917cae-b691-4c10-a16e-204ed0eb06f5"
    },
    {
      "cell_type": "code",
      "execution_count": 5,
      "metadata": {},
      "outputs": [],
      "source": [
        "len(lst)"
      ],
      "id": "ab62508f-67b2-4b41-9390-f90b2413a9a4"
    },
    {
      "cell_type": "markdown",
      "metadata": {},
      "source": [
        "`#`. 전북대학교 지침에 따라 출석점수가 7보다 작은 학생은 (즉\n",
        "`출석점수 < 7` 일 경우) F학점을 부여하게 되어있다. 이 기준에 따르면 F를\n",
        "받는 학생은 모두 몇명인가?\n",
        "\n",
        "(풀이)"
      ],
      "id": "f6a01e9a-c76f-4145-b5be-3d6b805afb69"
    },
    {
      "cell_type": "code",
      "execution_count": 15,
      "metadata": {},
      "outputs": [],
      "source": [
        "sum([att<7 for _,_, att, *rest in lst])"
      ],
      "id": "dc8ad8cb-45a5-4df5-8db3-67f52ba33971"
    },
    {
      "cell_type": "markdown",
      "metadata": {},
      "source": [
        "`#`. 파이썬프로그래밍 수업의 경우 `출석+레포트 < 21` 일 경우 F학점을\n",
        "부여한다고 한다. 이 기준에 따르면 F를 받는 학생은 모두 몇명인가?\n",
        "\n",
        "(풀이)"
      ],
      "id": "2aa1d95e-c795-49f7-8598-868e4a42a4b7"
    },
    {
      "cell_type": "code",
      "execution_count": 21,
      "metadata": {},
      "outputs": [],
      "source": [
        "sum([att+rep < 21 for _,_, att,rep, *rest in lst])"
      ],
      "id": "23730396-4850-4208-9718-c9d0c0d613e0"
    },
    {
      "cell_type": "markdown",
      "metadata": {},
      "source": [
        "`#`. 리스트의 정렬순서를 \\[학번, 이름, …, 기말고사점수\\] 가 아니라\n",
        "\\[이름, 학번, … , 기말고사점수\\] 와 같이 되도록 변경하는 코드를\n",
        "작성하라.\n",
        "\n",
        "(출력예시)"
      ],
      "id": "40790dfd-3481-436b-b873-335810867805"
    },
    {
      "cell_type": "code",
      "execution_count": 22,
      "metadata": {},
      "outputs": [],
      "source": [
        "[[name,studentid,*rest] for studentid, name, *rest in lst]"
      ],
      "id": "48a87833-3c5b-4735-afd5-7230c8837c4d"
    },
    {
      "cell_type": "markdown",
      "metadata": {},
      "source": [
        "# 4. 잡기술 (하지만 유용해)\n",
        "\n",
        "## A. 인덱싱고급 (스트라이딩)\n",
        "\n",
        "`-` 스트라이딩 \\[start:end:step\\]"
      ],
      "id": "c4ce1f3a-5e7b-4f51-b635-0e30adf7e726"
    },
    {
      "cell_type": "code",
      "execution_count": 6,
      "metadata": {},
      "outputs": [],
      "source": [
        "lst = list('abcdefghijk')\n",
        "lst"
      ],
      "id": "6f66f483-073b-4959-bbee-cae80508032b"
    },
    {
      "cell_type": "code",
      "execution_count": 16,
      "metadata": {},
      "outputs": [],
      "source": [
        "lst[0:9:3]"
      ],
      "id": "31c66313-1071-4c02-97fc-8e16125d4754"
    },
    {
      "cell_type": "markdown",
      "metadata": {},
      "source": [
        "`-` 생략"
      ],
      "id": "aed53e42-af5b-43f6-93e0-d6acd08ea7ae"
    },
    {
      "cell_type": "code",
      "execution_count": 22,
      "metadata": {},
      "outputs": [],
      "source": [
        "lst[0:9]\n",
        "#lst[0:9:]\n",
        "#lst[0:9:1]"
      ],
      "id": "1282add6-7f77-4043-8dab-b9fdef1f31d8"
    },
    {
      "cell_type": "code",
      "execution_count": 23,
      "metadata": {},
      "outputs": [],
      "source": [
        "lst[0::3]"
      ],
      "id": "00abac6f-5737-42ec-b4cc-8fac1634d17b"
    },
    {
      "cell_type": "code",
      "execution_count": 24,
      "metadata": {},
      "outputs": [],
      "source": [
        "lst[:8:3]"
      ],
      "id": "932de1be-412c-4593-9395-54882e26de5e"
    },
    {
      "cell_type": "markdown",
      "metadata": {},
      "source": [
        "`-` 예제1: 짝수/홀수 원소 추출\n",
        "\n",
        "아래와 같은 문자열이 있다고 하자."
      ],
      "id": "668547e0-fd42-4f43-b0f9-f60d7b7da3c3"
    },
    {
      "cell_type": "code",
      "execution_count": 26,
      "metadata": {},
      "outputs": [],
      "source": [
        "lst = list('abcdefghijk')\n",
        "lst"
      ],
      "id": "e6423d6d-8591-4711-b630-5896f17f551d"
    },
    {
      "cell_type": "markdown",
      "metadata": {},
      "source": [
        "`index = 0,2,4, ...` 에 해당하는 원소를 출력하라."
      ],
      "id": "d4b1e2a7-8d0a-485a-9636-4ea6de35544b"
    },
    {
      "cell_type": "code",
      "execution_count": 27,
      "metadata": {},
      "outputs": [],
      "source": [
        "lst[::2]"
      ],
      "id": "a7c02fad-4ebb-41a3-892e-6f1659d4543c"
    },
    {
      "cell_type": "markdown",
      "metadata": {},
      "source": [
        "`index = 1,4,7 ...` 에 해당하는 원소를 출력하라."
      ],
      "id": "a70042cd-0225-48ed-9833-338f48643ba4"
    },
    {
      "cell_type": "code",
      "execution_count": 28,
      "metadata": {},
      "outputs": [],
      "source": [
        "lst[1::3]"
      ],
      "id": "c39f7a9f-56a8-4c2c-8564-d9ebb532fb80"
    },
    {
      "cell_type": "markdown",
      "metadata": {},
      "source": [
        "`-` 예제2: 세로로..\n",
        "\n",
        "------------------------------------------------------------------------\n",
        "\n",
        "(예제2를 위한 예비학습) 문자열에서 `\\n`을 출력하면 출력시 줄바꿈이\n",
        "일어난다."
      ],
      "id": "9e299336-0372-4a98-8f4c-e939f9c492e9"
    },
    {
      "cell_type": "code",
      "execution_count": 31,
      "metadata": {},
      "outputs": [
        {
          "output_type": "stream",
          "name": "stdout",
          "text": [
            "1행\n",
            "2행\n",
            "3행"
          ]
        }
      ],
      "source": [
        "print('1행\\n2행\\n3행')"
      ],
      "id": "1b56e06c-3dbe-4e21-853b-030fe70ed4bf"
    },
    {
      "cell_type": "markdown",
      "metadata": {},
      "source": [
        "예비학습 끝\n",
        "\n",
        "------------------------------------------------------------------------\n",
        "\n",
        "아래와 같은 문자열이 있다고 하자."
      ],
      "id": "dcf90fc7-a852-4c56-88bd-e9ef812a3406"
    },
    {
      "cell_type": "code",
      "execution_count": 32,
      "metadata": {},
      "outputs": [
        {
          "output_type": "stream",
          "name": "stdout",
          "text": [
            "너같이사랑스럽고\n",
            "또예쁘고도멋지고\n",
            "속훤히보이는너알\n",
            "았어그동안고마웠\n",
            "지정말정말사랑해"
          ]
        }
      ],
      "source": [
        "txt = '너같이사랑스럽고\\n또예쁘고도멋지고\\n속훤히보이는너알\\n았어그동안고마웠\\n지정말정말사랑해'\n",
        "print(txt)"
      ],
      "id": "416388ec-d774-4b6a-b691-28c3dd7247db"
    },
    {
      "cell_type": "markdown",
      "metadata": {},
      "source": [
        "위 문자열을 세로로 읽는 코드를 작성하라. (9칸씩 점프하면서 읽으면 된다)\n",
        "\n",
        "(풀이)"
      ],
      "id": "5154eb61-0611-41f0-bc90-af9e1da12cb8"
    },
    {
      "cell_type": "code",
      "execution_count": 34,
      "metadata": {},
      "outputs": [],
      "source": [
        "txt[::9]"
      ],
      "id": "42474fec-89ac-4e79-aad6-e080a6b6d92d"
    },
    {
      "cell_type": "markdown",
      "metadata": {},
      "source": [
        "`-` step = -1 이면?"
      ],
      "id": "8a512243-d21d-45d2-b7d5-743bc423b0c9"
    },
    {
      "cell_type": "code",
      "execution_count": 37,
      "metadata": {},
      "outputs": [],
      "source": [
        "lst"
      ],
      "id": "fe961f89-2f64-41cf-b298-3242580f5f73"
    },
    {
      "cell_type": "code",
      "execution_count": 39,
      "metadata": {},
      "outputs": [],
      "source": [
        "lst[::-1]"
      ],
      "id": "3a3fbfd8-0c24-4656-966c-62502d264364"
    },
    {
      "cell_type": "markdown",
      "metadata": {},
      "source": [
        "`-` 스트라이딩으로 `step = -1` 옵션 주기 vs 리스트의 `.reverse()` 메소드\n",
        "이용하기\n",
        "\n",
        "관찰1: reverse 메소드는 리스트 자체를 변화시킴"
      ],
      "id": "9f3108b3-0c1b-45af-9e3b-974a749a275d"
    },
    {
      "cell_type": "code",
      "execution_count": 42,
      "metadata": {},
      "outputs": [],
      "source": [
        "lst = list('abcdefgh')\n",
        "lst"
      ],
      "id": "feeae8ec-3e40-4ee4-82ef-090bd7b680ba"
    },
    {
      "cell_type": "code",
      "execution_count": 43,
      "metadata": {},
      "outputs": [],
      "source": [
        "lst.reverse()  \n",
        "lst"
      ],
      "id": "1eb17164-63ae-4044-8c29-7b5f9a2c5c25"
    },
    {
      "cell_type": "markdown",
      "metadata": {},
      "source": [
        "관찰2: \\[::-1\\]는 리스트는 변화시키지 않음"
      ],
      "id": "02c53c13-a5ed-42cb-8890-d2c3e4e38636"
    },
    {
      "cell_type": "code",
      "execution_count": 44,
      "metadata": {},
      "outputs": [],
      "source": [
        "lst = list('abcdefgh')\n",
        "lst"
      ],
      "id": "bf2db592-8cbf-443b-92c9-c56ffd250b81"
    },
    {
      "cell_type": "code",
      "execution_count": 45,
      "metadata": {},
      "outputs": [],
      "source": [
        "lst[::-1]"
      ],
      "id": "ee2994b6-8aca-44aa-bb8f-c6b7798762b4"
    },
    {
      "cell_type": "code",
      "execution_count": 46,
      "metadata": {},
      "outputs": [],
      "source": [
        "lst"
      ],
      "id": "50e38e5d-d9ad-4d2a-8feb-524f0e305028"
    },
    {
      "cell_type": "markdown",
      "metadata": {},
      "source": [
        "`-` -step은 쓰기 까다롭다.\n",
        "\n",
        "(예제) 처음과 끝을 생략하지 않고 아래와 동일한 효과를 주는 코드를 만들어\n",
        "보자."
      ],
      "id": "cefc5142-4182-41fe-9645-810527b5a062"
    },
    {
      "cell_type": "code",
      "execution_count": 47,
      "metadata": {},
      "outputs": [],
      "source": [
        "lst = list('abcdefgh')\n",
        "lst[::-1]"
      ],
      "id": "1d204c2e-4ffa-459b-86b1-a744d00eb7b3"
    },
    {
      "cell_type": "markdown",
      "metadata": {},
      "source": [
        "(풀이)\n",
        "\n",
        "결국 lst\\[?:?:-1\\]의 꼴에서 적당히 ?의 값을 채우면 된다. –\\> 어려워"
      ],
      "id": "f97f3b99-0cde-4add-b6f1-5f4554cf0a10"
    },
    {
      "cell_type": "code",
      "execution_count": 51,
      "metadata": {},
      "outputs": [],
      "source": [
        "lst"
      ],
      "id": "e1f61cec-6e26-4ab8-8bba-4c389c3ee6e4"
    },
    {
      "cell_type": "code",
      "execution_count": 48,
      "metadata": {},
      "outputs": [],
      "source": [
        "lst[::-1]"
      ],
      "id": "3ee6f2e7-2c94-4c00-b1bd-7acec2fb280b"
    },
    {
      "cell_type": "markdown",
      "metadata": {},
      "source": [
        "| None |  a  |  b  |  c  |  d  |  e  |  f  |  g  |  h  | None |\n",
        "|:----:|:---:|:---:|:---:|:---:|:---:|:---:|:---:|:---:|:----:|\n",
        "|  ?   |  0  |  1  |  2  |  3  |  4  |  5  |  6  |  7  |  8   |\n",
        "|  -9  | -8  | -7  | -6  | -5  | -4  | -3  | -2  | -1  |  ?   |"
      ],
      "id": "75847a06-055b-4487-be35-e2385ec07f4a"
    },
    {
      "cell_type": "code",
      "execution_count": 55,
      "metadata": {},
      "outputs": [],
      "source": [
        "lst[-1:-9:-1] "
      ],
      "id": "0cf6003a-ba67-43da-b912-2c8fd1cbff10"
    },
    {
      "cell_type": "markdown",
      "metadata": {},
      "source": [
        "## B. len함수\n",
        "\n",
        "`-` 0차원 자료형은 len함수가 동작하지 않음"
      ],
      "id": "9aa69cd3-5e26-4be4-aca9-7cd9aeb89bee"
    },
    {
      "cell_type": "code",
      "execution_count": 87,
      "metadata": {},
      "outputs": [],
      "source": [
        "a=1 \n",
        "len(a)"
      ],
      "id": "37dcd50b-dfe8-4e80-803a-d4dc4c7e3a08"
    },
    {
      "cell_type": "code",
      "execution_count": 88,
      "metadata": {},
      "outputs": [],
      "source": [
        "a=True\n",
        "len(a)"
      ],
      "id": "ac8b387e-35ad-4965-bcee-679373d0f2d4"
    },
    {
      "cell_type": "code",
      "execution_count": 89,
      "metadata": {},
      "outputs": [],
      "source": [
        "a=3.14\n",
        "len(a)"
      ],
      "id": "f6c9b60f-9031-4b18-b6a0-ff186ee3cb24"
    },
    {
      "cell_type": "markdown",
      "metadata": {},
      "source": [
        "> note: 이것이 어떠한 수학적인 의미를 가지거나 0차원의 본질적진리를\n",
        "> 뜻하는 것은 안미. R에서는 1,3.14,TRUE의 길이가 1로 존재함.\n",
        "\n",
        "`-` 1차원 자료형은 len함수가 동작"
      ],
      "id": "eee1d0da-9a3c-4e4e-8013-178cd941dbdf"
    },
    {
      "cell_type": "code",
      "execution_count": 90,
      "metadata": {},
      "outputs": [],
      "source": [
        "a='guebin'\n",
        "len(a)"
      ],
      "id": "0cee34f5-d925-4fc2-8ac2-def074888f14"
    },
    {
      "cell_type": "code",
      "execution_count": 91,
      "metadata": {},
      "outputs": [],
      "source": [
        "a=[1,2,3,4,5,6]\n",
        "len(a)"
      ],
      "id": "9b7df96d-d507-4857-a75b-c929eaf1fa2f"
    },
    {
      "cell_type": "code",
      "execution_count": 92,
      "metadata": {},
      "outputs": [],
      "source": [
        "a=1,2,3,4,5,6 \n",
        "len(a)"
      ],
      "id": "996f033d-4cd6-4b48-b7cd-5cf0ac7d1a29"
    },
    {
      "cell_type": "code",
      "execution_count": 93,
      "metadata": {},
      "outputs": [],
      "source": [
        "a=range(10)\n",
        "len(a)"
      ],
      "id": "56b45323-fbe3-47e4-8dea-c6dc37bd4b5e"
    },
    {
      "cell_type": "markdown",
      "metadata": {},
      "source": [
        "`-` 길이가 1인 1차원 자료형과 0차원 자료형은 다른것임"
      ],
      "id": "09229530-fccb-4c6c-bb31-7f12b8cda1a0"
    },
    {
      "cell_type": "code",
      "execution_count": 94,
      "metadata": {},
      "outputs": [],
      "source": [
        "a='g'\n",
        "len(a)"
      ],
      "id": "8772a8aa-bd77-4464-9846-c1756ca9e0c1"
    },
    {
      "cell_type": "code",
      "execution_count": 97,
      "metadata": {},
      "outputs": [],
      "source": [
        "a=[1]\n",
        "len(a)"
      ],
      "id": "3719ee30-7814-47f8-bcd9-802652652dfc"
    },
    {
      "cell_type": "code",
      "execution_count": 98,
      "metadata": {},
      "outputs": [],
      "source": [
        "a=(1,)\n",
        "len(a)"
      ],
      "id": "bf629e62-3004-41dd-899b-950006607904"
    },
    {
      "cell_type": "code",
      "execution_count": 99,
      "metadata": {},
      "outputs": [],
      "source": [
        "a=range(1)\n",
        "len(a)"
      ],
      "id": "50f89f33-3b2e-4396-9134-3cea1338089b"
    },
    {
      "cell_type": "markdown",
      "metadata": {},
      "source": [
        "`-` 길이가 0인 1차원 자료형도 존재함"
      ],
      "id": "3c9b0bda-c48d-47d5-aaf9-c24ef60c4693"
    },
    {
      "cell_type": "code",
      "execution_count": 100,
      "metadata": {},
      "outputs": [],
      "source": [
        "a=''\n",
        "len(a)"
      ],
      "id": "0b9bc122-20cb-437f-a1e6-ae10557a0a6e"
    },
    {
      "cell_type": "code",
      "execution_count": 101,
      "metadata": {},
      "outputs": [],
      "source": [
        "a=[]\n",
        "len(a)"
      ],
      "id": "f60ad92b-eb2b-4a12-a01a-751f1948c232"
    },
    {
      "cell_type": "code",
      "execution_count": 55,
      "metadata": {},
      "outputs": [],
      "source": [
        "a=()\n",
        "len(a)"
      ],
      "id": "5fc6844f-2612-42d3-aa74-391725c1348e"
    },
    {
      "cell_type": "code",
      "execution_count": 102,
      "metadata": {},
      "outputs": [],
      "source": [
        "a=range(0)\n",
        "len(a)"
      ],
      "id": "ee8b6fab-29e9-412e-b533-f2e661bc059c"
    },
    {
      "cell_type": "markdown",
      "metadata": {},
      "source": [
        "# 5. `dict`\n",
        "\n",
        "## A. intro: str, list, tuple 정리\n",
        "\n",
        "`-` str, list, tuple은 모두 시퀀스형이라는 공통점이 있다. $\\to$ 원소의\n",
        "위치번호로 인덱싱이 가능"
      ],
      "id": "2d1ad86e-84c5-4251-a6a6-b7b72da3969f"
    },
    {
      "cell_type": "code",
      "execution_count": 104,
      "metadata": {},
      "outputs": [],
      "source": [
        "lst = [1,2,3,4]"
      ],
      "id": "c2f2ae0d-0c70-4fee-95da-95270f56dd98"
    },
    {
      "cell_type": "code",
      "execution_count": 105,
      "metadata": {},
      "outputs": [],
      "source": [
        "lst[0] # 위치번호=0"
      ],
      "id": "3b18708d-6a10-48a9-9ed7-f800ec986463"
    },
    {
      "cell_type": "code",
      "execution_count": 106,
      "metadata": {},
      "outputs": [],
      "source": [
        "lst[-1] # 위치번호=-1"
      ],
      "id": "85a5e116-6a92-400e-ac0f-cf3990807ef2"
    },
    {
      "cell_type": "markdown",
      "metadata": {},
      "source": [
        "`-` str, list, tuple은 차이점도 존재함. 잠깐 정리해보자.\n",
        "\n",
        "***시퀀스형의 카테고리***\n",
        "\n",
        "-   컨테니어형: list, tuple\n",
        "-   균일형: str\n",
        "-   가변형: list\n",
        "-   불변형: tuple, str\n",
        "\n",
        "***표로 정리하면***\n",
        "\n",
        "|        | 컨테니어형 | 균일형 |\n",
        "|:------:|:----------:|:------:|\n",
        "| 가변형 |    list    |   .    |\n",
        "| 불변형 |   tuple    |  str   |\n",
        "\n",
        "`-` 시퀀스형이 아닌 1차원 자료형도 있을까? 원소의 위치번호로 인덱싱이\n",
        "불가능한 자료형\n",
        "\n",
        "`-` 왜 이런게 필요할까?\n",
        "\n",
        "-   벡터에서 원소를 뽑는것은 정보의 모임에서 정보를 검색하는 것과 같다.\n",
        "-   정보를 `순서`대로 나열한뒤에 그 `순서`를 이용하여 검색하는 방법은\n",
        "    유용하다.\n",
        "-   하지만 경우에 따라서는 `키워드`를 기억해서 그 `키워드`를 바탕으로\n",
        "    정보에 접근하는 방법이 유용할 수 있다.\n",
        "\n",
        "***카카오톡 대화내용검색***\n",
        "\n",
        "(상황1) `오늘아침`에 와이프가 `뭔가`를 카톡으로 부탁했었음. 그런데 그\n",
        "`뭔가`가 기억안남.\n",
        "\n",
        "(상황2) `개강전에` 동료교수와 함께 `저녁약속`을 카톡으로 잡았었음.\n",
        "그런데 그게 언제인지 기억안남.\n",
        "\n",
        "(상황3) `오늘아침` 동료교수와 함께 `점심약속`을 카톡으로 잡았었음.\n",
        "그런데 그 장소가 기억나지 않음.\n",
        "\n",
        "`-` 순서대로 정리된 자료를 검색할때는 시퀀스형이 유리하다. 그런데\n",
        "키워드로 검색하고 싶을 경우는 딕셔너리 타입이 유리하다.\n",
        "\n",
        "## B. 선언\n",
        "\n",
        "`-` 방법1: 가장 일반적"
      ],
      "id": "427d7cd0-76a5-4c17-b183-891e74753583"
    },
    {
      "cell_type": "code",
      "execution_count": 110,
      "metadata": {},
      "outputs": [],
      "source": [
        "dct = {'guebin':49, 'hanni':80}\n",
        "dct"
      ],
      "id": "07d9e78f-0754-4e47-957c-9589f9b29369"
    },
    {
      "cell_type": "markdown",
      "metadata": {},
      "source": [
        "`-` 방법2: `dict()` 이용"
      ],
      "id": "689526c3-c867-4f85-a267-0adffa1ed314"
    },
    {
      "cell_type": "code",
      "execution_count": 112,
      "metadata": {},
      "outputs": [],
      "source": [
        "dct = dict(guebin=49, hanni=80)\n",
        "dct"
      ],
      "id": "7109fa8e-683a-40f3-92c5-31184ec1e3ff"
    },
    {
      "cell_type": "markdown",
      "metadata": {},
      "source": [
        "`-` 방법3: 중첩된 리스트를 만든 뒤에 형태변환"
      ],
      "id": "ee362c32-2fe5-489b-b1fb-8610fb2dc57d"
    },
    {
      "cell_type": "code",
      "execution_count": 113,
      "metadata": {},
      "outputs": [],
      "source": [
        "_lst = [['guebin',49],['hanni',80]]\n",
        "_lst "
      ],
      "id": "e0a92979-d594-435c-b24c-cfe4f731f47b"
    },
    {
      "cell_type": "code",
      "execution_count": 114,
      "metadata": {},
      "outputs": [],
      "source": [
        "dict(_lst)"
      ],
      "id": "2fd19f0c-9023-43b7-a2ba-dc743166f82c"
    },
    {
      "cell_type": "markdown",
      "metadata": {},
      "source": [
        "`-` 방법4: 중첩된 튜플을 만든 뒤에 형태변환"
      ],
      "id": "ef3a75b5-fb56-4e8c-ab58-331ac17846c5"
    },
    {
      "cell_type": "code",
      "execution_count": 115,
      "metadata": {},
      "outputs": [],
      "source": [
        "_tpl = ('guebin',49), ('hanni',80)\n",
        "_tpl"
      ],
      "id": "5115710c-3a13-44e9-9edb-ae7d6c41670c"
    },
    {
      "cell_type": "code",
      "execution_count": 116,
      "metadata": {},
      "outputs": [],
      "source": [
        "dict(_tpl)"
      ],
      "id": "897f2fa0-6c06-44e1-9ba1-9fce55d8d18e"
    },
    {
      "cell_type": "markdown",
      "metadata": {},
      "source": [
        "## C. 원소추출\n",
        "\n",
        "`-` 원소의 위치로 추출할 수 없고, key로 추출해야 한다."
      ],
      "id": "45c624d3-a372-49dd-b339-ee743448763c"
    },
    {
      "cell_type": "code",
      "execution_count": 117,
      "metadata": {},
      "outputs": [],
      "source": [
        "dct = {'guebin':49, 'hanni':80}\n",
        "dct"
      ],
      "id": "131e9f7d-1431-4124-ba16-b20305e223c2"
    },
    {
      "cell_type": "markdown",
      "metadata": {},
      "source": [
        "guebin의 점수를 추출하고 싶다면?"
      ],
      "id": "0c24adb9-7799-43fe-a87c-416d6f76a486"
    },
    {
      "cell_type": "code",
      "execution_count": 119,
      "metadata": {},
      "outputs": [],
      "source": [
        "dct['guebin']"
      ],
      "id": "5b9bfc63-6f94-4d3e-93c7-5d8a92d282e4"
    },
    {
      "cell_type": "markdown",
      "metadata": {},
      "source": [
        "`-` 만약에 dict가 아니라 list로 정보를 저장했다면?\n",
        "\n",
        "(예제) 아래와 같은 리스트에서 guebin의 점수를 추출하고 싶다면?"
      ],
      "id": "8b5982d8-f56b-46fe-a188-e65daf4b9308"
    },
    {
      "cell_type": "code",
      "execution_count": 120,
      "metadata": {},
      "outputs": [],
      "source": [
        "lst=[['guebin',49],['hanni',80]]\n",
        "lst"
      ],
      "id": "15fd189b-91d6-4ab2-b39d-5abe7465782e"
    },
    {
      "cell_type": "markdown",
      "metadata": {},
      "source": [
        "(풀이1)"
      ],
      "id": "e4911e6c-b883-4fb0-ae08-ae76c5e3e4bf"
    },
    {
      "cell_type": "code",
      "execution_count": 120,
      "metadata": {},
      "outputs": [],
      "source": [
        "lst[0][1] # guebin의 점수를 출력하란 의미"
      ],
      "id": "c284eb0b-9bc0-475e-b049-ec328ecf593b"
    },
    {
      "cell_type": "markdown",
      "metadata": {},
      "source": [
        "(풀이2) – 진짜 최악"
      ],
      "id": "5ccf6424-f0e2-4a4a-83e4-490636e5af26"
    },
    {
      "cell_type": "code",
      "execution_count": 129,
      "metadata": {},
      "outputs": [],
      "source": [
        "[lst[i][1] for i in range(len(lst)) if lst[i][0] == 'guebin']"
      ],
      "id": "f3a65032-c089-4185-8915-ab02ec1665cd"
    },
    {
      "cell_type": "markdown",
      "metadata": {},
      "source": [
        "(풀이3) – 덜 최악"
      ],
      "id": "e8358e8a-4c91-4074-8008-bf0b473cdbec"
    },
    {
      "cell_type": "code",
      "execution_count": 132,
      "metadata": {},
      "outputs": [],
      "source": [
        "[score for name,score in lst if name == 'guebin']"
      ],
      "id": "88ac58df-b9a3-4a6b-b839-1c7d3d432031"
    },
    {
      "cell_type": "markdown",
      "metadata": {},
      "source": [
        "`-` ’guebin’의 점수를 추출하는 코드 비교"
      ],
      "id": "1b92b442-a2a7-4347-83b0-b7fd8b36eb76"
    },
    {
      "cell_type": "code",
      "execution_count": 52,
      "metadata": {},
      "outputs": [],
      "source": [
        "dct['guebin'] # 코드1: 단순하고, 가독성있음"
      ],
      "id": "6fe5acce-5559-4283-be9e-13a8b35c10ed"
    },
    {
      "cell_type": "code",
      "execution_count": 53,
      "metadata": {},
      "outputs": [],
      "source": [
        "lst[0][1] # 코드2: 단순하지만, 가독성이 있는건 아님"
      ],
      "id": "dd2e14dc-a65b-470c-bca5-41b3f516d320"
    },
    {
      "cell_type": "code",
      "execution_count": 54,
      "metadata": {},
      "outputs": [],
      "source": [
        "[lst[i][1] for i in range(len(lst)) if lst[i][0] =='guebin'] # 코드3: 단순하지도 않고, 가독성도 없음."
      ],
      "id": "6bbd2d86-7a92-432c-986a-809511e29cf3"
    },
    {
      "cell_type": "code",
      "execution_count": 55,
      "metadata": {},
      "outputs": [],
      "source": [
        "[score for name,score in lst if name=='guebin' ] # 코드4: 단순하지 않지만, 가독성은 있음"
      ],
      "id": "af0118f0-862c-4628-9bbe-f3a51c12aa4b"
    },
    {
      "cell_type": "markdown",
      "metadata": {},
      "source": [
        "## D. 원소추가, 변경, 삭제"
      ],
      "id": "4d4e66a2-5fd6-440e-88ff-27c44f52126e"
    },
    {
      "cell_type": "code",
      "execution_count": 133,
      "metadata": {},
      "outputs": [],
      "source": [
        "dct={'guebin':49, 'hanni':80}\n",
        "dct"
      ],
      "id": "af6af135-877c-4942-924d-47dd02ded493"
    },
    {
      "cell_type": "markdown",
      "metadata": {},
      "source": [
        "`-` 원소에 접근: guebin의 점수 출력"
      ],
      "id": "6366475a-35d2-4cdf-82b0-beac89735add"
    },
    {
      "cell_type": "code",
      "execution_count": 134,
      "metadata": {},
      "outputs": [],
      "source": [
        "dct['guebin']"
      ],
      "id": "1daf01b2-a079-4b43-8a9a-97e19d9046c8"
    },
    {
      "cell_type": "markdown",
      "metadata": {},
      "source": [
        "`-` 추가: hynn학생의 점수를 추가"
      ],
      "id": "4c128010-fe69-4eaa-924b-84b7b7d05605"
    },
    {
      "cell_type": "code",
      "execution_count": 136,
      "metadata": {},
      "outputs": [],
      "source": [
        "dct['hynn'] = 99"
      ],
      "id": "c9a0132f-4bd6-42a7-8986-c4935f089fd1"
    },
    {
      "cell_type": "code",
      "execution_count": 137,
      "metadata": {},
      "outputs": [],
      "source": [
        "dct"
      ],
      "id": "9e4eb12d-88df-4eeb-8204-bde73d714569"
    },
    {
      "cell_type": "markdown",
      "metadata": {},
      "source": [
        "`-` 변경: hanni의 점수를 변경"
      ],
      "id": "84e01a4f-307e-4f50-b3ab-1256d78caf4d"
    },
    {
      "cell_type": "code",
      "execution_count": 139,
      "metadata": {},
      "outputs": [],
      "source": [
        "dct['hanni'] = 100 "
      ],
      "id": "83ae32a6-ea36-471d-bee0-48aed2437dae"
    },
    {
      "cell_type": "code",
      "execution_count": 140,
      "metadata": {},
      "outputs": [],
      "source": [
        "dct"
      ],
      "id": "e3bee8c1-c68d-4b9c-91b5-0aad0bded8f4"
    },
    {
      "cell_type": "markdown",
      "metadata": {},
      "source": [
        "`-` 삭제\n",
        "\n",
        "(방법1)"
      ],
      "id": "954a595d-eea3-4f6d-b443-6a6d1abff294"
    },
    {
      "cell_type": "code",
      "execution_count": 141,
      "metadata": {},
      "outputs": [],
      "source": [
        "dct={'guebin':49, 'hanni':80, 'hynn':99}\n",
        "del dct['guebin']  \n",
        "dct"
      ],
      "id": "8376b5a5-87f7-4523-bcd1-b9b855d6b244"
    },
    {
      "cell_type": "markdown",
      "metadata": {},
      "source": [
        "(방법2)"
      ],
      "id": "eb266073-a147-4fb5-bb0a-e934bc430eef"
    },
    {
      "cell_type": "code",
      "execution_count": 142,
      "metadata": {},
      "outputs": [],
      "source": [
        "dct={'guebin':49, 'hanni':80, 'hynn':99} \n",
        "dct.pop('guebin')"
      ],
      "id": "77ca092f-54a9-4ac5-a767-eb2738cec7bb"
    },
    {
      "cell_type": "code",
      "execution_count": 62,
      "metadata": {},
      "outputs": [],
      "source": [
        "dct"
      ],
      "id": "2ad146b4-e7b8-4846-820d-bab2ad2881da"
    },
    {
      "cell_type": "markdown",
      "metadata": {},
      "source": [
        "`-` 참고로 리스트였다면 이러한 삭제작업역시 비효율적이었을 것임"
      ],
      "id": "6b0574c0-e88b-4921-9783-1bc412e4773b"
    },
    {
      "cell_type": "code",
      "execution_count": 143,
      "metadata": {},
      "outputs": [],
      "source": [
        "lst = [['guebin',49],['hanni',80],['hynn',99]] \n",
        "lst"
      ],
      "id": "d37fa8cd-f2dc-4406-a140-be6aa9bb8c16"
    },
    {
      "cell_type": "markdown",
      "metadata": {},
      "source": [
        "guebin의 점수를 삭제하려면?"
      ],
      "id": "70c679cc-6f64-4f30-97b7-c0208e3d51ff"
    },
    {
      "cell_type": "code",
      "execution_count": 150,
      "metadata": {},
      "outputs": [],
      "source": [
        "[[name,score] for name,score in lst if name != 'guebin']"
      ],
      "id": "1f87b54e-93c8-4584-968f-c173fcfd3efe"
    },
    {
      "cell_type": "markdown",
      "metadata": {},
      "source": [
        "## E. 연산\n",
        "\n",
        "`-` 하나있어요.."
      ],
      "id": "7d65165b-bbd3-41c6-a05c-60568ed8664b"
    },
    {
      "cell_type": "code",
      "execution_count": 159,
      "metadata": {},
      "outputs": [],
      "source": [
        "dct = {'guebin':49, 'hanni':80} \n",
        "dct"
      ],
      "id": "40dd3c89-2631-4cfd-ad6b-a7dd8e3ddd1d"
    },
    {
      "cell_type": "code",
      "execution_count": 160,
      "metadata": {},
      "outputs": [],
      "source": [
        "'guebin' in dct"
      ],
      "id": "98b7ad04-0fea-42ac-9e8e-dda5c7de0b9a"
    },
    {
      "cell_type": "code",
      "execution_count": 161,
      "metadata": {},
      "outputs": [],
      "source": [
        "'hanni' in dct"
      ],
      "id": "b25b9939-3c30-4551-9c01-62caf2a55f40"
    },
    {
      "cell_type": "code",
      "execution_count": 162,
      "metadata": {},
      "outputs": [],
      "source": [
        "'hynn' in dct"
      ],
      "id": "06ce310d-a2cb-43db-80a7-7c65d8ab4e1c"
    },
    {
      "cell_type": "markdown",
      "metadata": {},
      "source": [
        "`-` in은 사실 다른자료형도 가능했음\n",
        "\n",
        "(관찰1)"
      ],
      "id": "6a4cdef5-fce7-4bdb-8450-79ec044e0ab5"
    },
    {
      "cell_type": "code",
      "execution_count": 152,
      "metadata": {},
      "outputs": [],
      "source": [
        "'a' in 'guebin' "
      ],
      "id": "54c67497-9f1e-4a47-bc15-6b4c5c65baf3"
    },
    {
      "cell_type": "code",
      "execution_count": 153,
      "metadata": {},
      "outputs": [],
      "source": [
        "'b' in 'guebin' "
      ],
      "id": "bb4b392b-76a6-4634-95b2-b4426cd17fd5"
    },
    {
      "cell_type": "code",
      "execution_count": 154,
      "metadata": {},
      "outputs": [],
      "source": [
        "'c' in 'guebin' "
      ],
      "id": "6eb404d9-3f83-4974-8c8d-3fd8b5145b0f"
    },
    {
      "cell_type": "markdown",
      "metadata": {},
      "source": [
        "(관찰2)"
      ],
      "id": "153ce7d0-41eb-4c51-b05d-4066afcd5f4a"
    },
    {
      "cell_type": "code",
      "execution_count": 155,
      "metadata": {},
      "outputs": [],
      "source": [
        "tpl = 1,2,3 \n",
        "tpl"
      ],
      "id": "ba411feb-79b5-47b1-8af3-00c72415ec82"
    },
    {
      "cell_type": "code",
      "execution_count": 156,
      "metadata": {},
      "outputs": [],
      "source": [
        "1 in tpl"
      ],
      "id": "0e07af8e-9464-45dd-9b9d-2eda4dae5949"
    },
    {
      "cell_type": "code",
      "execution_count": 157,
      "metadata": {},
      "outputs": [],
      "source": [
        "4 in tpl"
      ],
      "id": "642fbd5e-7902-4802-a02b-381060d67b83"
    },
    {
      "cell_type": "markdown",
      "metadata": {},
      "source": [
        "(관찰3)"
      ],
      "id": "9bb3cb40-f1af-497b-b185-2938c6675997"
    },
    {
      "cell_type": "code",
      "execution_count": 135,
      "metadata": {},
      "outputs": [],
      "source": [
        "lst = [['guebin',49],['hanni',80],['hynn',99]] \n",
        "lst"
      ],
      "id": "46b35057-8ffe-4776-8393-9ed436e73fcf"
    },
    {
      "cell_type": "code",
      "execution_count": 158,
      "metadata": {},
      "outputs": [],
      "source": [
        "['guebin',49] in lst"
      ],
      "id": "96841b96-7a45-4c0b-9cd0-979e4537bbe2"
    },
    {
      "cell_type": "markdown",
      "metadata": {},
      "source": [
        "`-` in연산자가 dict형에 사용되면 key를 기준으로 True, False를 판단한다.\n",
        "\n",
        "## F. 딕셔너리 특수기능\n",
        "\n",
        "**(pop)**"
      ],
      "id": "2f3080c7-486c-4783-86d8-34f40cd3a8e9"
    },
    {
      "cell_type": "code",
      "execution_count": 164,
      "metadata": {},
      "outputs": [],
      "source": [
        "dct = {'guebin':49, 'hanni':80} \n",
        "dct.pop('hanni')\n",
        "dct"
      ],
      "id": "84f168c0-12c7-447e-b723-5960525bb119"
    },
    {
      "cell_type": "markdown",
      "metadata": {},
      "source": [
        "**(get)**"
      ],
      "id": "b35cb052-b2d3-4137-8f20-7934617d4533"
    },
    {
      "cell_type": "code",
      "execution_count": 165,
      "metadata": {},
      "outputs": [],
      "source": [
        "dct = {'guebin':49, 'hanni':80} \n",
        "dct"
      ],
      "id": "2df6b4fb-5f44-481f-a079-abc508e83561"
    },
    {
      "cell_type": "code",
      "execution_count": 149,
      "metadata": {},
      "outputs": [],
      "source": [
        "dct.get('guebin') "
      ],
      "id": "9a2455a0-9e75-493e-8f07-167a1069b1a2"
    },
    {
      "cell_type": "markdown",
      "metadata": {},
      "source": [
        "아래와 같은 기능"
      ],
      "id": "489f39e9-8352-4a10-b074-ed1a3b04b80b"
    },
    {
      "cell_type": "code",
      "execution_count": 150,
      "metadata": {},
      "outputs": [],
      "source": [
        "dct['guebin']"
      ],
      "id": "ee6634bd-0e0f-45cd-b619-713261eb6b22"
    },
    {
      "cell_type": "markdown",
      "metadata": {},
      "source": [
        "미묘한 차이점이 존재함"
      ],
      "id": "0b25b84a-f0b5-4a13-970b-da2c6e6b2fee"
    },
    {
      "cell_type": "code",
      "execution_count": 151,
      "metadata": {},
      "outputs": [],
      "source": [
        "dct['hynn'] # hynn이 없어서 키에러 출력, 그런 key는 없다.. "
      ],
      "id": "869b9ba1-6513-460f-b015-0e2e8a334f22"
    },
    {
      "cell_type": "code",
      "execution_count": 152,
      "metadata": {},
      "outputs": [],
      "source": [
        "dct.get('hynn') # hynn이 없으면 아무것도 출력안함 "
      ],
      "id": "a5231d0e-fe8d-4a3e-b6fe-f2a343448805"
    },
    {
      "cell_type": "markdown",
      "metadata": {},
      "source": [
        "**(keys,values,items)**\n",
        "\n",
        "`-` .keys()는 딕셔너리의 키를 리턴한다."
      ],
      "id": "950bd9f1-3390-4aca-8772-f9f3792c3d6c"
    },
    {
      "cell_type": "code",
      "execution_count": 166,
      "metadata": {},
      "outputs": [],
      "source": [
        "dct = {'guebin':49, 'hanni':80} \n",
        "dct"
      ],
      "id": "65e989dc-348f-48f5-9128-2e3d239a2fd7"
    },
    {
      "cell_type": "code",
      "execution_count": 83,
      "metadata": {},
      "outputs": [],
      "source": [
        "_keys=dct.keys()\n",
        "_keys"
      ],
      "id": "c4395cc1-9ea0-442b-8081-d77e2d58f5b7"
    },
    {
      "cell_type": "code",
      "execution_count": 84,
      "metadata": {},
      "outputs": [],
      "source": [
        "type(_keys) # 리턴된 자료형은 이상한것임"
      ],
      "id": "d706b078-b696-4a14-8ad9-36fa74f5dee8"
    },
    {
      "cell_type": "code",
      "execution_count": 85,
      "metadata": {},
      "outputs": [],
      "source": [
        "list(_keys) # 아무튼 그 이상한 자료형도 리스트화 가능 "
      ],
      "id": "af1cd8e2-0cd9-41a3-bce6-82352efd8b16"
    },
    {
      "cell_type": "markdown",
      "metadata": {},
      "source": [
        "`-` .values()는 딕셔너리의 값들을 리턴한다."
      ],
      "id": "2729059d-d90c-436c-a417-29867796b8f1"
    },
    {
      "cell_type": "code",
      "execution_count": 86,
      "metadata": {},
      "outputs": [],
      "source": [
        "_values = dct.values()\n",
        "_values "
      ],
      "id": "400031b3-f7a0-4d68-b1e2-54abd1beb79a"
    },
    {
      "cell_type": "code",
      "execution_count": 87,
      "metadata": {},
      "outputs": [],
      "source": [
        "type(_values)"
      ],
      "id": "3ab4c07b-ad42-4f1d-ae81-0a7581f3b894"
    },
    {
      "cell_type": "code",
      "execution_count": 88,
      "metadata": {},
      "outputs": [],
      "source": [
        "list(_values)"
      ],
      "id": "2e966ef6-9f69-42db-9c1a-5558be0356f6"
    },
    {
      "cell_type": "markdown",
      "metadata": {},
      "source": [
        "`-` .items()는 딕셔너리의 (키,값)을 리턴한다."
      ],
      "id": "4edb8d04-ba7d-49cf-a788-5fadb9a46ff4"
    },
    {
      "cell_type": "code",
      "execution_count": 89,
      "metadata": {},
      "outputs": [],
      "source": [
        "_items = dct.items()\n",
        "_items "
      ],
      "id": "de23d6d7-36cc-4abd-a49d-02fe82c8f8e8"
    },
    {
      "cell_type": "code",
      "execution_count": 90,
      "metadata": {},
      "outputs": [],
      "source": [
        "type(_items)"
      ],
      "id": "807955b6-259c-4874-84e7-c21985306ce8"
    },
    {
      "cell_type": "code",
      "execution_count": 91,
      "metadata": {},
      "outputs": [],
      "source": [
        "list(_items)"
      ],
      "id": "b5627b39-598d-4b8e-b05a-efc667e00298"
    },
    {
      "cell_type": "markdown",
      "metadata": {},
      "source": [
        "## G. for문과 dict ($\\star$)"
      ],
      "id": "d2fd927b-23b8-4187-b9e1-7831d21c77d1"
    },
    {
      "cell_type": "code",
      "execution_count": 7,
      "metadata": {
        "tags": []
      },
      "outputs": [],
      "source": [
        "dct = {'guebin': 49, 'hanni': 80}\n",
        "dct"
      ],
      "id": "a86cb042-6a3c-4b4d-a676-33b91191b888"
    },
    {
      "cell_type": "markdown",
      "metadata": {},
      "source": [
        "(예시1)"
      ],
      "id": "d60f736e-e6dc-4e86-be38-4ac6d502bd77"
    },
    {
      "cell_type": "code",
      "execution_count": 8,
      "metadata": {
        "tags": []
      },
      "outputs": [
        {
          "output_type": "stream",
          "name": "stdout",
          "text": [
            "guebin\n",
            "hanni"
          ]
        }
      ],
      "source": [
        "for k in dct.keys():\n",
        "    print(k)"
      ],
      "id": "a128e5fa-23f2-466a-9e79-6c1d76c6aa02"
    },
    {
      "cell_type": "code",
      "execution_count": 9,
      "metadata": {
        "tags": []
      },
      "outputs": [
        {
          "output_type": "stream",
          "name": "stdout",
          "text": [
            "guebin\n",
            "hanni"
          ]
        }
      ],
      "source": [
        "for k in dct:\n",
        "    print(k)"
      ],
      "id": "43a3e3d6-1227-4c85-81ae-2616fe82c419"
    },
    {
      "cell_type": "markdown",
      "metadata": {},
      "source": [
        "-   딕셔너리 그자체도 for문에 넣을 수 있다.\n",
        "-   k에는 value가 삭제되어 들어간다. (즉 key만)\n",
        "-   결과를 보면 dct 대신에 dct.keys()와 list(dct)를 넣었을때와 결과가\n",
        "    같다.\n",
        "\n",
        "> Note: list(dct) 하면 key만 리턴된다.\n",
        "\n",
        "(예시2)"
      ],
      "id": "f741749d-8845-47e3-a442-e87838f0cb90"
    },
    {
      "cell_type": "code",
      "execution_count": 10,
      "metadata": {
        "tags": []
      },
      "outputs": [
        {
          "output_type": "stream",
          "name": "stdout",
          "text": [
            "49\n",
            "80"
          ]
        }
      ],
      "source": [
        "for v in dct.values():\n",
        "    print(v)"
      ],
      "id": "53aac535-3ec0-471d-9c81-64e5ad6b2933"
    },
    {
      "cell_type": "markdown",
      "metadata": {},
      "source": [
        "(예시3)"
      ],
      "id": "5cdecf04-3349-4198-9f74-d1422f5b9b56"
    },
    {
      "cell_type": "code",
      "execution_count": 11,
      "metadata": {
        "tags": []
      },
      "outputs": [
        {
          "output_type": "stream",
          "name": "stdout",
          "text": [
            "('guebin', 49)\n",
            "('hanni', 80)"
          ]
        }
      ],
      "source": [
        "for i in dct.items():\n",
        "    print(i)"
      ],
      "id": "2f215e97-3349-4942-9b1c-09cc1d01fd2f"
    },
    {
      "cell_type": "markdown",
      "metadata": {},
      "source": [
        "(예시4)"
      ],
      "id": "a25e32ee-0c7c-4981-8f2e-a2b2a2b48e83"
    },
    {
      "cell_type": "code",
      "execution_count": 12,
      "metadata": {
        "tags": []
      },
      "outputs": [
        {
          "output_type": "stream",
          "name": "stdout",
          "text": [
            "guebin 49\n",
            "hanni 80"
          ]
        }
      ],
      "source": [
        "for k,v in dct.items():\n",
        "    print(k,v)"
      ],
      "id": "6295eeda-c51d-4b07-af6f-38d03aed7ec4"
    },
    {
      "cell_type": "markdown",
      "metadata": {},
      "source": [
        "(예시5) – {}의 중간고사 점수는 {}점 입니다."
      ],
      "id": "242ebe32-351d-4773-be9f-b74eb5cf57c9"
    },
    {
      "cell_type": "code",
      "execution_count": 13,
      "metadata": {
        "tags": []
      },
      "outputs": [
        {
          "output_type": "stream",
          "name": "stdout",
          "text": [
            "guebin의 중간고사 점수는 49점 입니다.\n",
            "hanni의 중간고사 점수는 80점 입니다."
          ]
        }
      ],
      "source": [
        "for name,score in dct.items():\n",
        "    print(f'{name}의 중간고사 점수는 {score}점 입니다.')"
      ],
      "id": "a106eb5c-e64b-477d-b18b-84d7c0dbc6a0"
    },
    {
      "cell_type": "markdown",
      "metadata": {},
      "source": [
        "## H. dict에서 key혹은 value만 뽑아내기\n",
        "\n",
        "`-` 예제: 아래의 dict에서 key만 뽑아내고 싶다."
      ],
      "id": "ac86c652-706b-4f6f-b32f-ae627dbacd48"
    },
    {
      "cell_type": "code",
      "execution_count": 98,
      "metadata": {},
      "outputs": [],
      "source": [
        "dct = {'guebin':49, 'hanni':80} "
      ],
      "id": "94df70b3-4777-48bf-80c6-2ef9633d8d2d"
    },
    {
      "cell_type": "markdown",
      "metadata": {},
      "source": [
        "(풀이1)"
      ],
      "id": "9576e3b1-2aa9-4d73-bbd7-0806334bb109"
    },
    {
      "cell_type": "code",
      "execution_count": 99,
      "metadata": {},
      "outputs": [],
      "source": [
        "list(dct)"
      ],
      "id": "d416cc5a-ca74-46a4-89b8-e3fefbdfa986"
    },
    {
      "cell_type": "markdown",
      "metadata": {},
      "source": [
        "(풀이2)"
      ],
      "id": "cf3cebe9-5a91-4756-b4ae-8b6a400d1657"
    },
    {
      "cell_type": "code",
      "execution_count": 100,
      "metadata": {},
      "outputs": [],
      "source": [
        "list(dct.keys())"
      ],
      "id": "fbf8bb94-37c8-4697-8b0c-2a4e313a8c8f"
    },
    {
      "cell_type": "markdown",
      "metadata": {},
      "source": [
        "(풀이3)"
      ],
      "id": "b5cbd100-fb26-4c44-aed4-704e111d219a"
    },
    {
      "cell_type": "code",
      "execution_count": 101,
      "metadata": {},
      "outputs": [],
      "source": [
        "[k for k in dct]"
      ],
      "id": "f30e0c2d-c81f-4340-8c28-0ce2da653f95"
    },
    {
      "cell_type": "markdown",
      "metadata": {},
      "source": [
        "(풀이4)"
      ],
      "id": "fbeb92fc-5296-4ab9-b019-9468f363c5de"
    },
    {
      "cell_type": "code",
      "execution_count": 102,
      "metadata": {},
      "outputs": [],
      "source": [
        "[k for k,v in dct.items()]"
      ],
      "id": "cce2b078-5b12-4ede-82e2-c2987b79a6c0"
    },
    {
      "cell_type": "markdown",
      "metadata": {},
      "source": [
        "`-` 예제: 아래의 dict에서 value만 뽑아내고 싶다."
      ],
      "id": "e8a2b494-6985-4e0c-820b-c212fa58a020"
    },
    {
      "cell_type": "code",
      "execution_count": 103,
      "metadata": {},
      "outputs": [],
      "source": [
        "dct = {'guebin':49, 'hanni':80} "
      ],
      "id": "3d014038-46d1-4d0c-b2e9-0b556fcaaa57"
    },
    {
      "cell_type": "markdown",
      "metadata": {},
      "source": [
        "(풀이1)"
      ],
      "id": "61b72c9e-630a-4282-8bd4-c288d11eae12"
    },
    {
      "cell_type": "code",
      "execution_count": 104,
      "metadata": {},
      "outputs": [],
      "source": [
        "list(dct.values())"
      ],
      "id": "b643d03f-fbdd-45e1-808b-2012b94c3706"
    },
    {
      "cell_type": "markdown",
      "metadata": {},
      "source": [
        "(풀이2)"
      ],
      "id": "834fa0ad-e391-4c56-a359-babeb7315aa3"
    },
    {
      "cell_type": "code",
      "execution_count": 105,
      "metadata": {},
      "outputs": [],
      "source": [
        "[dct[k] for k in dct]"
      ],
      "id": "6667a77c-da81-4474-9871-d1abfe96c918"
    },
    {
      "cell_type": "markdown",
      "metadata": {},
      "source": [
        "(풀이3)"
      ],
      "id": "0d615726-a1d2-4ff3-bcb5-597747bb84ce"
    },
    {
      "cell_type": "code",
      "execution_count": 106,
      "metadata": {},
      "outputs": [],
      "source": [
        "[v for v in dct.values()]"
      ],
      "id": "93a8caa0-8330-4add-83bf-08cde4b9c196"
    },
    {
      "cell_type": "markdown",
      "metadata": {},
      "source": [
        "(풀이4)"
      ],
      "id": "c73b3e23-a84e-4367-acf8-496c79c51202"
    },
    {
      "cell_type": "code",
      "execution_count": 107,
      "metadata": {},
      "outputs": [],
      "source": [
        "[v for k,v in dct.items()]"
      ],
      "id": "b4e85a31-ee2c-42e4-8c8e-7792289ee086"
    },
    {
      "cell_type": "markdown",
      "metadata": {},
      "source": [
        "# 6. 딕셔너리를 이용한 치환 ($\\star$)\n",
        "\n",
        "## A. 바꿔치기 (1)\n",
        "\n",
        "`-` 예제1: 아래와 같은 리스트가 있다고 하자."
      ],
      "id": "9e532a1b-5dda-415e-8a84-f14e382ee072"
    },
    {
      "cell_type": "code",
      "execution_count": 163,
      "metadata": {},
      "outputs": [],
      "source": [
        "lst = list('abcd'*2)\n",
        "lst"
      ],
      "id": "894332f3-262b-41d2-8860-df41e91190a0"
    },
    {
      "cell_type": "markdown",
      "metadata": {},
      "source": [
        "아래의 규칙에 의하여 lst의 각 원소의 값을 바꾸고 싶다고 하자. 이를\n",
        "구현하는 코드를 작성하라.\n",
        "\n",
        "| 변환전 |   변환후    |\n",
        "|:------:|:-----------:|\n",
        "|  ‘a’   | \\[1,0,0,0\\] |\n",
        "|  ‘b’   | \\[0,1,0,0\\] |\n",
        "|  ‘c’   | \\[0,0,1,0\\] |\n",
        "|  ‘d’   | \\[0,0,0,1\\] |\n",
        "\n",
        "hint: 아래의 dct를 이용할 것"
      ],
      "id": "5cdeaeeb-70ee-49e5-a5d4-cf3d64c071d6"
    },
    {
      "cell_type": "code",
      "execution_count": 214,
      "metadata": {},
      "outputs": [],
      "source": [
        "lst = list('abcd'*2)\n",
        "lst"
      ],
      "id": "98123886-7c0b-4be7-a90b-52e052c4ac64"
    },
    {
      "cell_type": "code",
      "execution_count": 215,
      "metadata": {},
      "outputs": [],
      "source": [
        "dct = {'a':[1,0,0,0], 'b':[0,1,0,0], 'c':[0,0,1,0], 'd':[0,0,0,1]}\n",
        "dct"
      ],
      "id": "2440de70-eb3d-459e-aeb8-fa0489f623e6"
    },
    {
      "cell_type": "markdown",
      "metadata": {},
      "source": [
        "(풀이)\n",
        "\n",
        "`-` 예제2: 예제1을 역변환하라."
      ],
      "id": "70605ba9-0e65-4852-8e15-796e6d6255a5"
    },
    {
      "cell_type": "code",
      "execution_count": 225,
      "metadata": {},
      "outputs": [],
      "source": [
        "dct = {'a':[1,0,0,0], 'b':[0,1,0,0], 'c':[0,0,1,0], 'd':[0,0,0,1]}"
      ],
      "id": "c2aba97d-391a-41f0-a519-9f97c9f0934a"
    },
    {
      "cell_type": "code",
      "execution_count": 226,
      "metadata": {},
      "outputs": [],
      "source": [
        "lst= [[1, 0, 0, 0],\n",
        "      [0, 1, 0, 0],\n",
        "      [0, 0, 1, 0],\n",
        "      [0, 0, 0, 1],\n",
        "      [1, 0, 0, 0],\n",
        "      [0, 1, 0, 0],\n",
        "      [0, 0, 1, 0],\n",
        "      [0, 0, 0, 1]]\n",
        "lst "
      ],
      "id": "6f4fabcd-778d-4ad4-9899-f6124dca300c"
    },
    {
      "cell_type": "markdown",
      "metadata": {},
      "source": [
        "(풀이)\n",
        "\n",
        "## B. 바꿔치기 (2)\n",
        "\n",
        "`-` 예제1: 아래와 같은 리스트를 고려하자."
      ],
      "id": "92e74d5a-a87f-4a45-89fc-fcd1a83f2f19"
    },
    {
      "cell_type": "code",
      "execution_count": 240,
      "metadata": {},
      "outputs": [],
      "source": [
        "lst = ['딸기','사과','바나나','딸기','사과','오토바이','자동차','버스','기차','오토바이','자동차']"
      ],
      "id": "cd843f81-b422-4657-bc7e-646bbe3b4dc1"
    },
    {
      "cell_type": "markdown",
      "metadata": {},
      "source": [
        "다음의 맵핑규칙에 따라서 위의 리스트의 원소를 바꾸어라.\n",
        "\n",
        "|  변환전  | 변환후 |\n",
        "|:--------:|:------:|\n",
        "|   딸기   |  과일  |\n",
        "|   사과   |  과일  |\n",
        "|  바나나  |  과일  |\n",
        "| 오토바이 |  탈것  |\n",
        "|  자동차  |  탈것  |\n",
        "|   버스   |  탈것  |\n",
        "|   기차   |  탈것  |\n",
        "\n",
        "(풀이)\n",
        "\n",
        "## C. 연습문제\n",
        "\n",
        "`#`. 아래와 같은 맵핑을 고려하자.\n",
        "\n",
        "| 문자 | 숫자 |\n",
        "|:----:|:----:|\n",
        "|  a   |  1   |\n",
        "|  b   |  0   |\n",
        "\n",
        "이를 딕셔너리로 표현하면 아래와 같다."
      ],
      "id": "579b5960-4b4b-439f-bf15-11b358404dfc"
    },
    {
      "cell_type": "code",
      "execution_count": 36,
      "metadata": {},
      "outputs": [],
      "source": [
        "dct = {'a':0, 'b':1} "
      ],
      "id": "f9ba4ef5-d4e0-4feb-9205-023addb1b9d7"
    },
    {
      "cell_type": "markdown",
      "metadata": {},
      "source": [
        "위 규칙에 따라서 아래의 리스트의 원소를 문자로 각각 변환하라."
      ],
      "id": "dd810e1d-8a73-4fd8-89e2-62b9d055c730"
    },
    {
      "cell_type": "code",
      "execution_count": 37,
      "metadata": {},
      "outputs": [],
      "source": [
        "lst = [1, 0, 1, 0, 1, 0, 1, 1, 1, 1, 0, 0, 1, 0, 1]"
      ],
      "id": "6ed824de-46d0-4c0d-b10f-19607c9d663c"
    },
    {
      "cell_type": "markdown",
      "metadata": {},
      "source": [
        "``` python\n",
        "# 출력은 아래와 같아야 한다. \n",
        "['b', 'a', 'b', 'a', 'b', 'a', 'b', 'b', 'b', 'b', 'a', 'a', 'b', 'a', 'b']\n",
        "```\n",
        "\n",
        "(풀이)\n",
        "\n",
        "`#`. 아래와 같은 맵핑을 고려하자.\n",
        "\n",
        "|     월     |   의미   |\n",
        "|:----------:|:--------:|\n",
        "|    1,2     | 겨울방학 |\n",
        "|  3,4,5,6   |  1학기   |\n",
        "|    7,8     | 여름방학 |\n",
        "| 9,10,11,12 |  2학기   |\n",
        "\n",
        "이러한 규칙에 맞게 아래의 리스트를 적절한 문자열로 변환하라."
      ],
      "id": "03c8da40-f839-429c-89d6-75ff68f295d1"
    },
    {
      "cell_type": "code",
      "execution_count": 41,
      "metadata": {},
      "outputs": [],
      "source": [
        "month = [1,2,2,3,4,5,6,7,8,9,9,10,11,12] "
      ],
      "id": "fcd4f0a4-62a2-4ef4-8ba2-377813310dfb"
    },
    {
      "cell_type": "markdown",
      "metadata": {},
      "source": [
        "``` python\n",
        "## 출력은 아래와 같아야 한다. \n",
        "['겨울방학', '겨울방학', '겨울방학', '1학기', '1학기', '1학기', '1학기', '여름방학', '여름방학', '2학기', '2학기', '2학기', '2학기', '2학기']\n",
        "```\n",
        "\n",
        "(풀이)\n",
        "\n",
        "`##` – 합성변환\n",
        "\n",
        "아래와 같은 맵핑을 고려하자.\n",
        "\n",
        "(규칙1)\n",
        "\n",
        "|   문자   | 숫자 |\n",
        "|:--------:|:----:|\n",
        "|  바나나  |  0   |\n",
        "|   사과   |  1   |\n",
        "| 오토바이 |  2   |\n",
        "|  자동차  |  3   |\n",
        "|  자전거  |  4   |\n",
        "\n",
        "(규칙2)\n",
        "\n",
        "|  아이템  | 카테고리 |\n",
        "|:--------:|:--------:|\n",
        "|  바나나  |   과일   |\n",
        "|   사과   |   과일   |\n",
        "| 오토바이 |   탈것   |\n",
        "|  자동차  |   탈것   |\n",
        "|  자전거  |   탈것   |\n",
        "\n",
        "각각의 규칙을 나타내는 딕셔너리는 아래와 같이 선언되어있다고 하자."
      ],
      "id": "bc90e183-fcc1-41e1-b0e5-415c22f26418"
    },
    {
      "cell_type": "code",
      "execution_count": 44,
      "metadata": {},
      "outputs": [],
      "source": [
        "dct1 = {'바나나':0, '사과':1, '오토바이':2, '자동차':3, '자전거':4} \n",
        "dct2 = {'과일':['바나나','사과'], '탈것':['오토바이','자동차','자전거']} "
      ],
      "id": "60d9f5c6-f0d1-4ffa-8dc1-e3124947e64c"
    },
    {
      "cell_type": "markdown",
      "metadata": {},
      "source": [
        "`#`. 규칙1를 이용하여 아래와 같은 리스트를 변환하는 함수를 구현하고 그\n",
        "함수를 `f`라 선언하라.\n",
        "\n",
        "``` python\n",
        "# 입력 \n",
        "[0,1,0,1,4]\n",
        "\n",
        "# 출력 \n",
        "['바나나', '사과', '바나나', '사과', '자전거']\n",
        "```\n",
        "\n",
        "(사용예시)"
      ],
      "id": "57450e9e-b23b-4ecf-8a78-94bbdf158193"
    },
    {
      "cell_type": "code",
      "execution_count": 202,
      "metadata": {},
      "outputs": [],
      "source": [
        "f([0,1,0,1,4])"
      ],
      "id": "bc8521e4-fa35-431e-95f6-ffbbe341da05"
    },
    {
      "cell_type": "markdown",
      "metadata": {},
      "source": [
        "`#`. 규칙2를 이용하여 아래와 같이 리스트를 변환하는 함수를 구현하고 그\n",
        "함수를 `g`라고 선언하라.\n",
        "\n",
        "``` python\n",
        "# 입력 \n",
        "['바나나','바나나','바나나','자동차']\n",
        "\n",
        "# 출력 \n",
        "['과일','과일','과일','탈것']\n",
        "```\n",
        "\n",
        "(사용예시)"
      ],
      "id": "1d9b7c53-c1e3-4f5e-b9cd-a278aa33ce82"
    },
    {
      "cell_type": "code",
      "execution_count": 201,
      "metadata": {},
      "outputs": [],
      "source": [
        "g(['바나나','바나나','바나나','자동차'])"
      ],
      "id": "3756176e-d285-4923-b1ec-29846b9eb502"
    },
    {
      "cell_type": "markdown",
      "metadata": {},
      "source": [
        "`#`. 규칙1-2를 이용하여 아래와 같은 숫자로 이루어진 입력을 ‘과일’,\n",
        "‘탈것’ 중 하나로 바꾸는 코드를 구현하라.\n",
        "\n",
        "``` python\n",
        "# 입력 \n",
        "[0,1,0,1,3,4,2,2,3,4,1,0]\n",
        "\n",
        "# 출력 \n",
        "['과일', '과일', '과일', '과일', '탈것', '탈것', '탈것', '탈것', '탈것', '탈것', '과일', '과일']\n",
        "```\n",
        "\n",
        "**hint** $g(f(x))$ 를 이용하라.\n",
        "\n",
        "# 7. 파이썬 자료형 연습문제\n",
        "\n",
        "`ssh코드`:\n",
        "\n",
        "아래의 문자열을 고려하자."
      ],
      "id": "fd8ccdc2-fedd-4627-ab4a-3d1d174fa67a"
    },
    {
      "cell_type": "code",
      "execution_count": 1,
      "metadata": {},
      "outputs": [],
      "source": [
        "test_arr = 'ssh-rsa AAAAB3NzaC1yc2EAAAABIwAAAQEAklOUpkDHrfHY17SbrmTIpNLTGK9Tjom/BWDSUGPl+nafzlHDTYW7hdI4yZ5ew18JH4JW9jbhUFrviQzM7xlELEVf4h9lFX5QVkbPppSwg0cda3Pbv7kOdJ/MTyBlWXFCR+HAo3FXRitBqxiX1nKhXpHAZsMciLq8V6RjsNAQwdsdMFvSlVK/7XAt3FaoJoAsncM1Q9x5+3V0Ww68/eIFmb1zuUFljQJKprrX88XypNDvjYNby6vw/Pb0rwert/EnmZ+AW4OZPnTPI89ZPmVMLuayrD2cE86Z/il8b+gw3r3+1nKatmIkjn2so1d01QraTlMqVSsbxNrRFi9wrf+M7Q== schacon@mylaptop.local'"
      ],
      "id": "9d8f9c5b-b4b1-4c1b-9126-f4b51354dfee"
    },
    {
      "cell_type": "markdown",
      "metadata": {},
      "source": [
        "`#`. 이 문자열에서 `index = 0,2,4,6,8,...` 에 해당하는 원소를 출력하는\n",
        "코드를 작성하라. (2022-파이썬입문 중간고사 1-(2) 참고)"
      ],
      "id": "246550d1-383d-4638-abb3-a7b9dca55959"
    },
    {
      "cell_type": "code",
      "execution_count": 140,
      "metadata": {},
      "outputs": [],
      "source": [
        "# 출력결과는 아래와 같아야 한다. "
      ],
      "id": "8d62e13b-da3e-471d-9cc3-071f3ada7673"
    },
    {
      "cell_type": "markdown",
      "metadata": {},
      "source": [
        "(풀이)"
      ],
      "id": "09ca7f00-8fe1-44b8-b8a1-c8aeecf89f76"
    },
    {
      "cell_type": "code",
      "execution_count": 3,
      "metadata": {},
      "outputs": [],
      "source": [
        "test_arr[::2]"
      ],
      "id": "b381bac2-2c06-4109-916f-3604c9c1502b"
    },
    {
      "cell_type": "markdown",
      "metadata": {},
      "source": [
        "`#`. 위 문자열을 뒤집은 문자열을 구하는 코드를 구현하라.\n",
        "(2022-파이썬입문 중간고사 1-(4) 참고)"
      ],
      "id": "5e560db2-3dd6-4734-b9e1-898bff40b129"
    },
    {
      "cell_type": "code",
      "execution_count": 141,
      "metadata": {},
      "outputs": [],
      "source": [
        "# 출력결과는 아래와 같아야 한다. "
      ],
      "id": "d81051b6-1e63-42b2-97d0-62cf9b1f6c6f"
    },
    {
      "cell_type": "markdown",
      "metadata": {},
      "source": [
        "------------------------------------------------------------------------\n",
        "\n",
        "`파이썬 프로그래밍 시험성적`\n",
        "\n",
        "아래와 같은 dictionary가 있다고 가정하자."
      ],
      "id": "d67955ea-14bd-4d17-82a6-98d384f14b3f"
    },
    {
      "cell_type": "code",
      "execution_count": 3,
      "metadata": {
        "tags": []
      },
      "outputs": [],
      "source": [
        "dct={'202212377': {'att': 65, 'rep': 45, 'mid': 0, 'fin': 10},\n",
        "     '202212473': {'att': 95, 'rep': 30, 'mid': 60, 'fin': 10},\n",
        "     '202212310': {'att': 65, 'rep': 85, 'mid': 15, 'fin': 20},\n",
        "     '202212460': {'att': 55, 'rep': 35, 'mid': 35, 'fin': 5},\n",
        "     '202212320': {'att': 80, 'rep': 60, 'mid': 55, 'fin': 70},\n",
        "     '202212329': {'att': 75, 'rep': 40, 'mid': 75, 'fin': 85},\n",
        "     '202212408': {'att': 65, 'rep': 70, 'mid': 60, 'fin': 75},\n",
        "     '202212319': {'att': 60, 'rep': 25, 'mid': 20, 'fin': 35},\n",
        "     '202212348': {'att': 95, 'rep': 55, 'mid': 65, 'fin': 90},\n",
        "     '202212306': {'att': 90, 'rep': 25, 'mid': 95, 'fin': 50},\n",
        "     '202212308': {'att': 55, 'rep': 45, 'mid': 75, 'fin': 30},\n",
        "     '202212366': {'att': 95, 'rep': 60, 'mid': 25, 'fin': 55},\n",
        "     '202212367': {'att': 95, 'rep': 35, 'mid': 0, 'fin': 25},\n",
        "     '202212461': {'att': 50, 'rep': 55, 'mid': 90, 'fin': 45}}"
      ],
      "id": "6e826886-6566-4e6b-b494-b5777cdda092"
    },
    {
      "cell_type": "markdown",
      "metadata": {},
      "source": [
        "여기에서 ‘202212377’ 등은 학번을, att는 출석점수, rep는 레포트점수,\n",
        "mid는 중간고사 점수, fin은 기말고사 점수를 의미한다.\n",
        "\n",
        "`#`. 학생들의 학번을 아래와 같은 방식으로 출력하는 코드를 작성하라."
      ],
      "id": "f6b42113-af6f-4137-bc2e-ba0c23bf81dc"
    },
    {
      "cell_type": "code",
      "execution_count": 165,
      "metadata": {},
      "outputs": [],
      "source": [
        "# 출력예시"
      ],
      "id": "8d755a80-6a40-4ad8-9bae-2e3fcb35031f"
    },
    {
      "cell_type": "markdown",
      "metadata": {},
      "source": [
        "`#`. 출석점수가 70점 이상인(`>=70`) 학생들의 학번을 출력하는 코드를\n",
        "작성하라. (2022-파이썬입문 중간고사 2-(3) 참고)"
      ],
      "id": "4764aae7-8569-4cf8-80a5-03364bb922a5"
    },
    {
      "cell_type": "code",
      "execution_count": 166,
      "metadata": {},
      "outputs": [],
      "source": [
        "# 출력예시 "
      ],
      "id": "9d4094cd-861b-492d-b2cd-b98323ef4c4b"
    },
    {
      "cell_type": "markdown",
      "metadata": {},
      "source": [
        "------------------------------------------------------------------------\n",
        "\n",
        "`Oxford-III`: //\n",
        "[reference](https://www.robots.ox.ac.uk/~vgg/data/pets/)\n",
        "\n",
        "아래는 이미지 파일명들이 저장된 string을 불러오는 코드이다."
      ],
      "id": "0645fa91-4a61-4bbc-9d9b-52fa062ae119"
    },
    {
      "cell_type": "code",
      "execution_count": 11,
      "metadata": {},
      "outputs": [],
      "source": [
        "import requests\n",
        "url = 'https://raw.githubusercontent.com/guebin/PP2023/main/posts/01_PythonBasic/Oxford-IIIT.txt'\n",
        "txt = requests.get(url).content.decode()"
      ],
      "id": "5d193377-5ff7-47be-94e6-772942c0acc4"
    },
    {
      "cell_type": "markdown",
      "metadata": {},
      "source": [
        "txt의 출력 일부를 나타내면 아래와 같다.\n",
        "\n",
        "``` default\n",
        "'Abyssinian_1.jpg\\nAbyssinian_10.jpg\\nAbyssinian_100.jpg\\nAbyssinian_100.mat\\nAbyssinian_101.jpg\\nAbyssinian_101.mat\\nAbyssinian_102.jpg\\nAbyssinian_102.mat\\nAbyssinian_103.jpg\\nAbyssinian_104.jpg\\nAbyssinian_105.jpg\\nAbyssinian_106.jpg\\nAbyssinian_107.jpg\\nAbyssinian_108.jpg\\nAbyssinian_109.jpg\\nAbyssinian_11.jpg\\nAbyssinian_110.jpg\\nAbyssinian_111.jpg\\nAbyssinian_112.jpg\\nAbyssinian_113.jpg\\nAbyssinian_114.jpg\\nAbyssinian_115.jpg\\nAbyssinian_116.jpg\\nAbyssinian_117.jpg\\nAbyssinian_118.jpg\\nAbyssinian_119.jpg\\nAbyssinian_12.jpg\\nAbyssinian_120.jpg\\nAbyssinian_121.jpg\\nAbyssinian_122.jpg\\nAbyssinian_123.jpg\\nAbyssinian_124.jpg\\nAbyssinian_125.jpg\\nAbyssinian_126.jpg\\nAbyssinian_127.jpg\\nAbyssinian_128.jpg\\nAbyssinian_129.jpg\\nAbyssinian_13.jpg\\nAbyssinian_130.jpg\\nAbyssinian_131.jpg\\nAbyssinian_132.jpg\\n ....... \n",
        "```\n",
        "\n",
        "`#`. 각 파일명은 `\\n`으로 구분되어있다. 위의 스트링을 분해하여 아래와\n",
        "같은 리스트를 생성하고 `fname_list`에 저장하라.\n",
        "\n",
        "``` python\n",
        "# fname_list 의 출력결과는 아래와 같아야 한다. \n",
        "['Abyssinian_1.jpg','Abyssinian_10.jpg', ... ,'yorkshire_terrier_98.jpg', 'yorkshire_terrier_99.jpg']\n",
        "```\n",
        "\n",
        "`#`. 각 이미지파일명은 아래와 같은 규칙으로 저장되어 있다.\n",
        "\n",
        "-   파일명의 첫글자가 대문자이면 고양이를 의미하고 첫글자가 소문자이면\n",
        "    강아지를 의미한다.\n",
        "-   `_` 이전의 영문명은 고양이 혹은 강아지의 종(breed)을 의미한다.\n",
        "\n",
        "이미지 파일명이 입력으로 오면 강아지인지 고양이인지 판단하여 ‘cat’ or\n",
        "’dog’를 리턴하는 함수 `f`를 구현하라.\n",
        "\n",
        "(함수사용예시)"
      ],
      "id": "66434f82-6361-40da-9450-5d5be3af30d6"
    },
    {
      "cell_type": "code",
      "execution_count": 56,
      "metadata": {},
      "outputs": [],
      "source": [
        "f('yorkshire_terrier_99.jpg')"
      ],
      "id": "f3aa8a8e-3488-409f-95d6-777a69905fe9"
    },
    {
      "cell_type": "code",
      "execution_count": 58,
      "metadata": {},
      "outputs": [],
      "source": [
        "f('Abyssinian_1.jpg')"
      ],
      "id": "44bcb9a7-a9cc-43ce-ae02-11d14b8321b0"
    },
    {
      "cell_type": "markdown",
      "metadata": {},
      "source": [
        "`#`. 5의 결과로 나온 `fname_list`를 입력으로 하고 리스트의 각 원소가\n",
        "고양이를 의미하는 그림인지 강아지를 의미하는 그림인지 나타내는 리스트를\n",
        "만들어라.\n",
        "\n",
        "``` python\n",
        "## 입력예시 \n",
        "['Abyssinian_1.jpg','Abyssinian_10.jpg',...,'yorkshire_terrier_98.jpg', 'yorkshire_terrier_99.jpg']\n",
        "\n",
        "## 출력예시\n",
        "['cat', 'cat', ... , 'dog', 'dog']\n",
        "```\n",
        "\n",
        "`#`. 강아지 그림과 고양이 그림이 각각 몇 장씩 포함되어 있는지 파악하는\n",
        "코드를 구현하라.\n",
        "\n",
        "`#`. 포메라니안 종의 그림이 몇장있는지 파악하는 코드를 구현하라.\n",
        "\n",
        "**hint:** 포메라니안 그림은 파일명에 ‘pomeranian’ 을 포함한다.\n",
        "\n",
        "`#`. 아래의 `dct`는 포메라니안과 사모예드가 각각 몇장씩 포함되어있는지\n",
        "정리하기 위해 임시로 정리한 dictionary이다. 각 종이 몇 장씩\n",
        "포함되어있는지 구하여 `dct`를 수정하라."
      ],
      "id": "8b0ce3fd-866d-49f0-b705-fe08514a3d15"
    },
    {
      "cell_type": "code",
      "execution_count": 34,
      "metadata": {},
      "outputs": [],
      "source": [
        "dct = {'pomeranian':0, 'samoyed':0} \n",
        "dct"
      ],
      "id": "98e4cf00-6497-4870-88ea-c51e6cfb7763"
    },
    {
      "cell_type": "markdown",
      "metadata": {},
      "source": [
        "예를들어 포메라니안과 사모에예드의 그림이 각각 200장씩 있다면 아래와\n",
        "같이 딕셔너리를 수정해야한다."
      ],
      "id": "c3ef6db2-a020-47e1-85d6-3d2d773ce0d7"
    },
    {
      "cell_type": "code",
      "execution_count": 92,
      "metadata": {},
      "outputs": [],
      "source": [
        "{'pomeranian':200, 'samoyed':200} "
      ],
      "id": "c728e613-6036-4882-bb66-c99282866e4f"
    }
  ],
  "nbformat": 4,
  "nbformat_minor": 5,
  "metadata": {
    "kernelspec": {
      "name": "python3",
      "display_name": "Python 3 (ipykernel)",
      "language": "python"
    },
    "language_info": {
      "name": "python",
      "codemirror_mode": {
        "name": "ipython",
        "version": "3"
      },
      "file_extension": ".py",
      "mimetype": "text/x-python",
      "nbconvert_exporter": "python",
      "pygments_lexer": "ipython3",
      "version": "3.11.8"
    }
  }
}