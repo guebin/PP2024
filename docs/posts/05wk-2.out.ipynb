{
  "cells": [
    {
      "cell_type": "markdown",
      "metadata": {},
      "source": [
        "# 05wk-2: 파이썬의 자료형 (2)\n",
        "\n",
        "최규빈  \n",
        "2024-04-05\n",
        "\n",
        "<a href=\"https://colab.research.google.com/github/guebin/PP2024/blob/main/posts/05wk-2.ipynb\"><img src=\"https://colab.research.google.com/assets/colab-badge.svg\" style=\"text-align: left\"></a>\n",
        "\n",
        "# 1. 강의영상\n",
        "\n",
        "<https://youtu.be/playlist?list=PLQqh36zP38-z4lm3mTcpg5NgnWAz8sDcJ&si=wVTM7MEymev10lRH>\n",
        "\n",
        "# 2. Imports"
      ],
      "id": "35508748-8e78-45f0-8c6a-32e9de9a1f68"
    },
    {
      "cell_type": "code",
      "execution_count": 2,
      "metadata": {
        "tags": []
      },
      "outputs": [],
      "source": [
        "import numpy as np"
      ],
      "id": "a6f35f30-1b70-4329-acf2-88ad3f10a659"
    },
    {
      "cell_type": "markdown",
      "metadata": {},
      "source": [
        "# 3. `tuple`\n",
        "\n",
        "## A. 리스트 vs 튜플\n",
        "\n",
        "`-` 공통점: (1) 컨테이너형타입이라는 점, 그리고 (2) 연산 및 인덱싱을\n",
        "하는 방법은 리스트와 같음 - 차이점1: \\[\\] 대신에 ()를 사용한다. -\n",
        "차이점2: 불변형이다. (원소의 값을 바꿀 수 없음) - 차이점3: 하나의 원소를\n",
        "선언할 때는 (1,)와 같이 해야 한다. - 차이점4: 의미가 명확할때는 튜플의\n",
        "()를 생략가능하다.\n",
        "\n",
        "`-` 컨테이너형이라는 것이 무슨의미?"
      ],
      "id": "b300f9f5-3f64-4ccb-8cf4-e721962146cd"
    },
    {
      "cell_type": "code",
      "execution_count": 39,
      "metadata": {},
      "outputs": [],
      "source": [
        "a=(4,6,'pencil', 3.2+4.6j, [3,4])"
      ],
      "id": "38e8aa9b-479c-4b3d-89cb-1e9f969799d6"
    },
    {
      "cell_type": "code",
      "execution_count": 41,
      "metadata": {},
      "outputs": [],
      "source": [
        "type(a[2])"
      ],
      "id": "ee84edcf-5a72-4c18-a7dc-30c6205a4a2a"
    },
    {
      "cell_type": "code",
      "execution_count": 42,
      "metadata": {},
      "outputs": [],
      "source": [
        "type(a[3])"
      ],
      "id": "21987988-4ee6-4914-b26d-c5f7c4662f6f"
    },
    {
      "cell_type": "markdown",
      "metadata": {},
      "source": [
        "`-` 연산의 유사성"
      ],
      "id": "5da8068c-1699-4661-a610-bc0ffe02b3cc"
    },
    {
      "cell_type": "code",
      "execution_count": 43,
      "metadata": {},
      "outputs": [],
      "source": [
        "(1,2) + (3,4,5)"
      ],
      "id": "8615ae16-ad1c-49c7-8385-36ccd0b1c51e"
    },
    {
      "cell_type": "code",
      "execution_count": 44,
      "metadata": {},
      "outputs": [],
      "source": [
        "(1,2) * 2"
      ],
      "id": "a28d4fba-671d-4877-94e5-dea249d603f7"
    },
    {
      "cell_type": "markdown",
      "metadata": {},
      "source": [
        "`-` 인덱싱의 유사성"
      ],
      "id": "111a207e-992d-4d74-899d-547a4d58f5be"
    },
    {
      "cell_type": "code",
      "execution_count": 47,
      "metadata": {},
      "outputs": [],
      "source": [
        "tpl = (11,21,31)\n",
        "tpl[1:]"
      ],
      "id": "22e5ff0e-5dee-40bc-a4ef-2b3f4fdf5ffb"
    },
    {
      "cell_type": "markdown",
      "metadata": {},
      "source": [
        "`-` 차이점2: 불변형이라는 것은 무슨의미?"
      ],
      "id": "133d7aca-ce70-4e4e-9212-66412260e624"
    },
    {
      "cell_type": "code",
      "execution_count": 13,
      "metadata": {},
      "outputs": [],
      "source": [
        "a[2] = 'Pencil'"
      ],
      "id": "8846c662-1799-4694-80f0-8e0ec48d7d42"
    },
    {
      "cell_type": "markdown",
      "metadata": {},
      "source": [
        "참고로 a를 튜플이 아니라 리스트로 선언하면 값이 잘 바뀐다."
      ],
      "id": "8c259e63-b67d-4c31-8ba1-d378fdf8ff40"
    },
    {
      "cell_type": "code",
      "execution_count": 14,
      "metadata": {},
      "outputs": [],
      "source": [
        "a=[4,6,'pencil', 3.2+4.6j, [3,4]]"
      ],
      "id": "fda9a368-da93-4ae5-8505-53733bfe8102"
    },
    {
      "cell_type": "code",
      "execution_count": 15,
      "metadata": {},
      "outputs": [],
      "source": [
        "a[2]"
      ],
      "id": "afd3a17e-bbf4-451d-9320-a5bdc767d2fc"
    },
    {
      "cell_type": "code",
      "execution_count": 16,
      "metadata": {},
      "outputs": [],
      "source": [
        "a[2]='Pencil'"
      ],
      "id": "979ea123-2aae-473a-bf9d-4678e36663e5"
    },
    {
      "cell_type": "code",
      "execution_count": 17,
      "metadata": {},
      "outputs": [],
      "source": [
        "a"
      ],
      "id": "8224ef5b-45d0-4c38-a7df-d7578cc2a463"
    },
    {
      "cell_type": "markdown",
      "metadata": {},
      "source": [
        "`-` 차이점3: 하나의 원소로 이루어진 튜플을 만들때는 쉼표를 붙여야 함."
      ],
      "id": "baf89179-50b5-473e-a395-a06dde75e4ed"
    },
    {
      "cell_type": "code",
      "execution_count": 238,
      "metadata": {},
      "outputs": [],
      "source": [
        "[1]+[2,3,4]"
      ],
      "id": "29405f89-2679-4add-9ae1-b7c08c191f17"
    },
    {
      "cell_type": "code",
      "execution_count": 239,
      "metadata": {},
      "outputs": [],
      "source": [
        "(1,)+(2,3,4)"
      ],
      "id": "5d7b4b31-5a01-45e2-9114-f4649c953f33"
    },
    {
      "cell_type": "markdown",
      "metadata": {},
      "source": [
        "`-` 차이점4: 의미가 명확할때 튜플의 괄호는 생략가능하다. (이게\n",
        "중요합니다)"
      ],
      "id": "7259a8e3-e424-4c94-b657-ed863fed3e9e"
    },
    {
      "cell_type": "code",
      "execution_count": 26,
      "metadata": {},
      "outputs": [],
      "source": [
        "a=1,2\n",
        "a"
      ],
      "id": "1a8bd9ea-6aa8-4641-ae4b-a9742cbdf1fa"
    },
    {
      "cell_type": "markdown",
      "metadata": {},
      "source": [
        "의미가 명확할때 생략해야함"
      ],
      "id": "dbb3cac1-cc22-4c9b-84be-eef3d9b09bd2"
    },
    {
      "cell_type": "code",
      "execution_count": 240,
      "metadata": {},
      "outputs": [],
      "source": [
        "1,2 + 3,4,5 "
      ],
      "id": "f952afc7-6272-47ad-a88d-540885d5e957"
    },
    {
      "cell_type": "code",
      "execution_count": 241,
      "metadata": {},
      "outputs": [],
      "source": [
        "(1,2) + (3,4,5) "
      ],
      "id": "88ce1647-5b4c-4b0b-9506-e05de29c8df4"
    },
    {
      "cell_type": "markdown",
      "metadata": {},
      "source": [
        "## B. 선언\n",
        "\n",
        "`-` 소괄호를 이용"
      ],
      "id": "a05c1366-3278-4d2d-9727-7d65413d2e66"
    },
    {
      "cell_type": "code",
      "execution_count": 35,
      "metadata": {},
      "outputs": [],
      "source": [
        "a=(1,2,3)\n",
        "a"
      ],
      "id": "f3d8408f-63b3-4347-9138-2f38cac664e6"
    },
    {
      "cell_type": "code",
      "execution_count": 36,
      "metadata": {},
      "outputs": [],
      "source": [
        "type(a)"
      ],
      "id": "1c292263-9c7f-4865-b9f8-5d9ddbb63fa8"
    },
    {
      "cell_type": "markdown",
      "metadata": {},
      "source": [
        "`-` 생략가능하다는 점이 포인트"
      ],
      "id": "000bd4a9-9cdf-446e-99cc-0a2a9242f019"
    },
    {
      "cell_type": "code",
      "execution_count": 37,
      "metadata": {},
      "outputs": [],
      "source": [
        "a=1,2,3\n",
        "a"
      ],
      "id": "76be555a-fcdc-4c51-bded-81a9a2518571"
    },
    {
      "cell_type": "code",
      "execution_count": 38,
      "metadata": {},
      "outputs": [],
      "source": [
        "type(a)"
      ],
      "id": "321f37f9-e768-438d-80ca-267000078a51"
    },
    {
      "cell_type": "markdown",
      "metadata": {},
      "source": [
        "`-` 원소가 하나인 튜플을 만들고 싶다면?"
      ],
      "id": "abe56079-c56a-4aa7-a970-dd82bdfd3597"
    },
    {
      "cell_type": "code",
      "execution_count": 39,
      "metadata": {},
      "outputs": [],
      "source": [
        "a=(1,)\n",
        "a"
      ],
      "id": "31c1bb01-c797-4e3b-bf11-de8964ce1bb6"
    },
    {
      "cell_type": "markdown",
      "metadata": {},
      "source": [
        "## C. 연산\n",
        "\n",
        "`-` 리스트와 동일"
      ],
      "id": "69dc0413-3d4d-4c5a-8133-246dcfe53289"
    },
    {
      "cell_type": "code",
      "execution_count": 40,
      "metadata": {},
      "outputs": [],
      "source": [
        "(1,2)+(3,4,5)"
      ],
      "id": "d908daa9-9d1a-4986-95ec-232b7ebc2835"
    },
    {
      "cell_type": "code",
      "execution_count": 41,
      "metadata": {},
      "outputs": [],
      "source": [
        "(1,2)*2"
      ],
      "id": "727d8bc6-5fae-4129-aa5e-120cb39ad77b"
    },
    {
      "cell_type": "markdown",
      "metadata": {},
      "source": [
        "## D. 인덱싱\n",
        "\n",
        "`-` 리스트와 동일"
      ],
      "id": "10463c40-92b7-4f43-bbb8-b94a88aa6995"
    },
    {
      "cell_type": "code",
      "execution_count": 42,
      "metadata": {},
      "outputs": [],
      "source": [
        "a=(1,2,3,-4,-5)\n",
        "a"
      ],
      "id": "d03ff4d8-0ab3-497f-b890-afad9d272ecc"
    },
    {
      "cell_type": "code",
      "execution_count": 43,
      "metadata": {},
      "outputs": [],
      "source": [
        "a[-1]"
      ],
      "id": "3b203180-ee6a-4ade-9bb0-6dd73a4781ab"
    },
    {
      "cell_type": "code",
      "execution_count": 44,
      "metadata": {},
      "outputs": [],
      "source": [
        "a[-3:]"
      ],
      "id": "2a9c5c40-bc54-4106-a6d1-e904ec771d89"
    },
    {
      "cell_type": "markdown",
      "metadata": {},
      "source": [
        "## E. 슬기로운 튜플사용 ($\\star$)\n",
        "\n",
        "`# 예제` – 여러변수를 동시에 출력하고 싶을 경우 (다중출력?)\n",
        "\n",
        "변수를 아래와 같이 선언하였다고 하자."
      ],
      "id": "99140214-cd89-40ec-aa9d-d171c9cfda23"
    },
    {
      "cell_type": "code",
      "execution_count": 99,
      "metadata": {},
      "outputs": [],
      "source": [
        "a=1\n",
        "b=2\n",
        "c=3"
      ],
      "id": "4516b52f-224e-4955-8113-f0cb419efa90"
    },
    {
      "cell_type": "markdown",
      "metadata": {},
      "source": [
        "선언된 값을 확인하려면?"
      ],
      "id": "a242be85-e07f-40fb-be70-9b24e02afa24"
    },
    {
      "cell_type": "code",
      "execution_count": 100,
      "metadata": {},
      "outputs": [],
      "source": [
        "a"
      ],
      "id": "bbab3d3e-5807-4277-b059-d0e4423f8469"
    },
    {
      "cell_type": "code",
      "execution_count": 101,
      "metadata": {},
      "outputs": [],
      "source": [
        "b"
      ],
      "id": "b65fff83-9f68-46cc-a29b-b9009c101adf"
    },
    {
      "cell_type": "code",
      "execution_count": 102,
      "metadata": {},
      "outputs": [],
      "source": [
        "c"
      ],
      "id": "be67bc0a-e059-407f-aa49-e2621b86ac6c"
    },
    {
      "cell_type": "markdown",
      "metadata": {},
      "source": [
        "튜플을 이용하면?"
      ],
      "id": "f4851a7e-f87d-47b9-910d-f3022b46c6a7"
    },
    {
      "cell_type": "code",
      "execution_count": 103,
      "metadata": {},
      "outputs": [],
      "source": [
        "a,b,c # 괄호하나 생략하는것이 이렇게 편하다.."
      ],
      "id": "c124cf99-203f-492d-908c-8d22389f6dcc"
    },
    {
      "cell_type": "markdown",
      "metadata": {},
      "source": [
        "`#`\n",
        "\n",
        "`# 예제2` – 다중할당1 (여러개의 변수를 동시에 선언하고 싶을 경우)\n",
        "\n",
        "아래와 같이 `=`를 5번 쓰면 5개의 변수를 선언할 수 있다."
      ],
      "id": "f6757da1-d106-4a34-9791-326f1309f0ec"
    },
    {
      "cell_type": "code",
      "execution_count": 105,
      "metadata": {},
      "outputs": [],
      "source": [
        "name = 'Tom'\n",
        "age = 20 \n",
        "sex = 'M'\n",
        "height = 180\n",
        "weight = 70"
      ],
      "id": "e06fd9ce-ca89-4623-8e8f-94078a244262"
    },
    {
      "cell_type": "markdown",
      "metadata": {},
      "source": [
        "튜플을 이용하면 좀더 간단히 하나의 `=` 로도 아래와 같이 선언할 수 있다."
      ],
      "id": "aa726768-3f0c-473a-916b-9dcff6ec03e7"
    },
    {
      "cell_type": "code",
      "execution_count": 115,
      "metadata": {},
      "outputs": [],
      "source": [
        "name, age, sex, height, weight = 'Tom', 20, 'M', 180, 70  # 다중할당"
      ],
      "id": "d7e97b65-32d7-4c80-a748-fb91611377a7"
    },
    {
      "cell_type": "markdown",
      "metadata": {},
      "source": [
        "`#`\n",
        "\n",
        "`# 예제2` – 다중할당2, 위도와 경도"
      ],
      "id": "6c8729ca-87e4-4a00-9e90-f96bcfbe1929"
    },
    {
      "cell_type": "code",
      "execution_count": 107,
      "metadata": {},
      "outputs": [],
      "source": [
        "coor = (37,127) # 서울 \n",
        "coor"
      ],
      "id": "30ac2fbf-3593-46f5-8a5e-088ec076fb5c"
    },
    {
      "cell_type": "code",
      "execution_count": 114,
      "metadata": {},
      "outputs": [],
      "source": [
        "lat, long = coor # 다중할당"
      ],
      "id": "ab1b9b14-a9f2-4b16-b6c6-616b9ecd781d"
    },
    {
      "cell_type": "code",
      "execution_count": 112,
      "metadata": {},
      "outputs": [],
      "source": [
        "lat "
      ],
      "id": "216bccd1-bc06-42da-ae64-4f115614660a"
    },
    {
      "cell_type": "code",
      "execution_count": 113,
      "metadata": {},
      "outputs": [],
      "source": [
        "long "
      ],
      "id": "387ca6ac-ab06-4fc8-9ca9-f50dbf29ff70"
    },
    {
      "cell_type": "markdown",
      "metadata": {},
      "source": [
        "`#`\n",
        "\n",
        "`# 잠깐만` – 다중할당은 꼭 튜플에서만 가능한가?\n",
        "\n",
        "그건 아니다…"
      ],
      "id": "60d51ccc-e1ec-436b-88d3-f495a741c9cf"
    },
    {
      "cell_type": "code",
      "execution_count": 30,
      "metadata": {},
      "outputs": [],
      "source": [
        "[x,y,z] = [1,2,3] \n",
        "x,y,z # 다중출력 "
      ],
      "id": "215d531c-4b73-4aae-a010-7742127327c5"
    },
    {
      "cell_type": "code",
      "execution_count": 31,
      "metadata": {},
      "outputs": [],
      "source": [
        "[x,y] = 'hi'\n",
        "x,y "
      ],
      "id": "b47781c8-78ee-48bd-9fe2-1def9e20a0eb"
    },
    {
      "cell_type": "markdown",
      "metadata": {},
      "source": [
        "튜플과 같이 사용하면 가독성이 극대화 (그래서 다중할당은 거의 튜플과\n",
        "세트로 사용함)"
      ],
      "id": "db16c46b-ea68-4f42-9f65-6f1d3716c5d1"
    },
    {
      "cell_type": "code",
      "execution_count": 32,
      "metadata": {},
      "outputs": [],
      "source": [
        "x,y,z = 1,2,3\n",
        "x,y,z # 다중출력 "
      ],
      "id": "ebb3bc81-5aec-4659-8788-054845261230"
    },
    {
      "cell_type": "code",
      "execution_count": 33,
      "metadata": {},
      "outputs": [],
      "source": [
        "x,y = 'hi'\n",
        "x,y "
      ],
      "id": "9cbf8fed-fc2b-4d6f-b9e1-16437dc3edc7"
    },
    {
      "cell_type": "markdown",
      "metadata": {},
      "source": [
        "`#`\n",
        "\n",
        "`# 예제` – 임시변수 사용없이 두 변수의 값을 교환"
      ],
      "id": "b73ea8da-daa1-4325-8ce6-87c13ef647ef"
    },
    {
      "cell_type": "code",
      "execution_count": 144,
      "metadata": {},
      "outputs": [],
      "source": [
        "a=10\n",
        "b=20"
      ],
      "id": "009c8c53-1f14-48b9-8449-fb44db9cdcf3"
    },
    {
      "cell_type": "code",
      "execution_count": 145,
      "metadata": {},
      "outputs": [],
      "source": [
        "a,b"
      ],
      "id": "f3e24a3e-8a68-49d1-ba07-e5ce661a9539"
    },
    {
      "cell_type": "code",
      "execution_count": 146,
      "metadata": {},
      "outputs": [],
      "source": [
        "a,b = b,a "
      ],
      "id": "36b35c3b-12ce-4c71-ab0c-dc25b0351cbb"
    },
    {
      "cell_type": "code",
      "execution_count": 147,
      "metadata": {},
      "outputs": [],
      "source": [
        "a,b"
      ],
      "id": "27f38f59-872f-4ef7-9dc4-1bc866e419de"
    },
    {
      "cell_type": "markdown",
      "metadata": {},
      "source": [
        "`#`\n",
        "\n",
        "`# 예제` – for문과 튜플"
      ],
      "id": "177b1a73-1f29-4d12-9657-d8b3245cc41e"
    },
    {
      "cell_type": "code",
      "execution_count": 148,
      "metadata": {},
      "outputs": [],
      "source": [
        "lst = [['guebin', 202112345, 'M'],\n",
        "       ['iu',202254321, 'F'],\n",
        "       ['hodong', 202011223, 'M']]\n",
        "lst"
      ],
      "id": "0a4a05d6-fb2b-4b88-9f6e-186e90cf5ba1"
    },
    {
      "cell_type": "code",
      "execution_count": 149,
      "metadata": {},
      "outputs": [],
      "source": [
        "lst[0]"
      ],
      "id": "ae113f21-9c20-4c8f-8738-6f9fa7b548ec"
    },
    {
      "cell_type": "code",
      "execution_count": 39,
      "metadata": {},
      "outputs": [
        {
          "output_type": "stream",
          "name": "stdout",
          "text": [
            "guebin M\n",
            "iu F\n",
            "hodong M"
          ]
        }
      ],
      "source": [
        "for name,studentid,sex in lst: \n",
        "    print(name,sex)"
      ],
      "id": "37226fd2-1de6-44b4-a6f7-a79027061ada"
    },
    {
      "cell_type": "markdown",
      "metadata": {},
      "source": [
        "`#`\n",
        "\n",
        "`# 예제` – for문과 튜플, dummy variable `_`"
      ],
      "id": "5b7ad530-8efe-408c-ace3-0e1ab74c8d54"
    },
    {
      "cell_type": "code",
      "execution_count": 155,
      "metadata": {},
      "outputs": [
        {
          "output_type": "stream",
          "name": "stdout",
          "text": [
            "202112345\n",
            "202254321\n",
            "202011223"
          ]
        }
      ],
      "source": [
        "for name,studentid,sex in lst: \n",
        "    print(studentid)"
      ],
      "id": "8dcfbdf1-fbd6-4409-b882-a0c9e1fddae3"
    },
    {
      "cell_type": "code",
      "execution_count": 156,
      "metadata": {},
      "outputs": [
        {
          "output_type": "stream",
          "name": "stdout",
          "text": [
            "202112345\n",
            "202254321\n",
            "202011223"
          ]
        }
      ],
      "source": [
        "for _,studentid,_ in lst: \n",
        "    print(studentid)"
      ],
      "id": "731c9eaa-81f0-4d1b-872d-092e6df6b949"
    },
    {
      "cell_type": "code",
      "execution_count": 157,
      "metadata": {},
      "outputs": [
        {
          "output_type": "stream",
          "name": "stdout",
          "text": [
            "M\n",
            "F\n",
            "M"
          ]
        }
      ],
      "source": [
        "for _,_,sex in lst: \n",
        "    print(sex)"
      ],
      "id": "99874b09-1cf1-4f09-9c60-9395266e4271"
    },
    {
      "cell_type": "code",
      "execution_count": 158,
      "metadata": {},
      "outputs": [
        {
          "output_type": "stream",
          "name": "stdout",
          "text": [
            "guebin M\n",
            "iu F\n",
            "hodong M"
          ]
        }
      ],
      "source": [
        "for name,_,sex in lst: \n",
        "    print(name,sex)"
      ],
      "id": "9a955f19-a1ec-4306-b7aa-bb6093fed94b"
    },
    {
      "cell_type": "code",
      "execution_count": 168,
      "metadata": {},
      "outputs": [
        {
          "output_type": "stream",
          "name": "stdout",
          "text": [
            "guebin\n",
            "iu\n",
            "hodong"
          ]
        }
      ],
      "source": [
        "for name,_,_  in lst: \n",
        "    print(name)"
      ],
      "id": "acd8135e-715a-4e16-8aa3-c80dcdc0a65a"
    },
    {
      "cell_type": "markdown",
      "metadata": {},
      "source": [
        "`#`\n",
        "\n",
        "`# 예제` – 튜플과 언패킹연산자 `*`\n",
        "\n",
        "아래와 같이 관심없는것 모두를 other라는 이름으로 받을 수 있음"
      ],
      "id": "915186c3-41fe-4007-adf1-2087134985cd"
    },
    {
      "cell_type": "code",
      "execution_count": 167,
      "metadata": {},
      "outputs": [
        {
          "output_type": "stream",
          "name": "stdout",
          "text": [
            "guebin [202112345, 'M']\n",
            "iu [202254321, 'F']\n",
            "hodong [202011223, 'M']"
          ]
        }
      ],
      "source": [
        "for name,*other  in lst: \n",
        "    print(name,other)"
      ],
      "id": "0118fe47-fa2c-48ff-a9f7-751887fbebcb"
    },
    {
      "cell_type": "markdown",
      "metadata": {},
      "source": [
        "`*`의 동작을 더 세심히 살펴보자."
      ],
      "id": "9044ee40-a0f3-4371-9f66-94b8619a9379"
    },
    {
      "cell_type": "code",
      "execution_count": 186,
      "metadata": {},
      "outputs": [],
      "source": [
        "head, body, *tail = range(1,11) \n",
        "head, body, tail"
      ],
      "id": "7971d3d2-b024-4484-a6ba-bf1c1d080eb1"
    },
    {
      "cell_type": "code",
      "execution_count": 11,
      "metadata": {},
      "outputs": [],
      "source": [
        "head1,head2, *body, tail1,tail2,tail3 = range(1,11) \n",
        "head1,head2, body, tail1,tail2,tail3 "
      ],
      "id": "dace6635-9b0c-46d5-a90f-25cde76bc62e"
    },
    {
      "cell_type": "code",
      "execution_count": 12,
      "metadata": {},
      "outputs": [],
      "source": [
        "*head, body, tail = range(1,11) \n",
        "head, body, tail"
      ],
      "id": "dd5f0201-90b3-46ca-aa52-e3e9e6b10dc7"
    },
    {
      "cell_type": "markdown",
      "metadata": {},
      "source": [
        "(관찰)\n",
        "\n",
        "그러고 보니까..\n",
        "\n",
        "``` python\n",
        "[*head, body, tail] = [1,2,3,4,5,6,7,8,9,10] \n",
        "[head, body, tail] = [[1,2,3,4,5,6,7,8],9,10] \n",
        "```\n",
        "\n",
        "이렇다는 거잖아?\n",
        "\n",
        "`*`를 붙이면 1차원 자료구조가 풀린다..?"
      ],
      "id": "c043f8d7-2633-4b01-a276-79170ca400b8"
    },
    {
      "cell_type": "code",
      "execution_count": 24,
      "metadata": {},
      "outputs": [],
      "source": [
        "[1,2,[1,2,3]]"
      ],
      "id": "bd00a823-8723-47cd-bdbc-5cf82ac79a48"
    },
    {
      "cell_type": "code",
      "execution_count": 25,
      "metadata": {},
      "outputs": [],
      "source": [
        "[1,2,*[1,2,3]]"
      ],
      "id": "09ea5c01-ec72-4aae-b343-061b7fcea2a9"
    },
    {
      "cell_type": "markdown",
      "metadata": {},
      "source": [
        "`-` 단독사용은 불가능"
      ],
      "id": "05fe252f-46ff-4aa3-bbac-d47777fd3cb0"
    },
    {
      "cell_type": "code",
      "execution_count": 187,
      "metadata": {},
      "outputs": [],
      "source": [
        "*[1,2,3]"
      ],
      "id": "1d901025-3830-45ba-b09e-72544a68addb"
    },
    {
      "cell_type": "markdown",
      "metadata": {},
      "source": [
        "## F. 튜플을 왜 쓸까? – 제 생각..\n",
        "\n",
        "`-` 질문: 리스트를 쓰지 않고 왜 튜플을 써야하나?\n",
        "\n",
        "`-` 답변1: (책의 설명)\n",
        "\n",
        "-   초보적인 설명: 실수방지\n",
        "-   더 정확한 설명: 빠르다, 여러사람과 작업하기 유리하다,\n",
        "    깊은복사/얕은복사시 원하지 않는 오류 (side effect 이라고 함) 방지\n",
        "\n",
        "`-` 답변2: 괄호를 생략할 수 있기 때문에, 리스트 말고 튜플을 쓰면 편함.\n",
        "\n",
        "-   소괄호의 생략 + 언패킹 $\\Rightarrow$ 엄청난 가독성.\n",
        "-   컴공과 사람들 의견: 튜플 + 언패킹 $\\Rightarrow$ 엄청난 가독성\n",
        "    $\\Rightarrow$ 충격 $\\Rightarrow$ “파이썬 편하더라고요..”\n",
        "\n",
        "`-` 근본적인 의문: 파이썬을 처음 만들때 리스트에 괄호를 생략하는 기능을\n",
        "추가했으면 편했잖아?\n",
        "\n",
        "`-` 저의 설명: `리스트=신라면`, `튜플=라면사리` 같은 느낌으로 이해하면\n",
        "된다. 불변형(튜플)은 기능제한이 있는데, 가변형(리스트)는 기능이\n",
        "풍부하다. 대신에, 가변형은 느리고 무겁다.\n",
        "\n",
        "-   기능적으로만 보면, 신라면이 있으면 스프를 버리고 라면사리를 얻을 수\n",
        "    있음, 그래서 라면사리는 필요없음.\n",
        "-   그런데 신라면에서 스프를 버려서 라면사리를 항상 얻는다면,\n",
        "    비효율적임.\n",
        "-   우리가 원하는게 (1) 원소를 벡터형태로 모은뒤 (2) 벡터자체를\n",
        "    출력해보고 (3) 각 원소를 `sort`하고 (4) 원소를 추가 `append`하고 (5)\n",
        "    원소를 삭제 `remove` 하는 것 일수도 있음. 그렇지만 진짜 단순하게\n",
        "    (1),(2) 만 원할수도있음.\n",
        "-   단순히 (1)-(2)의 목적으로 리스트를 사용하는건 비효율적이니까\n",
        "    불변형인 튜플을 만듦. (1)-(2)를 사용함에 있어서 편리성을 극대화\n",
        "    하기위해 괄호도 생략하게 해줌."
      ],
      "id": "2b4d7b8f-0a15-4d2d-9138-3ae63c819560"
    },
    {
      "cell_type": "code",
      "execution_count": 208,
      "metadata": {},
      "outputs": [],
      "source": [
        "def mycal(a,b):\n",
        "    return a+b, a-b, a*b, a/b # 여러개의 값을 리턴하는듯 보임 -> 사실은 길이가 4인 튜플 1개를 리턴"
      ],
      "id": "2d50ad84-b023-49df-8fc9-31a8b3b5d849"
    },
    {
      "cell_type": "code",
      "execution_count": 207,
      "metadata": {},
      "outputs": [],
      "source": [
        "mycal(1,2)"
      ],
      "id": "82bcfb1f-2665-4ae0-ab99-67c238530da0"
    },
    {
      "cell_type": "code",
      "execution_count": 209,
      "metadata": {},
      "outputs": [],
      "source": [
        "_,_,mul,_ = mycal(1,2)"
      ],
      "id": "24c4226d-a6db-45ce-89a5-29c48b7bb87a"
    },
    {
      "cell_type": "code",
      "execution_count": 210,
      "metadata": {},
      "outputs": [],
      "source": [
        "mul"
      ],
      "id": "bb5e3cd5-7656-4bc5-ad51-1fee31a4827e"
    },
    {
      "cell_type": "markdown",
      "metadata": {},
      "source": [
        "## G. 연습문제들\n",
        "\n",
        "`#`. 길이가 1인 튜플을 만들어 자신의 학번을 저장하라. 길이가 1인 튜플을\n",
        "만들어 자신의 영문이름을 저장하라. 두 튜플을 + 연산자로 합쳐아래와 같은\n",
        "출력결과를 얻어라. 최종 결과는 예를들면 아래와 같아야 한다."
      ],
      "id": "0f26e00a-2641-4896-ad39-f4c8bf8c2557"
    },
    {
      "cell_type": "code",
      "execution_count": 77,
      "metadata": {},
      "outputs": [],
      "source": [
        "('2021-43052', 'GuebinChoi')"
      ],
      "id": "594ac777-5b55-454d-b3e6-c04fc66b9ebc"
    },
    {
      "cell_type": "markdown",
      "metadata": {},
      "source": [
        "(풀이)"
      ],
      "id": "c1426e99-a4c7-42f4-9a68-54e5890a67bf"
    },
    {
      "cell_type": "code",
      "execution_count": 212,
      "metadata": {},
      "outputs": [],
      "source": [
        "sid = ('2021-43052',)\n",
        "name = ('GuebinChoi',)"
      ],
      "id": "b04e1d4f-721b-4f9c-8952-cd94727a8faa"
    },
    {
      "cell_type": "code",
      "execution_count": 214,
      "metadata": {},
      "outputs": [],
      "source": [
        "sid+name"
      ],
      "id": "a9c12a4c-6881-4b7e-a7cf-6263b1ddf986"
    },
    {
      "cell_type": "markdown",
      "metadata": {},
      "source": [
        "`파이썬프로그래밍 수강생`. 아래는 파이썬프로그래밍 수강생들의 학번,\n",
        "이름, 출석점수, 과제점수, 중간고사점수, 기말고사점수를 저장한\n",
        "중첩리스트이다."
      ],
      "id": "6c488f58-c63a-42a5-a58c-a8a0d6071a49"
    },
    {
      "cell_type": "code",
      "execution_count": 215,
      "metadata": {},
      "outputs": [],
      "source": [
        "lst = [['2021-43052', 'GuebinChoi', 5, 10, 20, 25],\n",
        "       ['2019-12342', 'Heung-min Son', 10, 15, 30, 15],\n",
        "       ['2018-32234', 'hynn', 7, 20, 30, 15],\n",
        "       ['2022-42323', 'Minji', 8, 20, 20, 35],\n",
        "       ['2023-55342', 'Hanni', 7, 20, 30, 35],\n",
        "       ['2022-46624', 'Danielle', 3, 15, 30, 40],\n",
        "       ['2022-11239', 'Haerin', 10, 20, 30, 40],\n",
        "       ['2022-32114', 'Hyein', 10, 20, 20, 35]]\n",
        "lst "
      ],
      "id": "fe05b59e-a5a6-49e7-83e0-a3cdfac5e2cf"
    },
    {
      "cell_type": "markdown",
      "metadata": {},
      "source": [
        "`#`. 파이썬프로그래밍 수강생의 수는 모두 몇명인가?\n",
        "\n",
        "(풀이)"
      ],
      "id": "d7784e5c-d63f-46b9-ae09-4b07f53e300c"
    },
    {
      "cell_type": "code",
      "execution_count": 217,
      "metadata": {},
      "outputs": [],
      "source": [
        "len(lst)"
      ],
      "id": "92d0eac9-1e03-43ee-80d1-7f32e216e708"
    },
    {
      "cell_type": "markdown",
      "metadata": {},
      "source": [
        "`#`. 전북대학교 지침에 따라 출석점수가 7보다 작은 학생은 (즉\n",
        "`출석점수 < 7` 일 경우) F학점을 부여하게 되어있다. 이 기준에 따르면 F를\n",
        "받는 학생은 모두 몇명인가?\n",
        "\n",
        "(풀이)"
      ],
      "id": "c291aca5-82ee-4743-8b6a-5af46d8d7b83"
    },
    {
      "cell_type": "code",
      "execution_count": 221,
      "metadata": {},
      "outputs": [],
      "source": [
        "sum([att<7 for _,_,att,*other in lst])"
      ],
      "id": "58ed0d42-3d28-42fd-b2a1-e1429f04ad76"
    },
    {
      "cell_type": "markdown",
      "metadata": {},
      "source": [
        "`#`. 파이썬프로그래밍 수업의 경우 `출석+레포트 < 21` 일 경우 F학점을\n",
        "부여한다고 한다. 이 기준에 따르면 F를 받는 학생은 모두 몇명인가?\n",
        "\n",
        "(풀이)"
      ],
      "id": "00b17ae7-cc37-4954-8d10-7cbc12dfc3ba"
    },
    {
      "cell_type": "code",
      "execution_count": 232,
      "metadata": {},
      "outputs": [],
      "source": [
        "sum([att+rep<21 for _,_,att,rep,*other in lst])"
      ],
      "id": "6b9fc593-3ec4-4f46-a7ec-a98a8eb77183"
    },
    {
      "cell_type": "markdown",
      "metadata": {},
      "source": [
        "`#`. 리스트의 정렬순서를 \\[학번, 이름, …, 기말고사점수\\] 가 아니라\n",
        "\\[이름, 학번, … , 기말고사점수\\] 와 같이 되도록 변경하는 코드를\n",
        "작성하라.\n",
        "\n",
        "(출력예시)"
      ],
      "id": "f5963a98-e123-4e3f-b980-d8a9d02ad645"
    },
    {
      "cell_type": "code",
      "execution_count": 234,
      "metadata": {},
      "outputs": [],
      "source": [
        "[['GuebinChoi', '2021-43052', 5, 10, 20, 25],\n",
        " ['Heung-min Son', '2019-12342', 10, 15, 30, 15],\n",
        " ['hynn', '2018-32234', 7, 20, 30, 15],\n",
        " ['Minji', '2022-42323', 8, 20, 20, 35],\n",
        " ['Hanni', '2023-55342', 7, 20, 30, 35],\n",
        " ['Danielle', '2022-46624', 3, 15, 30, 40],\n",
        " ['Haerin', '2022-11239', 10, 20, 30, 40],\n",
        " ['Hyein', '2022-32114', 10, 20, 20, 35]]"
      ],
      "id": "1bf7128f-cbe9-4cc7-a71a-1578858754f4"
    },
    {
      "cell_type": "markdown",
      "metadata": {},
      "source": [
        "(풀이)"
      ],
      "id": "bb131bab-e200-46ab-b65c-4f5ca15c6fa5"
    },
    {
      "cell_type": "code",
      "execution_count": 237,
      "metadata": {},
      "outputs": [],
      "source": [
        "[[name,sid,*other] for sid,name,*other in lst]"
      ],
      "id": "e2217285-4fb4-422c-91c2-1a3b6b1f23b0"
    },
    {
      "cell_type": "markdown",
      "metadata": {},
      "source": [
        "# 4. 잡기술 (하지만 유용해)\n",
        "\n",
        "## A. 인덱싱고급 (스트라이딩)\n",
        "\n",
        "`-` 스트라이딩 \\[start:end:step\\]"
      ],
      "id": "2e3076bd-bf11-494a-afd7-7a54906a3414"
    },
    {
      "cell_type": "code",
      "execution_count": 240,
      "metadata": {},
      "outputs": [],
      "source": [
        "lst = list('abcdefghijk')\n",
        "lst"
      ],
      "id": "1932c6a3-f1d0-4060-80ac-ad1a035e5b1c"
    },
    {
      "cell_type": "code",
      "execution_count": 245,
      "metadata": {},
      "outputs": [],
      "source": [
        "len(lst)"
      ],
      "id": "913feff7-e56b-42d3-bedb-d10fb1c9413c"
    },
    {
      "cell_type": "code",
      "execution_count": 255,
      "metadata": {},
      "outputs": [],
      "source": [
        "lst[0:9:2]"
      ],
      "id": "83bafeb5-fd04-41d8-9d6d-d895d6ea0d31"
    },
    {
      "cell_type": "markdown",
      "metadata": {},
      "source": [
        "`-` 생략"
      ],
      "id": "f53bd9e5-175c-4050-9b40-96f679ba7bc0"
    },
    {
      "cell_type": "code",
      "execution_count": 22,
      "metadata": {},
      "outputs": [],
      "source": [
        "lst[0:9]\n",
        "#lst[0:9:]\n",
        "#lst[0:9:1]"
      ],
      "id": "d54c5326-b443-4f6a-a242-70a41bbe969b"
    },
    {
      "cell_type": "code",
      "execution_count": 256,
      "metadata": {},
      "outputs": [],
      "source": [
        "lst[1::3]"
      ],
      "id": "6c0f0814-195e-4838-8e7f-4aee98933d02"
    },
    {
      "cell_type": "code",
      "execution_count": 257,
      "metadata": {},
      "outputs": [],
      "source": [
        "lst[:8:3]"
      ],
      "id": "a4a62f96-00b1-42e2-abcc-0f5d998c33d6"
    },
    {
      "cell_type": "markdown",
      "metadata": {},
      "source": [
        "`# 예제1`: 짝수/홀수 원소 추출\n",
        "\n",
        "아래와 같은 문자열이 있다고 하자."
      ],
      "id": "5d8f843b-97bf-4303-94ea-9ee8b566ff9d"
    },
    {
      "cell_type": "code",
      "execution_count": 26,
      "metadata": {},
      "outputs": [],
      "source": [
        "lst = list('abcdefghijk')\n",
        "lst"
      ],
      "id": "6c054bfd-339c-4a8a-8420-c84ad44a224f"
    },
    {
      "cell_type": "markdown",
      "metadata": {},
      "source": [
        "`index = 0,2,4, ...` 에 해당하는 원소를 출력하라."
      ],
      "id": "899b408c-a2ae-4363-a8ba-bd4f8aaec1f3"
    },
    {
      "cell_type": "code",
      "execution_count": 258,
      "metadata": {},
      "outputs": [],
      "source": [
        "lst[::2]"
      ],
      "id": "a0684eb6-29fe-43af-9a2e-baa3265fff3d"
    },
    {
      "cell_type": "markdown",
      "metadata": {},
      "source": [
        "`index = 1,4,7 ...` 에 해당하는 원소를 출력하라."
      ],
      "id": "26e405d2-e3a1-4c56-bf8e-c64c994d18cd"
    },
    {
      "cell_type": "code",
      "execution_count": 259,
      "metadata": {},
      "outputs": [],
      "source": [
        "lst[1::3]"
      ],
      "id": "71b30f62-3d03-4c18-af52-7c74d81f24df"
    },
    {
      "cell_type": "markdown",
      "metadata": {},
      "source": [
        "`#`\n",
        "\n",
        "`# 예제2` – 세로로..\n",
        "\n",
        "------------------------------------------------------------------------\n",
        "\n",
        "(예제2를 위한 예비학습) 문자열에서 `\\n`을 출력하면 출력시 줄바꿈이\n",
        "일어난다."
      ],
      "id": "3e81f714-0a1d-4130-9db1-dd5839e4c369"
    },
    {
      "cell_type": "code",
      "execution_count": 264,
      "metadata": {},
      "outputs": [
        {
          "output_type": "stream",
          "name": "stdout",
          "text": [
            "1행\n",
            "2행\n",
            "3행"
          ]
        }
      ],
      "source": [
        "print('1행\\n2행\\n3행')"
      ],
      "id": "bcc38d0b-cb43-4be9-842c-fc153693e9d5"
    },
    {
      "cell_type": "markdown",
      "metadata": {},
      "source": [
        "예비학습 끝\n",
        "\n",
        "------------------------------------------------------------------------\n",
        "\n",
        "아래와 같은 문자열이 있다고 하자."
      ],
      "id": "f007ae9a-5485-43ed-a219-5ef075c28c8c"
    },
    {
      "cell_type": "code",
      "execution_count": 265,
      "metadata": {},
      "outputs": [
        {
          "output_type": "stream",
          "name": "stdout",
          "text": [
            "너같이사랑스럽고\n",
            "또예쁘고도멋지고\n",
            "속훤히보이는너알\n",
            "았어그동안고마웠\n",
            "지정말정말사랑해"
          ]
        }
      ],
      "source": [
        "txt = '너같이사랑스럽고\\n또예쁘고도멋지고\\n속훤히보이는너알\\n았어그동안고마웠\\n지정말정말사랑해'\n",
        "print(txt)"
      ],
      "id": "e8503b52-61bf-4213-a827-cce5fb9078f5"
    },
    {
      "cell_type": "markdown",
      "metadata": {},
      "source": [
        "위 문자열을 세로로 읽는 코드를 작성하라. (9칸씩 점프하면서 읽으면 된다)\n",
        "\n",
        "(풀이)"
      ],
      "id": "6bf12f12-c734-4680-b1d0-af4c8fd78fb8"
    },
    {
      "cell_type": "code",
      "execution_count": 267,
      "metadata": {},
      "outputs": [],
      "source": [
        "txt[::9]"
      ],
      "id": "9c202bef-336d-48e7-bf1c-b3d9a2a51544"
    },
    {
      "cell_type": "markdown",
      "metadata": {},
      "source": [
        "`#`\n",
        "\n",
        "`-` step = -1 이면?"
      ],
      "id": "4f48bc1c-9ca8-4090-b508-ef34217c7def"
    },
    {
      "cell_type": "code",
      "execution_count": 268,
      "metadata": {},
      "outputs": [],
      "source": [
        "lst"
      ],
      "id": "6daba8b7-77db-4a3b-900e-0392692d366d"
    },
    {
      "cell_type": "code",
      "execution_count": 270,
      "metadata": {},
      "outputs": [],
      "source": [
        "lst[::-1]"
      ],
      "id": "2cdeb3f2-e84a-4311-b71a-481888eff7fd"
    },
    {
      "cell_type": "markdown",
      "metadata": {},
      "source": [
        "`-` 스트라이딩으로 `step = -1` 옵션 주기 vs 리스트의 `.reverse()` 메소드\n",
        "이용하기\n",
        "\n",
        "관찰1: reverse 메소드는 리스트 자체를 변화시킴"
      ],
      "id": "bbcc6f9e-d076-4dc3-bc06-db8f6f01f1cc"
    },
    {
      "cell_type": "code",
      "execution_count": 281,
      "metadata": {},
      "outputs": [],
      "source": [
        "lst = list('abcdefgh')\n",
        "lst"
      ],
      "id": "cbf92f52-5662-4b91-986c-5ad3b991008f"
    },
    {
      "cell_type": "code",
      "execution_count": 282,
      "metadata": {},
      "outputs": [],
      "source": [
        "lst.reverse()  \n",
        "lst"
      ],
      "id": "bb3f7a99-1ffb-437b-8465-d8f19ea8a90a"
    },
    {
      "cell_type": "markdown",
      "metadata": {},
      "source": [
        "관찰2: \\[::-1\\]는 리스트는 변화시키지 않음"
      ],
      "id": "abc39b1e-e38c-4dcd-86ee-856e386c2a23"
    },
    {
      "cell_type": "code",
      "execution_count": 283,
      "metadata": {},
      "outputs": [],
      "source": [
        "lst = list('abcdefgh')\n",
        "lst"
      ],
      "id": "7ad2416b-2888-4fb7-8c01-21505fcc9bfd"
    },
    {
      "cell_type": "code",
      "execution_count": 284,
      "metadata": {},
      "outputs": [],
      "source": [
        "lst[::-1]"
      ],
      "id": "b64f0c1c-abd5-4818-b59a-ff9d13a087a0"
    },
    {
      "cell_type": "code",
      "execution_count": 285,
      "metadata": {},
      "outputs": [],
      "source": [
        "lst"
      ],
      "id": "29b8ebe3-f154-458b-a92a-2879a50c2fc9"
    },
    {
      "cell_type": "markdown",
      "metadata": {},
      "source": [
        "`-` -step 은 쓰기 까다롭다.\n",
        "\n",
        "(예제) 처음과 끝을 생략하지 않고 아래와 동일한 효과를 주는 코드를 만들어\n",
        "보자.\n",
        "\n",
        "(풀이)\n",
        "\n",
        "결국 lst\\[?:?:-1\\]의 꼴에서 적당히 ?의 값을 채우면 된다. –\\> 어려워"
      ],
      "id": "6cae4fee-5f2a-4827-a110-ad0e27b7ff84"
    },
    {
      "cell_type": "code",
      "execution_count": 298,
      "metadata": {},
      "outputs": [],
      "source": [
        "lst"
      ],
      "id": "8d18836d-dd17-4ea9-977d-b7608045eec4"
    },
    {
      "cell_type": "code",
      "execution_count": 299,
      "metadata": {},
      "outputs": [],
      "source": [
        "lst[::-1]"
      ],
      "id": "81ce7a11-3588-4e4c-bbc2-a4116294f4e7"
    },
    {
      "cell_type": "markdown",
      "metadata": {},
      "source": [
        "| None |  a  |  b  |  c  |  d  |  e  |  f  |  g  |  h  | None |\n",
        "|:----:|:---:|:---:|:---:|:---:|:---:|:---:|:---:|:---:|:----:|\n",
        "|  ?   |  0  |  1  |  2  |  3  |  4  |  5  |  6  |  7  |  8   |\n",
        "|  -9  | -8  | -7  | -6  | -5  | -4  | -3  | -2  | -1  |  ?   |"
      ],
      "id": "e9a357e8-265b-4738-bfb7-d4c072f68af0"
    },
    {
      "cell_type": "code",
      "execution_count": 300,
      "metadata": {},
      "outputs": [],
      "source": [
        "lst[-1:-9:-1]  # 지양 <-- 쓰지마.."
      ],
      "id": "e0e2eecf-ad1e-4b9c-8f6e-208e5a9f241b"
    },
    {
      "cell_type": "markdown",
      "metadata": {},
      "source": [
        "## B. len함수\n",
        "\n",
        "`-` 0차원 자료형은 len함수가 동작하지 않음"
      ],
      "id": "5c2d5855-9ce8-424c-9935-7946b6a6948b"
    },
    {
      "cell_type": "code",
      "execution_count": 302,
      "metadata": {},
      "outputs": [],
      "source": [
        "a=1 \n",
        "len(a)"
      ],
      "id": "c595a23e-64ed-48b7-a665-a792ddd038ca"
    },
    {
      "cell_type": "code",
      "execution_count": 303,
      "metadata": {},
      "outputs": [],
      "source": [
        "a=True\n",
        "len(a)"
      ],
      "id": "78214b2d-63f8-466b-b986-dcec71442306"
    },
    {
      "cell_type": "code",
      "execution_count": 304,
      "metadata": {},
      "outputs": [],
      "source": [
        "a=3.14\n",
        "len(a)"
      ],
      "id": "186a506d-459a-4279-b998-72d426f570bb"
    },
    {
      "cell_type": "markdown",
      "metadata": {},
      "source": [
        "> note: 이것이 어떠한 수학적인 의미를 가지거나 0차원의 본질적진리를\n",
        "> 뜻하는 것은 아님. R에서는 1,3.14,TRUE의 길이가 1로 존재함.\n",
        "\n",
        "`-` 1차원 자료형은 len함수가 동작"
      ],
      "id": "26e3c8ce-e0bc-4a6f-b541-761cb584d977"
    },
    {
      "cell_type": "code",
      "execution_count": 305,
      "metadata": {},
      "outputs": [],
      "source": [
        "a='guebin'\n",
        "len(a)"
      ],
      "id": "2e84727f-9407-4130-980a-2dcb7ac04b21"
    },
    {
      "cell_type": "code",
      "execution_count": 306,
      "metadata": {},
      "outputs": [],
      "source": [
        "a=[1,2,3,4,5,6]\n",
        "len(a)"
      ],
      "id": "d07300c7-e42d-4ebe-b0f7-3ab192bd9fab"
    },
    {
      "cell_type": "code",
      "execution_count": 307,
      "metadata": {},
      "outputs": [],
      "source": [
        "a=1,2,3,4,5,6 \n",
        "len(a)"
      ],
      "id": "77633684-46a3-41e7-ba6f-10aaef7d5a93"
    },
    {
      "cell_type": "code",
      "execution_count": 309,
      "metadata": {},
      "outputs": [],
      "source": [
        "a=range(10)\n",
        "len(a)"
      ],
      "id": "42f1e96a-cb94-4e0f-9495-e316cc875a1d"
    },
    {
      "cell_type": "markdown",
      "metadata": {},
      "source": [
        "`-` 길이가 1인 1차원 자료형과 0차원 자료형은 다른것임"
      ],
      "id": "2d5aed29-cce6-4524-ad41-d46c43eb33fc"
    },
    {
      "cell_type": "code",
      "execution_count": 310,
      "metadata": {},
      "outputs": [],
      "source": [
        "a='g'\n",
        "len(a)"
      ],
      "id": "ca864850-1a82-4ebe-9700-54aaa4ce546f"
    },
    {
      "cell_type": "code",
      "execution_count": 311,
      "metadata": {},
      "outputs": [],
      "source": [
        "a=[1]\n",
        "len(a)"
      ],
      "id": "22fe6eef-be6c-4c1f-abba-89ee2e8f5118"
    },
    {
      "cell_type": "code",
      "execution_count": 312,
      "metadata": {},
      "outputs": [],
      "source": [
        "a=(1,)\n",
        "len(a)"
      ],
      "id": "b8a1fa46-9564-4c0c-b6e7-0a3e104e286a"
    },
    {
      "cell_type": "code",
      "execution_count": 313,
      "metadata": {},
      "outputs": [],
      "source": [
        "a=range(1)\n",
        "len(a)"
      ],
      "id": "d9cc91b7-06b3-4659-bc09-1ca63b6762f0"
    },
    {
      "cell_type": "markdown",
      "metadata": {},
      "source": [
        "`-` 길이가 0인 1차원 자료형도 존재함"
      ],
      "id": "c529056f-b6f7-4aa8-a5e4-86b9737caa5f"
    },
    {
      "cell_type": "code",
      "execution_count": 315,
      "metadata": {},
      "outputs": [],
      "source": [
        "a=''\n",
        "len(a)"
      ],
      "id": "2bba632f-c3d5-4451-9cc3-5005facaff00"
    },
    {
      "cell_type": "code",
      "execution_count": 316,
      "metadata": {},
      "outputs": [],
      "source": [
        "a=[]\n",
        "len(a)"
      ],
      "id": "bba2dce5-64bb-4815-8365-50dde26d18e4"
    },
    {
      "cell_type": "code",
      "execution_count": 317,
      "metadata": {},
      "outputs": [],
      "source": [
        "a=()\n",
        "len(a)"
      ],
      "id": "b1a2b80d-2bcf-465a-8f80-85398dd500c4"
    },
    {
      "cell_type": "code",
      "execution_count": 318,
      "metadata": {},
      "outputs": [],
      "source": [
        "a=range(0)\n",
        "len(a)"
      ],
      "id": "8165e893-635a-4c6f-b3c4-d472e59ba767"
    },
    {
      "cell_type": "markdown",
      "metadata": {},
      "source": [
        "# 5. `dict`\n",
        "\n",
        "## A. intro: str, list, tuple 정리\n",
        "\n",
        "`-` str, list, tuple은 모두 시퀀스형이라는 공통점이 있다. $\\to$ 원소의\n",
        "위치번호로 인덱싱이 가능"
      ],
      "id": "0f6b587a-6407-44e9-b766-5f0825f17257"
    },
    {
      "cell_type": "code",
      "execution_count": 104,
      "metadata": {},
      "outputs": [],
      "source": [
        "lst = [1,2,3,4]"
      ],
      "id": "c256a2cc-0b54-43a8-af73-79673d6cadd2"
    },
    {
      "cell_type": "code",
      "execution_count": 105,
      "metadata": {},
      "outputs": [],
      "source": [
        "lst[0] # 위치번호=0"
      ],
      "id": "0bce269e-d806-490c-a1ee-0db8d9223661"
    },
    {
      "cell_type": "code",
      "execution_count": 106,
      "metadata": {},
      "outputs": [],
      "source": [
        "lst[-1] # 위치번호=-1"
      ],
      "id": "c4bdaa18-7e4b-48bd-8383-09edede87fa7"
    },
    {
      "cell_type": "markdown",
      "metadata": {},
      "source": [
        "`-` str, list, tuple은 차이점도 존재함. 잠깐 정리해보자.\n",
        "\n",
        "***시퀀스형의 카테고리***\n",
        "\n",
        "-   컨테니어형: list, tuple\n",
        "-   균일형: str\n",
        "-   가변형: list\n",
        "-   불변형: tuple, str\n",
        "\n",
        "***표로 정리하면***\n",
        "\n",
        "|        | 컨테니어형 | 균일형 |\n",
        "|:------:|:----------:|:------:|\n",
        "| 가변형 |    list    |   .    |\n",
        "| 불변형 |   tuple    |  str   |\n",
        "\n",
        "`-` 시퀀스형이 아닌 1차원 자료형도 있을까? 원소의 위치번호로 인덱싱이\n",
        "불가능한 자료형\n",
        "\n",
        "`-` 왜 이런게 필요할까?\n",
        "\n",
        "-   벡터에서 원소를 뽑는것은 정보의 모임에서 정보를 검색하는 것과 같다.\n",
        "-   정보를 `순서`대로 나열한뒤에 그 `순서`를 이용하여 검색하는 방법은\n",
        "    유용하다.\n",
        "-   하지만 경우에 따라서는 `키워드`를 기억해서 그 `키워드`를 바탕으로\n",
        "    정보에 접근하는 방법이 유용할 수 있다.\n",
        "\n",
        "***카카오톡 대화내용검색***\n",
        "\n",
        "(상황1) `오늘아침`에 와이프가 `뭔가`를 카톡으로 부탁했었음. 그런데 그\n",
        "뭔가가 기억안남.\n",
        "\n",
        "(상황2) `방학전에` 동료교수과 `개강이후 저녁약속`을 카톡으로 잡았었음.\n",
        "그런데 그게 언제인지 기억안남.\n",
        "\n",
        "`-` 순서대로 정리된 자료를 검색할때는 시퀀스형이 유리하다. 그런데\n",
        "키워드로 검색하고 싶을 경우는 딕셔너리 타입이 유리하다.\n",
        "\n",
        "## B. 선언\n",
        "\n",
        "`-` 방법1: 가장 일반적"
      ],
      "id": "86641a89-794b-43fc-a757-30b549395f73"
    },
    {
      "cell_type": "code",
      "execution_count": 1,
      "metadata": {},
      "outputs": [],
      "source": [
        "dct = {'guebin':49, 'hanni':80}\n",
        "dct"
      ],
      "id": "cf88b075-6462-4362-96d9-05fde548baf2"
    },
    {
      "cell_type": "markdown",
      "metadata": {},
      "source": [
        "`-` 방법2: `dict()` 이용"
      ],
      "id": "c933e4bf-326f-4ff0-82fa-c342afa4005c"
    },
    {
      "cell_type": "code",
      "execution_count": 3,
      "metadata": {},
      "outputs": [],
      "source": [
        "dct = dict(guebin=49, hanni=80)\n",
        "dct"
      ],
      "id": "d4df8b1c-920f-4e03-843a-13b5a96b2102"
    },
    {
      "cell_type": "markdown",
      "metadata": {},
      "source": [
        "`-` 방법3: 중첩된 리스트를 만든 뒤에 형태변환"
      ],
      "id": "6fa2bea5-f222-4e48-aa9e-5e3587d05ddd"
    },
    {
      "cell_type": "code",
      "execution_count": 7,
      "metadata": {},
      "outputs": [],
      "source": [
        "_lst = [['guebin',49],['hanni',80]]\n",
        "_lst "
      ],
      "id": "b932d1b4-0f15-4786-9f10-7cd472ea2797"
    },
    {
      "cell_type": "code",
      "execution_count": 8,
      "metadata": {},
      "outputs": [],
      "source": [
        "dict(_lst)"
      ],
      "id": "29e599d3-236c-4892-8eca-8a3e2df99419"
    },
    {
      "cell_type": "markdown",
      "metadata": {},
      "source": [
        "`-` 방법4: 중첩된 튜플을 만든 뒤에 형태변환"
      ],
      "id": "4434932b-689d-485f-9aa3-78475d1ce542"
    },
    {
      "cell_type": "code",
      "execution_count": 9,
      "metadata": {},
      "outputs": [],
      "source": [
        "_tpl = ('guebin',49), ('hanni',80)\n",
        "_tpl"
      ],
      "id": "b70b6839-2ac2-4155-beb8-a1e6c01a5ac5"
    },
    {
      "cell_type": "code",
      "execution_count": 10,
      "metadata": {},
      "outputs": [],
      "source": [
        "dict(_tpl)"
      ],
      "id": "db544794-c0f8-42ee-bb2e-bb3ae9bc2691"
    },
    {
      "cell_type": "markdown",
      "metadata": {},
      "source": [
        "## C. 원소추출\n",
        "\n",
        "`-` 원소의 위치로 추출할 수 없고, key로 추출해야 한다."
      ],
      "id": "00378d29-0c7c-4261-a067-caefb166c948"
    },
    {
      "cell_type": "code",
      "execution_count": 11,
      "metadata": {},
      "outputs": [],
      "source": [
        "dct = {'guebin':49, 'hanni':80}\n",
        "dct"
      ],
      "id": "3fbd20d1-d91d-41b4-aed1-8ba31d33a447"
    },
    {
      "cell_type": "markdown",
      "metadata": {},
      "source": [
        "guebin의 점수를 추출하고 싶다면?"
      ],
      "id": "58786c3f-bedc-4f37-8e61-e7266c020149"
    },
    {
      "cell_type": "code",
      "execution_count": 119,
      "metadata": {},
      "outputs": [],
      "source": [
        "dct['guebin']"
      ],
      "id": "58531525-b981-4980-9732-207abc102e1b"
    },
    {
      "cell_type": "markdown",
      "metadata": {},
      "source": [
        "`-` 만약에 dict가 아니라 list로 정보를 저장했다면?\n",
        "\n",
        "(예제) 아래와 같은 리스트에서 guebin의 점수를 추출하고 싶다면?"
      ],
      "id": "5d02bad7-d949-4ae5-afdd-2ff8ff1606b3"
    },
    {
      "cell_type": "code",
      "execution_count": 16,
      "metadata": {},
      "outputs": [],
      "source": [
        "lst=[['guebin',49],['hanni',80]]\n",
        "lst"
      ],
      "id": "42a855aa-d486-46f3-82c0-67089755dbd6"
    },
    {
      "cell_type": "markdown",
      "metadata": {},
      "source": [
        "(풀이1)"
      ],
      "id": "60b11df8-2ce9-49ba-8d3b-b35cdae366fd"
    },
    {
      "cell_type": "code",
      "execution_count": 120,
      "metadata": {},
      "outputs": [],
      "source": [
        "lst[0][1] # guebin의 점수를 출력하란 의미"
      ],
      "id": "84152e39-01a5-424e-be14-ed8b759a22c6"
    },
    {
      "cell_type": "markdown",
      "metadata": {},
      "source": [
        "(풀이2) – 진짜 최악"
      ],
      "id": "1a6659f7-3b8e-4394-88e1-d35c436639c2"
    },
    {
      "cell_type": "code",
      "execution_count": 129,
      "metadata": {},
      "outputs": [],
      "source": [
        "[lst[i][1] for i in range(len(lst)) if lst[i][0] == 'guebin']"
      ],
      "id": "70dd06b2-cd0e-45c1-8dfc-da2abd76fb9e"
    },
    {
      "cell_type": "markdown",
      "metadata": {},
      "source": [
        "(풀이3) – 덜 최악"
      ],
      "id": "08651775-7be9-4599-989b-eeed8e0307a4"
    },
    {
      "cell_type": "code",
      "execution_count": 132,
      "metadata": {},
      "outputs": [],
      "source": [
        "[score for name,score in lst if name == 'guebin']"
      ],
      "id": "3af086a5-0dfe-4b84-aa53-5d4ab3c9faf9"
    },
    {
      "cell_type": "markdown",
      "metadata": {},
      "source": [
        "`-` ’guebin’의 점수를 추출하는 코드 비교"
      ],
      "id": "97b8a92c-c347-4912-99b5-cc9a5579ad18"
    },
    {
      "cell_type": "code",
      "execution_count": 52,
      "metadata": {},
      "outputs": [],
      "source": [
        "dct['guebin'] # 코드1: 단순하고, 가독성있음"
      ],
      "id": "c64b6d2a-3bd9-451d-9912-73110de06d80"
    },
    {
      "cell_type": "code",
      "execution_count": 40,
      "metadata": {},
      "outputs": [],
      "source": [
        "lst[0][1] # 코드2: 단순하지만, 가독성이 있는건 아님, 확장성이 없음"
      ],
      "id": "385d545a-9a86-4f94-9fbf-7c1e94f52d0d"
    },
    {
      "cell_type": "code",
      "execution_count": 54,
      "metadata": {},
      "outputs": [],
      "source": [
        "[lst[i][1] for i in range(len(lst)) if lst[i][0] =='guebin'] # 코드3: 단순하지도 않고, 가독성도 없음."
      ],
      "id": "0f32a374-9f25-4fae-a554-bf87b5d6cea9"
    },
    {
      "cell_type": "code",
      "execution_count": 55,
      "metadata": {},
      "outputs": [],
      "source": [
        "[score for name,score in lst if name=='guebin' ] # 코드4: 단순하지 않지만, 가독성은 있음"
      ],
      "id": "b6292824-f03d-4268-baea-1f3033ab8bb1"
    },
    {
      "cell_type": "markdown",
      "metadata": {},
      "source": [
        "## D. 원소추가, 변경, 삭제"
      ],
      "id": "3760b645-4aad-4f40-b107-7e904d96ceca"
    },
    {
      "cell_type": "code",
      "execution_count": 48,
      "metadata": {},
      "outputs": [],
      "source": [
        "dct={'guebin':49, 'hanni':80}\n",
        "dct"
      ],
      "id": "8b7fe566-029f-40ba-9f8a-f09e8d6f228a"
    },
    {
      "cell_type": "markdown",
      "metadata": {},
      "source": [
        "`-` 원소에 접근: guebin의 점수 출력"
      ],
      "id": "fd38a3d9-0e3f-4a85-bac7-4e54b9f1e08e"
    },
    {
      "cell_type": "code",
      "execution_count": 50,
      "metadata": {},
      "outputs": [],
      "source": [
        "dct['guebin']"
      ],
      "id": "e15be58c-2b25-4427-92cc-1bb9449b2d53"
    },
    {
      "cell_type": "markdown",
      "metadata": {},
      "source": [
        "`-` 추가: hynn학생의 점수를 추가"
      ],
      "id": "a840042c-92a4-44a8-86a3-a92166538f40"
    },
    {
      "cell_type": "code",
      "execution_count": 51,
      "metadata": {},
      "outputs": [],
      "source": [
        "dct['hynn'] = 99"
      ],
      "id": "a71f46ad-c51f-442b-8475-c3a9eab5bda7"
    },
    {
      "cell_type": "code",
      "execution_count": 52,
      "metadata": {},
      "outputs": [],
      "source": [
        "dct"
      ],
      "id": "a3c53ba2-fdf1-4711-a790-6ba184e398fa"
    },
    {
      "cell_type": "markdown",
      "metadata": {},
      "source": [
        "`-` 변경: hanni의 점수를 변경"
      ],
      "id": "f0a927d8-13f5-4d81-bae7-7d1b5e670547"
    },
    {
      "cell_type": "code",
      "execution_count": 53,
      "metadata": {},
      "outputs": [],
      "source": [
        "dct['hanni'] = 100 "
      ],
      "id": "10d97502-8d8e-4edb-ba45-c100e9b8ed8a"
    },
    {
      "cell_type": "code",
      "execution_count": 54,
      "metadata": {},
      "outputs": [],
      "source": [
        "dct"
      ],
      "id": "197ad4a6-17fd-43d4-863a-e2252294a568"
    },
    {
      "cell_type": "markdown",
      "metadata": {},
      "source": [
        "`-` 삭제\n",
        "\n",
        "(방법1)"
      ],
      "id": "175eec4a-1f93-4226-a187-04c4bccd0670"
    },
    {
      "cell_type": "code",
      "execution_count": 57,
      "metadata": {},
      "outputs": [],
      "source": [
        "dct={'guebin':49, 'hanni':80, 'hynn':99}\n",
        "del dct['guebin']  \n",
        "dct"
      ],
      "id": "c4520f98-8bc4-4211-b7e8-24c867edf552"
    },
    {
      "cell_type": "markdown",
      "metadata": {},
      "source": [
        "(방법2)"
      ],
      "id": "feff0ed9-67dd-4c9c-bf67-1ab7af6b9aa3"
    },
    {
      "cell_type": "code",
      "execution_count": 58,
      "metadata": {},
      "outputs": [],
      "source": [
        "dct={'guebin':49, 'hanni':80, 'hynn':99} \n",
        "dct.pop('guebin')"
      ],
      "id": "2d4587ff-907b-4cb9-b4c5-a4f5589f8782"
    },
    {
      "cell_type": "code",
      "execution_count": 59,
      "metadata": {},
      "outputs": [],
      "source": [
        "dct"
      ],
      "id": "e19c7018-b93c-4444-b642-0b22476ef8a0"
    },
    {
      "cell_type": "markdown",
      "metadata": {},
      "source": [
        "`-` 참고로 리스트였다면 이러한 삭제작업역시 비효율적이었을 것임"
      ],
      "id": "8e9a4e67-79dd-45d4-80d9-b17e155988d8"
    },
    {
      "cell_type": "code",
      "execution_count": 60,
      "metadata": {},
      "outputs": [],
      "source": [
        "lst = [['guebin',49],['hanni',80],['hynn',99]] \n",
        "lst"
      ],
      "id": "7594b905-ef56-4fae-92a3-02be86aaceb9"
    },
    {
      "cell_type": "markdown",
      "metadata": {},
      "source": [
        "guebin의 점수를 삭제하려면?"
      ],
      "id": "b5902462-e0ba-4ba8-beda-4418c59f8560"
    },
    {
      "cell_type": "code",
      "execution_count": 150,
      "metadata": {},
      "outputs": [],
      "source": [
        "[[name,score] for name,score in lst if name != 'guebin']"
      ],
      "id": "13381669-999f-47f3-a51c-ff4c0aabd4a6"
    },
    {
      "cell_type": "markdown",
      "metadata": {},
      "source": [
        "## E. 연산\n",
        "\n",
        "`-` 하나있어요.."
      ],
      "id": "afbad265-85cb-4281-a275-ae5aa69bd76f"
    },
    {
      "cell_type": "code",
      "execution_count": 69,
      "metadata": {},
      "outputs": [],
      "source": [
        "dct = {'guebin':49, 'hanni':80} \n",
        "dct"
      ],
      "id": "41a1ad43-0e13-4968-85b3-e851bd9eff0e"
    },
    {
      "cell_type": "code",
      "execution_count": 82,
      "metadata": {},
      "outputs": [],
      "source": [
        "'guebin' in dct"
      ],
      "id": "d8fc2078-c535-4e5e-a2ba-a554c35328bf"
    },
    {
      "cell_type": "code",
      "execution_count": 71,
      "metadata": {},
      "outputs": [],
      "source": [
        "'hanni' in dct"
      ],
      "id": "9bc35e4e-5e9d-4b4f-a0d1-624452c47c4b"
    },
    {
      "cell_type": "code",
      "execution_count": 72,
      "metadata": {},
      "outputs": [],
      "source": [
        "'hynn' in dct"
      ],
      "id": "04c0bb2a-ff40-487d-a467-a3b542ebf5d1"
    },
    {
      "cell_type": "markdown",
      "metadata": {},
      "source": [
        "`-` in은 사실 다른자료형도 가능했음\n",
        "\n",
        "(관찰1)"
      ],
      "id": "d2db8c8e-7b5a-42b3-af59-0f7ecf758997"
    },
    {
      "cell_type": "code",
      "execution_count": 73,
      "metadata": {},
      "outputs": [],
      "source": [
        "'a' in 'guebin' "
      ],
      "id": "e2c006d3-9c39-495d-baef-b57421a6eeb0"
    },
    {
      "cell_type": "code",
      "execution_count": 74,
      "metadata": {},
      "outputs": [],
      "source": [
        "'b' in 'guebin' "
      ],
      "id": "b7e5496c-5e56-470e-8db7-847a1f944554"
    },
    {
      "cell_type": "code",
      "execution_count": 75,
      "metadata": {},
      "outputs": [],
      "source": [
        "'c' in 'guebin' "
      ],
      "id": "66ab132c-9a0e-4c2b-b0a3-a530cf699991"
    },
    {
      "cell_type": "markdown",
      "metadata": {},
      "source": [
        "(관찰2)"
      ],
      "id": "657c412a-b95e-4891-91d5-b411ed114964"
    },
    {
      "cell_type": "code",
      "execution_count": 76,
      "metadata": {},
      "outputs": [],
      "source": [
        "tpl = 1,2,3 \n",
        "tpl"
      ],
      "id": "8c9cff92-5f3c-4ee1-a02e-588a46b7ccfc"
    },
    {
      "cell_type": "code",
      "execution_count": 77,
      "metadata": {},
      "outputs": [],
      "source": [
        "1 in tpl"
      ],
      "id": "b75cfb03-10f2-4997-9693-ac5c3bfe3a24"
    },
    {
      "cell_type": "code",
      "execution_count": 78,
      "metadata": {},
      "outputs": [],
      "source": [
        "4 in tpl"
      ],
      "id": "33a29b5b-585d-4cc2-8a86-4816c2ada83c"
    },
    {
      "cell_type": "markdown",
      "metadata": {},
      "source": [
        "(관찰3)"
      ],
      "id": "df8d7c75-ec5e-4169-bdf0-46f14a208c2f"
    },
    {
      "cell_type": "code",
      "execution_count": 79,
      "metadata": {},
      "outputs": [],
      "source": [
        "lst = [['guebin',49],['hanni',80],['hynn',99]] \n",
        "lst"
      ],
      "id": "b704a092-c85b-47d5-9da6-9827efe7d3ff"
    },
    {
      "cell_type": "code",
      "execution_count": 80,
      "metadata": {},
      "outputs": [],
      "source": [
        "['guebin',49] in lst"
      ],
      "id": "82195499-6ab2-488f-9cfd-22043409fa80"
    },
    {
      "cell_type": "markdown",
      "metadata": {},
      "source": [
        "`-` in연산자가 dict형에 사용되면 key를 기준으로 True, False를 판단한다.\n",
        "\n",
        "## F. 딕셔너리 특수기능\n",
        "\n",
        "**(pop)**"
      ],
      "id": "0a8ec8d2-b7c0-4419-a6d0-554b7efc4351"
    },
    {
      "cell_type": "code",
      "execution_count": 85,
      "metadata": {},
      "outputs": [],
      "source": [
        "dct = {'guebin':49, 'hanni':80} \n",
        "dct.pop('hanni')\n",
        "dct"
      ],
      "id": "2a81c139-cd9b-45a6-b753-942efe2c65b1"
    },
    {
      "cell_type": "markdown",
      "metadata": {},
      "source": [
        "**(get)**"
      ],
      "id": "611c4b2d-2a6b-4048-a4b6-cf67f3b001d0"
    },
    {
      "cell_type": "code",
      "execution_count": 86,
      "metadata": {},
      "outputs": [],
      "source": [
        "dct = {'guebin':49, 'hanni':80} \n",
        "dct"
      ],
      "id": "2c422f88-3017-455c-bde2-ddb3ae2f5fa6"
    },
    {
      "cell_type": "code",
      "execution_count": 87,
      "metadata": {},
      "outputs": [],
      "source": [
        "dct.get('guebin') "
      ],
      "id": "a4a07e1a-abfb-4aae-bf19-b5119b9b1d0a"
    },
    {
      "cell_type": "markdown",
      "metadata": {},
      "source": [
        "아래와 같은 기능"
      ],
      "id": "78447126-b852-4566-b5d2-58ca04435ffc"
    },
    {
      "cell_type": "code",
      "execution_count": 88,
      "metadata": {},
      "outputs": [],
      "source": [
        "dct['guebin']"
      ],
      "id": "0c269d5d-2009-47ee-b9d0-5d6f0286aff6"
    },
    {
      "cell_type": "markdown",
      "metadata": {},
      "source": [
        "미묘한 차이점이 존재함"
      ],
      "id": "775b3f1c-006e-4f85-a71b-a3cfd08e775c"
    },
    {
      "cell_type": "code",
      "execution_count": 89,
      "metadata": {},
      "outputs": [],
      "source": [
        "dct['hynn'] # hynn이 없어서 키에러 출력, 그런 key는 없다.. "
      ],
      "id": "5c7aa5b5-321b-46ae-8531-572b7e9fee29"
    },
    {
      "cell_type": "code",
      "execution_count": 90,
      "metadata": {},
      "outputs": [],
      "source": [
        "dct.get('hynn') # hynn이 없으면 아무것도 출력안함 "
      ],
      "id": "e27b54df-ce98-4454-a040-4679221b55bb"
    },
    {
      "cell_type": "markdown",
      "metadata": {},
      "source": [
        "**(keys,values,items)**"
      ],
      "id": "70d5134f-9eec-4f32-8e28-fa05d10b409b"
    },
    {
      "cell_type": "code",
      "execution_count": 110,
      "metadata": {},
      "outputs": [
        {
          "output_type": "stream",
          "name": "stdout",
          "text": [
            "guebin 49\n",
            "hanni 80"
          ]
        }
      ],
      "source": [
        "for k,v in dct.items():\n",
        "    print(k,v)"
      ],
      "id": "889ceca6-7470-4411-98a1-414c34198b70"
    },
    {
      "cell_type": "markdown",
      "metadata": {},
      "source": [
        "`-` .keys()는 딕셔너리의 키를 리턴한다."
      ],
      "id": "a075c5e2-a6a7-475a-aa44-516fd5f84230"
    },
    {
      "cell_type": "code",
      "execution_count": 94,
      "metadata": {},
      "outputs": [],
      "source": [
        "dct = {'guebin':49, 'hanni':80} \n",
        "dct"
      ],
      "id": "a537837c-d509-4107-9180-ff29d8817950"
    },
    {
      "cell_type": "code",
      "execution_count": 95,
      "metadata": {},
      "outputs": [],
      "source": [
        "_keys=dct.keys()\n",
        "_keys"
      ],
      "id": "eceb43de-8982-435c-b35b-5ff8d869d921"
    },
    {
      "cell_type": "code",
      "execution_count": 96,
      "metadata": {},
      "outputs": [],
      "source": [
        "type(_keys) # 리턴된 자료형은 이상한것임"
      ],
      "id": "281ab21f-a62f-4028-a300-1048a6e10366"
    },
    {
      "cell_type": "code",
      "execution_count": 97,
      "metadata": {},
      "outputs": [],
      "source": [
        "list(_keys) # 아무튼 그 이상한 자료형도 리스트화 가능 "
      ],
      "id": "7a8dc85c-d9d0-40a1-a3f6-65fe4fe70dc9"
    },
    {
      "cell_type": "markdown",
      "metadata": {},
      "source": [
        "`-` .values()는 딕셔너리의 값들을 리턴한다."
      ],
      "id": "f630edff-afb0-478f-a5a4-f032d0c9081e"
    },
    {
      "cell_type": "code",
      "execution_count": 86,
      "metadata": {},
      "outputs": [],
      "source": [
        "_values = dct.values()\n",
        "_values "
      ],
      "id": "8f114322-651c-45f9-9410-32989b843f25"
    },
    {
      "cell_type": "code",
      "execution_count": 87,
      "metadata": {},
      "outputs": [],
      "source": [
        "type(_values)"
      ],
      "id": "7a3621ec-e737-4f91-b68f-e9b3ad56ff02"
    },
    {
      "cell_type": "code",
      "execution_count": 88,
      "metadata": {},
      "outputs": [],
      "source": [
        "list(_values)"
      ],
      "id": "f9602b9f-104b-4353-80be-d0aaaf15eb8f"
    },
    {
      "cell_type": "markdown",
      "metadata": {},
      "source": [
        "`-` .items()는 딕셔너리의 (키,값)을 리턴한다."
      ],
      "id": "97416c70-1e3d-43c2-ab26-15433724d2ea"
    },
    {
      "cell_type": "code",
      "execution_count": 89,
      "metadata": {},
      "outputs": [],
      "source": [
        "_items = dct.items()\n",
        "_items "
      ],
      "id": "65ceb04d-7ab2-4e1f-9d06-62995ec97849"
    },
    {
      "cell_type": "code",
      "execution_count": 90,
      "metadata": {},
      "outputs": [],
      "source": [
        "type(_items)"
      ],
      "id": "53a03750-443f-47fd-b74e-30308b54ff2d"
    },
    {
      "cell_type": "code",
      "execution_count": 91,
      "metadata": {},
      "outputs": [],
      "source": [
        "list(_items)"
      ],
      "id": "8427f9fb-caff-4577-9a60-ba851eb2694c"
    },
    {
      "cell_type": "markdown",
      "metadata": {},
      "source": [
        "## G. for문과 dict ($\\star$)"
      ],
      "id": "14eeb2c4-2125-4401-93f5-6ea0d81a513f"
    },
    {
      "cell_type": "code",
      "execution_count": 7,
      "metadata": {
        "tags": []
      },
      "outputs": [],
      "source": [
        "dct = {'guebin': 49, 'hanni': 80}\n",
        "dct"
      ],
      "id": "dbd863d8-f5c3-4b45-a84c-5b9da20e7fd4"
    },
    {
      "cell_type": "markdown",
      "metadata": {},
      "source": [
        "(예시1)"
      ],
      "id": "66442e11-6a82-47e7-93b4-6f210759e431"
    },
    {
      "cell_type": "code",
      "execution_count": 8,
      "metadata": {
        "tags": []
      },
      "outputs": [
        {
          "output_type": "stream",
          "name": "stdout",
          "text": [
            "guebin\n",
            "hanni"
          ]
        }
      ],
      "source": [
        "for k in dct.keys():\n",
        "    print(k)"
      ],
      "id": "047d43ff-d477-4d49-9e5c-981b2a2ec724"
    },
    {
      "cell_type": "code",
      "execution_count": 9,
      "metadata": {
        "tags": []
      },
      "outputs": [
        {
          "output_type": "stream",
          "name": "stdout",
          "text": [
            "guebin\n",
            "hanni"
          ]
        }
      ],
      "source": [
        "for k in dct:\n",
        "    print(k)"
      ],
      "id": "000b9571-d5e3-4764-b1b3-60ac2b85a7c7"
    },
    {
      "cell_type": "markdown",
      "metadata": {},
      "source": [
        "-   딕셔너리 그자체도 for문에 넣을 수 있다. 그때는 딕셔너리의 key가\n",
        "    반복된다.\n",
        "-   결과를 보면 dct 대신에 dct.keys()와 list(dct)를 넣었을때와 결과가\n",
        "    같다.\n",
        "\n",
        "> Note: list(dct) 하면 key만 리턴된다.\n",
        "\n",
        "(예시2)"
      ],
      "id": "ceee5b75-9398-4d4d-a80b-809861e051db"
    },
    {
      "cell_type": "code",
      "execution_count": 10,
      "metadata": {
        "tags": []
      },
      "outputs": [
        {
          "output_type": "stream",
          "name": "stdout",
          "text": [
            "49\n",
            "80"
          ]
        }
      ],
      "source": [
        "for v in dct.values():\n",
        "    print(v)"
      ],
      "id": "dd0d719d-15b6-4eed-9c33-8db5569c9d75"
    },
    {
      "cell_type": "markdown",
      "metadata": {},
      "source": [
        "(예시3)"
      ],
      "id": "d7d20b86-403e-4ba7-998b-8d611bdc5314"
    },
    {
      "cell_type": "code",
      "execution_count": 11,
      "metadata": {
        "tags": []
      },
      "outputs": [
        {
          "output_type": "stream",
          "name": "stdout",
          "text": [
            "('guebin', 49)\n",
            "('hanni', 80)"
          ]
        }
      ],
      "source": [
        "for i in dct.items():\n",
        "    print(i)"
      ],
      "id": "4aee315d-833c-4c66-9c24-f164668d19e4"
    },
    {
      "cell_type": "markdown",
      "metadata": {},
      "source": [
        "(예시4)"
      ],
      "id": "92b17b0f-1099-48e9-ba46-a276514f09df"
    },
    {
      "cell_type": "code",
      "execution_count": 12,
      "metadata": {
        "tags": []
      },
      "outputs": [
        {
          "output_type": "stream",
          "name": "stdout",
          "text": [
            "guebin 49\n",
            "hanni 80"
          ]
        }
      ],
      "source": [
        "for k,v in dct.items():\n",
        "    print(k,v)"
      ],
      "id": "f87f526f-e16e-425a-b123-29de3e8e4fb9"
    },
    {
      "cell_type": "markdown",
      "metadata": {},
      "source": [
        "(예시5) – {}의 중간고사 점수는 {}점 입니다."
      ],
      "id": "a97f7b91-635c-41d0-938f-265f942d165f"
    },
    {
      "cell_type": "code",
      "execution_count": 13,
      "metadata": {
        "tags": []
      },
      "outputs": [
        {
          "output_type": "stream",
          "name": "stdout",
          "text": [
            "guebin의 중간고사 점수는 49점 입니다.\n",
            "hanni의 중간고사 점수는 80점 입니다."
          ]
        }
      ],
      "source": [
        "for name,score in dct.items():\n",
        "    print(f'{name}의 중간고사 점수는 {score}점 입니다.')"
      ],
      "id": "458b6bb3-365c-4cfa-be28-d7dc9869599f"
    },
    {
      "cell_type": "markdown",
      "metadata": {},
      "source": [
        "## H. dict에서 key혹은 value만 뽑아내기\n",
        "\n",
        "`-` 예제: 아래의 dict에서 key만 뽑아내고 싶다."
      ],
      "id": "2271713a-c6f1-429d-9b01-bb898553db9d"
    },
    {
      "cell_type": "code",
      "execution_count": 98,
      "metadata": {},
      "outputs": [],
      "source": [
        "dct = {'guebin':49, 'hanni':80} "
      ],
      "id": "4db33f0a-9ae6-4c70-ba89-5dce8c03a489"
    },
    {
      "cell_type": "markdown",
      "metadata": {},
      "source": [
        "(풀이1)"
      ],
      "id": "c3b8498f-e24c-49a5-b459-c883e648d87f"
    },
    {
      "cell_type": "code",
      "execution_count": 99,
      "metadata": {},
      "outputs": [],
      "source": [
        "list(dct)"
      ],
      "id": "6af76674-b930-4c64-bef7-6a2643acb2c7"
    },
    {
      "cell_type": "markdown",
      "metadata": {},
      "source": [
        "(풀이2)"
      ],
      "id": "d905197c-d625-4c06-8821-6d3c819a8925"
    },
    {
      "cell_type": "code",
      "execution_count": 100,
      "metadata": {},
      "outputs": [],
      "source": [
        "list(dct.keys())"
      ],
      "id": "ff25d5ca-a9a7-46e3-bd85-197859189f63"
    },
    {
      "cell_type": "markdown",
      "metadata": {},
      "source": [
        "(풀이3)"
      ],
      "id": "7f193ff2-c104-4d0f-be93-88e33312916e"
    },
    {
      "cell_type": "code",
      "execution_count": 101,
      "metadata": {},
      "outputs": [],
      "source": [
        "[k for k in dct]"
      ],
      "id": "85acfc15-c013-45ed-94a2-1f64779a0a2b"
    },
    {
      "cell_type": "markdown",
      "metadata": {},
      "source": [
        "(풀이4)"
      ],
      "id": "50519593-7aec-4d5f-8826-66de229c7e53"
    },
    {
      "cell_type": "code",
      "execution_count": 102,
      "metadata": {},
      "outputs": [],
      "source": [
        "[k for k,v in dct.items()]"
      ],
      "id": "d0f4823d-5938-475a-9887-4eff59427c4a"
    },
    {
      "cell_type": "markdown",
      "metadata": {},
      "source": [
        "`-` 예제: 아래의 dict에서 value만 뽑아내고 싶다."
      ],
      "id": "970ad5bb-4a8d-4513-8d56-64b5ef89888e"
    },
    {
      "cell_type": "code",
      "execution_count": 103,
      "metadata": {},
      "outputs": [],
      "source": [
        "dct = {'guebin':49, 'hanni':80} "
      ],
      "id": "eb601c7c-d76d-4c55-b135-1aadceec8758"
    },
    {
      "cell_type": "markdown",
      "metadata": {},
      "source": [
        "(풀이1)"
      ],
      "id": "a41060a7-782f-4498-9af7-4a6c2fd1f939"
    },
    {
      "cell_type": "code",
      "execution_count": 104,
      "metadata": {},
      "outputs": [],
      "source": [
        "list(dct.values())"
      ],
      "id": "9ce779bc-1ced-4d55-9c9a-22303e9d7304"
    },
    {
      "cell_type": "markdown",
      "metadata": {},
      "source": [
        "(풀이2)"
      ],
      "id": "19f3f2e8-5c55-4fd2-95f0-593443f7afc9"
    },
    {
      "cell_type": "code",
      "execution_count": 105,
      "metadata": {},
      "outputs": [],
      "source": [
        "[dct[k] for k in dct]"
      ],
      "id": "1fd0bfbf-2e30-4d1a-b7c2-81fd0e139272"
    },
    {
      "cell_type": "markdown",
      "metadata": {},
      "source": [
        "(풀이3)"
      ],
      "id": "0335de23-d69b-4a6b-9f1a-f90a11eef335"
    },
    {
      "cell_type": "code",
      "execution_count": 106,
      "metadata": {},
      "outputs": [],
      "source": [
        "[v for v in dct.values()]"
      ],
      "id": "90d15ab3-13a0-40e7-80ba-b89bd6983c4d"
    },
    {
      "cell_type": "markdown",
      "metadata": {},
      "source": [
        "(풀이4)"
      ],
      "id": "83e0b510-ec6c-4f82-88a7-8205e9cdd9d8"
    },
    {
      "cell_type": "code",
      "execution_count": 107,
      "metadata": {},
      "outputs": [],
      "source": [
        "[v for k,v in dct.items()]"
      ],
      "id": "d18b1115-27a8-497e-978a-aa73b4618b63"
    },
    {
      "cell_type": "markdown",
      "metadata": {},
      "source": [
        "# 6. 딕셔너리를 이용한 치환 ($\\star$)\n",
        "\n",
        "## A. 바꿔치기 (1)\n",
        "\n",
        "`-` 예제1: 아래와 같은 리스트가 있다고 하자."
      ],
      "id": "e823c750-4f33-4eff-af5f-e8dd17d69aed"
    },
    {
      "cell_type": "code",
      "execution_count": 163,
      "metadata": {},
      "outputs": [],
      "source": [
        "lst = list('abcd'*2)\n",
        "lst"
      ],
      "id": "894332f3-262b-41d2-8860-df41e91190a0"
    },
    {
      "cell_type": "markdown",
      "metadata": {},
      "source": [
        "아래의 규칙에 의하여 lst의 각 원소의 값을 바꾸고 싶다고 하자. 이를\n",
        "구현하는 코드를 작성하라.\n",
        "\n",
        "| 변환전 |   변환후    |\n",
        "|:------:|:-----------:|\n",
        "|  ‘a’   | \\[1,0,0,0\\] |\n",
        "|  ‘b’   | \\[0,1,0,0\\] |\n",
        "|  ‘c’   | \\[0,0,1,0\\] |\n",
        "|  ‘d’   | \\[0,0,0,1\\] |\n",
        "\n",
        "hint: 아래의 dct를 이용할 것"
      ],
      "id": "e8da8416-c9b3-46c2-b8ef-28d3d942bca8"
    },
    {
      "cell_type": "code",
      "execution_count": 214,
      "metadata": {},
      "outputs": [],
      "source": [
        "lst = list('abcd'*2)\n",
        "lst"
      ],
      "id": "98123886-7c0b-4be7-a90b-52e052c4ac64"
    },
    {
      "cell_type": "code",
      "execution_count": 215,
      "metadata": {},
      "outputs": [],
      "source": [
        "dct = {'a':[1,0,0,0], 'b':[0,1,0,0], 'c':[0,0,1,0], 'd':[0,0,0,1]}\n",
        "dct"
      ],
      "id": "2440de70-eb3d-459e-aeb8-fa0489f623e6"
    },
    {
      "cell_type": "markdown",
      "metadata": {},
      "source": [
        "(풀이)\n",
        "\n",
        "`-` 예제2: 예제1을 역변환하라."
      ],
      "id": "e813bf5b-1eec-42ec-bf0e-de816e08bef2"
    },
    {
      "cell_type": "code",
      "execution_count": 225,
      "metadata": {},
      "outputs": [],
      "source": [
        "dct = {'a':[1,0,0,0], 'b':[0,1,0,0], 'c':[0,0,1,0], 'd':[0,0,0,1]}"
      ],
      "id": "c2aba97d-391a-41f0-a519-9f97c9f0934a"
    },
    {
      "cell_type": "code",
      "execution_count": 226,
      "metadata": {},
      "outputs": [],
      "source": [
        "lst= [[1, 0, 0, 0],\n",
        "      [0, 1, 0, 0],\n",
        "      [0, 0, 1, 0],\n",
        "      [0, 0, 0, 1],\n",
        "      [1, 0, 0, 0],\n",
        "      [0, 1, 0, 0],\n",
        "      [0, 0, 1, 0],\n",
        "      [0, 0, 0, 1]]\n",
        "lst "
      ],
      "id": "6f4fabcd-778d-4ad4-9899-f6124dca300c"
    },
    {
      "cell_type": "markdown",
      "metadata": {},
      "source": [
        "(풀이)\n",
        "\n",
        "## B. 바꿔치기 (2)\n",
        "\n",
        "`-` 예제1: 아래와 같은 리스트를 고려하자."
      ],
      "id": "0996d494-fa83-4aa6-bbac-96b29e95c4ae"
    },
    {
      "cell_type": "code",
      "execution_count": 240,
      "metadata": {},
      "outputs": [],
      "source": [
        "lst = ['딸기','사과','바나나','딸기','사과','오토바이','자동차','버스','기차','오토바이','자동차']"
      ],
      "id": "cd843f81-b422-4657-bc7e-646bbe3b4dc1"
    },
    {
      "cell_type": "markdown",
      "metadata": {},
      "source": [
        "다음의 맵핑규칙에 따라서 위의 리스트의 원소를 바꾸어라.\n",
        "\n",
        "|  변환전  | 변환후 |\n",
        "|:--------:|:------:|\n",
        "|   딸기   |  과일  |\n",
        "|   사과   |  과일  |\n",
        "|  바나나  |  과일  |\n",
        "| 오토바이 |  탈것  |\n",
        "|  자동차  |  탈것  |\n",
        "|   버스   |  탈것  |\n",
        "|   기차   |  탈것  |\n",
        "\n",
        "(풀이)\n",
        "\n",
        "## C. 연습문제\n",
        "\n",
        "`#`. 아래와 같은 맵핑을 고려하자.\n",
        "\n",
        "| 문자 | 숫자 |\n",
        "|:----:|:----:|\n",
        "|  a   |  1   |\n",
        "|  b   |  0   |\n",
        "\n",
        "이를 딕셔너리로 표현하면 아래와 같다."
      ],
      "id": "21c84598-b4d1-43e1-82de-03f8b46ca6c4"
    },
    {
      "cell_type": "code",
      "execution_count": 36,
      "metadata": {},
      "outputs": [],
      "source": [
        "dct = {'a':0, 'b':1} "
      ],
      "id": "f9ba4ef5-d4e0-4feb-9205-023addb1b9d7"
    },
    {
      "cell_type": "markdown",
      "metadata": {},
      "source": [
        "위 규칙에 따라서 아래의 리스트의 원소를 문자로 각각 변환하라."
      ],
      "id": "f7e36d76-e46d-417a-9ab3-b9a307040e50"
    },
    {
      "cell_type": "code",
      "execution_count": 37,
      "metadata": {},
      "outputs": [],
      "source": [
        "lst = [1, 0, 1, 0, 1, 0, 1, 1, 1, 1, 0, 0, 1, 0, 1]"
      ],
      "id": "6ed824de-46d0-4c0d-b10f-19607c9d663c"
    },
    {
      "cell_type": "markdown",
      "metadata": {},
      "source": [
        "``` python\n",
        "# 출력은 아래와 같아야 한다. \n",
        "['b', 'a', 'b', 'a', 'b', 'a', 'b', 'b', 'b', 'b', 'a', 'a', 'b', 'a', 'b']\n",
        "```\n",
        "\n",
        "(풀이)\n",
        "\n",
        "`#`. 아래와 같은 맵핑을 고려하자.\n",
        "\n",
        "|     월     |   의미   |\n",
        "|:----------:|:--------:|\n",
        "|    1,2     | 겨울방학 |\n",
        "|  3,4,5,6   |  1학기   |\n",
        "|    7,8     | 여름방학 |\n",
        "| 9,10,11,12 |  2학기   |\n",
        "\n",
        "이러한 규칙에 맞게 아래의 리스트를 적절한 문자열로 변환하라."
      ],
      "id": "4c925803-bde1-42c1-9101-910fa379bb8f"
    },
    {
      "cell_type": "code",
      "execution_count": 41,
      "metadata": {},
      "outputs": [],
      "source": [
        "month = [1,2,2,3,4,5,6,7,8,9,9,10,11,12] "
      ],
      "id": "fcd4f0a4-62a2-4ef4-8ba2-377813310dfb"
    },
    {
      "cell_type": "markdown",
      "metadata": {},
      "source": [
        "``` python\n",
        "## 출력은 아래와 같아야 한다. \n",
        "['겨울방학', '겨울방학', '겨울방학', '1학기', '1학기', '1학기', '1학기', '여름방학', '여름방학', '2학기', '2학기', '2학기', '2학기', '2학기']\n",
        "```\n",
        "\n",
        "(풀이)\n",
        "\n",
        "`##` – 합성변환\n",
        "\n",
        "아래와 같은 맵핑을 고려하자.\n",
        "\n",
        "(규칙1)\n",
        "\n",
        "|   문자   | 숫자 |\n",
        "|:--------:|:----:|\n",
        "|  바나나  |  0   |\n",
        "|   사과   |  1   |\n",
        "| 오토바이 |  2   |\n",
        "|  자동차  |  3   |\n",
        "|  자전거  |  4   |\n",
        "\n",
        "(규칙2)\n",
        "\n",
        "|  아이템  | 카테고리 |\n",
        "|:--------:|:--------:|\n",
        "|  바나나  |   과일   |\n",
        "|   사과   |   과일   |\n",
        "| 오토바이 |   탈것   |\n",
        "|  자동차  |   탈것   |\n",
        "|  자전거  |   탈것   |\n",
        "\n",
        "각각의 규칙을 나타내는 딕셔너리는 아래와 같이 선언되어있다고 하자."
      ],
      "id": "522aa200-0bc0-48cd-81f3-5ede0a5e79ca"
    },
    {
      "cell_type": "code",
      "execution_count": 44,
      "metadata": {},
      "outputs": [],
      "source": [
        "dct1 = {'바나나':0, '사과':1, '오토바이':2, '자동차':3, '자전거':4} \n",
        "dct2 = {'과일':['바나나','사과'], '탈것':['오토바이','자동차','자전거']} "
      ],
      "id": "60d9f5c6-f0d1-4ffa-8dc1-e3124947e64c"
    },
    {
      "cell_type": "markdown",
      "metadata": {},
      "source": [
        "`#`. 규칙1를 이용하여 아래와 같은 리스트를 변환하는 함수를 구현하고 그\n",
        "함수를 `f`라 선언하라.\n",
        "\n",
        "``` python\n",
        "# 입력 \n",
        "[0,1,0,1,4]\n",
        "\n",
        "# 출력 \n",
        "['바나나', '사과', '바나나', '사과', '자전거']\n",
        "```\n",
        "\n",
        "(사용예시)"
      ],
      "id": "17dc7a42-eeda-4dd7-95bd-0d557bfc1692"
    },
    {
      "cell_type": "code",
      "execution_count": 202,
      "metadata": {},
      "outputs": [],
      "source": [
        "f([0,1,0,1,4])"
      ],
      "id": "bc8521e4-fa35-431e-95f6-ffbbe341da05"
    },
    {
      "cell_type": "markdown",
      "metadata": {},
      "source": [
        "`#`. 규칙2를 이용하여 아래와 같이 리스트를 변환하는 함수를 구현하고 그\n",
        "함수를 `g`라고 선언하라.\n",
        "\n",
        "``` python\n",
        "# 입력 \n",
        "['바나나','바나나','바나나','자동차']\n",
        "\n",
        "# 출력 \n",
        "['과일','과일','과일','탈것']\n",
        "```\n",
        "\n",
        "(사용예시)"
      ],
      "id": "3fbb385a-a2c2-4365-b645-afc8f5b864a7"
    },
    {
      "cell_type": "code",
      "execution_count": 201,
      "metadata": {},
      "outputs": [],
      "source": [
        "g(['바나나','바나나','바나나','자동차'])"
      ],
      "id": "3756176e-d285-4923-b1ec-29846b9eb502"
    },
    {
      "cell_type": "markdown",
      "metadata": {},
      "source": [
        "`#`. 규칙1-2를 이용하여 아래와 같은 숫자로 이루어진 입력을 ‘과일’,\n",
        "‘탈것’ 중 하나로 바꾸는 코드를 구현하라.\n",
        "\n",
        "``` python\n",
        "# 입력 \n",
        "[0,1,0,1,3,4,2,2,3,4,1,0]\n",
        "\n",
        "# 출력 \n",
        "['과일', '과일', '과일', '과일', '탈것', '탈것', '탈것', '탈것', '탈것', '탈것', '과일', '과일']\n",
        "```\n",
        "\n",
        "**hint** $g(f(x))$ 를 이용하라.\n",
        "\n",
        "# 7. 파이썬 자료형 연습문제\n",
        "\n",
        "`ssh코드`:\n",
        "\n",
        "아래의 문자열을 고려하자."
      ],
      "id": "1fcda3f2-b40e-4ae9-bfe4-81fdd84edc82"
    },
    {
      "cell_type": "code",
      "execution_count": 1,
      "metadata": {},
      "outputs": [],
      "source": [
        "test_arr = 'ssh-rsa AAAAB3NzaC1yc2EAAAABIwAAAQEAklOUpkDHrfHY17SbrmTIpNLTGK9Tjom/BWDSUGPl+nafzlHDTYW7hdI4yZ5ew18JH4JW9jbhUFrviQzM7xlELEVf4h9lFX5QVkbPppSwg0cda3Pbv7kOdJ/MTyBlWXFCR+HAo3FXRitBqxiX1nKhXpHAZsMciLq8V6RjsNAQwdsdMFvSlVK/7XAt3FaoJoAsncM1Q9x5+3V0Ww68/eIFmb1zuUFljQJKprrX88XypNDvjYNby6vw/Pb0rwert/EnmZ+AW4OZPnTPI89ZPmVMLuayrD2cE86Z/il8b+gw3r3+1nKatmIkjn2so1d01QraTlMqVSsbxNrRFi9wrf+M7Q== schacon@mylaptop.local'"
      ],
      "id": "9d8f9c5b-b4b1-4c1b-9126-f4b51354dfee"
    },
    {
      "cell_type": "markdown",
      "metadata": {},
      "source": [
        "`#`. 이 문자열에서 `index = 0,2,4,6,8,...` 에 해당하는 원소를 출력하는\n",
        "코드를 작성하라. (2022-파이썬입문 중간고사 1-(2) 참고)"
      ],
      "id": "ba58b250-ccdf-4f24-a666-70e371a0e0e1"
    },
    {
      "cell_type": "code",
      "execution_count": 140,
      "metadata": {},
      "outputs": [],
      "source": [
        "# 출력결과는 아래와 같아야 한다. "
      ],
      "id": "8d62e13b-da3e-471d-9cc3-071f3ada7673"
    },
    {
      "cell_type": "markdown",
      "metadata": {},
      "source": [
        "(풀이)"
      ],
      "id": "eefc872e-4d60-4ec2-8f9a-aa1037822f0b"
    },
    {
      "cell_type": "code",
      "execution_count": 3,
      "metadata": {},
      "outputs": [],
      "source": [
        "test_arr[::2]"
      ],
      "id": "b381bac2-2c06-4109-916f-3604c9c1502b"
    },
    {
      "cell_type": "markdown",
      "metadata": {},
      "source": [
        "`#`. 위 문자열을 뒤집은 문자열을 구하는 코드를 구현하라.\n",
        "(2022-파이썬입문 중간고사 1-(4) 참고)"
      ],
      "id": "711e9dec-ba35-4213-aace-aff0cd26e222"
    },
    {
      "cell_type": "code",
      "execution_count": 141,
      "metadata": {},
      "outputs": [],
      "source": [
        "# 출력결과는 아래와 같아야 한다. "
      ],
      "id": "d81051b6-1e63-42b2-97d0-62cf9b1f6c6f"
    },
    {
      "cell_type": "markdown",
      "metadata": {},
      "source": [
        "------------------------------------------------------------------------\n",
        "\n",
        "`파이썬 프로그래밍 시험성적`\n",
        "\n",
        "아래와 같은 dictionary가 있다고 가정하자."
      ],
      "id": "1b6ff41a-8c72-4b3d-940c-5cce442a8865"
    },
    {
      "cell_type": "code",
      "execution_count": 3,
      "metadata": {
        "tags": []
      },
      "outputs": [],
      "source": [
        "dct={'202212377': {'att': 65, 'rep': 45, 'mid': 0, 'fin': 10},\n",
        "     '202212473': {'att': 95, 'rep': 30, 'mid': 60, 'fin': 10},\n",
        "     '202212310': {'att': 65, 'rep': 85, 'mid': 15, 'fin': 20},\n",
        "     '202212460': {'att': 55, 'rep': 35, 'mid': 35, 'fin': 5},\n",
        "     '202212320': {'att': 80, 'rep': 60, 'mid': 55, 'fin': 70},\n",
        "     '202212329': {'att': 75, 'rep': 40, 'mid': 75, 'fin': 85},\n",
        "     '202212408': {'att': 65, 'rep': 70, 'mid': 60, 'fin': 75},\n",
        "     '202212319': {'att': 60, 'rep': 25, 'mid': 20, 'fin': 35},\n",
        "     '202212348': {'att': 95, 'rep': 55, 'mid': 65, 'fin': 90},\n",
        "     '202212306': {'att': 90, 'rep': 25, 'mid': 95, 'fin': 50},\n",
        "     '202212308': {'att': 55, 'rep': 45, 'mid': 75, 'fin': 30},\n",
        "     '202212366': {'att': 95, 'rep': 60, 'mid': 25, 'fin': 55},\n",
        "     '202212367': {'att': 95, 'rep': 35, 'mid': 0, 'fin': 25},\n",
        "     '202212461': {'att': 50, 'rep': 55, 'mid': 90, 'fin': 45}}"
      ],
      "id": "6e826886-6566-4e6b-b494-b5777cdda092"
    },
    {
      "cell_type": "markdown",
      "metadata": {},
      "source": [
        "여기에서 ‘202212377’ 등은 학번을, att는 출석점수, rep는 레포트점수,\n",
        "mid는 중간고사 점수, fin은 기말고사 점수를 의미한다.\n",
        "\n",
        "`#`. 학생들의 학번을 아래와 같은 방식으로 출력하는 코드를 작성하라."
      ],
      "id": "9af2721b-3c2b-4b37-99c1-eb5a67f62ce2"
    },
    {
      "cell_type": "code",
      "execution_count": 165,
      "metadata": {},
      "outputs": [],
      "source": [
        "# 출력예시"
      ],
      "id": "8d755a80-6a40-4ad8-9bae-2e3fcb35031f"
    },
    {
      "cell_type": "markdown",
      "metadata": {},
      "source": [
        "`#`. 출석점수가 70점 이상인(`>=70`) 학생들의 학번을 출력하는 코드를\n",
        "작성하라. (2022-파이썬입문 중간고사 2-(3) 참고)"
      ],
      "id": "003578f8-3093-42db-bd54-9d1ef7b5b15f"
    },
    {
      "cell_type": "code",
      "execution_count": 166,
      "metadata": {},
      "outputs": [],
      "source": [
        "# 출력예시 "
      ],
      "id": "9d4094cd-861b-492d-b2cd-b98323ef4c4b"
    },
    {
      "cell_type": "markdown",
      "metadata": {},
      "source": [
        "------------------------------------------------------------------------\n",
        "\n",
        "`Oxford-III`: //\n",
        "[reference](https://www.robots.ox.ac.uk/~vgg/data/pets/)\n",
        "\n",
        "아래는 이미지 파일명들이 저장된 string을 불러오는 코드이다."
      ],
      "id": "527257bd-d79f-4f10-a875-bf3ec056d2f5"
    },
    {
      "cell_type": "code",
      "execution_count": 11,
      "metadata": {},
      "outputs": [],
      "source": [
        "import requests\n",
        "url = 'https://raw.githubusercontent.com/guebin/PP2023/main/posts/01_PythonBasic/Oxford-IIIT.txt'\n",
        "txt = requests.get(url).content.decode()"
      ],
      "id": "5d193377-5ff7-47be-94e6-772942c0acc4"
    },
    {
      "cell_type": "markdown",
      "metadata": {},
      "source": [
        "txt의 출력 일부를 나타내면 아래와 같다.\n",
        "\n",
        "``` default\n",
        "'Abyssinian_1.jpg\\nAbyssinian_10.jpg\\nAbyssinian_100.jpg\\nAbyssinian_100.mat\\nAbyssinian_101.jpg\\nAbyssinian_101.mat\\nAbyssinian_102.jpg\\nAbyssinian_102.mat\\nAbyssinian_103.jpg\\nAbyssinian_104.jpg\\nAbyssinian_105.jpg\\nAbyssinian_106.jpg\\nAbyssinian_107.jpg\\nAbyssinian_108.jpg\\nAbyssinian_109.jpg\\nAbyssinian_11.jpg\\nAbyssinian_110.jpg\\nAbyssinian_111.jpg\\nAbyssinian_112.jpg\\nAbyssinian_113.jpg\\nAbyssinian_114.jpg\\nAbyssinian_115.jpg\\nAbyssinian_116.jpg\\nAbyssinian_117.jpg\\nAbyssinian_118.jpg\\nAbyssinian_119.jpg\\nAbyssinian_12.jpg\\nAbyssinian_120.jpg\\nAbyssinian_121.jpg\\nAbyssinian_122.jpg\\nAbyssinian_123.jpg\\nAbyssinian_124.jpg\\nAbyssinian_125.jpg\\nAbyssinian_126.jpg\\nAbyssinian_127.jpg\\nAbyssinian_128.jpg\\nAbyssinian_129.jpg\\nAbyssinian_13.jpg\\nAbyssinian_130.jpg\\nAbyssinian_131.jpg\\nAbyssinian_132.jpg\\n ....... \n",
        "```\n",
        "\n",
        "`#`. 각 파일명은 `\\n`으로 구분되어있다. 위의 스트링을 분해하여 아래와\n",
        "같은 리스트를 생성하고 `fname_list`에 저장하라.\n",
        "\n",
        "``` python\n",
        "# fname_list 의 출력결과는 아래와 같아야 한다. \n",
        "['Abyssinian_1.jpg','Abyssinian_10.jpg', ... ,'yorkshire_terrier_98.jpg', 'yorkshire_terrier_99.jpg']\n",
        "```\n",
        "\n",
        "`#`. 각 이미지파일명은 아래와 같은 규칙으로 저장되어 있다.\n",
        "\n",
        "-   파일명의 첫글자가 대문자이면 고양이를 의미하고 첫글자가 소문자이면\n",
        "    강아지를 의미한다.\n",
        "-   `_` 이전의 영문명은 고양이 혹은 강아지의 종(breed)을 의미한다.\n",
        "\n",
        "이미지 파일명이 입력으로 오면 강아지인지 고양이인지 판단하여 ‘cat’ or\n",
        "’dog’를 리턴하는 함수 `f`를 구현하라.\n",
        "\n",
        "(함수사용예시)"
      ],
      "id": "357a1dfe-b57a-414e-80b5-44db71cf2f30"
    },
    {
      "cell_type": "code",
      "execution_count": 56,
      "metadata": {},
      "outputs": [],
      "source": [
        "f('yorkshire_terrier_99.jpg')"
      ],
      "id": "f3aa8a8e-3488-409f-95d6-777a69905fe9"
    },
    {
      "cell_type": "code",
      "execution_count": 58,
      "metadata": {},
      "outputs": [],
      "source": [
        "f('Abyssinian_1.jpg')"
      ],
      "id": "44bcb9a7-a9cc-43ce-ae02-11d14b8321b0"
    },
    {
      "cell_type": "markdown",
      "metadata": {},
      "source": [
        "`#`. 5의 결과로 나온 `fname_list`를 입력으로 하고 리스트의 각 원소가\n",
        "고양이를 의미하는 그림인지 강아지를 의미하는 그림인지 나타내는 리스트를\n",
        "만들어라.\n",
        "\n",
        "``` python\n",
        "## 입력예시 \n",
        "['Abyssinian_1.jpg','Abyssinian_10.jpg',...,'yorkshire_terrier_98.jpg', 'yorkshire_terrier_99.jpg']\n",
        "\n",
        "## 출력예시\n",
        "['cat', 'cat', ... , 'dog', 'dog']\n",
        "```\n",
        "\n",
        "`#`. 강아지 그림과 고양이 그림이 각각 몇 장씩 포함되어 있는지 파악하는\n",
        "코드를 구현하라.\n",
        "\n",
        "`#`. 포메라니안 종의 그림이 몇장있는지 파악하는 코드를 구현하라.\n",
        "\n",
        "**hint:** 포메라니안 그림은 파일명에 ‘pomeranian’ 을 포함한다.\n",
        "\n",
        "`#`. 아래의 `dct`는 포메라니안과 사모예드가 각각 몇장씩 포함되어있는지\n",
        "정리하기 위해 임시로 정리한 dictionary이다. 각 종이 몇 장씩\n",
        "포함되어있는지 구하여 `dct`를 수정하라."
      ],
      "id": "891e71eb-f2e8-4e01-b29f-3a2c49ce6bd7"
    },
    {
      "cell_type": "code",
      "execution_count": 34,
      "metadata": {},
      "outputs": [],
      "source": [
        "dct = {'pomeranian':0, 'samoyed':0} \n",
        "dct"
      ],
      "id": "98e4cf00-6497-4870-88ea-c51e6cfb7763"
    },
    {
      "cell_type": "markdown",
      "metadata": {},
      "source": [
        "예를들어 포메라니안과 사모에예드의 그림이 각각 200장씩 있다면 아래와\n",
        "같이 딕셔너리를 수정해야한다."
      ],
      "id": "6105e0e8-afe2-42d1-9010-4594fa5b78c1"
    },
    {
      "cell_type": "code",
      "execution_count": 92,
      "metadata": {},
      "outputs": [],
      "source": [
        "{'pomeranian':200, 'samoyed':200} "
      ],
      "id": "c728e613-6036-4882-bb66-c99282866e4f"
    }
  ],
  "nbformat": 4,
  "nbformat_minor": 5,
  "metadata": {
    "kernelspec": {
      "name": "python3",
      "display_name": "Python 3 (ipykernel)",
      "language": "python"
    },
    "language_info": {
      "name": "python",
      "codemirror_mode": {
        "name": "ipython",
        "version": "3"
      },
      "file_extension": ".py",
      "mimetype": "text/x-python",
      "nbconvert_exporter": "python",
      "pygments_lexer": "ipython3",
      "version": "3.11.8"
    }
  }
}