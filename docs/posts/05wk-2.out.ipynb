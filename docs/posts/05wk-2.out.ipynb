{
  "cells": [
    {
      "cell_type": "markdown",
      "metadata": {},
      "source": [
        "# 05wk-2: 파이썬의 자료형 (2)\n",
        "\n",
        "최규빈  \n",
        "2024-04-05\n",
        "\n",
        "<a href=\"https://colab.research.google.com/github/guebin/PP2024/blob/main/posts/05wk-2.ipynb\"><img src=\"https://colab.research.google.com/assets/colab-badge.svg\" style=\"text-align: left\"></a>\n",
        "\n",
        "# 1. 강의영상\n",
        "\n",
        "<https://youtu.be/playlist?list=PLQqh36zP38-z4lm3mTcpg5NgnWAz8sDcJ&si=wVTM7MEymev10lRH>\n",
        "\n",
        "# 2. Imports"
      ],
      "id": "46b319e0-5cd6-422a-adef-886e73948154"
    },
    {
      "cell_type": "code",
      "execution_count": 30,
      "metadata": {
        "tags": []
      },
      "outputs": [],
      "source": [
        "pass"
      ],
      "id": "a6f35f30-1b70-4329-acf2-88ad3f10a659"
    },
    {
      "cell_type": "markdown",
      "metadata": {},
      "source": [
        "# 3. `tuple`\n",
        "\n",
        "## A. 리스트 vs 튜플\n",
        "\n",
        "`-` 공통점: (1) 컨테이너형타입이라는 점, 그리고 (2) 연산 및 인덱싱을\n",
        "하는 방법은 리스트와 같음 - 차이점1: \\[\\] 대신에 ()를 사용한다. -\n",
        "차이점2: 불변형이다. (원소의 값을 바꿀 수 없음) - 차이점3: 하나의 원소를\n",
        "선언할 때는 (1,)와 같이 해야 한다. - 차이점4: 의미가 명확할때는 튜플의\n",
        "()를 생략가능하다.\n",
        "\n",
        "`-` 컨테이너형이라는 것이 무슨의미?"
      ],
      "id": "8e2f7060-dc72-4f20-a93f-156c60f4a0bf"
    },
    {
      "cell_type": "code",
      "execution_count": 39,
      "metadata": {},
      "outputs": [],
      "source": [
        "a=(4,6,'pencil', 3.2+4.6j, [3,4])"
      ],
      "id": "38e8aa9b-479c-4b3d-89cb-1e9f969799d6"
    },
    {
      "cell_type": "code",
      "execution_count": 41,
      "metadata": {},
      "outputs": [],
      "source": [
        "type(a[2])"
      ],
      "id": "ee84edcf-5a72-4c18-a7dc-30c6205a4a2a"
    },
    {
      "cell_type": "code",
      "execution_count": 42,
      "metadata": {},
      "outputs": [],
      "source": [
        "type(a[3])"
      ],
      "id": "21987988-4ee6-4914-b26d-c5f7c4662f6f"
    },
    {
      "cell_type": "markdown",
      "metadata": {},
      "source": [
        "`-` 연산의 유사성"
      ],
      "id": "371ee62d-50bc-4fe4-8af3-b5056d332abb"
    },
    {
      "cell_type": "code",
      "execution_count": 43,
      "metadata": {},
      "outputs": [],
      "source": [
        "(1,2) + (3,4,5)"
      ],
      "id": "8615ae16-ad1c-49c7-8385-36ccd0b1c51e"
    },
    {
      "cell_type": "code",
      "execution_count": 44,
      "metadata": {},
      "outputs": [],
      "source": [
        "(1,2) * 2"
      ],
      "id": "a28d4fba-671d-4877-94e5-dea249d603f7"
    },
    {
      "cell_type": "markdown",
      "metadata": {},
      "source": [
        "`-` 인덱싱의 유사성"
      ],
      "id": "c4b01d2b-6643-47d7-8c91-d4c5b4b58441"
    },
    {
      "cell_type": "code",
      "execution_count": 47,
      "metadata": {},
      "outputs": [],
      "source": [
        "tpl = (11,21,31)\n",
        "tpl[1:]"
      ],
      "id": "22e5ff0e-5dee-40bc-a4ef-2b3f4fdf5ffb"
    },
    {
      "cell_type": "markdown",
      "metadata": {},
      "source": [
        "`-` 차이점2: 불변형이라는 것은 무슨의미?"
      ],
      "id": "8f6b16bb-09b5-4044-987c-7a12f314dc91"
    },
    {
      "cell_type": "code",
      "execution_count": 13,
      "metadata": {},
      "outputs": [],
      "source": [
        "a[2] = 'Pencil'"
      ],
      "id": "8846c662-1799-4694-80f0-8e0ec48d7d42"
    },
    {
      "cell_type": "markdown",
      "metadata": {},
      "source": [
        "참고로 a를 튜플이 아니라 리스트로 선언하면 값이 잘 바뀐다."
      ],
      "id": "b74887b4-6291-48b8-aff2-482eeebc689c"
    },
    {
      "cell_type": "code",
      "execution_count": 14,
      "metadata": {},
      "outputs": [],
      "source": [
        "a=[4,6,'pencil', 3.2+4.6j, [3,4]]"
      ],
      "id": "fda9a368-da93-4ae5-8505-53733bfe8102"
    },
    {
      "cell_type": "code",
      "execution_count": 15,
      "metadata": {},
      "outputs": [],
      "source": [
        "a[2]"
      ],
      "id": "afd3a17e-bbf4-451d-9320-a5bdc767d2fc"
    },
    {
      "cell_type": "code",
      "execution_count": 16,
      "metadata": {},
      "outputs": [],
      "source": [
        "a[2]='Pencil'"
      ],
      "id": "979ea123-2aae-473a-bf9d-4678e36663e5"
    },
    {
      "cell_type": "code",
      "execution_count": 17,
      "metadata": {},
      "outputs": [],
      "source": [
        "a"
      ],
      "id": "8224ef5b-45d0-4c38-a7df-d7578cc2a463"
    },
    {
      "cell_type": "markdown",
      "metadata": {},
      "source": [
        "`-` 차이점3: 하나의 원소로 이루어진 튜플을 만들때는 쉼표를 붙여야 함."
      ],
      "id": "1232e178-e3a3-40c4-bfce-9f56faab32b0"
    },
    {
      "cell_type": "code",
      "execution_count": 238,
      "metadata": {},
      "outputs": [],
      "source": [
        "[1]+[2,3,4]"
      ],
      "id": "29405f89-2679-4add-9ae1-b7c08c191f17"
    },
    {
      "cell_type": "code",
      "execution_count": 239,
      "metadata": {},
      "outputs": [],
      "source": [
        "(1,)+(2,3,4)"
      ],
      "id": "5d7b4b31-5a01-45e2-9114-f4649c953f33"
    },
    {
      "cell_type": "markdown",
      "metadata": {},
      "source": [
        "`-` 차이점4: 의미가 명확할때 튜플의 괄호는 생략가능하다. (이게\n",
        "중요합니다)"
      ],
      "id": "0fffed1e-3e68-4b38-b53f-21b9aedf94ba"
    },
    {
      "cell_type": "code",
      "execution_count": 26,
      "metadata": {},
      "outputs": [],
      "source": [
        "a=1,2\n",
        "a"
      ],
      "id": "1a8bd9ea-6aa8-4641-ae4b-a9742cbdf1fa"
    },
    {
      "cell_type": "markdown",
      "metadata": {},
      "source": [
        "의미가 명확할때 생략해야함"
      ],
      "id": "8c62ccb4-7f24-4787-aa0b-15803672e369"
    },
    {
      "cell_type": "code",
      "execution_count": 240,
      "metadata": {},
      "outputs": [],
      "source": [
        "1,2 + 3,4,5 "
      ],
      "id": "f952afc7-6272-47ad-a88d-540885d5e957"
    },
    {
      "cell_type": "code",
      "execution_count": 241,
      "metadata": {},
      "outputs": [],
      "source": [
        "(1,2) + (3,4,5) "
      ],
      "id": "88ce1647-5b4c-4b0b-9506-e05de29c8df4"
    },
    {
      "cell_type": "markdown",
      "metadata": {},
      "source": [
        "## B. 선언\n",
        "\n",
        "`-` 소괄호를 이용"
      ],
      "id": "c6a608c5-6d14-43ad-b231-7b8270429de2"
    },
    {
      "cell_type": "code",
      "execution_count": 35,
      "metadata": {},
      "outputs": [],
      "source": [
        "a=(1,2,3)\n",
        "a"
      ],
      "id": "f3d8408f-63b3-4347-9138-2f38cac664e6"
    },
    {
      "cell_type": "code",
      "execution_count": 36,
      "metadata": {},
      "outputs": [],
      "source": [
        "type(a)"
      ],
      "id": "1c292263-9c7f-4865-b9f8-5d9ddbb63fa8"
    },
    {
      "cell_type": "markdown",
      "metadata": {},
      "source": [
        "`-` 생략가능하다는 점이 포인트"
      ],
      "id": "88c1ac96-0117-4ce9-bfb3-fabb2a7726e3"
    },
    {
      "cell_type": "code",
      "execution_count": 37,
      "metadata": {},
      "outputs": [],
      "source": [
        "a=1,2,3\n",
        "a"
      ],
      "id": "76be555a-fcdc-4c51-bded-81a9a2518571"
    },
    {
      "cell_type": "code",
      "execution_count": 38,
      "metadata": {},
      "outputs": [],
      "source": [
        "type(a)"
      ],
      "id": "321f37f9-e768-438d-80ca-267000078a51"
    },
    {
      "cell_type": "markdown",
      "metadata": {},
      "source": [
        "`-` 원소가 하나인 튜플을 만들고 싶다면?"
      ],
      "id": "e4a364fc-eedd-4f34-a6b6-6c0b5fc6cf29"
    },
    {
      "cell_type": "code",
      "execution_count": 39,
      "metadata": {},
      "outputs": [],
      "source": [
        "a=(1,)\n",
        "a"
      ],
      "id": "31c1bb01-c797-4e3b-bf11-de8964ce1bb6"
    },
    {
      "cell_type": "markdown",
      "metadata": {},
      "source": [
        "## C. 연산\n",
        "\n",
        "`-` 리스트와 동일"
      ],
      "id": "38ed08a6-bff9-4313-87d5-9b112bb8da7b"
    },
    {
      "cell_type": "code",
      "execution_count": 40,
      "metadata": {},
      "outputs": [],
      "source": [
        "(1,2)+(3,4,5)"
      ],
      "id": "d908daa9-9d1a-4986-95ec-232b7ebc2835"
    },
    {
      "cell_type": "code",
      "execution_count": 41,
      "metadata": {},
      "outputs": [],
      "source": [
        "(1,2)*2"
      ],
      "id": "727d8bc6-5fae-4129-aa5e-120cb39ad77b"
    },
    {
      "cell_type": "markdown",
      "metadata": {},
      "source": [
        "## D. 인덱싱\n",
        "\n",
        "`-` 리스트와 동일"
      ],
      "id": "5e5d749b-939b-4d5a-ae23-ef6e875a251b"
    },
    {
      "cell_type": "code",
      "execution_count": 42,
      "metadata": {},
      "outputs": [],
      "source": [
        "a=(1,2,3,-4,-5)\n",
        "a"
      ],
      "id": "d03ff4d8-0ab3-497f-b890-afad9d272ecc"
    },
    {
      "cell_type": "code",
      "execution_count": 43,
      "metadata": {},
      "outputs": [],
      "source": [
        "a[-1]"
      ],
      "id": "3b203180-ee6a-4ade-9bb0-6dd73a4781ab"
    },
    {
      "cell_type": "code",
      "execution_count": 44,
      "metadata": {},
      "outputs": [],
      "source": [
        "a[-3:]"
      ],
      "id": "2a9c5c40-bc54-4106-a6d1-e904ec771d89"
    },
    {
      "cell_type": "markdown",
      "metadata": {},
      "source": [
        "## E. 슬기로운 튜플사용 ($\\star$)\n",
        "\n",
        "`# 예제` – 여러변수를 동시에 출력하고 싶을 경우 (다중출력?)\n",
        "\n",
        "변수를 아래와 같이 선언하였다고 하자."
      ],
      "id": "811190ee-5c3c-4390-b234-d257873f37df"
    },
    {
      "cell_type": "code",
      "execution_count": 99,
      "metadata": {},
      "outputs": [],
      "source": [
        "a=1\n",
        "b=2\n",
        "c=3"
      ],
      "id": "4516b52f-224e-4955-8113-f0cb419efa90"
    },
    {
      "cell_type": "markdown",
      "metadata": {},
      "source": [
        "선언된 값을 확인하려면?"
      ],
      "id": "d24d3067-dcf7-43df-8f96-213e546fbe9a"
    },
    {
      "cell_type": "code",
      "execution_count": 100,
      "metadata": {},
      "outputs": [],
      "source": [
        "a"
      ],
      "id": "bbab3d3e-5807-4277-b059-d0e4423f8469"
    },
    {
      "cell_type": "code",
      "execution_count": 101,
      "metadata": {},
      "outputs": [],
      "source": [
        "b"
      ],
      "id": "b65fff83-9f68-46cc-a29b-b9009c101adf"
    },
    {
      "cell_type": "code",
      "execution_count": 102,
      "metadata": {},
      "outputs": [],
      "source": [
        "c"
      ],
      "id": "be67bc0a-e059-407f-aa49-e2621b86ac6c"
    },
    {
      "cell_type": "markdown",
      "metadata": {},
      "source": [
        "튜플을 이용하면?"
      ],
      "id": "eade1f9a-2f98-41a5-9979-09650a3b0667"
    },
    {
      "cell_type": "code",
      "execution_count": 103,
      "metadata": {},
      "outputs": [],
      "source": [
        "a,b,c # 괄호하나 생략하는것이 이렇게 편하다.."
      ],
      "id": "c124cf99-203f-492d-908c-8d22389f6dcc"
    },
    {
      "cell_type": "markdown",
      "metadata": {},
      "source": [
        "`#`\n",
        "\n",
        "`# 예제2` – 다중할당1 (여러개의 변수를 동시에 선언하고 싶을 경우)\n",
        "\n",
        "아래와 같이 `=`를 5번 쓰면 5개의 변수를 선언할 수 있다."
      ],
      "id": "204a829d-21f5-4eff-9428-ae42d3ccb9d1"
    },
    {
      "cell_type": "code",
      "execution_count": 105,
      "metadata": {},
      "outputs": [],
      "source": [
        "name = 'Tom'\n",
        "age = 20 \n",
        "sex = 'M'\n",
        "height = 180\n",
        "weight = 70"
      ],
      "id": "e06fd9ce-ca89-4623-8e8f-94078a244262"
    },
    {
      "cell_type": "markdown",
      "metadata": {},
      "source": [
        "튜플을 이용하면 좀더 간단히 하나의 `=` 로도 아래와 같이 선언할 수 있다."
      ],
      "id": "645e4973-7a09-4ec5-9589-b7ca9ba30090"
    },
    {
      "cell_type": "code",
      "execution_count": 115,
      "metadata": {},
      "outputs": [],
      "source": [
        "name, age, sex, height, weight = 'Tom', 20, 'M', 180, 70  # 다중할당"
      ],
      "id": "d7e97b65-32d7-4c80-a748-fb91611377a7"
    },
    {
      "cell_type": "markdown",
      "metadata": {},
      "source": [
        "`#`\n",
        "\n",
        "`# 예제2` – 다중할당2, 위도와 경도"
      ],
      "id": "666fdd5e-46c6-424c-a3af-f32eef701e7b"
    },
    {
      "cell_type": "code",
      "execution_count": 107,
      "metadata": {},
      "outputs": [],
      "source": [
        "coor = (37,127) # 서울 \n",
        "coor"
      ],
      "id": "30ac2fbf-3593-46f5-8a5e-088ec076fb5c"
    },
    {
      "cell_type": "code",
      "execution_count": 114,
      "metadata": {},
      "outputs": [],
      "source": [
        "lat, long = coor # 다중할당"
      ],
      "id": "ab1b9b14-a9f2-4b16-b6c6-616b9ecd781d"
    },
    {
      "cell_type": "code",
      "execution_count": 112,
      "metadata": {},
      "outputs": [],
      "source": [
        "lat "
      ],
      "id": "216bccd1-bc06-42da-ae64-4f115614660a"
    },
    {
      "cell_type": "code",
      "execution_count": 113,
      "metadata": {},
      "outputs": [],
      "source": [
        "long "
      ],
      "id": "387ca6ac-ab06-4fc8-9ca9-f50dbf29ff70"
    },
    {
      "cell_type": "markdown",
      "metadata": {},
      "source": [
        "`#`\n",
        "\n",
        "`# 잠깐만` – 다중할당은 꼭 튜플에서만 가능한가?\n",
        "\n",
        "그건 아니다…"
      ],
      "id": "09341bb9-1774-496c-b98f-13905c6de182"
    },
    {
      "cell_type": "code",
      "execution_count": 30,
      "metadata": {},
      "outputs": [],
      "source": [
        "[x,y,z] = [1,2,3] \n",
        "x,y,z # 다중출력 "
      ],
      "id": "215d531c-4b73-4aae-a010-7742127327c5"
    },
    {
      "cell_type": "code",
      "execution_count": 31,
      "metadata": {},
      "outputs": [],
      "source": [
        "[x,y] = 'hi'\n",
        "x,y "
      ],
      "id": "b47781c8-78ee-48bd-9fe2-1def9e20a0eb"
    },
    {
      "cell_type": "markdown",
      "metadata": {},
      "source": [
        "튜플과 같이 사용하면 가독성이 극대화 (그래서 다중할당은 거의 튜플과\n",
        "세트로 사용함)"
      ],
      "id": "4e7077dc-4a3f-43a3-8bb3-c33ad8651787"
    },
    {
      "cell_type": "code",
      "execution_count": 32,
      "metadata": {},
      "outputs": [],
      "source": [
        "x,y,z = 1,2,3\n",
        "x,y,z # 다중출력 "
      ],
      "id": "ebb3bc81-5aec-4659-8788-054845261230"
    },
    {
      "cell_type": "code",
      "execution_count": 33,
      "metadata": {},
      "outputs": [],
      "source": [
        "x,y = 'hi'\n",
        "x,y "
      ],
      "id": "9cbf8fed-fc2b-4d6f-b9e1-16437dc3edc7"
    },
    {
      "cell_type": "markdown",
      "metadata": {},
      "source": [
        "`#`\n",
        "\n",
        "`# 예제` – 임시변수 사용없이 두 변수의 값을 교환"
      ],
      "id": "f60dafdd-7a9f-4e48-9703-f0b1399c7fd5"
    },
    {
      "cell_type": "code",
      "execution_count": 144,
      "metadata": {},
      "outputs": [],
      "source": [
        "a=10\n",
        "b=20"
      ],
      "id": "009c8c53-1f14-48b9-8449-fb44db9cdcf3"
    },
    {
      "cell_type": "code",
      "execution_count": 145,
      "metadata": {},
      "outputs": [],
      "source": [
        "a,b"
      ],
      "id": "f3e24a3e-8a68-49d1-ba07-e5ce661a9539"
    },
    {
      "cell_type": "code",
      "execution_count": 146,
      "metadata": {},
      "outputs": [],
      "source": [
        "a,b = b,a "
      ],
      "id": "36b35c3b-12ce-4c71-ab0c-dc25b0351cbb"
    },
    {
      "cell_type": "code",
      "execution_count": 147,
      "metadata": {},
      "outputs": [],
      "source": [
        "a,b"
      ],
      "id": "27f38f59-872f-4ef7-9dc4-1bc866e419de"
    },
    {
      "cell_type": "markdown",
      "metadata": {},
      "source": [
        "`#`\n",
        "\n",
        "`# 예제` – for문과 튜플"
      ],
      "id": "bf59ef34-200c-41fe-813c-0cc8b6d58be7"
    },
    {
      "cell_type": "code",
      "execution_count": 148,
      "metadata": {},
      "outputs": [],
      "source": [
        "lst = [['guebin', 202112345, 'M'],\n",
        "       ['iu',202254321, 'F'],\n",
        "       ['hodong', 202011223, 'M']]\n",
        "lst"
      ],
      "id": "0a4a05d6-fb2b-4b88-9f6e-186e90cf5ba1"
    },
    {
      "cell_type": "code",
      "execution_count": 149,
      "metadata": {},
      "outputs": [],
      "source": [
        "lst[0]"
      ],
      "id": "ae113f21-9c20-4c8f-8738-6f9fa7b548ec"
    },
    {
      "cell_type": "code",
      "execution_count": 39,
      "metadata": {},
      "outputs": [
        {
          "output_type": "stream",
          "name": "stdout",
          "text": [
            "guebin M\n",
            "iu F\n",
            "hodong M"
          ]
        }
      ],
      "source": [
        "for name,studentid,sex in lst: \n",
        "    print(name,sex)"
      ],
      "id": "37226fd2-1de6-44b4-a6f7-a79027061ada"
    },
    {
      "cell_type": "markdown",
      "metadata": {},
      "source": [
        "`#`\n",
        "\n",
        "`# 예제` – for문과 튜플, dummy variable `_`"
      ],
      "id": "a2487fc4-0fb6-4421-b31a-ab81def36e4e"
    },
    {
      "cell_type": "code",
      "execution_count": 155,
      "metadata": {},
      "outputs": [
        {
          "output_type": "stream",
          "name": "stdout",
          "text": [
            "202112345\n",
            "202254321\n",
            "202011223"
          ]
        }
      ],
      "source": [
        "for name,studentid,sex in lst: \n",
        "    print(studentid)"
      ],
      "id": "8dcfbdf1-fbd6-4409-b882-a0c9e1fddae3"
    },
    {
      "cell_type": "code",
      "execution_count": 156,
      "metadata": {},
      "outputs": [
        {
          "output_type": "stream",
          "name": "stdout",
          "text": [
            "202112345\n",
            "202254321\n",
            "202011223"
          ]
        }
      ],
      "source": [
        "for _,studentid,_ in lst: \n",
        "    print(studentid)"
      ],
      "id": "731c9eaa-81f0-4d1b-872d-092e6df6b949"
    },
    {
      "cell_type": "code",
      "execution_count": 157,
      "metadata": {},
      "outputs": [
        {
          "output_type": "stream",
          "name": "stdout",
          "text": [
            "M\n",
            "F\n",
            "M"
          ]
        }
      ],
      "source": [
        "for _,_,sex in lst: \n",
        "    print(sex)"
      ],
      "id": "99874b09-1cf1-4f09-9c60-9395266e4271"
    },
    {
      "cell_type": "code",
      "execution_count": 158,
      "metadata": {},
      "outputs": [
        {
          "output_type": "stream",
          "name": "stdout",
          "text": [
            "guebin M\n",
            "iu F\n",
            "hodong M"
          ]
        }
      ],
      "source": [
        "for name,_,sex in lst: \n",
        "    print(name,sex)"
      ],
      "id": "9a955f19-a1ec-4306-b7aa-bb6093fed94b"
    },
    {
      "cell_type": "code",
      "execution_count": 168,
      "metadata": {},
      "outputs": [
        {
          "output_type": "stream",
          "name": "stdout",
          "text": [
            "guebin\n",
            "iu\n",
            "hodong"
          ]
        }
      ],
      "source": [
        "for name,_,_  in lst: \n",
        "    print(name)"
      ],
      "id": "acd8135e-715a-4e16-8aa3-c80dcdc0a65a"
    },
    {
      "cell_type": "markdown",
      "metadata": {},
      "source": [
        "`#`\n",
        "\n",
        "`# 예제` – 튜플과 언패킹연산자 `*`\n",
        "\n",
        "아래와 같이 관심없는것 모두를 other라는 이름으로 받을 수 있음"
      ],
      "id": "0768c5a1-17a1-4bb5-9641-c8ffee76678a"
    },
    {
      "cell_type": "code",
      "execution_count": 167,
      "metadata": {},
      "outputs": [
        {
          "output_type": "stream",
          "name": "stdout",
          "text": [
            "guebin [202112345, 'M']\n",
            "iu [202254321, 'F']\n",
            "hodong [202011223, 'M']"
          ]
        }
      ],
      "source": [
        "for name,*other  in lst: \n",
        "    print(name,other)"
      ],
      "id": "0118fe47-fa2c-48ff-a9f7-751887fbebcb"
    },
    {
      "cell_type": "markdown",
      "metadata": {},
      "source": [
        "`*`의 동작을 더 세심히 살펴보자."
      ],
      "id": "2de1352f-a5e1-443d-9727-1cd9460226bc"
    },
    {
      "cell_type": "code",
      "execution_count": 186,
      "metadata": {},
      "outputs": [],
      "source": [
        "head, body, *tail = range(1,11) \n",
        "head, body, tail"
      ],
      "id": "7971d3d2-b024-4484-a6ba-bf1c1d080eb1"
    },
    {
      "cell_type": "code",
      "execution_count": 11,
      "metadata": {},
      "outputs": [],
      "source": [
        "head1,head2, *body, tail1,tail2,tail3 = range(1,11) \n",
        "head1,head2, body, tail1,tail2,tail3 "
      ],
      "id": "dace6635-9b0c-46d5-a90f-25cde76bc62e"
    },
    {
      "cell_type": "code",
      "execution_count": 12,
      "metadata": {},
      "outputs": [],
      "source": [
        "*head, body, tail = range(1,11) \n",
        "head, body, tail"
      ],
      "id": "dd5f0201-90b3-46ca-aa52-e3e9e6b10dc7"
    },
    {
      "cell_type": "markdown",
      "metadata": {},
      "source": [
        "(관찰)\n",
        "\n",
        "그러고 보니까..\n",
        "\n",
        "``` python\n",
        "[*head, body, tail] = [1,2,3,4,5,6,7,8,9,10] \n",
        "[head, body, tail] = [[1,2,3,4,5,6,7,8],9,10] \n",
        "```\n",
        "\n",
        "이렇다는 거잖아?\n",
        "\n",
        "`*`를 붙이면 1차원 자료구조가 풀린다..?"
      ],
      "id": "b0e94fba-55cb-4bd7-8368-0506971b3c6a"
    },
    {
      "cell_type": "code",
      "execution_count": 24,
      "metadata": {},
      "outputs": [],
      "source": [
        "[1,2,[1,2,3]]"
      ],
      "id": "bd00a823-8723-47cd-bdbc-5cf82ac79a48"
    },
    {
      "cell_type": "code",
      "execution_count": 25,
      "metadata": {},
      "outputs": [],
      "source": [
        "[1,2,*[1,2,3]]"
      ],
      "id": "09ea5c01-ec72-4aae-b343-061b7fcea2a9"
    },
    {
      "cell_type": "markdown",
      "metadata": {},
      "source": [
        "`-` 단독사용은 불가능"
      ],
      "id": "c105f64d-615e-4b43-8e4e-23cf2a48212b"
    },
    {
      "cell_type": "code",
      "execution_count": 187,
      "metadata": {},
      "outputs": [],
      "source": [
        "*[1,2,3]"
      ],
      "id": "1d901025-3830-45ba-b09e-72544a68addb"
    },
    {
      "cell_type": "markdown",
      "metadata": {},
      "source": [
        "## F. 튜플을 왜 쓸까? – 제 생각..\n",
        "\n",
        "`-` 질문: 리스트를 쓰지 않고 왜 튜플을 써야하나?\n",
        "\n",
        "`-` 답변1: (책의 설명)\n",
        "\n",
        "-   초보적인 설명: 실수방지\n",
        "-   더 정확한 설명: 빠르다, 여러사람과 작업하기 유리하다,\n",
        "    깊은복사/얕은복사시 원하지 않는 오류 (side effect 이라고 함) 방지\n",
        "\n",
        "`-` 답변2: 괄호를 생략할 수 있기 때문에, 리스트 말고 튜플을 쓰면 편함.\n",
        "\n",
        "-   소괄호의 생략 + 언패킹 $\\Rightarrow$ 엄청난 가독성.\n",
        "-   컴공과 사람들 의견: 튜플 + 언패킹 $\\Rightarrow$ 엄청난 가독성\n",
        "    $\\Rightarrow$ 충격 $\\Rightarrow$ “파이썬 편하더라고요..”\n",
        "\n",
        "`-` 근본적인 의문: 파이썬을 처음 만들때 리스트에 괄호를 생략하는 기능을\n",
        "추가했으면 편했잖아?\n",
        "\n",
        "`-` 저의 설명: `리스트=신라면`, `튜플=라면사리` 같은 느낌으로 이해하면\n",
        "된다. 불변형(튜플)은 기능제한이 있는데, 가변형(리스트)는 기능이\n",
        "풍부하다. 대신에, 가변형은 느리고 무겁다.\n",
        "\n",
        "-   기능적으로만 보면, 신라면이 있으면 스프를 버리고 라면사리를 얻을 수\n",
        "    있음, 그래서 라면사리는 필요없음.\n",
        "-   그런데 신라면에서 스프를 버려서 라면사리를 항상 얻는다면,\n",
        "    비효율적임.\n",
        "-   우리가 원하는게 (1) 원소를 벡터형태로 모은뒤 (2) 벡터자체를\n",
        "    출력해보고 (3) 각 원소를 `sort`하고 (4) 원소를 추가 `append`하고 (5)\n",
        "    원소를 삭제 `remove` 하는 것 일수도 있음. 그렇지만 진짜 단순하게\n",
        "    (1),(2) 만 원할수도있음.\n",
        "-   단순히 (1)-(2)의 목적으로 리스트를 사용하는건 비효율적이니까\n",
        "    불변형인 튜플을 만듦. (1)-(2)를 사용함에 있어서 편리성을 극대화\n",
        "    하기위해 괄호도 생략하게 해줌."
      ],
      "id": "36c1d7b0-da8d-4441-8c9a-8a2fdaac2c45"
    },
    {
      "cell_type": "code",
      "execution_count": 208,
      "metadata": {},
      "outputs": [],
      "source": [
        "def mycal(a,b):\n",
        "    return a+b, a-b, a*b, a/b # 여러개의 값을 리턴하는듯 보임 -> 사실은 길이가 4인 튜플 1개를 리턴"
      ],
      "id": "2d50ad84-b023-49df-8fc9-31a8b3b5d849"
    },
    {
      "cell_type": "code",
      "execution_count": 207,
      "metadata": {},
      "outputs": [],
      "source": [
        "mycal(1,2)"
      ],
      "id": "82bcfb1f-2665-4ae0-ab99-67c238530da0"
    },
    {
      "cell_type": "code",
      "execution_count": 209,
      "metadata": {},
      "outputs": [],
      "source": [
        "_,_,mul,_ = mycal(1,2)"
      ],
      "id": "24c4226d-a6db-45ce-89a5-29c48b7bb87a"
    },
    {
      "cell_type": "code",
      "execution_count": 210,
      "metadata": {},
      "outputs": [],
      "source": [
        "mul"
      ],
      "id": "bb5e3cd5-7656-4bc5-ad51-1fee31a4827e"
    },
    {
      "cell_type": "markdown",
      "metadata": {},
      "source": [
        "## G. 연습문제들\n",
        "\n",
        "`# 문제`. 길이가 1인 튜플을 만들어 자신의 학번을 저장하라. 길이가 1인\n",
        "튜플을 만들어 자신의 영문이름을 저장하라. 두 튜플을 + 연산자로\n",
        "합쳐아래와 같은 출력결과를 얻어라. 최종 결과는 예를들면 아래와 같아야\n",
        "한다."
      ],
      "id": "784bbc6d-9f9b-4cf4-80f0-2efe88a429d7"
    },
    {
      "cell_type": "code",
      "execution_count": 77,
      "metadata": {},
      "outputs": [],
      "source": [
        "('2021-43052', 'GuebinChoi')"
      ],
      "id": "594ac777-5b55-454d-b3e6-c04fc66b9ebc"
    },
    {
      "cell_type": "markdown",
      "metadata": {},
      "source": [
        "(풀이)"
      ],
      "id": "f59cc56b-46f8-4c65-9694-06ea84ab3006"
    },
    {
      "cell_type": "code",
      "execution_count": 212,
      "metadata": {},
      "outputs": [],
      "source": [
        "sid = ('2021-43052',)\n",
        "name = ('GuebinChoi',)"
      ],
      "id": "b04e1d4f-721b-4f9c-8952-cd94727a8faa"
    },
    {
      "cell_type": "code",
      "execution_count": 214,
      "metadata": {},
      "outputs": [],
      "source": [
        "sid+name"
      ],
      "id": "a9c12a4c-6881-4b7e-a7cf-6263b1ddf986"
    },
    {
      "cell_type": "markdown",
      "metadata": {},
      "source": [
        "`파이썬프로그래밍 수강생`. 아래는 파이썬프로그래밍 수강생들의 학번,\n",
        "이름, 출석점수, 과제점수, 중간고사점수, 기말고사점수를 저장한\n",
        "중첩리스트이다."
      ],
      "id": "3fcd430c-bbea-4e0e-b2d6-57f18b20c390"
    },
    {
      "cell_type": "code",
      "execution_count": 215,
      "metadata": {},
      "outputs": [],
      "source": [
        "lst = [['2021-43052', 'GuebinChoi', 5, 10, 20, 25],\n",
        "       ['2019-12342', 'Heung-min Son', 10, 15, 30, 15],\n",
        "       ['2018-32234', 'hynn', 7, 20, 30, 15],\n",
        "       ['2022-42323', 'Minji', 8, 20, 20, 35],\n",
        "       ['2023-55342', 'Hanni', 7, 20, 30, 35],\n",
        "       ['2022-46624', 'Danielle', 3, 15, 30, 40],\n",
        "       ['2022-11239', 'Haerin', 10, 20, 30, 40],\n",
        "       ['2022-32114', 'Hyein', 10, 20, 20, 35]]\n",
        "lst "
      ],
      "id": "fe05b59e-a5a6-49e7-83e0-a3cdfac5e2cf"
    },
    {
      "cell_type": "markdown",
      "metadata": {},
      "source": [
        "`# 문제`. 파이썬프로그래밍 수강생의 수는 모두 몇명인가?\n",
        "\n",
        "(풀이)"
      ],
      "id": "29f00a8d-dcb9-4eef-9bfb-8bd869758d80"
    },
    {
      "cell_type": "code",
      "execution_count": 217,
      "metadata": {},
      "outputs": [],
      "source": [
        "len(lst)"
      ],
      "id": "92d0eac9-1e03-43ee-80d1-7f32e216e708"
    },
    {
      "cell_type": "markdown",
      "metadata": {},
      "source": [
        "`#`. 전북대학교 지침에 따라 출석점수가 7보다 작은 학생은 (즉\n",
        "`출석점수 < 7` 일 경우) F학점을 부여하게 되어있다. 이 기준에 따르면 F를\n",
        "받는 학생은 모두 몇명인가?\n",
        "\n",
        "(풀이)"
      ],
      "id": "b609cfef-f124-40ab-8ed5-995f79adac10"
    },
    {
      "cell_type": "code",
      "execution_count": 221,
      "metadata": {},
      "outputs": [],
      "source": [
        "sum([att<7 for _,_,att,*other in lst])"
      ],
      "id": "58ed0d42-3d28-42fd-b2a1-e1429f04ad76"
    },
    {
      "cell_type": "markdown",
      "metadata": {},
      "source": [
        "`# 문제`. 파이썬프로그래밍 수업의 경우 `출석+레포트 < 21` 일 경우\n",
        "F학점을 부여한다고 한다. 이 기준에 따르면 F를 받는 학생은 모두 몇명인가?\n",
        "\n",
        "(풀이)"
      ],
      "id": "f733aa48-38af-4290-a9d8-acb6bc9621fc"
    },
    {
      "cell_type": "code",
      "execution_count": 232,
      "metadata": {},
      "outputs": [],
      "source": [
        "sum([att+rep<21 for _,_,att,rep,*other in lst])"
      ],
      "id": "6b9fc593-3ec4-4f46-a7ec-a98a8eb77183"
    },
    {
      "cell_type": "markdown",
      "metadata": {},
      "source": [
        "`# 문제`. 리스트의 정렬순서를 \\[학번, 이름, …, 기말고사점수\\] 가 아니라\n",
        "\\[이름, 학번, … , 기말고사점수\\] 와 같이 되도록 변경하는 코드를\n",
        "작성하라.\n",
        "\n",
        "(출력예시)"
      ],
      "id": "88f4b4ac-e996-4908-b0b8-0000b39e2bf9"
    },
    {
      "cell_type": "code",
      "execution_count": 234,
      "metadata": {},
      "outputs": [],
      "source": [
        "[['GuebinChoi', '2021-43052', 5, 10, 20, 25],\n",
        " ['Heung-min Son', '2019-12342', 10, 15, 30, 15],\n",
        " ['hynn', '2018-32234', 7, 20, 30, 15],\n",
        " ['Minji', '2022-42323', 8, 20, 20, 35],\n",
        " ['Hanni', '2023-55342', 7, 20, 30, 35],\n",
        " ['Danielle', '2022-46624', 3, 15, 30, 40],\n",
        " ['Haerin', '2022-11239', 10, 20, 30, 40],\n",
        " ['Hyein', '2022-32114', 10, 20, 20, 35]]"
      ],
      "id": "1bf7128f-cbe9-4cc7-a71a-1578858754f4"
    },
    {
      "cell_type": "markdown",
      "metadata": {},
      "source": [
        "(풀이)"
      ],
      "id": "9711e9ac-a612-4f85-9ee0-4b765aa78e5e"
    },
    {
      "cell_type": "code",
      "execution_count": 237,
      "metadata": {},
      "outputs": [],
      "source": [
        "[[name,sid,*other] for sid,name,*other in lst]"
      ],
      "id": "e2217285-4fb4-422c-91c2-1a3b6b1f23b0"
    },
    {
      "cell_type": "markdown",
      "metadata": {},
      "source": [
        "# 4. 잡기술 (하지만 유용해)\n",
        "\n",
        "## A. 인덱싱고급 (스트라이딩)\n",
        "\n",
        "`-` 스트라이딩 \\[start:end:step\\]"
      ],
      "id": "6a0d9ef7-5972-43dd-a52c-6c350b807ec9"
    },
    {
      "cell_type": "code",
      "execution_count": 240,
      "metadata": {},
      "outputs": [],
      "source": [
        "lst = list('abcdefghijk')\n",
        "lst"
      ],
      "id": "1932c6a3-f1d0-4060-80ac-ad1a035e5b1c"
    },
    {
      "cell_type": "code",
      "execution_count": 245,
      "metadata": {},
      "outputs": [],
      "source": [
        "len(lst)"
      ],
      "id": "913feff7-e56b-42d3-bedb-d10fb1c9413c"
    },
    {
      "cell_type": "code",
      "execution_count": 255,
      "metadata": {},
      "outputs": [],
      "source": [
        "lst[0:9:2]"
      ],
      "id": "83bafeb5-fd04-41d8-9d6d-d895d6ea0d31"
    },
    {
      "cell_type": "markdown",
      "metadata": {},
      "source": [
        "`-` 생략"
      ],
      "id": "3a1f8ba1-9438-4a54-8ab8-ac7c44155e00"
    },
    {
      "cell_type": "code",
      "execution_count": 22,
      "metadata": {},
      "outputs": [],
      "source": [
        "lst[0:9]\n",
        "#lst[0:9:]\n",
        "#lst[0:9:1]"
      ],
      "id": "d54c5326-b443-4f6a-a242-70a41bbe969b"
    },
    {
      "cell_type": "code",
      "execution_count": 256,
      "metadata": {},
      "outputs": [],
      "source": [
        "lst[1::3]"
      ],
      "id": "6c0f0814-195e-4838-8e7f-4aee98933d02"
    },
    {
      "cell_type": "code",
      "execution_count": 257,
      "metadata": {},
      "outputs": [],
      "source": [
        "lst[:8:3]"
      ],
      "id": "a4a62f96-00b1-42e2-abcc-0f5d998c33d6"
    },
    {
      "cell_type": "markdown",
      "metadata": {},
      "source": [
        "`# 예제1`: 짝수/홀수 원소 추출\n",
        "\n",
        "아래와 같은 문자열이 있다고 하자."
      ],
      "id": "8a81704e-920a-4ec1-b3a8-8802087e2494"
    },
    {
      "cell_type": "code",
      "execution_count": 26,
      "metadata": {},
      "outputs": [],
      "source": [
        "lst = list('abcdefghijk')\n",
        "lst"
      ],
      "id": "6c054bfd-339c-4a8a-8420-c84ad44a224f"
    },
    {
      "cell_type": "markdown",
      "metadata": {},
      "source": [
        "`index = 0,2,4, ...` 에 해당하는 원소를 출력하라."
      ],
      "id": "d563afeb-fa5a-4945-b60f-e42367b20779"
    },
    {
      "cell_type": "code",
      "execution_count": 258,
      "metadata": {},
      "outputs": [],
      "source": [
        "lst[::2]"
      ],
      "id": "a0684eb6-29fe-43af-9a2e-baa3265fff3d"
    },
    {
      "cell_type": "markdown",
      "metadata": {},
      "source": [
        "`index = 1,4,7 ...` 에 해당하는 원소를 출력하라."
      ],
      "id": "5d2cf762-548f-4405-9b3e-32a62dbd8dd4"
    },
    {
      "cell_type": "code",
      "execution_count": 259,
      "metadata": {},
      "outputs": [],
      "source": [
        "lst[1::3]"
      ],
      "id": "71b30f62-3d03-4c18-af52-7c74d81f24df"
    },
    {
      "cell_type": "markdown",
      "metadata": {},
      "source": [
        "`#`\n",
        "\n",
        "`# 예제2` – 세로로..\n",
        "\n",
        "------------------------------------------------------------------------\n",
        "\n",
        "(예제2를 위한 예비학습) 문자열에서 `\\n`을 출력하면 출력시 줄바꿈이\n",
        "일어난다."
      ],
      "id": "1e248a53-d40f-44d0-a173-1727e255f5b0"
    },
    {
      "cell_type": "code",
      "execution_count": 264,
      "metadata": {},
      "outputs": [
        {
          "output_type": "stream",
          "name": "stdout",
          "text": [
            "1행\n",
            "2행\n",
            "3행"
          ]
        }
      ],
      "source": [
        "print('1행\\n2행\\n3행')"
      ],
      "id": "bcc38d0b-cb43-4be9-842c-fc153693e9d5"
    },
    {
      "cell_type": "markdown",
      "metadata": {},
      "source": [
        "예비학습 끝\n",
        "\n",
        "------------------------------------------------------------------------\n",
        "\n",
        "아래와 같은 문자열이 있다고 하자."
      ],
      "id": "a686770a-459e-49b7-882d-64d0e07e18d9"
    },
    {
      "cell_type": "code",
      "execution_count": 265,
      "metadata": {},
      "outputs": [
        {
          "output_type": "stream",
          "name": "stdout",
          "text": [
            "너같이사랑스럽고\n",
            "또예쁘고도멋지고\n",
            "속훤히보이는너알\n",
            "았어그동안고마웠\n",
            "지정말정말사랑해"
          ]
        }
      ],
      "source": [
        "txt = '너같이사랑스럽고\\n또예쁘고도멋지고\\n속훤히보이는너알\\n았어그동안고마웠\\n지정말정말사랑해'\n",
        "print(txt)"
      ],
      "id": "e8503b52-61bf-4213-a827-cce5fb9078f5"
    },
    {
      "cell_type": "markdown",
      "metadata": {},
      "source": [
        "위 문자열을 세로로 읽는 코드를 작성하라. (9칸씩 점프하면서 읽으면 된다)\n",
        "\n",
        "(풀이)"
      ],
      "id": "6f368954-8f85-422a-b151-4b0c06904c0a"
    },
    {
      "cell_type": "code",
      "execution_count": 267,
      "metadata": {},
      "outputs": [],
      "source": [
        "txt[::9]"
      ],
      "id": "9c202bef-336d-48e7-bf1c-b3d9a2a51544"
    },
    {
      "cell_type": "markdown",
      "metadata": {},
      "source": [
        "`#`\n",
        "\n",
        "`-` step = -1 이면?"
      ],
      "id": "96412c22-5b0c-4bbf-b92d-10a48521adb5"
    },
    {
      "cell_type": "code",
      "execution_count": 268,
      "metadata": {},
      "outputs": [],
      "source": [
        "lst"
      ],
      "id": "6daba8b7-77db-4a3b-900e-0392692d366d"
    },
    {
      "cell_type": "code",
      "execution_count": 270,
      "metadata": {},
      "outputs": [],
      "source": [
        "lst[::-1]"
      ],
      "id": "2cdeb3f2-e84a-4311-b71a-481888eff7fd"
    },
    {
      "cell_type": "markdown",
      "metadata": {},
      "source": [
        "`-` 스트라이딩으로 `step = -1` 옵션 주기 vs 리스트의 `.reverse()` 메소드\n",
        "이용하기\n",
        "\n",
        "관찰1: reverse 메소드는 리스트 자체를 변화시킴"
      ],
      "id": "84d62d97-dbce-4dae-af3f-e00e60863b75"
    },
    {
      "cell_type": "code",
      "execution_count": 281,
      "metadata": {},
      "outputs": [],
      "source": [
        "lst = list('abcdefgh')\n",
        "lst"
      ],
      "id": "cbf92f52-5662-4b91-986c-5ad3b991008f"
    },
    {
      "cell_type": "code",
      "execution_count": 282,
      "metadata": {},
      "outputs": [],
      "source": [
        "lst.reverse()  \n",
        "lst"
      ],
      "id": "bb3f7a99-1ffb-437b-8465-d8f19ea8a90a"
    },
    {
      "cell_type": "markdown",
      "metadata": {},
      "source": [
        "관찰2: \\[::-1\\]는 리스트는 변화시키지 않음"
      ],
      "id": "a21f89d7-b870-4ddc-81df-94633383b4db"
    },
    {
      "cell_type": "code",
      "execution_count": 283,
      "metadata": {},
      "outputs": [],
      "source": [
        "lst = list('abcdefgh')\n",
        "lst"
      ],
      "id": "7ad2416b-2888-4fb7-8c01-21505fcc9bfd"
    },
    {
      "cell_type": "code",
      "execution_count": 284,
      "metadata": {},
      "outputs": [],
      "source": [
        "lst[::-1]"
      ],
      "id": "b64f0c1c-abd5-4818-b59a-ff9d13a087a0"
    },
    {
      "cell_type": "code",
      "execution_count": 285,
      "metadata": {},
      "outputs": [],
      "source": [
        "lst"
      ],
      "id": "29b8ebe3-f154-458b-a92a-2879a50c2fc9"
    },
    {
      "cell_type": "markdown",
      "metadata": {},
      "source": [
        "`-` -step 은 쓰기 까다롭다.\n",
        "\n",
        "(예제) 처음과 끝을 생략하지 않고 아래와 동일한 효과를 주는 코드를 만들어\n",
        "보자.\n",
        "\n",
        "(풀이)\n",
        "\n",
        "결국 lst\\[?:?:-1\\]의 꼴에서 적당히 ?의 값을 채우면 된다. –\\> 어려워"
      ],
      "id": "67a45d81-0c17-4347-8147-ac28bc7574eb"
    },
    {
      "cell_type": "code",
      "execution_count": 298,
      "metadata": {},
      "outputs": [],
      "source": [
        "lst"
      ],
      "id": "8d18836d-dd17-4ea9-977d-b7608045eec4"
    },
    {
      "cell_type": "code",
      "execution_count": 299,
      "metadata": {},
      "outputs": [],
      "source": [
        "lst[::-1]"
      ],
      "id": "81ce7a11-3588-4e4c-bbc2-a4116294f4e7"
    },
    {
      "cell_type": "markdown",
      "metadata": {},
      "source": [
        "| None |  a  |  b  |  c  |  d  |  e  |  f  |  g  |  h  | None |\n",
        "|:----:|:---:|:---:|:---:|:---:|:---:|:---:|:---:|:---:|:----:|\n",
        "|  ?   |  0  |  1  |  2  |  3  |  4  |  5  |  6  |  7  |  8   |\n",
        "|  -9  | -8  | -7  | -6  | -5  | -4  | -3  | -2  | -1  |  ?   |"
      ],
      "id": "382030fc-1e7d-4ca4-827c-192aa3a0a187"
    },
    {
      "cell_type": "code",
      "execution_count": 300,
      "metadata": {},
      "outputs": [],
      "source": [
        "lst[-1:-9:-1]  # 지양 <-- 쓰지마.."
      ],
      "id": "e0e2eecf-ad1e-4b9c-8f6e-208e5a9f241b"
    },
    {
      "cell_type": "markdown",
      "metadata": {},
      "source": [
        "## B. len함수\n",
        "\n",
        "`-` 0차원 자료형은 len함수가 동작하지 않음"
      ],
      "id": "2d6c81d3-2963-42eb-92ba-2a2ef3775bc5"
    },
    {
      "cell_type": "code",
      "execution_count": 302,
      "metadata": {},
      "outputs": [],
      "source": [
        "a=1 \n",
        "len(a)"
      ],
      "id": "c595a23e-64ed-48b7-a665-a792ddd038ca"
    },
    {
      "cell_type": "code",
      "execution_count": 303,
      "metadata": {},
      "outputs": [],
      "source": [
        "a=True\n",
        "len(a)"
      ],
      "id": "78214b2d-63f8-466b-b986-dcec71442306"
    },
    {
      "cell_type": "code",
      "execution_count": 304,
      "metadata": {},
      "outputs": [],
      "source": [
        "a=3.14\n",
        "len(a)"
      ],
      "id": "186a506d-459a-4279-b998-72d426f570bb"
    },
    {
      "cell_type": "markdown",
      "metadata": {},
      "source": [
        "> note: 이것이 어떠한 수학적인 의미를 가지거나 0차원의 본질적진리를\n",
        "> 뜻하는 것은 아님. R에서는 1,3.14,TRUE의 길이가 1로 존재함.\n",
        "\n",
        "`-` 1차원 자료형은 len함수가 동작"
      ],
      "id": "a6a9d2c1-8f56-41cc-bfc8-d11bb92e864a"
    },
    {
      "cell_type": "code",
      "execution_count": 305,
      "metadata": {},
      "outputs": [],
      "source": [
        "a='guebin'\n",
        "len(a)"
      ],
      "id": "2e84727f-9407-4130-980a-2dcb7ac04b21"
    },
    {
      "cell_type": "code",
      "execution_count": 306,
      "metadata": {},
      "outputs": [],
      "source": [
        "a=[1,2,3,4,5,6]\n",
        "len(a)"
      ],
      "id": "d07300c7-e42d-4ebe-b0f7-3ab192bd9fab"
    },
    {
      "cell_type": "code",
      "execution_count": 307,
      "metadata": {},
      "outputs": [],
      "source": [
        "a=1,2,3,4,5,6 \n",
        "len(a)"
      ],
      "id": "77633684-46a3-41e7-ba6f-10aaef7d5a93"
    },
    {
      "cell_type": "code",
      "execution_count": 309,
      "metadata": {},
      "outputs": [],
      "source": [
        "a=range(10)\n",
        "len(a)"
      ],
      "id": "42f1e96a-cb94-4e0f-9495-e316cc875a1d"
    },
    {
      "cell_type": "markdown",
      "metadata": {},
      "source": [
        "`-` 길이가 1인 1차원 자료형과 0차원 자료형은 다른것임"
      ],
      "id": "9d0c7efb-caa7-473a-9b76-d8eff98d0f27"
    },
    {
      "cell_type": "code",
      "execution_count": 310,
      "metadata": {},
      "outputs": [],
      "source": [
        "a='g'\n",
        "len(a)"
      ],
      "id": "ca864850-1a82-4ebe-9700-54aaa4ce546f"
    },
    {
      "cell_type": "code",
      "execution_count": 311,
      "metadata": {},
      "outputs": [],
      "source": [
        "a=[1]\n",
        "len(a)"
      ],
      "id": "22fe6eef-be6c-4c1f-abba-89ee2e8f5118"
    },
    {
      "cell_type": "code",
      "execution_count": 312,
      "metadata": {},
      "outputs": [],
      "source": [
        "a=(1,)\n",
        "len(a)"
      ],
      "id": "b8a1fa46-9564-4c0c-b6e7-0a3e104e286a"
    },
    {
      "cell_type": "code",
      "execution_count": 313,
      "metadata": {},
      "outputs": [],
      "source": [
        "a=range(1)\n",
        "len(a)"
      ],
      "id": "d9cc91b7-06b3-4659-bc09-1ca63b6762f0"
    },
    {
      "cell_type": "markdown",
      "metadata": {},
      "source": [
        "`-` 길이가 0인 1차원 자료형도 존재함"
      ],
      "id": "aecc7020-6182-4be3-953a-e54e282a4da9"
    },
    {
      "cell_type": "code",
      "execution_count": 315,
      "metadata": {},
      "outputs": [],
      "source": [
        "a=''\n",
        "len(a)"
      ],
      "id": "2bba632f-c3d5-4451-9cc3-5005facaff00"
    },
    {
      "cell_type": "code",
      "execution_count": 316,
      "metadata": {},
      "outputs": [],
      "source": [
        "a=[]\n",
        "len(a)"
      ],
      "id": "bba2dce5-64bb-4815-8365-50dde26d18e4"
    },
    {
      "cell_type": "code",
      "execution_count": 317,
      "metadata": {},
      "outputs": [],
      "source": [
        "a=()\n",
        "len(a)"
      ],
      "id": "b1a2b80d-2bcf-465a-8f80-85398dd500c4"
    },
    {
      "cell_type": "code",
      "execution_count": 318,
      "metadata": {},
      "outputs": [],
      "source": [
        "a=range(0)\n",
        "len(a)"
      ],
      "id": "8165e893-635a-4c6f-b3c4-d472e59ba767"
    },
    {
      "cell_type": "markdown",
      "metadata": {},
      "source": [
        "# 5. `dict`\n",
        "\n",
        "## A. intro: str, list, tuple 정리\n",
        "\n",
        "`-` str, list, tuple은 모두 시퀀스형이라는 공통점이 있다. $\\to$ 원소의\n",
        "위치번호로 인덱싱이 가능"
      ],
      "id": "f09b224e-742e-4888-88e2-140b023301c6"
    },
    {
      "cell_type": "code",
      "execution_count": 104,
      "metadata": {},
      "outputs": [],
      "source": [
        "lst = [1,2,3,4]"
      ],
      "id": "c256a2cc-0b54-43a8-af73-79673d6cadd2"
    },
    {
      "cell_type": "code",
      "execution_count": 105,
      "metadata": {},
      "outputs": [],
      "source": [
        "lst[0] # 위치번호=0"
      ],
      "id": "0bce269e-d806-490c-a1ee-0db8d9223661"
    },
    {
      "cell_type": "code",
      "execution_count": 106,
      "metadata": {},
      "outputs": [],
      "source": [
        "lst[-1] # 위치번호=-1"
      ],
      "id": "c4bdaa18-7e4b-48bd-8383-09edede87fa7"
    },
    {
      "cell_type": "markdown",
      "metadata": {},
      "source": [
        "`-` str, list, tuple은 차이점도 존재함. 잠깐 정리해보자.\n",
        "\n",
        "***시퀀스형의 카테고리***\n",
        "\n",
        "-   컨테니어형: list, tuple\n",
        "-   균일형: str\n",
        "-   가변형: list\n",
        "-   불변형: tuple, str\n",
        "\n",
        "***표로 정리하면***\n",
        "\n",
        "|        | 컨테니어형 | 균일형 |\n",
        "|:------:|:----------:|:------:|\n",
        "| 가변형 |    list    |   .    |\n",
        "| 불변형 |   tuple    |  str   |\n",
        "\n",
        "`-` 시퀀스형이 아닌 1차원 자료형도 있을까? 원소의 위치번호로 인덱싱이\n",
        "불가능한 자료형\n",
        "\n",
        "`-` 왜 이런게 필요할까?\n",
        "\n",
        "-   벡터에서 원소를 뽑는것은 정보의 모임에서 정보를 검색하는 것과 같다.\n",
        "-   정보를 `순서`대로 나열한뒤에 그 `순서`를 이용하여 검색하는 방법은\n",
        "    유용하다.\n",
        "-   하지만 경우에 따라서는 `키워드`를 기억해서 그 `키워드`를 바탕으로\n",
        "    정보에 접근하는 방법이 유용할 수 있다.\n",
        "\n",
        "***카카오톡 대화내용검색***\n",
        "\n",
        "(상황1) `오늘아침`에 와이프가 `뭔가`를 카톡으로 부탁했었음. 그런데 그\n",
        "뭔가가 기억안남.\n",
        "\n",
        "(상황2) `방학전에` 동료교수과 `개강이후 저녁약속`을 카톡으로 잡았었음.\n",
        "그런데 그게 언제인지 기억안남.\n",
        "\n",
        "`-` 순서대로 정리된 자료를 검색할때는 시퀀스형이 유리하다. 그런데\n",
        "키워드로 검색하고 싶을 경우는 딕셔너리 타입이 유리하다.\n",
        "\n",
        "## B. 선언\n",
        "\n",
        "`-` 방법1: 가장 일반적"
      ],
      "id": "1f7194fd-2961-4063-a0af-18ae1fdf56e9"
    },
    {
      "cell_type": "code",
      "execution_count": 1,
      "metadata": {},
      "outputs": [],
      "source": [
        "dct = {'guebin':49, 'hanni':80}\n",
        "dct"
      ],
      "id": "cf88b075-6462-4362-96d9-05fde548baf2"
    },
    {
      "cell_type": "markdown",
      "metadata": {},
      "source": [
        "`-` 방법2: `dict()` 이용"
      ],
      "id": "4ab389ff-11da-4e43-9da8-97a091b6b92d"
    },
    {
      "cell_type": "code",
      "execution_count": 3,
      "metadata": {},
      "outputs": [],
      "source": [
        "dct = dict(guebin=49, hanni=80)\n",
        "dct"
      ],
      "id": "d4df8b1c-920f-4e03-843a-13b5a96b2102"
    },
    {
      "cell_type": "markdown",
      "metadata": {},
      "source": [
        "`-` 방법3: 중첩된 리스트를 만든 뒤에 형태변환"
      ],
      "id": "e4a6ebda-084d-4517-85ce-b9d1dc45f25f"
    },
    {
      "cell_type": "code",
      "execution_count": 7,
      "metadata": {},
      "outputs": [],
      "source": [
        "_lst = [['guebin',49],['hanni',80]]\n",
        "_lst "
      ],
      "id": "b932d1b4-0f15-4786-9f10-7cd472ea2797"
    },
    {
      "cell_type": "code",
      "execution_count": 8,
      "metadata": {},
      "outputs": [],
      "source": [
        "dict(_lst)"
      ],
      "id": "29e599d3-236c-4892-8eca-8a3e2df99419"
    },
    {
      "cell_type": "markdown",
      "metadata": {},
      "source": [
        "`-` 방법4: 중첩된 튜플을 만든 뒤에 형태변환"
      ],
      "id": "8b6d1eb4-ef8b-4c00-94a2-e1b574cb5c6c"
    },
    {
      "cell_type": "code",
      "execution_count": 9,
      "metadata": {},
      "outputs": [],
      "source": [
        "_tpl = ('guebin',49), ('hanni',80)\n",
        "_tpl"
      ],
      "id": "b70b6839-2ac2-4155-beb8-a1e6c01a5ac5"
    },
    {
      "cell_type": "code",
      "execution_count": 10,
      "metadata": {},
      "outputs": [],
      "source": [
        "dict(_tpl)"
      ],
      "id": "db544794-c0f8-42ee-bb2e-bb3ae9bc2691"
    },
    {
      "cell_type": "markdown",
      "metadata": {},
      "source": [
        "## C. 원소추출\n",
        "\n",
        "`-` 원소의 위치로 추출할 수 없고, key로 추출해야 한다."
      ],
      "id": "63fb544a-75a2-4568-96c7-3f8ac0bce168"
    },
    {
      "cell_type": "code",
      "execution_count": 11,
      "metadata": {},
      "outputs": [],
      "source": [
        "dct = {'guebin':49, 'hanni':80}\n",
        "dct"
      ],
      "id": "3fbd20d1-d91d-41b4-aed1-8ba31d33a447"
    },
    {
      "cell_type": "markdown",
      "metadata": {},
      "source": [
        "guebin의 점수를 추출하고 싶다면?"
      ],
      "id": "6daeb84f-642b-46a0-a3ea-cd6740ba2d75"
    },
    {
      "cell_type": "code",
      "execution_count": 119,
      "metadata": {},
      "outputs": [],
      "source": [
        "dct['guebin']"
      ],
      "id": "58531525-b981-4980-9732-207abc102e1b"
    },
    {
      "cell_type": "markdown",
      "metadata": {},
      "source": [
        "`-` 만약에 dict가 아니라 list로 정보를 저장했다면?\n",
        "\n",
        "(예제) 아래와 같은 리스트에서 guebin의 점수를 추출하고 싶다면?"
      ],
      "id": "74012c52-3467-4edd-8ab8-74b0cc41967a"
    },
    {
      "cell_type": "code",
      "execution_count": 16,
      "metadata": {},
      "outputs": [],
      "source": [
        "lst=[['guebin',49],['hanni',80]]\n",
        "lst"
      ],
      "id": "42a855aa-d486-46f3-82c0-67089755dbd6"
    },
    {
      "cell_type": "markdown",
      "metadata": {},
      "source": [
        "(풀이1)"
      ],
      "id": "bd68a5f5-2961-4a04-abf8-4c9f016e54e4"
    },
    {
      "cell_type": "code",
      "execution_count": 120,
      "metadata": {},
      "outputs": [],
      "source": [
        "lst[0][1] # guebin의 점수를 출력하란 의미"
      ],
      "id": "84152e39-01a5-424e-be14-ed8b759a22c6"
    },
    {
      "cell_type": "markdown",
      "metadata": {},
      "source": [
        "(풀이2) – 진짜 최악"
      ],
      "id": "932c76c1-bf3d-44ea-8905-e097a1bafa07"
    },
    {
      "cell_type": "code",
      "execution_count": 129,
      "metadata": {},
      "outputs": [],
      "source": [
        "[lst[i][1] for i in range(len(lst)) if lst[i][0] == 'guebin']"
      ],
      "id": "70dd06b2-cd0e-45c1-8dfc-da2abd76fb9e"
    },
    {
      "cell_type": "markdown",
      "metadata": {},
      "source": [
        "(풀이3) – 덜 최악"
      ],
      "id": "b63df947-687a-42ca-a06d-d45f44ef69be"
    },
    {
      "cell_type": "code",
      "execution_count": 132,
      "metadata": {},
      "outputs": [],
      "source": [
        "[score for name,score in lst if name == 'guebin']"
      ],
      "id": "3af086a5-0dfe-4b84-aa53-5d4ab3c9faf9"
    },
    {
      "cell_type": "markdown",
      "metadata": {},
      "source": [
        "`-` ’guebin’의 점수를 추출하는 코드 비교"
      ],
      "id": "45435d05-9709-421e-bdad-f30e131faf0f"
    },
    {
      "cell_type": "code",
      "execution_count": 52,
      "metadata": {},
      "outputs": [],
      "source": [
        "dct['guebin'] # 코드1: 단순하고, 가독성있음"
      ],
      "id": "c64b6d2a-3bd9-451d-9912-73110de06d80"
    },
    {
      "cell_type": "code",
      "execution_count": 40,
      "metadata": {},
      "outputs": [],
      "source": [
        "lst[0][1] # 코드2: 단순하지만, 가독성이 있는건 아님, 확장성이 없음"
      ],
      "id": "385d545a-9a86-4f94-9fbf-7c1e94f52d0d"
    },
    {
      "cell_type": "code",
      "execution_count": 54,
      "metadata": {},
      "outputs": [],
      "source": [
        "[lst[i][1] for i in range(len(lst)) if lst[i][0] =='guebin'] # 코드3: 단순하지도 않고, 가독성도 없음."
      ],
      "id": "0f32a374-9f25-4fae-a554-bf87b5d6cea9"
    },
    {
      "cell_type": "code",
      "execution_count": 55,
      "metadata": {},
      "outputs": [],
      "source": [
        "[score for name,score in lst if name=='guebin' ] # 코드4: 단순하지 않지만, 가독성은 있음"
      ],
      "id": "b6292824-f03d-4268-baea-1f3033ab8bb1"
    },
    {
      "cell_type": "markdown",
      "metadata": {},
      "source": [
        "## D. 원소추가, 변경, 삭제"
      ],
      "id": "13a427ba-8110-4a12-8619-b0907caea077"
    },
    {
      "cell_type": "code",
      "execution_count": 48,
      "metadata": {},
      "outputs": [],
      "source": [
        "dct={'guebin':49, 'hanni':80}\n",
        "dct"
      ],
      "id": "8b7fe566-029f-40ba-9f8a-f09e8d6f228a"
    },
    {
      "cell_type": "markdown",
      "metadata": {},
      "source": [
        "`-` 원소에 접근: guebin의 점수 출력"
      ],
      "id": "0a92bf2a-cb0b-484b-8fc6-7a4537fe5ee8"
    },
    {
      "cell_type": "code",
      "execution_count": 50,
      "metadata": {},
      "outputs": [],
      "source": [
        "dct['guebin']"
      ],
      "id": "e15be58c-2b25-4427-92cc-1bb9449b2d53"
    },
    {
      "cell_type": "markdown",
      "metadata": {},
      "source": [
        "`-` 추가: hynn학생의 점수를 추가"
      ],
      "id": "70bc42b9-43ab-46a0-8425-943a6c39353f"
    },
    {
      "cell_type": "code",
      "execution_count": 51,
      "metadata": {},
      "outputs": [],
      "source": [
        "dct['hynn'] = 99"
      ],
      "id": "a71f46ad-c51f-442b-8475-c3a9eab5bda7"
    },
    {
      "cell_type": "code",
      "execution_count": 52,
      "metadata": {},
      "outputs": [],
      "source": [
        "dct"
      ],
      "id": "a3c53ba2-fdf1-4711-a790-6ba184e398fa"
    },
    {
      "cell_type": "markdown",
      "metadata": {},
      "source": [
        "`-` 변경: hanni의 점수를 변경"
      ],
      "id": "57a24fdb-270f-4028-a1c5-0ecac0c212b3"
    },
    {
      "cell_type": "code",
      "execution_count": 53,
      "metadata": {},
      "outputs": [],
      "source": [
        "dct['hanni'] = 100 "
      ],
      "id": "10d97502-8d8e-4edb-ba45-c100e9b8ed8a"
    },
    {
      "cell_type": "code",
      "execution_count": 54,
      "metadata": {},
      "outputs": [],
      "source": [
        "dct"
      ],
      "id": "197ad4a6-17fd-43d4-863a-e2252294a568"
    },
    {
      "cell_type": "markdown",
      "metadata": {},
      "source": [
        "`-` 삭제\n",
        "\n",
        "(방법1)"
      ],
      "id": "3056b258-bc52-44be-be38-a53deca668ec"
    },
    {
      "cell_type": "code",
      "execution_count": 57,
      "metadata": {},
      "outputs": [],
      "source": [
        "dct={'guebin':49, 'hanni':80, 'hynn':99}\n",
        "del dct['guebin']  \n",
        "dct"
      ],
      "id": "c4520f98-8bc4-4211-b7e8-24c867edf552"
    },
    {
      "cell_type": "markdown",
      "metadata": {},
      "source": [
        "(방법2)"
      ],
      "id": "8589b9fc-476a-46b6-8ace-8b030ff6672e"
    },
    {
      "cell_type": "code",
      "execution_count": 58,
      "metadata": {},
      "outputs": [],
      "source": [
        "dct={'guebin':49, 'hanni':80, 'hynn':99} \n",
        "dct.pop('guebin')"
      ],
      "id": "2d4587ff-907b-4cb9-b4c5-a4f5589f8782"
    },
    {
      "cell_type": "code",
      "execution_count": 59,
      "metadata": {},
      "outputs": [],
      "source": [
        "dct"
      ],
      "id": "e19c7018-b93c-4444-b642-0b22476ef8a0"
    },
    {
      "cell_type": "markdown",
      "metadata": {},
      "source": [
        "`-` 참고로 리스트였다면 이러한 삭제작업역시 비효율적이었을 것임"
      ],
      "id": "3bb95479-d681-4160-8ed1-5baaac9810a5"
    },
    {
      "cell_type": "code",
      "execution_count": 60,
      "metadata": {},
      "outputs": [],
      "source": [
        "lst = [['guebin',49],['hanni',80],['hynn',99]] \n",
        "lst"
      ],
      "id": "7594b905-ef56-4fae-92a3-02be86aaceb9"
    },
    {
      "cell_type": "markdown",
      "metadata": {},
      "source": [
        "guebin의 점수를 삭제하려면?"
      ],
      "id": "52ecd579-df94-4659-95fc-db4f664e137d"
    },
    {
      "cell_type": "code",
      "execution_count": 150,
      "metadata": {},
      "outputs": [],
      "source": [
        "[[name,score] for name,score in lst if name != 'guebin']"
      ],
      "id": "13381669-999f-47f3-a51c-ff4c0aabd4a6"
    },
    {
      "cell_type": "markdown",
      "metadata": {},
      "source": [
        "## E. 연산\n",
        "\n",
        "`-` 하나있어요.."
      ],
      "id": "b264016b-8827-4115-8925-5ab2b9af91b0"
    },
    {
      "cell_type": "code",
      "execution_count": 69,
      "metadata": {},
      "outputs": [],
      "source": [
        "dct = {'guebin':49, 'hanni':80} \n",
        "dct"
      ],
      "id": "41a1ad43-0e13-4968-85b3-e851bd9eff0e"
    },
    {
      "cell_type": "code",
      "execution_count": 82,
      "metadata": {},
      "outputs": [],
      "source": [
        "'guebin' in dct"
      ],
      "id": "d8fc2078-c535-4e5e-a2ba-a554c35328bf"
    },
    {
      "cell_type": "code",
      "execution_count": 71,
      "metadata": {},
      "outputs": [],
      "source": [
        "'hanni' in dct"
      ],
      "id": "9bc35e4e-5e9d-4b4f-a0d1-624452c47c4b"
    },
    {
      "cell_type": "code",
      "execution_count": 72,
      "metadata": {},
      "outputs": [],
      "source": [
        "'hynn' in dct"
      ],
      "id": "04c0bb2a-ff40-487d-a467-a3b542ebf5d1"
    },
    {
      "cell_type": "markdown",
      "metadata": {},
      "source": [
        "`-` in은 사실 다른자료형도 가능했음\n",
        "\n",
        "(관찰1)"
      ],
      "id": "09fb300c-1343-4ea5-a8bc-3d6fc6efc78a"
    },
    {
      "cell_type": "code",
      "execution_count": 73,
      "metadata": {},
      "outputs": [],
      "source": [
        "'a' in 'guebin' "
      ],
      "id": "e2c006d3-9c39-495d-baef-b57421a6eeb0"
    },
    {
      "cell_type": "code",
      "execution_count": 74,
      "metadata": {},
      "outputs": [],
      "source": [
        "'b' in 'guebin' "
      ],
      "id": "b7e5496c-5e56-470e-8db7-847a1f944554"
    },
    {
      "cell_type": "code",
      "execution_count": 75,
      "metadata": {},
      "outputs": [],
      "source": [
        "'c' in 'guebin' "
      ],
      "id": "66ab132c-9a0e-4c2b-b0a3-a530cf699991"
    },
    {
      "cell_type": "markdown",
      "metadata": {},
      "source": [
        "(관찰2)"
      ],
      "id": "4729d5e8-cbd6-457b-9d6d-d1787b87616e"
    },
    {
      "cell_type": "code",
      "execution_count": 76,
      "metadata": {},
      "outputs": [],
      "source": [
        "tpl = 1,2,3 \n",
        "tpl"
      ],
      "id": "8c9cff92-5f3c-4ee1-a02e-588a46b7ccfc"
    },
    {
      "cell_type": "code",
      "execution_count": 77,
      "metadata": {},
      "outputs": [],
      "source": [
        "1 in tpl"
      ],
      "id": "b75cfb03-10f2-4997-9693-ac5c3bfe3a24"
    },
    {
      "cell_type": "code",
      "execution_count": 78,
      "metadata": {},
      "outputs": [],
      "source": [
        "4 in tpl"
      ],
      "id": "33a29b5b-585d-4cc2-8a86-4816c2ada83c"
    },
    {
      "cell_type": "markdown",
      "metadata": {},
      "source": [
        "(관찰3)"
      ],
      "id": "c0a80944-eaf0-4859-99f8-6db407542fef"
    },
    {
      "cell_type": "code",
      "execution_count": 79,
      "metadata": {},
      "outputs": [],
      "source": [
        "lst = [['guebin',49],['hanni',80],['hynn',99]] \n",
        "lst"
      ],
      "id": "b704a092-c85b-47d5-9da6-9827efe7d3ff"
    },
    {
      "cell_type": "code",
      "execution_count": 80,
      "metadata": {},
      "outputs": [],
      "source": [
        "['guebin',49] in lst"
      ],
      "id": "82195499-6ab2-488f-9cfd-22043409fa80"
    },
    {
      "cell_type": "markdown",
      "metadata": {},
      "source": [
        "`-` in연산자가 dict형에 사용되면 key를 기준으로 True, False를 판단한다.\n",
        "\n",
        "## F. 딕셔너리 특수기능\n",
        "\n",
        "**(pop)**"
      ],
      "id": "1275cc52-7d32-4240-8b4f-d77812eec752"
    },
    {
      "cell_type": "code",
      "execution_count": 85,
      "metadata": {},
      "outputs": [],
      "source": [
        "dct = {'guebin':49, 'hanni':80} \n",
        "dct.pop('hanni')\n",
        "dct"
      ],
      "id": "2a81c139-cd9b-45a6-b753-942efe2c65b1"
    },
    {
      "cell_type": "markdown",
      "metadata": {},
      "source": [
        "**(get)**"
      ],
      "id": "4487b3fe-05bd-4199-8f48-169d7f8c2727"
    },
    {
      "cell_type": "code",
      "execution_count": 86,
      "metadata": {},
      "outputs": [],
      "source": [
        "dct = {'guebin':49, 'hanni':80} \n",
        "dct"
      ],
      "id": "2c422f88-3017-455c-bde2-ddb3ae2f5fa6"
    },
    {
      "cell_type": "code",
      "execution_count": 87,
      "metadata": {},
      "outputs": [],
      "source": [
        "dct.get('guebin') "
      ],
      "id": "a4a07e1a-abfb-4aae-bf19-b5119b9b1d0a"
    },
    {
      "cell_type": "markdown",
      "metadata": {},
      "source": [
        "아래와 같은 기능"
      ],
      "id": "ca87acee-2c86-464f-b243-198eaba1d71a"
    },
    {
      "cell_type": "code",
      "execution_count": 88,
      "metadata": {},
      "outputs": [],
      "source": [
        "dct['guebin']"
      ],
      "id": "0c269d5d-2009-47ee-b9d0-5d6f0286aff6"
    },
    {
      "cell_type": "markdown",
      "metadata": {},
      "source": [
        "미묘한 차이점이 존재함"
      ],
      "id": "09b5cb54-8e04-428e-9204-16057b511e5b"
    },
    {
      "cell_type": "code",
      "execution_count": 89,
      "metadata": {},
      "outputs": [],
      "source": [
        "dct['hynn'] # hynn이 없어서 키에러 출력, 그런 key는 없다.. "
      ],
      "id": "5c7aa5b5-321b-46ae-8531-572b7e9fee29"
    },
    {
      "cell_type": "code",
      "execution_count": 90,
      "metadata": {},
      "outputs": [],
      "source": [
        "dct.get('hynn') # hynn이 없으면 아무것도 출력안함 "
      ],
      "id": "e27b54df-ce98-4454-a040-4679221b55bb"
    },
    {
      "cell_type": "markdown",
      "metadata": {},
      "source": [
        "**(keys,values,items)**"
      ],
      "id": "6cdf1610-0b84-4e10-abac-95c4d8b0f3ee"
    },
    {
      "cell_type": "code",
      "execution_count": 110,
      "metadata": {},
      "outputs": [
        {
          "output_type": "stream",
          "name": "stdout",
          "text": [
            "guebin 49\n",
            "hanni 80"
          ]
        }
      ],
      "source": [
        "for k,v in dct.items():\n",
        "    print(k,v)"
      ],
      "id": "889ceca6-7470-4411-98a1-414c34198b70"
    },
    {
      "cell_type": "markdown",
      "metadata": {},
      "source": [
        "`-` .keys()는 딕셔너리의 키를 리턴한다."
      ],
      "id": "f677dcd4-db49-44c3-a3df-044f0d1cbe6d"
    },
    {
      "cell_type": "code",
      "execution_count": 94,
      "metadata": {},
      "outputs": [],
      "source": [
        "dct = {'guebin':49, 'hanni':80} \n",
        "dct"
      ],
      "id": "a537837c-d509-4107-9180-ff29d8817950"
    },
    {
      "cell_type": "code",
      "execution_count": 95,
      "metadata": {},
      "outputs": [],
      "source": [
        "_keys=dct.keys()\n",
        "_keys"
      ],
      "id": "eceb43de-8982-435c-b35b-5ff8d869d921"
    },
    {
      "cell_type": "code",
      "execution_count": 96,
      "metadata": {},
      "outputs": [],
      "source": [
        "type(_keys) # 리턴된 자료형은 이상한것임"
      ],
      "id": "281ab21f-a62f-4028-a300-1048a6e10366"
    },
    {
      "cell_type": "code",
      "execution_count": 97,
      "metadata": {},
      "outputs": [],
      "source": [
        "list(_keys) # 아무튼 그 이상한 자료형도 리스트화 가능 "
      ],
      "id": "7a8dc85c-d9d0-40a1-a3f6-65fe4fe70dc9"
    },
    {
      "cell_type": "markdown",
      "metadata": {},
      "source": [
        "`-` .values()는 딕셔너리의 값들을 리턴한다."
      ],
      "id": "7bbbf1e2-e9d6-454f-ac8b-b2267389acb0"
    },
    {
      "cell_type": "code",
      "execution_count": 86,
      "metadata": {},
      "outputs": [],
      "source": [
        "_values = dct.values()\n",
        "_values "
      ],
      "id": "8f114322-651c-45f9-9410-32989b843f25"
    },
    {
      "cell_type": "code",
      "execution_count": 87,
      "metadata": {},
      "outputs": [],
      "source": [
        "type(_values)"
      ],
      "id": "7a3621ec-e737-4f91-b68f-e9b3ad56ff02"
    },
    {
      "cell_type": "code",
      "execution_count": 88,
      "metadata": {},
      "outputs": [],
      "source": [
        "list(_values)"
      ],
      "id": "f9602b9f-104b-4353-80be-d0aaaf15eb8f"
    },
    {
      "cell_type": "markdown",
      "metadata": {},
      "source": [
        "`-` .items()는 딕셔너리의 (키,값)을 리턴한다."
      ],
      "id": "8a8be0bf-67fa-4fc2-9d04-5da5e5f12989"
    },
    {
      "cell_type": "code",
      "execution_count": 89,
      "metadata": {},
      "outputs": [],
      "source": [
        "_items = dct.items()\n",
        "_items "
      ],
      "id": "65ceb04d-7ab2-4e1f-9d06-62995ec97849"
    },
    {
      "cell_type": "code",
      "execution_count": 90,
      "metadata": {},
      "outputs": [],
      "source": [
        "type(_items)"
      ],
      "id": "53a03750-443f-47fd-b74e-30308b54ff2d"
    },
    {
      "cell_type": "code",
      "execution_count": 91,
      "metadata": {},
      "outputs": [],
      "source": [
        "list(_items)"
      ],
      "id": "8427f9fb-caff-4577-9a60-ba851eb2694c"
    },
    {
      "cell_type": "markdown",
      "metadata": {},
      "source": [
        "## G. for문과 dict ($\\star$)"
      ],
      "id": "61961bfb-c870-4989-8b63-5d96a4be92e4"
    },
    {
      "cell_type": "code",
      "execution_count": 7,
      "metadata": {
        "tags": []
      },
      "outputs": [],
      "source": [
        "dct = {'guebin': 49, 'hanni': 80}\n",
        "dct"
      ],
      "id": "dbd863d8-f5c3-4b45-a84c-5b9da20e7fd4"
    },
    {
      "cell_type": "markdown",
      "metadata": {},
      "source": [
        "(예시1)"
      ],
      "id": "d9c9b5a8-896e-4e3d-91d8-78c0f98d5220"
    },
    {
      "cell_type": "code",
      "execution_count": 8,
      "metadata": {
        "tags": []
      },
      "outputs": [
        {
          "output_type": "stream",
          "name": "stdout",
          "text": [
            "guebin\n",
            "hanni"
          ]
        }
      ],
      "source": [
        "for k in dct.keys():\n",
        "    print(k)"
      ],
      "id": "047d43ff-d477-4d49-9e5c-981b2a2ec724"
    },
    {
      "cell_type": "code",
      "execution_count": 9,
      "metadata": {
        "tags": []
      },
      "outputs": [
        {
          "output_type": "stream",
          "name": "stdout",
          "text": [
            "guebin\n",
            "hanni"
          ]
        }
      ],
      "source": [
        "for k in dct:\n",
        "    print(k)"
      ],
      "id": "000b9571-d5e3-4764-b1b3-60ac2b85a7c7"
    },
    {
      "cell_type": "markdown",
      "metadata": {},
      "source": [
        "-   딕셔너리 그자체도 for문에 넣을 수 있다. 그때는 딕셔너리의 key가\n",
        "    반복된다.\n",
        "-   결과를 보면 dct 대신에 dct.keys()와 list(dct)를 넣었을때와 결과가\n",
        "    같다.\n",
        "\n",
        "> Note: list(dct) 하면 key만 리턴된다.\n",
        "\n",
        "(예시2)"
      ],
      "id": "39466251-4a36-422d-bdd4-63b0a0b5b785"
    },
    {
      "cell_type": "code",
      "execution_count": 10,
      "metadata": {
        "tags": []
      },
      "outputs": [
        {
          "output_type": "stream",
          "name": "stdout",
          "text": [
            "49\n",
            "80"
          ]
        }
      ],
      "source": [
        "for v in dct.values():\n",
        "    print(v)"
      ],
      "id": "dd0d719d-15b6-4eed-9c33-8db5569c9d75"
    },
    {
      "cell_type": "markdown",
      "metadata": {},
      "source": [
        "(예시3)"
      ],
      "id": "8c929ed3-2b1e-45db-b68c-d70b0d3d321a"
    },
    {
      "cell_type": "code",
      "execution_count": 11,
      "metadata": {
        "tags": []
      },
      "outputs": [
        {
          "output_type": "stream",
          "name": "stdout",
          "text": [
            "('guebin', 49)\n",
            "('hanni', 80)"
          ]
        }
      ],
      "source": [
        "for i in dct.items():\n",
        "    print(i)"
      ],
      "id": "4aee315d-833c-4c66-9c24-f164668d19e4"
    },
    {
      "cell_type": "markdown",
      "metadata": {},
      "source": [
        "(예시4)"
      ],
      "id": "b8969033-82f4-44cc-9e33-a8028d6121b4"
    },
    {
      "cell_type": "code",
      "execution_count": 12,
      "metadata": {
        "tags": []
      },
      "outputs": [
        {
          "output_type": "stream",
          "name": "stdout",
          "text": [
            "guebin 49\n",
            "hanni 80"
          ]
        }
      ],
      "source": [
        "for k,v in dct.items():\n",
        "    print(k,v)"
      ],
      "id": "f87f526f-e16e-425a-b123-29de3e8e4fb9"
    },
    {
      "cell_type": "markdown",
      "metadata": {},
      "source": [
        "(예시5) – {}의 중간고사 점수는 {}점 입니다."
      ],
      "id": "c871e00a-b0b9-4c75-b7a1-b888e487ae5a"
    },
    {
      "cell_type": "code",
      "execution_count": 13,
      "metadata": {
        "tags": []
      },
      "outputs": [
        {
          "output_type": "stream",
          "name": "stdout",
          "text": [
            "guebin의 중간고사 점수는 49점 입니다.\n",
            "hanni의 중간고사 점수는 80점 입니다."
          ]
        }
      ],
      "source": [
        "for name,score in dct.items():\n",
        "    print(f'{name}의 중간고사 점수는 {score}점 입니다.')"
      ],
      "id": "458b6bb3-365c-4cfa-be28-d7dc9869599f"
    },
    {
      "cell_type": "markdown",
      "metadata": {},
      "source": [
        "## H. dict에서 key혹은 value만 뽑아내기\n",
        "\n",
        "`-` 예제: 아래의 dict에서 key만 뽑아내고 싶다."
      ],
      "id": "8db811dd-c552-4d4e-8970-a1d93142162f"
    },
    {
      "cell_type": "code",
      "execution_count": 98,
      "metadata": {},
      "outputs": [],
      "source": [
        "dct = {'guebin':49, 'hanni':80} "
      ],
      "id": "4db33f0a-9ae6-4c70-ba89-5dce8c03a489"
    },
    {
      "cell_type": "markdown",
      "metadata": {},
      "source": [
        "(풀이1)"
      ],
      "id": "279120f1-eecb-4349-90e1-a7040a759a20"
    },
    {
      "cell_type": "code",
      "execution_count": 99,
      "metadata": {},
      "outputs": [],
      "source": [
        "list(dct)"
      ],
      "id": "6af76674-b930-4c64-bef7-6a2643acb2c7"
    },
    {
      "cell_type": "markdown",
      "metadata": {},
      "source": [
        "(풀이2)"
      ],
      "id": "0bece397-0995-4b24-b38b-f193928f5532"
    },
    {
      "cell_type": "code",
      "execution_count": 100,
      "metadata": {},
      "outputs": [],
      "source": [
        "list(dct.keys())"
      ],
      "id": "ff25d5ca-a9a7-46e3-bd85-197859189f63"
    },
    {
      "cell_type": "markdown",
      "metadata": {},
      "source": [
        "(풀이3)"
      ],
      "id": "29f7ed8e-7136-4007-b413-8a86f9a7dd3c"
    },
    {
      "cell_type": "code",
      "execution_count": 101,
      "metadata": {},
      "outputs": [],
      "source": [
        "[k for k in dct]"
      ],
      "id": "85acfc15-c013-45ed-94a2-1f64779a0a2b"
    },
    {
      "cell_type": "markdown",
      "metadata": {},
      "source": [
        "(풀이4)"
      ],
      "id": "164fd423-d542-4a3e-acbb-5a70e8917261"
    },
    {
      "cell_type": "code",
      "execution_count": 102,
      "metadata": {},
      "outputs": [],
      "source": [
        "[k for k,v in dct.items()]"
      ],
      "id": "d0f4823d-5938-475a-9887-4eff59427c4a"
    },
    {
      "cell_type": "markdown",
      "metadata": {},
      "source": [
        "`-` 예제: 아래의 dict에서 value만 뽑아내고 싶다."
      ],
      "id": "80f59c25-ce0d-4451-9670-45936ed454e2"
    },
    {
      "cell_type": "code",
      "execution_count": 103,
      "metadata": {},
      "outputs": [],
      "source": [
        "dct = {'guebin':49, 'hanni':80} "
      ],
      "id": "eb601c7c-d76d-4c55-b135-1aadceec8758"
    },
    {
      "cell_type": "markdown",
      "metadata": {},
      "source": [
        "(풀이1)"
      ],
      "id": "93c7e9ac-3c31-4151-939b-6a3b38a91e33"
    },
    {
      "cell_type": "code",
      "execution_count": 104,
      "metadata": {},
      "outputs": [],
      "source": [
        "list(dct.values())"
      ],
      "id": "9ce779bc-1ced-4d55-9c9a-22303e9d7304"
    },
    {
      "cell_type": "markdown",
      "metadata": {},
      "source": [
        "(풀이2)"
      ],
      "id": "475a58aa-076f-48e9-8fba-afd8c09cd0df"
    },
    {
      "cell_type": "code",
      "execution_count": 105,
      "metadata": {},
      "outputs": [],
      "source": [
        "[dct[k] for k in dct]"
      ],
      "id": "1fd0bfbf-2e30-4d1a-b7c2-81fd0e139272"
    },
    {
      "cell_type": "markdown",
      "metadata": {},
      "source": [
        "(풀이3)"
      ],
      "id": "d87528fd-8688-4f1a-8cfa-a33f7db5f8cf"
    },
    {
      "cell_type": "code",
      "execution_count": 106,
      "metadata": {},
      "outputs": [],
      "source": [
        "[v for v in dct.values()]"
      ],
      "id": "90d15ab3-13a0-40e7-80ba-b89bd6983c4d"
    },
    {
      "cell_type": "markdown",
      "metadata": {},
      "source": [
        "(풀이4)"
      ],
      "id": "3bb2bab5-21d6-4776-909e-dac87337eb6f"
    },
    {
      "cell_type": "code",
      "execution_count": 107,
      "metadata": {},
      "outputs": [],
      "source": [
        "[v for k,v in dct.items()]"
      ],
      "id": "d18b1115-27a8-497e-978a-aa73b4618b63"
    },
    {
      "cell_type": "markdown",
      "metadata": {},
      "source": [
        "# 6. 딕셔너리를 이용한 치환 ($\\star$)\n",
        "\n",
        "## A. 바꿔치기\n",
        "\n",
        "`# 예제1` – 아래와 같은 리스트를 고려하자."
      ],
      "id": "66df4475-80ed-45b0-b8f2-7feaddd5622c"
    },
    {
      "cell_type": "code",
      "execution_count": 106,
      "metadata": {},
      "outputs": [],
      "source": [
        "lst = ['딸기','사과','바나나','딸기','사과','오토바이','자동차','버스','기차','오토바이','자동차']"
      ],
      "id": "ca4b3491-6a81-4bb6-8fd1-ea62f010ca07"
    },
    {
      "cell_type": "markdown",
      "metadata": {},
      "source": [
        "다음의 맵핑규칙에 따라서 위의 리스트의 원소를 바꾸어라.\n",
        "\n",
        "|  변환전  | 변환후 |\n",
        "|:--------:|:------:|\n",
        "|   딸기   |  과일  |\n",
        "|   사과   |  과일  |\n",
        "|  바나나  |  과일  |\n",
        "| 오토바이 |  탈것  |\n",
        "|  자동차  |  탈것  |\n",
        "|   버스   |  탈것  |\n",
        "|   기차   |  탈것  |\n",
        "\n",
        "`(풀이1)` – `elif`를 한번 써본정도의 의미. 추천하는 풀이 X"
      ],
      "id": "e2a0d6cb-3ecf-4fd2-ad62-318e11ab5e14"
    },
    {
      "cell_type": "code",
      "execution_count": 108,
      "metadata": {},
      "outputs": [],
      "source": [
        "lst2 = []\n",
        "for l in lst:\n",
        "    if l=='딸기':\n",
        "        lst2.append('과일')\n",
        "    elif l=='사과':\n",
        "        lst2.append('과일')\n",
        "    elif l=='바나나':\n",
        "        lst2.append('과일')\n",
        "    elif l=='오토바이':\n",
        "        lst2.append('탈것')\n",
        "    elif l=='자동차':\n",
        "        lst2.append('탈것')\n",
        "    elif l=='버스':\n",
        "        lst2.append('탈것')\n",
        "    else:\n",
        "        lst2.append('탈것')        "
      ],
      "id": "71b88123-673c-4caf-a18c-5a525f79f2f3"
    },
    {
      "cell_type": "code",
      "execution_count": 110,
      "metadata": {},
      "outputs": [],
      "source": [
        "lst,lst2"
      ],
      "id": "f7d9e2d9-71de-4b0e-b99e-6ccb5551dca4"
    },
    {
      "cell_type": "markdown",
      "metadata": {},
      "source": [
        "`(풀이2)` – 코드는 쉽고 편함. dct를 만들기 힘듦."
      ],
      "id": "566af9b8-b58b-4ce3-b72b-1958014b05aa"
    },
    {
      "cell_type": "code",
      "execution_count": 114,
      "metadata": {},
      "outputs": [],
      "source": [
        "dct = {'딸기':'과일','사과':'과일','바나나':'과일','오토바이':'탈것','자동차':'탈것','버스':'탈것','기차':'탈것'}\n",
        "dct"
      ],
      "id": "d14a2ddd-1f5a-4bdc-acf7-0985d74d1ca9"
    },
    {
      "cell_type": "code",
      "execution_count": 116,
      "metadata": {},
      "outputs": [],
      "source": [
        "[dct[l] for l in lst]"
      ],
      "id": "f970fe54-cb34-4269-83e0-f6ed4574e1a9"
    },
    {
      "cell_type": "markdown",
      "metadata": {},
      "source": [
        "`(풀이3)` – 코드가 매우 어려움. dct를 만들기 쉬움."
      ],
      "id": "3362c514-630c-4d60-b5ac-f1ad96ee173d"
    },
    {
      "cell_type": "code",
      "execution_count": 117,
      "metadata": {},
      "outputs": [],
      "source": [
        "dct = {'과일':['딸기','사과','바나나'], '탈것':['오토바이','자동차','버스','기차']}\n",
        "dct"
      ],
      "id": "2e6f374e-5fb8-42e4-806a-c8640d53efc1"
    },
    {
      "cell_type": "code",
      "execution_count": 118,
      "metadata": {},
      "outputs": [],
      "source": [
        "lst"
      ],
      "id": "fde43d7b-2a8c-4bac-aa64-c8ce72622f67"
    },
    {
      "cell_type": "code",
      "execution_count": 125,
      "metadata": {},
      "outputs": [],
      "source": [
        "[k for l in lst for k in dct if l in dct[k]]"
      ],
      "id": "5c73a4d4-315a-46e2-94b8-ecf4e34f3af5"
    },
    {
      "cell_type": "markdown",
      "metadata": {},
      "source": [
        "`#`\n",
        "\n",
        "`# 예제2` – 아래와 같은 리스트가 있다고 하자."
      ],
      "id": "b8746ba4-ff46-4320-88f6-dd50f476e2bd"
    },
    {
      "cell_type": "code",
      "execution_count": 126,
      "metadata": {},
      "outputs": [],
      "source": [
        "lst = list('abcd'*2+'bbb')\n",
        "lst"
      ],
      "id": "05f25130-0d3d-40f6-bb52-059bca1fe477"
    },
    {
      "cell_type": "markdown",
      "metadata": {},
      "source": [
        "아래의 규칙에 의하여 lst의 각 원소의 값을 바꾸고 싶다고 하자. 이를\n",
        "구현하는 코드를 작성하라.\n",
        "\n",
        "| 변환전 |   변환후    |\n",
        "|:------:|:-----------:|\n",
        "|  ‘a’   | \\[1,0,0,0\\] |\n",
        "|  ‘b’   | \\[0,1,0,0\\] |\n",
        "|  ‘c’   | \\[0,0,1,0\\] |\n",
        "|  ‘d’   | \\[0,0,0,1\\] |\n",
        "\n",
        "`(풀이)`"
      ],
      "id": "24a4bedf-44cf-4ae7-93e1-0e3274e437fb"
    },
    {
      "cell_type": "code",
      "execution_count": 128,
      "metadata": {},
      "outputs": [],
      "source": [
        "dct = {'a':[1,0,0,0], 'b':[0,1,0,0], 'c':[0,0,1,0], 'd':[0,0,0,1]}\n",
        "dct"
      ],
      "id": "bf089073-7c15-4b7c-9cb5-49d09d53b3e1"
    },
    {
      "cell_type": "code",
      "execution_count": 130,
      "metadata": {},
      "outputs": [],
      "source": [
        "[dct[l] for l in lst]"
      ],
      "id": "01519ddb-8207-48c2-8ac5-4d835a407ffe"
    },
    {
      "cell_type": "markdown",
      "metadata": {},
      "source": [
        "`# 예제3` – 예제2을 역변환하라. 즉 아래의 리스트를"
      ],
      "id": "25a74e3b-680e-42fa-919b-1ab293408097"
    },
    {
      "cell_type": "code",
      "execution_count": 136,
      "metadata": {},
      "outputs": [],
      "source": [
        "lst2= [[1, 0, 0, 0],\n",
        "       [0, 1, 0, 0],\n",
        "       [0, 0, 1, 0],\n",
        "       [0, 0, 0, 1],\n",
        "       [1, 0, 0, 0],\n",
        "       [0, 1, 0, 0],\n",
        "       [0, 0, 1, 0],\n",
        "       [0, 0, 0, 1],\n",
        "       [0, 1, 0, 0],\n",
        "       [0, 1, 0, 0],\n",
        "       [0, 1, 0, 0]]"
      ],
      "id": "588e7d69-ea7a-4994-92e5-5f7d6ed44892"
    },
    {
      "cell_type": "markdown",
      "metadata": {},
      "source": [
        "아래와 같이 바꾸라."
      ],
      "id": "3cb2d588-0b71-4470-8c95-597f9993904d"
    },
    {
      "cell_type": "code",
      "execution_count": 137,
      "metadata": {},
      "outputs": [],
      "source": [
        "['a', 'b', 'c', 'd', 'a', 'b', 'c', 'd', 'b', 'b', 'b']"
      ],
      "id": "f2a392a3-70d3-425b-aa05-694ca3dfc1f5"
    },
    {
      "cell_type": "markdown",
      "metadata": {},
      "source": [
        "`(풀이)` – 실패"
      ],
      "id": "f92979ef-cfad-4eb3-9301-1f2b1e707062"
    },
    {
      "cell_type": "code",
      "execution_count": 145,
      "metadata": {},
      "outputs": [],
      "source": [
        "dct = {[1,0,0,0]:'a', [0,1,0,0]:'b', [0,0,1,0]:'c', [0,0,0,1]:'d'}\n",
        "dct"
      ],
      "id": "7a014b21-3d14-4cce-9b42-1c36da202639"
    },
    {
      "cell_type": "markdown",
      "metadata": {},
      "source": [
        "dct의 key에 대응하는것은 불변형만 가능\n",
        "\n",
        "`(풀이1)`"
      ],
      "id": "013b7c21-51a8-479a-affc-ee04bed22c60"
    },
    {
      "cell_type": "code",
      "execution_count": 132,
      "metadata": {},
      "outputs": [],
      "source": [
        "dct = {(1,0,0,0):'a', (0,1,0,0):'b', (0,0,1,0):'c', (0,0,0,1):'d'}\n",
        "dct"
      ],
      "id": "e8352af4-9eab-4693-a362-a7bb67383ad3"
    },
    {
      "cell_type": "code",
      "execution_count": 144,
      "metadata": {},
      "outputs": [],
      "source": [
        "[dct[tuple(l)] for l in lst2]"
      ],
      "id": "2affb89a-7bb6-4a37-84dc-da9bd690848e"
    },
    {
      "cell_type": "markdown",
      "metadata": {},
      "source": [
        "`(풀이2)`"
      ],
      "id": "45bad464-55ba-44b5-a0e2-6702e39abfb8"
    },
    {
      "cell_type": "code",
      "execution_count": 146,
      "metadata": {},
      "outputs": [],
      "source": [
        "dct = {'a':[1,0,0,0], 'b':[0,1,0,0], 'c':[0,0,1,0], 'd':[0,0,0,1]} # 예제2의 dct"
      ],
      "id": "cf3427fc-9e25-4dac-a3f6-9203b8e8170d"
    },
    {
      "cell_type": "code",
      "execution_count": 148,
      "metadata": {},
      "outputs": [],
      "source": [
        "[k for l in lst2 for k in dct if dct[k]==l]"
      ],
      "id": "69a12b66-8ad3-4710-9e8a-3e318dbb367d"
    },
    {
      "cell_type": "markdown",
      "metadata": {},
      "source": [
        "## B. 연습문제\n",
        "\n",
        "`# 문제`. 아래와 같은 맵핑을 고려하자.\n",
        "\n",
        "| 문자 | 숫자 |\n",
        "|:----:|:----:|\n",
        "|  a   |  0   |\n",
        "|  b   |  1   |\n",
        "\n",
        "이를 딕셔너리로 표현하면 아래와 같다."
      ],
      "id": "a8ffb980-e300-4689-aff8-fbbfd5275959"
    },
    {
      "cell_type": "code",
      "execution_count": 151,
      "metadata": {},
      "outputs": [],
      "source": [
        "dct = {'a':0, 'b':1} "
      ],
      "id": "846bbc01-85e9-4642-aa27-cc6769a2af3d"
    },
    {
      "cell_type": "markdown",
      "metadata": {},
      "source": [
        "위 규칙에 따라서 아래의 리스트의 원소를 문자로 각각 변환하라."
      ],
      "id": "05fd35c6-4452-44a0-8994-27b93b84e7e8"
    },
    {
      "cell_type": "code",
      "execution_count": 150,
      "metadata": {},
      "outputs": [],
      "source": [
        "lst = [1, 0, 1, 0, 1, 0, 1, 1, 1, 1, 0, 0, 1, 0, 1]"
      ],
      "id": "3677857a-4e95-4ab9-9cd8-e4bb2da218e6"
    },
    {
      "cell_type": "markdown",
      "metadata": {},
      "source": [
        "``` python\n",
        "# 출력은 아래와 같아야 한다. \n",
        "['b', 'a', 'b', 'a', 'b', 'a', 'b', 'b', 'b', 'b', 'a', 'a', 'b', 'a', 'b']\n",
        "```\n",
        "\n",
        "`(풀이)`"
      ],
      "id": "80e1e3c9-ff46-4b3e-87ce-a917f1547414"
    },
    {
      "cell_type": "code",
      "execution_count": 154,
      "metadata": {},
      "outputs": [],
      "source": [
        "[k for l in lst for k in dct if l == dct[k]]"
      ],
      "id": "0a3e3c7f-6ff2-4239-acf9-27ce1d4c5480"
    },
    {
      "cell_type": "markdown",
      "metadata": {},
      "source": [
        "`# 문제`. 아래와 같은 맵핑을 고려하자.\n",
        "\n",
        "|     월     |   의미   |\n",
        "|:----------:|:--------:|\n",
        "|    1,2     | 겨울방학 |\n",
        "|  3,4,5,6   |  1학기   |\n",
        "|    7,8     | 여름방학 |\n",
        "| 9,10,11,12 |  2학기   |\n",
        "\n",
        "이러한 규칙에 맞게 아래의 리스트를 적절한 문자열로 변환하라."
      ],
      "id": "dccf8b53-2926-4118-af77-9a70e4c0c594"
    },
    {
      "cell_type": "code",
      "execution_count": 155,
      "metadata": {},
      "outputs": [],
      "source": [
        "month = [1,2,2,3,4,5,6,7,8,9,9,10,11,12] "
      ],
      "id": "23148c47-4f7f-4cd7-be79-de76663be9a7"
    },
    {
      "cell_type": "markdown",
      "metadata": {},
      "source": [
        "``` python\n",
        "## 출력은 아래와 같아야 한다. \n",
        "['겨울방학', '겨울방학', '겨울방학', '1학기', '1학기', '1학기', '1학기', '여름방학', '여름방학', '2학기', '2학기', '2학기', '2학기', '2학기']\n",
        "```\n",
        "\n",
        "`(풀이1)` – 좀 더 추천함"
      ],
      "id": "709463f4-78de-45c7-be5a-e2a1a98ae16d"
    },
    {
      "cell_type": "code",
      "execution_count": 175,
      "metadata": {},
      "outputs": [],
      "source": [
        "dct = {'겨울방학':range(1,3), '1학기':range(3,7), '여름방학':range(7,9), '2학기':range(9,13)}"
      ],
      "id": "e11ecef3-358b-4e9e-9115-1f23c2e1cfd2"
    },
    {
      "cell_type": "code",
      "execution_count": 177,
      "metadata": {},
      "outputs": [],
      "source": [
        "[k for m in month for k in dct if m in dct[k]]"
      ],
      "id": "7a08608b-7217-44f1-a37d-d29ba61c44f0"
    },
    {
      "cell_type": "markdown",
      "metadata": {},
      "source": [
        "`(풀이2)` – 추천안함"
      ],
      "id": "1832b527-f205-4352-8a06-fa53bd364c30"
    },
    {
      "cell_type": "code",
      "execution_count": 165,
      "metadata": {},
      "outputs": [],
      "source": [
        "dct = {1:'겨울방학',2:'겨울방학',3:'1학기',4:'1학기',5:'1학기',6:'1학기',7:'여름방학',8:'여름방학',9:'2학기',10:'2학기',11:'2학기',12:'2학기'}"
      ],
      "id": "6b876763-7cfd-4866-a2e5-0a79f35e0b99"
    },
    {
      "cell_type": "code",
      "execution_count": 167,
      "metadata": {},
      "outputs": [],
      "source": [
        "[dct[m] for m in month]"
      ],
      "id": "bca5f126-eca3-4a72-bc97-57454d8457f9"
    },
    {
      "cell_type": "markdown",
      "metadata": {},
      "source": [
        "`##` – 합성변환\n",
        "\n",
        "아래와 같은 맵핑을 고려하자.\n",
        "\n",
        "(규칙1)\n",
        "\n",
        "|   문자   | 숫자 |\n",
        "|:--------:|:----:|\n",
        "|  바나나  |  0   |\n",
        "|   사과   |  1   |\n",
        "| 오토바이 |  2   |\n",
        "|  자동차  |  3   |\n",
        "|  자전거  |  4   |\n",
        "\n",
        "(규칙2)\n",
        "\n",
        "|  아이템  | 카테고리 |\n",
        "|:--------:|:--------:|\n",
        "|  바나나  |   과일   |\n",
        "|   사과   |   과일   |\n",
        "| 오토바이 |   탈것   |\n",
        "|  자동차  |   탈것   |\n",
        "|  자전거  |   탈것   |\n",
        "\n",
        "각각의 규칙을 나타내는 딕셔너리는 아래와 같이 선언되어있다고 하자."
      ],
      "id": "612225ac-c932-4aa0-9166-f72005aeb55a"
    },
    {
      "cell_type": "code",
      "execution_count": 178,
      "metadata": {},
      "outputs": [],
      "source": [
        "dct1 = {'바나나':0, '사과':1, '오토바이':2, '자동차':3, '자전거':4} \n",
        "dct2 = {'과일':['바나나','사과'], '탈것':['오토바이','자동차','자전거']} "
      ],
      "id": "b6e02c20-5675-49fa-a206-410c48e17ddc"
    },
    {
      "cell_type": "markdown",
      "metadata": {},
      "source": [
        "`# 문제`. 규칙1를 이용하여 아래와 같은 리스트를 변환하는 함수를 구현하고\n",
        "그 함수를 `f`라 선언하라.\n",
        "\n",
        "``` python\n",
        "# 입력 \n",
        "[0,1,0,1,4]\n",
        "\n",
        "# 출력 \n",
        "['바나나', '사과', '바나나', '사과', '자전거']\n",
        "```\n",
        "\n",
        "(사용예시)"
      ],
      "id": "d15b34e0-41db-477c-be16-a5813169669f"
    },
    {
      "cell_type": "code",
      "execution_count": 202,
      "metadata": {},
      "outputs": [],
      "source": [
        "f([0,1,0,1,4])"
      ],
      "id": "a5b88c5f-3ed3-409f-ab3d-8ff6552e530b"
    },
    {
      "cell_type": "markdown",
      "metadata": {},
      "source": [
        "`(풀이)`"
      ],
      "id": "4fbd25c5-c8ab-46a2-a7d9-b2916c6197d4"
    },
    {
      "cell_type": "code",
      "execution_count": 189,
      "metadata": {},
      "outputs": [],
      "source": [
        "f = lambda lst: [k for l in lst for k in dct1 if l == dct1[k]]"
      ],
      "id": "14a59315-b862-43d8-bf41-45ea245bc02b"
    },
    {
      "cell_type": "code",
      "execution_count": 190,
      "metadata": {},
      "outputs": [],
      "source": [
        "f([0,1,0,1,4])"
      ],
      "id": "b6f13d1f-39b5-4c00-a2fa-11ca1d2b6594"
    },
    {
      "cell_type": "markdown",
      "metadata": {},
      "source": [
        "`# 문제`. 규칙2를 이용하여 아래와 같이 리스트를 변환하는 함수를 구현하고\n",
        "그 함수를 `g`라고 선언하라.\n",
        "\n",
        "``` python\n",
        "# 입력 \n",
        "['바나나','바나나','바나나','자동차']\n",
        "\n",
        "# 출력 \n",
        "['과일','과일','과일','탈것']\n",
        "```\n",
        "\n",
        "(사용예시)"
      ],
      "id": "e2ec1e75-ca75-416d-9b06-6cd4ab299ed4"
    },
    {
      "cell_type": "code",
      "execution_count": 201,
      "metadata": {},
      "outputs": [],
      "source": [
        "g(['바나나','바나나','바나나','자동차'])"
      ],
      "id": "bdca3279-219d-470b-bba4-c7bcf4cf01fc"
    },
    {
      "cell_type": "markdown",
      "metadata": {},
      "source": [
        "`(풀이)`"
      ],
      "id": "54294805-771e-4b53-8832-b771c51a61bc"
    },
    {
      "cell_type": "code",
      "execution_count": 195,
      "metadata": {},
      "outputs": [],
      "source": [
        "g = lambda lst: [k for l in lst for k in dct2 if l in dct2[k]]"
      ],
      "id": "cb47d4c3-254e-40ff-8b21-8717212e4b4a"
    },
    {
      "cell_type": "code",
      "execution_count": 196,
      "metadata": {},
      "outputs": [],
      "source": [
        "g(['바나나','바나나','바나나','자동차'])"
      ],
      "id": "52dba634-72e0-46ca-81c8-09aed69c08fc"
    },
    {
      "cell_type": "markdown",
      "metadata": {},
      "source": [
        "`# 문제`. 규칙1-2를 이용하여 아래와 같은 숫자로 이루어진 입력을 ‘과일’,\n",
        "‘탈것’ 중 하나로 바꾸는 코드를 구현하라.\n",
        "\n",
        "``` python\n",
        "# 입력 \n",
        "[0,1,0,1,3,4,2,2,3,4,1,0]\n",
        "\n",
        "# 출력 \n",
        "['과일', '과일', '과일', '과일', '탈것', '탈것', '탈것', '탈것', '탈것', '탈것', '과일', '과일']\n",
        "```\n",
        "\n",
        "**hint** $g(f(x))$ 를 이용하라.\n",
        "\n",
        "`(풀이)`"
      ],
      "id": "4ad90ec4-9c59-4cfa-8733-e6c719b8dbec"
    },
    {
      "cell_type": "code",
      "execution_count": 198,
      "metadata": {},
      "outputs": [],
      "source": [
        "g(f([0,1,0,1,3,4,2,2,3,4,1,0]))"
      ],
      "id": "8155e3a5-4840-4ab3-b363-8872533e69a4"
    },
    {
      "cell_type": "markdown",
      "metadata": {},
      "source": [
        "# 7. 파이썬 자료형 연습문제\n",
        "\n",
        "`Oxford-III`: //\n",
        "[reference](https://www.robots.ox.ac.uk/~vgg/data/pets/)\n",
        "\n",
        "아래는 이미지 파일명들이 저장된 string을 불러오는 코드이다."
      ],
      "id": "0102a3a8-e83f-48db-8dbc-f460ccad3142"
    },
    {
      "cell_type": "code",
      "execution_count": 2,
      "metadata": {
        "tags": []
      },
      "outputs": [],
      "source": [
        "import requests\n",
        "url = 'https://raw.githubusercontent.com/guebin/PP2023/main/posts/01_PythonBasic/Oxford-IIIT.txt'\n",
        "txt = requests.get(url).content.decode()"
      ],
      "id": "65f2dd70-7d39-458a-b789-2161b119f4fd"
    },
    {
      "cell_type": "markdown",
      "metadata": {},
      "source": [
        "txt의 출력 일부를 나타내면 아래와 같다.\n",
        "\n",
        "``` default\n",
        "'Abyssinian_1.jpg\\nAbyssinian_10.jpg\\nAbyssinian_100.jpg\\nAbyssinian_100.mat\\nAbyssinian_101.jpg\\nAbyssinian_101.mat\\nAbyssinian_102.jpg\\nAbyssinian_102.mat\\nAbyssinian_103.jpg\\nAbyssinian_104.jpg\\nAbyssinian_105.jpg\\nAbyssinian_106.jpg\\nAbyssinian_107.jpg\\nAbyssinian_108.jpg\\nAbyssinian_109.jpg\\nAbyssinian_11.jpg\\nAbyssinian_110.jpg\\nAbyssinian_111.jpg\\nAbyssinian_112.jpg\\nAbyssinian_113.jpg\\nAbyssinian_114.jpg\\nAbyssinian_115.jpg\\nAbyssinian_116.jpg\\nAbyssinian_117.jpg\\nAbyssinian_118.jpg\\nAbyssinian_119.jpg\\nAbyssinian_12.jpg\\nAbyssinian_120.jpg\\nAbyssinian_121.jpg\\nAbyssinian_122.jpg\\nAbyssinian_123.jpg\\nAbyssinian_124.jpg\\nAbyssinian_125.jpg\\nAbyssinian_126.jpg\\nAbyssinian_127.jpg\\nAbyssinian_128.jpg\\nAbyssinian_129.jpg\\nAbyssinian_13.jpg\\nAbyssinian_130.jpg\\nAbyssinian_131.jpg\\nAbyssinian_132.jpg\\n ....... \n",
        "```\n",
        "\n",
        "`# 문제`. 각 파일명은 `\\n`으로 구분되어있다. 위의 스트링을 분해하여\n",
        "아래와 같은 리스트를 생성하고 `fname_list`에 저장하라.\n",
        "\n",
        "``` python\n",
        "# fname_list 의 출력결과는 아래와 같아야 한다. \n",
        "['Abyssinian_1.jpg','Abyssinian_10.jpg', ... ,'yorkshire_terrier_98.jpg', 'yorkshire_terrier_99.jpg']\n",
        "```\n",
        "\n",
        "`(풀이)`"
      ],
      "id": "7f7d7680-3a3a-4e12-837c-9fc0b09845a7"
    },
    {
      "cell_type": "code",
      "execution_count": 3,
      "metadata": {
        "tags": []
      },
      "outputs": [],
      "source": [
        "fname_list = txt.split('\\n')\n",
        "fname_list[:5] # 7393개의 이미지파일명이 저장되어있음. "
      ],
      "id": "29f0cddc-8912-4547-b3a5-e6673e54a8ae"
    },
    {
      "cell_type": "markdown",
      "metadata": {},
      "source": [
        "`# 문제`. 각 이미지파일명은 아래와 같은 규칙으로 저장되어 있다.\n",
        "\n",
        "-   파일명의 첫글자가 대문자이면 고양이를 의미하고 첫글자가 소문자이면\n",
        "    강아지를 의미한다.\n",
        "\n",
        "이미지 파일명이 입력으로 오면 강아지인지 고양이인지 판단하여 ‘cat’ or\n",
        "’dog’를 리턴하는 함수 `f`를 구현하라.\n",
        "\n",
        "(함수사용예시)"
      ],
      "id": "c2bb93a0-9b81-4e71-bca4-1a8d3842e344"
    },
    {
      "cell_type": "code",
      "execution_count": 7,
      "metadata": {
        "tags": []
      },
      "outputs": [],
      "source": [
        "f('yorkshire_terrier_99.jpg')"
      ],
      "id": "871dc1cb-90ac-4a11-82be-93b0d5decda4"
    },
    {
      "cell_type": "code",
      "execution_count": 8,
      "metadata": {
        "tags": []
      },
      "outputs": [],
      "source": [
        "f('Abyssinian_1.jpg')"
      ],
      "id": "57e054e7-bc09-47c4-b9f4-ecf0a937eb0c"
    },
    {
      "cell_type": "markdown",
      "metadata": {},
      "source": [
        "`(풀이)`"
      ],
      "id": "ea9f4745-cdc8-4bed-a7e2-6c199936abbe"
    },
    {
      "cell_type": "code",
      "execution_count": 9,
      "metadata": {
        "tags": []
      },
      "outputs": [],
      "source": [
        "f = lambda s: 'cat' if s[0].isupper() else 'dog'\n",
        "f('Abyssinian_1.jpg')"
      ],
      "id": "8b7ba65f-4153-4870-b372-e24205302fa2"
    },
    {
      "cell_type": "markdown",
      "metadata": {},
      "source": [
        "`# 문제`. 위의 결과로 나온 `fname_list`를 입력으로 하고 리스트의 각\n",
        "원소가 고양이를 의미하는 그림인지 강아지를 의미하는 그림인지 나타내는\n",
        "리스트를 만들어라.\n",
        "\n",
        "``` python\n",
        "## 입력예시 \n",
        "['Abyssinian_1.jpg','Abyssinian_10.jpg',...,'yorkshire_terrier_98.jpg', 'yorkshire_terrier_99.jpg']\n",
        "\n",
        "## 출력예시\n",
        "['cat', 'cat', ... , 'dog', 'dog']\n",
        "```\n",
        "\n",
        "`(풀이1)`"
      ],
      "id": "d5c94f22-400e-4d78-a2dd-060e6532b72f"
    },
    {
      "cell_type": "code",
      "execution_count": 10,
      "metadata": {
        "tags": []
      },
      "outputs": [],
      "source": [
        "#list(map(f,fname_list))"
      ],
      "id": "dc00f87f-acc4-4005-9e24-7aeec662bdf0"
    },
    {
      "cell_type": "markdown",
      "metadata": {},
      "source": [
        "`(풀이2)`"
      ],
      "id": "6cbb4297-ac9e-4006-83b8-1dc85381ea9a"
    },
    {
      "cell_type": "code",
      "execution_count": 11,
      "metadata": {
        "tags": []
      },
      "outputs": [],
      "source": [
        "#[f(fname) for fname in fname_list]"
      ],
      "id": "a4bdf313-2750-47d8-b098-83f025453609"
    },
    {
      "cell_type": "markdown",
      "metadata": {},
      "source": [
        "`# 문제`. 강아지 그림과 고양이 그림이 각각 몇 장씩 포함되어 있는지\n",
        "파악하는 코드를 구현하라.\n",
        "\n",
        "`(풀이)`"
      ],
      "id": "87b2b429-2e86-4f2f-a2b4-7a2f4059f184"
    },
    {
      "cell_type": "code",
      "execution_count": 12,
      "metadata": {
        "tags": []
      },
      "outputs": [],
      "source": [
        "[f(fname) for fname in fname_list].count('cat')"
      ],
      "id": "751687f1-8bff-4ae9-9af1-3f4d71787d36"
    },
    {
      "cell_type": "code",
      "execution_count": 13,
      "metadata": {
        "tags": []
      },
      "outputs": [],
      "source": [
        "[f(fname) for fname in fname_list].count('dog')"
      ],
      "id": "69f354db-a387-495b-9141-d521697cf641"
    },
    {
      "cell_type": "markdown",
      "metadata": {},
      "source": [
        "`# 문제`. 고양이 혹은 강아지의 각 종이 몇 장씩 포함되어있는지 구하여\n",
        "딕셔너리로 정리하라.\n",
        "\n",
        "`(풀이)`"
      ],
      "id": "63c911b6-a828-4116-934b-7b57be1a754b"
    },
    {
      "cell_type": "code",
      "execution_count": 14,
      "metadata": {
        "tags": []
      },
      "outputs": [],
      "source": [
        "lst = ['_'.join(l.split('_')[:-1]) for l in fname_list]\n",
        "{s:lst.count(s) for s in set(lst)}"
      ],
      "id": "7d2aa0f1-8010-44e9-9336-8e2475ced8a5"
    }
  ],
  "nbformat": 4,
  "nbformat_minor": 5,
  "metadata": {
    "kernelspec": {
      "name": "python3",
      "display_name": "Python 3 (ipykernel)",
      "language": "python"
    },
    "language_info": {
      "name": "python",
      "codemirror_mode": {
        "name": "ipython",
        "version": "3"
      },
      "file_extension": ".py",
      "mimetype": "text/x-python",
      "nbconvert_exporter": "python",
      "pygments_lexer": "ipython3",
      "version": "3.11.8"
    }
  }
}