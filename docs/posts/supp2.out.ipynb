{
  "cells": [
    {
      "cell_type": "markdown",
      "metadata": {},
      "source": [
        "# supp-1: `matplotlib`\n",
        "\n",
        "최규빈  \n",
        "2024-06-30\n",
        "\n",
        "# 1. 에러메시지\n",
        "\n",
        "## A. 파이썬의 에러메시지 이해\n",
        "\n",
        "`TypeError`: 타입이 맞지 않는 연산을 수행하려고 할 때 발생. 예를 들어,\n",
        "숫자와 문자열을 더하려고 할 때 발생."
      ],
      "id": "baccd6a0-a913-4f99-8920-3339e65652e1"
    },
    {
      "cell_type": "code",
      "execution_count": null,
      "metadata": {
        "outputId": "6fda9781-f5f0-42fe-f645-e9f1f0d3e64a"
      },
      "outputs": [],
      "source": [
        "result = 10 + \"20\"  # TypeError: unsupported operand type(s) for +: 'int' and 'str'"
      ],
      "id": "cf562a0e-7a25-499f-aaaa-0dd8d112bf01"
    },
    {
      "cell_type": "markdown",
      "metadata": {},
      "source": [
        "`SyntaxError`: 코드의 구문이 잘못되었을 때 발생. 주로 오타, 괄호 불일치,\n",
        "콜론(:) 빠뜨림 등의 문제로 인해 발생."
      ],
      "id": "4c18ce7a-7af4-479c-bee8-b9e1674918c7"
    },
    {
      "cell_type": "code",
      "execution_count": null,
      "metadata": {
        "outputId": "b1683b12-54b4-4480-d28c-780dd6744591"
      },
      "outputs": [],
      "source": [
        "if x == 5\n",
        "    print(\"x is equal to 5\")  # SyntaxError: invalid syntax"
      ],
      "id": "3240eac0-c536-454e-b131-134f0c3bbe6d"
    },
    {
      "cell_type": "markdown",
      "metadata": {},
      "source": [
        "`NameError`: 정의되지 않은 변수나 함수를 사용하려고 할 때 발생."
      ],
      "id": "fe54157e-8afe-47b2-bb4b-053b9c86e8fc"
    },
    {
      "cell_type": "code",
      "execution_count": null,
      "metadata": {
        "outputId": "aca3ec0e-3878-47f1-e9e2-20d12e1ff535"
      },
      "outputs": [],
      "source": [
        "print(unknown_variable)  # NameError: name 'unknown_variable' is not defined"
      ],
      "id": "16edd77d-a30f-4ce5-8abb-3b0ba1d33941"
    },
    {
      "cell_type": "markdown",
      "metadata": {},
      "source": [
        "`ValueError`: 함수나 메서드에 전달되는 인자의 값이 올바르지 않을 때\n",
        "발생."
      ],
      "id": "ca885429-6973-428a-a516-b354b1519c52"
    },
    {
      "cell_type": "code",
      "execution_count": null,
      "metadata": {
        "outputId": "e32fa8e3-2e57-4ad5-f5da-7e5f6ce5d162"
      },
      "outputs": [],
      "source": [
        "int_value = int(\"abc\")  # ValueError: invalid literal for int() with base 10: 'abc'"
      ],
      "id": "4994a3b6-69db-4967-b416-ba839214931a"
    },
    {
      "cell_type": "markdown",
      "metadata": {},
      "source": [
        "`AttributeError`: 객체가 속성(attribute)이나 메서드(method)를 가지고\n",
        "있지 않을 때 발생"
      ],
      "id": "21cd5c88-f669-4c6b-827a-ea9666e987e2"
    },
    {
      "cell_type": "code",
      "execution_count": null,
      "metadata": {
        "outputId": "25cd786d-3353-46bb-b34b-de14285aaeb3"
      },
      "outputs": [],
      "source": [
        "my_list = [1, 2, 3]\n",
        "my_list.append(4)\n",
        "my_list.upper()  # AttributeError: 'list' object has no attribute 'upper'"
      ],
      "id": "6559d322-0cba-470d-b576-535323ce3cfd"
    },
    {
      "cell_type": "markdown",
      "metadata": {},
      "source": [
        "`ImportError`: 모듈을 임포트하는 과정에서 문제가 발생할 때 발생.\n",
        "임포트하려는 모듈이 존재하지 않거나, 임포트 경로 설정이 잘못된 경우에\n",
        "해당."
      ],
      "id": "48bd879e-2207-40a4-b7cf-3ed95c81dda3"
    },
    {
      "cell_type": "code",
      "execution_count": null,
      "metadata": {
        "outputId": "87eae0f4-39a7-46da-aa33-c299b07d2deb"
      },
      "outputs": [],
      "source": [
        "import non_existent_module  # ImportError: No module named 'non_existent_module'"
      ],
      "id": "4b4584d0-9817-4b6d-87fa-e8a3f1c0f63c"
    },
    {
      "cell_type": "markdown",
      "metadata": {},
      "source": [
        "`IOError`: 파일 입출력 작업 중에 발생하는 에러. 파일이 존재하지 않거나,\n",
        "파일에 쓰기 권한이 없는 경우 등에 해당."
      ],
      "id": "49d70bca-29db-4a90-86be-c69eab5e8086"
    },
    {
      "cell_type": "code",
      "execution_count": null,
      "metadata": {
        "outputId": "6b49cfbf-d95e-4ee8-829b-4e2af390cd1c"
      },
      "outputs": [],
      "source": [
        "file = open('file.txt', 'r')  # IOError: [Errno 2] No such file or directory: 'file.txt'"
      ],
      "id": "3548f719-4d31-4b40-97eb-3cef86d54c8c"
    },
    {
      "cell_type": "markdown",
      "metadata": {},
      "source": [
        "`KeyboardInterrupt`: 사용자가 프로그램의 실행을 중단할 때 발생."
      ],
      "id": "41fc6088-6d0c-4b1c-9c78-fc9bceec8024"
    },
    {
      "cell_type": "code",
      "execution_count": null,
      "metadata": {
        "outputId": "6cb3433e-c59b-4696-eed2-38e370b0781b"
      },
      "outputs": [],
      "source": [
        "while True:\n",
        "    pass  # 무한 루프\n",
        "# KeyboardInterrupt:\n"
      ],
      "id": "cd2963f9-a435-413d-9499-9e047ae92965"
    },
    {
      "cell_type": "markdown",
      "metadata": {},
      "source": [
        "`IndexError`: 유효하지 않은 인덱스를 사용하여 시퀀스(리스트, 튜플,\n",
        "문자열 등)의 요소에 접근하려고 할 때 발생."
      ],
      "id": "6831e0fa-8c7c-4ec5-8ef9-6d30fc4393b2"
    },
    {
      "cell_type": "code",
      "execution_count": null,
      "metadata": {
        "outputId": "509c8da5-c6e1-4beb-c19c-c0b25737ec35"
      },
      "outputs": [],
      "source": [
        "my_list = [1, 2, 3]\n",
        "print(my_list[5])  # IndexError: list index out of range"
      ],
      "id": "db753ddf-ec56-4d57-b0a0-8d1001ef1454"
    },
    {
      "cell_type": "markdown",
      "metadata": {},
      "source": [
        "`KeyError`: 딕셔너리에서 존재하지 않는 키를 사용하여 요소에 접근하려고\n",
        "할 때 발생."
      ],
      "id": "9d0e2652-4c17-4ddf-8aff-4391fd45141e"
    },
    {
      "cell_type": "code",
      "execution_count": null,
      "metadata": {
        "outputId": "292d0c9e-a34e-4c72-eff9-e36af11d1001"
      },
      "outputs": [],
      "source": [
        "my_dict = {'name': 'John', 'age': 25}\n",
        "print(my_dict['address'])  # KeyError: 'address'"
      ],
      "id": "425b14f2-ff42-4951-91d3-4f0d80f06aba"
    },
    {
      "cell_type": "markdown",
      "metadata": {},
      "source": [
        "`FileNotFoundError`: 존재하지 않는 파일을 열려고 할 때 발생."
      ],
      "id": "d2294a1b-ea28-408c-87ce-2840cd59a0e3"
    },
    {
      "cell_type": "code",
      "execution_count": null,
      "metadata": {
        "outputId": "129aaffc-8da3-47fa-9663-33ddbe310c51"
      },
      "outputs": [],
      "source": [
        "file = open('nonexistent_file.txt')  # FileNotFoundError: [Errno 2] No such file or directory: 'nonexistent_file.txt'"
      ],
      "id": "a860c3c0-d65f-4202-aede-d0da8391003d"
    },
    {
      "cell_type": "markdown",
      "metadata": {},
      "source": [
        "`ZeroDivisionError`: 0으로 나누기 연산을 수행하려고 할 때 발생."
      ],
      "id": "d769d28a-403d-419b-8ca4-30b969138b27"
    },
    {
      "cell_type": "code",
      "execution_count": null,
      "metadata": {
        "outputId": "f844bdaf-671d-44f2-deef-816d88389694"
      },
      "outputs": [],
      "source": [
        "result = 10 / 0  # ZeroDivisionError: division by zero"
      ],
      "id": "2c2b04c2-3e93-42b7-b849-78e6601adf10"
    },
    {
      "cell_type": "markdown",
      "metadata": {},
      "source": [
        "## B. `TypeError`에 대한 심층분석\n",
        "\n",
        "`-` `.__add__` 가 올바르게 정의되지 않아서 생기는 경우\n",
        "\n",
        "    ---------------------------------------------------------------------------\n",
        "    TypeError                                 Traceback (most recent call last)\n",
        "    Cell In[37], line 1\n",
        "    ----> 1 boram + '등록'+ '휴학' + '등록' + '휴학'\n",
        "\n",
        "    TypeError: unsupported operand type(s) for +: 'NoneType' and 'str'\n",
        "\n",
        "`-` `.__getitem__`이 정의되지 않은 오브젝트에서 인덱싱을 시도할때 생기는\n",
        "오류\n",
        "\n",
        "    ---------------------------------------------------------------------------\n",
        "    TypeError                                 Traceback (most recent call last)\n",
        "    Cell In[57], line 1\n",
        "    ----> 1 a[0], a[1]\n",
        "\n",
        "    TypeError: 'RPS' object is not subscriptable\n",
        "\n",
        "`-` `.__setitem__`이 정의되지 않은 오브젝트에서 할당을 시도할때 생기는\n",
        "오류\n",
        "\n",
        "    ---------------------------------------------------------------------------\n",
        "    TypeError                                 Traceback (most recent call last)\n",
        "    Cell In[77], line 1\n",
        "    ----> 1 a[0] = '보'\n",
        "\n",
        "    TypeError: 'RPS2' object does not support item assignment\n",
        "\n",
        "`-` `.__len__` 이 정의되지 않은 오브젝트에서 len을 이용할때 생기는 오류\n",
        "\n",
        "    ---------------------------------------------------------------------------\n",
        "    TypeError                                 Traceback (most recent call last)\n",
        "    Cell In[122], line 1\n",
        "    ----> 1 len(a)\n",
        "\n",
        "    TypeError: object of type 'RPS3' has no len()\n",
        "\n",
        "`-` `.__call__`이 정의되지 않은 오브젝트를 함수처럼 이용하려 할때 생기는\n",
        "오류\n",
        "\n",
        "    ---------------------------------------------------------------------------\n",
        "    TypeError                                 Traceback (most recent call last)\n",
        "    Cell In[402], line 1\n",
        "    ----> 1 a()\n",
        "\n",
        "    TypeError: 'Klass' object is not callable\n",
        "\n",
        "`-` `.__iter__`가 정의되지 않은 오브젝트를 iterable 오브젝트처럼\n",
        "사용하려 할때 생기는 오류\n",
        "\n",
        "    ---------------------------------------------------------------------------\n",
        "    TypeError                                 Traceback (most recent call last)\n",
        "    Cell In[422], line 2\n",
        "          1 a=5\n",
        "    ----> 2 for i in a:\n",
        "          3     print(i)\n",
        "\n",
        "    TypeError: 'int' object is not iterable"
      ],
      "id": "9df0b6b5-13e9-44d3-93bf-2112bf0fb665"
    }
  ],
  "nbformat": 4,
  "nbformat_minor": 5,
  "metadata": {
    "kernelspec": {
      "name": "python3",
      "display_name": "Python 3 (ipykernel)",
      "language": "python"
    },
    "language_info": {
      "name": "python",
      "codemirror_mode": {
        "name": "ipython",
        "version": "3"
      },
      "file_extension": ".py",
      "mimetype": "text/x-python",
      "nbconvert_exporter": "python",
      "pygments_lexer": "ipython3",
      "version": "3.10.13"
    }
  }
}