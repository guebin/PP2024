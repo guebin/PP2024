{
  "cells": [
    {
      "cell_type": "markdown",
      "metadata": {},
      "source": [
        "# 01wk-1: 강의소개\n",
        "\n",
        "최규빈  \n",
        "2024-03-06\n",
        "\n",
        "<a href=\"https://colab.research.google.com/github/guebin/PP2024/blob/main/posts/01wk-1.ipynb\"><img src=\"https://colab.research.google.com/assets/colab-badge.svg\" style=\"text-align: left\"></a>\n",
        "\n",
        "# 1. 전북대 + 충남대\n",
        "\n",
        "`-` 전북대는 전북대학생끼리 성적평가.\n",
        "\n",
        "`-` 충남대는 충남대학생끼리 성적평가.\n",
        "\n",
        "`-` 충남대 학생의 경우 교양과목임을 감안하여 채점할 예정임.\n",
        "\n",
        "# 2. 플립러닝\n",
        "\n",
        "`-` 수업: 매주 금요일 오후까지 강의홈페이지에 업로드 될 예정.\n",
        "\n",
        "-   수업은 영상업로드 방식 (각자 수강)\n",
        "-   영상시청에 대한 별도의 출석체크는 없음.\n",
        "\n",
        "`-` 퀴즈: 매주 수요일 수업시간에 퀴즈를 볼 예정임.\n",
        "\n",
        "-   시험은 오픈북이며 구글검색, 강의노트 참고등을 허용함.\n",
        "-   ChatGPT는 허용하지 않음.\n",
        "\n",
        "# 3. 성적처리 방식\n",
        "\n",
        "`-` 출석 10%, 퀴즈 50%, 중간 20%, 기말 20%\n",
        "\n",
        "-   출석은 매주 수요일 퀴즈시간에 체크할 예정임. (따라서 퀴즈를 보면\n",
        "    출석점수는 자동으로 인정)\n",
        "-   사실상 퀴즈의 점수비중이 60%"
      ],
      "id": "a0dcfff7-f8dc-4863-9f6a-2f4e0c6ff148"
    }
  ],
  "nbformat": 4,
  "nbformat_minor": 5,
  "metadata": {
    "kernelspec": {
      "name": "python3",
      "display_name": "Python 3 (ipykernel)",
      "language": "python"
    },
    "language_info": {
      "name": "python",
      "codemirror_mode": {
        "name": "ipython",
        "version": "3"
      },
      "file_extension": ".py",
      "mimetype": "text/x-python",
      "nbconvert_exporter": "python",
      "pygments_lexer": "ipython3",
      "version": "3.12.2"
    }
  }
}