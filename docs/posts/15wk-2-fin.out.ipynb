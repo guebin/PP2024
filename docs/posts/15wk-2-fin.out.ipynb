{
  "cells": [
    {
      "cell_type": "markdown",
      "metadata": {},
      "source": [
        "# 15wk-2: 기말고사 – 06/21, 09:00\n",
        "\n",
        "최규빈  \n",
        "2024-06-21\n",
        "\n",
        "<a href=\"https://colab.research.google.com/github/guebin/PP2024/blob/main/posts/15wk-2-fin.ipynb\"><img src=\"https://colab.research.google.com/assets/colab-badge.svg\" style=\"text-align: left\"></a>"
      ],
      "id": "63cc5f65-877b-4edb-a999-07d3f7c4c0b4"
    },
    {
      "cell_type": "code",
      "execution_count": 1,
      "metadata": {
        "tags": []
      },
      "outputs": [],
      "source": [
        "import numpy as np\n",
        "import matplotlib.pyplot as plt"
      ],
      "id": "ee093171-c43d-4608-9745-1ae98c716782"
    },
    {
      "cell_type": "markdown",
      "metadata": {},
      "source": [
        "# 0. 공통클래스\n",
        "\n",
        "`# 캐릭터관련 클래스`"
      ],
      "id": "7a2ade2f-9689-42de-b399-20fc07fb05d4"
    },
    {
      "cell_type": "code",
      "execution_count": 2,
      "metadata": {
        "tags": []
      },
      "outputs": [],
      "source": [
        "class Base:\n",
        "    def __init__(self,이름,목표높이):\n",
        "        self.목표높이 = 목표높이\n",
        "        self.이름 = 이름\n",
        "        self.현재높이 = 0\n",
        "        self.탑완성 = False \n",
        "        self.블록쌓는수 = None\n",
        "        self.블록쌓기성공확률 = None\n",
        "        self.블록쌓기성공상태 = None\n",
        "    def __eq__(self,other):\n",
        "        return self.현재높이 == other.현재높이\n",
        "    def __gt__(self,other):\n",
        "        return self.현재높이 > other.현재높이\n",
        "    def 탑쌓기(self):\n",
        "        if not self.탑완성:\n",
        "            if np.random.rand() < self.블록쌓기성공확률:\n",
        "                self.블록쌓기성공상태 = True\n",
        "                self.현재높이 = self.현재높이 + self.블록쌓는수\n",
        "            else: \n",
        "                self.블록쌓기성공상태 = False\n",
        "                self.현재높이 = 0 \n",
        "    def 완성상태체크(self):\n",
        "        self.탑완성 = self.현재높이 >= self.목표높이\n",
        "    def __rshift__(self, other):\n",
        "        return self.탑완성 and not other.탑완성 \n",
        "    def __lshift__(self, other):\n",
        "        return not self.탑완성 and other.탑완성 \n",
        "    def __repr__(self):\n",
        "        text = \"\\n\".join([\n",
        "            f\"이름: {self.이름}\",\n",
        "            f\"목표높이: {self.목표높이}\",\n",
        "            f\"현재높이: {self.현재높이}\",\n",
        "            f\"완성상태: {self.탑완성}\"])\n",
        "        return text"
      ],
      "id": "f6b2a9f5-2f41-4126-9d02-76446a741892"
    },
    {
      "cell_type": "code",
      "execution_count": 469,
      "metadata": {
        "tags": []
      },
      "outputs": [],
      "source": [
        "class Guebin(Base):\n",
        "    def __init__(self,이름,목표높이):\n",
        "        super().__init__(이름,목표높이)\n",
        "        self.블록쌓는수 = 2 \n",
        "        self.블록쌓기성공확률 = 0.5 \n",
        "class Daho(Base):\n",
        "    def __init__(self,이름,목표높이):\n",
        "        super().__init__(이름,목표높이)\n",
        "        self.블록쌓는수 = 1\n",
        "        self.블록쌓기성공확률 = 1.0 \n",
        "class GuebinAttack(Guebin):\n",
        "    def __init__(self,이름,목표높이):\n",
        "        super().__init__(이름,목표높이)\n",
        "        self.공격성공률 = 0.6 \n",
        "    def 공격하기(self,other):\n",
        "        if np.random.rand() < self.공격성공률:\n",
        "            other.현재높이 = 0\n",
        "class DahoCrying(Daho):\n",
        "    def __init__(self,이름,목표높이,울확률=0.1):\n",
        "        super().__init__(이름,목표높이)\n",
        "        self.울확률 = 울확률\n",
        "        self.울음상태 = False \n",
        "    def 울기(self):\n",
        "        if np.random.rand() < self.울확률:\n",
        "            self.울음상태 = True\n",
        "class GuebinTraining(Guebin):\n",
        "    def 수련하기(self):\n",
        "        self.블록쌓기성공확률 = min(self.블록쌓기성공확률 + 0.05,1)\n",
        "class DahoStill(Daho):\n",
        "    def __init__(self,이름,목표높이,애교성공률=0.5):\n",
        "        super().__init__(이름,목표높이)\n",
        "        self.애교성공률 = 애교성공률\n",
        "    def 애교부리기(self,other):\n",
        "        if np.random.rand() < self.애교성공률:\n",
        "            self.현재높이 = self.현재높이 + other.블록쌓는수\n",
        "            other.현재높이 = other.현재높이 - other.블록쌓는수"
      ],
      "id": "e8dece58-6aca-4555-9006-fa042ace06ea"
    },
    {
      "cell_type": "markdown",
      "metadata": {},
      "source": [
        "`#`\n",
        "\n",
        "`# 시뮬레이터 관련 클래스`"
      ],
      "id": "ce1be312-5dc7-4b6d-86a5-00739361608e"
    },
    {
      "cell_type": "code",
      "execution_count": 470,
      "metadata": {
        "tags": []
      },
      "outputs": [],
      "source": [
        "class BaseSimulator:\n",
        "    def __init__(self,규빈,다호,최대라운드=None):\n",
        "        self.규빈 = 규빈\n",
        "        self.다호 = 다호\n",
        "        self.규빈의탑높이들 = []\n",
        "        self.다호의탑높이들 = []\n",
        "        self.결과 = None \n",
        "        self.최대라운드 = 최대라운드\n",
        "        self.라운드 = 0 \n",
        "    def 경험저장(self):\n",
        "        self.규빈의탑높이들.append(self.규빈.현재높이)\n",
        "        self.다호의탑높이들.append(self.다호.현재높이)\n",
        "    def 히스토리(self):\n",
        "        text = [\n",
        "            f\"규빈의탑높이들: {self.규빈의탑높이들}\",\n",
        "            f\"다호의탑높이들: {self.다호의탑높이들}\",\n",
        "            f\"최종라운드: {self.라운드}\",\n",
        "            f\"결과: {self.결과}\"\n",
        "        ]\n",
        "        print(\"\\n\".join(text))\n",
        "    def 결과시각화(self):\n",
        "        plt.plot(self.규빈의탑높이들,'--o',label=self.규빈.이름)\n",
        "        plt.plot(self.다호의탑높이들,'--o',label=self.다호.이름)\n",
        "        plt.legend()        \n",
        "    def __iter__(self):\n",
        "        return self \n",
        "    def __next__(self):\n",
        "        if self.규빈 >> self.다호: ## 규빈의 승리\n",
        "            self.결과 = \"규빈승\"\n",
        "            raise(StopIteration)\n",
        "        elif self.규빈 << self.다호: ## 다호의 승리 \n",
        "            self.결과 = \"다호승\"\n",
        "            raise(StopIteration)\n",
        "        else: ## 무승부 \n",
        "            self.양쪽모두완성 = self.규빈.탑완성 and self.다호.탑완성 \n",
        "            self.양쪽모두미완성 = not self.규빈.탑완성 and not self.다호.탑완성 \n",
        "            self.라운드초과 = self.최대라운드 is not None and self.라운드 >= self.최대라운드\n",
        "            if self.양쪽모두완성:\n",
        "                self.결과 = \"무승부(모두성공)\"\n",
        "                raise(StopIteration)\n",
        "            elif self.양쪽모두미완성 and self.라운드초과:\n",
        "                self.결과 = \"무승부(모두실패)\"\n",
        "                raise(StopIteration)\n",
        "            else:\n",
        "                pass"
      ],
      "id": "5f57c042-7668-4b2a-93d5-02bd22e7042d"
    },
    {
      "cell_type": "markdown",
      "metadata": {},
      "source": [
        "`#`\n",
        "\n",
        "# 1. 공든 탑 쌓기 I – 50점\n",
        "\n",
        "> 문항당 10점\n",
        "\n",
        "> 모든 문항은 문항의 뜻에 맞는 `규빈`, `다호` 클래스를 선언하여 풀 것.\n",
        "> 클래스를 사용하지 않을 경우 (예를들어 중간고사 답안을 그대로 복붙하여\n",
        "> 제출하는 경우) 감점있음.\n",
        "\n",
        "규빈과 다호가 블록을 사용하여 탑을 쌓는다. (규빈이 먼저 쌓음) 규빈은 한\n",
        "번에 2개의 블록을 사용하여 탑을 쌓지만, 실수로 탑을 무너뜨릴 확률이\n",
        "50%이다. 한 번 무너진 탑은 다시 처음부터 쌓아야 한다. 다호는 한 번에\n",
        "1개의 블록을 사용하여 신중하게 탑을 쌓는다. 다호는 천천히 탑을 쌓지만\n",
        "실수로 탑을 무너뜨리지 않는다.\n",
        "\n",
        "`(1)` 규빈과 다호가 10층 높이의 탑을 먼저 쌓는 내기를 하였다고 하자.\n",
        "탑을 쌓을수 있는 기회는 10회 (=10-rounds) 준다. 승리조건은 각 라운드가\n",
        "끝난 이후 정산하며 양쪽이 같은 round에 탑을 완성 시킨 경우나 양쪽이\n",
        "제한횟수내에 모두 탑을 쌓지 못한경우면 무승부로 처리한다. 이 내기는 누가\n",
        "유리한가? 시뮬레이션을 통하여 근거를 설명하라.\n",
        "\n",
        "`(클래스사용소개)`"
      ],
      "id": "e28e9339-5768-456e-914e-fbd58ab895a2"
    },
    {
      "cell_type": "code",
      "execution_count": 471,
      "metadata": {
        "tags": []
      },
      "outputs": [],
      "source": [
        "규빈1 = Guebin(이름=\"Guebin1\",목표높이=10)\n",
        "다호1 = Daho(이름=\"Daho1\",목표높이=10)"
      ],
      "id": "56c503f4-85cd-489e-9924-1cb15ca38ca5"
    },
    {
      "cell_type": "code",
      "execution_count": 472,
      "metadata": {
        "tags": []
      },
      "outputs": [],
      "source": [
        "class Simulator1(BaseSimulator):\n",
        "    def 라운드진행(self):\n",
        "        self.다호.탑쌓기()\n",
        "        self.규빈.탑쌓기()\n",
        "        self.규빈.완성상태체크() \n",
        "        self.다호.완성상태체크()  "
      ],
      "id": "a361ea2d-c461-45af-a0de-86f78398d093"
    },
    {
      "cell_type": "code",
      "execution_count": 473,
      "metadata": {
        "tags": []
      },
      "outputs": [],
      "source": [
        "simulator = Simulator1(규빈1,다호1,최대라운드=10)"
      ],
      "id": "74ae07bf-c20c-4876-b1d8-5e1f8414f525"
    },
    {
      "cell_type": "code",
      "execution_count": 474,
      "metadata": {
        "tags": []
      },
      "outputs": [],
      "source": [
        "for _ in simulator:\n",
        "    simulator.라운드진행()\n",
        "    simulator.경험저장()\n",
        "    simulator.라운드 = simulator.라운드 + 1 "
      ],
      "id": "59b190c9-8d46-4d8d-add0-4123bd62f3d7"
    },
    {
      "cell_type": "code",
      "execution_count": 475,
      "metadata": {
        "tags": []
      },
      "outputs": [
        {
          "output_type": "stream",
          "name": "stdout",
          "text": [
            "규빈의탑높이들: [0, 2, 0, 0, 0, 2, 0, 0, 0, 0]\n",
            "다호의탑높이들: [1, 2, 3, 4, 5, 6, 7, 8, 9, 10]\n",
            "최종라운드: 10\n",
            "결과: 다호승"
          ]
        }
      ],
      "source": [
        "simulator.히스토리()"
      ],
      "id": "3120b4fe-af8b-44d2-bd10-6c67ebd3a80c"
    },
    {
      "cell_type": "code",
      "execution_count": 476,
      "metadata": {
        "tags": []
      },
      "outputs": [
        {
          "output_type": "display_data",
          "metadata": {},
          "data": {
            "image/png": "[encoded data removed]"
          }
        }
      ],
      "source": [
        "simulator.결과시각화()"
      ],
      "id": "ff622065-76e8-45a8-8133-76856b3d3982"
    },
    {
      "cell_type": "markdown",
      "metadata": {},
      "source": [
        "`(풀이)`"
      ],
      "id": "aba7e3fc-b292-4b6a-b1ad-b3ea400dc4c1"
    },
    {
      "cell_type": "code",
      "execution_count": 477,
      "metadata": {
        "tags": []
      },
      "outputs": [],
      "source": [
        "simulator_list = [Simulator1(Guebin(f\"Guebin{i}\",10),Daho(f\"Daho{i}\",10),최대라운드=10) for i in range(100000)] "
      ],
      "id": "9cac0208-fbb9-4120-afb3-d1402d24625b"
    },
    {
      "cell_type": "code",
      "execution_count": 478,
      "metadata": {
        "tags": []
      },
      "outputs": [],
      "source": [
        "for simulator in simulator_list:\n",
        "    for _ in simulator:\n",
        "        simulator.라운드진행()\n",
        "        simulator.경험저장()\n",
        "        simulator.라운드 = simulator.라운드 + 1 "
      ],
      "id": "c19766a8-764b-4666-a537-229943d6c773"
    },
    {
      "cell_type": "code",
      "execution_count": 479,
      "metadata": {
        "tags": []
      },
      "outputs": [],
      "source": [
        "results = [s.결과 for s in simulator_list]\n",
        "{s:results.count(s) for s in set(results)}"
      ],
      "id": "9f8e3e93-7546-4822-b764-1c79f3a00093"
    },
    {
      "cell_type": "markdown",
      "metadata": {},
      "source": [
        "`(결과분석)`\n",
        "\n",
        "**첫번째 시뮬레이션 결과탐색**"
      ],
      "id": "7598a912-034b-46aa-a4d5-ffa996f0581b"
    },
    {
      "cell_type": "code",
      "execution_count": 480,
      "metadata": {
        "tags": []
      },
      "outputs": [],
      "source": [
        "results[0]"
      ],
      "id": "66311f1a-b713-4e7d-8a07-75ffce0ea4b1"
    },
    {
      "cell_type": "code",
      "execution_count": 481,
      "metadata": {
        "tags": []
      },
      "outputs": [
        {
          "output_type": "stream",
          "name": "stdout",
          "text": [
            "규빈의탑높이들: [2, 0, 2, 4, 6, 0, 0, 0, 0, 2]\n",
            "다호의탑높이들: [1, 2, 3, 4, 5, 6, 7, 8, 9, 10]\n",
            "최종라운드: 10\n",
            "결과: 다호승"
          ]
        }
      ],
      "source": [
        "simulator_list[0].히스토리()"
      ],
      "id": "edbe73a8-399f-4961-97f5-3d8d09b5b324"
    },
    {
      "cell_type": "code",
      "execution_count": 482,
      "metadata": {
        "tags": []
      },
      "outputs": [
        {
          "output_type": "display_data",
          "metadata": {},
          "data": {
            "image/png": "[encoded data removed]"
          }
        }
      ],
      "source": [
        "simulator_list[0].결과시각화()"
      ],
      "id": "903bcaca-718d-41c9-936d-9ac4bb476f77"
    },
    {
      "cell_type": "markdown",
      "metadata": {},
      "source": [
        "**두번째 시뮬레이션 결과탐색**"
      ],
      "id": "bdfed5a2-8b7c-476d-8257-c464e07530ea"
    },
    {
      "cell_type": "code",
      "execution_count": 483,
      "metadata": {
        "tags": []
      },
      "outputs": [],
      "source": [
        "results[1]"
      ],
      "id": "e0b8cfaf-ce49-408f-aa90-14d1aef11720"
    },
    {
      "cell_type": "code",
      "execution_count": 484,
      "metadata": {
        "tags": []
      },
      "outputs": [
        {
          "output_type": "stream",
          "name": "stdout",
          "text": [
            "규빈의탑높이들: [2, 4, 6, 8, 10]\n",
            "다호의탑높이들: [1, 2, 3, 4, 5]\n",
            "최종라운드: 5\n",
            "결과: 규빈승"
          ]
        }
      ],
      "source": [
        "simulator_list[1].히스토리()"
      ],
      "id": "15104a57-3390-46fa-a9de-37c462de7037"
    },
    {
      "cell_type": "code",
      "execution_count": 485,
      "metadata": {
        "tags": []
      },
      "outputs": [
        {
          "output_type": "display_data",
          "metadata": {},
          "data": {
            "image/png": "[encoded data removed]"
          }
        }
      ],
      "source": [
        "simulator_list[1].결과시각화()"
      ],
      "id": "91a71faf-f0a4-4c1f-b767-ef2ac06a2078"
    },
    {
      "cell_type": "markdown",
      "metadata": {},
      "source": [
        "`(2)` 규빈은 게임을 반복하다가 본인이 불리하다는 사실을 알았다. 규빈은\n",
        "다호의 탑을 관찰하며, 다호의 탑이 5층 이상인 경우 다호의 탑을 공격하기로\n",
        "결정했다. 공격 성공률은 60% 이며 공격이 성공시 다호의 탑은 모두\n",
        "무너진다. (단, 공격시 규빈은 탑을 쌓을 수 없다) 규빈과 다호에게 탑을\n",
        "쌓거나 상대방의 탑을 공격할 기회를 20회 준다. 즉 20-rounds 동안 게임을\n",
        "진행한다. 누가 유리한가? 시뮬레이션을 통하여 근거를 설명하라.\n",
        "\n",
        "`(풀이)`"
      ],
      "id": "12d3d023-48f8-41f9-8836-21568813220a"
    },
    {
      "cell_type": "code",
      "execution_count": 486,
      "metadata": {
        "tags": []
      },
      "outputs": [],
      "source": [
        "class Simulator2(BaseSimulator):\n",
        "    def 라운드진행(self):\n",
        "        if self.다호.현재높이 >= 5: \n",
        "            self.규빈.공격하기(self.다호)\n",
        "        else: \n",
        "            self.규빈.탑쌓기()        \n",
        "        self.다호.탑쌓기()            \n",
        "        self.규빈.완성상태체크() \n",
        "        self.다호.완성상태체크()      "
      ],
      "id": "526493a8-e829-4d4b-a6f6-afb96a7ce0c3"
    },
    {
      "cell_type": "code",
      "execution_count": 487,
      "metadata": {
        "tags": []
      },
      "outputs": [],
      "source": [
        "simulator_list = [Simulator2(GuebinAttack(f\"Guebin{i}\",10),Daho(f\"Daho{i}\",10),최대라운드=20) for i in range(10000)] "
      ],
      "id": "0972f80e-bf05-41a7-a27b-f1c9b7bfded2"
    },
    {
      "cell_type": "code",
      "execution_count": 488,
      "metadata": {
        "tags": []
      },
      "outputs": [],
      "source": [
        "for simulator in simulator_list:\n",
        "    for _ in simulator:\n",
        "        simulator.라운드진행()\n",
        "        simulator.경험저장()\n",
        "        simulator.라운드 = simulator.라운드 + 1 "
      ],
      "id": "811b012f-5b53-48eb-b432-bfddc2d2ba32"
    },
    {
      "cell_type": "code",
      "execution_count": 489,
      "metadata": {
        "tags": []
      },
      "outputs": [],
      "source": [
        "results = [s.결과 for s in simulator_list]\n",
        "{s:results.count(s) for s in set(results)}"
      ],
      "id": "cee910a6-7c92-4c1d-87d0-f2a12095cbb3"
    },
    {
      "cell_type": "markdown",
      "metadata": {},
      "source": [
        "`(3)` 다호는 규빈의 공격으로 공든탑이 무너지자 참을수가 없어져 결국\n",
        "울음을 터뜨렸다. “울음”의 효과는 아래와 같다.\n",
        "\n",
        "-   현재 탑의 높이와 상관없이 다호의 승리 (규빈은 다호가 울면 전의를\n",
        "    상실하고 게임을 포기한다)\n",
        "\n",
        "“울음”은 다호의 탑이 무너진 경우 $p_{으앙}$ 의 확률로 발생한다. 다호가\n",
        "유리해지기 시작하는 $p_{으앙}$ 는 얼마인가? (소수점 첫번째 자리까지의\n",
        "정확도만 요구함)\n",
        "\n",
        "> 울음이벤트의 랜덤발생을 제외하고 전체 게임 상황은 (2)의 게임이\n",
        "> 유지된다. 즉 게임은 20-rounds 동안 10층높이의 탑을 쌓는 규칙으로\n",
        "> 진행되며 규빈은 다호의탑이 5층이상인 경우 다호의 탑을 공격한다.\n",
        "> 공격성공률은 60%이며 공격이 성공시 다호의 탑은 모두 무너진다.\n",
        "\n",
        "`(4)` 다호가 울어버리자 규빈은 공격을 하지 않고 수련을 반복하여 다호를\n",
        "이기기로 결심하였다. 규빈은 매회 탑을 쌓는 연습을 몰래하였으며 연습을\n",
        "통해 탑을 쌓을 확률을 5%씩 증가시켰다. (단 탑을 쌓을 확률은 1을 넘지\n",
        "않는다) 예를들면 아래의 표와 같다.\n",
        "\n",
        "| round | 플레이어 |   행동   |  탑쌓기성공확률   |           상태            | 탑의높이 |\n",
        "|:----------:|:----------:|:----------:|:----------:|:----------:|:----------:|\n",
        "|   1   |   규빈   |  탑쌓기  |       0.50        |        탑쌓기성공         |    2     |\n",
        "|   1   |   규빈   | 수련하기 | (0.50 $\\to$) 0.55 | 수련결과 탑쌓는 확률 상승 |    2     |\n",
        "|   1   |   다호   |  탑쌓기  |        1.0        |        탑쌓기성공         |    1     |\n",
        "|   2   |   규빈   |  탑쌓기  |       0.55        |        탑쌓기성공         |    4     |\n",
        "|   2   |   규빈   | 수련하기 | (0.55 $\\to$) 0.60 | 수련결과 탑쌓는 확률 상승 |    4     |\n",
        "|   2   |   다호   |  탑쌓기  |        1.0        |        탑쌓기성공         |    2     |\n",
        "\n",
        "먼저 $n$ 층 높이의 탑을 내기를 한다고 하자. 규빈이 유리해지기 시작하는\n",
        "$n$ 은 얼마인가?\n",
        "\n",
        "`(5)` 다호는 수련을 통해 매회 블럭쌓는 실력이 향상되는 규빈과 (4에서\n",
        "구한) $n$층 높이의 탑을 쌓는 내기를 반복하였다. 반복되는 내기에서 다호는\n",
        "본인이 조금 불리한것 같다는 생각을 하였다. 그래서 규빈이 탑을 쌓는것을\n",
        "지켜보다가 규빈이 탑을 성공할때마다 애교를 부리기로 결심했다.\n",
        "\n",
        "-   상황1: 규빈이 2개 블럭 쌓기에 성공하는 것을 관찰한다. $\\to$ “그 블럭\n",
        "    나한테 주면 안돼?” 라고 애교를 부린다. $\\to$ 애교가 성공하면 다호의\n",
        "    탑에 2개의 블록이 추가된다. 애교가 실패하면 규빈탑에 그대로 2개의\n",
        "    블럭이 추가되고, 다호의 탑에는 블럭이 추가되지 않는다.\n",
        "-   상황2: 규빈이 2개 블럭 쌓기에 실패하는 것을 관찰한다. $\\to$ 애교를\n",
        "    부릴 이유가 없어졌다. 묵묵히 하나의 블럭을 차분하게 쌓는다.\n",
        "\n",
        "따라서 발생가능한 모든 경우의 수는 아래와 같다.\n",
        "\n",
        "| 규빈이 탑쌓기 성공 | 애교시도 | 애교성공 | 규빈탑높이 | 다호탑높이 |\n",
        "|:------------------:|:--------:|:--------:|:----------:|:----------:|\n",
        "|        True        |   True   |   True   |     +0     |     +2     |\n",
        "|        True        |   True   |  False   |     +2     |     +0     |\n",
        "|       False        |  False   |   None   |     +0     |     +1     |\n",
        "\n",
        "아래는 5층 높이의 탑을 먼저 쌓는 조건을 round 4까지만 진행한다고 할때\n",
        "발생가능한 게임양상의 예시이다.\n",
        "\n",
        "`# 경우1` – 다호가 승리\n",
        "\n",
        "| round | 플레이어 |         행동          |    상태    | 탑의높이들 (수련규빈, 애교다호) |         승리조건         |\n",
        "|:----------:|:----------:|:----------:|:----------:|:----------:|:----------:|\n",
        "|   1   |   규빈   | 탑쌓기 $\\to$ 수련하기 | 탑쌓기성공 |               2,0               | 양쪽 모두 승리조건 만족X |\n",
        "|   1   |   다호   |         애교          |  애교성공  |               0,2               | 양팀 모두 승리조건 만족X |\n",
        "|   2   |   규빈   | 탑쌓기 $\\to$ 수련하기 | 탑쌓기실패 |               0,2               | 양쪽 모두 승리조건 만족X |\n",
        "|   2   |   다호   | 탑쌓기(애교대상없음)  | 탑쌓기성공 |               0,3               | 양쪽 모두 승리조건 만족X |\n",
        "|   3   |   규빈   | 탑쌓기 $\\to$ 수련하기 | 탑쌓기성공 |               2,3               | 양쪽 모두 승리조건 만족X |\n",
        "|   3   |   다호   |         애교          |  애교성공  |               0,5               |   다호가 승리조건 만족   |\n",
        "\n",
        "**다호의 승리**\n",
        "\n",
        "`#`\n",
        "\n",
        "`# 경우2` – 규빈이 승리하는듯 보였지만 결국 다호가 승리\n",
        "\n",
        "| round | 플레이어 |         행동          |    상태    | 탑의높이들 (수련규빈, 애교다호) |         승리조건         |\n",
        "|:----------:|:----------:|:----------:|:----------:|:----------:|:----------:|\n",
        "|   1   |   규빈   | 탑쌓기 $\\to$ 수련하기 | 탑쌓기성공 |               2,0               | 양쪽 모두 승리조건 만족X |\n",
        "|   1   |   다호   |         애교          |  애교실패  |               2,0               | 양팀 모두 승리조건 만족X |\n",
        "|   2   |   규빈   | 탑쌓기 $\\to$ 수련하기 | 탑쌓기성공 |               4,0               | 양쪽 모두 승리조건 만족X |\n",
        "|   2   |   다호   |         애교          |  애교성공  |               2,2               | 양쪽 모두 승리조건 만족X |\n",
        "|   3   |   규빈   | 탑쌓기 $\\to$ 수련하기 | 탑쌓기성공 |               4,2               | 양쪽 모두 승리조건 만족X |\n",
        "|   3   |   다호   |         애교          |  애교성공  |               2,4               | 양쪽 모두 승리조건 만족X |\n",
        "|   4   |   규빈   | 탑쌓기 $\\to$ 수련하기 | 탑쌓기성공 |               4,4               | 양쪽 모두 승리조건 만족X |\n",
        "|   4   |   다호   |         애교          |  애교실패  |               4,4               | 양쪽 모두 승리조건 만족X |\n",
        "|   5   |   규빈   | 탑쌓기 $\\to$ 수련하기 | 탑쌓기성공 |               6,4               |   규빈이 승리조건 만족   |\n",
        "|   5   |   다호   |         애교          |  애교성공  |               4,6               |   다호가 승리조건 만족   |\n",
        "\n",
        "**최종적으로 다호의 승리**\n",
        "\n",
        "`#`\n",
        "\n",
        "라운드 제한없이 $n$층의 높이를 먼저 쌓는 내기를 할때, 애교의 성공확률\n",
        "$p_{아잉}$ 가 얼마 이상이면 다호의 승률이 70% 이상이 되는가? (Note:\n",
        "$p_{아잉}=1$ 이면 다호의 승률은 100%이다. 즉 규빈은 이길 수 없다.)\n",
        "\n",
        "# 2. 공든 탑 쌓기 II – 100점\n",
        "\n",
        "> `(1)` 20점, `(2)` 80점임. `(1)`은 부분점수 없으며 `(2)`는 부분점수\n",
        "> 있음.\n",
        "\n",
        "하니는 규빈과 다호가 탑을 쌓는 과정을 유심히 바라보다가 게임을 하나\n",
        "만들었다. 게임에는 다음과 같은 4명의 캐릭터가 등장한다.\n",
        "\n",
        "-   공격규빈: 공든 탑 쌓기 I-(2)에서의 규빈\n",
        "-   울보다호: 공든 탑 쌓기 I-(3)에서의 다호 // $p_{으앙}$의 확률로 울음\n",
        "-   수련규빈: 공든 탑 쌓기 I-(4)에서의 규빈\n",
        "-   애교다호: 공든 탑 쌓기 I-(5)에서의 다호 // 애교는 $p_{아잉}$의\n",
        "    확률로 성공한다.\n",
        "\n",
        "4명의 캐릭터중 \\[수련규빈, 공격규빈\\] 이 한팀으로, \\[울보다호,\n",
        "애교다호\\] 가 한팀으로 구성되었다. 게임은 수련규빈, 울보다호, 공격규빈,\n",
        "애교다호 순서로 번갈아가며 탑을 쌓는 방식으로 진행한다. 수련규빈,\n",
        "울보다호, 공격규빈, 애교다호의 탑중 가장 빨리 탑을 완성시킨 캐릭터가\n",
        "포함된 팀이 최종승리한다. 승리조건은 각 라운드가 끝난 이후 정산하며\n",
        "양팀이 같은 round에 탑을 완성 시킨 경우나 양팀이 제한횟수내에 모두 탑을\n",
        "쌓지 못한경우면 팀의 탑높이를 합산하여 승자를 결정한다. 합산점수도\n",
        "동일하다면 무승부 처리한다. 규칙의 세부적인 내용은 아래와 같다.\n",
        "\n",
        "1.  공격규빈과 애교다호는 1라운드에는 탑을 공격하거나 뺏지 않으며\n",
        "    2라운드부터 상대팀 중 한명의 탑을 무너뜨리거나 뺏을 수 있다.\n",
        "2.  울보다호가 울 경우 게임은 즉시 중지되며 다호팀이 승리한다.\n",
        "3.  팀의 탑의 높이를 합산할시, 최종목표타워 높이보다 높은 블록은\n",
        "    합산하지 않는다. (즉 5층을 먼저 쌓는 내기라면 6층을 쌓더라도 5층으로\n",
        "    계산한다.)\n",
        "4.  애교다호는 해당 라운드에 탑쌓기에 성공한 플레이어에게만 애교를\n",
        "    사용할 수 있다. 탑쌓기에 성공한 플레이어가 2명이면 둘중하나에게만\n",
        "    애교를 사용할 수 있다. (애교를 거는 대상은 팀 전략에 따라 달라진다.\n",
        "    랜덤으로 애교를 건다든가? 탑을 높이 쌓은 쪽에게 애교를\n",
        "    시전한다든가?)\n",
        "\n",
        "5층 높이의 탑을 먼저 쌓는 조건을 round4까지만 진행한다고 할때 발생가능한\n",
        "게임예시는 아래와 같다.\n",
        "\n",
        "`# 경우1` – 수련규빈이 먼저 탑을 완성하며 규빈팀 최종승리\n",
        "\n",
        "| round | 플레이어 |         행동          |    상태    | 탑의높이들 (\\[수련규빈,공격규빈\\],\\[울보다호,애교다호\\]) |         승리조건         |\n",
        "|:----------:|:----------:|:----------:|:----------:|:----------:|:----------:|\n",
        "|   1   | 수련규빈 | 탑쌓기 $\\to$ 수련하기 | 탑쌓기성공 |                     \\[2,0\\], \\[0,0\\]                     | 양팀 모두 승리조건 만족X |\n",
        "|   1   | 울보다호 |        탑쌓기         | 탑쌓기성공 |                     \\[2,0\\], \\[1,0\\]                     | 양팀 모두 승리조건 만족X |\n",
        "|   1   | 공격규빈 |        탑쌓기         | 탑쌓기실패 |                     \\[2,0\\], \\[1,0\\]                     | 양팀 모두 승리조건 만족X |\n",
        "|   1   | 애교다호 |        탑쌓기         | 탑쌓기성공 |                     \\[2,0\\], \\[1,1\\]                     | 양팀 모두 승리조건 만족X |\n",
        "|  \\-   |    \\-    |          \\-           |     \\-     |                            \\-                            |                          |\n",
        "|   2   | 수련규빈 | 탑쌓기 $\\to$ 수련하기 | 탑쌓기성공 |                     \\[4,0\\], \\[1,1\\]                     | 양팀 모두 승리조건 만족X |\n",
        "|   2   | 울보다호 |        탑쌓기         | 탑쌓기성공 |                     \\[4,0\\], \\[2,1\\]                     | 양팀 모두 승리조건 만족X |\n",
        "|   2   | 공격규빈 |        탑쌓기         | 탑쌓기성공 |                     \\[4,2\\], \\[2,1\\]                     | 양팀 모두 승리조건 만족X |\n",
        "|   2   | 애교다호 |   수련규빈에게 애교   |  애교실패  |                     \\[4,2\\], \\[2,1\\]                     | 양팀 모두 승리조건 만족X |\n",
        "|  \\-   |    \\-    |          \\-           |     \\-     |                            \\-                            |                          |\n",
        "|   3   | 수련규빈 | 탑쌓기 $\\to$ 수련하기 | 탑쌓기성공 |                     \\[6,2\\], \\[2,1\\]                     |   규빈팀 승리조건 만족   |\n",
        "|   3   | 울보다호 |        탑쌓기         | 탑쌓기성공 |                     \\[6,2\\], \\[3,1\\]                     |   규빈팀 승리조건 만족   |\n",
        "|   3   | 공격규빈 |        탑쌓기         | 탑쌓기성공 |                     \\[6,4\\], \\[3,1\\]                     |   규빈팀 승리조건 만족   |\n",
        "|   3   | 애교다호 |   수련규빈에게 애교   |  애교실패  |                     \\[6,4\\], \\[3,1\\]                     |   규빈팀 승리조건 만족   |\n",
        "\n",
        "**수련규빈이 6층을 완성하여 목표치 5층보다 높으므로 규빈팀 최종송리**\n",
        "\n",
        "`#`\n",
        "\n",
        "`# 경우2` – 애교다호가 수련규빈의 완성을 가로채며 다호팀 최종승리\n",
        "\n",
        "| round | 플레이어 |         행동          |        상태        | 탑의높이들 (\\[수련규빈,공격규빈\\],\\[울보다호,애교다호\\]) |         승리조건         |\n",
        "|:----------:|:----------:|:----------:|:----------:|:----------:|:----------:|\n",
        "|   1   | 수련규빈 | 탑쌓기 $\\to$ 수련하기 |     탑쌓기성공     |                     \\[2,0\\], \\[0,0\\]                     | 양팀 모두 승리조건 만족X |\n",
        "|   1   | 울보다호 |        탑쌓기         |     탑쌓기성공     |                     \\[2,0\\], \\[1,0\\]                     | 양팀 모두 승리조건 만족X |\n",
        "|   1   | 공격규빈 |        탑쌓기         |     탑쌓기실패     |                     \\[2,0\\], \\[1,0\\]                     | 양팀 모두 승리조건 만족X |\n",
        "|   1   | 애교다호 |        탑쌓기         |     탑쌓기성공     |                     \\[2,0\\], \\[1,1\\]                     | 양팀 모두 승리조건 만족X |\n",
        "|  \\-   |    \\-    |          \\-           |         \\-         |                            \\-                            |                          |\n",
        "|   2   | 수련규빈 | 탑쌓기 $\\to$ 수련하기 |     탑쌓기성공     |                     \\[4,0\\], \\[1,1\\]                     | 양팀 모두 승리조건 만족X |\n",
        "|   2   | 울보다호 |        탑쌓기         |     탑쌓기성공     |                     \\[4,0\\], \\[2,1\\]                     | 양팀 모두 승리조건 만족X |\n",
        "|   2   | 공격규빈 |     울보다호공격      | 공격성공,울음발동X |                     \\[4,0\\], \\[0,1\\]                     | 양팀 모두 승리조건 만족X |\n",
        "|   2   | 애교다호 |   수련규빈에게 애교   |      애교성공      |                     \\[2,0\\], \\[0,3\\]                     | 양팀 모두 승리조건 만족X |\n",
        "|  \\-   |    \\-    |          \\-           |         \\-         |                            \\-                            |                          |\n",
        "|   3   | 수련규빈 | 탑쌓기 $\\to$ 수련하기 |     탑쌓기성공     |                     \\[4,0\\], \\[0,3\\]                     | 양팀 모두 승리조건 만족X |\n",
        "|   3   | 울보다호 |        탑쌓기         |     탑쌓기성공     |                     \\[4,0\\], \\[1,3\\]                     | 양팀 모두 승리조건 만족X |\n",
        "|   3   | 공격규빈 |     애교다호공격      |      공격실패      |                     \\[4,0\\], \\[1,3\\]                     | 양팀 모두 승리조건 만족X |\n",
        "|   3   | 애교다호 |   수련규빈에게 애교   |      애교실패      |                     \\[4,0\\], \\[1,3\\]                     | 양팀 모두 승리조건 만족X |\n",
        "|  \\-   |    \\-    |          \\-           |         \\-         |                            \\-                            |                          |\n",
        "|   4   | 수련규빈 | 탑쌓기 $\\to$ 수련하기 |     탑쌓기성공     |                     \\[6,0\\], \\[1,3\\]                     |   규빈팀 승리조건 만족   |\n",
        "|   4   | 울보다호 |        탑쌓기         |     탑쌓기성공     |                     \\[6,0\\], \\[2,3\\]                     |   규빈팀 승리조건 만족   |\n",
        "|   4   | 공격규빈 |     애교다호공격      |      공격실패      |                     \\[6,0\\], \\[2,3\\]                     |   규빈팀 승리조건 만족   |\n",
        "|   4   | 애교다호 |   수련규빈에게 애교   |      애교성공      |                     \\[4,0\\], \\[2,5\\]                     |   다호팀 승리조건 만족   |\n",
        "\n",
        "**수련규빈의 탑을 애교다호가 스틸하며 4라운드에서 다호팀이 최종승리**\n",
        "\n",
        "`#`\n",
        "\n",
        "`# 경우3` – 울음이 발동되며 다호팀 승리\n",
        "\n",
        "| round | 플레이어 |            행동             |          상태           | 탑의높이들 (\\[수련규빈,공격규빈\\],\\[울보다호,애교다호\\]) |         승리조건         |\n",
        "|:----------:|:----------:|:----------:|:----------:|:----------:|:----------:|\n",
        "|   1   | 수련규빈 |    탑쌓기 $\\to$ 수련하기    |       탑쌓기성공        |                     \\[2,0\\], \\[0,0\\]                     | 양팀 모두 승리조건 만족X |\n",
        "|   1   | 울보다호 |           탑쌓기            |       탑쌓기성공        |                     \\[2,0\\], \\[1,0\\]                     | 양팀 모두 승리조건 만족X |\n",
        "|   1   | 공격규빈 |           탑쌓기            |       탑쌓기실패        |                     \\[2,0\\], \\[1,0\\]                     | 양팀 모두 승리조건 만족X |\n",
        "|   1   | 애교다호 |           탑쌓기            |       탑쌓기성공        |                     \\[2,0\\], \\[1,1\\]                     | 양팀 모두 승리조건 만족X |\n",
        "|  \\-   |    \\-    |             \\-              |           \\-            |                            \\-                            |                          |\n",
        "|   2   | 수련규빈 |    탑쌓기 $\\to$ 수련하기    |       탑쌓기성공        |                     \\[4,0\\], \\[1,1\\]                     | 양팀 모두 승리조건 만족X |\n",
        "|   2   | 울보다호 |           탑쌓기            |       탑쌓기성공        |                     \\[4,0\\], \\[2,1\\]                     | 양팀 모두 승리조건 만족X |\n",
        "|   2   | 공격규빈 |        울보다호공격         |   공격성공,울음발동X    |                     \\[4,0\\], \\[0,1\\]                     | 양팀 모두 승리조건 만족X |\n",
        "|   2   | 애교다호 |      수련규빈에게 애교      |        애교성공         |                     \\[2,0\\], \\[0,3\\]                     | 양팀 모두 승리조건 만족X |\n",
        "|  \\-   |    \\-    |             \\-              |           \\-            |                            \\-                            |                          |\n",
        "|   3   | 수련규빈 |    탑쌓기 $\\to$ 수련하기    |       탑쌓기실패        |                     \\[0,0\\], \\[0,3\\]                     | 양팀 모두 승리조건 만족X |\n",
        "|   3   | 울보다호 |           탑쌓기            |       탑쌓기성공        |                     \\[0,0\\], \\[1,3\\]                     | 양팀 모두 승리조건 만족X |\n",
        "|   3   | 공격규빈 |        애교다호공격         |        공격실패         |                     \\[0,0\\], \\[1,3\\]                     | 양팀 모두 승리조건 만족X |\n",
        "|   3   | 애교다호 | 탑쌓기(**애교대상없음**)[1] |       탑쌓기성공        |                     \\[0,0\\], \\[1,4\\]                     | 양팀 모두 승리조건 만족X |\n",
        "|  \\-   |    \\-    |             \\-              |           \\-            |                            \\-                            |                          |\n",
        "|   4   | 수련규빈 |    탑쌓기 $\\to$ 수련하기    |       탑쌓기성공        |                     \\[2,0\\], \\[1,4\\]                     | 양팀 모두 승리조건 만족X |\n",
        "|   4   | 울보다호 |           탑쌓기            |       탑쌓기성공        |                     \\[2,0\\], \\[2,4\\]                     | 양팀 모두 승리조건 만족X |\n",
        "|   4   | 공격규빈 |        울보다호공격         | 공격성공 $\\to$ 울음발동 |                     \\[2,0\\], \\[0,4\\]                     | 양팀 모두 승리조건 만족X |\n",
        "\n",
        "**울음이 발동되며 경기종료: 다호팀 승리**\n",
        "\n",
        "`#`\n",
        "\n",
        "`# 경우4` – 수련규빈과 애교다호가 동시에 성공하며 점수합산으로 승자결정,\n",
        "점수합산 결과 다호팀 승리.\n",
        "\n",
        "| round | 플레이어 |         행동          |    상태    | 탑의높이들 (\\[수련규빈,공격규빈\\],\\[울보다호,애교다호\\]) |         승리조건         |\n",
        "|:----------:|:----------:|:----------:|:----------:|:----------:|:----------:|\n",
        "|   1   | 수련규빈 | 탑쌓기 $\\to$ 수련하기 | 탑쌓기성공 |                     \\[2,0\\], \\[0,0\\]                     | 양팀 모두 승리조건 만족X |\n",
        "|   1   | 울보다호 |        탑쌓기         | 탑쌓기성공 |                     \\[2,0\\], \\[1,0\\]                     | 양팀 모두 승리조건 만족X |\n",
        "|   1   | 공격규빈 |        탑쌓기         | 탑쌓기성공 |                     \\[2,2\\], \\[1,0\\]                     | 양팀 모두 승리조건 만족X |\n",
        "|   1   | 애교다호 |        탑쌓기         | 탑쌓기성공 |                     \\[2,2\\], \\[1,1\\]                     | 양팀 모두 승리조건 만족X |\n",
        "|   2   | 수련규빈 | 탑쌓기 $\\to$ 수련하기 | 탑쌓기성공 |                     \\[4,2\\], \\[1,1\\]                     | 양팀 모두 승리조건 만족X |\n",
        "|   2   | 울보다호 |        탑쌓기         | 탑쌓기성공 |                     \\[4,2\\], \\[2,1\\]                     | 양팀 모두 승리조건 만족X |\n",
        "|   2   | 공격규빈 |        탑쌓기         | 탑쌓기성공 |                     \\[4,4\\], \\[2,1\\]                     | 양팀 모두 승리조건 만족X |\n",
        "|   2   | 애교다호 |   공격규빈에게 애교   |  애교성공  |                     \\[4,2\\], \\[2,3\\]                     | 양팀 모두 승리조건 만족X |\n",
        "|   3   | 수련규빈 | 탑쌓기 $\\to$ 수련하기 | 탑쌓기성공 |                     \\[6,2\\], \\[2,3\\]                     |   규빈팀 승리조건 만족   |\n",
        "|   3   | 울보다호 |        탑쌓기         | 탑쌓기성공 |                     \\[6,2\\], \\[3,3\\]                     |   규빈팀 승리조건 만족   |\n",
        "|   3   | 공격규빈 |        탑쌓기         | 탑쌓기성공 |                     \\[6,4\\], \\[3,3\\]                     |   규빈팀 승리조건 만족   |\n",
        "|   3   | 애교다호 |   공격규빈에게 애교   | 탑쌓기성공 |                     \\[6,2\\], \\[3,5\\]                     | 양팀 모두 승리조건 만족  |\n",
        "\n",
        "**양팀 모두 승리 조건 만족, `규빈팀 합산 = (6-1)+2 = 7`,\n",
        "`다호팀 합산 = 3+5 = 8` 이므로 다호팀 승리**\n",
        "\n",
        "`#`\n",
        "\n",
        "`(1)` 공격규빈은 2라운드부터 항상 울보다호를 공격하는 전략을 선택한다고\n",
        "하자. (따라서 애교다호는 공격규빈에게 애교를 부리진 않는다[2]) 20라운드\n",
        "동안 20층높이의 탑을 먼저 쌓는 내기를 할때 유리한 팀은 어느쪽인가?\n",
        "시뮬레이션을 바탕으로 근거를 설명하라. – 20점\n",
        "\n",
        "`(2)` 공격규빈은 아래와 같은 전략으로 공격한다고 가정하자.\n",
        "\n",
        "-   상대편의 탑이 15층 이상일 경우만 그 탑을 공격한다.\n",
        "-   애교다호와 울보다호의 탑이 모두 15층 이상이라면 애교다호를 공격한다.\n",
        "\n",
        "또한 애교다호는 아래의 전략을 사용한다.\n",
        "\n",
        "-   애교다호는 해당 라운드에서 탑쌓기에 성공한 플레이어에게 애교를\n",
        "    사용한다.\n",
        "-   상대편에 탑쌓기를 성공한 플레이어가 2명이면 둘중 탑을 높이 쌓은\n",
        "    쪽에게 애교를 사용한다. (둘의 탑높이가 같다면 수련규빈에게 애교를\n",
        "    사용한다)\n",
        "\n",
        "20라운드 동안 20층높이의 탑을 먼저 쌓는 내기를 할때 유리한 팀은\n",
        "어느쪽인가? 시뮬레이션을 바탕으로 근거를 설명하라. – 80점\n",
        "\n",
        "# 3. 14wk-2 강의내용 – 50점\n",
        "\n",
        "> 문항당 10점\n",
        "\n",
        "`(1)` 아래의 역할을 하는 함수 `myprod`를 선언하라.\n",
        "\n",
        "[1] 라운드3에서 탑쌓기에 성공한 규빈이 없으므로 뺏을게 없다\n",
        "\n",
        "[2] 공격규빈은 탑을 안쌓으니까요"
      ],
      "id": "f9d43d5e-53b4-4f46-8e9f-c2fa2ad6b4a9"
    },
    {
      "cell_type": "code",
      "execution_count": 11,
      "metadata": {},
      "outputs": [
        {
          "output_type": "stream",
          "name": "stdout",
          "text": [
            "1x2=2"
          ]
        }
      ],
      "source": [
        "myprod(1,2)"
      ],
      "id": "eec8e29f"
    },
    {
      "cell_type": "code",
      "execution_count": 12,
      "metadata": {},
      "outputs": [
        {
          "output_type": "stream",
          "name": "stdout",
          "text": [
            "1x2x3=6"
          ]
        }
      ],
      "source": [
        "myprod(1,2,3)"
      ],
      "id": "9a0f06c9"
    },
    {
      "cell_type": "code",
      "execution_count": 10,
      "metadata": {},
      "outputs": [
        {
          "output_type": "stream",
          "name": "stdout",
          "text": [
            "1x2x3x4=24"
          ]
        }
      ],
      "source": [
        "myprod(1,2,3,4)"
      ],
      "id": "3dc4e392"
    },
    {
      "cell_type": "markdown",
      "metadata": {},
      "source": [
        "**hint**: 아래의 코드를 관찰하라."
      ],
      "id": "0659d941-289b-4728-9571-572ddddba7f8"
    },
    {
      "cell_type": "code",
      "execution_count": 14,
      "metadata": {},
      "outputs": [],
      "source": [
        "np.prod([1,2])"
      ],
      "id": "edc24f93"
    },
    {
      "cell_type": "code",
      "execution_count": 15,
      "metadata": {},
      "outputs": [],
      "source": [
        "np.prod([1,2,3])"
      ],
      "id": "f68b1c2f"
    },
    {
      "cell_type": "code",
      "execution_count": 16,
      "metadata": {},
      "outputs": [],
      "source": [
        "np.prod([1,2,3,4])"
      ],
      "id": "afbbb609"
    },
    {
      "cell_type": "markdown",
      "metadata": {},
      "source": [
        "`(2)` 아래와 같은 함수를 고려하자."
      ],
      "id": "52338d88-9465-4955-8f23-10f3c6215852"
    },
    {
      "cell_type": "code",
      "execution_count": 20,
      "metadata": {},
      "outputs": [],
      "source": [
        "def mysub(a,b):\n",
        "    return a-b    "
      ],
      "id": "bd1c2d46"
    },
    {
      "cell_type": "markdown",
      "metadata": {},
      "source": [
        "아래는 이 함수를 사용한 예시이다."
      ],
      "id": "ccf5a278-116d-46f3-94a6-a2b428172f0b"
    },
    {
      "cell_type": "code",
      "execution_count": 21,
      "metadata": {},
      "outputs": [],
      "source": [
        "mysub(1.2,-0.5)"
      ],
      "id": "8925c8df"
    },
    {
      "cell_type": "markdown",
      "metadata": {},
      "source": [
        "이 함수는 2개의 `float`을 입력으로 받으면 하나의 `float`을 출력하게끔\n",
        "설계된 함수이다. 타입힌트를 이용하여 설계의도와 일치하도록 mysub 함수를\n",
        "재정의하라.\n",
        "\n",
        "`(3)` 아래와 같이 함수의 입력으로 전달된 인자가 위치인자인지\n",
        "키워드인자인지 정리하여 출력해주는 데코레이터 `@deco`를 설계하라."
      ],
      "id": "c5e5fdfe-6c82-4978-a972-f39d0e717d74"
    },
    {
      "cell_type": "code",
      "execution_count": 57,
      "metadata": {},
      "outputs": [],
      "source": [
        "@deco \n",
        "def mysub(a,b,verbose=False):\n",
        "    if verbose: \n",
        "        print(f\"{a}+{b}={a+b}\")\n",
        "    return a-b"
      ],
      "id": "14fc032b"
    },
    {
      "cell_type": "code",
      "execution_count": 58,
      "metadata": {},
      "outputs": [
        {
          "output_type": "stream",
          "name": "stdout",
          "text": [
            "위치인자: (1, 2)\n",
            "키워드인자: {}"
          ]
        }
      ],
      "source": [
        "mysub(1,2)"
      ],
      "id": "010ab30f"
    },
    {
      "cell_type": "code",
      "execution_count": 59,
      "metadata": {},
      "outputs": [
        {
          "output_type": "stream",
          "name": "stdout",
          "text": [
            "위치인자: (1, 2)\n",
            "키워드인자: {'verbose': False}"
          ]
        }
      ],
      "source": [
        "mysub(1,2,verbose=False)"
      ],
      "id": "e75072fe"
    },
    {
      "cell_type": "markdown",
      "metadata": {},
      "source": [
        "`(4)` 제곱수중에서 12로 나누어 떨어지는 수가 무엇인지 알고싶다.\n",
        "제너레이터를 이용하여 이러한수를 순서대로 50개 찾아라. 즉 아래의 코드가\n",
        "실행되도록 하는 적당한 `make_gen`을 설계하라."
      ],
      "id": "9686eda4-e3a4-4fe9-893c-5813063661a3"
    },
    {
      "cell_type": "code",
      "execution_count": 61,
      "metadata": {},
      "outputs": [],
      "source": [
        "generator = make_gen()"
      ],
      "id": "6ec1a6be"
    },
    {
      "cell_type": "code",
      "execution_count": 62,
      "metadata": {},
      "outputs": [],
      "source": [
        "lst = []\n",
        "for _ in range(50):\n",
        "    lst.append(next(generator))"
      ],
      "id": "e51353c1"
    },
    {
      "cell_type": "code",
      "execution_count": 65,
      "metadata": {},
      "outputs": [],
      "source": [
        "lst[-1]"
      ],
      "id": "11b41fed"
    },
    {
      "cell_type": "markdown",
      "metadata": {},
      "source": [
        "**힌트**:\n",
        "<https://guebin.github.io/PP2024/posts/03wk-2.html#b.-예비학습> 여기를\n",
        "참고해보시며 코드를 비교해보세요\n",
        "\n",
        "`(5)` 아래는 `Person` 클래스와 이를 상속받은 `Employee` 클래스이다."
      ],
      "id": "282365e8-92ba-4663-bd3e-797c15d19877"
    },
    {
      "cell_type": "code",
      "execution_count": 51,
      "metadata": {},
      "outputs": [],
      "source": [
        "class Person:\n",
        "    def __init__(self, name, age):\n",
        "        self.name = name\n",
        "        self.age = age\n",
        "    def introduce(self):\n",
        "        print(f\"제 이름은 {self.name}이고, 나이는 {self.age}살입니다.\")\n",
        "    def __repr__(self):\n",
        "        text = \"\\n\".join([f\"이름:{self.name}\",f\"나이:{self.age}\"])\n",
        "        return text\n",
        "class Korean(Person):\n",
        "    def __init__(self, name, age):\n",
        "        super().__init__(name, age)\n",
        "        self.nationality = \"한국\"\n",
        "    def introduce(self):\n",
        "        super().introduce()\n",
        "        print(f\"저는 한국인입니다.\")\n",
        "    def __repr__(self):\n",
        "        text = super().__repr__()\n",
        "        return text + f\"\\n국적:{self.nationality}\""
      ],
      "id": "1e13afa4"
    },
    {
      "cell_type": "code",
      "execution_count": 55,
      "metadata": {},
      "outputs": [],
      "source": [
        "보람 = Korean(name=\"김보람\",age=20)"
      ],
      "id": "6d214526"
    },
    {
      "cell_type": "code",
      "execution_count": 56,
      "metadata": {},
      "outputs": [
        {
          "output_type": "stream",
          "name": "stdout",
          "text": [
            "제 이름은 김보람이고, 나이는 20살입니다.\n",
            "저는 한국인입니다."
          ]
        }
      ],
      "source": [
        "보람.introduce()"
      ],
      "id": "c23f3ed7"
    },
    {
      "cell_type": "code",
      "execution_count": 57,
      "metadata": {},
      "outputs": [],
      "source": [
        "보람"
      ],
      "id": "7df4ea45"
    },
    {
      "cell_type": "markdown",
      "metadata": {},
      "source": [
        "아래의 코드에서 `???`를 적당히 완성하여 예시 1~2 의 동작을 하도록 하라.\n",
        "\n",
        "``` python\n",
        "class NaturalizedKorean(Korean):\n",
        "    def __init__(self, name, age, former_nationality):\n",
        "        super().__init__(name,age)\n",
        "        self.former_nationality = former_nationality\n",
        "    def introduce(self):\n",
        "        super(???,???).introduce()\n",
        "        print(f\"저는 귀화한국인(이전국적={self.former_nationality})입니다.\")\n",
        "```\n",
        "\n",
        "`# 예시1`"
      ],
      "id": "4a60230a-ac5e-429b-98bf-f4814db02b11"
    },
    {
      "cell_type": "code",
      "execution_count": 61,
      "metadata": {},
      "outputs": [],
      "source": [
        "강남 = NaturalizedKorean(name=\"강남\",age=37,former_nationality=\"일본\")\n",
        "강남"
      ],
      "id": "c430c9d9"
    },
    {
      "cell_type": "code",
      "execution_count": 62,
      "metadata": {},
      "outputs": [
        {
          "output_type": "stream",
          "name": "stdout",
          "text": [
            "제 이름은 강남이고, 나이는 37살입니다.\n",
            "저는 귀화한국인(이전국적=일본)입니다."
          ]
        }
      ],
      "source": [
        "강남.introduce()"
      ],
      "id": "d7b947ea"
    },
    {
      "cell_type": "markdown",
      "metadata": {},
      "source": [
        "`#`\n",
        "\n",
        "`# 예시2`"
      ],
      "id": "5b9293bf-89c3-4527-9a68-b08e7a6a1ee1"
    },
    {
      "cell_type": "code",
      "execution_count": 63,
      "metadata": {},
      "outputs": [],
      "source": [
        "예서 = NaturalizedKorean(name=\"당예서\",age=43,former_nationality=\"중국\")\n",
        "예서"
      ],
      "id": "3b0186bf"
    },
    {
      "cell_type": "code",
      "execution_count": 64,
      "metadata": {},
      "outputs": [
        {
          "output_type": "stream",
          "name": "stdout",
          "text": [
            "제 이름은 당예서이고, 나이는 43살입니다.\n",
            "저는 귀화한국인(이전국적=중국)입니다."
          ]
        }
      ],
      "source": [
        "예서.introduce()"
      ],
      "id": "212e0a50"
    },
    {
      "cell_type": "markdown",
      "metadata": {},
      "source": [
        "`#`"
      ],
      "id": "d1b5ce54-8b05-45bc-abc5-5fdb577562ee"
    }
  ],
  "nbformat": 4,
  "nbformat_minor": 5,
  "metadata": {
    "kernelspec": {
      "name": "python3",
      "display_name": "Python 3 (ipykernel)",
      "language": "python"
    },
    "language_info": {
      "name": "python",
      "codemirror_mode": {
        "name": "ipython",
        "version": "3"
      },
      "file_extension": ".py",
      "mimetype": "text/x-python",
      "nbconvert_exporter": "python",
      "pygments_lexer": "ipython3",
      "version": "3.11.8"
    }
  }
}