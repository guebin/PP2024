{
  "cells": [
    {
      "cell_type": "markdown",
      "metadata": {},
      "source": [
        "# 02wk-2: 파이썬은 좋은 계산기다 (2)\n",
        "\n",
        "최규빈  \n",
        "2024-03-15\n",
        "\n",
        "<a href=\"https://colab.research.google.com/github/guebin/PP2024/blob/main/posts/02wk-2.ipynb\"><img src=\"https://colab.research.google.com/assets/colab-badge.svg\" style=\"text-align: left\"></a>\n",
        "\n",
        "# 1. 강의영상\n",
        "\n",
        "<https://youtu.be/playlist?list=PLQqh36zP38-yhR5pDXI-Da8FHip-Pptur&si=E1GEXgXY51izjQSh>\n",
        "\n",
        "# 2. Imports"
      ],
      "id": "7fe71c6b-95a4-4584-a387-b2f38b988801"
    },
    {
      "cell_type": "code",
      "execution_count": 1,
      "metadata": {},
      "outputs": [],
      "source": [
        "import numpy as np\n",
        "import matplotlib.pyplot as plt "
      ],
      "id": "73056c48-789f-4991-b940-64a3de402da7"
    },
    {
      "cell_type": "markdown",
      "metadata": {},
      "source": [
        "# 3. 2024 수능 – 16,11,8,26,19,12\n",
        "\n",
        "![](https://github.com/guebin/PP2024/blob/main/imgs/2024-수능-16.png?raw=true)\n",
        "\n",
        "(풀이1)"
      ],
      "id": "b46e0a80-02dd-45d5-9585-44f0ba5d69e5"
    },
    {
      "cell_type": "code",
      "execution_count": 2,
      "metadata": {},
      "outputs": [
        {
          "output_type": "display_data",
          "metadata": {},
          "data": {
            "image/png": "[encoded data removed]"
          }
        }
      ],
      "source": [
        "x = np.linspace(1,3,101)\n",
        "lhs = 3**(x-8) # lhs = left hand side 의 약자\n",
        "rhs = (1/27)**x \n",
        "plt.plot(x,lhs,'--',label=r\"$3^{x-8}$\")\n",
        "plt.plot(x,rhs,'--',label=r\"$(\\frac{1}{27})^x$\")\n",
        "plt.legend()"
      ],
      "id": "5548ab11-79cb-4899-8459-cb9ec7df17c5"
    },
    {
      "cell_type": "markdown",
      "metadata": {},
      "source": [
        "대충 $x=2$ 에서 만나는것 같다. 확인해보자."
      ],
      "id": "e328b31e-8fc5-4317-8143-9b88634a9aa4"
    },
    {
      "cell_type": "code",
      "execution_count": 3,
      "metadata": {},
      "outputs": [],
      "source": [
        "3**(2-8), (1/27)**2"
      ],
      "id": "ed8df46d-3f6d-4bee-85e0-5de27942f7d8"
    },
    {
      "cell_type": "markdown",
      "metadata": {},
      "source": [
        "두 값이 같음. 따라서 $x=2$에서 만난다.\n",
        "\n",
        "(풀이2)"
      ],
      "id": "03cd3874-27d0-4085-ba6d-077a58d7a942"
    },
    {
      "cell_type": "code",
      "execution_count": 4,
      "metadata": {},
      "outputs": [],
      "source": [
        "x = np.linspace(1,3,101)\n",
        "lhs = 3**(x-8) # lhs = left hand side 의 약자\n",
        "rhs = (1/27)**x \n",
        "x[np.argmin(np.abs(lhs-rhs))]"
      ],
      "id": "813b3422-29f2-492f-bf10-6c5e715f5c8c"
    },
    {
      "cell_type": "markdown",
      "metadata": {},
      "source": [
        "따라서 $x=2$에서 만난다.\n",
        "\n",
        "![](https://github.com/guebin/PP2024/blob/main/imgs/2024-수능-11.png?raw=true)\n",
        "\n",
        "(풀이1)"
      ],
      "id": "102539b0-f262-49ad-959d-408133e02ff7"
    },
    {
      "cell_type": "code",
      "execution_count": 5,
      "metadata": {},
      "outputs": [],
      "source": [
        "n = np.linspace(1,15,15)\n",
        "d = 4\n",
        "an = d*n-d*7\n",
        "an"
      ],
      "id": "f8564084-5379-49cd-afef-b038ac45e936"
    },
    {
      "cell_type": "markdown",
      "metadata": {},
      "source": [
        "좀 더 보기 편하게 하기 위해서.."
      ],
      "id": "7c13c136-1a83-420a-bc0f-d97809a69d59"
    },
    {
      "cell_type": "code",
      "execution_count": 311,
      "metadata": {},
      "outputs": [],
      "source": [
        "np.stack([n,an],axis=1) "
      ],
      "id": "72d3115e-4eaf-4a71-883a-052db8cab48f"
    },
    {
      "cell_type": "markdown",
      "metadata": {},
      "source": [
        "$d$에 따라 바뀌는 $\\sum_{k=1}^{5}\\frac{1}{a_k a_{k+1}}$ 값을 조사하고 이\n",
        "값이 $\\frac{5}{96}$이 되는 $d$를 찾아보자."
      ],
      "id": "aed62fb2-b8d3-44ac-ba1a-d6bdea69958d"
    },
    {
      "cell_type": "code",
      "execution_count": 7,
      "metadata": {},
      "outputs": [],
      "source": [
        "n = np.linspace(1,15,15)\n",
        "d = 4\n",
        "an = d*n-d*7\n",
        "np.sum(1/(an[:5]*an[1:6])), 5/96"
      ],
      "id": "911bb5be-25bf-44e5-9160-a5ef0fd9f896"
    },
    {
      "cell_type": "markdown",
      "metadata": {},
      "source": [
        "찾아보니까 $d=4$이다."
      ],
      "id": "78943f34-0ce1-424c-b6bd-f91016962f64"
    },
    {
      "cell_type": "code",
      "execution_count": 8,
      "metadata": {},
      "outputs": [],
      "source": [
        "np.sum(an)"
      ],
      "id": "b4662413-8f65-43bd-81a1-4955dbf7cd07"
    },
    {
      "cell_type": "markdown",
      "metadata": {},
      "source": [
        "> **Note**\n",
        ">\n",
        "> `np.stack()`을 이용하는 부분은 너무 내용이 많아 이후에 다시 설명할\n",
        "> 예정입니다. 이런것이 가능하다 정도만 알아두시고 이번퀴즈에서\n",
        "> 공부하실때는 제외하세요.\n",
        "\n",
        "(풀이2)"
      ],
      "id": "e29db1f1-405d-41bc-93e3-70ec29a2477f"
    },
    {
      "cell_type": "code",
      "execution_count": 9,
      "metadata": {},
      "outputs": [
        {
          "output_type": "stream",
          "name": "stdout",
          "text": [
            "0.0 --> 이 값이 0이 되도록 해야함"
          ]
        }
      ],
      "source": [
        "n = np.linspace(1,15,15)\n",
        "d = 4\n",
        "an = d*n-d*7\n",
        "print(f'{np.sum(1/(an[:5]*an[1:6]))-5/96} --> 이 값이 0이 되도록 해야함')"
      ],
      "id": "42038b1b-8532-4ff9-b14e-e7dd6ea0082b"
    },
    {
      "cell_type": "markdown",
      "metadata": {},
      "source": [
        "구조를 살펴보니까\n",
        "\n",
        "$$d \\to np.sum(1/(an[:5]*an[1:6]))-5/96$$\n",
        "\n",
        "와 같은 역할을 하는 함수 $dff(d)$를 선언하고 $dff(d)$가 0이 되는 $d$의\n",
        "값을 찾으면 된다."
      ],
      "id": "02acf3b3-ae65-4653-94ce-29f72ea71a74"
    },
    {
      "cell_type": "code",
      "execution_count": 10,
      "metadata": {},
      "outputs": [],
      "source": [
        "def dff(d):\n",
        "    an = d*n-d*7\n",
        "    return np.sum(1/(an[:5]*an[1:6]))-5/96 "
      ],
      "id": "436c7ead-e2b6-48d2-bd33-475a4f044afc"
    },
    {
      "cell_type": "code",
      "execution_count": 11,
      "metadata": {},
      "outputs": [
        {
          "output_type": "display_data",
          "metadata": {},
          "data": {
            "image/png": "[encoded data removed]"
          }
        }
      ],
      "source": [
        "d = np.linspace(3,5,101)\n",
        "plt.plot(list(map(dff,d)))"
      ],
      "id": "b462a458-b511-4262-9240-65fa90fe0767"
    },
    {
      "cell_type": "code",
      "execution_count": 12,
      "metadata": {},
      "outputs": [],
      "source": [
        "dff_vector = list(map(dff,d)) \n",
        "d[np.argmin(np.abs(dff_vector))]"
      ],
      "id": "4a4a228a-7a39-41cc-993d-5bfd4b8ac5e4"
    },
    {
      "cell_type": "markdown",
      "metadata": {},
      "source": [
        "따라서 $d=4$에서\n",
        "$dff(d)=\\sum_{k=1}^{5}\\frac{1}{a_k a_{k+1}}-\\frac{5}{96}=0$이 만족한다.\n",
        "따라서 답은"
      ],
      "id": "8a768a7b-351d-480c-a17f-4cbacec7eea7"
    },
    {
      "cell_type": "code",
      "execution_count": 13,
      "metadata": {},
      "outputs": [],
      "source": [
        "n = np.linspace(1,15,15)\n",
        "d = 4\n",
        "an = d*n-d*7\n",
        "np.sum(an)"
      ],
      "id": "3b5a712c-3bc8-4dd5-910d-685749789cd1"
    },
    {
      "cell_type": "markdown",
      "metadata": {},
      "source": [
        "![](https://github.com/guebin/PP2024/blob/main/imgs/2024-수능-8.png?raw=true)\n",
        "\n",
        "(풀이1)"
      ],
      "id": "1f6d8a14-386c-4a0c-86e5-58b3e680fd20"
    },
    {
      "cell_type": "code",
      "execution_count": 14,
      "metadata": {},
      "outputs": [
        {
          "output_type": "display_data",
          "metadata": {},
          "data": {
            "image/png": "[encoded data removed]"
          }
        }
      ],
      "source": [
        "f = lambda x: (3*x**4 -3*x)/(x-1)\n",
        "x = np.linspace(-2,2,1000)\n",
        "plt.plot(x,f(x),'--')"
      ],
      "id": "f63b8c2c-1c29-454f-8716-4ce730582bcf"
    },
    {
      "cell_type": "code",
      "execution_count": 15,
      "metadata": {},
      "outputs": [],
      "source": [
        "np.mean(f(x)) *4"
      ],
      "id": "da896435-280c-473f-89f3-8c7dec140d5e"
    },
    {
      "cell_type": "markdown",
      "metadata": {},
      "source": [
        "(풀이2)"
      ],
      "id": "0c2dd724-865d-4c31-89e5-05bc9e909977"
    },
    {
      "cell_type": "code",
      "execution_count": 16,
      "metadata": {},
      "outputs": [
        {
          "output_type": "display_data",
          "metadata": {},
          "data": {
            "image/png": "[encoded data removed]"
          }
        }
      ],
      "source": [
        "f = lambda x: (3*x**4 -3*x)/(x-1)\n",
        "x = np.linspace(-2,2,1000)\n",
        "plt.plot(x,f(x),'--')"
      ],
      "id": "270aa8bd-9d0b-4dfb-877c-be541004d732"
    },
    {
      "cell_type": "code",
      "execution_count": 17,
      "metadata": {},
      "outputs": [],
      "source": [
        "x_rand = np.random.rand(1000000)*4 - 2  ## -2~2 까지 임의의수가 골고루 퍼져있음. \n",
        "np.mean(f(x_rand)) * 4"
      ],
      "id": "d213c804-9311-4381-8bbb-934bd7ebf06d"
    },
    {
      "cell_type": "markdown",
      "metadata": {},
      "source": [
        "(풀이3)"
      ],
      "id": "a7eea13a-b190-4753-b4d8-b370662c2f39"
    },
    {
      "cell_type": "code",
      "execution_count": 18,
      "metadata": {},
      "outputs": [],
      "source": [
        "f = lambda x: (3*x**4 -3*x)/(x-1)\n",
        "x = np.linspace(-2,2,1000)"
      ],
      "id": "d4933d91-2ae3-4da5-ac4a-2387f8818063"
    },
    {
      "cell_type": "code",
      "execution_count": 19,
      "metadata": {},
      "outputs": [],
      "source": [
        "delta = x[1]-x[0]\n",
        "f_arr = f(x)\n",
        "F_arr = np.cumsum(f_arr) * delta"
      ],
      "id": "55588cfa-97d8-4263-ad99-b58f24fc7ffc"
    },
    {
      "cell_type": "code",
      "execution_count": 20,
      "metadata": {},
      "outputs": [
        {
          "output_type": "display_data",
          "metadata": {},
          "data": {
            "image/png": "[encoded data removed]"
          }
        }
      ],
      "source": [
        "plt.plot(x,f_arr,label=r'$f(x)$')\n",
        "plt.plot(x,F_arr,label=r'$\\int_{-2}^{x}f(x)dx$')\n",
        "plt.legend()"
      ],
      "id": "c6b510a3-5113-4cc5-8db8-656ab7416b4c"
    },
    {
      "cell_type": "code",
      "execution_count": 21,
      "metadata": {},
      "outputs": [],
      "source": [
        "F_arr[-1]"
      ],
      "id": "922dea29-48ba-4bc5-9cdc-c2b248ca5d27"
    },
    {
      "cell_type": "markdown",
      "metadata": {},
      "source": [
        "![](https://github.com/guebin/PP2024/blob/main/imgs/2024-수능-미적-26.png?raw=true)\n",
        "\n",
        "(풀이)"
      ],
      "id": "dac4bf6b-8cff-43ee-a16a-f662ef9f8712"
    },
    {
      "cell_type": "code",
      "execution_count": 22,
      "metadata": {},
      "outputs": [],
      "source": [
        "x = np.linspace(3/4*np.pi, 5/4*np.pi, 101)\n",
        "y = np.sqrt((1-2*x)*np.cos(x))"
      ],
      "id": "dbd2ce29-6cfb-40be-abdd-5c433f99bec1"
    },
    {
      "cell_type": "code",
      "execution_count": 23,
      "metadata": {},
      "outputs": [
        {
          "output_type": "display_data",
          "metadata": {},
          "data": {
            "image/png": "[encoded data removed]"
          }
        }
      ],
      "source": [
        "plt.plot(x,y)"
      ],
      "id": "38f4a5b6-7551-4fb3-9160-7f7340f18574"
    },
    {
      "cell_type": "code",
      "execution_count": 24,
      "metadata": {},
      "outputs": [],
      "source": [
        "np.mean(y**2) * 2/4*np.pi"
      ],
      "id": "2d14cbec-b51f-45ed-a4ab-f46737bbba0c"
    },
    {
      "cell_type": "code",
      "execution_count": 25,
      "metadata": {},
      "outputs": [],
      "source": [
        "np.sqrt(2)*np.pi-np.sqrt(2), np.sqrt(2)*np.pi-1, 2*np.sqrt(2)*np.pi-np.sqrt(2), 2*np.sqrt(2)*np.pi-1, 2*np.sqrt(2)*np.pi"
      ],
      "id": "3379bfb6-8d7f-45c0-8702-98fd1579985c"
    },
    {
      "cell_type": "markdown",
      "metadata": {},
      "source": [
        "![](https://github.com/guebin/PP2024/blob/main/imgs/2024-수능-19.png?raw=true)\n",
        "\n",
        "(풀이)"
      ],
      "id": "3c671d50-6548-4640-919b-bd4e2edcf992"
    },
    {
      "cell_type": "code",
      "execution_count": 26,
      "metadata": {},
      "outputs": [],
      "source": [
        "x = np.linspace(1,15,15)\n",
        "f = lambda x: np.sin(np.pi/4*x)\n",
        "bool_array = f(2+x)*f(2-x) < 1/4\n",
        "bool_array"
      ],
      "id": "f1e96c89-f0e0-420b-a6d5-0762f645c071"
    },
    {
      "cell_type": "code",
      "execution_count": 27,
      "metadata": {},
      "outputs": [],
      "source": [
        "x[bool_array] # bool_array에서 True에 해당하는 원소들만 출력됨. "
      ],
      "id": "ad327ee8-5783-4f35-bf1d-4fc928c2f2b6"
    },
    {
      "cell_type": "code",
      "execution_count": 28,
      "metadata": {},
      "outputs": [],
      "source": [
        "np.sum(x[bool_array])"
      ],
      "id": "e98e6e71-1fa2-417e-aa85-9ef6a7420d67"
    },
    {
      "cell_type": "markdown",
      "metadata": {},
      "source": [
        "![](https://github.com/guebin/PP2024/blob/main/imgs/2024-수능-12.png?raw=true)\n",
        "\n",
        "(풀이)"
      ],
      "id": "f3d7d469-43a0-40de-b8c9-a0bbd7753aba"
    },
    {
      "cell_type": "code",
      "execution_count": 29,
      "metadata": {},
      "outputs": [],
      "source": [
        "f = lambda x: 1/9*x*(x-6)*(x-9)\n",
        "# note: 함수g는 t에 따라서 달라짐. t->g(x) 를 구현해주는 함수 make_gfunction 을 만들자. \n",
        "def make_gfunction(t):\n",
        "    def g(x):\n",
        "        if x<t: \n",
        "            return f(x)\n",
        "        else:\n",
        "            return -(x-t)+f(t)\n",
        "    return g"
      ],
      "id": "8a9adf07-c0c7-4bbc-9376-c85306800010"
    },
    {
      "cell_type": "code",
      "execution_count": 30,
      "metadata": {},
      "outputs": [
        {
          "output_type": "display_data",
          "metadata": {},
          "data": {
            "image/png": "[encoded data removed]"
          }
        }
      ],
      "source": [
        "x = np.linspace(0,10,1001)\n",
        "t = 3.2\n",
        "g = make_gfunction(t)\n",
        "fx = list(map(f,x))\n",
        "gx = list(map(g,x))\n",
        "plt.plot(x,fx,label=r'$f(x)$',alpha=0.5)\n",
        "plt.plot(x,gx,label=r'$g(x)$')\n",
        "plt.title(f\"t={t}\")\n",
        "plt.vlines(t,ymin=-2,ymax=7,color='lime',linestyles='dashed')\n",
        "plt.legend()"
      ],
      "id": "1bcb04f1-6c24-48f0-ba7e-3c43a98abe3b"
    },
    {
      "cell_type": "code",
      "execution_count": 31,
      "metadata": {},
      "outputs": [],
      "source": [
        "#t -> 주황색곡선의 면적이 계산되는 함수 \n",
        "def cal_area(t):\n",
        "    #t = 3.2\n",
        "    g = make_gfunction(t)\n",
        "    fx = list(map(f,x))\n",
        "    gx = list(map(g,x))\n",
        "    Gx = np.cumsum(gx)*0.01 \n",
        "    S = np.max(Gx)\n",
        "    return S "
      ],
      "id": "a9fff942-663f-4f7e-8dd1-6c49ad7fbc3e"
    },
    {
      "cell_type": "code",
      "execution_count": 32,
      "metadata": {},
      "outputs": [
        {
          "output_type": "display_data",
          "metadata": {},
          "data": {
            "image/png": "[encoded data removed]"
          }
        }
      ],
      "source": [
        "t = np.linspace(0,6,101)[1:-1]\n",
        "St = list(map(cal_area,t))\n",
        "plt.plot(t,St,label=r\"$S(t)$\")\n",
        "plt.title(f'area = {np.max(St):.4f}')\n",
        "plt.legend()"
      ],
      "id": "7707965d-725e-4e68-94b6-5a70458b94bc"
    },
    {
      "cell_type": "code",
      "execution_count": 33,
      "metadata": {},
      "outputs": [],
      "source": [
        "125/4, 127/4, 129/4, 131/4, 133/4"
      ],
      "id": "8ac6743e-c0e1-49c0-bca1-c96f1f9a3818"
    },
    {
      "cell_type": "markdown",
      "metadata": {},
      "source": [
        "# 4. 자료형과 형변환 – 파이썬 문법\n",
        "\n",
        "`-` 파이썬의 기본자료형은 int, float, bool, str, list, tuple, dict, set\n",
        "등이 있다.\n",
        "\n",
        "-   0차원 자료형: int, float, bool\n",
        "-   1차원 자료형: str, list, tuple, dict, set\n",
        "\n",
        "## A. int, float, bool\n",
        "\n",
        "`-` int형"
      ],
      "id": "73494289-4076-4bf2-a6f8-291aae209545"
    },
    {
      "cell_type": "code",
      "execution_count": 34,
      "metadata": {
        "vscode": {
          "languageId": "python"
        }
      },
      "outputs": [],
      "source": [
        "a=100"
      ],
      "id": "70d89f59-be85-457b-9b4f-0abe4ef64676"
    },
    {
      "cell_type": "code",
      "execution_count": 35,
      "metadata": {
        "vscode": {
          "languageId": "python"
        }
      },
      "outputs": [],
      "source": [
        "type(a)"
      ],
      "id": "2cba2c22-4bce-4f7e-bd40-947639b80a97"
    },
    {
      "cell_type": "markdown",
      "metadata": {},
      "source": [
        "`-` float형"
      ],
      "id": "3d25fced-6c11-46e2-8f90-d7c2557840d1"
    },
    {
      "cell_type": "code",
      "execution_count": 36,
      "metadata": {
        "vscode": {
          "languageId": "python"
        }
      },
      "outputs": [],
      "source": [
        "a=1.2*3\n",
        "a"
      ],
      "id": "b6e850c1-942f-4911-be70-e82594d5dc71"
    },
    {
      "cell_type": "code",
      "execution_count": 37,
      "metadata": {
        "vscode": {
          "languageId": "python"
        }
      },
      "outputs": [],
      "source": [
        "type(a)"
      ],
      "id": "29bea579-20bd-483c-8ca3-7786ee5eb3a8"
    },
    {
      "cell_type": "code",
      "execution_count": 38,
      "metadata": {
        "vscode": {
          "languageId": "python"
        }
      },
      "outputs": [],
      "source": [
        "a?"
      ],
      "id": "6297626e-de59-4f09-8386-d7e5704ee0ca"
    },
    {
      "cell_type": "markdown",
      "metadata": {},
      "source": [
        "`-` bool형"
      ],
      "id": "9d8d9c82-535d-408d-9aab-aea582f47a9c"
    },
    {
      "cell_type": "code",
      "execution_count": 39,
      "metadata": {
        "vscode": {
          "languageId": "python"
        }
      },
      "outputs": [],
      "source": [
        "a=True ## 숫자1으로 생각할 수 있음 \n",
        "b=False ## 숫자0으로 생각할 수 있음"
      ],
      "id": "027e1b3e-62eb-499b-8c33-840dc0a90695"
    },
    {
      "cell_type": "code",
      "execution_count": 40,
      "metadata": {
        "vscode": {
          "languageId": "python"
        }
      },
      "outputs": [],
      "source": [
        "type(a)"
      ],
      "id": "68758f09-154f-45d9-9194-adf904ce8737"
    },
    {
      "cell_type": "code",
      "execution_count": 41,
      "metadata": {
        "vscode": {
          "languageId": "python"
        }
      },
      "outputs": [],
      "source": [
        "type(b)"
      ],
      "id": "9a32037e-a728-4a09-9591-ed55d0015efb"
    },
    {
      "cell_type": "code",
      "execution_count": 42,
      "metadata": {
        "vscode": {
          "languageId": "python"
        }
      },
      "outputs": [],
      "source": [
        "a?"
      ],
      "id": "b6be6b5a-599e-4083-a5b1-5085acc8a24f"
    },
    {
      "cell_type": "code",
      "execution_count": 43,
      "metadata": {
        "vscode": {
          "languageId": "python"
        }
      },
      "outputs": [],
      "source": [
        "b?"
      ],
      "id": "4bcc3eb2-2293-4190-b58d-51ba64d76fec"
    },
    {
      "cell_type": "markdown",
      "metadata": {},
      "source": [
        "`-` bool형의 연산"
      ],
      "id": "3aa4cb4d-05f7-4e33-bffa-98e5585a77be"
    },
    {
      "cell_type": "code",
      "execution_count": 44,
      "metadata": {
        "vscode": {
          "languageId": "python"
        }
      },
      "outputs": [],
      "source": [
        "a=True ## 1\n",
        "b=False ## 0 "
      ],
      "id": "b3b33ad0-d80e-4ec4-9086-ad8d41aef9eb"
    },
    {
      "cell_type": "code",
      "execution_count": 45,
      "metadata": {
        "vscode": {
          "languageId": "python"
        }
      },
      "outputs": [],
      "source": [
        "a+b"
      ],
      "id": "2af2d177-6156-486a-8fb9-8282b3a633a0"
    },
    {
      "cell_type": "code",
      "execution_count": 46,
      "metadata": {
        "vscode": {
          "languageId": "python"
        }
      },
      "outputs": [],
      "source": [
        "a*b "
      ],
      "id": "2d8495f8-e9ed-4514-9179-2a0dcd7bf0f2"
    },
    {
      "cell_type": "markdown",
      "metadata": {},
      "source": [
        "`-` 형태변환: float $\\to$ int\n",
        "\n",
        "(예시1)"
      ],
      "id": "406d7dae-03e4-4726-9cb7-df351accb08a"
    },
    {
      "cell_type": "code",
      "execution_count": 54,
      "metadata": {
        "vscode": {
          "languageId": "python"
        }
      },
      "outputs": [],
      "source": [
        "a=3.0\n",
        "type(a)"
      ],
      "id": "20fb003a-7803-42a6-b148-ef90f16ff122"
    },
    {
      "cell_type": "code",
      "execution_count": 55,
      "metadata": {
        "vscode": {
          "languageId": "python"
        }
      },
      "outputs": [],
      "source": [
        "a=int(a)"
      ],
      "id": "4823361b-0f25-466b-b178-93e2cc7e21cc"
    },
    {
      "cell_type": "code",
      "execution_count": 56,
      "metadata": {
        "vscode": {
          "languageId": "python"
        }
      },
      "outputs": [],
      "source": [
        "type(a)"
      ],
      "id": "24dd247d-6d9a-46ff-9e43-df70a0aff275"
    },
    {
      "cell_type": "markdown",
      "metadata": {},
      "source": [
        "(예시2) 이경우는 정보의 손실이 발생"
      ],
      "id": "03620acc-0443-4475-ba4e-e5be5075406f"
    },
    {
      "cell_type": "code",
      "execution_count": 57,
      "metadata": {
        "vscode": {
          "languageId": "python"
        }
      },
      "outputs": [],
      "source": [
        "a=3.14 \n",
        "int(a)"
      ],
      "id": "763cdbaa-c1cb-4f76-be12-f893124d9e3a"
    },
    {
      "cell_type": "markdown",
      "metadata": {},
      "source": [
        "`-` 형태변환: int $\\to$ float"
      ],
      "id": "995757c1-14ae-4c4e-bc75-9f44b2e22330"
    },
    {
      "cell_type": "code",
      "execution_count": 58,
      "metadata": {
        "vscode": {
          "languageId": "python"
        }
      },
      "outputs": [],
      "source": [
        "a=3\n",
        "type(a)"
      ],
      "id": "7184560f-6a04-4a33-a592-68b0336d1fd0"
    },
    {
      "cell_type": "code",
      "execution_count": 59,
      "metadata": {
        "vscode": {
          "languageId": "python"
        }
      },
      "outputs": [],
      "source": [
        "a=float(a)\n",
        "type(a)"
      ],
      "id": "7570ed62-76c6-4f61-ad11-74870a722c7e"
    },
    {
      "cell_type": "markdown",
      "metadata": {},
      "source": [
        "`-` 형태변환: bool $\\to$ int/float, int/float $\\to$ bool\n",
        "\n",
        "(예시1)"
      ],
      "id": "ec903ad6-d8d4-4213-9d7b-bc607fd3f7b6"
    },
    {
      "cell_type": "code",
      "execution_count": 60,
      "metadata": {
        "vscode": {
          "languageId": "python"
        }
      },
      "outputs": [],
      "source": [
        "a=True\n",
        "type(a)"
      ],
      "id": "45efc40b-0354-4ac7-851d-127999887c34"
    },
    {
      "cell_type": "code",
      "execution_count": 61,
      "metadata": {
        "vscode": {
          "languageId": "python"
        }
      },
      "outputs": [],
      "source": [
        "int(a)"
      ],
      "id": "f389dde0-9395-4a98-98f3-0996094ddf70"
    },
    {
      "cell_type": "code",
      "execution_count": 62,
      "metadata": {
        "vscode": {
          "languageId": "python"
        }
      },
      "outputs": [],
      "source": [
        "float(a)"
      ],
      "id": "d6586917-c736-41c6-8c2c-adcb73f3b312"
    },
    {
      "cell_type": "markdown",
      "metadata": {},
      "source": [
        "(예시2)"
      ],
      "id": "9fbdd708-0421-4308-a6c1-2bd8a6e72033"
    },
    {
      "cell_type": "code",
      "execution_count": 63,
      "metadata": {
        "vscode": {
          "languageId": "python"
        }
      },
      "outputs": [],
      "source": [
        "a=1 \n",
        "bool(a)"
      ],
      "id": "8ed9d1ad-6626-411a-972e-dcfd1354300c"
    },
    {
      "cell_type": "code",
      "execution_count": 64,
      "metadata": {
        "vscode": {
          "languageId": "python"
        }
      },
      "outputs": [],
      "source": [
        "a=0\n",
        "bool(a)"
      ],
      "id": "c8da75d7-7526-4665-8a47-edb9066c6b1d"
    },
    {
      "cell_type": "markdown",
      "metadata": {},
      "source": [
        "(예시3)"
      ],
      "id": "9a824f2c-fabb-42fd-a897-29a2a4d6b364"
    },
    {
      "cell_type": "code",
      "execution_count": 65,
      "metadata": {
        "vscode": {
          "languageId": "python"
        }
      },
      "outputs": [],
      "source": [
        "a=1.0\n",
        "bool(a)"
      ],
      "id": "3e1e652b-6b6c-4fd6-aeb5-906e4ca291fd"
    },
    {
      "cell_type": "code",
      "execution_count": 66,
      "metadata": {
        "vscode": {
          "languageId": "python"
        }
      },
      "outputs": [],
      "source": [
        "a=0.0\n",
        "bool(a)"
      ],
      "id": "480bef84-5c63-46f3-8080-6ef1d4fecd06"
    },
    {
      "cell_type": "markdown",
      "metadata": {},
      "source": [
        "## B. 1차원 자료의 형태변환\n",
        "\n",
        "`-` list $\\to$ np.array"
      ],
      "id": "1da0a6e1-8e8f-4194-99d4-21f58185c8cc"
    },
    {
      "cell_type": "code",
      "execution_count": 583,
      "metadata": {},
      "outputs": [],
      "source": [
        "[1,2,3]"
      ],
      "id": "d20145ce-1752-4be8-b021-097c14d18221"
    },
    {
      "cell_type": "code",
      "execution_count": 314,
      "metadata": {},
      "outputs": [],
      "source": [
        "np.array([1,2,3])"
      ],
      "id": "8341ac38-6709-4661-a182-670a7c6e65f1"
    },
    {
      "cell_type": "markdown",
      "metadata": {},
      "source": [
        "`-` np.array $\\to$ list"
      ],
      "id": "2a2c900e-c113-47ac-acdd-cac4b17abe43"
    },
    {
      "cell_type": "code",
      "execution_count": 589,
      "metadata": {},
      "outputs": [],
      "source": [
        "np.linspace(1,10,10)"
      ],
      "id": "f2b0eb40-1733-404b-a701-7c13d74f8a0e"
    },
    {
      "cell_type": "code",
      "execution_count": 593,
      "metadata": {},
      "outputs": [],
      "source": [
        "list(np.linspace(1,10,10))"
      ],
      "id": "a0650c2a-c8d3-48fe-a6e0-535dbb50a492"
    },
    {
      "cell_type": "markdown",
      "metadata": {},
      "source": [
        "`-` range $\\to$ list, np.array"
      ],
      "id": "ac689395-d475-40e3-aec3-3150651252b2"
    },
    {
      "cell_type": "code",
      "execution_count": 596,
      "metadata": {},
      "outputs": [],
      "source": [
        "range(10) # 이게 뭐야??"
      ],
      "id": "45c0a440-b547-4da0-a004-56ff888a349d"
    },
    {
      "cell_type": "code",
      "execution_count": 597,
      "metadata": {},
      "outputs": [],
      "source": [
        "list(range(10)) # 리스트화 "
      ],
      "id": "a2ba972b-55f4-486e-932c-217d36be6616"
    },
    {
      "cell_type": "code",
      "execution_count": 598,
      "metadata": {},
      "outputs": [],
      "source": [
        "np.array(range(10)) # 넘파이배열화"
      ],
      "id": "61a53c60-8726-4da5-a9c5-ebd37524041f"
    },
    {
      "cell_type": "markdown",
      "metadata": {},
      "source": [
        "***보충학습: range의 다양한 활용을 익혀보자.***"
      ],
      "id": "1c74fd2e-cfd6-4c12-8969-4e1be7c1c59e"
    },
    {
      "cell_type": "code",
      "execution_count": 602,
      "metadata": {},
      "outputs": [],
      "source": [
        "list(range(10))"
      ],
      "id": "87e49de0-1e0c-4da0-9f37-e33b22a4e205"
    },
    {
      "cell_type": "code",
      "execution_count": 607,
      "metadata": {},
      "outputs": [],
      "source": [
        "list(range(0,10))"
      ],
      "id": "d9ca088c-6109-48fa-b01f-5ca348753592"
    },
    {
      "cell_type": "code",
      "execution_count": 608,
      "metadata": {},
      "outputs": [],
      "source": [
        "list(range(3,10))"
      ],
      "id": "e02b8064-8468-43fd-9517-4cbc8c5fb948"
    },
    {
      "cell_type": "code",
      "execution_count": 609,
      "metadata": {},
      "outputs": [],
      "source": [
        "list(range(3,10,2))"
      ],
      "id": "536b60ea-188d-44aa-a5f4-5fd7f012492c"
    },
    {
      "cell_type": "markdown",
      "metadata": {},
      "source": [
        "`-` map 결과물 $\\to$ list"
      ],
      "id": "1f5af678-13c1-49d7-83ae-f2b63bd9a7e5"
    },
    {
      "cell_type": "code",
      "execution_count": 611,
      "metadata": {},
      "outputs": [],
      "source": [
        "f = lambda x: x**2\n",
        "list(map(f,[1,2,3])) # [f(1),f(2),f(3)]"
      ],
      "id": "c63a80e5-a21d-4921-ab66-e42c920f445c"
    },
    {
      "cell_type": "markdown",
      "metadata": {},
      "source": [
        "`-` map 결과물 $\\to$ np.array로는 불가능"
      ],
      "id": "d0bd8539-4722-4453-bb6f-af35a9d34799"
    },
    {
      "cell_type": "code",
      "execution_count": 612,
      "metadata": {},
      "outputs": [],
      "source": [
        "f = lambda x: x**2\n",
        "np.array(map(f,[1,2,3]))"
      ],
      "id": "cd4456cf-0d54-4d6e-9cfe-5a3976156cca"
    },
    {
      "cell_type": "code",
      "execution_count": 613,
      "metadata": {},
      "outputs": [],
      "source": [
        "# 아래는 가능 \n",
        "f = lambda x: x**2\n",
        "np.array(list(map(f,[1,2,3])))"
      ],
      "id": "0dda12de-d8ba-4738-8b42-86f412785f80"
    },
    {
      "cell_type": "markdown",
      "metadata": {},
      "source": [
        "# 5. 등차수열을 선언하는 다양한 방법 – 파이썬 문법\n",
        "\n",
        "아래와 같은 등차수열을 만드는 방법을 살펴보자.\n",
        "\n",
        "$$1,4,7,\\dots,31 $$"
      ],
      "id": "85182c91-a39f-4ff1-96b9-7d0ac8766de1"
    },
    {
      "cell_type": "code",
      "execution_count": 358,
      "metadata": {},
      "outputs": [],
      "source": [
        "np.linspace(1,31,11)"
      ],
      "id": "84573986-209c-4b1e-8211-6af6a454bdd4"
    },
    {
      "cell_type": "code",
      "execution_count": 362,
      "metadata": {},
      "outputs": [],
      "source": [
        "list(range(1,32,3))"
      ],
      "id": "2e0eea9f-9361-4a52-a372-ae71155dab3d"
    },
    {
      "cell_type": "code",
      "execution_count": 363,
      "metadata": {},
      "outputs": [],
      "source": [
        "np.array(range(1,32,3))"
      ],
      "id": "dbb7a403-2764-44b7-9c30-ad1a455e763c"
    },
    {
      "cell_type": "code",
      "execution_count": 364,
      "metadata": {},
      "outputs": [],
      "source": [
        "np.arange(1,32,3)"
      ],
      "id": "bcc8681a-63ca-415b-9343-9a060f73893a"
    },
    {
      "cell_type": "code",
      "execution_count": 369,
      "metadata": {},
      "outputs": [],
      "source": [
        "# len(np.arange(1,32,3)) # 원소의 수는 11\n",
        "n = np.arange(1,12)\n",
        "3*n-2"
      ],
      "id": "fa4f182a-269f-425f-bd74-f4656772885d"
    },
    {
      "cell_type": "code",
      "execution_count": 374,
      "metadata": {},
      "outputs": [],
      "source": [
        "a = lambda n: 3*n-2\n",
        "a(1),a(2),a(3),a(4),a(5),a(6),a(7),a(8),a(9),a(10),a(11)"
      ],
      "id": "307ef89e-b524-48df-9452-2886046a9317"
    },
    {
      "cell_type": "code",
      "execution_count": 375,
      "metadata": {},
      "outputs": [],
      "source": [
        "n = np.arange(1,12)\n",
        "a = lambda n: 3*n-2\n",
        "a(n)"
      ],
      "id": "810b89fd-c1ce-4dbc-8f86-10261c1b8870"
    },
    {
      "cell_type": "code",
      "execution_count": 377,
      "metadata": {},
      "outputs": [],
      "source": [
        "n = np.arange(1,12)\n",
        "a = lambda n: 3*n-2\n",
        "list(map(a,n))"
      ],
      "id": "b22f0734-906c-477d-93c0-2a831c0d4290"
    },
    {
      "cell_type": "code",
      "execution_count": 381,
      "metadata": {},
      "outputs": [],
      "source": [
        "n = np.arange(32)\n",
        "n[1::3]"
      ],
      "id": "98ecba59-a037-41b8-ae77-db920ad61b59"
    },
    {
      "cell_type": "markdown",
      "metadata": {},
      "source": [
        "# 6. $\\text{map}(f,{\\bf x})$ – 파이썬 문법\n",
        "\n",
        "`-` 브로드캐스팅은 매우 편리한 기능임"
      ],
      "id": "b81c186a-52e6-4bf3-8612-35360061d710"
    },
    {
      "cell_type": "code",
      "execution_count": 382,
      "metadata": {},
      "outputs": [],
      "source": [
        "f = lambda x: x+1 "
      ],
      "id": "11918139-842d-4f2c-87d2-06ebaeda6d27"
    },
    {
      "cell_type": "code",
      "execution_count": 383,
      "metadata": {},
      "outputs": [],
      "source": [
        "arr = np.array([1,2,3])\n",
        "f(arr)"
      ],
      "id": "cc60b267-deab-4082-89c7-1fa428e93b24"
    },
    {
      "cell_type": "markdown",
      "metadata": {},
      "source": [
        "`-` 불가능한 경우도 있음 (1)"
      ],
      "id": "021be62d-5bed-4518-bf17-2f3ce3a366b5"
    },
    {
      "cell_type": "code",
      "execution_count": 384,
      "metadata": {},
      "outputs": [],
      "source": [
        "f = lambda x: np.max(x) - np.min(x)"
      ],
      "id": "30917285-8516-4524-a378-60b78ac21454"
    },
    {
      "cell_type": "code",
      "execution_count": 393,
      "metadata": {},
      "outputs": [],
      "source": [
        "x1 = [1,2,3]\n",
        "x2 = [2,3]\n",
        "x3 = [3,3,4,5,5,6] \n",
        "f(x1),f(x2),f(x3)"
      ],
      "id": "9eec0b63-a43c-4a52-a3db-b17778235162"
    },
    {
      "cell_type": "code",
      "execution_count": 397,
      "metadata": {},
      "outputs": [],
      "source": [
        "list(map(f,[x1,x2,x3]))"
      ],
      "id": "8021b573-f2bf-4150-a8ae-8ac301178743"
    },
    {
      "cell_type": "markdown",
      "metadata": {},
      "source": [
        "`-` 불가능한 경우도 있었음 (2)"
      ],
      "id": "f8b948f0-53dc-45b8-9c14-6bfa20a71bf3"
    },
    {
      "cell_type": "code",
      "execution_count": 401,
      "metadata": {},
      "outputs": [],
      "source": [
        "def dff(d):\n",
        "    n = np.linspace(1,15,15)\n",
        "    an = d*n-d*7\n",
        "    return np.sum(1/(an[:5]*an[1:6]))-5/96 "
      ],
      "id": "dfd1f01a-5db8-4017-b1d0-566a913f1a80"
    },
    {
      "cell_type": "code",
      "execution_count": 407,
      "metadata": {},
      "outputs": [],
      "source": [
        "d = 1\n",
        "dff(d)"
      ],
      "id": "5d9eaa21-8ca5-4622-9f9e-5a943993f663"
    },
    {
      "cell_type": "markdown",
      "metadata": {},
      "source": [
        "이게 되는이유?"
      ],
      "id": "d3d26f6f-4084-4d82-8e97-357d3fb43d87"
    },
    {
      "cell_type": "code",
      "execution_count": 404,
      "metadata": {},
      "outputs": [],
      "source": [
        "d = 1 \n",
        "n = np.linspace(1,15,15)\n",
        "an = d*n-d*7\n",
        "np.sum(1/(an[:5]*an[1:6]))-5/96 "
      ],
      "id": "bd804c94-959a-4ad5-9da3-fa03a76bce66"
    },
    {
      "cell_type": "code",
      "execution_count": 408,
      "metadata": {},
      "outputs": [],
      "source": [
        "d = np.array([1,2,3])\n",
        "dff(d)"
      ],
      "id": "f1cffb4d-d56e-4d8d-b53e-8f16f234167a"
    },
    {
      "cell_type": "markdown",
      "metadata": {},
      "source": [
        "이게 안되는 이유?"
      ],
      "id": "6d086545-abde-4505-8420-8a527d4bace4"
    },
    {
      "cell_type": "code",
      "execution_count": 409,
      "metadata": {},
      "outputs": [],
      "source": [
        "d = np.array([1,2,3])\n",
        "n = np.linspace(1,15,15)\n",
        "an = d*n-d*7\n",
        "np.sum(1/(an[:5]*an[1:6]))-5/96 "
      ],
      "id": "b6b6f99b-40ff-4bb8-bc93-0f1b0dab9db1"
    },
    {
      "cell_type": "markdown",
      "metadata": {},
      "source": [
        "`-` 그동안 가능했던 이유"
      ],
      "id": "876d7711-573b-47de-a60d-c49d605c8137"
    },
    {
      "cell_type": "code",
      "execution_count": 412,
      "metadata": {},
      "outputs": [],
      "source": [
        "def f(x):\n",
        "    return x+1"
      ],
      "id": "a752e10b-6745-4931-a021-ab9aebfc9e9c"
    },
    {
      "cell_type": "code",
      "execution_count": 416,
      "metadata": {},
      "outputs": [],
      "source": [
        "x=5\n",
        "x+1"
      ],
      "id": "49891f12-d3e7-4a92-a5bd-77cb19b4df55"
    },
    {
      "cell_type": "code",
      "execution_count": 418,
      "metadata": {},
      "outputs": [],
      "source": [
        "x=np.array([5,6])\n",
        "x+1"
      ],
      "id": "aaf0c59a-d3fc-426c-bd94-fb589e12225c"
    },
    {
      "cell_type": "markdown",
      "metadata": {},
      "source": [
        "> 요약: 어떠한 함수가 원소별로 각각 적용은 가능하지만 한번에 적용\n",
        "> (브로드캐스팅) 은 불가능할때 map은 매우 강력한 도구이다.\n",
        "\n",
        "# 7. Bool을 이용한 인덱싱 – 파이썬 문법\n",
        "\n",
        "`-` 기본개념"
      ],
      "id": "0d35609a-3da3-4731-8ff2-a39f0265d803"
    },
    {
      "cell_type": "code",
      "execution_count": 430,
      "metadata": {},
      "outputs": [],
      "source": [
        "arr = np.array([1,-2,3,44])\n",
        "arr[[True,False,True,True]]"
      ],
      "id": "5bbc25d8-f0b3-4fe6-9021-ffc31b78b3ca"
    },
    {
      "cell_type": "markdown",
      "metadata": {},
      "source": [
        "`-` 응용 1 – 양수만 출력"
      ],
      "id": "3a750e76-22b5-4914-bf39-6d76f48ab44e"
    },
    {
      "cell_type": "code",
      "execution_count": 434,
      "metadata": {},
      "outputs": [],
      "source": [
        "arr = np.array([1,-2,3,44])\n",
        "arr[arr>0] "
      ],
      "id": "46dc0dba-f704-4cc5-901d-c6ecb995da67"
    },
    {
      "cell_type": "markdown",
      "metadata": {},
      "source": [
        "`-` 응용 2 – 짝수만 출력"
      ],
      "id": "4b454d77-20fe-49ff-b222-a449368998b0"
    },
    {
      "cell_type": "code",
      "execution_count": 436,
      "metadata": {},
      "outputs": [],
      "source": [
        "arr = np.array([1,-2,3,44])\n",
        "arr[arr % 2 == 0]"
      ],
      "id": "0250ce21-a2bf-4038-8bae-4cf5e68d3ac5"
    },
    {
      "cell_type": "markdown",
      "metadata": {},
      "source": [
        "***보충학습: 아래의 테크닉도 알아둘것***\n",
        "\n",
        "`-` 예시1 – 양수를 카운트"
      ],
      "id": "38a8fbdb-789b-4dd9-92f0-ef4881d5f035"
    },
    {
      "cell_type": "code",
      "execution_count": 440,
      "metadata": {},
      "outputs": [],
      "source": [
        "arr = np.array([1,-2,3,44])\n",
        "sum(arr>0)"
      ],
      "id": "cd580c3f-cca8-4919-af46-f72ce6d01155"
    },
    {
      "cell_type": "markdown",
      "metadata": {},
      "source": [
        "`-` 예시2 – 짝수를 카운트"
      ],
      "id": "e9ba3aab-dae2-4c3e-9fa7-0bb7e10745ab"
    },
    {
      "cell_type": "code",
      "execution_count": 441,
      "metadata": {},
      "outputs": [],
      "source": [
        "arr = np.array([1,-2,3,44])\n",
        "sum(arr % 2 == 0)"
      ],
      "id": "8a77f5fc-d335-4705-9f05-b6cecdbb69e6"
    },
    {
      "cell_type": "markdown",
      "metadata": {},
      "source": [
        "# 8. if문 – 파이썬 문법\n",
        "\n",
        "`-` 예시1"
      ],
      "id": "5e2d81e5-35af-414f-b66b-fa0f3b29b4e9"
    },
    {
      "cell_type": "code",
      "execution_count": 442,
      "metadata": {},
      "outputs": [],
      "source": [
        "def f(x):\n",
        "    if x>0:\n",
        "        return x\n",
        "    else:\n",
        "        return -x "
      ],
      "id": "f5cc8800-37d2-4c97-b3db-ce1dafb1f0f1"
    },
    {
      "cell_type": "code",
      "execution_count": 444,
      "metadata": {},
      "outputs": [
        {
          "output_type": "display_data",
          "metadata": {},
          "data": {
            "image/png": "[encoded data removed]"
          }
        }
      ],
      "source": [
        "x = np.linspace(-10,10,101)\n",
        "fx = np.array(list(map(f,x)))\n",
        "plt.plot(x,fx)"
      ],
      "id": "9fd7f92d-1ddb-4915-bf08-a54e700980e6"
    },
    {
      "cell_type": "markdown",
      "metadata": {},
      "source": [
        "`-` 예시2"
      ],
      "id": "1ae5a636-3384-44cd-84ed-464a57a29ce8"
    },
    {
      "cell_type": "code",
      "execution_count": 445,
      "metadata": {},
      "outputs": [],
      "source": [
        "def f(x):\n",
        "    return x if x>0 else -x "
      ],
      "id": "7bf4005d-04bd-4378-9612-e97f238cac42"
    },
    {
      "cell_type": "code",
      "execution_count": 446,
      "metadata": {},
      "outputs": [
        {
          "output_type": "display_data",
          "metadata": {},
          "data": {
            "image/png": "[encoded data removed]"
          }
        }
      ],
      "source": [
        "x = np.linspace(-10,10,101)\n",
        "fx = np.array(list(map(f,x)))\n",
        "plt.plot(x,fx)"
      ],
      "id": "d389f55a-4fca-4c8c-9e72-4e11b932c40a"
    },
    {
      "cell_type": "markdown",
      "metadata": {},
      "source": [
        "`-` 예시3"
      ],
      "id": "5ff132c4-6696-4b31-9707-5714f8cece7e"
    },
    {
      "cell_type": "code",
      "execution_count": 447,
      "metadata": {},
      "outputs": [],
      "source": [
        "f = lambda x: x if x>0 else -x "
      ],
      "id": "51e47494-83e0-46d7-80a1-669a6d7582d1"
    },
    {
      "cell_type": "code",
      "execution_count": 448,
      "metadata": {},
      "outputs": [
        {
          "output_type": "display_data",
          "metadata": {},
          "data": {
            "image/png": "[encoded data removed]"
          }
        }
      ],
      "source": [
        "x = np.linspace(-10,10,101)\n",
        "fx = np.array(list(map(f,x)))\n",
        "plt.plot(x,fx)"
      ],
      "id": "b0977eb8-9f4f-42bc-abce-83497d9a08c6"
    },
    {
      "cell_type": "markdown",
      "metadata": {},
      "source": [
        "# 9. np.random 모듈 – 파이썬 문법\n",
        "\n",
        "## A. np.random.rand()\n",
        "\n",
        "`-` 0~1 사이에서 10개의 난수생성"
      ],
      "id": "cbde0f1f-ad44-40d3-9554-1aa7eaa054a3"
    },
    {
      "cell_type": "code",
      "execution_count": 449,
      "metadata": {},
      "outputs": [],
      "source": [
        "np.random.rand(10)"
      ],
      "id": "552ed617-f280-4d4a-9121-93878e78d431"
    },
    {
      "cell_type": "markdown",
      "metadata": {},
      "source": [
        "`-` 0~2 사이에서 10개의 난수생성"
      ],
      "id": "3dd51d15-0596-47ab-b330-77ee28d181a4"
    },
    {
      "cell_type": "code",
      "execution_count": 450,
      "metadata": {},
      "outputs": [],
      "source": [
        "np.random.rand(10)*2"
      ],
      "id": "583ee449-c2a1-4577-9dcd-6362d8b4e940"
    },
    {
      "cell_type": "markdown",
      "metadata": {},
      "source": [
        "`-` 1~3 사이에서 10개의 난수생성"
      ],
      "id": "605db6e3-07b7-4c09-9c4e-ef8823370aaa"
    },
    {
      "cell_type": "code",
      "execution_count": 451,
      "metadata": {},
      "outputs": [],
      "source": [
        "np.random.rand(10)*2 + 1"
      ],
      "id": "ba660293-764b-4f05-a092-e25855c28db0"
    },
    {
      "cell_type": "markdown",
      "metadata": {},
      "source": [
        "## B. np.random.randn()\n",
        "\n",
        "`-` N(0,1)에서 10개의 난수생성"
      ],
      "id": "74ddae55-8ef1-4077-b506-1b05e6f3e9cf"
    },
    {
      "cell_type": "code",
      "execution_count": 458,
      "metadata": {},
      "outputs": [],
      "source": [
        "np.random.randn(10) # 표준정규분포에서 10개의 샘플 추출 "
      ],
      "id": "a557d3eb-cd3a-47cd-979b-bd55674591f5"
    },
    {
      "cell_type": "markdown",
      "metadata": {},
      "source": [
        "`-` N(1,1)에서 10개 난수생성"
      ],
      "id": "e489a740-348c-44fd-906c-d3f613911554"
    },
    {
      "cell_type": "code",
      "execution_count": 453,
      "metadata": {},
      "outputs": [],
      "source": [
        "np.random.randn(10) + 1"
      ],
      "id": "a50afff9-fd56-4b82-b9ca-588fae850c58"
    },
    {
      "cell_type": "markdown",
      "metadata": {},
      "source": [
        "`-` N(0,4) 에서 10개 난수생성"
      ],
      "id": "327aaa4e-8c9f-4b3e-91ae-2904c495d959"
    },
    {
      "cell_type": "code",
      "execution_count": 454,
      "metadata": {},
      "outputs": [],
      "source": [
        "np.random.randn(10)*2"
      ],
      "id": "f2137764-c212-408b-a080-adc0798e3c06"
    },
    {
      "cell_type": "markdown",
      "metadata": {},
      "source": [
        "`-` N(3,4) 에서 10개 난수생성"
      ],
      "id": "8ffea88c-7c09-4829-8fe7-50d63766d580"
    },
    {
      "cell_type": "code",
      "execution_count": 463,
      "metadata": {},
      "outputs": [],
      "source": [
        "np.random.randn(10)*2+3 "
      ],
      "id": "f8d691be-920b-4b56-ba75-acbd3103a38f"
    },
    {
      "cell_type": "markdown",
      "metadata": {},
      "source": [
        "## C. np.random.randint()\n",
        "\n",
        "`-` \\[0,7) 에서 10개의 정수생성"
      ],
      "id": "17bdd077-be86-4bc6-84da-9ffa6be983af"
    },
    {
      "cell_type": "code",
      "execution_count": 466,
      "metadata": {},
      "outputs": [],
      "source": [
        "np.random.randint(0,7,size=10) # [0,7)의 범위에서 10개의 정수 생성 "
      ],
      "id": "6af4926f-2fa9-43b3-ae48-337cc1c405f7"
    },
    {
      "cell_type": "markdown",
      "metadata": {},
      "source": [
        "`-` \\[10,20) 에서 10개의 정수생성"
      ],
      "id": "d93d437c-fe86-469a-984a-b02ce384e4d3"
    },
    {
      "cell_type": "code",
      "execution_count": 467,
      "metadata": {},
      "outputs": [],
      "source": [
        "np.random.randint(10,20,size=10) # [0,7)의 범위에서 10개의 정수 생성 "
      ],
      "id": "3cd731f1-960b-44b6-b907-3e5889fc8870"
    },
    {
      "cell_type": "markdown",
      "metadata": {},
      "source": [
        "## D. np.random.choice()\n",
        "\n",
        "`-` \\[11,22,33\\] 에서 중복허용하여 20개 추출"
      ],
      "id": "ecb0a176-078f-429b-af67-0b19c981ce94"
    },
    {
      "cell_type": "code",
      "execution_count": 470,
      "metadata": {},
      "outputs": [],
      "source": [
        "np.random.choice([11,22,33],20) "
      ],
      "id": "8c3aac5f-28dc-429e-8dfd-6c85a369367c"
    },
    {
      "cell_type": "markdown",
      "metadata": {},
      "source": [
        "`-` \\[11,22,33\\] 에서 중복허용하여 3개 추출"
      ],
      "id": "23f1fae0-9dbd-4b4b-b1b5-12e01902807b"
    },
    {
      "cell_type": "code",
      "execution_count": 483,
      "metadata": {},
      "outputs": [],
      "source": [
        "np.random.seed(4)\n",
        "np.random.choice([11,22,33],3) "
      ],
      "id": "0a93d2a0-71b2-4baf-bafe-8f0b2399b0b0"
    },
    {
      "cell_type": "code",
      "execution_count": 484,
      "metadata": {},
      "outputs": [],
      "source": [
        "np.random.seed(5)\n",
        "np.random.choice([11,22,33],3) "
      ],
      "id": "ecc10901-db5f-4796-9672-9c4698d3bdcc"
    },
    {
      "cell_type": "markdown",
      "metadata": {},
      "source": [
        "`-` \\[11,22,33\\] 에서 중복허용하지 않고 3개 추출"
      ],
      "id": "fc0cc528-3497-418c-811c-3ba4bb58eed1"
    },
    {
      "cell_type": "code",
      "execution_count": 489,
      "metadata": {},
      "outputs": [],
      "source": [
        "np.random.choice([11,22,33],3,replace=False) "
      ],
      "id": "4dc7b3a4-e560-48a9-a04a-1f6c815028b6"
    },
    {
      "cell_type": "markdown",
      "metadata": {},
      "source": [
        "# 10. 함수를 리턴하는 함수 – 파이썬 문법\n",
        "\n",
        "`-` 예제1: $(P,Q)$를 입력으로 받아, 기울기가 2이고 점 $(P,Q)$를 지나는\n",
        "함수를 리턴하는 함수를 구현하라."
      ],
      "id": "414a1e6b-d1eb-47ff-b489-c093e7465ba0"
    },
    {
      "cell_type": "code",
      "execution_count": 493,
      "metadata": {},
      "outputs": [],
      "source": [
        "def make_func(p,q):\n",
        "    def func(x):\n",
        "        return 2*(x-p)+q\n",
        "    return func"
      ],
      "id": "f9e1d10d-325c-47b8-9458-ecd4b7317537"
    },
    {
      "cell_type": "code",
      "execution_count": 500,
      "metadata": {},
      "outputs": [
        {
          "output_type": "display_data",
          "metadata": {},
          "data": {
            "image/png": "[encoded data removed]"
          }
        }
      ],
      "source": [
        "x = np.linspace(-5,5,101)\n",
        "p,q = 2,3\n",
        "f = make_func(p,q)\n",
        "plt.plot(x,f(x),'--')\n",
        "plt.plot([p],[q],'x')"
      ],
      "id": "2cc0ebfd-843f-43b9-8b80-55522dd52259"
    },
    {
      "cell_type": "markdown",
      "metadata": {},
      "source": [
        "`-` 예제2: $f(x)=x^2$ 위의 임의의 점을 입력하면 접선을 리턴하는 함수를\n",
        "구현하라."
      ],
      "id": "b0fde4fa-9319-4dd2-a226-8306fd648d90"
    },
    {
      "cell_type": "code",
      "execution_count": 508,
      "metadata": {},
      "outputs": [],
      "source": [
        "def make_func(x0):\n",
        "    f = lambda x: x**2\n",
        "    def func(x):\n",
        "        h = 0.0001\n",
        "        a = (f(x0+h)-f(x0))/h \n",
        "        return a*(x-x0) + f(x0)\n",
        "    return func"
      ],
      "id": "075c5180-e365-4a73-aed5-9c41d0fc911b"
    },
    {
      "cell_type": "code",
      "execution_count": 515,
      "metadata": {},
      "outputs": [
        {
          "output_type": "display_data",
          "metadata": {},
          "data": {
            "image/png": "[encoded data removed]"
          }
        }
      ],
      "source": [
        "x = np.linspace(-5,5,101)\n",
        "tan_line = make_func(1.2)\n",
        "plt.plot(x,x**2,'--')\n",
        "plt.plot(x,tan_line(x),'--')"
      ],
      "id": "773607a4-e3ad-41b6-a019-5dd3a9f167d0"
    }
  ],
  "nbformat": 4,
  "nbformat_minor": 5,
  "metadata": {
    "kernelspec": {
      "name": "python3",
      "display_name": "Python 3 (ipykernel)",
      "language": "python"
    },
    "language_info": {
      "name": "python",
      "codemirror_mode": {
        "name": "ipython",
        "version": "3"
      },
      "file_extension": ".py",
      "mimetype": "text/x-python",
      "nbconvert_exporter": "python",
      "pygments_lexer": "ipython3",
      "version": "3.12.2"
    }
  }
}