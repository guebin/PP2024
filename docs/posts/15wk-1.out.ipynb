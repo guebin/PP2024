{
  "cells": [
    {
      "cell_type": "markdown",
      "metadata": {},
      "source": [
        "# 15wk-1: 퀴즈10\n",
        "\n",
        "최규빈  \n",
        "2024-06-12\n",
        "\n",
        "<a href=\"https://colab.research.google.com/github/guebin/PP2024/blob/main/posts/15wk-1.ipynb\"><img src=\"https://colab.research.google.com/assets/colab-badge.svg\" style=\"text-align: left\"></a>\n",
        "\n",
        "> **Caution**\n",
        ">\n",
        "> -   전북대 학생들을 시험당일 학생증을 지참할 것. (출석체크 및\n",
        ">     본인확인) 학생증 외에 신분증 여권등도 가능.\n",
        "> -   부정행위 (카카오톡 채팅을 통한 코드공유, 생성형모델 사용, 대리시험\n",
        ">     등) 적발시 F 처리함.\n",
        "> -   퀴즈 중 지각할 경우 지각사실을 기록함. 하지만 별 다른 감점은 하지\n",
        ">     않음.\n",
        "> -   `.ipynb` 파일 형태로 제출된 답안지만 채점하며 그 외의 형식\n",
        ">     (`.hwp`, `.py` 등)은 채점하지 않음. 즉 0점 처리함.\n",
        "\n",
        "# 1. – 50점\n",
        "\n",
        "> 정확한 구현시에만 점수있음. 이외는 0점\n",
        "\n",
        "아래와 같은 기능을 하는 클래스 `묶음생성기`를 설계하라.\n",
        "\n",
        "`# 예시1`"
      ],
      "id": "2a8c9149-4b73-413a-8bc3-5e7f54e210b9"
    },
    {
      "cell_type": "code",
      "execution_count": 91,
      "metadata": {
        "tags": []
      },
      "outputs": [],
      "source": [
        "묶음 = 묶음생성기([1,2,3,4,5,6,7,8],n_groups=2)"
      ],
      "id": "9aa7d0c7-2887-491b-a24b-41b59011297d"
    },
    {
      "cell_type": "code",
      "execution_count": 92,
      "metadata": {
        "tags": []
      },
      "outputs": [],
      "source": [
        "[x for x in 묶음]"
      ],
      "id": "d1aada16-8674-40ad-8add-0eaade876d76"
    },
    {
      "cell_type": "markdown",
      "metadata": {},
      "source": [
        "`#`\n",
        "\n",
        "`# 예시2`"
      ],
      "id": "8dccd9dd-36f1-46c6-89b8-28ffaf8e397b"
    },
    {
      "cell_type": "code",
      "execution_count": 93,
      "metadata": {
        "tags": []
      },
      "outputs": [],
      "source": [
        "animlas = [\"사자\", \"호랑이\", \"코끼리\", \"닭\", \"얼룩말\", \"캥거루\", \"판다\", \"나무늘보\", \"돼지\", \"양\"]\n",
        "묶음 = 묶음생성기(animlas,n_groups=3)"
      ],
      "id": "7fad2f8f-479d-4d02-acdc-76033a9c4788"
    },
    {
      "cell_type": "code",
      "execution_count": 94,
      "metadata": {
        "tags": []
      },
      "outputs": [],
      "source": [
        "[x for x in 묶음]"
      ],
      "id": "190266bc-d421-470e-8250-17594ef3ae9a"
    },
    {
      "cell_type": "markdown",
      "metadata": {},
      "source": [
        "`#`\n",
        "\n",
        "`# 예시3`"
      ],
      "id": "fcb3d4eb-00e1-4ab1-a0c2-e5f3be9c1b1c"
    },
    {
      "cell_type": "code",
      "execution_count": 95,
      "metadata": {
        "tags": []
      },
      "outputs": [],
      "source": [
        "sounds = ['어흥', '크앙', '뿌우', '꼬끼오', '이히힝', '캥거캥거', '냠냠', 'Zzz', '꾸울', '메에']"
      ],
      "id": "9d23a0ca-b4ca-427b-8385-10321da3b655"
    },
    {
      "cell_type": "code",
      "execution_count": 96,
      "metadata": {
        "tags": []
      },
      "outputs": [],
      "source": [
        "묶음 = 묶음생성기(list(zip(animlas,sounds)),n_groups=4)"
      ],
      "id": "305e51f1-91f5-4e4c-9f5a-04a8f5160cc9"
    },
    {
      "cell_type": "code",
      "execution_count": 97,
      "metadata": {
        "tags": []
      },
      "outputs": [],
      "source": [
        "[x for x in 묶음]"
      ],
      "id": "b9616880-743d-4a10-a1ab-96b6eef64c82"
    },
    {
      "cell_type": "markdown",
      "metadata": {},
      "source": [
        "`#`\n",
        "\n",
        "`(풀이)`"
      ],
      "id": "1505e59a-ef58-4a52-b9b7-946036b723b2"
    },
    {
      "cell_type": "code",
      "execution_count": 90,
      "metadata": {},
      "outputs": [],
      "source": [
        "class 묶음생성기:\n",
        "    def __init__(self,array,n_groups):\n",
        "        self.array = array \n",
        "        self.n_groups = n_groups \n",
        "        self.i = 0 \n",
        "    def __iter__(self):\n",
        "        return self\n",
        "    def __next__(self):\n",
        "        if self.i < self.n_groups:\n",
        "            group = self.array[self.i::self.n_groups] \n",
        "            self.i = self.i + 1 \n",
        "            return group\n",
        "        else: \n",
        "            raise(StopIteration)            "
      ],
      "id": "dc467bce-2b5e-4f34-aae0-b719fbf3641b"
    },
    {
      "cell_type": "markdown",
      "metadata": {},
      "source": [
        "# 2. – 50점\n",
        "\n",
        "> 정확한 구현시에만 점수있음. 이외에는 0점\n",
        "\n",
        "아래와 같은 기능을 하는 클래스 `애완동물`을 설계하라.\n",
        "\n",
        "`# 예시1`"
      ],
      "id": "db5ed473-2daf-4914-8c86-f3eee43d899d"
    },
    {
      "cell_type": "code",
      "execution_count": 77,
      "metadata": {
        "tags": []
      },
      "outputs": [
        {
          "output_type": "stream",
          "name": "stdout",
          "text": [
            "동물명 <하니> 와 같이 살기로 결심했습니다.\n",
            "동물명 <나비> 와 같이 살기로 결심했습니다."
          ]
        }
      ],
      "source": [
        "하니 = 애완동물(name=\"하니\",sound=\"멍\")\n",
        "나비 = 애완동물(name=\"나비\",sound=\"야오옹\")"
      ],
      "id": "95446dad-c4f0-4feb-b4cd-394536fb4edb"
    },
    {
      "cell_type": "code",
      "execution_count": 78,
      "metadata": {
        "tags": []
      },
      "outputs": [
        {
          "output_type": "stream",
          "name": "stdout",
          "text": [
            "하니가 멍하고 울었습니다."
          ]
        }
      ],
      "source": [
        "하니()"
      ],
      "id": "c9dcd3f6-d33b-4065-889a-8a6d0f4d1de0"
    },
    {
      "cell_type": "code",
      "execution_count": 79,
      "metadata": {
        "tags": []
      },
      "outputs": [
        {
          "output_type": "stream",
          "name": "stdout",
          "text": [
            "나비가 야오옹하고 울었습니다."
          ]
        }
      ],
      "source": [
        "나비()"
      ],
      "id": "947b37f1-8f1a-4e33-86f3-7cab32b239b3"
    },
    {
      "cell_type": "code",
      "execution_count": 80,
      "metadata": {
        "tags": []
      },
      "outputs": [
        {
          "output_type": "stream",
          "name": "stdout",
          "text": [
            "하니가 멍하고 울었습니다.\n",
            "나비가 야오옹하고 울었습니다."
          ]
        }
      ],
      "source": [
        "애완동물.모두울어보세요()"
      ],
      "id": "cb91468f-a18c-4269-925e-d29be58ab6b2"
    },
    {
      "cell_type": "markdown",
      "metadata": {},
      "source": [
        "`#`\n",
        "\n",
        "`# 예시2`"
      ],
      "id": "dd150ac5-e9fb-42a6-8415-2b00e0a41eaf"
    },
    {
      "cell_type": "code",
      "execution_count": 81,
      "metadata": {
        "tags": []
      },
      "outputs": [
        {
          "output_type": "stream",
          "name": "stdout",
          "text": [
            "동물명 <꿀이> 와 같이 살기로 결심했습니다.\n",
            "동물명 <크앙이> 와 같이 살기로 결심했습니다."
          ]
        }
      ],
      "source": [
        "꿀이 = 애완동물(name=\"꿀이\",sound=\"꿀!\") \n",
        "크앙이 = 애완동물(name=\"크앙이\",sound=\"크앙!\") "
      ],
      "id": "abce1d1c-8fd2-43c8-a92b-9e30b805bed4"
    },
    {
      "cell_type": "code",
      "execution_count": 82,
      "metadata": {
        "tags": []
      },
      "outputs": [
        {
          "output_type": "stream",
          "name": "stdout",
          "text": [
            "꿀이가 꿀!하고 울었습니다."
          ]
        }
      ],
      "source": [
        "꿀이()"
      ],
      "id": "9e981347-2d84-4b4b-b5de-29172d24323d"
    },
    {
      "cell_type": "code",
      "execution_count": 83,
      "metadata": {
        "tags": []
      },
      "outputs": [
        {
          "output_type": "stream",
          "name": "stdout",
          "text": [
            "크앙이가 크앙!하고 울었습니다."
          ]
        }
      ],
      "source": [
        "크앙이()"
      ],
      "id": "fb1e88e8-5f75-4ea1-a4a8-081dfb0217bd"
    },
    {
      "cell_type": "code",
      "execution_count": 84,
      "metadata": {
        "tags": []
      },
      "outputs": [
        {
          "output_type": "stream",
          "name": "stdout",
          "text": [
            "하니,나비,꿀이,크앙이가 모두 모였습니다."
          ]
        }
      ],
      "source": [
        "애완동물.모두모여보세요()"
      ],
      "id": "27a7a6e5-0178-4175-985a-f0e5df4a0835"
    },
    {
      "cell_type": "code",
      "execution_count": 85,
      "metadata": {
        "tags": []
      },
      "outputs": [
        {
          "output_type": "stream",
          "name": "stdout",
          "text": [
            "하니가 멍하고 울었습니다.\n",
            "나비가 야오옹하고 울었습니다.\n",
            "꿀이가 꿀!하고 울었습니다.\n",
            "크앙이가 크앙!하고 울었습니다."
          ]
        }
      ],
      "source": [
        "애완동물.모두울어보세요()"
      ],
      "id": "9a5e840a-cef0-4c9e-a3d3-fa2e88437330"
    },
    {
      "cell_type": "markdown",
      "metadata": {},
      "source": [
        "`#`\n",
        "\n",
        "`# 예시3`"
      ],
      "id": "f9af75a5-ef43-4a2c-92df-481507f0e7b6"
    },
    {
      "cell_type": "code",
      "execution_count": 86,
      "metadata": {
        "tags": []
      },
      "outputs": [
        {
          "output_type": "stream",
          "name": "stdout",
          "text": [
            "동물명 <복순이> 와 같이 살기로 결심했습니다."
          ]
        }
      ],
      "source": [
        "복순이 = 애완동물(name=\"복순이\",sound=\"멍멍\") "
      ],
      "id": "98b327d1-13e2-4dec-9582-1b7402fa524f"
    },
    {
      "cell_type": "code",
      "execution_count": 87,
      "metadata": {
        "tags": []
      },
      "outputs": [
        {
          "output_type": "stream",
          "name": "stdout",
          "text": [
            "복순이가 멍멍하고 울었습니다."
          ]
        }
      ],
      "source": [
        "복순이()"
      ],
      "id": "07c0a87f-c0d7-4489-993a-93884314765c"
    },
    {
      "cell_type": "code",
      "execution_count": 88,
      "metadata": {
        "tags": []
      },
      "outputs": [
        {
          "output_type": "stream",
          "name": "stdout",
          "text": [
            "하니,나비,꿀이,크앙이,복순이가 모두 모였습니다."
          ]
        }
      ],
      "source": [
        "애완동물.모두모여보세요()"
      ],
      "id": "b44a26e3-9083-4036-a5dd-d5d4e616a31b"
    },
    {
      "cell_type": "code",
      "execution_count": 89,
      "metadata": {
        "tags": []
      },
      "outputs": [
        {
          "output_type": "stream",
          "name": "stdout",
          "text": [
            "하니가 멍하고 울었습니다.\n",
            "나비가 야오옹하고 울었습니다.\n",
            "꿀이가 꿀!하고 울었습니다.\n",
            "크앙이가 크앙!하고 울었습니다.\n",
            "복순이가 멍멍하고 울었습니다."
          ]
        }
      ],
      "source": [
        "애완동물.모두울어보세요()"
      ],
      "id": "cf653130-e3fe-48ee-af83-b85b23affa35"
    },
    {
      "cell_type": "markdown",
      "metadata": {},
      "source": [
        "`#`\n",
        "\n",
        "`(풀이)`"
      ],
      "id": "f28232cf-d680-45af-a95b-cb120204b839"
    },
    {
      "cell_type": "code",
      "execution_count": 76,
      "metadata": {
        "tags": []
      },
      "outputs": [],
      "source": [
        "class 애완동물:\n",
        "    petlist = []\n",
        "    def __init__(self,name,sound):\n",
        "        self.name = name \n",
        "        self.sound = sound\n",
        "        print(f\"동물명 <{self.name}> 와 같이 살기로 결심했습니다.\") \n",
        "        애완동물.petlist.append(self)\n",
        "    def __call__(self):\n",
        "        print(f\"{self.name}가 {self.sound}하고 울었습니다.\")\n",
        "    @classmethod \n",
        "    def 모두울어보세요(cls):\n",
        "        for pet in cls.petlist:\n",
        "            pet()\n",
        "    @classmethod\n",
        "    def 모두모여보세요(cls):\n",
        "        text = \",\".join([pet.name for pet in cls.petlist])\n",
        "        print(f\"{text}가 모두 모였습니다.\")"
      ],
      "id": "7e5d7868-bc7e-4ab9-a71d-4375af59292d"
    }
  ],
  "nbformat": 4,
  "nbformat_minor": 5,
  "metadata": {
    "kernelspec": {
      "name": "python3",
      "display_name": "Python 3 (ipykernel)",
      "language": "python"
    },
    "language_info": {
      "name": "python",
      "codemirror_mode": {
        "name": "ipython",
        "version": "3"
      },
      "file_extension": ".py",
      "mimetype": "text/x-python",
      "nbconvert_exporter": "python",
      "pygments_lexer": "ipython3",
      "version": "3.11.8"
    }
  }
}