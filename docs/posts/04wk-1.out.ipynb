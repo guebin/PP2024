{
  "cells": [
    {
      "cell_type": "markdown",
      "metadata": {},
      "source": [
        "# 04wk-1: 퀴즈3\n",
        "\n",
        "최규빈  \n",
        "2024-03-27\n",
        "\n",
        "<a href=\"https://colab.research.google.com/github/guebin/PP2024/blob/main/posts/04wk-1.ipynb\"><img src=\"https://colab.research.google.com/assets/colab-badge.svg\" style=\"text-align: left\"></a>"
      ],
      "id": "c3c545ff-939c-4353-ac1a-c5772b10ba8a"
    },
    {
      "cell_type": "code",
      "execution_count": 1,
      "metadata": {
        "tags": []
      },
      "outputs": [],
      "source": [
        "#{{<video https://youtu.be/playlist?list=PLQqh36zP38-wXM85NABRDBPV7YNx7qdmb&si=DRfxWu7FSbPGPGvP >}}"
      ],
      "id": "30c60944-f8f9-49bf-9373-f29eb485bcf6"
    },
    {
      "cell_type": "markdown",
      "metadata": {},
      "source": [
        "> **Caution**\n",
        ">\n",
        "> -   전북대 학생들을 시험당일 학생증을 지참할 것. (출석체크 및\n",
        ">     본인확인) 학생증 외에 신분증 여권등도 가능.\n",
        "> -   부정행위 (카카오톡 채팅을 통한 코드공유, 생성형모델 사용, 대리시험\n",
        ">     등) 적발시 F 처리함.\n",
        "> -   퀴즈 중 지각할 경우 지각사실을 기록함. 하지만 별다른 감점은 하지\n",
        ">     않음.\n",
        "> -   `.ipynb` 파일 형태로 제출된 답안지만 채점하며 그 외의 형식\n",
        ">     (`.hwp`, `.py` 등)은 채점하지 않음. 즉 0점 처리함.\n",
        "\n",
        "# 1."
      ],
      "id": "af984aa0-459c-4439-8e80-3ce3246a332b"
    }
  ],
  "nbformat": 4,
  "nbformat_minor": 5,
  "metadata": {
    "kernelspec": {
      "name": "python3",
      "display_name": "Python 3 (ipykernel)",
      "language": "python"
    },
    "language_info": {
      "name": "python",
      "codemirror_mode": {
        "name": "ipython",
        "version": "3"
      },
      "file_extension": ".py",
      "mimetype": "text/x-python",
      "nbconvert_exporter": "python",
      "pygments_lexer": "ipython3",
      "version": "3.12.2"
    }
  }
}