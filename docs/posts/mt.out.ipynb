{
  "cells": [
    {
      "cell_type": "markdown",
      "metadata": {},
      "source": [
        "# 03wk-1: 퀴즈2\n",
        "\n",
        "최규빈  \n",
        "2024-03-20\n",
        "\n",
        "<a href=\"https://colab.research.google.com/github/guebin/PP2024/blob/main/posts/mt.ipynb\"><img src=\"https://colab.research.google.com/assets/colab-badge.svg\" style=\"text-align: left\"></a>"
      ],
      "id": "be2d4bc8-66a9-4c45-89f6-67fd6f276d7f"
    },
    {
      "cell_type": "code",
      "execution_count": 12,
      "metadata": {},
      "outputs": [],
      "source": [
        "#{{<video https://youtu.be/playlist?list=PLQqh36zP38-xkTDmutNidYnOkCgn2Zkdk&si=DPIWwBqzxkGHWIAr >}}"
      ],
      "id": "2c274e6e-60fb-491d-ae64-1d06fe856d0a"
    },
    {
      "cell_type": "markdown",
      "metadata": {},
      "source": [
        "# 문제 1. – 10점"
      ],
      "id": "5f665fdc-550a-4141-b850-9f3e6c3230c1"
    }
  ],
  "nbformat": 4,
  "nbformat_minor": 5,
  "metadata": {
    "kernelspec": {
      "name": "python3",
      "display_name": "Python 3 (ipykernel)",
      "language": "python"
    },
    "language_info": {
      "name": "python",
      "codemirror_mode": {
        "name": "ipython",
        "version": "3"
      },
      "file_extension": ".py",
      "mimetype": "text/x-python",
      "nbconvert_exporter": "python",
      "pygments_lexer": "ipython3",
      "version": "3.12.2"
    }
  }
}