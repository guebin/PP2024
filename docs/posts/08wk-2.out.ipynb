{
  "cells": [
    {
      "cell_type": "markdown",
      "metadata": {},
      "source": [
        "# 08wk-2: 랜덤모듈을 이용한 시뮬레이션 문제 예시\n",
        "\n",
        "최규빈  \n",
        "2024-04-26\n",
        "\n",
        "<a href=\"https://colab.research.google.com/github/guebin/PP2024/blob/main/posts/08wk-2.ipynb\"><img src=\"https://colab.research.google.com/assets/colab-badge.svg\" style=\"text-align: left\"></a>\n",
        "\n",
        "# 0. break 와 while 이해\n",
        "\n",
        "`(1)` 아래의 예시를 보고 `break` 의 사용방법을 파악하라."
      ],
      "id": "77f4ffff-d9a1-434d-b644-2dd54356fbb3"
    },
    {
      "cell_type": "code",
      "execution_count": 81,
      "metadata": {},
      "outputs": [
        {
          "output_type": "stream",
          "name": "stdout",
          "text": [
            "첫번째 모음은: e"
          ]
        }
      ],
      "source": [
        "# 주어진 문자열\n",
        "word = \"hello\"\n",
        "\n",
        "# 문자열에서 첫 번째 모음을 찾는 코드\n",
        "for letter in word:\n",
        "    if letter in \"aeiou\":  # 현재 문제가 모음인지 확인\n",
        "        print(f\"첫번째 모음은: {letter}\")\n",
        "        break  # 첫번째 모음을 찾으면 반복을 종료 \n"
      ],
      "id": "23cd35ef"
    },
    {
      "cell_type": "markdown",
      "metadata": {},
      "source": [
        "`(2)` 아래의 예시를 보고 `while`의 사용방법을 파악하라."
      ],
      "id": "15d1bfda-78b1-4707-9943-2b3f4b835a48"
    },
    {
      "cell_type": "code",
      "execution_count": 85,
      "metadata": {},
      "outputs": [
        {
          "output_type": "stream",
          "name": "stdout",
          "text": [
            "팩토리얼: 720"
          ]
        }
      ],
      "source": [
        "num = 6\n",
        "\n",
        "# 입력된 숫자의 팩토리얼을 계산\n",
        "factorial = 1\n",
        "while num > 0:\n",
        "    factorial = factorial*num\n",
        "    num = num - 1\n",
        "\n",
        "# 계산된 팩토리얼을 출력\n",
        "print(f\"팩토리얼:\", factorial)\n"
      ],
      "id": "49f37481"
    },
    {
      "cell_type": "code",
      "execution_count": 94,
      "metadata": {},
      "outputs": [
        {
          "output_type": "stream",
          "name": "stdout",
          "text": [
            "팩토리얼: 720"
          ]
        }
      ],
      "source": [
        "num = 6\n",
        "\n",
        "# 입력된 숫자의 팩토리얼을 계산\n",
        "factorial = 1\n",
        "while True:\n",
        "    factorial = factorial*num\n",
        "    num = num - 1\n",
        "    if num == 0: \n",
        "        break \n",
        "        \n",
        "# 계산된 팩토리얼을 출력\n",
        "print(f\"팩토리얼:\", factorial)\n"
      ],
      "id": "92f48550"
    },
    {
      "cell_type": "markdown",
      "metadata": {},
      "source": [
        "# 1. 가위바위보 하나빼기\n",
        "\n",
        "`(1)` 보람과 서연은 “가위바위보 하나빼기” 게임을 하려고 한다. 보람은\n",
        "현재 \\[‘가위’,‘바위’\\] 를 가지고 있으며 서연은 현재 \\[‘가위’,‘보’\\] 를\n",
        "가지고 있다. 보람과 서연이 가지고 있는 패 중 랜덤으로 하나를 낸다고\n",
        "하자. 보람과 서연중 누가 더 유리한가? 1000번의 시뮬레이션을 통하여\n",
        "검증하고 결과를 해석하라.\n",
        "\n",
        "# 2. 공든탑 쌓기\n",
        "\n",
        "규빈과 다호가 블록을 사용하여 탑을 쌓는다. 규빈은 한 번에 2개의 블록을\n",
        "사용하여 탑을 쌓지만, 실수로 탑을 무너뜨릴 확률이 50%이다. 한 번 무너진\n",
        "탑은 다시 처음부터 쌓아야 한다. 다호는 한 번에 1개의 블록을 사용하여\n",
        "신중하게 탑을 쌓는다. 다호는 천천히 탑을 쌓지만 실수로 탑을 무너뜨리지\n",
        "않는다.\n",
        "\n",
        "`(1)` 2층 높이의 탑을 쌓을 때, 규빈과 다호 중 누가 먼저 탑을 올릴 확률이\n",
        "높을까? 1000번의 시뮬레이션을 통해 결과를 확인해보라.\n",
        "\n",
        "# 3. 규빈과 하니의 내기\n",
        "\n",
        "`(1)` 앞면과 뒷면이 나올 확률이 각각 1/2인 동전을 생각하자. 하니와\n",
        "규빈은 이 동전을 연속으로 던져서 아래와 같은 룰을 정하여 내기를 하였다.\n",
        "\n",
        "-   동전을 연속으로 반복하여 던진다. 최근 2회의 결과가 (뒷면,앞면) 이\n",
        "    나오면 하니의 승리\n",
        "-   동전을 연속으로 반복하여 던진다. 최근 2회의 결과가 (뒷면,뒷면) 이\n",
        "    나오면 규빈의 승리\n",
        "\n",
        "이 내기는 하니가 유리한가? 규빈이 유리한가? 시뮬레이션을 통해 검증하라.\n",
        "\n",
        "> 힌트: 똑같이 유리함\n",
        "\n",
        "`(2)` 앞면과 뒷면이 나올 확률이 각각 1/2인 동전을 생각하자. 하니와\n",
        "규빈은 이 동전을 연속으로 던져서 아래와 같은 룰을 정하여 내기를 하였다.\n",
        "\n",
        "-   동전을 연속으로 반복하여 던진다. 최근 2회의 결과가 (앞면,뒷면) 이\n",
        "    나오면 하니의 승리\n",
        "-   동전을 연속으로 반복하여 던진다. 최근 2회의 결과가 (뒷면,뒷면) 이\n",
        "    나오면 규빈의 승리\n",
        "\n",
        "이 내기는 하니가 유리한가? 규빈이 유리한가? 시뮬레이션을 통해 검증하고\n",
        "이유를 설명하라.\n",
        "\n",
        "> 힌트: 하니가 유리함"
      ],
      "id": "74352667-c51a-4d9e-b2bb-d7c9b8fdb1cd"
    }
  ],
  "nbformat": 4,
  "nbformat_minor": 5,
  "metadata": {
    "kernelspec": {
      "name": "python3",
      "display_name": "Python 3 (ipykernel)",
      "language": "python"
    },
    "language_info": {
      "name": "python",
      "codemirror_mode": {
        "name": "ipython",
        "version": "3"
      },
      "file_extension": ".py",
      "mimetype": "text/x-python",
      "nbconvert_exporter": "python",
      "pygments_lexer": "ipython3",
      "version": "3.10.13"
    }
  }
}