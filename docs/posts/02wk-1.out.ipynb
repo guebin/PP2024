{
  "cells": [
    {
      "cell_type": "markdown",
      "metadata": {},
      "source": [
        "# 02wk-1: 퀴즈1\n",
        "\n",
        "최규빈  \n",
        "2024-03-13\n",
        "\n",
        "<a href=\"https://colab.research.google.com/github/guebin/PP2024/blob/main/posts/02wk-1.ipynb\"><img src=\"https://colab.research.google.com/assets/colab-badge.svg\" style=\"text-align: left\"></a>\n",
        "\n",
        "<https://youtu.be/playlist?list=PLQqh36zP38-xkTDmutNidYnOkCgn2Zkdk&si=DPIWwBqzxkGHWIAr>"
      ],
      "id": "cbf80d83-8028-4516-8725-d6d8e5de0c82"
    },
    {
      "cell_type": "code",
      "execution_count": 109,
      "metadata": {},
      "outputs": [],
      "source": [
        "import numpy as np\n",
        "import matplotlib.pyplot as plt "
      ],
      "id": "a90a9aec-141b-41ee-bb4d-3037b019af2c"
    },
    {
      "cell_type": "markdown",
      "metadata": {},
      "source": [
        "> **Warning**\n",
        ">\n",
        "> -   모든 문항은 부분점수 없음.\n",
        "> -   일부문항은 부분문제를 모두 맞출경우만 정답으로 인정함.\n",
        "> -   `.ipynb` 파일 형태로 제출된 답안지만 채점하며 그 외의 형식\n",
        ">     (`.hwp`등)은 채점하지 않음. 즉 0점 처리함. **제출방법 모르면\n",
        ">     물어볼것!**\n",
        "\n",
        "> **Caution**\n",
        ">\n",
        "> -   전북대 학생들을 시험당일 학생증을 지참할 것. (출석체크 및\n",
        ">     본인확인) 학생증 외에 신분증 여권등도 가능.\n",
        "> -   부정행위 (카카오톡 채팅을 통한 코드공유, 생성형모델 사용, 대리시험\n",
        ">     등) 적발시 F 처리함.\n",
        "> -   퀴즈 중 지각할 경우 지각사실을 기록함. 하지만 별다른 감점은 하지\n",
        ">     않음.\n",
        "\n",
        "# 문제 1. – 10점\n",
        "\n",
        "> 모두 맞출 경우만 정답으로 인정\n",
        "\n",
        "`(1)` 아래와 같이 50개의 숫자를 나열한 배열\n",
        "${\\bf x}=[x_1,x_2,\\dots,x_n]$을 상상하자."
      ],
      "id": "13d6c989-9b9e-4d00-b5ea-fe270a88eb2f"
    },
    {
      "cell_type": "code",
      "execution_count": 110,
      "metadata": {},
      "outputs": [],
      "source": [
        "x = np.array([0, 1, 1, 0, 1, 0, 1, 0, 0, 0, 1, 0, 0, 0, 0, 1, 0, 1, 0, 0, 0, 1,\n",
        "              0, 0, 0, 1, 0, 1, 1, 0, 1, 0, 1, 0, 0, 0, 0, 0, 0, 1, 0, 0, 1, 0,\n",
        "              0, 0, 0, 0, 1, 0])\n",
        "x"
      ],
      "id": "facee20c-d5ad-4f60-822f-34bc06e56d00"
    },
    {
      "cell_type": "markdown",
      "metadata": {},
      "source": [
        "위와 같은 $x_i$에 대하여 $0<p<1$에서의 아래와 같은 함수 $l(p)$를\n",
        "정의하라.\n",
        "\n",
        "$$l(p)=\\sum_{i=1}^nx_i \\log p +\\left(n-\\sum_{i=1}^{n}x_i \\right)\\log(1-p)$$\n",
        "\n",
        "파이썬을 이용하여 아래를 근사계산하라.\n",
        "\n",
        "$$\\lim_{h \\to 0}\\frac{l(0.32+h)-l(0.32)}{h}$$\n",
        "\n",
        "(풀이)"
      ],
      "id": "0fbeda43-0b87-472f-af8f-16ea1c04c2a7"
    },
    {
      "cell_type": "code",
      "execution_count": 111,
      "metadata": {},
      "outputs": [],
      "source": [
        "l = lambda p: 16*np.log(p) + (50-16)*np.log(1-p)\n",
        "h =0.000000001\n",
        "(l(0.32+h)-l(0.32))/h"
      ],
      "id": "22eba242-9d7a-4fdc-92bc-3c1e90664dc6"
    },
    {
      "cell_type": "markdown",
      "metadata": {},
      "source": [
        "`(2)` $0<p<1$의 범위에서 $l(p)$를 최대로 만드는 $p$의 값을 구하라. 즉\n",
        "$\\underset{p}{\\operatorname{argmax}} l(p)$를 구하라.\n",
        "\n",
        "(풀이)"
      ],
      "id": "124459ba-6f36-442b-adaa-5ea5621db9c4"
    },
    {
      "cell_type": "code",
      "execution_count": 112,
      "metadata": {},
      "outputs": [],
      "source": [
        "p = np.linspace(1/100,1,100)[:-1]\n",
        "p"
      ],
      "id": "cb0a99d3-0fae-4d40-9b5f-d7f7c1767381"
    },
    {
      "cell_type": "code",
      "execution_count": 113,
      "metadata": {},
      "outputs": [],
      "source": [
        "p[np.argmax(l(p))]"
      ],
      "id": "4ef0c34c-fbda-4998-9c48-6719e297ee4e"
    },
    {
      "cell_type": "markdown",
      "metadata": {},
      "source": [
        "# 문제 2. – 10점\n",
        "\n",
        "> 모두 맞출 경우만 정답으로 인정\n",
        "\n",
        "길이가 100인 벡터 ${\\bf x} = [x_0, x_1, \\dots, x_{99}]$를 아래와 같이\n",
        "선언하라."
      ],
      "id": "db8f2122-c72b-404f-a131-c5eb0ca69fc4"
    },
    {
      "cell_type": "code",
      "execution_count": 114,
      "metadata": {
        "tags": []
      },
      "outputs": [],
      "source": [
        "np.random.seed(43052)\n",
        "x = np.random.randn(100)"
      ],
      "id": "65738e32-e590-4838-979b-ca2e601997ff"
    },
    {
      "cell_type": "markdown",
      "metadata": {},
      "source": [
        "`(1)` $x_0$의 값은 얼마인가?\n",
        "\n",
        "(풀이)"
      ],
      "id": "871502ff-0aad-4784-be1f-4a65e0c99acf"
    },
    {
      "cell_type": "code",
      "execution_count": 115,
      "metadata": {},
      "outputs": [],
      "source": [
        "x[0]"
      ],
      "id": "c00bef70-50ca-40f1-891b-7cbb3e73f3bf"
    },
    {
      "cell_type": "markdown",
      "metadata": {},
      "source": [
        "`(2)` $x_{99}$의 값은 얼마인가?\n",
        "\n",
        "(풀이)"
      ],
      "id": "b684e73c-5367-4023-992e-93357dee6fdf"
    },
    {
      "cell_type": "code",
      "execution_count": 116,
      "metadata": {},
      "outputs": [],
      "source": [
        "x[99]"
      ],
      "id": "0671ca30-a4c4-42db-9ef1-395f55ba913f"
    },
    {
      "cell_type": "markdown",
      "metadata": {},
      "source": [
        "`(3)` $\\sum_{i=0}^{99} x_i$의 값은 얼마인가?\n",
        "\n",
        "(풀이)"
      ],
      "id": "639bfa98-baad-4fda-8073-2ce66a390b29"
    },
    {
      "cell_type": "code",
      "execution_count": 117,
      "metadata": {},
      "outputs": [],
      "source": [
        "np.sum(x)"
      ],
      "id": "7c81fb9f-5915-4da6-8179-8c059a2a72a7"
    },
    {
      "cell_type": "markdown",
      "metadata": {},
      "source": [
        "`(4)` $\\sum_{i=22}^{55} x_i$의 값은 얼마인가?\n",
        "\n",
        "(풀이)"
      ],
      "id": "831c0959-7718-4036-afd6-2104890f9174"
    },
    {
      "cell_type": "code",
      "execution_count": 118,
      "metadata": {},
      "outputs": [],
      "source": [
        "np.sum(x[22:56])"
      ],
      "id": "9c980b5f-65c4-4dd9-a723-a5ac597d8bce"
    },
    {
      "cell_type": "markdown",
      "metadata": {},
      "source": [
        "# 문제 3. – 10점\n",
        "\n",
        "길이가 100인 벡터 ${\\bf x} = [x_0, x_1, \\dots, x_{99}]$를 아래와 같이\n",
        "선언하라."
      ],
      "id": "aab752f2-bf06-4c34-ad49-d45ad2941065"
    },
    {
      "cell_type": "code",
      "execution_count": 119,
      "metadata": {},
      "outputs": [],
      "source": [
        "np.random.seed(43052)\n",
        "x = np.random.randn(100)"
      ],
      "id": "9ae2a15f-bd51-4bd2-9b32-104d6d6c5391"
    },
    {
      "cell_type": "markdown",
      "metadata": {},
      "source": [
        "이 벡터에 대하여\n",
        "\n",
        "-   $a=\\sum_{i=0}^{24}x_i$\n",
        "-   $b=\\sum_{i=25}^{49}x_i$\n",
        "-   $c=\\sum_{i=50}^{74}x_i$\n",
        "-   $d=\\sum_{i=75}^{99}x_i$\n",
        "\n",
        "의 값을 각각 조사하라. a,b,c,d 중 가장 큰 값은 무엇인가?\n",
        "\n",
        "(풀이)"
      ],
      "id": "7a49a0bc-5f45-4514-bf60-a8ed99df47af"
    },
    {
      "cell_type": "code",
      "execution_count": 120,
      "metadata": {},
      "outputs": [],
      "source": [
        "a = np.sum(x[:25])\n",
        "b = np.sum(x[25:50])\n",
        "c = np.sum(x[50:75])\n",
        "d = np.sum(x[75:])"
      ],
      "id": "3aebd49c-ab36-495d-9706-e0d11a6328b3"
    },
    {
      "cell_type": "code",
      "execution_count": 121,
      "metadata": {},
      "outputs": [],
      "source": [
        "a,b,c,d"
      ],
      "id": "f58a91d1-b778-4103-83fc-b9f493a3d112"
    },
    {
      "cell_type": "markdown",
      "metadata": {},
      "source": [
        "# 문제 4. – 10점\n",
        "\n",
        "> 모두 맞출 경우만 정답으로 인정\n",
        "\n",
        "`(1)` `lambda`를 이용하여 $f(x)=\\sin(x)$에 대응하는 함수를 선언하라.\n",
        "\n",
        "(풀이)"
      ],
      "id": "324832e3-f886-466c-b661-fd6306d5a9f6"
    },
    {
      "cell_type": "code",
      "execution_count": 122,
      "metadata": {},
      "outputs": [],
      "source": [
        "lambda x: np.sin(x)"
      ],
      "id": "a5d5cdf5-8e3b-4b3b-acd5-4197a6ba2bdd"
    },
    {
      "cell_type": "markdown",
      "metadata": {},
      "source": [
        "`(2)` `def`를 이용하여 $g(x)=\\cos(2x)$에 대응하는 함수를 선언하라.\n",
        "\n",
        "(풀이)"
      ],
      "id": "014b8fc0-9ee5-4785-a4d5-8d4385251a21"
    },
    {
      "cell_type": "code",
      "execution_count": 123,
      "metadata": {},
      "outputs": [],
      "source": [
        "def g(x):\n",
        "    return np.cos(2*x)"
      ],
      "id": "1b8a8278-0581-4384-acf8-99033674f4b0"
    },
    {
      "cell_type": "markdown",
      "metadata": {},
      "source": [
        "`(3)` 임의의 벡터 ${\\bf x}=[x_0,\\dots,x_{n-1}]$ 이 왔을때, ${\\bf x}$의\n",
        "최대값을 $x_{max}$ 라고 하고 최소값을 $x_{min}$이라고 하자. 예를들어\n",
        "\n",
        "$${\\bf x} = [1,2,3,0]$$\n",
        "\n",
        "의 경우 $x_{max}=3$ 이고 $x_{min}=0$ 이다. 벡터 ${\\bf x}$를 입력으로\n",
        "하고 출력으로 $x_{max}-x_{min}$의 계산값을 리턴하는 함수를 구현하라.\n",
        "\n",
        "(풀이)"
      ],
      "id": "a4766fea-9879-4b23-a47d-0326e51d0b57"
    },
    {
      "cell_type": "code",
      "execution_count": 124,
      "metadata": {},
      "outputs": [],
      "source": [
        "f = lambda x: np.max(x) - np.min(x)"
      ],
      "id": "be56fef9-c392-482e-9cb3-82769ed76ce9"
    },
    {
      "cell_type": "code",
      "execution_count": 125,
      "metadata": {},
      "outputs": [],
      "source": [
        "f([1,2,3,0])"
      ],
      "id": "2a865bac-129f-4792-b218-9551ae8d0db7"
    },
    {
      "cell_type": "code",
      "execution_count": 126,
      "metadata": {},
      "outputs": [],
      "source": [
        "f([-1,2,4,10])"
      ],
      "id": "a2c651b4-dce2-4a54-b357-3d3c45a261d0"
    },
    {
      "cell_type": "markdown",
      "metadata": {},
      "source": [
        "# 문제 5. – 10점\n",
        "\n",
        "> 모두 맞출 경우만 정답으로 인정\n",
        "\n",
        "아래의 코드를 실행하여 `x`를 생성하라."
      ],
      "id": "405ab0ef-1f1a-4b02-b081-060413994d3c"
    },
    {
      "cell_type": "code",
      "execution_count": 127,
      "metadata": {
        "tags": []
      },
      "outputs": [],
      "source": [
        "np.random.seed(43052)\n",
        "x = np.random.rand(4305)"
      ],
      "id": "c0c5d947-0797-4976-ba7c-411871985a98"
    },
    {
      "cell_type": "markdown",
      "metadata": {},
      "source": [
        "`(1)` 생성된 $x_i$ 중 0.65와 가장 가까운 값을 출력하라.\n",
        "\n",
        "(풀이)"
      ],
      "id": "24747873-a40a-4539-812e-43551fc306cf"
    },
    {
      "cell_type": "code",
      "execution_count": 128,
      "metadata": {},
      "outputs": [],
      "source": [
        "x[np.argmin(np.abs(x-0.65))]"
      ],
      "id": "783bc6ba-6e80-4041-b8d3-47ebd30516cf"
    },
    {
      "cell_type": "markdown",
      "metadata": {},
      "source": [
        "`(2)` 생성된 값의 평균을 구하라.\n",
        "\n",
        "**hint** $\\frac{1}{4305}\\sum_{i=1}^{4305}x_i$를 계산하면 된다. 아니면\n",
        "`np.mean()` 함수를 이용해도된다.\n",
        "\n",
        "(풀이)"
      ],
      "id": "26b7aa8d-b186-4529-874c-301ea61c3058"
    },
    {
      "cell_type": "code",
      "execution_count": 129,
      "metadata": {},
      "outputs": [],
      "source": [
        "np.sum(x)/4305, np.mean(x)"
      ],
      "id": "e586d9f4-6bc6-44ba-9396-93dd5c82be02"
    },
    {
      "cell_type": "markdown",
      "metadata": {},
      "source": [
        "`(3)` `(2)`에서 계산된 평균값과 가장 가까운 $x_i$값을 출력하라.\n",
        "\n",
        "(풀이)"
      ],
      "id": "d3fce835-0fc3-43b4-b565-4e13fd66b393"
    },
    {
      "cell_type": "code",
      "execution_count": 130,
      "metadata": {},
      "outputs": [],
      "source": [
        "x[np.argmin(np.abs(x-np.mean(x)))]"
      ],
      "id": "19761671-cafb-4f50-a956-e46e679c27b3"
    },
    {
      "cell_type": "markdown",
      "metadata": {},
      "source": [
        "# 문제 6. – 20점\n",
        "\n",
        "$\\frac{\\pi}{2}\\leq x \\leq \\pi$ 에서 $f(x)=\\sin(\\frac{3}{2}x)$ 와\n",
        "$g(x)=\\cos(2x)\\sin(5x)$ 의 교점의 좌표를 구하라.\n",
        "\n",
        "> 근사값만구해도 정답으로 인정함\n",
        "\n",
        "(풀이)"
      ],
      "id": "07577df4-65ca-4c98-909f-9204ea81b449"
    },
    {
      "cell_type": "code",
      "execution_count": 131,
      "metadata": {},
      "outputs": [],
      "source": [
        "x = np.linspace(np.pi/2, np.pi,1000000)\n",
        "f = lambda x: np.sin(3/2*x) \n",
        "g = lambda x: np.cos(2*x)*np.sin(5*x)"
      ],
      "id": "f330a5cc-3654-4e22-8c6c-62719d9dc056"
    },
    {
      "cell_type": "code",
      "execution_count": 132,
      "metadata": {},
      "outputs": [
        {
          "output_type": "display_data",
          "metadata": {},
          "data": {
            "image/png": "[encoded data removed]"
          }
        }
      ],
      "source": [
        "plt.plot(x,f(x))\n",
        "plt.plot(x,g(x))"
      ],
      "id": "96528e22-6b10-49d5-bac0-309d219d2e67"
    },
    {
      "cell_type": "code",
      "execution_count": 133,
      "metadata": {},
      "outputs": [],
      "source": [
        "xx = x[np.argmin(np.abs(f(x)-g(x)))]\n",
        "xx"
      ],
      "id": "459874ce-7366-4a72-ad5b-57051523663f"
    },
    {
      "cell_type": "code",
      "execution_count": 134,
      "metadata": {},
      "outputs": [],
      "source": [
        "f(xx), g(xx)"
      ],
      "id": "c479ad32-5fd4-4274-b436-0a50190a4ec1"
    },
    {
      "cell_type": "markdown",
      "metadata": {},
      "source": [
        "# 문제 7. – 30점\n",
        "\n",
        "`(1)` 무한급수 $\\sum_{n=1}^{\\infty}(\\frac{1}{2})^n$ 의 수렴 및 발산을\n",
        "파이썬을 이용하여 판정하라. – 10점\n",
        "\n",
        "**힌트**\n",
        "\n",
        "$n=10, 20, 30, ..., 100$ 등에서 $S_n=\\sum_{k=1}^{n}a_k$의 값을\n",
        "조사해보고 수렴성을 판단하라.\n",
        "\n",
        "(풀이)"
      ],
      "id": "c450b27a-7f22-47c4-9625-eee10f917e55"
    },
    {
      "cell_type": "code",
      "execution_count": 135,
      "metadata": {},
      "outputs": [],
      "source": [
        "n = np.linspace(1,100,100)\n",
        "an = (1/2)**n\n",
        "Sn = np.cumsum(an)"
      ],
      "id": "d4ffea5a-4cb8-4f63-b198-4f5fc8b41711"
    },
    {
      "cell_type": "code",
      "execution_count": 136,
      "metadata": {},
      "outputs": [],
      "source": [
        "Sn"
      ],
      "id": "ef2bc2fe-6ccf-4ebe-9093-735fbd9ab8b3"
    },
    {
      "cell_type": "markdown",
      "metadata": {},
      "source": [
        "수렴한다\n",
        "\n",
        "`(2)` 무한급수 $\\sum_{n=1}^{\\infty}\\frac{1}{n}$ 의 수렴 및 발산을\n",
        "파이썬을 이용하여 판정하라. – 20점\n",
        "\n",
        "**힌트** – `(1)`번과 동일한 테크닉\n",
        "\n",
        "(풀이)"
      ],
      "id": "1c4edd46-6a91-4373-b45e-8bf8f85205f8"
    },
    {
      "cell_type": "code",
      "execution_count": 137,
      "metadata": {},
      "outputs": [],
      "source": [
        "n = np.linspace(1,100000000,100000000)\n",
        "an = 1/n\n",
        "Sn = np.cumsum(an)"
      ],
      "id": "1f983878-3e22-4252-bd94-33ef84f15db0"
    },
    {
      "cell_type": "code",
      "execution_count": 138,
      "metadata": {},
      "outputs": [],
      "source": [
        "Sn"
      ],
      "id": "da1f2c54-cb19-4e45-99b8-a5643d0e380c"
    },
    {
      "cell_type": "markdown",
      "metadata": {},
      "source": [
        "발산한다\n",
        "\n",
        "# 성적분포"
      ],
      "id": "f66dc365-39d3-4ccd-ba01-1e2206ab8334"
    },
    {
      "cell_type": "code",
      "execution_count": 22,
      "metadata": {
        "tags": []
      },
      "outputs": [],
      "source": [
        "import pandas as pd"
      ],
      "id": "4ba08110-c32a-4856-bc03-1e44294e3de6"
    },
    {
      "cell_type": "code",
      "execution_count": 24,
      "metadata": {
        "tags": []
      },
      "outputs": [],
      "source": [
        "pd.read_csv(\"2wk.csv\")['2wk'].sort_values().to_numpy()"
      ],
      "id": "b8c041a5-f4f0-4993-a64a-4b633d0b0644"
    }
  ],
  "nbformat": 4,
  "nbformat_minor": 5,
  "metadata": {
    "kernelspec": {
      "name": "python3",
      "display_name": "Python 3 (ipykernel)",
      "language": "python"
    },
    "language_info": {
      "name": "python",
      "codemirror_mode": {
        "name": "ipython",
        "version": "3"
      },
      "file_extension": ".py",
      "mimetype": "text/x-python",
      "nbconvert_exporter": "python",
      "pygments_lexer": "ipython3",
      "version": "3.11.8"
    }
  }
}