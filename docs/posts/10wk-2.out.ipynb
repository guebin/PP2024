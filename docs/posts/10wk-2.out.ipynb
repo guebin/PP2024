{
  "cells": [
    {
      "cell_type": "markdown",
      "metadata": {},
      "source": [
        "# 10wk-2: `pandas`, 반복문자투리, 변수의범위\n",
        "\n",
        "최규빈  \n",
        "2024-05-10\n",
        "\n",
        "<a href=\"https://colab.research.google.com/github/guebin/PP2024/blob/main/posts/10wk-2.ipynb\"><img src=\"https://colab.research.google.com/assets/colab-badge.svg\" style=\"text-align: left\"></a>\n",
        "\n",
        "# 1. 강의영상\n",
        "\n",
        "<https://youtu.be/playlist?list=PLQqh36zP38-xKLMTjfFSp1PMSYsgSx5zd&si=v9NqSzwmAbbi3BiB>\n",
        "\n",
        "# 2. Imports"
      ],
      "id": "26d6f821-de7f-456c-895f-d3a790977284"
    },
    {
      "cell_type": "code",
      "execution_count": 503,
      "metadata": {
        "tags": []
      },
      "outputs": [],
      "source": [
        "import numpy as np\n",
        "import pandas as pd\n",
        "import matplotlib.pyplot as plt\n",
        "import matplotlib as mpl\n",
        "import itertools"
      ],
      "id": "11b86719-20fe-423d-8a63-c5f792e91811"
    },
    {
      "cell_type": "markdown",
      "metadata": {},
      "source": [
        "# 3. `Pandas`\n",
        "\n",
        "## A. `numpy` 대비 장점?\n",
        "\n",
        "`-` 장점1: 모든 자료형이 동일할 필요가 없다.\n",
        "\n",
        "(문제) – 아래의 리스트에서 능력치가 90 보다 큰 선수들을 출력하라."
      ],
      "id": "78eee93c-9e55-4895-9d20-a3f970df70ff"
    },
    {
      "cell_type": "code",
      "execution_count": 3,
      "metadata": {
        "tags": []
      },
      "outputs": [],
      "source": [
        "lst = [['Bruno Fernandes', 'Europe', 88],\n",
        "       ['L. Goretzka', 'Europe', 87],\n",
        "       ['L. Suárez', 'South America', 88],\n",
        "       ['K. De Bruyne', 'Europe', 91],\n",
        "       ['M. Acuña', 'South America', 84],\n",
        "       ['J. Kimmich', 'Europe', 89]]"
      ],
      "id": "c3fc0d17-db54-408d-8805-b8d9b0623b85"
    },
    {
      "cell_type": "markdown",
      "metadata": {},
      "source": [
        "(풀이) – 아마 이렇게.."
      ],
      "id": "ba4574e0-4d24-451a-9d25-b6577d764e44"
    },
    {
      "cell_type": "code",
      "execution_count": 14,
      "metadata": {
        "tags": []
      },
      "outputs": [],
      "source": [
        "[[name,continent,x] for name, continent, x in lst if x>90]"
      ],
      "id": "65cdf85c-b20f-4cf2-bde9-6a5a3d54d069"
    },
    {
      "cell_type": "markdown",
      "metadata": {},
      "source": [
        "(풀이) – 말린다면.."
      ],
      "id": "1002033d-4656-4ed8-aeb0-059acb5fd80a"
    },
    {
      "cell_type": "code",
      "execution_count": 15,
      "metadata": {
        "tags": []
      },
      "outputs": [],
      "source": [
        "arr = np.array(lst)\n",
        "arr"
      ],
      "id": "cc09fcb8-9f8a-49a1-b22e-a680de44722f"
    },
    {
      "cell_type": "code",
      "execution_count": 17,
      "metadata": {
        "tags": []
      },
      "outputs": [],
      "source": [
        "arr[arr[:,2] > 90]"
      ],
      "id": "e99d9bf5-54f6-42c3-b015-eac2a51821c6"
    },
    {
      "cell_type": "markdown",
      "metadata": {},
      "source": [
        "(풀이) – 판다스였다면"
      ],
      "id": "17210919-1c7c-4516-be51-487c56028cd8"
    },
    {
      "cell_type": "code",
      "execution_count": 25,
      "metadata": {
        "tags": []
      },
      "outputs": [],
      "source": [
        "df = pd.DataFrame(lst)\n",
        "df"
      ],
      "id": "5bfbb481-46c5-42f0-b7ba-b1ae4af6cdee"
    },
    {
      "cell_type": "code",
      "execution_count": 26,
      "metadata": {
        "tags": []
      },
      "outputs": [],
      "source": [
        "df[df.iloc[:,2] > 90]"
      ],
      "id": "f57aee58-5178-480d-9383-385840b9505a"
    },
    {
      "cell_type": "markdown",
      "metadata": {},
      "source": [
        "(분석)"
      ],
      "id": "679d72c4-4c6c-46b7-b776-d9c9bf17f842"
    },
    {
      "cell_type": "code",
      "execution_count": 27,
      "metadata": {
        "tags": []
      },
      "outputs": [],
      "source": [
        "arr[:,0],arr[:,1],arr[:,2] # 문자열,문자열,문자열 -> 각 col의 자료형이 반드시 같아야함"
      ],
      "id": "a33262e0-a748-4697-af94-979d754aac54"
    },
    {
      "cell_type": "code",
      "execution_count": 28,
      "metadata": {
        "tags": []
      },
      "outputs": [],
      "source": [
        "df.iloc[:,0], df.iloc[:,1], df.iloc[:,2] # object,object,int -> 각 col의 자료형이 다를수도있음."
      ],
      "id": "ce361179-bf66-4a8d-9d7b-5d46419f7f1e"
    },
    {
      "cell_type": "markdown",
      "metadata": {},
      "source": [
        "`-` 장점2: 인덱싱과 해싱을 동시에 할 수 있다. (순서형자료형과\n",
        "맵핑형자료형의 장점을 동시에 가짐)\n",
        "\n",
        "-   list의 장점 $\\to$ numpy 가 계승\n",
        "-   dct의 장점 $\\to$ pandas 가 계승 + list/numpy의 장점 일부흡수"
      ],
      "id": "708ed0eb-5804-4aaf-9dc7-6dbe19f70ae2"
    },
    {
      "cell_type": "code",
      "execution_count": 34,
      "metadata": {
        "tags": []
      },
      "outputs": [],
      "source": [
        "dct = {'att':[30,40,50],'mid':[50,60,70]}\n",
        "df = pd.DataFrame(dct)\n",
        "df"
      ],
      "id": "97121626-71a5-46f0-bc22-b6bf94b7bb70"
    },
    {
      "cell_type": "code",
      "execution_count": 37,
      "metadata": {
        "tags": []
      },
      "outputs": [],
      "source": [
        "df['att'], dct['att'] # 해싱"
      ],
      "id": "d460bd3a-966f-486b-bce5-184815dc8769"
    },
    {
      "cell_type": "code",
      "execution_count": 183,
      "metadata": {
        "tags": []
      },
      "outputs": [],
      "source": [
        "df.iloc[[1],[0,1]] # 인덱싱"
      ],
      "id": "718e47b3-5a46-4c07-91ae-31c96c9e35cc"
    },
    {
      "cell_type": "markdown",
      "metadata": {},
      "source": [
        "> 느낌: 판다스데이터프레임은 엑셀 그자체!\n",
        "\n",
        "## B. 선언방법\n",
        "\n",
        "`-` 방법1: dictionary에서 만든다. (맵핑형자료에서 생성)"
      ],
      "id": "b92b9340-5ee2-4bd1-842a-bf98644bef96"
    },
    {
      "cell_type": "code",
      "execution_count": 31,
      "metadata": {},
      "outputs": [],
      "source": [
        "pd.DataFrame({'att':[30,40,50],'mid':[50,60,70]})"
      ],
      "id": "b4d6e35a-7167-4d75-a5a2-19a14998a3d8"
    },
    {
      "cell_type": "code",
      "execution_count": 43,
      "metadata": {
        "tags": []
      },
      "outputs": [],
      "source": [
        "pd.DataFrame({'att':(30,40,50),'mid':(50,60,70)})"
      ],
      "id": "8bd2b02e-4d23-45be-9527-66b4be2782de"
    },
    {
      "cell_type": "code",
      "execution_count": 45,
      "metadata": {
        "tags": []
      },
      "outputs": [],
      "source": [
        "pd.DataFrame({'att':np.array([30,40,50]),'mid':np.array([50,60,70])})"
      ],
      "id": "614345d6-e8e7-4cc3-a2d5-9ccb906abf80"
    },
    {
      "cell_type": "markdown",
      "metadata": {},
      "source": [
        "`-` 방법2: ndarray 혹은 list 등에서 만든다. (보통 2차원의 중첩구조를\n",
        "가지는 순서형자료에서 생성하는게 일반적임)"
      ],
      "id": "21cd49f7-84d8-40bf-ac1d-69b6a32a5eaf"
    },
    {
      "cell_type": "code",
      "execution_count": 50,
      "metadata": {
        "tags": []
      },
      "outputs": [],
      "source": [
        "np.arange(2*3).reshape(2,3)"
      ],
      "id": "f51a4494-95f4-49a7-9245-5dccbdd75f87"
    },
    {
      "cell_type": "code",
      "execution_count": 51,
      "metadata": {
        "tags": []
      },
      "outputs": [],
      "source": [
        "pd.DataFrame(np.arange(2*3).reshape(2,3))"
      ],
      "id": "c97e8b02-04bf-49dc-b04a-9b07730389a5"
    },
    {
      "cell_type": "markdown",
      "metadata": {},
      "source": [
        "## C. 자료형, len, shape, for문의 반복변수"
      ],
      "id": "f97458eb-c8d7-4090-83b4-5aa31249d38b"
    },
    {
      "cell_type": "code",
      "execution_count": 53,
      "metadata": {
        "tags": []
      },
      "outputs": [],
      "source": [
        "df = pd.DataFrame({'att':[30,40,50],'mid':[5,45,90]})\n",
        "df"
      ],
      "id": "c2eba368-056b-4a4f-b0fd-fcb84f567802"
    },
    {
      "cell_type": "markdown",
      "metadata": {},
      "source": [
        "`-` type"
      ],
      "id": "c8c0292a-a5b4-43ff-a415-bf2cbc27fa50"
    },
    {
      "cell_type": "code",
      "execution_count": 54,
      "metadata": {},
      "outputs": [],
      "source": [
        "type(df)"
      ],
      "id": "53e3a8b6-2b55-4a1c-bd3d-6e14bc8e1c6c"
    },
    {
      "cell_type": "markdown",
      "metadata": {},
      "source": [
        "`-` len"
      ],
      "id": "cecda402-70c3-4b50-b5ce-d20e269540a3"
    },
    {
      "cell_type": "code",
      "execution_count": 55,
      "metadata": {},
      "outputs": [],
      "source": [
        "len(df) # row의 갯수 "
      ],
      "id": "bafd2e9b-e393-4b03-a30b-28ec08b3496b"
    },
    {
      "cell_type": "markdown",
      "metadata": {},
      "source": [
        "`-` shape"
      ],
      "id": "f87fac2e-eeec-4c4a-b817-abf4f0c0dd17"
    },
    {
      "cell_type": "code",
      "execution_count": 56,
      "metadata": {},
      "outputs": [],
      "source": [
        "df.shape "
      ],
      "id": "605fdfe5-a6f7-42f3-bbb4-dc479451ed2d"
    },
    {
      "cell_type": "markdown",
      "metadata": {},
      "source": [
        "`-` for문의 반복변수"
      ],
      "id": "a1052066-4751-4a3f-980d-08f2d9e03bee"
    },
    {
      "cell_type": "code",
      "execution_count": 57,
      "metadata": {},
      "outputs": [
        {
          "output_type": "stream",
          "name": "stdout",
          "text": [
            "att\n",
            "mid"
          ]
        }
      ],
      "source": [
        "for k in df:\n",
        "    print(k) # 딕셔너리같죠"
      ],
      "id": "d5fb9871-14aa-438c-8857-2cad439d1860"
    },
    {
      "cell_type": "code",
      "execution_count": 58,
      "metadata": {},
      "outputs": [
        {
          "output_type": "stream",
          "name": "stdout",
          "text": [
            "att\n",
            "mid"
          ]
        }
      ],
      "source": [
        "for k in {'att':[30,40,50],'mid':[5,45,90]}: \n",
        "    print(k)"
      ],
      "id": "93842bef-ce1b-4535-891b-95daeafca30e"
    },
    {
      "cell_type": "markdown",
      "metadata": {},
      "source": [
        "**참고:** df는 진짜 딕셔너리 느낌 강해요"
      ],
      "id": "18e64452-044e-4bbb-a731-cf753f3914ad"
    },
    {
      "cell_type": "code",
      "execution_count": 75,
      "metadata": {
        "tags": []
      },
      "outputs": [],
      "source": [
        "df.keys()"
      ],
      "id": "0cb39c92-d89d-4a53-ab3f-c41e9b2c0628"
    },
    {
      "cell_type": "code",
      "execution_count": 76,
      "metadata": {
        "tags": []
      },
      "outputs": [
        {
          "output_type": "stream",
          "name": "stdout",
          "text": [
            "att\n",
            "0    30\n",
            "1    40\n",
            "2    50\n",
            "Name: att, dtype: int64\n",
            "\n",
            "\n",
            "mid\n",
            "0     5\n",
            "1    45\n",
            "2    90\n",
            "Name: mid, dtype: int64\n",
            "\n"
          ]
        }
      ],
      "source": [
        "for k,v in df.items():\n",
        "    print(k)\n",
        "    print(v)\n",
        "    print('\\n')"
      ],
      "id": "36f7b28b-b10d-4a99-916b-aa8058ea65db"
    },
    {
      "cell_type": "markdown",
      "metadata": {},
      "source": [
        "## D. `pd.Series`\n",
        "\n",
        "`-` 2차원 ndarray가 pd.DataFrame에 대응한다면 1차원 ndarray는\n",
        "pd.Series에 대응한다."
      ],
      "id": "70fb70ae-fc96-4690-844c-28b96caccd19"
    },
    {
      "cell_type": "code",
      "execution_count": 108,
      "metadata": {
        "tags": []
      },
      "outputs": [],
      "source": [
        "s=pd.Series(np.random.randn(10))\n",
        "s"
      ],
      "id": "7b4395d4-76d8-48d9-b969-704d9eddcbf3"
    },
    {
      "cell_type": "code",
      "execution_count": 109,
      "metadata": {
        "tags": []
      },
      "outputs": [],
      "source": [
        "type(s)"
      ],
      "id": "351e0b2d-83a1-4a25-b9d3-92682a621a1f"
    },
    {
      "cell_type": "code",
      "execution_count": 110,
      "metadata": {
        "tags": []
      },
      "outputs": [],
      "source": [
        "len(s)"
      ],
      "id": "3c0a33fe-64de-43e0-bc62-e6185e5263ee"
    },
    {
      "cell_type": "code",
      "execution_count": 197,
      "metadata": {
        "tags": []
      },
      "outputs": [],
      "source": [
        "s.shape"
      ],
      "id": "8d5c1572-044e-4b0d-a06e-a8ab94036b8c"
    },
    {
      "cell_type": "code",
      "execution_count": 111,
      "metadata": {
        "tags": []
      },
      "outputs": [
        {
          "output_type": "stream",
          "name": "stdout",
          "text": [
            "0.2523733143388311\n",
            "-1.0753068117512616\n",
            "-0.36870536789029595\n",
            "0.7845995696103139\n",
            "0.5499055415241653\n",
            "-0.47997013360871355\n",
            "-1.9911174129623606\n",
            "-0.40733045301228693\n",
            "-0.13110029817116495\n",
            "0.38815521816133036"
          ]
        }
      ],
      "source": [
        "for x in s: \n",
        "    print(x)"
      ],
      "id": "da779d65-bd5b-49f7-b0f3-a5524059983a"
    },
    {
      "cell_type": "markdown",
      "metadata": {},
      "source": [
        "# 4. Pandas: 행과 열의 선택\n",
        "\n",
        "`-` 두 가지 형태의 데이터프레임"
      ],
      "id": "33cee435-1b08-43d0-b4ed-918d9c081efb"
    },
    {
      "cell_type": "code",
      "execution_count": 112,
      "metadata": {
        "tags": []
      },
      "outputs": [],
      "source": [
        "dct = {'date': ['12/30','12/31','01/01','01/02','01/03'], 'X1': [65,95,65,55,80], 'X2': [55,100,90,80,30], 'X3': [50,50,60,75,30], 'X4': [40,80,30,80,100]}\n",
        "df = pd.DataFrame(dct) \n",
        "df"
      ],
      "id": "c59dd581-e9c8-43b8-94a3-c29020cc20a7"
    },
    {
      "cell_type": "code",
      "execution_count": 114,
      "metadata": {
        "tags": []
      },
      "outputs": [],
      "source": [
        "ts = pd.DataFrame({'X1': [65,95,65,55,80], 'X2': [55,100,90,80,30], 'X3': [50,50,60,75,30], 'X4': [40,80,30,80,100]}, index=['12/30','12/31','01/01','01/02','01/03']) \n",
        "ts"
      ],
      "id": "62e2ebcc-c02d-4428-968a-35f44b259e6d"
    },
    {
      "cell_type": "markdown",
      "metadata": {},
      "source": [
        "## A. 열의 선택"
      ],
      "id": "6b3642a7-5fda-4bc8-9dba-ec2010174d3a"
    },
    {
      "cell_type": "code",
      "execution_count": 126,
      "metadata": {
        "tags": []
      },
      "outputs": [],
      "source": [
        "df"
      ],
      "id": "a7c8f794-24ea-4fc6-8766-d83fd17d2a00"
    },
    {
      "cell_type": "markdown",
      "metadata": {},
      "source": [
        "`-` 방법1: `df.?` + col-name"
      ],
      "id": "6166a5de-15d5-45d5-97ee-3394b6af3b2f"
    },
    {
      "cell_type": "code",
      "execution_count": 139,
      "metadata": {
        "tags": []
      },
      "outputs": [],
      "source": [
        "# df.X1"
      ],
      "id": "d37ce581-ad47-4203-9f9e-9e18f15e4ec4"
    },
    {
      "cell_type": "markdown",
      "metadata": {},
      "source": [
        "`-` 방법2: `df[?]` + str, \\[str,str\\]"
      ],
      "id": "9de2416b-ed3e-4527-8274-b01136529a0d"
    },
    {
      "cell_type": "code",
      "execution_count": 138,
      "metadata": {
        "tags": []
      },
      "outputs": [],
      "source": [
        "# df['X1'] # str \n",
        "# df[['X1']] # [str]\n",
        "# df[['X1','X3']] # [str,str]"
      ],
      "id": "641109e2-8452-4ab2-8268-7bdd2d6609ac"
    },
    {
      "cell_type": "markdown",
      "metadata": {},
      "source": [
        "`-` 방법3: `df.iloc[:,?]` + int, int:int, \\[int,int\\], \\[bool,bool\\],\n",
        "range"
      ],
      "id": "78f05d92-429a-4e65-bb40-7e7ebc6c2d69"
    },
    {
      "cell_type": "code",
      "execution_count": 175,
      "metadata": {
        "tags": []
      },
      "outputs": [],
      "source": [
        "# df.iloc[:,0] # int\n",
        "# df.iloc[:,-2:] # int:int - 슬라이싱\n",
        "# df.iloc[:,1::2] # int:int - 스트라이딩\n",
        "# df.iloc[:,[0]] # [int]\n",
        "# df.iloc[:,[0,1]] # [int,int]\n",
        "# df.iloc[:,[True,True,False,False]] # bool의 list \n",
        "# df.iloc[:,range(2)] # range"
      ],
      "id": "50a55132-512e-4268-953b-794605ca7c78"
    },
    {
      "cell_type": "markdown",
      "metadata": {},
      "source": [
        "`-` 방법4: `df.loc[:,?]` + str, ‘str:str’, \\[str,str\\], \\[bool,bool\\]"
      ],
      "id": "e1282e1e-d549-4803-80ce-1bcfdf0d5833"
    },
    {
      "cell_type": "code",
      "execution_count": 109,
      "metadata": {},
      "outputs": [],
      "source": [
        "# df.loc[:,'X1'] # str\n",
        "# df.loc[:,'X1':'X3'] # 'str':'str' -- 칼럼이름으로 슬라이싱 **\n",
        "# df.loc[:,'X1'::2] # 'str':'str' -- 칼럼이름으로 스트라이딩 ** \n",
        "# df.loc[:,['X1']] # [str]\n",
        "# df.loc[:,['X1','X4']] # [str,str]\n",
        "# df.loc[:,[True,False,False,True]] # bool의 list"
      ],
      "id": "59122173-e35e-4cb2-86d1-f245e54a5664"
    },
    {
      "cell_type": "markdown",
      "metadata": {},
      "source": [
        "## B. 행의 선택\n",
        "\n",
        "`-` 방법1: `df[]` + int:int, str:str, \\[bool,bool\\],\n",
        "pd.Series(\\[bool,bool\\]) – $(\\star\\star\\star\\star\\star)$"
      ],
      "id": "2b51ed67-004d-4a53-8fbf-e6271e0d7ed1"
    },
    {
      "cell_type": "code",
      "execution_count": 119,
      "metadata": {},
      "outputs": [],
      "source": [
        "# df[:2] # int:int -- 슬라이싱 // df.iloc[:2,:], df.iloc[:2] 와 같음\n",
        "# df[::2] # int:int -- 스트라이딩 \n",
        "# ts['12/30':'01/02'] # str:str -- 슬라이싱\n",
        "# ts['12/31'::2] # str:str -- 스트라이딩\n",
        "# df[['12' in date for date in df.date]] # [bool,bool]\n",
        "# df[df.X1 < 70] # pd.Series([bool,bool])"
      ],
      "id": "913b6379-45e7-4470-95eb-b9355fbbde41"
    },
    {
      "cell_type": "markdown",
      "metadata": {},
      "source": [
        "`-` 방법2: `df.iloc[]`, `df.iloc[,:]` + int, int:int, \\[int,int\\],\n",
        "\\[bool,bool\\], range"
      ],
      "id": "a6f40f24-9b78-4703-b1f6-a2c2c5df5246"
    },
    {
      "cell_type": "code",
      "execution_count": 243,
      "metadata": {
        "tags": []
      },
      "outputs": [],
      "source": [
        "# df.iloc[0] # int \n",
        "# df.iloc[-2:] # int:int -- 슬라이싱\n",
        "# df.iloc[1::2] # int:int -- 스트라이딩\n",
        "# df.iloc[[0]] # [int]\n",
        "# df.iloc[[0,1]] # [int,int]\n",
        "# df.iloc[['12' in date for date in df.date]] # [bool,bool]\n",
        "# df.iloc[range(2)] # range"
      ],
      "id": "0f645814-d9fb-4cec-88c1-54cd46faedb2"
    },
    {
      "cell_type": "code",
      "execution_count": 244,
      "metadata": {
        "tags": []
      },
      "outputs": [],
      "source": [
        "# df.iloc[0,:] # int \n",
        "# df.iloc[-2:,:] # int:int -- 슬라이싱\n",
        "# df.iloc[1::2,:] # int:int -- 스트라이딩\n",
        "# df.iloc[[0],:] # [int]\n",
        "# df.iloc[[0,1],:] # [int,int]\n",
        "# df.iloc[['12' in date for date in df.date],:] # [bool,bool]\n",
        "# df.iloc[range(2),:] # range"
      ],
      "id": "59506a0c-c085-4126-a6ff-6b26d492d2c4"
    },
    {
      "cell_type": "markdown",
      "metadata": {},
      "source": [
        "`-` 방법3: `df.loc[]`, `df.loc[,:]` + int, str, int:int, str:str,\n",
        "\\[int,int\\], \\[str,str\\], \\[bool,bool\\], pd.Series(\\[bool,bool\\])"
      ],
      "id": "fbf2d14d-1da3-48f0-8aa1-42a1b92f7a96"
    },
    {
      "cell_type": "code",
      "execution_count": 137,
      "metadata": {},
      "outputs": [],
      "source": [
        "# df.loc[0] # int \n",
        "# ts.loc['12/30'] # str \n",
        "# df.loc[:2] # int:int \n",
        "# ts.loc[:'01/02'] # str:str \n",
        "# df.loc[[0,1]] # [int,int]\n",
        "# ts.loc[['12/30','01/01']] # [str,str]\n",
        "# df.loc[['12' in date for date in df.date]] # [bool,bool]\n",
        "# df.loc[df.X1>70] # pd.Series([bool,bool]) "
      ],
      "id": "3c33760d-b8c9-41d5-bbf9-bd4ca7c2cd7b"
    },
    {
      "cell_type": "markdown",
      "metadata": {},
      "source": [
        "## C. 제 스타일\n",
        "\n",
        "`-` **가장 안전한 코드**"
      ],
      "id": "20ed0c07-85c8-4167-9b75-dfef2ffea869"
    },
    {
      "cell_type": "code",
      "execution_count": 344,
      "metadata": {
        "tags": []
      },
      "outputs": [],
      "source": [
        "# df.loc[:,:]"
      ],
      "id": "3ef69fd0-e91a-4b7e-990b-6ef9ea8e2a6c"
    },
    {
      "cell_type": "markdown",
      "metadata": {},
      "source": [
        "`-` 상황1: 하나의 col을 뽑으려 할때 좋은 코드"
      ],
      "id": "58800682-7f7f-4bc7-98e9-b8f5f1f50019"
    },
    {
      "cell_type": "code",
      "execution_count": 361,
      "metadata": {
        "tags": []
      },
      "outputs": [],
      "source": [
        "# df.X1 # 최애 \n",
        "# df['X1'] # 차애 \n",
        "# df[['X1']] # 차애"
      ],
      "id": "696eefd3-d0de-4858-9324-422a9aac2acb"
    },
    {
      "cell_type": "markdown",
      "metadata": {},
      "source": [
        "`-` 상황2: row 슬라이싱을 할때 좋은 코드 $(\\star\\star\\star)$"
      ],
      "id": "7602c535-b4df-4b14-ab59-204d9a2aecb7"
    },
    {
      "cell_type": "code",
      "execution_count": 143,
      "metadata": {},
      "outputs": [],
      "source": [
        "# df[:5] # 최애 \n",
        "# ts[:'01/02'] # 시계열인 경우 "
      ],
      "id": "69b39bff-31a1-403a-a580-0832e828130f"
    },
    {
      "cell_type": "markdown",
      "metadata": {},
      "source": [
        "`-` 상황3: 조건에 맞는 row를 뽑을때 좋은 코드"
      ],
      "id": "e2381f22-d2b8-4593-a94c-e287e07816b0"
    },
    {
      "cell_type": "code",
      "execution_count": 144,
      "metadata": {},
      "outputs": [],
      "source": [
        "# df[df.X1<60] # 최애\n",
        "# df.loc[['12' in date for date in df.date]] # 차애"
      ],
      "id": "39b7afd5-4359-4c42-bf19-51b8144cea08"
    },
    {
      "cell_type": "markdown",
      "metadata": {},
      "source": [
        "`-` 상황4: 하나의 row를 뽑으려 할때 좋은 코드"
      ],
      "id": "1049d899-43a5-4a46-8c0d-ef42f06a4559"
    },
    {
      "cell_type": "code",
      "execution_count": 146,
      "metadata": {},
      "outputs": [],
      "source": [
        "# df.iloc[0] # 최애 \n",
        "# df.loc[0] # 차애"
      ],
      "id": "58acc3ef-a27d-48ad-b577-139c3195a71d"
    },
    {
      "cell_type": "markdown",
      "metadata": {},
      "source": [
        "`-` 상황5: (row,col)을 뽑으려 할때 좋은 코드"
      ],
      "id": "3b18ed08-d94d-4683-b790-4db0aa000163"
    },
    {
      "cell_type": "code",
      "execution_count": 148,
      "metadata": {},
      "outputs": [],
      "source": [
        "# 최애: pd.Series를 뽑고 -> 인덱스로접근\n",
        "# df.X1[0]\n",
        "# df['X1'][0]\n",
        "\n",
        "# 차애: iloc, loc 으로 한번에 뽑기\n",
        "# df.iloc[0,0]\n",
        "# df.loc[0,'X1']"
      ],
      "id": "a7bd6d87-4ebd-4c14-a7b4-2985dbfa1ffb"
    },
    {
      "cell_type": "markdown",
      "metadata": {},
      "source": [
        "***위의 상황이외에는 `df.loc[:,:]`를 사용하는것이 유리하다***\n",
        "\n",
        "`-` 상황6: column 슬라이싱을 할때"
      ],
      "id": "66c6430c-9bcc-40a8-bf89-23f421a07fe0"
    },
    {
      "cell_type": "code",
      "execution_count": 403,
      "metadata": {
        "tags": []
      },
      "outputs": [],
      "source": [
        "# df.loc[:,'X1':'X3'] # 끝점포함"
      ],
      "id": "5efb508f-05c8-4091-a62f-1ef5fe742db5"
    },
    {
      "cell_type": "markdown",
      "metadata": {},
      "source": [
        "`-` 상황7: row + column 슬라이싱을 하는 가장 좋은 코드"
      ],
      "id": "99961e55-4a73-4aac-8741-0efdfde19bb2"
    },
    {
      "cell_type": "code",
      "execution_count": 406,
      "metadata": {
        "tags": []
      },
      "outputs": [],
      "source": [
        "# df.loc[::2,'X1':'X2']"
      ],
      "id": "4d6374f6-54e3-4905-9caf-79a49dd3a460"
    },
    {
      "cell_type": "markdown",
      "metadata": {},
      "source": [
        "`-` 상황8: 조건에 맞는 col을 뽑기에 가장 좋은 코드"
      ],
      "id": "3c082466-347d-4154-b556-22b1f56c86e6"
    },
    {
      "cell_type": "code",
      "execution_count": 414,
      "metadata": {
        "tags": []
      },
      "outputs": [],
      "source": [
        "# df.loc[:,[len(colname)>2 for colname in df.columns]]"
      ],
      "id": "e794f86d-5dba-40a3-bb40-523fb0975de9"
    },
    {
      "cell_type": "markdown",
      "metadata": {},
      "source": [
        "`-` 상황9: 조건에 맞는 row, col을 뽑기에 가장 좋은 코드"
      ],
      "id": "bc770c2e-5879-45aa-b34c-2fcc1b1bce4a"
    },
    {
      "cell_type": "code",
      "execution_count": 171,
      "metadata": {},
      "outputs": [],
      "source": [
        "# df.loc[df.X1>70,[len(colname)>2 for colname in df.columns]]"
      ],
      "id": "3b02bb79-8da6-47b9-b281-7b304e4abefd"
    },
    {
      "cell_type": "markdown",
      "metadata": {},
      "source": [
        "## D. 제 스타일 X\n",
        "\n",
        "`-` 제가 안쓰는 코드1"
      ],
      "id": "2f21ec28-dacf-43c8-a3a0-e8502e9ae43b"
    },
    {
      "cell_type": "code",
      "execution_count": 172,
      "metadata": {},
      "outputs": [],
      "source": [
        "df[:1]"
      ],
      "id": "46a1998e-6125-4612-b3c4-7d59bb1ee7f9"
    },
    {
      "cell_type": "markdown",
      "metadata": {},
      "source": [
        "이러면 내 입장에서는 마치 아래가 동작할 것 같잖아.."
      ],
      "id": "47f00baf-2d58-40c4-a806-c21a048f28b8"
    },
    {
      "cell_type": "code",
      "execution_count": 428,
      "metadata": {
        "tags": []
      },
      "outputs": [],
      "source": [
        "df[0] "
      ],
      "id": "2128daad-4d08-4c61-8141-faf4600fb260"
    },
    {
      "cell_type": "markdown",
      "metadata": {},
      "source": [
        "`-` 제가 안쓰는 코드2: bool의 list를 사용할때 iloc은 가급적 쓰지마세요"
      ],
      "id": "5465ede5-2f2d-424e-b243-2474a91c746e"
    },
    {
      "cell_type": "code",
      "execution_count": 438,
      "metadata": {
        "tags": []
      },
      "outputs": [],
      "source": [
        "df.iloc[list(df['X1']<80),:]"
      ],
      "id": "f19eaf87-94a5-4735-be1f-7eade5fa2a34"
    },
    {
      "cell_type": "markdown",
      "metadata": {},
      "source": [
        "이러면 마치 아래도 동작할 것 같잖아.."
      ],
      "id": "aaf03bfb-1595-4344-83ff-41ee88c19b19"
    },
    {
      "cell_type": "code",
      "execution_count": 439,
      "metadata": {
        "tags": []
      },
      "outputs": [],
      "source": [
        "df.iloc[df['X1']<80,:]"
      ],
      "id": "c0b1f7f2-e525-44c8-8cb4-544b52e9bea1"
    },
    {
      "cell_type": "markdown",
      "metadata": {},
      "source": [
        "## E. 요약\n",
        "\n",
        "`-` 알아두면 좋은 규칙\n",
        "\n",
        "-   `.iloc[]` 와 `.iloc[,:]`는 완전히 동등하다.\n",
        "-   `.loc[]` 와 `.loc[,:]`는 완전히 동등하다.\n",
        "-   결과를 `pd.Series` 형태가 아닌 `pd.DataFrame` 형태로 얻고 싶다면\n",
        "    `[[?]]`를 사용하면 된다.\n",
        "\n",
        "`-` 정리\n",
        "\n",
        "### ROW\n",
        "\n",
        "|     type of indexer      | `.` | `[]` | `.iloc` |  `.loc`  |        내가 쓴다면?         |\n",
        "|:--------------------------:|:-----:|:------:|:---------:|:----------:|:---------:|\n",
        "|           int            |  X  |  X   |    O    | $\\Delta$ |       `df.iloc[3,:]`        |\n",
        "|         int:int          |  X  |  O   |    O    | $\\Delta$ |          `df[3:5]`          |\n",
        "|       \\[int,int\\]        |  X  |  X   |    O    | $\\Delta$ |      `df.iloc[idx,:]`       |\n",
        "|           str            |  X  |  X   |    X    |    O     |     `ts.loc['time1',:]`     |\n",
        "|         str:str          |  X  |  O   |    X    |    O     | `ts.loc['time1':'time2',:]` |\n",
        "|       \\[str,str\\]        |  X  |  X   |    X    |    O     |           안할 듯           |\n",
        "|      \\[bool,bool\\]       |  X  |  O   |    O    |    O     |     `df[filtered_idx]`      |\n",
        "| pd.Series(\\[bool,bool\\]) |  X  |  O   |    X    |    O     |       `df[df.X1>20]`        |\n",
        "\n",
        "### COL\n",
        "\n",
        "| type of indexer | `.` | `[]` | `.iloc` | `.loc` |       내가 쓴다면?       |\n",
        "|:---------------:|:---:|:----:|:-------:|:------:|:------------------------:|\n",
        "|       int       |  X  |  X   |    O    |   X    |      `df.iloc[:,0]`      |\n",
        "|     int:int     |  X  |  X   |    O    |   X    |     `df.iloc[:,0:2]`     |\n",
        "|   \\[int,int\\]   |  X  |  X   |    O    |   X    |     `df.iloc[:,idx]`     |\n",
        "|       str       |  O  |  O   |    X    |   O    |     `df.loc[:,'X1']`     |\n",
        "|     str:str     |  X  |  X   |    X    |   O    |  `df.loc[:,'X1':'X4']`   |\n",
        "|   \\[str,str\\]   |  X  |  O   |    X    |   O    | `df.loc[:,colname_list]` |\n",
        "|  \\[bool,bool\\]  |  X  |  X   |    O    |   O    |  `df.loc[:,bool_list]`   |\n",
        "\n",
        "# 5. Pandas: 기본기능\n",
        "\n",
        "## A. 열의 이름 변경\n",
        "\n",
        "`-` 방법1: `df.columns`에 대입"
      ],
      "id": "b4fdd2a2-8e7a-4570-8199-ad85f2ed7a2d"
    },
    {
      "cell_type": "code",
      "execution_count": 593,
      "metadata": {
        "tags": []
      },
      "outputs": [],
      "source": [
        "df = pd.DataFrame(np.random.randn(3,2))\n",
        "df.columns = ['A','B']\n",
        "df"
      ],
      "id": "4d6a8390-93f2-494c-a11e-f774323df4ae"
    },
    {
      "cell_type": "markdown",
      "metadata": {},
      "source": [
        "`-` 방법2: `df.set_axis()`"
      ],
      "id": "c0284587-281f-4921-a130-58565d8f4545"
    },
    {
      "cell_type": "code",
      "execution_count": 603,
      "metadata": {
        "tags": []
      },
      "outputs": [],
      "source": [
        "df = pd.DataFrame(np.random.randn(3,2))\n",
        "df.set_axis(['A','B'],axis=1)"
      ],
      "id": "bcd6b2df-8a4f-40d0-9457-24c056096774"
    },
    {
      "cell_type": "markdown",
      "metadata": {},
      "source": [
        "`-` 방법3: `df.rename()`"
      ],
      "id": "6e69a9e2-ead9-47c3-a5ee-94e21e085c76"
    },
    {
      "cell_type": "code",
      "execution_count": 612,
      "metadata": {
        "tags": []
      },
      "outputs": [],
      "source": [
        "df = pd.DataFrame(np.random.randn(3,2))\n",
        "df.rename({0:'AA',1:'BB'},axis=1)"
      ],
      "id": "94405ef9-e216-4b33-a3c0-8e2eee23396f"
    },
    {
      "cell_type": "markdown",
      "metadata": {},
      "source": [
        "## B. 행의 이름 변경\n",
        "\n",
        "`-` 방법1: `df.index`에 대입"
      ],
      "id": "28686e70-9e96-40b9-96f0-2cf16c0eb0a0"
    },
    {
      "cell_type": "code",
      "execution_count": 614,
      "metadata": {
        "tags": []
      },
      "outputs": [],
      "source": [
        "df = pd.DataFrame(np.random.randn(3,2))\n",
        "df"
      ],
      "id": "0b16befc-634a-41bb-8b2e-5960d2300100"
    },
    {
      "cell_type": "code",
      "execution_count": 615,
      "metadata": {
        "tags": []
      },
      "outputs": [],
      "source": [
        "df.index = ['guebin','jiyoon','boram']\n",
        "df"
      ],
      "id": "20964ac6-2223-4d4f-bfb5-b71407394599"
    },
    {
      "cell_type": "markdown",
      "metadata": {},
      "source": [
        "`-` 방법2: `df.set_axis()`"
      ],
      "id": "5b2c8bca-84bc-4456-ace2-812520247466"
    },
    {
      "cell_type": "code",
      "execution_count": 7,
      "metadata": {},
      "outputs": [],
      "source": [
        "df = pd.DataFrame(np.random.randn(3,2))\n",
        "df.set_axis([11,22,33],axis=0)"
      ],
      "id": "38990992-eb06-47ec-baee-c10fab11f407"
    },
    {
      "cell_type": "markdown",
      "metadata": {},
      "source": [
        "`-` 방법3: `df.rename()`"
      ],
      "id": "78eecfaf-d219-4d61-8692-8102c0c23245"
    },
    {
      "cell_type": "code",
      "execution_count": 8,
      "metadata": {},
      "outputs": [],
      "source": [
        "df = pd.DataFrame(np.random.randn(3,2))\n",
        "df.rename({1:'guebin'},axis=0)"
      ],
      "id": "b06ebde1-de8b-487d-ad25-d719ae881fa8"
    },
    {
      "cell_type": "markdown",
      "metadata": {},
      "source": [
        "`-` 방법4: 임의의 열을 행이름 으로 지정!"
      ],
      "id": "d9b81e3f-d3d8-4f73-8159-63571fcb4059"
    },
    {
      "cell_type": "code",
      "execution_count": 619,
      "metadata": {
        "tags": []
      },
      "outputs": [],
      "source": [
        "df = pd.DataFrame({'id':['2021-43052','2021-43052'], 'hour':[3,2], 'height':[176,172]})\n",
        "df.set_index('id')"
      ],
      "id": "5439db69-c201-41da-bb46-ea359f4f49e1"
    },
    {
      "cell_type": "markdown",
      "metadata": {},
      "source": [
        "## `#` A~B에 대한 연습문제\n",
        "\n",
        "`-` 데이터 load"
      ],
      "id": "c9da23ae-f347-4bc2-8e52-aff139fc3662"
    },
    {
      "cell_type": "code",
      "execution_count": 649,
      "metadata": {
        "tags": []
      },
      "outputs": [],
      "source": [
        "df = pd.read_csv('https://raw.githubusercontent.com/guebin/DV2022/master/posts/FIFA23_official_data.csv')\n",
        "df.head()"
      ],
      "id": "fec66b67-bc75-4cdb-95b7-3a3b60f0a8ee"
    },
    {
      "cell_type": "markdown",
      "metadata": {},
      "source": [
        "`# 예제1`: 열의 이름 출력하고, 열의 이름중 공백(``)이 있을 경우\n",
        "언더바(`_`) 로 바꾸자.\n",
        "\n",
        "컬럼출력"
      ],
      "id": "9a6cf91b-42df-476d-bbe2-2a5f70d3ea82"
    },
    {
      "cell_type": "code",
      "execution_count": 11,
      "metadata": {},
      "outputs": [],
      "source": [
        "df.columns"
      ],
      "id": "75d180e6-b72b-44b1-a135-966f2f11aeaa"
    },
    {
      "cell_type": "markdown",
      "metadata": {},
      "source": [
        "1.  `df.columns`에 직접대입"
      ],
      "id": "53cd61f2-d1ab-4eed-8a97-a726df46862d"
    },
    {
      "cell_type": "code",
      "execution_count": 631,
      "metadata": {
        "tags": []
      },
      "outputs": [],
      "source": [
        "new_colnames = [l.replace(' ','_') for l in df.columns]"
      ],
      "id": "c5075d18-30a6-47e0-b742-3dcae2bc4784"
    },
    {
      "cell_type": "code",
      "execution_count": 13,
      "metadata": {},
      "outputs": [],
      "source": [
        "# df.columns = new_colnames\n",
        "# df"
      ],
      "id": "1d451b80-89a1-4d08-acfb-3e609790e90e"
    },
    {
      "cell_type": "markdown",
      "metadata": {},
      "source": [
        "1.  `set_axis()` 이용"
      ],
      "id": "75845f43-284d-4e8a-bf1d-55f9d07e4ed7"
    },
    {
      "cell_type": "code",
      "execution_count": 14,
      "metadata": {},
      "outputs": [],
      "source": [
        "df.set_axis(new_colnames,axis=1)"
      ],
      "id": "ace617d5-10c7-4100-8327-0b1e53aca114"
    },
    {
      "cell_type": "markdown",
      "metadata": {},
      "source": [
        "1.  `rename()` 이용"
      ],
      "id": "d1bc0dc5-dabb-48a7-b54a-9eff932bd46b"
    },
    {
      "cell_type": "code",
      "execution_count": 643,
      "metadata": {
        "tags": []
      },
      "outputs": [],
      "source": [
        "df.rename({l:l.replace(' ','_') for l in df.columns if ' ' in l},axis=1)"
      ],
      "id": "4d9588a7-18fb-4b07-b515-fb2062958032"
    },
    {
      "cell_type": "markdown",
      "metadata": {},
      "source": [
        "`#`\n",
        "\n",
        "`예제2`: ID를 row-index로 지정하라.\n",
        "\n",
        "1.  직접지정"
      ],
      "id": "1bfe60ab-5860-436d-a4b5-fe80b477c7d3"
    },
    {
      "cell_type": "code",
      "execution_count": 16,
      "metadata": {},
      "outputs": [],
      "source": [
        "# df.index = df.ID\n",
        "# df"
      ],
      "id": "9dd103e8-0d5f-4550-83ab-022e8211788d"
    },
    {
      "cell_type": "markdown",
      "metadata": {},
      "source": [
        "1.  `set_axis()`"
      ],
      "id": "11430dd3-1fbe-4b69-8c34-e34301014394"
    },
    {
      "cell_type": "code",
      "execution_count": 653,
      "metadata": {
        "tags": []
      },
      "outputs": [],
      "source": [
        "df.set_axis(df.ID,axis=0)"
      ],
      "id": "f430966f-d00b-4835-9c65-4121cc56d5a6"
    },
    {
      "cell_type": "markdown",
      "metadata": {},
      "source": [
        "1.  `rename()`"
      ],
      "id": "9c289cc1-dbaa-4879-a732-d1198f57826a"
    },
    {
      "cell_type": "code",
      "execution_count": 666,
      "metadata": {
        "tags": []
      },
      "outputs": [],
      "source": [
        "df.rename({i:j for i,j in zip(df.index, df.ID)})"
      ],
      "id": "165938e5-2715-4a19-86c5-856f915be473"
    },
    {
      "cell_type": "markdown",
      "metadata": {},
      "source": [
        "1.  `set_index()`"
      ],
      "id": "446516dc-5b95-46b7-aef9-4618560adc9e"
    },
    {
      "cell_type": "code",
      "execution_count": 669,
      "metadata": {
        "tags": []
      },
      "outputs": [],
      "source": [
        "df.set_index('ID')"
      ],
      "id": "f7b809c2-e06d-4c0d-b6f3-40e33e258155"
    },
    {
      "cell_type": "markdown",
      "metadata": {},
      "source": [
        "`#`\n",
        "\n",
        "## C. `df.T`\n",
        "\n",
        "`-` 데이터 load"
      ],
      "id": "05737061-2d1d-455a-bbd1-0c40691c1c75"
    },
    {
      "cell_type": "code",
      "execution_count": 670,
      "metadata": {
        "tags": []
      },
      "outputs": [],
      "source": [
        "df = pd.read_csv('https://raw.githubusercontent.com/guebin/DV2022/master/posts/FIFA23_official_data.csv')\n",
        "df.head()"
      ],
      "id": "935de70f-9b12-4532-92cd-8a49d8c6aff9"
    },
    {
      "cell_type": "markdown",
      "metadata": {},
      "source": [
        "`-` `df.T`를 이용하여 데이터를 살피면 편리함"
      ],
      "id": "c25612e3-bb5b-4644-8258-9f12afefa3e1"
    },
    {
      "cell_type": "code",
      "execution_count": 674,
      "metadata": {
        "tags": []
      },
      "outputs": [],
      "source": [
        "df.T.iloc[:,:2]"
      ],
      "id": "bc984560-e486-48d0-8b8c-730ccd3d9093"
    },
    {
      "cell_type": "markdown",
      "metadata": {},
      "source": [
        "`-` 출력옵션 조정"
      ],
      "id": "e123e924-9450-4ba1-a96b-fcb197d20a76"
    },
    {
      "cell_type": "code",
      "execution_count": 679,
      "metadata": {
        "tags": []
      },
      "outputs": [],
      "source": [
        "pd.options.display.max_rows = 12\n",
        "display(df.T.iloc[:,:2])\n",
        "pd.reset_option(\"display.max_rows\")"
      ],
      "id": "ab37a064-f563-4513-8733-f8adb52b3f54"
    },
    {
      "cell_type": "markdown",
      "metadata": {},
      "source": [
        "-   이 예제에서는 줄이는 옵션을 사용했지만 보통은 늘려서 사용함\n",
        "\n",
        "## D. `df.dtypes`, `s.dtype`, `df.select_dtypes()`\n",
        "\n",
        "`-` `df.dtypes`"
      ],
      "id": "f513be6c-84a2-41b1-91cd-02261f18d33a"
    },
    {
      "cell_type": "code",
      "execution_count": 731,
      "metadata": {
        "tags": []
      },
      "outputs": [],
      "source": [
        "df.dtypes"
      ],
      "id": "1d0a87b3-7478-4159-b585-bc2b92cfb974"
    },
    {
      "cell_type": "markdown",
      "metadata": {},
      "source": [
        "`-` `s.dtype`"
      ],
      "id": "6c1fe6e3-00f0-4841-9330-342e9340e420"
    },
    {
      "cell_type": "code",
      "execution_count": 735,
      "metadata": {
        "tags": []
      },
      "outputs": [],
      "source": [
        "df.Name.dtype"
      ],
      "id": "ed057240-9e03-4c34-8521-c018f924ebaa"
    },
    {
      "cell_type": "markdown",
      "metadata": {},
      "source": [
        "`-` `==`를 이용한 자료형 체크"
      ],
      "id": "885e2815-ae70-403c-8d8c-c8cde039e3a4"
    },
    {
      "cell_type": "code",
      "execution_count": 745,
      "metadata": {
        "tags": []
      },
      "outputs": [],
      "source": [
        "df.Name.dtype == object\n",
        "df.Name.dtype == np.object_"
      ],
      "id": "0053fcfd-ec0e-4316-b9e1-1a655e7f953a"
    },
    {
      "cell_type": "code",
      "execution_count": 746,
      "metadata": {
        "tags": []
      },
      "outputs": [],
      "source": [
        "df.Age.dtype == int\n",
        "df.Age.dtype == np.int64"
      ],
      "id": "0bfd2b04-081a-45f1-ac39-9ddc7821d649"
    },
    {
      "cell_type": "code",
      "execution_count": 752,
      "metadata": {
        "tags": []
      },
      "outputs": [],
      "source": [
        "df['International Reputation'].dtype == float\n",
        "df['International Reputation'].dtype == np.float64"
      ],
      "id": "741e3734-75c1-41b0-a874-0c57b45ba282"
    },
    {
      "cell_type": "markdown",
      "metadata": {},
      "source": [
        "`# 예제1`: `df`에서 `int` 자료형만 출력\n",
        "\n",
        "`-` (풀이1)"
      ],
      "id": "ccdc8056-2170-4e6c-8e8c-88968ae3d293"
    },
    {
      "cell_type": "code",
      "execution_count": 761,
      "metadata": {
        "tags": []
      },
      "outputs": [],
      "source": [
        "df.loc[:,[l == int for l in df.dtypes]]\n",
        "df.loc[:,[l == np.int64 for l in df.dtypes]]"
      ],
      "id": "0eccb2ea-52db-4649-b938-e5b37b3b251b"
    },
    {
      "cell_type": "markdown",
      "metadata": {},
      "source": [
        "`-` (풀이2)"
      ],
      "id": "7a839da0-496f-4072-bf12-0dcfa34b94b7"
    },
    {
      "cell_type": "code",
      "execution_count": 765,
      "metadata": {
        "tags": []
      },
      "outputs": [],
      "source": [
        "df.select_dtypes(int)\n",
        "df.select_dtypes(np.int64)\n",
        "df.select_dtypes([int])\n",
        "df.select_dtypes([np.int64])"
      ],
      "id": "423600b7-7c84-4418-a262-4a9ab6fc519c"
    },
    {
      "cell_type": "markdown",
      "metadata": {},
      "source": [
        "`#`\n",
        "\n",
        "`# 예제2`: `df`에서 `int`, `float` 자료형만 출력 – `select_dtypes()`\n",
        "이용"
      ],
      "id": "8ad2e387-0ea8-475a-a59b-79bba9fe273e"
    },
    {
      "cell_type": "code",
      "execution_count": 779,
      "metadata": {
        "tags": []
      },
      "outputs": [],
      "source": [
        "df.select_dtypes([int,float])\n",
        "df.select_dtypes([np.int64,np.float64])\n",
        "df.select_dtypes('number')\n",
        "df.select_dtypes(['number'])"
      ],
      "id": "4472c5ea-39fc-43c1-8b0e-96cd09731632"
    },
    {
      "cell_type": "markdown",
      "metadata": {},
      "source": [
        "`#`\n",
        "\n",
        "`# 예제3`: `df`에서 `object` 자료형만 출력 – `select_dtypes()` 이용"
      ],
      "id": "5c56e5fd-97d3-4dda-b7ca-e30fe8418daa"
    },
    {
      "cell_type": "code",
      "execution_count": 784,
      "metadata": {
        "tags": []
      },
      "outputs": [],
      "source": [
        "df.select_dtypes(object)\n",
        "df.select_dtypes([object])"
      ],
      "id": "12d931a4-5f64-4298-8620-85d29b00f6cf"
    },
    {
      "cell_type": "markdown",
      "metadata": {},
      "source": [
        "`#`\n",
        "\n",
        "## E. `df.sort_values()`\n",
        "\n",
        "`-` 예시1: 나이가 어린 순서대로 정렬"
      ],
      "id": "88e29d0c-80eb-4d80-8c18-89420cf6f935"
    },
    {
      "cell_type": "code",
      "execution_count": 790,
      "metadata": {
        "tags": []
      },
      "outputs": [],
      "source": [
        "df.sort_values(by='Age')"
      ],
      "id": "67f54764-8af5-46fd-9383-43194832b3e0"
    },
    {
      "cell_type": "markdown",
      "metadata": {},
      "source": [
        "`-` 예시2: 나이가 많은 순서대로 정렬"
      ],
      "id": "09165033-4092-451f-a8bf-c93ffab20054"
    },
    {
      "cell_type": "code",
      "execution_count": 789,
      "metadata": {
        "tags": []
      },
      "outputs": [],
      "source": [
        "df.sort_values(by='Age',ascending=False)"
      ],
      "id": "b8920e56-587d-4840-b81b-172fbe3455f5"
    },
    {
      "cell_type": "markdown",
      "metadata": {},
      "source": [
        "`-` 예시3: 능력치가 좋은 순서대로 정렬"
      ],
      "id": "e1eb3348-4d7a-404a-9396-f9292faff0eb"
    },
    {
      "cell_type": "code",
      "execution_count": 791,
      "metadata": {
        "tags": []
      },
      "outputs": [],
      "source": [
        "df.sort_values(by='Overall',ascending=False)"
      ],
      "id": "c37a9e85-bc1e-40b0-ae46-d8ffbaaeb707"
    },
    {
      "cell_type": "markdown",
      "metadata": {},
      "source": [
        "## F. `df.info()`"
      ],
      "id": "e8336f8d-fd94-45f6-98d3-007f5eb1d8ae"
    },
    {
      "cell_type": "code",
      "execution_count": 792,
      "metadata": {
        "tags": []
      },
      "outputs": [
        {
          "output_type": "stream",
          "name": "stdout",
          "text": [
            "<class 'pandas.core.frame.DataFrame'>\n",
            "RangeIndex: 17660 entries, 0 to 17659\n",
            "Data columns (total 29 columns):\n",
            " #   Column                    Non-Null Count  Dtype  \n",
            "---  ------                    --------------  -----  \n",
            " 0   ID                        17660 non-null  int64  \n",
            " 1   Name                      17660 non-null  object \n",
            " 2   Age                       17660 non-null  int64  \n",
            " 3   Photo                     17660 non-null  object \n",
            " 4   Nationality               17660 non-null  object \n",
            " 5   Flag                      17660 non-null  object \n",
            " 6   Overall                   17660 non-null  int64  \n",
            " 7   Potential                 17660 non-null  int64  \n",
            " 8   Club                      17449 non-null  object \n",
            " 9   Club Logo                 17660 non-null  object \n",
            " 10  Value                     17660 non-null  object \n",
            " 11  Wage                      17660 non-null  object \n",
            " 12  Special                   17660 non-null  int64  \n",
            " 13  Preferred Foot            17660 non-null  object \n",
            " 14  International Reputation  17660 non-null  float64\n",
            " 15  Weak Foot                 17660 non-null  float64\n",
            " 16  Skill Moves               17660 non-null  float64\n",
            " 17  Work Rate                 17660 non-null  object \n",
            " 18  Body Type                 17622 non-null  object \n",
            " 19  Real Face                 17622 non-null  object \n",
            " 20  Position                  17625 non-null  object \n",
            " 21  Joined                    16562 non-null  object \n",
            " 22  Loaned From               694 non-null    object \n",
            " 23  Contract Valid Until      17299 non-null  object \n",
            " 24  Height                    17660 non-null  object \n",
            " 25  Weight                    17660 non-null  object \n",
            " 26  Release Clause            16509 non-null  object \n",
            " 27  Kit Number                17625 non-null  float64\n",
            " 28  Best Overall Rating       21 non-null     object \n",
            "dtypes: float64(4), int64(5), object(20)\n",
            "memory usage: 3.9+ MB"
          ]
        }
      ],
      "source": [
        "df.info()"
      ],
      "id": "490bcb2a-607f-42ba-a0a7-d3d1ece1bfc7"
    },
    {
      "cell_type": "markdown",
      "metadata": {},
      "source": [
        "# 6. Pandas: query"
      ],
      "id": "4f4a230e-5b2f-4ec8-bc2e-8b89723e0131"
    },
    {
      "cell_type": "code",
      "execution_count": 819,
      "metadata": {
        "tags": []
      },
      "outputs": [],
      "source": [
        "ts = pd.DataFrame(np.random.normal(size=(20,4)),columns=list('ABCD'),index=pd.date_range('20221226',periods=20)).assign(Sex=['M']*10+['F']*10)\n",
        "ts"
      ],
      "id": "3e19be44-4a7a-4d38-a77a-557298bc2949"
    },
    {
      "cell_type": "markdown",
      "metadata": {},
      "source": [
        "## A. 기본 query\n",
        "\n",
        "`-` 예시1: `A>0 and B<0`"
      ],
      "id": "8df5fb1f-948c-44ab-a174-8bb0b20b88f8"
    },
    {
      "cell_type": "code",
      "execution_count": 825,
      "metadata": {
        "tags": []
      },
      "outputs": [],
      "source": [
        "#ts[(ts.A>0) & (ts.B<0)]\n",
        "ts.query('A>0 and B<0')"
      ],
      "id": "b5dcde3c-931a-400f-b513-60ae91fe8366"
    },
    {
      "cell_type": "markdown",
      "metadata": {},
      "source": [
        "`-` 예시2: `A<B<C`"
      ],
      "id": "69db7de2-989b-434b-be48-9a5e2470f751"
    },
    {
      "cell_type": "code",
      "execution_count": 826,
      "metadata": {
        "tags": []
      },
      "outputs": [],
      "source": [
        "ts.query('A<B<C')"
      ],
      "id": "d7e2e640-5c12-4eab-ab87-5bc7d032c514"
    },
    {
      "cell_type": "markdown",
      "metadata": {},
      "source": [
        "`-` 예시3: `(A+B)/2 > 0`"
      ],
      "id": "1004522b-dbfa-4730-9744-a61c0225fde0"
    },
    {
      "cell_type": "code",
      "execution_count": 832,
      "metadata": {
        "tags": []
      },
      "outputs": [],
      "source": [
        "#ts[(ts.A + ts.B)/2 >0]\n",
        "ts.query('(A+B)/2 >0')"
      ],
      "id": "f763de57-8b58-49ef-b0ae-b9b64a189a84"
    },
    {
      "cell_type": "markdown",
      "metadata": {},
      "source": [
        "`-` 예시4: `(A+B)/2 > 0` and `Sex=='M'`"
      ],
      "id": "6e404168-976f-45cd-ac80-7035b589efbe"
    },
    {
      "cell_type": "code",
      "execution_count": 833,
      "metadata": {
        "tags": []
      },
      "outputs": [],
      "source": [
        "ts.query('(A+B)/2>0 and Sex==\"M\"')"
      ],
      "id": "4e3bc292-2b31-4f20-b681-7414baa902a2"
    },
    {
      "cell_type": "code",
      "execution_count": 834,
      "metadata": {
        "tags": []
      },
      "outputs": [],
      "source": [
        "ts.query(\"(A+B)/2>0 and Sex=='F'\")"
      ],
      "id": "40afc485-33ec-4fd9-b064-2c4a05ca9d44"
    },
    {
      "cell_type": "markdown",
      "metadata": {},
      "source": [
        "## B. 외부변수를 이용\n",
        "\n",
        "`-` 예시: `A > mean(A)`\n",
        "\n",
        "(풀이1)"
      ],
      "id": "00237a95-3804-4b50-9031-d13c47c1c6e5"
    },
    {
      "cell_type": "code",
      "execution_count": 840,
      "metadata": {
        "tags": []
      },
      "outputs": [],
      "source": [
        "ts[ts.A > -0.0734821041290727]\n",
        "ts.query('A > A.mean()')"
      ],
      "id": "4c575771-d512-42ef-a60e-3b43ff957e03"
    },
    {
      "cell_type": "markdown",
      "metadata": {},
      "source": [
        "(풀이2)"
      ],
      "id": "c425405b-af4b-421e-87a2-7a47d671f3e0"
    },
    {
      "cell_type": "code",
      "execution_count": 844,
      "metadata": {
        "tags": []
      },
      "outputs": [],
      "source": [
        "m = ts.A.mean()\n",
        "ts[ts.A>m]\n",
        "ts.query('A > @m')"
      ],
      "id": "61b4ceca-de50-4f2c-a201-bb24112facf2"
    },
    {
      "cell_type": "markdown",
      "metadata": {},
      "source": [
        "## C. Index로 query\n",
        "\n",
        "`-` 예시: (2022년 12월30일 보다 이전 날짜) $\\cup$ (2023년 1월10일)"
      ],
      "id": "81ed3eb1-9554-4062-86f4-e4d2bc2adf53"
    },
    {
      "cell_type": "code",
      "execution_count": 850,
      "metadata": {
        "tags": []
      },
      "outputs": [
        {
          "output_type": "stream",
          "name": "stderr",
          "text": [
            "/tmp/ipykernel_642677/2579726232.py:1: FutureWarning: The behavior of 'isin' with dtype=datetime64[ns] and castable values (e.g. strings) is deprecated. In a future version, these will not be considered matching by isin. Explicitly cast to the appropriate dtype before calling isin instead.\n",
            "  ts.query('index < \"2022-12-30\" or index == \"2023-01-10\"')"
          ]
        }
      ],
      "source": [
        "ts.query('index < \"2022-12-30\" or index == \"2023-01-10\"')"
      ],
      "id": "aa4993dc-73b2-480a-9906-303c8ba578f8"
    },
    {
      "cell_type": "markdown",
      "metadata": {},
      "source": [
        "## D. 열의 이름에 공백이 있을 경우"
      ],
      "id": "00b70325-69f2-4235-9419-a6856e8e853c"
    },
    {
      "cell_type": "code",
      "execution_count": 851,
      "metadata": {
        "tags": []
      },
      "outputs": [],
      "source": [
        "df = pd.read_csv('https://raw.githubusercontent.com/guebin/DV2022/master/posts/FIFA23_official_data.csv')\n",
        "df.head()"
      ],
      "id": "f26594b7-34d5-44dc-9857-410122c1dd23"
    },
    {
      "cell_type": "markdown",
      "metadata": {},
      "source": [
        "`-` 예시: `Skill Moves > 4`"
      ],
      "id": "6fa058c7-4ff3-4b10-ae54-cd2b63cff90f"
    },
    {
      "cell_type": "code",
      "execution_count": 864,
      "metadata": {
        "tags": []
      },
      "outputs": [],
      "source": [
        "df.query('`Skill Moves` > 4').head(5)"
      ],
      "id": "468e7a5b-fcae-4df5-b77f-04ed3f72f548"
    },
    {
      "cell_type": "markdown",
      "metadata": {},
      "source": [
        "# 7. Pandas: 할당"
      ],
      "id": "9f20faa5-1802-49bc-bf95-d8a5dccc4ba4"
    },
    {
      "cell_type": "code",
      "execution_count": 865,
      "metadata": {
        "tags": []
      },
      "outputs": [],
      "source": [
        "np.random.seed(43052)\n",
        "att = np.random.choice(np.arange(10,21)*5,20)\n",
        "rep = np.random.choice(np.arange(5,21)*5,20)\n",
        "mid = np.random.choice(np.arange(0,21)*5,20)\n",
        "fin = np.random.choice(np.arange(0,21)*5,20)\n",
        "df = pd.DataFrame({'att':att,'rep':rep,'mid':mid,'fin':fin})\n",
        "df"
      ],
      "id": "3614ed07-8655-41c7-a26a-52b8e721bac7"
    },
    {
      "cell_type": "markdown",
      "metadata": {},
      "source": [
        "## A. `df.assign()`\n",
        "\n",
        "`-` 예시: `total = att*0.1 + rep*0.2 + mid*0.35 + fin*0.35` 를 계산하여\n",
        "할당"
      ],
      "id": "93d71523-1941-4944-999e-4e2ed77c8c92"
    },
    {
      "cell_type": "code",
      "execution_count": 871,
      "metadata": {
        "tags": []
      },
      "outputs": [],
      "source": [
        "df.assign(total = df.att*0.1 + df.rep*0.2 + df.mid*0.35 + df.fin*0.35)"
      ],
      "id": "f5ad8e73-bec0-4a56-a27e-11cd5cc9906b"
    },
    {
      "cell_type": "markdown",
      "metadata": {},
      "source": [
        "> Note: 이 방법은 df원본을 손상시키지 않음\n",
        "\n",
        "## B. `df.eval()`\n",
        "\n",
        "`-` 예시: `total = att*0.1 + rep*0.2 + mid*0.35 + fin*0.35` 를 계산하여\n",
        "할당"
      ],
      "id": "465761ce-9eeb-4616-95a3-7701cb706f7f"
    },
    {
      "cell_type": "code",
      "execution_count": 872,
      "metadata": {
        "tags": []
      },
      "outputs": [],
      "source": [
        "df.eval(\"total = att*0.1 + rep*0.2 + mid*0.35 + fin*0.35\")"
      ],
      "id": "371ef2a5-4cfb-4f31-9922-8b39f71cbf01"
    },
    {
      "cell_type": "markdown",
      "metadata": {},
      "source": [
        "> Note: 이 방법은 df원본을 손상시키지 않음\n",
        "\n",
        "## C. `df[colname] = xxx`\n",
        "\n",
        "`-` 예시: `total = att*0.1 + rep*0.2 + mid*0.35 + fin*0.35` 를 계산하여\n",
        "할당."
      ],
      "id": "eb7d7c15-2cb5-4f12-8ab4-40f2e5f9e72d"
    },
    {
      "cell_type": "code",
      "execution_count": 880,
      "metadata": {
        "tags": []
      },
      "outputs": [],
      "source": [
        "df['total'] = df.att*0.1 + df.rep*0.2 + df.mid*0.35 + df.fin*0.35\n",
        "df"
      ],
      "id": "58fe7a84-2e01-46dd-b1b7-5bd71b71320b"
    },
    {
      "cell_type": "markdown",
      "metadata": {},
      "source": [
        "> Note: 이 방법은 df를 영구적으로 변화시킴\n",
        "\n",
        "# 8. Pandas: transform column\n",
        "\n",
        "`# 예시1` `df.Height`열 변환하기 + 변환된 열 할당하기"
      ],
      "id": "0ec51e1c-23aa-419a-84d1-33beba31b816"
    },
    {
      "cell_type": "code",
      "execution_count": 940,
      "metadata": {
        "tags": []
      },
      "outputs": [],
      "source": [
        "df = pd.read_csv('https://raw.githubusercontent.com/guebin/DV2022/master/posts/FIFA23_official_data.csv').drop(['Loaned From','Best Overall Rating'],axis=1).dropna().reset_index(drop=True)\n",
        "df.head()"
      ],
      "id": "e684390c-72ec-4e18-a564-155bfca730a6"
    },
    {
      "cell_type": "markdown",
      "metadata": {},
      "source": [
        "`-` (풀이1)"
      ],
      "id": "893f2e0f-1dc9-4bbc-84c7-9cea0e57b659"
    },
    {
      "cell_type": "code",
      "execution_count": 938,
      "metadata": {
        "tags": []
      },
      "outputs": [],
      "source": [
        "df.assign(Height = list(map(lambda x: int(x.replace('cm','')),df.Height)))"
      ],
      "id": "a18b24b2-cbb6-4c8e-bb19-3ad2fead3e8d"
    },
    {
      "cell_type": "markdown",
      "metadata": {},
      "source": [
        "`-` (풀이2) – 컴프리헨션"
      ],
      "id": "afd88542-b39b-426c-be82-10806be1b138"
    },
    {
      "cell_type": "code",
      "execution_count": 939,
      "metadata": {
        "tags": []
      },
      "outputs": [],
      "source": [
        "df.assign(Height= [int(height.replace('cm','')) for height in df.Height])"
      ],
      "id": "99666f19-93f9-497d-82f8-a611fa4ae7ff"
    },
    {
      "cell_type": "markdown",
      "metadata": {},
      "source": [
        "`#`\n",
        "\n",
        "`# 예시2` `df.Joined`을 이용하여 선수들이 join한 연도를 알아내고 이를\n",
        "새로운 열로 할당하라.\n",
        "\n",
        "`-` (풀이1)"
      ],
      "id": "77752c6b-cdcb-42be-a7bd-b23db471d9ab"
    },
    {
      "cell_type": "code",
      "execution_count": 955,
      "metadata": {
        "tags": []
      },
      "outputs": [],
      "source": [
        "df.assign(JoinedYear = list(map(lambda x: int(x[-4:]), df.Joined)))"
      ],
      "id": "5af44c61-6c4c-4ecb-8f66-0129e92c0e5c"
    },
    {
      "cell_type": "markdown",
      "metadata": {},
      "source": [
        "`-` (풀이2)"
      ],
      "id": "522c24de-5e30-40cb-a371-8eb00d5473b6"
    },
    {
      "cell_type": "code",
      "execution_count": 949,
      "metadata": {
        "tags": []
      },
      "outputs": [],
      "source": [
        "df.assign(JoinedYear = [int(l[-4:]) for l in df.Joined])"
      ],
      "id": "ee38d34e-5b65-4bc2-87d2-5a93ee02f003"
    },
    {
      "cell_type": "markdown",
      "metadata": {},
      "source": [
        "# 9. 반복문 – 자투리\n",
        "\n",
        "## A. `zip`\n",
        "\n",
        "`-` 예시1"
      ],
      "id": "73613ed2-f263-45dc-ae96-40323479e8d3"
    },
    {
      "cell_type": "code",
      "execution_count": 992,
      "metadata": {
        "tags": []
      },
      "outputs": [
        {
          "output_type": "stream",
          "name": "stdout",
          "text": [
            "11 44\n",
            "22 55\n",
            "33 66"
          ]
        }
      ],
      "source": [
        "x = [11,22,33]\n",
        "y = [44,55,66]\n",
        "for xi,yi in zip(x,y):\n",
        "    print(xi,yi)"
      ],
      "id": "969a2109-8ebb-4ff5-85bf-06c8b7514b58"
    },
    {
      "cell_type": "markdown",
      "metadata": {},
      "source": [
        "`-` 예시2"
      ],
      "id": "ada3dc55-e842-47e2-92c8-f199766ebb5f"
    },
    {
      "cell_type": "code",
      "execution_count": 1010,
      "metadata": {
        "tags": []
      },
      "outputs": [],
      "source": [
        "df = pd.DataFrame({'year':[2022,2023,2022,2022,2019],'month':[12,10,8,2,1],'day':[31,22,31,28,15]})\n",
        "df"
      ],
      "id": "b66c4bcb-455a-43df-86e0-ae9486114d8a"
    },
    {
      "cell_type": "code",
      "execution_count": 1015,
      "metadata": {
        "tags": []
      },
      "outputs": [],
      "source": [
        "df.assign(ymd = [f\"{y}-{m}-{d}\" for y,m,d in zip(df.year, df.month, df.day)])"
      ],
      "id": "465e2f8e-e402-4eaf-8235-8befed720305"
    },
    {
      "cell_type": "markdown",
      "metadata": {},
      "source": [
        "## B. `enumerate`\n",
        "\n",
        "`-` 예시1"
      ],
      "id": "f7998635-979e-4cbc-a06d-0f0c8dc8c18e"
    },
    {
      "cell_type": "code",
      "execution_count": 978,
      "metadata": {
        "tags": []
      },
      "outputs": [
        {
          "output_type": "stream",
          "name": "stdout",
          "text": [
            "0 11\n",
            "1 22\n",
            "2 33"
          ]
        }
      ],
      "source": [
        "x = [11,22,33]\n",
        "for i,xi in enumerate(x):\n",
        "    print(i,xi)"
      ],
      "id": "79133f94-5f0a-4bf0-87dc-c7496789aaf7"
    },
    {
      "cell_type": "markdown",
      "metadata": {},
      "source": [
        "`-` 예시2"
      ],
      "id": "51de8eed-0016-4181-ac37-d5c78e16ef49"
    },
    {
      "cell_type": "code",
      "execution_count": 1024,
      "metadata": {
        "tags": []
      },
      "outputs": [],
      "source": [
        "lst = np.random.choice(['사과','딸기','배'],100,replace=True).tolist()\n",
        "lst[:5]"
      ],
      "id": "ac03ed02-1c8d-423e-b924-d34051fe31cc"
    },
    {
      "cell_type": "code",
      "execution_count": 1030,
      "metadata": {
        "tags": []
      },
      "outputs": [],
      "source": [
        "dct = {l:i for i,l in enumerate(set(lst))}\n",
        "dct"
      ],
      "id": "71590c7b-ed51-4a8a-bd63-6fdf4e2b7f24"
    },
    {
      "cell_type": "code",
      "execution_count": 1033,
      "metadata": {
        "tags": []
      },
      "outputs": [],
      "source": [
        "[dct[l] for l in lst][:5]"
      ],
      "id": "d779c9ca-bef0-4a37-bac2-44816144b616"
    },
    {
      "cell_type": "markdown",
      "metadata": {},
      "source": [
        "# 10. 변수의 범위\n",
        "\n",
        "`-` 모티브: 주피터노트북 하나를 키고 x에 100을 넣는다. 다른 주피터를\n",
        "하나 키고 x를 치면 100이 나올까? –\\> “독립된 환경”이라는 개념\n",
        "\n",
        "## A. 함수\n",
        "\n",
        "`-` 예시1: 함수내부 / 함수외부"
      ],
      "id": "ba031556-81a1-4528-813b-b813d1b7ba39"
    },
    {
      "cell_type": "code",
      "execution_count": 1041,
      "metadata": {
        "tags": []
      },
      "outputs": [],
      "source": [
        "x = None \n",
        "y = None "
      ],
      "id": "3cc49d55-2707-45af-b8e0-e86fb7e0b1c1"
    },
    {
      "cell_type": "code",
      "execution_count": 1042,
      "metadata": {
        "tags": []
      },
      "outputs": [],
      "source": [
        "def f(x):\n",
        "    y = x+1\n",
        "    return y "
      ],
      "id": "35649d41-f1c8-407f-a60e-5c3330395599"
    },
    {
      "cell_type": "code",
      "execution_count": 1043,
      "metadata": {
        "tags": []
      },
      "outputs": [],
      "source": [
        "f(1)"
      ],
      "id": "075ff979-438a-43f2-b339-50bc6027a728"
    },
    {
      "cell_type": "code",
      "execution_count": 1044,
      "metadata": {
        "tags": []
      },
      "outputs": [],
      "source": [
        "x,y"
      ],
      "id": "c30a07fa-621e-4514-8f61-7de73b3c8556"
    },
    {
      "cell_type": "markdown",
      "metadata": {},
      "source": [
        "> 여기에서 x,y는 함수내부에서만 선언 및 계산되고 소멸한다. 즉 함수안에서\n",
        "> 사용되는 코드는 마치 독립된 환경처럼 작동한다. 함수외부의 x,y는\n",
        "> 함수내부의 x,y와 “기본적으로는” 상관이 없다.\n",
        "\n",
        "`-` 예시2: 함수내부 / 함수외부"
      ],
      "id": "0f4fe752-a5ce-43b7-91da-e226c0294423"
    },
    {
      "cell_type": "code",
      "execution_count": 1045,
      "metadata": {
        "tags": []
      },
      "outputs": [],
      "source": [
        "x = 1\n",
        "y = None "
      ],
      "id": "ce0810dd-5453-4828-bbdc-11f7e76d7e69"
    },
    {
      "cell_type": "code",
      "execution_count": 1046,
      "metadata": {
        "tags": []
      },
      "outputs": [],
      "source": [
        "def f(x):\n",
        "    y = x+1\n",
        "    return y "
      ],
      "id": "e7e1f396-83ad-435d-8c87-c98cd04709ad"
    },
    {
      "cell_type": "code",
      "execution_count": 1047,
      "metadata": {
        "tags": []
      },
      "outputs": [],
      "source": [
        "f(x)"
      ],
      "id": "e413d7a9-3828-40f3-a3e5-0c826759c8e4"
    },
    {
      "cell_type": "code",
      "execution_count": 1048,
      "metadata": {
        "tags": []
      },
      "outputs": [],
      "source": [
        "x,y"
      ],
      "id": "3031de64-934e-43fd-9447-9d90fa038e76"
    },
    {
      "cell_type": "markdown",
      "metadata": {},
      "source": [
        "> 여기에서 x는 함수외부에 선언되었고, 함수 외부에 선언된 x의 값이 함수\n",
        "> 내부로 전달되었다. 전달된 값은 함수내부에서 x라는 이름으로 저장되었음.\n",
        "\n",
        "`-` 예시3: 함수내부 / 함수외부"
      ],
      "id": "0ccc63e7-032f-48f4-8a80-019e7b22bfa1"
    },
    {
      "cell_type": "code",
      "execution_count": 1049,
      "metadata": {
        "tags": []
      },
      "outputs": [],
      "source": [
        "x = None \n",
        "y = None "
      ],
      "id": "13cf2846-4ab6-4bee-b689-bf0c0c5eb9c8"
    },
    {
      "cell_type": "code",
      "execution_count": 1050,
      "metadata": {
        "tags": []
      },
      "outputs": [],
      "source": [
        "def f(x):\n",
        "    y = x+1\n",
        "    return y "
      ],
      "id": "2e17ba75-aa7b-4179-975a-f0d33008a07e"
    },
    {
      "cell_type": "code",
      "execution_count": 1051,
      "metadata": {
        "tags": []
      },
      "outputs": [],
      "source": [
        "z = 1\n",
        "f(z)"
      ],
      "id": "be579209-21c5-4f2f-a78a-b277c4d8ef48"
    },
    {
      "cell_type": "code",
      "execution_count": 1052,
      "metadata": {
        "tags": []
      },
      "outputs": [],
      "source": [
        "x,y"
      ],
      "id": "f9607d65-42b7-4c1f-be5a-a882eb2446fe"
    },
    {
      "cell_type": "markdown",
      "metadata": {},
      "source": [
        "> 여기에서 z는 함수외부에 선언되었고, 함수 외부에 선언된 z의 값이 함수\n",
        "> 내부로 전달되었음. 전달된 값은 함수내부에서 x라는 이름으로 저장되었음.\n",
        "\n",
        "`-` 예시4: 함수내부 / 함수외부"
      ],
      "id": "8d26b09d-3319-4b3a-a9ac-d702773f893f"
    },
    {
      "cell_type": "code",
      "execution_count": 1053,
      "metadata": {
        "tags": []
      },
      "outputs": [],
      "source": [
        "x = 2\n",
        "y = 3"
      ],
      "id": "aa6cba84-aad0-4eb2-af51-836504b28896"
    },
    {
      "cell_type": "code",
      "execution_count": 1056,
      "metadata": {
        "tags": []
      },
      "outputs": [],
      "source": [
        "def f(x):\n",
        "    return x+y # 함수내부에서는 y를 정의한적이 없잖아? (뭘 x에 더하라는거야?) 혹시 함수 외부에 y가 정의되어있나? 찾아보니 y=3이있음. 이걸 가져다가 쓰자 "
      ],
      "id": "e498400e-f27d-4514-a537-f9b807b3c933"
    },
    {
      "cell_type": "code",
      "execution_count": 1057,
      "metadata": {
        "tags": []
      },
      "outputs": [],
      "source": [
        "f(10)"
      ],
      "id": "105d3000-9059-4c06-924b-4073f81a0c12"
    },
    {
      "cell_type": "code",
      "execution_count": 1058,
      "metadata": {
        "tags": []
      },
      "outputs": [],
      "source": [
        "x,y"
      ],
      "id": "59302e5c-d618-4fc8-bd64-342639da256f"
    },
    {
      "cell_type": "markdown",
      "metadata": {},
      "source": [
        "> 여기에서 x=2,y=3는 함수외부에 선언되었음. 함수 내부에는 x=10 이\n",
        "> 선언되었음. 함수내부에서 x+y를 계산하려고 했는데, y는 함수내부에 없음.\n",
        "> 그런데 함수외부에는 y가 있네? 그럼 함수외부에 있는 y를 빌려옴!! (이건\n",
        "> 엄청 위험한 코드임. 왜냐하면 y가 어디있는지 쉽게 찾을 수 없기 때문!)\n",
        "\n",
        "사실 이 코드에서 y와 같은 역할을 하는 변수를 “전역변수”라고 하는데, y가\n",
        "전역변수를 의미할때는 보통 대문자를 사용한다.\n",
        "\n",
        "`-` 예시5: 전역변수를 사용하는 모범코드"
      ],
      "id": "4d0ecfbf-094a-46a1-9af5-8581442032f7"
    },
    {
      "cell_type": "code",
      "execution_count": 1063,
      "metadata": {
        "tags": []
      },
      "outputs": [],
      "source": [
        "PI = 3.141592"
      ],
      "id": "4ed983b5-9681-4c40-87ff-0641747721f4"
    },
    {
      "cell_type": "code",
      "execution_count": 1064,
      "metadata": {
        "tags": []
      },
      "outputs": [],
      "source": [
        "def f(r):\n",
        "    return PI*(r**2)"
      ],
      "id": "784d0557-3df6-4ab8-a8a0-a9069ed565f6"
    },
    {
      "cell_type": "code",
      "execution_count": 1065,
      "metadata": {
        "tags": []
      },
      "outputs": [],
      "source": [
        "def g(r): \n",
        "    return (4/3)*PI*(r**3)"
      ],
      "id": "a5d76d6d-f100-4242-8bb6-c178eb42b213"
    },
    {
      "cell_type": "code",
      "execution_count": 1066,
      "metadata": {
        "tags": []
      },
      "outputs": [],
      "source": [
        "f(2),g(2)"
      ],
      "id": "57067791-192e-43e4-b2fd-dbd300202088"
    },
    {
      "cell_type": "markdown",
      "metadata": {},
      "source": [
        "`-` 예시6: 전역변수와 지역변수가 충돌한다면?"
      ],
      "id": "1e5681fc-7f52-4790-953d-ad3fc07e9e8d"
    },
    {
      "cell_type": "code",
      "execution_count": 1068,
      "metadata": {
        "tags": []
      },
      "outputs": [],
      "source": [
        "x = 5\n",
        "y = 5"
      ],
      "id": "cf47d231-6f97-448f-91dd-86010f3a74e5"
    },
    {
      "cell_type": "code",
      "execution_count": 1069,
      "metadata": {
        "tags": []
      },
      "outputs": [],
      "source": [
        "def f(x):\n",
        "    y = x+1 \n",
        "    return x**y"
      ],
      "id": "760763b5-d9af-4259-bbaf-45e0cc51b4f9"
    },
    {
      "cell_type": "code",
      "execution_count": 1071,
      "metadata": {
        "tags": []
      },
      "outputs": [],
      "source": [
        "f(2)"
      ],
      "id": "45c831ca-fd0a-4da5-a475-0b9ab2821bd1"
    },
    {
      "cell_type": "code",
      "execution_count": 1072,
      "metadata": {
        "tags": []
      },
      "outputs": [],
      "source": [
        "x,y"
      ],
      "id": "01452df9-da70-4390-b4d8-bcbef1aa3514"
    },
    {
      "cell_type": "markdown",
      "metadata": {},
      "source": [
        "> 이거 사실 예시1이랑 같은코드에요, 전역변수 개념이 너무 충격적이라서\n",
        "> 갑자기 헷갈릴 뿐입니다.\n",
        "\n",
        "## B. for / 컴프리헨션\n",
        "\n",
        "`-` 예시1: for문과 함께 사용된 $i$"
      ],
      "id": "76aec5b0-b266-4975-9668-f42abe4172aa"
    },
    {
      "cell_type": "code",
      "execution_count": 1094,
      "metadata": {
        "tags": []
      },
      "outputs": [],
      "source": [
        "i = None\n",
        "lst = None "
      ],
      "id": "23fcf998-02be-4611-a0aa-889ba74d214c"
    },
    {
      "cell_type": "code",
      "execution_count": 1095,
      "metadata": {
        "tags": []
      },
      "outputs": [],
      "source": [
        "i, lst "
      ],
      "id": "94f55f43-1d69-4862-8d86-0a21951373e6"
    },
    {
      "cell_type": "code",
      "execution_count": 1096,
      "metadata": {
        "tags": []
      },
      "outputs": [],
      "source": [
        "lst = []\n",
        "for i in range(5):\n",
        "    lst.append(i)"
      ],
      "id": "b2a29a8e-1e1c-4ae6-b64a-bf0ca82ab7b7"
    },
    {
      "cell_type": "code",
      "execution_count": 1093,
      "metadata": {
        "tags": []
      },
      "outputs": [],
      "source": [
        "i, lst"
      ],
      "id": "9388fae2-e8d4-4f3f-a98d-7c7409347359"
    },
    {
      "cell_type": "markdown",
      "metadata": {},
      "source": [
        "`-` 예시2: 컴프리헨션과 사용된 $i$"
      ],
      "id": "8d6e94b5-cdec-480c-ad62-f38c0e28cfda"
    },
    {
      "cell_type": "code",
      "execution_count": 1087,
      "metadata": {
        "tags": []
      },
      "outputs": [],
      "source": [
        "i = None\n",
        "lst = None "
      ],
      "id": "4d5f236f-92fa-4470-8c83-f7350501b2f4"
    },
    {
      "cell_type": "code",
      "execution_count": 1088,
      "metadata": {
        "tags": []
      },
      "outputs": [],
      "source": [
        "lst = [i for i in range(5)]"
      ],
      "id": "da8bad6c-ac0b-431d-8c5d-a79c836d3cae"
    },
    {
      "cell_type": "code",
      "execution_count": 1089,
      "metadata": {
        "tags": []
      },
      "outputs": [],
      "source": [
        "i, lst"
      ],
      "id": "3769c167-3cbd-4002-8e45-94747ce8071d"
    },
    {
      "cell_type": "markdown",
      "metadata": {},
      "source": [
        "# A1. 잔소리\n",
        "\n",
        "## A. 통계학과의 진로\n",
        "\n",
        "`-` 코딩과 상관 X\n",
        "\n",
        "-   시험을 통해 얻는 직업: 회계사, 공무원/공기업, …\n",
        "-   본인이 선택하는 직업: 가업, 학원선생님, 전과 이후 새 직업 탐색, …\n",
        "    [1]\n",
        "\n",
        "`-` 코딩과 상관 O\n",
        "\n",
        "-   당장 코딩실력이 필요할 경우 (= 코딩테스트를 준비해야 하는 경우):\n",
        "    IT기업 (네이버, 카카오, …), 빅데이터분석기업(LG-CNS, 삼성SDS, …),\n",
        "    기타대기업(삼성전자, 하이닉스, SKT, KT, …),\n",
        "-   당장 코딩실력이 필요하진 않지만 장기적으론 필요한 경우: 대학원진학,\n",
        "    금융권 (XX은행, XX증권, …), 병원(전북대병원등,…)\n",
        "\n",
        "`-` 시험을 통해 얻는 직업 vs 일반사기업입사 (혹은 대학원)\n",
        "\n",
        "-   사법고시공부 vs 좋은대학 느낌\n",
        "-   할 수 있다면 시험준비해서 좋은기업가면 좋음.\n",
        "-   그렇지 않다면\n",
        "    “공모전준비(캐글/데이콘경진대회경험등)”+“학점관리”+“영어공부”+“코딩테스트준비”+“학회활동”+“자격증대비”\n",
        "    -\\> 대학원 or 취업\n",
        "\n",
        "`-` 이 수업의 목적:\n",
        "\n",
        "`1`. 통계학과 상위과목 수강을 위한 실력쌓기: 기계학습활용, 기계학습,\n",
        "딥러닝, 데이터마이닝 등.. 파이썬을 활용하는 모든 과목들\n",
        "\n",
        "`2`. 코딩 흡수력 향상: 남의 코드를 보고 흡수할 수 있느냐?\n",
        "\n",
        "[1] 사실상 졸업을 위해서 수강하는 학생들"
      ],
      "id": "7b5709cc-3392-41dc-807c-4c8d177e8d52"
    },
    {
      "cell_type": "code",
      "execution_count": 14,
      "metadata": {
        "tags": []
      },
      "outputs": [],
      "source": [
        "'A'.isupper()"
      ],
      "id": "f03e5459-4cac-45b4-a7c4-5e0c13fc7cc6"
    },
    {
      "cell_type": "code",
      "execution_count": 13,
      "metadata": {
        "tags": []
      },
      "outputs": [],
      "source": [
        "'A'.islower()"
      ],
      "id": "74983073-9103-4f0f-a711-5ddfac0231bc"
    },
    {
      "cell_type": "markdown",
      "metadata": {},
      "source": [
        "`3`. 코딩테스트에 대한 대비 X (스트레스만 줄 것임)\n",
        "\n",
        "## B. 코딩테스트를 잘하면 좋은것\n",
        "\n",
        "`-` 삼성 청년 SW 아카데미\n",
        "<https://www.ssafy.com/ksp/jsp/swp/apply/swpApplyProcess.jsp>\n",
        "\n",
        "-   전문화된 SW교육 제공\n",
        "-   교육지원금 지급 (매월 100만원)\n",
        "-   국내외 연구소 실습기회 부여\n",
        "-   *이 자체가 엄청난 스펙..*\n",
        "\n",
        "`-` 카카오 2024 채용연계형 겨울 인턴십 모집\n",
        "<https://www.kakaocorp.com/page/detail/10677>\n",
        "\n",
        "-   인턴십 이후 전환 인터뷰를 통해 최종 정규직 전환 대상자가 확정\n",
        "-   전환 인터뷰에 통과하면 내년 3월부터 카카오 크루로 입사\n",
        "-   단, 학업 등의 이유로 부득이하게 내년 3월 입사가 어려운 경우 2024년\n",
        "    9월 이내 가능한 일자로 별도 조율할 예정\n",
        "-   *학생들 입장에서는 유일한 입사기회 + 떨어져도 좋은 경험*\n",
        "-   *최근에 이런 형태로 뽑는 기업들 많음*\n",
        "\n",
        "`-` 삼성 SW 역량테스트\n",
        "<https://swexpertacademy.com/main/capacityTest/main.do>\n",
        "\n",
        "-   *입사시험임 (파이썬 지원)*\n",
        "-   지원: <https://swexpertacademy.com/main/sst/intro.do>\n",
        "-   기출문제:\n",
        "    <https://swexpertacademy.com/main/code/problem/problemList.do>\n",
        "\n",
        "`-` 유용한사이트\n",
        "\n",
        "-   백준: <https://www.acmicpc.net/workbook/view/1152>\n",
        "-   프로그래머스: <https://programmers.co.kr/>\n",
        "\n",
        "`-` 학생들의 노력\n",
        "\n",
        "-   https://www.youtube.com/watch?v=saVwTNb1wzk\n",
        "-   [코딩테스트\n",
        "    탈락후기](https://www.google.com/search?q=%EC%BD%94%EB%94%A9%ED%85%8C%EC%8A%A4%ED%8A%B8+%ED%83%88%EB%9D%BD%ED%9B%84%EA%B8%B0&oq=%EC%BD%94%EB%94%A9%ED%85%8C%EC%8A%A4%ED%8A%B8+%ED%83%88%EB%9D%BD%ED%9B%84%EA%B8%B0&gs_lcrp=EgZjaHJvbWUyBggAEEUYOTIKCAEQABiABBiiBDIKCAIQABiABBiiBDIKCAMQABiABBiiBDIKCAQQABiABBiiBNIBBzQyNmowajmoAgCwAgE&sourceid=chrome&ie=UTF-8)\n",
        "\n",
        "## C. 코딩테스트 잘보는 방법?\n",
        "\n",
        "`-` 코딩테스트문제 = 구현문제 + 알고리즘문제\n",
        "\n",
        "-   알고리즘문제는 따로 공부해야함. (풀이 패턴이 있음, 퀴즈5-1~2)\n",
        "-   구현문제는 평소에 논리적 생각을 많이해야함 + 꼼꼼해야함 +\n",
        "    오류수정잘해야함(중간고사3)\n",
        "\n",
        "`-` 언어특화문법을 잘 이해해야함\n",
        "\n",
        "-   파이썬스러운 코딩 (퀴즈5-1, 퀴즈5-3)\n",
        "\n",
        "`-` 사용가능한 패키지를 잘 확인할 것: numpy, pandas 활용가능 유무\n",
        "\n",
        "`-` 계산 시간을 따질 것"
      ],
      "id": "a3a3842a-3167-45f1-86e8-c5d1c46c5c07"
    }
  ],
  "nbformat": 4,
  "nbformat_minor": 5,
  "metadata": {
    "kernelspec": {
      "name": "python3",
      "display_name": "Python 3 (ipykernel)",
      "language": "python"
    },
    "language_info": {
      "name": "python",
      "codemirror_mode": {
        "name": "ipython",
        "version": "3"
      },
      "file_extension": ".py",
      "mimetype": "text/x-python",
      "nbconvert_exporter": "python",
      "pygments_lexer": "ipython3",
      "version": "3.10.13"
    }
  }
}