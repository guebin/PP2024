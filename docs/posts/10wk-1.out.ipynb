{
  "cells": [
    {
      "cell_type": "markdown",
      "metadata": {},
      "source": [
        "# 10wk-1: 퀴즈6\n",
        "\n",
        "최규빈  \n",
        "2024-05-08\n",
        "\n",
        "<a href=\"https://colab.research.google.com/github/guebin/PP2024/blob/main/posts/10wk-1.ipynb\"><img src=\"https://colab.research.google.com/assets/colab-badge.svg\" style=\"text-align: left\"></a>\n",
        "\n",
        "> **Caution**\n",
        ">\n",
        "> -   전북대 학생들을 시험당일 학생증을 지참할 것. (출석체크 및\n",
        ">     본인확인) 학생증 외에 신분증 여권등도 가능.\n",
        "> -   부정행위 (카카오톡 채팅을 통한 코드공유, 생성형모델 사용, 대리시험\n",
        ">     등) 적발시 F 처리함.\n",
        "> -   퀴즈 중 지각할 경우 지각사실을 기록함. 하지만 별 다른 감점은 하지\n",
        ">     않음.\n",
        "> -   `.ipynb` 파일 형태로 제출된 답안지만 채점하며 그 외의 형식\n",
        ">     (`.hwp`, `.py` 등)은 채점하지 않음. 즉 0점 처리함."
      ],
      "id": "10eb4a38-70c8-44d3-be1b-90156d55cfdb"
    },
    {
      "cell_type": "code",
      "execution_count": 3,
      "metadata": {
        "tags": []
      },
      "outputs": [],
      "source": [
        "import numpy as np\n",
        "import matplotlib.pyplot as plt\n",
        "import urllib.request"
      ],
      "id": "f4e7c4f4-d8b9-4418-9553-df9108f7630e"
    },
    {
      "cell_type": "markdown",
      "metadata": {},
      "source": [
        "# 1. MNIST – 40점\n",
        "\n",
        "> 모두 맞출경우만 정답으로 인정\n",
        "\n",
        "아래의 코드를 실행하여 MNIST 자료를 불러오라."
      ],
      "id": "3640a674-90a8-4363-aa2b-86421fb62e23"
    },
    {
      "cell_type": "code",
      "execution_count": 17,
      "metadata": {
        "tags": []
      },
      "outputs": [],
      "source": [
        "# URL 설정\n",
        "url = 'https://github.com/guebin/PP2023/raw/main/posts/02_DataScience/mnist.npz'\n",
        "\n",
        "# URL에서 파일 다운로드\n",
        "urllib.request.urlretrieve(url, './mnist.npz')\n",
        "\n",
        "# 데이터 로드\n",
        "data = np.load('./mnist.npz')\n",
        "xtrain, ytrain, xtest, ytest = data['x_train']/255, data['y_train'], data['x_test']/255, data['y_test']\n",
        "\n",
        "# mnist.npz 삭제\n",
        "!rm mnist.npz"
      ],
      "id": "30b2da13-6b5c-4bf9-b0fe-6e4fab93c256"
    },
    {
      "cell_type": "markdown",
      "metadata": {},
      "source": [
        "`(1)` xtrain, xtest를 합쳐서 shape이 (70000,28,28) 인 numpy array를\n",
        "생성하고 이것을 `X`에 저장하라.\n",
        "\n",
        "`(풀이)`"
      ],
      "id": "e39e4465-1984-4fc1-8eef-5192c0425751"
    },
    {
      "cell_type": "code",
      "execution_count": 18,
      "metadata": {
        "tags": []
      },
      "outputs": [],
      "source": [
        "X = np.concatenate([xtrain,xtest])\n",
        "y = np.concatenate([ytrain,ytest])"
      ],
      "id": "633c482b-287d-4985-8e75-d4cd68ab8a0d"
    },
    {
      "cell_type": "markdown",
      "metadata": {},
      "source": [
        "`(2)` 아래의 코드에 43052대신 본인 학번 끝의 5자리를 입력하여 (3,3)\n",
        "크기의 난수를 생성하라."
      ],
      "id": "fc00d403-1dfd-4bcb-b9a9-db0b7f7fd686"
    },
    {
      "cell_type": "code",
      "execution_count": 5,
      "metadata": {
        "tags": []
      },
      "outputs": [],
      "source": [
        "np.random.seed(43052)\n",
        "np.random.binomial(n=1,p=0.5,size=(3,3))"
      ],
      "id": "543eb619-bcf3-4bb9-87f5-9fa9e2b5279e"
    },
    {
      "cell_type": "markdown",
      "metadata": {},
      "source": [
        "위에서 생성된 난수를 저장된 `X`의 평균이미지를 concat하여 시각화하라.\n",
        "\n",
        "> 주의: 시각화하는 이미지는 (84,84) 의 shape을 가지고 있어야 한다.\n",
        "\n",
        "`(풀이)`"
      ],
      "id": "cc69bd42-c214-497b-9967-611c73e6cc31"
    },
    {
      "cell_type": "code",
      "execution_count": 22,
      "metadata": {
        "tags": []
      },
      "outputs": [],
      "source": [
        "X0 = X[y==0].mean(axis=0)\n",
        "X1 = X[y==1].mean(axis=0)"
      ],
      "id": "b5122649-da64-4f24-b121-b4d693560dcd"
    },
    {
      "cell_type": "code",
      "execution_count": 24,
      "metadata": {
        "tags": []
      },
      "outputs": [
        {
          "output_type": "display_data",
          "metadata": {},
          "data": {
            "image/png": "[encoded data removed]"
          }
        }
      ],
      "source": [
        "solution = np.concatenate(\n",
        "    [np.concatenate([X1,X0,X1],axis=1),\n",
        "     np.concatenate([X1,X0,X0],axis=1),\n",
        "     np.concatenate([X1,X1,X1],axis=1)]\n",
        ")\n",
        "plt.imshow(solution,cmap='gray')"
      ],
      "id": "d5d08f8f-937c-4cad-a447-644cf066b5ea"
    },
    {
      "cell_type": "markdown",
      "metadata": {},
      "source": [
        "# 2. 공든탑쌓기 – 60점\n",
        "\n",
        "> (1)-(2)는 점수없음. (풀지 않아도 무방) // (3) 만 맞출경우 20점,\n",
        "> (3)-(4) 모두 맞출경우 60점\n",
        "\n",
        "규빈과 다호가 블록을 사용하여 탑을 쌓는다. 규빈은 한 번에 2개의 블록을\n",
        "사용하여 탑을 쌓지만, 실수로 탑을 무너뜨릴 확률이 50%이다. 한 번 무너진\n",
        "탑은 다시 처음부터 쌓아야 한다. 다호는 한 번에 1개의 블록을 사용하여\n",
        "신중하게 탑을 쌓는다. 다호는 천천히 탑을 쌓지만 실수로 탑을 무너뜨리지\n",
        "않는다.\n",
        "\n",
        "`(1)` 규빈과 다호가 2층 높이의 탑을 먼저 쌓는 내기를 하였다고 하자. 탑을\n",
        "쌓을수 있는 기회는 2회 준다. 이 내기는 누가 유리한가? 시뮬레이션을\n",
        "통하여 근거를 설명하라. (둘이 동시에 탑을 쌓을경우 무승부로 판단한다.)\n",
        "\n",
        "`(2)` 규빈과 다호가 10층 높이의 탑을 먼저 쌓는 내기를 하였다고 하자.\n",
        "탑을 쌓을수 있는 기회는 10회 준다. 이 내기는 누가 유리한가? 시뮬레이션을\n",
        "통하여 근거를 설명하라. (둘이 동시에 탑을 쌓을경우 무승부로 판단한다.)\n",
        "\n",
        "`(3)` (2)와 같은 게임규칙[1]에서 규빈은 본인이 불리하다는 사실을\n",
        "알아챘다. 규빈은 아래와 같이 전략을 수정하였다.\n",
        "\n",
        "-   규빈탑의 높이 \\<8 일 경우: (다호처럼) 1개의 블록만 안전하게 쌓는다.\n",
        "    이때 1개의 블록쌓기는 100% 확률로 성공한다.\n",
        "-   규빈탑의 높이 \\>=8 일 경우: 2개의 블록을 쌓으려고 시도한다 (50%의\n",
        "    확률로 성공 / 50%의 확률로 실패, 실패시 규빈의 블록 높이는 0이 된다)\n",
        "\n",
        "규빈이 전략을 수정함에 따라 내기는 누가 유리해지는가? 근거를 설명하라.\n",
        "(둘이 동시에 탑을 쌓을경우 무승부로 판단한다.)\n",
        "\n",
        "> 이 문제는 시뮬레이션을 이용하여 근거를 설명하지 않아도 무방함 (해도\n",
        "> 되고 안해도 되고..)\n",
        "\n",
        "`(풀이1)`\n",
        "\n",
        "8층까지는 동일하게 규빈,다호 하나의 블록씩 쌓음. 8층에서 규빈은 한번에\n",
        "2층을 쌓으려는 도박을 시도하는데 도박이 성공한다면 승리, 실패하면\n",
        "패배이므로 이 내기는 5:5로 공평하게 유리하다.\n",
        "\n",
        "`(풀이2)`\n",
        "\n",
        "[1] 10층높이의 탑을 먼저 쌓는 쪽이 이기며, 기회는 10번 주는 게임"
      ],
      "id": "de4aa830-cec6-47ed-9485-4a0419fc8c7d"
    },
    {
      "cell_type": "code",
      "execution_count": 29,
      "metadata": {
        "tags": []
      },
      "outputs": [],
      "source": [
        "def build_tower(max_time, end_condition):\n",
        "    guebin = 0\n",
        "    daho = 0\n",
        "    for t in range(max_time): # max_time 동안 게임을 진행 \n",
        "        #--# 블록을 쌓음           \n",
        "        if guebin < 8: # 규빈탑의 높이<8 인 경우 규빈이 블록을 1층씩 쌓음 \n",
        "            guebin = guebin + 1 \n",
        "            daho = daho + 1 \n",
        "        else: # 규빈탑의 높이 == 8인 경우 규빈은 2개의 블록을 쌓으려는 도박을 시도\n",
        "            if np.random.rand() < 0.5: # 규빈이 탑 쌓다가 실수로 무너짐\n",
        "                guebin = 0 \n",
        "                daho = daho + 1 \n",
        "            else: # 규빈이 탑을 잘 쌓음 \n",
        "                guebin = guebin + 2  \n",
        "                daho = daho + 1 \n",
        "        #--# 승패를 체크\n",
        "        if (guebin >= end_condition) and (daho >= end_condition):\n",
        "            result = \"무승부 (둘이 동시에 성공)\"\n",
        "            break\n",
        "        elif (guebin >= end_condition) and (daho < end_condition):\n",
        "            result = \"규빈승\"\n",
        "            break\n",
        "        elif (guebin < end_condition) and (daho >= end_condition):\n",
        "            result = \"다호승\"\n",
        "            break\n",
        "        else: \n",
        "            result = \"무승부 (둘다 쌓지 못함)\"\n",
        "    return result "
      ],
      "id": "93bcb1da-974c-4254-b8de-f57e9a31df46"
    },
    {
      "cell_type": "code",
      "execution_count": 30,
      "metadata": {
        "tags": []
      },
      "outputs": [],
      "source": [
        "results = [build_tower(max_time=10,end_condition=10) for i in range(1000)]\n",
        "{s:results.count(s) for s in set(results)}"
      ],
      "id": "05b1df04-0c3b-405b-90bf-367e886955cf"
    },
    {
      "cell_type": "markdown",
      "metadata": {},
      "source": [
        "시뮬레이션 결과 공평하게 유리하다.\n",
        "\n",
        "`(4)` (2)와 같은 게임규칙[1]에서 규빈이 아래와 같이 전략을 수정한다면\n",
        "누가 유리한가? 시뮬레이션을 통하여 근거를 설명하라.\n",
        "\n",
        "-   규빈탑의 높이 \\<2 일 경우: 2개의 블록을 쌓으려고 시도한다 (50%의\n",
        "    확률로 성공 / 50%의 확률로 실패, 실패시 규빈의 블록 높이는 0이 된다)\n",
        "-   규빈탑의 높이 \\>=2 일 경우: (다호처럼) 1개의 블록만 안전하게 쌓는다.\n",
        "    이때 1개의 블록쌓기는 100% 확률로 성공한다.\n",
        "\n",
        "[1] 10층높이의 탑을 먼저 쌓는 쪽이 이기며, 기회는 10번 주는 게임"
      ],
      "id": "ab164d73-f2e0-430f-98b0-508e7517af4f"
    },
    {
      "cell_type": "code",
      "execution_count": 27,
      "metadata": {
        "tags": []
      },
      "outputs": [],
      "source": [
        "def build_tower(max_time, end_condition):\n",
        "    guebin = 0\n",
        "    daho = 0\n",
        "    for t in range(max_time): # max_time 동안 게임을 진행 \n",
        "        #--# 블록을 쌓음           \n",
        "        if guebin >= 2: # 규빈탑의 높이 >=2 인 경우 규빈이 안전하게 1개의 블록씩 쌓으려고 노력한다. \n",
        "            guebin = guebin + 1 \n",
        "            daho = daho + 1 \n",
        "        else: # 규빈탑의높이<2 인경우 2개의 블록을 쌓으려 시도한다. \n",
        "            if np.random.rand() < 0.5: # 규빈이 탑 쌓다가 실수로 무너짐\n",
        "                guebin = 0 \n",
        "                daho = daho + 1 \n",
        "            else: # 규빈이 탑을 잘 쌓음 \n",
        "                guebin = guebin + 2  \n",
        "                daho = daho + 1 \n",
        "        #--# 승패를 체크\n",
        "        if (guebin >= end_condition) and (daho >= end_condition):\n",
        "            result = \"무승부 (둘이 동시에 성공)\"\n",
        "            break\n",
        "        elif (guebin >= end_condition) and (daho < end_condition):\n",
        "            result = \"규빈승\"\n",
        "            break\n",
        "        elif (guebin < end_condition) and (daho >= end_condition):\n",
        "            result = \"다호승\"\n",
        "            break\n",
        "        else: \n",
        "            result = \"무승부 (둘다 쌓지 못함)\"\n",
        "    return result "
      ],
      "id": "ca311dd7-f5fd-4cff-a0b4-c8eadab43c7d"
    },
    {
      "cell_type": "code",
      "execution_count": 28,
      "metadata": {
        "tags": []
      },
      "outputs": [],
      "source": [
        "results = [build_tower(max_time=10,end_condition=10) for i in range(1000)]\n",
        "{s:results.count(s) for s in set(results)}"
      ],
      "id": "d65227d9-5bf2-46b1-8fa2-aabf616caf7e"
    },
    {
      "cell_type": "markdown",
      "metadata": {},
      "source": [
        "> 사실상 `(2)`와 같은 경우이다. 규빈이 2개의 블럭을 쌓는 첫시도에서\n",
        "> 성공한다면 규빈의 승리 (이미 1층씩 쌓아도 승리확정이므로 이후에는 굳이\n",
        "> 도박을 할 필요가 없음), 규빈이 2개의 블럭을 쌓는 시도를 하여 첫\n",
        "> 시도에서 실패하고 두번째 시도에서 성공한다면 무승부, 규빈이 2개의\n",
        "> 블럭을 쌓는 시도에서 처음 두번을 연속 실패한다면 이후의 결과와\n",
        "> 상관없이 규빈의 패배로 결정된다."
      ],
      "id": "03470368-9d61-43ed-993d-e6ffb396863e"
    }
  ],
  "nbformat": 4,
  "nbformat_minor": 5,
  "metadata": {
    "kernelspec": {
      "name": "python3",
      "display_name": "Python 3 (ipykernel)",
      "language": "python"
    },
    "language_info": {
      "name": "python",
      "codemirror_mode": {
        "name": "ipython",
        "version": "3"
      },
      "file_extension": ".py",
      "mimetype": "text/x-python",
      "nbconvert_exporter": "python",
      "pygments_lexer": "ipython3",
      "version": "3.10.13"
    }
  }
}