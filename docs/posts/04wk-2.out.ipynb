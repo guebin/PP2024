{
  "cells": [
    {
      "cell_type": "markdown",
      "metadata": {},
      "source": [
        "# 04wk-2: 파이썬의 자료형 (1)\n",
        "\n",
        "최규빈  \n",
        "2024-03-29\n",
        "\n",
        "<a href=\"https://colab.research.google.com/github/guebin/PP2024/blob/main/posts/04wk-2.ipynb\"><img src=\"https://colab.research.google.com/assets/colab-badge.svg\" style=\"text-align: left\"></a>\n",
        "\n",
        "# 1. 강의영상\n",
        "\n",
        "<https://youtu.be/playlist?list=PLQqh36zP38-wwdZJIQiqJdmbWB90HM-VK&si=O2VyS-dYdtqnlD25>\n",
        "\n",
        "# 2. Imports"
      ],
      "id": "80a70c6f-953f-486e-8f5d-633720433ac5"
    },
    {
      "cell_type": "code",
      "execution_count": 57,
      "metadata": {},
      "outputs": [],
      "source": [
        "pass"
      ],
      "id": "432e3352-f53c-4576-8fff-d1a29f4bb48a"
    },
    {
      "cell_type": "markdown",
      "metadata": {},
      "source": [
        "# 3. 형변환\n",
        "\n",
        "`-` 파이썬의 기본자료형은 int, float, bool, str, list, tuple, dict, set\n",
        "등이 있다.\n",
        "\n",
        "-   0차원 자료형: int, float, bool\n",
        "-   1차원 자료형: str, list, tuple, dict, set\n",
        "\n",
        "## A. 사용자가 직접형태변환\n",
        "\n",
        "`-` 형태변환: float $\\to$ int\n",
        "\n",
        "(예시1)"
      ],
      "id": "d2c8a934-7890-4331-9d00-e96409eafac4"
    },
    {
      "cell_type": "code",
      "execution_count": 58,
      "metadata": {
        "vscode": {
          "languageId": "python"
        }
      },
      "outputs": [],
      "source": [
        "a=3.0\n",
        "type(a)"
      ],
      "id": "6f964452-1762-43f6-ba1d-74596e10f49f"
    },
    {
      "cell_type": "code",
      "execution_count": 59,
      "metadata": {
        "vscode": {
          "languageId": "python"
        }
      },
      "outputs": [],
      "source": [
        "a=int(a)"
      ],
      "id": "c80b0380-031c-4c21-8606-3afffc6c1bca"
    },
    {
      "cell_type": "code",
      "execution_count": 60,
      "metadata": {
        "vscode": {
          "languageId": "python"
        }
      },
      "outputs": [],
      "source": [
        "type(a)"
      ],
      "id": "dd9cf497-7fbf-4e39-8f44-e6a343cf0298"
    },
    {
      "cell_type": "markdown",
      "metadata": {},
      "source": [
        "(예시2) 이경우는 정보의 손실이 발생"
      ],
      "id": "9b394b3b-649e-482a-940b-d12d050b79c2"
    },
    {
      "cell_type": "code",
      "execution_count": 62,
      "metadata": {
        "vscode": {
          "languageId": "python"
        }
      },
      "outputs": [],
      "source": [
        "a=3.14 \n",
        "int(a)"
      ],
      "id": "0f945465-ab18-4c52-92cd-6126e5b0efa2"
    },
    {
      "cell_type": "markdown",
      "metadata": {},
      "source": [
        "`-` 형태변환: int $\\to$ float"
      ],
      "id": "00a79ec7-a088-4dbe-a525-c36f0d5750a9"
    },
    {
      "cell_type": "code",
      "execution_count": 64,
      "metadata": {
        "vscode": {
          "languageId": "python"
        }
      },
      "outputs": [],
      "source": [
        "a=3\n",
        "type(a)"
      ],
      "id": "3ed49aa6-8de6-45bc-9aef-f6b5523c2b72"
    },
    {
      "cell_type": "code",
      "execution_count": 66,
      "metadata": {
        "vscode": {
          "languageId": "python"
        }
      },
      "outputs": [],
      "source": [
        "a=float(a)\n",
        "type(a)"
      ],
      "id": "ea3a05bd-567b-489d-a887-154261ce784c"
    },
    {
      "cell_type": "markdown",
      "metadata": {},
      "source": [
        "`-` 형태변환: bool $\\to$ int/float, int/float $\\to$ bool\n",
        "\n",
        "(예시1)"
      ],
      "id": "0ed6612c-c914-4e91-9150-1d4cb5a67327"
    },
    {
      "cell_type": "code",
      "execution_count": 41,
      "metadata": {
        "vscode": {
          "languageId": "python"
        }
      },
      "outputs": [],
      "source": [
        "a=True\n",
        "type(a)"
      ],
      "id": "4171066b-db9c-422f-abc8-e58545708528"
    },
    {
      "cell_type": "code",
      "execution_count": 42,
      "metadata": {
        "vscode": {
          "languageId": "python"
        }
      },
      "outputs": [],
      "source": [
        "int(a)"
      ],
      "id": "5653b7c6-9610-4f4a-b528-ffb57b1cfb0e"
    },
    {
      "cell_type": "code",
      "execution_count": 43,
      "metadata": {
        "vscode": {
          "languageId": "python"
        }
      },
      "outputs": [],
      "source": [
        "float(a)"
      ],
      "id": "1301ba7b-4945-4e65-9b7f-e3d1de995f41"
    },
    {
      "cell_type": "markdown",
      "metadata": {},
      "source": [
        "(예시2)"
      ],
      "id": "ddd0b220-9a41-4f37-9694-093617702ae2"
    },
    {
      "cell_type": "code",
      "execution_count": 59,
      "metadata": {
        "vscode": {
          "languageId": "python"
        }
      },
      "outputs": [],
      "source": [
        "a=1 \n",
        "bool(a)"
      ],
      "id": "85b738c9-3875-48bf-9aae-c49688ac0db2"
    },
    {
      "cell_type": "code",
      "execution_count": 60,
      "metadata": {
        "vscode": {
          "languageId": "python"
        }
      },
      "outputs": [],
      "source": [
        "a=0\n",
        "bool(a)"
      ],
      "id": "13e395de-b15d-49e5-9d6b-3fc3f198f4da"
    },
    {
      "cell_type": "markdown",
      "metadata": {},
      "source": [
        "(예시3)"
      ],
      "id": "7441f86b-7a2d-411f-90f5-c3660b04f272"
    },
    {
      "cell_type": "code",
      "execution_count": 61,
      "metadata": {
        "vscode": {
          "languageId": "python"
        }
      },
      "outputs": [],
      "source": [
        "a=1.0\n",
        "bool(a)"
      ],
      "id": "508ff1d1-e626-4e76-ad52-dbb79377228b"
    },
    {
      "cell_type": "code",
      "execution_count": 62,
      "metadata": {
        "vscode": {
          "languageId": "python"
        }
      },
      "outputs": [],
      "source": [
        "a=0.0\n",
        "bool(a)"
      ],
      "id": "50047512-a291-42b7-aa85-6031fb602437"
    },
    {
      "cell_type": "markdown",
      "metadata": {},
      "source": [
        "`-` 이상한 형태변환도 가능하다. (이런것도 바꿔주나 싶은것도 바꿔줌)"
      ],
      "id": "83dc7994-65b6-480f-bb52-a7092c106067"
    },
    {
      "cell_type": "code",
      "execution_count": 75,
      "metadata": {
        "vscode": {
          "languageId": "python"
        }
      },
      "outputs": [],
      "source": [
        "bool(-3.14)"
      ],
      "id": "90d1d403-4f75-40f6-bc61-4e05f69b49e0"
    },
    {
      "cell_type": "markdown",
      "metadata": {},
      "source": [
        "-   저는 이런 코드를 의도적으로 사용하지 않아요.."
      ],
      "id": "eed7604e-17ca-4030-a3b3-70f5fbf47790"
    },
    {
      "cell_type": "code",
      "execution_count": 71,
      "metadata": {
        "vscode": {
          "languageId": "python"
        }
      },
      "outputs": [],
      "source": [
        "int(3.14)"
      ],
      "id": "3304a522-95be-4981-814f-313acd50bbf9"
    },
    {
      "cell_type": "markdown",
      "metadata": {},
      "source": [
        "`-` 형태변환이 항상가능한것도 아님"
      ],
      "id": "f57d474b-6da1-474b-94de-5fcbf04bcb2f"
    },
    {
      "cell_type": "code",
      "execution_count": 76,
      "metadata": {
        "vscode": {
          "languageId": "python"
        }
      },
      "outputs": [],
      "source": [
        "float(3+0j) # 사실상 3+0j=3 이므로 float으로 형변환하면 3.0이 되어야 할 것 같은데 변환불가능하다. "
      ],
      "id": "601b94de-583e-4e6d-8953-3782f834cf03"
    },
    {
      "cell_type": "markdown",
      "metadata": {},
      "source": [
        "## B. 암묵적형변환\n",
        "\n",
        "`-` 암묵적형변환 (implicit)\n",
        "\n",
        "(예비학습) implicit의 의미\n",
        "\n",
        "-   추운날씨 -\\> 보일러좀 틀자! (explicit) / 오늘 날씨 좀 추운 것 같지\n",
        "    않아? (implicit)\n",
        "-   짜장면 먹을래? -\\> 싫어! (explicit) / 난 어제 짜장면 먹었는데..\n",
        "    (implicit)\n",
        "\n",
        "(예제)"
      ],
      "id": "77ee3c3f-8740-46aa-a57a-fc4038e4cfce"
    },
    {
      "cell_type": "code",
      "execution_count": 79,
      "metadata": {
        "vscode": {
          "languageId": "python"
        }
      },
      "outputs": [],
      "source": [
        "True * 1 # 1을 곱할건데 너 계속 True로 있을꺼야? "
      ],
      "id": "b8eb78ad-969a-4b23-acb6-ec2192d137ad"
    },
    {
      "cell_type": "code",
      "execution_count": 82,
      "metadata": {
        "vscode": {
          "languageId": "python"
        }
      },
      "outputs": [],
      "source": [
        "1 * 1.0 # 1.0을 곱할건데 너 계속 int로 있을꺼야? "
      ],
      "id": "f9ec11b4-a75e-4c88-a4ad-de504ea3a556"
    },
    {
      "cell_type": "code",
      "execution_count": 82,
      "metadata": {
        "vscode": {
          "languageId": "python"
        }
      },
      "outputs": [],
      "source": [
        "True+True # +연산을 할건데 계속 True로 있을꺼야? "
      ],
      "id": "5b72ccde-ba9e-4741-98ed-851225e16d28"
    },
    {
      "cell_type": "markdown",
      "metadata": {},
      "source": [
        "# 4. `string`\n",
        "\n",
        "## A. 선언\n",
        "\n",
        "`-` 예시1"
      ],
      "id": "2b94169f-d641-489a-b0ff-f995e8ba885f"
    },
    {
      "cell_type": "code",
      "execution_count": 85,
      "metadata": {},
      "outputs": [],
      "source": [
        "a='guebin'"
      ],
      "id": "5bc90b8a-068a-4336-8c5c-29f3185cf8a7"
    },
    {
      "cell_type": "code",
      "execution_count": 86,
      "metadata": {},
      "outputs": [],
      "source": [
        "a"
      ],
      "id": "aa34e6cf-84d6-4cfd-803e-6d29523d1f18"
    },
    {
      "cell_type": "markdown",
      "metadata": {},
      "source": [
        "`-` 예시2"
      ],
      "id": "7039def1-53ef-4a34-97f3-c27c54f5a0a5"
    },
    {
      "cell_type": "code",
      "execution_count": 87,
      "metadata": {},
      "outputs": [],
      "source": [
        "a=\"guebin\""
      ],
      "id": "382c1e02-ef0e-4615-8459-23eb827fcc62"
    },
    {
      "cell_type": "code",
      "execution_count": 88,
      "metadata": {},
      "outputs": [],
      "source": [
        "a"
      ],
      "id": "5ea4dad0-31f5-4b29-b963-bf76c778dd11"
    },
    {
      "cell_type": "markdown",
      "metadata": {},
      "source": [
        "`-` 예시3"
      ],
      "id": "3b4fda26-3d82-4683-967f-7ca544eac38f"
    },
    {
      "cell_type": "code",
      "execution_count": 92,
      "metadata": {},
      "outputs": [],
      "source": [
        "a=\"asdf'a'sdf\"\n",
        "a"
      ],
      "id": "869b61d0-2d92-4252-a2ab-2af824c41436"
    },
    {
      "cell_type": "markdown",
      "metadata": {},
      "source": [
        "`-` 예시4"
      ],
      "id": "4796127a-e253-4fed-a908-6c966adafe93"
    },
    {
      "cell_type": "code",
      "execution_count": 93,
      "metadata": {},
      "outputs": [],
      "source": [
        "a='asdf\"a\"sdf'\n",
        "a"
      ],
      "id": "e6ef1dec-68f4-4a2d-bfa5-b7fb4ee4053a"
    },
    {
      "cell_type": "markdown",
      "metadata": {},
      "source": [
        "## B. 연산\n",
        "\n",
        "`-` 더하기(+)연산"
      ],
      "id": "ea194cc2-b980-42e4-9e7b-bd950ce0c46f"
    },
    {
      "cell_type": "code",
      "execution_count": 97,
      "metadata": {},
      "outputs": [],
      "source": [
        "a='X'\n",
        "b='2'"
      ],
      "id": "d57cdce2-5d84-4799-a628-95fc5e42e40b"
    },
    {
      "cell_type": "code",
      "execution_count": 98,
      "metadata": {},
      "outputs": [],
      "source": [
        "c=a+b\n",
        "c"
      ],
      "id": "0e010559-8d46-4330-8551-e28ae6d55d07"
    },
    {
      "cell_type": "markdown",
      "metadata": {},
      "source": [
        "`-` 빼기(-)연산"
      ],
      "id": "11bc950b-a037-4e67-bf1a-847abbd01303"
    },
    {
      "cell_type": "code",
      "execution_count": 102,
      "metadata": {},
      "outputs": [],
      "source": [
        "a='X2'\n",
        "b='2'\n",
        "a-b"
      ],
      "id": "f96eb260-6d53-42c2-884f-29c28c6bce3a"
    },
    {
      "cell_type": "markdown",
      "metadata": {},
      "source": [
        "-   이런건 없다.\n",
        "\n",
        "`-` 곱하기(\\*)연산"
      ],
      "id": "8249da1d-8fce-4c33-b129-05a9eb6fb475"
    },
    {
      "cell_type": "code",
      "execution_count": 110,
      "metadata": {},
      "outputs": [],
      "source": [
        "a='X'"
      ],
      "id": "434ec741-fb00-495f-8742-16cf5525bd41"
    },
    {
      "cell_type": "code",
      "execution_count": 111,
      "metadata": {},
      "outputs": [],
      "source": [
        "a+a+a"
      ],
      "id": "d5d57576-3956-4932-957d-47e86384038a"
    },
    {
      "cell_type": "code",
      "execution_count": 112,
      "metadata": {},
      "outputs": [],
      "source": [
        "a*3 # a*3 = a+a+a = 'X'+'X+'X'"
      ],
      "id": "468a02a2-1350-42d3-9d86-4ebbca0a76e5"
    },
    {
      "cell_type": "markdown",
      "metadata": {},
      "source": [
        "아래도 가능하다."
      ],
      "id": "64da2d8c-45b7-4a05-9e5e-0408edaceb40"
    },
    {
      "cell_type": "code",
      "execution_count": 96,
      "metadata": {},
      "outputs": [],
      "source": [
        "3*a"
      ],
      "id": "1a493f7f-1655-4794-858f-7bc689a7b4c5"
    },
    {
      "cell_type": "markdown",
      "metadata": {},
      "source": [
        "그리고 아래도 가능하다."
      ],
      "id": "73cfc0d4-194b-49f9-b8dc-41f5ad41648f"
    },
    {
      "cell_type": "code",
      "execution_count": 97,
      "metadata": {},
      "outputs": [],
      "source": [
        "a='X'\n",
        "b=3 \n",
        "a*b"
      ],
      "id": "4e53321e-a6d6-4a61-ab88-a1325fafe677"
    },
    {
      "cell_type": "markdown",
      "metadata": {},
      "source": [
        "대신에 의미상 맞지 않는 것은 수행되지 않고 에러가 난다."
      ],
      "id": "ec73e38f-70ee-47af-8793-beca6cdda3c6"
    },
    {
      "cell_type": "code",
      "execution_count": 117,
      "metadata": {},
      "outputs": [],
      "source": [
        "a='X'\n",
        "b='Y'\n",
        "a+b"
      ],
      "id": "8614315c-83ff-492d-82b8-657cbeb708e4"
    },
    {
      "cell_type": "code",
      "execution_count": 118,
      "metadata": {},
      "outputs": [],
      "source": [
        "a*b"
      ],
      "id": "173c66df-d70b-41c9-a442-8f82761a19ae"
    },
    {
      "cell_type": "markdown",
      "metadata": {},
      "source": [
        "`-` 나눗셈(/)연산"
      ],
      "id": "3d693672-fc8c-4996-844c-7d7d6374da40"
    },
    {
      "cell_type": "code",
      "execution_count": 120,
      "metadata": {},
      "outputs": [],
      "source": [
        "2*'X'"
      ],
      "id": "353e4a99-e652-487f-9f57-07127152d320"
    },
    {
      "cell_type": "code",
      "execution_count": 72,
      "metadata": {},
      "outputs": [],
      "source": [
        "a='XX'"
      ],
      "id": "4c44ec89-432f-4691-a7f5-039df1991893"
    },
    {
      "cell_type": "code",
      "execution_count": 73,
      "metadata": {},
      "outputs": [],
      "source": [
        "a/2"
      ],
      "id": "5f9a9a0f-9369-4203-b1f6-6f94cceff0a9"
    },
    {
      "cell_type": "markdown",
      "metadata": {},
      "source": [
        "-   이런건 없다..\n",
        "\n",
        "## C. 인덱싱\n",
        "\n",
        "`-` str은 하나의 벡터 문자가 여러개 있는 형태라고 생각하면 된다."
      ],
      "id": "b9b5fccc-b2a5-4842-bcea-a5066ef9c623"
    },
    {
      "cell_type": "code",
      "execution_count": 125,
      "metadata": {},
      "outputs": [],
      "source": [
        "a='guebin'"
      ],
      "id": "ea554e12-5463-4b16-859e-7e35ae063100"
    },
    {
      "cell_type": "code",
      "execution_count": 129,
      "metadata": {},
      "outputs": [],
      "source": [
        "a"
      ],
      "id": "8727af57-3785-47d5-b0b9-db7da1d244f1"
    },
    {
      "cell_type": "markdown",
      "metadata": {},
      "source": [
        "-   6개의 칸에 글씨가 하나씩 들어가 있음.\n",
        "\n",
        "`-` 대괄호 `[]`안에 숫자를 넣는 방식으로 벡터의 원소를 호출할 수 있다.\n",
        "(주의: 인덱스가 0부터 시작함)"
      ],
      "id": "06b85167-b999-474a-9a86-8cab885052f4"
    },
    {
      "cell_type": "code",
      "execution_count": 77,
      "metadata": {},
      "outputs": [],
      "source": [
        "a[0] #첫번째원소"
      ],
      "id": "4d6a13cb-970c-4f89-b28b-bf7b91ba08e7"
    },
    {
      "cell_type": "code",
      "execution_count": 78,
      "metadata": {},
      "outputs": [],
      "source": [
        "a[1] #두번째원소 "
      ],
      "id": "290d9188-f419-49d1-b798-90ed66c24bd4"
    },
    {
      "cell_type": "markdown",
      "metadata": {},
      "source": [
        "마지막원소는 -1로 호출할 수도 있다."
      ],
      "id": "d857f8ed-6745-49f2-9573-bf5889611842"
    },
    {
      "cell_type": "code",
      "execution_count": 114,
      "metadata": {},
      "outputs": [],
      "source": [
        "a[-1]"
      ],
      "id": "9d0140f6-1c32-4817-be93-79a3f5094629"
    },
    {
      "cell_type": "markdown",
      "metadata": {},
      "source": [
        "마지막에서 2번째 원소는 -2로 호출가능하다."
      ],
      "id": "db2f4f73-8355-40f2-9b26-64134436ace1"
    },
    {
      "cell_type": "code",
      "execution_count": 115,
      "metadata": {},
      "outputs": [],
      "source": [
        "a[-2]"
      ],
      "id": "901877b7-a767-471c-81dd-caf7dc11723b"
    },
    {
      "cell_type": "markdown",
      "metadata": {},
      "source": [
        "`-` 요약하면 아래와 같은 방식으로 호출가능함.\n",
        "\n",
        "|  g  |  u  |  e  |  b  |  i  |  n  |\n",
        "|:---:|:---:|:---:|:---:|:---:|:---:|\n",
        "|  0  |  1  |  2  |  3  |  4  |  5  |\n",
        "|  0  | -5  | -4  | -3  | -2  | -1  |"
      ],
      "id": "d5aa7790-321f-49c6-856c-c892ec90e21a"
    },
    {
      "cell_type": "code",
      "execution_count": 132,
      "metadata": {},
      "outputs": [],
      "source": [
        "a[4]"
      ],
      "id": "48ebd16b-8c44-473b-948d-a244067bfb5a"
    },
    {
      "cell_type": "code",
      "execution_count": 133,
      "metadata": {},
      "outputs": [],
      "source": [
        "a[-2]"
      ],
      "id": "9a8b9683-ac0c-4cc9-81b6-5e4c6c667471"
    },
    {
      "cell_type": "code",
      "execution_count": 134,
      "metadata": {},
      "outputs": [],
      "source": [
        "a[-4]"
      ],
      "id": "64909dd6-7e2e-45f1-aa0b-777d93ee37ee"
    },
    {
      "cell_type": "markdown",
      "metadata": {},
      "source": [
        "`-` `:`을 이용하여 여러개의 원소를 호출할 수 있음."
      ],
      "id": "7a585275-0f1b-4389-aadc-1ef348b047af"
    },
    {
      "cell_type": "code",
      "execution_count": 135,
      "metadata": {},
      "outputs": [],
      "source": [
        "a='guebin'"
      ],
      "id": "03e54a98-8993-495c-9ec8-0e3c91e3e9c7"
    },
    {
      "cell_type": "code",
      "execution_count": 102,
      "metadata": {},
      "outputs": [],
      "source": [
        "a[0:3] # a[0],a[1],a[2],a[3]이 아니라 a[0],a[1],a[2]까지만 뽑힌다. 즉 마지막의 3은 호출되지 않는다. "
      ],
      "id": "e69dafb6-b2af-492d-9aeb-f5884706cc6f"
    },
    {
      "cell_type": "code",
      "execution_count": 137,
      "metadata": {},
      "outputs": [],
      "source": [
        "a[1:3] # a[1], a[2] 만 호출 // start=1,  stop=3 "
      ],
      "id": "8e8e04cd-f272-4e39-80c9-6327cb7ab700"
    },
    {
      "cell_type": "markdown",
      "metadata": {},
      "source": [
        "index=1부터 시작해서 마지막원소까지 호출하려면?"
      ],
      "id": "398c1fd8-234e-4dca-86ec-3066d718e42e"
    },
    {
      "cell_type": "code",
      "execution_count": 153,
      "metadata": {},
      "outputs": [],
      "source": [
        "a='guebin'"
      ],
      "id": "2fd10990-277e-441f-ac2c-a1d3dc2fab01"
    },
    {
      "cell_type": "code",
      "execution_count": 130,
      "metadata": {},
      "outputs": [],
      "source": [
        "a[5] # guebin의 마지막원소 'n'이 출려 "
      ],
      "id": "da98b1f4-1e1e-4186-9f6d-925f61818138"
    },
    {
      "cell_type": "code",
      "execution_count": 135,
      "metadata": {},
      "outputs": [],
      "source": [
        "a[1:5] # 5는 포함되지 않으므로 틀림"
      ],
      "id": "1b51a10d-9d0c-4771-bdce-4f4e227da85d"
    },
    {
      "cell_type": "code",
      "execution_count": 136,
      "metadata": {},
      "outputs": [],
      "source": [
        "a[1:6] # 정답"
      ],
      "id": "9ec693f6-6f46-476a-bd48-d29902a5ef62"
    },
    {
      "cell_type": "markdown",
      "metadata": {},
      "source": [
        "안 헷갈리는 방법은 없을까? 생략한다."
      ],
      "id": "d45df379-72af-4fab-982f-603624383870"
    },
    {
      "cell_type": "code",
      "execution_count": 145,
      "metadata": {},
      "outputs": [],
      "source": [
        "a[1:]"
      ],
      "id": "21822b50-e30e-4aab-be7b-c46fd15cbd08"
    },
    {
      "cell_type": "markdown",
      "metadata": {},
      "source": [
        "`-` 생략의 응용1"
      ],
      "id": "188014cb-1247-4ad8-846e-38a204207c7a"
    },
    {
      "cell_type": "code",
      "execution_count": 146,
      "metadata": {},
      "outputs": [],
      "source": [
        "a='k-pop' \n",
        "a"
      ],
      "id": "177ee328-bfd3-49c4-a72d-21c91704fc6c"
    },
    {
      "cell_type": "code",
      "execution_count": 152,
      "metadata": {},
      "outputs": [],
      "source": [
        "a[2:]"
      ],
      "id": "4aac734e-8569-44ae-aaa8-c31adc6ac63b"
    },
    {
      "cell_type": "markdown",
      "metadata": {},
      "source": [
        "`-` 생략의 응용2"
      ],
      "id": "d869b60b-94f8-4dde-858d-b27742b744e6"
    },
    {
      "cell_type": "code",
      "execution_count": 153,
      "metadata": {},
      "outputs": [],
      "source": [
        "a='k-pop'\n",
        "a"
      ],
      "id": "3ec64cbe-da59-4ed3-a9ae-3a80421332b4"
    },
    {
      "cell_type": "code",
      "execution_count": null,
      "metadata": {},
      "outputs": [],
      "source": [
        "0,1 -> 0,1,2"
      ],
      "id": "79e2b462-f603-4b8d-b3de-829e6dea6d8e"
    },
    {
      "cell_type": "code",
      "execution_count": 154,
      "metadata": {},
      "outputs": [],
      "source": [
        "a[0:2] # a[0],a[1]"
      ],
      "id": "b9f024e0-44be-4dfd-a9ac-561d375b2588"
    },
    {
      "cell_type": "code",
      "execution_count": 155,
      "metadata": {},
      "outputs": [],
      "source": [
        "a[:2] # a[0],a[1] "
      ],
      "id": "07df054a-dbb8-4510-8dcf-e3b5912e99d5"
    },
    {
      "cell_type": "markdown",
      "metadata": {},
      "source": [
        "-   `a[:2]` 는 a의 원소중 처음 2개를 뽑는다는 의미\n",
        "\n",
        "`-` 생략의 응용3"
      ],
      "id": "5313e301-1447-486c-bc71-7e87c3eb0b70"
    },
    {
      "cell_type": "code",
      "execution_count": 175,
      "metadata": {},
      "outputs": [],
      "source": [
        "a='k-pop'\n",
        "a"
      ],
      "id": "d9249f73-e6eb-4148-9085-eafea52b6d86"
    },
    {
      "cell_type": "code",
      "execution_count": 159,
      "metadata": {},
      "outputs": [],
      "source": [
        "a[0:5] # a[0],...,a[4]"
      ],
      "id": "5ced837d-7b48-4a1d-9430-0f818e57be1e"
    },
    {
      "cell_type": "code",
      "execution_count": 177,
      "metadata": {},
      "outputs": [],
      "source": [
        "a[:]"
      ],
      "id": "bba481ad-bbe3-45df-be3c-213e1c937bb1"
    },
    {
      "cell_type": "markdown",
      "metadata": {},
      "source": [
        "## D. str 특수기능\n",
        "\n",
        "`-` 파이썬의 변수는 단순히 정보를 담는 그릇이 아니다. 유용한 기능을\n",
        "제공하는 경우가 있다."
      ],
      "id": "1d39aa3f-73a9-4249-9902-ba1004c6c4a8"
    },
    {
      "cell_type": "code",
      "execution_count": 161,
      "metadata": {},
      "outputs": [],
      "source": [
        "a='ABCD' # a라는 변수는 'ABCD'라는 정보를 담는 그릇의 역할만 하지 않고, 특화된 어떠한 기능도 제공한다. \n",
        "a"
      ],
      "id": "ede439a3-ae83-426d-9aad-95b5b09f8e1c"
    },
    {
      "cell_type": "code",
      "execution_count": 162,
      "metadata": {},
      "outputs": [],
      "source": [
        "a.lower() # a.lower()를 쓰면 a의 모든 문자를 소문자로 바꾸는 기능을 제공, lower(a)라고 읽자!"
      ],
      "id": "fda38600-c4c8-4458-bc3d-2f95f98fe17e"
    },
    {
      "cell_type": "markdown",
      "metadata": {},
      "source": [
        "여기에서 lower()는 문자열에 특화된 기능임. 따라서 당연히 아래는 불가능"
      ],
      "id": "0cd763e8-645d-4dcf-95fe-6ed073353de5"
    },
    {
      "cell_type": "code",
      "execution_count": 163,
      "metadata": {},
      "outputs": [],
      "source": [
        "a=3.14\n",
        "a.lower() # lower(a)"
      ],
      "id": "f5014c6f-5f7b-4a81-acf4-19a0301695a8"
    },
    {
      "cell_type": "markdown",
      "metadata": {},
      "source": [
        "`-` 자료형에 특화된 기능(=함수)을 확인하는 방법? `a.`+ `tab` 으로 목록\n",
        "확인 가능"
      ],
      "id": "abcd4ac0-a950-4123-bdbb-7938fa9cb1d7"
    },
    {
      "cell_type": "code",
      "execution_count": 167,
      "metadata": {},
      "outputs": [],
      "source": [
        "a='guebin'"
      ],
      "id": "55a27e68-39c8-4960-9148-9d1c22c44572"
    },
    {
      "cell_type": "code",
      "execution_count": 168,
      "metadata": {},
      "outputs": [],
      "source": [
        "a.upper?"
      ],
      "id": "62024768-e43a-48ee-ac56-188ac4e3c9f5"
    },
    {
      "cell_type": "code",
      "execution_count": 169,
      "metadata": {},
      "outputs": [],
      "source": [
        "a.upper() # upper(a) "
      ],
      "id": "d18fa7fe-6ae8-47ce-8b50-6ee4addeba01"
    },
    {
      "cell_type": "code",
      "execution_count": 143,
      "metadata": {},
      "outputs": [],
      "source": [
        "a.capitalize() # capitalize(a) "
      ],
      "id": "6c31eee3-c875-4373-b6ab-6d39f65aca99"
    },
    {
      "cell_type": "markdown",
      "metadata": {},
      "source": [
        "`-` 유용한 특수기능 $(\\star\\star\\star)$"
      ],
      "id": "02450fa6-f9fe-433a-8360-38ef5985c428"
    },
    {
      "cell_type": "code",
      "execution_count": 171,
      "metadata": {},
      "outputs": [],
      "source": [
        "'-'.join(['1','2','3'])"
      ],
      "id": "48f2f3fa-88de-4420-81cf-025285d2defa"
    },
    {
      "cell_type": "code",
      "execution_count": 172,
      "metadata": {},
      "outputs": [],
      "source": [
        "'1-2-3'.split('-')"
      ],
      "id": "b0ec7890-c8bf-43f5-9381-9957c37195e9"
    },
    {
      "cell_type": "code",
      "execution_count": 173,
      "metadata": {},
      "outputs": [],
      "source": [
        "'1-2-3'.replace('-','*')"
      ],
      "id": "30757376-254d-4722-b740-b49a7f34c9a1"
    },
    {
      "cell_type": "markdown",
      "metadata": {},
      "source": [
        "## E. len\n",
        "\n",
        "`-` `len`함수 소개: 원소의 갯수를 알려주는 함수."
      ],
      "id": "9f70018e-1c35-45a0-bddf-b837f2aa8481"
    },
    {
      "cell_type": "code",
      "execution_count": 175,
      "metadata": {},
      "outputs": [],
      "source": [
        "a='ABCD' \n",
        "len(a)"
      ],
      "id": "ea575f56-4683-460d-83be-313d89b442b0"
    },
    {
      "cell_type": "markdown",
      "metadata": {},
      "source": [
        "`-` 참고: len은 0차원 변수형에서는 동작하지 않고 1차원 변수형에서만\n",
        "동작한다.\n",
        "\n",
        "(0차원) `len` 함수가 동작하지 않음."
      ],
      "id": "68e1f1dd-99e7-427e-b815-4c457dfce837"
    },
    {
      "cell_type": "code",
      "execution_count": 177,
      "metadata": {},
      "outputs": [],
      "source": [
        "a=3.14"
      ],
      "id": "25e201bd-7cc7-4908-8b6a-14fb8f01e2b4"
    },
    {
      "cell_type": "code",
      "execution_count": 178,
      "metadata": {},
      "outputs": [],
      "source": [
        "len(a)"
      ],
      "id": "a4453dd5-23de-4a1c-9fa5-baeeecf64bb0"
    },
    {
      "cell_type": "code",
      "execution_count": 211,
      "metadata": {},
      "outputs": [],
      "source": [
        "b=True"
      ],
      "id": "7c05b18e-e3f9-4ed0-91ec-1b5bae41ed48"
    },
    {
      "cell_type": "code",
      "execution_count": 212,
      "metadata": {},
      "outputs": [],
      "source": [
        "len(b)"
      ],
      "id": "513fee6a-cc5f-468e-a019-06b1b072364f"
    },
    {
      "cell_type": "markdown",
      "metadata": {},
      "source": [
        "(1차원) `len` 함수가 잘 동작함."
      ],
      "id": "3aa719c0-4920-4c35-a91c-846b586b9fd8"
    },
    {
      "cell_type": "code",
      "execution_count": 179,
      "metadata": {},
      "outputs": [],
      "source": [
        "a='3.14'\n",
        "len(a)"
      ],
      "id": "147ea2b8-d5ed-49d4-a964-80f5844886f0"
    },
    {
      "cell_type": "code",
      "execution_count": 180,
      "metadata": {},
      "outputs": [],
      "source": [
        "b=[1,2,3]"
      ],
      "id": "4bf1db96-05a0-418b-be30-5e3f4edf6d7b"
    },
    {
      "cell_type": "code",
      "execution_count": 181,
      "metadata": {},
      "outputs": [],
      "source": [
        "len(b)"
      ],
      "id": "48cb62f5-a201-4297-b9ca-7a7708b3f90a"
    },
    {
      "cell_type": "markdown",
      "metadata": {},
      "source": [
        "## F. `fstring`\n",
        "\n",
        "`-` 예제1"
      ],
      "id": "46b4194c-6b19-4bf9-b6ac-2db304d1607d"
    },
    {
      "cell_type": "code",
      "execution_count": 24,
      "metadata": {
        "tags": []
      },
      "outputs": [
        {
          "output_type": "stream",
          "name": "stdout",
          "text": [
            "a+b = 3"
          ]
        }
      ],
      "source": [
        "a=1\n",
        "b=2\n",
        "print(f'a+b = {a+b}')"
      ],
      "id": "398a8b07-b870-4b99-b704-027f903ed25d"
    },
    {
      "cell_type": "markdown",
      "metadata": {},
      "source": [
        "`-` 예제2"
      ],
      "id": "fabacd32-1a03-4a78-824a-ad78691c35ed"
    },
    {
      "cell_type": "code",
      "execution_count": 23,
      "metadata": {
        "tags": []
      },
      "outputs": [
        {
          "output_type": "stream",
          "name": "stdout",
          "text": [
            "a*b = 6.28"
          ]
        }
      ],
      "source": [
        "a=2\n",
        "b=3.141592\n",
        "print(f'a*b = {a*b:.2f}')"
      ],
      "id": "8de9d958-9cec-472d-b237-9362e46745fe"
    },
    {
      "cell_type": "markdown",
      "metadata": {},
      "source": [
        "`-` 예제3"
      ],
      "id": "8704b8bc-e14a-44e5-946b-366a3d6e0536"
    },
    {
      "cell_type": "code",
      "execution_count": 34,
      "metadata": {
        "tags": []
      },
      "outputs": [
        {
          "output_type": "stream",
          "name": "stdout",
          "text": [
            "2a = 6.28   3a = 9.42"
          ]
        }
      ],
      "source": [
        "a=3.141592\n",
        "print(f'2a = {2*a:.2f}\\t3a = {3*a:.2f}')"
      ],
      "id": "d7582e4b-a633-4450-ab50-d46b156243f3"
    },
    {
      "cell_type": "markdown",
      "metadata": {},
      "source": [
        "`-` 예제4"
      ],
      "id": "acceb8f1-f371-41b1-a1d1-c5825fe92a40"
    },
    {
      "cell_type": "code",
      "execution_count": 26,
      "metadata": {
        "tags": []
      },
      "outputs": [],
      "source": [
        "lst = ['장하니','최다호','주성재','이슬기']"
      ],
      "id": "43e5bdde-a01f-418a-82e0-e3436df62ae6"
    },
    {
      "cell_type": "code",
      "execution_count": 38,
      "metadata": {
        "tags": []
      },
      "outputs": [],
      "source": [
        "[f'{l}학생 안녕하세요, 통계학과 최규빈 교수입니다. 다름이 아니라 전공진로설계관련 상담일자를 잡고자 메일을 보냈습니다.' for l in lst]"
      ],
      "id": "d8b43eb7-eacc-4870-8ea3-f70309347080"
    },
    {
      "cell_type": "markdown",
      "metadata": {},
      "source": [
        "## G. string과 `for`문\n",
        "\n",
        "`-` 예제1"
      ],
      "id": "c33cb144-8fcb-4f96-a75d-e479ff5b2c98"
    },
    {
      "cell_type": "code",
      "execution_count": 46,
      "metadata": {
        "tags": []
      },
      "outputs": [
        {
          "output_type": "stream",
          "name": "stdout",
          "text": [
            "jj\n",
            "bb\n",
            "nn\n",
            "uu"
          ]
        }
      ],
      "source": [
        "for s in 'jbnu':\n",
        "    print(2*s)"
      ],
      "id": "42165aad-4e61-43c2-a5f1-80e21eef9af6"
    },
    {
      "cell_type": "markdown",
      "metadata": {},
      "source": [
        "`-` 예제2"
      ],
      "id": "efa9195c-fdb2-4a80-8520-5d90007cf39f"
    },
    {
      "cell_type": "code",
      "execution_count": 50,
      "metadata": {
        "tags": []
      },
      "outputs": [],
      "source": [
        "[s*4 for s in 'jbnu']"
      ],
      "id": "5afade72-bcb4-4b2c-a4ae-4101ce90603c"
    },
    {
      "cell_type": "markdown",
      "metadata": {},
      "source": [
        "## H. `in` 연산자"
      ],
      "id": "ce614382-d8b2-4ccb-a6c4-a5d333c9bb7c"
    },
    {
      "cell_type": "code",
      "execution_count": 55,
      "metadata": {
        "tags": []
      },
      "outputs": [],
      "source": [
        "s = 'jbnu'"
      ],
      "id": "531b52a6-62cf-4d56-bba2-5905e4b83941"
    },
    {
      "cell_type": "code",
      "execution_count": 56,
      "metadata": {
        "tags": []
      },
      "outputs": [],
      "source": [
        "'b' in s"
      ],
      "id": "9290aa47-ffa0-4d7e-8210-e46863405160"
    },
    {
      "cell_type": "code",
      "execution_count": 57,
      "metadata": {
        "tags": []
      },
      "outputs": [],
      "source": [
        "'c' in s"
      ],
      "id": "3a9b3ef6-8018-4aed-a835-f0f4b518bd9b"
    },
    {
      "cell_type": "code",
      "execution_count": 58,
      "metadata": {
        "tags": []
      },
      "outputs": [],
      "source": [
        "'jb' in s"
      ],
      "id": "1e0f1622-59a1-4049-9b2a-48e4ceecd19b"
    },
    {
      "cell_type": "code",
      "execution_count": 61,
      "metadata": {
        "tags": []
      },
      "outputs": [],
      "source": [
        "'jn' in s"
      ],
      "id": "2f11a386-31ae-45b5-ba30-9d505c9ad690"
    },
    {
      "cell_type": "markdown",
      "metadata": {},
      "source": [
        "## I. 연습문제들\n",
        "\n",
        "`전북대학교` – 아래와 같은 문자열이 있다고 하자."
      ],
      "id": "0c414760-0517-45eb-b030-55c051c0b081"
    },
    {
      "cell_type": "code",
      "execution_count": 62,
      "metadata": {
        "tags": []
      },
      "outputs": [],
      "source": [
        "a='Jeonbuk National University' "
      ],
      "id": "a77424ab-01be-43fe-aabc-23e6217e0bde"
    },
    {
      "cell_type": "markdown",
      "metadata": {},
      "source": [
        "`# 문제`. 적당한 인덱싱을 통하여 출력결과가 아래와 같도록 하라."
      ],
      "id": "6cd3b5f8-f790-44b3-bb79-9379ec04c278"
    },
    {
      "cell_type": "code",
      "execution_count": null,
      "metadata": {},
      "outputs": [],
      "source": [
        "# 적당한 인덱싱"
      ],
      "id": "03da4acd-ee4b-44e1-8eff-233d4602efd3"
    },
    {
      "cell_type": "markdown",
      "metadata": {},
      "source": [
        "**hint**: University는 10글자이다.\n",
        "\n",
        "(풀이)"
      ],
      "id": "d6b2243d-2877-4ebc-a772-df8b41cda491"
    },
    {
      "cell_type": "code",
      "execution_count": 67,
      "metadata": {
        "tags": []
      },
      "outputs": [],
      "source": [
        "a[-10:]"
      ],
      "id": "e32f7fd1-bf98-4550-a8a3-f6117b31bace"
    },
    {
      "cell_type": "markdown",
      "metadata": {},
      "source": [
        "`# 문제`. 출력결과가 아래와 같도록 하는 코드를 작성하라. (lower 함수를\n",
        "이용할 것)"
      ],
      "id": "472f468e-2a0c-4585-b65c-13b41a50585d"
    },
    {
      "cell_type": "code",
      "execution_count": null,
      "metadata": {},
      "outputs": [],
      "source": [
        "# 적당한 코드 "
      ],
      "id": "867d2932-0711-43e6-b945-3ca4b2185dce"
    },
    {
      "cell_type": "markdown",
      "metadata": {},
      "source": [
        "(풀이)"
      ],
      "id": "a03063b8-f8d4-4c17-a4eb-d4024ac67b0c"
    },
    {
      "cell_type": "code",
      "execution_count": 69,
      "metadata": {
        "tags": []
      },
      "outputs": [],
      "source": [
        "a.lower()"
      ],
      "id": "6d3f8706-90f9-4799-a06a-580108a0962b"
    },
    {
      "cell_type": "markdown",
      "metadata": {},
      "source": [
        "`# 문제`. 아래의 코드를 관찰하고 isupper()의 기능이 무엇인지 스스로\n",
        "정리해보라."
      ],
      "id": "ce1cd359-8ff7-4f80-9d68-7d112f131480"
    },
    {
      "cell_type": "code",
      "execution_count": 71,
      "metadata": {
        "tags": []
      },
      "outputs": [],
      "source": [
        "'A'.isupper()"
      ],
      "id": "b2de8b3d-3b76-4aaa-a973-62da5a0078af"
    },
    {
      "cell_type": "code",
      "execution_count": 72,
      "metadata": {
        "tags": []
      },
      "outputs": [],
      "source": [
        "'AA'.isupper()"
      ],
      "id": "67709352-1f96-4d9f-94d6-2a0c9e7b04ba"
    },
    {
      "cell_type": "code",
      "execution_count": 73,
      "metadata": {
        "tags": []
      },
      "outputs": [],
      "source": [
        "'Aa'.isupper()"
      ],
      "id": "312ebf33-dcf8-42e7-ae8d-3a35d2d78c09"
    },
    {
      "cell_type": "code",
      "execution_count": 74,
      "metadata": {
        "tags": []
      },
      "outputs": [],
      "source": [
        "'aa'.isupper()"
      ],
      "id": "aca28ea8-8a5c-4d13-af8b-5f8306f70c79"
    },
    {
      "cell_type": "code",
      "execution_count": 75,
      "metadata": {
        "tags": []
      },
      "outputs": [],
      "source": [
        "'aA'.isupper()"
      ],
      "id": "224c8558-4e41-42a6-80e0-492579cf3272"
    },
    {
      "cell_type": "markdown",
      "metadata": {},
      "source": [
        "유추한 기능이 맞는지 ChatGPT를 통하여 확인하라.\n",
        "\n",
        "`Ditto` – 다음은 인터넷에서 긁어온 어떠한 텍스트이다."
      ],
      "id": "a0f19e6f-a59b-4b09-82a7-e3f113e6cfe1"
    },
    {
      "cell_type": "code",
      "execution_count": 76,
      "metadata": {
        "tags": []
      },
      "outputs": [],
      "source": [
        "text = \"국내뿐 아니라 해외 인기도 심상치 않다. 2023년 1월 18일 'Ditto'가 빌보드 핫 100에 96위로 진입했다. 이는 K-pop 역사상 데뷔후 최단 빌보드 Hot 100 차트 입성 기록이다. 다른 뮤지션들이 보통 데뷔 후 수년간 쌓아온 팬덤을 기반으로 빌보드에 입성한데 비해, 뉴진스의 기록은 이례적인 것으로 평가받고 있다. 또한 'OMG'가 빌보드 핫 100에 91위로 진입한 동시에 'Ditto'는 85위로 순위가 상승, 핫 100 주간차트에 두 곡을 올려놓았다. K-Pop 역사상 이 차트에 두 곡 이상을 진입시킨 아티스트는 방탄소년단과 블랙핑크가 유일하다. 'Ditto'는 1월 셋째주 기준, 빌보드뿐만 아니라 영국 오피셜 싱글 차트 '톱 100'에 2주 연속 진입하기도 했다.\""
      ],
      "id": "12fb5720-a09b-4756-b1eb-557458fdf9b3"
    },
    {
      "cell_type": "markdown",
      "metadata": {},
      "source": [
        "`# 문제`. text는 총 몇개의 문장으로 이루어져 있는가?\n",
        "\n",
        "**hint:** 이 텍스트의 문장은 모두 `.`로 끝난다.\n",
        "\n",
        "(풀이)"
      ],
      "id": "33579199-e2db-46ca-b7e4-1c1270901e86"
    },
    {
      "cell_type": "code",
      "execution_count": 87,
      "metadata": {
        "tags": []
      },
      "outputs": [],
      "source": [
        "len(text.split('. '))"
      ],
      "id": "c54ca3b6-519c-4693-a8b8-fc658a314d9f"
    },
    {
      "cell_type": "markdown",
      "metadata": {},
      "source": [
        "`# 문제`. 각 문장은 몇개의 단어로 이루어져 있는가?\n",
        "\n",
        "**hint:** 각 단어는 공백으로 구분된다.\n",
        "\n",
        "(풀이)"
      ],
      "id": "3704a2b8-2add-4aa7-95e7-61a667af035d"
    },
    {
      "cell_type": "code",
      "execution_count": 96,
      "metadata": {
        "tags": []
      },
      "outputs": [],
      "source": [
        "lst = text.split('. ')\n",
        "[len(l.split(' ')) for l in lst]"
      ],
      "id": "c9ade1d3-1823-4bea-8e05-65dd19d5590c"
    },
    {
      "cell_type": "markdown",
      "metadata": {},
      "source": [
        "`# 문제`. `100`이라는 단어가 포함된 문장은 모두 몇 개 인가?\n",
        "\n",
        "**hint:** 아래의 코드를 관찰"
      ],
      "id": "d8e5c13c-5574-4419-abbf-b0bbf651a444"
    },
    {
      "cell_type": "code",
      "execution_count": 61,
      "metadata": {},
      "outputs": [],
      "source": [
        "'a' in 'abcd'"
      ],
      "id": "c9a4af5e-993a-4497-a7b2-dac704e6e868"
    },
    {
      "cell_type": "markdown",
      "metadata": {},
      "source": [
        "(풀이)"
      ],
      "id": "d1327546-8a76-42ec-a65e-6e3642881b78"
    },
    {
      "cell_type": "code",
      "execution_count": 104,
      "metadata": {
        "tags": []
      },
      "outputs": [],
      "source": [
        "sum(['100' in l for l in lst])"
      ],
      "id": "9bd509fb-482b-4453-bb95-4d1bf76dcb35"
    },
    {
      "cell_type": "markdown",
      "metadata": {},
      "source": [
        "# 5. `list`\n",
        "\n",
        "## A. 선언\n",
        "\n",
        "`-` 리스트의 선언"
      ],
      "id": "2903cddf-a3dd-4b70-82ba-7a2e1615c227"
    },
    {
      "cell_type": "code",
      "execution_count": 106,
      "metadata": {
        "tags": []
      },
      "outputs": [],
      "source": [
        "a= [1,2,3,22] "
      ],
      "id": "9f5ccaf2-a7c9-45a3-8b15-6069f6f16fe1"
    },
    {
      "cell_type": "markdown",
      "metadata": {},
      "source": [
        "`-` 비어있는 리스트의 선언"
      ],
      "id": "6cda1a08-5ee5-425d-b403-f04bec568f51"
    },
    {
      "cell_type": "code",
      "execution_count": 108,
      "metadata": {
        "tags": []
      },
      "outputs": [],
      "source": [
        "a= []\n",
        "a"
      ],
      "id": "f80a0607-21ae-44a8-aa93-490c26258c6b"
    },
    {
      "cell_type": "code",
      "execution_count": 111,
      "metadata": {
        "tags": []
      },
      "outputs": [],
      "source": [
        "a= list()\n",
        "a"
      ],
      "id": "cf2e8899-6b84-4d02-b370-c575728595a1"
    },
    {
      "cell_type": "markdown",
      "metadata": {},
      "source": [
        "## B. 연산\n",
        "\n",
        "`-` 더하기연산"
      ],
      "id": "52ce1c70-41fa-4cf7-a066-09bbae68e72e"
    },
    {
      "cell_type": "code",
      "execution_count": 120,
      "metadata": {
        "tags": []
      },
      "outputs": [],
      "source": [
        "[1,2,3] + [-3,4,5]"
      ],
      "id": "f8ec6adf-eccd-4f8b-b7c4-96a442378fb8"
    },
    {
      "cell_type": "markdown",
      "metadata": {},
      "source": [
        "-   우리의 예상과 다른 결과가 나옴 $\\to$ 파이썬은 R처럼 자체적으로 좋은\n",
        "    계산기능을 내장하고 있지 않음.\n",
        "\n",
        "`-` 브로드캐스팅과 같이 R에서는 당연히 가능했던 기능을 사용할 수 없음."
      ],
      "id": "4afaefc8-d53e-46c5-885f-95a1131ea134"
    },
    {
      "cell_type": "code",
      "execution_count": 122,
      "metadata": {
        "tags": []
      },
      "outputs": [],
      "source": [
        "[1,2,3,4,5] + 1 "
      ],
      "id": "800de934-3634-4a30-a777-edd1029adede"
    },
    {
      "cell_type": "markdown",
      "metadata": {},
      "source": [
        "`-` 뺄셈은 정의되지 않음"
      ],
      "id": "8b96a6c1-38f7-4a89-b91b-65e9375892fa"
    },
    {
      "cell_type": "code",
      "execution_count": 127,
      "metadata": {
        "tags": []
      },
      "outputs": [],
      "source": [
        "a= [1,2,1,2]\n",
        "a-[1,2]"
      ],
      "id": "e9e9ce7c-d2ac-41f2-8ba3-8f49951cbae2"
    },
    {
      "cell_type": "markdown",
      "metadata": {},
      "source": [
        "`-` 곱하기는 정의가능"
      ],
      "id": "20e9d62b-3b6c-4246-aec1-870ddd42b52e"
    },
    {
      "cell_type": "code",
      "execution_count": 128,
      "metadata": {
        "tags": []
      },
      "outputs": [],
      "source": [
        "[1,2]*3"
      ],
      "id": "310282a6-fb69-4b16-9c59-dded6d7c6554"
    },
    {
      "cell_type": "markdown",
      "metadata": {},
      "source": [
        "`-` 나눗셈은 정의되지 않음"
      ],
      "id": "67505b5a-9d54-430f-9194-782730df6679"
    },
    {
      "cell_type": "code",
      "execution_count": 129,
      "metadata": {
        "tags": []
      },
      "outputs": [],
      "source": [
        "[1,2,1,2,1,2] /3"
      ],
      "id": "2a997df2-63cf-4f20-8402-a76267d9fdfb"
    },
    {
      "cell_type": "markdown",
      "metadata": {},
      "source": [
        "`-` 더하기와 곱하기는 원소의 추가와 반복추가를 의미하지만 그렇다고 해서\n",
        "뺄셈과 나눗셈이 원소의 삭제를 의미하는것은 아님\n",
        "\n",
        "`-` 더하기와 곱하기가 원소의 추가와 반복추가를 의미하여 편리할때도\n",
        "있긴하지만, 우리는 산술적인 `+`, `*` 를 원하는 경우도 있다. 이럴 경우는\n",
        "어떻게 할 수 있을까?\n",
        "\n",
        "(예제)"
      ],
      "id": "832abb56-e477-47a3-9f5d-03e568ff6e9e"
    },
    {
      "cell_type": "code",
      "execution_count": 131,
      "metadata": {
        "tags": []
      },
      "outputs": [],
      "source": [
        "a=[1,2]\n",
        "b=[3,4]"
      ],
      "id": "1820f4fc-3618-4ed2-a4d2-40fd8cc98162"
    },
    {
      "cell_type": "markdown",
      "metadata": {},
      "source": [
        "a+b = \\[4,6\\] 이 되도록 하려면?\n",
        "\n",
        "(풀이1)"
      ],
      "id": "894f0633-58cb-4285-a227-c73952a9c3f2"
    },
    {
      "cell_type": "code",
      "execution_count": 16,
      "metadata": {},
      "outputs": [],
      "source": [
        "[a[0]+b[0],a[1]+b[1]]"
      ],
      "id": "eb7ea2e1-dc77-42e1-88c6-4d116ed229e9"
    },
    {
      "cell_type": "markdown",
      "metadata": {},
      "source": [
        "풀이가 가능한 이유? a,b는 리스트이지만 a\\[0\\], a\\[1\\], b\\[0\\], b\\[1\\] 은\n",
        "각각 인트형임. 인트형은 + 연산이 가능했음.\n",
        "\n",
        "(풀이2)\n",
        "\n",
        "numpy 패키지 (파이썬의 여러 수치연산들을 담당하는 라이브러리)\n",
        "\n",
        "-   이러한 벡터연산은 누구나 필요로 하는 연산임.\n",
        "-   내가 아니더라도 누군가가 프로그램화 해놓았을 것임.\n",
        "-   그 누군가가 자신이 만든 코드를 잘 정리하여 무료로 배포했을 수도\n",
        "    있음. (패키지를 배포한다고 표현)\n",
        "-   그 패키지를 우리는 가져와서 설치한뒤 사용하기만 하면된다.\n",
        "\n",
        "설치된 패키지를 사용하는 방법\n",
        "\n",
        "-   `import numpy` 한뒤에 `numpy.??`로 기능을 사용\n",
        "-   `import numpy as np` 한뒤에 `np.??`로 기능을 사용"
      ],
      "id": "6480a3ab-cc12-456c-a686-95274510762b"
    },
    {
      "cell_type": "code",
      "execution_count": 138,
      "metadata": {
        "tags": []
      },
      "outputs": [],
      "source": [
        "import numpy "
      ],
      "id": "ca13a764-e25a-4593-8bb7-7c0f5fa1243d"
    },
    {
      "cell_type": "code",
      "execution_count": 140,
      "metadata": {
        "tags": []
      },
      "outputs": [],
      "source": [
        "a=[1,2]\n",
        "b=[3,4]"
      ],
      "id": "85d35e9a-d487-45de-92d0-365f38eee3dd"
    },
    {
      "cell_type": "code",
      "execution_count": 144,
      "metadata": {
        "tags": []
      },
      "outputs": [],
      "source": [
        "aa = numpy.array(a)\n",
        "bb = numpy.array(b)"
      ],
      "id": "d83d46d6-859c-409d-967e-bd822287d2ce"
    },
    {
      "cell_type": "code",
      "execution_count": 88,
      "metadata": {},
      "outputs": [],
      "source": [
        "aa+bb"
      ],
      "id": "61c1884d-fb4b-425e-b8e9-c3cebbc5c91c"
    },
    {
      "cell_type": "markdown",
      "metadata": {},
      "source": [
        "여러가지 연산 가능 (마치 R처럼 쓸 수 있음)"
      ],
      "id": "e70ca72c-f2b0-4c3c-940f-422e236200de"
    },
    {
      "cell_type": "code",
      "execution_count": 146,
      "metadata": {
        "tags": []
      },
      "outputs": [],
      "source": [
        "2*aa"
      ],
      "id": "2b2c7d4c-26c3-4ffb-8021-ca998903730e"
    },
    {
      "cell_type": "code",
      "execution_count": 147,
      "metadata": {
        "tags": []
      },
      "outputs": [],
      "source": [
        "2*aa+1"
      ],
      "id": "b6468d6d-0792-4b4b-816e-d51b0fc0dd0a"
    },
    {
      "cell_type": "code",
      "execution_count": 148,
      "metadata": {
        "tags": []
      },
      "outputs": [],
      "source": [
        "2*aa+1+bb"
      ],
      "id": "81689677-41eb-4a43-9647-e1d0d64eea81"
    },
    {
      "cell_type": "markdown",
      "metadata": {},
      "source": [
        "(풀이3)"
      ],
      "id": "ef809599-e3ca-4e4b-8645-20a4d5eb4312"
    },
    {
      "cell_type": "code",
      "execution_count": 152,
      "metadata": {
        "tags": []
      },
      "outputs": [],
      "source": [
        "import numpy as np ## 설치가 되어있는 numpy라는 패키지를 쓰겠음. 그런데 numpy말고 np라는 이름으로 쓰겠음"
      ],
      "id": "26daa72a-9487-42dc-810f-486b735c88ef"
    },
    {
      "cell_type": "code",
      "execution_count": 153,
      "metadata": {
        "tags": []
      },
      "outputs": [],
      "source": [
        "np.array(a)+np.array(b)"
      ],
      "id": "22f4f6ec-0b59-4b4e-a65a-12bda7c50558"
    },
    {
      "cell_type": "markdown",
      "metadata": {},
      "source": [
        "## C. 인덱싱\n",
        "\n",
        "`-` str형과 동일한 방식"
      ],
      "id": "3081e96c-0991-40e8-bec7-69c4738ff7ac"
    },
    {
      "cell_type": "code",
      "execution_count": 154,
      "metadata": {
        "tags": []
      },
      "outputs": [],
      "source": [
        "a=[11,22,33,44,55] # 0 -4 -3 -2 -1"
      ],
      "id": "0c54a2b0-3e89-4726-9691-d62a2ccc9276"
    },
    {
      "cell_type": "code",
      "execution_count": 157,
      "metadata": {
        "tags": []
      },
      "outputs": [],
      "source": [
        "a[-2:] # 끝의 2개의 원소를 뽑음 "
      ],
      "id": "89e8a8e0-4cc5-44da-9cc0-1f9e6d6ad1f1"
    },
    {
      "cell_type": "markdown",
      "metadata": {},
      "source": [
        "## D. 콘테이너형 객체로서의 리스트\n",
        "\n",
        "`-` 리스트의 원소는 int, float 따위만 가능한 것이 아니다. (리스트는\n",
        "컨테이너형 객체이므로)"
      ],
      "id": "90139391-162e-432f-9079-50cedf2cd48d"
    },
    {
      "cell_type": "code",
      "execution_count": 192,
      "metadata": {
        "tags": []
      },
      "outputs": [],
      "source": [
        "lst = [1,3.14,True,'a',[1,2], \n",
        "       (1,2),{'name':'iu','age':27},{1,2,3}]\n",
        "lst"
      ],
      "id": "9dc146c4-b329-4231-9416-f7dff4f4d638"
    },
    {
      "cell_type": "code",
      "execution_count": 193,
      "metadata": {
        "tags": []
      },
      "outputs": [],
      "source": [
        "[type(l) for l in lst]"
      ],
      "id": "784ccd86-4fad-433d-b2ae-39deb8c0ffc3"
    },
    {
      "cell_type": "markdown",
      "metadata": {},
      "source": [
        "`-` str은 컨테이너형이 아니다."
      ],
      "id": "c6653a6b-6a27-4ef9-a99d-3b4feda77e34"
    },
    {
      "cell_type": "code",
      "execution_count": 197,
      "metadata": {
        "tags": []
      },
      "outputs": [],
      "source": [
        "'abcd'[2]"
      ],
      "id": "dbe7cd44-8461-496b-8c8d-2cfd299b18a7"
    },
    {
      "cell_type": "markdown",
      "metadata": {},
      "source": [
        "-   str의 모든 원소는 문자임\n",
        "\n",
        "## E. 가변객체\n",
        "\n",
        "`-` 리스트는 원소를 수정할 수 있다. (리스트는 가변객체이므로)"
      ],
      "id": "33bf3639-9a60-49db-884d-1b63b75050ac"
    },
    {
      "cell_type": "code",
      "execution_count": 198,
      "metadata": {
        "tags": []
      },
      "outputs": [],
      "source": [
        "a=[11,22,33]\n",
        "a"
      ],
      "id": "63d2c611-4496-4d18-b547-7b5c8245f880"
    },
    {
      "cell_type": "code",
      "execution_count": 201,
      "metadata": {
        "tags": []
      },
      "outputs": [],
      "source": [
        "a[0] = -77"
      ],
      "id": "42fee572-ba61-4c0e-b789-caea9a498cc5"
    },
    {
      "cell_type": "code",
      "execution_count": 202,
      "metadata": {
        "tags": []
      },
      "outputs": [],
      "source": [
        "a"
      ],
      "id": "7a9b8721-fbfb-40dd-a057-39c2da43d9bb"
    },
    {
      "cell_type": "markdown",
      "metadata": {},
      "source": [
        "`-` 원소수정은 당연한 기능같은데 이것이 불가능한 경우도 있다.\n",
        "\n",
        "(가능한경우)"
      ],
      "id": "2042c668-6aec-4862-8f50-deaea510e5b3"
    },
    {
      "cell_type": "code",
      "execution_count": 203,
      "metadata": {
        "tags": []
      },
      "outputs": [],
      "source": [
        "a=['g','u','e','b','i','n']\n",
        "a"
      ],
      "id": "faafdb3d-8471-4bd4-b950-2d3c755de7ec"
    },
    {
      "cell_type": "code",
      "execution_count": 205,
      "metadata": {
        "tags": []
      },
      "outputs": [],
      "source": [
        "a[0] = 'G'"
      ],
      "id": "1ac1cb59-3b27-45b6-bc15-05166ea1572c"
    },
    {
      "cell_type": "code",
      "execution_count": 206,
      "metadata": {
        "tags": []
      },
      "outputs": [],
      "source": [
        "a"
      ],
      "id": "a3c0d84a-a552-4add-a4f6-0653004205e2"
    },
    {
      "cell_type": "markdown",
      "metadata": {},
      "source": [
        "(불가능한경우)"
      ],
      "id": "0edc396a-317b-4719-bb61-a4c52d26dc81"
    },
    {
      "cell_type": "code",
      "execution_count": 207,
      "metadata": {
        "tags": []
      },
      "outputs": [],
      "source": [
        "a='guebin'\n",
        "a"
      ],
      "id": "5790f692-5227-4e25-84e3-7b4bc2d3aef9"
    },
    {
      "cell_type": "code",
      "execution_count": 137,
      "metadata": {},
      "outputs": [],
      "source": [
        "a[0]"
      ],
      "id": "24cf808b-2c18-4c12-ae69-b7f939a79f8e"
    },
    {
      "cell_type": "code",
      "execution_count": 211,
      "metadata": {
        "tags": []
      },
      "outputs": [],
      "source": [
        "a[0]='G'"
      ],
      "id": "dc2b8497-cf0d-4e16-8a78-8b4699ec10e6"
    },
    {
      "cell_type": "markdown",
      "metadata": {},
      "source": [
        "## F. 리스트의 원소 삭제\n",
        "\n",
        "(예제1) del을 이용한 원소삭제\n",
        "\n",
        "아래와 같이 문자로 된 리스트를 선언하자."
      ],
      "id": "db3929f7-b005-4232-90b9-b550af5b1101"
    },
    {
      "cell_type": "code",
      "execution_count": 229,
      "metadata": {
        "tags": []
      },
      "outputs": [],
      "source": [
        "a=['g','u','e','b','i','n']\n",
        "a"
      ],
      "id": "3fb47ffa-f18f-43c4-a9cd-48bedcac43e2"
    },
    {
      "cell_type": "markdown",
      "metadata": {},
      "source": [
        "***사실 더 쉽게 선언할 수 있음***"
      ],
      "id": "b3757dc3-5bfc-4559-8b90-b1dafa6a93b3"
    },
    {
      "cell_type": "code",
      "execution_count": 142,
      "metadata": {},
      "outputs": [],
      "source": [
        "list('guebin')"
      ],
      "id": "0aa4364f-2112-4448-ab29-55ca205f0c49"
    },
    {
      "cell_type": "markdown",
      "metadata": {},
      "source": [
        "첫번째 원소를 삭제하고 싶다면?"
      ],
      "id": "ebd4937e-dfbb-403f-9418-603a1af663cc"
    },
    {
      "cell_type": "code",
      "execution_count": 231,
      "metadata": {
        "tags": []
      },
      "outputs": [],
      "source": [
        "del a[0]\n",
        "a"
      ],
      "id": "49b62d57-4dbf-435b-98a5-48c4ca65ea01"
    },
    {
      "cell_type": "markdown",
      "metadata": {},
      "source": [
        "이 상태에서 다시 첫번째 원소를 삭제한다면?"
      ],
      "id": "873ae9b5-968a-4c4b-822a-b6986cc5da7f"
    },
    {
      "cell_type": "code",
      "execution_count": 232,
      "metadata": {
        "tags": []
      },
      "outputs": [],
      "source": [
        "del a[0]\n",
        "a"
      ],
      "id": "b4ddadaf-6329-4fe4-a151-445521965982"
    },
    {
      "cell_type": "markdown",
      "metadata": {},
      "source": [
        "(예제2) pop을 이용한 원소삭제"
      ],
      "id": "57714ad7-a713-49da-a3e9-73e02ff90c2b"
    },
    {
      "cell_type": "code",
      "execution_count": 238,
      "metadata": {
        "tags": []
      },
      "outputs": [],
      "source": [
        "a=list('guebin')\n",
        "a"
      ],
      "id": "7be6286b-d79c-43d9-ae75-341bb1d97fda"
    },
    {
      "cell_type": "code",
      "execution_count": 239,
      "metadata": {
        "tags": []
      },
      "outputs": [],
      "source": [
        "a.pop(0)"
      ],
      "id": "073e458e-2134-4e4d-bf62-3d24c7948445"
    },
    {
      "cell_type": "code",
      "execution_count": 240,
      "metadata": {
        "tags": []
      },
      "outputs": [],
      "source": [
        "a.pop(0)"
      ],
      "id": "513b6e9d-a455-4ff9-b893-9c30a0dcf4a2"
    },
    {
      "cell_type": "code",
      "execution_count": 241,
      "metadata": {
        "tags": []
      },
      "outputs": [],
      "source": [
        "a"
      ],
      "id": "4cc457dd-34c0-4a19-8feb-33f03b73e3df"
    },
    {
      "cell_type": "markdown",
      "metadata": {},
      "source": [
        "(예제3) remove를 이용한 원소삭제"
      ],
      "id": "0841a49d-e046-48df-8d11-99e116797ff8"
    },
    {
      "cell_type": "code",
      "execution_count": 306,
      "metadata": {
        "tags": []
      },
      "outputs": [],
      "source": [
        "a=list('guebin')\n",
        "a"
      ],
      "id": "307485f5-dd0d-46f7-bc18-b7812aed6d2b"
    },
    {
      "cell_type": "code",
      "execution_count": 307,
      "metadata": {
        "tags": []
      },
      "outputs": [],
      "source": [
        "a.remove('b')\n",
        "a"
      ],
      "id": "589ba451-3d6d-4315-8319-b0b7912c26a0"
    },
    {
      "cell_type": "markdown",
      "metadata": {},
      "source": [
        "## G. 리스트 원소 추가\n",
        "\n",
        "(예제) 비어있는 리스트를 만들고 원소 0,1,2를 차례로 추가하여 보자.\n",
        "\n",
        "(풀이1) `+` 연산이용"
      ],
      "id": "1d7df3f7-730c-401f-b5da-4e1c5be953fa"
    },
    {
      "cell_type": "code",
      "execution_count": 275,
      "metadata": {
        "tags": []
      },
      "outputs": [],
      "source": [
        "a=[]\n",
        "a"
      ],
      "id": "2cdd25c9-a360-41f8-bf45-28967d61204f"
    },
    {
      "cell_type": "code",
      "execution_count": 276,
      "metadata": {
        "tags": []
      },
      "outputs": [],
      "source": [
        "a= a+[0]\n",
        "a"
      ],
      "id": "cd00fc7e-09c7-4726-979b-bc219e89901d"
    },
    {
      "cell_type": "code",
      "execution_count": 277,
      "metadata": {
        "tags": []
      },
      "outputs": [],
      "source": [
        "a= a+[1] # a = [0]+[1]\n",
        "a"
      ],
      "id": "bb30abac-d1ae-4086-a2bb-f6c479d0def9"
    },
    {
      "cell_type": "code",
      "execution_count": 278,
      "metadata": {
        "tags": []
      },
      "outputs": [],
      "source": [
        "a= a+[2] # a = [0,1] + [2]\n",
        "a"
      ],
      "id": "63685d41-aaca-4261-8b87-9bede7df0328"
    },
    {
      "cell_type": "markdown",
      "metadata": {},
      "source": [
        "(풀이2) `+=` 이용"
      ],
      "id": "975e4547-dd5e-4c30-a74d-0784ed381ac5"
    },
    {
      "cell_type": "code",
      "execution_count": 279,
      "metadata": {
        "tags": []
      },
      "outputs": [],
      "source": [
        "a=[]\n",
        "a+=[0]\n",
        "a+=[1] \n",
        "a+=[2] \n",
        "a"
      ],
      "id": "f62ab54c-e701-4233-865d-f6f33211f4b4"
    },
    {
      "cell_type": "markdown",
      "metadata": {},
      "source": [
        "-   반복되는 문자를 제거하고 연산의 순서를 바꾼다.\n",
        "\n",
        "(풀이3) 리스트 특수기능 `.append()`를 이용"
      ],
      "id": "d821b4e8-7ad0-4fca-9e45-2fed481ed511"
    },
    {
      "cell_type": "code",
      "execution_count": 280,
      "metadata": {
        "tags": []
      },
      "outputs": [],
      "source": [
        "a=[] "
      ],
      "id": "f12d3c09-6e6e-4f88-b739-1af268549c1c"
    },
    {
      "cell_type": "code",
      "execution_count": 281,
      "metadata": {
        "tags": []
      },
      "outputs": [],
      "source": [
        "a.append(0)\n",
        "a.append(1)\n",
        "a.append(2)\n",
        "a"
      ],
      "id": "86e207f1-6f1e-4897-9038-f9890698ae43"
    },
    {
      "cell_type": "markdown",
      "metadata": {},
      "source": [
        "`-` 아래는 불가능하다."
      ],
      "id": "750846a4-47ec-4cdb-b1f9-291dba4974bb"
    },
    {
      "cell_type": "code",
      "execution_count": 288,
      "metadata": {
        "tags": []
      },
      "outputs": [],
      "source": [
        "a.append(0).append(1).append(2)"
      ],
      "id": "72f9d87f-a752-4231-a04a-1712c75df0d2"
    },
    {
      "cell_type": "code",
      "execution_count": 51,
      "metadata": {},
      "outputs": [],
      "source": [
        "a.append(0,1,2)"
      ],
      "id": "5a1bbc77-91bb-4d5a-b7e7-3b201a08b996"
    },
    {
      "cell_type": "markdown",
      "metadata": {},
      "source": [
        "## H. `a+[4]`와 `a.append(4)`의 차이점은?\n",
        "\n",
        "(관찰1)"
      ],
      "id": "42a8cea7-f847-4923-8db7-8c1bfb227b89"
    },
    {
      "cell_type": "code",
      "execution_count": 289,
      "metadata": {
        "tags": []
      },
      "outputs": [],
      "source": [
        "a=[1,2,3]\n",
        "a+[4] ## 리스트 a와 리스트 [4]의 연산결과를 알려줘 "
      ],
      "id": "c8d49eec-5702-48da-83f5-fc44ef817f3e"
    },
    {
      "cell_type": "code",
      "execution_count": 290,
      "metadata": {
        "tags": []
      },
      "outputs": [],
      "source": [
        "a ## a는 그대로임. 변화없음 "
      ],
      "id": "3d077864-f3dc-48d1-bdfe-83f1106bd262"
    },
    {
      "cell_type": "markdown",
      "metadata": {},
      "source": [
        "(관찰2)"
      ],
      "id": "73a8dfd6-32da-411c-be8b-7a327be5515e"
    },
    {
      "cell_type": "code",
      "execution_count": 291,
      "metadata": {
        "tags": []
      },
      "outputs": [],
      "source": [
        "a=[1,2,3]\n",
        "a.append(4)"
      ],
      "id": "22b0a127-e505-4f0a-b81a-8274cc1a4cb1"
    },
    {
      "cell_type": "code",
      "execution_count": 292,
      "metadata": {
        "tags": []
      },
      "outputs": [],
      "source": [
        "a ## a자체가 변화함 "
      ],
      "id": "329418c3-628b-4daa-920f-65a9c550bd78"
    },
    {
      "cell_type": "markdown",
      "metadata": {},
      "source": [
        "비슷해보이지만 굉장히 미묘한 차이가 있음\n",
        "\n",
        "`a.append(4)`: `a`에 4를 append하라 $\\to$ `a`가 변함\n",
        "\n",
        "`a+[4]`: `a`와 `[4]`를 연산하라\n",
        "\n",
        "## I. 리스트 특수기능\n",
        "\n",
        "**(append)**"
      ],
      "id": "09d0dbc3-4df9-49a7-b6b8-e60711bd4a9b"
    },
    {
      "cell_type": "code",
      "execution_count": 58,
      "metadata": {},
      "outputs": [],
      "source": [
        "a=[1,2,3,4]\n",
        "a.append?"
      ],
      "id": "51180ac8-95f7-4a3a-93ab-04a142e722e3"
    },
    {
      "cell_type": "code",
      "execution_count": 163,
      "metadata": {},
      "outputs": [],
      "source": [
        "a.append(5)\n",
        "a"
      ],
      "id": "1983e17c-b4a1-4795-bef9-02fb90456fa3"
    },
    {
      "cell_type": "markdown",
      "metadata": {},
      "source": [
        "**(clear)**"
      ],
      "id": "ca99b51b-dd34-417a-aa58-253bf90e91c8"
    },
    {
      "cell_type": "code",
      "execution_count": 166,
      "metadata": {},
      "outputs": [],
      "source": [
        "a=[1,2,3,4]\n",
        "a.clear?"
      ],
      "id": "1a7e5fff-ca6e-43d9-978c-61547e73581b"
    },
    {
      "cell_type": "code",
      "execution_count": 168,
      "metadata": {},
      "outputs": [],
      "source": [
        "a.clear()\n",
        "a"
      ],
      "id": "bcfb861a-0fa4-421a-9273-a099201b64c2"
    },
    {
      "cell_type": "markdown",
      "metadata": {},
      "source": [
        "**(copy)**"
      ],
      "id": "4ebd4883-eb1a-46e4-b434-5f9b5fe698e7"
    },
    {
      "cell_type": "code",
      "execution_count": 170,
      "metadata": {},
      "outputs": [],
      "source": [
        "a=[1,2,3,4]\n",
        "a.copy?"
      ],
      "id": "6452250b-cad7-4ecd-8d4e-b10d15a01160"
    },
    {
      "cell_type": "code",
      "execution_count": 171,
      "metadata": {},
      "outputs": [],
      "source": [
        "b=a.copy()\n",
        "b"
      ],
      "id": "6c806c9c-dfc4-470a-b178-2669d7ef76e3"
    },
    {
      "cell_type": "markdown",
      "metadata": {},
      "source": [
        "**(count)**"
      ],
      "id": "9b597742-1464-4476-96eb-eb6e9f4af0d5"
    },
    {
      "cell_type": "code",
      "execution_count": 294,
      "metadata": {
        "tags": []
      },
      "outputs": [],
      "source": [
        "a=['a','a','b','b','b','c']\n",
        "a.count?"
      ],
      "id": "62598b6b-5d1b-46c7-bbd9-5c18be6c9bb5"
    },
    {
      "cell_type": "code",
      "execution_count": 295,
      "metadata": {
        "tags": []
      },
      "outputs": [],
      "source": [
        "a.count('a')"
      ],
      "id": "ba7c156f-58ce-418c-aaa3-c2e01114a3ca"
    },
    {
      "cell_type": "code",
      "execution_count": 296,
      "metadata": {
        "tags": []
      },
      "outputs": [],
      "source": [
        "a.count('b')"
      ],
      "id": "b555f8b3-2de7-4f9e-8f84-a827165014a2"
    },
    {
      "cell_type": "code",
      "execution_count": 297,
      "metadata": {
        "tags": []
      },
      "outputs": [],
      "source": [
        "a.count('c')"
      ],
      "id": "4fa435e2-225e-4560-94b4-ff02a8c65a4f"
    },
    {
      "cell_type": "markdown",
      "metadata": {},
      "source": [
        "**(extend)**"
      ],
      "id": "c199e67f-26ce-44e2-adf8-0a8e9610d225"
    },
    {
      "cell_type": "code",
      "execution_count": 298,
      "metadata": {
        "tags": []
      },
      "outputs": [],
      "source": [
        "a=[1,2,3,4]\n",
        "b=[-1,-2,-3,-4]"
      ],
      "id": "e80da276-78eb-4098-9acb-1b6032444b44"
    },
    {
      "cell_type": "code",
      "execution_count": 9,
      "metadata": {},
      "outputs": [],
      "source": [
        "a.extend(b)\n",
        "a"
      ],
      "id": "30a05711-8f6f-409f-a5a7-76f3d4f4256f"
    },
    {
      "cell_type": "code",
      "execution_count": 302,
      "metadata": {
        "tags": []
      },
      "outputs": [],
      "source": [
        "a=[1,2,3,4]\n",
        "b=[-1,-2,-3,-4]"
      ],
      "id": "45a4dc68-6fe3-4425-9601-779ee71afe57"
    },
    {
      "cell_type": "code",
      "execution_count": 303,
      "metadata": {
        "tags": []
      },
      "outputs": [],
      "source": [
        "a.append(b)"
      ],
      "id": "49a423fd-b1b7-4377-8120-7efd5d9bb1cf"
    },
    {
      "cell_type": "code",
      "execution_count": 304,
      "metadata": {
        "tags": []
      },
      "outputs": [],
      "source": [
        "a"
      ],
      "id": "6e6a4aba-18c3-4c98-afaa-25af5bd6f3ff"
    },
    {
      "cell_type": "markdown",
      "metadata": {},
      "source": [
        "**(index)**"
      ],
      "id": "92f82946-9147-461b-9748-d7b9cbc4810c"
    },
    {
      "cell_type": "code",
      "execution_count": 127,
      "metadata": {},
      "outputs": [],
      "source": [
        "a=[11,22,'a',True, 22,'a']\n",
        "a.index?"
      ],
      "id": "b5393809-c404-4aa0-b5ce-404f8b6a608d"
    },
    {
      "cell_type": "code",
      "execution_count": 128,
      "metadata": {},
      "outputs": [],
      "source": [
        "a.index(11)"
      ],
      "id": "16ec71c6-be14-4bcd-9651-a707f5fd6759"
    },
    {
      "cell_type": "code",
      "execution_count": 129,
      "metadata": {},
      "outputs": [],
      "source": [
        "a.index(22)"
      ],
      "id": "553377de-ae8d-437f-80c8-f1d0b9e11bde"
    },
    {
      "cell_type": "code",
      "execution_count": 130,
      "metadata": {},
      "outputs": [],
      "source": [
        "a.index('a')"
      ],
      "id": "b68f66e3-3ee9-4e5a-ae40-2719235ea171"
    },
    {
      "cell_type": "code",
      "execution_count": 131,
      "metadata": {},
      "outputs": [],
      "source": [
        "a.index(True)"
      ],
      "id": "81ce4470-5d70-4218-9a8a-bc079c83104e"
    },
    {
      "cell_type": "markdown",
      "metadata": {},
      "source": [
        "**(insert)**"
      ],
      "id": "90f1ec8f-d938-4f86-bb56-aa1a5d57cab3"
    },
    {
      "cell_type": "code",
      "execution_count": 22,
      "metadata": {},
      "outputs": [],
      "source": [
        "a=[1,2,3]\n",
        "a.insert?"
      ],
      "id": "98347389-b398-4b27-be61-dce4e03cfb9a"
    },
    {
      "cell_type": "code",
      "execution_count": 23,
      "metadata": {},
      "outputs": [],
      "source": [
        "a.insert(1,88) \n",
        "a"
      ],
      "id": "0b9021de-b35b-4f61-88b9-a43a6e897225"
    },
    {
      "cell_type": "markdown",
      "metadata": {},
      "source": [
        "**(pop)**"
      ],
      "id": "4d349907-8feb-4b5c-9331-06a378d6e933"
    },
    {
      "cell_type": "code",
      "execution_count": 24,
      "metadata": {},
      "outputs": [],
      "source": [
        "a=['a',1,2,'d']\n",
        "a.pop?"
      ],
      "id": "4760bcbd-ba18-41b9-8987-4d14e4c65f09"
    },
    {
      "cell_type": "code",
      "execution_count": 25,
      "metadata": {},
      "outputs": [],
      "source": [
        "a.pop() # index=-1 이므로 마지막원소가 나타남"
      ],
      "id": "150b92cc-fbf8-4c7a-a798-5be3e1ec92e3"
    },
    {
      "cell_type": "code",
      "execution_count": 26,
      "metadata": {},
      "outputs": [],
      "source": [
        "a # a는 마지막 원소가 사라진 상태"
      ],
      "id": "24d5b84b-80d7-4b1f-a4a0-2c942d909b10"
    },
    {
      "cell_type": "code",
      "execution_count": 27,
      "metadata": {},
      "outputs": [],
      "source": [
        "a.pop(0) # index=0 이므로 첫번쨰 원소가 나타남"
      ],
      "id": "fc16bc8a-2643-4175-96d0-ea242bb0f0b2"
    },
    {
      "cell_type": "code",
      "execution_count": 28,
      "metadata": {},
      "outputs": [],
      "source": [
        "a # a에는 첫번째 원소가 사라진 상태"
      ],
      "id": "aaa0e0cd-422d-44cf-94f0-418f7831831e"
    },
    {
      "cell_type": "markdown",
      "metadata": {},
      "source": [
        "**(remove)**"
      ],
      "id": "734e4f0d-76b5-4775-bc1a-d56d1eeeaa96"
    },
    {
      "cell_type": "code",
      "execution_count": 29,
      "metadata": {},
      "outputs": [],
      "source": [
        "a=['a',2,3,'d']\n",
        "a.remove?"
      ],
      "id": "30c9469c-2b84-47a8-8cfa-e264498cd8d6"
    },
    {
      "cell_type": "code",
      "execution_count": 30,
      "metadata": {},
      "outputs": [],
      "source": [
        "a.remove('d')"
      ],
      "id": "8886ce34-d100-4f96-8ef8-b7266a4ddd43"
    },
    {
      "cell_type": "code",
      "execution_count": 31,
      "metadata": {},
      "outputs": [],
      "source": [
        "a"
      ],
      "id": "db39fe17-d93e-483c-aca4-53b46bf0d88b"
    },
    {
      "cell_type": "code",
      "execution_count": 32,
      "metadata": {},
      "outputs": [],
      "source": [
        "a.remove('a')"
      ],
      "id": "a8ea7689-6a63-4990-aff0-0334631b3104"
    },
    {
      "cell_type": "code",
      "execution_count": 33,
      "metadata": {},
      "outputs": [],
      "source": [
        "a"
      ],
      "id": "29d6abf1-243f-4494-8c75-0593dd8d8d2d"
    },
    {
      "cell_type": "markdown",
      "metadata": {},
      "source": [
        "**(reverse)**"
      ],
      "id": "07978d38-2e6c-4beb-873d-097589d4e144"
    },
    {
      "cell_type": "code",
      "execution_count": 34,
      "metadata": {},
      "outputs": [],
      "source": [
        "a=[1,2,3,4]\n",
        "a.reverse?"
      ],
      "id": "38984ad0-370d-406e-9c0a-4b2b655db3be"
    },
    {
      "cell_type": "code",
      "execution_count": 35,
      "metadata": {},
      "outputs": [],
      "source": [
        "a.reverse()\n",
        "a"
      ],
      "id": "54ebc226-f994-481f-9b83-96636a6d9b7d"
    },
    {
      "cell_type": "markdown",
      "metadata": {},
      "source": [
        "**(sort)**"
      ],
      "id": "fa251441-a857-4198-a975-396b104e8644"
    },
    {
      "cell_type": "code",
      "execution_count": 59,
      "metadata": {},
      "outputs": [],
      "source": [
        "a=[1,3,2,4]\n",
        "a.sort?"
      ],
      "id": "583ac3b4-d110-471c-9117-8bf75946b277"
    },
    {
      "cell_type": "code",
      "execution_count": 37,
      "metadata": {},
      "outputs": [],
      "source": [
        "a.sort()\n",
        "a"
      ],
      "id": "388df751-7cbc-4407-a70e-b93aebb3e4f8"
    },
    {
      "cell_type": "markdown",
      "metadata": {},
      "source": [
        "(다른예제들)"
      ],
      "id": "0220913d-9470-4cb9-9487-c04d333535f3"
    },
    {
      "cell_type": "code",
      "execution_count": 40,
      "metadata": {},
      "outputs": [],
      "source": [
        "a=list('guebin')\n",
        "a"
      ],
      "id": "69f2861f-d40b-493c-92e6-dc8c7478d56a"
    },
    {
      "cell_type": "code",
      "execution_count": 41,
      "metadata": {},
      "outputs": [],
      "source": [
        "a.sort()\n",
        "a"
      ],
      "id": "f035ec39-e08f-419b-a43a-fae676d7180e"
    },
    {
      "cell_type": "code",
      "execution_count": 42,
      "metadata": {},
      "outputs": [],
      "source": [
        "a.sort(reverse=True)\n",
        "a"
      ],
      "id": "04181926-9aa2-4321-ba02-2542457f3b56"
    },
    {
      "cell_type": "markdown",
      "metadata": {},
      "source": [
        "## J. 중첩리스트\n",
        "\n",
        "`-` 리스트는 리스트를 원소로 받을 수 있으므로 아래와 같이 중첩된\n",
        "리스트를 만들 수 있다."
      ],
      "id": "1897a9b3-b48a-4cdc-ab6e-880e249aaf0c"
    },
    {
      "cell_type": "code",
      "execution_count": 315,
      "metadata": {
        "tags": []
      },
      "outputs": [],
      "source": [
        "A = [[1,2,3],\n",
        "     [4,5,6],\n",
        "     [7,8,9]]\n",
        "A"
      ],
      "id": "6a6b0580-e710-4346-a4e8-bcde82b377fc"
    },
    {
      "cell_type": "markdown",
      "metadata": {},
      "source": [
        "`-` A는 1차원인 벡터가 아니라 2차원인 매트릭스로 이해할 수 있다.\n",
        "구체적으로는 아래와 같은 매트릭스로 이해할 수 있다\n",
        "\n",
        "$$\\bf{A}=\\begin{bmatrix}\n",
        "1 & 2 & 3 \\\\ \n",
        "4 & 5 & 6 \\\\ \n",
        "7 & 8 & 9 \n",
        "\\end{bmatrix}$$\n",
        "\n",
        "`-` A에서 (2,1)의 원소를 뽑고싶다 = 4를 뽑고싶다"
      ],
      "id": "bc84f0c2-84ee-4639-b03f-4265532fc065"
    },
    {
      "cell_type": "code",
      "execution_count": 329,
      "metadata": {
        "tags": []
      },
      "outputs": [],
      "source": [
        "A[1,0] # R에서는 이게 가능했죠"
      ],
      "id": "8e51f527-0a96-4b5c-9665-a17757377daf"
    },
    {
      "cell_type": "markdown",
      "metadata": {},
      "source": [
        "-   실패"
      ],
      "id": "bbed8de8-de34-4621-9b60-819e9fa83a14"
    },
    {
      "cell_type": "code",
      "execution_count": 332,
      "metadata": {
        "tags": []
      },
      "outputs": [],
      "source": [
        "A[1][0]"
      ],
      "id": "28477fde-848e-4b71-a7df-8da64c1c3076"
    },
    {
      "cell_type": "markdown",
      "metadata": {},
      "source": [
        "-   성공\n",
        "\n",
        "`-` 성공의 이유를 분석해보자."
      ],
      "id": "a213159f-b4d1-4138-897e-0c91691a8c36"
    },
    {
      "cell_type": "code",
      "execution_count": 46,
      "metadata": {},
      "outputs": [],
      "source": [
        "A"
      ],
      "id": "387035f2-db01-45fb-aefc-119bb5d9b321"
    },
    {
      "cell_type": "code",
      "execution_count": 47,
      "metadata": {},
      "outputs": [],
      "source": [
        "A[1]"
      ],
      "id": "85a7d649-9a94-4c57-a5a7-8af18e528925"
    },
    {
      "cell_type": "code",
      "execution_count": 48,
      "metadata": {},
      "outputs": [],
      "source": [
        "A[1][0]"
      ],
      "id": "8ce83e11-7c77-4237-8f2f-6990dadc39d9"
    },
    {
      "cell_type": "markdown",
      "metadata": {},
      "source": [
        "`-` 매트릭스는 아니지만 매트릭스 같음!\n",
        "\n",
        "-   1차원 배열을 다차원 배열로 확장할 수 있는 기본 아이디어를 제공함\n",
        "\n",
        "## K. 리스트 컴프리헨션 연습\n",
        "\n",
        "`-` 예제1: 리스트 컴프리헨션을 이용하여 아래와 같은 리스트를 만들어라."
      ],
      "id": "a0c7426d-ff7f-4567-aa10-c6a189995620"
    },
    {
      "cell_type": "code",
      "execution_count": 72,
      "metadata": {},
      "outputs": [],
      "source": [
        "['SSSS','PPPP','AAAA','MMMM']"
      ],
      "id": "6c6f6f7c-7e9b-4a31-ae22-606821f0ce28"
    },
    {
      "cell_type": "markdown",
      "metadata": {},
      "source": [
        "(풀이)"
      ],
      "id": "288ffe39-8b02-43d0-bcc9-06f0aa7ed7e4"
    },
    {
      "cell_type": "code",
      "execution_count": 343,
      "metadata": {},
      "outputs": [],
      "source": [
        "[s*4 for s in 'SPAM']"
      ],
      "id": "b85085f9-8b52-4e40-9a48-e75c10318fd3"
    },
    {
      "cell_type": "markdown",
      "metadata": {},
      "source": [
        "`-` 예제2: 리스트컴프리헨션을 이용하여 아래와 같은 리스트를 만들어라."
      ],
      "id": "f7a9fbd6-c133-439b-9f07-ad0c5b716dfc"
    },
    {
      "cell_type": "code",
      "execution_count": 401,
      "metadata": {},
      "outputs": [],
      "source": [
        "['X1','X2','X3','Y1','Y2','Y3']"
      ],
      "id": "23956f98-4a54-4989-bcca-6cc2ab09afd8"
    },
    {
      "cell_type": "markdown",
      "metadata": {},
      "source": [
        "(풀이1)"
      ],
      "id": "fea9c11b-1fb3-4631-aec9-122bff302c63"
    },
    {
      "cell_type": "code",
      "execution_count": 345,
      "metadata": {
        "tags": []
      },
      "outputs": [],
      "source": [
        "import itertools"
      ],
      "id": "f7489946-5598-4ded-8fc0-16c2b7884c86"
    },
    {
      "cell_type": "code",
      "execution_count": 351,
      "metadata": {
        "tags": []
      },
      "outputs": [],
      "source": [
        "[i+j for i,j in itertools.product('XY','123')]"
      ],
      "id": "838fcb51-5450-401a-b650-bd7e97bd998d"
    },
    {
      "cell_type": "markdown",
      "metadata": {},
      "source": [
        "(풀이2)"
      ],
      "id": "6b1b60fc-7a27-4bce-8fd6-426851d6f875"
    },
    {
      "cell_type": "code",
      "execution_count": 357,
      "metadata": {
        "tags": []
      },
      "outputs": [],
      "source": [
        "[i+j for i in 'XY' for j in '123']"
      ],
      "id": "85fdba8b-3185-4863-80d8-4f862b4813a3"
    },
    {
      "cell_type": "markdown",
      "metadata": {},
      "source": [
        "`-` 예제: 리스트컴프리헨션을 이용하여 아래와 같은 리스트를 만들어라."
      ],
      "id": "0aa6485f-3efe-4361-b442-3ec5885ca557"
    },
    {
      "cell_type": "code",
      "execution_count": 74,
      "metadata": {},
      "outputs": [],
      "source": [
        "['stat1', 'stat2', 'stat3', 'math1', 'math2', 'math3']"
      ],
      "id": "ca401b43-51bb-4579-9784-3a0c162af6be"
    },
    {
      "cell_type": "markdown",
      "metadata": {},
      "source": [
        "(풀이1)"
      ],
      "id": "a4a15846-4e9c-44d3-a21e-51254c246d98"
    },
    {
      "cell_type": "code",
      "execution_count": 361,
      "metadata": {
        "tags": []
      },
      "outputs": [],
      "source": [
        "[i+j for i,j in itertools.product(['stat','math'], '123')]"
      ],
      "id": "0cc5b5dc-2c21-4a94-a17c-423b9b72f2b5"
    },
    {
      "cell_type": "markdown",
      "metadata": {},
      "source": [
        "(풀이2)"
      ],
      "id": "e76ef132-10cb-47e2-b8aa-e3c92af0a121"
    },
    {
      "cell_type": "code",
      "execution_count": 376,
      "metadata": {
        "tags": []
      },
      "outputs": [],
      "source": [
        "[i+j for i in ['stat','math'] for j in '123']"
      ],
      "id": "5e2406cd-9c53-4e5a-af09-0c621706c202"
    },
    {
      "cell_type": "markdown",
      "metadata": {},
      "source": [
        "(다른풀이) 비어있는 리스트를 만들고 for문을 쓰면 좀 복잡해진다."
      ],
      "id": "75de3eff-5f65-47a1-9e55-83cfdd52723f"
    },
    {
      "cell_type": "code",
      "execution_count": 373,
      "metadata": {
        "tags": []
      },
      "outputs": [],
      "source": [
        "lst = [] \n",
        "for x in ['stat','math']: \n",
        "    for y in '123': \n",
        "        lst.append(x+y)\n",
        "lst"
      ],
      "id": "ed2c518c-3e8e-4c5f-8a72-b73266eaeee2"
    },
    {
      "cell_type": "code",
      "execution_count": 375,
      "metadata": {
        "tags": []
      },
      "outputs": [],
      "source": [
        "lst = [] \n",
        "for x in ['stat','math']: \n",
        "    for y in '123': \n",
        "        lst = lst + [x+y]\n",
        "lst"
      ],
      "id": "9f7c1226-2fc6-4ccc-a3b0-dbdf08e5347a"
    },
    {
      "cell_type": "markdown",
      "metadata": {},
      "source": [
        "`-` 예제: 리스트컴프리헨션과 문자열 `'jbnu'`를 이용하여 아래와 같은\n",
        "리스트를 만들어라."
      ],
      "id": "041a09d1-30c6-4b5c-95f9-8b680a7aa776"
    },
    {
      "cell_type": "code",
      "execution_count": 186,
      "metadata": {},
      "outputs": [],
      "source": [
        "['j','b','n','u']"
      ],
      "id": "ecc0185b-a555-4c4a-a092-eed73e2bfe2f"
    },
    {
      "cell_type": "markdown",
      "metadata": {},
      "source": [
        "(풀이)"
      ],
      "id": "e8c77bb7-7eec-4ca2-9388-c7a21b8d4a75"
    },
    {
      "cell_type": "code",
      "execution_count": 378,
      "metadata": {
        "tags": []
      },
      "outputs": [],
      "source": [
        "[s for s in 'jbnu']"
      ],
      "id": "0c989910-f67c-487b-8cee-8d3b52d9f4f8"
    },
    {
      "cell_type": "markdown",
      "metadata": {},
      "source": [
        "(다른풀이) 아래와 같이 풀면 된다는것은 알고 있음"
      ],
      "id": "3b64fa3d-5655-45b3-a943-f2e1cb38c8d4"
    },
    {
      "cell_type": "code",
      "execution_count": 381,
      "metadata": {
        "tags": []
      },
      "outputs": [],
      "source": [
        "list('jbnu')"
      ],
      "id": "f3aa7b64-3590-4bae-b20b-6c1454688893"
    },
    {
      "cell_type": "markdown",
      "metadata": {},
      "source": [
        "`-` 예제: 리스트컴프리헨션을 이용하여 아래와 같은 리스트를 만들어라."
      ],
      "id": "94e5a217-f089-4724-bf0d-88d4de79e272"
    },
    {
      "cell_type": "code",
      "execution_count": 189,
      "metadata": {},
      "outputs": [],
      "source": [
        "['X1', 'X2', 'X3', 'X4', 'X5', 'X6', 'X7', 'X8', 'X9', 'X10', 'X11', 'X12']"
      ],
      "id": "14ffeab2-1088-4577-9900-dd1dc003e434"
    },
    {
      "cell_type": "markdown",
      "metadata": {},
      "source": [
        "(풀이)"
      ],
      "id": "3faf7dec-8cf0-4ab0-b288-5bcf89b8dba0"
    },
    {
      "cell_type": "code",
      "execution_count": 384,
      "metadata": {
        "tags": []
      },
      "outputs": [],
      "source": [
        "['X'+str(i) for i in range(1,13)]"
      ],
      "id": "76cce593-cdb6-424e-be24-852111e95f70"
    },
    {
      "cell_type": "markdown",
      "metadata": {},
      "source": [
        "## L. 리스트 컴프리헨션과 for문의 미묘한 차이\n",
        "\n",
        "(경우1)"
      ],
      "id": "f89ae535-d6b7-487a-959e-36f36c882390"
    },
    {
      "cell_type": "code",
      "execution_count": 385,
      "metadata": {
        "tags": []
      },
      "outputs": [],
      "source": [
        "x=777 \n",
        "lst = [] \n",
        "for x in 'jbnu': \n",
        "    lst = lst + [x]\n",
        "lst    "
      ],
      "id": "6ac5bca8-604a-4873-ac79-6a623cd8830b"
    },
    {
      "cell_type": "code",
      "execution_count": 386,
      "metadata": {
        "tags": []
      },
      "outputs": [],
      "source": [
        "x"
      ],
      "id": "1a7b930b-6fa3-45f4-92d3-ac5bd711bb24"
    },
    {
      "cell_type": "markdown",
      "metadata": {},
      "source": [
        "(경우2)"
      ],
      "id": "585793fa-899d-4532-b1ef-22272e68a28e"
    },
    {
      "cell_type": "code",
      "execution_count": 203,
      "metadata": {},
      "outputs": [],
      "source": [
        "x=777\n",
        "lst = [x for x in 'jbnu'] \n",
        "lst "
      ],
      "id": "7fe423a9-3606-49e6-8d3e-b9c582b92a19"
    },
    {
      "cell_type": "code",
      "execution_count": 204,
      "metadata": {},
      "outputs": [],
      "source": [
        "x"
      ],
      "id": "8ebcfc97-591f-4e67-ac95-147f6d08a6f6"
    },
    {
      "cell_type": "markdown",
      "metadata": {},
      "source": [
        "> 진짜 미묘하게 다르죠?\n",
        "\n",
        "## M. 연습문제들\n",
        "\n",
        "`# 문제`. 길이가 0인 리스트를 만들어라. (비어있는 리스트를 만들어라)\n",
        "\n",
        "(풀이1)"
      ],
      "id": "56b71aeb-68b2-4e00-a898-cbcfcec384c5"
    },
    {
      "cell_type": "code",
      "execution_count": 393,
      "metadata": {
        "tags": []
      },
      "outputs": [],
      "source": [
        "a = list()\n",
        "a"
      ],
      "id": "fc606a99-ec01-43e7-aab0-54b2e08af6bb"
    },
    {
      "cell_type": "markdown",
      "metadata": {},
      "source": [
        "(풀이2)"
      ],
      "id": "4279aed4-2efd-43e3-a536-6683d8d6bab4"
    },
    {
      "cell_type": "code",
      "execution_count": 394,
      "metadata": {
        "tags": []
      },
      "outputs": [],
      "source": [
        "a = []\n",
        "a"
      ],
      "id": "b5892a68-7010-422a-82c3-bb341e08269c"
    },
    {
      "cell_type": "markdown",
      "metadata": {},
      "source": [
        "`# 문제`. 다음의 실행값 중 가장 큰 숫자가 나오는 보기를 골라라. (에러가\n",
        "나는 코드는 정답에서 제외함)\n",
        "\n",
        "``` python\n",
        "(a) len(3.14) \n",
        "(b) len([3.14]) \n",
        "(c) len('3.14') \n",
        "```\n",
        "\n",
        "(풀이)"
      ],
      "id": "38ca2dff-dbc1-4e2e-b252-713fd0e0a4e4"
    },
    {
      "cell_type": "code",
      "execution_count": 396,
      "metadata": {
        "tags": []
      },
      "outputs": [],
      "source": [
        "len(3.14)"
      ],
      "id": "4365fe1f-1df0-4f0f-b823-85f6db4156a6"
    },
    {
      "cell_type": "code",
      "execution_count": 397,
      "metadata": {
        "tags": []
      },
      "outputs": [],
      "source": [
        "len([3.14])"
      ],
      "id": "c2bdf77b-e1d3-4fde-9712-46d5cce65fc2"
    },
    {
      "cell_type": "code",
      "execution_count": 398,
      "metadata": {
        "tags": []
      },
      "outputs": [],
      "source": [
        "len('3.14')"
      ],
      "id": "0bd6626f-2967-4e0a-ab25-5ea743dec64b"
    },
    {
      "cell_type": "markdown",
      "metadata": {},
      "source": [
        "답은 (c)\n",
        "\n",
        "`# 문제`. 리스트자료형의 `+`와 `*` 연산을 이용하여 아래와 같은 list를\n",
        "생성하라."
      ],
      "id": "5dd7c8e8-1721-41d9-ab62-a0bcbcafdd4f"
    },
    {
      "cell_type": "code",
      "execution_count": 30,
      "metadata": {},
      "outputs": [],
      "source": [
        "[1, 2, 2, 3, 3, 3, 4, 4, 4, 4, 5, 5, 5, 5, 5]"
      ],
      "id": "f0cdb755-c741-4885-a379-ee1e724f995a"
    },
    {
      "cell_type": "markdown",
      "metadata": {},
      "source": [
        "**hint:** 아래의 코드를 관찰해보세요"
      ],
      "id": "fc8d1b88-03c1-44a5-a7e9-6d81c763f118"
    },
    {
      "cell_type": "code",
      "execution_count": 10,
      "metadata": {},
      "outputs": [],
      "source": [
        "[1]*1+[2]*2 "
      ],
      "id": "47fa56f9-a3bc-4829-ac55-d8d7bd061199"
    },
    {
      "cell_type": "markdown",
      "metadata": {},
      "source": [
        "(풀이)"
      ],
      "id": "6f81a681-d5bc-4590-98cc-3cb7dfdbd887"
    },
    {
      "cell_type": "code",
      "execution_count": 403,
      "metadata": {
        "tags": []
      },
      "outputs": [],
      "source": [
        "lst = []\n",
        "for i in range(1,6):\n",
        "    lst = lst + [i]*i\n",
        "lst"
      ],
      "id": "c2a9d429-40ba-4c17-a45a-9a0abd638381"
    },
    {
      "cell_type": "markdown",
      "metadata": {},
      "source": [
        "`# 문제`. 다음과 같은 리스트를 고려하자."
      ],
      "id": "ddcda2ac-2c6f-4043-9afd-8f3c200e0652"
    },
    {
      "cell_type": "code",
      "execution_count": 405,
      "metadata": {
        "tags": []
      },
      "outputs": [],
      "source": [
        "x = [80,60,80,90,55,85,95,100,35,70,75,65,95]\n",
        "x"
      ],
      "id": "e105194a-0dab-4c07-ade0-891287bf3b48"
    },
    {
      "cell_type": "markdown",
      "metadata": {},
      "source": [
        "이를 수식으로 표현하면 아래와 같다.\n",
        "\n",
        "${\\bf x} = [x_1,\\dots,x_{13}]=[80,60,80,90,55,85,95,100,35,70,75,65,95]$\n",
        "\n",
        "리스트의 원소중 “$x_i>80$” 의 조건을 만족하는 원소는 모두 몇개인가?\n",
        "\n",
        "(풀이)"
      ],
      "id": "40fda557-0a7f-46bc-b1d9-73a1f73c7a31"
    },
    {
      "cell_type": "code",
      "execution_count": 408,
      "metadata": {
        "tags": []
      },
      "outputs": [],
      "source": [
        "sum(np.array(x)>80)"
      ],
      "id": "49863224-4135-4390-b1d2-08ba211adf57"
    },
    {
      "cell_type": "code",
      "execution_count": 412,
      "metadata": {
        "tags": []
      },
      "outputs": [],
      "source": [
        "sum([xi>80 for xi in x])"
      ],
      "id": "bab63d83-8351-4d70-898e-9e5f4e85b74a"
    },
    {
      "cell_type": "markdown",
      "metadata": {},
      "source": [
        "`# 문제`. 다음과 같은 리스트를 고려하자."
      ],
      "id": "ba6a1b3a-6628-4129-b963-627943466155"
    },
    {
      "cell_type": "code",
      "execution_count": 72,
      "metadata": {},
      "outputs": [],
      "source": [
        "['A','B','C','D','A','A','B','A','F','C','C','C','A']"
      ],
      "id": "d27b4803-f547-45cb-b19e-53e365a9ad2d"
    },
    {
      "cell_type": "markdown",
      "metadata": {},
      "source": [
        "이 리스트에서 ‘A’ 혹은 ’B’의 숫자는 모두 몇개인가?\n",
        "\n",
        "(풀이1)"
      ],
      "id": "7b26b1d3-564f-443d-a3ad-f5506bcdf878"
    },
    {
      "cell_type": "code",
      "execution_count": 415,
      "metadata": {
        "tags": []
      },
      "outputs": [],
      "source": [
        "lst = ['A','B','C','D','A','A','B','A','F','C','C','C','A']\n",
        "lst.count('A') + lst.count('B')"
      ],
      "id": "da25c0ec-637f-446b-81e7-b99e9e2d9b68"
    },
    {
      "cell_type": "markdown",
      "metadata": {},
      "source": [
        "(풀이2)"
      ],
      "id": "c58c74e4-01ba-4532-afc9-18bb89931b1c"
    },
    {
      "cell_type": "code",
      "execution_count": 425,
      "metadata": {
        "tags": []
      },
      "outputs": [],
      "source": [
        "sum([l<'C' for l in lst])"
      ],
      "id": "7ca4fafe-199c-4027-b6d3-5433e47d99dc"
    },
    {
      "cell_type": "markdown",
      "metadata": {},
      "source": [
        "`# 문제`. 아래와 같은 문자열이 있다고 하자."
      ],
      "id": "35ccbebb-dd2c-469a-9b79-e57e90681251"
    },
    {
      "cell_type": "code",
      "execution_count": 429,
      "metadata": {
        "tags": []
      },
      "outputs": [],
      "source": [
        "test_arr = 'ssh-rsa AAAAB3NzaC1yc2EAAAABIwAAAQEAklOUpkDHrfHY17SbrmTIpNLTGK9Tjom/BWDSUGPl+nafzlHDTYW7hdI4yZ5ew18JH4JW9jbhUFrviQzM7xlELEVf4h9lFX5QVkbPppSwg0cda3Pbv7kOdJ/MTyBlWXFCR+HAo3FXRitBqxiX1nKhXpHAZsMciLq8V6RjsNAQwdsdMFvSlVK/7XAt3FaoJoAsncM1Q9x5+3V0Ww68/eIFmb1zuUFljQJKprrX88XypNDvjYNby6vw/Pb0rwert/EnmZ+AW4OZPnTPI89ZPmVMLuayrD2cE86Z/il8b+gw3r3+1nKatmIkjn2so1d01QraTlMqVSsbxNrRFi9wrf+M7Q== schacon@mylaptop.local'"
      ],
      "id": "4aa931ff-37f1-4244-8800-3de3bfe76afb"
    },
    {
      "cell_type": "markdown",
      "metadata": {},
      "source": [
        "이 문자열에서 대문자의 수를 count하라. (2022년 파이썬입문 중간고사 1-(5)\n",
        "참고)\n",
        "\n",
        "(풀이)"
      ],
      "id": "d778fd07-9b1a-40eb-a64d-86284ed370fd"
    },
    {
      "cell_type": "code",
      "execution_count": 433,
      "metadata": {
        "tags": []
      },
      "outputs": [],
      "source": [
        "sum([s.isupper() for s in test_arr])"
      ],
      "id": "f76e8935-5413-478d-8784-7e17294120bd"
    },
    {
      "cell_type": "markdown",
      "metadata": {},
      "source": [
        "`# 문제`. 리스트컴프리헨션을 이용하여 아래와 같은 리스트를 생성하라.\n",
        "(2022년 파이썬입문 중간고사 1-(7) 참고)\n",
        "\n",
        "    ['a',\n",
        "     'aa',\n",
        "     'aaa',\n",
        "     'aaaa',\n",
        "     'aaaaa',\n",
        "     'aaaaaa',\n",
        "     'aaaaaaa',\n",
        "     'aaaaaaaa',\n",
        "     'aaaaaaaaa',\n",
        "     'aaaaaaaaaa'] <- a가 10개있음\n",
        "\n",
        "(풀이)"
      ],
      "id": "04cbf16d-48b4-4aba-b90b-388c35555905"
    },
    {
      "cell_type": "code",
      "execution_count": 437,
      "metadata": {
        "tags": []
      },
      "outputs": [],
      "source": [
        "['a'*i for i in range(1,11)]"
      ],
      "id": "49af13fe-a797-4dc4-9130-907a7eb97d99"
    },
    {
      "cell_type": "markdown",
      "metadata": {},
      "source": [
        "`# 문제`. 아래와 같은 리스트를 관찰하라."
      ],
      "id": "86d618f7-1653-4367-a1b7-c4ced9c75ee3"
    },
    {
      "cell_type": "code",
      "execution_count": 438,
      "metadata": {
        "tags": []
      },
      "outputs": [],
      "source": [
        "lst = ['2022/09/21','2022/10/30','2022/12/25','2023/01/01','2023/01/31','2023/03/20']"
      ],
      "id": "55060de8-661d-414b-9a8d-54b082e74c63"
    },
    {
      "cell_type": "markdown",
      "metadata": {},
      "source": [
        "이러한 리스트를 아래와 같은 리스트로 변환하는 코드를 작성하라."
      ],
      "id": "2d88c88d-86f9-4a1a-be73-2fc6ce13929f"
    },
    {
      "cell_type": "code",
      "execution_count": 439,
      "metadata": {
        "tags": []
      },
      "outputs": [],
      "source": [
        "['2022-09-21', '2022-10-30', '2022-12-25', '2023-01-01', '2023-01-31', '2023-03-20']"
      ],
      "id": "509c8177-23a1-4e3c-8975-f4eabc67011d"
    },
    {
      "cell_type": "markdown",
      "metadata": {},
      "source": [
        "**hint: string의 `.replace()`기능과 리스트 컴프리헨션의 응용**\n",
        "\n",
        "(풀이)"
      ],
      "id": "7ad9173e-6ac0-4990-913d-f97677a79463"
    },
    {
      "cell_type": "code",
      "execution_count": 442,
      "metadata": {
        "tags": []
      },
      "outputs": [],
      "source": [
        "[l.replace('/','-') for l in lst]"
      ],
      "id": "31da2ebd-5f30-4a3e-8fc3-a6f14a932b4d"
    },
    {
      "cell_type": "markdown",
      "metadata": {},
      "source": [
        "`# 문제`. 아래와 같은 문자열을 고려하라."
      ],
      "id": "d88d457a-17ef-4327-82d8-138cbc882793"
    },
    {
      "cell_type": "code",
      "execution_count": 165,
      "metadata": {},
      "outputs": [],
      "source": [
        "'2021. 01. 05.'"
      ],
      "id": "cbf4b11d-762e-4a4f-a545-90ddcb0fd05a"
    },
    {
      "cell_type": "markdown",
      "metadata": {},
      "source": [
        "띄어쓰기를 제거하는 코드를 구현하라. 즉 출력결과가 아래와 같도록 만드는\n",
        "코드를 구현하라."
      ],
      "id": "5eb7391b-1067-456a-a1dd-79a7f05da289"
    },
    {
      "cell_type": "code",
      "execution_count": 166,
      "metadata": {},
      "outputs": [],
      "source": [
        "'2021.01.05'"
      ],
      "id": "dd874109-94a7-4f3d-abae-c5ad4364d415"
    },
    {
      "cell_type": "markdown",
      "metadata": {},
      "source": [
        "(풀이)"
      ],
      "id": "41c5dd4e-0ba3-4ad1-a399-6195b8c77f72"
    },
    {
      "cell_type": "code",
      "execution_count": 444,
      "metadata": {
        "tags": []
      },
      "outputs": [],
      "source": [
        "'2021. 01. 05.'.replace(' ','')"
      ],
      "id": "18122241-7304-4658-a8fa-fdf73ed61e87"
    },
    {
      "cell_type": "markdown",
      "metadata": {},
      "source": [
        "`# 문제`. 아래와 같이 하나의 특수문자로 이루어진 리스트를 고려하자."
      ],
      "id": "84423484-a4e7-4ff8-893c-7a65a58e4216"
    },
    {
      "cell_type": "code",
      "execution_count": 445,
      "metadata": {
        "tags": []
      },
      "outputs": [],
      "source": [
        "block = ['■'] "
      ],
      "id": "fa60693a-fc60-42d0-a82e-7eb5873a9874"
    },
    {
      "cell_type": "markdown",
      "metadata": {},
      "source": [
        "이를 이용하여 아래와 같은 결과를 출력하라."
      ],
      "id": "a2b9b73d-a0a2-4e59-85ef-eecac8884da5"
    },
    {
      "cell_type": "code",
      "execution_count": 446,
      "metadata": {
        "tags": []
      },
      "outputs": [],
      "source": [
        "'■-■-■-■-■-■-■-■-■-■' # 여기에서 '■'는 모두 10개 있음"
      ],
      "id": "db7a2ea1-29ce-4847-8665-c2fab6f0e8e7"
    },
    {
      "cell_type": "markdown",
      "metadata": {},
      "source": [
        "(풀이)"
      ],
      "id": "5a4aad9d-4f58-418b-8ae7-7902bddfeda4"
    },
    {
      "cell_type": "code",
      "execution_count": 449,
      "metadata": {
        "tags": []
      },
      "outputs": [],
      "source": [
        "'-'.join(block*10)"
      ],
      "id": "9d7389f4-f090-43f4-b108-6a9cde0b60f2"
    }
  ],
  "nbformat": 4,
  "nbformat_minor": 5,
  "metadata": {
    "kernelspec": {
      "name": "python3",
      "display_name": "Python 3 (ipykernel)",
      "language": "python"
    },
    "language_info": {
      "name": "python",
      "codemirror_mode": {
        "name": "ipython",
        "version": "3"
      },
      "file_extension": ".py",
      "mimetype": "text/x-python",
      "nbconvert_exporter": "python",
      "pygments_lexer": "ipython3",
      "version": "3.11.8"
    }
  }
}