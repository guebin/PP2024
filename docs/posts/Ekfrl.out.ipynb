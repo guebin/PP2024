{
  "cells": [
    {
      "cell_type": "markdown",
      "metadata": {},
      "source": [
        "# 02wk-1: 퀴즈 1\n",
        "\n",
        "최규빈  \n",
        "2024-03-13\n",
        "\n",
        "<a href=\"https://colab.research.google.com/github/guebin/PP2024/blob/main/posts/%08Ekfrl.ipynb\"><img src=\"https://colab.research.google.com/assets/colab-badge.svg\" style=\"text-align: left\"></a>"
      ],
      "id": "091d8176-ef87-4ce6-aff4-9d2cbce5063d"
    },
    {
      "cell_type": "code",
      "execution_count": 7,
      "metadata": {},
      "outputs": [],
      "source": [
        "import numpy as np\n",
        "import matplotlib.pyplot as plt "
      ],
      "id": "a90a9aec-141b-41ee-bb4d-3037b019af2c"
    },
    {
      "cell_type": "markdown",
      "metadata": {},
      "source": [
        "> **Warning**\n",
        ">\n",
        "> -   모든 문항은 부분점수 없음.\n",
        "> -   일부문항은 부분문제를 모두 맞출경우만 정답으로 인정함.\n",
        "> -   `.ipynb` 파일 형태로 제출된 답안지만 채점하며 그 외의 형식\n",
        ">     (`.hwp`등)은 채점하지 않음. 즉 0점 처리함. **제출방법 모르면\n",
        ">     물어볼것!**\n",
        "\n",
        "> **Caution**\n",
        ">\n",
        "> -   전북대 학생들을 시험당일 학생증을 지참할 것. (출석체크 및\n",
        ">     본인확인) 학생증 외에 신분증 여권등도 가능.\n",
        "> -   부정행위 (카카오톡 채팅을 통한 코드공유, 생성형모델 사용, 대리시험\n",
        ">     등) 적발시 F 처리함.\n",
        "> -   퀴즈 중 지각할 경우 지각사실을 기록함. 하지만 별다른 감점은 하지\n",
        ">     않음.\n",
        "\n",
        "# 문제 1. – 10점\n",
        "\n",
        "> 모두 맞출 경우만 정답으로 인정\n",
        "\n",
        "`(1)` 아래와 같이 50개의 숫자를 나열한 배열\n",
        "${\\bf x}=[x_1,x_2,\\dots,x_n]$을 상상하자."
      ],
      "id": "b03448da-22a6-4852-a8f9-4dd0fdde671f"
    },
    {
      "cell_type": "code",
      "execution_count": 117,
      "metadata": {},
      "outputs": [],
      "source": [
        "x = np.array([0, 1, 1, 0, 1, 0, 1, 0, 0, 0, 1, 0, 0, 0, 0, 1, 0, 1, 0, 0, 0, 1,\n",
        "              0, 0, 0, 1, 0, 1, 1, 0, 1, 0, 1, 0, 0, 0, 0, 0, 0, 1, 0, 0, 1, 0,\n",
        "              0, 0, 0, 0, 1, 0])\n",
        "x"
      ],
      "id": "facee20c-d5ad-4f60-822f-34bc06e56d00"
    },
    {
      "cell_type": "markdown",
      "metadata": {},
      "source": [
        "위와 같은 $x_i$에 대하여 $0<p<1$에서의 아래와 같은 함수 $l(p)$를\n",
        "정의하라.\n",
        "\n",
        "$$l(p)=\\sum_{i=1}^nx_i \\log p +\\left(n-\\sum_{i=1}^{n}x_i \\right)\\log(1-p)$$\n",
        "\n",
        "파이썬을 이용하여 아래를 근사계산하라.\n",
        "\n",
        "$$\\lim_{h \\to 0}\\frac{l(0.32+h)-l(0.32)}{h}$$\n",
        "\n",
        "`(2)` $0<p<1$의 범위에서 $l(p)$를 최대로 만드는 $p$의 값을 구하라. 즉\n",
        "$\\underset{p}{\\operatorname{argmax}} l(p)$를 구하라.\n",
        "\n",
        "# 문제 2. – 10점\n",
        "\n",
        "> 모두 맞출 경우만 정답으로 인정\n",
        "\n",
        "길이가 100인 벡터 ${\\bf x} = [x_0, x_1, \\dots, x_{99}]$를 아래와 같이\n",
        "선언하라."
      ],
      "id": "c46095c7-8e20-4a18-8e6f-6472f6ed4b72"
    },
    {
      "cell_type": "code",
      "execution_count": 30,
      "metadata": {
        "tags": []
      },
      "outputs": [],
      "source": [
        "np.random.seed(43052)\n",
        "x = np.random.randn(100)"
      ],
      "id": "65738e32-e590-4838-979b-ca2e601997ff"
    },
    {
      "cell_type": "markdown",
      "metadata": {},
      "source": [
        "`(1)` $x_0$의 값은 얼마인가?\n",
        "\n",
        "`(2)` $x_{99}$의 값은 얼마인가?\n",
        "\n",
        "`(3)` $\\sum_{i=0}^{99} x_i$의 값은 얼마인가?\n",
        "\n",
        "`(4)` $\\sum_{i=22}^{55} x_i$의 값은 얼마인가?\n",
        "\n",
        "# 문제 3. – 10점\n",
        "\n",
        "길이가 100인 벡터 ${\\bf x} = [x_0, x_1, \\dots, x_{99}]$를 아래와 같이\n",
        "선언하라."
      ],
      "id": "fe5d99f9-9db1-4ae3-85e9-4ef370d47d3d"
    },
    {
      "cell_type": "code",
      "execution_count": 12,
      "metadata": {},
      "outputs": [],
      "source": [
        "np.random.seed(43052)\n",
        "x = np.random.randn(100)"
      ],
      "id": "9ae2a15f-bd51-4bd2-9b32-104d6d6c5391"
    },
    {
      "cell_type": "markdown",
      "metadata": {},
      "source": [
        "이 벡터에 대하여\n",
        "\n",
        "-   $a=\\sum_{i=0}^{24}x_i$\n",
        "-   $b=\\sum_{i=25}^{49}x_i$\n",
        "-   $c=\\sum_{i=50}^{74}x_i$\n",
        "-   $d=\\sum_{i=75}^{99}x_i$\n",
        "\n",
        "의 값을 각각 조사하라. a,b,c,d 중 가장 큰 값은 무엇인가?\n",
        "\n",
        "# 문제 4. – 10점\n",
        "\n",
        "> 모두 맞출 경우만 정답으로 인정\n",
        "\n",
        "`(1)` `lambda`를 이용하여 $f(x)=\\sin(x)$에 대응하는 함수를 선언하라.\n",
        "\n",
        "`(2)` `def`를 이용하여 $g(x)=\\cos(2x)$에 대응하는 함수를 선언하라.\n",
        "\n",
        "`(3)` 임의의 벡터 ${\\bf x}=[x_0,\\dots,x_{n-1}]$ 이 왔을때, ${\\bf x}$의\n",
        "최대값을 $x_{max}$ 라고 하고 최소값을 $x_{min}$이라고 하자. 예를들어\n",
        "\n",
        "$${\\bf x} = [1,2,3,0]$$\n",
        "\n",
        "의 경우 $x_{max}=3$ 이고 $x_{min}=0$ 이다. 벡터 ${\\bf x}$를 입력으로\n",
        "하고 출력으로 $x_{max}-x_{min}$의 계산값을 리턴하는 함수를 구현하라."
      ],
      "id": "2ce37b52-e643-41a4-9f28-46661c908032"
    },
    {
      "cell_type": "code",
      "execution_count": 18,
      "metadata": {},
      "outputs": [],
      "source": [
        "# 문제에서 요구하는 함수를 올바르게 정의하였을 경우 사용예시\n",
        "x = [1,2,3,0]\n",
        "f(x)"
      ],
      "id": "266c10cd-b181-41c7-8bb1-8eb582780f29"
    },
    {
      "cell_type": "markdown",
      "metadata": {},
      "source": [
        "# 문제 5. – 10점\n",
        "\n",
        "> 모두 맞출 경우만 정답으로 인정\n",
        "\n",
        "아래의 코드를 실행하여 `x`를 생성하라."
      ],
      "id": "9a04fc27-be3b-43ac-a689-66b08676cd3a"
    },
    {
      "cell_type": "code",
      "execution_count": 3,
      "metadata": {
        "tags": []
      },
      "outputs": [],
      "source": [
        "np.random.seed(43052)\n",
        "x = np.random.rand(4305)"
      ],
      "id": "c0c5d947-0797-4976-ba7c-411871985a98"
    },
    {
      "cell_type": "markdown",
      "metadata": {},
      "source": [
        "`(1)` 생성된 $x_i$ 중 0.65와 가장 가까운 값을 출력하라.\n",
        "\n",
        "`(2)` 생성된 값의 평균을 구하라.\n",
        "\n",
        "**hint** $\\frac{1}{4305}\\sum_{i=1}^{4305}x_i$를 계산하면 된다. 아니면\n",
        "`np.mean()` 함수를 이용해도된다.\n",
        "\n",
        "`(3)` `(2)`에서 계산된 평균값과 가장 가까운 $x_i$값을 출력하라.\n",
        "\n",
        "# 문제 6. – 20점\n",
        "\n",
        "$\\frac{\\pi}{2}\\leq x \\leq \\pi$ 에서 $f(x)=\\sin(\\frac{3}{2}x)$ 와\n",
        "$g(x)=\\cos(2x)\\sin(5x)$ 의 교점의 좌표를 구하라.\n",
        "\n",
        "> 근사값만구해도 정답으로 인정함\n",
        "\n",
        "# 문제 7. – 30점\n",
        "\n",
        "`(1)` 무한급수 $\\sum_{n=1}^{\\infty}(\\frac{1}{2})^n$ 의 수렴 및 발산을\n",
        "파이썬을 이용하여 판정하라. – 10점\n",
        "\n",
        "**힌트**\n",
        "\n",
        "$n=10, 20, 30, ..., 100$ 등에서 $S_n=\\sum_{k=1}^{n}a_k$의 값을\n",
        "조사해보고 수렴성을 판단하라.\n",
        "\n",
        "`(2)` 무한급수 $\\sum_{n=1}^{\\infty}\\frac{1}{n}$ 의 수렴 및 발산을\n",
        "파이썬을 이용하여 판정하라. – 20점\n",
        "\n",
        "**힌트** – `(1)`번과 동일한 테크닉"
      ],
      "id": "35ba59ba-6f65-4b0b-842e-6db93babc0b6"
    }
  ],
  "nbformat": 4,
  "nbformat_minor": 5,
  "metadata": {
    "kernelspec": {
      "name": "python3",
      "display_name": "Python 3 (ipykernel)",
      "language": "python"
    },
    "language_info": {
      "name": "python",
      "codemirror_mode": {
        "name": "ipython",
        "version": "3"
      },
      "file_extension": ".py",
      "mimetype": "text/x-python",
      "nbconvert_exporter": "python",
      "pygments_lexer": "ipython3",
      "version": "3.12.2"
    }
  }
}