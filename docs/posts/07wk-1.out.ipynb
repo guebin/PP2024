{
  "cells": [
    {
      "cell_type": "markdown",
      "metadata": {},
      "source": [
        "# 07wk-1: 퀴즈4\n",
        "\n",
        "최규빈  \n",
        "2024-04-17\n",
        "\n",
        "<a href=\"https://colab.research.google.com/github/guebin/PP2024/blob/main/posts/07wk-1.ipynb\"><img src=\"https://colab.research.google.com/assets/colab-badge.svg\" style=\"text-align: left\"></a>\n",
        "\n",
        "<https://youtu.be/playlist?list=PLQqh36zP38-xz7YnuptdUg-tIHaBhFrqJ&si=prXpB8pP1luQvaz->\n",
        "\n",
        "> **Caution**\n",
        ">\n",
        "> -   전북대 학생들을 시험당일 학생증을 지참할 것. (출석체크 및\n",
        ">     본인확인) 학생증 외에 신분증 여권등도 가능.\n",
        "> -   부정행위 (카카오톡 채팅을 통한 코드공유, 생성형모델 사용, 대리시험\n",
        ">     등) 적발시 F 처리함.\n",
        "> -   퀴즈 중 지각할 경우 지각사실을 기록함. 하지만 별 다른 감점은 하지\n",
        ">     않음.\n",
        "> -   `.ipynb` 파일 형태로 제출된 답안지만 채점하며 그 외의 형식\n",
        ">     (`.hwp`, `.py` 등)은 채점하지 않음. 즉 0점 처리함."
      ],
      "id": "14302b1a-2b97-46e3-8d5b-efa78fa61c4a"
    },
    {
      "cell_type": "code",
      "execution_count": 2,
      "metadata": {
        "tags": []
      },
      "outputs": [],
      "source": [
        "import numpy as np\n",
        "import pandas as pd"
      ],
      "id": "cc1b2d29-161d-4ac7-b820-12fa0bd04a75"
    },
    {
      "cell_type": "markdown",
      "metadata": {},
      "source": [
        "# 1. – 10점\n",
        "\n",
        "아래는 파이썬프로그래밍 수강생들의 학번, 이름, 출석점수, 과제점수,\n",
        "중간고사점수, 기말고사점수를 저장한 중첩리스트이다."
      ],
      "id": "a9eaeed9-f30c-477a-b1c4-86809c096b4e"
    },
    {
      "cell_type": "code",
      "execution_count": 3,
      "metadata": {
        "tags": []
      },
      "outputs": [],
      "source": [
        "lst = [['2021-43052', 'GuebinChoi', 5, 10, 20, 25],\n",
        "       ['2019-12342', 'Heung-min Son', 10, 15, 30, 15],\n",
        "       ['2018-32234', 'hynn', 7, 20, 30, 15],\n",
        "       ['2022-42323', 'Minji', 8, 20, 20, 35],\n",
        "       ['2023-55342', 'Hanni', 7, 20, 30, 35],\n",
        "       ['2022-46624', 'Danielle', 3, 15, 30, 40],\n",
        "       ['2022-11239', 'Haerin', 10, 20, 30, 40],\n",
        "       ['2022-32114', 'Hyein', 10, 20, 20, 35]]\n",
        "lst "
      ],
      "id": "d1b99320-0e07-4cc0-813c-a433b09aaad8"
    },
    {
      "cell_type": "markdown",
      "metadata": {},
      "source": [
        "중간고사와 기말고사의 합이 60점 이상인 학생은 몇명인가? (확장 가능한\n",
        "코드만 정답으로 인정)\n",
        "\n",
        "`(풀이)`"
      ],
      "id": "9c56ba99-34b7-44bf-bae3-b657940235d3"
    },
    {
      "cell_type": "code",
      "execution_count": 9,
      "metadata": {
        "tags": []
      },
      "outputs": [],
      "source": [
        "len([l for l in lst if sum(l[-2:])>=60])"
      ],
      "id": "ac8f8e58-5179-499e-9bfc-000938b5f532"
    },
    {
      "cell_type": "markdown",
      "metadata": {},
      "source": [
        "# 2. – 10점\n",
        "\n",
        "아래의 `list`를 관찰하라."
      ],
      "id": "db78a31f-f44b-452b-8d35-8bcfb0918913"
    },
    {
      "cell_type": "code",
      "execution_count": 10,
      "metadata": {
        "tags": []
      },
      "outputs": [],
      "source": [
        "lst = ['2022/09/21','2022/10/30','2022/12/25','2023/01/01','2023/01/31','2023/03/20']"
      ],
      "id": "bc9949e7-edbd-4120-b765-3622251d1225"
    },
    {
      "cell_type": "markdown",
      "metadata": {},
      "source": [
        "이를 아래와 같은 리스트로 변환하는 코드를 작성하라. (확장 가능한 코드만\n",
        "정답으로 인정)"
      ],
      "id": "b289f474-1dc7-46a6-8e3c-1f636ba4caa4"
    },
    {
      "cell_type": "code",
      "execution_count": 11,
      "metadata": {
        "tags": []
      },
      "outputs": [],
      "source": [
        "['2022.09.21.','2022.10.30.','2022.12.25.','2023.01.01.','2023.01.31.','2023.03.20.']"
      ],
      "id": "5b5434ea-4825-4c8c-a08a-5f88c7a18bad"
    },
    {
      "cell_type": "markdown",
      "metadata": {},
      "source": [
        "`(풀이)`"
      ],
      "id": "2064878e-6215-4b08-8b4f-b170d97c4a8e"
    },
    {
      "cell_type": "code",
      "execution_count": 15,
      "metadata": {
        "tags": []
      },
      "outputs": [],
      "source": [
        "[l.replace('/','.')+'.' for l in lst]"
      ],
      "id": "bba181b9-edac-4de6-a9f7-5e7857fa1b37"
    },
    {
      "cell_type": "markdown",
      "metadata": {},
      "source": [
        "# 3. – 10점\n",
        "\n",
        "아래의 문자열을 관찰하라."
      ],
      "id": "da34d499-151c-4115-a093-60d1405da1ad"
    },
    {
      "cell_type": "code",
      "execution_count": 16,
      "metadata": {
        "tags": []
      },
      "outputs": [],
      "source": [
        "test_arr = 'ssh-rsa AAAAB3NzaC1yc2EAAAABIwAAAQEAklOUpkDHrfHY17SbrmTIpNLTGK9Tjom/BWDSUGPl+nafzlHDTYW7hdI4yZ5ew18JH4JW9jbhUFrviQzM7xlELEVf4h9lFX5QVkbPppSwg0cda3Pbv7kOdJ/MTyBlWXFCR+HAo3FXRitBqxiX1nKhXpHAZsMciLq8V6RjsNAQwdsdMFvSlVK/7XAt3FaoJoAsncM1Q9x5+3V0Ww68/eIFmb1zuUFljQJKprrX88XypNDvjYNby6vw/Pb0rwert/EnmZ+AW4OZPnTPI89ZPmVMLuayrD2cE86Z/il8b+gw3r3+1nKatmIkjn2so1d01QraTlMqVSsbxNrRFi9wrf+M7Q== schacon@mylaptop.local'"
      ],
      "id": "1726890b-44b8-44d1-b7d2-ecbdb6841659"
    },
    {
      "cell_type": "markdown",
      "metadata": {},
      "source": [
        "‘A’ 가 몇개 있는지 count하라\n",
        "\n",
        "`(풀이)`"
      ],
      "id": "f9b2e16f-0e42-46b2-bce6-05f64d666ecf"
    },
    {
      "cell_type": "code",
      "execution_count": 17,
      "metadata": {
        "tags": []
      },
      "outputs": [],
      "source": [
        "list(test_arr).count('A')"
      ],
      "id": "987560d8-f219-4cf8-aa77-94f38e38980e"
    },
    {
      "cell_type": "code",
      "execution_count": 18,
      "metadata": {
        "tags": []
      },
      "outputs": [],
      "source": [
        "test_arr.count('A')"
      ],
      "id": "ac8d4a7d-74ea-4277-8d7e-666f54f7f04e"
    },
    {
      "cell_type": "markdown",
      "metadata": {},
      "source": [
        "# 4. – 10점\n",
        "\n",
        "> 모두 맞출경우만 정답으로 인정\n",
        "\n",
        "`(1)` 아래의 조건을 만족하는 자료형 `a`를 선언하라."
      ],
      "id": "c2c326b8-d3f3-45b4-b73c-5c6e57577e04"
    },
    {
      "cell_type": "code",
      "execution_count": 20,
      "metadata": {
        "tags": []
      },
      "outputs": [],
      "source": [
        "type(a), len(a), a[0]"
      ],
      "id": "b8a89a26-4c25-4d6f-965d-48b90c7fdef9"
    },
    {
      "cell_type": "markdown",
      "metadata": {},
      "source": [
        "`(풀이)`"
      ],
      "id": "6adb35d6-66d0-4b94-aacd-93288812a015"
    },
    {
      "cell_type": "code",
      "execution_count": 21,
      "metadata": {
        "tags": []
      },
      "outputs": [],
      "source": [
        "a= ('a',)"
      ],
      "id": "8a26e6c0-6b63-4f03-8c0b-b782a3bb0d76"
    },
    {
      "cell_type": "code",
      "execution_count": 22,
      "metadata": {
        "tags": []
      },
      "outputs": [],
      "source": [
        "type(a), len(a), a[0]"
      ],
      "id": "d8179793-833b-4573-8585-3e0d791f5b77"
    },
    {
      "cell_type": "markdown",
      "metadata": {},
      "source": [
        "`(2)` 아래와 같은 출력결과를 보이는 numpy array `a`,`b` 를 선언하라."
      ],
      "id": "419129bb-1cca-4daa-8f1f-ff9d26bec322"
    },
    {
      "cell_type": "code",
      "execution_count": 45,
      "metadata": {
        "tags": []
      },
      "outputs": [],
      "source": [
        "a, a.shape"
      ],
      "id": "f5fbcad0-c6a7-4c80-8491-ffb8084e0ae3"
    },
    {
      "cell_type": "code",
      "execution_count": 52,
      "metadata": {
        "tags": []
      },
      "outputs": [],
      "source": [
        "b, b.shape"
      ],
      "id": "1a6a2635-b36f-432a-b91d-0f4b089516a4"
    },
    {
      "cell_type": "markdown",
      "metadata": {},
      "source": [
        "`(풀이)`"
      ],
      "id": "8c989e94-e706-4a85-bf0a-a5542b216e68"
    },
    {
      "cell_type": "code",
      "execution_count": 23,
      "metadata": {
        "tags": []
      },
      "outputs": [],
      "source": [
        "a = np.array(3)\n",
        "b = np.array([3])"
      ],
      "id": "7cd8eeeb-70d4-41df-8500-ea78686ac912"
    },
    {
      "cell_type": "code",
      "execution_count": 24,
      "metadata": {
        "tags": []
      },
      "outputs": [],
      "source": [
        "a, a.shape"
      ],
      "id": "7be913b3-adf0-427d-b436-fe83d3501f0c"
    },
    {
      "cell_type": "code",
      "execution_count": 25,
      "metadata": {
        "tags": []
      },
      "outputs": [],
      "source": [
        "b, b.shape"
      ],
      "id": "68d420a0-0b33-4b3c-b9d6-75a5e66fd02b"
    },
    {
      "cell_type": "markdown",
      "metadata": {},
      "source": [
        "# 5. – 20점\n",
        "\n",
        "> 모두 맞출경우만 정답으로 인정\n",
        "\n",
        "아래와 같은 2차원 numpy array를 선언하라."
      ],
      "id": "b4becc5e-ea02-491c-ac0b-36d2213dbf9a"
    },
    {
      "cell_type": "code",
      "execution_count": 27,
      "metadata": {
        "tags": []
      },
      "outputs": [],
      "source": [
        "np.random.seed(43052)\n",
        "X = np.random.randn(20,5).round(2)\n",
        "X"
      ],
      "id": "93f1e52c-d95c-4509-8ce0-23e24df500ae"
    },
    {
      "cell_type": "markdown",
      "metadata": {},
      "source": [
        "`(1)` 열별로(column-wise) `X`의 평균을 계산하라."
      ],
      "id": "454b9bfd-5435-4001-a2a2-542d856ccf37"
    },
    {
      "cell_type": "code",
      "execution_count": 136,
      "metadata": {},
      "outputs": [],
      "source": [
        "# 답: np.array([-0.042 ,  0.0475, -0.2675, -0.273 ,  0.13  ])"
      ],
      "id": "77fba872-4343-4d57-890e-5c5feb94c43f"
    },
    {
      "cell_type": "markdown",
      "metadata": {},
      "source": [
        "`(풀이)`"
      ],
      "id": "5fe52b23-3458-4d44-8eea-c546cf1c55d8"
    },
    {
      "cell_type": "code",
      "execution_count": 29,
      "metadata": {
        "tags": []
      },
      "outputs": [],
      "source": [
        "X.mean(axis=0)"
      ],
      "id": "0e724e57-fc3d-4c13-9823-1bb6f1372028"
    },
    {
      "cell_type": "markdown",
      "metadata": {},
      "source": [
        "`(2)` 행별로(row-wise) `X`의 최대값과 최소값의 차이를 계산하라."
      ],
      "id": "6f7bc64e-4c2c-454e-a75e-e8672df9b546"
    },
    {
      "cell_type": "code",
      "execution_count": 146,
      "metadata": {
        "tags": []
      },
      "outputs": [],
      "source": [
        "# 답: np.array([0.9 , 2.29, 2.26, 2.81, 3.94, 1.35, 1.58, 2.3 , 1.04, 2.75, 1.19, 3.86, 3.01, 1.02, 2.16, 3.85, 2.64, 2.09, 1.72, 1.5 ])"
      ],
      "id": "50b22362-0c7f-4f26-a326-160f98edc769"
    },
    {
      "cell_type": "markdown",
      "metadata": {},
      "source": [
        "`(풀이)`"
      ],
      "id": "258631a6-e299-490c-a6de-99bc03f40f85"
    },
    {
      "cell_type": "code",
      "execution_count": 32,
      "metadata": {
        "tags": []
      },
      "outputs": [],
      "source": [
        "X.max(axis=1) - X.min(axis=1) "
      ],
      "id": "4e837e37-24fa-44dd-a83e-b197e1f0e74b"
    },
    {
      "cell_type": "markdown",
      "metadata": {},
      "source": [
        "# 6. – 40점\n",
        "\n",
        "> 각 20점\n",
        "\n",
        "아래의 코드를 실행하여 `data`를 생성하라."
      ],
      "id": "ac97156c-399a-40cc-9140-55c828ff0908"
    },
    {
      "cell_type": "code",
      "execution_count": 57,
      "metadata": {
        "tags": []
      },
      "outputs": [],
      "source": [
        "data = pd.read_csv('https://raw.githubusercontent.com/guebin/DV2021/master/_notebooks/2021-10-25-FIFA22_official_data.csv').drop(['Loaned From','Marking'],axis=1).dropna().loc[:,['Name','Nationality','Overall']].to_numpy().tolist()"
      ],
      "id": "dee2200b-ea56-426c-b3d8-a91f13bee9f8"
    },
    {
      "cell_type": "markdown",
      "metadata": {},
      "source": [
        "`data`는 list로 만들어져 있으며 각 원소는 축구선수들의 능력치를\n",
        "나타낸다. `data`의 각 원소는 \\[이름,소속국가,능력치\\]를 의미하며 처음\n",
        "5개의 원소는 아래와 같다."
      ],
      "id": "0c33cb2e-cc3a-4bed-9154-7b4ceff69d22"
    },
    {
      "cell_type": "code",
      "execution_count": 58,
      "metadata": {
        "tags": []
      },
      "outputs": [],
      "source": [
        "data[:5]"
      ],
      "id": "86db125d-fd6b-46cb-ad7f-4302c901c73d"
    },
    {
      "cell_type": "markdown",
      "metadata": {},
      "source": [
        "`(1)` 아래의 dictionary를 이용하여 `data`의 국가이름을 대륙이름으로\n",
        "바꾸라."
      ],
      "id": "0e2ee15a-e3f9-4268-b131-d185bc2bdcbc"
    },
    {
      "cell_type": "code",
      "execution_count": 48,
      "metadata": {
        "tags": []
      },
      "outputs": [],
      "source": [
        "continent_dict = {\n",
        "    'Asia': ['Afghanistan', 'Japan', 'Macau', 'Chinese Taipei', 'Indonesia', 'Korea Republic', 'Kazakhstan', 'Kyrgyzstan', 'Bhutan', 'Philippines', 'Syria', 'China PR', 'Oman', 'Guam', 'Vietnam', 'Jordan', 'Palestine', 'Malaysia', 'Hong Kong', 'Korea DPR', 'Lebanon', 'Uzbekistan', 'India','Iraq', 'Iran', 'Saudi Arabia', 'United Arab Emirates','Australia'],\n",
        "    'Europe': ['Portugal', 'Germany', 'Belgium', 'Netherlands', 'Croatia', 'Spain', 'Austria', 'Italy', 'France', 'Serbia', 'England', 'Poland', 'Ukraine', 'Wales', 'Scotland', 'Czech Republic', 'Slovakia', 'Romania', 'Bosnia and Herzegovina', 'Republic of Ireland', 'Norway', 'Sweden', 'Bulgaria', 'Lithuania', 'Estonia', 'Latvia', 'Liechtenstein','Albania','Denmark','Finland','Greece','Hungary','Iceland','Luxembourg','Northern Ireland','Slovenia','Switzerland','Andorra','Azerbaijan','Belarus','Cyprus','Faroe Islands','Georgia','Kosovo','Malta','Moldova','Montenegro','North Macedonia','Armenia','Gibraltar','Russia','Turkey','Israel'],\n",
        "    'South America': ['Uruguay', 'Argentina', 'Brazil', 'Chile', 'Colombia', 'Ecuador', 'Paraguay', 'Venezuela', 'Suriname', 'Bolivia','Peru','Guyana'],\n",
        "    'Africa': ['Egypt', \"Côte d'Ivoire\", 'Senegal', 'Morocco', 'Ghana', 'Algeria', 'Guinea', 'Mali', 'Congo DR', 'Liberia', 'Cameroon', 'Tunisia', 'Comoros', 'Kenya', 'South Africa', 'Zimbabwe', 'Madagascar', 'Mozambique', 'Equatorial Guinea', 'Congo', 'Burundi', 'Grenada', 'Thailand', 'Togo', 'Sudan', 'Mauritania','Guinea Bissau','Libya','Nigeria','Zambia','Angola','Benin','Burkina Faso','Cape Verde Islands','Central African Republic','Chad','Eritrea','Gabon','Gambia','Mauritius','Namibia','Rwanda','Sierra Leone','South Sudan','São Tomé e Príncipe','Uganda','Niger'],\n",
        "    'North and Central America': ['Antigua and Barbuda', 'Barbados', 'Belize', 'Bermuda', 'Canada', 'Costa Rica', 'Cuba', 'Curacao', 'Dominican Republic', 'El Salvador', 'Guatemala', 'Haiti', 'Honduras', 'Jamaica', 'Mexico', 'Montserrat', 'Panama', 'Puerto Rico', 'Saint Kitts and Nevis', 'Saint Lucia', 'Trinidad and Tobago', 'United States'],\n",
        "    'Oceania': ['New Zealand', 'Fiji', 'Papua New Guinea','New Caledonia'],\n",
        "}"
      ],
      "id": "a04ff251-2a23-4d18-a3b1-aecf99eabe50"
    },
    {
      "cell_type": "markdown",
      "metadata": {},
      "source": [
        "바뀐 `data`의 처음 5개의 출력결과는 아래와 같다.\n",
        "\n",
        "``` python\n",
        "[['Bruno Fernandes', 'Europe', 88],\n",
        " ['L. Goretzka', 'Europe', 87],\n",
        " ['L. Suárez', 'South America', 88],\n",
        " ['K. De Bruyne', 'Europe', 91],\n",
        " ['M. Acuña', 'South America', 84]]\n",
        "```\n",
        "\n",
        "`(풀이)`"
      ],
      "id": "bd843892-2488-40ac-9358-23e595bc3ef0"
    },
    {
      "cell_type": "code",
      "execution_count": 96,
      "metadata": {
        "tags": []
      },
      "outputs": [],
      "source": [
        "data2 = [\n",
        "    [name,continent,overall] \\\n",
        "    for name,nationality,overall in data \\\n",
        "    for continent in continent_dict \\\n",
        "    if nationality in continent_dict[continent]\n",
        "]\n",
        "data2[:5]"
      ],
      "id": "6b740953-26b6-4c3d-bdfa-63b6a0d75c84"
    },
    {
      "cell_type": "markdown",
      "metadata": {},
      "source": [
        "`(2)` 능력치가 80 보다 큰 선수들은 대륙별로 몇명의 선수가 있는가?\n",
        "count하라."
      ],
      "id": "2e693814-3f87-4d42-a9c1-8f0472843236"
    },
    {
      "cell_type": "code",
      "execution_count": 88,
      "metadata": {
        "tags": []
      },
      "outputs": [],
      "source": [
        "# 답\n",
        "# {'South America': 71,\n",
        "#  'Africa': 21,\n",
        "#  'North and Central America': 8,\n",
        "#  'Europe': 272,\n",
        "#  'Asia': 1}"
      ],
      "id": "806b4c87-cd5b-407b-9d58-8be384d65627"
    },
    {
      "cell_type": "markdown",
      "metadata": {},
      "source": [
        "`(풀이)`"
      ],
      "id": "b2baae5a-004f-4218-b985-9dd2f032b958"
    },
    {
      "cell_type": "code",
      "execution_count": 97,
      "metadata": {
        "tags": []
      },
      "outputs": [],
      "source": [
        "lst = [continent for _,continent,overall in data2 if overall>80]"
      ],
      "id": "ee5db080-3525-416f-8a14-ff961dbb7134"
    },
    {
      "cell_type": "code",
      "execution_count": 98,
      "metadata": {},
      "outputs": [],
      "source": [
        "{s:lst.count(s) for s in set(lst)}"
      ],
      "id": "c46a6b15-d5c8-425b-9b76-b55cf984588e"
    }
  ],
  "nbformat": 4,
  "nbformat_minor": 5,
  "metadata": {
    "kernelspec": {
      "name": "python3",
      "display_name": "Python 3 (ipykernel)",
      "language": "python"
    },
    "language_info": {
      "name": "python",
      "codemirror_mode": {
        "name": "ipython",
        "version": "3"
      },
      "file_extension": ".py",
      "mimetype": "text/x-python",
      "nbconvert_exporter": "python",
      "pygments_lexer": "ipython3",
      "version": "3.11.8"
    }
  }
}