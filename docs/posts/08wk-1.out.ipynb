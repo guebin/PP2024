{
  "cells": [
    {
      "cell_type": "markdown",
      "metadata": {},
      "source": [
        "# 08wk-1: 퀴즈5\n",
        "\n",
        "최규빈  \n",
        "2024-04-24\n",
        "\n",
        "<a href=\"https://colab.research.google.com/github/guebin/PP2024/blob/main/posts/08wk-1.ipynb\"><img src=\"https://colab.research.google.com/assets/colab-badge.svg\" style=\"text-align: left\"></a>\n",
        "\n",
        "<https://youtu.be/playlist?list=PLQqh36zP38-zw7A6QZV6mBeTwgC61QoJ3&si=awvs8Rt5YDCJM1VN>\n",
        "\n",
        "> **Caution**\n",
        ">\n",
        "> -   전북대 학생들을 시험당일 학생증을 지참할 것. (출석체크 및\n",
        ">     본인확인) 학생증 외에 신분증 여권등도 가능.\n",
        "> -   부정행위 (카카오톡 채팅을 통한 코드공유, 생성형모델 사용, 대리시험\n",
        ">     등) 적발시 F 처리함.\n",
        "> -   퀴즈 중 지각할 경우 지각사실을 기록함. 하지만 별 다른 감점은 하지\n",
        ">     않음.\n",
        "> -   `.ipynb` 파일 형태로 제출된 답안지만 채점하며 그 외의 형식\n",
        ">     (`.hwp`, `.py` 등)은 채점하지 않음. 즉 0점 처리함.\n",
        "\n",
        "# 1. – 20점\n",
        "\n",
        "앞으로 읽어도 뒤로 읽어도 동일한 단어이면 true 그렇지 않으면 false를\n",
        "리턴하는 함수 `solution`를 구현하라. 아래는 이러한 함수 `solution`를\n",
        "사용한 예시이다."
      ],
      "id": "fbc9594a-f0cd-426a-a22c-936db1ea9da0"
    },
    {
      "cell_type": "code",
      "execution_count": 17,
      "metadata": {
        "tags": []
      },
      "outputs": [],
      "source": [
        "lst1 = ['기러기', '토마토', '스위스', '인도인', '별똥별', '우영우', '파이썬']\n",
        "lst2 = ['level', 'radar', 'noon', 'deified', 'rotor', 'python']"
      ],
      "id": "dcfeea81-ec06-4eb9-9f35-33e0dd96b412"
    },
    {
      "cell_type": "code",
      "execution_count": 11,
      "metadata": {
        "tags": []
      },
      "outputs": [],
      "source": [
        "[solution(l) for l in lst1]"
      ],
      "id": "82aff16e-2558-4a3e-af01-4192bf6dda48"
    },
    {
      "cell_type": "code",
      "execution_count": 12,
      "metadata": {
        "tags": []
      },
      "outputs": [],
      "source": [
        "[solution(l) for l in lst2]"
      ],
      "id": "c544dc6f-9147-408d-a961-88a91cd12978"
    },
    {
      "cell_type": "markdown",
      "metadata": {},
      "source": [
        "(풀이)"
      ],
      "id": "bbb07dfb-a07e-418d-91b2-01d9e9cc3de8"
    },
    {
      "cell_type": "code",
      "execution_count": 16,
      "metadata": {},
      "outputs": [],
      "source": [
        "solution = lambda x: x[::-1] == x"
      ],
      "id": "7bfe40ea-54a2-4629-af85-b0da9ed03ddb"
    },
    {
      "cell_type": "code",
      "execution_count": 18,
      "metadata": {},
      "outputs": [],
      "source": [
        "[solution(l) for l in lst1]"
      ],
      "id": "831c5445"
    },
    {
      "cell_type": "code",
      "execution_count": 19,
      "metadata": {},
      "outputs": [],
      "source": [
        "[solution(l) for l in lst2]"
      ],
      "id": "a0684072"
    },
    {
      "cell_type": "markdown",
      "metadata": {},
      "source": [
        "# 2. – 40점\n",
        "\n",
        "아홉개의 공이있다. 이 가운데 여덟개는 무게가 같고 하나는 남은 하나는 좀\n",
        "더 무겁다. 우리에게는 저울이 하나 있는데 이 저울로는 왼쪽의 공들이\n",
        "무거운지 오른쪽의 공들이 무거운지밖에 알아낼 수 없다. 이 저울을 딱\n",
        "두번만 사용하여 가장 무거운 공을 찾아내는 알고리즘을 `solution` 함수로\n",
        "정리하여 제시하라. 공들의 무게는 길이가 9인 리스트로 온다고 가정한다.\n",
        "출력은 가장 무거운 공이 위치한 index를 리턴하도록 한다.\n",
        "\n",
        "다음은 solution 함수를 실제로 구현하여 사용한 예시이다."
      ],
      "id": "8d545ad9-a5b5-4f18-9ad6-f5920fa9565b"
    },
    {
      "cell_type": "code",
      "execution_count": 21,
      "metadata": {
        "tags": []
      },
      "outputs": [],
      "source": [
        "solution([2,1,1,1,1,1,1,1,1])"
      ],
      "id": "06970faa-7c1d-4f80-b579-bca20237b80d"
    },
    {
      "cell_type": "code",
      "execution_count": 22,
      "metadata": {
        "tags": []
      },
      "outputs": [],
      "source": [
        "solution([2,2,5,2,2,2,2,2,2])"
      ],
      "id": "81fb2e9a-fade-490a-b161-d69150b192df"
    },
    {
      "cell_type": "markdown",
      "metadata": {},
      "source": [
        "(풀이)\n",
        "\n",
        "> hint: 공을 세 개씩 세 그룹으로 나누세요"
      ],
      "id": "cf6b1b95-9293-4f58-be94-b1d8d46701c1"
    },
    {
      "cell_type": "code",
      "execution_count": 22,
      "metadata": {},
      "outputs": [],
      "source": [
        "def solution(lst):\n",
        "    l1,l2,l3 = lst[:3],lst[3:6],lst[6:]\n",
        "    argmax = 0 \n",
        "    if sum(l1)>sum(l2): # 0,1,2 중 가장 무거운 공이 있음 \n",
        "        if l1[0] > l1[1]:\n",
        "            argmax = 0\n",
        "        elif l1[0] < l1[1]:\n",
        "            argmax = 1 \n",
        "        else: \n",
        "            argmax = 2 \n",
        "    elif sum(l1)<sum(l2): # 3,4,5 중 가장 무거운 공이 있음 \n",
        "        if l2[0] > l2[1]:\n",
        "            argmax = 0+3\n",
        "        elif l2[0] < l2[1]:\n",
        "            argmax = 1+3 \n",
        "        else: \n",
        "            argmax = 2+3 \n",
        "    else: # 6,7,8 중 가장 무거운 공이 있음 \n",
        "        if l3[0] > l3[1]:\n",
        "            argmax = 0+6\n",
        "        elif l3[0] < l3[1]:\n",
        "            argmax = 1+6 \n",
        "        else: \n",
        "            argmax = 2+6\n",
        "    return argmax "
      ],
      "id": "fdb4e98e-4bbf-4160-a27b-cb07417e62a1"
    },
    {
      "cell_type": "code",
      "execution_count": 23,
      "metadata": {},
      "outputs": [],
      "source": [
        "solution([2,1,1,1,1,1,1,1,1])"
      ],
      "id": "8b382583-737c-49a6-9a68-3f22e100a93f"
    },
    {
      "cell_type": "code",
      "execution_count": 24,
      "metadata": {},
      "outputs": [],
      "source": [
        "solution([2,2,5,2,2,2,2,2,2])"
      ],
      "id": "64b79d3e"
    },
    {
      "cell_type": "markdown",
      "metadata": {},
      "source": [
        "# 5. – 40점\n",
        "\n",
        "> 카카오 채용연계형 인턴쉽 기출문제\n",
        "\n",
        "네오와 프로도가 숫자놀이를 하고 있습니다. 네오가 프로도에게 숫자를 건넬\n",
        "때 일부 자릿수를 영단어로 바꾼 카드를 건네주면 프로도는 원래 숫자를 찾는\n",
        "게임입니다. 다음은 숫자의 일부 자릿수를 영단어로 바꾸는 예시입니다.\n",
        "\n",
        "    1478 --> \"one4seveneight\"\n",
        "    234567 --> \"23four5six7\"\n",
        "    10203 --> \"1zerotwozero3\"\n",
        "\n",
        "이렇게 숫자의 일부 자릿수가 영단어로 바뀌어졌거나, 혹은 바뀌지 않고\n",
        "그대로인 문자열 s가 매개변수로 주어집니다. s가 의미하는 원래 숫자를\n",
        "return 하도록 `solution` 함수를 완성해주세요.\n",
        "\n",
        "참고로 각 숫자에 대응되는 영단어는 다음 표와 같습니다.\n",
        "\n",
        "| 숫자 | 영단어 |\n",
        "|:----:|:------:|\n",
        "|  0   |  zero  |\n",
        "|  1   |  one   |\n",
        "|  2   |  two   |\n",
        "|  3   | three  |\n",
        "|  4   |  four  |\n",
        "|  5   |  five  |\n",
        "|  6   |  six   |\n",
        "|  7   | seven  |\n",
        "|  8   | eight  |\n",
        "|  9   |  nine  |\n",
        "\n",
        "`-` 제한사항\n",
        "\n",
        "-   1 ≤ s의 길이 ≤ 50\n",
        "-   s가 “zero” 또는 “0”으로 시작하는 경우는 주어지지 않습니다.\n",
        "-   return 값이 1 이상 2,000,000,000 이하의 정수가 되는 올바른 입력만\n",
        "    s로 주어집니다.\n",
        "\n",
        "`-` 입출력 예\n",
        "\n",
        "|         s          | result |\n",
        "|:------------------:|:------:|\n",
        "|  “one4seveneight”  |  1478  |\n",
        "|   “23four5six7”    | 234567 |\n",
        "| “2three45sixseven” | 234567 |\n",
        "|       “123”        |  123   |\n",
        "\n",
        "`-` 입출력 예 설명\n",
        "\n",
        "-   입출력 예 #1 – 문제 예시와 같습니다.\n",
        "-   입출력 예 #2 – 문제 예시와 같습니다.\n",
        "-   입출력 예 #3 – “three”는 3, “six”는 6, “seven”은 7에 대응되기 때문에\n",
        "    정답은 입출력 예 #2와 같은 234567이 됩니다. 입출력 예 #2와 #3과 같이\n",
        "    같은 정답을 가리키는 문자열이 여러 가지가 나올 수 있습니다.\n",
        "-   입출력 예 #4 – s에는 영단어로 바뀐 부분이 없습니다.\n",
        "\n",
        "(풀이)\n",
        "\n",
        "***hint*** – 아래의 `dictionary`를 이용하세요"
      ],
      "id": "9301c1b2-c614-43fc-a02b-c31d995b2544"
    },
    {
      "cell_type": "code",
      "execution_count": 37,
      "metadata": {},
      "outputs": [],
      "source": [
        "def solution(s):\n",
        "    dct = {\n",
        "        'zero': '0',\n",
        "        'one': '1',\n",
        "        'two': '2',\n",
        "        'three': '3',\n",
        "        'four': '4',\n",
        "        'five': '5',\n",
        "        'six': '6',\n",
        "        'seven': '7',\n",
        "        'eight': '8',\n",
        "        'nine': '9'\n",
        "    }\n",
        "    for k,v in dct.items():\n",
        "        s = s.replace(k,v)    \n",
        "    return s "
      ],
      "id": "cc691db1"
    },
    {
      "cell_type": "code",
      "execution_count": 38,
      "metadata": {},
      "outputs": [],
      "source": [
        "solution(\"one4seveneight\")"
      ],
      "id": "0a30aa84"
    },
    {
      "cell_type": "code",
      "execution_count": 39,
      "metadata": {},
      "outputs": [],
      "source": [
        "solution(\"23four5six7\")"
      ],
      "id": "8715253d"
    },
    {
      "cell_type": "code",
      "execution_count": 40,
      "metadata": {},
      "outputs": [],
      "source": [
        "solution(\"2three45sixseven\")"
      ],
      "id": "f93fc829"
    },
    {
      "cell_type": "code",
      "execution_count": 41,
      "metadata": {},
      "outputs": [],
      "source": [
        "solution(\"123\")"
      ],
      "id": "0ff4030d"
    }
  ],
  "nbformat": 4,
  "nbformat_minor": 5,
  "metadata": {
    "kernelspec": {
      "name": "python3",
      "display_name": "Python 3 (ipykernel)",
      "language": "python"
    },
    "language_info": {
      "name": "python",
      "codemirror_mode": {
        "name": "ipython",
        "version": "3"
      },
      "file_extension": ".py",
      "mimetype": "text/x-python",
      "nbconvert_exporter": "python",
      "pygments_lexer": "ipython3",
      "version": "3.11.8"
    }
  }
}