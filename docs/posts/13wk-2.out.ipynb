{
  "cells": [
    {
      "cell_type": "markdown",
      "metadata": {},
      "source": [
        "# 13wk-2: 클래스 (3)\n",
        "\n",
        "최규빈  \n",
        "2024-05-31\n",
        "\n",
        "# 1. 강의영상"
      ],
      "id": "5c06efbb-5566-4894-9789-86ffa9cfa165"
    },
    {
      "cell_type": "code",
      "execution_count": 1,
      "metadata": {
        "tags": []
      },
      "outputs": [],
      "source": [
        "#{{<video https://youtu.be/playlist?list=PLQqh36zP38-wMY2MS-ZGKFXqVgbTeAzNQ&si=iojT6Aif9fwoOyUN >}}"
      ],
      "id": "674f88ef-2f36-45f6-9031-c590869dc955"
    },
    {
      "cell_type": "markdown",
      "metadata": {},
      "source": [
        "# 2. Imports"
      ],
      "id": "6f9286c5-676b-44f3-9702-07d3ed20a44b"
    },
    {
      "cell_type": "code",
      "execution_count": 540,
      "metadata": {
        "tags": []
      },
      "outputs": [],
      "source": [
        "import numpy as np\n",
        "import matplotlib.pyplot as plt\n",
        "import pandas as pd"
      ],
      "id": "24fc2d12-d10c-4bcf-8ad1-ea13dae74312"
    },
    {
      "cell_type": "markdown",
      "metadata": {},
      "source": [
        "# 3. 오브젝트\n",
        "\n",
        "> “파이썬의 모든 것은 오브젝트이다. 값도, 함수도, 인스턴스도, 클래스도\n",
        "> 오브젝트이다.” \\<– 살짝 과장이지만 일단 명언처럼 외우세여\n",
        "\n",
        "## A. 오브젝트\n",
        "\n",
        "> 오브젝트 특징: `id(오브젝트)` 가 동작함"
      ],
      "id": "86202855-d536-43b1-90e6-e1143f5d03b6"
    },
    {
      "cell_type": "code",
      "execution_count": 596,
      "metadata": {
        "tags": []
      },
      "outputs": [],
      "source": [
        "a = 1 \n",
        "id(a)"
      ],
      "id": "71d5d2b1-c600-4495-a53a-0a0ea6e7b031"
    },
    {
      "cell_type": "code",
      "execution_count": 597,
      "metadata": {
        "tags": []
      },
      "outputs": [],
      "source": [
        "f = lambda x: x\n",
        "id(f)"
      ],
      "id": "d9f54534-ebf4-47d4-ad08-9288a01a58d3"
    },
    {
      "cell_type": "code",
      "execution_count": 599,
      "metadata": {
        "tags": []
      },
      "outputs": [],
      "source": [
        "a = RPS(['가위'])\n",
        "id(a)"
      ],
      "id": "bafeefaf-19bf-4b6e-aeea-ddc0a77c19ae"
    },
    {
      "cell_type": "code",
      "execution_count": 600,
      "metadata": {
        "tags": []
      },
      "outputs": [],
      "source": [
        "id(RPS)"
      ],
      "id": "2f79dd88-3300-4343-b55e-a6670c9e8d38"
    },
    {
      "cell_type": "code",
      "execution_count": 601,
      "metadata": {
        "tags": []
      },
      "outputs": [],
      "source": [
        "id(list)"
      ],
      "id": "27259307-3464-4098-bb2e-0b27b36975a0"
    },
    {
      "cell_type": "code",
      "execution_count": 604,
      "metadata": {
        "tags": []
      },
      "outputs": [],
      "source": [
        "id(range)"
      ],
      "id": "2f5bc44e-54ff-4505-a529-89bb1dede09e"
    },
    {
      "cell_type": "code",
      "execution_count": 605,
      "metadata": {
        "tags": []
      },
      "outputs": [],
      "source": [
        "id(len)"
      ],
      "id": "84bba4d3-c18d-40a9-8328-5016e596b216"
    },
    {
      "cell_type": "code",
      "execution_count": 607,
      "metadata": {
        "tags": []
      },
      "outputs": [],
      "source": [
        "id(id)"
      ],
      "id": "9a527bdb-8e1c-4e82-8e5d-9a147f8ce89e"
    },
    {
      "cell_type": "markdown",
      "metadata": {},
      "source": [
        "`-` 모듈"
      ],
      "id": "acede97d-43aa-4dbf-a2de-f5f244a9df7b"
    },
    {
      "cell_type": "code",
      "execution_count": 618,
      "metadata": {
        "tags": []
      },
      "outputs": [],
      "source": [
        "id(np)"
      ],
      "id": "09998934-b970-46d5-8166-1ff97aab16c8"
    },
    {
      "cell_type": "code",
      "execution_count": 621,
      "metadata": {
        "tags": []
      },
      "outputs": [],
      "source": [
        "id(pd)"
      ],
      "id": "4ed71084-e712-4ee7-95bf-f8c5c32f1e59"
    },
    {
      "cell_type": "markdown",
      "metadata": {},
      "source": [
        "## B. 오브젝트가 아님\n",
        "\n",
        "`-` 구문"
      ],
      "id": "dcd110b0-12ac-4d7f-a1af-d4b9654e46e5"
    },
    {
      "cell_type": "code",
      "execution_count": 630,
      "metadata": {
        "tags": []
      },
      "outputs": [],
      "source": [
        "id(lambda)"
      ],
      "id": "8e00a512-394f-4f07-9aa7-66c69ef6e05c"
    },
    {
      "cell_type": "code",
      "execution_count": 631,
      "metadata": {
        "tags": []
      },
      "outputs": [],
      "source": [
        "id(def)"
      ],
      "id": "be8b3eba-34f8-48f6-a139-3fe03263327f"
    },
    {
      "cell_type": "markdown",
      "metadata": {},
      "source": [
        "`-` 제어구조"
      ],
      "id": "68b9f2c4-9630-4ca2-b2d8-c67c68b04d69"
    },
    {
      "cell_type": "code",
      "execution_count": 623,
      "metadata": {
        "tags": []
      },
      "outputs": [],
      "source": [
        "id(for)"
      ],
      "id": "cb58cd10-c58b-4da7-b853-8c60fa041a1f"
    },
    {
      "cell_type": "code",
      "execution_count": 624,
      "metadata": {
        "tags": []
      },
      "outputs": [],
      "source": [
        "id(if)"
      ],
      "id": "2b1740d7-d3d6-4c0b-b21e-c480d46859ba"
    },
    {
      "cell_type": "code",
      "execution_count": 632,
      "metadata": {
        "tags": []
      },
      "outputs": [],
      "source": [
        "id(while)"
      ],
      "id": "9e3361aa-5a76-4033-a21d-f6ff540b27de"
    },
    {
      "cell_type": "markdown",
      "metadata": {},
      "source": [
        "# 4. `__call__` $(\\star\\star\\star)$\n",
        "\n",
        "## A. 함수도 인스턴스다\n",
        "\n",
        "`-` 다시 함수를 공부해봅시다."
      ],
      "id": "d9591ec4-9520-49f5-b70b-cf36eea64483"
    },
    {
      "cell_type": "code",
      "execution_count": 489,
      "metadata": {
        "tags": []
      },
      "outputs": [],
      "source": [
        "def f(x):\n",
        "    return x+1"
      ],
      "id": "3f64b0c1-c0c9-4de2-960d-027c485fbb96"
    },
    {
      "cell_type": "code",
      "execution_count": 490,
      "metadata": {
        "outputId": "bb5571fa-199d-4a92-8c63-243ac84cd9f4",
        "tags": []
      },
      "outputs": [],
      "source": [
        "f(3)"
      ],
      "id": "cf6da91e-bd1c-4560-9a54-ad3e7b0f2d59"
    },
    {
      "cell_type": "markdown",
      "metadata": {},
      "source": [
        "`-` 함수의 사용방법?\n",
        "\n",
        "-   입력으로 변수 x를 받음 = 입력으로 인스턴스 x를 받음.\n",
        "-   출력으로 변수 x+1을 리턴 = 출력으로 인스턴스 x+1을 리턴.\n",
        "\n",
        "`-` 사실1: 파이썬에서 함수는 인스턴스를 입력으로 받고 인스턴스를\n",
        "출력한다.\n",
        "\n",
        "`-` 함수의 자료형?"
      ],
      "id": "232bfdd3-5547-442d-b68b-5310622d2fc2"
    },
    {
      "cell_type": "code",
      "execution_count": 491,
      "metadata": {
        "outputId": "66ec6f01-705f-4938-d6fa-0aa1481852af",
        "tags": []
      },
      "outputs": [],
      "source": [
        "?f"
      ],
      "id": "c4d65dd9-ebe6-470b-861a-89ed38f747d5"
    },
    {
      "cell_type": "markdown",
      "metadata": {},
      "source": [
        "-   type이 function이다.\n",
        "-   f는 function class의 instance이다.\n",
        "-   결국 f 역시 하나의 오브젝트에 불과하다.\n",
        "\n",
        "`-` 사실2: 함수도 결국 인스턴스이다. -\\> 함수의 입력으로 함수를 쓸 수도\n",
        "있고 함수의 출력으로 함수가 나올 수도 있다.\n",
        "\n",
        "## B. 함수사용 고급\n",
        "\n",
        "(예제1) 숫자입력, 함수출력"
      ],
      "id": "6ad5c060-1bb5-4c33-9872-9c677ad54fe0"
    },
    {
      "cell_type": "code",
      "execution_count": 492,
      "metadata": {
        "tags": []
      },
      "outputs": [],
      "source": [
        "def f(a):\n",
        "    def _f(x):\n",
        "        return (x-a)**2\n",
        "    return _f"
      ],
      "id": "6d6c9794-5bd1-4af3-9f13-6fbcfd25988c"
    },
    {
      "cell_type": "code",
      "execution_count": 493,
      "metadata": {
        "tags": []
      },
      "outputs": [],
      "source": [
        "g=f(10) # g(x)=(x-10)**2"
      ],
      "id": "95503ff3-aa03-41d7-8381-30fafe5f5791"
    },
    {
      "cell_type": "code",
      "execution_count": 494,
      "metadata": {
        "outputId": "46ed08be-f84b-4a71-866f-3df145404aba",
        "tags": []
      },
      "outputs": [],
      "source": [
        "g(2) # (2-10)**2 = 64"
      ],
      "id": "0dfa3ec2-ada7-4a10-b20a-ac3860ef8d6e"
    },
    {
      "cell_type": "markdown",
      "metadata": {},
      "source": [
        "-   해석: $f(a)$는 $a$를 입력으로 받고 $g(x)=(x-a)^2$라는 함수를\n",
        "    리턴해주는 함수\n",
        "\n",
        "> 아니 무슨 함수를 “값처럼” 취급해서 리턴하네??\n",
        "\n",
        "(예제1)의 다른표현: 익명함수 lambda"
      ],
      "id": "a739d49a-822e-475a-b1fe-84a0c124bfe9"
    },
    {
      "cell_type": "code",
      "execution_count": 517,
      "metadata": {
        "tags": []
      },
      "outputs": [],
      "source": [
        "def f(x):\n",
        "    return x+1"
      ],
      "id": "2fe8c45f-ef37-4fc1-88d1-c43066a9fb39"
    },
    {
      "cell_type": "code",
      "execution_count": 518,
      "metadata": {
        "tags": []
      },
      "outputs": [],
      "source": [
        "f= lambda x: x+1"
      ],
      "id": "a49e856c-f121-4b73-ba8b-e501f0f1ca7e"
    },
    {
      "cell_type": "markdown",
      "metadata": {},
      "source": [
        "표현1"
      ],
      "id": "6aad2e4e-1be9-4bdd-a5f3-16e05f1e9268"
    },
    {
      "cell_type": "code",
      "execution_count": 519,
      "metadata": {
        "tags": []
      },
      "outputs": [],
      "source": [
        "def f(a):\n",
        "    _f = lambda x: (x-a)**2 ### lambda x: (x-a)**2 가 실행되는 순간 함수오브젝트가 만들어지고 그것이 _f 로 저장됨\n",
        "    return _f"
      ],
      "id": "f22181c3-3fe3-419a-98d2-357667e2c1e4"
    },
    {
      "cell_type": "code",
      "execution_count": 520,
      "metadata": {
        "tags": []
      },
      "outputs": [],
      "source": [
        "g=f(10) # g(x)=(x-10)**2"
      ],
      "id": "f8327fcb-e11f-415e-9f33-c7267c954afe"
    },
    {
      "cell_type": "code",
      "execution_count": 521,
      "metadata": {
        "outputId": "edfa99ae-4d3e-4ae0-cc7b-ba1090ca75b8",
        "tags": []
      },
      "outputs": [],
      "source": [
        "g(3) # (3-10)**2 = 49"
      ],
      "id": "a14193b9-b7c8-47d7-8bec-735395b68b96"
    },
    {
      "cell_type": "markdown",
      "metadata": {},
      "source": [
        "표현2"
      ],
      "id": "b51bfecc-13ed-46c2-af43-cbb71c59868a"
    },
    {
      "cell_type": "code",
      "execution_count": 522,
      "metadata": {
        "tags": []
      },
      "outputs": [],
      "source": [
        "def f(a):\n",
        "    return lambda x: (x-a)**2"
      ],
      "id": "c686a528-2344-4777-b6b9-527e7c33cfe8"
    },
    {
      "cell_type": "code",
      "execution_count": 523,
      "metadata": {
        "tags": []
      },
      "outputs": [],
      "source": [
        "g=f(10) # g(x)=(x-10)**2"
      ],
      "id": "45b26695-1f0e-4c8c-98ba-4e7995038dab"
    },
    {
      "cell_type": "code",
      "execution_count": 524,
      "metadata": {
        "outputId": "785363c6-2d62-427a-ceb7-8389e7d88ba9",
        "tags": []
      },
      "outputs": [],
      "source": [
        "g(3) # (3-10)**2 = 49"
      ],
      "id": "218514bd-c6f9-49d1-a89c-5774e19c55bd"
    },
    {
      "cell_type": "markdown",
      "metadata": {},
      "source": [
        "(예제2) 함수입력, 숫자출력"
      ],
      "id": "07a1b918-2d34-4b9e-acd7-58f9af6cfe12"
    },
    {
      "cell_type": "code",
      "execution_count": 531,
      "metadata": {
        "tags": []
      },
      "outputs": [],
      "source": [
        "f = lambda x: x**2"
      ],
      "id": "ac1b983f-f9c6-4656-9e69-7069b10ac677"
    },
    {
      "cell_type": "code",
      "execution_count": 532,
      "metadata": {
        "tags": []
      },
      "outputs": [],
      "source": [
        "def d(f,x): # 함수를 입력을 받는 함수를 정의\n",
        "    h=0.000000000001\n",
        "    return (f(x+h)-f(x))/h"
      ],
      "id": "2d33321f-5ea5-494c-8fd9-c009c3bcd23b"
    },
    {
      "cell_type": "code",
      "execution_count": 533,
      "metadata": {
        "outputId": "7577b3ab-5ac3-498a-ac04-17d3ba61a994",
        "tags": []
      },
      "outputs": [],
      "source": [
        "d(f,4) # f'(4) = 2*4 = 8"
      ],
      "id": "ce02f9ab-ac65-40fe-b43d-819630ba613e"
    },
    {
      "cell_type": "markdown",
      "metadata": {},
      "source": [
        "(예제3) 함수입력, 함수출력"
      ],
      "id": "07c849c5-393d-4898-9b65-0cfbf139815d"
    },
    {
      "cell_type": "code",
      "execution_count": 546,
      "metadata": {
        "tags": []
      },
      "outputs": [],
      "source": [
        "def f(x):\n",
        "    return x**2"
      ],
      "id": "add8f381-1200-4d60-86b1-641466e47e03"
    },
    {
      "cell_type": "code",
      "execution_count": 547,
      "metadata": {
        "tags": []
      },
      "outputs": [],
      "source": [
        "def derivate(f):\n",
        "    # step1: 함수오브젝트 f는 입력으로 받은상태\n",
        "    # step2: 함수오브젝트 f를 이용하여 df라는 함수를 정의\n",
        "    def df(x):\n",
        "        h=0.000000000001\n",
        "        return (f(x+h)-f(x))/h\n",
        "    # step3: 정의된 df를 리턴\n",
        "    return df"
      ],
      "id": "b318f978-7c76-4500-bd36-afdd425469d9"
    },
    {
      "cell_type": "code",
      "execution_count": 548,
      "metadata": {
        "tags": []
      },
      "outputs": [],
      "source": [
        "ff = derivate(f)"
      ],
      "id": "14d271bb-16c9-4353-a3ea-f5f6aa244b5d"
    },
    {
      "cell_type": "code",
      "execution_count": 549,
      "metadata": {
        "outputId": "c0946ac1-61c6-4e32-81e0-79485a00b184",
        "tags": []
      },
      "outputs": [],
      "source": [
        "ff(7) # f의 도함수"
      ],
      "id": "9653ec82-8096-47fe-8d8b-ad6b1e346680"
    },
    {
      "cell_type": "markdown",
      "metadata": {},
      "source": [
        "**원래함수 시각화**"
      ],
      "id": "4f519f01-5724-4b8c-a0c0-0b6d6db2160e"
    },
    {
      "cell_type": "code",
      "execution_count": 550,
      "metadata": {
        "outputId": "edc6f136-efb4-407a-e9fb-ab22e39fec03",
        "tags": []
      },
      "outputs": [
        {
          "output_type": "display_data",
          "metadata": {},
          "data": {
            "image/png": "[encoded data removed]"
          }
        }
      ],
      "source": [
        "x = np.linspace(-1,1,100)\n",
        "plt.plot(x,f(x))"
      ],
      "id": "bebce495-6a93-4fe6-8ef1-cd85892ab508"
    },
    {
      "cell_type": "markdown",
      "metadata": {},
      "source": [
        "**도함수 시각화**"
      ],
      "id": "380f9b93-066b-45ce-8ab2-7a48e05bfd81"
    },
    {
      "cell_type": "code",
      "execution_count": 551,
      "metadata": {
        "outputId": "b037aca1-140b-487e-cfbc-1384caf8568f",
        "tags": []
      },
      "outputs": [
        {
          "output_type": "display_data",
          "metadata": {},
          "data": {
            "image/png": "[encoded data removed]"
          }
        }
      ],
      "source": [
        "x = np.linspace(-1,1,100)\n",
        "plt.plot(x,f(x),label=r'$f(x)=x^2$')\n",
        "plt.plot(x,ff(x),label=r'$ff(x)=2x$')\n",
        "plt.legend()"
      ],
      "id": "ebdf5262-355d-4cb9-84e5-67362f7004f3"
    },
    {
      "cell_type": "markdown",
      "metadata": {},
      "source": [
        "(예제3)의 다른표현"
      ],
      "id": "da62108e-2900-4112-a943-25b4dcae5d5e"
    },
    {
      "cell_type": "code",
      "execution_count": 552,
      "metadata": {
        "tags": []
      },
      "outputs": [],
      "source": [
        "def f(x):\n",
        "    return x**2"
      ],
      "id": "12086c1b-853b-407d-a74d-86e685336f01"
    },
    {
      "cell_type": "code",
      "execution_count": 553,
      "metadata": {
        "tags": []
      },
      "outputs": [],
      "source": [
        "def derivate(f):\n",
        "    h=0.000000000001\n",
        "    return lambda x: (f(x+h)-f(x))/h"
      ],
      "id": "09066376-b1a7-4924-8242-f58e35f13446"
    },
    {
      "cell_type": "code",
      "execution_count": 554,
      "metadata": {
        "tags": []
      },
      "outputs": [],
      "source": [
        "ff = derivate(f)"
      ],
      "id": "37295e4c-4901-4b5c-ab3e-0ba99abba603"
    },
    {
      "cell_type": "code",
      "execution_count": 555,
      "metadata": {
        "outputId": "12260498-689f-4edd-ace8-acef47c5aec2",
        "tags": []
      },
      "outputs": [],
      "source": [
        "ff(10)"
      ],
      "id": "17e09464-778d-4691-bc63-4b3ceb980e65"
    },
    {
      "cell_type": "code",
      "execution_count": 556,
      "metadata": {
        "outputId": "40caf227-20da-4a2b-f50b-6acb0e06cec0",
        "tags": []
      },
      "outputs": [
        {
          "output_type": "display_data",
          "metadata": {},
          "data": {
            "image/png": "[encoded data removed]"
          }
        }
      ],
      "source": [
        "x = np.linspace(-1,1,100)\n",
        "plt.plot(x,f(x),label=r'$f(x)=x^2$')\n",
        "plt.plot(x,ff(x),label=r'$ff(x)=2x$')\n",
        "plt.legend()"
      ],
      "id": "72763ff5-b299-4370-bbb4-0fd73dd23452"
    },
    {
      "cell_type": "markdown",
      "metadata": {},
      "source": [
        "(예제4) 함수들의 리스트"
      ],
      "id": "0b4e51cb-c279-40a4-bec8-beb00f84cf9b"
    },
    {
      "cell_type": "code",
      "execution_count": 557,
      "metadata": {
        "outputId": "de6efcbe-75da-480d-9f0e-c0568c28b89b",
        "tags": []
      },
      "outputs": [],
      "source": [
        "flst = [lambda x: x, lambda x: x**2, lambda x: x**3]\n",
        "flst"
      ],
      "id": "dfe5def6-182a-40d7-a800-740aba04b9e8"
    },
    {
      "cell_type": "code",
      "execution_count": 558,
      "metadata": {
        "outputId": "5c2833ab-74b5-41a4-f1da-ec41570d84ee",
        "tags": []
      },
      "outputs": [
        {
          "output_type": "stream",
          "name": "stdout",
          "text": [
            "2\n",
            "4\n",
            "8"
          ]
        }
      ],
      "source": [
        "for f in flst:\n",
        "    print(f(2))"
      ],
      "id": "22110983-41d9-49eb-92f0-b29107ec32ac"
    },
    {
      "cell_type": "code",
      "execution_count": 559,
      "metadata": {
        "outputId": "d78a5820-f4f7-44e3-c688-35dee352668e",
        "tags": []
      },
      "outputs": [
        {
          "output_type": "display_data",
          "metadata": {},
          "data": {
            "image/png": "[encoded data removed]"
          }
        }
      ],
      "source": [
        "for f in flst:\n",
        "    plt.plot(x,f(x),'--')"
      ],
      "id": "3be4784a-9a26-4844-ab0f-3cd8dfef90a6"
    },
    {
      "cell_type": "markdown",
      "metadata": {},
      "source": [
        "위의코드는 아래와 같음"
      ],
      "id": "8231806f-6fb1-4336-a55d-e97b962904fe"
    },
    {
      "cell_type": "code",
      "execution_count": 560,
      "metadata": {
        "outputId": "b96cd42b-c4a0-401b-e854-b57d53376bf5",
        "tags": []
      },
      "outputs": [
        {
          "output_type": "display_data",
          "metadata": {},
          "data": {
            "image/png": "[encoded data removed]"
          }
        }
      ],
      "source": [
        "plt.plot(x,(lambda x: x)(x),'--')\n",
        "plt.plot(x,(lambda x: x**2)(x),'--')\n",
        "plt.plot(x,(lambda x: x**3)(x),'--')"
      ],
      "id": "aa7ca8cb-abde-4e09-8f8c-6183a2270917"
    },
    {
      "cell_type": "markdown",
      "metadata": {},
      "source": [
        "## C. 정리\n",
        "\n",
        "`-` 지금까지 개념\n",
        "\n",
        "-   함수: 변수를 입력으로 받아서 변수를 출력하는 개념\n",
        "-   변수: 어떠한 값을 저장하는 용도로 쓰거나 함수의 입력 혹은 출력으로\n",
        "    사용함\n",
        "\n",
        "`-` R과 구별되는 파이썬의 독특한 테크닉 (부제: 파이썬에서 함수를 잘\n",
        "쓰려면?)\n",
        "\n",
        "-   변수든 함수이든 둘다 인스턴스임. (즉 어떠한 클래스에서 찍힌 똑같은\n",
        "    오브젝트라는 의미)\n",
        "-   변수를 함수처럼: 메소드 `lst.append(1)`은 마치 `append(lst,1)`와\n",
        "    같은 함수로 쓸 수 있음\n",
        "-   함수를 변수처럼($\\star$): 함수자체를 함수의 입력으로 혹은 출력으로\n",
        "    쓸 수도 있음. 함수를 특정 값처럼 생각해서 함수들의 list를 만들 수도\n",
        "    있다.\n",
        "\n",
        "## D. callable object\n",
        "\n",
        "`-` 함수 오브젝트의 비밀?"
      ],
      "id": "2e59cf57-ff77-4a8e-a7f0-a9acd6406fa9"
    },
    {
      "cell_type": "code",
      "execution_count": 561,
      "metadata": {
        "tags": []
      },
      "outputs": [],
      "source": [
        "f = lambda x: x+1"
      ],
      "id": "e13c0122-af8b-4f5a-93b1-eec4f423959e"
    },
    {
      "cell_type": "code",
      "execution_count": 562,
      "metadata": {
        "tags": []
      },
      "outputs": [],
      "source": [
        "a=11"
      ],
      "id": "b41a65a0-eeba-4f6e-a2e6-eff7a5b29cba"
    },
    {
      "cell_type": "code",
      "execution_count": 563,
      "metadata": {
        "outputId": "1c17f21c-5e8e-4567-8768-76c6a2447efc",
        "tags": []
      },
      "outputs": [],
      "source": [
        "set(dir(f)) & {'__call__'}"
      ],
      "id": "133fdc17-0932-459b-9eed-a5fc92d6ed0c"
    },
    {
      "cell_type": "markdown",
      "metadata": {},
      "source": [
        "-   함수 오브젝트에는 숨겨진 기능 `__call__`이 있다."
      ],
      "id": "e38e6f68-3e63-497a-88a8-9f22b77d8d66"
    },
    {
      "cell_type": "code",
      "execution_count": 564,
      "metadata": {
        "outputId": "82346289-eb7f-4001-c45a-d8cb3f4ac2df",
        "tags": []
      },
      "outputs": [],
      "source": [
        "f.__call__(3) # f(3)"
      ],
      "id": "68849a67-b325-4bba-922e-87897c14d2ce"
    },
    {
      "cell_type": "code",
      "execution_count": 565,
      "metadata": {
        "outputId": "fd30ef66-be33-43b2-e4c8-92c54ee7756e",
        "tags": []
      },
      "outputs": [],
      "source": [
        "f.__call__(4) # f(4)"
      ],
      "id": "bf0a31c3-9b20-4d02-a63d-bfd337e443a7"
    },
    {
      "cell_type": "markdown",
      "metadata": {},
      "source": [
        "-   여기에 우리가 정의한 내용이 있다.\n",
        "\n",
        "`-` 함수처럼 쓸 수 없는 인스턴스는 단지 call이 없는 것일 뿐이다."
      ],
      "id": "baffb6a8-0ff1-4fa8-8f90-2c4d7406560d"
    },
    {
      "cell_type": "code",
      "execution_count": 566,
      "metadata": {
        "tags": []
      },
      "outputs": [],
      "source": [
        "class Klass:\n",
        "    def __init__(self):\n",
        "        self.name='guebin'"
      ],
      "id": "0b5e8b67-f18b-4f95-adf7-18b5b8a91af4"
    },
    {
      "cell_type": "code",
      "execution_count": 567,
      "metadata": {
        "tags": []
      },
      "outputs": [],
      "source": [
        "a=Klass()"
      ],
      "id": "4bb76e92-c89b-461b-ba65-0f66a2f5125c"
    },
    {
      "cell_type": "code",
      "execution_count": 568,
      "metadata": {
        "outputId": "dc0f5f87-6e97-403b-c951-9702963cf680",
        "tags": []
      },
      "outputs": [],
      "source": [
        "a()"
      ],
      "id": "ef3e7e83-47fd-45e8-9607-36c5db446b01"
    },
    {
      "cell_type": "markdown",
      "metadata": {},
      "source": [
        "-   a는 callable이 아니라고 한다."
      ],
      "id": "e81fefd0-18d8-4d40-be43-7f5f4e249268"
    },
    {
      "cell_type": "code",
      "execution_count": 569,
      "metadata": {
        "tags": []
      },
      "outputs": [],
      "source": [
        "class Klass2(Klass):\n",
        "    def __call__(self):\n",
        "        print(self.name)"
      ],
      "id": "dc0167c3-6916-45e5-abc7-c1e802da0107"
    },
    {
      "cell_type": "code",
      "execution_count": 570,
      "metadata": {
        "tags": []
      },
      "outputs": [],
      "source": [
        "b=Klass2()"
      ],
      "id": "9abe5472-5de7-41fa-9e86-10560fad7ae8"
    },
    {
      "cell_type": "code",
      "execution_count": 571,
      "metadata": {
        "outputId": "64356ed3-7b81-4f96-c7d1-2ecbceb6ea92",
        "tags": []
      },
      "outputs": [
        {
          "output_type": "stream",
          "name": "stdout",
          "text": [
            "guebin"
          ]
        }
      ],
      "source": [
        "b()"
      ],
      "id": "cc870e23-a3a8-4fc0-8373-42cb2ff39262"
    },
    {
      "cell_type": "markdown",
      "metadata": {},
      "source": [
        "-   b는 callable object! 즉 숨겨진 메서드로 `__call__`를 가진 오브젝트!\n",
        "-   Klass는 callable object를 만들지 못하지만 Klass2는 callable object를\n",
        "    만든다.\n",
        "\n",
        "`-` 클래스로 함수를 만들기 (=함수인스턴스를 찍어내는 클래스 설계)"
      ],
      "id": "bb0d9237-1cda-43d3-a1d5-19a38b013cda"
    },
    {
      "cell_type": "code",
      "execution_count": 572,
      "metadata": {
        "tags": []
      },
      "outputs": [],
      "source": [
        "class AddConstant:\n",
        "    def __init__(self,const):\n",
        "        self.const = const\n",
        "    def __call__(self,x):\n",
        "        return x + self.const"
      ],
      "id": "ccc4fd6f-9da5-43c4-85c3-40ae2658a598"
    },
    {
      "cell_type": "code",
      "execution_count": 573,
      "metadata": {
        "tags": []
      },
      "outputs": [],
      "source": [
        "f = AddConstant(3) # callable object생성, f.const에는 3이 저장되어있음."
      ],
      "id": "173c714a-3702-4d0c-9a14-710161c6eb04"
    },
    {
      "cell_type": "code",
      "execution_count": 574,
      "metadata": {
        "outputId": "0aec283d-5226-408d-ffe0-104a154ae3a6",
        "tags": []
      },
      "outputs": [],
      "source": [
        "f(5) # f.const 와 5를 더하는 기능을 수행, # 즉 f(x) = x+3 을 수행함"
      ],
      "id": "bc7bc54e-0a9d-4a24-bfad-cffac8241223"
    },
    {
      "cell_type": "code",
      "execution_count": 575,
      "metadata": {
        "outputId": "4cb8885a-4e20-46e5-9101-c6d23dd8544c",
        "tags": []
      },
      "outputs": [],
      "source": [
        "f(10)"
      ],
      "id": "8ec27723-e90d-42c9-819d-09793abdaefd"
    },
    {
      "cell_type": "markdown",
      "metadata": {},
      "source": [
        "`-` 클래스도 그러고 보니까 `오브젝트` 아니었나?"
      ],
      "id": "776486c4-023d-44c4-9b07-3e60e01675f1"
    },
    {
      "cell_type": "code",
      "execution_count": 576,
      "metadata": {
        "outputId": "b7b95086-4e48-43d3-e8ae-4c31205c93ad",
        "tags": []
      },
      "outputs": [],
      "source": [
        "Student_Ver2?"
      ],
      "id": "c4f408ae-9b93-408a-a652-877eb37a7c88"
    },
    {
      "cell_type": "markdown",
      "metadata": {},
      "source": [
        "-   이것도 type 이라는 또 다른 클래스에서 (클래스를 찍는 클래스) 찍힌\n",
        "    오브젝트이구나..\n",
        "\n",
        "`-` 클래스 “오브젝트”도 함수 “오브젝트”처럼 `Student_Ver2()`와 같이\n",
        "사용하면 인스턴스를 만들었음. -\\> `Student_Ver2.__call__()` 은\n",
        "`Student_Ver2()`와 같은 역할을 할 것이다.\n",
        "\n",
        "***일반적인 구현에서 “클래스 $\\to$ 인스턴스” 과정***"
      ],
      "id": "41632fd0-22af-4bd7-8693-e9fbcd8d3ebf"
    },
    {
      "cell_type": "code",
      "execution_count": null,
      "metadata": {
        "outputId": "04e6c969-3409-48ab-bd9c-161e230a7fb2"
      },
      "outputs": [
        {
          "output_type": "stream",
          "name": "stdout",
          "text": [
            "입학을 축하합니다. 당신의 나이는 20.0이고 현재 학기는 0학기 입니다."
          ]
        }
      ],
      "source": [
        "boram = Student_Ver2(age=20.0,semester=0)"
      ],
      "id": "7708fe5a-42f6-4c81-b606-eb6142071802"
    },
    {
      "cell_type": "code",
      "execution_count": null,
      "metadata": {
        "outputId": "bff767b6-3338-46cc-a659-04f4123b8804"
      },
      "outputs": [],
      "source": [
        "boram + '등록' + '휴학' + '휴학'"
      ],
      "id": "f6b78c35-a994-4552-b1c9-adc0bf64505c"
    },
    {
      "cell_type": "markdown",
      "metadata": {},
      "source": [
        "***공부를 위해 call을 이용해본 “클래스 $\\to$ 인스턴스” 과정***"
      ],
      "id": "a3e989e7-357f-4ff7-a28d-77e95d57c1d8"
    },
    {
      "cell_type": "code",
      "execution_count": null,
      "metadata": {
        "outputId": "e81272f0-5974-4b76-98e0-00ed12507e6a"
      },
      "outputs": [
        {
          "output_type": "stream",
          "name": "stdout",
          "text": [
            "입학을 축하합니다. 당신의 나이는 20.0이고 현재 학기는 0학기 입니다."
          ]
        }
      ],
      "source": [
        "boram = Student_Ver2.__call__(age=20.0,semester=0) #\n",
        "# boram = Student_Ver2(age=20.0,semester=0)"
      ],
      "id": "dcfb2e88-73b8-495a-bd22-92c076541426"
    },
    {
      "cell_type": "code",
      "execution_count": null,
      "metadata": {
        "outputId": "f72c35b9-a560-4993-95f6-f2d6310c726d"
      },
      "outputs": [],
      "source": [
        "boram + '등록' + '휴학' + '휴학'"
      ],
      "id": "2f589c6e-4d84-4811-ab02-a5a189758cc4"
    },
    {
      "cell_type": "markdown",
      "metadata": {},
      "source": [
        "> 파이썬의 비밀11: `f()`와 같이 쓸 수 있는 오브젝트는 단지 `__call__` 이\n",
        "> 정의되어있는 오브젝트일 뿐이다.\n",
        "\n",
        "# 5. `__iter__` ($\\star\\star\\star\\star\\star$)\n",
        "\n",
        "## A. for문의 복습\n",
        "\n",
        "`-` 아래와 같은 예제들을 관찰하여 for문을 복습하자.\n",
        "\n",
        "(예제1) \\[1,2,3,4\\]"
      ],
      "id": "cbe255d6-2cdb-4d66-b377-5e60192b6b9b"
    },
    {
      "cell_type": "code",
      "execution_count": null,
      "metadata": {
        "outputId": "c483f534-7c74-4ce7-a330-1949ef42759e"
      },
      "outputs": [
        {
          "output_type": "stream",
          "name": "stdout",
          "text": [
            "1\n",
            "2\n",
            "33\n",
            "4"
          ]
        }
      ],
      "source": [
        "for i in [1,2,33,4]:\n",
        "    print(i)"
      ],
      "id": "ed0f75f2-97e8-4c2b-81c7-ab58288abf71"
    },
    {
      "cell_type": "markdown",
      "metadata": {},
      "source": [
        "(예제2) (1,2,3,4)"
      ],
      "id": "03bd52ee-4caa-4b49-b6a5-f0d89f3009e3"
    },
    {
      "cell_type": "code",
      "execution_count": null,
      "metadata": {
        "outputId": "353dc292-b1f3-4aeb-b077-bf5ec6ffe64e"
      },
      "outputs": [
        {
          "output_type": "stream",
          "name": "stdout",
          "text": [
            "1\n",
            "2\n",
            "33\n",
            "4"
          ]
        }
      ],
      "source": [
        "for i in (1,2,33,4):\n",
        "    print(i)"
      ],
      "id": "560dcae1-e77d-4243-83e5-f2e701c47ef8"
    },
    {
      "cell_type": "markdown",
      "metadata": {},
      "source": [
        "(예제3) ‘1234’"
      ],
      "id": "11ed715c-fb8f-4b50-8994-ba0393080635"
    },
    {
      "cell_type": "code",
      "execution_count": null,
      "metadata": {
        "outputId": "bc95a1c3-ed43-4387-c46b-012f323b0e77"
      },
      "outputs": [
        {
          "output_type": "stream",
          "name": "stdout",
          "text": [
            "1\n",
            "2\n",
            "3\n",
            "a\n",
            "s\n",
            "d\n",
            "f"
          ]
        }
      ],
      "source": [
        "for i in '123asdf':\n",
        "    print(i)"
      ],
      "id": "77ba8e3c-8567-44f4-af67-bc1597fee2c7"
    },
    {
      "cell_type": "markdown",
      "metadata": {},
      "source": [
        "(예제4) 5"
      ],
      "id": "cdb4804e-0066-4867-8f6b-536d8c5fbd9b"
    },
    {
      "cell_type": "code",
      "execution_count": null,
      "metadata": {
        "outputId": "7331065e-f475-4dea-94f3-9c44682f8033"
      },
      "outputs": [],
      "source": [
        "for i in 5:\n",
        "    print(i)"
      ],
      "id": "5d9cfc43-3b29-48fd-8186-7bc519eb13b6"
    },
    {
      "cell_type": "markdown",
      "metadata": {},
      "source": [
        "`-` 의문1:\n",
        "\n",
        "``` python\n",
        "for i in ???:\n",
        "    print(i)\n",
        "```\n",
        "\n",
        "에서 ??? 자리에 올수 있는 것이 무엇일까?\n",
        "\n",
        "(예제5) \\[\\[1,2,3,4\\],\\[3,4,5,6\\]\\],\n",
        "pd.DataFrame(\\[\\[1,2,3,4\\],\\[3,4,5,6\\]\\])"
      ],
      "id": "1852daad-bd13-4fcb-844d-dbc414170f52"
    },
    {
      "cell_type": "code",
      "execution_count": null,
      "metadata": {
        "outputId": "32d7884e-e07c-4d94-96e1-196178b7205f"
      },
      "outputs": [],
      "source": [
        "lst = [[1,2,3,4],[3,4,5,6]]\n",
        "lst"
      ],
      "id": "9658047e-90b7-4fa1-8fab-bb50ec9379f8"
    },
    {
      "cell_type": "code",
      "execution_count": null,
      "metadata": {
        "outputId": "e4acc434-dcc7-4c94-dea6-c5885219a678"
      },
      "outputs": [
        {
          "output_type": "stream",
          "name": "stdout",
          "text": [
            "[1, 2, 3, 4]\n",
            "[3, 4, 5, 6]"
          ]
        }
      ],
      "source": [
        "for l in lst:\n",
        "    print(l)"
      ],
      "id": "d35c1d94-487f-4799-a5c5-8c2e1fa10e22"
    },
    {
      "cell_type": "code",
      "execution_count": null,
      "metadata": {
        "outputId": "dd5fc85d-a1fd-4a88-89ea-7b7d543dc104"
      },
      "outputs": [
        {
          "output_type": "stream",
          "name": "stdout",
          "text": [
            "[1 2 3 4]\n",
            "[3 4 5 6]"
          ]
        }
      ],
      "source": [
        "for l in np.array(lst):\n",
        "    print(l)"
      ],
      "id": "0e0401ea-bb19-4606-9574-2153bc201642"
    },
    {
      "cell_type": "code",
      "execution_count": null,
      "metadata": {
        "outputId": "07afdfe9-e9af-4256-e018-1c92963718ac"
      },
      "outputs": [
        {
          "output_type": "stream",
          "name": "stdout",
          "text": [
            "0\n",
            "1\n",
            "2\n",
            "3"
          ]
        }
      ],
      "source": [
        "for l in pd.DataFrame(lst):\n",
        "    print(l)"
      ],
      "id": "6abb5779-2642-466f-896d-0b7b52aaf044"
    },
    {
      "cell_type": "markdown",
      "metadata": {},
      "source": [
        "`-` 데이터프레임인 경우는 colname이 반복"
      ],
      "id": "441b3f99-a514-4ade-ba0e-5a1c722a4862"
    },
    {
      "cell_type": "code",
      "execution_count": null,
      "metadata": {
        "outputId": "58218170-0d99-4101-e901-6b80950b1899"
      },
      "outputs": [],
      "source": [
        "df = pd.DataFrame({'x':[1,2,3],'y':[2,3,4]})\n",
        "df"
      ],
      "id": "518df308-6a33-4403-9047-28cdaaf0b34e"
    },
    {
      "cell_type": "code",
      "execution_count": null,
      "metadata": {
        "outputId": "9d430d96-23a7-4b4f-a24a-81d9e262af17"
      },
      "outputs": [
        {
          "output_type": "stream",
          "name": "stdout",
          "text": [
            "x\n",
            "y"
          ]
        }
      ],
      "source": [
        "for d in df:\n",
        "    print(d)"
      ],
      "id": "4c32f33c-bc7e-4c8e-901e-06ecc0380bd0"
    },
    {
      "cell_type": "markdown",
      "metadata": {},
      "source": [
        "`-` 의문2: for의 출력결과는 어떻게 예측할 수 있을까?\n",
        "\n",
        "## B. for문의 동작원리\n",
        "\n",
        "`-` 의문1의 해결: 아래의 ??? 자리에 올 수 있는 것은 dir()하여\n",
        "`__iter__`가 있는 object이다.\n",
        "\n",
        "``` python\n",
        "for i in ???:\n",
        "    print(i)\n",
        "```\n",
        "\n",
        "이러한 오브젝트를 iterable object라고 한다.\n",
        "\n",
        "`-` 예제1~4 확인"
      ],
      "id": "1e258ac9-ea51-45c7-97fd-f9017f51428d"
    },
    {
      "cell_type": "code",
      "execution_count": null,
      "metadata": {
        "outputId": "0a9d27c7-6c25-434f-e929-7bf028f29757"
      },
      "outputs": [],
      "source": [
        "lst = [1,2,3]\n",
        "set(dir(lst)) & {'__iter__'}"
      ],
      "id": "2d998290-f7f2-4067-9c06-8ca20f6f7eff"
    },
    {
      "cell_type": "code",
      "execution_count": null,
      "metadata": {
        "outputId": "28e59b22-00ec-41a6-cf87-8ce59013989e"
      },
      "outputs": [],
      "source": [
        "tpl = 1,2,3\n",
        "set(dir(tpl)) & {'__iter__'}"
      ],
      "id": "38e33423-1cc4-4f2e-bd68-55ebc304ebf7"
    },
    {
      "cell_type": "code",
      "execution_count": null,
      "metadata": {
        "outputId": "3dcff950-138c-48d2-82fb-3b406c53b20a"
      },
      "outputs": [],
      "source": [
        "string = '123'\n",
        "set(dir(string)) & {'__iter__'}"
      ],
      "id": "4c65d1eb-ad6c-4e9a-9a55-2758fee97b56"
    },
    {
      "cell_type": "code",
      "execution_count": null,
      "metadata": {
        "outputId": "65364675-2006-489d-96f5-599d690e5088"
      },
      "outputs": [],
      "source": [
        "a = 5\n",
        "set(dir(a)) & {'__iter__'}"
      ],
      "id": "84b73884-afaa-43c9-9110-514d829e3718"
    },
    {
      "cell_type": "markdown",
      "metadata": {},
      "source": [
        "`-` `__iter__`의 역할: iterable object를 iterator로 만들 수 있다!"
      ],
      "id": "4a064ca4-00af-4b5b-a046-cffb304eb63a"
    },
    {
      "cell_type": "code",
      "execution_count": null,
      "metadata": {},
      "outputs": [],
      "source": [
        "lst = [1,22,-33]"
      ],
      "id": "13ea940f-2bdf-4ff8-98f5-75c2b89c214a"
    },
    {
      "cell_type": "code",
      "execution_count": null,
      "metadata": {},
      "outputs": [],
      "source": [
        "lst_iterator = lst.__iter__()\n",
        "# lst_iterator = iter(lst)"
      ],
      "id": "735eff0b-8590-4b7e-82de-c42674eafc56"
    },
    {
      "cell_type": "markdown",
      "metadata": {},
      "source": [
        "`-` iterator가 되면 무엇이 좋은가? -\\> 숨겨진 기능 `__next__`가 열린다."
      ],
      "id": "e0a0f633-cf18-4fa2-8c38-2bf3afe73cd6"
    },
    {
      "cell_type": "code",
      "execution_count": null,
      "metadata": {
        "outputId": "8389236e-5b28-40af-a23d-f0a98749fab1"
      },
      "outputs": [],
      "source": [
        "set(dir(lst_iterator)) & {'__next__'}"
      ],
      "id": "53c27368-a07b-493b-a336-75c15db1d517"
    },
    {
      "cell_type": "markdown",
      "metadata": {},
      "source": [
        "`-` 그래서 `__next__`의 기능은? -\\> 원소를 차례대로 꺼내준다 + 더 이상\n",
        "꺼낼 원소가 없으면 StopIteration Error를 발생시킨다."
      ],
      "id": "9321a970-3e5d-4a1e-8ddc-a133ee247aac"
    },
    {
      "cell_type": "code",
      "execution_count": null,
      "metadata": {
        "outputId": "f7451487-9c18-457e-b99a-fb2a5549682f"
      },
      "outputs": [],
      "source": [
        "next(lst_iterator)\n",
        "# lst_iterator.__next__() # 같은코드"
      ],
      "id": "486be605-eeea-47be-984d-dd9e8c32c6b0"
    },
    {
      "cell_type": "code",
      "execution_count": null,
      "metadata": {
        "outputId": "e412f6af-7ba2-4531-eca1-7ae2afcaa08a"
      },
      "outputs": [],
      "source": [
        "next(lst_iterator)\n",
        "# lst_iterator.__next__() # 같은코드"
      ],
      "id": "56abd546-130b-41b6-90de-603012647803"
    },
    {
      "cell_type": "code",
      "execution_count": null,
      "metadata": {
        "outputId": "50ada37e-a84a-44d5-f8ec-5e57411189e4"
      },
      "outputs": [],
      "source": [
        "next(lst_iterator)\n",
        "# lst_iterator.__next__() # 같은코드"
      ],
      "id": "fb306901-8b6b-4ec9-b8d0-19b8d7fe3d11"
    },
    {
      "cell_type": "code",
      "execution_count": null,
      "metadata": {
        "outputId": "4dbd73dd-3ada-4920-eb5e-c9a788366f73"
      },
      "outputs": [],
      "source": [
        "next(lst_iterator)\n",
        "# lst_iterator.__next__() # 같은코드"
      ],
      "id": "90d71c62-91a7-4699-b386-82bffa663f68"
    },
    {
      "cell_type": "markdown",
      "metadata": {},
      "source": [
        "`-` for문의 동작원리\n",
        "\n",
        "``` python\n",
        "for i in iterable:\n",
        "    ...\n",
        "```\n",
        "\n",
        "1.  이터레이터생성: `.__iter__()` 혹은 `iter()`을 이용하여 iterable을\n",
        "    iterator로 만든다.\n",
        "\n",
        "2.  $i$생성 및 반복: 1에서 만들어진 iterator에서 `.__next__()`함수를\n",
        "    호출하고 결과를 $i$에 저장한뒤 for문 블락안의 내용 (들여쓰기 된\n",
        "    내용) 을 실행한다. $\\to$ 반복한다.\n",
        "\n",
        "3.  정지: `.__next__()`함수를 호출할때 StopIteration Error가 나오면\n",
        "    for문을 멈춘다.\n",
        "\n",
        "![](attachment:13wk-2_files/figure-ipynb/mermaid-figure-1.png)\n",
        "\n",
        "`-` 아래의 구조도 잘 돌아갈까?\n",
        "\n",
        "``` python\n",
        "for i in iterator:\n",
        "    print(i)\n",
        "```\n",
        "\n",
        "> iterator의 iter가 자기자신을 리턴하도록 하는 트릭을 쓰면\n",
        "> “1.이터레이터생성 2.$i$생성 및 반복 3.정지”의 동작원리를 수정하지 않고\n",
        "> for문을 안전하게 돌릴 수 있다.\n",
        "\n",
        "![](attachment:13wk-2_files/figure-ipynb/mermaid-figure-2.png)\n",
        "\n",
        "`-` 요약\n",
        "\n",
        "-   iterable object는 숨겨진 기능으로 `__iter__`를 가진다.\n",
        "-   iterator는 숨겨진 기능으로 `__iter__`와 `__next__`를 가진다. 따라서\n",
        "    정의상 iterator는 그 자체로 iterable object가 된다!\n",
        "-   iterator의 `__iter__`는 자기자신을 리턴한다.\n",
        "\n",
        "`-` 의문2의 해결: for의 출력결과는 어떻게 예측할 수 있을까? iterator를\n",
        "만들어서 `.__next__()`의 출력값을 확인하면 알 수 있다."
      ],
      "attachments": {
        "13wk-2_files/figure-ipynb/mermaid-figure-1.png": {
          "image/png": "[encoded data removed]"
        },
        "13wk-2_files/figure-ipynb/mermaid-figure-2.png": {
          "image/png": "[encoded data removed]"
        }
      },
      "id": "95717e4b-6b5b-4fc1-9b9e-7f8a3cf0e754"
    },
    {
      "cell_type": "code",
      "execution_count": null,
      "metadata": {},
      "outputs": [],
      "source": [
        "_df_itertor = iter(df)"
      ],
      "id": "12aad317-3bf4-43c0-badf-d5a9ddcf5e73"
    },
    {
      "cell_type": "code",
      "execution_count": null,
      "metadata": {
        "outputId": "57e9007f-10ac-493c-e10d-865c9964dba2"
      },
      "outputs": [],
      "source": [
        "next(_df_itertor)"
      ],
      "id": "e0639ed1-9049-48b0-8767-4487fcfdd6bc"
    },
    {
      "cell_type": "code",
      "execution_count": null,
      "metadata": {
        "outputId": "97aef310-0355-4f61-97d5-8764b302aa97"
      },
      "outputs": [],
      "source": [
        "next(_df_itertor)"
      ],
      "id": "5343c61a-a80b-420e-869d-ce7a69618b81"
    },
    {
      "cell_type": "code",
      "execution_count": null,
      "metadata": {
        "outputId": "732ac58c-cf5b-45c4-8ddb-f21a44d5187e"
      },
      "outputs": [],
      "source": [
        "next(_df_itertor)"
      ],
      "id": "6e177e76-4828-4f91-bd47-7e316ac31884"
    },
    {
      "cell_type": "markdown",
      "metadata": {},
      "source": [
        "## C. 사용자정의 이터레이터\n",
        "\n",
        "`-` 내가 이터레이터를 만들어보자.\n",
        "\n",
        "`-` 찌를 내는 순간 for문이 멈추도록 하는 이터레이터를 만들자."
      ],
      "id": "32724f17-e434-41c3-b4df-8b71b1ad9d09"
    },
    {
      "cell_type": "code",
      "execution_count": null,
      "metadata": {},
      "outputs": [],
      "source": [
        "class RPS_ITERATOR: # 찌를 내는순간 for문이 멈추도록 하는 이터레이터를 만들자\n",
        "    def __init__(self):\n",
        "        self.candidate = [\"묵\",\"찌\",\"빠\"]\n",
        "    def __iter__(self):\n",
        "        return self\n",
        "    def __next__(self):\n",
        "        action = np.random.choice(self.candidate)\n",
        "        if action == \"찌\":\n",
        "            print(\"찌가 나와서 for문을 멈춥니다\")\n",
        "            raise StopIteration\n",
        "        else:\n",
        "            return action"
      ],
      "id": "bcce9d0d-dbd1-40ee-b8fd-12ff3833f680"
    },
    {
      "cell_type": "code",
      "execution_count": null,
      "metadata": {},
      "outputs": [],
      "source": [
        "a = RPS_ITERATOR()"
      ],
      "id": "7cfd307c-2b1b-4e12-91a5-e49d9024f3e4"
    },
    {
      "cell_type": "code",
      "execution_count": null,
      "metadata": {
        "outputId": "d8bf6093-172c-4baf-8ee9-2ca476bb393d"
      },
      "outputs": [],
      "source": [
        "a.__next__()"
      ],
      "id": "59b2ca3e-6bb3-4f91-9dc8-c4f2c51778fb"
    },
    {
      "cell_type": "code",
      "execution_count": null,
      "metadata": {
        "outputId": "b4419d44-caae-45bb-b069-2488c56c6fbd"
      },
      "outputs": [],
      "source": [
        "a.__next__()"
      ],
      "id": "de7b202c-6104-466a-8060-56df27810bce"
    },
    {
      "cell_type": "code",
      "execution_count": null,
      "metadata": {
        "outputId": "ebf69096-df33-46dd-ed50-1f8960caabaa"
      },
      "outputs": [],
      "source": [
        "a.__next__()"
      ],
      "id": "05a28350-d743-488d-945d-dd0a7b29bd04"
    },
    {
      "cell_type": "code",
      "execution_count": null,
      "metadata": {
        "outputId": "f8db5e19-b822-4657-bd02-861ff34967b4"
      },
      "outputs": [
        {
          "output_type": "stream",
          "name": "stdout",
          "text": [
            "찌가 나와서 for문을 멈춥니다"
          ]
        }
      ],
      "source": [
        "a.__next__()"
      ],
      "id": "19ff6fe7-3457-4e20-8f34-728c81bdd660"
    },
    {
      "cell_type": "code",
      "execution_count": null,
      "metadata": {
        "outputId": "a9047f03-7eef-4704-cf4c-b6db35973846"
      },
      "outputs": [
        {
          "output_type": "stream",
          "name": "stdout",
          "text": [
            "빠\n",
            "묵\n",
            "묵\n",
            "빠\n",
            "빠\n",
            "찌가 나와서 for문을 멈춥니다"
          ]
        }
      ],
      "source": [
        "for i in a:\n",
        "    print(i)"
      ],
      "id": "636d0f71-012b-4dd0-8073-1942db5c4c09"
    },
    {
      "cell_type": "markdown",
      "metadata": {},
      "source": [
        "## D. range()\n",
        "\n",
        "`-` 파이썬에서 for문을 처음 배울 때: range(5)를 써라!"
      ],
      "id": "d23002f2-de97-464e-8fd4-4b293315322e"
    },
    {
      "cell_type": "code",
      "execution_count": null,
      "metadata": {
        "outputId": "b6ec1eae-f076-47b5-e059-f59dd48258a1"
      },
      "outputs": [
        {
          "output_type": "stream",
          "name": "stdout",
          "text": [
            "0\n",
            "1\n",
            "2\n",
            "3\n",
            "4"
          ]
        }
      ],
      "source": [
        "for i in range(5):\n",
        "    print(i)"
      ],
      "id": "f335d21c-de80-4ec7-8d61-19cb4f9f6cf5"
    },
    {
      "cell_type": "markdown",
      "metadata": {},
      "source": [
        "-   range(5)가 도데체 무엇이길래?\n",
        "\n",
        "`-` `range(5)`의 정체는 그냥 iterable object이다."
      ],
      "id": "e20ed88b-7ee0-4a96-ac89-74e3c95abd5f"
    },
    {
      "cell_type": "code",
      "execution_count": null,
      "metadata": {
        "outputId": "a0c6afea-850c-45e9-e323-03ec6c061dc1"
      },
      "outputs": [],
      "source": [
        "set(dir(range(5))) & {'__iter__','__next__'}"
      ],
      "id": "bffe46cc-6825-4bc1-a85d-1d2cc875ecd9"
    },
    {
      "cell_type": "markdown",
      "metadata": {},
      "source": [
        "`-` 그래서 언제든지 iterator로 바꿀 수 있다."
      ],
      "id": "fcd99c85-26dd-49b0-90bf-5614818f43da"
    },
    {
      "cell_type": "code",
      "execution_count": null,
      "metadata": {
        "outputId": "8a8b7e9d-9e46-4f9d-881c-2533bf70ea03"
      },
      "outputs": [],
      "source": [
        "rtor= iter(range(5))\n",
        "rtor"
      ],
      "id": "729e15b7-f06a-4a3e-9286-8a299603b4d0"
    },
    {
      "cell_type": "code",
      "execution_count": null,
      "metadata": {
        "outputId": "9eb3516a-d4cc-423d-dc35-4a1af978c711"
      },
      "outputs": [],
      "source": [
        "set(dir(rtor)) &  {'__iter__','__next__'}"
      ],
      "id": "8060202f-76b5-4036-bbf6-ef374fdabfb4"
    },
    {
      "cell_type": "markdown",
      "metadata": {},
      "source": [
        "`-` for문에서 range(5)가 행동하는 방법?"
      ],
      "id": "7e1b9484-6b7e-4a77-ae0c-bd468195cd31"
    },
    {
      "cell_type": "code",
      "execution_count": null,
      "metadata": {},
      "outputs": [],
      "source": [
        "rtor = iter(range(5))"
      ],
      "id": "7ce9b1f0-f4eb-4ad7-9a24-72f75749f317"
    },
    {
      "cell_type": "code",
      "execution_count": null,
      "metadata": {
        "outputId": "b0791a36-af39-4d38-ff7c-67e37aefebfb"
      },
      "outputs": [],
      "source": [
        "rtor.__next__()"
      ],
      "id": "5a8301c2-6b23-413c-b8d1-70e56b5fa748"
    },
    {
      "cell_type": "code",
      "execution_count": null,
      "metadata": {
        "outputId": "3d4b2701-f007-4851-82f0-5e0418cc275b"
      },
      "outputs": [],
      "source": [
        "rtor.__next__()"
      ],
      "id": "fc67b2af-0d41-49db-a22c-9e52f38c0d10"
    },
    {
      "cell_type": "code",
      "execution_count": null,
      "metadata": {
        "outputId": "a2645340-ecd9-486c-fde1-88d0bbb8c11a"
      },
      "outputs": [],
      "source": [
        "rtor.__next__()"
      ],
      "id": "38387bd4-a40e-4be2-8b6d-888b457ad0f5"
    },
    {
      "cell_type": "code",
      "execution_count": null,
      "metadata": {
        "outputId": "cc3dc5a5-3e7f-4fec-da71-3f8e04fc93b9"
      },
      "outputs": [],
      "source": [
        "rtor.__next__()"
      ],
      "id": "d1f80d80-896d-4864-8215-e753e75b0790"
    },
    {
      "cell_type": "code",
      "execution_count": null,
      "metadata": {
        "outputId": "912170ff-cdb1-4dcc-f699-f0326a9e633b"
      },
      "outputs": [],
      "source": [
        "rtor.__next__()"
      ],
      "id": "7b82969a-9417-49d0-9d87-206f842882d1"
    },
    {
      "cell_type": "code",
      "execution_count": null,
      "metadata": {
        "outputId": "b90ad135-65ea-4be9-a62d-79d0bf232fe9"
      },
      "outputs": [],
      "source": [
        "rtor.__next__()"
      ],
      "id": "4627bbe9-a586-4f68-a673-537288e144b7"
    },
    {
      "cell_type": "markdown",
      "metadata": {},
      "source": [
        "## E. zip\n",
        "\n",
        "`-` 이터레이터의 개념을 알면 for문에 대한 이해도가 대폭 상승한다."
      ],
      "id": "41772f18-ed67-4725-80ce-31011726e4f6"
    },
    {
      "cell_type": "code",
      "execution_count": null,
      "metadata": {
        "outputId": "c63cf328-5517-4cfe-c073-d5072d38ec49"
      },
      "outputs": [
        {
          "output_type": "stream",
          "name": "stdout",
          "text": [
            "1 a\n",
            "2 b\n",
            "3 c"
          ]
        }
      ],
      "source": [
        "for i,j in zip([1,2,3],'abc'):\n",
        "    print(i,j)"
      ],
      "id": "e3a0f990-1ff3-4002-9c6f-3262207c391f"
    },
    {
      "cell_type": "markdown",
      "metadata": {},
      "source": [
        "-   zip은 뭐지?"
      ],
      "id": "1fb97836-de94-4b7f-953c-543017f4ad0a"
    },
    {
      "cell_type": "code",
      "execution_count": null,
      "metadata": {
        "outputId": "55b8aca4-933a-4fd9-e7ba-20b4dfaa61f6"
      },
      "outputs": [],
      "source": [
        "zip([1,2,3],'abc')"
      ],
      "id": "215cf06f-6551-40b4-8de9-843be0924884"
    },
    {
      "cell_type": "markdown",
      "metadata": {},
      "source": [
        "`-` 어차피 `for i in ????`: 의 ???? 자리는 iterable object의 자리이다."
      ],
      "id": "8a601c75-161a-44e9-bd1d-a8c332511eb1"
    },
    {
      "cell_type": "code",
      "execution_count": null,
      "metadata": {
        "outputId": "91ce8b62-f9c3-4226-b4d1-c411a2e40bdf"
      },
      "outputs": [],
      "source": [
        "set(dir(zip([1,2,3],'abc'))) & {'__iter__','__next__'}"
      ],
      "id": "ffb339bb-d18c-484d-8411-4dac694033d9"
    },
    {
      "cell_type": "markdown",
      "metadata": {},
      "source": [
        "-   `__next__()`함수가 있음 $\\to$ `zip([1,2,3],'abc')`은 그자체로\n",
        "    iterator 였다!"
      ],
      "id": "0f38c569-4119-446f-a296-dc571ad4a6c3"
    },
    {
      "cell_type": "code",
      "execution_count": null,
      "metadata": {},
      "outputs": [],
      "source": [
        "z= zip([1,2,3],'abc')"
      ],
      "id": "ed240949-0e38-4106-be5b-328b93758dc9"
    },
    {
      "cell_type": "code",
      "execution_count": null,
      "metadata": {
        "outputId": "a90e6eee-cdfe-4a55-932e-27e6ad458690"
      },
      "outputs": [],
      "source": [
        "z.__next__()"
      ],
      "id": "b8780b74-b628-4927-add6-3067c06f1ac1"
    },
    {
      "cell_type": "code",
      "execution_count": null,
      "metadata": {
        "outputId": "a4099f6a-d0d5-4879-ae50-d5a5eaeb84b5"
      },
      "outputs": [],
      "source": [
        "z.__next__()"
      ],
      "id": "6edc36c0-1538-4952-820a-7f38413c60bf"
    },
    {
      "cell_type": "code",
      "execution_count": null,
      "metadata": {
        "outputId": "5e795828-37c6-4320-9d19-aad2d20bcabb"
      },
      "outputs": [],
      "source": [
        "z.__next__()"
      ],
      "id": "f66cb068-5fd9-4040-ba6a-6648028d69be"
    },
    {
      "cell_type": "code",
      "execution_count": null,
      "metadata": {
        "outputId": "12750558-ae98-4f83-a58e-e92aa4b82ed6"
      },
      "outputs": [],
      "source": [
        "z.__next__()"
      ],
      "id": "8994e341-c0ce-4c4f-ba90-f3291b677a10"
    },
    {
      "cell_type": "markdown",
      "metadata": {},
      "source": [
        "***또다른 이해: 그러고보니까 `zip([1,2,3],'abc')`은 뭐하는 문법이지?***"
      ],
      "id": "0de0dd70-8d1d-45b3-9201-2d253f7012d1"
    },
    {
      "cell_type": "code",
      "execution_count": null,
      "metadata": {
        "outputId": "fb972757-15fb-41b2-d806-6505aa717715"
      },
      "outputs": [],
      "source": [
        "zip?"
      ],
      "id": "ee57ba09-94ee-4b58-b1a3-fa6768ad846e"
    },
    {
      "cell_type": "markdown",
      "metadata": {},
      "source": [
        "-   너 클래스였어?"
      ],
      "id": "90342bb8-5f4a-4493-96db-6ec419aa127e"
    },
    {
      "cell_type": "code",
      "execution_count": null,
      "metadata": {},
      "outputs": [],
      "source": [
        "iterator_from_zip = zip.__call__([1,2,3],'abc')"
      ],
      "id": "2d6c2631-0c0a-478a-972b-2c186c48831a"
    },
    {
      "cell_type": "code",
      "execution_count": null,
      "metadata": {
        "outputId": "11e5c06e-a914-4d2b-dcf9-a0358a9aa55d"
      },
      "outputs": [
        {
          "output_type": "stream",
          "name": "stdout",
          "text": [
            "1 a\n",
            "2 b\n",
            "3 c"
          ]
        }
      ],
      "source": [
        "for i,j in iterator_from_zip:\n",
        "    print(i,j)"
      ],
      "id": "67d5890b-d095-4988-9cc8-463f2dba43e0"
    },
    {
      "cell_type": "markdown",
      "metadata": {},
      "source": [
        "> 파이썬의 작은 비밀: zip은 iterator를 찍어내는 클래스이다.\n",
        "\n",
        "## F. enumerate\n",
        "\n",
        "`-` zip의 짝궁으로 enumerate가 있음"
      ],
      "id": "4c108e58-a509-4de5-8b99-244a05921ad7"
    },
    {
      "cell_type": "code",
      "execution_count": null,
      "metadata": {
        "outputId": "5b1c165f-7e78-4a96-8514-bd7ce0248199"
      },
      "outputs": [
        {
          "output_type": "stream",
          "name": "stdout",
          "text": [
            "0 a\n",
            "1 b\n",
            "2 c"
          ]
        }
      ],
      "source": [
        "for i,s in enumerate('abc'):\n",
        "    print(i,s)"
      ],
      "id": "683f26ea-483d-4324-9b65-f73c6ab613e1"
    },
    {
      "cell_type": "markdown",
      "metadata": {},
      "source": [
        "`-` `enumerate('abc')`도 문법상 iterable object 아니면 iterator 임."
      ],
      "id": "b3fafa8b-2548-40b2-8053-99d282917d18"
    },
    {
      "cell_type": "code",
      "execution_count": null,
      "metadata": {
        "outputId": "cdfcd21e-cd80-442d-e8dd-4ef54770817e"
      },
      "outputs": [],
      "source": [
        "set(dir(enumerate('abc'))) & {'__iter__', '__next__'}"
      ],
      "id": "32cbccf9-a57e-4bd3-b409-de263379922c"
    },
    {
      "cell_type": "markdown",
      "metadata": {},
      "source": [
        "-   iterator 였군"
      ],
      "id": "afaee4c2-f88a-485a-a56c-bb16f7ea2c24"
    },
    {
      "cell_type": "code",
      "execution_count": null,
      "metadata": {},
      "outputs": [],
      "source": [
        "iterator = enumerate('abc')"
      ],
      "id": "9995d1f4-441a-472f-a775-4447641b6e00"
    },
    {
      "cell_type": "code",
      "execution_count": null,
      "metadata": {
        "outputId": "255c806b-3acf-4b37-8d4b-138c6c2cdbfe"
      },
      "outputs": [],
      "source": [
        "next(iterator)"
      ],
      "id": "8eb1297e-f79e-4046-9fff-9ba6375a1c39"
    },
    {
      "cell_type": "code",
      "execution_count": null,
      "metadata": {
        "outputId": "2b4f0d48-8ba8-4086-d9f2-1965edff85be"
      },
      "outputs": [],
      "source": [
        "next(iterator)"
      ],
      "id": "2ba1e357-f66b-4162-bd8d-c144c5b6707a"
    },
    {
      "cell_type": "code",
      "execution_count": null,
      "metadata": {
        "outputId": "d56b4558-044a-4a27-9a0d-dd44b5e5f079"
      },
      "outputs": [],
      "source": [
        "next(iterator)"
      ],
      "id": "ac7b9552-6ad0-4494-a5e6-8a6d60fcee9a"
    },
    {
      "cell_type": "code",
      "execution_count": null,
      "metadata": {
        "outputId": "7f3927eb-7a7b-4077-969d-5584c16389f8"
      },
      "outputs": [],
      "source": [
        "next(iterator)"
      ],
      "id": "91b6dad4-c2d9-4917-a6cf-0ed31cc6ed93"
    },
    {
      "cell_type": "markdown",
      "metadata": {},
      "source": [
        "`-` 참고: enumerate 는 클래스임"
      ],
      "id": "9b533636-d384-422e-9b46-bf73760d257a"
    },
    {
      "cell_type": "code",
      "execution_count": null,
      "metadata": {
        "outputId": "c4adf98e-0f1e-416a-bade-7bf705f89cf7"
      },
      "outputs": [],
      "source": [
        "enumerate?"
      ],
      "id": "8bd793a4-3ea9-453c-a1c5-7c5a0077c50d"
    },
    {
      "cell_type": "markdown",
      "metadata": {},
      "source": [
        "> 파이썬의 작은 비밀: enumerate 역시 iterator를 찍어내는 클래스다.\n",
        "\n",
        "> 파이썬의 비밀12: iterator나 iterable object만 for문과 함께 사용할 수\n",
        "> 있다."
      ],
      "id": "92100eb4-ab0b-4e18-8eab-eb82f12a54da"
    }
  ],
  "nbformat": 4,
  "nbformat_minor": 5,
  "metadata": {
    "kernelspec": {
      "name": "python3",
      "display_name": "Python 3 (ipykernel)",
      "language": "python"
    },
    "language_info": {
      "name": "python",
      "codemirror_mode": {
        "name": "ipython",
        "version": "3"
      },
      "file_extension": ".py",
      "mimetype": "text/x-python",
      "nbconvert_exporter": "python",
      "pygments_lexer": "ipython3",
      "version": "3.10.13"
    }
  }
}