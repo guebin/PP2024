{
  "cells": [
    {
      "cell_type": "markdown",
      "metadata": {},
      "source": [
        "# 13wk-2: 클래스 (3)\n",
        "\n",
        "최규빈  \n",
        "2024-05-31\n",
        "\n",
        "<a href=\"https://colab.research.google.com/github/guebin/PP2024/blob/main/posts/13wk-2.ipynb\"><img src=\"https://colab.research.google.com/assets/colab-badge.svg\" style=\"text-align: left\"></a>\n",
        "\n",
        "# 1. 강의영상\n",
        "\n",
        "<https://youtu.be/playlist?list=PLQqh36zP38-yhYjyDRkhCJb6R3GNIL-Ex&si=VMJzZ7DkVAhpY2pa>\n",
        "\n",
        "# 2. Imports"
      ],
      "id": "e9c90ab8-5446-4c64-9bfe-2ab9e14a602d"
    },
    {
      "cell_type": "code",
      "execution_count": 2,
      "metadata": {
        "tags": []
      },
      "outputs": [],
      "source": [
        "import numpy as np\n",
        "import matplotlib.pyplot as plt\n",
        "import pandas as pd\n",
        "import collections"
      ],
      "id": "24fc2d12-d10c-4bcf-8ad1-ea13dae74312"
    },
    {
      "cell_type": "markdown",
      "metadata": {},
      "source": [
        "# 3. 오브젝트\n",
        "\n",
        "> “파이썬의 모든 것은 오브젝트이다. 값도, 함수도, 인스턴스도, 클래스도\n",
        "> 오브젝트이다.” \\<– 살짝 과장이지만 일단 명언처럼 외우세여\n",
        "\n",
        "## A. 오브젝트\n",
        "\n",
        "> 오브젝트 특징: `id(오브젝트)` 가 동작함\n",
        "\n",
        "`-` 예시1: 정수"
      ],
      "id": "7003ed59-3d62-4b28-ac0f-cbdb89a6628c"
    },
    {
      "cell_type": "code",
      "execution_count": 11,
      "metadata": {
        "tags": []
      },
      "outputs": [],
      "source": [
        "a = 1 \n",
        "id(a)"
      ],
      "id": "71d5d2b1-c600-4495-a53a-0a0ea6e7b031"
    },
    {
      "cell_type": "markdown",
      "metadata": {},
      "source": [
        "`-` 예시2: 함수"
      ],
      "id": "f51e80df-dc70-4e83-9e3e-9211d3905be9"
    },
    {
      "cell_type": "code",
      "execution_count": 12,
      "metadata": {
        "tags": []
      },
      "outputs": [],
      "source": [
        "f = lambda x: x\n",
        "id(f)"
      ],
      "id": "d9f54534-ebf4-47d4-ad08-9288a01a58d3"
    },
    {
      "cell_type": "markdown",
      "metadata": {},
      "source": [
        "`-` 예시3: 클래스와 인스턴스"
      ],
      "id": "249d0572-b55a-4d52-bbff-0be43b05b83e"
    },
    {
      "cell_type": "code",
      "execution_count": 20,
      "metadata": {
        "tags": []
      },
      "outputs": [],
      "source": [
        "class RPS:\n",
        "    pass "
      ],
      "id": "b97d776f-cd39-4e25-a84c-7a2339c0af54"
    },
    {
      "cell_type": "code",
      "execution_count": 500,
      "metadata": {
        "tags": []
      },
      "outputs": [],
      "source": [
        "a = RPS()\n",
        "id(a)"
      ],
      "id": "bafeefaf-19bf-4b6e-aeea-ddc0a77c19ae"
    },
    {
      "cell_type": "code",
      "execution_count": 501,
      "metadata": {
        "tags": []
      },
      "outputs": [],
      "source": [
        "id(RPS)"
      ],
      "id": "2f79dd88-3300-4343-b55e-a6670c9e8d38"
    },
    {
      "cell_type": "markdown",
      "metadata": {},
      "source": [
        "`-` 예시4: 파이썬 제공 기본클래스"
      ],
      "id": "da8e305e-6722-48a8-a327-f3be9b7386ad"
    },
    {
      "cell_type": "code",
      "execution_count": 26,
      "metadata": {
        "tags": []
      },
      "outputs": [],
      "source": [
        "id(list)"
      ],
      "id": "27259307-3464-4098-bb2e-0b27b36975a0"
    },
    {
      "cell_type": "code",
      "execution_count": 27,
      "metadata": {
        "tags": []
      },
      "outputs": [],
      "source": [
        "id(str)"
      ],
      "id": "4211c19e-e8c6-4000-a9e8-1745d313a7f6"
    },
    {
      "cell_type": "code",
      "execution_count": 28,
      "metadata": {
        "tags": []
      },
      "outputs": [],
      "source": [
        "id(dict)"
      ],
      "id": "35155e50-0f23-46ea-a0c8-5d96ca629318"
    },
    {
      "cell_type": "markdown",
      "metadata": {},
      "source": [
        "`-` 예시5: 파이썬 기본 제공기능"
      ],
      "id": "77bdf36f-1ce4-44d5-8f84-f323ccd9b62b"
    },
    {
      "cell_type": "code",
      "execution_count": 34,
      "metadata": {
        "tags": []
      },
      "outputs": [],
      "source": [
        "id(range)"
      ],
      "id": "2f5bc44e-54ff-4505-a529-89bb1dede09e"
    },
    {
      "cell_type": "code",
      "execution_count": 35,
      "metadata": {
        "tags": []
      },
      "outputs": [],
      "source": [
        "id(len)"
      ],
      "id": "84bba4d3-c18d-40a9-8328-5016e596b216"
    },
    {
      "cell_type": "code",
      "execution_count": 36,
      "metadata": {
        "tags": []
      },
      "outputs": [],
      "source": [
        "id(id)"
      ],
      "id": "9a527bdb-8e1c-4e82-8e5d-9a147f8ce89e"
    },
    {
      "cell_type": "markdown",
      "metadata": {},
      "source": [
        "`-` 모듈"
      ],
      "id": "0f592d0e-fd01-4081-aea3-2e340e7e923d"
    },
    {
      "cell_type": "code",
      "execution_count": 37,
      "metadata": {
        "tags": []
      },
      "outputs": [],
      "source": [
        "id(np)"
      ],
      "id": "09998934-b970-46d5-8166-1ff97aab16c8"
    },
    {
      "cell_type": "code",
      "execution_count": 38,
      "metadata": {
        "tags": []
      },
      "outputs": [],
      "source": [
        "id(pd)"
      ],
      "id": "4ed71084-e712-4ee7-95bf-f8c5c32f1e59"
    },
    {
      "cell_type": "markdown",
      "metadata": {},
      "source": [
        "## B. 오브젝트가 아님\n",
        "\n",
        "`-` 예시1: 구문"
      ],
      "id": "1f133288-e778-4f66-b377-f5d0725370f4"
    },
    {
      "cell_type": "code",
      "execution_count": 39,
      "metadata": {
        "tags": []
      },
      "outputs": [],
      "source": [
        "id(lambda)"
      ],
      "id": "8e00a512-394f-4f07-9aa7-66c69ef6e05c"
    },
    {
      "cell_type": "code",
      "execution_count": 40,
      "metadata": {
        "tags": []
      },
      "outputs": [],
      "source": [
        "id(def)"
      ],
      "id": "be8b3eba-34f8-48f6-a139-3fe03263327f"
    },
    {
      "cell_type": "markdown",
      "metadata": {},
      "source": [
        "`-` 예시2: 제어구조"
      ],
      "id": "d64e5c47-7494-414f-8650-f630d9722332"
    },
    {
      "cell_type": "code",
      "execution_count": 41,
      "metadata": {
        "tags": []
      },
      "outputs": [],
      "source": [
        "id(for)"
      ],
      "id": "cb58cd10-c58b-4da7-b853-8c60fa041a1f"
    },
    {
      "cell_type": "code",
      "execution_count": 42,
      "metadata": {
        "tags": []
      },
      "outputs": [],
      "source": [
        "id(if)"
      ],
      "id": "2b1740d7-d3d6-4c0b-b21e-c480d46859ba"
    },
    {
      "cell_type": "code",
      "execution_count": 43,
      "metadata": {
        "tags": []
      },
      "outputs": [],
      "source": [
        "id(while)"
      ],
      "id": "9e3361aa-5a76-4033-a21d-f6ff540b27de"
    },
    {
      "cell_type": "markdown",
      "metadata": {},
      "source": [
        "# 4. `__call__` $(\\star\\star\\star)$\n",
        "\n",
        "## A. 함수도 인스턴스다\n",
        "\n",
        "`-` 다시 함수를 공부해봅시다."
      ],
      "id": "887777ff-b673-41a8-931c-f051a0c4f5ca"
    },
    {
      "cell_type": "code",
      "execution_count": 44,
      "metadata": {
        "tags": []
      },
      "outputs": [],
      "source": [
        "def f(x):\n",
        "    return x+1"
      ],
      "id": "3f64b0c1-c0c9-4de2-960d-027c485fbb96"
    },
    {
      "cell_type": "code",
      "execution_count": 45,
      "metadata": {
        "outputId": "bb5571fa-199d-4a92-8c63-243ac84cd9f4",
        "tags": []
      },
      "outputs": [],
      "source": [
        "f(3)"
      ],
      "id": "cf6da91e-bd1c-4560-9a54-ad3e7b0f2d59"
    },
    {
      "cell_type": "markdown",
      "metadata": {},
      "source": [
        "`-` 함수의 사용방법?\n",
        "\n",
        "-   입력으로 변수 x를 받음 = 입력으로 인스턴스 x를 받음.\n",
        "-   출력으로 변수 x+1을 리턴 = 출력으로 인스턴스 x+1을 리턴."
      ],
      "id": "2f640d35-3414-4517-9416-ef239ce63456"
    },
    {
      "cell_type": "code",
      "execution_count": 47,
      "metadata": {
        "tags": []
      },
      "outputs": [],
      "source": [
        "f(3)"
      ],
      "id": "ee2532de-51d8-4eb6-8429-dab8c1e122a5"
    },
    {
      "cell_type": "markdown",
      "metadata": {},
      "source": [
        "`-` 사실1: 파이썬에서 함수는 인스턴스를 입력으로 받고 인스턴스를\n",
        "출력한다.\n",
        "\n",
        "`-` 함수의 자료형?"
      ],
      "id": "9f189ce9-90ea-4002-8547-bbdfa6dc5ec8"
    },
    {
      "cell_type": "code",
      "execution_count": 56,
      "metadata": {
        "outputId": "66ec6f01-705f-4938-d6fa-0aa1481852af",
        "tags": []
      },
      "outputs": [],
      "source": [
        "?f"
      ],
      "id": "c4d65dd9-ebe6-470b-861a-89ed38f747d5"
    },
    {
      "cell_type": "markdown",
      "metadata": {},
      "source": [
        "-   type이 function이다.\n",
        "-   f는 function class의 instance이다.\n",
        "-   결국 f 역시 하나의 오브젝트에 불과하다.\n",
        "\n",
        "`-` 사실2: 함수도 결국 인스턴스이다. -\\> 함수의 입력으로 함수를 쓸 수도\n",
        "있고 함수의 출력으로 함수가 나올 수도 있다.\n",
        "\n",
        "## B. 함수사용 고급\n",
        "\n",
        "`# 예제1` – 숫자입력, 함수출력"
      ],
      "id": "a55bbb4f-d5ff-4717-8782-6c9dc2b335e7"
    },
    {
      "cell_type": "code",
      "execution_count": 63,
      "metadata": {
        "tags": []
      },
      "outputs": [],
      "source": [
        "def f(a):\n",
        "    def g(x):\n",
        "        return (x-a)**2\n",
        "    return g"
      ],
      "id": "6d6c9794-5bd1-4af3-9f13-6fbcfd25988c"
    },
    {
      "cell_type": "code",
      "execution_count": 61,
      "metadata": {
        "tags": []
      },
      "outputs": [],
      "source": [
        "g=f(10) # g(x)=(x-10)**2"
      ],
      "id": "95503ff3-aa03-41d7-8381-30fafe5f5791"
    },
    {
      "cell_type": "code",
      "execution_count": 62,
      "metadata": {
        "outputId": "46ed08be-f84b-4a71-866f-3df145404aba",
        "tags": []
      },
      "outputs": [],
      "source": [
        "g(2) # (2-10)**2 = 64"
      ],
      "id": "0dfa3ec2-ada7-4a10-b20a-ac3860ef8d6e"
    },
    {
      "cell_type": "markdown",
      "metadata": {},
      "source": [
        "-   해석: $f(a)$는 $a$를 입력으로 받고 $g(x)=(x-a)^2$라는 함수를\n",
        "    리턴해주는 함수\n",
        "\n",
        "> 아니 무슨 함수를 “값처럼” 취급해서 리턴하네??\n",
        "\n",
        "**lambda를 이용한 표현1**"
      ],
      "id": "f075ab1c-b6c5-4598-b535-3e9ec37f93c2"
    },
    {
      "cell_type": "code",
      "execution_count": 78,
      "metadata": {
        "tags": []
      },
      "outputs": [],
      "source": [
        "def f(a):\n",
        "    g = lambda x: (x-a)**2 ### lambda x: (x-a)**2 가 실행되는 순간 함수오브젝트가 만들어지고 그것이 g 로 저장됨\n",
        "    return g"
      ],
      "id": "f22181c3-3fe3-419a-98d2-357667e2c1e4"
    },
    {
      "cell_type": "code",
      "execution_count": 65,
      "metadata": {
        "tags": []
      },
      "outputs": [],
      "source": [
        "g = f(10) # g(x)=(x-10)**2"
      ],
      "id": "f8327fcb-e11f-415e-9f33-c7267c954afe"
    },
    {
      "cell_type": "code",
      "execution_count": 66,
      "metadata": {
        "outputId": "edfa99ae-4d3e-4ae0-cc7b-ba1090ca75b8",
        "tags": []
      },
      "outputs": [],
      "source": [
        "g(3) # (3-10)**2 = 49"
      ],
      "id": "a14193b9-b7c8-47d7-8bec-735395b68b96"
    },
    {
      "cell_type": "markdown",
      "metadata": {},
      "source": [
        "**lambda를 이용한 표현2**"
      ],
      "id": "e4fb7716-bb49-4c3f-8009-55702a7ce784"
    },
    {
      "cell_type": "code",
      "execution_count": 68,
      "metadata": {
        "tags": []
      },
      "outputs": [],
      "source": [
        "def f(a):\n",
        "    return lambda x: (x-a)**2"
      ],
      "id": "c686a528-2344-4777-b6b9-527e7c33cfe8"
    },
    {
      "cell_type": "code",
      "execution_count": 69,
      "metadata": {
        "tags": []
      },
      "outputs": [],
      "source": [
        "g=f(10) # g(x)=(x-10)**2"
      ],
      "id": "45b26695-1f0e-4c8c-98ba-4e7995038dab"
    },
    {
      "cell_type": "code",
      "execution_count": 70,
      "metadata": {
        "outputId": "785363c6-2d62-427a-ceb7-8389e7d88ba9",
        "tags": []
      },
      "outputs": [],
      "source": [
        "g(3) # (3-10)**2 = 49"
      ],
      "id": "218514bd-c6f9-49d1-a89c-5774e19c55bd"
    },
    {
      "cell_type": "markdown",
      "metadata": {},
      "source": [
        "`#`\n",
        "\n",
        "`# 예제2` – 함수와 숫자를 입력으로, 숫자출력으로"
      ],
      "id": "0d806191-0c7f-4ec1-bac8-9c32954fcd08"
    },
    {
      "cell_type": "code",
      "execution_count": 521,
      "metadata": {
        "tags": []
      },
      "outputs": [],
      "source": [
        "def slope(f,x): # 함수를 입력을 받는 함수를 정의\n",
        "    h=0.000000000001\n",
        "    return (f(x+h)-f(x))/h"
      ],
      "id": "2d33321f-5ea5-494c-8fd9-c009c3bcd23b"
    },
    {
      "cell_type": "code",
      "execution_count": 91,
      "metadata": {
        "outputId": "7577b3ab-5ac3-498a-ac04-17d3ba61a994",
        "tags": []
      },
      "outputs": [],
      "source": [
        "slope(f,4) # f'(4) = 2*4 = 8"
      ],
      "id": "ce02f9ab-ac65-40fe-b43d-819630ba613e"
    },
    {
      "cell_type": "markdown",
      "metadata": {},
      "source": [
        "`#`\n",
        "\n",
        "`# 예제3` – 함수입력, 함수출력"
      ],
      "id": "2f18fe11-8fed-47a1-9cdc-321cde256d2d"
    },
    {
      "cell_type": "code",
      "execution_count": 141,
      "metadata": {
        "tags": []
      },
      "outputs": [],
      "source": [
        "def derivate(f):\n",
        "    h = 0.000000000001\n",
        "    ff = lambda x: (f(x+h)-f(x))/h\n",
        "    return ff"
      ],
      "id": "b318f978-7c76-4500-bd36-afdd425469d9"
    },
    {
      "cell_type": "code",
      "execution_count": 142,
      "metadata": {
        "tags": []
      },
      "outputs": [],
      "source": [
        "f = lambda x: x**2 # f(x) = x^2\n",
        "ff = derivate(f) # ff(x) = 2x"
      ],
      "id": "14d271bb-16c9-4353-a3ea-f5f6aa244b5d"
    },
    {
      "cell_type": "code",
      "execution_count": 143,
      "metadata": {
        "outputId": "c0946ac1-61c6-4e32-81e0-79485a00b184",
        "tags": []
      },
      "outputs": [],
      "source": [
        "ff(7) # ff는 f의 도함수 그자체"
      ],
      "id": "9653ec82-8096-47fe-8d8b-ad6b1e346680"
    },
    {
      "cell_type": "markdown",
      "metadata": {},
      "source": [
        "**원래함수 시각화**"
      ],
      "id": "727321aa-7efc-49b6-96d2-da8cf3523759"
    },
    {
      "cell_type": "code",
      "execution_count": 144,
      "metadata": {
        "outputId": "edc6f136-efb4-407a-e9fb-ab22e39fec03",
        "tags": []
      },
      "outputs": [
        {
          "output_type": "display_data",
          "metadata": {},
          "data": {
            "image/png": "[encoded data removed]"
          }
        }
      ],
      "source": [
        "x = np.linspace(-1,1,100)\n",
        "f = lambda x: x**2\n",
        "plt.plot(x,f(x))"
      ],
      "id": "bebce495-6a93-4fe6-8ef1-cd85892ab508"
    },
    {
      "cell_type": "markdown",
      "metadata": {},
      "source": [
        "**도함수 시각화**"
      ],
      "id": "274e805c-f8f6-433f-992b-14432d2c72a4"
    },
    {
      "cell_type": "code",
      "execution_count": 145,
      "metadata": {
        "outputId": "b037aca1-140b-487e-cfbc-1384caf8568f",
        "tags": []
      },
      "outputs": [
        {
          "output_type": "display_data",
          "metadata": {},
          "data": {
            "image/png": "[encoded data removed]"
          }
        }
      ],
      "source": [
        "x = np.linspace(-1,1,100)\n",
        "f = lambda x: x**2\n",
        "ff = derivate(f)\n",
        "plt.plot(x,f(x),label=r'$f(x)=x^2$')\n",
        "plt.plot(x,ff(x),label=r'$ff(x)=2x$')\n",
        "plt.legend()"
      ],
      "id": "ebdf5262-355d-4cb9-84e5-67362f7004f3"
    },
    {
      "cell_type": "markdown",
      "metadata": {},
      "source": [
        "`#`\n",
        "\n",
        "`# 예제4` – 함수들의 리스트"
      ],
      "id": "f1ad6cb7-30de-4462-bf12-e36d75fc323c"
    },
    {
      "cell_type": "code",
      "execution_count": 159,
      "metadata": {
        "outputId": "de6efcbe-75da-480d-9f0e-c0568c28b89b",
        "tags": []
      },
      "outputs": [],
      "source": [
        "f_list = [lambda x: x**2, lambda x: np.cos(5*x)]"
      ],
      "id": "dfe5def6-182a-40d7-a800-740aba04b9e8"
    },
    {
      "cell_type": "code",
      "execution_count": 163,
      "metadata": {
        "outputId": "d78a5820-f4f7-44e3-c688-35dee352668e",
        "tags": []
      },
      "outputs": [
        {
          "output_type": "display_data",
          "metadata": {},
          "data": {
            "image/png": "[encoded data removed]"
          }
        }
      ],
      "source": [
        "x = np.linspace(0,1,100)\n",
        "for f in f_list: \n",
        "    plt.plot(x,f(x),'--')"
      ],
      "id": "3be4784a-9a26-4844-ab0f-3cd8dfef90a6"
    },
    {
      "cell_type": "code",
      "execution_count": 169,
      "metadata": {
        "tags": []
      },
      "outputs": [],
      "source": [
        "ff_list = list(map(derivate,f_list))"
      ],
      "id": "b658b51a-e2ba-40ad-8b8f-d2580dbe0984"
    },
    {
      "cell_type": "code",
      "execution_count": 170,
      "metadata": {
        "tags": []
      },
      "outputs": [
        {
          "output_type": "display_data",
          "metadata": {},
          "data": {
            "image/png": "[encoded data removed]"
          }
        }
      ],
      "source": [
        "x = np.linspace(0,1,100)\n",
        "for ff in ff_list: \n",
        "    plt.plot(x,ff(x),'--')"
      ],
      "id": "129f5475-a70f-4048-9273-415e7bcd426b"
    },
    {
      "cell_type": "markdown",
      "metadata": {},
      "source": [
        "`#`\n",
        "\n",
        "## C. 정리\n",
        "\n",
        "`-` 지금까지 개념\n",
        "\n",
        "-   함수: 변수를 입력으로 받아서 변수를 출력하는 개념\n",
        "-   변수: 어떠한 값을 저장하는 용도로 쓰거나 함수의 입력 혹은 출력으로\n",
        "    사용함\n",
        "\n",
        "`-` R과 구별되는 파이썬의 독특한 테크닉 (부제: 파이썬에서 함수를 잘\n",
        "쓰려면?)\n",
        "\n",
        "-   변수든 함수이든 둘다 인스턴스임. (즉 어떠한 클래스에서 찍힌 똑같은\n",
        "    오브젝트라는 의미)\n",
        "-   변수를 함수처럼: 메소드 `lst.append(1)`은 마치 `append(lst,1)`와\n",
        "    같은 함수로 쓸 수 있음\n",
        "-   함수를 변수처럼($\\star$): 함수자체를 함수의 입력으로 혹은 출력으로\n",
        "    쓸 수도 있음. 함수를 특정 값처럼 생각해서 함수들의 list를 만들 수도\n",
        "    있다.\n",
        "\n",
        "## D. callable object\n",
        "\n",
        "`-` 함수 오브젝트의 비밀?"
      ],
      "id": "096b2d5a-b24f-4f16-aa4e-c73f9093cdff"
    },
    {
      "cell_type": "code",
      "execution_count": 198,
      "metadata": {
        "tags": []
      },
      "outputs": [],
      "source": [
        "f = lambda x: x+1"
      ],
      "id": "e13c0122-af8b-4f5a-93b1-eec4f423959e"
    },
    {
      "cell_type": "code",
      "execution_count": 203,
      "metadata": {
        "tags": []
      },
      "outputs": [],
      "source": [
        "f(100) # 이게 왜 가능하지? "
      ],
      "id": "2e7d013f-faa2-49ea-8a7d-0ce032ca5ddb"
    },
    {
      "cell_type": "code",
      "execution_count": 205,
      "metadata": {
        "tags": []
      },
      "outputs": [],
      "source": [
        "f.__call__(100) # f(100)"
      ],
      "id": "78c452d5-ad33-4d5b-aaf8-20e8434a1bad"
    },
    {
      "cell_type": "code",
      "execution_count": 214,
      "metadata": {
        "outputId": "1c17f21c-5e8e-4567-8768-76c6a2447efc",
        "tags": []
      },
      "outputs": [],
      "source": [
        "set(dir(f)) & {'__call__'}"
      ],
      "id": "133fdc17-0932-459b-9eed-a5fc92d6ed0c"
    },
    {
      "cell_type": "markdown",
      "metadata": {},
      "source": [
        "-   함수 오브젝트에는 숨겨진 기능 `__call__`이 있다."
      ],
      "id": "f1ab5ed8-cda0-4cf2-920e-ec634a517bdb"
    },
    {
      "cell_type": "code",
      "execution_count": 188,
      "metadata": {
        "outputId": "82346289-eb7f-4001-c45a-d8cb3f4ac2df",
        "tags": []
      },
      "outputs": [],
      "source": [
        "f.__call__(3) # f(3)"
      ],
      "id": "68849a67-b325-4bba-922e-87897c14d2ce"
    },
    {
      "cell_type": "code",
      "execution_count": 189,
      "metadata": {
        "outputId": "fd30ef66-be33-43b2-e4c8-92c54ee7756e",
        "tags": []
      },
      "outputs": [],
      "source": [
        "f.__call__(4) # f(4)"
      ],
      "id": "bf0a31c3-9b20-4d02-a63d-bfd337e443a7"
    },
    {
      "cell_type": "markdown",
      "metadata": {},
      "source": [
        "-   여기에 우리가 정의한 내용이 있다.\n",
        "\n",
        "`-` 함수처럼 쓸 수 없는 인스턴스는 단지 `__call__`이 없는 것일 뿐이다."
      ],
      "id": "c0e6032d-b350-4faf-9f3b-95d8dc80a7af"
    },
    {
      "cell_type": "code",
      "execution_count": 216,
      "metadata": {
        "tags": []
      },
      "outputs": [],
      "source": [
        "class Guebin:\n",
        "    def __init__(self):\n",
        "        self.name = 'guebin'"
      ],
      "id": "0b5e8b67-f18b-4f95-adf7-18b5b8a91af4"
    },
    {
      "cell_type": "code",
      "execution_count": 217,
      "metadata": {
        "tags": []
      },
      "outputs": [],
      "source": [
        "a = Guebin()"
      ],
      "id": "4bb76e92-c89b-461b-ba65-0f66a2f5125c"
    },
    {
      "cell_type": "code",
      "execution_count": 221,
      "metadata": {
        "outputId": "dc0f5f87-6e97-403b-c951-9702963cf680",
        "tags": []
      },
      "outputs": [],
      "source": [
        "a()"
      ],
      "id": "ef3e7e83-47fd-45e8-9607-36c5db446b01"
    },
    {
      "cell_type": "markdown",
      "metadata": {},
      "source": [
        "-   callable이 아니라고 한다."
      ],
      "id": "5f99857d-022a-45a9-8366-b57ab21786f5"
    },
    {
      "cell_type": "code",
      "execution_count": 224,
      "metadata": {
        "tags": []
      },
      "outputs": [],
      "source": [
        "class Guebin2:\n",
        "    def __init__(self):\n",
        "        self.name = 'guebin'    \n",
        "    def __call__(self):\n",
        "        print(self.name)"
      ],
      "id": "dc0167c3-6916-45e5-abc7-c1e802da0107"
    },
    {
      "cell_type": "code",
      "execution_count": 225,
      "metadata": {
        "tags": []
      },
      "outputs": [],
      "source": [
        "b = Guebin2()"
      ],
      "id": "9abe5472-5de7-41fa-9e86-10560fad7ae8"
    },
    {
      "cell_type": "code",
      "execution_count": 226,
      "metadata": {
        "outputId": "64356ed3-7b81-4f96-c7d1-2ecbceb6ea92",
        "tags": []
      },
      "outputs": [
        {
          "output_type": "stream",
          "name": "stdout",
          "text": [
            "guebin"
          ]
        }
      ],
      "source": [
        "b()"
      ],
      "id": "cc870e23-a3a8-4fc0-8373-42cb2ff39262"
    },
    {
      "cell_type": "markdown",
      "metadata": {},
      "source": [
        "-   b는 callable object! 즉 숨겨진 메서드로 `__call__`를 가진 오브젝트!\n",
        "-   `Guebin`는 callable object를 만들지 못하지만 `Guebin2`는 callable\n",
        "    object를 만든다.\n",
        "\n",
        "> 파이썬의 비밀: `f()`와 같이 쓸 수 있는 오브젝트는 단지 `__call__` 이\n",
        "> 정의되어있는 오브젝트일 뿐이다.\n",
        "\n",
        "`-` callable 을 체크하는 방법"
      ],
      "id": "11dc5ed1-69de-4b2f-88ea-726bc8be2a72"
    },
    {
      "cell_type": "code",
      "execution_count": 227,
      "metadata": {
        "tags": []
      },
      "outputs": [],
      "source": [
        "set(dir(b)) & {'__call__'}"
      ],
      "id": "faee57b1-a02d-4b10-86a6-522a35bb452b"
    },
    {
      "cell_type": "code",
      "execution_count": 229,
      "metadata": {
        "tags": []
      },
      "outputs": [],
      "source": [
        "isinstance(a,collections.abc.Callable)"
      ],
      "id": "190c8356-cfe9-4ad7-881b-960eedaed790"
    },
    {
      "cell_type": "code",
      "execution_count": 230,
      "metadata": {
        "tags": []
      },
      "outputs": [],
      "source": [
        "isinstance(b,collections.abc.Callable)"
      ],
      "id": "57c9e8a9-733f-4572-8429-149cdfbfb28f"
    },
    {
      "cell_type": "markdown",
      "metadata": {},
      "source": [
        "# 5. `__iter__` ($\\star\\star\\star\\star\\star$)\n",
        "\n",
        "## A. for문의 복습\n",
        "\n",
        "`-` 아래와 같은 예제들을 관찰하여 for문을 복습하자.\n",
        "\n",
        "`# 예시1` – `[1,2,3,4]`"
      ],
      "id": "2b593734-bb8b-4c02-8c16-c6e5763e0552"
    },
    {
      "cell_type": "code",
      "execution_count": 317,
      "metadata": {
        "outputId": "c483f534-7c74-4ce7-a330-1949ef42759e",
        "tags": []
      },
      "outputs": [
        {
          "output_type": "stream",
          "name": "stdout",
          "text": [
            "1 <class 'int'>\n",
            "2 <class 'int'>\n",
            "3 <class 'int'>\n",
            "4 <class 'int'>"
          ]
        }
      ],
      "source": [
        "for i in [1,2,3,4]:\n",
        "    print(i,type(i))"
      ],
      "id": "ed0f75f2-97e8-4c2b-81c7-ab58288abf71"
    },
    {
      "cell_type": "markdown",
      "metadata": {},
      "source": [
        "`#`\n",
        "\n",
        "`# 예시2` – `(1,2,3,4)`"
      ],
      "id": "a4f06020-888c-476c-b769-e8cd6091675b"
    },
    {
      "cell_type": "code",
      "execution_count": 316,
      "metadata": {
        "outputId": "353dc292-b1f3-4aeb-b077-bf5ec6ffe64e",
        "tags": []
      },
      "outputs": [
        {
          "output_type": "stream",
          "name": "stdout",
          "text": [
            "1 <class 'int'>\n",
            "2 <class 'int'>\n",
            "3 <class 'int'>\n",
            "4 <class 'int'>"
          ]
        }
      ],
      "source": [
        "for i in (1,2,3,4):\n",
        "    print(i,type(i))"
      ],
      "id": "560dcae1-e77d-4243-83e5-f2e701c47ef8"
    },
    {
      "cell_type": "markdown",
      "metadata": {},
      "source": [
        "`#`\n",
        "\n",
        "`# 예시3` – `'1234'`"
      ],
      "id": "30e013a8-e954-4dfb-beb5-2cb5ade653a8"
    },
    {
      "cell_type": "code",
      "execution_count": 315,
      "metadata": {
        "outputId": "bc95a1c3-ed43-4387-c46b-012f323b0e77",
        "tags": []
      },
      "outputs": [
        {
          "output_type": "stream",
          "name": "stdout",
          "text": [
            "1 <class 'str'>\n",
            "2 <class 'str'>\n",
            "3 <class 'str'>\n",
            "4 <class 'str'>"
          ]
        }
      ],
      "source": [
        "for i in '1234':\n",
        "    print(i,type(i))"
      ],
      "id": "77ba8e3c-8567-44f4-af67-bc1597fee2c7"
    },
    {
      "cell_type": "markdown",
      "metadata": {},
      "source": [
        "`#`\n",
        "\n",
        "`# 예시4` – `5`"
      ],
      "id": "39c23fd2-420a-45d8-b3ef-dcd8471e4392"
    },
    {
      "cell_type": "code",
      "execution_count": 322,
      "metadata": {
        "outputId": "7331065e-f475-4dea-94f3-9c44682f8033",
        "tags": []
      },
      "outputs": [],
      "source": [
        "for i in 5:\n",
        "    print(i,type(i))"
      ],
      "id": "5d9cfc43-3b29-48fd-8186-7bc519eb13b6"
    },
    {
      "cell_type": "markdown",
      "metadata": {},
      "source": [
        "-   5가 출력되는게 합리적이지 않나?\n",
        "\n",
        "`-` 의문1:\n",
        "\n",
        "``` python\n",
        "for i in ???:\n",
        "    print(i)\n",
        "```\n",
        "\n",
        "에서 ??? 자리에 올수 있는 것이 무엇일까?\n",
        "\n",
        "`#`\n",
        "\n",
        "`# 예시5` – `[[1,2,3,4],[3,4,5,6]]`,\n",
        "`pd.DataFrame([[1,2,3,4],[3,4,5,6]])`"
      ],
      "id": "6b829844-72c8-42f4-9fa9-2b2187b2a0ae"
    },
    {
      "cell_type": "code",
      "execution_count": 324,
      "metadata": {
        "outputId": "32d7884e-e07c-4d94-96e1-196178b7205f",
        "tags": []
      },
      "outputs": [],
      "source": [
        "lst = [[1,2,3,4],[3,4,5,6]]\n",
        "lst"
      ],
      "id": "9658047e-90b7-4fa1-8fab-bb50ec9379f8"
    },
    {
      "cell_type": "code",
      "execution_count": 329,
      "metadata": {
        "outputId": "e4acc434-dcc7-4c94-dea6-c5885219a678",
        "tags": []
      },
      "outputs": [
        {
          "output_type": "stream",
          "name": "stdout",
          "text": [
            "[1, 2, 3, 4] <class 'list'>\n",
            "[3, 4, 5, 6] <class 'list'>"
          ]
        }
      ],
      "source": [
        "for l in lst:\n",
        "    print(l,type(l))"
      ],
      "id": "d35c1d94-487f-4799-a5c5-8c2e1fa10e22"
    },
    {
      "cell_type": "code",
      "execution_count": 330,
      "metadata": {
        "outputId": "dd5fc85d-a1fd-4a88-89ea-7b7d543dc104",
        "tags": []
      },
      "outputs": [
        {
          "output_type": "stream",
          "name": "stdout",
          "text": [
            "[1 2 3 4] <class 'numpy.ndarray'>\n",
            "[3 4 5 6] <class 'numpy.ndarray'>"
          ]
        }
      ],
      "source": [
        "for l in np.array(lst):\n",
        "    print(l,type(l))"
      ],
      "id": "0e0401ea-bb19-4606-9574-2153bc201642"
    },
    {
      "cell_type": "code",
      "execution_count": 334,
      "metadata": {
        "tags": []
      },
      "outputs": [
        {
          "output_type": "stream",
          "name": "stdout",
          "text": [
            "0 <class 'int'>\n",
            "1 <class 'int'>\n",
            "2 <class 'int'>\n",
            "3 <class 'int'>"
          ]
        }
      ],
      "source": [
        "for l in pd.DataFrame(lst):\n",
        "    print(l, type(l))"
      ],
      "id": "6a1f6912-aa9c-4868-97c3-bd210912cd4f"
    },
    {
      "cell_type": "markdown",
      "metadata": {},
      "source": [
        "-   뭐야? 아는 문법이긴 한데 이렇게 보니까 이상하네\n",
        "\n",
        "`-` 데이터프레임인 경우는 colname이 반복"
      ],
      "id": "b7ae90e0-1076-4f57-aafe-988dd854c7aa"
    },
    {
      "cell_type": "code",
      "execution_count": 338,
      "metadata": {
        "outputId": "58218170-0d99-4101-e901-6b80950b1899",
        "tags": []
      },
      "outputs": [],
      "source": [
        "dct = {'x':[1,2,3],'y':[2,3,4]}\n",
        "df = pd.DataFrame(dct)\n",
        "df"
      ],
      "id": "518df308-6a33-4403-9047-28cdaaf0b34e"
    },
    {
      "cell_type": "code",
      "execution_count": 339,
      "metadata": {
        "outputId": "9d430d96-23a7-4b4f-a24a-81d9e262af17",
        "tags": []
      },
      "outputs": [
        {
          "output_type": "stream",
          "name": "stdout",
          "text": [
            "x\n",
            "y"
          ]
        }
      ],
      "source": [
        "for colname in df:\n",
        "    print(colname)"
      ],
      "id": "4c32f33c-bc7e-4c8e-901e-06ecc0380bd0"
    },
    {
      "cell_type": "code",
      "execution_count": 340,
      "metadata": {
        "outputId": "9d430d96-23a7-4b4f-a24a-81d9e262af17",
        "tags": []
      },
      "outputs": [
        {
          "output_type": "stream",
          "name": "stdout",
          "text": [
            "x\n",
            "y"
          ]
        }
      ],
      "source": [
        "for key in dct:\n",
        "    print(key)"
      ],
      "id": "eb29d59b-e683-4341-8202-9fa1a9034231"
    },
    {
      "cell_type": "markdown",
      "metadata": {},
      "source": [
        "`-` 의문2: for의 출력결과는 어떻게 예측할 수 있을까?\n",
        "\n",
        "`#`\n",
        "\n",
        "## B. for문의 동작원리\n",
        "\n",
        "`-` 의문1의 해결: 아래의 ??? 자리에 올 수 있는 것은 dir()하여\n",
        "`__iter__`가 있는 object이다.\n",
        "\n",
        "``` python\n",
        "for i in ???:\n",
        "    print(i)\n",
        "```\n",
        "\n",
        "이러한 오브젝트를 iterable object라고 한다.\n",
        "\n",
        "`-` 예제1~4 확인"
      ],
      "id": "c7851dae-570d-4a27-be89-e77a48ab786c"
    },
    {
      "cell_type": "code",
      "execution_count": 351,
      "metadata": {
        "outputId": "0a9d27c7-6c25-434f-e929-7bf028f29757",
        "tags": []
      },
      "outputs": [],
      "source": [
        "lst = [1,2,3]\n",
        "#set(dir(lst)) & {'__iter__'}\n",
        "isinstance(lst,collections.abc.Iterable)"
      ],
      "id": "2d998290-f7f2-4067-9c06-8ca20f6f7eff"
    },
    {
      "cell_type": "code",
      "execution_count": 352,
      "metadata": {
        "outputId": "28e59b22-00ec-41a6-cf87-8ce59013989e",
        "tags": []
      },
      "outputs": [],
      "source": [
        "tpl = 1,2,3\n",
        "#set(dir(tpl)) & {'__iter__'}\n",
        "isinstance(tpl,collections.abc.Iterable)"
      ],
      "id": "38e33423-1cc4-4f2e-bd68-55ebc304ebf7"
    },
    {
      "cell_type": "code",
      "execution_count": 353,
      "metadata": {
        "outputId": "3dcff950-138c-48d2-82fb-3b406c53b20a",
        "tags": []
      },
      "outputs": [],
      "source": [
        "string = '123'\n",
        "#set(dir(string)) & {'__iter__'}\n",
        "isinstance(string,collections.abc.Iterable)"
      ],
      "id": "4c65d1eb-ad6c-4e9a-9a55-2758fee97b56"
    },
    {
      "cell_type": "code",
      "execution_count": 356,
      "metadata": {
        "outputId": "65364675-2006-489d-96f5-599d690e5088",
        "tags": []
      },
      "outputs": [],
      "source": [
        "a = 5\n",
        "#set(dir(a)) & {'__iter__'}\n",
        "isinstance(a,collections.abc.Iterable)"
      ],
      "id": "84b73884-afaa-43c9-9110-514d829e3718"
    },
    {
      "cell_type": "markdown",
      "metadata": {},
      "source": [
        "`-` `__iter__`의 역할: iterable object를 iterator로 만들 수 있다!"
      ],
      "id": "3c44c7a3-0ea5-4333-9585-8cf21fc9f0cb"
    },
    {
      "cell_type": "code",
      "execution_count": 411,
      "metadata": {
        "tags": []
      },
      "outputs": [],
      "source": [
        "lst = [1,22,-33]"
      ],
      "id": "13ea940f-2bdf-4ff8-98f5-75c2b89c214a"
    },
    {
      "cell_type": "code",
      "execution_count": 412,
      "metadata": {
        "tags": []
      },
      "outputs": [],
      "source": [
        "list_iterator = lst.__iter__()\n",
        "# list_iterator = iter(lst)"
      ],
      "id": "735eff0b-8590-4b7e-82de-c42674eafc56"
    },
    {
      "cell_type": "markdown",
      "metadata": {},
      "source": [
        "`-` iterator가 되면 무엇이 좋은가? -\\> 숨겨진 기능 `__next__`가 열린다."
      ],
      "id": "9aa7fc41-e30d-4d55-b391-aec2d89b5636"
    },
    {
      "cell_type": "code",
      "execution_count": 413,
      "metadata": {
        "outputId": "8389236e-5b28-40af-a23d-f0a98749fab1",
        "tags": []
      },
      "outputs": [],
      "source": [
        "set(dir(list_iterator)) & {'__next__'}"
      ],
      "id": "53c27368-a07b-493b-a336-75c15db1d517"
    },
    {
      "cell_type": "markdown",
      "metadata": {},
      "source": [
        "`-` 그래서 `__next__`의 기능은? -\\> 원소를 차례대로 꺼내준다 + 더 이상\n",
        "꺼낼 원소가 없으면 StopIteration Error를 발생시킨다."
      ],
      "id": "b286b1e9-ed54-4b5b-ab19-8583d38a6880"
    },
    {
      "cell_type": "code",
      "execution_count": 414,
      "metadata": {
        "outputId": "f7451487-9c18-457e-b99a-fb2a5549682f",
        "tags": []
      },
      "outputs": [],
      "source": [
        "next(list_iterator)\n",
        "# list_iterator.__next__() # 같은코드"
      ],
      "id": "486be605-eeea-47be-984d-dd9e8c32c6b0"
    },
    {
      "cell_type": "code",
      "execution_count": 415,
      "metadata": {
        "outputId": "e412f6af-7ba2-4531-eca1-7ae2afcaa08a",
        "tags": []
      },
      "outputs": [],
      "source": [
        "next(list_iterator)\n",
        "# list_iterator.__next__() # 같은코드"
      ],
      "id": "56abd546-130b-41b6-90de-603012647803"
    },
    {
      "cell_type": "code",
      "execution_count": 416,
      "metadata": {
        "outputId": "50ada37e-a84a-44d5-f8ec-5e57411189e4",
        "tags": []
      },
      "outputs": [],
      "source": [
        "next(list_iterator)\n",
        "# list_iterator.__next__() # 같은코드"
      ],
      "id": "fb306901-8b6b-4ec9-b8d0-19b8d7fe3d11"
    },
    {
      "cell_type": "code",
      "execution_count": 417,
      "metadata": {
        "outputId": "4dbd73dd-3ada-4920-eb5e-c9a788366f73",
        "tags": []
      },
      "outputs": [],
      "source": [
        "next(list_iterator)\n",
        "# list_iterator.__next__() # 같은코드"
      ],
      "id": "90d71c62-91a7-4699-b386-82bffa663f68"
    },
    {
      "cell_type": "markdown",
      "metadata": {},
      "source": [
        "`-` 참고로 아래들도 같은코드임"
      ],
      "id": "1842cba3-c7ea-4093-a453-2ffb264507b6"
    },
    {
      "cell_type": "code",
      "execution_count": 428,
      "metadata": {
        "tags": []
      },
      "outputs": [],
      "source": [
        "a = [100,200]\n",
        "a.__repr__(), repr(a)"
      ],
      "id": "6dee88be-eace-4bc2-88cd-09b0d231eb21"
    },
    {
      "cell_type": "code",
      "execution_count": 429,
      "metadata": {
        "tags": []
      },
      "outputs": [],
      "source": [
        "a = [100,200]\n",
        "a.__str__(), str(a)"
      ],
      "id": "45a73df9-d48c-42db-8eda-8ff62e4ff6ca"
    },
    {
      "cell_type": "code",
      "execution_count": 430,
      "metadata": {
        "tags": []
      },
      "outputs": [],
      "source": [
        "a = [100,200]\n",
        "a.__len__(), len(a)"
      ],
      "id": "f9cf6897-0d3c-4ef6-ae58-b8485be69eff"
    },
    {
      "cell_type": "code",
      "execution_count": 431,
      "metadata": {
        "tags": []
      },
      "outputs": [],
      "source": [
        "a = [100,200]\n",
        "a.__iter__(), iter(a)"
      ],
      "id": "564a5dea-ff3c-49d6-8823-c46691e76de0"
    },
    {
      "cell_type": "code",
      "execution_count": 432,
      "metadata": {
        "tags": []
      },
      "outputs": [],
      "source": [
        "a = iter([100,200])\n",
        "a.__next__(), next(a)"
      ],
      "id": "ef511e51-9fd2-4ef2-8ec7-144950e93c7f"
    },
    {
      "cell_type": "markdown",
      "metadata": {},
      "source": [
        "`-` for문의 동작원리\n",
        "\n",
        "``` python\n",
        "for i in iterable:\n",
        "    ...\n",
        "```\n",
        "\n",
        "1.  `__iter__` 실행: `.__iter__()` 혹은 `iter()`을 이용하여 iterable을\n",
        "    iterator로 만든다.\n",
        "\n",
        "2.  `__next__` 실행: 1에서 만들어진 iterator에서 `.__next__()` 함수를\n",
        "    호출한다. `.__next__()`함수를 호출했을때 StopIteration Error 이\n",
        "    나오면 반복을 멈추고, 그렇지 않으면 for문 블락안의 내용 (들여쓰기 된\n",
        "    내용) 을 실행한다.\n",
        "\n",
        "![](attachment:13wk-2_files/figure-ipynb/mermaid-figure-1.png)"
      ],
      "attachments": {
        "13wk-2_files/figure-ipynb/mermaid-figure-1.png": {
          "image/png": "[encoded data removed]"
        }
      },
      "id": "9353f685-e8ea-491b-b5e8-1606d904060d"
    },
    {
      "cell_type": "code",
      "execution_count": 441,
      "metadata": {
        "tags": []
      },
      "outputs": [
        {
          "output_type": "stream",
          "name": "stdout",
          "text": [
            "2\n",
            "3\n",
            "-2"
          ]
        }
      ],
      "source": [
        "# lst = [1,2,-3]\n",
        "# for l in lst:\n",
        "#     print(l+1)\n",
        "lst = [1,2,-3]\n",
        "list_iterator = iter(lst)\n",
        "l = next(list_iterator)\n",
        "print(l+1)\n",
        "l = next(list_iterator)\n",
        "print(l+1)\n",
        "l = next(list_iterator)\n",
        "print(l+1)\n",
        "l = next(list_iterator) # StopIteration Error발생 -- for문 멈춤"
      ],
      "id": "6c6ab050-009d-4978-8b1e-666305e7c5d1"
    },
    {
      "cell_type": "markdown",
      "metadata": {},
      "source": [
        "`-` 아래의 구조도 잘 돌아갈까?\n",
        "\n",
        "``` python\n",
        "for i in iterator:\n",
        "    print(i)\n",
        "```"
      ],
      "id": "4d3d42cb-4b0a-4e6f-a239-74ec73108de0"
    },
    {
      "cell_type": "code",
      "execution_count": 444,
      "metadata": {
        "tags": []
      },
      "outputs": [
        {
          "output_type": "stream",
          "name": "stdout",
          "text": [
            "2\n",
            "3\n",
            "-2"
          ]
        }
      ],
      "source": [
        "lst = [1,2,-3]\n",
        "for l in iter(lst): # 당연히 되겠지?\n",
        "    print(l+1)"
      ],
      "id": "e8c9d92c-5f69-48f8-967b-ada8ce666fcc"
    },
    {
      "cell_type": "markdown",
      "metadata": {},
      "source": [
        "> 얼핏드는 생각: iterator일 경우와 iterable일 경우로 나누어서 로직을\n",
        "> 짜면 좋을 것같다. 즉 iterator인 경우 `__iter__`의 실행과정없이 바로\n",
        "> `__next__`를 실행하면 될 것 같다.\n",
        "\n",
        "> 더 좋은 생각: iterator일 경우도 `__iter__`를 따로 정의해서 자기자신을\n",
        "> return하도록 설정하는 트릭을 쓴다면 위의 다이어그램을 별도로 수정할\n",
        "> 필요가 없다.\n",
        "\n",
        "`-` 요약\n",
        "\n",
        "-   iterable object는 숨겨진 기능으로 `__iter__`를 가진다. (`__next__`는\n",
        "    없음)\n",
        "-   iterator는 숨겨진 기능으로 `__iter__`와 `__next__`를 가진다. 따라서\n",
        "    정의상 iterator는 그 자체로 iterable object가 된다!\n",
        "-   iterator의 `__iter__`는 자기자신을 리턴한다.\n",
        "\n",
        "`-` 의문2의 해결: for의 출력결과는 어떻게 예측할 수 있을까? iterator를\n",
        "만들어서 `.__next__()`의 출력값을 확인하면 알 수 있다."
      ],
      "id": "89937069-5c55-4973-943e-cebed72c4241"
    },
    {
      "cell_type": "code",
      "execution_count": 258,
      "metadata": {
        "tags": []
      },
      "outputs": [],
      "source": [
        "df_itertor = iter(df)"
      ],
      "id": "12aad317-3bf4-43c0-badf-d5a9ddcf5e73"
    },
    {
      "cell_type": "code",
      "execution_count": 259,
      "metadata": {
        "outputId": "57e9007f-10ac-493c-e10d-865c9964dba2",
        "tags": []
      },
      "outputs": [],
      "source": [
        "next(df_itertor)"
      ],
      "id": "e0639ed1-9049-48b0-8767-4487fcfdd6bc"
    },
    {
      "cell_type": "code",
      "execution_count": 260,
      "metadata": {
        "outputId": "97aef310-0355-4f61-97d5-8764b302aa97",
        "tags": []
      },
      "outputs": [],
      "source": [
        "next(df_itertor)"
      ],
      "id": "5343c61a-a80b-420e-869d-ce7a69618b81"
    },
    {
      "cell_type": "code",
      "execution_count": 261,
      "metadata": {
        "outputId": "732ac58c-cf5b-45c4-8ddb-f21a44d5187e",
        "tags": []
      },
      "outputs": [],
      "source": [
        "next(df_itertor)"
      ],
      "id": "6e177e76-4828-4f91-bd47-7e316ac31884"
    },
    {
      "cell_type": "markdown",
      "metadata": {},
      "source": [
        "## C. 사용자정의 이터레이터\n",
        "\n",
        "`-` 내가 이터레이터를 만들어보자.\n",
        "\n",
        "`-` “가위”를 내는 순간 for문이 멈추도록 하는 이터레이터를 만들자."
      ],
      "id": "04165fcd-b69b-4435-a389-5d1632dc9996"
    },
    {
      "cell_type": "code",
      "execution_count": 8,
      "metadata": {
        "tags": []
      },
      "outputs": [],
      "source": [
        "class RPS_ITERATOR: # 가위를 내는순간 for문이 멈추도록 하는 이터레이터를 만들자\n",
        "    def __init__(self):\n",
        "        self.action_space = [\"가위\",\"바위\",\"보\"]\n",
        "        self.action = None \n",
        "    def __iter__(self):\n",
        "        return self\n",
        "    def __next__(self): \n",
        "        self.action = np.random.choice(self.action_space)\n",
        "        if self.action == \"가위\":\n",
        "            print(\"가위를 뽑았습니다. for문을 탈출합니다\")\n",
        "            raise(StopIteration)\n",
        "        else: \n",
        "            return self.action "
      ],
      "id": "19219149-de2e-42e5-ab5e-cc397b34cf48"
    },
    {
      "cell_type": "code",
      "execution_count": 9,
      "metadata": {
        "tags": []
      },
      "outputs": [],
      "source": [
        "player = RPS_ITERATOR()"
      ],
      "id": "16518a9e-60fc-46e2-8ab3-f72b9f439a0f"
    },
    {
      "cell_type": "code",
      "execution_count": 17,
      "metadata": {
        "tags": []
      },
      "outputs": [
        {
          "output_type": "stream",
          "name": "stdout",
          "text": [
            "보\n",
            "바위\n",
            "보\n",
            "바위\n",
            "보\n",
            "보\n",
            "가위를 뽑았습니다. for문을 탈출합니다"
          ]
        }
      ],
      "source": [
        "for action in player:\n",
        "    print(action)"
      ],
      "id": "4a0fbe92-6b9f-418e-84a7-78867545c386"
    },
    {
      "cell_type": "markdown",
      "metadata": {},
      "source": [
        "## D. `range()`\n",
        "\n",
        "`-` 파이썬에서 for문을 처음 배울 때: range(5)를 써라!"
      ],
      "id": "058e6156-cb8b-4aea-878c-f3ed3e70475a"
    },
    {
      "cell_type": "code",
      "execution_count": 20,
      "metadata": {
        "outputId": "b6ec1eae-f076-47b5-e059-f59dd48258a1",
        "tags": []
      },
      "outputs": [
        {
          "output_type": "stream",
          "name": "stdout",
          "text": [
            "0\n",
            "1\n",
            "2\n",
            "3\n",
            "4"
          ]
        }
      ],
      "source": [
        "for i in range(5):\n",
        "    print(i)"
      ],
      "id": "f335d21c-de80-4ec7-8d61-19cb4f9f6cf5"
    },
    {
      "cell_type": "markdown",
      "metadata": {},
      "source": [
        "-   range(5)가 도데체 무엇이길래?\n",
        "\n",
        "`-` `range`는 클래스이고, `range(5)`는 `range` 클래스에서 찍힌 iterable\n",
        "한 인스턴스이다."
      ],
      "id": "d7802518-3c4f-4e80-b519-679eaad7cb00"
    },
    {
      "cell_type": "code",
      "execution_count": 96,
      "metadata": {
        "tags": []
      },
      "outputs": [
        {
          "output_type": "stream",
          "name": "stdout",
          "text": [
            "True\n",
            "False"
          ]
        }
      ],
      "source": [
        "range_ins = range(5)\n",
        "print(isinstance(range_ins,collections.abc.Iterable))\n",
        "print(isinstance(range_ins,collections.abc.Iterator))"
      ],
      "id": "8bf43826-6b3c-474d-9187-67bdb1d78ea7"
    },
    {
      "cell_type": "markdown",
      "metadata": {},
      "source": [
        "`-` `range_ins = range(5)` 언제든지 iterator로 바꿀 수 있다.\n",
        "(이터러블하니까..)"
      ],
      "id": "acf74599-b0a2-4669-ab43-a99ffd0d60b0"
    },
    {
      "cell_type": "code",
      "execution_count": 97,
      "metadata": {
        "outputId": "8a8b7e9d-9e46-4f9d-881c-2533bf70ea03",
        "tags": []
      },
      "outputs": [
        {
          "output_type": "stream",
          "name": "stdout",
          "text": [
            "True\n",
            "True"
          ]
        }
      ],
      "source": [
        "range_iterator = iter(range_ins)\n",
        "print(isinstance(range_iterator,collections.abc.Iterable))\n",
        "print(isinstance(range_iterator,collections.abc.Iterator))"
      ],
      "id": "729e15b7-f06a-4a3e-9286-8a299603b4d0"
    },
    {
      "cell_type": "markdown",
      "metadata": {},
      "source": [
        "`-` for문에서 range(5)가 행동하는 방법?"
      ],
      "id": "ec9f4a20-dd82-4b2d-8fc5-0599a0f92bb6"
    },
    {
      "cell_type": "code",
      "execution_count": 98,
      "metadata": {
        "outputId": "b0791a36-af39-4d38-ff7c-67e37aefebfb",
        "tags": []
      },
      "outputs": [],
      "source": [
        "range_iterator.__next__()"
      ],
      "id": "5a8301c2-6b23-413c-b8d1-70e56b5fa748"
    },
    {
      "cell_type": "code",
      "execution_count": 99,
      "metadata": {
        "outputId": "3d4b2701-f007-4851-82f0-5e0418cc275b",
        "tags": []
      },
      "outputs": [],
      "source": [
        "range_iterator.__next__()"
      ],
      "id": "fc67b2af-0d41-49db-a22c-9e52f38c0d10"
    },
    {
      "cell_type": "code",
      "execution_count": 100,
      "metadata": {
        "outputId": "a2645340-ecd9-486c-fde1-88d0bbb8c11a",
        "tags": []
      },
      "outputs": [],
      "source": [
        "range_iterator.__next__()"
      ],
      "id": "38387bd4-a40e-4be2-8b6d-888b457ad0f5"
    },
    {
      "cell_type": "code",
      "execution_count": 101,
      "metadata": {
        "outputId": "cc3dc5a5-3e7f-4fec-da71-3f8e04fc93b9",
        "tags": []
      },
      "outputs": [],
      "source": [
        "range_iterator.__next__()"
      ],
      "id": "d1f80d80-896d-4864-8215-e753e75b0790"
    },
    {
      "cell_type": "code",
      "execution_count": 102,
      "metadata": {
        "outputId": "912170ff-cdb1-4dcc-f699-f0326a9e633b",
        "tags": []
      },
      "outputs": [],
      "source": [
        "range_iterator.__next__()"
      ],
      "id": "7b82969a-9417-49d0-9d87-206f842882d1"
    },
    {
      "cell_type": "code",
      "execution_count": 103,
      "metadata": {
        "outputId": "b90ad135-65ea-4be9-a62d-79d0bf232fe9",
        "tags": []
      },
      "outputs": [],
      "source": [
        "range_iterator.__next__()"
      ],
      "id": "4627bbe9-a586-4f68-a673-537288e144b7"
    },
    {
      "cell_type": "markdown",
      "metadata": {},
      "source": [
        "> 파이썬의 작은 비밀: `range`은 `iterable` 오브젝트를 찍어내는\n",
        "> 클래스였음\n",
        "\n",
        "## E. `zip`\n",
        "\n",
        "`-` 이터레이터의 개념을 알면 for문에 대한 이해도가 대폭 상승한다."
      ],
      "id": "ea219040-78bd-4c8f-958a-649cd3066be9"
    },
    {
      "cell_type": "code",
      "execution_count": 56,
      "metadata": {
        "outputId": "c63cf328-5517-4cfe-c073-d5072d38ec49",
        "tags": []
      },
      "outputs": [
        {
          "output_type": "stream",
          "name": "stdout",
          "text": [
            "1 a\n",
            "2 b\n",
            "3 c"
          ]
        }
      ],
      "source": [
        "for i,j in zip([1,2,3],'abc'):\n",
        "    print(i,j)"
      ],
      "id": "e3a0f990-1ff3-4002-9c6f-3262207c391f"
    },
    {
      "cell_type": "markdown",
      "metadata": {},
      "source": [
        "-   `zip([1,2,3],'abc')`은 뭐지?\n",
        "\n",
        "`-` `zip`은 클래스이고, `zip([1,2,3],'abc')`는 `zip` 클래스에서 찍힌\n",
        "iterator 이다."
      ],
      "id": "0ee717a9-16c0-4f63-95d7-df1a170a833e"
    },
    {
      "cell_type": "code",
      "execution_count": 104,
      "metadata": {
        "tags": []
      },
      "outputs": [
        {
          "output_type": "stream",
          "name": "stdout",
          "text": [
            "True\n",
            "True"
          ]
        }
      ],
      "source": [
        "zip_instance = zip([1,2,3],'abc')\n",
        "print(isinstance(zip_instance,collections.abc.Iterable))\n",
        "print(isinstance(zip_instance,collections.abc.Iterator))"
      ],
      "id": "923d0e76-a317-4b45-9c77-ce0ed6915ca1"
    },
    {
      "cell_type": "code",
      "execution_count": 105,
      "metadata": {
        "tags": []
      },
      "outputs": [],
      "source": [
        "next(zip_instance)"
      ],
      "id": "7eb05210-01fa-4f54-aa67-54edd4d3aafc"
    },
    {
      "cell_type": "code",
      "execution_count": 106,
      "metadata": {
        "outputId": "a90e6eee-cdfe-4a55-932e-27e6ad458690",
        "tags": []
      },
      "outputs": [],
      "source": [
        "next(zip_instance)"
      ],
      "id": "b8780b74-b628-4927-add6-3067c06f1ac1"
    },
    {
      "cell_type": "code",
      "execution_count": 107,
      "metadata": {
        "outputId": "a4099f6a-d0d5-4879-ae50-d5a5eaeb84b5",
        "tags": []
      },
      "outputs": [],
      "source": [
        "next(zip_instance)"
      ],
      "id": "6edc36c0-1538-4952-820a-7f38413c60bf"
    },
    {
      "cell_type": "code",
      "execution_count": 108,
      "metadata": {
        "outputId": "5e795828-37c6-4320-9d19-aad2d20bcabb",
        "tags": []
      },
      "outputs": [],
      "source": [
        "next(zip_instance)"
      ],
      "id": "f66cb068-5fd9-4040-ba6a-6648028d69be"
    },
    {
      "cell_type": "markdown",
      "metadata": {},
      "source": [
        "> 파이썬의 작은 비밀: `zip`은 `iterator`를 찍어내는 클래스였음\n",
        "\n",
        "## F. `enumerate`\n",
        "\n",
        "`-` zip의 짝궁으로 enumerate가 있었음"
      ],
      "id": "94e9758e-488c-4787-aef9-c152c8e2366b"
    },
    {
      "cell_type": "code",
      "execution_count": 66,
      "metadata": {
        "outputId": "5b1c165f-7e78-4a96-8514-bd7ce0248199",
        "tags": []
      },
      "outputs": [
        {
          "output_type": "stream",
          "name": "stdout",
          "text": [
            "0 a\n",
            "1 b\n",
            "2 c"
          ]
        }
      ],
      "source": [
        "for i,s in enumerate('abc'):\n",
        "    print(i,s)"
      ],
      "id": "683f26ea-483d-4324-9b65-f73c6ab613e1"
    },
    {
      "cell_type": "markdown",
      "metadata": {},
      "source": [
        "`-` `enumerate('abc')`도 문법상 iterable object 아니면 iterator 임.\n",
        "$\\to$ 확인해보니 이터레이터!"
      ],
      "id": "c187d510-5689-40ef-86da-630a05f0cf00"
    },
    {
      "cell_type": "code",
      "execution_count": 110,
      "metadata": {
        "tags": []
      },
      "outputs": [
        {
          "output_type": "stream",
          "name": "stdout",
          "text": [
            "True\n",
            "True"
          ]
        }
      ],
      "source": [
        "enumerate_ins = enumerate('abc')\n",
        "print(isinstance(enumerate_ins,collections.abc.Iterable))\n",
        "print(isinstance(enumerate_ins,collections.abc.Iterator))"
      ],
      "id": "808a061b-13b3-4080-9650-67e0ad68797d"
    },
    {
      "cell_type": "code",
      "execution_count": 111,
      "metadata": {
        "tags": []
      },
      "outputs": [],
      "source": [
        "next(enumerate_ins)"
      ],
      "id": "f64f1794-ed08-4503-87ee-b2ef7affe20e"
    },
    {
      "cell_type": "code",
      "execution_count": 112,
      "metadata": {
        "tags": []
      },
      "outputs": [],
      "source": [
        "next(enumerate_ins)"
      ],
      "id": "8afa46f8-859a-4e48-bd01-ec8d55bb8ce0"
    },
    {
      "cell_type": "code",
      "execution_count": 113,
      "metadata": {
        "tags": []
      },
      "outputs": [],
      "source": [
        "next(enumerate_ins)"
      ],
      "id": "76b4ef90-5f3f-4c67-97a6-7102e8fe71ad"
    },
    {
      "cell_type": "code",
      "execution_count": 114,
      "metadata": {
        "tags": []
      },
      "outputs": [],
      "source": [
        "next(enumerate_ins)"
      ],
      "id": "68c47f86-0c46-4268-b4cd-df6601be03a4"
    },
    {
      "cell_type": "markdown",
      "metadata": {},
      "source": [
        "> 파이썬의 작은 비밀: `enumerate` 역시 `iterator`를 찍어내는 클래스다.\n",
        "\n",
        "> 파이썬의 비밀: iterator나 iterable object만 for문과 함께 사용할 수\n",
        "> 있다. (단, 예외적으로 `__getitem__` 이 정의된 경우에는 for문과 함께 쓸\n",
        "> 수 있음.)\n",
        "\n",
        "## G. `__getitem__()`\n",
        "\n",
        "`-` 예외"
      ],
      "id": "7627fcb0-8287-4d86-931e-7a232037e594"
    },
    {
      "cell_type": "code",
      "execution_count": 81,
      "metadata": {
        "tags": []
      },
      "outputs": [],
      "source": [
        "class Dummy:\n",
        "    def __getitem__(self):\n",
        "        pass"
      ],
      "id": "f924d02d-99d0-4f8e-b20c-76b840c4742e"
    },
    {
      "cell_type": "code",
      "execution_count": 85,
      "metadata": {
        "tags": []
      },
      "outputs": [],
      "source": [
        "dummy_ins = Dummy()\n",
        "isinstance(dummy_ins,collections.abc.Iterable)"
      ],
      "id": "9109ee68-194e-41a3-85ad-572b4a38294f"
    },
    {
      "cell_type": "markdown",
      "metadata": {},
      "source": [
        "-   이터러블이 아니라고 판단됨"
      ],
      "id": "28218c32-d833-453d-9b7c-ae214a931bf9"
    },
    {
      "cell_type": "code",
      "execution_count": 86,
      "metadata": {
        "tags": []
      },
      "outputs": [],
      "source": [
        "iter(dummy_ins)"
      ],
      "id": "42475a62-7d0c-4cd4-b1b6-9b6a2a010c66"
    },
    {
      "cell_type": "code",
      "execution_count": 89,
      "metadata": {
        "tags": []
      },
      "outputs": [],
      "source": [
        "isinstance(iter(dummy_ins),collections.abc.Iterable), isinstance(iter(dummy_ins),collections.abc.Iterator)"
      ],
      "id": "51620ec9-f3e1-46aa-b8cf-628ca412a395"
    },
    {
      "cell_type": "markdown",
      "metadata": {},
      "source": [
        "-   그런데 이터레이터가 되었음..\n",
        "\n",
        "# 6. 클래스와 인스턴스\n",
        "\n",
        "> [여기로\n",
        "> 가보자](https://guebin.github.io/PP2024/posts/11wk-2.html#a.-%ED%81%B4%EB%9E%98%EC%8A%A4-%EC%84%A0%EC%96%B8)\n",
        "\n",
        "참고1: 메소드의 첫 입력은 `self`가 아니어도 상관없음.\n",
        "\n",
        "참고2: class안에서 정의된 변수를 쓸때 무조건\n",
        "`self.변수이름`(=`인스턴스태명.변수이름`)와 같은 형식으로 쓰는건 아님.\n",
        "`BobRoss.변수이름`(=`클래스이름.변수이름`) 과 같이 self대신에 클래스의\n",
        "이름을 쓰는 경우도 있음.\n",
        "\n",
        "이러한 내용들은 왜 있는것일까? A에서는 참고2에 대하여 알아 볼 것이고\n",
        "B에서는 참고1에 대하여 알아 볼 것이다.\n",
        "\n",
        "## A. 인스턴스 변수, 클래스 변수\n",
        "\n",
        "`# 예제1` – 인스턴스변수"
      ],
      "id": "66237723-6310-4d21-82b1-870e541c7439"
    },
    {
      "cell_type": "code",
      "execution_count": 173,
      "metadata": {
        "tags": []
      },
      "outputs": [],
      "source": [
        "class GS25: \n",
        "    def __init__(self):\n",
        "        self.n_guests = 0 \n",
        "    def come(self,m):\n",
        "        self.n_guests = self.n_guests + m \n",
        "    def __repr__(self):\n",
        "        return f\"손님수(인스턴스) = {self.n_guests}\""
      ],
      "id": "b3d77080-813e-40d5-8bb9-8aa91df13f5a"
    },
    {
      "cell_type": "code",
      "execution_count": 166,
      "metadata": {
        "tags": []
      },
      "outputs": [],
      "source": [
        "store1 = GS25()"
      ],
      "id": "7f9f3ef7-ea96-477b-965c-ea7767732d8d"
    },
    {
      "cell_type": "code",
      "execution_count": 167,
      "metadata": {
        "tags": []
      },
      "outputs": [],
      "source": [
        "store1.come(2)\n",
        "store1.come(3)\n",
        "store1.come(5)"
      ],
      "id": "560249fc-248e-4365-ac4b-42d48d07276a"
    },
    {
      "cell_type": "code",
      "execution_count": 168,
      "metadata": {
        "tags": []
      },
      "outputs": [],
      "source": [
        "store1"
      ],
      "id": "22d85b50-8566-44f4-bd34-8cf39c1599d2"
    },
    {
      "cell_type": "code",
      "execution_count": 169,
      "metadata": {
        "tags": []
      },
      "outputs": [],
      "source": [
        "store2 = GS25()"
      ],
      "id": "b581cbbf-69e4-4ba4-9cea-b8f2a71855d8"
    },
    {
      "cell_type": "code",
      "execution_count": 170,
      "metadata": {
        "tags": []
      },
      "outputs": [],
      "source": [
        "store2.come(1)\n",
        "store2.come(1)\n",
        "store2.come(1)"
      ],
      "id": "b7b2b13e-7392-4819-8c5e-d604bba166d7"
    },
    {
      "cell_type": "code",
      "execution_count": 171,
      "metadata": {
        "tags": []
      },
      "outputs": [],
      "source": [
        "store2"
      ],
      "id": "3ea56590-864c-497b-9802-d3d574ed315b"
    },
    {
      "cell_type": "markdown",
      "metadata": {},
      "source": [
        "`-` 질문1: GS25는 총 몇개의 store를 가지고 있는가? –\\> 2개\n",
        "\n",
        "`-` 질문2: GS25는 모두 몇명의 손님이 왔는가? –\\> 10+3 = 13명\n",
        "\n",
        "`# 예제2` – 질문을 해결하기 위한 코드"
      ],
      "id": "3d06d408-0a0c-43c3-8d97-92387d2ebdeb"
    },
    {
      "cell_type": "code",
      "execution_count": 174,
      "metadata": {
        "tags": []
      },
      "outputs": [],
      "source": [
        "GS25.n_stores"
      ],
      "id": "4cd54d85-ee88-46a4-8d45-be56a4169c99"
    },
    {
      "cell_type": "code",
      "execution_count": 175,
      "metadata": {
        "tags": []
      },
      "outputs": [],
      "source": [
        "GS25.n_total_guests"
      ],
      "id": "0dac5dfb-ebb8-43ff-9a96-82c271f6ad98"
    },
    {
      "cell_type": "code",
      "execution_count": 176,
      "metadata": {
        "tags": []
      },
      "outputs": [],
      "source": [
        "GS25.n_stores = 0\n",
        "GS25.n_total_guests = 0 "
      ],
      "id": "ccd26364-050f-4b81-8398-76e44415dd25"
    },
    {
      "cell_type": "code",
      "execution_count": 177,
      "metadata": {
        "tags": []
      },
      "outputs": [],
      "source": [
        "GS25.n_stores, GS25.n_total_guests # 이게 가능하네??"
      ],
      "id": "161d5f00-dfaa-47e9-a4a3-8cb05a71d032"
    },
    {
      "cell_type": "code",
      "execution_count": 178,
      "metadata": {
        "tags": []
      },
      "outputs": [],
      "source": [
        "store1 = GS25()\n",
        "GS25.n_stores = GS25.n_stores + 1"
      ],
      "id": "821d2d2c-a57d-49b2-8662-a3d2e0134289"
    },
    {
      "cell_type": "code",
      "execution_count": 180,
      "metadata": {
        "tags": []
      },
      "outputs": [],
      "source": [
        "#store1.come(2)\n",
        "store1.n_guests = store1.n_guests + 2  \n",
        "GS25.n_total_guests = GS25.n_total_guests +2 \n",
        "#store1.come(3)\n",
        "store1.n_guests = store1.n_guests + 3 \n",
        "GS25.n_total_guests = GS25.n_total_guests + 3 \n",
        "#store1.come(5)\n",
        "store1.n_guests = store1.n_guests + 5\n",
        "GS25.n_total_guests = GS25.n_total_guests + 5 "
      ],
      "id": "8b80f2c0-5238-4332-b558-9ceaafe7cb51"
    },
    {
      "cell_type": "code",
      "execution_count": 181,
      "metadata": {
        "tags": []
      },
      "outputs": [],
      "source": [
        "store1"
      ],
      "id": "b1c18613-c5af-404f-b25c-f4a7f6722bb8"
    },
    {
      "cell_type": "code",
      "execution_count": 182,
      "metadata": {
        "tags": []
      },
      "outputs": [],
      "source": [
        "GS25.n_stores, GS25.n_total_guests"
      ],
      "id": "8afa3b7e-dcd1-4249-96a8-b77897dc1b32"
    },
    {
      "cell_type": "code",
      "execution_count": 183,
      "metadata": {
        "tags": []
      },
      "outputs": [],
      "source": [
        "store2 = GS25()\n",
        "GS25.n_stores = GS25.n_stores + 1 "
      ],
      "id": "e0dc5d0b-d94a-4172-9661-26500bd08882"
    },
    {
      "cell_type": "code",
      "execution_count": 184,
      "metadata": {
        "tags": []
      },
      "outputs": [],
      "source": [
        "#store2.come(1)\n",
        "store2.n_guests = store2.n_guests + 1  \n",
        "GS25.n_total_guests = GS25.n_total_guests + 1 \n",
        "#store2.come(1)\n",
        "store2.n_guests = store2.n_guests + 1  \n",
        "GS25.n_total_guests = GS25.n_total_guests + 1 \n",
        "#store2.come(1)\n",
        "store2.n_guests = store2.n_guests + 1  \n",
        "GS25.n_total_guests = GS25.n_total_guests + 1 "
      ],
      "id": "9328002a-6e3b-4539-b529-626474e03a33"
    },
    {
      "cell_type": "code",
      "execution_count": 185,
      "metadata": {
        "tags": []
      },
      "outputs": [],
      "source": [
        "store2"
      ],
      "id": "f0889abb-a7fe-4610-bd62-d3bc9d6bb597"
    },
    {
      "cell_type": "code",
      "execution_count": 186,
      "metadata": {
        "tags": []
      },
      "outputs": [],
      "source": [
        "GS25.n_stores, GS25.n_total_guests "
      ],
      "id": "8d17e4c5-697f-4e0e-a4c3-3084d1cb91d0"
    },
    {
      "cell_type": "markdown",
      "metadata": {},
      "source": [
        "`#`\n",
        "\n",
        "`# 예제3` – 질문을 해결하기 위한 코드 (2)"
      ],
      "id": "4aba918b-85a7-49e7-81a7-427d5fed0b60"
    },
    {
      "cell_type": "code",
      "execution_count": 192,
      "metadata": {
        "tags": []
      },
      "outputs": [],
      "source": [
        "class GS25: \n",
        "    n_stores = 0\n",
        "    n_total_guests = 0\n",
        "    def __init__(self):\n",
        "        self.n_guests = 0 \n",
        "        GS25.n_stores = GS25.n_stores + 1 \n",
        "    def come(self,m):\n",
        "        self.n_guests = self.n_guests + m \n",
        "        GS25.n_total_guests = GS25.n_total_guests + m\n",
        "    def __repr__(self):\n",
        "        text = (\n",
        "            f\"GS25-{GS25.n_stores}호점\\n\"\n",
        "            f\"손님수(인스턴스) = {self.n_guests}\\n\"\n",
        "            f\"총손님수(클래스) = {GS25.n_total_guests}\"    \n",
        "        )\n",
        "        return text "
      ],
      "id": "a28c511d-69c6-4901-9321-0f82322d7ee7"
    },
    {
      "cell_type": "code",
      "execution_count": 193,
      "metadata": {
        "tags": []
      },
      "outputs": [],
      "source": [
        "store1 = GS25()\n",
        "store1"
      ],
      "id": "5c3ddc97-07bc-431b-9092-fd9dd2439088"
    },
    {
      "cell_type": "code",
      "execution_count": 194,
      "metadata": {
        "tags": []
      },
      "outputs": [],
      "source": [
        "store1.come(2)\n",
        "store1.come(3)\n",
        "store1.come(5)\n",
        "store1"
      ],
      "id": "22892ae9-78ce-47d4-a166-e5cc6e9bd75b"
    },
    {
      "cell_type": "code",
      "execution_count": 195,
      "metadata": {
        "tags": []
      },
      "outputs": [],
      "source": [
        "store2 = GS25()\n",
        "store2"
      ],
      "id": "c4223c0e-446c-414b-a2fc-6a4bb56c6301"
    },
    {
      "cell_type": "code",
      "execution_count": 196,
      "metadata": {
        "tags": []
      },
      "outputs": [],
      "source": [
        "store2.come(1)\n",
        "store2.come(1)\n",
        "store2.come(1)\n",
        "store2"
      ],
      "id": "7de7586f-6428-4446-bb1b-489a88f511f3"
    },
    {
      "cell_type": "markdown",
      "metadata": {},
      "source": [
        "**요약**\n",
        "\n",
        "1.  클래스내에서 사용할 수 있는 변수는 “클래스변수”, “인스턴스변수” 가\n",
        "    있으며, 클래스변수는 클래스 오브젝트에, 인스턴스 변수는 인스턴스\n",
        "    오브젝트에 귀속된다.\n",
        "2.  클래스변수는 class 이후에 변수명을 나열하여 선언하고, 인스턴스변수는\n",
        "    `__init__(self)` 에서 정리하여 선언한다.\n",
        "3.  클래스변수를 사용할때는 `클래스이름.변수이름` 와 같은 형식으로,\n",
        "    인스턴스변수를 사용할때는 `self.변수이름`와 같은 형식으로 쓴다.\n",
        "\n",
        "`# 예제4` – 인스턴스변수를 따로 선언하지 않아도, 클래스변수가 선언되어\n",
        "있으면 그 클래스에서 태어난 인스턴스는 클래스변수를 빌려쓸 수 있다."
      ],
      "id": "b4a9c38e-dc63-4f5e-88f3-46e5ef93b7fe"
    },
    {
      "cell_type": "code",
      "execution_count": 209,
      "metadata": {
        "tags": []
      },
      "outputs": [],
      "source": [
        "class Klass:\n",
        "    a = 100 # a는 클래스 변수"
      ],
      "id": "8ada0e2f-55a4-4409-a670-c1bab9d910cc"
    },
    {
      "cell_type": "code",
      "execution_count": 210,
      "metadata": {
        "tags": []
      },
      "outputs": [],
      "source": [
        "Klass.a"
      ],
      "id": "ebc802ec-bb54-44eb-bec0-5d8ea70c2d4b"
    },
    {
      "cell_type": "code",
      "execution_count": 211,
      "metadata": {
        "tags": []
      },
      "outputs": [],
      "source": [
        "ins = Klass()"
      ],
      "id": "362621d9-934a-4d9e-8d34-5682d408550a"
    },
    {
      "cell_type": "code",
      "execution_count": 212,
      "metadata": {
        "tags": []
      },
      "outputs": [],
      "source": [
        "ins.a # 클래스변수인데 빌려쓰고있음"
      ],
      "id": "4ed1cd09-007f-4c40-be71-703687f4d508"
    },
    {
      "cell_type": "markdown",
      "metadata": {},
      "source": [
        "`#`\n",
        "\n",
        "`# 예제5` – 인스턴스가 클래스변수를 빌려쓰는 경우 클래스변수를 바꾸면\n",
        "자동으로 인스턴스 변수도 바뀐다."
      ],
      "id": "611d7d57-736a-4118-be7e-03ecb1d6471f"
    },
    {
      "cell_type": "code",
      "execution_count": 213,
      "metadata": {
        "tags": []
      },
      "outputs": [],
      "source": [
        "class Klass:\n",
        "    a = 0 # a는 클래스 변수"
      ],
      "id": "497214c5-19eb-4b6e-8b36-45f07ce3c4a7"
    },
    {
      "cell_type": "code",
      "execution_count": 214,
      "metadata": {
        "tags": []
      },
      "outputs": [],
      "source": [
        "Klass.a"
      ],
      "id": "92a22747-cc2e-4568-8610-048d3bc18623"
    },
    {
      "cell_type": "code",
      "execution_count": 215,
      "metadata": {
        "tags": []
      },
      "outputs": [],
      "source": [
        "ins1 = Klass()"
      ],
      "id": "20ed6c39-578d-4e32-afa5-5200eca365be"
    },
    {
      "cell_type": "code",
      "execution_count": 216,
      "metadata": {
        "tags": []
      },
      "outputs": [],
      "source": [
        "ins2 = Klass()"
      ],
      "id": "b50006fc-1dcc-4430-af2f-38308ff70b9a"
    },
    {
      "cell_type": "code",
      "execution_count": 217,
      "metadata": {
        "tags": []
      },
      "outputs": [],
      "source": [
        "ins1.a, ins2.a "
      ],
      "id": "c792c2d8-c581-4e9d-a78c-4851290cd5d6"
    },
    {
      "cell_type": "code",
      "execution_count": 218,
      "metadata": {
        "tags": []
      },
      "outputs": [],
      "source": [
        "Klass.a = 10"
      ],
      "id": "78347122-f2de-4380-9c95-a4a1d41c864b"
    },
    {
      "cell_type": "code",
      "execution_count": 219,
      "metadata": {
        "tags": []
      },
      "outputs": [],
      "source": [
        "ins1.a, ins2.a "
      ],
      "id": "ac0e3f17-6cd1-4d94-a5d7-5098cf16b4f5"
    },
    {
      "cell_type": "markdown",
      "metadata": {},
      "source": [
        "`#`\n",
        "\n",
        "`# 예제6` – 인스턴스변수와 클래스변수가 같은이름으로 동시에 선언된 경우,\n",
        "각각 독립적으로 행동한다."
      ],
      "id": "30366ea1-6ca8-4e55-b601-deb5a487d2cd"
    },
    {
      "cell_type": "code",
      "execution_count": 248,
      "metadata": {
        "tags": []
      },
      "outputs": [],
      "source": [
        "class Klass:\n",
        "    a = 0 # a는 클래스 변수\n",
        "    def __init__(self):\n",
        "        self.a = 1 # a는 인스턴스 변수 # self는 더이상 a를 클래스에서 빌렸지 않게됨 "
      ],
      "id": "18bc821c-0b10-4067-ae2c-06d055fed735"
    },
    {
      "cell_type": "code",
      "execution_count": 221,
      "metadata": {
        "tags": []
      },
      "outputs": [],
      "source": [
        "Klass.a"
      ],
      "id": "6e63a6d6-3b62-4ff2-8d8f-e6ea298504f4"
    },
    {
      "cell_type": "code",
      "execution_count": 222,
      "metadata": {
        "tags": []
      },
      "outputs": [],
      "source": [
        "ins = Klass()"
      ],
      "id": "a874193b-cb5c-4017-b40e-a4daaaca3989"
    },
    {
      "cell_type": "code",
      "execution_count": 223,
      "metadata": {
        "tags": []
      },
      "outputs": [],
      "source": [
        "ins.a"
      ],
      "id": "c7e75df5-1b93-4a69-bce2-8cdbc9ccf1e7"
    },
    {
      "cell_type": "code",
      "execution_count": 224,
      "metadata": {
        "tags": []
      },
      "outputs": [],
      "source": [
        "Klass.a = 100\n",
        "Klass.a, ins.a "
      ],
      "id": "d055a2ad-d048-4f98-822e-97449fa4a140"
    },
    {
      "cell_type": "code",
      "execution_count": 225,
      "metadata": {
        "tags": []
      },
      "outputs": [],
      "source": [
        "ins.a = 200\n",
        "Klass.a, ins.a "
      ],
      "id": "59472dbf-b23e-4765-b08c-1d891468e294"
    },
    {
      "cell_type": "markdown",
      "metadata": {},
      "source": [
        "`#`\n",
        "\n",
        "`# 예제7` – 인스턴스가 클래스변수를 빌려쓰는 경우, 인스턴스 변수를\n",
        "변경하더라도 클래스변수가 변경되지 않는다. (대신 예제6과 같이\n",
        "인스턴스변수가 따로 독립적으로 생성되는 효과가 나온다)"
      ],
      "id": "27815235-4743-44ee-9297-9814182d99da"
    },
    {
      "cell_type": "code",
      "execution_count": 254,
      "metadata": {
        "tags": []
      },
      "outputs": [],
      "source": [
        "class Klass:\n",
        "    a = 0 # a는 클래스 변수"
      ],
      "id": "025ad1de-5c1b-4285-93d3-376e123e88fd"
    },
    {
      "cell_type": "code",
      "execution_count": 255,
      "metadata": {
        "tags": []
      },
      "outputs": [],
      "source": [
        "Klass.a"
      ],
      "id": "86d7f82a-bdc1-4940-84a8-64157ad4de6d"
    },
    {
      "cell_type": "code",
      "execution_count": 256,
      "metadata": {
        "tags": []
      },
      "outputs": [],
      "source": [
        "ins1 = Klass()\n",
        "ins2 = Klass()"
      ],
      "id": "71d0bbf7-af64-42f7-8e53-b6e204a0035c"
    },
    {
      "cell_type": "code",
      "execution_count": 257,
      "metadata": {
        "tags": []
      },
      "outputs": [],
      "source": [
        "ins1.a, ins2.a"
      ],
      "id": "cc919c23-9303-43b4-a56d-3c3a5579a816"
    },
    {
      "cell_type": "code",
      "execution_count": 258,
      "metadata": {
        "tags": []
      },
      "outputs": [],
      "source": [
        "Klass.a = 10"
      ],
      "id": "7d545e71-bddd-4d2f-ba64-55f0e95c7176"
    },
    {
      "cell_type": "code",
      "execution_count": 259,
      "metadata": {
        "tags": []
      },
      "outputs": [],
      "source": [
        "Klass.a, ins1.a, ins2.a"
      ],
      "id": "c23c28e5-f468-4e2d-acbe-5e1393461298"
    },
    {
      "cell_type": "code",
      "execution_count": 260,
      "metadata": {
        "tags": []
      },
      "outputs": [],
      "source": [
        "ins1.a = 100 # 이순간 더이상 ins1은 클래스에 있는 a를 빌려쓰는게 아니고 독자적으로 a를 만듦\n",
        "ins1.a"
      ],
      "id": "858838c2-7e4e-47af-b88f-70dad41424e9"
    },
    {
      "cell_type": "code",
      "execution_count": 261,
      "metadata": {
        "tags": []
      },
      "outputs": [],
      "source": [
        "Klass.a, ins1.a, ins2.a"
      ],
      "id": "331c1560-6d7d-415a-8ebf-7a8b095effde"
    },
    {
      "cell_type": "code",
      "execution_count": 262,
      "metadata": {
        "tags": []
      },
      "outputs": [],
      "source": [
        "Klass.a = -99"
      ],
      "id": "12b3a2db-f058-43c4-a1f4-0365484abcc1"
    },
    {
      "cell_type": "code",
      "execution_count": 264,
      "metadata": {
        "tags": []
      },
      "outputs": [],
      "source": [
        "Klass.a, ins1.a, ins2.a # # ins1는 더이상 변수를 빌려쓰지 않음, 독자노선"
      ],
      "id": "0ead2fef-7580-4285-812c-5da1eb3d9a4e"
    },
    {
      "cell_type": "markdown",
      "metadata": {},
      "source": [
        "`# 예제8` – 정석적이지 않은사용"
      ],
      "id": "7b8cb399-5067-486d-bbc5-6863d9bc8dd8"
    },
    {
      "cell_type": "code",
      "execution_count": 285,
      "metadata": {
        "tags": []
      },
      "outputs": [],
      "source": [
        "class Up:\n",
        "    a = 0 \n",
        "    def up(self):\n",
        "        self.a = self.a + 1 "
      ],
      "id": "45ba811b-c132-45e7-ac93-083249893783"
    },
    {
      "cell_type": "code",
      "execution_count": 286,
      "metadata": {
        "tags": []
      },
      "outputs": [],
      "source": [
        "ins = Up()"
      ],
      "id": "5a8982fe-4d67-4afa-af67-2c59cf3b94b0"
    },
    {
      "cell_type": "code",
      "execution_count": 287,
      "metadata": {
        "tags": []
      },
      "outputs": [],
      "source": [
        "ins.a = ins.a +1 # 이때는 클래스변수를 빌려씀"
      ],
      "id": "52ec07e6-0d63-43f3-a8d2-46c47ae8caa9"
    },
    {
      "cell_type": "code",
      "execution_count": 288,
      "metadata": {
        "tags": []
      },
      "outputs": [],
      "source": [
        "ins.up() # 이걸 실행하는 순간 a는 인스턴스 변수로 변화\n",
        "ins.a"
      ],
      "id": "13e1a11c-228c-4f32-9b8b-ec721e8256f0"
    },
    {
      "cell_type": "markdown",
      "metadata": {},
      "source": [
        "`#`\n",
        "\n",
        "## B. 인스턴스 메서드\n",
        "\n",
        "`-` self 비밀: 사실 클래스에서 정의된 함수의 첫번째 인자의 이름이 꼭\n",
        "self일 필요는 없다. (무엇으로 전달하든 클래스안에서 정의된 메소드의\n",
        "첫번째 인자는 기본적으로 instance의 태명역할을 한다)"
      ],
      "id": "ad7aa4f6-da32-4fab-99eb-9cb946988488"
    },
    {
      "cell_type": "code",
      "execution_count": 289,
      "metadata": {
        "tags": []
      },
      "outputs": [],
      "source": [
        "class Guebin: \n",
        "    def __init__(abab):\n",
        "        abab.name = 'guebin'\n",
        "    def __repr__(cdcd):\n",
        "        return f\"이름: {cdcd.name}\""
      ],
      "id": "ef4a118f-9302-487f-bdbe-d76a2440efad"
    },
    {
      "cell_type": "code",
      "execution_count": 290,
      "metadata": {
        "tags": []
      },
      "outputs": [],
      "source": [
        "a=Guebin()"
      ],
      "id": "338e3991-c09b-4be4-a336-f112bcff6781"
    },
    {
      "cell_type": "code",
      "execution_count": 291,
      "metadata": {
        "tags": []
      },
      "outputs": [],
      "source": [
        "a.name"
      ],
      "id": "3276fb3f-0ab8-488a-b703-2a5b4acc7441"
    },
    {
      "cell_type": "code",
      "execution_count": 292,
      "metadata": {
        "tags": []
      },
      "outputs": [],
      "source": [
        "a"
      ],
      "id": "ee124f92-9c31-4afb-9e51-77b78613f37b"
    },
    {
      "cell_type": "markdown",
      "metadata": {},
      "source": [
        "`-` 그런데 그냥 self를 쓰세요. 관습에 따르세요.\n",
        "\n",
        "## C. 클래스 메서드\n",
        "\n",
        "`-` 클래스 메서드: 함수의 첫 인자로 클래스오브젝트를 받는 특수한 함수를\n",
        "클래스메서드라고 한다.\n",
        "\n",
        "-   인스턴스 메서드: 함수의 첫 인자로 인스턴스오브젝트를 받는 특수한\n",
        "    함수를 인스턴스 메서드라고 한다.\n",
        "\n",
        "`-` 목표: `클래스이름.f()`와 같은 형태로 사용할 수 있는 함수를 만들어\n",
        "보자 -\\> 클래스메서드를 만들어보자!\n",
        "\n",
        "`# 예제1` – 아래의 코드를 수정해보자."
      ],
      "id": "7495e86e-c4b7-4c12-a060-07b4d63d4fdd"
    },
    {
      "cell_type": "code",
      "execution_count": 703,
      "metadata": {
        "tags": []
      },
      "outputs": [],
      "source": [
        "# class GS25: \n",
        "#     n_stores = 0\n",
        "#     n_total_guests = 0\n",
        "#     def __init__(self):\n",
        "#         self.n_guests = 0 \n",
        "#         GS25.n_stores = GS25.n_stores + 1 \n",
        "#     def come(self,m):\n",
        "#         self.n_guests = self.n_guests + m \n",
        "#         GS25.n_total_guests = GS25.n_total_guests + m\n",
        "#     def __repr__(self):\n",
        "#         text = (\n",
        "#             f\"GS25-{GS25.n_stores}호점\\n\"\n",
        "#             f\"손님수(인스턴스) = {self.n_guests}\\n\"\n",
        "#             f\"총손님수(클래스) = {GS25.n_total_guests}\"    \n",
        "#         )\n",
        "#         return text "
      ],
      "id": "04270ac7-3368-4ef0-b23a-a08a7f2dc26f"
    },
    {
      "cell_type": "code",
      "execution_count": 317,
      "metadata": {
        "tags": []
      },
      "outputs": [],
      "source": [
        "class GS25: \n",
        "    n_stores = 0\n",
        "    n_total_guests = 0\n",
        "    @classmethod\n",
        "    def add_store(cls):\n",
        "        cls.n_stores = cls.n_stores + 1 \n",
        "    @classmethod\n",
        "    def add_guest(cls,m):\n",
        "        cls.n_total_guests = cls.n_total_guests + m \n",
        "    @classmethod\n",
        "    def info(cls):\n",
        "        print(f\"총점포수 = {cls.n_stores}\\n총손님수 = {cls.n_total_guests}\")\n",
        "    #--#\n",
        "    def __init__(self):\n",
        "        self.n_guests = 0 \n",
        "        GS25.add_store()\n",
        "    def come(self,m):\n",
        "        self.n_guests = self.n_guests + m \n",
        "        GS25.add_guest(m)\n",
        "    def __repr__(self):\n",
        "        text = (\n",
        "            f\"GS25-{GS25.n_stores}호점\\n\"\n",
        "            f\"손님수(인스턴스) = {self.n_guests}\\n\"\n",
        "            f\"총손님수(클래스) = {GS25.n_total_guests}\"    \n",
        "        )\n",
        "        return text "
      ],
      "id": "ff508bc0-e711-454d-ae25-24c54a6d2783"
    },
    {
      "cell_type": "code",
      "execution_count": 318,
      "metadata": {
        "tags": []
      },
      "outputs": [
        {
          "output_type": "stream",
          "name": "stdout",
          "text": [
            "총점포수 = 0\n",
            "총손님수 = 0"
          ]
        }
      ],
      "source": [
        "GS25.info()"
      ],
      "id": "61fce19f-2555-4e94-8096-21fe2af698a0"
    },
    {
      "cell_type": "code",
      "execution_count": 319,
      "metadata": {
        "tags": []
      },
      "outputs": [],
      "source": [
        "store1 = GS25()"
      ],
      "id": "9a53c3fc-1429-415a-b6d8-1dc724c07d65"
    },
    {
      "cell_type": "code",
      "execution_count": 320,
      "metadata": {
        "tags": []
      },
      "outputs": [],
      "source": [
        "store1"
      ],
      "id": "30d5c2fa-67d0-42f7-9104-c1a54297a486"
    },
    {
      "cell_type": "code",
      "execution_count": 321,
      "metadata": {
        "tags": []
      },
      "outputs": [],
      "source": [
        "store1.come(2)"
      ],
      "id": "490e0d9c-4010-4bec-aa44-e0447020dcd7"
    },
    {
      "cell_type": "code",
      "execution_count": 322,
      "metadata": {
        "tags": []
      },
      "outputs": [],
      "source": [
        "store1"
      ],
      "id": "608f6f31-cecd-4115-aa3e-43c8f12aa6ff"
    },
    {
      "cell_type": "code",
      "execution_count": 323,
      "metadata": {
        "tags": []
      },
      "outputs": [
        {
          "output_type": "stream",
          "name": "stdout",
          "text": [
            "총점포수 = 1\n",
            "총손님수 = 2"
          ]
        }
      ],
      "source": [
        "GS25.info()"
      ],
      "id": "159f2aec-d875-478c-a159-7cc06ce43a34"
    },
    {
      "cell_type": "code",
      "execution_count": 324,
      "metadata": {
        "tags": []
      },
      "outputs": [],
      "source": [
        "store2 = GS25()"
      ],
      "id": "8da840d1-7ba2-4c84-97fe-751d08b477c3"
    },
    {
      "cell_type": "code",
      "execution_count": 325,
      "metadata": {
        "tags": []
      },
      "outputs": [],
      "source": [
        "store2.come(5)"
      ],
      "id": "47263704-1cd5-4007-8199-fd2aadf7ea3c"
    },
    {
      "cell_type": "code",
      "execution_count": 326,
      "metadata": {
        "tags": []
      },
      "outputs": [],
      "source": [
        "store2"
      ],
      "id": "bf2e6e58-8c21-413b-bfbf-157ab37430ce"
    },
    {
      "cell_type": "code",
      "execution_count": 327,
      "metadata": {
        "tags": []
      },
      "outputs": [
        {
          "output_type": "stream",
          "name": "stdout",
          "text": [
            "총점포수 = 2\n",
            "총손님수 = 7"
          ]
        }
      ],
      "source": [
        "GS25.info()"
      ],
      "id": "4ea34356-ada4-4a96-afc6-028867330d6a"
    },
    {
      "cell_type": "markdown",
      "metadata": {},
      "source": [
        "## D. 스태틱 메서드\n",
        "\n",
        "`-` 스태틱 메서드: 첫 인자로 인스턴스와 클래스 모두 받지 않음.\n",
        "(클래스안에 정의되어 있지만 그냥 함수와 같음)"
      ],
      "id": "be191eec-06c7-498d-a38f-8842764a4e80"
    },
    {
      "cell_type": "code",
      "execution_count": 328,
      "metadata": {
        "tags": []
      },
      "outputs": [],
      "source": [
        "class Calculator: \n",
        "    @staticmethod\n",
        "    def add(a,b):\n",
        "        return a+b\n",
        "    @staticmethod\n",
        "    def sub(a,b):\n",
        "        return a-b "
      ],
      "id": "edd868f8-1d9a-4ab0-bd8e-caf97ec48b97"
    },
    {
      "cell_type": "code",
      "execution_count": 329,
      "metadata": {
        "tags": []
      },
      "outputs": [],
      "source": [
        "cal = Calculator()"
      ],
      "id": "68437aa9-1969-4a91-8529-77812af04713"
    },
    {
      "cell_type": "code",
      "execution_count": 330,
      "metadata": {
        "tags": []
      },
      "outputs": [],
      "source": [
        "cal.add(1,2)"
      ],
      "id": "de6bb843-fca9-4b43-8f61-b8fdb557c324"
    },
    {
      "cell_type": "code",
      "execution_count": 331,
      "metadata": {
        "tags": []
      },
      "outputs": [],
      "source": [
        "cal.sub(1,2)"
      ],
      "id": "cbc84cf8-d841-4e61-bea2-2a1eed535291"
    },
    {
      "cell_type": "code",
      "execution_count": 332,
      "metadata": {
        "tags": []
      },
      "outputs": [],
      "source": [
        "Calculator.add(3,4)"
      ],
      "id": "d5588200-0172-49d3-96f4-2a4486a8b000"
    },
    {
      "cell_type": "code",
      "execution_count": 333,
      "metadata": {
        "tags": []
      },
      "outputs": [],
      "source": [
        "Calculator.sub(3,4)"
      ],
      "id": "aa2a587a-0c5a-4dc8-a9cc-a05cd50cd962"
    },
    {
      "cell_type": "markdown",
      "metadata": {},
      "source": [
        "-   `cal`는 그냥 함수들을 묶어놓은 느낌? 정리하게 편하게?\n",
        "\n",
        "`-` 쓸모없다?"
      ],
      "id": "76d1e738-87f5-40e7-9004-ef4ab2ae23ea"
    }
  ],
  "nbformat": 4,
  "nbformat_minor": 5,
  "metadata": {
    "kernelspec": {
      "name": "python3",
      "display_name": "Python 3 (ipykernel)",
      "language": "python"
    },
    "language_info": {
      "name": "python",
      "codemirror_mode": {
        "name": "ipython",
        "version": "3"
      },
      "file_extension": ".py",
      "mimetype": "text/x-python",
      "nbconvert_exporter": "python",
      "pygments_lexer": "ipython3",
      "version": "3.11.8"
    }
  }
}