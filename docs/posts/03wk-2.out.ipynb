{
  "cells": [
    {
      "cell_type": "markdown",
      "metadata": {},
      "source": [
        "# 03wk-2: 리스트는 쓰레기인가?\n",
        "\n",
        "최규빈  \n",
        "2024-03-22\n",
        "\n",
        "<a href=\"https://colab.research.google.com/github/guebin/PP2024/blob/main/posts/03wk-2.ipynb\"><img src=\"https://colab.research.google.com/assets/colab-badge.svg\" style=\"text-align: left\"></a>\n",
        "\n",
        "# 1. 강의영상\n",
        "\n",
        "<https://youtu.be/playlist?list=PLQqh36zP38-wp0X7gOJ2iQQXWL8m2wuIE&si=le4Ph18l9-kv7br3>\n",
        "\n",
        "# 2. Imports"
      ],
      "id": "fb759966-7616-4d57-9fba-7e9db9612f3a"
    },
    {
      "cell_type": "code",
      "execution_count": 1,
      "metadata": {},
      "outputs": [],
      "source": [
        "import numpy as np\n",
        "import matplotlib.pyplot as plt "
      ],
      "id": "c9057763-4fe0-485d-b00a-e74ded37f5a6"
    },
    {
      "cell_type": "markdown",
      "metadata": {},
      "source": [
        "# 3. 리스트는 쓰레기인가?\n",
        "\n",
        "## A. 벡터화연산(브로드캐스팅) 불가능\n",
        "\n",
        "`-` 벡터화연산 불가능 (최악의 단점)"
      ],
      "id": "1fd75c78-6802-49bb-9b74-227ad48f5e03"
    },
    {
      "cell_type": "code",
      "execution_count": 6,
      "metadata": {},
      "outputs": [],
      "source": [
        "lst = [1,2,3]\n",
        "lst + 1"
      ],
      "id": "b9306300-9ce4-4ada-a8fa-3c64fe60d52a"
    },
    {
      "cell_type": "code",
      "execution_count": 7,
      "metadata": {},
      "outputs": [],
      "source": [
        "arr = np.array([1,2,3])\n",
        "arr + 1"
      ],
      "id": "57266e27-d2f3-4da3-b282-548b8c39c756"
    },
    {
      "cell_type": "markdown",
      "metadata": {},
      "source": [
        "## B. bool을 이용한 인덱싱이 불가능\n",
        "\n",
        "`-` True, False 가 포함된 array를 이용한 인덱싱이 불가능하다.\n",
        "\n",
        "`-` 넘파이에서 bool을 이용한 인덱싱"
      ],
      "id": "d22e9151-d525-4af9-b6ad-5c014f30f8b4"
    },
    {
      "cell_type": "code",
      "execution_count": 12,
      "metadata": {},
      "outputs": [],
      "source": [
        "arr = np.array([1,2,3,4,5])\n",
        "arr[arr>3]"
      ],
      "id": "ab5eee03-d8ad-4975-840b-34b90a98a9cb"
    },
    {
      "cell_type": "markdown",
      "metadata": {},
      "source": [
        "`-` 리스트는 불가능"
      ],
      "id": "1fdd836d-3a3b-4334-8d23-e16275e0d231"
    },
    {
      "cell_type": "code",
      "execution_count": 13,
      "metadata": {},
      "outputs": [],
      "source": [
        "lst = [1,2,3,4,5]\n",
        "lst[lst>3]"
      ],
      "id": "651c72aa-5652-43d8-93b5-bb17c1369f65"
    },
    {
      "cell_type": "code",
      "execution_count": 14,
      "metadata": {},
      "outputs": [],
      "source": [
        "lst>3"
      ],
      "id": "4b89aa6a-9f3d-4c3f-8cb1-927a6405d258"
    },
    {
      "cell_type": "markdown",
      "metadata": {},
      "source": [
        "## C. 넘파이 특화 메소드 사용불가능\n",
        "\n",
        "`-` 넘파이 특화 메소드"
      ],
      "id": "22822a03-2dc9-4508-8979-3588be515fc0"
    },
    {
      "cell_type": "code",
      "execution_count": 15,
      "metadata": {},
      "outputs": [],
      "source": [
        "arr = np.array([5,4,3,2,1])\n",
        "arr"
      ],
      "id": "b8e8cda7-e55b-4652-8cd1-2d33fdd1b655"
    },
    {
      "cell_type": "code",
      "execution_count": 23,
      "metadata": {},
      "outputs": [],
      "source": [
        "arr.min(), arr.max(), arr.mean(), arr.argmin(), arr.argmax()"
      ],
      "id": "566c0e1a-3e1d-4628-8704-3b43f36a6cbe"
    },
    {
      "cell_type": "code",
      "execution_count": 25,
      "metadata": {},
      "outputs": [],
      "source": [
        "arr.sort()\n",
        "arr"
      ],
      "id": "debd202c-89ce-4891-9d63-564a4fd51858"
    },
    {
      "cell_type": "markdown",
      "metadata": {},
      "source": [
        "`-` 리스트는?"
      ],
      "id": "24d2aaba-ebd1-419e-8cbb-8ae83b96971d"
    },
    {
      "cell_type": "code",
      "execution_count": 26,
      "metadata": {},
      "outputs": [],
      "source": [
        "lst = [5,4,3,2,1]\n",
        "lst"
      ],
      "id": "e62094a7-43a7-4f8b-8271-586432a4a857"
    },
    {
      "cell_type": "code",
      "execution_count": 32,
      "metadata": {},
      "outputs": [],
      "source": [
        "lst.min(), lst.max(), lst.mean(), lst.argmin(), lst.argmax()"
      ],
      "id": "ba60bcdc-7cbd-4b4e-becb-61f9e8e93a8a"
    },
    {
      "cell_type": "code",
      "execution_count": 33,
      "metadata": {},
      "outputs": [],
      "source": [
        "lst.sort()\n",
        "lst"
      ],
      "id": "ffe529d4-fefc-484e-9f5f-72ddfcab4bc0"
    },
    {
      "cell_type": "markdown",
      "metadata": {},
      "source": [
        "`# 메소드란?` – 자료형에 종속된 특수기술"
      ],
      "id": "0c08103b-8f1d-4a1e-8dc3-5cfd39fd60c1"
    },
    {
      "cell_type": "code",
      "execution_count": 38,
      "metadata": {},
      "outputs": [],
      "source": [
        "# 넘파이 특수기술\n",
        "arr = np.array([1,2,3])\n",
        "arr.max() # max(arr)로 해석"
      ],
      "id": "be9764bd-d550-4db2-9fcb-3082819c13d6"
    },
    {
      "cell_type": "code",
      "execution_count": 40,
      "metadata": {},
      "outputs": [],
      "source": [
        "# ?.max() 이런건 넘파이 특수기술 이니까 ?자리에 리스트일 경우는 실행안됨\n",
        "lst = [1,2,3]\n",
        "lst.max() "
      ],
      "id": "8affecab-1d54-406b-8176-d2296b39e47d"
    },
    {
      "cell_type": "code",
      "execution_count": 50,
      "metadata": {},
      "outputs": [],
      "source": [
        "# 리스트의 특수기술 \n",
        "lst = [1,2,3]\n",
        "lst.append(4) # append(lst,4) 로 해석\n",
        "lst"
      ],
      "id": "bd0e85a5-ec03-4bfd-a589-1b421ac1cee7"
    },
    {
      "cell_type": "code",
      "execution_count": 51,
      "metadata": {},
      "outputs": [],
      "source": [
        "# 문자열 특수기술\n",
        "s = 'asdf'\n",
        "s.capitalize() # capitalize(s) 로 해석"
      ],
      "id": "4d94db36-8c67-43ee-9d1e-9694f5fe68d5"
    },
    {
      "cell_type": "code",
      "execution_count": 62,
      "metadata": {},
      "outputs": [],
      "source": [
        "# 문자열 특수기술\n",
        "s = '-'\n",
        "lst = ['x','y','z']\n",
        "s.join(lst) # join(s,lst) 로 해석"
      ],
      "id": "c5dc6fc7-6f37-4638-9d2b-b9aa1a2dee60"
    },
    {
      "cell_type": "markdown",
      "metadata": {},
      "source": [
        "-   `join(s,lst)`의 뜻: lst의 각 원소를 모두 “이어서” 하나의 문자열로\n",
        "    만들어라. 단, 원소간의 구분은 `s`에 저장된 문자열로 하라."
      ],
      "id": "a8cef72d-5e63-4b7a-a287-5686847c3754"
    },
    {
      "cell_type": "code",
      "execution_count": 68,
      "metadata": {},
      "outputs": [],
      "source": [
        "# 문자열 특수기술 응용\n",
        "''.join(['x','y','z'])"
      ],
      "id": "d28ced3e-37d8-425e-b485-22ead4b081bf"
    },
    {
      "cell_type": "code",
      "execution_count": 75,
      "metadata": {},
      "outputs": [],
      "source": [
        "# 문자열 특수기능 \n",
        "s = \"제 이름은 {} 입니다.\" \n",
        "name = \"최규빈\"\n",
        "s.format(name) # format(s,name)"
      ],
      "id": "c395fe77-3efe-4599-9a6a-4e6c1a8f1c8e"
    },
    {
      "cell_type": "markdown",
      "metadata": {},
      "source": [
        "-   `format(s,name)`의 뜻: s라는 문자열의 포맷에 `{}` 자리에 name을\n",
        "    끼워넣어라.\n",
        "\n",
        "## D. 파이썬에서 쓰레기 같은 자료형은 없다.\n",
        "\n",
        "`-` 파이썬에는 각 자료형마다 사용할 수 있는 고유기술(=메소드)이나 문법이\n",
        "있음.\n",
        "\n",
        "`-` 내가 생각할 때 리스트는 필요없는 자료형이야 = 난 리스트만 가지고\n",
        "있는 어떠한 고유특징을 활용하지 못해.\n",
        "\n",
        "`-` 파이썬을 잘 하려면 자료형에 따른 고유 특징을 이해하고 활용할 줄\n",
        "알아야 한다.\n",
        "\n",
        "-   기본자료형: str, list, tuple, dict, set – 이러한 자료형을 이해하고\n",
        "    기능을 활용해야함\n",
        "-   모듈: 넘파이배열, 판다스\n",
        "\n",
        "# 4. 2024년 수능 – 확통 23\n",
        "\n",
        "## A. 문제파악\n",
        "\n",
        "![](https://github.com/guebin/PP2024/blob/main/imgs/2024-수능-확통-23.png?raw=true)\n",
        "\n",
        "`-` 기존의 문제들과 다르게 numpy를 이용하여 풀기는 어려울 것 같다. 뭔가\n",
        "기존문제들과 결이 다름\n",
        "\n",
        "`-` 그런데 코딩으로 해결가능할 것 같긴 함\n",
        "\n",
        "## B. 슈도알고리즘\n",
        "\n",
        "`1.` 편의상 $[x,x,y,y,z]$를 $[x_1,x_2,y_1,y_2,z]$와 같이 생각하고\n",
        "나열한다. (5! = 120 개만큼 경우가 나열되겠지)\n",
        "\n",
        "`2.` 중복을 제거한다. 즉 아래는 모두 같은 경우로 생각한다.\n",
        "\n",
        "-   $[x_1,x_2,y_1,y_2,z]$\n",
        "-   $[x_1,x_2,y_2,y_1,z]$\n",
        "-   $[x_2,x_1,y_1,y_2,z]$\n",
        "-   $[x_2,x_1,y_2,y_1,z]$\n",
        "\n",
        "## C. 예비학습\n",
        "\n",
        "`# 개념1` – 집합이라는 자료형이 있음."
      ],
      "id": "06a3e633-aa47-4cd5-9ed4-5a54c8d40265"
    },
    {
      "cell_type": "code",
      "execution_count": 11,
      "metadata": {},
      "outputs": [],
      "source": [
        "a = {1,2,3}\n",
        "type(a)"
      ],
      "id": "432033f4-0afd-40cc-8023-3e5863963871"
    },
    {
      "cell_type": "markdown",
      "metadata": {},
      "source": [
        "그런데 집합은 중복된 원소를 포함하지 않았음 (중학교때 배운듯)"
      ],
      "id": "4408bd1e-5f85-466e-b8f6-8e619b0d8e4b"
    },
    {
      "cell_type": "code",
      "execution_count": 13,
      "metadata": {},
      "outputs": [],
      "source": [
        "a = {1,2,3,3,3}\n",
        "a"
      ],
      "id": "1542e21c-d687-4c48-9589-dc457ae44d3f"
    },
    {
      "cell_type": "markdown",
      "metadata": {},
      "source": [
        "`#`\n",
        "\n",
        "`# 개념2` – 자료형변환을 이용하여 중복된 원소를 제거\n",
        "\n",
        "아래와 같은 자료형이 있다고 하자."
      ],
      "id": "66261689-bdab-4cbc-b77a-0fc91c9192df"
    },
    {
      "cell_type": "code",
      "execution_count": 14,
      "metadata": {},
      "outputs": [],
      "source": [
        "lst = [1,2,3,3,3] \n",
        "lst"
      ],
      "id": "e369db23-87be-4644-8159-40ae41dcb678"
    },
    {
      "cell_type": "markdown",
      "metadata": {},
      "source": [
        "중복된 것을 제외하고 싶다면?"
      ],
      "id": "df3ff3cd-fee9-48fc-b13d-1eb675770c17"
    },
    {
      "cell_type": "code",
      "execution_count": 17,
      "metadata": {},
      "outputs": [],
      "source": [
        "list(set(lst)) # 자료형변환"
      ],
      "id": "7f19ec5a-9ec6-4051-83f0-c774cd7c57cb"
    },
    {
      "cell_type": "markdown",
      "metadata": {},
      "source": [
        "`#`\n",
        "\n",
        "`# 개념3` – 고유의 원소 숫자 세기"
      ],
      "id": "1e11e735-2b53-4ccd-9425-c5d9d90217b7"
    },
    {
      "cell_type": "code",
      "execution_count": 18,
      "metadata": {},
      "outputs": [],
      "source": [
        "lst = [1,2,3,3,3,4,4,5,5,6] \n",
        "lst"
      ],
      "id": "9e5243d9-df46-42db-8ce9-70d7b05c5435"
    },
    {
      "cell_type": "code",
      "execution_count": 21,
      "metadata": {},
      "outputs": [],
      "source": [
        "len(set(lst))"
      ],
      "id": "468b766c-29a0-4b4a-a599-96a976050afa"
    },
    {
      "cell_type": "markdown",
      "metadata": {},
      "source": [
        "`#`\n",
        "\n",
        "`# 개념4` – for문\n",
        "\n",
        "아래를 출력하고 싶다고 하자.\n",
        "\n",
        "    이효리는 핑클의 멤버이다. \n",
        "    옥주현은 핑클의 멤버이다.\n",
        "    성유리는 핑클의 멤버이다. \n",
        "    이진은 핑클의 멤버이다. \n",
        "\n",
        "(풀이1) – 단순한 풀이"
      ],
      "id": "f7619c23-6b07-49df-b772-e78c0b17ee91"
    },
    {
      "cell_type": "code",
      "execution_count": 23,
      "metadata": {},
      "outputs": [
        {
          "output_type": "stream",
          "name": "stdout",
          "text": [
            "이효리는 핑클의 멤버이다.\n",
            "옥주현은 핑클의 멤버이다.\n",
            "성유리는 핑클의 멤버이다.\n",
            "이진은 핑클의 멤버이다."
          ]
        }
      ],
      "source": [
        "print(\"이효리는 핑클의 멤버이다.\")\n",
        "print(\"옥주현은 핑클의 멤버이다.\")\n",
        "print(\"성유리는 핑클의 멤버이다.\")\n",
        "print(\"이진은 핑클의 멤버이다.\")"
      ],
      "id": "3eaadf19-ba36-4104-b657-3cf477036d1f"
    },
    {
      "cell_type": "markdown",
      "metadata": {},
      "source": [
        "(풀이2) – 문자열 특수기능을 이용해볼까?\n",
        "\n",
        "“{} 핑클의 멤버이다.” 이 공통포맷이므로, 아래와 같이 수행할 수 있겠다."
      ],
      "id": "fd5fed25-cf6f-489f-b846-62f435c5a9be"
    },
    {
      "cell_type": "code",
      "execution_count": 48,
      "metadata": {},
      "outputs": [
        {
          "output_type": "stream",
          "name": "stdout",
          "text": [
            "이효리는 핑클의 멤버이다.\n",
            "옥주현은 핑클의 멤버이다.\n",
            "성유리는 핑클의 멤버이다.\n",
            "이진은 핑클의 멤버이다."
          ]
        }
      ],
      "source": [
        "lst = [\"이효리는\",\"옥주현은\",\"성유리는\",\"이진은\"]\n",
        "i = 0\n",
        "print(\"{} 핑클의 멤버이다.\".format(lst[i]))\n",
        "i = 1 \n",
        "print(\"{} 핑클의 멤버이다.\".format(lst[i]))\n",
        "i = 2 \n",
        "print(\"{} 핑클의 멤버이다.\".format(lst[i]))\n",
        "i = 3 \n",
        "print(\"{} 핑클의 멤버이다.\".format(lst[i]))"
      ],
      "id": "73851a24-7f46-4882-8c4d-fe1d3f782f96"
    },
    {
      "cell_type": "markdown",
      "metadata": {},
      "source": [
        "(풀이3) - for와 문자열 특수기능을 이용해볼까?"
      ],
      "id": "1731cfb8-3f91-406b-8f9b-4347dcdb70ab"
    },
    {
      "cell_type": "code",
      "execution_count": 49,
      "metadata": {},
      "outputs": [
        {
          "output_type": "stream",
          "name": "stdout",
          "text": [
            "이효리는 핑클의 멤버이다.\n",
            "옥주현은 핑클의 멤버이다.\n",
            "성유리는 핑클의 멤버이다.\n",
            "이진은 핑클의 멤버이다."
          ]
        }
      ],
      "source": [
        "lst = [\"이효리는\",\"옥주현은\",\"성유리는\",\"이진은\"]\n",
        "for i in [0,1,2,3]:\n",
        "    print(\"{} 핑클의 멤버이다.\".format(lst[i]))"
      ],
      "id": "22e0229b-a0e0-4518-bef8-e6fb8aa73d49"
    },
    {
      "cell_type": "markdown",
      "metadata": {},
      "source": [
        "(풀이4) - for와 문자열 특수기능을 이용해볼까? (2)\n",
        "\n",
        "`[0,1,2,3]`은 대충 `range(4)`와 비슷한 것이므로 아래와 같이 수행할 수도\n",
        "있겠음."
      ],
      "id": "a91efbfd-7245-41ba-8778-39e361b35180"
    },
    {
      "cell_type": "code",
      "execution_count": 46,
      "metadata": {},
      "outputs": [
        {
          "output_type": "stream",
          "name": "stdout",
          "text": [
            "이효리는 핑클의 멤버이다.\n",
            "옥주현은 핑클의 멤버이다.\n",
            "성유리는 핑클의 멤버이다.\n",
            "이진은 핑클의 멤버이다."
          ]
        }
      ],
      "source": [
        "lst = [\"이효리는\",\"옥주현은\",\"성유리는\",\"이진은\"]\n",
        "for i in range(4):\n",
        "    print(\"{} 핑클의 멤버이다.\".format(lst[i]))"
      ],
      "id": "9bf99f97-4b5c-47a7-9f2d-51400ca38935"
    },
    {
      "cell_type": "markdown",
      "metadata": {},
      "source": [
        "(풀이5) - for와 문자열 특수기능을 이용해볼까? (3)\n",
        "\n",
        "아래의 코드는 $i$ 자리에 `[0,1,2,3]`의 원소가 번갈아 대입되며 `??????`가\n",
        "수행되었음.\n",
        "\n",
        "``` python\n",
        "lst = [\"이효리는\",\"옥주현은\",\"성유리는\",\"이진은\"]\n",
        "for i in [0,1,2,3]:\n",
        "    ??????\n",
        "```\n",
        "\n",
        "아래의 코드도 $i$ 자리에 `range(4)`의 원소가 번갈아 대입되며 `??????`가\n",
        "수행되었다고 해석가능.\n",
        "\n",
        "``` python\n",
        "lst = [\"이효리는\",\"옥주현은\",\"성유리는\",\"이진은\"]\n",
        "for i in range(4):\n",
        "    ??????\n",
        "```\n",
        "\n",
        "아래의 코드는 어떻게 실행될까??\n",
        "\n",
        "``` python\n",
        "lst = [\"이효리는\",\"옥주현은\",\"성유리는\",\"이진은\"]\n",
        "for i in lst:\n",
        "    ??????\n",
        "```"
      ],
      "id": "b3f07ed9-ca74-4195-86ec-cc4e9120d424"
    },
    {
      "cell_type": "code",
      "execution_count": 53,
      "metadata": {},
      "outputs": [
        {
          "output_type": "stream",
          "name": "stdout",
          "text": [
            "이효리는 핑클의 멤버이다.\n",
            "옥주현은 핑클의 멤버이다.\n",
            "성유리는 핑클의 멤버이다.\n",
            "이진은 핑클의 멤버이다."
          ]
        }
      ],
      "source": [
        "# R과 다른 방식으로 동작하는 for문 \n",
        "lst = [\"이효리는\",\"옥주현은\",\"성유리는\",\"이진은\"]\n",
        "for l in lst:\n",
        "    print(\"{} 핑클의 멤버이다.\".format(l))"
      ],
      "id": "a387a652-9f1e-462f-81cf-ff299dc8488b"
    },
    {
      "cell_type": "markdown",
      "metadata": {},
      "source": [
        "`#`\n",
        "\n",
        "`# 개념5` – for문을 이용하여 리스트의 원소 추가하기"
      ],
      "id": "d81e5648-18e3-4d53-b386-21862a19f092"
    },
    {
      "cell_type": "code",
      "execution_count": 64,
      "metadata": {},
      "outputs": [],
      "source": [
        "lst2 = [] # lst2 = list() 와 같은결과임\n",
        "lst = [\"이효리는\",\"옥주현은\",\"성유리는\",\"이진은\"]\n",
        "for l in lst: \n",
        "    lst2.append(\"{} 핑클의 멤버이다.\".format(l))"
      ],
      "id": "8bc1d2d1-04d4-430d-a56d-0f143a444d5b"
    },
    {
      "cell_type": "code",
      "execution_count": 65,
      "metadata": {},
      "outputs": [],
      "source": [
        "lst2"
      ],
      "id": "b00f9616-8943-4cf0-829d-3d2eb800642c"
    },
    {
      "cell_type": "markdown",
      "metadata": {},
      "source": [
        "그런데 이걸 아래와 같이 해결할 수도 있다."
      ],
      "id": "e67744fd-3f19-4fd4-9ca1-e4a878de122c"
    },
    {
      "cell_type": "code",
      "execution_count": 68,
      "metadata": {},
      "outputs": [],
      "source": [
        "lst = [\"이효리는\",\"옥주현은\",\"성유리는\",\"이진은\"]\n",
        "[\"{} 핑클의 멤버이다.\".format(l) for l in lst] # 리스트컴프리헨션 "
      ],
      "id": "b8117153-ac96-4311-982b-c1a9473da9b6"
    },
    {
      "cell_type": "markdown",
      "metadata": {},
      "source": [
        "`#`\n",
        "\n",
        "`# 개념6` – 리스트컴프리헨션\n",
        "\n",
        "집합을 표현하는 방법에는 원소나열법과 조건제시법이 있다.\n",
        "\n",
        "-   원소나열법: $\\{2^0,2^1,2^2,2^3\\}$\n",
        "-   조건제시법: $\\{2^i: \\text{ for } i=0,1,2,3\\}$\n",
        "\n",
        "이중에서 조건제시법은 아래와 같이 표현할 수 있음.\n",
        "\n",
        "-   $\\{2^i: \\text{ for } i \\in \\{0,1,2,3\\}\\}$\n",
        "\n",
        "여기에서 $\\in$ 은 `in` 으로 읽으므로, 위의 표기법을 연상하여 파이썬\n",
        "코드로 바꿔보면\n",
        "\n",
        "``` python\n",
        "[2^i: for i in [0,1,2,3]]\n",
        "```\n",
        "\n",
        "와 같은 방식으로 리스트의 원소를 표현할 수 있을 것 같다. 위의 코드는\n",
        "실행되지 않지만 아래의 코드는 실행가능하다."
      ],
      "id": "cdc1c6b7-b629-48f3-bc01-382ad48396f7"
    },
    {
      "cell_type": "code",
      "execution_count": 71,
      "metadata": {},
      "outputs": [],
      "source": [
        "[2**i for i in [0,1,2,3]]"
      ],
      "id": "cf078aee-0b4d-4f11-997c-0a40c2134885"
    },
    {
      "cell_type": "code",
      "execution_count": 72,
      "metadata": {},
      "outputs": [],
      "source": [
        "[2**i for i in range(4)]"
      ],
      "id": "5c459a7c-bd80-41c0-ab65-0cef3a6be910"
    },
    {
      "cell_type": "markdown",
      "metadata": {},
      "source": [
        "이를 응용하면"
      ],
      "id": "7b32d951-c746-4fdf-b942-279fa6b41bbf"
    },
    {
      "cell_type": "code",
      "execution_count": 73,
      "metadata": {},
      "outputs": [],
      "source": [
        "[\"asdf{}\".format(2**i) for i in range(4)]"
      ],
      "id": "925c5090-873f-490d-b458-4e4c3ac449f6"
    },
    {
      "cell_type": "markdown",
      "metadata": {},
      "source": [
        "이것을 다시 응용하면"
      ],
      "id": "dde6e7a7-b1ce-4524-a0a8-c4cd8fd0b050"
    },
    {
      "cell_type": "code",
      "execution_count": 76,
      "metadata": {},
      "outputs": [],
      "source": [
        "lst = [\"이효리는\", \"성유리는\", \"옥주현은\", \"이진은\"]\n",
        "[\"{} 핑클의 멤버이다.\".format(l) for l in lst]"
      ],
      "id": "ed2d30c9-cf36-4a1b-b196-86c8dc69176c"
    },
    {
      "cell_type": "markdown",
      "metadata": {},
      "source": [
        "`#`\n",
        "\n",
        "`# 개념7` – 스트링의 인덱싱 (파이썬에서는 스트링을 array로 취급)"
      ],
      "id": "64e6bf82-78e7-465c-8e9b-3c80f8606ff3"
    },
    {
      "cell_type": "code",
      "execution_count": 87,
      "metadata": {},
      "outputs": [],
      "source": [
        "s = 'asdf'\n",
        "s"
      ],
      "id": "987db9e8-1c6b-4271-b7ec-bbf9379cdc50"
    },
    {
      "cell_type": "code",
      "execution_count": 89,
      "metadata": {},
      "outputs": [],
      "source": [
        "s[0]"
      ],
      "id": "54a3806e-ea28-41c4-a52b-0290ba330ec6"
    },
    {
      "cell_type": "code",
      "execution_count": 90,
      "metadata": {},
      "outputs": [],
      "source": [
        "s[-1]"
      ],
      "id": "5fd32263-b5bd-4b04-baf6-5b7f0e1f2986"
    },
    {
      "cell_type": "code",
      "execution_count": 92,
      "metadata": {},
      "outputs": [],
      "source": [
        "s[:2]"
      ],
      "id": "9cfbed91-2ffd-4a16-bb01-06f488ef6ec6"
    },
    {
      "cell_type": "markdown",
      "metadata": {},
      "source": [
        "`#`\n",
        "\n",
        "`# 개념8` – 스트링과 리스트의 변환"
      ],
      "id": "39081fd9-8769-4dfc-b448-7eac390d5145"
    },
    {
      "cell_type": "code",
      "execution_count": 96,
      "metadata": {},
      "outputs": [],
      "source": [
        "s = 'asdf' \n",
        "s"
      ],
      "id": "a19d3f72-648a-409a-9ad5-1318a038dbdf"
    },
    {
      "cell_type": "code",
      "execution_count": 95,
      "metadata": {},
      "outputs": [],
      "source": [
        "lst = list(s)\n",
        "lst"
      ],
      "id": "862aeabd-c5d4-4b45-8eb5-c4d527b931e9"
    },
    {
      "cell_type": "code",
      "execution_count": 104,
      "metadata": {},
      "outputs": [],
      "source": [
        "''.join(lst)"
      ],
      "id": "d04e39bc-48a3-4eda-a621-ff71fce276bc"
    },
    {
      "cell_type": "markdown",
      "metadata": {},
      "source": [
        "`# 개념9` – 튜플자료형"
      ],
      "id": "d6517944-398d-44c5-bd73-e8d5c526a609"
    },
    {
      "cell_type": "code",
      "execution_count": 106,
      "metadata": {},
      "outputs": [],
      "source": [
        "lst = [1,2,3]\n",
        "lst"
      ],
      "id": "39f85ed4-5630-4cd9-be87-ad514803d3aa"
    },
    {
      "cell_type": "code",
      "execution_count": 107,
      "metadata": {},
      "outputs": [],
      "source": [
        "tpl = (1,2,3)\n",
        "tpl"
      ],
      "id": "cf47fab9-3d7f-4e52-88cb-10ff034352fa"
    },
    {
      "cell_type": "markdown",
      "metadata": {},
      "source": [
        "튜플은 (의미가 명확할때) 괄호를 생략할 수 있음"
      ],
      "id": "0729b775-c6b5-49d7-b6ec-7b352f91f7d6"
    },
    {
      "cell_type": "code",
      "execution_count": 119,
      "metadata": {},
      "outputs": [],
      "source": [
        "tpl = 1,2,3\n",
        "tpl"
      ],
      "id": "9f4015c0-446b-466f-bb2e-896305a819a1"
    },
    {
      "cell_type": "markdown",
      "metadata": {},
      "source": [
        "튜플은 리스트와 매우 비슷함."
      ],
      "id": "614c57f9-0afe-4f7c-9d4d-a317d75b3bd7"
    },
    {
      "cell_type": "code",
      "execution_count": 120,
      "metadata": {},
      "outputs": [],
      "source": [
        "[1,2,3] + [4,5] "
      ],
      "id": "d649e7d9-e7e9-4073-9a89-1943a3c403d5"
    },
    {
      "cell_type": "code",
      "execution_count": 121,
      "metadata": {},
      "outputs": [],
      "source": [
        "(1,2,3) + (4,5)"
      ],
      "id": "c412094b-0364-42cf-b254-a04243401c51"
    },
    {
      "cell_type": "markdown",
      "metadata": {},
      "source": [
        "아래도 가능"
      ],
      "id": "d171ba54-ec4a-4026-af6a-817fd2a1a134"
    },
    {
      "cell_type": "code",
      "execution_count": 123,
      "metadata": {},
      "outputs": [],
      "source": [
        "''.join(['a','b','c'])"
      ],
      "id": "7ba7f8d6-e684-4ad7-bdd4-f41daf73580b"
    },
    {
      "cell_type": "code",
      "execution_count": 124,
      "metadata": {},
      "outputs": [],
      "source": [
        "''.join(('a','b','c'))"
      ],
      "id": "4905dce6-18e2-4562-b820-d928b91c0f87"
    },
    {
      "cell_type": "markdown",
      "metadata": {},
      "source": [
        "`#`\n",
        "\n",
        "`# 개념10` – for를 수행하는 다양한 테크닉\n",
        "\n",
        "**우리가 알고 있는 `for`**: 리스트 비슷한 것을 만든 뒤, **그 리스트의\n",
        "원소를 하나씩 뽑아가면서** 어떠한 반복구문 “??????” 수행하는 것."
      ],
      "id": "9326fbcf-f972-4fc1-b056-9897ce568a3b"
    },
    {
      "cell_type": "code",
      "execution_count": 127,
      "metadata": {},
      "outputs": [],
      "source": [
        "import itertools"
      ],
      "id": "cd3ce647-d7e5-4ffa-b2b5-bb25a4cc7af6"
    },
    {
      "cell_type": "code",
      "execution_count": 129,
      "metadata": {},
      "outputs": [
        {
          "output_type": "stream",
          "name": "stdout",
          "text": [
            "('a', 'b', 'c')\n",
            "('a', 'c', 'b')\n",
            "('b', 'a', 'c')\n",
            "('b', 'c', 'a')\n",
            "('c', 'a', 'b')\n",
            "('c', 'b', 'a')"
          ]
        }
      ],
      "source": [
        "for i in itertools.permutations(['a','b','c']):\n",
        "    print(i)"
      ],
      "id": "04743e92-835c-4853-a388-970b08640a17"
    },
    {
      "cell_type": "code",
      "execution_count": 130,
      "metadata": {},
      "outputs": [
        {
          "output_type": "stream",
          "name": "stdout",
          "text": [
            "('x', 'a')\n",
            "('x', 'b')\n",
            "('x', 'c')\n",
            "('y', 'a')\n",
            "('y', 'b')\n",
            "('y', 'c')"
          ]
        }
      ],
      "source": [
        "for i in itertools.product(['x','y'],['a','b','c']):\n",
        "    print(i)"
      ],
      "id": "11d0ab34-dbac-41ab-8408-6a236308fb7b"
    },
    {
      "cell_type": "markdown",
      "metadata": {},
      "source": [
        "`#`\n",
        "\n",
        "## D. 풀이\n",
        "\n",
        "아래의 문제를 풀어보자..\n",
        "\n",
        "![](https://github.com/guebin/PP2024/blob/main/imgs/2024-수능-확통-23.png?raw=true)\n",
        "\n",
        "(풀이)"
      ],
      "id": "2190d4e2-a192-4899-8dbd-a46a99054270"
    },
    {
      "cell_type": "code",
      "execution_count": 144,
      "metadata": {},
      "outputs": [],
      "source": [
        "len(set([''.join(i) for i in itertools.permutations(['x','x','y','y','z'])]))"
      ],
      "id": "c586a390-182c-494a-bf72-7a1171694f06"
    },
    {
      "cell_type": "markdown",
      "metadata": {},
      "source": [
        "# 5. 2024년 수능 – 확통29\n",
        "\n",
        "## A. 문제이해\n",
        "\n",
        "![](https://github.com/guebin/PP2024/blob/main/imgs/2024-수능-확통-29.png?raw=true)\n",
        "\n",
        "## B. 슈도알고리즘\n",
        "\n",
        "`1`. 아래의 경우를 모두 나열한다.\n",
        "\n",
        "``` python\n",
        "a,b,c,d = 1,1,1,1 \n",
        "a,b,c,d = 1,1,1,2 \n",
        "....\n",
        "a,b,c,d = 6,6,6,6\n",
        "```\n",
        "\n",
        "`2`. 조건 $a \\leq c \\leq d$ 와 $b \\leq c \\leq d$ 를 동시에 만족하는\n",
        "경우를 센다.\n",
        "\n",
        "## C. 예비학습\n",
        "\n",
        "`# 개념1` – for문과 튜플"
      ],
      "id": "62ea91c3-f12f-42f0-b52a-1f7af4ac8705"
    },
    {
      "cell_type": "code",
      "execution_count": 176,
      "metadata": {},
      "outputs": [],
      "source": [
        "lst = [['최규빈',43052,'M'],['아이유',54321,'F'],['하니',11223,'F']]\n",
        "lst[0]"
      ],
      "id": "4fbef83c-0ca7-4a7e-861e-6041259bc0e3"
    },
    {
      "cell_type": "markdown",
      "metadata": {},
      "source": [
        "아래의 코드가 가능하다."
      ],
      "id": "0274bc56-d32b-4c79-a71f-987a138fef4d"
    },
    {
      "cell_type": "code",
      "execution_count": 187,
      "metadata": {},
      "outputs": [
        {
          "output_type": "stream",
          "name": "stdout",
          "text": [
            "['최규빈', 43052, 'M']\n",
            "['아이유', 54321, 'F']\n",
            "['하니', 11223, 'F']"
          ]
        }
      ],
      "source": [
        "for [name,student_id,sex] in lst:\n",
        "    print([name,student_id,sex])\n",
        "# [name,student_id,sex] = ['최규빈', 43052, 'M']\n",
        "# print([name,student_id,sex])\n",
        "# [name,student_id,sex] = ['아이유', 54321, 'F']\n",
        "# print([name,student_id,sex])\n",
        "# [name,student_id,sex] = ['하니', 11223, 'F']\n",
        "# print([name,student_id,sex])"
      ],
      "id": "4e406ae1-9f0d-4137-bbae-3496df517513"
    },
    {
      "cell_type": "markdown",
      "metadata": {},
      "source": [
        "리스트를 튜플로 바꾼다면?"
      ],
      "id": "f5d4668c-079c-4c14-8b7c-4e0b6300c87d"
    },
    {
      "cell_type": "code",
      "execution_count": 203,
      "metadata": {},
      "outputs": [
        {
          "output_type": "stream",
          "name": "stdout",
          "text": [
            "('최규빈', 43052, 'M')\n",
            "('아이유', 54321, 'F')\n",
            "('하니', 11223, 'F')"
          ]
        }
      ],
      "source": [
        "for (name,student_id,sex) in lst:\n",
        "    print((name,student_id,sex))\n",
        "# (name,student_id,sex) = ['최규빈', 43052, 'M']\n",
        "# print((name,student_id,sex))\n",
        "# (name,student_id,sex) = ['아이유', 54321, 'F']\n",
        "# print((name,student_id,sex))\n",
        "# (name,student_id,sex) = ['하니', 11223, 'F']\n",
        "# print((name,student_id,sex))"
      ],
      "id": "553bd70e-307f-4efe-af13-a6ac3cc0d647"
    },
    {
      "cell_type": "markdown",
      "metadata": {},
      "source": [
        "`for (name,student_id,sex) in lst:` 대신에\n",
        "`for name,student_id,sex in lst:` 도 가능"
      ],
      "id": "4ea250bb-0d2f-4852-8daa-66d80ce6e657"
    },
    {
      "cell_type": "code",
      "execution_count": 206,
      "metadata": {},
      "outputs": [
        {
          "output_type": "stream",
          "name": "stdout",
          "text": [
            "('최규빈', 43052, 'M')\n",
            "('아이유', 54321, 'F')\n",
            "('하니', 11223, 'F')"
          ]
        }
      ],
      "source": [
        "for name,student_id,sex in lst:\n",
        "    print((name,student_id,sex))\n",
        "# name,student_id,sex = ['최규빈', 43052, 'M']\n",
        "# print((name,student_id,sex))\n",
        "# name,student_id,sex = ['아이유', 54321, 'F']\n",
        "# print((name,student_id,sex))\n",
        "# name,student_id,sex = ['하니', 11223, 'F']\n",
        "# print((name,student_id,sex))"
      ],
      "id": "6bd0f367-9345-49f9-838e-2fe307dfb850"
    },
    {
      "cell_type": "markdown",
      "metadata": {},
      "source": [
        "아래와 같이 컴프리헨션으로 만들 수도 있음."
      ],
      "id": "0c77e390-5b4b-47bf-8747-6cdfb8c631a1"
    },
    {
      "cell_type": "code",
      "execution_count": 209,
      "metadata": {},
      "outputs": [],
      "source": [
        "[[name,student_id,sex] for name,student_id,sex in lst]"
      ],
      "id": "183813e2-0c1c-4445-9d79-182bbe77aec9"
    },
    {
      "cell_type": "code",
      "execution_count": 210,
      "metadata": {},
      "outputs": [],
      "source": [
        "[(name,student_id,sex) for name,student_id,sex in lst]"
      ],
      "id": "f9a0bbb9-9a98-4b18-863e-5370bbf8a5f9"
    },
    {
      "cell_type": "markdown",
      "metadata": {},
      "source": [
        "아래는 불가능"
      ],
      "id": "567649ee-52ac-4d70-be54-ffb28fb50a6c"
    },
    {
      "cell_type": "code",
      "execution_count": 213,
      "metadata": {},
      "outputs": [],
      "source": [
        "[name,student_id,sex for name,student_id,sex in lst]"
      ],
      "id": "b43ffd33-0c6a-4f7b-a970-9c9b24e9b3f0"
    },
    {
      "cell_type": "markdown",
      "metadata": {},
      "source": [
        "하지만 괄호를 명확하게 쓰기만 하면 만들어짐"
      ],
      "id": "4c82ab31-af69-4861-99f3-b71edce79ae9"
    },
    {
      "cell_type": "code",
      "execution_count": 215,
      "metadata": {},
      "outputs": [],
      "source": [
        "[(name,sex) for name,student_id,sex in lst]"
      ],
      "id": "e2dbc01f-39ce-45ee-9302-eed31cfe2fae"
    },
    {
      "cell_type": "code",
      "execution_count": 216,
      "metadata": {},
      "outputs": [],
      "source": [
        "[(sex,name) for name,student_id,sex in lst]"
      ],
      "id": "e2b8d702-b025-498a-8ae9-194c6f21b7c5"
    },
    {
      "cell_type": "code",
      "execution_count": 218,
      "metadata": {},
      "outputs": [],
      "source": [
        "[name for name,student_id,sex in lst]"
      ],
      "id": "02456bba-5704-41f2-a05b-631abb8059dc"
    },
    {
      "cell_type": "markdown",
      "metadata": {},
      "source": [
        "언더스코어(`_`)를 사용할 수도 있음."
      ],
      "id": "ecf7ee6e-ef2b-4ef8-99a1-fcfa40bc16a9"
    },
    {
      "cell_type": "code",
      "execution_count": 220,
      "metadata": {},
      "outputs": [],
      "source": [
        "[name for name,_,_ in lst]"
      ],
      "id": "38e07469-96d3-4e99-902f-63f8654dd79b"
    },
    {
      "cell_type": "markdown",
      "metadata": {},
      "source": [
        "언더스코어(`_`)를 사용시 `lst[0]`, `lst[1]` 등의 원소숫자와 일치하도록\n",
        "사용해야함"
      ],
      "id": "cc331fad-5cc0-42fc-ad23-226154593185"
    },
    {
      "cell_type": "code",
      "execution_count": 226,
      "metadata": {},
      "outputs": [],
      "source": [
        "[name for name,_ in lst] # 이건 또 실행불가능.."
      ],
      "id": "ab53d343-4e5c-4fb3-aeff-88a7f918ac0d"
    },
    {
      "cell_type": "code",
      "execution_count": 232,
      "metadata": {},
      "outputs": [],
      "source": [
        "[name for name, *args in lst] # 이건 실행가능"
      ],
      "id": "1bd92fae-066a-4730-80ea-b499e9d112e5"
    },
    {
      "cell_type": "markdown",
      "metadata": {},
      "source": [
        "`# 개념2` – 조건문\n",
        "\n",
        "아래의 리스트 원소 $l$ 중에서 조건 $1 < l \\leq 5$를 만족하는 원소는 모두\n",
        "몇개인가?"
      ],
      "id": "46b8f381-3fc8-40ef-af31-9552b25455b3"
    },
    {
      "cell_type": "code",
      "execution_count": 234,
      "metadata": {},
      "outputs": [],
      "source": [
        "lst = [1,2,3,4,5,6,7,8,9] \n",
        "lst"
      ],
      "id": "836ac4fb-d722-4538-9d23-d5319cdc7e74"
    },
    {
      "cell_type": "markdown",
      "metadata": {},
      "source": [
        "(풀이)"
      ],
      "id": "ab5c965d-a711-45cb-b1bc-f32ab319e05d"
    },
    {
      "cell_type": "code",
      "execution_count": 242,
      "metadata": {},
      "outputs": [],
      "source": [
        "sum([1<l and l<=5 for l in lst])"
      ],
      "id": "3b2e19d5-d77a-4e95-860c-a19d5635c998"
    },
    {
      "cell_type": "code",
      "execution_count": 245,
      "metadata": {},
      "outputs": [],
      "source": [
        "sum([1<l<=5 for l in lst])"
      ],
      "id": "fa5c6bce-c4bf-48e2-8fbe-cb29505cd4fd"
    },
    {
      "cell_type": "markdown",
      "metadata": {},
      "source": [
        "## D. 풀이\n",
        "\n",
        "![](https://github.com/guebin/PP2024/blob/main/imgs/2024-수능-확통-29.png?raw=true)\n",
        "\n",
        "(풀이)"
      ],
      "id": "6bc88100-c979-46ee-9e16-d553456c87d6"
    },
    {
      "cell_type": "code",
      "execution_count": 259,
      "metadata": {},
      "outputs": [],
      "source": [
        "lst = [1,2,3,4,5,6]\n",
        "sum([a<=c<=d and b<=c<=d for a,b,c,d in itertools.product(lst,lst,lst,lst)])"
      ],
      "id": "01543a45-24a6-4145-b0e3-e19d1cbd9281"
    },
    {
      "cell_type": "markdown",
      "metadata": {},
      "source": [
        "# 6. 2024년 수능 – 19 (다시풀기)\n",
        "\n",
        "## A. 문제파악\n",
        "\n",
        "![](https://github.com/guebin/PP2024/blob/main/imgs/2024-수능-19.png?raw=true)\n",
        "\n",
        "## B. 예비학습\n",
        "\n",
        "`-` 예제: 제곱수중에서 12로 나누어서 떨어지는 수만 원소르 가지는\n",
        "리스트를 만들고 싶다.\n",
        "\n",
        "-   제곱수: 1,4,9,16,25,36,…\n",
        "-   12로 나누어서 떨어지는 수: 36\n",
        "\n",
        "(복습1)"
      ],
      "id": "e5edef3a-01a4-4089-a400-ef8d2a124161"
    },
    {
      "cell_type": "code",
      "execution_count": 261,
      "metadata": {},
      "outputs": [],
      "source": [
        "12 % 4 # % 는 나머지를 계산하는 연산자, 12를 4로 나누었더니 나머지가 0"
      ],
      "id": "905863aa-1c83-4b01-83b3-77de6819d47a"
    },
    {
      "cell_type": "code",
      "execution_count": 263,
      "metadata": {},
      "outputs": [],
      "source": [
        "12 % 5 # 12 = 5*2 +2 "
      ],
      "id": "7ec0de71-b903-497f-9ae3-2c2a94ce274d"
    },
    {
      "cell_type": "markdown",
      "metadata": {},
      "source": [
        "(복습2)"
      ],
      "id": "b4a50862-851e-4927-9c2a-e14ec36389ee"
    },
    {
      "cell_type": "code",
      "execution_count": 266,
      "metadata": {},
      "outputs": [],
      "source": [
        "a = 3 # a에 2를 대입하라..."
      ],
      "id": "7c5418da-e9f9-4582-bcb8-3b60352e46f3"
    },
    {
      "cell_type": "code",
      "execution_count": 267,
      "metadata": {},
      "outputs": [],
      "source": [
        "a == 2 # a에 들어있는 값이 2이인지 테스트하라.."
      ],
      "id": "9c6538f8-54fb-4e67-8e35-25a116669d56"
    },
    {
      "cell_type": "code",
      "execution_count": 268,
      "metadata": {},
      "outputs": [],
      "source": [
        "a == 3"
      ],
      "id": "d36ef681-bf15-4815-9a24-3f0a3b84e440"
    },
    {
      "cell_type": "markdown",
      "metadata": {},
      "source": [
        "(풀이1) – 비어있는 리스트를 만들고, for + if 를 사용"
      ],
      "id": "ceda1ec1-7a88-4099-935e-3ad5deabd783"
    },
    {
      "cell_type": "code",
      "execution_count": 271,
      "metadata": {},
      "outputs": [],
      "source": [
        "lst = []\n",
        "for i in range(1,101):\n",
        "    if i**2 % 12 == 0: # i^2을 12로 나누어서 나누어 떨어진다면\n",
        "        lst.append(i**2)"
      ],
      "id": "108b9936-5c08-459a-a045-2d71bb17a7f3"
    },
    {
      "cell_type": "code",
      "execution_count": 272,
      "metadata": {},
      "outputs": [],
      "source": [
        "lst"
      ],
      "id": "7215718a-670b-47da-b11f-27efed55a349"
    },
    {
      "cell_type": "markdown",
      "metadata": {},
      "source": [
        "(풀이2) - if문이 포함된 리스트 컴프리헨션"
      ],
      "id": "c81941dc-b9db-4b24-a20e-f422bb08e505"
    },
    {
      "cell_type": "code",
      "execution_count": 274,
      "metadata": {},
      "outputs": [],
      "source": [
        "[i**2 for i in range(1,101) if i**2 % 12 ==0] "
      ],
      "id": "653e4ca2-9b0f-4d4c-9565-dd5fb88fb6f0"
    },
    {
      "cell_type": "markdown",
      "metadata": {},
      "source": [
        "## C. 풀이\n",
        "\n",
        "![](https://github.com/guebin/PP2024/blob/main/imgs/2024-수능-19.png?raw=true)\n",
        "\n",
        "(풀이)"
      ],
      "id": "83bf9e53-e13c-452e-95c4-8db3b688d5da"
    },
    {
      "cell_type": "code",
      "execution_count": 293,
      "metadata": {},
      "outputs": [],
      "source": [
        "x = list(range(1,16))\n",
        "f = lambda x: np.sin(np.pi/4*x)\n",
        "sum([xi for xi in x if f(2+xi)*f(2-xi)<1/4])"
      ],
      "id": "12871706-8095-4a1f-9290-73b7786fa146"
    },
    {
      "cell_type": "markdown",
      "metadata": {},
      "source": [
        "# 7. 컴프리헨션 연습\n",
        "\n",
        "지금까지 해결했던 다양한 문제를 넘파이의 벡터연산을 봉인하고 해결해보자.\n",
        "\n",
        "`# 예제1` – 아래를 리스트컴프리헨션을 이용하여 구현하라."
      ],
      "id": "1f4323de-2502-4d50-8689-9a681186570d"
    },
    {
      "cell_type": "code",
      "execution_count": 294,
      "metadata": {},
      "outputs": [],
      "source": [
        "arr = np.array([1,2,3])\n",
        "arr + 1"
      ],
      "id": "87161388-d471-44db-84eb-f85f011e7ddc"
    },
    {
      "cell_type": "code",
      "execution_count": 295,
      "metadata": {},
      "outputs": [],
      "source": [
        "arr * 2"
      ],
      "id": "597671f5-788d-4961-904f-4c0496d6c726"
    },
    {
      "cell_type": "markdown",
      "metadata": {},
      "source": [
        "(풀이)"
      ],
      "id": "d3709e8f-fd58-4917-a445-5c69df7d2b65"
    },
    {
      "cell_type": "code",
      "execution_count": 296,
      "metadata": {},
      "outputs": [],
      "source": [
        "lst = [1,2,3]"
      ],
      "id": "960191ff-17ff-4ffe-88d6-2c44d23b3fcd"
    },
    {
      "cell_type": "code",
      "execution_count": 298,
      "metadata": {},
      "outputs": [],
      "source": [
        "[l+1 for l in lst]"
      ],
      "id": "b3618a49-3f20-419a-822f-d0c5a09af57d"
    },
    {
      "cell_type": "code",
      "execution_count": 300,
      "metadata": {},
      "outputs": [],
      "source": [
        "[l*2 for l in lst]"
      ],
      "id": "c70e550a-28d8-4257-92bf-164acb64d6fd"
    },
    {
      "cell_type": "markdown",
      "metadata": {},
      "source": [
        "`#`\n",
        "\n",
        "`# 예제2` – 아래를 리스트 컴프리헨션을 이용하여 구현하자."
      ],
      "id": "16f515cb-f780-4ec0-8431-6e06c4bbae5b"
    },
    {
      "cell_type": "code",
      "execution_count": 302,
      "metadata": {},
      "outputs": [],
      "source": [
        "n = np.arange(1,11)\n",
        "an = 3*n - 2 \n",
        "an"
      ],
      "id": "ffb6401f-db54-4944-b498-ef91c772298d"
    },
    {
      "cell_type": "markdown",
      "metadata": {},
      "source": [
        "(풀이)"
      ],
      "id": "db5cc11a-bee4-48f1-933b-93f469ed23db"
    },
    {
      "cell_type": "code",
      "execution_count": 307,
      "metadata": {},
      "outputs": [],
      "source": [
        "[3*n-2 for n in range(1,11)]"
      ],
      "id": "be4e7b40-02bf-4b2a-950a-db1f6ebd6b1a"
    },
    {
      "cell_type": "markdown",
      "metadata": {},
      "source": [
        "`#`\n",
        "\n",
        "`# 예제3` – 아래의 코드에서 `list(map(f,x))` 대신에 리스트 컴프리헨션을\n",
        "이용하라."
      ],
      "id": "b15cd6e4-effe-477f-9658-a1fbdd55c1e3"
    },
    {
      "cell_type": "code",
      "execution_count": 310,
      "metadata": {},
      "outputs": [],
      "source": [
        "x = np.arange(1,11)\n",
        "f = lambda x: x+2 \n",
        "list(map(f,x))"
      ],
      "id": "09c94195-1eba-4e25-bdb0-cb7b83bb6221"
    },
    {
      "cell_type": "markdown",
      "metadata": {},
      "source": [
        "(풀이)"
      ],
      "id": "fb4f63f3-8d48-40f3-abd3-9944a058e94f"
    },
    {
      "cell_type": "code",
      "execution_count": 313,
      "metadata": {},
      "outputs": [],
      "source": [
        "f = lambda x: x+2 \n",
        "[f(x) for x in range(1,11)]"
      ],
      "id": "0b590c7c-0cc1-4b23-837c-015b87e8344b"
    },
    {
      "cell_type": "markdown",
      "metadata": {},
      "source": [
        "`#`\n",
        "\n",
        "**팁: 반복계산을 해야할 경우**\n",
        "\n",
        "1.  벡터화연산이 지원된다면 그것을 사용한다. (numpy, pandas)\n",
        "2.  불가능할 경우 `map(f,x)`를 쓰거나 리스트컴프리헨션을 사용한다.\n",
        "3.  그래도 안되는 경우 `for`를 사용한다."
      ],
      "id": "dbfe9ed6-e387-4a43-9d0e-4389866da680"
    }
  ],
  "nbformat": 4,
  "nbformat_minor": 5,
  "metadata": {
    "kernelspec": {
      "name": "python3",
      "display_name": "Python 3 (ipykernel)",
      "language": "python"
    },
    "language_info": {
      "name": "python",
      "codemirror_mode": {
        "name": "ipython",
        "version": "3"
      },
      "file_extension": ".py",
      "mimetype": "text/x-python",
      "nbconvert_exporter": "python",
      "pygments_lexer": "ipython3",
      "version": "3.11.8"
    }
  }
}