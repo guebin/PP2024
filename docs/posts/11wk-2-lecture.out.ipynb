{
  "cells": [
    {
      "cell_type": "markdown",
      "metadata": {},
      "source": [
        "# 11wk-2: 클래스 (1) – 클래스의 기본사용\n",
        "\n",
        "최규빈  \n",
        "2024-05-17\n",
        "\n",
        "<a href=\"https://colab.research.google.com/github/guebin/PP2024/blob/main/posts/11wk-2.ipynb\"><img src=\"https://colab.research.google.com/assets/colab-badge.svg\" style=\"text-align: left\"></a>\n",
        "\n",
        "# 1. 강의영상"
      ],
      "id": "7c9863db-66bd-45ee-aeb2-c0e1a9c69dee"
    },
    {
      "cell_type": "code",
      "execution_count": 47,
      "metadata": {
        "tags": []
      },
      "outputs": [],
      "source": [
        "#{{<video https://youtu.be/playlist?list=PLQqh36zP38-xKLMTjfFSp1PMSYsgSx5zd&si=v9NqSzwmAbbi3BiB >}}"
      ],
      "id": "1af481c3-8870-46b4-a68e-77416120ab8f"
    },
    {
      "cell_type": "markdown",
      "metadata": {},
      "source": [
        "# 2. Imports"
      ],
      "id": "3ba3efa8-fabb-4340-810f-caf50d264333"
    },
    {
      "cell_type": "code",
      "execution_count": 78,
      "metadata": {
        "tags": []
      },
      "outputs": [],
      "source": [
        "import PIL.Image\n",
        "import requests\n",
        "import random"
      ],
      "id": "c1da9510-e3c7-4e0b-9312-3846f380ef7f"
    },
    {
      "cell_type": "markdown",
      "metadata": {},
      "source": [
        "# 3. 밈(Meme)\n",
        "\n",
        "## A. 하이브\n",
        "\n",
        "<https://imnews.imbc.com/replay/2024/nwtoday/article/6593064_36523.html>\n",
        "\n",
        "## B. 하이브사태의 밈화\n",
        "\n",
        "<https://youtu.be/tSI7yTu7OH8?si=RTED0CNkUdAiC6K5>\n",
        "\n",
        "## C. 참 쉽죠\n",
        "\n",
        "<https://www.youtube.com/shorts/W4xSOV96ing>\n",
        "\n",
        "-   밥로스는 누구?: 나무위키 <https://namu.wiki/w/밥%20로스>\n",
        "-   참쉽죠 밈: 나무위키 <https://namu.wiki/w/참%20쉽죠%3F>\n",
        "-   참쉽죠 밈의 설명: 티스토리 <https://everymemes.tistory.com/156>\n",
        "\n",
        "## D. 밈이란? 밈과 인터넷 밈의 차이\n",
        "\n",
        "`-` 밈이란? (유전자처럼) 복제가능한 something\n",
        "\n",
        "-   이기적 유전자에서 제시한 개념\n",
        "-   유전자는 (1) 복제 (2) 변형되면서 (3) 전파되는 속성이 있다는 사실을\n",
        "    관찰\n",
        "-   종교, 사상, 이념도 유전자처럼 (1) 복제 (2) 변형되면서 (3)\n",
        "    전파되더라..\n",
        "-   밈 = 유전자의 일반화된 개념 = 복제가능한 something\n",
        "\n",
        "`-` 인터넷 밈이란?\n",
        "\n",
        "-   밈의 한 형태\n",
        "-   인터넷을 통하여 (1)복제 (2)변형되면서 (3) 전파되는 something\n",
        "-   어떠한 내용이 많은 사람들에게 그 복제, 변형, 전파 되는것에\n",
        "    성공되었다면 그 어떠한 내용이 “밈화” 되었다고 표현한다.\n",
        "\n",
        "`-` 밈의 예시\n",
        "\n",
        "-   이데올로기: 민주주의, 공산주의와 같은 이념은 오랜시간동안 다양한\n",
        "    문화와 사회에 전파되고 발전해왔음.\n",
        "-   건축양식: 특정 건축 양식이나 디자인도 밈으로 볼 수 있음. 예를들어\n",
        "    고딕양식의 건축물이나 르네상스 시대의 건축양식은 각 시대와 지역에\n",
        "    문화요소에 맞추어 발전되고 전파되었음.\n",
        "-   레포트표지: 어떤 사람이 레포트표지 양식을 만들었음. 이 레포트 양식을\n",
        "    후배들에게 전달되었는데 그것이 변형을 거쳐서 이어내려오며 살아있음.\n",
        "    이 역시 “아이디어나 어떠한 요소가 사람들사이에서 (1) 복제 (2)\n",
        "    변형 (3) 재생산 되므로” 밈의 전형적인 특성과 일치한다. 따라서\n",
        "    레포표지양식의 변형 및 확산도 밈으로 간주할 수 있음.\n",
        "\n",
        "# 4. 클래스\n",
        "\n",
        "## A. 클래스란? (다른교재 설명)\n",
        "\n",
        "`-` 클래스의 정의\n",
        "\n",
        "-   많은 교재에서 정의를 회피한다.\n",
        "-   대신에 비유적으로 설명하거나 다른 대상을 가져와서 설명한다.\n",
        "\n",
        "`-` 클래스에 대한 비유적 설명 (implicit definition)\n",
        "\n",
        "-   [점프투파이썬](https://wikidocs.net/book/1): 클래스는 과자틀과\n",
        "    비슷하다. 클래스란 똑같은 무엇인가를 계속 만들어 낼 수도 있는\n",
        "    설계도면이고 객체란 클래스로 만든 피조물을 뜻한다.\n",
        "\n",
        "-   [위키피디아](https://en.wikipedia.org/wiki/Class_(computer_programming)):\n",
        "    In object-oriented programming, a class is an extensible\n",
        "    program-code-template for creating objects, providing initial\n",
        "    valuesfor state (member variables) and implementations of behavior\n",
        "    (member functions or methods). // 객체 지향 프로그래밍에서 클래스는\n",
        "    상태(멤버 변수) 및 동작 구현(멤버 함수 또는 메서드)에 대한 초기 값을\n",
        "    제공하는 객체 생성을 위한 확장 가능한 프로그램 코드 템플릿입니다.\n",
        "\n",
        "-   [TCP스쿨](http://www.tcpschool.com/java/java_class_intro):\n",
        "    클래스(class)란 객체를 정의하는 틀 또는 설계도와 같은 의미로 사용\n",
        "\n",
        "-   [티스토리 블로그](https://javacpro.tistory.com/29): 학생 클래스..?\n",
        "\n",
        "-   기타 서적들..\n",
        "\n",
        "## B. 클래스란? (제 생각)\n",
        "\n",
        "`-` **클래스에 대한 명시적 정의 (책에 나온것 아니고 제 생각입니다!!)**:\n",
        "클래스는 **복제**, **변형**, **확산**을 용이하게 하기 위해 만들어진\n",
        "프로그램의 코드의 단위(**extensible program-code-template**)이다. 즉\n",
        "밈이다.\n",
        "\n",
        "`-` 생각해보면 클래스를 만들고 사용하는 과정이 인터넷에서 밈을 만들고\n",
        "노는것과 닮아 있다.\n",
        "\n",
        "| 단계                              | 인터넷밈                                                                                                                      | 클래스                                                                                                                                                     | 레포트표지                                                                                                                                                  |\n",
        "|:-----------------|:-----------------|:-----------------|:-----------------|\n",
        "| 1단계: 구상                       | $\\bullet$ 이거 재미있다. <br/> $\\bullet$ 밈화하자.                                                                            | $\\bullet$ 이 코드 반복해서 자주 쓸 것 같다. <br/> $\\bullet$ 이 코드를 쉽게 찍어내는 (복사할 수 있는) 클래스를 만들자                                       | $\\bullet$ 레포트 표지를 자주 만들 것 같음 <br/> $\\bullet$ 양식파일을 만들까?                                                                                |\n",
        "| 2단계: 틀생성                     | $\\bullet$ “밈틀”: 복사하고 싶은 속성을 추려 밈을 생산하기에 유리한 틀을 만듬                                                  | $\\bullet$ 클래스의 선언                                                                                                                                    | $\\bullet$ REPORT_2024_최규빈.hwp 양식파일을 생성                                                                                                            |\n",
        "| 3단계: 틀 $\\to$ 복제              | $\\bullet$ 밈화: “밈틀”에서 다양한 밈을 만들고 놈                                                                              | $\\bullet$ 인스턴스화: 클래스에서 인스턴스를 생산                                                                                                           | $\\bullet$ 레포트 양식표지에서 다양한 레포트를 냄                                                                                                            |\n",
        "| 4단계: 틀 $\\to$ 틀변경 $\\to$ 복제 | $\\bullet$ 생각해보니까 초기 밈틀은 시시함. <br/> $\\bullet$ 초기 밈틀을 수정해 새로운 밈틀을 만들고 더 재미있는 밈을 만들고 놈 | $\\bullet$ 초기클래스와 비슷한 클래스를 선언할 일이 생김 <br/> $\\bullet$ 상속,오버라이딩: 초기클래스를 상속받아 클래스를 새롭게 정의하고 인스턴스를 재 생산 | $\\bullet$ 공모전에 참가하여 결과보고서 표지를 만들 일이 생김. <br/> $\\bullet$ REPORT_2023_최규빈.hwp 를 적당히 변형하여 수정된 틀을 만들고 결과보고서 생산. |\n",
        "\n",
        "**밈이 변형된 예시**: 슉슈슈슈슉 ㅅㅂㄹㅁ\n",
        "\n",
        "`-` 기원: 트위치 -\\> 문자 -\\> 돌하르방\n",
        "\n",
        "-   [참고자료](https://namu.wiki/w/%EC%8A%88%EC%8A%89%20%EC%8A%88%EC%88%99.%20%EC%8A%89.%20%EC%8B%9C.%20%EC%8B%9C%EB%B0%9C%EB%9F%BC%EC%95%84.)\n",
        "\n",
        "`-` 전혀 다른 성질을 가진 밈으로 재탄생한 경우임\n",
        "\n",
        "-   만들어진 계기: 트위치에서 tts를 이용해 조롱을 하기 위해 탄생\n",
        "-   유명해진 계기: 택배실수\n",
        "-   슉슈슈슈슉: 돌하르방과 결합.. (돌하르방의 기묘한 자세와 결합하여 더\n",
        "    재미있음)\n",
        "\n",
        "# 5. 클래스의 선언 및 사용\n",
        "\n",
        "## A. 클래스 선언\n",
        "\n",
        "`-` 클래스를 선언"
      ],
      "id": "50621c65-6094-4fb0-8dee-1457af7156c1"
    },
    {
      "cell_type": "code",
      "execution_count": null,
      "metadata": {},
      "outputs": [],
      "source": [
        "class BobRoss:\n",
        "    \n",
        "    "
      ],
      "id": "53e9fec0-fcc0-4dea-857f-e7c062e5f117"
    },
    {
      "cell_type": "markdown",
      "metadata": {},
      "source": [
        "-   규칙1: 메소드(=class안에서 정의되는 함수)의 첫번째 입력은 무조건(?)\n",
        "    `self`\n",
        "-   규칙2: 메소드에서 class안에서 정의된 변수들 (`start`,`url`,`end`) 를\n",
        "    사용하려면 무조건(?) `self.변수이름`과 같은 형식으로 사용할 것.\n",
        "\n",
        "> 참고1: 사실 규칙1에서 무조건 `self`를 써야하는건 아님. 그런데 그냥\n",
        "> 무조건 쓴다고 생각하자.\n",
        "\n",
        "> 참고2: 사실 class안에서 정의된 변수를 쓸때 무조건 `self.변수이름`와\n",
        "> 같은 형식으로 쓰는건 아님.`BobRoss.start`, `BobRoss.url`,\n",
        "> `BobRoss.end`와 같이 self 대신 클래스이름을 쓰는 경우도 있음. 그렇지만\n",
        "> 여기선 그냥 무조건 쓴다고 생각하자.\n",
        "\n",
        "`-` 클래스의 사용 (클래스에서 인스턴스 만들기, 인스턴스에서 메소드\n",
        "사용하기)\n",
        "\n",
        "## B. 인스턴스의 독립성\n",
        "\n",
        "`-` 중간고사 1번해설\n",
        "\n",
        "`-` 중간고사 3번 해설\n",
        "\n",
        "`-` 중간고사 3번해설의 이미지 변경\n",
        "\n",
        "`-` 여전히 중간고사 1번해설은 잘 있음\n",
        "\n",
        "`-` 중간고사3번 해설추가 + 제목추가\n",
        "\n",
        "`-` 중간고사1번해설도 제목 추가.\n",
        "\n",
        "## C. 연습문제\n",
        "\n",
        "`# 예제1`: 아래의 클래스를 구현하라.\n",
        "\n",
        "`-` 클래스내에는 변수 `a`가 있다. 변수 `a`의 초기값은 True이다.\n",
        "\n",
        "`-` 클래스에는 `show()`라는 메소드가 있다. `show()`의 기능은 `a`의 값을\n",
        "print하는 기능을 한다.\n",
        "\n",
        "(풀이)\n",
        "\n",
        "`#`\n",
        "\n",
        "`# 예제2`: 아래의 클래스를 구현하라.\n",
        "\n",
        "`-` 클래스내에는 변수 `a`가 있다. 변수 `a`의 초기값은 1이다.\n",
        "\n",
        "`-` 클래스에는 `up()`라는 메소드가 있다. `up()`의 기능은 `a`의 값을\n",
        "1증가시키는 기능을 한다.\n",
        "\n",
        "(풀이)\n",
        "\n",
        "`# 예제3`: 아래의 클래스를 구현하라.\n",
        "\n",
        "`-` 클래스내에는 변수 `a`가 있다. 변수 `a`의 초기값은 0이다.\n",
        "\n",
        "`-` 클래스에는 `up()`,`down()`,`show()`라는 메소드가 있다. 각각은 `a`의\n",
        "값을 1증가, `a`의 값을 1감소, `a`의 값을 print하는 기능을 한다.\n",
        "\n",
        "(풀이)\n",
        "\n",
        "`#`\n",
        "\n",
        "`# 예제4`: 아래의 클래스를 구현하라.\n",
        "\n",
        "`-` 클래스내에는 변수 `a`가 있다. 변수 `a`의 초기값은 0이다.\n",
        "\n",
        "`-` 클래스에는 `up()`,`jump()`,`show()` 라는 메소드가 있다.\n",
        "\n",
        "-   `up()`은 `a`의 값을 1증가시킨다.\n",
        "-   `jump()`는 `jump_size`를 입력으로 받으며 `a`의 값을 `jump_size`만큼\n",
        "    증가시킨다.\n",
        "-   `show()`는 `a`의 값을 print하는 기능을 한다.\n",
        "\n",
        "`# 예제5`: 아래의 클래스 `BobCount`을 구현하라.\n",
        "\n",
        "`-` 클래스내에는 변수 `imgurl`이 있음. 초기값은\n",
        "`https://github.com/guebin/PP2024/blob/main/posts/easy.jpeg?raw=true`이다.\n",
        "\n",
        "`-` 클래스에는 `imshow()`이라는 메소드를 가지는데, 메소드는 아래와 같은\n",
        "기능을 한다.\n",
        "\n",
        "-   기능1: `imgurl`의 그림을 출력\n",
        "-   기능2: ‘당신은 이 그림을 $n$번 보았습니다’ 출력. 여기에서 $n$은\n",
        "    그림을 본 횟수\n",
        "\n",
        "(풀이)\n",
        "\n",
        "`#`\n",
        "\n",
        "`# 예제6`: 아래의 기능을 가지는 `RPS` 클래스를 구현하라.\n",
        "\n",
        "`-` `action_space` 라는 변수가 있다. 초기값은 빈 리스트.\n",
        "\n",
        "`-` `act` 라는 함수가 있다. 이 함수는 `action_space`에서 하나의 값을\n",
        "뽑는 함수이다.\n",
        "\n",
        "사용예시\n",
        "\n",
        "``` python\n",
        "guebin = RPS()\n",
        "guebin.action_space = ['가위','바위']\n",
        "guebin.act() # 가위가 1/2 바위가 1/2의 확률로 출력 \n",
        "hani = RPS()\n",
        "hani.action_space = ['가위','바위','보']\n",
        "hani.act() # 가위, 바위, 보가 1/3의 확률로 출력 \n",
        "```\n",
        "\n",
        "(풀이)\n",
        "\n",
        "`#`\n",
        "\n",
        "# 6. `self`의 의미\n",
        "\n",
        "## A. BobCount 의 다른구현\n",
        "\n",
        "`-` 이전 예제를 다시 복습\n",
        "\n",
        "`-` 위의 예제는 아래와 같이 구현할 수도 있다.\n",
        "\n",
        "## B. `self` = 인스턴스의 태명!\n",
        "\n",
        "`-` 결국에는 `a.n = a.n + 1`의 기능을 구현하여 클래스의 `imshow`\n",
        "메소드에 넣은것이 `self.n = self.n + 1` 이다.\n",
        "\n",
        "`-` 따라서 `self`는 `a`에 대응한다. 즉 `self`는 인스턴스의 이름을\n",
        "대신한다. 우리가 하고 싶은 것은 클래스를 선언하는 시점에서 인스턴스가\n",
        "생성된 이후시점에 대한 어떠한 동작들을 정의하고 싶은 것이다. 그런데\n",
        "클래스를 설계하는 시점에서는 인스턴스의 이름이 정해지지 않았으므로 (아직\n",
        "인스턴스가 태어나지도 않음) 이러한 동작들을 정의하기 불편하다. 그래서\n",
        "클래스를 설계하는 시점에서 그 클래스로부터 만들어지는 인스턴스는 그냥\n",
        "`self`라는 가칭으로 부른다. (굳이 비유하면 `self`는 인스턴스의 태명같은\n",
        "것임)\n",
        "\n",
        "`-` 요약: `self`의 의미는 (후에 만들어질) 인스턴스의 이름이다. (즉\n",
        "`self`는 인스턴스의 태명같은것임)\n",
        "\n",
        "# 7. `__init__`의 이해\n",
        "\n",
        "## A. 모티브\n",
        "\n",
        "`-` 아래의 예시를 다시 관찰하자.\n",
        "\n",
        "`-` 인스턴스를 만들때마다 `guebin.action_space` , `hani.action_space` 를\n",
        "재설정해서 쓸만하게 만드는 것이 귀찮다. $\\to$ `guebin`을 만들때\n",
        "`action_space`도 같이 초기화하면 어떨까?\n",
        "\n",
        "``` python\n",
        "# 희망코드 \n",
        "guebin = RPS(['가위','바위']) # 가위와 바위를 낼 수 있는 플레이어 guebin를 생성해줘\n",
        "hani = RPS(['가위','바위','보']) # 가위와 바위와 보를 낼 수 있는 플레이어 hani를 생성해줘\n",
        "```\n",
        "\n",
        "`-` 클래스에서 인스턴스를 만드는 시점에서, 내가 사용할 일련의 변수들을\n",
        "자동으로 선언했으면 좋겠다.\n",
        "\n",
        "## B. `__init__`\n",
        "\n",
        "`-` 아래의 코드를 사용하자.\n",
        "\n",
        "## C. 클래스 디자인 패턴\n",
        "\n",
        "`#1` 클래스의 선언: 클래스의 선언은 아래와 같이 하며 클래스의 이름은\n",
        "대문자로 한다.\n",
        "\n",
        "``` python\n",
        "# 예시1: 좋은사례\n",
        "class BobRoss:\n",
        "    ???\n",
        "    ???\n",
        "```\n",
        "\n",
        "``` python\n",
        "# 예시2: 나쁜사례 -- 클래스 이름은 대문자로 시작해야해\n",
        "class bobRoss:\n",
        "    ???\n",
        "    ???\n",
        "```\n",
        "\n",
        "> 딴지: 대문가 아니어도 에러는 안나는데..\n",
        "\n",
        "`#2` 클래스의 내용: 클래스의 내용은 메소드만을 정의하는데에만 사용한다.\n",
        "\n",
        "``` python\n",
        "# 예시1: 좋은사례 \n",
        "class RPS:\n",
        "    def __init__(self):\n",
        "        self.action_space = []\n",
        "    def act(self):\n",
        "        return random.choice(self.action_space)\n",
        "```\n",
        "\n",
        "``` python\n",
        "# 예시2: 나쁜사례\n",
        "class RPS:\n",
        "    action_space = []\n",
        "    def act(self):\n",
        "        return random.choice(self.action_space)\n",
        "```\n",
        "\n",
        "> 딴지: 꼭 메소드만 클래스의 내용으로 쓰라는 법이 없긴함.\n",
        "\n",
        "`#3` 메소드의 첫번째 입력은 항상 self 로 사용한다.\n",
        "\n",
        "> 딴지: 이것도 꼭 그런건 아님\n",
        "\n",
        "# 8. 파이썬의 자료형\n",
        "\n",
        "## A. 인스턴스의 자료형\n",
        "\n",
        "`-` 파이썬에는 자료형이라는게 있었음."
      ],
      "id": "31d18de8-3b21-4354-b86b-7651640fed09"
    },
    {
      "cell_type": "code",
      "execution_count": 2,
      "metadata": {
        "tags": []
      },
      "outputs": [],
      "source": [
        "a = [1,2,3]"
      ],
      "id": "86f5b41e-546f-4b38-8c0c-1a9955cb459a"
    },
    {
      "cell_type": "code",
      "execution_count": 3,
      "metadata": {
        "tags": []
      },
      "outputs": [],
      "source": [
        "type(a)"
      ],
      "id": "2a3b35c2-f9e5-4a5e-ba53-1b55c1b2c1b6"
    },
    {
      "cell_type": "markdown",
      "metadata": {},
      "source": [
        "`-` 그렇다면 아래의 자료형은 뭐지?"
      ],
      "id": "a55f7a23-33ea-44df-a020-461de4c73750"
    },
    {
      "cell_type": "code",
      "execution_count": 5,
      "metadata": {
        "tags": []
      },
      "outputs": [],
      "source": [
        "class BobRoss: \n",
        "    text = '' \n",
        "    imgurl = \"https://github.com/guebin/PP2024/blob/main/posts/easy.jpeg?raw=true\"\n",
        "    end = '어때요, 참 쉽죠??'\n",
        "    def easy(self):\n",
        "        print(self.text)\n",
        "        display(PIL.Image.open(PIL.Image.io.BytesIO(requests.get(self.imgurl).content)))\n",
        "        print(self.end)"
      ],
      "id": "991495da-5825-4c84-ac99-af1be7602bae"
    },
    {
      "cell_type": "code",
      "execution_count": 6,
      "metadata": {
        "tags": []
      },
      "outputs": [],
      "source": [
        "bob = BobRoss()"
      ],
      "id": "c6df1680-4da5-442f-b64f-e1a3d3c0af5a"
    },
    {
      "cell_type": "markdown",
      "metadata": {},
      "source": [
        "`-` 타입을 알아보자.\n",
        "\n",
        "`-` ??? 타입은 자료형, 즉 `int`, `float`, `list` 이런것 아니었나??\n",
        "\n",
        "`-` 지금 `bob`의 자료형은 int, float, list 같은게 아니라 `BobRoss`가\n",
        "나왔다.\n",
        "\n",
        "-   가설1: 사실 밥로스를 기리기 위해서 파이썬 내부에 `BobRoss`라는\n",
        "    자료형이 있었다. 그런데 내가 만든 `bob`이 우연히 그 자료형을 따르는\n",
        "    것!\n",
        "-   가설2: 지금 보니까 인스턴스의 type은 클래스의 이름과 같은것 같다.\n",
        "    따라서 `a = [1,2,3]` 에서 `a`의 자료형이 `list`인것은 사실\n",
        "    `list`라는 클래스의 존재가 있음을 의미하고, `a`는 그 클래스에서 생긴\n",
        "    인스턴스라는 의미이다. 즉 `list` 자료형을 찍어낼 수 있는 어떠한\n",
        "    클래스가 파이썬에 내부적으로 존재할 것이다.\n",
        "\n",
        "## B. 깨달음1\n",
        "\n",
        "`-` 가설2가 맞다? 그렇다면 아래는 모두 어딘가에서 찍혀진 인스턴스이다."
      ],
      "id": "c3cdd815-4590-4ecd-89ae-1339d4f3d71d"
    },
    {
      "cell_type": "code",
      "execution_count": 8,
      "metadata": {
        "tags": []
      },
      "outputs": [],
      "source": [
        "a=[1,2,3]\n",
        "a?"
      ],
      "id": "6eb5f950-0113-4e2b-8cf5-fe9917536f18"
    },
    {
      "cell_type": "code",
      "execution_count": 9,
      "metadata": {
        "tags": []
      },
      "outputs": [],
      "source": [
        "a=1,2,3\n",
        "a?"
      ],
      "id": "5644b8b5-0500-4447-87ee-b83971ca7b2d"
    },
    {
      "cell_type": "code",
      "execution_count": 10,
      "metadata": {
        "tags": []
      },
      "outputs": [],
      "source": [
        "a=1\n",
        "a?"
      ],
      "id": "ac7e52fb-c1de-48da-9187-b882b232b213"
    },
    {
      "cell_type": "code",
      "execution_count": 11,
      "metadata": {
        "tags": []
      },
      "outputs": [],
      "source": [
        "a='1'\n",
        "a?"
      ],
      "id": "53e69f5f-3155-49ab-abae-92ee61e1da6d"
    },
    {
      "cell_type": "markdown",
      "metadata": {},
      "source": [
        "`-` 그리고 위의 `a=[1,2,3]`과 같은 것들은 모두 “클래스-\\>인스턴스”에\n",
        "해당하는 과정이었음\n",
        "\n",
        "## C. 깨달음2\n",
        "\n",
        "`-` 생각해보니까 아래와 같이 list를 선언하는 방식도 있었음"
      ],
      "id": "b4ab2f26-61d0-4c81-853f-553ea663972a"
    },
    {
      "cell_type": "code",
      "execution_count": 12,
      "metadata": {
        "tags": []
      },
      "outputs": [],
      "source": [
        "a=list()\n",
        "a"
      ],
      "id": "8118f39e-937f-453d-ba54-9664a9968b22"
    },
    {
      "cell_type": "markdown",
      "metadata": {},
      "source": [
        "-   이거 지금 생각하니까 list라는 이름의 클래스에서 a라는 인스턴스를\n",
        "    찍어내는 문법이다?!\n",
        "\n",
        "`-` 아래도 가능함"
      ],
      "id": "511f8978-2b96-4f0e-ad0e-e5ff847ac39d"
    },
    {
      "cell_type": "code",
      "execution_count": 13,
      "metadata": {
        "tags": []
      },
      "outputs": [],
      "source": [
        "a=list((1,2,3))\n",
        "a?"
      ],
      "id": "f9cb158f-2525-47f9-93c6-a0e5ce8766cb"
    },
    {
      "cell_type": "markdown",
      "metadata": {},
      "source": [
        "-   이것도 지금 보니까 list라는 이름의 클래스에서 a라는 인스턴스를\n",
        "    찍어내는 문법이다. 여기에서 (1,2,3)은 `__init__()`의 입력이다.\n",
        "\n",
        "## D. 깨달음3\n",
        "\n",
        "`-` 그러고보니까 각 자료형마다 특수한 기능들이 있었음"
      ],
      "id": "c71d8452-e2ee-4a04-81f2-65d184c0161c"
    },
    {
      "cell_type": "code",
      "execution_count": 74,
      "metadata": {},
      "outputs": [],
      "source": [
        "a=[1,2,3] "
      ],
      "id": "cb7c5119-6d11-4a71-838e-420b2e5fd76c"
    },
    {
      "cell_type": "markdown",
      "metadata": {},
      "source": [
        "`-` `a.`+tab 을 하면 append, clear 등등이 나온다.\n",
        "\n",
        "`-` 이러한 기능은 지금까지 우리가 “list자료형 특수기능들”이라고 부르면서\n",
        "사용했었다. 그런데 a가 list클래스에서 생성된 인스턴스라는 관점에서 보면\n",
        "이러한 기능들은 list클래스에서 정의된 메소드라고 볼 수 있다.\n",
        "\n",
        "## E. 깨달음4\n",
        "\n",
        "`-` `a.f()`는 `f(a)`로 해석가능하다고 하였다. 이 해석에 따르면 메소드의\n",
        "첫번째 입력은 메소드가 소속된 인스턴스라고 해석할 수 있다. 즉\n",
        "`a.f()`라는 함수의 입력은 `a`자신이 되는 것이다.\n",
        "\n",
        "`-` 동일한 논리로 아래의 코드는 `bob.easy()`의 입력에서 `bob`을 넣는다는\n",
        "의미이다."
      ],
      "id": "52a90e15-99dc-437f-8586-9979b7bfabd7"
    },
    {
      "cell_type": "code",
      "execution_count": 14,
      "metadata": {
        "tags": []
      },
      "outputs": [
        {
          "output_type": "stream",
          "name": "stdout",
          "text": [
            "\n",
            "어때요, 참 쉽죠??"
          ]
        },
        {
          "output_type": "display_data",
          "metadata": {},
          "data": {
            "image/png": "[encoded data removed]"
          }
        }
      ],
      "source": [
        "bob.easy()"
      ],
      "id": "716343be-9202-4820-9d87-64d494819ab3"
    },
    {
      "cell_type": "markdown",
      "metadata": {},
      "source": [
        "`-` 그래서 메소드의 첫 입력은 항상 `self` 인 것임."
      ],
      "id": "dd263a74-0805-4a65-a673-e195502e63d3"
    }
  ],
  "nbformat": 4,
  "nbformat_minor": 5,
  "metadata": {
    "kernelspec": {
      "name": "python3",
      "display_name": "Python 3 (ipykernel)",
      "language": "python"
    },
    "language_info": {
      "name": "python",
      "codemirror_mode": {
        "name": "ipython",
        "version": "3"
      },
      "file_extension": ".py",
      "mimetype": "text/x-python",
      "nbconvert_exporter": "python",
      "pygments_lexer": "ipython3",
      "version": "3.10.13"
    }
  }
}