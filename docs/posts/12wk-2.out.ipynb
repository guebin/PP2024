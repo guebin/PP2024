{
  "cells": [
    {
      "cell_type": "markdown",
      "metadata": {},
      "source": [
        "# 12wk-2: 클래스 (2)\n",
        "\n",
        "최규빈  \n",
        "2024-05-24\n",
        "\n",
        "<a href=\"https://colab.research.google.com/github/guebin/PP2024/blob/main/posts/12wk-2.ipynb\"><img src=\"https://colab.research.google.com/assets/colab-badge.svg\" style=\"text-align: left\"></a>\n",
        "\n",
        "# 1. 강의영상\n",
        "\n",
        "<https://youtu.be/playlist?list=PLQqh36zP38-wC2_UwrbEnOzKuXhAd1LEz&si=OTmvmDCHJqL2iKy2>\n",
        "\n",
        "# 2. Imports"
      ],
      "id": "341ab127-4adf-4990-82d5-abc2f2b21932"
    },
    {
      "cell_type": "code",
      "execution_count": 3,
      "metadata": {
        "tags": []
      },
      "outputs": [],
      "source": [
        "import numpy as np\n",
        "import pandas as pd"
      ],
      "id": "67a44b79-1f46-4faa-af77-12fcbe7c4d7b"
    },
    {
      "cell_type": "markdown",
      "metadata": {},
      "source": [
        "# 3. 상속 맛보기\n",
        "\n",
        "## A. 모티브: 클래스를 수정은 불편해\n",
        "\n",
        "`-` 예시1: UpJump ver1"
      ],
      "id": "7beeed05-dcf0-498c-9f56-73d6bf79a30c"
    },
    {
      "cell_type": "code",
      "execution_count": 4,
      "metadata": {
        "tags": []
      },
      "outputs": [],
      "source": [
        "class Up:\n",
        "    def __init__(self):\n",
        "        self.value = 0\n",
        "    def up(self):\n",
        "        self.value = self.value + 1 \n",
        "    def __repr__(self):\n",
        "        return str(self.value) "
      ],
      "id": "42659df0-df6b-4fb8-97c6-faab15819ece"
    },
    {
      "cell_type": "code",
      "execution_count": 5,
      "metadata": {
        "tags": []
      },
      "outputs": [],
      "source": [
        "a = Up()\n",
        "a"
      ],
      "id": "7ed2125b-25b3-4d7a-8a33-33bfbca4370b"
    },
    {
      "cell_type": "code",
      "execution_count": 6,
      "metadata": {
        "tags": []
      },
      "outputs": [],
      "source": [
        "a.up()"
      ],
      "id": "0d258505-e0f3-4e5d-9f79-9b166e148a3b"
    },
    {
      "cell_type": "code",
      "execution_count": 7,
      "metadata": {
        "tags": []
      },
      "outputs": [],
      "source": [
        "a"
      ],
      "id": "7b7ce5cd-23e7-4a7d-a062-6b75bd65413f"
    },
    {
      "cell_type": "code",
      "execution_count": 8,
      "metadata": {
        "tags": []
      },
      "outputs": [],
      "source": [
        "a.jump(2)"
      ],
      "id": "a449b854-d584-41c5-a337-4d89a2de8462"
    },
    {
      "cell_type": "markdown",
      "metadata": {},
      "source": [
        "-   `a.jump()`는 아직 구현되지 않은 기능임.\n",
        "\n",
        "`-` 예시2: UpJump"
      ],
      "id": "085b1496-b79b-4a6d-a4c1-1836815c45f2"
    },
    {
      "cell_type": "code",
      "execution_count": 9,
      "metadata": {
        "tags": []
      },
      "outputs": [],
      "source": [
        "class UpJump:\n",
        "    def __init__(self):\n",
        "        self.value = 0\n",
        "    def up(self):\n",
        "        self.value = self.value + 1 \n",
        "    def __repr__(self):\n",
        "        return str(self.value) \n",
        "    #---# 여기까지는 똑같이\n",
        "    def jump(self,jump_size):\n",
        "        self.value = self.value + jump_size"
      ],
      "id": "f2a855a8-4633-4583-bb24-ff73345be2b4"
    },
    {
      "cell_type": "code",
      "execution_count": 10,
      "metadata": {
        "tags": []
      },
      "outputs": [],
      "source": [
        "a = UpJump()"
      ],
      "id": "0c1ce39d-5d6d-4234-8e2f-e6374a516680"
    },
    {
      "cell_type": "code",
      "execution_count": 11,
      "metadata": {
        "tags": []
      },
      "outputs": [],
      "source": [
        "a"
      ],
      "id": "c6249c10-8aae-4fd3-b6c6-cd811d6e6839"
    },
    {
      "cell_type": "code",
      "execution_count": 12,
      "metadata": {
        "tags": []
      },
      "outputs": [],
      "source": [
        "a.up()\n",
        "a"
      ],
      "id": "7a126ee1-1194-4194-8be1-c31d8aad8383"
    },
    {
      "cell_type": "code",
      "execution_count": 13,
      "metadata": {
        "tags": []
      },
      "outputs": [],
      "source": [
        "a.jump(5)\n",
        "a"
      ],
      "id": "b21a7390-bad9-4eb5-8f8c-17910d00e4f9"
    },
    {
      "cell_type": "markdown",
      "metadata": {},
      "source": [
        "`-` 예시3: UpJump의 다른 구현"
      ],
      "id": "f5901042-ec70-4cf6-a81e-33bcbe0aaa3e"
    },
    {
      "cell_type": "code",
      "execution_count": 14,
      "metadata": {
        "tags": []
      },
      "outputs": [],
      "source": [
        "class UpJump(Up):\n",
        "    def jump(self,jump_size):\n",
        "        self.value = self.value + jump_size"
      ],
      "id": "f56ced69-cc32-4e1a-8622-9d02c657f9ac"
    },
    {
      "cell_type": "code",
      "execution_count": 15,
      "metadata": {
        "tags": []
      },
      "outputs": [],
      "source": [
        "a = UpJump()"
      ],
      "id": "08d7367c-f46b-4dc6-9800-c2f286997d7a"
    },
    {
      "cell_type": "code",
      "execution_count": 16,
      "metadata": {
        "tags": []
      },
      "outputs": [],
      "source": [
        "a.up()\n",
        "a"
      ],
      "id": "e2263d42-db68-44f1-aad5-0f9a5ee73617"
    },
    {
      "cell_type": "code",
      "execution_count": 17,
      "metadata": {
        "tags": []
      },
      "outputs": [],
      "source": [
        "a.jump(5)\n",
        "a"
      ],
      "id": "01f6dbef-b712-442b-9646-95db56921a08"
    },
    {
      "cell_type": "markdown",
      "metadata": {},
      "source": [
        "## B. 꿀팁\n",
        "\n",
        "`-` 클래스를 조금 수정하고 싶을때, 아래와 같은 문법을 이용하면 편리하다.\n",
        "\n",
        "``` python\n",
        "class 새로운_클래스_이름(수정할_클래스_이름):\n",
        "    def 수정_및_추가할_함수이름(self,...):\n",
        "        ...\n",
        "```\n",
        "\n",
        "`-` 사용예시"
      ],
      "id": "b4ab1191-a6d6-4e4f-8ba1-778734b9ea5c"
    },
    {
      "cell_type": "code",
      "execution_count": 18,
      "metadata": {
        "tags": []
      },
      "outputs": [],
      "source": [
        "class UpJump2(UpJump):\n",
        "    def __repr__(self):\n",
        "        return f\"현재 이 인스턴스는 {self.value}의 값을 가지고 있습니다.\""
      ],
      "id": "26d126a7-7b4e-443a-b1cb-20104c528bfa"
    },
    {
      "cell_type": "code",
      "execution_count": 19,
      "metadata": {
        "tags": []
      },
      "outputs": [],
      "source": [
        "a = UpJump2()\n",
        "a"
      ],
      "id": "231a3774-96f3-413c-a914-a40082d91af2"
    },
    {
      "cell_type": "code",
      "execution_count": 20,
      "metadata": {
        "tags": []
      },
      "outputs": [],
      "source": [
        "a.up()\n",
        "a"
      ],
      "id": "5ffd69aa-a4c9-4f5b-9b2c-77a41cc83256"
    },
    {
      "cell_type": "code",
      "execution_count": 21,
      "metadata": {
        "tags": []
      },
      "outputs": [],
      "source": [
        "a.jump(5)\n",
        "a"
      ],
      "id": "deb712ba-2e90-4b6e-b718-1c4b860b98f2"
    },
    {
      "cell_type": "markdown",
      "metadata": {},
      "source": [
        "# 4. `__add__`\n",
        "\n",
        "## A. 모티브\n",
        "\n",
        "`-` 모티브: 아래의 연산구조를 관찰하자."
      ],
      "id": "a876199d-b031-423f-b259-6621af8cbce2"
    },
    {
      "cell_type": "code",
      "execution_count": 22,
      "metadata": {
        "outputId": "f683738f-74f6-4ce9-e5e9-1d16379fcd7a",
        "tags": []
      },
      "outputs": [],
      "source": [
        "a=1\n",
        "b=2\n",
        "a+b"
      ],
      "id": "90af3ff7-0f9c-4fd9-b9f1-ebc6e4883ebe"
    },
    {
      "cell_type": "markdown",
      "metadata": {},
      "source": [
        "-   a라는 인스턴스와 b라는 인스턴스를 +라는 기호가 연결하고 있다.\n",
        "\n",
        "`-` 이번에는 아래의 연산구조를 관찰하자."
      ],
      "id": "63ef2595-f8dd-48e1-84b7-823bd138cdab"
    },
    {
      "cell_type": "code",
      "execution_count": 23,
      "metadata": {
        "outputId": "0370ccb6-9f5f-4775-bd06-476fcd92f579",
        "tags": []
      },
      "outputs": [],
      "source": [
        "a=[1,2]\n",
        "b=[3,4]\n",
        "a+b"
      ],
      "id": "db0b0727-fd84-46e1-be8a-ac0e93c26130"
    },
    {
      "cell_type": "markdown",
      "metadata": {},
      "source": [
        "-   a라는 인스턴스와 b라는 인스턴스를 +라는 기호가 연결하고 있다.\n",
        "\n",
        "`-` 동작이 다른 이유?\n",
        "\n",
        "-   클래스를 배우기 이전: int자료형의 `+`는 “정수의 덧셈”을 의미하고\n",
        "    list자료형의 `+`는 “자료의 추가”를 의미한다.\n",
        "-   클래스를 배운 이후: 아마 클래스는 `+`라는 연산을 정의하는 숨겨진\n",
        "    메소드가 있을것이다. (print가 그랬듯이) 그리고 int클래스에서는 그\n",
        "    메소드를 “정수의 덧셈”이 되도록 정의하였고 list클래스에서는 그\n",
        "    메소드를 “자료의 추가”를 의미하도록 정의하였다.\n",
        "\n",
        "`-` 아래의 결과를 관찰"
      ],
      "id": "08a6b202-c5a4-459a-aa59-1aefa8d9c4f2"
    },
    {
      "cell_type": "code",
      "execution_count": 24,
      "metadata": {
        "tags": []
      },
      "outputs": [],
      "source": [
        "a = 1\n",
        "b = -2"
      ],
      "id": "f0f1054a-cf2f-483e-94d1-1c45891530d8"
    },
    {
      "cell_type": "code",
      "execution_count": 25,
      "metadata": {
        "tags": []
      },
      "outputs": [],
      "source": [
        "a.__add__(b) # a+b"
      ],
      "id": "093fe765-190b-44d2-a4ed-d3511f4d96cf"
    },
    {
      "cell_type": "code",
      "execution_count": 26,
      "metadata": {
        "tags": []
      },
      "outputs": [],
      "source": [
        "b.__add__(a) # a+b"
      ],
      "id": "15d3122d-8b12-43bb-91dc-62f7335c9300"
    },
    {
      "cell_type": "code",
      "execution_count": 27,
      "metadata": {
        "tags": []
      },
      "outputs": [],
      "source": [
        "a = [1,2]\n",
        "b = [3,4]"
      ],
      "id": "bed54e16-067a-482f-a64e-b61ac204850d"
    },
    {
      "cell_type": "code",
      "execution_count": 28,
      "metadata": {
        "tags": []
      },
      "outputs": [],
      "source": [
        "a.__add__(b) # a+b "
      ],
      "id": "4e394c63-0f52-40a7-bdf9-c1bc86f88ed1"
    },
    {
      "cell_type": "code",
      "execution_count": 29,
      "metadata": {
        "tags": []
      },
      "outputs": [],
      "source": [
        "b.__add__(a) # b+a "
      ],
      "id": "f0b1bd4b-9d11-4790-88a7-6c7c8cfc5f31"
    },
    {
      "cell_type": "markdown",
      "metadata": {},
      "source": [
        "`-` 확인: a+b는 사실 내부적으로 `a.__add__(b)`의 축약구문이다.\n",
        "\n",
        "`-` 추측: 따라서 만약 `a.__add__(b)`의 기능을 바꾸면 (재정의하면) a+b의\n",
        "기능도 바뀔 것이다.\n",
        "\n",
        "## B. Student: `__add__`의 사용\n",
        "\n",
        "`-` StudentWrong 클래스 선언"
      ],
      "id": "7d9b1d9c-4fe0-4a39-ab2d-9fd7f2777e9f"
    },
    {
      "cell_type": "code",
      "execution_count": 30,
      "metadata": {
        "tags": []
      },
      "outputs": [],
      "source": [
        "class StudentWrong:\n",
        "    def __init__(self,age=20.0, semester=0):\n",
        "        self.age = age \n",
        "        self.semester = semester\n",
        "        print(f\"입학을 축하합니다. 당신의 나이는 {self.age}이고 현재 학기는 {self.semester}학기 입니다.\")\n",
        "    def __repr__(self):\n",
        "        text = f\"나이: {self.age}\\n학기: {self.semester}\"\n",
        "        return text\n",
        "    def __add__(self,registration_status):\n",
        "        if registration_status == \"휴학\":\n",
        "            self.age = self.age +0.5 \n",
        "        elif registration_status == \"등록\":\n",
        "            self.age = self.age +0.5 \n",
        "            self.semester = self.semester + 1"
      ],
      "id": "30dcb0d7-9a40-409d-b636-c8e4ec65a149"
    },
    {
      "cell_type": "code",
      "execution_count": 31,
      "metadata": {
        "tags": []
      },
      "outputs": [
        {
          "output_type": "stream",
          "name": "stdout",
          "text": [
            "입학을 축하합니다. 당신의 나이는 20.0이고 현재 학기는 0학기 입니다."
          ]
        }
      ],
      "source": [
        "boram = StudentWrong()"
      ],
      "id": "d8964647-2aa3-4225-b2df-ea1aa9a19072"
    },
    {
      "cell_type": "code",
      "execution_count": 32,
      "metadata": {
        "tags": []
      },
      "outputs": [],
      "source": [
        "boram"
      ],
      "id": "6ccba60e-4c71-4d2d-acd9-50aa3a0b567e"
    },
    {
      "cell_type": "markdown",
      "metadata": {},
      "source": [
        "`-` 사용"
      ],
      "id": "a5378767-e614-48b7-a62f-8f8200130983"
    },
    {
      "cell_type": "code",
      "execution_count": 33,
      "metadata": {
        "tags": []
      },
      "outputs": [],
      "source": [
        "boram + \"휴학\"\n",
        "boram"
      ],
      "id": "1f6a0050-28f7-4677-a322-21b3a6bfd8ad"
    },
    {
      "cell_type": "code",
      "execution_count": 34,
      "metadata": {
        "tags": []
      },
      "outputs": [],
      "source": [
        "boram + \"등록\"\n",
        "boram"
      ],
      "id": "ddabc550-d984-468b-bee2-078af2aa92b5"
    },
    {
      "cell_type": "code",
      "execution_count": 35,
      "metadata": {
        "tags": []
      },
      "outputs": [],
      "source": [
        "boram + \"휴학\"\n",
        "boram"
      ],
      "id": "86c015fb-9bd4-4809-be3f-9d671de0086b"
    },
    {
      "cell_type": "code",
      "execution_count": 36,
      "metadata": {
        "tags": []
      },
      "outputs": [],
      "source": [
        "boram + \"등록\"\n",
        "boram"
      ],
      "id": "a357a6e2-5e30-4564-a8fc-b8ea35ef5f1f"
    },
    {
      "cell_type": "code",
      "execution_count": 37,
      "metadata": {
        "tags": []
      },
      "outputs": [],
      "source": [
        "boram + \"등록\"\n",
        "boram"
      ],
      "id": "674d52c8-73db-4f6d-a36c-375bfd67484f"
    },
    {
      "cell_type": "code",
      "execution_count": 38,
      "metadata": {
        "tags": []
      },
      "outputs": [],
      "source": [
        "boram + \"등록\"\n",
        "boram"
      ],
      "id": "fa50a8bb-da9d-4386-ae53-63cdc6b476b0"
    },
    {
      "cell_type": "markdown",
      "metadata": {},
      "source": [
        "`-` 잘못된 사용"
      ],
      "id": "86980d09-4034-414d-9a10-734e96857c19"
    },
    {
      "cell_type": "code",
      "execution_count": 39,
      "metadata": {
        "tags": []
      },
      "outputs": [
        {
          "output_type": "stream",
          "name": "stdout",
          "text": [
            "입학을 축하합니다. 당신의 나이는 20.0이고 현재 학기는 0학기 입니다."
          ]
        }
      ],
      "source": [
        "seoyeon = StudentWrong()"
      ],
      "id": "23fa949d-ecfd-48fd-8e4e-1360c9277608"
    },
    {
      "cell_type": "code",
      "execution_count": 40,
      "metadata": {
        "tags": []
      },
      "outputs": [],
      "source": [
        "seoyeon + \"등록\" + \"등록\"\n",
        "seoyeon # 서연의 나이는 21, 학기는 2"
      ],
      "id": "c6b41d96-124b-4644-a2d4-36aef9da6406"
    },
    {
      "cell_type": "markdown",
      "metadata": {},
      "source": [
        "`-` 올바른 코드"
      ],
      "id": "f374dc8a-65da-4393-8cc3-938e6217985e"
    },
    {
      "cell_type": "code",
      "execution_count": 41,
      "metadata": {
        "tags": []
      },
      "outputs": [],
      "source": [
        "class Student:\n",
        "    def __init__(self,age=20.0, semester=0):\n",
        "        self.age = age \n",
        "        self.semester = semester\n",
        "        print(f\"입학을 축하합니다. 당신의 나이는 {self.age}이고 현재 학기는 {self.semester}학기 입니다.\")\n",
        "    def __repr__(self):\n",
        "        text = f\"나이: {self.age}\\n학기: {self.semester}\"\n",
        "        return text\n",
        "    def __add__(self,registration_status):\n",
        "        if registration_status == \"휴학\":\n",
        "            self.age = self.age +0.5 \n",
        "        elif registration_status == \"등록\":\n",
        "            self.age = self.age +0.5 \n",
        "            self.semester = self.semester + 1\n",
        "        return self "
      ],
      "id": "89c025e2-5f18-44e8-b4cc-759992d3024a"
    },
    {
      "cell_type": "code",
      "execution_count": 42,
      "metadata": {
        "tags": []
      },
      "outputs": [
        {
          "output_type": "stream",
          "name": "stdout",
          "text": [
            "입학을 축하합니다. 당신의 나이는 20.0이고 현재 학기는 0학기 입니다."
          ]
        }
      ],
      "source": [
        "seoyeon = Student()"
      ],
      "id": "329ef0ac-0a36-476d-a40e-82862d4dd2c3"
    },
    {
      "cell_type": "code",
      "execution_count": 43,
      "metadata": {
        "tags": []
      },
      "outputs": [],
      "source": [
        "seoyeon + \"등록\" + \"휴학\" + \"등록\" + \"등록\""
      ],
      "id": "de0df466-62f6-4a48-80f3-0d28791a9f8d"
    },
    {
      "cell_type": "markdown",
      "metadata": {},
      "source": [
        "## C. Student의 다른구현1"
      ],
      "id": "2bd5dfef-8f78-4eff-9898-047ed8550dab"
    },
    {
      "cell_type": "code",
      "execution_count": 44,
      "metadata": {
        "tags": []
      },
      "outputs": [],
      "source": [
        "class Student(StudentWrong):\n",
        "    def __add__(self,registration_status):\n",
        "        if registration_status == \"휴학\":\n",
        "            self.age = self.age +0.5 \n",
        "        elif registration_status == \"등록\":\n",
        "            self.age = self.age +0.5 \n",
        "            self.semester = self.semester + 1\n",
        "        return self"
      ],
      "id": "47361742-58c8-459c-b390-f1b22904ef40"
    },
    {
      "cell_type": "code",
      "execution_count": 45,
      "metadata": {
        "tags": []
      },
      "outputs": [
        {
          "output_type": "stream",
          "name": "stdout",
          "text": [
            "입학을 축하합니다. 당신의 나이는 20.0이고 현재 학기는 0학기 입니다."
          ]
        }
      ],
      "source": [
        "seoyeon = Student()"
      ],
      "id": "068bea34-2a80-4c8f-8fd2-62fb9850dbd0"
    },
    {
      "cell_type": "code",
      "execution_count": 46,
      "metadata": {
        "tags": []
      },
      "outputs": [],
      "source": [
        "seoyeon + \"등록\" + \"휴학\" + \"등록\" + \"등록\""
      ],
      "id": "df1f38a9-d553-4d63-a179-032d18486a1e"
    },
    {
      "cell_type": "markdown",
      "metadata": {},
      "source": [
        "## D. Student의 다른구현2"
      ],
      "id": "22894d53-df4b-4b63-875d-6e8ef5350d36"
    },
    {
      "cell_type": "code",
      "execution_count": 47,
      "metadata": {
        "tags": []
      },
      "outputs": [],
      "source": [
        "class Student(StudentWrong):\n",
        "    def __add__(self,registration_status):\n",
        "        super().__add__(registration_status)\n",
        "        return self"
      ],
      "id": "dd82a0d3-15a7-4c69-952f-58e4b3f07c43"
    },
    {
      "cell_type": "code",
      "execution_count": 48,
      "metadata": {
        "tags": []
      },
      "outputs": [
        {
          "output_type": "stream",
          "name": "stdout",
          "text": [
            "입학을 축하합니다. 당신의 나이는 20.0이고 현재 학기는 0학기 입니다."
          ]
        }
      ],
      "source": [
        "seoyeon = Student()"
      ],
      "id": "7e1b9d79-ffa5-4887-9d2a-f2fa5bdf81ec"
    },
    {
      "cell_type": "code",
      "execution_count": 49,
      "metadata": {
        "tags": []
      },
      "outputs": [],
      "source": [
        "seoyeon + \"등록\" + \"휴학\" + \"등록\" + \"등록\""
      ],
      "id": "bf581aa7-77fa-42de-ae75-687038dd3ae0"
    },
    {
      "cell_type": "markdown",
      "metadata": {},
      "source": [
        "> 파이썬의 비밀: `a+b`는 사실 `a.__add__(b)`의 축약형이다.\n",
        "\n",
        "# 5. `__getitem__`\n",
        "\n",
        "## A. 모티브"
      ],
      "id": "019d64b6-cc23-44b9-875f-f95cfc6547f5"
    },
    {
      "cell_type": "code",
      "execution_count": 50,
      "metadata": {
        "tags": []
      },
      "outputs": [],
      "source": [
        "a = [11,22,33]\n",
        "a"
      ],
      "id": "43b2a2df-292d-488c-a529-b4c424ec30e7"
    },
    {
      "cell_type": "code",
      "execution_count": 51,
      "metadata": {
        "tags": []
      },
      "outputs": [],
      "source": [
        "a[0]"
      ],
      "id": "297eabe8-e3aa-4087-8ba0-9f07c9c69e9b"
    },
    {
      "cell_type": "markdown",
      "metadata": {},
      "source": [
        "-   이거 좋아보인다?"
      ],
      "id": "02c53d79-7dda-4864-ba8a-2b8e9bef4bdb"
    },
    {
      "cell_type": "code",
      "execution_count": 52,
      "metadata": {
        "tags": []
      },
      "outputs": [],
      "source": [
        "a.__getitem__(0) # a[0]의 축약표현"
      ],
      "id": "05b1dee7-fea5-4044-8028-b36e184091ff"
    },
    {
      "cell_type": "code",
      "execution_count": 53,
      "metadata": {
        "tags": []
      },
      "outputs": [],
      "source": [
        "a.__getitem__(1) # a[1]의 축약표현"
      ],
      "id": "233400b6-903b-45ff-ac57-36bcd2fbb61a"
    },
    {
      "cell_type": "code",
      "execution_count": 54,
      "metadata": {
        "tags": []
      },
      "outputs": [],
      "source": [
        "a.__getitem__(-1) # a[-1]의 축약표현"
      ],
      "id": "480a09c4-8e1d-4594-b1d3-86112a0d2bea"
    },
    {
      "cell_type": "markdown",
      "metadata": {},
      "source": [
        "-   이런거였어??\n",
        "\n",
        "## B. RPS1: `__getitem__`의 사용"
      ],
      "id": "b7e13a43-0594-457b-9d1e-2fdc7ce0b536"
    },
    {
      "cell_type": "code",
      "execution_count": 168,
      "metadata": {
        "tags": []
      },
      "outputs": [],
      "source": [
        "class RPSBase:\n",
        "    def __init__(self,action_space):\n",
        "        self.action_space = action_space \n",
        "        self.actions = []\n",
        "    def act(self):\n",
        "        action = np.random.choice(self.action_space)\n",
        "        self.actions.append(action)\n",
        "        return action\n",
        "    def __repr__(self):\n",
        "        text = f\"낼 수 있는 패: {self.action_space}\\n기록: {self.actions}\"\n",
        "        return text"
      ],
      "id": "f199dbba-cf6a-4744-ad2e-cca12393228e"
    },
    {
      "cell_type": "code",
      "execution_count": 169,
      "metadata": {
        "tags": []
      },
      "outputs": [],
      "source": [
        "A = RPSBase(['가위','바위','보'])\n",
        "A"
      ],
      "id": "5165b05c-ebf4-4b2e-bce4-526c407a8ed6"
    },
    {
      "cell_type": "code",
      "execution_count": 170,
      "metadata": {
        "tags": []
      },
      "outputs": [],
      "source": [
        "A.act()\n",
        "A.act()"
      ],
      "id": "a0664711-cb53-4590-9513-78beda16a91a"
    },
    {
      "cell_type": "code",
      "execution_count": 171,
      "metadata": {
        "tags": []
      },
      "outputs": [],
      "source": [
        "A"
      ],
      "id": "1323533f-d77b-4b4b-9011-d6107530478f"
    },
    {
      "cell_type": "code",
      "execution_count": 172,
      "metadata": {
        "tags": []
      },
      "outputs": [],
      "source": [
        "A[0], A[1]"
      ],
      "id": "ca21cbab-dac2-4d75-ae54-cf55b8c24384"
    },
    {
      "cell_type": "markdown",
      "metadata": {},
      "source": [
        "-   이 결과가 “A.actions\\[0\\]=바위”, “A.actions\\[1\\]=가위”로 나왔으면\n",
        "    좋겠다.. 그런데 지금은 불가능함."
      ],
      "id": "e6ddafa9-d638-4fbf-a8e6-2f696aed5617"
    },
    {
      "cell_type": "code",
      "execution_count": 173,
      "metadata": {
        "tags": []
      },
      "outputs": [],
      "source": [
        "A.__getitem__(0)"
      ],
      "id": "3c6c96a1-7279-4d31-8228-daf51c5ca9ae"
    },
    {
      "cell_type": "code",
      "execution_count": 179,
      "metadata": {
        "tags": []
      },
      "outputs": [],
      "source": [
        "class RPS1(RPSBase):\n",
        "    def __getitem__(self,idx):\n",
        "        return self.actions[idx]"
      ],
      "id": "a2f4e490-6021-48ea-acd6-6fbff3fa91a3"
    },
    {
      "cell_type": "code",
      "execution_count": 180,
      "metadata": {
        "tags": []
      },
      "outputs": [],
      "source": [
        "A = RPS1(['가위','바위','보'])\n",
        "A"
      ],
      "id": "79e9e6f2-430d-44b2-a26d-e0e4edaa94d4"
    },
    {
      "cell_type": "code",
      "execution_count": 181,
      "metadata": {
        "tags": []
      },
      "outputs": [],
      "source": [
        "A.act()\n",
        "A.act()\n",
        "A.act()\n",
        "A.act()"
      ],
      "id": "afcf16b4-df80-4a96-8805-8d8be8e96941"
    },
    {
      "cell_type": "code",
      "execution_count": 182,
      "metadata": {
        "tags": []
      },
      "outputs": [],
      "source": [
        "A"
      ],
      "id": "eef9c0a5-9333-4272-919b-3d7bede59ef6"
    },
    {
      "cell_type": "code",
      "execution_count": 183,
      "metadata": {
        "tags": []
      },
      "outputs": [],
      "source": [
        "A[0],A[1],A[2],A[-1]"
      ],
      "id": "dde4c5b5-8c2d-4673-84dc-1acbfa4f20ca"
    },
    {
      "cell_type": "markdown",
      "metadata": {},
      "source": [
        "> 파이썬의 비밀: `A[0]`는 `A.__getitem__(0)`의 축약형이다.\n",
        "\n",
        "# 6. `__setitem__`\n",
        "\n",
        "## A. 모티브"
      ],
      "id": "3e6dda44-427e-418e-9c8c-8808609cd9c9"
    },
    {
      "cell_type": "code",
      "execution_count": 184,
      "metadata": {
        "tags": []
      },
      "outputs": [],
      "source": [
        "A = RPS1(['가위','바위'])\n",
        "A"
      ],
      "id": "ce6b0c3d-fb41-4dd9-88b6-36549a23efe7"
    },
    {
      "cell_type": "code",
      "execution_count": 185,
      "metadata": {
        "tags": []
      },
      "outputs": [],
      "source": [
        "A.act()\n",
        "A.act()\n",
        "A.act()\n",
        "A.act()"
      ],
      "id": "85b73105-1c12-4031-99e8-f63f24f979db"
    },
    {
      "cell_type": "code",
      "execution_count": 186,
      "metadata": {
        "tags": []
      },
      "outputs": [],
      "source": [
        "A"
      ],
      "id": "e91d214c-2e80-475f-b3cc-1dac6377066e"
    },
    {
      "cell_type": "code",
      "execution_count": 187,
      "metadata": {
        "tags": []
      },
      "outputs": [],
      "source": [
        "A[0]"
      ],
      "id": "4b42db64-7bc9-44ae-99d1-54805a488137"
    },
    {
      "cell_type": "code",
      "execution_count": 188,
      "metadata": {
        "tags": []
      },
      "outputs": [],
      "source": [
        "A[0] = \"보\""
      ],
      "id": "d1f97075-ef5f-425c-8b01-77307d44c37e"
    },
    {
      "cell_type": "markdown",
      "metadata": {},
      "source": [
        "-   여기서 이 문법이 가능하면 결과 조작이긴 함.\n",
        "-   그런데 경우에 따라서는 이런 문법이 필요할 때도 있음.\n",
        "\n",
        "## B. RPS2: `__setitem__` 사용\n",
        "\n",
        "`-` 관찰"
      ],
      "id": "2eb48362-f48b-4407-a774-b40c17030907"
    },
    {
      "cell_type": "code",
      "execution_count": 189,
      "metadata": {
        "tags": []
      },
      "outputs": [],
      "source": [
        "lst = [1,2,3] \n",
        "lst"
      ],
      "id": "e8aaa857-6cbd-4ea0-98b2-af78ade1dec7"
    },
    {
      "cell_type": "code",
      "execution_count": 190,
      "metadata": {
        "tags": []
      },
      "outputs": [],
      "source": [
        "lst[0] = 11\n",
        "lst"
      ],
      "id": "8a925d7f-60a8-4639-9a83-ce8568cef0e5"
    },
    {
      "cell_type": "code",
      "execution_count": 191,
      "metadata": {
        "tags": []
      },
      "outputs": [],
      "source": [
        "lst.__setitem__(0,-11) # lst[0] = -11 의 역할\n",
        "lst"
      ],
      "id": "2cec3cd2-4d72-443c-922c-e1ead996d845"
    },
    {
      "cell_type": "markdown",
      "metadata": {},
      "source": [
        "`-` RPS예제"
      ],
      "id": "1e98ae65-dd1a-44bc-b3e4-8f67708e2634"
    },
    {
      "cell_type": "code",
      "execution_count": 192,
      "metadata": {
        "tags": []
      },
      "outputs": [],
      "source": [
        "class RPS2(RPS1):\n",
        "    def __setitem__(self,idx,val):\n",
        "        self.actions[idx] = val "
      ],
      "id": "200e5435-776b-4323-9ff2-5fb9a01502d0"
    },
    {
      "cell_type": "code",
      "execution_count": 193,
      "metadata": {
        "tags": []
      },
      "outputs": [],
      "source": [
        "A = RPS2(['가위','바위'])\n",
        "A"
      ],
      "id": "58f69ff0-7213-4d4f-bba2-c076026b90a3"
    },
    {
      "cell_type": "code",
      "execution_count": 194,
      "metadata": {
        "tags": []
      },
      "outputs": [],
      "source": [
        "A.act()\n",
        "A.act()\n",
        "A.act()\n",
        "A.act()"
      ],
      "id": "28ad5493-6147-435b-9cc3-c85a191bc744"
    },
    {
      "cell_type": "code",
      "execution_count": 195,
      "metadata": {
        "tags": []
      },
      "outputs": [],
      "source": [
        "A"
      ],
      "id": "3548da5a-45fc-438f-b82b-2ca5d0cf5ea0"
    },
    {
      "cell_type": "code",
      "execution_count": 196,
      "metadata": {
        "tags": []
      },
      "outputs": [],
      "source": [
        "A[0]"
      ],
      "id": "1c5bf019-711f-45e3-a535-c84cbacd94a4"
    },
    {
      "cell_type": "code",
      "execution_count": 197,
      "metadata": {
        "tags": []
      },
      "outputs": [],
      "source": [
        "A[0] = \"보\"\n",
        "# A.__setitem__(0,\"보\")\n",
        "# A.actions[0] = \"보\" "
      ],
      "id": "eceb0ec8-9139-4f91-8ad4-395dabffc2e5"
    },
    {
      "cell_type": "code",
      "execution_count": 198,
      "metadata": {
        "tags": []
      },
      "outputs": [],
      "source": [
        "A"
      ],
      "id": "d8c9ffef-d10e-4986-9cfe-fe0daa2eb431"
    },
    {
      "cell_type": "markdown",
      "metadata": {},
      "source": [
        "> 파이썬의 비밀: `A[0]=\"보\"`는 `A.__setitem__(0,\"보\")`의 축약형이다.\n",
        "\n",
        "# 7. `__len__`\n",
        "\n",
        "## A. 모티브"
      ],
      "id": "75a46f96-707e-4cfb-8043-4a21b7be7761"
    },
    {
      "cell_type": "code",
      "execution_count": 199,
      "metadata": {
        "tags": []
      },
      "outputs": [],
      "source": [
        "A = RPS2(['가위','바위'])\n",
        "A"
      ],
      "id": "9a6ad3b1-d95f-4f37-88ba-b5a8b0b2bcfe"
    },
    {
      "cell_type": "code",
      "execution_count": 200,
      "metadata": {
        "tags": []
      },
      "outputs": [],
      "source": [
        "A.act()\n",
        "A.act()\n",
        "A.act()\n",
        "A.act()"
      ],
      "id": "9a26a568-c0d2-4e7b-b171-c33a41121bdc"
    },
    {
      "cell_type": "code",
      "execution_count": 201,
      "metadata": {
        "tags": []
      },
      "outputs": [],
      "source": [
        "A"
      ],
      "id": "bc94dba4-55a1-4e80-8d4e-dce792235b0c"
    },
    {
      "cell_type": "code",
      "execution_count": 202,
      "metadata": {
        "tags": []
      },
      "outputs": [],
      "source": [
        "A[0],A[1],A[2],A[3]"
      ],
      "id": "e0961944-b812-4284-8673-1ec0128a6f8c"
    },
    {
      "cell_type": "code",
      "execution_count": 203,
      "metadata": {
        "tags": []
      },
      "outputs": [],
      "source": [
        "len(A)"
      ],
      "id": "9a8d23c4-2b1d-4032-bd31-58e2ca3e7e97"
    },
    {
      "cell_type": "markdown",
      "metadata": {},
      "source": [
        "-   이게 4라고 나왔으면..\n",
        "\n",
        "## B. RPS3: `__len__` 의 사용\n",
        "\n",
        "`-` 관찰"
      ],
      "id": "55f92303-b62f-4d5c-89fa-c4ec3878bcf7"
    },
    {
      "cell_type": "code",
      "execution_count": 204,
      "metadata": {
        "tags": []
      },
      "outputs": [],
      "source": [
        "a = [1,2,3]\n",
        "len(a)"
      ],
      "id": "1f16bb33-c224-4490-91c9-1389de725f52"
    },
    {
      "cell_type": "code",
      "execution_count": 205,
      "metadata": {
        "tags": []
      },
      "outputs": [],
      "source": [
        "a.__len__()"
      ],
      "id": "f0bf19c7-bdbb-47dd-9138-31a47299e1ab"
    },
    {
      "cell_type": "markdown",
      "metadata": {},
      "source": [
        "`-` 구현"
      ],
      "id": "8991b08e-ab98-4d5a-8fc0-c5f1c1ee9d00"
    },
    {
      "cell_type": "code",
      "execution_count": 206,
      "metadata": {
        "tags": []
      },
      "outputs": [],
      "source": [
        "class RPS3(RPS2):\n",
        "    def __len__(self):\n",
        "        return len(self.actions)"
      ],
      "id": "b2471e3a-e92b-41c8-8e1e-6a5542e5ee0a"
    },
    {
      "cell_type": "code",
      "execution_count": 207,
      "metadata": {
        "tags": []
      },
      "outputs": [],
      "source": [
        "A = RPS3(['가위','바위'])\n",
        "A"
      ],
      "id": "0f90d573-6533-4f23-90fa-caab2561ad61"
    },
    {
      "cell_type": "code",
      "execution_count": 208,
      "metadata": {
        "tags": []
      },
      "outputs": [],
      "source": [
        "A.act()\n",
        "A.act()\n",
        "A.act()\n",
        "A.act()\n",
        "A.act()\n",
        "A.act()\n",
        "A.act()"
      ],
      "id": "0abc6698-4bfe-4fe8-bc7c-4ce1c8672519"
    },
    {
      "cell_type": "code",
      "execution_count": 209,
      "metadata": {
        "tags": []
      },
      "outputs": [],
      "source": [
        "A"
      ],
      "id": "76420691-4373-418d-b70d-64047960ec00"
    },
    {
      "cell_type": "code",
      "execution_count": 210,
      "metadata": {
        "tags": []
      },
      "outputs": [],
      "source": [
        "len(A)"
      ],
      "id": "fa07935a-7b74-453b-afb5-34c40156206f"
    },
    {
      "cell_type": "markdown",
      "metadata": {},
      "source": [
        "> 파이썬의 비밀: `len(A)`는 `A.__len__()`의 축약형이다.\n",
        "\n",
        "# 8. `__eq__`\n",
        "\n",
        "## A. 모티브"
      ],
      "id": "6d368c15-8e39-47b0-94fb-16e9b17cf991"
    },
    {
      "cell_type": "code",
      "execution_count": 212,
      "metadata": {
        "tags": []
      },
      "outputs": [],
      "source": [
        "A = RPS3(['가위','바위'])\n",
        "B = RPS3(['가위','보'])"
      ],
      "id": "b7fc7f85-e814-41af-926c-e4063e4e6457"
    },
    {
      "cell_type": "code",
      "execution_count": 213,
      "metadata": {
        "tags": []
      },
      "outputs": [],
      "source": [
        "A.act()\n",
        "B.act()"
      ],
      "id": "109abd4b-2fba-45df-acab-6cbb5bc7684f"
    },
    {
      "cell_type": "code",
      "execution_count": 214,
      "metadata": {
        "tags": []
      },
      "outputs": [],
      "source": [
        "A,B"
      ],
      "id": "b360ff6c-8a6d-417c-8ab7-5fab1482fdc3"
    },
    {
      "cell_type": "code",
      "execution_count": 215,
      "metadata": {
        "tags": []
      },
      "outputs": [],
      "source": [
        "A[0] = \"가위\"\n",
        "B[0] = \"가위\""
      ],
      "id": "313e0896-d586-41ec-9b1a-345f8c4e8106"
    },
    {
      "cell_type": "code",
      "execution_count": 216,
      "metadata": {
        "tags": []
      },
      "outputs": [],
      "source": [
        "A,B"
      ],
      "id": "090a5172-eab1-4c26-907a-ea3e8239b4a7"
    },
    {
      "cell_type": "code",
      "execution_count": 217,
      "metadata": {
        "tags": []
      },
      "outputs": [],
      "source": [
        "A == B"
      ],
      "id": "0dc25137-a54b-4e19-90d3-3a352ad71da3"
    },
    {
      "cell_type": "markdown",
      "metadata": {},
      "source": [
        "-   의미상으로는 A와 B 모두 “가위”를 냈으므로, 현재는 비겼음.\n",
        "-   그래서 `A==B`의 결과가 True가 나오는 것이 더 의미상 맞는것 같다.\n",
        "\n",
        "## B. RPS4: `__eq__` 의 사용\n",
        "\n",
        "`-` 관찰"
      ],
      "id": "061e67a0-71de-4b76-bc7c-0ff05dd1708d"
    },
    {
      "cell_type": "code",
      "execution_count": 218,
      "metadata": {
        "tags": []
      },
      "outputs": [],
      "source": [
        "a = 33 \n",
        "b = 33 \n",
        "c = 55"
      ],
      "id": "679301a5-4e60-4133-b290-de82ecf90377"
    },
    {
      "cell_type": "code",
      "execution_count": 219,
      "metadata": {
        "tags": []
      },
      "outputs": [],
      "source": [
        "a.__eq__(b)  # a==b"
      ],
      "id": "b6ccc38f-de06-4e7e-a2c4-08289ad4cfef"
    },
    {
      "cell_type": "code",
      "execution_count": 220,
      "metadata": {
        "tags": []
      },
      "outputs": [],
      "source": [
        "a.__eq__(c)  # a==c"
      ],
      "id": "e49bb509-b0a7-4263-a93b-d5ae1a8a273b"
    },
    {
      "cell_type": "markdown",
      "metadata": {},
      "source": [
        "`-` 구현"
      ],
      "id": "2da10b1f-2639-4087-af28-88401af49f39"
    },
    {
      "cell_type": "code",
      "execution_count": 221,
      "metadata": {
        "tags": []
      },
      "outputs": [],
      "source": [
        "class RPS4(RPS3):\n",
        "    def __eq__(self,other):\n",
        "        return self[-1] == other[-1]"
      ],
      "id": "0dc2f451-fafd-4ede-9a03-0088a046668d"
    },
    {
      "cell_type": "code",
      "execution_count": 222,
      "metadata": {
        "tags": []
      },
      "outputs": [],
      "source": [
        "A = RPS4(['가위','바위'])\n",
        "B = RPS4(['가위','보'])"
      ],
      "id": "27eb2244-976b-4fb0-8730-c0ac66efef4b"
    },
    {
      "cell_type": "markdown",
      "metadata": {},
      "source": [
        "**1회 대결**"
      ],
      "id": "584ae907-c5e7-41a2-9c15-d2569d5ac019"
    },
    {
      "cell_type": "code",
      "execution_count": 223,
      "metadata": {
        "tags": []
      },
      "outputs": [],
      "source": [
        "A.act()\n",
        "B.act()"
      ],
      "id": "8a56a7de-eacc-49e4-8fb9-6992ac6c5f0a"
    },
    {
      "cell_type": "code",
      "execution_count": 224,
      "metadata": {
        "tags": []
      },
      "outputs": [],
      "source": [
        "A,B"
      ],
      "id": "685c4fc0-baff-4461-8bb8-61783fdebefb"
    },
    {
      "cell_type": "code",
      "execution_count": 225,
      "metadata": {
        "tags": []
      },
      "outputs": [],
      "source": [
        "A == B"
      ],
      "id": "f412ee0f-a42b-4fe3-9c44-947f869ff9b5"
    },
    {
      "cell_type": "markdown",
      "metadata": {},
      "source": [
        "**2회 대결**"
      ],
      "id": "9f4dc9bb-8494-4b04-97c3-93d9da9300b1"
    },
    {
      "cell_type": "code",
      "execution_count": 226,
      "metadata": {
        "tags": []
      },
      "outputs": [],
      "source": [
        "A.act()\n",
        "B.act()"
      ],
      "id": "a99b0de3-c4dd-4a42-ad48-cda13f0f0faa"
    },
    {
      "cell_type": "code",
      "execution_count": 227,
      "metadata": {
        "tags": []
      },
      "outputs": [],
      "source": [
        "A,B"
      ],
      "id": "afdc8729-236b-43b9-911d-4dc1d28e21c5"
    },
    {
      "cell_type": "code",
      "execution_count": 228,
      "metadata": {
        "tags": []
      },
      "outputs": [],
      "source": [
        "A == B"
      ],
      "id": "3e77ac2b-42fe-4132-bd7b-416c92a904bc"
    },
    {
      "cell_type": "markdown",
      "metadata": {},
      "source": [
        "# 9 `__gt__`\n",
        "\n",
        "## A. 모티브"
      ],
      "id": "03784e70-9448-4445-b8c1-50e3b0f534c6"
    },
    {
      "cell_type": "code",
      "execution_count": 229,
      "metadata": {
        "tags": []
      },
      "outputs": [],
      "source": [
        "A = RPS4(['가위','바위'])\n",
        "B = RPS4(['가위','보'])"
      ],
      "id": "c1301e8d-7d2d-433a-8ed2-31e86285fea0"
    },
    {
      "cell_type": "markdown",
      "metadata": {},
      "source": [
        "**1회 대결**"
      ],
      "id": "caa5314a-fd8c-4803-82ef-3de6a81cd580"
    },
    {
      "cell_type": "code",
      "execution_count": 230,
      "metadata": {
        "tags": []
      },
      "outputs": [],
      "source": [
        "A.act()\n",
        "B.act()"
      ],
      "id": "06eb1f60-608d-4e63-8324-6f82a4c23416"
    },
    {
      "cell_type": "code",
      "execution_count": 231,
      "metadata": {
        "tags": []
      },
      "outputs": [],
      "source": [
        "A,B"
      ],
      "id": "408ad243-545f-4638-9e7b-704790c7ae09"
    },
    {
      "cell_type": "code",
      "execution_count": 232,
      "metadata": {
        "tags": []
      },
      "outputs": [],
      "source": [
        "A>B"
      ],
      "id": "5d3691fb-bd82-4ebe-b4c4-c173f8c900e9"
    },
    {
      "cell_type": "markdown",
      "metadata": {},
      "source": [
        "## B. RPS5: `__gt__` 의 사용\n",
        "\n",
        "`-` 관찰"
      ],
      "id": "ce412f3f-7684-416c-9eac-d45fea410184"
    },
    {
      "cell_type": "code",
      "execution_count": 233,
      "metadata": {
        "tags": []
      },
      "outputs": [],
      "source": [
        "a = 11\n",
        "b = 22 "
      ],
      "id": "7d92746c-f155-4531-a84d-c22107951df0"
    },
    {
      "cell_type": "code",
      "execution_count": 234,
      "metadata": {
        "tags": []
      },
      "outputs": [],
      "source": [
        "a.__gt__(b) # a<b "
      ],
      "id": "59708856-8870-4066-816c-ec264c6c8cbb"
    },
    {
      "cell_type": "code",
      "execution_count": 235,
      "metadata": {
        "tags": []
      },
      "outputs": [],
      "source": [
        "b.__gt__(a) # b>a"
      ],
      "id": "d4440ef4-e256-48c2-bbe5-937832785ca2"
    },
    {
      "cell_type": "markdown",
      "metadata": {},
      "source": [
        "`-` 구현"
      ],
      "id": "aafb09bb-b87e-405f-96a0-2d1b7c6bd09b"
    },
    {
      "cell_type": "code",
      "execution_count": 236,
      "metadata": {
        "tags": []
      },
      "outputs": [],
      "source": [
        "class RPS5(RPS4):\n",
        "    def __gt__(self,other):\n",
        "        return [self[-1], other[-1]] in [[\"가위\",\"보\"], [\"바위\",\"가위\"], [\"보\",\"바위\"]]"
      ],
      "id": "fcf13a9e-8729-43ad-938e-b3232d270581"
    },
    {
      "cell_type": "code",
      "execution_count": 237,
      "metadata": {
        "tags": []
      },
      "outputs": [],
      "source": [
        "A = RPS5(['가위','바위'])\n",
        "B = RPS5(['가위','보'])"
      ],
      "id": "eb9ce49f-6265-4d74-94b1-eb62fdc9b09f"
    },
    {
      "cell_type": "markdown",
      "metadata": {},
      "source": [
        "**1회대결**"
      ],
      "id": "1b9baa66-9f47-45bb-acae-cf2e347e3bd1"
    },
    {
      "cell_type": "code",
      "execution_count": 238,
      "metadata": {
        "tags": []
      },
      "outputs": [],
      "source": [
        "A.act()\n",
        "B.act()"
      ],
      "id": "d9413990-afb0-41a3-afa6-a56d222ebe9c"
    },
    {
      "cell_type": "code",
      "execution_count": 239,
      "metadata": {
        "tags": []
      },
      "outputs": [],
      "source": [
        "A,B"
      ],
      "id": "a84627d9-5f8f-49df-9daa-7a34f333ee5b"
    },
    {
      "cell_type": "code",
      "execution_count": 240,
      "metadata": {
        "tags": []
      },
      "outputs": [],
      "source": [
        "A > B"
      ],
      "id": "9855fb13-7d32-44bc-9eb2-2a12ae268398"
    },
    {
      "cell_type": "markdown",
      "metadata": {},
      "source": [
        "**2회대결**"
      ],
      "id": "ee0dc492-1256-4344-95ce-346232dbe065"
    },
    {
      "cell_type": "code",
      "execution_count": 241,
      "metadata": {
        "tags": []
      },
      "outputs": [],
      "source": [
        "A.act()\n",
        "B.act()"
      ],
      "id": "b74978c2-63c7-42be-b61d-b5196c088652"
    },
    {
      "cell_type": "code",
      "execution_count": 242,
      "metadata": {
        "tags": []
      },
      "outputs": [],
      "source": [
        "A,B"
      ],
      "id": "b1b02170-7fb3-4ddc-ad20-7d855f0e504c"
    },
    {
      "cell_type": "code",
      "execution_count": 243,
      "metadata": {
        "tags": []
      },
      "outputs": [],
      "source": [
        "A > B # 이건 원래 A.__gt__(B) 의 실행임 "
      ],
      "id": "1f285496-1f50-49b7-bace-2036beecce76"
    },
    {
      "cell_type": "markdown",
      "metadata": {},
      "source": [
        "`-` 이상태에서 A\\<B 를 한다면?"
      ],
      "id": "170edcbd-88fc-4a71-9ccf-a9eb9f5e3970"
    },
    {
      "cell_type": "code",
      "execution_count": 244,
      "metadata": {
        "tags": []
      },
      "outputs": [],
      "source": [
        "A < B # 이건 원래 A.__lt__(B) 의 실행임 "
      ],
      "id": "67c18b33-ea77-4910-9e18-0a3d30a7d9c5"
    },
    {
      "cell_type": "code",
      "execution_count": 245,
      "metadata": {
        "tags": []
      },
      "outputs": [],
      "source": [
        "A < B, A == B, A > B"
      ],
      "id": "5c1f53b6-ae80-4696-8272-dc822a03cebb"
    },
    {
      "cell_type": "markdown",
      "metadata": {},
      "source": [
        "`-` 비교연산자 정리\n",
        "\n",
        "| 특수메소드 |      의미       |\n",
        "|:----------:|:---------------:|\n",
        "|  `__eq__`  | `self == other` |\n",
        "|  `__gt__`  | `self > other`  |\n",
        "|  `__lt__`  | `self < other`  |\n",
        "|  `__ge__`  | `self >= other` |\n",
        "|  `__le__`  | `self <= other` |\n",
        "\n",
        "> 파이썬의 비밀10: `__eq__`, `__gt__`, `__lt__`, `__ge__`, `__le__`는\n",
        "> 각각 `==`, `>`, `<`, `>=`, `<=` 를 재정의한다.\n",
        "\n",
        "# 10. `__mul__`\n",
        "\n",
        "## A. 모티브"
      ],
      "id": "2af45e29-0b72-4ea3-9e24-8719f162c2c6"
    },
    {
      "cell_type": "code",
      "execution_count": 246,
      "metadata": {
        "tags": []
      },
      "outputs": [],
      "source": [
        "a = 3 \n",
        "b = 2 "
      ],
      "id": "19d09a7b-9320-4d71-b7f1-da12f2dff36c"
    },
    {
      "cell_type": "code",
      "execution_count": 247,
      "metadata": {
        "tags": []
      },
      "outputs": [],
      "source": [
        "a*b"
      ],
      "id": "93e62f2f-4335-4b2f-a3e1-2ea2adc9385e"
    },
    {
      "cell_type": "code",
      "execution_count": 248,
      "metadata": {
        "tags": []
      },
      "outputs": [],
      "source": [
        "a.__mul__(b)"
      ],
      "id": "3d3d04ba-668f-4d39-acc9-1d683b8a68a1"
    },
    {
      "cell_type": "markdown",
      "metadata": {},
      "source": [
        "`-` 하고싶은것: `A*B` 가 두 플레이어 `A`,`B`의 “대결”을 의미하도록\n",
        "하고싶다!\n",
        "\n",
        "## B. RPS6: `__mul__` 의 사용\n",
        "\n",
        "`-` 구현"
      ],
      "id": "1ed108e9-597f-4360-b4f9-381cdbe336ae"
    },
    {
      "cell_type": "code",
      "execution_count": 249,
      "metadata": {
        "tags": []
      },
      "outputs": [],
      "source": [
        "class RPS6(RPS5):\n",
        "    def __init__(self,action_space):\n",
        "        super().__init__(action_space)\n",
        "        self.results = [] \n",
        "    def __mul__(self,other):\n",
        "        self.act()\n",
        "        other.act()\n",
        "        if self>other:\n",
        "            self.results.append(\"승리\")\n",
        "            other.results.append(\"패배\") \n",
        "        elif self<other:\n",
        "            self.results.append(\"패배\")\n",
        "            other.results.append(\"승리\")\n",
        "        else:\n",
        "            self.results.append(\"무승부\")\n",
        "            other.results.append(\"무승부\")\n",
        "    def __repr__(self):\n",
        "        text = super().__repr__()\n",
        "        text = text + f\"\\n승패: {self.results}\"\n",
        "        return text"
      ],
      "id": "224dccd1-6c1a-4192-92cd-6ddaf4f35d7d"
    },
    {
      "cell_type": "code",
      "execution_count": 250,
      "metadata": {
        "tags": []
      },
      "outputs": [],
      "source": [
        "A = RPS6(['가위','바위'])\n",
        "B = RPS6(['가위','보'])"
      ],
      "id": "70e9dbad-cf08-482d-b9ba-43fdd8b80c0a"
    },
    {
      "cell_type": "code",
      "execution_count": 251,
      "metadata": {
        "tags": []
      },
      "outputs": [],
      "source": [
        "A,B"
      ],
      "id": "63b3818b-825b-4c75-b3b9-f8cf97cffee8"
    },
    {
      "cell_type": "code",
      "execution_count": 252,
      "metadata": {
        "tags": []
      },
      "outputs": [],
      "source": [
        "A*B"
      ],
      "id": "671e76ec-4b12-482e-93de-72502a78963b"
    },
    {
      "cell_type": "code",
      "execution_count": 253,
      "metadata": {
        "tags": []
      },
      "outputs": [],
      "source": [
        "A,B"
      ],
      "id": "2b13e5b5-19e4-4850-9116-5ab87faed481"
    },
    {
      "cell_type": "code",
      "execution_count": 254,
      "metadata": {
        "tags": []
      },
      "outputs": [],
      "source": [
        "A*B"
      ],
      "id": "b00e104d-3f52-4463-b063-4212dad7559a"
    },
    {
      "cell_type": "code",
      "execution_count": 255,
      "metadata": {
        "tags": []
      },
      "outputs": [],
      "source": [
        "A,B"
      ],
      "id": "4b36208b-49d5-46c1-a636-27ce7a05aef5"
    },
    {
      "cell_type": "markdown",
      "metadata": {},
      "source": [
        "# 11. 가위,바위,보\n",
        "\n",
        "`(1)` 플레이어A는 (가위,가위) 중 하나를 선택할 수 있고 플레이어B는\n",
        "(가위,바위) 중 하나를 선택할 수 있다. 각 플레이어는 각 패 중 하나를\n",
        "랜덤으로 선택하는 액션을 한다고 가정하자. 즉 아래의 상황을 가정하자.\n",
        "\n",
        "|              |         플레이어A          |        플레이어B        |\n",
        "|:------------:|:--------------------------:|:-----------------------:|\n",
        "| action_space |        (가위,가위)         |       (가위,바위)       |\n",
        "|     prob     | {‘가위’: 0.5, ‘가위’: 0.5} | {‘가위’:0.5,‘바위’:0.5} |\n",
        "\n",
        "아래에 해당하는 확률을 시뮬레이션을 이용하여 추정하라.\n",
        "\n",
        "-   플레이어A가 승리할 확률:\n",
        "-   플레이어B가 승리할 확률:\n",
        "-   플레이어A와 플레이어B가 비길 확률:\n",
        "\n",
        "**hint**: 50% 확률로 b가 승리하고 50% 확률로 비긴다.\n",
        "\n",
        "(풀이)"
      ],
      "id": "8d9a366c-0640-4034-84c5-1fd84665edfb"
    },
    {
      "cell_type": "code",
      "execution_count": 260,
      "metadata": {
        "tags": []
      },
      "outputs": [],
      "source": [
        "A = RPS6(['가위','가위'])\n",
        "B = RPS6(['가위','바위'])"
      ],
      "id": "4099112f-0ac1-4357-b86d-1ce80116969b"
    },
    {
      "cell_type": "code",
      "execution_count": 261,
      "metadata": {
        "tags": []
      },
      "outputs": [],
      "source": [
        "for _ in range(100):\n",
        "    A*B"
      ],
      "id": "b6dde56a-5437-4fae-92fb-fef0d881aa51"
    },
    {
      "cell_type": "code",
      "execution_count": 266,
      "metadata": {
        "tags": []
      },
      "outputs": [],
      "source": [
        "{s:A.results.count(s) for s in set(A.results)}"
      ],
      "id": "6beb67d4-6716-4631-979a-8f210beb9d7e"
    },
    {
      "cell_type": "code",
      "execution_count": 267,
      "metadata": {
        "tags": []
      },
      "outputs": [],
      "source": [
        "{s:B.results.count(s) for s in set(B.results)}"
      ],
      "id": "c470eeeb-ec86-4de3-96d4-f4de1ac2deb4"
    },
    {
      "cell_type": "markdown",
      "metadata": {},
      "source": [
        "`(2)` 아래의 상황을 가정하자.\n",
        "\n",
        "|              |         플레이어A          |        플레이어B        |\n",
        "|:------------:|:--------------------------:|:-----------------------:|\n",
        "| action_space |        (가위,가위)         |       (가위,바위)       |\n",
        "|     prob     | {‘가위’: 0.5, ‘가위’: 0.5} | {‘가위’:0.5,‘바위’:0.5} |\n",
        "\n",
        "각 플레이어는 아래와 같은 규칙으로 가위바위보 결과에 따른 보상점수를\n",
        "적립한다고 하자. - 승리: 보상점수 2점 적립 - 무승부: 보상점수 1점 적립 -\n",
        "패배: 보상점수 0점 적립\n",
        "\n",
        "100번째 대결까지 시뮬레이션을 시행하고 플레이어B가 가위를 낼 경우 얻은\n",
        "보상점수의 총합과 바위를 낼 경우 얻은 보상점수의 총합을 각각 구하라.\n",
        "플레이어B는 가위를 내는것이 유리한가? 바위를 내는것이 유리한가?\n",
        "\n",
        "**hint**: 플레이어B는 바위를 내는 것이 유리하다.\n",
        "\n",
        "**hint**: 플레이어B가 100번중에 49번 가위를 내고 51번 바위를 낸다면\n",
        "플레이어B가 적립할 보상점수는 각각 아래와 같다. - 가위를 내었을 경우: 49\n",
        "\\* 1 = 49점 - 바위를 내었을 경우: 51 \\* 2 = 102점 - 총 보상점수 = 49점 +\n",
        "102점 = 151점\n",
        "\n",
        "(풀이)"
      ],
      "id": "88930101-8c00-4c80-995b-47e0e46f22be"
    },
    {
      "cell_type": "code",
      "execution_count": 475,
      "metadata": {},
      "outputs": [],
      "source": [
        "class RPSBase2: \n",
        "    def __init__(self,action_space):\n",
        "        self.action_space = action_space \n",
        "        self.actions = [] \n",
        "        self.results = [] \n",
        "        self.score_dct = {'패배':0, '무승부':1, '승리':2}\n",
        "        self.rewards = [] \n",
        "        self.prob = [1/2,1/2]        \n",
        "    def act(self):\n",
        "        action = np.random.choice(self.action_space,p=self.prob)\n",
        "        self.actions.append(action)\n",
        "        return action \n",
        "    def __repr__(self):\n",
        "        text = (\n",
        "            f\"낼 수 있는 패: {self.action_space}\\n\"\n",
        "            f\"최근기록: {self.actions[-10:]}\\n\"\n",
        "            f\"최근승패: {self.results[-10:]}\\n\"\n",
        "            f\"확률: {dict(zip(self.action_space,self.prob))}\"\n",
        "        )\n",
        "        return text\n",
        "    def __eq__(self,other):\n",
        "        return self.actions[-1] == other.actions[-1]\n",
        "    def __gt__(self,other): \n",
        "        return [self.actions[-1], other.actions[-1]] in [[\"가위\",\"보\"], [\"바위\",\"가위\"], [\"보\",\"바위\"]]\n",
        "    def __mul__(self,other):\n",
        "        self.act()\n",
        "        other.act()\n",
        "        if self>other:\n",
        "            self.results.append(\"승리\")\n",
        "            other.results.append(\"패배\") \n",
        "        elif self<other:\n",
        "            self.results.append(\"패배\")\n",
        "            other.results.append(\"승리\")\n",
        "        else:\n",
        "            self.results.append(\"무승부\")\n",
        "            other.results.append(\"무승부\")\n",
        "        self.save_reward()\n",
        "        other.save_reward()\n",
        "    def save_reward(self):\n",
        "        self.rewards.append(self.score_dct[self.results[-1]]) "
      ],
      "id": "d6bcf6ea-66c9-4b4c-a8d9-6105f0f0d48a"
    },
    {
      "cell_type": "code",
      "execution_count": 476,
      "metadata": {
        "tags": []
      },
      "outputs": [],
      "source": [
        "A = RPSBase2(['가위','가위'])\n",
        "B = RPSBase2(['가위','바위'])"
      ],
      "id": "dc37c21f-515d-460b-92c8-5f92c446a20a"
    },
    {
      "cell_type": "code",
      "execution_count": 478,
      "metadata": {
        "tags": []
      },
      "outputs": [],
      "source": [
        "for t in range(100):\n",
        "    A*B"
      ],
      "id": "cb8b509c-70ad-45a9-9c7f-3fd40dd840e6"
    },
    {
      "cell_type": "code",
      "execution_count": 479,
      "metadata": {
        "tags": []
      },
      "outputs": [],
      "source": [
        "df = pd.DataFrame({\"A행동\":A.actions,\"B행동\":B.actions,\"A보상\":A.rewards,\"B보상\":B.rewards})\n",
        "df"
      ],
      "id": "3d879324-b485-4cef-a419-af15f84c60a2"
    },
    {
      "cell_type": "code",
      "execution_count": 480,
      "metadata": {
        "tags": []
      },
      "outputs": [],
      "source": [
        "df[df.B행동 == \"가위\"].B보상.sum(), df[df.B행동 == \"바위\"].B보상.sum()"
      ],
      "id": "31531dcc-6f42-448c-8f00-1c0fd752c542"
    },
    {
      "cell_type": "markdown",
      "metadata": {},
      "source": [
        "`(3)` 아래의 상황을 가정하자.\n",
        "\n",
        "|              |         플레이어A          |        플레이어B        |\n",
        "|:------------:|:--------------------------:|:-----------------------:|\n",
        "| action_space |        (가위,가위)         |       (가위,바위)       |\n",
        "|     prob     | {‘가위’: 0.5, ‘가위’: 0.5} | {‘가위’:0.5,‘바위’:0.5} |\n",
        "\n",
        "100번의 대결에서 얻은 데이터를 **학습**하여, 이후의 대결부터는\n",
        "플레이어B가 “가위” 혹은 “바위” 를 선택할 확률을 매시점 조금씩 조정한다고\n",
        "가정하자. 구체적으로는 현재시점까지 얻은 보상점수의 비율로 확률을\n",
        "결정한다. 예를들어 플레이어B가 100회의 대결동안 누적한 보상점수의 총합이\n",
        "아래와 같다고 하자.\n",
        "\n",
        "-   가위를 내었을 경우 보상점수 총합 = 50점\n",
        "-   바위를 내었을 경우 보상점수 총합 = 100점\n",
        "\n",
        "그렇다면 플레이어B는 각각 (50/150,100/150) 의 확률로 (가위,바위) 중\n",
        "하나를 선택한다. 101번째 대결에 플레이어B가 가위를 내서 비겼다면\n",
        "이후에는 (51/151,100/151) 의 확률로 (가위,바위) 중 하나를 선택한다.\n",
        "102번째 대결에 플레이어B가 바위를 내서 이겼다면 이후에는 각각\n",
        "(51/153,102/153) 의 확률로 (가위,바위) 중 하나를 선택한다. 이러한 상황을\n",
        "요약하여 표로 정리하면 아래와 같다.\n",
        "\n",
        "**플레이어 B의 확률업데이트 예시**\n",
        "\n",
        "|     시점      |           점수           |               확률                |\n",
        "|:----------------------:|:----------------------:|:----------------------:|\n",
        "| 0\\<= t \\< 100 | B = {가위: 50, 바위:100} | B = {가위: 50/150, 바위: 100/150} |\n",
        "|    t= 100     | B= {가위: 51, 바위:100}  | B = {가위: 51/151, 바위: 100/151} |\n",
        "|     t=101     | B = {가위: 51, 바위:102} | B = {가위: 51/153, 바위: 102/153} |\n",
        "\n",
        "첫 100회 까지는 확률을 업데이트 하지 않고 (=학습하지 않고)\n",
        "100~500회까지는 플레이어B가 데이터를 보고 확률을 수정한다고 하자. 즉\n",
        "아래와 같은 방식으로 수정한다고 하자.\n",
        "\n",
        "**플레이어 A,B의 시점별 확률업데이트**\n",
        "\n",
        "|      시점      |                           확률                           |          학습           |\n",
        "|:----------------------:|:----------------------:|:----------------------:|\n",
        "| 0\\<= t \\< 100  | A = {가위: 1/2, 가위: 1/2},<br> B = {가위:1/2, 바위:1/2} |  A = False, B = False   |\n",
        "| 100\\<= t \\<500 |  A= {가위: 1/2, 가위:1/2},<br> B= {가위: ??, 바위: ??}   | A = False, B = **True** |\n",
        "\n",
        "500번의 대결이 끝난 이후 플레이어B가 (가위,바위)를 낼 확률은 각각 얼마로\n",
        "업데이트 되었는가?\n",
        "\n",
        "**hint: 시간이 지날수록 플레이어B는 (가위,바위)중 바위를 내는 쪽이\n",
        "유리하다는 것을 알게 될 것이다.**\n",
        "\n",
        "(풀이)"
      ],
      "id": "d897a4ba-0e52-4190-b794-b41217e4579b"
    },
    {
      "cell_type": "code",
      "execution_count": 549,
      "metadata": {
        "tags": []
      },
      "outputs": [],
      "source": [
        "class RPSlrn(RPSBase2):\n",
        "    def learn(self):\n",
        "        a0,a1 = self.action_space\n",
        "        p0 = sum([r for (a,r) in zip(self.actions,self.rewards) if a == a0])/sum(self.rewards)\n",
        "        p1 = sum([r for (a,r) in zip(self.actions,self.rewards) if a == a1])/sum(self.rewards)\n",
        "        self.prob = [p0,p1]"
      ],
      "id": "72cfb614-8525-4455-8417-bb413fb963d0"
    },
    {
      "cell_type": "code",
      "execution_count": 550,
      "metadata": {
        "tags": []
      },
      "outputs": [],
      "source": [
        "A = RPSlrn(['가위','가위'])\n",
        "B = RPSlrn(['가위','바위'])"
      ],
      "id": "eafe7215-9f1f-4d16-a817-4917815c0741"
    },
    {
      "cell_type": "code",
      "execution_count": 551,
      "metadata": {
        "tags": []
      },
      "outputs": [],
      "source": [
        "for t in range(100):\n",
        "    A*B "
      ],
      "id": "8df659f2-d956-4ecd-8ab9-3fdec49b5178"
    },
    {
      "cell_type": "code",
      "execution_count": 552,
      "metadata": {
        "tags": []
      },
      "outputs": [],
      "source": [
        "A"
      ],
      "id": "efa30952-28d5-4052-8294-b61cb6f63809"
    },
    {
      "cell_type": "code",
      "execution_count": 553,
      "metadata": {
        "tags": []
      },
      "outputs": [],
      "source": [
        "B"
      ],
      "id": "7858b211-26fd-4403-a410-c37f61e7877b"
    },
    {
      "cell_type": "code",
      "execution_count": 554,
      "metadata": {
        "tags": []
      },
      "outputs": [],
      "source": [
        "# for t in range(100):\n",
        "#     A*B \n",
        "for t in range(100,500):\n",
        "    A*B \n",
        "    B.learn()"
      ],
      "id": "8c1b9aed-dc04-49b6-9bda-38122aeecb5b"
    },
    {
      "cell_type": "code",
      "execution_count": 555,
      "metadata": {
        "tags": []
      },
      "outputs": [],
      "source": [
        "A"
      ],
      "id": "38fdec54-7835-4268-a3ca-4c0be21bcf50"
    },
    {
      "cell_type": "code",
      "execution_count": 556,
      "metadata": {
        "tags": []
      },
      "outputs": [],
      "source": [
        "B"
      ],
      "id": "2df4d171-15a3-4809-9ec0-0cb2cec61a5a"
    },
    {
      "cell_type": "markdown",
      "metadata": {},
      "source": [
        "`(4)` 플레이어 C와 플레이어 D를 만들아라.\n",
        "\n",
        "|              |         플레이어C          |        플레이어D        |\n",
        "|:------------:|:--------------------------:|:-----------------------:|\n",
        "| action_space |        (가위,바위)         |       (가위,바위)       |\n",
        "|     prob     | {‘가위’: 0.5, ‘바위’: 0.5} | {‘가위’:0.5,‘바위’:0.5} |\n",
        "\n",
        "두 플레이어는 처음 100번의 대결 동안 플레이어 C와 플레이어 D는 둘 다\n",
        "’가위’와 ’바위’를 랜덤하게 선택한다. 즉, 어떤 규칙 없이 무작위로\n",
        "선택한다. 그리고 500번째 대결까지는 문제 (3)와 같은 방식으로 확률을\n",
        "수정한다.\n",
        "\n",
        "**플레이어 C,D의 시점별 확률업데이트**\n",
        "\n",
        "|      시점      |                           확률                           |            학습            |\n",
        "|:----------------------:|:----------------------:|:----------------------:|\n",
        "|  0\\<= t \\<100  | C = {가위: 1/2, 바위: 1/2},<br> D = {가위:1/2, 바위:1/2} |    C = False, D = False    |\n",
        "| 100\\<= t \\<500 |  C = {가위: ??, 바위:??},<br> D = {가위: ??, 바위: ??}   | C = **True**, D = **True** |\n",
        "\n",
        "500번의 대결이 끝난 이후 플레이어C,D가 (가위,바위)를 낼 확률은 각각\n",
        "얼마로 업데이트 되었는가?\n",
        "\n",
        "**hint: 시간이 지날수록 두 플레이어 모두 바위를 내는 쪽이 유리하다는\n",
        "것을 알게 될 것이다.**\n",
        "\n",
        "(풀이)"
      ],
      "id": "92d7da7c-9179-450f-865c-a553b3cfd9b0"
    },
    {
      "cell_type": "code",
      "execution_count": 567,
      "metadata": {
        "tags": []
      },
      "outputs": [],
      "source": [
        "C = RPSlrn(['가위','바위'])\n",
        "D = RPSlrn(['가위','바위'])"
      ],
      "id": "830a2c66-585a-4bc7-8dcd-4c4139fc3fb1"
    },
    {
      "cell_type": "code",
      "execution_count": 568,
      "metadata": {
        "tags": []
      },
      "outputs": [],
      "source": [
        "for t in range(100):\n",
        "    C*D "
      ],
      "id": "0cadd485-ad93-464c-82c9-a1bc11cb4d30"
    },
    {
      "cell_type": "code",
      "execution_count": 569,
      "metadata": {
        "tags": []
      },
      "outputs": [],
      "source": [
        "C"
      ],
      "id": "13f88fdc-cd9c-479f-be8c-d58eb859aed9"
    },
    {
      "cell_type": "code",
      "execution_count": 570,
      "metadata": {
        "tags": []
      },
      "outputs": [],
      "source": [
        "D"
      ],
      "id": "2f6f9336-416f-4c33-a734-495b60996cd8"
    },
    {
      "cell_type": "code",
      "execution_count": 571,
      "metadata": {
        "tags": []
      },
      "outputs": [],
      "source": [
        "# for t in range(100):\n",
        "#     C*D \n",
        "for t in range(100,500):\n",
        "    C*D \n",
        "    C.learn()\n",
        "    D.learn()"
      ],
      "id": "1f412b1e-3b91-4a3c-a827-06cf781c7bd8"
    },
    {
      "cell_type": "code",
      "execution_count": 572,
      "metadata": {
        "tags": []
      },
      "outputs": [],
      "source": [
        "C"
      ],
      "id": "bb0bd1e0-ed60-4bb8-b9c9-5ae8db173842"
    },
    {
      "cell_type": "code",
      "execution_count": 573,
      "metadata": {
        "tags": []
      },
      "outputs": [],
      "source": [
        "D"
      ],
      "id": "f0cede5e-23e5-4be6-9da5-fe3759f3cf88"
    },
    {
      "cell_type": "markdown",
      "metadata": {},
      "source": [
        "`(5)` 새로운 플레이어 E와 F를 생각하자. 플레이어E와 플레이어F는 각각\n",
        "(가위,바위) 그리고 (가위,보) 중 하나를 선택할 수 있다고 가정하자.\n",
        "\n",
        "|              |         플레이어E          |        플레이어F        |\n",
        "|:------------:|:--------------------------:|:-----------------------:|\n",
        "| action_space |        (가위,바위)         |        (가위,보)        |\n",
        "|     prob     | {‘가위’: 0.5, ‘바위’: 0.5} | {‘가위’:0.5,‘바위’:0.5} |\n",
        "\n",
        "시뮬레이션 대결결과를 이용하여 아래의 확률을 근사적으로 추정하라.\n",
        "\n",
        "-   플레이어E가 승리할 확률:\n",
        "-   플레이어F가 승리할 확률:\n",
        "-   플레이어E와 플레이어F가 비길 확률:\n",
        "\n",
        "**hint: 플레이어E가 가위를 낸다면 최소한 지지는 않기 때문에 플레이어E가\n",
        "좀 더 유리한 패를 가지고 있다. 따라서 플레이어E의 결과가 더 좋을\n",
        "것이다.**\n",
        "\n",
        "(풀이)"
      ],
      "id": "10d129eb-0f2c-4895-8209-866d75c2e215"
    },
    {
      "cell_type": "code",
      "execution_count": 574,
      "metadata": {
        "tags": []
      },
      "outputs": [],
      "source": [
        "E = RPSlrn(['가위','바위'])\n",
        "F = RPSlrn(['가위','보'])"
      ],
      "id": "45ccccbb-6e9e-48dc-96a0-6f149d90effe"
    },
    {
      "cell_type": "code",
      "execution_count": 576,
      "metadata": {
        "tags": []
      },
      "outputs": [],
      "source": [
        "for _ in range(1000):\n",
        "    E*F "
      ],
      "id": "6d30737c-6f68-4ecd-a916-e570d5b74418"
    },
    {
      "cell_type": "code",
      "execution_count": 582,
      "metadata": {
        "tags": []
      },
      "outputs": [],
      "source": [
        "{s:E.results.count(s) for s in set(E.results)}"
      ],
      "id": "27369224-b881-4bfc-95e6-2f701726c0bc"
    },
    {
      "cell_type": "code",
      "execution_count": 583,
      "metadata": {
        "tags": []
      },
      "outputs": [],
      "source": [
        "{s:F.results.count(s) for s in set(F.results)}"
      ],
      "id": "20273729-f557-4915-8079-d3ba1de3e003"
    },
    {
      "cell_type": "markdown",
      "metadata": {},
      "source": [
        "`(6)` (5)와 동일한 두 명의 플레이어E, F를 생각하자.\n",
        "\n",
        "|              |         플레이어E          |       플레이어F       |\n",
        "|:------------:|:--------------------------:|:---------------------:|\n",
        "| action_space |        (가위,바위)         |       (가위,보)       |\n",
        "|     prob     | {‘가위’: 0.5, ‘바위’: 0.5} | {‘가위’:0.5,‘보’:0.5} |\n",
        "\n",
        "두 플레이어는 100회까지는 랜덤으로 자신의 패를 선택한다. 그리고\n",
        "101회부터 500회까지는 플레이어F만 데이터로 부터 학습을 하여 수정된\n",
        "확률을 사용한다.\n",
        "\n",
        "**플레이어 E,F의 시점별 확률업데이트**\n",
        "\n",
        "|      시점      |                          확률                          |          학습           |\n",
        "|:----------------------:|:----------------------:|:----------------------:|\n",
        "|  0\\<= t \\<100  | E = {가위: 1/2, 바위: 1/2},<br> F = {가위:1/2, 보:1/2} |  E = False, F = False   |\n",
        "| 100\\<= t \\<500 | E = {가위: 1/2, 바위: 1/2},<br> F = {가위: ??, 보: ??} | E = False, F = **True** |\n",
        "\n",
        "500번의 대결이 끝나고 플레이어F가 (가위,보)를 선택하는 확률이 어떻게\n",
        "업데이트 되어있는가?\n",
        "\n",
        "**hint: 플레이어F는 보를 내는 것이 낫다고 생각할 것이다. (가위를 내면\n",
        "지거나 비기지만 보를 내면 지거나 이긴다.)**\n",
        "\n",
        "(풀이)"
      ],
      "id": "ee403069-9947-4a5c-b09f-f1d53ff4f577"
    },
    {
      "cell_type": "code",
      "execution_count": 584,
      "metadata": {
        "tags": []
      },
      "outputs": [],
      "source": [
        "E = RPSlrn(['가위','바위'])\n",
        "F = RPSlrn(['가위','보'])"
      ],
      "id": "ce51b183-b1e0-47fd-81f7-149df985c8eb"
    },
    {
      "cell_type": "code",
      "execution_count": 585,
      "metadata": {
        "tags": []
      },
      "outputs": [],
      "source": [
        "for t in range(100):\n",
        "    E*F "
      ],
      "id": "a903c58e-d1e0-443e-97c7-6c48a4140be0"
    },
    {
      "cell_type": "code",
      "execution_count": 586,
      "metadata": {
        "tags": []
      },
      "outputs": [],
      "source": [
        "E"
      ],
      "id": "a4d63216-39dc-4f8f-9b29-d7438a86dc18"
    },
    {
      "cell_type": "code",
      "execution_count": 587,
      "metadata": {
        "tags": []
      },
      "outputs": [],
      "source": [
        "F"
      ],
      "id": "cb99c16b-b6a7-477f-bf1f-937bfcc31b12"
    },
    {
      "cell_type": "code",
      "execution_count": 588,
      "metadata": {
        "tags": []
      },
      "outputs": [],
      "source": [
        "# for t in range(100):\n",
        "#     E*F \n",
        "for t in range(100,500):\n",
        "    E*F \n",
        "    F.learn()"
      ],
      "id": "dd0fcf70-0cce-434a-aa92-2ccd407b072f"
    },
    {
      "cell_type": "code",
      "execution_count": 589,
      "metadata": {
        "tags": []
      },
      "outputs": [],
      "source": [
        "E"
      ],
      "id": "60618d7d-0bdc-4853-96a5-59b80a5ad018"
    },
    {
      "cell_type": "code",
      "execution_count": 590,
      "metadata": {
        "tags": []
      },
      "outputs": [],
      "source": [
        "F"
      ],
      "id": "63e4d801-ac31-4e4c-ad4d-50d10486777c"
    },
    {
      "cell_type": "markdown",
      "metadata": {},
      "source": [
        "`(7)` (6)번의 플레이어E와 플레이어F가 500회~1000회까지 추가로 게임을\n",
        "한다. 이번에는 플레이어E만 데이터로부터 학습한다. 1000회까지 대결을 끝낸\n",
        "이후 플레이어E가 (가위,바위)를 내는 확률은 어떻게 업데이트 되었는가?\n",
        "\n",
        "**플레이어 E,F의 시점별 확률업데이트**\n",
        "\n",
        "|       시점       |                          확률                          |          학습           |\n",
        "|:----------------------:|:----------------------:|:----------------------:|\n",
        "|   0\\<= t \\<100   | E = {가위: 1/2, 바위: 1/2},<br> F = {가위:1/2, 보:1/2} |  E = False, F = False   |\n",
        "|  100\\<= t \\<500  | E = {가위: 1/2, 바위: 1/2},<br> F = {가위: ??, 보: ??} | E = False, F = **True** |\n",
        "|        \\-        |                           \\-                           |           \\-            |\n",
        "| 500\\<= t \\< 1000 |  E = {가위: ??, 바위: ??},<br> F = {가위: ??, 보: ??}  | E = **True**, F = False |\n",
        "\n",
        "**hint: 플레이어F는 보를 내도록 학습되어 있다. 따라서 플레이어E가 바위를\n",
        "내면 지고 가위를 내면 이길것이다. 따라서 플레이어E는 가위가 유리하다고\n",
        "생각할 것이다.**\n",
        "\n",
        "(풀이)"
      ],
      "id": "9e33bed3-deff-4043-93d1-8d78b72f42f0"
    },
    {
      "cell_type": "code",
      "execution_count": 591,
      "metadata": {
        "tags": []
      },
      "outputs": [],
      "source": [
        "# for t in range(100):\n",
        "#     E*F \n",
        "# for t in range(100,500):\n",
        "#     E*F \n",
        "#     F.learn()\n",
        "for t in range(500,1000):\n",
        "    E*F \n",
        "    E.learn()"
      ],
      "id": "a0d6e768-3783-4dbf-bcaf-7c813226d85b"
    },
    {
      "cell_type": "code",
      "execution_count": 592,
      "metadata": {
        "tags": []
      },
      "outputs": [],
      "source": [
        "E"
      ],
      "id": "72626f94-e55e-4981-aca7-bfc4b5c443bf"
    },
    {
      "cell_type": "code",
      "execution_count": 598,
      "metadata": {
        "tags": []
      },
      "outputs": [],
      "source": [
        "F"
      ],
      "id": "4512dd1d-8509-4a9c-b7f5-b948fad68e5e"
    },
    {
      "cell_type": "markdown",
      "metadata": {},
      "source": [
        "`(8)` (7)번의 플레이어E와 플레이어F가 1000회~50000회까지 추가로 게임을\n",
        "한다. 이번에는 플레이어F만 데이터로부터 학습한다. 50000회까지 대결을\n",
        "끝낸 이후 플레이어F가 (가위,보)를 내는 확률은 어떻게 업데이트 되었는가?\n",
        "\n",
        "**플레이어 E,F의 시점별 확률업데이트**\n",
        "\n",
        "|        시점        |                          확률                          |          학습           |\n",
        "|:----------------------:|:----------------------:|:----------------------:|\n",
        "|    0\\<= t \\<100    | E = {가위: 1/2, 바위: 1/2},<br> F = {가위:1/2, 보:1/2} |  E = False, F = False   |\n",
        "|   100\\<= t \\<500   | E = {가위: 1/2, 바위: 1/2},<br> F = {가위: ??, 보: ??} | E = False, F = **True** |\n",
        "|  500\\<= t \\< 1000  |  E = {가위: ??, 바위: ??},<br> F = {가위: ??, 보: ??}  | E = **True**, F = False |\n",
        "|         \\-         |                           \\-                           |           \\-            |\n",
        "| 1000\\<= t \\< 50000 |  E = {가위: ??, 바위: ??},<br> F = {가위: ??, 보: ??}  | E = False, F = **True** |\n",
        "\n",
        "**hint: 플레이어F는 원래 보가 유리하다고 생각하여 보를 자주 내도록\n",
        "학습되었다. 하지만 플레이어E가 그러한 플레이어F의 성향을 파악하고 가위를\n",
        "주로 내도록 학습하였다. 플레이어F는 그러한 플레이어E의 성향을 다시\n",
        "파악하여 이번에는 가위을 자주 내는 것이 유리하다고 생각할 것이다.**\n",
        "\n",
        "(풀이)"
      ],
      "id": "8b3d9007-2b6b-4ea3-a61f-b26f9638fc3e"
    },
    {
      "cell_type": "code",
      "execution_count": 599,
      "metadata": {
        "tags": []
      },
      "outputs": [],
      "source": [
        "# for t in range(100):\n",
        "#     E*F \n",
        "# for t in range(100,500):\n",
        "#     E*F \n",
        "#     F.learn()\n",
        "# for t in range(500,1000):\n",
        "#     E*F \n",
        "#     E.learn()\n",
        "for t in range(1000,50000):\n",
        "    E*F \n",
        "    F.learn()"
      ],
      "id": "f5eb1f77-d104-4531-95ec-232a86cbd132"
    },
    {
      "cell_type": "code",
      "execution_count": 601,
      "metadata": {
        "tags": []
      },
      "outputs": [],
      "source": [
        "E"
      ],
      "id": "71000b94-0e63-4fe8-9fc4-3d1106614cec"
    },
    {
      "cell_type": "code",
      "execution_count": 602,
      "metadata": {
        "tags": []
      },
      "outputs": [],
      "source": [
        "F"
      ],
      "id": "1104b775-a3e5-427f-9b84-5ecc7ee04fab"
    },
    {
      "cell_type": "markdown",
      "metadata": {},
      "source": [
        "`(9)` 플레이어E와 플레이어F의 대결기록을 초기화 한다. 이번에는\n",
        "플레이어F가 항상 (3/4)의 확률로 가위를 (1/4)의 확률로 보를 낸다고\n",
        "가정한다.\n",
        "\n",
        "|              |         플레이어E          |       플레이어F       |\n",
        "|:------------:|:--------------------------:|:---------------------:|\n",
        "| action_space |        (가위,바위)         |       (가위,보)       |\n",
        "|     prob     | {‘가위’: 0.5, ‘바위’: 0.5} | {‘가위’:3/4,‘보’:1/4} |\n",
        "\n",
        "플레이어E는 처음 1000번의 대결까지는 랜덤으로 (가위,바위)중 하나를 내고,\n",
        "이후의 1000번의 대결에서는 데이터를 학습하여 수정한 확률을 사용한다고\n",
        "하자. 대결이후에 플레이어E가 (가위,바위)를 내는 확률이 어떻게 업데이트\n",
        "되어있는가?\n",
        "\n",
        "|       시점       |                           확률                           |          학습           |\n",
        "|:----------------------:|:----------------------:|:----------------------:|\n",
        "|  0\\<= t \\<1000   | E = {가위: 1/2, 바위: 1/2},<br> F = {가위: 3/4, 보: 1/4} |  E = False, F = False   |\n",
        "| 1000\\<= t \\<2000 |  E = {가위: ??, 바위: ??},<br> F = {가위: 3/4, 보: 1/4}  | E = **True**, F = False |\n",
        "\n",
        "(풀이)"
      ],
      "id": "241b2e49-32b9-4e1f-8071-bc3698910923"
    },
    {
      "cell_type": "code",
      "execution_count": 703,
      "metadata": {
        "tags": []
      },
      "outputs": [],
      "source": [
        "E = RPSlrn(['가위','바위'])\n",
        "F = RPSlrn(['가위','보'])"
      ],
      "id": "76c26dfc-3da2-4bd1-b379-a19027fed9f8"
    },
    {
      "cell_type": "code",
      "execution_count": 704,
      "metadata": {
        "tags": []
      },
      "outputs": [],
      "source": [
        "F.prob = [3/4, 1/4] "
      ],
      "id": "1579ad80-66a0-453c-9772-30fa50e69032"
    },
    {
      "cell_type": "code",
      "execution_count": 705,
      "metadata": {
        "tags": []
      },
      "outputs": [],
      "source": [
        "E"
      ],
      "id": "bac03dcc-fe8c-40bf-bdb9-559dac26f4ac"
    },
    {
      "cell_type": "code",
      "execution_count": 706,
      "metadata": {
        "tags": []
      },
      "outputs": [],
      "source": [
        "F"
      ],
      "id": "779b1b63-f2ed-4f5a-8b9a-b83dbc4c88b7"
    },
    {
      "cell_type": "code",
      "execution_count": 707,
      "metadata": {
        "tags": []
      },
      "outputs": [],
      "source": [
        "for t in range(1000):\n",
        "    E*F \n",
        "for t in range(1000,2000):\n",
        "    E*F \n",
        "    E.learn()"
      ],
      "id": "131dfb49-0a8c-4ec4-b0bd-7751d334189e"
    },
    {
      "cell_type": "code",
      "execution_count": 708,
      "metadata": {
        "tags": []
      },
      "outputs": [],
      "source": [
        "E"
      ],
      "id": "405837a1-0386-47b1-8b24-a7dcd79f812b"
    },
    {
      "cell_type": "code",
      "execution_count": 709,
      "metadata": {
        "tags": []
      },
      "outputs": [],
      "source": [
        "F"
      ],
      "id": "739a977c-0dce-402b-87a0-e43b8349dd07"
    },
    {
      "cell_type": "markdown",
      "metadata": {},
      "source": [
        "> E가 가위를 냈을 경우 보상의 기대값은 `1*3/4 + 2*1/4 = 5/4` 이고 바위를\n",
        "> 냈을 경우 보상의 기대값은 `2*3/4 + 0*1/4 = 6/4` 이므로 바위가\n",
        "> 유리하다. 따라서 점점 바위를 내도록 학습한다.\n",
        "\n",
        "`(10)` 플레이어E와 플레이어F의 대결기록을 초기화 한다. 이번에는\n",
        "플레이어F가 항상 (2/3)의 확률로 가위를 (1/3)의 확률로 보를 낸다고\n",
        "가정한다.\n",
        "\n",
        "|              |         플레이어E          |       플레이어F       |\n",
        "|:------------:|:--------------------------:|:---------------------:|\n",
        "| action_space |        (가위,바위)         |       (가위,보)       |\n",
        "|     prob     | {‘가위’: 0.5, ‘바위’: 0.5} | {‘가위’:2/3,‘보’:1/3} |\n",
        "\n",
        "플레이어E는 처음 1000번의 대결까지는 랜덤으로 (가위,바위)중 하나를 내고,\n",
        "이후의 1000번의 대결에서는 데이터를 학습하여 수정한 확률을 사용한다고\n",
        "하자. 대결이후에 플레이어E가 (가위,바위)를 내는 확률이 어떻게 업데이트\n",
        "되어있는가?\n",
        "\n",
        "|       시점       |                           확률                           |          학습           |\n",
        "|:----------------------:|:----------------------:|:----------------------:|\n",
        "|  0\\<= t \\<1000   | E = {가위: 1/2, 바위: 1/2},<br> F = {가위: 2/3, 보: 1/3} |  E = False, F = False   |\n",
        "| 1000\\<= t \\<2000 |  E = {가위: ??, 바위: ??},<br> F = {가위: 2/3, 보: 1/3}  | E = **True**, F = False |\n",
        "\n",
        "(풀이)"
      ],
      "id": "8551960d-2de5-42c7-b99d-6657292c2615"
    },
    {
      "cell_type": "code",
      "execution_count": 710,
      "metadata": {
        "tags": []
      },
      "outputs": [],
      "source": [
        "E = RPSlrn(['가위','바위'])\n",
        "F = RPSlrn(['가위','보'])"
      ],
      "id": "a6611008-ed76-47ab-80b0-c1b1775466ef"
    },
    {
      "cell_type": "code",
      "execution_count": 711,
      "metadata": {
        "tags": []
      },
      "outputs": [],
      "source": [
        "F.prob = [2/3, 1/3] "
      ],
      "id": "ac8dc3f7-e663-4560-8823-08941b4b7273"
    },
    {
      "cell_type": "code",
      "execution_count": 712,
      "metadata": {
        "tags": []
      },
      "outputs": [],
      "source": [
        "E"
      ],
      "id": "a0ee40e1-b2c7-4792-b8ea-96eadec3b298"
    },
    {
      "cell_type": "code",
      "execution_count": 713,
      "metadata": {
        "tags": []
      },
      "outputs": [],
      "source": [
        "F"
      ],
      "id": "a555ab3a-d938-4733-bdfc-9678bbe0917e"
    },
    {
      "cell_type": "code",
      "execution_count": 714,
      "metadata": {
        "tags": []
      },
      "outputs": [],
      "source": [
        "for t in range(1000):\n",
        "    E*F \n",
        "for t in range(1000,2000):\n",
        "    E*F \n",
        "    E.learn()"
      ],
      "id": "c3b5b314-bd6e-4faa-bd64-0ae747c4a8b5"
    },
    {
      "cell_type": "code",
      "execution_count": 716,
      "metadata": {
        "tags": []
      },
      "outputs": [],
      "source": [
        "E"
      ],
      "id": "60d44415-3c92-4a7b-862a-c54d70835f73"
    },
    {
      "cell_type": "code",
      "execution_count": 717,
      "metadata": {
        "tags": []
      },
      "outputs": [],
      "source": [
        "F"
      ],
      "id": "8d713287-706e-4938-a84e-80bac69116ec"
    },
    {
      "cell_type": "markdown",
      "metadata": {},
      "source": [
        "> E가 가위를 냈을 경우 보상의 기대값은 `1*2/3 + 2*1/3 = 4/3` 이고 바위를\n",
        "> 냈을 경우 보상의 기대값은 `2*2/3 + 0*1/3 = 4/3` 이므로 가위를 내나\n",
        "> 바위를 내나 상관이 없다.\n",
        "\n",
        "`(11)` 플레이어E와 플레이어F의 대결기록을 초기화 한다. 이번에는\n",
        "플레이어E가 항상 (2/3)의 확률로 가위를 (1/3)의 확률로 바위를 낸다고\n",
        "가정한다.\n",
        "\n",
        "|              |         플레이어E          |        플레이어F        |\n",
        "|:------------:|:--------------------------:|:-----------------------:|\n",
        "| action_space |        (가위,바위)         |        (가위,보)        |\n",
        "|     prob     | {‘가위’: 2/3, ‘바위’: 1/3} | {‘가위’: 0.5,‘보’: 0.5} |\n",
        "\n",
        "플레이어F는 처음 1000번의 대결까지는 랜덤으로 (가위,바위)중 하나를 내고,\n",
        "이후의 1000번의 대결에서는 데이터를 학습하여 수정한 확률을 사용한다고\n",
        "하자. 대결이후에 플레이어F가 (가위,바위)를 내는 확률이 어떻게 업데이트\n",
        "되어있는가?\n",
        "\n",
        "|       시점       |                           확률                           |          학습           |\n",
        "|:----------------------:|:----------------------:|:----------------------:|\n",
        "|  0\\<= t \\<1000   | E = {가위: 2/3, 바위: 1/3},<br> F = {가위: 0.5, 보: 0.5} |  E = False, F = False   |\n",
        "| 1000\\<= t \\<2000 |  E = {가위: 2/3, 바위: 1/3},<br> F = {가위: ??, 보: ??}  | E = False, F = **True** |\n",
        "\n",
        "(풀이)"
      ],
      "id": "f51b7621-1795-4fcd-a267-c0c255af69f6"
    },
    {
      "cell_type": "code",
      "execution_count": 725,
      "metadata": {
        "tags": []
      },
      "outputs": [],
      "source": [
        "E = RPSlrn(['가위','바위'])\n",
        "F = RPSlrn(['가위','보'])"
      ],
      "id": "bd04c883-00a1-470a-ae25-7d6208166528"
    },
    {
      "cell_type": "code",
      "execution_count": 726,
      "metadata": {
        "tags": []
      },
      "outputs": [],
      "source": [
        "E.prob = [2/3, 1/3] "
      ],
      "id": "5d63ddc6-0c64-4cd3-a995-67f1905c7a9b"
    },
    {
      "cell_type": "code",
      "execution_count": 727,
      "metadata": {
        "tags": []
      },
      "outputs": [],
      "source": [
        "E"
      ],
      "id": "9a23233b-9f16-43c5-aeb1-de3e57fe54c2"
    },
    {
      "cell_type": "code",
      "execution_count": 728,
      "metadata": {
        "tags": []
      },
      "outputs": [],
      "source": [
        "F"
      ],
      "id": "f9b5a278-4fa8-478c-9a4a-179dd2229af9"
    },
    {
      "cell_type": "code",
      "execution_count": 729,
      "metadata": {
        "tags": []
      },
      "outputs": [],
      "source": [
        "for t in range(1000):\n",
        "    E*F \n",
        "for t in range(1000,2000):\n",
        "    E*F \n",
        "    F.learn()"
      ],
      "id": "7238dffd-39a0-45bd-a088-56d846e17272"
    },
    {
      "cell_type": "code",
      "execution_count": 730,
      "metadata": {
        "tags": []
      },
      "outputs": [],
      "source": [
        "E"
      ],
      "id": "cf10506c-ad63-45fa-8c9d-e197a0d66365"
    },
    {
      "cell_type": "code",
      "execution_count": 731,
      "metadata": {
        "tags": []
      },
      "outputs": [],
      "source": [
        "F"
      ],
      "id": "163cf0fc-831b-42fe-9893-26a43f042c8d"
    },
    {
      "cell_type": "markdown",
      "metadata": {},
      "source": [
        "> F가 가위를 냈을 경우 보상의 기대값은 `1*2/3 + 0*1/3 = 2/3` 이고 바위를\n",
        "> 냈을 경우 보상의 기대값은 `0*2/3 + 2*1/3 = 2/3` 이므로 가위를 내나\n",
        "> 바위를 내나 상관이 없다."
      ],
      "id": "6bf6d473-3c8f-4e90-97d1-d32de87e3b32"
    }
  ],
  "nbformat": 4,
  "nbformat_minor": 5,
  "metadata": {
    "kernelspec": {
      "name": "python3",
      "display_name": "Python 3 (ipykernel)",
      "language": "python"
    },
    "language_info": {
      "name": "python",
      "codemirror_mode": {
        "name": "ipython",
        "version": "3"
      },
      "file_extension": ".py",
      "mimetype": "text/x-python",
      "nbconvert_exporter": "python",
      "pygments_lexer": "ipython3",
      "version": "3.10.13"
    }
  }
}