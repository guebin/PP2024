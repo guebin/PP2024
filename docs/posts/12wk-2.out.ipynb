{
  "cells": [
    {
      "cell_type": "markdown",
      "metadata": {},
      "source": [
        "# 12wk-2: 클래스 (2)\n",
        "\n",
        "최규빈  \n",
        "2024-05-24\n",
        "\n",
        "<a href=\"https://colab.research.google.com/github/guebin/PP2024/blob/main/posts/12wk-2.ipynb\"><img src=\"https://colab.research.google.com/assets/colab-badge.svg\" style=\"text-align: left\"></a>\n",
        "\n",
        "# 1. 강의영상"
      ],
      "id": "6cfc9a91-e582-4458-a79e-013275b948b9"
    },
    {
      "cell_type": "code",
      "execution_count": 1,
      "metadata": {
        "tags": []
      },
      "outputs": [],
      "source": [
        "#{{<video https://youtu.be/playlist?list=PLQqh36zP38-wMY2MS-ZGKFXqVgbTeAzNQ&si=iojT6Aif9fwoOyUN >}}"
      ],
      "id": "d6120046-e1a7-4451-8d46-782041216691"
    },
    {
      "cell_type": "markdown",
      "metadata": {},
      "source": [
        "# 2. Imports"
      ],
      "id": "16288a14-95c4-41d4-a928-7fa83ad31207"
    },
    {
      "cell_type": "code",
      "execution_count": 540,
      "metadata": {
        "tags": []
      },
      "outputs": [],
      "source": [
        "import numpy as np\n",
        "import matplotlib.pyplot as plt\n",
        "import pandas as pd"
      ],
      "id": "67a44b79-1f46-4faa-af77-12fcbe7c4d7b"
    },
    {
      "cell_type": "markdown",
      "metadata": {},
      "source": [
        "# 3. 상속 맛보기\n",
        "\n",
        "## A. 모티브: 클래스를 수정은 불편해\n",
        "\n",
        "`-` 예시1: UpJump ver1"
      ],
      "id": "006315eb-f136-4328-857b-feaa47b34603"
    },
    {
      "cell_type": "code",
      "execution_count": 5,
      "metadata": {
        "tags": []
      },
      "outputs": [],
      "source": [
        "class UpJump:\n",
        "    def __init__(self):\n",
        "        self.value = 0\n",
        "    def up(self):\n",
        "        self.value = self.value + 1\n",
        "    def __repr__(self):\n",
        "        return str(self.value)"
      ],
      "id": "14eed480-ad9c-4b55-bab7-de78eafbf3ee"
    },
    {
      "cell_type": "code",
      "execution_count": 6,
      "metadata": {
        "tags": []
      },
      "outputs": [],
      "source": [
        "a = UpJump()\n",
        "a.up()"
      ],
      "id": "c27bf2db-effb-4748-8594-f4889a78f881"
    },
    {
      "cell_type": "code",
      "execution_count": 7,
      "metadata": {
        "outputId": "e6f33889-76ee-4371-82d9-51494677a611",
        "tags": []
      },
      "outputs": [],
      "source": [
        "a"
      ],
      "id": "a4fe4a60-cdfe-423d-a06c-eb0056eb8f28"
    },
    {
      "cell_type": "code",
      "execution_count": 8,
      "metadata": {
        "outputId": "49b737e2-489f-4f5a-dde2-28d64aa92f49",
        "tags": []
      },
      "outputs": [],
      "source": [
        "a.jump(2)"
      ],
      "id": "56d0b147-bb51-4919-85c4-28b1beb8748a"
    },
    {
      "cell_type": "markdown",
      "metadata": {},
      "source": [
        "-   점프는 아직 구현하지 않음.\n",
        "\n",
        "`-` 예시2: UpJump2"
      ],
      "id": "ac0f4404-89c4-468f-b9ee-cc367c1bd3ee"
    },
    {
      "cell_type": "code",
      "execution_count": 9,
      "metadata": {
        "tags": []
      },
      "outputs": [],
      "source": [
        "class UpJump2:\n",
        "    def __init__(self):\n",
        "        self.value = 0\n",
        "    def up(self):\n",
        "        self.value = self.value + 1\n",
        "    def jump(self,jump_size):\n",
        "        self.value = self.value + jump_size\n",
        "    def __repr__(self):\n",
        "        return str(self.value)"
      ],
      "id": "6ac20e34-98e2-425f-9949-4bcebebf9fbb"
    },
    {
      "cell_type": "code",
      "execution_count": 11,
      "metadata": {
        "tags": []
      },
      "outputs": [],
      "source": [
        "a = UpJump2()"
      ],
      "id": "7fa93ed6-f852-4f4a-b5a8-3969f20d33ce"
    },
    {
      "cell_type": "code",
      "execution_count": 12,
      "metadata": {
        "tags": []
      },
      "outputs": [],
      "source": [
        "a.up()"
      ],
      "id": "28827966-490f-4b81-ab34-fb250f058482"
    },
    {
      "cell_type": "code",
      "execution_count": 13,
      "metadata": {
        "tags": []
      },
      "outputs": [],
      "source": [
        "a.jump(2)"
      ],
      "id": "3d6a5dd7-c201-4634-bcc6-07719f69a6bf"
    },
    {
      "cell_type": "code",
      "execution_count": 14,
      "metadata": {
        "outputId": "65c64dec-b695-44c6-b64c-c6752d2296bd",
        "tags": []
      },
      "outputs": [],
      "source": [
        "a"
      ],
      "id": "fb807c00-3760-43a1-b953-cb9343a834ab"
    },
    {
      "cell_type": "markdown",
      "metadata": {},
      "source": [
        "`-` 예시3: UpJump2의 다른 구현"
      ],
      "id": "818a5fb3-1b28-4399-821d-7e19fad50d99"
    },
    {
      "cell_type": "code",
      "execution_count": 15,
      "metadata": {
        "tags": []
      },
      "outputs": [],
      "source": [
        "class UpJump2(UpJump):\n",
        "    def jump(self,jump_size):\n",
        "        self.value = self.value + jump_size"
      ],
      "id": "3c988d7e-d2fd-4a2a-b0a0-68182f780761"
    },
    {
      "cell_type": "code",
      "execution_count": 16,
      "metadata": {
        "tags": []
      },
      "outputs": [],
      "source": [
        "a = UpJump2()"
      ],
      "id": "4e0e09f3-975a-4511-91a5-a7fec7ad48be"
    },
    {
      "cell_type": "code",
      "execution_count": 17,
      "metadata": {
        "tags": []
      },
      "outputs": [],
      "source": [
        "a.up()"
      ],
      "id": "c039bca3-5ba6-4481-b153-1655e31cad20"
    },
    {
      "cell_type": "code",
      "execution_count": 18,
      "metadata": {
        "tags": []
      },
      "outputs": [],
      "source": [
        "a.jump(2)"
      ],
      "id": "2a589fa8-1ebc-4fcc-ab80-c6fd900fd3fa"
    },
    {
      "cell_type": "code",
      "execution_count": 19,
      "metadata": {
        "outputId": "169a59b6-8f68-48d3-a679-470cb1753988",
        "tags": []
      },
      "outputs": [],
      "source": [
        "a"
      ],
      "id": "8d38e4dd-298e-4074-be06-62c176ab7ea8"
    },
    {
      "cell_type": "markdown",
      "metadata": {},
      "source": [
        "## B. 꿀팁\n",
        "\n",
        "`-` 클래스를 조금 수정하고 싶을때, 아래와 같은 문법을 이용하면 편리하다.\n",
        "\n",
        "``` python\n",
        "class 새로운_클래스_이름(수정할_클래스_이름):\n",
        "    def 수정_및_추가할_함수이름(self,...):\n",
        "        ...\n",
        "```\n",
        "\n",
        "`-` 사용예시"
      ],
      "id": "2fc7933d-bfaf-45e6-81ba-ca9763b91a0a"
    },
    {
      "cell_type": "code",
      "execution_count": 26,
      "metadata": {
        "tags": []
      },
      "outputs": [],
      "source": [
        "class UpJump3(UpJump2):\n",
        "    def __repr__(self):\n",
        "        return f'현재의 이 인스턴스의 value는 {self.value}입니다.'"
      ],
      "id": "0f7792cb-8ea5-4725-bcbc-8a7f216f4f3c"
    },
    {
      "cell_type": "code",
      "execution_count": 27,
      "metadata": {
        "tags": []
      },
      "outputs": [],
      "source": [
        "a=UpJump3()"
      ],
      "id": "9a39ab48-47ab-46c7-9912-901acc91dfd7"
    },
    {
      "cell_type": "code",
      "execution_count": 28,
      "metadata": {
        "outputId": "a6ae384c-900c-4b49-cf6e-188829c1cd34",
        "tags": []
      },
      "outputs": [],
      "source": [
        "a"
      ],
      "id": "00c287b6-63bb-46c5-81ed-f1730bfd9285"
    },
    {
      "cell_type": "code",
      "execution_count": 29,
      "metadata": {
        "tags": []
      },
      "outputs": [],
      "source": [
        "a.jump(50)"
      ],
      "id": "db98850c-fef1-448b-955b-a156b0273690"
    },
    {
      "cell_type": "code",
      "execution_count": 30,
      "metadata": {
        "outputId": "bca335e6-b628-4790-aaeb-1e120e3fdeaa",
        "tags": []
      },
      "outputs": [],
      "source": [
        "a"
      ],
      "id": "111f4c26-779a-4d1f-8125-6070f8e85370"
    },
    {
      "cell_type": "markdown",
      "metadata": {},
      "source": [
        "# 4. `__add__`\n",
        "\n",
        "## A. 모티브\n",
        "\n",
        "`-` 모티브: 아래의 연산구조를 관찰하자."
      ],
      "id": "86578d96-89b0-4ffb-9c58-19aa052b35a8"
    },
    {
      "cell_type": "code",
      "execution_count": 31,
      "metadata": {
        "outputId": "f683738f-74f6-4ce9-e5e9-1d16379fcd7a",
        "tags": []
      },
      "outputs": [],
      "source": [
        "a=1\n",
        "b=2\n",
        "a+b"
      ],
      "id": "90af3ff7-0f9c-4fd9-b9f1-ebc6e4883ebe"
    },
    {
      "cell_type": "markdown",
      "metadata": {},
      "source": [
        "-   a라는 인스턴스와 b라는 인스턴스를 +라는 기호가 연결하고 있다.\n",
        "\n",
        "`-` 이번에는 아래의 연산구조를 관찰하자."
      ],
      "id": "01e07746-60ca-4daa-838e-a324bdbdd9cb"
    },
    {
      "cell_type": "code",
      "execution_count": 32,
      "metadata": {
        "outputId": "0370ccb6-9f5f-4775-bd06-476fcd92f579",
        "tags": []
      },
      "outputs": [],
      "source": [
        "a=[1,2]\n",
        "b=[3,4]\n",
        "a+b"
      ],
      "id": "db0b0727-fd84-46e1-be8a-ac0e93c26130"
    },
    {
      "cell_type": "markdown",
      "metadata": {},
      "source": [
        "-   a라는 인스턴스와 b라는 인스턴스를 +라는 기호가 연결하고 있다.\n",
        "\n",
        "`-` 동작이 다른 이유?\n",
        "\n",
        "-   클래스를 배우기 이전: int자료형의 `+`는 “정수의 덧셈”을 의미하고\n",
        "    list자료형의 `+`는 “자료의 추가”를 의미한다.\n",
        "-   클래스를 배운 이후: 아마 클래스는 `+`라는 연산을 정의하는 숨겨진\n",
        "    메소드가 있을것이다. (print가 그랬듯이) 그리고 int클래스에서는 그\n",
        "    메소드를 “정수의 덧셈”이 되도록 정의하였고 list클래스에서는 그\n",
        "    메소드를 “자료의 추가”를 의미하도록 정의하였다.\n",
        "\n",
        "`-` 아래의 결과를 관찰"
      ],
      "id": "0597586a-3d2e-427c-9394-ff9605ff05a9"
    },
    {
      "cell_type": "code",
      "execution_count": 33,
      "metadata": {
        "tags": []
      },
      "outputs": [],
      "source": [
        "a=1\n",
        "b=2"
      ],
      "id": "224cd1d9-8913-4d1a-8b27-ad0c9bbfd5fb"
    },
    {
      "cell_type": "code",
      "execution_count": 34,
      "metadata": {
        "outputId": "33cdefcb-d2db-411f-ff4a-5d062d9d00d2",
        "tags": []
      },
      "outputs": [],
      "source": [
        "a.__add__(b)"
      ],
      "id": "55a0c784-642a-4429-8474-54d9e8b99c16"
    },
    {
      "cell_type": "code",
      "execution_count": 35,
      "metadata": {
        "outputId": "b7e73226-9fb6-4064-c60b-00773281d63a",
        "tags": []
      },
      "outputs": [],
      "source": [
        "b.__add__(a)"
      ],
      "id": "6813df5c-d980-4cc7-bb76-f0a900dcd112"
    },
    {
      "cell_type": "code",
      "execution_count": 36,
      "metadata": {
        "tags": []
      },
      "outputs": [],
      "source": [
        "a=[1,2]\n",
        "b=[3,4]"
      ],
      "id": "359c5c38-c92d-4be8-91ff-582ba24afbf4"
    },
    {
      "cell_type": "code",
      "execution_count": 37,
      "metadata": {
        "outputId": "abbd98fc-0543-4292-abac-91c0cfa0b728",
        "tags": []
      },
      "outputs": [],
      "source": [
        "a.__add__(b) # a+b"
      ],
      "id": "d0277906-bd45-4c1c-8634-8fc99b976e6d"
    },
    {
      "cell_type": "code",
      "execution_count": 38,
      "metadata": {
        "outputId": "2b73edd6-c72a-432f-edfe-954f3767b3e7",
        "tags": []
      },
      "outputs": [],
      "source": [
        "b.__add__(a) # b+a"
      ],
      "id": "d90e0bb5-e7da-4252-bcad-4664621b54f8"
    },
    {
      "cell_type": "markdown",
      "metadata": {},
      "source": [
        "`-` 확인: a+b는 사실 내부적으로 `a.__add__(b)`의 축약구문이다.\n",
        "\n",
        "`-` 추측: 따라서 만약 `a.__add__(b)`의 기능을 바꾸면 (재정의하면) a+b의\n",
        "기능도 바뀔 것이다.\n",
        "\n",
        "## B. Student: `__add__`의 사용\n",
        "\n",
        "`-` Student 클래스 선언"
      ],
      "id": "64e1edc1-8fa4-4f6e-85d9-0cd384cc9317"
    },
    {
      "cell_type": "code",
      "execution_count": 65,
      "metadata": {
        "tags": []
      },
      "outputs": [],
      "source": [
        "class StudentWrong:\n",
        "    def __init__(self, age=20.0, semester=0):\n",
        "        self.age = age\n",
        "        self.semester = semester\n",
        "        print(f\"입학을 축하합니다. 당신의 나이는 {self.age}이고 현재 학기는 {self.semester}학기 입니다.\")\n",
        "    def __add__(self,registration_status):\n",
        "        if registration_status=='휴학':\n",
        "            self.age=self.age+0.5\n",
        "        elif registration_status=='등록':\n",
        "            self.age=self.age+0.5\n",
        "            self.semester= self.semester+1\n",
        "    def __repr__(self):\n",
        "        text = f\"\"\"나이: {self.age}\\n학기: {self.semester}\"\"\"\n",
        "        return text"
      ],
      "id": "98f1f060-dd89-4eb0-8210-a5c5f607f95e"
    },
    {
      "cell_type": "markdown",
      "metadata": {},
      "source": [
        "`-` 사용"
      ],
      "id": "77e7ef6b-3b57-4656-9f77-ec3f17052989"
    },
    {
      "cell_type": "code",
      "execution_count": 72,
      "metadata": {
        "outputId": "f2d233ba-63da-4aee-a3a6-61ccf167ea3e",
        "tags": []
      },
      "outputs": [
        {
          "output_type": "stream",
          "name": "stdout",
          "text": [
            "입학을 축하합니다. 당신의 나이는 20.0이고 현재 학기는 0학기 입니다."
          ]
        }
      ],
      "source": [
        "boram = StudentWrong()"
      ],
      "id": "780278dd-9660-4d98-bd51-882619b54365"
    },
    {
      "cell_type": "code",
      "execution_count": 73,
      "metadata": {
        "outputId": "8b6097f8-a673-48bd-9933-5b095ae21eed",
        "tags": []
      },
      "outputs": [],
      "source": [
        "boram"
      ],
      "id": "70352cc4-331b-4b92-8a8d-728f3c3eca72"
    },
    {
      "cell_type": "code",
      "execution_count": 74,
      "metadata": {
        "outputId": "851951fa-2fbc-4392-9c93-5ce10f2d43db",
        "tags": []
      },
      "outputs": [],
      "source": [
        "boram + '등록'\n",
        "boram"
      ],
      "id": "f657eaca-5a3c-4d87-b481-439bd18502a8"
    },
    {
      "cell_type": "code",
      "execution_count": 75,
      "metadata": {
        "outputId": "af35f0bf-a47c-4295-ea3d-eca5395176cb",
        "tags": []
      },
      "outputs": [],
      "source": [
        "boram + '휴학'\n",
        "boram"
      ],
      "id": "c2664aae-340d-41fc-b838-d0e4350e9def"
    },
    {
      "cell_type": "markdown",
      "metadata": {},
      "source": [
        "`-` 잘못된 사용"
      ],
      "id": "9119984d-6f22-49fd-8eee-eec6bcf08b27"
    },
    {
      "cell_type": "code",
      "execution_count": 78,
      "metadata": {
        "outputId": "6c9ab8dc-56e3-41c9-85db-2858a8c4f668",
        "tags": []
      },
      "outputs": [
        {
          "output_type": "stream",
          "name": "stdout",
          "text": [
            "입학을 축하합니다. 당신의 나이는 20.0이고 현재 학기는 0학기 입니다."
          ]
        }
      ],
      "source": [
        "boram = StudentWrong()"
      ],
      "id": "661bf507-994b-4027-98be-f9b293578fb9"
    },
    {
      "cell_type": "code",
      "execution_count": 79,
      "metadata": {
        "outputId": "4d974d35-3f51-4047-b60b-d2627019ce14",
        "tags": []
      },
      "outputs": [],
      "source": [
        "boram + '등록'+ '휴학' + '등록' + '휴학'"
      ],
      "id": "cdac5393-41c6-48d1-abfc-1703bee7205a"
    },
    {
      "cell_type": "markdown",
      "metadata": {},
      "source": [
        "-   에러가?\n",
        "\n",
        "`-` 올바른 코드"
      ],
      "id": "f0bfa351-412d-4775-854c-714655cab6b3"
    },
    {
      "cell_type": "code",
      "execution_count": 80,
      "metadata": {
        "tags": []
      },
      "outputs": [],
      "source": [
        "class Student:\n",
        "    def __init__(self, age=20.0, semester=0):\n",
        "        self.age = age\n",
        "        self.semester = semester\n",
        "        print(\"입학을 축하합니다. 당신의 나이는 {}이고 현재 학기는 {}학기 입니다.\".format(self.age,self.semester))\n",
        "    def __add__(self,registration_status):\n",
        "        if registration_status=='휴학':\n",
        "            self.age = self.age+0.5\n",
        "        elif registration_status=='등록':\n",
        "            self.age = self.age+0.5\n",
        "            self.semester = self.semester+1\n",
        "        return self\n",
        "    def _repr_html_(self):\n",
        "        html_str = \"\"\"\n",
        "        나이: {} <br/>\n",
        "        학기: {} <br/>\n",
        "        \"\"\"\n",
        "        return html_str.format(self.age,self.semester)"
      ],
      "id": "d0cecedd-c1f5-4296-8beb-12021d1e2501"
    },
    {
      "cell_type": "code",
      "execution_count": 81,
      "metadata": {
        "outputId": "35487bb6-74ab-4ed1-90f8-8284d78efc31",
        "tags": []
      },
      "outputs": [
        {
          "output_type": "stream",
          "name": "stdout",
          "text": [
            "입학을 축하합니다. 당신의 나이는 20.0이고 현재 학기는 0학기 입니다."
          ]
        }
      ],
      "source": [
        "boram = Student()"
      ],
      "id": "73ee8ece-e651-4f2a-8672-882b254e1019"
    },
    {
      "cell_type": "code",
      "execution_count": 82,
      "metadata": {
        "outputId": "56e10a94-7997-42ea-d692-29f65d43dcfc",
        "tags": []
      },
      "outputs": [],
      "source": [
        "boram + \"등록\""
      ],
      "id": "da048eed-364f-4619-807a-d7f3250c5014"
    },
    {
      "cell_type": "markdown",
      "metadata": {},
      "source": [
        "## C. Student의 다른구현1"
      ],
      "id": "c8a480d6-fc68-4856-a818-68967f7d7398"
    },
    {
      "cell_type": "code",
      "execution_count": 83,
      "metadata": {
        "tags": []
      },
      "outputs": [],
      "source": [
        "class Student(StudentWrong):\n",
        "    def __add__(self,registration_status):\n",
        "        if registration_status=='휴학':\n",
        "            self.age = self.age+0.5\n",
        "        elif registration_status=='등록':\n",
        "            self.age = self.age+0.5\n",
        "            self.semester = self.semester+1\n",
        "        return self"
      ],
      "id": "3773f0b9-b576-4428-b19e-f80bf2858150"
    },
    {
      "cell_type": "code",
      "execution_count": 84,
      "metadata": {
        "outputId": "bff9c68c-0860-490a-c861-6770db743f98",
        "tags": []
      },
      "outputs": [
        {
          "output_type": "stream",
          "name": "stdout",
          "text": [
            "입학을 축하합니다. 당신의 나이는 20.0이고 현재 학기는 0학기 입니다."
          ]
        }
      ],
      "source": [
        "boram = Student_Ver2()"
      ],
      "id": "4bac08b6-5076-43e3-b095-f9509d121c5d"
    },
    {
      "cell_type": "code",
      "execution_count": 85,
      "metadata": {
        "outputId": "ebecb2c3-31cb-47e9-f324-bb9d41534ccd",
        "tags": []
      },
      "outputs": [],
      "source": [
        "boram + '등록'+ '휴학' + '등록' + '휴학'"
      ],
      "id": "5097041e-a1ed-44e0-b02d-e56bdb394758"
    },
    {
      "cell_type": "markdown",
      "metadata": {},
      "source": [
        "## D. Student의 다른구현2\n",
        "\n",
        "-   요거까지는 지금 몰라도 됩니다"
      ],
      "id": "57f88e3d-2e31-4a9f-a2d8-cbd9816b2ad4"
    },
    {
      "cell_type": "code",
      "execution_count": 88,
      "metadata": {
        "tags": []
      },
      "outputs": [],
      "source": [
        "class Student(StudentWrong):\n",
        "    def __add__(self,registration_status):\n",
        "        super().__add__(registration_status)\n",
        "        return self"
      ],
      "id": "bbd38e76-c4ea-42be-bddb-811aa9cf86bd"
    },
    {
      "cell_type": "code",
      "execution_count": 89,
      "metadata": {
        "outputId": "88a386f5-6d05-4ca8-b69a-6d3668eede4c",
        "tags": []
      },
      "outputs": [
        {
          "output_type": "stream",
          "name": "stdout",
          "text": [
            "입학을 축하합니다. 당신의 나이는 20.0이고 현재 학기는 0학기 입니다."
          ]
        }
      ],
      "source": [
        "boram = Student()"
      ],
      "id": "16a10363-c1c9-460e-bec3-a6e55a85dc96"
    },
    {
      "cell_type": "code",
      "execution_count": 90,
      "metadata": {
        "outputId": "456dd2f9-f4b6-4b60-8be4-c8544b452711",
        "tags": []
      },
      "outputs": [],
      "source": [
        "boram + '등록' + '휴학' + '등록' + '휴학'"
      ],
      "id": "401af266-3ff9-4399-b26f-6d57700b20a2"
    },
    {
      "cell_type": "markdown",
      "metadata": {},
      "source": [
        "> 파이썬의 비밀6: `a+b`는 사실 `a.__add__(b)`의 축약형이다.\n",
        "\n",
        "# 5. `__getitem__`\n",
        "\n",
        "## A. 모티브"
      ],
      "id": "4a59d607-91b0-4e9d-aa6a-2d3ae2503f40"
    },
    {
      "cell_type": "code",
      "execution_count": 91,
      "metadata": {
        "tags": []
      },
      "outputs": [],
      "source": [
        "a=[11,22,32]"
      ],
      "id": "ba8ed8e4-4f32-4da6-a1b2-793797274099"
    },
    {
      "cell_type": "code",
      "execution_count": 92,
      "metadata": {
        "outputId": "bbcb44f5-ac3c-4e62-cb3c-26bf6748b72f",
        "tags": []
      },
      "outputs": [],
      "source": [
        "a[0]"
      ],
      "id": "81d4b262-637d-4580-b3d7-aaa8af006c70"
    },
    {
      "cell_type": "markdown",
      "metadata": {},
      "source": [
        "-   이거 좋아보인다?"
      ],
      "id": "930de303-2edc-43da-9d67-7bfcf853b407"
    },
    {
      "cell_type": "code",
      "execution_count": 93,
      "metadata": {
        "outputId": "ca3a5790-3fbd-4cb0-baea-9b90d104446b",
        "tags": []
      },
      "outputs": [],
      "source": [
        "a.__getitem__(0) # a[0]"
      ],
      "id": "e48da4e7-b594-49dc-a2aa-78964898b853"
    },
    {
      "cell_type": "markdown",
      "metadata": {},
      "source": [
        "-   이런거였어?\n",
        "\n",
        "## B. RPS2: `__getitem__`의 사용"
      ],
      "id": "292b2ebe-c81f-49cc-91e3-80084ec42be2"
    },
    {
      "cell_type": "code",
      "execution_count": 104,
      "metadata": {
        "tags": []
      },
      "outputs": [],
      "source": [
        "class RPSBase:\n",
        "    def __init__(self,action_space):\n",
        "        self.action_space = action_space \n",
        "        self.actions = []\n",
        "    def act(self):\n",
        "        self.actions.append(random.choice(self.action_space))\n",
        "        return self.actions[-1]\n",
        "    def __repr__(self):\n",
        "        text = f\"낼 수 있는 패: {self.action_space}\\n기록: {self.actions}\"\n",
        "        return text"
      ],
      "id": "34624c5e-54ae-4328-ad6b-a19a1bf4d670"
    },
    {
      "cell_type": "code",
      "execution_count": 109,
      "metadata": {
        "tags": []
      },
      "outputs": [],
      "source": [
        "a = RPSBase(['가위','바위','보'])"
      ],
      "id": "e5b75257-5a5d-4537-85b5-3bd4d7374079"
    },
    {
      "cell_type": "code",
      "execution_count": 110,
      "metadata": {
        "tags": []
      },
      "outputs": [],
      "source": [
        "a.act()\n",
        "a.act()"
      ],
      "id": "381dc3e0-b6ed-4653-88a3-1e2fb9e6f98e"
    },
    {
      "cell_type": "code",
      "execution_count": 111,
      "metadata": {
        "outputId": "fd71ccba-1dd4-41f1-913c-4f3343d1f3a0",
        "tags": []
      },
      "outputs": [],
      "source": [
        "a.actions"
      ],
      "id": "c48f401a-5290-4f4e-b85c-bef3545c788d"
    },
    {
      "cell_type": "code",
      "execution_count": 112,
      "metadata": {
        "outputId": "1edb090c-e4db-40c5-8272-9600dedff28c",
        "tags": []
      },
      "outputs": [],
      "source": [
        "a[0], a[1]"
      ],
      "id": "267f65f5-087e-4aef-bc14-49ff13bc9267"
    },
    {
      "cell_type": "markdown",
      "metadata": {},
      "source": [
        "-   결과가 ‘가위’, ’바위’로 나오면 좋겠다.. 물론 지금은 불가능해"
      ],
      "id": "cba5508c-3639-449c-9bbf-9900f3f670bd"
    },
    {
      "cell_type": "code",
      "execution_count": 114,
      "metadata": {
        "tags": []
      },
      "outputs": [],
      "source": [
        "class RPS2(RPSBase):\n",
        "    def __getitem__(self,item):\n",
        "        return self.actions[item]"
      ],
      "id": "2968f886-5231-4d75-a3d0-ca83960c8f1c"
    },
    {
      "cell_type": "code",
      "execution_count": 115,
      "metadata": {
        "tags": []
      },
      "outputs": [],
      "source": [
        "a = RPS2(['가위','바위','보'])"
      ],
      "id": "94c0608b-308b-4cfb-b313-cab064b3cb71"
    },
    {
      "cell_type": "code",
      "execution_count": 116,
      "metadata": {
        "tags": []
      },
      "outputs": [],
      "source": [
        "a.act()\n",
        "a.act()\n",
        "a.act()"
      ],
      "id": "b0b0be1d-35f4-4423-b912-c0b56088fdc4"
    },
    {
      "cell_type": "code",
      "execution_count": 117,
      "metadata": {
        "outputId": "67ee5527-632e-4f85-9ca6-06882b074ea5",
        "tags": []
      },
      "outputs": [],
      "source": [
        "a"
      ],
      "id": "7d70a5eb-5a25-4478-bc36-7a819bc5d8a4"
    },
    {
      "cell_type": "code",
      "execution_count": 118,
      "metadata": {
        "outputId": "e312ace1-4146-4a6c-e437-add71edb0db1",
        "tags": []
      },
      "outputs": [],
      "source": [
        "a[0]"
      ],
      "id": "0976df8c-c84e-43b5-a1d4-b52a1bd7d66f"
    },
    {
      "cell_type": "code",
      "execution_count": 120,
      "metadata": {
        "outputId": "1d4ee1b7-5617-4eda-ed25-c081a527b65f",
        "tags": []
      },
      "outputs": [],
      "source": [
        "a[:2] # 이것도 열림!"
      ],
      "id": "5a797bd0-5595-433b-8b04-f215a91f4ddb"
    },
    {
      "cell_type": "markdown",
      "metadata": {},
      "source": [
        "> 파이썬의 비밀7: `a[0]`는 `a.__getitem__(0)`의 축약형이다.\n",
        "\n",
        "# 6. `__setitem__`\n",
        "\n",
        "## A. 모티브"
      ],
      "id": "91ab9389-a789-4fdb-9947-33a523086222"
    },
    {
      "cell_type": "code",
      "execution_count": 125,
      "metadata": {
        "outputId": "b2b5c11d-efcf-426a-ab94-b2db79f7b09d",
        "tags": []
      },
      "outputs": [],
      "source": [
        "a = RPS2(['가위','바위'])\n",
        "a"
      ],
      "id": "65860160-223e-423a-83bc-79c1d1d9064e"
    },
    {
      "cell_type": "code",
      "execution_count": 126,
      "metadata": {
        "outputId": "c06a3681-90a0-4c1d-9184-274d00d489e5",
        "tags": []
      },
      "outputs": [],
      "source": [
        "a.act()\n",
        "a.act()\n",
        "a"
      ],
      "id": "e6177f97-914d-48ab-933a-deeba06aeec4"
    },
    {
      "cell_type": "code",
      "execution_count": 127,
      "metadata": {
        "outputId": "b8b6b0ba-2dbe-4303-d2fe-5df3e19a42bd",
        "tags": []
      },
      "outputs": [],
      "source": [
        "a[0]"
      ],
      "id": "b332884d-c1bd-4675-b7ff-d1d0e1fad99e"
    },
    {
      "cell_type": "code",
      "execution_count": 129,
      "metadata": {
        "outputId": "4a17ebf8-29d0-455b-8794-54521d0f65d1",
        "tags": []
      },
      "outputs": [],
      "source": [
        "a[0] = '보'"
      ],
      "id": "b5bf1829-a30c-4ab5-9c38-708df5ca68ab"
    },
    {
      "cell_type": "markdown",
      "metadata": {},
      "source": [
        "-   여기서 이 문법이 가능하면 결과 조작임.\n",
        "-   하지만 경우에 따라서는 이런 문법이 필요하기도 하다.\n",
        "\n",
        "## B. RPS3: `__setitem__` 사용\n",
        "\n",
        "`-` 관찰"
      ],
      "id": "a40a8c84-df73-4a3b-adf5-11a858bc075b"
    },
    {
      "cell_type": "code",
      "execution_count": 207,
      "metadata": {
        "tags": []
      },
      "outputs": [],
      "source": [
        "lst = [1,2,3]"
      ],
      "id": "58274fd9-0069-4f74-854c-d2dfe58fc769"
    },
    {
      "cell_type": "code",
      "execution_count": 208,
      "metadata": {
        "tags": []
      },
      "outputs": [],
      "source": [
        "lst.__setitem__(0,11)"
      ],
      "id": "239f9c22-7f33-47ea-a536-2ba315be0237"
    },
    {
      "cell_type": "code",
      "execution_count": 209,
      "metadata": {
        "outputId": "87aca1a8-b570-439e-cdb8-60b0ede8b646",
        "tags": []
      },
      "outputs": [],
      "source": [
        "lst"
      ],
      "id": "9b2d6975-5b13-49e1-b78a-ce6bfff45483"
    },
    {
      "cell_type": "markdown",
      "metadata": {},
      "source": [
        "`-` RPS예제"
      ],
      "id": "73899420-24d9-4a22-92d1-6941ddfd59c1"
    },
    {
      "cell_type": "code",
      "execution_count": 218,
      "metadata": {
        "tags": []
      },
      "outputs": [],
      "source": [
        "class RPS3(RPS2):\n",
        "    def __setitem__(self,index,val):\n",
        "        self.actions[index] = val"
      ],
      "id": "9ae27ee7-b408-498d-b1df-b0d198f7d3e5"
    },
    {
      "cell_type": "code",
      "execution_count": 219,
      "metadata": {
        "tags": []
      },
      "outputs": [],
      "source": [
        "a=RPS3(['가위','바위','보'])"
      ],
      "id": "1507b172-c6e5-47aa-aa81-2cca3635c9a2"
    },
    {
      "cell_type": "code",
      "execution_count": 220,
      "metadata": {
        "tags": []
      },
      "outputs": [],
      "source": [
        "a.act()"
      ],
      "id": "7d1aba6d-a036-4818-9098-b0bed2f1240a"
    },
    {
      "cell_type": "code",
      "execution_count": 221,
      "metadata": {
        "outputId": "ac09ca6b-949c-4f20-b0ce-6a5c286d41a9",
        "tags": []
      },
      "outputs": [],
      "source": [
        "a"
      ],
      "id": "3d6f1ec0-b919-452d-9b2b-067ebde5aa67"
    },
    {
      "cell_type": "code",
      "execution_count": 222,
      "metadata": {
        "tags": []
      },
      "outputs": [],
      "source": [
        "a[0] = '가위'"
      ],
      "id": "e1863e15-fb11-46af-a049-49d45c12f199"
    },
    {
      "cell_type": "code",
      "execution_count": 223,
      "metadata": {
        "outputId": "9cd5eeb5-3859-4c8a-8b24-b7ee28002020",
        "tags": []
      },
      "outputs": [],
      "source": [
        "a"
      ],
      "id": "717d0794-8b5f-40dc-832c-f2e0cd20c982"
    },
    {
      "cell_type": "markdown",
      "metadata": {},
      "source": [
        "> 파이썬의 비밀8: `a[0]=11`는 `a.__setitem__(0,11)`의 축약형이다.\n",
        "\n",
        "# 7. `__len__`\n",
        "\n",
        "## A. 모티브"
      ],
      "id": "a96d7801-64ee-42d8-b343-7a6138beef3a"
    },
    {
      "cell_type": "code",
      "execution_count": 224,
      "metadata": {
        "outputId": "cd4100df-4cd1-4392-bcf7-f1cde261bb8e",
        "tags": []
      },
      "outputs": [],
      "source": [
        "a= RPS3(['가위','바위','보'])\n",
        "a"
      ],
      "id": "d96f6cce-03d0-46a2-a561-0a943dd2de75"
    },
    {
      "cell_type": "code",
      "execution_count": 225,
      "metadata": {
        "tags": []
      },
      "outputs": [],
      "source": [
        "a.act()\n",
        "a.act()\n",
        "a.act()"
      ],
      "id": "ede3eb61-4029-42b5-b282-c7f48e263eb6"
    },
    {
      "cell_type": "code",
      "execution_count": 226,
      "metadata": {
        "outputId": "30084e9c-f8e5-456e-f23d-46e4fb859175",
        "tags": []
      },
      "outputs": [],
      "source": [
        "a"
      ],
      "id": "9b43c1b4-9971-488d-9869-bc37951ffb2e"
    },
    {
      "cell_type": "code",
      "execution_count": 227,
      "metadata": {
        "outputId": "a46aede8-c7ee-4c95-c41b-f8147c05d864",
        "tags": []
      },
      "outputs": [],
      "source": [
        "a[0],a[1],a[2]"
      ],
      "id": "b7acb72a-ded8-43b7-9724-98579c8af2ce"
    },
    {
      "cell_type": "code",
      "execution_count": 228,
      "metadata": {
        "outputId": "ff158f10-c7a1-40cb-98be-31f397e291a3",
        "tags": []
      },
      "outputs": [],
      "source": [
        "len(a)"
      ],
      "id": "63772ef0-c14c-4589-a4e5-7ddad57e0036"
    },
    {
      "cell_type": "markdown",
      "metadata": {},
      "source": [
        "## B. RPS4: `__len__` 의 사용"
      ],
      "id": "bf547a50-c4c0-44c4-8439-dcf371fed8d4"
    },
    {
      "cell_type": "code",
      "execution_count": 440,
      "metadata": {
        "tags": []
      },
      "outputs": [],
      "source": [
        "class RPS4(RPS3):\n",
        "    def __len__(self):\n",
        "        return len(self.actions)"
      ],
      "id": "2dc8c832-27ea-4620-aeca-bb06faa74f2f"
    },
    {
      "cell_type": "code",
      "execution_count": 441,
      "metadata": {
        "outputId": "da8187d7-bbaa-4a03-b3fc-da571ea3aae0",
        "tags": []
      },
      "outputs": [],
      "source": [
        "a = RPS4(['가위','바위','보'])\n",
        "a"
      ],
      "id": "6baf501d-ac3e-4edb-913b-fb7863359f9e"
    },
    {
      "cell_type": "code",
      "execution_count": 442,
      "metadata": {
        "tags": []
      },
      "outputs": [],
      "source": [
        "a.act()\n",
        "a.act()\n",
        "a.act()\n",
        "a.act()"
      ],
      "id": "02fb5a37-71e2-49c7-8a4c-33b257206f14"
    },
    {
      "cell_type": "code",
      "execution_count": 443,
      "metadata": {
        "outputId": "41ec084b-3760-4914-ede0-2274012e0337",
        "tags": []
      },
      "outputs": [],
      "source": [
        "a"
      ],
      "id": "8dac7718-bbf1-4c13-9215-9998bcab3297"
    },
    {
      "cell_type": "code",
      "execution_count": 444,
      "metadata": {
        "outputId": "f454e9a8-2f63-4739-a094-b65892c2d9c6",
        "tags": []
      },
      "outputs": [],
      "source": [
        "a.__len__() # len(a.actions)"
      ],
      "id": "5f421ae6-4645-4a7e-b0a9-edf6c833a479"
    },
    {
      "cell_type": "code",
      "execution_count": 445,
      "metadata": {
        "outputId": "931361d2-a703-4c13-bb8c-0df34b2d0bfe",
        "tags": []
      },
      "outputs": [],
      "source": [
        "len(a) # a.__len__()"
      ],
      "id": "6e134d72-f71f-431b-afa1-65b6a35b10ef"
    },
    {
      "cell_type": "markdown",
      "metadata": {},
      "source": [
        "> 파이썬의 비밀9: `a.__len__()`는 `len(a)`의 축약형이다."
      ],
      "id": "f892006b-a490-4d1e-93cc-886ac6877314"
    },
    {
      "cell_type": "code",
      "execution_count": 455,
      "metadata": {
        "tags": []
      },
      "outputs": [],
      "source": [
        "a"
      ],
      "id": "a49b21d1-a793-4cce-ba12-8d2659fde8c9"
    },
    {
      "cell_type": "markdown",
      "metadata": {},
      "source": [
        "# 8. `__eq__`\n",
        "\n",
        "## A. 모티브"
      ],
      "id": "d525f7cb-cb5a-4ee3-a972-658505056680"
    },
    {
      "cell_type": "code",
      "execution_count": 334,
      "metadata": {
        "tags": []
      },
      "outputs": [],
      "source": [
        "a = RPS4(['가위','바위','보'])\n",
        "b = RPS4(['가위','바위','보'])"
      ],
      "id": "a3b89c4c-5ac7-44ac-b325-88eef3b52635"
    },
    {
      "cell_type": "code",
      "execution_count": 335,
      "metadata": {
        "tags": []
      },
      "outputs": [],
      "source": [
        "a.act()\n",
        "b.act()"
      ],
      "id": "a1d64174-fd89-4372-8e84-4380e18688a0"
    },
    {
      "cell_type": "code",
      "execution_count": 336,
      "metadata": {
        "outputId": "6e911576-da01-431d-a16d-2d64bf4736c5",
        "tags": []
      },
      "outputs": [],
      "source": [
        "a,b"
      ],
      "id": "832721fa-05cb-4d70-b23a-ac5f61557e66"
    },
    {
      "cell_type": "code",
      "execution_count": 337,
      "metadata": {
        "tags": []
      },
      "outputs": [],
      "source": [
        "a[0] = \"가위\" # 결과조작"
      ],
      "id": "a1f80d2a-f04a-4f29-beab-ffaa061af2a0"
    },
    {
      "cell_type": "code",
      "execution_count": 338,
      "metadata": {
        "tags": []
      },
      "outputs": [],
      "source": [
        "b[0] = \"가위\" # 결과조작"
      ],
      "id": "cca07429-fd69-4587-b0dd-2df8875ece5b"
    },
    {
      "cell_type": "code",
      "execution_count": 339,
      "metadata": {
        "tags": []
      },
      "outputs": [],
      "source": [
        "a,b"
      ],
      "id": "77c62836-01fe-4a4e-98c2-0bee3eba43f4"
    },
    {
      "cell_type": "code",
      "execution_count": 340,
      "metadata": {
        "outputId": "5f956b15-e5a1-48a2-8e84-5852c47a5642",
        "tags": []
      },
      "outputs": [],
      "source": [
        "a == b"
      ],
      "id": "ec4d8d08-9f84-4b4a-ae42-1d3ab2125aff"
    },
    {
      "cell_type": "markdown",
      "metadata": {},
      "source": [
        "-   `가위 == 가위` 이면 True가 나오면 좋겠구만.."
      ],
      "id": "b98e465a-19cf-4b1b-8a10-2d23501004db"
    },
    {
      "cell_type": "code",
      "execution_count": 341,
      "metadata": {
        "outputId": "4f42d8ee-45bd-47f9-d414-2c588ed98bc4",
        "tags": []
      },
      "outputs": [],
      "source": [
        "a[-1] == b[-1]"
      ],
      "id": "095b4c76-2fad-47ac-94cb-20029ad249df"
    },
    {
      "cell_type": "markdown",
      "metadata": {},
      "source": [
        "-   이렇게 하면 되긴하지..\n",
        "\n",
        "## B. RPS5: `__eq__` 의 사용\n",
        "\n",
        "`-` 관찰\n",
        "\n",
        "a = 1"
      ],
      "id": "a8f335a0-70f4-43e9-8689-7b933a1cad86"
    },
    {
      "cell_type": "code",
      "execution_count": 343,
      "metadata": {
        "outputId": "4d753fee-b3bf-43b3-c5f3-3eeead3b2996",
        "tags": []
      },
      "outputs": [],
      "source": [
        "a.__eq__(1) # a == 1"
      ],
      "id": "adfc1f14-4cff-484c-8d41-ed48bcc6ad6a"
    },
    {
      "cell_type": "code",
      "execution_count": 344,
      "metadata": {
        "outputId": "00d272ec-ab77-4af3-e84d-da36f9c56407",
        "tags": []
      },
      "outputs": [],
      "source": [
        "a.__eq__(2) # a == 2"
      ],
      "id": "cb5c9a69-9017-42cc-bac6-03a63ae95eae"
    },
    {
      "cell_type": "markdown",
      "metadata": {},
      "source": [
        "`-` 구현"
      ],
      "id": "7daa2492-c535-4bed-ae04-c210fe05b0fc"
    },
    {
      "cell_type": "code",
      "execution_count": 345,
      "metadata": {
        "tags": []
      },
      "outputs": [],
      "source": [
        "class RPS5(RPS4):\n",
        "    def __eq__(self,other):\n",
        "        return self[-1] == other[-1]"
      ],
      "id": "28db0336-2ada-4100-a709-1252740135cb"
    },
    {
      "cell_type": "code",
      "execution_count": 346,
      "metadata": {
        "tags": []
      },
      "outputs": [],
      "source": [
        "a = RPS5(['가위','바위'])\n",
        "b = RPS5(['가위','바위'])"
      ],
      "id": "5ec510e0-b558-4542-a143-f0636805fca4"
    },
    {
      "cell_type": "markdown",
      "metadata": {},
      "source": [
        "`-` 1회 대결"
      ],
      "id": "f8536d79-838c-45a7-972a-fcdffb9a29f8"
    },
    {
      "cell_type": "code",
      "execution_count": 347,
      "metadata": {
        "tags": []
      },
      "outputs": [],
      "source": [
        "a.act()\n",
        "b.act()"
      ],
      "id": "788d0d0a-064e-4232-850e-d83479d28dee"
    },
    {
      "cell_type": "code",
      "execution_count": 348,
      "metadata": {
        "outputId": "aa624280-d773-434c-ab84-5657d7f466ca",
        "tags": []
      },
      "outputs": [],
      "source": [
        "a"
      ],
      "id": "b947015c-9b62-4a37-9ba3-c6c221fbf407"
    },
    {
      "cell_type": "code",
      "execution_count": 349,
      "metadata": {
        "outputId": "8f123dbc-6203-43cf-e501-d989dd7f8e14",
        "tags": []
      },
      "outputs": [],
      "source": [
        "b"
      ],
      "id": "89fad7d5-e860-460f-9082-34a826ba3a1f"
    },
    {
      "cell_type": "code",
      "execution_count": 350,
      "metadata": {
        "outputId": "9ff2681f-b984-4c92-8013-2243878ee5b5",
        "tags": []
      },
      "outputs": [],
      "source": [
        "a == b"
      ],
      "id": "6b248c59-4c9a-4c56-b3ed-57ace0481a5d"
    },
    {
      "cell_type": "markdown",
      "metadata": {},
      "source": [
        "`-` 2회 대결"
      ],
      "id": "ad62f890-bb0c-49a6-9cb0-038c02419c00"
    },
    {
      "cell_type": "code",
      "execution_count": 351,
      "metadata": {
        "tags": []
      },
      "outputs": [],
      "source": [
        "a.act()\n",
        "b.act()"
      ],
      "id": "a39d207a-fca6-465a-a0c7-881c8bc03114"
    },
    {
      "cell_type": "code",
      "execution_count": 352,
      "metadata": {
        "outputId": "ae28f7c3-de30-423d-bec3-ac3e046f43ed",
        "tags": []
      },
      "outputs": [],
      "source": [
        "a"
      ],
      "id": "703f6923-82fd-4a5c-ab18-2a1d41b8526e"
    },
    {
      "cell_type": "code",
      "execution_count": 353,
      "metadata": {
        "outputId": "199deb01-a2e5-4de7-a95d-ead8b85c7dde",
        "tags": []
      },
      "outputs": [],
      "source": [
        "b"
      ],
      "id": "97d9af52-88dc-4730-be59-ca78f5e0db59"
    },
    {
      "cell_type": "code",
      "execution_count": 354,
      "metadata": {
        "outputId": "0b1e307e-2424-4440-f1c2-f5226b17fc75",
        "tags": []
      },
      "outputs": [],
      "source": [
        "a == b"
      ],
      "id": "649015fc-8160-45f2-bbd8-0580eccd5e91"
    },
    {
      "cell_type": "markdown",
      "metadata": {},
      "source": [
        "`-` 3회 대결"
      ],
      "id": "3e309203-82ad-4d85-8b38-799358bb9ac5"
    },
    {
      "cell_type": "code",
      "execution_count": 355,
      "metadata": {
        "tags": []
      },
      "outputs": [],
      "source": [
        "a.act()\n",
        "b.act()"
      ],
      "id": "9eebe093-67b4-40a9-b245-6528e13a46a0"
    },
    {
      "cell_type": "code",
      "execution_count": 356,
      "metadata": {
        "outputId": "be3ca341-265e-4ae3-ff24-c548b86ff044",
        "tags": []
      },
      "outputs": [],
      "source": [
        "a"
      ],
      "id": "7eb87095-a8a9-4200-a85d-d3511e7ca079"
    },
    {
      "cell_type": "code",
      "execution_count": 357,
      "metadata": {
        "outputId": "970b71f7-0204-436b-e687-87c7a896a33e",
        "tags": []
      },
      "outputs": [],
      "source": [
        "b"
      ],
      "id": "0df68a89-2771-4d47-aa80-9c8a6c50caf0"
    },
    {
      "cell_type": "code",
      "execution_count": 358,
      "metadata": {
        "outputId": "70f16170-cd4e-46c5-d0f3-143389022d4e",
        "tags": []
      },
      "outputs": [],
      "source": [
        "a == b"
      ],
      "id": "f874b4e4-5450-42f0-8103-e8a6fd513ebb"
    },
    {
      "cell_type": "markdown",
      "metadata": {},
      "source": [
        "# 9 `__gt__`\n",
        "\n",
        "## A. 모티브"
      ],
      "id": "c3018205-14b8-40fe-9856-555fbf36f0c0"
    },
    {
      "cell_type": "code",
      "execution_count": 362,
      "metadata": {
        "tags": []
      },
      "outputs": [],
      "source": [
        "a = RPS5(['가위','바위'])\n",
        "b = RPS5(['가위','바위'])"
      ],
      "id": "99b7b79b-cddb-4fd5-8413-c0fcc8f7db05"
    },
    {
      "cell_type": "code",
      "execution_count": 363,
      "metadata": {
        "tags": []
      },
      "outputs": [],
      "source": [
        "a.act()\n",
        "b.act()"
      ],
      "id": "8d5124a0-76a3-4586-a32b-7f83d67c1573"
    },
    {
      "cell_type": "code",
      "execution_count": 364,
      "metadata": {
        "tags": []
      },
      "outputs": [],
      "source": [
        "a,b"
      ],
      "id": "00b1e585-e09e-4fcc-a067-676fe5a9af3b"
    },
    {
      "cell_type": "code",
      "execution_count": 365,
      "metadata": {
        "outputId": "41f46dfc-923a-4100-c43c-6fd97eea5d20",
        "tags": []
      },
      "outputs": [],
      "source": [
        "a[-1], b[-1]"
      ],
      "id": "6f3c5933-bdbf-429f-bc55-3d3d3d3df489"
    },
    {
      "cell_type": "code",
      "execution_count": 366,
      "metadata": {
        "outputId": "686c1ecb-664c-4eb3-9a02-030154c6299c",
        "tags": []
      },
      "outputs": [],
      "source": [
        "a > b"
      ],
      "id": "fe81100e-66be-4629-add4-90939e8557d5"
    },
    {
      "cell_type": "markdown",
      "metadata": {},
      "source": [
        "## B. RPS6: `__gt__` 의 사용\n",
        "\n",
        "`-` 관찰"
      ],
      "id": "8202490b-923d-4233-9c0b-85a5e05810f7"
    },
    {
      "cell_type": "code",
      "execution_count": 426,
      "metadata": {
        "tags": []
      },
      "outputs": [],
      "source": [
        "a = 1"
      ],
      "id": "330f8160-cdd3-4cd7-98bc-3bf36ee77f73"
    },
    {
      "cell_type": "code",
      "execution_count": 427,
      "metadata": {
        "outputId": "a0dffd12-c3eb-4895-bdc9-abd1ac8f59d7",
        "tags": []
      },
      "outputs": [],
      "source": [
        "a.__gt__(1) # a>1"
      ],
      "id": "eff89eaa-ecd4-45cb-9a59-8f09f5fc57c3"
    },
    {
      "cell_type": "code",
      "execution_count": 428,
      "metadata": {
        "outputId": "3d8b238a-56c3-4fc4-e05b-fd8d321a6c1c",
        "tags": []
      },
      "outputs": [],
      "source": [
        "a.__gt__(0) # a>0"
      ],
      "id": "bb1c2a71-9064-45d4-9319-65a8e2514692"
    },
    {
      "cell_type": "markdown",
      "metadata": {},
      "source": [
        "`-` 구현"
      ],
      "id": "74f9c83f-d38e-4c52-b86c-00915386d4bd"
    },
    {
      "cell_type": "code",
      "execution_count": 429,
      "metadata": {
        "tags": []
      },
      "outputs": [],
      "source": [
        "class RPS6(RPS5):\n",
        "    def __gt__(self,other):\n",
        "        return [self[-1],other[-1]] in [['가위','보'],['바위','가위'],['보','바위']]"
      ],
      "id": "26277a62-66ae-4e5a-b3ef-5ab6102988c1"
    },
    {
      "cell_type": "code",
      "execution_count": 430,
      "metadata": {
        "tags": []
      },
      "outputs": [],
      "source": [
        "a = RPS6(['가위','바위','보'])\n",
        "b = RPS6(['가위','바위','보'])"
      ],
      "id": "2ca931ea-4e9e-4805-a655-3ab268126e17"
    },
    {
      "cell_type": "markdown",
      "metadata": {},
      "source": [
        "`-` 1회대결"
      ],
      "id": "570fa522-39c3-4447-88bd-a5cd9f55f470"
    },
    {
      "cell_type": "code",
      "execution_count": 412,
      "metadata": {
        "tags": []
      },
      "outputs": [],
      "source": [
        "a.act()\n",
        "b.act()"
      ],
      "id": "2d8f1519-92c9-4396-aad1-3519d1cef7ca"
    },
    {
      "cell_type": "code",
      "execution_count": 413,
      "metadata": {
        "outputId": "55c9b7f3-ba50-4d17-9551-f3dcadf1a2db",
        "tags": []
      },
      "outputs": [],
      "source": [
        "a"
      ],
      "id": "a8278869-b7e8-4e43-a49e-fafa77b32b0c"
    },
    {
      "cell_type": "code",
      "execution_count": 414,
      "metadata": {
        "outputId": "f87e9cc9-8d77-4900-dd1d-86eeb75383ac",
        "tags": []
      },
      "outputs": [],
      "source": [
        "b"
      ],
      "id": "b7c77b6b-e5c9-4ef5-98eb-9997e3726239"
    },
    {
      "cell_type": "code",
      "execution_count": 415,
      "metadata": {
        "outputId": "ab87c9a1-51d1-45b0-f0be-152033e3730f",
        "tags": []
      },
      "outputs": [],
      "source": [
        "a>b, a==b"
      ],
      "id": "214053cb-eacc-47f9-9a65-037aa27a594f"
    },
    {
      "cell_type": "markdown",
      "metadata": {},
      "source": [
        "`-` 2회대결"
      ],
      "id": "6f7cdd12-9de2-4ab8-ac93-fc45272577d9"
    },
    {
      "cell_type": "code",
      "execution_count": 416,
      "metadata": {
        "tags": []
      },
      "outputs": [],
      "source": [
        "a.act()\n",
        "b.act()"
      ],
      "id": "4a71c95d-364d-4235-aab1-9437bfe93590"
    },
    {
      "cell_type": "code",
      "execution_count": 417,
      "metadata": {
        "outputId": "7b1f60a3-3032-4a5f-e5db-b919ce70bdad",
        "tags": []
      },
      "outputs": [],
      "source": [
        "a"
      ],
      "id": "85a6d14d-8841-4372-92b1-9711d17c7a30"
    },
    {
      "cell_type": "code",
      "execution_count": 418,
      "metadata": {
        "outputId": "0172679e-bacb-4950-a1d4-3bd9ffb6ec7d",
        "tags": []
      },
      "outputs": [],
      "source": [
        "b"
      ],
      "id": "58eb66ff-27e5-430c-a26c-2ec697fd60da"
    },
    {
      "cell_type": "code",
      "execution_count": 419,
      "metadata": {
        "outputId": "a18431f9-4454-449f-af3b-6b0075310819",
        "tags": []
      },
      "outputs": [],
      "source": [
        "a>b, a==b"
      ],
      "id": "c002d261-c3a7-4dd7-a145-197cb4c2f9c0"
    },
    {
      "cell_type": "code",
      "execution_count": 420,
      "metadata": {
        "tags": []
      },
      "outputs": [],
      "source": [
        "a<b # 이건 알아서 된다!! -- 제가 알기론 안되어야하는데 바뀐것같아용"
      ],
      "id": "c179ef37-80aa-4e72-81cd-665790a76677"
    },
    {
      "cell_type": "markdown",
      "metadata": {},
      "source": [
        "`-` 비교연산자 정리\n",
        "\n",
        "| 특수메소드 |      의미       |\n",
        "|:----------:|:---------------:|\n",
        "|  `__eq__`  | `self == other` |\n",
        "|  `__gt__`  | `self > other`  |\n",
        "|  `__lt__`  | `self < other`  |\n",
        "|  `__ge__`  | `self >= other` |\n",
        "|  `__le__`  | `self <= other` |\n",
        "\n",
        "> 파이썬의 비밀10: `__eq__`, `__gt__`, `__lt__`, `__ge__`, `__le__`는\n",
        "> 각각 `==`, `>`, `<`, `>=`, `<=` 를 재정의한다.\n",
        "\n",
        "# 10. `__mul__`\n",
        "\n",
        "## A. 모티브"
      ],
      "id": "5b061a95-71b9-4a01-9308-a46f8dff3d8e"
    },
    {
      "cell_type": "code",
      "execution_count": 435,
      "metadata": {
        "tags": []
      },
      "outputs": [],
      "source": [
        "a = 3"
      ],
      "id": "0a6b08a6-aeea-4893-9e7a-c51cbcaf37d9"
    },
    {
      "cell_type": "code",
      "execution_count": 436,
      "metadata": {
        "tags": []
      },
      "outputs": [],
      "source": [
        "b = 2"
      ],
      "id": "764525c0-49dd-464f-a8fb-33c56e84266d"
    },
    {
      "cell_type": "code",
      "execution_count": 439,
      "metadata": {
        "tags": []
      },
      "outputs": [],
      "source": [
        "a*b"
      ],
      "id": "0d6e1df1-1522-4b7b-8c6e-1710af7b7265"
    },
    {
      "cell_type": "code",
      "execution_count": 438,
      "metadata": {
        "tags": []
      },
      "outputs": [],
      "source": [
        "a.__mul__(b)"
      ],
      "id": "be3cae96-e7a8-489b-8847-9525326f39d5"
    },
    {
      "cell_type": "markdown",
      "metadata": {},
      "source": [
        "`-` 하고싶은것: `a*b` 가 두 플레이어 `a`,`b`의 “대결”을 의미하도록\n",
        "하고싶다!\n",
        "\n",
        "## B. RPS7: `__mul__` 의 사용\n",
        "\n",
        "`-` 구현"
      ],
      "id": "9ca8e0d2-d121-4214-bfdb-0ce6924cbc7e"
    },
    {
      "cell_type": "code",
      "execution_count": 886,
      "metadata": {
        "tags": []
      },
      "outputs": [],
      "source": [
        "class RPS7(RPS6):\n",
        "    def __init__(self,action_space):\n",
        "        super().__init__(action_space)\n",
        "        self.results = []\n",
        "    def __mul__(self,other):\n",
        "        self.act()\n",
        "        other.act()\n",
        "        if self > other:\n",
        "            self.results.append(\"승리\")\n",
        "            other.results.append(\"패배\")\n",
        "        elif self < other: \n",
        "            self.results.append(\"패배\")\n",
        "            other.results.append(\"승리\")\n",
        "        else: \n",
        "            self.results.append(\"무승부\")\n",
        "            other.results.append(\"무승부\")\n",
        "    def __repr__(self):\n",
        "        text = super().__repr__()\n",
        "        text = text+f\"\\n승패: {self.results}\"\n",
        "        return text"
      ],
      "id": "89a78d23-947f-47d9-95c5-0c49a33e4d3b"
    },
    {
      "cell_type": "code",
      "execution_count": 887,
      "metadata": {
        "tags": []
      },
      "outputs": [],
      "source": [
        "a = RPS7(['가위','바위','보'])\n",
        "b = RPS7(['가위','바위','보'])"
      ],
      "id": "10c7e0a2-7fa2-4b7c-883e-23a87bb472a2"
    },
    {
      "cell_type": "code",
      "execution_count": 888,
      "metadata": {
        "tags": []
      },
      "outputs": [],
      "source": [
        "a*b"
      ],
      "id": "ca3d9a4f-5ef9-436a-8f15-3d897aede2fc"
    },
    {
      "cell_type": "code",
      "execution_count": 889,
      "metadata": {
        "outputId": "3d580157-dd4e-4284-e43b-a45d31187a0c",
        "tags": []
      },
      "outputs": [],
      "source": [
        "a"
      ],
      "id": "4806069e-b0e2-4c62-a6cb-b01d8d514d8d"
    },
    {
      "cell_type": "code",
      "execution_count": 890,
      "metadata": {
        "outputId": "57b84702-b030-4185-9ee0-dc1d713bb57e",
        "tags": []
      },
      "outputs": [],
      "source": [
        "b"
      ],
      "id": "7d74bdd6-a2c1-45dc-a8d1-0e40efb1cb13"
    },
    {
      "cell_type": "code",
      "execution_count": 891,
      "metadata": {
        "tags": []
      },
      "outputs": [],
      "source": [
        "a.results,b.results"
      ],
      "id": "47b478bc-da58-48dc-8d75-7a3db8e7ac15"
    },
    {
      "cell_type": "markdown",
      "metadata": {},
      "source": [
        "# 11. 가위,바위,보\n",
        "\n",
        "`(1)` 플레이어A는 (가위,가위) 중 하나를 선택할 수 있고 플레이어B는\n",
        "(가위,바위) 중 하나를 선택할 수 있다. 각 플레이어는 각 패 중 하나를\n",
        "랜덤으로 선택하는 액션을 한다고 가정하자. 즉 아래의 상황을 가정하자.\n",
        "\n",
        "|              |         플레이어A          |        플레이어B        |\n",
        "|:------------:|:--------------------------:|:-----------------------:|\n",
        "| action_space |        (가위,가위)         |       (가위,바위)       |\n",
        "|     prob     | {‘가위’: 0.5, ‘가위’: 0.5} | {‘가위’:0.5,‘바위’:0.5} |\n",
        "\n",
        "아래에 해당하는 확률을 시뮬레이션을 이용하여 추정하라.\n",
        "\n",
        "-   플레이어A가 승리할 확률:\n",
        "-   플레이어B가 승리할 확률:\n",
        "-   플레이어A와 플레이어B가 비길 확률:\n",
        "\n",
        "**hint**: 50% 확률로 b가 승리하고 50% 확률로 비긴다.\n",
        "\n",
        "(풀이)"
      ],
      "id": "86ba5311-3e30-48b6-953b-b3a1277c7444"
    },
    {
      "cell_type": "code",
      "execution_count": 892,
      "metadata": {
        "tags": []
      },
      "outputs": [],
      "source": [
        "A = RPS7(['가위','가위']) \n",
        "B = RPS7(['가위','바위']) \n",
        "results = []\n",
        "for t in range(20):\n",
        "    A*B"
      ],
      "id": "dafedd81-6d56-4620-8ae5-99592d5b9f9f"
    },
    {
      "cell_type": "code",
      "execution_count": 893,
      "metadata": {
        "tags": []
      },
      "outputs": [],
      "source": [
        "A,B"
      ],
      "id": "1ee1cca5-f0bf-4307-8484-d38304096cfa"
    },
    {
      "cell_type": "code",
      "execution_count": 900,
      "metadata": {
        "tags": []
      },
      "outputs": [],
      "source": [
        "{s:A.results.count(s) for s in set(A.results)}"
      ],
      "id": "74591130-ad06-4363-b8e1-f1114d4bc5c2"
    },
    {
      "cell_type": "code",
      "execution_count": 901,
      "metadata": {
        "tags": []
      },
      "outputs": [],
      "source": [
        "{s:B.results.count(s) for s in set(B.results)}"
      ],
      "id": "0f694e87-be46-4cc0-9302-7527d72029d1"
    },
    {
      "cell_type": "markdown",
      "metadata": {},
      "source": [
        "`(2)` 아래의 상황을 가정하자.\n",
        "\n",
        "|              |         플레이어A          |        플레이어B        |\n",
        "|:------------:|:--------------------------:|:-----------------------:|\n",
        "| action_space |        (가위,가위)         |       (가위,바위)       |\n",
        "|     prob     | {‘가위’: 0.5, ‘가위’: 0.5} | {‘가위’:0.5,‘바위’:0.5} |\n",
        "\n",
        "각 플레이어는 아래와 같은 규칙으로 가위바위보 결과에 따른 보상점수를\n",
        "적립한다고 하자. - 승리: 보상점수 2점 적립 - 무승부: 보상점수 1점 적립 -\n",
        "패배: 보상점수 0점 적립\n",
        "\n",
        "100번째 대결까지 시뮬레이션을 시행하고 플레이어B가 가위를 낼 경우 얻은\n",
        "보상점수의 총합과 바위를 낼 경우 얻은 보상점수의 총합을 각각 구하라.\n",
        "플레이어B는 가위를 내는것이 유리한가? 바위를 내는것이 유리한가?\n",
        "\n",
        "**hint**: 플레이어B는 바위를 내는 것이 유리하다.\n",
        "\n",
        "**hint**: 플레이어B가 100번중에 49번 가위를 내고 51번 바위를 낸다면\n",
        "플레이어B가 적립할 보상점수는 각각 아래와 같다. - 가위를 내었을 경우: 49\n",
        "\\* 1 = 49점 - 바위를 내었을 경우: 51 \\* 2 = 102점 - 총 보상점수 = 49점 +\n",
        "102점 = 151점\n",
        "\n",
        "(풀이)"
      ],
      "id": "496ed46b-4da6-4694-bc8e-c2e7ab84b485"
    },
    {
      "cell_type": "code",
      "execution_count": 1177,
      "metadata": {
        "tags": []
      },
      "outputs": [],
      "source": [
        "class RPSBase2:\n",
        "    def __init__(self,action_space):\n",
        "        self.action_space = action_space \n",
        "        self.actions = []\n",
        "        self.results = []\n",
        "        self.rewards = []\n",
        "        self.prob = [1/2,1/2] \n",
        "        self.score_dct = {'승리':2, '무승부':1, '패배':0}\n",
        "    def act(self):\n",
        "        action = np.random.choice(self.action_space,p=self.prob)\n",
        "        self.actions.append(action)\n",
        "        return action\n",
        "    def __repr__(self):\n",
        "        text = f\"낼 수 있는 패: {self.action_space}\\n최근기록: {self.actions[-10:]}\\n최근승패: {self.results[-10:]}\\n확률: {dict(zip(self.action_space,self.prob))}\"\n",
        "        return text\n",
        "    def __eq__(self,other):\n",
        "        return self.actions[-1] == other.actions[-1]  \n",
        "    def __gt__(self,other):\n",
        "        return [self.actions[-1],other.actions[-1]] in [['가위','보'],['바위','가위'],['보','바위']]\n",
        "    def __mul__(self,other):\n",
        "        self.act()\n",
        "        other.act()\n",
        "        if self > other:\n",
        "            self.results.append(\"승리\")\n",
        "            other.results.append(\"패배\")\n",
        "        elif self < other: \n",
        "            self.results.append(\"패배\")\n",
        "            other.results.append(\"승리\")\n",
        "        else: \n",
        "            self.results.append(\"무승부\")\n",
        "            other.results.append(\"무승부\")\n",
        "    def save_reward(self):\n",
        "        self.rewards.append(self.score_dct[self.results[-1]])"
      ],
      "id": "a04f5752-ddbe-4fd3-8654-a9a1f6326bbc"
    },
    {
      "cell_type": "code",
      "execution_count": 1178,
      "metadata": {
        "tags": []
      },
      "outputs": [],
      "source": [
        "A = RPSBase2([\"가위\",\"가위\"])\n",
        "B = RPSBase2([\"가위\",\"바위\"])"
      ],
      "id": "88b77310-1489-4bb7-b9a7-9c24fdda1596"
    },
    {
      "cell_type": "code",
      "execution_count": 1179,
      "metadata": {
        "tags": []
      },
      "outputs": [],
      "source": [
        "A"
      ],
      "id": "f4eabd7c-44d3-40ba-99bc-c7b6265da425"
    },
    {
      "cell_type": "code",
      "execution_count": 1180,
      "metadata": {
        "tags": []
      },
      "outputs": [],
      "source": [
        "for t in range(100):\n",
        "    A*B \n",
        "    A.save_reward()\n",
        "    B.save_reward()"
      ],
      "id": "18935952-94f4-4f6d-9763-331a7603babe"
    },
    {
      "cell_type": "code",
      "execution_count": 1181,
      "metadata": {
        "tags": []
      },
      "outputs": [],
      "source": [
        "A"
      ],
      "id": "4e20a1f9-c949-413c-97ef-bab27d924e61"
    },
    {
      "cell_type": "code",
      "execution_count": 1182,
      "metadata": {
        "tags": []
      },
      "outputs": [],
      "source": [
        "B"
      ],
      "id": "4299c618-197e-46f4-981f-df82f86151b9"
    },
    {
      "cell_type": "code",
      "execution_count": 1183,
      "metadata": {
        "tags": []
      },
      "outputs": [],
      "source": [
        "df = pd.DataFrame({\"A행동\": A.actions, \"B행동\": B.actions, \"A보상\": A.rewards, \"B보상\": B.rewards})\n",
        "df"
      ],
      "id": "6f76d6b4-40a2-45fb-b769-ec4c98977bfa"
    },
    {
      "cell_type": "code",
      "execution_count": 1184,
      "metadata": {
        "tags": []
      },
      "outputs": [],
      "source": [
        "df[df.B행동 == \"가위\"].B보상.sum(), df[df.B행동 == \"바위\"].B보상.sum()"
      ],
      "id": "a5185494-453b-4f39-83b3-41c38369b1c1"
    },
    {
      "cell_type": "markdown",
      "metadata": {},
      "source": [
        "`(3)` 아래의 상황을 가정하자.\n",
        "\n",
        "|              |         플레이어A          |        플레이어B        |\n",
        "|:------------:|:--------------------------:|:-----------------------:|\n",
        "| action_space |        (가위,가위)         |       (가위,바위)       |\n",
        "|     prob     | {‘가위’: 0.5, ‘가위’: 0.5} | {‘가위’:0.5,‘바위’:0.5} |\n",
        "\n",
        "100번의 대결에서 얻은 데이터를 **학습**하여, 이후의 대결부터는\n",
        "플레이어B가 “가위” 혹은 “바위” 를 선택할 확률을 매시점 조금씩 조정한다고\n",
        "가정하자. 구체적으로는 현재시점까지 얻은 보상점수의 비율로 확률을\n",
        "결정한다. 예를들어 플레이어B가 100회의 대결동안 누적한 보상점수의 총합이\n",
        "아래와 같다고 하자.\n",
        "\n",
        "-   가위를 내었을 경우 보상점수 총합 = 50점\n",
        "-   바위를 내었을 경우 보상점수 총합 = 100점\n",
        "\n",
        "그렇다면 플레이어B는 각각 (50/150,100/150) 의 확률로 (가위,바위) 중\n",
        "하나를 선택한다. 101번째 대결에 플레이어B가 가위를 내서 비겼다면\n",
        "이후에는 (51/151,100/151) 의 확률로 (가위,바위) 중 하나를 선택한다.\n",
        "102번째 대결에 플레이어B가 바위를 내서 이겼다면 이후에는 각각\n",
        "(51/153,102/153) 의 확률로 (가위,바위) 중 하나를 선택한다. 이러한 상황을\n",
        "요약하여 표로 정리하면 아래와 같다.\n",
        "\n",
        "**플레이어 B의 확률업데이트 예시** \\|시점\\|점수 \\|확률\\|\n",
        "\\|:-:\\|:-:\\|:-:\\| \\|0\\<= t \\< 100\\|B = {가위: 50, 바위:100}\\| B = {가위:\n",
        "50/150, 바위: 100/150}\\| \\|t= 100\\| B= {가위: 51, 바위:100}\\| B = {가위:\n",
        "51/151, 바위: 100/151}\\| \\|t=101\\|B = {가위: 51, 바위:102}\\| B = {가위:\n",
        "51/153, 바위: 102/153}\\|\n",
        "\n",
        "첫 100회 까지는 확률을 업데이트 하지 않고 (=학습하지 않고)\n",
        "100~500회까지는 플레이어B가 데이터를 보고 확률을 수정한다고 하자. 즉\n",
        "아래와 같은 방식으로 수정한다고 하자.\n",
        "\n",
        "**플레이어 A,B의 시점별 확률업데이트** \\|시점\\|확률\\|학습\\|\n",
        "\\|:-:\\|:-:\\|:-:\\| \\|0\\<= t \\< 100 \\|A = {가위: 1/2, 바위: 1/2}, B =\n",
        "{가위:1/2, 바위:1/2}\\| A = False, B = False\\| \\|100\\<= t \\<500\\| A=\n",
        "{가위: 1/2, 바위:1/2}, B= {가위: ??, 바위: ??}\\| A = False, B =\n",
        "**True**\\|\n",
        "\n",
        "500번의 대결이 끝난 이후 플레이어B가 (가위,바위)를 낼 확률은 각각 얼마로\n",
        "업데이트 되었는가?\n",
        "\n",
        "**hint: 시간이 지날수록 플레이어B는 (가위,바위)중 바위를 내는 쪽이\n",
        "유리하다는 것을 알게 될 것이다.**\n",
        "\n",
        "(풀이)"
      ],
      "id": "0a055dce-8ed7-4e5e-bb00-e0550dd72386"
    },
    {
      "cell_type": "code",
      "execution_count": 1327,
      "metadata": {
        "tags": []
      },
      "outputs": [],
      "source": [
        "class RPSlrn(RPSBase2):\n",
        "    def learn(self):\n",
        "        a0,a1 = self.action_space\n",
        "        actions = pd.Series(self.actions)\n",
        "        rewards = pd.Series(self.rewards)\n",
        "        p0 = rewards[actions == a0].sum()/sum(rewards)\n",
        "        p1 = rewards[actions == a1].sum()/sum(rewards)\n",
        "        self.prob = [p0,p1]"
      ],
      "id": "f51e5e2f-f286-4d41-8978-2b7150ceccfc"
    },
    {
      "cell_type": "code",
      "execution_count": 1328,
      "metadata": {
        "tags": []
      },
      "outputs": [],
      "source": [
        "A = RPSlrn(['가위','가위'])\n",
        "B = RPSlrn(['가위','바위'])"
      ],
      "id": "23c49839-1942-41d2-8d78-51defa9da7c5"
    },
    {
      "cell_type": "code",
      "execution_count": 1329,
      "metadata": {
        "tags": []
      },
      "outputs": [],
      "source": [
        "# t= 0~99\n",
        "for t in range(100):\n",
        "    A*B\n",
        "    A.save_reward()\n",
        "    B.save_reward()\n",
        "# t = 100~499   \n",
        "for t in range(100,500):\n",
        "    A*B\n",
        "    A.save_reward()\n",
        "    B.save_reward()\n",
        "    B.learn()"
      ],
      "id": "957df77d-1684-433f-aa45-892bf9e81988"
    },
    {
      "cell_type": "code",
      "execution_count": 1330,
      "metadata": {
        "tags": []
      },
      "outputs": [],
      "source": [
        "A"
      ],
      "id": "3df31777-b7b9-409f-b0c8-f25e72539732"
    },
    {
      "cell_type": "code",
      "execution_count": 1331,
      "metadata": {
        "tags": []
      },
      "outputs": [],
      "source": [
        "B"
      ],
      "id": "d8ced1fe-176f-4282-b229-4a04324c7d5b"
    },
    {
      "cell_type": "markdown",
      "metadata": {},
      "source": [
        "------------------------------------------------------------------------\n",
        "\n",
        "`(4)` 플레이어 C와 플레이어 D를 만들아라.\n",
        "\n",
        "|              |         플레이어C          |        플레이어D        |\n",
        "|:------------:|:--------------------------:|:-----------------------:|\n",
        "| action_space |        (가위,바위)         |       (가위,바위)       |\n",
        "|     prob     | {‘가위’: 0.5, ‘바위’: 0.5} | {‘가위’:0.5,‘바위’:0.5} |\n",
        "\n",
        "두 플레이어는 처음 100번의 대결 동안 플레이어 C와 플레이어 D는 둘 다\n",
        "’가위’와 ’바위’를 랜덤하게 선택한다. 즉, 어떤 규칙 없이 무작위로\n",
        "선택한다. 그리고 500번째 대결까지는 문제 (3)와 같은 방식으로 확률을\n",
        "수정한다.\n",
        "\n",
        "**플레이어 C,D의 시점별 확률업데이트** \\|시점\\|확률\\|학습\\|\n",
        "\\|:-:\\|:-:\\|:-:\\| \\|0\\<= t \\<100 \\| C = {가위: 1/2, 바위: 1/2}, D =\n",
        "{가위:1/2, 바위:1/2}\\| C = False, D = False\\| \\|100\\<= t \\<500\\| C =\n",
        "{가위: ??, 바위:??}, D = {가위: ??, 바위: ??}\\| C = **True**, D =\n",
        "**True**\\|\n",
        "\n",
        "500번의 대결이 끝난 이후 플레이어C,D가 (가위,바위)를 낼 확률은 각각\n",
        "얼마로 업데이트 되었는가?\n",
        "\n",
        "**hint: 시간이 지날수록 두 플레이어 모두 바위를 내는 쪽이 유리하다는\n",
        "것을 알게 될 것이다.**\n",
        "\n",
        "(풀이)"
      ],
      "id": "2d95f38e-402f-4a7d-80b8-32dfce3f0770"
    },
    {
      "cell_type": "code",
      "execution_count": 1192,
      "metadata": {
        "tags": []
      },
      "outputs": [],
      "source": [
        "C = RPSlrn(['가위','바위'])\n",
        "D = RPSlrn(['가위','바위'])"
      ],
      "id": "217c0bd0-fa35-43ee-8c31-59bd086a9b90"
    },
    {
      "cell_type": "code",
      "execution_count": 1193,
      "metadata": {
        "tags": []
      },
      "outputs": [],
      "source": [
        "# t= 0~99\n",
        "for t in range(100):\n",
        "    C*D\n",
        "    C.save_reward()\n",
        "    D.save_reward()\n",
        "# t = 100~499   \n",
        "for t in range(100,500):\n",
        "    C*D\n",
        "    C.save_reward()\n",
        "    D.save_reward()\n",
        "    C.learn()\n",
        "    D.learn()"
      ],
      "id": "111d5b22-b67f-44d9-bb16-2584b859f0ef"
    },
    {
      "cell_type": "code",
      "execution_count": 1194,
      "metadata": {
        "tags": []
      },
      "outputs": [],
      "source": [
        "C"
      ],
      "id": "034c3281-a4e2-4cbe-8b9d-1dab8ea54fb3"
    },
    {
      "cell_type": "code",
      "execution_count": 1195,
      "metadata": {
        "tags": []
      },
      "outputs": [],
      "source": [
        "D"
      ],
      "id": "8e76cf84-19a1-4786-9120-74b5eaec91ef"
    },
    {
      "cell_type": "markdown",
      "metadata": {},
      "source": [
        "`(5)` 새로운 플레이어 E와 F를 생각하자. 플레이어E와 플레이어F는 각각\n",
        "(가위,바위) 그리고 (가위,보) 중 하나를 선택할 수 있다고 가정하자.\n",
        "\n",
        "|              |         플레이어E          |        플레이어F        |\n",
        "|:------------:|:--------------------------:|:-----------------------:|\n",
        "| action_space |        (가위,바위)         |        (가위,보)        |\n",
        "|     prob     | {‘가위’: 0.5, ‘바위’: 0.5} | {‘가위’:0.5,‘바위’:0.5} |\n",
        "\n",
        "시뮬레이션 대결결과를 이용하여 아래의 확률을 근사적으로 추정하라.\n",
        "\n",
        "-   플레이어E가 승리할 확률:\n",
        "-   플레이어F가 승리할 확률:\n",
        "-   플레이어E와 플레이어F가 비길 확률:\n",
        "\n",
        "**hint: 플레이어E가 가위를 낸다면 최소한 지지는 않기 때문에 플레이어E가\n",
        "좀 더 유리한 패를 가지고 있다. 따라서 플레이어E의 결과가 더 좋을\n",
        "것이다.**"
      ],
      "id": "2ee44f75-969d-4134-841e-609ec97a2ec7"
    },
    {
      "cell_type": "code",
      "execution_count": 1196,
      "metadata": {
        "tags": []
      },
      "outputs": [],
      "source": [
        "E = RPSlrn(['가위','바위'])\n",
        "F = RPSlrn(['가위','보'])\n",
        "for t in range(100):\n",
        "    E * F"
      ],
      "id": "fc91a597-f752-4fd2-9cd2-f0ecad4ce5a6"
    },
    {
      "cell_type": "code",
      "execution_count": 1197,
      "metadata": {
        "tags": []
      },
      "outputs": [],
      "source": [
        "{s:E.results.count(s) for s in set(E.results)}"
      ],
      "id": "0bbce686-869b-4d01-a6ae-d25d801901d4"
    },
    {
      "cell_type": "code",
      "execution_count": 1198,
      "metadata": {
        "tags": []
      },
      "outputs": [],
      "source": [
        "{s:F.results.count(s) for s in set(F.results)}"
      ],
      "id": "9acc7525-1c7f-468d-a25f-10194829cdae"
    },
    {
      "cell_type": "markdown",
      "metadata": {},
      "source": [
        "`(6)` (5)와 동일한 두 명의 플레이어E, F를 생각하자.\n",
        "\n",
        "|              |         플레이어E          |       플레이어F       |\n",
        "|:------------:|:--------------------------:|:---------------------:|\n",
        "| action_space |        (가위,바위)         |       (가위,보)       |\n",
        "|     prob     | {‘가위’: 0.5, ‘바위’: 0.5} | {‘가위’:0.5,‘보’:0.5} |\n",
        "\n",
        "두 플레이어는 100회까지는 랜덤으로 자신의 패를 선택한다. 그리고\n",
        "101회부터 500회까지는 플레이어F만 데이터로 부터 학습을 하여 수정된\n",
        "확률을 사용한다.\n",
        "\n",
        "**플레이어 E,F의 시점별 확률업데이트** \\|시점\\|확률\\|학습\\|\n",
        "\\|:-:\\|:-:\\|:-:\\| \\|0\\<= t \\<100 \\| E = {가위: 1/2, 바위: 1/2}, F =\n",
        "{가위:1/2, 보:1/2}\\| E = False, F = False\\| \\|100\\<= t \\<500\\| E =\n",
        "{가위: 1/2, 바위: 1/2}, F = {가위: ??, 보: ??}\\| E = False, F =\n",
        "**True**\\|\n",
        "\n",
        "500번의 대결이 끝나고 플레이어F가 (가위,보)를 선택하는 확률이 어떻게\n",
        "업데이트 되어있는가?\n",
        "\n",
        "**hint: 플레이어F는 보를 내는 것이 낫다고 생각할 것이다. (가위를 내면\n",
        "지거나 비기지만 보를 내면 지거나 이긴다.)**"
      ],
      "id": "2f479bac-02aa-4dba-82ce-fcd406c13b2d"
    },
    {
      "cell_type": "code",
      "execution_count": 1199,
      "metadata": {
        "tags": []
      },
      "outputs": [],
      "source": [
        "E = RPSlrn(['가위','바위'])\n",
        "F = RPSlrn(['가위','보'])\n",
        "for t in range(100):\n",
        "    E * F\n",
        "    E.save_reward()\n",
        "    F.save_reward()\n",
        "for t in range(100,500):\n",
        "    E * F\n",
        "    E.save_reward()\n",
        "    F.save_reward()\n",
        "    F.learn()"
      ],
      "id": "147a16ea-a0e6-48dd-94cb-ae32d91e2751"
    },
    {
      "cell_type": "code",
      "execution_count": 1200,
      "metadata": {
        "tags": []
      },
      "outputs": [],
      "source": [
        "E"
      ],
      "id": "a630151a-1e64-4cfe-8420-3ae2640148de"
    },
    {
      "cell_type": "code",
      "execution_count": 1201,
      "metadata": {
        "tags": []
      },
      "outputs": [],
      "source": [
        "F"
      ],
      "id": "dfe39e29-483a-46da-9257-d0a59c942ed1"
    },
    {
      "cell_type": "markdown",
      "metadata": {},
      "source": [
        "`(7)` (6)번의 플레이어E와 플레이어F가 500회~1000회까지 추가로 게임을\n",
        "한다. 이번에는 플레이어E만 데이터로부터 학습한다. 1000회까지 대결을 끝낸\n",
        "이후 플레이어E가 (가위,바위)를 내는 확률은 어떻게 업데이트 되었는가?\n",
        "\n",
        "**플레이어 E,F의 시점별 확률업데이트** \\|시점\\|확률\\|학습\\|\n",
        "\\|:-:\\|:-:\\|:-:\\| \\|0\\<= t \\<100 \\| E = {가위: 1/2, 바위: 1/2}, F =\n",
        "{가위:1/2, 보:1/2}\\| E = False, F = False\\| \\|100\\<= t \\<500\\| E =\n",
        "{가위: 1/2, 바위: 1/2}, F = {가위: ??, 보: ??}\\| E = False, F =\n",
        "**True**\\| \\|-\\|-\\|-\\| \\|t \\< 1000\\| E = {가위: ??, 바위: ??}, F =\n",
        "{가위: ??, 보: ??}\\| E = **True**, F = False\\|\n",
        "\n",
        "**hint: 플레이어F는 보를 내도록 학습되어 있다. 따라서 플레이어E가 바위를\n",
        "내면 지고 가위를 내면 이길것이다. 따라서 플레이어E는 가위가 유리하다고\n",
        "생각할 것이다.**"
      ],
      "id": "17d50b83-4d3b-4902-a4bc-e3dffbe62873"
    },
    {
      "cell_type": "code",
      "execution_count": 1202,
      "metadata": {
        "tags": []
      },
      "outputs": [],
      "source": [
        "for t in range(500,1000):\n",
        "    E * F\n",
        "    E.save_reward()\n",
        "    F.save_reward()\n",
        "    E.learn()"
      ],
      "id": "357bff86-85a8-4a78-8b3e-3d8b8243e12a"
    },
    {
      "cell_type": "code",
      "execution_count": 1203,
      "metadata": {
        "tags": []
      },
      "outputs": [],
      "source": [
        "E"
      ],
      "id": "f6718dc9-f153-4bb3-a19a-9f6284950615"
    },
    {
      "cell_type": "code",
      "execution_count": 1204,
      "metadata": {
        "tags": []
      },
      "outputs": [],
      "source": [
        "F"
      ],
      "id": "fee43477-f30e-4c00-b9ac-7d8396492eed"
    },
    {
      "cell_type": "markdown",
      "metadata": {},
      "source": [
        "`(8)` (7)번의 플레이어E와 플레이어F가 1000회~10000회까지 추가로 게임을\n",
        "한다. 이번에는 플레이어F만 데이터로부터 학습한다. 10000회까지 대결을\n",
        "끝낸 이후 플레이어F가 (가위,보)를 내는 확률은 어떻게 업데이트 되었는가?\n",
        "\n",
        "**플레이어 E,F의 시점별 확률업데이트** \\|시점\\|확률\\|학습\\|\n",
        "\\|:-:\\|:-:\\|:-:\\| \\|0\\<= t \\<100 \\| E = {가위: 1/2, 바위: 1/2}, F =\n",
        "{가위:1/2, 보:1/2}\\| E = False, F = False\\| \\|100\\<= t \\<500\\| E =\n",
        "{가위: 1/2, 바위: 1/2}, F = {가위: ??, 보: ??}\\| E = False, F =\n",
        "**True**\\| \\|500\\<= t \\< 1000\\| E = {가위: ??, 바위: ??}, F = {가위: ??,\n",
        "보: ??}\\| E = **True**, F = False\\| \\|-\\|-\\|-\\| \\|1000\\<= t \\< 10000\\| E\n",
        "= {가위: ??, 바위: ??}, F = {가위: ??, 보: ??}\\| E = False, F =\n",
        "**True**\\|\n",
        "\n",
        "**hint: 플레이어F는 원래 보가 유리하다고 생각하여 보를 자주 내도록\n",
        "학습되었다. 하지만 플레이어E가 그러한 플레이어F의 성향을 파악하고 가위를\n",
        "주로 내도록 학습하였다. 플레이어F는 그러한 플레이어E의 성향을 다시\n",
        "파악하여 이번에는 가위을 자주 내는 것이 유리하다고 생각할 것이다.**\n",
        "\n",
        "(풀이)"
      ],
      "id": "8847453a-60c0-4518-8ca3-fd3be17ee655"
    },
    {
      "cell_type": "code",
      "execution_count": 1332,
      "metadata": {
        "tags": []
      },
      "outputs": [],
      "source": [
        "for t in range(1000,10000):\n",
        "    E * F\n",
        "    E.save_reward()\n",
        "    F.save_reward()\n",
        "    F.learn()    "
      ],
      "id": "8ed090a7-117a-4287-b1f0-c65bd1e41c56"
    },
    {
      "cell_type": "code",
      "execution_count": 1333,
      "metadata": {
        "tags": []
      },
      "outputs": [],
      "source": [
        "E"
      ],
      "id": "52418cd8-c409-4c25-a9c6-e97e33dec9c7"
    },
    {
      "cell_type": "code",
      "execution_count": 1334,
      "metadata": {
        "tags": []
      },
      "outputs": [],
      "source": [
        "F"
      ],
      "id": "d09a998c-98a9-4f74-9dd5-be8b094cc9fc"
    },
    {
      "cell_type": "markdown",
      "metadata": {},
      "source": [
        "`(9)` 플레이어E와 플레이어F의 대결기록을 초기화 한다. 이번에는\n",
        "플레이어F가 항상 (3/4)의 확률로 가위를 (1/4)의 확률로 보를 낸다고\n",
        "가정한다.\n",
        "\n",
        "|              |         플레이어E          |       플레이어F       |\n",
        "|:------------:|:--------------------------:|:---------------------:|\n",
        "| action_space |        (가위,바위)         |       (가위,보)       |\n",
        "|     prob     | {‘가위’: 0.5, ‘바위’: 0.5} | {‘가위’:3/4,‘보’:1/4} |\n",
        "\n",
        "플레이어E는 처음 1000번의 대결까지는 랜덤으로 (가위,바위)중 하나를 내고,\n",
        "이후의 1000번의 대결에서는 데이터를 학습하여 수정한 확률을 사용한다고\n",
        "하자. 대결이후에 플레이어E가 (가위,바위)를 내는 확률이 어떻게 업데이트\n",
        "되어있는가?\n",
        "\n",
        "|       시점       |                         확률                         |          학습           |\n",
        "|:----------------------:|:----------------------:|:----------------------:|\n",
        "|  0\\<= t \\<1000   | E = {가위: 1/2, 바위: 1/2}, F = {가위: 3/4, 보: 1/4} |  E = False, F = False   |\n",
        "| 1000\\<= t \\<2000 |  E = {가위: ??, 바위: ??}, F = {가위: 3/4, 보: 1/4}  | E = **True**, F = False |\n",
        "\n",
        "(풀이)"
      ],
      "id": "8457bfc0-e5a4-401f-819d-9f4426c927e6"
    },
    {
      "cell_type": "code",
      "execution_count": 1303,
      "metadata": {
        "tags": []
      },
      "outputs": [],
      "source": [
        "E=RPSlrn(['가위','바위'])\n",
        "F=RPSlrn(['가위','보'])"
      ],
      "id": "37ae9d9b-68c0-4f93-910e-62523e982214"
    },
    {
      "cell_type": "code",
      "execution_count": 1308,
      "metadata": {
        "tags": []
      },
      "outputs": [],
      "source": [
        "F.prob = [3/4,1/4]"
      ],
      "id": "f281ee15-0d21-44ae-8f5f-142aa78637ed"
    },
    {
      "cell_type": "code",
      "execution_count": 1309,
      "metadata": {
        "tags": []
      },
      "outputs": [],
      "source": [
        "for t in range(1000):\n",
        "    E * F\n",
        "    E.save_reward()\n",
        "    F.save_reward()\n",
        "for t in range(1000,2000):\n",
        "    E * F\n",
        "    E.save_reward()\n",
        "    F.save_reward()\n",
        "    E.learn()"
      ],
      "id": "67b16490-d03b-4315-a721-eab0132278b1"
    },
    {
      "cell_type": "code",
      "execution_count": 1310,
      "metadata": {
        "tags": []
      },
      "outputs": [],
      "source": [
        "E"
      ],
      "id": "4776bf43-4e0e-40a5-bece-8db7ad7c3ac3"
    },
    {
      "cell_type": "code",
      "execution_count": 1311,
      "metadata": {
        "tags": []
      },
      "outputs": [],
      "source": [
        "F"
      ],
      "id": "8cbccae9-c899-41eb-a302-c50f1a106e58"
    },
    {
      "cell_type": "markdown",
      "metadata": {},
      "source": [
        "`(10)` 플레이어E와 플레이어F의 대결기록을 초기화 한다. 이번에는\n",
        "플레이어F가 항상 (2/3)의 확률로 가위를 (1/3)의 확률로 보를 낸다고\n",
        "가정한다. 플레이어E는 100번의 대결까지는 랜덤으로 (가위,바위)중 하나를\n",
        "내고 101번째 대결부터 1000번째 대결까지는 대결 데이터를 학습하여 수정한\n",
        "확률을 사용한다고 하자. 1000번째 대결이후에 플레이어E가 (가위,바위)를\n",
        "내는 확률이 어떻게 업데이트 되어있는가?\n",
        "\n",
        "|              |         플레이어E          |       플레이어F       |\n",
        "|:------------:|:--------------------------:|:---------------------:|\n",
        "| action_space |        (가위,바위)         |       (가위,보)       |\n",
        "|     prob     | {‘가위’: 0.5, ‘바위’: 0.5} | {‘가위’:2/3,‘보’:1/3} |\n",
        "\n",
        "플레이어E는 처음 1000번의 대결까지는 랜덤으로 (가위,바위)중 하나를 내고,\n",
        "이후의 1000번의 대결에서는 데이터를 학습하여 수정한 확률을 사용한다고\n",
        "하자. 대결이후에 플레이어E가 (가위,바위)를 내는 확률이 어떻게 업데이트\n",
        "되어있는가?\n",
        "\n",
        "|       시점       |                         확률                         |          학습           |\n",
        "|:----------------------:|:----------------------:|:----------------------:|\n",
        "|  0\\<= t \\<1000   | E = {가위: 1/2, 바위: 1/2}, F = {가위: 3/4, 보: 1/4} |  E = False, F = False   |\n",
        "| 1000\\<= t \\<2000 |  E = {가위: ??, 바위: ??}, F = {가위: 3/4, 보: 1/4}  | E = **True**, F = False |\n",
        "\n",
        "(풀이)"
      ],
      "id": "92d8f8a5-12c1-4a8a-b1cf-e7061b9599f7"
    },
    {
      "cell_type": "code",
      "execution_count": 1322,
      "metadata": {
        "tags": []
      },
      "outputs": [],
      "source": [
        "E=RPSlrn(['가위','바위'])\n",
        "F=RPSlrn(['가위','보'])"
      ],
      "id": "d849bcdf-b006-463a-a0b0-83dec5fb9946"
    },
    {
      "cell_type": "code",
      "execution_count": 1323,
      "metadata": {
        "tags": []
      },
      "outputs": [],
      "source": [
        "F.prob = [2/3,1/3]"
      ],
      "id": "e3310bf8-66a9-423c-8142-83eeaccbb5a1"
    },
    {
      "cell_type": "code",
      "execution_count": 1324,
      "metadata": {
        "tags": []
      },
      "outputs": [],
      "source": [
        "for t in range(1000):\n",
        "    E * F\n",
        "    E.save_reward()\n",
        "    F.save_reward()\n",
        "for t in range(1000,2000):\n",
        "    E * F\n",
        "    E.save_reward()\n",
        "    F.save_reward()\n",
        "    E.learn()"
      ],
      "id": "182f5616-59a0-46ff-b664-253b9423564a"
    },
    {
      "cell_type": "code",
      "execution_count": 1325,
      "metadata": {
        "tags": []
      },
      "outputs": [],
      "source": [
        "E"
      ],
      "id": "2f531095-08a8-4155-b592-0f168cbf65b9"
    },
    {
      "cell_type": "code",
      "execution_count": 1326,
      "metadata": {
        "tags": []
      },
      "outputs": [],
      "source": [
        "F"
      ],
      "id": "e1a40c15-4e20-41d8-b934-539b94695f38"
    },
    {
      "cell_type": "markdown",
      "metadata": {},
      "source": [
        "> E가 가위를 냈을경우 보상의 기대값은 $1\\times 2/3 + 2 \\times 1/3 = 4/3$\n",
        "> 이고 바위를 냈을 경우 보상의 기대값은\n",
        "> $2\\times 2/3 + 0 \\times 1/3 = 4/3$ 이므로 가위도 바위도 유리하지 않다.\n",
        "> 따라서 가위와 바위를 어떠한 확률로 내든 상관없다."
      ],
      "id": "3f410500-3ca2-4988-a262-a9c8c128c439"
    }
  ],
  "nbformat": 4,
  "nbformat_minor": 5,
  "metadata": {
    "kernelspec": {
      "name": "python3",
      "display_name": "Python 3 (ipykernel)",
      "language": "python"
    },
    "language_info": {
      "name": "python",
      "codemirror_mode": {
        "name": "ipython",
        "version": "3"
      },
      "file_extension": ".py",
      "mimetype": "text/x-python",
      "nbconvert_exporter": "python",
      "pygments_lexer": "ipython3",
      "version": "3.10.13"
    }
  }
}