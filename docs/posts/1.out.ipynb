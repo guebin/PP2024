{
  "cells": [
    {
      "cell_type": "markdown",
      "metadata": {},
      "source": [
        "# 3. `numpy`의 랜덤모듈"
      ],
      "id": "d48fee57-de1a-4c4b-895f-ba6a292bda41"
    },
    {
      "cell_type": "code",
      "execution_count": 1,
      "metadata": {
        "tags": []
      },
      "outputs": [],
      "source": [
        "import numpy as np"
      ],
      "id": "1d770eb9-7d71-4ecb-9b7a-ab6e96db464e"
    },
    {
      "cell_type": "markdown",
      "metadata": {},
      "source": [
        "## A. np.random.rand()\n",
        "\n",
        "`-` 0~1 사이의 난수를 생성"
      ],
      "id": "686add2b-e44c-42e8-b75e-832f773f4d78"
    },
    {
      "cell_type": "code",
      "execution_count": 2,
      "metadata": {
        "tags": []
      },
      "outputs": [],
      "source": [
        "np.random.rand(10)"
      ],
      "id": "ef7d469c-27ad-4128-bae7-1b409139f7a4"
    },
    {
      "cell_type": "markdown",
      "metadata": {},
      "source": [
        "`-` 0~2 사이의 난수를 생성"
      ],
      "id": "1f919319-0eb0-4ae4-ac98-b7f19c39f46c"
    },
    {
      "cell_type": "code",
      "execution_count": 4,
      "metadata": {
        "tags": []
      },
      "outputs": [],
      "source": [
        "np.random.rand(10)*2"
      ],
      "id": "d2823f64-e1f0-46ec-ad41-15a85a91bc77"
    },
    {
      "cell_type": "markdown",
      "metadata": {},
      "source": [
        "`-` 1~2사이의 난수를 생성"
      ],
      "id": "06e008b2-01c9-4eb5-93f2-7493a373d340"
    },
    {
      "cell_type": "code",
      "execution_count": 6,
      "metadata": {
        "tags": []
      },
      "outputs": [],
      "source": [
        "np.random.rand(10) + 1"
      ],
      "id": "86bf0ffb-a3a4-4fd1-8b8b-e76d72359e70"
    },
    {
      "cell_type": "markdown",
      "metadata": {},
      "source": [
        "`-` 1~3사이의 난수를 생성"
      ],
      "id": "400881a4-9166-4770-9d51-281551735983"
    },
    {
      "cell_type": "code",
      "execution_count": 8,
      "metadata": {
        "tags": []
      },
      "outputs": [],
      "source": [
        "np.random.rand(10)*2+1 #1~3"
      ],
      "id": "6bb6e9b6-7702-44f7-8d5f-dcba81fda8fb"
    },
    {
      "cell_type": "markdown",
      "metadata": {},
      "source": [
        "## B. np.random.randn()\n",
        "\n",
        "`-` N(0,1)에서 난수생성"
      ],
      "id": "2273ea3a-78b6-420a-af9a-9aed77033512"
    },
    {
      "cell_type": "code",
      "execution_count": 10,
      "metadata": {
        "tags": []
      },
      "outputs": [],
      "source": [
        "np.random.randn(10) # 표준정규분포에서 10개의 샘플 추출"
      ],
      "id": "f9108d46-9ef8-4e2d-a89c-02564180bfc9"
    },
    {
      "cell_type": "markdown",
      "metadata": {},
      "source": [
        "`-` N(1,1)에서 난수생성"
      ],
      "id": "fdd78896-eb04-4d5e-aaff-3e3964cc2bc9"
    },
    {
      "cell_type": "code",
      "execution_count": 13,
      "metadata": {
        "tags": []
      },
      "outputs": [],
      "source": [
        "np.random.randn(10) + 1 "
      ],
      "id": "f62cfb14-6db4-43b7-b262-1516f1e78ec2"
    },
    {
      "cell_type": "markdown",
      "metadata": {},
      "source": [
        "`-` N(0,4)에서 난수생성"
      ],
      "id": "d23f8483-9f3a-4a1c-ae1d-c5361505df91"
    },
    {
      "cell_type": "code",
      "execution_count": 14,
      "metadata": {
        "tags": []
      },
      "outputs": [],
      "source": [
        "np.random.randn(10)*2"
      ],
      "id": "d1153d14-0fa9-4a71-8902-a711c81e00eb"
    },
    {
      "cell_type": "markdown",
      "metadata": {},
      "source": [
        "`-` N(3,4)에서 난수생성"
      ],
      "id": "3d09f695-3ff2-47d4-8ca2-d5ce9c376369"
    },
    {
      "cell_type": "code",
      "execution_count": 15,
      "metadata": {
        "tags": []
      },
      "outputs": [],
      "source": [
        "np.random.randn(10)*2 + 3"
      ],
      "id": "b9121ca8-d757-4278-947f-b933ad76e7b5"
    },
    {
      "cell_type": "markdown",
      "metadata": {},
      "source": [
        "## C. np.random.choice()\n",
        "\n",
        "`-` \\[0,1,2,3,4\\] 에서 임의의 원소를 하나 뽑는 방법"
      ],
      "id": "cbff1686-ad65-4765-8a61-38087110df07"
    },
    {
      "cell_type": "code",
      "execution_count": 35,
      "metadata": {
        "tags": []
      },
      "outputs": [],
      "source": [
        "np.random.choice([0,1,2,3,4])"
      ],
      "id": "5364f0c4-7b50-463f-b3bc-64682e9f1c27"
    },
    {
      "cell_type": "markdown",
      "metadata": {},
      "source": [
        "`-` \\[0,1,2,3,4\\] 에서 30개의 원소를 뽑는 방법"
      ],
      "id": "1585c52e-899d-42fb-bfaf-1f27fb268c9d"
    },
    {
      "cell_type": "code",
      "execution_count": 36,
      "metadata": {
        "tags": []
      },
      "outputs": [],
      "source": [
        "np.random.choice([0,1,2,3,4],size=30)"
      ],
      "id": "59e21068-a44b-46ff-b900-0208f7256aec"
    },
    {
      "cell_type": "code",
      "execution_count": 37,
      "metadata": {
        "tags": []
      },
      "outputs": [],
      "source": [
        "np.random.choice(range(5),size=30)"
      ],
      "id": "84aa3ff5-ab23-48fa-816b-f888ea84cee7"
    },
    {
      "cell_type": "markdown",
      "metadata": {},
      "source": [
        "`-` \\[‘사과’,‘딸기’,‘딸기’,‘배’\\] 에서 10000개의 원소를 뽑는 방법"
      ],
      "id": "079d1e68-0aa5-4f5d-92eb-29213da9c9e9"
    },
    {
      "cell_type": "code",
      "execution_count": 53,
      "metadata": {
        "tags": []
      },
      "outputs": [],
      "source": [
        "lst = list(np.random.choice(['사과','딸기','딸기','배'],size=10000))\n",
        "{s:lst.count(s) for s in set(lst)}"
      ],
      "id": "6fd97a55-4e47-44b8-ae03-353350334774"
    },
    {
      "cell_type": "markdown",
      "metadata": {},
      "source": [
        "`-` \\[‘사과’,‘딸기’,‘딸기’,‘배’\\] 에서 3개의 원소를 중복을 허용하지 않고\n",
        "(= 뽑은걸 다시 넣지 않고) 뽑는 방법"
      ],
      "id": "0376eb57-eb1e-46d2-9543-e96e28ab9d56"
    },
    {
      "cell_type": "code",
      "execution_count": 59,
      "metadata": {
        "tags": []
      },
      "outputs": [],
      "source": [
        "np.random.choice(['사과','딸기','딸기','배'],size=3,replace=False) "
      ],
      "id": "a4c41caf-07fc-4de2-82cb-a65953c22862"
    },
    {
      "cell_type": "code",
      "execution_count": 62,
      "metadata": {
        "tags": []
      },
      "outputs": [],
      "source": [
        "np.random.choice(['사과','딸기','딸기','배'],size=4,replace=False) "
      ],
      "id": "14a0605d-32b8-440d-bc4b-fd3f656c1dbf"
    },
    {
      "cell_type": "code",
      "execution_count": 63,
      "metadata": {
        "tags": []
      },
      "outputs": [],
      "source": [
        "np.random.choice(['사과','딸기','딸기','배'],size=5,replace=False) "
      ],
      "id": "c1978fdb-3e49-44fa-a314-9a321b2b0bbb"
    },
    {
      "cell_type": "markdown",
      "metadata": {},
      "source": [
        "## D. np.random.randint()\n",
        "\n",
        "`-` \\[0,1,2,3\\] 에서 하나의 정수를 뽑는 방법"
      ],
      "id": "9017eabb-bffc-470e-a278-148d55ab8d2b"
    },
    {
      "cell_type": "code",
      "execution_count": 79,
      "metadata": {
        "tags": []
      },
      "outputs": [],
      "source": [
        "#[0,1,2,3] 은 [0,4) 구간에 존재하는 정수로 해석가능함. \n",
        "np.random.randint(low=0,high=4) # = np.random.choice(range(4))"
      ],
      "id": "cec6ebfe-72f8-44a6-a3e5-41b3059b740c"
    },
    {
      "cell_type": "markdown",
      "metadata": {},
      "source": [
        "`-` \\[0,1,2,3\\] 에서 30개의 정수를 뽑는 방법"
      ],
      "id": "27ab75fc-e83a-4dc6-8294-d0b9711c6701"
    },
    {
      "cell_type": "code",
      "execution_count": 81,
      "metadata": {
        "tags": []
      },
      "outputs": [],
      "source": [
        "np.random.randint(low=0,high=4,size=30)"
      ],
      "id": "8d23e971-d791-4b68-9c44-88c31127479a"
    },
    {
      "cell_type": "markdown",
      "metadata": {},
      "source": [
        "## E. 통계분포\n",
        "\n",
        "`-` 균등분포에서 난수생성"
      ],
      "id": "a699cf7b-3a5b-4fab-8f10-c3088dc6a52a"
    },
    {
      "cell_type": "code",
      "execution_count": 84,
      "metadata": {
        "tags": []
      },
      "outputs": [],
      "source": [
        "np.random.uniform(low=0,high=1,size=10) # np.random.rand(10) "
      ],
      "id": "e4d20b87-1896-433a-bc34-0563f00f9d4c"
    },
    {
      "cell_type": "code",
      "execution_count": 86,
      "metadata": {
        "tags": []
      },
      "outputs": [],
      "source": [
        "np.random.uniform(low=0,high=2,size=10) # np.random.rand(10)*2"
      ],
      "id": "52440310-95ec-470e-8425-d9f07d4f3391"
    },
    {
      "cell_type": "code",
      "execution_count": 87,
      "metadata": {
        "tags": []
      },
      "outputs": [],
      "source": [
        "np.random.uniform(low=2,high=4,size=10) # np.random.rand(10)*2+2"
      ],
      "id": "bb9ec2b2-c0a8-48c5-91ca-1ef547902b13"
    },
    {
      "cell_type": "markdown",
      "metadata": {},
      "source": [
        "`-` 정규분포에서 난수생성"
      ],
      "id": "132e7d58-8364-416d-9729-cc91842f3f59"
    },
    {
      "cell_type": "code",
      "execution_count": 91,
      "metadata": {
        "tags": []
      },
      "outputs": [],
      "source": [
        "np.random.normal(loc=0,scale=1,size=10) # np.random.randn(10)"
      ],
      "id": "d1331993-05f8-4c0f-b373-15bbbe164471"
    },
    {
      "cell_type": "code",
      "execution_count": 93,
      "metadata": {
        "tags": []
      },
      "outputs": [],
      "source": [
        "np.random.normal(loc=0,scale=2,size=10) # np.random.randn(10)*2 "
      ],
      "id": "f12f5b0e-e813-4d6e-ab42-62bd6a85d621"
    },
    {
      "cell_type": "code",
      "execution_count": 94,
      "metadata": {
        "tags": []
      },
      "outputs": [],
      "source": [
        "np.random.normal(loc=5,scale=2,size=10) # np.random.randn(10)*2 + 5 "
      ],
      "id": "777914f0-c1f8-4f29-8a25-cbca0892ef7e"
    },
    {
      "cell_type": "markdown",
      "metadata": {},
      "source": [
        "`-` 이항분포"
      ],
      "id": "924cb525-350d-45fa-a8b8-f4f0c83f63a8"
    },
    {
      "cell_type": "code",
      "execution_count": 126,
      "metadata": {
        "tags": []
      },
      "outputs": [],
      "source": [
        "lst = np.random.binomial(n=2, p=0.5, size=10000).tolist()\n",
        "{s:lst.count(s) for s in set(lst)}"
      ],
      "id": "33c5bf24-5b3e-4270-a708-042ba67fd70f"
    },
    {
      "cell_type": "markdown",
      "metadata": {},
      "source": [
        "`-` 포아송분포"
      ],
      "id": "9dbe6bbf-de5e-4ed3-b9ee-28bc8c71597b"
    },
    {
      "cell_type": "code",
      "execution_count": 130,
      "metadata": {
        "tags": []
      },
      "outputs": [],
      "source": [
        "np.random.poisson(lam=1.0,size=100)"
      ],
      "id": "7ee4d4eb-d719-42f7-ae56-c41ce99b351a"
    },
    {
      "cell_type": "markdown",
      "metadata": {},
      "source": [
        "# 4. `numpy` – 기타 유용한 기본기능들\n",
        "\n",
        "## A. np.where, np.argwhere\n",
        "\n",
        "`-` 1차원"
      ],
      "id": "345e1f2e-bea1-401c-b02f-3dcb3393f124"
    },
    {
      "cell_type": "code",
      "execution_count": 133,
      "metadata": {
        "tags": []
      },
      "outputs": [],
      "source": [
        "a = np.array([0,0,0,1,0])\n",
        "a"
      ],
      "id": "ef7ffe39-02f1-48f3-a26a-279a6e93e4fe"
    },
    {
      "cell_type": "code",
      "execution_count": 135,
      "metadata": {
        "tags": []
      },
      "outputs": [],
      "source": [
        "np.where(a==1), np.where(a==0)"
      ],
      "id": "1649a917-eec1-46bd-91be-7c6f5e1a2b25"
    },
    {
      "cell_type": "code",
      "execution_count": 136,
      "metadata": {
        "tags": []
      },
      "outputs": [],
      "source": [
        "np.argwhere(a==1), np.argwhere(a==0)"
      ],
      "id": "f3076460-1a99-485e-a648-1890109e4cd8"
    },
    {
      "cell_type": "markdown",
      "metadata": {},
      "source": [
        "`-` 2차원"
      ],
      "id": "f502d777-95df-45a3-9d03-73f9ea5e622a"
    },
    {
      "cell_type": "code",
      "execution_count": 145,
      "metadata": {
        "tags": []
      },
      "outputs": [],
      "source": [
        "np.random.seed(43052)\n",
        "a = np.random.randn(12).reshape(3,4)\n",
        "a"
      ],
      "id": "fb17587f-f4f3-4d5b-9e15-33d7bc8a03f7"
    },
    {
      "cell_type": "code",
      "execution_count": 146,
      "metadata": {
        "tags": []
      },
      "outputs": [],
      "source": [
        "np.where(a<0),np.argwhere(a<0)"
      ],
      "id": "abcf69af-3d15-4d81-8ab8-a7076b330a6c"
    },
    {
      "cell_type": "code",
      "execution_count": 153,
      "metadata": {
        "tags": []
      },
      "outputs": [],
      "source": [
        "a[1,2],a[1,3],a[2,0],a[2,1],a[2,3] "
      ],
      "id": "ab3deec5-fad6-493c-8444-843aec01a985"
    },
    {
      "cell_type": "markdown",
      "metadata": {},
      "source": [
        "-   인덱스를 읽기에는 np.argwhere 이 편한듯\n",
        "\n",
        "의문: `np.where()`은 필요없는가? –\\> 사실 `np.where()`이\n",
        "`np.argwhere()`보다 쓸만함"
      ],
      "id": "71b6aa7e-acd7-49b3-88f0-7ff3076dd463"
    },
    {
      "cell_type": "code",
      "execution_count": 176,
      "metadata": {
        "tags": []
      },
      "outputs": [],
      "source": [
        "np.random.seed(43052)\n",
        "a = np.random.randn(12).reshape(3,4)\n",
        "a"
      ],
      "id": "4092f72e-3260-49a5-a22c-99a243a55ea6"
    },
    {
      "cell_type": "markdown",
      "metadata": {},
      "source": [
        "*a의 원소중 0보다 작은것을 출력하고 싶다면?*"
      ],
      "id": "baa2482e-f287-4636-aed4-8c62b6dd6f78"
    },
    {
      "cell_type": "code",
      "execution_count": 177,
      "metadata": {
        "tags": []
      },
      "outputs": [],
      "source": [
        "a[np.where(a<0)] # 출력가능"
      ],
      "id": "5b57a65a-64e3-4c50-8a00-3f89d483d3ea"
    },
    {
      "cell_type": "code",
      "execution_count": 178,
      "metadata": {
        "tags": []
      },
      "outputs": [],
      "source": [
        "a[np.argwhere(a<0)] # 출력불가능"
      ],
      "id": "a950aedf-0728-4e1b-9bd5-d3c42cd440bd"
    },
    {
      "cell_type": "markdown",
      "metadata": {},
      "source": [
        "*a의 원소중 0보다 작은것을 0으로 바꾸고 싶다면?*"
      ],
      "id": "74472507-d092-411b-93b6-6e848b4adf5f"
    },
    {
      "cell_type": "code",
      "execution_count": 184,
      "metadata": {
        "tags": []
      },
      "outputs": [],
      "source": [
        "np.random.seed(43052)\n",
        "a = np.random.randn(12).reshape(3,4)\n",
        "a"
      ],
      "id": "dc58f70d-30a0-49d3-9ee3-241aa6607709"
    },
    {
      "cell_type": "code",
      "execution_count": 187,
      "metadata": {
        "tags": []
      },
      "outputs": [],
      "source": [
        "np.where(a<0,0,a) # a<0을 체크 -> 조건에 맞으면 0 -> 조건에 안맞으면 a"
      ],
      "id": "83d4fa51-feff-4e81-b94d-e6d5c567ed5a"
    },
    {
      "cell_type": "code",
      "execution_count": 188,
      "metadata": {
        "tags": []
      },
      "outputs": [],
      "source": [
        "np.where(a<0,0,100) # a<0을 체크 -> 조건에 맞으면 0 -> 조건에 안맞으면 100"
      ],
      "id": "5b9c6b13-6fec-4587-a5e5-42f43dc9b458"
    },
    {
      "cell_type": "markdown",
      "metadata": {},
      "source": [
        "`-` 요약: `np.argwhere()`이 인덱스의 좌표를 읽을때 가독성이 있으나\n",
        "조건에 맞는 원소를 출력하거나 처리할때는 `np.where()`이 유용함.\n",
        "\n",
        "## B. 인덱싱 (실수하지마세요)\n",
        "\n",
        "`-` 아래와 같은 2d-array를 고려하자."
      ],
      "id": "3b2c434e-a9c4-48dd-baae-8654dff15569"
    },
    {
      "cell_type": "code",
      "execution_count": 212,
      "metadata": {
        "tags": []
      },
      "outputs": [],
      "source": [
        "a = np.arange(12).reshape(3,4)\n",
        "a"
      ],
      "id": "260d282b-ab10-4f5c-b1ce-16e70656b315"
    },
    {
      "cell_type": "markdown",
      "metadata": {},
      "source": [
        "`-` 첫번째 행을 뽑을때, 축의 숫자를 줄이고 싶을때도 있고 축의 숫자를\n",
        "유지하고 싶을때도 있음."
      ],
      "id": "b71031d9-65c9-4922-a908-3a483646e19a"
    },
    {
      "cell_type": "code",
      "execution_count": 218,
      "metadata": {
        "tags": []
      },
      "outputs": [],
      "source": [
        "a[0,:] # 첫번째 행을 뽑는코드1 = 축이 하나 줄어든다"
      ],
      "id": "c96f2836-1d0a-41af-973f-7b10ec84b019"
    },
    {
      "cell_type": "code",
      "execution_count": 219,
      "metadata": {
        "tags": []
      },
      "outputs": [],
      "source": [
        "a[[0],:] # 첫번째 행을 뽑는코드2 = 축의 숫자가 유지된다. "
      ],
      "id": "29e10043-9831-4111-b9ad-adf6d08482c8"
    },
    {
      "cell_type": "markdown",
      "metadata": {},
      "source": [
        "`-` 세번째 열을 뽑을때, 축의 숫자를 줄이고 싶을때도 있고 축의 숫자를\n",
        "유지하고 싶을때도 있음."
      ],
      "id": "720fc7ad-1a66-4362-b00c-fb96d0db2d6b"
    },
    {
      "cell_type": "code",
      "execution_count": 215,
      "metadata": {
        "tags": []
      },
      "outputs": [],
      "source": [
        "a[:,2] # 세번째 열을 뽑는코드1 = 축이 하나 줄어든다"
      ],
      "id": "664b8772-2554-4512-97e8-86db8ba036da"
    },
    {
      "cell_type": "code",
      "execution_count": 216,
      "metadata": {
        "tags": []
      },
      "outputs": [],
      "source": [
        "a[:,[2]] # 세번째 열을 뽑는코드2 = 축의 숫자가 유지된다. "
      ],
      "id": "cf91f28a-4ecd-49d6-885a-9a2ad08e97c0"
    },
    {
      "cell_type": "markdown",
      "metadata": {},
      "source": [
        "## C. `np.ix_`"
      ],
      "id": "dbfb8568-3db3-4916-9d0a-b8fbb2911fd1"
    },
    {
      "cell_type": "code",
      "execution_count": 220,
      "metadata": {
        "tags": []
      },
      "outputs": [],
      "source": [
        "a = np.arange(12).reshape(3,4)\n",
        "a"
      ],
      "id": "10f948fb-fa5e-411c-b9bb-fc7980fa2e2c"
    },
    {
      "cell_type": "code",
      "execution_count": 235,
      "metadata": {
        "tags": []
      },
      "outputs": [],
      "source": [
        "a[0:3,0:3]"
      ],
      "id": "62e44d36-0fc8-44e9-909d-cfe7253a9a8e"
    },
    {
      "cell_type": "code",
      "execution_count": 236,
      "metadata": {
        "tags": []
      },
      "outputs": [],
      "source": [
        "a[[0,1,2],0:3]"
      ],
      "id": "72289b0b-c69b-487e-b3c3-e995a5b42c30"
    },
    {
      "cell_type": "code",
      "execution_count": 237,
      "metadata": {
        "tags": []
      },
      "outputs": [],
      "source": [
        "a[0:3,[0,1,2]]"
      ],
      "id": "d5063a24-47e7-44c2-b601-3223f56ecf36"
    },
    {
      "cell_type": "code",
      "execution_count": 238,
      "metadata": {
        "tags": []
      },
      "outputs": [],
      "source": [
        "a[[0,1,2],[0,1,2]] # 이건 왜이래?"
      ],
      "id": "5a8d66ff-932c-4f2f-b7d5-f5b42de0e60f"
    },
    {
      "cell_type": "markdown",
      "metadata": {},
      "source": [
        "`-` 사실 np.where 에서 이러한 결과를 보긴했음"
      ],
      "id": "1bfc0430-be96-4513-b95a-206fb615213e"
    },
    {
      "cell_type": "code",
      "execution_count": 239,
      "metadata": {
        "tags": []
      },
      "outputs": [],
      "source": [
        "a[np.where(a % 5 ==0)]"
      ],
      "id": "53a7fc30-bbc6-4da7-9106-8f8ae1b1b8da"
    },
    {
      "cell_type": "code",
      "execution_count": 240,
      "metadata": {
        "tags": []
      },
      "outputs": [],
      "source": [
        "a[[0,1,2],[0,1,2]] # 이 코드는 a[0:3,0:3] 와 다르다!"
      ],
      "id": "f2b88582-f302-4247-987f-e9516746e7a5"
    },
    {
      "cell_type": "markdown",
      "metadata": {},
      "source": [
        "-   헷갈리게 만든건 맞음. 결론은 실수하면 안됨.\n",
        "\n",
        "`-` 그런데 가끔은 `a[[0,1,2],[0,1,2]]` 이 `a[0:3,0:3]`를 의미하도록 하고\n",
        "싶음."
      ],
      "id": "1c07f9ef-4c87-4dfc-955e-d1c761746549"
    },
    {
      "cell_type": "code",
      "execution_count": 244,
      "metadata": {
        "tags": []
      },
      "outputs": [],
      "source": [
        "a[[0,1,2],[0,1,2]] # 이건 이상하게 동작하는데.."
      ],
      "id": "a44a69f5-a901-4b84-a8f5-16c2ba3b375f"
    },
    {
      "cell_type": "code",
      "execution_count": 246,
      "metadata": {
        "tags": []
      },
      "outputs": [],
      "source": [
        "a[np.ix_([0,1,2],[0,1,2])] # 이건 상식적으로 동작함.."
      ],
      "id": "77e937f8-d937-4463-ab18-5f005ade0a15"
    },
    {
      "cell_type": "markdown",
      "metadata": {},
      "source": [
        "## D. 메소드의 도움말을 자세히 확인하기\n",
        "\n",
        "`-` 넘파이에서 `a.sum()`에 대한 도움말은 `np.sum`을 확인하면 더 자세하게\n",
        "읽을 수 있음.\n",
        "\n",
        "## E. hstack, vstack\n",
        "\n",
        "`-` hstack, vstack을 쓰는 사람도 있다."
      ],
      "id": "ca4ba9b8-cdef-4b10-b4d0-f1dbb1833ad0"
    },
    {
      "cell_type": "code",
      "execution_count": 277,
      "metadata": {
        "tags": []
      },
      "outputs": [],
      "source": [
        "a = np.arange(6)\n",
        "b = -a "
      ],
      "id": "74393f61-b591-4498-9ab2-0fd5388fb04a"
    },
    {
      "cell_type": "code",
      "execution_count": 278,
      "metadata": {
        "tags": []
      },
      "outputs": [],
      "source": [
        "np.vstack([a,b]) # 출력이 2차원\n",
        "# np.stack([a,b],axis=0) -- 이거랑 같은코드"
      ],
      "id": "2a1d4b42-3f70-4596-95cd-b2b4a82ea21f"
    },
    {
      "cell_type": "code",
      "execution_count": 279,
      "metadata": {
        "tags": []
      },
      "outputs": [],
      "source": [
        "np.hstack([a,b]) # 출력이 1차원\n",
        "# np.concatenate([a,b],axis=0) -- 이거랑 같은 코드"
      ],
      "id": "3aca2efb-a591-4310-988e-10dff0269077"
    },
    {
      "cell_type": "markdown",
      "metadata": {},
      "source": [
        "## F. append\n",
        "\n",
        "`-` 이걸 쓰는 사람도 있음\n",
        "\n",
        "`-` 활용방법1: reshape(-1) + concat"
      ],
      "id": "d77b237c-069c-465e-84b1-515f52b80683"
    },
    {
      "cell_type": "code",
      "execution_count": 281,
      "metadata": {
        "tags": []
      },
      "outputs": [],
      "source": [
        "a = np.arange(30).reshape(5,6)\n",
        "b = -np.arange(8).reshape(2,2,2)"
      ],
      "id": "f4887b5d-371a-4e2f-9cd9-53a06714d27e"
    },
    {
      "cell_type": "code",
      "execution_count": 283,
      "metadata": {
        "tags": []
      },
      "outputs": [],
      "source": [
        "a, b"
      ],
      "id": "43a5f3f8-8ed0-492e-a3f8-1bfd14f81dec"
    },
    {
      "cell_type": "code",
      "execution_count": 284,
      "metadata": {
        "tags": []
      },
      "outputs": [],
      "source": [
        "a.shape, b.shape"
      ],
      "id": "9e69cf2b-87ee-491a-a439-3fc23b2c0540"
    },
    {
      "cell_type": "code",
      "execution_count": 290,
      "metadata": {
        "tags": []
      },
      "outputs": [],
      "source": [
        "np.append(a,b)\n",
        "# np.concatenate([a.reshape(-1), b.reshape(-1)]) -- 같은코드"
      ],
      "id": "933e2933-b5a5-4c12-93b1-00c69aadfa35"
    },
    {
      "cell_type": "markdown",
      "metadata": {},
      "source": [
        "`-` 활용방법2: reshape(-1) + concat"
      ],
      "id": "97f16415-110b-4bb7-bc96-1a8a73024991"
    },
    {
      "cell_type": "code",
      "execution_count": 291,
      "metadata": {
        "tags": []
      },
      "outputs": [],
      "source": [
        "a = np.arange(2*3*4).reshape(2,3,4)\n",
        "b = -a"
      ],
      "id": "e7277954-482e-4d3c-9a2a-5b5a842cccb5"
    },
    {
      "cell_type": "code",
      "execution_count": 293,
      "metadata": {
        "tags": []
      },
      "outputs": [],
      "source": [
        "a.shape, b.shape"
      ],
      "id": "cb5cb162-1c20-4b2d-9df7-7ee4f434a4b5"
    },
    {
      "cell_type": "code",
      "execution_count": 300,
      "metadata": {
        "tags": []
      },
      "outputs": [],
      "source": [
        "np.append(a,b,axis=0)\n",
        "#np.concatenate([a,b],axis=0) -- 이거랑 같은코드"
      ],
      "id": "d379a5a6-9aeb-4d06-8dff-9bd79239dbcb"
    },
    {
      "cell_type": "markdown",
      "metadata": {},
      "source": [
        "*append와 concat은 약간의 차이가 있음 – append는 3개이상을 concat할 수\n",
        "없음.*"
      ],
      "id": "948d968b-b3af-4a22-9ac4-321e915c993c"
    },
    {
      "cell_type": "code",
      "execution_count": 301,
      "metadata": {
        "tags": []
      },
      "outputs": [],
      "source": [
        "a = np.arange(2*3*4).reshape(2,3,4)\n",
        "b = -a\n",
        "c = 2*a"
      ],
      "id": "84b94b86-8fbf-4b25-9d18-c1b2c22604bd"
    },
    {
      "cell_type": "code",
      "execution_count": 306,
      "metadata": {
        "tags": []
      },
      "outputs": [],
      "source": [
        "np.concatenate([a,b,c],axis=0)"
      ],
      "id": "581b9180-e31e-4b05-8c0f-aa55b5499ffb"
    },
    {
      "cell_type": "code",
      "execution_count": 307,
      "metadata": {
        "tags": []
      },
      "outputs": [],
      "source": [
        "np.append(a,b,c,axis=0) # 3개는 에러.."
      ],
      "id": "c615a4a8-8fc8-43bc-8945-87fc6c543f32"
    },
    {
      "cell_type": "markdown",
      "metadata": {},
      "source": [
        "## G. ravel, faltten"
      ],
      "id": "c171dffc-e84c-498e-81d5-c2630cd3d5f1"
    },
    {
      "cell_type": "code",
      "execution_count": 308,
      "metadata": {
        "tags": []
      },
      "outputs": [],
      "source": [
        "a = np.arange(2*3*4).reshape(2,3,4)\n",
        "a"
      ],
      "id": "e3942922-7b82-45b6-8fe7-b3aa35e505d8"
    },
    {
      "cell_type": "code",
      "execution_count": 311,
      "metadata": {
        "tags": []
      },
      "outputs": [],
      "source": [
        "a.reshape(-1)"
      ],
      "id": "042c8bae-8f29-4df3-949d-4e323a0f9cc4"
    },
    {
      "cell_type": "code",
      "execution_count": 312,
      "metadata": {
        "tags": []
      },
      "outputs": [],
      "source": [
        "a.ravel()"
      ],
      "id": "b10ebdc7-2872-42f8-9d24-32fa64903d59"
    },
    {
      "cell_type": "code",
      "execution_count": 313,
      "metadata": {
        "tags": []
      },
      "outputs": [],
      "source": [
        "a.flatten()"
      ],
      "id": "c51ca844-b501-4752-9f80-8cf58ae2920f"
    },
    {
      "cell_type": "markdown",
      "metadata": {},
      "source": [
        "## H. 통계관련 함수들\n",
        "\n",
        "`-` 평균, 중앙값"
      ],
      "id": "1cc03802-2db7-44b7-8dc3-1fa917486161"
    },
    {
      "cell_type": "code",
      "execution_count": 321,
      "metadata": {
        "tags": []
      },
      "outputs": [],
      "source": [
        "a = np.random.randn(1000)*2 + 1 \n",
        "a.mean(), np.median(a)"
      ],
      "id": "4d012cdf-1451-4b04-85c3-f937160b3aae"
    },
    {
      "cell_type": "markdown",
      "metadata": {},
      "source": [
        "`-` 표준편차, 분산"
      ],
      "id": "733a672e-f731-4720-985a-a3f6a4cc05d1"
    },
    {
      "cell_type": "code",
      "execution_count": 322,
      "metadata": {
        "tags": []
      },
      "outputs": [],
      "source": [
        "a = np.random.randn(1000)*2 + 1 \n",
        "a.var(), a.std()"
      ],
      "id": "5d55ad90-9133-4f24-98c6-abe046628aab"
    },
    {
      "cell_type": "code",
      "execution_count": 323,
      "metadata": {
        "tags": []
      },
      "outputs": [],
      "source": [
        "# 자유도의 조절\n",
        "a.var(ddof=1), a.std(ddof=1)"
      ],
      "id": "bf362302-c2fc-4dda-86f3-15d7b86c856b"
    },
    {
      "cell_type": "markdown",
      "metadata": {},
      "source": [
        "`-` corr matrix, cov matrix"
      ],
      "id": "48dc1292-28e1-454b-a6db-e575550cf2a6"
    },
    {
      "cell_type": "code",
      "execution_count": 328,
      "metadata": {
        "tags": []
      },
      "outputs": [],
      "source": [
        "x = np.random.randn(10000)\n",
        "y = np.random.randn(10000)*2\n",
        "z = np.random.randn(10000)*0.5"
      ],
      "id": "ac3d495d-eeea-463e-b492-0faf3e12dce6"
    },
    {
      "cell_type": "code",
      "execution_count": 329,
      "metadata": {
        "tags": []
      },
      "outputs": [],
      "source": [
        "np.cov([x,y,z]).round(2)"
      ],
      "id": "c845802c-9638-4876-aba9-d5e4354a0eb5"
    },
    {
      "cell_type": "code",
      "execution_count": 330,
      "metadata": {
        "tags": []
      },
      "outputs": [],
      "source": [
        "np.corrcoef([x,y,z]).round(2)"
      ],
      "id": "3f4ba774-bac3-4cc6-a885-7eac6694fdba"
    },
    {
      "cell_type": "markdown",
      "metadata": {},
      "source": [
        "## I. `dtype`\n",
        "\n",
        "`-` np.array 에는 항상 dtype이 있다."
      ],
      "id": "6f60f56c-9ca9-4c6f-a05a-0f1090011f09"
    },
    {
      "cell_type": "code",
      "execution_count": 338,
      "metadata": {
        "tags": []
      },
      "outputs": [],
      "source": [
        "a = np.array([1,2,3])\n",
        "a.dtype"
      ],
      "id": "8a73538d-8b37-4894-80b2-10aaa14825fc"
    },
    {
      "cell_type": "code",
      "execution_count": 339,
      "metadata": {
        "tags": []
      },
      "outputs": [],
      "source": [
        "a = np.array([1.0, 2.0, 3.0])\n",
        "a.dtype"
      ],
      "id": "6b2f93c9-e639-40f1-82d3-383ad69f9689"
    },
    {
      "cell_type": "markdown",
      "metadata": {},
      "source": [
        "`-` 같은 int라고 해도 int16, int32, int64와 같이 타입이 다를 수 있다."
      ],
      "id": "fbbf2c92-aadb-40bc-9f57-e07c0d25b934"
    },
    {
      "cell_type": "code",
      "execution_count": 343,
      "metadata": {
        "tags": []
      },
      "outputs": [],
      "source": [
        "a = np.array([1,2,3], dtype=np.int64)\n",
        "a"
      ],
      "id": "1e686f8b-9edf-43e1-a233-e4e986873630"
    },
    {
      "cell_type": "code",
      "execution_count": 344,
      "metadata": {
        "tags": []
      },
      "outputs": [],
      "source": [
        "a = np.array([1,2,3], dtype=np.int32)\n",
        "a"
      ],
      "id": "1324edcd-22a4-410f-8f78-75cd02c259b4"
    },
    {
      "cell_type": "code",
      "execution_count": 345,
      "metadata": {
        "tags": []
      },
      "outputs": [],
      "source": [
        "a = np.array([1,2,3], dtype=np.int16)\n",
        "a"
      ],
      "id": "8a060449-d0c0-462f-a8ae-5d20974fb51f"
    },
    {
      "cell_type": "markdown",
      "metadata": {},
      "source": [
        "`-` 같은 float라고 해도 float16, float32, float64와 같이 타입이 다를 수\n",
        "있다."
      ],
      "id": "e141e7ce-1728-486b-ad1a-9f0e49128eb9"
    },
    {
      "cell_type": "code",
      "execution_count": 351,
      "metadata": {
        "tags": []
      },
      "outputs": [],
      "source": [
        "a = np.array([1,2,3], dtype=np.float64)\n",
        "a"
      ],
      "id": "e0e8924c-886e-47f4-8a93-891371566cff"
    },
    {
      "cell_type": "code",
      "execution_count": 347,
      "metadata": {
        "tags": []
      },
      "outputs": [],
      "source": [
        "a = np.array([1,2,3], dtype=np.float32)\n",
        "a"
      ],
      "id": "49666168-d3a5-4a50-9d2d-6260e45b52d9"
    },
    {
      "cell_type": "code",
      "execution_count": 348,
      "metadata": {
        "tags": []
      },
      "outputs": [],
      "source": [
        "a = np.array([1,2,3], dtype=np.float16)\n",
        "a"
      ],
      "id": "60b46170-f081-44a1-b6b7-f5edd3314ee6"
    },
    {
      "cell_type": "markdown",
      "metadata": {},
      "source": [
        "`-` `dtype`은 아래와 같은 방법으로 변환할 수 있다."
      ],
      "id": "5f307d6a-1ec5-4fa3-b7d4-939651d4900b"
    },
    {
      "cell_type": "code",
      "execution_count": 352,
      "metadata": {
        "tags": []
      },
      "outputs": [],
      "source": [
        "a = np.array([1,2,3])\n",
        "a"
      ],
      "id": "9ccecfab-063e-4332-bf5b-ebc5978ca753"
    },
    {
      "cell_type": "code",
      "execution_count": 353,
      "metadata": {
        "tags": []
      },
      "outputs": [],
      "source": [
        "a.dtype"
      ],
      "id": "97f3ceaa-f9b6-4c9c-8300-bc65a5d056a0"
    },
    {
      "cell_type": "code",
      "execution_count": 356,
      "metadata": {
        "tags": []
      },
      "outputs": [],
      "source": [
        "b = a.astype(np.float64)"
      ],
      "id": "5132dfe3-1ff0-4533-b699-56ee3c19deee"
    },
    {
      "cell_type": "code",
      "execution_count": 358,
      "metadata": {
        "tags": []
      },
      "outputs": [],
      "source": [
        "a, b"
      ],
      "id": "eae85df8-3c55-42e4-8c67-1353cc8d96af"
    },
    {
      "cell_type": "markdown",
      "metadata": {},
      "source": [
        "`-` 문자열이 넘파이의 원소로 있는 경우"
      ],
      "id": "4682d05f-a16a-480f-884a-156932413896"
    },
    {
      "cell_type": "code",
      "execution_count": 368,
      "metadata": {
        "tags": []
      },
      "outputs": [],
      "source": [
        "a = np.array(['a','b','c'])\n",
        "a"
      ],
      "id": "cac43256-bf39-4e6f-885e-5b70dc8d675b"
    },
    {
      "cell_type": "code",
      "execution_count": 369,
      "metadata": {
        "tags": []
      },
      "outputs": [],
      "source": [
        "a = np.array(['aa','b','c'])\n",
        "a"
      ],
      "id": "9195c542-5e19-4b7e-976e-35c6e7b4b9c6"
    },
    {
      "cell_type": "code",
      "execution_count": 370,
      "metadata": {
        "tags": []
      },
      "outputs": [],
      "source": [
        "a = np.array(['aaaa','b','c'])\n",
        "a"
      ],
      "id": "ba666f78-b977-4f96-8cd2-fba9064990d0"
    },
    {
      "cell_type": "markdown",
      "metadata": {},
      "source": [
        "`-` 문자열+숫자의혼합 -\\> 각 원소의 자료형이 문자열로 통일됨"
      ],
      "id": "aef0fc10-bb57-4dd9-91a7-dfc024842e6c"
    },
    {
      "cell_type": "code",
      "execution_count": 373,
      "metadata": {
        "tags": []
      },
      "outputs": [],
      "source": [
        "a = np.array([['Korea', 89],['Japan', 55]])\n",
        "a"
      ],
      "id": "ad68d254-2015-4d13-af90-ce3abc8094c6"
    },
    {
      "cell_type": "code",
      "execution_count": 376,
      "metadata": {
        "tags": []
      },
      "outputs": [],
      "source": [
        "a[0,1] # 이것이 string으로 저장되어있다."
      ],
      "id": "0775350b-f5ca-4467-bb67-d58394efd643"
    },
    {
      "cell_type": "code",
      "execution_count": 379,
      "metadata": {
        "tags": []
      },
      "outputs": [],
      "source": [
        "a[:,[1]].astype(np.int64)"
      ],
      "id": "cf8999a9-31b8-4b8f-a6a8-9748bdaf1fb1"
    },
    {
      "cell_type": "markdown",
      "metadata": {},
      "source": [
        "## J. 브로드캐스팅과 시간측정\n",
        "\n",
        "(예비학습)"
      ],
      "id": "7941c623-21a8-438f-91b9-27f42aca088d"
    }
  ],
  "nbformat": 4,
  "nbformat_minor": 5,
  "metadata": {
    "kernelspec": {
      "name": "python3",
      "display_name": "Python 3 (ipykernel)",
      "language": "python"
    },
    "language_info": {
      "name": "python",
      "codemirror_mode": {
        "name": "ipython",
        "version": "3"
      },
      "file_extension": ".py",
      "mimetype": "text/x-python",
      "nbconvert_exporter": "python",
      "pygments_lexer": "ipython3",
      "version": "3.10.13"
    }
  }
}