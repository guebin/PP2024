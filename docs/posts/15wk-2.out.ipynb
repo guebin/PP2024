{
  "cells": [
    {
      "cell_type": "markdown",
      "metadata": {},
      "source": [
        "# 15wk-2: 기말고사 (예상문제)\n",
        "\n",
        "최규빈  \n",
        "2024-06-21\n",
        "\n",
        "<a href=\"https://colab.research.google.com/github/guebin/PP2024/blob/main/posts/15wk-2.ipynb\"><img src=\"https://colab.research.google.com/assets/colab-badge.svg\" style=\"text-align: left\"></a>"
      ],
      "id": "3d59a124-a5a4-40da-992b-a34c0c1faee9"
    },
    {
      "cell_type": "code",
      "execution_count": 575,
      "metadata": {
        "tags": []
      },
      "outputs": [],
      "source": [
        "import numpy as np\n",
        "import pandas as pd\n",
        "import matplotlib.pyplot as plt"
      ],
      "id": "55101797-04a2-4d0d-a83b-4504392062e1"
    },
    {
      "cell_type": "markdown",
      "metadata": {},
      "source": [
        "# 1. 공든 탑 쌓기 – 150점\n",
        "\n",
        "`(1)` 아래와 같은 기능을 하도록 `Base` 클래스를 만들어라.\n",
        "\n",
        "`# 예시1`"
      ],
      "id": "bc2d028c-cf98-4bb4-b6b5-645250945f52"
    },
    {
      "cell_type": "code",
      "execution_count": 663,
      "metadata": {
        "tags": []
      },
      "outputs": [],
      "source": [
        "다호 = Base(end_condition=5,name=\"다호\")"
      ],
      "id": "983a45fd-7bd8-4cec-9ab2-48d44cf73e33"
    },
    {
      "cell_type": "code",
      "execution_count": 664,
      "metadata": {
        "tags": []
      },
      "outputs": [],
      "source": [
        "다호"
      ],
      "id": "cdb996bc-a41d-4f51-a788-f032cb397ac4"
    },
    {
      "cell_type": "code",
      "execution_count": 665,
      "metadata": {
        "tags": []
      },
      "outputs": [],
      "source": [
        "다호.탑쌓기()"
      ],
      "id": "20205857-8916-4af0-aa6a-aed2bb3c03df"
    },
    {
      "cell_type": "code",
      "execution_count": 666,
      "metadata": {
        "tags": []
      },
      "outputs": [],
      "source": [
        "다호"
      ],
      "id": "9b6379e6-4298-4681-ba9a-fc2570a65ebf"
    },
    {
      "cell_type": "code",
      "execution_count": 667,
      "metadata": {
        "tags": []
      },
      "outputs": [],
      "source": [
        "다호.탑쌓기()"
      ],
      "id": "de8cc0c2-89da-4f9a-ae6e-b807df98ef3a"
    },
    {
      "cell_type": "code",
      "execution_count": 668,
      "metadata": {
        "tags": []
      },
      "outputs": [],
      "source": [
        "다호"
      ],
      "id": "90a94e59-1afc-45de-8913-07fac0d9d1e8"
    },
    {
      "cell_type": "markdown",
      "metadata": {},
      "source": [
        "`#`\n",
        "\n",
        "`# 예시2`"
      ],
      "id": "10aacbc4-1043-4ff2-89dc-fe38c91c8f6f"
    },
    {
      "cell_type": "code",
      "execution_count": 669,
      "metadata": {
        "tags": []
      },
      "outputs": [],
      "source": [
        "하니 = Base(end_condition=5,name=\"하니\")"
      ],
      "id": "f3c56df0-8d4c-49bd-976c-4f427d8fcff4"
    },
    {
      "cell_type": "code",
      "execution_count": 670,
      "metadata": {
        "tags": []
      },
      "outputs": [],
      "source": [
        "for _ in range(5):\n",
        "    하니.탑쌓기()"
      ],
      "id": "7128d226-94ac-4a96-af2e-34344a865e30"
    },
    {
      "cell_type": "code",
      "execution_count": 671,
      "metadata": {
        "tags": []
      },
      "outputs": [],
      "source": [
        "하니 # 목표치에 도달하여 완성상태가 변경"
      ],
      "id": "a2b07d07-f64d-460d-be44-a321a476c266"
    },
    {
      "cell_type": "code",
      "execution_count": 672,
      "metadata": {
        "tags": []
      },
      "outputs": [],
      "source": [
        "for _ in range(5):\n",
        "    하니.탑쌓기()"
      ],
      "id": "4599c780-875a-425e-8449-812cba733525"
    },
    {
      "cell_type": "code",
      "execution_count": 673,
      "metadata": {
        "tags": []
      },
      "outputs": [],
      "source": [
        "하니 # 목표치에 도달하여 더이상 탑이 쌓이지 않았음"
      ],
      "id": "a94ff7e8-eb03-40ed-84fb-9792182c3977"
    },
    {
      "cell_type": "markdown",
      "metadata": {},
      "source": [
        "`#`\n",
        "\n",
        "`# 예시3`"
      ],
      "id": "4ef35774-2fec-4359-a353-8f15c8fde389"
    },
    {
      "cell_type": "code",
      "execution_count": 674,
      "metadata": {
        "tags": []
      },
      "outputs": [],
      "source": [
        "다호 = Base(end_condition=5,name=\"다호\")\n",
        "하니 = Base(end_condition=5,name=\"하니\")"
      ],
      "id": "45d34795-4611-4340-8ae6-21bc1531b912"
    },
    {
      "cell_type": "code",
      "execution_count": 675,
      "metadata": {
        "tags": []
      },
      "outputs": [],
      "source": [
        "다호.탑쌓기()\n",
        "다호"
      ],
      "id": "760f3d37-715a-4786-b2aa-d29f07a0479f"
    },
    {
      "cell_type": "code",
      "execution_count": 676,
      "metadata": {
        "tags": []
      },
      "outputs": [],
      "source": [
        "다호 > 하니, 다호 < 하니 # 현재높이비교"
      ],
      "id": "9b2c06a6-7c81-410f-8178-90ca5bb8eb9a"
    },
    {
      "cell_type": "code",
      "execution_count": 677,
      "metadata": {
        "tags": []
      },
      "outputs": [],
      "source": [
        "하니.탑쌓기()\n",
        "하니.탑쌓기()\n",
        "하니"
      ],
      "id": "1b55d81d-e532-4bf5-9266-a7b2862bd043"
    },
    {
      "cell_type": "code",
      "execution_count": 678,
      "metadata": {
        "tags": []
      },
      "outputs": [],
      "source": [
        "다호 > 하니, 다호 < 하니 # 현재높이비교"
      ],
      "id": "f8eb751f-5523-465c-8724-785fb16082fe"
    },
    {
      "cell_type": "markdown",
      "metadata": {},
      "source": [
        "`#`\n",
        "\n",
        "`# 예시4`"
      ],
      "id": "d13d9609-6588-4d60-9f0e-5518947ca33e"
    },
    {
      "cell_type": "code",
      "execution_count": 679,
      "metadata": {
        "tags": []
      },
      "outputs": [],
      "source": [
        "다호 = Base(end_condition=5,name=\"다호\")\n",
        "하니 = Base(end_condition=5,name=\"하니\")"
      ],
      "id": "a92e8457-c52c-4f36-8be0-0e00fa75b153"
    },
    {
      "cell_type": "code",
      "execution_count": 680,
      "metadata": {
        "tags": []
      },
      "outputs": [],
      "source": [
        "다호.탑쌓기()\n",
        "다호"
      ],
      "id": "1aeee44b-e4b0-4664-b5c8-6f33ad211571"
    },
    {
      "cell_type": "code",
      "execution_count": 681,
      "metadata": {
        "tags": []
      },
      "outputs": [],
      "source": [
        "다호 > 하니, 다호 < 하니"
      ],
      "id": "38a798a9-8c72-4f19-ad50-23e7ac3b424b"
    },
    {
      "cell_type": "code",
      "execution_count": 682,
      "metadata": {
        "tags": []
      },
      "outputs": [],
      "source": [
        "다호 >> 하니, 다호 << 하니 # 승리조건 체크 (다호가 1층 높지만 어느 누구도 승리상태아님)"
      ],
      "id": "6cb9ade1-b551-4d73-9b52-5a3195cf590c"
    },
    {
      "cell_type": "code",
      "execution_count": 683,
      "metadata": {
        "tags": []
      },
      "outputs": [],
      "source": [
        "하니.탑쌓기()\n",
        "하니.탑쌓기()\n",
        "하니"
      ],
      "id": "792ed274-5112-4366-822e-015cbc5593fb"
    },
    {
      "cell_type": "code",
      "execution_count": 684,
      "metadata": {
        "tags": []
      },
      "outputs": [],
      "source": [
        "다호 > 하니, 다호 < 하니"
      ],
      "id": "57d54414-4de9-42db-a2c5-8bd62f98ff7d"
    },
    {
      "cell_type": "code",
      "execution_count": 685,
      "metadata": {
        "tags": []
      },
      "outputs": [],
      "source": [
        "다호 >> 하니, 다호 << 하니 # 승리조건 체크 (하니가 1층 높지만 어느 누구도 승리상태아님)"
      ],
      "id": "2f51f890-d386-4fa3-80dc-5583ae446056"
    },
    {
      "cell_type": "code",
      "execution_count": 686,
      "metadata": {
        "tags": []
      },
      "outputs": [],
      "source": [
        "다호.탑쌓기()\n",
        "다호.탑쌓기()\n",
        "다호.탑쌓기()\n",
        "다호.탑쌓기()"
      ],
      "id": "1512acef-9978-4ab3-ae06-449c2e856db7"
    },
    {
      "cell_type": "code",
      "execution_count": 687,
      "metadata": {
        "tags": []
      },
      "outputs": [],
      "source": [
        "다호 # 다호가 탑을 완성함. 승리조건 달성"
      ],
      "id": "2ce0d22c-a91f-48e6-9a0a-d93f51ac11da"
    },
    {
      "cell_type": "code",
      "execution_count": 688,
      "metadata": {
        "tags": []
      },
      "outputs": [],
      "source": [
        "다호 >> 하니, 다호 << 하니 # 승리조건 체크 -- 다호의 승리"
      ],
      "id": "7e02c6a0-44ed-461b-88c7-2b263cad26ec"
    },
    {
      "cell_type": "markdown",
      "metadata": {},
      "source": [
        "`#`\n",
        "\n",
        "`(2)` `Base`를 상속받아 예시와 같은 `Guebin` 클래스를 만들어라.\n",
        "\n",
        "`# 예시1`"
      ],
      "id": "9e2c8f27-4720-4f5a-bb66-cf8e98a3709d"
    },
    {
      "cell_type": "code",
      "execution_count": 730,
      "metadata": {
        "tags": []
      },
      "outputs": [],
      "source": [
        "규빈 = Guebin(name=\"규빈\",end_condition=5)"
      ],
      "id": "7183ab08-42f7-4097-ab91-6ff6ebdbf610"
    },
    {
      "cell_type": "code",
      "execution_count": 731,
      "metadata": {
        "tags": []
      },
      "outputs": [],
      "source": [
        "규빈.prob"
      ],
      "id": "f4b59575-a291-484f-939a-002b7ba5d2b0"
    },
    {
      "cell_type": "code",
      "execution_count": 732,
      "metadata": {
        "tags": []
      },
      "outputs": [],
      "source": [
        "규빈"
      ],
      "id": "1eb57b2c-259d-47fa-9b9b-c6c69193d351"
    },
    {
      "cell_type": "code",
      "execution_count": 733,
      "metadata": {
        "tags": []
      },
      "outputs": [],
      "source": [
        "규빈.prob = 0.8"
      ],
      "id": "d4d09484-d396-4a0b-b257-af30fdee06b2"
    },
    {
      "cell_type": "code",
      "execution_count": 734,
      "metadata": {
        "tags": []
      },
      "outputs": [],
      "source": [
        "규빈"
      ],
      "id": "23b86454-0f17-421f-85e5-da317dcbd0dc"
    },
    {
      "cell_type": "markdown",
      "metadata": {},
      "source": [
        "`#`\n",
        "\n",
        "`# 예시2`"
      ],
      "id": "791f580a-28da-41a5-bc55-46aa7039bf48"
    },
    {
      "cell_type": "code",
      "execution_count": 745,
      "metadata": {
        "tags": []
      },
      "outputs": [],
      "source": [
        "규빈 = Guebin(name=\"규빈\",end_condition=5)"
      ],
      "id": "be09ce21-e0fb-4867-b6ee-5003f543a4b4"
    },
    {
      "cell_type": "code",
      "execution_count": 746,
      "metadata": {
        "tags": []
      },
      "outputs": [],
      "source": [
        "규빈.탑쌓기()\n",
        "규빈"
      ],
      "id": "d5296bf5-13a3-4e4b-9718-a070a12efa62"
    },
    {
      "cell_type": "code",
      "execution_count": 747,
      "metadata": {
        "tags": []
      },
      "outputs": [],
      "source": [
        "for _ in range(10):\n",
        "    규빈.탑쌓기()"
      ],
      "id": "ab1c86ea-d777-4075-b2f8-9d52ac626649"
    },
    {
      "cell_type": "code",
      "execution_count": 748,
      "metadata": {
        "tags": []
      },
      "outputs": [],
      "source": [
        "규빈"
      ],
      "id": "91b0e9a2-a1e3-4457-9133-936852a67bc7"
    },
    {
      "cell_type": "markdown",
      "metadata": {},
      "source": [
        "`#`"
      ],
      "id": "d36d3b34-704a-4b84-bc65-a2f6ed69bb51"
    }
  ],
  "nbformat": 4,
  "nbformat_minor": 5,
  "metadata": {
    "kernelspec": {
      "name": "python3",
      "display_name": "Python 3 (ipykernel)",
      "language": "python"
    },
    "language_info": {
      "name": "python",
      "codemirror_mode": {
        "name": "ipython",
        "version": "3"
      },
      "file_extension": ".py",
      "mimetype": "text/x-python",
      "nbconvert_exporter": "python",
      "pygments_lexer": "ipython3",
      "version": "3.10.13"
    }
  }
}