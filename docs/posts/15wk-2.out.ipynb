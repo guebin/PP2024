{
  "cells": [
    {
      "cell_type": "markdown",
      "metadata": {},
      "source": [
        "# 15wk-2: 기말고사대비 연습\n",
        "\n",
        "최규빈  \n",
        "2024-06-20\n",
        "\n",
        "<a href=\"https://colab.research.google.com/github/guebin/PP2024/blob/main/posts/15wk-2.ipynb\"><img src=\"https://colab.research.google.com/assets/colab-badge.svg\" style=\"text-align: left\"></a>\n",
        "\n",
        "# 기말고사 관련 공지\n",
        "\n",
        "`-` 기말고사는 공든탑 쌓기 관련문제 150점, 퀴즈스타일의 문제 50점 으로\n",
        "구성될 예정입니다. 퀴즈스타일의 문제는 이전 퀴즈들 수준으로 낼\n",
        "예정입니다. 공든탑쌓기는 어렵게 낼 예정입니다.\n",
        "\n",
        "`-` 퀴즈스타일 문제 (50점)에 대한 추가 설명\n",
        "\n",
        "-   14wk-2의 내용위주로 나옵니다.\n",
        "-   유형은 퀴즈8,퀴즈9,퀴즈10과 유사합니다. 즉 특정구문의 문법을 제대로\n",
        "    익혔는지 판단합니다.\n",
        "-   유사한 기능이지만 문제에서 원하는 제약대로 구현하지 않을시 감점이\n",
        "    크거나 0점처리합니다. (예시: 클래스를 사용하라 했는데 안한경우,\n",
        "    제너레이터를 구현하라고 했는데 이터레이터를 구현한 경우,\n",
        "    데코레이터를 이용하라고 했지만 이용하지 않고 유사한 기능만 구현한\n",
        "    경우 등)\n",
        "\n",
        "`-` 공든탑 쌓기 (150점) 문제유형 + 채점방식 설명\n",
        "\n",
        "-   퀴즈와 같이 특정기능을 하는 클래스를 구현하는 문제는 안나옵니다.\n",
        "    예륻들면 기말고사 예상문제중 (1),(2),(3),(6),(7),(8) 와 같은\n",
        "    스타일의 문제는 안나옵니다.\n",
        "-   나오는 유형은 중간고사 3번문항과 동일하며, 기말고사 예상문제중\n",
        "    (4)-(5) 와 같은 스타일입니다.\n",
        "-   채점방식은 중간고사와 동일합니다. 즉 다호/규빈의 유불리를 정확하게\n",
        "    시뮬레이션으로 계산한것만 정답으로 인정합니다.\n",
        "-   따라서 (4)-(5) 와 같은 유형의 스타일이 어떠한 방식으로 나오더라도\n",
        "    빠르게 풀 수 있도록 (1),(2),(3),(6),(7),(8)의 클래스를 본인 스스로\n",
        "    잘 설계하길 바랍니다.\n",
        "\n",
        "`-` 공든탑 쌓기 문제를 잘 풀기 위한 공부전략\n",
        "\n",
        "-   저는 클래스는 밈이라고 설명했으며, 클래스를 설계하는 목적은 코드를\n",
        "    (밈처럼) 재사용하기 용이하게 하기 위함이라 했습니다.\n",
        "-   기말고사는 이 원칙을 잘 전달하기 위해 고안되었습니다. 즉 “어떠한\n",
        "    문제상황이 생길지 **미리 예상하고** 클래스를 잘 디자인하는 능력” 을\n",
        "    가장 중요하게 체크합니다. 복사 및 재생성, 수정 및 재사용이 유리한\n",
        "    구조가 뭔지 스스로 답을 찾아서 고민하세요. 이는 실제 취업후 근무할\n",
        "    회사에서도 가장 중요한 능력이며 (제 경함상), GPT가 흉내내기 어려운\n",
        "    영역입니다.\n",
        "-   무조건 나올것 같은 기능은 미리 구현해두는것도 좋은 방법입니다.\n",
        "    (예를들면 둘이 대결하고 대결 결과를 기록하는 코드들)\n",
        "\n",
        "`-` 공든탑 쌓기 플레이어 속성 설명\n",
        "\n",
        "-   시험에서 등장가능한 플레이어는 “다호”,“애교다호”,“울보다호” //\n",
        "    “규빈”,“공격규빈”,“수련규빈” 6개의 종류입니다.\n",
        "-   플레이의의 세부속성은 실제문제에서는 밸런스를 위해 변경될 수\n",
        "    있습니다. 예를들면 애교는 규빈의 탑쌓기 성공률이 90퍼 이상일경우\n",
        "    무조건 발동한다는등.. 이건 제가 테스트를 좀 해보고 19일에 어느정도\n",
        "    정리하여 다시 올리겠습니다.\n",
        "-   아마 눈치챘겠지만 플레이어간 상성이 있습니다. 탑의 최종적으로 완성할\n",
        "    탑의 높이가 높은 상황을 가정하면 (1) 규빈은 다호에게 약합니다. (한번\n",
        "    실패하면 탑이 다 무너지니까..) (2) 공격규빈은 다호에게 강합니다 (3)\n",
        "    울보다호는 공격규빈의 카운터 입니다 (4) 수련규빈은 다호보다\n",
        "    강합니다. (5) 울보다호는 수련규빈과 대결시 아무런 특수기술이 없는\n",
        "    셈입니다 // 와 같은 특징이 있겠죠..\n",
        "\n",
        "`-` 공든탑 쌓기 문제에 대한 기타 상황\n",
        "\n",
        "-   거의 GPT가 반쯤 열린 시험이라 생각하시면 됩니다.\n",
        "-   배운코드만 활용하라는 제약은 없습니다. (예를들어 `>>` 연산을\n",
        "    재정의하기 위해선 안배운걸 찾아서 써야하죠, GPT에서 물어보고 알아서\n",
        "    찾아서 쓰세요. 그동안 배운 기능 위주로 풀어야 쉽게 풀리도록 문제를\n",
        "    낸건 저학년들을 위한 약간의 배려였습니다.. 안그러면 고학년들에게\n",
        "    썰릴테니까요)\n",
        "-   예시들을 완벽하게 구현할 필요 없고 문제뜻에 맞추어서 생각하시면\n",
        "    됩니다. 예를들어 (1) 쌓으려는 층이 5층일 경우, 규빈이 연속3번\n",
        "    성공하면 탑의 높이를 6층으로 봐야할지 5층으로 봐야할지? (2) `>>`는\n",
        "    특정인물이 승리하였을 경우만 True를 리턴하게 할까? 아니면 승리 혹은\n",
        "    무승부일경우에 True를 리턴하게 할까? 등등은 꼭 예시대로 할 필요 없이\n",
        "    알아서 설계하시기 바랍니다. 어떤 문제가 나와도 잘 풀 수 있게요.\n",
        "\n",
        "`-` 잔소리1: 정보를 디스플레이 할때 아래를 쓰면 저는 좋더라고요..\n",
        "(약간의 힌트?)"
      ],
      "id": "4c3bd526-9562-4fd0-9a77-77036d29ab43"
    },
    {
      "cell_type": "code",
      "execution_count": 918,
      "metadata": {
        "tags": []
      },
      "outputs": [
        {
          "output_type": "stream",
          "name": "stdout",
          "text": [
            "이름: 규빈\n",
            "목표높이: 5\n",
            "현재높이: 2\n",
            "진행횟수: 1\n",
            "완성상태: False"
          ]
        }
      ],
      "source": [
        "text = \"\\n\".join([\n",
        "    \"이름: 규빈\",\n",
        "    \"목표높이: 5\",\n",
        "    \"현재높이: 2\",\n",
        "    \"진행횟수: 1\",\n",
        "    \"완성상태: False\"])\n",
        "print(text)"
      ],
      "id": "61be5eb9-9395-4667-8a1e-5b8d13f1e2ad"
    },
    {
      "cell_type": "markdown",
      "metadata": {},
      "source": [
        "`-` 잔소리2: 최근 상위 30~40퍼에 해당하는 학생들의 실력이\n",
        "살벌하더라고요.. 퀴즈 초반에 비하여 많이 상향평준화 되었습니다. 저는\n",
        "공부할때 클래스가 어려웠었는데 요즘 학생들은 다 잘하네요…. 그래서\n",
        "학생들의 수준에 맞추어서 문제수준도 올릴 생각입니다. 초반에 부진했지만\n",
        "최근 상승세라고 생각하시는 학생은 마지막까지 잘 준비하셔서 결과를 뒤집어\n",
        "보시기 바랍니다. 초반부터 좋은 모습을 보이던 학생은 마지막까지 유종의\n",
        "미를 거두셔서 본인의 학점을 지키시기 바랍니다.\n",
        "\n",
        "`-` 잔소리3: 19일까지 질문열려있으니 모르는거 있으면 제발 물어보세요\n",
        "\n",
        "# 1. 공든 탑 쌓기 – 150점\n",
        "\n",
        "## `(1)` `Base` 클래스 설계\n",
        "\n",
        "아래와 같은 기능을 하도록 `Base` 클래스를 만들어라.\n",
        "\n",
        "`# 예시1`"
      ],
      "id": "e3efdbcd-e5a1-4701-a0da-b6f939dd88f0"
    },
    {
      "cell_type": "code",
      "execution_count": 861,
      "metadata": {
        "tags": []
      },
      "outputs": [],
      "source": [
        "다호 = Base(end_condition=5,name=\"다호\")"
      ],
      "id": "983a45fd-7bd8-4cec-9ab2-48d44cf73e33"
    },
    {
      "cell_type": "code",
      "execution_count": 862,
      "metadata": {
        "tags": []
      },
      "outputs": [],
      "source": [
        "다호"
      ],
      "id": "cdb996bc-a41d-4f51-a788-f032cb397ac4"
    },
    {
      "cell_type": "code",
      "execution_count": 863,
      "metadata": {
        "tags": []
      },
      "outputs": [],
      "source": [
        "다호.탑쌓기()"
      ],
      "id": "20205857-8916-4af0-aa6a-aed2bb3c03df"
    },
    {
      "cell_type": "code",
      "execution_count": 864,
      "metadata": {
        "tags": []
      },
      "outputs": [],
      "source": [
        "다호"
      ],
      "id": "9b6379e6-4298-4681-ba9a-fc2570a65ebf"
    },
    {
      "cell_type": "code",
      "execution_count": 865,
      "metadata": {
        "tags": []
      },
      "outputs": [],
      "source": [
        "다호.탑쌓기()"
      ],
      "id": "de8cc0c2-89da-4f9a-ae6e-b807df98ef3a"
    },
    {
      "cell_type": "code",
      "execution_count": 866,
      "metadata": {
        "tags": []
      },
      "outputs": [],
      "source": [
        "다호"
      ],
      "id": "90a94e59-1afc-45de-8913-07fac0d9d1e8"
    },
    {
      "cell_type": "markdown",
      "metadata": {},
      "source": [
        "`#`\n",
        "\n",
        "`# 예시2`"
      ],
      "id": "7721ced1-8d6f-47a9-804d-d8dd6f271b6e"
    },
    {
      "cell_type": "code",
      "execution_count": 867,
      "metadata": {
        "tags": []
      },
      "outputs": [],
      "source": [
        "하니 = Base(end_condition=5,name=\"하니\")"
      ],
      "id": "f3c56df0-8d4c-49bd-976c-4f427d8fcff4"
    },
    {
      "cell_type": "code",
      "execution_count": 868,
      "metadata": {
        "tags": []
      },
      "outputs": [],
      "source": [
        "for _ in range(5):\n",
        "    하니.탑쌓기()"
      ],
      "id": "7128d226-94ac-4a96-af2e-34344a865e30"
    },
    {
      "cell_type": "code",
      "execution_count": 869,
      "metadata": {
        "tags": []
      },
      "outputs": [],
      "source": [
        "하니 # 목표치에 도달하여 완성상태가 변경"
      ],
      "id": "a2b07d07-f64d-460d-be44-a321a476c266"
    },
    {
      "cell_type": "code",
      "execution_count": 870,
      "metadata": {
        "tags": []
      },
      "outputs": [],
      "source": [
        "for _ in range(5):\n",
        "    하니.탑쌓기()"
      ],
      "id": "4599c780-875a-425e-8449-812cba733525"
    },
    {
      "cell_type": "code",
      "execution_count": 871,
      "metadata": {
        "tags": []
      },
      "outputs": [],
      "source": [
        "하니 # 목표치에 도달하여 더이상 탑이 쌓이지 않았음"
      ],
      "id": "a94ff7e8-eb03-40ed-84fb-9792182c3977"
    },
    {
      "cell_type": "markdown",
      "metadata": {},
      "source": [
        "`#`\n",
        "\n",
        "`# 예시3`"
      ],
      "id": "9273b327-fce0-4129-990f-c59b69268d95"
    },
    {
      "cell_type": "code",
      "execution_count": 872,
      "metadata": {
        "tags": []
      },
      "outputs": [],
      "source": [
        "다호 = Base(end_condition=5,name=\"다호\")\n",
        "하니 = Base(end_condition=5,name=\"하니\")"
      ],
      "id": "45d34795-4611-4340-8ae6-21bc1531b912"
    },
    {
      "cell_type": "code",
      "execution_count": 873,
      "metadata": {
        "tags": []
      },
      "outputs": [],
      "source": [
        "다호.탑쌓기()\n",
        "다호"
      ],
      "id": "760f3d37-715a-4786-b2aa-d29f07a0479f"
    },
    {
      "cell_type": "code",
      "execution_count": 874,
      "metadata": {
        "tags": []
      },
      "outputs": [],
      "source": [
        "다호 > 하니, 다호 < 하니 # 현재높이비교"
      ],
      "id": "9b2c06a6-7c81-410f-8178-90ca5bb8eb9a"
    },
    {
      "cell_type": "code",
      "execution_count": 875,
      "metadata": {
        "tags": []
      },
      "outputs": [],
      "source": [
        "하니.탑쌓기()\n",
        "하니.탑쌓기()\n",
        "하니"
      ],
      "id": "1b55d81d-e532-4bf5-9266-a7b2862bd043"
    },
    {
      "cell_type": "code",
      "execution_count": 876,
      "metadata": {
        "tags": []
      },
      "outputs": [],
      "source": [
        "다호 > 하니, 다호 < 하니 # 현재높이비교"
      ],
      "id": "f8eb751f-5523-465c-8724-785fb16082fe"
    },
    {
      "cell_type": "markdown",
      "metadata": {},
      "source": [
        "`#`\n",
        "\n",
        "`# 예시4`"
      ],
      "id": "85ea2cf7-5fcf-4d27-a184-9b44a6048d4e"
    },
    {
      "cell_type": "code",
      "execution_count": 877,
      "metadata": {
        "tags": []
      },
      "outputs": [],
      "source": [
        "다호 = Base(end_condition=5,name=\"다호\")\n",
        "하니 = Base(end_condition=5,name=\"하니\")"
      ],
      "id": "a92e8457-c52c-4f36-8be0-0e00fa75b153"
    },
    {
      "cell_type": "code",
      "execution_count": 878,
      "metadata": {
        "tags": []
      },
      "outputs": [],
      "source": [
        "다호.탑쌓기()\n",
        "다호"
      ],
      "id": "1aeee44b-e4b0-4664-b5c8-6f33ad211571"
    },
    {
      "cell_type": "code",
      "execution_count": 879,
      "metadata": {
        "tags": []
      },
      "outputs": [],
      "source": [
        "다호 > 하니, 다호 < 하니"
      ],
      "id": "38a798a9-8c72-4f19-ad50-23e7ac3b424b"
    },
    {
      "cell_type": "code",
      "execution_count": 880,
      "metadata": {
        "tags": []
      },
      "outputs": [],
      "source": [
        "다호 >> 하니, 다호 << 하니 # 승리조건 체크 (다호가 1층 높지만 어느 누구도 승리상태아님)"
      ],
      "id": "6cb9ade1-b551-4d73-9b52-5a3195cf590c"
    },
    {
      "cell_type": "code",
      "execution_count": 881,
      "metadata": {
        "tags": []
      },
      "outputs": [],
      "source": [
        "하니.탑쌓기()\n",
        "하니.탑쌓기()\n",
        "하니"
      ],
      "id": "792ed274-5112-4366-822e-015cbc5593fb"
    },
    {
      "cell_type": "code",
      "execution_count": 882,
      "metadata": {
        "tags": []
      },
      "outputs": [],
      "source": [
        "다호 > 하니, 다호 < 하니"
      ],
      "id": "57d54414-4de9-42db-a2c5-8bd62f98ff7d"
    },
    {
      "cell_type": "code",
      "execution_count": 883,
      "metadata": {
        "tags": []
      },
      "outputs": [],
      "source": [
        "다호 >> 하니, 다호 << 하니 # 승리조건 체크 (하니가 1층 높지만 어느 누구도 승리상태아님)"
      ],
      "id": "2f51f890-d386-4fa3-80dc-5583ae446056"
    },
    {
      "cell_type": "code",
      "execution_count": 884,
      "metadata": {
        "tags": []
      },
      "outputs": [],
      "source": [
        "다호.탑쌓기()\n",
        "다호.탑쌓기()\n",
        "다호.탑쌓기()\n",
        "다호.탑쌓기()"
      ],
      "id": "1512acef-9978-4ab3-ae06-449c2e856db7"
    },
    {
      "cell_type": "code",
      "execution_count": 885,
      "metadata": {
        "tags": []
      },
      "outputs": [],
      "source": [
        "다호 # 다호가 탑을 완성함. 승리조건 달성"
      ],
      "id": "2ce0d22c-a91f-48e6-9a0a-d93f51ac11da"
    },
    {
      "cell_type": "code",
      "execution_count": 886,
      "metadata": {
        "tags": []
      },
      "outputs": [],
      "source": [
        "다호 >> 하니, 다호 << 하니 # 승리조건 체크 -- 다호의 승리"
      ],
      "id": "7e02c6a0-44ed-461b-88c7-2b263cad26ec"
    },
    {
      "cell_type": "markdown",
      "metadata": {},
      "source": [
        "`#`\n",
        "\n",
        "## `(2)` `Guebin` 클래스 설계\n",
        "\n",
        "`Base`를 상속받아 예시와 같은 `Guebin` 클래스를 만들어라.\n",
        "\n",
        "`# 예시1`"
      ],
      "id": "56e08796-d375-4e8e-a22c-7c2eeb1935f9"
    },
    {
      "cell_type": "code",
      "execution_count": 904,
      "metadata": {
        "tags": []
      },
      "outputs": [],
      "source": [
        "규빈 = Guebin(name=\"규빈\",end_condition=5)"
      ],
      "id": "7183ab08-42f7-4097-ab91-6ff6ebdbf610"
    },
    {
      "cell_type": "code",
      "execution_count": 905,
      "metadata": {
        "tags": []
      },
      "outputs": [],
      "source": [
        "규빈.prob"
      ],
      "id": "f4b59575-a291-484f-939a-002b7ba5d2b0"
    },
    {
      "cell_type": "markdown",
      "metadata": {},
      "source": [
        "`#`\n",
        "\n",
        "`# 예시2`"
      ],
      "id": "db17d368-c794-4d2f-abb7-88bf49c869a5"
    },
    {
      "cell_type": "code",
      "execution_count": 906,
      "metadata": {
        "tags": []
      },
      "outputs": [],
      "source": [
        "규빈 = Guebin(name=\"규빈\",end_condition=5)"
      ],
      "id": "be09ce21-e0fb-4867-b6ee-5003f543a4b4"
    },
    {
      "cell_type": "code",
      "execution_count": 907,
      "metadata": {
        "tags": []
      },
      "outputs": [
        {
          "output_type": "stream",
          "name": "stdout",
          "text": [
            "성공확률 = 0.5"
          ]
        }
      ],
      "source": [
        "print(f\"성공확률 = {규빈.prob}\")\n",
        "규빈.탑쌓기()\n",
        "규빈"
      ],
      "id": "d5296bf5-13a3-4e4b-9718-a070a12efa62"
    },
    {
      "cell_type": "code",
      "execution_count": 908,
      "metadata": {
        "tags": []
      },
      "outputs": [
        {
          "output_type": "stream",
          "name": "stdout",
          "text": [
            "성공확률 = 0.5\n",
            "이름: 규빈\n",
            "목표높이: 5\n",
            "현재높이: 0\n",
            "진행횟수: 2\n",
            "완성상태: False\n",
            "--\n",
            "이름: 규빈\n",
            "목표높이: 5\n",
            "현재높이: 2\n",
            "진행횟수: 3\n",
            "완성상태: False\n",
            "--\n",
            "이름: 규빈\n",
            "목표높이: 5\n",
            "현재높이: 0\n",
            "진행횟수: 4\n",
            "완성상태: False\n",
            "--\n",
            "이름: 규빈\n",
            "목표높이: 5\n",
            "현재높이: 0\n",
            "진행횟수: 5\n",
            "완성상태: False\n",
            "--\n",
            "이름: 규빈\n",
            "목표높이: 5\n",
            "현재높이: 2\n",
            "진행횟수: 6\n",
            "완성상태: False\n",
            "--"
          ]
        }
      ],
      "source": [
        "print(f\"성공확률 = {규빈.prob}\")\n",
        "for _ in range(5):\n",
        "    규빈.탑쌓기()\n",
        "    print(repr(규빈))\n",
        "    print(\"--\")"
      ],
      "id": "ab1c86ea-d777-4075-b2f8-9d52ac626649"
    },
    {
      "cell_type": "markdown",
      "metadata": {},
      "source": [
        "`#`\n",
        "\n",
        "`# 예시3`"
      ],
      "id": "753ef55c-f6fd-416d-a075-920acf3c9aac"
    },
    {
      "cell_type": "code",
      "execution_count": 909,
      "metadata": {
        "tags": []
      },
      "outputs": [],
      "source": [
        "규빈 = Guebin(name=\"규빈\",end_condition=5)"
      ],
      "id": "4ff4ddd7-65e5-4a20-ab1b-b0aab5ba4a56"
    },
    {
      "cell_type": "code",
      "execution_count": 910,
      "metadata": {
        "tags": []
      },
      "outputs": [],
      "source": [
        "규빈.prob = 0.9"
      ],
      "id": "89f1fa66-7b90-4288-9f5e-a09c1b977197"
    },
    {
      "cell_type": "code",
      "execution_count": 911,
      "metadata": {
        "tags": []
      },
      "outputs": [
        {
          "output_type": "stream",
          "name": "stdout",
          "text": [
            "성공확률 = 0.9\n",
            "이름: 규빈\n",
            "목표높이: 5\n",
            "현재높이: 2\n",
            "진행횟수: 1\n",
            "완성상태: False\n",
            "2블럭 성공확률: 0.90\n",
            "2블럭 성공여부: True\n",
            "--\n",
            "이름: 규빈\n",
            "목표높이: 5\n",
            "현재높이: 4\n",
            "진행횟수: 2\n",
            "완성상태: False\n",
            "2블럭 성공확률: 0.90\n",
            "2블럭 성공여부: True\n",
            "--\n",
            "이름: 규빈\n",
            "목표높이: 5\n",
            "현재높이: 6\n",
            "진행횟수: 3\n",
            "완성상태: True\n",
            "2블럭 성공확률: 0.90\n",
            "2블럭 성공여부: True\n",
            "--\n",
            "이름: 규빈\n",
            "목표높이: 5\n",
            "현재높이: 6\n",
            "진행횟수: 4\n",
            "완성상태: True\n",
            "2블럭 성공확률: 0.90\n",
            "2블럭 성공여부: True\n",
            "--\n",
            "이름: 규빈\n",
            "목표높이: 5\n",
            "현재높이: 6\n",
            "진행횟수: 5\n",
            "완성상태: True\n",
            "2블럭 성공확률: 0.90\n",
            "2블럭 성공여부: True\n",
            "--"
          ]
        }
      ],
      "source": [
        "print(f\"성공확률 = {규빈.prob}\")\n",
        "for _ in range(5):\n",
        "    규빈.탑쌓기()\n",
        "    print(repr(규빈))\n",
        "    print(f\"2블럭 성공확률: {규빈.prob:.2f}\")\n",
        "    print(f\"2블럭 성공여부: {규빈.success}\")\n",
        "    print(\"--\")"
      ],
      "id": "a68ca8e9-01cf-4547-9fa9-9c2d9a128584"
    },
    {
      "cell_type": "markdown",
      "metadata": {},
      "source": [
        "`#`\n",
        "\n",
        "## `(3)` `GuebinTraining`  클래스 설계\n",
        "\n",
        "배경설명: 규빈은 2개의 블록을 실패하지 않고 쌓는 연습을 하기로 했다.\n",
        "\n",
        "`Guebin`을 상속받아 아래와 같은 역할을 하는 `GuebinTraining`을 설계하라.\n",
        "\n",
        "`# 예시1`"
      ],
      "id": "8dd9936d-74f0-497f-8ef6-f48c9941764f"
    },
    {
      "cell_type": "code",
      "execution_count": 913,
      "metadata": {
        "tags": []
      },
      "outputs": [],
      "source": [
        "수련하는규빈 = GuebinTraining(name=\"규빈\",end_condition=5)\n",
        "수련하는규빈"
      ],
      "id": "5e6b9874-3493-46fd-ab7b-14872ae911a2"
    },
    {
      "cell_type": "code",
      "execution_count": 914,
      "metadata": {
        "tags": []
      },
      "outputs": [
        {
          "output_type": "stream",
          "name": "stdout",
          "text": [
            "성공확률 = 0.9\n",
            "이름: 규빈\n",
            "목표높이: 5\n",
            "현재높이: 2\n",
            "진행횟수: 1\n",
            "완성상태: False\n",
            "2블럭 성공확률: 0.55\n",
            "2블럭 성공여부: True\n",
            "--\n",
            "이름: 규빈\n",
            "목표높이: 5\n",
            "현재높이: 4\n",
            "진행횟수: 2\n",
            "완성상태: False\n",
            "2블럭 성공확률: 0.60\n",
            "2블럭 성공여부: True\n",
            "--\n",
            "이름: 규빈\n",
            "목표높이: 5\n",
            "현재높이: 6\n",
            "진행횟수: 3\n",
            "완성상태: True\n",
            "2블럭 성공확률: 0.65\n",
            "2블럭 성공여부: True\n",
            "--\n",
            "이름: 규빈\n",
            "목표높이: 5\n",
            "현재높이: 6\n",
            "진행횟수: 4\n",
            "완성상태: True\n",
            "2블럭 성공확률: 0.70\n",
            "2블럭 성공여부: True\n",
            "--\n",
            "이름: 규빈\n",
            "목표높이: 5\n",
            "현재높이: 6\n",
            "진행횟수: 5\n",
            "완성상태: True\n",
            "2블럭 성공확률: 0.75\n",
            "2블럭 성공여부: True\n",
            "--"
          ]
        }
      ],
      "source": [
        "print(f\"성공확률 = {규빈.prob}\")\n",
        "for _ in range(5):\n",
        "    수련하는규빈.탑쌓기()\n",
        "    수련하는규빈.수련하기()\n",
        "    print(repr(수련하는규빈))\n",
        "    print(f\"2블럭 성공확률: {수련하는규빈.prob:.2f}\")\n",
        "    print(f\"2블럭 성공여부: {수련하는규빈.success}\")\n",
        "    print(\"--\")"
      ],
      "id": "617650c4-393f-423b-8c70-e06146c01518"
    },
    {
      "cell_type": "markdown",
      "metadata": {},
      "source": [
        "`#`\n",
        "\n",
        "## `(4)` 규빈 vs 다호\n",
        "\n",
        "아래와 같은 인스턴스를 고려하자."
      ],
      "id": "fb85f7e0-b5a6-4cad-b23d-526d80524aa3"
    },
    {
      "cell_type": "code",
      "execution_count": 898,
      "metadata": {
        "tags": []
      },
      "outputs": [],
      "source": [
        "규빈 = Guebin(name=\"규빈\",end_condition=10)\n",
        "다호 = Base(name=\"다호\",end_condition=10) "
      ],
      "id": "eece490d-26a8-4b20-a1dc-b62334f89541"
    },
    {
      "cell_type": "markdown",
      "metadata": {},
      "source": [
        "10층높이의 탑을 먼저 쌓는 게임을 진행할시 누가 더 유리한가?\n",
        "\n",
        "## `(5)` 수련하는규빈 vs 다호\n",
        "\n",
        "아래와 같은 인스턴스를 고려하자."
      ],
      "id": "560cbe6a-9bcd-4fa0-8cdd-298024a9be16"
    },
    {
      "cell_type": "code",
      "execution_count": 899,
      "metadata": {
        "tags": []
      },
      "outputs": [],
      "source": [
        "수련하는규빈 = GuebinTraining(name=\"규빈\",end_condition=10)\n",
        "다호 = Base(name=\"다호\",end_condition=10) "
      ],
      "id": "c33c75f9-f35e-4379-a542-003606fb461d"
    },
    {
      "cell_type": "markdown",
      "metadata": {},
      "source": [
        "10층높이의 탑을 먼저 쌓는 게임을 진행할시 누가 더 유리한가? (규빈은\n",
        "수련시 2개의 블록을 성공할 확률이 5퍼센트씩 증가한다. )\n",
        "\n",
        "## `(6)` 애교쟁이 최다호\n",
        "\n",
        "배경설명: 최다호는 매턴 규빈에게 애교를 부리기로 했다. 애교의 성공률은\n",
        "20%이며 효과는 아래와 같다.\n",
        "\n",
        "-   규빈이 2블럭 쌓기를 성공: 규빈은 2개의 블럭을 본인의 탑에 쌓지않고\n",
        "    다호의 탑에 쌓는다.\n",
        "-   규빈이 2블럭 쌓기를 실패: 아무일도 일어나지 않음.\n",
        "\n",
        "단, 다호가 애교를 부릴경우 다호의 탑은 쌓이지 않는다.\n",
        "\n",
        "## `(7)` 공격하는 규빈\n",
        "\n",
        "## `(8)` 울보최다호\n",
        "\n",
        "배경설명: 최다호는 규빈의 공격으로 공든탑이 무너지자 참을수가 없어져\n",
        "결국 울음을 터뜨렸다. 울음의 효과는 아래와 같다.\n",
        "\n",
        "-   탑과 관련없이 무조건 다호의 승리\n",
        "\n",
        "울음은 다호의 탑이 무너질 경우 발생하며 발생확률은 50%이다."
      ],
      "id": "0c411523-a62c-41a4-a6a1-43a000f8461b"
    }
  ],
  "nbformat": 4,
  "nbformat_minor": 5,
  "metadata": {
    "kernelspec": {
      "name": "python3",
      "display_name": "Python 3 (ipykernel)",
      "language": "python"
    },
    "language_info": {
      "name": "python",
      "codemirror_mode": {
        "name": "ipython",
        "version": "3"
      },
      "file_extension": ".py",
      "mimetype": "text/x-python",
      "nbconvert_exporter": "python",
      "pygments_lexer": "ipython3",
      "version": "3.10.13"
    }
  }
}