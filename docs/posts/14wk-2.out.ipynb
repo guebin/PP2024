{
  "cells": [
    {
      "cell_type": "markdown",
      "metadata": {},
      "source": [
        "# 14wk-2: 클래스 (4)\n",
        "\n",
        "최규빈  \n",
        "2024-06-07\n",
        "\n",
        "# 7. `with`\n",
        "\n",
        "### 파일읽기\n",
        "\n",
        "`-` 예제1"
      ],
      "id": "80d3e1f4-ca24-48f9-9ce0-8ca8437eeebb"
    },
    {
      "cell_type": "code",
      "execution_count": null,
      "metadata": {},
      "outputs": [],
      "source": [
        "f=open('test.txt')"
      ],
      "id": "0a691792-1940-49fe-965e-19d98b8900ad"
    },
    {
      "cell_type": "code",
      "execution_count": null,
      "metadata": {},
      "outputs": [],
      "source": [
        "a=f.read()"
      ],
      "id": "b9aae196-3f2e-4035-9cb5-0cd2dc0ff835"
    },
    {
      "cell_type": "code",
      "execution_count": null,
      "metadata": {},
      "outputs": [
        {
          "output_type": "stream",
          "name": "stdout",
          "text": [
            "hello\n",
            "hello2\n",
            "hello3"
          ]
        }
      ],
      "source": [
        "print(a)"
      ],
      "id": "ffb5d862-6de0-4bcd-b708-fafe6a4a1ac6"
    },
    {
      "cell_type": "code",
      "execution_count": null,
      "metadata": {},
      "outputs": [],
      "source": [
        "f.closed"
      ],
      "id": "d18054cc-29bb-4371-8db0-54e7cbffb562"
    },
    {
      "cell_type": "markdown",
      "metadata": {},
      "source": [
        "현재 f가 열려있는 상태이다. 따라서 닫아줘야 한다."
      ],
      "id": "055359f4-14eb-4160-a2c9-a5b0a22442b4"
    },
    {
      "cell_type": "code",
      "execution_count": null,
      "metadata": {},
      "outputs": [],
      "source": [
        "f.close()"
      ],
      "id": "adf32710-14bc-4475-9aa0-3edbf5ba2cd6"
    },
    {
      "cell_type": "code",
      "execution_count": null,
      "metadata": {},
      "outputs": [],
      "source": [
        "f.closed"
      ],
      "id": "4184dab9-4227-409b-a2e2-d65770a248f2"
    },
    {
      "cell_type": "markdown",
      "metadata": {},
      "source": [
        "f가 닫힌 상태에서는 더 이상 읽을 수가 없다."
      ],
      "id": "5a49fc10-0ce2-4a9f-a660-306a58c20790"
    },
    {
      "cell_type": "code",
      "execution_count": null,
      "metadata": {},
      "outputs": [],
      "source": [
        "b=f.read()"
      ],
      "id": "c11e599f-0cf0-45ac-ae66-0d293bc85d4f"
    },
    {
      "cell_type": "markdown",
      "metadata": {},
      "source": [
        "파일을 닫지 않는다고 해서 큰 문제는 없어보이지만 그냥 닫는것이 좋다.\n",
        "\n",
        "### with\n",
        "\n",
        "#### motivation\n",
        "\n",
        "`-` 생각해 보니까 파일을 열면 항상 닫아야 한다.\n",
        "\n",
        "이처럼 쌍(시작-끝)으로 수행되는 처리가 반복적으로 발생하는 경우가 있는데\n",
        "그때마다 `.close()` 메소드 따위를 쓰는 것이 번거롭게 느껴진다.\n",
        "\n",
        "예를들면 파일을 열었으면 적당한 동작뒤에 알아서 닫아졌으면 좋겠다는\n",
        "것이다.\n",
        "\n",
        "이러한 모티브에서 구현된 것이 with문 이다."
      ],
      "id": "a8acd193-5748-4c8c-a919-20b38769f1a6"
    },
    {
      "cell_type": "code",
      "execution_count": null,
      "metadata": {},
      "outputs": [
        {
          "output_type": "stream",
          "name": "stdout",
          "text": [
            "hello\n",
            "hello2\n",
            "hello3"
          ]
        }
      ],
      "source": [
        "with open('test.txt') as g: \n",
        "    print(g.read())"
      ],
      "id": "0915a8b8-b3bf-46ee-a3c8-625c71cf184e"
    },
    {
      "cell_type": "markdown",
      "metadata": {},
      "source": [
        "파일이 닫아졌는지 확인해보자."
      ],
      "id": "1de559d9-803c-44c2-a547-34653996617d"
    },
    {
      "cell_type": "code",
      "execution_count": null,
      "metadata": {},
      "outputs": [],
      "source": [
        "g.closed"
      ],
      "id": "19240071-7b50-4f33-8a19-0db49cce5a46"
    },
    {
      "cell_type": "markdown",
      "metadata": {},
      "source": [
        "잘 닫아졌다.\n",
        "\n",
        "#### 기본사용법\n",
        "\n",
        "with의 사용법은 직관적으로 이해가 가능하지만 그래도 다시한번 살펴보자.\n",
        "\n",
        "``` python\n",
        "with blabla as variable: \n",
        "    yadiyadi\n",
        "    yadiyadi2\n",
        "```\n",
        "\n",
        "1.  `with blabla as variable`에서 blabla가 실행된다.\n",
        "\n",
        "2.  blabla의 실행결과로 어떠한 `특별한` 오브젝트가 만들어지는데 그\n",
        "    오브젝트를 우리가 variable로 부르기로 한다.\n",
        "\n",
        "3.  탭으로 들여쓰기된 부분, 즉 yadiyadi, yadiyadi2 가 순서대로 실행된다.\n",
        "\n",
        "4.  탭으로 들여쓰기된 부분이 실행되고 난 뒤에 `g.closed()` 따위의 미리\n",
        "    약속된 어떠한 코드가 실행되는것 같다.\n",
        "\n",
        "#### 동작원리\n",
        "\n",
        "g라는 오브젝트는 특별한 오브젝트라고 했는데, 무엇이 특별한지 알아보자."
      ],
      "id": "19590331-1276-4e7f-96cc-43e6070ea89c"
    },
    {
      "cell_type": "code",
      "execution_count": null,
      "metadata": {},
      "outputs": [],
      "source": [
        "dir(g)"
      ],
      "id": "b51398e0-8b23-4691-9837-d2ef4676a9a1"
    },
    {
      "cell_type": "markdown",
      "metadata": {},
      "source": [
        "비밀은 `__enter__` 와 `__exit__` 메소드에 있다.\n",
        "\n",
        "`__enter__` 와 `__exit__` 의 역할을 알아보기 위해서 아래의 코드를 다시\n",
        "관찰하자.\n",
        "\n",
        "``` python\n",
        "with open('test.txt') as g: \n",
        "    print(g.read())\n",
        "```\n",
        "\n",
        "(for문 복습) `for i in ...:` 에서 `...`에 올 수 있는 오브젝트는\n",
        "`__iter__` 메소드가 정의되어 있어야 한다. 이러한 오브젝트를 iterable한\n",
        "오브젝트라고 한다.\n",
        "\n",
        "(with문) `with ... as variable:` 에서 `...`의 실행결과로 생성되는\n",
        "오브젝트는 `__enter__` 와 `__exit__` 메소드가 정의되어 있어야 한다. -\n",
        "이중 `__enter__`는 with문이 시작되면 자동으로 실행된다. - 이중\n",
        "`__exit__`는 with문이 끝나면 자동으로 실행된다.\n",
        "\n",
        "`-` 예제3"
      ],
      "id": "580b87ef-e57c-4fe0-a86c-8623f78cb809"
    },
    {
      "cell_type": "code",
      "execution_count": null,
      "metadata": {},
      "outputs": [],
      "source": [
        "class MooYaHo:\n",
        "    def __init__(self):\n",
        "        print('init')\n",
        "    def __enter__(self):\n",
        "        print('무야호')\n",
        "    def __exit__(self,exc_type,exc_value,traceback): # self 이외의 3가지 변수는 예외처리에 관련된 변수인데 여기서는 다루지 않음. \n",
        "        print('그만큼 신나시는거지')"
      ],
      "id": "a14733ba-09b2-4750-b217-55bfbfb9e18e"
    },
    {
      "cell_type": "code",
      "execution_count": null,
      "metadata": {},
      "outputs": [
        {
          "output_type": "stream",
          "name": "stdout",
          "text": [
            "init\n",
            "무야호\n",
            ".\n",
            "그만큼 신나시는거지"
          ]
        }
      ],
      "source": [
        "with MooYaHo() as a: \n",
        "    print('.')"
      ],
      "id": "0ae5c33e-6b2b-4f66-8b55-f7a82e46e5b4"
    },
    {
      "cell_type": "markdown",
      "metadata": {},
      "source": [
        "`-` 경우에 따라서는 as 이하를 생략할 수도 있다."
      ],
      "id": "1c373b0e-ed6a-47c0-ae54-ca58382915ef"
    },
    {
      "cell_type": "code",
      "execution_count": null,
      "metadata": {},
      "outputs": [
        {
          "output_type": "stream",
          "name": "stdout",
          "text": [
            "init\n",
            "무야호\n",
            "xx\n",
            "그만큼 신나시는거지"
          ]
        }
      ],
      "source": [
        "with MooYaHo():\n",
        "    print('xx')"
      ],
      "id": "fd861b68-a71d-4391-881c-bef58734a111"
    },
    {
      "cell_type": "markdown",
      "metadata": {},
      "source": [
        "# 8. 데코레이터\n",
        "\n",
        "# 9. 상속"
      ],
      "id": "2404c388-466f-44e8-a0b5-a5f710fe4c94"
    }
  ],
  "nbformat": 4,
  "nbformat_minor": 5,
  "metadata": {
    "kernelspec": {
      "name": "python3",
      "display_name": "Python 3 (ipykernel)",
      "language": "python"
    },
    "language_info": {
      "name": "python",
      "codemirror_mode": {
        "name": "ipython",
        "version": "3"
      },
      "file_extension": ".py",
      "mimetype": "text/x-python",
      "nbconvert_exporter": "python",
      "pygments_lexer": "ipython3",
      "version": "3.10.13"
    }
  }
}