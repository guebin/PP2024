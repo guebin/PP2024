{
  "cells": [
    {
      "cell_type": "markdown",
      "metadata": {},
      "source": [
        "# 14wk-2: 클래스 (4)\n",
        "\n",
        "최규빈  \n",
        "2024-06-07\n",
        "\n",
        "<a href=\"https://colab.research.google.com/github/guebin/PP2024/blob/main/posts/14wk-2.ipynb\"><img src=\"https://colab.research.google.com/assets/colab-badge.svg\" style=\"text-align: left\"></a>\n",
        "\n",
        "# 1. 강의영상\n",
        "\n",
        "<https://youtu.be/playlist?list=PLQqh36zP38-xPCf2gHfHWYZEFD_0R-GnH&si=tZKvytis8R4Ke5YT>\n",
        "\n",
        "# 2. Imports"
      ],
      "id": "90c62005-ce95-47bc-837f-5553294521b4"
    },
    {
      "cell_type": "code",
      "execution_count": 9,
      "metadata": {
        "tags": []
      },
      "outputs": [],
      "source": [
        "import time\n",
        "import collections\n",
        "import numpy as np\n",
        "import pandas as pd\n",
        "import matplotlib.pyplot as plt\n",
        "import random"
      ],
      "id": "59dc71ab-275a-43a4-9c27-896910963be2"
    },
    {
      "cell_type": "markdown",
      "metadata": {},
      "source": [
        "# 3. 코딩 문해력\n",
        "\n",
        "## A. 수용력과 이해력\n",
        "\n",
        "`-` 수용력 테스트1: 2주차-2\n",
        "\n",
        "$f(x)=x^2$위의 임의의 점을 입력하면 접선을 리턴하는 함수를 구현하라."
      ],
      "id": "645aa003-6af2-450d-93d8-9723f361955f"
    },
    {
      "cell_type": "code",
      "execution_count": 9,
      "metadata": {
        "tags": []
      },
      "outputs": [],
      "source": [
        "def make_func(x0):\n",
        "    f = lambda x: x**2\n",
        "    def func(x):\n",
        "        h = 0.0001\n",
        "        a = (f(x0+h)-f(x0))/h \n",
        "        return a*(x-x0) + f(x0)\n",
        "    return func"
      ],
      "id": "edf8c98b-2b5b-47b2-9b5b-303aa02ee991"
    },
    {
      "cell_type": "markdown",
      "metadata": {},
      "source": [
        "이거…. 얼마전에 배운내용이었음..\n",
        "\n",
        "`-` 수용력 테스트2: map + list"
      ],
      "id": "7e5c214a-167f-4f05-8fb4-6e5af69c7254"
    },
    {
      "cell_type": "code",
      "execution_count": 13,
      "metadata": {
        "tags": []
      },
      "outputs": [],
      "source": [
        "f = lambda x: max(x)\n",
        "x1 = [1,1,2]\n",
        "x2 = [2,3,6,8]\n",
        "x3 = [4,5,10,15]\n",
        "list(map(f,[x1,x2,x3]))  # [f(x1), f(x2), f(x3)]"
      ],
      "id": "fe472c1b-d89f-452a-812b-ad91010f4b86"
    },
    {
      "cell_type": "markdown",
      "metadata": {},
      "source": [
        "`-` 이해력 테스트1: `map()`으로 생성된 인스턴스는 iterable"
      ],
      "id": "c60d71d9-2e37-4086-8329-0460709219df"
    },
    {
      "cell_type": "code",
      "execution_count": 14,
      "metadata": {
        "tags": []
      },
      "outputs": [
        {
          "output_type": "stream",
          "name": "stdout",
          "text": [
            "2\n",
            "8\n",
            "15"
          ]
        }
      ],
      "source": [
        "for i in map(f,[x1,x2,x3]):\n",
        "    print(i)"
      ],
      "id": "c004d414-e0e4-4bbc-b8c7-154cad4c9fb1"
    },
    {
      "cell_type": "markdown",
      "metadata": {},
      "source": [
        "`-` 이해력 테스트2: `str`은 callable"
      ],
      "id": "f8331763-19b9-4d98-a054-59c55b5d1c76"
    },
    {
      "cell_type": "code",
      "execution_count": 15,
      "metadata": {
        "tags": []
      },
      "outputs": [],
      "source": [
        "str(1)"
      ],
      "id": "d7d8eb94-642f-43e3-a485-3191f77b7d4d"
    },
    {
      "cell_type": "code",
      "execution_count": 18,
      "metadata": {
        "tags": []
      },
      "outputs": [],
      "source": [
        "str.__call__(1)"
      ],
      "id": "3618ea6e-baf4-40ba-8ccc-d69b7b51f46f"
    },
    {
      "cell_type": "code",
      "execution_count": 20,
      "metadata": {
        "tags": []
      },
      "outputs": [],
      "source": [
        "list(map(str,[1,2,3]))"
      ],
      "id": "b19b8123-13fe-44fc-ba23-75ae583c0702"
    },
    {
      "cell_type": "markdown",
      "metadata": {},
      "source": [
        "`-` 이해력 테스트3: `\"+\".join(??)` 자리에 올 수 있는건?"
      ],
      "id": "4505c2ee-6abc-4e80-840f-73f0cbb0d483"
    },
    {
      "cell_type": "code",
      "execution_count": 26,
      "metadata": {
        "tags": []
      },
      "outputs": [],
      "source": [
        "\"+\".join(list(map(str,[1,2,3])))"
      ],
      "id": "57ad12bc-159b-47ba-8a06-8c376203fcbb"
    },
    {
      "cell_type": "code",
      "execution_count": 30,
      "metadata": {
        "tags": []
      },
      "outputs": [],
      "source": [
        "\"+\".join(map(str,[1,2,3]))"
      ],
      "id": "141b609c-0c34-47f1-b735-c8dd33c5dfd3"
    },
    {
      "cell_type": "markdown",
      "metadata": {},
      "source": [
        "## B. 흡수력과 활용력"
      ],
      "id": "a741cbf4-2dff-4e2c-a4aa-6db8712425f2"
    },
    {
      "cell_type": "code",
      "execution_count": 32,
      "metadata": {
        "tags": []
      },
      "outputs": [],
      "source": [
        "att = np.random.choice(np.arange(10,21)*5,20); rep = np.random.choice(np.arange(5,21)*5,20); mid = np.random.choice(np.arange(0,21)*5,20); fin = np.random.choice(np.arange(0,21)*5,20)\n",
        "df = pd.DataFrame({'att':att,'rep':rep,'mid':mid,'fin':fin})[:5]\n",
        "df"
      ],
      "id": "d0df6d54-0c11-4a5a-a6f5-ca3aaae53512"
    },
    {
      "cell_type": "markdown",
      "metadata": {},
      "source": [
        "`-` 흡수력 테스트: 이거 보고 바로 구조가 이해되면 흡수력이 좋은것임"
      ],
      "id": "e4427f9f-03df-4edd-9901-c16400f53aeb"
    },
    {
      "cell_type": "code",
      "execution_count": 35,
      "metadata": {
        "tags": []
      },
      "outputs": [],
      "source": [
        "df.apply({'att': lambda x: x+1})"
      ],
      "id": "de943837-80c3-44b8-9129-7bebe5769366"
    },
    {
      "cell_type": "code",
      "execution_count": 37,
      "metadata": {
        "tags": []
      },
      "outputs": [],
      "source": [
        "def func(x):\n",
        "    return \"메롱\"\n",
        "df.apply({'att': func})"
      ],
      "id": "ae0670c8-8f33-476f-a247-2382c58762e4"
    },
    {
      "cell_type": "markdown",
      "metadata": {},
      "source": [
        "`-` 활용력 테스트: 위의코드를 보고 이 코드까지 떠올릴 수 있으면\n",
        "문일지십의 단계"
      ],
      "id": "4186d493-c0bb-4e64-be00-08a0e3fa2c69"
    },
    {
      "cell_type": "code",
      "execution_count": 46,
      "metadata": {
        "tags": []
      },
      "outputs": [],
      "source": [
        "float.__call__(1) # float은 callable"
      ],
      "id": "643fe05c-605f-4d80-b080-a291458d51d0"
    },
    {
      "cell_type": "code",
      "execution_count": 48,
      "metadata": {
        "tags": []
      },
      "outputs": [],
      "source": [
        "df.apply({'att': float})"
      ],
      "id": "03da66f2-d0a8-40be-9da3-7763556526a9"
    },
    {
      "cell_type": "markdown",
      "metadata": {},
      "source": [
        "이 경지를 얻는게 중요함. 이 경지를 얻지 못하면 아래와 같은 코드를\n",
        "외워야함."
      ],
      "id": "12251998-916e-415d-8beb-66321798e890"
    },
    {
      "cell_type": "code",
      "execution_count": 53,
      "metadata": {
        "tags": []
      },
      "outputs": [],
      "source": [
        "df[['att']].astype(float)"
      ],
      "id": "dcdf2069-3ab6-4492-ab71-edc0a3afd276"
    },
    {
      "cell_type": "markdown",
      "metadata": {},
      "source": [
        "저것도 모른다면 아래처럼 컴프리헨션을 활용해야겠죠.."
      ],
      "id": "f26701f1-de04-4bab-9654-7968aee40c5c"
    },
    {
      "cell_type": "code",
      "execution_count": 56,
      "metadata": {
        "tags": []
      },
      "outputs": [],
      "source": [
        "[float(l) for l in df.att]"
      ],
      "id": "c08518e2-8ec2-4c30-bf27-3b064ebec5e6"
    },
    {
      "cell_type": "code",
      "execution_count": 61,
      "metadata": {
        "tags": []
      },
      "outputs": [],
      "source": [
        "_df = pd.DataFrame([float(l) for l in df.att])\n",
        "_df.columns = ['att']\n",
        "_df"
      ],
      "id": "9f28bd0a-a1f5-4ae2-97ee-011dba729c3e"
    },
    {
      "cell_type": "markdown",
      "metadata": {},
      "source": [
        "절망 그 자체의 코드"
      ],
      "id": "67b12ab0-44a3-48c1-983a-8ec9c75aa2d2"
    },
    {
      "cell_type": "code",
      "execution_count": 76,
      "metadata": {
        "tags": []
      },
      "outputs": [],
      "source": [
        "lst = [] \n",
        "for i in range(len(df.att)):\n",
        "    lst.append(float(df.att.iloc[i]))\n",
        "lst"
      ],
      "id": "430c3e23-8126-4ac7-8868-7373009a4451"
    },
    {
      "cell_type": "code",
      "execution_count": 77,
      "metadata": {
        "tags": []
      },
      "outputs": [],
      "source": [
        "_df = pd.DataFrame(lst)\n",
        "_df.columns = ['att']\n",
        "_df"
      ],
      "id": "69ecc975-d25b-4a34-9bd4-5d262f21f87c"
    },
    {
      "cell_type": "markdown",
      "metadata": {},
      "source": [
        "> 수용력 $\\to$ 이해력 $\\to$ 흡수력 $\\to$ 활용력\n",
        "\n",
        "# 4. 함수\n",
        "\n",
        "## A. 대표예시\n",
        "\n",
        "`# 예제1` – 은근히 짜증나는 `plt.plot()`"
      ],
      "id": "f94c47f4-bb00-471d-a961-0581ef58040f"
    },
    {
      "cell_type": "code",
      "execution_count": 82,
      "metadata": {
        "tags": []
      },
      "outputs": [
        {
          "output_type": "display_data",
          "metadata": {},
          "data": {
            "image/png": "[encoded data removed]"
          }
        }
      ],
      "source": [
        "plt.plot([1,2,3,4],[2,3,4,2],'r--')"
      ],
      "id": "b1beecb2-0f55-41ec-be7a-29a208cab4c2"
    },
    {
      "cell_type": "code",
      "execution_count": 91,
      "metadata": {
        "tags": []
      },
      "outputs": [],
      "source": [
        "plt.plot([1,2,3,4],[2,3,4,2],color='lime','--')"
      ],
      "id": "f60bcc1e-bf4d-4a25-b221-76ea3a0f4bc3"
    },
    {
      "cell_type": "code",
      "execution_count": 92,
      "metadata": {
        "tags": []
      },
      "outputs": [
        {
          "output_type": "display_data",
          "metadata": {},
          "data": {
            "image/png": "[encoded data removed]"
          }
        }
      ],
      "source": [
        "plt.plot([1,2,3,4],[2,3,4,2],'--',color='lime')"
      ],
      "id": "201008e9-54b0-4f5e-b336-e66cb4a0c5f1"
    },
    {
      "cell_type": "markdown",
      "metadata": {},
      "source": [
        "`#`\n",
        "\n",
        "## B. 개념\n",
        "\n",
        "`# 예시1` – 함수사용시, 함수의 입력값을 전달하는 두가지 방식, 원칙1\n",
        "\n",
        "`-` 함수 사용시, 함수의 입력값을 전달하는 두가지 방식은 아래와 같다."
      ],
      "id": "148b78ab-cca4-4ebf-8c99-7869def38ce8"
    },
    {
      "cell_type": "code",
      "execution_count": 96,
      "metadata": {
        "tags": []
      },
      "outputs": [],
      "source": [
        "def func(x,y):\n",
        "    return x**y "
      ],
      "id": "89a6d53e-ad3d-4bb8-98b2-12994b761c57"
    },
    {
      "cell_type": "code",
      "execution_count": 97,
      "metadata": {
        "tags": []
      },
      "outputs": [],
      "source": [
        "func(2,3) # 이렇게 입력하는 경우"
      ],
      "id": "2a141863-8e5b-48a1-8b96-a1985820bf5f"
    },
    {
      "cell_type": "code",
      "execution_count": 98,
      "metadata": {
        "tags": []
      },
      "outputs": [],
      "source": [
        "func(x=2,y=3) # 이렇게 입력하는 경우"
      ],
      "id": "8ad12764-3c63-4665-b038-085e5f4d5038"
    },
    {
      "cell_type": "markdown",
      "metadata": {},
      "source": [
        "`-` 여기에서 `func(2,3)`와 같이 사용할때, 함수의 입력값을 위치인자로\n",
        "전달했다고 한다. 이는 컴퓨터가 입력값 2,3이 있는 위치에 따라서 x,y를\n",
        "할당한다는 의미이다. 즉 앞에있는걸 x로 뒤에있는걸 y로 받는다는 의미이다.\n",
        "따라서 `func(2,3)`와 `func(3,2)`는 다르게 동작한다."
      ],
      "id": "e9a9787c-dca9-4c0f-80c6-3a166a2a9daa"
    },
    {
      "cell_type": "code",
      "execution_count": 99,
      "metadata": {
        "tags": []
      },
      "outputs": [],
      "source": [
        "func(2,3), func(3,2)"
      ],
      "id": "fb0d9007-9afd-4ae8-9919-a979cccfcf12"
    },
    {
      "cell_type": "markdown",
      "metadata": {},
      "source": [
        "`-` `func(x=2,y=3)`와 같이 사용하면, 함수의 입력값을 키워드인자로\n",
        "전달했다고 한다. 이는 컴퓨터가 입력값의 위치에 따라 x,y를 할당하는게\n",
        "아닌 키워드값 자체를 보고 할당한다는 것이다. 따라서 `func(x=2,y=3)` 와\n",
        "`func(y=3,x=2)`는 같은 동작을 한다."
      ],
      "id": "79afccd2-94fb-4ac1-b4fa-aca88d1accd1"
    },
    {
      "cell_type": "code",
      "execution_count": 101,
      "metadata": {
        "tags": []
      },
      "outputs": [],
      "source": [
        "func(x=2,y=3), func(y=3,x=2)"
      ],
      "id": "598c7825-0672-4350-95f1-79db31bb05d3"
    },
    {
      "cell_type": "markdown",
      "metadata": {},
      "source": [
        "`-` 위치인자와 키워드인자를 이해할때 위치인자는 입력을 튜플로\n",
        "키워드인자는 입력을 딕셔러니로 생각하면 편리하다."
      ],
      "id": "f235c4a3-bd46-4222-8d09-995be6bca6c0"
    },
    {
      "cell_type": "code",
      "execution_count": 110,
      "metadata": {
        "tags": []
      },
      "outputs": [],
      "source": [
        "tpl = (2,3)\n",
        "func(*tpl)"
      ],
      "id": "55776494-bc46-4af5-8d37-d74f62efde67"
    },
    {
      "cell_type": "code",
      "execution_count": 111,
      "metadata": {
        "tags": []
      },
      "outputs": [],
      "source": [
        "tpl = (3,2)\n",
        "func(*tpl)"
      ],
      "id": "4fd221ec-6c2f-45dc-a723-ec3b13b02a8f"
    },
    {
      "cell_type": "code",
      "execution_count": 118,
      "metadata": {
        "tags": []
      },
      "outputs": [],
      "source": [
        "dct = dict(x=2,y=3) \n",
        "func(**dct)"
      ],
      "id": "5c3b95d2-e899-40a6-a8ad-7c1d565f2221"
    },
    {
      "cell_type": "code",
      "execution_count": 119,
      "metadata": {
        "tags": []
      },
      "outputs": [],
      "source": [
        "dct = dict(y=3,x=2) \n",
        "func(**dct)"
      ],
      "id": "b10e1f9e-318b-4047-b092-49d052664baa"
    },
    {
      "cell_type": "markdown",
      "metadata": {},
      "source": [
        "> 원칙1: 위치인자의 입력은 튜플로, 키워드인자의 입력은 딕셔너리로\n",
        "> 생각한다.\n",
        "\n",
        "`#`\n",
        "\n",
        "`# 예시2` – 함수를 정의할때, 입력값을 정의하는 두가지 방식, 원칙2,3\n",
        "\n",
        "`-` 함수를 정의할때, 함수의 입력값을 아래와 같이 기본값을 주어 정의할 수\n",
        "있다."
      ],
      "id": "204bf299-4fa7-446d-a7c4-05f16a981f46"
    },
    {
      "cell_type": "code",
      "execution_count": 120,
      "metadata": {
        "tags": []
      },
      "outputs": [],
      "source": [
        "def jump(x,y=1):\n",
        "    return x+y"
      ],
      "id": "0ad53e00-59cd-4392-be0b-f2a7a7cf2384"
    },
    {
      "cell_type": "code",
      "execution_count": 122,
      "metadata": {
        "tags": []
      },
      "outputs": [],
      "source": [
        "jump(5)"
      ],
      "id": "b5591619-f88b-4a99-b487-f2dfaa089023"
    },
    {
      "cell_type": "markdown",
      "metadata": {},
      "source": [
        "> 원칙2: 미리정의된 입력값은 생략가능하다 –\\> 미리 정의된\n",
        "> 키워드인자(=기본값을 가지고 있는 키워드인자)는 생략가능하다."
      ],
      "id": "8ee4c17e-7597-4fcc-bae2-8b7a5af11614"
    },
    {
      "cell_type": "code",
      "execution_count": 125,
      "metadata": {
        "tags": []
      },
      "outputs": [],
      "source": [
        "jump(3,5) # x=1,y=2 라는 의미"
      ],
      "id": "6ae3f775-0aad-4936-990f-8f6cbddcab6b"
    },
    {
      "cell_type": "markdown",
      "metadata": {},
      "source": [
        "`-` 이때 x는 위치인자로 정의되었다고 하고, y는 키워드 인자로\n",
        "정의되었다고 표현한다. 그래서 엄밀하게 개념상으로는 아래와 같다.\n",
        "\n",
        "``` python\n",
        "def func(x,y): # x,y는 모두 위치인자로 정의되었음. \n",
        "    return x**y \n",
        "```\n",
        "\n",
        "``` python\n",
        "def jump(x,y=1): # x는 위치인자로, y는 키워드 인자로 정의되었음. \n",
        "    return x+y\n",
        "```\n",
        "\n",
        "`-` 이러한 설명은 와닿지 않는데, 위치인자로 정의되었다고 해도 그걸\n",
        "키워드인자로 모두 쓸 수 있고 키워드인자로 정의되었다고 해도 그걸\n",
        "위치인자로 쓸 수 있기 때문이다."
      ],
      "id": "7699c1bd-1e30-4e78-9400-5abde57154a2"
    },
    {
      "cell_type": "code",
      "execution_count": 126,
      "metadata": {
        "tags": []
      },
      "outputs": [],
      "source": [
        "func(2,3) # 위치인자로 정의된걸 위치인자로 사용"
      ],
      "id": "11b3878e-22f2-4668-9be3-eb97152890a0"
    },
    {
      "cell_type": "code",
      "execution_count": 128,
      "metadata": {
        "tags": []
      },
      "outputs": [],
      "source": [
        "func(x=2,y=3) # 위치인자로 정의된걸 키워드인자로 사용"
      ],
      "id": "ec3c02a6-e41b-4f5c-8bfe-6a367d2a6765"
    },
    {
      "cell_type": "code",
      "execution_count": 130,
      "metadata": {
        "tags": []
      },
      "outputs": [],
      "source": [
        "jump(1,y=2) # 위치인자로 정의된건 위치인자로, 키워드인자로 정의된건 키워드인자로 사용"
      ],
      "id": "18716a55-6081-446b-ade2-49a29c70012c"
    },
    {
      "cell_type": "code",
      "execution_count": 131,
      "metadata": {
        "tags": []
      },
      "outputs": [],
      "source": [
        "jump(1,2) # 정의된것 무시하고 둘다 위치인자로사용"
      ],
      "id": "f737e90f-a95d-4de2-b238-d9e60d93f517"
    },
    {
      "cell_type": "code",
      "execution_count": 132,
      "metadata": {
        "tags": []
      },
      "outputs": [],
      "source": [
        "jump(x=1,y=2) # 정의된것 무시하고 둘다 키워드인자로 사용"
      ],
      "id": "0677f9c9-8d90-4467-8cb5-80d50055c17a"
    },
    {
      "cell_type": "markdown",
      "metadata": {},
      "source": [
        "> 원칙3: 위치인자로 정의되었을지라도 키워드인자로 쓸 수 있고, 키워드\n",
        "> 인자로 정의되었을지라도 위치인자로 쓸 수 있다.\n",
        "\n",
        "`#`\n",
        "\n",
        "`# 예제3` – 원칙4: 함수의 입력값을 전달할때, 위치인자는 키워드인자 뒤에\n",
        "올 수 없다."
      ],
      "id": "415c8287-6f73-4ac3-95ca-f91474d2362b"
    },
    {
      "cell_type": "code",
      "execution_count": 133,
      "metadata": {
        "tags": []
      },
      "outputs": [],
      "source": [
        "func(1,2) # 가능"
      ],
      "id": "1e0a6575-0651-4614-a74e-692a3b1fae2e"
    },
    {
      "cell_type": "code",
      "execution_count": 134,
      "metadata": {
        "tags": []
      },
      "outputs": [],
      "source": [
        "func(1,y=2) # 가능"
      ],
      "id": "475aaa31-8b2a-47bd-9ce6-fc67ead4e2f8"
    },
    {
      "cell_type": "code",
      "execution_count": 135,
      "metadata": {
        "tags": []
      },
      "outputs": [],
      "source": [
        "func(x=1,2) # 불가능"
      ],
      "id": "0c88260c-336a-4026-b36b-7d0727c69834"
    },
    {
      "cell_type": "code",
      "execution_count": 137,
      "metadata": {
        "tags": []
      },
      "outputs": [],
      "source": [
        "func(y=2,1) # 불가능"
      ],
      "id": "352f76a5-e670-416f-ae47-34f9d9ac3f75"
    },
    {
      "cell_type": "code",
      "execution_count": 138,
      "metadata": {
        "tags": []
      },
      "outputs": [],
      "source": [
        "jump(1,y=2) # 가능"
      ],
      "id": "8a0ed131-02b2-4e16-bb24-5fb4562bb5c8"
    },
    {
      "cell_type": "code",
      "execution_count": 139,
      "metadata": {
        "tags": []
      },
      "outputs": [],
      "source": [
        "jump(x=1,y=2) # 가능"
      ],
      "id": "9f1344f5-df45-43e0-bad9-ab60c558356c"
    },
    {
      "cell_type": "code",
      "execution_count": 140,
      "metadata": {
        "tags": []
      },
      "outputs": [],
      "source": [
        "jump(1,2) # 가능"
      ],
      "id": "6b6b183a-1d9f-4087-9e46-964d263d295b"
    },
    {
      "cell_type": "code",
      "execution_count": 141,
      "metadata": {
        "tags": []
      },
      "outputs": [],
      "source": [
        "jump(x=1,2) # 불가능"
      ],
      "id": "8775f293-5cb9-4f98-9756-d2fcd6618f99"
    },
    {
      "cell_type": "markdown",
      "metadata": {},
      "source": [
        "> 원칙4: 함수에 입력값을 전달할때, 위치인자는 키워드인자 뒤에 올 수\n",
        "> 없다. ($\\star\\star\\star$)\n",
        "\n",
        "`#`\n",
        "\n",
        "`# 예제4` – 길이가 변하는 위치인자 `*args`, 원칙5,6,7"
      ],
      "id": "738a132b-c285-43e8-8cef-4c012ae7b1f2"
    },
    {
      "cell_type": "code",
      "execution_count": 161,
      "metadata": {
        "tags": []
      },
      "outputs": [],
      "source": [
        "def dummy(x,y,*args):\n",
        "    return x,y,args"
      ],
      "id": "57757158-0315-4381-abe5-746e2e3760bf"
    },
    {
      "cell_type": "code",
      "execution_count": 162,
      "metadata": {
        "tags": []
      },
      "outputs": [],
      "source": [
        "dummy(1,2,3,4,5,6,7,8,9,10)"
      ],
      "id": "4fb9b9e6-0060-425f-ac52-eaa6df21590f"
    },
    {
      "cell_type": "markdown",
      "metadata": {},
      "source": [
        "> 원칙5: 가변위치인자를 입력을 받을때는 위치인자 뒤에, `*args`를\n",
        "> 사용하면 된다. 이때 함수내에서 `*args`를 다룰때는 `*`를 제외하고\n",
        "> 튜플로 취급하면된다."
      ],
      "id": "f535122f-2ea1-40ed-bce3-feaa268104fd"
    },
    {
      "cell_type": "code",
      "execution_count": 164,
      "metadata": {
        "tags": []
      },
      "outputs": [],
      "source": [
        "dummy(1) "
      ],
      "id": "16b2fabc-2c3f-47c5-99ab-6954ba389eb3"
    },
    {
      "cell_type": "code",
      "execution_count": 165,
      "metadata": {
        "tags": []
      },
      "outputs": [],
      "source": [
        "dummy(1,2)"
      ],
      "id": "efc61cd1-8fc9-4aea-911a-c9377ccd51ed"
    },
    {
      "cell_type": "markdown",
      "metadata": {},
      "source": [
        "> 원칙6: 위치인자는 생략불가능 하지만, 가변위치인자는(`*args`)는\n",
        "> 생략가능하다.\n",
        "\n",
        "`-` 아래는 위치인자, 가변위치인자, 키워드인자를 사용한 예시이다."
      ],
      "id": "bd789074-f892-4906-874a-3b7ea18fa397"
    },
    {
      "cell_type": "code",
      "execution_count": 188,
      "metadata": {
        "tags": []
      },
      "outputs": [],
      "source": [
        "def mysum(x,y,*args,verbose=False):\n",
        "    if verbose:\n",
        "        text = \"+\".join(map(str,args))\n",
        "        print(f\"{x}+{y}+{text}={x+y+sum(args)}\")\n",
        "    return x+y+sum(args)"
      ],
      "id": "a5fbe380-b218-4e3a-acbe-26ada659a8b5"
    },
    {
      "cell_type": "code",
      "execution_count": 189,
      "metadata": {
        "tags": []
      },
      "outputs": [],
      "source": [
        "mysum(1,2,3,4,5)"
      ],
      "id": "60163496-3be4-4f0d-93ff-93678cd12d06"
    },
    {
      "cell_type": "code",
      "execution_count": 190,
      "metadata": {
        "tags": []
      },
      "outputs": [
        {
          "output_type": "stream",
          "name": "stdout",
          "text": [
            "1+2+3+4+5=15"
          ]
        }
      ],
      "source": [
        "mysum(1,2,3,4,5,verbose=True)"
      ],
      "id": "6d3a55a6-e41c-4971-8bef-556e0898d6e6"
    },
    {
      "cell_type": "markdown",
      "metadata": {},
      "source": [
        "`-` 이제 아래의 코드를 관찰해보자."
      ],
      "id": "b034aa6b-6d7f-4080-b14b-77a397211a6a"
    },
    {
      "cell_type": "code",
      "execution_count": 191,
      "metadata": {
        "tags": []
      },
      "outputs": [],
      "source": [
        "mysum(1,2,3,4,5,True)"
      ],
      "id": "b28bf063-2b10-426d-bcfc-a5e314976b9e"
    },
    {
      "cell_type": "markdown",
      "metadata": {},
      "source": [
        "컴퓨터 입장에서는 마지막의 True를 `verbose`에 해당하는 입력값이라 이해\n",
        "못할 것이다. 따라서 이 상황에서 `verbose`를 사용하려면 키워드인자로 밖에\n",
        "쓸 수 없다.\n",
        "\n",
        "> 원칙7: 함수를 정의할 때 `*args` 와 키워드인자가 동시에 정의되었다면,\n",
        "> 함수를 사용할 때 키워드인자를 쓰려면 반드시 키워드인자로만 써야한다!\n",
        "\n",
        "`#`\n",
        "\n",
        "`# 예제5` – 길이가 변하는 키워드인자, `**kwargs`"
      ],
      "id": "a2e30e42-6572-401f-957b-232d79b2420f"
    },
    {
      "cell_type": "code",
      "execution_count": 192,
      "metadata": {
        "tags": []
      },
      "outputs": [],
      "source": [
        "def dummy(**kwargs):\n",
        "    return kwargs"
      ],
      "id": "72e44b0b-affe-47df-b179-25c4477eb9ec"
    },
    {
      "cell_type": "markdown",
      "metadata": {},
      "source": [
        "> 원칙8: 가변키워드인자를 입력으로 받는 함수를 정의할때는 `**kwargs`를\n",
        "> 사용하면 된다. 함수내에서 `**kwargs`를 다룰때는 `**`를 제외하고\n",
        "> 딕셔너리로 취급하면된다."
      ],
      "id": "a4a037fc-9158-4d68-91a2-2e6631eed26f"
    },
    {
      "cell_type": "code",
      "execution_count": 199,
      "metadata": {
        "tags": []
      },
      "outputs": [],
      "source": [
        "dummy(a=1,b=2,c=3,d=4)"
      ],
      "id": "e7514ded-65c8-454a-9d69-1b4462c9b114"
    },
    {
      "cell_type": "markdown",
      "metadata": {},
      "source": [
        "`#`\n",
        "\n",
        "`# 예제6` – 피자주문 ($\\star\\star$)\n",
        "\n",
        "–예비학습–"
      ],
      "id": "0264c561-a356-410b-a298-411f91994ad1"
    },
    {
      "cell_type": "code",
      "execution_count": 209,
      "metadata": {
        "tags": []
      },
      "outputs": [],
      "source": [
        "toppings = () \n",
        "bool(toppings)"
      ],
      "id": "52514c5c-4fc3-4e42-9f5c-c8af6dac72e5"
    },
    {
      "cell_type": "code",
      "execution_count": 213,
      "metadata": {
        "tags": []
      },
      "outputs": [],
      "source": [
        "toppings = (1,2,3)\n",
        "bool(toppings)"
      ],
      "id": "fd6a82fb-5845-4059-92aa-d09e60c3182e"
    },
    {
      "cell_type": "code",
      "execution_count": 217,
      "metadata": {
        "tags": []
      },
      "outputs": [],
      "source": [
        "extra_order = {}\n",
        "bool(extra_order)"
      ],
      "id": "85c29ec8-4cb5-449e-9dbc-1c98b6280a2a"
    },
    {
      "cell_type": "code",
      "execution_count": 218,
      "metadata": {
        "tags": []
      },
      "outputs": [],
      "source": [
        "extra_order = {'a':[1,2,3],'b':[2,3,4]}\n",
        "bool(extra_order)"
      ],
      "id": "ccc8d98a-f279-4f19-b0ba-480a7a3340f2"
    },
    {
      "cell_type": "markdown",
      "metadata": {},
      "source": [
        "–예비학습끝–"
      ],
      "id": "d7f8baf1-c4dc-430e-a9f5-9c7976bda9b3"
    },
    {
      "cell_type": "code",
      "execution_count": 221,
      "metadata": {
        "tags": []
      },
      "outputs": [],
      "source": [
        "def order_pizza(pizza, *toppings, size=\"medium\", **extra_orders):\n",
        "    print(f\"[{pizza}피자 ({size}사이즈) 주문함]\")\n",
        "    \n",
        "    if toppings: #(\"베이컨\",\"할라피뇨\")\n",
        "        print(\"toppings:\")\n",
        "        for topping in toppings:\n",
        "            print(f\"  - {topping}\")\n",
        "    \n",
        "    if extra_orders:\n",
        "        print(\"extra_orders:\")\n",
        "        for key, value in extra_orders.items():\n",
        "            print(f\"  - {key}: {value}\")"
      ],
      "id": "284abcaf-0ff4-4d86-92d2-ba3ffcdae5fb"
    },
    {
      "cell_type": "code",
      "execution_count": 222,
      "metadata": {
        "tags": []
      },
      "outputs": [
        {
          "output_type": "stream",
          "name": "stdout",
          "text": [
            "[페퍼로니피자 (medium사이즈) 주문함]"
          ]
        }
      ],
      "source": [
        "order_pizza(\"페퍼로니\")"
      ],
      "id": "0c9850c5-4753-4c3f-8cbb-0b4b2ddcfcc8"
    },
    {
      "cell_type": "code",
      "execution_count": 223,
      "metadata": {
        "tags": []
      },
      "outputs": [
        {
          "output_type": "stream",
          "name": "stdout",
          "text": [
            "[페퍼로니피자 (large사이즈) 주문함]"
          ]
        }
      ],
      "source": [
        "order_pizza(\"페퍼로니\",size=\"large\")"
      ],
      "id": "d8f8646d-43a8-4020-a36f-ba308ba032bf"
    },
    {
      "cell_type": "code",
      "execution_count": 224,
      "metadata": {
        "tags": []
      },
      "outputs": [
        {
          "output_type": "stream",
          "name": "stdout",
          "text": [
            "[페퍼로니피자 (medium사이즈) 주문함]\n",
            "toppings:\n",
            "  - 베이컨\n",
            "  - 할라피뇨"
          ]
        }
      ],
      "source": [
        "order_pizza(\"페퍼로니\",\"베이컨\",\"할라피뇨\")"
      ],
      "id": "e89bceb3-1fba-40d0-84fb-25957bccae6c"
    },
    {
      "cell_type": "code",
      "execution_count": 225,
      "metadata": {
        "tags": []
      },
      "outputs": [
        {
          "output_type": "stream",
          "name": "stdout",
          "text": [
            "[페퍼로니피자 (large사이즈) 주문함]\n",
            "toppings:\n",
            "  - 베이컨\n",
            "  - 할라피뇨"
          ]
        }
      ],
      "source": [
        "order_pizza(\"페퍼로니\",\"베이컨\",\"할라피뇨\",size=\"large\")"
      ],
      "id": "293862ad-113e-4500-b7a3-6882f7a0365f"
    },
    {
      "cell_type": "code",
      "execution_count": 226,
      "metadata": {
        "tags": []
      },
      "outputs": [
        {
          "output_type": "stream",
          "name": "stdout",
          "text": [
            "[페퍼로니피자 (large사이즈) 주문함]\n",
            "toppings:\n",
            "  - 베이컨\n",
            "  - 할라피뇨\n",
            "extra_orders:\n",
            "  - 스파게티: 1\n",
            "  - 스프라이트: 2"
          ]
        }
      ],
      "source": [
        "order_pizza(\"페퍼로니\",\"베이컨\",\"할라피뇨\",size=\"large\",스파게티=1,스프라이트=2)"
      ],
      "id": "62e0e889-3ce9-4fb8-b87a-eaab9dec58d3"
    },
    {
      "cell_type": "markdown",
      "metadata": {},
      "source": [
        "`#`\n",
        "\n",
        "`# 예제7` – `/`"
      ],
      "id": "7251c7f0-a41d-4168-8bdd-b86be21f2c0f"
    },
    {
      "cell_type": "code",
      "execution_count": 227,
      "metadata": {
        "tags": []
      },
      "outputs": [],
      "source": [
        "def dummy(x,y,/,z):\n",
        "    return x,y,z"
      ],
      "id": "5ceb56fd-1026-48f4-895d-658861317b42"
    },
    {
      "cell_type": "code",
      "execution_count": 228,
      "metadata": {
        "tags": []
      },
      "outputs": [],
      "source": [
        "dummy(1,2,3)"
      ],
      "id": "b7e3aef5-83d7-4c11-9054-a2be728a900c"
    },
    {
      "cell_type": "code",
      "execution_count": 229,
      "metadata": {
        "tags": []
      },
      "outputs": [],
      "source": [
        "dummy(x=1,y=2,z=3) "
      ],
      "id": "077ebd93-31c4-4fcb-bd7b-f4f409474f03"
    },
    {
      "cell_type": "markdown",
      "metadata": {},
      "source": [
        "> 원칙9: `/` 의 앞의 변수는 전용위치인자가 된다. 즉 사용시 위치인자로만\n",
        "> 사용가능하다.\n",
        "\n",
        "`#`\n",
        "\n",
        "`# 예제8` – `*`"
      ],
      "id": "eaceb2cb-fe2f-41a7-98ef-d08536f0ff8e"
    },
    {
      "cell_type": "code",
      "execution_count": 239,
      "metadata": {
        "tags": []
      },
      "outputs": [],
      "source": [
        "def dummy(a,b,/,c,d,*,f=1,g=1):\n",
        "    return a,b,c,d,f,g"
      ],
      "id": "6de6dbd6-0dfb-4892-9859-23b88c502b5c"
    },
    {
      "cell_type": "code",
      "execution_count": 240,
      "metadata": {
        "tags": []
      },
      "outputs": [],
      "source": [
        "dummy(a=1,b=1,c=1,d=1,f=1,g=1) # a,b는 위치인자만 가능 "
      ],
      "id": "51a04c5c-3801-49a0-aa2a-710784eae24e"
    },
    {
      "cell_type": "code",
      "execution_count": 241,
      "metadata": {
        "tags": []
      },
      "outputs": [],
      "source": [
        "dummy(1,2,3,4,-1,-1) # f,g 는 키워드인자만 가능"
      ],
      "id": "65fefad7-f623-437d-820d-a75d42353e32"
    },
    {
      "cell_type": "code",
      "execution_count": 242,
      "metadata": {
        "tags": []
      },
      "outputs": [],
      "source": [
        "dummy(1,2,3,4,f=-1,g=-1),dummy(1,2,3,d=4,f=-1,g=-1),dummy(1,2,c=3,d=4,f=-1,g=-1)\n",
        "# c,d는 위치인자 키워드인자 둘다가능 (정의는 위치로 되어있음)"
      ],
      "id": "05b39d77-bb51-4a98-8261-55c405ea05ef"
    },
    {
      "cell_type": "markdown",
      "metadata": {},
      "source": [
        "> 원칙9: `*` 의 뒤의 변수는 전용키워드인자가 된다. 즉 사용시\n",
        "> 키워드인자로만 사용가능하다."
      ],
      "id": "6d78c63b-8c44-480f-9afb-666462939d65"
    },
    {
      "cell_type": "code",
      "execution_count": 244,
      "metadata": {
        "tags": []
      },
      "outputs": [],
      "source": [
        "def dummy(a,b,/,c,d,*,f,g):\n",
        "    return a,b,c,d,f,g"
      ],
      "id": "cac7527e-b90f-4d55-9323-efeaa2268e44"
    },
    {
      "cell_type": "markdown",
      "metadata": {},
      "source": [
        "> 원칙10: `*` 를 사용하면 기본값이 없는 키워드인자를 정의할 수 있다."
      ],
      "id": "599eb3d0-85e2-4442-9a8f-bb6de9940424"
    },
    {
      "cell_type": "code",
      "execution_count": 247,
      "metadata": {
        "tags": []
      },
      "outputs": [],
      "source": [
        "dummy(1,2,3,4,-1,-1)"
      ],
      "id": "0c781ec8-3f7d-4558-9fe1-e1140b1b5174"
    },
    {
      "cell_type": "code",
      "execution_count": 248,
      "metadata": {
        "tags": []
      },
      "outputs": [],
      "source": [
        "dummy(1,2,3,4,f=-1,g=-1)"
      ],
      "id": "09fc83b2-0f1d-4a42-8e9a-298a7baef1c2"
    },
    {
      "cell_type": "markdown",
      "metadata": {},
      "source": [
        "`#`\n",
        "\n",
        "`요약` – 저의 머리..\n",
        "\n",
        "1.  함수의 도움말을 보고 키워드인자와 위치인자를 파악한다.\n",
        "2.  위치인자로 정의된건 위치인자로 쓰고 키워드인자로 정의된건\n",
        "    키워드인자로 쓴다. (다른생각 하지말자)\n",
        "3.  **원칙4: 위치인자는 무조건 키워드인자 앞에 쓴다.** 를 기억하자.\n",
        "\n",
        "`#`\n",
        "\n",
        "# 5. 타입힌트\n",
        "\n",
        "## A. 왜 배워야함?\n",
        "\n",
        "`-` 이거 자체만 읽을줄 알아도 함수를 눈치껏 쓸 수 있다.\n",
        "\n",
        "``` python\n",
        "plt.hist(\n",
        "    x: 'ArrayLike | Sequence[ArrayLike]',\n",
        "    bins: 'int | Sequence[float] | str | None' = None,\n",
        "    range: 'tuple[float, float] | None' = None,\n",
        "    density: 'bool' = False,\n",
        "    weights: 'ArrayLike | None' = None,\n",
        "    cumulative: 'bool | float' = False,\n",
        "    bottom: 'ArrayLike | float | None' = None,\n",
        "    histtype: \"Literal['bar', 'barstacked', 'step', 'stepfilled']\" = 'bar',\n",
        "    align: \"Literal['left', 'mid', 'right']\" = 'mid',\n",
        "    orientation: \"Literal['vertical', 'horizontal']\" = 'vertical',\n",
        "    rwidth: 'float | None' = None,\n",
        "    log: 'bool' = False,\n",
        "    color: 'ColorType | Sequence[ColorType] | None' = None,\n",
        "    label: 'str | Sequence[str] | None' = None,\n",
        "    stacked: 'bool' = False,\n",
        "    *,\n",
        "    data=None,\n",
        "    **kwargs,\n",
        ") -> 'tuple[np.ndarray | list[np.ndarray], np.ndarray, BarContainer | Polygon | list[BarContainer | Polygon]]'\n",
        "```"
      ],
      "id": "32685932-c867-4965-a186-da90e4ffa468"
    },
    {
      "cell_type": "code",
      "execution_count": 276,
      "metadata": {
        "tags": []
      },
      "outputs": [
        {
          "output_type": "display_data",
          "metadata": {},
          "data": {
            "image/png": "[encoded data removed]"
          }
        }
      ],
      "source": [
        "plt.hist(\n",
        "    x = np.random.randn(10000),\n",
        "    bins = [-3.0,-2.0,0.0,2.0,3.0]\n",
        ");"
      ],
      "id": "27a56949-4cbb-4e5b-8ba2-8549c6c19c76"
    },
    {
      "cell_type": "markdown",
      "metadata": {},
      "source": [
        "## B. 사용히는 방법"
      ],
      "id": "600c4d8c-7883-4aeb-aeeb-360c5af3b0b2"
    },
    {
      "cell_type": "code",
      "execution_count": 277,
      "metadata": {
        "tags": []
      },
      "outputs": [],
      "source": [
        "def greet(name: str) -> str:\n",
        "    return f\"Hello, {name}!\""
      ],
      "id": "ec31340b-e4db-4cce-92c5-5cfe100c342d"
    },
    {
      "cell_type": "code",
      "execution_count": 281,
      "metadata": {
        "tags": []
      },
      "outputs": [],
      "source": [
        "def add(a: int, b: int) -> int:\n",
        "    return a + b"
      ],
      "id": "42678ea0-ed66-44d7-9214-9c9747e80eca"
    },
    {
      "cell_type": "markdown",
      "metadata": {},
      "source": [
        "## C. 읽는 방법"
      ],
      "id": "195cedad-d269-4418-b27a-952477ffe430"
    },
    {
      "cell_type": "code",
      "execution_count": 283,
      "metadata": {
        "tags": []
      },
      "outputs": [],
      "source": [
        "from typing import List, Tuple, Dict, Optional, Union, Any, Callable"
      ],
      "id": "4b77b489-aa41-4db8-b9b6-13606236fddd"
    },
    {
      "cell_type": "markdown",
      "metadata": {},
      "source": [
        "`# 예시1`"
      ],
      "id": "4805538b-fe71-4ded-b108-3561352644e4"
    },
    {
      "cell_type": "code",
      "execution_count": 284,
      "metadata": {
        "tags": []
      },
      "outputs": [],
      "source": [
        "def process_items(items: List[str]) -> int:\n",
        "    return len(items)\n",
        "\n",
        "# 입력예시: [\"apple\", \"banana\", \"cherry\"]\n",
        "# 출력예시: 3 "
      ],
      "id": "675906cf-9e98-40d8-9fb9-92179c855bdc"
    },
    {
      "cell_type": "code",
      "execution_count": 285,
      "metadata": {
        "tags": []
      },
      "outputs": [],
      "source": [
        "process_items(['apple', 'banana', 'cherry'])"
      ],
      "id": "ea1e5b10-2bc0-4b9c-be20-0ebbcc715ddc"
    },
    {
      "cell_type": "markdown",
      "metadata": {},
      "source": [
        "`#`\n",
        "\n",
        "`# 예시2`"
      ],
      "id": "6213d57b-ce3f-4d85-82a4-ecbdc4c5ff24"
    },
    {
      "cell_type": "code",
      "execution_count": 288,
      "metadata": {
        "tags": []
      },
      "outputs": [],
      "source": [
        "def get_coordinates() -> Tuple[float, float]:\n",
        "    return (45.0, 90.0)\n",
        "\n",
        "# 입력 형식 예시: None\n",
        "# 출력 형식 예시: (45.0, 90.0)"
      ],
      "id": "aa30712f-3613-432e-af1d-aced0dc97372"
    },
    {
      "cell_type": "code",
      "execution_count": 289,
      "metadata": {
        "tags": []
      },
      "outputs": [],
      "source": [
        "get_coordinates()"
      ],
      "id": "8b33478f-ca11-4702-ba9e-c1de0b4ad783"
    },
    {
      "cell_type": "markdown",
      "metadata": {},
      "source": [
        "`#`\n",
        "\n",
        "`# 예시3`"
      ],
      "id": "ca3edc6e-ad46-4f02-ae11-7da1c280edb7"
    },
    {
      "cell_type": "code",
      "execution_count": 266,
      "metadata": {
        "tags": []
      },
      "outputs": [],
      "source": [
        "def count_words(text: str) -> Dict[str, int]:\n",
        "    words = text.split()\n",
        "    return {word: words.count(word) for word in words}\n",
        "\n",
        "# 입력 형식 예시: \"apple banana apple cherry banana apple\"\n",
        "# 출력 형식 예시: {'apple': 3, 'banana': 2, 'cherry': 1}"
      ],
      "id": "d0fd4ec1-4b64-4914-a477-78072db701ab"
    },
    {
      "cell_type": "code",
      "execution_count": 267,
      "metadata": {
        "tags": []
      },
      "outputs": [],
      "source": [
        "text = \"apple banana apple cherry banana apple\"\n",
        "count_words(text)"
      ],
      "id": "713158db-f6e4-4a62-a880-0cbed3c3196d"
    },
    {
      "cell_type": "markdown",
      "metadata": {},
      "source": [
        "`#`\n",
        "\n",
        "`# 예시4`"
      ],
      "id": "ec16db0b-1cad-4cb2-803f-b0e56be86b48"
    },
    {
      "cell_type": "code",
      "execution_count": 276,
      "metadata": {
        "tags": []
      },
      "outputs": [],
      "source": [
        "def find_item(items: List[str], search: str) -> Optional[int]:\n",
        "    try:\n",
        "        return items.index(search)\n",
        "    except ValueError:\n",
        "        return None\n",
        "\n",
        "# 설명: 문자열 리스트에서 특정 문자열의 인덱스를 찾고, 찾지 못하면 `None`을 반환\n",
        "# 입력 형식 예시: \n",
        "# - item: ['apple', 'banana', 'cherry']\n",
        "# - search: 'banana'\n",
        "# 출력 형식 예시: 1 또는 None"
      ],
      "id": "9f669075-3239-46e8-9ecc-16d15860d102"
    },
    {
      "cell_type": "code",
      "execution_count": 277,
      "metadata": {
        "tags": []
      },
      "outputs": [],
      "source": [
        "find_item(['apple', 'banana', 'cherry'], 'banana')"
      ],
      "id": "08ffa1a8-3141-4a76-b18c-1862dee9071a"
    },
    {
      "cell_type": "code",
      "execution_count": 278,
      "metadata": {
        "tags": []
      },
      "outputs": [],
      "source": [
        "find_item(['apple', 'banana', 'cherry'], 'orange')"
      ],
      "id": "591b2895-acfd-417e-9425-57342a450c59"
    },
    {
      "cell_type": "code",
      "execution_count": 279,
      "metadata": {
        "tags": []
      },
      "outputs": [
        {
          "output_type": "stream",
          "name": "stdout",
          "text": [
            "None"
          ]
        }
      ],
      "source": [
        "print(find_item(['apple', 'banana', 'cherry'], 'orange'))"
      ],
      "id": "c866eac2-67c9-469d-8112-1329eba402c0"
    },
    {
      "cell_type": "markdown",
      "metadata": {},
      "source": [
        "`#`\n",
        "\n",
        "`# 예시5`"
      ],
      "id": "daebf13e-f5d9-43c1-99eb-cf67a7a30d00"
    },
    {
      "cell_type": "code",
      "execution_count": 284,
      "metadata": {
        "tags": []
      },
      "outputs": [],
      "source": [
        "def process_value(value: Union[int, str]) -> str:\n",
        "    if isinstance(value, int):\n",
        "        return f\"Number: {value}\"\n",
        "    else:\n",
        "        return f\"String: {value}\"\n",
        "    \n",
        "# 입력 형식 예시: \n",
        "# - value: 10  <-- 이것도 가능하고 \n",
        "# - value: \"hello\"  <-- 이것도 가능하다\n",
        "# 출력 형식 예시: \"Number: 10\" 또는 \"String: hello\" (문자열) "
      ],
      "id": "c15ee932-9479-4531-9b3f-d17125a66315"
    },
    {
      "cell_type": "code",
      "execution_count": 282,
      "metadata": {
        "tags": []
      },
      "outputs": [],
      "source": [
        "process_value(10)"
      ],
      "id": "58b9a261-b99a-42c9-9340-0ed78277e7fe"
    },
    {
      "cell_type": "code",
      "execution_count": 283,
      "metadata": {
        "tags": []
      },
      "outputs": [],
      "source": [
        "process_value(\"hello\")"
      ],
      "id": "141f36cb-28c1-4896-a8ae-5cef543c3c25"
    },
    {
      "cell_type": "markdown",
      "metadata": {},
      "source": [
        "`#`\n",
        "\n",
        "`# 예시6`"
      ],
      "id": "909845a4-07ae-4d17-bfaa-ac3ed06bde1a"
    },
    {
      "cell_type": "code",
      "execution_count": 285,
      "metadata": {
        "tags": []
      },
      "outputs": [],
      "source": [
        "def print_value(value: Any) -> None:\n",
        "    print(value)\n",
        "    \n",
        "# 입력 형식 예시\n",
        "# - value: 아무거나\n",
        "# 출력 형식 예시\n",
        "# - None "
      ],
      "id": "2fa00f81-c3b6-4f82-8b04-4b5f9689a965"
    },
    {
      "cell_type": "code",
      "execution_count": 246,
      "metadata": {
        "tags": []
      },
      "outputs": [
        {
          "output_type": "stream",
          "name": "stdout",
          "text": [
            "123"
          ]
        }
      ],
      "source": [
        "print_value(123)"
      ],
      "id": "2889163e-4969-4b7d-9dcd-140ba76a7491"
    },
    {
      "cell_type": "code",
      "execution_count": 247,
      "metadata": {
        "tags": []
      },
      "outputs": [
        {
          "output_type": "stream",
          "name": "stdout",
          "text": [
            "hello"
          ]
        }
      ],
      "source": [
        "print_value('hello')"
      ],
      "id": "3ffbe99f-92ab-4a2e-bdfb-407de61b8c17"
    },
    {
      "cell_type": "markdown",
      "metadata": {},
      "source": [
        "`#`\n",
        "\n",
        "`# 예시7`"
      ],
      "id": "2d993504-146a-45a4-a4fc-98ee4343df48"
    },
    {
      "cell_type": "code",
      "execution_count": 290,
      "metadata": {
        "tags": []
      },
      "outputs": [],
      "source": [
        "def apply_function(x: int, func: Callable[[int], float]) -> float:\n",
        "    return func(x)\n",
        "\n",
        "# 입력형식예시\n",
        "# - x: 1 \n",
        "# - func: np.sqrt,  <-- 이런건 가능. int를 입력으로 받아서, float형을 리턴하는 callable object\n",
        "# - func: lambda x: x**2,  <-- 이런건 권장X. int를 입력으로 받아서, int형을 리턴하니까..\n",
        "# 출력형식예시\n",
        "# - 1.7320508075688772"
      ],
      "id": "8e9e7f5c-db05-4012-9b2a-ed070a203dcf"
    },
    {
      "cell_type": "code",
      "execution_count": 291,
      "metadata": {
        "tags": []
      },
      "outputs": [],
      "source": [
        "apply_function(3,np.sqrt)"
      ],
      "id": "542e4b0f-2545-4398-8745-8faf99483e8a"
    },
    {
      "cell_type": "markdown",
      "metadata": {},
      "source": [
        "`#`\n",
        "\n",
        "# 6. 데코레이터\n",
        "\n",
        "## A. 개념\n",
        "\n",
        "`-` 데코레이터 쓰는법\n",
        "\n",
        "1.  함수입력,함수출력을 수행하는 함수를 만든다.\n",
        "2.  입력함수 위에 데코를 쓴다. 그러면 그 입력함수는 출력함수로 바뀐다.\n",
        "\n",
        "`-` 데코레이터 코드 템플릿1 – 이걸 외우진 마세요\n",
        "\n",
        "**데코레이터 선언**\n",
        "\n",
        "``` python\n",
        "def decorator_name(func):\n",
        "    ...\n",
        "    return wrapper\n",
        "```\n",
        "\n",
        "``` python\n",
        "def 꾸밈함수이름(입력함수):\n",
        "    ... \n",
        "    return 출력함수\n",
        "```\n",
        "\n",
        "**데코레이터 사용**\n",
        "\n",
        "``` python\n",
        "@decorator_name\n",
        "def myfunc():\n",
        "    pass\n",
        "```\n",
        "\n",
        "``` python\n",
        "@꾸밈함수이름\n",
        "def 꾸밈당하는함수():\n",
        "    pass \n",
        "```\n",
        "\n",
        "`# 예제1` – 코드 템플릿1: 사용예시"
      ],
      "id": "104a9e2c-6566-4f0f-b063-4110ec2e19a8"
    },
    {
      "cell_type": "code",
      "execution_count": 293,
      "metadata": {
        "tags": []
      },
      "outputs": [],
      "source": [
        "# 데코레이터 선언\n",
        "def 무조건메롱을리턴(func):\n",
        "    wrapper = lambda x: \"메롱\"\n",
        "    return wrapper"
      ],
      "id": "398557af-5197-48b6-bd3b-1a1303a1aff3"
    },
    {
      "cell_type": "code",
      "execution_count": 294,
      "metadata": {
        "tags": []
      },
      "outputs": [],
      "source": [
        "def f(x):\n",
        "    return x**2\n",
        "list(map(f,[1,2,3,4,5]))"
      ],
      "id": "1a016e83-008e-4fb9-b142-1553e0b69858"
    },
    {
      "cell_type": "code",
      "execution_count": 295,
      "metadata": {
        "tags": []
      },
      "outputs": [],
      "source": [
        "@무조건메롱을리턴\n",
        "def f(x):\n",
        "    return x**2\n",
        "list(map(f,[1,2,3,4,5]))"
      ],
      "id": "cef1a671-063f-4a0a-8d46-0a413e1ea5f4"
    },
    {
      "cell_type": "markdown",
      "metadata": {},
      "source": [
        "`#`\n",
        "\n",
        "`# 예제2` – 데코레이터와 같은코드\n",
        "\n",
        "`-` 코드1"
      ],
      "id": "a7b46bef-5f2e-4b97-bd21-9d91b0ca2f77"
    },
    {
      "cell_type": "code",
      "execution_count": 299,
      "metadata": {
        "tags": []
      },
      "outputs": [],
      "source": [
        "def 무조건메롱을리턴(func):\n",
        "    wrapper = lambda x: \"메롱\"\n",
        "    return wrapper\n",
        "\n",
        "def f(x):\n",
        "    return x**2\n",
        "\n",
        "f = 무조건메롱을리턴(f)\n",
        "\n",
        "[f(x) for x in range(5)]"
      ],
      "id": "97530c40-9da0-4dc3-ab24-49d2119c4fe2"
    },
    {
      "cell_type": "markdown",
      "metadata": {},
      "source": [
        "`-` 코드2"
      ],
      "id": "b7bd04b3-956a-4558-b619-fd6de9ecc2f9"
    },
    {
      "cell_type": "code",
      "execution_count": 300,
      "metadata": {
        "tags": []
      },
      "outputs": [],
      "source": [
        "def 무조건메롱을리턴(func):\n",
        "    wrapper = lambda x: \"메롱\"\n",
        "    return wrapper\n",
        "\n",
        "@무조건메롱을리턴\n",
        "def f(x):\n",
        "    return x**2\n",
        "\n",
        "[f(x) for x in range(5)]"
      ],
      "id": "f4393aa3-ad07-46e0-b433-4e1c67beea05"
    },
    {
      "cell_type": "markdown",
      "metadata": {},
      "source": [
        "`-` 좀 더 확장하면..\n",
        "\n",
        "**코드1**\n",
        "\n",
        "``` python\n",
        "@dec2\n",
        "@dec1\n",
        "def func(arg1, arg2, ...):\n",
        "    pass\n",
        "```\n",
        "\n",
        "**코드2**\n",
        "\n",
        "``` python\n",
        "def func(arg1, arg2, ...);\n",
        "    pass \n",
        "func = dec2(dec1(func))\n",
        "```\n",
        "\n",
        "코드1과 코드2를 두번쓸 수 있음\n",
        "\n",
        "`-` 데코레이터 코드 템플릿2 – 아래의 형태를 기억할것\n",
        "\n",
        "``` python\n",
        "def decorator_name(func):\n",
        "    def wrapper(*args, **kwargs):\n",
        "        func_result = func(*args, **kwargs)\n",
        "        return func_result\n",
        "    return wrapper\n",
        "```\n",
        "\n",
        "``` python\n",
        "def 아무것도안꾸미는함수(입력함수):\n",
        "    def 출력함수(*args, **kwargs):\n",
        "        입력함수의출력 = 입력함수(*args, **kwargs)\n",
        "        return 입력함수의출력\n",
        "    return 출력함수\n",
        "```\n",
        "\n",
        "위의 코드는 아무것도 안꾸미는 코드\n",
        "\n",
        "## B. 대표예시\n",
        "\n",
        "`# 예제1` – 출력결과는 항상 리스트로"
      ],
      "id": "c14ed19d-f176-4c3a-83c5-7310d21f7dec"
    },
    {
      "cell_type": "code",
      "execution_count": 734,
      "metadata": {
        "tags": []
      },
      "outputs": [],
      "source": [
        "def 출력은리스트로(func):\n",
        "    def wrapper(*args,**kwargs):\n",
        "        func_result = func(*args,**kwargs)\n",
        "        return list(func_result)\n",
        "    return wrapper"
      ],
      "id": "fcd33675-688e-4330-9b94-9e5d6162ef87"
    },
    {
      "cell_type": "code",
      "execution_count": 740,
      "metadata": {
        "tags": []
      },
      "outputs": [],
      "source": [
        "def 입력은넘파이로(func):\n",
        "    def wrapper(*args,**kwargs):\n",
        "        args = [np.array(l) for l in args]\n",
        "        kwargs = {k:np.array(v) for k,v in kwargs.items()}\n",
        "        func_result = func(*args,**kwargs)\n",
        "        return func_result\n",
        "    return wrapper"
      ],
      "id": "af30f5c4-0013-4189-9194-be57a7066cf5"
    },
    {
      "cell_type": "code",
      "execution_count": 741,
      "metadata": {
        "tags": []
      },
      "outputs": [],
      "source": [
        "@출력은리스트로\n",
        "@입력은넘파이로\n",
        "def add(a,b):\n",
        "    return a+b    "
      ],
      "id": "76adebdb-115a-44f7-a712-5ac0eb8cf3c8"
    },
    {
      "cell_type": "code",
      "execution_count": 742,
      "metadata": {
        "tags": []
      },
      "outputs": [],
      "source": [
        "add([1,2],[3,4])"
      ],
      "id": "1052edad-c791-4537-9cd3-972aefd6b7bb"
    },
    {
      "cell_type": "code",
      "execution_count": 743,
      "metadata": {
        "tags": []
      },
      "outputs": [],
      "source": [
        "add(a=[1,2],b=[3,4])"
      ],
      "id": "358981da-f538-4680-8333-0ae2fbc936e5"
    },
    {
      "cell_type": "code",
      "execution_count": 744,
      "metadata": {
        "tags": []
      },
      "outputs": [],
      "source": [
        "add([1,2,3],b=[2,3,4])"
      ],
      "id": "ac0f8255-3fb3-4683-8b96-da250f3d11b6"
    },
    {
      "cell_type": "markdown",
      "metadata": {},
      "source": [
        "`#`\n",
        "\n",
        "`# 예시2` – 실행시간측정"
      ],
      "id": "bf322d06-2b13-4106-8acc-4656153ee85b"
    },
    {
      "cell_type": "code",
      "execution_count": 344,
      "metadata": {
        "tags": []
      },
      "outputs": [],
      "source": [
        "def 시간측정(func):\n",
        "    def wrapper(*args,**kwargs):\n",
        "        t1 = time.time()\n",
        "        func_result = func(*args,**kwargs)\n",
        "        t2 = time.time()\n",
        "        print(f\"실행시간: {t2-t1}\")\n",
        "        return func_result \n",
        "    return wrapper"
      ],
      "id": "19295ee1-b68d-46bb-82d9-860602d4687c"
    },
    {
      "cell_type": "code",
      "execution_count": 347,
      "metadata": {
        "tags": []
      },
      "outputs": [],
      "source": [
        "@시간측정\n",
        "@출력은리스트로\n",
        "@입력은넘파이로\n",
        "def sub(a,b):\n",
        "    return a-b "
      ],
      "id": "96d29d5c-2c68-408c-b0ed-9344d5cb7e7e"
    },
    {
      "cell_type": "code",
      "execution_count": 348,
      "metadata": {
        "tags": []
      },
      "outputs": [
        {
          "output_type": "stream",
          "name": "stdout",
          "text": [
            "실행시간: 2.002716064453125e-05"
          ]
        }
      ],
      "source": [
        "sub([1,2,3],[1,2,3])"
      ],
      "id": "237f469e-d5f9-4b26-973c-034f087d5795"
    },
    {
      "cell_type": "markdown",
      "metadata": {},
      "source": [
        "`#`\n",
        "\n",
        "`# 예시3` – 출력결과 시각화"
      ],
      "id": "3b742d1d-8b7e-478d-bd57-e3573cb268d6"
    },
    {
      "cell_type": "code",
      "execution_count": 349,
      "metadata": {
        "tags": []
      },
      "outputs": [],
      "source": [
        "def 출력시각화(func):\n",
        "    def wrapper(*args,**kwargs):\n",
        "        func_result = func(*args,**kwargs)\n",
        "        plt.plot(func_result,'--o')\n",
        "        return func_result \n",
        "    return wrapper"
      ],
      "id": "b80ed7b9-0df8-4d0b-8754-b2dfa93057da"
    },
    {
      "cell_type": "code",
      "execution_count": 359,
      "metadata": {
        "tags": []
      },
      "outputs": [],
      "source": [
        "@시간측정\n",
        "@출력시각화\n",
        "@출력은리스트로\n",
        "@입력은넘파이로\n",
        "def mul(a,b):\n",
        "    return a*b "
      ],
      "id": "991603c4-528d-4ea2-a555-e6a1f28e2be1"
    },
    {
      "cell_type": "code",
      "execution_count": 360,
      "metadata": {
        "tags": []
      },
      "outputs": [
        {
          "output_type": "stream",
          "name": "stdout",
          "text": [
            "실행시간: 0.006300926208496094"
          ]
        },
        {
          "output_type": "display_data",
          "metadata": {},
          "data": {
            "image/png": "[encoded data removed]"
          }
        }
      ],
      "source": [
        "mul([1,-1,1],[2,3,4])"
      ],
      "id": "9c1a8664-51dd-4bf9-8000-18dc84d95958"
    },
    {
      "cell_type": "markdown",
      "metadata": {},
      "source": [
        "## C. 내장 데코레이터\n",
        "\n",
        "`-` 아래는 모두 내장데코레이터였음..\n",
        "\n",
        "``` python\n",
        "@classmethod\n",
        "@staticmethod\n",
        "```\n",
        "\n",
        "# 7. 제너레이터\n",
        "\n",
        "## A. 대표예제\n",
        "\n",
        "`# 예시1` – `for`/`if` 마스터.."
      ],
      "id": "edeccc41-d470-48d3-b26f-0ead8b84f79b"
    },
    {
      "cell_type": "code",
      "execution_count": 375,
      "metadata": {
        "tags": []
      },
      "outputs": [],
      "source": [
        "np.random.seed(43052)\n",
        "att = np.random.choice(np.arange(10,21)*5,20); rep = np.random.choice(np.arange(5,21)*5,20); mid = np.random.choice(np.arange(0,21)*5,20); fin = np.random.choice(np.arange(0,21)*5,20)\n",
        "df = pd.DataFrame({'att':att,'rep':rep,'mid':mid,'fin':fin})\n",
        "df"
      ],
      "id": "74d00181-2b3a-49f4-bff7-f69c22a8845f"
    },
    {
      "cell_type": "code",
      "execution_count": 379,
      "metadata": {
        "tags": []
      },
      "outputs": [],
      "source": [
        "grades = [] \n",
        "for i in range(len(df)):\n",
        "    row = df.iloc[i]\n",
        "    att,rep,mid,fin = row \n",
        "    total = att*0.1 + rep*0.2 + mid *0.3 + fin*0.4\n",
        "    if total >= 70: \n",
        "        grade =  \"A+\"\n",
        "    elif 40 < total: \n",
        "        grade = \"B0\"\n",
        "    else: \n",
        "        grade = \"F\"\n",
        "    grades.append(grade)"
      ],
      "id": "2ed3a54d-cb55-417d-b158-a1cb1b052098"
    },
    {
      "cell_type": "code",
      "execution_count": 380,
      "metadata": {
        "tags": []
      },
      "outputs": [],
      "source": [
        "grades"
      ],
      "id": "23b997b9-c065-4bf1-b3e1-77e344e2852f"
    },
    {
      "cell_type": "markdown",
      "metadata": {},
      "source": [
        "`#`\n",
        "\n",
        "`# 예시2` – 사실 머리속에는 파이프라인의 개념이 있지 않나?"
      ],
      "id": "7dc62b6c-f0a7-4e82-9597-fb7882440bd1"
    },
    {
      "cell_type": "code",
      "execution_count": 381,
      "metadata": {
        "tags": []
      },
      "outputs": [],
      "source": [
        "row = df.iloc[0]\n",
        "row"
      ],
      "id": "c2064fbf-f1f0-4f37-93fe-9ee4c0b24df3"
    },
    {
      "cell_type": "code",
      "execution_count": 382,
      "metadata": {
        "tags": []
      },
      "outputs": [],
      "source": [
        "def calculate_total(row):\n",
        "    att, rep, mid, fin = row \n",
        "    total = att*0.1 + rep*0.2 + mid*0.3 + fin*0.4 \n",
        "    return total"
      ],
      "id": "0c12936b-3f6e-4fd1-a3e5-2ab0d5201e2e"
    },
    {
      "cell_type": "code",
      "execution_count": 383,
      "metadata": {
        "tags": []
      },
      "outputs": [],
      "source": [
        "total = calculate_total(row)\n",
        "total"
      ],
      "id": "77411218-9eb2-4939-919a-8359b96f1f9b"
    },
    {
      "cell_type": "code",
      "execution_count": 384,
      "metadata": {
        "tags": []
      },
      "outputs": [],
      "source": [
        "def make_grade(total):\n",
        "    if total >= 70: \n",
        "        return \"A+\"\n",
        "    elif 40 < total: \n",
        "        return \"B0\"\n",
        "    else: \n",
        "        return \"F\"    "
      ],
      "id": "d7d03b36-3791-414e-b618-5f35cbac5eaa"
    },
    {
      "cell_type": "code",
      "execution_count": 385,
      "metadata": {
        "tags": []
      },
      "outputs": [],
      "source": [
        "make_grade(total)"
      ],
      "id": "94b7db1e-ce56-481c-a78b-d71f253be35d"
    },
    {
      "cell_type": "code",
      "execution_count": 388,
      "metadata": {
        "tags": []
      },
      "outputs": [],
      "source": [
        "# 깔끔 그자체\n",
        "row = df.iloc[0]\n",
        "total = calculate_total(row)\n",
        "grade = make_grade(total) "
      ],
      "id": "de9ea23d-3cb5-4123-8f1a-9b6929c0658f"
    },
    {
      "cell_type": "code",
      "execution_count": 389,
      "metadata": {
        "tags": []
      },
      "outputs": [],
      "source": [
        "# 그렇지만 for문과 결합하면 더러워짐 \n",
        "n = len(df)\n",
        "grades = []\n",
        "for i in range(n):\n",
        "    row = df.iloc[i]\n",
        "    total = calculate_total(row)\n",
        "    grade = make_grade(total)\n",
        "    grades.append(grade) \n",
        "grades"
      ],
      "id": "2c0accf5-4da8-4f4a-8f31-ed27f3931d53"
    },
    {
      "cell_type": "markdown",
      "metadata": {},
      "source": [
        "`# 예시3` – 제너레이터의 개발\n",
        "\n",
        "`-` row-wise 하게 쪼갠다."
      ],
      "id": "fb6f7cb4-544b-485c-965c-3c55abbb552e"
    },
    {
      "cell_type": "code",
      "execution_count": 483,
      "metadata": {
        "tags": []
      },
      "outputs": [],
      "source": [
        "def each_row(df):\n",
        "    n = len(df) \n",
        "    for i in range(n):\n",
        "        yield df.iloc[i]"
      ],
      "id": "1bcf2aa5-687f-4642-b7fe-7ae22a2b1b06"
    },
    {
      "cell_type": "code",
      "execution_count": 484,
      "metadata": {
        "tags": []
      },
      "outputs": [],
      "source": [
        "rows = each_row(df) # 마치 rows = [row1,row2,...] 와 같은 형태로 있다고 생각하자."
      ],
      "id": "158fb85b-e482-47c7-9957-03382ddf64d4"
    },
    {
      "cell_type": "markdown",
      "metadata": {},
      "source": [
        "`-` total을 계산한다. (row 별로)"
      ],
      "id": "773a1292-d7f6-45c1-b094-610e8122edf9"
    },
    {
      "cell_type": "code",
      "execution_count": 485,
      "metadata": {
        "tags": []
      },
      "outputs": [],
      "source": [
        "def calculate_total(rows):\n",
        "    for row in rows:\n",
        "        att, rep, mid, fin = row \n",
        "        total = att*0.1 + rep*0.2 + mid*0.3 + fin*0.4 \n",
        "        yield total"
      ],
      "id": "a6e50c79-8eb1-4e36-9139-03e6957ca945"
    },
    {
      "cell_type": "code",
      "execution_count": 486,
      "metadata": {
        "tags": []
      },
      "outputs": [],
      "source": [
        "totals = calculate_total(rows)  # totals = [total1,total2,...] 와 같은 형태로 있다고 생각하자. "
      ],
      "id": "d6086170-cf90-4d6a-9ff8-2b44639ef039"
    },
    {
      "cell_type": "markdown",
      "metadata": {},
      "source": [
        "`-` grade를 계산한다 (row별로)"
      ],
      "id": "74d12c94-7a19-4b6e-9d16-b2840419f0fb"
    },
    {
      "cell_type": "code",
      "execution_count": 410,
      "metadata": {
        "tags": []
      },
      "outputs": [],
      "source": [
        "def make_grade(totals):\n",
        "    for total in totals:\n",
        "        if total >= 70: \n",
        "            yield \"A+\"\n",
        "        elif 40 < total: \n",
        "            yield \"B0\"\n",
        "        else: \n",
        "            yield \"F\""
      ],
      "id": "312ade6b-0442-485f-9a3e-0359d72b1778"
    },
    {
      "cell_type": "code",
      "execution_count": 411,
      "metadata": {
        "tags": []
      },
      "outputs": [],
      "source": [
        "grades = make_grade(totals)  # grades = [grade1,grade2,...] 와 같은 형태로 있다고 생각하자."
      ],
      "id": "bffd6ed8-168d-4ce5-a30f-f4598fbf9274"
    },
    {
      "cell_type": "markdown",
      "metadata": {},
      "source": [
        "`-` 합친다.. (형태변환)"
      ],
      "id": "ce927ae4-e9c8-452a-8a95-ade52bff7f48"
    },
    {
      "cell_type": "code",
      "execution_count": 412,
      "metadata": {
        "tags": []
      },
      "outputs": [],
      "source": [
        "list(grades)"
      ],
      "id": "baf12705-a038-4f40-bb0e-456ff2cc556d"
    },
    {
      "cell_type": "markdown",
      "metadata": {},
      "source": [
        "`-` 최종코드"
      ],
      "id": "f99b9500-366b-4420-9290-0b5c32bb488c"
    },
    {
      "cell_type": "code",
      "execution_count": 415,
      "metadata": {
        "tags": []
      },
      "outputs": [],
      "source": [
        "#list(make_grade(calculate_total(each_row(df))))"
      ],
      "id": "c1a55a00-8ac7-4fdf-bc6b-8703e203096f"
    },
    {
      "cell_type": "code",
      "execution_count": 487,
      "metadata": {
        "tags": []
      },
      "outputs": [],
      "source": [
        "rows = each_row(df) \n",
        "totals = calculate_total(rows)\n",
        "grades = make_grade(totals)\n",
        "df.assign(grade = list(grades))"
      ],
      "id": "2143183a-ad12-412a-8226-032f4016d134"
    },
    {
      "cell_type": "markdown",
      "metadata": {},
      "source": [
        "`#`\n",
        "\n",
        "## B. 제너레이터의 개념\n",
        "\n",
        "`-` 제너레이터의 정체: 이터레이터 + $\\alpha$"
      ],
      "id": "0e64905e-1d61-42aa-91c9-251467c4ac36"
    },
    {
      "cell_type": "code",
      "execution_count": 438,
      "metadata": {
        "tags": []
      },
      "outputs": [],
      "source": [
        "lst = [1,2,3] \n",
        "lst_iterator = iter(lst) "
      ],
      "id": "cbe3635e-e735-4f6c-8279-f7558e79e2ce"
    },
    {
      "cell_type": "code",
      "execution_count": 439,
      "metadata": {
        "tags": []
      },
      "outputs": [],
      "source": [
        "isinstance(lst_iterator,collections.abc.Iterator), isinstance(lst_iterator,collections.abc.Generator)"
      ],
      "id": "7487565e-2784-4be2-aa98-d455807c60ed"
    },
    {
      "cell_type": "code",
      "execution_count": 440,
      "metadata": {
        "tags": []
      },
      "outputs": [],
      "source": [
        "def make_gen(lst):\n",
        "    for l in lst:\n",
        "        yield l "
      ],
      "id": "b29dcc97-635a-4f06-80d7-bc0bedfc97e9"
    },
    {
      "cell_type": "code",
      "execution_count": 441,
      "metadata": {
        "tags": []
      },
      "outputs": [],
      "source": [
        "lst_generator = make_gen(lst)"
      ],
      "id": "71f4c505-0724-402f-ae9d-d9ecef3e1ffb"
    },
    {
      "cell_type": "code",
      "execution_count": 442,
      "metadata": {
        "tags": []
      },
      "outputs": [],
      "source": [
        "isinstance(lst_generator,collections.abc.Iterator), isinstance(lst_generator,collections.abc.Generator)"
      ],
      "id": "2d04c4ad-ec31-41eb-ab21-760da432f478"
    },
    {
      "cell_type": "code",
      "execution_count": 425,
      "metadata": {
        "tags": []
      },
      "outputs": [],
      "source": [
        "set(dir(lst_generator))-set(dir(lst_iterator))"
      ],
      "id": "ebce13d9-135c-4872-b626-533aec513a50"
    },
    {
      "cell_type": "markdown",
      "metadata": {},
      "source": [
        "-   제너레이터는 이터레이터에 추가하여 위의 기능들이 있음.\n",
        "-   저는 저걸 딱히 쓴적이 없어요.. (책에도 별로 추천안함)\n",
        "-   그냥 제너레이터 = 이터레이터 라고 생각하세요\n",
        "\n",
        "`-` 만드는 방법1: 함수를 이용하는 방법"
      ],
      "id": "fd243c22-395f-4ecf-b1a3-71bfd621f6d4"
    },
    {
      "cell_type": "code",
      "execution_count": 491,
      "metadata": {
        "tags": []
      },
      "outputs": [],
      "source": [
        "def make_gen(lst):\n",
        "    for l in lst:\n",
        "        yield l"
      ],
      "id": "4aa0a92f-d8dd-44cf-b820-2070fc1737b4"
    },
    {
      "cell_type": "code",
      "execution_count": 492,
      "metadata": {
        "tags": []
      },
      "outputs": [],
      "source": [
        "make_gen([1,2,3])"
      ],
      "id": "4603acaf-352a-4812-8164-b01473f7ef65"
    },
    {
      "cell_type": "markdown",
      "metadata": {},
      "source": [
        "`-` 만드는 방법2: 제너레이터 표현식 (튜플 컴프리헨션이라고 속으로\n",
        "생각해도 무방, 튜플 컴프리헨션은 없는 용어임)"
      ],
      "id": "94bd154a-5b7b-431a-bab3-5a97cd109f63"
    },
    {
      "cell_type": "code",
      "execution_count": 501,
      "metadata": {
        "tags": []
      },
      "outputs": [],
      "source": [
        "(l for l in [1,2,3])"
      ],
      "id": "fc5d18d5-d630-485b-9b6f-b8bc60f6312a"
    },
    {
      "cell_type": "markdown",
      "metadata": {},
      "source": [
        "## C. 개념을 위한 예제들\n",
        "\n",
        "`# 예시1`"
      ],
      "id": "0aa2e30b-c7b9-44ae-afaf-b4752d4e581a"
    },
    {
      "cell_type": "code",
      "execution_count": 511,
      "metadata": {
        "tags": []
      },
      "outputs": [],
      "source": [
        "def make_gen():\n",
        "    yield 1\n",
        "    yield 2\n",
        "    yield 3\n",
        "gen = make_gen()"
      ],
      "id": "2bcc0816-91cc-48ef-9def-c1a6d15cfbb9"
    },
    {
      "cell_type": "code",
      "execution_count": 512,
      "metadata": {
        "tags": []
      },
      "outputs": [
        {
          "output_type": "stream",
          "name": "stdout",
          "text": [
            "1\n",
            "2\n",
            "3"
          ]
        }
      ],
      "source": [
        "for i in gen:\n",
        "    print(i)"
      ],
      "id": "263345fe-9953-48bf-ac74-575c2ffcb137"
    },
    {
      "cell_type": "code",
      "execution_count": 513,
      "metadata": {
        "tags": []
      },
      "outputs": [],
      "source": [
        "gen = make_gen()"
      ],
      "id": "6f789f9b-a364-4327-b651-c5b38921e837"
    },
    {
      "cell_type": "code",
      "execution_count": 514,
      "metadata": {
        "tags": []
      },
      "outputs": [],
      "source": [
        "next(gen)"
      ],
      "id": "223357e7-e2c6-4751-8920-78999798d133"
    },
    {
      "cell_type": "code",
      "execution_count": 515,
      "metadata": {
        "tags": []
      },
      "outputs": [],
      "source": [
        "next(gen)"
      ],
      "id": "98b6b259-79ae-4e73-904a-da97d62af721"
    },
    {
      "cell_type": "code",
      "execution_count": 516,
      "metadata": {
        "tags": []
      },
      "outputs": [],
      "source": [
        "next(gen)"
      ],
      "id": "75385d3c-d9ae-490c-84bc-9ede14d984dc"
    },
    {
      "cell_type": "code",
      "execution_count": 517,
      "metadata": {
        "tags": []
      },
      "outputs": [],
      "source": [
        "next(gen)"
      ],
      "id": "3d9dc412-73ce-4bff-9649-d2b646906968"
    },
    {
      "cell_type": "markdown",
      "metadata": {},
      "source": [
        "`#`\n",
        "\n",
        "`# 예시2` – 무한시퀀스 + 지연실행"
      ],
      "id": "6d2250df-4c79-4075-9c80-5f16cb0aa24a"
    },
    {
      "cell_type": "code",
      "execution_count": 532,
      "metadata": {
        "tags": []
      },
      "outputs": [],
      "source": [
        "def make_gen():\n",
        "    a = 3 \n",
        "    yield a \n",
        "    while True:\n",
        "        a = a+2 \n",
        "        yield a "
      ],
      "id": "4e444ca9-19ee-47de-96a8-ffacdc1cc21c"
    },
    {
      "cell_type": "code",
      "execution_count": 533,
      "metadata": {
        "tags": []
      },
      "outputs": [],
      "source": [
        "gen = make_gen()"
      ],
      "id": "0c31343e-5e1b-4f02-bc99-d29335fcfc09"
    },
    {
      "cell_type": "code",
      "execution_count": 535,
      "metadata": {
        "tags": []
      },
      "outputs": [],
      "source": [
        "lst = [] "
      ],
      "id": "dd8f830a-a99d-4f61-93f0-2174fb217c93"
    },
    {
      "cell_type": "code",
      "execution_count": 536,
      "metadata": {
        "tags": []
      },
      "outputs": [],
      "source": [
        "for _ in range(10):\n",
        "    lst.append(next(gen))"
      ],
      "id": "504013b0-da13-4629-badc-65129d5639b7"
    },
    {
      "cell_type": "code",
      "execution_count": 537,
      "metadata": {
        "tags": []
      },
      "outputs": [],
      "source": [
        "lst"
      ],
      "id": "ac37fc27-acdc-4080-bb34-155ee7393fdd"
    },
    {
      "cell_type": "code",
      "execution_count": 538,
      "metadata": {
        "tags": []
      },
      "outputs": [],
      "source": [
        "for _ in range(10):\n",
        "    lst.append(next(gen))"
      ],
      "id": "ba3f3f4e-04d4-4f0a-8d20-281196bca79a"
    },
    {
      "cell_type": "code",
      "execution_count": 539,
      "metadata": {
        "tags": []
      },
      "outputs": [],
      "source": [
        "lst"
      ],
      "id": "81bed9c3-1757-43c7-8acb-85283f0d1be8"
    },
    {
      "cell_type": "markdown",
      "metadata": {},
      "source": [
        "`#`\n",
        "\n",
        "# 8. 상속\n",
        "\n",
        "## A. 상속의 사용방법\n",
        "\n",
        "`-` 클래스를 조금 수정하고 싶을때, 아래와 같은 문법을 이용하면 편리하다.\n",
        "\n",
        "``` python\n",
        "class 새로운_클래스_이름(수정할_클래스_이름): \n",
        "    def 수정_및_추가할_함수이름(self,...):\n",
        "        ...\n",
        "```\n",
        "\n",
        "`# 예시1` – UpJump\n",
        "\n",
        "![](attachment:14wk-2_files/figure-ipynb/mermaid-figure-1.png)"
      ],
      "attachments": {
        "14wk-2_files/figure-ipynb/mermaid-figure-1.png": {
          "image/png": "[encoded data removed]"
        }
      },
      "id": "515ebfcf-e438-4b86-8f00-caa57d0bf319"
    },
    {
      "cell_type": "code",
      "execution_count": 93,
      "metadata": {
        "tags": []
      },
      "outputs": [],
      "source": [
        "class Up:\n",
        "    def __init__(self):\n",
        "        self.value = 0\n",
        "    def up(self):\n",
        "        self.value = self.value + 1 \n",
        "    def __repr__(self):\n",
        "        return str(self.value) "
      ],
      "id": "d4c964a9-8556-417d-80c2-f12be3984087"
    },
    {
      "cell_type": "code",
      "execution_count": 94,
      "metadata": {
        "tags": []
      },
      "outputs": [],
      "source": [
        "class UpJump(Up):\n",
        "    def jump(self,jump_size):\n",
        "        self.value = self.value + jump_size"
      ],
      "id": "8dce61da-5d99-49f9-b545-d60681ef9674"
    },
    {
      "cell_type": "markdown",
      "metadata": {},
      "source": [
        "`#`\n",
        "\n",
        "`# 예시2` – `AddMul` 클래스\n",
        "\n",
        "`-` Add 클래스 선언"
      ],
      "id": "c52c6e5f-69e4-4494-96a3-de2677916fb6"
    },
    {
      "cell_type": "code",
      "execution_count": 105,
      "metadata": {
        "tags": []
      },
      "outputs": [],
      "source": [
        "class Add:\n",
        "    def __init__(self,a,b):\n",
        "        self.a = a \n",
        "        self.b = b \n",
        "    def add(self):\n",
        "        return self.a + self.b "
      ],
      "id": "0760b550-f385-4ca2-bc17-cb2f77f33267"
    },
    {
      "cell_type": "code",
      "execution_count": 108,
      "metadata": {
        "tags": []
      },
      "outputs": [],
      "source": [
        "a = Add(2,3)"
      ],
      "id": "af559379-3f22-41e6-babe-c13676d1465e"
    },
    {
      "cell_type": "code",
      "execution_count": 109,
      "metadata": {
        "tags": []
      },
      "outputs": [],
      "source": [
        "a.add()"
      ],
      "id": "b912395e-76f2-4303-bdec-b26572dd4d7f"
    },
    {
      "cell_type": "code",
      "execution_count": 110,
      "metadata": {
        "tags": []
      },
      "outputs": [],
      "source": [
        "a.mul()"
      ],
      "id": "dc2c5af0-af5f-4b86-a010-611a24df37dc"
    },
    {
      "cell_type": "markdown",
      "metadata": {},
      "source": [
        "`-` Mul 클래스 선언"
      ],
      "id": "a6806bb9-bd03-4df0-b8c3-9612a3e93e91"
    },
    {
      "cell_type": "code",
      "execution_count": 113,
      "metadata": {
        "tags": []
      },
      "outputs": [],
      "source": [
        "class Mul:\n",
        "    def __init__(self,a,b):\n",
        "        self.a = a \n",
        "        self.b = b \n",
        "    def mul(self):\n",
        "        return self.a * self.b "
      ],
      "id": "4c218e85-15a0-4abe-96f4-e757e864d42c"
    },
    {
      "cell_type": "code",
      "execution_count": 114,
      "metadata": {
        "tags": []
      },
      "outputs": [],
      "source": [
        "a = Mul(3,4)\n",
        "a.mul()"
      ],
      "id": "566c226c-2232-4078-bed4-c2f1b21d7df2"
    },
    {
      "cell_type": "code",
      "execution_count": 115,
      "metadata": {
        "tags": []
      },
      "outputs": [],
      "source": [
        "a.add()"
      ],
      "id": "c741c5b5-773f-4aa9-b889-91bd94b05541"
    },
    {
      "cell_type": "markdown",
      "metadata": {},
      "source": [
        "`-` AddMul 클래스를 선언 (기존의 Add, Mul 상속받아서 이용)\n",
        "\n",
        "![](attachment:14wk-2_files/figure-ipynb/mermaid-figure-14.png)"
      ],
      "attachments": {
        "14wk-2_files/figure-ipynb/mermaid-figure-14.png": {
          "image/png": "[encoded data removed]"
        }
      },
      "id": "cd62501a-4713-4ee7-8536-e4fd44aa0314"
    },
    {
      "cell_type": "code",
      "execution_count": 116,
      "metadata": {
        "tags": []
      },
      "outputs": [],
      "source": [
        "class AddMul(Add,Mul):\n",
        "    pass "
      ],
      "id": "d61bd763-5104-4821-8454-8589ed27d04b"
    },
    {
      "cell_type": "code",
      "execution_count": 119,
      "metadata": {
        "tags": []
      },
      "outputs": [],
      "source": [
        "a = AddMul(2,3)"
      ],
      "id": "e968bf3a-84e3-4183-bfbb-660fb4a82afd"
    },
    {
      "cell_type": "code",
      "execution_count": 120,
      "metadata": {
        "tags": []
      },
      "outputs": [],
      "source": [
        "a.add()"
      ],
      "id": "5a9e70d8-21b3-4e28-93bf-dbb8a43ee219"
    },
    {
      "cell_type": "code",
      "execution_count": 121,
      "metadata": {
        "tags": []
      },
      "outputs": [],
      "source": [
        "a.mul()"
      ],
      "id": "10c52b48-5b73-4ffc-b4bd-ebf33abb72c8"
    },
    {
      "cell_type": "markdown",
      "metadata": {},
      "source": [
        "> 어, 근데 `__init__`이 겹치지 않나?"
      ],
      "id": "b82a563c-4709-4a8e-bc76-637d5b8dc563"
    },
    {
      "cell_type": "code",
      "execution_count": 122,
      "metadata": {
        "tags": []
      },
      "outputs": [],
      "source": [
        "class Add:\n",
        "    def __init__(self,a,b):\n",
        "        print(\"Add클래스에서 정의된 __init__ 메소드가 실행됩니다\")\n",
        "        self.a = a \n",
        "        self.b = b \n",
        "    def add(self):\n",
        "        return self.a + self.b \n",
        "class Mul:\n",
        "    def __init__(self,a,b):\n",
        "        print(\"Mul클래스에서 정의된 __init__ 메소드가 실행됩니다\")        \n",
        "        self.a = a \n",
        "        self.b = b \n",
        "    def mul(self):\n",
        "        return self.a * self.b    \n",
        "class AddMul(Add,Mul):\n",
        "    pass     "
      ],
      "id": "683e959a-b2ed-4b26-a4ba-a9bd412724e7"
    },
    {
      "cell_type": "code",
      "execution_count": 124,
      "metadata": {
        "tags": []
      },
      "outputs": [
        {
          "output_type": "stream",
          "name": "stdout",
          "text": [
            "Add클래스에서 정의된 __init__ 메소드가 실행됩니다"
          ]
        }
      ],
      "source": [
        "a = AddMul(5,6)"
      ],
      "id": "8b11d571-18c2-4850-94fd-31763390e645"
    },
    {
      "cell_type": "markdown",
      "metadata": {},
      "source": [
        "-   알아서 교통정리함\n",
        "\n",
        "`-` 교통정리하는 비법?"
      ],
      "id": "2c1cd10e-2360-47ca-972e-6a120871a8e1"
    },
    {
      "cell_type": "code",
      "execution_count": 125,
      "metadata": {
        "tags": []
      },
      "outputs": [],
      "source": [
        "AddMul.__mro__"
      ],
      "id": "7b15e413-45eb-4bb6-8663-838fa46e838a"
    },
    {
      "cell_type": "markdown",
      "metadata": {},
      "source": [
        "개념상 아래와 같은 서열인데,\n",
        "\n",
        "![](attachment:14wk-2_files/figure-ipynb/mermaid-figure-13.png)\n",
        "\n",
        "공식적으로는 아래와 같은 서열로 이해한다.\n",
        "\n",
        "![](attachment:14wk-2_files/figure-ipynb/mermaid-figure-12.png)\n",
        "\n",
        "> **Note**\n",
        ">\n",
        "> 모든 상속구조를 거슬러 올라가면 피라미드의 정점에 `object` 클래스가\n",
        "> 있다. 즉 `object`는 최상위 super 클래스이다. 아래의 말을 기억하자.\n",
        ">\n",
        "> > 모든 클래스는 `type` 클래스에서 찍힌 인스턴스이며, 모든 클래스는\n",
        "> > `object` 클래스의 subclass이다.\n",
        ">\n",
        "> 그냥 개념놀음임..\n",
        "\n",
        "> **Warning**\n",
        ">\n",
        "> 다이어그램 표시시 object는 앞으로 생략하겠음.\n",
        "\n",
        "> **Note**\n",
        ">\n",
        "> 아래는 같은코드임\n",
        ">\n",
        "> ``` python\n",
        "> # 코드1\n",
        "> class Klass():\n",
        ">     pass\n",
        "> ```\n",
        ">\n",
        "> ``` python\n",
        "> # 코드2\n",
        "> class Klass(object):\n",
        ">     pass\n",
        "> ```\n",
        ">\n",
        "> 코드1은 사실상 코드2의 생략버전임.\n",
        "\n",
        "`#`\n",
        "\n",
        "## B. `super()`\n",
        "\n",
        "`# 예시1` – 기본적인 사용법\n",
        "\n",
        "![](attachment:14wk-2_files/figure-ipynb/mermaid-figure-11.png)"
      ],
      "attachments": {
        "14wk-2_files/figure-ipynb/mermaid-figure-11.png": {
          "image/png": "[encoded data removed]"
        },
        "14wk-2_files/figure-ipynb/mermaid-figure-12.png": {
          "image/png": "[encoded data removed]"
        },
        "14wk-2_files/figure-ipynb/mermaid-figure-13.png": {
          "image/png": "[encoded data removed]"
        }
      },
      "id": "834cf84b-30b9-4a78-a5e8-6131a82b6006"
    },
    {
      "cell_type": "code",
      "execution_count": 118,
      "metadata": {
        "tags": []
      },
      "outputs": [],
      "source": [
        "class StudentWrong:\n",
        "    def __init__(self,age=20.0, semester=0):\n",
        "        self.age = age \n",
        "        self.semester = semester\n",
        "        print(f\"입학을 축하합니다. 당신의 나이는 {self.age}이고 현재 학기는 {self.semester}학기 입니다.\")\n",
        "    def __repr__(self):\n",
        "        text = f\"나이: {self.age}\\n학기: {self.semester}\"\n",
        "        return text\n",
        "    def __add__(self,registration_status):\n",
        "        if registration_status == \"휴학\":\n",
        "            self.age = self.age +0.5 \n",
        "        elif registration_status == \"등록\":\n",
        "            self.age = self.age +0.5 \n",
        "            self.semester = self.semester + 1\n",
        "class Student(StudentWrong):\n",
        "    def __add__(self,registration_status):\n",
        "        #super().__add__(registration_status) # 방법1 \n",
        "        super(Student,self).__add__(registration_status) # 방법2 \n",
        "        return self"
      ],
      "id": "9b16ade1-a1b5-467d-a9cd-09bf3169a612"
    },
    {
      "cell_type": "code",
      "execution_count": 542,
      "metadata": {
        "tags": []
      },
      "outputs": [
        {
          "output_type": "stream",
          "name": "stdout",
          "text": [
            "입학을 축하합니다. 당신의 나이는 20.0이고 현재 학기는 0학기 입니다."
          ]
        }
      ],
      "source": [
        "boram = Student()"
      ],
      "id": "064c833c-d5fb-40c9-8830-e2d637cd2450"
    },
    {
      "cell_type": "code",
      "execution_count": 543,
      "metadata": {
        "tags": []
      },
      "outputs": [],
      "source": [
        "boram + \"휴학\" + \"등록\""
      ],
      "id": "60a09db6-b082-4bba-8daf-031246bf67fb"
    },
    {
      "cell_type": "markdown",
      "metadata": {},
      "source": [
        "`#`\n",
        "\n",
        "`-` `super()`는 슈퍼클래스의 인스턴스 비슷한걸 리턴해준다. (유령이라\n",
        "생각하자)\n",
        "\n",
        "![](attachment:ghost.png)\n",
        "\n",
        "`# 예시2` – 빙의\n",
        "\n",
        "아래와 같은 문제를 풀고 싶다고 하자.\n",
        "\n",
        "1.  사과가 2개씩 3묶음 있다. 사과는 몇개인가?\n",
        "2.  규빈은 지금 2층에 있다. 3층 아래로 내려가면 몇층인가?\n",
        "3.  \\[1,2,3\\]의 평균은 얼마인가?\n",
        "4.  100을 3으로 나누면 나머지가 얼마인가?\n",
        "5.  2와 3의 최소공배수는 무엇인가?"
      ],
      "attachments": {
        "ghost.png": {
          "image/png": "[encoded data removed]"
        }
      },
      "id": "5bd990c6-2012-4282-a71a-e82a164c20e5"
    },
    {
      "cell_type": "code",
      "execution_count": 119,
      "metadata": {
        "tags": []
      },
      "outputs": [],
      "source": [
        "class ProblemSolver1():\n",
        "    def __init__(self):\n",
        "        self.sheet = [\"???\"]*5\n",
        "    def solve(self):\n",
        "        print(\"0. 사과가 2개씩 3묶음 있다. 사과는 몇개인가? --> 6개\")\n",
        "        self.sheet[0] = \"6개\""
      ],
      "id": "95d2c6e6-ddff-46fa-a410-ca2af0509b88"
    },
    {
      "cell_type": "code",
      "execution_count": 120,
      "metadata": {
        "tags": []
      },
      "outputs": [],
      "source": [
        "solver1 = ProblemSolver1()"
      ],
      "id": "2840f979-a684-4ca8-b7b2-a36a15e6e111"
    },
    {
      "cell_type": "code",
      "execution_count": 121,
      "metadata": {
        "tags": []
      },
      "outputs": [],
      "source": [
        "solver1.sheet"
      ],
      "id": "099ef7ba-d485-4e6c-9ada-a9dedf8f5b70"
    },
    {
      "cell_type": "code",
      "execution_count": 122,
      "metadata": {
        "tags": []
      },
      "outputs": [
        {
          "output_type": "stream",
          "name": "stdout",
          "text": [
            "0. 사과가 2개씩 3묶음 있다. 사과는 몇개인가? --> 6개"
          ]
        }
      ],
      "source": [
        "solver1.solve()"
      ],
      "id": "f4a33694-04d0-4eb3-98ba-116b0248b54a"
    },
    {
      "cell_type": "code",
      "execution_count": 123,
      "metadata": {
        "tags": []
      },
      "outputs": [],
      "source": [
        "solver1.sheet"
      ],
      "id": "c7ada37d-75cd-419f-8945-9bcf87152526"
    },
    {
      "cell_type": "markdown",
      "metadata": {},
      "source": [
        "![](attachment:14wk-2_files/figure-ipynb/mermaid-figure-10.png)"
      ],
      "attachments": {
        "14wk-2_files/figure-ipynb/mermaid-figure-10.png": {
          "image/png": "[encoded data removed]"
        }
      },
      "id": "86aed064-2a96-43a0-950a-b0af464f79ab"
    },
    {
      "cell_type": "code",
      "execution_count": 134,
      "metadata": {
        "tags": []
      },
      "outputs": [],
      "source": [
        "class ProblemSolver2(ProblemSolver1):\n",
        "    def solve(self):\n",
        "        ghost1 = super()\n",
        "        ghost1.solve()\n",
        "        print(\"2. [1,2,3]의 평균은 얼마인가? --> 2\")\n",
        "        print(\"3. 100을 3으로 나누면 나머지가 얼마인가? --> 1\")\n",
        "        print(\"4. 2와 3의 최소공배수는 무엇인가? --> 6\")\n",
        "        self.sheet[2] = \"2\"\n",
        "        self.sheet[3] = \"1\"\n",
        "        self.sheet[4] = \"6\"        "
      ],
      "id": "a5707268-a7bc-4b18-8992-9cfacdb039b5"
    },
    {
      "cell_type": "code",
      "execution_count": 135,
      "metadata": {
        "tags": []
      },
      "outputs": [],
      "source": [
        "solver2 = ProblemSolver2()"
      ],
      "id": "5bb9a8bf-5a67-41c0-ae04-02efb954ae71"
    },
    {
      "cell_type": "code",
      "execution_count": 136,
      "metadata": {
        "tags": []
      },
      "outputs": [],
      "source": [
        "solver2.sheet"
      ],
      "id": "0ed68f43-a30e-46cd-92e9-3a1ae94a3f66"
    },
    {
      "cell_type": "code",
      "execution_count": 137,
      "metadata": {
        "tags": []
      },
      "outputs": [
        {
          "output_type": "stream",
          "name": "stdout",
          "text": [
            "0. 사과가 2개씩 3묶음 있다. 사과는 몇개인가? --> 6개\n",
            "2. [1,2,3]의 평균은 얼마인가? --> 2\n",
            "3. 100을 3으로 나누면 나머지가 얼마인가? --> 1\n",
            "4. 2와 3의 최소공배수는 무엇인가? --> 6"
          ]
        }
      ],
      "source": [
        "solver2.solve()"
      ],
      "id": "83ec36fb-e652-4ccc-951f-40288ef2d95d"
    },
    {
      "cell_type": "code",
      "execution_count": 138,
      "metadata": {
        "tags": []
      },
      "outputs": [],
      "source": [
        "solver2.sheet"
      ],
      "id": "f86d62e4-6c24-49c7-81ff-84faeece5400"
    },
    {
      "cell_type": "markdown",
      "metadata": {},
      "source": [
        "![](attachment:14wk-2_files/figure-ipynb/mermaid-figure-9.png)"
      ],
      "attachments": {
        "14wk-2_files/figure-ipynb/mermaid-figure-9.png": {
          "image/png": "[encoded data removed]"
        }
      },
      "id": "8295ef21-3bbc-4429-a08f-dab7087e462e"
    },
    {
      "cell_type": "code",
      "execution_count": 146,
      "metadata": {
        "tags": []
      },
      "outputs": [],
      "source": [
        "class ProblemSolver3(ProblemSolver2):\n",
        "    def solve(self):\n",
        "        ghost2 = super()\n",
        "        ghost2.solve() \n",
        "        print(\"1. 규빈은 지금 2층에 있다. 3층 아래로 내려가면 몇층인가? --> 지하1층\")\n",
        "        self.sheet[1] = \"지하1층\"\n",
        "    def say(self):\n",
        "        print(\"다풀었어요\")"
      ],
      "id": "5028a79b-40e7-4dbd-80d2-8624311801af"
    },
    {
      "cell_type": "code",
      "execution_count": 147,
      "metadata": {
        "tags": []
      },
      "outputs": [],
      "source": [
        "solver3 = ProblemSolver3()"
      ],
      "id": "eef82ca8-1698-4a1f-9180-a16e326ea839"
    },
    {
      "cell_type": "code",
      "execution_count": 148,
      "metadata": {
        "tags": []
      },
      "outputs": [],
      "source": [
        "solver3.sheet"
      ],
      "id": "fabd4930-56db-43f3-874e-0a7411689288"
    },
    {
      "cell_type": "code",
      "execution_count": 149,
      "metadata": {
        "tags": []
      },
      "outputs": [
        {
          "output_type": "stream",
          "name": "stdout",
          "text": [
            "0. 사과가 2개씩 3묶음 있다. 사과는 몇개인가? --> 6개\n",
            "2. [1,2,3]의 평균은 얼마인가? --> 2\n",
            "3. 100을 3으로 나누면 나머지가 얼마인가? --> 1\n",
            "4. 2와 3의 최소공배수는 무엇인가? --> 6\n",
            "1. 규빈은 지금 2층에 있다. 3층 아래로 내려가면 몇층인가? --> 지하1층"
          ]
        }
      ],
      "source": [
        "solver3.solve()\n",
        "#a.sheet"
      ],
      "id": "98a8eea2-58b9-4c70-970c-53739f2335a3"
    },
    {
      "cell_type": "code",
      "execution_count": 150,
      "metadata": {
        "tags": []
      },
      "outputs": [],
      "source": [
        "solver3.sheet"
      ],
      "id": "e6ed2560-c3d3-4689-8fa4-c37deff3c0cd"
    },
    {
      "cell_type": "code",
      "execution_count": 151,
      "metadata": {
        "tags": []
      },
      "outputs": [
        {
          "output_type": "stream",
          "name": "stdout",
          "text": [
            "다풀었어요"
          ]
        }
      ],
      "source": [
        "solver3.say()"
      ],
      "id": "94cd9d98-550e-462b-8ff7-ee69cf147f5e"
    },
    {
      "cell_type": "markdown",
      "metadata": {},
      "source": [
        "***그런데 2층에서 3층 아래로가면 사실 지하 2층이다..***\n",
        "\n",
        "![](attachment:14wk-2_files/figure-ipynb/mermaid-figure-8.png)"
      ],
      "attachments": {
        "14wk-2_files/figure-ipynb/mermaid-figure-8.png": {
          "image/png": "[encoded data removed]"
        }
      },
      "id": "1d4e2529-ecdf-469d-870a-05f9de46ad1f"
    },
    {
      "cell_type": "code",
      "execution_count": 174,
      "metadata": {
        "tags": []
      },
      "outputs": [],
      "source": [
        "class ProblemSolver4(ProblemSolver3):\n",
        "    def solve(self):\n",
        "        ghost2 = super(ProblemSolver3,self) \n",
        "        ghost2.solve()\n",
        "        print(\"1. 규빈은 지금 2층에 있다. 3층 아래로 내려가면 몇층인가? --> 지하2층\")\n",
        "        self.sheet[1] = \"지하2층\""
      ],
      "id": "3e48eed9-4327-4a71-9a49-feae0bf13c33"
    },
    {
      "cell_type": "code",
      "execution_count": 175,
      "metadata": {
        "tags": []
      },
      "outputs": [],
      "source": [
        "solver4 = ProblemSolver4()\n",
        "solver4.sheet "
      ],
      "id": "09d86f58-96ac-48e6-aaa0-0a9a9238c61f"
    },
    {
      "cell_type": "code",
      "execution_count": 176,
      "metadata": {
        "tags": []
      },
      "outputs": [
        {
          "output_type": "stream",
          "name": "stdout",
          "text": [
            "0. 사과가 2개씩 3묶음 있다. 사과는 몇개인가? --> 6개\n",
            "2. [1,2,3]의 평균은 얼마인가? --> 2\n",
            "3. 100을 3으로 나누면 나머지가 얼마인가? --> 1\n",
            "4. 2와 3의 최소공배수는 무엇인가? --> 6\n",
            "1. 규빈은 지금 2층에 있다. 3층 아래로 내려가면 몇층인가? --> 지하2층"
          ]
        }
      ],
      "source": [
        "solver4.solve()"
      ],
      "id": "9f127e89-7e7a-4816-9e70-a7b5c7062686"
    },
    {
      "cell_type": "code",
      "execution_count": 177,
      "metadata": {
        "tags": []
      },
      "outputs": [],
      "source": [
        "solver4.sheet"
      ],
      "id": "cae958f1-fd74-4cef-abc7-a38fc0edb418"
    },
    {
      "cell_type": "code",
      "execution_count": 178,
      "metadata": {
        "tags": []
      },
      "outputs": [
        {
          "output_type": "stream",
          "name": "stdout",
          "text": [
            "다풀었어요"
          ]
        }
      ],
      "source": [
        "solver4.say()"
      ],
      "id": "22895d7f-7d91-4263-8311-8d52e1070180"
    },
    {
      "cell_type": "markdown",
      "metadata": {},
      "source": [
        "`-` `ProblemSolver4`를 아래와 같이 구현한다면? (틀린구현) // 빙의개념을\n",
        "이해할것\n",
        "\n",
        "![](attachment:14wk-2_files/figure-ipynb/mermaid-figure-7.png)"
      ],
      "attachments": {
        "14wk-2_files/figure-ipynb/mermaid-figure-7.png": {
          "image/png": "[encoded data removed]"
        }
      },
      "id": "deee1ca0-04ea-4426-8bbb-1c80ff33f092"
    },
    {
      "cell_type": "code",
      "execution_count": 194,
      "metadata": {
        "tags": []
      },
      "outputs": [],
      "source": [
        "class ProblemSolver4Wrong(ProblemSolver3):\n",
        "    def solve(self):\n",
        "        # ghost2 = super(ProblemSolver3,self) \n",
        "        # ghost2.solve()\n",
        "        solver2 = ProblemSolver2() \n",
        "        solver2.solve()\n",
        "        print(\"1. 규빈은 지금 2층에 있다. 3층 아래로 내려가면 몇층인가? --> 지하2층\")\n",
        "        self.sheet[1] = \"지하2층\""
      ],
      "id": "a989435c-dadd-4308-af55-b54a3c3a9f6c"
    },
    {
      "cell_type": "code",
      "execution_count": 191,
      "metadata": {
        "tags": []
      },
      "outputs": [],
      "source": [
        "solver4 = ProblemSolver4Wrong()\n",
        "solver4.sheet "
      ],
      "id": "eed2ef43-850a-40ef-9882-eeaa48a8ee3d"
    },
    {
      "cell_type": "code",
      "execution_count": 192,
      "metadata": {
        "tags": []
      },
      "outputs": [
        {
          "output_type": "stream",
          "name": "stdout",
          "text": [
            "0. 사과가 2개씩 3묶음 있다. 사과는 몇개인가? --> 6개\n",
            "2. [1,2,3]의 평균은 얼마인가? --> 2\n",
            "3. 100을 3으로 나누면 나머지가 얼마인가? --> 1\n",
            "4. 2와 3의 최소공배수는 무엇인가? --> 6\n",
            "['6개', '???', '2', '1', '6']\n",
            "['???', '???', '???', '???', '???']\n",
            "1. 규빈은 지금 2층에 있다. 3층 아래로 내려가면 몇층인가? --> 지하2층"
          ]
        }
      ],
      "source": [
        "solver4.solve()"
      ],
      "id": "7dea4537-be91-4a4b-af49-b6ccaeb8c3cf"
    },
    {
      "cell_type": "code",
      "execution_count": 193,
      "metadata": {
        "tags": []
      },
      "outputs": [],
      "source": [
        "solver4.sheet"
      ],
      "id": "aa129580-4e3b-4d52-8749-6f7c01cc7f25"
    },
    {
      "cell_type": "code",
      "execution_count": 186,
      "metadata": {
        "tags": []
      },
      "outputs": [
        {
          "output_type": "stream",
          "name": "stdout",
          "text": [
            "다풀었어요"
          ]
        }
      ],
      "source": [
        "solver4.say()"
      ],
      "id": "87a88199-94fa-4a2c-98a4-187af45a2e09"
    },
    {
      "cell_type": "markdown",
      "metadata": {},
      "source": [
        "`#`\n",
        "\n",
        "## C. `super()` 쓰지 않기\n",
        "\n",
        "`-` 예전에는 `super()`가 없었다고 한다.\n",
        "\n",
        "`# 예제1` – super()를 이용 vs 이용하지 않음\n",
        "\n",
        "![](attachment:14wk-2_files/figure-ipynb/mermaid-figure-6.png)\n",
        "\n",
        "*직선상속*\n",
        "\n",
        "`-` 코드1: `super()` 사용 – 권장"
      ],
      "attachments": {
        "14wk-2_files/figure-ipynb/mermaid-figure-6.png": {
          "image/png": "[encoded data removed]"
        }
      },
      "id": "7393bb42-d0a4-4af4-8104-f316a1333626"
    },
    {
      "cell_type": "code",
      "execution_count": 713,
      "metadata": {
        "tags": []
      },
      "outputs": [
        {
          "output_type": "stream",
          "name": "stdout",
          "text": [
            "인스턴스생성 -- self.a=0 대입 / Dummy에서 정의됨\n",
            "인스턴스생성 -- self.b=0 대입 / Dummy2에서 정의됨"
          ]
        }
      ],
      "source": [
        "class Dummy:\n",
        "    def __init__(self):\n",
        "        self.a = 0 \n",
        "        print(\"인스턴스생성 -- self.a=0 대입 / Dummy에서 정의됨\")\n",
        "\n",
        "class Dummy2(Dummy):\n",
        "    def __init__(self):\n",
        "        super().__init__()\n",
        "        self.b = 0         \n",
        "        print(\"인스턴스생성 -- self.b=0 대입 / Dummy2에서 정의됨\")  \n",
        "    \n",
        "a = Dummy2()"
      ],
      "id": "69753220-54d8-48a1-9e1c-11ef7e771b69"
    },
    {
      "cell_type": "markdown",
      "metadata": {},
      "source": [
        "`-` 코드2: `super()` 사용X – 권장X"
      ],
      "id": "4c96f040-5033-4180-aefe-cbaa1eda1347"
    },
    {
      "cell_type": "code",
      "execution_count": 714,
      "metadata": {
        "tags": []
      },
      "outputs": [
        {
          "output_type": "stream",
          "name": "stdout",
          "text": [
            "인스턴스생성 -- self.a=0 대입 / Dummy에서 정의됨\n",
            "인스턴스생성 -- self.b=0 대입 / Dummy2에서 정의됨"
          ]
        }
      ],
      "source": [
        "class Dummy:\n",
        "    def __init__(self):\n",
        "        print(\"인스턴스생성 -- self.a=0 대입 / Dummy에서 정의됨\")\n",
        "        self.a = 0 \n",
        "\n",
        "class Dummy2(Dummy):\n",
        "    def __init__(self):\n",
        "        Dummy.__init__(self)\n",
        "        self.b = 0 \n",
        "        print(\"인스턴스생성 -- self.b=0 대입 / Dummy2에서 정의됨\")        \n",
        "    \n",
        "a = Dummy2()"
      ],
      "id": "17807aba-cfe4-47ad-8a6f-25c356225b49"
    },
    {
      "cell_type": "markdown",
      "metadata": {},
      "source": [
        "`#`\n",
        "\n",
        "`# 예제2` – 안쓰는 이유\n",
        "\n",
        "![](attachment:14wk-2_files/figure-ipynb/mermaid-figure-5.png)\n",
        "\n",
        "*다이아몬드상속*\n",
        "\n",
        "`-` 코드1: `super()` 사용 – 권장"
      ],
      "attachments": {
        "14wk-2_files/figure-ipynb/mermaid-figure-5.png": {
          "image/png": "[encoded data removed]"
        }
      },
      "id": "4c283da0-21aa-4279-96b4-e26429cf3e23"
    },
    {
      "cell_type": "code",
      "execution_count": 715,
      "metadata": {
        "tags": []
      },
      "outputs": [
        {
          "output_type": "stream",
          "name": "stdout",
          "text": [
            "인스턴스생성 -- self.a=0 대입 / Dummy에서 정의됨\n",
            "인스턴스생성 -- self.c=0 대입 / Dummy3에서 정의됨\n",
            "인스턴스생성 -- self.b=0 대입 / Dummy2에서 정의됨\n",
            "인스턴스생성 -- self.d=0 대입 / Dummy4에서 정의됨"
          ]
        }
      ],
      "source": [
        "class Dummy:\n",
        "    def __init__(self):\n",
        "        print(\"인스턴스생성 -- self.a=0 대입 / Dummy에서 정의됨\")\n",
        "        self.a = 0 \n",
        "\n",
        "class Dummy2(Dummy):\n",
        "    def __init__(self):\n",
        "        super().__init__()\n",
        "        self.b = 0 \n",
        "        print(\"인스턴스생성 -- self.b=0 대입 / Dummy2에서 정의됨\")        \n",
        "\n",
        "class Dummy3(Dummy):\n",
        "    def __init__(self):\n",
        "        super().__init__()\n",
        "        self.c = 0 \n",
        "        print(\"인스턴스생성 -- self.c=0 대입 / Dummy3에서 정의됨\")\n",
        "        \n",
        "class Dummy4(Dummy2,Dummy3):\n",
        "    def __init__(self):\n",
        "        super().__init__()\n",
        "        self.d = 0\n",
        "        print(\"인스턴스생성 -- self.d=0 대입 / Dummy4에서 정의됨\")        \n",
        "a = Dummy4()"
      ],
      "id": "610dd881-a574-4e02-8281-eb4791dc9c01"
    },
    {
      "cell_type": "markdown",
      "metadata": {},
      "source": [
        "`-` 코드2: `super()` 사용X – 권장X"
      ],
      "id": "63c5de11-033f-4cd2-a546-42716636f5e4"
    },
    {
      "cell_type": "code",
      "execution_count": 716,
      "metadata": {
        "tags": []
      },
      "outputs": [
        {
          "output_type": "stream",
          "name": "stdout",
          "text": [
            "인스턴스생성 -- self.a=0 대입 / Dummy에서 정의됨\n",
            "인스턴스생성 -- self.b=0 대입 / Dummy2에서 정의됨\n",
            "인스턴스생성 -- self.a=0 대입 / Dummy에서 정의됨\n",
            "인스턴스생성 -- self.c=0 대입 / Dummy3에서 정의됨\n",
            "인스턴스생성 -- self.d=0 대입 / Dummy4에서 정의됨"
          ]
        }
      ],
      "source": [
        "class Dummy:\n",
        "    def __init__(self):\n",
        "        print(\"인스턴스생성 -- self.a=0 대입 / Dummy에서 정의됨\")\n",
        "        self.a = 0 \n",
        "\n",
        "class Dummy2(Dummy):\n",
        "    def __init__(self):        \n",
        "        Dummy.__init__(self)\n",
        "        self.b = 0 \n",
        "        print(\"인스턴스생성 -- self.b=0 대입 / Dummy2에서 정의됨\")        \n",
        "\n",
        "class Dummy3(Dummy):\n",
        "    def __init__(self):        \n",
        "        Dummy.__init__(self)\n",
        "        self.c = 0 \n",
        "        print(\"인스턴스생성 -- self.c=0 대입 / Dummy3에서 정의됨\")\n",
        "        \n",
        "class Dummy4(Dummy2,Dummy3):\n",
        "    def __init__(self):\n",
        "        Dummy2.__init__(self)\n",
        "        Dummy3.__init__(self)\n",
        "        self.d = 0 \n",
        "        print(\"인스턴스생성 -- self.d=0 대입 / Dummy4에서 정의됨\")        \n",
        "a = Dummy4()"
      ],
      "id": "1d3f82bf-d041-418c-a264-3959cb259857"
    },
    {
      "cell_type": "markdown",
      "metadata": {},
      "source": [
        "`-` 원리"
      ],
      "id": "5a69e0ec-f0f1-41fa-8205-177cd258deaf"
    },
    {
      "cell_type": "code",
      "execution_count": 717,
      "metadata": {
        "tags": []
      },
      "outputs": [
        {
          "output_type": "stream",
          "name": "stdout",
          "text": [
            "인스턴스생성 -- self.a=0 대입 / Dummy에서 정의됨\n",
            "인스턴스생성 -- self.c=0 대입 / Dummy3에서 정의됨\n",
            "인스턴스생성 -- self.b=0 대입 / Dummy2에서 정의됨\n",
            "인스턴스생성 -- self.d=0 대입 / Dummy4에서 정의됨"
          ]
        }
      ],
      "source": [
        "class Dummy:\n",
        "    def __init__(self):\n",
        "        print(\"인스턴스생성 -- self.a=0 대입 / Dummy에서 정의됨\")\n",
        "        self.a = 0 \n",
        "\n",
        "class Dummy2(Dummy):\n",
        "    def __init__(self):\n",
        "        super().__init__()\n",
        "        self.b = 0 \n",
        "        print(\"인스턴스생성 -- self.b=0 대입 / Dummy2에서 정의됨\")        \n",
        "\n",
        "class Dummy3(Dummy):\n",
        "    def __init__(self):\n",
        "        super().__init__()\n",
        "        self.c = 0 \n",
        "        print(\"인스턴스생성 -- self.c=0 대입 / Dummy3에서 정의됨\")\n",
        "        \n",
        "class Dummy4(Dummy2,Dummy3):\n",
        "    def __init__(self):\n",
        "        super().__init__()\n",
        "        self.d = 0\n",
        "        print(\"인스턴스생성 -- self.d=0 대입 / Dummy4에서 정의됨\")        \n",
        "a = Dummy4()"
      ],
      "id": "09afbe6e-6555-4d48-b36a-802cbe9ba501"
    },
    {
      "cell_type": "code",
      "execution_count": 719,
      "metadata": {
        "tags": []
      },
      "outputs": [],
      "source": [
        "Dummy4.mro()"
      ],
      "id": "a971cce7-4776-4fe7-a4c7-dde8bd2c2c18"
    },
    {
      "cell_type": "markdown",
      "metadata": {},
      "source": [
        "`Dummy4.__mro__` 를 타고 올라가서 제일 꼭대기부터 한번씩만 `__init__()`\n",
        "을 실행함.\n",
        "\n",
        "`#`\n",
        "\n",
        "`# 예제3` – 오개념 방지를 위한 예제들\n",
        "\n",
        "![](attachment:14wk-2_files/figure-ipynb/mermaid-figure-4.png)\n",
        "\n",
        "*다이아몬드상속*\n",
        "\n",
        "`-` 코드1: 결과를 예상해보자."
      ],
      "attachments": {
        "14wk-2_files/figure-ipynb/mermaid-figure-4.png": {
          "image/png": "[encoded data removed]"
        }
      },
      "id": "cc4a1c3d-0f15-41a7-b12d-3d388410d630"
    },
    {
      "cell_type": "code",
      "execution_count": 696,
      "metadata": {
        "tags": []
      },
      "outputs": [
        {
          "output_type": "stream",
          "name": "stdout",
          "text": [
            "인스턴스생성 -- self.a=0 대입 / Dummy에서 정의됨\n",
            "인스턴스생성 -- self.c=0 대입 / Dummy3에서 정의됨\n",
            "인스턴스생성 -- self.d=0 대입 / Dummy4에서 정의됨"
          ]
        }
      ],
      "source": [
        "class Dummy:\n",
        "    def __init__(self):\n",
        "        print(\"인스턴스생성 -- self.a=0 대입 / Dummy에서 정의됨\")\n",
        "        self.a = 0 \n",
        "\n",
        "class Dummy2(Dummy):\n",
        "    def __init__(self):\n",
        "        super().__init__()\n",
        "        self.b = 0 \n",
        "        print(\"인스턴스생성 -- self.b=0 대입 / Dummy2에서 정의됨\")        \n",
        "\n",
        "class Dummy3(Dummy):\n",
        "    def __init__(self):\n",
        "        super().__init__()\n",
        "        self.c = 0 \n",
        "        print(\"인스턴스생성 -- self.c=0 대입 / Dummy3에서 정의됨\")\n",
        "        \n",
        "class Dummy4(Dummy2,Dummy3):\n",
        "    def __init__(self):\n",
        "        super(Dummy2,self).__init__()\n",
        "        self.d = 0\n",
        "        print(\"인스턴스생성 -- self.d=0 대입 / Dummy4에서 정의됨\")        \n",
        "a = Dummy4()"
      ],
      "id": "b8a0f7ed-364b-489b-be66-f52f89fa1fcd"
    },
    {
      "cell_type": "markdown",
      "metadata": {},
      "source": [
        "우리가 원한건\n",
        "\n",
        "    인스턴스생성 -- self.a=0 대입 / Dummy에서 실행\n",
        "    인스턴스생성 -- self.d=0 대입 / Dummy4에서 실행\n",
        "\n",
        "였는뎅..\n",
        "\n",
        "왜 이런일이?\n",
        "\n",
        "`-` `mro/super`는 상속순서를 직선으로 재정렬함\n",
        "\n",
        "개념적으로는 아래구조의 상속이지만\n",
        "\n",
        "![](attachment:14wk-2_files/figure-ipynb/mermaid-figure-3.png)\n",
        "\n",
        "실제로는 아래구조의 상속임\n",
        "\n",
        "![](attachment:14wk-2_files/figure-ipynb/mermaid-figure-2.png)"
      ],
      "attachments": {
        "14wk-2_files/figure-ipynb/mermaid-figure-2.png": {
          "image/png": "[encoded data removed]"
        },
        "14wk-2_files/figure-ipynb/mermaid-figure-3.png": {
          "image/png": "[encoded data removed]"
        }
      },
      "id": "1369eb98-33be-4677-a07b-a6aa327924e0"
    },
    {
      "cell_type": "code",
      "execution_count": 697,
      "metadata": {
        "tags": []
      },
      "outputs": [],
      "source": [
        "Dummy4.mro()"
      ],
      "id": "a5676f8f-b444-4566-81de-9b6895a44bab"
    },
    {
      "cell_type": "markdown",
      "metadata": {},
      "source": [
        "따라서 `super(Dummy2,self)` 가 구체화하는건 Dummy의 유령인스턴스가\n",
        "아니라 Dummy3의 유령인스턴스임\n",
        "\n",
        "`-` 코드2: 결과를 예상해보자."
      ],
      "id": "6f7cb9bc-09f9-4a47-a624-b992b902298d"
    },
    {
      "cell_type": "code",
      "execution_count": 720,
      "metadata": {
        "tags": []
      },
      "outputs": [
        {
          "output_type": "stream",
          "name": "stdout",
          "text": [
            "인스턴스생성 -- self.a=0 대입 / Dummy에서 정의됨\n",
            "인스턴스생성 -- self.d=0 대입 / Dummy4에서 정의됨"
          ]
        }
      ],
      "source": [
        "class Dummy:\n",
        "    def __init__(self):\n",
        "        print(\"인스턴스생성 -- self.a=0 대입 / Dummy에서 정의됨\")\n",
        "        self.a = 0 \n",
        "\n",
        "class Dummy2(Dummy):\n",
        "    def __init__(self):\n",
        "        super().__init__()\n",
        "        self.b = 0 \n",
        "        print(\"인스턴스생성 -- self.b=0 대입 / Dummy2에서 정의됨\")        \n",
        "\n",
        "class Dummy3(Dummy):\n",
        "    def __init__(self):\n",
        "        super().__init__()\n",
        "        self.c = 0 \n",
        "        print(\"인스턴스생성 -- self.c=0 대입 / Dummy3에서 정의됨\")\n",
        "        \n",
        "class Dummy4(Dummy2,Dummy3):\n",
        "    def __init__(self):\n",
        "        Dummy.__init__(self)\n",
        "        self.d = 0\n",
        "        print(\"인스턴스생성 -- self.d=0 대입 / Dummy4에서 정의됨\")        \n",
        "a = Dummy4()"
      ],
      "id": "7912d864-662a-45d6-a0bb-e1ec11cc2555"
    },
    {
      "cell_type": "markdown",
      "metadata": {},
      "source": [
        "> 이러면 혼란이 없음\n",
        "\n",
        "`-` 코드3: 결과를 예상해보자."
      ],
      "id": "ee0e01b1-11f7-4d16-aca1-821c5e41bae9"
    },
    {
      "cell_type": "code",
      "execution_count": 700,
      "metadata": {
        "tags": []
      },
      "outputs": [
        {
          "output_type": "stream",
          "name": "stdout",
          "text": [
            "인스턴스생성 -- self.a=0 대입 / Dummy에서 정의됨\n",
            "인스턴스생성 -- self.d=0 대입 / Dummy4에서 정의됨"
          ]
        }
      ],
      "source": [
        "class Dummy:\n",
        "    def __init__(self):\n",
        "        print(\"인스턴스생성 -- self.a=0 대입 / Dummy에서 정의됨\")\n",
        "        self.a = 0 \n",
        "\n",
        "class Dummy2(Dummy):\n",
        "    def __init__(self):\n",
        "        super().__init__()\n",
        "        self.b = 0 \n",
        "        print(\"인스턴스생성 -- self.b=0 대입 / Dummy2에서 정의됨\")        \n",
        "\n",
        "class Dummy3(Dummy):\n",
        "    def __init__(self):\n",
        "        super().__init__()\n",
        "        self.c = 0 \n",
        "        print(\"인스턴스생성 -- self.c=0 대입 / Dummy3에서 정의됨\")\n",
        "        \n",
        "class Dummy4(Dummy3,Dummy2):\n",
        "    def __init__(self):\n",
        "        super(Dummy2,self).__init__()\n",
        "        self.d = 0\n",
        "        print(\"인스턴스생성 -- self.d=0 대입 / Dummy4에서 정의됨\")        \n",
        "a = Dummy4()"
      ],
      "id": "bbe76cc3-91d5-49ed-9521-a2a56df6dfe4"
    },
    {
      "cell_type": "markdown",
      "metadata": {},
      "source": [
        "> `super()`를 굳이 써야겠으면 Dummy4를 정의할때 mro를 고려하여\n",
        "> `class Dummy4(Dummy2,Dummy3):` 대신에 `class Dummy4(Dummy3,Dummy2):`\n",
        "> 로 바꿔주면 된다.\n",
        "\n",
        "`#`\n",
        "\n",
        "## D. 리스트의 상속 – 쓰지마세여\n",
        "\n",
        "`-` list와 비슷한데 멤버들의 빈도가 계산되는 메소드를 포함하는 새로운\n",
        "나만의 list를 만들고 싶다."
      ],
      "id": "0d0817b1-1da7-4aff-8783-b07a30d7bcdf"
    },
    {
      "cell_type": "code",
      "execution_count": 721,
      "metadata": {
        "tags": []
      },
      "outputs": [],
      "source": [
        "lst = list('asdfasssdfa')\n",
        "lst "
      ],
      "id": "4342e58c-9aad-48f6-9378-b127840e9a2f"
    },
    {
      "cell_type": "markdown",
      "metadata": {},
      "source": [
        "`-` 각 원소들의 빈도를 구해보면 아래와 같다."
      ],
      "id": "396e89a6-673b-4b74-958d-5e34f24e442e"
    },
    {
      "cell_type": "code",
      "execution_count": 722,
      "metadata": {
        "tags": []
      },
      "outputs": [],
      "source": [
        "{s:lst.count(s) for s in set(lst)}"
      ],
      "id": "3ebe3d96-0354-4491-bd4c-ea7ffb84eb17"
    },
    {
      "cell_type": "code",
      "execution_count": 723,
      "metadata": {
        "tags": []
      },
      "outputs": [],
      "source": [
        "lst.freq() # 이렇게 실행하면 위의결과가 나왔으면 좋겠다."
      ],
      "id": "89d08b27-6995-45a8-b766-f76a4b3658b1"
    },
    {
      "cell_type": "markdown",
      "metadata": {},
      "source": [
        "`-` 이것을 내가 정의하는 새로운 list의 메소드로 넣고 싶다."
      ],
      "id": "e1cb1341-7885-4a43-bc08-c460be35f98d"
    },
    {
      "cell_type": "code",
      "execution_count": 724,
      "metadata": {
        "tags": []
      },
      "outputs": [],
      "source": [
        "class List(list):\n",
        "    def freq(self):\n",
        "        return {s:self.count(s) for s in set(self)}"
      ],
      "id": "79cb2623-ae73-4513-ba52-84b57cf2a47d"
    },
    {
      "cell_type": "code",
      "execution_count": 725,
      "metadata": {
        "tags": []
      },
      "outputs": [],
      "source": [
        "lst2 = List('asdfasssdfa')"
      ],
      "id": "20900a2b-e3fa-44dc-87f1-10d201bd88f4"
    },
    {
      "cell_type": "code",
      "execution_count": 726,
      "metadata": {
        "tags": []
      },
      "outputs": [],
      "source": [
        "lst2"
      ],
      "id": "c4bc35b0-4a4e-41c7-bdb2-9675bd2634b8"
    },
    {
      "cell_type": "code",
      "execution_count": 727,
      "metadata": {
        "tags": []
      },
      "outputs": [],
      "source": [
        "lst"
      ],
      "id": "7b36018f-314c-4c66-aabc-d31f99502c9f"
    },
    {
      "cell_type": "code",
      "execution_count": 731,
      "metadata": {
        "tags": []
      },
      "outputs": [],
      "source": [
        "#lst2+lst ## 거의 lst2는 일반적인 lst와 같은역할"
      ],
      "id": "f212f0c9-1bcf-4d12-bb03-e8e6c0d38f7d"
    },
    {
      "cell_type": "markdown",
      "metadata": {},
      "source": [
        "`-` 기존리스트에서 추가로 frequency() 메소드가 존재함."
      ],
      "id": "3ae59931-c4c2-4053-a116-7df1bd990687"
    },
    {
      "cell_type": "code",
      "execution_count": 732,
      "metadata": {
        "tags": []
      },
      "outputs": [],
      "source": [
        "lst2.freq()"
      ],
      "id": "0d7cd9a9-fdbb-4e83-b523-9b47c399d5c5"
    },
    {
      "cell_type": "code",
      "execution_count": null,
      "metadata": {},
      "outputs": [],
      "source": [
        "lst.freq()"
      ],
      "id": "99a732ec-ade1-4015-add4-c0ce26aef2c3"
    },
    {
      "cell_type": "markdown",
      "metadata": {},
      "source": [
        "> **Warning**\n",
        ">\n",
        "> 사실 내장클래스의 상속은 추천하지 않는다. 여러가지 문제가 생기기\n",
        "> 때문..\n",
        "\n",
        "# 9. 에러메시지\n",
        "\n",
        "## A. 파이썬의 에러메시지\n",
        "\n",
        "`TypeError`: 타입이 맞지 않는 연산을 수행하려고 할 때 발생. 예를 들어,\n",
        "숫자와 문자열을 더하려고 할 때 발생."
      ],
      "id": "a2c2262b-65a3-413b-a2c8-b64ffd8823e9"
    },
    {
      "cell_type": "code",
      "execution_count": 745,
      "metadata": {
        "tags": []
      },
      "outputs": [],
      "source": [
        "result = 10 + \"20\"  # TypeError: unsupported operand type(s) for +: 'int' and 'str'"
      ],
      "id": "d6d98c20-10e7-4687-a063-5ee93e9471e5"
    },
    {
      "cell_type": "markdown",
      "metadata": {},
      "source": [
        "`SyntaxError`: 코드의 구문이 잘못되었을 때 발생. 주로 오타, 괄호 불일치,\n",
        "콜론(:) 빠뜨림 등의 문제로 인해 발생."
      ],
      "id": "6fc32f8d-5f94-4ab0-b691-7a7cefa10575"
    },
    {
      "cell_type": "code",
      "execution_count": 752,
      "metadata": {
        "tags": []
      },
      "outputs": [],
      "source": [
        "x = 5\n",
        "if x == 5\n",
        "    print(\"x is equal to 5\")  # SyntaxError: invalid syntax"
      ],
      "id": "cd7528fe-f69e-466f-a26c-37966da54d34"
    },
    {
      "cell_type": "markdown",
      "metadata": {},
      "source": [
        "`NameError`: 정의되지 않은 변수나 함수를 사용하려고 할 때 발생."
      ],
      "id": "e3314ceb-1ab9-4c93-b307-55c068f42639"
    },
    {
      "cell_type": "code",
      "execution_count": 753,
      "metadata": {
        "tags": []
      },
      "outputs": [],
      "source": [
        "print(unknown_variable)  # NameError: name 'unknown_variable' is not defined"
      ],
      "id": "a727a51e-8d5b-4ee0-be4c-9b3d9fb9639f"
    },
    {
      "cell_type": "markdown",
      "metadata": {},
      "source": [
        "`ValueError`: 함수나 메서드에 전달되는 인자의 값이 올바르지 않을 때\n",
        "발생."
      ],
      "id": "a43d389f-5793-4762-a7c0-25b63f2f84a9"
    },
    {
      "cell_type": "code",
      "execution_count": 31,
      "metadata": {},
      "outputs": [],
      "source": [
        "int_value = int(\"abc\")  # ValueError: invalid literal for int() with base 10: 'abc'"
      ],
      "id": "5d6ee1b8-d911-44f1-a2e7-8e23535169fb"
    },
    {
      "cell_type": "markdown",
      "metadata": {},
      "source": [
        "`AttributeError`: 객체가 속성(attribute)이나 메서드(method)를 가지고\n",
        "있지 않을 때 발생"
      ],
      "id": "08a0076a-27c3-429b-a6ac-d601c0336fbd"
    },
    {
      "cell_type": "code",
      "execution_count": 32,
      "metadata": {},
      "outputs": [],
      "source": [
        "my_list = [1, 2, 3]\n",
        "my_list.append(4)\n",
        "my_list.upper()  # AttributeError: 'list' object has no attribute 'upper'"
      ],
      "id": "4a686b5e-d03b-4cc1-bea9-890caefbc7db"
    },
    {
      "cell_type": "markdown",
      "metadata": {},
      "source": [
        "`ImportError`: 모듈을 임포트하는 과정에서 문제가 발생할 때 발생.\n",
        "임포트하려는 모듈이 존재하지 않거나, 임포트 경로 설정이 잘못된 경우에\n",
        "해당."
      ],
      "id": "6097f268-a304-42fc-980e-8af6cfbae9d9"
    },
    {
      "cell_type": "code",
      "execution_count": 33,
      "metadata": {},
      "outputs": [],
      "source": [
        "import non_existent_module  # ImportError: No module named 'non_existent_module'"
      ],
      "id": "283ba197-f484-4fde-837c-8d2de03c58d3"
    },
    {
      "cell_type": "markdown",
      "metadata": {},
      "source": [
        "`IOError`: 파일 입출력 작업 중에 발생하는 에러. 파일이 존재하지 않거나,\n",
        "파일에 쓰기 권한이 없는 경우 등에 해당."
      ],
      "id": "66cb40b2-e9b8-45c6-8337-aa1080644ae8"
    },
    {
      "cell_type": "code",
      "execution_count": 34,
      "metadata": {},
      "outputs": [],
      "source": [
        "file = open('file.txt', 'r')  # IOError: [Errno 2] No such file or directory: 'file.txt'"
      ],
      "id": "6755e9db-d2dc-4cda-a0d5-a35b35bc1c98"
    },
    {
      "cell_type": "markdown",
      "metadata": {},
      "source": [
        "`KeyboardInterrupt`: 사용자가 프로그램의 실행을 중단할 때 발생."
      ],
      "id": "b4c1da5e-bbd9-45e7-ac81-ff02e845517a"
    },
    {
      "cell_type": "code",
      "execution_count": 755,
      "metadata": {
        "tags": []
      },
      "outputs": [],
      "source": [
        "while True:\n",
        "    pass  # 무한 루프\n",
        "# KeyboardInterrupt: "
      ],
      "id": "582fbad3-0def-413e-9c45-d5b66712131e"
    },
    {
      "cell_type": "markdown",
      "metadata": {},
      "source": [
        "`IndexError`: 유효하지 않은 인덱스를 사용하여 시퀀스(리스트, 튜플,\n",
        "문자열 등)의 요소에 접근하려고 할 때 발생."
      ],
      "id": "8a4f126b-35e7-4aca-91f9-0daad86972d6"
    },
    {
      "cell_type": "code",
      "execution_count": 756,
      "metadata": {
        "tags": []
      },
      "outputs": [],
      "source": [
        "my_list = [1, 2, 3]\n",
        "print(my_list[5])  # IndexError: list index out of range"
      ],
      "id": "a85aceab-005a-46a1-9bec-4e235f9bf9c1"
    },
    {
      "cell_type": "markdown",
      "metadata": {},
      "source": [
        "`KeyError`: 딕셔너리에서 존재하지 않는 키를 사용하여 요소에 접근하려고\n",
        "할 때 발생."
      ],
      "id": "8e0580be-4bec-4ecb-8102-2cd56f25ba02"
    },
    {
      "cell_type": "code",
      "execution_count": 757,
      "metadata": {
        "tags": []
      },
      "outputs": [],
      "source": [
        "my_dict = {'name': 'John', 'age': 25}\n",
        "print(my_dict['address'])  # KeyError: 'address'"
      ],
      "id": "89e3d5a5-1653-44ec-9258-23ab50fc4733"
    },
    {
      "cell_type": "markdown",
      "metadata": {},
      "source": [
        "`FileNotFoundError`: 존재하지 않는 파일을 열려고 할 때 발생."
      ],
      "id": "0b9f32a1-50f1-44e4-8055-bfe007a9dd24"
    },
    {
      "cell_type": "code",
      "execution_count": 758,
      "metadata": {
        "tags": []
      },
      "outputs": [],
      "source": [
        "file = open('nonexistent_file.txt')  # FileNotFoundError: [Errno 2] No such file or directory: 'nonexistent_file.txt'"
      ],
      "id": "3a044a90-7b43-4062-aee9-cea2ce9a26ba"
    },
    {
      "cell_type": "markdown",
      "metadata": {},
      "source": [
        "`ZeroDivisionError`: 0으로 나누기 연산을 수행하려고 할 때 발생."
      ],
      "id": "72850680-105d-461d-9914-34d4e17ec464"
    },
    {
      "cell_type": "code",
      "execution_count": 759,
      "metadata": {
        "tags": []
      },
      "outputs": [],
      "source": [
        "result = 10 / 0  # ZeroDivisionError: division by zero"
      ],
      "id": "2ef3e60e-56d3-487a-a26e-4a8865f14654"
    },
    {
      "cell_type": "markdown",
      "metadata": {},
      "source": [
        "## B. `TypeError`에 대한 심층분석\n",
        "\n",
        "`-` `.__add__` 가 올바르게 정의되지 않아서 생기는 경우"
      ],
      "id": "0870e5ca-4c74-4055-a6df-365bf367f9b1"
    },
    {
      "cell_type": "code",
      "execution_count": 763,
      "metadata": {
        "tags": []
      },
      "outputs": [],
      "source": [
        "class StudentWrong:\n",
        "    def __init__(self,age=20.0, semester=0):\n",
        "        self.age = age \n",
        "        self.semester = semester\n",
        "        print(f\"입학을 축하합니다. 당신의 나이는 {self.age}이고 현재 학기는 {self.semester}학기 입니다.\")\n",
        "    def __repr__(self):\n",
        "        text = f\"나이: {self.age}\\n학기: {self.semester}\"\n",
        "        return text\n",
        "    def __add__(self,registration_status):\n",
        "        if registration_status == \"휴학\":\n",
        "            self.age = self.age +0.5 \n",
        "        elif registration_status == \"등록\":\n",
        "            self.age = self.age +0.5 \n",
        "            self.semester = self.semester + 1"
      ],
      "id": "56f9aeb2-0a98-4b78-acb2-e8ff3e1a42b9"
    },
    {
      "cell_type": "code",
      "execution_count": 764,
      "metadata": {
        "tags": []
      },
      "outputs": [
        {
          "output_type": "stream",
          "name": "stdout",
          "text": [
            "입학을 축하합니다. 당신의 나이는 20.0이고 현재 학기는 0학기 입니다."
          ]
        }
      ],
      "source": [
        "seoyeon = StudentWrong()\n",
        "seoyeon + \"등록\" + \"등록\""
      ],
      "id": "72132d12-463e-4304-bac1-88431337c0d6"
    },
    {
      "cell_type": "markdown",
      "metadata": {},
      "source": [
        "`-` `.__getitem__`이 정의되지 않은 오브젝트에서 인덱싱을 시도할때 생기는\n",
        "오류"
      ],
      "id": "e9a4ea8c-4609-4eed-b6c6-b83e4c99f122"
    },
    {
      "cell_type": "code",
      "execution_count": 767,
      "metadata": {
        "tags": []
      },
      "outputs": [],
      "source": [
        "class Dummy:\n",
        "    pass \n",
        "a = Dummy()\n",
        "a[0]"
      ],
      "id": "a1c9520e-2f1e-49e1-b42c-103729c3e43c"
    },
    {
      "cell_type": "markdown",
      "metadata": {},
      "source": [
        "`-` `.__setitem__`이 정의되지 않은 오브젝트에서 할당을 시도할때 생기는\n",
        "오류"
      ],
      "id": "217d43b6-8968-421a-b325-5d3c95e0795e"
    },
    {
      "cell_type": "code",
      "execution_count": 768,
      "metadata": {
        "tags": []
      },
      "outputs": [],
      "source": [
        "class Dummy:\n",
        "    pass \n",
        "a = Dummy()\n",
        "a[0] = 5"
      ],
      "id": "5e50f329-87bc-4f55-bfa9-b13ed051ac3c"
    },
    {
      "cell_type": "markdown",
      "metadata": {},
      "source": [
        "`-` `.__len__` 이 정의되지 않은 오브젝트에서 len을 이용할때 생기는 오류"
      ],
      "id": "42df4831-7b43-4190-a063-49635296e62c"
    },
    {
      "cell_type": "code",
      "execution_count": 769,
      "metadata": {
        "tags": []
      },
      "outputs": [],
      "source": [
        "class Dummy:\n",
        "    pass \n",
        "a = Dummy()\n",
        "len(a)"
      ],
      "id": "80343326-ed9a-4916-b79b-b0e98b6a5034"
    },
    {
      "cell_type": "markdown",
      "metadata": {},
      "source": [
        "`-` `.__call__`이 정의되지 않은 오브젝트를 함수처럼 이용하려 할때 생기는\n",
        "오류"
      ],
      "id": "a2659aa4-4211-4827-8fb7-ff3b9d05dd13"
    },
    {
      "cell_type": "code",
      "execution_count": 770,
      "metadata": {
        "tags": []
      },
      "outputs": [],
      "source": [
        "class Dummy:\n",
        "    pass \n",
        "a = Dummy()\n",
        "a()"
      ],
      "id": "fe1330ea-faa3-42f0-9831-838f14964aa0"
    },
    {
      "cell_type": "markdown",
      "metadata": {},
      "source": [
        "`-` `.__iter__`가 정의되지 않은 오브젝트를 iterable 오브젝트처럼\n",
        "사용하려 할때 생기는 오류"
      ],
      "id": "4fdb53a4-d87b-439b-b7b1-10c54d84ffa4"
    },
    {
      "cell_type": "code",
      "execution_count": 771,
      "metadata": {
        "tags": []
      },
      "outputs": [],
      "source": [
        "class Dummy:\n",
        "    pass \n",
        "a = Dummy()\n",
        "for i in a:\n",
        "    print(i)"
      ],
      "id": "365d0161-e4ad-4a34-8c4b-6436ff649554"
    },
    {
      "cell_type": "markdown",
      "metadata": {},
      "source": [
        "# Appedix: 다루지 못한 주제들\n",
        "\n",
        "**A,B,C 주제 관련 참고자료**\n",
        "\n",
        "-   [2022 파이썬입문: 개발환경의 변천사, 1세대 프로그래머부터 5세대\n",
        "    프로그래머까지](https://guebin.github.io/IP2022/2022/03/28/(4%EC%A3%BC%EC%B0%A8)-3%EC%9B%9428%EC%9D%BC.html)\n",
        "-   [2022 파이썬입문: 소스코드 관리, 모듈, 패키지,\n",
        "    라이브러리](https://guebin.github.io/IP2022/2022/04/03/(5%EC%A3%BC%EC%B0%A8)-4%EC%9B%942%EC%9D%BC.html)\n",
        "\n",
        "**D: with를 사용하는 예시**\n",
        "\n",
        "-   [2021 데이터시각화 – `matplotlib`\n",
        "    테마변경](https://guebin.github.io/DV2021/2021/12/08/(14%EC%A3%BC%EC%B0%A8)-12%EC%9B%948%EC%9D%BC.html)\n",
        "-   [2022 빅데이터분석 특강 –\n",
        "    `tf.GradientTape`](https://guebin.github.io/STBDA2022/2022/03/28/(4%EC%A3%BC%EC%B0%A8)-3%EC%9B%9428%EC%9D%BC.html#%EB%AF%B8%EB%B6%84)\n",
        "\n",
        "**E: 깊은복사, 얕은복사 특강**\n",
        "\n",
        "-   [2023 파이썬프로그래밍: 13wk-1 깊은복사와\n",
        "    얕은복사](https://guebin.github.io/PP2023/posts/2023-06-21-13wk-1.html)\n",
        "\n",
        "**G,H: 판다스 및 데이터 시각화관련 자료**\n",
        "\n",
        "-   [2023 데이터시각화](https://guebin.github.io/DV2023/)\n",
        "\n",
        "## A. 모듈\n",
        "\n",
        "``` python\n",
        "1. .ipynb 파일이 아니라 .py 파일은 뭐지?\n",
        "2. from ?? import ?? as ?? 이런거 어렵다면?? \n",
        "3. __init__.py --> 이게 보인다면?\n",
        "```\n",
        "\n",
        "## B. 스크립트실행\n",
        "\n",
        "``` python\n",
        "1. 터미널(검은화면)에서 python ??.py 같은걸 실행하는걸 본다면??\n",
        "2. if __name__ == \"__main__\": --> 이런게 보인다면?\n",
        "```\n",
        "\n",
        "## C. 패키지 제작, 설치\n",
        "\n",
        "``` python\n",
        "1. 깃허브에서 setup.py 보인다면?? \n",
        "2. pip install 이런걸 알고 싶다면??\n",
        "3. conda install 이런걸 알고 싶다면??\n",
        "```\n",
        "\n",
        "## D. with\n",
        "\n",
        "``` python\n",
        "1. 파일열거나 불러올때 많이씀\n",
        "2. plt.plot 등을 사용할때 테마변경.. \n",
        "3. tensorflow 배울때 with를 모르면 gradient tape의 개념을 이해할 수 없음... \n",
        "```\n",
        "\n",
        "## E. 깊은복사, 얕은복사\n",
        "\n",
        "``` python\n",
        "1. 아래와 같은 얶까 당할때 있음.. 절대 어디가 틀린지 모름.. \n",
        "2. 가능하다면 그냥 모르고 사는게 행복함. \n",
        "```\n",
        "\n",
        "`-` 예시1"
      ],
      "id": "1fd5a9b6-4c17-4b94-92ac-e9cac95fa96d"
    },
    {
      "cell_type": "code",
      "execution_count": 774,
      "metadata": {
        "tags": []
      },
      "outputs": [],
      "source": [
        "a = [1,2,3]\n",
        "b = a \n",
        "b.append(4)\n",
        "b"
      ],
      "id": "58182554-e4e0-4716-b084-f8aebd9b9c9f"
    },
    {
      "cell_type": "code",
      "execution_count": 775,
      "metadata": {
        "tags": []
      },
      "outputs": [],
      "source": [
        "a"
      ],
      "id": "35076ab5-2aba-4d3b-855b-4e26bcbe98f7"
    },
    {
      "cell_type": "markdown",
      "metadata": {},
      "source": [
        "`#`\n",
        "\n",
        "`-` 예시2"
      ],
      "id": "911f866c-cc45-4b20-95ab-c8573b373cde"
    },
    {
      "cell_type": "code",
      "execution_count": 778,
      "metadata": {
        "tags": []
      },
      "outputs": [],
      "source": [
        "a = [1] \n",
        "b = a  # b=[1] \n",
        "a = a+[2] # a=[1,2] \n",
        "a = a+[3] # a=[1,2,3] \n",
        "a = a+[4] # a=[1,2,3,4] \n",
        "a,b"
      ],
      "id": "e2646ac1-1add-4b0a-9456-d7e05eb766ac"
    },
    {
      "cell_type": "code",
      "execution_count": 2,
      "metadata": {
        "tags": []
      },
      "outputs": [],
      "source": [
        "a = [1] \n",
        "b = a \n",
        "a += [2] \n",
        "a += [3]\n",
        "a += [4] \n",
        "a,b"
      ],
      "id": "dc2cc9fe-7eaf-4aa3-ab9c-ccd7aa3e6316"
    },
    {
      "cell_type": "markdown",
      "metadata": {},
      "source": [
        "`#`\n",
        "\n",
        "## G. 시각화\n",
        "\n",
        "``` python\n",
        "1. import matplotlib.pyplot as plt\n",
        "2. import seaborn as sns \n",
        "3. from plotnine import * \n",
        "4. import plotly.express as px \n",
        "```\n",
        "\n",
        "## H. 판다스\n",
        "\n",
        "## I. 에러관리\n",
        "\n",
        "``` python\n",
        "1. try, except, finally\n",
        "2. raise\n",
        "```\n",
        "\n",
        "## J. collection\n",
        "\n",
        "``` python\n",
        "1. from collections import Counter \n",
        "2. from collections import deque\n",
        "3. from collections import OrderedDict\n",
        "4. from collections import defaultdict\n",
        "5. from collections import namedtuple\n",
        "```"
      ],
      "id": "c455a778-5963-4ea8-b580-af937cf3376a"
    },
    {
      "cell_type": "code",
      "execution_count": 781,
      "metadata": {
        "tags": []
      },
      "outputs": [],
      "source": [
        "from collections import Counter\n",
        "\n",
        "lst = ['a', 'b', 'c', 'a', 'b', 'a']\n",
        "counter = Counter(lst)\n",
        "counter"
      ],
      "id": "c599d6a3-7fce-444d-98fa-3daf6c60d7d7"
    },
    {
      "cell_type": "markdown",
      "metadata": {},
      "source": [
        "## K. 기타 유용한 내장패키지\n",
        "\n",
        "``` python\n",
        "1. import bisec\n",
        "2. import heapq\n",
        "```"
      ],
      "id": "9dda041e-126d-426c-bfbc-2ba8c6e9b7a2"
    }
  ],
  "nbformat": 4,
  "nbformat_minor": 5,
  "metadata": {
    "kernelspec": {
      "name": "python3",
      "display_name": "Python 3 (ipykernel)",
      "language": "python"
    },
    "language_info": {
      "name": "python",
      "codemirror_mode": {
        "name": "ipython",
        "version": "3"
      },
      "file_extension": ".py",
      "mimetype": "text/x-python",
      "nbconvert_exporter": "python",
      "pygments_lexer": "ipython3",
      "version": "3.10.13"
    }
  }
}