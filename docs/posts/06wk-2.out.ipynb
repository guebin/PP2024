{
  "cells": [
    {
      "cell_type": "markdown",
      "metadata": {},
      "source": [
        "# 06wk-2: `numpy` (1)\n",
        "\n",
        "최규빈  \n",
        "2024-04-12\n",
        "\n",
        "<a href=\"https://colab.research.google.com/github/guebin/PP2024/blob/main/posts/06wk-2.ipynb\"><img src=\"https://colab.research.google.com/assets/colab-badge.svg\" style=\"text-align: left\"></a>\n",
        "\n",
        "# 1. 강의영상\n",
        "\n",
        "<https://youtu.be/playlist?list=PLQqh36zP38-xcJoAltWWp0EEaZ8QJjMAT&si=TxRcvcla5EbT4PI->\n",
        "\n",
        "# 2. Imports"
      ],
      "id": "f3034d9f-3f9f-412a-a646-e4a914d8d79e"
    },
    {
      "cell_type": "code",
      "execution_count": 378,
      "metadata": {
        "tags": []
      },
      "outputs": [],
      "source": [
        "import numpy as np"
      ],
      "id": "22ef6f0e-a5bd-46fd-97d3-b1b2593fdbae"
    },
    {
      "cell_type": "markdown",
      "metadata": {},
      "source": [
        "# 3. `numpy`\n",
        "\n",
        "## A. 선언"
      ],
      "id": "25959d46-48a3-46ee-9b51-79dd6e93f38a"
    },
    {
      "cell_type": "code",
      "execution_count": 3,
      "metadata": {
        "tags": []
      },
      "outputs": [],
      "source": [
        "a=np.array([1,2,3]) # list를 만들고 ndarray화 시킴 \n",
        "l=[1,2,3]"
      ],
      "id": "154a2e85-829c-401a-ba2e-26faeb802990"
    },
    {
      "cell_type": "markdown",
      "metadata": {},
      "source": [
        "## B. 기본연산 브로드캐스팅"
      ],
      "id": "d30df864-3427-450e-8dbb-c15afeb60de6"
    },
    {
      "cell_type": "code",
      "execution_count": 4,
      "metadata": {
        "tags": []
      },
      "outputs": [],
      "source": [
        "a+1 ## [1,2,3] + 1 = [2,3,4]"
      ],
      "id": "c4c8850c-9cf0-46f5-b81c-9344ec52099a"
    },
    {
      "cell_type": "code",
      "execution_count": 5,
      "metadata": {
        "tags": []
      },
      "outputs": [],
      "source": [
        "l+1"
      ],
      "id": "25c60eb1-886e-4fc7-bae1-1f39898a1c12"
    },
    {
      "cell_type": "code",
      "execution_count": 6,
      "metadata": {
        "tags": []
      },
      "outputs": [],
      "source": [
        "a*2"
      ],
      "id": "d6ab6e96-0173-44aa-88d4-6b2abb5b1db8"
    },
    {
      "cell_type": "code",
      "execution_count": 7,
      "metadata": {
        "tags": []
      },
      "outputs": [],
      "source": [
        "l*2"
      ],
      "id": "416dcfa3-aea7-466f-a822-3741d966f9d6"
    },
    {
      "cell_type": "code",
      "execution_count": 8,
      "metadata": {
        "tags": []
      },
      "outputs": [],
      "source": [
        "a/2"
      ],
      "id": "fd1aa043-4d13-47ee-ae45-2178edf6d70a"
    },
    {
      "cell_type": "code",
      "execution_count": 9,
      "metadata": {
        "tags": []
      },
      "outputs": [],
      "source": [
        "l/2"
      ],
      "id": "fd823ac0-e625-4572-b341-61295365fd53"
    },
    {
      "cell_type": "code",
      "execution_count": 10,
      "metadata": {
        "tags": []
      },
      "outputs": [],
      "source": [
        "a**2"
      ],
      "id": "db21b864-12bf-45a5-b0da-6d20d41b978c"
    },
    {
      "cell_type": "code",
      "execution_count": 11,
      "metadata": {
        "tags": []
      },
      "outputs": [],
      "source": [
        "l**2"
      ],
      "id": "b66d490a-c100-4349-8d58-ec49e66a6167"
    },
    {
      "cell_type": "code",
      "execution_count": 12,
      "metadata": {
        "tags": []
      },
      "outputs": [],
      "source": [
        "a%2 # %2 = 2로 나눈 나머지를 리턴 a=[1,2,3] "
      ],
      "id": "a1f5acb1-4083-4947-b4cf-59ba2824e000"
    },
    {
      "cell_type": "code",
      "execution_count": 13,
      "metadata": {
        "tags": []
      },
      "outputs": [],
      "source": [
        "l%2"
      ],
      "id": "b7f3d4c2-5edb-4abb-8c1f-030112ecc7e5"
    },
    {
      "cell_type": "markdown",
      "metadata": {},
      "source": [
        "## C. 기타수학연산지원"
      ],
      "id": "1a2fc5b7-5c7c-4321-b158-370dd0eef360"
    },
    {
      "cell_type": "code",
      "execution_count": 14,
      "metadata": {
        "tags": []
      },
      "outputs": [],
      "source": [
        "np.sqrt(a), np.sqrt(l)"
      ],
      "id": "9bb4c132-a6c5-4198-9530-861b2804d9a7"
    },
    {
      "cell_type": "code",
      "execution_count": 15,
      "metadata": {
        "tags": []
      },
      "outputs": [],
      "source": [
        "np.log(a), np.log(l)"
      ],
      "id": "acbde336-ea36-438c-93a1-1512d4da19c1"
    },
    {
      "cell_type": "code",
      "execution_count": 16,
      "metadata": {
        "tags": []
      },
      "outputs": [],
      "source": [
        "np.exp(a), np.exp(l)"
      ],
      "id": "54d0e73a-4ab4-4bf7-a360-a6b51499c07e"
    },
    {
      "cell_type": "code",
      "execution_count": 17,
      "metadata": {
        "tags": []
      },
      "outputs": [],
      "source": [
        "np.sin(a), np.sin(l)"
      ],
      "id": "612c140b-c91c-4f40-b98a-b769debcafb7"
    },
    {
      "cell_type": "markdown",
      "metadata": {},
      "source": [
        "## D. 인덱싱 1차원\n",
        "\n",
        "`-` 선언"
      ],
      "id": "f10f9047-e2c3-4834-bf66-edd845fff05e"
    },
    {
      "cell_type": "code",
      "execution_count": 18,
      "metadata": {
        "tags": []
      },
      "outputs": [],
      "source": [
        "l=[11,22,33,44,55,66] \n",
        "a=np.array(l) "
      ],
      "id": "e72e1913-b8fd-47a9-b5da-0912bc3899bc"
    },
    {
      "cell_type": "markdown",
      "metadata": {},
      "source": [
        "`-` 인덱스로 접근"
      ],
      "id": "f8bd2273-5e57-45c7-8530-efc5e8c87d4b"
    },
    {
      "cell_type": "code",
      "execution_count": 19,
      "metadata": {
        "tags": []
      },
      "outputs": [],
      "source": [
        "l[0],l[1],l[2],l[3],l[-2],l[-1]"
      ],
      "id": "a90eef29-cb90-4693-95fb-5842d579dc9a"
    },
    {
      "cell_type": "code",
      "execution_count": 20,
      "metadata": {
        "tags": []
      },
      "outputs": [],
      "source": [
        "a[0],a[1],a[2],a[3],a[-2],a[-1]"
      ],
      "id": "24274f02-ff4e-4ec5-ac58-6230174c64ea"
    },
    {
      "cell_type": "markdown",
      "metadata": {},
      "source": [
        "`-` `:` 이용 (슬라이싱)"
      ],
      "id": "e7630fc4-1969-4c8f-9e5d-e6eb761fdf46"
    },
    {
      "cell_type": "code",
      "execution_count": 21,
      "metadata": {
        "tags": []
      },
      "outputs": [],
      "source": [
        "l[2:4] # index 2에서 시작, index 4는 포함하지 않음 "
      ],
      "id": "80e58c66-15ee-40b6-ab81-b97157cd79eb"
    },
    {
      "cell_type": "code",
      "execution_count": 22,
      "metadata": {
        "tags": []
      },
      "outputs": [],
      "source": [
        "a[2:4] "
      ],
      "id": "ae368995-971e-46c7-b0e4-00bc26a11734"
    },
    {
      "cell_type": "markdown",
      "metadata": {},
      "source": [
        "`-` 정수배열에 의한 인덱싱"
      ],
      "id": "8ed19268-1fdd-42c5-958e-bf9ff756ed5d"
    },
    {
      "cell_type": "code",
      "execution_count": 23,
      "metadata": {
        "tags": []
      },
      "outputs": [],
      "source": [
        "a"
      ],
      "id": "530e275c-a815-4f36-aff6-86affc8e4a94"
    },
    {
      "cell_type": "code",
      "execution_count": 24,
      "metadata": {
        "tags": []
      },
      "outputs": [],
      "source": [
        "a[[0,2,4]] # index=0, index=2, index=4 에 해당하는 원소를 뽑고 싶다 "
      ],
      "id": "b0618d52-d470-4cd3-bf70-c192c0b99917"
    },
    {
      "cell_type": "code",
      "execution_count": 25,
      "metadata": {
        "tags": []
      },
      "outputs": [],
      "source": [
        "l[[0,2,4]] # 리스트는 불가능 "
      ],
      "id": "693ec897-05db-4ae0-b81f-d12c50176889"
    },
    {
      "cell_type": "markdown",
      "metadata": {},
      "source": [
        "`-` 부울값에 의한 인덱싱"
      ],
      "id": "5f85d19d-3829-4198-b2dc-3bbcb32c3f51"
    },
    {
      "cell_type": "code",
      "execution_count": 26,
      "metadata": {
        "tags": []
      },
      "outputs": [],
      "source": [
        "a"
      ],
      "id": "a5dfc082-f702-420d-897a-bf180a87b6d8"
    },
    {
      "cell_type": "code",
      "execution_count": 27,
      "metadata": {
        "tags": []
      },
      "outputs": [],
      "source": [
        "a[[True,False,True,False,True,False]] "
      ],
      "id": "23d76442-db29-4408-84c9-48b7772f8ac1"
    },
    {
      "cell_type": "markdown",
      "metadata": {},
      "source": [
        "응용하면?"
      ],
      "id": "f2df0b8c-512e-4610-97a0-4dc5f3c6b3e2"
    },
    {
      "cell_type": "code",
      "execution_count": 28,
      "metadata": {
        "tags": []
      },
      "outputs": [],
      "source": [
        "a < 33 "
      ],
      "id": "f6b31181-9104-4855-931a-2026eb5bf0d9"
    },
    {
      "cell_type": "code",
      "execution_count": 29,
      "metadata": {
        "tags": []
      },
      "outputs": [],
      "source": [
        "a[a<33]"
      ],
      "id": "440eabce-ba7f-410f-92b5-926b38555577"
    },
    {
      "cell_type": "markdown",
      "metadata": {},
      "source": [
        "리스트는 불가능"
      ],
      "id": "f6d17fab-3dc1-4d9e-a31d-e8f565d9871e"
    },
    {
      "cell_type": "code",
      "execution_count": 30,
      "metadata": {
        "tags": []
      },
      "outputs": [],
      "source": [
        "l<33 # 여기에서부터 불가능 "
      ],
      "id": "15539a47-41ae-4f37-aca6-dd3d534604d0"
    },
    {
      "cell_type": "code",
      "execution_count": 31,
      "metadata": {
        "tags": []
      },
      "outputs": [],
      "source": [
        "l[[True,False,True,False,True,False]] # 이것도 불가능 "
      ],
      "id": "f4640487-441a-447e-8b87-1c798b41a65f"
    },
    {
      "cell_type": "markdown",
      "metadata": {},
      "source": [
        "## E. 인덱싱 2차원\n",
        "\n",
        "`-` 중첩리스트와 2차원 np.array 선언"
      ],
      "id": "8f707bb9-254d-4817-8600-bbb3d4ff9c34"
    },
    {
      "cell_type": "code",
      "execution_count": 32,
      "metadata": {
        "tags": []
      },
      "outputs": [],
      "source": [
        "A = [[1,2,3,4],[-1,-2,-3,-4],[5,6,7,8],[-5,-6,-7,-8]]\n",
        "A2 = np.array(A)"
      ],
      "id": "fdd8e0cb-576d-4df7-bc29-adab3e9bf0ae"
    },
    {
      "cell_type": "code",
      "execution_count": 33,
      "metadata": {
        "tags": []
      },
      "outputs": [],
      "source": [
        "A2"
      ],
      "id": "57d25a3d-c756-4220-a4b9-9cbf81db41ac"
    },
    {
      "cell_type": "code",
      "execution_count": 34,
      "metadata": {
        "tags": []
      },
      "outputs": [],
      "source": [
        "A"
      ],
      "id": "8c62d8f4-91ea-42f2-bff1-7541508a0a31"
    },
    {
      "cell_type": "markdown",
      "metadata": {},
      "source": [
        "`-` A의 원소 인덱싱"
      ],
      "id": "84b4e879-cb84-4100-8a3d-6ba1aef75971"
    },
    {
      "cell_type": "code",
      "execution_count": 35,
      "metadata": {
        "tags": []
      },
      "outputs": [],
      "source": [
        "A[0][0] # (1,1)의 원소 "
      ],
      "id": "2ad49edf-4233-4c47-b608-a58c771046a9"
    },
    {
      "cell_type": "code",
      "execution_count": 36,
      "metadata": {
        "tags": []
      },
      "outputs": [],
      "source": [
        "A[1][2] # (2,3)의 원소 "
      ],
      "id": "0d75941a-2520-4418-b2a4-c379871e83e3"
    },
    {
      "cell_type": "code",
      "execution_count": 37,
      "metadata": {
        "tags": []
      },
      "outputs": [],
      "source": [
        "A[-1][0] # (4,1)의 원소 "
      ],
      "id": "5bc6c748-22bc-4996-840c-c43510b7e996"
    },
    {
      "cell_type": "markdown",
      "metadata": {},
      "source": [
        "`-` A2의 원소 인덱싱"
      ],
      "id": "defbb8a0-a8eb-4950-8867-5ae105eb5216"
    },
    {
      "cell_type": "code",
      "execution_count": 38,
      "metadata": {
        "tags": []
      },
      "outputs": [],
      "source": [
        "A2[0][0] # (1,1)의 원소 "
      ],
      "id": "6ad39a6a-5f89-403a-97ec-d595b4983cdc"
    },
    {
      "cell_type": "code",
      "execution_count": 39,
      "metadata": {
        "tags": []
      },
      "outputs": [],
      "source": [
        "A2[1][2] # (2,3)의 원소 "
      ],
      "id": "dbd47326-5e65-4f58-b383-01ce0fa45d24"
    },
    {
      "cell_type": "code",
      "execution_count": 40,
      "metadata": {
        "tags": []
      },
      "outputs": [],
      "source": [
        "A2[-1][0] # (4,1)의 원소 "
      ],
      "id": "c8f1e3b6-8419-4e0c-8173-bb9aeca77d4e"
    },
    {
      "cell_type": "markdown",
      "metadata": {},
      "source": [
        "`-` A2에서만 되는 기술 (넘파이에서 제시하는 신기술, R에서는 기본적으로\n",
        "쓰던것, 이중list는 불가능)"
      ],
      "id": "02d033c8-c5e9-4424-88f2-c12c83152764"
    },
    {
      "cell_type": "code",
      "execution_count": 41,
      "metadata": {
        "tags": []
      },
      "outputs": [],
      "source": [
        "A2[0,0] # (1,1)의 원소 "
      ],
      "id": "5dab6c8a-1210-4efd-94fa-1e29301a43f4"
    },
    {
      "cell_type": "code",
      "execution_count": 42,
      "metadata": {
        "tags": []
      },
      "outputs": [],
      "source": [
        "A2[1,2] # (2,3)의 원소 "
      ],
      "id": "c773566b-c5f0-49c4-b06d-3b39320b3d82"
    },
    {
      "cell_type": "code",
      "execution_count": 43,
      "metadata": {
        "tags": []
      },
      "outputs": [],
      "source": [
        "A2[-1,0] # (4,1)의 원소 "
      ],
      "id": "4e60520e-5b96-4c23-a065-425962384295"
    },
    {
      "cell_type": "markdown",
      "metadata": {},
      "source": [
        "`-` 정수배열에 의한 인덱싱 & 슬라이싱!"
      ],
      "id": "70d672cd-fbb3-4b0a-819f-feb05a8f6c75"
    },
    {
      "cell_type": "code",
      "execution_count": 44,
      "metadata": {
        "tags": []
      },
      "outputs": [],
      "source": [
        "A2"
      ],
      "id": "70f89e7e-52b8-43d5-ab52-ca83d52e9c92"
    },
    {
      "cell_type": "code",
      "execution_count": 45,
      "metadata": {
        "tags": []
      },
      "outputs": [],
      "source": [
        "A2[0,0:2] # 1행1열, 1행2열 "
      ],
      "id": "71bb6bb7-f09a-4eb1-b45a-46ad0f79778c"
    },
    {
      "cell_type": "code",
      "execution_count": 46,
      "metadata": {
        "tags": []
      },
      "outputs": [],
      "source": [
        "A2[0,:] # 1행 "
      ],
      "id": "8fda882c-09ad-4cc6-90de-f62d65a4463f"
    },
    {
      "cell_type": "code",
      "execution_count": 47,
      "metadata": {
        "tags": []
      },
      "outputs": [],
      "source": [
        "A2[0] # 1행"
      ],
      "id": "6c3b048c-42d4-4ffa-ab8a-c781b5c7e46e"
    },
    {
      "cell_type": "code",
      "execution_count": 48,
      "metadata": {
        "tags": []
      },
      "outputs": [],
      "source": [
        "A2[[0,2],:] # 1행, 3행 "
      ],
      "id": "e60286b5-69b9-4e0c-951e-e150647c1810"
    },
    {
      "cell_type": "code",
      "execution_count": 49,
      "metadata": {
        "tags": []
      },
      "outputs": [],
      "source": [
        "A2[[0,2]] # 1행, 3행 "
      ],
      "id": "4a95fe03-6cb9-48aa-a0ac-e1c4e0fbf2b1"
    },
    {
      "cell_type": "code",
      "execution_count": 50,
      "metadata": {
        "tags": []
      },
      "outputs": [],
      "source": [
        "A2[:,0] # 1열 "
      ],
      "id": "42e91f67-7262-46fd-a0eb-74c5f41c01c5"
    },
    {
      "cell_type": "code",
      "execution_count": 51,
      "metadata": {
        "tags": []
      },
      "outputs": [],
      "source": [
        "A2[:,[0]] # 1열 "
      ],
      "id": "7515367f-0286-44a7-a5d4-f3a91f72307f"
    },
    {
      "cell_type": "code",
      "execution_count": 52,
      "metadata": {
        "tags": []
      },
      "outputs": [],
      "source": [
        "A2[:,[0,2]] # 1열, 3열"
      ],
      "id": "0973ce27-0b5b-4560-b4cc-9eadf551290b"
    },
    {
      "cell_type": "code",
      "execution_count": 53,
      "metadata": {
        "tags": []
      },
      "outputs": [],
      "source": [
        "A2[0:2,[0,2]] # 1행~2행 //  1열,3열 "
      ],
      "id": "5ae168cb-7b48-4342-90b5-c4c248176bd6"
    },
    {
      "cell_type": "markdown",
      "metadata": {},
      "source": [
        "## F. 1차원 배열의 선언\n",
        "\n",
        "`-` 리스트나 튜플을 선언하고 형변환"
      ],
      "id": "a9a3709a-f038-4400-abec-0015894c9ad2"
    },
    {
      "cell_type": "code",
      "execution_count": 54,
      "metadata": {
        "tags": []
      },
      "outputs": [],
      "source": [
        "np.array((1,2,3)) # 튜플->넘파이어레이 "
      ],
      "id": "7316f01c-451a-4e9f-81a4-6e630a763b6e"
    },
    {
      "cell_type": "code",
      "execution_count": 55,
      "metadata": {
        "tags": []
      },
      "outputs": [],
      "source": [
        "np.array([1,2,3]) # 리스트 ->넘파이어레이 "
      ],
      "id": "35e4c5f1-0e4f-45c0-af36-ef1f9e80e0e6"
    },
    {
      "cell_type": "markdown",
      "metadata": {},
      "source": [
        "`-` range()를 이용해서 선언하고 형변환"
      ],
      "id": "770b418e-ee7b-49b9-9643-29a4b4a18980"
    },
    {
      "cell_type": "code",
      "execution_count": 56,
      "metadata": {
        "tags": []
      },
      "outputs": [],
      "source": [
        "np.array(range(10)) # range(10) -> 넘파이어레이 "
      ],
      "id": "74f6b3ab-dbb6-4abf-ad74-c1775aa75ce6"
    },
    {
      "cell_type": "markdown",
      "metadata": {},
      "source": [
        "`-` np.zeros, np.ones"
      ],
      "id": "47dae5c5-98f1-4726-8e8b-04e4064d0ced"
    },
    {
      "cell_type": "code",
      "execution_count": 57,
      "metadata": {
        "tags": []
      },
      "outputs": [],
      "source": [
        "np.zeros(3) "
      ],
      "id": "50cf691a-8b6f-425b-966c-93ecabc936b1"
    },
    {
      "cell_type": "code",
      "execution_count": 58,
      "metadata": {
        "tags": []
      },
      "outputs": [],
      "source": [
        "np.ones(4)"
      ],
      "id": "6591c1c8-8cbf-49b8-835f-72a5f94331f4"
    },
    {
      "cell_type": "markdown",
      "metadata": {},
      "source": [
        "`-` np.linspace"
      ],
      "id": "2b004f3f-c67d-43e4-b431-176d56093323"
    },
    {
      "cell_type": "code",
      "execution_count": 59,
      "metadata": {
        "tags": []
      },
      "outputs": [],
      "source": [
        "np.linspace(0,1,12) # 0에서 시작하고 1에서 끝남 (양끝점 모두 포함)"
      ],
      "id": "9881fafa-9057-4532-9fba-919712e955cc"
    },
    {
      "cell_type": "code",
      "execution_count": 60,
      "metadata": {
        "tags": []
      },
      "outputs": [],
      "source": [
        "len(np.linspace(0,1,12)) # 길이는 12"
      ],
      "id": "19fda85f-ad53-4567-a752-e54d24188bdc"
    },
    {
      "cell_type": "markdown",
      "metadata": {},
      "source": [
        "`-` np.arange"
      ],
      "id": "e1d6055a-eba7-49ab-bc35-866ae929da10"
    },
    {
      "cell_type": "code",
      "execution_count": 61,
      "metadata": {
        "tags": []
      },
      "outputs": [],
      "source": [
        "np.arange(5) # np.array(range(5))"
      ],
      "id": "99f71a79-4e46-4c58-b64a-4a87fd023eb5"
    },
    {
      "cell_type": "code",
      "execution_count": 62,
      "metadata": {
        "tags": []
      },
      "outputs": [],
      "source": [
        "np.arange(1,6) # np.array(range(1,6))"
      ],
      "id": "ee3556a9-8965-41b2-afe2-216e6d97af45"
    },
    {
      "cell_type": "markdown",
      "metadata": {},
      "source": [
        "## G. reshape\n",
        "\n",
        "`-` reshape: ndarray의 특수한 기능"
      ],
      "id": "d8653cb6-ed2b-449e-bdd4-2be48684d62b"
    },
    {
      "cell_type": "code",
      "execution_count": 63,
      "metadata": {
        "tags": []
      },
      "outputs": [],
      "source": [
        "a=np.array([11,22,33,44,55,66])\n",
        "a ## 길이가 6인 벡터 "
      ],
      "id": "fd0f4b0f-a3ad-46f9-8366-c5a83d720568"
    },
    {
      "cell_type": "code",
      "execution_count": 64,
      "metadata": {
        "tags": []
      },
      "outputs": [],
      "source": [
        "a.reshape(2,3) ## (2,3) matrix 라고 생각해도 무방 "
      ],
      "id": "86a3b1ef-074a-4e92-adc5-9bbfbd64f41c"
    },
    {
      "cell_type": "markdown",
      "metadata": {},
      "source": [
        "note: reshape은 a자체를 변화시키는것은 아님"
      ],
      "id": "da74a8e5-548a-445c-8747-f24b0d435683"
    },
    {
      "cell_type": "code",
      "execution_count": 65,
      "metadata": {
        "tags": []
      },
      "outputs": [],
      "source": [
        "a # a는 그대로 있음 "
      ],
      "id": "e45a9854-17c1-4b66-9f7c-ef89eab037be"
    },
    {
      "cell_type": "code",
      "execution_count": 66,
      "metadata": {
        "tags": []
      },
      "outputs": [],
      "source": [
        "b= a.reshape(2,3) # a를 reshape한 결과를 b에 저장 \n",
        "b"
      ],
      "id": "5b936170-f7c1-4a3c-91b3-93b7fe58914c"
    },
    {
      "cell_type": "code",
      "execution_count": 67,
      "metadata": {
        "tags": []
      },
      "outputs": [],
      "source": [
        "a # a는 여전히 그대로 있음"
      ],
      "id": "e3c9c9a7-39db-4e97-911a-cedcaf121476"
    },
    {
      "cell_type": "markdown",
      "metadata": {},
      "source": [
        "`-` 다시 b를 a처럼 바꾸고 싶다"
      ],
      "id": "a0482c3e-00a4-4c0e-af77-a93ae8b6029f"
    },
    {
      "cell_type": "code",
      "execution_count": 68,
      "metadata": {
        "tags": []
      },
      "outputs": [],
      "source": [
        "b"
      ],
      "id": "d2096d2d-86ba-4585-9364-ffee0633015e"
    },
    {
      "cell_type": "code",
      "execution_count": 69,
      "metadata": {
        "tags": []
      },
      "outputs": [],
      "source": [
        "b.reshape(6) # b는 (2,3) matrix , 그런데 이것을 길이가 6인 벡터로 만들고 싶다. "
      ],
      "id": "3fec48df-08c5-46a8-9a13-b0e007c8b03b"
    },
    {
      "cell_type": "markdown",
      "metadata": {},
      "source": [
        "`-` reshape with -1"
      ],
      "id": "57b91fbc-b8f4-4c28-ae23-1c7e74eb1d67"
    },
    {
      "cell_type": "code",
      "execution_count": 70,
      "metadata": {
        "tags": []
      },
      "outputs": [],
      "source": [
        "a=np.arange(24) # np.array(range(24))\n",
        "a"
      ],
      "id": "b600b8e4-c153-4419-8458-5f12d6c950c7"
    },
    {
      "cell_type": "code",
      "execution_count": 71,
      "metadata": {
        "tags": []
      },
      "outputs": [],
      "source": [
        "a.reshape(2,-1)"
      ],
      "id": "ee9eca13-f1ca-4274-8681-25cc13fcadb1"
    },
    {
      "cell_type": "code",
      "execution_count": 72,
      "metadata": {
        "tags": []
      },
      "outputs": [],
      "source": [
        "a.reshape(3,-1)"
      ],
      "id": "126303f6-0f12-46db-8e39-7a31e17f77c9"
    },
    {
      "cell_type": "code",
      "execution_count": 73,
      "metadata": {
        "tags": []
      },
      "outputs": [],
      "source": [
        "a.reshape(4,-1)"
      ],
      "id": "1e45a836-65fc-4f5e-b20e-b46307ef6a0e"
    },
    {
      "cell_type": "code",
      "execution_count": 74,
      "metadata": {
        "tags": []
      },
      "outputs": [],
      "source": [
        "a.reshape(5,-1)"
      ],
      "id": "5621e2e1-c3ec-4fc8-93bc-525aa3b5ac06"
    },
    {
      "cell_type": "code",
      "execution_count": 75,
      "metadata": {
        "tags": []
      },
      "outputs": [],
      "source": [
        "a.reshape(6,-1)"
      ],
      "id": "13dcc7e9-e475-4e90-a064-e282aa13bd04"
    },
    {
      "cell_type": "code",
      "execution_count": 76,
      "metadata": {
        "tags": []
      },
      "outputs": [],
      "source": [
        "a.reshape(7,-1)"
      ],
      "id": "8907f4e4-8585-4491-87cb-a331f502b1f0"
    },
    {
      "cell_type": "code",
      "execution_count": 77,
      "metadata": {
        "tags": []
      },
      "outputs": [],
      "source": [
        "a.reshape(8,-1)"
      ],
      "id": "72e402a5-1165-4689-8d16-e1fc9bd8d693"
    },
    {
      "cell_type": "code",
      "execution_count": 78,
      "metadata": {
        "tags": []
      },
      "outputs": [],
      "source": [
        "a.reshape(12,-1)"
      ],
      "id": "acf908f8-3893-4eda-a74e-8860966e79bc"
    },
    {
      "cell_type": "code",
      "execution_count": 79,
      "metadata": {
        "tags": []
      },
      "outputs": [],
      "source": [
        "b= a.reshape(12,-1)\n",
        "b"
      ],
      "id": "3eec797e-f7ef-46b2-b8a2-09b582009d4d"
    },
    {
      "cell_type": "code",
      "execution_count": 80,
      "metadata": {
        "tags": []
      },
      "outputs": [],
      "source": [
        "b.reshape(-1) # b를 다시 길이가 24인 벡터로!"
      ],
      "id": "f85ee228-0543-4451-9a25-7764d974399b"
    },
    {
      "cell_type": "markdown",
      "metadata": {},
      "source": [
        "## H. 2차원 배열의 선언"
      ],
      "id": "4ba70163-9253-4ce5-905a-bcc6b45aaad3"
    },
    {
      "cell_type": "code",
      "execution_count": 81,
      "metadata": {
        "tags": []
      },
      "outputs": [],
      "source": [
        "np.zeros((3,3))"
      ],
      "id": "01c0b0e3-6aaf-48c5-93df-a16b7a8ef243"
    },
    {
      "cell_type": "code",
      "execution_count": 82,
      "metadata": {
        "tags": []
      },
      "outputs": [],
      "source": [
        "np.ones((3,3))"
      ],
      "id": "7aa6960d-7a66-4623-8389-2c7df4454807"
    },
    {
      "cell_type": "code",
      "execution_count": 83,
      "metadata": {
        "tags": []
      },
      "outputs": [],
      "source": [
        "np.eye(3)"
      ],
      "id": "a90f2021-c904-4e5c-bbb3-7502e6e40181"
    },
    {
      "cell_type": "code",
      "execution_count": 84,
      "metadata": {
        "tags": []
      },
      "outputs": [],
      "source": [
        "np.diag([1,2,3,-1])"
      ],
      "id": "8c22ab0c-7b39-488c-9d41-25612e07f993"
    },
    {
      "cell_type": "markdown",
      "metadata": {},
      "source": [
        "## I. 랜덤으로 배열 생성"
      ],
      "id": "2b595e9f-13e1-439d-a668-2775d5b33a18"
    },
    {
      "cell_type": "code",
      "execution_count": 85,
      "metadata": {
        "tags": []
      },
      "outputs": [],
      "source": [
        "np.random.randn(10) # 표쥰정규분포에서 10개를 뽑음 "
      ],
      "id": "7e4a037e-59f3-4568-a5fd-6262cae35250"
    },
    {
      "cell_type": "code",
      "execution_count": 86,
      "metadata": {
        "tags": []
      },
      "outputs": [],
      "source": [
        "np.random.rand(10) # 0~1사이에서 10개를 뽑음"
      ],
      "id": "0a7d9efb-a47a-4d50-9956-23c284ec78e3"
    },
    {
      "cell_type": "code",
      "execution_count": 87,
      "metadata": {
        "tags": []
      },
      "outputs": [],
      "source": [
        "np.random.randn(4).reshape(2,2) # 표준정규분포에서 4개를 뽑고 (2,2) ndarray로 형태변환 "
      ],
      "id": "e081b267-64a0-4765-abf9-a26bfa519f3f"
    },
    {
      "cell_type": "code",
      "execution_count": 88,
      "metadata": {
        "tags": []
      },
      "outputs": [],
      "source": [
        "np.random.rand(4).reshape(2,2) # 0~1 4개를 뽑고 (2,2) ndarray로 형태변환 "
      ],
      "id": "9a81b2a0-bed1-47cd-b982-91c4ba9bafaf"
    },
    {
      "cell_type": "markdown",
      "metadata": {},
      "source": [
        "## J. 행렬관련기능"
      ],
      "id": "1da449b0-adef-445e-8994-b3e55a98a9f1"
    },
    {
      "cell_type": "code",
      "execution_count": 89,
      "metadata": {
        "tags": []
      },
      "outputs": [],
      "source": [
        "A=np.arange(4).reshape(2,2) \n",
        "A"
      ],
      "id": "325f2540-d8af-46a1-b431-30ff91a96703"
    },
    {
      "cell_type": "code",
      "execution_count": 90,
      "metadata": {
        "tags": []
      },
      "outputs": [],
      "source": [
        "A.T # .T는 전치행렬을 구해줌 "
      ],
      "id": "14ebeda2-0c96-4678-8452-d257a092c36e"
    },
    {
      "cell_type": "code",
      "execution_count": 91,
      "metadata": {
        "tags": []
      },
      "outputs": [],
      "source": [
        "np.linalg.inv(A) # np.linalg.inv는 역행렬을 구해주는 함수 "
      ],
      "id": "3e7c1d9c-5c89-4f12-be18-775476323318"
    },
    {
      "cell_type": "code",
      "execution_count": 92,
      "metadata": {
        "tags": []
      },
      "outputs": [],
      "source": [
        "A @ np.linalg.inv(A) # @는 행렬곱을 수행 "
      ],
      "id": "622ccc62-be54-47d4-b44d-38b7b54037ac"
    },
    {
      "cell_type": "markdown",
      "metadata": {},
      "source": [
        "## K. 2차원 배열과 연립 1차 방정식\n",
        "\n",
        "`-` 아래의 연립방정식 고려\n",
        "\n",
        "$\\begin{cases} y+z+w = 3 \\\\ x+z+w = 3 \\\\ x+y+w = 3 \\\\ x+y+z = 3 \\end{cases}$\n",
        "\n",
        "`-` 행렬표현?\n",
        "\n",
        "$\\begin{bmatrix} 0 & 1 & 1 & 1 \\\\ 1 & 0 & 1 & 1 \\\\ 1 & 1 & 0 & 1 \\\\ 1 & 1 & 1 & 0 \\end{bmatrix} \\begin{bmatrix} x \\\\ y \\\\ z \\\\ w \\end{bmatrix} = \\begin{bmatrix} 3 \\\\ 3 \\\\ 3 \\\\ 3 \\end{bmatrix}$\n",
        "\n",
        "`-` 풀이"
      ],
      "id": "4a4f375d-bd17-47c5-9541-2d2abe7b5e2f"
    },
    {
      "cell_type": "code",
      "execution_count": 93,
      "metadata": {
        "tags": []
      },
      "outputs": [],
      "source": [
        "A = np.array([[0,1,1,1],[1,0,1,1],[1,1,0,1],[1,1,1,0]])\n",
        "A"
      ],
      "id": "0877ed6a-7f70-44e2-9285-9a14781ad4ba"
    },
    {
      "cell_type": "code",
      "execution_count": 94,
      "metadata": {
        "tags": []
      },
      "outputs": [],
      "source": [
        "b= np.array([3,3,3,3]).reshape(4,1)\n",
        "b"
      ],
      "id": "6e9a8268-08d1-4372-97fa-dc63bfe6a3f3"
    },
    {
      "cell_type": "code",
      "execution_count": 95,
      "metadata": {
        "tags": []
      },
      "outputs": [],
      "source": [
        "np.linalg.inv(A) @ b "
      ],
      "id": "88e0ee63-1fc2-41fb-bd6c-31284dcc232f"
    },
    {
      "cell_type": "markdown",
      "metadata": {},
      "source": [
        "`-` 다른풀이\n",
        "\n",
        "b를 아래와 같이 만들어도 된다."
      ],
      "id": "9e8b8a05-a3e5-4ff9-8056-361fa9558ac6"
    },
    {
      "cell_type": "code",
      "execution_count": 96,
      "metadata": {
        "tags": []
      },
      "outputs": [],
      "source": [
        "b=np.array([3,3,3,3])\n",
        "b"
      ],
      "id": "dd1f3708-82b0-482c-a610-dadb73abbc9c"
    },
    {
      "cell_type": "code",
      "execution_count": 97,
      "metadata": {
        "tags": []
      },
      "outputs": [],
      "source": [
        "b.shape # b.shape은 길이가 1인 튜플로 나온다. "
      ],
      "id": "436fb6b7-92a2-4994-bdcf-30f9a901ab27"
    },
    {
      "cell_type": "code",
      "execution_count": 98,
      "metadata": {
        "tags": []
      },
      "outputs": [],
      "source": [
        "np.linalg.inv(A) @ b "
      ],
      "id": "a84da24d-aad4-4fcc-bb9d-fdb69ed6bf0b"
    },
    {
      "cell_type": "markdown",
      "metadata": {},
      "source": [
        "***`@`의 유연성***\n",
        "\n",
        "`-` 엄밀하게는 아래의 행렬곱이 가능하다. - (2,2) @ (2,1) =\\> (2,1) -\n",
        "(1,2) @ (2,2) =\\> (1,2)"
      ],
      "id": "db842b5f-422b-4a4f-b5bc-4c151dc4e96f"
    },
    {
      "cell_type": "code",
      "execution_count": 99,
      "metadata": {
        "tags": []
      },
      "outputs": [],
      "source": [
        "A = np.array([1,2,3,4]).reshape(2,2) \n",
        "b = np.array([1,2]).reshape(2,1) \n",
        "A@b"
      ],
      "id": "3fcc6a3c-14d6-4ae1-b221-d59294fe251a"
    },
    {
      "cell_type": "code",
      "execution_count": 100,
      "metadata": {
        "tags": []
      },
      "outputs": [],
      "source": [
        "A.shape, b.shape, (A@b).shape"
      ],
      "id": "566d96d1-4849-49c9-b5f7-a188876902cd"
    },
    {
      "cell_type": "code",
      "execution_count": 101,
      "metadata": {
        "tags": []
      },
      "outputs": [],
      "source": [
        "A = np.array([1,2,3,4]).reshape(2,2) \n",
        "b = np.array([1,2]).reshape(1,2) \n",
        "b@A "
      ],
      "id": "dfcf2e1b-7a85-45e9-addb-f4c8c5cc687d"
    },
    {
      "cell_type": "code",
      "execution_count": 102,
      "metadata": {
        "tags": []
      },
      "outputs": [],
      "source": [
        "A.shape, b.shape, (b@A).shape"
      ],
      "id": "1221fae7-5008-47ae-8289-777c65416ed7"
    },
    {
      "cell_type": "markdown",
      "metadata": {},
      "source": [
        "`-` 당연히 아래는 성립안한다."
      ],
      "id": "9cc8eb56-3920-4629-93d7-196df841144e"
    },
    {
      "cell_type": "code",
      "execution_count": 103,
      "metadata": {
        "tags": []
      },
      "outputs": [],
      "source": [
        "A = np.array([1,2,3,4]).reshape(2,2) \n",
        "b = np.array([1,2]).reshape(2,1) \n",
        "b@A"
      ],
      "id": "36fd2296-d127-4678-91dc-a119d0c208e0"
    },
    {
      "cell_type": "code",
      "execution_count": 104,
      "metadata": {
        "tags": []
      },
      "outputs": [],
      "source": [
        "A = np.array([1,2,3,4]).reshape(2,2) \n",
        "b = np.array([1,2]).reshape(1,2) \n",
        "A@b"
      ],
      "id": "8c40ff67-6adb-4dd0-8d26-e059459db5e8"
    },
    {
      "cell_type": "markdown",
      "metadata": {},
      "source": [
        "`-` 아래는 어떨까? 계산가능할까? $\\to$ 모두 계산가능! - (2,) @ (2,2) =\n",
        "(2,) - (2,2) @ (2,) = (2,)"
      ],
      "id": "61e62ad2-094b-44d9-997d-11a5413b31e6"
    },
    {
      "cell_type": "code",
      "execution_count": 105,
      "metadata": {
        "tags": []
      },
      "outputs": [],
      "source": [
        "A = np.array([1,2,3,4]).reshape(2,2)\n",
        "b = np.array([1,2]) \n",
        "A@b"
      ],
      "id": "b9e8c885-f3c8-4a59-ab5c-329c7944b1db"
    },
    {
      "cell_type": "code",
      "execution_count": 106,
      "metadata": {
        "tags": []
      },
      "outputs": [],
      "source": [
        "A.shape, b.shape, (A@b).shape "
      ],
      "id": "83c6b147-2b2a-425f-815a-b2dd6c53e117"
    },
    {
      "cell_type": "markdown",
      "metadata": {},
      "source": [
        "-   b를 마치 (2,1)처럼 해석하여 행렬곱하고 결과는 다시 (2,) 로 만든것\n",
        "    같다."
      ],
      "id": "c7d64f41-0ad5-4a12-8bd2-8c6a5cde5df4"
    },
    {
      "cell_type": "code",
      "execution_count": 107,
      "metadata": {
        "tags": []
      },
      "outputs": [],
      "source": [
        "b@A"
      ],
      "id": "b0e4b65c-278a-413c-a140-3ecd7ef0064c"
    },
    {
      "cell_type": "code",
      "execution_count": 108,
      "metadata": {
        "tags": []
      },
      "outputs": [],
      "source": [
        "A.shape, b.shape, (b@A).shape "
      ],
      "id": "8573dbc1-104f-419d-bd16-464f61dd49de"
    },
    {
      "cell_type": "markdown",
      "metadata": {},
      "source": [
        "-   이때는 $b$를 마치 (1,2)처럼 해석하여 행렬곱하고 결과는 다시 (2,)로\n",
        "    만든것 같다.\n",
        "\n",
        "`-` 아래는 어떠할까?"
      ],
      "id": "10b1cdaa-c2ec-4681-b837-18b822eb059b"
    },
    {
      "cell_type": "code",
      "execution_count": 109,
      "metadata": {
        "tags": []
      },
      "outputs": [],
      "source": [
        "b1 = np.array([1,2,3,4]) \n",
        "b2 = np.array([1,2,3,4]) \n",
        "b1@b2 "
      ],
      "id": "a71b8785-ed7b-49ea-a57d-a07a67688fb1"
    },
    {
      "cell_type": "code",
      "execution_count": 110,
      "metadata": {
        "tags": []
      },
      "outputs": [],
      "source": [
        "b1.shape, b2.shape, (b1@b2).shape "
      ],
      "id": "75575ff0-bc6a-407a-8a8b-62521417f7b9"
    },
    {
      "cell_type": "markdown",
      "metadata": {},
      "source": [
        "-   (1,4) @ (4,1) = (1,1) 로 생각\n",
        "\n",
        "`-` 즉 위는 아래와 같이 해석하고 행렬곱한것과 결과가 같다."
      ],
      "id": "5da876e5-3a3c-4373-b498-594968da2905"
    },
    {
      "cell_type": "code",
      "execution_count": 111,
      "metadata": {
        "tags": []
      },
      "outputs": [],
      "source": [
        "b1 = np.array([1,2,3,4]).reshape(1,4) \n",
        "b2 = np.array([1,2,3,4]).reshape(4,1) \n",
        "b1@b2 "
      ],
      "id": "4d470698-272d-494a-947d-f0bf5a946bb3"
    },
    {
      "cell_type": "code",
      "execution_count": 112,
      "metadata": {
        "tags": []
      },
      "outputs": [],
      "source": [
        "b1.shape, b2.shape, (b1@b2).shape "
      ],
      "id": "f24ada40-98dd-4fb6-b1db-bb73ff1360c8"
    },
    {
      "cell_type": "markdown",
      "metadata": {},
      "source": [
        "`-` 때로는 (4,1) @ (1,4)와 같은 계산결과를 얻고 싶을 수 있는데 이때는\n",
        "차원을 명시해야함"
      ],
      "id": "f576ce74-c02e-43e0-a63c-d073f8915970"
    },
    {
      "cell_type": "code",
      "execution_count": 113,
      "metadata": {
        "tags": []
      },
      "outputs": [],
      "source": [
        "b1 = np.array([1,2,3,4]).reshape(4,1) \n",
        "b2 = np.array([1,2,3,4]).reshape(1,4) \n",
        "b1@b2 "
      ],
      "id": "15344a20-d3f6-4c46-9e2e-d7d334ce862c"
    },
    {
      "cell_type": "markdown",
      "metadata": {},
      "source": [
        "## L. 차원\n",
        "\n",
        "`-` 넘파이배열의 차원은 .shape 으로 확인가능\n",
        "\n",
        "`-` 아래는 모두 미묘하게 다르다."
      ],
      "id": "b1e86b86-50da-43d5-8589-46ff85bb2594"
    },
    {
      "cell_type": "code",
      "execution_count": 114,
      "metadata": {
        "tags": []
      },
      "outputs": [],
      "source": [
        "a=np.array(3.14) # 스칼라, 0d array \n",
        "a, a.shape"
      ],
      "id": "1f1ac9e5-7926-4828-a3f6-48ca06535e87"
    },
    {
      "cell_type": "code",
      "execution_count": 115,
      "metadata": {
        "tags": []
      },
      "outputs": [],
      "source": [
        "a=np.array([3.14]) # 벡터, 1d array \n",
        "a, a.shape"
      ],
      "id": "084df997-6409-4657-880e-3b37f43ec393"
    },
    {
      "cell_type": "code",
      "execution_count": 116,
      "metadata": {
        "tags": []
      },
      "outputs": [],
      "source": [
        "a=np.array([[3.14]]) # 매트릭스, 2d array \n",
        "a, a.shape"
      ],
      "id": "fa2a046b-e5f3-493b-9613-1d28bcf5f5bd"
    },
    {
      "cell_type": "code",
      "execution_count": 117,
      "metadata": {
        "tags": []
      },
      "outputs": [],
      "source": [
        "a=np.array([[[3.14]]]) # 텐서, 3d array \n",
        "a, a.shape"
      ],
      "id": "a50bd4a8-25f6-455c-9b89-a14a521bb836"
    },
    {
      "cell_type": "markdown",
      "metadata": {},
      "source": [
        "# 4. `numpy`와 축(`axis`)\n",
        "\n",
        "축(axis)은 차원과 비슷하게 생각하면 됨\n",
        "\n",
        "## A. `np.concatenate`\n",
        "\n",
        "`-` 기본예제"
      ],
      "id": "a99bcd74-31c4-495d-89f1-e096c6bb864c"
    },
    {
      "cell_type": "code",
      "execution_count": 5,
      "metadata": {
        "tags": []
      },
      "outputs": [],
      "source": [
        "a = np.array([1,2])\n",
        "b = -a"
      ],
      "id": "af756ce6-5252-4d01-9add-def86b5ddd93"
    },
    {
      "cell_type": "code",
      "execution_count": 9,
      "metadata": {
        "tags": []
      },
      "outputs": [],
      "source": [
        "np.concatenate([a,b])"
      ],
      "id": "454eab49-c813-4270-85ac-09789203daa5"
    },
    {
      "cell_type": "markdown",
      "metadata": {},
      "source": [
        "-   딱히 인상적인건 아님.\n",
        "-   왜냐하면 리스트에서 있는 기능임\n",
        "\n",
        "`-` 2D인 경우"
      ],
      "id": "5aefead0-e509-4c04-b71d-e2cbc902e9cf"
    },
    {
      "cell_type": "code",
      "execution_count": 15,
      "metadata": {
        "tags": []
      },
      "outputs": [],
      "source": [
        "a = np.array([1,2,3,4]).reshape(2,2)\n",
        "b = -a"
      ],
      "id": "c3b2b6cb-12eb-4078-b896-89e264ea00db"
    },
    {
      "cell_type": "code",
      "execution_count": 17,
      "metadata": {
        "tags": []
      },
      "outputs": [],
      "source": [
        "np.concatenate([a,b])"
      ],
      "id": "68e40562-2fd7-4d8a-9cf4-e5b1db6f8df3"
    },
    {
      "cell_type": "markdown",
      "metadata": {},
      "source": [
        "a,b를 위아래가 아니라 좌우로 붙이고 싶다면?"
      ],
      "id": "1fffe79a-4d99-4c18-9321-fa5741ffc185"
    },
    {
      "cell_type": "code",
      "execution_count": 18,
      "metadata": {
        "tags": []
      },
      "outputs": [],
      "source": [
        "np.concatenate([a,b],axis=1)"
      ],
      "id": "d090c46d-8bd9-4441-842c-f26d2a42b76b"
    },
    {
      "cell_type": "markdown",
      "metadata": {},
      "source": [
        "`-` 도데체 axis=0, 혹은 axis=1의 의미가 무엇인가?"
      ],
      "id": "bb9655be-0c17-407e-ab33-b89112074105"
    },
    {
      "cell_type": "code",
      "execution_count": 21,
      "metadata": {
        "tags": []
      },
      "outputs": [],
      "source": [
        "np.concatenate([a,b],axis=0) # 이건 아까 np.concatenate([a,b])랑 같네?"
      ],
      "id": "8eabb6f9-afca-42eb-bfc3-45c32d06ed8a"
    },
    {
      "cell_type": "code",
      "execution_count": 22,
      "metadata": {
        "tags": []
      },
      "outputs": [],
      "source": [
        "np.concatenate([a,b],axis=1) # 이건 아까 np.concatenate([a,b])랑 같네?"
      ],
      "id": "965d69e1-27dc-4c86-a83f-9ac48153f12f"
    },
    {
      "cell_type": "markdown",
      "metadata": {},
      "source": [
        "-   관찰에 의한 정리: a,b가 2차원일때 axis=0 이라고 쓰면 위아래로,\n",
        "    axis=1이라고 하면 좌우로 합쳐진다.\n",
        "-   axis=0은 생략할 수 있다.\n",
        "\n",
        "`-` 2D일 경우에 활용"
      ],
      "id": "97cc16ab-255c-49b8-b3d4-d686d8c40b61"
    },
    {
      "cell_type": "code",
      "execution_count": 52,
      "metadata": {
        "tags": []
      },
      "outputs": [],
      "source": [
        "a = np.array([1,2,3,4]).reshape(2,2)\n",
        "b = np.array([10,20]).reshape(2,1)\n",
        "c = -b"
      ],
      "id": "c553adbd-c1d6-4a6e-af63-99ab85e6bc52"
    },
    {
      "cell_type": "code",
      "execution_count": 53,
      "metadata": {
        "tags": []
      },
      "outputs": [],
      "source": [
        "a,b,c"
      ],
      "id": "29f76224-f383-46f8-adf3-b660e95d824f"
    },
    {
      "cell_type": "code",
      "execution_count": 54,
      "metadata": {
        "tags": []
      },
      "outputs": [],
      "source": [
        "np.concatenate([a,b.T],axis=0) "
      ],
      "id": "19f10638-7b26-406c-ae97-88fe43c50c51"
    },
    {
      "cell_type": "code",
      "execution_count": 55,
      "metadata": {
        "tags": []
      },
      "outputs": [],
      "source": [
        "np.concatenate([a,b.T,c.T],axis=0) "
      ],
      "id": "41d084f0-c14a-4c42-a206-f3ffe875b48a"
    },
    {
      "cell_type": "code",
      "execution_count": 56,
      "metadata": {
        "tags": []
      },
      "outputs": [],
      "source": [
        "np.concatenate([a,b],axis=1) "
      ],
      "id": "06b77079-9a10-46ff-a42c-bd8039770f50"
    },
    {
      "cell_type": "code",
      "execution_count": 57,
      "metadata": {
        "tags": []
      },
      "outputs": [],
      "source": [
        "np.concatenate([a,b,c],axis=1) "
      ],
      "id": "5828a0df-f390-4629-b87e-f86a56d2cb01"
    },
    {
      "cell_type": "code",
      "execution_count": 59,
      "metadata": {
        "tags": []
      },
      "outputs": [],
      "source": [
        "np.concatenate([a.reshape(4,1), np.concatenate([b,c])],axis=1)"
      ],
      "id": "69fab6d2-d690-4836-a12d-4f07b2f909ab"
    },
    {
      "cell_type": "markdown",
      "metadata": {},
      "source": [
        "`-` axis의 의미가 뭔지 궁금함. 좀 더 예제를 살펴보자."
      ],
      "id": "e6bbb57f-bf0f-4c13-98ef-52fef0cf2d47"
    },
    {
      "cell_type": "code",
      "execution_count": 65,
      "metadata": {
        "tags": []
      },
      "outputs": [],
      "source": [
        "a = np.arange(2*3*4).reshape(2,3,4)\n",
        "b = -a"
      ],
      "id": "e74c3e32-65b2-420d-abab-8a19beecc868"
    },
    {
      "cell_type": "code",
      "execution_count": 66,
      "metadata": {
        "tags": []
      },
      "outputs": [],
      "source": [
        "a.shape, b.shape"
      ],
      "id": "b636e1a5-9e50-4263-a122-14f2e216bb86"
    },
    {
      "cell_type": "code",
      "execution_count": 67,
      "metadata": {
        "tags": []
      },
      "outputs": [],
      "source": [
        "np.concatenate([a,b],axis=0)"
      ],
      "id": "de2ac81d-a24f-4497-a3d6-5695575a0536"
    },
    {
      "cell_type": "code",
      "execution_count": 68,
      "metadata": {
        "tags": []
      },
      "outputs": [],
      "source": [
        "np.concatenate([a,b],axis=1)"
      ],
      "id": "52e49c26-6015-4cfb-a820-3b7ae1915046"
    },
    {
      "cell_type": "code",
      "execution_count": 70,
      "metadata": {
        "tags": []
      },
      "outputs": [],
      "source": [
        "np.concatenate([a,b],axis=2)"
      ],
      "id": "00e05f3c-1210-46c2-a2e1-91e0d75f7e8f"
    },
    {
      "cell_type": "markdown",
      "metadata": {},
      "source": [
        "-   이번에는 axis=2 까지 계산이 가능함"
      ],
      "id": "40f4f6e7-b125-40b5-be5b-a227513a8b93"
    },
    {
      "cell_type": "code",
      "execution_count": 72,
      "metadata": {
        "tags": []
      },
      "outputs": [],
      "source": [
        "np.concatenate([a,b],axis=3)"
      ],
      "id": "78d1a51c-89fe-4cb2-a153-14d449449c5e"
    },
    {
      "cell_type": "markdown",
      "metadata": {},
      "source": [
        "-   axis=3까지는 불가능\n",
        "\n",
        "`-` 뭔가 나름의 방식으로 합쳐지는것 같은데, 원리를 잘 모르겠음\n",
        "\n",
        "(분석) `np.concatenate([a,b],axis=??)`에서 ?? 의 숫자를 바꿔가면서\n",
        "결과의 차원만 관찰해보자."
      ],
      "id": "aa524f03-8c43-4837-82b1-a35e5159c179"
    },
    {
      "cell_type": "code",
      "execution_count": 92,
      "metadata": {
        "tags": []
      },
      "outputs": [
        {
          "output_type": "stream",
          "name": "stdout",
          "text": [
            "입력: (2, 3, 4) concat (2, 3, 4)\n",
            "출력: (4, 3, 4) -- axis=0"
          ]
        }
      ],
      "source": [
        "print(f'입력: {a.shape} concat {b.shape}')\n",
        "print(f'출력: {np.concatenate([a,b],axis=0).shape} -- axis=0')"
      ],
      "id": "1c43ff8f-be1d-40cf-880d-cc03e1745738"
    },
    {
      "cell_type": "code",
      "execution_count": 93,
      "metadata": {
        "tags": []
      },
      "outputs": [
        {
          "output_type": "stream",
          "name": "stdout",
          "text": [
            "입력: (2, 3, 4) concat (2, 3, 4)\n",
            "출력: (2, 6, 4) -- axis=1"
          ]
        }
      ],
      "source": [
        "print(f'입력: {a.shape} concat {b.shape}')\n",
        "print(f'출력: {np.concatenate([a,b],axis=1).shape} -- axis=1')"
      ],
      "id": "2fb91e22-6151-4bd2-808a-ae63c0aec953"
    },
    {
      "cell_type": "code",
      "execution_count": 94,
      "metadata": {
        "tags": []
      },
      "outputs": [
        {
          "output_type": "stream",
          "name": "stdout",
          "text": [
            "입력: (2, 3, 4) concat (2, 3, 4)\n",
            "출력: (2, 3, 8) -- axis=2"
          ]
        }
      ],
      "source": [
        "print(f'입력: {a.shape} concat {b.shape}')\n",
        "print(f'출력: {np.concatenate([a,b],axis=2).shape} -- axis=2')"
      ],
      "id": "6233f000-db0a-4e85-8408-b50ce62aafbf"
    },
    {
      "cell_type": "markdown",
      "metadata": {},
      "source": [
        "`-` 2D의 경우도 재해석"
      ],
      "id": "f5cde3a0-3668-4754-9d0b-cf0c5c9614fc"
    },
    {
      "cell_type": "code",
      "execution_count": 96,
      "metadata": {
        "tags": []
      },
      "outputs": [],
      "source": [
        "a = np.array([1,2,3,4,5,6]).reshape(3,2)\n",
        "b = -a                         "
      ],
      "id": "f8ab1d79-c4cb-44ce-a555-a5ac18b5eddc"
    },
    {
      "cell_type": "markdown",
      "metadata": {},
      "source": [
        "좌우로 합치고 싶다면?? (3,2) concat (3,2) = (3,4) 가 되어야함 –\\> 그러면\n",
        "차원의 두번째 숫자가 바뀌어야함."
      ],
      "id": "98692cb0-cd64-4894-ae7f-547b7e786ff3"
    },
    {
      "cell_type": "code",
      "execution_count": 99,
      "metadata": {
        "tags": []
      },
      "outputs": [],
      "source": [
        "np.concatenate([a,b],axis=1)"
      ],
      "id": "f6f9be1b-cdde-4aef-a845-979755a5495a"
    },
    {
      "cell_type": "markdown",
      "metadata": {},
      "source": [
        "위아래로 합치고 싶다면? (3,2) concat (3,2) = (6,2) 가 되어야함 –\\>\n",
        "그러면 차원의 첫번째 숫자가 바뀌어야함."
      ],
      "id": "3bdd668e-7e07-430a-b1b6-e6ecddb10df6"
    },
    {
      "cell_type": "code",
      "execution_count": 100,
      "metadata": {
        "tags": []
      },
      "outputs": [],
      "source": [
        "np.concatenate([a,b],axis=0)"
      ],
      "id": "563d3937-7955-44ba-9837-3a895ab17ba7"
    },
    {
      "cell_type": "markdown",
      "metadata": {},
      "source": [
        "`-` axis=-1로 넣는 경우도 있음.."
      ],
      "id": "34fd4363-11cc-4a32-b0f5-4271a480f73f"
    },
    {
      "cell_type": "code",
      "execution_count": 101,
      "metadata": {
        "tags": []
      },
      "outputs": [],
      "source": [
        "a = np.arange(2*3*4).reshape(2,3,4)\n",
        "b = -a"
      ],
      "id": "e10d7602-ae7b-4d63-945a-910ba18d9a4c"
    },
    {
      "cell_type": "code",
      "execution_count": 102,
      "metadata": {
        "tags": []
      },
      "outputs": [],
      "source": [
        "a.shape, b.shape"
      ],
      "id": "f6f67a3b-fcc4-43fb-ad4c-7b005a1f0a30"
    },
    {
      "cell_type": "markdown",
      "metadata": {},
      "source": [
        "(2,3,4) concat (2,3,4) = (2,3,8) 을 만들고 싶다면?? –\\>\n",
        "세번째(axis=2)축이 바뀌어야함."
      ],
      "id": "1370e253-3f46-473e-8765-18fbcef28797"
    },
    {
      "cell_type": "code",
      "execution_count": 108,
      "metadata": {
        "tags": []
      },
      "outputs": [],
      "source": [
        "np.concatenate([a,b],axis=2).shape"
      ],
      "id": "7f749144-9654-46b5-9756-775fcc0f419e"
    },
    {
      "cell_type": "markdown",
      "metadata": {},
      "source": [
        "(2,3,4) concat (2,3,4) = (2,3,8) 을 만들고 싶다면?? –\\>\n",
        "마지막(axis=-1)축이 바껴야함."
      ],
      "id": "080a84ab-1731-4077-9c19-a7e79266ca15"
    },
    {
      "cell_type": "code",
      "execution_count": 109,
      "metadata": {
        "tags": []
      },
      "outputs": [],
      "source": [
        "np.concatenate([a,b],axis=-1).shape"
      ],
      "id": "7ff07420-dc97-4f3f-b3d2-17e60aaa7fad"
    },
    {
      "cell_type": "markdown",
      "metadata": {},
      "source": [
        "(2,3,4) concat (2,3,4) = (2,6,4) 을 만들고 싶다면?? –\\> 마지막에서\n",
        "두번째 (axis=-2)축이 바껴야함."
      ],
      "id": "01f26393-12e4-4694-bf40-3de2c0df88af"
    },
    {
      "cell_type": "code",
      "execution_count": 113,
      "metadata": {
        "tags": []
      },
      "outputs": [],
      "source": [
        "np.concatenate([a,b],axis=-2).shape"
      ],
      "id": "34c06461-9ebb-4c1f-9f4f-e85a24fb525a"
    },
    {
      "cell_type": "markdown",
      "metadata": {},
      "source": [
        "(2,3,4) concat (2,3,4) = (4,3,4) 을 만들고 싶다면?? –\\> 마지막에서\n",
        "세번째 (axis=-3)축이 바껴야함."
      ],
      "id": "d9ad9387-9243-4e6f-86a8-ca017ea59fde"
    },
    {
      "cell_type": "code",
      "execution_count": 114,
      "metadata": {
        "tags": []
      },
      "outputs": [],
      "source": [
        "np.concatenate([a,b],axis=-3).shape"
      ],
      "id": "daf74475-2aef-4e49-8c3f-f65ba40f0056"
    },
    {
      "cell_type": "markdown",
      "metadata": {},
      "source": [
        "`-` 2D의 경우에도 axis=-1, axis=-2를 적용가능"
      ],
      "id": "cbc56d5d-9c28-43bd-9252-be83b1624367"
    },
    {
      "cell_type": "code",
      "execution_count": 121,
      "metadata": {
        "tags": []
      },
      "outputs": [],
      "source": [
        "a = np.array([1,2,3,4]).reshape(2,2)\n",
        "b = np.array([10,20]).reshape(2,1)"
      ],
      "id": "84508bbd-3601-44bf-82ce-28ce041dcbe3"
    },
    {
      "cell_type": "code",
      "execution_count": 122,
      "metadata": {
        "tags": []
      },
      "outputs": [],
      "source": [
        "a,b"
      ],
      "id": "43cc5e53-72dc-488a-994e-075f034aba57"
    },
    {
      "cell_type": "code",
      "execution_count": 124,
      "metadata": {
        "tags": []
      },
      "outputs": [],
      "source": [
        "np.concatenate([a,b],axis=-1)"
      ],
      "id": "823ce03b-c3cc-414c-834d-80a8f01aa99a"
    },
    {
      "cell_type": "code",
      "execution_count": 128,
      "metadata": {
        "tags": []
      },
      "outputs": [],
      "source": [
        "np.concatenate([b.T,a],axis=-2)"
      ],
      "id": "c8c182af-2c95-4455-9985-8c01876392bf"
    },
    {
      "cell_type": "markdown",
      "metadata": {},
      "source": [
        "## B. `np.stack`\n",
        "\n",
        "`-` 혹시 아래가 가능할까?\n",
        "\n",
        "-   (3,) concat (3,) = (3,2)"
      ],
      "id": "1de64917-5cc2-42c9-bd95-55fc21bebfee"
    },
    {
      "cell_type": "code",
      "execution_count": 135,
      "metadata": {
        "tags": []
      },
      "outputs": [],
      "source": [
        "a = np.array([1,2,3])\n",
        "b = -a "
      ],
      "id": "7825c573-c9ef-4184-bab1-5bb40b26c19c"
    },
    {
      "cell_type": "code",
      "execution_count": 136,
      "metadata": {
        "tags": []
      },
      "outputs": [],
      "source": [
        "a,b"
      ],
      "id": "46d493b4-82b3-4aff-9c2a-9658ff8f08c0"
    },
    {
      "cell_type": "code",
      "execution_count": 137,
      "metadata": {
        "tags": []
      },
      "outputs": [],
      "source": [
        "np.concatenate([a,b],axis=1)"
      ],
      "id": "b4f287df-e108-403a-a608-400bc13c97a2"
    },
    {
      "cell_type": "markdown",
      "metadata": {},
      "source": [
        "-   불가능\n",
        "\n",
        "`-` 아래와 같은 방식은 가능"
      ],
      "id": "5a32bfa6-48e0-4756-a450-fe38af6ff09a"
    },
    {
      "cell_type": "code",
      "execution_count": 144,
      "metadata": {
        "tags": []
      },
      "outputs": [],
      "source": [
        "np.concatenate([a.reshape(3,1), b.reshape(3,1)],axis=1)"
      ],
      "id": "133f71f1-df0f-4519-8af7-d205e00c0d69"
    },
    {
      "cell_type": "markdown",
      "metadata": {},
      "source": [
        "`-` 위의 과정을 줄여서 아래와 같이 할 수 있음."
      ],
      "id": "f3027d9b-f50a-496e-9d40-ed484820b71c"
    },
    {
      "cell_type": "code",
      "execution_count": 146,
      "metadata": {
        "tags": []
      },
      "outputs": [],
      "source": [
        "np.stack([a,b],axis=1)"
      ],
      "id": "e73b0f22-36a0-4958-8215-c39373121fc4"
    },
    {
      "cell_type": "markdown",
      "metadata": {},
      "source": [
        "`-` 아래와 같은 결합도 가능"
      ],
      "id": "5dc2c5e8-c13d-455c-9b1a-485b5e83268b"
    },
    {
      "cell_type": "code",
      "execution_count": 147,
      "metadata": {
        "tags": []
      },
      "outputs": [],
      "source": [
        "np.stack([a,b],axis=0)"
      ],
      "id": "d16512eb-610f-4adc-b4ee-af543e482477"
    },
    {
      "cell_type": "markdown",
      "metadata": {},
      "source": [
        "`-` stack에서 axis의 역할에 대한 분석"
      ],
      "id": "96e1a5d9-4f1b-4704-b96f-4e8b99c0428b"
    },
    {
      "cell_type": "code",
      "execution_count": 173,
      "metadata": {
        "tags": []
      },
      "outputs": [],
      "source": [
        "a = np.arange(5*3*4).reshape(5,3,4)\n",
        "b = -a"
      ],
      "id": "59dc30ff-b14c-430b-9f8a-7d4df9ecd66d"
    },
    {
      "cell_type": "code",
      "execution_count": 174,
      "metadata": {
        "tags": []
      },
      "outputs": [
        {
          "output_type": "stream",
          "name": "stdout",
          "text": [
            "입력: (5, 3, 4) stack (5, 3, 4)\n",
            "출력: (2, 5, 3, 4) -- axis=0\n",
            "출력: (5, 2, 3, 4) -- axis=1\n",
            "출력: (5, 3, 2, 4) -- axis=2\n",
            "출력: (5, 3, 4, 2) -- axis=3"
          ]
        }
      ],
      "source": [
        "print(f'입력: {a.shape} stack {b.shape}')\n",
        "print(f'출력: {np.stack([a,b],axis=0).shape} -- axis=0')\n",
        "print(f'출력: {np.stack([a,b],axis=1).shape} -- axis=1')\n",
        "print(f'출력: {np.stack([a,b],axis=2).shape} -- axis=2')\n",
        "print(f'출력: {np.stack([a,b],axis=3).shape} -- axis=3')\n",
        "#print(f'출력: {np.stack([a,b],axis=4).shape} -- axis=4')"
      ],
      "id": "c2255634-f456-4e44-9092-def9dfc93595"
    },
    {
      "cell_type": "markdown",
      "metadata": {},
      "source": [
        "`-` 다시 `(3,) stack (3,)` 상황을 이해하여보면"
      ],
      "id": "5d967d49-e975-44f3-8a35-ce414ed5de41"
    },
    {
      "cell_type": "code",
      "execution_count": 175,
      "metadata": {
        "tags": []
      },
      "outputs": [],
      "source": [
        "a = np.array([1,2,3])\n",
        "b = -a"
      ],
      "id": "3f5990c0-f744-4015-9fd5-6490f111a9ee"
    },
    {
      "cell_type": "markdown",
      "metadata": {},
      "source": [
        "a,b 모두 1차원이지만 이를 위아래로 붙여서 2차원으로 만들고 싶어. 즉\n",
        "`(3,) stack (3,) = (2,3)` 을 만들고 싶음. -\\> 첫번째 위치에(axis=0)에\n",
        "축을 추가해야겠음."
      ],
      "id": "d78fb10c-5c16-43a1-af8a-d56aac58d0ee"
    },
    {
      "cell_type": "code",
      "execution_count": 179,
      "metadata": {
        "tags": []
      },
      "outputs": [],
      "source": [
        "np.stack([a,b],axis=0)"
      ],
      "id": "2723ff46-eba7-44c1-b46a-ad40c8f77dc2"
    },
    {
      "cell_type": "markdown",
      "metadata": {},
      "source": [
        "a,b 모두 1차원이지만 이를 좌우로 붙여서 2차원으로 만들고 싶어. 즉\n",
        "`(3,) stack (3,) = (3,2)` 을 만들고 싶음. -\\> 두번째 위치에(axis=1)에\n",
        "축을 추가해야겠음."
      ],
      "id": "be668dd1-fa8e-4fe9-b93f-bd1249474eee"
    },
    {
      "cell_type": "code",
      "execution_count": 180,
      "metadata": {
        "tags": []
      },
      "outputs": [],
      "source": [
        "np.stack([a,b],axis=1)"
      ],
      "id": "f3516ce6-a26c-4ec5-a932-19d573f98e11"
    },
    {
      "cell_type": "markdown",
      "metadata": {},
      "source": [
        "note: `np.concatenate`은 축의 총 갯수를 유지하면서 결합, `np.stack`은\n",
        "축의 갯수를 하나 증가시키면서 결합\n",
        "\n",
        "## C. `sum`\n",
        "\n",
        "`-` 1차원"
      ],
      "id": "2e6240f7-c744-4276-9355-dbe17969444a"
    },
    {
      "cell_type": "code",
      "execution_count": 182,
      "metadata": {
        "tags": []
      },
      "outputs": [],
      "source": [
        "a = np.array([1,2,3])\n",
        "a"
      ],
      "id": "907d503f-13ac-4575-a470-50a9a3be1c99"
    },
    {
      "cell_type": "code",
      "execution_count": 183,
      "metadata": {
        "tags": []
      },
      "outputs": [],
      "source": [
        "np.sum(a)"
      ],
      "id": "473ea85b-36b2-430d-83c0-fe96cd6fd38b"
    },
    {
      "cell_type": "code",
      "execution_count": 186,
      "metadata": {
        "tags": []
      },
      "outputs": [],
      "source": [
        "a.sum() "
      ],
      "id": "7ee3a955-b9fa-4ae3-83c2-ba11d9a0f765"
    },
    {
      "cell_type": "code",
      "execution_count": 187,
      "metadata": {
        "tags": []
      },
      "outputs": [],
      "source": [
        "a.sum(axis=0)"
      ],
      "id": "eb63faf4-1b58-4bc2-a954-5a15c20541f6"
    },
    {
      "cell_type": "markdown",
      "metadata": {},
      "source": [
        "`-` 2차원"
      ],
      "id": "b625c500-5066-4933-b3f4-58d96aab96ed"
    },
    {
      "cell_type": "code",
      "execution_count": 188,
      "metadata": {
        "tags": []
      },
      "outputs": [],
      "source": [
        "a = np.array([1,2,3,4,5,6]).reshape(3,2)\n",
        "a"
      ],
      "id": "4985effa-a133-43dc-954a-5856bb0dd620"
    },
    {
      "cell_type": "code",
      "execution_count": 192,
      "metadata": {
        "tags": []
      },
      "outputs": [],
      "source": [
        "a.sum() # 전체합: 1+2+3+4+5+6"
      ],
      "id": "3b4b4072-0619-45e6-851f-826df27ecfb2"
    },
    {
      "cell_type": "code",
      "execution_count": 197,
      "metadata": {
        "tags": []
      },
      "outputs": [],
      "source": [
        "a.sum(axis=0) # 1열의합, 2열의합"
      ],
      "id": "fcc3966e-a19f-4fd1-a26a-ecdbb96dff9e"
    },
    {
      "cell_type": "code",
      "execution_count": 198,
      "metadata": {
        "tags": []
      },
      "outputs": [],
      "source": [
        "a.sum(axis=1) # 1행의합, 2행의합, 3행의합"
      ],
      "id": "ac51431c-641f-481d-b950-2f7a7b80e04f"
    },
    {
      "cell_type": "markdown",
      "metadata": {},
      "source": [
        "a를 2차원 array모양으로 만들고 axis을 잘 써주면 row-wise로 합을 구하거나\n",
        "column-wise로 합을 구하기 좋음.\n",
        "\n",
        "`-` 넘파이 특수기능 `.sum()`에서 axis의 의미를 알아보자."
      ],
      "id": "e9204d0e-43ce-415c-93d8-e738e6fb0cfc"
    },
    {
      "cell_type": "code",
      "execution_count": 202,
      "metadata": {
        "tags": []
      },
      "outputs": [],
      "source": [
        "a.shape, a.sum(axis=0).shape, a.sum(axis=1).shape"
      ],
      "id": "0ee8c503-c26c-4dc9-b8b7-79db4fc97c5b"
    },
    {
      "cell_type": "markdown",
      "metadata": {},
      "source": [
        "`-` 연습"
      ],
      "id": "bd13ef9e-0c02-444c-8489-12abdc1adf52"
    },
    {
      "cell_type": "code",
      "execution_count": 206,
      "metadata": {
        "tags": []
      },
      "outputs": [],
      "source": [
        "a = np.arange(10).reshape(5,2)\n",
        "a"
      ],
      "id": "3280b44f-78a2-4571-9f9b-e7db6ffbe67b"
    },
    {
      "cell_type": "markdown",
      "metadata": {},
      "source": [
        "행별로 합을 구하고 싶음 -\\> (5,2)의 차원이 (5,) 와 같이 되어야함. -\\>\n",
        "두번째축이 사라져야함"
      ],
      "id": "a33d9403-46c6-477f-b50c-a59f818b95b3"
    },
    {
      "cell_type": "code",
      "execution_count": 207,
      "metadata": {
        "tags": []
      },
      "outputs": [],
      "source": [
        "a.sum(axis=1)"
      ],
      "id": "fc6e80d7-9931-4e82-930f-e344d6e4ffc7"
    },
    {
      "cell_type": "markdown",
      "metadata": {},
      "source": [
        "열별로 합을 구하고 싶음 -\\> (5,2)의 차원이 (2,) 와 같이 되어야함. -\\>\n",
        "첫번째축이 사라져야함"
      ],
      "id": "a0784b5b-ac7f-4564-b668-1a6bcd2ac07c"
    },
    {
      "cell_type": "code",
      "execution_count": 208,
      "metadata": {
        "tags": []
      },
      "outputs": [],
      "source": [
        "a.sum(axis=0)"
      ],
      "id": "fa0c9ce7-207c-4adf-8652-c0e13e2ebc3f"
    },
    {
      "cell_type": "markdown",
      "metadata": {},
      "source": [
        "a의 모든 원소의 합을 구하고 싶다면? -\\> (5,2)차원이 ()와 같이 되어야함\n",
        "-\\> 첫번째축과 두번째축이 다 사라져야함"
      ],
      "id": "7bca4212-d4a7-4c96-8cf5-1f7e6c1f24a5"
    },
    {
      "cell_type": "code",
      "execution_count": 210,
      "metadata": {
        "tags": []
      },
      "outputs": [],
      "source": [
        "a.sum(axis=(0,1))"
      ],
      "id": "14d8fd26-cf92-4a87-869a-d5a0fcc32a06"
    },
    {
      "cell_type": "code",
      "execution_count": 212,
      "metadata": {
        "tags": []
      },
      "outputs": [],
      "source": [
        "a.sum() # 아 이것은 사실 a.sum(axis=(0,1)) 의 생략된 표현이었군!"
      ],
      "id": "3d28fb01-1a07-4aec-8e1f-08a177002986"
    },
    {
      "cell_type": "markdown",
      "metadata": {},
      "source": [
        "## D. `mean`, `std`, `max`, `min`, `prod`\n",
        "\n",
        "`-` 모두 sum과 비슷한 논리로 mean, std, max, min, prod 을 구할 수 있음"
      ],
      "id": "2faecbd2-8bf9-4a27-91b8-3d1402abfa93"
    },
    {
      "cell_type": "code",
      "execution_count": 223,
      "metadata": {
        "tags": []
      },
      "outputs": [],
      "source": [
        "a = np.array([1,2,3,4,5,6,7,8]).reshape(4,2)\n",
        "a"
      ],
      "id": "67dedd9d-5bc7-40b2-bf2b-b52ecd140bbe"
    },
    {
      "cell_type": "code",
      "execution_count": 239,
      "metadata": {
        "tags": []
      },
      "outputs": [],
      "source": [
        "a.mean(axis=0), a.std(axis=0), a.max(axis=0), a.min(axis=0), a.prod(axis=0)"
      ],
      "id": "10856cc3-c1a3-4a74-9ca2-159e41fa334f"
    },
    {
      "cell_type": "code",
      "execution_count": 243,
      "metadata": {
        "tags": []
      },
      "outputs": [],
      "source": [
        "a.mean(axis=1), a.std(axis=1), a.max(axis=1), a.min(axis=1), a.prod(axis=1)"
      ],
      "id": "1482e086-ec3c-40f4-b5df-aca6270b2fcd"
    },
    {
      "cell_type": "markdown",
      "metadata": {},
      "source": [
        "## E. `argmax`, `argmin`\n",
        "\n",
        "`-` 1차원"
      ],
      "id": "e49fb455-758b-47b4-ad9b-a1e47e809164"
    },
    {
      "cell_type": "code",
      "execution_count": 262,
      "metadata": {
        "tags": []
      },
      "outputs": [],
      "source": [
        "a = np.array([22,-2,3,10,4])\n",
        "a"
      ],
      "id": "ee41884d-b519-4eff-98bb-d9f0905b1299"
    },
    {
      "cell_type": "code",
      "execution_count": 265,
      "metadata": {
        "tags": []
      },
      "outputs": [],
      "source": [
        "a.argmax(),a.argmin()"
      ],
      "id": "ba43282c-bb19-4a42-a23c-686994c73461"
    },
    {
      "cell_type": "markdown",
      "metadata": {},
      "source": [
        "`-` 2차원"
      ],
      "id": "ead36933-daba-4b8e-b3b6-4b2f6755da4d"
    },
    {
      "cell_type": "code",
      "execution_count": 266,
      "metadata": {
        "tags": []
      },
      "outputs": [],
      "source": [
        "np.random.seed(43052)\n",
        "a = np.random.rand(10).reshape(5,2)\n",
        "a"
      ],
      "id": "6366f890-e628-468b-9c60-0a8f68bf864e"
    },
    {
      "cell_type": "code",
      "execution_count": 267,
      "metadata": {
        "tags": []
      },
      "outputs": [],
      "source": [
        "a.argmax(axis=0),a.argmin(axis=0)"
      ],
      "id": "8734766d-ad0d-4d5b-885f-b7ac69c80d0c"
    },
    {
      "cell_type": "code",
      "execution_count": 268,
      "metadata": {
        "tags": []
      },
      "outputs": [],
      "source": [
        "a.argmax(axis=1),a.argmin(axis=1)"
      ],
      "id": "3be89b9c-1865-43ad-b62d-58b1f777efbf"
    },
    {
      "cell_type": "markdown",
      "metadata": {},
      "source": [
        "## F. `cumsum`, `cumprod`\n",
        "\n",
        "`-` 1차원"
      ],
      "id": "e8a43887-1735-4eee-b2b1-5ca7bb6405c9"
    },
    {
      "cell_type": "code",
      "execution_count": 270,
      "metadata": {
        "tags": []
      },
      "outputs": [],
      "source": [
        "a = np.array([1,2,3,4])\n",
        "a"
      ],
      "id": "54ad9906-e711-45bc-a02a-7a4b66a75e7e"
    },
    {
      "cell_type": "code",
      "execution_count": 273,
      "metadata": {
        "tags": []
      },
      "outputs": [],
      "source": [
        "np.cumsum(a), a.cumsum()"
      ],
      "id": "19870e14-16a3-46ae-80aa-9f14ad14e3a5"
    },
    {
      "cell_type": "code",
      "execution_count": 274,
      "metadata": {
        "tags": []
      },
      "outputs": [],
      "source": [
        "np.cumprod(a), a.cumprod()"
      ],
      "id": "f538a4c1-a0ff-40ea-94d3-cc240ab04eda"
    },
    {
      "cell_type": "markdown",
      "metadata": {},
      "source": [
        "`-` 2차원"
      ],
      "id": "570bdfbb-e33e-4f25-9372-9f16c0e9947d"
    },
    {
      "cell_type": "code",
      "execution_count": 276,
      "metadata": {
        "tags": []
      },
      "outputs": [],
      "source": [
        "a = np.array([1,2,3,4,5,6,7,8,9,10,11,12]).reshape(4,3)\n",
        "a"
      ],
      "id": "7f97edda-99e9-4cc9-b0d0-629f6c37b92c"
    },
    {
      "cell_type": "code",
      "execution_count": 280,
      "metadata": {
        "tags": []
      },
      "outputs": [],
      "source": [
        "a.cumsum(axis=0),a.cumsum(axis=1),a.cumprod(axis=0),a.cumprod(axis=1)"
      ],
      "id": "44df9f4a-c39f-4727-9216-82c9c0d5b490"
    },
    {
      "cell_type": "markdown",
      "metadata": {},
      "source": [
        "## G. `diff`\n",
        "\n",
        "`-` 1차원 차분"
      ],
      "id": "c721b440-60a6-4ee4-b74b-1446cc7541d9"
    },
    {
      "cell_type": "code",
      "execution_count": 281,
      "metadata": {
        "tags": []
      },
      "outputs": [],
      "source": [
        "a = np.array([1,2,4,7,15])\n",
        "a"
      ],
      "id": "31ae0a2b-9b26-47e2-b405-f7d671a7e301"
    },
    {
      "cell_type": "code",
      "execution_count": 282,
      "metadata": {
        "tags": []
      },
      "outputs": [],
      "source": [
        "np.diff(a)"
      ],
      "id": "498509b9-71dd-40dd-b92b-d641e5c2e1df"
    },
    {
      "cell_type": "code",
      "execution_count": 284,
      "metadata": {
        "tags": []
      },
      "outputs": [],
      "source": [
        "np.diff(a,prepend=100)"
      ],
      "id": "e60e129d-c13c-4b12-bdaa-b01dc422f294"
    },
    {
      "cell_type": "code",
      "execution_count": 285,
      "metadata": {
        "tags": []
      },
      "outputs": [],
      "source": [
        "np.diff(a,prepend=a[0])"
      ],
      "id": "849946c2-7fbb-4d0a-977d-e7f217ac1619"
    },
    {
      "cell_type": "code",
      "execution_count": 286,
      "metadata": {
        "tags": []
      },
      "outputs": [],
      "source": [
        "np.diff(a,append=100)"
      ],
      "id": "1b15a221-9154-4190-b010-9859a673e67f"
    },
    {
      "cell_type": "code",
      "execution_count": 288,
      "metadata": {
        "tags": []
      },
      "outputs": [],
      "source": [
        "np.diff(a,append=a[-1])"
      ],
      "id": "fafdf7a2-5fbd-4983-978a-7d93e09c1685"
    },
    {
      "cell_type": "markdown",
      "metadata": {},
      "source": [
        "`-` 2차원 array의 미분"
      ],
      "id": "dc496b5b-136b-491c-bbf3-eefee9473c24"
    },
    {
      "cell_type": "code",
      "execution_count": 289,
      "metadata": {
        "tags": []
      },
      "outputs": [],
      "source": [
        "a = np.arange(24).reshape(4,6)\n",
        "a"
      ],
      "id": "26ad9408-a655-4890-89ff-dc3e4b8f9df0"
    },
    {
      "cell_type": "code",
      "execution_count": 291,
      "metadata": {
        "tags": []
      },
      "outputs": [],
      "source": [
        "np.diff(a,axis=0) # 열별로 연산이 적용"
      ],
      "id": "6cc50a8a-9ce5-4453-a5fd-d4207af1582a"
    },
    {
      "cell_type": "code",
      "execution_count": 292,
      "metadata": {
        "tags": []
      },
      "outputs": [],
      "source": [
        "np.diff(a,axis=1) # 행별로 연산이 적용"
      ],
      "id": "e6e98cda-a200-4663-8121-a7801a4d1d1a"
    }
  ],
  "nbformat": 4,
  "nbformat_minor": 5,
  "metadata": {
    "kernelspec": {
      "name": "python3",
      "display_name": "Python 3 (ipykernel)",
      "language": "python"
    },
    "language_info": {
      "name": "python",
      "codemirror_mode": {
        "name": "ipython",
        "version": "3"
      },
      "file_extension": ".py",
      "mimetype": "text/x-python",
      "nbconvert_exporter": "python",
      "pygments_lexer": "ipython3",
      "version": "3.10.13"
    }
  }
}